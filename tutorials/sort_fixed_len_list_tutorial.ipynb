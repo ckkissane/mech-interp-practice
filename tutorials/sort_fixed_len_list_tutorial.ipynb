{
  "nbformat": 4,
  "nbformat_minor": 0,
  "metadata": {
    "colab": {
      "provenance": [],
      "collapsed_sections": [
        "JeENCT8b1kAv"
      ],
      "gpuType": "T4",
      "toc_visible": true,
      "authorship_tag": "ABX9TyORuDxPozug68Ln7YM3uNpd"
    },
    "kernelspec": {
      "name": "python3",
      "display_name": "Python 3"
    },
    "language_info": {
      "name": "python"
    },
    "accelerator": "GPU",
    "widgets": {
      "application/vnd.jupyter.widget-state+json": {
        "939e087bd6824317a7f48279ade4037c": {
          "model_module": "@jupyter-widgets/controls",
          "model_name": "HBoxModel",
          "model_module_version": "1.5.0",
          "state": {
            "_dom_classes": [],
            "_model_module": "@jupyter-widgets/controls",
            "_model_module_version": "1.5.0",
            "_model_name": "HBoxModel",
            "_view_count": null,
            "_view_module": "@jupyter-widgets/controls",
            "_view_module_version": "1.5.0",
            "_view_name": "HBoxView",
            "box_style": "",
            "children": [
              "IPY_MODEL_2d544a62cfed42b4addddce5a340b5a8",
              "IPY_MODEL_9570448c114c49dcb2b77690ec164e23",
              "IPY_MODEL_c4c02ab55ee84f9887fdab5d31b2242a"
            ],
            "layout": "IPY_MODEL_b8df6fd4b33e409796e72fe152ff5f1c"
          }
        },
        "2d544a62cfed42b4addddce5a340b5a8": {
          "model_module": "@jupyter-widgets/controls",
          "model_name": "HTMLModel",
          "model_module_version": "1.5.0",
          "state": {
            "_dom_classes": [],
            "_model_module": "@jupyter-widgets/controls",
            "_model_module_version": "1.5.0",
            "_model_name": "HTMLModel",
            "_view_count": null,
            "_view_module": "@jupyter-widgets/controls",
            "_view_module_version": "1.5.0",
            "_view_name": "HTMLView",
            "description": "",
            "description_tooltip": null,
            "layout": "IPY_MODEL_876cbab01ccc4212b149ab61ed29b357",
            "placeholder": "​",
            "style": "IPY_MODEL_bc5be23ffeaa48fc9e9f678f94d8e62e",
            "value": "100%"
          }
        },
        "9570448c114c49dcb2b77690ec164e23": {
          "model_module": "@jupyter-widgets/controls",
          "model_name": "FloatProgressModel",
          "model_module_version": "1.5.0",
          "state": {
            "_dom_classes": [],
            "_model_module": "@jupyter-widgets/controls",
            "_model_module_version": "1.5.0",
            "_model_name": "FloatProgressModel",
            "_view_count": null,
            "_view_module": "@jupyter-widgets/controls",
            "_view_module_version": "1.5.0",
            "_view_name": "ProgressView",
            "bar_style": "success",
            "description": "",
            "description_tooltip": null,
            "layout": "IPY_MODEL_a011d817c679480e9f6b80eb873ce876",
            "max": 10000,
            "min": 0,
            "orientation": "horizontal",
            "style": "IPY_MODEL_24129540351e4cc180c0e3c50b90605e",
            "value": 10000
          }
        },
        "c4c02ab55ee84f9887fdab5d31b2242a": {
          "model_module": "@jupyter-widgets/controls",
          "model_name": "HTMLModel",
          "model_module_version": "1.5.0",
          "state": {
            "_dom_classes": [],
            "_model_module": "@jupyter-widgets/controls",
            "_model_module_version": "1.5.0",
            "_model_name": "HTMLModel",
            "_view_count": null,
            "_view_module": "@jupyter-widgets/controls",
            "_view_module_version": "1.5.0",
            "_view_name": "HTMLView",
            "description": "",
            "description_tooltip": null,
            "layout": "IPY_MODEL_a47a8837f1e54e3e8d97de97cc923b7a",
            "placeholder": "​",
            "style": "IPY_MODEL_d8140474916e49bbb600f44ddb2caa98",
            "value": " 10000/10000 [01:01&lt;00:00, 160.13it/s]"
          }
        },
        "b8df6fd4b33e409796e72fe152ff5f1c": {
          "model_module": "@jupyter-widgets/base",
          "model_name": "LayoutModel",
          "model_module_version": "1.2.0",
          "state": {
            "_model_module": "@jupyter-widgets/base",
            "_model_module_version": "1.2.0",
            "_model_name": "LayoutModel",
            "_view_count": null,
            "_view_module": "@jupyter-widgets/base",
            "_view_module_version": "1.2.0",
            "_view_name": "LayoutView",
            "align_content": null,
            "align_items": null,
            "align_self": null,
            "border": null,
            "bottom": null,
            "display": null,
            "flex": null,
            "flex_flow": null,
            "grid_area": null,
            "grid_auto_columns": null,
            "grid_auto_flow": null,
            "grid_auto_rows": null,
            "grid_column": null,
            "grid_gap": null,
            "grid_row": null,
            "grid_template_areas": null,
            "grid_template_columns": null,
            "grid_template_rows": null,
            "height": null,
            "justify_content": null,
            "justify_items": null,
            "left": null,
            "margin": null,
            "max_height": null,
            "max_width": null,
            "min_height": null,
            "min_width": null,
            "object_fit": null,
            "object_position": null,
            "order": null,
            "overflow": null,
            "overflow_x": null,
            "overflow_y": null,
            "padding": null,
            "right": null,
            "top": null,
            "visibility": null,
            "width": null
          }
        },
        "876cbab01ccc4212b149ab61ed29b357": {
          "model_module": "@jupyter-widgets/base",
          "model_name": "LayoutModel",
          "model_module_version": "1.2.0",
          "state": {
            "_model_module": "@jupyter-widgets/base",
            "_model_module_version": "1.2.0",
            "_model_name": "LayoutModel",
            "_view_count": null,
            "_view_module": "@jupyter-widgets/base",
            "_view_module_version": "1.2.0",
            "_view_name": "LayoutView",
            "align_content": null,
            "align_items": null,
            "align_self": null,
            "border": null,
            "bottom": null,
            "display": null,
            "flex": null,
            "flex_flow": null,
            "grid_area": null,
            "grid_auto_columns": null,
            "grid_auto_flow": null,
            "grid_auto_rows": null,
            "grid_column": null,
            "grid_gap": null,
            "grid_row": null,
            "grid_template_areas": null,
            "grid_template_columns": null,
            "grid_template_rows": null,
            "height": null,
            "justify_content": null,
            "justify_items": null,
            "left": null,
            "margin": null,
            "max_height": null,
            "max_width": null,
            "min_height": null,
            "min_width": null,
            "object_fit": null,
            "object_position": null,
            "order": null,
            "overflow": null,
            "overflow_x": null,
            "overflow_y": null,
            "padding": null,
            "right": null,
            "top": null,
            "visibility": null,
            "width": null
          }
        },
        "bc5be23ffeaa48fc9e9f678f94d8e62e": {
          "model_module": "@jupyter-widgets/controls",
          "model_name": "DescriptionStyleModel",
          "model_module_version": "1.5.0",
          "state": {
            "_model_module": "@jupyter-widgets/controls",
            "_model_module_version": "1.5.0",
            "_model_name": "DescriptionStyleModel",
            "_view_count": null,
            "_view_module": "@jupyter-widgets/base",
            "_view_module_version": "1.2.0",
            "_view_name": "StyleView",
            "description_width": ""
          }
        },
        "a011d817c679480e9f6b80eb873ce876": {
          "model_module": "@jupyter-widgets/base",
          "model_name": "LayoutModel",
          "model_module_version": "1.2.0",
          "state": {
            "_model_module": "@jupyter-widgets/base",
            "_model_module_version": "1.2.0",
            "_model_name": "LayoutModel",
            "_view_count": null,
            "_view_module": "@jupyter-widgets/base",
            "_view_module_version": "1.2.0",
            "_view_name": "LayoutView",
            "align_content": null,
            "align_items": null,
            "align_self": null,
            "border": null,
            "bottom": null,
            "display": null,
            "flex": null,
            "flex_flow": null,
            "grid_area": null,
            "grid_auto_columns": null,
            "grid_auto_flow": null,
            "grid_auto_rows": null,
            "grid_column": null,
            "grid_gap": null,
            "grid_row": null,
            "grid_template_areas": null,
            "grid_template_columns": null,
            "grid_template_rows": null,
            "height": null,
            "justify_content": null,
            "justify_items": null,
            "left": null,
            "margin": null,
            "max_height": null,
            "max_width": null,
            "min_height": null,
            "min_width": null,
            "object_fit": null,
            "object_position": null,
            "order": null,
            "overflow": null,
            "overflow_x": null,
            "overflow_y": null,
            "padding": null,
            "right": null,
            "top": null,
            "visibility": null,
            "width": null
          }
        },
        "24129540351e4cc180c0e3c50b90605e": {
          "model_module": "@jupyter-widgets/controls",
          "model_name": "ProgressStyleModel",
          "model_module_version": "1.5.0",
          "state": {
            "_model_module": "@jupyter-widgets/controls",
            "_model_module_version": "1.5.0",
            "_model_name": "ProgressStyleModel",
            "_view_count": null,
            "_view_module": "@jupyter-widgets/base",
            "_view_module_version": "1.2.0",
            "_view_name": "StyleView",
            "bar_color": null,
            "description_width": ""
          }
        },
        "a47a8837f1e54e3e8d97de97cc923b7a": {
          "model_module": "@jupyter-widgets/base",
          "model_name": "LayoutModel",
          "model_module_version": "1.2.0",
          "state": {
            "_model_module": "@jupyter-widgets/base",
            "_model_module_version": "1.2.0",
            "_model_name": "LayoutModel",
            "_view_count": null,
            "_view_module": "@jupyter-widgets/base",
            "_view_module_version": "1.2.0",
            "_view_name": "LayoutView",
            "align_content": null,
            "align_items": null,
            "align_self": null,
            "border": null,
            "bottom": null,
            "display": null,
            "flex": null,
            "flex_flow": null,
            "grid_area": null,
            "grid_auto_columns": null,
            "grid_auto_flow": null,
            "grid_auto_rows": null,
            "grid_column": null,
            "grid_gap": null,
            "grid_row": null,
            "grid_template_areas": null,
            "grid_template_columns": null,
            "grid_template_rows": null,
            "height": null,
            "justify_content": null,
            "justify_items": null,
            "left": null,
            "margin": null,
            "max_height": null,
            "max_width": null,
            "min_height": null,
            "min_width": null,
            "object_fit": null,
            "object_position": null,
            "order": null,
            "overflow": null,
            "overflow_x": null,
            "overflow_y": null,
            "padding": null,
            "right": null,
            "top": null,
            "visibility": null,
            "width": null
          }
        },
        "d8140474916e49bbb600f44ddb2caa98": {
          "model_module": "@jupyter-widgets/controls",
          "model_name": "DescriptionStyleModel",
          "model_module_version": "1.5.0",
          "state": {
            "_model_module": "@jupyter-widgets/controls",
            "_model_module_version": "1.5.0",
            "_model_name": "DescriptionStyleModel",
            "_view_count": null,
            "_view_module": "@jupyter-widgets/base",
            "_view_module_version": "1.2.0",
            "_view_name": "StyleView",
            "description_width": ""
          }
        }
      }
    }
  },
  "cells": [
    {
      "cell_type": "markdown",
      "source": [
        "# Problem"
      ],
      "metadata": {
        "id": "KNmiZZcAeJcR"
      }
    },
    {
      "cell_type": "markdown",
      "source": [
        "Interpret a toy model trained to sort fixed-length lists."
      ],
      "metadata": {
        "id": "A-IMrvaQeKqL"
      }
    },
    {
      "cell_type": "markdown",
      "metadata": {
        "id": "JeENCT8b1kAv"
      },
      "source": [
        "# Setup\n",
        "(No need to read)"
      ]
    },
    {
      "cell_type": "code",
      "execution_count": 1,
      "metadata": {
        "id": "sxK_xiOO1kAv",
        "outputId": "3b8cd1c2-599d-4f42-edd0-934ae02c9187",
        "colab": {
          "base_uri": "https://localhost:8080/",
          "height": 0
        }
      },
      "outputs": [
        {
          "output_type": "stream",
          "name": "stdout",
          "text": [
            "Running as a Colab notebook\n",
            "Looking in indexes: https://pypi.org/simple, https://us-python.pkg.dev/colab-wheels/public/simple/\n",
            "Collecting git+https://github.com/neelnanda-io/TransformerLens.git\n",
            "  Cloning https://github.com/neelnanda-io/TransformerLens.git to /tmp/pip-req-build-4m8z9r49\n",
            "  Running command git clone --filter=blob:none --quiet https://github.com/neelnanda-io/TransformerLens.git /tmp/pip-req-build-4m8z9r49\n",
            "  Resolved https://github.com/neelnanda-io/TransformerLens.git to commit ae32fa54ad40cb2c3f3a60f1837d0b4899c8daae\n",
            "  Installing build dependencies ... \u001b[?25l\u001b[?25hdone\n",
            "  Getting requirements to build wheel ... \u001b[?25l\u001b[?25hdone\n",
            "  Preparing metadata (pyproject.toml) ... \u001b[?25l\u001b[?25hdone\n",
            "Collecting datasets>=2.7.1 (from transformer-lens==0.0.0)\n",
            "  Downloading datasets-2.12.0-py3-none-any.whl (474 kB)\n",
            "\u001b[2K     \u001b[90m━━━━━━━━━━━━━━━━━━━━━━━━━━━━━━━━━━━━━━\u001b[0m \u001b[32m474.6/474.6 kB\u001b[0m \u001b[31m10.1 MB/s\u001b[0m eta \u001b[36m0:00:00\u001b[0m\n",
            "\u001b[?25hCollecting einops>=0.6.0 (from transformer-lens==0.0.0)\n",
            "  Downloading einops-0.6.1-py3-none-any.whl (42 kB)\n",
            "\u001b[2K     \u001b[90m━━━━━━━━━━━━━━━━━━━━━━━━━━━━━━━━━━━━━━━━\u001b[0m \u001b[32m42.2/42.2 kB\u001b[0m \u001b[31m6.0 MB/s\u001b[0m eta \u001b[36m0:00:00\u001b[0m\n",
            "\u001b[?25hCollecting fancy-einsum>=0.0.3 (from transformer-lens==0.0.0)\n",
            "  Downloading fancy_einsum-0.0.3-py3-none-any.whl (6.2 kB)\n",
            "Collecting jaxtyping>=0.2.11 (from transformer-lens==0.0.0)\n",
            "  Downloading jaxtyping-0.2.20-py3-none-any.whl (24 kB)\n",
            "Collecting numpy>=1.23 (from transformer-lens==0.0.0)\n",
            "  Downloading numpy-1.24.3-cp310-cp310-manylinux_2_17_x86_64.manylinux2014_x86_64.whl (17.3 MB)\n",
            "\u001b[2K     \u001b[90m━━━━━━━━━━━━━━━━━━━━━━━━━━━━━━━━━━━━━━━━\u001b[0m \u001b[32m17.3/17.3 MB\u001b[0m \u001b[31m96.6 MB/s\u001b[0m eta \u001b[36m0:00:00\u001b[0m\n",
            "\u001b[?25hRequirement already satisfied: pandas>=1.1.5 in /usr/local/lib/python3.10/dist-packages (from transformer-lens==0.0.0) (1.5.3)\n",
            "Requirement already satisfied: rich>=12.6.0 in /usr/local/lib/python3.10/dist-packages (from transformer-lens==0.0.0) (13.3.4)\n",
            "Requirement already satisfied: torch>=1.10 in /usr/local/lib/python3.10/dist-packages (from transformer-lens==0.0.0) (2.0.1+cu118)\n",
            "Requirement already satisfied: tqdm>=4.64.1 in /usr/local/lib/python3.10/dist-packages (from transformer-lens==0.0.0) (4.65.0)\n",
            "Collecting transformers>=4.25.1 (from transformer-lens==0.0.0)\n",
            "  Downloading transformers-4.29.2-py3-none-any.whl (7.1 MB)\n",
            "\u001b[2K     \u001b[90m━━━━━━━━━━━━━━━━━━━━━━━━━━━━━━━━━━━━━━━━\u001b[0m \u001b[32m7.1/7.1 MB\u001b[0m \u001b[31m117.2 MB/s\u001b[0m eta \u001b[36m0:00:00\u001b[0m\n",
            "\u001b[?25hCollecting typeguard<4.0.0,>=3.0.2 (from transformer-lens==0.0.0)\n",
            "  Downloading typeguard-3.0.2-py3-none-any.whl (30 kB)\n",
            "Collecting wandb>=0.13.5 (from transformer-lens==0.0.0)\n",
            "  Downloading wandb-0.15.3-py3-none-any.whl (2.0 MB)\n",
            "\u001b[2K     \u001b[90m━━━━━━━━━━━━━━━━━━━━━━━━━━━━━━━━━━━━━━━━\u001b[0m \u001b[32m2.0/2.0 MB\u001b[0m \u001b[31m107.3 MB/s\u001b[0m eta \u001b[36m0:00:00\u001b[0m\n",
            "\u001b[?25hRequirement already satisfied: pyarrow>=8.0.0 in /usr/local/lib/python3.10/dist-packages (from datasets>=2.7.1->transformer-lens==0.0.0) (9.0.0)\n",
            "Collecting dill<0.3.7,>=0.3.0 (from datasets>=2.7.1->transformer-lens==0.0.0)\n",
            "  Downloading dill-0.3.6-py3-none-any.whl (110 kB)\n",
            "\u001b[2K     \u001b[90m━━━━━━━━━━━━━━━━━━━━━━━━━━━━━━━━━━━━━━\u001b[0m \u001b[32m110.5/110.5 kB\u001b[0m \u001b[31m18.0 MB/s\u001b[0m eta \u001b[36m0:00:00\u001b[0m\n",
            "\u001b[?25hRequirement already satisfied: requests>=2.19.0 in /usr/local/lib/python3.10/dist-packages (from datasets>=2.7.1->transformer-lens==0.0.0) (2.27.1)\n",
            "Collecting xxhash (from datasets>=2.7.1->transformer-lens==0.0.0)\n",
            "  Downloading xxhash-3.2.0-cp310-cp310-manylinux_2_17_x86_64.manylinux2014_x86_64.whl (212 kB)\n",
            "\u001b[2K     \u001b[90m━━━━━━━━━━━━━━━━━━━━━━━━━━━━━━━━━━━━━━\u001b[0m \u001b[32m212.5/212.5 kB\u001b[0m \u001b[31m31.8 MB/s\u001b[0m eta \u001b[36m0:00:00\u001b[0m\n",
            "\u001b[?25hCollecting multiprocess (from datasets>=2.7.1->transformer-lens==0.0.0)\n",
            "  Downloading multiprocess-0.70.14-py310-none-any.whl (134 kB)\n",
            "\u001b[2K     \u001b[90m━━━━━━━━━━━━━━━━━━━━━━━━━━━━━━━━━━━━━━\u001b[0m \u001b[32m134.3/134.3 kB\u001b[0m \u001b[31m20.2 MB/s\u001b[0m eta \u001b[36m0:00:00\u001b[0m\n",
            "\u001b[?25hRequirement already satisfied: fsspec[http]>=2021.11.1 in /usr/local/lib/python3.10/dist-packages (from datasets>=2.7.1->transformer-lens==0.0.0) (2023.4.0)\n",
            "Collecting aiohttp (from datasets>=2.7.1->transformer-lens==0.0.0)\n",
            "  Downloading aiohttp-3.8.4-cp310-cp310-manylinux_2_17_x86_64.manylinux2014_x86_64.whl (1.0 MB)\n",
            "\u001b[2K     \u001b[90m━━━━━━━━━━━━━━━━━━━━━━━━━━━━━━━━━━━━━━━━\u001b[0m \u001b[32m1.0/1.0 MB\u001b[0m \u001b[31m89.8 MB/s\u001b[0m eta \u001b[36m0:00:00\u001b[0m\n",
            "\u001b[?25hCollecting huggingface-hub<1.0.0,>=0.11.0 (from datasets>=2.7.1->transformer-lens==0.0.0)\n",
            "  Downloading huggingface_hub-0.15.1-py3-none-any.whl (236 kB)\n",
            "\u001b[2K     \u001b[90m━━━━━━━━━━━━━━━━━━━━━━━━━━━━━━━━━━━━━━\u001b[0m \u001b[32m236.8/236.8 kB\u001b[0m \u001b[31m34.1 MB/s\u001b[0m eta \u001b[36m0:00:00\u001b[0m\n",
            "\u001b[?25hRequirement already satisfied: packaging in /usr/local/lib/python3.10/dist-packages (from datasets>=2.7.1->transformer-lens==0.0.0) (23.1)\n",
            "Collecting responses<0.19 (from datasets>=2.7.1->transformer-lens==0.0.0)\n",
            "  Downloading responses-0.18.0-py3-none-any.whl (38 kB)\n",
            "Requirement already satisfied: pyyaml>=5.1 in /usr/local/lib/python3.10/dist-packages (from datasets>=2.7.1->transformer-lens==0.0.0) (6.0)\n",
            "Requirement already satisfied: typing-extensions>=3.7.4.1 in /usr/local/lib/python3.10/dist-packages (from jaxtyping>=0.2.11->transformer-lens==0.0.0) (4.5.0)\n",
            "Requirement already satisfied: python-dateutil>=2.8.1 in /usr/local/lib/python3.10/dist-packages (from pandas>=1.1.5->transformer-lens==0.0.0) (2.8.2)\n",
            "Requirement already satisfied: pytz>=2020.1 in /usr/local/lib/python3.10/dist-packages (from pandas>=1.1.5->transformer-lens==0.0.0) (2022.7.1)\n",
            "Requirement already satisfied: markdown-it-py<3.0.0,>=2.2.0 in /usr/local/lib/python3.10/dist-packages (from rich>=12.6.0->transformer-lens==0.0.0) (2.2.0)\n",
            "Requirement already satisfied: pygments<3.0.0,>=2.13.0 in /usr/local/lib/python3.10/dist-packages (from rich>=12.6.0->transformer-lens==0.0.0) (2.14.0)\n",
            "Requirement already satisfied: filelock in /usr/local/lib/python3.10/dist-packages (from torch>=1.10->transformer-lens==0.0.0) (3.12.0)\n",
            "Requirement already satisfied: sympy in /usr/local/lib/python3.10/dist-packages (from torch>=1.10->transformer-lens==0.0.0) (1.11.1)\n",
            "Requirement already satisfied: networkx in /usr/local/lib/python3.10/dist-packages (from torch>=1.10->transformer-lens==0.0.0) (3.1)\n",
            "Requirement already satisfied: jinja2 in /usr/local/lib/python3.10/dist-packages (from torch>=1.10->transformer-lens==0.0.0) (3.1.2)\n",
            "Requirement already satisfied: triton==2.0.0 in /usr/local/lib/python3.10/dist-packages (from torch>=1.10->transformer-lens==0.0.0) (2.0.0)\n",
            "Requirement already satisfied: cmake in /usr/local/lib/python3.10/dist-packages (from triton==2.0.0->torch>=1.10->transformer-lens==0.0.0) (3.25.2)\n",
            "Requirement already satisfied: lit in /usr/local/lib/python3.10/dist-packages (from triton==2.0.0->torch>=1.10->transformer-lens==0.0.0) (16.0.5)\n",
            "Requirement already satisfied: regex!=2019.12.17 in /usr/local/lib/python3.10/dist-packages (from transformers>=4.25.1->transformer-lens==0.0.0) (2022.10.31)\n",
            "Collecting tokenizers!=0.11.3,<0.14,>=0.11.1 (from transformers>=4.25.1->transformer-lens==0.0.0)\n",
            "  Downloading tokenizers-0.13.3-cp310-cp310-manylinux_2_17_x86_64.manylinux2014_x86_64.whl (7.8 MB)\n",
            "\u001b[2K     \u001b[90m━━━━━━━━━━━━━━━━━━━━━━━━━━━━━━━━━━━━━━━━\u001b[0m \u001b[32m7.8/7.8 MB\u001b[0m \u001b[31m136.0 MB/s\u001b[0m eta \u001b[36m0:00:00\u001b[0m\n",
            "\u001b[?25hRequirement already satisfied: Click!=8.0.0,>=7.0 in /usr/local/lib/python3.10/dist-packages (from wandb>=0.13.5->transformer-lens==0.0.0) (8.1.3)\n",
            "Collecting GitPython!=3.1.29,>=1.0.0 (from wandb>=0.13.5->transformer-lens==0.0.0)\n",
            "  Downloading GitPython-3.1.31-py3-none-any.whl (184 kB)\n",
            "\u001b[2K     \u001b[90m━━━━━━━━━━━━━━━━━━━━━━━━━━━━━━━━━━━━━━\u001b[0m \u001b[32m184.3/184.3 kB\u001b[0m \u001b[31m27.0 MB/s\u001b[0m eta \u001b[36m0:00:00\u001b[0m\n",
            "\u001b[?25hRequirement already satisfied: psutil>=5.0.0 in /usr/local/lib/python3.10/dist-packages (from wandb>=0.13.5->transformer-lens==0.0.0) (5.9.5)\n",
            "Collecting sentry-sdk>=1.0.0 (from wandb>=0.13.5->transformer-lens==0.0.0)\n",
            "  Downloading sentry_sdk-1.25.0-py2.py3-none-any.whl (206 kB)\n",
            "\u001b[2K     \u001b[90m━━━━━━━━━━━━━━━━━━━━━━━━━━━━━━━━━━━━━━\u001b[0m \u001b[32m206.5/206.5 kB\u001b[0m \u001b[31m24.9 MB/s\u001b[0m eta \u001b[36m0:00:00\u001b[0m\n",
            "\u001b[?25hCollecting docker-pycreds>=0.4.0 (from wandb>=0.13.5->transformer-lens==0.0.0)\n",
            "  Downloading docker_pycreds-0.4.0-py2.py3-none-any.whl (9.0 kB)\n",
            "Collecting pathtools (from wandb>=0.13.5->transformer-lens==0.0.0)\n",
            "  Downloading pathtools-0.1.2.tar.gz (11 kB)\n",
            "  Preparing metadata (setup.py) ... \u001b[?25l\u001b[?25hdone\n",
            "Collecting setproctitle (from wandb>=0.13.5->transformer-lens==0.0.0)\n",
            "  Downloading setproctitle-1.3.2-cp310-cp310-manylinux_2_5_x86_64.manylinux1_x86_64.manylinux_2_17_x86_64.manylinux2014_x86_64.whl (30 kB)\n",
            "Requirement already satisfied: setuptools in /usr/local/lib/python3.10/dist-packages (from wandb>=0.13.5->transformer-lens==0.0.0) (67.7.2)\n",
            "Requirement already satisfied: appdirs>=1.4.3 in /usr/local/lib/python3.10/dist-packages (from wandb>=0.13.5->transformer-lens==0.0.0) (1.4.4)\n",
            "Requirement already satisfied: protobuf!=4.21.0,<5,>=3.19.0 in /usr/local/lib/python3.10/dist-packages (from wandb>=0.13.5->transformer-lens==0.0.0) (3.20.3)\n",
            "Requirement already satisfied: six>=1.4.0 in /usr/local/lib/python3.10/dist-packages (from docker-pycreds>=0.4.0->wandb>=0.13.5->transformer-lens==0.0.0) (1.16.0)\n",
            "Requirement already satisfied: attrs>=17.3.0 in /usr/local/lib/python3.10/dist-packages (from aiohttp->datasets>=2.7.1->transformer-lens==0.0.0) (23.1.0)\n",
            "Requirement already satisfied: charset-normalizer<4.0,>=2.0 in /usr/local/lib/python3.10/dist-packages (from aiohttp->datasets>=2.7.1->transformer-lens==0.0.0) (2.0.12)\n",
            "Collecting multidict<7.0,>=4.5 (from aiohttp->datasets>=2.7.1->transformer-lens==0.0.0)\n",
            "  Downloading multidict-6.0.4-cp310-cp310-manylinux_2_17_x86_64.manylinux2014_x86_64.whl (114 kB)\n",
            "\u001b[2K     \u001b[90m━━━━━━━━━━━━━━━━━━━━━━━━━━━━━━━━━━━━━━\u001b[0m \u001b[32m114.5/114.5 kB\u001b[0m \u001b[31m15.5 MB/s\u001b[0m eta \u001b[36m0:00:00\u001b[0m\n",
            "\u001b[?25hCollecting async-timeout<5.0,>=4.0.0a3 (from aiohttp->datasets>=2.7.1->transformer-lens==0.0.0)\n",
            "  Downloading async_timeout-4.0.2-py3-none-any.whl (5.8 kB)\n",
            "Collecting yarl<2.0,>=1.0 (from aiohttp->datasets>=2.7.1->transformer-lens==0.0.0)\n",
            "  Downloading yarl-1.9.2-cp310-cp310-manylinux_2_17_x86_64.manylinux2014_x86_64.whl (268 kB)\n",
            "\u001b[2K     \u001b[90m━━━━━━━━━━━━━━━━━━━━━━━━━━━━━━━━━━━━━━━\u001b[0m \u001b[32m268.8/268.8 kB\u001b[0m \u001b[31m1.6 MB/s\u001b[0m eta \u001b[36m0:00:00\u001b[0m\n",
            "\u001b[?25hCollecting frozenlist>=1.1.1 (from aiohttp->datasets>=2.7.1->transformer-lens==0.0.0)\n",
            "  Downloading frozenlist-1.3.3-cp310-cp310-manylinux_2_5_x86_64.manylinux1_x86_64.manylinux_2_17_x86_64.manylinux2014_x86_64.whl (149 kB)\n",
            "\u001b[2K     \u001b[90m━━━━━━━━━━━━━━━━━━━━━━━━━━━━━━━━━━━━━━\u001b[0m \u001b[32m149.6/149.6 kB\u001b[0m \u001b[31m22.5 MB/s\u001b[0m eta \u001b[36m0:00:00\u001b[0m\n",
            "\u001b[?25hCollecting aiosignal>=1.1.2 (from aiohttp->datasets>=2.7.1->transformer-lens==0.0.0)\n",
            "  Downloading aiosignal-1.3.1-py3-none-any.whl (7.6 kB)\n",
            "Collecting gitdb<5,>=4.0.1 (from GitPython!=3.1.29,>=1.0.0->wandb>=0.13.5->transformer-lens==0.0.0)\n",
            "  Downloading gitdb-4.0.10-py3-none-any.whl (62 kB)\n",
            "\u001b[2K     \u001b[90m━━━━━━━━━━━━━━━━━━━━━━━━━━━━━━━━━━━━━━━━\u001b[0m \u001b[32m62.7/62.7 kB\u001b[0m \u001b[31m10.5 MB/s\u001b[0m eta \u001b[36m0:00:00\u001b[0m\n",
            "\u001b[?25hRequirement already satisfied: mdurl~=0.1 in /usr/local/lib/python3.10/dist-packages (from markdown-it-py<3.0.0,>=2.2.0->rich>=12.6.0->transformer-lens==0.0.0) (0.1.2)\n",
            "Requirement already satisfied: urllib3<1.27,>=1.21.1 in /usr/local/lib/python3.10/dist-packages (from requests>=2.19.0->datasets>=2.7.1->transformer-lens==0.0.0) (1.26.15)\n",
            "Requirement already satisfied: certifi>=2017.4.17 in /usr/local/lib/python3.10/dist-packages (from requests>=2.19.0->datasets>=2.7.1->transformer-lens==0.0.0) (2022.12.7)\n",
            "Requirement already satisfied: idna<4,>=2.5 in /usr/local/lib/python3.10/dist-packages (from requests>=2.19.0->datasets>=2.7.1->transformer-lens==0.0.0) (3.4)\n",
            "Requirement already satisfied: MarkupSafe>=2.0 in /usr/local/lib/python3.10/dist-packages (from jinja2->torch>=1.10->transformer-lens==0.0.0) (2.1.2)\n",
            "Requirement already satisfied: mpmath>=0.19 in /usr/local/lib/python3.10/dist-packages (from sympy->torch>=1.10->transformer-lens==0.0.0) (1.3.0)\n",
            "Collecting smmap<6,>=3.0.1 (from gitdb<5,>=4.0.1->GitPython!=3.1.29,>=1.0.0->wandb>=0.13.5->transformer-lens==0.0.0)\n",
            "  Downloading smmap-5.0.0-py3-none-any.whl (24 kB)\n",
            "Building wheels for collected packages: transformer-lens, pathtools\n",
            "  Building wheel for transformer-lens (pyproject.toml) ... \u001b[?25l\u001b[?25hdone\n",
            "  Created wheel for transformer-lens: filename=transformer_lens-0.0.0-py3-none-any.whl size=99728 sha256=1eb381433d7063dd1a4a310b2962709c35cfc5becd8027cacbf4b955fea12a26\n",
            "  Stored in directory: /tmp/pip-ephem-wheel-cache-yb9yjhcn/wheels/8a/1e/37/ffb9c15454a1725b13a9d9f5e74fb91725048884ad734b8c1f\n",
            "  Building wheel for pathtools (setup.py) ... \u001b[?25l\u001b[?25hdone\n",
            "  Created wheel for pathtools: filename=pathtools-0.1.2-py3-none-any.whl size=8791 sha256=95859f545ccc3f13d6ca2a6ff6d807a4362b976b4150f3ad7d09f4ce576bbd0c\n",
            "  Stored in directory: /root/.cache/pip/wheels/e7/f3/22/152153d6eb222ee7a56ff8617d80ee5207207a8c00a7aab794\n",
            "Successfully built transformer-lens pathtools\n",
            "Installing collected packages: tokenizers, pathtools, xxhash, typeguard, smmap, setproctitle, sentry-sdk, numpy, multidict, frozenlist, fancy-einsum, einops, docker-pycreds, dill, async-timeout, yarl, responses, multiprocess, jaxtyping, huggingface-hub, gitdb, aiosignal, transformers, GitPython, aiohttp, wandb, datasets, transformer-lens\n",
            "  Attempting uninstall: numpy\n",
            "    Found existing installation: numpy 1.22.4\n",
            "    Uninstalling numpy-1.22.4:\n",
            "      Successfully uninstalled numpy-1.22.4\n",
            "\u001b[31mERROR: pip's dependency resolver does not currently take into account all the packages that are installed. This behaviour is the source of the following dependency conflicts.\n",
            "numba 0.56.4 requires numpy<1.24,>=1.18, but you have numpy 1.24.3 which is incompatible.\n",
            "tensorflow 2.12.0 requires numpy<1.24,>=1.22, but you have numpy 1.24.3 which is incompatible.\u001b[0m\u001b[31m\n",
            "\u001b[0mSuccessfully installed GitPython-3.1.31 aiohttp-3.8.4 aiosignal-1.3.1 async-timeout-4.0.2 datasets-2.12.0 dill-0.3.6 docker-pycreds-0.4.0 einops-0.6.1 fancy-einsum-0.0.3 frozenlist-1.3.3 gitdb-4.0.10 huggingface-hub-0.15.1 jaxtyping-0.2.20 multidict-6.0.4 multiprocess-0.70.14 numpy-1.24.3 pathtools-0.1.2 responses-0.18.0 sentry-sdk-1.25.0 setproctitle-1.3.2 smmap-5.0.0 tokenizers-0.13.3 transformer-lens-0.0.0 transformers-4.29.2 typeguard-3.0.2 wandb-0.15.3 xxhash-3.2.0 yarl-1.9.2\n"
          ]
        },
        {
          "output_type": "display_data",
          "data": {
            "application/vnd.colab-display-data+json": {
              "pip_warning": {
                "packages": [
                  "numpy"
                ]
              }
            }
          },
          "metadata": {}
        },
        {
          "output_type": "stream",
          "name": "stdout",
          "text": [
            "\n",
            "## Installing the NodeSource Node.js 16.x repo...\n",
            "\n",
            "\n",
            "## Populating apt-get cache...\n",
            "\n",
            "+ apt-get update\n",
            "Get:1 http://security.ubuntu.com/ubuntu focal-security InRelease [114 kB]\n",
            "Get:2 https://cloud.r-project.org/bin/linux/ubuntu focal-cran40/ InRelease [3,622 B]\n",
            "Hit:3 https://developer.download.nvidia.com/compute/cuda/repos/ubuntu2004/x86_64  InRelease\n",
            "Get:4 http://ppa.launchpad.net/c2d4u.team/c2d4u4.0+/ubuntu focal InRelease [18.1 kB]\n",
            "Hit:5 http://archive.ubuntu.com/ubuntu focal InRelease\n",
            "Get:6 https://cloud.r-project.org/bin/linux/ubuntu focal-cran40/ Packages [78.0 kB]\n",
            "Get:7 http://archive.ubuntu.com/ubuntu focal-updates InRelease [114 kB]\n",
            "Get:8 http://security.ubuntu.com/ubuntu focal-security/main amd64 Packages [2,773 kB]\n",
            "Hit:9 http://ppa.launchpad.net/cran/libgit2/ubuntu focal InRelease\n",
            "Get:10 http://security.ubuntu.com/ubuntu focal-security/universe amd64 Packages [1,056 kB]\n",
            "Get:11 http://ppa.launchpad.net/deadsnakes/ppa/ubuntu focal InRelease [18.1 kB]\n",
            "Get:12 http://archive.ubuntu.com/ubuntu focal-backports InRelease [108 kB]\n",
            "Get:13 http://archive.ubuntu.com/ubuntu focal-updates/main amd64 Packages [3,252 kB]\n",
            "Hit:14 http://ppa.launchpad.net/graphics-drivers/ppa/ubuntu focal InRelease\n",
            "Hit:15 http://ppa.launchpad.net/ubuntugis/ppa/ubuntu focal InRelease\n",
            "Get:16 http://ppa.launchpad.net/c2d4u.team/c2d4u4.0+/ubuntu focal/main Sources [2,589 kB]\n",
            "Get:17 http://archive.ubuntu.com/ubuntu focal-updates/universe amd64 Packages [1,351 kB]\n",
            "Get:18 http://ppa.launchpad.net/c2d4u.team/c2d4u4.0+/ubuntu focal/main amd64 Packages [1,222 kB]\n",
            "Get:19 http://ppa.launchpad.net/deadsnakes/ppa/ubuntu focal/main amd64 Packages [29.5 kB]\n",
            "Fetched 12.7 MB in 4s (3,570 kB/s)\n",
            "Reading package lists... Done\n",
            "\n",
            "## Confirming \"focal\" is supported...\n",
            "\n",
            "+ curl -sLf -o /dev/null 'https://deb.nodesource.com/node_16.x/dists/focal/Release'\n",
            "\n",
            "## Adding the NodeSource signing key to your keyring...\n",
            "\n",
            "+ curl -s https://deb.nodesource.com/gpgkey/nodesource.gpg.key | gpg --dearmor | tee /usr/share/keyrings/nodesource.gpg >/dev/null\n",
            "\n",
            "## Creating apt sources list file for the NodeSource Node.js 16.x repo...\n",
            "\n",
            "+ echo 'deb [signed-by=/usr/share/keyrings/nodesource.gpg] https://deb.nodesource.com/node_16.x focal main' > /etc/apt/sources.list.d/nodesource.list\n",
            "+ echo 'deb-src [signed-by=/usr/share/keyrings/nodesource.gpg] https://deb.nodesource.com/node_16.x focal main' >> /etc/apt/sources.list.d/nodesource.list\n",
            "\n",
            "## Running `apt-get update` for you...\n",
            "\n",
            "+ apt-get update\n",
            "Hit:1 https://cloud.r-project.org/bin/linux/ubuntu focal-cran40/ InRelease\n",
            "Get:2 https://deb.nodesource.com/node_16.x focal InRelease [4,583 B]\n",
            "Hit:3 https://developer.download.nvidia.com/compute/cuda/repos/ubuntu2004/x86_64  InRelease\n",
            "Get:4 https://deb.nodesource.com/node_16.x focal/main amd64 Packages [776 B]\n",
            "Hit:5 http://security.ubuntu.com/ubuntu focal-security InRelease\n",
            "Hit:6 http://ppa.launchpad.net/c2d4u.team/c2d4u4.0+/ubuntu focal InRelease\n",
            "Hit:7 http://archive.ubuntu.com/ubuntu focal InRelease\n",
            "Hit:8 http://archive.ubuntu.com/ubuntu focal-updates InRelease\n",
            "Hit:9 http://ppa.launchpad.net/cran/libgit2/ubuntu focal InRelease\n",
            "Hit:10 http://archive.ubuntu.com/ubuntu focal-backports InRelease\n",
            "Hit:11 http://ppa.launchpad.net/deadsnakes/ppa/ubuntu focal InRelease\n",
            "Hit:12 http://ppa.launchpad.net/graphics-drivers/ppa/ubuntu focal InRelease\n",
            "Hit:13 http://ppa.launchpad.net/ubuntugis/ppa/ubuntu focal InRelease\n",
            "Fetched 5,359 B in 1s (4,460 B/s)\n",
            "Reading package lists... Done\n",
            "\n",
            "## Run `\u001b[1msudo apt-get install -y nodejs\u001b[m` to install Node.js 16.x and npm\n",
            "## You may also need development tools to build native addons:\n",
            "     sudo apt-get install gcc g++ make\n",
            "## To install the Yarn package manager, run:\n",
            "     curl -sL https://dl.yarnpkg.com/debian/pubkey.gpg | gpg --dearmor | sudo tee /usr/share/keyrings/yarnkey.gpg >/dev/null\n",
            "     echo \"deb [signed-by=/usr/share/keyrings/yarnkey.gpg] https://dl.yarnpkg.com/debian stable main\" | sudo tee /etc/apt/sources.list.d/yarn.list\n",
            "     sudo apt-get update && sudo apt-get install yarn\n",
            "\n",
            "\n",
            "Reading package lists... Done\n",
            "Building dependency tree       \n",
            "Reading state information... Done\n",
            "The following NEW packages will be installed:\n",
            "  nodejs\n",
            "0 upgraded, 1 newly installed, 0 to remove and 49 not upgraded.\n",
            "Need to get 27.2 MB of archives.\n",
            "After this operation, 128 MB of additional disk space will be used.\n",
            "Get:1 https://deb.nodesource.com/node_16.x focal/main amd64 nodejs amd64 16.20.0-deb-1nodesource1 [27.2 MB]\n",
            "Fetched 27.2 MB in 0s (75.7 MB/s)\n",
            "debconf: unable to initialize frontend: Dialog\n",
            "debconf: (No usable dialog-like program is installed, so the dialog based frontend cannot be used. at /usr/share/perl5/Debconf/FrontEnd/Dialog.pm line 76, <> line 1.)\n",
            "debconf: falling back to frontend: Readline\n",
            "debconf: unable to initialize frontend: Readline\n",
            "debconf: (This frontend requires a controlling tty.)\n",
            "debconf: falling back to frontend: Teletype\n",
            "dpkg-preconfigure: unable to re-open stdin: \n",
            "Selecting previously unselected package nodejs.\n",
            "(Reading database ... 122542 files and directories currently installed.)\n",
            "Preparing to unpack .../nodejs_16.20.0-deb-1nodesource1_amd64.deb ...\n",
            "Unpacking nodejs (16.20.0-deb-1nodesource1) ...\n",
            "Setting up nodejs (16.20.0-deb-1nodesource1) ...\n",
            "Processing triggers for man-db (2.9.1-1) ...\n",
            "Looking in indexes: https://pypi.org/simple, https://us-python.pkg.dev/colab-wheels/public/simple/\n",
            "Collecting git+https://github.com/neelnanda-io/PySvelte.git\n",
            "  Cloning https://github.com/neelnanda-io/PySvelte.git to /tmp/pip-req-build-cp8l2h0j\n",
            "  Running command git clone --filter=blob:none --quiet https://github.com/neelnanda-io/PySvelte.git /tmp/pip-req-build-cp8l2h0j\n",
            "  Resolved https://github.com/neelnanda-io/PySvelte.git to commit 6f5d971a148d40fb7481d400ae74551b37340e83\n",
            "  Preparing metadata (setup.py) ... \u001b[?25l\u001b[?25hdone\n",
            "Requirement already satisfied: einops in /usr/local/lib/python3.10/dist-packages (from PySvelte==1.0.0) (0.6.1)\n",
            "Requirement already satisfied: numpy in /usr/local/lib/python3.10/dist-packages (from PySvelte==1.0.0) (1.24.3)\n",
            "Requirement already satisfied: torch in /usr/local/lib/python3.10/dist-packages (from PySvelte==1.0.0) (2.0.1+cu118)\n",
            "Requirement already satisfied: datasets in /usr/local/lib/python3.10/dist-packages (from PySvelte==1.0.0) (2.12.0)\n",
            "Requirement already satisfied: transformers in /usr/local/lib/python3.10/dist-packages (from PySvelte==1.0.0) (4.29.2)\n",
            "Requirement already satisfied: tqdm in /usr/local/lib/python3.10/dist-packages (from PySvelte==1.0.0) (4.65.0)\n",
            "Requirement already satisfied: pandas in /usr/local/lib/python3.10/dist-packages (from PySvelte==1.0.0) (1.5.3)\n",
            "Collecting typeguard~=2.0 (from PySvelte==1.0.0)\n",
            "  Downloading typeguard-2.13.3-py3-none-any.whl (17 kB)\n",
            "Requirement already satisfied: pyarrow>=8.0.0 in /usr/local/lib/python3.10/dist-packages (from datasets->PySvelte==1.0.0) (9.0.0)\n",
            "Requirement already satisfied: dill<0.3.7,>=0.3.0 in /usr/local/lib/python3.10/dist-packages (from datasets->PySvelte==1.0.0) (0.3.6)\n",
            "Requirement already satisfied: requests>=2.19.0 in /usr/local/lib/python3.10/dist-packages (from datasets->PySvelte==1.0.0) (2.27.1)\n",
            "Requirement already satisfied: xxhash in /usr/local/lib/python3.10/dist-packages (from datasets->PySvelte==1.0.0) (3.2.0)\n",
            "Requirement already satisfied: multiprocess in /usr/local/lib/python3.10/dist-packages (from datasets->PySvelte==1.0.0) (0.70.14)\n",
            "Requirement already satisfied: fsspec[http]>=2021.11.1 in /usr/local/lib/python3.10/dist-packages (from datasets->PySvelte==1.0.0) (2023.4.0)\n",
            "Requirement already satisfied: aiohttp in /usr/local/lib/python3.10/dist-packages (from datasets->PySvelte==1.0.0) (3.8.4)\n",
            "Requirement already satisfied: huggingface-hub<1.0.0,>=0.11.0 in /usr/local/lib/python3.10/dist-packages (from datasets->PySvelte==1.0.0) (0.15.1)\n",
            "Requirement already satisfied: packaging in /usr/local/lib/python3.10/dist-packages (from datasets->PySvelte==1.0.0) (23.1)\n",
            "Requirement already satisfied: responses<0.19 in /usr/local/lib/python3.10/dist-packages (from datasets->PySvelte==1.0.0) (0.18.0)\n",
            "Requirement already satisfied: pyyaml>=5.1 in /usr/local/lib/python3.10/dist-packages (from datasets->PySvelte==1.0.0) (6.0)\n",
            "Requirement already satisfied: python-dateutil>=2.8.1 in /usr/local/lib/python3.10/dist-packages (from pandas->PySvelte==1.0.0) (2.8.2)\n",
            "Requirement already satisfied: pytz>=2020.1 in /usr/local/lib/python3.10/dist-packages (from pandas->PySvelte==1.0.0) (2022.7.1)\n",
            "Requirement already satisfied: filelock in /usr/local/lib/python3.10/dist-packages (from torch->PySvelte==1.0.0) (3.12.0)\n",
            "Requirement already satisfied: typing-extensions in /usr/local/lib/python3.10/dist-packages (from torch->PySvelte==1.0.0) (4.5.0)\n",
            "Requirement already satisfied: sympy in /usr/local/lib/python3.10/dist-packages (from torch->PySvelte==1.0.0) (1.11.1)\n",
            "Requirement already satisfied: networkx in /usr/local/lib/python3.10/dist-packages (from torch->PySvelte==1.0.0) (3.1)\n",
            "Requirement already satisfied: jinja2 in /usr/local/lib/python3.10/dist-packages (from torch->PySvelte==1.0.0) (3.1.2)\n",
            "Requirement already satisfied: triton==2.0.0 in /usr/local/lib/python3.10/dist-packages (from torch->PySvelte==1.0.0) (2.0.0)\n",
            "Requirement already satisfied: cmake in /usr/local/lib/python3.10/dist-packages (from triton==2.0.0->torch->PySvelte==1.0.0) (3.25.2)\n",
            "Requirement already satisfied: lit in /usr/local/lib/python3.10/dist-packages (from triton==2.0.0->torch->PySvelte==1.0.0) (16.0.5)\n",
            "Requirement already satisfied: regex!=2019.12.17 in /usr/local/lib/python3.10/dist-packages (from transformers->PySvelte==1.0.0) (2022.10.31)\n",
            "Requirement already satisfied: tokenizers!=0.11.3,<0.14,>=0.11.1 in /usr/local/lib/python3.10/dist-packages (from transformers->PySvelte==1.0.0) (0.13.3)\n",
            "Requirement already satisfied: attrs>=17.3.0 in /usr/local/lib/python3.10/dist-packages (from aiohttp->datasets->PySvelte==1.0.0) (23.1.0)\n",
            "Requirement already satisfied: charset-normalizer<4.0,>=2.0 in /usr/local/lib/python3.10/dist-packages (from aiohttp->datasets->PySvelte==1.0.0) (2.0.12)\n",
            "Requirement already satisfied: multidict<7.0,>=4.5 in /usr/local/lib/python3.10/dist-packages (from aiohttp->datasets->PySvelte==1.0.0) (6.0.4)\n",
            "Requirement already satisfied: async-timeout<5.0,>=4.0.0a3 in /usr/local/lib/python3.10/dist-packages (from aiohttp->datasets->PySvelte==1.0.0) (4.0.2)\n",
            "Requirement already satisfied: yarl<2.0,>=1.0 in /usr/local/lib/python3.10/dist-packages (from aiohttp->datasets->PySvelte==1.0.0) (1.9.2)\n",
            "Requirement already satisfied: frozenlist>=1.1.1 in /usr/local/lib/python3.10/dist-packages (from aiohttp->datasets->PySvelte==1.0.0) (1.3.3)\n",
            "Requirement already satisfied: aiosignal>=1.1.2 in /usr/local/lib/python3.10/dist-packages (from aiohttp->datasets->PySvelte==1.0.0) (1.3.1)\n",
            "Requirement already satisfied: six>=1.5 in /usr/local/lib/python3.10/dist-packages (from python-dateutil>=2.8.1->pandas->PySvelte==1.0.0) (1.16.0)\n",
            "Requirement already satisfied: urllib3<1.27,>=1.21.1 in /usr/local/lib/python3.10/dist-packages (from requests>=2.19.0->datasets->PySvelte==1.0.0) (1.26.15)\n",
            "Requirement already satisfied: certifi>=2017.4.17 in /usr/local/lib/python3.10/dist-packages (from requests>=2.19.0->datasets->PySvelte==1.0.0) (2022.12.7)\n",
            "Requirement already satisfied: idna<4,>=2.5 in /usr/local/lib/python3.10/dist-packages (from requests>=2.19.0->datasets->PySvelte==1.0.0) (3.4)\n",
            "Requirement already satisfied: MarkupSafe>=2.0 in /usr/local/lib/python3.10/dist-packages (from jinja2->torch->PySvelte==1.0.0) (2.1.2)\n",
            "Requirement already satisfied: mpmath>=0.19 in /usr/local/lib/python3.10/dist-packages (from sympy->torch->PySvelte==1.0.0) (1.3.0)\n",
            "Building wheels for collected packages: PySvelte\n",
            "  Building wheel for PySvelte (setup.py) ... \u001b[?25l\u001b[?25hdone\n",
            "  Created wheel for PySvelte: filename=PySvelte-1.0.0-py3-none-any.whl size=158308 sha256=743a1369799f1831c1b48b774fe5f1182f0615d68635a5bd19b1806ed5de5ac9\n",
            "  Stored in directory: /tmp/pip-ephem-wheel-cache-7le_elq0/wheels/fa/f6/f2/673ef7aeb78d7503b6e3e42387132822fdc38d3ee283d3e5b4\n",
            "Successfully built PySvelte\n",
            "Installing collected packages: typeguard, PySvelte\n",
            "  Attempting uninstall: typeguard\n",
            "    Found existing installation: typeguard 3.0.2\n",
            "    Uninstalling typeguard-3.0.2:\n",
            "      Successfully uninstalled typeguard-3.0.2\n",
            "\u001b[31mERROR: pip's dependency resolver does not currently take into account all the packages that are installed. This behaviour is the source of the following dependency conflicts.\n",
            "transformer-lens 0.0.0 requires typeguard<4.0.0,>=3.0.2, but you have typeguard 2.13.3 which is incompatible.\u001b[0m\u001b[31m\n",
            "\u001b[0mSuccessfully installed PySvelte-1.0.0 typeguard-2.13.3\n",
            "Looking in indexes: https://pypi.org/simple, https://us-python.pkg.dev/colab-wheels/public/simple/\n",
            "Requirement already satisfied: typeguard==2.13.3 in /usr/local/lib/python3.10/dist-packages (2.13.3)\n"
          ]
        }
      ],
      "source": [
        "# Janky code to do different setup when run in a Colab notebook vs VSCode\n",
        "DEBUG_MODE = False\n",
        "try:\n",
        "    import google.colab\n",
        "    IN_COLAB = True\n",
        "    print(\"Running as a Colab notebook\")\n",
        "    %pip install git+https://github.com/neelnanda-io/TransformerLens.git\n",
        "    # Install another version of node that makes PySvelte work way faster\n",
        "    !curl -fsSL https://deb.nodesource.com/setup_16.x | sudo -E bash -; sudo apt-get install -y nodejs\n",
        "    %pip install git+https://github.com/neelnanda-io/PySvelte.git\n",
        "    # Needed for PySvelte to work, v3 came out and broke things...\n",
        "    %pip install typeguard==2.13.3\n",
        "except:\n",
        "    IN_COLAB = False\n",
        "    print(\"Running as a Jupyter notebook - intended for development only!\")\n",
        "    from IPython import get_ipython\n",
        "\n",
        "    ipython = get_ipython()\n",
        "    # Code to automatically update the HookedTransformer code as its edited without restarting the kernel\n",
        "    ipython.magic(\"load_ext autoreload\")\n",
        "    ipython.magic(\"autoreload 2\")"
      ]
    },
    {
      "cell_type": "code",
      "execution_count": 2,
      "metadata": {
        "id": "ucSutS0c1kAw"
      },
      "outputs": [],
      "source": [
        "# Plotly needs a different renderer for VSCode/Notebooks vs Colab argh\n",
        "import plotly.io as pio\n",
        "\n",
        "if IN_COLAB or not DEBUG_MODE:\n",
        "    # Thanks to annoying rendering issues, Plotly graphics will either show up in colab OR Vscode depending on the renderer - this is bad for developing demos! Thus creating a debug mode.\n",
        "    pio.renderers.default = \"colab\"\n",
        "else:\n",
        "    pio.renderers.default = \"png\""
      ]
    },
    {
      "cell_type": "code",
      "execution_count": 3,
      "metadata": {
        "id": "uR_n0Mrl1kAx"
      },
      "outputs": [],
      "source": [
        "# Import stuff\n",
        "import torch\n",
        "import torch.nn as nn\n",
        "import torch.nn.functional as F\n",
        "import torch.optim as optim\n",
        "import numpy as np\n",
        "import einops\n",
        "import tqdm.notebook as tqdm\n",
        "import random\n",
        "from pathlib import Path\n",
        "import plotly.express as px\n",
        "from torch.utils.data import DataLoader\n",
        "\n",
        "from jaxtyping import Float, Int\n",
        "from typing import List, Union, Optional\n",
        "from functools import partial\n",
        "import copy\n",
        "\n",
        "import itertools\n",
        "from transformers import AutoModelForCausalLM, AutoConfig, AutoTokenizer\n",
        "import dataclasses\n",
        "from dataclasses import dataclass\n",
        "import datasets\n",
        "from IPython.display import HTML"
      ]
    },
    {
      "cell_type": "code",
      "execution_count": 4,
      "metadata": {
        "id": "YSZhMtBl1kAx"
      },
      "outputs": [],
      "source": [
        "import pysvelte\n",
        "\n",
        "import transformer_lens\n",
        "import transformer_lens.utils as utils\n",
        "from transformer_lens.hook_points import (\n",
        "    HookedRootModule,\n",
        "    HookPoint,\n",
        ")  # Hooking utilities\n",
        "from transformer_lens import HookedTransformer, HookedTransformerConfig, FactoredMatrix, ActivationCache"
      ]
    },
    {
      "cell_type": "markdown",
      "metadata": {
        "id": "DPzBb_kI1kAy"
      },
      "source": [
        "Plotting helper functions:"
      ]
    },
    {
      "cell_type": "code",
      "execution_count": 5,
      "metadata": {
        "id": "fBIDNqzV1kAy"
      },
      "outputs": [],
      "source": [
        "import plotly.graph_objects as go\n",
        "\n",
        "update_layout_set = {\"xaxis_range\", \"yaxis_range\", \"hovermode\", \"xaxis_title\", \"yaxis_title\", \"colorbar\", \"colorscale\", \"coloraxis\", \"title_x\", \"bargap\", \"bargroupgap\", \"xaxis_tickformat\", \"yaxis_tickformat\", \"title_y\", \"legend_title_text\", \"xaxis_showgrid\", \"xaxis_gridwidth\", \"xaxis_gridcolor\", \"yaxis_showgrid\", \"yaxis_gridwidth\"}\n",
        "def imshow(tensor, renderer=None, xaxis=\"\", yaxis=\"\", **kwargs):\n",
        "    kwargs_post = {k: v for k, v in kwargs.items() if k in update_layout_set}\n",
        "    kwargs_pre = {k: v for k, v in kwargs.items() if k not in update_layout_set}\n",
        "    if \"facet_labels\" in kwargs_pre:\n",
        "        facet_labels = kwargs_pre.pop(\"facet_labels\")\n",
        "    else:\n",
        "        facet_labels = None\n",
        "    if \"color_continuous_scale\" not in kwargs_pre:\n",
        "        kwargs_pre[\"color_continuous_scale\"] = \"RdBu\"\n",
        "    fig = px.imshow(utils.to_numpy(tensor), color_continuous_midpoint=0.0,labels={\"x\":xaxis, \"y\":yaxis}, **kwargs_pre).update_layout(**kwargs_post)\n",
        "    if facet_labels:\n",
        "        for i, label in enumerate(facet_labels):\n",
        "            fig.layout.annotations[i]['text'] = label\n",
        "\n",
        "    fig.show(renderer)\n",
        "\n",
        "def line(tensor, renderer=None, xaxis=\"\", yaxis=\"\", **kwargs):\n",
        "    px.line(y=utils.to_numpy(tensor), labels={\"x\":xaxis, \"y\":yaxis}, **kwargs).show(renderer)\n",
        "\n",
        "def scatter(x, y, xaxis=\"\", yaxis=\"\", caxis=\"\", renderer=None, **kwargs):\n",
        "    x = utils.to_numpy(x)\n",
        "    y = utils.to_numpy(y)\n",
        "    px.scatter(y=y, x=x, labels={\"x\":xaxis, \"y\":yaxis, \"color\":caxis}, **kwargs).show(renderer)\n",
        "\n",
        "def lines(lines_list, x=None, mode='lines', labels=None, xaxis='', yaxis='', title = '', log_y=False, hover=None, **kwargs):\n",
        "    # Helper function to plot multiple lines\n",
        "    if type(lines_list)==torch.Tensor:\n",
        "        lines_list = [lines_list[i] for i in range(lines_list.shape[0])]\n",
        "    if x is None:\n",
        "        x=np.arange(len(lines_list[0]))\n",
        "    fig = go.Figure(layout={'title':title})\n",
        "    fig.update_xaxes(title=xaxis)\n",
        "    fig.update_yaxes(title=yaxis)\n",
        "    for c, line in enumerate(lines_list):\n",
        "        if type(line)==torch.Tensor:\n",
        "            line = utils.to_numpy(line)\n",
        "        if labels is not None:\n",
        "            label = labels[c]\n",
        "        else:\n",
        "            label = c\n",
        "        fig.add_trace(go.Scatter(x=x, y=line, mode=mode, name=label, hovertext=hover, **kwargs))\n",
        "    if log_y:\n",
        "        fig.update_layout(yaxis_type=\"log\")\n",
        "    fig.show()\n",
        "\n",
        "def bar(tensor, renderer=None, xaxis=\"\", yaxis=\"\", **kwargs):\n",
        "    px.bar(\n",
        "        y=utils.to_numpy(tensor), \n",
        "        labels={\"x\": xaxis, \"y\": yaxis}, \n",
        "        template=\"simple_white\",\n",
        "        **kwargs).show(renderer)"
      ]
    },
    {
      "cell_type": "code",
      "source": [
        "import transformer_lens.patching as patching\n",
        "from transformer_lens import evals\n",
        "import math"
      ],
      "metadata": {
        "id": "MzEwzeib1tjE"
      },
      "execution_count": 6,
      "outputs": []
    },
    {
      "cell_type": "code",
      "source": [
        "def visualize_attn_patterns(heads, local_tokens, local_cache, title: str = \"\"):\n",
        "    labels = []\n",
        "    patterns = []\n",
        "    batch_index = 0\n",
        "    \n",
        "    for head in heads:\n",
        "        if isinstance(head, tuple):\n",
        "            layer, head_index = head\n",
        "        else:\n",
        "            layer, head_index = head // model.cfg.n_heads, head % model.cfg.n_heads\n",
        "        patterns.append(local_cache[\"pattern\", layer][batch_index, head_index])\n",
        "        labels.append(f\"L{layer}H{head_index}\")\n",
        "    patterns = torch.stack(patterns, dim=-1)\n",
        "    attn_viz = pysvelte.AttentionMulti(tokens=model.to_str_tokens(local_tokens[batch_index]), attention=patterns, head_labels=labels)\n",
        "    display(HTML(f\"<h3>{title}</h3>\"))\n",
        "    attn_viz.show()"
      ],
      "metadata": {
        "id": "AgWNZo0c7sp3"
      },
      "execution_count": 7,
      "outputs": []
    },
    {
      "cell_type": "markdown",
      "source": [
        "# Load Model"
      ],
      "metadata": {
        "id": "HdPsT2ZOxeua"
      }
    },
    {
      "cell_type": "code",
      "execution_count": 8,
      "metadata": {
        "id": "llysLeEq1kAy",
        "outputId": "738461be-da2b-4636-e2ab-0c958f7fecb9",
        "colab": {
          "base_uri": "https://localhost:8080/"
        }
      },
      "outputs": [
        {
          "output_type": "execute_result",
          "data": {
            "text/plain": [
              "<torch.autograd.grad_mode.set_grad_enabled at 0x7f382c8f6f80>"
            ]
          },
          "metadata": {},
          "execution_count": 8
        }
      ],
      "source": [
        "torch.set_grad_enabled(True)"
      ]
    },
    {
      "cell_type": "code",
      "source": [
        "device = 'cuda' if torch.cuda.is_available() else 'cpu'\n",
        "print(device)"
      ],
      "metadata": {
        "id": "S0QibP7y7xCm",
        "colab": {
          "base_uri": "https://localhost:8080/"
        },
        "outputId": "11116def-85f2-46c7-adaf-72e244c83ccf"
      },
      "execution_count": 9,
      "outputs": [
        {
          "output_type": "stream",
          "name": "stdout",
          "text": [
            "cuda\n"
          ]
        }
      ]
    },
    {
      "cell_type": "markdown",
      "source": [
        "Similar to the \"min int\" problem, the smallest model I found that could solve this task is a 1L, 1 head, attn-only transformer with no biases, or layernorms. The main difference is that this model uses positional embeddings."
      ],
      "metadata": {
        "id": "7FzM7etrgSC1"
      }
    },
    {
      "cell_type": "code",
      "source": [
        "LIST_LEN = 10\n",
        "MAX_NUM = 50\n",
        "cfg = HookedTransformerConfig(\n",
        "    n_layers=1,\n",
        "    d_model=128,\n",
        "    d_head=128,\n",
        "    n_ctx=LIST_LEN*2 + 2, # BOS 1 4 2 MID 1 2 4\n",
        "    d_vocab=MAX_NUM+2, # 0, 1, ..., MAX_NUM-1, BOS, MID\n",
        "    d_vocab_out=MAX_NUM,\n",
        "    attn_only=True,\n",
        "    normalization_type=None,\n",
        "    device=device,\n",
        "    seed=0\n",
        ")\n",
        "\n",
        "model = HookedTransformer(cfg)\n",
        "print(model)"
      ],
      "metadata": {
        "id": "7SU1oTr-9Mq3",
        "colab": {
          "base_uri": "https://localhost:8080/"
        },
        "outputId": "85d7677f-a803-4c20-8d5d-5d16b68cebf0"
      },
      "execution_count": 10,
      "outputs": [
        {
          "output_type": "stream",
          "name": "stdout",
          "text": [
            "HookedTransformer(\n",
            "  (embed): Embed()\n",
            "  (hook_embed): HookPoint()\n",
            "  (pos_embed): PosEmbed()\n",
            "  (hook_pos_embed): HookPoint()\n",
            "  (blocks): ModuleList(\n",
            "    (0): TransformerBlock(\n",
            "      (ln1): Identity()\n",
            "      (attn): Attention(\n",
            "        (hook_k): HookPoint()\n",
            "        (hook_q): HookPoint()\n",
            "        (hook_v): HookPoint()\n",
            "        (hook_z): HookPoint()\n",
            "        (hook_attn_scores): HookPoint()\n",
            "        (hook_pattern): HookPoint()\n",
            "        (hook_result): HookPoint()\n",
            "      )\n",
            "      (hook_q_input): HookPoint()\n",
            "      (hook_k_input): HookPoint()\n",
            "      (hook_v_input): HookPoint()\n",
            "      (hook_attn_out): HookPoint()\n",
            "      (hook_mlp_out): HookPoint()\n",
            "      (hook_resid_pre): HookPoint()\n",
            "      (hook_resid_post): HookPoint()\n",
            "    )\n",
            "  )\n",
            "  (unembed): Unembed()\n",
            ")\n"
          ]
        }
      ]
    },
    {
      "cell_type": "code",
      "source": [
        "# disable biases\n",
        "for name, param in model.named_parameters():\n",
        "    if 'b_' in name:\n",
        "        param.requires_grad = False\n",
        "    print(name, param.shape, param.requires_grad)"
      ],
      "metadata": {
        "colab": {
          "base_uri": "https://localhost:8080/"
        },
        "id": "QPWJNjeyR80L",
        "outputId": "33998318-4d0b-4b31-9503-bbc41c763d46"
      },
      "execution_count": 11,
      "outputs": [
        {
          "output_type": "stream",
          "name": "stdout",
          "text": [
            "embed.W_E torch.Size([52, 128]) True\n",
            "pos_embed.W_pos torch.Size([22, 128]) True\n",
            "blocks.0.attn.W_Q torch.Size([1, 128, 128]) True\n",
            "blocks.0.attn.W_K torch.Size([1, 128, 128]) True\n",
            "blocks.0.attn.W_V torch.Size([1, 128, 128]) True\n",
            "blocks.0.attn.W_O torch.Size([1, 128, 128]) True\n",
            "blocks.0.attn.b_Q torch.Size([1, 128]) False\n",
            "blocks.0.attn.b_K torch.Size([1, 128]) False\n",
            "blocks.0.attn.b_V torch.Size([1, 128]) False\n",
            "blocks.0.attn.b_O torch.Size([128]) False\n",
            "unembed.W_U torch.Size([128, 50]) True\n",
            "unembed.b_U torch.Size([50]) False\n"
          ]
        }
      ]
    },
    {
      "cell_type": "markdown",
      "source": [
        "# Training Code"
      ],
      "metadata": {
        "id": "hyLPtj4iUQ7C"
      }
    },
    {
      "cell_type": "markdown",
      "source": [
        "## Task Dataset"
      ],
      "metadata": {
        "id": "D8vqK9UfSP2p"
      }
    },
    {
      "cell_type": "code",
      "source": [
        "def make_data_generator(cfg, batch_size, seed=0):\n",
        "    torch.manual_seed(seed)\n",
        "    MID_TOKEN = cfg.d_vocab-1\n",
        "    BOS_TOKEN = cfg.d_vocab-2\n",
        "    while True:\n",
        "        x = torch.randint(0, cfg.d_vocab_out, (batch_size, LIST_LEN))\n",
        "        sorted_x = x.sort(dim=-1).values\n",
        "        mid_vec = torch.ones(batch_size).unsqueeze(-1) * MID_TOKEN\n",
        "        bos_vec = torch.ones(batch_size).unsqueeze(-1) * BOS_TOKEN\n",
        "        \n",
        "        tokens = torch.cat([bos_vec, x, mid_vec, sorted_x], dim=-1).to(torch.long)\n",
        "        yield tokens\n",
        "\n",
        "print(next(make_data_generator(cfg, 2)))"
      ],
      "metadata": {
        "colab": {
          "base_uri": "https://localhost:8080/"
        },
        "id": "tLVVL-94SNu-",
        "outputId": "6b3e944a-705d-490d-ef96-fbb357282ead"
      },
      "execution_count": 12,
      "outputs": [
        {
          "output_type": "stream",
          "name": "stdout",
          "text": [
            "tensor([[50, 44, 39, 33, 10, 13, 29, 27,  3, 47, 33, 51,  3, 10, 13, 27, 29, 33,\n",
            "         33, 39, 44, 47],\n",
            "        [50,  1, 16,  6, 49, 28, 26,  6, 18, 44, 33, 51,  1,  6,  6, 16, 18, 26,\n",
            "         28, 33, 44, 49]])\n"
          ]
        }
      ]
    },
    {
      "cell_type": "markdown",
      "source": [
        "## Loss Fn"
      ],
      "metadata": {
        "id": "s22ky3jcUJYI"
      }
    },
    {
      "cell_type": "code",
      "source": [
        "def loss_fn(logits, tokens):\n",
        "    logits = logits[:, -(LIST_LEN+1):-1, :]\n",
        "    log_probs = logits.log_softmax(dim=-1)\n",
        "    labels = tokens[:, -LIST_LEN:]\n",
        "    correct_log_probs = log_probs.gather(dim=-1, index=labels[..., None])[..., 0]\n",
        "    return -correct_log_probs.mean()\n",
        "\n",
        "with torch.no_grad():\n",
        "    tokens = next(make_data_generator(cfg, 2))\n",
        "    tokens = tokens.to(device)\n",
        "    logits = model(tokens)\n",
        "    loss = loss_fn(logits, tokens)\n",
        "    print(loss)"
      ],
      "metadata": {
        "colab": {
          "base_uri": "https://localhost:8080/"
        },
        "id": "6EFCdCHOTp7B",
        "outputId": "9a7dd14d-dcec-4310-cf60-c5e75e4400c7"
      },
      "execution_count": 13,
      "outputs": [
        {
          "output_type": "stream",
          "name": "stdout",
          "text": [
            "tensor(3.9422, device='cuda:0')\n"
          ]
        }
      ]
    },
    {
      "cell_type": "code",
      "source": [
        "print(\"uniform loss:\", np.log(cfg.d_vocab_out))"
      ],
      "metadata": {
        "colab": {
          "base_uri": "https://localhost:8080/"
        },
        "id": "b6-ZV1pzU9a5",
        "outputId": "ac63807c-74ec-405a-a43a-fe0500dd1b5d"
      },
      "execution_count": 14,
      "outputs": [
        {
          "output_type": "stream",
          "name": "stdout",
          "text": [
            "uniform loss: 3.912023005428146\n"
          ]
        }
      ]
    },
    {
      "cell_type": "markdown",
      "source": [
        "## Setup optimizer / dataloader"
      ],
      "metadata": {
        "id": "zPwPez1hXtYA"
      }
    },
    {
      "cell_type": "code",
      "source": [
        "lr = 1e-3\n",
        "wd = 0.01\n",
        "betas = (0.9, 0.98)\n",
        "\n",
        "optimizer = torch.optim.AdamW(model.parameters(), lr=lr, weight_decay=wd, betas=betas)\n",
        "\n",
        "batch_size = 256\n",
        "train_data_loader = make_data_generator(cfg, batch_size)"
      ],
      "metadata": {
        "id": "gY4qGOMaXv5I"
      },
      "execution_count": 15,
      "outputs": []
    },
    {
      "cell_type": "markdown",
      "source": [
        "## Training Loop"
      ],
      "metadata": {
        "id": "7Acmvq77YAcp"
      }
    },
    {
      "cell_type": "code",
      "source": [
        "num_epochs = 10000\n",
        "\n",
        "train_losses = []\n",
        "for epoch in tqdm.tqdm(range(num_epochs)):\n",
        "    tokens = next(train_data_loader)\n",
        "    tokens = tokens.to(device)\n",
        "\n",
        "    logits = model(tokens)\n",
        "    loss = loss_fn(logits, tokens)\n",
        "    loss.backward()\n",
        "    train_losses.append(loss.item())\n",
        "\n",
        "    optimizer.step()\n",
        "    optimizer.zero_grad()\n",
        "\n",
        "    if epoch % 100 == 0:\n",
        "        print(f\"Epoch: {epoch}, train_loss: {loss.item()}\")"
      ],
      "metadata": {
        "colab": {
          "base_uri": "https://localhost:8080/",
          "height": 1000,
          "referenced_widgets": [
            "939e087bd6824317a7f48279ade4037c",
            "2d544a62cfed42b4addddce5a340b5a8",
            "9570448c114c49dcb2b77690ec164e23",
            "c4c02ab55ee84f9887fdab5d31b2242a",
            "b8df6fd4b33e409796e72fe152ff5f1c",
            "876cbab01ccc4212b149ab61ed29b357",
            "bc5be23ffeaa48fc9e9f678f94d8e62e",
            "a011d817c679480e9f6b80eb873ce876",
            "24129540351e4cc180c0e3c50b90605e",
            "a47a8837f1e54e3e8d97de97cc923b7a",
            "d8140474916e49bbb600f44ddb2caa98"
          ]
        },
        "id": "qe0eyn8zX_3w",
        "outputId": "1d4d4565-6e53-4804-aa6b-7de5d1bdc9de"
      },
      "execution_count": 16,
      "outputs": [
        {
          "output_type": "display_data",
          "data": {
            "text/plain": [
              "  0%|          | 0/10000 [00:00<?, ?it/s]"
            ],
            "application/vnd.jupyter.widget-view+json": {
              "version_major": 2,
              "version_minor": 0,
              "model_id": "939e087bd6824317a7f48279ade4037c"
            }
          },
          "metadata": {}
        },
        {
          "output_type": "stream",
          "name": "stdout",
          "text": [
            "Epoch: 0, train_loss: 3.9172489643096924\n",
            "Epoch: 100, train_loss: 2.3987338542938232\n",
            "Epoch: 200, train_loss: 1.2190136909484863\n",
            "Epoch: 300, train_loss: 0.4392028748989105\n",
            "Epoch: 400, train_loss: 0.3081232011318207\n",
            "Epoch: 500, train_loss: 0.22951793670654297\n",
            "Epoch: 600, train_loss: 0.17295096814632416\n",
            "Epoch: 700, train_loss: 0.16446828842163086\n",
            "Epoch: 800, train_loss: 0.1401982307434082\n",
            "Epoch: 900, train_loss: 0.15263152122497559\n",
            "Epoch: 1000, train_loss: 0.1349060982465744\n",
            "Epoch: 1100, train_loss: 0.13596658408641815\n",
            "Epoch: 1200, train_loss: 0.12159226089715958\n",
            "Epoch: 1300, train_loss: 0.10960417985916138\n",
            "Epoch: 1400, train_loss: 0.1079125627875328\n",
            "Epoch: 1500, train_loss: 0.09948201477527618\n",
            "Epoch: 1600, train_loss: 0.10766289383172989\n",
            "Epoch: 1700, train_loss: 0.10108118504285812\n",
            "Epoch: 1800, train_loss: 0.12263192981481552\n",
            "Epoch: 1900, train_loss: 0.10367965698242188\n",
            "Epoch: 2000, train_loss: 0.11788195371627808\n",
            "Epoch: 2100, train_loss: 0.10300252586603165\n",
            "Epoch: 2200, train_loss: 0.10170023888349533\n",
            "Epoch: 2300, train_loss: 0.11112874001264572\n",
            "Epoch: 2400, train_loss: 0.0907863900065422\n",
            "Epoch: 2500, train_loss: 0.08786841481924057\n",
            "Epoch: 2600, train_loss: 0.08017747849225998\n",
            "Epoch: 2700, train_loss: 0.08198552578687668\n",
            "Epoch: 2800, train_loss: 0.08011473715305328\n",
            "Epoch: 2900, train_loss: 0.08798092603683472\n",
            "Epoch: 3000, train_loss: 0.08739271014928818\n",
            "Epoch: 3100, train_loss: 0.07409738749265671\n",
            "Epoch: 3200, train_loss: 0.08091635257005692\n",
            "Epoch: 3300, train_loss: 0.0717572569847107\n",
            "Epoch: 3400, train_loss: 0.06810206174850464\n",
            "Epoch: 3500, train_loss: 0.08440282195806503\n",
            "Epoch: 3600, train_loss: 0.08790038526058197\n",
            "Epoch: 3700, train_loss: 0.055397678166627884\n",
            "Epoch: 3800, train_loss: 0.07220838218927383\n",
            "Epoch: 3900, train_loss: 0.06892742216587067\n",
            "Epoch: 4000, train_loss: 0.0526638999581337\n",
            "Epoch: 4100, train_loss: 0.0504130981862545\n",
            "Epoch: 4200, train_loss: 0.04701066389679909\n",
            "Epoch: 4300, train_loss: 0.052835848182439804\n",
            "Epoch: 4400, train_loss: 0.06106376275420189\n",
            "Epoch: 4500, train_loss: 0.03967764601111412\n",
            "Epoch: 4600, train_loss: 0.045637935400009155\n",
            "Epoch: 4700, train_loss: 0.049423377960920334\n",
            "Epoch: 4800, train_loss: 0.04103114828467369\n",
            "Epoch: 4900, train_loss: 0.032530318945646286\n",
            "Epoch: 5000, train_loss: 0.03604692593216896\n",
            "Epoch: 5100, train_loss: 0.06109661981463432\n",
            "Epoch: 5200, train_loss: 0.0378643237054348\n",
            "Epoch: 5300, train_loss: 0.04218633100390434\n",
            "Epoch: 5400, train_loss: 0.031152626499533653\n",
            "Epoch: 5500, train_loss: 0.03396552428603172\n",
            "Epoch: 5600, train_loss: 0.03239196166396141\n",
            "Epoch: 5700, train_loss: 0.032644085586071014\n",
            "Epoch: 5800, train_loss: 0.02709365449845791\n",
            "Epoch: 5900, train_loss: 0.030244488269090652\n",
            "Epoch: 6000, train_loss: 0.02423373982310295\n",
            "Epoch: 6100, train_loss: 0.028905997052788734\n",
            "Epoch: 6200, train_loss: 0.03310428187251091\n",
            "Epoch: 6300, train_loss: 0.028574390336871147\n",
            "Epoch: 6400, train_loss: 0.028557265177369118\n",
            "Epoch: 6500, train_loss: 0.01827961578965187\n",
            "Epoch: 6600, train_loss: 0.021913843229413033\n",
            "Epoch: 6700, train_loss: 0.01934007555246353\n",
            "Epoch: 6800, train_loss: 0.020978886634111404\n",
            "Epoch: 6900, train_loss: 0.019298946484923363\n",
            "Epoch: 7000, train_loss: 0.021241968497633934\n",
            "Epoch: 7100, train_loss: 0.017755260691046715\n",
            "Epoch: 7200, train_loss: 0.022762490436434746\n",
            "Epoch: 7300, train_loss: 0.023663707077503204\n",
            "Epoch: 7400, train_loss: 0.02515055052936077\n",
            "Epoch: 7500, train_loss: 0.022726798430085182\n",
            "Epoch: 7600, train_loss: 0.02688748575747013\n",
            "Epoch: 7700, train_loss: 0.02478068694472313\n",
            "Epoch: 7800, train_loss: 0.023699790239334106\n",
            "Epoch: 7900, train_loss: 0.024109184741973877\n",
            "Epoch: 8000, train_loss: 0.02274169772863388\n",
            "Epoch: 8100, train_loss: 0.01647796295583248\n",
            "Epoch: 8200, train_loss: 0.019342049956321716\n",
            "Epoch: 8300, train_loss: 0.015897247940301895\n",
            "Epoch: 8400, train_loss: 0.025213463231921196\n",
            "Epoch: 8500, train_loss: 0.016112128272652626\n",
            "Epoch: 8600, train_loss: 0.04325265809893608\n",
            "Epoch: 8700, train_loss: 0.024800710380077362\n",
            "Epoch: 8800, train_loss: 0.032085344195365906\n",
            "Epoch: 8900, train_loss: 0.009468602947890759\n",
            "Epoch: 9000, train_loss: 0.04632440209388733\n",
            "Epoch: 9100, train_loss: 0.018265971913933754\n",
            "Epoch: 9200, train_loss: 0.03141786530613899\n",
            "Epoch: 9300, train_loss: 0.016125719994306564\n",
            "Epoch: 9400, train_loss: 0.024192942306399345\n",
            "Epoch: 9500, train_loss: 0.01101586502045393\n",
            "Epoch: 9600, train_loss: 0.013714306056499481\n",
            "Epoch: 9700, train_loss: 0.013964948244392872\n",
            "Epoch: 9800, train_loss: 0.01364861149340868\n",
            "Epoch: 9900, train_loss: 0.013939127326011658\n"
          ]
        }
      ]
    },
    {
      "cell_type": "markdown",
      "source": [
        "## Sanity check"
      ],
      "metadata": {
        "id": "k1Nv_thKYdHb"
      }
    },
    {
      "cell_type": "markdown",
      "source": [
        "Note this isn't really a held out test set, just a random sample. Although it's probably fine since we have essentially infinite data"
      ],
      "metadata": {
        "id": "qa_uu-I4Y6xU"
      }
    },
    {
      "cell_type": "code",
      "source": [
        "test_data = next(train_data_loader).to(device)\n",
        "with torch.inference_mode():\n",
        "    logits = model(test_data)\n",
        "    logits = logits[:, -(LIST_LEN+1):-1, :]\n",
        "    preds = logits.argmax(dim=-1)\n",
        "    labels = test_data[:, -LIST_LEN:]\n",
        "    acc = (preds == labels).float().mean()\n",
        "    print(\"accuracy on test sample:\", acc.item())"
      ],
      "metadata": {
        "colab": {
          "base_uri": "https://localhost:8080/"
        },
        "id": "QxUV0NSmYUib",
        "outputId": "2fd8a1b3-feff-4d74-9c10-bed9d3d4dfd0"
      },
      "execution_count": 17,
      "outputs": [
        {
          "output_type": "stream",
          "name": "stdout",
          "text": [
            "accuracy on test sample: 0.9957031607627869\n"
          ]
        }
      ]
    },
    {
      "cell_type": "markdown",
      "source": [
        "# Reverse Engineering"
      ],
      "metadata": {
        "id": "yc2_QB2UUXa9"
      }
    },
    {
      "cell_type": "markdown",
      "source": [
        "## Stare at attn patterns"
      ],
      "metadata": {
        "id": "9MPhxx7jbBHZ"
      }
    },
    {
      "cell_type": "markdown",
      "source": [
        "Staring at attn patterns is a reasonable first step. Based on the \"min of two ints\" problem, a natural guess would be to attend to the correct answer at each prediction position. I'll start with the average over our test sample.\n"
      ],
      "metadata": {
        "id": "zz6IMK4fehce"
      }
    },
    {
      "cell_type": "code",
      "source": [
        "original_logits, cache = model.run_with_cache(test_data)\n",
        "print(original_logits.shape)\n",
        "print(cache)"
      ],
      "metadata": {
        "colab": {
          "base_uri": "https://localhost:8080/"
        },
        "id": "iwkn4d3gZMvG",
        "outputId": "3b4d9cc7-b270-4e8a-a33b-d510897ba2fb"
      },
      "execution_count": 18,
      "outputs": [
        {
          "output_type": "stream",
          "name": "stdout",
          "text": [
            "torch.Size([256, 22, 50])\n",
            "ActivationCache with keys ['hook_embed', 'hook_pos_embed', 'blocks.0.hook_resid_pre', 'blocks.0.attn.hook_q', 'blocks.0.attn.hook_k', 'blocks.0.attn.hook_v', 'blocks.0.attn.hook_attn_scores', 'blocks.0.attn.hook_pattern', 'blocks.0.attn.hook_z', 'blocks.0.hook_attn_out', 'blocks.0.hook_resid_post']\n"
          ]
        }
      ]
    },
    {
      "cell_type": "code",
      "source": [
        "layer_0_patterns = cache['pattern', 0]\n",
        "print(layer_0_patterns.shape)"
      ],
      "metadata": {
        "colab": {
          "base_uri": "https://localhost:8080/"
        },
        "id": "ceCh_xo1bKsN",
        "outputId": "8a4f9970-03b5-4257-d0e4-3b7eb9de1a9e"
      },
      "execution_count": 19,
      "outputs": [
        {
          "output_type": "stream",
          "name": "stdout",
          "text": [
            "torch.Size([256, 1, 22, 22])\n"
          ]
        }
      ]
    },
    {
      "cell_type": "code",
      "source": [
        "def tokens_to_plotly_labels(tokens):\n",
        "    if tokens.ndim == 2:\n",
        "        tokens = tokens[0]\n",
        "    labels = [f\"{tok}_{i}\" for i, tok in enumerate(tokens)]\n",
        "    labels[0] = 'BOS'\n",
        "    labels[LIST_LEN+1] = 'MID'\n",
        "    return labels\n",
        "\n",
        "tokens_to_plotly_labels(test_data[0])"
      ],
      "metadata": {
        "colab": {
          "base_uri": "https://localhost:8080/"
        },
        "id": "hMTdXVMdb2SJ",
        "outputId": "b05dd15c-ff82-4a05-d24d-d99ecaa11e8f"
      },
      "execution_count": 20,
      "outputs": [
        {
          "output_type": "execute_result",
          "data": {
            "text/plain": [
              "['BOS',\n",
              " '46_1',\n",
              " '11_2',\n",
              " '2_3',\n",
              " '25_4',\n",
              " '43_5',\n",
              " '12_6',\n",
              " '44_7',\n",
              " '41_8',\n",
              " '44_9',\n",
              " '4_10',\n",
              " 'MID',\n",
              " '2_12',\n",
              " '4_13',\n",
              " '11_14',\n",
              " '12_15',\n",
              " '25_16',\n",
              " '41_17',\n",
              " '43_18',\n",
              " '44_19',\n",
              " '44_20',\n",
              " '46_21']"
            ]
          },
          "metadata": {},
          "execution_count": 20
        }
      ]
    },
    {
      "cell_type": "code",
      "source": [
        "imshow(\n",
        "    einops.reduce(layer_0_patterns[:, 0, :, :], \"batch dest src -> dest src\", \"mean\"),\n",
        "    title=f\"attn 0.0 patterns avged over test sample\",\n",
        "    xaxis=\"src\", yaxis=\"dest\",\n",
        "    x=tokens_to_plotly_labels(test_data[0]),\n",
        "    y=tokens_to_plotly_labels(test_data[0]),\n",
        ")"
      ],
      "metadata": {
        "colab": {
          "base_uri": "https://localhost:8080/",
          "height": 542
        },
        "id": "jpV9LPczbOhD",
        "outputId": "c4e93de0-93bd-4e62-c960-f439fa81fea0"
      },
      "execution_count": 21,
      "outputs": [
        {
          "output_type": "display_data",
          "data": {
            "text/html": [
              "<html>\n",
              "<head><meta charset=\"utf-8\" /></head>\n",
              "<body>\n",
              "    <div>            <script src=\"https://cdnjs.cloudflare.com/ajax/libs/mathjax/2.7.5/MathJax.js?config=TeX-AMS-MML_SVG\"></script><script type=\"text/javascript\">if (window.MathJax && window.MathJax.Hub && window.MathJax.Hub.Config) {window.MathJax.Hub.Config({SVG: {font: \"STIX-Web\"}});}</script>                <script type=\"text/javascript\">window.PlotlyConfig = {MathJaxConfig: 'local'};</script>\n",
              "        <script src=\"https://cdn.plot.ly/plotly-2.18.2.min.js\"></script>                <div id=\"846190cb-38f2-4305-8fb0-686a760c01f2\" class=\"plotly-graph-div\" style=\"height:525px; width:100%;\"></div>            <script type=\"text/javascript\">                                    window.PLOTLYENV=window.PLOTLYENV || {};                                    if (document.getElementById(\"846190cb-38f2-4305-8fb0-686a760c01f2\")) {                    Plotly.newPlot(                        \"846190cb-38f2-4305-8fb0-686a760c01f2\",                        [{\"coloraxis\":\"coloraxis\",\"name\":\"0\",\"x\":[\"BOS\",\"46_1\",\"11_2\",\"2_3\",\"25_4\",\"43_5\",\"12_6\",\"44_7\",\"41_8\",\"44_9\",\"4_10\",\"MID\",\"2_12\",\"4_13\",\"11_14\",\"12_15\",\"25_16\",\"41_17\",\"43_18\",\"44_19\",\"44_20\",\"46_21\"],\"y\":[\"BOS\",\"46_1\",\"11_2\",\"2_3\",\"25_4\",\"43_5\",\"12_6\",\"44_7\",\"41_8\",\"44_9\",\"4_10\",\"MID\",\"2_12\",\"4_13\",\"11_14\",\"12_15\",\"25_16\",\"41_17\",\"43_18\",\"44_19\",\"44_20\",\"46_21\"],\"z\":[[1.0,0.0,0.0,0.0,0.0,0.0,0.0,0.0,0.0,0.0,0.0,0.0,0.0,0.0,0.0,0.0,0.0,0.0,0.0,0.0,0.0,0.0],[0.3264285922050476,0.6735714077949524,0.0,0.0,0.0,0.0,0.0,0.0,0.0,0.0,0.0,0.0,0.0,0.0,0.0,0.0,0.0,0.0,0.0,0.0,0.0,0.0],[0.23729774355888367,0.27908945083618164,0.4836128056049347,0.0,0.0,0.0,0.0,0.0,0.0,0.0,0.0,0.0,0.0,0.0,0.0,0.0,0.0,0.0,0.0,0.0,0.0,0.0],[0.1824532300233841,0.1974189132452011,0.2221592515707016,0.397968590259552,0.0,0.0,0.0,0.0,0.0,0.0,0.0,0.0,0.0,0.0,0.0,0.0,0.0,0.0,0.0,0.0,0.0,0.0],[0.1623038947582245,0.17677655816078186,0.1736571192741394,0.1980426013469696,0.28921982645988464,0.0,0.0,0.0,0.0,0.0,0.0,0.0,0.0,0.0,0.0,0.0,0.0,0.0,0.0,0.0,0.0,0.0],[0.11207494139671326,0.17103329300880432,0.1563887894153595,0.17047441005706787,0.13730910420417786,0.2527194619178772,0.0,0.0,0.0,0.0,0.0,0.0,0.0,0.0,0.0,0.0,0.0,0.0,0.0,0.0,0.0,0.0],[0.1046740859746933,0.12461169064044952,0.13235989212989807,0.14619077742099762,0.13202644884586334,0.14274758100509644,0.21738949418067932,0.0,0.0,0.0,0.0,0.0,0.0,0.0,0.0,0.0,0.0,0.0,0.0,0.0,0.0,0.0],[0.10864552110433578,0.10618177056312561,0.11015918850898743,0.13034820556640625,0.11714442074298859,0.11812455207109451,0.1199708953499794,0.18942543864250183,0.0,0.0,0.0,0.0,0.0,0.0,0.0,0.0,0.0,0.0,0.0,0.0,0.0,0.0],[0.10485408455133438,0.08849097788333893,0.10408612340688705,0.1083543598651886,0.09776071459054947,0.10498462617397308,0.10769379884004593,0.10986965894699097,0.1739056557416916,0.0,0.0,0.0,0.0,0.0,0.0,0.0,0.0,0.0,0.0,0.0,0.0,0.0],[0.08787598460912704,0.09085804969072342,0.09624597430229187,0.10071951150894165,0.08370468020439148,0.10203731805086136,0.09019570052623749,0.09315215051174164,0.0987754687666893,0.15643513202667236,0.0,0.0,0.0,0.0,0.0,0.0,0.0,0.0,0.0,0.0,0.0,0.0],[0.07569868862628937,0.08798445761203766,0.09100373089313507,0.09630576521158218,0.08841552585363388,0.08662598580121994,0.08599613606929779,0.07825581729412079,0.08357502520084381,0.08323238790035248,0.14290648698806763,0.0,0.0,0.0,0.0,0.0,0.0,0.0,0.0,0.0,0.0,0.0],[0.025768736377358437,0.09558616578578949,0.09614311158657074,0.08820313215255737,0.09852774441242218,0.08197930455207825,0.08740730583667755,0.10732237249612808,0.10428425669670105,0.10102081298828125,0.09448927640914917,0.01926778070628643,0.0,0.0,0.0,0.0,0.0,0.0,0.0,0.0,0.0,0.0],[0.1348538100719452,0.08628818392753601,0.08940303325653076,0.07741621136665344,0.08951539546251297,0.07230420410633087,0.07877257466316223,0.09012748301029205,0.08940567076206207,0.09326189756393433,0.08306998014450073,0.009682592004537582,0.0058989571407437325,0.0,0.0,0.0,0.0,0.0,0.0,0.0,0.0,0.0],[0.14641529321670532,0.08163106441497803,0.08490774780511856,0.07330445200204849,0.08480626344680786,0.07195520401000977,0.08010596036911011,0.08216461539268494,0.08076153695583344,0.08584067225456238,0.07868419587612152,0.040497954934835434,0.0024108500219881535,0.00651421258226037,0.0,0.0,0.0,0.0,0.0,0.0,0.0,0.0],[0.1186951994895935,0.07656394690275192,0.08201807737350464,0.07467003166675568,0.082010418176651,0.07508406043052673,0.07979647815227509,0.0789087638258934,0.0789492055773735,0.0782407596707344,0.07962745428085327,0.0844092071056366,0.0016502344515174627,0.00279286690056324,0.006583322770893574,0.0,0.0,0.0,0.0,0.0,0.0,0.0],[0.08293814957141876,0.07158958911895752,0.08032120019197464,0.07707889378070831,0.08038589358329773,0.08124816417694092,0.07714548707008362,0.07391742616891861,0.07954918593168259,0.07510049641132355,0.08000212907791138,0.12923096120357513,0.0015050795627757907,0.001734218210913241,0.0028612962923943996,0.00539182685315609,0.0,0.0,0.0,0.0,0.0,0.0],[0.048499397933483124,0.0742354542016983,0.07818248122930527,0.0798114538192749,0.07823140919208527,0.08435162156820297,0.08095157891511917,0.07347164303064346,0.0746840089559555,0.07692313194274902,0.07862290740013123,0.16086985170841217,0.001354989013634622,0.0012547954684123397,0.0015748041914775968,0.002135470975190401,0.004845022689551115,0.0,0.0,0.0,0.0,0.0],[0.023877527564764023,0.07774342596530914,0.08131994307041168,0.08764241635799408,0.07356639206409454,0.08501435071229935,0.07921496778726578,0.08042962849140167,0.07263845205307007,0.07936567068099976,0.0771397203207016,0.17260050773620605,0.0010178538504987955,0.000833215075545013,0.0009326664148829877,0.0010970797156915069,0.0017570201307535172,0.0038091777823865414,0.0,0.0,0.0,0.0],[0.009672069922089577,0.07960964739322662,0.08119642734527588,0.09387987852096558,0.07235796749591827,0.09073619544506073,0.0846061259508133,0.0825660452246666,0.07520279288291931,0.07935461401939392,0.07937726378440857,0.16440682113170624,0.000551413104403764,0.0004372767871245742,0.000481460738228634,0.0005795347969979048,0.0008975839009508491,0.0012557163136079907,0.002831175457686186,0.0,0.0,0.0],[0.0036977767013013363,0.08644211292266846,0.08818437159061432,0.10254815220832825,0.07933805882930756,0.0996207520365715,0.08556888997554779,0.08616811782121658,0.08359828591346741,0.0851036086678505,0.08173965662717819,0.11457019299268723,0.00011646090570138767,0.0001119673834182322,0.00013925385428592563,0.0002085491578327492,0.00045829772716388106,0.0005607766797766089,0.0008082434069365263,0.0010164916748180985,0.0,0.0],[6.284473784035072e-05,0.10326419025659561,0.09094174206256866,0.12250684201717377,0.07627882063388824,0.10218679904937744,0.10550571978092194,0.10047305375337601,0.08901681005954742,0.10779968649148941,0.09607364982366562,0.00583901209756732,2.4754081096034497e-06,5.229867383604869e-06,2.738897364906734e-06,4.890786840405781e-06,9.980380127672106e-06,9.974010026780888e-06,7.400815775326919e-06,3.060246172026382e-06,5.0709395509329624e-06,0.0],[0.005856038071215153,0.031414005905389786,0.030846279114484787,0.035490356385707855,0.0264386385679245,0.03288400173187256,0.03177211433649063,0.03018491342663765,0.028821216896176338,0.03046710416674614,0.03029531240463257,0.14901502430438995,0.1969912052154541,0.09378405660390854,0.03767775744199753,0.021429557353258133,0.01867685839533806,0.014055023901164532,0.01029974315315485,0.006858170963823795,0.006339164916425943,0.13040345907211304]],\"type\":\"heatmap\",\"xaxis\":\"x\",\"yaxis\":\"y\",\"hovertemplate\":\"src: %{x}<br>dest: %{y}<br>color: %{z}<extra></extra>\"}],                        {\"template\":{\"data\":{\"histogram2dcontour\":[{\"type\":\"histogram2dcontour\",\"colorbar\":{\"outlinewidth\":0,\"ticks\":\"\"},\"colorscale\":[[0.0,\"#0d0887\"],[0.1111111111111111,\"#46039f\"],[0.2222222222222222,\"#7201a8\"],[0.3333333333333333,\"#9c179e\"],[0.4444444444444444,\"#bd3786\"],[0.5555555555555556,\"#d8576b\"],[0.6666666666666666,\"#ed7953\"],[0.7777777777777778,\"#fb9f3a\"],[0.8888888888888888,\"#fdca26\"],[1.0,\"#f0f921\"]]}],\"choropleth\":[{\"type\":\"choropleth\",\"colorbar\":{\"outlinewidth\":0,\"ticks\":\"\"}}],\"histogram2d\":[{\"type\":\"histogram2d\",\"colorbar\":{\"outlinewidth\":0,\"ticks\":\"\"},\"colorscale\":[[0.0,\"#0d0887\"],[0.1111111111111111,\"#46039f\"],[0.2222222222222222,\"#7201a8\"],[0.3333333333333333,\"#9c179e\"],[0.4444444444444444,\"#bd3786\"],[0.5555555555555556,\"#d8576b\"],[0.6666666666666666,\"#ed7953\"],[0.7777777777777778,\"#fb9f3a\"],[0.8888888888888888,\"#fdca26\"],[1.0,\"#f0f921\"]]}],\"heatmap\":[{\"type\":\"heatmap\",\"colorbar\":{\"outlinewidth\":0,\"ticks\":\"\"},\"colorscale\":[[0.0,\"#0d0887\"],[0.1111111111111111,\"#46039f\"],[0.2222222222222222,\"#7201a8\"],[0.3333333333333333,\"#9c179e\"],[0.4444444444444444,\"#bd3786\"],[0.5555555555555556,\"#d8576b\"],[0.6666666666666666,\"#ed7953\"],[0.7777777777777778,\"#fb9f3a\"],[0.8888888888888888,\"#fdca26\"],[1.0,\"#f0f921\"]]}],\"heatmapgl\":[{\"type\":\"heatmapgl\",\"colorbar\":{\"outlinewidth\":0,\"ticks\":\"\"},\"colorscale\":[[0.0,\"#0d0887\"],[0.1111111111111111,\"#46039f\"],[0.2222222222222222,\"#7201a8\"],[0.3333333333333333,\"#9c179e\"],[0.4444444444444444,\"#bd3786\"],[0.5555555555555556,\"#d8576b\"],[0.6666666666666666,\"#ed7953\"],[0.7777777777777778,\"#fb9f3a\"],[0.8888888888888888,\"#fdca26\"],[1.0,\"#f0f921\"]]}],\"contourcarpet\":[{\"type\":\"contourcarpet\",\"colorbar\":{\"outlinewidth\":0,\"ticks\":\"\"}}],\"contour\":[{\"type\":\"contour\",\"colorbar\":{\"outlinewidth\":0,\"ticks\":\"\"},\"colorscale\":[[0.0,\"#0d0887\"],[0.1111111111111111,\"#46039f\"],[0.2222222222222222,\"#7201a8\"],[0.3333333333333333,\"#9c179e\"],[0.4444444444444444,\"#bd3786\"],[0.5555555555555556,\"#d8576b\"],[0.6666666666666666,\"#ed7953\"],[0.7777777777777778,\"#fb9f3a\"],[0.8888888888888888,\"#fdca26\"],[1.0,\"#f0f921\"]]}],\"surface\":[{\"type\":\"surface\",\"colorbar\":{\"outlinewidth\":0,\"ticks\":\"\"},\"colorscale\":[[0.0,\"#0d0887\"],[0.1111111111111111,\"#46039f\"],[0.2222222222222222,\"#7201a8\"],[0.3333333333333333,\"#9c179e\"],[0.4444444444444444,\"#bd3786\"],[0.5555555555555556,\"#d8576b\"],[0.6666666666666666,\"#ed7953\"],[0.7777777777777778,\"#fb9f3a\"],[0.8888888888888888,\"#fdca26\"],[1.0,\"#f0f921\"]]}],\"mesh3d\":[{\"type\":\"mesh3d\",\"colorbar\":{\"outlinewidth\":0,\"ticks\":\"\"}}],\"scatter\":[{\"fillpattern\":{\"fillmode\":\"overlay\",\"size\":10,\"solidity\":0.2},\"type\":\"scatter\"}],\"parcoords\":[{\"type\":\"parcoords\",\"line\":{\"colorbar\":{\"outlinewidth\":0,\"ticks\":\"\"}}}],\"scatterpolargl\":[{\"type\":\"scatterpolargl\",\"marker\":{\"colorbar\":{\"outlinewidth\":0,\"ticks\":\"\"}}}],\"bar\":[{\"error_x\":{\"color\":\"#2a3f5f\"},\"error_y\":{\"color\":\"#2a3f5f\"},\"marker\":{\"line\":{\"color\":\"#E5ECF6\",\"width\":0.5},\"pattern\":{\"fillmode\":\"overlay\",\"size\":10,\"solidity\":0.2}},\"type\":\"bar\"}],\"scattergeo\":[{\"type\":\"scattergeo\",\"marker\":{\"colorbar\":{\"outlinewidth\":0,\"ticks\":\"\"}}}],\"scatterpolar\":[{\"type\":\"scatterpolar\",\"marker\":{\"colorbar\":{\"outlinewidth\":0,\"ticks\":\"\"}}}],\"histogram\":[{\"marker\":{\"pattern\":{\"fillmode\":\"overlay\",\"size\":10,\"solidity\":0.2}},\"type\":\"histogram\"}],\"scattergl\":[{\"type\":\"scattergl\",\"marker\":{\"colorbar\":{\"outlinewidth\":0,\"ticks\":\"\"}}}],\"scatter3d\":[{\"type\":\"scatter3d\",\"line\":{\"colorbar\":{\"outlinewidth\":0,\"ticks\":\"\"}},\"marker\":{\"colorbar\":{\"outlinewidth\":0,\"ticks\":\"\"}}}],\"scattermapbox\":[{\"type\":\"scattermapbox\",\"marker\":{\"colorbar\":{\"outlinewidth\":0,\"ticks\":\"\"}}}],\"scatterternary\":[{\"type\":\"scatterternary\",\"marker\":{\"colorbar\":{\"outlinewidth\":0,\"ticks\":\"\"}}}],\"scattercarpet\":[{\"type\":\"scattercarpet\",\"marker\":{\"colorbar\":{\"outlinewidth\":0,\"ticks\":\"\"}}}],\"carpet\":[{\"aaxis\":{\"endlinecolor\":\"#2a3f5f\",\"gridcolor\":\"white\",\"linecolor\":\"white\",\"minorgridcolor\":\"white\",\"startlinecolor\":\"#2a3f5f\"},\"baxis\":{\"endlinecolor\":\"#2a3f5f\",\"gridcolor\":\"white\",\"linecolor\":\"white\",\"minorgridcolor\":\"white\",\"startlinecolor\":\"#2a3f5f\"},\"type\":\"carpet\"}],\"table\":[{\"cells\":{\"fill\":{\"color\":\"#EBF0F8\"},\"line\":{\"color\":\"white\"}},\"header\":{\"fill\":{\"color\":\"#C8D4E3\"},\"line\":{\"color\":\"white\"}},\"type\":\"table\"}],\"barpolar\":[{\"marker\":{\"line\":{\"color\":\"#E5ECF6\",\"width\":0.5},\"pattern\":{\"fillmode\":\"overlay\",\"size\":10,\"solidity\":0.2}},\"type\":\"barpolar\"}],\"pie\":[{\"automargin\":true,\"type\":\"pie\"}]},\"layout\":{\"autotypenumbers\":\"strict\",\"colorway\":[\"#636efa\",\"#EF553B\",\"#00cc96\",\"#ab63fa\",\"#FFA15A\",\"#19d3f3\",\"#FF6692\",\"#B6E880\",\"#FF97FF\",\"#FECB52\"],\"font\":{\"color\":\"#2a3f5f\"},\"hovermode\":\"closest\",\"hoverlabel\":{\"align\":\"left\"},\"paper_bgcolor\":\"white\",\"plot_bgcolor\":\"#E5ECF6\",\"polar\":{\"bgcolor\":\"#E5ECF6\",\"angularaxis\":{\"gridcolor\":\"white\",\"linecolor\":\"white\",\"ticks\":\"\"},\"radialaxis\":{\"gridcolor\":\"white\",\"linecolor\":\"white\",\"ticks\":\"\"}},\"ternary\":{\"bgcolor\":\"#E5ECF6\",\"aaxis\":{\"gridcolor\":\"white\",\"linecolor\":\"white\",\"ticks\":\"\"},\"baxis\":{\"gridcolor\":\"white\",\"linecolor\":\"white\",\"ticks\":\"\"},\"caxis\":{\"gridcolor\":\"white\",\"linecolor\":\"white\",\"ticks\":\"\"}},\"coloraxis\":{\"colorbar\":{\"outlinewidth\":0,\"ticks\":\"\"}},\"colorscale\":{\"sequential\":[[0.0,\"#0d0887\"],[0.1111111111111111,\"#46039f\"],[0.2222222222222222,\"#7201a8\"],[0.3333333333333333,\"#9c179e\"],[0.4444444444444444,\"#bd3786\"],[0.5555555555555556,\"#d8576b\"],[0.6666666666666666,\"#ed7953\"],[0.7777777777777778,\"#fb9f3a\"],[0.8888888888888888,\"#fdca26\"],[1.0,\"#f0f921\"]],\"sequentialminus\":[[0.0,\"#0d0887\"],[0.1111111111111111,\"#46039f\"],[0.2222222222222222,\"#7201a8\"],[0.3333333333333333,\"#9c179e\"],[0.4444444444444444,\"#bd3786\"],[0.5555555555555556,\"#d8576b\"],[0.6666666666666666,\"#ed7953\"],[0.7777777777777778,\"#fb9f3a\"],[0.8888888888888888,\"#fdca26\"],[1.0,\"#f0f921\"]],\"diverging\":[[0,\"#8e0152\"],[0.1,\"#c51b7d\"],[0.2,\"#de77ae\"],[0.3,\"#f1b6da\"],[0.4,\"#fde0ef\"],[0.5,\"#f7f7f7\"],[0.6,\"#e6f5d0\"],[0.7,\"#b8e186\"],[0.8,\"#7fbc41\"],[0.9,\"#4d9221\"],[1,\"#276419\"]]},\"xaxis\":{\"gridcolor\":\"white\",\"linecolor\":\"white\",\"ticks\":\"\",\"title\":{\"standoff\":15},\"zerolinecolor\":\"white\",\"automargin\":true,\"zerolinewidth\":2},\"yaxis\":{\"gridcolor\":\"white\",\"linecolor\":\"white\",\"ticks\":\"\",\"title\":{\"standoff\":15},\"zerolinecolor\":\"white\",\"automargin\":true,\"zerolinewidth\":2},\"scene\":{\"xaxis\":{\"backgroundcolor\":\"#E5ECF6\",\"gridcolor\":\"white\",\"linecolor\":\"white\",\"showbackground\":true,\"ticks\":\"\",\"zerolinecolor\":\"white\",\"gridwidth\":2},\"yaxis\":{\"backgroundcolor\":\"#E5ECF6\",\"gridcolor\":\"white\",\"linecolor\":\"white\",\"showbackground\":true,\"ticks\":\"\",\"zerolinecolor\":\"white\",\"gridwidth\":2},\"zaxis\":{\"backgroundcolor\":\"#E5ECF6\",\"gridcolor\":\"white\",\"linecolor\":\"white\",\"showbackground\":true,\"ticks\":\"\",\"zerolinecolor\":\"white\",\"gridwidth\":2}},\"shapedefaults\":{\"line\":{\"color\":\"#2a3f5f\"}},\"annotationdefaults\":{\"arrowcolor\":\"#2a3f5f\",\"arrowhead\":0,\"arrowwidth\":1},\"geo\":{\"bgcolor\":\"white\",\"landcolor\":\"#E5ECF6\",\"subunitcolor\":\"white\",\"showland\":true,\"showlakes\":true,\"lakecolor\":\"white\"},\"title\":{\"x\":0.05},\"mapbox\":{\"style\":\"light\"}}},\"xaxis\":{\"anchor\":\"y\",\"domain\":[0.0,1.0],\"scaleanchor\":\"y\",\"constrain\":\"domain\",\"title\":{\"text\":\"src\"}},\"yaxis\":{\"anchor\":\"x\",\"domain\":[0.0,1.0],\"autorange\":\"reversed\",\"constrain\":\"domain\",\"title\":{\"text\":\"dest\"}},\"coloraxis\":{\"colorscale\":[[0.0,\"rgb(103,0,31)\"],[0.1,\"rgb(178,24,43)\"],[0.2,\"rgb(214,96,77)\"],[0.3,\"rgb(244,165,130)\"],[0.4,\"rgb(253,219,199)\"],[0.5,\"rgb(247,247,247)\"],[0.6,\"rgb(209,229,240)\"],[0.7,\"rgb(146,197,222)\"],[0.8,\"rgb(67,147,195)\"],[0.9,\"rgb(33,102,172)\"],[1.0,\"rgb(5,48,97)\"]],\"cmid\":0.0},\"title\":{\"text\":\"attn 0.0 patterns avged over test sample\"}},                        {\"responsive\": true}                    ).then(function(){\n",
              "                            \n",
              "var gd = document.getElementById('846190cb-38f2-4305-8fb0-686a760c01f2');\n",
              "var x = new MutationObserver(function (mutations, observer) {{\n",
              "        var display = window.getComputedStyle(gd).display;\n",
              "        if (!display || display === 'none') {{\n",
              "            console.log([gd, 'removed!']);\n",
              "            Plotly.purge(gd);\n",
              "            observer.disconnect();\n",
              "        }}\n",
              "}});\n",
              "\n",
              "// Listen for the removal of the full notebook cells\n",
              "var notebookContainer = gd.closest('#notebook-container');\n",
              "if (notebookContainer) {{\n",
              "    x.observe(notebookContainer, {childList: true});\n",
              "}}\n",
              "\n",
              "// Listen for the clearing of the current output cell\n",
              "var outputEl = gd.closest('.output');\n",
              "if (outputEl) {{\n",
              "    x.observe(outputEl, {childList: true});\n",
              "}}\n",
              "\n",
              "                        })                };                            </script>        </div>\n",
              "</body>\n",
              "</html>"
            ]
          },
          "metadata": {}
        }
      ]
    },
    {
      "cell_type": "markdown",
      "source": [
        "One interesting observation is that it almost never attends to positions after MID. This might seem counterintuitive since you would expect that to be useful information, but it actually makes sense if the model is copying the answer.\n",
        "\n",
        "\n",
        "We check the attn patterns on some random examples to refine our hypotheses.\n"
      ],
      "metadata": {
        "id": "XNP_c2FqbjQ2"
      }
    },
    {
      "cell_type": "code",
      "source": [
        "for _ in range(3):\n",
        "    r = random.randint(0, test_data.shape[0]-1)\n",
        "    labels = tokens_to_plotly_labels(test_data[r])\n",
        "    imshow(\n",
        "        layer_0_patterns[r, 0, :, :],\n",
        "        title=f\"attn 0.0 pattern for example {labels}\",\n",
        "        yaxis=\"dest\", xaxis=\"src\",\n",
        "        x=labels, y=labels\n",
        "    )"
      ],
      "metadata": {
        "colab": {
          "base_uri": "https://localhost:8080/",
          "height": 1000
        },
        "id": "e6yXVgHQbkwV",
        "outputId": "d0059233-e046-41dd-811d-9420e5070d20"
      },
      "execution_count": 22,
      "outputs": [
        {
          "output_type": "display_data",
          "data": {
            "text/html": [
              "<html>\n",
              "<head><meta charset=\"utf-8\" /></head>\n",
              "<body>\n",
              "    <div>            <script src=\"https://cdnjs.cloudflare.com/ajax/libs/mathjax/2.7.5/MathJax.js?config=TeX-AMS-MML_SVG\"></script><script type=\"text/javascript\">if (window.MathJax && window.MathJax.Hub && window.MathJax.Hub.Config) {window.MathJax.Hub.Config({SVG: {font: \"STIX-Web\"}});}</script>                <script type=\"text/javascript\">window.PlotlyConfig = {MathJaxConfig: 'local'};</script>\n",
              "        <script src=\"https://cdn.plot.ly/plotly-2.18.2.min.js\"></script>                <div id=\"6b123354-ab90-448c-a8af-3d6e05f8b728\" class=\"plotly-graph-div\" style=\"height:525px; width:100%;\"></div>            <script type=\"text/javascript\">                                    window.PLOTLYENV=window.PLOTLYENV || {};                                    if (document.getElementById(\"6b123354-ab90-448c-a8af-3d6e05f8b728\")) {                    Plotly.newPlot(                        \"6b123354-ab90-448c-a8af-3d6e05f8b728\",                        [{\"coloraxis\":\"coloraxis\",\"name\":\"0\",\"x\":[\"BOS\",\"34_1\",\"29_2\",\"0_3\",\"9_4\",\"14_5\",\"4_6\",\"39_7\",\"45_8\",\"35_9\",\"1_10\",\"MID\",\"0_12\",\"1_13\",\"4_14\",\"9_15\",\"14_16\",\"29_17\",\"34_18\",\"35_19\",\"39_20\",\"45_21\"],\"y\":[\"BOS\",\"34_1\",\"29_2\",\"0_3\",\"9_4\",\"14_5\",\"4_6\",\"39_7\",\"45_8\",\"35_9\",\"1_10\",\"MID\",\"0_12\",\"1_13\",\"4_14\",\"9_15\",\"14_16\",\"29_17\",\"34_18\",\"35_19\",\"39_20\",\"45_21\"],\"z\":[[1.0,0.0,0.0,0.0,0.0,0.0,0.0,0.0,0.0,0.0,0.0,0.0,0.0,0.0,0.0,0.0,0.0,0.0,0.0,0.0,0.0,0.0],[0.08465134352445602,0.9153485894203186,0.0,0.0,0.0,0.0,0.0,0.0,0.0,0.0,0.0,0.0,0.0,0.0,0.0,0.0,0.0,0.0,0.0,0.0,0.0,0.0],[0.032576583325862885,0.6868985295295715,0.280524879693985,0.0,0.0,0.0,0.0,0.0,0.0,0.0,0.0,0.0,0.0,0.0,0.0,0.0,0.0,0.0,0.0,0.0,0.0,0.0],[0.5856092572212219,0.03154914081096649,0.0669911801815033,0.3158503472805023,0.0,0.0,0.0,0.0,0.0,0.0,0.0,0.0,0.0,0.0,0.0,0.0,0.0,0.0,0.0,0.0,0.0,0.0],[0.368339478969574,0.09183816611766815,0.14585831761360168,0.22229014337062836,0.17167389392852783,0.0,0.0,0.0,0.0,0.0,0.0,0.0,0.0,0.0,0.0,0.0,0.0,0.0,0.0,0.0,0.0,0.0],[0.21905066072940826,0.16129983961582184,0.19505660235881805,0.17213836312294006,0.13183753192424774,0.12061699479818344,0.0,0.0,0.0,0.0,0.0,0.0,0.0,0.0,0.0,0.0,0.0,0.0,0.0,0.0,0.0,0.0],[0.28174519538879395,0.027360443025827408,0.05783097818493843,0.17554686963558197,0.1619470715522766,0.11546386033296585,0.1801055669784546,0.0,0.0,0.0,0.0,0.0,0.0,0.0,0.0,0.0,0.0,0.0,0.0,0.0,0.0,0.0],[0.016199905425310135,0.1986446976661682,0.08677446842193604,0.021622946485877037,0.023556476458907127,0.018363863229751587,0.022608645260334015,0.61222904920578,0.0,0.0,0.0,0.0,0.0,0.0,0.0,0.0,0.0,0.0,0.0,0.0,0.0,0.0],[0.019628960639238358,0.1061788871884346,0.07882823795080185,0.033542849123477936,0.03133576363325119,0.040161292999982834,0.028420111164450645,0.2277245968580246,0.4341792166233063,0.0,0.0,0.0,0.0,0.0,0.0,0.0,0.0,0.0,0.0,0.0,0.0,0.0],[0.006410050205886364,0.06450170278549194,0.02837827429175377,0.01089011412113905,0.01025327853858471,0.015804529190063477,0.00964521337300539,0.35945776104927063,0.3660227656364441,0.12863630056381226,0.0,0.0,0.0,0.0,0.0,0.0,0.0,0.0,0.0,0.0,0.0,0.0],[0.24855196475982666,0.021731849759817123,0.04436217620968819,0.1374017298221588,0.11114799231290817,0.07855483144521713,0.18457020819187164,0.013618238270282745,0.009499911218881607,0.017666472122073174,0.1328946352005005,0.0,0.0,0.0,0.0,0.0,0.0,0.0,0.0,0.0,0.0,0.0],[0.011518352665007114,0.0031294384971261024,0.004681369289755821,0.35563546419143677,0.09680817276239395,0.07406174391508102,0.17052984237670898,0.0026154082734137774,0.0019470282131806016,0.0030910549685359,0.2673696279525757,0.0086124949157238,0.0,0.0,0.0,0.0,0.0,0.0,0.0,0.0,0.0,0.0],[0.12612774968147278,0.0027676327154040337,0.006046141963452101,0.14588072896003723,0.1820506453514099,0.11299720406532288,0.1896464228630066,0.0013353804824873805,0.0007669611368328333,0.001998682739213109,0.21805207431316376,0.0015644156374037266,0.01076592318713665,0.0,0.0,0.0,0.0,0.0,0.0,0.0,0.0,0.0],[0.19668561220169067,0.00971858948469162,0.019596440717577934,0.12442298978567123,0.16421110928058624,0.14078359305858612,0.17500275373458862,0.004133489914238453,0.0033923753071576357,0.007349614053964615,0.13338690996170044,0.004771899897605181,0.003858535783365369,0.012686097994446754,0.0,0.0,0.0,0.0,0.0,0.0,0.0,0.0],[0.22711826860904694,0.016796298325061798,0.03294173255562782,0.10464493185281754,0.165730819106102,0.15380151569843292,0.11450297385454178,0.008618314750492573,0.006981742102652788,0.01579912193119526,0.11713296175003052,0.011577806435525417,0.0021097122225910425,0.006343077402561903,0.01590070128440857,0.0,0.0,0.0,0.0,0.0,0.0,0.0],[0.2059219479560852,0.04935140907764435,0.07832886278629303,0.07451260834932327,0.09683137387037277,0.1708344668149948,0.08216004073619843,0.022153273224830627,0.027061045169830322,0.04290084168314934,0.08372088521718979,0.04868939146399498,0.000885198125615716,0.0020955377258360386,0.004716174211353064,0.009836898185312748,0.0,0.0,0.0,0.0,0.0,0.0],[0.14188934862613678,0.09923364222049713,0.12368397414684296,0.05343812704086304,0.06845680624246597,0.08044315874576569,0.057811494916677475,0.05814541131258011,0.054408080875873566,0.0986141487956047,0.05652328580617905,0.09719980508089066,0.00038473561289720237,0.000737505906727165,0.0013591283932328224,0.002620300743728876,0.005051019601523876,0.0,0.0,0.0,0.0,0.0],[0.00703714182600379,0.2069716602563858,0.08432334661483765,0.005860971752554178,0.007112115155905485,0.010063647292554379,0.005170807708054781,0.14045892655849457,0.14632995426654816,0.19027818739414215,0.005473759490996599,0.1832825094461441,0.0012894559185951948,0.0006374272634275258,0.00047163027920760214,0.0005129837663844228,0.0005735010490752757,0.004152024630457163,0.0,0.0,0.0,0.0],[0.004084776155650616,0.10767918080091476,0.02113799937069416,0.002280194079503417,0.0036528673954308033,0.0067035420797765255,0.002335364930331707,0.19802506268024445,0.20208485424518585,0.27137303352355957,0.002411589492112398,0.17308785021305084,0.00042196305003017187,0.0002831428137142211,0.0001696713879937306,0.00019607409194577485,0.00029063125839456916,0.000724494515452534,0.0030577604193240404,0.0,0.0,0.0],[0.0024747797288000584,0.07647571712732315,0.030536243692040443,0.0011912985937669873,0.0019352902891114354,0.0043883733451366425,0.0012714725453406572,0.30740559101104736,0.29428449273109436,0.1478489488363266,0.0011492834892123938,0.12893469631671906,7.213412027340382e-05,4.2674066207837313e-05,2.879420389945153e-05,3.3935823012143373e-05,5.734417209168896e-05,0.000336422206601128,0.0007541808881796896,0.0007783192559145391,0.0,0.0],[2.9549471946666017e-05,0.043284688144922256,0.009837770834565163,3.373740128154168e-06,1.6734906239435077e-05,5.752070137532428e-06,2.11733095056843e-05,0.1562833935022354,0.7399676442146301,0.04382946714758873,5.758838142355671e-06,0.006692998576909304,4.0922020616562804e-07,2.7419562798058905e-07,1.6447759776383464e-07,4.824292432203947e-08,7.0310921529426196e-09,5.677227818523534e-06,9.093579137697816e-06,1.6103005009426852e-06,4.411051577335456e-06,0.0],[0.008998215198516846,0.05010855570435524,0.03267918527126312,0.011569088324904442,0.014324267394840717,0.01702740043401718,0.010700115002691746,0.08249755948781967,0.1527673304080963,0.05562056228518486,0.012658488005399704,0.21235738694667816,0.07257086783647537,0.042681124061346054,0.019005976617336273,0.015449749305844307,0.013278474099934101,0.015202783048152924,0.012369798496365547,0.0063887168653309345,0.00582978967577219,0.13591451942920685]],\"type\":\"heatmap\",\"xaxis\":\"x\",\"yaxis\":\"y\",\"hovertemplate\":\"src: %{x}<br>dest: %{y}<br>color: %{z}<extra></extra>\"}],                        {\"template\":{\"data\":{\"histogram2dcontour\":[{\"type\":\"histogram2dcontour\",\"colorbar\":{\"outlinewidth\":0,\"ticks\":\"\"},\"colorscale\":[[0.0,\"#0d0887\"],[0.1111111111111111,\"#46039f\"],[0.2222222222222222,\"#7201a8\"],[0.3333333333333333,\"#9c179e\"],[0.4444444444444444,\"#bd3786\"],[0.5555555555555556,\"#d8576b\"],[0.6666666666666666,\"#ed7953\"],[0.7777777777777778,\"#fb9f3a\"],[0.8888888888888888,\"#fdca26\"],[1.0,\"#f0f921\"]]}],\"choropleth\":[{\"type\":\"choropleth\",\"colorbar\":{\"outlinewidth\":0,\"ticks\":\"\"}}],\"histogram2d\":[{\"type\":\"histogram2d\",\"colorbar\":{\"outlinewidth\":0,\"ticks\":\"\"},\"colorscale\":[[0.0,\"#0d0887\"],[0.1111111111111111,\"#46039f\"],[0.2222222222222222,\"#7201a8\"],[0.3333333333333333,\"#9c179e\"],[0.4444444444444444,\"#bd3786\"],[0.5555555555555556,\"#d8576b\"],[0.6666666666666666,\"#ed7953\"],[0.7777777777777778,\"#fb9f3a\"],[0.8888888888888888,\"#fdca26\"],[1.0,\"#f0f921\"]]}],\"heatmap\":[{\"type\":\"heatmap\",\"colorbar\":{\"outlinewidth\":0,\"ticks\":\"\"},\"colorscale\":[[0.0,\"#0d0887\"],[0.1111111111111111,\"#46039f\"],[0.2222222222222222,\"#7201a8\"],[0.3333333333333333,\"#9c179e\"],[0.4444444444444444,\"#bd3786\"],[0.5555555555555556,\"#d8576b\"],[0.6666666666666666,\"#ed7953\"],[0.7777777777777778,\"#fb9f3a\"],[0.8888888888888888,\"#fdca26\"],[1.0,\"#f0f921\"]]}],\"heatmapgl\":[{\"type\":\"heatmapgl\",\"colorbar\":{\"outlinewidth\":0,\"ticks\":\"\"},\"colorscale\":[[0.0,\"#0d0887\"],[0.1111111111111111,\"#46039f\"],[0.2222222222222222,\"#7201a8\"],[0.3333333333333333,\"#9c179e\"],[0.4444444444444444,\"#bd3786\"],[0.5555555555555556,\"#d8576b\"],[0.6666666666666666,\"#ed7953\"],[0.7777777777777778,\"#fb9f3a\"],[0.8888888888888888,\"#fdca26\"],[1.0,\"#f0f921\"]]}],\"contourcarpet\":[{\"type\":\"contourcarpet\",\"colorbar\":{\"outlinewidth\":0,\"ticks\":\"\"}}],\"contour\":[{\"type\":\"contour\",\"colorbar\":{\"outlinewidth\":0,\"ticks\":\"\"},\"colorscale\":[[0.0,\"#0d0887\"],[0.1111111111111111,\"#46039f\"],[0.2222222222222222,\"#7201a8\"],[0.3333333333333333,\"#9c179e\"],[0.4444444444444444,\"#bd3786\"],[0.5555555555555556,\"#d8576b\"],[0.6666666666666666,\"#ed7953\"],[0.7777777777777778,\"#fb9f3a\"],[0.8888888888888888,\"#fdca26\"],[1.0,\"#f0f921\"]]}],\"surface\":[{\"type\":\"surface\",\"colorbar\":{\"outlinewidth\":0,\"ticks\":\"\"},\"colorscale\":[[0.0,\"#0d0887\"],[0.1111111111111111,\"#46039f\"],[0.2222222222222222,\"#7201a8\"],[0.3333333333333333,\"#9c179e\"],[0.4444444444444444,\"#bd3786\"],[0.5555555555555556,\"#d8576b\"],[0.6666666666666666,\"#ed7953\"],[0.7777777777777778,\"#fb9f3a\"],[0.8888888888888888,\"#fdca26\"],[1.0,\"#f0f921\"]]}],\"mesh3d\":[{\"type\":\"mesh3d\",\"colorbar\":{\"outlinewidth\":0,\"ticks\":\"\"}}],\"scatter\":[{\"fillpattern\":{\"fillmode\":\"overlay\",\"size\":10,\"solidity\":0.2},\"type\":\"scatter\"}],\"parcoords\":[{\"type\":\"parcoords\",\"line\":{\"colorbar\":{\"outlinewidth\":0,\"ticks\":\"\"}}}],\"scatterpolargl\":[{\"type\":\"scatterpolargl\",\"marker\":{\"colorbar\":{\"outlinewidth\":0,\"ticks\":\"\"}}}],\"bar\":[{\"error_x\":{\"color\":\"#2a3f5f\"},\"error_y\":{\"color\":\"#2a3f5f\"},\"marker\":{\"line\":{\"color\":\"#E5ECF6\",\"width\":0.5},\"pattern\":{\"fillmode\":\"overlay\",\"size\":10,\"solidity\":0.2}},\"type\":\"bar\"}],\"scattergeo\":[{\"type\":\"scattergeo\",\"marker\":{\"colorbar\":{\"outlinewidth\":0,\"ticks\":\"\"}}}],\"scatterpolar\":[{\"type\":\"scatterpolar\",\"marker\":{\"colorbar\":{\"outlinewidth\":0,\"ticks\":\"\"}}}],\"histogram\":[{\"marker\":{\"pattern\":{\"fillmode\":\"overlay\",\"size\":10,\"solidity\":0.2}},\"type\":\"histogram\"}],\"scattergl\":[{\"type\":\"scattergl\",\"marker\":{\"colorbar\":{\"outlinewidth\":0,\"ticks\":\"\"}}}],\"scatter3d\":[{\"type\":\"scatter3d\",\"line\":{\"colorbar\":{\"outlinewidth\":0,\"ticks\":\"\"}},\"marker\":{\"colorbar\":{\"outlinewidth\":0,\"ticks\":\"\"}}}],\"scattermapbox\":[{\"type\":\"scattermapbox\",\"marker\":{\"colorbar\":{\"outlinewidth\":0,\"ticks\":\"\"}}}],\"scatterternary\":[{\"type\":\"scatterternary\",\"marker\":{\"colorbar\":{\"outlinewidth\":0,\"ticks\":\"\"}}}],\"scattercarpet\":[{\"type\":\"scattercarpet\",\"marker\":{\"colorbar\":{\"outlinewidth\":0,\"ticks\":\"\"}}}],\"carpet\":[{\"aaxis\":{\"endlinecolor\":\"#2a3f5f\",\"gridcolor\":\"white\",\"linecolor\":\"white\",\"minorgridcolor\":\"white\",\"startlinecolor\":\"#2a3f5f\"},\"baxis\":{\"endlinecolor\":\"#2a3f5f\",\"gridcolor\":\"white\",\"linecolor\":\"white\",\"minorgridcolor\":\"white\",\"startlinecolor\":\"#2a3f5f\"},\"type\":\"carpet\"}],\"table\":[{\"cells\":{\"fill\":{\"color\":\"#EBF0F8\"},\"line\":{\"color\":\"white\"}},\"header\":{\"fill\":{\"color\":\"#C8D4E3\"},\"line\":{\"color\":\"white\"}},\"type\":\"table\"}],\"barpolar\":[{\"marker\":{\"line\":{\"color\":\"#E5ECF6\",\"width\":0.5},\"pattern\":{\"fillmode\":\"overlay\",\"size\":10,\"solidity\":0.2}},\"type\":\"barpolar\"}],\"pie\":[{\"automargin\":true,\"type\":\"pie\"}]},\"layout\":{\"autotypenumbers\":\"strict\",\"colorway\":[\"#636efa\",\"#EF553B\",\"#00cc96\",\"#ab63fa\",\"#FFA15A\",\"#19d3f3\",\"#FF6692\",\"#B6E880\",\"#FF97FF\",\"#FECB52\"],\"font\":{\"color\":\"#2a3f5f\"},\"hovermode\":\"closest\",\"hoverlabel\":{\"align\":\"left\"},\"paper_bgcolor\":\"white\",\"plot_bgcolor\":\"#E5ECF6\",\"polar\":{\"bgcolor\":\"#E5ECF6\",\"angularaxis\":{\"gridcolor\":\"white\",\"linecolor\":\"white\",\"ticks\":\"\"},\"radialaxis\":{\"gridcolor\":\"white\",\"linecolor\":\"white\",\"ticks\":\"\"}},\"ternary\":{\"bgcolor\":\"#E5ECF6\",\"aaxis\":{\"gridcolor\":\"white\",\"linecolor\":\"white\",\"ticks\":\"\"},\"baxis\":{\"gridcolor\":\"white\",\"linecolor\":\"white\",\"ticks\":\"\"},\"caxis\":{\"gridcolor\":\"white\",\"linecolor\":\"white\",\"ticks\":\"\"}},\"coloraxis\":{\"colorbar\":{\"outlinewidth\":0,\"ticks\":\"\"}},\"colorscale\":{\"sequential\":[[0.0,\"#0d0887\"],[0.1111111111111111,\"#46039f\"],[0.2222222222222222,\"#7201a8\"],[0.3333333333333333,\"#9c179e\"],[0.4444444444444444,\"#bd3786\"],[0.5555555555555556,\"#d8576b\"],[0.6666666666666666,\"#ed7953\"],[0.7777777777777778,\"#fb9f3a\"],[0.8888888888888888,\"#fdca26\"],[1.0,\"#f0f921\"]],\"sequentialminus\":[[0.0,\"#0d0887\"],[0.1111111111111111,\"#46039f\"],[0.2222222222222222,\"#7201a8\"],[0.3333333333333333,\"#9c179e\"],[0.4444444444444444,\"#bd3786\"],[0.5555555555555556,\"#d8576b\"],[0.6666666666666666,\"#ed7953\"],[0.7777777777777778,\"#fb9f3a\"],[0.8888888888888888,\"#fdca26\"],[1.0,\"#f0f921\"]],\"diverging\":[[0,\"#8e0152\"],[0.1,\"#c51b7d\"],[0.2,\"#de77ae\"],[0.3,\"#f1b6da\"],[0.4,\"#fde0ef\"],[0.5,\"#f7f7f7\"],[0.6,\"#e6f5d0\"],[0.7,\"#b8e186\"],[0.8,\"#7fbc41\"],[0.9,\"#4d9221\"],[1,\"#276419\"]]},\"xaxis\":{\"gridcolor\":\"white\",\"linecolor\":\"white\",\"ticks\":\"\",\"title\":{\"standoff\":15},\"zerolinecolor\":\"white\",\"automargin\":true,\"zerolinewidth\":2},\"yaxis\":{\"gridcolor\":\"white\",\"linecolor\":\"white\",\"ticks\":\"\",\"title\":{\"standoff\":15},\"zerolinecolor\":\"white\",\"automargin\":true,\"zerolinewidth\":2},\"scene\":{\"xaxis\":{\"backgroundcolor\":\"#E5ECF6\",\"gridcolor\":\"white\",\"linecolor\":\"white\",\"showbackground\":true,\"ticks\":\"\",\"zerolinecolor\":\"white\",\"gridwidth\":2},\"yaxis\":{\"backgroundcolor\":\"#E5ECF6\",\"gridcolor\":\"white\",\"linecolor\":\"white\",\"showbackground\":true,\"ticks\":\"\",\"zerolinecolor\":\"white\",\"gridwidth\":2},\"zaxis\":{\"backgroundcolor\":\"#E5ECF6\",\"gridcolor\":\"white\",\"linecolor\":\"white\",\"showbackground\":true,\"ticks\":\"\",\"zerolinecolor\":\"white\",\"gridwidth\":2}},\"shapedefaults\":{\"line\":{\"color\":\"#2a3f5f\"}},\"annotationdefaults\":{\"arrowcolor\":\"#2a3f5f\",\"arrowhead\":0,\"arrowwidth\":1},\"geo\":{\"bgcolor\":\"white\",\"landcolor\":\"#E5ECF6\",\"subunitcolor\":\"white\",\"showland\":true,\"showlakes\":true,\"lakecolor\":\"white\"},\"title\":{\"x\":0.05},\"mapbox\":{\"style\":\"light\"}}},\"xaxis\":{\"anchor\":\"y\",\"domain\":[0.0,1.0],\"scaleanchor\":\"y\",\"constrain\":\"domain\",\"title\":{\"text\":\"src\"}},\"yaxis\":{\"anchor\":\"x\",\"domain\":[0.0,1.0],\"autorange\":\"reversed\",\"constrain\":\"domain\",\"title\":{\"text\":\"dest\"}},\"coloraxis\":{\"colorscale\":[[0.0,\"rgb(103,0,31)\"],[0.1,\"rgb(178,24,43)\"],[0.2,\"rgb(214,96,77)\"],[0.3,\"rgb(244,165,130)\"],[0.4,\"rgb(253,219,199)\"],[0.5,\"rgb(247,247,247)\"],[0.6,\"rgb(209,229,240)\"],[0.7,\"rgb(146,197,222)\"],[0.8,\"rgb(67,147,195)\"],[0.9,\"rgb(33,102,172)\"],[1.0,\"rgb(5,48,97)\"]],\"cmid\":0.0},\"title\":{\"text\":\"attn 0.0 pattern for example ['BOS', '34_1', '29_2', '0_3', '9_4', '14_5', '4_6', '39_7', '45_8', '35_9', '1_10', 'MID', '0_12', '1_13', '4_14', '9_15', '14_16', '29_17', '34_18', '35_19', '39_20', '45_21']\"}},                        {\"responsive\": true}                    ).then(function(){\n",
              "                            \n",
              "var gd = document.getElementById('6b123354-ab90-448c-a8af-3d6e05f8b728');\n",
              "var x = new MutationObserver(function (mutations, observer) {{\n",
              "        var display = window.getComputedStyle(gd).display;\n",
              "        if (!display || display === 'none') {{\n",
              "            console.log([gd, 'removed!']);\n",
              "            Plotly.purge(gd);\n",
              "            observer.disconnect();\n",
              "        }}\n",
              "}});\n",
              "\n",
              "// Listen for the removal of the full notebook cells\n",
              "var notebookContainer = gd.closest('#notebook-container');\n",
              "if (notebookContainer) {{\n",
              "    x.observe(notebookContainer, {childList: true});\n",
              "}}\n",
              "\n",
              "// Listen for the clearing of the current output cell\n",
              "var outputEl = gd.closest('.output');\n",
              "if (outputEl) {{\n",
              "    x.observe(outputEl, {childList: true});\n",
              "}}\n",
              "\n",
              "                        })                };                            </script>        </div>\n",
              "</body>\n",
              "</html>"
            ]
          },
          "metadata": {}
        },
        {
          "output_type": "display_data",
          "data": {
            "text/html": [
              "<html>\n",
              "<head><meta charset=\"utf-8\" /></head>\n",
              "<body>\n",
              "    <div>            <script src=\"https://cdnjs.cloudflare.com/ajax/libs/mathjax/2.7.5/MathJax.js?config=TeX-AMS-MML_SVG\"></script><script type=\"text/javascript\">if (window.MathJax && window.MathJax.Hub && window.MathJax.Hub.Config) {window.MathJax.Hub.Config({SVG: {font: \"STIX-Web\"}});}</script>                <script type=\"text/javascript\">window.PlotlyConfig = {MathJaxConfig: 'local'};</script>\n",
              "        <script src=\"https://cdn.plot.ly/plotly-2.18.2.min.js\"></script>                <div id=\"99354a8d-a8fc-4dfe-89b4-64f81c877450\" class=\"plotly-graph-div\" style=\"height:525px; width:100%;\"></div>            <script type=\"text/javascript\">                                    window.PLOTLYENV=window.PLOTLYENV || {};                                    if (document.getElementById(\"99354a8d-a8fc-4dfe-89b4-64f81c877450\")) {                    Plotly.newPlot(                        \"99354a8d-a8fc-4dfe-89b4-64f81c877450\",                        [{\"coloraxis\":\"coloraxis\",\"name\":\"0\",\"x\":[\"BOS\",\"38_1\",\"40_2\",\"21_3\",\"0_4\",\"17_5\",\"11_6\",\"9_7\",\"11_8\",\"2_9\",\"29_10\",\"MID\",\"0_12\",\"2_13\",\"9_14\",\"11_15\",\"11_16\",\"17_17\",\"21_18\",\"29_19\",\"38_20\",\"40_21\"],\"y\":[\"BOS\",\"38_1\",\"40_2\",\"21_3\",\"0_4\",\"17_5\",\"11_6\",\"9_7\",\"11_8\",\"2_9\",\"29_10\",\"MID\",\"0_12\",\"2_13\",\"9_14\",\"11_15\",\"11_16\",\"17_17\",\"21_18\",\"29_19\",\"38_20\",\"40_21\"],\"z\":[[1.0,0.0,0.0,0.0,0.0,0.0,0.0,0.0,0.0,0.0,0.0,0.0,0.0,0.0,0.0,0.0,0.0,0.0,0.0,0.0,0.0,0.0],[0.05338219553232193,0.9466177821159363,0.0,0.0,0.0,0.0,0.0,0.0,0.0,0.0,0.0,0.0,0.0,0.0,0.0,0.0,0.0,0.0,0.0,0.0,0.0,0.0],[0.01800498366355896,0.3523006737232208,0.6296943426132202,0.0,0.0,0.0,0.0,0.0,0.0,0.0,0.0,0.0,0.0,0.0,0.0,0.0,0.0,0.0,0.0,0.0,0.0,0.0],[0.08490746468305588,0.4210592806339264,0.347184419631958,0.1468489170074463,0.0,0.0,0.0,0.0,0.0,0.0,0.0,0.0,0.0,0.0,0.0,0.0,0.0,0.0,0.0,0.0,0.0,0.0],[0.556881308555603,0.017611756920814514,0.017625324428081512,0.12533843517303467,0.2825431525707245,0.0,0.0,0.0,0.0,0.0,0.0,0.0,0.0,0.0,0.0,0.0,0.0,0.0,0.0,0.0,0.0,0.0],[0.15170924365520477,0.17517589032649994,0.1541409194469452,0.28430044651031494,0.13880905508995056,0.0958644300699234,0.0,0.0,0.0,0.0,0.0,0.0,0.0,0.0,0.0,0.0,0.0,0.0,0.0,0.0,0.0,0.0],[0.25263023376464844,0.07586339116096497,0.05793663114309311,0.16221363842487335,0.17270253598690033,0.16891507804393768,0.10973846167325974,0.0,0.0,0.0,0.0,0.0,0.0,0.0,0.0,0.0,0.0,0.0,0.0,0.0,0.0,0.0],[0.22711950540542603,0.056270066648721695,0.04856527969241142,0.1319074034690857,0.13428562879562378,0.12435577064752579,0.17035247385501862,0.10714379698038101,0.0,0.0,0.0,0.0,0.0,0.0,0.0,0.0,0.0,0.0,0.0,0.0,0.0,0.0],[0.21379190683364868,0.05410681664943695,0.0441628135740757,0.13455446064472198,0.1398109346628189,0.14069443941116333,0.08717485517263412,0.09832689166069031,0.0873769223690033,0.0,0.0,0.0,0.0,0.0,0.0,0.0,0.0,0.0,0.0,0.0,0.0,0.0],[0.2390858381986618,0.013747932389378548,0.01248026080429554,0.07307165861129761,0.12607353925704956,0.06983029842376709,0.10556957125663757,0.12493524700403214,0.1040554791688919,0.13115018606185913,0.0,0.0,0.0,0.0,0.0,0.0,0.0,0.0,0.0,0.0,0.0,0.0],[0.015110877342522144,0.3569086790084839,0.30225807428359985,0.03194824978709221,0.03088274598121643,0.02384447492659092,0.023588543757796288,0.02255249209702015,0.02362561970949173,0.024937693029642105,0.1443425416946411,0.0,0.0,0.0,0.0,0.0,0.0,0.0,0.0,0.0,0.0,0.0],[0.011629031039774418,0.003347711870446801,0.0019318076083436608,0.0404287688434124,0.3688226342201233,0.06987778097391129,0.09358103573322296,0.10159556567668915,0.09136521071195602,0.2037597894668579,0.004965351894497871,0.008695251308381557,0.0,0.0,0.0,0.0,0.0,0.0,0.0,0.0,0.0,0.0],[0.11162469536066055,0.0010925077367573977,0.0012289350852370262,0.05224313214421272,0.13426749408245087,0.09382641315460205,0.12539470195770264,0.16615642607212067,0.12470971047878265,0.1732795536518097,0.0052639576606452465,0.0013845280045643449,0.009527983143925667,0.0,0.0,0.0,0.0,0.0,0.0,0.0,0.0,0.0],[0.1533675491809845,0.0034480264876037836,0.003474221099168062,0.07490112632513046,0.10089459270238876,0.10720418393611908,0.13485299050807953,0.14805817604064941,0.13509726524353027,0.1094174012541771,0.01542044710367918,0.004253768362104893,0.0021482277661561966,0.007461984176188707,0.0,0.0,0.0,0.0,0.0,0.0,0.0,0.0],[0.13169103860855103,0.017794404178857803,0.017071349546313286,0.10692974925041199,0.06451181322336197,0.13227371871471405,0.14786304533481598,0.08195442706346512,0.1497953236103058,0.06957738101482391,0.03990444540977478,0.03127363324165344,0.0009427716722711921,0.0022204897832125425,0.0061963461339473724,0.0,0.0,0.0,0.0,0.0,0.0,0.0],[0.1641819179058075,0.03092743456363678,0.026672447100281715,0.1399487853050232,0.06387589126825333,0.15171974897384644,0.078766830265522,0.08000016957521439,0.08042028546333313,0.06878595054149628,0.05466204136610031,0.04871375113725662,0.0005705832736566663,0.0013059336924925447,0.003457010490819812,0.005991161335259676,0.0,0.0,0.0,0.0,0.0,0.0],[0.17953017354011536,0.038887206465005875,0.03310680761933327,0.1496654450893402,0.05610320717096329,0.13867421448230743,0.06951834261417389,0.07068300247192383,0.07115738093852997,0.061019789427518845,0.06865905225276947,0.047874096781015396,0.0004038654442410916,0.0009209427516907454,0.002373303985223174,0.004063017666339874,0.007360164541751146,0.0,0.0,0.0,0.0,0.0],[0.08622666448354721,0.09078514575958252,0.08929725736379623,0.1956566423177719,0.031218551099300385,0.057774920016527176,0.0415106825530529,0.043858855962753296,0.04234834387898445,0.03212994709610939,0.17092318832874298,0.11033514142036438,0.00028277316596359015,0.0003793210198637098,0.0008036258514039218,0.0010794216068461537,0.001559070311486721,0.003830448491498828,0.0,0.0,0.0,0.0],[0.025337669998407364,0.18943898379802704,0.1793317347764969,0.06332741677761078,0.010735572315752506,0.027636833488941193,0.01829148642718792,0.01795792579650879,0.018704161047935486,0.012322832830250263,0.2791503667831421,0.15468455851078033,0.00011129780614282936,0.0001146873037214391,0.00019154103938490152,0.0002130992797901854,0.00025094521697610617,0.0004892050637863576,0.0017097161617130041,0.0,0.0,0.0],[0.005995043087750673,0.3288278579711914,0.3123164474964142,0.025153111666440964,0.0032445229589939117,0.00887185800820589,0.0050840009935200214,0.004461747128516436,0.005281422287225723,0.0032510615419596434,0.16266879439353943,0.13243365287780762,0.00012076146231265739,6.561786722159013e-05,7.46883888496086e-05,7.104720134520903e-05,6.010544893797487e-05,9.205737296724692e-05,0.000306861154967919,0.0016193578485399485,0.0,0.0],[9.511094685876742e-05,0.25033438205718994,0.7057713866233826,0.0008279056055471301,1.292096476390725e-05,8.360078936675563e-05,3.383441435289569e-05,5.584750761045143e-05,3.554748400347307e-05,3.457674756646156e-05,0.028284171596169472,0.014411045238375664,1.4431095678446582e-06,1.3634853530675173e-06,4.2300283098484215e-07,1.0482702350600448e-07,5.7907218575792285e-08,5.320659823837559e-08,2.3125916470689845e-07,1.8326347799302312e-06,1.4083598216529936e-05,0.0],[0.007852851413190365,0.11591389030218124,0.2146662473678589,0.010888631455600262,0.006950587499886751,0.009891447611153126,0.015957599505782127,0.01349659077823162,0.016169097274541855,0.010207722894847393,0.04002566635608673,0.37273094058036804,0.014641935005784035,0.010646655224263668,0.00791298970580101,0.005331773776561022,0.0035696583800017834,0.0013480366906151175,0.0009094987763091922,0.0017091900808736682,0.0024478395935148,0.11673123389482498]],\"type\":\"heatmap\",\"xaxis\":\"x\",\"yaxis\":\"y\",\"hovertemplate\":\"src: %{x}<br>dest: %{y}<br>color: %{z}<extra></extra>\"}],                        {\"template\":{\"data\":{\"histogram2dcontour\":[{\"type\":\"histogram2dcontour\",\"colorbar\":{\"outlinewidth\":0,\"ticks\":\"\"},\"colorscale\":[[0.0,\"#0d0887\"],[0.1111111111111111,\"#46039f\"],[0.2222222222222222,\"#7201a8\"],[0.3333333333333333,\"#9c179e\"],[0.4444444444444444,\"#bd3786\"],[0.5555555555555556,\"#d8576b\"],[0.6666666666666666,\"#ed7953\"],[0.7777777777777778,\"#fb9f3a\"],[0.8888888888888888,\"#fdca26\"],[1.0,\"#f0f921\"]]}],\"choropleth\":[{\"type\":\"choropleth\",\"colorbar\":{\"outlinewidth\":0,\"ticks\":\"\"}}],\"histogram2d\":[{\"type\":\"histogram2d\",\"colorbar\":{\"outlinewidth\":0,\"ticks\":\"\"},\"colorscale\":[[0.0,\"#0d0887\"],[0.1111111111111111,\"#46039f\"],[0.2222222222222222,\"#7201a8\"],[0.3333333333333333,\"#9c179e\"],[0.4444444444444444,\"#bd3786\"],[0.5555555555555556,\"#d8576b\"],[0.6666666666666666,\"#ed7953\"],[0.7777777777777778,\"#fb9f3a\"],[0.8888888888888888,\"#fdca26\"],[1.0,\"#f0f921\"]]}],\"heatmap\":[{\"type\":\"heatmap\",\"colorbar\":{\"outlinewidth\":0,\"ticks\":\"\"},\"colorscale\":[[0.0,\"#0d0887\"],[0.1111111111111111,\"#46039f\"],[0.2222222222222222,\"#7201a8\"],[0.3333333333333333,\"#9c179e\"],[0.4444444444444444,\"#bd3786\"],[0.5555555555555556,\"#d8576b\"],[0.6666666666666666,\"#ed7953\"],[0.7777777777777778,\"#fb9f3a\"],[0.8888888888888888,\"#fdca26\"],[1.0,\"#f0f921\"]]}],\"heatmapgl\":[{\"type\":\"heatmapgl\",\"colorbar\":{\"outlinewidth\":0,\"ticks\":\"\"},\"colorscale\":[[0.0,\"#0d0887\"],[0.1111111111111111,\"#46039f\"],[0.2222222222222222,\"#7201a8\"],[0.3333333333333333,\"#9c179e\"],[0.4444444444444444,\"#bd3786\"],[0.5555555555555556,\"#d8576b\"],[0.6666666666666666,\"#ed7953\"],[0.7777777777777778,\"#fb9f3a\"],[0.8888888888888888,\"#fdca26\"],[1.0,\"#f0f921\"]]}],\"contourcarpet\":[{\"type\":\"contourcarpet\",\"colorbar\":{\"outlinewidth\":0,\"ticks\":\"\"}}],\"contour\":[{\"type\":\"contour\",\"colorbar\":{\"outlinewidth\":0,\"ticks\":\"\"},\"colorscale\":[[0.0,\"#0d0887\"],[0.1111111111111111,\"#46039f\"],[0.2222222222222222,\"#7201a8\"],[0.3333333333333333,\"#9c179e\"],[0.4444444444444444,\"#bd3786\"],[0.5555555555555556,\"#d8576b\"],[0.6666666666666666,\"#ed7953\"],[0.7777777777777778,\"#fb9f3a\"],[0.8888888888888888,\"#fdca26\"],[1.0,\"#f0f921\"]]}],\"surface\":[{\"type\":\"surface\",\"colorbar\":{\"outlinewidth\":0,\"ticks\":\"\"},\"colorscale\":[[0.0,\"#0d0887\"],[0.1111111111111111,\"#46039f\"],[0.2222222222222222,\"#7201a8\"],[0.3333333333333333,\"#9c179e\"],[0.4444444444444444,\"#bd3786\"],[0.5555555555555556,\"#d8576b\"],[0.6666666666666666,\"#ed7953\"],[0.7777777777777778,\"#fb9f3a\"],[0.8888888888888888,\"#fdca26\"],[1.0,\"#f0f921\"]]}],\"mesh3d\":[{\"type\":\"mesh3d\",\"colorbar\":{\"outlinewidth\":0,\"ticks\":\"\"}}],\"scatter\":[{\"fillpattern\":{\"fillmode\":\"overlay\",\"size\":10,\"solidity\":0.2},\"type\":\"scatter\"}],\"parcoords\":[{\"type\":\"parcoords\",\"line\":{\"colorbar\":{\"outlinewidth\":0,\"ticks\":\"\"}}}],\"scatterpolargl\":[{\"type\":\"scatterpolargl\",\"marker\":{\"colorbar\":{\"outlinewidth\":0,\"ticks\":\"\"}}}],\"bar\":[{\"error_x\":{\"color\":\"#2a3f5f\"},\"error_y\":{\"color\":\"#2a3f5f\"},\"marker\":{\"line\":{\"color\":\"#E5ECF6\",\"width\":0.5},\"pattern\":{\"fillmode\":\"overlay\",\"size\":10,\"solidity\":0.2}},\"type\":\"bar\"}],\"scattergeo\":[{\"type\":\"scattergeo\",\"marker\":{\"colorbar\":{\"outlinewidth\":0,\"ticks\":\"\"}}}],\"scatterpolar\":[{\"type\":\"scatterpolar\",\"marker\":{\"colorbar\":{\"outlinewidth\":0,\"ticks\":\"\"}}}],\"histogram\":[{\"marker\":{\"pattern\":{\"fillmode\":\"overlay\",\"size\":10,\"solidity\":0.2}},\"type\":\"histogram\"}],\"scattergl\":[{\"type\":\"scattergl\",\"marker\":{\"colorbar\":{\"outlinewidth\":0,\"ticks\":\"\"}}}],\"scatter3d\":[{\"type\":\"scatter3d\",\"line\":{\"colorbar\":{\"outlinewidth\":0,\"ticks\":\"\"}},\"marker\":{\"colorbar\":{\"outlinewidth\":0,\"ticks\":\"\"}}}],\"scattermapbox\":[{\"type\":\"scattermapbox\",\"marker\":{\"colorbar\":{\"outlinewidth\":0,\"ticks\":\"\"}}}],\"scatterternary\":[{\"type\":\"scatterternary\",\"marker\":{\"colorbar\":{\"outlinewidth\":0,\"ticks\":\"\"}}}],\"scattercarpet\":[{\"type\":\"scattercarpet\",\"marker\":{\"colorbar\":{\"outlinewidth\":0,\"ticks\":\"\"}}}],\"carpet\":[{\"aaxis\":{\"endlinecolor\":\"#2a3f5f\",\"gridcolor\":\"white\",\"linecolor\":\"white\",\"minorgridcolor\":\"white\",\"startlinecolor\":\"#2a3f5f\"},\"baxis\":{\"endlinecolor\":\"#2a3f5f\",\"gridcolor\":\"white\",\"linecolor\":\"white\",\"minorgridcolor\":\"white\",\"startlinecolor\":\"#2a3f5f\"},\"type\":\"carpet\"}],\"table\":[{\"cells\":{\"fill\":{\"color\":\"#EBF0F8\"},\"line\":{\"color\":\"white\"}},\"header\":{\"fill\":{\"color\":\"#C8D4E3\"},\"line\":{\"color\":\"white\"}},\"type\":\"table\"}],\"barpolar\":[{\"marker\":{\"line\":{\"color\":\"#E5ECF6\",\"width\":0.5},\"pattern\":{\"fillmode\":\"overlay\",\"size\":10,\"solidity\":0.2}},\"type\":\"barpolar\"}],\"pie\":[{\"automargin\":true,\"type\":\"pie\"}]},\"layout\":{\"autotypenumbers\":\"strict\",\"colorway\":[\"#636efa\",\"#EF553B\",\"#00cc96\",\"#ab63fa\",\"#FFA15A\",\"#19d3f3\",\"#FF6692\",\"#B6E880\",\"#FF97FF\",\"#FECB52\"],\"font\":{\"color\":\"#2a3f5f\"},\"hovermode\":\"closest\",\"hoverlabel\":{\"align\":\"left\"},\"paper_bgcolor\":\"white\",\"plot_bgcolor\":\"#E5ECF6\",\"polar\":{\"bgcolor\":\"#E5ECF6\",\"angularaxis\":{\"gridcolor\":\"white\",\"linecolor\":\"white\",\"ticks\":\"\"},\"radialaxis\":{\"gridcolor\":\"white\",\"linecolor\":\"white\",\"ticks\":\"\"}},\"ternary\":{\"bgcolor\":\"#E5ECF6\",\"aaxis\":{\"gridcolor\":\"white\",\"linecolor\":\"white\",\"ticks\":\"\"},\"baxis\":{\"gridcolor\":\"white\",\"linecolor\":\"white\",\"ticks\":\"\"},\"caxis\":{\"gridcolor\":\"white\",\"linecolor\":\"white\",\"ticks\":\"\"}},\"coloraxis\":{\"colorbar\":{\"outlinewidth\":0,\"ticks\":\"\"}},\"colorscale\":{\"sequential\":[[0.0,\"#0d0887\"],[0.1111111111111111,\"#46039f\"],[0.2222222222222222,\"#7201a8\"],[0.3333333333333333,\"#9c179e\"],[0.4444444444444444,\"#bd3786\"],[0.5555555555555556,\"#d8576b\"],[0.6666666666666666,\"#ed7953\"],[0.7777777777777778,\"#fb9f3a\"],[0.8888888888888888,\"#fdca26\"],[1.0,\"#f0f921\"]],\"sequentialminus\":[[0.0,\"#0d0887\"],[0.1111111111111111,\"#46039f\"],[0.2222222222222222,\"#7201a8\"],[0.3333333333333333,\"#9c179e\"],[0.4444444444444444,\"#bd3786\"],[0.5555555555555556,\"#d8576b\"],[0.6666666666666666,\"#ed7953\"],[0.7777777777777778,\"#fb9f3a\"],[0.8888888888888888,\"#fdca26\"],[1.0,\"#f0f921\"]],\"diverging\":[[0,\"#8e0152\"],[0.1,\"#c51b7d\"],[0.2,\"#de77ae\"],[0.3,\"#f1b6da\"],[0.4,\"#fde0ef\"],[0.5,\"#f7f7f7\"],[0.6,\"#e6f5d0\"],[0.7,\"#b8e186\"],[0.8,\"#7fbc41\"],[0.9,\"#4d9221\"],[1,\"#276419\"]]},\"xaxis\":{\"gridcolor\":\"white\",\"linecolor\":\"white\",\"ticks\":\"\",\"title\":{\"standoff\":15},\"zerolinecolor\":\"white\",\"automargin\":true,\"zerolinewidth\":2},\"yaxis\":{\"gridcolor\":\"white\",\"linecolor\":\"white\",\"ticks\":\"\",\"title\":{\"standoff\":15},\"zerolinecolor\":\"white\",\"automargin\":true,\"zerolinewidth\":2},\"scene\":{\"xaxis\":{\"backgroundcolor\":\"#E5ECF6\",\"gridcolor\":\"white\",\"linecolor\":\"white\",\"showbackground\":true,\"ticks\":\"\",\"zerolinecolor\":\"white\",\"gridwidth\":2},\"yaxis\":{\"backgroundcolor\":\"#E5ECF6\",\"gridcolor\":\"white\",\"linecolor\":\"white\",\"showbackground\":true,\"ticks\":\"\",\"zerolinecolor\":\"white\",\"gridwidth\":2},\"zaxis\":{\"backgroundcolor\":\"#E5ECF6\",\"gridcolor\":\"white\",\"linecolor\":\"white\",\"showbackground\":true,\"ticks\":\"\",\"zerolinecolor\":\"white\",\"gridwidth\":2}},\"shapedefaults\":{\"line\":{\"color\":\"#2a3f5f\"}},\"annotationdefaults\":{\"arrowcolor\":\"#2a3f5f\",\"arrowhead\":0,\"arrowwidth\":1},\"geo\":{\"bgcolor\":\"white\",\"landcolor\":\"#E5ECF6\",\"subunitcolor\":\"white\",\"showland\":true,\"showlakes\":true,\"lakecolor\":\"white\"},\"title\":{\"x\":0.05},\"mapbox\":{\"style\":\"light\"}}},\"xaxis\":{\"anchor\":\"y\",\"domain\":[0.0,1.0],\"scaleanchor\":\"y\",\"constrain\":\"domain\",\"title\":{\"text\":\"src\"}},\"yaxis\":{\"anchor\":\"x\",\"domain\":[0.0,1.0],\"autorange\":\"reversed\",\"constrain\":\"domain\",\"title\":{\"text\":\"dest\"}},\"coloraxis\":{\"colorscale\":[[0.0,\"rgb(103,0,31)\"],[0.1,\"rgb(178,24,43)\"],[0.2,\"rgb(214,96,77)\"],[0.3,\"rgb(244,165,130)\"],[0.4,\"rgb(253,219,199)\"],[0.5,\"rgb(247,247,247)\"],[0.6,\"rgb(209,229,240)\"],[0.7,\"rgb(146,197,222)\"],[0.8,\"rgb(67,147,195)\"],[0.9,\"rgb(33,102,172)\"],[1.0,\"rgb(5,48,97)\"]],\"cmid\":0.0},\"title\":{\"text\":\"attn 0.0 pattern for example ['BOS', '38_1', '40_2', '21_3', '0_4', '17_5', '11_6', '9_7', '11_8', '2_9', '29_10', 'MID', '0_12', '2_13', '9_14', '11_15', '11_16', '17_17', '21_18', '29_19', '38_20', '40_21']\"}},                        {\"responsive\": true}                    ).then(function(){\n",
              "                            \n",
              "var gd = document.getElementById('99354a8d-a8fc-4dfe-89b4-64f81c877450');\n",
              "var x = new MutationObserver(function (mutations, observer) {{\n",
              "        var display = window.getComputedStyle(gd).display;\n",
              "        if (!display || display === 'none') {{\n",
              "            console.log([gd, 'removed!']);\n",
              "            Plotly.purge(gd);\n",
              "            observer.disconnect();\n",
              "        }}\n",
              "}});\n",
              "\n",
              "// Listen for the removal of the full notebook cells\n",
              "var notebookContainer = gd.closest('#notebook-container');\n",
              "if (notebookContainer) {{\n",
              "    x.observe(notebookContainer, {childList: true});\n",
              "}}\n",
              "\n",
              "// Listen for the clearing of the current output cell\n",
              "var outputEl = gd.closest('.output');\n",
              "if (outputEl) {{\n",
              "    x.observe(outputEl, {childList: true});\n",
              "}}\n",
              "\n",
              "                        })                };                            </script>        </div>\n",
              "</body>\n",
              "</html>"
            ]
          },
          "metadata": {}
        },
        {
          "output_type": "display_data",
          "data": {
            "text/html": [
              "<html>\n",
              "<head><meta charset=\"utf-8\" /></head>\n",
              "<body>\n",
              "    <div>            <script src=\"https://cdnjs.cloudflare.com/ajax/libs/mathjax/2.7.5/MathJax.js?config=TeX-AMS-MML_SVG\"></script><script type=\"text/javascript\">if (window.MathJax && window.MathJax.Hub && window.MathJax.Hub.Config) {window.MathJax.Hub.Config({SVG: {font: \"STIX-Web\"}});}</script>                <script type=\"text/javascript\">window.PlotlyConfig = {MathJaxConfig: 'local'};</script>\n",
              "        <script src=\"https://cdn.plot.ly/plotly-2.18.2.min.js\"></script>                <div id=\"7eefa882-d4a0-44ec-a9db-be5a4c593b4e\" class=\"plotly-graph-div\" style=\"height:525px; width:100%;\"></div>            <script type=\"text/javascript\">                                    window.PLOTLYENV=window.PLOTLYENV || {};                                    if (document.getElementById(\"7eefa882-d4a0-44ec-a9db-be5a4c593b4e\")) {                    Plotly.newPlot(                        \"7eefa882-d4a0-44ec-a9db-be5a4c593b4e\",                        [{\"coloraxis\":\"coloraxis\",\"name\":\"0\",\"x\":[\"BOS\",\"32_1\",\"7_2\",\"48_3\",\"1_4\",\"3_5\",\"41_6\",\"33_7\",\"18_8\",\"23_9\",\"31_10\",\"MID\",\"1_12\",\"3_13\",\"7_14\",\"18_15\",\"23_16\",\"31_17\",\"32_18\",\"33_19\",\"41_20\",\"48_21\"],\"y\":[\"BOS\",\"32_1\",\"7_2\",\"48_3\",\"1_4\",\"3_5\",\"41_6\",\"33_7\",\"18_8\",\"23_9\",\"31_10\",\"MID\",\"1_12\",\"3_13\",\"7_14\",\"18_15\",\"23_16\",\"31_17\",\"32_18\",\"33_19\",\"41_20\",\"48_21\"],\"z\":[[1.0,0.0,0.0,0.0,0.0,0.0,0.0,0.0,0.0,0.0,0.0,0.0,0.0,0.0,0.0,0.0,0.0,0.0,0.0,0.0,0.0,0.0],[0.09733489900827408,0.9026651382446289,0.0,0.0,0.0,0.0,0.0,0.0,0.0,0.0,0.0,0.0,0.0,0.0,0.0,0.0,0.0,0.0,0.0,0.0,0.0,0.0],[0.6039658784866333,0.09683191031217575,0.29920220375061035,0.0,0.0,0.0,0.0,0.0,0.0,0.0,0.0,0.0,0.0,0.0,0.0,0.0,0.0,0.0,0.0,0.0,0.0,0.0],[0.021418889984488487,0.05371040105819702,0.030107470229268074,0.8947632908821106,0.0,0.0,0.0,0.0,0.0,0.0,0.0,0.0,0.0,0.0,0.0,0.0,0.0,0.0,0.0,0.0,0.0,0.0],[0.46079474687576294,0.0400298610329628,0.2502913773059845,0.019551368430256844,0.22933262586593628,0.0,0.0,0.0,0.0,0.0,0.0,0.0,0.0,0.0,0.0,0.0,0.0,0.0,0.0,0.0,0.0,0.0],[0.34823668003082275,0.04143393039703369,0.22916337847709656,0.017187952995300293,0.19058895111083984,0.17338910698890686,0.0,0.0,0.0,0.0,0.0,0.0,0.0,0.0,0.0,0.0,0.0,0.0,0.0,0.0,0.0,0.0],[0.01148936990648508,0.07688745856285095,0.01355852372944355,0.6077502965927124,0.01620902121067047,0.026786718517541885,0.24731862545013428,0.0,0.0,0.0,0.0,0.0,0.0,0.0,0.0,0.0,0.0,0.0,0.0,0.0,0.0,0.0],[0.013067260384559631,0.08499759435653687,0.020676223561167717,0.3686283230781555,0.023808514699339867,0.02270316891372204,0.3136848211288452,0.15243403613567352,0.0,0.0,0.0,0.0,0.0,0.0,0.0,0.0,0.0,0.0,0.0,0.0,0.0,0.0],[0.11201578378677368,0.1406744122505188,0.09452246129512787,0.10972483456134796,0.11544220894575119,0.09662588685750961,0.11704368144273758,0.13247613608837128,0.08147461712360382,0.0,0.0,0.0,0.0,0.0,0.0,0.0,0.0,0.0,0.0,0.0,0.0,0.0],[0.018185287714004517,0.20883123576641083,0.03052753396332264,0.19911469519138336,0.026792921125888824,0.032204195857048035,0.18468230962753296,0.21645379066467285,0.025141989812254906,0.05806606262922287,0.0,0.0,0.0,0.0,0.0,0.0,0.0,0.0,0.0,0.0,0.0,0.0],[0.007379997055977583,0.22461961209774017,0.012003452517092228,0.2238367795944214,0.014774462208151817,0.010019790381193161,0.18245869874954224,0.21872131526470184,0.014512717723846436,0.0114677045494318,0.08020549267530441,0.0,0.0,0.0,0.0,0.0,0.0,0.0,0.0,0.0,0.0,0.0],[0.018469570204615593,0.005092480219900608,0.16947124898433685,0.0022658254019916058,0.41307392716407776,0.22777070105075836,0.003011163789778948,0.0038096343632787466,0.10464657843112946,0.03342645987868309,0.005152371246367693,0.013810055330395699,0.0,0.0,0.0,0.0,0.0,0.0,0.0,0.0,0.0,0.0],[0.14837957918643951,0.006177055183798075,0.23205704987049103,0.0016101844375953078,0.1847226470708847,0.21515582501888275,0.002516448497772217,0.005125537980347872,0.13594576716423035,0.0523197203874588,0.0065142810344696045,0.0025573179591447115,0.006918501574546099,0.0,0.0,0.0,0.0,0.0,0.0,0.0,0.0,0.0],[0.21062909066677094,0.015273205004632473,0.21858234703540802,0.00392163684591651,0.14900736510753632,0.13337433338165283,0.005064013414084911,0.008875791914761066,0.14166247844696045,0.07852546125650406,0.01603670045733452,0.006220252253115177,0.0032177437096834183,0.009609532542526722,0.0,0.0,0.0,0.0,0.0,0.0,0.0,0.0],[0.22047817707061768,0.030289994552731514,0.1316387951374054,0.009750706143677235,0.11396616697311401,0.10685179382562637,0.021174129098653793,0.023390231654047966,0.1549714058637619,0.11304163187742233,0.034343332052230835,0.02337239310145378,0.001598598319105804,0.003783813212066889,0.011348789557814598,0.0,0.0,0.0,0.0,0.0,0.0,0.0],[0.07079865783452988,0.10316658765077591,0.054570864886045456,0.04504867270588875,0.045549314469099045,0.04096286743879318,0.06349673122167587,0.08671420812606812,0.06921779364347458,0.17270468175411224,0.10734952241182327,0.13242605328559875,0.0009595573646947742,0.0010785043705254793,0.0021593046840280294,0.0037966326344758272,0.0,0.0,0.0,0.0,0.0,0.0],[0.01412035059183836,0.16317550837993622,0.017574429512023926,0.08430774509906769,0.011527235619723797,0.013880543410778046,0.10593679547309875,0.15298646688461304,0.02220398187637329,0.06262040138244629,0.1595369428396225,0.18502391874790192,0.0010053226724267006,0.0008178299176506698,0.0010192034533247352,0.0011156279360875487,0.0031476449221372604,0.0,0.0,0.0,0.0,0.0],[0.005162599962204695,0.2298678457736969,0.004881761968135834,0.1247478723526001,0.00442681647837162,0.0031862563919276,0.1347537487745285,0.2061997801065445,0.010273769497871399,0.012640729546546936,0.07441967725753784,0.18242284655570984,0.0009597343159839511,0.00040132791036739945,0.00046318498789332807,0.0007596802315674722,0.0007816474535502493,0.0036507132463157177,0.0,0.0,0.0,0.0],[0.004130016081035137,0.1022816151380539,0.0037440424785017967,0.1653136909008026,0.002277401275932789,0.002811711048707366,0.19064974784851074,0.29553186893463135,0.006799045018851757,0.015575407072901726,0.044089000672101974,0.1617634892463684,0.0002716372546274215,0.00019048071408178657,0.00018783847917802632,0.0002746992977336049,0.0005329371197149158,0.0011336610186845064,0.002441741293296218,0.0,0.0,0.0],[0.004031537566334009,0.09516028314828873,0.0026474427431821823,0.2416285127401352,0.0020975174847990274,0.0023775016888976097,0.2741832435131073,0.1655239313840866,0.006212269887328148,0.022759493440389633,0.06706655770540237,0.11221057176589966,9.255767508875579e-05,7.252592331496999e-05,6.0952792409807444e-05,0.00011761143105104566,0.00038270794902928174,0.0009074680274352431,0.0012170138070359826,0.0012503201141953468,0.0,0.0],[1.3521438631869387e-05,0.008382212370634079,7.554224339401117e-06,0.9173479676246643,2.271837274747668e-06,1.376681393594481e-05,0.05431295931339264,0.010717062279582024,1.1906755389645696e-05,0.0007579497178085148,0.006373974960297346,0.0020522119011729956,1.2988405728719954e-07,2.6126639340873226e-07,3.680104043723986e-08,2.224148865082043e-08,8.264271968982939e-07,3.1434674383490346e-06,1.559306838316843e-06,2.861958989797131e-07,4.194904477117234e-07,0.0],[0.003451691474765539,0.008322715759277344,0.004610401578247547,0.10587149858474731,0.003556431969627738,0.005799609236419201,0.032777316868305206,0.011572051793336868,0.002347871894016862,0.0029230888467282057,0.00857536680996418,0.027507981285452843,0.2840667963027954,0.2062101811170578,0.06212550401687622,0.015844611451029778,0.011094190180301666,0.014523826539516449,0.005231316667050123,0.0027526842895895243,0.003714056685566902,0.17712077498435974]],\"type\":\"heatmap\",\"xaxis\":\"x\",\"yaxis\":\"y\",\"hovertemplate\":\"src: %{x}<br>dest: %{y}<br>color: %{z}<extra></extra>\"}],                        {\"template\":{\"data\":{\"histogram2dcontour\":[{\"type\":\"histogram2dcontour\",\"colorbar\":{\"outlinewidth\":0,\"ticks\":\"\"},\"colorscale\":[[0.0,\"#0d0887\"],[0.1111111111111111,\"#46039f\"],[0.2222222222222222,\"#7201a8\"],[0.3333333333333333,\"#9c179e\"],[0.4444444444444444,\"#bd3786\"],[0.5555555555555556,\"#d8576b\"],[0.6666666666666666,\"#ed7953\"],[0.7777777777777778,\"#fb9f3a\"],[0.8888888888888888,\"#fdca26\"],[1.0,\"#f0f921\"]]}],\"choropleth\":[{\"type\":\"choropleth\",\"colorbar\":{\"outlinewidth\":0,\"ticks\":\"\"}}],\"histogram2d\":[{\"type\":\"histogram2d\",\"colorbar\":{\"outlinewidth\":0,\"ticks\":\"\"},\"colorscale\":[[0.0,\"#0d0887\"],[0.1111111111111111,\"#46039f\"],[0.2222222222222222,\"#7201a8\"],[0.3333333333333333,\"#9c179e\"],[0.4444444444444444,\"#bd3786\"],[0.5555555555555556,\"#d8576b\"],[0.6666666666666666,\"#ed7953\"],[0.7777777777777778,\"#fb9f3a\"],[0.8888888888888888,\"#fdca26\"],[1.0,\"#f0f921\"]]}],\"heatmap\":[{\"type\":\"heatmap\",\"colorbar\":{\"outlinewidth\":0,\"ticks\":\"\"},\"colorscale\":[[0.0,\"#0d0887\"],[0.1111111111111111,\"#46039f\"],[0.2222222222222222,\"#7201a8\"],[0.3333333333333333,\"#9c179e\"],[0.4444444444444444,\"#bd3786\"],[0.5555555555555556,\"#d8576b\"],[0.6666666666666666,\"#ed7953\"],[0.7777777777777778,\"#fb9f3a\"],[0.8888888888888888,\"#fdca26\"],[1.0,\"#f0f921\"]]}],\"heatmapgl\":[{\"type\":\"heatmapgl\",\"colorbar\":{\"outlinewidth\":0,\"ticks\":\"\"},\"colorscale\":[[0.0,\"#0d0887\"],[0.1111111111111111,\"#46039f\"],[0.2222222222222222,\"#7201a8\"],[0.3333333333333333,\"#9c179e\"],[0.4444444444444444,\"#bd3786\"],[0.5555555555555556,\"#d8576b\"],[0.6666666666666666,\"#ed7953\"],[0.7777777777777778,\"#fb9f3a\"],[0.8888888888888888,\"#fdca26\"],[1.0,\"#f0f921\"]]}],\"contourcarpet\":[{\"type\":\"contourcarpet\",\"colorbar\":{\"outlinewidth\":0,\"ticks\":\"\"}}],\"contour\":[{\"type\":\"contour\",\"colorbar\":{\"outlinewidth\":0,\"ticks\":\"\"},\"colorscale\":[[0.0,\"#0d0887\"],[0.1111111111111111,\"#46039f\"],[0.2222222222222222,\"#7201a8\"],[0.3333333333333333,\"#9c179e\"],[0.4444444444444444,\"#bd3786\"],[0.5555555555555556,\"#d8576b\"],[0.6666666666666666,\"#ed7953\"],[0.7777777777777778,\"#fb9f3a\"],[0.8888888888888888,\"#fdca26\"],[1.0,\"#f0f921\"]]}],\"surface\":[{\"type\":\"surface\",\"colorbar\":{\"outlinewidth\":0,\"ticks\":\"\"},\"colorscale\":[[0.0,\"#0d0887\"],[0.1111111111111111,\"#46039f\"],[0.2222222222222222,\"#7201a8\"],[0.3333333333333333,\"#9c179e\"],[0.4444444444444444,\"#bd3786\"],[0.5555555555555556,\"#d8576b\"],[0.6666666666666666,\"#ed7953\"],[0.7777777777777778,\"#fb9f3a\"],[0.8888888888888888,\"#fdca26\"],[1.0,\"#f0f921\"]]}],\"mesh3d\":[{\"type\":\"mesh3d\",\"colorbar\":{\"outlinewidth\":0,\"ticks\":\"\"}}],\"scatter\":[{\"fillpattern\":{\"fillmode\":\"overlay\",\"size\":10,\"solidity\":0.2},\"type\":\"scatter\"}],\"parcoords\":[{\"type\":\"parcoords\",\"line\":{\"colorbar\":{\"outlinewidth\":0,\"ticks\":\"\"}}}],\"scatterpolargl\":[{\"type\":\"scatterpolargl\",\"marker\":{\"colorbar\":{\"outlinewidth\":0,\"ticks\":\"\"}}}],\"bar\":[{\"error_x\":{\"color\":\"#2a3f5f\"},\"error_y\":{\"color\":\"#2a3f5f\"},\"marker\":{\"line\":{\"color\":\"#E5ECF6\",\"width\":0.5},\"pattern\":{\"fillmode\":\"overlay\",\"size\":10,\"solidity\":0.2}},\"type\":\"bar\"}],\"scattergeo\":[{\"type\":\"scattergeo\",\"marker\":{\"colorbar\":{\"outlinewidth\":0,\"ticks\":\"\"}}}],\"scatterpolar\":[{\"type\":\"scatterpolar\",\"marker\":{\"colorbar\":{\"outlinewidth\":0,\"ticks\":\"\"}}}],\"histogram\":[{\"marker\":{\"pattern\":{\"fillmode\":\"overlay\",\"size\":10,\"solidity\":0.2}},\"type\":\"histogram\"}],\"scattergl\":[{\"type\":\"scattergl\",\"marker\":{\"colorbar\":{\"outlinewidth\":0,\"ticks\":\"\"}}}],\"scatter3d\":[{\"type\":\"scatter3d\",\"line\":{\"colorbar\":{\"outlinewidth\":0,\"ticks\":\"\"}},\"marker\":{\"colorbar\":{\"outlinewidth\":0,\"ticks\":\"\"}}}],\"scattermapbox\":[{\"type\":\"scattermapbox\",\"marker\":{\"colorbar\":{\"outlinewidth\":0,\"ticks\":\"\"}}}],\"scatterternary\":[{\"type\":\"scatterternary\",\"marker\":{\"colorbar\":{\"outlinewidth\":0,\"ticks\":\"\"}}}],\"scattercarpet\":[{\"type\":\"scattercarpet\",\"marker\":{\"colorbar\":{\"outlinewidth\":0,\"ticks\":\"\"}}}],\"carpet\":[{\"aaxis\":{\"endlinecolor\":\"#2a3f5f\",\"gridcolor\":\"white\",\"linecolor\":\"white\",\"minorgridcolor\":\"white\",\"startlinecolor\":\"#2a3f5f\"},\"baxis\":{\"endlinecolor\":\"#2a3f5f\",\"gridcolor\":\"white\",\"linecolor\":\"white\",\"minorgridcolor\":\"white\",\"startlinecolor\":\"#2a3f5f\"},\"type\":\"carpet\"}],\"table\":[{\"cells\":{\"fill\":{\"color\":\"#EBF0F8\"},\"line\":{\"color\":\"white\"}},\"header\":{\"fill\":{\"color\":\"#C8D4E3\"},\"line\":{\"color\":\"white\"}},\"type\":\"table\"}],\"barpolar\":[{\"marker\":{\"line\":{\"color\":\"#E5ECF6\",\"width\":0.5},\"pattern\":{\"fillmode\":\"overlay\",\"size\":10,\"solidity\":0.2}},\"type\":\"barpolar\"}],\"pie\":[{\"automargin\":true,\"type\":\"pie\"}]},\"layout\":{\"autotypenumbers\":\"strict\",\"colorway\":[\"#636efa\",\"#EF553B\",\"#00cc96\",\"#ab63fa\",\"#FFA15A\",\"#19d3f3\",\"#FF6692\",\"#B6E880\",\"#FF97FF\",\"#FECB52\"],\"font\":{\"color\":\"#2a3f5f\"},\"hovermode\":\"closest\",\"hoverlabel\":{\"align\":\"left\"},\"paper_bgcolor\":\"white\",\"plot_bgcolor\":\"#E5ECF6\",\"polar\":{\"bgcolor\":\"#E5ECF6\",\"angularaxis\":{\"gridcolor\":\"white\",\"linecolor\":\"white\",\"ticks\":\"\"},\"radialaxis\":{\"gridcolor\":\"white\",\"linecolor\":\"white\",\"ticks\":\"\"}},\"ternary\":{\"bgcolor\":\"#E5ECF6\",\"aaxis\":{\"gridcolor\":\"white\",\"linecolor\":\"white\",\"ticks\":\"\"},\"baxis\":{\"gridcolor\":\"white\",\"linecolor\":\"white\",\"ticks\":\"\"},\"caxis\":{\"gridcolor\":\"white\",\"linecolor\":\"white\",\"ticks\":\"\"}},\"coloraxis\":{\"colorbar\":{\"outlinewidth\":0,\"ticks\":\"\"}},\"colorscale\":{\"sequential\":[[0.0,\"#0d0887\"],[0.1111111111111111,\"#46039f\"],[0.2222222222222222,\"#7201a8\"],[0.3333333333333333,\"#9c179e\"],[0.4444444444444444,\"#bd3786\"],[0.5555555555555556,\"#d8576b\"],[0.6666666666666666,\"#ed7953\"],[0.7777777777777778,\"#fb9f3a\"],[0.8888888888888888,\"#fdca26\"],[1.0,\"#f0f921\"]],\"sequentialminus\":[[0.0,\"#0d0887\"],[0.1111111111111111,\"#46039f\"],[0.2222222222222222,\"#7201a8\"],[0.3333333333333333,\"#9c179e\"],[0.4444444444444444,\"#bd3786\"],[0.5555555555555556,\"#d8576b\"],[0.6666666666666666,\"#ed7953\"],[0.7777777777777778,\"#fb9f3a\"],[0.8888888888888888,\"#fdca26\"],[1.0,\"#f0f921\"]],\"diverging\":[[0,\"#8e0152\"],[0.1,\"#c51b7d\"],[0.2,\"#de77ae\"],[0.3,\"#f1b6da\"],[0.4,\"#fde0ef\"],[0.5,\"#f7f7f7\"],[0.6,\"#e6f5d0\"],[0.7,\"#b8e186\"],[0.8,\"#7fbc41\"],[0.9,\"#4d9221\"],[1,\"#276419\"]]},\"xaxis\":{\"gridcolor\":\"white\",\"linecolor\":\"white\",\"ticks\":\"\",\"title\":{\"standoff\":15},\"zerolinecolor\":\"white\",\"automargin\":true,\"zerolinewidth\":2},\"yaxis\":{\"gridcolor\":\"white\",\"linecolor\":\"white\",\"ticks\":\"\",\"title\":{\"standoff\":15},\"zerolinecolor\":\"white\",\"automargin\":true,\"zerolinewidth\":2},\"scene\":{\"xaxis\":{\"backgroundcolor\":\"#E5ECF6\",\"gridcolor\":\"white\",\"linecolor\":\"white\",\"showbackground\":true,\"ticks\":\"\",\"zerolinecolor\":\"white\",\"gridwidth\":2},\"yaxis\":{\"backgroundcolor\":\"#E5ECF6\",\"gridcolor\":\"white\",\"linecolor\":\"white\",\"showbackground\":true,\"ticks\":\"\",\"zerolinecolor\":\"white\",\"gridwidth\":2},\"zaxis\":{\"backgroundcolor\":\"#E5ECF6\",\"gridcolor\":\"white\",\"linecolor\":\"white\",\"showbackground\":true,\"ticks\":\"\",\"zerolinecolor\":\"white\",\"gridwidth\":2}},\"shapedefaults\":{\"line\":{\"color\":\"#2a3f5f\"}},\"annotationdefaults\":{\"arrowcolor\":\"#2a3f5f\",\"arrowhead\":0,\"arrowwidth\":1},\"geo\":{\"bgcolor\":\"white\",\"landcolor\":\"#E5ECF6\",\"subunitcolor\":\"white\",\"showland\":true,\"showlakes\":true,\"lakecolor\":\"white\"},\"title\":{\"x\":0.05},\"mapbox\":{\"style\":\"light\"}}},\"xaxis\":{\"anchor\":\"y\",\"domain\":[0.0,1.0],\"scaleanchor\":\"y\",\"constrain\":\"domain\",\"title\":{\"text\":\"src\"}},\"yaxis\":{\"anchor\":\"x\",\"domain\":[0.0,1.0],\"autorange\":\"reversed\",\"constrain\":\"domain\",\"title\":{\"text\":\"dest\"}},\"coloraxis\":{\"colorscale\":[[0.0,\"rgb(103,0,31)\"],[0.1,\"rgb(178,24,43)\"],[0.2,\"rgb(214,96,77)\"],[0.3,\"rgb(244,165,130)\"],[0.4,\"rgb(253,219,199)\"],[0.5,\"rgb(247,247,247)\"],[0.6,\"rgb(209,229,240)\"],[0.7,\"rgb(146,197,222)\"],[0.8,\"rgb(67,147,195)\"],[0.9,\"rgb(33,102,172)\"],[1.0,\"rgb(5,48,97)\"]],\"cmid\":0.0},\"title\":{\"text\":\"attn 0.0 pattern for example ['BOS', '32_1', '7_2', '48_3', '1_4', '3_5', '41_6', '33_7', '18_8', '23_9', '31_10', 'MID', '1_12', '3_13', '7_14', '18_15', '23_16', '31_17', '32_18', '33_19', '41_20', '48_21']\"}},                        {\"responsive\": true}                    ).then(function(){\n",
              "                            \n",
              "var gd = document.getElementById('7eefa882-d4a0-44ec-a9db-be5a4c593b4e');\n",
              "var x = new MutationObserver(function (mutations, observer) {{\n",
              "        var display = window.getComputedStyle(gd).display;\n",
              "        if (!display || display === 'none') {{\n",
              "            console.log([gd, 'removed!']);\n",
              "            Plotly.purge(gd);\n",
              "            observer.disconnect();\n",
              "        }}\n",
              "}});\n",
              "\n",
              "// Listen for the removal of the full notebook cells\n",
              "var notebookContainer = gd.closest('#notebook-container');\n",
              "if (notebookContainer) {{\n",
              "    x.observe(notebookContainer, {childList: true});\n",
              "}}\n",
              "\n",
              "// Listen for the clearing of the current output cell\n",
              "var outputEl = gd.closest('.output');\n",
              "if (outputEl) {{\n",
              "    x.observe(outputEl, {childList: true});\n",
              "}}\n",
              "\n",
              "                        })                };                            </script>        </div>\n",
              "</body>\n",
              "</html>"
            ]
          },
          "metadata": {}
        }
      ]
    },
    {
      "cell_type": "markdown",
      "source": [
        "The attn patterns are a lot less clear cut than the \"min of two ints\" problem, but it does appear that the model is paying the most attention to src tokens in proportion to how close they are to the correct answer.\n",
        "\n",
        "\n",
        "Another observation is that the prediction for the last sorted token appears to more confidently attend to the max. I could imagine the model learning a separate circuit for this position since we are always sorting fixed length lists.\n"
      ],
      "metadata": {
        "id": "EnMv-fbXdEG2"
      }
    },
    {
      "cell_type": "markdown",
      "source": [
        "## Hypothesis: OV circuit copies"
      ],
      "metadata": {
        "id": "NmNxXwx_dQ9e"
      }
    },
    {
      "cell_type": "markdown",
      "source": [
        "Now that we know the model seems to be paying attn to the answers, a natural hypothesis is that the OV circuit just copies the token that we attend to.\n",
        "\n",
        "One way this problem differs from the min of two ints is that we now have positional embeddings, so the math is a bit different.\n",
        "\n",
        "![picture](https://drive.google.com/uc?id=122RKveFXuNqYBN1lnEL3d8N9YTw1Y0Jj)\n",
        "\n",
        "$$\n",
        "\\begin{aligned}\n",
        "logits &= x_1W_U\\\\\n",
        "&= \\left(h_{0.0}(x_0) + x_0\\right)W_U\\\\\n",
        "&= h_{0.0}(x_0)W_U + x_0W_U\\\\\n",
        "& = A^{0.0}x_0W_{OV}^{0.0}W_U + x_0W_U\\\\\n",
        "& = A^{0.0}(e+p)W_{OV}^{0.0}W_U + (e+p)W_U\\\\\n",
        "& = A^{0.0}(eW_{OV}^{0.0}W_U+pW_{OV}^{0.0}W_U) + eW_U+pW_U\\\\\n",
        "& = A^{0.0}eW_{OV}^{0.0}W_U+A^{0.0}pW_{OV}^{0.0}W_U + eW_U+pW_U\\\\\n",
        "& = A^{0.0}tW_EW_{OV}^{0.0}W_U+A^{0.0}posW_{pos}W_{OV}^{0.0}W_U + tW_EW_U+posW_{pos}W_U\\\\\n",
        "\\end{aligned}\n",
        "$$\n",
        "\n",
        "Where $t$ is the tokens as one hot encoded vectors, and $pos$ is the position indices as one hot encoded vectors. \n",
        "\n",
        "\n",
        "Intuitively the W_E @ W_OV @ W_U full OV circuit should be the most important, since the src token has more valuable information than the src position, so we can start by looking at that. We expect to see a strong diagonal indicating copying behavior, similar to the min of two ints problem."
      ],
      "metadata": {
        "id": "lb4LcGJTVP_M"
      }
    },
    {
      "cell_type": "code",
      "source": [
        "full_OV_circuit = model.W_E @ model.OV[0,0].AB @ model.W_U\n",
        "full_OV_circuit.shape"
      ],
      "metadata": {
        "colab": {
          "base_uri": "https://localhost:8080/"
        },
        "id": "KrTxRh1zcq9a",
        "outputId": "7c7b7609-51f7-4129-878b-1562417db89d"
      },
      "execution_count": 23,
      "outputs": [
        {
          "output_type": "execute_result",
          "data": {
            "text/plain": [
              "torch.Size([52, 50])"
            ]
          },
          "metadata": {},
          "execution_count": 23
        }
      ]
    },
    {
      "cell_type": "code",
      "source": [
        "imshow(\n",
        "    full_OV_circuit,\n",
        "    title=\"attn 0.0 Full OV circuit W_E @ W_OV @ W_U\",\n",
        "    xaxis=\"logit\", yaxis=\"src token\"\n",
        ")"
      ],
      "metadata": {
        "colab": {
          "base_uri": "https://localhost:8080/",
          "height": 542
        },
        "id": "RQnKoObhdZyp",
        "outputId": "faecb3cd-5238-4d2a-e83f-910a001c1352"
      },
      "execution_count": 24,
      "outputs": [
        {
          "output_type": "display_data",
          "data": {
            "text/html": [
              "<html>\n",
              "<head><meta charset=\"utf-8\" /></head>\n",
              "<body>\n",
              "    <div>            <script src=\"https://cdnjs.cloudflare.com/ajax/libs/mathjax/2.7.5/MathJax.js?config=TeX-AMS-MML_SVG\"></script><script type=\"text/javascript\">if (window.MathJax && window.MathJax.Hub && window.MathJax.Hub.Config) {window.MathJax.Hub.Config({SVG: {font: \"STIX-Web\"}});}</script>                <script type=\"text/javascript\">window.PlotlyConfig = {MathJaxConfig: 'local'};</script>\n",
              "        <script src=\"https://cdn.plot.ly/plotly-2.18.2.min.js\"></script>                <div id=\"61181cf9-9412-441d-a1e2-93045e23b452\" class=\"plotly-graph-div\" style=\"height:525px; width:100%;\"></div>            <script type=\"text/javascript\">                                    window.PLOTLYENV=window.PLOTLYENV || {};                                    if (document.getElementById(\"61181cf9-9412-441d-a1e2-93045e23b452\")) {                    Plotly.newPlot(                        \"61181cf9-9412-441d-a1e2-93045e23b452\",                        [{\"coloraxis\":\"coloraxis\",\"name\":\"0\",\"z\":[[1001.6165771484375,935.568359375,888.5863037109375,834.6116333007812,776.4188842773438,722.5748901367188,674.5010986328125,619.8804931640625,557.602783203125,496.6689453125,443.97802734375,381.91131591796875,318.7520751953125,266.528564453125,203.33827209472656,162.75924682617188,105.65081787109375,52.05653762817383,-5.355210304260254,-44.6589469909668,-84.46874237060547,-121.1597900390625,-152.15692138671875,-186.25918579101562,-209.938232421875,-231.72935485839844,-241.68362426757812,-252.88406372070312,-258.9325866699219,-270.6448669433594,-287.69189453125,-296.8320617675781,-300.81707763671875,-310.62371826171875,-316.82098388671875,-319.2334899902344,-323.3993225097656,-307.5459899902344,-305.1315002441406,-294.43438720703125,-264.4955749511719,-230.86227416992188,-188.66810607910156,-142.74136352539062,-86.04273223876953,-16.078731536865234,100.12104034423828,198.96377563476562,262.5777893066406,298.3734130859375],[919.4393310546875,962.0316162109375,896.1004638671875,841.409423828125,783.146484375,731.2825317382812,681.8767700195312,629.7978515625,571.9386596679688,509.98046875,454.17437744140625,390.8647155761719,332.526123046875,279.2548828125,210.91061401367188,164.02667236328125,115.08173370361328,61.11492156982422,2.187225341796875,-45.16999053955078,-90.75357055664062,-121.9925765991211,-164.03807067871094,-184.61199951171875,-212.67962646484375,-234.1339569091797,-248.05279541015625,-257.39361572265625,-270.33087158203125,-279.4268798828125,-300.8658447265625,-315.7818603515625,-309.7010498046875,-334.70880126953125,-327.77374267578125,-322.1311340332031,-334.113037109375,-322.9581298828125,-329.6205139160156,-305.9671630859375,-251.84716796875,-220.02914428710938,-180.03688049316406,-140.8275146484375,-75.92684936523438,-10.950098037719727,93.48950958251953,192.4280242919922,251.6753692626953,297.10955810546875],[839.1708984375,861.5463256835938,905.0917358398438,826.8273315429688,771.2808837890625,715.2003173828125,665.3360595703125,609.5899658203125,550.565185546875,487.84637451171875,435.9630432128906,373.6288146972656,316.1129150390625,265.701171875,197.7290496826172,165.46409606933594,109.32809448242188,53.897727966308594,-5.276663780212402,-39.93946838378906,-86.05305480957031,-116.13762664794922,-147.56832885742188,-182.95526123046875,-206.81585693359375,-225.92774963378906,-237.20993041992188,-248.2772979736328,-257.17706298828125,-268.8892517089844,-291.99066162109375,-303.42413330078125,-298.42864990234375,-309.96356201171875,-322.474853515625,-336.70611572265625,-341.733642578125,-325.38671875,-317.64825439453125,-291.500244140625,-234.08807373046875,-200.77581787109375,-164.57058715820312,-115.07524108886719,-69.45248413085938,0.025808334350585938,92.84521484375,163.01405334472656,244.55677795410156,288.11138916015625],[816.8787231445312,835.0492553710938,856.078369140625,886.7608642578125,799.1099853515625,739.3031005859375,685.5786743164062,626.96875,563.779052734375,500.705078125,445.54925537109375,380.4290771484375,318.29779052734375,264.1628112792969,200.75131225585938,156.1617889404297,100.69620513916016,47.23064422607422,-10.259256362915039,-58.49052047729492,-96.14848327636719,-131.53756713867188,-169.8187713623047,-196.99171447753906,-220.6536865234375,-243.530029296875,-256.96124267578125,-268.8271484375,-274.5631408691406,-284.531005859375,-302.8462219238281,-311.97906494140625,-328.5377197265625,-323.3887023925781,-321.31695556640625,-341.1576843261719,-341.19146728515625,-342.6498107910156,-329.57977294921875,-292.34991455078125,-244.0853729248047,-200.19195556640625,-159.76983642578125,-98.71153259277344,-38.25092315673828,21.56940460205078,104.85023498535156,200.93179321289062,261.3702087402344,310.23797607421875],[649.2825927734375,673.9679565429688,699.7794799804688,715.236083984375,749.4837646484375,672.32177734375,628.4066162109375,576.9986572265625,518.3685302734375,464.75115966796875,420.050537109375,355.703369140625,300.646240234375,253.51380920410156,197.72470092773438,161.4564971923828,111.01131439208984,62.547882080078125,10.863016128540039,-24.047096252441406,-60.34777069091797,-97.18806457519531,-122.52381134033203,-156.1238250732422,-183.0895538330078,-202.67910766601562,-213.8258819580078,-226.13143920898438,-233.8282470703125,-245.1230926513672,-262.5999450683594,-270.74951171875,-276.35308837890625,-299.51336669921875,-293.4101257324219,-291.1174621582031,-294.52215576171875,-304.8065185546875,-279.0570068359375,-264.70050048828125,-242.05857849121094,-194.24942016601562,-158.06338500976562,-108.33362579345703,-67.36027526855469,-12.723417282104492,53.27681350708008,131.95213317871094,218.3679962158203,272.1175231933594],[591.96044921875,611.3443603515625,635.238525390625,653.0424194335938,666.4909057617188,705.9865112304688,636.067626953125,584.1758422851562,528.2758178710938,471.9904479980469,423.3634948730469,370.9245910644531,315.56842041015625,263.158447265625,213.51199340820312,176.78994750976562,133.59254455566406,87.33541107177734,44.17998123168945,-3.160090446472168,-42.952964782714844,-75.35835266113281,-99.18449401855469,-138.4020233154297,-160.46881103515625,-177.93948364257812,-192.63526916503906,-203.9738311767578,-219.9285430908203,-222.56707763671875,-242.82855224609375,-252.8241729736328,-252.51712036132812,-266.925537109375,-276.2942199707031,-281.69305419921875,-288.7281799316406,-292.83758544921875,-303.4701843261719,-284.7635498046875,-262.34381103515625,-238.00987243652344,-202.47509765625,-135.48605346679688,-78.67155456542969,-27.365755081176758,27.71692657470703,95.51592254638672,177.54116821289062,230.00634765625],[530.6589965820312,550.3785400390625,576.16650390625,592.1226806640625,605.8551025390625,625.78955078125,680.6027221679688,596.5679931640625,540.4469604492188,486.19287109375,436.9609680175781,377.6715393066406,326.52532958984375,278.3200988769531,219.4288330078125,179.91078186035156,131.05137634277344,79.12000274658203,35.278282165527344,-3.979341506958008,-37.59321212768555,-69.9759750366211,-102.26646423339844,-124.78684997558594,-150.4025115966797,-169.44622802734375,-179.36172485351562,-191.2591094970703,-204.4227294921875,-212.01608276367188,-228.80087280273438,-243.23992919921875,-251.3147430419922,-260.1803283691406,-265.4253234863281,-268.26318359375,-260.6861267089844,-259.48187255859375,-282.25225830078125,-241.76705932617188,-227.23367309570312,-232.22894287109375,-194.0313720703125,-147.515869140625,-115.66023254394531,-68.65093231201172,-11.98921012878418,62.01673126220703,151.57382202148438,246.05239868164062],[432.96484375,456.26483154296875,480.13037109375,499.4071350097656,514.4871826171875,536.97412109375,570.904296875,612.855712890625,531.0177001953125,476.1898193359375,433.7911071777344,389.3028259277344,333.0392150878906,289.2434997558594,236.08523559570312,199.64529418945312,157.78201293945312,112.35212707519531,66.4112319946289,30.894302368164062,-1.2478103637695312,-31.34577751159668,-59.04554748535156,-86.04342651367188,-107.19011688232422,-128.9378662109375,-140.04510498046875,-151.8526611328125,-164.5849609375,-177.3349609375,-193.57269287109375,-202.7935791015625,-209.7898406982422,-213.3516845703125,-226.78573608398438,-224.6934051513672,-241.8111114501953,-261.3089904785156,-249.2811279296875,-252.34963989257812,-223.35589599609375,-221.30252075195312,-219.7742919921875,-197.12400817871094,-154.8793182373047,-122.20896911621094,-66.37240600585938,-2.1959075927734375,75.76386260986328,165.9677276611328],[333.04876708984375,354.218505859375,377.6819763183594,394.32763671875,406.1444091796875,428.6388244628906,460.49176025390625,482.19464111328125,519.1591796875,443.44207763671875,404.5953674316406,352.9657287597656,306.3269348144531,262.5480651855469,219.86961364746094,184.3673095703125,143.0732421875,100.24674224853516,61.57311248779297,28.406381607055664,3.6883010864257812,-30.99313735961914,-50.600303649902344,-83.74845886230469,-99.95863342285156,-115.93182373046875,-127.58355712890625,-142.64132690429688,-152.9281005859375,-162.10287475585938,-172.42706298828125,-182.34266662597656,-193.33465576171875,-201.23207092285156,-207.03140258789062,-214.06033325195312,-208.3018798828125,-200.88784790039062,-207.9058380126953,-202.74981689453125,-177.36639404296875,-165.80029296875,-181.14889526367188,-166.7764434814453,-139.9754638671875,-78.46907806396484,-60.952659606933594,1.0090789794921875,52.225704193115234,125.29581451416016],[300.2127990722656,320.5356140136719,342.8109130859375,362.70013427734375,377.22723388671875,398.67608642578125,431.331298828125,451.5128173828125,469.643310546875,510.6431884765625,435.6143493652344,387.2707214355469,333.876708984375,289.70599365234375,236.9299774169922,200.92999267578125,157.8622589111328,119.57384490966797,75.90699768066406,42.045188903808594,10.41025161743164,-14.329877853393555,-41.805999755859375,-69.242919921875,-93.01509094238281,-109.75337982177734,-124.41952514648438,-133.81317138671875,-145.89944458007812,-160.05706787109375,-172.5044708251953,-181.38604736328125,-186.0965576171875,-191.39523315429688,-202.45956420898438,-197.73175048828125,-217.67156982421875,-204.77853393554688,-216.14027404785156,-196.70484924316406,-197.66934204101562,-170.11074829101562,-173.04156494140625,-146.3592987060547,-160.0345916748047,-104.58783721923828,-75.66598510742188,-4.4743194580078125,41.725990295410156,90.55113220214844],[269.7890930175781,288.0544738769531,309.37530517578125,326.16961669921875,340.98895263671875,359.46307373046875,391.68524169921875,410.25921630859375,428.3076171875,446.3250732421875,495.095947265625,409.0599670410156,358.01904296875,311.249267578125,259.431884765625,213.88540649414062,176.92391967773438,133.36859130859375,95.34825134277344,51.216251373291016,22.079025268554688,-9.941911697387695,-46.094276428222656,-63.908634185791016,-75.56346130371094,-97.82894897460938,-117.51974487304688,-123.2426528930664,-139.53973388671875,-146.30523681640625,-164.88658142089844,-174.451171875,-175.77706909179688,-182.04603576660156,-183.25115966796875,-201.78236389160156,-201.53627014160156,-203.9505615234375,-207.18167114257812,-217.8621826171875,-201.63182067871094,-185.12303161621094,-165.37161254882812,-157.91485595703125,-159.0669403076172,-112.05598449707031,-109.93069458007812,-21.654211044311523,23.384971618652344,34.34943771362305],[205.70913696289062,224.44113159179688,247.0916748046875,265.2999267578125,278.70196533203125,297.45269775390625,328.03363037109375,347.98956298828125,364.9869079589844,384.3436584472656,408.5429992675781,450.2147521972656,363.728271484375,318.3408203125,270.8077087402344,227.23513793945312,185.88272094726562,143.9602813720703,100.43354797363281,61.939537048339844,39.968753814697266,2.6993322372436523,-19.277605056762695,-51.73557662963867,-78.63291931152344,-86.50732421875,-103.11276245117188,-118.11170959472656,-126.98435974121094,-136.93655395507812,-152.06285095214844,-164.80210876464844,-172.70533752441406,-186.24267578125,-183.66561889648438,-189.25363159179688,-198.7817840576172,-177.82745361328125,-191.40008544921875,-205.06362915039062,-167.2875213623047,-147.1084442138672,-146.7353515625,-117.3822021484375,-118.08751678466797,-117.927978515625,-94.01222229003906,-62.91551208496094,-19.32297134399414,-2.2198879718780518],[128.43211364746094,147.8635711669922,169.43792724609375,186.76361083984375,201.71157836914062,220.70687866210938,248.6288604736328,265.84002685546875,286.40325927734375,305.95794677734375,331.78948974609375,350.2732849121094,391.8687744140625,311.9984130859375,266.46954345703125,230.94200134277344,188.87698364257812,150.55453491210938,106.1097412109375,77.36119842529297,45.74767303466797,11.433037757873535,-8.408717155456543,-32.017372131347656,-54.814910888671875,-76.26638793945312,-86.94667053222656,-101.6524658203125,-109.81465148925781,-124.29908752441406,-128.22320556640625,-141.59532165527344,-147.92138671875,-151.1795654296875,-162.09365844726562,-156.73623657226562,-170.1578826904297,-157.3837127685547,-170.5355682373047,-181.21298217773438,-149.80703735351562,-143.36856079101562,-104.35563659667969,-90.77674865722656,-84.85509490966797,-56.26699447631836,-65.46257781982422,-64.29155731201172,-66.39261627197266,-25.519573211669922],[97.20440673828125,121.26933288574219,139.4853515625,154.54185485839844,169.04061889648438,186.99563598632812,218.72976684570312,238.66485595703125,257.24176025390625,278.91217041015625,303.7266845703125,326.2482604980469,344.806640625,390.47259521484375,303.4681091308594,267.2967834472656,227.979736328125,185.09182739257812,144.66879272460938,102.63941955566406,75.55196380615234,42.218910217285156,21.23682975769043,-24.54828643798828,-26.50775909423828,-42.5814208984375,-51.965904235839844,-65.23603057861328,-84.46578216552734,-84.50102233886719,-92.716796875,-100.07359313964844,-115.02284240722656,-126.72895050048828,-135.7881317138672,-137.31756591796875,-147.12791442871094,-159.2322998046875,-171.8558349609375,-166.9833984375,-146.53216552734375,-137.51528930664062,-111.98489379882812,-114.65998840332031,-137.66921997070312,-124.91815185546875,-104.294921875,-116.1414794921875,-118.19096374511719,-69.3577880859375],[20.30575942993164,46.39801025390625,68.52802276611328,89.370361328125,105.32524108886719,123.39466094970703,154.15835571289062,172.34068298339844,193.4218292236328,211.58535766601562,237.067138671875,260.3459167480469,276.43829345703125,299.03607177734375,340.50579833984375,263.4501647949219,225.02345275878906,187.88873291015625,147.20545959472656,118.345703125,86.21422576904297,56.85145568847656,34.499488830566406,8.325013160705566,-19.627788543701172,-25.4940185546875,-35.388755798339844,-41.409751892089844,-51.41393280029297,-64.88304138183594,-75.82515716552734,-86.35443115234375,-93.41021728515625,-94.1866226196289,-111.89287567138672,-110.78898620605469,-116.93754577636719,-118.82144165039062,-133.99282836914062,-123.56002807617188,-132.72689819335938,-103.64398193359375,-77.10284423828125,-122.2552719116211,-97.16986846923828,-112.68501281738281,-111.96504974365234,-139.50164794921875,-126.38272857666016,-91.83432006835938],[-27.678592681884766,-6.7599778175354,18.796201705932617,36.13188552856445,55.088802337646484,78.01707458496094,108.6781005859375,128.47689819335938,149.22935485839844,167.94882202148438,191.4003448486328,215.7749481201172,234.22238159179688,255.6411895751953,270.6816101074219,317.2848815917969,238.16639709472656,203.21673583984375,170.82052612304688,130.47369384765625,116.17914581298828,86.6236572265625,62.07871627807617,51.537132263183594,36.62771224975586,12.722972869873047,-1.966797113418579,-6.310844421386719,-17.12101173400879,-29.80618667602539,-45.29689025878906,-56.668277740478516,-62.7632942199707,-75.025634765625,-65.59150695800781,-85.18743896484375,-104.60072326660156,-100.06488800048828,-98.84913635253906,-119.98796081542969,-133.11231994628906,-136.59811401367188,-119.05543518066406,-120.72366333007812,-133.56585693359375,-127.74382019042969,-115.65411376953125,-154.56747436523438,-168.23715209960938,-126.57634735107422],[-65.40042877197266,-37.802886962890625,-16.908912658691406,1.8050918579101562,18.5642147064209,37.890869140625,66.55609130859375,87.2629623413086,106.42686462402344,126.62959289550781,152.441162109375,175.9612579345703,193.46751403808594,216.0554962158203,231.47817993164062,250.2637481689453,293.95623779296875,210.22088623046875,175.8518829345703,144.31790161132812,112.61935424804688,94.2965316772461,59.571388244628906,45.135902404785156,31.038057327270508,13.39422607421875,3.883359432220459,-11.958206176757812,-18.71550178527832,-31.19241714477539,-40.209861755371094,-48.118614196777344,-58.08980941772461,-66.9373779296875,-63.05982971191406,-68.0274429321289,-78.295654296875,-68.85909271240234,-72.15199279785156,-68.81422424316406,-109.74327850341797,-89.93881225585938,-121.99195861816406,-110.30343627929688,-97.79299926757812,-111.258544921875,-115.10958862304688,-158.95509338378906,-172.47598266601562,-144.8798828125],[-86.29766845703125,-60.19710159301758,-39.46807098388672,-21.503395080566406,-2.8081655502319336,18.695945739746094,50.224700927734375,72.29552459716797,92.36698150634766,117.23804473876953,143.61207580566406,166.669677734375,184.42007446289062,206.5175018310547,224.54689025878906,246.61611938476562,263.84228515625,306.46722412109375,220.61790466308594,190.35653686523438,161.40545654296875,125.00756072998047,112.63555145263672,90.47035217285156,69.51229858398438,54.46288299560547,51.43067169189453,33.48072814941406,15.297057151794434,5.789567947387695,-8.327445983886719,-26.853870391845703,-39.62535858154297,-53.93861770629883,-56.94961929321289,-67.71037292480469,-62.23277282714844,-80.07286834716797,-67.65715789794922,-76.6640625,-92.27239990234375,-129.24386596679688,-128.13031005859375,-155.03273010253906,-144.00054931640625,-153.40438842773438,-138.1988067626953,-188.74209594726562,-205.28067016601562,-246.1766357421875],[-140.86410522460938,-108.97003173828125,-90.51736450195312,-65.39086151123047,-49.14527893066406,-28.78546142578125,1.6751644611358643,21.717451095581055,42.18967056274414,64.57891845703125,90.5955581665039,111.62652587890625,129.2621612548828,150.8522491455078,167.58209228515625,187.28102111816406,206.82235717773438,223.6478271484375,263.5850830078125,177.98968505859375,146.1210479736328,128.27198791503906,102.76768493652344,82.59452819824219,58.38195037841797,42.56852340698242,35.43705749511719,18.045074462890625,15.030898094177246,-6.389690399169922,-8.963665008544922,-14.840184211730957,-27.875669479370117,-34.530670166015625,-53.92442321777344,-41.38166809082031,-48.394474029541016,-39.90624237060547,-33.23493957519531,-25.31289291381836,-30.23641586303711,-78.35684204101562,-76.97813415527344,-80.56503295898438,-91.87858581542969,-131.19329833984375,-164.88987731933594,-156.51535034179688,-189.27955627441406,-210.83981323242188],[-123.13505554199219,-100.14741516113281,-82.8080825805664,-66.7073974609375,-52.422733306884766,-36.87261199951172,-8.05816650390625,7.865753173828125,26.63754653930664,46.829246520996094,69.15850830078125,92.1991195678711,109.43873596191406,129.91000366210938,149.375,169.72280883789062,188.6831817626953,207.6572265625,223.14297485351562,273.4308166503906,192.81802368164062,168.7619171142578,146.29434204101562,125.03948974609375,114.05300903320312,90.53509521484375,75.37830352783203,64.73052978515625,51.38035202026367,34.02313995361328,28.80746078491211,18.412370681762695,0.37660884857177734,-16.25531005859375,-10.185686111450195,-25.758039474487305,-48.01082229614258,-39.99834442138672,-40.929012298583984,-47.59196472167969,-62.39176940917969,-95.28543853759766,-110.8566665649414,-125.80230712890625,-130.43170166015625,-182.48770141601562,-196.9014892578125,-206.96592712402344,-192.88458251953125,-229.30413818359375],[-180.90513610839844,-146.01870727539062,-126.7392349243164,-104.52193450927734,-88.65399169921875,-68.91050720214844,-39.287071228027344,-19.64484405517578,2.0774965286254883,23.861530303955078,44.17391586303711,68.57379150390625,86.48989868164062,108.33570098876953,126.88504028320312,146.1614990234375,165.57371520996094,183.333740234375,204.03671264648438,226.5916748046875,277.8406066894531,187.20672607421875,160.44393920898438,143.7061767578125,129.9195556640625,102.99229431152344,89.8348388671875,67.97909545898438,56.05122375488281,41.19123077392578,29.228267669677734,3.1565427780151367,18.39859390258789,2.422053813934326,-5.235445976257324,-12.771051406860352,-20.229366302490234,-41.177276611328125,-57.233463287353516,-30.285808563232422,-58.90441131591797,-82.18206787109375,-108.31130981445312,-101.40355682373047,-115.33108520507812,-145.8206787109375,-159.22396850585938,-185.5762481689453,-236.67391967773438,-268.02679443359375],[-222.75137329101562,-170.88845825195312,-148.6458740234375,-128.96238708496094,-115.93017578125,-98.69015502929688,-69.42749786376953,-50.533966064453125,-29.8731746673584,-5.4740705490112305,16.77083969116211,40.757301330566406,60.603546142578125,83.63148498535156,105.55791473388672,126.35720825195312,149.11111450195312,167.439453125,188.7340850830078,216.31326293945312,238.06561279296875,287.72271728515625,194.50790405273438,176.12745666503906,149.4266357421875,126.46029663085938,130.37994384765625,105.52384948730469,84.65367126464844,78.17376708984375,56.8414306640625,44.001731872558594,29.967308044433594,12.273019790649414,4.363542556762695,-3.7404727935791016,-10.398530006408691,-31.813194274902344,-21.88248634338379,-49.16780471801758,-57.69473648071289,-80.92231750488281,-96.40477752685547,-110.23159790039062,-119.807373046875,-138.58518981933594,-175.2497100830078,-193.38323974609375,-236.47361755371094,-264.44873046875],[-230.0080108642578,-211.53062438964844,-178.05624389648438,-159.5450439453125,-139.3084716796875,-118.06871795654297,-93.16975402832031,-73.32386779785156,-53.77540969848633,-33.48729705810547,-14.022778511047363,10.869524955749512,28.446088790893555,51.48810577392578,70.65010070800781,86.84087371826172,108.58291625976562,126.46688842773438,148.74896240234375,173.3934783935547,192.44039916992188,215.1781768798828,258.8155517578125,175.2503662109375,156.62843322753906,129.97799682617188,106.83773803710938,105.25691223144531,79.84007263183594,63.77332305908203,50.9345703125,25.15314483642578,16.844640731811523,27.81768035888672,36.285308837890625,27.62751579284668,15.829557418823242,6.324989318847656,-0.40564918518066406,-4.473061561584473,-32.098541259765625,-35.91465377807617,-68.8384780883789,-88.99639892578125,-116.8739013671875,-116.84986877441406,-143.274169921875,-199.91456604003906,-201.79071044921875,-250.5869903564453],[-242.2536163330078,-185.4825897216797,-181.94601440429688,-161.15904235839844,-150.09677124023438,-139.49929809570312,-110.7718276977539,-95.3376235961914,-79.02232360839844,-57.03501510620117,-36.849456787109375,-14.711203575134277,3.129028797149658,21.087383270263672,42.12733459472656,62.04536437988281,81.97103881835938,101.36112976074219,123.22288513183594,148.23141479492188,169.85507202148438,194.56207275390625,214.66305541992188,258.84857177734375,175.8636016845703,163.48855590820312,145.59103393554688,124.35066986083984,106.88064575195312,96.10200500488281,81.56232452392578,80.12621307373047,62.20745086669922,48.82460021972656,41.6644172668457,23.258548736572266,21.147052764892578,5.945097923278809,-7.263596534729004,-9.079580307006836,-36.30185317993164,-39.39232635498047,-46.49504089355469,-97.88280487060547,-113.16380310058594,-149.21527099609375,-135.84603881835938,-154.0735626220703,-202.68589782714844,-244.48831176757812],[-270.0208435058594,-202.09103393554688,-198.59568786621094,-179.22312927246094,-167.03201293945312,-155.85565185546875,-133.37901306152344,-116.93583679199219,-100.1225357055664,-80.80562591552734,-58.880287170410156,-42.873741149902344,-21.137920379638672,-1.5464973449707031,19.694236755371094,39.29884338378906,59.97892761230469,80.13931274414062,103.03744506835938,129.36746215820312,150.8052978515625,171.67010498046875,194.4625244140625,212.80477905273438,263.559814453125,171.3539276123047,158.2886962890625,138.74386596679688,126.91566467285156,114.0029067993164,98.12042999267578,73.09182739257812,62.92791748046875,47.85882568359375,23.737342834472656,28.77968406677246,23.06256675720215,24.82379913330078,22.418880462646484,1.8823754787445068,-28.643022537231445,-36.099082946777344,-33.175010681152344,-65.6531982421875,-92.51580810546875,-131.21676635742188,-154.38723754882812,-145.05181884765625,-196.59327697753906,-199.4088592529297],[-435.28814697265625,-311.1506042480469,-250.01625061035156,-226.42868041992188,-209.98538208007812,-183.65406799316406,-166.0201416015625,-150.30136108398438,-127.73722839355469,-108.83277130126953,-85.41183471679688,-64.6893081665039,-46.65547180175781,-25.66766929626465,-3.1620140075683594,14.374731063842773,36.70309829711914,57.826290130615234,83.27803039550781,105.95887756347656,126.82109069824219,151.548583984375,174.40762329101562,196.4901580810547,215.99085998535156,258.604736328125,172.25367736816406,152.78143310546875,139.3846435546875,121.55821228027344,103.22360229492188,85.58865356445312,75.50743103027344,69.18079376220703,56.80730438232422,42.100486755371094,45.56922149658203,16.626422882080078,39.04281997680664,22.85898780822754,13.81564998626709,-5.297739028930664,-18.836904525756836,-27.390512466430664,-58.56459045410156,-88.46571350097656,-132.7458953857422,-176.44418334960938,-198.8494110107422,-221.53582763671875],[-386.2007751464844,-321.6008605957031,-244.87594604492188,-230.82528686523438,-220.02740478515625,-197.07550048828125,-175.8182830810547,-166.43943786621094,-147.1939697265625,-131.31692504882812,-114.19479370117188,-88.17730712890625,-69.786376953125,-49.164794921875,-28.18285369873047,-10.828990936279297,11.29175853729248,34.04442596435547,60.71687316894531,83.62257385253906,104.9734115600586,128.2242431640625,151.0811767578125,173.8735809326172,194.7598419189453,211.5043182373047,260.0553894042969,171.9517822265625,153.56036376953125,132.50233459472656,118.25569915771484,106.3677978515625,87.52639770507812,93.25862121582031,80.13164520263672,61.720787048339844,50.31090545654297,47.4964485168457,33.89954376220703,19.408615112304688,12.166121482849121,-1.2749032974243164,-7.949161529541016,-25.71263885498047,-51.708221435546875,-83.46419525146484,-112.92235565185547,-148.64219665527344,-172.12612915039062,-199.66433715820312],[-420.6031494140625,-282.6276550292969,-272.50970458984375,-266.12469482421875,-257.4365234375,-210.22396850585938,-198.8493194580078,-199.7861328125,-186.284912109375,-165.33599853515625,-144.0587158203125,-127.59384155273438,-110.8542251586914,-87.76117706298828,-67.3182144165039,-46.392642974853516,-23.800342559814453,-0.42446136474609375,28.20470428466797,51.56761932373047,75.35877990722656,100.70865631103516,125.28899383544922,153.13095092773438,174.77487182617188,195.68118286132812,216.11598205566406,261.910400390625,179.355224609375,155.9596710205078,143.25198364257812,129.94244384765625,109.0721435546875,87.87027740478516,93.14088439941406,86.61201477050781,64.36712646484375,64.12855529785156,45.482147216796875,35.416404724121094,18.00530433654785,12.591702461242676,7.200113296508789,-19.101964950561523,-26.077693939208984,-41.62390899658203,-76.28630828857422,-113.87155151367188,-159.74923706054688,-188.54287719726562],[-395.9362487792969,-350.96966552734375,-289.2275390625,-283.307861328125,-270.15069580078125,-301.396484375,-243.8597869873047,-216.3955078125,-202.52560424804688,-182.72872924804688,-170.41835021972656,-150.6488037109375,-130.62689208984375,-114.72221374511719,-88.1042251586914,-69.10823059082031,-45.39366149902344,-22.084583282470703,6.970293998718262,30.515384674072266,53.893341064453125,78.69035339355469,102.23350524902344,127.98979949951172,152.0576171875,173.20018005371094,196.32122802734375,214.56048583984375,257.20440673828125,181.96339416503906,170.7223358154297,154.2760467529297,134.6634063720703,110.79537963867188,105.44900512695312,97.46226501464844,97.98413848876953,75.01527404785156,72.90338897705078,66.75155639648438,51.33733367919922,40.99989318847656,23.588937759399414,6.312648773193359,-24.22085189819336,-34.44837188720703,-56.27225875854492,-105.5361328125,-135.62954711914062,-181.13665771484375],[-338.0177307128906,-310.7691650390625,-295.7977294921875,-298.1679382324219,-298.57049560546875,-263.00152587890625,-265.1495056152344,-267.65350341796875,-251.02059936523438,-232.94863891601562,-213.2406005859375,-193.02716064453125,-178.37835693359375,-154.12315368652344,-131.62460327148438,-111.8183364868164,-88.45411682128906,-61.324710845947266,-35.218055725097656,-8.560019493103027,17.032329559326172,40.408302307128906,66.1362075805664,93.9853515625,119.77777099609375,141.78109741210938,164.10400390625,183.58987426757812,205.6021728515625,256.4476318359375,185.8373565673828,176.71002197265625,153.8517608642578,145.8710174560547,123.25116729736328,127.1155014038086,107.22213745117188,105.21942138671875,93.97311401367188,86.9726333618164,65.10446166992188,48.20065689086914,46.744728088378906,18.595735549926758,9.655927658081055,-7.728415489196777,-33.75176239013672,-66.38208770751953,-72.93501281738281,-117.50528717041016],[-392.3739013671875,-420.4680480957031,-405.0594177246094,-343.940185546875,-326.48431396484375,-281.23974609375,-266.75799560546875,-277.7146911621094,-251.4224395751953,-249.53004455566406,-236.19381713867188,-206.46429443359375,-188.39077758789062,-168.3116455078125,-146.45574951171875,-129.8735809326172,-106.3131103515625,-78.65792083740234,-50.34410858154297,-23.971887588500977,0.7713851928710938,26.141571044921875,52.209842681884766,79.2420883178711,104.77359008789062,127.65081024169922,152.17581176757812,173.21795654296875,196.6685028076172,219.6060791015625,265.66448974609375,196.294677734375,186.06719970703125,173.79412841796875,158.87408447265625,135.836669921875,132.98207092285156,122.59746551513672,111.31269836425781,95.70811462402344,82.72843933105469,64.03959655761719,59.05812072753906,40.380157470703125,26.30099868774414,1.1192855834960938,-23.617359161376953,-48.018314361572266,-89.13888549804688,-82.1721420288086],[-406.9175720214844,-499.4385681152344,-476.6387939453125,-381.3480224609375,-354.1297302246094,-314.2052917480469,-326.22967529296875,-288.84613037109375,-250.94964599609375,-269.61248779296875,-255.44400024414062,-226.8927764892578,-206.18125915527344,-178.43771362304688,-164.1357421875,-145.636962890625,-121.2017593383789,-90.96198272705078,-60.78569030761719,-35.84764862060547,-10.103625297546387,15.921669006347656,41.094764709472656,70.16071319580078,95.79461669921875,118.18974304199219,141.22897338867188,160.720458984375,183.53549194335938,206.6305694580078,227.70729064941406,273.98529052734375,210.70773315429688,195.97445678710938,187.37823486328125,162.94021606445312,165.53187561035156,146.09390258789062,141.51858520507812,127.62078857421875,103.62474822998047,91.844482421875,75.11980438232422,55.74864196777344,38.356170654296875,13.295186996459961,-21.626632690429688,-37.62008285522461,-74.34538269042969,-85.51805114746094],[-408.1278076171875,-437.4521179199219,-421.8738098144531,-480.98638916015625,-373.38983154296875,-297.19989013671875,-363.70904541015625,-322.98651123046875,-311.3062744140625,-292.0778503417969,-281.87738037109375,-264.00921630859375,-245.14968872070312,-213.26513671875,-191.07376098632812,-175.49642944335938,-147.9906005859375,-117.64185333251953,-86.87039184570312,-63.92455291748047,-35.83747100830078,-10.277792930603027,13.051904678344727,45.18504333496094,69.7532958984375,93.49095153808594,117.67813110351562,139.04766845703125,162.28848266601562,186.97657775878906,212.40460205078125,239.2365264892578,277.2490539550781,219.44406127929688,204.48196411132812,195.52984619140625,186.22879028320312,180.03363037109375,163.84474182128906,142.26583862304688,129.66920471191406,115.17008972167969,106.26856994628906,79.00537109375,60.829917907714844,36.11663818359375,8.554166793823242,-39.42466735839844,-45.06275939941406,-59.594181060791016],[-326.58197021484375,-464.34619140625,-427.0650939941406,-459.32025146484375,-487.30072021484375,-370.6640625,-399.2610168457031,-316.431640625,-356.1914367675781,-313.7252197265625,-316.874755859375,-316.3340759277344,-277.3169250488281,-259.7962951660156,-225.96958923339844,-222.11508178710938,-195.1204833984375,-164.02163696289062,-128.778564453125,-103.88843536376953,-72.78231811523438,-45.482242584228516,-15.134462356567383,17.542015075683594,45.1597900390625,73.33674621582031,99.41899871826172,125.00729370117188,151.85272216796875,180.84002685546875,208.62478637695312,235.14715576171875,256.19293212890625,303.6370849609375,244.92892456054688,229.13035583496094,224.00892639160156,208.38870239257812,200.94253540039062,184.57315063476562,165.36341857910156,143.15406799316406,124.73796844482422,105.89456939697266,89.00135803222656,64.96623229980469,42.40320587158203,10.585160255432129,-21.845308303833008,-35.58211135864258],[-374.20269775390625,-468.9911804199219,-495.907470703125,-463.6781921386719,-512.30810546875,-448.9539794921875,-482.2750244140625,-433.7889404296875,-447.8658447265625,-404.21954345703125,-346.4488830566406,-367.7571105957031,-351.2076110839844,-314.02203369140625,-282.12847900390625,-245.73765563964844,-231.5096435546875,-200.0384521484375,-164.7406463623047,-132.50897216796875,-103.70121765136719,-74.076416015625,-41.52560043334961,-8.490334510803223,21.383811950683594,53.75580596923828,81.13201141357422,106.90058135986328,136.9227294921875,166.010986328125,199.88421630859375,232.19647216796875,256.73297119140625,285.7070007324219,327.0558776855469,275.7933044433594,264.4614562988281,248.88153076171875,233.4061737060547,223.6658935546875,212.3384552001953,192.8602294921875,176.5274658203125,152.79519653320312,132.95054626464844,112.3089370727539,79.30441284179688,48.34983825683594,21.90644073486328,-34.92945098876953],[-331.0610046386719,-405.55316162109375,-542.1473999023438,-534.9497680664062,-518.6522216796875,-475.8245849609375,-493.07952880859375,-397.9883728027344,-468.93487548828125,-398.5897216796875,-410.793701171875,-383.1452941894531,-341.39959716796875,-321.4142761230469,-297.3009033203125,-277.54986572265625,-252.79046630859375,-222.00607299804688,-177.74179077148438,-153.78175354003906,-126.4547119140625,-93.65743255615234,-60.86582946777344,-27.120922088623047,3.397916793823242,34.06846618652344,64.7524185180664,92.1989974975586,119.85923767089844,150.81903076171875,182.59762573242188,215.52182006835938,243.2324981689453,272.51373291015625,299.1788024902344,349.2586669921875,299.8723449707031,279.90777587890625,273.39990234375,250.30682373046875,231.83177185058594,214.14596557617188,193.75682067871094,170.4779815673828,152.95689392089844,120.96286010742188,98.98530578613281,67.34172058105469,35.36589813232422,30.056217193603516],[-369.1697998046875,-466.062744140625,-579.4224853515625,-551.8173828125,-499.8194580078125,-457.00079345703125,-434.61456298828125,-424.32916259765625,-447.37359619140625,-446.3831787109375,-403.1134338378906,-418.5007629394531,-389.1278076171875,-353.2709045410156,-331.8819885253906,-332.0401916503906,-303.0938720703125,-257.50714111328125,-223.08358764648438,-195.39056396484375,-157.11236572265625,-123.39848327636719,-93.2695083618164,-54.384456634521484,-24.75800132751465,10.030632019042969,37.18412399291992,67.67413330078125,98.4978256225586,129.33718872070312,165.61968994140625,200.81317138671875,228.107421875,262.602783203125,289.31146240234375,323.24383544921875,373.8643798828125,320.05029296875,304.4415283203125,281.38800048828125,260.97296142578125,237.8126220703125,224.74331665039062,204.26553344726562,190.46827697753906,165.0557861328125,126.9275894165039,105.07101440429688,94.26303100585938,80.68457794189453],[-251.96815490722656,-398.5926818847656,-549.8272705078125,-608.439453125,-617.1767578125,-565.09375,-533.2277221679688,-550.4219360351562,-492.2108459472656,-467.16168212890625,-440.92169189453125,-399.66876220703125,-390.4640808105469,-377.20904541015625,-343.5272216796875,-331.988037109375,-309.3626708984375,-281.7136535644531,-237.9223175048828,-209.99505615234375,-182.24317932128906,-147.70169067382812,-112.94181823730469,-74.30813598632812,-41.96446990966797,-7.0917816162109375,26.118349075317383,57.718387603759766,88.19773864746094,123.09332275390625,162.049072265625,198.760498046875,229.24383544921875,262.2511291503906,290.8966064453125,324.1547546386719,359.063720703125,401.66143798828125,345.7154846191406,329.96392822265625,312.91290283203125,286.9889831542969,262.87451171875,244.3047332763672,215.5199737548828,192.47390747070312,159.24221801757812,130.31851196289062,98.57818603515625,68.50376892089844],[-172.45480346679688,-352.3330383300781,-484.12127685546875,-564.6337280273438,-545.3535766601562,-622.6644287109375,-623.6151733398438,-613.0303955078125,-596.4569702148438,-599.4315185546875,-560.2254638671875,-537.6289672851562,-525.7444458007812,-500.2360534667969,-449.5559387207031,-402.1240234375,-383.3884582519531,-340.59521484375,-302.6944580078125,-272.2110290527344,-244.58493041992188,-198.03009033203125,-166.62631225585938,-122.8163070678711,-80.23812103271484,-40.27363586425781,-5.639179229736328,34.09156799316406,69.88565063476562,109.3713607788086,155.92247009277344,198.0081787109375,235.52655029296875,274.30975341796875,306.6758117675781,348.8046569824219,391.1708984375,420.9845275878906,467.11456298828125,402.4929504394531,383.7300720214844,368.1078186035156,344.9720153808594,315.92999267578125,294.2940979003906,267.76898193359375,237.31239318847656,213.4289093017578,189.37596130371094,156.12258911132812],[-213.50930786132812,-351.705810546875,-441.6354675292969,-501.5300598144531,-510.06817626953125,-610.8114624023438,-583.3817138671875,-659.779052734375,-650.4964599609375,-634.7306518554688,-671.6972045898438,-675.958984375,-642.134033203125,-581.5535888671875,-519.6368408203125,-481.6866149902344,-426.6144104003906,-384.5439453125,-338.27117919921875,-308.348876953125,-269.4192199707031,-232.95289611816406,-190.944091796875,-144.66473388671875,-106.15249633789062,-62.95219421386719,-25.641679763793945,16.502511978149414,57.59146499633789,97.73914337158203,145.73779296875,192.72923278808594,232.0320587158203,276.2323303222656,311.374267578125,356.2091064453125,400.951904296875,438.6435546875,465.40673828125,504.3055725097656,444.659912109375,424.2359924316406,409.05377197265625,382.75,352.38079833984375,329.93365478515625,297.0190124511719,262.11700439453125,242.9700164794922,231.00624084472656],[-110.50104522705078,-184.5482177734375,-283.89801025390625,-393.41162109375,-472.6058349609375,-580.916015625,-552.7626953125,-589.9885864257812,-592.89697265625,-630.74951171875,-646.33984375,-620.5867309570312,-604.9338989257812,-570.821044921875,-555.0433959960938,-522.9923095703125,-487.7786865234375,-414.62432861328125,-363.5733337402344,-339.1982116699219,-306.017578125,-264.62005615234375,-231.65664672851562,-185.66552734375,-141.62661743164062,-95.44456481933594,-61.20683288574219,-21.74152183532715,21.155282974243164,62.72679138183594,110.38662719726562,159.04762268066406,199.04281616210938,241.27981567382812,277.96038818359375,321.72357177734375,366.0400695800781,404.21478271484375,430.6002197265625,454.63232421875,498.87359619140625,441.9871826171875,422.1797180175781,394.8238525390625,375.10064697265625,348.264404296875,322.08953857421875,299.1073303222656,277.859375,259.87738037109375],[-173.1163330078125,-214.24456787109375,-284.3150939941406,-366.87872314453125,-422.98193359375,-566.2650146484375,-581.4111328125,-588.9976806640625,-554.5902099609375,-565.1088256835938,-589.0306396484375,-564.431884765625,-572.6949462890625,-525.1343383789062,-497.4735107421875,-496.7595520019531,-446.4193115234375,-422.1809997558594,-373.62823486328125,-338.6748046875,-298.7359619140625,-257.08740234375,-218.13795471191406,-178.75830078125,-141.3968505859375,-99.11564636230469,-64.04804992675781,-24.207740783691406,13.206124305725098,49.75132751464844,96.02919006347656,140.1155548095703,178.06036376953125,218.5251922607422,251.63937377929688,295.4854736328125,337.20245361328125,371.5389404296875,399.32879638671875,423.2966613769531,447.4330749511719,480.95928955078125,425.360107421875,399.5520324707031,373.13031005859375,347.0772705078125,316.1619567871094,291.8633728027344,268.90802001953125,247.96180725097656],[-111.4554214477539,-166.89801025390625,-247.7210693359375,-341.1465148925781,-392.296875,-568.5713500976562,-601.6091918945312,-679.29833984375,-658.9241943359375,-649.7581787109375,-644.7398681640625,-635.2979736328125,-590.7991943359375,-547.8328247070312,-506.3177795410156,-525.204345703125,-515.4158935546875,-465.81414794921875,-423.6408996582031,-394.5343017578125,-362.69512939453125,-308.4216613769531,-266.6681213378906,-213.99075317382812,-171.69107055664062,-129.1390380859375,-87.06803131103516,-46.450477600097656,-6.158025741577148,35.81595993041992,86.11237335205078,133.85714721679688,177.58572387695312,217.6842803955078,255.13514709472656,301.10919189453125,345.21453857421875,384.35540771484375,413.71417236328125,443.3970031738281,468.8741455078125,492.9658508300781,528.2871704101562,475.0440979003906,449.8006286621094,429.2066955566406,391.45050048828125,363.08599853515625,335.23187255859375,311.3611755371094],[-112.63864135742188,-180.4539794921875,-223.73760986328125,-295.8155212402344,-336.7008361816406,-492.2509460449219,-557.5216674804688,-675.8980712890625,-677.4911499023438,-637.829833984375,-663.3421630859375,-617.1658935546875,-602.8701171875,-574.0408935546875,-571.4053955078125,-540.6040649414062,-535.0482177734375,-490.4369812011719,-433.09307861328125,-403.2817687988281,-366.7452392578125,-318.390380859375,-283.80853271484375,-236.38697814941406,-189.2137451171875,-142.42132568359375,-105.55804443359375,-63.328712463378906,-19.58126449584961,18.861679077148438,70.97811889648438,117.78840637207031,159.92819213867188,204.06658935546875,239.1826629638672,284.6239318847656,328.9407958984375,369.2314453125,395.9162902832031,426.1536560058594,453.75146484375,479.1510314941406,502.9223937988281,541.2093505859375,484.06201171875,456.0113220214844,425.3213195800781,396.84979248046875,374.29193115234375,342.3946533203125],[-11.5498046875,-75.21369934082031,-153.8868408203125,-199.80288696289062,-267.68402099609375,-393.4326171875,-506.2635192871094,-614.2123413085938,-649.290771484375,-676.622802734375,-686.4271850585938,-630.57861328125,-611.009033203125,-603.34912109375,-550.037353515625,-551.6890869140625,-514.66259765625,-478.8264465332031,-421.8918762207031,-393.0790710449219,-363.36395263671875,-321.43963623046875,-291.1954345703125,-241.7105712890625,-196.85272216796875,-156.34579467773438,-116.80034637451172,-77.5737533569336,-36.52235794067383,5.2061920166015625,52.86933517456055,99.39385223388672,140.48660278320312,182.62368774414062,216.74302673339844,262.2207336425781,306.824951171875,344.3970642089844,368.315185546875,396.79302978515625,426.2147216796875,451.9523620605469,475.8643798828125,501.4017639160156,527.7393798828125,475.2281799316406,444.28802490234375,412.25390625,392.3556213378906,363.78466796875],[2.8772430419921875,-63.68666076660156,-125.25439453125,-190.72959899902344,-245.14373779296875,-368.10687255859375,-480.30706787109375,-583.9682006835938,-568.008056640625,-612.9641723632812,-635.0091552734375,-640.6448974609375,-579.0370483398438,-600.56103515625,-560.6821899414062,-547.48828125,-518.7150268554688,-490.2164611816406,-442.66424560546875,-415.86865234375,-374.2969970703125,-328.119384765625,-296.0457763671875,-256.9209289550781,-207.58609008789062,-158.5848388671875,-120.72856903076172,-81.38267517089844,-39.954566955566406,0.5631294250488281,44.680091857910156,90.1174545288086,131.04505920410156,172.638427734375,206.69329833984375,250.03172302246094,293.4631652832031,330.3192138671875,354.44622802734375,382.7166442871094,408.303466796875,432.8065185546875,455.91400146484375,481.0145263671875,496.0187072753906,521.87158203125,462.3416748046875,432.11566162109375,402.81976318359375,380.4952697753906],[244.4693145751953,131.63946533203125,30.2796573638916,-92.3946533203125,-189.0088348388672,-336.09332275390625,-465.1329345703125,-579.8809204101562,-606.867431640625,-647.653564453125,-708.43212890625,-677.2039794921875,-631.8411865234375,-625.993408203125,-606.5230712890625,-573.510498046875,-553.8880615234375,-515.68408203125,-492.0101623535156,-456.5500793457031,-412.1708068847656,-365.30279541015625,-323.185302734375,-282.1829528808594,-239.6264190673828,-185.2891082763672,-144.32275390625,-101.19195556640625,-53.7640266418457,-16.0537109375,30.52316665649414,79.32390594482422,126.98757934570312,166.5821533203125,202.57086181640625,249.1005859375,293.1368408203125,333.1812744140625,356.6889343261719,386.89739990234375,417.1858825683594,442.3173828125,467.5473327636719,497.1929016113281,515.1232299804688,535.138671875,553.7327880859375,497.26849365234375,463.2361755371094,433.2588195800781],[314.2250671386719,196.61085510253906,48.517032623291016,-36.28668212890625,-152.91937255859375,-300.29071044921875,-425.3195495605469,-522.8558349609375,-534.5733642578125,-569.8123779296875,-616.0758056640625,-627.864990234375,-604.4031982421875,-610.18603515625,-595.7865600585938,-575.5782470703125,-547.0235595703125,-503.5577697753906,-456.3628234863281,-439.70111083984375,-389.1168212890625,-349.5086669921875,-321.77130126953125,-262.71710205078125,-221.765380859375,-185.271728515625,-145.6304931640625,-105.49967956542969,-63.00041198730469,-26.513538360595703,25.07522964477539,68.24723815917969,107.76263427734375,150.0613555908203,182.73292541503906,227.05136108398438,269.1456298828125,305.62225341796875,329.0857849121094,355.8131103515625,381.75750732421875,405.4073791503906,428.4460144042969,454.8739318847656,471.5616455078125,491.1610412597656,501.4554748535156,527.0330200195312,464.30999755859375,417.179931640625],[413.03765869140625,267.2481689453125,142.02783203125,22.5008544921875,-64.05563354492188,-234.92141723632812,-380.2805480957031,-517.092529296875,-563.04736328125,-604.485595703125,-655.4552001953125,-695.82861328125,-707.6349487304688,-722.4375610351562,-701.70849609375,-696.1276245117188,-672.323974609375,-614.3302001953125,-572.39111328125,-535.7261352539062,-509.14263916015625,-456.2609558105469,-403.78057861328125,-358.67315673828125,-313.243896484375,-256.31195068359375,-205.66360473632812,-156.79364013671875,-101.24885559082031,-55.54188537597656,-11.978546142578125,49.440284729003906,101.88786315917969,151.22422790527344,196.85421752929688,245.70355224609375,298.1628112792969,339.76568603515625,368.675537109375,400.4660339355469,431.7989501953125,461.75115966796875,490.91912841796875,524.6036987304688,546.6724853515625,572.037353515625,587.5499267578125,616.3786010742188,641.82861328125,569.19970703125],[408.1960754394531,270.47393798828125,144.56857299804688,35.62793731689453,-32.300018310546875,-206.7169647216797,-318.2725830078125,-459.2740173339844,-516.5941162109375,-599.3546142578125,-690.56884765625,-722.0291748046875,-721.2569580078125,-733.2310180664062,-722.5057373046875,-712.8056640625,-711.0360107421875,-682.8131103515625,-632.0146484375,-598.5107421875,-562.1575317382812,-501.9189453125,-456.85626220703125,-400.22711181640625,-344.15081787109375,-291.8523254394531,-238.82644653320312,-189.55252075195312,-132.59083557128906,-75.4195785522461,-12.953182220458984,43.59482955932617,97.91893005371094,147.56512451171875,189.9744415283203,250.44947814941406,304.059326171875,350.2550354003906,384.62335205078125,420.1264343261719,455.2196350097656,485.384033203125,514.6165771484375,551.0631103515625,574.5421142578125,602.4957275390625,619.01220703125,649.2850952148438,673.5170288085938,701.155517578125],[-1039.91552734375,-985.56005859375,-929.6060180664062,-873.4461059570312,-804.74853515625,-739.1455078125,-670.7261962890625,-598.739501953125,-523.2880859375,-451.853271484375,-388.79248046875,-315.2000732421875,-246.7924346923828,-184.28976440429688,-114.68547058105469,-68.5273208618164,-11.980216979980469,39.139442443847656,92.07056427001953,137.45497131347656,174.4967041015625,206.80458068847656,232.67483520507812,262.3553466796875,277.72857666015625,292.56121826171875,298.26104736328125,300.4346923828125,299.66796875,303.36053466796875,310.0975341796875,314.1425476074219,305.4239501953125,307.77508544921875,304.6270446777344,300.3155517578125,297.29168701171875,280.9385070800781,278.58026123046875,255.6925506591797,207.77999877929688,169.3294677734375,123.25558471679688,63.52885818481445,0.4689369201660156,-75.60501098632812,-185.84378051757812,-294.3592529296875,-368.70880126953125,-411.4713439941406],[-748.31640625,-605.967529296875,-479.15496826171875,-380.6158447265625,-291.4455261230469,-118.64863586425781,-10.294832229614258,131.96429443359375,191.65408325195312,267.60064697265625,346.0167236328125,402.0927734375,435.0440979003906,481.2286376953125,506.7691955566406,537.95703125,561.7930908203125,572.8720092773438,574.5267333984375,592.2208251953125,587.4437866210938,566.6649169921875,545.9654541015625,512.0935668945312,474.354248046875,431.3939208984375,391.5796813964844,342.36602783203125,290.1317138671875,241.47442626953125,188.37588500976562,132.30113220214844,76.74485778808594,24.583696365356445,-20.935766220092773,-75.14817810058594,-129.39280700683594,-184.50033569335938,-215.48574829101562,-261.9452819824219,-315.2232666015625,-361.439453125,-408.9127197265625,-467.1285400390625,-512.363525390625,-568.737548828125,-611.5245361328125,-682.0419311523438,-736.654296875,-777.625]],\"type\":\"heatmap\",\"xaxis\":\"x\",\"yaxis\":\"y\",\"hovertemplate\":\"logit: %{x}<br>src token: %{y}<br>color: %{z}<extra></extra>\"}],                        {\"template\":{\"data\":{\"histogram2dcontour\":[{\"type\":\"histogram2dcontour\",\"colorbar\":{\"outlinewidth\":0,\"ticks\":\"\"},\"colorscale\":[[0.0,\"#0d0887\"],[0.1111111111111111,\"#46039f\"],[0.2222222222222222,\"#7201a8\"],[0.3333333333333333,\"#9c179e\"],[0.4444444444444444,\"#bd3786\"],[0.5555555555555556,\"#d8576b\"],[0.6666666666666666,\"#ed7953\"],[0.7777777777777778,\"#fb9f3a\"],[0.8888888888888888,\"#fdca26\"],[1.0,\"#f0f921\"]]}],\"choropleth\":[{\"type\":\"choropleth\",\"colorbar\":{\"outlinewidth\":0,\"ticks\":\"\"}}],\"histogram2d\":[{\"type\":\"histogram2d\",\"colorbar\":{\"outlinewidth\":0,\"ticks\":\"\"},\"colorscale\":[[0.0,\"#0d0887\"],[0.1111111111111111,\"#46039f\"],[0.2222222222222222,\"#7201a8\"],[0.3333333333333333,\"#9c179e\"],[0.4444444444444444,\"#bd3786\"],[0.5555555555555556,\"#d8576b\"],[0.6666666666666666,\"#ed7953\"],[0.7777777777777778,\"#fb9f3a\"],[0.8888888888888888,\"#fdca26\"],[1.0,\"#f0f921\"]]}],\"heatmap\":[{\"type\":\"heatmap\",\"colorbar\":{\"outlinewidth\":0,\"ticks\":\"\"},\"colorscale\":[[0.0,\"#0d0887\"],[0.1111111111111111,\"#46039f\"],[0.2222222222222222,\"#7201a8\"],[0.3333333333333333,\"#9c179e\"],[0.4444444444444444,\"#bd3786\"],[0.5555555555555556,\"#d8576b\"],[0.6666666666666666,\"#ed7953\"],[0.7777777777777778,\"#fb9f3a\"],[0.8888888888888888,\"#fdca26\"],[1.0,\"#f0f921\"]]}],\"heatmapgl\":[{\"type\":\"heatmapgl\",\"colorbar\":{\"outlinewidth\":0,\"ticks\":\"\"},\"colorscale\":[[0.0,\"#0d0887\"],[0.1111111111111111,\"#46039f\"],[0.2222222222222222,\"#7201a8\"],[0.3333333333333333,\"#9c179e\"],[0.4444444444444444,\"#bd3786\"],[0.5555555555555556,\"#d8576b\"],[0.6666666666666666,\"#ed7953\"],[0.7777777777777778,\"#fb9f3a\"],[0.8888888888888888,\"#fdca26\"],[1.0,\"#f0f921\"]]}],\"contourcarpet\":[{\"type\":\"contourcarpet\",\"colorbar\":{\"outlinewidth\":0,\"ticks\":\"\"}}],\"contour\":[{\"type\":\"contour\",\"colorbar\":{\"outlinewidth\":0,\"ticks\":\"\"},\"colorscale\":[[0.0,\"#0d0887\"],[0.1111111111111111,\"#46039f\"],[0.2222222222222222,\"#7201a8\"],[0.3333333333333333,\"#9c179e\"],[0.4444444444444444,\"#bd3786\"],[0.5555555555555556,\"#d8576b\"],[0.6666666666666666,\"#ed7953\"],[0.7777777777777778,\"#fb9f3a\"],[0.8888888888888888,\"#fdca26\"],[1.0,\"#f0f921\"]]}],\"surface\":[{\"type\":\"surface\",\"colorbar\":{\"outlinewidth\":0,\"ticks\":\"\"},\"colorscale\":[[0.0,\"#0d0887\"],[0.1111111111111111,\"#46039f\"],[0.2222222222222222,\"#7201a8\"],[0.3333333333333333,\"#9c179e\"],[0.4444444444444444,\"#bd3786\"],[0.5555555555555556,\"#d8576b\"],[0.6666666666666666,\"#ed7953\"],[0.7777777777777778,\"#fb9f3a\"],[0.8888888888888888,\"#fdca26\"],[1.0,\"#f0f921\"]]}],\"mesh3d\":[{\"type\":\"mesh3d\",\"colorbar\":{\"outlinewidth\":0,\"ticks\":\"\"}}],\"scatter\":[{\"fillpattern\":{\"fillmode\":\"overlay\",\"size\":10,\"solidity\":0.2},\"type\":\"scatter\"}],\"parcoords\":[{\"type\":\"parcoords\",\"line\":{\"colorbar\":{\"outlinewidth\":0,\"ticks\":\"\"}}}],\"scatterpolargl\":[{\"type\":\"scatterpolargl\",\"marker\":{\"colorbar\":{\"outlinewidth\":0,\"ticks\":\"\"}}}],\"bar\":[{\"error_x\":{\"color\":\"#2a3f5f\"},\"error_y\":{\"color\":\"#2a3f5f\"},\"marker\":{\"line\":{\"color\":\"#E5ECF6\",\"width\":0.5},\"pattern\":{\"fillmode\":\"overlay\",\"size\":10,\"solidity\":0.2}},\"type\":\"bar\"}],\"scattergeo\":[{\"type\":\"scattergeo\",\"marker\":{\"colorbar\":{\"outlinewidth\":0,\"ticks\":\"\"}}}],\"scatterpolar\":[{\"type\":\"scatterpolar\",\"marker\":{\"colorbar\":{\"outlinewidth\":0,\"ticks\":\"\"}}}],\"histogram\":[{\"marker\":{\"pattern\":{\"fillmode\":\"overlay\",\"size\":10,\"solidity\":0.2}},\"type\":\"histogram\"}],\"scattergl\":[{\"type\":\"scattergl\",\"marker\":{\"colorbar\":{\"outlinewidth\":0,\"ticks\":\"\"}}}],\"scatter3d\":[{\"type\":\"scatter3d\",\"line\":{\"colorbar\":{\"outlinewidth\":0,\"ticks\":\"\"}},\"marker\":{\"colorbar\":{\"outlinewidth\":0,\"ticks\":\"\"}}}],\"scattermapbox\":[{\"type\":\"scattermapbox\",\"marker\":{\"colorbar\":{\"outlinewidth\":0,\"ticks\":\"\"}}}],\"scatterternary\":[{\"type\":\"scatterternary\",\"marker\":{\"colorbar\":{\"outlinewidth\":0,\"ticks\":\"\"}}}],\"scattercarpet\":[{\"type\":\"scattercarpet\",\"marker\":{\"colorbar\":{\"outlinewidth\":0,\"ticks\":\"\"}}}],\"carpet\":[{\"aaxis\":{\"endlinecolor\":\"#2a3f5f\",\"gridcolor\":\"white\",\"linecolor\":\"white\",\"minorgridcolor\":\"white\",\"startlinecolor\":\"#2a3f5f\"},\"baxis\":{\"endlinecolor\":\"#2a3f5f\",\"gridcolor\":\"white\",\"linecolor\":\"white\",\"minorgridcolor\":\"white\",\"startlinecolor\":\"#2a3f5f\"},\"type\":\"carpet\"}],\"table\":[{\"cells\":{\"fill\":{\"color\":\"#EBF0F8\"},\"line\":{\"color\":\"white\"}},\"header\":{\"fill\":{\"color\":\"#C8D4E3\"},\"line\":{\"color\":\"white\"}},\"type\":\"table\"}],\"barpolar\":[{\"marker\":{\"line\":{\"color\":\"#E5ECF6\",\"width\":0.5},\"pattern\":{\"fillmode\":\"overlay\",\"size\":10,\"solidity\":0.2}},\"type\":\"barpolar\"}],\"pie\":[{\"automargin\":true,\"type\":\"pie\"}]},\"layout\":{\"autotypenumbers\":\"strict\",\"colorway\":[\"#636efa\",\"#EF553B\",\"#00cc96\",\"#ab63fa\",\"#FFA15A\",\"#19d3f3\",\"#FF6692\",\"#B6E880\",\"#FF97FF\",\"#FECB52\"],\"font\":{\"color\":\"#2a3f5f\"},\"hovermode\":\"closest\",\"hoverlabel\":{\"align\":\"left\"},\"paper_bgcolor\":\"white\",\"plot_bgcolor\":\"#E5ECF6\",\"polar\":{\"bgcolor\":\"#E5ECF6\",\"angularaxis\":{\"gridcolor\":\"white\",\"linecolor\":\"white\",\"ticks\":\"\"},\"radialaxis\":{\"gridcolor\":\"white\",\"linecolor\":\"white\",\"ticks\":\"\"}},\"ternary\":{\"bgcolor\":\"#E5ECF6\",\"aaxis\":{\"gridcolor\":\"white\",\"linecolor\":\"white\",\"ticks\":\"\"},\"baxis\":{\"gridcolor\":\"white\",\"linecolor\":\"white\",\"ticks\":\"\"},\"caxis\":{\"gridcolor\":\"white\",\"linecolor\":\"white\",\"ticks\":\"\"}},\"coloraxis\":{\"colorbar\":{\"outlinewidth\":0,\"ticks\":\"\"}},\"colorscale\":{\"sequential\":[[0.0,\"#0d0887\"],[0.1111111111111111,\"#46039f\"],[0.2222222222222222,\"#7201a8\"],[0.3333333333333333,\"#9c179e\"],[0.4444444444444444,\"#bd3786\"],[0.5555555555555556,\"#d8576b\"],[0.6666666666666666,\"#ed7953\"],[0.7777777777777778,\"#fb9f3a\"],[0.8888888888888888,\"#fdca26\"],[1.0,\"#f0f921\"]],\"sequentialminus\":[[0.0,\"#0d0887\"],[0.1111111111111111,\"#46039f\"],[0.2222222222222222,\"#7201a8\"],[0.3333333333333333,\"#9c179e\"],[0.4444444444444444,\"#bd3786\"],[0.5555555555555556,\"#d8576b\"],[0.6666666666666666,\"#ed7953\"],[0.7777777777777778,\"#fb9f3a\"],[0.8888888888888888,\"#fdca26\"],[1.0,\"#f0f921\"]],\"diverging\":[[0,\"#8e0152\"],[0.1,\"#c51b7d\"],[0.2,\"#de77ae\"],[0.3,\"#f1b6da\"],[0.4,\"#fde0ef\"],[0.5,\"#f7f7f7\"],[0.6,\"#e6f5d0\"],[0.7,\"#b8e186\"],[0.8,\"#7fbc41\"],[0.9,\"#4d9221\"],[1,\"#276419\"]]},\"xaxis\":{\"gridcolor\":\"white\",\"linecolor\":\"white\",\"ticks\":\"\",\"title\":{\"standoff\":15},\"zerolinecolor\":\"white\",\"automargin\":true,\"zerolinewidth\":2},\"yaxis\":{\"gridcolor\":\"white\",\"linecolor\":\"white\",\"ticks\":\"\",\"title\":{\"standoff\":15},\"zerolinecolor\":\"white\",\"automargin\":true,\"zerolinewidth\":2},\"scene\":{\"xaxis\":{\"backgroundcolor\":\"#E5ECF6\",\"gridcolor\":\"white\",\"linecolor\":\"white\",\"showbackground\":true,\"ticks\":\"\",\"zerolinecolor\":\"white\",\"gridwidth\":2},\"yaxis\":{\"backgroundcolor\":\"#E5ECF6\",\"gridcolor\":\"white\",\"linecolor\":\"white\",\"showbackground\":true,\"ticks\":\"\",\"zerolinecolor\":\"white\",\"gridwidth\":2},\"zaxis\":{\"backgroundcolor\":\"#E5ECF6\",\"gridcolor\":\"white\",\"linecolor\":\"white\",\"showbackground\":true,\"ticks\":\"\",\"zerolinecolor\":\"white\",\"gridwidth\":2}},\"shapedefaults\":{\"line\":{\"color\":\"#2a3f5f\"}},\"annotationdefaults\":{\"arrowcolor\":\"#2a3f5f\",\"arrowhead\":0,\"arrowwidth\":1},\"geo\":{\"bgcolor\":\"white\",\"landcolor\":\"#E5ECF6\",\"subunitcolor\":\"white\",\"showland\":true,\"showlakes\":true,\"lakecolor\":\"white\"},\"title\":{\"x\":0.05},\"mapbox\":{\"style\":\"light\"}}},\"xaxis\":{\"anchor\":\"y\",\"domain\":[0.0,1.0],\"scaleanchor\":\"y\",\"constrain\":\"domain\",\"title\":{\"text\":\"logit\"}},\"yaxis\":{\"anchor\":\"x\",\"domain\":[0.0,1.0],\"autorange\":\"reversed\",\"constrain\":\"domain\",\"title\":{\"text\":\"src token\"}},\"coloraxis\":{\"colorscale\":[[0.0,\"rgb(103,0,31)\"],[0.1,\"rgb(178,24,43)\"],[0.2,\"rgb(214,96,77)\"],[0.3,\"rgb(244,165,130)\"],[0.4,\"rgb(253,219,199)\"],[0.5,\"rgb(247,247,247)\"],[0.6,\"rgb(209,229,240)\"],[0.7,\"rgb(146,197,222)\"],[0.8,\"rgb(67,147,195)\"],[0.9,\"rgb(33,102,172)\"],[1.0,\"rgb(5,48,97)\"]],\"cmid\":0.0},\"title\":{\"text\":\"attn 0.0 Full OV circuit W_E @ W_OV @ W_U\"}},                        {\"responsive\": true}                    ).then(function(){\n",
              "                            \n",
              "var gd = document.getElementById('61181cf9-9412-441d-a1e2-93045e23b452');\n",
              "var x = new MutationObserver(function (mutations, observer) {{\n",
              "        var display = window.getComputedStyle(gd).display;\n",
              "        if (!display || display === 'none') {{\n",
              "            console.log([gd, 'removed!']);\n",
              "            Plotly.purge(gd);\n",
              "            observer.disconnect();\n",
              "        }}\n",
              "}});\n",
              "\n",
              "// Listen for the removal of the full notebook cells\n",
              "var notebookContainer = gd.closest('#notebook-container');\n",
              "if (notebookContainer) {{\n",
              "    x.observe(notebookContainer, {childList: true});\n",
              "}}\n",
              "\n",
              "// Listen for the clearing of the current output cell\n",
              "var outputEl = gd.closest('.output');\n",
              "if (outputEl) {{\n",
              "    x.observe(outputEl, {childList: true});\n",
              "}}\n",
              "\n",
              "                        })                };                            </script>        </div>\n",
              "</body>\n",
              "</html>"
            ]
          },
          "metadata": {}
        }
      ]
    },
    {
      "cell_type": "code",
      "source": [
        "top_1_acc = (full_OV_circuit[:-2, :].argmax(dim=-1) == torch.arange(cfg.d_vocab_out, device=device)).float().mean()\n",
        "print(\"fraction of time top logit is on diagonal:\", top_1_acc.item())"
      ],
      "metadata": {
        "colab": {
          "base_uri": "https://localhost:8080/"
        },
        "id": "svUQx-Fodh4t",
        "outputId": "9b93cc1b-cc46-4a6d-85e3-12e7a8079930"
      },
      "execution_count": 25,
      "outputs": [
        {
          "output_type": "stream",
          "name": "stdout",
          "text": [
            "fraction of time top logit is on diagonal: 1.0\n"
          ]
        }
      ]
    },
    {
      "cell_type": "markdown",
      "source": [
        "It does appear to be copying as expected."
      ],
      "metadata": {
        "id": "e10ed7krfqRm"
      }
    },
    {
      "cell_type": "markdown",
      "source": [
        "Now we can also look at the $W_{pos}W_{OV}W_U$ circuit to see how the position we attend to is mapped to output logits. Intuitively this isn't useful information, so we should expect something like a constant bias term."
      ],
      "metadata": {
        "id": "alFNs4ynViVS"
      }
    },
    {
      "cell_type": "code",
      "source": [
        "imshow(\n",
        "    model.W_pos @ model.OV[0, 0].AB @ model.W_U,\n",
        "    title=\"attn 0.0 Full OV circuit W_pos @ W_OV @ W_U\",\n",
        "    xaxis=\"logit\", yaxis=\"src position\"\n",
        ")"
      ],
      "metadata": {
        "colab": {
          "base_uri": "https://localhost:8080/",
          "height": 542
        },
        "id": "LFUWjudxVsGU",
        "outputId": "73e605b7-e027-45ea-d66a-037f89442399"
      },
      "execution_count": 26,
      "outputs": [
        {
          "output_type": "display_data",
          "data": {
            "text/html": [
              "<html>\n",
              "<head><meta charset=\"utf-8\" /></head>\n",
              "<body>\n",
              "    <div>            <script src=\"https://cdnjs.cloudflare.com/ajax/libs/mathjax/2.7.5/MathJax.js?config=TeX-AMS-MML_SVG\"></script><script type=\"text/javascript\">if (window.MathJax && window.MathJax.Hub && window.MathJax.Hub.Config) {window.MathJax.Hub.Config({SVG: {font: \"STIX-Web\"}});}</script>                <script type=\"text/javascript\">window.PlotlyConfig = {MathJaxConfig: 'local'};</script>\n",
              "        <script src=\"https://cdn.plot.ly/plotly-2.18.2.min.js\"></script>                <div id=\"79d1282b-e6d6-400a-a273-ac97693adc47\" class=\"plotly-graph-div\" style=\"height:525px; width:100%;\"></div>            <script type=\"text/javascript\">                                    window.PLOTLYENV=window.PLOTLYENV || {};                                    if (document.getElementById(\"79d1282b-e6d6-400a-a273-ac97693adc47\")) {                    Plotly.newPlot(                        \"79d1282b-e6d6-400a-a273-ac97693adc47\",                        [{\"coloraxis\":\"coloraxis\",\"name\":\"0\",\"z\":[[-972.0821533203125,-918.9620361328125,-865.6386108398438,-798.6685791015625,-741.1511840820312,-676.6268310546875,-611.633056640625,-549.0675048828125,-485.9515380859375,-414.9814453125,-354.65301513671875,-281.11492919921875,-219.40371704101562,-162.74237060546875,-101.89833068847656,-57.32308578491211,-3.1767120361328125,47.67748260498047,99.03581237792969,138.570068359375,173.3557891845703,202.77005004882812,223.3614501953125,245.7181396484375,262.11138916015625,268.8903503417969,273.6152648925781,277.5242919921875,274.54180908203125,276.9893798828125,286.37445068359375,282.52630615234375,275.3282165527344,280.5,277.7013854980469,272.00421142578125,270.7903137207031,252.66387939453125,251.317626953125,230.34136962890625,188.0269775390625,149.39268493652344,107.72020721435547,60.07196044921875,1.181746482849121,-75.07926940917969,-178.89329528808594,-276.65020751953125,-350.5111083984375,-390.9530944824219],[277.79522705078125,259.967041015625,246.32815551757812,229.8924560546875,215.48675537109375,193.2003631591797,168.0802459716797,146.44869995117188,127.56379699707031,104.80885314941406,84.59252166748047,60.03200149536133,41.31169128417969,21.393596649169922,3.4903578758239746,-10.652653694152832,-26.37206268310547,-41.31495666503906,-56.854854583740234,-70.89019775390625,-82.29592895507812,-92.15536499023438,-95.73518371582031,-100.90823364257812,-103.52244567871094,-101.97077941894531,-102.43490600585938,-99.48844909667969,-95.10291290283203,-92.06555938720703,-89.88475036621094,-85.45137023925781,-79.0553207397461,-76.59520721435547,-72.99847412109375,-69.71442413330078,-66.51864624023438,-59.40189743041992,-56.27943420410156,-47.424400329589844,-32.3868293762207,-18.841106414794922,-6.1189775466918945,12.166327476501465,30.758512496948242,54.718894958496094,80.10192108154297,109.06327056884766,135.33090209960938,151.16220092773438],[282.8931884765625,262.37017822265625,248.61215209960938,231.54086303710938,217.052734375,195.87486267089844,169.5560302734375,147.76820373535156,128.15480041503906,106.59097290039062,85.78765869140625,61.26857376098633,43.21118927001953,22.315174102783203,5.210052967071533,-8.532720565795898,-25.155078887939453,-40.61252212524414,-57.294090270996094,-72.21505737304688,-84.8348617553711,-94.35090637207031,-98.17291259765625,-103.58914184570312,-106.85581970214844,-104.87501525878906,-104.83338928222656,-101.69696044921875,-97.197265625,-93.39881896972656,-91.185302734375,-86.20497131347656,-79.82353210449219,-76.85423278808594,-73.58767700195312,-69.94175720214844,-67.3787841796875,-59.87174987792969,-56.72255325317383,-48.065528869628906,-33.36957550048828,-19.60267448425293,-6.321171283721924,12.616551399230957,31.566835403442383,56.27315902709961,81.97654724121094,110.62452697753906,137.26239013671875,153.36770629882812],[268.68170166015625,247.47979736328125,232.02279663085938,214.94137573242188,200.78765869140625,178.69992065429688,152.2290496826172,129.80426025390625,111.8591537475586,90.17095184326172,70.40423583984375,47.198917388916016,29.925682067871094,11.08238410949707,-5.400053977966309,-18.70001220703125,-34.56209182739258,-48.43367004394531,-63.09967803955078,-77.1944580078125,-88.46326446533203,-97.51480102539062,-100.26565551757812,-104.31737518310547,-105.67231750488281,-103.16688537597656,-102.33544921875,-98.36273193359375,-92.80413818359375,-89.01670837402344,-85.41072082519531,-79.62586975097656,-72.44131469726562,-69.25617980957031,-65.23373413085938,-61.17628479003906,-57.64125061035156,-49.95387649536133,-47.07220458984375,-38.30785369873047,-23.55615997314453,-10.326159477233887,2.734994888305664,21.17983627319336,38.839866638183594,61.936832427978516,85.82735443115234,113.49159240722656,138.31124877929688,153.67047119140625],[269.108154296875,248.97752380371094,235.463623046875,218.90545654296875,205.33938598632812,183.0962371826172,158.5786590576172,137.0070037841797,118.12539672851562,97.24775695800781,77.77090454101562,54.53435516357422,37.146026611328125,17.436786651611328,1.7718586921691895,-10.726165771484375,-25.846363067626953,-39.433650970458984,-55.43116760253906,-69.40519714355469,-80.95711517333984,-91.09923553466797,-93.9686050415039,-99.20123291015625,-101.83534240722656,-99.98703002929688,-100.4603500366211,-96.86271667480469,-92.57382202148438,-89.71334075927734,-86.3809814453125,-81.31404113769531,-74.77713012695312,-72.0869140625,-68.20877838134766,-65.27032470703125,-62.3577880859375,-54.90779113769531,-51.538246154785156,-42.85851287841797,-28.88269805908203,-16.265300750732422,-4.119261264801025,14.161195755004883,31.911724090576172,54.701942443847656,79.36427307128906,106.63475036621094,131.64108276367188,146.110595703125],[274.3570251464844,254.52943420410156,239.679443359375,222.79998779296875,209.09375,186.79820251464844,162.16696166992188,139.74359130859375,120.9637680053711,99.04732513427734,79.15104675292969,55.59034729003906,37.53896713256836,16.43902015686035,0.27043771743774414,-13.662192344665527,-29.602813720703125,-43.98196792602539,-59.83308029174805,-74.6135482788086,-86.47988891601562,-95.65525817871094,-97.8919448852539,-102.69979858398438,-105.54220581054688,-102.10244750976562,-102.761962890625,-99.33584594726562,-94.50701904296875,-90.972900390625,-88.65898132324219,-83.43331909179688,-77.0772476196289,-73.64686584472656,-69.96778106689453,-65.90414428710938,-62.57062530517578,-54.95525360107422,-51.57472610473633,-43.31829833984375,-28.64806365966797,-15.295760154724121,-2.5081677436828613,15.829524040222168,34.373817443847656,58.038265228271484,82.95884704589844,110.99891662597656,137.5316162109375,152.65713500976562],[277.6744689941406,258.1945495605469,244.066162109375,227.376953125,212.70962524414062,190.1917266845703,165.23574829101562,142.816162109375,122.7165756225586,100.96023559570312,81.14096069335938,56.46806335449219,38.0479736328125,17.58415412902832,1.1917777061462402,-11.991031646728516,-27.001285552978516,-42.116546630859375,-57.84171676635742,-71.66046142578125,-83.75244140625,-93.10298156738281,-96.87043762207031,-101.88069915771484,-104.322265625,-102.19636535644531,-102.32630157470703,-99.0329818725586,-94.6180191040039,-91.08706665039062,-88.80427551269531,-83.52584838867188,-77.98957061767578,-75.06291198730469,-71.25448608398438,-67.39656066894531,-64.51582336425781,-57.39502716064453,-53.80458450317383,-45.02351379394531,-30.65081787109375,-17.696670532226562,-5.31033992767334,13.692948341369629,32.359004974365234,56.23387145996094,81.29116821289062,109.96041870117188,136.6698455810547,151.49310302734375],[287.182373046875,267.3070983886719,254.08558654785156,237.07191467285156,222.004638671875,200.92047119140625,173.35321044921875,150.55850219726562,130.57620239257812,108.3538818359375,88.40782928466797,63.19676971435547,45.082740783691406,24.465473175048828,5.34536075592041,-7.5922393798828125,-24.367198944091797,-40.15782165527344,-56.56071472167969,-72.5476303100586,-85.66481018066406,-95.15481567382812,-99.30352783203125,-105.22491455078125,-108.27891540527344,-106.31497192382812,-106.43669128417969,-102.96796417236328,-98.43395233154297,-94.61102294921875,-92.56797790527344,-87.49964904785156,-81.08332824707031,-78.44905853271484,-74.9951171875,-72.45698547363281,-69.69569396972656,-62.2322883605957,-59.0106315612793,-50.46378707885742,-34.763179779052734,-21.20714569091797,-7.673490047454834,12.60367488861084,31.540088653564453,56.46063995361328,82.62445068359375,111.8448257446289,138.84335327148438,154.52670288085938],[281.4888000488281,261.4880676269531,246.4839324951172,229.39797973632812,214.17788696289062,190.27244567871094,163.19515991210938,139.39910888671875,119.10155487060547,96.81674194335938,76.03794860839844,51.57350540161133,33.136566162109375,13.3817777633667,-3.873223304748535,-17.65188980102539,-33.30000305175781,-48.51924133300781,-64.3378677368164,-79.31346893310547,-90.86293029785156,-99.65270233154297,-103.13438415527344,-107.2956771850586,-109.84864807128906,-106.95955657958984,-106.849609375,-102.7733154296875,-97.8934097290039,-93.64945220947266,-90.4605484008789,-85.17412567138672,-77.81420135498047,-74.47010040283203,-70.28295135498047,-66.56129455566406,-62.512840270996094,-54.77598571777344,-50.50152587890625,-41.3370361328125,-26.472370147705078,-12.400527954101562,0.652562141418457,20.00773811340332,39.31978988647461,63.03523635864258,88.67776489257812,117.2543716430664,143.73284912109375,159.77883911132812],[282.04364013671875,261.090576171875,246.60089111328125,228.13653564453125,212.06614685058594,188.2611083984375,161.15711975097656,137.0825958251953,117.01060485839844,94.88954162597656,73.35855102539062,48.83648681640625,30.968547821044922,10.509923934936523,-6.033097267150879,-20.04642105102539,-35.45911407470703,-50.89619445800781,-66.31696319580078,-80.63268280029297,-93.0788803100586,-101.66878509521484,-105.40815734863281,-109.3322982788086,-111.091796875,-108.49922180175781,-108.61003112792969,-104.73284149169922,-99.12017822265625,-94.67768859863281,-91.20601654052734,-85.03318786621094,-77.76544189453125,-73.427978515625,-69.77437591552734,-64.96773529052734,-61.000892639160156,-52.63115692138672,-49.10725784301758,-38.998748779296875,-23.838825225830078,-9.703353881835938,3.512767791748047,22.98501968383789,41.89405059814453,65.72754669189453,90.53936767578125,119.06880187988281,146.01150512695312,162.642333984375],[269.39739990234375,249.82481384277344,235.8169708251953,218.93447875976562,205.69943237304688,182.75152587890625,158.54551696777344,136.56732177734375,117.15545654296875,96.19595336914062,76.30680847167969,53.29271697998047,35.50333786010742,15.5189847946167,-0.6021647453308105,-15.142232894897461,-30.028818130493164,-44.8109130859375,-59.977359771728516,-73.40058898925781,-85.7381820678711,-95.01665496826172,-98.19911193847656,-102.41814422607422,-105.16393280029297,-101.65975952148438,-101.55404663085938,-97.72535705566406,-92.34483337402344,-89.0606689453125,-86.83586120605469,-80.97053527832031,-74.9166259765625,-71.86906433105469,-68.07196044921875,-63.807106018066406,-61.39854431152344,-53.528377532958984,-50.56846237182617,-41.27735900878906,-26.986251831054688,-13.62354564666748,-1.427891731262207,16.692161560058594,34.91071319580078,57.64481735229492,82.01714324951172,109.42041015625,136.51318359375,151.39682006835938],[-675.9970092773438,-530.6092529296875,-414.31146240234375,-315.96539306640625,-250.8489227294922,-84.19717407226562,11.567638397216797,134.61468505859375,197.05496215820312,265.6141357421875,348.89794921875,395.22210693359375,421.8858337402344,453.85845947265625,474.7705993652344,493.59417724609375,516.8533935546875,522.3380126953125,525.2069702148438,537.9689331054688,537.0661010742188,518.295166015625,497.1747131347656,468.7135009765625,434.048828125,385.7501525878906,351.6910400390625,306.69482421875,255.4663543701172,214.89892578125,165.00723266601562,106.62657165527344,54.84794616699219,9.347579956054688,-33.55807876586914,-87.943359375,-137.2763214111328,-183.46871948242188,-221.20846557617188,-259.48321533203125,-300.6603698730469,-338.6629333496094,-376.891845703125,-430.16021728515625,-467.02581787109375,-516.8082275390625,-562.0987548828125,-614.7249145507812,-671.118896484375,-710.8850708007812],[-691.40087890625,-632.9053955078125,-584.3240356445312,-539.8994140625,-492.8034362792969,-409.3123779296875,-352.26202392578125,-298.12945556640625,-253.45574951171875,-206.6352081298828,-155.1975555419922,-113.51422119140625,-76.87477111816406,-46.23571014404297,-23.818233489990234,4.140270233154297,33.36236572265625,56.665218353271484,108.95892333984375,133.24679565429688,175.28208923339844,199.78704833984375,221.95358276367188,243.74105834960938,253.23416137695312,265.9766845703125,265.8186340332031,253.17849731445312,246.36935424804688,245.06735229492188,231.26446533203125,211.89407348632812,194.88162231445312,186.58554077148438,168.71908569335938,156.46768188476562,143.91976928710938,120.63642883300781,97.90031433105469,73.99597930908203,47.443302154541016,19.329660415649414,-7.509157180786133,-41.13108825683594,-92.05101776123047,-133.65225219726562,-199.17481994628906,-254.00413513183594,-307.139404296875,-333.4788513183594],[-590.8757934570312,-561.10791015625,-543.0198974609375,-522.8607177734375,-492.566162109375,-464.8936462402344,-423.780517578125,-389.3959045410156,-357.8677978515625,-323.23944091796875,-295.3861083984375,-252.31936645507812,-222.2747802734375,-180.9424285888672,-148.2859649658203,-123.12034606933594,-95.93925476074219,-71.18409729003906,-17.230039596557617,5.271335601806641,45.601722717285156,80.00092315673828,100.9962158203125,127.82768249511719,153.2222900390625,175.5367431640625,187.3709716796875,187.93887329101562,195.205322265625,197.7720184326172,207.25979614257812,201.71182250976562,201.77420043945312,205.19546508789062,203.34130859375,207.53573608398438,206.50531005859375,197.16989135742188,192.34344482421875,177.37945556640625,159.18798828125,140.03558349609375,113.75200653076172,84.55583190917969,40.58312225341797,-2.471978187561035,-62.8680305480957,-116.14041900634766,-161.58364868164062,-173.15777587890625],[-505.6271667480469,-482.1884460449219,-465.59161376953125,-451.67572021484375,-429.2685546875,-412.1562194824219,-379.2582092285156,-357.6097412109375,-329.98333740234375,-299.00042724609375,-271.5814208984375,-233.95135498046875,-201.52374267578125,-168.3018798828125,-140.4866180419922,-118.59892272949219,-92.478515625,-64.98577117919922,-22.999797821044922,-0.21948766708374023,30.507028579711914,61.3316650390625,76.72988891601562,102.9511947631836,116.95405578613281,143.722900390625,151.13194274902344,157.27622985839844,161.2483673095703,165.7181854248047,176.922119140625,175.46612548828125,176.00357055664062,179.28140258789062,179.97781372070312,181.6748046875,184.24737548828125,176.21096801757812,176.37026977539062,165.51815795898438,152.62307739257812,132.7959442138672,114.75090789794922,87.7928237915039,52.16809844970703,15.345274925231934,-37.509971618652344,-88.46109008789062,-129.219970703125,-146.4383087158203],[-378.9053039550781,-381.1893005371094,-383.7238464355469,-376.49603271484375,-364.53985595703125,-361.5539855957031,-332.71319580078125,-320.2078552246094,-299.720947265625,-278.95208740234375,-255.97103881835938,-225.35385131835938,-198.42337036132812,-170.16622924804688,-151.01217651367188,-134.07139587402344,-111.00997161865234,-90.50281524658203,-56.995025634765625,-41.255157470703125,-15.267341613769531,12.225764274597168,26.571758270263672,49.57432556152344,61.89532470703125,86.38218688964844,91.56356811523438,101.10983276367188,109.97450256347656,119.785888671875,133.95765686035156,140.44088745117188,143.8729705810547,155.4065704345703,159.38125610351562,166.69139099121094,178.43148803710938,173.1455078125,177.2160186767578,168.98574829101562,159.8282470703125,144.654541015625,129.27078247070312,109.50409698486328,80.54519653320312,50.761104583740234,9.421402931213379,-30.341114044189453,-63.71639633178711,-73.62983703613281],[-282.60980224609375,-292.0496826171875,-298.54168701171875,-295.94354248046875,-289.1729431152344,-301.2784423828125,-285.51568603515625,-277.48077392578125,-272.50848388671875,-253.73135375976562,-241.74990844726562,-220.3960418701172,-195.87576293945312,-166.59205627441406,-148.11306762695312,-132.87271118164062,-113.40205383300781,-91.17219543457031,-66.9891128540039,-51.381622314453125,-26.719409942626953,-7.904288291931152,3.4360413551330566,21.290584564208984,38.842681884765625,52.3981819152832,60.92896270751953,68.35537719726562,81.07943725585938,89.79175567626953,104.0152587890625,109.44713592529297,120.38143920898438,132.499755859375,137.90481567382812,147.588134765625,157.4302520751953,150.83993530273438,161.54299926757812,158.43572998046875,148.3067169189453,136.14402770996094,126.67291259765625,111.29391479492188,89.27808380126953,64.33721923828125,34.10800552368164,1.3086090087890625,-26.29599952697754,-33.83875274658203],[-247.55838012695312,-242.0763702392578,-253.30221557617188,-248.44744873046875,-246.9574737548828,-264.3048095703125,-253.79388427734375,-252.56158447265625,-243.20252990722656,-232.91134643554688,-223.8714599609375,-206.45095825195312,-184.63021850585938,-161.06619262695312,-144.0735321044922,-129.63677978515625,-109.61280822753906,-80.672119140625,-60.53932189941406,-44.970848083496094,-25.679771423339844,-3.735999584197998,5.670731544494629,18.61968231201172,34.635345458984375,43.212921142578125,48.955101013183594,60.06819152832031,67.42447662353516,76.46815490722656,87.87728881835938,93.4949951171875,100.21331024169922,108.8293685913086,118.21723175048828,128.42791748046875,139.30120849609375,134.05690002441406,145.59707641601562,144.25082397460938,140.29917907714844,126.75531768798828,118.85202026367188,102.95556640625,86.78802490234375,66.9869155883789,36.58818817138672,9.623600006103516,-15.365370750427246,-28.18046760559082],[-66.99610900878906,-76.94865417480469,-98.02191162109375,-103.23997497558594,-112.04113006591797,-140.894775390625,-146.11105346679688,-163.58290100097656,-174.5050048828125,-177.809814453125,-180.1029052734375,-179.226318359375,-163.29620361328125,-153.86785888671875,-146.09877014160156,-142.12765502929688,-126.47183227539062,-111.01396179199219,-99.96363830566406,-89.82530212402344,-81.45039367675781,-66.58554077148438,-59.508209228515625,-45.2047004699707,-32.031333923339844,-24.34070587158203,-20.181503295898438,-3.5250244140625,3.580017566680908,13.551733016967773,29.516149520874023,42.430747985839844,52.397483825683594,64.09068298339844,74.19650268554688,87.22821807861328,101.13236999511719,100.13276672363281,112.68948364257812,120.56103515625,121.4310073852539,116.52229309082031,119.52112579345703,115.93225860595703,115.02285766601562,105.91822052001953,92.40581512451172,83.35482025146484,73.87985229492188,73.92256164550781],[105.33186340332031,91.81231689453125,69.27558898925781,53.57411193847656,38.22675323486328,-3.574923038482666,-14.954817771911621,-40.15867614746094,-55.829017639160156,-70.39276123046875,-89.69670104980469,-106.38172912597656,-103.94932556152344,-110.42938232421875,-120.280517578125,-126.12802124023438,-120.54547119140625,-115.71939849853516,-113.23588562011719,-112.48797607421875,-115.23648834228516,-107.15685272216797,-106.02013397216797,-98.55036926269531,-86.74382019042969,-80.15194702148438,-75.9781265258789,-60.28691101074219,-51.429840087890625,-43.262107849121094,-31.071962356567383,-15.208514213562012,-7.203058242797852,2.442843437194824,12.21181583404541,27.85433006286621,38.53202438354492,45.29010009765625,58.25883483886719,72.56924438476562,83.3277587890625,84.00238800048828,93.28186798095703,100.80713653564453,106.7616958618164,116.65128326416016,116.2931137084961,131.69285583496094,140.7359161376953,151.57662963867188],[1348.601806640625,1227.97216796875,1088.740966796875,908.678955078125,717.74267578125,413.89111328125,161.6493377685547,-95.56262969970703,-202.6047821044922,-336.7929382324219,-482.1436767578125,-578.8965454101562,-620.9344482421875,-655.7076416015625,-671.9813232421875,-699.5121459960938,-711.2642822265625,-657.8762817382812,-636.2088623046875,-617.7880859375,-616.0357666015625,-580.950927734375,-591.7598876953125,-572.494140625,-551.0692138671875,-505.44036865234375,-463.51080322265625,-422.0921630859375,-359.1918029785156,-330.13653564453125,-289.3071594238281,-229.00732421875,-171.60757446289062,-138.73037719726562,-90.15540313720703,-39.02206802368164,24.84424591064453,73.14019775390625,121.38107299804688,217.978759765625,311.1839599609375,366.1286315917969,450.8363037109375,538.5175170898438,628.1466064453125,710.8385009765625,815.523193359375,922.1668090820312,983.2969970703125,922.4313354492188],[14.685863494873047,13.557743072509766,15.936622619628906,15.593666076660156,16.688762664794922,13.607990264892578,3.084303379058838,3.277236223220825,0.35198891162872314,-3.435356616973877,-8.501517295837402,-8.151826858520508,-13.615065574645996,-16.132003784179688,-10.830242156982422,-16.336811065673828,-18.498085021972656,-19.75856590270996,-18.951486587524414,-16.090232849121094,-10.119075775146484,-13.291542053222656,-14.36178207397461,-6.233365058898926,-7.7841796875,-6.30869197845459,-3.8978445529937744,-9.90224552154541,-3.4247632026672363,-4.587534427642822,-3.545877456665039,-0.9488661885261536,3.6255364418029785,1.2535364627838135,0.040797144174575806,-1.1277799606323242,-0.29320579767227173,-1.5537221431732178,-2.404510498046875,0.02763509750366211,0.9811592102050781,6.919719696044922,8.2258939743042,9.478775024414062,13.992506980895996,11.517295837402344,15.269643783569336,18.2066650390625,18.948963165283203,21.16815948486328]],\"type\":\"heatmap\",\"xaxis\":\"x\",\"yaxis\":\"y\",\"hovertemplate\":\"logit: %{x}<br>src position: %{y}<br>color: %{z}<extra></extra>\"}],                        {\"template\":{\"data\":{\"histogram2dcontour\":[{\"type\":\"histogram2dcontour\",\"colorbar\":{\"outlinewidth\":0,\"ticks\":\"\"},\"colorscale\":[[0.0,\"#0d0887\"],[0.1111111111111111,\"#46039f\"],[0.2222222222222222,\"#7201a8\"],[0.3333333333333333,\"#9c179e\"],[0.4444444444444444,\"#bd3786\"],[0.5555555555555556,\"#d8576b\"],[0.6666666666666666,\"#ed7953\"],[0.7777777777777778,\"#fb9f3a\"],[0.8888888888888888,\"#fdca26\"],[1.0,\"#f0f921\"]]}],\"choropleth\":[{\"type\":\"choropleth\",\"colorbar\":{\"outlinewidth\":0,\"ticks\":\"\"}}],\"histogram2d\":[{\"type\":\"histogram2d\",\"colorbar\":{\"outlinewidth\":0,\"ticks\":\"\"},\"colorscale\":[[0.0,\"#0d0887\"],[0.1111111111111111,\"#46039f\"],[0.2222222222222222,\"#7201a8\"],[0.3333333333333333,\"#9c179e\"],[0.4444444444444444,\"#bd3786\"],[0.5555555555555556,\"#d8576b\"],[0.6666666666666666,\"#ed7953\"],[0.7777777777777778,\"#fb9f3a\"],[0.8888888888888888,\"#fdca26\"],[1.0,\"#f0f921\"]]}],\"heatmap\":[{\"type\":\"heatmap\",\"colorbar\":{\"outlinewidth\":0,\"ticks\":\"\"},\"colorscale\":[[0.0,\"#0d0887\"],[0.1111111111111111,\"#46039f\"],[0.2222222222222222,\"#7201a8\"],[0.3333333333333333,\"#9c179e\"],[0.4444444444444444,\"#bd3786\"],[0.5555555555555556,\"#d8576b\"],[0.6666666666666666,\"#ed7953\"],[0.7777777777777778,\"#fb9f3a\"],[0.8888888888888888,\"#fdca26\"],[1.0,\"#f0f921\"]]}],\"heatmapgl\":[{\"type\":\"heatmapgl\",\"colorbar\":{\"outlinewidth\":0,\"ticks\":\"\"},\"colorscale\":[[0.0,\"#0d0887\"],[0.1111111111111111,\"#46039f\"],[0.2222222222222222,\"#7201a8\"],[0.3333333333333333,\"#9c179e\"],[0.4444444444444444,\"#bd3786\"],[0.5555555555555556,\"#d8576b\"],[0.6666666666666666,\"#ed7953\"],[0.7777777777777778,\"#fb9f3a\"],[0.8888888888888888,\"#fdca26\"],[1.0,\"#f0f921\"]]}],\"contourcarpet\":[{\"type\":\"contourcarpet\",\"colorbar\":{\"outlinewidth\":0,\"ticks\":\"\"}}],\"contour\":[{\"type\":\"contour\",\"colorbar\":{\"outlinewidth\":0,\"ticks\":\"\"},\"colorscale\":[[0.0,\"#0d0887\"],[0.1111111111111111,\"#46039f\"],[0.2222222222222222,\"#7201a8\"],[0.3333333333333333,\"#9c179e\"],[0.4444444444444444,\"#bd3786\"],[0.5555555555555556,\"#d8576b\"],[0.6666666666666666,\"#ed7953\"],[0.7777777777777778,\"#fb9f3a\"],[0.8888888888888888,\"#fdca26\"],[1.0,\"#f0f921\"]]}],\"surface\":[{\"type\":\"surface\",\"colorbar\":{\"outlinewidth\":0,\"ticks\":\"\"},\"colorscale\":[[0.0,\"#0d0887\"],[0.1111111111111111,\"#46039f\"],[0.2222222222222222,\"#7201a8\"],[0.3333333333333333,\"#9c179e\"],[0.4444444444444444,\"#bd3786\"],[0.5555555555555556,\"#d8576b\"],[0.6666666666666666,\"#ed7953\"],[0.7777777777777778,\"#fb9f3a\"],[0.8888888888888888,\"#fdca26\"],[1.0,\"#f0f921\"]]}],\"mesh3d\":[{\"type\":\"mesh3d\",\"colorbar\":{\"outlinewidth\":0,\"ticks\":\"\"}}],\"scatter\":[{\"fillpattern\":{\"fillmode\":\"overlay\",\"size\":10,\"solidity\":0.2},\"type\":\"scatter\"}],\"parcoords\":[{\"type\":\"parcoords\",\"line\":{\"colorbar\":{\"outlinewidth\":0,\"ticks\":\"\"}}}],\"scatterpolargl\":[{\"type\":\"scatterpolargl\",\"marker\":{\"colorbar\":{\"outlinewidth\":0,\"ticks\":\"\"}}}],\"bar\":[{\"error_x\":{\"color\":\"#2a3f5f\"},\"error_y\":{\"color\":\"#2a3f5f\"},\"marker\":{\"line\":{\"color\":\"#E5ECF6\",\"width\":0.5},\"pattern\":{\"fillmode\":\"overlay\",\"size\":10,\"solidity\":0.2}},\"type\":\"bar\"}],\"scattergeo\":[{\"type\":\"scattergeo\",\"marker\":{\"colorbar\":{\"outlinewidth\":0,\"ticks\":\"\"}}}],\"scatterpolar\":[{\"type\":\"scatterpolar\",\"marker\":{\"colorbar\":{\"outlinewidth\":0,\"ticks\":\"\"}}}],\"histogram\":[{\"marker\":{\"pattern\":{\"fillmode\":\"overlay\",\"size\":10,\"solidity\":0.2}},\"type\":\"histogram\"}],\"scattergl\":[{\"type\":\"scattergl\",\"marker\":{\"colorbar\":{\"outlinewidth\":0,\"ticks\":\"\"}}}],\"scatter3d\":[{\"type\":\"scatter3d\",\"line\":{\"colorbar\":{\"outlinewidth\":0,\"ticks\":\"\"}},\"marker\":{\"colorbar\":{\"outlinewidth\":0,\"ticks\":\"\"}}}],\"scattermapbox\":[{\"type\":\"scattermapbox\",\"marker\":{\"colorbar\":{\"outlinewidth\":0,\"ticks\":\"\"}}}],\"scatterternary\":[{\"type\":\"scatterternary\",\"marker\":{\"colorbar\":{\"outlinewidth\":0,\"ticks\":\"\"}}}],\"scattercarpet\":[{\"type\":\"scattercarpet\",\"marker\":{\"colorbar\":{\"outlinewidth\":0,\"ticks\":\"\"}}}],\"carpet\":[{\"aaxis\":{\"endlinecolor\":\"#2a3f5f\",\"gridcolor\":\"white\",\"linecolor\":\"white\",\"minorgridcolor\":\"white\",\"startlinecolor\":\"#2a3f5f\"},\"baxis\":{\"endlinecolor\":\"#2a3f5f\",\"gridcolor\":\"white\",\"linecolor\":\"white\",\"minorgridcolor\":\"white\",\"startlinecolor\":\"#2a3f5f\"},\"type\":\"carpet\"}],\"table\":[{\"cells\":{\"fill\":{\"color\":\"#EBF0F8\"},\"line\":{\"color\":\"white\"}},\"header\":{\"fill\":{\"color\":\"#C8D4E3\"},\"line\":{\"color\":\"white\"}},\"type\":\"table\"}],\"barpolar\":[{\"marker\":{\"line\":{\"color\":\"#E5ECF6\",\"width\":0.5},\"pattern\":{\"fillmode\":\"overlay\",\"size\":10,\"solidity\":0.2}},\"type\":\"barpolar\"}],\"pie\":[{\"automargin\":true,\"type\":\"pie\"}]},\"layout\":{\"autotypenumbers\":\"strict\",\"colorway\":[\"#636efa\",\"#EF553B\",\"#00cc96\",\"#ab63fa\",\"#FFA15A\",\"#19d3f3\",\"#FF6692\",\"#B6E880\",\"#FF97FF\",\"#FECB52\"],\"font\":{\"color\":\"#2a3f5f\"},\"hovermode\":\"closest\",\"hoverlabel\":{\"align\":\"left\"},\"paper_bgcolor\":\"white\",\"plot_bgcolor\":\"#E5ECF6\",\"polar\":{\"bgcolor\":\"#E5ECF6\",\"angularaxis\":{\"gridcolor\":\"white\",\"linecolor\":\"white\",\"ticks\":\"\"},\"radialaxis\":{\"gridcolor\":\"white\",\"linecolor\":\"white\",\"ticks\":\"\"}},\"ternary\":{\"bgcolor\":\"#E5ECF6\",\"aaxis\":{\"gridcolor\":\"white\",\"linecolor\":\"white\",\"ticks\":\"\"},\"baxis\":{\"gridcolor\":\"white\",\"linecolor\":\"white\",\"ticks\":\"\"},\"caxis\":{\"gridcolor\":\"white\",\"linecolor\":\"white\",\"ticks\":\"\"}},\"coloraxis\":{\"colorbar\":{\"outlinewidth\":0,\"ticks\":\"\"}},\"colorscale\":{\"sequential\":[[0.0,\"#0d0887\"],[0.1111111111111111,\"#46039f\"],[0.2222222222222222,\"#7201a8\"],[0.3333333333333333,\"#9c179e\"],[0.4444444444444444,\"#bd3786\"],[0.5555555555555556,\"#d8576b\"],[0.6666666666666666,\"#ed7953\"],[0.7777777777777778,\"#fb9f3a\"],[0.8888888888888888,\"#fdca26\"],[1.0,\"#f0f921\"]],\"sequentialminus\":[[0.0,\"#0d0887\"],[0.1111111111111111,\"#46039f\"],[0.2222222222222222,\"#7201a8\"],[0.3333333333333333,\"#9c179e\"],[0.4444444444444444,\"#bd3786\"],[0.5555555555555556,\"#d8576b\"],[0.6666666666666666,\"#ed7953\"],[0.7777777777777778,\"#fb9f3a\"],[0.8888888888888888,\"#fdca26\"],[1.0,\"#f0f921\"]],\"diverging\":[[0,\"#8e0152\"],[0.1,\"#c51b7d\"],[0.2,\"#de77ae\"],[0.3,\"#f1b6da\"],[0.4,\"#fde0ef\"],[0.5,\"#f7f7f7\"],[0.6,\"#e6f5d0\"],[0.7,\"#b8e186\"],[0.8,\"#7fbc41\"],[0.9,\"#4d9221\"],[1,\"#276419\"]]},\"xaxis\":{\"gridcolor\":\"white\",\"linecolor\":\"white\",\"ticks\":\"\",\"title\":{\"standoff\":15},\"zerolinecolor\":\"white\",\"automargin\":true,\"zerolinewidth\":2},\"yaxis\":{\"gridcolor\":\"white\",\"linecolor\":\"white\",\"ticks\":\"\",\"title\":{\"standoff\":15},\"zerolinecolor\":\"white\",\"automargin\":true,\"zerolinewidth\":2},\"scene\":{\"xaxis\":{\"backgroundcolor\":\"#E5ECF6\",\"gridcolor\":\"white\",\"linecolor\":\"white\",\"showbackground\":true,\"ticks\":\"\",\"zerolinecolor\":\"white\",\"gridwidth\":2},\"yaxis\":{\"backgroundcolor\":\"#E5ECF6\",\"gridcolor\":\"white\",\"linecolor\":\"white\",\"showbackground\":true,\"ticks\":\"\",\"zerolinecolor\":\"white\",\"gridwidth\":2},\"zaxis\":{\"backgroundcolor\":\"#E5ECF6\",\"gridcolor\":\"white\",\"linecolor\":\"white\",\"showbackground\":true,\"ticks\":\"\",\"zerolinecolor\":\"white\",\"gridwidth\":2}},\"shapedefaults\":{\"line\":{\"color\":\"#2a3f5f\"}},\"annotationdefaults\":{\"arrowcolor\":\"#2a3f5f\",\"arrowhead\":0,\"arrowwidth\":1},\"geo\":{\"bgcolor\":\"white\",\"landcolor\":\"#E5ECF6\",\"subunitcolor\":\"white\",\"showland\":true,\"showlakes\":true,\"lakecolor\":\"white\"},\"title\":{\"x\":0.05},\"mapbox\":{\"style\":\"light\"}}},\"xaxis\":{\"anchor\":\"y\",\"domain\":[0.0,1.0],\"scaleanchor\":\"y\",\"constrain\":\"domain\",\"title\":{\"text\":\"logit\"}},\"yaxis\":{\"anchor\":\"x\",\"domain\":[0.0,1.0],\"autorange\":\"reversed\",\"constrain\":\"domain\",\"title\":{\"text\":\"src position\"}},\"coloraxis\":{\"colorscale\":[[0.0,\"rgb(103,0,31)\"],[0.1,\"rgb(178,24,43)\"],[0.2,\"rgb(214,96,77)\"],[0.3,\"rgb(244,165,130)\"],[0.4,\"rgb(253,219,199)\"],[0.5,\"rgb(247,247,247)\"],[0.6,\"rgb(209,229,240)\"],[0.7,\"rgb(146,197,222)\"],[0.8,\"rgb(67,147,195)\"],[0.9,\"rgb(33,102,172)\"],[1.0,\"rgb(5,48,97)\"]],\"cmid\":0.0},\"title\":{\"text\":\"attn 0.0 Full OV circuit W_pos @ W_OV @ W_U\"}},                        {\"responsive\": true}                    ).then(function(){\n",
              "                            \n",
              "var gd = document.getElementById('79d1282b-e6d6-400a-a273-ac97693adc47');\n",
              "var x = new MutationObserver(function (mutations, observer) {{\n",
              "        var display = window.getComputedStyle(gd).display;\n",
              "        if (!display || display === 'none') {{\n",
              "            console.log([gd, 'removed!']);\n",
              "            Plotly.purge(gd);\n",
              "            observer.disconnect();\n",
              "        }}\n",
              "}});\n",
              "\n",
              "// Listen for the removal of the full notebook cells\n",
              "var notebookContainer = gd.closest('#notebook-container');\n",
              "if (notebookContainer) {{\n",
              "    x.observe(notebookContainer, {childList: true});\n",
              "}}\n",
              "\n",
              "// Listen for the clearing of the current output cell\n",
              "var outputEl = gd.closest('.output');\n",
              "if (outputEl) {{\n",
              "    x.observe(outputEl, {childList: true});\n",
              "}}\n",
              "\n",
              "                        })                };                            </script>        </div>\n",
              "</body>\n",
              "</html>"
            ]
          },
          "metadata": {}
        }
      ]
    },
    {
      "cell_type": "markdown",
      "source": [
        "Recall that the model only attends to positions 1-10 in practice, and each of these rows look the same. Because of this, I think the hypothesis that this circuit just writes a constant bias term seems reasonable."
      ],
      "metadata": {
        "id": "xW9lX6-9WUg4"
      }
    },
    {
      "cell_type": "markdown",
      "source": [
        "## Study QK circuits"
      ],
      "metadata": {
        "id": "xtoCTho2d0GY"
      }
    },
    {
      "cell_type": "markdown",
      "source": [
        "We want to figure out how the attn pattern is computed by looking at the weights. Note that unlike the min of two ints problem, this toy model has positional embeddings. When we do the QK circuit math, we can decompose the attn scores into 4 different components:\n",
        "\n",
        "\n",
        "\n",
        "\n",
        "$$\n",
        "\\begin{aligned}\n",
        "A^{0.0} &= softmax(\\frac{x_0W_{QK}^{0.0}x_0^T}{\\sqrt{d_{head}}})^*\\\\\n",
        "&= softmax(\\frac{(e+p)W_{QK}^{0.0}(e+p)^T}{\\sqrt{d_{head}}})^*\\\\\n",
        "&= softmax(\\frac{(e+p)W_{QK}^{0.0}(e^T+p^T)}{\\sqrt{d_{head}}})^*\\\\\n",
        "&= softmax(\\frac{(eW_{QK}^{0.0}+pW_{QK}^{0.0})(e^T+p^T)}{\\sqrt{d_{head}}})^*\\\\\n",
        "&= softmax(\\frac{eW_{QK}^{0.0}e^T+eW_{QK}^{0.0}p^T+pW_{QK}^{0.0}e^T+pW_{QK}^{0.0}p^T}{\\sqrt{d_{head}}})^*\\\\\n",
        "&= softmax(\\frac{tW_EW_{QK}^{0.0}W_E^Tt^T+tW_EW_{QK}^{0.0}W_{pos}^Tpos^T+posW_{pos}W_{QK}^{0.0}W_E^Tt^T+posW_{pos}W_{QK}^{0.0}W_{pos}^Tpos^T}{\\sqrt{d_{head}}})^*\\\\\n",
        "\\end{aligned}\n",
        "$$\n",
        "\n",
        "Where $t$ is the input as one hot encoded vectors and $pos$ are the position indices as one hot encoded vectors. Notice we now have 4 different components that contribute to the attn scores. Thankfully this is small enough we can still just stare at all of them.\n",
        "\n",
        "The first one I'll check is $W_{pos}W_{QK}W_E^T$. We should expect this to be easily interpretable, since it would make sense for early positions to pay attn to smaller numbers, while later positions pay attn to big numbers."
      ],
      "metadata": {
        "id": "Ok7_-ZCjfs-m"
      }
    },
    {
      "cell_type": "code",
      "source": [
        "full_QK_circuit = model.W_pos @ model.QK[0, 0].AB @ model.W_E.T\n",
        "full_QK_circuit.shape"
      ],
      "metadata": {
        "colab": {
          "base_uri": "https://localhost:8080/"
        },
        "id": "4Wi98waedyuH",
        "outputId": "73a1a412-5da6-4ab9-ac89-78ead3ed59fb"
      },
      "execution_count": 27,
      "outputs": [
        {
          "output_type": "execute_result",
          "data": {
            "text/plain": [
              "torch.Size([22, 52])"
            ]
          },
          "metadata": {},
          "execution_count": 27
        }
      ]
    },
    {
      "cell_type": "code",
      "source": [
        "imshow(\n",
        "    full_QK_circuit,\n",
        "    title=\"attn 0.0 full QK circuit W_pos @ W_QK @ W_E.T\",\n",
        "    yaxis=\"dest pos\", xaxis=\"src token\"\n",
        ")"
      ],
      "metadata": {
        "colab": {
          "base_uri": "https://localhost:8080/",
          "height": 542
        },
        "id": "nTOp-wx1eEkE",
        "outputId": "970ad729-0aeb-4c76-9004-b080e7b822b8"
      },
      "execution_count": 28,
      "outputs": [
        {
          "output_type": "display_data",
          "data": {
            "text/html": [
              "<html>\n",
              "<head><meta charset=\"utf-8\" /></head>\n",
              "<body>\n",
              "    <div>            <script src=\"https://cdnjs.cloudflare.com/ajax/libs/mathjax/2.7.5/MathJax.js?config=TeX-AMS-MML_SVG\"></script><script type=\"text/javascript\">if (window.MathJax && window.MathJax.Hub && window.MathJax.Hub.Config) {window.MathJax.Hub.Config({SVG: {font: \"STIX-Web\"}});}</script>                <script type=\"text/javascript\">window.PlotlyConfig = {MathJaxConfig: 'local'};</script>\n",
              "        <script src=\"https://cdn.plot.ly/plotly-2.18.2.min.js\"></script>                <div id=\"fbdbd35a-1aeb-4401-886d-1a60c3b3c541\" class=\"plotly-graph-div\" style=\"height:525px; width:100%;\"></div>            <script type=\"text/javascript\">                                    window.PLOTLYENV=window.PLOTLYENV || {};                                    if (document.getElementById(\"fbdbd35a-1aeb-4401-886d-1a60c3b3c541\")) {                    Plotly.newPlot(                        \"fbdbd35a-1aeb-4401-886d-1a60c3b3c541\",                        [{\"coloraxis\":\"coloraxis\",\"name\":\"0\",\"z\":[[-16.31151580810547,-17.872804641723633,-18.489505767822266,-18.906452178955078,-19.136341094970703,-17.555408477783203,-17.549304962158203,-16.364349365234375,-15.466432571411133,-14.907470703125,-13.786873817443848,-12.838537216186523,-11.051106452941895,-9.573628425598145,-8.314964294433594,-7.303614616394043,-6.162633895874023,-6.896485328674316,-6.842432022094727,-5.5050225257873535,-5.50395393371582,-3.500490188598633,-4.588125228881836,-0.7823230028152466,0.8906514048576355,2.6379611492156982,4.738406658172607,6.887910842895508,7.837497711181641,8.46017074584961,10.082900047302246,12.1300630569458,13.699729919433594,14.95655632019043,14.91900634765625,17.397945404052734,17.487947463989258,19.22071647644043,17.87885284423828,16.451351165771484,16.13263702392578,16.102497100830078,16.999263763427734,17.14273452758789,17.739063262939453,17.714025497436523,17.633649826049805,17.597923278808594,14.706295013427734,14.11026382446289,-0.5515109300613403,18.26205825805664],[2.1153624057769775,1.7648898363113403,1.5368969440460205,1.7129443883895874,1.4012703895568848,1.1964665651321411,1.2704769372940063,0.33774542808532715,0.0018559694290161133,0.23535102605819702,0.25859344005584717,0.26206111907958984,-0.07429462671279907,-0.06663185358047485,-0.6083494424819946,-0.8670039772987366,-0.40358638763427734,-1.3241101503372192,-1.29391348361969,-1.3500913381576538,-1.9601043462753296,-2.5987863540649414,-2.931950569152832,-3.2533881664276123,-2.8280532360076904,-2.869387626647949,-1.5724999904632568,-1.1745655536651611,-1.287940502166748,-0.6997334957122803,-0.8481299877166748,-1.2320665121078491,-1.5459885597229004,-0.9189229011535645,-0.7931320667266846,-0.561066210269928,-0.10772454738616943,0.4274812936782837,0.5833810567855835,1.0724952220916748,0.47952577471733093,0.04648367315530777,0.5676629543304443,1.2198386192321777,1.3508291244506836,1.0549180507659912,1.0646840333938599,0.6912441849708557,1.4967858791351318,1.4923076629638672,-2.890568256378174,-3.516287326812744],[0.7660207152366638,0.4680135250091553,0.4080655872821808,0.29194021224975586,0.22068333625793457,-0.23436006903648376,-0.21317380666732788,-1.0105808973312378,-1.4228692054748535,-1.7232815027236938,-1.2627899646759033,-1.2223854064941406,-1.5483512878417969,-1.888437032699585,-1.8378634452819824,-2.5180139541625977,-1.9585646390914917,-2.281903028488159,-2.239326000213623,-2.1755661964416504,-2.5210657119750977,-3.3387935161590576,-3.5464305877685547,-3.2774758338928223,-2.96634578704834,-2.3689188957214355,-1.249511480331421,-0.6890139579772949,-0.5421602725982666,0.21170714497566223,0.1441442370414734,-0.11507827043533325,-0.050901710987091064,0.23521389067173004,0.3372940421104431,0.5759989619255066,1.4105254411697388,1.646770715713501,2.370075225830078,2.6506011486053467,2.402106761932373,1.9491932392120361,2.4462368488311768,2.7864973545074463,3.3676533699035645,2.9450578689575195,2.900045156478882,2.3358354568481445,3.4726686477661133,3.5125460624694824,-3.2629003524780273,-2.8693952560424805],[1.489258050918579,0.8917626142501831,0.7381375432014465,0.5999699831008911,0.5626947283744812,0.16858792304992676,0.20927143096923828,-0.5591961145401001,-1.3054533004760742,-1.4420857429504395,-1.2681108713150024,-0.7535948753356934,-1.0227437019348145,-1.387276291847229,-1.0549606084823608,-1.4036976099014282,-1.1200536489486694,-1.7579901218414307,-1.8944369554519653,-1.5947577953338623,-2.2203664779663086,-3.0118517875671387,-3.088139772415161,-2.8683910369873047,-3.0257606506347656,-2.7545294761657715,-1.3507128953933716,-0.9379647970199585,-0.3667650818824768,0.23392751812934875,-0.033348649740219116,-0.2232314944267273,-0.45624005794525146,-0.06433868408203125,0.10052110254764557,0.6285385489463806,1.325812578201294,1.6141380071640015,2.1112914085388184,2.1105916500091553,1.4510841369628906,0.839764416217804,1.3230189085006714,1.982912540435791,2.679413318634033,2.1179723739624023,2.1614623069763184,1.4621968269348145,2.647881507873535,2.3238234519958496,-3.2902491092681885,-2.751319646835327],[0.6796737909317017,0.32824021577835083,0.05766183137893677,0.06985044479370117,0.12048202753067017,-0.0176716148853302,-0.5610226392745972,-0.6790952086448669,-0.8831654787063599,-1.1480588912963867,-0.9791567921638489,-1.2327570915222168,-1.9222171306610107,-1.6200947761535645,-1.3619662523269653,-1.209808588027954,-1.0482969284057617,-1.939847469329834,-2.29398250579834,-2.3436553478240967,-2.9286930561065674,-3.2686374187469482,-3.3924615383148193,-3.7681899070739746,-3.010793924331665,-2.515429973602295,-2.1359291076660156,-1.1213679313659668,-1.2816760540008545,-0.42100411653518677,-0.7804718613624573,-0.918663740158081,-0.7320794463157654,-0.32241955399513245,-0.041641563177108765,0.7026723027229309,1.4555639028549194,1.8794653415679932,2.8314619064331055,2.5009257793426514,1.9381119012832642,1.6903927326202393,2.000446319580078,2.2978463172912598,3.036153554916382,2.8597707748413086,2.9327635765075684,2.439570188522339,3.553180456161499,3.752823829650879,-3.3641841411590576,-2.632054567337036],[0.26390236616134644,-0.220411479473114,-0.6106265783309937,-0.39610540866851807,-0.3126106858253479,-0.6086947321891785,-0.46222978830337524,-1.0599528551101685,-1.8134948015213013,-1.6218987703323364,-1.443684697151184,-1.936540126800537,-2.1425700187683105,-2.0137948989868164,-2.031364679336548,-2.7117233276367188,-2.30941104888916,-2.961547613143921,-2.181034564971924,-2.3054332733154297,-2.568220615386963,-2.8147292137145996,-2.8282415866851807,-2.073296070098877,-1.6520559787750244,-1.5451399087905884,-0.7103773355484009,-0.29559326171875,-0.4896364212036133,0.28345078229904175,0.05770373344421387,0.13678407669067383,0.3547457456588745,1.0619956254959106,1.1469095945358276,1.9109292030334473,2.3748199939727783,2.3090391159057617,2.8881642818450928,3.3453586101531982,2.3048737049102783,1.8715925216674805,2.717674493789673,2.856111526489258,3.3744473457336426,2.887389659881592,2.7030258178710938,2.398580312728882,3.3861591815948486,3.6234841346740723,-3.055304765701294,-2.145911455154419],[0.9217835664749146,0.3175550699234009,0.30165770649909973,0.4053744077682495,0.6135847568511963,-0.26281672716140747,-0.11439824104309082,-0.720146894454956,-1.3270759582519531,-1.4123634099960327,-1.269395112991333,-1.7327572107315063,-2.383904218673706,-2.412886381149292,-2.309364080429077,-2.2701330184936523,-2.0590505599975586,-2.3022656440734863,-2.122492790222168,-2.0512444972991943,-2.7215919494628906,-3.479733467102051,-3.453547477722168,-3.043243885040283,-2.3393683433532715,-2.4347286224365234,-1.670536756515503,-0.8987236022949219,-0.5366849303245544,0.13922500610351562,-0.1573803424835205,-0.4177998900413513,-0.5739243030548096,-0.22689461708068848,-0.2205619513988495,0.39122986793518066,1.2236223220825195,1.5927071571350098,2.7177438735961914,2.8978512287139893,2.1881489753723145,1.8870925903320312,2.4055514335632324,2.7716283798217773,3.0363810062408447,2.6661014556884766,2.83333158493042,2.491342782974243,3.755845546722412,4.165096282958984,-3.7721409797668457,-2.7502174377441406],[0.3832350969314575,0.1380874514579773,-0.1331053376197815,0.007413744926452637,-0.141798734664917,-0.6344795823097229,-0.6757872104644775,-1.188025712966919,-1.4917449951171875,-1.7264519929885864,-1.5615265369415283,-1.7601721286773682,-1.9960057735443115,-1.962168574333191,-1.7193095684051514,-2.201932907104492,-2.1843979358673096,-2.796551465988159,-2.8949804306030273,-2.5595436096191406,-2.55918288230896,-2.883510112762451,-2.8847150802612305,-2.5116326808929443,-2.0699315071105957,-2.0347769260406494,-1.238848328590393,-0.052692294120788574,0.11192536354064941,0.6722142696380615,0.2954537272453308,0.1795107126235962,-0.0031627416610717773,0.4162185490131378,0.6694572567939758,1.0985668897628784,1.8002092838287354,2.084893226623535,2.608588933944702,2.7588860988616943,2.3313827514648438,2.069826602935791,2.636415481567383,2.6807031631469727,3.3049299716949463,3.2105259895324707,3.2584564685821533,2.7280030250549316,3.6367063522338867,3.8403048515319824,-3.115300178527832,-2.379551887512207],[1.5462608337402344,1.4476598501205444,0.8746629953384399,0.8138236999511719,0.485819935798645,-0.025816261768341064,0.1513640284538269,-0.6167168617248535,-0.8332175612449646,-1.4149249792099,-1.388744592666626,-1.3053256273269653,-1.408900260925293,-1.0452944040298462,-0.9978835582733154,-1.4781724214553833,-0.8998591899871826,-1.3481087684631348,-1.5952486991882324,-1.5325051546096802,-1.9165910482406616,-2.531538963317871,-2.9664885997772217,-3.2265658378601074,-3.0228867530822754,-2.748290538787842,-1.5402967929840088,-0.3777427673339844,-0.45315101742744446,0.10245546698570251,-0.5189217329025269,-0.6405594944953918,-1.026889681816101,-0.6177346706390381,-0.585172176361084,-0.26285412907600403,0.5023722648620605,1.0311403274536133,1.9385931491851807,2.429849624633789,2.145948886871338,1.377596378326416,1.7534847259521484,1.6716077327728271,2.3832757472991943,2.2496438026428223,2.304717540740967,1.9858002662658691,2.642627716064453,2.6178841590881348,-3.2420754432678223,-2.9067139625549316],[-0.5816988945007324,-1.0628154277801514,-1.0228123664855957,-0.788452684879303,-0.9644219875335693,-1.4149887561798096,-1.4486459493637085,-1.8348884582519531,-2.243696689605713,-2.230863094329834,-1.8035707473754883,-1.826411247253418,-2.0378875732421875,-2.266322374343872,-2.68070387840271,-3.2758281230926514,-3.137786388397217,-3.272681713104248,-2.883450746536255,-2.823120594024658,-3.3095734119415283,-3.813416004180908,-3.9396133422851562,-3.1404170989990234,-2.590364456176758,-1.9704303741455078,-0.7888161540031433,-0.14562559127807617,0.07913631200790405,0.785114049911499,1.0579314231872559,0.917500913143158,0.5274441242218018,1.1649010181427002,1.0237939357757568,1.7291271686553955,2.447758674621582,2.889130115509033,3.4299395084381104,3.2788591384887695,3.440736770629883,2.929619312286377,3.7890536785125732,4.200468063354492,4.521454334259033,4.098255157470703,4.082542419433594,3.7636637687683105,4.61243200302124,4.983828544616699,-3.2974443435668945,-1.9268360137939453],[0.2295135110616684,-0.2520289421081543,-0.509709894657135,-0.16797935962677002,-0.03383779525756836,-0.6810778975486755,-0.24163222312927246,-0.8774173259735107,-1.8021470308303833,-1.795087456703186,-1.7538273334503174,-1.7968623638153076,-2.0917611122131348,-2.1781039237976074,-2.3171310424804688,-2.6730711460113525,-2.0071969032287598,-2.835019111633301,-2.582660675048828,-2.495652914047241,-3.318930149078369,-3.8900792598724365,-3.835114002227783,-3.1342501640319824,-2.446375608444214,-2.1872739791870117,-0.4558304250240326,-0.08578336238861084,-0.01422131061553955,0.4769229292869568,0.3086549937725067,0.2754061222076416,-0.15524441003799438,0.3863670527935028,0.646987795829773,1.5117918252944946,2.1052615642547607,2.403272867202759,3.1533727645874023,3.467329263687134,2.680209159851074,2.1213648319244385,2.793318748474121,3.182880401611328,3.7513980865478516,3.0001702308654785,2.9995574951171875,2.607248067855835,3.808335065841675,4.380357265472412,-3.432795763015747,-2.5202791690826416],[16.996646881103516,14.829248428344727,13.789454460144043,12.462165832519531,13.3754301071167,11.745655059814453,10.488903045654297,11.00348949432373,10.739944458007812,10.204395294189453,9.746736526489258,10.107151985168457,8.921209335327148,10.014638900756836,8.784295082092285,10.129636764526367,9.331647872924805,8.069952964782715,6.7632646560668945,6.582171440124512,4.510501384735107,3.619520425796509,3.7507944107055664,-0.20676803588867188,-1.3649781942367554,-3.5512256622314453,-5.624504089355469,-7.69080114364624,-7.725196361541748,-8.929723739624023,-10.386816024780273,-10.527068138122559,-11.262237548828125,-13.222079277038574,-11.02489948272705,-10.605971336364746,-11.686514854431152,-11.005002975463867,-10.69848346710205,-12.739295959472656,-13.88480281829834,-13.9236478805542,-13.111692428588867,-12.490909576416016,-13.039315223693848,-12.933361053466797,-13.026991844177246,-14.749174118041992,-14.464743614196777,-15.6365385055542,-7.00471830368042,-7.223779678344727],[8.9762601852417,9.231788635253906,8.642057418823242,8.443269729614258,8.41448974609375,8.849922180175781,8.688821792602539,9.506717681884766,9.949111938476562,10.516378402709961,10.927539825439453,11.594499588012695,10.729978561401367,11.188831329345703,11.417856216430664,11.59257698059082,11.310558319091797,10.713327407836914,9.581125259399414,8.892557144165039,6.186765670776367,4.20201301574707,1.9536957740783691,-0.47490453720092773,-3.5694632530212402,-5.419486045837402,-8.753913879394531,-9.669256210327148,-10.466206550598145,-11.624092102050781,-11.756753921508789,-11.554658889770508,-10.52664852142334,-11.721511840820312,-11.823318481445312,-11.280523300170898,-12.06523323059082,-11.279102325439453,-11.910321235656738,-12.907499313354492,-11.787771224975586,-11.490185737609863,-11.4524564743042,-11.822381019592285,-12.104881286621094,-12.35790729522705,-11.225242614746094,-11.240577697753906,-12.685379028320312,-12.722899436950684,-1.9025262594223022,1.118929386138916],[2.3289480209350586,2.7952311038970947,2.5789597034454346,2.583817720413208,2.317413330078125,3.149371385574341,3.10434627532959,3.9591293334960938,4.843210220336914,5.325000286102295,5.942972183227539,6.6942949295043945,6.498956680297852,6.635890007019043,7.128937721252441,7.160051345825195,7.270949363708496,7.161766529083252,5.933725357055664,5.14608907699585,3.4526023864746094,2.546415328979492,0.9932712316513062,-0.4292418956756592,-2.949138641357422,-3.6270534992218018,-5.483608245849609,-5.678024768829346,-5.734542369842529,-6.365424156188965,-6.3594465255737305,-5.922033309936523,-5.109493732452393,-5.84736442565918,-5.762113571166992,-5.511971950531006,-5.746885299682617,-5.848803520202637,-6.722723960876465,-7.159116744995117,-5.840466022491455,-5.172682762145996,-5.5881218910217285,-6.181059837341309,-6.229194641113281,-5.859992504119873,-5.689723014831543,-5.2895684242248535,-7.0084638595581055,-7.2786407470703125,0.4210425615310669,4.863462448120117],[-1.083578109741211,-0.7068372964859009,-0.567326545715332,-0.6377027034759521,-0.8838745355606079,0.2501707077026367,0.08160972595214844,0.9549933671951294,1.8917518854141235,2.258730411529541,2.8286190032958984,3.7356319427490234,3.7624478340148926,3.854541540145874,4.369020462036133,4.75214958190918,4.773703575134277,4.8088555335998535,3.763936758041382,3.2458300590515137,2.139451503753662,2.058913230895996,1.0519496202468872,0.59184730052948,-1.2382292747497559,-1.4746891260147095,-2.502009868621826,-2.6781063079833984,-2.685220956802368,-3.1024773120880127,-2.9086732864379883,-2.427304744720459,-1.6569888591766357,-2.341898202896118,-2.3445069789886475,-2.101494550704956,-2.328037738800049,-2.5330398082733154,-3.525002956390381,-4.214184284210205,-2.9172658920288086,-2.021028757095337,-2.5642147064208984,-3.0763649940490723,-3.1449925899505615,-2.733706474304199,-2.6066720485687256,-2.1043195724487305,-3.9649276733398438,-4.31628942489624,2.0197231769561768,6.468443870544434],[-3.8352549076080322,-3.3891429901123047,-3.275813102722168,-3.263744354248047,-3.526092052459717,-2.2792582511901855,-2.4257731437683105,-1.4903230667114258,-0.6383482217788696,-0.12428998947143555,0.4616999924182892,1.2071094512939453,1.606132984161377,1.4231442213058472,2.062192440032959,2.6121726036071777,2.602275848388672,2.9334964752197266,2.214904308319092,1.8422706127166748,1.1892125606536865,1.6888139247894287,1.1125738620758057,1.590061902999878,0.6218535304069519,0.8073110580444336,0.22571724653244019,0.17383015155792236,0.06622162461280823,-0.3064456880092621,-0.07542824745178223,0.4626673460006714,1.0667672157287598,0.41557902097702026,0.39348703622817993,0.5875917673110962,0.08924245834350586,0.11482787132263184,-0.9908686876296997,-1.5896903276443481,-0.42116308212280273,0.3221014142036438,-0.08335041999816895,-0.707663357257843,-0.763105571269989,-0.34282925724983215,-0.3268146812915802,0.46913790702819824,-1.4499752521514893,-1.8563811779022217,3.393068313598633,7.55604362487793],[-5.744790554046631,-5.335226535797119,-5.17246150970459,-5.167725563049316,-5.3664727210998535,-4.053443908691406,-4.1090240478515625,-3.187279462814331,-2.4130988121032715,-2.012190103530884,-1.5274710655212402,-0.6753102540969849,-0.31475162506103516,-0.6317166090011597,0.27749550342559814,0.7082431316375732,0.7265520095825195,1.3544045686721802,0.9814339876174927,0.9411066174507141,1.1079585552215576,1.8898001909255981,2.01641845703125,3.001405715942383,2.1741065979003906,2.9474565982818604,2.561842918395996,2.245074987411499,2.3367228507995605,1.7771222591400146,2.022198438644409,2.443737030029297,2.953580856323242,2.637537956237793,2.585233449935913,2.754629611968994,2.3383774757385254,2.24993896484375,1.106744408607483,0.5880093574523926,1.5178940296173096,2.1473584175109863,1.733585000038147,1.1293401718139648,1.00807785987854,1.281303882598877,1.3718571662902832,2.2104344367980957,0.486059308052063,0.014379262924194336,4.53936767578125,7.932650566101074],[-8.303449630737305,-7.978506088256836,-7.601018905639648,-7.5138654708862305,-7.673443794250488,-6.2686920166015625,-6.505193710327148,-5.622372627258301,-4.662994384765625,-4.31672477722168,-3.959630012512207,-2.826880931854248,-2.369608163833618,-2.852646589279175,-1.980628490447998,-1.60331130027771,-1.3667643070220947,-0.6622214913368225,-0.6950788497924805,-0.6300848722457886,0.07151985168457031,1.3145123720169067,1.9793483018875122,3.7712349891662598,3.419311285018921,5.004170894622803,5.147716522216797,4.790064811706543,5.013591289520264,4.6812896728515625,5.087650299072266,5.441301345825195,5.834187030792236,5.644199371337891,5.125566482543945,5.316704750061035,4.775047302246094,4.954999923706055,3.620114326477051,3.153456449508667,4.024029731750488,4.72681999206543,4.3860321044921875,3.8206136226654053,3.7153592109680176,3.97526216506958,4.196994781494141,5.017429351806641,3.1403815746307373,2.766653060913086,5.63887357711792,8.498550415039062],[-11.313255310058594,-10.973886489868164,-10.326410293579102,-10.205851554870605,-10.327814102172852,-9.267668724060059,-9.371469497680664,-8.70107650756836,-7.592532157897949,-7.323724269866943,-6.7779541015625,-5.78879451751709,-5.0256123542785645,-5.691420555114746,-4.7732133865356445,-4.4498090744018555,-4.383230686187744,-3.282895088195801,-2.8533616065979004,-2.3053741455078125,-0.39056992530822754,1.3634543418884277,2.3519842624664307,5.372544288635254,5.696959018707275,7.458194732666016,7.908733367919922,7.7189226150512695,8.038415908813477,7.45596981048584,8.055505752563477,8.434064865112305,8.769136428833008,8.972673416137695,8.490998268127441,8.466459274291992,8.085177421569824,8.315117835998535,6.907319068908691,6.616697788238525,7.566723346710205,8.246843338012695,8.013346672058105,7.393442630767822,7.231555461883545,7.40948486328125,7.6489362716674805,8.470159530639648,6.529813289642334,5.895634174346924,6.782625198364258,9.019144058227539],[-15.838815689086914,-15.253206253051758,-14.735231399536133,-14.287781715393066,-13.744543075561523,-13.342613220214844,-13.4859037399292,-13.007240295410156,-11.569777488708496,-11.010947227478027,-10.757731437683105,-9.745284080505371,-8.612943649291992,-9.200033187866211,-7.969252586364746,-7.87565279006958,-7.055399417877197,-5.4845781326293945,-4.107535362243652,-2.862354040145874,0.4758632183074951,2.3914437294006348,4.344999313354492,8.561768531799316,9.204425811767578,11.824484825134277,12.186607360839844,11.918811798095703,12.16775894165039,11.021478652954102,11.805598258972168,12.674676895141602,13.027809143066406,13.182255744934082,12.668868064880371,12.814846992492676,11.95125675201416,12.522258758544922,11.21222972869873,11.32968521118164,11.73970890045166,12.685951232910156,12.467286109924316,11.87105941772461,11.461187362670898,11.34103012084961,11.994675636291504,12.771286010742188,10.596624374389648,10.054634094238281,9.17259693145752,10.379660606384277],[-49.81991195678711,-44.48393630981445,-41.77922058105469,-31.83619499206543,-29.015750885009766,-31.90473175048828,-31.071735382080078,-30.668148040771484,-32.665306091308594,-33.43267822265625,-33.48577117919922,-35.88883972167969,-40.578800201416016,-52.94699478149414,-44.77627182006836,-43.18882751464844,-45.627532958984375,-38.88680648803711,-33.62976837158203,-34.2132568359375,-16.231595993041992,-6.750463962554932,2.523555278778076,12.6919584274292,13.723724365234375,19.371658325195312,20.27529525756836,22.444477081298828,26.237754821777344,25.63214111328125,27.830852508544922,30.204662322998047,28.97612762451172,31.729923248291016,32.864097595214844,33.525657653808594,35.33986282348633,33.943511962890625,33.54354476928711,36.97726058959961,37.39613723754883,39.97174072265625,42.933876037597656,43.67521286010742,45.81510543823242,46.697998046875,50.849037170410156,56.3622932434082,62.596527099609375,73.4726333618164,5.309708595275879,9.984201431274414],[-0.5255455374717712,-0.39025387167930603,-0.5938228964805603,-0.6113929152488708,-0.6669226288795471,-0.04491090029478073,0.23053480684757233,-0.03575802594423294,-0.4097052216529846,-0.3279270529747009,0.056295245885849,-0.43989869952201843,-0.05399255082011223,0.41392451524734497,-0.8341597318649292,-0.18071870505809784,0.28547242283821106,-0.24411720037460327,-0.32788604497909546,-0.8977309465408325,-0.6135045886039734,-0.35493993759155273,-0.7767201662063599,-1.4057276248931885,-0.3816157579421997,-0.133316308259964,0.28198012709617615,0.12798337638378143,-0.569724977016449,-0.11427390575408936,-0.0009650960564613342,0.017907068133354187,0.3130013048648834,0.7415012717247009,0.7747634053230286,1.1657416820526123,1.2477359771728516,0.8595569133758545,0.5517245531082153,0.8348225951194763,0.8428762555122375,0.13160192966461182,0.09021878987550735,0.5239264965057373,0.273478239774704,0.2945971190929413,0.28740638494491577,0.40208715200424194,0.4515983462333679,0.3775143623352051,-0.1192430779337883,0.12616722285747528]],\"type\":\"heatmap\",\"xaxis\":\"x\",\"yaxis\":\"y\",\"hovertemplate\":\"src token: %{x}<br>dest pos: %{y}<br>color: %{z}<extra></extra>\"}],                        {\"template\":{\"data\":{\"histogram2dcontour\":[{\"type\":\"histogram2dcontour\",\"colorbar\":{\"outlinewidth\":0,\"ticks\":\"\"},\"colorscale\":[[0.0,\"#0d0887\"],[0.1111111111111111,\"#46039f\"],[0.2222222222222222,\"#7201a8\"],[0.3333333333333333,\"#9c179e\"],[0.4444444444444444,\"#bd3786\"],[0.5555555555555556,\"#d8576b\"],[0.6666666666666666,\"#ed7953\"],[0.7777777777777778,\"#fb9f3a\"],[0.8888888888888888,\"#fdca26\"],[1.0,\"#f0f921\"]]}],\"choropleth\":[{\"type\":\"choropleth\",\"colorbar\":{\"outlinewidth\":0,\"ticks\":\"\"}}],\"histogram2d\":[{\"type\":\"histogram2d\",\"colorbar\":{\"outlinewidth\":0,\"ticks\":\"\"},\"colorscale\":[[0.0,\"#0d0887\"],[0.1111111111111111,\"#46039f\"],[0.2222222222222222,\"#7201a8\"],[0.3333333333333333,\"#9c179e\"],[0.4444444444444444,\"#bd3786\"],[0.5555555555555556,\"#d8576b\"],[0.6666666666666666,\"#ed7953\"],[0.7777777777777778,\"#fb9f3a\"],[0.8888888888888888,\"#fdca26\"],[1.0,\"#f0f921\"]]}],\"heatmap\":[{\"type\":\"heatmap\",\"colorbar\":{\"outlinewidth\":0,\"ticks\":\"\"},\"colorscale\":[[0.0,\"#0d0887\"],[0.1111111111111111,\"#46039f\"],[0.2222222222222222,\"#7201a8\"],[0.3333333333333333,\"#9c179e\"],[0.4444444444444444,\"#bd3786\"],[0.5555555555555556,\"#d8576b\"],[0.6666666666666666,\"#ed7953\"],[0.7777777777777778,\"#fb9f3a\"],[0.8888888888888888,\"#fdca26\"],[1.0,\"#f0f921\"]]}],\"heatmapgl\":[{\"type\":\"heatmapgl\",\"colorbar\":{\"outlinewidth\":0,\"ticks\":\"\"},\"colorscale\":[[0.0,\"#0d0887\"],[0.1111111111111111,\"#46039f\"],[0.2222222222222222,\"#7201a8\"],[0.3333333333333333,\"#9c179e\"],[0.4444444444444444,\"#bd3786\"],[0.5555555555555556,\"#d8576b\"],[0.6666666666666666,\"#ed7953\"],[0.7777777777777778,\"#fb9f3a\"],[0.8888888888888888,\"#fdca26\"],[1.0,\"#f0f921\"]]}],\"contourcarpet\":[{\"type\":\"contourcarpet\",\"colorbar\":{\"outlinewidth\":0,\"ticks\":\"\"}}],\"contour\":[{\"type\":\"contour\",\"colorbar\":{\"outlinewidth\":0,\"ticks\":\"\"},\"colorscale\":[[0.0,\"#0d0887\"],[0.1111111111111111,\"#46039f\"],[0.2222222222222222,\"#7201a8\"],[0.3333333333333333,\"#9c179e\"],[0.4444444444444444,\"#bd3786\"],[0.5555555555555556,\"#d8576b\"],[0.6666666666666666,\"#ed7953\"],[0.7777777777777778,\"#fb9f3a\"],[0.8888888888888888,\"#fdca26\"],[1.0,\"#f0f921\"]]}],\"surface\":[{\"type\":\"surface\",\"colorbar\":{\"outlinewidth\":0,\"ticks\":\"\"},\"colorscale\":[[0.0,\"#0d0887\"],[0.1111111111111111,\"#46039f\"],[0.2222222222222222,\"#7201a8\"],[0.3333333333333333,\"#9c179e\"],[0.4444444444444444,\"#bd3786\"],[0.5555555555555556,\"#d8576b\"],[0.6666666666666666,\"#ed7953\"],[0.7777777777777778,\"#fb9f3a\"],[0.8888888888888888,\"#fdca26\"],[1.0,\"#f0f921\"]]}],\"mesh3d\":[{\"type\":\"mesh3d\",\"colorbar\":{\"outlinewidth\":0,\"ticks\":\"\"}}],\"scatter\":[{\"fillpattern\":{\"fillmode\":\"overlay\",\"size\":10,\"solidity\":0.2},\"type\":\"scatter\"}],\"parcoords\":[{\"type\":\"parcoords\",\"line\":{\"colorbar\":{\"outlinewidth\":0,\"ticks\":\"\"}}}],\"scatterpolargl\":[{\"type\":\"scatterpolargl\",\"marker\":{\"colorbar\":{\"outlinewidth\":0,\"ticks\":\"\"}}}],\"bar\":[{\"error_x\":{\"color\":\"#2a3f5f\"},\"error_y\":{\"color\":\"#2a3f5f\"},\"marker\":{\"line\":{\"color\":\"#E5ECF6\",\"width\":0.5},\"pattern\":{\"fillmode\":\"overlay\",\"size\":10,\"solidity\":0.2}},\"type\":\"bar\"}],\"scattergeo\":[{\"type\":\"scattergeo\",\"marker\":{\"colorbar\":{\"outlinewidth\":0,\"ticks\":\"\"}}}],\"scatterpolar\":[{\"type\":\"scatterpolar\",\"marker\":{\"colorbar\":{\"outlinewidth\":0,\"ticks\":\"\"}}}],\"histogram\":[{\"marker\":{\"pattern\":{\"fillmode\":\"overlay\",\"size\":10,\"solidity\":0.2}},\"type\":\"histogram\"}],\"scattergl\":[{\"type\":\"scattergl\",\"marker\":{\"colorbar\":{\"outlinewidth\":0,\"ticks\":\"\"}}}],\"scatter3d\":[{\"type\":\"scatter3d\",\"line\":{\"colorbar\":{\"outlinewidth\":0,\"ticks\":\"\"}},\"marker\":{\"colorbar\":{\"outlinewidth\":0,\"ticks\":\"\"}}}],\"scattermapbox\":[{\"type\":\"scattermapbox\",\"marker\":{\"colorbar\":{\"outlinewidth\":0,\"ticks\":\"\"}}}],\"scatterternary\":[{\"type\":\"scatterternary\",\"marker\":{\"colorbar\":{\"outlinewidth\":0,\"ticks\":\"\"}}}],\"scattercarpet\":[{\"type\":\"scattercarpet\",\"marker\":{\"colorbar\":{\"outlinewidth\":0,\"ticks\":\"\"}}}],\"carpet\":[{\"aaxis\":{\"endlinecolor\":\"#2a3f5f\",\"gridcolor\":\"white\",\"linecolor\":\"white\",\"minorgridcolor\":\"white\",\"startlinecolor\":\"#2a3f5f\"},\"baxis\":{\"endlinecolor\":\"#2a3f5f\",\"gridcolor\":\"white\",\"linecolor\":\"white\",\"minorgridcolor\":\"white\",\"startlinecolor\":\"#2a3f5f\"},\"type\":\"carpet\"}],\"table\":[{\"cells\":{\"fill\":{\"color\":\"#EBF0F8\"},\"line\":{\"color\":\"white\"}},\"header\":{\"fill\":{\"color\":\"#C8D4E3\"},\"line\":{\"color\":\"white\"}},\"type\":\"table\"}],\"barpolar\":[{\"marker\":{\"line\":{\"color\":\"#E5ECF6\",\"width\":0.5},\"pattern\":{\"fillmode\":\"overlay\",\"size\":10,\"solidity\":0.2}},\"type\":\"barpolar\"}],\"pie\":[{\"automargin\":true,\"type\":\"pie\"}]},\"layout\":{\"autotypenumbers\":\"strict\",\"colorway\":[\"#636efa\",\"#EF553B\",\"#00cc96\",\"#ab63fa\",\"#FFA15A\",\"#19d3f3\",\"#FF6692\",\"#B6E880\",\"#FF97FF\",\"#FECB52\"],\"font\":{\"color\":\"#2a3f5f\"},\"hovermode\":\"closest\",\"hoverlabel\":{\"align\":\"left\"},\"paper_bgcolor\":\"white\",\"plot_bgcolor\":\"#E5ECF6\",\"polar\":{\"bgcolor\":\"#E5ECF6\",\"angularaxis\":{\"gridcolor\":\"white\",\"linecolor\":\"white\",\"ticks\":\"\"},\"radialaxis\":{\"gridcolor\":\"white\",\"linecolor\":\"white\",\"ticks\":\"\"}},\"ternary\":{\"bgcolor\":\"#E5ECF6\",\"aaxis\":{\"gridcolor\":\"white\",\"linecolor\":\"white\",\"ticks\":\"\"},\"baxis\":{\"gridcolor\":\"white\",\"linecolor\":\"white\",\"ticks\":\"\"},\"caxis\":{\"gridcolor\":\"white\",\"linecolor\":\"white\",\"ticks\":\"\"}},\"coloraxis\":{\"colorbar\":{\"outlinewidth\":0,\"ticks\":\"\"}},\"colorscale\":{\"sequential\":[[0.0,\"#0d0887\"],[0.1111111111111111,\"#46039f\"],[0.2222222222222222,\"#7201a8\"],[0.3333333333333333,\"#9c179e\"],[0.4444444444444444,\"#bd3786\"],[0.5555555555555556,\"#d8576b\"],[0.6666666666666666,\"#ed7953\"],[0.7777777777777778,\"#fb9f3a\"],[0.8888888888888888,\"#fdca26\"],[1.0,\"#f0f921\"]],\"sequentialminus\":[[0.0,\"#0d0887\"],[0.1111111111111111,\"#46039f\"],[0.2222222222222222,\"#7201a8\"],[0.3333333333333333,\"#9c179e\"],[0.4444444444444444,\"#bd3786\"],[0.5555555555555556,\"#d8576b\"],[0.6666666666666666,\"#ed7953\"],[0.7777777777777778,\"#fb9f3a\"],[0.8888888888888888,\"#fdca26\"],[1.0,\"#f0f921\"]],\"diverging\":[[0,\"#8e0152\"],[0.1,\"#c51b7d\"],[0.2,\"#de77ae\"],[0.3,\"#f1b6da\"],[0.4,\"#fde0ef\"],[0.5,\"#f7f7f7\"],[0.6,\"#e6f5d0\"],[0.7,\"#b8e186\"],[0.8,\"#7fbc41\"],[0.9,\"#4d9221\"],[1,\"#276419\"]]},\"xaxis\":{\"gridcolor\":\"white\",\"linecolor\":\"white\",\"ticks\":\"\",\"title\":{\"standoff\":15},\"zerolinecolor\":\"white\",\"automargin\":true,\"zerolinewidth\":2},\"yaxis\":{\"gridcolor\":\"white\",\"linecolor\":\"white\",\"ticks\":\"\",\"title\":{\"standoff\":15},\"zerolinecolor\":\"white\",\"automargin\":true,\"zerolinewidth\":2},\"scene\":{\"xaxis\":{\"backgroundcolor\":\"#E5ECF6\",\"gridcolor\":\"white\",\"linecolor\":\"white\",\"showbackground\":true,\"ticks\":\"\",\"zerolinecolor\":\"white\",\"gridwidth\":2},\"yaxis\":{\"backgroundcolor\":\"#E5ECF6\",\"gridcolor\":\"white\",\"linecolor\":\"white\",\"showbackground\":true,\"ticks\":\"\",\"zerolinecolor\":\"white\",\"gridwidth\":2},\"zaxis\":{\"backgroundcolor\":\"#E5ECF6\",\"gridcolor\":\"white\",\"linecolor\":\"white\",\"showbackground\":true,\"ticks\":\"\",\"zerolinecolor\":\"white\",\"gridwidth\":2}},\"shapedefaults\":{\"line\":{\"color\":\"#2a3f5f\"}},\"annotationdefaults\":{\"arrowcolor\":\"#2a3f5f\",\"arrowhead\":0,\"arrowwidth\":1},\"geo\":{\"bgcolor\":\"white\",\"landcolor\":\"#E5ECF6\",\"subunitcolor\":\"white\",\"showland\":true,\"showlakes\":true,\"lakecolor\":\"white\"},\"title\":{\"x\":0.05},\"mapbox\":{\"style\":\"light\"}}},\"xaxis\":{\"anchor\":\"y\",\"domain\":[0.0,1.0],\"scaleanchor\":\"y\",\"constrain\":\"domain\",\"title\":{\"text\":\"src token\"}},\"yaxis\":{\"anchor\":\"x\",\"domain\":[0.0,1.0],\"autorange\":\"reversed\",\"constrain\":\"domain\",\"title\":{\"text\":\"dest pos\"}},\"coloraxis\":{\"colorscale\":[[0.0,\"rgb(103,0,31)\"],[0.1,\"rgb(178,24,43)\"],[0.2,\"rgb(214,96,77)\"],[0.3,\"rgb(244,165,130)\"],[0.4,\"rgb(253,219,199)\"],[0.5,\"rgb(247,247,247)\"],[0.6,\"rgb(209,229,240)\"],[0.7,\"rgb(146,197,222)\"],[0.8,\"rgb(67,147,195)\"],[0.9,\"rgb(33,102,172)\"],[1.0,\"rgb(5,48,97)\"]],\"cmid\":0.0},\"title\":{\"text\":\"attn 0.0 full QK circuit W_pos @ W_QK @ W_E.T\"}},                        {\"responsive\": true}                    ).then(function(){\n",
              "                            \n",
              "var gd = document.getElementById('fbdbd35a-1aeb-4401-886d-1a60c3b3c541');\n",
              "var x = new MutationObserver(function (mutations, observer) {{\n",
              "        var display = window.getComputedStyle(gd).display;\n",
              "        if (!display || display === 'none') {{\n",
              "            console.log([gd, 'removed!']);\n",
              "            Plotly.purge(gd);\n",
              "            observer.disconnect();\n",
              "        }}\n",
              "}});\n",
              "\n",
              "// Listen for the removal of the full notebook cells\n",
              "var notebookContainer = gd.closest('#notebook-container');\n",
              "if (notebookContainer) {{\n",
              "    x.observe(notebookContainer, {childList: true});\n",
              "}}\n",
              "\n",
              "// Listen for the clearing of the current output cell\n",
              "var outputEl = gd.closest('.output');\n",
              "if (outputEl) {{\n",
              "    x.observe(outputEl, {childList: true});\n",
              "}}\n",
              "\n",
              "                        })                };                            </script>        </div>\n",
              "</body>\n",
              "</html>"
            ]
          },
          "metadata": {}
        }
      ]
    },
    {
      "cell_type": "markdown",
      "source": [
        "Let's zoom in on the destination positions corresponding to the actual predictions. (11-20)"
      ],
      "metadata": {
        "id": "5GpG1WQNeSE4"
      }
    },
    {
      "cell_type": "code",
      "source": [
        "imshow(\n",
        "    full_QK_circuit[LIST_LEN+1:-1, :-2],\n",
        "    title=\"attn 0.0 full QK circuit W_pos @ W_QK @ W_E.T\",\n",
        "    yaxis=\"dest prediction pos\", xaxis=\"src token\"\n",
        ")"
      ],
      "metadata": {
        "colab": {
          "base_uri": "https://localhost:8080/",
          "height": 542
        },
        "id": "BmiZAFoAeUnU",
        "outputId": "3e666c2c-4884-4092-f35f-0dbe4799565f"
      },
      "execution_count": 29,
      "outputs": [
        {
          "output_type": "display_data",
          "data": {
            "text/html": [
              "<html>\n",
              "<head><meta charset=\"utf-8\" /></head>\n",
              "<body>\n",
              "    <div>            <script src=\"https://cdnjs.cloudflare.com/ajax/libs/mathjax/2.7.5/MathJax.js?config=TeX-AMS-MML_SVG\"></script><script type=\"text/javascript\">if (window.MathJax && window.MathJax.Hub && window.MathJax.Hub.Config) {window.MathJax.Hub.Config({SVG: {font: \"STIX-Web\"}});}</script>                <script type=\"text/javascript\">window.PlotlyConfig = {MathJaxConfig: 'local'};</script>\n",
              "        <script src=\"https://cdn.plot.ly/plotly-2.18.2.min.js\"></script>                <div id=\"345aba2d-cb11-49ca-83c8-a5c8510c42c4\" class=\"plotly-graph-div\" style=\"height:525px; width:100%;\"></div>            <script type=\"text/javascript\">                                    window.PLOTLYENV=window.PLOTLYENV || {};                                    if (document.getElementById(\"345aba2d-cb11-49ca-83c8-a5c8510c42c4\")) {                    Plotly.newPlot(                        \"345aba2d-cb11-49ca-83c8-a5c8510c42c4\",                        [{\"coloraxis\":\"coloraxis\",\"name\":\"0\",\"z\":[[16.996646881103516,14.829248428344727,13.789454460144043,12.462165832519531,13.3754301071167,11.745655059814453,10.488903045654297,11.00348949432373,10.739944458007812,10.204395294189453,9.746736526489258,10.107151985168457,8.921209335327148,10.014638900756836,8.784295082092285,10.129636764526367,9.331647872924805,8.069952964782715,6.7632646560668945,6.582171440124512,4.510501384735107,3.619520425796509,3.7507944107055664,-0.20676803588867188,-1.3649781942367554,-3.5512256622314453,-5.624504089355469,-7.69080114364624,-7.725196361541748,-8.929723739624023,-10.386816024780273,-10.527068138122559,-11.262237548828125,-13.222079277038574,-11.02489948272705,-10.605971336364746,-11.686514854431152,-11.005002975463867,-10.69848346710205,-12.739295959472656,-13.88480281829834,-13.9236478805542,-13.111692428588867,-12.490909576416016,-13.039315223693848,-12.933361053466797,-13.026991844177246,-14.749174118041992,-14.464743614196777,-15.6365385055542],[8.9762601852417,9.231788635253906,8.642057418823242,8.443269729614258,8.41448974609375,8.849922180175781,8.688821792602539,9.506717681884766,9.949111938476562,10.516378402709961,10.927539825439453,11.594499588012695,10.729978561401367,11.188831329345703,11.417856216430664,11.59257698059082,11.310558319091797,10.713327407836914,9.581125259399414,8.892557144165039,6.186765670776367,4.20201301574707,1.9536957740783691,-0.47490453720092773,-3.5694632530212402,-5.419486045837402,-8.753913879394531,-9.669256210327148,-10.466206550598145,-11.624092102050781,-11.756753921508789,-11.554658889770508,-10.52664852142334,-11.721511840820312,-11.823318481445312,-11.280523300170898,-12.06523323059082,-11.279102325439453,-11.910321235656738,-12.907499313354492,-11.787771224975586,-11.490185737609863,-11.4524564743042,-11.822381019592285,-12.104881286621094,-12.35790729522705,-11.225242614746094,-11.240577697753906,-12.685379028320312,-12.722899436950684],[2.3289480209350586,2.7952311038970947,2.5789597034454346,2.583817720413208,2.317413330078125,3.149371385574341,3.10434627532959,3.9591293334960938,4.843210220336914,5.325000286102295,5.942972183227539,6.6942949295043945,6.498956680297852,6.635890007019043,7.128937721252441,7.160051345825195,7.270949363708496,7.161766529083252,5.933725357055664,5.14608907699585,3.4526023864746094,2.546415328979492,0.9932712316513062,-0.4292418956756592,-2.949138641357422,-3.6270534992218018,-5.483608245849609,-5.678024768829346,-5.734542369842529,-6.365424156188965,-6.3594465255737305,-5.922033309936523,-5.109493732452393,-5.84736442565918,-5.762113571166992,-5.511971950531006,-5.746885299682617,-5.848803520202637,-6.722723960876465,-7.159116744995117,-5.840466022491455,-5.172682762145996,-5.5881218910217285,-6.181059837341309,-6.229194641113281,-5.859992504119873,-5.689723014831543,-5.2895684242248535,-7.0084638595581055,-7.2786407470703125],[-1.083578109741211,-0.7068372964859009,-0.567326545715332,-0.6377027034759521,-0.8838745355606079,0.2501707077026367,0.08160972595214844,0.9549933671951294,1.8917518854141235,2.258730411529541,2.8286190032958984,3.7356319427490234,3.7624478340148926,3.854541540145874,4.369020462036133,4.75214958190918,4.773703575134277,4.8088555335998535,3.763936758041382,3.2458300590515137,2.139451503753662,2.058913230895996,1.0519496202468872,0.59184730052948,-1.2382292747497559,-1.4746891260147095,-2.502009868621826,-2.6781063079833984,-2.685220956802368,-3.1024773120880127,-2.9086732864379883,-2.427304744720459,-1.6569888591766357,-2.341898202896118,-2.3445069789886475,-2.101494550704956,-2.328037738800049,-2.5330398082733154,-3.525002956390381,-4.214184284210205,-2.9172658920288086,-2.021028757095337,-2.5642147064208984,-3.0763649940490723,-3.1449925899505615,-2.733706474304199,-2.6066720485687256,-2.1043195724487305,-3.9649276733398438,-4.31628942489624],[-3.8352549076080322,-3.3891429901123047,-3.275813102722168,-3.263744354248047,-3.526092052459717,-2.2792582511901855,-2.4257731437683105,-1.4903230667114258,-0.6383482217788696,-0.12428998947143555,0.4616999924182892,1.2071094512939453,1.606132984161377,1.4231442213058472,2.062192440032959,2.6121726036071777,2.602275848388672,2.9334964752197266,2.214904308319092,1.8422706127166748,1.1892125606536865,1.6888139247894287,1.1125738620758057,1.590061902999878,0.6218535304069519,0.8073110580444336,0.22571724653244019,0.17383015155792236,0.06622162461280823,-0.3064456880092621,-0.07542824745178223,0.4626673460006714,1.0667672157287598,0.41557902097702026,0.39348703622817993,0.5875917673110962,0.08924245834350586,0.11482787132263184,-0.9908686876296997,-1.5896903276443481,-0.42116308212280273,0.3221014142036438,-0.08335041999816895,-0.707663357257843,-0.763105571269989,-0.34282925724983215,-0.3268146812915802,0.46913790702819824,-1.4499752521514893,-1.8563811779022217],[-5.744790554046631,-5.335226535797119,-5.17246150970459,-5.167725563049316,-5.3664727210998535,-4.053443908691406,-4.1090240478515625,-3.187279462814331,-2.4130988121032715,-2.012190103530884,-1.5274710655212402,-0.6753102540969849,-0.31475162506103516,-0.6317166090011597,0.27749550342559814,0.7082431316375732,0.7265520095825195,1.3544045686721802,0.9814339876174927,0.9411066174507141,1.1079585552215576,1.8898001909255981,2.01641845703125,3.001405715942383,2.1741065979003906,2.9474565982818604,2.561842918395996,2.245074987411499,2.3367228507995605,1.7771222591400146,2.022198438644409,2.443737030029297,2.953580856323242,2.637537956237793,2.585233449935913,2.754629611968994,2.3383774757385254,2.24993896484375,1.106744408607483,0.5880093574523926,1.5178940296173096,2.1473584175109863,1.733585000038147,1.1293401718139648,1.00807785987854,1.281303882598877,1.3718571662902832,2.2104344367980957,0.486059308052063,0.014379262924194336],[-8.303449630737305,-7.978506088256836,-7.601018905639648,-7.5138654708862305,-7.673443794250488,-6.2686920166015625,-6.505193710327148,-5.622372627258301,-4.662994384765625,-4.31672477722168,-3.959630012512207,-2.826880931854248,-2.369608163833618,-2.852646589279175,-1.980628490447998,-1.60331130027771,-1.3667643070220947,-0.6622214913368225,-0.6950788497924805,-0.6300848722457886,0.07151985168457031,1.3145123720169067,1.9793483018875122,3.7712349891662598,3.419311285018921,5.004170894622803,5.147716522216797,4.790064811706543,5.013591289520264,4.6812896728515625,5.087650299072266,5.441301345825195,5.834187030792236,5.644199371337891,5.125566482543945,5.316704750061035,4.775047302246094,4.954999923706055,3.620114326477051,3.153456449508667,4.024029731750488,4.72681999206543,4.3860321044921875,3.8206136226654053,3.7153592109680176,3.97526216506958,4.196994781494141,5.017429351806641,3.1403815746307373,2.766653060913086],[-11.313255310058594,-10.973886489868164,-10.326410293579102,-10.205851554870605,-10.327814102172852,-9.267668724060059,-9.371469497680664,-8.70107650756836,-7.592532157897949,-7.323724269866943,-6.7779541015625,-5.78879451751709,-5.0256123542785645,-5.691420555114746,-4.7732133865356445,-4.4498090744018555,-4.383230686187744,-3.282895088195801,-2.8533616065979004,-2.3053741455078125,-0.39056992530822754,1.3634543418884277,2.3519842624664307,5.372544288635254,5.696959018707275,7.458194732666016,7.908733367919922,7.7189226150512695,8.038415908813477,7.45596981048584,8.055505752563477,8.434064865112305,8.769136428833008,8.972673416137695,8.490998268127441,8.466459274291992,8.085177421569824,8.315117835998535,6.907319068908691,6.616697788238525,7.566723346710205,8.246843338012695,8.013346672058105,7.393442630767822,7.231555461883545,7.40948486328125,7.6489362716674805,8.470159530639648,6.529813289642334,5.895634174346924],[-15.838815689086914,-15.253206253051758,-14.735231399536133,-14.287781715393066,-13.744543075561523,-13.342613220214844,-13.4859037399292,-13.007240295410156,-11.569777488708496,-11.010947227478027,-10.757731437683105,-9.745284080505371,-8.612943649291992,-9.200033187866211,-7.969252586364746,-7.87565279006958,-7.055399417877197,-5.4845781326293945,-4.107535362243652,-2.862354040145874,0.4758632183074951,2.3914437294006348,4.344999313354492,8.561768531799316,9.204425811767578,11.824484825134277,12.186607360839844,11.918811798095703,12.16775894165039,11.021478652954102,11.805598258972168,12.674676895141602,13.027809143066406,13.182255744934082,12.668868064880371,12.814846992492676,11.95125675201416,12.522258758544922,11.21222972869873,11.32968521118164,11.73970890045166,12.685951232910156,12.467286109924316,11.87105941772461,11.461187362670898,11.34103012084961,11.994675636291504,12.771286010742188,10.596624374389648,10.054634094238281],[-49.81991195678711,-44.48393630981445,-41.77922058105469,-31.83619499206543,-29.015750885009766,-31.90473175048828,-31.071735382080078,-30.668148040771484,-32.665306091308594,-33.43267822265625,-33.48577117919922,-35.88883972167969,-40.578800201416016,-52.94699478149414,-44.77627182006836,-43.18882751464844,-45.627532958984375,-38.88680648803711,-33.62976837158203,-34.2132568359375,-16.231595993041992,-6.750463962554932,2.523555278778076,12.6919584274292,13.723724365234375,19.371658325195312,20.27529525756836,22.444477081298828,26.237754821777344,25.63214111328125,27.830852508544922,30.204662322998047,28.97612762451172,31.729923248291016,32.864097595214844,33.525657653808594,35.33986282348633,33.943511962890625,33.54354476928711,36.97726058959961,37.39613723754883,39.97174072265625,42.933876037597656,43.67521286010742,45.81510543823242,46.697998046875,50.849037170410156,56.3622932434082,62.596527099609375,73.4726333618164]],\"type\":\"heatmap\",\"xaxis\":\"x\",\"yaxis\":\"y\",\"hovertemplate\":\"src token: %{x}<br>dest prediction pos: %{y}<br>color: %{z}<extra></extra>\"}],                        {\"template\":{\"data\":{\"histogram2dcontour\":[{\"type\":\"histogram2dcontour\",\"colorbar\":{\"outlinewidth\":0,\"ticks\":\"\"},\"colorscale\":[[0.0,\"#0d0887\"],[0.1111111111111111,\"#46039f\"],[0.2222222222222222,\"#7201a8\"],[0.3333333333333333,\"#9c179e\"],[0.4444444444444444,\"#bd3786\"],[0.5555555555555556,\"#d8576b\"],[0.6666666666666666,\"#ed7953\"],[0.7777777777777778,\"#fb9f3a\"],[0.8888888888888888,\"#fdca26\"],[1.0,\"#f0f921\"]]}],\"choropleth\":[{\"type\":\"choropleth\",\"colorbar\":{\"outlinewidth\":0,\"ticks\":\"\"}}],\"histogram2d\":[{\"type\":\"histogram2d\",\"colorbar\":{\"outlinewidth\":0,\"ticks\":\"\"},\"colorscale\":[[0.0,\"#0d0887\"],[0.1111111111111111,\"#46039f\"],[0.2222222222222222,\"#7201a8\"],[0.3333333333333333,\"#9c179e\"],[0.4444444444444444,\"#bd3786\"],[0.5555555555555556,\"#d8576b\"],[0.6666666666666666,\"#ed7953\"],[0.7777777777777778,\"#fb9f3a\"],[0.8888888888888888,\"#fdca26\"],[1.0,\"#f0f921\"]]}],\"heatmap\":[{\"type\":\"heatmap\",\"colorbar\":{\"outlinewidth\":0,\"ticks\":\"\"},\"colorscale\":[[0.0,\"#0d0887\"],[0.1111111111111111,\"#46039f\"],[0.2222222222222222,\"#7201a8\"],[0.3333333333333333,\"#9c179e\"],[0.4444444444444444,\"#bd3786\"],[0.5555555555555556,\"#d8576b\"],[0.6666666666666666,\"#ed7953\"],[0.7777777777777778,\"#fb9f3a\"],[0.8888888888888888,\"#fdca26\"],[1.0,\"#f0f921\"]]}],\"heatmapgl\":[{\"type\":\"heatmapgl\",\"colorbar\":{\"outlinewidth\":0,\"ticks\":\"\"},\"colorscale\":[[0.0,\"#0d0887\"],[0.1111111111111111,\"#46039f\"],[0.2222222222222222,\"#7201a8\"],[0.3333333333333333,\"#9c179e\"],[0.4444444444444444,\"#bd3786\"],[0.5555555555555556,\"#d8576b\"],[0.6666666666666666,\"#ed7953\"],[0.7777777777777778,\"#fb9f3a\"],[0.8888888888888888,\"#fdca26\"],[1.0,\"#f0f921\"]]}],\"contourcarpet\":[{\"type\":\"contourcarpet\",\"colorbar\":{\"outlinewidth\":0,\"ticks\":\"\"}}],\"contour\":[{\"type\":\"contour\",\"colorbar\":{\"outlinewidth\":0,\"ticks\":\"\"},\"colorscale\":[[0.0,\"#0d0887\"],[0.1111111111111111,\"#46039f\"],[0.2222222222222222,\"#7201a8\"],[0.3333333333333333,\"#9c179e\"],[0.4444444444444444,\"#bd3786\"],[0.5555555555555556,\"#d8576b\"],[0.6666666666666666,\"#ed7953\"],[0.7777777777777778,\"#fb9f3a\"],[0.8888888888888888,\"#fdca26\"],[1.0,\"#f0f921\"]]}],\"surface\":[{\"type\":\"surface\",\"colorbar\":{\"outlinewidth\":0,\"ticks\":\"\"},\"colorscale\":[[0.0,\"#0d0887\"],[0.1111111111111111,\"#46039f\"],[0.2222222222222222,\"#7201a8\"],[0.3333333333333333,\"#9c179e\"],[0.4444444444444444,\"#bd3786\"],[0.5555555555555556,\"#d8576b\"],[0.6666666666666666,\"#ed7953\"],[0.7777777777777778,\"#fb9f3a\"],[0.8888888888888888,\"#fdca26\"],[1.0,\"#f0f921\"]]}],\"mesh3d\":[{\"type\":\"mesh3d\",\"colorbar\":{\"outlinewidth\":0,\"ticks\":\"\"}}],\"scatter\":[{\"fillpattern\":{\"fillmode\":\"overlay\",\"size\":10,\"solidity\":0.2},\"type\":\"scatter\"}],\"parcoords\":[{\"type\":\"parcoords\",\"line\":{\"colorbar\":{\"outlinewidth\":0,\"ticks\":\"\"}}}],\"scatterpolargl\":[{\"type\":\"scatterpolargl\",\"marker\":{\"colorbar\":{\"outlinewidth\":0,\"ticks\":\"\"}}}],\"bar\":[{\"error_x\":{\"color\":\"#2a3f5f\"},\"error_y\":{\"color\":\"#2a3f5f\"},\"marker\":{\"line\":{\"color\":\"#E5ECF6\",\"width\":0.5},\"pattern\":{\"fillmode\":\"overlay\",\"size\":10,\"solidity\":0.2}},\"type\":\"bar\"}],\"scattergeo\":[{\"type\":\"scattergeo\",\"marker\":{\"colorbar\":{\"outlinewidth\":0,\"ticks\":\"\"}}}],\"scatterpolar\":[{\"type\":\"scatterpolar\",\"marker\":{\"colorbar\":{\"outlinewidth\":0,\"ticks\":\"\"}}}],\"histogram\":[{\"marker\":{\"pattern\":{\"fillmode\":\"overlay\",\"size\":10,\"solidity\":0.2}},\"type\":\"histogram\"}],\"scattergl\":[{\"type\":\"scattergl\",\"marker\":{\"colorbar\":{\"outlinewidth\":0,\"ticks\":\"\"}}}],\"scatter3d\":[{\"type\":\"scatter3d\",\"line\":{\"colorbar\":{\"outlinewidth\":0,\"ticks\":\"\"}},\"marker\":{\"colorbar\":{\"outlinewidth\":0,\"ticks\":\"\"}}}],\"scattermapbox\":[{\"type\":\"scattermapbox\",\"marker\":{\"colorbar\":{\"outlinewidth\":0,\"ticks\":\"\"}}}],\"scatterternary\":[{\"type\":\"scatterternary\",\"marker\":{\"colorbar\":{\"outlinewidth\":0,\"ticks\":\"\"}}}],\"scattercarpet\":[{\"type\":\"scattercarpet\",\"marker\":{\"colorbar\":{\"outlinewidth\":0,\"ticks\":\"\"}}}],\"carpet\":[{\"aaxis\":{\"endlinecolor\":\"#2a3f5f\",\"gridcolor\":\"white\",\"linecolor\":\"white\",\"minorgridcolor\":\"white\",\"startlinecolor\":\"#2a3f5f\"},\"baxis\":{\"endlinecolor\":\"#2a3f5f\",\"gridcolor\":\"white\",\"linecolor\":\"white\",\"minorgridcolor\":\"white\",\"startlinecolor\":\"#2a3f5f\"},\"type\":\"carpet\"}],\"table\":[{\"cells\":{\"fill\":{\"color\":\"#EBF0F8\"},\"line\":{\"color\":\"white\"}},\"header\":{\"fill\":{\"color\":\"#C8D4E3\"},\"line\":{\"color\":\"white\"}},\"type\":\"table\"}],\"barpolar\":[{\"marker\":{\"line\":{\"color\":\"#E5ECF6\",\"width\":0.5},\"pattern\":{\"fillmode\":\"overlay\",\"size\":10,\"solidity\":0.2}},\"type\":\"barpolar\"}],\"pie\":[{\"automargin\":true,\"type\":\"pie\"}]},\"layout\":{\"autotypenumbers\":\"strict\",\"colorway\":[\"#636efa\",\"#EF553B\",\"#00cc96\",\"#ab63fa\",\"#FFA15A\",\"#19d3f3\",\"#FF6692\",\"#B6E880\",\"#FF97FF\",\"#FECB52\"],\"font\":{\"color\":\"#2a3f5f\"},\"hovermode\":\"closest\",\"hoverlabel\":{\"align\":\"left\"},\"paper_bgcolor\":\"white\",\"plot_bgcolor\":\"#E5ECF6\",\"polar\":{\"bgcolor\":\"#E5ECF6\",\"angularaxis\":{\"gridcolor\":\"white\",\"linecolor\":\"white\",\"ticks\":\"\"},\"radialaxis\":{\"gridcolor\":\"white\",\"linecolor\":\"white\",\"ticks\":\"\"}},\"ternary\":{\"bgcolor\":\"#E5ECF6\",\"aaxis\":{\"gridcolor\":\"white\",\"linecolor\":\"white\",\"ticks\":\"\"},\"baxis\":{\"gridcolor\":\"white\",\"linecolor\":\"white\",\"ticks\":\"\"},\"caxis\":{\"gridcolor\":\"white\",\"linecolor\":\"white\",\"ticks\":\"\"}},\"coloraxis\":{\"colorbar\":{\"outlinewidth\":0,\"ticks\":\"\"}},\"colorscale\":{\"sequential\":[[0.0,\"#0d0887\"],[0.1111111111111111,\"#46039f\"],[0.2222222222222222,\"#7201a8\"],[0.3333333333333333,\"#9c179e\"],[0.4444444444444444,\"#bd3786\"],[0.5555555555555556,\"#d8576b\"],[0.6666666666666666,\"#ed7953\"],[0.7777777777777778,\"#fb9f3a\"],[0.8888888888888888,\"#fdca26\"],[1.0,\"#f0f921\"]],\"sequentialminus\":[[0.0,\"#0d0887\"],[0.1111111111111111,\"#46039f\"],[0.2222222222222222,\"#7201a8\"],[0.3333333333333333,\"#9c179e\"],[0.4444444444444444,\"#bd3786\"],[0.5555555555555556,\"#d8576b\"],[0.6666666666666666,\"#ed7953\"],[0.7777777777777778,\"#fb9f3a\"],[0.8888888888888888,\"#fdca26\"],[1.0,\"#f0f921\"]],\"diverging\":[[0,\"#8e0152\"],[0.1,\"#c51b7d\"],[0.2,\"#de77ae\"],[0.3,\"#f1b6da\"],[0.4,\"#fde0ef\"],[0.5,\"#f7f7f7\"],[0.6,\"#e6f5d0\"],[0.7,\"#b8e186\"],[0.8,\"#7fbc41\"],[0.9,\"#4d9221\"],[1,\"#276419\"]]},\"xaxis\":{\"gridcolor\":\"white\",\"linecolor\":\"white\",\"ticks\":\"\",\"title\":{\"standoff\":15},\"zerolinecolor\":\"white\",\"automargin\":true,\"zerolinewidth\":2},\"yaxis\":{\"gridcolor\":\"white\",\"linecolor\":\"white\",\"ticks\":\"\",\"title\":{\"standoff\":15},\"zerolinecolor\":\"white\",\"automargin\":true,\"zerolinewidth\":2},\"scene\":{\"xaxis\":{\"backgroundcolor\":\"#E5ECF6\",\"gridcolor\":\"white\",\"linecolor\":\"white\",\"showbackground\":true,\"ticks\":\"\",\"zerolinecolor\":\"white\",\"gridwidth\":2},\"yaxis\":{\"backgroundcolor\":\"#E5ECF6\",\"gridcolor\":\"white\",\"linecolor\":\"white\",\"showbackground\":true,\"ticks\":\"\",\"zerolinecolor\":\"white\",\"gridwidth\":2},\"zaxis\":{\"backgroundcolor\":\"#E5ECF6\",\"gridcolor\":\"white\",\"linecolor\":\"white\",\"showbackground\":true,\"ticks\":\"\",\"zerolinecolor\":\"white\",\"gridwidth\":2}},\"shapedefaults\":{\"line\":{\"color\":\"#2a3f5f\"}},\"annotationdefaults\":{\"arrowcolor\":\"#2a3f5f\",\"arrowhead\":0,\"arrowwidth\":1},\"geo\":{\"bgcolor\":\"white\",\"landcolor\":\"#E5ECF6\",\"subunitcolor\":\"white\",\"showland\":true,\"showlakes\":true,\"lakecolor\":\"white\"},\"title\":{\"x\":0.05},\"mapbox\":{\"style\":\"light\"}}},\"xaxis\":{\"anchor\":\"y\",\"domain\":[0.0,1.0],\"scaleanchor\":\"y\",\"constrain\":\"domain\",\"title\":{\"text\":\"src token\"}},\"yaxis\":{\"anchor\":\"x\",\"domain\":[0.0,1.0],\"autorange\":\"reversed\",\"constrain\":\"domain\",\"title\":{\"text\":\"dest prediction pos\"}},\"coloraxis\":{\"colorscale\":[[0.0,\"rgb(103,0,31)\"],[0.1,\"rgb(178,24,43)\"],[0.2,\"rgb(214,96,77)\"],[0.3,\"rgb(244,165,130)\"],[0.4,\"rgb(253,219,199)\"],[0.5,\"rgb(247,247,247)\"],[0.6,\"rgb(209,229,240)\"],[0.7,\"rgb(146,197,222)\"],[0.8,\"rgb(67,147,195)\"],[0.9,\"rgb(33,102,172)\"],[1.0,\"rgb(5,48,97)\"]],\"cmid\":0.0},\"title\":{\"text\":\"attn 0.0 full QK circuit W_pos @ W_QK @ W_E.T\"}},                        {\"responsive\": true}                    ).then(function(){\n",
              "                            \n",
              "var gd = document.getElementById('345aba2d-cb11-49ca-83c8-a5c8510c42c4');\n",
              "var x = new MutationObserver(function (mutations, observer) {{\n",
              "        var display = window.getComputedStyle(gd).display;\n",
              "        if (!display || display === 'none') {{\n",
              "            console.log([gd, 'removed!']);\n",
              "            Plotly.purge(gd);\n",
              "            observer.disconnect();\n",
              "        }}\n",
              "}});\n",
              "\n",
              "// Listen for the removal of the full notebook cells\n",
              "var notebookContainer = gd.closest('#notebook-container');\n",
              "if (notebookContainer) {{\n",
              "    x.observe(notebookContainer, {childList: true});\n",
              "}}\n",
              "\n",
              "// Listen for the clearing of the current output cell\n",
              "var outputEl = gd.closest('.output');\n",
              "if (outputEl) {{\n",
              "    x.observe(outputEl, {childList: true});\n",
              "}}\n",
              "\n",
              "                        })                };                            </script>        </div>\n",
              "</body>\n",
              "</html>"
            ]
          },
          "metadata": {}
        }
      ]
    },
    {
      "cell_type": "markdown",
      "source": [
        "This is what we expected: For the first predictions the model gives higher scores to smaller numbers, but at later positions the model gives higher scores to bigger numbers.\n",
        "\n",
        "\n",
        "We can also see that the last prediction is a bit special. The model seems to put bigger scores here. This makes sense: all you have to do is attend to the max int in the sequence, so the model probably wants to dominate the other attn scores components with this circuit. This is also consistent with the attention patterns we viewed earlier."
      ],
      "metadata": {
        "id": "ApHY6uNbgagy"
      }
    },
    {
      "cell_type": "markdown",
      "source": [
        "Another natural full QK circuit to check is $W_{pos}W_{QK}W_{pos}^T$. We noticed that attn was almost never paid to positions after MID, so I expect these weights to explain that. We can mask this one, since it has the same shape as the attn scores."
      ],
      "metadata": {
        "id": "vJa7jpxclSyx"
      }
    },
    {
      "cell_type": "code",
      "source": [
        "imshow(\n",
        "    torch.tril(model.W_pos @ model.QK[0, 0].AB @ model.W_pos.T),\n",
        "    title=\"Full QK circuit W_pos @ W_QK @ W_pos.T\",\n",
        "    yaxis=\"dest pos\", xaxis=\"src pos\"\n",
        ")"
      ],
      "metadata": {
        "colab": {
          "base_uri": "https://localhost:8080/",
          "height": 542
        },
        "id": "gIGYV0imlSJo",
        "outputId": "43b6b014-7011-48fc-98ac-decbed3156e2"
      },
      "execution_count": 30,
      "outputs": [
        {
          "output_type": "display_data",
          "data": {
            "text/html": [
              "<html>\n",
              "<head><meta charset=\"utf-8\" /></head>\n",
              "<body>\n",
              "    <div>            <script src=\"https://cdnjs.cloudflare.com/ajax/libs/mathjax/2.7.5/MathJax.js?config=TeX-AMS-MML_SVG\"></script><script type=\"text/javascript\">if (window.MathJax && window.MathJax.Hub && window.MathJax.Hub.Config) {window.MathJax.Hub.Config({SVG: {font: \"STIX-Web\"}});}</script>                <script type=\"text/javascript\">window.PlotlyConfig = {MathJaxConfig: 'local'};</script>\n",
              "        <script src=\"https://cdn.plot.ly/plotly-2.18.2.min.js\"></script>                <div id=\"9b53ec26-8ca6-4cc2-ae9f-105ce30e14ef\" class=\"plotly-graph-div\" style=\"height:525px; width:100%;\"></div>            <script type=\"text/javascript\">                                    window.PLOTLYENV=window.PLOTLYENV || {};                                    if (document.getElementById(\"9b53ec26-8ca6-4cc2-ae9f-105ce30e14ef\")) {                    Plotly.newPlot(                        \"9b53ec26-8ca6-4cc2-ae9f-105ce30e14ef\",                        [{\"coloraxis\":\"coloraxis\",\"name\":\"0\",\"z\":[[-2.291285276412964,0.0,0.0,0.0,0.0,0.0,0.0,0.0,0.0,0.0,0.0,0.0,0.0,0.0,0.0,0.0,0.0,0.0,0.0,0.0,0.0,0.0],[-1.959097146987915,-4.394913673400879,0.0,0.0,0.0,0.0,0.0,0.0,0.0,0.0,0.0,0.0,0.0,0.0,0.0,0.0,0.0,0.0,0.0,0.0,0.0,0.0],[-2.3858718872070312,-4.087414264678955,-4.218633651733398,0.0,0.0,0.0,0.0,0.0,0.0,0.0,0.0,0.0,0.0,0.0,0.0,0.0,0.0,0.0,0.0,0.0,0.0,0.0],[-2.35322642326355,-4.239877700805664,-4.34055233001709,-4.10929536819458,0.0,0.0,0.0,0.0,0.0,0.0,0.0,0.0,0.0,0.0,0.0,0.0,0.0,0.0,0.0,0.0,0.0,0.0],[-2.415213108062744,-4.08604621887207,-4.237783908843994,-3.913365602493286,-4.007658958435059,0.0,0.0,0.0,0.0,0.0,0.0,0.0,0.0,0.0,0.0,0.0,0.0,0.0,0.0,0.0,0.0,0.0],[-2.3478362560272217,-3.0886874198913574,-3.2014894485473633,-2.949112892150879,-3.012874126434326,-3.0746421813964844,0.0,0.0,0.0,0.0,0.0,0.0,0.0,0.0,0.0,0.0,0.0,0.0,0.0,0.0,0.0,0.0],[-2.792689800262451,-4.186700820922852,-4.3014445304870605,-4.007709503173828,-4.096131324768066,-4.191050052642822,-4.074684143066406,0.0,0.0,0.0,0.0,0.0,0.0,0.0,0.0,0.0,0.0,0.0,0.0,0.0,0.0,0.0],[-2.3457021713256836,-3.315401792526245,-3.4708757400512695,-3.161686420440674,-3.302309036254883,-3.3425581455230713,-3.227921485900879,-3.292135715484619,0.0,0.0,0.0,0.0,0.0,0.0,0.0,0.0,0.0,0.0,0.0,0.0,0.0,0.0],[-2.3195924758911133,-4.339601516723633,-4.438851356506348,-4.17926025390625,-4.2192792892456055,-4.321730613708496,-4.214663982391357,-4.244311809539795,-4.317452430725098,0.0,0.0,0.0,0.0,0.0,0.0,0.0,0.0,0.0,0.0,0.0,0.0,0.0],[-2.5118026733398438,-3.1612296104431152,-3.309760093688965,-2.9335720539093018,-3.1227481365203857,-3.179281234741211,-3.0332703590393066,-3.116666078567505,-3.1336302757263184,-3.1550655364990234,0.0,0.0,0.0,0.0,0.0,0.0,0.0,0.0,0.0,0.0,0.0,0.0],[-2.519688129425049,-3.72896146774292,-3.8629117012023926,-3.5596611499786377,-3.6175427436828613,-3.68660306930542,-3.598789930343628,-3.6566145420074463,-3.6785407066345215,-3.6760220527648926,-3.620540142059326,0.0,0.0,0.0,0.0,0.0,0.0,0.0,0.0,0.0,0.0,0.0],[-5.737679481506348,-10.603857040405273,-10.67501449584961,-10.780996322631836,-10.554356575012207,-10.845573425292969,-10.496423721313477,-10.359476089477539,-10.626824378967285,-10.598994255065918,-10.415728569030762,-8.298133850097656,0.0,0.0,0.0,0.0,0.0,0.0,0.0,0.0,0.0,0.0],[-1.6098055839538574,-0.3468339443206787,-0.19187021255493164,-0.8341716527938843,-0.2710387706756592,-0.5285344123840332,-0.47315073013305664,-0.32549694180488586,-0.41964149475097656,-0.48175951838493347,-0.48940566182136536,-0.0875900387763977,-17.59647560119629,0.0,0.0,0.0,0.0,0.0,0.0,0.0,0.0,0.0],[0.24874188005924225,2.8457508087158203,3.0058791637420654,2.488520622253418,2.948190927505493,2.738239288330078,2.717939615249634,2.7508068084716797,2.801490068435669,2.6955747604370117,2.644216299057007,4.218740463256836,-16.71381950378418,-13.999320030212402,0.0,0.0,0.0,0.0,0.0,0.0,0.0,0.0],[1.3899749517440796,4.829833984375,4.986080169677734,4.557693004608154,4.907064437866211,4.787264823913574,4.711316108703613,4.727380752563477,4.791770935058594,4.694284439086914,4.647337913513184,5.951905727386475,-17.097789764404297,-15.021553039550781,-11.601107597351074,0.0,0.0,0.0,0.0,0.0,0.0,0.0],[2.3568217754364014,6.560612201690674,6.72199821472168,6.343802452087402,6.598348140716553,6.548917770385742,6.424117088317871,6.430084228515625,6.530165195465088,6.448705673217773,6.360876083374023,7.155254364013672,-17.77650260925293,-16.03868865966797,-13.128116607666016,-11.36484146118164,0.0,0.0,0.0,0.0,0.0,0.0],[3.1362972259521484,7.968771457672119,8.14261245727539,7.816944122314453,7.9546284675598145,8.025506019592285,7.8081254959106445,7.8317646980285645,7.942789077758789,7.904646873474121,7.771331787109375,7.496628761291504,-18.862031936645508,-17.178958892822266,-14.580862998962402,-12.961514472961426,-10.799524307250977,0.0,0.0,0.0,0.0,0.0],[3.7778358459472656,9.954861640930176,10.115180969238281,9.905984878540039,9.885384559631348,10.108932495117188,9.778802871704102,9.830516815185547,9.93771743774414,9.932273864746094,9.778429985046387,8.134700775146484,-19.89523696899414,-18.494083404541016,-16.20964813232422,-14.912056922912598,-12.98711109161377,-10.554548263549805,0.0,0.0,0.0,0.0],[4.385611534118652,12.420799255371094,12.562797546386719,12.492634773254395,12.274645805358887,12.673250198364258,12.237161636352539,12.293424606323242,12.431350708007812,12.47077465057373,12.29058837890625,8.780027389526367,-21.589115142822266,-20.376001358032227,-18.432289123535156,-17.42803382873535,-15.669134140014648,-13.24654483795166,-10.277450561523438,0.0,0.0,0.0],[5.63084602355957,18.50033187866211,18.663188934326172,18.668560028076172,18.173656463623047,18.99270248413086,18.20215606689453,18.442832946777344,18.535655975341797,18.71421241760254,18.40244483947754,9.777196884155273,-31.95254898071289,-29.287700653076172,-26.75581932067871,-25.07256317138672,-22.4803524017334,-19.2684268951416,-14.795570373535156,-14.75187873840332,0.0,0.0],[2.968536138534546,32.342369079589844,32.02964782714844,32.9626350402832,31.4747314453125,33.520179748535156,31.842973709106445,32.13266372680664,32.227264404296875,32.283016204833984,31.505537033081055,15.669266700744629,-12.237478256225586,-14.833742141723633,-26.412532806396484,-31.358020782470703,-34.03117752075195,-38.38372802734375,-43.08190155029297,-56.14091110229492,-60.350006103515625,0.0],[-0.09177753329277039,-0.02026566118001938,-0.009098105132579803,0.024363964796066284,0.012413306161761284,-0.01840369403362274,0.06148657202720642,0.03824632987380028,-0.004926338791847229,0.028677120804786682,0.016258731484413147,0.2787764370441437,1.114974021911621,0.798086404800415,0.4851468801498413,0.3077729344367981,0.12858045101165771,-0.18506652116775513,-0.33740442991256714,-0.5624753832817078,-1.656862497329712,-0.14765068888664246]],\"type\":\"heatmap\",\"xaxis\":\"x\",\"yaxis\":\"y\",\"hovertemplate\":\"src pos: %{x}<br>dest pos: %{y}<br>color: %{z}<extra></extra>\"}],                        {\"template\":{\"data\":{\"histogram2dcontour\":[{\"type\":\"histogram2dcontour\",\"colorbar\":{\"outlinewidth\":0,\"ticks\":\"\"},\"colorscale\":[[0.0,\"#0d0887\"],[0.1111111111111111,\"#46039f\"],[0.2222222222222222,\"#7201a8\"],[0.3333333333333333,\"#9c179e\"],[0.4444444444444444,\"#bd3786\"],[0.5555555555555556,\"#d8576b\"],[0.6666666666666666,\"#ed7953\"],[0.7777777777777778,\"#fb9f3a\"],[0.8888888888888888,\"#fdca26\"],[1.0,\"#f0f921\"]]}],\"choropleth\":[{\"type\":\"choropleth\",\"colorbar\":{\"outlinewidth\":0,\"ticks\":\"\"}}],\"histogram2d\":[{\"type\":\"histogram2d\",\"colorbar\":{\"outlinewidth\":0,\"ticks\":\"\"},\"colorscale\":[[0.0,\"#0d0887\"],[0.1111111111111111,\"#46039f\"],[0.2222222222222222,\"#7201a8\"],[0.3333333333333333,\"#9c179e\"],[0.4444444444444444,\"#bd3786\"],[0.5555555555555556,\"#d8576b\"],[0.6666666666666666,\"#ed7953\"],[0.7777777777777778,\"#fb9f3a\"],[0.8888888888888888,\"#fdca26\"],[1.0,\"#f0f921\"]]}],\"heatmap\":[{\"type\":\"heatmap\",\"colorbar\":{\"outlinewidth\":0,\"ticks\":\"\"},\"colorscale\":[[0.0,\"#0d0887\"],[0.1111111111111111,\"#46039f\"],[0.2222222222222222,\"#7201a8\"],[0.3333333333333333,\"#9c179e\"],[0.4444444444444444,\"#bd3786\"],[0.5555555555555556,\"#d8576b\"],[0.6666666666666666,\"#ed7953\"],[0.7777777777777778,\"#fb9f3a\"],[0.8888888888888888,\"#fdca26\"],[1.0,\"#f0f921\"]]}],\"heatmapgl\":[{\"type\":\"heatmapgl\",\"colorbar\":{\"outlinewidth\":0,\"ticks\":\"\"},\"colorscale\":[[0.0,\"#0d0887\"],[0.1111111111111111,\"#46039f\"],[0.2222222222222222,\"#7201a8\"],[0.3333333333333333,\"#9c179e\"],[0.4444444444444444,\"#bd3786\"],[0.5555555555555556,\"#d8576b\"],[0.6666666666666666,\"#ed7953\"],[0.7777777777777778,\"#fb9f3a\"],[0.8888888888888888,\"#fdca26\"],[1.0,\"#f0f921\"]]}],\"contourcarpet\":[{\"type\":\"contourcarpet\",\"colorbar\":{\"outlinewidth\":0,\"ticks\":\"\"}}],\"contour\":[{\"type\":\"contour\",\"colorbar\":{\"outlinewidth\":0,\"ticks\":\"\"},\"colorscale\":[[0.0,\"#0d0887\"],[0.1111111111111111,\"#46039f\"],[0.2222222222222222,\"#7201a8\"],[0.3333333333333333,\"#9c179e\"],[0.4444444444444444,\"#bd3786\"],[0.5555555555555556,\"#d8576b\"],[0.6666666666666666,\"#ed7953\"],[0.7777777777777778,\"#fb9f3a\"],[0.8888888888888888,\"#fdca26\"],[1.0,\"#f0f921\"]]}],\"surface\":[{\"type\":\"surface\",\"colorbar\":{\"outlinewidth\":0,\"ticks\":\"\"},\"colorscale\":[[0.0,\"#0d0887\"],[0.1111111111111111,\"#46039f\"],[0.2222222222222222,\"#7201a8\"],[0.3333333333333333,\"#9c179e\"],[0.4444444444444444,\"#bd3786\"],[0.5555555555555556,\"#d8576b\"],[0.6666666666666666,\"#ed7953\"],[0.7777777777777778,\"#fb9f3a\"],[0.8888888888888888,\"#fdca26\"],[1.0,\"#f0f921\"]]}],\"mesh3d\":[{\"type\":\"mesh3d\",\"colorbar\":{\"outlinewidth\":0,\"ticks\":\"\"}}],\"scatter\":[{\"fillpattern\":{\"fillmode\":\"overlay\",\"size\":10,\"solidity\":0.2},\"type\":\"scatter\"}],\"parcoords\":[{\"type\":\"parcoords\",\"line\":{\"colorbar\":{\"outlinewidth\":0,\"ticks\":\"\"}}}],\"scatterpolargl\":[{\"type\":\"scatterpolargl\",\"marker\":{\"colorbar\":{\"outlinewidth\":0,\"ticks\":\"\"}}}],\"bar\":[{\"error_x\":{\"color\":\"#2a3f5f\"},\"error_y\":{\"color\":\"#2a3f5f\"},\"marker\":{\"line\":{\"color\":\"#E5ECF6\",\"width\":0.5},\"pattern\":{\"fillmode\":\"overlay\",\"size\":10,\"solidity\":0.2}},\"type\":\"bar\"}],\"scattergeo\":[{\"type\":\"scattergeo\",\"marker\":{\"colorbar\":{\"outlinewidth\":0,\"ticks\":\"\"}}}],\"scatterpolar\":[{\"type\":\"scatterpolar\",\"marker\":{\"colorbar\":{\"outlinewidth\":0,\"ticks\":\"\"}}}],\"histogram\":[{\"marker\":{\"pattern\":{\"fillmode\":\"overlay\",\"size\":10,\"solidity\":0.2}},\"type\":\"histogram\"}],\"scattergl\":[{\"type\":\"scattergl\",\"marker\":{\"colorbar\":{\"outlinewidth\":0,\"ticks\":\"\"}}}],\"scatter3d\":[{\"type\":\"scatter3d\",\"line\":{\"colorbar\":{\"outlinewidth\":0,\"ticks\":\"\"}},\"marker\":{\"colorbar\":{\"outlinewidth\":0,\"ticks\":\"\"}}}],\"scattermapbox\":[{\"type\":\"scattermapbox\",\"marker\":{\"colorbar\":{\"outlinewidth\":0,\"ticks\":\"\"}}}],\"scatterternary\":[{\"type\":\"scatterternary\",\"marker\":{\"colorbar\":{\"outlinewidth\":0,\"ticks\":\"\"}}}],\"scattercarpet\":[{\"type\":\"scattercarpet\",\"marker\":{\"colorbar\":{\"outlinewidth\":0,\"ticks\":\"\"}}}],\"carpet\":[{\"aaxis\":{\"endlinecolor\":\"#2a3f5f\",\"gridcolor\":\"white\",\"linecolor\":\"white\",\"minorgridcolor\":\"white\",\"startlinecolor\":\"#2a3f5f\"},\"baxis\":{\"endlinecolor\":\"#2a3f5f\",\"gridcolor\":\"white\",\"linecolor\":\"white\",\"minorgridcolor\":\"white\",\"startlinecolor\":\"#2a3f5f\"},\"type\":\"carpet\"}],\"table\":[{\"cells\":{\"fill\":{\"color\":\"#EBF0F8\"},\"line\":{\"color\":\"white\"}},\"header\":{\"fill\":{\"color\":\"#C8D4E3\"},\"line\":{\"color\":\"white\"}},\"type\":\"table\"}],\"barpolar\":[{\"marker\":{\"line\":{\"color\":\"#E5ECF6\",\"width\":0.5},\"pattern\":{\"fillmode\":\"overlay\",\"size\":10,\"solidity\":0.2}},\"type\":\"barpolar\"}],\"pie\":[{\"automargin\":true,\"type\":\"pie\"}]},\"layout\":{\"autotypenumbers\":\"strict\",\"colorway\":[\"#636efa\",\"#EF553B\",\"#00cc96\",\"#ab63fa\",\"#FFA15A\",\"#19d3f3\",\"#FF6692\",\"#B6E880\",\"#FF97FF\",\"#FECB52\"],\"font\":{\"color\":\"#2a3f5f\"},\"hovermode\":\"closest\",\"hoverlabel\":{\"align\":\"left\"},\"paper_bgcolor\":\"white\",\"plot_bgcolor\":\"#E5ECF6\",\"polar\":{\"bgcolor\":\"#E5ECF6\",\"angularaxis\":{\"gridcolor\":\"white\",\"linecolor\":\"white\",\"ticks\":\"\"},\"radialaxis\":{\"gridcolor\":\"white\",\"linecolor\":\"white\",\"ticks\":\"\"}},\"ternary\":{\"bgcolor\":\"#E5ECF6\",\"aaxis\":{\"gridcolor\":\"white\",\"linecolor\":\"white\",\"ticks\":\"\"},\"baxis\":{\"gridcolor\":\"white\",\"linecolor\":\"white\",\"ticks\":\"\"},\"caxis\":{\"gridcolor\":\"white\",\"linecolor\":\"white\",\"ticks\":\"\"}},\"coloraxis\":{\"colorbar\":{\"outlinewidth\":0,\"ticks\":\"\"}},\"colorscale\":{\"sequential\":[[0.0,\"#0d0887\"],[0.1111111111111111,\"#46039f\"],[0.2222222222222222,\"#7201a8\"],[0.3333333333333333,\"#9c179e\"],[0.4444444444444444,\"#bd3786\"],[0.5555555555555556,\"#d8576b\"],[0.6666666666666666,\"#ed7953\"],[0.7777777777777778,\"#fb9f3a\"],[0.8888888888888888,\"#fdca26\"],[1.0,\"#f0f921\"]],\"sequentialminus\":[[0.0,\"#0d0887\"],[0.1111111111111111,\"#46039f\"],[0.2222222222222222,\"#7201a8\"],[0.3333333333333333,\"#9c179e\"],[0.4444444444444444,\"#bd3786\"],[0.5555555555555556,\"#d8576b\"],[0.6666666666666666,\"#ed7953\"],[0.7777777777777778,\"#fb9f3a\"],[0.8888888888888888,\"#fdca26\"],[1.0,\"#f0f921\"]],\"diverging\":[[0,\"#8e0152\"],[0.1,\"#c51b7d\"],[0.2,\"#de77ae\"],[0.3,\"#f1b6da\"],[0.4,\"#fde0ef\"],[0.5,\"#f7f7f7\"],[0.6,\"#e6f5d0\"],[0.7,\"#b8e186\"],[0.8,\"#7fbc41\"],[0.9,\"#4d9221\"],[1,\"#276419\"]]},\"xaxis\":{\"gridcolor\":\"white\",\"linecolor\":\"white\",\"ticks\":\"\",\"title\":{\"standoff\":15},\"zerolinecolor\":\"white\",\"automargin\":true,\"zerolinewidth\":2},\"yaxis\":{\"gridcolor\":\"white\",\"linecolor\":\"white\",\"ticks\":\"\",\"title\":{\"standoff\":15},\"zerolinecolor\":\"white\",\"automargin\":true,\"zerolinewidth\":2},\"scene\":{\"xaxis\":{\"backgroundcolor\":\"#E5ECF6\",\"gridcolor\":\"white\",\"linecolor\":\"white\",\"showbackground\":true,\"ticks\":\"\",\"zerolinecolor\":\"white\",\"gridwidth\":2},\"yaxis\":{\"backgroundcolor\":\"#E5ECF6\",\"gridcolor\":\"white\",\"linecolor\":\"white\",\"showbackground\":true,\"ticks\":\"\",\"zerolinecolor\":\"white\",\"gridwidth\":2},\"zaxis\":{\"backgroundcolor\":\"#E5ECF6\",\"gridcolor\":\"white\",\"linecolor\":\"white\",\"showbackground\":true,\"ticks\":\"\",\"zerolinecolor\":\"white\",\"gridwidth\":2}},\"shapedefaults\":{\"line\":{\"color\":\"#2a3f5f\"}},\"annotationdefaults\":{\"arrowcolor\":\"#2a3f5f\",\"arrowhead\":0,\"arrowwidth\":1},\"geo\":{\"bgcolor\":\"white\",\"landcolor\":\"#E5ECF6\",\"subunitcolor\":\"white\",\"showland\":true,\"showlakes\":true,\"lakecolor\":\"white\"},\"title\":{\"x\":0.05},\"mapbox\":{\"style\":\"light\"}}},\"xaxis\":{\"anchor\":\"y\",\"domain\":[0.0,1.0],\"scaleanchor\":\"y\",\"constrain\":\"domain\",\"title\":{\"text\":\"src pos\"}},\"yaxis\":{\"anchor\":\"x\",\"domain\":[0.0,1.0],\"autorange\":\"reversed\",\"constrain\":\"domain\",\"title\":{\"text\":\"dest pos\"}},\"coloraxis\":{\"colorscale\":[[0.0,\"rgb(103,0,31)\"],[0.1,\"rgb(178,24,43)\"],[0.2,\"rgb(214,96,77)\"],[0.3,\"rgb(244,165,130)\"],[0.4,\"rgb(253,219,199)\"],[0.5,\"rgb(247,247,247)\"],[0.6,\"rgb(209,229,240)\"],[0.7,\"rgb(146,197,222)\"],[0.8,\"rgb(67,147,195)\"],[0.9,\"rgb(33,102,172)\"],[1.0,\"rgb(5,48,97)\"]],\"cmid\":0.0},\"title\":{\"text\":\"Full QK circuit W_pos @ W_QK @ W_pos.T\"}},                        {\"responsive\": true}                    ).then(function(){\n",
              "                            \n",
              "var gd = document.getElementById('9b53ec26-8ca6-4cc2-ae9f-105ce30e14ef');\n",
              "var x = new MutationObserver(function (mutations, observer) {{\n",
              "        var display = window.getComputedStyle(gd).display;\n",
              "        if (!display || display === 'none') {{\n",
              "            console.log([gd, 'removed!']);\n",
              "            Plotly.purge(gd);\n",
              "            observer.disconnect();\n",
              "        }}\n",
              "}});\n",
              "\n",
              "// Listen for the removal of the full notebook cells\n",
              "var notebookContainer = gd.closest('#notebook-container');\n",
              "if (notebookContainer) {{\n",
              "    x.observe(notebookContainer, {childList: true});\n",
              "}}\n",
              "\n",
              "// Listen for the clearing of the current output cell\n",
              "var outputEl = gd.closest('.output');\n",
              "if (outputEl) {{\n",
              "    x.observe(outputEl, {childList: true});\n",
              "}}\n",
              "\n",
              "                        })                };                            </script>        </div>\n",
              "</body>\n",
              "</html>"
            ]
          },
          "metadata": {}
        }
      ]
    },
    {
      "cell_type": "markdown",
      "source": [
        "It is basically what we expect: This circuit gives uniform positive attn scores to the src positions corresponding to the unsorted list tokens, and negative attn scores to the positions after MID. This kind of makes sense since the numbers after MID will be <= the current token (since they are sorted). Thus these should not be the answer (unless we have consecutive duplicates), so we should not attend to them (because the OV circuit copies).\n",
        "\n",
        "Now we can check $W_EW_{QK}W_E^T$"
      ],
      "metadata": {
        "id": "P3x9RsM9l0Y4"
      }
    },
    {
      "cell_type": "code",
      "source": [
        "imshow(\n",
        "    model.W_E @ model.QK[0,0].AB @ model.W_E.T,\n",
        "    title=\"Full QK circuit W_E @ W_QK @ W_E.T\",\n",
        "    yaxis=\"dest token\", xaxis=\"src token\"\n",
        ")"
      ],
      "metadata": {
        "colab": {
          "base_uri": "https://localhost:8080/",
          "height": 542
        },
        "id": "6w9Fq6yPpbTk",
        "outputId": "57238211-6cc0-416f-9618-09146257f64a"
      },
      "execution_count": 31,
      "outputs": [
        {
          "output_type": "display_data",
          "data": {
            "text/html": [
              "<html>\n",
              "<head><meta charset=\"utf-8\" /></head>\n",
              "<body>\n",
              "    <div>            <script src=\"https://cdnjs.cloudflare.com/ajax/libs/mathjax/2.7.5/MathJax.js?config=TeX-AMS-MML_SVG\"></script><script type=\"text/javascript\">if (window.MathJax && window.MathJax.Hub && window.MathJax.Hub.Config) {window.MathJax.Hub.Config({SVG: {font: \"STIX-Web\"}});}</script>                <script type=\"text/javascript\">window.PlotlyConfig = {MathJaxConfig: 'local'};</script>\n",
              "        <script src=\"https://cdn.plot.ly/plotly-2.18.2.min.js\"></script>                <div id=\"dbe24e7a-27fb-4ea2-abca-929768aa1531\" class=\"plotly-graph-div\" style=\"height:525px; width:100%;\"></div>            <script type=\"text/javascript\">                                    window.PLOTLYENV=window.PLOTLYENV || {};                                    if (document.getElementById(\"dbe24e7a-27fb-4ea2-abca-929768aa1531\")) {                    Plotly.newPlot(                        \"dbe24e7a-27fb-4ea2-abca-929768aa1531\",                        [{\"coloraxis\":\"coloraxis\",\"name\":\"0\",\"z\":[[15.28067398071289,18.491165161132812,18.033954620361328,16.813386917114258,18.063764572143555,16.626943588256836,16.872940063476562,15.485020637512207,15.202229499816895,15.803020477294922,13.007030487060547,11.585325241088867,11.171643257141113,10.325654029846191,9.340723037719727,8.404552459716797,8.910255432128906,9.323846817016602,8.899768829345703,9.892898559570312,9.648008346557617,9.819095611572266,11.472271919250488,8.322225570678711,7.0113630294799805,4.843624114990234,3.475677490234375,1.9215097427368164,-0.5740067958831787,-1.4015154838562012,-2.9773483276367188,-6.353183269500732,-6.790849208831787,-10.41777229309082,-9.597503662109375,-13.911971092224121,-17.49917221069336,-19.337209701538086,-18.644775390625,-16.729202270507812,-17.881649017333984,-16.977535247802734,-19.37544059753418,-20.727249145507812,-23.086082458496094,-23.445850372314453,-23.46761131286621,-23.248729705810547,-21.978721618652344,-22.397010803222656,9.423135757446289,-16.56739044189453],[12.980594635009766,12.57308292388916,16.320770263671875,14.823108673095703,16.419809341430664,14.912601470947266,14.52738094329834,14.019710540771484,12.911907196044922,12.922527313232422,11.817588806152344,10.747720718383789,10.08574104309082,9.609345436096191,9.06562614440918,8.952549934387207,7.6118340492248535,7.461584091186523,8.517578125,9.329145431518555,9.259970664978027,9.477666854858398,12.082642555236816,7.404714107513428,8.573695182800293,6.125624656677246,4.529925346374512,1.6307892799377441,2.0613889694213867,-0.27571749687194824,-1.4811341762542725,-5.095941543579102,-6.494542121887207,-7.520205497741699,-8.330761909484863,-11.947711944580078,-14.121431350708008,-16.514801025390625,-16.437461853027344,-16.599105834960938,-17.95608139038086,-15.567266464233398,-17.203876495361328,-17.177377700805664,-19.519489288330078,-20.02469253540039,-20.355655670166016,-21.475360870361328,-18.860429763793945,-19.943410873413086,9.691201210021973,-14.408565521240234],[11.857179641723633,12.17526626586914,11.995004653930664,15.323705673217773,15.857678413391113,14.956062316894531,14.161887168884277,14.037191390991211,12.658842086791992,12.909099578857422,11.88616943359375,10.57878303527832,10.178373336791992,9.325591087341309,8.941862106323242,7.962162494659424,7.8025078773498535,7.388121604919434,8.71590805053711,8.422605514526367,9.87645435333252,8.542183876037598,10.680216789245605,9.707158088684082,8.13970947265625,5.97292947769165,5.270849704742432,1.6665048599243164,-0.41060638427734375,-1.2168803215026855,-1.0953357219696045,-4.304756164550781,-8.377486228942871,-7.91880464553833,-6.549516677856445,-9.677769660949707,-13.450113296508789,-17.198558807373047,-17.689922332763672,-17.033042907714844,-18.88225555419922,-16.96363067626953,-17.013629913330078,-18.11778450012207,-18.372257232666016,-19.757396697998047,-20.019733428955078,-19.008581161499023,-18.272136688232422,-17.976879119873047,9.686351776123047,-13.919665336608887],[11.84743881225586,12.35387134552002,12.01655387878418,11.06810474395752,16.54070472717285,15.618505477905273,15.420053482055664,14.7867431640625,13.723870277404785,13.239222526550293,12.223470687866211,11.433833122253418,10.076904296875,9.885082244873047,9.08751392364502,9.274093627929688,8.50027847290039,8.417523384094238,8.577333450317383,9.787168502807617,9.951984405517578,9.22085189819336,11.31132698059082,7.928271770477295,8.505459785461426,5.657317161560059,4.752486228942871,3.279086112976074,-0.04897594451904297,-1.8382103443145752,-3.283291816711426,-4.667105197906494,-5.777543067932129,-11.173688888549805,-9.770696640014648,-8.74057388305664,-11.520034790039062,-14.573983192443848,-16.097179412841797,-16.746177673339844,-19.029010772705078,-18.027795791625977,-17.96295928955078,-18.65119171142578,-19.94558334350586,-20.154918670654297,-20.42241096496582,-20.32849884033203,-18.65301513671875,-18.16018295288086,10.044450759887695,-13.224888801574707],[10.683236122131348,11.014001846313477,10.646703720092773,10.039140701293945,11.194497108459473,15.525337219238281,14.814003944396973,13.516526222229004,13.99849796295166,12.472848892211914,11.346578598022461,10.744089126586914,9.966782569885254,9.610029220581055,9.07285213470459,8.481350898742676,8.074973106384277,7.6869940757751465,9.466573715209961,7.756628513336182,8.964456558227539,8.445483207702637,8.670553207397461,7.028223991394043,7.30870246887207,5.9812164306640625,4.921259880065918,2.40421199798584,-1.7806220054626465,-1.3928725719451904,-2.3249902725219727,-4.669811248779297,-4.813826084136963,-5.855449199676514,-9.31456184387207,-10.38337230682373,-10.566293716430664,-11.45041561126709,-15.095213890075684,-14.950307846069336,-16.79526138305664,-18.005020141601562,-18.428539276123047,-19.265169143676758,-18.65059471130371,-18.631200790405273,-18.58555793762207,-18.613039016723633,-18.38736343383789,-17.668575286865234,9.441048622131348,-11.40762996673584],[9.528509140014648,9.911613464355469,9.554452896118164,9.067544937133789,10.54676628112793,9.715188980102539,14.508949279785156,13.914432525634766,14.011335372924805,12.628089904785156,11.783822059631348,9.797399520874023,10.39842414855957,9.874061584472656,8.747103691101074,7.942514419555664,7.700511455535889,6.772841453552246,7.224003314971924,8.312400817871094,8.778953552246094,9.081745147705078,9.240330696105957,8.254817008972168,8.346820831298828,4.817300796508789,5.722714424133301,3.257485866546631,2.276333808898926,-3.057746171951294,-3.843411684036255,-4.7052154541015625,-8.335437774658203,-7.560722827911377,-8.676712036132812,-9.561019897460938,-8.213319778442383,-8.632960319519043,-11.5924711227417,-12.305990219116211,-12.970656394958496,-13.853767395019531,-16.027177810668945,-18.301361083984375,-19.398948669433594,-18.38097381591797,-18.673734664916992,-17.568119049072266,-18.075145721435547,-17.336566925048828,9.525548934936523,-10.332620620727539],[8.828195571899414,8.922445297241211,8.930622100830078,8.466570854187012,9.862998962402344,9.26940631866455,8.702811241149902,14.167244911193848,13.645039558410645,12.802889823913574,11.444316864013672,10.961761474609375,10.767770767211914,10.466902732849121,8.779354095458984,8.345939636230469,7.853240489959717,8.110359191894531,7.383630752563477,9.317776679992676,8.090963363647461,9.300540924072266,10.289527893066406,7.471519470214844,8.094438552856445,6.589417457580566,4.010271072387695,1.7965822219848633,0.3967463970184326,-2.6403727531433105,-3.729522466659546,-3.6725411415100098,-6.543508052825928,-6.260929107666016,-7.627108097076416,-8.518692970275879,-11.984870910644531,-10.957986831665039,-10.886026382446289,-14.957808494567871,-12.396240234375,-11.851943969726562,-14.969228744506836,-17.3604679107666,-16.93130111694336,-17.36750602722168,-17.530101776123047,-17.104846954345703,-18.20696258544922,-17.289766311645508,9.774066925048828,-9.096723556518555],[8.035863876342773,8.409467697143555,8.108200073242188,7.353333473205566,8.460151672363281,8.003290176391602,7.977219104766846,7.684877395629883,13.072246551513672,12.497930526733398,11.614480972290039,10.015824317932129,9.942543983459473,9.763257026672363,8.810521125793457,7.483511924743652,7.186994552612305,6.850126266479492,7.344797611236572,7.920261859893799,7.931998252868652,7.544495582580566,8.618936538696289,6.7277512550354,6.711841583251953,5.609689712524414,3.4002187252044678,1.9883317947387695,0.6958534717559814,-0.7486100196838379,-1.7068567276000977,-3.7131998538970947,-5.9940185546875,-7.991492748260498,-7.766345024108887,-10.640806198120117,-9.414562225341797,-8.431485176086426,-11.056631088256836,-12.216130256652832,-12.131826400756836,-9.281676292419434,-11.147396087646484,-14.01335334777832,-16.204710006713867,-13.826396942138672,-15.089374542236328,-14.221771240234375,-15.984055519104004,-16.25574493408203,9.391510009765625,-7.7089972496032715],[6.975587844848633,7.495630264282227,6.794374465942383,6.020382404327393,7.7139129638671875,7.04872989654541,6.816436767578125,6.840613842010498,6.396657943725586,11.59700870513916,10.39191722869873,10.796086311340332,9.866426467895508,10.246055603027344,8.535842895507812,8.169754028320312,7.412096977233887,6.805990695953369,8.154731750488281,7.856086730957031,6.956252574920654,7.5618696212768555,7.782858848571777,7.7715044021606445,6.422479152679443,4.650258541107178,3.5602240562438965,2.8298394680023193,1.0784025192260742,-0.5024657249450684,-2.9599814414978027,-4.348191261291504,-3.526306629180908,-5.692651748657227,-6.252337455749512,-6.511849880218506,-10.841419219970703,-9.237442970275879,-9.848628997802734,-10.444928169250488,-11.904013633728027,-10.09339714050293,-9.813913345336914,-9.896885871887207,-13.663267135620117,-14.717491149902344,-13.319087028503418,-13.226137161254883,-14.480178833007812,-15.552851676940918,9.245816230773926,-5.773030757904053],[4.931012153625488,5.506522178649902,5.040315628051758,4.537522315979004,5.663866996765137,5.482584476470947,4.995588779449463,5.288849830627441,4.870118141174316,4.157717704772949,10.15400505065918,9.480548858642578,9.679570198059082,9.589787483215332,8.003753662109375,6.971855163574219,7.224160194396973,6.841923713684082,7.0589141845703125,7.437591552734375,7.490884780883789,7.626976013183594,5.968588829040527,5.6385087966918945,6.344232559204102,5.3892998695373535,3.9182028770446777,1.550666093826294,0.7579605579376221,1.2674007415771484,-0.8190768957138062,-1.922903060913086,-3.6408767700195312,-5.305700778961182,-4.278731346130371,-6.057217121124268,-6.476803779602051,-7.25487756729126,-7.452904224395752,-11.214380264282227,-8.904985427856445,-10.040597915649414,-8.40024185180664,-9.509057998657227,-9.355611801147461,-10.256586074829102,-11.659771919250488,-10.402162551879883,-11.966455459594727,-13.902125358581543,8.335564613342285,-4.362259387969971],[5.118664741516113,5.380743026733398,5.16159200668335,4.186944007873535,5.682891845703125,5.703561782836914,4.743919372558594,5.29031229019165,4.49007511138916,4.003917694091797,3.033627510070801,9.526962280273438,9.471887588500977,9.497553825378418,8.628746032714844,8.849308967590332,8.050796508789062,6.695441246032715,6.369263172149658,8.164777755737305,7.204703330993652,6.814249515533447,9.470504760742188,6.265909194946289,4.250789165496826,4.205881118774414,4.554254055023193,1.185368299484253,0.7101824283599854,-0.4190804958343506,-0.6437824368476868,-1.913676142692566,-3.6466803550720215,-5.6545562744140625,-6.558377265930176,-5.462344169616699,-8.651185035705566,-6.900651931762695,-7.689549446105957,-9.652868270874023,-8.714719772338867,-9.379939079284668,-9.728681564331055,-8.23074722290039,-9.119189262390137,-10.35923957824707,-9.842716217041016,-10.398768424987793,-11.524042129516602,-12.799532890319824,8.0296630859375,-3.734461784362793],[4.450395584106445,4.912972450256348,4.443629741668701,3.766364574432373,4.900277137756348,4.922084808349609,4.2109375,4.187381744384766,4.117883205413818,3.173393487930298,1.9619481563568115,1.9066122770309448,9.194286346435547,9.514257431030273,8.72319507598877,8.705638885498047,8.109357833862305,7.284643650054932,6.883936405181885,8.294265747070312,7.428261756896973,8.06735610961914,7.918801784515381,6.187712669372559,7.251321792602539,3.3645148277282715,2.8127875328063965,2.0895333290100098,-0.10237336158752441,-1.0183253288269043,-0.04099631309509277,-0.820015549659729,-2.6463921070098877,-3.023022413253784,-5.624444007873535,-4.468014240264893,-6.3522844314575195,-7.336095809936523,-6.793361186981201,-8.34242057800293,-9.41520881652832,-9.05803108215332,-8.948013305664062,-9.07756233215332,-8.857261657714844,-8.009467124938965,-9.016863822937012,-9.327295303344727,-10.596863746643066,-11.880308151245117,8.004374504089355,-2.7187087535858154],[2.7686777114868164,2.6027073860168457,2.5595126152038574,1.703883409500122,2.965153455734253,3.2921690940856934,1.9976818561553955,2.60538387298584,2.1510403156280518,1.4396915435791016,0.4495137333869934,-0.19388705492019653,0.5699700117111206,9.607629776000977,8.222707748413086,8.18162727355957,7.557112693786621,6.561558723449707,7.343257904052734,6.8367438316345215,6.838947296142578,7.414782524108887,7.388784885406494,5.014039516448975,5.506563186645508,4.818136215209961,3.508056402206421,2.264402389526367,1.5193140506744385,1.0925960540771484,-0.8502849340438843,0.31679630279541016,-0.8433976173400879,-1.1481090784072876,-2.8543248176574707,-3.065397024154663,-3.56138277053833,-4.810239791870117,-5.388233661651611,-5.1517181396484375,-6.784298896789551,-6.060116767883301,-6.762386322021484,-6.289855003356934,-7.325828552246094,-7.101510524749756,-6.270629405975342,-6.841322898864746,-7.653824806213379,-8.577890396118164,7.024206161499023,-0.6027247905731201],[1.3662915229797363,0.9348158836364746,0.6424819231033325,0.06564915180206299,1.6355284452438354,2.2468883991241455,0.9746761322021484,1.370990514755249,1.8090882301330566,0.41767215728759766,-0.7035346627235413,-0.7617078423500061,-0.8155643343925476,-0.582394540309906,8.137101173400879,7.646985054016113,7.207590103149414,6.869311332702637,7.532918930053711,8.656455993652344,6.318696975708008,7.065554618835449,7.195566177368164,7.704705715179443,6.490612983703613,5.422460079193115,4.106730937957764,3.9758691787719727,3.975432872772217,2.0462863445281982,0.27149155735969543,-0.4454007148742676,-0.5071083307266235,-0.8447399139404297,-2.4516220092773438,-2.736013889312744,-2.9624319076538086,-2.934382438659668,-3.8989193439483643,-4.784702777862549,-6.815202713012695,-5.17265510559082,-5.10487699508667,-6.825359344482422,-4.94309139251709,-5.43864107131958,-6.5582146644592285,-5.865179061889648,-6.287532806396484,-6.434973239898682,7.5653839111328125,0.6170161962509155],[1.2368991374969482,1.2084914445877075,0.8783553242683411,-0.03734344244003296,1.5615122318267822,1.5079680681228638,0.9752058982849121,1.6725643873214722,1.140154242515564,0.30951642990112305,-0.5975178480148315,-1.7837926149368286,-1.481623649597168,-1.6563079357147217,-0.5488032102584839,7.482230186462402,7.611230373382568,7.596445560455322,8.073932647705078,7.970642566680908,7.379255294799805,8.112039566040039,7.7222771644592285,5.994861125946045,8.363828659057617,6.133858680725098,5.377033233642578,3.3274269104003906,3.071808338165283,2.5503435134887695,2.076650381088257,0.7874842882156372,0.0969775915145874,-1.3206424713134766,-0.2847656011581421,-0.8081066608428955,-3.1716766357421875,-2.832547903060913,-3.54146409034729,-4.412215709686279,-5.614977836608887,-5.568950176239014,-5.814134120941162,-5.081249237060547,-7.194071292877197,-5.765980243682861,-5.881777763366699,-5.647409915924072,-6.525362014770508,-6.11832332611084,6.650520324707031,1.039235234260559],[0.6657878160476685,1.7038439512252808,0.09865359961986542,-0.19195771217346191,0.957146406173706,1.0026823282241821,0.4575784206390381,1.0568634271621704,0.932511568069458,0.2528054714202881,-0.7191022634506226,-2.2837953567504883,-2.2588858604431152,-2.2487235069274902,-2.1078665256500244,-1.721268653869629,8.268759727478027,7.6090192794799805,8.858560562133789,10.372236251831055,7.866990089416504,9.031185150146484,8.930675506591797,6.571893692016602,7.282467842102051,6.190128326416016,6.1208271980285645,4.263967990875244,3.623514175415039,2.9922051429748535,3.06496000289917,1.8534332513809204,0.9602428674697876,0.062436461448669434,-0.4056347608566284,-0.360634446144104,-2.11299729347229,-2.4212710857391357,-3.222654342651367,-2.8945744037628174,-5.41325569152832,-3.6160004138946533,-5.1497650146484375,-5.845602512359619,-6.044440746307373,-5.650876045227051,-6.015515327453613,-5.0149359703063965,-6.574380397796631,-6.246919631958008,6.426083564758301,1.6229521036148071],[-0.4204365611076355,-0.633779764175415,-1.1130353212356567,-1.649053931236267,-0.2467193603515625,-0.3453822135925293,-1.4297728538513184,-0.49907588958740234,-0.3162543773651123,-1.1036896705627441,-2.0351500511169434,-3.3109726905822754,-3.026538848876953,-3.6239871978759766,-3.4356963634490967,-3.760343313217163,-1.6620808839797974,7.978895664215088,9.306669235229492,8.366117477416992,8.414741516113281,8.09801959991455,10.068327903747559,8.789276123046875,8.43993091583252,7.331901550292969,6.954811096191406,5.746636867523193,4.859806060791016,4.118217468261719,3.544548511505127,2.6228411197662354,1.7032183408737183,1.125739336013794,1.3436503410339355,0.7518013119697571,-0.38983070850372314,-1.0698912143707275,-1.1786935329437256,-1.9715526103973389,-3.429398775100708,-2.7205686569213867,-2.7140953540802,-3.5893449783325195,-4.529777526855469,-4.196322441101074,-3.757340431213379,-4.096853256225586,-4.317710876464844,-4.866202354431152,5.387326717376709,2.2820510864257812],[-0.49177035689353943,-1.3617337942123413,-1.6271368265151978,-2.006718635559082,-1.3862134218215942,-1.300870418548584,-0.740111231803894,-0.9734867811203003,-0.8337205052375793,-1.0786888599395752,-2.4572129249572754,-3.030144214630127,-3.735321283340454,-3.665618896484375,-2.9901821613311768,-4.438206672668457,-3.9966115951538086,-1.958606243133545,8.611431121826172,9.074663162231445,8.357148170471191,10.167144775390625,9.123350143432617,9.313983917236328,8.867658615112305,8.026111602783203,6.760468482971191,6.262833595275879,6.392251014709473,5.262788772583008,5.246798515319824,4.941893577575684,4.006967067718506,2.735774517059326,1.9632370471954346,1.6190550327301025,0.3920646905899048,0.2875328063964844,-0.8944697380065918,-0.6253952980041504,-1.7592363357543945,-1.1722705364227295,-1.855330467224121,-2.7768216133117676,-2.764893054962158,-3.4153618812561035,-3.5463109016418457,-3.2291769981384277,-3.802464246749878,-3.9384727478027344,4.849081039428711,2.940074920654297],[-0.41905176639556885,-0.5783185958862305,-0.9990559816360474,-2.259038209915161,-0.7025250196456909,-2.5789732933044434,-1.4319887161254883,-1.042473316192627,-1.0697999000549316,-2.3108115196228027,-3.253218173980713,-3.6056296825408936,-3.3126769065856934,-3.872145652770996,-3.9479551315307617,-4.806282997131348,-4.510908126831055,-4.926950931549072,-1.7437541484832764,8.695985794067383,9.570938110351562,8.915078163146973,9.231903076171875,9.16218376159668,10.183661460876465,8.799741744995117,8.825578689575195,7.961971282958984,6.584200382232666,5.810001373291016,5.569907188415527,5.016593933105469,3.8996291160583496,2.7306430339813232,2.6290760040283203,1.8863661289215088,0.2417115569114685,0.8331469297409058,-0.49733078479766846,-0.4985843300819397,-1.3907759189605713,-0.6846820116043091,-0.8948299884796143,-1.3515888452529907,-1.7129844427108765,-2.005021810531616,-2.2101054191589355,-2.1174120903015137,-2.8869290351867676,-3.006040573120117,4.232743263244629,3.1621313095092773],[-3.0748350620269775,-2.730818033218384,-3.523132801055908,-3.6269524097442627,-3.069359302520752,-3.629291534423828,-3.365597724914551,-2.7379531860351562,-2.6820578575134277,-4.600003242492676,-5.591955184936523,-5.147894382476807,-4.645798206329346,-4.340027809143066,-4.61612606048584,-3.9823784828186035,-6.1848464012146,-6.6590142250061035,-5.031924247741699,-0.33471912145614624,9.686670303344727,10.046356201171875,9.482211112976074,10.08593463897705,10.038320541381836,9.52200698852539,9.272249221801758,8.126385688781738,7.209844589233398,6.9606614112854,6.603046417236328,5.85384464263916,5.09181547164917,4.5018157958984375,4.172012805938721,3.633871078491211,2.557631254196167,3.0363640785217285,2.053182601928711,1.8329508304595947,1.0771510601043701,1.4380974769592285,0.8893630504608154,1.5908231735229492,1.6424676179885864,1.0781267881393433,0.7282330989837646,0.8467583656311035,-0.19310247898101807,0.05974936485290527,3.3168327808380127,4.351578235626221],[-4.159531116485596,-3.92020845413208,-4.320195198059082,-4.460565567016602,-4.465773582458496,-3.9256250858306885,-4.225039482116699,-3.5862059593200684,-4.2740478515625,-4.750594139099121,-7.5252790451049805,-6.997576713562012,-6.101515769958496,-6.1614861488342285,-6.958063125610352,-5.693480014801025,-5.113508701324463,-7.545590400695801,-4.779531955718994,-6.100770950317383,-1.1874992847442627,11.242401123046875,11.4215087890625,10.530049324035645,10.17391586303711,9.98294734954834,10.219566345214844,9.994623184204102,9.285476684570312,8.96072006225586,9.163225173950195,8.492149353027344,7.913822650909424,6.460110664367676,6.401969909667969,6.115910530090332,4.621975898742676,4.620412349700928,3.929953098297119,3.6892759799957275,1.9561128616333008,2.9994089603424072,2.062854051589966,2.5839600563049316,3.0674333572387695,2.9107441902160645,2.5214145183563232,2.0858449935913086,1.5151954889297485,1.6107399463653564,1.8075100183486938,5.277106285095215],[-7.533507347106934,-8.239442825317383,-7.385702133178711,-7.816219329833984,-6.319861888885498,-5.917149543762207,-7.730376243591309,-6.014801979064941,-6.0985636711120605,-6.022795677185059,-9.336565017700195,-7.104244232177734,-6.491072654724121,-7.140063762664795,-7.863076686859131,-7.593900203704834,-7.954176902770996,-5.74851131439209,-8.022445678710938,-8.566293716430664,-6.570352077484131,-0.5702688694000244,11.142088890075684,11.817651748657227,12.534947395324707,12.723478317260742,11.676448822021484,11.019693374633789,10.897019386291504,10.47108268737793,10.612192153930664,10.023066520690918,9.295537948608398,8.144502639770508,7.96306848526001,8.630075454711914,7.088641166687012,7.159234046936035,6.341912269592285,6.214363098144531,4.794225692749023,5.598539352416992,4.974658012390137,5.459888935089111,5.2296905517578125,5.540504455566406,4.996241569519043,4.478936672210693,3.962345600128174,4.137263298034668,1.4370654821395874,7.3218231201171875],[-5.383275032043457,-7.136689186096191,-6.852461814880371,-6.616892337799072,-6.256720542907715,-6.629694938659668,-6.289584159851074,-6.456974029541016,-7.387358665466309,-6.094174861907959,-7.564099311828613,-8.720827102661133,-7.555350303649902,-10.163078308105469,-8.80788516998291,-7.684741020202637,-9.009842872619629,-7.468018531799316,-7.916872978210449,-9.48604965209961,-8.767964363098145,-7.199673652648926,-0.41492903232574463,13.061084747314453,13.382952690124512,13.392918586730957,14.221569061279297,12.171297073364258,12.253226280212402,11.598522186279297,11.608070373535156,11.400321960449219,10.525396347045898,9.114716529846191,8.700180053710938,8.962345123291016,7.514126300811768,7.7518744468688965,7.180937767028809,7.137196063995361,5.336954116821289,5.539747714996338,5.552031517028809,5.549784183502197,5.680357456207275,5.1019086837768555,4.971261501312256,4.477656364440918,4.526487827301025,4.612984657287598,-0.4639906883239746,5.972725868225098],[-6.493922233581543,-9.969488143920898,-7.152192115783691,-8.406463623046875,-8.036660194396973,-8.632810592651367,-7.3902268409729,-7.393109321594238,-8.28708267211914,-7.3274688720703125,-3.8348777294158936,-11.164135932922363,-8.193074226379395,-9.836403846740723,-13.228580474853516,-9.058533668518066,-7.2687201499938965,-9.102882385253906,-8.988739013671875,-8.156014442443848,-10.287323951721191,-10.96757984161377,-8.682479858398438,0.7684292197227478,15.12923526763916,14.665386199951172,14.293278694152832,13.56733512878418,13.456528663635254,12.69200325012207,12.738062858581543,12.166727066040039,11.63510799407959,11.236505508422852,10.718893051147461,10.578657150268555,9.435748100280762,9.607342720031738,9.2244234085083,8.881743431091309,7.610659122467041,7.7623419761657715,8.021707534790039,7.667076110839844,7.9948625564575195,7.831601619720459,6.972696304321289,7.182448387145996,6.553693771362305,6.430212497711182,-1.819643259048462,7.216241836547852],[-9.03388500213623,-11.279752731323242,-9.935787200927734,-11.10252857208252,-10.685199737548828,-9.56278133392334,-10.815593719482422,-8.572101593017578,-7.921937942504883,-8.782262802124023,-5.631049156188965,-8.502755165100098,-9.309213638305664,-8.079748153686523,-11.014822006225586,-10.567623138427734,-6.02328634262085,-7.170233726501465,-8.7008638381958,-8.990610122680664,-11.478399276733398,-13.536203384399414,-11.046731948852539,-7.41474723815918,1.8327596187591553,15.809883117675781,15.740682601928711,14.500417709350586,14.663093566894531,14.047637939453125,13.964315414428711,13.891708374023438,13.197620391845703,12.845091819763184,12.138252258300781,11.763458251953125,10.868432998657227,10.701757431030273,10.819169998168945,10.425676345825195,9.790790557861328,9.123388290405273,9.609273910522461,9.016944885253906,9.526577949523926,9.747528076171875,8.939432144165039,9.138998031616211,8.135953903198242,8.559000015258789,-2.0124893188476562,8.859683990478516],[-6.442684173583984,-8.657753944396973,-8.22089958190918,-9.448705673217773,-9.35084342956543,-9.860114097595215,-8.13697624206543,-8.929193496704102,-9.845052719116211,-10.855714797973633,-10.063295364379883,-7.472043037414551,-7.21234655380249,-7.214138031005859,-9.700384140014648,-11.938928604125977,-7.015254974365234,-8.323116302490234,-10.172163963317871,-9.878395080566406,-12.122994422912598,-10.961786270141602,-13.187033653259277,-8.628860473632812,-6.932367324829102,2.2946901321411133,17.30567169189453,17.434120178222656,16.524913787841797,15.867217063903809,15.166650772094727,14.849539756774902,14.476200103759766,13.542760848999023,12.818709373474121,12.094198226928711,10.856078147888184,11.347810745239258,10.512532234191895,10.752037048339844,9.992254257202148,9.811882972717285,10.349472045898438,10.043129920959473,10.266364097595215,10.289560317993164,10.347394943237305,9.366548538208008,9.068248748779297,9.072914123535156,-4.334987640380859,7.805227279663086],[-6.708902359008789,-8.694198608398438,-9.921529769897461,-10.805008888244629,-9.684326171875,-10.590217590332031,-8.714537620544434,-10.467308044433594,-10.99191665649414,-10.881362915039062,-10.931121826171875,-11.238868713378906,-8.333407402038574,-7.222066879272461,-6.294042587280273,-8.076250076293945,-9.28132152557373,-8.603002548217773,-9.768270492553711,-7.769794940948486,-10.411035537719727,-9.03958797454834,-14.169988632202148,-10.674759864807129,-8.009305953979492,-6.552094459533691,3.701486349105835,18.484878540039062,18.52054214477539,17.683361053466797,17.263362884521484,16.405864715576172,16.269184112548828,14.514968872070312,14.22658920288086,13.851473808288574,13.484963417053223,13.17929458618164,12.71324348449707,12.263139724731445,11.078042030334473,10.816778182983398,11.261929512023926,11.233964920043945,11.655801773071289,11.612837791442871,11.34085750579834,10.81515121459961,10.367206573486328,10.456363677978516,-4.8671135902404785,7.967016220092773],[-6.2321953773498535,-10.521505355834961,-9.148656845092773,-10.8004150390625,-10.067811012268066,-12.810302734375,-10.754140853881836,-11.276073455810547,-12.687394142150879,-10.287680625915527,-9.378989219665527,-10.229080200195312,-10.049898147583008,-10.22085952758789,-4.265322208404541,-4.702114582061768,-7.9328765869140625,-10.026219367980957,-6.747481346130371,-5.517772674560547,-9.33260440826416,-7.085402965545654,-11.284795761108398,-8.162888526916504,-6.132831573486328,-5.8714704513549805,-3.8278422355651855,6.863284587860107,19.939510345458984,19.30243682861328,18.2707462310791,17.129003524780273,16.944517135620117,16.118600845336914,14.56155776977539,14.468023300170898,13.5106840133667,13.337825775146484,13.585136413574219,12.77627944946289,11.552862167358398,11.754693984985352,12.070849418640137,11.550516128540039,11.653583526611328,11.911742210388184,11.679570198059082,11.15593433380127,10.718267440795898,10.822929382324219,-5.188836097717285,8.559428215026855],[-6.985124588012695,-9.041763305664062,-11.095943450927734,-11.27579116821289,-11.601602554321289,-11.486038208007812,-13.348172187805176,-14.238168716430664,-13.659008026123047,-13.265090942382812,-11.855695724487305,-11.994091033935547,-12.761387825012207,-10.653322219848633,-7.639546871185303,-7.150950908660889,-7.332924842834473,-9.108911514282227,-7.000354766845703,-6.245331287384033,-6.686882972717285,-3.166053295135498,-6.506720542907715,-7.209819316864014,-7.219693183898926,-7.652822017669678,-7.103921890258789,-2.062602996826172,7.317997932434082,20.08648681640625,19.486894607543945,18.050634384155273,17.830615997314453,17.06766700744629,16.61775016784668,16.206562042236328,15.314519882202148,15.458361625671387,15.031625747680664,14.707987785339355,13.428193092346191,13.280715942382812,13.163129806518555,12.841730117797852,13.399957656860352,13.652746200561523,13.353726387023926,13.36744499206543,12.730741500854492,12.9855375289917,-6.255362510681152,8.15175724029541],[-10.027568817138672,-10.63866901397705,-11.61111068725586,-10.520967483520508,-11.815954208374023,-10.550058364868164,-11.39671516418457,-12.996088981628418,-10.967158317565918,-11.582000732421875,-12.170199394226074,-11.159042358398438,-8.40114974975586,-10.018942832946777,-10.097051620483398,-9.953168869018555,-8.460258483886719,-9.70294189453125,-9.869817733764648,-7.515928268432617,-6.970499515533447,-5.804760932922363,-6.516115665435791,-5.885332107543945,-6.984583854675293,-6.972527980804443,-7.306230068206787,-6.253032684326172,-1.5585899353027344,7.310577869415283,19.249515533447266,17.936695098876953,18.11092758178711,17.362442016601562,16.97867774963379,15.960123062133789,15.582357406616211,14.903985977172852,14.784236907958984,14.691161155700684,13.717811584472656,13.349906921386719,13.202458381652832,13.620660781860352,13.770183563232422,14.098773956298828,13.670969009399414,13.323675155639648,12.97178840637207,13.339879035949707,-5.7875871658325195,7.830480575561523],[-11.522687911987305,-12.941442489624023,-13.546860694885254,-12.888062477111816,-12.960831642150879,-11.841963768005371,-12.20938491821289,-10.65707015991211,-10.726689338684082,-9.2406005859375,-9.146573066711426,-9.285331726074219,-8.870731353759766,-5.1989641189575195,-8.545553207397461,-9.887717247009277,-6.533522605895996,-8.923210144042969,-7.762040138244629,-8.034034729003906,-11.526744842529297,-7.127113342285156,-10.082018852233887,-7.1159491539001465,-8.053417205810547,-6.602520942687988,-6.448108673095703,-7.2050886154174805,-3.5829129219055176,0.9680938720703125,8.757132530212402,19.792146682739258,19.295745849609375,17.709728240966797,17.000381469726562,17.132566452026367,16.600727081298828,16.24425506591797,16.191570281982422,15.825939178466797,14.735908508300781,13.865306854248047,13.891439437866211,14.034374237060547,14.444522857666016,14.302692413330078,13.95037841796875,14.073470115661621,13.376999855041504,14.048510551452637,-5.7518534660339355,8.77054500579834],[-12.028034210205078,-11.054320335388184,-12.460512161254883,-15.307405471801758,-14.673872947692871,-10.332155227661133,-12.808218955993652,-12.118148803710938,-11.144876480102539,-9.35257339477539,-7.282098293304443,-8.772266387939453,-10.604491233825684,-6.9833478927612305,-7.124541282653809,-8.775662422180176,-7.019695281982422,-9.158340454101562,-8.86556339263916,-6.2693352699279785,-6.136232376098633,-6.045114517211914,-12.032684326171875,-10.749220848083496,-10.601812362670898,-8.45750617980957,-9.767019271850586,-7.442416191101074,-9.561986923217773,-2.90781307220459,0.9259160757064819,7.990723133087158,19.911758422851562,18.882286071777344,18.007137298583984,18.015003204345703,17.45076560974121,17.630319595336914,16.904022216796875,16.798736572265625,16.31396484375,15.14958667755127,14.950809478759766,15.305105209350586,16.07257080078125,15.601981163024902,15.345141410827637,15.556232452392578,15.399914741516113,15.417503356933594,-6.191746711730957,9.063674926757812],[-13.564582824707031,-14.327259063720703,-13.472335815429688,-13.019004821777344,-17.53438949584961,-13.098031997680664,-13.091848373413086,-10.883901596069336,-11.924201965332031,-9.652661323547363,-7.0288238525390625,-9.122915267944336,-9.238521575927734,-6.995292663574219,-5.535830020904541,-6.397587299346924,-6.118766784667969,-10.863876342773438,-10.200224876403809,-9.531280517578125,-7.008510589599609,-5.9154438972473145,-9.74151611328125,-8.92814826965332,-9.781787872314453,-8.064895629882812,-8.752374649047852,-10.482540130615234,-9.581290245056152,-6.317442893981934,-2.6166739463806152,0.2716097831726074,8.991843223571777,20.857898712158203,19.741348266601562,18.78080177307129,19.201011657714844,18.82301902770996,18.47841453552246,18.199962615966797,17.44253921508789,16.692359924316406,16.684974670410156,17.118593215942383,17.579713821411133,16.860912322998047,16.84145736694336,16.75031280517578,16.28447723388672,16.625911712646484,-6.534167766571045,9.838857650756836],[-11.783671379089355,-11.523460388183594,-14.350118637084961,-11.4976167678833,-13.685125350952148,-14.031414031982422,-12.971733093261719,-10.9395751953125,-11.19594955444336,-9.822773933410645,-7.236662864685059,-8.448625564575195,-10.484671592712402,-9.056763648986816,-6.046808242797852,-3.991386890411377,-3.906331777572632,-8.386713027954102,-10.57588005065918,-6.36058235168457,-5.330650329589844,-6.487095355987549,-8.932649612426758,-8.306926727294922,-11.288370132446289,-9.03853702545166,-8.438440322875977,-8.079324722290039,-6.962580680847168,-5.953821182250977,-3.2276651859283447,0.09212732315063477,3.377784252166748,9.696011543273926,19.9189510345459,19.181427001953125,18.613346099853516,17.841896057128906,17.8315486907959,17.42095184326172,16.73114776611328,15.986201286315918,16.56155014038086,16.333477020263672,17.135526657104492,16.033405303955078,15.793699264526367,16.204212188720703,15.988409042358398,16.28746795654297,-6.98030948638916,8.39457893371582],[-13.341400146484375,-12.354171752929688,-16.32696533203125,-16.242000579833984,-13.579071044921875,-15.487344741821289,-12.435481071472168,-11.252832412719727,-12.858375549316406,-11.886494636535645,-12.329038619995117,-10.637145042419434,-9.931231498718262,-9.728962898254395,-7.651211738586426,-6.675055503845215,-4.632370948791504,-8.767537117004395,-10.857124328613281,-7.308565616607666,-6.022737503051758,-4.868013381958008,-4.82620906829834,-4.529703140258789,-7.09763240814209,-10.115556716918945,-6.915997505187988,-3.304372787475586,-4.116455554962158,-6.415420055389404,-5.69719123840332,-2.1491498947143555,2.369645595550537,3.382310152053833,10.765951156616211,21.487476348876953,21.3452205657959,20.641569137573242,21.101537704467773,19.96509552001953,19.262638092041016,18.520769119262695,18.856189727783203,18.486961364746094,19.270950317382812,18.96319580078125,18.549440383911133,18.572038650512695,18.270864486694336,18.90119743347168,-7.024366855621338,10.224855422973633],[-14.672950744628906,-14.687461853027344,-16.332162857055664,-16.272071838378906,-15.179572105407715,-15.854822158813477,-11.503826141357422,-14.922685623168945,-11.727710723876953,-13.596464157104492,-10.671670913696289,-11.461592674255371,-10.648744583129883,-10.028146743774414,-7.865009307861328,-8.009995460510254,-4.661130905151367,-5.951962471008301,-7.739811897277832,-9.307315826416016,-8.75963020324707,-9.444174766540527,-8.17296028137207,-5.5784759521484375,-5.295219421386719,-8.000568389892578,-8.182507514953613,-6.311441421508789,-3.926273822784424,-4.09825325012207,-2.1255815029144287,-0.9159021377563477,0.08004510402679443,1.7210383415222168,4.51839017868042,11.872354507446289,23.528295516967773,23.20893096923828,22.413759231567383,21.878314971923828,21.135696411132812,20.243343353271484,20.54517364501953,20.31795310974121,21.007719039916992,21.066457748413086,20.069551467895508,20.53714370727539,20.40117835998535,20.594825744628906,-7.855924606323242,10.71047306060791],[-13.198274612426758,-14.290114402770996,-14.388431549072266,-16.381410598754883,-17.177867889404297,-16.497268676757812,-13.704755783081055,-15.894124984741211,-12.50587272644043,-12.163681030273438,-11.924365997314453,-9.277217864990234,-10.519271850585938,-11.78573989868164,-7.171808242797852,-6.405101776123047,-2.739854335784912,-4.27345085144043,-4.3367228507995605,-7.246499061584473,-14.061943054199219,-10.726152420043945,-9.808137893676758,-7.412588119506836,-5.9668426513671875,-7.6749091148376465,-5.310184478759766,-2.8302297592163086,-2.1284704208374023,-1.9676523208618164,-2.8896312713623047,-1.1600675582885742,2.054535150527954,3.594423770904541,1.1962764263153076,4.901476860046387,13.085999488830566,23.309572219848633,23.16735076904297,22.447372436523438,21.643783569335938,20.66381072998047,21.017250061035156,20.60124969482422,21.075592041015625,20.588232040405273,20.655067443847656,20.7895565032959,20.700469970703125,21.130050659179688,-8.442290306091309,11.398889541625977],[-13.1688232421875,-13.009108543395996,-12.72329330444336,-14.406635284423828,-15.018712997436523,-18.801965713500977,-18.554149627685547,-16.452856063842773,-16.9156436920166,-15.742288589477539,-15.513482093811035,-17.040138244628906,-14.589434623718262,-15.16659927368164,-10.533879280090332,-7.629317760467529,-2.1754868030548096,-0.378022700548172,-2.2307891845703125,-3.386345624923706,-11.447762489318848,-7.817351818084717,-6.978460311889648,-6.4421186447143555,-2.409853458404541,-4.459795951843262,-7.410097122192383,-2.480107307434082,-0.7647213935852051,-0.6009182929992676,-2.3572239875793457,-0.6665952205657959,1.8635318279266357,4.365694046020508,2.885514736175537,6.189791679382324,8.31653118133545,15.237373352050781,25.49510955810547,24.21809196472168,22.80152130126953,22.140506744384766,22.41661262512207,21.694900512695312,22.712787628173828,21.759862899780273,21.603544235229492,21.90319061279297,21.802297592163086,22.025514602661133,-8.909478187561035,12.324811935424805],[-13.406684875488281,-11.458677291870117,-10.50683879852295,-10.058417320251465,-14.687400817871094,-14.744230270385742,-14.026409149169922,-17.083072662353516,-15.466631889343262,-13.291850090026855,-15.822403907775879,-16.325119018554688,-15.060985565185547,-14.5978422164917,-13.106971740722656,-15.109278678894043,-9.07103157043457,-4.839938163757324,-1.2988804578781128,-3.8358094692230225,-7.465909004211426,-10.69279956817627,-7.413180828094482,-5.417265892028809,-3.23421049118042,0.4465099275112152,-3.6294374465942383,-2.569453716278076,-2.7489845752716064,-1.0519559383392334,-1.021865725517273,-0.22799372673034668,2.1487789154052734,5.768459320068359,2.29103946685791,1.6727581024169922,4.458732604980469,8.493631362915039,14.575916290283203,24.47534942626953,22.84109115600586,21.389999389648438,21.559844970703125,21.789945602416992,22.12759017944336,21.45047950744629,21.508060455322266,21.367156982421875,21.09185028076172,21.460918426513672,-8.144333839416504,11.226253509521484],[-18.10007095336914,-15.194723129272461,-12.661503791809082,-11.821257591247559,-16.754905700683594,-18.100326538085938,-17.46849822998047,-15.399703979492188,-15.686137199401855,-14.878366470336914,-12.78710651397705,-11.484458923339844,-12.157550811767578,-14.809004783630371,-17.309762954711914,-19.911226272583008,-19.234844207763672,-12.048972129821777,-9.19178581237793,-8.538058280944824,-7.714732646942139,-10.644349098205566,-9.485233306884766,-6.050031661987305,-6.023351669311523,1.555342435836792,-1.950589656829834,-2.725226402282715,-1.3734450340270996,-1.7047688961029053,0.04060882329940796,2.4518773555755615,4.157943248748779,6.914485454559326,7.219566345214844,6.920142650604248,7.6640729904174805,9.314818382263184,13.605154991149902,18.02398681640625,28.07377815246582,25.4195613861084,25.2958984375,25.48581314086914,26.244110107421875,25.433835983276367,25.345623016357422,25.01624298095703,24.78544044494629,25.334617614746094,-8.040928840637207,12.628378868103027],[-19.1451473236084,-18.492969512939453,-13.967296600341797,-11.470113754272461,-14.988763809204102,-17.801654815673828,-21.049522399902344,-17.326602935791016,-14.491954803466797,-11.16705322265625,-11.389190673828125,-9.333885192871094,-9.291919708251953,-11.73781967163086,-10.78701400756836,-13.673970222473145,-15.832369804382324,-15.000515937805176,-16.291934967041016,-13.877281188964844,-13.158757209777832,-13.968246459960938,-9.513286590576172,-4.472316741943359,-4.834000587463379,2.0081028938293457,-1.3412690162658691,0.745384693145752,2.218245506286621,1.1992055177688599,3.0262691974639893,4.1384501457214355,5.557546138763428,7.271778106689453,8.286399841308594,7.5568437576293945,7.208046913146973,8.278026580810547,12.074896812438965,13.200794219970703,19.063732147216797,26.576908111572266,25.850540161132812,25.793018341064453,26.025524139404297,25.65375518798828,25.55490493774414,24.812360763549805,24.922077178955078,25.0116024017334,-5.137445449829102,14.622993469238281],[-14.600695610046387,-15.756414413452148,-12.488393783569336,-9.569668769836426,-11.316183090209961,-10.9749174118042,-15.308094024658203,-15.852680206298828,-15.998933792114258,-11.521278381347656,-6.552037715911865,-6.616462707519531,-4.660086631774902,-9.43528938293457,-5.493208885192871,-5.807669639587402,-10.454496383666992,-7.799657821655273,-8.209604263305664,-11.768335342407227,-14.331899642944336,-15.705926895141602,-14.983413696289062,-7.1581950187683105,-4.389510154724121,-3.0096123218536377,-4.213184356689453,0.3507533073425293,-1.1083472967147827,1.2539094686508179,1.1547666788101196,0.2976698875427246,3.306415557861328,3.6908068656921387,4.260603904724121,6.438506126403809,6.017216205596924,5.739318370819092,9.14041519165039,9.0288724899292,10.972921371459961,14.02368450164795,23.565322875976562,22.88036346435547,23.7596378326416,22.785781860351562,22.01798439025879,21.828083038330078,21.975486755371094,22.003341674804688,-5.936380863189697,11.984013557434082],[-17.277118682861328,-18.206945419311523,-14.851442337036133,-12.155628204345703,-14.091163635253906,-10.72985553741455,-14.149863243103027,-15.619693756103516,-17.459705352783203,-15.220556259155273,-11.287281036376953,-6.314648628234863,-6.0105977058410645,-8.507919311523438,-8.857131958007812,-5.184446811676025,-7.763785362243652,-10.39449405670166,-9.554856300354004,-10.699995040893555,-11.170209884643555,-18.594390869140625,-18.988643646240234,-15.094427108764648,-11.905864715576172,-5.959836959838867,-4.7561845779418945,-3.541534423828125,-3.0532379150390625,-0.7222950458526611,2.107226848602295,2.825554847717285,4.547636985778809,6.544886112213135,5.197296142578125,9.868610382080078,10.404396057128906,10.488070487976074,9.590620040893555,10.35461711883545,13.957564353942871,13.168120384216309,18.39092445373535,26.139123916625977,26.634078979492188,25.486141204833984,25.2861270904541,25.114421844482422,25.442153930664062,25.545042037963867,-7.421276092529297,13.65910530090332],[-16.047828674316406,-16.24646759033203,-15.017577171325684,-11.611043930053711,-14.820747375488281,-10.329103469848633,-14.796174049377441,-14.110027313232422,-14.902750015258789,-19.471263885498047,-13.880210876464844,-10.652030944824219,-7.651113033294678,-11.438362121582031,-5.598771572113037,-6.316183090209961,-5.613056659698486,-7.554516792297363,-10.742963790893555,-10.665821075439453,-11.016281127929688,-14.076539993286133,-17.493703842163086,-15.013843536376953,-13.840339660644531,-8.255207061767578,-5.9855217933654785,-0.5766205787658691,-1.0045855045318604,2.0443711280822754,2.2103476524353027,3.483996629714966,3.095099925994873,5.867305278778076,4.012323379516602,7.3077898025512695,11.633405685424805,10.962894439697266,11.538501739501953,9.318902969360352,12.814759254455566,11.736522674560547,15.849574089050293,18.01968765258789,27.5787410736084,27.323827743530273,26.06630516052246,25.606136322021484,26.003738403320312,26.36506462097168,-8.504150390625,13.461884498596191],[-16.23648452758789,-15.13454818725586,-13.52176284790039,-11.514226913452148,-14.822554588317871,-12.8995361328125,-14.194005966186523,-13.680144309997559,-8.002679824829102,-13.255423545837402,-12.29338550567627,-12.52688217163086,-8.873291015625,-10.648298263549805,-9.178304672241211,-6.277891159057617,-10.106025695800781,-9.100330352783203,-15.344216346740723,-17.135482788085938,-12.901555061340332,-11.72824478149414,-12.743532180786133,-13.739238739013672,-12.466772079467773,-7.5544586181640625,-6.532378673553467,-0.32088470458984375,0.7842888832092285,0.005169868469238281,1.8726447820663452,4.593150615692139,2.462881565093994,4.193495750427246,4.292122840881348,4.597452163696289,12.182876586914062,12.240928649902344,10.73216438293457,10.417105674743652,14.422983169555664,15.744421005249023,16.143875122070312,15.819032669067383,19.299409866333008,27.26327133178711,25.657928466796875,26.034549713134766,25.39946746826172,26.24820899963379,-7.993261337280273,12.45913028717041],[-11.477585792541504,-10.007410049438477,-10.3761568069458,-8.782451629638672,-12.231751441955566,-9.80555534362793,-11.604698181152344,-11.134066581726074,-10.555139541625977,-9.683404922485352,-11.706703186035156,-5.922933578491211,-8.736783027648926,-8.099382400512695,-6.61492919921875,-3.2139058113098145,-7.557420253753662,-3.463224411010742,-10.01752758026123,-14.21348762512207,-10.647035598754883,-10.69454574584961,-10.731151580810547,-8.378679275512695,-15.817285537719727,-11.74608039855957,-9.229957580566406,-3.914830207824707,-0.8109409809112549,0.18501949310302734,-0.013364791870117188,2.3998124599456787,3.5934441089630127,4.997281074523926,4.0362548828125,5.121574401855469,7.552746295928955,9.904266357421875,9.1410493850708,9.512245178222656,12.530649185180664,11.921897888183594,11.775492668151855,14.679088592529297,14.890117645263672,17.028675079345703,22.86037826538086,21.912784576416016,21.854877471923828,21.92197036743164,-7.745535850524902,9.484841346740723],[-10.578898429870605,-9.080307006835938,-10.514603614807129,-5.122647285461426,-10.008207321166992,-9.045392990112305,-8.896444320678711,-10.226097106933594,-9.012580871582031,-9.481703758239746,-7.334753513336182,-7.864809989929199,-8.564010620117188,-10.51702880859375,-8.158622741699219,-7.58195161819458,-9.20361328125,-5.742703437805176,-7.585168838500977,-15.002792358398438,-10.953454971313477,-8.816189765930176,-11.643441200256348,-6.656460762023926,-12.003894805908203,-12.301551818847656,-11.081399917602539,-7.882349014282227,-3.430666923522949,0.08687162399291992,1.0581609010696411,3.2407219409942627,0.11869299411773682,3.9791958332061768,4.2646002769470215,3.3339693546295166,8.634195327758789,7.935800552368164,8.354061126708984,9.873353958129883,12.583169937133789,11.152801513671875,12.59567928314209,12.541479110717773,14.90394401550293,17.012683868408203,17.69013214111328,22.78339385986328,21.84626579284668,22.067705154418945,-8.629105567932129,6.4371442794799805],[-9.25209903717041,-8.156414031982422,-5.903637886047363,-3.5667924880981445,-5.034283638000488,-6.097976207733154,-6.076026439666748,-7.33037805557251,-9.205143928527832,-8.009435653686523,-5.617321014404297,-5.309944152832031,-8.485240936279297,-10.992802619934082,-9.763489723205566,-9.338350296020508,-11.496023178100586,-9.620475769042969,-10.517775535583496,-13.009538650512695,-12.683737754821777,-11.845430374145508,-11.669374465942383,-10.805259704589844,-11.606203079223633,-9.591196060180664,-10.45587158203125,-7.9975690841674805,-3.9183456897735596,-2.5641770362854004,-2.468900203704834,-0.0764455795288086,0.4584310054779053,0.9135756492614746,2.31199312210083,2.4126229286193848,6.239431858062744,5.145018577575684,7.709447860717773,9.403724670410156,11.415725708007812,11.134033203125,12.338306427001953,15.07415771484375,16.184267044067383,15.669702529907227,17.10387420654297,18.469886779785156,23.132659912109375,23.273326873779297,-9.649396896362305,1.6907364130020142],[-13.374491691589355,-10.834171295166016,-9.769119262695312,-4.5061845779418945,-7.336178302764893,-7.3496994972229,-5.689051628112793,-7.284997940063477,-7.8499274253845215,-9.17179012298584,-8.271514892578125,-8.225350379943848,-9.414931297302246,-14.60072135925293,-12.58678150177002,-13.29387092590332,-16.274311065673828,-14.80759048461914,-15.035327911376953,-18.150470733642578,-13.422879219055176,-14.278254508972168,-13.56170654296875,-11.083050727844238,-11.88943099975586,-11.426584243774414,-11.605443954467773,-8.076708793640137,-5.493219375610352,-3.0813119411468506,-0.4330921173095703,-0.1990976333618164,-1.424407720565796,2.149940013885498,1.2044439315795898,2.5098280906677246,8.423616409301758,8.005529403686523,9.607104301452637,12.282188415527344,15.148038864135742,14.107746124267578,14.879505157470703,16.517457962036133,19.621519088745117,20.40378761291504,20.991004943847656,23.34952163696289,27.047672271728516,31.445594787597656,-10.481979370117188,0.37600183486938477],[-10.193543434143066,-8.581995010375977,-7.052030086517334,-2.883655548095703,-6.526183128356934,-4.426289081573486,-5.230584144592285,-5.447082996368408,-4.868146896362305,-5.197029113769531,-2.328152656555176,-2.2108888626098633,-3.7802140712738037,-7.5731520652771,-8.113202095031738,-8.595191955566406,-10.510843276977539,-9.309788703918457,-11.912700653076172,-16.03781509399414,-13.984902381896973,-16.18920135498047,-18.03593635559082,-15.412487030029297,-15.932313919067383,-13.160725593566895,-13.130829811096191,-10.582782745361328,-9.280861854553223,-6.123934268951416,-3.298870325088501,-1.1524536609649658,-1.4434900283813477,1.721864938735962,0.002985239028930664,-0.18013596534729004,5.353894233703613,5.294408798217773,6.058681964874268,6.771224021911621,11.161201477050781,10.236977577209473,11.466922760009766,13.334562301635742,16.084217071533203,16.99195098876953,17.551912307739258,19.83246612548828,22.132427215576172,24.39134407043457,-9.698131561279297,0.4731837511062622],[-19.74555778503418,-21.514751434326172,-21.71139907836914,-22.26026153564453,-22.870574951171875,-21.084318161010742,-21.015668869018555,-20.451322555541992,-19.907133102416992,-18.834381103515625,-16.70800018310547,-15.710365295410156,-13.483892440795898,-12.051711082458496,-11.074403762817383,-9.939619064331055,-8.358217239379883,-8.852666854858398,-8.235990524291992,-7.30698299407959,-7.1198930740356445,-5.789421558380127,-7.507236957550049,-2.1578516960144043,0.7646494507789612,2.9926953315734863,5.950869560241699,8.573807716369629,9.757246971130371,11.164231300354004,12.982824325561523,14.428179740905762,16.941917419433594,18.627578735351562,17.803958892822266,20.6119384765625,20.830472946166992,22.441537857055664,21.479345321655273,20.365312576293945,20.358192443847656,19.986316680908203,21.605525970458984,22.215015411376953,22.558624267578125,22.08059310913086,22.00830078125,22.101993560791016,18.682720184326172,17.930946350097656,-1.3287245035171509,21.470409393310547],[16.786319732666016,15.001736640930176,13.210105895996094,11.126222610473633,11.540885925292969,10.252028465270996,9.306742668151855,8.884998321533203,8.936103820800781,8.553720474243164,8.037980079650879,7.911818981170654,6.572489261627197,7.283461570739746,7.435955047607422,7.34468412399292,7.8825554847717285,7.384202003479004,7.557298183441162,7.7154316902160645,5.920684337615967,5.455125331878662,4.216776371002197,1.521785020828247,-0.5576177835464478,-2.8383431434631348,-3.8969109058380127,-5.655435562133789,-6.347739219665527,-6.4455952644348145,-8.550751686096191,-9.663911819458008,-8.61181640625,-10.401934623718262,-9.015792846679688,-9.672945022583008,-10.666482925415039,-9.26354694366455,-8.68758773803711,-9.79781436920166,-11.612873077392578,-12.170900344848633,-11.249817848205566,-11.621805191040039,-12.002334594726562,-12.480972290039062,-12.612747192382812,-14.214174270629883,-14.296184539794922,-15.68923282623291,-7.0393266677856445,-6.323443412780762]],\"type\":\"heatmap\",\"xaxis\":\"x\",\"yaxis\":\"y\",\"hovertemplate\":\"src token: %{x}<br>dest token: %{y}<br>color: %{z}<extra></extra>\"}],                        {\"template\":{\"data\":{\"histogram2dcontour\":[{\"type\":\"histogram2dcontour\",\"colorbar\":{\"outlinewidth\":0,\"ticks\":\"\"},\"colorscale\":[[0.0,\"#0d0887\"],[0.1111111111111111,\"#46039f\"],[0.2222222222222222,\"#7201a8\"],[0.3333333333333333,\"#9c179e\"],[0.4444444444444444,\"#bd3786\"],[0.5555555555555556,\"#d8576b\"],[0.6666666666666666,\"#ed7953\"],[0.7777777777777778,\"#fb9f3a\"],[0.8888888888888888,\"#fdca26\"],[1.0,\"#f0f921\"]]}],\"choropleth\":[{\"type\":\"choropleth\",\"colorbar\":{\"outlinewidth\":0,\"ticks\":\"\"}}],\"histogram2d\":[{\"type\":\"histogram2d\",\"colorbar\":{\"outlinewidth\":0,\"ticks\":\"\"},\"colorscale\":[[0.0,\"#0d0887\"],[0.1111111111111111,\"#46039f\"],[0.2222222222222222,\"#7201a8\"],[0.3333333333333333,\"#9c179e\"],[0.4444444444444444,\"#bd3786\"],[0.5555555555555556,\"#d8576b\"],[0.6666666666666666,\"#ed7953\"],[0.7777777777777778,\"#fb9f3a\"],[0.8888888888888888,\"#fdca26\"],[1.0,\"#f0f921\"]]}],\"heatmap\":[{\"type\":\"heatmap\",\"colorbar\":{\"outlinewidth\":0,\"ticks\":\"\"},\"colorscale\":[[0.0,\"#0d0887\"],[0.1111111111111111,\"#46039f\"],[0.2222222222222222,\"#7201a8\"],[0.3333333333333333,\"#9c179e\"],[0.4444444444444444,\"#bd3786\"],[0.5555555555555556,\"#d8576b\"],[0.6666666666666666,\"#ed7953\"],[0.7777777777777778,\"#fb9f3a\"],[0.8888888888888888,\"#fdca26\"],[1.0,\"#f0f921\"]]}],\"heatmapgl\":[{\"type\":\"heatmapgl\",\"colorbar\":{\"outlinewidth\":0,\"ticks\":\"\"},\"colorscale\":[[0.0,\"#0d0887\"],[0.1111111111111111,\"#46039f\"],[0.2222222222222222,\"#7201a8\"],[0.3333333333333333,\"#9c179e\"],[0.4444444444444444,\"#bd3786\"],[0.5555555555555556,\"#d8576b\"],[0.6666666666666666,\"#ed7953\"],[0.7777777777777778,\"#fb9f3a\"],[0.8888888888888888,\"#fdca26\"],[1.0,\"#f0f921\"]]}],\"contourcarpet\":[{\"type\":\"contourcarpet\",\"colorbar\":{\"outlinewidth\":0,\"ticks\":\"\"}}],\"contour\":[{\"type\":\"contour\",\"colorbar\":{\"outlinewidth\":0,\"ticks\":\"\"},\"colorscale\":[[0.0,\"#0d0887\"],[0.1111111111111111,\"#46039f\"],[0.2222222222222222,\"#7201a8\"],[0.3333333333333333,\"#9c179e\"],[0.4444444444444444,\"#bd3786\"],[0.5555555555555556,\"#d8576b\"],[0.6666666666666666,\"#ed7953\"],[0.7777777777777778,\"#fb9f3a\"],[0.8888888888888888,\"#fdca26\"],[1.0,\"#f0f921\"]]}],\"surface\":[{\"type\":\"surface\",\"colorbar\":{\"outlinewidth\":0,\"ticks\":\"\"},\"colorscale\":[[0.0,\"#0d0887\"],[0.1111111111111111,\"#46039f\"],[0.2222222222222222,\"#7201a8\"],[0.3333333333333333,\"#9c179e\"],[0.4444444444444444,\"#bd3786\"],[0.5555555555555556,\"#d8576b\"],[0.6666666666666666,\"#ed7953\"],[0.7777777777777778,\"#fb9f3a\"],[0.8888888888888888,\"#fdca26\"],[1.0,\"#f0f921\"]]}],\"mesh3d\":[{\"type\":\"mesh3d\",\"colorbar\":{\"outlinewidth\":0,\"ticks\":\"\"}}],\"scatter\":[{\"fillpattern\":{\"fillmode\":\"overlay\",\"size\":10,\"solidity\":0.2},\"type\":\"scatter\"}],\"parcoords\":[{\"type\":\"parcoords\",\"line\":{\"colorbar\":{\"outlinewidth\":0,\"ticks\":\"\"}}}],\"scatterpolargl\":[{\"type\":\"scatterpolargl\",\"marker\":{\"colorbar\":{\"outlinewidth\":0,\"ticks\":\"\"}}}],\"bar\":[{\"error_x\":{\"color\":\"#2a3f5f\"},\"error_y\":{\"color\":\"#2a3f5f\"},\"marker\":{\"line\":{\"color\":\"#E5ECF6\",\"width\":0.5},\"pattern\":{\"fillmode\":\"overlay\",\"size\":10,\"solidity\":0.2}},\"type\":\"bar\"}],\"scattergeo\":[{\"type\":\"scattergeo\",\"marker\":{\"colorbar\":{\"outlinewidth\":0,\"ticks\":\"\"}}}],\"scatterpolar\":[{\"type\":\"scatterpolar\",\"marker\":{\"colorbar\":{\"outlinewidth\":0,\"ticks\":\"\"}}}],\"histogram\":[{\"marker\":{\"pattern\":{\"fillmode\":\"overlay\",\"size\":10,\"solidity\":0.2}},\"type\":\"histogram\"}],\"scattergl\":[{\"type\":\"scattergl\",\"marker\":{\"colorbar\":{\"outlinewidth\":0,\"ticks\":\"\"}}}],\"scatter3d\":[{\"type\":\"scatter3d\",\"line\":{\"colorbar\":{\"outlinewidth\":0,\"ticks\":\"\"}},\"marker\":{\"colorbar\":{\"outlinewidth\":0,\"ticks\":\"\"}}}],\"scattermapbox\":[{\"type\":\"scattermapbox\",\"marker\":{\"colorbar\":{\"outlinewidth\":0,\"ticks\":\"\"}}}],\"scatterternary\":[{\"type\":\"scatterternary\",\"marker\":{\"colorbar\":{\"outlinewidth\":0,\"ticks\":\"\"}}}],\"scattercarpet\":[{\"type\":\"scattercarpet\",\"marker\":{\"colorbar\":{\"outlinewidth\":0,\"ticks\":\"\"}}}],\"carpet\":[{\"aaxis\":{\"endlinecolor\":\"#2a3f5f\",\"gridcolor\":\"white\",\"linecolor\":\"white\",\"minorgridcolor\":\"white\",\"startlinecolor\":\"#2a3f5f\"},\"baxis\":{\"endlinecolor\":\"#2a3f5f\",\"gridcolor\":\"white\",\"linecolor\":\"white\",\"minorgridcolor\":\"white\",\"startlinecolor\":\"#2a3f5f\"},\"type\":\"carpet\"}],\"table\":[{\"cells\":{\"fill\":{\"color\":\"#EBF0F8\"},\"line\":{\"color\":\"white\"}},\"header\":{\"fill\":{\"color\":\"#C8D4E3\"},\"line\":{\"color\":\"white\"}},\"type\":\"table\"}],\"barpolar\":[{\"marker\":{\"line\":{\"color\":\"#E5ECF6\",\"width\":0.5},\"pattern\":{\"fillmode\":\"overlay\",\"size\":10,\"solidity\":0.2}},\"type\":\"barpolar\"}],\"pie\":[{\"automargin\":true,\"type\":\"pie\"}]},\"layout\":{\"autotypenumbers\":\"strict\",\"colorway\":[\"#636efa\",\"#EF553B\",\"#00cc96\",\"#ab63fa\",\"#FFA15A\",\"#19d3f3\",\"#FF6692\",\"#B6E880\",\"#FF97FF\",\"#FECB52\"],\"font\":{\"color\":\"#2a3f5f\"},\"hovermode\":\"closest\",\"hoverlabel\":{\"align\":\"left\"},\"paper_bgcolor\":\"white\",\"plot_bgcolor\":\"#E5ECF6\",\"polar\":{\"bgcolor\":\"#E5ECF6\",\"angularaxis\":{\"gridcolor\":\"white\",\"linecolor\":\"white\",\"ticks\":\"\"},\"radialaxis\":{\"gridcolor\":\"white\",\"linecolor\":\"white\",\"ticks\":\"\"}},\"ternary\":{\"bgcolor\":\"#E5ECF6\",\"aaxis\":{\"gridcolor\":\"white\",\"linecolor\":\"white\",\"ticks\":\"\"},\"baxis\":{\"gridcolor\":\"white\",\"linecolor\":\"white\",\"ticks\":\"\"},\"caxis\":{\"gridcolor\":\"white\",\"linecolor\":\"white\",\"ticks\":\"\"}},\"coloraxis\":{\"colorbar\":{\"outlinewidth\":0,\"ticks\":\"\"}},\"colorscale\":{\"sequential\":[[0.0,\"#0d0887\"],[0.1111111111111111,\"#46039f\"],[0.2222222222222222,\"#7201a8\"],[0.3333333333333333,\"#9c179e\"],[0.4444444444444444,\"#bd3786\"],[0.5555555555555556,\"#d8576b\"],[0.6666666666666666,\"#ed7953\"],[0.7777777777777778,\"#fb9f3a\"],[0.8888888888888888,\"#fdca26\"],[1.0,\"#f0f921\"]],\"sequentialminus\":[[0.0,\"#0d0887\"],[0.1111111111111111,\"#46039f\"],[0.2222222222222222,\"#7201a8\"],[0.3333333333333333,\"#9c179e\"],[0.4444444444444444,\"#bd3786\"],[0.5555555555555556,\"#d8576b\"],[0.6666666666666666,\"#ed7953\"],[0.7777777777777778,\"#fb9f3a\"],[0.8888888888888888,\"#fdca26\"],[1.0,\"#f0f921\"]],\"diverging\":[[0,\"#8e0152\"],[0.1,\"#c51b7d\"],[0.2,\"#de77ae\"],[0.3,\"#f1b6da\"],[0.4,\"#fde0ef\"],[0.5,\"#f7f7f7\"],[0.6,\"#e6f5d0\"],[0.7,\"#b8e186\"],[0.8,\"#7fbc41\"],[0.9,\"#4d9221\"],[1,\"#276419\"]]},\"xaxis\":{\"gridcolor\":\"white\",\"linecolor\":\"white\",\"ticks\":\"\",\"title\":{\"standoff\":15},\"zerolinecolor\":\"white\",\"automargin\":true,\"zerolinewidth\":2},\"yaxis\":{\"gridcolor\":\"white\",\"linecolor\":\"white\",\"ticks\":\"\",\"title\":{\"standoff\":15},\"zerolinecolor\":\"white\",\"automargin\":true,\"zerolinewidth\":2},\"scene\":{\"xaxis\":{\"backgroundcolor\":\"#E5ECF6\",\"gridcolor\":\"white\",\"linecolor\":\"white\",\"showbackground\":true,\"ticks\":\"\",\"zerolinecolor\":\"white\",\"gridwidth\":2},\"yaxis\":{\"backgroundcolor\":\"#E5ECF6\",\"gridcolor\":\"white\",\"linecolor\":\"white\",\"showbackground\":true,\"ticks\":\"\",\"zerolinecolor\":\"white\",\"gridwidth\":2},\"zaxis\":{\"backgroundcolor\":\"#E5ECF6\",\"gridcolor\":\"white\",\"linecolor\":\"white\",\"showbackground\":true,\"ticks\":\"\",\"zerolinecolor\":\"white\",\"gridwidth\":2}},\"shapedefaults\":{\"line\":{\"color\":\"#2a3f5f\"}},\"annotationdefaults\":{\"arrowcolor\":\"#2a3f5f\",\"arrowhead\":0,\"arrowwidth\":1},\"geo\":{\"bgcolor\":\"white\",\"landcolor\":\"#E5ECF6\",\"subunitcolor\":\"white\",\"showland\":true,\"showlakes\":true,\"lakecolor\":\"white\"},\"title\":{\"x\":0.05},\"mapbox\":{\"style\":\"light\"}}},\"xaxis\":{\"anchor\":\"y\",\"domain\":[0.0,1.0],\"scaleanchor\":\"y\",\"constrain\":\"domain\",\"title\":{\"text\":\"src token\"}},\"yaxis\":{\"anchor\":\"x\",\"domain\":[0.0,1.0],\"autorange\":\"reversed\",\"constrain\":\"domain\",\"title\":{\"text\":\"dest token\"}},\"coloraxis\":{\"colorscale\":[[0.0,\"rgb(103,0,31)\"],[0.1,\"rgb(178,24,43)\"],[0.2,\"rgb(214,96,77)\"],[0.3,\"rgb(244,165,130)\"],[0.4,\"rgb(253,219,199)\"],[0.5,\"rgb(247,247,247)\"],[0.6,\"rgb(209,229,240)\"],[0.7,\"rgb(146,197,222)\"],[0.8,\"rgb(67,147,195)\"],[0.9,\"rgb(33,102,172)\"],[1.0,\"rgb(5,48,97)\"]],\"cmid\":0.0},\"title\":{\"text\":\"Full QK circuit W_E @ W_QK @ W_E.T\"}},                        {\"responsive\": true}                    ).then(function(){\n",
              "                            \n",
              "var gd = document.getElementById('dbe24e7a-27fb-4ea2-abca-929768aa1531');\n",
              "var x = new MutationObserver(function (mutations, observer) {{\n",
              "        var display = window.getComputedStyle(gd).display;\n",
              "        if (!display || display === 'none') {{\n",
              "            console.log([gd, 'removed!']);\n",
              "            Plotly.purge(gd);\n",
              "            observer.disconnect();\n",
              "        }}\n",
              "}});\n",
              "\n",
              "// Listen for the removal of the full notebook cells\n",
              "var notebookContainer = gd.closest('#notebook-container');\n",
              "if (notebookContainer) {{\n",
              "    x.observe(notebookContainer, {childList: true});\n",
              "}}\n",
              "\n",
              "// Listen for the clearing of the current output cell\n",
              "var outputEl = gd.closest('.output');\n",
              "if (outputEl) {{\n",
              "    x.observe(outputEl, {childList: true});\n",
              "}}\n",
              "\n",
              "                        })                };                            </script>        </div>\n",
              "</body>\n",
              "</html>"
            ]
          },
          "metadata": {}
        }
      ]
    },
    {
      "cell_type": "markdown",
      "source": [
        "We can interpret this as \"attend to src tokens that are bigger than the current destination token, but not too much bigger.\" One rough metric to double check this is to see the fraction of the time a destination token gives the highest attn score to dest_token + 1\n"
      ],
      "metadata": {
        "id": "lg2WNaeUp2H3"
      }
    },
    {
      "cell_type": "code",
      "source": [
        "top_1_acc = ((model.W_E @ model.QK[0,0].AB @ model.W_E.T)[:-2, :-2].max(dim=-1).indices == (torch.arange(cfg.d_vocab_out, device=device) + 1)).float().mean()\n",
        "print(\"Fraction of the time dest_token gives highest score to dest_token+1:\", top_1_acc.item())"
      ],
      "metadata": {
        "colab": {
          "base_uri": "https://localhost:8080/"
        },
        "id": "H88HnfvLCnEA",
        "outputId": "41da5b1b-2ac0-4f9c-f199-2223747271c2"
      },
      "execution_count": 32,
      "outputs": [
        {
          "output_type": "stream",
          "name": "stdout",
          "text": [
            "Fraction of the time dest_token gives highest score to dest_token+1: 0.6200000047683716\n"
          ]
        }
      ]
    },
    {
      "cell_type": "markdown",
      "source": [
        "Finally, the $W_EW_{QK}W_{pos}^T$ term:"
      ],
      "metadata": {
        "id": "lVNGJtDia2DM"
      }
    },
    {
      "cell_type": "code",
      "source": [
        "imshow(\n",
        "    model.W_E @ model.QK[0,0].AB @ model.W_pos.T,\n",
        "    title=\"Full QK circuit W_E @ W_QK @ W_pos.T\",\n",
        "    yaxis=\"dest token\", xaxis=\"src pos\",\n",
        "    x=tokens_to_plotly_labels(test_data)\n",
        ")"
      ],
      "metadata": {
        "colab": {
          "base_uri": "https://localhost:8080/",
          "height": 542
        },
        "id": "B12S9bhxqFfo",
        "outputId": "bbf287a0-1dc2-445d-f9c8-4f2fbe320a1f"
      },
      "execution_count": 33,
      "outputs": [
        {
          "output_type": "display_data",
          "data": {
            "text/html": [
              "<html>\n",
              "<head><meta charset=\"utf-8\" /></head>\n",
              "<body>\n",
              "    <div>            <script src=\"https://cdnjs.cloudflare.com/ajax/libs/mathjax/2.7.5/MathJax.js?config=TeX-AMS-MML_SVG\"></script><script type=\"text/javascript\">if (window.MathJax && window.MathJax.Hub && window.MathJax.Hub.Config) {window.MathJax.Hub.Config({SVG: {font: \"STIX-Web\"}});}</script>                <script type=\"text/javascript\">window.PlotlyConfig = {MathJaxConfig: 'local'};</script>\n",
              "        <script src=\"https://cdn.plot.ly/plotly-2.18.2.min.js\"></script>                <div id=\"9bf2a09f-902a-4829-88b4-0fda8a405f3e\" class=\"plotly-graph-div\" style=\"height:525px; width:100%;\"></div>            <script type=\"text/javascript\">                                    window.PLOTLYENV=window.PLOTLYENV || {};                                    if (document.getElementById(\"9bf2a09f-902a-4829-88b4-0fda8a405f3e\")) {                    Plotly.newPlot(                        \"9bf2a09f-902a-4829-88b4-0fda8a405f3e\",                        [{\"coloraxis\":\"coloraxis\",\"name\":\"0\",\"x\":[\"BOS\",\"46_1\",\"11_2\",\"2_3\",\"25_4\",\"43_5\",\"12_6\",\"44_7\",\"41_8\",\"44_9\",\"4_10\",\"MID\",\"2_12\",\"4_13\",\"11_14\",\"12_15\",\"25_16\",\"41_17\",\"43_18\",\"44_19\",\"44_20\",\"46_21\"],\"z\":[[8.489625930786133,-7.0423970222473145,-6.7517290115356445,-7.376256942749023,-7.495912551879883,-7.073355674743652,-6.990190505981445,-7.093021392822266,-7.105669021606445,-6.818458557128906,-6.639552116394043,-19.728240966796875,-20.10203742980957,-9.206424713134766,-1.0956039428710938,4.121198654174805,9.249576568603516,15.838552474975586,21.201396942138672,28.147144317626953,34.18948745727539,-0.2172938585281372],[8.565801620483398,-3.8528175354003906,-3.530290365219116,-4.05204963684082,-4.3105316162109375,-3.7891247272491455,-3.849869728088379,-3.7648284435272217,-3.924537181854248,-3.4967918395996094,-3.4794533252716064,-17.82097625732422,-24.1467342376709,-13.454214096069336,-5.4828596115112305,-0.13710230588912964,5.437016010284424,11.916609764099121,17.702144622802734,24.310569763183594,31.134572982788086,-0.08681589365005493],[8.67058277130127,-2.342311382293701,-2.106731653213501,-2.658576726913452,-2.845336437225342,-2.3128676414489746,-2.4198343753814697,-2.35678768157959,-2.482910633087158,-2.0630908012390137,-2.024399757385254,-16.695819854736328,-26.73468589782715,-15.749449729919434,-7.614408493041992,-1.6040008068084717,4.123617172241211,10.249078750610352,16.089670181274414,21.41814422607422,24.162822723388672,-0.05971181392669678],[8.345602035522461,-2.586028575897217,-2.2725822925567627,-2.836373805999756,-2.9531636238098145,-2.499995708465576,-2.6344361305236816,-2.4978365898132324,-2.7403016090393066,-2.2977285385131836,-2.1305105686187744,-16.64761734008789,-26.682790756225586,-15.522065162658691,-7.8675408363342285,-1.945885181427002,3.723702907562256,10.18989372253418,15.96950626373291,21.874740600585938,23.4326229095459,-0.21935832500457764],[7.8312506675720215,-1.9532015323638916,-1.6524568796157837,-2.2423267364501953,-2.5216689109802246,-1.9573132991790771,-2.0883617401123047,-1.8946118354797363,-2.1411561965942383,-1.6843026876449585,-1.7640068531036377,-14.004634857177734,-24.75579833984375,-15.08527660369873,-8.111885070800781,-2.436349391937256,2.440751791000366,8.38258171081543,14.101184844970703,19.77806854248047,20.48920440673828,-0.24479353427886963],[8.134881973266602,-1.0464019775390625,-0.8877608180046082,-1.2548692226409912,-1.4890553951263428,-0.949525773525238,-1.143652319908142,-1.143239140510559,-1.2393327951431274,-0.8306286931037903,-0.7991495728492737,-13.281916618347168,-26.37936019897461,-16.50469398498535,-9.24167251586914,-3.4818274974823,1.365747332572937,7.469562530517578,13.227092742919922,19.121498107910156,17.898351669311523,-0.5497788190841675],[8.032474517822266,-0.016994476318359375,0.25877535343170166,-0.3521738648414612,-0.505323052406311,-0.1048583984375,-0.21090537309646606,-0.06341558694839478,-0.12080389261245728,0.13210707902908325,0.15174996852874756,-12.151548385620117,-28.709863662719727,-18.227813720703125,-10.705551147460938,-4.791037559509277,0.39290547370910645,6.475492477416992,11.839149475097656,17.65787124633789,15.454983711242676,-0.6231307983398438],[7.532496452331543,0.6973648071289062,0.8728476762771606,0.44364434480667114,0.25810885429382324,0.6356420516967773,0.41684845089912415,0.5576143264770508,0.4444535970687866,0.7617686986923218,0.7902510762214661,-9.76837158203125,-26.010074615478516,-17.351360321044922,-10.269315719604492,-5.069431781768799,-0.8795588612556458,5.252152442932129,10.342803955078125,15.578062057495117,13.645853042602539,-0.5231531858444214],[7.600876808166504,1.3514515161514282,1.6937824487686157,1.2168972492218018,1.058700442314148,1.392676591873169,1.2557076215744019,1.3690354824066162,1.3120262622833252,1.5719709396362305,1.6086835861206055,-8.28963851928711,-26.753782272338867,-18.220741271972656,-11.044836044311523,-6.261429786682129,-1.565384864807129,3.80112361907959,9.068324089050293,13.267824172973633,10.109270095825195,-0.6318840980529785],[6.723363876342773,1.9714689254760742,2.1902456283569336,1.8685455322265625,1.640552043914795,2.0805282592773438,1.8515708446502686,1.9587559700012207,1.9180049896240234,2.0829925537109375,2.1481261253356934,-5.854994773864746,-24.163829803466797,-17.173635482788086,-10.927054405212402,-6.26878547668457,-2.166175365447998,2.412794589996338,7.25166130065918,10.765192031860352,9.047525405883789,-0.5540057420730591],[6.9641523361206055,1.7822518348693848,2.036565065383911,1.5489776134490967,1.5484918355941772,1.9062799215316772,1.7049338817596436,1.752075433731079,1.7112762928009033,1.9121274948120117,1.9885492324829102,-6.295031547546387,-24.348495483398438,-16.915056228637695,-11.048022270202637,-6.668732643127441,-2.4523262977600098,1.897995948791504,6.410726547241211,10.18810749053955,11.217855453491211,-0.5632846355438232],[6.770294189453125,2.8618481159210205,3.0780317783355713,2.617812156677246,2.63055419921875,2.864396095275879,2.676994800567627,2.911421298980713,2.8059775829315186,3.065389633178711,3.0455737113952637,-5.214341163635254,-26.373104095458984,-19.29568099975586,-13.073798179626465,-8.680501937866211,-4.120379447937012,0.8889027833938599,6.002793312072754,10.017329216003418,13.127031326293945,-1.004662275314331],[5.671723365783691,3.2590088844299316,3.4438586235046387,3.222964286804199,3.1347157955169678,3.282351016998291,3.1844406127929688,3.361266851425171,3.2098753452301025,3.435234546661377,3.5032174587249756,-3.4478020668029785,-22.900562286376953,-16.36357879638672,-12.1388521194458,-8.44316577911377,-4.297053337097168,-0.45464932918548584,3.511643409729004,6.840949058532715,13.159065246582031,-0.8392821550369263],[5.727221965789795,5.296976566314697,5.6482110023498535,5.375655174255371,5.116122722625732,5.522098541259766,5.26914119720459,5.440582752227783,5.287552356719971,5.56818151473999,5.606739044189453,-1.783494234085083,-27.532493591308594,-20.47582244873047,-15.854341506958008,-11.933257102966309,-7.673091888427734,-2.913341999053955,1.5553054809570312,4.258343696594238,8.74482536315918,-0.13142725825309753],[5.05555534362793,5.067054748535156,5.35809326171875,5.024595737457275,4.883854389190674,5.207050323486328,5.220455169677734,5.281221389770508,5.0790486335754395,5.414273738861084,5.324067115783691,-1.366511344909668,-24.11511993408203,-18.817333221435547,-14.8208589553833,-11.11565113067627,-7.283814430236816,-2.741623640060425,1.3347647190093994,4.913310527801514,10.215432167053223,-0.5533730983734131],[4.98610258102417,5.962175369262695,6.300639629364014,5.97565221786499,5.649572849273682,5.998814105987549,5.952452659606934,6.023800849914551,6.0018534660339355,6.200496196746826,6.119456768035889,-0.6357189416885376,-25.55914306640625,-20.763263702392578,-16.231538772583008,-12.210567474365234,-8.30980396270752,-3.147510290145874,1.7910642623901367,6.295732021331787,10.819517135620117,-0.8433172106742859],[3.8298938274383545,5.701581954956055,6.015692710876465,5.75730037689209,5.413060188293457,5.8299455642700195,5.621493339538574,5.8501996994018555,5.820368766784668,5.948666572570801,5.767374038696289,0.2017451524734497,-21.65772247314453,-18.376602172851562,-15.168004035949707,-11.876176834106445,-8.568831443786621,-3.3967370986938477,0.5338153839111328,5.029231548309326,12.115875244140625,-0.647197961807251],[3.5595431327819824,5.727666854858398,5.841243267059326,5.707934856414795,5.240815162658691,5.806939601898193,5.6329145431518555,5.742132186889648,5.70002555847168,5.952427864074707,5.844054222106934,1.0413239002227783,-18.19963836669922,-15.844603538513184,-13.467994689941406,-10.965890884399414,-8.731185913085938,-4.230151176452637,0.08000770211219788,4.920248508453369,16.89812660217285,-0.21392637491226196],[2.3670449256896973,5.082339286804199,5.215065002441406,5.227896213531494,4.728944301605225,5.13297700881958,5.056629657745361,5.06754207611084,5.092876434326172,5.237654209136963,5.218879222869873,1.5607173442840576,-14.568004608154297,-13.428401947021484,-11.474857330322266,-9.857433319091797,-7.954586982727051,-4.506594657897949,-0.49258512258529663,4.062040328979492,16.76248550415039,0.3046484589576721],[1.256514310836792,6.525132179260254,6.4904069900512695,6.435642719268799,6.004021167755127,6.468542575836182,6.392928123474121,6.406999588012695,6.460012435913086,6.534989356994629,6.382088661193848,3.609652042388916,-11.873357772827148,-11.692973136901855,-11.047510147094727,-10.272716522216797,-8.793767929077148,-6.608770847320557,-3.7502589225769043,-0.48282134532928467,10.310579299926758,0.5560063719749451],[0.09363046288490295,6.982513427734375,7.088395118713379,6.9177703857421875,6.516594886779785,7.056877136230469,6.855964660644531,7.077459335327148,6.9765472412109375,7.054011344909668,6.836662292480469,4.934525966644287,-8.95047378540039,-9.847637176513672,-9.682042121887207,-9.623666763305664,-9.474508285522461,-7.381048202514648,-5.22688627243042,-2.1470227241516113,8.12289810180664,0.21437221765518188],[-0.6271896362304688,9.068718910217285,9.194671630859375,9.055946350097656,8.834817886352539,9.318948745727539,8.947340965270996,9.136343002319336,9.005565643310547,9.064096450805664,8.907251358032227,7.32471227645874,-8.994970321655273,-11.003337860107422,-11.509933471679688,-11.760995864868164,-11.670368194580078,-10.402143478393555,-9.038989067077637,-7.511384963989258,-6.650163173675537,0.6249808073043823],[-2.784693479537964,6.805702209472656,6.618584632873535,6.755486488342285,6.525090217590332,6.909726142883301,6.64119815826416,6.7794952392578125,6.812161922454834,6.7715654373168945,6.602903366088867,6.518318176269531,0.9337539672851562,-3.3294332027435303,-5.090730667114258,-6.921642780303955,-8.649925231933594,-9.13995361328125,-8.250801086425781,-7.692378997802734,-9.96729850769043,1.1670703887939453],[-4.0543975830078125,6.931180000305176,6.7151570320129395,7.160900592803955,6.85610818862915,7.156513690948486,6.883471488952637,7.053355693817139,6.987343788146973,6.978625774383545,6.851712226867676,8.264778137207031,6.074060440063477,0.3251988887786865,-2.7762861251831055,-5.946015357971191,-8.150135040283203,-9.946991920471191,-9.732210159301758,-9.493353843688965,-15.471569061279297,0.9849849939346313],[-4.376062393188477,7.84001350402832,7.680272579193115,8.178264617919922,7.831015110015869,8.119791984558105,7.865134239196777,7.937570571899414,8.105957984924316,7.800605773925781,7.835519790649414,9.406946182250977,8.249143600463867,2.097836971282959,-1.8137171268463135,-5.713656425476074,-8.906267166137695,-12.03719711303711,-12.61475944519043,-12.928505897521973,-22.4114933013916,0.5683023929595947],[-5.495584487915039,5.071627616882324,4.850412368774414,5.254284381866455,5.121196746826172,5.285425186157227,5.140299320220947,5.181039810180664,5.322249412536621,5.052684783935547,5.132781028747559,8.480117797851562,15.68746566772461,8.04883861541748,3.7259325981140137,-1.6822575330734253,-6.1177520751953125,-10.444764137268066,-12.047407150268555,-13.59105110168457,-22.253108978271484,0.69195157289505],[-5.3389434814453125,4.2963337898254395,4.189624786376953,4.65573787689209,4.433972358703613,4.395080089569092,4.399575233459473,4.440463066101074,4.62316370010376,4.238914966583252,4.455575942993164,8.83183479309082,16.374113082885742,8.806146621704102,4.601583003997803,-1.041371464729309,-5.438448905944824,-9.408218383789062,-11.988882064819336,-14.894439697265625,-22.99513053894043,0.18709370493888855],[-5.441461563110352,4.972823143005371,4.935503005981445,5.4227471351623535,5.099530220031738,5.14506196975708,5.053135395050049,5.099731922149658,5.203395366668701,4.995024681091309,5.152164459228516,9.234212875366211,14.245841979980469,6.79872989654541,2.9262900352478027,-1.963088870048523,-5.725201606750488,-9.563040733337402,-12.155496597290039,-15.016830444335938,-19.45987319946289,0.6384294629096985],[-6.263097763061523,4.087533473968506,4.0573649406433105,4.454216003417969,4.133978366851807,4.061275005340576,4.193168640136719,4.211012840270996,4.225396633148193,4.010098457336426,4.153913974761963,10.199352264404297,18.18972396850586,9.219240188598633,3.800288677215576,-0.40731120109558105,-4.6206135749816895,-8.942340850830078,-12.551526069641113,-15.549118041992188,-15.129887580871582,0.29544153809547424],[-5.467502593994141,4.358464241027832,4.151673316955566,4.517527103424072,4.29486083984375,4.17759370803833,4.385633945465088,4.356481552124023,4.483151435852051,4.257044315338135,4.157950401306152,10.578624725341797,17.188718795776367,8.102807998657227,3.2824065685272217,-0.6549482345581055,-5.139306545257568,-9.244879722595215,-11.870415687561035,-14.840371131896973,-15.501623153686523,0.38166576623916626],[-5.802482604980469,4.631280422210693,4.337400913238525,4.848143577575684,4.580329895019531,4.542032718658447,4.553621292114258,4.599360466003418,4.666670322418213,4.313192367553711,4.3171563148498535,10.606708526611328,16.702152252197266,8.509231567382812,3.295057535171509,-0.4471309185028076,-5.077042579650879,-10.045324325561523,-12.69433307647705,-15.606340408325195,-20.409164428710938,0.3441806435585022],[-6.3200225830078125,4.151701927185059,3.8974573612213135,4.491164207458496,4.3127899169921875,4.157349109649658,4.1551513671875,4.2661590576171875,4.313437461853027,4.0818963050842285,3.882624626159668,11.540102005004883,16.797252655029297,9.32036304473877,3.576972484588623,-0.3028124272823334,-4.487887382507324,-9.892934799194336,-12.87804889678955,-17.122718811035156,-20.549976348876953,0.7454106211662292],[-5.632521629333496,5.130532264709473,4.9136762619018555,5.437264442443848,5.293607711791992,5.2031636238098145,5.181081295013428,5.192684173583984,5.263675689697266,5.104328155517578,4.795344352722168,12.860551834106445,15.100780487060547,7.79594612121582,2.054313898086548,-1.1810452938079834,-4.940049171447754,-11.084274291992188,-14.428123474121094,-20.08103370666504,-26.31841278076172,0.5682737231254578],[-5.658875465393066,3.0256524085998535,2.689858913421631,3.220532178878784,3.3749611377716064,2.9822020530700684,3.0298171043395996,2.873218297958374,3.2038159370422363,2.7773516178131104,2.803931951522827,11.244820594787598,18.194738388061523,11.779335021972656,5.442037582397461,1.9317448139190674,-2.249850273132324,-8.205631256103516,-12.996739387512207,-19.207630157470703,-26.299917221069336,0.6665986776351929],[-5.969474792480469,3.5138556957244873,3.1685879230499268,3.7404537200927734,3.845608711242676,3.5300323963165283,3.51863694190979,3.209113597869873,3.5098953247070312,3.2245874404907227,3.249753952026367,12.53753662109375,18.7348575592041,11.681360244750977,4.522858619689941,0.45823174715042114,-3.6338045597076416,-9.187211990356445,-14.081375122070312,-20.205947875976562,-28.218788146972656,0.17920875549316406],[-6.673738479614258,3.401510715484619,3.116042137145996,3.8454527854919434,3.9255621433258057,3.5959110260009766,3.461082696914673,3.1778321266174316,3.3920278549194336,3.1458725929260254,3.134251594543457,14.131316184997559,22.739845275878906,13.564933776855469,5.565489292144775,1.4243412017822266,-4.005861759185791,-9.957967758178711,-15.56169319152832,-22.748889923095703,-32.94599151611328,-0.12657582759857178],[-7.111260414123535,3.8176167011260986,3.5641393661499023,4.140706539154053,4.434167861938477,4.012851715087891,3.8476524353027344,3.8400630950927734,3.8135499954223633,3.602619171142578,3.5052413940429688,14.455550193786621,21.12647247314453,12.636110305786133,4.58976411819458,-0.15999484062194824,-5.625174522399902,-11.652555465698242,-17.552696228027344,-24.42770004272461,-33.67341232299805,-0.2968571186065674],[-7.237793922424316,3.438218355178833,3.357778787612915,3.8691444396972656,4.122662544250488,3.678802728652954,3.5877015590667725,3.56257963180542,3.754817008972168,3.3475255966186523,3.1819939613342285,14.131828308105469,19.956073760986328,11.784614562988281,4.222046852111816,-0.6449698209762573,-4.801446914672852,-10.318238258361816,-16.031246185302734,-22.236055374145508,-23.33721923828125,-0.7053940296173096],[-6.278454780578613,2.494812488555908,2.416356325149536,2.8172943592071533,3.0229578018188477,2.6026434898376465,2.5329575538635254,2.4236676692962646,2.7074527740478516,2.410557270050049,2.2014658451080322,13.77850341796875,21.934978485107422,12.948559761047363,5.724026679992676,0.3755529522895813,-3.6656246185302734,-8.758113861083984,-13.719552993774414,-19.264936447143555,-15.52357292175293,-0.25074708461761475],[-6.545833110809326,3.7365643978118896,3.4435410499572754,4.097584247589111,4.095158576965332,3.742372751235962,3.8480234146118164,3.5540318489074707,3.920943260192871,3.5753095149993896,3.3629517555236816,16.761064529418945,25.431163787841797,15.255953788757324,7.144693851470947,0.7539728879928589,-4.587013244628906,-10.515287399291992,-16.64346694946289,-23.532283782958984,-22.477893829345703,0.1852412223815918],[-4.666034698486328,7.835311412811279,7.516091346740723,7.982117176055908,8.262929916381836,7.859664440155029,7.719875335693359,7.569288730621338,7.935250282287598,7.485162734985352,7.310312271118164,18.628246307373047,15.589804649353027,7.192074775695801,1.0816439390182495,-4.929074287414551,-9.289101600646973,-14.522136688232422,-19.743305206298828,-27.78874969482422,-34.17231750488281,0.7622083425521851],[-5.2751545906066895,5.184303283691406,4.971375465393066,5.3966755867004395,5.652190208435059,5.155849456787109,5.112198829650879,5.035898208618164,5.240033149719238,4.802750587463379,4.702641487121582,16.251163482666016,16.987937927246094,8.656856536865234,3.175553321838379,-2.2575855255126953,-6.0568084716796875,-11.55804443359375,-16.57195281982422,-25.83148956298828,-35.871131896972656,0.7575216293334961],[-5.4640326499938965,4.7027435302734375,4.536027431488037,5.137937545776367,5.393776893615723,4.8117289543151855,4.9081525802612305,4.653271198272705,4.832367420196533,4.43558406829834,4.414276599884033,17.636926651000977,22.819602966308594,13.107889175415039,5.600584030151367,-0.7674437165260315,-5.269038200378418,-13.015336990356445,-19.300399780273438,-29.760862350463867,-40.507259368896484,0.3679981231689453],[-6.37793493270874,4.173972129821777,3.857961416244507,4.404154300689697,4.664718151092529,4.213797092437744,4.083522796630859,4.072158336639404,4.302872657775879,3.7990505695343018,3.670503616333008,17.663127899169922,22.268482208251953,12.959701538085938,5.236891746520996,-0.8493747115135193,-5.4804229736328125,-12.524450302124023,-19.043468475341797,-29.197649002075195,-35.026039123535156,0.378786563873291],[-6.050959587097168,3.40976619720459,2.957679510116577,3.4718780517578125,3.872398853302002,3.3175199031829834,3.2506322860717773,3.226208209991455,3.293914556503296,2.898376226425171,2.693661689758301,16.8645076751709,24.258270263671875,14.66913890838623,6.585446834564209,0.1427484154701233,-5.0082550048828125,-10.74332046508789,-18.311222076416016,-26.773771286010742,-30.49691390991211,0.13472306728363037],[-5.535484790802002,1.144715428352356,1.0377389192581177,1.3299789428710938,1.766944169998169,1.1913070678710938,1.305001139640808,1.190906286239624,1.2287883758544922,0.8001847863197327,0.7507529258728027,12.383577346801758,21.01390266418457,13.719930648803711,7.381054878234863,2.3273305892944336,-1.7691655158996582,-7.4442243576049805,-14.365276336669922,-23.091745376586914,-27.092910766601562,0.04905825853347778],[-5.58209228515625,-1.408393383026123,-1.5985171794891357,-1.2139323949813843,-0.7252228260040283,-1.3769850730895996,-1.3658677339553833,-1.5983213186264038,-1.5217398405075073,-1.8494102954864502,-1.871865153312683,10.997089385986328,26.94083023071289,18.490100860595703,11.668146133422852,6.605391025543213,2.0660645961761475,-3.876070737838745,-11.475948333740234,-20.336021423339844,-23.980819702148438,0.1955292820930481],[-5.998379707336426,-5.750811576843262,-5.987951755523682,-5.418350696563721,-5.124224662780762,-5.649293422698975,-5.600024223327637,-5.803027153015137,-5.679287910461426,-6.009664535522461,-6.043036460876465,5.616445064544678,36.805599212646484,28.623342514038086,19.841567993164062,13.414743423461914,8.015874862670898,0.8184388279914856,-7.836626052856445,-16.657100677490234,-18.48682975769043,0.49208563566207886],[-6.035782337188721,-5.63964319229126,-6.124174118041992,-5.521501064300537,-5.178570747375488,-5.721824645996094,-5.563905715942383,-5.971957206726074,-5.720438480377197,-6.149290084838867,-6.268044948577881,5.9731364250183105,43.27803039550781,33.86412811279297,22.806747436523438,15.568354606628418,8.840814590454102,-0.10556411743164062,-10.575748443603516,-21.617904663085938,-28.482421875,0.47261232137680054],[-5.650611877441406,-7.129370212554932,-7.537678241729736,-6.969761848449707,-6.553736686706543,-7.299107551574707,-7.073088645935059,-7.426797866821289,-7.1966753005981445,-7.603000164031982,-7.7012858390808105,5.823580741882324,41.436283111572266,32.50864791870117,23.444290161132812,16.762996673583984,10.353982925415039,1.8241918087005615,-7.9590840339660645,-18.384239196777344,-29.567073822021484,0.2531604766845703],[-3.2637381553649902,16.312959671020508,16.23441505432129,16.71185302734375,16.436229705810547,16.54281997680664,16.216297149658203,16.240890502929688,16.509994506835938,16.2121524810791,16.023733139038086,23.102188110351562,-3.457123279571533,-11.355114936828613,-15.30038070678711,-18.667537689208984,-21.052038192749023,-23.660978317260742,-24.064184188842773,-27.84808349609375,-34.165191650390625,0.09223651885986328],[-6.125435829162598,-10.005374908447266,-10.043140411376953,-10.103508949279785,-10.026416778564453,-10.227510452270508,-9.836967468261719,-9.783394813537598,-9.977679252624512,-9.911630630493164,-9.744308471679688,-7.351011276245117,10.430818557739258,9.920774459838867,10.718506813049316,11.742959976196289,11.351608276367188,11.46234130859375,11.511209487915039,15.439512252807617,26.14875602722168,0.3556436002254486]],\"type\":\"heatmap\",\"xaxis\":\"x\",\"yaxis\":\"y\",\"hovertemplate\":\"src pos: %{x}<br>dest token: %{y}<br>color: %{z}<extra></extra>\"}],                        {\"template\":{\"data\":{\"histogram2dcontour\":[{\"type\":\"histogram2dcontour\",\"colorbar\":{\"outlinewidth\":0,\"ticks\":\"\"},\"colorscale\":[[0.0,\"#0d0887\"],[0.1111111111111111,\"#46039f\"],[0.2222222222222222,\"#7201a8\"],[0.3333333333333333,\"#9c179e\"],[0.4444444444444444,\"#bd3786\"],[0.5555555555555556,\"#d8576b\"],[0.6666666666666666,\"#ed7953\"],[0.7777777777777778,\"#fb9f3a\"],[0.8888888888888888,\"#fdca26\"],[1.0,\"#f0f921\"]]}],\"choropleth\":[{\"type\":\"choropleth\",\"colorbar\":{\"outlinewidth\":0,\"ticks\":\"\"}}],\"histogram2d\":[{\"type\":\"histogram2d\",\"colorbar\":{\"outlinewidth\":0,\"ticks\":\"\"},\"colorscale\":[[0.0,\"#0d0887\"],[0.1111111111111111,\"#46039f\"],[0.2222222222222222,\"#7201a8\"],[0.3333333333333333,\"#9c179e\"],[0.4444444444444444,\"#bd3786\"],[0.5555555555555556,\"#d8576b\"],[0.6666666666666666,\"#ed7953\"],[0.7777777777777778,\"#fb9f3a\"],[0.8888888888888888,\"#fdca26\"],[1.0,\"#f0f921\"]]}],\"heatmap\":[{\"type\":\"heatmap\",\"colorbar\":{\"outlinewidth\":0,\"ticks\":\"\"},\"colorscale\":[[0.0,\"#0d0887\"],[0.1111111111111111,\"#46039f\"],[0.2222222222222222,\"#7201a8\"],[0.3333333333333333,\"#9c179e\"],[0.4444444444444444,\"#bd3786\"],[0.5555555555555556,\"#d8576b\"],[0.6666666666666666,\"#ed7953\"],[0.7777777777777778,\"#fb9f3a\"],[0.8888888888888888,\"#fdca26\"],[1.0,\"#f0f921\"]]}],\"heatmapgl\":[{\"type\":\"heatmapgl\",\"colorbar\":{\"outlinewidth\":0,\"ticks\":\"\"},\"colorscale\":[[0.0,\"#0d0887\"],[0.1111111111111111,\"#46039f\"],[0.2222222222222222,\"#7201a8\"],[0.3333333333333333,\"#9c179e\"],[0.4444444444444444,\"#bd3786\"],[0.5555555555555556,\"#d8576b\"],[0.6666666666666666,\"#ed7953\"],[0.7777777777777778,\"#fb9f3a\"],[0.8888888888888888,\"#fdca26\"],[1.0,\"#f0f921\"]]}],\"contourcarpet\":[{\"type\":\"contourcarpet\",\"colorbar\":{\"outlinewidth\":0,\"ticks\":\"\"}}],\"contour\":[{\"type\":\"contour\",\"colorbar\":{\"outlinewidth\":0,\"ticks\":\"\"},\"colorscale\":[[0.0,\"#0d0887\"],[0.1111111111111111,\"#46039f\"],[0.2222222222222222,\"#7201a8\"],[0.3333333333333333,\"#9c179e\"],[0.4444444444444444,\"#bd3786\"],[0.5555555555555556,\"#d8576b\"],[0.6666666666666666,\"#ed7953\"],[0.7777777777777778,\"#fb9f3a\"],[0.8888888888888888,\"#fdca26\"],[1.0,\"#f0f921\"]]}],\"surface\":[{\"type\":\"surface\",\"colorbar\":{\"outlinewidth\":0,\"ticks\":\"\"},\"colorscale\":[[0.0,\"#0d0887\"],[0.1111111111111111,\"#46039f\"],[0.2222222222222222,\"#7201a8\"],[0.3333333333333333,\"#9c179e\"],[0.4444444444444444,\"#bd3786\"],[0.5555555555555556,\"#d8576b\"],[0.6666666666666666,\"#ed7953\"],[0.7777777777777778,\"#fb9f3a\"],[0.8888888888888888,\"#fdca26\"],[1.0,\"#f0f921\"]]}],\"mesh3d\":[{\"type\":\"mesh3d\",\"colorbar\":{\"outlinewidth\":0,\"ticks\":\"\"}}],\"scatter\":[{\"fillpattern\":{\"fillmode\":\"overlay\",\"size\":10,\"solidity\":0.2},\"type\":\"scatter\"}],\"parcoords\":[{\"type\":\"parcoords\",\"line\":{\"colorbar\":{\"outlinewidth\":0,\"ticks\":\"\"}}}],\"scatterpolargl\":[{\"type\":\"scatterpolargl\",\"marker\":{\"colorbar\":{\"outlinewidth\":0,\"ticks\":\"\"}}}],\"bar\":[{\"error_x\":{\"color\":\"#2a3f5f\"},\"error_y\":{\"color\":\"#2a3f5f\"},\"marker\":{\"line\":{\"color\":\"#E5ECF6\",\"width\":0.5},\"pattern\":{\"fillmode\":\"overlay\",\"size\":10,\"solidity\":0.2}},\"type\":\"bar\"}],\"scattergeo\":[{\"type\":\"scattergeo\",\"marker\":{\"colorbar\":{\"outlinewidth\":0,\"ticks\":\"\"}}}],\"scatterpolar\":[{\"type\":\"scatterpolar\",\"marker\":{\"colorbar\":{\"outlinewidth\":0,\"ticks\":\"\"}}}],\"histogram\":[{\"marker\":{\"pattern\":{\"fillmode\":\"overlay\",\"size\":10,\"solidity\":0.2}},\"type\":\"histogram\"}],\"scattergl\":[{\"type\":\"scattergl\",\"marker\":{\"colorbar\":{\"outlinewidth\":0,\"ticks\":\"\"}}}],\"scatter3d\":[{\"type\":\"scatter3d\",\"line\":{\"colorbar\":{\"outlinewidth\":0,\"ticks\":\"\"}},\"marker\":{\"colorbar\":{\"outlinewidth\":0,\"ticks\":\"\"}}}],\"scattermapbox\":[{\"type\":\"scattermapbox\",\"marker\":{\"colorbar\":{\"outlinewidth\":0,\"ticks\":\"\"}}}],\"scatterternary\":[{\"type\":\"scatterternary\",\"marker\":{\"colorbar\":{\"outlinewidth\":0,\"ticks\":\"\"}}}],\"scattercarpet\":[{\"type\":\"scattercarpet\",\"marker\":{\"colorbar\":{\"outlinewidth\":0,\"ticks\":\"\"}}}],\"carpet\":[{\"aaxis\":{\"endlinecolor\":\"#2a3f5f\",\"gridcolor\":\"white\",\"linecolor\":\"white\",\"minorgridcolor\":\"white\",\"startlinecolor\":\"#2a3f5f\"},\"baxis\":{\"endlinecolor\":\"#2a3f5f\",\"gridcolor\":\"white\",\"linecolor\":\"white\",\"minorgridcolor\":\"white\",\"startlinecolor\":\"#2a3f5f\"},\"type\":\"carpet\"}],\"table\":[{\"cells\":{\"fill\":{\"color\":\"#EBF0F8\"},\"line\":{\"color\":\"white\"}},\"header\":{\"fill\":{\"color\":\"#C8D4E3\"},\"line\":{\"color\":\"white\"}},\"type\":\"table\"}],\"barpolar\":[{\"marker\":{\"line\":{\"color\":\"#E5ECF6\",\"width\":0.5},\"pattern\":{\"fillmode\":\"overlay\",\"size\":10,\"solidity\":0.2}},\"type\":\"barpolar\"}],\"pie\":[{\"automargin\":true,\"type\":\"pie\"}]},\"layout\":{\"autotypenumbers\":\"strict\",\"colorway\":[\"#636efa\",\"#EF553B\",\"#00cc96\",\"#ab63fa\",\"#FFA15A\",\"#19d3f3\",\"#FF6692\",\"#B6E880\",\"#FF97FF\",\"#FECB52\"],\"font\":{\"color\":\"#2a3f5f\"},\"hovermode\":\"closest\",\"hoverlabel\":{\"align\":\"left\"},\"paper_bgcolor\":\"white\",\"plot_bgcolor\":\"#E5ECF6\",\"polar\":{\"bgcolor\":\"#E5ECF6\",\"angularaxis\":{\"gridcolor\":\"white\",\"linecolor\":\"white\",\"ticks\":\"\"},\"radialaxis\":{\"gridcolor\":\"white\",\"linecolor\":\"white\",\"ticks\":\"\"}},\"ternary\":{\"bgcolor\":\"#E5ECF6\",\"aaxis\":{\"gridcolor\":\"white\",\"linecolor\":\"white\",\"ticks\":\"\"},\"baxis\":{\"gridcolor\":\"white\",\"linecolor\":\"white\",\"ticks\":\"\"},\"caxis\":{\"gridcolor\":\"white\",\"linecolor\":\"white\",\"ticks\":\"\"}},\"coloraxis\":{\"colorbar\":{\"outlinewidth\":0,\"ticks\":\"\"}},\"colorscale\":{\"sequential\":[[0.0,\"#0d0887\"],[0.1111111111111111,\"#46039f\"],[0.2222222222222222,\"#7201a8\"],[0.3333333333333333,\"#9c179e\"],[0.4444444444444444,\"#bd3786\"],[0.5555555555555556,\"#d8576b\"],[0.6666666666666666,\"#ed7953\"],[0.7777777777777778,\"#fb9f3a\"],[0.8888888888888888,\"#fdca26\"],[1.0,\"#f0f921\"]],\"sequentialminus\":[[0.0,\"#0d0887\"],[0.1111111111111111,\"#46039f\"],[0.2222222222222222,\"#7201a8\"],[0.3333333333333333,\"#9c179e\"],[0.4444444444444444,\"#bd3786\"],[0.5555555555555556,\"#d8576b\"],[0.6666666666666666,\"#ed7953\"],[0.7777777777777778,\"#fb9f3a\"],[0.8888888888888888,\"#fdca26\"],[1.0,\"#f0f921\"]],\"diverging\":[[0,\"#8e0152\"],[0.1,\"#c51b7d\"],[0.2,\"#de77ae\"],[0.3,\"#f1b6da\"],[0.4,\"#fde0ef\"],[0.5,\"#f7f7f7\"],[0.6,\"#e6f5d0\"],[0.7,\"#b8e186\"],[0.8,\"#7fbc41\"],[0.9,\"#4d9221\"],[1,\"#276419\"]]},\"xaxis\":{\"gridcolor\":\"white\",\"linecolor\":\"white\",\"ticks\":\"\",\"title\":{\"standoff\":15},\"zerolinecolor\":\"white\",\"automargin\":true,\"zerolinewidth\":2},\"yaxis\":{\"gridcolor\":\"white\",\"linecolor\":\"white\",\"ticks\":\"\",\"title\":{\"standoff\":15},\"zerolinecolor\":\"white\",\"automargin\":true,\"zerolinewidth\":2},\"scene\":{\"xaxis\":{\"backgroundcolor\":\"#E5ECF6\",\"gridcolor\":\"white\",\"linecolor\":\"white\",\"showbackground\":true,\"ticks\":\"\",\"zerolinecolor\":\"white\",\"gridwidth\":2},\"yaxis\":{\"backgroundcolor\":\"#E5ECF6\",\"gridcolor\":\"white\",\"linecolor\":\"white\",\"showbackground\":true,\"ticks\":\"\",\"zerolinecolor\":\"white\",\"gridwidth\":2},\"zaxis\":{\"backgroundcolor\":\"#E5ECF6\",\"gridcolor\":\"white\",\"linecolor\":\"white\",\"showbackground\":true,\"ticks\":\"\",\"zerolinecolor\":\"white\",\"gridwidth\":2}},\"shapedefaults\":{\"line\":{\"color\":\"#2a3f5f\"}},\"annotationdefaults\":{\"arrowcolor\":\"#2a3f5f\",\"arrowhead\":0,\"arrowwidth\":1},\"geo\":{\"bgcolor\":\"white\",\"landcolor\":\"#E5ECF6\",\"subunitcolor\":\"white\",\"showland\":true,\"showlakes\":true,\"lakecolor\":\"white\"},\"title\":{\"x\":0.05},\"mapbox\":{\"style\":\"light\"}}},\"xaxis\":{\"anchor\":\"y\",\"domain\":[0.0,1.0],\"scaleanchor\":\"y\",\"constrain\":\"domain\",\"title\":{\"text\":\"src pos\"}},\"yaxis\":{\"anchor\":\"x\",\"domain\":[0.0,1.0],\"autorange\":\"reversed\",\"constrain\":\"domain\",\"title\":{\"text\":\"dest token\"}},\"coloraxis\":{\"colorscale\":[[0.0,\"rgb(103,0,31)\"],[0.1,\"rgb(178,24,43)\"],[0.2,\"rgb(214,96,77)\"],[0.3,\"rgb(244,165,130)\"],[0.4,\"rgb(253,219,199)\"],[0.5,\"rgb(247,247,247)\"],[0.6,\"rgb(209,229,240)\"],[0.7,\"rgb(146,197,222)\"],[0.8,\"rgb(67,147,195)\"],[0.9,\"rgb(33,102,172)\"],[1.0,\"rgb(5,48,97)\"]],\"cmid\":0.0},\"title\":{\"text\":\"Full QK circuit W_E @ W_QK @ W_pos.T\"}},                        {\"responsive\": true}                    ).then(function(){\n",
              "                            \n",
              "var gd = document.getElementById('9bf2a09f-902a-4829-88b4-0fda8a405f3e');\n",
              "var x = new MutationObserver(function (mutations, observer) {{\n",
              "        var display = window.getComputedStyle(gd).display;\n",
              "        if (!display || display === 'none') {{\n",
              "            console.log([gd, 'removed!']);\n",
              "            Plotly.purge(gd);\n",
              "            observer.disconnect();\n",
              "        }}\n",
              "}});\n",
              "\n",
              "// Listen for the removal of the full notebook cells\n",
              "var notebookContainer = gd.closest('#notebook-container');\n",
              "if (notebookContainer) {{\n",
              "    x.observe(notebookContainer, {childList: true});\n",
              "}}\n",
              "\n",
              "// Listen for the clearing of the current output cell\n",
              "var outputEl = gd.closest('.output');\n",
              "if (outputEl) {{\n",
              "    x.observe(outputEl, {childList: true});\n",
              "}}\n",
              "\n",
              "                        })                };                            </script>        </div>\n",
              "</body>\n",
              "</html>"
            ]
          },
          "metadata": {}
        }
      ]
    },
    {
      "cell_type": "markdown",
      "source": [
        "The left half of this suggests that every token should attend to the positions corresponding to the unsorted list uniformly. The right half is confusing. We see some pretty big positive scores for positions after MID, but in practice we never attend these positions. Also the $W_{pos}W_{QK}W_{pos}^T$ circuit we viewed earlier seems to suggest the model doesn't want to attend to these at all.\n",
        "\n",
        "\n",
        "I suspect these just get dominated by negative scores from the other components. We can decompose attn score activations to check this."
      ],
      "metadata": {
        "id": "JDJLsTGVbI44"
      }
    },
    {
      "cell_type": "markdown",
      "source": [
        "## Decompose attn scores"
      ],
      "metadata": {
        "id": "s5J6tBFuhsGg"
      }
    },
    {
      "cell_type": "markdown",
      "source": [
        "Recall that the attn scores is the sum of four different terms. We should be able to look at all of them individually on some examples to see how they interact. First we can just stare at the average of them in the test sample."
      ],
      "metadata": {
        "id": "OpsoRW6Wb_8l"
      }
    },
    {
      "cell_type": "code",
      "source": [
        "W_QK = model.QK[0,0].AB\n",
        "W_QK.shape"
      ],
      "metadata": {
        "colab": {
          "base_uri": "https://localhost:8080/"
        },
        "id": "siZfYT4icQZl",
        "outputId": "53e84590-082d-4223-9b98-318de7b87c5d"
      },
      "execution_count": 34,
      "outputs": [
        {
          "output_type": "execute_result",
          "data": {
            "text/plain": [
              "torch.Size([128, 128])"
            ]
          },
          "metadata": {},
          "execution_count": 34
        }
      ]
    },
    {
      "cell_type": "code",
      "source": [
        "e = cache['embed']\n",
        "p = cache['pos_embed']\n",
        "\n",
        "decomposed_e_W_QK_e = einops.einsum(\n",
        "    e, W_QK, e,\n",
        "    \"batch q_pos d_model_q, d_model_q d_model_k, batch k_pos d_model_k -> batch q_pos k_pos\"\n",
        ")\n",
        "\n",
        "decomposed_e_W_QK_p = einops.einsum(\n",
        "    e, W_QK, p,\n",
        "    \"batch q_pos d_model_q, d_model_q d_model_k, batch k_pos d_model_k -> batch q_pos k_pos\"\n",
        ")\n",
        "\n",
        "decomposed_p_W_QK_e = einops.einsum(\n",
        "    p, W_QK, e,\n",
        "    \"batch q_pos d_model_q, d_model_q d_model_k, batch k_pos d_model_k -> batch q_pos k_pos\"\n",
        ")\n",
        "\n",
        "decomposed_p_W_QK_p = einops.einsum(\n",
        "    p, W_QK, p,\n",
        "    \"batch q_pos d_model_q, d_model_q d_model_k, batch k_pos d_model_k -> batch q_pos k_pos\"\n",
        ")\n",
        "\n",
        "imshow(\n",
        "    torch.stack(\n",
        "        [decomposed_e_W_QK_e.mean(0).tril(),\n",
        "         decomposed_e_W_QK_p.mean(0).tril(),\n",
        "         decomposed_p_W_QK_e.mean(0).tril(),\n",
        "         decomposed_p_W_QK_p.mean(0).tril(),]),\n",
        "    facet_labels=[\"e @ W_QK @ e.T\", \"e @ W_QK @ p.T\", \"p @ W_QK @ e.T\", \"p @ W_QK @ p.T\"],\n",
        "    facet_col=0,\n",
        "    title=\"all components of attn scores, avged over batch\",\n",
        "    xaxis=\"k_pos\", yaxis=\"q_pos\",\n",
        "    x=tokens_to_plotly_labels(test_data),\n",
        "    y=tokens_to_plotly_labels(test_data),\n",
        ")"
      ],
      "metadata": {
        "colab": {
          "base_uri": "https://localhost:8080/",
          "height": 542
        },
        "id": "ze6SoCurcHx0",
        "outputId": "95598a22-4715-4a4a-d953-f7ed24d7101a"
      },
      "execution_count": 35,
      "outputs": [
        {
          "output_type": "display_data",
          "data": {
            "text/html": [
              "<html>\n",
              "<head><meta charset=\"utf-8\" /></head>\n",
              "<body>\n",
              "    <div>            <script src=\"https://cdnjs.cloudflare.com/ajax/libs/mathjax/2.7.5/MathJax.js?config=TeX-AMS-MML_SVG\"></script><script type=\"text/javascript\">if (window.MathJax && window.MathJax.Hub && window.MathJax.Hub.Config) {window.MathJax.Hub.Config({SVG: {font: \"STIX-Web\"}});}</script>                <script type=\"text/javascript\">window.PlotlyConfig = {MathJaxConfig: 'local'};</script>\n",
              "        <script src=\"https://cdn.plot.ly/plotly-2.18.2.min.js\"></script>                <div id=\"b96d44a6-881a-499e-9784-605f9a3dd0fa\" class=\"plotly-graph-div\" style=\"height:525px; width:100%;\"></div>            <script type=\"text/javascript\">                                    window.PLOTLYENV=window.PLOTLYENV || {};                                    if (document.getElementById(\"b96d44a6-881a-499e-9784-605f9a3dd0fa\")) {                    Plotly.newPlot(                        \"b96d44a6-881a-499e-9784-605f9a3dd0fa\",                        [{\"coloraxis\":\"coloraxis\",\"name\":\"0\",\"x\":[\"BOS\",\"46_1\",\"11_2\",\"2_3\",\"25_4\",\"43_5\",\"12_6\",\"44_7\",\"41_8\",\"44_9\",\"4_10\",\"MID\",\"2_12\",\"4_13\",\"11_14\",\"12_15\",\"25_16\",\"41_17\",\"43_18\",\"44_19\",\"44_20\",\"46_21\"],\"y\":[\"BOS\",\"46_1\",\"11_2\",\"2_3\",\"25_4\",\"43_5\",\"12_6\",\"44_7\",\"41_8\",\"44_9\",\"4_10\",\"MID\",\"2_12\",\"4_13\",\"11_14\",\"12_15\",\"25_16\",\"41_17\",\"43_18\",\"44_19\",\"44_20\",\"46_21\"],\"z\":[[-1.328725814819336,0.0,0.0,0.0,0.0,0.0,0.0,0.0,0.0,0.0,0.0,0.0,0.0,0.0,0.0,0.0,0.0,0.0,0.0,0.0,0.0,0.0],[-0.6603213548660278,8.626123428344727,0.0,0.0,0.0,0.0,0.0,0.0,0.0,0.0,0.0,0.0,0.0,0.0,0.0,0.0,0.0,0.0,0.0,0.0,0.0,0.0],[-0.6681730151176453,0.4480946958065033,8.982666015625,0.0,0.0,0.0,0.0,0.0,0.0,0.0,0.0,0.0,0.0,0.0,0.0,0.0,0.0,0.0,0.0,0.0,0.0,0.0],[-1.0008809566497803,-0.5111691355705261,1.0663073062896729,9.492023468017578,0.0,0.0,0.0,0.0,0.0,0.0,0.0,0.0,0.0,0.0,0.0,0.0,0.0,0.0,0.0,0.0,0.0,0.0],[-0.28418731689453125,-0.47136610746383667,-0.7597473859786987,0.5049246549606323,7.763830184936523,0.0,0.0,0.0,0.0,0.0,0.0,0.0,0.0,0.0,0.0,0.0,0.0,0.0,0.0,0.0,0.0,0.0],[-1.5269699096679688,1.6302318572998047,0.6850842237472534,1.051681637763977,-0.7685720324516296,9.205961227416992,0.0,0.0,0.0,0.0,0.0,0.0,0.0,0.0,0.0,0.0,0.0,0.0,0.0,0.0,0.0,0.0],[-1.0244646072387695,0.015148550271987915,0.3814707398414612,1.2746074199676514,0.9605971574783325,1.6858142614364624,8.698421478271484,0.0,0.0,0.0,0.0,0.0,0.0,0.0,0.0,0.0,0.0,0.0,0.0,0.0,0.0,0.0],[-0.37552356719970703,-0.5048410892486572,0.12939274311065674,1.1268374919891357,0.6441380977630615,0.9923906326293945,0.9607266187667847,8.844491958618164,0.0,0.0,0.0,0.0,0.0,0.0,0.0,0.0,0.0,0.0,0.0,0.0,0.0,0.0],[-0.2583114802837372,-1.3466155529022217,0.1867801696062088,0.9129596948623657,0.08466175198554993,0.33473625779151917,0.5744335055351257,1.3662647008895874,8.783401489257812,0.0,0.0,0.0,0.0,0.0,0.0,0.0,0.0,0.0,0.0,0.0,0.0,0.0],[-0.32812240719795227,0.22501957416534424,0.424687922000885,0.41069144010543823,-0.6026081442832947,1.3585761785507202,-0.04755333065986633,0.2843616008758545,0.875738799571991,8.977542877197266,0.0,0.0,0.0,0.0,0.0,0.0,0.0,0.0,0.0,0.0,0.0,0.0],[-0.8111384510993958,-0.21194911003112793,1.1258437633514404,0.7050270438194275,0.7901701927185059,-0.15233638882637024,0.22682666778564453,-0.8970556259155273,-0.1934264898300171,-0.613246738910675,8.76054859161377,0.0,0.0,0.0,0.0,0.0,0.0,0.0,0.0,0.0,0.0,0.0],[-7.039328575134277,-1.0210490226745605,-1.0961180925369263,-1.843641757965088,-0.4264671802520752,-2.037734031677246,-1.4123904705047607,-0.7362411022186279,-0.5368955135345459,-0.9154559969902039,-1.138966679573059,-6.3234429359436035,0.0,0.0,0.0,0.0,0.0,0.0,0.0,0.0,0.0,0.0],[9.239075660705566,0.1806012988090515,0.24244332313537598,-1.0485033988952637,1.5401575565338135,-0.5362796783447266,0.005568370223045349,0.7581170797348022,0.7073904871940613,0.8899391293525696,0.07865210622549057,-10.962430953979492,10.018461227416992,0.0,0.0,0.0,0.0,0.0,0.0,0.0,0.0,0.0],[8.057561874389648,0.9326286911964417,1.0005066394805908,-0.16832919418811798,1.8842573165893555,0.41242069005966187,1.167079210281372,1.0237367153167725,0.9942834973335266,1.5051584243774414,1.1478703022003174,-5.625499248504639,5.839395999908447,5.634000778198242,0.0,0.0,0.0,0.0,0.0,0.0,0.0,0.0],[5.867795467376709,1.2613651752471924,1.7638437747955322,1.6502355337142944,2.3845598697662354,1.5072782039642334,2.2250146865844727,1.7903245687484741,1.7074530124664307,1.799160361289978,2.2391669750213623,-0.9185312390327454,1.6331068277359009,1.185126543045044,2.5257763862609863,0.0,0.0,0.0,0.0,0.0,0.0,0.0],[2.914520025253296,1.161206603050232,2.7402536869049072,2.7235774993896484,2.707449436187744,2.771044969558716,2.6548993587493896,2.0665619373321533,2.659316062927246,1.9285917282104492,2.823986768722534,2.6783440113067627,-2.254304885864258,-2.4208602905273438,-2.4594333171844482,1.7046737670898438,0.0,0.0,0.0,0.0,0.0,0.0],[-0.525191068649292,1.8391494750976562,2.784719228744507,3.394460678100586,2.444182872772217,3.5923523902893066,3.3792223930358887,2.2084264755249023,2.3234782218933105,2.490016222000122,2.8524422645568848,5.700534343719482,-6.103863716125488,-5.722339630126953,-5.536515235900879,-4.53042459487915,3.342446804046631,0.0,0.0,0.0,0.0,0.0],[-3.582759380340576,2.1165285110473633,2.8810317516326904,3.670952320098877,1.0895682573318481,3.1051509380340576,3.0378401279449463,2.772979736328125,1.6158955097198486,2.4484310150146484,2.345414876937866,7.911198616027832,-9.082416534423828,-8.350177764892578,-7.5065813064575195,-6.394365310668945,-3.56510591506958,6.1620588302612305,0.0,0.0,0.0,0.0],[-5.450717926025391,1.39641535282135,1.6536719799041748,3.1357035636901855,0.2012806534767151,2.6617703437805176,2.0851993560791016,1.9870229959487915,0.631791889667511,1.4706088304519653,1.2234125137329102,9.531126022338867,-11.050191879272461,-10.46052074432373,-8.92265796661377,-7.101856708526611,-4.707087516784668,-0.9332246780395508,9.342124938964844,0.0,0.0,0.0],[-6.783210754394531,0.768402099609375,0.8469674587249756,2.129530429840088,-0.6318899393081665,1.8565094470977783,0.7062585949897766,0.5388020277023315,-0.22705942392349243,0.7385656833648682,0.20013585686683655,10.293540954589844,-12.48265266418457,-11.512368202209473,-10.010438919067383,-8.276754379272461,-5.308962821960449,-1.6792603731155396,2.9510388374328613,12.913166999816895,0.0,0.0],[-7.764530181884766,-0.5387131571769714,0.05891835689544678,1.190853238105774,-1.623603343963623,0.6160992383956909,0.010738492012023926,-0.2681313753128052,-0.7974527478218079,-0.40264642238616943,-0.25523102283477783,9.777512550354004,-12.24285888671875,-11.352386474609375,-10.32204818725586,-8.681524276733398,-5.701371192932129,-2.019994020462036,2.1078083515167236,7.312946796417236,16.271602630615234,0.0],[-8.910636901855469,-1.218906283378601,-0.5199941396713257,0.4254814088344574,-2.44732928276062,-0.2822091579437256,-1.1165544986724854,-1.1336219310760498,-1.6729357242584229,-1.3689875602722168,-1.1193534135818481,5.818803787231445,-10.334588050842285,-9.806769371032715,-10.188591957092285,-9.830196380615234,-7.198740482330322,-3.635354518890381,0.9882140755653381,6.531852722167969,12.799063682556152,20.220699310302734]],\"type\":\"heatmap\",\"xaxis\":\"x\",\"yaxis\":\"y\",\"hovertemplate\":\"k_pos: %{x}<br>q_pos: %{y}<br>color: %{z}<extra></extra>\"},{\"coloraxis\":\"coloraxis\",\"name\":\"1\",\"x\":[\"BOS\",\"46_1\",\"11_2\",\"2_3\",\"25_4\",\"43_5\",\"12_6\",\"44_7\",\"41_8\",\"44_9\",\"4_10\",\"MID\",\"2_12\",\"4_13\",\"11_14\",\"12_15\",\"25_16\",\"41_17\",\"43_18\",\"44_19\",\"44_20\",\"46_21\"],\"y\":[\"BOS\",\"46_1\",\"11_2\",\"2_3\",\"25_4\",\"43_5\",\"12_6\",\"44_7\",\"41_8\",\"44_9\",\"4_10\",\"MID\",\"2_12\",\"4_13\",\"11_14\",\"12_15\",\"25_16\",\"41_17\",\"43_18\",\"44_19\",\"44_20\",\"46_21\"],\"z\":[[-3.263737201690674,0.0,0.0,0.0,0.0,0.0,0.0,0.0,0.0,0.0,0.0,0.0,0.0,0.0,0.0,0.0,0.0,0.0,0.0,0.0,0.0,0.0],[-0.8204073905944824,2.894590139389038,0.0,0.0,0.0,0.0,0.0,0.0,0.0,0.0,0.0,0.0,0.0,0.0,0.0,0.0,0.0,0.0,0.0,0.0,0.0,0.0],[-0.6831052899360657,2.4813904762268066,2.4557011127471924,0.0,0.0,0.0,0.0,0.0,0.0,0.0,0.0,0.0,0.0,0.0,0.0,0.0,0.0,0.0,0.0,0.0,0.0,0.0],[-0.9432801008224487,2.5413081645965576,2.5033726692199707,2.6360745429992676,0.0,0.0,0.0,0.0,0.0,0.0,0.0,0.0,0.0,0.0,0.0,0.0,0.0,0.0,0.0,0.0,0.0,0.0],[-0.6114201545715332,3.0941646099090576,3.0804736614227295,3.191070556640625,3.0864672660827637,0.0,0.0,0.0,0.0,0.0,0.0,0.0,0.0,0.0,0.0,0.0,0.0,0.0,0.0,0.0,0.0,0.0],[-1.462937355041504,2.833339214324951,2.7712807655334473,2.9476583003997803,2.9068026542663574,2.8967769145965576,0.0,0.0,0.0,0.0,0.0,0.0,0.0,0.0,0.0,0.0,0.0,0.0,0.0,0.0,0.0,0.0],[-1.0670627355575562,2.753828525543213,2.711714267730713,2.859334945678711,2.8049545288085938,2.8163747787475586,2.7411582469940186,0.0,0.0,0.0,0.0,0.0,0.0,0.0,0.0,0.0,0.0,0.0,0.0,0.0,0.0,0.0],[-0.4775388836860657,2.3443727493286133,2.3234214782714844,2.4337868690490723,2.3609395027160645,2.401332378387451,2.3308467864990234,2.32505464553833,0.0,0.0,0.0,0.0,0.0,0.0,0.0,0.0,0.0,0.0,0.0,0.0,0.0,0.0],[-0.44141021370887756,2.692838191986084,2.669044256210327,2.7744388580322266,2.7078447341918945,2.75984525680542,2.6685566902160645,2.6708579063415527,2.716555118560791,0.0,0.0,0.0,0.0,0.0,0.0,0.0,0.0,0.0,0.0,0.0,0.0,0.0],[-0.42415520548820496,2.5181634426116943,2.487868309020996,2.596510648727417,2.5421972274780273,2.5683395862579346,2.498668670654297,2.4972991943359375,2.5425853729248047,2.486391305923462,0.0,0.0,0.0,0.0,0.0,0.0,0.0,0.0,0.0,0.0,0.0,0.0],[-0.9357312917709351,2.853285789489746,2.822540283203125,2.9471371173858643,2.8791158199310303,2.909809112548828,2.8318872451782227,2.836304187774658,2.887812852859497,2.8058300018310547,2.762310743331909,0.0,0.0,0.0,0.0,0.0,0.0,0.0,0.0,0.0,0.0,0.0],[-6.125434398651123,-10.005377769470215,-10.043139457702637,-10.103507995605469,-10.026416778564453,-10.227508544921875,-9.836967468261719,-9.783390045166016,-9.977676391601562,-9.911628723144531,-9.744306564331055,-7.351010799407959,0.0,0.0,0.0,0.0,0.0,0.0,0.0,0.0,0.0,0.0],[7.8761701583862305,-1.8044153451919556,-1.5358304977416992,-2.049741744995117,-2.2351186275482178,-1.7763108015060425,-1.8765172958374023,-1.7987666130065918,-1.9154921770095825,-1.5682895183563232,-1.5140241384506226,-13.80109977722168,-24.746328353881836,0.0,0.0,0.0,0.0,0.0,0.0,0.0,0.0,0.0],[6.532087326049805,1.3139358758926392,1.5602830648422241,1.152550458908081,0.9628610610961914,1.3640562295913696,1.2159441709518433,1.3345754146575928,1.2346041202545166,1.5109814405441284,1.5266101360321045,-8.028926849365234,-23.880950927734375,-16.336322784423828,0.0,0.0,0.0,0.0,0.0,0.0,0.0,0.0],[4.332242488861084,3.6437571048736572,3.836191177368164,3.5865910053253174,3.3527815341949463,3.72945499420166,3.575139045715332,3.6930041313171387,3.6238784790039062,3.8149352073669434,3.7932987213134766,-2.733969211578369,-19.145462036132812,-14.674887657165527,-10.840986251831055,0.0,0.0,0.0,0.0,0.0,0.0,0.0],[1.5038812160491943,4.784741401672363,4.882586479187012,4.834534168243408,4.565854072570801,4.876913070678711,4.747620582580566,4.848464012145996,4.824136257171631,4.905730247497559,4.870539665222168,1.70975923538208,-10.477919578552246,-9.661264419555664,-8.350091934204102,-7.469682693481445,0.0,0.0,0.0,0.0,0.0,0.0],[-1.514769434928894,5.246578216552734,5.214362144470215,5.373533725738525,5.150030136108398,5.335217475891113,5.221991539001465,5.284183502197266,5.3166656494140625,5.2619123458862305,5.205495834350586,5.949563980102539,-0.06153237819671631,-2.9114856719970703,-4.386571884155273,-5.592799186706543,-6.654611110687256,0.0,0.0,0.0,0.0,0.0],[-3.919719934463501,4.958390235900879,4.831491947174072,5.185093879699707,5.037569522857666,5.050995826721191,4.968311309814453,4.9797444343566895,5.073204040527344,4.893192291259766,4.847370147705078,9.21348762512207,9.301239013671875,3.675858736038208,-0.18249866366386414,-3.1993141174316406,-6.014542579650879,-9.035314559936523,0.0,0.0,0.0,0.0],[-5.165238380432129,4.666779518127441,4.488994598388672,4.92743444442749,4.887460708618164,4.740927696228027,4.686834812164307,4.653931617736816,4.793395519256592,4.531292915344238,4.462858200073242,11.668009757995605,14.771873474121094,7.555985450744629,2.258531332015991,-1.8423409461975098,-5.575925827026367,-9.95274543762207,-13.32905387878418,0.0,0.0,0.0],[-5.742597579956055,3.868577003479004,3.636460304260254,4.134556293487549,4.228823184967041,3.916123151779175,3.8905091285705566,3.7925872802734375,3.9694418907165527,3.6463584899902344,3.5508923530578613,13.333442687988281,19.322437286376953,11.1472806930542,4.698291778564453,-0.14914759993553162,-4.501550674438477,-9.934324264526367,-14.798965454101562,-21.134750366210938,0.0,0.0],[-5.884022235870361,2.1933915615081787,1.941047191619873,2.448530435562134,2.6951069831848145,2.2352869510650635,2.224294662475586,2.081777572631836,2.2500977516174316,1.887160062789917,1.7900240421295166,13.492671966552734,23.553823471069336,14.956507682800293,7.683693885803223,2.187821865081787,-2.4861104488372803,-8.657722473144531,-14.97569465637207,-23.086414337158203,-28.430908203125,0.0],[-5.885082721710205,-1.864453911781311,-2.174846649169922,-1.6517072916030884,-1.311067819595337,-1.877208948135376,-1.8079299926757812,-2.0349998474121094,-1.8590936660766602,-2.2483317852020264,-2.3413991928100586,10.207796096801758,31.64354705810547,22.882678985595703,14.50961685180664,8.355155944824219,2.9782512187957764,-4.1641387939453125,-12.278284072875977,-21.57836151123047,-27.43534278869629,0.2844583988189697]],\"type\":\"heatmap\",\"xaxis\":\"x2\",\"yaxis\":\"y2\",\"hovertemplate\":\"k_pos: %{x}<br>q_pos: %{y}<br>color: %{z}<extra></extra>\"},{\"coloraxis\":\"coloraxis\",\"name\":\"2\",\"x\":[\"BOS\",\"46_1\",\"11_2\",\"2_3\",\"25_4\",\"43_5\",\"12_6\",\"44_7\",\"41_8\",\"44_9\",\"4_10\",\"MID\",\"2_12\",\"4_13\",\"11_14\",\"12_15\",\"25_16\",\"41_17\",\"43_18\",\"44_19\",\"44_20\",\"46_21\"],\"y\":[\"BOS\",\"46_1\",\"11_2\",\"2_3\",\"25_4\",\"43_5\",\"12_6\",\"44_7\",\"41_8\",\"44_9\",\"4_10\",\"MID\",\"2_12\",\"4_13\",\"11_14\",\"12_15\",\"25_16\",\"41_17\",\"43_18\",\"44_19\",\"44_20\",\"46_21\"],\"z\":[[-0.5515106320381165,0.0,0.0,0.0,0.0,0.0,0.0,0.0,0.0,0.0,0.0,0.0,0.0,0.0,0.0,0.0,0.0,0.0,0.0,0.0,0.0,0.0],[-2.8905675411224365,-0.2923201024532318,0.0,0.0,0.0,0.0,0.0,0.0,0.0,0.0,0.0,0.0,0.0,0.0,0.0,0.0,0.0,0.0,0.0,0.0,0.0,0.0],[-3.2629001140594482,-0.14713339507579803,0.016096964478492737,0.0,0.0,0.0,0.0,0.0,0.0,0.0,0.0,0.0,0.0,0.0,0.0,0.0,0.0,0.0,0.0,0.0,0.0,0.0],[-3.2902491092681885,-0.1680830717086792,-0.012864910066127777,0.0857793539762497,0.0,0.0,0.0,0.0,0.0,0.0,0.0,0.0,0.0,0.0,0.0,0.0,0.0,0.0,0.0,0.0,0.0,0.0],[-3.364185094833374,-0.24973683059215546,-0.0475054495036602,0.08445177227258682,-0.42094695568084717,0.0,0.0,0.0,0.0,0.0,0.0,0.0,0.0,0.0,0.0,0.0,0.0,0.0,0.0,0.0,0.0,0.0],[-3.055304765701294,-0.048838499933481216,0.10439325124025345,0.2116270214319229,-0.24470841884613037,0.14344622194766998,0.0,0.0,0.0,0.0,0.0,0.0,0.0,0.0,0.0,0.0,0.0,0.0,0.0,0.0,0.0,0.0],[-3.772141218185425,-0.20986080169677734,-0.05104240030050278,0.11714142560958862,-0.3895605206489563,-0.0791194811463356,-0.14941169321537018,0.0,0.0,0.0,0.0,0.0,0.0,0.0,0.0,0.0,0.0,0.0,0.0,0.0,0.0,0.0],[-3.115299701690674,-0.07339543104171753,0.10070477426052094,0.2427087277173996,-0.26876747608184814,0.1266639083623886,-0.0020350292325019836,-0.011540718376636505,0.0,0.0,0.0,0.0,0.0,0.0,0.0,0.0,0.0,0.0,0.0,0.0,0.0,0.0],[-3.242074966430664,-0.1735849380493164,-0.022371191531419754,0.07329443842172623,-0.34793102741241455,-0.08945205062627792,-0.16479681432247162,-0.06837882846593857,-0.15266792476177216,0.0,0.0,0.0,0.0,0.0,0.0,0.0,0.0,0.0,0.0,0.0,0.0,0.0],[-3.2974445819854736,-0.03797568380832672,0.13231253623962402,0.3408369719982147,-0.28833431005477905,0.23937159776687622,0.06369715929031372,-0.005817107856273651,-0.07661813497543335,0.08699361234903336,0.0,0.0,0.0,0.0,0.0,0.0,0.0,0.0,0.0,0.0,0.0,0.0],[-3.432795286178589,-0.12318836152553558,0.04673893749713898,0.21424417197704315,-0.3102205991744995,0.05908693000674248,-0.006878364831209183,-0.034373894333839417,-0.10754473507404327,0.020467229187488556,-0.023518040776252747,0.0,0.0,0.0,0.0,0.0,0.0,0.0,0.0,0.0,0.0,0.0],[-7.004717826843262,-1.4300129413604736,-1.3791754245758057,-2.1742966175079346,-0.6960503458976746,-2.622743606567383,-1.7232775688171387,-0.9988155961036682,-0.8163090348243713,-1.0819122791290283,-1.5776469707489014,-7.2237772941589355,0.0,0.0,0.0,0.0,0.0,0.0,0.0,0.0,0.0,0.0],[-1.9025263786315918,-1.5964155197143555,-1.6288204193115234,-2.316528797149658,-1.030990481376648,-2.868093967437744,-1.9260555505752563,-1.2373703718185425,-1.13289213180542,-1.257089614868164,-1.9058728218078613,1.1189297437667847,9.114445686340332,0.0,0.0,0.0,0.0,0.0,0.0,0.0,0.0,0.0],[0.4210427701473236,-0.9003714323043823,-0.9570788145065308,-1.2887221574783325,-0.6448566317558289,-1.6038341522216797,-1.11187744140625,-0.7758649587631226,-0.7267920970916748,-0.7753068208694458,-1.145825743675232,4.863461971282959,3.2886202335357666,4.409029006958008,0.0,0.0,0.0,0.0,0.0,0.0,0.0,0.0],[2.0197224617004395,-0.3901987671852112,-0.4805981516838074,-0.6276156902313232,-0.2669355869293213,-0.7298115491867065,-0.4957418441772461,-0.39987099170684814,-0.38139817118644714,-0.3913774788379669,-0.5746397972106934,6.468443393707275,0.14689700305461884,1.6150829792022705,2.3631350994110107,0.0,0.0,0.0,0.0,0.0,0.0,0.0],[3.393068552017212,0.03979535400867462,-0.07850626111030579,-0.10086651891469955,0.08514533936977386,0.0010671243071556091,0.030531395226716995,-0.06065605580806732,-0.09418212622404099,-0.06692545861005783,-0.08135321736335754,7.556042194366455,-2.4289755821228027,-0.6776561737060547,0.6403074264526367,1.1377983093261719,0.0,0.0,0.0,0.0,0.0,0.0],[4.539366245269775,0.4528316557407379,0.2933720350265503,0.357109934091568,0.42685332894325256,0.6311682462692261,0.5076659321784973,0.25767749547958374,0.22330191731452942,0.22381533682346344,0.3870798647403717,7.932651996612549,-4.269842147827148,-2.368272304534912,-0.6359941363334656,0.6665335893630981,1.5525466203689575,0.0,0.0,0.0,0.0,0.0],[5.63887357711792,0.9371658563613892,0.7700439095497131,0.9880974292755127,0.8171430826187134,1.439098834991455,1.089420199394226,0.661318302154541,0.5775287747383118,0.6277517676353455,0.9458893537521362,8.498547554016113,-6.6574296951293945,-4.53413200378418,-2.3152098655700684,-0.10595779120922089,1.986922025680542,3.5813002586364746,0.0,0.0,0.0,0.0],[6.782625198364258,1.5791140794754028,1.3896875381469727,1.7645014524459839,1.3031814098358154,2.4448039531707764,1.8135464191436768,1.1755505800247192,1.0605177879333496,1.1263362169265747,1.6622240543365479,9.019145011901855,-9.49796199798584,-7.186122894287109,-4.384568691253662,-1.0621258020401,2.5219805240631104,5.431901454925537,6.914493083953857,0.0,0.0,0.0],[9.172595024108887,2.5945701599121094,2.329697847366333,2.8756985664367676,2.1736013889312744,3.9145312309265137,2.952491283416748,2.0305113792419434,1.8640351295471191,1.911258578300476,2.790785312652588,10.379661560058594,-13.541276931762695,-10.662215232849121,-6.702568054199219,-1.6440088748931885,3.854198455810547,8.313901901245117,10.621355056762695,11.812938690185547,0.0,0.0],[5.3097076416015625,4.3739118576049805,4.434963703155518,7.079684734344482,1.602843999862671,8.245208740234375,5.927737712860107,3.6796610355377197,2.8349533081054688,3.4409399032592773,5.446320533752441,9.984207153320312,-38.05068588256836,-33.973663330078125,-30.347381591796875,-19.220487594604492,-1.3693757057189941,14.172258377075195,25.13642120361328,34.18254852294922,42.344383239746094,0.0],[-0.1192430853843689,0.0030312128365039825,0.02628852240741253,0.021857434883713722,-0.0014467574656009674,0.020833350718021393,0.04875243827700615,-0.020640555769205093,0.035019680857658386,-0.014727924019098282,0.025458870455622673,0.1261671930551529,-0.3751421868801117,-0.2839730679988861,-0.2652892768383026,-0.28701043128967285,-0.20556584000587463,0.05077655240893364,0.23188909888267517,0.41942262649536133,0.44356510043144226,0.41575372219085693]],\"type\":\"heatmap\",\"xaxis\":\"x3\",\"yaxis\":\"y3\",\"hovertemplate\":\"k_pos: %{x}<br>q_pos: %{y}<br>color: %{z}<extra></extra>\"},{\"coloraxis\":\"coloraxis\",\"name\":\"3\",\"x\":[\"BOS\",\"46_1\",\"11_2\",\"2_3\",\"25_4\",\"43_5\",\"12_6\",\"44_7\",\"41_8\",\"44_9\",\"4_10\",\"MID\",\"2_12\",\"4_13\",\"11_14\",\"12_15\",\"25_16\",\"41_17\",\"43_18\",\"44_19\",\"44_20\",\"46_21\"],\"y\":[\"BOS\",\"46_1\",\"11_2\",\"2_3\",\"25_4\",\"43_5\",\"12_6\",\"44_7\",\"41_8\",\"44_9\",\"4_10\",\"MID\",\"2_12\",\"4_13\",\"11_14\",\"12_15\",\"25_16\",\"41_17\",\"43_18\",\"44_19\",\"44_20\",\"46_21\"],\"z\":[[-2.291285276412964,0.0,0.0,0.0,0.0,0.0,0.0,0.0,0.0,0.0,0.0,0.0,0.0,0.0,0.0,0.0,0.0,0.0,0.0,0.0,0.0,0.0],[-1.9590970277786255,-4.394914627075195,0.0,0.0,0.0,0.0,0.0,0.0,0.0,0.0,0.0,0.0,0.0,0.0,0.0,0.0,0.0,0.0,0.0,0.0,0.0,0.0],[-2.3858718872070312,-4.087414264678955,-4.218633651733398,0.0,0.0,0.0,0.0,0.0,0.0,0.0,0.0,0.0,0.0,0.0,0.0,0.0,0.0,0.0,0.0,0.0,0.0,0.0],[-2.353226900100708,-4.239876747131348,-4.340553283691406,-4.1092963218688965,0.0,0.0,0.0,0.0,0.0,0.0,0.0,0.0,0.0,0.0,0.0,0.0,0.0,0.0,0.0,0.0,0.0,0.0],[-2.4152135848999023,-4.086047649383545,-4.237783908843994,-3.913365364074707,-4.007658958435059,0.0,0.0,0.0,0.0,0.0,0.0,0.0,0.0,0.0,0.0,0.0,0.0,0.0,0.0,0.0,0.0,0.0],[-2.3478355407714844,-3.0886871814727783,-3.2014894485473633,-2.9491121768951416,-3.012873888015747,-3.0746421813964844,0.0,0.0,0.0,0.0,0.0,0.0,0.0,0.0,0.0,0.0,0.0,0.0,0.0,0.0,0.0,0.0],[-2.792689800262451,-4.186699390411377,-4.301445484161377,-4.0077104568481445,-4.096132755279541,-4.1910505294799805,-4.07468318939209,0.0,0.0,0.0,0.0,0.0,0.0,0.0,0.0,0.0,0.0,0.0,0.0,0.0,0.0,0.0],[-2.3457016944885254,-3.3154025077819824,-3.4708759784698486,-3.1616876125335693,-3.30230975151062,-3.3425586223602295,-3.2279212474823,-3.292135715484619,0.0,0.0,0.0,0.0,0.0,0.0,0.0,0.0,0.0,0.0,0.0,0.0,0.0,0.0],[-2.319591760635376,-4.339601039886475,-4.438851833343506,-4.179260730743408,-4.2192792892456055,-4.321730613708496,-4.214664459228516,-4.244312763214111,-4.317453861236572,0.0,0.0,0.0,0.0,0.0,0.0,0.0,0.0,0.0,0.0,0.0,0.0,0.0],[-2.5118026733398438,-3.1612298488616943,-3.3097615242004395,-2.93357253074646,-3.122748851776123,-3.179281234741211,-3.0332705974578857,-3.116666078567505,-3.133629560470581,-3.1550660133361816,0.0,0.0,0.0,0.0,0.0,0.0,0.0,0.0,0.0,0.0,0.0,0.0],[-2.519688129425049,-3.728961706161499,-3.8629114627838135,-3.5596606731414795,-3.6175432205200195,-3.686602830886841,-3.598790407180786,-3.65661358833313,-3.6785407066345215,-3.6760222911834717,-3.620540142059326,0.0,0.0,0.0,0.0,0.0,0.0,0.0,0.0,0.0,0.0,0.0],[-5.737680912017822,-10.603858947753906,-10.675017356872559,-10.780998229980469,-10.554362297058105,-10.84557819366455,-10.496427536010742,-10.359478950500488,-10.626822471618652,-10.598997116088867,-10.415731430053711,-8.298130989074707,0.0,0.0,0.0,0.0,0.0,0.0,0.0,0.0,0.0,0.0],[-1.6098055839538574,-0.3468341529369354,-0.19187034666538239,-0.8341718912124634,-0.2710392475128174,-0.5285345911979675,-0.47315099835395813,-0.32549744844436646,-0.4196415841579437,-0.4817594587802887,-0.48940587043762207,-0.08759047836065292,-17.59647560119629,0.0,0.0,0.0,0.0,0.0,0.0,0.0,0.0,0.0],[0.2487417608499527,2.8457512855529785,3.0058791637420654,2.488520860671997,2.9481911659240723,2.738239288330078,2.717940330505371,2.750805616378784,2.8014907836914062,2.695575714111328,2.6442158222198486,4.218739986419678,-16.713821411132812,-13.999316215515137,0.0,0.0,0.0,0.0,0.0,0.0,0.0,0.0],[1.3899739980697632,4.829833984375,4.98607873916626,4.557692527770996,4.907063961029053,4.787264823913574,4.711315155029297,4.727380752563477,4.791770935058594,4.694283962249756,4.647339344024658,5.951906681060791,-17.09778594970703,-15.021553039550781,-11.601107597351074,0.0,0.0,0.0,0.0,0.0,0.0,0.0],[2.356821298599243,6.56061315536499,6.7220001220703125,6.343801975250244,6.598348140716553,6.548918724060059,6.424117088317871,6.430084228515625,6.530166149139404,6.448706150054932,6.360876560211182,7.155254364013672,-17.776500701904297,-16.038686752319336,-13.128117561340332,-11.36484146118164,0.0,0.0,0.0,0.0,0.0,0.0],[3.1362972259521484,7.968772888183594,8.14261245727539,7.816945552825928,7.954628944396973,8.025506019592285,7.808127403259277,7.831768989562988,7.942789554595947,7.904647350311279,7.771333694458008,7.496628761291504,-18.862035751342773,-17.1789608001709,-14.580862045288086,-12.96151351928711,-10.799527168273926,0.0,0.0,0.0,0.0,0.0],[3.7778351306915283,9.954861640930176,10.115180969238281,9.905982971191406,9.885382652282715,10.108929634094238,9.778800964355469,9.830517768859863,9.937714576721191,9.932271003723145,9.778430938720703,8.134703636169434,-19.89522933959961,-18.49408531188965,-16.20964813232422,-14.912053108215332,-12.987105369567871,-10.554549217224121,0.0,0.0,0.0,0.0],[4.385611057281494,12.420798301696777,12.562797546386719,12.492636680603027,12.274641990661621,12.673249244689941,12.237162590026855,12.293423652648926,12.431352615356445,12.470771789550781,12.290589332580566,8.78002643585205,-21.589111328125,-20.37600326538086,-18.432287216186523,-17.42803192138672,-15.669132232666016,-13.24654769897461,-10.27745246887207,0.0,0.0,0.0],[5.630846977233887,18.50033187866211,18.66319465637207,18.66856575012207,18.17365074157715,18.992700576782227,18.2021541595459,18.442832946777344,18.535655975341797,18.71421241760254,18.40245246887207,9.777192115783691,-31.952550888061523,-29.28769302368164,-26.755823135375977,-25.072561264038086,-22.4803466796875,-19.268421173095703,-14.795570373535156,-14.75187873840332,0.0,0.0],[2.968536376953125,32.342369079589844,32.02964782714844,32.962646484375,31.4747257232666,33.52018356323242,31.842973709106445,32.132659912109375,32.227272033691406,32.283023834228516,31.505537033081055,15.669262886047363,-12.23747730255127,-14.833745956420898,-26.412534713745117,-31.358016967773438,-34.03117752075195,-38.38373947143555,-43.0819091796875,-56.14092254638672,-60.35000228881836,0.0],[-0.09177747368812561,-0.020265599712729454,-0.009098094888031483,0.02436399832367897,0.01241331733763218,-0.01840367540717125,0.0614866204559803,0.03824631869792938,-0.004926267545670271,0.02867712266743183,0.016258779913187027,0.27877652645111084,1.1149741411209106,0.7980863451957703,0.48514699935913086,0.3077729344367981,0.12858036160469055,-0.18506653606891632,-0.3374044597148895,-0.5624752640724182,-1.6568628549575806,-0.14765070378780365]],\"type\":\"heatmap\",\"xaxis\":\"x4\",\"yaxis\":\"y4\",\"hovertemplate\":\"k_pos: %{x}<br>q_pos: %{y}<br>color: %{z}<extra></extra>\"}],                        {\"template\":{\"data\":{\"histogram2dcontour\":[{\"type\":\"histogram2dcontour\",\"colorbar\":{\"outlinewidth\":0,\"ticks\":\"\"},\"colorscale\":[[0.0,\"#0d0887\"],[0.1111111111111111,\"#46039f\"],[0.2222222222222222,\"#7201a8\"],[0.3333333333333333,\"#9c179e\"],[0.4444444444444444,\"#bd3786\"],[0.5555555555555556,\"#d8576b\"],[0.6666666666666666,\"#ed7953\"],[0.7777777777777778,\"#fb9f3a\"],[0.8888888888888888,\"#fdca26\"],[1.0,\"#f0f921\"]]}],\"choropleth\":[{\"type\":\"choropleth\",\"colorbar\":{\"outlinewidth\":0,\"ticks\":\"\"}}],\"histogram2d\":[{\"type\":\"histogram2d\",\"colorbar\":{\"outlinewidth\":0,\"ticks\":\"\"},\"colorscale\":[[0.0,\"#0d0887\"],[0.1111111111111111,\"#46039f\"],[0.2222222222222222,\"#7201a8\"],[0.3333333333333333,\"#9c179e\"],[0.4444444444444444,\"#bd3786\"],[0.5555555555555556,\"#d8576b\"],[0.6666666666666666,\"#ed7953\"],[0.7777777777777778,\"#fb9f3a\"],[0.8888888888888888,\"#fdca26\"],[1.0,\"#f0f921\"]]}],\"heatmap\":[{\"type\":\"heatmap\",\"colorbar\":{\"outlinewidth\":0,\"ticks\":\"\"},\"colorscale\":[[0.0,\"#0d0887\"],[0.1111111111111111,\"#46039f\"],[0.2222222222222222,\"#7201a8\"],[0.3333333333333333,\"#9c179e\"],[0.4444444444444444,\"#bd3786\"],[0.5555555555555556,\"#d8576b\"],[0.6666666666666666,\"#ed7953\"],[0.7777777777777778,\"#fb9f3a\"],[0.8888888888888888,\"#fdca26\"],[1.0,\"#f0f921\"]]}],\"heatmapgl\":[{\"type\":\"heatmapgl\",\"colorbar\":{\"outlinewidth\":0,\"ticks\":\"\"},\"colorscale\":[[0.0,\"#0d0887\"],[0.1111111111111111,\"#46039f\"],[0.2222222222222222,\"#7201a8\"],[0.3333333333333333,\"#9c179e\"],[0.4444444444444444,\"#bd3786\"],[0.5555555555555556,\"#d8576b\"],[0.6666666666666666,\"#ed7953\"],[0.7777777777777778,\"#fb9f3a\"],[0.8888888888888888,\"#fdca26\"],[1.0,\"#f0f921\"]]}],\"contourcarpet\":[{\"type\":\"contourcarpet\",\"colorbar\":{\"outlinewidth\":0,\"ticks\":\"\"}}],\"contour\":[{\"type\":\"contour\",\"colorbar\":{\"outlinewidth\":0,\"ticks\":\"\"},\"colorscale\":[[0.0,\"#0d0887\"],[0.1111111111111111,\"#46039f\"],[0.2222222222222222,\"#7201a8\"],[0.3333333333333333,\"#9c179e\"],[0.4444444444444444,\"#bd3786\"],[0.5555555555555556,\"#d8576b\"],[0.6666666666666666,\"#ed7953\"],[0.7777777777777778,\"#fb9f3a\"],[0.8888888888888888,\"#fdca26\"],[1.0,\"#f0f921\"]]}],\"surface\":[{\"type\":\"surface\",\"colorbar\":{\"outlinewidth\":0,\"ticks\":\"\"},\"colorscale\":[[0.0,\"#0d0887\"],[0.1111111111111111,\"#46039f\"],[0.2222222222222222,\"#7201a8\"],[0.3333333333333333,\"#9c179e\"],[0.4444444444444444,\"#bd3786\"],[0.5555555555555556,\"#d8576b\"],[0.6666666666666666,\"#ed7953\"],[0.7777777777777778,\"#fb9f3a\"],[0.8888888888888888,\"#fdca26\"],[1.0,\"#f0f921\"]]}],\"mesh3d\":[{\"type\":\"mesh3d\",\"colorbar\":{\"outlinewidth\":0,\"ticks\":\"\"}}],\"scatter\":[{\"fillpattern\":{\"fillmode\":\"overlay\",\"size\":10,\"solidity\":0.2},\"type\":\"scatter\"}],\"parcoords\":[{\"type\":\"parcoords\",\"line\":{\"colorbar\":{\"outlinewidth\":0,\"ticks\":\"\"}}}],\"scatterpolargl\":[{\"type\":\"scatterpolargl\",\"marker\":{\"colorbar\":{\"outlinewidth\":0,\"ticks\":\"\"}}}],\"bar\":[{\"error_x\":{\"color\":\"#2a3f5f\"},\"error_y\":{\"color\":\"#2a3f5f\"},\"marker\":{\"line\":{\"color\":\"#E5ECF6\",\"width\":0.5},\"pattern\":{\"fillmode\":\"overlay\",\"size\":10,\"solidity\":0.2}},\"type\":\"bar\"}],\"scattergeo\":[{\"type\":\"scattergeo\",\"marker\":{\"colorbar\":{\"outlinewidth\":0,\"ticks\":\"\"}}}],\"scatterpolar\":[{\"type\":\"scatterpolar\",\"marker\":{\"colorbar\":{\"outlinewidth\":0,\"ticks\":\"\"}}}],\"histogram\":[{\"marker\":{\"pattern\":{\"fillmode\":\"overlay\",\"size\":10,\"solidity\":0.2}},\"type\":\"histogram\"}],\"scattergl\":[{\"type\":\"scattergl\",\"marker\":{\"colorbar\":{\"outlinewidth\":0,\"ticks\":\"\"}}}],\"scatter3d\":[{\"type\":\"scatter3d\",\"line\":{\"colorbar\":{\"outlinewidth\":0,\"ticks\":\"\"}},\"marker\":{\"colorbar\":{\"outlinewidth\":0,\"ticks\":\"\"}}}],\"scattermapbox\":[{\"type\":\"scattermapbox\",\"marker\":{\"colorbar\":{\"outlinewidth\":0,\"ticks\":\"\"}}}],\"scatterternary\":[{\"type\":\"scatterternary\",\"marker\":{\"colorbar\":{\"outlinewidth\":0,\"ticks\":\"\"}}}],\"scattercarpet\":[{\"type\":\"scattercarpet\",\"marker\":{\"colorbar\":{\"outlinewidth\":0,\"ticks\":\"\"}}}],\"carpet\":[{\"aaxis\":{\"endlinecolor\":\"#2a3f5f\",\"gridcolor\":\"white\",\"linecolor\":\"white\",\"minorgridcolor\":\"white\",\"startlinecolor\":\"#2a3f5f\"},\"baxis\":{\"endlinecolor\":\"#2a3f5f\",\"gridcolor\":\"white\",\"linecolor\":\"white\",\"minorgridcolor\":\"white\",\"startlinecolor\":\"#2a3f5f\"},\"type\":\"carpet\"}],\"table\":[{\"cells\":{\"fill\":{\"color\":\"#EBF0F8\"},\"line\":{\"color\":\"white\"}},\"header\":{\"fill\":{\"color\":\"#C8D4E3\"},\"line\":{\"color\":\"white\"}},\"type\":\"table\"}],\"barpolar\":[{\"marker\":{\"line\":{\"color\":\"#E5ECF6\",\"width\":0.5},\"pattern\":{\"fillmode\":\"overlay\",\"size\":10,\"solidity\":0.2}},\"type\":\"barpolar\"}],\"pie\":[{\"automargin\":true,\"type\":\"pie\"}]},\"layout\":{\"autotypenumbers\":\"strict\",\"colorway\":[\"#636efa\",\"#EF553B\",\"#00cc96\",\"#ab63fa\",\"#FFA15A\",\"#19d3f3\",\"#FF6692\",\"#B6E880\",\"#FF97FF\",\"#FECB52\"],\"font\":{\"color\":\"#2a3f5f\"},\"hovermode\":\"closest\",\"hoverlabel\":{\"align\":\"left\"},\"paper_bgcolor\":\"white\",\"plot_bgcolor\":\"#E5ECF6\",\"polar\":{\"bgcolor\":\"#E5ECF6\",\"angularaxis\":{\"gridcolor\":\"white\",\"linecolor\":\"white\",\"ticks\":\"\"},\"radialaxis\":{\"gridcolor\":\"white\",\"linecolor\":\"white\",\"ticks\":\"\"}},\"ternary\":{\"bgcolor\":\"#E5ECF6\",\"aaxis\":{\"gridcolor\":\"white\",\"linecolor\":\"white\",\"ticks\":\"\"},\"baxis\":{\"gridcolor\":\"white\",\"linecolor\":\"white\",\"ticks\":\"\"},\"caxis\":{\"gridcolor\":\"white\",\"linecolor\":\"white\",\"ticks\":\"\"}},\"coloraxis\":{\"colorbar\":{\"outlinewidth\":0,\"ticks\":\"\"}},\"colorscale\":{\"sequential\":[[0.0,\"#0d0887\"],[0.1111111111111111,\"#46039f\"],[0.2222222222222222,\"#7201a8\"],[0.3333333333333333,\"#9c179e\"],[0.4444444444444444,\"#bd3786\"],[0.5555555555555556,\"#d8576b\"],[0.6666666666666666,\"#ed7953\"],[0.7777777777777778,\"#fb9f3a\"],[0.8888888888888888,\"#fdca26\"],[1.0,\"#f0f921\"]],\"sequentialminus\":[[0.0,\"#0d0887\"],[0.1111111111111111,\"#46039f\"],[0.2222222222222222,\"#7201a8\"],[0.3333333333333333,\"#9c179e\"],[0.4444444444444444,\"#bd3786\"],[0.5555555555555556,\"#d8576b\"],[0.6666666666666666,\"#ed7953\"],[0.7777777777777778,\"#fb9f3a\"],[0.8888888888888888,\"#fdca26\"],[1.0,\"#f0f921\"]],\"diverging\":[[0,\"#8e0152\"],[0.1,\"#c51b7d\"],[0.2,\"#de77ae\"],[0.3,\"#f1b6da\"],[0.4,\"#fde0ef\"],[0.5,\"#f7f7f7\"],[0.6,\"#e6f5d0\"],[0.7,\"#b8e186\"],[0.8,\"#7fbc41\"],[0.9,\"#4d9221\"],[1,\"#276419\"]]},\"xaxis\":{\"gridcolor\":\"white\",\"linecolor\":\"white\",\"ticks\":\"\",\"title\":{\"standoff\":15},\"zerolinecolor\":\"white\",\"automargin\":true,\"zerolinewidth\":2},\"yaxis\":{\"gridcolor\":\"white\",\"linecolor\":\"white\",\"ticks\":\"\",\"title\":{\"standoff\":15},\"zerolinecolor\":\"white\",\"automargin\":true,\"zerolinewidth\":2},\"scene\":{\"xaxis\":{\"backgroundcolor\":\"#E5ECF6\",\"gridcolor\":\"white\",\"linecolor\":\"white\",\"showbackground\":true,\"ticks\":\"\",\"zerolinecolor\":\"white\",\"gridwidth\":2},\"yaxis\":{\"backgroundcolor\":\"#E5ECF6\",\"gridcolor\":\"white\",\"linecolor\":\"white\",\"showbackground\":true,\"ticks\":\"\",\"zerolinecolor\":\"white\",\"gridwidth\":2},\"zaxis\":{\"backgroundcolor\":\"#E5ECF6\",\"gridcolor\":\"white\",\"linecolor\":\"white\",\"showbackground\":true,\"ticks\":\"\",\"zerolinecolor\":\"white\",\"gridwidth\":2}},\"shapedefaults\":{\"line\":{\"color\":\"#2a3f5f\"}},\"annotationdefaults\":{\"arrowcolor\":\"#2a3f5f\",\"arrowhead\":0,\"arrowwidth\":1},\"geo\":{\"bgcolor\":\"white\",\"landcolor\":\"#E5ECF6\",\"subunitcolor\":\"white\",\"showland\":true,\"showlakes\":true,\"lakecolor\":\"white\"},\"title\":{\"x\":0.05},\"mapbox\":{\"style\":\"light\"}}},\"xaxis\":{\"anchor\":\"y\",\"domain\":[0.0,0.235],\"scaleanchor\":\"y\",\"constrain\":\"domain\",\"title\":{\"text\":\"k_pos\"}},\"yaxis\":{\"anchor\":\"x\",\"domain\":[0.0,1.0],\"autorange\":\"reversed\",\"constrain\":\"domain\",\"title\":{\"text\":\"q_pos\"}},\"xaxis2\":{\"anchor\":\"y2\",\"domain\":[0.255,0.49],\"matches\":\"x\",\"title\":{\"text\":\"k_pos\"}},\"yaxis2\":{\"anchor\":\"x2\",\"domain\":[0.0,1.0],\"matches\":\"y\",\"showticklabels\":false},\"xaxis3\":{\"anchor\":\"y3\",\"domain\":[0.51,0.745],\"matches\":\"x\",\"title\":{\"text\":\"k_pos\"}},\"yaxis3\":{\"anchor\":\"x3\",\"domain\":[0.0,1.0],\"matches\":\"y\",\"showticklabels\":false},\"xaxis4\":{\"anchor\":\"y4\",\"domain\":[0.7649999999999999,0.9999999999999999],\"matches\":\"x\",\"title\":{\"text\":\"k_pos\"}},\"yaxis4\":{\"anchor\":\"x4\",\"domain\":[0.0,1.0],\"matches\":\"y\",\"showticklabels\":false},\"annotations\":[{\"font\":{},\"showarrow\":false,\"text\":\"e @ W_QK @ e.T\",\"x\":0.1175,\"xanchor\":\"center\",\"xref\":\"paper\",\"y\":1.0,\"yanchor\":\"bottom\",\"yref\":\"paper\"},{\"font\":{},\"showarrow\":false,\"text\":\"e @ W_QK @ p.T\",\"x\":0.3725,\"xanchor\":\"center\",\"xref\":\"paper\",\"y\":1.0,\"yanchor\":\"bottom\",\"yref\":\"paper\"},{\"font\":{},\"showarrow\":false,\"text\":\"p @ W_QK @ e.T\",\"x\":0.6275,\"xanchor\":\"center\",\"xref\":\"paper\",\"y\":1.0,\"yanchor\":\"bottom\",\"yref\":\"paper\"},{\"font\":{},\"showarrow\":false,\"text\":\"p @ W_QK @ p.T\",\"x\":0.8824999999999998,\"xanchor\":\"center\",\"xref\":\"paper\",\"y\":1.0,\"yanchor\":\"bottom\",\"yref\":\"paper\"}],\"coloraxis\":{\"colorscale\":[[0.0,\"rgb(103,0,31)\"],[0.1,\"rgb(178,24,43)\"],[0.2,\"rgb(214,96,77)\"],[0.3,\"rgb(244,165,130)\"],[0.4,\"rgb(253,219,199)\"],[0.5,\"rgb(247,247,247)\"],[0.6,\"rgb(209,229,240)\"],[0.7,\"rgb(146,197,222)\"],[0.8,\"rgb(67,147,195)\"],[0.9,\"rgb(33,102,172)\"],[1.0,\"rgb(5,48,97)\"]],\"cmid\":0.0},\"title\":{\"text\":\"all components of attn scores, avged over batch\"}},                        {\"responsive\": true}                    ).then(function(){\n",
              "                            \n",
              "var gd = document.getElementById('b96d44a6-881a-499e-9784-605f9a3dd0fa');\n",
              "var x = new MutationObserver(function (mutations, observer) {{\n",
              "        var display = window.getComputedStyle(gd).display;\n",
              "        if (!display || display === 'none') {{\n",
              "            console.log([gd, 'removed!']);\n",
              "            Plotly.purge(gd);\n",
              "            observer.disconnect();\n",
              "        }}\n",
              "}});\n",
              "\n",
              "// Listen for the removal of the full notebook cells\n",
              "var notebookContainer = gd.closest('#notebook-container');\n",
              "if (notebookContainer) {{\n",
              "    x.observe(notebookContainer, {childList: true});\n",
              "}}\n",
              "\n",
              "// Listen for the clearing of the current output cell\n",
              "var outputEl = gd.closest('.output');\n",
              "if (outputEl) {{\n",
              "    x.observe(outputEl, {childList: true});\n",
              "}}\n",
              "\n",
              "                        })                };                            </script>        </div>\n",
              "</body>\n",
              "</html>"
            ]
          },
          "metadata": {}
        }
      ]
    },
    {
      "cell_type": "markdown",
      "source": [
        "Notice that positive scores in the bottom right corner basically just get canceled out by negative scores from other components. We can also just zoom in on just one example and see the same idea:"
      ],
      "metadata": {
        "id": "hBPyEMIcccD3"
      }
    },
    {
      "cell_type": "code",
      "source": [
        "batch_index = 0\n",
        "e = cache['embed'][batch_index, ...].unsqueeze(0)\n",
        "p = cache['pos_embed'][batch_index, ...].unsqueeze(0)\n",
        "\n",
        "\n",
        "decomposed_e_W_QK_e = einops.einsum(\n",
        "    e, W_QK, e,\n",
        "    \"batch q_pos d_model_q, d_model_q d_model_k, batch k_pos d_model_k -> batch q_pos k_pos\"\n",
        ")\n",
        "\n",
        "decomposed_e_W_QK_p = einops.einsum(\n",
        "    e, W_QK, p,\n",
        "    \"batch q_pos d_model_q, d_model_q d_model_k, batch k_pos d_model_k -> batch q_pos k_pos\"\n",
        ")\n",
        "\n",
        "decomposed_p_W_QK_e = einops.einsum(\n",
        "    p, W_QK, e,\n",
        "    \"batch q_pos d_model_q, d_model_q d_model_k, batch k_pos d_model_k -> batch q_pos k_pos\"\n",
        ")\n",
        "\n",
        "decomposed_p_W_QK_p = einops.einsum(\n",
        "    p, W_QK, p,\n",
        "    \"batch q_pos d_model_q, d_model_q d_model_k, batch k_pos d_model_k -> batch q_pos k_pos\"\n",
        ")\n",
        "\n",
        "imshow(\n",
        "    torch.stack(\n",
        "        [decomposed_e_W_QK_e.mean(0).tril(),\n",
        "         decomposed_e_W_QK_p.mean(0).tril(),\n",
        "         decomposed_p_W_QK_e.mean(0).tril(),\n",
        "         decomposed_p_W_QK_p.mean(0).tril(),]),\n",
        "    facet_labels=[\"e @ W_QK @ e.T\", \"e @ W_QK @ p.T\", \"p @ W_QK @ e.T\", \"p @ W_QK @ p.T\"],\n",
        "    facet_col=0,\n",
        "    title=\"all components of attn scores, for one example\",\n",
        "    xaxis=\"k_pos\", yaxis=\"q_pos\",\n",
        "    x=tokens_to_plotly_labels(test_data),\n",
        "    y=tokens_to_plotly_labels(test_data),\n",
        ")"
      ],
      "metadata": {
        "colab": {
          "base_uri": "https://localhost:8080/",
          "height": 542
        },
        "id": "RlfX_FBwGPtN",
        "outputId": "7b1c6314-2143-4da8-88c0-be645204f4f7"
      },
      "execution_count": 36,
      "outputs": [
        {
          "output_type": "display_data",
          "data": {
            "text/html": [
              "<html>\n",
              "<head><meta charset=\"utf-8\" /></head>\n",
              "<body>\n",
              "    <div>            <script src=\"https://cdnjs.cloudflare.com/ajax/libs/mathjax/2.7.5/MathJax.js?config=TeX-AMS-MML_SVG\"></script><script type=\"text/javascript\">if (window.MathJax && window.MathJax.Hub && window.MathJax.Hub.Config) {window.MathJax.Hub.Config({SVG: {font: \"STIX-Web\"}});}</script>                <script type=\"text/javascript\">window.PlotlyConfig = {MathJaxConfig: 'local'};</script>\n",
              "        <script src=\"https://cdn.plot.ly/plotly-2.18.2.min.js\"></script>                <div id=\"d8996fcc-280c-411f-8868-3217996d7103\" class=\"plotly-graph-div\" style=\"height:525px; width:100%;\"></div>            <script type=\"text/javascript\">                                    window.PLOTLYENV=window.PLOTLYENV || {};                                    if (document.getElementById(\"d8996fcc-280c-411f-8868-3217996d7103\")) {                    Plotly.newPlot(                        \"d8996fcc-280c-411f-8868-3217996d7103\",                        [{\"coloraxis\":\"coloraxis\",\"name\":\"0\",\"x\":[\"BOS\",\"46_1\",\"11_2\",\"2_3\",\"25_4\",\"43_5\",\"12_6\",\"44_7\",\"41_8\",\"44_9\",\"4_10\",\"MID\",\"2_12\",\"4_13\",\"11_14\",\"12_15\",\"25_16\",\"41_17\",\"43_18\",\"44_19\",\"44_20\",\"46_21\"],\"y\":[\"BOS\",\"46_1\",\"11_2\",\"2_3\",\"25_4\",\"43_5\",\"12_6\",\"44_7\",\"41_8\",\"44_9\",\"4_10\",\"MID\",\"2_12\",\"4_13\",\"11_14\",\"12_15\",\"25_16\",\"41_17\",\"43_18\",\"44_19\",\"44_20\",\"46_21\"],\"z\":[[-1.3287245035171509,0.0,0.0,0.0,0.0,0.0,0.0,0.0,0.0,0.0,0.0,0.0,0.0,0.0,0.0,0.0,0.0,0.0,0.0,0.0,0.0,0.0],[-8.629105567932129,17.69013214111328,0.0,0.0,0.0,0.0,0.0,0.0,0.0,0.0,0.0,0.0,0.0,0.0,0.0,0.0,0.0,0.0,0.0,0.0,0.0,0.0],[8.004374504089355,-9.016863822937012,1.9066122770309448,0.0,0.0,0.0,0.0,0.0,0.0,0.0,0.0,0.0,0.0,0.0,0.0,0.0,0.0,0.0,0.0,0.0,0.0,0.0],[9.686351776123047,-20.019733428955078,10.57878303527832,11.995004653930664,0.0,0.0,0.0,0.0,0.0,0.0,0.0,0.0,0.0,0.0,0.0,0.0,0.0,0.0,0.0,0.0,0.0,0.0],[-4.334987640380859,10.347394943237305,-7.472043037414551,-8.22089958190918,2.2946901321411133,0.0,0.0,0.0,0.0,0.0,0.0,0.0,0.0,0.0,0.0,0.0,0.0,0.0,0.0,0.0,0.0,0.0],[-8.504150390625,26.06630516052246,-10.652030944824219,-15.017577171325684,-8.255207061767578,18.01968765258789,0.0,0.0,0.0,0.0,0.0,0.0,0.0,0.0,0.0,0.0,0.0,0.0,0.0,0.0,0.0,0.0],[7.024206161499023,-6.270629405975342,-0.19388705492019653,2.5595126152038574,4.818136215209961,-6.289855003356934,0.5699700117111206,0.0,0.0,0.0,0.0,0.0,0.0,0.0,0.0,0.0,0.0,0.0,0.0,0.0,0.0,0.0],[-7.993261337280273,25.657928466796875,-12.52688217163086,-13.52176284790039,-7.5544586181640625,15.819032669067383,-8.873291015625,19.299409866333008,0.0,0.0,0.0,0.0,0.0,0.0,0.0,0.0,0.0,0.0,0.0,0.0,0.0,0.0],[-5.936380863189697,22.01798439025879,-6.616462707519531,-12.488393783569336,-3.0096123218536377,22.88036346435547,-4.660086631774902,23.7596378326416,14.02368450164795,0.0,0.0,0.0,0.0,0.0,0.0,0.0,0.0,0.0,0.0,0.0,0.0,0.0],[-7.993261337280273,25.657928466796875,-12.52688217163086,-13.52176284790039,-7.5544586181640625,15.819032669067383,-8.873291015625,19.299409866333008,15.744421005249023,19.299409866333008,0.0,0.0,0.0,0.0,0.0,0.0,0.0,0.0,0.0,0.0,0.0,0.0],[9.441048622131348,-18.58555793762207,10.744089126586914,10.646703720092773,5.9812164306640625,-19.265169143676758,9.966782569885254,-18.65059471130371,-18.005020141601562,-18.65059471130371,11.194497108459473,0.0,0.0,0.0,0.0,0.0,0.0,0.0,0.0,0.0,0.0,0.0],[-7.0393266677856445,-12.612747192382812,7.911818981170654,13.210105895996094,-2.8383431434631348,-11.621805191040039,6.572489261627197,-12.002334594726562,-12.170900344848633,-12.002334594726562,11.540885925292969,-6.323443412780762,0.0,0.0,0.0,0.0,0.0,0.0,0.0,0.0,0.0,0.0],[9.686351776123047,-20.019733428955078,10.57878303527832,11.995004653930664,5.97292947769165,-18.11778450012207,10.178373336791992,-18.372257232666016,-16.96363067626953,-18.372257232666016,15.857678413391113,-13.919665336608887,11.995004653930664,0.0,0.0,0.0,0.0,0.0,0.0,0.0,0.0,0.0],[9.441048622131348,-18.58555793762207,10.744089126586914,10.646703720092773,5.9812164306640625,-19.265169143676758,9.966782569885254,-18.65059471130371,-18.005020141601562,-18.65059471130371,11.194497108459473,-11.40762996673584,10.646703720092773,11.194497108459473,0.0,0.0,0.0,0.0,0.0,0.0,0.0,0.0],[8.004374504089355,-9.016863822937012,1.9066122770309448,4.443629741668701,3.3645148277282715,-9.07756233215332,9.194286346435547,-8.857261657714844,-9.05803108215332,-8.857261657714844,4.900277137756348,-2.7187087535858154,4.443629741668701,4.900277137756348,1.9066122770309448,0.0,0.0,0.0,0.0,0.0,0.0,0.0],[7.024206161499023,-6.270629405975342,-0.19388705492019653,2.5595126152038574,4.818136215209961,-6.289855003356934,0.5699700117111206,-7.325828552246094,-6.060116767883301,-7.325828552246094,2.965153455734253,-0.6027247905731201,2.5595126152038574,2.965153455734253,-0.19388705492019653,0.5699700117111206,0.0,0.0,0.0,0.0,0.0,0.0],[-4.334987640380859,10.347394943237305,-7.472043037414551,-8.22089958190918,2.2946901321411133,10.043129920959473,-7.21234655380249,10.266364097595215,9.811882972717285,10.266364097595215,-9.35084342956543,7.805227279663086,-8.22089958190918,-9.35084342956543,-7.472043037414551,-7.21234655380249,2.2946901321411133,0.0,0.0,0.0,0.0,0.0],[-5.936380863189697,22.01798439025879,-6.616462707519531,-12.488393783569336,-3.0096123218536377,22.88036346435547,-4.660086631774902,23.7596378326416,14.02368450164795,23.7596378326416,-11.316183090209961,11.984013557434082,-12.488393783569336,-11.316183090209961,-6.616462707519531,-4.660086631774902,-3.0096123218536377,14.02368450164795,0.0,0.0,0.0,0.0],[-8.504150390625,26.06630516052246,-10.652030944824219,-15.017577171325684,-8.255207061767578,18.01968765258789,-7.651113033294678,27.5787410736084,11.736522674560547,27.5787410736084,-14.820747375488281,13.461884498596191,-15.017577171325684,-14.820747375488281,-10.652030944824219,-7.651113033294678,-8.255207061767578,11.736522674560547,18.01968765258789,0.0,0.0,0.0],[-7.993261337280273,25.657928466796875,-12.52688217163086,-13.52176284790039,-7.5544586181640625,15.819032669067383,-8.873291015625,19.299409866333008,15.744421005249023,19.299409866333008,-14.822554588317871,12.45913028717041,-13.52176284790039,-14.822554588317871,-12.52688217163086,-8.873291015625,-7.5544586181640625,15.744421005249023,15.819032669067383,19.299409866333008,0.0,0.0],[-7.993261337280273,25.657928466796875,-12.52688217163086,-13.52176284790039,-7.5544586181640625,15.819032669067383,-8.873291015625,19.299409866333008,15.744421005249023,19.299409866333008,-14.822554588317871,12.45913028717041,-13.52176284790039,-14.822554588317871,-12.52688217163086,-8.873291015625,-7.5544586181640625,15.744421005249023,15.819032669067383,19.299409866333008,19.299409866333008,0.0],[-8.629105567932129,17.69013214111328,-7.864809989929199,-10.514603614807129,-12.301551818847656,12.541479110717773,-8.564010620117188,14.90394401550293,11.152801513671875,14.90394401550293,-10.008207321166992,6.4371442794799805,-10.514603614807129,-10.008207321166992,-7.864809989929199,-8.564010620117188,-12.301551818847656,11.152801513671875,12.541479110717773,14.90394401550293,14.90394401550293,17.69013214111328]],\"type\":\"heatmap\",\"xaxis\":\"x\",\"yaxis\":\"y\",\"hovertemplate\":\"k_pos: %{x}<br>q_pos: %{y}<br>color: %{z}<extra></extra>\"},{\"coloraxis\":\"coloraxis\",\"name\":\"1\",\"x\":[\"BOS\",\"46_1\",\"11_2\",\"2_3\",\"25_4\",\"43_5\",\"12_6\",\"44_7\",\"41_8\",\"44_9\",\"4_10\",\"MID\",\"2_12\",\"4_13\",\"11_14\",\"12_15\",\"25_16\",\"41_17\",\"43_18\",\"44_19\",\"44_20\",\"46_21\"],\"y\":[\"BOS\",\"46_1\",\"11_2\",\"2_3\",\"25_4\",\"43_5\",\"12_6\",\"44_7\",\"41_8\",\"44_9\",\"4_10\",\"MID\",\"2_12\",\"4_13\",\"11_14\",\"12_15\",\"25_16\",\"41_17\",\"43_18\",\"44_19\",\"44_20\",\"46_21\"],\"z\":[[-3.2637381553649902,0.0,0.0,0.0,0.0,0.0,0.0,0.0,0.0,0.0,0.0,0.0,0.0,0.0,0.0,0.0,0.0,0.0,0.0,0.0,0.0,0.0],[-5.58209228515625,-1.408393383026123,0.0,0.0,0.0,0.0,0.0,0.0,0.0,0.0,0.0,0.0,0.0,0.0,0.0,0.0,0.0,0.0,0.0,0.0,0.0,0.0],[6.770294189453125,2.8618481159210205,3.0780317783355713,0.0,0.0,0.0,0.0,0.0,0.0,0.0,0.0,0.0,0.0,0.0,0.0,0.0,0.0,0.0,0.0,0.0,0.0,0.0],[8.67058277130127,-2.342311382293701,-2.106731653213501,-2.658576726913452,0.0,0.0,0.0,0.0,0.0,0.0,0.0,0.0,0.0,0.0,0.0,0.0,0.0,0.0,0.0,0.0,0.0,0.0],[-5.495584487915039,5.071627616882324,4.850412368774414,5.254284381866455,5.121196746826172,0.0,0.0,0.0,0.0,0.0,0.0,0.0,0.0,0.0,0.0,0.0,0.0,0.0,0.0,0.0,0.0,0.0],[-6.37793493270874,4.173972129821777,3.857961416244507,4.404154300689697,4.664718151092529,4.213797092437744,0.0,0.0,0.0,0.0,0.0,0.0,0.0,0.0,0.0,0.0,0.0,0.0,0.0,0.0,0.0,0.0],[5.671723365783691,3.2590088844299316,3.4438586235046387,3.222964286804199,3.1347157955169678,3.282351016998291,3.1844406127929688,0.0,0.0,0.0,0.0,0.0,0.0,0.0,0.0,0.0,0.0,0.0,0.0,0.0,0.0,0.0],[-6.050959587097168,3.40976619720459,2.957679510116577,3.4718780517578125,3.872398853302002,3.3175199031829834,3.2506322860717773,3.226208209991455,0.0,0.0,0.0,0.0,0.0,0.0,0.0,0.0,0.0,0.0,0.0,0.0,0.0,0.0],[-5.2751545906066895,5.184303283691406,4.971375465393066,5.3966755867004395,5.652190208435059,5.155849456787109,5.112198829650879,5.035898208618164,5.240033149719238,0.0,0.0,0.0,0.0,0.0,0.0,0.0,0.0,0.0,0.0,0.0,0.0,0.0],[-6.050959587097168,3.40976619720459,2.957679510116577,3.4718780517578125,3.872398853302002,3.3175199031829834,3.2506322860717773,3.226208209991455,3.293914556503296,2.898376226425171,0.0,0.0,0.0,0.0,0.0,0.0,0.0,0.0,0.0,0.0,0.0,0.0],[7.8312506675720215,-1.9532015323638916,-1.6524568796157837,-2.2423267364501953,-2.5216689109802246,-1.9573132991790771,-2.0883617401123047,-1.8946118354797363,-2.1411561965942383,-1.6843026876449585,-1.7640068531036377,0.0,0.0,0.0,0.0,0.0,0.0,0.0,0.0,0.0,0.0,0.0],[-6.125435829162598,-10.005374908447266,-10.043140411376953,-10.103508949279785,-10.026416778564453,-10.227510452270508,-9.836967468261719,-9.783394813537598,-9.977679252624512,-9.911630630493164,-9.744308471679688,-7.351011276245117,0.0,0.0,0.0,0.0,0.0,0.0,0.0,0.0,0.0,0.0],[8.67058277130127,-2.342311382293701,-2.106731653213501,-2.658576726913452,-2.845336437225342,-2.3128676414489746,-2.4198343753814697,-2.35678768157959,-2.482910633087158,-2.0630908012390137,-2.024399757385254,-16.695819854736328,-26.73468589782715,0.0,0.0,0.0,0.0,0.0,0.0,0.0,0.0,0.0],[7.8312506675720215,-1.9532015323638916,-1.6524568796157837,-2.2423267364501953,-2.5216689109802246,-1.9573132991790771,-2.0883617401123047,-1.8946118354797363,-2.1411561965942383,-1.6843026876449585,-1.7640068531036377,-14.004634857177734,-24.75579833984375,-15.08527660369873,0.0,0.0,0.0,0.0,0.0,0.0,0.0,0.0],[6.770294189453125,2.8618481159210205,3.0780317783355713,2.617812156677246,2.63055419921875,2.864396095275879,2.676994800567627,2.911421298980713,2.8059775829315186,3.065389633178711,3.0455737113952637,-5.214341163635254,-26.373104095458984,-19.29568099975586,-13.073798179626465,0.0,0.0,0.0,0.0,0.0,0.0,0.0],[5.671723365783691,3.2590088844299316,3.4438586235046387,3.222964286804199,3.1347157955169678,3.282351016998291,3.1844406127929688,3.361266851425171,3.2098753452301025,3.435234546661377,3.5032174587249756,-3.4478020668029785,-22.900562286376953,-16.36357879638672,-12.1388521194458,-8.44316577911377,0.0,0.0,0.0,0.0,0.0,0.0],[-5.495584487915039,5.071627616882324,4.850412368774414,5.254284381866455,5.121196746826172,5.285425186157227,5.140299320220947,5.181039810180664,5.322249412536621,5.052684783935547,5.132781028747559,8.480117797851562,15.68746566772461,8.04883861541748,3.7259325981140137,-1.6822575330734253,-6.1177520751953125,0.0,0.0,0.0,0.0,0.0],[-5.2751545906066895,5.184303283691406,4.971375465393066,5.3966755867004395,5.652190208435059,5.155849456787109,5.112198829650879,5.035898208618164,5.240033149719238,4.802750587463379,4.702641487121582,16.251163482666016,16.987937927246094,8.656856536865234,3.175553321838379,-2.2575855255126953,-6.0568084716796875,-11.55804443359375,0.0,0.0,0.0,0.0],[-6.37793493270874,4.173972129821777,3.857961416244507,4.404154300689697,4.664718151092529,4.213797092437744,4.083522796630859,4.072158336639404,4.302872657775879,3.7990505695343018,3.670503616333008,17.663127899169922,22.268482208251953,12.959701538085938,5.236891746520996,-0.8493747115135193,-5.4804229736328125,-12.524450302124023,-19.043468475341797,0.0,0.0,0.0],[-6.050959587097168,3.40976619720459,2.957679510116577,3.4718780517578125,3.872398853302002,3.3175199031829834,3.2506322860717773,3.226208209991455,3.293914556503296,2.898376226425171,2.693661689758301,16.8645076751709,24.258270263671875,14.66913890838623,6.585446834564209,0.1427484154701233,-5.0082550048828125,-10.74332046508789,-18.311222076416016,-26.773771286010742,0.0,0.0],[-6.050959587097168,3.40976619720459,2.957679510116577,3.4718780517578125,3.872398853302002,3.3175199031829834,3.2506322860717773,3.226208209991455,3.293914556503296,2.898376226425171,2.693661689758301,16.8645076751709,24.258270263671875,14.66913890838623,6.585446834564209,0.1427484154701233,-5.0082550048828125,-10.74332046508789,-18.311222076416016,-26.773771286010742,-30.49691390991211,0.0],[-5.58209228515625,-1.408393383026123,-1.5985171794891357,-1.2139323949813843,-0.7252228260040283,-1.3769850730895996,-1.3658677339553833,-1.5983213186264038,-1.5217398405075073,-1.8494102954864502,-1.871865153312683,10.997089385986328,26.94083023071289,18.490100860595703,11.668146133422852,6.605391025543213,2.0660645961761475,-3.876070737838745,-11.475948333740234,-20.336021423339844,-23.980819702148438,0.1955292820930481]],\"type\":\"heatmap\",\"xaxis\":\"x2\",\"yaxis\":\"y2\",\"hovertemplate\":\"k_pos: %{x}<br>q_pos: %{y}<br>color: %{z}<extra></extra>\"},{\"coloraxis\":\"coloraxis\",\"name\":\"2\",\"x\":[\"BOS\",\"46_1\",\"11_2\",\"2_3\",\"25_4\",\"43_5\",\"12_6\",\"44_7\",\"41_8\",\"44_9\",\"4_10\",\"MID\",\"2_12\",\"4_13\",\"11_14\",\"12_15\",\"25_16\",\"41_17\",\"43_18\",\"44_19\",\"44_20\",\"46_21\"],\"y\":[\"BOS\",\"46_1\",\"11_2\",\"2_3\",\"25_4\",\"43_5\",\"12_6\",\"44_7\",\"41_8\",\"44_9\",\"4_10\",\"MID\",\"2_12\",\"4_13\",\"11_14\",\"12_15\",\"25_16\",\"41_17\",\"43_18\",\"44_19\",\"44_20\",\"46_21\"],\"z\":[[-0.5515109300613403,0.0,0.0,0.0,0.0,0.0,0.0,0.0,0.0,0.0,0.0,0.0,0.0,0.0,0.0,0.0,0.0,0.0,0.0,0.0,0.0,0.0],[-2.890568256378174,1.0646840333938599,0.0,0.0,0.0,0.0,0.0,0.0,0.0,0.0,0.0,0.0,0.0,0.0,0.0,0.0,0.0,0.0,0.0,0.0,0.0,0.0],[-3.2629003524780273,2.900045156478882,-1.2223854064941406,0.0,0.0,0.0,0.0,0.0,0.0,0.0,0.0,0.0,0.0,0.0,0.0,0.0,0.0,0.0,0.0,0.0,0.0,0.0],[-3.2902491092681885,2.1614623069763184,-0.7535948753356934,0.7381375432014465,0.0,0.0,0.0,0.0,0.0,0.0,0.0,0.0,0.0,0.0,0.0,0.0,0.0,0.0,0.0,0.0,0.0,0.0],[-3.3641841411590576,2.9327635765075684,-1.2327570915222168,0.05766183137893677,-2.515429973602295,0.0,0.0,0.0,0.0,0.0,0.0,0.0,0.0,0.0,0.0,0.0,0.0,0.0,0.0,0.0,0.0,0.0],[-3.055304765701294,2.7030258178710938,-1.936540126800537,-0.6106265783309937,-1.5451399087905884,2.856111526489258,0.0,0.0,0.0,0.0,0.0,0.0,0.0,0.0,0.0,0.0,0.0,0.0,0.0,0.0,0.0,0.0],[-3.7721409797668457,2.83333158493042,-1.7327572107315063,0.30165770649909973,-2.4347286224365234,2.7716283798217773,-2.383904218673706,0.0,0.0,0.0,0.0,0.0,0.0,0.0,0.0,0.0,0.0,0.0,0.0,0.0,0.0,0.0],[-3.115300178527832,3.2584564685821533,-1.7601721286773682,-0.1331053376197815,-2.0347769260406494,2.6807031631469727,-1.9960057735443115,3.3049299716949463,0.0,0.0,0.0,0.0,0.0,0.0,0.0,0.0,0.0,0.0,0.0,0.0,0.0,0.0],[-3.2420754432678223,2.304717540740967,-1.3053256273269653,0.8746629953384399,-2.748290538787842,1.6716077327728271,-1.408900260925293,2.3832757472991943,1.377596378326416,0.0,0.0,0.0,0.0,0.0,0.0,0.0,0.0,0.0,0.0,0.0,0.0,0.0],[-3.2974443435668945,4.082542419433594,-1.826411247253418,-1.0228123664855957,-1.9704303741455078,4.200468063354492,-2.0378875732421875,4.521454334259033,2.929619312286377,4.521454334259033,0.0,0.0,0.0,0.0,0.0,0.0,0.0,0.0,0.0,0.0,0.0,0.0],[-3.432795763015747,2.9995574951171875,-1.7968623638153076,-0.509709894657135,-2.1872739791870117,3.182880401611328,-2.0917611122131348,3.7513980865478516,2.1213648319244385,3.7513980865478516,-0.03383779525756836,0.0,0.0,0.0,0.0,0.0,0.0,0.0,0.0,0.0,0.0,0.0],[-7.00471830368042,-13.026991844177246,10.107151985168457,13.789454460144043,-3.5512256622314453,-12.490909576416016,8.921209335327148,-13.039315223693848,-13.9236478805542,-13.039315223693848,13.3754301071167,-7.223779678344727,0.0,0.0,0.0,0.0,0.0,0.0,0.0,0.0,0.0,0.0],[-1.9025262594223022,-11.225242614746094,11.594499588012695,8.642057418823242,-5.419486045837402,-11.822381019592285,10.729978561401367,-12.104881286621094,-11.490185737609863,-12.104881286621094,8.41448974609375,1.118929386138916,8.642057418823242,0.0,0.0,0.0,0.0,0.0,0.0,0.0,0.0,0.0],[0.4210425615310669,-5.689723014831543,6.6942949295043945,2.5789597034454346,-3.6270534992218018,-6.181059837341309,6.498956680297852,-6.229194641113281,-5.172682762145996,-6.229194641113281,2.317413330078125,4.863462448120117,2.5789597034454346,2.317413330078125,0.0,0.0,0.0,0.0,0.0,0.0,0.0,0.0],[2.0197231769561768,-2.6066720485687256,3.7356319427490234,-0.567326545715332,-1.4746891260147095,-3.0763649940490723,3.7624478340148926,-3.1449925899505615,-2.021028757095337,-3.1449925899505615,-0.8838745355606079,6.468443870544434,-0.567326545715332,-0.8838745355606079,3.7356319427490234,0.0,0.0,0.0,0.0,0.0,0.0,0.0],[3.393068313598633,-0.3268146812915802,1.2071094512939453,-3.275813102722168,0.8073110580444336,-0.707663357257843,1.606132984161377,-0.763105571269989,0.3221014142036438,-0.763105571269989,-3.526092052459717,7.55604362487793,-3.275813102722168,-3.526092052459717,1.2071094512939453,1.606132984161377,0.0,0.0,0.0,0.0,0.0,0.0],[4.53936767578125,1.3718571662902832,-0.6753102540969849,-5.17246150970459,2.9474565982818604,1.1293401718139648,-0.31475162506103516,1.00807785987854,2.1473584175109863,1.00807785987854,-5.3664727210998535,7.932650566101074,-5.17246150970459,-5.3664727210998535,-0.6753102540969849,-0.31475162506103516,2.9474565982818604,0.0,0.0,0.0,0.0,0.0],[5.63887357711792,4.196994781494141,-2.826880931854248,-7.601018905639648,5.004170894622803,3.8206136226654053,-2.369608163833618,3.7153592109680176,4.72681999206543,3.7153592109680176,-7.673443794250488,8.498550415039062,-7.601018905639648,-7.673443794250488,-2.826880931854248,-2.369608163833618,5.004170894622803,4.72681999206543,0.0,0.0,0.0,0.0],[6.782625198364258,7.6489362716674805,-5.78879451751709,-10.326410293579102,7.458194732666016,7.393442630767822,-5.0256123542785645,7.231555461883545,8.246843338012695,7.231555461883545,-10.327814102172852,9.019144058227539,-10.326410293579102,-10.327814102172852,-5.78879451751709,-5.0256123542785645,7.458194732666016,8.246843338012695,7.393442630767822,0.0,0.0,0.0],[9.17259693145752,11.994675636291504,-9.745284080505371,-14.735231399536133,11.824484825134277,11.87105941772461,-8.612943649291992,11.461187362670898,12.685951232910156,11.461187362670898,-13.744543075561523,10.379660606384277,-14.735231399536133,-13.744543075561523,-9.745284080505371,-8.612943649291992,11.824484825134277,12.685951232910156,11.87105941772461,11.461187362670898,0.0,0.0],[5.309708595275879,50.849037170410156,-35.88883972167969,-41.77922058105469,19.371658325195312,43.67521286010742,-40.578800201416016,45.81510543823242,39.97174072265625,45.81510543823242,-29.015750885009766,9.984201431274414,-41.77922058105469,-29.015750885009766,-35.88883972167969,-40.578800201416016,19.371658325195312,39.97174072265625,43.67521286010742,45.81510543823242,45.81510543823242,0.0],[-0.1192430779337883,0.28740638494491577,-0.43989869952201843,-0.5938228964805603,-0.133316308259964,0.5239264965057373,-0.05399255082011223,0.273478239774704,0.13160192966461182,0.273478239774704,-0.6669226288795471,0.12616722285747528,-0.5938228964805603,-0.6669226288795471,-0.43989869952201843,-0.05399255082011223,-0.133316308259964,0.13160192966461182,0.5239264965057373,0.273478239774704,0.273478239774704,0.28740638494491577]],\"type\":\"heatmap\",\"xaxis\":\"x3\",\"yaxis\":\"y3\",\"hovertemplate\":\"k_pos: %{x}<br>q_pos: %{y}<br>color: %{z}<extra></extra>\"},{\"coloraxis\":\"coloraxis\",\"name\":\"3\",\"x\":[\"BOS\",\"46_1\",\"11_2\",\"2_3\",\"25_4\",\"43_5\",\"12_6\",\"44_7\",\"41_8\",\"44_9\",\"4_10\",\"MID\",\"2_12\",\"4_13\",\"11_14\",\"12_15\",\"25_16\",\"41_17\",\"43_18\",\"44_19\",\"44_20\",\"46_21\"],\"y\":[\"BOS\",\"46_1\",\"11_2\",\"2_3\",\"25_4\",\"43_5\",\"12_6\",\"44_7\",\"41_8\",\"44_9\",\"4_10\",\"MID\",\"2_12\",\"4_13\",\"11_14\",\"12_15\",\"25_16\",\"41_17\",\"43_18\",\"44_19\",\"44_20\",\"46_21\"],\"z\":[[-2.291285276412964,0.0,0.0,0.0,0.0,0.0,0.0,0.0,0.0,0.0,0.0,0.0,0.0,0.0,0.0,0.0,0.0,0.0,0.0,0.0,0.0,0.0],[-1.959097146987915,-4.394913673400879,0.0,0.0,0.0,0.0,0.0,0.0,0.0,0.0,0.0,0.0,0.0,0.0,0.0,0.0,0.0,0.0,0.0,0.0,0.0,0.0],[-2.3858718872070312,-4.087414264678955,-4.218633651733398,0.0,0.0,0.0,0.0,0.0,0.0,0.0,0.0,0.0,0.0,0.0,0.0,0.0,0.0,0.0,0.0,0.0,0.0,0.0],[-2.35322642326355,-4.239877700805664,-4.34055233001709,-4.10929536819458,0.0,0.0,0.0,0.0,0.0,0.0,0.0,0.0,0.0,0.0,0.0,0.0,0.0,0.0,0.0,0.0,0.0,0.0],[-2.415213108062744,-4.08604621887207,-4.237783908843994,-3.913365602493286,-4.007658958435059,0.0,0.0,0.0,0.0,0.0,0.0,0.0,0.0,0.0,0.0,0.0,0.0,0.0,0.0,0.0,0.0,0.0],[-2.3478362560272217,-3.0886874198913574,-3.2014894485473633,-2.949112892150879,-3.012874126434326,-3.0746421813964844,0.0,0.0,0.0,0.0,0.0,0.0,0.0,0.0,0.0,0.0,0.0,0.0,0.0,0.0,0.0,0.0],[-2.792689800262451,-4.186700820922852,-4.3014445304870605,-4.007709503173828,-4.096131324768066,-4.191050052642822,-4.074684143066406,0.0,0.0,0.0,0.0,0.0,0.0,0.0,0.0,0.0,0.0,0.0,0.0,0.0,0.0,0.0],[-2.3457021713256836,-3.315401792526245,-3.4708757400512695,-3.161686420440674,-3.302309036254883,-3.3425581455230713,-3.227921485900879,-3.292135715484619,0.0,0.0,0.0,0.0,0.0,0.0,0.0,0.0,0.0,0.0,0.0,0.0,0.0,0.0],[-2.3195924758911133,-4.339601516723633,-4.438851356506348,-4.17926025390625,-4.2192792892456055,-4.321730613708496,-4.214663982391357,-4.244311809539795,-4.317452430725098,0.0,0.0,0.0,0.0,0.0,0.0,0.0,0.0,0.0,0.0,0.0,0.0,0.0],[-2.5118026733398438,-3.1612296104431152,-3.309760093688965,-2.9335720539093018,-3.1227481365203857,-3.179281234741211,-3.0332703590393066,-3.116666078567505,-3.1336302757263184,-3.1550655364990234,0.0,0.0,0.0,0.0,0.0,0.0,0.0,0.0,0.0,0.0,0.0,0.0],[-2.519688129425049,-3.72896146774292,-3.8629117012023926,-3.5596611499786377,-3.6175427436828613,-3.68660306930542,-3.598789930343628,-3.6566145420074463,-3.6785407066345215,-3.6760220527648926,-3.620540142059326,0.0,0.0,0.0,0.0,0.0,0.0,0.0,0.0,0.0,0.0,0.0],[-5.737679481506348,-10.603857040405273,-10.67501449584961,-10.780996322631836,-10.554356575012207,-10.845573425292969,-10.496423721313477,-10.359476089477539,-10.626824378967285,-10.598994255065918,-10.415728569030762,-8.298133850097656,0.0,0.0,0.0,0.0,0.0,0.0,0.0,0.0,0.0,0.0],[-1.6098055839538574,-0.3468339443206787,-0.19187021255493164,-0.8341716527938843,-0.2710387706756592,-0.5285344123840332,-0.47315073013305664,-0.32549694180488586,-0.41964149475097656,-0.48175951838493347,-0.48940566182136536,-0.0875900387763977,-17.59647560119629,0.0,0.0,0.0,0.0,0.0,0.0,0.0,0.0,0.0],[0.24874188005924225,2.8457508087158203,3.0058791637420654,2.488520622253418,2.948190927505493,2.738239288330078,2.717939615249634,2.7508068084716797,2.801490068435669,2.6955747604370117,2.644216299057007,4.218740463256836,-16.71381950378418,-13.999320030212402,0.0,0.0,0.0,0.0,0.0,0.0,0.0,0.0],[1.3899749517440796,4.829833984375,4.986080169677734,4.557693004608154,4.907064437866211,4.787264823913574,4.711316108703613,4.727380752563477,4.791770935058594,4.694284439086914,4.647337913513184,5.951905727386475,-17.097789764404297,-15.021553039550781,-11.601107597351074,0.0,0.0,0.0,0.0,0.0,0.0,0.0],[2.3568217754364014,6.560612201690674,6.72199821472168,6.343802452087402,6.598348140716553,6.548917770385742,6.424117088317871,6.430084228515625,6.530165195465088,6.448705673217773,6.360876083374023,7.155254364013672,-17.77650260925293,-16.03868865966797,-13.128116607666016,-11.36484146118164,0.0,0.0,0.0,0.0,0.0,0.0],[3.1362972259521484,7.968771457672119,8.14261245727539,7.816944122314453,7.9546284675598145,8.025506019592285,7.8081254959106445,7.8317646980285645,7.942789077758789,7.904646873474121,7.771331787109375,7.496628761291504,-18.862031936645508,-17.178958892822266,-14.580862998962402,-12.961514472961426,-10.799524307250977,0.0,0.0,0.0,0.0,0.0],[3.7778358459472656,9.954861640930176,10.115180969238281,9.905984878540039,9.885384559631348,10.108932495117188,9.778802871704102,9.830516815185547,9.93771743774414,9.932273864746094,9.778429985046387,8.134700775146484,-19.89523696899414,-18.494083404541016,-16.20964813232422,-14.912056922912598,-12.98711109161377,-10.554548263549805,0.0,0.0,0.0,0.0],[4.385611534118652,12.420799255371094,12.562797546386719,12.492634773254395,12.274645805358887,12.673250198364258,12.237161636352539,12.293424606323242,12.431350708007812,12.47077465057373,12.29058837890625,8.780027389526367,-21.589115142822266,-20.376001358032227,-18.432289123535156,-17.42803382873535,-15.669134140014648,-13.24654483795166,-10.277450561523438,0.0,0.0,0.0],[5.63084602355957,18.50033187866211,18.663188934326172,18.668560028076172,18.173656463623047,18.99270248413086,18.20215606689453,18.442832946777344,18.535655975341797,18.71421241760254,18.40244483947754,9.777196884155273,-31.95254898071289,-29.287700653076172,-26.75581932067871,-25.07256317138672,-22.4803524017334,-19.2684268951416,-14.795570373535156,-14.75187873840332,0.0,0.0],[2.968536138534546,32.342369079589844,32.02964782714844,32.9626350402832,31.4747314453125,33.520179748535156,31.842973709106445,32.13266372680664,32.227264404296875,32.283016204833984,31.505537033081055,15.669266700744629,-12.237478256225586,-14.833742141723633,-26.412532806396484,-31.358020782470703,-34.03117752075195,-38.38372802734375,-43.08190155029297,-56.14091110229492,-60.350006103515625,0.0],[-0.09177753329277039,-0.02026566118001938,-0.009098105132579803,0.024363964796066284,0.012413306161761284,-0.01840369403362274,0.06148657202720642,0.03824632987380028,-0.004926338791847229,0.028677120804786682,0.016258731484413147,0.2787764370441437,1.114974021911621,0.798086404800415,0.4851468801498413,0.3077729344367981,0.12858045101165771,-0.18506652116775513,-0.33740442991256714,-0.5624753832817078,-1.656862497329712,-0.14765068888664246]],\"type\":\"heatmap\",\"xaxis\":\"x4\",\"yaxis\":\"y4\",\"hovertemplate\":\"k_pos: %{x}<br>q_pos: %{y}<br>color: %{z}<extra></extra>\"}],                        {\"template\":{\"data\":{\"histogram2dcontour\":[{\"type\":\"histogram2dcontour\",\"colorbar\":{\"outlinewidth\":0,\"ticks\":\"\"},\"colorscale\":[[0.0,\"#0d0887\"],[0.1111111111111111,\"#46039f\"],[0.2222222222222222,\"#7201a8\"],[0.3333333333333333,\"#9c179e\"],[0.4444444444444444,\"#bd3786\"],[0.5555555555555556,\"#d8576b\"],[0.6666666666666666,\"#ed7953\"],[0.7777777777777778,\"#fb9f3a\"],[0.8888888888888888,\"#fdca26\"],[1.0,\"#f0f921\"]]}],\"choropleth\":[{\"type\":\"choropleth\",\"colorbar\":{\"outlinewidth\":0,\"ticks\":\"\"}}],\"histogram2d\":[{\"type\":\"histogram2d\",\"colorbar\":{\"outlinewidth\":0,\"ticks\":\"\"},\"colorscale\":[[0.0,\"#0d0887\"],[0.1111111111111111,\"#46039f\"],[0.2222222222222222,\"#7201a8\"],[0.3333333333333333,\"#9c179e\"],[0.4444444444444444,\"#bd3786\"],[0.5555555555555556,\"#d8576b\"],[0.6666666666666666,\"#ed7953\"],[0.7777777777777778,\"#fb9f3a\"],[0.8888888888888888,\"#fdca26\"],[1.0,\"#f0f921\"]]}],\"heatmap\":[{\"type\":\"heatmap\",\"colorbar\":{\"outlinewidth\":0,\"ticks\":\"\"},\"colorscale\":[[0.0,\"#0d0887\"],[0.1111111111111111,\"#46039f\"],[0.2222222222222222,\"#7201a8\"],[0.3333333333333333,\"#9c179e\"],[0.4444444444444444,\"#bd3786\"],[0.5555555555555556,\"#d8576b\"],[0.6666666666666666,\"#ed7953\"],[0.7777777777777778,\"#fb9f3a\"],[0.8888888888888888,\"#fdca26\"],[1.0,\"#f0f921\"]]}],\"heatmapgl\":[{\"type\":\"heatmapgl\",\"colorbar\":{\"outlinewidth\":0,\"ticks\":\"\"},\"colorscale\":[[0.0,\"#0d0887\"],[0.1111111111111111,\"#46039f\"],[0.2222222222222222,\"#7201a8\"],[0.3333333333333333,\"#9c179e\"],[0.4444444444444444,\"#bd3786\"],[0.5555555555555556,\"#d8576b\"],[0.6666666666666666,\"#ed7953\"],[0.7777777777777778,\"#fb9f3a\"],[0.8888888888888888,\"#fdca26\"],[1.0,\"#f0f921\"]]}],\"contourcarpet\":[{\"type\":\"contourcarpet\",\"colorbar\":{\"outlinewidth\":0,\"ticks\":\"\"}}],\"contour\":[{\"type\":\"contour\",\"colorbar\":{\"outlinewidth\":0,\"ticks\":\"\"},\"colorscale\":[[0.0,\"#0d0887\"],[0.1111111111111111,\"#46039f\"],[0.2222222222222222,\"#7201a8\"],[0.3333333333333333,\"#9c179e\"],[0.4444444444444444,\"#bd3786\"],[0.5555555555555556,\"#d8576b\"],[0.6666666666666666,\"#ed7953\"],[0.7777777777777778,\"#fb9f3a\"],[0.8888888888888888,\"#fdca26\"],[1.0,\"#f0f921\"]]}],\"surface\":[{\"type\":\"surface\",\"colorbar\":{\"outlinewidth\":0,\"ticks\":\"\"},\"colorscale\":[[0.0,\"#0d0887\"],[0.1111111111111111,\"#46039f\"],[0.2222222222222222,\"#7201a8\"],[0.3333333333333333,\"#9c179e\"],[0.4444444444444444,\"#bd3786\"],[0.5555555555555556,\"#d8576b\"],[0.6666666666666666,\"#ed7953\"],[0.7777777777777778,\"#fb9f3a\"],[0.8888888888888888,\"#fdca26\"],[1.0,\"#f0f921\"]]}],\"mesh3d\":[{\"type\":\"mesh3d\",\"colorbar\":{\"outlinewidth\":0,\"ticks\":\"\"}}],\"scatter\":[{\"fillpattern\":{\"fillmode\":\"overlay\",\"size\":10,\"solidity\":0.2},\"type\":\"scatter\"}],\"parcoords\":[{\"type\":\"parcoords\",\"line\":{\"colorbar\":{\"outlinewidth\":0,\"ticks\":\"\"}}}],\"scatterpolargl\":[{\"type\":\"scatterpolargl\",\"marker\":{\"colorbar\":{\"outlinewidth\":0,\"ticks\":\"\"}}}],\"bar\":[{\"error_x\":{\"color\":\"#2a3f5f\"},\"error_y\":{\"color\":\"#2a3f5f\"},\"marker\":{\"line\":{\"color\":\"#E5ECF6\",\"width\":0.5},\"pattern\":{\"fillmode\":\"overlay\",\"size\":10,\"solidity\":0.2}},\"type\":\"bar\"}],\"scattergeo\":[{\"type\":\"scattergeo\",\"marker\":{\"colorbar\":{\"outlinewidth\":0,\"ticks\":\"\"}}}],\"scatterpolar\":[{\"type\":\"scatterpolar\",\"marker\":{\"colorbar\":{\"outlinewidth\":0,\"ticks\":\"\"}}}],\"histogram\":[{\"marker\":{\"pattern\":{\"fillmode\":\"overlay\",\"size\":10,\"solidity\":0.2}},\"type\":\"histogram\"}],\"scattergl\":[{\"type\":\"scattergl\",\"marker\":{\"colorbar\":{\"outlinewidth\":0,\"ticks\":\"\"}}}],\"scatter3d\":[{\"type\":\"scatter3d\",\"line\":{\"colorbar\":{\"outlinewidth\":0,\"ticks\":\"\"}},\"marker\":{\"colorbar\":{\"outlinewidth\":0,\"ticks\":\"\"}}}],\"scattermapbox\":[{\"type\":\"scattermapbox\",\"marker\":{\"colorbar\":{\"outlinewidth\":0,\"ticks\":\"\"}}}],\"scatterternary\":[{\"type\":\"scatterternary\",\"marker\":{\"colorbar\":{\"outlinewidth\":0,\"ticks\":\"\"}}}],\"scattercarpet\":[{\"type\":\"scattercarpet\",\"marker\":{\"colorbar\":{\"outlinewidth\":0,\"ticks\":\"\"}}}],\"carpet\":[{\"aaxis\":{\"endlinecolor\":\"#2a3f5f\",\"gridcolor\":\"white\",\"linecolor\":\"white\",\"minorgridcolor\":\"white\",\"startlinecolor\":\"#2a3f5f\"},\"baxis\":{\"endlinecolor\":\"#2a3f5f\",\"gridcolor\":\"white\",\"linecolor\":\"white\",\"minorgridcolor\":\"white\",\"startlinecolor\":\"#2a3f5f\"},\"type\":\"carpet\"}],\"table\":[{\"cells\":{\"fill\":{\"color\":\"#EBF0F8\"},\"line\":{\"color\":\"white\"}},\"header\":{\"fill\":{\"color\":\"#C8D4E3\"},\"line\":{\"color\":\"white\"}},\"type\":\"table\"}],\"barpolar\":[{\"marker\":{\"line\":{\"color\":\"#E5ECF6\",\"width\":0.5},\"pattern\":{\"fillmode\":\"overlay\",\"size\":10,\"solidity\":0.2}},\"type\":\"barpolar\"}],\"pie\":[{\"automargin\":true,\"type\":\"pie\"}]},\"layout\":{\"autotypenumbers\":\"strict\",\"colorway\":[\"#636efa\",\"#EF553B\",\"#00cc96\",\"#ab63fa\",\"#FFA15A\",\"#19d3f3\",\"#FF6692\",\"#B6E880\",\"#FF97FF\",\"#FECB52\"],\"font\":{\"color\":\"#2a3f5f\"},\"hovermode\":\"closest\",\"hoverlabel\":{\"align\":\"left\"},\"paper_bgcolor\":\"white\",\"plot_bgcolor\":\"#E5ECF6\",\"polar\":{\"bgcolor\":\"#E5ECF6\",\"angularaxis\":{\"gridcolor\":\"white\",\"linecolor\":\"white\",\"ticks\":\"\"},\"radialaxis\":{\"gridcolor\":\"white\",\"linecolor\":\"white\",\"ticks\":\"\"}},\"ternary\":{\"bgcolor\":\"#E5ECF6\",\"aaxis\":{\"gridcolor\":\"white\",\"linecolor\":\"white\",\"ticks\":\"\"},\"baxis\":{\"gridcolor\":\"white\",\"linecolor\":\"white\",\"ticks\":\"\"},\"caxis\":{\"gridcolor\":\"white\",\"linecolor\":\"white\",\"ticks\":\"\"}},\"coloraxis\":{\"colorbar\":{\"outlinewidth\":0,\"ticks\":\"\"}},\"colorscale\":{\"sequential\":[[0.0,\"#0d0887\"],[0.1111111111111111,\"#46039f\"],[0.2222222222222222,\"#7201a8\"],[0.3333333333333333,\"#9c179e\"],[0.4444444444444444,\"#bd3786\"],[0.5555555555555556,\"#d8576b\"],[0.6666666666666666,\"#ed7953\"],[0.7777777777777778,\"#fb9f3a\"],[0.8888888888888888,\"#fdca26\"],[1.0,\"#f0f921\"]],\"sequentialminus\":[[0.0,\"#0d0887\"],[0.1111111111111111,\"#46039f\"],[0.2222222222222222,\"#7201a8\"],[0.3333333333333333,\"#9c179e\"],[0.4444444444444444,\"#bd3786\"],[0.5555555555555556,\"#d8576b\"],[0.6666666666666666,\"#ed7953\"],[0.7777777777777778,\"#fb9f3a\"],[0.8888888888888888,\"#fdca26\"],[1.0,\"#f0f921\"]],\"diverging\":[[0,\"#8e0152\"],[0.1,\"#c51b7d\"],[0.2,\"#de77ae\"],[0.3,\"#f1b6da\"],[0.4,\"#fde0ef\"],[0.5,\"#f7f7f7\"],[0.6,\"#e6f5d0\"],[0.7,\"#b8e186\"],[0.8,\"#7fbc41\"],[0.9,\"#4d9221\"],[1,\"#276419\"]]},\"xaxis\":{\"gridcolor\":\"white\",\"linecolor\":\"white\",\"ticks\":\"\",\"title\":{\"standoff\":15},\"zerolinecolor\":\"white\",\"automargin\":true,\"zerolinewidth\":2},\"yaxis\":{\"gridcolor\":\"white\",\"linecolor\":\"white\",\"ticks\":\"\",\"title\":{\"standoff\":15},\"zerolinecolor\":\"white\",\"automargin\":true,\"zerolinewidth\":2},\"scene\":{\"xaxis\":{\"backgroundcolor\":\"#E5ECF6\",\"gridcolor\":\"white\",\"linecolor\":\"white\",\"showbackground\":true,\"ticks\":\"\",\"zerolinecolor\":\"white\",\"gridwidth\":2},\"yaxis\":{\"backgroundcolor\":\"#E5ECF6\",\"gridcolor\":\"white\",\"linecolor\":\"white\",\"showbackground\":true,\"ticks\":\"\",\"zerolinecolor\":\"white\",\"gridwidth\":2},\"zaxis\":{\"backgroundcolor\":\"#E5ECF6\",\"gridcolor\":\"white\",\"linecolor\":\"white\",\"showbackground\":true,\"ticks\":\"\",\"zerolinecolor\":\"white\",\"gridwidth\":2}},\"shapedefaults\":{\"line\":{\"color\":\"#2a3f5f\"}},\"annotationdefaults\":{\"arrowcolor\":\"#2a3f5f\",\"arrowhead\":0,\"arrowwidth\":1},\"geo\":{\"bgcolor\":\"white\",\"landcolor\":\"#E5ECF6\",\"subunitcolor\":\"white\",\"showland\":true,\"showlakes\":true,\"lakecolor\":\"white\"},\"title\":{\"x\":0.05},\"mapbox\":{\"style\":\"light\"}}},\"xaxis\":{\"anchor\":\"y\",\"domain\":[0.0,0.235],\"scaleanchor\":\"y\",\"constrain\":\"domain\",\"title\":{\"text\":\"k_pos\"}},\"yaxis\":{\"anchor\":\"x\",\"domain\":[0.0,1.0],\"autorange\":\"reversed\",\"constrain\":\"domain\",\"title\":{\"text\":\"q_pos\"}},\"xaxis2\":{\"anchor\":\"y2\",\"domain\":[0.255,0.49],\"matches\":\"x\",\"title\":{\"text\":\"k_pos\"}},\"yaxis2\":{\"anchor\":\"x2\",\"domain\":[0.0,1.0],\"matches\":\"y\",\"showticklabels\":false},\"xaxis3\":{\"anchor\":\"y3\",\"domain\":[0.51,0.745],\"matches\":\"x\",\"title\":{\"text\":\"k_pos\"}},\"yaxis3\":{\"anchor\":\"x3\",\"domain\":[0.0,1.0],\"matches\":\"y\",\"showticklabels\":false},\"xaxis4\":{\"anchor\":\"y4\",\"domain\":[0.7649999999999999,0.9999999999999999],\"matches\":\"x\",\"title\":{\"text\":\"k_pos\"}},\"yaxis4\":{\"anchor\":\"x4\",\"domain\":[0.0,1.0],\"matches\":\"y\",\"showticklabels\":false},\"annotations\":[{\"font\":{},\"showarrow\":false,\"text\":\"e @ W_QK @ e.T\",\"x\":0.1175,\"xanchor\":\"center\",\"xref\":\"paper\",\"y\":1.0,\"yanchor\":\"bottom\",\"yref\":\"paper\"},{\"font\":{},\"showarrow\":false,\"text\":\"e @ W_QK @ p.T\",\"x\":0.3725,\"xanchor\":\"center\",\"xref\":\"paper\",\"y\":1.0,\"yanchor\":\"bottom\",\"yref\":\"paper\"},{\"font\":{},\"showarrow\":false,\"text\":\"p @ W_QK @ e.T\",\"x\":0.6275,\"xanchor\":\"center\",\"xref\":\"paper\",\"y\":1.0,\"yanchor\":\"bottom\",\"yref\":\"paper\"},{\"font\":{},\"showarrow\":false,\"text\":\"p @ W_QK @ p.T\",\"x\":0.8824999999999998,\"xanchor\":\"center\",\"xref\":\"paper\",\"y\":1.0,\"yanchor\":\"bottom\",\"yref\":\"paper\"}],\"coloraxis\":{\"colorscale\":[[0.0,\"rgb(103,0,31)\"],[0.1,\"rgb(178,24,43)\"],[0.2,\"rgb(214,96,77)\"],[0.3,\"rgb(244,165,130)\"],[0.4,\"rgb(253,219,199)\"],[0.5,\"rgb(247,247,247)\"],[0.6,\"rgb(209,229,240)\"],[0.7,\"rgb(146,197,222)\"],[0.8,\"rgb(67,147,195)\"],[0.9,\"rgb(33,102,172)\"],[1.0,\"rgb(5,48,97)\"]],\"cmid\":0.0},\"title\":{\"text\":\"all components of attn scores, for one example\"}},                        {\"responsive\": true}                    ).then(function(){\n",
              "                            \n",
              "var gd = document.getElementById('d8996fcc-280c-411f-8868-3217996d7103');\n",
              "var x = new MutationObserver(function (mutations, observer) {{\n",
              "        var display = window.getComputedStyle(gd).display;\n",
              "        if (!display || display === 'none') {{\n",
              "            console.log([gd, 'removed!']);\n",
              "            Plotly.purge(gd);\n",
              "            observer.disconnect();\n",
              "        }}\n",
              "}});\n",
              "\n",
              "// Listen for the removal of the full notebook cells\n",
              "var notebookContainer = gd.closest('#notebook-container');\n",
              "if (notebookContainer) {{\n",
              "    x.observe(notebookContainer, {childList: true});\n",
              "}}\n",
              "\n",
              "// Listen for the clearing of the current output cell\n",
              "var outputEl = gd.closest('.output');\n",
              "if (outputEl) {{\n",
              "    x.observe(outputEl, {childList: true});\n",
              "}}\n",
              "\n",
              "                        })                };                            </script>        </div>\n",
              "</body>\n",
              "</html>"
            ]
          },
          "metadata": {}
        }
      ]
    },
    {
      "cell_type": "markdown",
      "source": [
        "When we add them up we can see that the negative scores for positions after mid dominate:"
      ],
      "metadata": {
        "id": "MVSpUEVq3qsh"
      }
    },
    {
      "cell_type": "code",
      "source": [
        "imshow(\n",
        "    (decomposed_e_W_QK_e.mean(0) + decomposed_e_W_QK_p.mean(0) +decomposed_p_W_QK_e.mean(0) + decomposed_p_W_QK_p.mean(0)).tril(),\n",
        "    title=\"total attn scores for one example\",\n",
        "    x=tokens_to_plotly_labels(test_data),\n",
        "    y=tokens_to_plotly_labels(test_data),\n",
        "    xaxis=\"src\", yaxis=\"dest\"\n",
        ")"
      ],
      "metadata": {
        "colab": {
          "base_uri": "https://localhost:8080/",
          "height": 542
        },
        "id": "voFDCHxs3y2S",
        "outputId": "e671c6b0-2d8c-40da-decb-37dc1029a9f5"
      },
      "execution_count": 37,
      "outputs": [
        {
          "output_type": "display_data",
          "data": {
            "text/html": [
              "<html>\n",
              "<head><meta charset=\"utf-8\" /></head>\n",
              "<body>\n",
              "    <div>            <script src=\"https://cdnjs.cloudflare.com/ajax/libs/mathjax/2.7.5/MathJax.js?config=TeX-AMS-MML_SVG\"></script><script type=\"text/javascript\">if (window.MathJax && window.MathJax.Hub && window.MathJax.Hub.Config) {window.MathJax.Hub.Config({SVG: {font: \"STIX-Web\"}});}</script>                <script type=\"text/javascript\">window.PlotlyConfig = {MathJaxConfig: 'local'};</script>\n",
              "        <script src=\"https://cdn.plot.ly/plotly-2.18.2.min.js\"></script>                <div id=\"12492c1f-99ec-4103-8ac5-ef977a4546a9\" class=\"plotly-graph-div\" style=\"height:525px; width:100%;\"></div>            <script type=\"text/javascript\">                                    window.PLOTLYENV=window.PLOTLYENV || {};                                    if (document.getElementById(\"12492c1f-99ec-4103-8ac5-ef977a4546a9\")) {                    Plotly.newPlot(                        \"12492c1f-99ec-4103-8ac5-ef977a4546a9\",                        [{\"coloraxis\":\"coloraxis\",\"name\":\"0\",\"x\":[\"BOS\",\"46_1\",\"11_2\",\"2_3\",\"25_4\",\"43_5\",\"12_6\",\"44_7\",\"41_8\",\"44_9\",\"4_10\",\"MID\",\"2_12\",\"4_13\",\"11_14\",\"12_15\",\"25_16\",\"41_17\",\"43_18\",\"44_19\",\"44_20\",\"46_21\"],\"y\":[\"BOS\",\"46_1\",\"11_2\",\"2_3\",\"25_4\",\"43_5\",\"12_6\",\"44_7\",\"41_8\",\"44_9\",\"4_10\",\"MID\",\"2_12\",\"4_13\",\"11_14\",\"12_15\",\"25_16\",\"41_17\",\"43_18\",\"44_19\",\"44_20\",\"46_21\"],\"z\":[[-7.435258865356445,0.0,0.0,0.0,0.0,0.0,0.0,0.0,0.0,0.0,0.0,0.0,0.0,0.0,0.0,0.0,0.0,0.0,0.0,0.0,0.0,0.0],[-19.060863494873047,12.951508522033691,0.0,0.0,0.0,0.0,0.0,0.0,0.0,0.0,0.0,0.0,0.0,0.0,0.0,0.0,0.0,0.0,0.0,0.0,0.0,0.0],[9.125896453857422,-7.342385292053223,-0.4563751220703125,0.0,0.0,0.0,0.0,0.0,0.0,0.0,0.0,0.0,0.0,0.0,0.0,0.0,0.0,0.0,0.0,0.0,0.0,0.0],[12.713458061218262,-24.440460205078125,3.3779044151306152,5.965269565582275,0.0,0.0,0.0,0.0,0.0,0.0,0.0,0.0,0.0,0.0,0.0,0.0,0.0,0.0,0.0,0.0,0.0,0.0],[-15.609970092773438,14.265739440917969,-8.092171669006348,-6.822319030761719,0.8927979469299316,0.0,0.0,0.0,0.0,0.0,0.0,0.0,0.0,0.0,0.0,0.0,0.0,0.0,0.0,0.0,0.0,0.0],[-20.285226821899414,29.8546142578125,-11.932099342346191,-14.173161506652832,-8.148502349853516,22.01495361328125,0.0,0.0,0.0,0.0,0.0,0.0,0.0,0.0,0.0,0.0,0.0,0.0,0.0,0.0,0.0,0.0],[6.13109827041626,-4.364989757537842,-2.7842302322387695,2.076425075531006,1.421992301940918,-4.4269256591796875,-2.7041776180267334,0.0,0.0,0.0,0.0,0.0,0.0,0.0,0.0,0.0,0.0,0.0,0.0,0.0,0.0,0.0],[-19.50522232055664,29.010751724243164,-14.800250053405762,-13.344676971435547,-9.019145965576172,18.474699020385742,-10.846586227416992,22.53841209411621,0.0,0.0,0.0,0.0,0.0,0.0,0.0,0.0,0.0,0.0,0.0,0.0,0.0,0.0],[-16.773204803466797,25.167404174804688,-7.389264106750488,-10.396315574645996,-4.3249921798706055,25.386089324951172,-5.171452045440674,26.934499740600586,16.32386016845703,0.0,0.0,0.0,0.0,0.0,0.0,0.0,0.0,0.0,0.0,0.0,0.0,0.0],[-19.85346794128418,29.9890079498291,-14.705373764038086,-14.006268501281738,-8.775238037109375,20.157739639282227,-10.693817138671875,23.930404663085938,18.83432388305664,23.56417465209961,0.0,0.0,0.0,0.0,0.0,0.0,0.0,0.0,0.0,0.0,0.0,0.0],[11.319814682006836,-21.268163681030273,3.4318575859069824,4.335005760192871,-2.345269203186035,-21.726205825805664,2.1878697872161865,-20.450422286987305,-21.703351974487305,-20.259521484375,5.776112079620361,0.0,0.0,0.0,0.0,0.0,0.0,0.0,0.0,0.0,0.0,0.0],[-25.907161712646484,-46.24897003173828,-2.699183940887451,6.115055084228516,-26.970340728759766,-45.18579864501953,-4.83969259262085,-45.18451690673828,-46.69905090332031,-45.552276611328125,4.756278991699219,-29.196369171142578,0.0,0.0,0.0,0.0,0.0,0.0,0.0,0.0,0.0,0.0],[14.844600677490234,-33.934120178222656,19.87468147277832,17.14431381225586,-2.562931776046753,-32.78156661987305,18.01536750793457,-33.159423828125,-31.356367111206055,-33.02198791503906,21.75836181640625,-29.58414649963379,-23.69409942626953,0.0,0.0,0.0,0.0,0.0,0.0,0.0,0.0,0.0],[17.94208335876465,-23.38273048400879,18.791805267333984,13.471857070922852,2.7806849479675293,-24.665302276611328,17.095317840576172,-24.02359390258789,-22.51736831665039,-23.868518829345703,14.392120361328125,-16.330062866210938,-28.243953704833984,-15.572686195373535,0.0,0.0,0.0,0.0,0.0,0.0,0.0,0.0],[18.18436622619629,-3.931854248046875,13.706356048583984,11.05180835723877,9.427444458007812,-4.502266883850098,20.345043182373047,-4.363451957702637,-3.4813108444213867,-4.242580413818359,11.709314346313477,4.48729944229126,-39.59458923339844,-30.300830841064453,-19.03266143798828,0.0,0.0,0.0,0.0,0.0,0.0,0.0],[18.445817947387695,3.222177028656006,11.179079055786133,8.850465774536133,15.358510971069336,2.8337504863739014,11.784660339355469,1.7024168968200684,4.002025127410889,1.795006275177002,9.303154945373535,10.660771369934082,-41.39336395263672,-32.96320343017578,-24.253746032714844,-17.63190460205078,0.0,0.0,0.0,0.0,0.0,0.0],[-2.1549072265625,24.75965118408203,4.845671653747559,-0.3221321105957031,18.31797218322754,24.483402252197266,5.421326637268066,24.287246704101562,25.224279403686523,24.231773376464844,-1.8132038116455078,31.714622497558594,-16.567928314208984,-23.847436904907227,-19.002283096313477,-22.170869827270508,-11.675129890441895,0.0,0.0,0.0,0.0,0.0],[-1.7948260307312012,41.35414505004883,5.643212795257568,-4.786752700805664,17.532133102416992,41.96575927734375,7.861307144165039,42.34141159057617,33.928253173828125,42.21002197265625,-4.5085554122924805,44.86842727661133,-22.99671173095703,-28.826854705810547,-22.47743797302246,-24.199337005615234,-17.049360275268555,-3.362088203430176,0.0,0.0,0.0,0.0],[-3.7138490676879883,50.31001281738281,-0.020066261291503906,-8.447197914123535,16.142351150512695,42.30017852783203,3.6439590454101562,51.175880432128906,36.71759033203125,51.08012390136719,-9.187469482421875,48.92418670654297,-24.66461944580078,-32.56486129760742,-29.63622283935547,-30.954133987426758,-21.946569442749023,-5.787629127502441,-3.9077887535095215,0.0,0.0,0.0],[0.7592220306396484,59.56270217895508,-0.6512985229492188,-6.116556167602539,26.316082000732422,50.00031280517578,3.9665536880493164,52.42963790893555,50.25994110107422,52.37318420410156,-7.470991134643555,49.480499267578125,-35.951271057128906,-43.18566131591797,-42.44253921508789,-42.41604995727539,-23.218582153320312,-1.5813751220703125,-5.41670036315918,-10.765052795410156,0.0,0.0],[-5.7659759521484375,112.25910186767578,-13.428394317626953,-18.866470336914062,47.164329528808594,96.33194732666016,-14.358484268188477,100.473388671875,91.23734283447266,100.29591369628906,-9.639108657836914,54.97710418701172,-43.280189514160156,-44.002906799316406,-68.24281311035156,-80.6673583984375,-27.222232818603516,6.589111328125,-1.8988800048828125,-17.800167083740234,-25.732406616210938,0.0],[-14.422218322753906,16.548879623413086,-9.912323951721191,-12.297994613647461,-13.147677421569824,11.670016288757324,-9.922384262084961,13.617347717285156,9.757737159729004,13.356689453125,-12.530735969543457,17.83917808532715,16.94738006591797,8.613057136535645,3.8485841751098633,-1.7048392295837402,-10.240222930908203,7.223265647888184,1.2520527839660645,-5.72107458114624,-10.460259437561035,18.025419235229492]],\"type\":\"heatmap\",\"xaxis\":\"x\",\"yaxis\":\"y\",\"hovertemplate\":\"src: %{x}<br>dest: %{y}<br>color: %{z}<extra></extra>\"}],                        {\"template\":{\"data\":{\"histogram2dcontour\":[{\"type\":\"histogram2dcontour\",\"colorbar\":{\"outlinewidth\":0,\"ticks\":\"\"},\"colorscale\":[[0.0,\"#0d0887\"],[0.1111111111111111,\"#46039f\"],[0.2222222222222222,\"#7201a8\"],[0.3333333333333333,\"#9c179e\"],[0.4444444444444444,\"#bd3786\"],[0.5555555555555556,\"#d8576b\"],[0.6666666666666666,\"#ed7953\"],[0.7777777777777778,\"#fb9f3a\"],[0.8888888888888888,\"#fdca26\"],[1.0,\"#f0f921\"]]}],\"choropleth\":[{\"type\":\"choropleth\",\"colorbar\":{\"outlinewidth\":0,\"ticks\":\"\"}}],\"histogram2d\":[{\"type\":\"histogram2d\",\"colorbar\":{\"outlinewidth\":0,\"ticks\":\"\"},\"colorscale\":[[0.0,\"#0d0887\"],[0.1111111111111111,\"#46039f\"],[0.2222222222222222,\"#7201a8\"],[0.3333333333333333,\"#9c179e\"],[0.4444444444444444,\"#bd3786\"],[0.5555555555555556,\"#d8576b\"],[0.6666666666666666,\"#ed7953\"],[0.7777777777777778,\"#fb9f3a\"],[0.8888888888888888,\"#fdca26\"],[1.0,\"#f0f921\"]]}],\"heatmap\":[{\"type\":\"heatmap\",\"colorbar\":{\"outlinewidth\":0,\"ticks\":\"\"},\"colorscale\":[[0.0,\"#0d0887\"],[0.1111111111111111,\"#46039f\"],[0.2222222222222222,\"#7201a8\"],[0.3333333333333333,\"#9c179e\"],[0.4444444444444444,\"#bd3786\"],[0.5555555555555556,\"#d8576b\"],[0.6666666666666666,\"#ed7953\"],[0.7777777777777778,\"#fb9f3a\"],[0.8888888888888888,\"#fdca26\"],[1.0,\"#f0f921\"]]}],\"heatmapgl\":[{\"type\":\"heatmapgl\",\"colorbar\":{\"outlinewidth\":0,\"ticks\":\"\"},\"colorscale\":[[0.0,\"#0d0887\"],[0.1111111111111111,\"#46039f\"],[0.2222222222222222,\"#7201a8\"],[0.3333333333333333,\"#9c179e\"],[0.4444444444444444,\"#bd3786\"],[0.5555555555555556,\"#d8576b\"],[0.6666666666666666,\"#ed7953\"],[0.7777777777777778,\"#fb9f3a\"],[0.8888888888888888,\"#fdca26\"],[1.0,\"#f0f921\"]]}],\"contourcarpet\":[{\"type\":\"contourcarpet\",\"colorbar\":{\"outlinewidth\":0,\"ticks\":\"\"}}],\"contour\":[{\"type\":\"contour\",\"colorbar\":{\"outlinewidth\":0,\"ticks\":\"\"},\"colorscale\":[[0.0,\"#0d0887\"],[0.1111111111111111,\"#46039f\"],[0.2222222222222222,\"#7201a8\"],[0.3333333333333333,\"#9c179e\"],[0.4444444444444444,\"#bd3786\"],[0.5555555555555556,\"#d8576b\"],[0.6666666666666666,\"#ed7953\"],[0.7777777777777778,\"#fb9f3a\"],[0.8888888888888888,\"#fdca26\"],[1.0,\"#f0f921\"]]}],\"surface\":[{\"type\":\"surface\",\"colorbar\":{\"outlinewidth\":0,\"ticks\":\"\"},\"colorscale\":[[0.0,\"#0d0887\"],[0.1111111111111111,\"#46039f\"],[0.2222222222222222,\"#7201a8\"],[0.3333333333333333,\"#9c179e\"],[0.4444444444444444,\"#bd3786\"],[0.5555555555555556,\"#d8576b\"],[0.6666666666666666,\"#ed7953\"],[0.7777777777777778,\"#fb9f3a\"],[0.8888888888888888,\"#fdca26\"],[1.0,\"#f0f921\"]]}],\"mesh3d\":[{\"type\":\"mesh3d\",\"colorbar\":{\"outlinewidth\":0,\"ticks\":\"\"}}],\"scatter\":[{\"fillpattern\":{\"fillmode\":\"overlay\",\"size\":10,\"solidity\":0.2},\"type\":\"scatter\"}],\"parcoords\":[{\"type\":\"parcoords\",\"line\":{\"colorbar\":{\"outlinewidth\":0,\"ticks\":\"\"}}}],\"scatterpolargl\":[{\"type\":\"scatterpolargl\",\"marker\":{\"colorbar\":{\"outlinewidth\":0,\"ticks\":\"\"}}}],\"bar\":[{\"error_x\":{\"color\":\"#2a3f5f\"},\"error_y\":{\"color\":\"#2a3f5f\"},\"marker\":{\"line\":{\"color\":\"#E5ECF6\",\"width\":0.5},\"pattern\":{\"fillmode\":\"overlay\",\"size\":10,\"solidity\":0.2}},\"type\":\"bar\"}],\"scattergeo\":[{\"type\":\"scattergeo\",\"marker\":{\"colorbar\":{\"outlinewidth\":0,\"ticks\":\"\"}}}],\"scatterpolar\":[{\"type\":\"scatterpolar\",\"marker\":{\"colorbar\":{\"outlinewidth\":0,\"ticks\":\"\"}}}],\"histogram\":[{\"marker\":{\"pattern\":{\"fillmode\":\"overlay\",\"size\":10,\"solidity\":0.2}},\"type\":\"histogram\"}],\"scattergl\":[{\"type\":\"scattergl\",\"marker\":{\"colorbar\":{\"outlinewidth\":0,\"ticks\":\"\"}}}],\"scatter3d\":[{\"type\":\"scatter3d\",\"line\":{\"colorbar\":{\"outlinewidth\":0,\"ticks\":\"\"}},\"marker\":{\"colorbar\":{\"outlinewidth\":0,\"ticks\":\"\"}}}],\"scattermapbox\":[{\"type\":\"scattermapbox\",\"marker\":{\"colorbar\":{\"outlinewidth\":0,\"ticks\":\"\"}}}],\"scatterternary\":[{\"type\":\"scatterternary\",\"marker\":{\"colorbar\":{\"outlinewidth\":0,\"ticks\":\"\"}}}],\"scattercarpet\":[{\"type\":\"scattercarpet\",\"marker\":{\"colorbar\":{\"outlinewidth\":0,\"ticks\":\"\"}}}],\"carpet\":[{\"aaxis\":{\"endlinecolor\":\"#2a3f5f\",\"gridcolor\":\"white\",\"linecolor\":\"white\",\"minorgridcolor\":\"white\",\"startlinecolor\":\"#2a3f5f\"},\"baxis\":{\"endlinecolor\":\"#2a3f5f\",\"gridcolor\":\"white\",\"linecolor\":\"white\",\"minorgridcolor\":\"white\",\"startlinecolor\":\"#2a3f5f\"},\"type\":\"carpet\"}],\"table\":[{\"cells\":{\"fill\":{\"color\":\"#EBF0F8\"},\"line\":{\"color\":\"white\"}},\"header\":{\"fill\":{\"color\":\"#C8D4E3\"},\"line\":{\"color\":\"white\"}},\"type\":\"table\"}],\"barpolar\":[{\"marker\":{\"line\":{\"color\":\"#E5ECF6\",\"width\":0.5},\"pattern\":{\"fillmode\":\"overlay\",\"size\":10,\"solidity\":0.2}},\"type\":\"barpolar\"}],\"pie\":[{\"automargin\":true,\"type\":\"pie\"}]},\"layout\":{\"autotypenumbers\":\"strict\",\"colorway\":[\"#636efa\",\"#EF553B\",\"#00cc96\",\"#ab63fa\",\"#FFA15A\",\"#19d3f3\",\"#FF6692\",\"#B6E880\",\"#FF97FF\",\"#FECB52\"],\"font\":{\"color\":\"#2a3f5f\"},\"hovermode\":\"closest\",\"hoverlabel\":{\"align\":\"left\"},\"paper_bgcolor\":\"white\",\"plot_bgcolor\":\"#E5ECF6\",\"polar\":{\"bgcolor\":\"#E5ECF6\",\"angularaxis\":{\"gridcolor\":\"white\",\"linecolor\":\"white\",\"ticks\":\"\"},\"radialaxis\":{\"gridcolor\":\"white\",\"linecolor\":\"white\",\"ticks\":\"\"}},\"ternary\":{\"bgcolor\":\"#E5ECF6\",\"aaxis\":{\"gridcolor\":\"white\",\"linecolor\":\"white\",\"ticks\":\"\"},\"baxis\":{\"gridcolor\":\"white\",\"linecolor\":\"white\",\"ticks\":\"\"},\"caxis\":{\"gridcolor\":\"white\",\"linecolor\":\"white\",\"ticks\":\"\"}},\"coloraxis\":{\"colorbar\":{\"outlinewidth\":0,\"ticks\":\"\"}},\"colorscale\":{\"sequential\":[[0.0,\"#0d0887\"],[0.1111111111111111,\"#46039f\"],[0.2222222222222222,\"#7201a8\"],[0.3333333333333333,\"#9c179e\"],[0.4444444444444444,\"#bd3786\"],[0.5555555555555556,\"#d8576b\"],[0.6666666666666666,\"#ed7953\"],[0.7777777777777778,\"#fb9f3a\"],[0.8888888888888888,\"#fdca26\"],[1.0,\"#f0f921\"]],\"sequentialminus\":[[0.0,\"#0d0887\"],[0.1111111111111111,\"#46039f\"],[0.2222222222222222,\"#7201a8\"],[0.3333333333333333,\"#9c179e\"],[0.4444444444444444,\"#bd3786\"],[0.5555555555555556,\"#d8576b\"],[0.6666666666666666,\"#ed7953\"],[0.7777777777777778,\"#fb9f3a\"],[0.8888888888888888,\"#fdca26\"],[1.0,\"#f0f921\"]],\"diverging\":[[0,\"#8e0152\"],[0.1,\"#c51b7d\"],[0.2,\"#de77ae\"],[0.3,\"#f1b6da\"],[0.4,\"#fde0ef\"],[0.5,\"#f7f7f7\"],[0.6,\"#e6f5d0\"],[0.7,\"#b8e186\"],[0.8,\"#7fbc41\"],[0.9,\"#4d9221\"],[1,\"#276419\"]]},\"xaxis\":{\"gridcolor\":\"white\",\"linecolor\":\"white\",\"ticks\":\"\",\"title\":{\"standoff\":15},\"zerolinecolor\":\"white\",\"automargin\":true,\"zerolinewidth\":2},\"yaxis\":{\"gridcolor\":\"white\",\"linecolor\":\"white\",\"ticks\":\"\",\"title\":{\"standoff\":15},\"zerolinecolor\":\"white\",\"automargin\":true,\"zerolinewidth\":2},\"scene\":{\"xaxis\":{\"backgroundcolor\":\"#E5ECF6\",\"gridcolor\":\"white\",\"linecolor\":\"white\",\"showbackground\":true,\"ticks\":\"\",\"zerolinecolor\":\"white\",\"gridwidth\":2},\"yaxis\":{\"backgroundcolor\":\"#E5ECF6\",\"gridcolor\":\"white\",\"linecolor\":\"white\",\"showbackground\":true,\"ticks\":\"\",\"zerolinecolor\":\"white\",\"gridwidth\":2},\"zaxis\":{\"backgroundcolor\":\"#E5ECF6\",\"gridcolor\":\"white\",\"linecolor\":\"white\",\"showbackground\":true,\"ticks\":\"\",\"zerolinecolor\":\"white\",\"gridwidth\":2}},\"shapedefaults\":{\"line\":{\"color\":\"#2a3f5f\"}},\"annotationdefaults\":{\"arrowcolor\":\"#2a3f5f\",\"arrowhead\":0,\"arrowwidth\":1},\"geo\":{\"bgcolor\":\"white\",\"landcolor\":\"#E5ECF6\",\"subunitcolor\":\"white\",\"showland\":true,\"showlakes\":true,\"lakecolor\":\"white\"},\"title\":{\"x\":0.05},\"mapbox\":{\"style\":\"light\"}}},\"xaxis\":{\"anchor\":\"y\",\"domain\":[0.0,1.0],\"scaleanchor\":\"y\",\"constrain\":\"domain\",\"title\":{\"text\":\"src\"}},\"yaxis\":{\"anchor\":\"x\",\"domain\":[0.0,1.0],\"autorange\":\"reversed\",\"constrain\":\"domain\",\"title\":{\"text\":\"dest\"}},\"coloraxis\":{\"colorscale\":[[0.0,\"rgb(103,0,31)\"],[0.1,\"rgb(178,24,43)\"],[0.2,\"rgb(214,96,77)\"],[0.3,\"rgb(244,165,130)\"],[0.4,\"rgb(253,219,199)\"],[0.5,\"rgb(247,247,247)\"],[0.6,\"rgb(209,229,240)\"],[0.7,\"rgb(146,197,222)\"],[0.8,\"rgb(67,147,195)\"],[0.9,\"rgb(33,102,172)\"],[1.0,\"rgb(5,48,97)\"]],\"cmid\":0.0},\"title\":{\"text\":\"total attn scores for one example\"}},                        {\"responsive\": true}                    ).then(function(){\n",
              "                            \n",
              "var gd = document.getElementById('12492c1f-99ec-4103-8ac5-ef977a4546a9');\n",
              "var x = new MutationObserver(function (mutations, observer) {{\n",
              "        var display = window.getComputedStyle(gd).display;\n",
              "        if (!display || display === 'none') {{\n",
              "            console.log([gd, 'removed!']);\n",
              "            Plotly.purge(gd);\n",
              "            observer.disconnect();\n",
              "        }}\n",
              "}});\n",
              "\n",
              "// Listen for the removal of the full notebook cells\n",
              "var notebookContainer = gd.closest('#notebook-container');\n",
              "if (notebookContainer) {{\n",
              "    x.observe(notebookContainer, {childList: true});\n",
              "}}\n",
              "\n",
              "// Listen for the clearing of the current output cell\n",
              "var outputEl = gd.closest('.output');\n",
              "if (outputEl) {{\n",
              "    x.observe(outputEl, {childList: true});\n",
              "}}\n",
              "\n",
              "                        })                };                            </script>        </div>\n",
              "</body>\n",
              "</html>"
            ]
          },
          "metadata": {}
        }
      ]
    },
    {
      "cell_type": "markdown",
      "source": [
        "To summarize each role:\n",
        "\n",
        "* $pW_{QK}p^T$: \"attend to the tokens positions for the unsorted list, not the sorted prefix after MID\"\n",
        "\n",
        "* $pW_{QK}e^T$: \"attend to smaller numbers at earlier positions, and bigger numbers at later positions\"\n",
        "\n",
        "* $eW_{QK}e^T$: \"attend to tokens bigger than you, but ideally close in magnitude\"\n",
        "\n",
        "* $eW_{QK}p^T$: \"each token should attend uniformly to all the positions for the unsorted list\""
      ],
      "metadata": {
        "id": "RULMnDfvGfH2"
      }
    },
    {
      "cell_type": "markdown",
      "source": [
        "# Summary"
      ],
      "metadata": {
        "id": "RUfnF3gXe-Na"
      }
    },
    {
      "cell_type": "markdown",
      "source": [
        "We find that a 1L, 1 head attn only transformer with no biases or layernorms learns to sort fixed len lists with the following algorithm:\n",
        "\n",
        "\n",
        "1. Attend the most to the correct token in the unsorted list with the QK circuit.\n",
        "2. Copy the token you most attend to with the OV circuit\n",
        "\n",
        "\n",
        "The way it attends to correct numbers is a bit more complicated, and seems to combine a few different heuristics such as:\n",
        "1. attend to numbers slightly bigger than the token at the current position ($W_EW_{QK}W_E^T$)\n",
        "2. Attend to smaller numbers at earlier positions, and bigger numbers at later positions ($W_{pos}W_{QK}W_E^T$)\n",
        "3. Don't attend to tokens after the mid token ($W_{pos}W_{QK}W_{pos}^T$)\n",
        "\n",
        "\n",
        "The lines of evidence are:\n",
        "1. Attention pattern activations: We saw that the patterns attend most to the correct answers\n",
        "2. OV circuit weights: When we multiplied out the OV circuit, we could see it was clearly copying.\n",
        "3. QK circuit weights: When we multiplied out the full QK circuit, we could read off different heuristics from the weights.\n",
        "4. Decomposing attn scores: When we decomposed attn scores into 4 separate components, the activations were consistent with our interpretations of the corresponding weights.\n"
      ],
      "metadata": {
        "id": "FAmJn1UNe_fW"
      }
    },
    {
      "cell_type": "markdown",
      "source": [
        "## General Techniques you can apply to other problems"
      ],
      "metadata": {
        "id": "X6-BR2Maf0se"
      }
    },
    {
      "cell_type": "markdown",
      "source": [
        "* Staring at attn patterns\n",
        "* Multiplying out full QK / OV circuits\n",
        "* Decomposing activations into the sum of their components"
      ],
      "metadata": {
        "id": "9H3WN_z7f5fh"
      }
    }
  ]
}