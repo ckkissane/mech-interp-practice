{
  "nbformat": 4,
  "nbformat_minor": 0,
  "metadata": {
    "colab": {
      "provenance": [],
      "toc_visible": true,
      "gpuType": "T4",
      "authorship_tag": "ABX9TyNT8CsTga5m1iRW/I0QOzat"
    },
    "kernelspec": {
      "name": "python3",
      "display_name": "Python 3"
    },
    "language_info": {
      "name": "python"
    },
    "accelerator": "GPU",
    "widgets": {
      "application/vnd.jupyter.widget-state+json": {
        "2ed672c4024c40ff8b9bc20a251dcfe1": {
          "model_module": "@jupyter-widgets/controls",
          "model_name": "HBoxModel",
          "model_module_version": "1.5.0",
          "state": {
            "_dom_classes": [],
            "_model_module": "@jupyter-widgets/controls",
            "_model_module_version": "1.5.0",
            "_model_name": "HBoxModel",
            "_view_count": null,
            "_view_module": "@jupyter-widgets/controls",
            "_view_module_version": "1.5.0",
            "_view_name": "HBoxView",
            "box_style": "",
            "children": [
              "IPY_MODEL_88ff7727815a462e98911ee4dbef6fce",
              "IPY_MODEL_9c13f6bf445e46db9fffc132dcde702f",
              "IPY_MODEL_ffc66d9845b14a7c80bbadfa6138a7f8"
            ],
            "layout": "IPY_MODEL_d0862fa124824983bfc5a5a66c300c9b"
          }
        },
        "88ff7727815a462e98911ee4dbef6fce": {
          "model_module": "@jupyter-widgets/controls",
          "model_name": "HTMLModel",
          "model_module_version": "1.5.0",
          "state": {
            "_dom_classes": [],
            "_model_module": "@jupyter-widgets/controls",
            "_model_module_version": "1.5.0",
            "_model_name": "HTMLModel",
            "_view_count": null,
            "_view_module": "@jupyter-widgets/controls",
            "_view_module_version": "1.5.0",
            "_view_name": "HTMLView",
            "description": "",
            "description_tooltip": null,
            "layout": "IPY_MODEL_802ddd06370d4cfe97d25ba0153968b2",
            "placeholder": "​",
            "style": "IPY_MODEL_1374cc26261c49b9b3d617c8e146d0c3",
            "value": "100%"
          }
        },
        "9c13f6bf445e46db9fffc132dcde702f": {
          "model_module": "@jupyter-widgets/controls",
          "model_name": "FloatProgressModel",
          "model_module_version": "1.5.0",
          "state": {
            "_dom_classes": [],
            "_model_module": "@jupyter-widgets/controls",
            "_model_module_version": "1.5.0",
            "_model_name": "FloatProgressModel",
            "_view_count": null,
            "_view_module": "@jupyter-widgets/controls",
            "_view_module_version": "1.5.0",
            "_view_name": "ProgressView",
            "bar_style": "success",
            "description": "",
            "description_tooltip": null,
            "layout": "IPY_MODEL_07cd2a9c5a144f96a9d4075a894a5140",
            "max": 4000,
            "min": 0,
            "orientation": "horizontal",
            "style": "IPY_MODEL_6bb8897a81014f229db58020f8b8b8e5",
            "value": 4000
          }
        },
        "ffc66d9845b14a7c80bbadfa6138a7f8": {
          "model_module": "@jupyter-widgets/controls",
          "model_name": "HTMLModel",
          "model_module_version": "1.5.0",
          "state": {
            "_dom_classes": [],
            "_model_module": "@jupyter-widgets/controls",
            "_model_module_version": "1.5.0",
            "_model_name": "HTMLModel",
            "_view_count": null,
            "_view_module": "@jupyter-widgets/controls",
            "_view_module_version": "1.5.0",
            "_view_name": "HTMLView",
            "description": "",
            "description_tooltip": null,
            "layout": "IPY_MODEL_1f4be1a19f7b4e95944e5ecbb5f00697",
            "placeholder": "​",
            "style": "IPY_MODEL_3f51fdb0e50446838112e760b796b40e",
            "value": " 4000/4000 [00:43&lt;00:00, 105.63it/s]"
          }
        },
        "d0862fa124824983bfc5a5a66c300c9b": {
          "model_module": "@jupyter-widgets/base",
          "model_name": "LayoutModel",
          "model_module_version": "1.2.0",
          "state": {
            "_model_module": "@jupyter-widgets/base",
            "_model_module_version": "1.2.0",
            "_model_name": "LayoutModel",
            "_view_count": null,
            "_view_module": "@jupyter-widgets/base",
            "_view_module_version": "1.2.0",
            "_view_name": "LayoutView",
            "align_content": null,
            "align_items": null,
            "align_self": null,
            "border": null,
            "bottom": null,
            "display": null,
            "flex": null,
            "flex_flow": null,
            "grid_area": null,
            "grid_auto_columns": null,
            "grid_auto_flow": null,
            "grid_auto_rows": null,
            "grid_column": null,
            "grid_gap": null,
            "grid_row": null,
            "grid_template_areas": null,
            "grid_template_columns": null,
            "grid_template_rows": null,
            "height": null,
            "justify_content": null,
            "justify_items": null,
            "left": null,
            "margin": null,
            "max_height": null,
            "max_width": null,
            "min_height": null,
            "min_width": null,
            "object_fit": null,
            "object_position": null,
            "order": null,
            "overflow": null,
            "overflow_x": null,
            "overflow_y": null,
            "padding": null,
            "right": null,
            "top": null,
            "visibility": null,
            "width": null
          }
        },
        "802ddd06370d4cfe97d25ba0153968b2": {
          "model_module": "@jupyter-widgets/base",
          "model_name": "LayoutModel",
          "model_module_version": "1.2.0",
          "state": {
            "_model_module": "@jupyter-widgets/base",
            "_model_module_version": "1.2.0",
            "_model_name": "LayoutModel",
            "_view_count": null,
            "_view_module": "@jupyter-widgets/base",
            "_view_module_version": "1.2.0",
            "_view_name": "LayoutView",
            "align_content": null,
            "align_items": null,
            "align_self": null,
            "border": null,
            "bottom": null,
            "display": null,
            "flex": null,
            "flex_flow": null,
            "grid_area": null,
            "grid_auto_columns": null,
            "grid_auto_flow": null,
            "grid_auto_rows": null,
            "grid_column": null,
            "grid_gap": null,
            "grid_row": null,
            "grid_template_areas": null,
            "grid_template_columns": null,
            "grid_template_rows": null,
            "height": null,
            "justify_content": null,
            "justify_items": null,
            "left": null,
            "margin": null,
            "max_height": null,
            "max_width": null,
            "min_height": null,
            "min_width": null,
            "object_fit": null,
            "object_position": null,
            "order": null,
            "overflow": null,
            "overflow_x": null,
            "overflow_y": null,
            "padding": null,
            "right": null,
            "top": null,
            "visibility": null,
            "width": null
          }
        },
        "1374cc26261c49b9b3d617c8e146d0c3": {
          "model_module": "@jupyter-widgets/controls",
          "model_name": "DescriptionStyleModel",
          "model_module_version": "1.5.0",
          "state": {
            "_model_module": "@jupyter-widgets/controls",
            "_model_module_version": "1.5.0",
            "_model_name": "DescriptionStyleModel",
            "_view_count": null,
            "_view_module": "@jupyter-widgets/base",
            "_view_module_version": "1.2.0",
            "_view_name": "StyleView",
            "description_width": ""
          }
        },
        "07cd2a9c5a144f96a9d4075a894a5140": {
          "model_module": "@jupyter-widgets/base",
          "model_name": "LayoutModel",
          "model_module_version": "1.2.0",
          "state": {
            "_model_module": "@jupyter-widgets/base",
            "_model_module_version": "1.2.0",
            "_model_name": "LayoutModel",
            "_view_count": null,
            "_view_module": "@jupyter-widgets/base",
            "_view_module_version": "1.2.0",
            "_view_name": "LayoutView",
            "align_content": null,
            "align_items": null,
            "align_self": null,
            "border": null,
            "bottom": null,
            "display": null,
            "flex": null,
            "flex_flow": null,
            "grid_area": null,
            "grid_auto_columns": null,
            "grid_auto_flow": null,
            "grid_auto_rows": null,
            "grid_column": null,
            "grid_gap": null,
            "grid_row": null,
            "grid_template_areas": null,
            "grid_template_columns": null,
            "grid_template_rows": null,
            "height": null,
            "justify_content": null,
            "justify_items": null,
            "left": null,
            "margin": null,
            "max_height": null,
            "max_width": null,
            "min_height": null,
            "min_width": null,
            "object_fit": null,
            "object_position": null,
            "order": null,
            "overflow": null,
            "overflow_x": null,
            "overflow_y": null,
            "padding": null,
            "right": null,
            "top": null,
            "visibility": null,
            "width": null
          }
        },
        "6bb8897a81014f229db58020f8b8b8e5": {
          "model_module": "@jupyter-widgets/controls",
          "model_name": "ProgressStyleModel",
          "model_module_version": "1.5.0",
          "state": {
            "_model_module": "@jupyter-widgets/controls",
            "_model_module_version": "1.5.0",
            "_model_name": "ProgressStyleModel",
            "_view_count": null,
            "_view_module": "@jupyter-widgets/base",
            "_view_module_version": "1.2.0",
            "_view_name": "StyleView",
            "bar_color": null,
            "description_width": ""
          }
        },
        "1f4be1a19f7b4e95944e5ecbb5f00697": {
          "model_module": "@jupyter-widgets/base",
          "model_name": "LayoutModel",
          "model_module_version": "1.2.0",
          "state": {
            "_model_module": "@jupyter-widgets/base",
            "_model_module_version": "1.2.0",
            "_model_name": "LayoutModel",
            "_view_count": null,
            "_view_module": "@jupyter-widgets/base",
            "_view_module_version": "1.2.0",
            "_view_name": "LayoutView",
            "align_content": null,
            "align_items": null,
            "align_self": null,
            "border": null,
            "bottom": null,
            "display": null,
            "flex": null,
            "flex_flow": null,
            "grid_area": null,
            "grid_auto_columns": null,
            "grid_auto_flow": null,
            "grid_auto_rows": null,
            "grid_column": null,
            "grid_gap": null,
            "grid_row": null,
            "grid_template_areas": null,
            "grid_template_columns": null,
            "grid_template_rows": null,
            "height": null,
            "justify_content": null,
            "justify_items": null,
            "left": null,
            "margin": null,
            "max_height": null,
            "max_width": null,
            "min_height": null,
            "min_width": null,
            "object_fit": null,
            "object_position": null,
            "order": null,
            "overflow": null,
            "overflow_x": null,
            "overflow_y": null,
            "padding": null,
            "right": null,
            "top": null,
            "visibility": null,
            "width": null
          }
        },
        "3f51fdb0e50446838112e760b796b40e": {
          "model_module": "@jupyter-widgets/controls",
          "model_name": "DescriptionStyleModel",
          "model_module_version": "1.5.0",
          "state": {
            "_model_module": "@jupyter-widgets/controls",
            "_model_module_version": "1.5.0",
            "_model_name": "DescriptionStyleModel",
            "_view_count": null,
            "_view_module": "@jupyter-widgets/base",
            "_view_module_version": "1.2.0",
            "_view_name": "StyleView",
            "description_width": ""
          }
        }
      }
    }
  },
  "cells": [
    {
      "cell_type": "markdown",
      "source": [
        "# Problem"
      ],
      "metadata": {
        "id": "PMeMP28yOQkT"
      }
    },
    {
      "cell_type": "markdown",
      "source": [
        "Interpret a toy model trained to permute lists."
      ],
      "metadata": {
        "id": "NCx8qhgSORri"
      }
    },
    {
      "cell_type": "markdown",
      "metadata": {
        "id": "JeENCT8b1kAv"
      },
      "source": [
        "# Setup\n",
        "(No need to read)"
      ]
    },
    {
      "cell_type": "code",
      "execution_count": 70,
      "metadata": {
        "id": "sxK_xiOO1kAv",
        "outputId": "52126729-578a-4d8f-97e7-ebe96461c48c",
        "colab": {
          "base_uri": "https://localhost:8080/",
          "height": 0
        }
      },
      "outputs": [
        {
          "output_type": "stream",
          "name": "stdout",
          "text": [
            "Running as a Colab notebook\n",
            "Looking in indexes: https://pypi.org/simple, https://us-python.pkg.dev/colab-wheels/public/simple/\n",
            "Collecting git+https://github.com/neelnanda-io/TransformerLens.git\n",
            "  Cloning https://github.com/neelnanda-io/TransformerLens.git to /tmp/pip-req-build-rkgcytf4\n",
            "  Running command git clone --filter=blob:none --quiet https://github.com/neelnanda-io/TransformerLens.git /tmp/pip-req-build-rkgcytf4\n",
            "  Resolved https://github.com/neelnanda-io/TransformerLens.git to commit 6983358b24c933e8787be8ffd3f518d0374fdd09\n",
            "  Installing build dependencies ... \u001b[?25l\u001b[?25hdone\n",
            "  Getting requirements to build wheel ... \u001b[?25l\u001b[?25hdone\n",
            "  Preparing metadata (pyproject.toml) ... \u001b[?25l\u001b[?25hdone\n",
            "Requirement already satisfied: datasets>=2.7.1 in /usr/local/lib/python3.10/dist-packages (from transformer-lens==0.0.0) (2.12.0)\n",
            "Requirement already satisfied: einops>=0.6.0 in /usr/local/lib/python3.10/dist-packages (from transformer-lens==0.0.0) (0.6.1)\n",
            "Requirement already satisfied: fancy-einsum>=0.0.3 in /usr/local/lib/python3.10/dist-packages (from transformer-lens==0.0.0) (0.0.3)\n",
            "Requirement already satisfied: jaxtyping>=0.2.11 in /usr/local/lib/python3.10/dist-packages (from transformer-lens==0.0.0) (0.2.20)\n",
            "Requirement already satisfied: numpy>=1.23 in /usr/local/lib/python3.10/dist-packages (from transformer-lens==0.0.0) (1.24.3)\n",
            "Requirement already satisfied: pandas>=1.1.5 in /usr/local/lib/python3.10/dist-packages (from transformer-lens==0.0.0) (1.5.3)\n",
            "Requirement already satisfied: rich>=12.6.0 in /usr/local/lib/python3.10/dist-packages (from transformer-lens==0.0.0) (13.3.4)\n",
            "Requirement already satisfied: torch>=1.10 in /usr/local/lib/python3.10/dist-packages (from transformer-lens==0.0.0) (2.0.1+cu118)\n",
            "Requirement already satisfied: tqdm>=4.64.1 in /usr/local/lib/python3.10/dist-packages (from transformer-lens==0.0.0) (4.65.0)\n",
            "Requirement already satisfied: transformers>=4.25.1 in /usr/local/lib/python3.10/dist-packages (from transformer-lens==0.0.0) (4.30.1)\n",
            "Collecting typeguard<4.0.0,>=3.0.2 (from transformer-lens==0.0.0)\n",
            "  Using cached typeguard-3.0.2-py3-none-any.whl (30 kB)\n",
            "Requirement already satisfied: wandb>=0.13.5 in /usr/local/lib/python3.10/dist-packages (from transformer-lens==0.0.0) (0.15.4)\n",
            "Requirement already satisfied: pyarrow>=8.0.0 in /usr/local/lib/python3.10/dist-packages (from datasets>=2.7.1->transformer-lens==0.0.0) (9.0.0)\n",
            "Requirement already satisfied: dill<0.3.7,>=0.3.0 in /usr/local/lib/python3.10/dist-packages (from datasets>=2.7.1->transformer-lens==0.0.0) (0.3.6)\n",
            "Requirement already satisfied: requests>=2.19.0 in /usr/local/lib/python3.10/dist-packages (from datasets>=2.7.1->transformer-lens==0.0.0) (2.27.1)\n",
            "Requirement already satisfied: xxhash in /usr/local/lib/python3.10/dist-packages (from datasets>=2.7.1->transformer-lens==0.0.0) (3.2.0)\n",
            "Requirement already satisfied: multiprocess in /usr/local/lib/python3.10/dist-packages (from datasets>=2.7.1->transformer-lens==0.0.0) (0.70.14)\n",
            "Requirement already satisfied: fsspec[http]>=2021.11.1 in /usr/local/lib/python3.10/dist-packages (from datasets>=2.7.1->transformer-lens==0.0.0) (2023.4.0)\n",
            "Requirement already satisfied: aiohttp in /usr/local/lib/python3.10/dist-packages (from datasets>=2.7.1->transformer-lens==0.0.0) (3.8.4)\n",
            "Requirement already satisfied: huggingface-hub<1.0.0,>=0.11.0 in /usr/local/lib/python3.10/dist-packages (from datasets>=2.7.1->transformer-lens==0.0.0) (0.15.1)\n",
            "Requirement already satisfied: packaging in /usr/local/lib/python3.10/dist-packages (from datasets>=2.7.1->transformer-lens==0.0.0) (23.1)\n",
            "Requirement already satisfied: responses<0.19 in /usr/local/lib/python3.10/dist-packages (from datasets>=2.7.1->transformer-lens==0.0.0) (0.18.0)\n",
            "Requirement already satisfied: pyyaml>=5.1 in /usr/local/lib/python3.10/dist-packages (from datasets>=2.7.1->transformer-lens==0.0.0) (6.0)\n",
            "Requirement already satisfied: typing-extensions>=3.7.4.1 in /usr/local/lib/python3.10/dist-packages (from jaxtyping>=0.2.11->transformer-lens==0.0.0) (4.5.0)\n",
            "Requirement already satisfied: python-dateutil>=2.8.1 in /usr/local/lib/python3.10/dist-packages (from pandas>=1.1.5->transformer-lens==0.0.0) (2.8.2)\n",
            "Requirement already satisfied: pytz>=2020.1 in /usr/local/lib/python3.10/dist-packages (from pandas>=1.1.5->transformer-lens==0.0.0) (2022.7.1)\n",
            "Requirement already satisfied: markdown-it-py<3.0.0,>=2.2.0 in /usr/local/lib/python3.10/dist-packages (from rich>=12.6.0->transformer-lens==0.0.0) (2.2.0)\n",
            "Requirement already satisfied: pygments<3.0.0,>=2.13.0 in /usr/local/lib/python3.10/dist-packages (from rich>=12.6.0->transformer-lens==0.0.0) (2.14.0)\n",
            "Requirement already satisfied: filelock in /usr/local/lib/python3.10/dist-packages (from torch>=1.10->transformer-lens==0.0.0) (3.12.0)\n",
            "Requirement already satisfied: sympy in /usr/local/lib/python3.10/dist-packages (from torch>=1.10->transformer-lens==0.0.0) (1.11.1)\n",
            "Requirement already satisfied: networkx in /usr/local/lib/python3.10/dist-packages (from torch>=1.10->transformer-lens==0.0.0) (3.1)\n",
            "Requirement already satisfied: jinja2 in /usr/local/lib/python3.10/dist-packages (from torch>=1.10->transformer-lens==0.0.0) (3.1.2)\n",
            "Requirement already satisfied: triton==2.0.0 in /usr/local/lib/python3.10/dist-packages (from torch>=1.10->transformer-lens==0.0.0) (2.0.0)\n",
            "Requirement already satisfied: cmake in /usr/local/lib/python3.10/dist-packages (from triton==2.0.0->torch>=1.10->transformer-lens==0.0.0) (3.25.2)\n",
            "Requirement already satisfied: lit in /usr/local/lib/python3.10/dist-packages (from triton==2.0.0->torch>=1.10->transformer-lens==0.0.0) (16.0.5)\n",
            "Requirement already satisfied: regex!=2019.12.17 in /usr/local/lib/python3.10/dist-packages (from transformers>=4.25.1->transformer-lens==0.0.0) (2022.10.31)\n",
            "Requirement already satisfied: tokenizers!=0.11.3,<0.14,>=0.11.1 in /usr/local/lib/python3.10/dist-packages (from transformers>=4.25.1->transformer-lens==0.0.0) (0.13.3)\n",
            "Requirement already satisfied: safetensors>=0.3.1 in /usr/local/lib/python3.10/dist-packages (from transformers>=4.25.1->transformer-lens==0.0.0) (0.3.1)\n",
            "Requirement already satisfied: Click!=8.0.0,>=7.0 in /usr/local/lib/python3.10/dist-packages (from wandb>=0.13.5->transformer-lens==0.0.0) (8.1.3)\n",
            "Requirement already satisfied: GitPython!=3.1.29,>=1.0.0 in /usr/local/lib/python3.10/dist-packages (from wandb>=0.13.5->transformer-lens==0.0.0) (3.1.31)\n",
            "Requirement already satisfied: psutil>=5.0.0 in /usr/local/lib/python3.10/dist-packages (from wandb>=0.13.5->transformer-lens==0.0.0) (5.9.5)\n",
            "Requirement already satisfied: sentry-sdk>=1.0.0 in /usr/local/lib/python3.10/dist-packages (from wandb>=0.13.5->transformer-lens==0.0.0) (1.25.1)\n",
            "Requirement already satisfied: docker-pycreds>=0.4.0 in /usr/local/lib/python3.10/dist-packages (from wandb>=0.13.5->transformer-lens==0.0.0) (0.4.0)\n",
            "Requirement already satisfied: pathtools in /usr/local/lib/python3.10/dist-packages (from wandb>=0.13.5->transformer-lens==0.0.0) (0.1.2)\n",
            "Requirement already satisfied: setproctitle in /usr/local/lib/python3.10/dist-packages (from wandb>=0.13.5->transformer-lens==0.0.0) (1.3.2)\n",
            "Requirement already satisfied: setuptools in /usr/local/lib/python3.10/dist-packages (from wandb>=0.13.5->transformer-lens==0.0.0) (67.7.2)\n",
            "Requirement already satisfied: appdirs>=1.4.3 in /usr/local/lib/python3.10/dist-packages (from wandb>=0.13.5->transformer-lens==0.0.0) (1.4.4)\n",
            "Requirement already satisfied: protobuf!=4.21.0,<5,>=3.19.0 in /usr/local/lib/python3.10/dist-packages (from wandb>=0.13.5->transformer-lens==0.0.0) (3.20.3)\n",
            "Requirement already satisfied: six>=1.4.0 in /usr/local/lib/python3.10/dist-packages (from docker-pycreds>=0.4.0->wandb>=0.13.5->transformer-lens==0.0.0) (1.16.0)\n",
            "Requirement already satisfied: attrs>=17.3.0 in /usr/local/lib/python3.10/dist-packages (from aiohttp->datasets>=2.7.1->transformer-lens==0.0.0) (23.1.0)\n",
            "Requirement already satisfied: charset-normalizer<4.0,>=2.0 in /usr/local/lib/python3.10/dist-packages (from aiohttp->datasets>=2.7.1->transformer-lens==0.0.0) (2.0.12)\n",
            "Requirement already satisfied: multidict<7.0,>=4.5 in /usr/local/lib/python3.10/dist-packages (from aiohttp->datasets>=2.7.1->transformer-lens==0.0.0) (6.0.4)\n",
            "Requirement already satisfied: async-timeout<5.0,>=4.0.0a3 in /usr/local/lib/python3.10/dist-packages (from aiohttp->datasets>=2.7.1->transformer-lens==0.0.0) (4.0.2)\n",
            "Requirement already satisfied: yarl<2.0,>=1.0 in /usr/local/lib/python3.10/dist-packages (from aiohttp->datasets>=2.7.1->transformer-lens==0.0.0) (1.9.2)\n",
            "Requirement already satisfied: frozenlist>=1.1.1 in /usr/local/lib/python3.10/dist-packages (from aiohttp->datasets>=2.7.1->transformer-lens==0.0.0) (1.3.3)\n",
            "Requirement already satisfied: aiosignal>=1.1.2 in /usr/local/lib/python3.10/dist-packages (from aiohttp->datasets>=2.7.1->transformer-lens==0.0.0) (1.3.1)\n",
            "Requirement already satisfied: gitdb<5,>=4.0.1 in /usr/local/lib/python3.10/dist-packages (from GitPython!=3.1.29,>=1.0.0->wandb>=0.13.5->transformer-lens==0.0.0) (4.0.10)\n",
            "Requirement already satisfied: mdurl~=0.1 in /usr/local/lib/python3.10/dist-packages (from markdown-it-py<3.0.0,>=2.2.0->rich>=12.6.0->transformer-lens==0.0.0) (0.1.2)\n",
            "Requirement already satisfied: urllib3<1.27,>=1.21.1 in /usr/local/lib/python3.10/dist-packages (from requests>=2.19.0->datasets>=2.7.1->transformer-lens==0.0.0) (1.26.15)\n",
            "Requirement already satisfied: certifi>=2017.4.17 in /usr/local/lib/python3.10/dist-packages (from requests>=2.19.0->datasets>=2.7.1->transformer-lens==0.0.0) (2022.12.7)\n",
            "Requirement already satisfied: idna<4,>=2.5 in /usr/local/lib/python3.10/dist-packages (from requests>=2.19.0->datasets>=2.7.1->transformer-lens==0.0.0) (3.4)\n",
            "Requirement already satisfied: MarkupSafe>=2.0 in /usr/local/lib/python3.10/dist-packages (from jinja2->torch>=1.10->transformer-lens==0.0.0) (2.1.2)\n",
            "Requirement already satisfied: mpmath>=0.19 in /usr/local/lib/python3.10/dist-packages (from sympy->torch>=1.10->transformer-lens==0.0.0) (1.3.0)\n",
            "Requirement already satisfied: smmap<6,>=3.0.1 in /usr/local/lib/python3.10/dist-packages (from gitdb<5,>=4.0.1->GitPython!=3.1.29,>=1.0.0->wandb>=0.13.5->transformer-lens==0.0.0) (5.0.0)\n",
            "Installing collected packages: typeguard\n",
            "  Attempting uninstall: typeguard\n",
            "    Found existing installation: typeguard 2.13.3\n",
            "    Uninstalling typeguard-2.13.3:\n",
            "      Successfully uninstalled typeguard-2.13.3\n",
            "\u001b[31mERROR: pip's dependency resolver does not currently take into account all the packages that are installed. This behaviour is the source of the following dependency conflicts.\n",
            "pysvelte 1.0.0 requires typeguard~=2.0, but you have typeguard 3.0.2 which is incompatible.\u001b[0m\u001b[31m\n",
            "\u001b[0mSuccessfully installed typeguard-3.0.2\n"
          ]
        },
        {
          "output_type": "display_data",
          "data": {
            "application/vnd.colab-display-data+json": {
              "pip_warning": {
                "packages": [
                  "typeguard"
                ]
              }
            }
          },
          "metadata": {}
        },
        {
          "output_type": "stream",
          "name": "stdout",
          "text": [
            "\n",
            "## Installing the NodeSource Node.js 16.x repo...\n",
            "\n",
            "\n",
            "## Populating apt-get cache...\n",
            "\n",
            "+ apt-get update\n",
            "\r0% [Working]\r            \rHit:1 http://ppa.launchpad.net/c2d4u.team/c2d4u4.0+/ubuntu focal InRelease\n",
            "\r0% [Connecting to archive.ubuntu.com (185.125.190.39)] [Waiting for headers] [C\r                                                                               \rHit:2 http://archive.ubuntu.com/ubuntu focal InRelease\n",
            "\r                                                                               \rGet:3 http://archive.ubuntu.com/ubuntu focal-updates InRelease [114 kB]\n",
            "\r                                                                               \rGet:4 http://security.ubuntu.com/ubuntu focal-security InRelease [114 kB]\n",
            "\r                                                                               \rHit:5 http://ppa.launchpad.net/cran/libgit2/ubuntu focal InRelease\n",
            "\r0% [3 InRelease 15.6 kB/114 kB 14%] [4 InRelease 83.7 kB/114 kB 74%] [Waiting f\r                                                                               \rHit:6 https://cloud.r-project.org/bin/linux/ubuntu focal-cran40/ InRelease\n",
            "\r0% [3 InRelease 15.6 kB/114 kB 14%] [4 InRelease 83.7 kB/114 kB 74%] [Waiting f\r0% [3 InRelease 27.2 kB/114 kB 24%] [Waiting for headers] [Waiting for headers]\r                                                                               \rHit:7 http://ppa.launchpad.net/deadsnakes/ppa/ubuntu focal InRelease\n",
            "\r0% [3 InRelease 27.2 kB/114 kB 24%] [Waiting for headers] [Waiting for headers]\r                                                                               \rHit:8 https://deb.nodesource.com/node_16.x focal InRelease\n",
            "\r0% [3 InRelease 47.5 kB/114 kB 42%] [Connecting to ppa.launchpad.net (185.125.1\r                                                                               \r0% [Waiting for headers] [Waiting for headers]\r                                              \rHit:9 http://ppa.launchpad.net/graphics-drivers/ppa/ubuntu focal InRelease\n",
            "\r0% [Waiting for headers] [Connecting to ppa.launchpad.net (185.125.190.52)] [Wa\r                                                                               \rGet:10 http://archive.ubuntu.com/ubuntu focal-backports InRelease [108 kB]\n",
            "\r0% [10 InRelease 0 B/108 kB 0%] [Connecting to ppa.launchpad.net (185.125.190.5\r                                                                               \r0% [Waiting for headers] [Waiting for headers]\r                                              \rHit:11 https://developer.download.nvidia.com/compute/cuda/repos/ubuntu2004/x86_64  InRelease\n",
            "Hit:12 http://ppa.launchpad.net/ubuntugis/ppa/ubuntu focal InRelease\n",
            "Get:13 http://security.ubuntu.com/ubuntu focal-security/universe amd64 Packages [1,058 kB]\n",
            "Get:14 http://archive.ubuntu.com/ubuntu focal-updates/universe amd64 Packages [1,355 kB]\n",
            "Fetched 2,750 kB in 2s (1,746 kB/s)\n",
            "Reading package lists... Done\n",
            "\n",
            "## Confirming \"focal\" is supported...\n",
            "\n",
            "+ curl -sLf -o /dev/null 'https://deb.nodesource.com/node_16.x/dists/focal/Release'\n",
            "\n",
            "## Adding the NodeSource signing key to your keyring...\n",
            "\n",
            "+ curl -s https://deb.nodesource.com/gpgkey/nodesource.gpg.key | gpg --dearmor | tee /usr/share/keyrings/nodesource.gpg >/dev/null\n",
            "\n",
            "## Creating apt sources list file for the NodeSource Node.js 16.x repo...\n",
            "\n",
            "+ echo 'deb [signed-by=/usr/share/keyrings/nodesource.gpg] https://deb.nodesource.com/node_16.x focal main' > /etc/apt/sources.list.d/nodesource.list\n",
            "+ echo 'deb-src [signed-by=/usr/share/keyrings/nodesource.gpg] https://deb.nodesource.com/node_16.x focal main' >> /etc/apt/sources.list.d/nodesource.list\n",
            "\n",
            "## Running `apt-get update` for you...\n",
            "\n",
            "+ apt-get update\n",
            "Hit:1 http://archive.ubuntu.com/ubuntu focal InRelease\n",
            "Hit:2 http://archive.ubuntu.com/ubuntu focal-updates InRelease\n",
            "Hit:3 http://security.ubuntu.com/ubuntu focal-security InRelease\n",
            "Hit:4 http://ppa.launchpad.net/c2d4u.team/c2d4u4.0+/ubuntu focal InRelease\n",
            "Hit:5 https://cloud.r-project.org/bin/linux/ubuntu focal-cran40/ InRelease\n",
            "Get:6 http://archive.ubuntu.com/ubuntu focal-backports InRelease [108 kB]\n",
            "Hit:7 http://ppa.launchpad.net/cran/libgit2/ubuntu focal InRelease\n",
            "Hit:8 http://ppa.launchpad.net/deadsnakes/ppa/ubuntu focal InRelease\n",
            "Hit:9 https://deb.nodesource.com/node_16.x focal InRelease\n",
            "Hit:10 https://developer.download.nvidia.com/compute/cuda/repos/ubuntu2004/x86_64  InRelease\n",
            "Hit:11 http://ppa.launchpad.net/graphics-drivers/ppa/ubuntu focal InRelease\n",
            "Hit:12 http://ppa.launchpad.net/ubuntugis/ppa/ubuntu focal InRelease\n",
            "Fetched 108 kB in 1s (106 kB/s)\n",
            "Reading package lists... Done\n",
            "\n",
            "## Run `\u001b[1msudo apt-get install -y nodejs\u001b[m` to install Node.js 16.x and npm\n",
            "## You may also need development tools to build native addons:\n",
            "     sudo apt-get install gcc g++ make\n",
            "## To install the Yarn package manager, run:\n",
            "     curl -sL https://dl.yarnpkg.com/debian/pubkey.gpg | gpg --dearmor | sudo tee /usr/share/keyrings/yarnkey.gpg >/dev/null\n",
            "     echo \"deb [signed-by=/usr/share/keyrings/yarnkey.gpg] https://dl.yarnpkg.com/debian stable main\" | sudo tee /etc/apt/sources.list.d/yarn.list\n",
            "     sudo apt-get update && sudo apt-get install yarn\n",
            "\n",
            "\n",
            "Reading package lists... Done\n",
            "Building dependency tree       \n",
            "Reading state information... Done\n",
            "nodejs is already the newest version (16.20.0-deb-1nodesource1).\n",
            "0 upgraded, 0 newly installed, 0 to remove and 53 not upgraded.\n",
            "Looking in indexes: https://pypi.org/simple, https://us-python.pkg.dev/colab-wheels/public/simple/\n",
            "Collecting git+https://github.com/neelnanda-io/PySvelte.git\n",
            "  Cloning https://github.com/neelnanda-io/PySvelte.git to /tmp/pip-req-build-irc0spd1\n",
            "  Running command git clone --filter=blob:none --quiet https://github.com/neelnanda-io/PySvelte.git /tmp/pip-req-build-irc0spd1\n",
            "  Resolved https://github.com/neelnanda-io/PySvelte.git to commit 6f5d971a148d40fb7481d400ae74551b37340e83\n",
            "  Preparing metadata (setup.py) ... \u001b[?25l\u001b[?25hdone\n",
            "Requirement already satisfied: einops in /usr/local/lib/python3.10/dist-packages (from PySvelte==1.0.0) (0.6.1)\n",
            "Requirement already satisfied: numpy in /usr/local/lib/python3.10/dist-packages (from PySvelte==1.0.0) (1.24.3)\n",
            "Requirement already satisfied: torch in /usr/local/lib/python3.10/dist-packages (from PySvelte==1.0.0) (2.0.1+cu118)\n",
            "Requirement already satisfied: datasets in /usr/local/lib/python3.10/dist-packages (from PySvelte==1.0.0) (2.12.0)\n",
            "Requirement already satisfied: transformers in /usr/local/lib/python3.10/dist-packages (from PySvelte==1.0.0) (4.30.1)\n",
            "Requirement already satisfied: tqdm in /usr/local/lib/python3.10/dist-packages (from PySvelte==1.0.0) (4.65.0)\n",
            "Requirement already satisfied: pandas in /usr/local/lib/python3.10/dist-packages (from PySvelte==1.0.0) (1.5.3)\n",
            "Collecting typeguard~=2.0 (from PySvelte==1.0.0)\n",
            "  Using cached typeguard-2.13.3-py3-none-any.whl (17 kB)\n",
            "Requirement already satisfied: pyarrow>=8.0.0 in /usr/local/lib/python3.10/dist-packages (from datasets->PySvelte==1.0.0) (9.0.0)\n",
            "Requirement already satisfied: dill<0.3.7,>=0.3.0 in /usr/local/lib/python3.10/dist-packages (from datasets->PySvelte==1.0.0) (0.3.6)\n",
            "Requirement already satisfied: requests>=2.19.0 in /usr/local/lib/python3.10/dist-packages (from datasets->PySvelte==1.0.0) (2.27.1)\n",
            "Requirement already satisfied: xxhash in /usr/local/lib/python3.10/dist-packages (from datasets->PySvelte==1.0.0) (3.2.0)\n",
            "Requirement already satisfied: multiprocess in /usr/local/lib/python3.10/dist-packages (from datasets->PySvelte==1.0.0) (0.70.14)\n",
            "Requirement already satisfied: fsspec[http]>=2021.11.1 in /usr/local/lib/python3.10/dist-packages (from datasets->PySvelte==1.0.0) (2023.4.0)\n",
            "Requirement already satisfied: aiohttp in /usr/local/lib/python3.10/dist-packages (from datasets->PySvelte==1.0.0) (3.8.4)\n",
            "Requirement already satisfied: huggingface-hub<1.0.0,>=0.11.0 in /usr/local/lib/python3.10/dist-packages (from datasets->PySvelte==1.0.0) (0.15.1)\n",
            "Requirement already satisfied: packaging in /usr/local/lib/python3.10/dist-packages (from datasets->PySvelte==1.0.0) (23.1)\n",
            "Requirement already satisfied: responses<0.19 in /usr/local/lib/python3.10/dist-packages (from datasets->PySvelte==1.0.0) (0.18.0)\n",
            "Requirement already satisfied: pyyaml>=5.1 in /usr/local/lib/python3.10/dist-packages (from datasets->PySvelte==1.0.0) (6.0)\n",
            "Requirement already satisfied: python-dateutil>=2.8.1 in /usr/local/lib/python3.10/dist-packages (from pandas->PySvelte==1.0.0) (2.8.2)\n",
            "Requirement already satisfied: pytz>=2020.1 in /usr/local/lib/python3.10/dist-packages (from pandas->PySvelte==1.0.0) (2022.7.1)\n",
            "Requirement already satisfied: filelock in /usr/local/lib/python3.10/dist-packages (from torch->PySvelte==1.0.0) (3.12.0)\n",
            "Requirement already satisfied: typing-extensions in /usr/local/lib/python3.10/dist-packages (from torch->PySvelte==1.0.0) (4.5.0)\n",
            "Requirement already satisfied: sympy in /usr/local/lib/python3.10/dist-packages (from torch->PySvelte==1.0.0) (1.11.1)\n",
            "Requirement already satisfied: networkx in /usr/local/lib/python3.10/dist-packages (from torch->PySvelte==1.0.0) (3.1)\n",
            "Requirement already satisfied: jinja2 in /usr/local/lib/python3.10/dist-packages (from torch->PySvelte==1.0.0) (3.1.2)\n",
            "Requirement already satisfied: triton==2.0.0 in /usr/local/lib/python3.10/dist-packages (from torch->PySvelte==1.0.0) (2.0.0)\n",
            "Requirement already satisfied: cmake in /usr/local/lib/python3.10/dist-packages (from triton==2.0.0->torch->PySvelte==1.0.0) (3.25.2)\n",
            "Requirement already satisfied: lit in /usr/local/lib/python3.10/dist-packages (from triton==2.0.0->torch->PySvelte==1.0.0) (16.0.5)\n",
            "Requirement already satisfied: regex!=2019.12.17 in /usr/local/lib/python3.10/dist-packages (from transformers->PySvelte==1.0.0) (2022.10.31)\n",
            "Requirement already satisfied: tokenizers!=0.11.3,<0.14,>=0.11.1 in /usr/local/lib/python3.10/dist-packages (from transformers->PySvelte==1.0.0) (0.13.3)\n",
            "Requirement already satisfied: safetensors>=0.3.1 in /usr/local/lib/python3.10/dist-packages (from transformers->PySvelte==1.0.0) (0.3.1)\n",
            "Requirement already satisfied: attrs>=17.3.0 in /usr/local/lib/python3.10/dist-packages (from aiohttp->datasets->PySvelte==1.0.0) (23.1.0)\n",
            "Requirement already satisfied: charset-normalizer<4.0,>=2.0 in /usr/local/lib/python3.10/dist-packages (from aiohttp->datasets->PySvelte==1.0.0) (2.0.12)\n",
            "Requirement already satisfied: multidict<7.0,>=4.5 in /usr/local/lib/python3.10/dist-packages (from aiohttp->datasets->PySvelte==1.0.0) (6.0.4)\n",
            "Requirement already satisfied: async-timeout<5.0,>=4.0.0a3 in /usr/local/lib/python3.10/dist-packages (from aiohttp->datasets->PySvelte==1.0.0) (4.0.2)\n",
            "Requirement already satisfied: yarl<2.0,>=1.0 in /usr/local/lib/python3.10/dist-packages (from aiohttp->datasets->PySvelte==1.0.0) (1.9.2)\n",
            "Requirement already satisfied: frozenlist>=1.1.1 in /usr/local/lib/python3.10/dist-packages (from aiohttp->datasets->PySvelte==1.0.0) (1.3.3)\n",
            "Requirement already satisfied: aiosignal>=1.1.2 in /usr/local/lib/python3.10/dist-packages (from aiohttp->datasets->PySvelte==1.0.0) (1.3.1)\n",
            "Requirement already satisfied: six>=1.5 in /usr/local/lib/python3.10/dist-packages (from python-dateutil>=2.8.1->pandas->PySvelte==1.0.0) (1.16.0)\n",
            "Requirement already satisfied: urllib3<1.27,>=1.21.1 in /usr/local/lib/python3.10/dist-packages (from requests>=2.19.0->datasets->PySvelte==1.0.0) (1.26.15)\n",
            "Requirement already satisfied: certifi>=2017.4.17 in /usr/local/lib/python3.10/dist-packages (from requests>=2.19.0->datasets->PySvelte==1.0.0) (2022.12.7)\n",
            "Requirement already satisfied: idna<4,>=2.5 in /usr/local/lib/python3.10/dist-packages (from requests>=2.19.0->datasets->PySvelte==1.0.0) (3.4)\n",
            "Requirement already satisfied: MarkupSafe>=2.0 in /usr/local/lib/python3.10/dist-packages (from jinja2->torch->PySvelte==1.0.0) (2.1.2)\n",
            "Requirement already satisfied: mpmath>=0.19 in /usr/local/lib/python3.10/dist-packages (from sympy->torch->PySvelte==1.0.0) (1.3.0)\n",
            "Installing collected packages: typeguard\n",
            "  Attempting uninstall: typeguard\n",
            "    Found existing installation: typeguard 3.0.2\n",
            "    Uninstalling typeguard-3.0.2:\n",
            "      Successfully uninstalled typeguard-3.0.2\n",
            "\u001b[31mERROR: pip's dependency resolver does not currently take into account all the packages that are installed. This behaviour is the source of the following dependency conflicts.\n",
            "transformer-lens 0.0.0 requires typeguard<4.0.0,>=3.0.2, but you have typeguard 2.13.3 which is incompatible.\u001b[0m\u001b[31m\n",
            "\u001b[0mSuccessfully installed typeguard-2.13.3\n"
          ]
        },
        {
          "output_type": "display_data",
          "data": {
            "application/vnd.colab-display-data+json": {
              "pip_warning": {
                "packages": [
                  "typeguard"
                ]
              }
            }
          },
          "metadata": {}
        },
        {
          "output_type": "stream",
          "name": "stdout",
          "text": [
            "Looking in indexes: https://pypi.org/simple, https://us-python.pkg.dev/colab-wheels/public/simple/\n",
            "Requirement already satisfied: typeguard==2.13.3 in /usr/local/lib/python3.10/dist-packages (2.13.3)\n"
          ]
        }
      ],
      "source": [
        "# Janky code to do different setup when run in a Colab notebook vs VSCode\n",
        "DEBUG_MODE = False\n",
        "try:\n",
        "    import google.colab\n",
        "    IN_COLAB = True\n",
        "    print(\"Running as a Colab notebook\")\n",
        "    %pip install git+https://github.com/neelnanda-io/TransformerLens.git\n",
        "    # Install another version of node that makes PySvelte work way faster\n",
        "    !curl -fsSL https://deb.nodesource.com/setup_16.x | sudo -E bash -; sudo apt-get install -y nodejs\n",
        "    %pip install git+https://github.com/neelnanda-io/PySvelte.git\n",
        "    # Needed for PySvelte to work, v3 came out and broke things...\n",
        "    %pip install typeguard==2.13.3\n",
        "except:\n",
        "    IN_COLAB = False\n",
        "    print(\"Running as a Jupyter notebook - intended for development only!\")\n",
        "    from IPython import get_ipython\n",
        "\n",
        "    ipython = get_ipython()\n",
        "    # Code to automatically update the HookedTransformer code as its edited without restarting the kernel\n",
        "    ipython.magic(\"load_ext autoreload\")\n",
        "    ipython.magic(\"autoreload 2\")"
      ]
    },
    {
      "cell_type": "code",
      "execution_count": 71,
      "metadata": {
        "id": "ucSutS0c1kAw"
      },
      "outputs": [],
      "source": [
        "# Plotly needs a different renderer for VSCode/Notebooks vs Colab argh\n",
        "import plotly.io as pio\n",
        "\n",
        "if IN_COLAB or not DEBUG_MODE:\n",
        "    # Thanks to annoying rendering issues, Plotly graphics will either show up in colab OR Vscode depending on the renderer - this is bad for developing demos! Thus creating a debug mode.\n",
        "    pio.renderers.default = \"colab\"\n",
        "else:\n",
        "    pio.renderers.default = \"png\""
      ]
    },
    {
      "cell_type": "code",
      "execution_count": 72,
      "metadata": {
        "id": "uR_n0Mrl1kAx"
      },
      "outputs": [],
      "source": [
        "# Import stuff\n",
        "import torch\n",
        "import torch.nn as nn\n",
        "import torch.nn.functional as F\n",
        "import torch.optim as optim\n",
        "import numpy as np\n",
        "import einops\n",
        "import tqdm.notebook as tqdm\n",
        "import random\n",
        "from pathlib import Path\n",
        "import plotly.express as px\n",
        "from torch.utils.data import DataLoader\n",
        "\n",
        "from jaxtyping import Float, Int\n",
        "from typing import List, Union, Optional\n",
        "from functools import partial\n",
        "import copy\n",
        "\n",
        "import itertools\n",
        "from transformers import AutoModelForCausalLM, AutoConfig, AutoTokenizer\n",
        "import dataclasses\n",
        "from dataclasses import dataclass\n",
        "import datasets\n",
        "from IPython.display import HTML"
      ]
    },
    {
      "cell_type": "code",
      "execution_count": 73,
      "metadata": {
        "id": "YSZhMtBl1kAx"
      },
      "outputs": [],
      "source": [
        "import pysvelte\n",
        "\n",
        "import transformer_lens\n",
        "import transformer_lens.utils as utils\n",
        "from transformer_lens.hook_points import (\n",
        "    HookedRootModule,\n",
        "    HookPoint,\n",
        ")  # Hooking utilities\n",
        "from transformer_lens import HookedTransformer, HookedTransformerConfig, FactoredMatrix, ActivationCache"
      ]
    },
    {
      "cell_type": "markdown",
      "metadata": {
        "id": "DPzBb_kI1kAy"
      },
      "source": [
        "Plotting helper functions:"
      ]
    },
    {
      "cell_type": "code",
      "execution_count": 74,
      "metadata": {
        "id": "fBIDNqzV1kAy"
      },
      "outputs": [],
      "source": [
        "import plotly.graph_objects as go\n",
        "\n",
        "update_layout_set = {\"xaxis_range\", \"yaxis_range\", \"hovermode\", \"xaxis_title\", \"yaxis_title\", \"colorbar\", \"colorscale\", \"coloraxis\", \"title_x\", \"bargap\", \"bargroupgap\", \"xaxis_tickformat\", \"yaxis_tickformat\", \"title_y\", \"legend_title_text\", \"xaxis_showgrid\", \"xaxis_gridwidth\", \"xaxis_gridcolor\", \"yaxis_showgrid\", \"yaxis_gridwidth\"}\n",
        "def imshow(tensor, renderer=None, xaxis=\"\", yaxis=\"\", **kwargs):\n",
        "    if isinstance(tensor, list):\n",
        "        tensor = torch.stack(tensor)\n",
        "    kwargs_post = {k: v for k, v in kwargs.items() if k in update_layout_set}\n",
        "    kwargs_pre = {k: v for k, v in kwargs.items() if k not in update_layout_set}\n",
        "    if \"facet_labels\" in kwargs_pre:\n",
        "        facet_labels = kwargs_pre.pop(\"facet_labels\")\n",
        "    else:\n",
        "        facet_labels = None\n",
        "    if \"color_continuous_scale\" not in kwargs_pre:\n",
        "        kwargs_pre[\"color_continuous_scale\"] = \"RdBu\"\n",
        "    fig = px.imshow(utils.to_numpy(tensor), color_continuous_midpoint=0.0,labels={\"x\":xaxis, \"y\":yaxis}, **kwargs_pre).update_layout(**kwargs_post)\n",
        "    if facet_labels:\n",
        "        for i, label in enumerate(facet_labels):\n",
        "            fig.layout.annotations[i]['text'] = label\n",
        "\n",
        "    fig.show(renderer)\n",
        "\n",
        "def line(tensor, renderer=None, xaxis=\"\", yaxis=\"\", **kwargs):\n",
        "    px.line(y=utils.to_numpy(tensor), labels={\"x\":xaxis, \"y\":yaxis}, **kwargs).show(renderer)\n",
        "\n",
        "def scatter(x, y, xaxis=\"\", yaxis=\"\", caxis=\"\", renderer=None, **kwargs):\n",
        "    x = utils.to_numpy(x)\n",
        "    y = utils.to_numpy(y)\n",
        "    px.scatter(y=y, x=x, labels={\"x\":xaxis, \"y\":yaxis, \"color\":caxis}, **kwargs).show(renderer)\n",
        "\n",
        "def lines(lines_list, x=None, mode='lines', labels=None, xaxis='', yaxis='', title = '', log_y=False, hover=None, **kwargs):\n",
        "    # Helper function to plot multiple lines\n",
        "    if type(lines_list)==torch.Tensor:\n",
        "        lines_list = [lines_list[i] for i in range(lines_list.shape[0])]\n",
        "    if x is None:\n",
        "        x=np.arange(len(lines_list[0]))\n",
        "    fig = go.Figure(layout={'title':title})\n",
        "    fig.update_xaxes(title=xaxis)\n",
        "    fig.update_yaxes(title=yaxis)\n",
        "    for c, line in enumerate(lines_list):\n",
        "        if type(line)==torch.Tensor:\n",
        "            line = utils.to_numpy(line)\n",
        "        if labels is not None:\n",
        "            label = labels[c]\n",
        "        else:\n",
        "            label = c\n",
        "        fig.add_trace(go.Scatter(x=x, y=line, mode=mode, name=label, hovertext=hover, **kwargs))\n",
        "    if log_y:\n",
        "        fig.update_layout(yaxis_type=\"log\")\n",
        "    fig.show()\n",
        "\n",
        "def bar(tensor, renderer=None, xaxis=\"\", yaxis=\"\", **kwargs):\n",
        "    px.bar(\n",
        "        y=utils.to_numpy(tensor), \n",
        "        labels={\"x\": xaxis, \"y\": yaxis}, \n",
        "        template=\"simple_white\",\n",
        "        **kwargs).show(renderer)"
      ]
    },
    {
      "cell_type": "code",
      "source": [
        "import transformer_lens.patching as patching\n",
        "from transformer_lens import evals\n",
        "import math"
      ],
      "metadata": {
        "id": "MzEwzeib1tjE"
      },
      "execution_count": 75,
      "outputs": []
    },
    {
      "cell_type": "code",
      "source": [
        "def visualize_attn_patterns(heads, local_tokens, local_cache, title: str = \"\"):\n",
        "    labels = []\n",
        "    patterns = []\n",
        "    batch_index = 0\n",
        "    \n",
        "    for head in heads:\n",
        "        if isinstance(head, tuple):\n",
        "            layer, head_index = head\n",
        "        else:\n",
        "            layer, head_index = head // model.cfg.n_heads, head % model.cfg.n_heads\n",
        "        patterns.append(local_cache[\"pattern\", layer][batch_index, head_index])\n",
        "        labels.append(f\"L{layer}H{head_index}\")\n",
        "    patterns = torch.stack(patterns, dim=-1)\n",
        "    attn_viz = pysvelte.AttentionMulti(tokens=model.to_str_tokens(local_tokens[batch_index]), attention=patterns, head_labels=labels)\n",
        "    display(HTML(f\"<h3>{title}</h3>\"))\n",
        "    attn_viz.show()"
      ],
      "metadata": {
        "id": "AgWNZo0c7sp3"
      },
      "execution_count": 76,
      "outputs": []
    },
    {
      "cell_type": "markdown",
      "source": [
        "# Load Model"
      ],
      "metadata": {
        "id": "HdPsT2ZOxeua"
      }
    },
    {
      "cell_type": "code",
      "execution_count": 77,
      "metadata": {
        "id": "llysLeEq1kAy",
        "outputId": "9063d0df-8051-4524-d35e-1d5633e77112",
        "colab": {
          "base_uri": "https://localhost:8080/"
        }
      },
      "outputs": [
        {
          "output_type": "execute_result",
          "data": {
            "text/plain": [
              "<torch.autograd.grad_mode.set_grad_enabled at 0x7fc202a46140>"
            ]
          },
          "metadata": {},
          "execution_count": 77
        }
      ],
      "source": [
        "torch.set_grad_enabled(True)"
      ]
    },
    {
      "cell_type": "code",
      "source": [
        "device = 'cuda' if torch.cuda.is_available() else 'cpu'\n",
        "print(device)"
      ],
      "metadata": {
        "id": "S0QibP7y7xCm",
        "colab": {
          "base_uri": "https://localhost:8080/"
        },
        "outputId": "3a6db318-a2a3-45ad-ccb8-6732717bfeb0"
      },
      "execution_count": 78,
      "outputs": [
        {
          "output_type": "stream",
          "name": "stdout",
          "text": [
            "cuda\n"
          ]
        }
      ]
    },
    {
      "cell_type": "markdown",
      "source": [
        "The smallest model I found was a 2L, 1H, attn-only transformer with no layernorm or biases. A 1L transformer was not able to solve this task (even with up to 8 heads).\n",
        "\n",
        "\n",
        "Note that the input is of the form: [BOS, 44, 40, 15, MID, 2, 1, 0, END, 15, 40, 44]. The first 3 tokens after BOS, [44, 40, 15], is the list the model needs to permute. I call them \"list tokens\". The 3 tokens after MID, [2, 1, 0] are the permutation indices. I call these the \"perm tokens\". The model makes its first prediction at the END token, and continues to permute the entire list. Thus I call [END, 15, 40] the \"prediction tokens\". The last 3 tokens, [15, 40, 44], is the correct permutation of the list.\n",
        "\n",
        "![picture](https://drive.google.com/uc?id=15DCokm0rjNEBFn5znNJ8mEu5ATF5z7CH)"
      ],
      "metadata": {
        "id": "z7_Jrzb9FWZi"
      }
    },
    {
      "cell_type": "code",
      "source": [
        "LIST_LEN = 3\n",
        "MAX_INT = 50\n",
        "cfg = HookedTransformerConfig(\n",
        "    n_layers=2,\n",
        "    n_heads=1,\n",
        "    d_model=128,\n",
        "    d_head=128,\n",
        "    n_ctx=3*LIST_LEN+3, # BOS d1 d2 d3 MID p1 p2 p3 END a1 a2 a3\n",
        "    d_vocab= MAX_INT+3, # 0, ..., MAX_INT-1, BOS, MID, END\n",
        "    d_vocab_out=MAX_INT,\n",
        "    attn_only=True,\n",
        "    normalization_type=None,\n",
        "    device=device,\n",
        "    seed=0,\n",
        ")\n",
        "model = HookedTransformer(cfg)\n",
        "print(model)"
      ],
      "metadata": {
        "colab": {
          "base_uri": "https://localhost:8080/"
        },
        "id": "3_Qm7Gym7aJw",
        "outputId": "846df178-96f8-42b4-c9db-b4edf7f81c2d"
      },
      "execution_count": 79,
      "outputs": [
        {
          "output_type": "stream",
          "name": "stdout",
          "text": [
            "HookedTransformer(\n",
            "  (embed): Embed()\n",
            "  (hook_embed): HookPoint()\n",
            "  (pos_embed): PosEmbed()\n",
            "  (hook_pos_embed): HookPoint()\n",
            "  (blocks): ModuleList(\n",
            "    (0-1): 2 x TransformerBlock(\n",
            "      (ln1): Identity()\n",
            "      (attn): Attention(\n",
            "        (hook_k): HookPoint()\n",
            "        (hook_q): HookPoint()\n",
            "        (hook_v): HookPoint()\n",
            "        (hook_z): HookPoint()\n",
            "        (hook_attn_scores): HookPoint()\n",
            "        (hook_pattern): HookPoint()\n",
            "        (hook_result): HookPoint()\n",
            "      )\n",
            "      (hook_q_input): HookPoint()\n",
            "      (hook_k_input): HookPoint()\n",
            "      (hook_v_input): HookPoint()\n",
            "      (hook_attn_out): HookPoint()\n",
            "      (hook_mlp_in): HookPoint()\n",
            "      (hook_mlp_out): HookPoint()\n",
            "      (hook_resid_pre): HookPoint()\n",
            "      (hook_resid_post): HookPoint()\n",
            "    )\n",
            "  )\n",
            "  (unembed): Unembed()\n",
            ")\n"
          ]
        }
      ]
    },
    {
      "cell_type": "code",
      "source": [
        "# disable biases\n",
        "for name, param in model.named_parameters():\n",
        "    if 'b_' in name:\n",
        "        param.requires_grad = False\n",
        "    print(name, param.shape, param.requires_grad)"
      ],
      "metadata": {
        "colab": {
          "base_uri": "https://localhost:8080/"
        },
        "id": "yuoOS6ZX8YcS",
        "outputId": "68854162-2b9a-4d84-c600-7ca0ae0f4875"
      },
      "execution_count": 80,
      "outputs": [
        {
          "output_type": "stream",
          "name": "stdout",
          "text": [
            "embed.W_E torch.Size([53, 128]) True\n",
            "pos_embed.W_pos torch.Size([12, 128]) True\n",
            "blocks.0.attn.W_Q torch.Size([1, 128, 128]) True\n",
            "blocks.0.attn.W_K torch.Size([1, 128, 128]) True\n",
            "blocks.0.attn.W_V torch.Size([1, 128, 128]) True\n",
            "blocks.0.attn.W_O torch.Size([1, 128, 128]) True\n",
            "blocks.0.attn.b_Q torch.Size([1, 128]) False\n",
            "blocks.0.attn.b_K torch.Size([1, 128]) False\n",
            "blocks.0.attn.b_V torch.Size([1, 128]) False\n",
            "blocks.0.attn.b_O torch.Size([128]) False\n",
            "blocks.1.attn.W_Q torch.Size([1, 128, 128]) True\n",
            "blocks.1.attn.W_K torch.Size([1, 128, 128]) True\n",
            "blocks.1.attn.W_V torch.Size([1, 128, 128]) True\n",
            "blocks.1.attn.W_O torch.Size([1, 128, 128]) True\n",
            "blocks.1.attn.b_Q torch.Size([1, 128]) False\n",
            "blocks.1.attn.b_K torch.Size([1, 128]) False\n",
            "blocks.1.attn.b_V torch.Size([1, 128]) False\n",
            "blocks.1.attn.b_O torch.Size([128]) False\n",
            "unembed.W_U torch.Size([128, 50]) True\n",
            "unembed.b_U torch.Size([50]) False\n"
          ]
        }
      ]
    },
    {
      "cell_type": "markdown",
      "source": [
        "# Training (Optional)"
      ],
      "metadata": {
        "id": "Dja7qPK-OewC"
      }
    },
    {
      "cell_type": "markdown",
      "source": [
        "Mostly boilerplate. Skip unless you want to read the training code."
      ],
      "metadata": {
        "id": "88XzPs5dQG8x"
      }
    },
    {
      "cell_type": "markdown",
      "source": [
        "## Task Dataset"
      ],
      "metadata": {
        "id": "ZxKuTab38hXy"
      }
    },
    {
      "cell_type": "code",
      "source": [
        "def make_data_generator(cfg, batch_size, seed=0):\n",
        "    torch.manual_seed(seed)\n",
        "    BOS_TOKEN = cfg.d_vocab-1\n",
        "    MID_TOKEN = cfg.d_vocab-2\n",
        "    END_TOKEN = cfg.d_vocab-3\n",
        "    while True:\n",
        "        seq = torch.randint(0, MAX_INT, (batch_size, LIST_LEN))\n",
        "        perm = torch.randperm(LIST_LEN)\n",
        "        ans = seq[:, perm]\n",
        "\n",
        "        bos_tensor = einops.repeat(torch.tensor(BOS_TOKEN), \" -> i 1\", i=batch_size)\n",
        "        mid_tensor = einops.repeat(torch.tensor(MID_TOKEN), \" -> i 1\", i=batch_size)\n",
        "        end_tensor = einops.repeat(torch.tensor(END_TOKEN), \" -> i 1\", i=batch_size)\n",
        "\n",
        "        x = torch.cat([bos_tensor, seq, mid_tensor, einops.repeat(perm, \"seq -> batch seq\", batch=batch_size), end_tensor, ans], dim=-1)\n",
        "        yield x\n",
        "\n",
        "print(next(make_data_generator(cfg, 2)))\n"
      ],
      "metadata": {
        "colab": {
          "base_uri": "https://localhost:8080/"
        },
        "id": "34TX6ICq8fON",
        "outputId": "c6bee156-f42b-4fc7-fc53-71084f5fc607"
      },
      "execution_count": 81,
      "outputs": [
        {
          "output_type": "stream",
          "name": "stdout",
          "text": [
            "tensor([[52, 44, 39, 33, 51,  1,  2,  0, 50, 39, 33, 44],\n",
            "        [52, 10, 13, 29, 51,  1,  2,  0, 50, 13, 29, 10]])\n"
          ]
        }
      ]
    },
    {
      "cell_type": "markdown",
      "source": [
        "## Loss fn"
      ],
      "metadata": {
        "id": "g-PaPEF2_YRj"
      }
    },
    {
      "cell_type": "code",
      "source": [
        "def loss_fn(logits, tokens):\n",
        "    logits=logits[:, -LIST_LEN-1:-1, :]\n",
        "    logits = logits.to(torch.float64)\n",
        "    labels = tokens[:, -LIST_LEN:]\n",
        "\n",
        "    log_probs = logits.log_softmax(dim=-1)\n",
        "    correct_log_probs = log_probs.gather(dim=-1, index=labels[..., None])[..., 0]\n",
        "    return -correct_log_probs.mean()\n",
        "\n",
        "with torch.no_grad():\n",
        "    tokens = next(make_data_generator(cfg, 2)).to(device)\n",
        "    logits = model(tokens)\n",
        "    loss = loss_fn(logits, tokens)\n",
        "    print(loss)"
      ],
      "metadata": {
        "colab": {
          "base_uri": "https://localhost:8080/"
        },
        "id": "dmQbkuI1_aOm",
        "outputId": "57012208-5aca-4df6-b89c-f858c913366c"
      },
      "execution_count": 82,
      "outputs": [
        {
          "output_type": "stream",
          "name": "stdout",
          "text": [
            "tensor(3.9504, device='cuda:0', dtype=torch.float64)\n"
          ]
        }
      ]
    },
    {
      "cell_type": "code",
      "source": [
        "print('uniform loss:', np.log(cfg.d_vocab_out))"
      ],
      "metadata": {
        "colab": {
          "base_uri": "https://localhost:8080/"
        },
        "id": "DbyqFP9IBIsN",
        "outputId": "7164c630-bcf5-4625-b012-e7884ce9224b"
      },
      "execution_count": 83,
      "outputs": [
        {
          "output_type": "stream",
          "name": "stdout",
          "text": [
            "uniform loss: 3.912023005428146\n"
          ]
        }
      ]
    },
    {
      "cell_type": "markdown",
      "source": [
        "## Setup Optimizer / Dataloader"
      ],
      "metadata": {
        "id": "0ZFqO1yyBQbe"
      }
    },
    {
      "cell_type": "code",
      "source": [
        "lr = 1e-3\n",
        "wd = 0.01\n",
        "betas = (0.9, 0.98)\n",
        "\n",
        "optimizer = torch.optim.AdamW(model.parameters(), lr=lr, weight_decay=wd, betas=betas)\n",
        "\n",
        "batch_size = 256\n",
        "train_data_loader = make_data_generator(cfg, batch_size)"
      ],
      "metadata": {
        "id": "h2QH3Ab8BVL7"
      },
      "execution_count": 84,
      "outputs": []
    },
    {
      "cell_type": "markdown",
      "source": [
        "## Training loop"
      ],
      "metadata": {
        "id": "VdfLYAqUBju3"
      }
    },
    {
      "cell_type": "code",
      "source": [
        "num_epochs = 4000\n",
        "\n",
        "train_losses = []\n",
        "for epoch in tqdm.tqdm(range(num_epochs)):\n",
        "    tokens = next(train_data_loader).to(device)\n",
        "    logits = model(tokens)\n",
        "    loss = loss_fn(logits, tokens)\n",
        "    loss.backward()\n",
        "    train_losses.append(loss.item())\n",
        "\n",
        "    optimizer.step()\n",
        "    optimizer.zero_grad()\n",
        "\n",
        "    if epoch % 100 == 0:\n",
        "        print(f\"Epoch: {epoch}, train_loss: {loss.item()}\")"
      ],
      "metadata": {
        "colab": {
          "base_uri": "https://localhost:8080/",
          "height": 763,
          "referenced_widgets": [
            "2ed672c4024c40ff8b9bc20a251dcfe1",
            "88ff7727815a462e98911ee4dbef6fce",
            "9c13f6bf445e46db9fffc132dcde702f",
            "ffc66d9845b14a7c80bbadfa6138a7f8",
            "d0862fa124824983bfc5a5a66c300c9b",
            "802ddd06370d4cfe97d25ba0153968b2",
            "1374cc26261c49b9b3d617c8e146d0c3",
            "07cd2a9c5a144f96a9d4075a894a5140",
            "6bb8897a81014f229db58020f8b8b8e5",
            "1f4be1a19f7b4e95944e5ecbb5f00697",
            "3f51fdb0e50446838112e760b796b40e"
          ]
        },
        "id": "Hks5BzMNBc3b",
        "outputId": "0dc8f2f2-e019-4b33-8464-c13d1514c68f"
      },
      "execution_count": 85,
      "outputs": [
        {
          "output_type": "display_data",
          "data": {
            "text/plain": [
              "  0%|          | 0/4000 [00:00<?, ?it/s]"
            ],
            "application/vnd.jupyter.widget-view+json": {
              "version_major": 2,
              "version_minor": 0,
              "model_id": "2ed672c4024c40ff8b9bc20a251dcfe1"
            }
          },
          "metadata": {}
        },
        {
          "output_type": "stream",
          "name": "stdout",
          "text": [
            "Epoch: 0, train_loss: 3.9134952571706085\n",
            "Epoch: 100, train_loss: 1.6822969221402797\n",
            "Epoch: 200, train_loss: 1.4785068812896835\n",
            "Epoch: 300, train_loss: 1.0795397263291033\n",
            "Epoch: 400, train_loss: 0.7309813751495354\n",
            "Epoch: 500, train_loss: 0.7055179790887276\n",
            "Epoch: 600, train_loss: 0.23109689003146974\n",
            "Epoch: 700, train_loss: 0.07998041691299426\n",
            "Epoch: 800, train_loss: 0.03755524799578232\n",
            "Epoch: 900, train_loss: 0.01263726209428748\n",
            "Epoch: 1000, train_loss: 0.004681462867619774\n",
            "Epoch: 1100, train_loss: 0.012007361321558628\n",
            "Epoch: 1200, train_loss: 0.011887284356212124\n",
            "Epoch: 1300, train_loss: 0.0018767118027489004\n",
            "Epoch: 1400, train_loss: 0.0015075586712569589\n",
            "Epoch: 1500, train_loss: 0.006591717328680522\n",
            "Epoch: 1600, train_loss: 0.002214333290520977\n",
            "Epoch: 1700, train_loss: 0.0007977900374918777\n",
            "Epoch: 1800, train_loss: 0.002376661674472637\n",
            "Epoch: 1900, train_loss: 0.0005226649263945612\n",
            "Epoch: 2000, train_loss: 8.124520167040763e-05\n",
            "Epoch: 2100, train_loss: 0.0008260170140734301\n",
            "Epoch: 2200, train_loss: 3.9743325186623847e-05\n",
            "Epoch: 2300, train_loss: 7.1551914445636915e-06\n",
            "Epoch: 2400, train_loss: 8.437157200386221e-05\n",
            "Epoch: 2500, train_loss: 0.00047861992330209115\n",
            "Epoch: 2600, train_loss: 5.893408725743186e-05\n",
            "Epoch: 2700, train_loss: 1.4044499548713553e-06\n",
            "Epoch: 2800, train_loss: 1.864399689094324e-07\n",
            "Epoch: 2900, train_loss: 0.0011478292509922304\n",
            "Epoch: 3000, train_loss: 0.0004399973258543773\n",
            "Epoch: 3100, train_loss: 9.06540705976055e-05\n",
            "Epoch: 3200, train_loss: 1.0940109338449505e-05\n",
            "Epoch: 3300, train_loss: 1.726420922820545e-06\n",
            "Epoch: 3400, train_loss: 1.486720377400843e-07\n",
            "Epoch: 3500, train_loss: 7.347190412540202e-07\n",
            "Epoch: 3600, train_loss: 2.1136315519463482e-07\n",
            "Epoch: 3700, train_loss: 3.8566404933935676e-05\n",
            "Epoch: 3800, train_loss: 5.299722771110527e-07\n",
            "Epoch: 3900, train_loss: 4.024323578142868e-07\n"
          ]
        }
      ]
    },
    {
      "cell_type": "code",
      "source": [
        "line(train_losses,\n",
        "     title=\"Loss curve\",\n",
        "     xaxis=\"Epoch\", yaxis=\"Loss\")"
      ],
      "metadata": {
        "colab": {
          "base_uri": "https://localhost:8080/",
          "height": 542
        },
        "id": "XgOKn2gtBwxm",
        "outputId": "5a2ade71-47c5-4aa9-f3d7-f5e8ae338929"
      },
      "execution_count": 86,
      "outputs": [
        {
          "output_type": "display_data",
          "data": {
            "text/html": [
              "<html>\n",
              "<head><meta charset=\"utf-8\" /></head>\n",
              "<body>\n",
              "    <div>            <script src=\"https://cdnjs.cloudflare.com/ajax/libs/mathjax/2.7.5/MathJax.js?config=TeX-AMS-MML_SVG\"></script><script type=\"text/javascript\">if (window.MathJax && window.MathJax.Hub && window.MathJax.Hub.Config) {window.MathJax.Hub.Config({SVG: {font: \"STIX-Web\"}});}</script>                <script type=\"text/javascript\">window.PlotlyConfig = {MathJaxConfig: 'local'};</script>\n",
              "        <script src=\"https://cdn.plot.ly/plotly-2.18.2.min.js\"></script>                <div id=\"05fb121e-3661-4f57-9a7b-fa6f8a54ce6f\" class=\"plotly-graph-div\" style=\"height:525px; width:100%;\"></div>            <script type=\"text/javascript\">                                    window.PLOTLYENV=window.PLOTLYENV || {};                                    if (document.getElementById(\"05fb121e-3661-4f57-9a7b-fa6f8a54ce6f\")) {                    Plotly.newPlot(                        \"05fb121e-3661-4f57-9a7b-fa6f8a54ce6f\",                        [{\"hovertemplate\":\"Epoch=%{x}<br>Loss=%{y}<extra></extra>\",\"legendgroup\":\"\",\"line\":{\"color\":\"#636efa\",\"dash\":\"solid\"},\"marker\":{\"symbol\":\"circle\"},\"mode\":\"lines\",\"name\":\"\",\"showlegend\":false,\"x\":[0,1,2,3,4,5,6,7,8,9,10,11,12,13,14,15,16,17,18,19,20,21,22,23,24,25,26,27,28,29,30,31,32,33,34,35,36,37,38,39,40,41,42,43,44,45,46,47,48,49,50,51,52,53,54,55,56,57,58,59,60,61,62,63,64,65,66,67,68,69,70,71,72,73,74,75,76,77,78,79,80,81,82,83,84,85,86,87,88,89,90,91,92,93,94,95,96,97,98,99,100,101,102,103,104,105,106,107,108,109,110,111,112,113,114,115,116,117,118,119,120,121,122,123,124,125,126,127,128,129,130,131,132,133,134,135,136,137,138,139,140,141,142,143,144,145,146,147,148,149,150,151,152,153,154,155,156,157,158,159,160,161,162,163,164,165,166,167,168,169,170,171,172,173,174,175,176,177,178,179,180,181,182,183,184,185,186,187,188,189,190,191,192,193,194,195,196,197,198,199,200,201,202,203,204,205,206,207,208,209,210,211,212,213,214,215,216,217,218,219,220,221,222,223,224,225,226,227,228,229,230,231,232,233,234,235,236,237,238,239,240,241,242,243,244,245,246,247,248,249,250,251,252,253,254,255,256,257,258,259,260,261,262,263,264,265,266,267,268,269,270,271,272,273,274,275,276,277,278,279,280,281,282,283,284,285,286,287,288,289,290,291,292,293,294,295,296,297,298,299,300,301,302,303,304,305,306,307,308,309,310,311,312,313,314,315,316,317,318,319,320,321,322,323,324,325,326,327,328,329,330,331,332,333,334,335,336,337,338,339,340,341,342,343,344,345,346,347,348,349,350,351,352,353,354,355,356,357,358,359,360,361,362,363,364,365,366,367,368,369,370,371,372,373,374,375,376,377,378,379,380,381,382,383,384,385,386,387,388,389,390,391,392,393,394,395,396,397,398,399,400,401,402,403,404,405,406,407,408,409,410,411,412,413,414,415,416,417,418,419,420,421,422,423,424,425,426,427,428,429,430,431,432,433,434,435,436,437,438,439,440,441,442,443,444,445,446,447,448,449,450,451,452,453,454,455,456,457,458,459,460,461,462,463,464,465,466,467,468,469,470,471,472,473,474,475,476,477,478,479,480,481,482,483,484,485,486,487,488,489,490,491,492,493,494,495,496,497,498,499,500,501,502,503,504,505,506,507,508,509,510,511,512,513,514,515,516,517,518,519,520,521,522,523,524,525,526,527,528,529,530,531,532,533,534,535,536,537,538,539,540,541,542,543,544,545,546,547,548,549,550,551,552,553,554,555,556,557,558,559,560,561,562,563,564,565,566,567,568,569,570,571,572,573,574,575,576,577,578,579,580,581,582,583,584,585,586,587,588,589,590,591,592,593,594,595,596,597,598,599,600,601,602,603,604,605,606,607,608,609,610,611,612,613,614,615,616,617,618,619,620,621,622,623,624,625,626,627,628,629,630,631,632,633,634,635,636,637,638,639,640,641,642,643,644,645,646,647,648,649,650,651,652,653,654,655,656,657,658,659,660,661,662,663,664,665,666,667,668,669,670,671,672,673,674,675,676,677,678,679,680,681,682,683,684,685,686,687,688,689,690,691,692,693,694,695,696,697,698,699,700,701,702,703,704,705,706,707,708,709,710,711,712,713,714,715,716,717,718,719,720,721,722,723,724,725,726,727,728,729,730,731,732,733,734,735,736,737,738,739,740,741,742,743,744,745,746,747,748,749,750,751,752,753,754,755,756,757,758,759,760,761,762,763,764,765,766,767,768,769,770,771,772,773,774,775,776,777,778,779,780,781,782,783,784,785,786,787,788,789,790,791,792,793,794,795,796,797,798,799,800,801,802,803,804,805,806,807,808,809,810,811,812,813,814,815,816,817,818,819,820,821,822,823,824,825,826,827,828,829,830,831,832,833,834,835,836,837,838,839,840,841,842,843,844,845,846,847,848,849,850,851,852,853,854,855,856,857,858,859,860,861,862,863,864,865,866,867,868,869,870,871,872,873,874,875,876,877,878,879,880,881,882,883,884,885,886,887,888,889,890,891,892,893,894,895,896,897,898,899,900,901,902,903,904,905,906,907,908,909,910,911,912,913,914,915,916,917,918,919,920,921,922,923,924,925,926,927,928,929,930,931,932,933,934,935,936,937,938,939,940,941,942,943,944,945,946,947,948,949,950,951,952,953,954,955,956,957,958,959,960,961,962,963,964,965,966,967,968,969,970,971,972,973,974,975,976,977,978,979,980,981,982,983,984,985,986,987,988,989,990,991,992,993,994,995,996,997,998,999,1000,1001,1002,1003,1004,1005,1006,1007,1008,1009,1010,1011,1012,1013,1014,1015,1016,1017,1018,1019,1020,1021,1022,1023,1024,1025,1026,1027,1028,1029,1030,1031,1032,1033,1034,1035,1036,1037,1038,1039,1040,1041,1042,1043,1044,1045,1046,1047,1048,1049,1050,1051,1052,1053,1054,1055,1056,1057,1058,1059,1060,1061,1062,1063,1064,1065,1066,1067,1068,1069,1070,1071,1072,1073,1074,1075,1076,1077,1078,1079,1080,1081,1082,1083,1084,1085,1086,1087,1088,1089,1090,1091,1092,1093,1094,1095,1096,1097,1098,1099,1100,1101,1102,1103,1104,1105,1106,1107,1108,1109,1110,1111,1112,1113,1114,1115,1116,1117,1118,1119,1120,1121,1122,1123,1124,1125,1126,1127,1128,1129,1130,1131,1132,1133,1134,1135,1136,1137,1138,1139,1140,1141,1142,1143,1144,1145,1146,1147,1148,1149,1150,1151,1152,1153,1154,1155,1156,1157,1158,1159,1160,1161,1162,1163,1164,1165,1166,1167,1168,1169,1170,1171,1172,1173,1174,1175,1176,1177,1178,1179,1180,1181,1182,1183,1184,1185,1186,1187,1188,1189,1190,1191,1192,1193,1194,1195,1196,1197,1198,1199,1200,1201,1202,1203,1204,1205,1206,1207,1208,1209,1210,1211,1212,1213,1214,1215,1216,1217,1218,1219,1220,1221,1222,1223,1224,1225,1226,1227,1228,1229,1230,1231,1232,1233,1234,1235,1236,1237,1238,1239,1240,1241,1242,1243,1244,1245,1246,1247,1248,1249,1250,1251,1252,1253,1254,1255,1256,1257,1258,1259,1260,1261,1262,1263,1264,1265,1266,1267,1268,1269,1270,1271,1272,1273,1274,1275,1276,1277,1278,1279,1280,1281,1282,1283,1284,1285,1286,1287,1288,1289,1290,1291,1292,1293,1294,1295,1296,1297,1298,1299,1300,1301,1302,1303,1304,1305,1306,1307,1308,1309,1310,1311,1312,1313,1314,1315,1316,1317,1318,1319,1320,1321,1322,1323,1324,1325,1326,1327,1328,1329,1330,1331,1332,1333,1334,1335,1336,1337,1338,1339,1340,1341,1342,1343,1344,1345,1346,1347,1348,1349,1350,1351,1352,1353,1354,1355,1356,1357,1358,1359,1360,1361,1362,1363,1364,1365,1366,1367,1368,1369,1370,1371,1372,1373,1374,1375,1376,1377,1378,1379,1380,1381,1382,1383,1384,1385,1386,1387,1388,1389,1390,1391,1392,1393,1394,1395,1396,1397,1398,1399,1400,1401,1402,1403,1404,1405,1406,1407,1408,1409,1410,1411,1412,1413,1414,1415,1416,1417,1418,1419,1420,1421,1422,1423,1424,1425,1426,1427,1428,1429,1430,1431,1432,1433,1434,1435,1436,1437,1438,1439,1440,1441,1442,1443,1444,1445,1446,1447,1448,1449,1450,1451,1452,1453,1454,1455,1456,1457,1458,1459,1460,1461,1462,1463,1464,1465,1466,1467,1468,1469,1470,1471,1472,1473,1474,1475,1476,1477,1478,1479,1480,1481,1482,1483,1484,1485,1486,1487,1488,1489,1490,1491,1492,1493,1494,1495,1496,1497,1498,1499,1500,1501,1502,1503,1504,1505,1506,1507,1508,1509,1510,1511,1512,1513,1514,1515,1516,1517,1518,1519,1520,1521,1522,1523,1524,1525,1526,1527,1528,1529,1530,1531,1532,1533,1534,1535,1536,1537,1538,1539,1540,1541,1542,1543,1544,1545,1546,1547,1548,1549,1550,1551,1552,1553,1554,1555,1556,1557,1558,1559,1560,1561,1562,1563,1564,1565,1566,1567,1568,1569,1570,1571,1572,1573,1574,1575,1576,1577,1578,1579,1580,1581,1582,1583,1584,1585,1586,1587,1588,1589,1590,1591,1592,1593,1594,1595,1596,1597,1598,1599,1600,1601,1602,1603,1604,1605,1606,1607,1608,1609,1610,1611,1612,1613,1614,1615,1616,1617,1618,1619,1620,1621,1622,1623,1624,1625,1626,1627,1628,1629,1630,1631,1632,1633,1634,1635,1636,1637,1638,1639,1640,1641,1642,1643,1644,1645,1646,1647,1648,1649,1650,1651,1652,1653,1654,1655,1656,1657,1658,1659,1660,1661,1662,1663,1664,1665,1666,1667,1668,1669,1670,1671,1672,1673,1674,1675,1676,1677,1678,1679,1680,1681,1682,1683,1684,1685,1686,1687,1688,1689,1690,1691,1692,1693,1694,1695,1696,1697,1698,1699,1700,1701,1702,1703,1704,1705,1706,1707,1708,1709,1710,1711,1712,1713,1714,1715,1716,1717,1718,1719,1720,1721,1722,1723,1724,1725,1726,1727,1728,1729,1730,1731,1732,1733,1734,1735,1736,1737,1738,1739,1740,1741,1742,1743,1744,1745,1746,1747,1748,1749,1750,1751,1752,1753,1754,1755,1756,1757,1758,1759,1760,1761,1762,1763,1764,1765,1766,1767,1768,1769,1770,1771,1772,1773,1774,1775,1776,1777,1778,1779,1780,1781,1782,1783,1784,1785,1786,1787,1788,1789,1790,1791,1792,1793,1794,1795,1796,1797,1798,1799,1800,1801,1802,1803,1804,1805,1806,1807,1808,1809,1810,1811,1812,1813,1814,1815,1816,1817,1818,1819,1820,1821,1822,1823,1824,1825,1826,1827,1828,1829,1830,1831,1832,1833,1834,1835,1836,1837,1838,1839,1840,1841,1842,1843,1844,1845,1846,1847,1848,1849,1850,1851,1852,1853,1854,1855,1856,1857,1858,1859,1860,1861,1862,1863,1864,1865,1866,1867,1868,1869,1870,1871,1872,1873,1874,1875,1876,1877,1878,1879,1880,1881,1882,1883,1884,1885,1886,1887,1888,1889,1890,1891,1892,1893,1894,1895,1896,1897,1898,1899,1900,1901,1902,1903,1904,1905,1906,1907,1908,1909,1910,1911,1912,1913,1914,1915,1916,1917,1918,1919,1920,1921,1922,1923,1924,1925,1926,1927,1928,1929,1930,1931,1932,1933,1934,1935,1936,1937,1938,1939,1940,1941,1942,1943,1944,1945,1946,1947,1948,1949,1950,1951,1952,1953,1954,1955,1956,1957,1958,1959,1960,1961,1962,1963,1964,1965,1966,1967,1968,1969,1970,1971,1972,1973,1974,1975,1976,1977,1978,1979,1980,1981,1982,1983,1984,1985,1986,1987,1988,1989,1990,1991,1992,1993,1994,1995,1996,1997,1998,1999,2000,2001,2002,2003,2004,2005,2006,2007,2008,2009,2010,2011,2012,2013,2014,2015,2016,2017,2018,2019,2020,2021,2022,2023,2024,2025,2026,2027,2028,2029,2030,2031,2032,2033,2034,2035,2036,2037,2038,2039,2040,2041,2042,2043,2044,2045,2046,2047,2048,2049,2050,2051,2052,2053,2054,2055,2056,2057,2058,2059,2060,2061,2062,2063,2064,2065,2066,2067,2068,2069,2070,2071,2072,2073,2074,2075,2076,2077,2078,2079,2080,2081,2082,2083,2084,2085,2086,2087,2088,2089,2090,2091,2092,2093,2094,2095,2096,2097,2098,2099,2100,2101,2102,2103,2104,2105,2106,2107,2108,2109,2110,2111,2112,2113,2114,2115,2116,2117,2118,2119,2120,2121,2122,2123,2124,2125,2126,2127,2128,2129,2130,2131,2132,2133,2134,2135,2136,2137,2138,2139,2140,2141,2142,2143,2144,2145,2146,2147,2148,2149,2150,2151,2152,2153,2154,2155,2156,2157,2158,2159,2160,2161,2162,2163,2164,2165,2166,2167,2168,2169,2170,2171,2172,2173,2174,2175,2176,2177,2178,2179,2180,2181,2182,2183,2184,2185,2186,2187,2188,2189,2190,2191,2192,2193,2194,2195,2196,2197,2198,2199,2200,2201,2202,2203,2204,2205,2206,2207,2208,2209,2210,2211,2212,2213,2214,2215,2216,2217,2218,2219,2220,2221,2222,2223,2224,2225,2226,2227,2228,2229,2230,2231,2232,2233,2234,2235,2236,2237,2238,2239,2240,2241,2242,2243,2244,2245,2246,2247,2248,2249,2250,2251,2252,2253,2254,2255,2256,2257,2258,2259,2260,2261,2262,2263,2264,2265,2266,2267,2268,2269,2270,2271,2272,2273,2274,2275,2276,2277,2278,2279,2280,2281,2282,2283,2284,2285,2286,2287,2288,2289,2290,2291,2292,2293,2294,2295,2296,2297,2298,2299,2300,2301,2302,2303,2304,2305,2306,2307,2308,2309,2310,2311,2312,2313,2314,2315,2316,2317,2318,2319,2320,2321,2322,2323,2324,2325,2326,2327,2328,2329,2330,2331,2332,2333,2334,2335,2336,2337,2338,2339,2340,2341,2342,2343,2344,2345,2346,2347,2348,2349,2350,2351,2352,2353,2354,2355,2356,2357,2358,2359,2360,2361,2362,2363,2364,2365,2366,2367,2368,2369,2370,2371,2372,2373,2374,2375,2376,2377,2378,2379,2380,2381,2382,2383,2384,2385,2386,2387,2388,2389,2390,2391,2392,2393,2394,2395,2396,2397,2398,2399,2400,2401,2402,2403,2404,2405,2406,2407,2408,2409,2410,2411,2412,2413,2414,2415,2416,2417,2418,2419,2420,2421,2422,2423,2424,2425,2426,2427,2428,2429,2430,2431,2432,2433,2434,2435,2436,2437,2438,2439,2440,2441,2442,2443,2444,2445,2446,2447,2448,2449,2450,2451,2452,2453,2454,2455,2456,2457,2458,2459,2460,2461,2462,2463,2464,2465,2466,2467,2468,2469,2470,2471,2472,2473,2474,2475,2476,2477,2478,2479,2480,2481,2482,2483,2484,2485,2486,2487,2488,2489,2490,2491,2492,2493,2494,2495,2496,2497,2498,2499,2500,2501,2502,2503,2504,2505,2506,2507,2508,2509,2510,2511,2512,2513,2514,2515,2516,2517,2518,2519,2520,2521,2522,2523,2524,2525,2526,2527,2528,2529,2530,2531,2532,2533,2534,2535,2536,2537,2538,2539,2540,2541,2542,2543,2544,2545,2546,2547,2548,2549,2550,2551,2552,2553,2554,2555,2556,2557,2558,2559,2560,2561,2562,2563,2564,2565,2566,2567,2568,2569,2570,2571,2572,2573,2574,2575,2576,2577,2578,2579,2580,2581,2582,2583,2584,2585,2586,2587,2588,2589,2590,2591,2592,2593,2594,2595,2596,2597,2598,2599,2600,2601,2602,2603,2604,2605,2606,2607,2608,2609,2610,2611,2612,2613,2614,2615,2616,2617,2618,2619,2620,2621,2622,2623,2624,2625,2626,2627,2628,2629,2630,2631,2632,2633,2634,2635,2636,2637,2638,2639,2640,2641,2642,2643,2644,2645,2646,2647,2648,2649,2650,2651,2652,2653,2654,2655,2656,2657,2658,2659,2660,2661,2662,2663,2664,2665,2666,2667,2668,2669,2670,2671,2672,2673,2674,2675,2676,2677,2678,2679,2680,2681,2682,2683,2684,2685,2686,2687,2688,2689,2690,2691,2692,2693,2694,2695,2696,2697,2698,2699,2700,2701,2702,2703,2704,2705,2706,2707,2708,2709,2710,2711,2712,2713,2714,2715,2716,2717,2718,2719,2720,2721,2722,2723,2724,2725,2726,2727,2728,2729,2730,2731,2732,2733,2734,2735,2736,2737,2738,2739,2740,2741,2742,2743,2744,2745,2746,2747,2748,2749,2750,2751,2752,2753,2754,2755,2756,2757,2758,2759,2760,2761,2762,2763,2764,2765,2766,2767,2768,2769,2770,2771,2772,2773,2774,2775,2776,2777,2778,2779,2780,2781,2782,2783,2784,2785,2786,2787,2788,2789,2790,2791,2792,2793,2794,2795,2796,2797,2798,2799,2800,2801,2802,2803,2804,2805,2806,2807,2808,2809,2810,2811,2812,2813,2814,2815,2816,2817,2818,2819,2820,2821,2822,2823,2824,2825,2826,2827,2828,2829,2830,2831,2832,2833,2834,2835,2836,2837,2838,2839,2840,2841,2842,2843,2844,2845,2846,2847,2848,2849,2850,2851,2852,2853,2854,2855,2856,2857,2858,2859,2860,2861,2862,2863,2864,2865,2866,2867,2868,2869,2870,2871,2872,2873,2874,2875,2876,2877,2878,2879,2880,2881,2882,2883,2884,2885,2886,2887,2888,2889,2890,2891,2892,2893,2894,2895,2896,2897,2898,2899,2900,2901,2902,2903,2904,2905,2906,2907,2908,2909,2910,2911,2912,2913,2914,2915,2916,2917,2918,2919,2920,2921,2922,2923,2924,2925,2926,2927,2928,2929,2930,2931,2932,2933,2934,2935,2936,2937,2938,2939,2940,2941,2942,2943,2944,2945,2946,2947,2948,2949,2950,2951,2952,2953,2954,2955,2956,2957,2958,2959,2960,2961,2962,2963,2964,2965,2966,2967,2968,2969,2970,2971,2972,2973,2974,2975,2976,2977,2978,2979,2980,2981,2982,2983,2984,2985,2986,2987,2988,2989,2990,2991,2992,2993,2994,2995,2996,2997,2998,2999,3000,3001,3002,3003,3004,3005,3006,3007,3008,3009,3010,3011,3012,3013,3014,3015,3016,3017,3018,3019,3020,3021,3022,3023,3024,3025,3026,3027,3028,3029,3030,3031,3032,3033,3034,3035,3036,3037,3038,3039,3040,3041,3042,3043,3044,3045,3046,3047,3048,3049,3050,3051,3052,3053,3054,3055,3056,3057,3058,3059,3060,3061,3062,3063,3064,3065,3066,3067,3068,3069,3070,3071,3072,3073,3074,3075,3076,3077,3078,3079,3080,3081,3082,3083,3084,3085,3086,3087,3088,3089,3090,3091,3092,3093,3094,3095,3096,3097,3098,3099,3100,3101,3102,3103,3104,3105,3106,3107,3108,3109,3110,3111,3112,3113,3114,3115,3116,3117,3118,3119,3120,3121,3122,3123,3124,3125,3126,3127,3128,3129,3130,3131,3132,3133,3134,3135,3136,3137,3138,3139,3140,3141,3142,3143,3144,3145,3146,3147,3148,3149,3150,3151,3152,3153,3154,3155,3156,3157,3158,3159,3160,3161,3162,3163,3164,3165,3166,3167,3168,3169,3170,3171,3172,3173,3174,3175,3176,3177,3178,3179,3180,3181,3182,3183,3184,3185,3186,3187,3188,3189,3190,3191,3192,3193,3194,3195,3196,3197,3198,3199,3200,3201,3202,3203,3204,3205,3206,3207,3208,3209,3210,3211,3212,3213,3214,3215,3216,3217,3218,3219,3220,3221,3222,3223,3224,3225,3226,3227,3228,3229,3230,3231,3232,3233,3234,3235,3236,3237,3238,3239,3240,3241,3242,3243,3244,3245,3246,3247,3248,3249,3250,3251,3252,3253,3254,3255,3256,3257,3258,3259,3260,3261,3262,3263,3264,3265,3266,3267,3268,3269,3270,3271,3272,3273,3274,3275,3276,3277,3278,3279,3280,3281,3282,3283,3284,3285,3286,3287,3288,3289,3290,3291,3292,3293,3294,3295,3296,3297,3298,3299,3300,3301,3302,3303,3304,3305,3306,3307,3308,3309,3310,3311,3312,3313,3314,3315,3316,3317,3318,3319,3320,3321,3322,3323,3324,3325,3326,3327,3328,3329,3330,3331,3332,3333,3334,3335,3336,3337,3338,3339,3340,3341,3342,3343,3344,3345,3346,3347,3348,3349,3350,3351,3352,3353,3354,3355,3356,3357,3358,3359,3360,3361,3362,3363,3364,3365,3366,3367,3368,3369,3370,3371,3372,3373,3374,3375,3376,3377,3378,3379,3380,3381,3382,3383,3384,3385,3386,3387,3388,3389,3390,3391,3392,3393,3394,3395,3396,3397,3398,3399,3400,3401,3402,3403,3404,3405,3406,3407,3408,3409,3410,3411,3412,3413,3414,3415,3416,3417,3418,3419,3420,3421,3422,3423,3424,3425,3426,3427,3428,3429,3430,3431,3432,3433,3434,3435,3436,3437,3438,3439,3440,3441,3442,3443,3444,3445,3446,3447,3448,3449,3450,3451,3452,3453,3454,3455,3456,3457,3458,3459,3460,3461,3462,3463,3464,3465,3466,3467,3468,3469,3470,3471,3472,3473,3474,3475,3476,3477,3478,3479,3480,3481,3482,3483,3484,3485,3486,3487,3488,3489,3490,3491,3492,3493,3494,3495,3496,3497,3498,3499,3500,3501,3502,3503,3504,3505,3506,3507,3508,3509,3510,3511,3512,3513,3514,3515,3516,3517,3518,3519,3520,3521,3522,3523,3524,3525,3526,3527,3528,3529,3530,3531,3532,3533,3534,3535,3536,3537,3538,3539,3540,3541,3542,3543,3544,3545,3546,3547,3548,3549,3550,3551,3552,3553,3554,3555,3556,3557,3558,3559,3560,3561,3562,3563,3564,3565,3566,3567,3568,3569,3570,3571,3572,3573,3574,3575,3576,3577,3578,3579,3580,3581,3582,3583,3584,3585,3586,3587,3588,3589,3590,3591,3592,3593,3594,3595,3596,3597,3598,3599,3600,3601,3602,3603,3604,3605,3606,3607,3608,3609,3610,3611,3612,3613,3614,3615,3616,3617,3618,3619,3620,3621,3622,3623,3624,3625,3626,3627,3628,3629,3630,3631,3632,3633,3634,3635,3636,3637,3638,3639,3640,3641,3642,3643,3644,3645,3646,3647,3648,3649,3650,3651,3652,3653,3654,3655,3656,3657,3658,3659,3660,3661,3662,3663,3664,3665,3666,3667,3668,3669,3670,3671,3672,3673,3674,3675,3676,3677,3678,3679,3680,3681,3682,3683,3684,3685,3686,3687,3688,3689,3690,3691,3692,3693,3694,3695,3696,3697,3698,3699,3700,3701,3702,3703,3704,3705,3706,3707,3708,3709,3710,3711,3712,3713,3714,3715,3716,3717,3718,3719,3720,3721,3722,3723,3724,3725,3726,3727,3728,3729,3730,3731,3732,3733,3734,3735,3736,3737,3738,3739,3740,3741,3742,3743,3744,3745,3746,3747,3748,3749,3750,3751,3752,3753,3754,3755,3756,3757,3758,3759,3760,3761,3762,3763,3764,3765,3766,3767,3768,3769,3770,3771,3772,3773,3774,3775,3776,3777,3778,3779,3780,3781,3782,3783,3784,3785,3786,3787,3788,3789,3790,3791,3792,3793,3794,3795,3796,3797,3798,3799,3800,3801,3802,3803,3804,3805,3806,3807,3808,3809,3810,3811,3812,3813,3814,3815,3816,3817,3818,3819,3820,3821,3822,3823,3824,3825,3826,3827,3828,3829,3830,3831,3832,3833,3834,3835,3836,3837,3838,3839,3840,3841,3842,3843,3844,3845,3846,3847,3848,3849,3850,3851,3852,3853,3854,3855,3856,3857,3858,3859,3860,3861,3862,3863,3864,3865,3866,3867,3868,3869,3870,3871,3872,3873,3874,3875,3876,3877,3878,3879,3880,3881,3882,3883,3884,3885,3886,3887,3888,3889,3890,3891,3892,3893,3894,3895,3896,3897,3898,3899,3900,3901,3902,3903,3904,3905,3906,3907,3908,3909,3910,3911,3912,3913,3914,3915,3916,3917,3918,3919,3920,3921,3922,3923,3924,3925,3926,3927,3928,3929,3930,3931,3932,3933,3934,3935,3936,3937,3938,3939,3940,3941,3942,3943,3944,3945,3946,3947,3948,3949,3950,3951,3952,3953,3954,3955,3956,3957,3958,3959,3960,3961,3962,3963,3964,3965,3966,3967,3968,3969,3970,3971,3972,3973,3974,3975,3976,3977,3978,3979,3980,3981,3982,3983,3984,3985,3986,3987,3988,3989,3990,3991,3992,3993,3994,3995,3996,3997,3998,3999],\"xaxis\":\"x\",\"y\":[3.9134952571706085,3.9122972348358607,3.9086652320275004,3.906852475125991,3.904127216941742,3.8989603339114858,3.8929486374075175,3.8936921693850017,3.8863153263972885,3.8849473147204456,3.880003544617751,3.876234172947939,3.8672741771257755,3.861610011661912,3.8600336939704154,3.859771717625767,3.846657864429052,3.8458064222921653,3.8382576023608603,3.8261605263104643,3.8253561395779982,3.814016259379642,3.80027354729667,3.790438681789223,3.7791204295755136,3.770899893474894,3.750134695600187,3.7228243994517287,3.7108510278989293,3.696798622903689,3.6747296531362794,3.6450801484893205,3.6001981833836076,3.607821761810663,3.535158840734504,3.5190088595994404,3.4902819037491946,3.4524876965467426,3.394393599823519,3.3171666243349667,3.252721697386243,3.1973291487191924,3.120151728164631,3.061597370401379,3.176948827350133,3.085842601336762,3.0159614589476362,3.006338891771958,2.93415060682931,2.847217055961535,2.806083280461622,2.7238682555600287,2.718453077701982,2.651885731038285,2.579143760013234,2.4991707838332236,2.4800229513928445,2.506059534295056,2.4293675402479313,2.4565727644052067,2.350089116262528,2.344231380770209,2.335640571849823,2.2367884400611686,2.2657112063987874,2.0873229255989125,2.1197548912039696,2.1913359733090276,2.084339253773149,2.0752427264519024,2.1228037563639304,1.9595270117598738,2.0226343789779095,1.9727813878072986,1.9561438531717745,2.0697495651088085,1.8504706731274327,1.8783781992529605,1.8996716514970018,1.900351859671284,1.766634360055967,1.918165162637889,2.063256355846616,1.725948764359242,1.7613986592001365,2.009056469542145,1.6399875380941924,1.7345962168985856,1.6980722511215025,2.040388223679089,1.9286497620479324,1.889994518869621,1.7624049061456284,1.7606402522008806,1.778169182923642,1.6299036778541147,1.733470321316657,1.6323888512270242,1.7499699572510814,2.028734516575252,1.6822969221402797,1.688627272360403,1.6956777595517973,1.6904453888380533,1.6042500899640988,1.612346336054726,1.6038325530533362,1.6131011753115243,1.5699656079300734,1.5647512991889028,1.569179833977262,2.0514098306503152,1.504237279096941,1.5221973076887427,1.5157297867995787,1.5203171117855716,2.0999156064052746,2.1262819233552315,1.445171269239066,1.484236097990221,1.5525586780070029,1.4469213117566675,2.0222294730436845,2.0386545598343115,1.570836190825157,1.9770347962996015,1.4569276381080798,1.5107995596727628,1.4519848972147327,1.5001085752358585,1.4615773419267901,1.509193503845525,1.4419750106955285,1.549163457319308,1.4397491104838789,1.358698057112809,1.413735829168281,1.5601225375105838,1.3218472080351031,1.9773073862141501,1.3684381248882747,1.9250918314833527,1.891603281244548,1.4417519189439008,1.4175157799937594,1.6170333165368769,1.4436668405239603,1.7556474501535373,1.428333008369566,1.5461520515872689,1.5421038139519592,1.8410018388581864,1.7572570072074747,1.3472457667753068,1.771243610510518,1.4959868554548543,1.6862618219397592,1.3796695719405605,1.5469193321688488,1.4501437786732627,1.4885694356242896,1.3492878049897465,1.630785219267544,1.4933982313409255,1.3633416990894207,1.4361623108554444,1.5495006851997335,1.4324038314210512,1.4399022851851293,1.4293169455490455,1.525105752032998,1.4146272936637985,1.2653034704580013,1.2833607689800313,1.3822805105368747,1.249795109240651,1.3354676609984502,1.3623253441058587,1.342038536129053,1.488113036946616,1.3896747886030862,1.2912223238008087,1.2153896468567633,1.3565305838872117,1.335664559504325,1.3513385598013006,1.3266223827755512,1.3488034313403383,1.2284459924857876,1.2748471955333915,1.3292043496666963,1.3825476916921267,1.5564822949081698,1.223815782697668,1.1398200319756435,1.5849131004133836,1.2014663659973044,1.3423103640802385,1.3023091288921527,1.3505446381241635,1.4785068812896835,1.240818411094155,1.4327221290184737,1.248426768399686,1.1614752698037607,1.2122803217370173,1.219047428342326,1.257040706453679,1.1061582877713145,1.2459041534764745,1.3577081870780927,1.185833193786313,1.1239974965472996,1.1128457633208866,1.2494355651283744,1.190535383521282,1.0129225847184304,1.2774939396369958,1.2083936580296224,1.4821497632571323,0.9909428182696185,1.195600182824072,1.1950082601215686,1.1621322427124072,1.1505730370731766,1.1947524968053935,1.1846448482378604,1.1459518097118464,1.1575403340624195,1.301120724168243,1.2105883499707017,1.1086602661573184,1.1824367419663417,1.108092993202248,1.1017034767946456,1.095591005452487,1.2887344305254391,1.1938708006948853,1.1454736479827088,1.0590913811836824,1.092329832004288,1.1418242900914382,1.0563357313896469,1.024172829676532,1.1607342560931468,1.0412698687764084,1.1293073947624093,1.1267916423173534,1.0506573801469439,1.1073144359760998,1.0765855284283596,1.2353410952059314,1.0842356863310272,1.272491480546599,1.1778430658219055,0.9711542659405407,0.9498298120663722,1.1215085587986322,0.9040925679613219,0.9034835724213691,1.0867336983437352,1.1800525448867045,1.1192770962620155,1.0627648735903161,1.1583949625746668,1.2469799022938923,0.9715960370671768,1.1915313639312775,0.9656752269073927,1.1308356851938226,0.9268786601162597,1.3583198607576623,1.0606557518221345,1.05375741776191,0.8508943476998315,1.120359616969185,1.1400435462373368,1.160978082138309,1.0715409648356846,0.8550962602788307,1.0615749492586346,0.8583417051944802,0.8776496663133997,1.0745782094508178,1.245722014169354,1.200719605162147,1.1438952131282911,0.8598366232480635,1.167452828796013,1.0573692708038935,0.9898528576574421,1.3777162709342146,1.078989500965194,1.2282157255387887,0.8255694087814615,0.9808849622558515,0.9945018280608489,1.0807602254367015,1.086059126593475,1.0304346947905987,1.0795397263291033,0.9573376160184006,0.9396239087700163,1.1054341085722783,0.9424799119250526,1.2360981246809004,1.2540407804694513,1.154667069407399,0.9423300430580621,1.1209027109598335,1.0735887751632138,1.0517181338181445,0.9619498031170194,1.0182084758611867,1.319334562200261,1.0299498714773487,1.2895397637757857,1.2685236334289072,0.9518596996821123,1.0718967555411199,1.023831640277266,0.9715600183271986,1.0365476348522578,1.038578284618013,0.9457968711973712,1.0524793145364306,0.9729964005791127,0.8087130141526542,1.0223188805393058,1.1568869458348043,1.0765513071971435,1.042825418677077,1.0146949936244494,1.0076984157831224,1.079123111957351,0.9735349233597594,0.802618213293127,0.8817591074854942,0.9294297038254546,0.9077866845257074,1.190594664280389,0.8638181484767478,1.003781775876572,0.8400199695754789,0.9791352536396413,0.944700962039412,1.233007431123929,0.9630544029040241,0.9356951878579953,0.9289189526744515,0.9046156087681922,1.0915661181343164,0.8154616166325612,0.9471687822397274,0.9941270640526529,0.9961772390876127,0.9487601903016429,1.1053584122279658,0.8922807858736903,0.9102678986396686,0.7340905070033483,0.7400910688724165,0.8841057201349016,0.8913396570209248,1.0994666688486325,1.0241562014483083,0.9069582954326363,0.9532980509059766,1.2096554711274345,0.9355369405255305,1.2210496795491572,0.9412520049471307,1.043601674890732,1.016737138767911,0.8927468038912665,0.7106237741591905,0.9072606500922884,0.7273608369269723,0.8033667407336988,0.6447495415038564,0.6707253919142335,0.7625347803000979,0.6632900406951057,1.4268195941693613,0.7496750189000859,0.9538967046303832,1.08171058357502,1.0642124834940772,0.9159378276479957,0.9044565321244976,0.9463834438674136,0.878603941275915,0.8835686843751246,1.420148245776674,0.8393251231098613,0.8447575619656652,0.9941423204524986,0.7939671893776917,0.8480740759309671,0.8931081242152189,0.7309813751495354,1.2907394094741755,0.7078103246385418,0.6379407032751077,1.1424234100021362,0.60621944060607,1.037512186365905,0.880813495944148,0.6688969671968963,0.8836666575984944,0.7617822887490489,1.2350934218961245,1.2700479185211835,1.1060589964132606,1.0311168840162992,0.8399694251639462,0.7859923888793046,0.7772017508185638,0.6774677348388956,0.8164363092332863,0.9538991980275267,0.6369340339491973,0.9424306373116337,1.1373291654790365,0.9237107845344747,0.9064065009895891,0.7958320162183053,0.6410414096942552,0.945848082941295,0.9730461179730968,0.840400436245889,0.6432676778724724,0.9366023326703359,0.8347398617337737,0.7878590410699561,0.5636425237567555,0.8900037365843645,0.8942437160153167,0.7937336817323848,0.6923538278015906,0.8238571165717354,0.800238772985874,0.7568620653807046,0.7151335019072986,0.5894652431294576,0.5935591993041399,1.303819427883812,0.693223528183872,0.6912630088144429,1.2548168493497063,0.7040691392621039,1.1165462695662476,0.954790125565854,0.6403782376995713,0.5983751785289467,0.6320911771234724,0.7536161596419514,0.7119118108506619,0.7484017206225025,0.5904913374838184,0.6386724475710788,0.5807197709122642,0.5494911826921189,1.0942137667208656,0.47776259111607994,0.8548696285572943,0.6398791957467176,0.3617371117079341,0.8412700310074119,1.0508009729846575,0.6654064268945623,1.124465256630439,0.7727028762990031,0.7138569663255732,0.59966228640785,0.7006903180039151,1.2023980282352698,1.1940545282428918,0.6722037603002797,0.741969279695713,0.6360917510898756,0.9451861421412417,0.8138380659416653,0.8135120233272858,0.6373071119259531,0.8504593823225366,0.6848742151064959,0.5727537342573978,0.8577269107005795,0.7236201888748315,0.9250819769668628,0.6587107366376013,0.7380024608613356,0.9116961978031599,0.7527234684972406,0.7188211571107903,0.6204762404528057,0.7584463379869595,0.6273484516999694,0.6056512320196338,0.7055179790887276,0.5352356927312957,0.7264964149142703,0.664922436070253,0.6863232057875625,0.48759338850537476,0.9103001207883423,0.416418126370185,0.5293514780084185,0.7678913667094218,0.6004281531379475,0.7826199096354127,0.37024715580709533,0.35513305395703637,0.6537612358055811,0.30373465873708727,0.26802918995609476,0.5021813224154528,0.7455250729442762,1.2211684479107006,0.7920424865705709,0.7400704004609997,1.156954661681873,0.2177242955088245,0.6299197867844817,0.5551751551898783,0.7106964764938898,0.7078416603135179,0.4711914853967425,0.3588337119167369,0.7942654301570515,0.7888455541668918,0.4388678313008382,0.45003651934788264,0.45403960155282475,0.6197951764504612,0.7189079254247984,0.48459441193359,0.4526210777347811,0.44110497751487454,0.49050284775957287,0.4557750420341127,0.7011321609528247,0.36400113649029775,0.35189502894835456,0.34159132939903786,0.343666920920074,0.8938775637602243,0.29837312395527105,1.0346294593572838,0.5854873639357883,0.6855375655947907,0.5366886896764181,0.5240538514103248,0.3022826233494327,0.31509256329328306,0.79656654551895,0.2554010261314033,0.3375523198294269,1.0584397733715485,0.7906999194213578,0.992737161001149,0.2478441343660413,0.7116380409645121,0.6632464511204084,0.7785037724289741,0.2767223580679968,0.9156138573678364,0.4837561401929006,0.30055398554995705,0.6125147846761572,0.3380028427565838,0.5761758972314944,0.7776717539531744,0.3333036623360732,0.5008929283973381,0.3215269912396835,0.3249886135138031,0.36934990129023,0.594483483580476,0.2906570950344282,0.5800363978432856,0.43658102727027714,0.519207572986964,0.8395111507820154,0.5703445659935518,0.5349469127096145,0.7305904118136677,0.5091764897088515,0.6417183910942703,0.5162129523968081,0.4351089632559214,0.4231442602443976,0.3473545561424654,0.2873086630688238,0.3186483700527404,0.7605463443964038,0.24692798476870914,0.7842713481888508,0.23838992885325086,0.23109689003146974,0.21268773048081502,0.5979925137421884,0.7137441691535368,0.49581882480035044,0.5862109697502311,0.19294001849641823,0.3480213573587412,0.5935894987920776,0.6623663378173408,0.36318958797813883,0.6268181679136405,0.6295344003469623,0.27294053222841874,0.48856256571939827,0.256354554636104,0.4408929736582081,0.31599671478486063,0.5636775675170496,0.7059927508762668,0.5981659065875098,0.5553149360305435,0.2533895763940178,0.483741876009369,0.3691420433979243,0.32051094119664003,0.2787312778902282,0.38795915759124944,0.22503326541430074,0.38468826138080187,0.3208913036456129,0.36064962514912813,0.1872303945333396,0.34075461426951464,0.3419452300168131,0.44471516467285205,0.31359465688256616,0.376859033654223,0.3321648444618218,0.5115611972510714,0.2106494943428109,0.19822283856921655,0.48537184790520005,0.4341046334678352,0.22225391169404746,0.2991117860366314,0.36125708917995036,0.23028495086744138,0.40021813613996726,0.19977241985217323,0.2185171449155643,0.41123763018694676,0.3973150588383224,0.18315221617016997,0.3187284657449758,0.22875249489893526,0.3624767374497512,0.23769686386436423,0.19529617306313818,0.22211102997659307,0.255813663070352,0.23972496560580542,0.1331109318605268,0.1720059761748814,0.1522681094046558,0.13727858062592768,0.250852010502394,0.10661802120178365,0.291996042942012,0.1823006388791253,0.14847339012044514,0.09626046482745199,0.2524111206755904,0.09242456386456306,0.10308290692332314,0.24366748935542795,0.12281529083858822,0.11503849665424828,0.11182278242674389,0.19226227993342593,0.09420412603355817,0.08012513390269632,0.0709036019388192,0.10118297612203564,0.1697428707438372,0.10525441913613871,0.12066923089052617,0.12543522879674202,0.04308441800795089,0.3289378682516373,0.22905630633070811,0.032473075582823085,0.2168770954341898,0.035024634276197314,0.12572979823846717,0.07037379122075146,0.09607003490502469,0.10826871333146466,0.07857326014057989,0.059871768437683284,0.07998041691299426,0.07884552321960528,0.0855615159741246,0.07495208045608415,0.08440772450574366,0.07915843437858952,0.04960210453464776,0.11144239234112635,0.03498774974959741,0.09614202818634421,0.043708820866134854,0.06759454766897462,0.04677200815403425,0.10932462230187612,0.03528730684545776,0.08008528189182687,0.06343741570464925,0.059743272500911146,0.0703052085440578,0.03960004988702246,0.0436096621222997,0.03996384066382479,0.022425515816734833,0.1166600463095222,0.05362446642998317,0.04538130255259299,0.01639676153583587,0.04328045753384881,0.08623116737908029,0.04511068128077617,0.04977291603580967,0.038276830739929636,0.028451553105670102,0.026178454644516867,0.03128908905051346,0.03962088128577401,0.03185115017929099,0.025876198623515576,0.034454767937237694,0.0330553147247815,0.051543751719184135,0.0248133984480914,0.04668432779018156,0.03875412339317673,0.03705555382719873,0.03777659205625328,0.044111996481000816,0.021890405457776603,0.04876068695281051,0.018222980276656683,0.03615544072008177,0.015399705251382437,0.017634714357852167,0.03379658839940245,0.060566384005956764,0.014109046295762886,0.03224010557496128,0.045387598565879775,0.04730127863200554,0.024419029046575738,0.1166149187645508,0.03201704045752718,0.03510716897500322,0.011869767996443296,0.014250133602240263,0.023052622071751475,0.03481778616322917,0.03754423287473507,0.03232727980393991,0.03400958952407719,0.042789444354163986,0.022832172694644694,0.01681171042135258,0.018201013321673908,0.04482693028004931,0.02410594863971823,0.016036116785268173,0.030990867062565104,0.011698839783674229,0.017175925529589617,0.040274397098534635,0.02098723746903546,0.029623104250549287,0.01590599268274534,0.023224288414856853,0.020792875506609753,0.012367399623671706,0.025015480451219697,0.018742778184824817,0.030256999935540187,0.020848324498174725,0.03348937602441393,0.014418079797642699,0.004353123561924544,0.005220899431395745,0.02947032094356489,0.032606919832099145,0.009360755338373503,0.008596524913884207,0.07250431312821318,0.03755524799578232,0.05252947560040701,0.042160035538246335,0.015394698262527583,0.01809716809883579,0.025021850142731495,0.013212047468675152,0.031742748213749894,0.028243455182279442,0.02632810640643564,0.03187932643439237,0.03269523004425642,0.007931677203276897,0.007627636657081719,0.030992639526632962,0.039787454929746,0.017991116253468702,0.029046247531686987,0.018085101657139804,0.057473934401379385,0.042651410870937434,0.03555639123423668,0.04886092450570306,0.015203207437366379,0.015605852295060488,0.021605057514326564,0.021724669887651572,0.017739905772315073,0.01984430918218196,0.053820549837836754,0.0133255885594874,0.024132883151905593,0.050060729078864365,0.013120236882152324,0.014436733044287293,0.007871294990418014,0.03274164510007453,0.0045984635333363565,0.040181497261196915,0.004758868468109576,0.013331657048915882,0.006866303432127959,0.008206807695130106,0.04402571745145718,0.007389856615452772,0.013602237843209963,0.011397734060140394,0.01768716207937783,0.0047970967726515025,0.027126081143797876,0.014006310082523768,0.014618554264869747,0.014637639712050248,0.00901389282603473,0.009033549307852471,0.018023488311724817,0.010865057271078712,0.015180069191150053,0.034689971883583984,0.010772868636506772,0.010642712812220338,0.009372917569395192,0.013403397477032484,0.02062121912299463,0.006495470066911743,0.017105048719201352,0.019779850468378737,0.03428252807915617,0.011364049426200723,0.017619202142532257,0.003873421377613436,0.014041034583811337,0.007057396049805179,0.00764111752275339,0.017291009666243116,0.008952322842891347,0.006975195538560755,0.015638016519653134,0.012302671646576469,0.007336234776054421,0.008719881747520806,0.0038778475642709032,0.019316587093398112,0.015550548033018636,0.011735754385926412,0.0016710634964347524,0.009670284265181552,0.006045133882764222,0.006695664882876996,0.00926355838591091,0.006532213496803813,0.0014472604532019305,0.011235176845059171,0.0010769541385510658,0.010504467865529584,0.023996067108429126,0.015272011396815818,0.0069476127055544575,0.001933162301387553,0.006344456811588684,0.01263726209428748,0.01045129067019443,0.03137681066722369,0.002958484398176208,0.0040227529951165995,0.007560312888305579,0.005967805729322734,0.012880428466407055,0.010400636630302128,0.004437756338751642,0.020375811647728566,0.01560803046724521,0.004697960689572811,0.009691829263285951,0.007867543876664503,0.010628315003364835,0.016353866530733844,0.004099648647689076,0.021178890712943016,0.002379023336200988,0.012626018438358377,0.016218834409250496,0.012026010495079573,0.018780741225377276,0.006293481957637158,0.01055143930799092,0.010198831134780189,0.005173096291797749,0.007381725928623924,0.005363266434165897,0.0031428463735914793,0.004930802364551692,0.0057116527267441425,0.00690102942368051,0.0015932351816892083,0.04213436349017741,0.017162330320581235,0.0020668846121543174,0.016252738006309095,0.04321846004917505,0.014047114987733172,0.013339455202714432,0.02252372054405228,0.014329843644948537,0.016429139989124757,0.016683365667430342,0.005036935651037892,0.004754738184807188,0.03738264121497832,0.01521702111931457,0.037665369388756316,0.00542053564848619,0.02313901926107989,0.02124922065104423,0.0122628865108637,0.008231152657978615,0.017338440537713752,0.009324015841237366,0.006139979062567101,0.008141459145355636,0.015396718725489813,0.00972523882239592,0.007863940391550611,0.00994830255364056,0.01419064433624936,0.02840252128704785,0.009723816370280016,0.03575019094180637,0.0055198089590949686,0.010158467111252182,0.026019353652890865,0.009866307467133722,0.002883053335170888,0.012879897292423096,0.013663421562784238,0.01026669254208602,0.008367604503719012,0.010885046814854993,0.005000277344152678,0.008227481170721886,0.00625619131396042,0.002701955839361446,0.004884209269837142,0.0031018531614065412,0.017096464321954455,0.010922720144732953,0.007629970962576123,0.0016863725643465597,0.0022984011068795645,0.009702696883614423,0.00719059728380597,0.0038968287423481332,0.010387773413983604,0.0023735867550556088,0.010371514226215784,0.0028621386694331775,0.004213195117618218,0.010990443675708075,0.00379304791552899,0.006340100311659205,0.004681462867619774,0.004522176351689942,0.003180840870037071,0.02012162347602396,0.0025416002895206503,0.005246345444297342,0.0023146615919173207,0.008831445252736238,0.0016621754760569644,0.008663828442728637,0.004078099906318661,0.01668691133477921,0.010902185630574317,0.0008370540491734326,0.011636852088226582,0.0027283211114701,0.004012547929052491,0.0028898511725626457,0.0060071028392580435,0.01614905019736902,0.011229020441562989,0.0022966612348768387,0.006542461445674986,0.0023480756185193553,0.006118893317068362,0.013098944007095867,0.007408238377740172,0.014329535188499757,0.0013705321658108122,0.002038289625630585,0.00929638016803586,0.0011844758425870248,0.0008237298219753603,0.0005815676275825217,0.0028495847638883957,0.012326652061081066,0.018098119555009555,0.0026470533229915917,0.0027425319691969366,0.0016219546889399122,0.0025911077323188423,0.01231099067814291,0.013767669321130566,0.018603860220563435,0.02798269299583069,0.00954968963834927,0.001350070224320828,0.019765936844120997,0.017947842980248353,0.005242917668675838,0.00366938821634338,0.0027811206283884075,0.004027540657869886,0.007588581218273731,0.0224305841127007,0.012478370534836764,0.008640345772204194,0.019907665638326928,0.0038573810151103457,0.007625551455845685,0.010374723232075153,0.004012515459332437,0.01078561697046855,0.003203977421147715,0.027970328077856908,0.005716528755778877,0.0012828763696882063,0.02181452364308205,0.004678189024467024,0.004880110506628138,0.019353366029720532,0.005205260720682786,0.0007763009050983984,0.025449317815426215,0.0027901054046358927,0.0020352468562297708,0.012897296212906577,0.0009654583360983439,0.0019135633527218314,0.002890552818358263,0.009274078063350741,0.002352429863432619,0.00108021885711281,0.005528153445290671,0.0027258728281546935,0.0046933965041641105,0.0058839916277686945,0.0027208808755931676,0.01001983246127932,0.00534509656013325,0.0013288014652738166,0.002980377578017878,0.018250099381152397,0.01044002488799191,0.005847403935585944,0.003466714151417507,0.020005136985753683,0.0023477379603300728,0.002636756233704931,0.00033415203595029845,0.012007361321558628,0.0028405045607174995,0.003593196961992017,0.006673795475477918,0.002507680802310123,0.00452403430558698,0.0031898846124914122,0.0128105780481645,0.0022939413817562064,0.003282032232989703,0.01072311494668467,0.008570016984066918,0.004042382863590555,0.0029821938618005287,0.003616928209346688,0.00620139033471233,0.017724883016748225,0.004314774998642638,0.0032528197117627188,0.0014632878442176812,0.006736871414341188,0.007518790284806364,0.006279996132301412,0.0003775807395612515,0.02437897742818918,0.00045328922664512016,0.00488470106941517,0.0019138201050499985,0.002458697021559534,0.005360871986420067,0.0017254939843168171,0.009390751951642861,0.0021447396694352023,0.0027039714576570072,0.00189655429084804,0.014372489481767574,0.0017090931886319521,0.0015460529928167602,0.0047396096124490104,0.002699198884416893,0.013895376531337687,0.0028657447190198948,0.004910590738246665,0.0029139653951294657,0.0011145465156835236,0.011098953523094476,0.0045208865550922656,0.005339526622030141,0.005384692565990579,0.0010256966373830365,0.004184736220077459,0.006175716438733516,0.004452873116077671,0.003237158620600936,0.0013852527516845384,0.00284691161939348,0.004011879331427931,0.004220734542812609,0.0006421989272325113,0.0012636210783240715,0.0018590342145738438,0.004157350770370584,0.001347115659339143,0.0024712379125541224,0.004479766466543152,0.0037349090647585716,0.0006518956110130568,0.0016221361338909432,0.0008013864936379806,0.0009287135492272335,0.00047433081962714574,0.0007242524999297223,0.00030062111067028245,0.0007398634990017777,0.00044414024556721965,0.0005405851856723484,0.012889403451826164,0.001943758022957254,0.001084141120885015,0.00026312797233246686,0.00032003535476439156,0.0014730493691069739,0.0007629177531769153,0.0005710481254454336,0.001061029533010688,0.0021009522950255935,0.008729935296891596,0.002929958963637391,0.000906778615595014,0.00037169494032201854,0.0008142289542474573,0.0006418043780470845,0.007050039108225497,0.00014017818292451077,0.0008723272809657347,0.0006810339762168564,0.006511724924920441,0.0024725152287491574,0.005679829116106065,0.005030480882978719,0.011887284356212124,0.000783500935729326,0.0014410791938819746,0.00019380843216113445,0.0033846689874838225,0.00870069788542658,0.017426900611336175,0.0025162873768781267,0.0020960392112163895,0.0010372069964628841,0.00217792100023701,0.00303602022769986,0.0028261911380494495,0.00905257632059472,0.003560191526604097,0.015438950232112714,0.002489963211998868,0.011785637829618709,0.0028367142471023565,0.019301653126315717,0.0003394002820314645,0.0033376211411190256,0.0005529819962873406,0.019600057061795906,0.00041433826137929396,0.009598757838164242,0.006101570636261714,0.0024964188558517083,0.01569662253431567,0.017462224310010856,0.001657790366424523,0.0024638687033140083,0.006639030588074518,0.006378579131162498,0.001964513560235881,0.012253164892991233,0.00813528921418847,0.006452946726259294,0.003510149703884476,0.014204441229542716,0.012456700046372764,0.002697257608979736,0.001382660557404776,0.006408183904281378,0.0013053320595638456,0.0019589493716244636,0.005906741289482646,0.014661509076257052,0.001345213062518642,0.0036008889052423776,0.01870345339491159,0.010255627774318396,0.015894252805003936,0.001580351796249451,0.0012566400820509002,0.0005143364323630325,0.0017526613034016634,0.0014585223625785434,0.026035196356947427,0.019296677478557265,0.005834899915034957,0.013676517631321898,0.007833715385608422,0.002920992692692084,0.002883593662752071,0.019236833285137003,0.007809334875281362,0.005987843669293729,0.0009841375605127989,0.020885444695511474,0.005439427746914895,0.008749752556076124,0.00877104104112551,0.010099876740779832,0.003156999196668195,0.013188138929705545,0.0014752141143336433,0.0038106121633943247,0.005199250359013016,0.016299740838240498,0.010606711947257064,0.004803392735498029,0.010319758620108624,0.00384422989321348,0.017798840212448735,0.018328914003332763,0.004137408603169643,0.0038175520088424876,0.004818449613242884,0.018357791021385773,0.009584787197483733,0.0018876232095658588,0.0015725153060538394,0.0010619084274763654,0.0004842266203183585,0.004909035810786758,0.00212857524557918,0.007380202669971806,0.010623729121489562,0.0007421266416331577,0.0018767118027489004,0.010395665087050535,0.004853917545244888,0.0063062378006518705,0.007859134624064856,0.0004349507994766322,0.001627170931012748,0.007702469713027566,0.02337808649878631,0.001877891360584784,0.0026861858891117432,0.008952887180052257,0.002573526164730553,0.0012111921766472032,0.006683382535702106,0.004093179345825122,0.0034090791691012423,0.0005386456440939055,0.003511421228986867,0.006912357955844291,0.01611384191932296,0.008110740879578977,0.002759722062667235,0.006305972741208046,0.002658166209754802,0.002004914988837456,0.010847234462611976,0.0027641396296845706,0.0016189796176650558,0.0016496912362439077,0.01281495593197134,0.0019748425260810135,0.0013321671963548937,0.016672787701515236,0.0019402249404331098,0.003454281647957124,0.0077728780184266434,0.021095325449184896,0.0025404202207430027,0.003995239513541822,0.001392247756422547,0.009385942043259125,0.007830459546955874,0.0020343814243222484,0.012219987220028795,0.004455864802676456,0.0011865930899857787,0.006595725936658548,0.005064975602480789,0.002519417369643755,0.002288920962804906,0.0006844440719017521,0.001269131812929727,0.007606268866370499,0.0026535408783352793,0.0027353699989893033,0.0017967108430337751,0.0016769184814947103,0.0028703813509004155,0.0014255151268724212,0.0014691921002628419,0.006445968815473412,0.002074583250211943,0.0017932087296626598,0.0005300401481863397,0.0006851983728092421,0.0012631918013845374,0.0033695422284942883,0.0009408306913112196,0.0030656239605806887,0.0037281767219562623,0.00586620122513381,0.0005527229504525906,0.0006405815331809379,0.0004574331328302293,0.012498019936830421,0.00047002605436411576,0.00785020491252178,0.0039644431370904325,0.006879167347835891,0.0021745220527324485,0.0010229929574508162,0.0023347816574986126,0.004983583701051284,0.001225773610776585,0.01003235850663121,0.026884508155768917,0.003644516068925039,0.014209769996700062,0.00212694658906313,0.0026373820785812714,0.0018162147167985758,0.0005042996176676799,0.0017120324991238473,0.0026238120440875536,0.00660903423790889,0.0014736581654486193,0.009693515889804128,0.002583260921538399,0.010751383132875453,0.0015075586712569589,0.002847438347225761,0.001892276085416085,0.007547007701517346,0.0025210334781046086,0.00477054838156234,0.0009354362692231351,0.0012898948231216756,0.002243954925985851,0.0036141643171365683,0.0039397277957074,0.01031788766665328,0.0036900541863436366,0.0026899808773599453,0.0016167778002590654,0.008076189445655675,0.0026432179799495007,0.0010650853861542938,0.008481633834150706,0.004656507067706189,0.0015723013273991886,0.0013201367231873856,0.0009505538408176276,0.005718872423221775,0.0010218650966176673,0.011709066371381919,0.0008309179113746865,0.00017906151662129354,0.00016566494983354758,0.00118251949106271,0.0024251789983215427,0.0016188176891297119,0.00033408837221230413,0.0003969648910869013,0.0058746001020793855,0.0004512295194269907,0.0009486569797502009,0.00011660132710225094,0.0001601180249563346,0.0005366324462181259,0.00023097856571203213,0.0025786087421446544,0.00039325584937592107,0.0013924952894329575,0.010416412409157567,0.0026444820752530873,0.006034549901955609,0.000127690779587708,0.0003321322247481451,0.0012854556840535651,0.0011275763828219464,0.0026369761311326135,0.00020991195252441852,0.0021145165465617614,0.0007361962310827912,0.00012494074287415591,0.0014903843887676233,0.00040905957025431927,0.0021683514002091295,0.0010840903659206328,0.00335484833851231,0.0005062302457941801,0.0005565531374284902,0.0026448435014026035,0.012276416054684856,0.0015527509543618436,0.0004204341759772883,5.064779266033721e-05,0.002944734795657673,0.0014072730695078354,0.004568149824081359,0.010678112100010403,0.0026744848937454973,0.0020716980996567484,0.0003385236534218571,0.0020019685299211107,0.0018660668289150703,0.0005143936135773128,0.0007917339213547824,0.0005401197830745735,0.0023669848055983865,0.0018728975513662167,0.009800682007668475,0.0036149873903492035,0.0022747900471959217,0.0004790285571655948,0.007246698539628168,0.00017442364625333892,0.00011877617609822472,0.0022151604503678557,0.008356912524096243,0.003989388385828227,0.002650700862256959,0.0009449689124446073,0.010148537284504761,0.000694655934969618,0.003800336419338881,0.006912290739502111,0.00020253618088084645,0.0053198993485139125,0.006591717328680522,0.0003579084752414678,0.00042336824712556917,0.0004810311425896719,0.010322603408647386,0.00563917491514466,0.002301244552481395,0.0016099817627456543,0.0012917006551690805,0.001015245149667402,0.005178069966762128,0.015069479139470893,0.009541850818746577,0.0006051150113761112,0.00877158351711681,0.0021553426710340163,0.00887120342768123,0.0017455779448875268,0.01238679035824286,0.021287235876976025,0.006539457220070852,0.0018056201786219735,0.00023999567377131322,0.005100644118301558,0.0017624098674659278,0.0012280656463535095,0.0010657109392792992,0.0007087830628594839,0.00523101065847509,0.0028455905349034976,0.004225299512757618,0.001079292268782554,5.0237588226280205e-05,0.005783863401299641,0.002120313940475111,0.008316892603418644,0.0010882857679112047,0.0007321068189983296,0.000986593189895009,0.0023580289503231707,0.0015035650871261079,0.00037449289521540976,0.010453078452020058,0.0047280910311287136,0.0007297000185215489,0.0009931723097519152,0.008963632007323474,0.0009196298157568436,0.00025892853493561285,0.00017840455855213682,0.00217770161260911,0.0010030918496445984,0.016537696362373972,0.005151335100700443,0.0025493404355460525,0.00034249418029397836,0.0009800004458207126,0.01630221377214182,0.0011007254633964546,0.005603147755264542,0.011926658772097743,0.014847293378418131,0.0006200394276431674,0.0061156804908461225,0.0022252966332325717,0.003157864993195987,0.009204046999451817,0.0018440256882784908,0.006052842340632256,0.00676565113515195,0.0012380772230784548,0.020901123546698073,0.018941875466473086,0.00798042737068606,0.003874346558562118,0.0004907526789964765,0.0025727134542441075,0.0008477077554589669,0.0012460766960552022,0.0010905198535790172,0.01692982329882218,0.004740908078853887,0.0017743051821020816,0.00040172942821003837,0.002096532782474474,0.001416242895444363,0.0009445141633247944,0.0002999454426825272,0.0007115552382267297,0.0030244853200272013,0.010888453490412387,0.001033771036160348,0.00502778978042126,0.0008788483254567382,0.0011555434874606196,0.0011690580232417412,0.0018235036494175121,0.0018685481973219023,0.006039902555778531,0.003238117511408944,0.002214333290520977,0.0038841502160185948,0.0008772472072729979,0.0012465976158892787,0.0007411275587925143,0.0021308455826845886,0.005191767327822444,0.006307246318931878,0.007649301551683044,0.0005559137172632445,0.0009396239162040583,0.00024042747025749715,0.0007104432976661557,0.0003450107834830055,0.00022124811315354728,0.0010776531623147567,0.0003677088899387834,0.0004598275554027685,0.000861237620217954,0.0004327441604579865,0.0013849746952495792,0.0007624700221032692,0.0074850981268930585,0.0002763268442720613,0.0041207714656210336,0.0012948374647037174,0.00015457657030434476,0.0010594524866877188,0.0025313205378682513,0.0006269202242751905,0.0004031746313213101,0.00012598601710169319,0.001214103793907272,0.0007587245804240922,0.0009191475315431449,7.670865252955239e-05,8.174022102300358e-05,0.000713933988757309,0.00011184815155018606,0.0020812533853473226,0.002896386691409663,0.001496353698576881,0.0026993481080150265,3.376654793613659e-05,0.0003963352769892411,0.0023564973273601996,0.004525620675880945,1.614105713844261e-05,0.0001373642686014372,0.0017443866877011563,4.2535079394632496e-05,0.00012661398194651027,0.00039155370337914247,0.0004395441449795799,0.00027856969283359637,0.001721664463913763,0.0006017401683199319,0.0011162091359444236,0.0004698650720531397,0.00011668442020792023,0.0007271521724310297,0.000105048766494616,5.519832154267337e-05,0.0004321169510119246,0.00010967508060097096,0.0005647082590987241,0.006247300782896003,0.0062576587889148225,0.0007663916720417772,5.125947376481469e-05,2.2349030327395762e-05,9.714903798220241e-05,0.0005455715422772781,9.668229056351522e-05,0.0003246411304499722,0.00418948027608816,0.001950916509722853,0.0007773269319559293,0.0029616054523619964,9.80915239301668e-05,0.005801825410998119,0.014187354923734798,0.0011037008451414729,0.0020851061454814682,0.0002533914088955099,0.0007755430920649081,0.0003687038207185624,0.007395603990425685,0.00429803511944213,0.0012817004413342727,0.017456350090696793,0.00684453936625823,0.0005946319125642148,0.0038169687206370435,0.002621979513968533,0.0028227064942486302,0.001082135658593708,0.012005745815625163,0.006966475897928089,0.0019050415543708896,0.0007977900374918777,0.006973745607145362,0.003734955996212086,4.9891669648561395e-05,0.00034195067269408966,0.00034808961955426216,0.007590939113560374,0.0008148100191893268,0.0033091091447073812,0.009118315266676905,0.0011929920589341793,0.007393296362376383,0.001543576094069838,0.0010383443132377182,0.0006131803377657334,0.006484262747351245,0.0020995029956748417,0.0166596965011361,0.0032585399865206165,0.0014813201794305474,0.001248403983583054,0.014102089380456609,0.0010401531204977032,0.009716335406521817,0.01009557254853494,0.0007609903231602045,0.00033353981837186766,0.002821367166893054,0.0006671783513025199,0.001175463402109811,0.0012207725323340093,0.007627711851138341,0.0006801033759071462,0.0007354831279709629,0.0008160165938061095,0.003154202234338001,0.0014108513134133069,0.0007044271066841222,0.020832159200630217,0.0035456684995398557,0.0006016050170746442,0.0009912532314453632,0.0007119315830966763,0.0012211331931445552,0.002633317483465558,0.0017963464560750027,0.0015226213873365338,0.0064683105579596036,0.0009239762818980936,0.004966558250805969,0.0005286597157644944,0.04170828514926116,0.02120816177318161,0.01729461455512181,0.012961665044781297,0.00446547462773599,0.0023049103733429332,0.005641140899013763,0.000816802313499753,0.0010228843090647121,0.0004782238592778735,0.0009319293180620079,0.0005689486975168119,0.001692030686528486,0.001618683157540965,0.01706808831120107,0.006641952493302694,0.001774610811012516,0.00042442032575353526,0.013683005620696877,0.0006333810746480839,0.0007496285299119654,0.00040883434870815275,0.0005429862216711183,0.0007038089544242088,0.0056455368061266355,0.0010717261843492128,0.006613727660974636,0.009963360687342201,0.006682723305412818,0.0036514115249559054,0.007090150233040015,0.00026078063566654686,0.0020660244727290947,0.001145113721186083,0.013770022246526716,0.014981504346136997,0.0006261194752396719,0.0029337399023932308,0.021244796347529172,0.0023327385889417717,0.004575751306667244,0.0003588694186200902,0.009608570349839675,0.008338619093378472,0.0006243882229109907,0.00022310185177120594,0.005026470852611825,0.00021930094815459376,0.007798438635424634,0.002376661674472637,0.0034571248180757805,0.0004005367270778794,0.011528340840922052,0.017979262731425694,0.0030247868605530973,0.0006362274630810416,0.0009835521950643084,0.0007256978292212403,0.009271889889461465,0.0002777224531543058,0.002845751627843448,6.054567872255099e-05,0.004696102019378394,0.006708758404209701,0.0004446719571592434,0.0005494461155086856,0.00020886574292405358,0.0007182054792823334,8.209710209273831e-05,0.00026153179947102233,0.012042358329321132,0.0010476627194457837,0.0010594384962888466,0.004100833146547291,0.0012362987849275362,0.0006734868384791455,0.017578186145523002,0.003512943366305621,0.002046150303390672,0.0003874307010163937,0.0005044974182137954,0.0004941305403883672,0.013427749706088116,0.0003804599348217221,0.0001773196572717082,0.0005942167998769398,0.0007000037719270621,0.0006450844613610521,0.0012785021033885208,0.007773407418723574,0.00027694572920323427,0.0014206070742398573,0.0025680281035771173,0.00032622340374218936,0.003911561384458863,0.00013981342264385608,0.002268081987345818,0.000798999315884612,0.0022072104790980913,0.00353753966480123,0.0016065165977388815,0.0006214091612937083,0.012943749653706451,0.0022198262086708413,0.000625543359304794,0.00330980612355181,0.0007239027822012007,0.0008712865530810876,0.0008183588895849495,0.00042927790330186846,0.0003185117271268999,0.0031588453492238577,0.0020213420521905156,0.0016393464254589132,0.00022623623006954568,0.0034375853273040146,0.0003902317169636903,0.0014307465441587308,0.0010188837554555026,0.0034738935302470473,0.00017668215475750325,0.0015751187668864215,0.00044146777881047593,0.0008627555105275809,0.0004577547694383799,9.393405295155628e-05,0.0007678569681172262,0.00015418649884875197,8.934084012737273e-05,0.0003016589970753727,0.000499679511133816,0.00020412835846177573,0.0007923829399343075,2.968688424644083e-05,0.0002598328768165115,0.002999325880640775,6.991843726021312e-05,0.00025331570994546315,0.0010109131824765573,3.1491970960861884e-05,5.8098759463737584e-05,0.0020341244581097468,0.0017013354140714206,0.008136101027650255,2.9646238307415112e-05,0.00012160012523073419,0.0002510377090755786,0.001193914465231748,0.0001138866455397662,0.0005226649263945612,0.00348231411071602,0.00032268547783776053,0.0006674404296370244,0.000939604229728052,0.0020336383482220176,0.002376097002103482,0.00022548576294319624,0.002716015693528503,0.002712618167530729,0.0003708874211503875,0.00021951081442904205,0.00035816129997686785,0.00032225624096688635,0.0044461582049187005,0.00015804612016336614,0.0006795303138755045,0.0001337958327574425,0.0001547855451422205,0.0012395643880360352,0.00238497980156822,0.0008157335430735782,0.0012171083873751113,0.00033780161853156737,9.033916839064227e-05,0.00022250416837379705,0.0016525650312929486,0.00010733686520426841,0.0013688157272705296,0.000618417395549256,0.008584951124823659,0.00015744842752415705,0.0021428286866384495,0.0005000228976371679,7.428196003319423e-05,0.0014172830320313239,0.00014380904223977833,0.00015519341777080504,1.0294185714818742e-05,0.00019133458580271263,5.1252101744248026e-05,0.0004187314823664289,2.5572542003988625e-05,0.00015536937898919822,2.8645579687804036e-05,0.00013084047538854986,0.002019288042828573,0.0007051406041421115,0.00010318052606095249,6.290204265441172e-05,0.00012159510621924974,3.868731276160851e-05,0.0040193164249522385,8.781514718675199e-05,0.0005119098112844145,0.000473714206095501,0.00011783426626212334,0.0013912215857876426,6.281210768561068e-05,0.0001719103131255719,0.0005574603375225044,0.008915557386498543,0.0002311327985278846,0.0006011019787191855,0.0015201492628328704,0.003196724813753501,0.0002949765990707757,0.0013571758193961572,0.00014176225722804326,0.0005781997746561723,2.6509796979391827e-05,3.5803987066182705e-05,0.0007361112341055817,0.000290341642452804,0.004596076192340617,3.697021590846969e-05,7.614685185800044e-05,0.00012304634641130806,0.00016201666731422944,0.001979647056703247,0.0026432944455393394,0.001255144806190347,0.00010126471877212527,0.0001468186083005879,0.00017135427669197128,0.0003540678159287762,0.00017540377419804554,0.0008297933414866031,0.0013968500806425944,0.003693801053560824,0.00024136604921268711,0.00031725340062249,0.0014476064562466994,0.00017414981336257845,0.00031040528576620853,0.00010173035327046392,2.9315494911489482e-05,0.00037830363819147625,0.00036723063437844986,0.0004467777485444778,8.124520167040763e-05,0.0001244543316381716,0.001634626321133501,0.0006898421957294349,0.0006548616245005929,0.001182806465014741,0.0002801846163369312,0.00013243845361336111,0.0005107712419711347,0.0008941645505547328,0.00014728236201898336,0.00016491149728559186,0.00029812005725550955,0.0012652415416734462,2.299337329876922e-05,7.334345391643438e-05,0.00014949693991644613,0.0002453968273855071,3.546261166282764e-05,0.00038844100227097687,0.0014927216062098473,0.002040625694491832,0.0007167194632753296,8.072203264803403e-06,0.0004701187182557499,0.011260961607988434,8.818553500787196e-05,0.0001327509004737612,0.0005962469660076532,0.005527992286468789,5.524522154059305e-05,0.0005605058542671533,7.310716961484215e-05,0.00037114737636845734,0.018208155588015487,0.007718282375461999,0.00034350020971071483,0.0073964424876770945,0.006193696899961635,0.0006335940263664293,0.000489763663186851,0.0005401474280561936,0.002370377172854703,0.0009581922249652197,0.005310060781119852,0.02893761315972071,0.00026126286611193847,0.003689320480048206,0.000316813751152638,0.0006006064721588942,0.0006329723951362042,0.0013851441746227985,0.0016924983532342003,0.005018033726038885,0.00017602820613453625,0.007215248217755406,0.014515873713528887,0.002819886107247983,0.016572938605088468,0.0034967703476653754,0.011961154108755126,0.027267765388412413,3.601065398274376e-05,0.0011446599996818969,0.005991859072283002,0.0017542461628381255,0.0006826929453310922,0.0009655938154466406,0.0020910823860666606,0.003525942100567889,0.005568277923687344,0.0020172344805755764,0.005428171143635559,0.007394248668121875,8.247668765131371e-05,0.001596185909157909,0.0020698583221789805,0.00011356657549986013,0.0004053708254167317,8.831610404755928e-05,0.000576275034322925,0.0012916090861173658,0.0018237459800164568,0.0003345891662109749,0.0009023848211099363,0.002449712993089534,0.00017962454526889143,0.0002989510573408091,0.001137298835757453,0.0007858041936217484,0.005999572084965011,0.0008664120114465995,3.278700594136684e-05,0.001021172756673792,0.0003755741559059749,0.0016492702506918473,0.00015620694137595775,0.00016996189293441515,0.0008519888925103991,0.00301811054541809,0.0008260170140734301,0.0060089527967197125,0.005877714014889963,0.00026242880125235346,0.00019154254478915964,0.0004115122066818673,0.001647666361533437,0.0017696167215994671,7.706530648127633e-05,0.00011497024892374891,0.0031151514194375472,0.00012093340723996903,5.854514030263179e-05,0.0004368484605731531,0.0002351689451182886,0.0007241211844369661,0.0001588632654787463,7.283439449957237e-05,0.00191969939495486,2.097964202033217e-05,0.0005975208858745363,0.0003405396634053604,7.210316817431243e-05,0.002333860332299137,0.0002177929304285592,0.0058689733868862596,0.0013282441575133118,0.0015400281531833496,0.0004499724698129796,0.0001316867587710874,0.00013801720154220972,2.0418855486552336e-05,0.00010045647529786022,0.001044660486329575,9.368843399875198e-05,8.809334604741379e-05,0.0004838426477781009,0.00018914417838865924,0.0003305101325453673,0.005825738382985253,0.006136439395481443,4.2069374422287005e-05,0.008873783078041512,0.0023494043970505403,0.00041786969899987585,0.00010161143361525986,0.0008288468869610899,0.0009061343959137063,2.7538115477416417e-05,0.0009608789147753228,0.00012211836491349945,0.0015729108666106908,0.0010039989260849848,0.0077203877028915536,5.6761107078771286e-05,0.0011853279793395378,0.00012428277641372595,0.0001765091893683433,0.0009376459991184928,0.0022669007084039523,0.00013665688282670456,0.00027996820934805393,0.0008590698250411697,7.35586758773968e-05,6.406000144541786e-05,0.0008702300878599833,0.00041218869248410415,0.0024283112788825827,0.0003595199918099335,0.00024364609595253713,0.0003152909666853723,5.961136654302196e-05,5.948497008305876e-05,0.002383606910265327,0.00011953042380544303,0.00018134027985670803,0.00025578084277633716,0.001270187933072285,8.500360013242054e-05,0.0008733085963921652,0.005517459034192347,0.000789374669662872,7.531280277143844e-05,3.079008482681056e-05,0.00023611859332368449,0.00045069367484977687,0.000436151351013501,0.03131651372058851,0.0013210557139062388,0.002244630243835653,3.261002930786458e-05,1.591558965409528e-05,7.380822235556576e-05,0.00018061862359320253,0.0044321335258840884,0.01739481772265001,0.00179439477729145,0.004058695326108194,0.009071804645168456,3.847009008265992e-05,3.9743325186623847e-05,7.277188323271976e-05,0.04379103177283411,0.0035838886480848674,0.004349653756470326,0.0011964445788144114,0.0010047084465167608,0.00010021135502826191,0.000511927089920798,0.03389999253080914,0.0006351455020172794,0.0010197550281673107,0.005866527372507544,0.010130472996519643,0.0038746348883185863,0.007728911535265089,0.001051751812366185,0.0013944445299081953,0.001034708155163175,0.021985505726928624,0.00019542092821026063,1.950218006539006e-05,0.00014518690246774255,0.00044648661114834667,0.00011538804813582046,0.007538714667410154,0.0011866999910182514,0.03226284115753414,0.000918003117752325,0.0043731364859468285,0.0060268813782504115,0.0005255424915457478,0.0023359593944772216,0.00013257275033375175,1.6626979967806026e-05,0.0007240971346429995,0.00298744390812915,0.005648987087776639,0.0010479948128213964,0.005803804286598166,0.0019595811723250975,0.03116123526117732,0.0014755356885044267,0.0010602791930028471,0.0003403297788281146,0.002237255705941568,0.0001607718479841608,9.386011990160408e-05,0.0007474311685719745,8.890786280782816e-05,0.004873225651923235,0.004180057509301832,0.00016147640964344552,0.0009584286141515813,0.00014648871050189352,0.00026188892158817366,0.0003964939590514667,0.0017257844606697994,6.892078981112374e-05,0.0005024615580011577,0.00039404770570166124,5.944546388327325e-05,0.0002924776344723401,5.994108517916396e-06,0.002546379509592377,0.0003738835577877677,0.00010134891425425273,0.0010625463109931797,0.000566492238154399,0.0002197350579016102,0.0001321671780946904,0.0005143110691626545,6.12261755512794e-05,1.7128863460162426e-05,2.118655797639472e-05,0.0003077714449835169,4.263818835671167e-05,5.821272977218069e-05,0.0026491091551234082,0.006468903048652907,2.336459308674156e-05,6.938641572971842e-05,8.94077601600023e-05,0.00010395898331099217,0.0010588902115241101,1.7720303163956436e-05,9.891759887832932e-05,0.0015400267861669476,0.0001537632457748225,1.1859590806885537e-05,3.75522594385041e-05,1.8928869373584013e-05,3.462018829907901e-05,3.884927144644913e-05,0.00012860306245579322,2.476227770314213e-05,4.225526093053374e-05,3.97530254641624e-05,0.00014155403698410649,0.00012893415403417093,7.1551914445636915e-06,0.0007387948334305278,0.002264494255569265,3.984729448830899e-05,0.00013291180781626385,0.0008302930607793544,9.82636697497604e-06,9.270686099613413e-06,4.0793087261212085e-05,0.00032751837504597583,2.8811116290476295e-05,0.00047262204604522353,0.00017051688736287107,4.449154625440158e-05,0.0017920057931959295,4.658787060273141e-05,5.1517194773683166e-05,1.778878294640755e-05,2.1882747219251058e-05,3.774153698381341e-05,0.00022392078813335804,5.90487096772144e-05,0.0012390758945952697,0.006463150973954197,4.933129912015398e-05,0.00012774306492657831,0.00030871561798466397,1.9173606956286657e-05,0.0004546331729128758,0.0005802950148217696,3.391474990294295e-05,0.0008658954253569938,3.6363589282844733e-05,1.2238406888997127e-05,5.3715101135919304e-05,1.3866588234634958e-05,7.570802472368232e-06,0.008153703461017327,6.164682780336444e-06,2.4941844588402095e-05,0.00010030870722706551,0.0003155119452531794,7.226073802213222e-05,0.00020393006633077126,2.159292037261715e-05,1.3399360345989233e-05,0.0001224065866676392,6.728987894981762e-05,0.008415416452910395,2.6847629261181853e-05,8.15074036265379e-06,8.301445083825799e-05,3.178118449599149e-05,0.0001031900505243674,5.6460377147001094e-05,0.00011875965427634785,0.007371943569101516,1.3603348283137776e-05,0.0005026850880619404,3.67529222975639e-05,0.00022883465531186556,1.645588337718536e-05,0.011392036440181283,1.2870988314380517e-05,0.0010570071620130141,2.948416943710506e-05,0.0008076648174464436,0.001431370495949744,0.00128010863570875,0.00023407413228034203,0.0007836574296595927,5.758964132760537e-05,0.002586683495805931,0.00017097190907721936,0.00029668301299590617,0.0005316016481394746,2.617213071858196e-05,0.0003332153220705913,7.810469477299823e-05,0.0009900573405354943,3.080754247819742e-05,0.0005070855025479423,0.00013495073173623183,1.9669141238067632e-05,1.9375299831057338e-05,1.7073930295077827e-05,0.0013276023341225111,0.0007227489625031037,3.482043397434875e-05,0.00010133000635062625,0.0006284488480334755,2.878714755459223e-05,8.585868222635895e-05,0.00025010397958945193,2.583217438805618e-05,7.3638553434686526e-06,0.00015046425491218682,5.670341550949057e-05,1.5304324972079148e-05,3.0957990169620506e-05,8.437157200386221e-05,7.718318074501731e-05,0.000588568547048514,2.745908526486087e-05,1.732286679074066e-05,0.0006241232408068818,3.174685224258364e-05,3.0257944829675285e-05,0.00010560369127327805,9.623379711802737e-06,3.458417091775964e-05,5.507486857983965e-05,7.850474941146548e-05,1.2142087835768105e-05,1.0874364017385989e-05,7.945083730782913e-06,0.00042379750612684026,2.3854731052528442e-05,5.317705612088741e-06,7.174972087259485e-05,2.0913119501389647e-05,4.7279506538057287e-05,6.375346225347071e-05,2.5399957830677984e-05,3.7489086553271885e-06,4.141129536154108e-06,1.6042197560447117e-05,0.0003429078736535871,0.00011502575737148678,4.735512840637432e-06,6.466129368794059e-06,8.184833483486707e-05,7.704889733077735e-06,5.411454227812154e-05,7.0570001348097815e-06,6.479840985505485e-05,1.9374699320120413e-06,9.514638715703344e-06,5.919822225934557e-06,0.0011741242501976563,5.2361179023384315e-05,2.2396086591540053e-06,1.6306056578064183e-06,0.00016245767996645816,9.51885983236549e-06,0.0001122047820637468,0.000170048101514226,0.0002347812262699634,3.937026449009783e-05,1.4929809193927775e-06,4.416727294610849e-06,4.767214963255372e-06,0.005672454799360724,1.4039160353496026e-05,2.469664252394935e-06,0.0029217635691425516,0.00011205091822616753,3.7075719945708865e-07,2.148128700446355e-05,2.3573818056847048e-05,2.420004728582357e-06,2.362520903951238e-05,5.247802222358405e-05,2.492721789836815e-05,2.5008806704439945e-05,3.6054890151725877e-06,1.3893232482325428e-05,5.89381508921719e-06,0.0002361223094804685,0.0003468281773511821,0.00012542623641845506,0.00017159732314031307,0.0009015598333564968,0.00012573468793952253,1.295865937287481e-05,1.7931584927150222e-05,8.901048631045771e-05,3.597493413652055e-06,1.7172528052636062e-05,0.0043554454388795415,7.5136805104564216e-06,4.864303093599324e-06,0.00012461754342280251,7.382039488876355e-07,7.706012245494019e-06,3.409109194713751e-06,7.952571214552766e-07,2.4610721828480478e-05,1.975411538390168e-05,0.0005132475899544957,7.844523859343031e-07,0.0028739727704424575,1.1119559076726855e-05,3.113804588606922e-06,1.0055972916804768e-06,0.00011524204262890361,1.4592321678469874e-05,0.00015334142692774943,0.000247332818343093,0.018337011892532555,0.00047861992330209115,2.0734579866064045e-05,8.141827665279783e-06,0.003869349855152414,0.00012761770930446985,0.0002722441314389971,0.0002637389538585101,0.001694608752458229,0.00010369150064701914,0.0005993412463780426,0.00020062047340005387,0.00020999509060717482,0.0010201713067977513,0.00011152451232796962,0.004415104752475852,0.001910773532580874,0.000355514627518065,6.021302939405793e-06,1.9614928431597318e-05,0.00022530589851542718,0.0020597894151524977,4.966806627938132e-05,0.0020268562726642996,9.924787963660312e-05,3.975622638561691e-05,9.560224016128514e-05,0.004294681988534334,0.00041631029022065505,0.00041321648208806445,1.4029786120968411e-06,0.012019928742150932,0.00015395813772206795,0.00024667693215576163,0.0001778061053438727,0.00190668274918817,0.004551908913239284,0.0062185744546947915,0.01541409272100785,0.00010783484037159058,0.009633763591099399,0.008931832083590607,6.478590910744999e-06,0.0001846703108297201,0.0021129989115895717,1.1711907105046668e-06,0.0347894130154243,2.4225163667606455e-05,3.318670940670576e-05,4.523745366914095e-05,0.00019815279247890395,5.138361318373258e-05,0.04598823203992309,0.004681605997150172,0.002781477436822616,0.013409828622986003,0.005506572147022407,0.0022822749728911617,0.002261394212899399,1.4195745205253154e-05,0.0049523630762921145,1.2042876924234819e-05,4.7604561140416495e-05,0.0035234708702305572,0.00041209270181772923,0.002112195032050533,0.00014447676402621712,0.004234042488127283,0.00902858433606689,0.0009602435444662057,0.002018040726157639,0.00010605963157796933,0.002807808112935445,0.00018129360151015236,0.0005643792885269426,2.2690276669965788e-05,0.00015193953978715076,0.00010365959886071588,0.0031579920351850607,7.84887448020623e-05,0.00035281447775996897,4.639654883013406e-05,2.1576436462671643e-05,4.761550869306048e-05,5.406008572603685e-05,7.40891609121525e-05,2.26164749659125e-05,0.00010651274121551553,0.020906493249841097,0.006682447158377267,6.48221973425781e-05,5.93751137054699e-05,0.0001706713130052363,0.00022309072312298438,0.00019822078405699886,0.00048445184857093975,0.006283965407382443,6.237870847258276e-05,3.9991410783780605e-05,0.0002548161517823343,0.00013366456556278803,5.893408725743186e-05,0.0004579554859847712,0.0001717266887489295,0.005127279763599766,7.005420634264775e-05,0.00018221513057541572,0.0013092649881652997,1.6949237627984215e-05,0.00011242663779005121,0.0009720374298277418,0.0005439747706085576,6.726097479136826e-05,0.00026298812949384606,0.00041424219586207634,0.003706652234254191,0.00018410486800715572,0.0002927007641950266,9.095467516929792e-06,5.0890750312299496e-05,5.13539160481466e-05,3.69455777575045e-06,0.0008777821445672676,9.222548079435838e-05,6.529579984899635e-05,3.0015616600191625e-06,1.744689560704312e-05,0.00014194018099994055,1.661786748054466e-05,6.410017768686812e-06,1.8120277184830325e-06,0.0002733330334404149,2.4426501980964338e-06,3.4326378610532347e-06,8.295777460556669e-06,0.0018238270007676657,2.284692622960451e-06,2.303310087589549e-06,2.0765402205653862e-05,0.0002534428636718697,6.517229408416385e-06,1.1226074111462187e-05,7.705226650825161e-06,6.138173819480119e-06,1.4275123829130223e-05,2.0957922409269896e-06,0.000881639945989346,1.8758658375835193e-06,3.203272400372421e-06,9.084008834940954e-06,3.901340850494385e-06,4.055434398655849e-06,2.9069435313329586e-06,5.130698555964689e-06,2.897566996510713e-06,0.0002725107593349963,4.743060488627494e-06,4.210114457803099e-06,3.0026737061607928e-05,3.4733018527021757e-06,1.782912952845383e-05,1.283528930271591e-05,6.707159846297302e-07,2.0667421429455952e-06,1.1011350413000621e-06,1.2687432878999866e-05,3.239611581236666e-05,2.775850127839657e-06,2.2993415273065503e-06,1.1827309412154177e-06,6.331149458918146e-06,3.4362829330941908e-06,1.0173306323474867e-06,1.0011358318326324e-06,3.5852946424897994e-06,5.584379680758084e-06,1.0266989454908531e-05,7.032404306358063e-06,0.00023619958766908257,2.3397846463676082e-05,9.024783624335517e-05,4.5554105092622e-06,2.021132163510407e-06,0.00019236849162626398,3.2337108366259772e-06,3.0206773433599055e-05,1.2064922856511304e-05,8.79955366011921e-05,9.187339093087171e-07,1.1430535619779257e-06,2.4620346705118752e-06,1.5007529492692037e-05,9.147370267022547e-06,9.670022978488411e-06,1.0498777741293732e-06,4.623422308336583e-05,2.721207820029478e-05,1.8191955210997762e-05,9.636922679277262e-06,2.1183452659108524e-05,9.076941714343181e-05,1.4044499548713553e-06,4.211002264511407e-06,5.120737476529696e-06,2.316710633359873e-06,0.0002750688948420852,0.00021394989483220416,8.619929756598514e-06,2.7486078576809926e-05,4.657140535487341e-06,1.3821079804698042e-05,2.651788277904195e-06,1.0368526730232715e-06,2.6582002847779773e-06,4.516910884360279e-07,9.304917569415369e-07,1.381473794874613e-05,1.78506203967032e-06,1.8419717731313213e-06,2.1253905199648553e-06,9.32573023350304e-07,0.00011769640557924126,6.893604555673284e-06,5.921007219770286e-07,4.5905836575338417e-07,5.862000173829312e-06,2.924145195119414e-06,2.9216349475329908e-06,1.2122551611556118e-05,2.4848613796979864e-06,3.180460507967168e-06,2.8253033688743356e-06,4.1900640694830255e-06,5.80923734015691e-06,1.4607331011721916e-06,4.028990851585413e-06,5.9757669462124195e-06,4.6622786458663e-07,4.1308332195179496e-07,2.3088132492782884e-06,5.2736065563244264e-05,5.791647593826787e-07,8.07336386553758e-06,1.4662505023273635e-06,5.445384645894018e-06,2.961324694783477e-06,8.127658680338705e-06,5.133526813578408e-07,1.107194177411813e-06,1.0047907215385419e-06,1.0042035479759477e-05,1.006436835006637e-06,1.2066822575025844e-05,1.5410865595532065e-06,5.466366947356295e-06,1.4435313870626595e-06,2.194719449048086e-06,2.4556547746655903e-07,3.748739513207693e-07,2.0698797180497884e-06,4.731703143729278e-06,2.3640552262569745e-06,1.3897443343561669e-06,2.3239953825416788e-05,3.2877775800179263e-06,3.626246736889622e-07,1.1265150960069142e-06,8.815297123551143e-07,1.489353659742277e-07,1.7737870753228245e-06,8.417090104287077e-07,2.31622761297375e-06,4.3660230974745405e-05,7.23418407696182e-06,4.694655386121723e-06,1.930914876019419e-05,1.0114644424433965e-05,4.847859769488964e-06,4.642685785629054e-07,9.062600953425936e-07,1.0566485322253091e-06,6.3246015223152925e-06,7.338401005405145e-06,4.280485087729528e-05,9.776234478733856e-07,3.3748827333552562e-06,4.227351393849621e-05,1.3934058551905113e-06,2.613200732211535e-06,3.3307990141490773e-07,5.066790970282553e-07,1.2063980715046702e-06,3.380454996725465e-07,1.7854364006834758e-06,1.6500483926935485e-06,4.7317815045978025e-07,8.318693296043634e-06,1.8191934235797365e-06,9.841941943927886e-07,2.754900833061737e-07,7.52580037099623e-06,1.864399689094324e-07,1.2215983027167619e-06,6.559498215704216e-07,3.5517104687167793e-06,7.470258451145134e-06,4.6830935900000613e-07,1.100102882374823e-06,2.5469035627527076e-07,2.3150735365794436e-06,1.511565373166807e-07,8.047340447439211e-06,3.8977454533734575e-07,1.8061915824920497e-05,1.497084276210044e-06,4.408550612294342e-07,1.06233990964232e-06,2.9818546611047737e-06,1.1789960476276082e-05,1.4662285036471403e-07,1.4337362283092758e-05,8.011101623710102e-07,3.604947490115548e-06,0.00019752286428501825,1.6162269887081195e-06,6.862033659484112e-07,5.40568238564493e-07,1.1343021443154461e-06,2.4497041967503924e-06,5.497911752460818e-07,6.895781396749347e-07,1.4704463922181975e-06,3.577107221353105e-07,3.900936337880921e-06,1.844948959438319e-06,5.122278641646538e-06,8.927527316224133e-07,0.00017155176493248035,3.324108377397552e-07,7.08114122784166e-07,1.580162726444249e-06,1.2436903611862172e-06,1.0388412246906374e-06,1.6370122723288876e-07,1.953733346036085e-06,9.066291877302837e-07,6.533640544111889e-06,5.094666732311662e-07,1.3866987324657443e-05,4.5455557935421803e-07,2.173522939288584e-06,5.942001761227579e-07,1.2038203209376276e-06,2.049719667690709e-06,0.00018052645183220351,4.4933878547142986e-07,8.667401294204569e-07,6.121557818870688e-05,7.411714550055134e-07,1.2908567924789432e-05,4.5743772855003416e-05,5.597096405698941e-06,4.415050834655715e-06,1.104186397713799e-06,6.163221604511933e-07,2.3035335798013797e-05,4.320253900072361e-06,9.180937063741736e-07,1.3372552389995285e-05,2.433197240285759e-06,1.2304547011305995e-05,2.952955363008984e-07,7.387421310189762e-05,1.0869732399071021e-05,0.0010026713497369815,9.494943995343158e-06,4.817439532788219e-07,3.23700589796587e-07,9.005262905129912e-06,8.73650421674162e-06,2.743337610915846e-05,0.06065047517113909,9.180568008063423e-07,7.86985447235601e-07,1.7534863097555894e-06,1.7095648113326905e-06,3.7919892274626027e-06,0.0003284952384852107,0.7723550095564327,0.0001731438721159296,0.005074242249239035,5.052651266261225e-07,3.069557989598218e-05,0.001010307834609164,1.7811444677658927e-07,0.059790205052137224,3.0858546362811135e-05,0.05113156670992268,7.336390273446023e-07,5.648694473264511e-07,0.003723927007838618,0.0011478292509922304,0.0018901994690231753,0.0005106461012195858,2.292588494466702e-05,1.6885924526898371e-06,0.004567052469470067,0.008356348656438544,0.0030674145107657943,0.00039102610019974265,1.5975393178809125e-06,0.000704582362534545,0.0001929587647176938,0.0018875885590414487,0.003031884658574728,0.00033985561946002263,5.778744491679189e-05,7.788966117790833e-05,0.0005442363840095735,0.0006882118716714667,0.000305378605220752,0.007390769806459575,0.0008028200661334605,0.00021062971180223745,0.0001689673868875764,0.001147925466845332,6.55010738418788e-05,0.0008268824531022877,3.698346201089849e-05,0.0016037354160402268,0.0004674624354243365,0.00044108797547176933,0.000659692520904546,0.002827242540842618,5.790791871057233e-05,0.0026495592446709104,1.611730274155068e-05,0.0006560497866543104,0.0003789530596242769,4.193126416180536e-06,6.689765456912523e-05,4.475500508555049e-06,8.559850605093313e-05,0.0011597380032639256,0.0005270599042224991,0.006659502353890725,0.0014646561130056586,0.00021413806526461126,0.00012773302667597587,0.0012320901101792415,0.0012505086358862686,0.0001928429958305926,0.0001558226752004386,2.4181036231296308e-05,0.0002727935539622336,8.634668146671147e-06,5.662399155623028e-06,0.0019815257423050773,6.851496881767814e-05,0.00016150573415204953,6.587252342975943e-06,8.64219030903902e-05,0.00011084494455002524,0.00011346509244125544,0.00015125994383908105,1.5838476819349873e-05,2.4519310115342624e-06,9.91405484965025e-05,0.008047860178193226,0.01668555441154869,7.886763886151796e-05,0.0024578382554051484,0.0012765621399672775,6.36861692904265e-05,9.279906473256291e-05,1.2125443810978738e-06,0.0005200817212499848,8.417360027637174e-05,0.00018459030876189747,7.420756532180698e-07,3.1888844376303974e-05,0.00018826094785344126,1.5279291164432565e-06,0.00044204779971559105,1.6750008724664365e-06,8.976622094265066e-05,8.102359915672197e-05,3.506620586976643e-05,4.4253806803713313e-05,0.0014568563610681481,3.492537107485582e-05,0.0010800597946159923,0.0007491330956773377,2.3233088720046462e-05,0.0012356157295213576,0.0002909580237078576,0.0010976425297151687,1.2210549035995617e-06,0.001651163972630773,0.00019213765987557155,0.000310581148460918,0.0004399973258543773,0.0006251108594771891,0.0004170280044488999,8.315758264974965e-07,2.3677884851085927e-05,0.0013449851925885236,0.0003234744554968577,0.00014498568282125446,0.0018367913743111072,0.0001983885286097452,2.3385468957642745e-05,4.309949064938889e-05,1.4356555082689866e-05,2.0043915786691734e-05,6.348602268245733e-05,4.773375088473998e-05,0.00012459423775545915,0.0006355237509303674,6.198673552266458e-07,0.0029039045131713306,1.7055107793215988e-06,3.2314888850952614e-05,2.753239542054093e-05,0.00011873402254296762,1.1982303681082403e-06,1.2098302420221337e-05,5.937149621802367e-07,1.7409518708776847e-05,6.533964093806538e-05,4.6715343726309476e-05,2.1178056229835918e-05,0.00010615552029727375,8.202609900872698e-07,6.527100744474521e-05,4.335133564996549e-05,7.439241587008761e-06,0.00015271706278360088,4.9906988505332046e-05,8.964593315316597e-07,7.499468805277854e-06,0.00029863088109281354,8.213756516236134e-06,0.00010471010727684319,1.109274995536528e-05,1.0742703175203982e-06,2.007283265148747e-05,0.0008140647525366085,9.15384416944755e-05,1.943813806841827e-05,6.610699139582483e-05,6.325995788711042e-05,0.00018536556554127294,6.469543750373555e-05,6.646185879376277e-06,6.3669440619645525e-06,1.7983568396055037e-06,8.353233518135224e-06,2.4686653190908182e-05,0.00021483807245875207,9.73231100267132e-06,2.0590130341539327e-06,0.000173333075187493,4.0615944341078916e-05,2.201625756808948e-06,5.564987273933895e-05,2.2885273304705353e-05,6.033280689989189e-06,4.904829949298689e-06,0.00016880919174228344,7.369798329814533e-06,7.006728534122804e-05,0.00024247291842325854,0.0004783629869078376,5.4513360552708645e-05,7.877076650671726e-05,7.166178687019742e-07,3.2801122689327978e-06,9.888386867311641e-06,0.00010900304507360148,7.447431205875329e-07,0.001734476470824795,4.077345957293828e-05,6.853704237420832e-06,2.409979998126311e-05,8.426192756872008e-07,6.010902991531978e-05,5.068868883416379e-06,1.3525484421201106e-05,5.260991124277652e-07,4.3285173847217565e-06,8.347022218925239e-05,1.0774988550458679e-05,7.579854937719335e-06,0.00015451955431994806,0.0006405972400846682,7.566088506077703e-07,8.27931854673458e-06,3.408029381353948e-05,4.957853831262303e-06,4.229790382472167e-05,9.06540705976055e-05,8.13062983453638e-05,5.462009304692691e-06,1.0767122511601463e-06,1.4288397855897415e-05,1.0809510076232877e-05,0.00027756258347949434,3.6602235905918396e-06,5.8746830563017305e-05,0.00041123827006073687,1.967245762442711e-05,1.7551650743133392e-05,3.202166208796713e-05,4.4329185648602084e-05,1.8207427404421588e-05,1.1358920394787497e-05,0.00028476795073059766,4.6286633186487505e-07,7.90077649641559e-05,1.906693334990791e-05,2.520347849832278e-05,1.1908772727758328e-05,4.544960316933491e-06,9.080708485490325e-06,0.0007221864357529587,5.84345099937616e-06,5.510143270948055e-07,2.5279620547597347e-06,2.2549932677203404e-05,6.656832834194531e-05,7.473067574708601e-06,8.333907062484691e-06,4.549045140496711e-07,6.841363063223981e-05,6.7058842266714335e-06,4.85233566690978e-05,2.826458856897626e-05,1.1049046891202339e-05,1.635480737417242e-05,9.141293022114381e-06,1.1499793771115357e-06,3.907438622503561e-06,3.4897395662149253e-06,1.764583418419421e-05,1.1937047065953761e-05,7.146722540911349e-05,5.839739794890575e-05,7.281401745398452e-06,1.8532316040766675e-05,1.5555258196870442e-05,1.6827738373030558e-05,3.4387628877583297e-06,2.7657578376455192e-05,8.1750619148679e-05,6.61370395748101e-07,6.737704796155158e-06,5.518436611146164e-06,7.039625907283755e-06,2.5312244041292246e-06,4.66840948688079e-06,2.5354458220195494e-06,7.947848416605156e-06,3.6727246419900802e-06,2.6333394838297154e-06,4.956577892423142e-06,0.00012366901489647655,1.156195761609613e-05,8.241189395820009e-06,2.7205815578274988e-05,1.6918373165671472e-05,5.726887220235846e-06,4.800384909903428e-07,4.885417744333167e-06,2.8240536486186595e-06,6.132022293653382e-06,7.855766135634179e-07,3.9107594097520665e-06,9.35230749538209e-07,3.7780863332619696e-05,5.280368107390054e-06,2.876677958874747e-06,8.879292696870909e-06,5.031058873954884e-06,3.699717597725128e-06,4.03063985954737e-06,1.6764756915632952e-05,2.1768952159533793e-05,1.1750249280811983e-05,3.649183090804671e-05,1.3065381028495315e-06,1.1049801176824792e-06,5.838233410973067e-06,2.54522521198788e-06,2.375759702409724e-06,6.913416774468855e-06,2.0540336843460263e-05,2.053610800578707e-06,8.28505865571669e-06,2.9078567979400398e-05,5.401266450188877e-07,1.0940109338449505e-05,6.489722216762386e-06,1.884920639976794e-05,1.032184725129387e-05,0.00046823545542301875,4.578927584479361e-06,1.511347471446738e-06,3.842765790921721e-06,3.827354728360945e-06,2.818867893789311e-06,3.648515628022362e-05,4.800244874295915e-07,8.9589523854689e-06,8.498549153917017e-05,0.0011437431047664867,3.7062946313241177e-06,0.000746825652718027,2.416595142916146e-06,2.4146122526402024e-06,6.337465196165408e-07,6.2976659458081705e-06,3.574703454804794e-06,1.853955153781261e-05,2.552844411259691e-06,7.965140075164348e-07,3.93244496233749e-06,4.357630266003335e-06,1.4444198103230729e-05,9.066814310303452e-07,3.696955893415415e-06,2.6286206840260617e-06,3.2369073728906568e-06,6.46311414127496e-06,3.3265967897102237e-06,3.3148032340944676e-06,2.6775428292653064e-06,6.438900144332284e-07,9.137901532860806e-06,3.309998572900009e-06,0.0025297968987277168,0.012957966418280713,7.004212595067937e-06,4.862398697927078e-05,9.298488277790017e-05,1.2485116354777926e-05,8.312214975084518e-06,0.003765409645095321,0.0014442992405499337,0.00019296204965209372,0.00013748843740000452,0.010238896797544432,0.0009216489435696779,0.0006472948381095953,9.398925623632395e-08,1.287847964550666e-07,0.00014320485468970976,3.1893270644360094e-06,0.00010501120808413648,0.0005213974925558512,8.989685890835078e-05,6.325150060822082e-07,7.19698410877834e-08,0.0007094451408618183,0.0016414394254193145,0.0002816119603994977,0.00016533627691770012,7.75587088009376e-05,4.52256111515174e-05,0.002551646969983611,3.790838576652167e-08,0.00011065336596390867,6.775826171482453e-05,0.0001909661872782974,4.0626887868852706e-05,6.027434606783797e-08,0.0001298457394781434,2.3275014797315987e-05,4.0761653657180514e-08,1.516493640198141e-06,1.6150170417432244e-05,1.3175361839994064e-08,0.00029660493433153457,7.638774345414907e-06,1.996276189285263e-08,1.3705113140301586e-06,2.6581333364916376e-06,5.980519968377324e-06,3.1569081474964437e-06,2.1539380802823467e-07,8.034951513145628e-05,3.470642884544569e-06,0.0001804993503623445,2.063982530581796e-06,1.46776509353529e-05,4.947620410652127e-08,6.137992524476459e-05,9.487093255036923e-07,7.122979255636466e-05,3.6455353559617085e-05,2.3970210137540113e-06,1.726420922820545e-06,2.5959306899058308e-05,1.1303928481364384e-05,1.0336779384796839e-05,2.4396978485997226e-06,1.1036961350857031e-05,2.5582478770483945e-05,3.1462910563310785e-05,6.423304731010924e-07,4.342260987346822e-05,1.1386584627622046e-05,0.010701475734538508,4.381169810231051e-06,3.055765106801156e-06,6.0025050285083025e-06,1.80916074731485e-05,4.595264647690273e-06,0.00013585288456609366,2.7031992510950216e-06,4.362941900260934e-06,3.2907268732853504e-05,3.069681849656473e-07,2.9380238336836374e-05,3.9327245555012316e-05,1.2670368782108848e-05,0.00030201064568113374,4.188240129280631e-05,6.087570811745587e-06,9.548735157913783e-06,2.665460698587577e-07,2.8021648196006196e-06,1.0154025540815053e-05,1.716543526990084e-05,0.00010025407678285275,0.00036109419378138786,0.000320023763626088,2.2555643515677124e-06,8.328889081593563e-06,7.989780998981133e-05,3.136633220001585e-06,7.003881131993548e-07,6.322285925686505e-07,0.00014774701448112148,8.318541134575474e-08,3.102229862601237e-06,1.8604052775022285e-06,4.4465017704089585e-06,2.8351654227444087e-06,5.588576045410994e-05,1.176690144914206e-06,9.042654145527721e-07,1.0109195739500312e-06,9.194138146627518e-07,5.916177007941593e-06,7.595807448452516e-06,6.487239607208631e-07,2.3280629561824683e-05,8.284830793572482e-08,4.732938049806651e-08,6.12416229888654e-07,1.0472127357417049e-06,4.3248100250106557e-07,3.3141073530574005e-06,1.3024301559216694e-07,6.987010452694635e-07,1.3931721400362375e-07,4.3515545790750096e-07,2.518579101676781e-08,2.2244621441330424e-08,9.549033127734615e-06,6.389668098230921e-07,5.510563481960877e-07,2.8692381324080575e-06,9.06952367771152e-07,2.7632208786641006e-08,6.991470782379191e-07,6.820576279051878e-07,5.175716008045174e-07,4.5397524996335595e-07,7.297009792141638e-07,1.7581387659156378e-06,3.839800315802114e-07,1.194612663273951e-06,9.970841787524962e-07,1.8810993548093328e-06,1.4104657157373632e-05,5.102297816082617e-07,3.5641299104910874e-08,3.0453222769913974e-07,3.526913544367465e-07,8.045797389982368e-06,7.012516929258587e-06,2.924119107665869e-06,5.415101606784921e-07,3.0912209507618464e-08,7.436298682999561e-07,2.0555617715066725e-07,2.4742220799857364e-07,1.5096701496913917e-08,9.604073557934102e-05,1.486720377400843e-07,2.8199590177133725e-05,3.490881219485416e-06,3.8904567522634715e-07,1.0032015254679215e-07,9.007323119238629e-07,2.4215239538411672e-06,4.457086173453829e-07,3.0121694664801285e-07,3.4077635430345937e-07,6.843453623165359e-09,2.354343086043206e-06,2.747730854839521e-07,3.2407141253840877e-07,3.557336638626903e-07,3.811788243930245e-07,1.0639400117222983e-06,3.0077489334186687e-07,2.743849290149996e-07,2.2012270204229023e-06,7.564225115931914e-09,2.2494898198584804e-06,3.063509073040756e-07,5.798557971596212e-07,2.719038042583211e-06,1.2620938779199514e-07,3.799109776334793e-07,2.1900697693081675e-06,3.3841100796515663e-06,3.2633286336448603e-06,7.455817642338307e-08,3.71621790598843e-07,1.3580004999539156e-06,4.09033690469596e-07,4.5056801857615017e-07,7.40625458533002e-07,6.612097241842216e-09,3.016133499957491e-07,2.2677942628939646e-08,7.341924567567717e-07,1.7335327943908864e-06,2.5074760889714846e-08,2.0434956313397548e-08,8.856002440788993e-08,3.0616273762688507e-07,2.6566178274207436e-07,5.680115685376416e-07,5.215225259141387e-07,7.4993514621655e-07,3.769402094415528e-08,1.1451559232451129e-06,3.245864681356372e-07,3.561426450618444e-07,2.916587153547515e-07,3.3322135484134047e-07,1.2198396839586596e-07,1.6399718557678896e-06,4.348217944547031e-08,3.1997528821645624e-07,2.847446225493438e-07,7.884190501714181e-08,4.0299144205729175e-07,2.526860733243836e-06,4.675755346653743e-07,3.0362019224475093e-07,2.0398547070895164e-07,3.650276682445188e-07,1.176884166119021e-08,8.342144782921504e-06,3.1072942887408185e-07,1.3749970693158855e-06,1.0610438424306973e-06,3.351018565014077e-07,8.831157220152862e-07,1.8245771792165753e-06,3.5988633409026154e-07,6.921374712883597e-08,1.6516682102527113e-06,4.223144715152081e-07,3.1479243638121197e-07,3.76992026611434e-07,1.5073762884275821e-06,4.909415429272236e-07,2.815378623746483e-07,1.507669901160127e-08,1.1930462001690079e-08,1.5800674414054734e-08,2.581561525988147e-07,2.2653842867099012e-07,7.067485750764338e-09,2.9364668585997384e-07,4.5964192455861245e-07,2.4238572736738e-07,3.749635451613213e-07,5.521023541019215e-08,7.448934595694115e-07,3.232681710652823e-07,2.4814872743936226e-06,2.0091521285376672e-07,1.212258687845701e-06,7.347190412540202e-07,4.6074847257665925e-07,3.340278561441203e-07,4.2538836758038203e-07,7.171412526345659e-07,4.5989755117703173e-07,6.760480449434548e-09,5.43954257957455e-07,4.5779220020744023e-07,5.419611480646418e-07,5.087986607197476e-09,8.724612858162323e-07,1.44868390730124e-07,5.586689484837101e-07,1.7446202747275995e-08,1.2850574720589212e-07,2.5521087022994626e-07,2.755588689701518e-07,2.582889265960142e-06,9.025728861986275e-09,6.565509179937574e-07,9.990985962815087e-07,5.293306597003325e-08,8.529524607284657e-08,3.586551210427739e-08,5.053339752020765e-07,2.1678341870934284e-07,2.366083558355703e-07,7.243922060514252e-09,9.962390777353971e-08,1.5625913876017215e-07,3.779116251331896e-07,6.375391544062387e-07,2.0813228101964033e-07,1.7387004425935874e-07,4.4226378296477286e-07,8.161824357229921e-07,7.94158227600755e-07,8.527295349199227e-08,7.928743665606583e-09,2.7451197325551723e-07,5.8572616025377816e-08,2.345176058138533e-07,8.885062893721132e-09,9.515688656347383e-07,4.1012575789278535e-06,8.191551204981001e-05,4.120999074966074e-07,1.9996092306562092e-07,3.3885031705544755e-07,5.069180979779753e-07,1.3817832869939453e-07,9.00833798681629e-07,3.608834362819645e-07,4.5036204830158797e-07,2.9806355859187454e-07,1.56604413748936e-08,3.09930922433027e-07,1.1767688496583129e-08,1.0543353192071268e-08,3.691325087063933e-07,2.587588105500834e-05,3.381636301157892e-07,8.245510977430464e-07,3.117771107696801e-07,5.315703430705308e-08,1.5552568208594e-08,3.749362691768632e-07,8.235654181741021e-08,2.1109737244199834e-07,1.59453019309109e-07,2.6085069720951227e-07,2.2855526668034945e-07,4.445176551549463e-07,1.5733976373717024e-08,3.8347929197225217e-07,4.36256254081332e-07,8.198614875015945e-07,1.884243395724822e-07,1.6584348306944294e-06,5.155729575199834e-08,4.907173010845249e-08,1.5478986325773143e-06,3.847901989986383e-07,3.490408027422281e-07,4.601964737375449e-09,4.6934728277957073e-08,3.917728282754075e-09,9.513468051665707e-07,5.770439935613076e-06,3.410705108465621e-08,2.3467673998133808e-07,4.3135369569102376e-08,1.2429221621796286e-07,2.5282892850140464e-07,2.5311093650055505e-07,5.499694047395381e-07,1.1366746203014977e-07,1.0242775808994195e-07,2.9346913469160063e-07,2.1136315519463482e-07,3.9409806941957135e-08,2.9125150012200907e-07,1.4812309702960337e-07,1.670761306687344e-07,1.481096770397036e-07,3.706856311160734e-08,2.763994351508659e-07,2.956853937304804e-07,5.7265694371881716e-09,1.300941250035954e-07,4.9834418155070725e-08,0.00910717111966253,5.383509722856614e-07,2.373775827061961e-08,1.4864775610649238e-07,7.4614088912132825e-06,5.8749310878623655e-05,0.0002337759795203317,1.4580115190948817e-06,8.564821844766011e-05,0.006946642967781901,6.998126769792986e-06,1.238716952301028e-06,6.176164288652e-07,0.00019149048395144405,0.06491498038699468,2.473531803521167e-07,0.0010749191814219037,0.0005878271479452177,0.0020482034586223265,0.0008324797766387687,0.0001279496826023624,0.0026832782150570875,0.008637054271855578,0.0050822812152190745,9.575055681006237e-07,0.00010177084335166092,1.944415933069329e-06,2.8960591746097778e-06,8.987322250287199e-06,3.5912933463641323e-06,0.002131273919730999,8.072479142381053e-05,4.834084578663579e-06,8.739110762530568e-06,0.0002904462070475723,5.113502043488486e-05,2.6083483665923316e-05,7.617422459567289e-05,1.2748660643443187e-05,5.98327105652365e-06,0.00016303919801392603,0.0010250179663880096,6.58314834723983e-06,2.6220224751769516e-05,0.00039458780836895414,3.296104619890839e-05,0.00013012794712019963,0.00020484690640657584,3.2860730287038816e-06,0.0008569898908839763,0.0001939854682381209,9.913108690172239e-05,3.15675456921943e-06,7.3862877580331645e-06,0.04152539924811481,1.2543038527785786e-05,8.397444930899979e-05,1.2553544152812324e-05,3.3776707710111044e-06,0.0002034744993167047,0.00011443681671436792,0.0001024519686703707,0.0012190016382889611,8.243448418674329e-05,3.5892715893290946e-06,0.0009044787474395872,0.0007377071942946332,0.00042999434610925454,0.0023027807171206284,0.00032833063863227873,7.546795687686404e-05,5.5215236023107565e-05,5.922689828171104e-06,7.97757291905877e-06,0.00024132386035583068,0.0003620124222127899,0.0007317578376641343,4.129943219021435e-06,0.00013187034347514722,0.00015160112005152098,4.581699909427204e-06,0.00013158841569677995,2.322344526189709e-05,7.363876107247714e-06,9.607353205206664e-06,5.7458760505942846e-05,7.697281333904394e-05,2.1868077049156324e-06,3.8566404933935676e-05,1.6646550081830404e-06,1.6980264425614218e-06,1.9360678057107838e-05,2.6843270577727342e-05,2.578121377493625e-05,3.0713625500433713e-06,6.905552926552022e-06,8.264819928611e-06,2.902289052081702e-06,2.336428143427837e-05,3.876388255735566e-06,1.8150170304002828e-05,2.3640495758484086e-06,1.5509638636596572e-05,1.6354188083410276e-05,2.180707478074076e-05,1.8576609659438412e-06,7.410793994262306e-06,1.710167623119149e-05,2.541433574419926e-05,2.1622669164177036e-06,2.12580126762733e-05,0.000126182476594495,1.2057241932458344e-05,3.6370099766335767e-06,2.737996418337246e-06,3.164665087344984e-06,2.058605413071297e-06,1.4774700867301984e-05,1.4701666958917285e-06,9.41577394057194e-07,1.8247465197934231e-06,4.911572591178807e-05,9.184380173054904e-06,3.856923303840569e-06,1.0664061780429119e-05,1.2632319271880071e-05,9.934487045860934e-06,1.934483303176531e-06,2.3156307661125427e-05,4.4273083522868136e-06,3.179778544882166e-06,8.719530778652327e-07,1.6068854701457475e-06,2.518330847085994e-06,3.355241985437739e-06,4.708488372110617e-05,3.4991917664771776e-06,9.107889082555231e-07,1.0671897757343532e-06,1.1860981265711913e-06,1.2635906908623523e-05,1.557183666912182e-05,1.0205711627523734e-06,9.43583314608994e-06,2.1851521260299825e-06,1.9838322319910676e-06,9.57205426608034e-07,6.40652195587011e-07,6.05793616183421e-06,3.857628546109378e-06,7.912603986029801e-06,2.5429131265086096e-06,1.4166369111741206e-06,8.77859948968102e-07,4.4893187402573135e-06,1.5934979957470645e-06,7.318330818853887e-07,6.481416059653854e-06,6.78799090430436e-07,3.022516528857795e-06,7.3046656535694e-06,7.046105539411735e-07,5.171231056245147e-06,1.5661982790404161e-06,2.1534798194548073e-05,1.8387959801939027e-06,1.921537209413039e-05,6.341259562555337e-07,8.008939692084209e-07,1.7407775079263031e-06,6.581984818403854e-06,6.9090440958149234e-06,5.07809182926504e-06,2.5144926741916595e-06,7.649796537198114e-06,9.186199244825537e-07,1.6314790099214685e-06,2.0146126747122194e-06,1.2670971585664487e-05,4.3738505729151204e-06,2.454054598816269e-06,2.902952125383329e-06,4.503158069601561e-06,1.090823838632923e-06,6.449425385773632e-07,4.17997030950672e-06,5.250198937177566e-06,1.7564121323940433e-05,5.299722771110527e-07,5.564939263350456e-06,6.735027296247775e-06,3.040288213044786e-06,4.930622139988472e-06,5.677289567709544e-06,4.976233089220945e-06,9.233085738507136e-06,7.3870382442919875e-06,3.85902048532843e-06,2.442944158055009e-06,4.650427810247858e-06,4.1778262644097766e-07,3.722560475073899e-06,6.9836328373280405e-06,7.809080777801201e-07,6.909237977379008e-07,6.231166944704819e-06,3.876027250392169e-07,2.3946479440936282e-06,2.135905533446753e-06,2.1316977044686104e-06,1.4361777025597955e-06,6.568803383444509e-06,4.315151151543347e-06,4.769874090009956e-06,1.806196158948055e-06,8.165513928917618e-07,4.9238746652588e-06,1.9897038672618547e-06,5.606261699774786e-06,1.3478970883179642e-05,6.034323211189506e-07,6.159754088196395e-06,4.070260709830123e-06,3.861632211464257e-06,4.838184920245493e-07,3.882983720299501e-07,3.988807579496078e-06,2.0792194112526968e-06,1.2010270806438147e-06,1.13961636777336e-06,2.651574814706119e-06,3.340859206529162e-06,7.794333303766499e-07,4.976303982375826e-07,3.903927390150334e-06,3.667910048709396e-07,1.1193223844355773e-06,3.2243094239153256e-06,1.3809732315920432e-06,1.2329731401571139e-06,5.930414654839022e-06,4.340859797442498e-07,4.963203625130623e-06,7.51629974539397e-07,5.835178947118393e-07,1.0430897720841444e-06,4.042183957979986e-06,1.499931583456439e-06,1.184265507951667e-06,5.102776470904332e-06,2.6027311647661045e-06,6.65638572187244e-07,4.565623992485569e-06,5.778835135700566e-06,2.145696082280113e-06,8.883205001256682e-07,3.484624563361555e-06,1.1889709138817096e-06,4.2965619605955136e-07,6.703737321428483e-07,7.296541789820017e-07,1.4643453609291108e-06,2.8187582243671313e-06,1.3785243546962882e-06,2.8621547420902054e-06,6.6728261438472036e-06,2.492915080087488e-07,3.98585674878815e-07,4.2799537351013916e-07,8.366729105558376e-07,3.213059430377737e-07,8.630362556056878e-07,4.3045363096083286e-07,1.6252305833885685e-06,2.5064884245723596e-06,4.2552257735714005e-07,3.9576705875349025e-06,1.0214594303855593e-06,6.77014283302071e-07,1.2626763324595237e-06,3.1718188328199156e-06,3.0874384920506015e-07,6.695588398517712e-07,2.4558745603001776e-06,1.5178969026813312e-06,7.652038524147315e-07,5.221610503550215e-06,3.157621757479975e-07,4.024323578142868e-07,6.187272767139493e-07,2.3001487508686037e-06,2.0060463047644135e-06,2.95089956068004e-07,1.2949732131961805e-06,1.5120362895278397e-06,2.369165256701285e-06,5.766126877366175e-07,2.4401796611878564e-06,1.1852718436772655e-06,3.391550742759457e-07,4.680032667888387e-07,3.912184840291697e-07,7.03862203429229e-07,6.440053569457289e-07,2.2403864375920613e-07,1.2962477462947649e-06,1.1950722815272047e-06,7.683500904507916e-06,3.445341729291949e-06,3.886189587466135e-06,1.6037295358349887e-06,2.1214294343681455e-06,7.664194156492748e-07,2.5997098529408983e-07,4.4070283258793274e-07,3.724143115605694e-06,2.1848709463197863e-07,3.7796417243538645e-07,2.4280346700453426e-06,2.2765481167287666e-07,1.2393781687263447e-06,4.234503598409817e-07,1.967917829237495e-06,2.2927561779623654e-06,1.6805709531278823e-06,2.0125307581424413e-07,1.049962042514721e-06,6.5490727698689e-07,3.0770013465565765e-07,1.0185658998476915e-06,1.8239092331025684e-06,3.6428695211782477e-07,2.115928694658298e-07,2.745217581472711e-06,1.479900287145562e-06,4.661960804646097e-07,1.8415538256123787e-06,1.7493350706784835e-07,5.725505233319896e-07,7.822501817619088e-07,1.161925593645397e-06,4.2407997263431965e-07,5.286429969925852e-07,9.686687712959733e-07,3.721804545121774e-07,7.425766662160153e-07,1.381021863548687e-06,1.438631144425426e-06,1.6282223177389646e-06,1.0560085893595118e-06,1.740115493168174e-06,2.1109575512359729e-07,4.1148844252272907e-07,5.459465458396269e-07,1.6103935993013415e-06,1.352580813530708e-06,6.367212733025908e-07,1.5848741646908195e-06,1.4094386164061355e-06,2.2071679206895093e-07,1.6870312560231562e-06,1.222049477943768e-06,1.8304995151792298e-07,2.0246758835678399e-07,4.870874035484087e-07,2.1589461766651614e-06,2.2622894221369524e-06,2.2538676966692242e-07,2.4471634682011293e-07,2.1225000291834038e-07,5.188696111742385e-07,3.0597102620837937e-07,1.1687714126918067e-06,3.021249582633439e-06,1.3729819957270692e-06,6.432337582043959e-07,6.550064218105413e-07,5.238691008274906e-07,3.654228638716571e-07,9.849309737933e-07,1.0376583150769304e-06,1.0104484449808805e-06,7.942737676796997e-07,1.4641267539203371e-06,6.225273954907037e-05,1.307280139711513e-06,1.5227142600833704e-07,1.1466690247211758e-07],\"yaxis\":\"y\",\"type\":\"scattergl\"}],                        {\"template\":{\"data\":{\"histogram2dcontour\":[{\"type\":\"histogram2dcontour\",\"colorbar\":{\"outlinewidth\":0,\"ticks\":\"\"},\"colorscale\":[[0.0,\"#0d0887\"],[0.1111111111111111,\"#46039f\"],[0.2222222222222222,\"#7201a8\"],[0.3333333333333333,\"#9c179e\"],[0.4444444444444444,\"#bd3786\"],[0.5555555555555556,\"#d8576b\"],[0.6666666666666666,\"#ed7953\"],[0.7777777777777778,\"#fb9f3a\"],[0.8888888888888888,\"#fdca26\"],[1.0,\"#f0f921\"]]}],\"choropleth\":[{\"type\":\"choropleth\",\"colorbar\":{\"outlinewidth\":0,\"ticks\":\"\"}}],\"histogram2d\":[{\"type\":\"histogram2d\",\"colorbar\":{\"outlinewidth\":0,\"ticks\":\"\"},\"colorscale\":[[0.0,\"#0d0887\"],[0.1111111111111111,\"#46039f\"],[0.2222222222222222,\"#7201a8\"],[0.3333333333333333,\"#9c179e\"],[0.4444444444444444,\"#bd3786\"],[0.5555555555555556,\"#d8576b\"],[0.6666666666666666,\"#ed7953\"],[0.7777777777777778,\"#fb9f3a\"],[0.8888888888888888,\"#fdca26\"],[1.0,\"#f0f921\"]]}],\"heatmap\":[{\"type\":\"heatmap\",\"colorbar\":{\"outlinewidth\":0,\"ticks\":\"\"},\"colorscale\":[[0.0,\"#0d0887\"],[0.1111111111111111,\"#46039f\"],[0.2222222222222222,\"#7201a8\"],[0.3333333333333333,\"#9c179e\"],[0.4444444444444444,\"#bd3786\"],[0.5555555555555556,\"#d8576b\"],[0.6666666666666666,\"#ed7953\"],[0.7777777777777778,\"#fb9f3a\"],[0.8888888888888888,\"#fdca26\"],[1.0,\"#f0f921\"]]}],\"heatmapgl\":[{\"type\":\"heatmapgl\",\"colorbar\":{\"outlinewidth\":0,\"ticks\":\"\"},\"colorscale\":[[0.0,\"#0d0887\"],[0.1111111111111111,\"#46039f\"],[0.2222222222222222,\"#7201a8\"],[0.3333333333333333,\"#9c179e\"],[0.4444444444444444,\"#bd3786\"],[0.5555555555555556,\"#d8576b\"],[0.6666666666666666,\"#ed7953\"],[0.7777777777777778,\"#fb9f3a\"],[0.8888888888888888,\"#fdca26\"],[1.0,\"#f0f921\"]]}],\"contourcarpet\":[{\"type\":\"contourcarpet\",\"colorbar\":{\"outlinewidth\":0,\"ticks\":\"\"}}],\"contour\":[{\"type\":\"contour\",\"colorbar\":{\"outlinewidth\":0,\"ticks\":\"\"},\"colorscale\":[[0.0,\"#0d0887\"],[0.1111111111111111,\"#46039f\"],[0.2222222222222222,\"#7201a8\"],[0.3333333333333333,\"#9c179e\"],[0.4444444444444444,\"#bd3786\"],[0.5555555555555556,\"#d8576b\"],[0.6666666666666666,\"#ed7953\"],[0.7777777777777778,\"#fb9f3a\"],[0.8888888888888888,\"#fdca26\"],[1.0,\"#f0f921\"]]}],\"surface\":[{\"type\":\"surface\",\"colorbar\":{\"outlinewidth\":0,\"ticks\":\"\"},\"colorscale\":[[0.0,\"#0d0887\"],[0.1111111111111111,\"#46039f\"],[0.2222222222222222,\"#7201a8\"],[0.3333333333333333,\"#9c179e\"],[0.4444444444444444,\"#bd3786\"],[0.5555555555555556,\"#d8576b\"],[0.6666666666666666,\"#ed7953\"],[0.7777777777777778,\"#fb9f3a\"],[0.8888888888888888,\"#fdca26\"],[1.0,\"#f0f921\"]]}],\"mesh3d\":[{\"type\":\"mesh3d\",\"colorbar\":{\"outlinewidth\":0,\"ticks\":\"\"}}],\"scatter\":[{\"fillpattern\":{\"fillmode\":\"overlay\",\"size\":10,\"solidity\":0.2},\"type\":\"scatter\"}],\"parcoords\":[{\"type\":\"parcoords\",\"line\":{\"colorbar\":{\"outlinewidth\":0,\"ticks\":\"\"}}}],\"scatterpolargl\":[{\"type\":\"scatterpolargl\",\"marker\":{\"colorbar\":{\"outlinewidth\":0,\"ticks\":\"\"}}}],\"bar\":[{\"error_x\":{\"color\":\"#2a3f5f\"},\"error_y\":{\"color\":\"#2a3f5f\"},\"marker\":{\"line\":{\"color\":\"#E5ECF6\",\"width\":0.5},\"pattern\":{\"fillmode\":\"overlay\",\"size\":10,\"solidity\":0.2}},\"type\":\"bar\"}],\"scattergeo\":[{\"type\":\"scattergeo\",\"marker\":{\"colorbar\":{\"outlinewidth\":0,\"ticks\":\"\"}}}],\"scatterpolar\":[{\"type\":\"scatterpolar\",\"marker\":{\"colorbar\":{\"outlinewidth\":0,\"ticks\":\"\"}}}],\"histogram\":[{\"marker\":{\"pattern\":{\"fillmode\":\"overlay\",\"size\":10,\"solidity\":0.2}},\"type\":\"histogram\"}],\"scattergl\":[{\"type\":\"scattergl\",\"marker\":{\"colorbar\":{\"outlinewidth\":0,\"ticks\":\"\"}}}],\"scatter3d\":[{\"type\":\"scatter3d\",\"line\":{\"colorbar\":{\"outlinewidth\":0,\"ticks\":\"\"}},\"marker\":{\"colorbar\":{\"outlinewidth\":0,\"ticks\":\"\"}}}],\"scattermapbox\":[{\"type\":\"scattermapbox\",\"marker\":{\"colorbar\":{\"outlinewidth\":0,\"ticks\":\"\"}}}],\"scatterternary\":[{\"type\":\"scatterternary\",\"marker\":{\"colorbar\":{\"outlinewidth\":0,\"ticks\":\"\"}}}],\"scattercarpet\":[{\"type\":\"scattercarpet\",\"marker\":{\"colorbar\":{\"outlinewidth\":0,\"ticks\":\"\"}}}],\"carpet\":[{\"aaxis\":{\"endlinecolor\":\"#2a3f5f\",\"gridcolor\":\"white\",\"linecolor\":\"white\",\"minorgridcolor\":\"white\",\"startlinecolor\":\"#2a3f5f\"},\"baxis\":{\"endlinecolor\":\"#2a3f5f\",\"gridcolor\":\"white\",\"linecolor\":\"white\",\"minorgridcolor\":\"white\",\"startlinecolor\":\"#2a3f5f\"},\"type\":\"carpet\"}],\"table\":[{\"cells\":{\"fill\":{\"color\":\"#EBF0F8\"},\"line\":{\"color\":\"white\"}},\"header\":{\"fill\":{\"color\":\"#C8D4E3\"},\"line\":{\"color\":\"white\"}},\"type\":\"table\"}],\"barpolar\":[{\"marker\":{\"line\":{\"color\":\"#E5ECF6\",\"width\":0.5},\"pattern\":{\"fillmode\":\"overlay\",\"size\":10,\"solidity\":0.2}},\"type\":\"barpolar\"}],\"pie\":[{\"automargin\":true,\"type\":\"pie\"}]},\"layout\":{\"autotypenumbers\":\"strict\",\"colorway\":[\"#636efa\",\"#EF553B\",\"#00cc96\",\"#ab63fa\",\"#FFA15A\",\"#19d3f3\",\"#FF6692\",\"#B6E880\",\"#FF97FF\",\"#FECB52\"],\"font\":{\"color\":\"#2a3f5f\"},\"hovermode\":\"closest\",\"hoverlabel\":{\"align\":\"left\"},\"paper_bgcolor\":\"white\",\"plot_bgcolor\":\"#E5ECF6\",\"polar\":{\"bgcolor\":\"#E5ECF6\",\"angularaxis\":{\"gridcolor\":\"white\",\"linecolor\":\"white\",\"ticks\":\"\"},\"radialaxis\":{\"gridcolor\":\"white\",\"linecolor\":\"white\",\"ticks\":\"\"}},\"ternary\":{\"bgcolor\":\"#E5ECF6\",\"aaxis\":{\"gridcolor\":\"white\",\"linecolor\":\"white\",\"ticks\":\"\"},\"baxis\":{\"gridcolor\":\"white\",\"linecolor\":\"white\",\"ticks\":\"\"},\"caxis\":{\"gridcolor\":\"white\",\"linecolor\":\"white\",\"ticks\":\"\"}},\"coloraxis\":{\"colorbar\":{\"outlinewidth\":0,\"ticks\":\"\"}},\"colorscale\":{\"sequential\":[[0.0,\"#0d0887\"],[0.1111111111111111,\"#46039f\"],[0.2222222222222222,\"#7201a8\"],[0.3333333333333333,\"#9c179e\"],[0.4444444444444444,\"#bd3786\"],[0.5555555555555556,\"#d8576b\"],[0.6666666666666666,\"#ed7953\"],[0.7777777777777778,\"#fb9f3a\"],[0.8888888888888888,\"#fdca26\"],[1.0,\"#f0f921\"]],\"sequentialminus\":[[0.0,\"#0d0887\"],[0.1111111111111111,\"#46039f\"],[0.2222222222222222,\"#7201a8\"],[0.3333333333333333,\"#9c179e\"],[0.4444444444444444,\"#bd3786\"],[0.5555555555555556,\"#d8576b\"],[0.6666666666666666,\"#ed7953\"],[0.7777777777777778,\"#fb9f3a\"],[0.8888888888888888,\"#fdca26\"],[1.0,\"#f0f921\"]],\"diverging\":[[0,\"#8e0152\"],[0.1,\"#c51b7d\"],[0.2,\"#de77ae\"],[0.3,\"#f1b6da\"],[0.4,\"#fde0ef\"],[0.5,\"#f7f7f7\"],[0.6,\"#e6f5d0\"],[0.7,\"#b8e186\"],[0.8,\"#7fbc41\"],[0.9,\"#4d9221\"],[1,\"#276419\"]]},\"xaxis\":{\"gridcolor\":\"white\",\"linecolor\":\"white\",\"ticks\":\"\",\"title\":{\"standoff\":15},\"zerolinecolor\":\"white\",\"automargin\":true,\"zerolinewidth\":2},\"yaxis\":{\"gridcolor\":\"white\",\"linecolor\":\"white\",\"ticks\":\"\",\"title\":{\"standoff\":15},\"zerolinecolor\":\"white\",\"automargin\":true,\"zerolinewidth\":2},\"scene\":{\"xaxis\":{\"backgroundcolor\":\"#E5ECF6\",\"gridcolor\":\"white\",\"linecolor\":\"white\",\"showbackground\":true,\"ticks\":\"\",\"zerolinecolor\":\"white\",\"gridwidth\":2},\"yaxis\":{\"backgroundcolor\":\"#E5ECF6\",\"gridcolor\":\"white\",\"linecolor\":\"white\",\"showbackground\":true,\"ticks\":\"\",\"zerolinecolor\":\"white\",\"gridwidth\":2},\"zaxis\":{\"backgroundcolor\":\"#E5ECF6\",\"gridcolor\":\"white\",\"linecolor\":\"white\",\"showbackground\":true,\"ticks\":\"\",\"zerolinecolor\":\"white\",\"gridwidth\":2}},\"shapedefaults\":{\"line\":{\"color\":\"#2a3f5f\"}},\"annotationdefaults\":{\"arrowcolor\":\"#2a3f5f\",\"arrowhead\":0,\"arrowwidth\":1},\"geo\":{\"bgcolor\":\"white\",\"landcolor\":\"#E5ECF6\",\"subunitcolor\":\"white\",\"showland\":true,\"showlakes\":true,\"lakecolor\":\"white\"},\"title\":{\"x\":0.05},\"mapbox\":{\"style\":\"light\"}}},\"xaxis\":{\"anchor\":\"y\",\"domain\":[0.0,1.0],\"title\":{\"text\":\"Epoch\"}},\"yaxis\":{\"anchor\":\"x\",\"domain\":[0.0,1.0],\"title\":{\"text\":\"Loss\"}},\"legend\":{\"tracegroupgap\":0},\"title\":{\"text\":\"Loss curve\"}},                        {\"responsive\": true}                    ).then(function(){\n",
              "                            \n",
              "var gd = document.getElementById('05fb121e-3661-4f57-9a7b-fa6f8a54ce6f');\n",
              "var x = new MutationObserver(function (mutations, observer) {{\n",
              "        var display = window.getComputedStyle(gd).display;\n",
              "        if (!display || display === 'none') {{\n",
              "            console.log([gd, 'removed!']);\n",
              "            Plotly.purge(gd);\n",
              "            observer.disconnect();\n",
              "        }}\n",
              "}});\n",
              "\n",
              "// Listen for the removal of the full notebook cells\n",
              "var notebookContainer = gd.closest('#notebook-container');\n",
              "if (notebookContainer) {{\n",
              "    x.observe(notebookContainer, {childList: true});\n",
              "}}\n",
              "\n",
              "// Listen for the clearing of the current output cell\n",
              "var outputEl = gd.closest('.output');\n",
              "if (outputEl) {{\n",
              "    x.observe(outputEl, {childList: true});\n",
              "}}\n",
              "\n",
              "                        })                };                            </script>        </div>\n",
              "</body>\n",
              "</html>"
            ]
          },
          "metadata": {}
        }
      ]
    },
    {
      "cell_type": "markdown",
      "source": [
        "## Sanity check"
      ],
      "metadata": {
        "id": "-ckA6xFQCHTK"
      }
    },
    {
      "cell_type": "code",
      "source": [
        "# get a test sample with multiple different permutations\n",
        "test_batch_size = 256\n",
        "test_data = []\n",
        "sub_batch_size = 4\n",
        "for i in range(test_batch_size // sub_batch_size):\n",
        "    test_data.append(next(make_data_generator(cfg, sub_batch_size, seed=i)))\n",
        "\n",
        "test_data = torch.cat(test_data, dim=0).to(device)\n",
        "print(test_data.shape)"
      ],
      "metadata": {
        "colab": {
          "base_uri": "https://localhost:8080/"
        },
        "id": "Pg0puszNCG66",
        "outputId": "2cb80c6c-5ade-40d7-98ef-432895938e80"
      },
      "execution_count": 87,
      "outputs": [
        {
          "output_type": "stream",
          "name": "stdout",
          "text": [
            "torch.Size([256, 12])\n"
          ]
        }
      ]
    },
    {
      "cell_type": "code",
      "source": [
        "with torch.inference_mode():\n",
        "    test_logits = model(test_data)\n",
        "    test_logits = test_logits[:, -LIST_LEN-1:-1, :]\n",
        "    preds = test_logits.argmax(dim=-1)\n",
        "    test_labels = test_data[:, -LIST_LEN:]\n",
        "    \n",
        "    acc = (preds == test_labels).float().mean()\n",
        "    print(\"Test sample accuracy:\", acc.item())"
      ],
      "metadata": {
        "colab": {
          "base_uri": "https://localhost:8080/"
        },
        "id": "wnkUmdKVCU5N",
        "outputId": "827650db-1ebe-462c-fc66-7c2b8f2991c4"
      },
      "execution_count": 88,
      "outputs": [
        {
          "output_type": "stream",
          "name": "stdout",
          "text": [
            "Test sample accuracy: 1.0\n"
          ]
        }
      ]
    },
    {
      "cell_type": "markdown",
      "source": [
        "# Reverse Engineering"
      ],
      "metadata": {
        "id": "0hrhT_o2OkBo"
      }
    },
    {
      "cell_type": "markdown",
      "source": [
        "## Direct logit attribution"
      ],
      "metadata": {
        "id": "i7iTIqqdCu_B"
      }
    },
    {
      "cell_type": "markdown",
      "source": [
        "Direct logit attribution is a great technique to localize which bits of the model directly affect the logits. We can start with the logit lens technique, which can give us intuitions about when the model has done enough processing to make a prediction.\n",
        "\n",
        "\n",
        "Note the model has to make three predictions (one for each list element), but for simplicity, we'll just study the first prediction in this section, corresponding to destination token \"END\"."
      ],
      "metadata": {
        "id": "dAwWgHp2Czeo"
      }
    },
    {
      "cell_type": "code",
      "source": [
        "original_logits, cache = model.run_with_cache(test_data)\n",
        "print(original_logits.shape)\n",
        "print(cache)"
      ],
      "metadata": {
        "colab": {
          "base_uri": "https://localhost:8080/"
        },
        "id": "9z0xL3usDadg",
        "outputId": "92f62ba9-6b7d-41d7-a285-709eccef64df"
      },
      "execution_count": 89,
      "outputs": [
        {
          "output_type": "stream",
          "name": "stdout",
          "text": [
            "torch.Size([256, 12, 50])\n",
            "ActivationCache with keys ['hook_embed', 'hook_pos_embed', 'blocks.0.hook_resid_pre', 'blocks.0.attn.hook_q', 'blocks.0.attn.hook_k', 'blocks.0.attn.hook_v', 'blocks.0.attn.hook_attn_scores', 'blocks.0.attn.hook_pattern', 'blocks.0.attn.hook_z', 'blocks.0.hook_attn_out', 'blocks.0.hook_resid_post', 'blocks.1.hook_resid_pre', 'blocks.1.attn.hook_q', 'blocks.1.attn.hook_k', 'blocks.1.attn.hook_v', 'blocks.1.attn.hook_attn_scores', 'blocks.1.attn.hook_pattern', 'blocks.1.attn.hook_z', 'blocks.1.hook_attn_out', 'blocks.1.hook_resid_post']\n"
          ]
        }
      ]
    },
    {
      "cell_type": "code",
      "source": [
        "accumulated_resid_stack, labels = cache.accumulated_resid(layer=-1, pos_slice=-4, return_labels=True)\n",
        "print(accumulated_resid_stack.shape)\n",
        "print(labels)"
      ],
      "metadata": {
        "colab": {
          "base_uri": "https://localhost:8080/"
        },
        "id": "AHKwlhJ3Ctip",
        "outputId": "4c33d0f3-504f-47a1-cc5b-f3fdd2f6109f"
      },
      "execution_count": 90,
      "outputs": [
        {
          "output_type": "stream",
          "name": "stdout",
          "text": [
            "torch.Size([3, 256, 128])\n",
            "['0_pre', '1_pre', 'final_post']\n"
          ]
        }
      ]
    },
    {
      "cell_type": "code",
      "source": [
        "correct_answers = test_data[:, -3]\n",
        "print(correct_answers.shape)\n",
        "correct_logit_dirs = model.tokens_to_residual_directions(correct_answers)\n",
        "print(correct_logit_dirs.shape)"
      ],
      "metadata": {
        "colab": {
          "base_uri": "https://localhost:8080/"
        },
        "id": "D8C7aNz4Duus",
        "outputId": "4aa42bc5-d1d0-42e8-c974-e44bd6a0e986"
      },
      "execution_count": 91,
      "outputs": [
        {
          "output_type": "stream",
          "name": "stdout",
          "text": [
            "torch.Size([256])\n",
            "torch.Size([256, 128])\n"
          ]
        }
      ]
    },
    {
      "cell_type": "code",
      "source": [
        "accumulated_contrib = einops.einsum(\n",
        "    accumulated_resid_stack,\n",
        "    correct_logit_dirs,\n",
        "    \"... batch d_model, batch d_model -> ...\"\n",
        ") / test_data.shape[0]\n",
        "\n",
        "line(\n",
        "    accumulated_contrib,\n",
        "    title=\"Logit lens: direct logit attribution for prefix of model (first prediction)\",\n",
        "    xaxis=\"Layer\", yaxis=\"attribution\",\n",
        "    x=labels\n",
        ")"
      ],
      "metadata": {
        "colab": {
          "base_uri": "https://localhost:8080/",
          "height": 542
        },
        "id": "62Fg4VueEFYu",
        "outputId": "39a1e390-751d-4b49-984a-96f425e4e45b"
      },
      "execution_count": 92,
      "outputs": [
        {
          "output_type": "display_data",
          "data": {
            "text/html": [
              "<html>\n",
              "<head><meta charset=\"utf-8\" /></head>\n",
              "<body>\n",
              "    <div>            <script src=\"https://cdnjs.cloudflare.com/ajax/libs/mathjax/2.7.5/MathJax.js?config=TeX-AMS-MML_SVG\"></script><script type=\"text/javascript\">if (window.MathJax && window.MathJax.Hub && window.MathJax.Hub.Config) {window.MathJax.Hub.Config({SVG: {font: \"STIX-Web\"}});}</script>                <script type=\"text/javascript\">window.PlotlyConfig = {MathJaxConfig: 'local'};</script>\n",
              "        <script src=\"https://cdn.plot.ly/plotly-2.18.2.min.js\"></script>                <div id=\"5f3f7af9-dc36-4b60-a2da-2e99d4e49c83\" class=\"plotly-graph-div\" style=\"height:525px; width:100%;\"></div>            <script type=\"text/javascript\">                                    window.PLOTLYENV=window.PLOTLYENV || {};                                    if (document.getElementById(\"5f3f7af9-dc36-4b60-a2da-2e99d4e49c83\")) {                    Plotly.newPlot(                        \"5f3f7af9-dc36-4b60-a2da-2e99d4e49c83\",                        [{\"hovertemplate\":\"Layer=%{x}<br>attribution=%{y}<extra></extra>\",\"legendgroup\":\"\",\"line\":{\"color\":\"#636efa\",\"dash\":\"solid\"},\"marker\":{\"symbol\":\"circle\"},\"mode\":\"lines\",\"name\":\"\",\"orientation\":\"v\",\"showlegend\":false,\"x\":[\"0_pre\",\"1_pre\",\"final_post\"],\"xaxis\":\"x\",\"y\":[-0.05245570093393326,-0.1581512987613678,26.917457580566406],\"yaxis\":\"y\",\"type\":\"scatter\"}],                        {\"template\":{\"data\":{\"histogram2dcontour\":[{\"type\":\"histogram2dcontour\",\"colorbar\":{\"outlinewidth\":0,\"ticks\":\"\"},\"colorscale\":[[0.0,\"#0d0887\"],[0.1111111111111111,\"#46039f\"],[0.2222222222222222,\"#7201a8\"],[0.3333333333333333,\"#9c179e\"],[0.4444444444444444,\"#bd3786\"],[0.5555555555555556,\"#d8576b\"],[0.6666666666666666,\"#ed7953\"],[0.7777777777777778,\"#fb9f3a\"],[0.8888888888888888,\"#fdca26\"],[1.0,\"#f0f921\"]]}],\"choropleth\":[{\"type\":\"choropleth\",\"colorbar\":{\"outlinewidth\":0,\"ticks\":\"\"}}],\"histogram2d\":[{\"type\":\"histogram2d\",\"colorbar\":{\"outlinewidth\":0,\"ticks\":\"\"},\"colorscale\":[[0.0,\"#0d0887\"],[0.1111111111111111,\"#46039f\"],[0.2222222222222222,\"#7201a8\"],[0.3333333333333333,\"#9c179e\"],[0.4444444444444444,\"#bd3786\"],[0.5555555555555556,\"#d8576b\"],[0.6666666666666666,\"#ed7953\"],[0.7777777777777778,\"#fb9f3a\"],[0.8888888888888888,\"#fdca26\"],[1.0,\"#f0f921\"]]}],\"heatmap\":[{\"type\":\"heatmap\",\"colorbar\":{\"outlinewidth\":0,\"ticks\":\"\"},\"colorscale\":[[0.0,\"#0d0887\"],[0.1111111111111111,\"#46039f\"],[0.2222222222222222,\"#7201a8\"],[0.3333333333333333,\"#9c179e\"],[0.4444444444444444,\"#bd3786\"],[0.5555555555555556,\"#d8576b\"],[0.6666666666666666,\"#ed7953\"],[0.7777777777777778,\"#fb9f3a\"],[0.8888888888888888,\"#fdca26\"],[1.0,\"#f0f921\"]]}],\"heatmapgl\":[{\"type\":\"heatmapgl\",\"colorbar\":{\"outlinewidth\":0,\"ticks\":\"\"},\"colorscale\":[[0.0,\"#0d0887\"],[0.1111111111111111,\"#46039f\"],[0.2222222222222222,\"#7201a8\"],[0.3333333333333333,\"#9c179e\"],[0.4444444444444444,\"#bd3786\"],[0.5555555555555556,\"#d8576b\"],[0.6666666666666666,\"#ed7953\"],[0.7777777777777778,\"#fb9f3a\"],[0.8888888888888888,\"#fdca26\"],[1.0,\"#f0f921\"]]}],\"contourcarpet\":[{\"type\":\"contourcarpet\",\"colorbar\":{\"outlinewidth\":0,\"ticks\":\"\"}}],\"contour\":[{\"type\":\"contour\",\"colorbar\":{\"outlinewidth\":0,\"ticks\":\"\"},\"colorscale\":[[0.0,\"#0d0887\"],[0.1111111111111111,\"#46039f\"],[0.2222222222222222,\"#7201a8\"],[0.3333333333333333,\"#9c179e\"],[0.4444444444444444,\"#bd3786\"],[0.5555555555555556,\"#d8576b\"],[0.6666666666666666,\"#ed7953\"],[0.7777777777777778,\"#fb9f3a\"],[0.8888888888888888,\"#fdca26\"],[1.0,\"#f0f921\"]]}],\"surface\":[{\"type\":\"surface\",\"colorbar\":{\"outlinewidth\":0,\"ticks\":\"\"},\"colorscale\":[[0.0,\"#0d0887\"],[0.1111111111111111,\"#46039f\"],[0.2222222222222222,\"#7201a8\"],[0.3333333333333333,\"#9c179e\"],[0.4444444444444444,\"#bd3786\"],[0.5555555555555556,\"#d8576b\"],[0.6666666666666666,\"#ed7953\"],[0.7777777777777778,\"#fb9f3a\"],[0.8888888888888888,\"#fdca26\"],[1.0,\"#f0f921\"]]}],\"mesh3d\":[{\"type\":\"mesh3d\",\"colorbar\":{\"outlinewidth\":0,\"ticks\":\"\"}}],\"scatter\":[{\"fillpattern\":{\"fillmode\":\"overlay\",\"size\":10,\"solidity\":0.2},\"type\":\"scatter\"}],\"parcoords\":[{\"type\":\"parcoords\",\"line\":{\"colorbar\":{\"outlinewidth\":0,\"ticks\":\"\"}}}],\"scatterpolargl\":[{\"type\":\"scatterpolargl\",\"marker\":{\"colorbar\":{\"outlinewidth\":0,\"ticks\":\"\"}}}],\"bar\":[{\"error_x\":{\"color\":\"#2a3f5f\"},\"error_y\":{\"color\":\"#2a3f5f\"},\"marker\":{\"line\":{\"color\":\"#E5ECF6\",\"width\":0.5},\"pattern\":{\"fillmode\":\"overlay\",\"size\":10,\"solidity\":0.2}},\"type\":\"bar\"}],\"scattergeo\":[{\"type\":\"scattergeo\",\"marker\":{\"colorbar\":{\"outlinewidth\":0,\"ticks\":\"\"}}}],\"scatterpolar\":[{\"type\":\"scatterpolar\",\"marker\":{\"colorbar\":{\"outlinewidth\":0,\"ticks\":\"\"}}}],\"histogram\":[{\"marker\":{\"pattern\":{\"fillmode\":\"overlay\",\"size\":10,\"solidity\":0.2}},\"type\":\"histogram\"}],\"scattergl\":[{\"type\":\"scattergl\",\"marker\":{\"colorbar\":{\"outlinewidth\":0,\"ticks\":\"\"}}}],\"scatter3d\":[{\"type\":\"scatter3d\",\"line\":{\"colorbar\":{\"outlinewidth\":0,\"ticks\":\"\"}},\"marker\":{\"colorbar\":{\"outlinewidth\":0,\"ticks\":\"\"}}}],\"scattermapbox\":[{\"type\":\"scattermapbox\",\"marker\":{\"colorbar\":{\"outlinewidth\":0,\"ticks\":\"\"}}}],\"scatterternary\":[{\"type\":\"scatterternary\",\"marker\":{\"colorbar\":{\"outlinewidth\":0,\"ticks\":\"\"}}}],\"scattercarpet\":[{\"type\":\"scattercarpet\",\"marker\":{\"colorbar\":{\"outlinewidth\":0,\"ticks\":\"\"}}}],\"carpet\":[{\"aaxis\":{\"endlinecolor\":\"#2a3f5f\",\"gridcolor\":\"white\",\"linecolor\":\"white\",\"minorgridcolor\":\"white\",\"startlinecolor\":\"#2a3f5f\"},\"baxis\":{\"endlinecolor\":\"#2a3f5f\",\"gridcolor\":\"white\",\"linecolor\":\"white\",\"minorgridcolor\":\"white\",\"startlinecolor\":\"#2a3f5f\"},\"type\":\"carpet\"}],\"table\":[{\"cells\":{\"fill\":{\"color\":\"#EBF0F8\"},\"line\":{\"color\":\"white\"}},\"header\":{\"fill\":{\"color\":\"#C8D4E3\"},\"line\":{\"color\":\"white\"}},\"type\":\"table\"}],\"barpolar\":[{\"marker\":{\"line\":{\"color\":\"#E5ECF6\",\"width\":0.5},\"pattern\":{\"fillmode\":\"overlay\",\"size\":10,\"solidity\":0.2}},\"type\":\"barpolar\"}],\"pie\":[{\"automargin\":true,\"type\":\"pie\"}]},\"layout\":{\"autotypenumbers\":\"strict\",\"colorway\":[\"#636efa\",\"#EF553B\",\"#00cc96\",\"#ab63fa\",\"#FFA15A\",\"#19d3f3\",\"#FF6692\",\"#B6E880\",\"#FF97FF\",\"#FECB52\"],\"font\":{\"color\":\"#2a3f5f\"},\"hovermode\":\"closest\",\"hoverlabel\":{\"align\":\"left\"},\"paper_bgcolor\":\"white\",\"plot_bgcolor\":\"#E5ECF6\",\"polar\":{\"bgcolor\":\"#E5ECF6\",\"angularaxis\":{\"gridcolor\":\"white\",\"linecolor\":\"white\",\"ticks\":\"\"},\"radialaxis\":{\"gridcolor\":\"white\",\"linecolor\":\"white\",\"ticks\":\"\"}},\"ternary\":{\"bgcolor\":\"#E5ECF6\",\"aaxis\":{\"gridcolor\":\"white\",\"linecolor\":\"white\",\"ticks\":\"\"},\"baxis\":{\"gridcolor\":\"white\",\"linecolor\":\"white\",\"ticks\":\"\"},\"caxis\":{\"gridcolor\":\"white\",\"linecolor\":\"white\",\"ticks\":\"\"}},\"coloraxis\":{\"colorbar\":{\"outlinewidth\":0,\"ticks\":\"\"}},\"colorscale\":{\"sequential\":[[0.0,\"#0d0887\"],[0.1111111111111111,\"#46039f\"],[0.2222222222222222,\"#7201a8\"],[0.3333333333333333,\"#9c179e\"],[0.4444444444444444,\"#bd3786\"],[0.5555555555555556,\"#d8576b\"],[0.6666666666666666,\"#ed7953\"],[0.7777777777777778,\"#fb9f3a\"],[0.8888888888888888,\"#fdca26\"],[1.0,\"#f0f921\"]],\"sequentialminus\":[[0.0,\"#0d0887\"],[0.1111111111111111,\"#46039f\"],[0.2222222222222222,\"#7201a8\"],[0.3333333333333333,\"#9c179e\"],[0.4444444444444444,\"#bd3786\"],[0.5555555555555556,\"#d8576b\"],[0.6666666666666666,\"#ed7953\"],[0.7777777777777778,\"#fb9f3a\"],[0.8888888888888888,\"#fdca26\"],[1.0,\"#f0f921\"]],\"diverging\":[[0,\"#8e0152\"],[0.1,\"#c51b7d\"],[0.2,\"#de77ae\"],[0.3,\"#f1b6da\"],[0.4,\"#fde0ef\"],[0.5,\"#f7f7f7\"],[0.6,\"#e6f5d0\"],[0.7,\"#b8e186\"],[0.8,\"#7fbc41\"],[0.9,\"#4d9221\"],[1,\"#276419\"]]},\"xaxis\":{\"gridcolor\":\"white\",\"linecolor\":\"white\",\"ticks\":\"\",\"title\":{\"standoff\":15},\"zerolinecolor\":\"white\",\"automargin\":true,\"zerolinewidth\":2},\"yaxis\":{\"gridcolor\":\"white\",\"linecolor\":\"white\",\"ticks\":\"\",\"title\":{\"standoff\":15},\"zerolinecolor\":\"white\",\"automargin\":true,\"zerolinewidth\":2},\"scene\":{\"xaxis\":{\"backgroundcolor\":\"#E5ECF6\",\"gridcolor\":\"white\",\"linecolor\":\"white\",\"showbackground\":true,\"ticks\":\"\",\"zerolinecolor\":\"white\",\"gridwidth\":2},\"yaxis\":{\"backgroundcolor\":\"#E5ECF6\",\"gridcolor\":\"white\",\"linecolor\":\"white\",\"showbackground\":true,\"ticks\":\"\",\"zerolinecolor\":\"white\",\"gridwidth\":2},\"zaxis\":{\"backgroundcolor\":\"#E5ECF6\",\"gridcolor\":\"white\",\"linecolor\":\"white\",\"showbackground\":true,\"ticks\":\"\",\"zerolinecolor\":\"white\",\"gridwidth\":2}},\"shapedefaults\":{\"line\":{\"color\":\"#2a3f5f\"}},\"annotationdefaults\":{\"arrowcolor\":\"#2a3f5f\",\"arrowhead\":0,\"arrowwidth\":1},\"geo\":{\"bgcolor\":\"white\",\"landcolor\":\"#E5ECF6\",\"subunitcolor\":\"white\",\"showland\":true,\"showlakes\":true,\"lakecolor\":\"white\"},\"title\":{\"x\":0.05},\"mapbox\":{\"style\":\"light\"}}},\"xaxis\":{\"anchor\":\"y\",\"domain\":[0.0,1.0],\"title\":{\"text\":\"Layer\"}},\"yaxis\":{\"anchor\":\"x\",\"domain\":[0.0,1.0],\"title\":{\"text\":\"attribution\"}},\"legend\":{\"tracegroupgap\":0},\"title\":{\"text\":\"Logit lens: direct logit attribution for prefix of model (first prediction)\"}},                        {\"responsive\": true}                    ).then(function(){\n",
              "                            \n",
              "var gd = document.getElementById('5f3f7af9-dc36-4b60-a2da-2e99d4e49c83');\n",
              "var x = new MutationObserver(function (mutations, observer) {{\n",
              "        var display = window.getComputedStyle(gd).display;\n",
              "        if (!display || display === 'none') {{\n",
              "            console.log([gd, 'removed!']);\n",
              "            Plotly.purge(gd);\n",
              "            observer.disconnect();\n",
              "        }}\n",
              "}});\n",
              "\n",
              "// Listen for the removal of the full notebook cells\n",
              "var notebookContainer = gd.closest('#notebook-container');\n",
              "if (notebookContainer) {{\n",
              "    x.observe(notebookContainer, {childList: true});\n",
              "}}\n",
              "\n",
              "// Listen for the clearing of the current output cell\n",
              "var outputEl = gd.closest('.output');\n",
              "if (outputEl) {{\n",
              "    x.observe(outputEl, {childList: true});\n",
              "}}\n",
              "\n",
              "                        })                };                            </script>        </div>\n",
              "</body>\n",
              "</html>"
            ]
          },
          "metadata": {}
        }
      ]
    },
    {
      "cell_type": "markdown",
      "source": [
        "We see that the model's is only able to predict the correct answer after the second attn layer.\n",
        "\n",
        "\n",
        "We can also check the effect of each individual components output on the logits by using decomposed resid (Note we should see almost the exact same plot since the above is just the sum of the prefix of the decomposed components):"
      ],
      "metadata": {
        "id": "lWG2zAkLEe-A"
      }
    },
    {
      "cell_type": "code",
      "source": [
        "decomposed_resid_stack, labels = cache.decompose_resid(layer=-1, pos_slice=-4, return_labels=True)\n",
        "print(decomposed_resid_stack.shape)\n",
        "print(labels)"
      ],
      "metadata": {
        "colab": {
          "base_uri": "https://localhost:8080/"
        },
        "id": "Ry5rWiJ8Enbw",
        "outputId": "3215819a-77e1-4c41-95c8-26d53ccfa67f"
      },
      "execution_count": 93,
      "outputs": [
        {
          "output_type": "stream",
          "name": "stdout",
          "text": [
            "torch.Size([4, 256, 128])\n",
            "['embed', 'pos_embed', '0_attn_out', '1_attn_out']\n"
          ]
        }
      ]
    },
    {
      "cell_type": "code",
      "source": [
        "decomposed_contrib = einops.einsum(\n",
        "    decomposed_resid_stack,\n",
        "    correct_logit_dirs,\n",
        "    \"... batch d_model, batch d_model -> ...\"\n",
        ") / test_data.shape[0]\n",
        "\n",
        "line(\n",
        "    decomposed_contrib,\n",
        "    title=\"Per component direct logit attribution for first prediction\",\n",
        "    xaxis=\"Component\", yaxis=\"attribution\",\n",
        "    x=labels\n",
        ")"
      ],
      "metadata": {
        "colab": {
          "base_uri": "https://localhost:8080/",
          "height": 542
        },
        "id": "ReYjnHWrEu0G",
        "outputId": "f31d3239-5320-4321-e82a-b923f372b10f"
      },
      "execution_count": 94,
      "outputs": [
        {
          "output_type": "display_data",
          "data": {
            "text/html": [
              "<html>\n",
              "<head><meta charset=\"utf-8\" /></head>\n",
              "<body>\n",
              "    <div>            <script src=\"https://cdnjs.cloudflare.com/ajax/libs/mathjax/2.7.5/MathJax.js?config=TeX-AMS-MML_SVG\"></script><script type=\"text/javascript\">if (window.MathJax && window.MathJax.Hub && window.MathJax.Hub.Config) {window.MathJax.Hub.Config({SVG: {font: \"STIX-Web\"}});}</script>                <script type=\"text/javascript\">window.PlotlyConfig = {MathJaxConfig: 'local'};</script>\n",
              "        <script src=\"https://cdn.plot.ly/plotly-2.18.2.min.js\"></script>                <div id=\"ee7d60c6-0ff1-4779-8c06-804129395829\" class=\"plotly-graph-div\" style=\"height:525px; width:100%;\"></div>            <script type=\"text/javascript\">                                    window.PLOTLYENV=window.PLOTLYENV || {};                                    if (document.getElementById(\"ee7d60c6-0ff1-4779-8c06-804129395829\")) {                    Plotly.newPlot(                        \"ee7d60c6-0ff1-4779-8c06-804129395829\",                        [{\"hovertemplate\":\"Component=%{x}<br>attribution=%{y}<extra></extra>\",\"legendgroup\":\"\",\"line\":{\"color\":\"#636efa\",\"dash\":\"solid\"},\"marker\":{\"symbol\":\"circle\"},\"mode\":\"lines\",\"name\":\"\",\"orientation\":\"v\",\"showlegend\":false,\"x\":[\"embed\",\"pos_embed\",\"0_attn_out\",\"1_attn_out\"],\"xaxis\":\"x\",\"y\":[-0.03429676219820976,-0.018158968538045883,-0.10569562017917633,27.075611114501953],\"yaxis\":\"y\",\"type\":\"scatter\"}],                        {\"template\":{\"data\":{\"histogram2dcontour\":[{\"type\":\"histogram2dcontour\",\"colorbar\":{\"outlinewidth\":0,\"ticks\":\"\"},\"colorscale\":[[0.0,\"#0d0887\"],[0.1111111111111111,\"#46039f\"],[0.2222222222222222,\"#7201a8\"],[0.3333333333333333,\"#9c179e\"],[0.4444444444444444,\"#bd3786\"],[0.5555555555555556,\"#d8576b\"],[0.6666666666666666,\"#ed7953\"],[0.7777777777777778,\"#fb9f3a\"],[0.8888888888888888,\"#fdca26\"],[1.0,\"#f0f921\"]]}],\"choropleth\":[{\"type\":\"choropleth\",\"colorbar\":{\"outlinewidth\":0,\"ticks\":\"\"}}],\"histogram2d\":[{\"type\":\"histogram2d\",\"colorbar\":{\"outlinewidth\":0,\"ticks\":\"\"},\"colorscale\":[[0.0,\"#0d0887\"],[0.1111111111111111,\"#46039f\"],[0.2222222222222222,\"#7201a8\"],[0.3333333333333333,\"#9c179e\"],[0.4444444444444444,\"#bd3786\"],[0.5555555555555556,\"#d8576b\"],[0.6666666666666666,\"#ed7953\"],[0.7777777777777778,\"#fb9f3a\"],[0.8888888888888888,\"#fdca26\"],[1.0,\"#f0f921\"]]}],\"heatmap\":[{\"type\":\"heatmap\",\"colorbar\":{\"outlinewidth\":0,\"ticks\":\"\"},\"colorscale\":[[0.0,\"#0d0887\"],[0.1111111111111111,\"#46039f\"],[0.2222222222222222,\"#7201a8\"],[0.3333333333333333,\"#9c179e\"],[0.4444444444444444,\"#bd3786\"],[0.5555555555555556,\"#d8576b\"],[0.6666666666666666,\"#ed7953\"],[0.7777777777777778,\"#fb9f3a\"],[0.8888888888888888,\"#fdca26\"],[1.0,\"#f0f921\"]]}],\"heatmapgl\":[{\"type\":\"heatmapgl\",\"colorbar\":{\"outlinewidth\":0,\"ticks\":\"\"},\"colorscale\":[[0.0,\"#0d0887\"],[0.1111111111111111,\"#46039f\"],[0.2222222222222222,\"#7201a8\"],[0.3333333333333333,\"#9c179e\"],[0.4444444444444444,\"#bd3786\"],[0.5555555555555556,\"#d8576b\"],[0.6666666666666666,\"#ed7953\"],[0.7777777777777778,\"#fb9f3a\"],[0.8888888888888888,\"#fdca26\"],[1.0,\"#f0f921\"]]}],\"contourcarpet\":[{\"type\":\"contourcarpet\",\"colorbar\":{\"outlinewidth\":0,\"ticks\":\"\"}}],\"contour\":[{\"type\":\"contour\",\"colorbar\":{\"outlinewidth\":0,\"ticks\":\"\"},\"colorscale\":[[0.0,\"#0d0887\"],[0.1111111111111111,\"#46039f\"],[0.2222222222222222,\"#7201a8\"],[0.3333333333333333,\"#9c179e\"],[0.4444444444444444,\"#bd3786\"],[0.5555555555555556,\"#d8576b\"],[0.6666666666666666,\"#ed7953\"],[0.7777777777777778,\"#fb9f3a\"],[0.8888888888888888,\"#fdca26\"],[1.0,\"#f0f921\"]]}],\"surface\":[{\"type\":\"surface\",\"colorbar\":{\"outlinewidth\":0,\"ticks\":\"\"},\"colorscale\":[[0.0,\"#0d0887\"],[0.1111111111111111,\"#46039f\"],[0.2222222222222222,\"#7201a8\"],[0.3333333333333333,\"#9c179e\"],[0.4444444444444444,\"#bd3786\"],[0.5555555555555556,\"#d8576b\"],[0.6666666666666666,\"#ed7953\"],[0.7777777777777778,\"#fb9f3a\"],[0.8888888888888888,\"#fdca26\"],[1.0,\"#f0f921\"]]}],\"mesh3d\":[{\"type\":\"mesh3d\",\"colorbar\":{\"outlinewidth\":0,\"ticks\":\"\"}}],\"scatter\":[{\"fillpattern\":{\"fillmode\":\"overlay\",\"size\":10,\"solidity\":0.2},\"type\":\"scatter\"}],\"parcoords\":[{\"type\":\"parcoords\",\"line\":{\"colorbar\":{\"outlinewidth\":0,\"ticks\":\"\"}}}],\"scatterpolargl\":[{\"type\":\"scatterpolargl\",\"marker\":{\"colorbar\":{\"outlinewidth\":0,\"ticks\":\"\"}}}],\"bar\":[{\"error_x\":{\"color\":\"#2a3f5f\"},\"error_y\":{\"color\":\"#2a3f5f\"},\"marker\":{\"line\":{\"color\":\"#E5ECF6\",\"width\":0.5},\"pattern\":{\"fillmode\":\"overlay\",\"size\":10,\"solidity\":0.2}},\"type\":\"bar\"}],\"scattergeo\":[{\"type\":\"scattergeo\",\"marker\":{\"colorbar\":{\"outlinewidth\":0,\"ticks\":\"\"}}}],\"scatterpolar\":[{\"type\":\"scatterpolar\",\"marker\":{\"colorbar\":{\"outlinewidth\":0,\"ticks\":\"\"}}}],\"histogram\":[{\"marker\":{\"pattern\":{\"fillmode\":\"overlay\",\"size\":10,\"solidity\":0.2}},\"type\":\"histogram\"}],\"scattergl\":[{\"type\":\"scattergl\",\"marker\":{\"colorbar\":{\"outlinewidth\":0,\"ticks\":\"\"}}}],\"scatter3d\":[{\"type\":\"scatter3d\",\"line\":{\"colorbar\":{\"outlinewidth\":0,\"ticks\":\"\"}},\"marker\":{\"colorbar\":{\"outlinewidth\":0,\"ticks\":\"\"}}}],\"scattermapbox\":[{\"type\":\"scattermapbox\",\"marker\":{\"colorbar\":{\"outlinewidth\":0,\"ticks\":\"\"}}}],\"scatterternary\":[{\"type\":\"scatterternary\",\"marker\":{\"colorbar\":{\"outlinewidth\":0,\"ticks\":\"\"}}}],\"scattercarpet\":[{\"type\":\"scattercarpet\",\"marker\":{\"colorbar\":{\"outlinewidth\":0,\"ticks\":\"\"}}}],\"carpet\":[{\"aaxis\":{\"endlinecolor\":\"#2a3f5f\",\"gridcolor\":\"white\",\"linecolor\":\"white\",\"minorgridcolor\":\"white\",\"startlinecolor\":\"#2a3f5f\"},\"baxis\":{\"endlinecolor\":\"#2a3f5f\",\"gridcolor\":\"white\",\"linecolor\":\"white\",\"minorgridcolor\":\"white\",\"startlinecolor\":\"#2a3f5f\"},\"type\":\"carpet\"}],\"table\":[{\"cells\":{\"fill\":{\"color\":\"#EBF0F8\"},\"line\":{\"color\":\"white\"}},\"header\":{\"fill\":{\"color\":\"#C8D4E3\"},\"line\":{\"color\":\"white\"}},\"type\":\"table\"}],\"barpolar\":[{\"marker\":{\"line\":{\"color\":\"#E5ECF6\",\"width\":0.5},\"pattern\":{\"fillmode\":\"overlay\",\"size\":10,\"solidity\":0.2}},\"type\":\"barpolar\"}],\"pie\":[{\"automargin\":true,\"type\":\"pie\"}]},\"layout\":{\"autotypenumbers\":\"strict\",\"colorway\":[\"#636efa\",\"#EF553B\",\"#00cc96\",\"#ab63fa\",\"#FFA15A\",\"#19d3f3\",\"#FF6692\",\"#B6E880\",\"#FF97FF\",\"#FECB52\"],\"font\":{\"color\":\"#2a3f5f\"},\"hovermode\":\"closest\",\"hoverlabel\":{\"align\":\"left\"},\"paper_bgcolor\":\"white\",\"plot_bgcolor\":\"#E5ECF6\",\"polar\":{\"bgcolor\":\"#E5ECF6\",\"angularaxis\":{\"gridcolor\":\"white\",\"linecolor\":\"white\",\"ticks\":\"\"},\"radialaxis\":{\"gridcolor\":\"white\",\"linecolor\":\"white\",\"ticks\":\"\"}},\"ternary\":{\"bgcolor\":\"#E5ECF6\",\"aaxis\":{\"gridcolor\":\"white\",\"linecolor\":\"white\",\"ticks\":\"\"},\"baxis\":{\"gridcolor\":\"white\",\"linecolor\":\"white\",\"ticks\":\"\"},\"caxis\":{\"gridcolor\":\"white\",\"linecolor\":\"white\",\"ticks\":\"\"}},\"coloraxis\":{\"colorbar\":{\"outlinewidth\":0,\"ticks\":\"\"}},\"colorscale\":{\"sequential\":[[0.0,\"#0d0887\"],[0.1111111111111111,\"#46039f\"],[0.2222222222222222,\"#7201a8\"],[0.3333333333333333,\"#9c179e\"],[0.4444444444444444,\"#bd3786\"],[0.5555555555555556,\"#d8576b\"],[0.6666666666666666,\"#ed7953\"],[0.7777777777777778,\"#fb9f3a\"],[0.8888888888888888,\"#fdca26\"],[1.0,\"#f0f921\"]],\"sequentialminus\":[[0.0,\"#0d0887\"],[0.1111111111111111,\"#46039f\"],[0.2222222222222222,\"#7201a8\"],[0.3333333333333333,\"#9c179e\"],[0.4444444444444444,\"#bd3786\"],[0.5555555555555556,\"#d8576b\"],[0.6666666666666666,\"#ed7953\"],[0.7777777777777778,\"#fb9f3a\"],[0.8888888888888888,\"#fdca26\"],[1.0,\"#f0f921\"]],\"diverging\":[[0,\"#8e0152\"],[0.1,\"#c51b7d\"],[0.2,\"#de77ae\"],[0.3,\"#f1b6da\"],[0.4,\"#fde0ef\"],[0.5,\"#f7f7f7\"],[0.6,\"#e6f5d0\"],[0.7,\"#b8e186\"],[0.8,\"#7fbc41\"],[0.9,\"#4d9221\"],[1,\"#276419\"]]},\"xaxis\":{\"gridcolor\":\"white\",\"linecolor\":\"white\",\"ticks\":\"\",\"title\":{\"standoff\":15},\"zerolinecolor\":\"white\",\"automargin\":true,\"zerolinewidth\":2},\"yaxis\":{\"gridcolor\":\"white\",\"linecolor\":\"white\",\"ticks\":\"\",\"title\":{\"standoff\":15},\"zerolinecolor\":\"white\",\"automargin\":true,\"zerolinewidth\":2},\"scene\":{\"xaxis\":{\"backgroundcolor\":\"#E5ECF6\",\"gridcolor\":\"white\",\"linecolor\":\"white\",\"showbackground\":true,\"ticks\":\"\",\"zerolinecolor\":\"white\",\"gridwidth\":2},\"yaxis\":{\"backgroundcolor\":\"#E5ECF6\",\"gridcolor\":\"white\",\"linecolor\":\"white\",\"showbackground\":true,\"ticks\":\"\",\"zerolinecolor\":\"white\",\"gridwidth\":2},\"zaxis\":{\"backgroundcolor\":\"#E5ECF6\",\"gridcolor\":\"white\",\"linecolor\":\"white\",\"showbackground\":true,\"ticks\":\"\",\"zerolinecolor\":\"white\",\"gridwidth\":2}},\"shapedefaults\":{\"line\":{\"color\":\"#2a3f5f\"}},\"annotationdefaults\":{\"arrowcolor\":\"#2a3f5f\",\"arrowhead\":0,\"arrowwidth\":1},\"geo\":{\"bgcolor\":\"white\",\"landcolor\":\"#E5ECF6\",\"subunitcolor\":\"white\",\"showland\":true,\"showlakes\":true,\"lakecolor\":\"white\"},\"title\":{\"x\":0.05},\"mapbox\":{\"style\":\"light\"}}},\"xaxis\":{\"anchor\":\"y\",\"domain\":[0.0,1.0],\"title\":{\"text\":\"Component\"}},\"yaxis\":{\"anchor\":\"x\",\"domain\":[0.0,1.0],\"title\":{\"text\":\"attribution\"}},\"legend\":{\"tracegroupgap\":0},\"title\":{\"text\":\"Per component direct logit attribution for first prediction\"}},                        {\"responsive\": true}                    ).then(function(){\n",
              "                            \n",
              "var gd = document.getElementById('ee7d60c6-0ff1-4779-8c06-804129395829');\n",
              "var x = new MutationObserver(function (mutations, observer) {{\n",
              "        var display = window.getComputedStyle(gd).display;\n",
              "        if (!display || display === 'none') {{\n",
              "            console.log([gd, 'removed!']);\n",
              "            Plotly.purge(gd);\n",
              "            observer.disconnect();\n",
              "        }}\n",
              "}});\n",
              "\n",
              "// Listen for the removal of the full notebook cells\n",
              "var notebookContainer = gd.closest('#notebook-container');\n",
              "if (notebookContainer) {{\n",
              "    x.observe(notebookContainer, {childList: true});\n",
              "}}\n",
              "\n",
              "// Listen for the clearing of the current output cell\n",
              "var outputEl = gd.closest('.output');\n",
              "if (outputEl) {{\n",
              "    x.observe(outputEl, {childList: true});\n",
              "}}\n",
              "\n",
              "                        })                };                            </script>        </div>\n",
              "</body>\n",
              "</html>"
            ]
          },
          "metadata": {}
        }
      ]
    },
    {
      "cell_type": "markdown",
      "source": [
        "As expected, the second attn layer has the biggest direct effect on the logits.\n",
        "\n",
        "\n",
        "This attribution combined with the fact that a 1L model could not perform the task suggests the model is doing some kind of composition. A next natural step is to start trying to understand interpretable activations - in this case the attn patterns."
      ],
      "metadata": {
        "id": "TfwmgiHpE__j"
      }
    },
    {
      "cell_type": "markdown",
      "source": [
        "## Stare at 1.0 patterns"
      ],
      "metadata": {
        "id": "mBjs5auJGTDL"
      }
    },
    {
      "cell_type": "markdown",
      "source": [
        "When trying to understand activations, it's often useful to work backwards, so we start with head 1.0 pattern. \n",
        "\n",
        "Since the correct prediction is earlier in the context, one natural guess is that head 1.0 might attend to the correct token and copy it to the logits - a common motif that we've also seen in the \"min of two ints\" and \"sort fixed length lists\" toy model tutorials."
      ],
      "metadata": {
        "id": "QBIYBZDvGUqw"
      }
    },
    {
      "cell_type": "code",
      "source": [
        "layer_1_patterns = cache['pattern', 1]\n",
        "print(layer_1_patterns.shape)"
      ],
      "metadata": {
        "colab": {
          "base_uri": "https://localhost:8080/"
        },
        "id": "CFVosbmaE5-q",
        "outputId": "7d83be28-8ec7-4107-acb6-d5c5c36a5776"
      },
      "execution_count": 95,
      "outputs": [
        {
          "output_type": "stream",
          "name": "stdout",
          "text": [
            "torch.Size([256, 1, 12, 12])\n"
          ]
        }
      ]
    },
    {
      "cell_type": "markdown",
      "source": [
        "First we can look at the average pattern over the test sample to get a lay of the land:"
      ],
      "metadata": {
        "id": "HFedIsDVGuH9"
      }
    },
    {
      "cell_type": "code",
      "source": [
        "def tokens_to_plotly_labels(tokens):\n",
        "    if tokens.ndim==2:\n",
        "        tokens = tokens[0]\n",
        "    res = [f\"{tok}_{i}\" for i, tok in enumerate(tokens)]\n",
        "    res[0] = 'BOS'\n",
        "    res[LIST_LEN+1] = 'MID'\n",
        "    res[2*LIST_LEN+2]= 'END'\n",
        "    return res\n",
        "\n",
        "tokens_to_plotly_labels(test_data)"
      ],
      "metadata": {
        "colab": {
          "base_uri": "https://localhost:8080/"
        },
        "id": "T17yB0waHFEC",
        "outputId": "e9e8d9f6-bb6c-4424-ba86-a1ab7e0666ff"
      },
      "execution_count": 96,
      "outputs": [
        {
          "output_type": "execute_result",
          "data": {
            "text/plain": [
              "['BOS',\n",
              " '44_1',\n",
              " '39_2',\n",
              " '33_3',\n",
              " 'MID',\n",
              " '0_5',\n",
              " '2_6',\n",
              " '1_7',\n",
              " 'END',\n",
              " '44_9',\n",
              " '33_10',\n",
              " '39_11']"
            ]
          },
          "metadata": {},
          "execution_count": 96
        }
      ]
    },
    {
      "cell_type": "code",
      "source": [
        "labels = tokens_to_plotly_labels(test_data)\n",
        "imshow(\n",
        "    layer_1_patterns[:, 0, :, :].mean(dim=0),\n",
        "    title=\"Attn head 1.0 pattern (averged over batch)\",\n",
        "    xaxis=\"src\", yaxis=\"dest\",\n",
        "    x=labels, y=labels\n",
        ")"
      ],
      "metadata": {
        "colab": {
          "base_uri": "https://localhost:8080/",
          "height": 542
        },
        "id": "BOx2RRUyGtKD",
        "outputId": "cfe131a0-b1e8-457d-8350-c9013c0a4d81"
      },
      "execution_count": 97,
      "outputs": [
        {
          "output_type": "display_data",
          "data": {
            "text/html": [
              "<html>\n",
              "<head><meta charset=\"utf-8\" /></head>\n",
              "<body>\n",
              "    <div>            <script src=\"https://cdnjs.cloudflare.com/ajax/libs/mathjax/2.7.5/MathJax.js?config=TeX-AMS-MML_SVG\"></script><script type=\"text/javascript\">if (window.MathJax && window.MathJax.Hub && window.MathJax.Hub.Config) {window.MathJax.Hub.Config({SVG: {font: \"STIX-Web\"}});}</script>                <script type=\"text/javascript\">window.PlotlyConfig = {MathJaxConfig: 'local'};</script>\n",
              "        <script src=\"https://cdn.plot.ly/plotly-2.18.2.min.js\"></script>                <div id=\"86e26fd1-36c7-42d0-bd7f-8d4c995e0724\" class=\"plotly-graph-div\" style=\"height:525px; width:100%;\"></div>            <script type=\"text/javascript\">                                    window.PLOTLYENV=window.PLOTLYENV || {};                                    if (document.getElementById(\"86e26fd1-36c7-42d0-bd7f-8d4c995e0724\")) {                    Plotly.newPlot(                        \"86e26fd1-36c7-42d0-bd7f-8d4c995e0724\",                        [{\"coloraxis\":\"coloraxis\",\"name\":\"0\",\"x\":[\"BOS\",\"44_1\",\"39_2\",\"33_3\",\"MID\",\"0_5\",\"2_6\",\"1_7\",\"END\",\"44_9\",\"33_10\",\"39_11\"],\"y\":[\"BOS\",\"44_1\",\"39_2\",\"33_3\",\"MID\",\"0_5\",\"2_6\",\"1_7\",\"END\",\"44_9\",\"33_10\",\"39_11\"],\"z\":[[1.0,0.0,0.0,0.0,0.0,0.0,0.0,0.0,0.0,0.0,0.0,0.0],[0.9933484792709351,0.006651503499597311,0.0,0.0,0.0,0.0,0.0,0.0,0.0,0.0,0.0,0.0],[0.608792781829834,0.3857516646385193,0.005455617792904377,0.0,0.0,0.0,0.0,0.0,0.0,0.0,0.0,0.0],[0.5255447626113892,0.286138117313385,0.1787634938955307,0.00955360010266304,0.0,0.0,0.0,0.0,0.0,0.0,0.0,0.0],[0.6601729989051819,0.12264249473810196,0.04572979733347893,0.08833517879247665,0.08311951160430908,0.0,0.0,0.0,0.0,0.0,0.0,0.0],[0.26360654830932617,0.212505042552948,0.1533360332250595,0.16826723515987396,0.1796579360961914,0.022627172991633415,0.0,0.0,0.0,0.0,0.0,0.0],[0.19808274507522583,0.26640585064888,0.10114195942878723,0.13235929608345032,0.10330604016780853,0.1897173523902893,0.00898677296936512,0.0,0.0,0.0,0.0,0.0],[0.36508578062057495,0.12149196863174438,0.03479470685124397,0.04833177104592323,0.03726179525256157,0.1629488468170166,0.21789559721946716,0.012189514935016632,0.0,0.0,0.0,0.0],[0.03663596883416176,0.025885993614792824,0.0009327952284365892,0.0010220349067822099,0.002355141332373023,0.9226158857345581,0.0009599683107808232,0.0012015840038657188,0.00839058868587017,0.0,0.0,0.0],[0.0007142957765609026,0.0002490479382686317,0.0008369804127141833,0.0006425833562389016,0.0004400027100928128,0.00019475945737212896,0.9925695657730103,0.0006668439018540084,0.00027843110729008913,0.003407494630664587,0.0,0.0],[0.013045151717960835,0.04748346656560898,0.07819810509681702,0.05521364510059357,0.05486169457435608,0.003997510764747858,0.0069627780467271805,0.689628005027771,0.03148756921291351,0.013882603496313095,0.005239495076239109,0.0],[0.17203956842422485,0.04873516783118248,0.030619120225310326,0.04412160813808441,0.05596882849931717,0.07224968820810318,0.14559811353683472,0.05507250875234604,0.11672019213438034,0.12971451878547668,0.08714409172534943,0.04201661795377731]],\"type\":\"heatmap\",\"xaxis\":\"x\",\"yaxis\":\"y\",\"hovertemplate\":\"src: %{x}<br>dest: %{y}<br>color: %{z}<extra></extra>\"}],                        {\"template\":{\"data\":{\"histogram2dcontour\":[{\"type\":\"histogram2dcontour\",\"colorbar\":{\"outlinewidth\":0,\"ticks\":\"\"},\"colorscale\":[[0.0,\"#0d0887\"],[0.1111111111111111,\"#46039f\"],[0.2222222222222222,\"#7201a8\"],[0.3333333333333333,\"#9c179e\"],[0.4444444444444444,\"#bd3786\"],[0.5555555555555556,\"#d8576b\"],[0.6666666666666666,\"#ed7953\"],[0.7777777777777778,\"#fb9f3a\"],[0.8888888888888888,\"#fdca26\"],[1.0,\"#f0f921\"]]}],\"choropleth\":[{\"type\":\"choropleth\",\"colorbar\":{\"outlinewidth\":0,\"ticks\":\"\"}}],\"histogram2d\":[{\"type\":\"histogram2d\",\"colorbar\":{\"outlinewidth\":0,\"ticks\":\"\"},\"colorscale\":[[0.0,\"#0d0887\"],[0.1111111111111111,\"#46039f\"],[0.2222222222222222,\"#7201a8\"],[0.3333333333333333,\"#9c179e\"],[0.4444444444444444,\"#bd3786\"],[0.5555555555555556,\"#d8576b\"],[0.6666666666666666,\"#ed7953\"],[0.7777777777777778,\"#fb9f3a\"],[0.8888888888888888,\"#fdca26\"],[1.0,\"#f0f921\"]]}],\"heatmap\":[{\"type\":\"heatmap\",\"colorbar\":{\"outlinewidth\":0,\"ticks\":\"\"},\"colorscale\":[[0.0,\"#0d0887\"],[0.1111111111111111,\"#46039f\"],[0.2222222222222222,\"#7201a8\"],[0.3333333333333333,\"#9c179e\"],[0.4444444444444444,\"#bd3786\"],[0.5555555555555556,\"#d8576b\"],[0.6666666666666666,\"#ed7953\"],[0.7777777777777778,\"#fb9f3a\"],[0.8888888888888888,\"#fdca26\"],[1.0,\"#f0f921\"]]}],\"heatmapgl\":[{\"type\":\"heatmapgl\",\"colorbar\":{\"outlinewidth\":0,\"ticks\":\"\"},\"colorscale\":[[0.0,\"#0d0887\"],[0.1111111111111111,\"#46039f\"],[0.2222222222222222,\"#7201a8\"],[0.3333333333333333,\"#9c179e\"],[0.4444444444444444,\"#bd3786\"],[0.5555555555555556,\"#d8576b\"],[0.6666666666666666,\"#ed7953\"],[0.7777777777777778,\"#fb9f3a\"],[0.8888888888888888,\"#fdca26\"],[1.0,\"#f0f921\"]]}],\"contourcarpet\":[{\"type\":\"contourcarpet\",\"colorbar\":{\"outlinewidth\":0,\"ticks\":\"\"}}],\"contour\":[{\"type\":\"contour\",\"colorbar\":{\"outlinewidth\":0,\"ticks\":\"\"},\"colorscale\":[[0.0,\"#0d0887\"],[0.1111111111111111,\"#46039f\"],[0.2222222222222222,\"#7201a8\"],[0.3333333333333333,\"#9c179e\"],[0.4444444444444444,\"#bd3786\"],[0.5555555555555556,\"#d8576b\"],[0.6666666666666666,\"#ed7953\"],[0.7777777777777778,\"#fb9f3a\"],[0.8888888888888888,\"#fdca26\"],[1.0,\"#f0f921\"]]}],\"surface\":[{\"type\":\"surface\",\"colorbar\":{\"outlinewidth\":0,\"ticks\":\"\"},\"colorscale\":[[0.0,\"#0d0887\"],[0.1111111111111111,\"#46039f\"],[0.2222222222222222,\"#7201a8\"],[0.3333333333333333,\"#9c179e\"],[0.4444444444444444,\"#bd3786\"],[0.5555555555555556,\"#d8576b\"],[0.6666666666666666,\"#ed7953\"],[0.7777777777777778,\"#fb9f3a\"],[0.8888888888888888,\"#fdca26\"],[1.0,\"#f0f921\"]]}],\"mesh3d\":[{\"type\":\"mesh3d\",\"colorbar\":{\"outlinewidth\":0,\"ticks\":\"\"}}],\"scatter\":[{\"fillpattern\":{\"fillmode\":\"overlay\",\"size\":10,\"solidity\":0.2},\"type\":\"scatter\"}],\"parcoords\":[{\"type\":\"parcoords\",\"line\":{\"colorbar\":{\"outlinewidth\":0,\"ticks\":\"\"}}}],\"scatterpolargl\":[{\"type\":\"scatterpolargl\",\"marker\":{\"colorbar\":{\"outlinewidth\":0,\"ticks\":\"\"}}}],\"bar\":[{\"error_x\":{\"color\":\"#2a3f5f\"},\"error_y\":{\"color\":\"#2a3f5f\"},\"marker\":{\"line\":{\"color\":\"#E5ECF6\",\"width\":0.5},\"pattern\":{\"fillmode\":\"overlay\",\"size\":10,\"solidity\":0.2}},\"type\":\"bar\"}],\"scattergeo\":[{\"type\":\"scattergeo\",\"marker\":{\"colorbar\":{\"outlinewidth\":0,\"ticks\":\"\"}}}],\"scatterpolar\":[{\"type\":\"scatterpolar\",\"marker\":{\"colorbar\":{\"outlinewidth\":0,\"ticks\":\"\"}}}],\"histogram\":[{\"marker\":{\"pattern\":{\"fillmode\":\"overlay\",\"size\":10,\"solidity\":0.2}},\"type\":\"histogram\"}],\"scattergl\":[{\"type\":\"scattergl\",\"marker\":{\"colorbar\":{\"outlinewidth\":0,\"ticks\":\"\"}}}],\"scatter3d\":[{\"type\":\"scatter3d\",\"line\":{\"colorbar\":{\"outlinewidth\":0,\"ticks\":\"\"}},\"marker\":{\"colorbar\":{\"outlinewidth\":0,\"ticks\":\"\"}}}],\"scattermapbox\":[{\"type\":\"scattermapbox\",\"marker\":{\"colorbar\":{\"outlinewidth\":0,\"ticks\":\"\"}}}],\"scatterternary\":[{\"type\":\"scatterternary\",\"marker\":{\"colorbar\":{\"outlinewidth\":0,\"ticks\":\"\"}}}],\"scattercarpet\":[{\"type\":\"scattercarpet\",\"marker\":{\"colorbar\":{\"outlinewidth\":0,\"ticks\":\"\"}}}],\"carpet\":[{\"aaxis\":{\"endlinecolor\":\"#2a3f5f\",\"gridcolor\":\"white\",\"linecolor\":\"white\",\"minorgridcolor\":\"white\",\"startlinecolor\":\"#2a3f5f\"},\"baxis\":{\"endlinecolor\":\"#2a3f5f\",\"gridcolor\":\"white\",\"linecolor\":\"white\",\"minorgridcolor\":\"white\",\"startlinecolor\":\"#2a3f5f\"},\"type\":\"carpet\"}],\"table\":[{\"cells\":{\"fill\":{\"color\":\"#EBF0F8\"},\"line\":{\"color\":\"white\"}},\"header\":{\"fill\":{\"color\":\"#C8D4E3\"},\"line\":{\"color\":\"white\"}},\"type\":\"table\"}],\"barpolar\":[{\"marker\":{\"line\":{\"color\":\"#E5ECF6\",\"width\":0.5},\"pattern\":{\"fillmode\":\"overlay\",\"size\":10,\"solidity\":0.2}},\"type\":\"barpolar\"}],\"pie\":[{\"automargin\":true,\"type\":\"pie\"}]},\"layout\":{\"autotypenumbers\":\"strict\",\"colorway\":[\"#636efa\",\"#EF553B\",\"#00cc96\",\"#ab63fa\",\"#FFA15A\",\"#19d3f3\",\"#FF6692\",\"#B6E880\",\"#FF97FF\",\"#FECB52\"],\"font\":{\"color\":\"#2a3f5f\"},\"hovermode\":\"closest\",\"hoverlabel\":{\"align\":\"left\"},\"paper_bgcolor\":\"white\",\"plot_bgcolor\":\"#E5ECF6\",\"polar\":{\"bgcolor\":\"#E5ECF6\",\"angularaxis\":{\"gridcolor\":\"white\",\"linecolor\":\"white\",\"ticks\":\"\"},\"radialaxis\":{\"gridcolor\":\"white\",\"linecolor\":\"white\",\"ticks\":\"\"}},\"ternary\":{\"bgcolor\":\"#E5ECF6\",\"aaxis\":{\"gridcolor\":\"white\",\"linecolor\":\"white\",\"ticks\":\"\"},\"baxis\":{\"gridcolor\":\"white\",\"linecolor\":\"white\",\"ticks\":\"\"},\"caxis\":{\"gridcolor\":\"white\",\"linecolor\":\"white\",\"ticks\":\"\"}},\"coloraxis\":{\"colorbar\":{\"outlinewidth\":0,\"ticks\":\"\"}},\"colorscale\":{\"sequential\":[[0.0,\"#0d0887\"],[0.1111111111111111,\"#46039f\"],[0.2222222222222222,\"#7201a8\"],[0.3333333333333333,\"#9c179e\"],[0.4444444444444444,\"#bd3786\"],[0.5555555555555556,\"#d8576b\"],[0.6666666666666666,\"#ed7953\"],[0.7777777777777778,\"#fb9f3a\"],[0.8888888888888888,\"#fdca26\"],[1.0,\"#f0f921\"]],\"sequentialminus\":[[0.0,\"#0d0887\"],[0.1111111111111111,\"#46039f\"],[0.2222222222222222,\"#7201a8\"],[0.3333333333333333,\"#9c179e\"],[0.4444444444444444,\"#bd3786\"],[0.5555555555555556,\"#d8576b\"],[0.6666666666666666,\"#ed7953\"],[0.7777777777777778,\"#fb9f3a\"],[0.8888888888888888,\"#fdca26\"],[1.0,\"#f0f921\"]],\"diverging\":[[0,\"#8e0152\"],[0.1,\"#c51b7d\"],[0.2,\"#de77ae\"],[0.3,\"#f1b6da\"],[0.4,\"#fde0ef\"],[0.5,\"#f7f7f7\"],[0.6,\"#e6f5d0\"],[0.7,\"#b8e186\"],[0.8,\"#7fbc41\"],[0.9,\"#4d9221\"],[1,\"#276419\"]]},\"xaxis\":{\"gridcolor\":\"white\",\"linecolor\":\"white\",\"ticks\":\"\",\"title\":{\"standoff\":15},\"zerolinecolor\":\"white\",\"automargin\":true,\"zerolinewidth\":2},\"yaxis\":{\"gridcolor\":\"white\",\"linecolor\":\"white\",\"ticks\":\"\",\"title\":{\"standoff\":15},\"zerolinecolor\":\"white\",\"automargin\":true,\"zerolinewidth\":2},\"scene\":{\"xaxis\":{\"backgroundcolor\":\"#E5ECF6\",\"gridcolor\":\"white\",\"linecolor\":\"white\",\"showbackground\":true,\"ticks\":\"\",\"zerolinecolor\":\"white\",\"gridwidth\":2},\"yaxis\":{\"backgroundcolor\":\"#E5ECF6\",\"gridcolor\":\"white\",\"linecolor\":\"white\",\"showbackground\":true,\"ticks\":\"\",\"zerolinecolor\":\"white\",\"gridwidth\":2},\"zaxis\":{\"backgroundcolor\":\"#E5ECF6\",\"gridcolor\":\"white\",\"linecolor\":\"white\",\"showbackground\":true,\"ticks\":\"\",\"zerolinecolor\":\"white\",\"gridwidth\":2}},\"shapedefaults\":{\"line\":{\"color\":\"#2a3f5f\"}},\"annotationdefaults\":{\"arrowcolor\":\"#2a3f5f\",\"arrowhead\":0,\"arrowwidth\":1},\"geo\":{\"bgcolor\":\"white\",\"landcolor\":\"#E5ECF6\",\"subunitcolor\":\"white\",\"showland\":true,\"showlakes\":true,\"lakecolor\":\"white\"},\"title\":{\"x\":0.05},\"mapbox\":{\"style\":\"light\"}}},\"xaxis\":{\"anchor\":\"y\",\"domain\":[0.0,1.0],\"scaleanchor\":\"y\",\"constrain\":\"domain\",\"title\":{\"text\":\"src\"}},\"yaxis\":{\"anchor\":\"x\",\"domain\":[0.0,1.0],\"autorange\":\"reversed\",\"constrain\":\"domain\",\"title\":{\"text\":\"dest\"}},\"coloraxis\":{\"colorscale\":[[0.0,\"rgb(103,0,31)\"],[0.1,\"rgb(178,24,43)\"],[0.2,\"rgb(214,96,77)\"],[0.3,\"rgb(244,165,130)\"],[0.4,\"rgb(253,219,199)\"],[0.5,\"rgb(247,247,247)\"],[0.6,\"rgb(209,229,240)\"],[0.7,\"rgb(146,197,222)\"],[0.8,\"rgb(67,147,195)\"],[0.9,\"rgb(33,102,172)\"],[1.0,\"rgb(5,48,97)\"]],\"cmid\":0.0},\"title\":{\"text\":\"Attn head 1.0 pattern (averged over batch)\"}},                        {\"responsive\": true}                    ).then(function(){\n",
              "                            \n",
              "var gd = document.getElementById('86e26fd1-36c7-42d0-bd7f-8d4c995e0724');\n",
              "var x = new MutationObserver(function (mutations, observer) {{\n",
              "        var display = window.getComputedStyle(gd).display;\n",
              "        if (!display || display === 'none') {{\n",
              "            console.log([gd, 'removed!']);\n",
              "            Plotly.purge(gd);\n",
              "            observer.disconnect();\n",
              "        }}\n",
              "}});\n",
              "\n",
              "// Listen for the removal of the full notebook cells\n",
              "var notebookContainer = gd.closest('#notebook-container');\n",
              "if (notebookContainer) {{\n",
              "    x.observe(notebookContainer, {childList: true});\n",
              "}}\n",
              "\n",
              "// Listen for the clearing of the current output cell\n",
              "var outputEl = gd.closest('.output');\n",
              "if (outputEl) {{\n",
              "    x.observe(outputEl, {childList: true});\n",
              "}}\n",
              "\n",
              "                        })                };                            </script>        </div>\n",
              "</body>\n",
              "</html>"
            ]
          },
          "metadata": {}
        }
      ]
    },
    {
      "cell_type": "markdown",
      "source": [
        "Interestingly, the prediction positions do not attend to the answer token and copy as I guessed. Instead they almost always seem to attend to the same fixed position. Notice that all 3 of the prediction positions attend to fixed perm positions.\n",
        "\n",
        "\n",
        "Why would the model do this? The token and positional embeddings at these source positions clearly don't contain information about the answer, so the information must have been moved to their residual stream by attn 0.0, and then moved again by 1.0! This is the first instance of attn head composition we've seen in these tutorials.\n",
        "\n",
        "\n",
        "If this hypothesis is correct, this would be an example of a \"V-composition\" (see https://transformer-circuits.pub/2021/framework/index.html#three-kinds-of-composition). We can also think of it as a single \"virtual attention head\" - effectively a single head where the prediction positions attend to the correct list token, and then copy (see https://transformer-circuits.pub/2021/framework/index.html#virtual-attention-heads)\n",
        "\n",
        "\n",
        "![picture](https://drive.google.com/uc?id=1orrWb0s7zTbkVShAl8MbMytq_8nHlc_Q)\n",
        "\n",
        "Continuing to work backwards, we can check some attn patterns for 0.0. We expect to see that the permutation tokens attend to their corresponding list positions (perm token=i attends to pos=i+1)."
      ],
      "metadata": {
        "id": "EzLYHlsZHu5A"
      }
    },
    {
      "cell_type": "markdown",
      "source": [
        "## Stare at 0.0 patterns"
      ],
      "metadata": {
        "id": "irOzflV0KOGV"
      }
    },
    {
      "cell_type": "code",
      "source": [
        "layer_0_patterns = cache['pattern', 0]\n",
        "print(layer_0_patterns.shape)"
      ],
      "metadata": {
        "colab": {
          "base_uri": "https://localhost:8080/"
        },
        "id": "N3JUsXHKGyWa",
        "outputId": "c9abc6a1-6cb7-428d-8410-c4f362bdcc94"
      },
      "execution_count": 98,
      "outputs": [
        {
          "output_type": "stream",
          "name": "stdout",
          "text": [
            "torch.Size([256, 1, 12, 12])\n"
          ]
        }
      ]
    },
    {
      "cell_type": "markdown",
      "source": [
        "Once again I'll just start with the avg across the batch dimension:"
      ],
      "metadata": {
        "id": "u9K6QGyfKVCm"
      }
    },
    {
      "cell_type": "code",
      "source": [
        "labels = tokens_to_plotly_labels(test_data)\n",
        "imshow(\n",
        "    layer_0_patterns[:, 0, :, :].mean(dim=0),\n",
        "    title=\"Attn head 0.0 patterns (avged over batch)\",\n",
        "    xaxis=\"src\", yaxis=\"dest\",\n",
        "    x=labels, y=labels\n",
        ")"
      ],
      "metadata": {
        "colab": {
          "base_uri": "https://localhost:8080/",
          "height": 542
        },
        "id": "vUO3SIEDKUIT",
        "outputId": "48fab780-f822-4c22-ab5a-3884da5849b6"
      },
      "execution_count": 99,
      "outputs": [
        {
          "output_type": "display_data",
          "data": {
            "text/html": [
              "<html>\n",
              "<head><meta charset=\"utf-8\" /></head>\n",
              "<body>\n",
              "    <div>            <script src=\"https://cdnjs.cloudflare.com/ajax/libs/mathjax/2.7.5/MathJax.js?config=TeX-AMS-MML_SVG\"></script><script type=\"text/javascript\">if (window.MathJax && window.MathJax.Hub && window.MathJax.Hub.Config) {window.MathJax.Hub.Config({SVG: {font: \"STIX-Web\"}});}</script>                <script type=\"text/javascript\">window.PlotlyConfig = {MathJaxConfig: 'local'};</script>\n",
              "        <script src=\"https://cdn.plot.ly/plotly-2.18.2.min.js\"></script>                <div id=\"14a193fd-f25e-4e49-812f-6b99518cd628\" class=\"plotly-graph-div\" style=\"height:525px; width:100%;\"></div>            <script type=\"text/javascript\">                                    window.PLOTLYENV=window.PLOTLYENV || {};                                    if (document.getElementById(\"14a193fd-f25e-4e49-812f-6b99518cd628\")) {                    Plotly.newPlot(                        \"14a193fd-f25e-4e49-812f-6b99518cd628\",                        [{\"coloraxis\":\"coloraxis\",\"name\":\"0\",\"x\":[\"BOS\",\"44_1\",\"39_2\",\"33_3\",\"MID\",\"0_5\",\"2_6\",\"1_7\",\"END\",\"44_9\",\"33_10\",\"39_11\"],\"y\":[\"BOS\",\"44_1\",\"39_2\",\"33_3\",\"MID\",\"0_5\",\"2_6\",\"1_7\",\"END\",\"44_9\",\"33_10\",\"39_11\"],\"z\":[[1.0,0.0,0.0,0.0,0.0,0.0,0.0,0.0,0.0,0.0,0.0,0.0],[0.38811397552490234,0.6118860244750977,0.0,0.0,0.0,0.0,0.0,0.0,0.0,0.0,0.0,0.0],[0.20283061265945435,0.20779293775558472,0.5893764495849609,0.0,0.0,0.0,0.0,0.0,0.0,0.0,0.0,0.0],[0.32591360807418823,0.1600131243467331,0.098740354180336,0.41533294320106506,0.0,0.0,0.0,0.0,0.0,0.0,0.0,0.0],[0.3034009039402008,0.23831963539123535,0.20094352960586548,0.12946295738220215,0.12787297368049622,0.0,0.0,0.0,0.0,0.0,0.0,0.0],[0.24772542715072632,0.23792539536952972,0.16139927506446838,0.2058039903640747,0.07547752559185028,0.07166838645935059,0.0,0.0,0.0,0.0,0.0,0.0],[0.08384235203266144,0.24507057666778564,0.3212374746799469,0.19651906192302704,0.08282977342605591,0.04487089812755585,0.025629883632063866,0.0,0.0,0.0,0.0,0.0],[0.05272933840751648,0.18775556981563568,0.20582380890846252,0.19821198284626007,0.16081121563911438,0.08921918272972107,0.06402009725570679,0.041428808122873306,0.0,0.0,0.0,0.0],[0.1713075041770935,0.05906113609671593,0.15288907289505005,0.06006437912583351,0.026612572371959686,0.01929880864918232,0.32879388332366943,0.1689642071723938,0.013008440844714642,0.0,0.0,0.0],[0.054585497826337814,0.12695057690143585,0.02881525829434395,0.006645023822784424,0.023091934621334076,0.22938114404678345,0.03794049471616745,0.41712623834609985,0.047451674938201904,0.028012165799736977,0.0,0.0],[0.044586677104234695,0.01603597402572632,0.01559999119490385,0.010754832997918129,0.023606061935424805,0.2546151876449585,0.2757166028022766,0.005116078536957502,0.02901257574558258,0.20252208411693573,0.12243393808603287,0.0],[0.07984024286270142,0.088609479367733,0.07326966524124146,0.08256211131811142,0.08697438985109329,0.09822237491607666,0.08429074287414551,0.0793384462594986,0.09444642066955566,0.07685986161231995,0.07929970324039459,0.07628655433654785]],\"type\":\"heatmap\",\"xaxis\":\"x\",\"yaxis\":\"y\",\"hovertemplate\":\"src: %{x}<br>dest: %{y}<br>color: %{z}<extra></extra>\"}],                        {\"template\":{\"data\":{\"histogram2dcontour\":[{\"type\":\"histogram2dcontour\",\"colorbar\":{\"outlinewidth\":0,\"ticks\":\"\"},\"colorscale\":[[0.0,\"#0d0887\"],[0.1111111111111111,\"#46039f\"],[0.2222222222222222,\"#7201a8\"],[0.3333333333333333,\"#9c179e\"],[0.4444444444444444,\"#bd3786\"],[0.5555555555555556,\"#d8576b\"],[0.6666666666666666,\"#ed7953\"],[0.7777777777777778,\"#fb9f3a\"],[0.8888888888888888,\"#fdca26\"],[1.0,\"#f0f921\"]]}],\"choropleth\":[{\"type\":\"choropleth\",\"colorbar\":{\"outlinewidth\":0,\"ticks\":\"\"}}],\"histogram2d\":[{\"type\":\"histogram2d\",\"colorbar\":{\"outlinewidth\":0,\"ticks\":\"\"},\"colorscale\":[[0.0,\"#0d0887\"],[0.1111111111111111,\"#46039f\"],[0.2222222222222222,\"#7201a8\"],[0.3333333333333333,\"#9c179e\"],[0.4444444444444444,\"#bd3786\"],[0.5555555555555556,\"#d8576b\"],[0.6666666666666666,\"#ed7953\"],[0.7777777777777778,\"#fb9f3a\"],[0.8888888888888888,\"#fdca26\"],[1.0,\"#f0f921\"]]}],\"heatmap\":[{\"type\":\"heatmap\",\"colorbar\":{\"outlinewidth\":0,\"ticks\":\"\"},\"colorscale\":[[0.0,\"#0d0887\"],[0.1111111111111111,\"#46039f\"],[0.2222222222222222,\"#7201a8\"],[0.3333333333333333,\"#9c179e\"],[0.4444444444444444,\"#bd3786\"],[0.5555555555555556,\"#d8576b\"],[0.6666666666666666,\"#ed7953\"],[0.7777777777777778,\"#fb9f3a\"],[0.8888888888888888,\"#fdca26\"],[1.0,\"#f0f921\"]]}],\"heatmapgl\":[{\"type\":\"heatmapgl\",\"colorbar\":{\"outlinewidth\":0,\"ticks\":\"\"},\"colorscale\":[[0.0,\"#0d0887\"],[0.1111111111111111,\"#46039f\"],[0.2222222222222222,\"#7201a8\"],[0.3333333333333333,\"#9c179e\"],[0.4444444444444444,\"#bd3786\"],[0.5555555555555556,\"#d8576b\"],[0.6666666666666666,\"#ed7953\"],[0.7777777777777778,\"#fb9f3a\"],[0.8888888888888888,\"#fdca26\"],[1.0,\"#f0f921\"]]}],\"contourcarpet\":[{\"type\":\"contourcarpet\",\"colorbar\":{\"outlinewidth\":0,\"ticks\":\"\"}}],\"contour\":[{\"type\":\"contour\",\"colorbar\":{\"outlinewidth\":0,\"ticks\":\"\"},\"colorscale\":[[0.0,\"#0d0887\"],[0.1111111111111111,\"#46039f\"],[0.2222222222222222,\"#7201a8\"],[0.3333333333333333,\"#9c179e\"],[0.4444444444444444,\"#bd3786\"],[0.5555555555555556,\"#d8576b\"],[0.6666666666666666,\"#ed7953\"],[0.7777777777777778,\"#fb9f3a\"],[0.8888888888888888,\"#fdca26\"],[1.0,\"#f0f921\"]]}],\"surface\":[{\"type\":\"surface\",\"colorbar\":{\"outlinewidth\":0,\"ticks\":\"\"},\"colorscale\":[[0.0,\"#0d0887\"],[0.1111111111111111,\"#46039f\"],[0.2222222222222222,\"#7201a8\"],[0.3333333333333333,\"#9c179e\"],[0.4444444444444444,\"#bd3786\"],[0.5555555555555556,\"#d8576b\"],[0.6666666666666666,\"#ed7953\"],[0.7777777777777778,\"#fb9f3a\"],[0.8888888888888888,\"#fdca26\"],[1.0,\"#f0f921\"]]}],\"mesh3d\":[{\"type\":\"mesh3d\",\"colorbar\":{\"outlinewidth\":0,\"ticks\":\"\"}}],\"scatter\":[{\"fillpattern\":{\"fillmode\":\"overlay\",\"size\":10,\"solidity\":0.2},\"type\":\"scatter\"}],\"parcoords\":[{\"type\":\"parcoords\",\"line\":{\"colorbar\":{\"outlinewidth\":0,\"ticks\":\"\"}}}],\"scatterpolargl\":[{\"type\":\"scatterpolargl\",\"marker\":{\"colorbar\":{\"outlinewidth\":0,\"ticks\":\"\"}}}],\"bar\":[{\"error_x\":{\"color\":\"#2a3f5f\"},\"error_y\":{\"color\":\"#2a3f5f\"},\"marker\":{\"line\":{\"color\":\"#E5ECF6\",\"width\":0.5},\"pattern\":{\"fillmode\":\"overlay\",\"size\":10,\"solidity\":0.2}},\"type\":\"bar\"}],\"scattergeo\":[{\"type\":\"scattergeo\",\"marker\":{\"colorbar\":{\"outlinewidth\":0,\"ticks\":\"\"}}}],\"scatterpolar\":[{\"type\":\"scatterpolar\",\"marker\":{\"colorbar\":{\"outlinewidth\":0,\"ticks\":\"\"}}}],\"histogram\":[{\"marker\":{\"pattern\":{\"fillmode\":\"overlay\",\"size\":10,\"solidity\":0.2}},\"type\":\"histogram\"}],\"scattergl\":[{\"type\":\"scattergl\",\"marker\":{\"colorbar\":{\"outlinewidth\":0,\"ticks\":\"\"}}}],\"scatter3d\":[{\"type\":\"scatter3d\",\"line\":{\"colorbar\":{\"outlinewidth\":0,\"ticks\":\"\"}},\"marker\":{\"colorbar\":{\"outlinewidth\":0,\"ticks\":\"\"}}}],\"scattermapbox\":[{\"type\":\"scattermapbox\",\"marker\":{\"colorbar\":{\"outlinewidth\":0,\"ticks\":\"\"}}}],\"scatterternary\":[{\"type\":\"scatterternary\",\"marker\":{\"colorbar\":{\"outlinewidth\":0,\"ticks\":\"\"}}}],\"scattercarpet\":[{\"type\":\"scattercarpet\",\"marker\":{\"colorbar\":{\"outlinewidth\":0,\"ticks\":\"\"}}}],\"carpet\":[{\"aaxis\":{\"endlinecolor\":\"#2a3f5f\",\"gridcolor\":\"white\",\"linecolor\":\"white\",\"minorgridcolor\":\"white\",\"startlinecolor\":\"#2a3f5f\"},\"baxis\":{\"endlinecolor\":\"#2a3f5f\",\"gridcolor\":\"white\",\"linecolor\":\"white\",\"minorgridcolor\":\"white\",\"startlinecolor\":\"#2a3f5f\"},\"type\":\"carpet\"}],\"table\":[{\"cells\":{\"fill\":{\"color\":\"#EBF0F8\"},\"line\":{\"color\":\"white\"}},\"header\":{\"fill\":{\"color\":\"#C8D4E3\"},\"line\":{\"color\":\"white\"}},\"type\":\"table\"}],\"barpolar\":[{\"marker\":{\"line\":{\"color\":\"#E5ECF6\",\"width\":0.5},\"pattern\":{\"fillmode\":\"overlay\",\"size\":10,\"solidity\":0.2}},\"type\":\"barpolar\"}],\"pie\":[{\"automargin\":true,\"type\":\"pie\"}]},\"layout\":{\"autotypenumbers\":\"strict\",\"colorway\":[\"#636efa\",\"#EF553B\",\"#00cc96\",\"#ab63fa\",\"#FFA15A\",\"#19d3f3\",\"#FF6692\",\"#B6E880\",\"#FF97FF\",\"#FECB52\"],\"font\":{\"color\":\"#2a3f5f\"},\"hovermode\":\"closest\",\"hoverlabel\":{\"align\":\"left\"},\"paper_bgcolor\":\"white\",\"plot_bgcolor\":\"#E5ECF6\",\"polar\":{\"bgcolor\":\"#E5ECF6\",\"angularaxis\":{\"gridcolor\":\"white\",\"linecolor\":\"white\",\"ticks\":\"\"},\"radialaxis\":{\"gridcolor\":\"white\",\"linecolor\":\"white\",\"ticks\":\"\"}},\"ternary\":{\"bgcolor\":\"#E5ECF6\",\"aaxis\":{\"gridcolor\":\"white\",\"linecolor\":\"white\",\"ticks\":\"\"},\"baxis\":{\"gridcolor\":\"white\",\"linecolor\":\"white\",\"ticks\":\"\"},\"caxis\":{\"gridcolor\":\"white\",\"linecolor\":\"white\",\"ticks\":\"\"}},\"coloraxis\":{\"colorbar\":{\"outlinewidth\":0,\"ticks\":\"\"}},\"colorscale\":{\"sequential\":[[0.0,\"#0d0887\"],[0.1111111111111111,\"#46039f\"],[0.2222222222222222,\"#7201a8\"],[0.3333333333333333,\"#9c179e\"],[0.4444444444444444,\"#bd3786\"],[0.5555555555555556,\"#d8576b\"],[0.6666666666666666,\"#ed7953\"],[0.7777777777777778,\"#fb9f3a\"],[0.8888888888888888,\"#fdca26\"],[1.0,\"#f0f921\"]],\"sequentialminus\":[[0.0,\"#0d0887\"],[0.1111111111111111,\"#46039f\"],[0.2222222222222222,\"#7201a8\"],[0.3333333333333333,\"#9c179e\"],[0.4444444444444444,\"#bd3786\"],[0.5555555555555556,\"#d8576b\"],[0.6666666666666666,\"#ed7953\"],[0.7777777777777778,\"#fb9f3a\"],[0.8888888888888888,\"#fdca26\"],[1.0,\"#f0f921\"]],\"diverging\":[[0,\"#8e0152\"],[0.1,\"#c51b7d\"],[0.2,\"#de77ae\"],[0.3,\"#f1b6da\"],[0.4,\"#fde0ef\"],[0.5,\"#f7f7f7\"],[0.6,\"#e6f5d0\"],[0.7,\"#b8e186\"],[0.8,\"#7fbc41\"],[0.9,\"#4d9221\"],[1,\"#276419\"]]},\"xaxis\":{\"gridcolor\":\"white\",\"linecolor\":\"white\",\"ticks\":\"\",\"title\":{\"standoff\":15},\"zerolinecolor\":\"white\",\"automargin\":true,\"zerolinewidth\":2},\"yaxis\":{\"gridcolor\":\"white\",\"linecolor\":\"white\",\"ticks\":\"\",\"title\":{\"standoff\":15},\"zerolinecolor\":\"white\",\"automargin\":true,\"zerolinewidth\":2},\"scene\":{\"xaxis\":{\"backgroundcolor\":\"#E5ECF6\",\"gridcolor\":\"white\",\"linecolor\":\"white\",\"showbackground\":true,\"ticks\":\"\",\"zerolinecolor\":\"white\",\"gridwidth\":2},\"yaxis\":{\"backgroundcolor\":\"#E5ECF6\",\"gridcolor\":\"white\",\"linecolor\":\"white\",\"showbackground\":true,\"ticks\":\"\",\"zerolinecolor\":\"white\",\"gridwidth\":2},\"zaxis\":{\"backgroundcolor\":\"#E5ECF6\",\"gridcolor\":\"white\",\"linecolor\":\"white\",\"showbackground\":true,\"ticks\":\"\",\"zerolinecolor\":\"white\",\"gridwidth\":2}},\"shapedefaults\":{\"line\":{\"color\":\"#2a3f5f\"}},\"annotationdefaults\":{\"arrowcolor\":\"#2a3f5f\",\"arrowhead\":0,\"arrowwidth\":1},\"geo\":{\"bgcolor\":\"white\",\"landcolor\":\"#E5ECF6\",\"subunitcolor\":\"white\",\"showland\":true,\"showlakes\":true,\"lakecolor\":\"white\"},\"title\":{\"x\":0.05},\"mapbox\":{\"style\":\"light\"}}},\"xaxis\":{\"anchor\":\"y\",\"domain\":[0.0,1.0],\"scaleanchor\":\"y\",\"constrain\":\"domain\",\"title\":{\"text\":\"src\"}},\"yaxis\":{\"anchor\":\"x\",\"domain\":[0.0,1.0],\"autorange\":\"reversed\",\"constrain\":\"domain\",\"title\":{\"text\":\"dest\"}},\"coloraxis\":{\"colorscale\":[[0.0,\"rgb(103,0,31)\"],[0.1,\"rgb(178,24,43)\"],[0.2,\"rgb(214,96,77)\"],[0.3,\"rgb(244,165,130)\"],[0.4,\"rgb(253,219,199)\"],[0.5,\"rgb(247,247,247)\"],[0.6,\"rgb(209,229,240)\"],[0.7,\"rgb(146,197,222)\"],[0.8,\"rgb(67,147,195)\"],[0.9,\"rgb(33,102,172)\"],[1.0,\"rgb(5,48,97)\"]],\"cmid\":0.0},\"title\":{\"text\":\"Attn head 0.0 patterns (avged over batch)\"}},                        {\"responsive\": true}                    ).then(function(){\n",
              "                            \n",
              "var gd = document.getElementById('14a193fd-f25e-4e49-812f-6b99518cd628');\n",
              "var x = new MutationObserver(function (mutations, observer) {{\n",
              "        var display = window.getComputedStyle(gd).display;\n",
              "        if (!display || display === 'none') {{\n",
              "            console.log([gd, 'removed!']);\n",
              "            Plotly.purge(gd);\n",
              "            observer.disconnect();\n",
              "        }}\n",
              "}});\n",
              "\n",
              "// Listen for the removal of the full notebook cells\n",
              "var notebookContainer = gd.closest('#notebook-container');\n",
              "if (notebookContainer) {{\n",
              "    x.observe(notebookContainer, {childList: true});\n",
              "}}\n",
              "\n",
              "// Listen for the clearing of the current output cell\n",
              "var outputEl = gd.closest('.output');\n",
              "if (outputEl) {{\n",
              "    x.observe(outputEl, {childList: true});\n",
              "}}\n",
              "\n",
              "                        })                };                            </script>        </div>\n",
              "</body>\n",
              "</html>"
            ]
          },
          "metadata": {}
        }
      ]
    },
    {
      "cell_type": "markdown",
      "source": [
        "We see that the permutation tokens mostly attend to the list positions, although this isn't very surprising. Let's zoom in on some concrete examples:"
      ],
      "metadata": {
        "id": "GyODx6w9X0QE"
      }
    },
    {
      "cell_type": "code",
      "source": [
        "for _ in range(3):\n",
        "    r = random.randint(0, test_data.shape[0]-1)\n",
        "    labels = tokens_to_plotly_labels(test_data[r])\n",
        "    imshow(\n",
        "        layer_0_patterns[r, 0, :, :],\n",
        "        title=f\"Attn head 0.0 patterns for test example {r}\",\n",
        "        xaxis=\"src\", yaxis=\"dest\",\n",
        "        x=labels, y=labels\n",
        "    )"
      ],
      "metadata": {
        "colab": {
          "base_uri": "https://localhost:8080/",
          "height": 1000
        },
        "id": "q_FPIQI5K4g3",
        "outputId": "2883d558-97bf-46b9-cb8a-bfbcea1271d7"
      },
      "execution_count": 100,
      "outputs": [
        {
          "output_type": "display_data",
          "data": {
            "text/html": [
              "<html>\n",
              "<head><meta charset=\"utf-8\" /></head>\n",
              "<body>\n",
              "    <div>            <script src=\"https://cdnjs.cloudflare.com/ajax/libs/mathjax/2.7.5/MathJax.js?config=TeX-AMS-MML_SVG\"></script><script type=\"text/javascript\">if (window.MathJax && window.MathJax.Hub && window.MathJax.Hub.Config) {window.MathJax.Hub.Config({SVG: {font: \"STIX-Web\"}});}</script>                <script type=\"text/javascript\">window.PlotlyConfig = {MathJaxConfig: 'local'};</script>\n",
              "        <script src=\"https://cdn.plot.ly/plotly-2.18.2.min.js\"></script>                <div id=\"87cd3780-4542-4646-930e-c3f8933c39e1\" class=\"plotly-graph-div\" style=\"height:525px; width:100%;\"></div>            <script type=\"text/javascript\">                                    window.PLOTLYENV=window.PLOTLYENV || {};                                    if (document.getElementById(\"87cd3780-4542-4646-930e-c3f8933c39e1\")) {                    Plotly.newPlot(                        \"87cd3780-4542-4646-930e-c3f8933c39e1\",                        [{\"coloraxis\":\"coloraxis\",\"name\":\"0\",\"x\":[\"BOS\",\"47_1\",\"26_2\",\"32_3\",\"MID\",\"2_5\",\"1_6\",\"0_7\",\"END\",\"32_9\",\"26_10\",\"47_11\"],\"y\":[\"BOS\",\"47_1\",\"26_2\",\"32_3\",\"MID\",\"2_5\",\"1_6\",\"0_7\",\"END\",\"32_9\",\"26_10\",\"47_11\"],\"z\":[[1.0,0.0,0.0,0.0,0.0,0.0,0.0,0.0,0.0,0.0,0.0,0.0],[0.4755854904651642,0.5244145393371582,0.0,0.0,0.0,0.0,0.0,0.0,0.0,0.0,0.0,0.0],[0.1826058179140091,0.17857560515403748,0.6388185620307922,0.0,0.0,0.0,0.0,0.0,0.0,0.0,0.0,0.0],[0.32895147800445557,0.1665019541978836,0.09009985625743866,0.41444677114486694,0.0,0.0,0.0,0.0,0.0,0.0,0.0,0.0],[0.30248329043388367,0.2358933687210083,0.19878196716308594,0.1353551745414734,0.1274862289428711,0.0,0.0,0.0,0.0,0.0,0.0,0.0],[0.32413947582244873,0.07071155309677124,0.05052404850721359,0.4111693501472473,0.09223312884569168,0.051222458481788635,0.0,0.0,0.0,0.0,0.0,0.0],[0.0629655048251152,0.11239065229892731,0.5750415921211243,0.07833942025899887,0.0803145095705986,0.06267663836479187,0.028271645307540894,0.0,0.0,0.0,0.0,0.0],[0.04325031489133835,0.42149344086647034,0.09857071936130524,0.07213278114795685,0.118538998067379,0.10772710293531418,0.07543148845434189,0.06285510957241058,0.0,0.0,0.0,0.0],[0.16451290249824524,0.058806147426366806,0.12611715495586395,0.06815821677446365,0.025557033717632294,0.012824246659874916,0.32586297392845154,0.20566880702972412,0.012492485344409943,0.0,0.0,0.0],[0.054931774735450745,0.12187312543392181,0.0276823528110981,0.005966487806290388,0.022109733894467354,0.24132443964481354,0.04133293777704239,0.4091476500034332,0.045560337603092194,0.030071111395955086,0.0,0.0],[0.042419660836458206,0.01431050430983305,0.017747458070516586,0.01073416881263256,0.022441282868385315,0.24739128351211548,0.24922214448451996,0.004617133177816868,0.024661090224981308,0.23118792474269867,0.13526730239391327,0.0],[0.09063834697008133,0.06756201386451721,0.0648571327328682,0.07607702910900116,0.08593608438968658,0.11020565032958984,0.0919378325343132,0.07344784587621689,0.10410038381814957,0.07757452875375748,0.08419822156429291,0.07346495240926743]],\"type\":\"heatmap\",\"xaxis\":\"x\",\"yaxis\":\"y\",\"hovertemplate\":\"src: %{x}<br>dest: %{y}<br>color: %{z}<extra></extra>\"}],                        {\"template\":{\"data\":{\"histogram2dcontour\":[{\"type\":\"histogram2dcontour\",\"colorbar\":{\"outlinewidth\":0,\"ticks\":\"\"},\"colorscale\":[[0.0,\"#0d0887\"],[0.1111111111111111,\"#46039f\"],[0.2222222222222222,\"#7201a8\"],[0.3333333333333333,\"#9c179e\"],[0.4444444444444444,\"#bd3786\"],[0.5555555555555556,\"#d8576b\"],[0.6666666666666666,\"#ed7953\"],[0.7777777777777778,\"#fb9f3a\"],[0.8888888888888888,\"#fdca26\"],[1.0,\"#f0f921\"]]}],\"choropleth\":[{\"type\":\"choropleth\",\"colorbar\":{\"outlinewidth\":0,\"ticks\":\"\"}}],\"histogram2d\":[{\"type\":\"histogram2d\",\"colorbar\":{\"outlinewidth\":0,\"ticks\":\"\"},\"colorscale\":[[0.0,\"#0d0887\"],[0.1111111111111111,\"#46039f\"],[0.2222222222222222,\"#7201a8\"],[0.3333333333333333,\"#9c179e\"],[0.4444444444444444,\"#bd3786\"],[0.5555555555555556,\"#d8576b\"],[0.6666666666666666,\"#ed7953\"],[0.7777777777777778,\"#fb9f3a\"],[0.8888888888888888,\"#fdca26\"],[1.0,\"#f0f921\"]]}],\"heatmap\":[{\"type\":\"heatmap\",\"colorbar\":{\"outlinewidth\":0,\"ticks\":\"\"},\"colorscale\":[[0.0,\"#0d0887\"],[0.1111111111111111,\"#46039f\"],[0.2222222222222222,\"#7201a8\"],[0.3333333333333333,\"#9c179e\"],[0.4444444444444444,\"#bd3786\"],[0.5555555555555556,\"#d8576b\"],[0.6666666666666666,\"#ed7953\"],[0.7777777777777778,\"#fb9f3a\"],[0.8888888888888888,\"#fdca26\"],[1.0,\"#f0f921\"]]}],\"heatmapgl\":[{\"type\":\"heatmapgl\",\"colorbar\":{\"outlinewidth\":0,\"ticks\":\"\"},\"colorscale\":[[0.0,\"#0d0887\"],[0.1111111111111111,\"#46039f\"],[0.2222222222222222,\"#7201a8\"],[0.3333333333333333,\"#9c179e\"],[0.4444444444444444,\"#bd3786\"],[0.5555555555555556,\"#d8576b\"],[0.6666666666666666,\"#ed7953\"],[0.7777777777777778,\"#fb9f3a\"],[0.8888888888888888,\"#fdca26\"],[1.0,\"#f0f921\"]]}],\"contourcarpet\":[{\"type\":\"contourcarpet\",\"colorbar\":{\"outlinewidth\":0,\"ticks\":\"\"}}],\"contour\":[{\"type\":\"contour\",\"colorbar\":{\"outlinewidth\":0,\"ticks\":\"\"},\"colorscale\":[[0.0,\"#0d0887\"],[0.1111111111111111,\"#46039f\"],[0.2222222222222222,\"#7201a8\"],[0.3333333333333333,\"#9c179e\"],[0.4444444444444444,\"#bd3786\"],[0.5555555555555556,\"#d8576b\"],[0.6666666666666666,\"#ed7953\"],[0.7777777777777778,\"#fb9f3a\"],[0.8888888888888888,\"#fdca26\"],[1.0,\"#f0f921\"]]}],\"surface\":[{\"type\":\"surface\",\"colorbar\":{\"outlinewidth\":0,\"ticks\":\"\"},\"colorscale\":[[0.0,\"#0d0887\"],[0.1111111111111111,\"#46039f\"],[0.2222222222222222,\"#7201a8\"],[0.3333333333333333,\"#9c179e\"],[0.4444444444444444,\"#bd3786\"],[0.5555555555555556,\"#d8576b\"],[0.6666666666666666,\"#ed7953\"],[0.7777777777777778,\"#fb9f3a\"],[0.8888888888888888,\"#fdca26\"],[1.0,\"#f0f921\"]]}],\"mesh3d\":[{\"type\":\"mesh3d\",\"colorbar\":{\"outlinewidth\":0,\"ticks\":\"\"}}],\"scatter\":[{\"fillpattern\":{\"fillmode\":\"overlay\",\"size\":10,\"solidity\":0.2},\"type\":\"scatter\"}],\"parcoords\":[{\"type\":\"parcoords\",\"line\":{\"colorbar\":{\"outlinewidth\":0,\"ticks\":\"\"}}}],\"scatterpolargl\":[{\"type\":\"scatterpolargl\",\"marker\":{\"colorbar\":{\"outlinewidth\":0,\"ticks\":\"\"}}}],\"bar\":[{\"error_x\":{\"color\":\"#2a3f5f\"},\"error_y\":{\"color\":\"#2a3f5f\"},\"marker\":{\"line\":{\"color\":\"#E5ECF6\",\"width\":0.5},\"pattern\":{\"fillmode\":\"overlay\",\"size\":10,\"solidity\":0.2}},\"type\":\"bar\"}],\"scattergeo\":[{\"type\":\"scattergeo\",\"marker\":{\"colorbar\":{\"outlinewidth\":0,\"ticks\":\"\"}}}],\"scatterpolar\":[{\"type\":\"scatterpolar\",\"marker\":{\"colorbar\":{\"outlinewidth\":0,\"ticks\":\"\"}}}],\"histogram\":[{\"marker\":{\"pattern\":{\"fillmode\":\"overlay\",\"size\":10,\"solidity\":0.2}},\"type\":\"histogram\"}],\"scattergl\":[{\"type\":\"scattergl\",\"marker\":{\"colorbar\":{\"outlinewidth\":0,\"ticks\":\"\"}}}],\"scatter3d\":[{\"type\":\"scatter3d\",\"line\":{\"colorbar\":{\"outlinewidth\":0,\"ticks\":\"\"}},\"marker\":{\"colorbar\":{\"outlinewidth\":0,\"ticks\":\"\"}}}],\"scattermapbox\":[{\"type\":\"scattermapbox\",\"marker\":{\"colorbar\":{\"outlinewidth\":0,\"ticks\":\"\"}}}],\"scatterternary\":[{\"type\":\"scatterternary\",\"marker\":{\"colorbar\":{\"outlinewidth\":0,\"ticks\":\"\"}}}],\"scattercarpet\":[{\"type\":\"scattercarpet\",\"marker\":{\"colorbar\":{\"outlinewidth\":0,\"ticks\":\"\"}}}],\"carpet\":[{\"aaxis\":{\"endlinecolor\":\"#2a3f5f\",\"gridcolor\":\"white\",\"linecolor\":\"white\",\"minorgridcolor\":\"white\",\"startlinecolor\":\"#2a3f5f\"},\"baxis\":{\"endlinecolor\":\"#2a3f5f\",\"gridcolor\":\"white\",\"linecolor\":\"white\",\"minorgridcolor\":\"white\",\"startlinecolor\":\"#2a3f5f\"},\"type\":\"carpet\"}],\"table\":[{\"cells\":{\"fill\":{\"color\":\"#EBF0F8\"},\"line\":{\"color\":\"white\"}},\"header\":{\"fill\":{\"color\":\"#C8D4E3\"},\"line\":{\"color\":\"white\"}},\"type\":\"table\"}],\"barpolar\":[{\"marker\":{\"line\":{\"color\":\"#E5ECF6\",\"width\":0.5},\"pattern\":{\"fillmode\":\"overlay\",\"size\":10,\"solidity\":0.2}},\"type\":\"barpolar\"}],\"pie\":[{\"automargin\":true,\"type\":\"pie\"}]},\"layout\":{\"autotypenumbers\":\"strict\",\"colorway\":[\"#636efa\",\"#EF553B\",\"#00cc96\",\"#ab63fa\",\"#FFA15A\",\"#19d3f3\",\"#FF6692\",\"#B6E880\",\"#FF97FF\",\"#FECB52\"],\"font\":{\"color\":\"#2a3f5f\"},\"hovermode\":\"closest\",\"hoverlabel\":{\"align\":\"left\"},\"paper_bgcolor\":\"white\",\"plot_bgcolor\":\"#E5ECF6\",\"polar\":{\"bgcolor\":\"#E5ECF6\",\"angularaxis\":{\"gridcolor\":\"white\",\"linecolor\":\"white\",\"ticks\":\"\"},\"radialaxis\":{\"gridcolor\":\"white\",\"linecolor\":\"white\",\"ticks\":\"\"}},\"ternary\":{\"bgcolor\":\"#E5ECF6\",\"aaxis\":{\"gridcolor\":\"white\",\"linecolor\":\"white\",\"ticks\":\"\"},\"baxis\":{\"gridcolor\":\"white\",\"linecolor\":\"white\",\"ticks\":\"\"},\"caxis\":{\"gridcolor\":\"white\",\"linecolor\":\"white\",\"ticks\":\"\"}},\"coloraxis\":{\"colorbar\":{\"outlinewidth\":0,\"ticks\":\"\"}},\"colorscale\":{\"sequential\":[[0.0,\"#0d0887\"],[0.1111111111111111,\"#46039f\"],[0.2222222222222222,\"#7201a8\"],[0.3333333333333333,\"#9c179e\"],[0.4444444444444444,\"#bd3786\"],[0.5555555555555556,\"#d8576b\"],[0.6666666666666666,\"#ed7953\"],[0.7777777777777778,\"#fb9f3a\"],[0.8888888888888888,\"#fdca26\"],[1.0,\"#f0f921\"]],\"sequentialminus\":[[0.0,\"#0d0887\"],[0.1111111111111111,\"#46039f\"],[0.2222222222222222,\"#7201a8\"],[0.3333333333333333,\"#9c179e\"],[0.4444444444444444,\"#bd3786\"],[0.5555555555555556,\"#d8576b\"],[0.6666666666666666,\"#ed7953\"],[0.7777777777777778,\"#fb9f3a\"],[0.8888888888888888,\"#fdca26\"],[1.0,\"#f0f921\"]],\"diverging\":[[0,\"#8e0152\"],[0.1,\"#c51b7d\"],[0.2,\"#de77ae\"],[0.3,\"#f1b6da\"],[0.4,\"#fde0ef\"],[0.5,\"#f7f7f7\"],[0.6,\"#e6f5d0\"],[0.7,\"#b8e186\"],[0.8,\"#7fbc41\"],[0.9,\"#4d9221\"],[1,\"#276419\"]]},\"xaxis\":{\"gridcolor\":\"white\",\"linecolor\":\"white\",\"ticks\":\"\",\"title\":{\"standoff\":15},\"zerolinecolor\":\"white\",\"automargin\":true,\"zerolinewidth\":2},\"yaxis\":{\"gridcolor\":\"white\",\"linecolor\":\"white\",\"ticks\":\"\",\"title\":{\"standoff\":15},\"zerolinecolor\":\"white\",\"automargin\":true,\"zerolinewidth\":2},\"scene\":{\"xaxis\":{\"backgroundcolor\":\"#E5ECF6\",\"gridcolor\":\"white\",\"linecolor\":\"white\",\"showbackground\":true,\"ticks\":\"\",\"zerolinecolor\":\"white\",\"gridwidth\":2},\"yaxis\":{\"backgroundcolor\":\"#E5ECF6\",\"gridcolor\":\"white\",\"linecolor\":\"white\",\"showbackground\":true,\"ticks\":\"\",\"zerolinecolor\":\"white\",\"gridwidth\":2},\"zaxis\":{\"backgroundcolor\":\"#E5ECF6\",\"gridcolor\":\"white\",\"linecolor\":\"white\",\"showbackground\":true,\"ticks\":\"\",\"zerolinecolor\":\"white\",\"gridwidth\":2}},\"shapedefaults\":{\"line\":{\"color\":\"#2a3f5f\"}},\"annotationdefaults\":{\"arrowcolor\":\"#2a3f5f\",\"arrowhead\":0,\"arrowwidth\":1},\"geo\":{\"bgcolor\":\"white\",\"landcolor\":\"#E5ECF6\",\"subunitcolor\":\"white\",\"showland\":true,\"showlakes\":true,\"lakecolor\":\"white\"},\"title\":{\"x\":0.05},\"mapbox\":{\"style\":\"light\"}}},\"xaxis\":{\"anchor\":\"y\",\"domain\":[0.0,1.0],\"scaleanchor\":\"y\",\"constrain\":\"domain\",\"title\":{\"text\":\"src\"}},\"yaxis\":{\"anchor\":\"x\",\"domain\":[0.0,1.0],\"autorange\":\"reversed\",\"constrain\":\"domain\",\"title\":{\"text\":\"dest\"}},\"coloraxis\":{\"colorscale\":[[0.0,\"rgb(103,0,31)\"],[0.1,\"rgb(178,24,43)\"],[0.2,\"rgb(214,96,77)\"],[0.3,\"rgb(244,165,130)\"],[0.4,\"rgb(253,219,199)\"],[0.5,\"rgb(247,247,247)\"],[0.6,\"rgb(209,229,240)\"],[0.7,\"rgb(146,197,222)\"],[0.8,\"rgb(67,147,195)\"],[0.9,\"rgb(33,102,172)\"],[1.0,\"rgb(5,48,97)\"]],\"cmid\":0.0},\"title\":{\"text\":\"Attn head 0.0 patterns for test example 197\"}},                        {\"responsive\": true}                    ).then(function(){\n",
              "                            \n",
              "var gd = document.getElementById('87cd3780-4542-4646-930e-c3f8933c39e1');\n",
              "var x = new MutationObserver(function (mutations, observer) {{\n",
              "        var display = window.getComputedStyle(gd).display;\n",
              "        if (!display || display === 'none') {{\n",
              "            console.log([gd, 'removed!']);\n",
              "            Plotly.purge(gd);\n",
              "            observer.disconnect();\n",
              "        }}\n",
              "}});\n",
              "\n",
              "// Listen for the removal of the full notebook cells\n",
              "var notebookContainer = gd.closest('#notebook-container');\n",
              "if (notebookContainer) {{\n",
              "    x.observe(notebookContainer, {childList: true});\n",
              "}}\n",
              "\n",
              "// Listen for the clearing of the current output cell\n",
              "var outputEl = gd.closest('.output');\n",
              "if (outputEl) {{\n",
              "    x.observe(outputEl, {childList: true});\n",
              "}}\n",
              "\n",
              "                        })                };                            </script>        </div>\n",
              "</body>\n",
              "</html>"
            ]
          },
          "metadata": {}
        },
        {
          "output_type": "display_data",
          "data": {
            "text/html": [
              "<html>\n",
              "<head><meta charset=\"utf-8\" /></head>\n",
              "<body>\n",
              "    <div>            <script src=\"https://cdnjs.cloudflare.com/ajax/libs/mathjax/2.7.5/MathJax.js?config=TeX-AMS-MML_SVG\"></script><script type=\"text/javascript\">if (window.MathJax && window.MathJax.Hub && window.MathJax.Hub.Config) {window.MathJax.Hub.Config({SVG: {font: \"STIX-Web\"}});}</script>                <script type=\"text/javascript\">window.PlotlyConfig = {MathJaxConfig: 'local'};</script>\n",
              "        <script src=\"https://cdn.plot.ly/plotly-2.18.2.min.js\"></script>                <div id=\"d0e34d0e-2177-4298-b303-a43b6371d677\" class=\"plotly-graph-div\" style=\"height:525px; width:100%;\"></div>            <script type=\"text/javascript\">                                    window.PLOTLYENV=window.PLOTLYENV || {};                                    if (document.getElementById(\"d0e34d0e-2177-4298-b303-a43b6371d677\")) {                    Plotly.newPlot(                        \"d0e34d0e-2177-4298-b303-a43b6371d677\",                        [{\"coloraxis\":\"coloraxis\",\"name\":\"0\",\"x\":[\"BOS\",\"17_1\",\"32_2\",\"26_3\",\"MID\",\"2_5\",\"1_6\",\"0_7\",\"END\",\"26_9\",\"32_10\",\"17_11\"],\"y\":[\"BOS\",\"17_1\",\"32_2\",\"26_3\",\"MID\",\"2_5\",\"1_6\",\"0_7\",\"END\",\"26_9\",\"32_10\",\"17_11\"],\"z\":[[1.0,0.0,0.0,0.0,0.0,0.0,0.0,0.0,0.0,0.0,0.0,0.0],[0.4655529260635376,0.5344471335411072,0.0,0.0,0.0,0.0,0.0,0.0,0.0,0.0,0.0,0.0],[0.19936667382717133,0.20692633092403412,0.5937069654464722,0.0,0.0,0.0,0.0,0.0,0.0,0.0,0.0,0.0],[0.33283036947250366,0.14799253642559052,0.11529064923524857,0.40388643741607666,0.0,0.0,0.0,0.0,0.0,0.0,0.0,0.0],[0.29880818724632263,0.24106474220752716,0.20789150893688202,0.12629824876785278,0.1259373128414154,0.0,0.0,0.0,0.0,0.0,0.0,0.0],[0.3428749442100525,0.07297217845916748,0.06290958821773529,0.36949583888053894,0.09756425768136978,0.054183147847652435,0.0,0.0,0.0,0.0,0.0,0.0],[0.061438798904418945,0.09362175315618515,0.6071919202804565,0.07063726335763931,0.07836715877056122,0.06115693971514702,0.027586160227656364,0.0,0.0,0.0,0.0,0.0],[0.0434710755944252,0.4193134009838104,0.07489437609910965,0.09590774774551392,0.11914404481649399,0.10827695578336716,0.07581651210784912,0.06317593902349472,0.0,0.0,0.0,0.0],[0.16060857474803925,0.052425749599933624,0.17026428878307343,0.04811786115169525,0.024950498715043068,0.012519892305135727,0.31812939047813416,0.2007877379655838,0.012196005322039127,0.0,0.0,0.0],[0.05681747943162918,0.13446789979934692,0.03454732149839401,0.00623020576313138,0.024282539263367653,0.24991841614246368,0.041568830609321594,0.37613534927368164,0.04404742270708084,0.03198454529047012,0.0,0.0],[0.04253189265727997,0.01883290708065033,0.015156549401581287,0.010373393073678017,0.0211905837059021,0.24773825705051422,0.2569928467273712,0.005208518356084824,0.02645358070731163,0.2193363606929779,0.13618512451648712,0.0],[0.08800045400857925,0.07891605794429779,0.062330447137355804,0.05978814885020256,0.06911411881446838,0.11612974852323532,0.09437678754329681,0.08915548771619797,0.08285457640886307,0.08929885178804398,0.09316685050725937,0.07686847448348999]],\"type\":\"heatmap\",\"xaxis\":\"x\",\"yaxis\":\"y\",\"hovertemplate\":\"src: %{x}<br>dest: %{y}<br>color: %{z}<extra></extra>\"}],                        {\"template\":{\"data\":{\"histogram2dcontour\":[{\"type\":\"histogram2dcontour\",\"colorbar\":{\"outlinewidth\":0,\"ticks\":\"\"},\"colorscale\":[[0.0,\"#0d0887\"],[0.1111111111111111,\"#46039f\"],[0.2222222222222222,\"#7201a8\"],[0.3333333333333333,\"#9c179e\"],[0.4444444444444444,\"#bd3786\"],[0.5555555555555556,\"#d8576b\"],[0.6666666666666666,\"#ed7953\"],[0.7777777777777778,\"#fb9f3a\"],[0.8888888888888888,\"#fdca26\"],[1.0,\"#f0f921\"]]}],\"choropleth\":[{\"type\":\"choropleth\",\"colorbar\":{\"outlinewidth\":0,\"ticks\":\"\"}}],\"histogram2d\":[{\"type\":\"histogram2d\",\"colorbar\":{\"outlinewidth\":0,\"ticks\":\"\"},\"colorscale\":[[0.0,\"#0d0887\"],[0.1111111111111111,\"#46039f\"],[0.2222222222222222,\"#7201a8\"],[0.3333333333333333,\"#9c179e\"],[0.4444444444444444,\"#bd3786\"],[0.5555555555555556,\"#d8576b\"],[0.6666666666666666,\"#ed7953\"],[0.7777777777777778,\"#fb9f3a\"],[0.8888888888888888,\"#fdca26\"],[1.0,\"#f0f921\"]]}],\"heatmap\":[{\"type\":\"heatmap\",\"colorbar\":{\"outlinewidth\":0,\"ticks\":\"\"},\"colorscale\":[[0.0,\"#0d0887\"],[0.1111111111111111,\"#46039f\"],[0.2222222222222222,\"#7201a8\"],[0.3333333333333333,\"#9c179e\"],[0.4444444444444444,\"#bd3786\"],[0.5555555555555556,\"#d8576b\"],[0.6666666666666666,\"#ed7953\"],[0.7777777777777778,\"#fb9f3a\"],[0.8888888888888888,\"#fdca26\"],[1.0,\"#f0f921\"]]}],\"heatmapgl\":[{\"type\":\"heatmapgl\",\"colorbar\":{\"outlinewidth\":0,\"ticks\":\"\"},\"colorscale\":[[0.0,\"#0d0887\"],[0.1111111111111111,\"#46039f\"],[0.2222222222222222,\"#7201a8\"],[0.3333333333333333,\"#9c179e\"],[0.4444444444444444,\"#bd3786\"],[0.5555555555555556,\"#d8576b\"],[0.6666666666666666,\"#ed7953\"],[0.7777777777777778,\"#fb9f3a\"],[0.8888888888888888,\"#fdca26\"],[1.0,\"#f0f921\"]]}],\"contourcarpet\":[{\"type\":\"contourcarpet\",\"colorbar\":{\"outlinewidth\":0,\"ticks\":\"\"}}],\"contour\":[{\"type\":\"contour\",\"colorbar\":{\"outlinewidth\":0,\"ticks\":\"\"},\"colorscale\":[[0.0,\"#0d0887\"],[0.1111111111111111,\"#46039f\"],[0.2222222222222222,\"#7201a8\"],[0.3333333333333333,\"#9c179e\"],[0.4444444444444444,\"#bd3786\"],[0.5555555555555556,\"#d8576b\"],[0.6666666666666666,\"#ed7953\"],[0.7777777777777778,\"#fb9f3a\"],[0.8888888888888888,\"#fdca26\"],[1.0,\"#f0f921\"]]}],\"surface\":[{\"type\":\"surface\",\"colorbar\":{\"outlinewidth\":0,\"ticks\":\"\"},\"colorscale\":[[0.0,\"#0d0887\"],[0.1111111111111111,\"#46039f\"],[0.2222222222222222,\"#7201a8\"],[0.3333333333333333,\"#9c179e\"],[0.4444444444444444,\"#bd3786\"],[0.5555555555555556,\"#d8576b\"],[0.6666666666666666,\"#ed7953\"],[0.7777777777777778,\"#fb9f3a\"],[0.8888888888888888,\"#fdca26\"],[1.0,\"#f0f921\"]]}],\"mesh3d\":[{\"type\":\"mesh3d\",\"colorbar\":{\"outlinewidth\":0,\"ticks\":\"\"}}],\"scatter\":[{\"fillpattern\":{\"fillmode\":\"overlay\",\"size\":10,\"solidity\":0.2},\"type\":\"scatter\"}],\"parcoords\":[{\"type\":\"parcoords\",\"line\":{\"colorbar\":{\"outlinewidth\":0,\"ticks\":\"\"}}}],\"scatterpolargl\":[{\"type\":\"scatterpolargl\",\"marker\":{\"colorbar\":{\"outlinewidth\":0,\"ticks\":\"\"}}}],\"bar\":[{\"error_x\":{\"color\":\"#2a3f5f\"},\"error_y\":{\"color\":\"#2a3f5f\"},\"marker\":{\"line\":{\"color\":\"#E5ECF6\",\"width\":0.5},\"pattern\":{\"fillmode\":\"overlay\",\"size\":10,\"solidity\":0.2}},\"type\":\"bar\"}],\"scattergeo\":[{\"type\":\"scattergeo\",\"marker\":{\"colorbar\":{\"outlinewidth\":0,\"ticks\":\"\"}}}],\"scatterpolar\":[{\"type\":\"scatterpolar\",\"marker\":{\"colorbar\":{\"outlinewidth\":0,\"ticks\":\"\"}}}],\"histogram\":[{\"marker\":{\"pattern\":{\"fillmode\":\"overlay\",\"size\":10,\"solidity\":0.2}},\"type\":\"histogram\"}],\"scattergl\":[{\"type\":\"scattergl\",\"marker\":{\"colorbar\":{\"outlinewidth\":0,\"ticks\":\"\"}}}],\"scatter3d\":[{\"type\":\"scatter3d\",\"line\":{\"colorbar\":{\"outlinewidth\":0,\"ticks\":\"\"}},\"marker\":{\"colorbar\":{\"outlinewidth\":0,\"ticks\":\"\"}}}],\"scattermapbox\":[{\"type\":\"scattermapbox\",\"marker\":{\"colorbar\":{\"outlinewidth\":0,\"ticks\":\"\"}}}],\"scatterternary\":[{\"type\":\"scatterternary\",\"marker\":{\"colorbar\":{\"outlinewidth\":0,\"ticks\":\"\"}}}],\"scattercarpet\":[{\"type\":\"scattercarpet\",\"marker\":{\"colorbar\":{\"outlinewidth\":0,\"ticks\":\"\"}}}],\"carpet\":[{\"aaxis\":{\"endlinecolor\":\"#2a3f5f\",\"gridcolor\":\"white\",\"linecolor\":\"white\",\"minorgridcolor\":\"white\",\"startlinecolor\":\"#2a3f5f\"},\"baxis\":{\"endlinecolor\":\"#2a3f5f\",\"gridcolor\":\"white\",\"linecolor\":\"white\",\"minorgridcolor\":\"white\",\"startlinecolor\":\"#2a3f5f\"},\"type\":\"carpet\"}],\"table\":[{\"cells\":{\"fill\":{\"color\":\"#EBF0F8\"},\"line\":{\"color\":\"white\"}},\"header\":{\"fill\":{\"color\":\"#C8D4E3\"},\"line\":{\"color\":\"white\"}},\"type\":\"table\"}],\"barpolar\":[{\"marker\":{\"line\":{\"color\":\"#E5ECF6\",\"width\":0.5},\"pattern\":{\"fillmode\":\"overlay\",\"size\":10,\"solidity\":0.2}},\"type\":\"barpolar\"}],\"pie\":[{\"automargin\":true,\"type\":\"pie\"}]},\"layout\":{\"autotypenumbers\":\"strict\",\"colorway\":[\"#636efa\",\"#EF553B\",\"#00cc96\",\"#ab63fa\",\"#FFA15A\",\"#19d3f3\",\"#FF6692\",\"#B6E880\",\"#FF97FF\",\"#FECB52\"],\"font\":{\"color\":\"#2a3f5f\"},\"hovermode\":\"closest\",\"hoverlabel\":{\"align\":\"left\"},\"paper_bgcolor\":\"white\",\"plot_bgcolor\":\"#E5ECF6\",\"polar\":{\"bgcolor\":\"#E5ECF6\",\"angularaxis\":{\"gridcolor\":\"white\",\"linecolor\":\"white\",\"ticks\":\"\"},\"radialaxis\":{\"gridcolor\":\"white\",\"linecolor\":\"white\",\"ticks\":\"\"}},\"ternary\":{\"bgcolor\":\"#E5ECF6\",\"aaxis\":{\"gridcolor\":\"white\",\"linecolor\":\"white\",\"ticks\":\"\"},\"baxis\":{\"gridcolor\":\"white\",\"linecolor\":\"white\",\"ticks\":\"\"},\"caxis\":{\"gridcolor\":\"white\",\"linecolor\":\"white\",\"ticks\":\"\"}},\"coloraxis\":{\"colorbar\":{\"outlinewidth\":0,\"ticks\":\"\"}},\"colorscale\":{\"sequential\":[[0.0,\"#0d0887\"],[0.1111111111111111,\"#46039f\"],[0.2222222222222222,\"#7201a8\"],[0.3333333333333333,\"#9c179e\"],[0.4444444444444444,\"#bd3786\"],[0.5555555555555556,\"#d8576b\"],[0.6666666666666666,\"#ed7953\"],[0.7777777777777778,\"#fb9f3a\"],[0.8888888888888888,\"#fdca26\"],[1.0,\"#f0f921\"]],\"sequentialminus\":[[0.0,\"#0d0887\"],[0.1111111111111111,\"#46039f\"],[0.2222222222222222,\"#7201a8\"],[0.3333333333333333,\"#9c179e\"],[0.4444444444444444,\"#bd3786\"],[0.5555555555555556,\"#d8576b\"],[0.6666666666666666,\"#ed7953\"],[0.7777777777777778,\"#fb9f3a\"],[0.8888888888888888,\"#fdca26\"],[1.0,\"#f0f921\"]],\"diverging\":[[0,\"#8e0152\"],[0.1,\"#c51b7d\"],[0.2,\"#de77ae\"],[0.3,\"#f1b6da\"],[0.4,\"#fde0ef\"],[0.5,\"#f7f7f7\"],[0.6,\"#e6f5d0\"],[0.7,\"#b8e186\"],[0.8,\"#7fbc41\"],[0.9,\"#4d9221\"],[1,\"#276419\"]]},\"xaxis\":{\"gridcolor\":\"white\",\"linecolor\":\"white\",\"ticks\":\"\",\"title\":{\"standoff\":15},\"zerolinecolor\":\"white\",\"automargin\":true,\"zerolinewidth\":2},\"yaxis\":{\"gridcolor\":\"white\",\"linecolor\":\"white\",\"ticks\":\"\",\"title\":{\"standoff\":15},\"zerolinecolor\":\"white\",\"automargin\":true,\"zerolinewidth\":2},\"scene\":{\"xaxis\":{\"backgroundcolor\":\"#E5ECF6\",\"gridcolor\":\"white\",\"linecolor\":\"white\",\"showbackground\":true,\"ticks\":\"\",\"zerolinecolor\":\"white\",\"gridwidth\":2},\"yaxis\":{\"backgroundcolor\":\"#E5ECF6\",\"gridcolor\":\"white\",\"linecolor\":\"white\",\"showbackground\":true,\"ticks\":\"\",\"zerolinecolor\":\"white\",\"gridwidth\":2},\"zaxis\":{\"backgroundcolor\":\"#E5ECF6\",\"gridcolor\":\"white\",\"linecolor\":\"white\",\"showbackground\":true,\"ticks\":\"\",\"zerolinecolor\":\"white\",\"gridwidth\":2}},\"shapedefaults\":{\"line\":{\"color\":\"#2a3f5f\"}},\"annotationdefaults\":{\"arrowcolor\":\"#2a3f5f\",\"arrowhead\":0,\"arrowwidth\":1},\"geo\":{\"bgcolor\":\"white\",\"landcolor\":\"#E5ECF6\",\"subunitcolor\":\"white\",\"showland\":true,\"showlakes\":true,\"lakecolor\":\"white\"},\"title\":{\"x\":0.05},\"mapbox\":{\"style\":\"light\"}}},\"xaxis\":{\"anchor\":\"y\",\"domain\":[0.0,1.0],\"scaleanchor\":\"y\",\"constrain\":\"domain\",\"title\":{\"text\":\"src\"}},\"yaxis\":{\"anchor\":\"x\",\"domain\":[0.0,1.0],\"autorange\":\"reversed\",\"constrain\":\"domain\",\"title\":{\"text\":\"dest\"}},\"coloraxis\":{\"colorscale\":[[0.0,\"rgb(103,0,31)\"],[0.1,\"rgb(178,24,43)\"],[0.2,\"rgb(214,96,77)\"],[0.3,\"rgb(244,165,130)\"],[0.4,\"rgb(253,219,199)\"],[0.5,\"rgb(247,247,247)\"],[0.6,\"rgb(209,229,240)\"],[0.7,\"rgb(146,197,222)\"],[0.8,\"rgb(67,147,195)\"],[0.9,\"rgb(33,102,172)\"],[1.0,\"rgb(5,48,97)\"]],\"cmid\":0.0},\"title\":{\"text\":\"Attn head 0.0 patterns for test example 215\"}},                        {\"responsive\": true}                    ).then(function(){\n",
              "                            \n",
              "var gd = document.getElementById('d0e34d0e-2177-4298-b303-a43b6371d677');\n",
              "var x = new MutationObserver(function (mutations, observer) {{\n",
              "        var display = window.getComputedStyle(gd).display;\n",
              "        if (!display || display === 'none') {{\n",
              "            console.log([gd, 'removed!']);\n",
              "            Plotly.purge(gd);\n",
              "            observer.disconnect();\n",
              "        }}\n",
              "}});\n",
              "\n",
              "// Listen for the removal of the full notebook cells\n",
              "var notebookContainer = gd.closest('#notebook-container');\n",
              "if (notebookContainer) {{\n",
              "    x.observe(notebookContainer, {childList: true});\n",
              "}}\n",
              "\n",
              "// Listen for the clearing of the current output cell\n",
              "var outputEl = gd.closest('.output');\n",
              "if (outputEl) {{\n",
              "    x.observe(outputEl, {childList: true});\n",
              "}}\n",
              "\n",
              "                        })                };                            </script>        </div>\n",
              "</body>\n",
              "</html>"
            ]
          },
          "metadata": {}
        },
        {
          "output_type": "display_data",
          "data": {
            "text/html": [
              "<html>\n",
              "<head><meta charset=\"utf-8\" /></head>\n",
              "<body>\n",
              "    <div>            <script src=\"https://cdnjs.cloudflare.com/ajax/libs/mathjax/2.7.5/MathJax.js?config=TeX-AMS-MML_SVG\"></script><script type=\"text/javascript\">if (window.MathJax && window.MathJax.Hub && window.MathJax.Hub.Config) {window.MathJax.Hub.Config({SVG: {font: \"STIX-Web\"}});}</script>                <script type=\"text/javascript\">window.PlotlyConfig = {MathJaxConfig: 'local'};</script>\n",
              "        <script src=\"https://cdn.plot.ly/plotly-2.18.2.min.js\"></script>                <div id=\"838f4b09-9d8b-42cf-b693-926a91a34905\" class=\"plotly-graph-div\" style=\"height:525px; width:100%;\"></div>            <script type=\"text/javascript\">                                    window.PLOTLYENV=window.PLOTLYENV || {};                                    if (document.getElementById(\"838f4b09-9d8b-42cf-b693-926a91a34905\")) {                    Plotly.newPlot(                        \"838f4b09-9d8b-42cf-b693-926a91a34905\",                        [{\"coloraxis\":\"coloraxis\",\"name\":\"0\",\"x\":[\"BOS\",\"11_1\",\"14_2\",\"17_3\",\"MID\",\"2_5\",\"1_6\",\"0_7\",\"END\",\"17_9\",\"14_10\",\"11_11\"],\"y\":[\"BOS\",\"11_1\",\"14_2\",\"17_3\",\"MID\",\"2_5\",\"1_6\",\"0_7\",\"END\",\"17_9\",\"14_10\",\"11_11\"],\"z\":[[1.0,0.0,0.0,0.0,0.0,0.0,0.0,0.0,0.0,0.0,0.0,0.0],[0.3193347454071045,0.6806652545928955,0.0,0.0,0.0,0.0,0.0,0.0,0.0,0.0,0.0,0.0],[0.19890396296977997,0.20894582569599152,0.5921502113342285,0.0,0.0,0.0,0.0,0.0,0.0,0.0,0.0,0.0],[0.39938628673553467,0.14953157305717468,0.09613689035177231,0.35494524240493774,0.0,0.0,0.0,0.0,0.0,0.0,0.0,0.0],[0.3130735456943512,0.22492599487304688,0.19265307486057281,0.13739769160747528,0.13194966316223145,0.0,0.0,0.0,0.0,0.0,0.0,0.0],[0.3289949297904968,0.06866449117660522,0.0605362243950367,0.3961997926235199,0.09361472725868225,0.051989760249853134,0.0,0.0,0.0,0.0,0.0,0.0],[0.06425651162862778,0.11952125281095505,0.5775020718574524,0.06394581496715546,0.0819612443447113,0.06396172940731049,0.02885132096707821,0.0,0.0,0.0,0.0,0.0],[0.04572538286447525,0.4079354405403137,0.07147955894470215,0.08944491297006607,0.12532258033752441,0.11389192938804626,0.07974816113710403,0.06645208597183228,0.0,0.0,0.0,0.0],[0.1672516167163849,0.04420246183872223,0.14072351157665253,0.05572127550840378,0.025982491672039032,0.013037736527621746,0.3312877416610718,0.2090926617383957,0.012700452469289303,0.0,0.0,0.0],[0.05738576129078865,0.0891595184803009,0.016207417473196983,0.004573875106871128,0.017239732667803764,0.2726137042045593,0.041592713445425034,0.427670419216156,0.039337676018476486,0.034219127148389816,0.0,0.0],[0.04479273781180382,0.0148776201531291,0.012644030153751373,0.010519775561988354,0.018630366772413254,0.2379329800605774,0.24644097685813904,0.0054019843228161335,0.024244923144578934,0.26269134879112244,0.12182322144508362,0.0],[0.07691498100757599,0.09748954325914383,0.07549681514501572,0.09374000132083893,0.09428045898675919,0.08791422843933105,0.07405880093574524,0.08264192193746567,0.10283591598272324,0.0661408081650734,0.06742995232343674,0.08105658739805222]],\"type\":\"heatmap\",\"xaxis\":\"x\",\"yaxis\":\"y\",\"hovertemplate\":\"src: %{x}<br>dest: %{y}<br>color: %{z}<extra></extra>\"}],                        {\"template\":{\"data\":{\"histogram2dcontour\":[{\"type\":\"histogram2dcontour\",\"colorbar\":{\"outlinewidth\":0,\"ticks\":\"\"},\"colorscale\":[[0.0,\"#0d0887\"],[0.1111111111111111,\"#46039f\"],[0.2222222222222222,\"#7201a8\"],[0.3333333333333333,\"#9c179e\"],[0.4444444444444444,\"#bd3786\"],[0.5555555555555556,\"#d8576b\"],[0.6666666666666666,\"#ed7953\"],[0.7777777777777778,\"#fb9f3a\"],[0.8888888888888888,\"#fdca26\"],[1.0,\"#f0f921\"]]}],\"choropleth\":[{\"type\":\"choropleth\",\"colorbar\":{\"outlinewidth\":0,\"ticks\":\"\"}}],\"histogram2d\":[{\"type\":\"histogram2d\",\"colorbar\":{\"outlinewidth\":0,\"ticks\":\"\"},\"colorscale\":[[0.0,\"#0d0887\"],[0.1111111111111111,\"#46039f\"],[0.2222222222222222,\"#7201a8\"],[0.3333333333333333,\"#9c179e\"],[0.4444444444444444,\"#bd3786\"],[0.5555555555555556,\"#d8576b\"],[0.6666666666666666,\"#ed7953\"],[0.7777777777777778,\"#fb9f3a\"],[0.8888888888888888,\"#fdca26\"],[1.0,\"#f0f921\"]]}],\"heatmap\":[{\"type\":\"heatmap\",\"colorbar\":{\"outlinewidth\":0,\"ticks\":\"\"},\"colorscale\":[[0.0,\"#0d0887\"],[0.1111111111111111,\"#46039f\"],[0.2222222222222222,\"#7201a8\"],[0.3333333333333333,\"#9c179e\"],[0.4444444444444444,\"#bd3786\"],[0.5555555555555556,\"#d8576b\"],[0.6666666666666666,\"#ed7953\"],[0.7777777777777778,\"#fb9f3a\"],[0.8888888888888888,\"#fdca26\"],[1.0,\"#f0f921\"]]}],\"heatmapgl\":[{\"type\":\"heatmapgl\",\"colorbar\":{\"outlinewidth\":0,\"ticks\":\"\"},\"colorscale\":[[0.0,\"#0d0887\"],[0.1111111111111111,\"#46039f\"],[0.2222222222222222,\"#7201a8\"],[0.3333333333333333,\"#9c179e\"],[0.4444444444444444,\"#bd3786\"],[0.5555555555555556,\"#d8576b\"],[0.6666666666666666,\"#ed7953\"],[0.7777777777777778,\"#fb9f3a\"],[0.8888888888888888,\"#fdca26\"],[1.0,\"#f0f921\"]]}],\"contourcarpet\":[{\"type\":\"contourcarpet\",\"colorbar\":{\"outlinewidth\":0,\"ticks\":\"\"}}],\"contour\":[{\"type\":\"contour\",\"colorbar\":{\"outlinewidth\":0,\"ticks\":\"\"},\"colorscale\":[[0.0,\"#0d0887\"],[0.1111111111111111,\"#46039f\"],[0.2222222222222222,\"#7201a8\"],[0.3333333333333333,\"#9c179e\"],[0.4444444444444444,\"#bd3786\"],[0.5555555555555556,\"#d8576b\"],[0.6666666666666666,\"#ed7953\"],[0.7777777777777778,\"#fb9f3a\"],[0.8888888888888888,\"#fdca26\"],[1.0,\"#f0f921\"]]}],\"surface\":[{\"type\":\"surface\",\"colorbar\":{\"outlinewidth\":0,\"ticks\":\"\"},\"colorscale\":[[0.0,\"#0d0887\"],[0.1111111111111111,\"#46039f\"],[0.2222222222222222,\"#7201a8\"],[0.3333333333333333,\"#9c179e\"],[0.4444444444444444,\"#bd3786\"],[0.5555555555555556,\"#d8576b\"],[0.6666666666666666,\"#ed7953\"],[0.7777777777777778,\"#fb9f3a\"],[0.8888888888888888,\"#fdca26\"],[1.0,\"#f0f921\"]]}],\"mesh3d\":[{\"type\":\"mesh3d\",\"colorbar\":{\"outlinewidth\":0,\"ticks\":\"\"}}],\"scatter\":[{\"fillpattern\":{\"fillmode\":\"overlay\",\"size\":10,\"solidity\":0.2},\"type\":\"scatter\"}],\"parcoords\":[{\"type\":\"parcoords\",\"line\":{\"colorbar\":{\"outlinewidth\":0,\"ticks\":\"\"}}}],\"scatterpolargl\":[{\"type\":\"scatterpolargl\",\"marker\":{\"colorbar\":{\"outlinewidth\":0,\"ticks\":\"\"}}}],\"bar\":[{\"error_x\":{\"color\":\"#2a3f5f\"},\"error_y\":{\"color\":\"#2a3f5f\"},\"marker\":{\"line\":{\"color\":\"#E5ECF6\",\"width\":0.5},\"pattern\":{\"fillmode\":\"overlay\",\"size\":10,\"solidity\":0.2}},\"type\":\"bar\"}],\"scattergeo\":[{\"type\":\"scattergeo\",\"marker\":{\"colorbar\":{\"outlinewidth\":0,\"ticks\":\"\"}}}],\"scatterpolar\":[{\"type\":\"scatterpolar\",\"marker\":{\"colorbar\":{\"outlinewidth\":0,\"ticks\":\"\"}}}],\"histogram\":[{\"marker\":{\"pattern\":{\"fillmode\":\"overlay\",\"size\":10,\"solidity\":0.2}},\"type\":\"histogram\"}],\"scattergl\":[{\"type\":\"scattergl\",\"marker\":{\"colorbar\":{\"outlinewidth\":0,\"ticks\":\"\"}}}],\"scatter3d\":[{\"type\":\"scatter3d\",\"line\":{\"colorbar\":{\"outlinewidth\":0,\"ticks\":\"\"}},\"marker\":{\"colorbar\":{\"outlinewidth\":0,\"ticks\":\"\"}}}],\"scattermapbox\":[{\"type\":\"scattermapbox\",\"marker\":{\"colorbar\":{\"outlinewidth\":0,\"ticks\":\"\"}}}],\"scatterternary\":[{\"type\":\"scatterternary\",\"marker\":{\"colorbar\":{\"outlinewidth\":0,\"ticks\":\"\"}}}],\"scattercarpet\":[{\"type\":\"scattercarpet\",\"marker\":{\"colorbar\":{\"outlinewidth\":0,\"ticks\":\"\"}}}],\"carpet\":[{\"aaxis\":{\"endlinecolor\":\"#2a3f5f\",\"gridcolor\":\"white\",\"linecolor\":\"white\",\"minorgridcolor\":\"white\",\"startlinecolor\":\"#2a3f5f\"},\"baxis\":{\"endlinecolor\":\"#2a3f5f\",\"gridcolor\":\"white\",\"linecolor\":\"white\",\"minorgridcolor\":\"white\",\"startlinecolor\":\"#2a3f5f\"},\"type\":\"carpet\"}],\"table\":[{\"cells\":{\"fill\":{\"color\":\"#EBF0F8\"},\"line\":{\"color\":\"white\"}},\"header\":{\"fill\":{\"color\":\"#C8D4E3\"},\"line\":{\"color\":\"white\"}},\"type\":\"table\"}],\"barpolar\":[{\"marker\":{\"line\":{\"color\":\"#E5ECF6\",\"width\":0.5},\"pattern\":{\"fillmode\":\"overlay\",\"size\":10,\"solidity\":0.2}},\"type\":\"barpolar\"}],\"pie\":[{\"automargin\":true,\"type\":\"pie\"}]},\"layout\":{\"autotypenumbers\":\"strict\",\"colorway\":[\"#636efa\",\"#EF553B\",\"#00cc96\",\"#ab63fa\",\"#FFA15A\",\"#19d3f3\",\"#FF6692\",\"#B6E880\",\"#FF97FF\",\"#FECB52\"],\"font\":{\"color\":\"#2a3f5f\"},\"hovermode\":\"closest\",\"hoverlabel\":{\"align\":\"left\"},\"paper_bgcolor\":\"white\",\"plot_bgcolor\":\"#E5ECF6\",\"polar\":{\"bgcolor\":\"#E5ECF6\",\"angularaxis\":{\"gridcolor\":\"white\",\"linecolor\":\"white\",\"ticks\":\"\"},\"radialaxis\":{\"gridcolor\":\"white\",\"linecolor\":\"white\",\"ticks\":\"\"}},\"ternary\":{\"bgcolor\":\"#E5ECF6\",\"aaxis\":{\"gridcolor\":\"white\",\"linecolor\":\"white\",\"ticks\":\"\"},\"baxis\":{\"gridcolor\":\"white\",\"linecolor\":\"white\",\"ticks\":\"\"},\"caxis\":{\"gridcolor\":\"white\",\"linecolor\":\"white\",\"ticks\":\"\"}},\"coloraxis\":{\"colorbar\":{\"outlinewidth\":0,\"ticks\":\"\"}},\"colorscale\":{\"sequential\":[[0.0,\"#0d0887\"],[0.1111111111111111,\"#46039f\"],[0.2222222222222222,\"#7201a8\"],[0.3333333333333333,\"#9c179e\"],[0.4444444444444444,\"#bd3786\"],[0.5555555555555556,\"#d8576b\"],[0.6666666666666666,\"#ed7953\"],[0.7777777777777778,\"#fb9f3a\"],[0.8888888888888888,\"#fdca26\"],[1.0,\"#f0f921\"]],\"sequentialminus\":[[0.0,\"#0d0887\"],[0.1111111111111111,\"#46039f\"],[0.2222222222222222,\"#7201a8\"],[0.3333333333333333,\"#9c179e\"],[0.4444444444444444,\"#bd3786\"],[0.5555555555555556,\"#d8576b\"],[0.6666666666666666,\"#ed7953\"],[0.7777777777777778,\"#fb9f3a\"],[0.8888888888888888,\"#fdca26\"],[1.0,\"#f0f921\"]],\"diverging\":[[0,\"#8e0152\"],[0.1,\"#c51b7d\"],[0.2,\"#de77ae\"],[0.3,\"#f1b6da\"],[0.4,\"#fde0ef\"],[0.5,\"#f7f7f7\"],[0.6,\"#e6f5d0\"],[0.7,\"#b8e186\"],[0.8,\"#7fbc41\"],[0.9,\"#4d9221\"],[1,\"#276419\"]]},\"xaxis\":{\"gridcolor\":\"white\",\"linecolor\":\"white\",\"ticks\":\"\",\"title\":{\"standoff\":15},\"zerolinecolor\":\"white\",\"automargin\":true,\"zerolinewidth\":2},\"yaxis\":{\"gridcolor\":\"white\",\"linecolor\":\"white\",\"ticks\":\"\",\"title\":{\"standoff\":15},\"zerolinecolor\":\"white\",\"automargin\":true,\"zerolinewidth\":2},\"scene\":{\"xaxis\":{\"backgroundcolor\":\"#E5ECF6\",\"gridcolor\":\"white\",\"linecolor\":\"white\",\"showbackground\":true,\"ticks\":\"\",\"zerolinecolor\":\"white\",\"gridwidth\":2},\"yaxis\":{\"backgroundcolor\":\"#E5ECF6\",\"gridcolor\":\"white\",\"linecolor\":\"white\",\"showbackground\":true,\"ticks\":\"\",\"zerolinecolor\":\"white\",\"gridwidth\":2},\"zaxis\":{\"backgroundcolor\":\"#E5ECF6\",\"gridcolor\":\"white\",\"linecolor\":\"white\",\"showbackground\":true,\"ticks\":\"\",\"zerolinecolor\":\"white\",\"gridwidth\":2}},\"shapedefaults\":{\"line\":{\"color\":\"#2a3f5f\"}},\"annotationdefaults\":{\"arrowcolor\":\"#2a3f5f\",\"arrowhead\":0,\"arrowwidth\":1},\"geo\":{\"bgcolor\":\"white\",\"landcolor\":\"#E5ECF6\",\"subunitcolor\":\"white\",\"showland\":true,\"showlakes\":true,\"lakecolor\":\"white\"},\"title\":{\"x\":0.05},\"mapbox\":{\"style\":\"light\"}}},\"xaxis\":{\"anchor\":\"y\",\"domain\":[0.0,1.0],\"scaleanchor\":\"y\",\"constrain\":\"domain\",\"title\":{\"text\":\"src\"}},\"yaxis\":{\"anchor\":\"x\",\"domain\":[0.0,1.0],\"autorange\":\"reversed\",\"constrain\":\"domain\",\"title\":{\"text\":\"dest\"}},\"coloraxis\":{\"colorscale\":[[0.0,\"rgb(103,0,31)\"],[0.1,\"rgb(178,24,43)\"],[0.2,\"rgb(214,96,77)\"],[0.3,\"rgb(244,165,130)\"],[0.4,\"rgb(253,219,199)\"],[0.5,\"rgb(247,247,247)\"],[0.6,\"rgb(209,229,240)\"],[0.7,\"rgb(146,197,222)\"],[0.8,\"rgb(67,147,195)\"],[0.9,\"rgb(33,102,172)\"],[1.0,\"rgb(5,48,97)\"]],\"cmid\":0.0},\"title\":{\"text\":\"Attn head 0.0 patterns for test example 20\"}},                        {\"responsive\": true}                    ).then(function(){\n",
              "                            \n",
              "var gd = document.getElementById('838f4b09-9d8b-42cf-b693-926a91a34905');\n",
              "var x = new MutationObserver(function (mutations, observer) {{\n",
              "        var display = window.getComputedStyle(gd).display;\n",
              "        if (!display || display === 'none') {{\n",
              "            console.log([gd, 'removed!']);\n",
              "            Plotly.purge(gd);\n",
              "            observer.disconnect();\n",
              "        }}\n",
              "}});\n",
              "\n",
              "// Listen for the removal of the full notebook cells\n",
              "var notebookContainer = gd.closest('#notebook-container');\n",
              "if (notebookContainer) {{\n",
              "    x.observe(notebookContainer, {childList: true});\n",
              "}}\n",
              "\n",
              "// Listen for the clearing of the current output cell\n",
              "var outputEl = gd.closest('.output');\n",
              "if (outputEl) {{\n",
              "    x.observe(outputEl, {childList: true});\n",
              "}}\n",
              "\n",
              "                        })                };                            </script>        </div>\n",
              "</body>\n",
              "</html>"
            ]
          },
          "metadata": {}
        }
      ]
    },
    {
      "cell_type": "markdown",
      "source": [
        "Notice that the perm destination tokens mostly attend to the corresponding positions in the list, as expected. (For example: perm token 0 always attends the pos=1, 0 indexed)\n",
        "\n",
        "One way to double check this is to look at QK circuits. Recall that in the 0th layer we can decompose the attn scores into 4 terms. We expect the $W_E @ W_{QK} @ W_{pos}^T$ term to stand out, with a stripe when dest_token=i, src_pos=i+1 for i = 0, 1, 2."
      ],
      "metadata": {
        "id": "IFuePAJxMl-G"
      }
    },
    {
      "cell_type": "markdown",
      "source": [
        "## Understand 0.0 QK circuits"
      ],
      "metadata": {
        "id": "HmUsvw5RNDKl"
      }
    },
    {
      "cell_type": "code",
      "source": [
        "W_E = model.W_E\n",
        "print(W_E.shape)\n",
        "W_pos = model.W_pos\n",
        "print(W_pos.shape)\n",
        "W_QK = model.QK[0,0].AB\n",
        "print(W_QK.shape)"
      ],
      "metadata": {
        "colab": {
          "base_uri": "https://localhost:8080/"
        },
        "id": "BY1b6OnjNGnJ",
        "outputId": "cba93c40-d78a-4f0e-c055-4f1ad05371ff"
      },
      "execution_count": 101,
      "outputs": [
        {
          "output_type": "stream",
          "name": "stdout",
          "text": [
            "torch.Size([53, 128])\n",
            "torch.Size([12, 128])\n",
            "torch.Size([128, 128])\n"
          ]
        }
      ]
    },
    {
      "cell_type": "code",
      "source": [
        "imshow(\n",
        "    W_E @ W_QK @ W_pos.T,\n",
        "    title=\"Attn 0.0 full QK circuit W_E @ W_QK @ W_pos.T\",\n",
        "    xaxis=\"src pos\", yaxis=\"dest token\",\n",
        "    x=labels\n",
        ")"
      ],
      "metadata": {
        "colab": {
          "base_uri": "https://localhost:8080/",
          "height": 542
        },
        "id": "f6LbYSyZNLam",
        "outputId": "3917b4c6-89e1-4ea4-b592-0773198af45f"
      },
      "execution_count": 102,
      "outputs": [
        {
          "output_type": "display_data",
          "data": {
            "text/html": [
              "<html>\n",
              "<head><meta charset=\"utf-8\" /></head>\n",
              "<body>\n",
              "    <div>            <script src=\"https://cdnjs.cloudflare.com/ajax/libs/mathjax/2.7.5/MathJax.js?config=TeX-AMS-MML_SVG\"></script><script type=\"text/javascript\">if (window.MathJax && window.MathJax.Hub && window.MathJax.Hub.Config) {window.MathJax.Hub.Config({SVG: {font: \"STIX-Web\"}});}</script>                <script type=\"text/javascript\">window.PlotlyConfig = {MathJaxConfig: 'local'};</script>\n",
              "        <script src=\"https://cdn.plot.ly/plotly-2.18.2.min.js\"></script>                <div id=\"32f7fb7e-8b6e-4a6e-a1c6-be2d8dcf3522\" class=\"plotly-graph-div\" style=\"height:525px; width:100%;\"></div>            <script type=\"text/javascript\">                                    window.PLOTLYENV=window.PLOTLYENV || {};                                    if (document.getElementById(\"32f7fb7e-8b6e-4a6e-a1c6-be2d8dcf3522\")) {                    Plotly.newPlot(                        \"32f7fb7e-8b6e-4a6e-a1c6-be2d8dcf3522\",                        [{\"coloraxis\":\"coloraxis\",\"name\":\"0\",\"x\":[\"BOS\",\"11_1\",\"14_2\",\"17_3\",\"MID\",\"2_5\",\"1_6\",\"0_7\",\"END\",\"17_9\",\"14_10\",\"11_11\"],\"z\":[[-0.3915599584579468,12.15326976776123,-6.897435188293457,-4.9300737380981445,-1.0768407583236694,0.29559749364852905,1.9222724437713623,7.0491228103637695,0.031304776668548584,1.2523505687713623,0.29422494769096375,0.13593634963035583],[-2.355274200439453,-5.916989326477051,13.15926742553711,-4.8252410888671875,-0.59963458776474,-0.6674734354019165,-2.8054959774017334,-7.3465423583984375,-2.9858105182647705,-2.227038860321045,-0.8294714093208313,-0.7600720524787903],[3.007835865020752,-7.260168075561523,-9.024944305419922,18.754426956176758,2.8253417015075684,-0.8973578214645386,2.5850353240966797,-5.813931941986084,5.680810928344727,2.114365339279175,-1.1114096641540527,0.38677990436553955],[0.28926756978034973,-1.9371578693389893,0.38346171379089355,0.23976224660873413,-0.03351172059774399,0.7715013027191162,0.5861151218414307,-0.8661219477653503,0.13112908601760864,0.2982589900493622,0.7665234208106995,0.05718482285737991],[0.049012940376996994,-1.0658824443817139,0.7498131990432739,-0.7093914151191711,0.30400705337524414,1.414318323135376,0.04611526429653168,-1.4201412200927734,0.08971153199672699,0.5296139121055603,0.43248093128204346,-0.04684535413980484],[0.26760780811309814,-0.7629171013832092,-0.5691938400268555,-0.19213047623634338,0.21308818459510803,1.2675862312316895,1.229831337928772,-0.7768061757087708,0.07529956847429276,0.7413891553878784,0.7536699771881104,0.007762003690004349],[-0.20424380898475647,-0.28846293687820435,0.17130404710769653,-1.782536506652832,0.027897030115127563,1.3990967273712158,1.9564690589904785,-1.0266426801681519,-0.4321482181549072,1.5661628246307373,1.0711791515350342,0.007834713906049728],[-0.09673261642456055,0.6003261208534241,0.16243383288383484,1.8057386875152588,0.16996783018112183,-2.274456739425659,-2.186005115509033,1.3415441513061523,0.0688307136297226,-1.4852874279022217,-1.2975741624832153,-0.02798294648528099],[0.30402234196662903,-0.03773050382733345,-0.7351880073547363,-0.9879543781280518,0.04440465569496155,1.763853669166565,0.30611652135849,0.9789395332336426,0.28241315484046936,-0.20025718212127686,0.5671898126602173,0.07848963141441345],[-0.2691083252429962,-0.8011928200721741,1.6238712072372437,1.8092151880264282,-0.04074546694755554,-2.5830960273742676,-1.9378098249435425,-0.2724827229976654,-0.3661971390247345,-1.1421583890914917,-0.9084804654121399,0.13103924691677094],[0.7145501375198364,-1.3089150190353394,-1.8712668418884277,-0.673147439956665,0.41858696937561035,3.221123456954956,2.8528192043304443,-1.2672505378723145,0.5969184637069702,2.112504005432129,1.8345897197723389,0.013101115822792053],[-0.20162875950336456,0.38285720348358154,0.5411291122436523,0.505294680595398,0.19026222825050354,-0.2513721287250519,-1.4020895957946777,0.54319828748703,0.39290717244148254,-1.620869517326355,-1.024938702583313,-0.04343704506754875],[-0.22906938195228577,-0.22334520518779755,0.23966629803180695,0.788567066192627,0.42409077286720276,0.0035729408264160156,0.07901472598314285,-0.9764094948768616,0.24917636811733246,-0.3371361196041107,-0.19551542401313782,-0.08216261118650436],[0.6538996696472168,-0.7601814270019531,-0.7762771248817444,-0.8408963680267334,0.008530929684638977,2.2053744792938232,0.907339334487915,-0.30532196164131165,0.517798900604248,0.8494646549224854,0.8431922197341919,0.050661660730838776],[0.49289748072624207,-0.2613779902458191,-0.780800461769104,-2.021914482116699,-0.7278935313224792,1.0141266584396362,0.6123390197753906,0.8925380110740662,-0.6469060182571411,1.7493507862091064,1.264001488685608,0.20958775281906128],[0.03911484777927399,-0.35258394479751587,-0.4162711501121521,-1.121640682220459,0.5838029384613037,3.234651803970337,1.5737125873565674,-1.2895166873931885,0.5225319862365723,0.3318662643432617,0.705920934677124,-0.07197049260139465],[-0.15767395496368408,0.5743726491928101,0.37371909618377686,-3.2898921966552734,0.21771636605262756,3.3061556816101074,1.6542682647705078,-0.29745545983314514,-0.07215287536382675,0.06205601990222931,0.8475933074951172,-0.20505090057849884],[1.0874375104904175,-1.3197579383850098,-1.4610083103179932,-3.777454137802124,-0.7736379504203796,3.9520058631896973,2.1417603492736816,0.8891706466674805,-0.5144543647766113,2.5807604789733887,2.7988390922546387,0.04500735551118851],[0.6667817831039429,-1.3980023860931396,-1.4715750217437744,-1.236385464668274,-0.06794877350330353,2.348881483078003,2.3864951133728027,-0.486686646938324,0.05931486189365387,2.5634632110595703,1.8705997467041016,0.17584462463855743],[-0.21270620822906494,0.6336520910263062,0.940960705280304,-2.63232421875,-0.7456230521202087,0.17931580543518066,-0.9430956244468689,1.4130487442016602,-0.9181067943572998,-0.18567116558551788,0.37222301959991455,-0.03774338215589523],[-0.010878235101699829,-1.0783413648605347,0.5078558921813965,0.6412886381149292,0.6246052384376526,0.9918017983436584,-0.17108535766601562,-1.8934822082519531,0.4014454483985901,-0.12300196290016174,0.0025880038738250732,-0.12647102773189545],[-0.46496063470840454,-0.07826259732246399,0.7371989488601685,-0.8370230197906494,0.40822428464889526,1.5824214220046997,0.6698492765426636,-1.2863569259643555,0.004003532230854034,-0.36162126064300537,-0.18149101734161377,-0.20837140083312988],[0.5194835066795349,-0.7917104959487915,-0.5772538185119629,-2.7627005577087402,-0.42813608050346375,3.085078239440918,1.9517126083374023,-0.11739568412303925,-0.10046634078025818,1.5611505508422852,1.8180468082427979,0.037007857114076614],[-0.08852989971637726,1.0769413709640503,0.574536919593811,-0.6549582481384277,-0.5157137513160706,-1.5302472114562988,-2.6264240741729736,2.8567681312561035,-0.5994160771369934,-1.56931734085083,-0.852613091468811,0.16651079058647156],[0.30804646015167236,-0.11047455668449402,-1.2237656116485596,-2.9461474418640137,-0.009181857109069824,4.348540782928467,3.1342263221740723,-1.638746738433838,0.05984853208065033,2.3116555213928223,1.8480143547058105,-0.16332635283470154],[0.11814002692699432,-1.3500895500183105,1.3829591274261475,-2.7899813652038574,-0.4714491665363312,1.9977997541427612,0.16367267072200775,-0.05474371090531349,-0.6291071772575378,0.46426934003829956,0.9433712959289551,-0.00356476753950119],[-0.06714479625225067,-1.7060264348983765,1.3340257406234741,-1.0801223516464233,-0.056995246559381485,0.872862696647644,0.6371519565582275,-1.641376256942749,-0.552193284034729,1.0175673961639404,0.7271774411201477,-0.03644303232431412],[-0.1206345409154892,-0.16125313937664032,0.49587035179138184,-1.1109960079193115,-0.03848409652709961,1.4604425430297852,0.43690556287765503,-0.49916157126426697,-0.020901042968034744,-0.2270628660917282,0.2790939211845398,-0.1191864013671875],[0.1730625331401825,-2.2541980743408203,0.792610764503479,-0.26597219705581665,-0.013534504920244217,0.8131115436553955,1.251193881034851,-2.073960542678833,-0.3541730046272278,1.6009479761123657,1.1127278804779053,-0.018722491338849068],[-0.31068164110183716,0.6052420735359192,0.9537370204925537,-2.6069955825805664,-0.650516152381897,-0.41534310579299927,0.13568001985549927,0.9630921483039856,-1.2014362812042236,0.6108303666114807,0.7431083917617798,-0.009826324880123138],[0.13066217303276062,0.0029593706130981445,-0.9315037131309509,-1.921669602394104,-0.5268473625183105,1.6589690446853638,1.3082369565963745,0.45990797877311707,-0.44641929864883423,1.6716153621673584,0.9603104591369629,0.16067200899124146],[-0.3488943576812744,0.27380847930908203,0.825996994972229,-1.5167524814605713,0.10417282581329346,0.24935954809188843,0.6272201538085938,-0.38192373514175415,-0.6500625610351562,0.25839829444885254,0.19186770915985107,-0.06544537842273712],[0.1431380957365036,0.024618245661258698,-0.524283230304718,-1.217834234237671,-0.11386501789093018,0.9207213521003723,0.8374250531196594,0.3004416525363922,-0.21215903759002686,0.6712687015533447,0.7307852506637573,-0.0023499689996242523],[0.25849834084510803,-0.7893005609512329,-0.29242345690727234,-0.19923615455627441,-0.16626080870628357,0.5112009048461914,0.34199094772338867,-0.014415085315704346,-0.02588113397359848,0.5431509017944336,0.5252431035041809,0.09721420705318451],[0.31750085949897766,-0.00013935193419456482,-0.5953925848007202,-1.2316640615463257,-0.39240601658821106,0.6693187355995178,-0.05340924859046936,2.097604274749756,-0.1652056723833084,-0.10660519450902939,0.5552746057510376,0.09094221889972687],[-0.46458131074905396,0.5253403782844543,1.370811939239502,-1.287825345993042,0.20197205245494843,0.3764708638191223,-1.0489954948425293,0.45697999000549316,-0.3695257604122162,-1.6670345067977905,-0.6604942679405212,-0.19457168877124786],[0.019636988639831543,-0.8985556364059448,0.4621182084083557,0.2934841513633728,0.56742924451828,0.45116329193115234,0.14706245064735413,-0.5550541877746582,0.17875610291957855,-0.09927469491958618,-0.04240255802869797,-0.0464947447180748],[-0.8792674541473389,0.3027990758419037,1.6272118091583252,2.8385062217712402,0.9013035893440247,-1.7959142923355103,-2.00313401222229,-0.9298672676086426,0.4817214012145996,-3.1290204524993896,-2.4104905128479004,-0.3308870792388916],[-0.5788330435752869,0.3167487382888794,1.5651366710662842,-1.7512719631195068,0.31107765436172485,1.3740020990371704,-0.7578004598617554,-0.383134663105011,-0.31510502099990845,-1.464978814125061,-0.5438818335533142,-0.18564164638519287],[0.3063092827796936,-1.6121206283569336,0.8831131458282471,-3.981353521347046,-0.3483463227748871,3.7067360877990723,1.8559715747833252,-0.31917595863342285,-0.7427012920379639,1.1320372819900513,1.92850661277771,-0.031843092292547226],[0.11731851100921631,-0.20882347226142883,-0.3756692409515381,0.6243661642074585,0.2807416617870331,0.44173702597618103,0.42335474491119385,-0.46963876485824585,0.42400574684143066,-0.00016592629253864288,-0.29005780816078186,-0.03432540223002434],[0.8061513900756836,-0.7282324433326721,-1.0575432777404785,-3.790060043334961,-0.5598748922348022,3.702477216720581,2.1833596229553223,0.12776675820350647,-0.39219820499420166,2.4368395805358887,2.4004292488098145,0.1617003083229065],[0.09019622206687927,0.3283945322036743,-0.27481237053871155,-2.332045793533325,-0.15573251247406006,2.1869866847991943,0.736889123916626,0.5196885466575623,-0.16921736299991608,0.30370450019836426,0.7281175851821899,0.0964701920747757],[-0.07638205587863922,-0.4834955632686615,0.2956550717353821,2.0761003494262695,0.13507652282714844,-1.145484209060669,-2.045992374420166,0.20837116241455078,0.2989341914653778,-1.2345210313796997,-1.0935559272766113,0.07918877899646759],[0.3707277178764343,-0.5731053352355957,-1.4343581199645996,0.4236035943031311,0.6138918399810791,2.156136989593506,2.453848361968994,-1.940173625946045,0.6999496221542358,1.0489583015441895,0.9969627857208252,-0.16530737280845642],[-0.1886468231678009,-1.6582057476043701,0.6450595855712891,0.8683967590332031,0.22305314242839813,0.75234055519104,0.7108290195465088,-2.8271431922912598,0.17104463279247284,0.6672011017799377,0.39482948184013367,-0.17030000686645508],[0.11570580303668976,-0.4768173098564148,-0.4071260690689087,-0.5189000368118286,0.29288312792778015,1.0338232517242432,1.206758975982666,-0.7260768413543701,-0.11256792396306992,0.9184727668762207,0.6947211623191833,0.0028553344309329987],[1.1206612586975098,-2.533191442489624,-1.10732102394104,-0.7308871746063232,0.30141958594322205,3.987732172012329,1.882291555404663,-1.190871000289917,0.8824857473373413,1.3090169429779053,1.5578041076660156,0.07666243612766266],[1.0222183465957642,-1.995398759841919,-2.0663387775421143,0.04056902229785919,0.06516669690608978,2.250518321990967,3.0297770500183105,-1.1562399864196777,0.3967430591583252,2.8220009803771973,1.899801254272461,0.22628000378608704],[0.7981181144714355,-1.0839178562164307,-1.374901294708252,-0.21660423278808594,0.1541139930486679,2.644864559173584,1.1757423877716064,-0.8341817259788513,0.5547125339508057,0.9595687389373779,1.0912526845932007,0.028184056282043457],[1.1192071437835693,-4.221293926239014,0.3406582474708557,-3.2223615646362305,-3.802363157272339,-10.600189208984375,4.952451705932617,2.146043062210083,-5.519026756286621,11.294737815856934,6.4976396560668945,1.0369949340820312],[0.5899497270584106,-0.43783217668533325,-0.8958791494369507,-3.033482551574707,-1.3137197494506836,-0.12678328156471252,2.6479580402374268,0.7180829644203186,-1.3798887729644775,3.8059349060058594,2.7125892639160156,0.2967700958251953],[1.7745319604873657,-0.03456021845340729,-3.5670862197875977,-5.3793745040893555,-0.813088059425354,4.996014595031738,2.795927047729492,3.3426566123962402,-0.35343238711357117,3.52477765083313,3.808372974395752,0.3167693018913269]],\"type\":\"heatmap\",\"xaxis\":\"x\",\"yaxis\":\"y\",\"hovertemplate\":\"src pos: %{x}<br>dest token: %{y}<br>color: %{z}<extra></extra>\"}],                        {\"template\":{\"data\":{\"histogram2dcontour\":[{\"type\":\"histogram2dcontour\",\"colorbar\":{\"outlinewidth\":0,\"ticks\":\"\"},\"colorscale\":[[0.0,\"#0d0887\"],[0.1111111111111111,\"#46039f\"],[0.2222222222222222,\"#7201a8\"],[0.3333333333333333,\"#9c179e\"],[0.4444444444444444,\"#bd3786\"],[0.5555555555555556,\"#d8576b\"],[0.6666666666666666,\"#ed7953\"],[0.7777777777777778,\"#fb9f3a\"],[0.8888888888888888,\"#fdca26\"],[1.0,\"#f0f921\"]]}],\"choropleth\":[{\"type\":\"choropleth\",\"colorbar\":{\"outlinewidth\":0,\"ticks\":\"\"}}],\"histogram2d\":[{\"type\":\"histogram2d\",\"colorbar\":{\"outlinewidth\":0,\"ticks\":\"\"},\"colorscale\":[[0.0,\"#0d0887\"],[0.1111111111111111,\"#46039f\"],[0.2222222222222222,\"#7201a8\"],[0.3333333333333333,\"#9c179e\"],[0.4444444444444444,\"#bd3786\"],[0.5555555555555556,\"#d8576b\"],[0.6666666666666666,\"#ed7953\"],[0.7777777777777778,\"#fb9f3a\"],[0.8888888888888888,\"#fdca26\"],[1.0,\"#f0f921\"]]}],\"heatmap\":[{\"type\":\"heatmap\",\"colorbar\":{\"outlinewidth\":0,\"ticks\":\"\"},\"colorscale\":[[0.0,\"#0d0887\"],[0.1111111111111111,\"#46039f\"],[0.2222222222222222,\"#7201a8\"],[0.3333333333333333,\"#9c179e\"],[0.4444444444444444,\"#bd3786\"],[0.5555555555555556,\"#d8576b\"],[0.6666666666666666,\"#ed7953\"],[0.7777777777777778,\"#fb9f3a\"],[0.8888888888888888,\"#fdca26\"],[1.0,\"#f0f921\"]]}],\"heatmapgl\":[{\"type\":\"heatmapgl\",\"colorbar\":{\"outlinewidth\":0,\"ticks\":\"\"},\"colorscale\":[[0.0,\"#0d0887\"],[0.1111111111111111,\"#46039f\"],[0.2222222222222222,\"#7201a8\"],[0.3333333333333333,\"#9c179e\"],[0.4444444444444444,\"#bd3786\"],[0.5555555555555556,\"#d8576b\"],[0.6666666666666666,\"#ed7953\"],[0.7777777777777778,\"#fb9f3a\"],[0.8888888888888888,\"#fdca26\"],[1.0,\"#f0f921\"]]}],\"contourcarpet\":[{\"type\":\"contourcarpet\",\"colorbar\":{\"outlinewidth\":0,\"ticks\":\"\"}}],\"contour\":[{\"type\":\"contour\",\"colorbar\":{\"outlinewidth\":0,\"ticks\":\"\"},\"colorscale\":[[0.0,\"#0d0887\"],[0.1111111111111111,\"#46039f\"],[0.2222222222222222,\"#7201a8\"],[0.3333333333333333,\"#9c179e\"],[0.4444444444444444,\"#bd3786\"],[0.5555555555555556,\"#d8576b\"],[0.6666666666666666,\"#ed7953\"],[0.7777777777777778,\"#fb9f3a\"],[0.8888888888888888,\"#fdca26\"],[1.0,\"#f0f921\"]]}],\"surface\":[{\"type\":\"surface\",\"colorbar\":{\"outlinewidth\":0,\"ticks\":\"\"},\"colorscale\":[[0.0,\"#0d0887\"],[0.1111111111111111,\"#46039f\"],[0.2222222222222222,\"#7201a8\"],[0.3333333333333333,\"#9c179e\"],[0.4444444444444444,\"#bd3786\"],[0.5555555555555556,\"#d8576b\"],[0.6666666666666666,\"#ed7953\"],[0.7777777777777778,\"#fb9f3a\"],[0.8888888888888888,\"#fdca26\"],[1.0,\"#f0f921\"]]}],\"mesh3d\":[{\"type\":\"mesh3d\",\"colorbar\":{\"outlinewidth\":0,\"ticks\":\"\"}}],\"scatter\":[{\"fillpattern\":{\"fillmode\":\"overlay\",\"size\":10,\"solidity\":0.2},\"type\":\"scatter\"}],\"parcoords\":[{\"type\":\"parcoords\",\"line\":{\"colorbar\":{\"outlinewidth\":0,\"ticks\":\"\"}}}],\"scatterpolargl\":[{\"type\":\"scatterpolargl\",\"marker\":{\"colorbar\":{\"outlinewidth\":0,\"ticks\":\"\"}}}],\"bar\":[{\"error_x\":{\"color\":\"#2a3f5f\"},\"error_y\":{\"color\":\"#2a3f5f\"},\"marker\":{\"line\":{\"color\":\"#E5ECF6\",\"width\":0.5},\"pattern\":{\"fillmode\":\"overlay\",\"size\":10,\"solidity\":0.2}},\"type\":\"bar\"}],\"scattergeo\":[{\"type\":\"scattergeo\",\"marker\":{\"colorbar\":{\"outlinewidth\":0,\"ticks\":\"\"}}}],\"scatterpolar\":[{\"type\":\"scatterpolar\",\"marker\":{\"colorbar\":{\"outlinewidth\":0,\"ticks\":\"\"}}}],\"histogram\":[{\"marker\":{\"pattern\":{\"fillmode\":\"overlay\",\"size\":10,\"solidity\":0.2}},\"type\":\"histogram\"}],\"scattergl\":[{\"type\":\"scattergl\",\"marker\":{\"colorbar\":{\"outlinewidth\":0,\"ticks\":\"\"}}}],\"scatter3d\":[{\"type\":\"scatter3d\",\"line\":{\"colorbar\":{\"outlinewidth\":0,\"ticks\":\"\"}},\"marker\":{\"colorbar\":{\"outlinewidth\":0,\"ticks\":\"\"}}}],\"scattermapbox\":[{\"type\":\"scattermapbox\",\"marker\":{\"colorbar\":{\"outlinewidth\":0,\"ticks\":\"\"}}}],\"scatterternary\":[{\"type\":\"scatterternary\",\"marker\":{\"colorbar\":{\"outlinewidth\":0,\"ticks\":\"\"}}}],\"scattercarpet\":[{\"type\":\"scattercarpet\",\"marker\":{\"colorbar\":{\"outlinewidth\":0,\"ticks\":\"\"}}}],\"carpet\":[{\"aaxis\":{\"endlinecolor\":\"#2a3f5f\",\"gridcolor\":\"white\",\"linecolor\":\"white\",\"minorgridcolor\":\"white\",\"startlinecolor\":\"#2a3f5f\"},\"baxis\":{\"endlinecolor\":\"#2a3f5f\",\"gridcolor\":\"white\",\"linecolor\":\"white\",\"minorgridcolor\":\"white\",\"startlinecolor\":\"#2a3f5f\"},\"type\":\"carpet\"}],\"table\":[{\"cells\":{\"fill\":{\"color\":\"#EBF0F8\"},\"line\":{\"color\":\"white\"}},\"header\":{\"fill\":{\"color\":\"#C8D4E3\"},\"line\":{\"color\":\"white\"}},\"type\":\"table\"}],\"barpolar\":[{\"marker\":{\"line\":{\"color\":\"#E5ECF6\",\"width\":0.5},\"pattern\":{\"fillmode\":\"overlay\",\"size\":10,\"solidity\":0.2}},\"type\":\"barpolar\"}],\"pie\":[{\"automargin\":true,\"type\":\"pie\"}]},\"layout\":{\"autotypenumbers\":\"strict\",\"colorway\":[\"#636efa\",\"#EF553B\",\"#00cc96\",\"#ab63fa\",\"#FFA15A\",\"#19d3f3\",\"#FF6692\",\"#B6E880\",\"#FF97FF\",\"#FECB52\"],\"font\":{\"color\":\"#2a3f5f\"},\"hovermode\":\"closest\",\"hoverlabel\":{\"align\":\"left\"},\"paper_bgcolor\":\"white\",\"plot_bgcolor\":\"#E5ECF6\",\"polar\":{\"bgcolor\":\"#E5ECF6\",\"angularaxis\":{\"gridcolor\":\"white\",\"linecolor\":\"white\",\"ticks\":\"\"},\"radialaxis\":{\"gridcolor\":\"white\",\"linecolor\":\"white\",\"ticks\":\"\"}},\"ternary\":{\"bgcolor\":\"#E5ECF6\",\"aaxis\":{\"gridcolor\":\"white\",\"linecolor\":\"white\",\"ticks\":\"\"},\"baxis\":{\"gridcolor\":\"white\",\"linecolor\":\"white\",\"ticks\":\"\"},\"caxis\":{\"gridcolor\":\"white\",\"linecolor\":\"white\",\"ticks\":\"\"}},\"coloraxis\":{\"colorbar\":{\"outlinewidth\":0,\"ticks\":\"\"}},\"colorscale\":{\"sequential\":[[0.0,\"#0d0887\"],[0.1111111111111111,\"#46039f\"],[0.2222222222222222,\"#7201a8\"],[0.3333333333333333,\"#9c179e\"],[0.4444444444444444,\"#bd3786\"],[0.5555555555555556,\"#d8576b\"],[0.6666666666666666,\"#ed7953\"],[0.7777777777777778,\"#fb9f3a\"],[0.8888888888888888,\"#fdca26\"],[1.0,\"#f0f921\"]],\"sequentialminus\":[[0.0,\"#0d0887\"],[0.1111111111111111,\"#46039f\"],[0.2222222222222222,\"#7201a8\"],[0.3333333333333333,\"#9c179e\"],[0.4444444444444444,\"#bd3786\"],[0.5555555555555556,\"#d8576b\"],[0.6666666666666666,\"#ed7953\"],[0.7777777777777778,\"#fb9f3a\"],[0.8888888888888888,\"#fdca26\"],[1.0,\"#f0f921\"]],\"diverging\":[[0,\"#8e0152\"],[0.1,\"#c51b7d\"],[0.2,\"#de77ae\"],[0.3,\"#f1b6da\"],[0.4,\"#fde0ef\"],[0.5,\"#f7f7f7\"],[0.6,\"#e6f5d0\"],[0.7,\"#b8e186\"],[0.8,\"#7fbc41\"],[0.9,\"#4d9221\"],[1,\"#276419\"]]},\"xaxis\":{\"gridcolor\":\"white\",\"linecolor\":\"white\",\"ticks\":\"\",\"title\":{\"standoff\":15},\"zerolinecolor\":\"white\",\"automargin\":true,\"zerolinewidth\":2},\"yaxis\":{\"gridcolor\":\"white\",\"linecolor\":\"white\",\"ticks\":\"\",\"title\":{\"standoff\":15},\"zerolinecolor\":\"white\",\"automargin\":true,\"zerolinewidth\":2},\"scene\":{\"xaxis\":{\"backgroundcolor\":\"#E5ECF6\",\"gridcolor\":\"white\",\"linecolor\":\"white\",\"showbackground\":true,\"ticks\":\"\",\"zerolinecolor\":\"white\",\"gridwidth\":2},\"yaxis\":{\"backgroundcolor\":\"#E5ECF6\",\"gridcolor\":\"white\",\"linecolor\":\"white\",\"showbackground\":true,\"ticks\":\"\",\"zerolinecolor\":\"white\",\"gridwidth\":2},\"zaxis\":{\"backgroundcolor\":\"#E5ECF6\",\"gridcolor\":\"white\",\"linecolor\":\"white\",\"showbackground\":true,\"ticks\":\"\",\"zerolinecolor\":\"white\",\"gridwidth\":2}},\"shapedefaults\":{\"line\":{\"color\":\"#2a3f5f\"}},\"annotationdefaults\":{\"arrowcolor\":\"#2a3f5f\",\"arrowhead\":0,\"arrowwidth\":1},\"geo\":{\"bgcolor\":\"white\",\"landcolor\":\"#E5ECF6\",\"subunitcolor\":\"white\",\"showland\":true,\"showlakes\":true,\"lakecolor\":\"white\"},\"title\":{\"x\":0.05},\"mapbox\":{\"style\":\"light\"}}},\"xaxis\":{\"anchor\":\"y\",\"domain\":[0.0,1.0],\"scaleanchor\":\"y\",\"constrain\":\"domain\",\"title\":{\"text\":\"src pos\"}},\"yaxis\":{\"anchor\":\"x\",\"domain\":[0.0,1.0],\"autorange\":\"reversed\",\"constrain\":\"domain\",\"title\":{\"text\":\"dest token\"}},\"coloraxis\":{\"colorscale\":[[0.0,\"rgb(103,0,31)\"],[0.1,\"rgb(178,24,43)\"],[0.2,\"rgb(214,96,77)\"],[0.3,\"rgb(244,165,130)\"],[0.4,\"rgb(253,219,199)\"],[0.5,\"rgb(247,247,247)\"],[0.6,\"rgb(209,229,240)\"],[0.7,\"rgb(146,197,222)\"],[0.8,\"rgb(67,147,195)\"],[0.9,\"rgb(33,102,172)\"],[1.0,\"rgb(5,48,97)\"]],\"cmid\":0.0},\"title\":{\"text\":\"Attn 0.0 full QK circuit W_E @ W_QK @ W_pos.T\"}},                        {\"responsive\": true}                    ).then(function(){\n",
              "                            \n",
              "var gd = document.getElementById('32f7fb7e-8b6e-4a6e-a1c6-be2d8dcf3522');\n",
              "var x = new MutationObserver(function (mutations, observer) {{\n",
              "        var display = window.getComputedStyle(gd).display;\n",
              "        if (!display || display === 'none') {{\n",
              "            console.log([gd, 'removed!']);\n",
              "            Plotly.purge(gd);\n",
              "            observer.disconnect();\n",
              "        }}\n",
              "}});\n",
              "\n",
              "// Listen for the removal of the full notebook cells\n",
              "var notebookContainer = gd.closest('#notebook-container');\n",
              "if (notebookContainer) {{\n",
              "    x.observe(notebookContainer, {childList: true});\n",
              "}}\n",
              "\n",
              "// Listen for the clearing of the current output cell\n",
              "var outputEl = gd.closest('.output');\n",
              "if (outputEl) {{\n",
              "    x.observe(outputEl, {childList: true});\n",
              "}}\n",
              "\n",
              "                        })                };                            </script>        </div>\n",
              "</body>\n",
              "</html>"
            ]
          },
          "metadata": {}
        }
      ]
    },
    {
      "cell_type": "markdown",
      "source": [
        "Notice we see the stripe we expected, and it stands out pretty clearly. Let's quickly look at the other QK circuit components:"
      ],
      "metadata": {
        "id": "E7bBH_efNfyh"
      }
    },
    {
      "cell_type": "code",
      "source": [
        "imshow(\n",
        "    W_E @ W_QK @ W_E.T,\n",
        "    title=\"0.0 full QK circuit W_E @ W_QK @ W_E.T\",\n",
        "    xaxis=\"src token\", yaxis=\"dest token\"\n",
        ")\n",
        "\n",
        "imshow(\n",
        "    W_pos @ W_QK @ W_E.T,\n",
        "    title=\"0.0 full QK circuit W_pos @ W_QK @ W_E.T\",\n",
        "    xaxis=\"src token\", yaxis=\"dest pos\",\n",
        "    y=labels\n",
        ")\n",
        "\n",
        "imshow(\n",
        "    torch.tril(W_pos @ W_QK @ W_pos.T),\n",
        "    title=\"0.0 full QK circuit W_pos @ W_QK @ W_pos.T\",\n",
        "    xaxis=\"src pos\", yaxis=\"dest pos\",\n",
        "    x=labels, y=labels\n",
        ")"
      ],
      "metadata": {
        "colab": {
          "base_uri": "https://localhost:8080/",
          "height": 1000
        },
        "id": "J92VjVePNzqc",
        "outputId": "03bfd206-344c-4c6d-f259-ea0d6eadb46a"
      },
      "execution_count": 103,
      "outputs": [
        {
          "output_type": "display_data",
          "data": {
            "text/html": [
              "<html>\n",
              "<head><meta charset=\"utf-8\" /></head>\n",
              "<body>\n",
              "    <div>            <script src=\"https://cdnjs.cloudflare.com/ajax/libs/mathjax/2.7.5/MathJax.js?config=TeX-AMS-MML_SVG\"></script><script type=\"text/javascript\">if (window.MathJax && window.MathJax.Hub && window.MathJax.Hub.Config) {window.MathJax.Hub.Config({SVG: {font: \"STIX-Web\"}});}</script>                <script type=\"text/javascript\">window.PlotlyConfig = {MathJaxConfig: 'local'};</script>\n",
              "        <script src=\"https://cdn.plot.ly/plotly-2.18.2.min.js\"></script>                <div id=\"316765fe-0ea4-4748-b650-76c96f0ae201\" class=\"plotly-graph-div\" style=\"height:525px; width:100%;\"></div>            <script type=\"text/javascript\">                                    window.PLOTLYENV=window.PLOTLYENV || {};                                    if (document.getElementById(\"316765fe-0ea4-4748-b650-76c96f0ae201\")) {                    Plotly.newPlot(                        \"316765fe-0ea4-4748-b650-76c96f0ae201\",                        [{\"coloraxis\":\"coloraxis\",\"name\":\"0\",\"z\":[[-5.495705604553223,1.1774810552597046,0.728169322013855,1.6304965019226074,0.23013806343078613,0.7254085540771484,-0.6271124482154846,-0.04654049873352051,3.3411765098571777,-0.614582359790802,0.03357648849487305,-0.25157880783081055,-0.013241440057754517,-0.3515532910823822,-1.771084189414978,1.246800422668457,1.2210772037506104,1.6446192264556885,-0.20109283924102783,1.6846163272857666,0.443558931350708,1.6456406116485596,1.0797123908996582,-0.09601613879203796,-0.5888335704803467,1.6138299703598022,1.9993205070495605,0.4144824147224426,0.4664499759674072,0.2925124168395996,0.29297006130218506,0.2786189913749695,0.3135319948196411,0.0993882417678833,0.4763774871826172,1.8125333786010742,0.7359867691993713,-0.9165647029876709,0.7485628128051758,0.9952636361122131,-1.343937873840332,0.14691519737243652,-0.2430190145969391,0.0160524845123291,-0.6879487037658691,1.2479979991912842,-0.23572587966918945,1.314530372619629,0.37961727380752563,-0.2808074951171875,0.5653854608535767,-2.1023380756378174,-2.033698558807373],[1.80864417552948,-1.3679134845733643,3.136850357055664,-1.0861923694610596,0.21183085441589355,-0.6138584613800049,0.8899887800216675,-1.229415774345398,-1.3997609615325928,-0.5230157375335693,0.6069083213806152,-0.09738683700561523,-0.10891693830490112,0.07603204250335693,0.20180845260620117,0.3254798650741577,-1.4108710289001465,-1.6790366172790527,-1.0587701797485352,-1.2533687353134155,-0.8572413921356201,-1.1015418767929077,0.1866370141506195,-0.8224316239356995,0.8827465772628784,-1.542616367340088,-0.7295181155204773,0.24199986457824707,0.5694400072097778,-0.9329227209091187,0.8262698650360107,-0.673352062702179,-0.2790188789367676,-0.751898467540741,-0.11033856868743896,-1.9135329723358154,-0.40266257524490356,1.5258609056472778,0.19010913372039795,-0.034001946449279785,-0.35054606199264526,-0.7034478187561035,-0.34495848417282104,-0.011167764663696289,1.1038340330123901,-0.35836759209632874,1.0849215984344482,-0.870781660079956,-0.11565002799034119,0.09205889701843262,-4.477793216705322,0.11484634876251221,-1.843808889389038],[0.6124520301818848,-0.9769798517227173,-4.8700337409973145,0.4253532886505127,-0.22663980722427368,0.35150080919265747,0.08091956377029419,2.639920711517334,-1.2622663974761963,0.9473410844802856,0.22784072160720825,2.105501413345337,1.2986271381378174,0.48275840282440186,2.764275312423706,-2.0637307167053223,0.4695758819580078,0.4179686903953552,2.362168073654175,0.09999346733093262,1.040937900543213,-0.4426051378250122,-1.5502222776412964,2.549773693084717,-0.000610053539276123,1.368110179901123,-0.11653947830200195,-1.2446157932281494,-1.068763017654419,0.5875224471092224,-1.2527199983596802,2.0405707359313965,0.3924521803855896,2.208301067352295,0.1312936544418335,1.3160020112991333,0.8115087747573853,-0.23488211631774902,-0.42743444442749023,-1.1143913269042969,3.490936756134033,1.5515543222427368,1.1025054454803467,0.028022274374961853,0.290865421295166,-0.5545438528060913,-1.131554126739502,0.9751240611076355,0.009995728731155396,0.06955063343048096,6.082729339599609,3.7864270210266113,4.521810531616211],[1.317386507987976,-0.19492217898368835,-0.470745712518692,-0.29176777601242065,-0.17632079124450684,0.06261063367128372,0.22646839916706085,0.2860371470451355,-0.5368232727050781,0.0014913976192474365,-0.06372223794460297,-0.09571331739425659,-0.12306825816631317,0.016363993287086487,0.30829498171806335,-0.27445322275161743,-0.19921855628490448,-0.0766875296831131,0.061123743653297424,-0.15850138664245605,-0.18088845908641815,0.0690193623304367,-0.3521999716758728,0.13291141390800476,0.043650977313518524,-0.19546562433242798,-0.3530384600162506,0.030314549803733826,0.025147773325443268,0.16953779757022858,-0.1212257593870163,-0.053755804896354675,0.025578338652849197,0.07974617183208466,-0.27248769998550415,-0.2513197958469391,-0.07779226452112198,0.09880734980106354,-0.1243128627538681,-0.17290571331977844,0.4289408326148987,0.01419813185930252,0.10167571902275085,-0.12150490283966064,-0.05068486928939819,-0.20584239065647125,0.026492774486541748,-0.4021681547164917,-0.04252675175666809,0.10395528376102448,0.20610648393630981,0.23205649852752686,0.46686041355133057],[0.528648853302002,0.0031536854803562164,-0.04228218272328377,-0.21206317842006683,-0.4752591848373413,-0.035941243171691895,0.10521932691335678,-0.22568398714065552,-0.12265624105930328,-0.06972536444664001,-0.08618759363889694,-0.18400374054908752,0.00472906231880188,0.04049665480852127,0.1556588113307953,-0.19367845356464386,0.21228697896003723,0.09637297689914703,0.18921028077602386,0.03881035000085831,-0.48768365383148193,0.021936409175395966,0.0022102147340774536,-0.09376689046621323,0.19499936699867249,-0.01859162747859955,-0.011122085154056549,0.2801339626312256,0.23634979128837585,0.12254209816455841,0.260403573513031,0.1456574648618698,-0.13763132691383362,0.08466200530529022,0.15065044164657593,-0.2674773335456848,-0.2680702209472656,0.13000079989433289,-0.04228018969297409,0.368435263633728,0.19963936507701874,-0.14455632865428925,0.019383609294891357,-0.3077843487262726,0.059654876589775085,-0.027040578424930573,0.09975820034742355,-0.10257567465305328,-0.05212431773543358,-0.24230897426605225,-0.12404315173625946,0.11619032174348831,0.06899727880954742],[0.8031866550445557,-0.3348464369773865,-0.24610233306884766,-0.13524553179740906,-0.03792693465948105,-0.2707676291465759,-0.08827707171440125,-0.2655864655971527,-0.10567546635866165,0.16097809374332428,0.11207479238510132,0.12084494531154633,-0.2588982582092285,0.00826231762766838,0.18017151951789856,-0.07015690207481384,-0.11373013257980347,-0.03493577241897583,0.2658734917640686,0.055915262550115585,0.03237207233905792,-0.15287381410598755,-0.13125717639923096,-0.04095814377069473,-0.12954483926296234,-0.060475610196590424,-0.04369889944791794,-0.09579774737358093,-0.1911495327949524,-0.07810425758361816,0.32196661829948425,0.16747663915157318,0.12488885223865509,0.010800395160913467,0.1459827721118927,-0.16070446372032166,-0.23907136917114258,0.007572785019874573,-0.09488368034362793,0.2637856900691986,0.20957273244857788,0.48098233342170715,0.2148209810256958,-0.05714339762926102,0.13258375227451324,-0.0056948792189359665,0.10410445183515549,0.21739405393600464,-0.009810447692871094,0.18888993561267853,0.07839474081993103,0.08309167623519897,0.25860270857810974],[0.47229039669036865,-0.2072601020336151,-0.0024476051330566406,-0.0018750876188278198,-0.02152882143855095,0.00912417471408844,-0.5985714197158813,-0.13240857422351837,0.160817950963974,-0.3899221420288086,0.16027052700519562,0.04146522283554077,0.12268669158220291,0.33607715368270874,0.0916326642036438,-0.027499154210090637,-0.20490407943725586,0.51336270570755,-0.13657408952713013,0.19849303364753723,0.13452178239822388,-0.030709203332662582,0.36149823665618896,0.03116009384393692,0.312325119972229,0.20534412562847137,0.03540469706058502,0.4383307099342346,-0.1044890433549881,-0.10161712765693665,0.4181254506111145,-0.08015380054712296,0.45075052976608276,0.1242608055472374,0.38126736879348755,0.2349925935268402,-0.10029849410057068,-0.13587626814842224,0.465523898601532,0.07026675343513489,0.10472794622182846,0.4881191849708557,0.2679605185985565,0.07838840782642365,0.12239179015159607,0.24912519752979279,0.10529695451259613,0.18875572085380554,-0.05957167595624924,0.06762430816888809,-0.5954734086990356,-0.19613879919052124,-0.1705346256494522],[-0.27409812808036804,0.17583788931369781,-0.038057051599025726,0.18672263622283936,0.09771765768527985,0.024672653526067734,0.10466094315052032,-0.21232351660728455,-0.0433034747838974,-0.03578070551156998,-0.12521693110466003,0.032662540674209595,0.04379860311746597,-0.21279899775981903,0.08009327948093414,0.17330724000930786,-0.08316788077354431,-0.3681741952896118,0.39508241415023804,-0.4116312563419342,-0.17979462444782257,0.050842151045799255,-0.4350760877132416,-0.14295049011707306,-0.09047126770019531,-0.14566251635551453,-0.1261925846338272,-0.1517733335494995,-0.17285741865634918,-0.021192286163568497,-0.20001089572906494,0.1236727237701416,-0.016021758317947388,0.18341553211212158,-0.1100146621465683,-0.02512483298778534,0.0576171949505806,-0.13440437614917755,-0.1961650550365448,-0.2478821873664856,-0.07416912168264389,-0.29306748509407043,-0.2873421311378479,0.020556144416332245,-0.24510997533798218,-0.11465032398700714,-0.295209676027298,0.029716841876506805,0.2101277858018875,-0.1466880738735199,0.16590815782546997,0.3899466395378113,-0.012053385376930237],[1.1090948581695557,0.2813730537891388,-0.19898706674575806,-0.34799182415008545,-0.13302554190158844,0.025954976677894592,-0.31687742471694946,0.011482954025268555,-0.5257540345191956,0.056604065001010895,-0.3594832122325897,-0.10482695698738098,-0.3768776059150696,-0.04858195036649704,0.013088405132293701,-0.19370277225971222,-0.02253139019012451,0.14017075300216675,-0.05791698396205902,-0.04597187787294388,-0.03700190782546997,-0.08664505183696747,-0.11132781207561493,-0.14487619698047638,0.10015389323234558,-0.34282034635543823,-0.20406191051006317,0.14152288436889648,-0.19517679512500763,0.16785788536071777,-0.20407447218894958,-0.328998327255249,0.08468746393918991,-0.03816743195056915,-0.25291579961776733,-0.21995332837104797,-0.4222445487976074,-0.39938369393348694,-0.216364324092865,-0.27408498525619507,-0.33098286390304565,-0.023878566920757294,0.09902507811784744,-0.22458091378211975,-0.3082115650177002,-0.23127996921539307,-0.1535075157880783,-0.3278113901615143,0.19737008213996887,-0.1812659054994583,0.5031713843345642,-0.07280263304710388,0.2707832157611847],[0.45967766642570496,-0.41949498653411865,-0.03335317224264145,0.02299288660287857,0.029749885201454163,0.08125871419906616,0.2978352904319763,0.18909308314323425,-0.33946728706359863,-0.12037734687328339,-0.1834513545036316,-0.16567134857177734,0.2859155535697937,-0.09030114859342575,-0.09458376467227936,0.003683730959892273,-0.1911085546016693,-0.2291216105222702,0.2954803705215454,-0.4017782211303711,-0.12905782461166382,-0.04564327001571655,-0.20375904440879822,-0.10231532901525497,0.01149037480354309,-0.392108291387558,-0.36490410566329956,-0.36121565103530884,0.024123888462781906,-0.11047357320785522,-0.03240320831537247,0.0031008124351501465,-0.08145375549793243,0.22410883009433746,-0.29224422574043274,-0.29496923089027405,0.11306510120630264,0.1715613752603531,-0.0732104480266571,-0.19058984518051147,0.16923609375953674,-0.08495235443115234,0.11278741806745529,0.13706934452056885,-0.08412881195545197,-0.4265168607234955,-0.05236025154590607,-0.2613620162010193,0.08973917365074158,0.003748580813407898,-0.3534553647041321,0.5763056874275208,-0.019419819116592407],[0.7462236881256104,0.08461938798427582,-0.528428316116333,-0.12542380392551422,-0.09567996859550476,0.004288807511329651,-0.05711005628108978,0.09704357385635376,-0.24764801561832428,0.10625866055488586,-0.09477058053016663,0.07759138941764832,-0.07154785841703415,0.14804810285568237,0.3619396984577179,-0.14511969685554504,0.08830919861793518,0.4784673750400543,0.2528013288974762,0.12236979603767395,0.07325103878974915,0.01625162363052368,0.17517989873886108,0.19376668334007263,0.31224918365478516,0.2743680775165558,0.160421222448349,0.1631111204624176,0.0961676836013794,0.3007725179195404,0.1848975270986557,0.06222265958786011,0.01878809928894043,0.2547866404056549,0.05839812755584717,0.004385143518447876,-0.30685532093048096,-0.5859032869338989,0.043830469250679016,0.11257452517747879,0.109538234770298,0.4562756419181824,0.2368813008069992,0.03013966977596283,-0.21823129057884216,0.30949050188064575,-0.15934978425502777,0.01480141282081604,0.11463236808776855,0.09003635495901108,0.6386703252792358,0.03798365592956543,0.6508215665817261],[-0.05321244150400162,0.26090729236602783,0.13850608468055725,-0.006760105490684509,-0.05162547156214714,-0.03905129432678223,0.06718837469816208,0.10397818684577942,-0.0342157781124115,-0.06147471070289612,-0.15523265302181244,-0.2593444883823395,-0.09769503772258759,-0.28397703170776367,-0.30807942152023315,-0.07806151360273361,0.14069649577140808,0.02021028846502304,-0.018976867198944092,-0.23561488091945648,-0.1509099006652832,0.06009626388549805,-0.20150016248226166,-0.24993635714054108,-0.1539926379919052,-0.20738664269447327,-0.07506120204925537,-0.22524875402450562,-0.062083229422569275,0.0073332954198122025,-0.16634701192378998,-0.2828088402748108,-0.3034279942512512,-0.10818363726139069,-0.18216046690940857,-0.3351028859615326,0.002299492247402668,0.07395878434181213,-0.2402637004852295,-0.3328131437301636,-0.11399930715560913,-0.3884602189064026,-0.24286453425884247,-0.20204858481884003,-0.10655759274959564,-0.2430315613746643,-0.33265358209609985,-0.47248226404190063,-0.029931865632534027,-0.23219022154808044,0.474561870098114,0.3901064097881317,-0.10390863567590714],[-0.12797580659389496,-0.1419319212436676,-0.033506687730550766,-0.0793185755610466,-0.0878073051571846,0.06223641708493233,0.24415582418441772,0.12485578656196594,0.05675306171178818,0.022122208029031754,-0.1523762345314026,0.0811014324426651,0.15453612804412842,0.14327138662338257,0.33012712001800537,-0.14313200116157532,-0.09509076178073883,0.08060246706008911,0.23114973306655884,0.040081411600112915,0.0549633614718914,-0.08001679182052612,0.18362471461296082,0.1906973272562027,0.07060260325670242,0.12385198473930359,0.13451454043388367,-0.08617804944515228,0.12710854411125183,0.15653569996356964,0.21344637870788574,-0.027911722660064697,-0.10068228840827942,0.1501890867948532,-0.1090167984366417,-0.3287775218486786,0.04958880692720413,-0.0690879374742508,-0.09237292408943176,0.10263191908597946,0.25841015577316284,0.09359815716743469,0.19742512702941895,0.029404662549495697,0.032014526426792145,-0.0027513429522514343,-0.1809748113155365,-0.06786273419857025,0.06572070717811584,0.07352988421916962,0.193889319896698,0.46888279914855957,-0.16996392607688904],[0.21761563420295715,-0.07305093109607697,-0.2858138382434845,-0.025715231895446777,-0.14378070831298828,-0.02835477888584137,0.21073254942893982,-0.19419987499713898,-0.007068753242492676,-0.011759448796510696,-0.0024324804544448853,-0.023605065420269966,-0.20265308022499084,-0.48208925127983093,0.1371801793575287,0.2834300100803375,0.08915500342845917,0.18618737161159515,0.06608252972364426,-0.02689780481159687,-0.03566998243331909,-0.02290835976600647,-0.31789857149124146,0.20369061827659607,-0.09718868136405945,-0.14591747522354126,-0.05101746320724487,0.11933422833681107,0.025432202965021133,0.2546442151069641,0.006322741508483887,0.3840522766113281,0.09636582434177399,-0.020885955542325974,0.2154759019613266,-0.1091541200876236,-0.17454633116722107,-0.17526502907276154,-0.15007299184799194,-0.0009083449840545654,-0.01762424036860466,0.12404651939868927,0.057662930339574814,-0.06098335236310959,0.080169677734375,0.14106698334217072,0.015047580003738403,0.005395442247390747,0.14550678431987762,-0.252560019493103,0.5363712310791016,-0.2880571484565735,0.5045158863067627],[0.15884149074554443,0.23550817370414734,-0.02265206351876259,-0.06816796213388443,-0.0645332932472229,0.03249898552894592,0.044143471866846085,-0.09378094971179962,0.29138192534446716,-0.06413687765598297,0.38825178146362305,-0.4416144788265228,-0.30101287364959717,0.05400864779949188,-0.7996232509613037,0.3871471583843231,0.45988929271698,0.4172367453575134,-0.5276845693588257,-0.04368406534194946,0.28863900899887085,0.031010866165161133,0.1320544183254242,-0.3259918689727783,-0.18109261989593506,-0.1510777473449707,-0.015112057328224182,-0.03478533774614334,0.0911245346069336,0.04596003144979477,-0.14807136356830597,-0.19045256078243256,0.13591934740543365,-0.46380844712257385,0.2801853120326996,0.08470746129751205,0.3062284290790558,0.09921255707740784,-0.05696135759353638,0.2563799321651459,-0.22883117198944092,0.10899393260478973,0.07218576967716217,0.015117235481739044,0.2733483612537384,-0.37179315090179443,0.5222470164299011,-0.12161043286323547,0.09959498047828674,-0.0868089571595192,-0.46343228220939636,-1.0553494691848755,0.6077563166618347],[0.42348700761795044,-0.03144722431898117,0.017949581146240234,-0.23704934120178223,-0.11779226362705231,-0.05000622570514679,-0.1498998999595642,0.4230378568172455,-0.32244062423706055,0.21713398396968842,-0.17618906497955322,0.07118973135948181,0.06935858726501465,0.18464404344558716,0.13217902183532715,-0.758320152759552,-0.14581698179244995,0.2628166973590851,-0.15985384583473206,0.3546167016029358,-0.2064650058746338,-0.0708608478307724,0.31377241015434265,-0.007058745250105858,0.09098522365093231,0.17389003932476044,0.0677463486790657,0.2682703733444214,-0.1343930959701538,-0.11728006601333618,0.17679950594902039,-0.3756592571735382,-0.15684303641319275,0.24013960361480713,-0.11327473819255829,0.011880859732627869,-0.34854358434677124,0.009871840476989746,0.019265174865722656,0.02099515125155449,0.21464313566684723,0.06306082010269165,0.29095274209976196,-0.33284077048301697,0.06309834122657776,0.18539631366729736,0.035744503140449524,-0.2561681568622589,-0.30256035923957825,-0.08935559540987015,0.34980064630508423,0.18646347522735596,-0.07160677015781403],[0.31647244095802307,-0.10851074010133743,0.3332345485687256,0.031533777713775635,0.10509976744651794,-0.09614594280719757,-0.12578299641609192,-0.15718533098697662,-0.19849053025245667,0.08799048513174057,-0.08747804164886475,-0.011870920658111572,-0.23869936168193817,-0.006647869944572449,-0.0701482892036438,-0.13938456773757935,-0.46969377994537354,0.029211923480033875,-0.3157764673233032,0.34444645047187805,-0.21866023540496826,-0.2660386562347412,0.07365740090608597,-0.21285735070705414,0.021177828311920166,0.0032821595668792725,0.10278208553791046,0.35083746910095215,-0.008313000202178955,0.016587283462285995,0.25865375995635986,-0.13199059665203094,0.08050510287284851,0.002769291400909424,-0.10036617517471313,-0.09866383671760559,-0.496174156665802,-0.16438345611095428,-0.0422649085521698,0.04172902554273605,-0.5921998620033264,0.3341427743434906,0.0008445568382740021,0.040650397539138794,-0.037728965282440186,0.2977410554885864,0.1211521178483963,-0.18632656335830688,0.18196719884872437,-0.1944345235824585,-0.026681825518608093,-0.20531851053237915,-0.4827826917171478],[1.1893094778060913,0.19008740782737732,-0.18556064367294312,-0.4124792218208313,-0.045034077018499374,-0.3131934106349945,0.24451228976249695,-0.3715013265609741,-0.2549973130226135,0.456054151058197,0.3326572775840759,-0.0028950273990631104,-0.7215632200241089,-0.025766119360923767,-0.06326878070831299,0.1614992469549179,-0.17065593600273132,-0.250812292098999,-0.3506864011287689,0.20059004426002502,0.09013298153877258,-0.022038660943508148,-0.2559277415275574,-0.05834294855594635,-0.15825755894184113,-0.09818947315216064,-0.15081185102462769,0.031980469822883606,0.029528707265853882,0.2787892520427704,0.14499136805534363,0.19946938753128052,0.23716674745082855,-0.6420753598213196,0.11093881726264954,-0.01888495683670044,-0.3867669701576233,-0.08757787942886353,-0.21268540620803833,0.24569587409496307,-0.35869693756103516,0.22121116518974304,0.07863730192184448,0.3441731631755829,0.033687524497509,0.24927085638046265,0.48546698689460754,-0.03444972634315491,-0.09778785705566406,0.3548288643360138,-0.33219626545906067,-1.4288859367370605,0.8604991436004639],[0.4325605034828186,0.26583394408226013,-0.8000707030296326,-0.3444488048553467,-0.07213959097862244,-0.030961014330387115,-0.18246550858020782,0.0023927390575408936,0.10047470033168793,0.13977064192295074,0.544048011302948,0.05794704705476761,-0.12291064858436584,0.4132767915725708,0.04092375189065933,-0.013544440269470215,0.39162155985832214,0.4588783383369446,-0.48325201869010925,0.4122783839702606,0.5475709438323975,-0.1916712522506714,0.3931626081466675,0.18927182257175446,0.025281086564064026,0.17705953121185303,-0.1330266296863556,0.26666831970214844,-0.08366093039512634,0.3666924834251404,-0.03404897451400757,-0.12109272181987762,0.1966705024242401,-0.27748286724090576,0.3824112117290497,0.39994850754737854,0.016267573460936546,-0.006589144468307495,0.17626672983169556,0.4173923432826996,0.2106722891330719,0.4532739520072937,0.550674319267273,-0.08184239268302917,0.3636276423931122,-0.040697067975997925,0.5810846090316772,0.1533808410167694,-0.21160376071929932,0.2512979805469513,0.1199866533279419,-0.5709888935089111,0.6968361735343933],[0.03087194263935089,0.03733460605144501,0.9542728662490845,-0.1604207307100296,0.012049540877342224,-0.11777915805578232,0.0796455591917038,-0.523199200630188,0.02327854186296463,-0.10886703431606293,0.15323227643966675,-0.32972609996795654,-0.3005407154560089,-0.09686218202114105,-0.4906053841114044,0.513863205909729,-0.0017183274030685425,-0.2292456030845642,-0.14548492431640625,-0.3582601547241211,-0.13418328762054443,0.15602104365825653,-0.08362846821546555,-0.3270350992679596,0.06906966865062714,-0.24944394826889038,-0.1614380180835724,0.0017034858465194702,0.30270954966545105,-0.304168164730072,-0.0045937299728393555,-0.13233834505081177,-0.16004079580307007,-0.595151424407959,-0.012834608554840088,-0.3477799892425537,0.08662964403629303,-0.14631903171539307,-0.0453474223613739,-0.03286972641944885,-0.39214175939559937,-0.41808804869651794,-0.30855607986450195,0.21405968070030212,-0.10931149125099182,0.04348763823509216,0.13712505996227264,0.06648363173007965,0.197152778506279,0.17799659073352814,-0.8925448656082153,-0.8092193603515625,-0.2970253825187683],[0.06364913284778595,0.04974773898720741,0.010924503207206726,-0.03629189729690552,-0.17046943306922913,-0.062127504497766495,0.37229639291763306,0.039424777030944824,-0.37410053610801697,0.1768130660057068,-0.2905436158180237,0.07096576690673828,0.11537089198827744,-0.0020708926022052765,0.26609158515930176,-0.4326624274253845,-0.09283994138240814,-0.16938605904579163,0.1596105992794037,-0.06521381437778473,-0.3796258866786957,-0.027721375226974487,0.11370990425348282,0.01655154675245285,0.13876433670520782,-0.009207166731357574,0.02754451334476471,0.032470397651195526,0.0671362578868866,-0.10498624294996262,0.2811225354671478,0.06706266105175018,-0.4195984899997711,0.33266276121139526,-0.04452430456876755,-0.34589195251464844,-0.36541080474853516,0.16009092330932617,-0.19396841526031494,0.10720963031053543,0.3249897360801697,-0.12810823321342468,-0.14304062724113464,-0.18986067175865173,-0.03475502133369446,0.17291809618473053,-0.1282201111316681,0.0007004290819168091,-0.15444913506507874,-0.10059933364391327,0.1545390784740448,0.5202457904815674,0.111153244972229],[0.03957962989807129,-0.21293753385543823,0.5284918546676636,-0.1779930591583252,0.24048133194446564,-0.24744485318660736,-0.2789831757545471,-0.03946081921458244,-0.3814871907234192,0.03314060717821121,0.11854176223278046,0.40241777896881104,-0.1418525129556656,0.2168722301721573,0.06511175632476807,-0.1982361078262329,-0.4983772039413452,-0.1937839537858963,-0.2862558364868164,0.17713306844234467,0.23598799109458923,-0.4075154662132263,0.25709807872772217,0.04904474318027496,0.0921708196401596,0.016951873898506165,-0.1700204461812973,0.07304701954126358,-0.28510183095932007,-0.2768518328666687,0.20887213945388794,-0.26513803005218506,-0.029760517179965973,-0.0076588839292526245,0.06785453110933304,-0.00800766795873642,-0.22651325166225433,-0.10069490969181061,0.015375703573226929,-0.07769709825515747,-0.03194686025381088,0.3047124743461609,0.09840282052755356,0.09564130008220673,0.2608514130115509,0.14452065527439117,0.07915854454040527,0.16945061087608337,0.04414111375808716,0.22711774706840515,-0.14113575220108032,0.2664855122566223,-0.4651067554950714],[0.9652274250984192,-0.11790372431278229,-0.0968635231256485,-0.3143084943294525,-0.1960018277168274,-0.05745138227939606,0.03534911200404167,-0.3495537340641022,0.005983695387840271,0.21176710724830627,0.19993792474269867,-0.12054917216300964,-0.18414749205112457,-0.04594703018665314,0.19911354780197144,0.06769393384456635,0.03446018695831299,0.14706560969352722,0.062104322016239166,0.25727948546409607,-0.20429164171218872,0.1956310123205185,-0.3203100264072418,-0.07952705770730972,-0.054615139961242676,-0.2202577143907547,0.023140713572502136,0.3382036089897156,0.19682905077934265,0.37652885913848877,0.320656418800354,0.2455885112285614,0.4457542598247528,-0.17645147442817688,0.15070615708827972,0.026837080717086792,-0.259247362613678,0.22956697642803192,0.06656458973884583,0.36821967363357544,-0.28439486026763916,0.0939425528049469,0.08939529955387115,-0.030089426785707474,-0.2766544222831726,-0.0001902952790260315,0.335380494594574,-0.4211744964122772,-0.13536599278450012,-0.02041199430823326,-0.04825497046113014,-0.6600832343101501,0.24740654230117798],[0.3774164915084839,0.430216908454895,0.5224499702453613,-0.1533164381980896,-0.088251493871212,-0.2772674560546875,0.07483178377151489,-0.07424506545066833,-0.3125755190849304,0.012933269143104553,-0.3217447102069855,-0.44769978523254395,-0.28642696142196655,-0.25107449293136597,-0.6696094274520874,-0.0776282548904419,-0.10734856128692627,-0.4057278633117676,-0.15217366814613342,-0.2764280140399933,-0.3149568438529968,0.10120202600955963,-0.2698366641998291,-0.6738942861557007,-0.2905718982219696,-0.41135531663894653,-0.30927589535713196,-0.22828739881515503,-0.18171440064907074,-0.33997032046318054,-0.3325875699520111,-0.4629261791706085,-0.31214526295661926,-0.37062424421310425,-0.22001811861991882,-0.2222977578639984,0.027517981827259064,0.012938201427459717,-0.3849574327468872,-0.15423765778541565,-0.4443589448928833,-0.7213778495788574,-0.3110803961753845,-0.007720455527305603,-0.20978522300720215,-0.4193536043167114,-0.017222590744495392,-0.5195297598838806,-0.09748773276805878,-0.23561809957027435,-0.37112754583358765,-0.37302178144454956,-0.022123068571090698],[-0.47692400217056274,-0.19315789639949799,0.5032467246055603,-0.011057257652282715,0.07495516538619995,-0.13487468659877777,-0.045794226229190826,-0.14173486828804016,0.3417883515357971,0.14468668401241302,0.5078669786453247,0.2907904088497162,-0.14533032476902008,0.08606273680925369,-0.09871353209018707,0.20760148763656616,-0.0003977343440055847,0.3804559111595154,-0.29880601167678833,0.4818921685218811,0.23008780181407928,0.018256790935993195,0.23623037338256836,0.06805823743343353,0.03241932392120361,0.2835223078727722,0.3047947883605957,0.39113378524780273,0.09289722144603729,0.05461788922548294,0.35118886828422546,0.14796078205108643,0.24122002720832825,-0.15723493695259094,0.48335087299346924,0.3932853937149048,0.006575427949428558,0.029755622148513794,0.2233957052230835,0.4138893485069275,0.04443344473838806,0.4010361433029175,0.22584429383277893,0.015894189476966858,0.4467277228832245,0.4852171242237091,0.4901196360588074,0.2909518778324127,-0.12077564001083374,0.16291522979736328,-0.23917518556118011,-0.8157178163528442,0.02986392378807068],[1.287202000617981,-0.05093355476856232,0.4632589817047119,-0.382476806640625,-0.10120850801467896,-0.07269737124443054,0.20178616046905518,-0.2880861759185791,-0.5575516223907471,0.09032231569290161,0.26440322399139404,-0.26077091693878174,-0.3900420367717743,-0.15441925823688507,-0.2969922423362732,0.26375335454940796,-0.21654197573661804,-0.17021125555038452,-0.3577636778354645,-0.312794029712677,-0.1466015875339508,-0.16360464692115784,-0.2876754403114319,-0.45073163509368896,0.15316826105117798,-0.6557813286781311,-0.4360171854496002,0.19510804116725922,-0.004027605056762695,0.12670354545116425,-0.18008270859718323,-0.36222290992736816,0.2516329884529114,-0.44296351075172424,-0.09829819202423096,-0.291375070810318,-0.242964506149292,0.03235231339931488,-0.1998027265071869,-0.09715023636817932,-0.5364880561828613,-0.21243418753147125,0.020266279578208923,0.007858842611312866,0.005948424339294434,-0.38664817810058594,0.4457322955131531,-0.596619725227356,0.1934383064508438,-0.033588796854019165,-0.674074649810791,-0.5871403217315674,0.10875492542982101],[0.4622429311275482,-0.1166907325387001,0.10529220849275589,-0.11302243173122406,-0.24761123955249786,-0.03823333606123924,-0.002074882388114929,-0.18917331099510193,-0.467399924993515,0.10854911804199219,0.37577518820762634,-0.011836707592010498,0.04384171962738037,0.1442682445049286,0.16066698729991913,-0.05048638582229614,-0.1750950813293457,0.10693371295928955,-0.1820705533027649,-0.027548350393772125,-0.0574946403503418,-0.1576249897480011,0.08592221140861511,-0.05242137610912323,0.16811618208885193,-0.15343861281871796,-0.4649684727191925,0.38112887740135193,-0.07364004850387573,-0.01943279057741165,0.30051320791244507,-0.2264692485332489,0.2830732464790344,0.06669426709413528,0.2837459444999695,-0.1740676313638687,-0.3062770664691925,0.3448171317577362,0.07555174827575684,0.2982456088066101,0.21805064380168915,0.2581990361213684,0.2838362753391266,-0.05639645457267761,0.23247769474983215,-0.25910866260528564,0.6054030656814575,0.12576961517333984,0.0845116525888443,0.2995043396949768,-0.8199439644813538,-0.07501280307769775,0.09759551286697388],[0.060623735189437866,-0.14987748861312866,0.23442977666854858,-0.21218985319137573,0.06718888878822327,-0.121088407933712,0.19524505734443665,-0.04109436646103859,-0.11987917125225067,0.0045423805713653564,0.08114781975746155,-0.012944325804710388,-0.21931575238704681,-0.158878356218338,0.07930269092321396,0.025843270123004913,-0.13583023846149445,-0.0672171413898468,-0.06874002516269684,0.05199706554412842,0.15077999234199524,0.05127713084220886,-0.21782034635543823,0.09562775492668152,-0.009688243269920349,-0.06627485156059265,0.06760210543870926,-0.1583249866962433,0.04108453169465065,-0.13857300579547882,0.13247613608837128,-0.04352883994579315,-0.0023402348160743713,-0.2389860302209854,-0.18666666746139526,-0.08374682813882828,0.10049966722726822,0.019978757947683334,0.07107645273208618,-0.024065904319286346,-0.06452551484107971,-0.037671204656362534,0.10047483444213867,0.05441533774137497,0.10468138754367828,0.005216879770159721,0.06666828691959381,-0.07880792021751404,-0.13184575736522675,0.20810022950172424,-0.08355492353439331,-0.03138163685798645,-0.20520728826522827],[0.8399293422698975,-0.3970455527305603,-0.17604824900627136,-0.11801572144031525,0.06644663214683533,-0.23956438899040222,0.11611062288284302,-0.09497798979282379,-0.3223438560962677,0.11082540452480316,0.33592209219932556,0.3500649034976959,0.15207025408744812,-0.05806173384189606,0.3561342656612396,-0.04295426607131958,-0.3652813732624054,-0.10257291793823242,0.20869767665863037,-0.01935315877199173,0.038927093148231506,-0.13300538063049316,0.01795779913663864,0.04272928833961487,0.18739007413387299,-0.02299576997756958,-0.38898977637290955,0.015672773122787476,-0.18297159671783447,0.037240952253341675,0.4597482681274414,0.04243980348110199,0.2189117670059204,0.25129175186157227,0.39073508977890015,-0.07754422724246979,-0.35104238986968994,0.24568487703800201,0.31131744384765625,0.20752644538879395,0.463523268699646,0.36900460720062256,0.34002530574798584,0.14337360858917236,0.2680392861366272,0.09561728686094284,0.44615527987480164,0.062141887843608856,-0.23646721243858337,0.4648491144180298,-0.6837720274925232,-0.00771569088101387,0.32640913128852844],[0.2078876942396164,-0.06479895114898682,0.648063063621521,0.09532096982002258,0.2855961322784424,-0.1535324901342392,-0.10121478140354156,-0.5999698638916016,0.27489954233169556,0.027853336185216904,0.34317830204963684,-0.1861478090286255,-0.08233122527599335,0.08339221775531769,-0.48094508051872253,0.45170724391937256,-0.17816266417503357,-0.14922209084033966,-0.2837679386138916,-0.2253648042678833,0.09623897075653076,-0.13179108500480652,0.24365800619125366,-0.6204692721366882,-0.09569196403026581,-0.21702782809734344,-0.12648622691631317,-0.025504566729068756,-0.019117161631584167,-0.2780311107635498,0.16951832175254822,-0.4172765016555786,0.14828051626682281,-0.34045061469078064,0.15576116740703583,0.01688632369041443,0.011629447340965271,-0.023821473121643066,0.15135781466960907,0.166950523853302,-0.5519895553588867,0.04347716271877289,-0.018864914774894714,0.23425139486789703,0.06628367304801941,0.16510401666164398,0.3242431581020355,0.07892628014087677,-0.19553878903388977,0.2674016058444977,-1.2331584692001343,-0.8103513717651367,-0.35809552669525146],[0.5120779871940613,-0.018767207860946655,0.23571480810642242,-0.18289124965667725,-0.2469596266746521,0.14443819224834442,-0.26912155747413635,0.1511385589838028,-0.01116257905960083,0.058952972292900085,0.32517746090888977,0.03666333854198456,-0.005145430564880371,0.30297133326530457,-0.1740235835313797,0.010298110544681549,0.07236708700656891,0.3150356411933899,-0.34420302510261536,0.2742493450641632,0.11279696226119995,0.009230457246303558,0.11548268795013428,-0.0999070405960083,0.19132676720619202,0.06690391898155212,-0.13076886534690857,0.38208937644958496,0.26328808069229126,0.09936918318271637,-0.3490852415561676,-0.1123918890953064,0.37658774852752686,-0.3064350187778473,0.17446911334991455,0.5179621577262878,0.15738549828529358,-0.18329662084579468,0.04374334216117859,0.0387994647026062,-0.2251439392566681,-0.10970358550548553,0.08005572855472565,0.21962743997573853,0.11568094789981842,-0.021552160382270813,0.3217768669128418,-0.07306283712387085,0.037410274147987366,0.022718220949172974,-0.3783741891384125,-0.9174780249595642,0.13024163246154785],[-0.2680378258228302,0.07192220538854599,0.6396355628967285,0.053431496024131775,0.17272266745567322,-0.002316102385520935,-0.20857539772987366,-0.23996324837207794,0.1734820008277893,0.13908091187477112,0.1148085743188858,-0.12157532572746277,-0.1889667809009552,0.17876151204109192,-0.3141748309135437,0.0738103836774826,-0.09028896689414978,0.2332940548658371,-0.18067720532417297,-0.20144638419151306,0.09602156281471252,-0.12009274214506149,0.5289525985717773,-0.28896424174308777,0.06540497392416,-0.00810001790523529,-0.17396803200244904,-0.02742791175842285,0.030158184468746185,-0.23411120474338531,0.1487734317779541,-0.6893763542175293,-0.11124759167432785,-0.0035032182931900024,0.14281481504440308,-0.18477773666381836,-0.19192269444465637,-0.20479482412338257,0.17052330076694489,0.3534848690032959,-0.17157703638076782,0.17819352447986603,0.21631325781345367,0.006358891725540161,0.05282590165734291,0.04501175880432129,0.040042102336883545,0.13140559196472168,0.12620006501674652,0.35542261600494385,-0.7800472974777222,-0.20392170548439026,-0.34819191694259644],[0.05994290113449097,0.20638081431388855,0.24927011132240295,-0.13938918709754944,-0.12376318871974945,-0.08012712001800537,-0.3479384481906891,-0.23041009902954102,0.20400205254554749,0.005314655601978302,0.054279714822769165,-0.22553706169128418,-0.3655666708946228,0.14501027762889862,-0.139962837100029,0.08175192773342133,0.2807174324989319,0.28943783044815063,-0.19620352983474731,-0.10639186948537827,0.24945010244846344,-0.13106906414031982,0.25552013516426086,-0.10912687331438065,-0.1370840072631836,0.08363007009029388,0.06289514899253845,0.022727102041244507,-0.09793941676616669,-0.031109735369682312,0.08997746556997299,-0.24844159185886383,-0.06901921331882477,-0.3201618492603302,0.32783257961273193,0.031048133969306946,-0.056166425347328186,-0.1775071918964386,0.07031084597110748,0.19615481793880463,-0.041837260127067566,0.1347918063402176,0.05555008724331856,-0.06692945957183838,0.141569584608078,0.09299776703119278,-0.06004910171031952,0.2473260909318924,-0.12556377053260803,0.17735840380191803,-0.19017840921878815,-0.4909549653530121,0.09318161755800247],[0.3055630922317505,0.1725756973028183,-0.248779296875,-0.09211064875125885,0.12304789572954178,-0.11702906340360641,0.14506453275680542,-0.12900857627391815,0.09796028584241867,0.18601994216442108,0.16772708296775818,-0.03990865871310234,-0.14598508179187775,0.1717791110277176,0.07563971728086472,0.2744406759738922,0.33411508798599243,0.04396021366119385,-0.3535826802253723,-0.06458048522472382,0.310366690158844,-0.20065028965473175,0.08477902412414551,0.07375244796276093,-0.1351611614227295,-0.08755559474229813,-0.10456234216690063,-0.033816635608673096,-0.19254806637763977,0.1158071756362915,-0.03820352256298065,-0.14888843894004822,0.040575526654720306,-0.5531002283096313,0.13830772042274475,0.002813570201396942,0.24433641135692596,0.1323857307434082,-0.08447777479887009,0.07490191608667374,-0.007021857425570488,-0.07296302914619446,0.10588003695011139,0.08461292088031769,0.21608933806419373,-0.2416875809431076,0.25422215461730957,-0.185124009847641,-0.18881969153881073,0.3279174566268921,-0.00026113539934158325,-0.20933885872364044,0.3741440176963806],[0.8266249895095825,0.32736003398895264,-0.053310051560401917,-0.27366578578948975,0.02801213413476944,0.09414171427488327,0.1356973946094513,0.14232736825942993,-0.23215028643608093,0.1754896640777588,-0.1664445698261261,-0.2537229657173157,-0.3626333773136139,-0.0281762033700943,-0.12649628520011902,0.005492718890309334,0.06516295671463013,-0.16124731302261353,-0.26169663667678833,-0.14836406707763672,-0.04910273849964142,-0.021487541496753693,-0.15314386785030365,-0.26784223318099976,-0.10404448211193085,-0.18136882781982422,0.015581339597702026,-0.062312543392181396,0.062255859375,0.37564319372177124,-0.45128995180130005,-0.259127676486969,-0.1118566021323204,-0.4129728674888611,-0.475250244140625,-0.024673942476511,-0.10406656563282013,-0.33689019083976746,-0.2530049979686737,-0.35110682249069214,-0.584668755531311,-0.33372077345848083,-0.27893757820129395,0.0669131651520729,-0.34273892641067505,-0.04734562709927559,-0.1664399802684784,-0.5818555951118469,-0.11403069645166397,-0.09936013072729111,0.2893059253692627,-0.4948342442512512,0.3042484521865845],[0.3407449424266815,0.13289250433444977,0.591020405292511,-0.011724522337317467,0.09794852137565613,-0.06945204734802246,0.40329697728157043,-0.21187788248062134,-0.30905207991600037,0.04471635818481445,-0.4661249816417694,-0.20919394493103027,-0.364678293466568,-0.325590044260025,-0.1420220285654068,0.18797707557678223,-0.23686550557613373,-0.45266270637512207,-0.07440254092216492,-0.33912038803100586,-0.27030864357948303,-0.029383257031440735,-0.2675326466560364,-0.23517802357673645,0.06563389301300049,-0.334942102432251,0.021318264305591583,-0.17529316246509552,0.072000652551651,-0.010510791093111038,-0.03842154145240784,-0.21416160464286804,-0.3786880075931549,-0.2810456454753876,-0.47875428199768066,-0.6215370893478394,-0.2323550134897232,-0.15274910628795624,-0.33700886368751526,-0.21141062676906586,-0.5596092939376831,-0.5096714496612549,-0.5104610919952393,0.13511213660240173,-0.2944396436214447,0.0384654738008976,-0.39388376474380493,-0.38361498713493347,0.14267981052398682,0.035174667835235596,-0.3245665431022644,0.15158654749393463,-0.598486065864563],[0.6826678514480591,0.05635139346122742,-0.38696596026420593,-0.13057203590869904,-0.16656215488910675,-0.21625468134880066,-0.16026857495307922,-0.0927467942237854,-0.4353240728378296,0.0011878199875354767,-0.2653961181640625,0.13447900116443634,-0.023109151050448418,-0.20254382491111755,0.543412446975708,-0.23876582086086273,-0.2713708281517029,-0.09075123816728592,0.10401065647602081,-0.013894855976104736,-0.11619890481233597,-0.2586210072040558,0.09758362174034119,0.1430833339691162,0.21038885414600372,0.04120635613799095,-0.26639875769615173,0.12384030222892761,-0.3410018980503082,0.19389104843139648,0.30267155170440674,-0.022488757967948914,-0.09580269455909729,0.3449510335922241,0.13906097412109375,-0.22166171669960022,-0.7326196432113647,-0.2066497802734375,0.046326227486133575,-0.12020930647850037,0.13897719979286194,0.2605217397212982,0.09949801117181778,-0.02212323248386383,0.09093671292066574,0.32926249504089355,-0.2714720666408539,0.10182451456785202,-0.020527318120002747,-0.041915178298950195,0.049037910997867584,0.43563950061798096,0.0017376765608787537],[-0.32676950097084045,-0.3933390974998474,0.4122177064418793,0.28549981117248535,0.28055906295776367,0.16767358779907227,-0.05145774036645889,0.28655919432640076,-0.3312877118587494,-0.13857191801071167,-0.45613887906074524,0.18004730343818665,0.06017204374074936,0.08949592709541321,0.3246130049228668,-0.27341601252555847,-0.5430325269699097,-0.3886922597885132,0.27514269948005676,-0.5516724586486816,-0.12338612228631973,-0.4041683077812195,-0.10826651751995087,0.25779351592063904,0.03261205554008484,-0.16535153985023499,-0.06066218018531799,-0.318237841129303,-0.11070319265127182,-0.3635927736759186,-0.11798752844333649,-0.04992787539958954,-0.3613809049129486,0.31383615732192993,-0.4355623424053192,-0.5548613667488098,-0.11578559875488281,-0.2507841885089874,-0.30016228556632996,-0.7091516256332397,0.09669831395149231,-0.0036688148975372314,-0.2687973380088806,0.12445014715194702,-0.23548340797424316,-0.11009852588176727,-0.7201216220855713,0.0625869631767273,0.49149811267852783,0.010835878551006317,0.5947624444961548,1.500380039215088,-0.5880955457687378],[0.4610987603664398,0.031013108789920807,0.8450930714607239,-0.20777256786823273,0.04237323999404907,-0.12228619307279587,0.14394250512123108,-0.10719290375709534,-0.45289677381515503,0.32232606410980225,-0.4382353127002716,0.011766672134399414,-0.28747978806495667,0.036132052540779114,-0.19213390350341797,-0.2089453637599945,-0.380980908870697,-0.4573010802268982,-0.3527165353298187,-0.07114662230014801,-0.25354909896850586,-0.3521278202533722,0.14438146352767944,-0.21298322081565857,-0.02919723093509674,-0.3917595148086548,-0.17949631810188293,0.16299717128276825,0.07316158711910248,-0.16139459609985352,-0.125543013215065,-0.37587738037109375,-0.35527268052101135,-0.3896685242652893,-0.294704794883728,-0.6189308166503906,-0.3340860903263092,0.10665107518434525,-0.4565385580062866,0.03244300186634064,-0.3346233665943146,-0.4089816212654114,-0.23467020690441132,0.0022202134132385254,-0.03135930001735687,-0.03490439057350159,-0.023868590593338013,-0.34041184186935425,0.16732196509838104,-0.05270160734653473,-0.40310338139533997,0.02379254624247551,-0.7406860589981079],[1.2988414764404297,-0.37818843126296997,0.214741051197052,-0.2619721293449402,0.24017095565795898,-0.13237479329109192,0.0909390076994896,-0.23754039406776428,-0.2389516830444336,0.20956100523471832,0.15565705299377441,-0.20488077402114868,-0.4103759825229645,0.022979944944381714,0.02264609932899475,0.16263073682785034,-0.31791192293167114,-0.07428273558616638,-0.6104969382286072,0.05020945519208908,-0.12922585010528564,-0.15839481353759766,0.017588376998901367,0.08287371695041656,0.06235571205615997,-0.4406203627586365,-0.31050175428390503,0.3696083128452301,0.11223787069320679,0.016469880938529968,0.26889345049858093,-0.03517341613769531,0.09834513068199158,-0.6338555812835693,-0.04458370804786682,-0.31741905212402344,-0.5645477175712585,0.08863702416419983,0.1166808009147644,-0.08122518658638,-0.36540088057518005,0.1445218026638031,0.18490613996982574,0.24786022305488586,-0.10213670134544373,0.09501738846302032,0.44921162724494934,-0.37969350814819336,-0.1595236361026764,0.34729480743408203,-0.6100184917449951,-0.6892397999763489,0.049120813608169556],[-0.12117721140384674,-0.01588396728038788,0.0009934045374393463,-0.042036570608615875,-0.012770414352416992,0.06726463884115219,-0.2898334860801697,-0.16902746260166168,0.21124987304210663,-0.04573477804660797,0.05727145075798035,0.03053496778011322,-0.15620985627174377,0.22350870072841644,0.1473226249217987,-0.031038537621498108,0.15928535163402557,0.2762850821018219,0.09576290845870972,-0.050959475338459015,0.053441375494003296,-0.16241510212421417,-0.018579311668872833,0.02531326562166214,0.10804110020399094,-0.058943673968315125,0.21582195162773132,0.015992537140846252,-0.0010237060487270355,-0.028374798595905304,-0.14564913511276245,-0.024320846423506737,0.08380523324012756,-0.05415403097867966,0.10155904293060303,0.11108651757240295,0.08486583828926086,-0.15539959073066711,-0.008136950433254242,0.16657224297523499,-0.1387001872062683,0.05028939247131348,0.1090233325958252,-0.11557082831859589,-0.01440265029668808,-0.17501357197761536,-0.27479442954063416,0.0002586841583251953,0.17530156672000885,-0.08030262589454651,0.46668046712875366,0.20977959036827087,0.22332477569580078],[0.77546226978302,0.39811575412750244,0.2079291194677353,-0.16599489748477936,-0.14268650114536285,0.13644272089004517,0.014555670320987701,-0.4215441942214966,0.15813055634498596,0.3682801127433777,0.09387852251529694,-0.39761418104171753,-0.5301902890205383,0.024248674511909485,-0.23513934016227722,0.34364187717437744,0.2748715281486511,0.44854798913002014,-0.33578988909721375,-0.024657681584358215,-0.08747446537017822,0.07616741955280304,0.07513406872749329,-0.3142082095146179,-0.030194342136383057,-0.2593304514884949,-0.10139966011047363,0.35217100381851196,0.1846732348203659,0.3403729796409607,-0.05219990760087967,-0.37393808364868164,0.2313348799943924,-0.4724891483783722,0.2162022590637207,0.06620265543460846,-0.3345905840396881,-0.08040200173854828,-0.05413918197154999,0.5870165824890137,-0.5440254807472229,-0.11279311776161194,0.07016651332378387,-0.01926598697900772,-0.17490017414093018,0.015705779194831848,0.3751666843891144,-0.38056430220603943,-0.13493743538856506,0.22644585371017456,-0.3504098355770111,-1.2448318004608154,0.5775678753852844],[0.4582333564758301,0.2022937685251236,0.29162704944610596,-0.22831609845161438,-0.10142751783132553,0.02962714433670044,-0.17743827402591705,-0.22033120691776276,0.06828080117702484,0.07291120290756226,-0.10089355707168579,-0.19838598370552063,-0.2543574571609497,0.025555431842803955,-0.19508016109466553,0.12791448831558228,0.03453934192657471,0.2176620066165924,-0.29964104294776917,0.08188341557979584,0.11245861649513245,0.08654160052537918,-0.030211396515369415,-0.07349878549575806,0.021787136793136597,-0.28963056206703186,0.04027755558490753,0.2532741129398346,0.1579822450876236,0.2009139358997345,-0.18641558289527893,-0.19586756825447083,0.024225354194641113,-0.4038686752319336,-0.04441787302494049,-0.10951961576938629,-0.15260210633277893,-0.025804096832871437,-0.13690288364887238,-0.04418100416660309,-0.40185546875,-0.28202342987060547,-0.14158135652542114,-0.05088317394256592,-0.16850803792476654,0.20750591158866882,-0.05594252794981003,-0.3546372354030609,-0.019391566514968872,-0.20718398690223694,-0.12008880823850632,-0.6026475429534912,-0.11465947329998016],[0.5139023065567017,-0.04262271523475647,-0.0815272331237793,-0.14031115174293518,-0.281663179397583,0.017766568809747696,0.19494643807411194,0.4674680233001709,-0.5625820755958557,-0.019653186202049255,-0.12870579957962036,0.04159568250179291,0.04223763942718506,-0.11476823687553406,-0.08237048983573914,-0.3903917670249939,-0.09321083873510361,-0.2901344895362854,0.19025173783302307,-0.2481261044740677,-0.18442976474761963,0.0631866604089737,-0.33354124426841736,-0.06287170946598053,-0.06457696855068207,-0.221893772482872,-0.3485451340675354,-0.19430556893348694,-0.15870723128318787,-0.08815712481737137,-0.37729156017303467,-0.05733044445514679,-0.1711472123861313,0.15721172094345093,-0.24246975779533386,-0.18250662088394165,0.037206873297691345,0.150417760014534,-0.3993462324142456,-0.4308682084083557,0.41400012373924255,-0.40136846899986267,-0.12996043264865875,-0.1708233654499054,-0.06665831804275513,-0.3429093658924103,-0.09745289385318756,-0.34631767868995667,-0.006386935710906982,-0.1955869495868683,0.34744957089424133,0.43643009662628174,0.22023038566112518],[-0.25119835138320923,-0.3483358323574066,0.03224601969122887,0.32738491892814636,0.18089993298053741,0.403412401676178,-0.011035233736038208,0.11223208904266357,0.3007260262966156,0.14488585293293,-0.05991940200328827,0.15860731899738312,0.1476151943206787,0.21490490436553955,0.37090617418289185,-0.007590629160404205,-0.0020170211791992188,0.44085630774497986,0.4722990393638611,-0.056233495473861694,-0.10483448207378387,0.18608450889587402,0.0823138952255249,0.3266304135322571,0.26165229082107544,0.18926987051963806,0.4100550413131714,0.12869417667388916,0.30464255809783936,0.12759199738502502,0.15867255628108978,0.2754959166049957,0.07765030860900879,0.32426977157592773,-0.0840710699558258,-0.052940309047698975,-0.020995885133743286,-0.3457653820514679,0.033860817551612854,0.02585158497095108,0.14655426144599915,0.3781418204307556,0.027883373200893402,0.08857209235429764,-0.33413493633270264,0.35939908027648926,-0.3685554563999176,0.1522868126630783,0.24286603927612305,0.11087287962436676,0.6510726809501648,0.41104578971862793,0.2860596179962158],[0.27357766032218933,-0.48616641759872437,0.22891773283481598,-0.21474820375442505,-0.07305237650871277,0.20218151807785034,0.4698941111564636,0.14888577163219452,-0.28885769844055176,-0.012622671201825142,0.24857422709465027,0.3145270049571991,0.21431291103363037,0.2696322798728943,0.33694374561309814,-0.11833373457193375,-0.01970040798187256,-0.03913569450378418,0.3029714822769165,-0.07020407170057297,-0.05617012828588486,0.11032208800315857,-0.10456225275993347,0.0973261371254921,0.3007913827896118,-0.11446316540241241,0.0408121794462204,0.1421286165714264,0.23104846477508545,0.0028955042362213135,0.08045044541358948,0.16508257389068604,0.2269018590450287,0.2156684845685959,-0.054552361369132996,-0.11690166592597961,0.35343125462532043,0.28515058755874634,0.04741466045379639,0.31722038984298706,0.41945531964302063,-0.018682897090911865,0.1068153977394104,-0.09838972985744476,0.06159976124763489,-0.42496275901794434,0.35722488164901733,-0.13967980444431305,0.16668936610221863,0.18870364129543304,0.006090171635150909,0.49413618445396423,-0.028113821521401405],[0.13730333745479584,0.07362095266580582,-0.040042050182819366,0.12517455220222473,0.05034465342760086,0.08867280185222626,-0.17127977311611176,-0.014225929975509644,0.015108942985534668,0.04513038694858551,-0.20107194781303406,0.023911774158477783,0.0016448870301246643,0.15960273146629333,0.283103883266449,-0.05197833850979805,-0.061379238963127136,0.24719688296318054,0.12556515634059906,0.022239625453948975,-0.005269136279821396,0.0911007970571518,0.18532927334308624,0.1408761739730835,0.1929030865430832,0.20803439617156982,0.13289503753185272,0.2434220016002655,0.07059526443481445,0.09656877815723419,0.18283067643642426,-0.027153663337230682,0.04695003479719162,0.19670262932777405,0.10026495158672333,0.12467078119516373,-0.22928404808044434,-0.15744850039482117,0.1784082055091858,0.17082631587982178,0.09325245022773743,0.10674064606428146,-0.05922643095254898,0.0977334976196289,-0.24834492802619934,0.3147112727165222,-0.1257161796092987,0.05632229149341583,-0.1168854609131813,0.19817563891410828,-0.1797787845134735,0.019313842058181763,0.04288549721240997],[1.1290230751037598,0.2056753784418106,-0.7613318562507629,-0.4349451959133148,-0.04479609802365303,-0.12479978799819946,0.09289376437664032,0.1387360692024231,-0.4268452525138855,0.3245464861392975,-0.007418744266033173,-0.16153666377067566,-0.4670373201370239,0.032284095883369446,0.1479770541191101,-0.33131200075149536,0.21461108326911926,0.21589961647987366,-0.2507798969745636,0.19522154331207275,-0.10024058818817139,-0.16070401668548584,-0.23419004678726196,0.11186310648918152,0.07730376720428467,-0.18957781791687012,-0.01601320505142212,0.1154271811246872,-0.09157298505306244,0.15699175000190735,-0.045858174562454224,-0.08373841643333435,-0.017723649740219116,-0.2655876874923706,-0.02855725586414337,-0.15337689220905304,-0.2349839061498642,0.08697199821472168,-0.2672058045864105,0.10522741079330444,0.03560402989387512,0.10786017775535583,0.23080118000507355,-0.20768007636070251,0.05668807029724121,-0.39940938353538513,0.2126806676387787,-0.6462892889976501,-0.07557088136672974,-0.045673757791519165,0.9057701826095581,0.01302841305732727,1.2137700319290161],[0.6650708913803101,-0.1307283341884613,-1.0614876747131348,0.05855739116668701,-0.1138446107506752,-0.11472783982753754,-0.0954248309135437,-0.01673734188079834,0.06288425624370575,0.5805259346961975,0.48649975657463074,0.23887456953525543,-0.016448162496089935,0.06743822991847992,0.43830573558807373,-0.16943970322608948,0.08701921254396439,0.27980467677116394,0.03946387767791748,0.2693560719490051,0.2927587628364563,-0.16904355585575104,-0.22393041849136353,0.27398189902305603,-0.30465689301490784,0.290050208568573,-0.07167769968509674,0.1259409636259079,-0.1789097934961319,0.37503594160079956,0.025965526700019836,0.207886204123497,0.2659915089607239,0.0935397744178772,0.4625595510005951,0.5762261152267456,-0.16785989701747894,0.15453821420669556,0.09520423412322998,0.3995940089225769,0.3163735866546631,0.6678157448768616,0.4227391481399536,0.029436379671096802,0.27115195989608765,0.33036309480667114,0.3651180863380432,0.18855690956115723,-0.3457421064376831,0.23077020049095154,0.2831191122531891,-0.3226795494556427,1.0973122119903564],[0.3405263423919678,-0.16724786162376404,-0.18898287415504456,-0.11932413280010223,-0.008659608662128448,0.02728942036628723,0.10799883306026459,0.2671705186367035,-0.229730024933815,0.09474212676286697,-0.11232161521911621,0.12799808382987976,0.023409198969602585,-0.0318114347755909,0.027515485882759094,-0.1987437903881073,0.003924701362848282,0.02622358128428459,0.01818506419658661,0.06888335943222046,-0.1554773598909378,0.15641069412231445,-0.23844748735427856,0.2586193084716797,0.10810845345258713,-0.013472676277160645,0.06999287754297256,0.18228690326213837,0.12880660593509674,-0.0888695940375328,-0.19821587204933167,0.4341242015361786,-0.015069961547851562,0.18160119652748108,0.003386199474334717,0.08219267427921295,0.021148912608623505,-0.07152049243450165,-0.14278289675712585,-0.06345400959253311,0.27411556243896484,-0.003259599208831787,-0.0293334499001503,-0.013439767062664032,-0.04077786207199097,0.07423621416091919,-0.03270760178565979,0.03552243113517761,0.07020613551139832,-0.22346186637878418,0.489652156829834,-0.21237511932849884,0.6688159704208374],[1.5603448152542114,0.5728659629821777,-2.164518356323242,0.3282904326915741,-0.4369523525238037,-0.27976903319358826,0.12831008434295654,-1.5716991424560547,1.592298984527588,0.672728419303894,1.7907836437225342,-0.6203169226646423,1.133201003074646,0.9561505913734436,0.48996853828430176,1.5998952388763428,1.1730916500091553,0.48803678154945374,0.32992178201675415,0.33699584007263184,0.770789623260498,0.9306057691574097,1.5418977737426758,-0.5655083060264587,0.2887355089187622,0.9964288473129272,-0.11240452527999878,0.6846132278442383,1.2384923696517944,1.3548582792282104,1.2694522142410278,0.4297484755516052,1.665715217590332,-0.287096232175827,1.673233985900879,1.0320780277252197,0.3316202163696289,1.1372095346450806,1.8482768535614014,3.231940984725952,0.44519293308258057,1.0015127658843994,0.8919957280158997,1.1546841859817505,0.11512579023838043,0.6628851890563965,2.040353298187256,1.0421442985534668,-1.0188016891479492,1.687233805656433,-5.724932670593262,-3.8807640075683594,1.4053735733032227],[0.2619364261627197,0.4966627359390259,-0.4544544219970703,0.03489759564399719,-0.14960390329360962,-0.010490719228982925,0.10381458699703217,-0.2852993607521057,0.4731283187866211,0.28595617413520813,0.4427964389324188,-0.1625760793685913,0.057539645582437515,0.2095356583595276,-0.04717979580163956,0.5101670026779175,0.35676541924476624,0.36990875005722046,-0.3642255365848541,0.30651479959487915,0.2804502248764038,0.4568110704421997,0.44166305661201477,-0.005387932062149048,0.014901772141456604,0.35357534885406494,0.16085271537303925,0.4426672160625458,0.44337743520736694,0.5414132475852966,0.13198180496692657,0.06760920584201813,0.47455620765686035,-0.20035076141357422,0.3777133822441101,0.3837331235408783,0.08450108766555786,0.2681526243686676,0.41429099440574646,0.9497305750846863,0.0035966187715530396,0.17955690622329712,0.1728411614894867,0.22859036922454834,-0.006437413394451141,0.3468643128871918,0.6570541262626648,0.234247088432312,-0.15466856956481934,0.31302541494369507,-1.4182208776474,-1.7551710605621338,0.4462625980377197],[0.9767414927482605,0.8258261680603027,-0.5713531970977783,-0.429229199886322,-0.0017184019088745117,-0.11587806046009064,-0.132804736495018,-0.656194269657135,0.4506036639213562,0.2647766172885895,0.21406906843185425,-0.6682389378547668,-1.1038522720336914,-0.08318327367305756,-0.5110226273536682,0.5128679275512695,0.598493218421936,0.4176959991455078,-0.5495937466621399,0.26815810799598694,-0.18575158715248108,0.1844453066587448,0.09544754028320312,-0.47162237763404846,-0.35503894090652466,-0.017960041761398315,0.02033919095993042,0.19322463870048523,-0.20871829986572266,0.59309983253479,0.3964008092880249,-0.06976836919784546,0.1921525001525879,-0.7138311862945557,0.26708078384399414,0.1841902881860733,-0.6612127423286438,-0.5390724539756775,-0.027491211891174316,0.42965900897979736,-0.7726086378097534,0.41257143020629883,0.053648605942726135,-0.027883924543857574,-0.21572181582450867,0.1448432356119156,0.39186426997184753,-0.24599295854568481,-0.24486765265464783,0.20209604501724243,0.18886710703372955,-1.9169807434082031,1.3238893747329712]],\"type\":\"heatmap\",\"xaxis\":\"x\",\"yaxis\":\"y\",\"hovertemplate\":\"src token: %{x}<br>dest token: %{y}<br>color: %{z}<extra></extra>\"}],                        {\"template\":{\"data\":{\"histogram2dcontour\":[{\"type\":\"histogram2dcontour\",\"colorbar\":{\"outlinewidth\":0,\"ticks\":\"\"},\"colorscale\":[[0.0,\"#0d0887\"],[0.1111111111111111,\"#46039f\"],[0.2222222222222222,\"#7201a8\"],[0.3333333333333333,\"#9c179e\"],[0.4444444444444444,\"#bd3786\"],[0.5555555555555556,\"#d8576b\"],[0.6666666666666666,\"#ed7953\"],[0.7777777777777778,\"#fb9f3a\"],[0.8888888888888888,\"#fdca26\"],[1.0,\"#f0f921\"]]}],\"choropleth\":[{\"type\":\"choropleth\",\"colorbar\":{\"outlinewidth\":0,\"ticks\":\"\"}}],\"histogram2d\":[{\"type\":\"histogram2d\",\"colorbar\":{\"outlinewidth\":0,\"ticks\":\"\"},\"colorscale\":[[0.0,\"#0d0887\"],[0.1111111111111111,\"#46039f\"],[0.2222222222222222,\"#7201a8\"],[0.3333333333333333,\"#9c179e\"],[0.4444444444444444,\"#bd3786\"],[0.5555555555555556,\"#d8576b\"],[0.6666666666666666,\"#ed7953\"],[0.7777777777777778,\"#fb9f3a\"],[0.8888888888888888,\"#fdca26\"],[1.0,\"#f0f921\"]]}],\"heatmap\":[{\"type\":\"heatmap\",\"colorbar\":{\"outlinewidth\":0,\"ticks\":\"\"},\"colorscale\":[[0.0,\"#0d0887\"],[0.1111111111111111,\"#46039f\"],[0.2222222222222222,\"#7201a8\"],[0.3333333333333333,\"#9c179e\"],[0.4444444444444444,\"#bd3786\"],[0.5555555555555556,\"#d8576b\"],[0.6666666666666666,\"#ed7953\"],[0.7777777777777778,\"#fb9f3a\"],[0.8888888888888888,\"#fdca26\"],[1.0,\"#f0f921\"]]}],\"heatmapgl\":[{\"type\":\"heatmapgl\",\"colorbar\":{\"outlinewidth\":0,\"ticks\":\"\"},\"colorscale\":[[0.0,\"#0d0887\"],[0.1111111111111111,\"#46039f\"],[0.2222222222222222,\"#7201a8\"],[0.3333333333333333,\"#9c179e\"],[0.4444444444444444,\"#bd3786\"],[0.5555555555555556,\"#d8576b\"],[0.6666666666666666,\"#ed7953\"],[0.7777777777777778,\"#fb9f3a\"],[0.8888888888888888,\"#fdca26\"],[1.0,\"#f0f921\"]]}],\"contourcarpet\":[{\"type\":\"contourcarpet\",\"colorbar\":{\"outlinewidth\":0,\"ticks\":\"\"}}],\"contour\":[{\"type\":\"contour\",\"colorbar\":{\"outlinewidth\":0,\"ticks\":\"\"},\"colorscale\":[[0.0,\"#0d0887\"],[0.1111111111111111,\"#46039f\"],[0.2222222222222222,\"#7201a8\"],[0.3333333333333333,\"#9c179e\"],[0.4444444444444444,\"#bd3786\"],[0.5555555555555556,\"#d8576b\"],[0.6666666666666666,\"#ed7953\"],[0.7777777777777778,\"#fb9f3a\"],[0.8888888888888888,\"#fdca26\"],[1.0,\"#f0f921\"]]}],\"surface\":[{\"type\":\"surface\",\"colorbar\":{\"outlinewidth\":0,\"ticks\":\"\"},\"colorscale\":[[0.0,\"#0d0887\"],[0.1111111111111111,\"#46039f\"],[0.2222222222222222,\"#7201a8\"],[0.3333333333333333,\"#9c179e\"],[0.4444444444444444,\"#bd3786\"],[0.5555555555555556,\"#d8576b\"],[0.6666666666666666,\"#ed7953\"],[0.7777777777777778,\"#fb9f3a\"],[0.8888888888888888,\"#fdca26\"],[1.0,\"#f0f921\"]]}],\"mesh3d\":[{\"type\":\"mesh3d\",\"colorbar\":{\"outlinewidth\":0,\"ticks\":\"\"}}],\"scatter\":[{\"fillpattern\":{\"fillmode\":\"overlay\",\"size\":10,\"solidity\":0.2},\"type\":\"scatter\"}],\"parcoords\":[{\"type\":\"parcoords\",\"line\":{\"colorbar\":{\"outlinewidth\":0,\"ticks\":\"\"}}}],\"scatterpolargl\":[{\"type\":\"scatterpolargl\",\"marker\":{\"colorbar\":{\"outlinewidth\":0,\"ticks\":\"\"}}}],\"bar\":[{\"error_x\":{\"color\":\"#2a3f5f\"},\"error_y\":{\"color\":\"#2a3f5f\"},\"marker\":{\"line\":{\"color\":\"#E5ECF6\",\"width\":0.5},\"pattern\":{\"fillmode\":\"overlay\",\"size\":10,\"solidity\":0.2}},\"type\":\"bar\"}],\"scattergeo\":[{\"type\":\"scattergeo\",\"marker\":{\"colorbar\":{\"outlinewidth\":0,\"ticks\":\"\"}}}],\"scatterpolar\":[{\"type\":\"scatterpolar\",\"marker\":{\"colorbar\":{\"outlinewidth\":0,\"ticks\":\"\"}}}],\"histogram\":[{\"marker\":{\"pattern\":{\"fillmode\":\"overlay\",\"size\":10,\"solidity\":0.2}},\"type\":\"histogram\"}],\"scattergl\":[{\"type\":\"scattergl\",\"marker\":{\"colorbar\":{\"outlinewidth\":0,\"ticks\":\"\"}}}],\"scatter3d\":[{\"type\":\"scatter3d\",\"line\":{\"colorbar\":{\"outlinewidth\":0,\"ticks\":\"\"}},\"marker\":{\"colorbar\":{\"outlinewidth\":0,\"ticks\":\"\"}}}],\"scattermapbox\":[{\"type\":\"scattermapbox\",\"marker\":{\"colorbar\":{\"outlinewidth\":0,\"ticks\":\"\"}}}],\"scatterternary\":[{\"type\":\"scatterternary\",\"marker\":{\"colorbar\":{\"outlinewidth\":0,\"ticks\":\"\"}}}],\"scattercarpet\":[{\"type\":\"scattercarpet\",\"marker\":{\"colorbar\":{\"outlinewidth\":0,\"ticks\":\"\"}}}],\"carpet\":[{\"aaxis\":{\"endlinecolor\":\"#2a3f5f\",\"gridcolor\":\"white\",\"linecolor\":\"white\",\"minorgridcolor\":\"white\",\"startlinecolor\":\"#2a3f5f\"},\"baxis\":{\"endlinecolor\":\"#2a3f5f\",\"gridcolor\":\"white\",\"linecolor\":\"white\",\"minorgridcolor\":\"white\",\"startlinecolor\":\"#2a3f5f\"},\"type\":\"carpet\"}],\"table\":[{\"cells\":{\"fill\":{\"color\":\"#EBF0F8\"},\"line\":{\"color\":\"white\"}},\"header\":{\"fill\":{\"color\":\"#C8D4E3\"},\"line\":{\"color\":\"white\"}},\"type\":\"table\"}],\"barpolar\":[{\"marker\":{\"line\":{\"color\":\"#E5ECF6\",\"width\":0.5},\"pattern\":{\"fillmode\":\"overlay\",\"size\":10,\"solidity\":0.2}},\"type\":\"barpolar\"}],\"pie\":[{\"automargin\":true,\"type\":\"pie\"}]},\"layout\":{\"autotypenumbers\":\"strict\",\"colorway\":[\"#636efa\",\"#EF553B\",\"#00cc96\",\"#ab63fa\",\"#FFA15A\",\"#19d3f3\",\"#FF6692\",\"#B6E880\",\"#FF97FF\",\"#FECB52\"],\"font\":{\"color\":\"#2a3f5f\"},\"hovermode\":\"closest\",\"hoverlabel\":{\"align\":\"left\"},\"paper_bgcolor\":\"white\",\"plot_bgcolor\":\"#E5ECF6\",\"polar\":{\"bgcolor\":\"#E5ECF6\",\"angularaxis\":{\"gridcolor\":\"white\",\"linecolor\":\"white\",\"ticks\":\"\"},\"radialaxis\":{\"gridcolor\":\"white\",\"linecolor\":\"white\",\"ticks\":\"\"}},\"ternary\":{\"bgcolor\":\"#E5ECF6\",\"aaxis\":{\"gridcolor\":\"white\",\"linecolor\":\"white\",\"ticks\":\"\"},\"baxis\":{\"gridcolor\":\"white\",\"linecolor\":\"white\",\"ticks\":\"\"},\"caxis\":{\"gridcolor\":\"white\",\"linecolor\":\"white\",\"ticks\":\"\"}},\"coloraxis\":{\"colorbar\":{\"outlinewidth\":0,\"ticks\":\"\"}},\"colorscale\":{\"sequential\":[[0.0,\"#0d0887\"],[0.1111111111111111,\"#46039f\"],[0.2222222222222222,\"#7201a8\"],[0.3333333333333333,\"#9c179e\"],[0.4444444444444444,\"#bd3786\"],[0.5555555555555556,\"#d8576b\"],[0.6666666666666666,\"#ed7953\"],[0.7777777777777778,\"#fb9f3a\"],[0.8888888888888888,\"#fdca26\"],[1.0,\"#f0f921\"]],\"sequentialminus\":[[0.0,\"#0d0887\"],[0.1111111111111111,\"#46039f\"],[0.2222222222222222,\"#7201a8\"],[0.3333333333333333,\"#9c179e\"],[0.4444444444444444,\"#bd3786\"],[0.5555555555555556,\"#d8576b\"],[0.6666666666666666,\"#ed7953\"],[0.7777777777777778,\"#fb9f3a\"],[0.8888888888888888,\"#fdca26\"],[1.0,\"#f0f921\"]],\"diverging\":[[0,\"#8e0152\"],[0.1,\"#c51b7d\"],[0.2,\"#de77ae\"],[0.3,\"#f1b6da\"],[0.4,\"#fde0ef\"],[0.5,\"#f7f7f7\"],[0.6,\"#e6f5d0\"],[0.7,\"#b8e186\"],[0.8,\"#7fbc41\"],[0.9,\"#4d9221\"],[1,\"#276419\"]]},\"xaxis\":{\"gridcolor\":\"white\",\"linecolor\":\"white\",\"ticks\":\"\",\"title\":{\"standoff\":15},\"zerolinecolor\":\"white\",\"automargin\":true,\"zerolinewidth\":2},\"yaxis\":{\"gridcolor\":\"white\",\"linecolor\":\"white\",\"ticks\":\"\",\"title\":{\"standoff\":15},\"zerolinecolor\":\"white\",\"automargin\":true,\"zerolinewidth\":2},\"scene\":{\"xaxis\":{\"backgroundcolor\":\"#E5ECF6\",\"gridcolor\":\"white\",\"linecolor\":\"white\",\"showbackground\":true,\"ticks\":\"\",\"zerolinecolor\":\"white\",\"gridwidth\":2},\"yaxis\":{\"backgroundcolor\":\"#E5ECF6\",\"gridcolor\":\"white\",\"linecolor\":\"white\",\"showbackground\":true,\"ticks\":\"\",\"zerolinecolor\":\"white\",\"gridwidth\":2},\"zaxis\":{\"backgroundcolor\":\"#E5ECF6\",\"gridcolor\":\"white\",\"linecolor\":\"white\",\"showbackground\":true,\"ticks\":\"\",\"zerolinecolor\":\"white\",\"gridwidth\":2}},\"shapedefaults\":{\"line\":{\"color\":\"#2a3f5f\"}},\"annotationdefaults\":{\"arrowcolor\":\"#2a3f5f\",\"arrowhead\":0,\"arrowwidth\":1},\"geo\":{\"bgcolor\":\"white\",\"landcolor\":\"#E5ECF6\",\"subunitcolor\":\"white\",\"showland\":true,\"showlakes\":true,\"lakecolor\":\"white\"},\"title\":{\"x\":0.05},\"mapbox\":{\"style\":\"light\"}}},\"xaxis\":{\"anchor\":\"y\",\"domain\":[0.0,1.0],\"scaleanchor\":\"y\",\"constrain\":\"domain\",\"title\":{\"text\":\"src token\"}},\"yaxis\":{\"anchor\":\"x\",\"domain\":[0.0,1.0],\"autorange\":\"reversed\",\"constrain\":\"domain\",\"title\":{\"text\":\"dest token\"}},\"coloraxis\":{\"colorscale\":[[0.0,\"rgb(103,0,31)\"],[0.1,\"rgb(178,24,43)\"],[0.2,\"rgb(214,96,77)\"],[0.3,\"rgb(244,165,130)\"],[0.4,\"rgb(253,219,199)\"],[0.5,\"rgb(247,247,247)\"],[0.6,\"rgb(209,229,240)\"],[0.7,\"rgb(146,197,222)\"],[0.8,\"rgb(67,147,195)\"],[0.9,\"rgb(33,102,172)\"],[1.0,\"rgb(5,48,97)\"]],\"cmid\":0.0},\"title\":{\"text\":\"0.0 full QK circuit W_E @ W_QK @ W_E.T\"}},                        {\"responsive\": true}                    ).then(function(){\n",
              "                            \n",
              "var gd = document.getElementById('316765fe-0ea4-4748-b650-76c96f0ae201');\n",
              "var x = new MutationObserver(function (mutations, observer) {{\n",
              "        var display = window.getComputedStyle(gd).display;\n",
              "        if (!display || display === 'none') {{\n",
              "            console.log([gd, 'removed!']);\n",
              "            Plotly.purge(gd);\n",
              "            observer.disconnect();\n",
              "        }}\n",
              "}});\n",
              "\n",
              "// Listen for the removal of the full notebook cells\n",
              "var notebookContainer = gd.closest('#notebook-container');\n",
              "if (notebookContainer) {{\n",
              "    x.observe(notebookContainer, {childList: true});\n",
              "}}\n",
              "\n",
              "// Listen for the clearing of the current output cell\n",
              "var outputEl = gd.closest('.output');\n",
              "if (outputEl) {{\n",
              "    x.observe(outputEl, {childList: true});\n",
              "}}\n",
              "\n",
              "                        })                };                            </script>        </div>\n",
              "</body>\n",
              "</html>"
            ]
          },
          "metadata": {}
        },
        {
          "output_type": "display_data",
          "data": {
            "text/html": [
              "<html>\n",
              "<head><meta charset=\"utf-8\" /></head>\n",
              "<body>\n",
              "    <div>            <script src=\"https://cdnjs.cloudflare.com/ajax/libs/mathjax/2.7.5/MathJax.js?config=TeX-AMS-MML_SVG\"></script><script type=\"text/javascript\">if (window.MathJax && window.MathJax.Hub && window.MathJax.Hub.Config) {window.MathJax.Hub.Config({SVG: {font: \"STIX-Web\"}});}</script>                <script type=\"text/javascript\">window.PlotlyConfig = {MathJaxConfig: 'local'};</script>\n",
              "        <script src=\"https://cdn.plot.ly/plotly-2.18.2.min.js\"></script>                <div id=\"9dba0cf4-905e-4cb9-a915-0b75df1a55f2\" class=\"plotly-graph-div\" style=\"height:525px; width:100%;\"></div>            <script type=\"text/javascript\">                                    window.PLOTLYENV=window.PLOTLYENV || {};                                    if (document.getElementById(\"9dba0cf4-905e-4cb9-a915-0b75df1a55f2\")) {                    Plotly.newPlot(                        \"9dba0cf4-905e-4cb9-a915-0b75df1a55f2\",                        [{\"coloraxis\":\"coloraxis\",\"name\":\"0\",\"y\":[\"BOS\",\"11_1\",\"14_2\",\"17_3\",\"MID\",\"2_5\",\"1_6\",\"0_7\",\"END\",\"17_9\",\"14_10\",\"11_11\"],\"z\":[[0.3411811590194702,0.24360337853431702,-0.17094051837921143,-0.14014843106269836,0.06228195130825043,-0.0348186194896698,-0.23608842492103577,-0.4525737464427948,0.49125003814697266,0.23029085993766785,0.5492079257965088,-0.14449995756149292,-0.4105434715747833,0.36289581656455994,-0.28593289852142334,0.38369813561439514,0.357759952545166,0.6211752891540527,-0.33537745475769043,0.45914220809936523,0.12904326617717743,0.21871641278266907,0.5304695963859558,-0.1149178296327591,0.10790657997131348,0.2416500300168991,0.22416912019252777,0.42566952109336853,0.23138588666915894,0.34699273109436035,0.5194377899169922,-0.07605914026498795,0.45033687353134155,-0.3109401762485504,0.4433906674385071,0.36227089166641235,-0.26098936796188354,-0.18510355055332184,0.3533293902873993,0.8354313373565674,-0.3811240494251251,0.5320296883583069,0.3201845586299896,0.09580564498901367,-0.06458012759685516,0.2927669882774353,0.6397333741188049,0.12216690182685852,-0.1428801268339157,0.38342902064323425,-0.5915666222572327,-1.5067639350891113,0.6755056381225586],[-1.3769055604934692,-1.6052978038787842,-0.03794592618942261,0.8461042642593384,-0.4848589301109314,0.46126046776771545,0.4766567647457123,2.1041955947875977,-1.7281076908111572,-0.395770788192749,-0.969237744808197,1.531633973121643,2.5753893852233887,-0.15493538975715637,2.0121095180511475,-1.734696865081787,-1.111463189125061,-1.52200186252594,1.6021578311920166,-0.8833842277526855,0.17300915718078613,-0.5137482285499573,-0.8584635257720947,1.3399407863616943,0.4580473303794861,-0.05220635235309601,-0.4728528559207916,-0.845863938331604,-0.18871501088142395,-0.7969579696655273,-1.2445076704025269,0.3235182762145996,-0.8017368316650391,1.919866681098938,-1.1966283321380615,-0.6542143821716309,1.1978604793548584,1.211548089981079,-0.4139401614665985,-1.8973897695541382,2.225447654724121,-1.0135194063186646,-0.4558579921722412,-0.23330774903297424,0.14503689110279083,-0.7670187950134277,-1.473641276359558,0.01778748631477356,0.4231766164302826,-0.6758040189743042,1.3791530132293701,6.166805744171143,-2.907278060913086],[0.6549695730209351,-1.8465092182159424,1.385186791419983,0.09707057476043701,0.051719971001148224,-0.03656090050935745,0.4619719088077545,0.6603922843933105,-1.4056187868118286,-0.4335325360298157,-0.4339997470378876,0.7890733480453491,1.236691951751709,0.11479923129081726,1.3175910711288452,-0.9019025564193726,-1.5207399129867554,-1.228481411933899,0.5565670132637024,-0.9106373190879822,-0.21180789172649384,-0.9494202733039856,-0.34912627935409546,0.46300798654556274,0.6502413153648376,-0.5546594858169556,-0.3766007423400879,-0.3300900161266327,0.1727181375026703,-0.9015432000160217,-0.2026561200618744,-0.11170271784067154,-0.5304532051086426,0.8320975303649902,-0.5151323080062866,-1.178454875946045,0.29109805822372437,1.0150959491729736,-0.054078906774520874,-0.9090818762779236,0.988736629486084,-0.4600261449813843,-0.2666108012199402,0.0634814202785492,0.5651562213897705,-0.2236282080411911,-0.5418726205825806,-0.2135974019765854,0.1872546672821045,-0.20496346056461334,-1.1139005422592163,3.3349459171295166,-2.080606460571289],[1.0772970914840698,1.5159687995910645,-4.388370513916016,0.12497618794441223,-0.5708366632461548,0.012992411851882935,-0.16451165080070496,1.1798440217971802,-0.7904075384140015,0.47435128688812256,-0.8311707973480225,0.02949538826942444,0.2553763687610626,-0.09025168418884277,0.7702001333236694,-0.9714903235435486,1.0582131147384644,0.33384478092193604,1.042905569076538,-0.007855333387851715,0.44310522079467773,0.21566790342330933,-0.9308341145515442,0.7173615097999573,-0.47079557180404663,0.5985532402992249,-0.542979896068573,-0.9624715447425842,-1.0740797519683838,0.8025722503662109,-1.1864683628082275,0.6191409826278687,-0.1707041710615158,0.8832614421844482,-0.30691614747047424,0.7278215885162354,0.15350410342216492,-0.5883254408836365,-0.5432379245758057,-0.4287993013858795,1.2665164470672607,0.3168308734893799,0.36398085951805115,-0.14263564348220825,-0.3821682631969452,-0.7499639391899109,-1.07896888256073,0.13457059860229492,-0.2698162794113159,-0.19348931312561035,3.4785356521606445,1.430336594581604,3.4891157150268555],[0.5327540040016174,0.8164116144180298,-0.25040537118911743,-0.2979382276535034,-0.10540585964918137,-0.11094734817743301,-0.012056058272719383,-0.6417308449745178,0.38018304109573364,0.2679837942123413,0.36480483412742615,-0.534233570098877,-0.427609384059906,-0.00819772481918335,-0.5070374608039856,0.6166110038757324,0.4554592967033386,0.2448846697807312,-0.5260823369026184,0.278287798166275,0.29093530774116516,0.24552860856056213,0.24665388464927673,-0.4597052037715912,-0.13951179385185242,-0.01890128292143345,0.02857666090130806,0.1686229258775711,0.19061055779457092,0.4122149646282196,0.08137272298336029,-0.11730965971946716,0.36011555790901184,-0.7324721813201904,0.22415974736213684,0.30006226897239685,-0.07344220578670502,0.07232666015625,0.22964337468147278,0.7765418291091919,-0.5297485589981079,-0.024068623781204224,0.14532271027565002,0.2964876890182495,0.08529423177242279,0.06173769757151604,0.6354119777679443,-0.0030995868146419525,-0.22670993208885193,0.2933860719203949,-1.1620804071426392,-2.276460886001587,0.7155441045761108],[0.2400990128517151,0.2732076346874237,0.0016394853591918945,0.1626771092414856,-0.38495999574661255,-0.20610374212265015,-0.15297570824623108,-1.8574824333190918,2.323354721069336,0.8148460984230042,2.3523101806640625,-0.6644166707992554,0.20212268829345703,0.8720165491104126,-0.48208075761795044,1.9680308103561401,1.218265175819397,1.243989109992981,0.06889256089925766,0.7101982831954956,0.8641362190246582,1.0538792610168457,1.5327003002166748,-0.9293158054351807,0.022102266550064087,1.0867524147033691,0.5215163826942444,0.7107330560684204,1.5772820711135864,1.1239128112792969,1.1963508129119873,0.3136943280696869,1.8573102951049805,-1.1433721780776978,1.728168249130249,1.1924188137054443,0.5400886535644531,0.7132632732391357,1.5467535257339478,3.347506046295166,-0.3265992999076843,0.9622670412063599,0.9215367436408997,1.3538990020751953,-0.015847817063331604,0.7139073610305786,2.26475191116333,0.9665392637252808,-0.6741806268692017,1.6270384788513184,-5.170622825622559,-5.725244522094727,1.2577054500579834],[-1.8410658836364746,1.4067237377166748,2.2084298133850098,-0.12200462818145752,-0.4088427424430847,-0.5789687037467957,0.3813038468360901,-0.6109150648117065,-0.32193708419799805,-0.563064694404602,-0.4525938034057617,-0.9241852164268494,0.0942668616771698,-0.792181134223938,-2.027250289916992,1.0394823551177979,0.612654983997345,-1.5983725786209106,-0.47428572177886963,-0.754123330116272,-0.025556117296218872,0.3833700716495514,0.1897793412208557,-1.644158124923706,-0.2820708155632019,-0.9419052600860596,-0.914603590965271,-0.9692226648330688,-0.3678285479545593,-0.5272790193557739,-0.28711631894111633,-0.7928376197814941,-0.4719104766845703,-1.5476375818252563,-0.16483771800994873,-0.5756689310073853,0.6194981336593628,0.8524008989334106,-0.45070579648017883,-0.49161267280578613,-1.152720332145691,-2.5273263454437256,-0.7278777360916138,0.5063360929489136,-0.09066911786794662,-1.3420566320419312,0.6248416900634766,-0.6171072721481323,-0.13881957530975342,-0.2073734849691391,-3.2263317108154297,-1.7754641771316528,-1.8758879899978638],[-2.5431101322174072,-0.345552921295166,1.6014240980148315,0.22546923160552979,0.5520510673522949,0.5806119441986084,0.2257290780544281,0.7123427987098694,-0.3287261724472046,-0.9574240446090698,-1.2787710428237915,0.3409278988838196,0.654705822467804,-0.2524769902229309,-0.16045761108398438,-0.5780917406082153,-0.7339028716087341,-0.6720411777496338,-0.24172624945640564,-0.3756793141365051,-0.5857902765274048,-0.253090500831604,0.21437957882881165,0.3665969669818878,0.28464072942733765,-0.6269188523292542,0.3345390260219574,0.028835855424404144,-0.006571680307388306,-1.0365705490112305,-0.3299214243888855,-0.41432562470436096,-1.1450992822647095,0.8124231696128845,-1.1634057760238647,-0.7947659492492676,0.3436412215232849,-0.044202134013175964,-0.3515571355819702,-1.432107925415039,-0.04029601812362671,-0.9755921363830566,-0.7647990584373474,-0.9574862718582153,-0.07278281450271606,-0.073113352060318,-1.1346832513809204,-0.22568465769290924,0.5482350587844849,-1.1219722032546997,1.2826427221298218,3.368439197540283,-3.2021126747131348],[1.8626654148101807,0.3131423592567444,-1.600263237953186,0.12820543348789215,-0.40853726863861084,-0.32549813389778137,0.007298663258552551,-1.9922531843185425,1.751065969467163,0.6953562498092651,2.293628692626953,-0.6831485033035278,1.0285154581069946,1.1500345468521118,0.4471632242202759,1.9421604871749878,1.0924968719482422,0.5973492860794067,0.19901621341705322,0.393355131149292,0.9484463930130005,0.923129141330719,1.7913683652877808,-0.7904695868492126,0.44786012172698975,1.0031801462173462,-0.0034914016723632812,0.9044591188430786,1.5637673139572144,1.541201114654541,1.5537675619125366,0.24812865257263184,1.885833501815796,-0.45058777928352356,1.8099969625473022,1.0552983283996582,0.2511930465698242,1.2045509815216064,2.1357603073120117,3.654432773590088,0.08758826553821564,1.2873188257217407,0.9915099143981934,1.235209345817566,0.19928421080112457,0.8542870879173279,2.4588816165924072,1.0708627700805664,-1.0911520719528198,1.8976950645446777,-6.780787467956543,-4.525346279144287,1.0996454954147339],[1.4782105684280396,3.1808066368103027,3.256220817565918,-1.7172672748565674,0.1630294919013977,-0.9240874648094177,-1.149862289428711,-2.133897066116333,0.6384658813476562,-0.5878929495811462,-1.4983724355697632,-3.356297254562378,-4.71584415435791,-2.1168735027313232,-4.804020404815674,1.6304153203964233,0.5303528904914856,-0.23596154153347015,-3.1963863372802734,0.008997112512588501,-1.3376432657241821,0.2592111825942993,-0.6680138111114502,-3.3634912967681885,-1.952468991279602,-2.2988715171813965,-1.0275429487228394,0.027080243453383446,-1.4523125886917114,-0.19538381695747375,-0.3923853635787964,-2.3075008392333984,-1.1873807907104492,-4.185146808624268,-0.8535614609718323,-0.7039060592651367,-2.153698682785034,-2.4133400917053223,-1.6101524829864502,-1.7765525579452515,-5.318975448608398,-2.141993999481201,-1.4961585998535156,-0.6185582876205444,-1.3253443241119385,-0.5092581510543823,-0.10598999261856079,-2.631917715072632,-0.37155312299728394,-0.9639414548873901,0.9534949064254761,-5.524897575378418,-0.6277729272842407],[-0.6442028284072876,-2.0711264610290527,-0.6871896982192993,0.48275816440582275,0.330555260181427,0.8665580749511719,0.3042427897453308,0.043616458773612976,1.992505669593811,1.4505430459976196,3.3522238731384277,2.151134490966797,0.18254363536834717,2.3674135208129883,1.7040846347808838,0.3174675703048706,0.6189391016960144,3.5228915214538574,0.19189238548278809,2.4548935890197754,1.0015056133270264,0.689410924911499,2.112236261367798,2.219632148742676,1.4617928266525269,2.725180149078369,2.636244773864746,2.404900312423706,1.9482203722000122,1.5107115507125854,2.5951948165893555,1.4221221208572388,2.489170551300049,1.277949571609497,2.321493148803711,1.9364662170410156,-0.12061291933059692,-0.04608750343322754,1.956707239151001,3.9938271045684814,1.5693743228912354,4.056692123413086,2.262188673019409,0.35394081473350525,0.8010832071304321,2.4149844646453857,2.5769543647766113,2.134347438812256,0.5072137117385864,1.8790253400802612,-0.6754748225212097,-2.8684334754943848,1.9916160106658936],[-0.7007443904876709,0.09027689695358276,0.008130688220262527,0.2549690008163452,-0.010730400681495667,0.24108093976974487,-0.030857250094413757,0.401374876499176,0.11551626026630402,-0.09997718036174774,-0.2050427943468094,0.1328388750553131,-0.00511874258518219,-0.052983805537223816,-0.15849712491035461,-0.21571220457553864,0.02930508926510811,0.1658339947462082,0.09744855761528015,0.1608654260635376,-0.02372470498085022,0.10400658845901489,-0.10171784460544586,0.11292818933725357,-0.027364637702703476,0.23074474930763245,0.2618141174316406,-0.1375303566455841,-0.0789630115032196,-0.04221070930361748,-0.22210848331451416,0.0702274888753891,-0.13958856463432312,0.20458775758743286,-0.27316969633102417,0.1970251202583313,0.14872993528842926,-0.2728981673717499,-0.1486479640007019,-0.31638237833976746,-0.02793249860405922,-0.046473484486341476,-0.1001848578453064,-0.09379427134990692,-0.12736669182777405,0.08979929983615875,-0.45825791358947754,0.06962656229734421,0.19249273836612701,-0.2521572709083557,0.8536272644996643,0.42072057723999023,-0.3229723572731018]],\"type\":\"heatmap\",\"xaxis\":\"x\",\"yaxis\":\"y\",\"hovertemplate\":\"src token: %{x}<br>dest pos: %{y}<br>color: %{z}<extra></extra>\"}],                        {\"template\":{\"data\":{\"histogram2dcontour\":[{\"type\":\"histogram2dcontour\",\"colorbar\":{\"outlinewidth\":0,\"ticks\":\"\"},\"colorscale\":[[0.0,\"#0d0887\"],[0.1111111111111111,\"#46039f\"],[0.2222222222222222,\"#7201a8\"],[0.3333333333333333,\"#9c179e\"],[0.4444444444444444,\"#bd3786\"],[0.5555555555555556,\"#d8576b\"],[0.6666666666666666,\"#ed7953\"],[0.7777777777777778,\"#fb9f3a\"],[0.8888888888888888,\"#fdca26\"],[1.0,\"#f0f921\"]]}],\"choropleth\":[{\"type\":\"choropleth\",\"colorbar\":{\"outlinewidth\":0,\"ticks\":\"\"}}],\"histogram2d\":[{\"type\":\"histogram2d\",\"colorbar\":{\"outlinewidth\":0,\"ticks\":\"\"},\"colorscale\":[[0.0,\"#0d0887\"],[0.1111111111111111,\"#46039f\"],[0.2222222222222222,\"#7201a8\"],[0.3333333333333333,\"#9c179e\"],[0.4444444444444444,\"#bd3786\"],[0.5555555555555556,\"#d8576b\"],[0.6666666666666666,\"#ed7953\"],[0.7777777777777778,\"#fb9f3a\"],[0.8888888888888888,\"#fdca26\"],[1.0,\"#f0f921\"]]}],\"heatmap\":[{\"type\":\"heatmap\",\"colorbar\":{\"outlinewidth\":0,\"ticks\":\"\"},\"colorscale\":[[0.0,\"#0d0887\"],[0.1111111111111111,\"#46039f\"],[0.2222222222222222,\"#7201a8\"],[0.3333333333333333,\"#9c179e\"],[0.4444444444444444,\"#bd3786\"],[0.5555555555555556,\"#d8576b\"],[0.6666666666666666,\"#ed7953\"],[0.7777777777777778,\"#fb9f3a\"],[0.8888888888888888,\"#fdca26\"],[1.0,\"#f0f921\"]]}],\"heatmapgl\":[{\"type\":\"heatmapgl\",\"colorbar\":{\"outlinewidth\":0,\"ticks\":\"\"},\"colorscale\":[[0.0,\"#0d0887\"],[0.1111111111111111,\"#46039f\"],[0.2222222222222222,\"#7201a8\"],[0.3333333333333333,\"#9c179e\"],[0.4444444444444444,\"#bd3786\"],[0.5555555555555556,\"#d8576b\"],[0.6666666666666666,\"#ed7953\"],[0.7777777777777778,\"#fb9f3a\"],[0.8888888888888888,\"#fdca26\"],[1.0,\"#f0f921\"]]}],\"contourcarpet\":[{\"type\":\"contourcarpet\",\"colorbar\":{\"outlinewidth\":0,\"ticks\":\"\"}}],\"contour\":[{\"type\":\"contour\",\"colorbar\":{\"outlinewidth\":0,\"ticks\":\"\"},\"colorscale\":[[0.0,\"#0d0887\"],[0.1111111111111111,\"#46039f\"],[0.2222222222222222,\"#7201a8\"],[0.3333333333333333,\"#9c179e\"],[0.4444444444444444,\"#bd3786\"],[0.5555555555555556,\"#d8576b\"],[0.6666666666666666,\"#ed7953\"],[0.7777777777777778,\"#fb9f3a\"],[0.8888888888888888,\"#fdca26\"],[1.0,\"#f0f921\"]]}],\"surface\":[{\"type\":\"surface\",\"colorbar\":{\"outlinewidth\":0,\"ticks\":\"\"},\"colorscale\":[[0.0,\"#0d0887\"],[0.1111111111111111,\"#46039f\"],[0.2222222222222222,\"#7201a8\"],[0.3333333333333333,\"#9c179e\"],[0.4444444444444444,\"#bd3786\"],[0.5555555555555556,\"#d8576b\"],[0.6666666666666666,\"#ed7953\"],[0.7777777777777778,\"#fb9f3a\"],[0.8888888888888888,\"#fdca26\"],[1.0,\"#f0f921\"]]}],\"mesh3d\":[{\"type\":\"mesh3d\",\"colorbar\":{\"outlinewidth\":0,\"ticks\":\"\"}}],\"scatter\":[{\"fillpattern\":{\"fillmode\":\"overlay\",\"size\":10,\"solidity\":0.2},\"type\":\"scatter\"}],\"parcoords\":[{\"type\":\"parcoords\",\"line\":{\"colorbar\":{\"outlinewidth\":0,\"ticks\":\"\"}}}],\"scatterpolargl\":[{\"type\":\"scatterpolargl\",\"marker\":{\"colorbar\":{\"outlinewidth\":0,\"ticks\":\"\"}}}],\"bar\":[{\"error_x\":{\"color\":\"#2a3f5f\"},\"error_y\":{\"color\":\"#2a3f5f\"},\"marker\":{\"line\":{\"color\":\"#E5ECF6\",\"width\":0.5},\"pattern\":{\"fillmode\":\"overlay\",\"size\":10,\"solidity\":0.2}},\"type\":\"bar\"}],\"scattergeo\":[{\"type\":\"scattergeo\",\"marker\":{\"colorbar\":{\"outlinewidth\":0,\"ticks\":\"\"}}}],\"scatterpolar\":[{\"type\":\"scatterpolar\",\"marker\":{\"colorbar\":{\"outlinewidth\":0,\"ticks\":\"\"}}}],\"histogram\":[{\"marker\":{\"pattern\":{\"fillmode\":\"overlay\",\"size\":10,\"solidity\":0.2}},\"type\":\"histogram\"}],\"scattergl\":[{\"type\":\"scattergl\",\"marker\":{\"colorbar\":{\"outlinewidth\":0,\"ticks\":\"\"}}}],\"scatter3d\":[{\"type\":\"scatter3d\",\"line\":{\"colorbar\":{\"outlinewidth\":0,\"ticks\":\"\"}},\"marker\":{\"colorbar\":{\"outlinewidth\":0,\"ticks\":\"\"}}}],\"scattermapbox\":[{\"type\":\"scattermapbox\",\"marker\":{\"colorbar\":{\"outlinewidth\":0,\"ticks\":\"\"}}}],\"scatterternary\":[{\"type\":\"scatterternary\",\"marker\":{\"colorbar\":{\"outlinewidth\":0,\"ticks\":\"\"}}}],\"scattercarpet\":[{\"type\":\"scattercarpet\",\"marker\":{\"colorbar\":{\"outlinewidth\":0,\"ticks\":\"\"}}}],\"carpet\":[{\"aaxis\":{\"endlinecolor\":\"#2a3f5f\",\"gridcolor\":\"white\",\"linecolor\":\"white\",\"minorgridcolor\":\"white\",\"startlinecolor\":\"#2a3f5f\"},\"baxis\":{\"endlinecolor\":\"#2a3f5f\",\"gridcolor\":\"white\",\"linecolor\":\"white\",\"minorgridcolor\":\"white\",\"startlinecolor\":\"#2a3f5f\"},\"type\":\"carpet\"}],\"table\":[{\"cells\":{\"fill\":{\"color\":\"#EBF0F8\"},\"line\":{\"color\":\"white\"}},\"header\":{\"fill\":{\"color\":\"#C8D4E3\"},\"line\":{\"color\":\"white\"}},\"type\":\"table\"}],\"barpolar\":[{\"marker\":{\"line\":{\"color\":\"#E5ECF6\",\"width\":0.5},\"pattern\":{\"fillmode\":\"overlay\",\"size\":10,\"solidity\":0.2}},\"type\":\"barpolar\"}],\"pie\":[{\"automargin\":true,\"type\":\"pie\"}]},\"layout\":{\"autotypenumbers\":\"strict\",\"colorway\":[\"#636efa\",\"#EF553B\",\"#00cc96\",\"#ab63fa\",\"#FFA15A\",\"#19d3f3\",\"#FF6692\",\"#B6E880\",\"#FF97FF\",\"#FECB52\"],\"font\":{\"color\":\"#2a3f5f\"},\"hovermode\":\"closest\",\"hoverlabel\":{\"align\":\"left\"},\"paper_bgcolor\":\"white\",\"plot_bgcolor\":\"#E5ECF6\",\"polar\":{\"bgcolor\":\"#E5ECF6\",\"angularaxis\":{\"gridcolor\":\"white\",\"linecolor\":\"white\",\"ticks\":\"\"},\"radialaxis\":{\"gridcolor\":\"white\",\"linecolor\":\"white\",\"ticks\":\"\"}},\"ternary\":{\"bgcolor\":\"#E5ECF6\",\"aaxis\":{\"gridcolor\":\"white\",\"linecolor\":\"white\",\"ticks\":\"\"},\"baxis\":{\"gridcolor\":\"white\",\"linecolor\":\"white\",\"ticks\":\"\"},\"caxis\":{\"gridcolor\":\"white\",\"linecolor\":\"white\",\"ticks\":\"\"}},\"coloraxis\":{\"colorbar\":{\"outlinewidth\":0,\"ticks\":\"\"}},\"colorscale\":{\"sequential\":[[0.0,\"#0d0887\"],[0.1111111111111111,\"#46039f\"],[0.2222222222222222,\"#7201a8\"],[0.3333333333333333,\"#9c179e\"],[0.4444444444444444,\"#bd3786\"],[0.5555555555555556,\"#d8576b\"],[0.6666666666666666,\"#ed7953\"],[0.7777777777777778,\"#fb9f3a\"],[0.8888888888888888,\"#fdca26\"],[1.0,\"#f0f921\"]],\"sequentialminus\":[[0.0,\"#0d0887\"],[0.1111111111111111,\"#46039f\"],[0.2222222222222222,\"#7201a8\"],[0.3333333333333333,\"#9c179e\"],[0.4444444444444444,\"#bd3786\"],[0.5555555555555556,\"#d8576b\"],[0.6666666666666666,\"#ed7953\"],[0.7777777777777778,\"#fb9f3a\"],[0.8888888888888888,\"#fdca26\"],[1.0,\"#f0f921\"]],\"diverging\":[[0,\"#8e0152\"],[0.1,\"#c51b7d\"],[0.2,\"#de77ae\"],[0.3,\"#f1b6da\"],[0.4,\"#fde0ef\"],[0.5,\"#f7f7f7\"],[0.6,\"#e6f5d0\"],[0.7,\"#b8e186\"],[0.8,\"#7fbc41\"],[0.9,\"#4d9221\"],[1,\"#276419\"]]},\"xaxis\":{\"gridcolor\":\"white\",\"linecolor\":\"white\",\"ticks\":\"\",\"title\":{\"standoff\":15},\"zerolinecolor\":\"white\",\"automargin\":true,\"zerolinewidth\":2},\"yaxis\":{\"gridcolor\":\"white\",\"linecolor\":\"white\",\"ticks\":\"\",\"title\":{\"standoff\":15},\"zerolinecolor\":\"white\",\"automargin\":true,\"zerolinewidth\":2},\"scene\":{\"xaxis\":{\"backgroundcolor\":\"#E5ECF6\",\"gridcolor\":\"white\",\"linecolor\":\"white\",\"showbackground\":true,\"ticks\":\"\",\"zerolinecolor\":\"white\",\"gridwidth\":2},\"yaxis\":{\"backgroundcolor\":\"#E5ECF6\",\"gridcolor\":\"white\",\"linecolor\":\"white\",\"showbackground\":true,\"ticks\":\"\",\"zerolinecolor\":\"white\",\"gridwidth\":2},\"zaxis\":{\"backgroundcolor\":\"#E5ECF6\",\"gridcolor\":\"white\",\"linecolor\":\"white\",\"showbackground\":true,\"ticks\":\"\",\"zerolinecolor\":\"white\",\"gridwidth\":2}},\"shapedefaults\":{\"line\":{\"color\":\"#2a3f5f\"}},\"annotationdefaults\":{\"arrowcolor\":\"#2a3f5f\",\"arrowhead\":0,\"arrowwidth\":1},\"geo\":{\"bgcolor\":\"white\",\"landcolor\":\"#E5ECF6\",\"subunitcolor\":\"white\",\"showland\":true,\"showlakes\":true,\"lakecolor\":\"white\"},\"title\":{\"x\":0.05},\"mapbox\":{\"style\":\"light\"}}},\"xaxis\":{\"anchor\":\"y\",\"domain\":[0.0,1.0],\"scaleanchor\":\"y\",\"constrain\":\"domain\",\"title\":{\"text\":\"src token\"}},\"yaxis\":{\"anchor\":\"x\",\"domain\":[0.0,1.0],\"autorange\":\"reversed\",\"constrain\":\"domain\",\"title\":{\"text\":\"dest pos\"}},\"coloraxis\":{\"colorscale\":[[0.0,\"rgb(103,0,31)\"],[0.1,\"rgb(178,24,43)\"],[0.2,\"rgb(214,96,77)\"],[0.3,\"rgb(244,165,130)\"],[0.4,\"rgb(253,219,199)\"],[0.5,\"rgb(247,247,247)\"],[0.6,\"rgb(209,229,240)\"],[0.7,\"rgb(146,197,222)\"],[0.8,\"rgb(67,147,195)\"],[0.9,\"rgb(33,102,172)\"],[1.0,\"rgb(5,48,97)\"]],\"cmid\":0.0},\"title\":{\"text\":\"0.0 full QK circuit W_pos @ W_QK @ W_E.T\"}},                        {\"responsive\": true}                    ).then(function(){\n",
              "                            \n",
              "var gd = document.getElementById('9dba0cf4-905e-4cb9-a915-0b75df1a55f2');\n",
              "var x = new MutationObserver(function (mutations, observer) {{\n",
              "        var display = window.getComputedStyle(gd).display;\n",
              "        if (!display || display === 'none') {{\n",
              "            console.log([gd, 'removed!']);\n",
              "            Plotly.purge(gd);\n",
              "            observer.disconnect();\n",
              "        }}\n",
              "}});\n",
              "\n",
              "// Listen for the removal of the full notebook cells\n",
              "var notebookContainer = gd.closest('#notebook-container');\n",
              "if (notebookContainer) {{\n",
              "    x.observe(notebookContainer, {childList: true});\n",
              "}}\n",
              "\n",
              "// Listen for the clearing of the current output cell\n",
              "var outputEl = gd.closest('.output');\n",
              "if (outputEl) {{\n",
              "    x.observe(outputEl, {childList: true});\n",
              "}}\n",
              "\n",
              "                        })                };                            </script>        </div>\n",
              "</body>\n",
              "</html>"
            ]
          },
          "metadata": {}
        },
        {
          "output_type": "display_data",
          "data": {
            "text/html": [
              "<html>\n",
              "<head><meta charset=\"utf-8\" /></head>\n",
              "<body>\n",
              "    <div>            <script src=\"https://cdnjs.cloudflare.com/ajax/libs/mathjax/2.7.5/MathJax.js?config=TeX-AMS-MML_SVG\"></script><script type=\"text/javascript\">if (window.MathJax && window.MathJax.Hub && window.MathJax.Hub.Config) {window.MathJax.Hub.Config({SVG: {font: \"STIX-Web\"}});}</script>                <script type=\"text/javascript\">window.PlotlyConfig = {MathJaxConfig: 'local'};</script>\n",
              "        <script src=\"https://cdn.plot.ly/plotly-2.18.2.min.js\"></script>                <div id=\"86d71fa6-31c9-4d48-936c-42973bd26e96\" class=\"plotly-graph-div\" style=\"height:525px; width:100%;\"></div>            <script type=\"text/javascript\">                                    window.PLOTLYENV=window.PLOTLYENV || {};                                    if (document.getElementById(\"86d71fa6-31c9-4d48-936c-42973bd26e96\")) {                    Plotly.newPlot(                        \"86d71fa6-31c9-4d48-936c-42973bd26e96\",                        [{\"coloraxis\":\"coloraxis\",\"name\":\"0\",\"x\":[\"BOS\",\"11_1\",\"14_2\",\"17_3\",\"MID\",\"2_5\",\"1_6\",\"0_7\",\"END\",\"17_9\",\"14_10\",\"11_11\"],\"y\":[\"BOS\",\"11_1\",\"14_2\",\"17_3\",\"MID\",\"2_5\",\"1_6\",\"0_7\",\"END\",\"17_9\",\"14_10\",\"11_11\"],\"z\":[[0.9707544445991516,0.0,0.0,0.0,0.0,0.0,0.0,0.0,0.0,0.0,0.0,0.0],[-4.133664608001709,-0.439064085483551,0.0,0.0,0.0,0.0,0.0,0.0,0.0,0.0,0.0,0.0],[-2.9040753841400146,-3.4128737449645996,8.721364974975586,0.0,0.0,0.0,0.0,0.0,0.0,0.0,0.0,0.0],[2.5427627563476562,-1.8418574333190918,-7.3785929679870605,10.33961009979248,0.0,0.0,0.0,0.0,0.0,0.0,0.0,0.0],[0.9750692844390869,0.1204007938504219,-1.3164161443710327,-4.171986103057861,-1.7030673027038574,0.0,0.0,0.0,0.0,0.0,0.0,0.0],[1.5782907009124756,-1.5417073965072632,-2.0434579849243164,-7.947792053222656,-4.740569114685059,-4.742351055145264,0.0,0.0,0.0,0.0,0.0,0.0],[-1.9254416227340698,5.959559440612793,5.508729457855225,0.047395288944244385,-2.9868180751800537,-12.730243682861328,-14.292924880981445,0.0,0.0,0.0,0.0,0.0],[-2.973050117492676,3.916510820388794,5.283045768737793,2.948227882385254,2.6172237396240234,-0.9007600545883179,-5.061709403991699,-3.381351947784424,0.0,0.0,0.0,0.0],[0.9731266498565674,-4.933253765106201,1.3656598329544067,-5.700991153717041,-4.261161804199219,-9.906319618225098,6.49167537689209,1.554404616355896,-6.5430755615234375,0.0,0.0,0.0],[1.5715465545654297,12.555828094482422,-5.084223747253418,-21.461355209350586,-2.986499309539795,13.498736381530762,-6.262502193450928,22.059246063232422,-1.4873449802398682,-5.051590442657471,0.0,0.0],[2.992018461227417,-7.833686828613281,-8.349641799926758,-12.225107192993164,0.8109787702560425,24.673250198364258,26.59830665588379,-18.254549026489258,0.9253102540969849,20.408010482788086,15.23547077178955,0.0],[-0.17865267395973206,1.6183373928070068,-1.0922646522521973,0.7396252155303955,0.49491652846336365,0.8097752332687378,-0.18438313901424408,0.21610550582408905,0.7576272487640381,-1.0797432661056519,-0.8046587705612183,-0.04385178163647652]],\"type\":\"heatmap\",\"xaxis\":\"x\",\"yaxis\":\"y\",\"hovertemplate\":\"src pos: %{x}<br>dest pos: %{y}<br>color: %{z}<extra></extra>\"}],                        {\"template\":{\"data\":{\"histogram2dcontour\":[{\"type\":\"histogram2dcontour\",\"colorbar\":{\"outlinewidth\":0,\"ticks\":\"\"},\"colorscale\":[[0.0,\"#0d0887\"],[0.1111111111111111,\"#46039f\"],[0.2222222222222222,\"#7201a8\"],[0.3333333333333333,\"#9c179e\"],[0.4444444444444444,\"#bd3786\"],[0.5555555555555556,\"#d8576b\"],[0.6666666666666666,\"#ed7953\"],[0.7777777777777778,\"#fb9f3a\"],[0.8888888888888888,\"#fdca26\"],[1.0,\"#f0f921\"]]}],\"choropleth\":[{\"type\":\"choropleth\",\"colorbar\":{\"outlinewidth\":0,\"ticks\":\"\"}}],\"histogram2d\":[{\"type\":\"histogram2d\",\"colorbar\":{\"outlinewidth\":0,\"ticks\":\"\"},\"colorscale\":[[0.0,\"#0d0887\"],[0.1111111111111111,\"#46039f\"],[0.2222222222222222,\"#7201a8\"],[0.3333333333333333,\"#9c179e\"],[0.4444444444444444,\"#bd3786\"],[0.5555555555555556,\"#d8576b\"],[0.6666666666666666,\"#ed7953\"],[0.7777777777777778,\"#fb9f3a\"],[0.8888888888888888,\"#fdca26\"],[1.0,\"#f0f921\"]]}],\"heatmap\":[{\"type\":\"heatmap\",\"colorbar\":{\"outlinewidth\":0,\"ticks\":\"\"},\"colorscale\":[[0.0,\"#0d0887\"],[0.1111111111111111,\"#46039f\"],[0.2222222222222222,\"#7201a8\"],[0.3333333333333333,\"#9c179e\"],[0.4444444444444444,\"#bd3786\"],[0.5555555555555556,\"#d8576b\"],[0.6666666666666666,\"#ed7953\"],[0.7777777777777778,\"#fb9f3a\"],[0.8888888888888888,\"#fdca26\"],[1.0,\"#f0f921\"]]}],\"heatmapgl\":[{\"type\":\"heatmapgl\",\"colorbar\":{\"outlinewidth\":0,\"ticks\":\"\"},\"colorscale\":[[0.0,\"#0d0887\"],[0.1111111111111111,\"#46039f\"],[0.2222222222222222,\"#7201a8\"],[0.3333333333333333,\"#9c179e\"],[0.4444444444444444,\"#bd3786\"],[0.5555555555555556,\"#d8576b\"],[0.6666666666666666,\"#ed7953\"],[0.7777777777777778,\"#fb9f3a\"],[0.8888888888888888,\"#fdca26\"],[1.0,\"#f0f921\"]]}],\"contourcarpet\":[{\"type\":\"contourcarpet\",\"colorbar\":{\"outlinewidth\":0,\"ticks\":\"\"}}],\"contour\":[{\"type\":\"contour\",\"colorbar\":{\"outlinewidth\":0,\"ticks\":\"\"},\"colorscale\":[[0.0,\"#0d0887\"],[0.1111111111111111,\"#46039f\"],[0.2222222222222222,\"#7201a8\"],[0.3333333333333333,\"#9c179e\"],[0.4444444444444444,\"#bd3786\"],[0.5555555555555556,\"#d8576b\"],[0.6666666666666666,\"#ed7953\"],[0.7777777777777778,\"#fb9f3a\"],[0.8888888888888888,\"#fdca26\"],[1.0,\"#f0f921\"]]}],\"surface\":[{\"type\":\"surface\",\"colorbar\":{\"outlinewidth\":0,\"ticks\":\"\"},\"colorscale\":[[0.0,\"#0d0887\"],[0.1111111111111111,\"#46039f\"],[0.2222222222222222,\"#7201a8\"],[0.3333333333333333,\"#9c179e\"],[0.4444444444444444,\"#bd3786\"],[0.5555555555555556,\"#d8576b\"],[0.6666666666666666,\"#ed7953\"],[0.7777777777777778,\"#fb9f3a\"],[0.8888888888888888,\"#fdca26\"],[1.0,\"#f0f921\"]]}],\"mesh3d\":[{\"type\":\"mesh3d\",\"colorbar\":{\"outlinewidth\":0,\"ticks\":\"\"}}],\"scatter\":[{\"fillpattern\":{\"fillmode\":\"overlay\",\"size\":10,\"solidity\":0.2},\"type\":\"scatter\"}],\"parcoords\":[{\"type\":\"parcoords\",\"line\":{\"colorbar\":{\"outlinewidth\":0,\"ticks\":\"\"}}}],\"scatterpolargl\":[{\"type\":\"scatterpolargl\",\"marker\":{\"colorbar\":{\"outlinewidth\":0,\"ticks\":\"\"}}}],\"bar\":[{\"error_x\":{\"color\":\"#2a3f5f\"},\"error_y\":{\"color\":\"#2a3f5f\"},\"marker\":{\"line\":{\"color\":\"#E5ECF6\",\"width\":0.5},\"pattern\":{\"fillmode\":\"overlay\",\"size\":10,\"solidity\":0.2}},\"type\":\"bar\"}],\"scattergeo\":[{\"type\":\"scattergeo\",\"marker\":{\"colorbar\":{\"outlinewidth\":0,\"ticks\":\"\"}}}],\"scatterpolar\":[{\"type\":\"scatterpolar\",\"marker\":{\"colorbar\":{\"outlinewidth\":0,\"ticks\":\"\"}}}],\"histogram\":[{\"marker\":{\"pattern\":{\"fillmode\":\"overlay\",\"size\":10,\"solidity\":0.2}},\"type\":\"histogram\"}],\"scattergl\":[{\"type\":\"scattergl\",\"marker\":{\"colorbar\":{\"outlinewidth\":0,\"ticks\":\"\"}}}],\"scatter3d\":[{\"type\":\"scatter3d\",\"line\":{\"colorbar\":{\"outlinewidth\":0,\"ticks\":\"\"}},\"marker\":{\"colorbar\":{\"outlinewidth\":0,\"ticks\":\"\"}}}],\"scattermapbox\":[{\"type\":\"scattermapbox\",\"marker\":{\"colorbar\":{\"outlinewidth\":0,\"ticks\":\"\"}}}],\"scatterternary\":[{\"type\":\"scatterternary\",\"marker\":{\"colorbar\":{\"outlinewidth\":0,\"ticks\":\"\"}}}],\"scattercarpet\":[{\"type\":\"scattercarpet\",\"marker\":{\"colorbar\":{\"outlinewidth\":0,\"ticks\":\"\"}}}],\"carpet\":[{\"aaxis\":{\"endlinecolor\":\"#2a3f5f\",\"gridcolor\":\"white\",\"linecolor\":\"white\",\"minorgridcolor\":\"white\",\"startlinecolor\":\"#2a3f5f\"},\"baxis\":{\"endlinecolor\":\"#2a3f5f\",\"gridcolor\":\"white\",\"linecolor\":\"white\",\"minorgridcolor\":\"white\",\"startlinecolor\":\"#2a3f5f\"},\"type\":\"carpet\"}],\"table\":[{\"cells\":{\"fill\":{\"color\":\"#EBF0F8\"},\"line\":{\"color\":\"white\"}},\"header\":{\"fill\":{\"color\":\"#C8D4E3\"},\"line\":{\"color\":\"white\"}},\"type\":\"table\"}],\"barpolar\":[{\"marker\":{\"line\":{\"color\":\"#E5ECF6\",\"width\":0.5},\"pattern\":{\"fillmode\":\"overlay\",\"size\":10,\"solidity\":0.2}},\"type\":\"barpolar\"}],\"pie\":[{\"automargin\":true,\"type\":\"pie\"}]},\"layout\":{\"autotypenumbers\":\"strict\",\"colorway\":[\"#636efa\",\"#EF553B\",\"#00cc96\",\"#ab63fa\",\"#FFA15A\",\"#19d3f3\",\"#FF6692\",\"#B6E880\",\"#FF97FF\",\"#FECB52\"],\"font\":{\"color\":\"#2a3f5f\"},\"hovermode\":\"closest\",\"hoverlabel\":{\"align\":\"left\"},\"paper_bgcolor\":\"white\",\"plot_bgcolor\":\"#E5ECF6\",\"polar\":{\"bgcolor\":\"#E5ECF6\",\"angularaxis\":{\"gridcolor\":\"white\",\"linecolor\":\"white\",\"ticks\":\"\"},\"radialaxis\":{\"gridcolor\":\"white\",\"linecolor\":\"white\",\"ticks\":\"\"}},\"ternary\":{\"bgcolor\":\"#E5ECF6\",\"aaxis\":{\"gridcolor\":\"white\",\"linecolor\":\"white\",\"ticks\":\"\"},\"baxis\":{\"gridcolor\":\"white\",\"linecolor\":\"white\",\"ticks\":\"\"},\"caxis\":{\"gridcolor\":\"white\",\"linecolor\":\"white\",\"ticks\":\"\"}},\"coloraxis\":{\"colorbar\":{\"outlinewidth\":0,\"ticks\":\"\"}},\"colorscale\":{\"sequential\":[[0.0,\"#0d0887\"],[0.1111111111111111,\"#46039f\"],[0.2222222222222222,\"#7201a8\"],[0.3333333333333333,\"#9c179e\"],[0.4444444444444444,\"#bd3786\"],[0.5555555555555556,\"#d8576b\"],[0.6666666666666666,\"#ed7953\"],[0.7777777777777778,\"#fb9f3a\"],[0.8888888888888888,\"#fdca26\"],[1.0,\"#f0f921\"]],\"sequentialminus\":[[0.0,\"#0d0887\"],[0.1111111111111111,\"#46039f\"],[0.2222222222222222,\"#7201a8\"],[0.3333333333333333,\"#9c179e\"],[0.4444444444444444,\"#bd3786\"],[0.5555555555555556,\"#d8576b\"],[0.6666666666666666,\"#ed7953\"],[0.7777777777777778,\"#fb9f3a\"],[0.8888888888888888,\"#fdca26\"],[1.0,\"#f0f921\"]],\"diverging\":[[0,\"#8e0152\"],[0.1,\"#c51b7d\"],[0.2,\"#de77ae\"],[0.3,\"#f1b6da\"],[0.4,\"#fde0ef\"],[0.5,\"#f7f7f7\"],[0.6,\"#e6f5d0\"],[0.7,\"#b8e186\"],[0.8,\"#7fbc41\"],[0.9,\"#4d9221\"],[1,\"#276419\"]]},\"xaxis\":{\"gridcolor\":\"white\",\"linecolor\":\"white\",\"ticks\":\"\",\"title\":{\"standoff\":15},\"zerolinecolor\":\"white\",\"automargin\":true,\"zerolinewidth\":2},\"yaxis\":{\"gridcolor\":\"white\",\"linecolor\":\"white\",\"ticks\":\"\",\"title\":{\"standoff\":15},\"zerolinecolor\":\"white\",\"automargin\":true,\"zerolinewidth\":2},\"scene\":{\"xaxis\":{\"backgroundcolor\":\"#E5ECF6\",\"gridcolor\":\"white\",\"linecolor\":\"white\",\"showbackground\":true,\"ticks\":\"\",\"zerolinecolor\":\"white\",\"gridwidth\":2},\"yaxis\":{\"backgroundcolor\":\"#E5ECF6\",\"gridcolor\":\"white\",\"linecolor\":\"white\",\"showbackground\":true,\"ticks\":\"\",\"zerolinecolor\":\"white\",\"gridwidth\":2},\"zaxis\":{\"backgroundcolor\":\"#E5ECF6\",\"gridcolor\":\"white\",\"linecolor\":\"white\",\"showbackground\":true,\"ticks\":\"\",\"zerolinecolor\":\"white\",\"gridwidth\":2}},\"shapedefaults\":{\"line\":{\"color\":\"#2a3f5f\"}},\"annotationdefaults\":{\"arrowcolor\":\"#2a3f5f\",\"arrowhead\":0,\"arrowwidth\":1},\"geo\":{\"bgcolor\":\"white\",\"landcolor\":\"#E5ECF6\",\"subunitcolor\":\"white\",\"showland\":true,\"showlakes\":true,\"lakecolor\":\"white\"},\"title\":{\"x\":0.05},\"mapbox\":{\"style\":\"light\"}}},\"xaxis\":{\"anchor\":\"y\",\"domain\":[0.0,1.0],\"scaleanchor\":\"y\",\"constrain\":\"domain\",\"title\":{\"text\":\"src pos\"}},\"yaxis\":{\"anchor\":\"x\",\"domain\":[0.0,1.0],\"autorange\":\"reversed\",\"constrain\":\"domain\",\"title\":{\"text\":\"dest pos\"}},\"coloraxis\":{\"colorscale\":[[0.0,\"rgb(103,0,31)\"],[0.1,\"rgb(178,24,43)\"],[0.2,\"rgb(214,96,77)\"],[0.3,\"rgb(244,165,130)\"],[0.4,\"rgb(253,219,199)\"],[0.5,\"rgb(247,247,247)\"],[0.6,\"rgb(209,229,240)\"],[0.7,\"rgb(146,197,222)\"],[0.8,\"rgb(67,147,195)\"],[0.9,\"rgb(33,102,172)\"],[1.0,\"rgb(5,48,97)\"]],\"cmid\":0.0},\"title\":{\"text\":\"0.0 full QK circuit W_pos @ W_QK @ W_pos.T\"}},                        {\"responsive\": true}                    ).then(function(){\n",
              "                            \n",
              "var gd = document.getElementById('86d71fa6-31c9-4d48-936c-42973bd26e96');\n",
              "var x = new MutationObserver(function (mutations, observer) {{\n",
              "        var display = window.getComputedStyle(gd).display;\n",
              "        if (!display || display === 'none') {{\n",
              "            console.log([gd, 'removed!']);\n",
              "            Plotly.purge(gd);\n",
              "            observer.disconnect();\n",
              "        }}\n",
              "}});\n",
              "\n",
              "// Listen for the removal of the full notebook cells\n",
              "var notebookContainer = gd.closest('#notebook-container');\n",
              "if (notebookContainer) {{\n",
              "    x.observe(notebookContainer, {childList: true});\n",
              "}}\n",
              "\n",
              "// Listen for the clearing of the current output cell\n",
              "var outputEl = gd.closest('.output');\n",
              "if (outputEl) {{\n",
              "    x.observe(outputEl, {childList: true});\n",
              "}}\n",
              "\n",
              "                        })                };                            </script>        </div>\n",
              "</body>\n",
              "</html>"
            ]
          },
          "metadata": {}
        }
      ]
    },
    {
      "cell_type": "markdown",
      "source": [
        "While there's not as much clear structure here, the rows corresponding to the perm tokens in $W_EW_{QK}W_E^T$ stand out. This weakly suggests that this head is specialized to move information to these positions.\n",
        "\n",
        "\n",
        "One way to sanity check this is to decompose query / key vectors into their components, $q = x_0W_Q = (e+p)W_Q = eW_Q + pW_Q$ (same idea for $k$), and checking the norms. We expect to see that the query vectors are dominated by the perm token embeddings, and the keys are dominated by the positional embeddings for the list:"
      ],
      "metadata": {
        "id": "-JdpRxz0OTdg"
      }
    },
    {
      "cell_type": "code",
      "source": [
        "imshow(\n",
        "    torch.stack(\n",
        "        [(cache['embed'] @ model.W_Q[0, 0]).norm(dim=-1).mean(dim=0),\n",
        "        (cache['pos_embed'] @ model.W_Q[0, 0]).norm(dim=-1).mean(dim=0)]\n",
        "    ),\n",
        "    title=\"Query component norms\",\n",
        "    xaxis=\"pos\", yaxis=\"component\",\n",
        "    y=[\"Embed\", \"Pos embed\"], x=labels\n",
        ")\n",
        "\n",
        "imshow(\n",
        "    torch.stack(\n",
        "        [(cache['embed'] @ model.W_K[0, 0]).norm(dim=-1).mean(dim=0),\n",
        "        (cache['pos_embed'] @ model.W_K[0, 0]).norm(dim=-1).mean(dim=0)]\n",
        "    ),\n",
        "    title=\"Key component norms\",\n",
        "    xaxis=\"pos\", yaxis=\"component\",\n",
        "    y=[\"Embed\", \"Pos embed\"], x=labels\n",
        ")"
      ],
      "metadata": {
        "colab": {
          "base_uri": "https://localhost:8080/",
          "height": 1000
        },
        "id": "lBLo-UHUb_gy",
        "outputId": "49614bab-500f-475d-d7c8-a8f4a46b394d"
      },
      "execution_count": 104,
      "outputs": [
        {
          "output_type": "display_data",
          "data": {
            "text/html": [
              "<html>\n",
              "<head><meta charset=\"utf-8\" /></head>\n",
              "<body>\n",
              "    <div>            <script src=\"https://cdnjs.cloudflare.com/ajax/libs/mathjax/2.7.5/MathJax.js?config=TeX-AMS-MML_SVG\"></script><script type=\"text/javascript\">if (window.MathJax && window.MathJax.Hub && window.MathJax.Hub.Config) {window.MathJax.Hub.Config({SVG: {font: \"STIX-Web\"}});}</script>                <script type=\"text/javascript\">window.PlotlyConfig = {MathJaxConfig: 'local'};</script>\n",
              "        <script src=\"https://cdn.plot.ly/plotly-2.18.2.min.js\"></script>                <div id=\"3e32354e-2f4e-412a-bece-fd8d48c5cf39\" class=\"plotly-graph-div\" style=\"height:525px; width:100%;\"></div>            <script type=\"text/javascript\">                                    window.PLOTLYENV=window.PLOTLYENV || {};                                    if (document.getElementById(\"3e32354e-2f4e-412a-bece-fd8d48c5cf39\")) {                    Plotly.newPlot(                        \"3e32354e-2f4e-412a-bece-fd8d48c5cf39\",                        [{\"coloraxis\":\"coloraxis\",\"name\":\"0\",\"x\":[\"BOS\",\"11_1\",\"14_2\",\"17_3\",\"MID\",\"2_5\",\"1_6\",\"0_7\",\"END\",\"17_9\",\"14_10\",\"11_11\"],\"y\":[\"Embed\",\"Pos embed\"],\"z\":[[1.5145899057388306,1.4014627933502197,1.5241552591323853,1.4627740383148193,1.1881608963012695,4.579355716705322,4.473820209503174,4.50526762008667,3.444622755050659,1.4752583503723145,1.4256434440612793,1.487490177154541],[1.0983878374099731,3.6843607425689697,2.825780153274536,3.389832019805908,1.3564636707305908,3.4840638637542725,3.7091689109802246,2.768550395965576,3.7990314960479736,6.007266521453857,5.10758113861084,0.8777462244033813]],\"type\":\"heatmap\",\"xaxis\":\"x\",\"yaxis\":\"y\",\"hovertemplate\":\"pos: %{x}<br>component: %{y}<br>color: %{z}<extra></extra>\"}],                        {\"template\":{\"data\":{\"histogram2dcontour\":[{\"type\":\"histogram2dcontour\",\"colorbar\":{\"outlinewidth\":0,\"ticks\":\"\"},\"colorscale\":[[0.0,\"#0d0887\"],[0.1111111111111111,\"#46039f\"],[0.2222222222222222,\"#7201a8\"],[0.3333333333333333,\"#9c179e\"],[0.4444444444444444,\"#bd3786\"],[0.5555555555555556,\"#d8576b\"],[0.6666666666666666,\"#ed7953\"],[0.7777777777777778,\"#fb9f3a\"],[0.8888888888888888,\"#fdca26\"],[1.0,\"#f0f921\"]]}],\"choropleth\":[{\"type\":\"choropleth\",\"colorbar\":{\"outlinewidth\":0,\"ticks\":\"\"}}],\"histogram2d\":[{\"type\":\"histogram2d\",\"colorbar\":{\"outlinewidth\":0,\"ticks\":\"\"},\"colorscale\":[[0.0,\"#0d0887\"],[0.1111111111111111,\"#46039f\"],[0.2222222222222222,\"#7201a8\"],[0.3333333333333333,\"#9c179e\"],[0.4444444444444444,\"#bd3786\"],[0.5555555555555556,\"#d8576b\"],[0.6666666666666666,\"#ed7953\"],[0.7777777777777778,\"#fb9f3a\"],[0.8888888888888888,\"#fdca26\"],[1.0,\"#f0f921\"]]}],\"heatmap\":[{\"type\":\"heatmap\",\"colorbar\":{\"outlinewidth\":0,\"ticks\":\"\"},\"colorscale\":[[0.0,\"#0d0887\"],[0.1111111111111111,\"#46039f\"],[0.2222222222222222,\"#7201a8\"],[0.3333333333333333,\"#9c179e\"],[0.4444444444444444,\"#bd3786\"],[0.5555555555555556,\"#d8576b\"],[0.6666666666666666,\"#ed7953\"],[0.7777777777777778,\"#fb9f3a\"],[0.8888888888888888,\"#fdca26\"],[1.0,\"#f0f921\"]]}],\"heatmapgl\":[{\"type\":\"heatmapgl\",\"colorbar\":{\"outlinewidth\":0,\"ticks\":\"\"},\"colorscale\":[[0.0,\"#0d0887\"],[0.1111111111111111,\"#46039f\"],[0.2222222222222222,\"#7201a8\"],[0.3333333333333333,\"#9c179e\"],[0.4444444444444444,\"#bd3786\"],[0.5555555555555556,\"#d8576b\"],[0.6666666666666666,\"#ed7953\"],[0.7777777777777778,\"#fb9f3a\"],[0.8888888888888888,\"#fdca26\"],[1.0,\"#f0f921\"]]}],\"contourcarpet\":[{\"type\":\"contourcarpet\",\"colorbar\":{\"outlinewidth\":0,\"ticks\":\"\"}}],\"contour\":[{\"type\":\"contour\",\"colorbar\":{\"outlinewidth\":0,\"ticks\":\"\"},\"colorscale\":[[0.0,\"#0d0887\"],[0.1111111111111111,\"#46039f\"],[0.2222222222222222,\"#7201a8\"],[0.3333333333333333,\"#9c179e\"],[0.4444444444444444,\"#bd3786\"],[0.5555555555555556,\"#d8576b\"],[0.6666666666666666,\"#ed7953\"],[0.7777777777777778,\"#fb9f3a\"],[0.8888888888888888,\"#fdca26\"],[1.0,\"#f0f921\"]]}],\"surface\":[{\"type\":\"surface\",\"colorbar\":{\"outlinewidth\":0,\"ticks\":\"\"},\"colorscale\":[[0.0,\"#0d0887\"],[0.1111111111111111,\"#46039f\"],[0.2222222222222222,\"#7201a8\"],[0.3333333333333333,\"#9c179e\"],[0.4444444444444444,\"#bd3786\"],[0.5555555555555556,\"#d8576b\"],[0.6666666666666666,\"#ed7953\"],[0.7777777777777778,\"#fb9f3a\"],[0.8888888888888888,\"#fdca26\"],[1.0,\"#f0f921\"]]}],\"mesh3d\":[{\"type\":\"mesh3d\",\"colorbar\":{\"outlinewidth\":0,\"ticks\":\"\"}}],\"scatter\":[{\"fillpattern\":{\"fillmode\":\"overlay\",\"size\":10,\"solidity\":0.2},\"type\":\"scatter\"}],\"parcoords\":[{\"type\":\"parcoords\",\"line\":{\"colorbar\":{\"outlinewidth\":0,\"ticks\":\"\"}}}],\"scatterpolargl\":[{\"type\":\"scatterpolargl\",\"marker\":{\"colorbar\":{\"outlinewidth\":0,\"ticks\":\"\"}}}],\"bar\":[{\"error_x\":{\"color\":\"#2a3f5f\"},\"error_y\":{\"color\":\"#2a3f5f\"},\"marker\":{\"line\":{\"color\":\"#E5ECF6\",\"width\":0.5},\"pattern\":{\"fillmode\":\"overlay\",\"size\":10,\"solidity\":0.2}},\"type\":\"bar\"}],\"scattergeo\":[{\"type\":\"scattergeo\",\"marker\":{\"colorbar\":{\"outlinewidth\":0,\"ticks\":\"\"}}}],\"scatterpolar\":[{\"type\":\"scatterpolar\",\"marker\":{\"colorbar\":{\"outlinewidth\":0,\"ticks\":\"\"}}}],\"histogram\":[{\"marker\":{\"pattern\":{\"fillmode\":\"overlay\",\"size\":10,\"solidity\":0.2}},\"type\":\"histogram\"}],\"scattergl\":[{\"type\":\"scattergl\",\"marker\":{\"colorbar\":{\"outlinewidth\":0,\"ticks\":\"\"}}}],\"scatter3d\":[{\"type\":\"scatter3d\",\"line\":{\"colorbar\":{\"outlinewidth\":0,\"ticks\":\"\"}},\"marker\":{\"colorbar\":{\"outlinewidth\":0,\"ticks\":\"\"}}}],\"scattermapbox\":[{\"type\":\"scattermapbox\",\"marker\":{\"colorbar\":{\"outlinewidth\":0,\"ticks\":\"\"}}}],\"scatterternary\":[{\"type\":\"scatterternary\",\"marker\":{\"colorbar\":{\"outlinewidth\":0,\"ticks\":\"\"}}}],\"scattercarpet\":[{\"type\":\"scattercarpet\",\"marker\":{\"colorbar\":{\"outlinewidth\":0,\"ticks\":\"\"}}}],\"carpet\":[{\"aaxis\":{\"endlinecolor\":\"#2a3f5f\",\"gridcolor\":\"white\",\"linecolor\":\"white\",\"minorgridcolor\":\"white\",\"startlinecolor\":\"#2a3f5f\"},\"baxis\":{\"endlinecolor\":\"#2a3f5f\",\"gridcolor\":\"white\",\"linecolor\":\"white\",\"minorgridcolor\":\"white\",\"startlinecolor\":\"#2a3f5f\"},\"type\":\"carpet\"}],\"table\":[{\"cells\":{\"fill\":{\"color\":\"#EBF0F8\"},\"line\":{\"color\":\"white\"}},\"header\":{\"fill\":{\"color\":\"#C8D4E3\"},\"line\":{\"color\":\"white\"}},\"type\":\"table\"}],\"barpolar\":[{\"marker\":{\"line\":{\"color\":\"#E5ECF6\",\"width\":0.5},\"pattern\":{\"fillmode\":\"overlay\",\"size\":10,\"solidity\":0.2}},\"type\":\"barpolar\"}],\"pie\":[{\"automargin\":true,\"type\":\"pie\"}]},\"layout\":{\"autotypenumbers\":\"strict\",\"colorway\":[\"#636efa\",\"#EF553B\",\"#00cc96\",\"#ab63fa\",\"#FFA15A\",\"#19d3f3\",\"#FF6692\",\"#B6E880\",\"#FF97FF\",\"#FECB52\"],\"font\":{\"color\":\"#2a3f5f\"},\"hovermode\":\"closest\",\"hoverlabel\":{\"align\":\"left\"},\"paper_bgcolor\":\"white\",\"plot_bgcolor\":\"#E5ECF6\",\"polar\":{\"bgcolor\":\"#E5ECF6\",\"angularaxis\":{\"gridcolor\":\"white\",\"linecolor\":\"white\",\"ticks\":\"\"},\"radialaxis\":{\"gridcolor\":\"white\",\"linecolor\":\"white\",\"ticks\":\"\"}},\"ternary\":{\"bgcolor\":\"#E5ECF6\",\"aaxis\":{\"gridcolor\":\"white\",\"linecolor\":\"white\",\"ticks\":\"\"},\"baxis\":{\"gridcolor\":\"white\",\"linecolor\":\"white\",\"ticks\":\"\"},\"caxis\":{\"gridcolor\":\"white\",\"linecolor\":\"white\",\"ticks\":\"\"}},\"coloraxis\":{\"colorbar\":{\"outlinewidth\":0,\"ticks\":\"\"}},\"colorscale\":{\"sequential\":[[0.0,\"#0d0887\"],[0.1111111111111111,\"#46039f\"],[0.2222222222222222,\"#7201a8\"],[0.3333333333333333,\"#9c179e\"],[0.4444444444444444,\"#bd3786\"],[0.5555555555555556,\"#d8576b\"],[0.6666666666666666,\"#ed7953\"],[0.7777777777777778,\"#fb9f3a\"],[0.8888888888888888,\"#fdca26\"],[1.0,\"#f0f921\"]],\"sequentialminus\":[[0.0,\"#0d0887\"],[0.1111111111111111,\"#46039f\"],[0.2222222222222222,\"#7201a8\"],[0.3333333333333333,\"#9c179e\"],[0.4444444444444444,\"#bd3786\"],[0.5555555555555556,\"#d8576b\"],[0.6666666666666666,\"#ed7953\"],[0.7777777777777778,\"#fb9f3a\"],[0.8888888888888888,\"#fdca26\"],[1.0,\"#f0f921\"]],\"diverging\":[[0,\"#8e0152\"],[0.1,\"#c51b7d\"],[0.2,\"#de77ae\"],[0.3,\"#f1b6da\"],[0.4,\"#fde0ef\"],[0.5,\"#f7f7f7\"],[0.6,\"#e6f5d0\"],[0.7,\"#b8e186\"],[0.8,\"#7fbc41\"],[0.9,\"#4d9221\"],[1,\"#276419\"]]},\"xaxis\":{\"gridcolor\":\"white\",\"linecolor\":\"white\",\"ticks\":\"\",\"title\":{\"standoff\":15},\"zerolinecolor\":\"white\",\"automargin\":true,\"zerolinewidth\":2},\"yaxis\":{\"gridcolor\":\"white\",\"linecolor\":\"white\",\"ticks\":\"\",\"title\":{\"standoff\":15},\"zerolinecolor\":\"white\",\"automargin\":true,\"zerolinewidth\":2},\"scene\":{\"xaxis\":{\"backgroundcolor\":\"#E5ECF6\",\"gridcolor\":\"white\",\"linecolor\":\"white\",\"showbackground\":true,\"ticks\":\"\",\"zerolinecolor\":\"white\",\"gridwidth\":2},\"yaxis\":{\"backgroundcolor\":\"#E5ECF6\",\"gridcolor\":\"white\",\"linecolor\":\"white\",\"showbackground\":true,\"ticks\":\"\",\"zerolinecolor\":\"white\",\"gridwidth\":2},\"zaxis\":{\"backgroundcolor\":\"#E5ECF6\",\"gridcolor\":\"white\",\"linecolor\":\"white\",\"showbackground\":true,\"ticks\":\"\",\"zerolinecolor\":\"white\",\"gridwidth\":2}},\"shapedefaults\":{\"line\":{\"color\":\"#2a3f5f\"}},\"annotationdefaults\":{\"arrowcolor\":\"#2a3f5f\",\"arrowhead\":0,\"arrowwidth\":1},\"geo\":{\"bgcolor\":\"white\",\"landcolor\":\"#E5ECF6\",\"subunitcolor\":\"white\",\"showland\":true,\"showlakes\":true,\"lakecolor\":\"white\"},\"title\":{\"x\":0.05},\"mapbox\":{\"style\":\"light\"}}},\"xaxis\":{\"anchor\":\"y\",\"domain\":[0.0,1.0],\"scaleanchor\":\"y\",\"constrain\":\"domain\",\"title\":{\"text\":\"pos\"}},\"yaxis\":{\"anchor\":\"x\",\"domain\":[0.0,1.0],\"autorange\":\"reversed\",\"constrain\":\"domain\",\"title\":{\"text\":\"component\"}},\"coloraxis\":{\"colorscale\":[[0.0,\"rgb(103,0,31)\"],[0.1,\"rgb(178,24,43)\"],[0.2,\"rgb(214,96,77)\"],[0.3,\"rgb(244,165,130)\"],[0.4,\"rgb(253,219,199)\"],[0.5,\"rgb(247,247,247)\"],[0.6,\"rgb(209,229,240)\"],[0.7,\"rgb(146,197,222)\"],[0.8,\"rgb(67,147,195)\"],[0.9,\"rgb(33,102,172)\"],[1.0,\"rgb(5,48,97)\"]],\"cmid\":0.0},\"title\":{\"text\":\"Query component norms\"}},                        {\"responsive\": true}                    ).then(function(){\n",
              "                            \n",
              "var gd = document.getElementById('3e32354e-2f4e-412a-bece-fd8d48c5cf39');\n",
              "var x = new MutationObserver(function (mutations, observer) {{\n",
              "        var display = window.getComputedStyle(gd).display;\n",
              "        if (!display || display === 'none') {{\n",
              "            console.log([gd, 'removed!']);\n",
              "            Plotly.purge(gd);\n",
              "            observer.disconnect();\n",
              "        }}\n",
              "}});\n",
              "\n",
              "// Listen for the removal of the full notebook cells\n",
              "var notebookContainer = gd.closest('#notebook-container');\n",
              "if (notebookContainer) {{\n",
              "    x.observe(notebookContainer, {childList: true});\n",
              "}}\n",
              "\n",
              "// Listen for the clearing of the current output cell\n",
              "var outputEl = gd.closest('.output');\n",
              "if (outputEl) {{\n",
              "    x.observe(outputEl, {childList: true});\n",
              "}}\n",
              "\n",
              "                        })                };                            </script>        </div>\n",
              "</body>\n",
              "</html>"
            ]
          },
          "metadata": {}
        },
        {
          "output_type": "display_data",
          "data": {
            "text/html": [
              "<html>\n",
              "<head><meta charset=\"utf-8\" /></head>\n",
              "<body>\n",
              "    <div>            <script src=\"https://cdnjs.cloudflare.com/ajax/libs/mathjax/2.7.5/MathJax.js?config=TeX-AMS-MML_SVG\"></script><script type=\"text/javascript\">if (window.MathJax && window.MathJax.Hub && window.MathJax.Hub.Config) {window.MathJax.Hub.Config({SVG: {font: \"STIX-Web\"}});}</script>                <script type=\"text/javascript\">window.PlotlyConfig = {MathJaxConfig: 'local'};</script>\n",
              "        <script src=\"https://cdn.plot.ly/plotly-2.18.2.min.js\"></script>                <div id=\"b4d80aaf-a0a1-4251-83c4-e6bb936b0209\" class=\"plotly-graph-div\" style=\"height:525px; width:100%;\"></div>            <script type=\"text/javascript\">                                    window.PLOTLYENV=window.PLOTLYENV || {};                                    if (document.getElementById(\"b4d80aaf-a0a1-4251-83c4-e6bb936b0209\")) {                    Plotly.newPlot(                        \"b4d80aaf-a0a1-4251-83c4-e6bb936b0209\",                        [{\"coloraxis\":\"coloraxis\",\"name\":\"0\",\"x\":[\"BOS\",\"11_1\",\"14_2\",\"17_3\",\"MID\",\"2_5\",\"1_6\",\"0_7\",\"END\",\"17_9\",\"14_10\",\"11_11\"],\"y\":[\"Embed\",\"Pos embed\"],\"z\":[[1.7286349534988403,1.3308264017105103,1.3596150875091553,1.3421440124511719,2.173596143722534,1.9918110370635986,1.8165135383605957,1.9104461669921875,2.3842580318450928,1.3569321632385254,1.3292901515960693,1.3463630676269531],[1.6688135862350464,3.4325921535491943,3.9961509704589844,5.808550834655762,1.713179111480713,6.7781243324279785,6.09999418258667,5.207854270935059,2.2125048637390137,5.734848976135254,4.316116809844971,0.7472706437110901]],\"type\":\"heatmap\",\"xaxis\":\"x\",\"yaxis\":\"y\",\"hovertemplate\":\"pos: %{x}<br>component: %{y}<br>color: %{z}<extra></extra>\"}],                        {\"template\":{\"data\":{\"histogram2dcontour\":[{\"type\":\"histogram2dcontour\",\"colorbar\":{\"outlinewidth\":0,\"ticks\":\"\"},\"colorscale\":[[0.0,\"#0d0887\"],[0.1111111111111111,\"#46039f\"],[0.2222222222222222,\"#7201a8\"],[0.3333333333333333,\"#9c179e\"],[0.4444444444444444,\"#bd3786\"],[0.5555555555555556,\"#d8576b\"],[0.6666666666666666,\"#ed7953\"],[0.7777777777777778,\"#fb9f3a\"],[0.8888888888888888,\"#fdca26\"],[1.0,\"#f0f921\"]]}],\"choropleth\":[{\"type\":\"choropleth\",\"colorbar\":{\"outlinewidth\":0,\"ticks\":\"\"}}],\"histogram2d\":[{\"type\":\"histogram2d\",\"colorbar\":{\"outlinewidth\":0,\"ticks\":\"\"},\"colorscale\":[[0.0,\"#0d0887\"],[0.1111111111111111,\"#46039f\"],[0.2222222222222222,\"#7201a8\"],[0.3333333333333333,\"#9c179e\"],[0.4444444444444444,\"#bd3786\"],[0.5555555555555556,\"#d8576b\"],[0.6666666666666666,\"#ed7953\"],[0.7777777777777778,\"#fb9f3a\"],[0.8888888888888888,\"#fdca26\"],[1.0,\"#f0f921\"]]}],\"heatmap\":[{\"type\":\"heatmap\",\"colorbar\":{\"outlinewidth\":0,\"ticks\":\"\"},\"colorscale\":[[0.0,\"#0d0887\"],[0.1111111111111111,\"#46039f\"],[0.2222222222222222,\"#7201a8\"],[0.3333333333333333,\"#9c179e\"],[0.4444444444444444,\"#bd3786\"],[0.5555555555555556,\"#d8576b\"],[0.6666666666666666,\"#ed7953\"],[0.7777777777777778,\"#fb9f3a\"],[0.8888888888888888,\"#fdca26\"],[1.0,\"#f0f921\"]]}],\"heatmapgl\":[{\"type\":\"heatmapgl\",\"colorbar\":{\"outlinewidth\":0,\"ticks\":\"\"},\"colorscale\":[[0.0,\"#0d0887\"],[0.1111111111111111,\"#46039f\"],[0.2222222222222222,\"#7201a8\"],[0.3333333333333333,\"#9c179e\"],[0.4444444444444444,\"#bd3786\"],[0.5555555555555556,\"#d8576b\"],[0.6666666666666666,\"#ed7953\"],[0.7777777777777778,\"#fb9f3a\"],[0.8888888888888888,\"#fdca26\"],[1.0,\"#f0f921\"]]}],\"contourcarpet\":[{\"type\":\"contourcarpet\",\"colorbar\":{\"outlinewidth\":0,\"ticks\":\"\"}}],\"contour\":[{\"type\":\"contour\",\"colorbar\":{\"outlinewidth\":0,\"ticks\":\"\"},\"colorscale\":[[0.0,\"#0d0887\"],[0.1111111111111111,\"#46039f\"],[0.2222222222222222,\"#7201a8\"],[0.3333333333333333,\"#9c179e\"],[0.4444444444444444,\"#bd3786\"],[0.5555555555555556,\"#d8576b\"],[0.6666666666666666,\"#ed7953\"],[0.7777777777777778,\"#fb9f3a\"],[0.8888888888888888,\"#fdca26\"],[1.0,\"#f0f921\"]]}],\"surface\":[{\"type\":\"surface\",\"colorbar\":{\"outlinewidth\":0,\"ticks\":\"\"},\"colorscale\":[[0.0,\"#0d0887\"],[0.1111111111111111,\"#46039f\"],[0.2222222222222222,\"#7201a8\"],[0.3333333333333333,\"#9c179e\"],[0.4444444444444444,\"#bd3786\"],[0.5555555555555556,\"#d8576b\"],[0.6666666666666666,\"#ed7953\"],[0.7777777777777778,\"#fb9f3a\"],[0.8888888888888888,\"#fdca26\"],[1.0,\"#f0f921\"]]}],\"mesh3d\":[{\"type\":\"mesh3d\",\"colorbar\":{\"outlinewidth\":0,\"ticks\":\"\"}}],\"scatter\":[{\"fillpattern\":{\"fillmode\":\"overlay\",\"size\":10,\"solidity\":0.2},\"type\":\"scatter\"}],\"parcoords\":[{\"type\":\"parcoords\",\"line\":{\"colorbar\":{\"outlinewidth\":0,\"ticks\":\"\"}}}],\"scatterpolargl\":[{\"type\":\"scatterpolargl\",\"marker\":{\"colorbar\":{\"outlinewidth\":0,\"ticks\":\"\"}}}],\"bar\":[{\"error_x\":{\"color\":\"#2a3f5f\"},\"error_y\":{\"color\":\"#2a3f5f\"},\"marker\":{\"line\":{\"color\":\"#E5ECF6\",\"width\":0.5},\"pattern\":{\"fillmode\":\"overlay\",\"size\":10,\"solidity\":0.2}},\"type\":\"bar\"}],\"scattergeo\":[{\"type\":\"scattergeo\",\"marker\":{\"colorbar\":{\"outlinewidth\":0,\"ticks\":\"\"}}}],\"scatterpolar\":[{\"type\":\"scatterpolar\",\"marker\":{\"colorbar\":{\"outlinewidth\":0,\"ticks\":\"\"}}}],\"histogram\":[{\"marker\":{\"pattern\":{\"fillmode\":\"overlay\",\"size\":10,\"solidity\":0.2}},\"type\":\"histogram\"}],\"scattergl\":[{\"type\":\"scattergl\",\"marker\":{\"colorbar\":{\"outlinewidth\":0,\"ticks\":\"\"}}}],\"scatter3d\":[{\"type\":\"scatter3d\",\"line\":{\"colorbar\":{\"outlinewidth\":0,\"ticks\":\"\"}},\"marker\":{\"colorbar\":{\"outlinewidth\":0,\"ticks\":\"\"}}}],\"scattermapbox\":[{\"type\":\"scattermapbox\",\"marker\":{\"colorbar\":{\"outlinewidth\":0,\"ticks\":\"\"}}}],\"scatterternary\":[{\"type\":\"scatterternary\",\"marker\":{\"colorbar\":{\"outlinewidth\":0,\"ticks\":\"\"}}}],\"scattercarpet\":[{\"type\":\"scattercarpet\",\"marker\":{\"colorbar\":{\"outlinewidth\":0,\"ticks\":\"\"}}}],\"carpet\":[{\"aaxis\":{\"endlinecolor\":\"#2a3f5f\",\"gridcolor\":\"white\",\"linecolor\":\"white\",\"minorgridcolor\":\"white\",\"startlinecolor\":\"#2a3f5f\"},\"baxis\":{\"endlinecolor\":\"#2a3f5f\",\"gridcolor\":\"white\",\"linecolor\":\"white\",\"minorgridcolor\":\"white\",\"startlinecolor\":\"#2a3f5f\"},\"type\":\"carpet\"}],\"table\":[{\"cells\":{\"fill\":{\"color\":\"#EBF0F8\"},\"line\":{\"color\":\"white\"}},\"header\":{\"fill\":{\"color\":\"#C8D4E3\"},\"line\":{\"color\":\"white\"}},\"type\":\"table\"}],\"barpolar\":[{\"marker\":{\"line\":{\"color\":\"#E5ECF6\",\"width\":0.5},\"pattern\":{\"fillmode\":\"overlay\",\"size\":10,\"solidity\":0.2}},\"type\":\"barpolar\"}],\"pie\":[{\"automargin\":true,\"type\":\"pie\"}]},\"layout\":{\"autotypenumbers\":\"strict\",\"colorway\":[\"#636efa\",\"#EF553B\",\"#00cc96\",\"#ab63fa\",\"#FFA15A\",\"#19d3f3\",\"#FF6692\",\"#B6E880\",\"#FF97FF\",\"#FECB52\"],\"font\":{\"color\":\"#2a3f5f\"},\"hovermode\":\"closest\",\"hoverlabel\":{\"align\":\"left\"},\"paper_bgcolor\":\"white\",\"plot_bgcolor\":\"#E5ECF6\",\"polar\":{\"bgcolor\":\"#E5ECF6\",\"angularaxis\":{\"gridcolor\":\"white\",\"linecolor\":\"white\",\"ticks\":\"\"},\"radialaxis\":{\"gridcolor\":\"white\",\"linecolor\":\"white\",\"ticks\":\"\"}},\"ternary\":{\"bgcolor\":\"#E5ECF6\",\"aaxis\":{\"gridcolor\":\"white\",\"linecolor\":\"white\",\"ticks\":\"\"},\"baxis\":{\"gridcolor\":\"white\",\"linecolor\":\"white\",\"ticks\":\"\"},\"caxis\":{\"gridcolor\":\"white\",\"linecolor\":\"white\",\"ticks\":\"\"}},\"coloraxis\":{\"colorbar\":{\"outlinewidth\":0,\"ticks\":\"\"}},\"colorscale\":{\"sequential\":[[0.0,\"#0d0887\"],[0.1111111111111111,\"#46039f\"],[0.2222222222222222,\"#7201a8\"],[0.3333333333333333,\"#9c179e\"],[0.4444444444444444,\"#bd3786\"],[0.5555555555555556,\"#d8576b\"],[0.6666666666666666,\"#ed7953\"],[0.7777777777777778,\"#fb9f3a\"],[0.8888888888888888,\"#fdca26\"],[1.0,\"#f0f921\"]],\"sequentialminus\":[[0.0,\"#0d0887\"],[0.1111111111111111,\"#46039f\"],[0.2222222222222222,\"#7201a8\"],[0.3333333333333333,\"#9c179e\"],[0.4444444444444444,\"#bd3786\"],[0.5555555555555556,\"#d8576b\"],[0.6666666666666666,\"#ed7953\"],[0.7777777777777778,\"#fb9f3a\"],[0.8888888888888888,\"#fdca26\"],[1.0,\"#f0f921\"]],\"diverging\":[[0,\"#8e0152\"],[0.1,\"#c51b7d\"],[0.2,\"#de77ae\"],[0.3,\"#f1b6da\"],[0.4,\"#fde0ef\"],[0.5,\"#f7f7f7\"],[0.6,\"#e6f5d0\"],[0.7,\"#b8e186\"],[0.8,\"#7fbc41\"],[0.9,\"#4d9221\"],[1,\"#276419\"]]},\"xaxis\":{\"gridcolor\":\"white\",\"linecolor\":\"white\",\"ticks\":\"\",\"title\":{\"standoff\":15},\"zerolinecolor\":\"white\",\"automargin\":true,\"zerolinewidth\":2},\"yaxis\":{\"gridcolor\":\"white\",\"linecolor\":\"white\",\"ticks\":\"\",\"title\":{\"standoff\":15},\"zerolinecolor\":\"white\",\"automargin\":true,\"zerolinewidth\":2},\"scene\":{\"xaxis\":{\"backgroundcolor\":\"#E5ECF6\",\"gridcolor\":\"white\",\"linecolor\":\"white\",\"showbackground\":true,\"ticks\":\"\",\"zerolinecolor\":\"white\",\"gridwidth\":2},\"yaxis\":{\"backgroundcolor\":\"#E5ECF6\",\"gridcolor\":\"white\",\"linecolor\":\"white\",\"showbackground\":true,\"ticks\":\"\",\"zerolinecolor\":\"white\",\"gridwidth\":2},\"zaxis\":{\"backgroundcolor\":\"#E5ECF6\",\"gridcolor\":\"white\",\"linecolor\":\"white\",\"showbackground\":true,\"ticks\":\"\",\"zerolinecolor\":\"white\",\"gridwidth\":2}},\"shapedefaults\":{\"line\":{\"color\":\"#2a3f5f\"}},\"annotationdefaults\":{\"arrowcolor\":\"#2a3f5f\",\"arrowhead\":0,\"arrowwidth\":1},\"geo\":{\"bgcolor\":\"white\",\"landcolor\":\"#E5ECF6\",\"subunitcolor\":\"white\",\"showland\":true,\"showlakes\":true,\"lakecolor\":\"white\"},\"title\":{\"x\":0.05},\"mapbox\":{\"style\":\"light\"}}},\"xaxis\":{\"anchor\":\"y\",\"domain\":[0.0,1.0],\"scaleanchor\":\"y\",\"constrain\":\"domain\",\"title\":{\"text\":\"pos\"}},\"yaxis\":{\"anchor\":\"x\",\"domain\":[0.0,1.0],\"autorange\":\"reversed\",\"constrain\":\"domain\",\"title\":{\"text\":\"component\"}},\"coloraxis\":{\"colorscale\":[[0.0,\"rgb(103,0,31)\"],[0.1,\"rgb(178,24,43)\"],[0.2,\"rgb(214,96,77)\"],[0.3,\"rgb(244,165,130)\"],[0.4,\"rgb(253,219,199)\"],[0.5,\"rgb(247,247,247)\"],[0.6,\"rgb(209,229,240)\"],[0.7,\"rgb(146,197,222)\"],[0.8,\"rgb(67,147,195)\"],[0.9,\"rgb(33,102,172)\"],[1.0,\"rgb(5,48,97)\"]],\"cmid\":0.0},\"title\":{\"text\":\"Key component norms\"}},                        {\"responsive\": true}                    ).then(function(){\n",
              "                            \n",
              "var gd = document.getElementById('b4d80aaf-a0a1-4251-83c4-e6bb936b0209');\n",
              "var x = new MutationObserver(function (mutations, observer) {{\n",
              "        var display = window.getComputedStyle(gd).display;\n",
              "        if (!display || display === 'none') {{\n",
              "            console.log([gd, 'removed!']);\n",
              "            Plotly.purge(gd);\n",
              "            observer.disconnect();\n",
              "        }}\n",
              "}});\n",
              "\n",
              "// Listen for the removal of the full notebook cells\n",
              "var notebookContainer = gd.closest('#notebook-container');\n",
              "if (notebookContainer) {{\n",
              "    x.observe(notebookContainer, {childList: true});\n",
              "}}\n",
              "\n",
              "// Listen for the clearing of the current output cell\n",
              "var outputEl = gd.closest('.output');\n",
              "if (outputEl) {{\n",
              "    x.observe(outputEl, {childList: true});\n",
              "}}\n",
              "\n",
              "                        })                };                            </script>        </div>\n",
              "</body>\n",
              "</html>"
            ]
          },
          "metadata": {}
        }
      ]
    },
    {
      "cell_type": "markdown",
      "source": [
        "It's weaker than I expected, but we do see the perm token embeddings slightly stand out in the queries, and the list positional embeddings stand out for their keys."
      ],
      "metadata": {
        "id": "C-p3Bp0pd0UB"
      }
    },
    {
      "cell_type": "markdown",
      "source": [
        "## Understand 1.0 QK circuits"
      ],
      "metadata": {
        "id": "rnzG18VEPWgp"
      }
    },
    {
      "cell_type": "markdown",
      "source": [
        "Since we were able to get some traction on understanding the QK circuit weights for 0.0, let's try the same for 1.0.\n",
        "\n",
        "We expect that the attn pattern is mainly determined for by the positions (recall the destination positions always attended very strongly to the fixed perm positions), so we expect the $W_{pos}W_{QK}W_{pos}^T$ term to explain this."
      ],
      "metadata": {
        "id": "EH4CG6TLPZq-"
      }
    },
    {
      "cell_type": "code",
      "source": [
        "W_QK = model.QK[1, 0].AB\n",
        "W_QK.shape"
      ],
      "metadata": {
        "colab": {
          "base_uri": "https://localhost:8080/"
        },
        "id": "M2jhrVwMPvWj",
        "outputId": "5e9df066-7adc-49cc-b4ba-4b1e1c4d7164"
      },
      "execution_count": 105,
      "outputs": [
        {
          "output_type": "execute_result",
          "data": {
            "text/plain": [
              "torch.Size([128, 128])"
            ]
          },
          "metadata": {},
          "execution_count": 105
        }
      ]
    },
    {
      "cell_type": "code",
      "source": [
        "imshow(\n",
        "    torch.tril(W_pos @ W_QK @ W_pos.T),\n",
        "    title=f\"1.0 full QK circuit W_pos @ W_QK @ W_pos.T\",\n",
        "    xaxis=\"src pos\", yaxis='dest pos',\n",
        "    x=labels, y=labels\n",
        ")"
      ],
      "metadata": {
        "colab": {
          "base_uri": "https://localhost:8080/",
          "height": 542
        },
        "id": "nU0kKikLPyZC",
        "outputId": "2ce6ebc2-87dd-4434-d3f4-8324fe444292"
      },
      "execution_count": 106,
      "outputs": [
        {
          "output_type": "display_data",
          "data": {
            "text/html": [
              "<html>\n",
              "<head><meta charset=\"utf-8\" /></head>\n",
              "<body>\n",
              "    <div>            <script src=\"https://cdnjs.cloudflare.com/ajax/libs/mathjax/2.7.5/MathJax.js?config=TeX-AMS-MML_SVG\"></script><script type=\"text/javascript\">if (window.MathJax && window.MathJax.Hub && window.MathJax.Hub.Config) {window.MathJax.Hub.Config({SVG: {font: \"STIX-Web\"}});}</script>                <script type=\"text/javascript\">window.PlotlyConfig = {MathJaxConfig: 'local'};</script>\n",
              "        <script src=\"https://cdn.plot.ly/plotly-2.18.2.min.js\"></script>                <div id=\"a4971554-8f3a-4286-be68-fe68a9afe60a\" class=\"plotly-graph-div\" style=\"height:525px; width:100%;\"></div>            <script type=\"text/javascript\">                                    window.PLOTLYENV=window.PLOTLYENV || {};                                    if (document.getElementById(\"a4971554-8f3a-4286-be68-fe68a9afe60a\")) {                    Plotly.newPlot(                        \"a4971554-8f3a-4286-be68-fe68a9afe60a\",                        [{\"coloraxis\":\"coloraxis\",\"name\":\"0\",\"x\":[\"BOS\",\"11_1\",\"14_2\",\"17_3\",\"MID\",\"2_5\",\"1_6\",\"0_7\",\"END\",\"17_9\",\"14_10\",\"11_11\"],\"y\":[\"BOS\",\"11_1\",\"14_2\",\"17_3\",\"MID\",\"2_5\",\"1_6\",\"0_7\",\"END\",\"17_9\",\"14_10\",\"11_11\"],\"z\":[[-0.7535196542739868,0.0,0.0,0.0,0.0,0.0,0.0,0.0,0.0,0.0,0.0,0.0],[0.7320630550384521,-0.44745102524757385,0.0,0.0,0.0,0.0,0.0,0.0,0.0,0.0,0.0,0.0],[0.10556797683238983,-0.9281052350997925,0.26630091667175293,0.0,0.0,0.0,0.0,0.0,0.0,0.0,0.0,0.0],[-0.06999748945236206,1.729017972946167,0.2940431833267212,-1.4658467769622803,0.0,0.0,0.0,0.0,0.0,0.0,0.0,0.0],[0.6625199913978577,0.2816484272480011,-1.1914042234420776,-1.1577571630477905,-0.41095301508903503,0.0,0.0,0.0,0.0,0.0,0.0,0.0],[-0.8183212280273438,1.1050301790237427,0.4044898748397827,1.8791611194610596,0.4177561104297638,-2.6130616664886475,0.0,0.0,0.0,0.0,0.0,0.0],[-2.7095491886138916,4.25123929977417,2.6818606853485107,2.9997382164001465,0.42033055424690247,-3.6328353881835938,-6.937811374664307,0.0,0.0,0.0,0.0,0.0],[1.8616623878479004,-1.7616779804229736,-2.1663694381713867,-2.4483346939086914,-0.6922979354858398,0.0362110435962677,8.903525352478027,-2.921562671661377,0.0,0.0,0.0,0.0],[-0.0956222414970398,2.5156264305114746,1.1510233879089355,-5.300528526306152,-0.07111826539039612,26.196189880371094,-16.044675827026367,-6.455239295959473,1.9038171768188477,0.0,0.0,0.0],[-0.5815208554267883,0.07120699435472488,-1.3644670248031616,-0.06436923146247864,-1.0534121990203857,-13.655967712402344,20.733457565307617,-0.29398566484451294,-1.9578146934509277,2.0381147861480713,0.0,0.0],[-4.923505783081055,3.2561535835266113,7.6903767585754395,11.84055233001709,1.6581931114196777,-21.491153717041016,-15.594327926635742,12.151254653930664,-3.75715970993042,-12.077486991882324,-13.376365661621094,0.0],[-0.42866674065589905,0.01536992285400629,1.0856190919876099,0.6796417236328125,0.029211459681391716,-2.6107897758483887,0.44667115807533264,0.550926685333252,-0.5406963229179382,-0.9722371697425842,-0.8362433314323425,-0.22941631078720093]],\"type\":\"heatmap\",\"xaxis\":\"x\",\"yaxis\":\"y\",\"hovertemplate\":\"src pos: %{x}<br>dest pos: %{y}<br>color: %{z}<extra></extra>\"}],                        {\"template\":{\"data\":{\"histogram2dcontour\":[{\"type\":\"histogram2dcontour\",\"colorbar\":{\"outlinewidth\":0,\"ticks\":\"\"},\"colorscale\":[[0.0,\"#0d0887\"],[0.1111111111111111,\"#46039f\"],[0.2222222222222222,\"#7201a8\"],[0.3333333333333333,\"#9c179e\"],[0.4444444444444444,\"#bd3786\"],[0.5555555555555556,\"#d8576b\"],[0.6666666666666666,\"#ed7953\"],[0.7777777777777778,\"#fb9f3a\"],[0.8888888888888888,\"#fdca26\"],[1.0,\"#f0f921\"]]}],\"choropleth\":[{\"type\":\"choropleth\",\"colorbar\":{\"outlinewidth\":0,\"ticks\":\"\"}}],\"histogram2d\":[{\"type\":\"histogram2d\",\"colorbar\":{\"outlinewidth\":0,\"ticks\":\"\"},\"colorscale\":[[0.0,\"#0d0887\"],[0.1111111111111111,\"#46039f\"],[0.2222222222222222,\"#7201a8\"],[0.3333333333333333,\"#9c179e\"],[0.4444444444444444,\"#bd3786\"],[0.5555555555555556,\"#d8576b\"],[0.6666666666666666,\"#ed7953\"],[0.7777777777777778,\"#fb9f3a\"],[0.8888888888888888,\"#fdca26\"],[1.0,\"#f0f921\"]]}],\"heatmap\":[{\"type\":\"heatmap\",\"colorbar\":{\"outlinewidth\":0,\"ticks\":\"\"},\"colorscale\":[[0.0,\"#0d0887\"],[0.1111111111111111,\"#46039f\"],[0.2222222222222222,\"#7201a8\"],[0.3333333333333333,\"#9c179e\"],[0.4444444444444444,\"#bd3786\"],[0.5555555555555556,\"#d8576b\"],[0.6666666666666666,\"#ed7953\"],[0.7777777777777778,\"#fb9f3a\"],[0.8888888888888888,\"#fdca26\"],[1.0,\"#f0f921\"]]}],\"heatmapgl\":[{\"type\":\"heatmapgl\",\"colorbar\":{\"outlinewidth\":0,\"ticks\":\"\"},\"colorscale\":[[0.0,\"#0d0887\"],[0.1111111111111111,\"#46039f\"],[0.2222222222222222,\"#7201a8\"],[0.3333333333333333,\"#9c179e\"],[0.4444444444444444,\"#bd3786\"],[0.5555555555555556,\"#d8576b\"],[0.6666666666666666,\"#ed7953\"],[0.7777777777777778,\"#fb9f3a\"],[0.8888888888888888,\"#fdca26\"],[1.0,\"#f0f921\"]]}],\"contourcarpet\":[{\"type\":\"contourcarpet\",\"colorbar\":{\"outlinewidth\":0,\"ticks\":\"\"}}],\"contour\":[{\"type\":\"contour\",\"colorbar\":{\"outlinewidth\":0,\"ticks\":\"\"},\"colorscale\":[[0.0,\"#0d0887\"],[0.1111111111111111,\"#46039f\"],[0.2222222222222222,\"#7201a8\"],[0.3333333333333333,\"#9c179e\"],[0.4444444444444444,\"#bd3786\"],[0.5555555555555556,\"#d8576b\"],[0.6666666666666666,\"#ed7953\"],[0.7777777777777778,\"#fb9f3a\"],[0.8888888888888888,\"#fdca26\"],[1.0,\"#f0f921\"]]}],\"surface\":[{\"type\":\"surface\",\"colorbar\":{\"outlinewidth\":0,\"ticks\":\"\"},\"colorscale\":[[0.0,\"#0d0887\"],[0.1111111111111111,\"#46039f\"],[0.2222222222222222,\"#7201a8\"],[0.3333333333333333,\"#9c179e\"],[0.4444444444444444,\"#bd3786\"],[0.5555555555555556,\"#d8576b\"],[0.6666666666666666,\"#ed7953\"],[0.7777777777777778,\"#fb9f3a\"],[0.8888888888888888,\"#fdca26\"],[1.0,\"#f0f921\"]]}],\"mesh3d\":[{\"type\":\"mesh3d\",\"colorbar\":{\"outlinewidth\":0,\"ticks\":\"\"}}],\"scatter\":[{\"fillpattern\":{\"fillmode\":\"overlay\",\"size\":10,\"solidity\":0.2},\"type\":\"scatter\"}],\"parcoords\":[{\"type\":\"parcoords\",\"line\":{\"colorbar\":{\"outlinewidth\":0,\"ticks\":\"\"}}}],\"scatterpolargl\":[{\"type\":\"scatterpolargl\",\"marker\":{\"colorbar\":{\"outlinewidth\":0,\"ticks\":\"\"}}}],\"bar\":[{\"error_x\":{\"color\":\"#2a3f5f\"},\"error_y\":{\"color\":\"#2a3f5f\"},\"marker\":{\"line\":{\"color\":\"#E5ECF6\",\"width\":0.5},\"pattern\":{\"fillmode\":\"overlay\",\"size\":10,\"solidity\":0.2}},\"type\":\"bar\"}],\"scattergeo\":[{\"type\":\"scattergeo\",\"marker\":{\"colorbar\":{\"outlinewidth\":0,\"ticks\":\"\"}}}],\"scatterpolar\":[{\"type\":\"scatterpolar\",\"marker\":{\"colorbar\":{\"outlinewidth\":0,\"ticks\":\"\"}}}],\"histogram\":[{\"marker\":{\"pattern\":{\"fillmode\":\"overlay\",\"size\":10,\"solidity\":0.2}},\"type\":\"histogram\"}],\"scattergl\":[{\"type\":\"scattergl\",\"marker\":{\"colorbar\":{\"outlinewidth\":0,\"ticks\":\"\"}}}],\"scatter3d\":[{\"type\":\"scatter3d\",\"line\":{\"colorbar\":{\"outlinewidth\":0,\"ticks\":\"\"}},\"marker\":{\"colorbar\":{\"outlinewidth\":0,\"ticks\":\"\"}}}],\"scattermapbox\":[{\"type\":\"scattermapbox\",\"marker\":{\"colorbar\":{\"outlinewidth\":0,\"ticks\":\"\"}}}],\"scatterternary\":[{\"type\":\"scatterternary\",\"marker\":{\"colorbar\":{\"outlinewidth\":0,\"ticks\":\"\"}}}],\"scattercarpet\":[{\"type\":\"scattercarpet\",\"marker\":{\"colorbar\":{\"outlinewidth\":0,\"ticks\":\"\"}}}],\"carpet\":[{\"aaxis\":{\"endlinecolor\":\"#2a3f5f\",\"gridcolor\":\"white\",\"linecolor\":\"white\",\"minorgridcolor\":\"white\",\"startlinecolor\":\"#2a3f5f\"},\"baxis\":{\"endlinecolor\":\"#2a3f5f\",\"gridcolor\":\"white\",\"linecolor\":\"white\",\"minorgridcolor\":\"white\",\"startlinecolor\":\"#2a3f5f\"},\"type\":\"carpet\"}],\"table\":[{\"cells\":{\"fill\":{\"color\":\"#EBF0F8\"},\"line\":{\"color\":\"white\"}},\"header\":{\"fill\":{\"color\":\"#C8D4E3\"},\"line\":{\"color\":\"white\"}},\"type\":\"table\"}],\"barpolar\":[{\"marker\":{\"line\":{\"color\":\"#E5ECF6\",\"width\":0.5},\"pattern\":{\"fillmode\":\"overlay\",\"size\":10,\"solidity\":0.2}},\"type\":\"barpolar\"}],\"pie\":[{\"automargin\":true,\"type\":\"pie\"}]},\"layout\":{\"autotypenumbers\":\"strict\",\"colorway\":[\"#636efa\",\"#EF553B\",\"#00cc96\",\"#ab63fa\",\"#FFA15A\",\"#19d3f3\",\"#FF6692\",\"#B6E880\",\"#FF97FF\",\"#FECB52\"],\"font\":{\"color\":\"#2a3f5f\"},\"hovermode\":\"closest\",\"hoverlabel\":{\"align\":\"left\"},\"paper_bgcolor\":\"white\",\"plot_bgcolor\":\"#E5ECF6\",\"polar\":{\"bgcolor\":\"#E5ECF6\",\"angularaxis\":{\"gridcolor\":\"white\",\"linecolor\":\"white\",\"ticks\":\"\"},\"radialaxis\":{\"gridcolor\":\"white\",\"linecolor\":\"white\",\"ticks\":\"\"}},\"ternary\":{\"bgcolor\":\"#E5ECF6\",\"aaxis\":{\"gridcolor\":\"white\",\"linecolor\":\"white\",\"ticks\":\"\"},\"baxis\":{\"gridcolor\":\"white\",\"linecolor\":\"white\",\"ticks\":\"\"},\"caxis\":{\"gridcolor\":\"white\",\"linecolor\":\"white\",\"ticks\":\"\"}},\"coloraxis\":{\"colorbar\":{\"outlinewidth\":0,\"ticks\":\"\"}},\"colorscale\":{\"sequential\":[[0.0,\"#0d0887\"],[0.1111111111111111,\"#46039f\"],[0.2222222222222222,\"#7201a8\"],[0.3333333333333333,\"#9c179e\"],[0.4444444444444444,\"#bd3786\"],[0.5555555555555556,\"#d8576b\"],[0.6666666666666666,\"#ed7953\"],[0.7777777777777778,\"#fb9f3a\"],[0.8888888888888888,\"#fdca26\"],[1.0,\"#f0f921\"]],\"sequentialminus\":[[0.0,\"#0d0887\"],[0.1111111111111111,\"#46039f\"],[0.2222222222222222,\"#7201a8\"],[0.3333333333333333,\"#9c179e\"],[0.4444444444444444,\"#bd3786\"],[0.5555555555555556,\"#d8576b\"],[0.6666666666666666,\"#ed7953\"],[0.7777777777777778,\"#fb9f3a\"],[0.8888888888888888,\"#fdca26\"],[1.0,\"#f0f921\"]],\"diverging\":[[0,\"#8e0152\"],[0.1,\"#c51b7d\"],[0.2,\"#de77ae\"],[0.3,\"#f1b6da\"],[0.4,\"#fde0ef\"],[0.5,\"#f7f7f7\"],[0.6,\"#e6f5d0\"],[0.7,\"#b8e186\"],[0.8,\"#7fbc41\"],[0.9,\"#4d9221\"],[1,\"#276419\"]]},\"xaxis\":{\"gridcolor\":\"white\",\"linecolor\":\"white\",\"ticks\":\"\",\"title\":{\"standoff\":15},\"zerolinecolor\":\"white\",\"automargin\":true,\"zerolinewidth\":2},\"yaxis\":{\"gridcolor\":\"white\",\"linecolor\":\"white\",\"ticks\":\"\",\"title\":{\"standoff\":15},\"zerolinecolor\":\"white\",\"automargin\":true,\"zerolinewidth\":2},\"scene\":{\"xaxis\":{\"backgroundcolor\":\"#E5ECF6\",\"gridcolor\":\"white\",\"linecolor\":\"white\",\"showbackground\":true,\"ticks\":\"\",\"zerolinecolor\":\"white\",\"gridwidth\":2},\"yaxis\":{\"backgroundcolor\":\"#E5ECF6\",\"gridcolor\":\"white\",\"linecolor\":\"white\",\"showbackground\":true,\"ticks\":\"\",\"zerolinecolor\":\"white\",\"gridwidth\":2},\"zaxis\":{\"backgroundcolor\":\"#E5ECF6\",\"gridcolor\":\"white\",\"linecolor\":\"white\",\"showbackground\":true,\"ticks\":\"\",\"zerolinecolor\":\"white\",\"gridwidth\":2}},\"shapedefaults\":{\"line\":{\"color\":\"#2a3f5f\"}},\"annotationdefaults\":{\"arrowcolor\":\"#2a3f5f\",\"arrowhead\":0,\"arrowwidth\":1},\"geo\":{\"bgcolor\":\"white\",\"landcolor\":\"#E5ECF6\",\"subunitcolor\":\"white\",\"showland\":true,\"showlakes\":true,\"lakecolor\":\"white\"},\"title\":{\"x\":0.05},\"mapbox\":{\"style\":\"light\"}}},\"xaxis\":{\"anchor\":\"y\",\"domain\":[0.0,1.0],\"scaleanchor\":\"y\",\"constrain\":\"domain\",\"title\":{\"text\":\"src pos\"}},\"yaxis\":{\"anchor\":\"x\",\"domain\":[0.0,1.0],\"autorange\":\"reversed\",\"constrain\":\"domain\",\"title\":{\"text\":\"dest pos\"}},\"coloraxis\":{\"colorscale\":[[0.0,\"rgb(103,0,31)\"],[0.1,\"rgb(178,24,43)\"],[0.2,\"rgb(214,96,77)\"],[0.3,\"rgb(244,165,130)\"],[0.4,\"rgb(253,219,199)\"],[0.5,\"rgb(247,247,247)\"],[0.6,\"rgb(209,229,240)\"],[0.7,\"rgb(146,197,222)\"],[0.8,\"rgb(67,147,195)\"],[0.9,\"rgb(33,102,172)\"],[1.0,\"rgb(5,48,97)\"]],\"cmid\":0.0},\"title\":{\"text\":\"1.0 full QK circuit W_pos @ W_QK @ W_pos.T\"}},                        {\"responsive\": true}                    ).then(function(){\n",
              "                            \n",
              "var gd = document.getElementById('a4971554-8f3a-4286-be68-fe68a9afe60a');\n",
              "var x = new MutationObserver(function (mutations, observer) {{\n",
              "        var display = window.getComputedStyle(gd).display;\n",
              "        if (!display || display === 'none') {{\n",
              "            console.log([gd, 'removed!']);\n",
              "            Plotly.purge(gd);\n",
              "            observer.disconnect();\n",
              "        }}\n",
              "}});\n",
              "\n",
              "// Listen for the removal of the full notebook cells\n",
              "var notebookContainer = gd.closest('#notebook-container');\n",
              "if (notebookContainer) {{\n",
              "    x.observe(notebookContainer, {childList: true});\n",
              "}}\n",
              "\n",
              "// Listen for the clearing of the current output cell\n",
              "var outputEl = gd.closest('.output');\n",
              "if (outputEl) {{\n",
              "    x.observe(outputEl, {childList: true});\n",
              "}}\n",
              "\n",
              "                        })                };                            </script>        </div>\n",
              "</body>\n",
              "</html>"
            ]
          },
          "metadata": {}
        }
      ]
    },
    {
      "cell_type": "markdown",
      "source": [
        "Notice that the diagonal stripe for the positions we expected stands out. This partially explains how the model computes the 1.0 patterns, although there are still loads of terms we haven't considered."
      ],
      "metadata": {
        "id": "ZG_RKmDS1BL1"
      }
    },
    {
      "cell_type": "markdown",
      "source": [
        "## Decompose logits"
      ],
      "metadata": {
        "id": "-jKtOW3uRSsE"
      }
    },
    {
      "cell_type": "markdown",
      "source": [
        "I feel somewhat convinced that 0.0 causes perm tokens to attend to their corresponding list position, and that 1.0 causes prediction positions to the fixed perm positions. However we have yet to determine *what* information is moved. It would be really natural for the composition of both heads to just relay the token information for the correct answer using v-comp, acting as a virtual attn head.\n",
        "\n",
        "\n",
        "In the past we were able to decompose the logits into a sum of terms, and stare at full OV circuits to understand what was going on, but here we have a lot more terms:\n",
        "\n",
        "$$\n",
        "\\begin{align}\n",
        "logits &= x_2W_U\\\\\n",
        "&= (h_{1.0}(x_1) + x_1)W_U \\\\\n",
        "&= (A^{1.0}x_1W_{OV}^{1.0} + x_1)W_U \\\\\n",
        "&= (A^{1.0}(A^{0.0}x_0W_{OV}^{0.0} + x_0)W_{OV}^{1.0} + (A^{0.0}x_0W_{OV}^{0.0} + x_0))W_U \\\\\n",
        "&= (A^{1.0}A^{0.0}x_0W_{OV}^{0.0}W_{OV}^{1.0} + A^{1.0}x_0W_{OV}^{1.0} + A^{0.0}x_0W_{OV}^{0.0} + x_0)W_U \\\\\n",
        "&= (A^{1.0}A^{0.0}(e+p)W_{OV}^{0.0}W_{OV}^{1.0} + A^{1.0}(e+p)W_{OV}^{1.0} + A^{0.0}(e+p)W_{OV}^{0.0} + (e+p))W_U \\\\\n",
        "&= (A^{1.0}A^{0.0}eW_{OV}^{0.0}W_{OV}^{1.0} + A^{1.0}A^{0.0}pW_{OV}^{0.0}W_{OV}^{1.0} + A^{1.0}eW_{OV}^{1.0} + A^{1.0}pW_{OV}^{1.0} + A^{0.0}eW_{OV}^{0.0} + A^{0.0}pW_{OV}^{0.0} + e + p)W_U \\\\\n",
        "&= (A^{1.0}A^{0.0}tW_EW_{OV}^{0.0}W_{OV}^{1.0} + A^{1.0}A^{0.0}posW_{pos}W_{OV}^{0.0}W_{OV}^{1.0} + A^{1.0}tW_EW_{OV}^{1.0} + A^{1.0}posW_{pos}W_{OV}^{1.0} + A^{0.0}tW_EW_{OV}^{0.0} + A^{0.0}posW_{pos}W_{OV}^{0.0} + tW_E + posW_{pos})W_U \\\\\n",
        "&= A^{1.0}A^{0.0}tW_EW_{OV}^{0.0}W_{OV}^{1.0}W_U + A^{1.0}A^{0.0}posW_{pos}W_{OV}^{0.0}W_{OV}^{1.0}W_U + A^{1.0}tW_EW_{OV}^{1.0}W_U + A^{1.0}posW_{pos}W_{OV}^{1.0}W_U + A^{0.0}tW_EW_{OV}^{0.0}W_U + A^{0.0}posW_{pos}W_{OV}^{0.0}W_U + tW_EW_U + posW_{pos}W_U \\\\\n",
        "\\end{align}\n",
        "$$\n",
        "\n",
        "Where $t$ and $pos$ are the tokens and positions as one hot encoded vectors respectively. It would be a pain to study every term, but if the model is doing what we expect, then the $A^{1.0}A^{0.0}tW_EW_{OV}^{0.0}W_{OV}^{1.0}W_U$ term should dominate in importance. We should be able to check this through a more refined direct logit attribution."
      ],
      "metadata": {
        "id": "796Q6m2lRVCW"
      }
    },
    {
      "cell_type": "markdown",
      "source": [
        "## Finer grained direct logit attribution"
      ],
      "metadata": {
        "id": "I5N9lN7OR1hK"
      }
    },
    {
      "cell_type": "markdown",
      "source": [
        "Recall we already used direct logit attribution to show $h_{1.0}(x_1)$ had the biggest effect on the logits. However we want to further decompose: \n",
        "$$\n",
        "h_{1.0}(x_1) = A^{1.0}A^{0.0}eW_{OV}^{0.0}W_{OV}^{1.0} + A^{1.0}A^{0.0}pW_{OV}^{0.0}W_{OV}^{1.0} + A^{1.0}eW_{OV}^{1.0} + A^{1.0}pW_{OV}^{1.0}\n",
        "$$\n",
        "\n",
        " Now we can just apply direct logit attribution on these terms, and prioritize the terms that matter most:"
      ],
      "metadata": {
        "id": "UO8TwvKqTft0"
      }
    },
    {
      "cell_type": "code",
      "source": [
        "embed_both_heads_term = einops.einsum(\n",
        "    cache['pattern', 1], cache['pattern', 0], cache['embed'], model.OV[0,0].AB, model.OV[1, 0].AB,\n",
        "    \"batch n_heads pos1 pos2, batch n_heads pos2 pos3, batch pos3 d_model1, d_model1 d_model2, d_model2 d_model3 -> batch pos1 d_model3\"\n",
        ")\n",
        "\n",
        "pos_embed_both_heads_term = einops.einsum(\n",
        "    cache['pattern', 1], cache['pattern', 0], cache['pos_embed'], model.OV[0,0].AB, model.OV[1, 0].AB,\n",
        "    \"batch n_heads pos1 pos2, batch n_heads pos2 pos3, batch pos3 d_model1, d_model1 d_model2, d_model2 d_model3 -> batch pos1 d_model3\"\n",
        ")\n",
        "\n",
        "embed_head_1_term = einops.einsum(\n",
        "    cache['pattern', 1], cache['embed'], model.OV[1, 0].AB,\n",
        "    \"batch n_heads q_pos k_pos, batch k_pos d_model1, d_model1 d_model2 -> batch q_pos d_model2\"\n",
        ")\n",
        "\n",
        "pos_embed_head_1_term = einops.einsum(\n",
        "    cache['pattern', 1], cache['pos_embed'], model.OV[1, 0].AB,\n",
        "    \"batch n_heads q_pos k_pos, batch k_pos d_model1, d_model1 d_model2 -> batch q_pos d_model2\"\n",
        ")\n",
        "\n",
        "\n",
        "assert torch.allclose(embed_both_heads_term + pos_embed_both_heads_term + embed_head_1_term + pos_embed_head_1_term, cache['attn_out', 1], atol=1e-5)"
      ],
      "metadata": {
        "id": "abZhats6ZyFD"
      },
      "execution_count": 107,
      "outputs": []
    },
    {
      "cell_type": "code",
      "source": [
        "resid_stack = torch.stack([embed_both_heads_term, pos_embed_both_heads_term, embed_head_1_term, pos_embed_head_1_term])\n",
        "resid_stack = resid_stack[:, :, -4, :]\n",
        "print(resid_stack.shape)\n",
        "labels = ['embed_both_heads_term', 'pos_embed_both_heads_term', 'embed_head_1_term', 'pos_embed_head_1_term',]\n",
        "print(labels)"
      ],
      "metadata": {
        "colab": {
          "base_uri": "https://localhost:8080/"
        },
        "id": "kybb9xkgcArq",
        "outputId": "953c687c-04f7-496c-d39a-9c701ba19632"
      },
      "execution_count": 108,
      "outputs": [
        {
          "output_type": "stream",
          "name": "stdout",
          "text": [
            "torch.Size([4, 256, 128])\n",
            "['embed_both_heads_term', 'pos_embed_both_heads_term', 'embed_head_1_term', 'pos_embed_head_1_term']\n"
          ]
        }
      ]
    },
    {
      "cell_type": "code",
      "source": [
        "per_component_contribution = einops.einsum(\n",
        "    resid_stack,\n",
        "    correct_logit_dirs,\n",
        "    \"... batch d_model, batch d_model -> ...\"\n",
        ") / test_data.shape[0]\n",
        "\n",
        "bar(\n",
        "    per_component_contribution,\n",
        "    title=\"Direct logit attribution for components of attn_out_1\",\n",
        "    xaxis=\"Layer\", yaxis=\"attribution\",\n",
        "    x=labels\n",
        ")"
      ],
      "metadata": {
        "colab": {
          "base_uri": "https://localhost:8080/",
          "height": 542
        },
        "id": "LUJ6ObSPcP84",
        "outputId": "99dbb3ee-9965-42e7-f6cf-dac446227923"
      },
      "execution_count": 109,
      "outputs": [
        {
          "output_type": "display_data",
          "data": {
            "text/html": [
              "<html>\n",
              "<head><meta charset=\"utf-8\" /></head>\n",
              "<body>\n",
              "    <div>            <script src=\"https://cdnjs.cloudflare.com/ajax/libs/mathjax/2.7.5/MathJax.js?config=TeX-AMS-MML_SVG\"></script><script type=\"text/javascript\">if (window.MathJax && window.MathJax.Hub && window.MathJax.Hub.Config) {window.MathJax.Hub.Config({SVG: {font: \"STIX-Web\"}});}</script>                <script type=\"text/javascript\">window.PlotlyConfig = {MathJaxConfig: 'local'};</script>\n",
              "        <script src=\"https://cdn.plot.ly/plotly-2.18.2.min.js\"></script>                <div id=\"da136806-6a4c-4dac-aabb-2ee291006ea7\" class=\"plotly-graph-div\" style=\"height:525px; width:100%;\"></div>            <script type=\"text/javascript\">                                    window.PLOTLYENV=window.PLOTLYENV || {};                                    if (document.getElementById(\"da136806-6a4c-4dac-aabb-2ee291006ea7\")) {                    Plotly.newPlot(                        \"da136806-6a4c-4dac-aabb-2ee291006ea7\",                        [{\"alignmentgroup\":\"True\",\"hovertemplate\":\"Layer=%{x}<br>attribution=%{y}<extra></extra>\",\"legendgroup\":\"\",\"marker\":{\"color\":\"#1F77B4\",\"pattern\":{\"shape\":\"\"}},\"name\":\"\",\"offsetgroup\":\"\",\"orientation\":\"v\",\"showlegend\":false,\"textposition\":\"auto\",\"x\":[\"embed_both_heads_term\",\"pos_embed_both_heads_term\",\"embed_head_1_term\",\"pos_embed_head_1_term\"],\"xaxis\":\"x\",\"y\":[27.01594352722168,0.24711519479751587,-0.07881268858909607,-0.10863606631755829],\"yaxis\":\"y\",\"type\":\"bar\"}],                        {\"template\":{\"data\":{\"barpolar\":[{\"marker\":{\"line\":{\"color\":\"white\",\"width\":0.5},\"pattern\":{\"fillmode\":\"overlay\",\"size\":10,\"solidity\":0.2}},\"type\":\"barpolar\"}],\"bar\":[{\"error_x\":{\"color\":\"rgb(36,36,36)\"},\"error_y\":{\"color\":\"rgb(36,36,36)\"},\"marker\":{\"line\":{\"color\":\"white\",\"width\":0.5},\"pattern\":{\"fillmode\":\"overlay\",\"size\":10,\"solidity\":0.2}},\"type\":\"bar\"}],\"carpet\":[{\"aaxis\":{\"endlinecolor\":\"rgb(36,36,36)\",\"gridcolor\":\"white\",\"linecolor\":\"white\",\"minorgridcolor\":\"white\",\"startlinecolor\":\"rgb(36,36,36)\"},\"baxis\":{\"endlinecolor\":\"rgb(36,36,36)\",\"gridcolor\":\"white\",\"linecolor\":\"white\",\"minorgridcolor\":\"white\",\"startlinecolor\":\"rgb(36,36,36)\"},\"type\":\"carpet\"}],\"choropleth\":[{\"colorbar\":{\"outlinewidth\":1,\"tickcolor\":\"rgb(36,36,36)\",\"ticks\":\"outside\"},\"type\":\"choropleth\"}],\"contourcarpet\":[{\"colorbar\":{\"outlinewidth\":1,\"tickcolor\":\"rgb(36,36,36)\",\"ticks\":\"outside\"},\"type\":\"contourcarpet\"}],\"contour\":[{\"colorbar\":{\"outlinewidth\":1,\"tickcolor\":\"rgb(36,36,36)\",\"ticks\":\"outside\"},\"colorscale\":[[0.0,\"#440154\"],[0.1111111111111111,\"#482878\"],[0.2222222222222222,\"#3e4989\"],[0.3333333333333333,\"#31688e\"],[0.4444444444444444,\"#26828e\"],[0.5555555555555556,\"#1f9e89\"],[0.6666666666666666,\"#35b779\"],[0.7777777777777778,\"#6ece58\"],[0.8888888888888888,\"#b5de2b\"],[1.0,\"#fde725\"]],\"type\":\"contour\"}],\"heatmapgl\":[{\"colorbar\":{\"outlinewidth\":1,\"tickcolor\":\"rgb(36,36,36)\",\"ticks\":\"outside\"},\"colorscale\":[[0.0,\"#440154\"],[0.1111111111111111,\"#482878\"],[0.2222222222222222,\"#3e4989\"],[0.3333333333333333,\"#31688e\"],[0.4444444444444444,\"#26828e\"],[0.5555555555555556,\"#1f9e89\"],[0.6666666666666666,\"#35b779\"],[0.7777777777777778,\"#6ece58\"],[0.8888888888888888,\"#b5de2b\"],[1.0,\"#fde725\"]],\"type\":\"heatmapgl\"}],\"heatmap\":[{\"colorbar\":{\"outlinewidth\":1,\"tickcolor\":\"rgb(36,36,36)\",\"ticks\":\"outside\"},\"colorscale\":[[0.0,\"#440154\"],[0.1111111111111111,\"#482878\"],[0.2222222222222222,\"#3e4989\"],[0.3333333333333333,\"#31688e\"],[0.4444444444444444,\"#26828e\"],[0.5555555555555556,\"#1f9e89\"],[0.6666666666666666,\"#35b779\"],[0.7777777777777778,\"#6ece58\"],[0.8888888888888888,\"#b5de2b\"],[1.0,\"#fde725\"]],\"type\":\"heatmap\"}],\"histogram2dcontour\":[{\"colorbar\":{\"outlinewidth\":1,\"tickcolor\":\"rgb(36,36,36)\",\"ticks\":\"outside\"},\"colorscale\":[[0.0,\"#440154\"],[0.1111111111111111,\"#482878\"],[0.2222222222222222,\"#3e4989\"],[0.3333333333333333,\"#31688e\"],[0.4444444444444444,\"#26828e\"],[0.5555555555555556,\"#1f9e89\"],[0.6666666666666666,\"#35b779\"],[0.7777777777777778,\"#6ece58\"],[0.8888888888888888,\"#b5de2b\"],[1.0,\"#fde725\"]],\"type\":\"histogram2dcontour\"}],\"histogram2d\":[{\"colorbar\":{\"outlinewidth\":1,\"tickcolor\":\"rgb(36,36,36)\",\"ticks\":\"outside\"},\"colorscale\":[[0.0,\"#440154\"],[0.1111111111111111,\"#482878\"],[0.2222222222222222,\"#3e4989\"],[0.3333333333333333,\"#31688e\"],[0.4444444444444444,\"#26828e\"],[0.5555555555555556,\"#1f9e89\"],[0.6666666666666666,\"#35b779\"],[0.7777777777777778,\"#6ece58\"],[0.8888888888888888,\"#b5de2b\"],[1.0,\"#fde725\"]],\"type\":\"histogram2d\"}],\"histogram\":[{\"marker\":{\"line\":{\"color\":\"white\",\"width\":0.6}},\"type\":\"histogram\"}],\"mesh3d\":[{\"colorbar\":{\"outlinewidth\":1,\"tickcolor\":\"rgb(36,36,36)\",\"ticks\":\"outside\"},\"type\":\"mesh3d\"}],\"parcoords\":[{\"line\":{\"colorbar\":{\"outlinewidth\":1,\"tickcolor\":\"rgb(36,36,36)\",\"ticks\":\"outside\"}},\"type\":\"parcoords\"}],\"pie\":[{\"automargin\":true,\"type\":\"pie\"}],\"scatter3d\":[{\"line\":{\"colorbar\":{\"outlinewidth\":1,\"tickcolor\":\"rgb(36,36,36)\",\"ticks\":\"outside\"}},\"marker\":{\"colorbar\":{\"outlinewidth\":1,\"tickcolor\":\"rgb(36,36,36)\",\"ticks\":\"outside\"}},\"type\":\"scatter3d\"}],\"scattercarpet\":[{\"marker\":{\"colorbar\":{\"outlinewidth\":1,\"tickcolor\":\"rgb(36,36,36)\",\"ticks\":\"outside\"}},\"type\":\"scattercarpet\"}],\"scattergeo\":[{\"marker\":{\"colorbar\":{\"outlinewidth\":1,\"tickcolor\":\"rgb(36,36,36)\",\"ticks\":\"outside\"}},\"type\":\"scattergeo\"}],\"scattergl\":[{\"marker\":{\"colorbar\":{\"outlinewidth\":1,\"tickcolor\":\"rgb(36,36,36)\",\"ticks\":\"outside\"}},\"type\":\"scattergl\"}],\"scattermapbox\":[{\"marker\":{\"colorbar\":{\"outlinewidth\":1,\"tickcolor\":\"rgb(36,36,36)\",\"ticks\":\"outside\"}},\"type\":\"scattermapbox\"}],\"scatterpolargl\":[{\"marker\":{\"colorbar\":{\"outlinewidth\":1,\"tickcolor\":\"rgb(36,36,36)\",\"ticks\":\"outside\"}},\"type\":\"scatterpolargl\"}],\"scatterpolar\":[{\"marker\":{\"colorbar\":{\"outlinewidth\":1,\"tickcolor\":\"rgb(36,36,36)\",\"ticks\":\"outside\"}},\"type\":\"scatterpolar\"}],\"scatter\":[{\"fillpattern\":{\"fillmode\":\"overlay\",\"size\":10,\"solidity\":0.2},\"type\":\"scatter\"}],\"scatterternary\":[{\"marker\":{\"colorbar\":{\"outlinewidth\":1,\"tickcolor\":\"rgb(36,36,36)\",\"ticks\":\"outside\"}},\"type\":\"scatterternary\"}],\"surface\":[{\"colorbar\":{\"outlinewidth\":1,\"tickcolor\":\"rgb(36,36,36)\",\"ticks\":\"outside\"},\"colorscale\":[[0.0,\"#440154\"],[0.1111111111111111,\"#482878\"],[0.2222222222222222,\"#3e4989\"],[0.3333333333333333,\"#31688e\"],[0.4444444444444444,\"#26828e\"],[0.5555555555555556,\"#1f9e89\"],[0.6666666666666666,\"#35b779\"],[0.7777777777777778,\"#6ece58\"],[0.8888888888888888,\"#b5de2b\"],[1.0,\"#fde725\"]],\"type\":\"surface\"}],\"table\":[{\"cells\":{\"fill\":{\"color\":\"rgb(237,237,237)\"},\"line\":{\"color\":\"white\"}},\"header\":{\"fill\":{\"color\":\"rgb(217,217,217)\"},\"line\":{\"color\":\"white\"}},\"type\":\"table\"}]},\"layout\":{\"annotationdefaults\":{\"arrowhead\":0,\"arrowwidth\":1},\"autotypenumbers\":\"strict\",\"coloraxis\":{\"colorbar\":{\"outlinewidth\":1,\"tickcolor\":\"rgb(36,36,36)\",\"ticks\":\"outside\"}},\"colorscale\":{\"diverging\":[[0.0,\"rgb(103,0,31)\"],[0.1,\"rgb(178,24,43)\"],[0.2,\"rgb(214,96,77)\"],[0.3,\"rgb(244,165,130)\"],[0.4,\"rgb(253,219,199)\"],[0.5,\"rgb(247,247,247)\"],[0.6,\"rgb(209,229,240)\"],[0.7,\"rgb(146,197,222)\"],[0.8,\"rgb(67,147,195)\"],[0.9,\"rgb(33,102,172)\"],[1.0,\"rgb(5,48,97)\"]],\"sequential\":[[0.0,\"#440154\"],[0.1111111111111111,\"#482878\"],[0.2222222222222222,\"#3e4989\"],[0.3333333333333333,\"#31688e\"],[0.4444444444444444,\"#26828e\"],[0.5555555555555556,\"#1f9e89\"],[0.6666666666666666,\"#35b779\"],[0.7777777777777778,\"#6ece58\"],[0.8888888888888888,\"#b5de2b\"],[1.0,\"#fde725\"]],\"sequentialminus\":[[0.0,\"#440154\"],[0.1111111111111111,\"#482878\"],[0.2222222222222222,\"#3e4989\"],[0.3333333333333333,\"#31688e\"],[0.4444444444444444,\"#26828e\"],[0.5555555555555556,\"#1f9e89\"],[0.6666666666666666,\"#35b779\"],[0.7777777777777778,\"#6ece58\"],[0.8888888888888888,\"#b5de2b\"],[1.0,\"#fde725\"]]},\"colorway\":[\"#1F77B4\",\"#FF7F0E\",\"#2CA02C\",\"#D62728\",\"#9467BD\",\"#8C564B\",\"#E377C2\",\"#7F7F7F\",\"#BCBD22\",\"#17BECF\"],\"font\":{\"color\":\"rgb(36,36,36)\"},\"geo\":{\"bgcolor\":\"white\",\"lakecolor\":\"white\",\"landcolor\":\"white\",\"showlakes\":true,\"showland\":true,\"subunitcolor\":\"white\"},\"hoverlabel\":{\"align\":\"left\"},\"hovermode\":\"closest\",\"mapbox\":{\"style\":\"light\"},\"paper_bgcolor\":\"white\",\"plot_bgcolor\":\"white\",\"polar\":{\"angularaxis\":{\"gridcolor\":\"rgb(232,232,232)\",\"linecolor\":\"rgb(36,36,36)\",\"showgrid\":false,\"showline\":true,\"ticks\":\"outside\"},\"bgcolor\":\"white\",\"radialaxis\":{\"gridcolor\":\"rgb(232,232,232)\",\"linecolor\":\"rgb(36,36,36)\",\"showgrid\":false,\"showline\":true,\"ticks\":\"outside\"}},\"scene\":{\"xaxis\":{\"backgroundcolor\":\"white\",\"gridcolor\":\"rgb(232,232,232)\",\"gridwidth\":2,\"linecolor\":\"rgb(36,36,36)\",\"showbackground\":true,\"showgrid\":false,\"showline\":true,\"ticks\":\"outside\",\"zeroline\":false,\"zerolinecolor\":\"rgb(36,36,36)\"},\"yaxis\":{\"backgroundcolor\":\"white\",\"gridcolor\":\"rgb(232,232,232)\",\"gridwidth\":2,\"linecolor\":\"rgb(36,36,36)\",\"showbackground\":true,\"showgrid\":false,\"showline\":true,\"ticks\":\"outside\",\"zeroline\":false,\"zerolinecolor\":\"rgb(36,36,36)\"},\"zaxis\":{\"backgroundcolor\":\"white\",\"gridcolor\":\"rgb(232,232,232)\",\"gridwidth\":2,\"linecolor\":\"rgb(36,36,36)\",\"showbackground\":true,\"showgrid\":false,\"showline\":true,\"ticks\":\"outside\",\"zeroline\":false,\"zerolinecolor\":\"rgb(36,36,36)\"}},\"shapedefaults\":{\"fillcolor\":\"black\",\"line\":{\"width\":0},\"opacity\":0.3},\"ternary\":{\"aaxis\":{\"gridcolor\":\"rgb(232,232,232)\",\"linecolor\":\"rgb(36,36,36)\",\"showgrid\":false,\"showline\":true,\"ticks\":\"outside\"},\"baxis\":{\"gridcolor\":\"rgb(232,232,232)\",\"linecolor\":\"rgb(36,36,36)\",\"showgrid\":false,\"showline\":true,\"ticks\":\"outside\"},\"bgcolor\":\"white\",\"caxis\":{\"gridcolor\":\"rgb(232,232,232)\",\"linecolor\":\"rgb(36,36,36)\",\"showgrid\":false,\"showline\":true,\"ticks\":\"outside\"}},\"title\":{\"x\":0.05},\"xaxis\":{\"automargin\":true,\"gridcolor\":\"rgb(232,232,232)\",\"linecolor\":\"rgb(36,36,36)\",\"showgrid\":false,\"showline\":true,\"ticks\":\"outside\",\"title\":{\"standoff\":15},\"zeroline\":false,\"zerolinecolor\":\"rgb(36,36,36)\"},\"yaxis\":{\"automargin\":true,\"gridcolor\":\"rgb(232,232,232)\",\"linecolor\":\"rgb(36,36,36)\",\"showgrid\":false,\"showline\":true,\"ticks\":\"outside\",\"title\":{\"standoff\":15},\"zeroline\":false,\"zerolinecolor\":\"rgb(36,36,36)\"}}},\"xaxis\":{\"anchor\":\"y\",\"domain\":[0.0,1.0],\"title\":{\"text\":\"Layer\"}},\"yaxis\":{\"anchor\":\"x\",\"domain\":[0.0,1.0],\"title\":{\"text\":\"attribution\"}},\"legend\":{\"tracegroupgap\":0},\"title\":{\"text\":\"Direct logit attribution for components of attn_out_1\"},\"barmode\":\"relative\"},                        {\"responsive\": true}                    ).then(function(){\n",
              "                            \n",
              "var gd = document.getElementById('da136806-6a4c-4dac-aabb-2ee291006ea7');\n",
              "var x = new MutationObserver(function (mutations, observer) {{\n",
              "        var display = window.getComputedStyle(gd).display;\n",
              "        if (!display || display === 'none') {{\n",
              "            console.log([gd, 'removed!']);\n",
              "            Plotly.purge(gd);\n",
              "            observer.disconnect();\n",
              "        }}\n",
              "}});\n",
              "\n",
              "// Listen for the removal of the full notebook cells\n",
              "var notebookContainer = gd.closest('#notebook-container');\n",
              "if (notebookContainer) {{\n",
              "    x.observe(notebookContainer, {childList: true});\n",
              "}}\n",
              "\n",
              "// Listen for the clearing of the current output cell\n",
              "var outputEl = gd.closest('.output');\n",
              "if (outputEl) {{\n",
              "    x.observe(outputEl, {childList: true});\n",
              "}}\n",
              "\n",
              "                        })                };                            </script>        </div>\n",
              "</body>\n",
              "</html>"
            ]
          },
          "metadata": {}
        }
      ]
    },
    {
      "cell_type": "markdown",
      "source": [
        "We show that the $A^{1.0}A^{0.0}eW_{OV}^{0.0}W_{OV}^{1.0}$ term is the most important by far, as expected. Note this is pretty great! We had a huge equation with 8 terms, but direct logit attribution allows us to prioritize one path through the model."
      ],
      "metadata": {
        "id": "QNgC5kE-cX0X"
      }
    },
    {
      "cell_type": "markdown",
      "source": [
        "## Virtual attn pattern"
      ],
      "metadata": {
        "id": "qdlq9N1R3faY"
      }
    },
    {
      "cell_type": "markdown",
      "source": [
        "Now that we know that the $A^{1.0}A^{0.0}tW_EW_{OV}^{0.0}W_{OV}^{1.0}W_U$ term explains most of the models behavior, we want to understand $A^{1.0}A^{0.0}$ and $W_EW_{OV}^{0.0}W_{OV}^{1.0}W_U$. Note $A^{1.0}A^{0.0}$ tells us *where* the virtual attn head moves information from, while $W_EW_{OV}^{0.0}W_{OV}^{1.0}W_U$. $A^{1.0}A^{0.0}$ tells us *what* information to move from the src to the logits (given that we've attended to it). Let's tackle the $A^{1.0}A^{0.0}$ term first. We should expect that the virtual attn head effectively just attends to the correct next token."
      ],
      "metadata": {
        "id": "dWTM5YMesFnp"
      }
    },
    {
      "cell_type": "code",
      "source": [
        "for _ in range(3):\n",
        "    r = random.randint(0, test_data.shape[0]-1)\n",
        "    labels = tokens_to_plotly_labels(test_data[r])\n",
        "    imshow(\n",
        "        layer_1_patterns[r, 0, :, :] @ layer_0_patterns[r, 0, :, :],\n",
        "        title=f\"virtual attn pattern A^1.0 @ A^0.0 for example {r}\",\n",
        "        xaxis=\"src\", yaxis=\"dest\",\n",
        "        x=labels, y=labels\n",
        "    )"
      ],
      "metadata": {
        "colab": {
          "base_uri": "https://localhost:8080/",
          "height": 1000
        },
        "id": "4zD1JA0X3uxy",
        "outputId": "858b74c6-579a-41ae-ff1d-0b44ae54a8f5"
      },
      "execution_count": 110,
      "outputs": [
        {
          "output_type": "display_data",
          "data": {
            "text/html": [
              "<html>\n",
              "<head><meta charset=\"utf-8\" /></head>\n",
              "<body>\n",
              "    <div>            <script src=\"https://cdnjs.cloudflare.com/ajax/libs/mathjax/2.7.5/MathJax.js?config=TeX-AMS-MML_SVG\"></script><script type=\"text/javascript\">if (window.MathJax && window.MathJax.Hub && window.MathJax.Hub.Config) {window.MathJax.Hub.Config({SVG: {font: \"STIX-Web\"}});}</script>                <script type=\"text/javascript\">window.PlotlyConfig = {MathJaxConfig: 'local'};</script>\n",
              "        <script src=\"https://cdn.plot.ly/plotly-2.18.2.min.js\"></script>                <div id=\"909d95dc-bdc1-40a5-8635-a956dfda6cc1\" class=\"plotly-graph-div\" style=\"height:525px; width:100%;\"></div>            <script type=\"text/javascript\">                                    window.PLOTLYENV=window.PLOTLYENV || {};                                    if (document.getElementById(\"909d95dc-bdc1-40a5-8635-a956dfda6cc1\")) {                    Plotly.newPlot(                        \"909d95dc-bdc1-40a5-8635-a956dfda6cc1\",                        [{\"coloraxis\":\"coloraxis\",\"name\":\"0\",\"x\":[\"BOS\",\"18_1\",\"3_2\",\"20_3\",\"MID\",\"1_5\",\"0_6\",\"2_7\",\"END\",\"3_9\",\"18_10\",\"20_11\"],\"y\":[\"BOS\",\"18_1\",\"3_2\",\"20_3\",\"MID\",\"1_5\",\"0_6\",\"2_7\",\"END\",\"3_9\",\"18_10\",\"20_11\"],\"z\":[[1.0,0.0,0.0,0.0,0.0,0.0,0.0,0.0,0.0,0.0,0.0,0.0],[0.9965344667434692,0.0034655367489904165,0.0,0.0,0.0,0.0,0.0,0.0,0.0,0.0,0.0,0.0],[0.8580417633056641,0.14086009562015533,0.0010981742525473237,0.0,0.0,0.0,0.0,0.0,0.0,0.0,0.0,0.0],[0.46868032217025757,0.44348058104515076,0.08694417774677277,0.0008949079783633351,0.0,0.0,0.0,0.0,0.0,0.0,0.0,0.0],[0.6319029927253723,0.18884426355361938,0.05174138396978378,0.11400779336690903,0.01350358035415411,0.0,0.0,0.0,0.0,0.0,0.0,0.0],[0.389332115650177,0.3094465136528015,0.0731796845793724,0.2093643993139267,0.01776697114109993,0.0009103716001845896,0.0,0.0,0.0,0.0,0.0,0.0],[0.34407684206962585,0.1538044810295105,0.13865351676940918,0.33312565088272095,0.02380155399441719,0.006402038503438234,0.0001359980524284765,0.0,0.0,0.0,0.0,0.0],[0.20802432298660278,0.5148094892501831,0.11409569531679153,0.062400490045547485,0.04652920365333557,0.038944073021411896,0.015185383148491383,1.1295423064439092e-05,0.0,0.0,0.0,0.0],[0.18501298129558563,0.09191135317087173,0.4750572741031647,0.06351879239082336,0.07367635518312454,0.10854952782392502,0.0017405893886461854,0.0004822135088033974,5.097293615108356e-05,0.0,0.0,0.0],[0.07194054871797562,0.5821924209594727,0.12598571181297302,0.08402221649885178,0.06178298592567444,0.05219731479883194,0.021852383390069008,2.2571251975023188e-05,2.6323100428271573e-06,1.2319497955104453e-06,0.0,0.0],[0.10111267864704132,0.07194662094116211,0.06109360605478287,0.46597081422805786,0.18629717826843262,0.04700520262122154,0.043897636234760284,0.02210995927453041,0.0002621305175125599,0.0002260561886942014,7.815764547558501e-05,0.0],[0.19907523691654205,0.2990032136440277,0.11841697245836258,0.07731100916862488,0.05014057829976082,0.07148107886314392,0.08391539752483368,0.04847589135169983,0.011663652025163174,0.023702610284090042,0.013692735694348812,0.0031216535717248917]],\"type\":\"heatmap\",\"xaxis\":\"x\",\"yaxis\":\"y\",\"hovertemplate\":\"src: %{x}<br>dest: %{y}<br>color: %{z}<extra></extra>\"}],                        {\"template\":{\"data\":{\"histogram2dcontour\":[{\"type\":\"histogram2dcontour\",\"colorbar\":{\"outlinewidth\":0,\"ticks\":\"\"},\"colorscale\":[[0.0,\"#0d0887\"],[0.1111111111111111,\"#46039f\"],[0.2222222222222222,\"#7201a8\"],[0.3333333333333333,\"#9c179e\"],[0.4444444444444444,\"#bd3786\"],[0.5555555555555556,\"#d8576b\"],[0.6666666666666666,\"#ed7953\"],[0.7777777777777778,\"#fb9f3a\"],[0.8888888888888888,\"#fdca26\"],[1.0,\"#f0f921\"]]}],\"choropleth\":[{\"type\":\"choropleth\",\"colorbar\":{\"outlinewidth\":0,\"ticks\":\"\"}}],\"histogram2d\":[{\"type\":\"histogram2d\",\"colorbar\":{\"outlinewidth\":0,\"ticks\":\"\"},\"colorscale\":[[0.0,\"#0d0887\"],[0.1111111111111111,\"#46039f\"],[0.2222222222222222,\"#7201a8\"],[0.3333333333333333,\"#9c179e\"],[0.4444444444444444,\"#bd3786\"],[0.5555555555555556,\"#d8576b\"],[0.6666666666666666,\"#ed7953\"],[0.7777777777777778,\"#fb9f3a\"],[0.8888888888888888,\"#fdca26\"],[1.0,\"#f0f921\"]]}],\"heatmap\":[{\"type\":\"heatmap\",\"colorbar\":{\"outlinewidth\":0,\"ticks\":\"\"},\"colorscale\":[[0.0,\"#0d0887\"],[0.1111111111111111,\"#46039f\"],[0.2222222222222222,\"#7201a8\"],[0.3333333333333333,\"#9c179e\"],[0.4444444444444444,\"#bd3786\"],[0.5555555555555556,\"#d8576b\"],[0.6666666666666666,\"#ed7953\"],[0.7777777777777778,\"#fb9f3a\"],[0.8888888888888888,\"#fdca26\"],[1.0,\"#f0f921\"]]}],\"heatmapgl\":[{\"type\":\"heatmapgl\",\"colorbar\":{\"outlinewidth\":0,\"ticks\":\"\"},\"colorscale\":[[0.0,\"#0d0887\"],[0.1111111111111111,\"#46039f\"],[0.2222222222222222,\"#7201a8\"],[0.3333333333333333,\"#9c179e\"],[0.4444444444444444,\"#bd3786\"],[0.5555555555555556,\"#d8576b\"],[0.6666666666666666,\"#ed7953\"],[0.7777777777777778,\"#fb9f3a\"],[0.8888888888888888,\"#fdca26\"],[1.0,\"#f0f921\"]]}],\"contourcarpet\":[{\"type\":\"contourcarpet\",\"colorbar\":{\"outlinewidth\":0,\"ticks\":\"\"}}],\"contour\":[{\"type\":\"contour\",\"colorbar\":{\"outlinewidth\":0,\"ticks\":\"\"},\"colorscale\":[[0.0,\"#0d0887\"],[0.1111111111111111,\"#46039f\"],[0.2222222222222222,\"#7201a8\"],[0.3333333333333333,\"#9c179e\"],[0.4444444444444444,\"#bd3786\"],[0.5555555555555556,\"#d8576b\"],[0.6666666666666666,\"#ed7953\"],[0.7777777777777778,\"#fb9f3a\"],[0.8888888888888888,\"#fdca26\"],[1.0,\"#f0f921\"]]}],\"surface\":[{\"type\":\"surface\",\"colorbar\":{\"outlinewidth\":0,\"ticks\":\"\"},\"colorscale\":[[0.0,\"#0d0887\"],[0.1111111111111111,\"#46039f\"],[0.2222222222222222,\"#7201a8\"],[0.3333333333333333,\"#9c179e\"],[0.4444444444444444,\"#bd3786\"],[0.5555555555555556,\"#d8576b\"],[0.6666666666666666,\"#ed7953\"],[0.7777777777777778,\"#fb9f3a\"],[0.8888888888888888,\"#fdca26\"],[1.0,\"#f0f921\"]]}],\"mesh3d\":[{\"type\":\"mesh3d\",\"colorbar\":{\"outlinewidth\":0,\"ticks\":\"\"}}],\"scatter\":[{\"fillpattern\":{\"fillmode\":\"overlay\",\"size\":10,\"solidity\":0.2},\"type\":\"scatter\"}],\"parcoords\":[{\"type\":\"parcoords\",\"line\":{\"colorbar\":{\"outlinewidth\":0,\"ticks\":\"\"}}}],\"scatterpolargl\":[{\"type\":\"scatterpolargl\",\"marker\":{\"colorbar\":{\"outlinewidth\":0,\"ticks\":\"\"}}}],\"bar\":[{\"error_x\":{\"color\":\"#2a3f5f\"},\"error_y\":{\"color\":\"#2a3f5f\"},\"marker\":{\"line\":{\"color\":\"#E5ECF6\",\"width\":0.5},\"pattern\":{\"fillmode\":\"overlay\",\"size\":10,\"solidity\":0.2}},\"type\":\"bar\"}],\"scattergeo\":[{\"type\":\"scattergeo\",\"marker\":{\"colorbar\":{\"outlinewidth\":0,\"ticks\":\"\"}}}],\"scatterpolar\":[{\"type\":\"scatterpolar\",\"marker\":{\"colorbar\":{\"outlinewidth\":0,\"ticks\":\"\"}}}],\"histogram\":[{\"marker\":{\"pattern\":{\"fillmode\":\"overlay\",\"size\":10,\"solidity\":0.2}},\"type\":\"histogram\"}],\"scattergl\":[{\"type\":\"scattergl\",\"marker\":{\"colorbar\":{\"outlinewidth\":0,\"ticks\":\"\"}}}],\"scatter3d\":[{\"type\":\"scatter3d\",\"line\":{\"colorbar\":{\"outlinewidth\":0,\"ticks\":\"\"}},\"marker\":{\"colorbar\":{\"outlinewidth\":0,\"ticks\":\"\"}}}],\"scattermapbox\":[{\"type\":\"scattermapbox\",\"marker\":{\"colorbar\":{\"outlinewidth\":0,\"ticks\":\"\"}}}],\"scatterternary\":[{\"type\":\"scatterternary\",\"marker\":{\"colorbar\":{\"outlinewidth\":0,\"ticks\":\"\"}}}],\"scattercarpet\":[{\"type\":\"scattercarpet\",\"marker\":{\"colorbar\":{\"outlinewidth\":0,\"ticks\":\"\"}}}],\"carpet\":[{\"aaxis\":{\"endlinecolor\":\"#2a3f5f\",\"gridcolor\":\"white\",\"linecolor\":\"white\",\"minorgridcolor\":\"white\",\"startlinecolor\":\"#2a3f5f\"},\"baxis\":{\"endlinecolor\":\"#2a3f5f\",\"gridcolor\":\"white\",\"linecolor\":\"white\",\"minorgridcolor\":\"white\",\"startlinecolor\":\"#2a3f5f\"},\"type\":\"carpet\"}],\"table\":[{\"cells\":{\"fill\":{\"color\":\"#EBF0F8\"},\"line\":{\"color\":\"white\"}},\"header\":{\"fill\":{\"color\":\"#C8D4E3\"},\"line\":{\"color\":\"white\"}},\"type\":\"table\"}],\"barpolar\":[{\"marker\":{\"line\":{\"color\":\"#E5ECF6\",\"width\":0.5},\"pattern\":{\"fillmode\":\"overlay\",\"size\":10,\"solidity\":0.2}},\"type\":\"barpolar\"}],\"pie\":[{\"automargin\":true,\"type\":\"pie\"}]},\"layout\":{\"autotypenumbers\":\"strict\",\"colorway\":[\"#636efa\",\"#EF553B\",\"#00cc96\",\"#ab63fa\",\"#FFA15A\",\"#19d3f3\",\"#FF6692\",\"#B6E880\",\"#FF97FF\",\"#FECB52\"],\"font\":{\"color\":\"#2a3f5f\"},\"hovermode\":\"closest\",\"hoverlabel\":{\"align\":\"left\"},\"paper_bgcolor\":\"white\",\"plot_bgcolor\":\"#E5ECF6\",\"polar\":{\"bgcolor\":\"#E5ECF6\",\"angularaxis\":{\"gridcolor\":\"white\",\"linecolor\":\"white\",\"ticks\":\"\"},\"radialaxis\":{\"gridcolor\":\"white\",\"linecolor\":\"white\",\"ticks\":\"\"}},\"ternary\":{\"bgcolor\":\"#E5ECF6\",\"aaxis\":{\"gridcolor\":\"white\",\"linecolor\":\"white\",\"ticks\":\"\"},\"baxis\":{\"gridcolor\":\"white\",\"linecolor\":\"white\",\"ticks\":\"\"},\"caxis\":{\"gridcolor\":\"white\",\"linecolor\":\"white\",\"ticks\":\"\"}},\"coloraxis\":{\"colorbar\":{\"outlinewidth\":0,\"ticks\":\"\"}},\"colorscale\":{\"sequential\":[[0.0,\"#0d0887\"],[0.1111111111111111,\"#46039f\"],[0.2222222222222222,\"#7201a8\"],[0.3333333333333333,\"#9c179e\"],[0.4444444444444444,\"#bd3786\"],[0.5555555555555556,\"#d8576b\"],[0.6666666666666666,\"#ed7953\"],[0.7777777777777778,\"#fb9f3a\"],[0.8888888888888888,\"#fdca26\"],[1.0,\"#f0f921\"]],\"sequentialminus\":[[0.0,\"#0d0887\"],[0.1111111111111111,\"#46039f\"],[0.2222222222222222,\"#7201a8\"],[0.3333333333333333,\"#9c179e\"],[0.4444444444444444,\"#bd3786\"],[0.5555555555555556,\"#d8576b\"],[0.6666666666666666,\"#ed7953\"],[0.7777777777777778,\"#fb9f3a\"],[0.8888888888888888,\"#fdca26\"],[1.0,\"#f0f921\"]],\"diverging\":[[0,\"#8e0152\"],[0.1,\"#c51b7d\"],[0.2,\"#de77ae\"],[0.3,\"#f1b6da\"],[0.4,\"#fde0ef\"],[0.5,\"#f7f7f7\"],[0.6,\"#e6f5d0\"],[0.7,\"#b8e186\"],[0.8,\"#7fbc41\"],[0.9,\"#4d9221\"],[1,\"#276419\"]]},\"xaxis\":{\"gridcolor\":\"white\",\"linecolor\":\"white\",\"ticks\":\"\",\"title\":{\"standoff\":15},\"zerolinecolor\":\"white\",\"automargin\":true,\"zerolinewidth\":2},\"yaxis\":{\"gridcolor\":\"white\",\"linecolor\":\"white\",\"ticks\":\"\",\"title\":{\"standoff\":15},\"zerolinecolor\":\"white\",\"automargin\":true,\"zerolinewidth\":2},\"scene\":{\"xaxis\":{\"backgroundcolor\":\"#E5ECF6\",\"gridcolor\":\"white\",\"linecolor\":\"white\",\"showbackground\":true,\"ticks\":\"\",\"zerolinecolor\":\"white\",\"gridwidth\":2},\"yaxis\":{\"backgroundcolor\":\"#E5ECF6\",\"gridcolor\":\"white\",\"linecolor\":\"white\",\"showbackground\":true,\"ticks\":\"\",\"zerolinecolor\":\"white\",\"gridwidth\":2},\"zaxis\":{\"backgroundcolor\":\"#E5ECF6\",\"gridcolor\":\"white\",\"linecolor\":\"white\",\"showbackground\":true,\"ticks\":\"\",\"zerolinecolor\":\"white\",\"gridwidth\":2}},\"shapedefaults\":{\"line\":{\"color\":\"#2a3f5f\"}},\"annotationdefaults\":{\"arrowcolor\":\"#2a3f5f\",\"arrowhead\":0,\"arrowwidth\":1},\"geo\":{\"bgcolor\":\"white\",\"landcolor\":\"#E5ECF6\",\"subunitcolor\":\"white\",\"showland\":true,\"showlakes\":true,\"lakecolor\":\"white\"},\"title\":{\"x\":0.05},\"mapbox\":{\"style\":\"light\"}}},\"xaxis\":{\"anchor\":\"y\",\"domain\":[0.0,1.0],\"scaleanchor\":\"y\",\"constrain\":\"domain\",\"title\":{\"text\":\"src\"}},\"yaxis\":{\"anchor\":\"x\",\"domain\":[0.0,1.0],\"autorange\":\"reversed\",\"constrain\":\"domain\",\"title\":{\"text\":\"dest\"}},\"coloraxis\":{\"colorscale\":[[0.0,\"rgb(103,0,31)\"],[0.1,\"rgb(178,24,43)\"],[0.2,\"rgb(214,96,77)\"],[0.3,\"rgb(244,165,130)\"],[0.4,\"rgb(253,219,199)\"],[0.5,\"rgb(247,247,247)\"],[0.6,\"rgb(209,229,240)\"],[0.7,\"rgb(146,197,222)\"],[0.8,\"rgb(67,147,195)\"],[0.9,\"rgb(33,102,172)\"],[1.0,\"rgb(5,48,97)\"]],\"cmid\":0.0},\"title\":{\"text\":\"virtual attn pattern A^1.0 @ A^0.0 for example 132\"}},                        {\"responsive\": true}                    ).then(function(){\n",
              "                            \n",
              "var gd = document.getElementById('909d95dc-bdc1-40a5-8635-a956dfda6cc1');\n",
              "var x = new MutationObserver(function (mutations, observer) {{\n",
              "        var display = window.getComputedStyle(gd).display;\n",
              "        if (!display || display === 'none') {{\n",
              "            console.log([gd, 'removed!']);\n",
              "            Plotly.purge(gd);\n",
              "            observer.disconnect();\n",
              "        }}\n",
              "}});\n",
              "\n",
              "// Listen for the removal of the full notebook cells\n",
              "var notebookContainer = gd.closest('#notebook-container');\n",
              "if (notebookContainer) {{\n",
              "    x.observe(notebookContainer, {childList: true});\n",
              "}}\n",
              "\n",
              "// Listen for the clearing of the current output cell\n",
              "var outputEl = gd.closest('.output');\n",
              "if (outputEl) {{\n",
              "    x.observe(outputEl, {childList: true});\n",
              "}}\n",
              "\n",
              "                        })                };                            </script>        </div>\n",
              "</body>\n",
              "</html>"
            ]
          },
          "metadata": {}
        },
        {
          "output_type": "display_data",
          "data": {
            "text/html": [
              "<html>\n",
              "<head><meta charset=\"utf-8\" /></head>\n",
              "<body>\n",
              "    <div>            <script src=\"https://cdnjs.cloudflare.com/ajax/libs/mathjax/2.7.5/MathJax.js?config=TeX-AMS-MML_SVG\"></script><script type=\"text/javascript\">if (window.MathJax && window.MathJax.Hub && window.MathJax.Hub.Config) {window.MathJax.Hub.Config({SVG: {font: \"STIX-Web\"}});}</script>                <script type=\"text/javascript\">window.PlotlyConfig = {MathJaxConfig: 'local'};</script>\n",
              "        <script src=\"https://cdn.plot.ly/plotly-2.18.2.min.js\"></script>                <div id=\"85523094-6335-4851-ae3a-202fd2f79728\" class=\"plotly-graph-div\" style=\"height:525px; width:100%;\"></div>            <script type=\"text/javascript\">                                    window.PLOTLYENV=window.PLOTLYENV || {};                                    if (document.getElementById(\"85523094-6335-4851-ae3a-202fd2f79728\")) {                    Plotly.newPlot(                        \"85523094-6335-4851-ae3a-202fd2f79728\",                        [{\"coloraxis\":\"coloraxis\",\"name\":\"0\",\"x\":[\"BOS\",\"28_1\",\"24_2\",\"3_3\",\"MID\",\"0_5\",\"2_6\",\"1_7\",\"END\",\"28_9\",\"3_10\",\"24_11\"],\"y\":[\"BOS\",\"28_1\",\"24_2\",\"3_3\",\"MID\",\"0_5\",\"2_6\",\"1_7\",\"END\",\"28_9\",\"3_10\",\"24_11\"],\"z\":[[1.0,0.0,0.0,0.0,0.0,0.0,0.0,0.0,0.0,0.0,0.0,0.0],[0.9931812882423401,0.0068187708966434,0.0,0.0,0.0,0.0,0.0,0.0,0.0,0.0,0.0,0.0],[0.9181033372879028,0.08125770837068558,0.0006389720365405083,0.0,0.0,0.0,0.0,0.0,0.0,0.0,0.0,0.0],[0.4372643530368805,0.19755108654499054,0.363639771938324,0.001544840750284493,0.0,0.0,0.0,0.0,0.0,0.0,0.0,0.0],[0.8392466306686401,0.08356140553951263,0.03627297654747963,0.03331321105360985,0.007605720777064562,0.0,0.0,0.0,0.0,0.0,0.0,0.0],[0.5758694410324097,0.13200552761554718,0.1306617110967636,0.13502885401248932,0.024298792704939842,0.0021356251090765,0.0,0.0,0.0,0.0,0.0,0.0],[0.33735284209251404,0.27693891525268555,0.33714666962623596,0.021635666489601135,0.01769077032804489,0.009218561463057995,1.6644589777570218e-05,0.0,0.0,0.0,0.0,0.0],[0.616757869720459,0.16904319822788239,0.04171952232718468,0.1419423669576645,0.01899973675608635,0.008895677514374256,0.0025074509903788567,0.00013412446423899382,0.0,0.0,0.0,0.0],[0.29798591136932373,0.45713087916374207,0.07057417929172516,0.057306136935949326,0.04426554962992668,0.060502782464027405,0.0067848702892661095,0.005069325212389231,0.00038046357803978026,0.0,0.0,0.0],[0.13891254365444183,0.0784430056810379,0.07141881436109543,0.538697361946106,0.11721155047416687,0.026939358562231064,0.02801184542477131,0.00030817638617008924,3.397455657250248e-05,2.3404121748171747e-05,0.0,0.0],[0.11775094270706177,0.1290494203567505,0.47829365730285645,0.05720287188887596,0.09054835885763168,0.045581918209791183,0.05049658939242363,0.029008781537413597,0.001129140960983932,0.0007159295491874218,0.00022247451124712825,0.0],[0.35166817903518677,0.1100231483578682,0.09630943834781647,0.12821517884731293,0.041841574013233185,0.06521302461624146,0.07490764558315277,0.07769232988357544,0.013901183381676674,0.023377345874905586,0.012996235862374306,0.0038546714931726456]],\"type\":\"heatmap\",\"xaxis\":\"x\",\"yaxis\":\"y\",\"hovertemplate\":\"src: %{x}<br>dest: %{y}<br>color: %{z}<extra></extra>\"}],                        {\"template\":{\"data\":{\"histogram2dcontour\":[{\"type\":\"histogram2dcontour\",\"colorbar\":{\"outlinewidth\":0,\"ticks\":\"\"},\"colorscale\":[[0.0,\"#0d0887\"],[0.1111111111111111,\"#46039f\"],[0.2222222222222222,\"#7201a8\"],[0.3333333333333333,\"#9c179e\"],[0.4444444444444444,\"#bd3786\"],[0.5555555555555556,\"#d8576b\"],[0.6666666666666666,\"#ed7953\"],[0.7777777777777778,\"#fb9f3a\"],[0.8888888888888888,\"#fdca26\"],[1.0,\"#f0f921\"]]}],\"choropleth\":[{\"type\":\"choropleth\",\"colorbar\":{\"outlinewidth\":0,\"ticks\":\"\"}}],\"histogram2d\":[{\"type\":\"histogram2d\",\"colorbar\":{\"outlinewidth\":0,\"ticks\":\"\"},\"colorscale\":[[0.0,\"#0d0887\"],[0.1111111111111111,\"#46039f\"],[0.2222222222222222,\"#7201a8\"],[0.3333333333333333,\"#9c179e\"],[0.4444444444444444,\"#bd3786\"],[0.5555555555555556,\"#d8576b\"],[0.6666666666666666,\"#ed7953\"],[0.7777777777777778,\"#fb9f3a\"],[0.8888888888888888,\"#fdca26\"],[1.0,\"#f0f921\"]]}],\"heatmap\":[{\"type\":\"heatmap\",\"colorbar\":{\"outlinewidth\":0,\"ticks\":\"\"},\"colorscale\":[[0.0,\"#0d0887\"],[0.1111111111111111,\"#46039f\"],[0.2222222222222222,\"#7201a8\"],[0.3333333333333333,\"#9c179e\"],[0.4444444444444444,\"#bd3786\"],[0.5555555555555556,\"#d8576b\"],[0.6666666666666666,\"#ed7953\"],[0.7777777777777778,\"#fb9f3a\"],[0.8888888888888888,\"#fdca26\"],[1.0,\"#f0f921\"]]}],\"heatmapgl\":[{\"type\":\"heatmapgl\",\"colorbar\":{\"outlinewidth\":0,\"ticks\":\"\"},\"colorscale\":[[0.0,\"#0d0887\"],[0.1111111111111111,\"#46039f\"],[0.2222222222222222,\"#7201a8\"],[0.3333333333333333,\"#9c179e\"],[0.4444444444444444,\"#bd3786\"],[0.5555555555555556,\"#d8576b\"],[0.6666666666666666,\"#ed7953\"],[0.7777777777777778,\"#fb9f3a\"],[0.8888888888888888,\"#fdca26\"],[1.0,\"#f0f921\"]]}],\"contourcarpet\":[{\"type\":\"contourcarpet\",\"colorbar\":{\"outlinewidth\":0,\"ticks\":\"\"}}],\"contour\":[{\"type\":\"contour\",\"colorbar\":{\"outlinewidth\":0,\"ticks\":\"\"},\"colorscale\":[[0.0,\"#0d0887\"],[0.1111111111111111,\"#46039f\"],[0.2222222222222222,\"#7201a8\"],[0.3333333333333333,\"#9c179e\"],[0.4444444444444444,\"#bd3786\"],[0.5555555555555556,\"#d8576b\"],[0.6666666666666666,\"#ed7953\"],[0.7777777777777778,\"#fb9f3a\"],[0.8888888888888888,\"#fdca26\"],[1.0,\"#f0f921\"]]}],\"surface\":[{\"type\":\"surface\",\"colorbar\":{\"outlinewidth\":0,\"ticks\":\"\"},\"colorscale\":[[0.0,\"#0d0887\"],[0.1111111111111111,\"#46039f\"],[0.2222222222222222,\"#7201a8\"],[0.3333333333333333,\"#9c179e\"],[0.4444444444444444,\"#bd3786\"],[0.5555555555555556,\"#d8576b\"],[0.6666666666666666,\"#ed7953\"],[0.7777777777777778,\"#fb9f3a\"],[0.8888888888888888,\"#fdca26\"],[1.0,\"#f0f921\"]]}],\"mesh3d\":[{\"type\":\"mesh3d\",\"colorbar\":{\"outlinewidth\":0,\"ticks\":\"\"}}],\"scatter\":[{\"fillpattern\":{\"fillmode\":\"overlay\",\"size\":10,\"solidity\":0.2},\"type\":\"scatter\"}],\"parcoords\":[{\"type\":\"parcoords\",\"line\":{\"colorbar\":{\"outlinewidth\":0,\"ticks\":\"\"}}}],\"scatterpolargl\":[{\"type\":\"scatterpolargl\",\"marker\":{\"colorbar\":{\"outlinewidth\":0,\"ticks\":\"\"}}}],\"bar\":[{\"error_x\":{\"color\":\"#2a3f5f\"},\"error_y\":{\"color\":\"#2a3f5f\"},\"marker\":{\"line\":{\"color\":\"#E5ECF6\",\"width\":0.5},\"pattern\":{\"fillmode\":\"overlay\",\"size\":10,\"solidity\":0.2}},\"type\":\"bar\"}],\"scattergeo\":[{\"type\":\"scattergeo\",\"marker\":{\"colorbar\":{\"outlinewidth\":0,\"ticks\":\"\"}}}],\"scatterpolar\":[{\"type\":\"scatterpolar\",\"marker\":{\"colorbar\":{\"outlinewidth\":0,\"ticks\":\"\"}}}],\"histogram\":[{\"marker\":{\"pattern\":{\"fillmode\":\"overlay\",\"size\":10,\"solidity\":0.2}},\"type\":\"histogram\"}],\"scattergl\":[{\"type\":\"scattergl\",\"marker\":{\"colorbar\":{\"outlinewidth\":0,\"ticks\":\"\"}}}],\"scatter3d\":[{\"type\":\"scatter3d\",\"line\":{\"colorbar\":{\"outlinewidth\":0,\"ticks\":\"\"}},\"marker\":{\"colorbar\":{\"outlinewidth\":0,\"ticks\":\"\"}}}],\"scattermapbox\":[{\"type\":\"scattermapbox\",\"marker\":{\"colorbar\":{\"outlinewidth\":0,\"ticks\":\"\"}}}],\"scatterternary\":[{\"type\":\"scatterternary\",\"marker\":{\"colorbar\":{\"outlinewidth\":0,\"ticks\":\"\"}}}],\"scattercarpet\":[{\"type\":\"scattercarpet\",\"marker\":{\"colorbar\":{\"outlinewidth\":0,\"ticks\":\"\"}}}],\"carpet\":[{\"aaxis\":{\"endlinecolor\":\"#2a3f5f\",\"gridcolor\":\"white\",\"linecolor\":\"white\",\"minorgridcolor\":\"white\",\"startlinecolor\":\"#2a3f5f\"},\"baxis\":{\"endlinecolor\":\"#2a3f5f\",\"gridcolor\":\"white\",\"linecolor\":\"white\",\"minorgridcolor\":\"white\",\"startlinecolor\":\"#2a3f5f\"},\"type\":\"carpet\"}],\"table\":[{\"cells\":{\"fill\":{\"color\":\"#EBF0F8\"},\"line\":{\"color\":\"white\"}},\"header\":{\"fill\":{\"color\":\"#C8D4E3\"},\"line\":{\"color\":\"white\"}},\"type\":\"table\"}],\"barpolar\":[{\"marker\":{\"line\":{\"color\":\"#E5ECF6\",\"width\":0.5},\"pattern\":{\"fillmode\":\"overlay\",\"size\":10,\"solidity\":0.2}},\"type\":\"barpolar\"}],\"pie\":[{\"automargin\":true,\"type\":\"pie\"}]},\"layout\":{\"autotypenumbers\":\"strict\",\"colorway\":[\"#636efa\",\"#EF553B\",\"#00cc96\",\"#ab63fa\",\"#FFA15A\",\"#19d3f3\",\"#FF6692\",\"#B6E880\",\"#FF97FF\",\"#FECB52\"],\"font\":{\"color\":\"#2a3f5f\"},\"hovermode\":\"closest\",\"hoverlabel\":{\"align\":\"left\"},\"paper_bgcolor\":\"white\",\"plot_bgcolor\":\"#E5ECF6\",\"polar\":{\"bgcolor\":\"#E5ECF6\",\"angularaxis\":{\"gridcolor\":\"white\",\"linecolor\":\"white\",\"ticks\":\"\"},\"radialaxis\":{\"gridcolor\":\"white\",\"linecolor\":\"white\",\"ticks\":\"\"}},\"ternary\":{\"bgcolor\":\"#E5ECF6\",\"aaxis\":{\"gridcolor\":\"white\",\"linecolor\":\"white\",\"ticks\":\"\"},\"baxis\":{\"gridcolor\":\"white\",\"linecolor\":\"white\",\"ticks\":\"\"},\"caxis\":{\"gridcolor\":\"white\",\"linecolor\":\"white\",\"ticks\":\"\"}},\"coloraxis\":{\"colorbar\":{\"outlinewidth\":0,\"ticks\":\"\"}},\"colorscale\":{\"sequential\":[[0.0,\"#0d0887\"],[0.1111111111111111,\"#46039f\"],[0.2222222222222222,\"#7201a8\"],[0.3333333333333333,\"#9c179e\"],[0.4444444444444444,\"#bd3786\"],[0.5555555555555556,\"#d8576b\"],[0.6666666666666666,\"#ed7953\"],[0.7777777777777778,\"#fb9f3a\"],[0.8888888888888888,\"#fdca26\"],[1.0,\"#f0f921\"]],\"sequentialminus\":[[0.0,\"#0d0887\"],[0.1111111111111111,\"#46039f\"],[0.2222222222222222,\"#7201a8\"],[0.3333333333333333,\"#9c179e\"],[0.4444444444444444,\"#bd3786\"],[0.5555555555555556,\"#d8576b\"],[0.6666666666666666,\"#ed7953\"],[0.7777777777777778,\"#fb9f3a\"],[0.8888888888888888,\"#fdca26\"],[1.0,\"#f0f921\"]],\"diverging\":[[0,\"#8e0152\"],[0.1,\"#c51b7d\"],[0.2,\"#de77ae\"],[0.3,\"#f1b6da\"],[0.4,\"#fde0ef\"],[0.5,\"#f7f7f7\"],[0.6,\"#e6f5d0\"],[0.7,\"#b8e186\"],[0.8,\"#7fbc41\"],[0.9,\"#4d9221\"],[1,\"#276419\"]]},\"xaxis\":{\"gridcolor\":\"white\",\"linecolor\":\"white\",\"ticks\":\"\",\"title\":{\"standoff\":15},\"zerolinecolor\":\"white\",\"automargin\":true,\"zerolinewidth\":2},\"yaxis\":{\"gridcolor\":\"white\",\"linecolor\":\"white\",\"ticks\":\"\",\"title\":{\"standoff\":15},\"zerolinecolor\":\"white\",\"automargin\":true,\"zerolinewidth\":2},\"scene\":{\"xaxis\":{\"backgroundcolor\":\"#E5ECF6\",\"gridcolor\":\"white\",\"linecolor\":\"white\",\"showbackground\":true,\"ticks\":\"\",\"zerolinecolor\":\"white\",\"gridwidth\":2},\"yaxis\":{\"backgroundcolor\":\"#E5ECF6\",\"gridcolor\":\"white\",\"linecolor\":\"white\",\"showbackground\":true,\"ticks\":\"\",\"zerolinecolor\":\"white\",\"gridwidth\":2},\"zaxis\":{\"backgroundcolor\":\"#E5ECF6\",\"gridcolor\":\"white\",\"linecolor\":\"white\",\"showbackground\":true,\"ticks\":\"\",\"zerolinecolor\":\"white\",\"gridwidth\":2}},\"shapedefaults\":{\"line\":{\"color\":\"#2a3f5f\"}},\"annotationdefaults\":{\"arrowcolor\":\"#2a3f5f\",\"arrowhead\":0,\"arrowwidth\":1},\"geo\":{\"bgcolor\":\"white\",\"landcolor\":\"#E5ECF6\",\"subunitcolor\":\"white\",\"showland\":true,\"showlakes\":true,\"lakecolor\":\"white\"},\"title\":{\"x\":0.05},\"mapbox\":{\"style\":\"light\"}}},\"xaxis\":{\"anchor\":\"y\",\"domain\":[0.0,1.0],\"scaleanchor\":\"y\",\"constrain\":\"domain\",\"title\":{\"text\":\"src\"}},\"yaxis\":{\"anchor\":\"x\",\"domain\":[0.0,1.0],\"autorange\":\"reversed\",\"constrain\":\"domain\",\"title\":{\"text\":\"dest\"}},\"coloraxis\":{\"colorscale\":[[0.0,\"rgb(103,0,31)\"],[0.1,\"rgb(178,24,43)\"],[0.2,\"rgb(214,96,77)\"],[0.3,\"rgb(244,165,130)\"],[0.4,\"rgb(253,219,199)\"],[0.5,\"rgb(247,247,247)\"],[0.6,\"rgb(209,229,240)\"],[0.7,\"rgb(146,197,222)\"],[0.8,\"rgb(67,147,195)\"],[0.9,\"rgb(33,102,172)\"],[1.0,\"rgb(5,48,97)\"]],\"cmid\":0.0},\"title\":{\"text\":\"virtual attn pattern A^1.0 @ A^0.0 for example 248\"}},                        {\"responsive\": true}                    ).then(function(){\n",
              "                            \n",
              "var gd = document.getElementById('85523094-6335-4851-ae3a-202fd2f79728');\n",
              "var x = new MutationObserver(function (mutations, observer) {{\n",
              "        var display = window.getComputedStyle(gd).display;\n",
              "        if (!display || display === 'none') {{\n",
              "            console.log([gd, 'removed!']);\n",
              "            Plotly.purge(gd);\n",
              "            observer.disconnect();\n",
              "        }}\n",
              "}});\n",
              "\n",
              "// Listen for the removal of the full notebook cells\n",
              "var notebookContainer = gd.closest('#notebook-container');\n",
              "if (notebookContainer) {{\n",
              "    x.observe(notebookContainer, {childList: true});\n",
              "}}\n",
              "\n",
              "// Listen for the clearing of the current output cell\n",
              "var outputEl = gd.closest('.output');\n",
              "if (outputEl) {{\n",
              "    x.observe(outputEl, {childList: true});\n",
              "}}\n",
              "\n",
              "                        })                };                            </script>        </div>\n",
              "</body>\n",
              "</html>"
            ]
          },
          "metadata": {}
        },
        {
          "output_type": "display_data",
          "data": {
            "text/html": [
              "<html>\n",
              "<head><meta charset=\"utf-8\" /></head>\n",
              "<body>\n",
              "    <div>            <script src=\"https://cdnjs.cloudflare.com/ajax/libs/mathjax/2.7.5/MathJax.js?config=TeX-AMS-MML_SVG\"></script><script type=\"text/javascript\">if (window.MathJax && window.MathJax.Hub && window.MathJax.Hub.Config) {window.MathJax.Hub.Config({SVG: {font: \"STIX-Web\"}});}</script>                <script type=\"text/javascript\">window.PlotlyConfig = {MathJaxConfig: 'local'};</script>\n",
              "        <script src=\"https://cdn.plot.ly/plotly-2.18.2.min.js\"></script>                <div id=\"e4770590-2e5a-4433-99b9-70b4927998a6\" class=\"plotly-graph-div\" style=\"height:525px; width:100%;\"></div>            <script type=\"text/javascript\">                                    window.PLOTLYENV=window.PLOTLYENV || {};                                    if (document.getElementById(\"e4770590-2e5a-4433-99b9-70b4927998a6\")) {                    Plotly.newPlot(                        \"e4770590-2e5a-4433-99b9-70b4927998a6\",                        [{\"coloraxis\":\"coloraxis\",\"name\":\"0\",\"x\":[\"BOS\",\"22_1\",\"25_2\",\"25_3\",\"MID\",\"0_5\",\"1_6\",\"2_7\",\"END\",\"22_9\",\"25_10\",\"25_11\"],\"y\":[\"BOS\",\"22_1\",\"25_2\",\"25_3\",\"MID\",\"0_5\",\"1_6\",\"2_7\",\"END\",\"22_9\",\"25_10\",\"25_11\"],\"z\":[[1.0,0.0,0.0,0.0,0.0,0.0,0.0,0.0,0.0,0.0,0.0,0.0],[0.9964508414268494,0.0035491492599248886,0.0,0.0,0.0,0.0,0.0,0.0,0.0,0.0,0.0,0.0],[0.8000739812850952,0.19946607947349548,0.00046001363079994917,0.0,0.0,0.0,0.0,0.0,0.0,0.0,0.0,0.0],[0.8128897547721863,0.18563564121723175,0.0008217401336878538,0.0006529352976940572,0.0,0.0,0.0,0.0,0.0,0.0,0.0,0.0],[0.9115795493125916,0.07209555059671402,0.007898559793829918,0.005744138732552528,0.0026822478976100683,0.0,0.0,0.0,0.0,0.0,0.0,0.0],[0.7748276591300964,0.0774606391787529,0.08602380007505417,0.04560600966215134,0.01359216682612896,0.0024897116236388683,0.0,0.0,0.0,0.0,0.0,0.0],[0.5771961808204651,0.37290215492248535,0.019596470519900322,0.014150826260447502,0.009655017405748367,0.006492507643997669,6.934950761205982e-06,0.0,0.0,0.0,0.0,0.0],[0.8148977160453796,0.13996842503547668,0.01597968488931656,0.011206381022930145,0.008037016727030277,0.009811483323574066,8.207454084185883e-05,1.7207501514349133e-05,0.0,0.0,0.0,0.0],[0.25226444005966187,0.4936869740486145,0.08481483161449432,0.05971747264266014,0.043585192412137985,0.060959696769714355,0.0036200368776917458,0.001214397489093244,0.0001368797675240785,0.0,0.0,0.0],[0.0686119794845581,0.14015521109104156,0.5615207552909851,0.07092811167240143,0.08455078303813934,0.04206182807683945,0.029930301010608673,0.0019077203469350934,0.00019495884771458805,0.00013835515710525215,0.0,0.0],[0.15264108777046204,0.08223196119070053,0.09211467206478119,0.3741038739681244,0.15184499323368073,0.04430732876062393,0.06139180809259415,0.03654680773615837,0.002402455313131213,0.001814905903302133,0.0006000458961352706,0.0],[0.4610777199268341,0.13736335933208466,0.04343815892934799,0.02768598310649395,0.02100178226828575,0.08966490626335144,0.04909178614616394,0.1298481822013855,0.01575450785458088,0.01713099516928196,0.006309026852250099,0.0016334919491782784]],\"type\":\"heatmap\",\"xaxis\":\"x\",\"yaxis\":\"y\",\"hovertemplate\":\"src: %{x}<br>dest: %{y}<br>color: %{z}<extra></extra>\"}],                        {\"template\":{\"data\":{\"histogram2dcontour\":[{\"type\":\"histogram2dcontour\",\"colorbar\":{\"outlinewidth\":0,\"ticks\":\"\"},\"colorscale\":[[0.0,\"#0d0887\"],[0.1111111111111111,\"#46039f\"],[0.2222222222222222,\"#7201a8\"],[0.3333333333333333,\"#9c179e\"],[0.4444444444444444,\"#bd3786\"],[0.5555555555555556,\"#d8576b\"],[0.6666666666666666,\"#ed7953\"],[0.7777777777777778,\"#fb9f3a\"],[0.8888888888888888,\"#fdca26\"],[1.0,\"#f0f921\"]]}],\"choropleth\":[{\"type\":\"choropleth\",\"colorbar\":{\"outlinewidth\":0,\"ticks\":\"\"}}],\"histogram2d\":[{\"type\":\"histogram2d\",\"colorbar\":{\"outlinewidth\":0,\"ticks\":\"\"},\"colorscale\":[[0.0,\"#0d0887\"],[0.1111111111111111,\"#46039f\"],[0.2222222222222222,\"#7201a8\"],[0.3333333333333333,\"#9c179e\"],[0.4444444444444444,\"#bd3786\"],[0.5555555555555556,\"#d8576b\"],[0.6666666666666666,\"#ed7953\"],[0.7777777777777778,\"#fb9f3a\"],[0.8888888888888888,\"#fdca26\"],[1.0,\"#f0f921\"]]}],\"heatmap\":[{\"type\":\"heatmap\",\"colorbar\":{\"outlinewidth\":0,\"ticks\":\"\"},\"colorscale\":[[0.0,\"#0d0887\"],[0.1111111111111111,\"#46039f\"],[0.2222222222222222,\"#7201a8\"],[0.3333333333333333,\"#9c179e\"],[0.4444444444444444,\"#bd3786\"],[0.5555555555555556,\"#d8576b\"],[0.6666666666666666,\"#ed7953\"],[0.7777777777777778,\"#fb9f3a\"],[0.8888888888888888,\"#fdca26\"],[1.0,\"#f0f921\"]]}],\"heatmapgl\":[{\"type\":\"heatmapgl\",\"colorbar\":{\"outlinewidth\":0,\"ticks\":\"\"},\"colorscale\":[[0.0,\"#0d0887\"],[0.1111111111111111,\"#46039f\"],[0.2222222222222222,\"#7201a8\"],[0.3333333333333333,\"#9c179e\"],[0.4444444444444444,\"#bd3786\"],[0.5555555555555556,\"#d8576b\"],[0.6666666666666666,\"#ed7953\"],[0.7777777777777778,\"#fb9f3a\"],[0.8888888888888888,\"#fdca26\"],[1.0,\"#f0f921\"]]}],\"contourcarpet\":[{\"type\":\"contourcarpet\",\"colorbar\":{\"outlinewidth\":0,\"ticks\":\"\"}}],\"contour\":[{\"type\":\"contour\",\"colorbar\":{\"outlinewidth\":0,\"ticks\":\"\"},\"colorscale\":[[0.0,\"#0d0887\"],[0.1111111111111111,\"#46039f\"],[0.2222222222222222,\"#7201a8\"],[0.3333333333333333,\"#9c179e\"],[0.4444444444444444,\"#bd3786\"],[0.5555555555555556,\"#d8576b\"],[0.6666666666666666,\"#ed7953\"],[0.7777777777777778,\"#fb9f3a\"],[0.8888888888888888,\"#fdca26\"],[1.0,\"#f0f921\"]]}],\"surface\":[{\"type\":\"surface\",\"colorbar\":{\"outlinewidth\":0,\"ticks\":\"\"},\"colorscale\":[[0.0,\"#0d0887\"],[0.1111111111111111,\"#46039f\"],[0.2222222222222222,\"#7201a8\"],[0.3333333333333333,\"#9c179e\"],[0.4444444444444444,\"#bd3786\"],[0.5555555555555556,\"#d8576b\"],[0.6666666666666666,\"#ed7953\"],[0.7777777777777778,\"#fb9f3a\"],[0.8888888888888888,\"#fdca26\"],[1.0,\"#f0f921\"]]}],\"mesh3d\":[{\"type\":\"mesh3d\",\"colorbar\":{\"outlinewidth\":0,\"ticks\":\"\"}}],\"scatter\":[{\"fillpattern\":{\"fillmode\":\"overlay\",\"size\":10,\"solidity\":0.2},\"type\":\"scatter\"}],\"parcoords\":[{\"type\":\"parcoords\",\"line\":{\"colorbar\":{\"outlinewidth\":0,\"ticks\":\"\"}}}],\"scatterpolargl\":[{\"type\":\"scatterpolargl\",\"marker\":{\"colorbar\":{\"outlinewidth\":0,\"ticks\":\"\"}}}],\"bar\":[{\"error_x\":{\"color\":\"#2a3f5f\"},\"error_y\":{\"color\":\"#2a3f5f\"},\"marker\":{\"line\":{\"color\":\"#E5ECF6\",\"width\":0.5},\"pattern\":{\"fillmode\":\"overlay\",\"size\":10,\"solidity\":0.2}},\"type\":\"bar\"}],\"scattergeo\":[{\"type\":\"scattergeo\",\"marker\":{\"colorbar\":{\"outlinewidth\":0,\"ticks\":\"\"}}}],\"scatterpolar\":[{\"type\":\"scatterpolar\",\"marker\":{\"colorbar\":{\"outlinewidth\":0,\"ticks\":\"\"}}}],\"histogram\":[{\"marker\":{\"pattern\":{\"fillmode\":\"overlay\",\"size\":10,\"solidity\":0.2}},\"type\":\"histogram\"}],\"scattergl\":[{\"type\":\"scattergl\",\"marker\":{\"colorbar\":{\"outlinewidth\":0,\"ticks\":\"\"}}}],\"scatter3d\":[{\"type\":\"scatter3d\",\"line\":{\"colorbar\":{\"outlinewidth\":0,\"ticks\":\"\"}},\"marker\":{\"colorbar\":{\"outlinewidth\":0,\"ticks\":\"\"}}}],\"scattermapbox\":[{\"type\":\"scattermapbox\",\"marker\":{\"colorbar\":{\"outlinewidth\":0,\"ticks\":\"\"}}}],\"scatterternary\":[{\"type\":\"scatterternary\",\"marker\":{\"colorbar\":{\"outlinewidth\":0,\"ticks\":\"\"}}}],\"scattercarpet\":[{\"type\":\"scattercarpet\",\"marker\":{\"colorbar\":{\"outlinewidth\":0,\"ticks\":\"\"}}}],\"carpet\":[{\"aaxis\":{\"endlinecolor\":\"#2a3f5f\",\"gridcolor\":\"white\",\"linecolor\":\"white\",\"minorgridcolor\":\"white\",\"startlinecolor\":\"#2a3f5f\"},\"baxis\":{\"endlinecolor\":\"#2a3f5f\",\"gridcolor\":\"white\",\"linecolor\":\"white\",\"minorgridcolor\":\"white\",\"startlinecolor\":\"#2a3f5f\"},\"type\":\"carpet\"}],\"table\":[{\"cells\":{\"fill\":{\"color\":\"#EBF0F8\"},\"line\":{\"color\":\"white\"}},\"header\":{\"fill\":{\"color\":\"#C8D4E3\"},\"line\":{\"color\":\"white\"}},\"type\":\"table\"}],\"barpolar\":[{\"marker\":{\"line\":{\"color\":\"#E5ECF6\",\"width\":0.5},\"pattern\":{\"fillmode\":\"overlay\",\"size\":10,\"solidity\":0.2}},\"type\":\"barpolar\"}],\"pie\":[{\"automargin\":true,\"type\":\"pie\"}]},\"layout\":{\"autotypenumbers\":\"strict\",\"colorway\":[\"#636efa\",\"#EF553B\",\"#00cc96\",\"#ab63fa\",\"#FFA15A\",\"#19d3f3\",\"#FF6692\",\"#B6E880\",\"#FF97FF\",\"#FECB52\"],\"font\":{\"color\":\"#2a3f5f\"},\"hovermode\":\"closest\",\"hoverlabel\":{\"align\":\"left\"},\"paper_bgcolor\":\"white\",\"plot_bgcolor\":\"#E5ECF6\",\"polar\":{\"bgcolor\":\"#E5ECF6\",\"angularaxis\":{\"gridcolor\":\"white\",\"linecolor\":\"white\",\"ticks\":\"\"},\"radialaxis\":{\"gridcolor\":\"white\",\"linecolor\":\"white\",\"ticks\":\"\"}},\"ternary\":{\"bgcolor\":\"#E5ECF6\",\"aaxis\":{\"gridcolor\":\"white\",\"linecolor\":\"white\",\"ticks\":\"\"},\"baxis\":{\"gridcolor\":\"white\",\"linecolor\":\"white\",\"ticks\":\"\"},\"caxis\":{\"gridcolor\":\"white\",\"linecolor\":\"white\",\"ticks\":\"\"}},\"coloraxis\":{\"colorbar\":{\"outlinewidth\":0,\"ticks\":\"\"}},\"colorscale\":{\"sequential\":[[0.0,\"#0d0887\"],[0.1111111111111111,\"#46039f\"],[0.2222222222222222,\"#7201a8\"],[0.3333333333333333,\"#9c179e\"],[0.4444444444444444,\"#bd3786\"],[0.5555555555555556,\"#d8576b\"],[0.6666666666666666,\"#ed7953\"],[0.7777777777777778,\"#fb9f3a\"],[0.8888888888888888,\"#fdca26\"],[1.0,\"#f0f921\"]],\"sequentialminus\":[[0.0,\"#0d0887\"],[0.1111111111111111,\"#46039f\"],[0.2222222222222222,\"#7201a8\"],[0.3333333333333333,\"#9c179e\"],[0.4444444444444444,\"#bd3786\"],[0.5555555555555556,\"#d8576b\"],[0.6666666666666666,\"#ed7953\"],[0.7777777777777778,\"#fb9f3a\"],[0.8888888888888888,\"#fdca26\"],[1.0,\"#f0f921\"]],\"diverging\":[[0,\"#8e0152\"],[0.1,\"#c51b7d\"],[0.2,\"#de77ae\"],[0.3,\"#f1b6da\"],[0.4,\"#fde0ef\"],[0.5,\"#f7f7f7\"],[0.6,\"#e6f5d0\"],[0.7,\"#b8e186\"],[0.8,\"#7fbc41\"],[0.9,\"#4d9221\"],[1,\"#276419\"]]},\"xaxis\":{\"gridcolor\":\"white\",\"linecolor\":\"white\",\"ticks\":\"\",\"title\":{\"standoff\":15},\"zerolinecolor\":\"white\",\"automargin\":true,\"zerolinewidth\":2},\"yaxis\":{\"gridcolor\":\"white\",\"linecolor\":\"white\",\"ticks\":\"\",\"title\":{\"standoff\":15},\"zerolinecolor\":\"white\",\"automargin\":true,\"zerolinewidth\":2},\"scene\":{\"xaxis\":{\"backgroundcolor\":\"#E5ECF6\",\"gridcolor\":\"white\",\"linecolor\":\"white\",\"showbackground\":true,\"ticks\":\"\",\"zerolinecolor\":\"white\",\"gridwidth\":2},\"yaxis\":{\"backgroundcolor\":\"#E5ECF6\",\"gridcolor\":\"white\",\"linecolor\":\"white\",\"showbackground\":true,\"ticks\":\"\",\"zerolinecolor\":\"white\",\"gridwidth\":2},\"zaxis\":{\"backgroundcolor\":\"#E5ECF6\",\"gridcolor\":\"white\",\"linecolor\":\"white\",\"showbackground\":true,\"ticks\":\"\",\"zerolinecolor\":\"white\",\"gridwidth\":2}},\"shapedefaults\":{\"line\":{\"color\":\"#2a3f5f\"}},\"annotationdefaults\":{\"arrowcolor\":\"#2a3f5f\",\"arrowhead\":0,\"arrowwidth\":1},\"geo\":{\"bgcolor\":\"white\",\"landcolor\":\"#E5ECF6\",\"subunitcolor\":\"white\",\"showland\":true,\"showlakes\":true,\"lakecolor\":\"white\"},\"title\":{\"x\":0.05},\"mapbox\":{\"style\":\"light\"}}},\"xaxis\":{\"anchor\":\"y\",\"domain\":[0.0,1.0],\"scaleanchor\":\"y\",\"constrain\":\"domain\",\"title\":{\"text\":\"src\"}},\"yaxis\":{\"anchor\":\"x\",\"domain\":[0.0,1.0],\"autorange\":\"reversed\",\"constrain\":\"domain\",\"title\":{\"text\":\"dest\"}},\"coloraxis\":{\"colorscale\":[[0.0,\"rgb(103,0,31)\"],[0.1,\"rgb(178,24,43)\"],[0.2,\"rgb(214,96,77)\"],[0.3,\"rgb(244,165,130)\"],[0.4,\"rgb(253,219,199)\"],[0.5,\"rgb(247,247,247)\"],[0.6,\"rgb(209,229,240)\"],[0.7,\"rgb(146,197,222)\"],[0.8,\"rgb(67,147,195)\"],[0.9,\"rgb(33,102,172)\"],[1.0,\"rgb(5,48,97)\"]],\"cmid\":0.0},\"title\":{\"text\":\"virtual attn pattern A^1.0 @ A^0.0 for example 207\"}},                        {\"responsive\": true}                    ).then(function(){\n",
              "                            \n",
              "var gd = document.getElementById('e4770590-2e5a-4433-99b9-70b4927998a6');\n",
              "var x = new MutationObserver(function (mutations, observer) {{\n",
              "        var display = window.getComputedStyle(gd).display;\n",
              "        if (!display || display === 'none') {{\n",
              "            console.log([gd, 'removed!']);\n",
              "            Plotly.purge(gd);\n",
              "            observer.disconnect();\n",
              "        }}\n",
              "}});\n",
              "\n",
              "// Listen for the removal of the full notebook cells\n",
              "var notebookContainer = gd.closest('#notebook-container');\n",
              "if (notebookContainer) {{\n",
              "    x.observe(notebookContainer, {childList: true});\n",
              "}}\n",
              "\n",
              "// Listen for the clearing of the current output cell\n",
              "var outputEl = gd.closest('.output');\n",
              "if (outputEl) {{\n",
              "    x.observe(outputEl, {childList: true});\n",
              "}}\n",
              "\n",
              "                        })                };                            </script>        </div>\n",
              "</body>\n",
              "</html>"
            ]
          },
          "metadata": {}
        }
      ]
    },
    {
      "cell_type": "markdown",
      "source": [
        "This is basically what we expected. The prediction destination tokens attend most strongly to the correct list token."
      ],
      "metadata": {
        "id": "mjIE3g1c4PLG"
      }
    },
    {
      "cell_type": "markdown",
      "source": [
        "## Virtual OV circuit"
      ],
      "metadata": {
        "id": "hrcHlmGBt6Tf"
      }
    },
    {
      "cell_type": "markdown",
      "source": [
        "Now that we are convinced the virtual attn head just attends to the correct next token, it would be natural for $W_EW_{OV}^{0.0}W_{OV}^{1.0}W_U$ to just copy that to the logits. We expect to see a strong diagonal as we've seen in many other circuits:"
      ],
      "metadata": {
        "id": "ndU1yhwVQvXk"
      }
    },
    {
      "cell_type": "code",
      "source": [
        "virtual_OV_circuit = W_E @ model.OV[0,0].AB @ model.OV[1, 0].AB @ model.W_U\n",
        "print(virtual_OV_circuit.shape)"
      ],
      "metadata": {
        "colab": {
          "base_uri": "https://localhost:8080/"
        },
        "id": "I-K51CqtRxQP",
        "outputId": "1424556d-afaf-4f73-b9b5-95c86ddabc26"
      },
      "execution_count": 111,
      "outputs": [
        {
          "output_type": "stream",
          "name": "stdout",
          "text": [
            "torch.Size([53, 50])\n"
          ]
        }
      ]
    },
    {
      "cell_type": "code",
      "source": [
        "imshow(\n",
        "    virtual_OV_circuit,\n",
        "    title=\"Virtual OV circuit: W_E @ W_OV^0.0 @ W_OV^1.0 @ W_U\",\n",
        "    xaxis=\"logit\", yaxis=\"src token\",\n",
        ")"
      ],
      "metadata": {
        "colab": {
          "base_uri": "https://localhost:8080/",
          "height": 542
        },
        "id": "MK8g3mCsR6tq",
        "outputId": "6857c0f0-f2b5-4c01-e69c-4ee4754ff38e"
      },
      "execution_count": 112,
      "outputs": [
        {
          "output_type": "display_data",
          "data": {
            "text/html": [
              "<html>\n",
              "<head><meta charset=\"utf-8\" /></head>\n",
              "<body>\n",
              "    <div>            <script src=\"https://cdnjs.cloudflare.com/ajax/libs/mathjax/2.7.5/MathJax.js?config=TeX-AMS-MML_SVG\"></script><script type=\"text/javascript\">if (window.MathJax && window.MathJax.Hub && window.MathJax.Hub.Config) {window.MathJax.Hub.Config({SVG: {font: \"STIX-Web\"}});}</script>                <script type=\"text/javascript\">window.PlotlyConfig = {MathJaxConfig: 'local'};</script>\n",
              "        <script src=\"https://cdn.plot.ly/plotly-2.18.2.min.js\"></script>                <div id=\"bd31e4c3-df8b-4089-b102-27d5d2049496\" class=\"plotly-graph-div\" style=\"height:525px; width:100%;\"></div>            <script type=\"text/javascript\">                                    window.PLOTLYENV=window.PLOTLYENV || {};                                    if (document.getElementById(\"bd31e4c3-df8b-4089-b102-27d5d2049496\")) {                    Plotly.newPlot(                        \"bd31e4c3-df8b-4089-b102-27d5d2049496\",                        [{\"coloraxis\":\"coloraxis\",\"name\":\"0\",\"z\":[[75.48560333251953,7.827505111694336,7.7493133544921875,2.1711249351501465,8.012880325317383,-3.328995704650879,4.515407562255859,4.4017839431762695,-14.155885696411133,-4.249512195587158,-11.413330078125,-10.513200759887695,-12.297046661376953,6.929043769836426,-8.262118339538574,-12.401229858398438,-5.3789825439453125,-4.536811828613281,5.915935516357422,-0.8387918472290039,-10.496286392211914,-7.34104061126709,-14.070493698120117,-21.135799407958984,-5.968978404998779,-14.684303283691406,0.3947119116783142,-5.1473894119262695,-6.5517778396606445,-10.518017768859863,-6.236083984375,4.239348411560059,1.4985288381576538,-2.698873281478882,-14.632075309753418,-9.703402519226074,8.19709587097168,0.17004776000976562,-13.412476539611816,3.9964401721954346,-2.357517957687378,-1.0896937847137451,-19.544918060302734,-12.952245712280273,-8.435018539428711,-0.20719051361083984,-2.2007713317871094,-11.799179077148438,2.0498688220977783,2.286160469055176],[1.1497676372528076,44.089298248291016,8.80040168762207,0.04572552442550659,2.4146673679351807,-12.923929214477539,-2.2081079483032227,2.634446620941162,-11.328983306884766,4.744183540344238,-6.663403511047363,6.39855432510376,3.1870718002319336,-2.911640167236328,-12.540468215942383,-3.909703493118286,4.216322422027588,4.523588180541992,-1.4335073232650757,-2.891759157180786,8.763814926147461,-7.782390594482422,3.1711573600769043,-12.837112426757812,-5.249239444732666,-1.2262201309204102,-1.9230279922485352,-8.699996948242188,-0.2252737283706665,-4.281639099121094,-8.600354194641113,-10.191717147827148,-10.953084945678711,-3.7970218658447266,2.7399134635925293,-13.627084732055664,2.243246078491211,-11.348270416259766,-16.23613166809082,-7.2243499755859375,-1.8834466934204102,-3.195314407348633,-6.293068885803223,-2.1739253997802734,4.919771194458008,-3.688282012939453,-7.763254642486572,1.8727070093154907,6.035712242126465,-4.480116844177246],[-9.393539428710938,6.790156364440918,56.05604553222656,-4.512970924377441,-5.671407699584961,1.0564088821411133,-3.3002657890319824,1.6144733428955078,-2.5876998901367188,-6.112100601196289,-9.811433792114258,-0.8017957210540771,-8.076759338378906,-0.9169471263885498,-12.289978981018066,1.499064564704895,-7.650490760803223,1.5864461660385132,9.997087478637695,-1.923058271408081,8.453047752380371,10.185775756835938,8.096670150756836,-21.28820037841797,-0.6199207305908203,-0.00823664665222168,5.221413612365723,-0.4323441982269287,-1.0055441856384277,5.819301605224609,-0.16825628280639648,-15.173297882080078,1.5639736652374268,3.969506025314331,5.315573692321777,-8.234977722167969,0.38350868225097656,17.217697143554688,-8.614973068237305,3.464414596557617,4.503408432006836,-8.003456115722656,-7.649826526641846,5.664947032928467,2.113772392272949,-3.050825357437134,-5.704931259155273,-16.107662200927734,-0.24773383140563965,-6.880354881286621],[-2.465987205505371,-2.4039859771728516,-2.5972237586975098,59.812530517578125,1.5515201091766357,18.5384521484375,-13.194540023803711,-12.040226936340332,13.318161010742188,16.14028549194336,3.144237518310547,-21.7763671875,9.745565414428711,13.639049530029297,2.162140369415283,-2.646589756011963,-10.541743278503418,14.963275909423828,15.312758445739746,-0.7665114402770996,-21.372520446777344,2.1117355823516846,-13.684558868408203,11.440321922302246,-32.22067642211914,-9.332921981811523,9.257109642028809,14.57303237915039,7.323119640350342,-19.509136199951172,1.0043525695800781,2.66899037361145,9.220992088317871,-8.055042266845703,5.328100204467773,4.53736686706543,-8.248187065124512,-3.809342384338379,-9.088470458984375,0.08492755889892578,-28.082672119140625,-5.331214427947998,-15.114840507507324,9.610823631286621,-36.50569152832031,8.699914932250977,-6.124172687530518,10.362425804138184,4.186689376831055,9.133218765258789],[-3.3104772567749023,5.4584641456604,3.050147533416748,6.214049339294434,71.66559600830078,17.395137786865234,7.118861675262451,3.4207406044006348,12.431402206420898,-14.509206771850586,-12.375312805175781,15.395057678222656,4.6668314933776855,11.27968978881836,-2.951016902923584,10.995037078857422,-23.976770401000977,-10.988689422607422,-2.7405972480773926,4.553908348083496,16.444496154785156,-12.509880065917969,10.716465950012207,-0.06090497970581055,-2.047081470489502,-25.089920043945312,8.342538833618164,-18.064453125,-29.260160446166992,-21.620601654052734,6.122427940368652,-3.3601956367492676,13.850360870361328,-5.233882904052734,-12.80141830444336,-22.09020233154297,9.433483123779297,-3.8354969024658203,5.831051349639893,-31.018596649169922,5.5763702392578125,9.934517860412598,4.59242582321167,15.509624481201172,-0.4756631851196289,6.814683437347412,-9.296266555786133,-5.88459587097168,-7.829792022705078,9.17361831665039],[-0.8620461225509644,-10.737970352172852,-5.652695178985596,9.888689041137695,7.9172186851501465,57.683265686035156,11.838821411132812,9.275558471679688,5.93126916885376,1.2957417964935303,-21.55986785888672,-23.122806549072266,4.096795082092285,1.790001392364502,7.330670356750488,-4.669059753417969,8.561454772949219,10.803696632385254,-2.764223575592041,-10.838098526000977,-15.748268127441406,12.318723678588867,-0.7376186847686768,4.971210479736328,1.1910436153411865,-18.493961334228516,1.25388503074646,0.9854331016540527,6.730952262878418,0.36656880378723145,-18.911426544189453,-8.574888229370117,6.322683334350586,8.278716087341309,-27.04574966430664,-1.1851933002471924,2.469742774963379,2.788546323776245,12.66436767578125,-1.1769847869873047,-3.580308437347412,-14.622873306274414,-4.902020454406738,-7.394078254699707,-23.49197006225586,-10.209165573120117,-5.074747085571289,-3.1555042266845703,2.9340670108795166,2.4479990005493164],[4.631448745727539,-11.241262435913086,-5.6623759269714355,-8.126103401184082,8.893362045288086,13.8240385055542,67.47096252441406,-0.6299543380737305,-10.886651992797852,0.5040783882141113,-9.927681922912598,3.8581767082214355,1.7610902786254883,-26.481929779052734,12.26906681060791,13.258423805236816,2.463095188140869,-20.454191207885742,16.12129783630371,-1.7433032989501953,-12.728293418884277,5.175989151000977,-15.94345474243164,-14.39417552947998,6.805304527282715,-24.950117111206055,1.5464506149291992,-18.862934112548828,10.221270561218262,9.040635108947754,5.957911491394043,0.9629583358764648,9.734102249145508,2.1882381439208984,-19.38279914855957,-10.061193466186523,5.694509983062744,12.339044570922852,-5.020880699157715,12.888069152832031,-6.527792930603027,-21.62781524658203,2.5036191940307617,9.955612182617188,1.2778555154800415,-5.845516204833984,14.343452453613281,-8.150653839111328,-3.570387601852417,5.270636558532715],[-0.5008505582809448,-0.16456034779548645,-3.762775421142578,-9.809825897216797,5.873002052307129,13.512044906616211,-1.502158284187317,61.046241760253906,-10.7542085647583,10.940277099609375,-15.70852279663086,-1.8030147552490234,-0.5183577537536621,4.1090087890625,-12.189180374145508,-26.87262535095215,-12.444433212280273,1.3422998189926147,-9.38564682006836,1.9447956085205078,8.567078590393066,-5.793224334716797,2.4607298374176025,12.181109428405762,-9.035942077636719,10.356843948364258,-6.004266262054443,-27.594785690307617,8.524669647216797,3.9832279682159424,-19.742076873779297,-10.66343879699707,-15.912748336791992,-3.5852975845336914,-17.025440216064453,9.99696159362793,7.844379901885986,5.019221305847168,4.816825866699219,-19.466156005859375,7.37638521194458,-0.4523492455482483,11.406513214111328,9.5348539352417,-0.4488697052001953,5.399343490600586,1.6536014080047607,-14.528728485107422,-0.9438174962997437,7.373292446136475],[-10.425125122070312,-10.268590927124023,-6.759518623352051,10.961477279663086,6.623313903808594,6.989763259887695,-6.030600547790527,-10.607466697692871,58.13507843017578,1.8042762279510498,8.80583381652832,-20.107019424438477,-7.913688659667969,13.067319869995117,1.7537875175476074,9.545835494995117,9.35818099975586,1.28652024269104,8.091898918151855,-15.449728012084961,-17.417264938354492,-8.919438362121582,-0.021508216857910156,-1.780245304107666,-25.15618896484375,12.630130767822266,12.481372833251953,-15.50868034362793,-12.137492179870605,-2.723789691925049,12.195952415466309,9.274333953857422,5.944455623626709,-20.82537841796875,10.86340618133545,-10.079710006713867,8.775874137878418,12.748175621032715,9.76269245147705,-2.1296896934509277,12.374288558959961,8.930547714233398,3.0510997772216797,4.330078125,0.734407901763916,-1.0104751586914062,-11.526399612426758,-2.9961724281311035,-11.60096263885498,9.705551147460938],[-14.274491310119629,1.3672480583190918,-10.0447998046875,16.759449005126953,-19.229454040527344,-2.7342021465301514,4.652766227722168,9.65200424194336,1.8162474632263184,63.82161331176758,16.8663330078125,14.897671699523926,4.652052879333496,-4.7141523361206055,2.2574679851531982,-15.885101318359375,4.300633430480957,-13.367288589477539,8.568587303161621,-8.099732398986816,-6.158404350280762,-12.405012130737305,8.39260196685791,5.909138202667236,-42.413543701171875,4.682991981506348,-4.002963542938232,-0.7512233257293701,15.844765663146973,8.700830459594727,-4.536275863647461,-11.57795524597168,-19.448074340820312,-10.245163917541504,-4.176174640655518,-1.709008812904358,-30.841785430908203,14.754932403564453,-21.825937271118164,6.765353202819824,-6.787569046020508,-4.352038383483887,-1.1302778720855713,-1.5595729351043701,-11.323673248291016,12.686368942260742,10.608896255493164,3.411311388015747,-6.610696315765381,10.742341995239258],[-22.29970359802246,-5.935693740844727,-20.130462646484375,1.19778573513031,-15.150371551513672,-20.671916961669922,-11.163556098937988,-14.044890403747559,7.398741722106934,16.78937339782715,63.316383361816406,14.892457962036133,13.421549797058105,7.350512504577637,-23.15272331237793,0.48921680450439453,9.314229965209961,3.919264793395996,-3.8289663791656494,3.141423225402832,12.919088363647461,8.69459056854248,3.3663170337677,7.533599376678467,-3.73297119140625,9.576879501342773,-11.539977073669434,7.166731834411621,9.952339172363281,-1.549646019935608,10.686948776245117,-1.8021471500396729,8.780635833740234,-15.290117263793945,11.14383316040039,7.610368251800537,15.621885299682617,-0.9984831809997559,-19.024505615234375,-12.163592338562012,3.3963279724121094,12.879785537719727,6.406018257141113,-11.598735809326172,5.712777614593506,2.3522284030914307,13.48351001739502,5.579273700714111,1.8143322467803955,2.5069761276245117],[-15.221317291259766,-1.8203957080841064,-4.309356689453125,-14.645729064941406,12.02041244506836,-15.824304580688477,5.642054080963135,-0.9469382762908936,-13.490671157836914,10.496332168579102,11.771190643310547,65.02761840820312,6.845528602600098,-0.1842045783996582,9.295186042785645,2.5646958351135254,-12.988798141479492,-32.593204498291016,-1.0301746129989624,2.184565544128418,9.139497756958008,-12.10716438293457,3.9946234226226807,5.3325581550598145,5.0514678955078125,3.4149763584136963,-10.215188026428223,9.994135856628418,-6.658080101013184,7.7398295402526855,-6.3725690841674805,14.112752914428711,9.157586097717285,10.555078506469727,9.539857864379883,5.570989608764648,-11.91777229309082,2.062346935272217,-23.81716537475586,-16.29184341430664,17.168569564819336,-1.479630470275879,2.906857490539551,7.510648727416992,9.844244003295898,6.110041618347168,0.7109337449073792,6.991145610809326,5.923854351043701,-13.480457305908203],[-24.049470901489258,-4.587337970733643,-7.656181335449219,6.028284072875977,7.279982089996338,8.819944381713867,2.625600814819336,-3.431723117828369,8.53848934173584,4.276671886444092,8.471923828125,8.527989387512207,62.941654205322266,-10.773118019104004,-14.143050193786621,-2.392695426940918,-2.78936767578125,9.789766311645508,14.78746223449707,1.3437526226043701,-0.16633892059326172,4.352193832397461,0.3837926387786865,-2.4840543270111084,0.4130525588989258,-10.182477951049805,-33.723350524902344,4.599190711975098,4.140681266784668,-20.140247344970703,0.8907570838928223,-4.6540207862854,6.4332404136657715,13.005541801452637,18.29290008544922,7.4172210693359375,5.958765506744385,5.796436309814453,-5.850998878479004,-13.09881591796875,12.145952224731445,-17.944866180419922,14.060811042785645,12.858026504516602,3.40944504737854,12.740228652954102,-21.084041595458984,9.238852500915527,-15.70720100402832,-14.820026397705078],[-5.9940290451049805,-2.382662296295166,-3.950284957885742,15.467521667480469,13.912567138671875,12.999354362487793,-28.83011817932129,4.807551383972168,17.45590591430664,3.7695958614349365,8.492161750793457,5.559179782867432,-16.67306137084961,67.9848861694336,7.4941253662109375,-18.954833984375,1.9149580001831055,4.070552825927734,-22.07229995727539,2.4042091369628906,-14.276464462280273,-24.55592155456543,13.838177680969238,1.7494449615478516,-6.603570938110352,16.061382293701172,12.967677116394043,9.514893531799316,-17.253984451293945,-19.05753517150879,-10.884187698364258,-9.893345832824707,16.652128219604492,-18.116321563720703,-2.3788862228393555,12.299491882324219,19.234493255615234,-1.6919546127319336,-8.313993453979492,-5.808484077453613,-5.148797035217285,-2.1513967514038086,2.8930704593658447,0.7831192016601562,-22.199874877929688,-21.037269592285156,-2.2760446071624756,0.5267763137817383,9.273425102233887,18.012603759765625],[-1.9832541942596436,-11.366987228393555,-7.233961582183838,-0.25047898292541504,1.3838379383087158,-0.41431331634521484,12.10698413848877,-10.806374549865723,3.088557243347168,1.275402545928955,-24.38028335571289,11.189172744750977,-20.097610473632812,6.712429046630859,62.041709899902344,-2.341839075088501,-9.521303176879883,-20.818401336669922,6.461225509643555,-0.10170197486877441,-27.05316734313965,-28.690139770507812,-15.597972869873047,4.922483921051025,9.720611572265625,9.501148223876953,4.496608257293701,2.4963178634643555,-23.29714012145996,5.974090576171875,16.03723907470703,8.225008010864258,10.047463417053223,11.358304977416992,6.430397987365723,11.512834548950195,-34.76990509033203,-5.39412784576416,11.512006759643555,15.831037521362305,-6.479204177856445,-8.136442184448242,10.206033706665039,18.439273834228516,-1.9172842502593994,2.682069778442383,-5.493227481842041,10.796310424804688,-5.817364692687988,16.64609146118164],[1.4569783210754395,-7.841857433319092,-4.23026180267334,-5.2107391357421875,9.908934593200684,-9.16457748413086,19.243104934692383,-37.06039047241211,10.63267707824707,-19.01714324951172,1.817634105682373,0.18009662628173828,-11.09908390045166,-21.209922790527344,1.4887233972549438,62.12034606933594,16.617095947265625,-7.265197277069092,-4.021356582641602,-22.30126953125,16.415393829345703,4.467654705047607,-3.539717197418213,14.89895248413086,13.04379653930664,-17.000465393066406,5.588015079498291,7.692785263061523,7.845729351043701,14.689247131347656,3.811631679534912,14.944336891174316,5.453521251678467,-21.635007858276367,14.589597702026367,-14.311028480529785,8.17416000366211,-22.166942596435547,4.0700883865356445,-5.620966911315918,-6.314793109893799,-2.12363862991333,-15.090375900268555,13.57599925994873,3.7472753524780273,-7.647672653198242,7.847643852233887,7.4021759033203125,6.995993614196777,0.8047280311584473],[-2.150235176086426,0.7403955459594727,-11.106239318847656,-15.336286544799805,-30.897653579711914,0.4709477424621582,6.170008659362793,-11.931243896484375,6.855962753295898,4.459071636199951,3.926161766052246,-22.132606506347656,-9.79344654083252,-7.448241233825684,1.9640231132507324,15.161828994750977,55.55527114868164,12.82369613647461,-16.024200439453125,-21.73587417602539,-5.333385467529297,10.708383560180664,7.908851623535156,-1.3586032390594482,9.268974304199219,10.290746688842773,8.757213592529297,3.223865509033203,14.64755630493164,12.518940925598145,-6.216798305511475,-11.903229713439941,-17.383678436279297,-18.753995895385742,5.181238651275635,-1.2990846633911133,11.378389358520508,2.9683637619018555,13.296884536743164,12.0502290725708,-5.333156585693359,-20.153108596801758,-12.9100923538208,-14.982393264770508,0.9623124599456787,-20.237369537353516,8.673072814941406,1.3041839599609375,-4.323996543884277,-1.544022560119629],[-11.344186782836914,3.9600260257720947,-3.0799059867858887,9.343853950500488,-28.810352325439453,13.152429580688477,-28.048460006713867,4.799875736236572,5.870068073272705,-10.93690299987793,0.5929718017578125,-53.48566436767578,11.195826530456543,3.3929226398468018,-16.862716674804688,-6.210149765014648,18.528060913085938,61.96894836425781,-3.659257650375366,8.072535514831543,16.404861450195312,15.272476196289062,4.991764068603516,11.103163719177246,7.89500617980957,8.133432388305664,-2.934260606765747,2.4159297943115234,13.478536605834961,5.344679355621338,-6.030243873596191,-31.130159378051758,3.1093649864196777,-9.963476181030273,9.48696517944336,6.721297264099121,14.918424606323242,-11.768884658813477,11.464693069458008,7.07407808303833,-21.879981994628906,-4.862277030944824,17.959840774536133,4.416819095611572,-21.72965431213379,-22.572832107543945,-7.086091995239258,-14.215453147888184,9.901535034179688,3.268998622894287],[-8.322198867797852,0.5999980568885803,11.673432350158691,12.696096420288086,-3.8497116565704346,1.1677863597869873,11.950191497802734,-10.468853950500488,13.054637908935547,9.913446426391602,0.700965404510498,-4.346680641174316,11.043533325195312,-11.820667266845703,6.041227340698242,-4.087939262390137,-12.091869354248047,-0.3463115692138672,64.04403686523438,-23.50041961669922,-21.369510650634766,11.602072715759277,-19.6112060546875,-19.261154174804688,-21.087032318115234,5.516326427459717,-9.761651992797852,-18.30796241760254,2.1100616455078125,-3.282017230987549,9.598752975463867,6.032620429992676,9.320181846618652,16.69594955444336,13.431259155273438,-14.740873336791992,-7.090827941894531,-2.403656005859375,-13.158454895019531,8.283893585205078,16.725391387939453,4.802093505859375,15.532838821411133,4.017848968505859,-20.54911994934082,8.469755172729492,-19.51167106628418,1.7148606777191162,13.535834312438965,-2.9886960983276367],[-5.481881141662598,-2.6137290000915527,-8.14500617980957,4.312425136566162,4.066685676574707,-9.446953773498535,-6.447458267211914,10.286567687988281,-11.044007301330566,-7.386223316192627,0.33591699600219727,7.068368911743164,2.925844669342041,10.622852325439453,3.274106502532959,-21.847518920898438,-19.32379913330078,6.765981674194336,-26.840679168701172,60.26471710205078,9.191762924194336,-9.01708984375,8.425760269165039,3.5786638259887695,11.126431465148926,1.6161012649536133,15.97251033782959,8.53388786315918,-9.216935157775879,0.8038468360900879,11.273295402526855,-4.946573257446289,7.3416290283203125,7.26632022857666,-13.436199188232422,18.09804916381836,-10.791483879089355,17.217628479003906,3.3867604732513428,15.494112968444824,-28.5944766998291,0.807488203048706,8.111089706420898,10.159355163574219,14.533577919006348,7.324287414550781,4.635876655578613,-16.659950256347656,-19.82783317565918,0.6458142995834351],[-21.48518180847168,8.734373092651367,-12.311324119567871,-21.937698364257812,12.944662094116211,-18.618772506713867,-9.561134338378906,6.330379486083984,-11.576269149780273,-1.800336480140686,17.546142578125,20.2226619720459,10.646906852722168,-15.021533966064453,-26.843618392944336,21.715389251708984,-0.1273038387298584,11.845561981201172,-26.080419540405273,13.786680221557617,67.99111938476562,-0.135059654712677,11.42181396484375,21.38889503479004,4.395691871643066,-10.684267044067383,-5.056780815124512,0.908366322517395,8.223843574523926,11.931671142578125,-15.594139099121094,-8.603662490844727,0.6731336712837219,-20.320159912109375,5.933147430419922,6.5743513107299805,22.135894775390625,-6.3145904541015625,-2.4984652996063232,-21.547611236572266,-6.207531929016113,7.697299003601074,9.891916275024414,13.678024291992188,19.552921295166016,-3.0361385345458984,14.915925979614258,-9.048516273498535,-4.010104656219482,-6.805454254150391],[-3.4320640563964844,-2.1518983840942383,0.22516298294067383,-1.6379339694976807,-19.618955612182617,9.473188400268555,-0.7100852727890015,0.12663817405700684,-17.403705596923828,-12.942459106445312,3.852005958557129,-19.13289451599121,5.752294540405273,-22.540550231933594,-14.2363862991333,0.06649160385131836,8.744002342224121,10.765466690063477,9.5035982131958,-3.583690643310547,-1.2377102375030518,58.631553649902344,-9.464363098144531,11.72304916381836,8.680322647094727,-7.666604995727539,-1.1014134883880615,8.787091255187988,13.945257186889648,4.597907066345215,5.942234992980957,9.421721458435059,1.9116764068603516,8.063957214355469,-7.849255561828613,0.8097715377807617,8.4708890914917,5.855804443359375,10.185385704040527,-8.037054061889648,8.751386642456055,-1.5558538436889648,-20.02667236328125,-24.185333251953125,-15.604458808898926,7.039141654968262,5.642678260803223,-8.776235580444336,-3.378734827041626,-14.56785774230957],[-11.130220413208008,-4.796236515045166,2.240926504135132,-7.7786407470703125,7.849649429321289,2.8028573989868164,-9.839273452758789,2.623213052749634,8.155077934265137,15.199772834777832,3.0075340270996094,7.061415672302246,-2.561249017715454,8.211183547973633,-11.76724624633789,2.919541835784912,14.162857055664062,0.39254844188690186,-29.88687515258789,1.2640981674194336,13.444137573242188,-4.972194194793701,60.96495819091797,13.822420120239258,5.641808032989502,7.637704372406006,7.188718795776367,10.846922874450684,-2.726064682006836,4.198523998260498,9.049966812133789,-31.931934356689453,-28.82335662841797,-11.176838874816895,-10.523564338684082,-31.880794525146484,-22.020278930664062,-2.439365863800049,-1.663278579711914,-4.7843241691589355,9.86787223815918,10.483753204345703,2.2075328826904297,-10.133264541625977,-2.082341194152832,-0.6867548227310181,4.909144401550293,2.2688257694244385,-3.19167160987854,7.358131408691406],[-13.691811561584473,-13.583263397216797,-27.925989151000977,6.441495895385742,-2.831550359725952,1.6688804626464844,-15.118659973144531,13.367912292480469,-4.473536491394043,7.560673713684082,5.859701156616211,1.2167352437973022,-4.596590518951416,-3.7246789932250977,4.541550636291504,11.819395065307617,-3.649698495864868,4.859669208526611,-21.788902282714844,-0.5061028003692627,18.114368438720703,7.301733016967773,5.473583698272705,56.71821212768555,4.491036891937256,4.919346809387207,0.5042519569396973,10.935920715332031,13.057441711425781,10.731786727905273,0.8262615203857422,5.199173927307129,-5.166275501251221,-24.93655014038086,-1.4445981979370117,5.228783130645752,-8.939775466918945,-22.493913650512695,4.765069007873535,-26.2442626953125,-3.4858639240264893,5.567018508911133,-2.8228909969329834,11.284740447998047,-18.04460334777832,4.837660789489746,11.181779861450195,7.910486221313477,5.646674156188965,13.566370010375977],[-1.811629295349121,-5.456355094909668,-1.1590875387191772,-23.841205596923828,-1.6097192764282227,3.892911434173584,4.304129600524902,-9.632450103759766,-16.952600479125977,-33.397178649902344,-6.154889106750488,2.919881820678711,3.2268197536468506,4.5789642333984375,14.948833465576172,9.257282257080078,11.240121841430664,9.166410446166992,-20.154186248779297,10.22577953338623,-0.255130410194397,3.6792218685150146,6.4013824462890625,5.550857067108154,63.9418830871582,11.066351890563965,-2.948523998260498,7.9170379638671875,3.0202817916870117,2.322108268737793,8.778230667114258,-6.907410621643066,4.147879600524902,6.954142093658447,-3.1218223571777344,3.1262876987457275,7.568155288696289,-26.497215270996094,7.836128234863281,-0.9052963256835938,-2.3712501525878906,-13.316128730773926,3.2147302627563477,9.488990783691406,6.942749500274658,-9.14432144165039,-15.084251403808594,5.930517196655273,6.85941219329834,-3.028672456741333],[-18.877761840820312,-4.22161865234375,-9.947392463684082,-10.488667488098145,-27.190336227416992,-25.687591552734375,-25.492597579956055,12.7362060546875,18.584428787231445,10.50308895111084,13.603917121887207,4.438817501068115,-11.465868949890137,15.291027069091797,10.872194290161133,-10.388099670410156,9.506728172302246,1.6697113513946533,-0.1699514389038086,-8.116539001464844,-8.806042671203613,-15.770227432250977,6.99310302734375,9.354818344116211,6.256232261657715,63.01443862915039,7.727695941925049,-11.655405044555664,12.814082145690918,10.686370849609375,5.86016845703125,3.0296733379364014,-26.796424865722656,-6.917655944824219,17.884552001953125,8.310629844665527,-4.769278526306152,-17.459228515625,-1.8035888671875,0.9739464521408081,9.59881591796875,14.017450332641602,9.062610626220703,13.30335807800293,11.317611694335938,17.232418060302734,-22.063337326049805,10.160306930541992,5.7991485595703125,-1.9154337644577026],[0.6554157733917236,-2.0416016578674316,1.8515901565551758,9.337234497070312,9.12583065032959,8.81112289428711,2.8734569549560547,2.0577592849731445,5.739893436431885,-5.120948791503906,-14.31544017791748,-11.357458114624023,-39.789608001708984,8.491654396057129,12.157350540161133,7.1173319816589355,8.19759750366211,-1.2136309146881104,-20.626197814941406,14.334722518920898,0.48489880561828613,3.22843599319458,7.604433059692383,8.059236526489258,0.3159257173538208,12.616047859191895,60.33980178833008,-0.6563515663146973,12.584424018859863,8.452863693237305,-4.087461948394775,6.204627513885498,-11.421364784240723,-21.663436889648438,-28.5413818359375,-12.925468444824219,5.498619556427002,4.50184440612793,7.822202682495117,10.547849655151367,-24.88829231262207,2.1058483123779297,-24.51988983154297,2.026658058166504,-8.094002723693848,-4.391018390655518,6.749016284942627,-8.095412254333496,4.802613735198975,-2.2416625022888184],[-7.941633701324463,-8.020697593688965,-5.973598480224609,12.381987571716309,-14.838801383972168,5.533833980560303,-16.29758071899414,-25.52709197998047,-11.304170608520508,-1.6735639572143555,4.108396053314209,13.615978240966797,7.269480228424072,11.131475448608398,8.41323184967041,5.5078935623168945,8.903946876525879,2.718061923980713,-22.419309616088867,10.897821426391602,-3.5928730964660645,7.973146915435791,13.2234525680542,14.980754852294922,6.505784034729004,-8.212379455566406,2.8004560470581055,55.18084716796875,-0.7360706329345703,2.338482141494751,-9.962181091308594,3.1116442680358887,12.492321968078613,9.078004837036133,6.448756694793701,11.232742309570312,-12.47541332244873,2.1283302307128906,-9.747098922729492,5.392348289489746,-9.956849098205566,-10.671808242797852,-14.614439010620117,-16.187915802001953,-16.17754364013672,-13.707979202270508,12.57590389251709,9.67721939086914,9.229681015014648,-18.817386627197266],[-11.516008377075195,-7.1484880447387695,-4.6423468589782715,7.242462158203125,-26.064510345458984,11.427847862243652,9.706459045410156,8.506253242492676,-13.306215286254883,16.77309799194336,8.288006782531738,-13.28594970703125,11.194174766540527,-16.209117889404297,-12.457590103149414,9.759897232055664,10.131782531738281,10.511754989624023,5.108346939086914,-8.671567916870117,3.7284884452819824,16.499614715576172,-10.700788497924805,13.718097686767578,5.9506144523620605,9.888174057006836,6.110587120056152,-1.4568023681640625,65.36492919921875,3.4889614582061768,-23.940614700317383,3.9650442600250244,-24.347789764404297,-13.165307998657227,-17.023935317993164,11.581466674804688,16.957653045654297,-20.726024627685547,-5.5041327476501465,10.320577621459961,-19.59796905517578,-13.71113395690918,-12.980720520019531,11.397104263305664,-11.24533748626709,9.856918334960938,-0.7372133731842041,15.966276168823242,10.82856273651123,-2.8042049407958984],[0.007091999053955078,-5.424260139465332,-11.894216537475586,-16.555112838745117,-34.569801330566406,-8.346538543701172,9.176763534545898,3.2375545501708984,-1.865060806274414,11.961166381835938,-1.2183902263641357,6.361222267150879,-24.402774810791016,-17.215816497802734,9.180734634399414,11.08826732635498,14.006202697753906,-5.137014865875244,-4.838838577270508,-2.8907437324523926,3.1508047580718994,3.05859375,0.018568217754364014,10.537424087524414,-5.643935203552246,12.15127944946289,1.2943322658538818,2.7382826805114746,7.446163654327393,53.57001495361328,-6.778498649597168,4.477670669555664,0.16364288330078125,2.7427024841308594,5.2197394371032715,2.0358972549438477,-24.927959442138672,5.129312038421631,-8.862565994262695,9.461542129516602,-6.870737552642822,4.742068767547607,-1.8079910278320312,2.180509090423584,-0.7319936752319336,-6.978991508483887,9.75897216796875,-26.737876892089844,10.850576400756836,-11.142117500305176],[-4.610918998718262,-5.6800312995910645,2.2598843574523926,4.635001182556152,2.235037326812744,-23.24543571472168,1.950315237045288,-18.19826316833496,15.883573532104492,-11.604560852050781,8.896464347839355,-15.208429336547852,-6.930024147033691,-2.629469394683838,13.84932804107666,0.4850715398788452,-8.92329216003418,-0.5954928398132324,10.85090160369873,11.371054649353027,-13.498842239379883,8.374916076660156,8.66231918334961,4.993894100189209,11.117046356201172,10.006135940551758,2.165706157684326,-11.073738098144531,-29.459754943847656,-3.9612231254577637,63.31289291381836,-5.700297832489014,5.3693695068359375,-8.312286376953125,13.075424194335938,-22.485889434814453,-22.615684509277344,1.3682146072387695,10.573662757873535,-1.3314669132232666,8.148395538330078,16.361936569213867,9.804926872253418,7.908565998077393,-0.5905916690826416,12.666606903076172,-5.3675994873046875,-5.741900444030762,-18.98073387145996,21.443679809570312],[0.9768557548522949,-6.669455051422119,-12.776540756225586,7.746554374694824,0.5226771831512451,-9.493887901306152,-4.571732044219971,-12.250527381896973,10.961929321289062,-12.66501235961914,1.7205324172973633,8.702168464660645,-5.817386627197266,-8.511920928955078,6.038312911987305,11.75430679321289,-10.771587371826172,-22.52077865600586,11.53375244140625,-7.077167510986328,-15.897125244140625,12.24760627746582,-34.861595153808594,6.104792594909668,-14.213205337524414,2.190873622894287,10.80804443359375,4.539630889892578,3.5876522064208984,-2.267503499984741,-3.2541961669921875,59.209510803222656,10.776844024658203,2.6894068717956543,7.4187846183776855,13.493592262268066,11.88685417175293,7.141579627990723,8.972454071044922,-4.394037246704102,12.854116439819336,11.612032890319824,-19.477325439453125,-4.734224319458008,9.18461799621582,9.842388153076172,0.10730651021003723,12.187469482421875,3.3505935668945312,-21.3405704498291],[-9.190690040588379,-2.0141983032226562,-6.462018966674805,8.961108207702637,14.019943237304688,14.247230529785156,1.2960538864135742,-18.022384643554688,5.009042739868164,-22.21514320373535,9.445898056030273,8.29420280456543,5.123591899871826,15.390565872192383,6.452653884887695,0.8315401077270508,-14.1346435546875,7.451578140258789,11.716145515441895,9.561473846435547,-1.987579107284546,10.084333419799805,-22.23249053955078,-0.8503859043121338,-1.1958061456680298,-25.261449813842773,-9.654309272766113,10.489901542663574,-29.26709747314453,0.6565525531768799,4.007838726043701,10.10864543914795,63.09880828857422,3.812288284301758,11.427289962768555,8.71055793762207,16.884937286376953,11.654926300048828,-9.666936874389648,-15.20699691772461,2.3173108100891113,-3.1119680404663086,14.555963516235352,2.3237714767456055,-24.517608642578125,-32.436561584472656,6.89327335357666,-20.757017135620117,13.258734703063965,-4.4819231033325195],[0.1699122190475464,-8.705636978149414,2.685518741607666,-4.931051254272461,1.0475280284881592,13.653556823730469,1.7573059797286987,-4.051252841949463,-15.491090774536133,-11.704718589782715,-17.505794525146484,12.451650619506836,12.457084655761719,-9.408306121826172,15.856301307678223,-16.47425079345703,-16.145633697509766,-11.064153671264648,15.972322463989258,4.0407795906066895,-20.505157470703125,8.564311027526855,1.4391775131225586,-15.997563362121582,10.02311897277832,-5.87941837310791,-16.954547882080078,15.966036796569824,-17.089580535888672,1.6467890739440918,-1.4394429922103882,7.785453796386719,2.690189838409424,62.88516616821289,-2.0240695476531982,5.037199020385742,-31.392539978027344,3.3631396293640137,9.833683967590332,14.54684066772461,12.950691223144531,13.063095092773438,10.447737693786621,-22.85451889038086,8.018370628356934,13.636001586914062,-8.293231010437012,6.453662872314453,7.050384521484375,-23.275535583496094],[-16.729305267333984,2.822378635406494,-0.702171802520752,1.701615333557129,-28.510143280029297,-37.26325607299805,-23.289344787597656,-22.36465072631836,20.680892944335938,-5.319522857666016,19.544830322265625,6.039750099182129,15.905569076538086,-0.2249751091003418,-3.649475574493408,13.26789379119873,13.816610336303711,8.628436088562012,15.830102920532227,-16.062244415283203,-2.0988082885742188,-0.9047183990478516,-10.718801498413086,-2.145753860473633,-12.310416221618652,19.101398468017578,-23.936561584472656,11.523722648620605,-15.25977897644043,4.836172580718994,10.49770450592041,9.516945838928223,12.158689498901367,0.6989374160766602,61.60383987426758,16.054677963256836,1.024996042251587,4.147218704223633,-7.161070346832275,-5.687730312347412,11.805110931396484,-2.292179822921753,6.29811954498291,8.037128448486328,9.084382057189941,-0.5640082359313965,-10.621637344360352,1.1641416549682617,-2.285735845565796,-14.265156745910645],[-10.297761917114258,-11.564359664916992,-28.580875396728516,2.3131048679351807,-20.04063606262207,2.4163453578948975,-17.402427673339844,13.708373069763184,-12.788415908813477,1.1530067920684814,8.032082557678223,2.941455841064453,5.182157039642334,16.253459930419922,12.701457977294922,-12.807226181030273,-0.7462482452392578,5.849898338317871,-15.093670845031738,12.005407333374023,-1.1904466152191162,-7.74496603012085,-33.17778778076172,14.560038566589355,-0.21496319770812988,4.2958879470825195,-14.648255348205566,12.391035079956055,9.599739074707031,-2.1651241779327393,-26.906715393066406,16.166343688964844,12.741464614868164,8.03679084777832,6.931127071380615,67.61380004882812,14.733640670776367,0.035925865173339844,17.111711502075195,8.17226791381836,-22.57862091064453,-12.860456466674805,5.568086624145508,5.786487579345703,6.344812393188477,1.8677254915237427,10.670246124267578,7.978934288024902,-11.771020889282227,5.783330917358398],[-11.65643310546875,2.2474586963653564,-5.792938709259033,-12.786393165588379,11.006128311157227,6.505487442016602,5.144773006439209,5.731947898864746,5.910364627838135,-20.532291412353516,14.82274341583252,-7.882857322692871,13.546856880187988,9.980874061584473,-25.730562210083008,11.281140327453613,13.906163215637207,13.110475540161133,-4.164580345153809,-11.380733489990234,17.874614715576172,8.699385643005371,-17.65313720703125,-7.285183429718018,7.606062412261963,-4.5636115074157715,-2.2256851196289062,-14.037107467651367,15.694303512573242,-18.43280029296875,-21.612031936645508,6.636745452880859,15.075675010681152,-23.559844970703125,2.0346765518188477,14.652100563049316,70.16544342041016,-0.07537984848022461,4.187493324279785,-16.22216796875,7.512045860290527,-12.95503044128418,4.399786949157715,4.871504783630371,5.966318130493164,-22.547224044799805,4.694723129272461,1.5859670639038086,4.607142448425293,-5.682999134063721],[-7.423489093780518,1.375788688659668,1.2128653526306152,-0.9510544538497925,-4.775454521179199,0.9740172624588013,10.439678192138672,15.482098579406738,6.6071367263793945,13.64773178100586,-1.2441850900650024,9.020036697387695,3.3495681285858154,-7.307703971862793,-8.19110107421875,-22.209388732910156,1.175140380859375,-13.381240844726562,0.3140130043029785,15.751678466796875,-6.465500831604004,12.507633209228516,-5.820489883422852,-16.73194122314453,-37.069580078125,-13.33030891418457,6.18428897857666,-4.25739860534668,-18.03746795654297,6.320036888122559,-1.4098973274230957,9.220245361328125,12.334578514099121,5.119527816772461,-2.181518077850342,9.297466278076172,0.3795812129974365,62.36152648925781,1.5905400514602661,3.981377601623535,8.263063430786133,-9.190385818481445,-5.868354797363281,-15.060882568359375,9.688314437866211,-3.6005778312683105,16.885522842407227,-28.430953979492188,-26.979217529296875,-15.046356201171875],[-0.7169537544250488,-9.91466236114502,-13.186328887939453,-7.7861433029174805,9.2180814743042,11.022854804992676,-8.531370162963867,6.902507781982422,7.573480129241943,-20.464223861694336,-22.36079978942871,-34.43794631958008,-7.431307792663574,-11.00545597076416,11.578404426574707,2.1391615867614746,3.1008596420288086,7.4089202880859375,-5.016937255859375,-3.7156710624694824,-1.3652846813201904,6.076923370361328,-9.075606346130371,6.474140644073486,5.234430313110352,-4.330758571624756,3.2296621799468994,-13.71442985534668,-7.654734134674072,-9.618831634521484,2.9619007110595703,11.044235229492188,-13.316025733947754,9.436222076416016,-7.002575874328613,13.989618301391602,2.312802314758301,-1.411444067955017,56.475189208984375,9.556778907775879,0.6550190448760986,12.998852729797363,8.736674308776855,-7.630025386810303,14.547715187072754,6.548789024353027,4.393044471740723,9.730846405029297,-18.87202262878418,10.419090270996094],[-0.5020896792411804,-7.778207778930664,3.0513296127319336,-2.4560136795043945,-32.41149139404297,-10.356487274169922,11.879247665405273,-15.899591445922852,-1.5327916145324707,9.884574890136719,-6.769188404083252,-16.106569290161133,-17.252803802490234,-4.733826637268066,16.970855712890625,-3.619264602661133,11.102429389953613,3.323707342147827,7.501374244689941,13.081985473632812,-10.946998596191406,-11.481396675109863,-2.0852530002593994,-23.782119750976562,-4.779131889343262,4.752831935882568,12.528676986694336,3.180083990097046,11.096359252929688,11.902811050415039,-2.9216437339782715,-3.3354105949401855,-11.298261642456055,15.938847541809082,-3.952152967453003,13.79146671295166,-16.009815216064453,12.805398941040039,13.117633819580078,63.31280517578125,-26.239501953125,-2.4454851150512695,12.666337966918945,-6.921598434448242,14.497976303100586,-7.728084564208984,12.483537673950195,3.161414623260498,-3.8966023921966553,7.366802215576172],[-8.261981964111328,1.3590433597564697,1.4355003833770752,-24.749679565429688,6.220541477203369,-4.807204246520996,-7.319696426391602,5.167317867279053,16.52811050415039,-1.7091481685638428,6.5254106521606445,16.84922981262207,14.243071556091309,-6.543853282928467,-10.356485366821289,-7.888190269470215,-0.5398256778717041,-16.71695899963379,16.345176696777344,-29.98226547241211,-6.733667850494385,8.346821784973145,12.122939109802246,-4.358340263366699,-3.3835020065307617,9.86941909790039,-24.739593505859375,-8.767574310302734,-18.600757598876953,-9.248575210571289,8.19665241241455,10.862325668334961,-5.452517032623291,9.603253364562988,11.953601837158203,-20.615562438964844,3.41262149810791,5.537428855895996,1.0492968559265137,-24.306110382080078,64.41818237304688,16.841890335083008,13.98667049407959,-24.042285919189453,10.980083465576172,0.8245539665222168,-8.057208061218262,14.012832641601562,2.8139843940734863,-11.401920318603516],[-2.544562816619873,-6.478963851928711,-8.948637962341309,1.6881170272827148,10.5716552734375,-12.820005416870117,-28.37962532043457,-0.7468477487564087,15.51988697052002,-3.369810104370117,12.7525634765625,-10.170165061950684,-21.17770767211914,2.673405647277832,-9.114136695861816,-1.7375926971435547,-20.666481018066406,-2.025501251220703,3.088942527770996,-2.687964916229248,11.37450122833252,-1.5243778228759766,15.886301040649414,8.10986614227295,-16.481515884399414,14.513224601745605,8.023319244384766,-7.155004501342773,-9.711335182189941,2.9325637817382812,13.655519485473633,11.519103050231934,-13.420583724975586,7.981496810913086,-3.4842476844787598,-16.044885635375977,-12.504801750183105,-13.334600448608398,17.80679702758789,-2.162017345428467,14.578614234924316,61.73749542236328,16.541383743286133,-16.011539459228516,7.042435169219971,12.540669441223145,8.954188346862793,6.5923051834106445,14.30540657043457,0.9405550956726074],[-21.06541633605957,-13.098756790161133,-15.225496292114258,-20.164714813232422,2.529974937438965,-0.9825892448425293,1.9558093547821045,10.94106388092041,8.828641891479492,1.0080227851867676,8.412479400634766,-4.747429847717285,12.719950675964355,3.610001564025879,2.9873263835906982,-11.76598072052002,-6.648344039916992,14.790045738220215,8.709949493408203,4.030482292175293,13.477721214294434,-23.707088470458984,8.110394477844238,-3.904102325439453,8.246140480041504,6.738087177276611,-22.060895919799805,-20.457550048828125,-6.81211519241333,-1.7264225482940674,3.678497314453125,-19.840351104736328,5.612109661102295,5.788015365600586,5.092619895935059,5.350076675415039,5.870550155639648,-6.171122074127197,13.412357330322266,10.590873718261719,10.382278442382812,12.907352447509766,58.58361053466797,9.580987930297852,9.842830657958984,-18.780872344970703,5.40158224105835,4.02103328704834,6.9874420166015625,17.00523567199707],[-15.230941772460938,-1.9229037761688232,2.3650827407836914,10.044797897338867,11.533544540405273,-5.006985664367676,11.412670135498047,7.709918022155762,10.459457397460938,1.6269395351409912,-10.072652816772461,8.173198699951172,8.432409286499023,2.039367198944092,12.382177352905273,15.465248107910156,-15.7408447265625,2.316291093826294,9.256998062133789,5.91734504699707,7.280093193054199,-20.882654190063477,-14.20164966583252,12.863712310791016,3.738612174987793,10.23928165435791,-1.8423359394073486,-21.362762451171875,8.06680965423584,6.8932952880859375,7.671567440032959,-1.6412734985351562,9.967390060424805,-22.169300079345703,16.337135314941406,8.260272979736328,1.4543346166610718,-12.80920124053955,-11.301041603088379,-11.3609037399292,-18.792236328125,-17.571496963500977,7.205268383026123,62.463050842285156,-6.729698657989502,10.95598030090332,-24.056730270385742,-10.596758842468262,-7.902989864349365,13.344009399414062],[2.2274675369262695,-1.6709113121032715,-0.4958019256591797,-33.76908493041992,4.494541645050049,-25.684558868408203,7.800778388977051,5.9452619552612305,4.242101669311523,-12.206319808959961,6.256940841674805,16.72572135925293,8.685944557189941,-13.221187591552734,-8.803054809570312,2.0563805103302,-0.6782116889953613,-15.691117286682129,-17.659637451171875,15.027759552001953,14.737704277038574,-21.6981258392334,2.1561954021453857,-20.12567901611328,16.137903213500977,6.546216011047363,-11.700035095214844,-13.039806365966797,-10.309555053710938,0.7793874740600586,1.942518949508667,7.562500476837158,-15.640785217285156,16.977928161621094,6.413092136383057,12.532112121582031,5.177874565124512,11.498878479003906,12.723913192749023,9.874746322631836,10.441448211669922,6.690539360046387,10.115788459777832,-1.3609390258789062,66.90754699707031,18.539043426513672,-3.827507495880127,5.084136009216309,-23.189125061035156,-8.610309600830078],[-5.147912979125977,-1.141845703125,4.553385257720947,15.102804183959961,7.784402847290039,-10.35465145111084,-5.614223480224609,12.251420021057129,2.0089828968048096,12.976122856140137,-4.262297630310059,5.725333213806152,16.20232391357422,-21.1895751953125,-2.2150344848632812,-0.6815242767333984,-23.687074661254883,-15.555217742919922,14.246783256530762,2.5055880546569824,-1.8357957601547241,11.527348518371582,-1.3243141174316406,12.225024223327637,-11.1553373336792,14.440986633300781,-2.714951276779175,-7.690828323364258,9.17866039276123,-4.796161651611328,16.39139175415039,10.916976928710938,-33.556583404541016,17.730117797851562,1.7224864959716797,0.8881869316101074,-30.191043853759766,-7.877106666564941,2.404649257659912,-11.130659103393555,0.2703971862792969,13.06552505493164,-22.646530151367188,13.099617958068848,16.910255432128906,72.35966491699219,-28.20588493347168,8.185348510742188,-29.679819107055664,-5.121691703796387],[3.3593478202819824,-12.949629783630371,-16.487834930419922,-3.1182689666748047,-5.6456427574157715,-6.211902618408203,13.15452766418457,1.213770866394043,-22.910154342651367,8.968632698059082,15.804515838623047,-0.1464223861694336,-23.28121566772461,-4.152477264404297,-5.4679718017578125,7.238912105560303,4.844555854797363,-13.03935432434082,-23.175813674926758,2.020504951477051,15.351048469543457,3.772104024887085,2.11869478225708,12.972810745239258,-12.441765785217285,-23.91012191772461,8.761404037475586,14.58382797241211,10.744400024414062,1.0878400802612305,-10.051226615905762,4.016543388366699,-1.9245214462280273,-15.912891387939453,-18.88679313659668,10.421670913696289,10.824220657348633,9.114410400390625,11.639688491821289,11.157815933227539,-10.102728843688965,9.558928489685059,0.7292308807373047,-25.18062973022461,-0.49152421951293945,-22.404220581054688,61.2080078125,10.568199157714844,6.01468563079834,15.189739227294922],[-14.37429141998291,-9.316635131835938,-5.900405406951904,5.819884777069092,4.5774431228637695,-3.134509801864624,-11.394248008728027,-15.779459953308105,3.8903560638427734,4.4962358474731445,8.032096862792969,9.930621147155762,9.00821304321289,3.519528865814209,14.045180320739746,8.855390548706055,-0.9905685186386108,-10.04106616973877,4.742865562438965,-25.152118682861328,-6.900755882263184,-16.132801055908203,1.120241641998291,11.435190200805664,11.30787467956543,12.648725509643555,-6.670928001403809,10.923575401306152,13.637558937072754,-30.241046905517578,-3.353602409362793,11.211146354675293,-22.409709930419922,1.8332405090332031,7.245609283447266,4.575440406799316,0.6839308738708496,-32.715763092041016,9.915464401245117,2.1471033096313477,15.385422706604004,5.826512336730957,5.909823417663574,-3.8977231979370117,8.924054145812988,10.757852554321289,-4.541513442993164,61.41811752319336,10.44749641418457,10.954238891601562],[-1.8217787742614746,-5.114210605621338,2.549830675125122,2.1866230964660645,-0.7201734781265259,14.255062103271484,-1.9125876426696777,-4.927021026611328,-11.448575019836426,-7.000482559204102,-0.7067079544067383,2.666048765182495,-19.73776626586914,9.244811058044434,0.719642162322998,9.024600982666016,0.46727705001831055,6.161606788635254,3.7048802375793457,-18.441041946411133,3.5103015899658203,1.169546127319336,5.64332914352417,7.5896806716918945,9.428759574890137,2.0247316360473633,10.146780967712402,10.07264232635498,12.420397758483887,11.158132553100586,-19.190553665161133,2.7759227752685547,9.966108322143555,-0.23576998710632324,-6.419051647186279,-20.49535369873047,9.12802791595459,-24.740333557128906,-14.327425956726074,-3.747973918914795,4.253815174102783,13.111401557922363,8.701739311218262,-7.773077011108398,-26.594392776489258,-36.406646728515625,10.769052505493164,8.09249496459961,60.18431091308594,-9.623397827148438],[5.838808536529541,-7.849559783935547,-5.990496635437012,13.058588027954102,8.82602596282959,10.7823486328125,5.357205390930176,13.827573776245117,6.685558319091797,13.002449035644531,1.84739089012146,-25.41516876220703,-18.750381469726562,19.08686065673828,12.221749305725098,-5.173928737640381,-10.981578826904297,6.873149871826172,-1.9589507579803467,-1.7453597784042358,-3.4882607460021973,-20.16794204711914,-5.72879695892334,17.560832977294922,-3.1524834632873535,-10.81885814666748,-8.660888671875,-24.271121978759766,-5.623887538909912,-12.188562393188477,15.095572471618652,-21.64409637451172,3.5927634239196777,-28.666507720947266,-12.825132369995117,8.057962417602539,-3.3470139503479004,-15.562557220458984,14.434704780578613,4.160207748413086,-15.882227897644043,-3.187229633331299,19.14919662475586,16.674245834350586,-15.527027130126953,-4.9695353507995605,12.235292434692383,5.744401454925537,-12.38919448852539,65.32881164550781],[2.086029052734375,-1.648187518119812,-16.377214431762695,-0.665985643863678,-3.0939955711364746,7.769958972930908,8.826070785522461,-0.18764400482177734,-1.141353726387024,2.1890549659729004,-0.2591785192489624,-7.199283599853516,-1.8956959247589111,-2.9978623390197754,2.823180913925171,7.337536811828613,7.631061553955078,2.13053297996521,-5.911086559295654,-1.3780615329742432,-2.159978151321411,-3.2305707931518555,-6.141396522521973,5.541651725769043,2.7636446952819824,-3.4621825218200684,2.598703145980835,-1.5933032035827637,15.903328895568848,5.550069808959961,-10.692143440246582,4.084824562072754,-1.3704413175582886,-6.048703193664551,-10.4923095703125,5.55931282043457,5.4376912117004395,-9.777568817138672,4.040252685546875,5.730703830718994,-11.619590759277344,-2.644686698913574,0.27585792541503906,2.0724806785583496,-4.051538467407227,-7.042040824890137,6.421786308288574,2.1105618476867676,4.671083450317383,2.8370871543884277],[5.1911773681640625,-5.535367488861084,-14.539674758911133,8.480877876281738,-1.907988429069519,1.3757630586624146,-9.814250946044922,-9.084869384765625,2.808525800704956,-5.857309341430664,-0.41714292764663696,-16.760112762451172,-6.312894344329834,5.054073810577393,6.674295425415039,3.4701194763183594,1.8662896156311035,8.224172592163086,-8.024601936340332,5.566911697387695,-5.394081115722656,1.0229520797729492,2.1529765129089355,12.783514022827148,3.91182804107666,-0.27389347553253174,7.304172515869141,8.263684272766113,3.0415759086608887,-3.842679500579834,6.202510356903076,3.7566018104553223,-0.9294255375862122,-6.194866180419922,-5.149928569793701,2.384190082550049,-4.016505718231201,-11.365982055664062,14.262218475341797,7.192808628082275,-10.724849700927734,8.647590637207031,1.2284228801727295,-3.223921298980713,-11.373735427856445,-4.791434288024902,7.02229118347168,6.412979602813721,0.5410445928573608,8.68327808380127],[0.5342553853988647,6.009941101074219,5.936675548553467,1.8552082777023315,1.3708186149597168,1.5307248830795288,-1.6709095239639282,5.67807149887085,-2.545243740081787,-0.5564320683479309,-2.069570541381836,-0.1948350965976715,-0.014743506908416748,4.720180511474609,-7.294264316558838,-2.6285345554351807,1.3908064365386963,2.0991296768188477,-1.4323283433914185,-1.9917387962341309,1.7039999961853027,-0.579623281955719,0.6075255274772644,-6.170550346374512,-3.4733903408050537,0.3522792160511017,1.4742212295532227,-1.3469481468200684,1.753844976425171,-2.8312807083129883,-8.91786003112793,-2.9350013732910156,-2.529712200164795,1.4620370864868164,-0.10376475751399994,0.824115514755249,7.584968566894531,1.136372685432434,-3.8949904441833496,-1.0982589721679688,-1.5603951215744019,-2.3141002655029297,-3.5780038833618164,-1.8402705192565918,1.5870757102966309,-1.1177029609680176,-1.2829647064208984,-1.3477513790130615,3.7574217319488525,-3.800602436065674]],\"type\":\"heatmap\",\"xaxis\":\"x\",\"yaxis\":\"y\",\"hovertemplate\":\"logit: %{x}<br>src token: %{y}<br>color: %{z}<extra></extra>\"}],                        {\"template\":{\"data\":{\"histogram2dcontour\":[{\"type\":\"histogram2dcontour\",\"colorbar\":{\"outlinewidth\":0,\"ticks\":\"\"},\"colorscale\":[[0.0,\"#0d0887\"],[0.1111111111111111,\"#46039f\"],[0.2222222222222222,\"#7201a8\"],[0.3333333333333333,\"#9c179e\"],[0.4444444444444444,\"#bd3786\"],[0.5555555555555556,\"#d8576b\"],[0.6666666666666666,\"#ed7953\"],[0.7777777777777778,\"#fb9f3a\"],[0.8888888888888888,\"#fdca26\"],[1.0,\"#f0f921\"]]}],\"choropleth\":[{\"type\":\"choropleth\",\"colorbar\":{\"outlinewidth\":0,\"ticks\":\"\"}}],\"histogram2d\":[{\"type\":\"histogram2d\",\"colorbar\":{\"outlinewidth\":0,\"ticks\":\"\"},\"colorscale\":[[0.0,\"#0d0887\"],[0.1111111111111111,\"#46039f\"],[0.2222222222222222,\"#7201a8\"],[0.3333333333333333,\"#9c179e\"],[0.4444444444444444,\"#bd3786\"],[0.5555555555555556,\"#d8576b\"],[0.6666666666666666,\"#ed7953\"],[0.7777777777777778,\"#fb9f3a\"],[0.8888888888888888,\"#fdca26\"],[1.0,\"#f0f921\"]]}],\"heatmap\":[{\"type\":\"heatmap\",\"colorbar\":{\"outlinewidth\":0,\"ticks\":\"\"},\"colorscale\":[[0.0,\"#0d0887\"],[0.1111111111111111,\"#46039f\"],[0.2222222222222222,\"#7201a8\"],[0.3333333333333333,\"#9c179e\"],[0.4444444444444444,\"#bd3786\"],[0.5555555555555556,\"#d8576b\"],[0.6666666666666666,\"#ed7953\"],[0.7777777777777778,\"#fb9f3a\"],[0.8888888888888888,\"#fdca26\"],[1.0,\"#f0f921\"]]}],\"heatmapgl\":[{\"type\":\"heatmapgl\",\"colorbar\":{\"outlinewidth\":0,\"ticks\":\"\"},\"colorscale\":[[0.0,\"#0d0887\"],[0.1111111111111111,\"#46039f\"],[0.2222222222222222,\"#7201a8\"],[0.3333333333333333,\"#9c179e\"],[0.4444444444444444,\"#bd3786\"],[0.5555555555555556,\"#d8576b\"],[0.6666666666666666,\"#ed7953\"],[0.7777777777777778,\"#fb9f3a\"],[0.8888888888888888,\"#fdca26\"],[1.0,\"#f0f921\"]]}],\"contourcarpet\":[{\"type\":\"contourcarpet\",\"colorbar\":{\"outlinewidth\":0,\"ticks\":\"\"}}],\"contour\":[{\"type\":\"contour\",\"colorbar\":{\"outlinewidth\":0,\"ticks\":\"\"},\"colorscale\":[[0.0,\"#0d0887\"],[0.1111111111111111,\"#46039f\"],[0.2222222222222222,\"#7201a8\"],[0.3333333333333333,\"#9c179e\"],[0.4444444444444444,\"#bd3786\"],[0.5555555555555556,\"#d8576b\"],[0.6666666666666666,\"#ed7953\"],[0.7777777777777778,\"#fb9f3a\"],[0.8888888888888888,\"#fdca26\"],[1.0,\"#f0f921\"]]}],\"surface\":[{\"type\":\"surface\",\"colorbar\":{\"outlinewidth\":0,\"ticks\":\"\"},\"colorscale\":[[0.0,\"#0d0887\"],[0.1111111111111111,\"#46039f\"],[0.2222222222222222,\"#7201a8\"],[0.3333333333333333,\"#9c179e\"],[0.4444444444444444,\"#bd3786\"],[0.5555555555555556,\"#d8576b\"],[0.6666666666666666,\"#ed7953\"],[0.7777777777777778,\"#fb9f3a\"],[0.8888888888888888,\"#fdca26\"],[1.0,\"#f0f921\"]]}],\"mesh3d\":[{\"type\":\"mesh3d\",\"colorbar\":{\"outlinewidth\":0,\"ticks\":\"\"}}],\"scatter\":[{\"fillpattern\":{\"fillmode\":\"overlay\",\"size\":10,\"solidity\":0.2},\"type\":\"scatter\"}],\"parcoords\":[{\"type\":\"parcoords\",\"line\":{\"colorbar\":{\"outlinewidth\":0,\"ticks\":\"\"}}}],\"scatterpolargl\":[{\"type\":\"scatterpolargl\",\"marker\":{\"colorbar\":{\"outlinewidth\":0,\"ticks\":\"\"}}}],\"bar\":[{\"error_x\":{\"color\":\"#2a3f5f\"},\"error_y\":{\"color\":\"#2a3f5f\"},\"marker\":{\"line\":{\"color\":\"#E5ECF6\",\"width\":0.5},\"pattern\":{\"fillmode\":\"overlay\",\"size\":10,\"solidity\":0.2}},\"type\":\"bar\"}],\"scattergeo\":[{\"type\":\"scattergeo\",\"marker\":{\"colorbar\":{\"outlinewidth\":0,\"ticks\":\"\"}}}],\"scatterpolar\":[{\"type\":\"scatterpolar\",\"marker\":{\"colorbar\":{\"outlinewidth\":0,\"ticks\":\"\"}}}],\"histogram\":[{\"marker\":{\"pattern\":{\"fillmode\":\"overlay\",\"size\":10,\"solidity\":0.2}},\"type\":\"histogram\"}],\"scattergl\":[{\"type\":\"scattergl\",\"marker\":{\"colorbar\":{\"outlinewidth\":0,\"ticks\":\"\"}}}],\"scatter3d\":[{\"type\":\"scatter3d\",\"line\":{\"colorbar\":{\"outlinewidth\":0,\"ticks\":\"\"}},\"marker\":{\"colorbar\":{\"outlinewidth\":0,\"ticks\":\"\"}}}],\"scattermapbox\":[{\"type\":\"scattermapbox\",\"marker\":{\"colorbar\":{\"outlinewidth\":0,\"ticks\":\"\"}}}],\"scatterternary\":[{\"type\":\"scatterternary\",\"marker\":{\"colorbar\":{\"outlinewidth\":0,\"ticks\":\"\"}}}],\"scattercarpet\":[{\"type\":\"scattercarpet\",\"marker\":{\"colorbar\":{\"outlinewidth\":0,\"ticks\":\"\"}}}],\"carpet\":[{\"aaxis\":{\"endlinecolor\":\"#2a3f5f\",\"gridcolor\":\"white\",\"linecolor\":\"white\",\"minorgridcolor\":\"white\",\"startlinecolor\":\"#2a3f5f\"},\"baxis\":{\"endlinecolor\":\"#2a3f5f\",\"gridcolor\":\"white\",\"linecolor\":\"white\",\"minorgridcolor\":\"white\",\"startlinecolor\":\"#2a3f5f\"},\"type\":\"carpet\"}],\"table\":[{\"cells\":{\"fill\":{\"color\":\"#EBF0F8\"},\"line\":{\"color\":\"white\"}},\"header\":{\"fill\":{\"color\":\"#C8D4E3\"},\"line\":{\"color\":\"white\"}},\"type\":\"table\"}],\"barpolar\":[{\"marker\":{\"line\":{\"color\":\"#E5ECF6\",\"width\":0.5},\"pattern\":{\"fillmode\":\"overlay\",\"size\":10,\"solidity\":0.2}},\"type\":\"barpolar\"}],\"pie\":[{\"automargin\":true,\"type\":\"pie\"}]},\"layout\":{\"autotypenumbers\":\"strict\",\"colorway\":[\"#636efa\",\"#EF553B\",\"#00cc96\",\"#ab63fa\",\"#FFA15A\",\"#19d3f3\",\"#FF6692\",\"#B6E880\",\"#FF97FF\",\"#FECB52\"],\"font\":{\"color\":\"#2a3f5f\"},\"hovermode\":\"closest\",\"hoverlabel\":{\"align\":\"left\"},\"paper_bgcolor\":\"white\",\"plot_bgcolor\":\"#E5ECF6\",\"polar\":{\"bgcolor\":\"#E5ECF6\",\"angularaxis\":{\"gridcolor\":\"white\",\"linecolor\":\"white\",\"ticks\":\"\"},\"radialaxis\":{\"gridcolor\":\"white\",\"linecolor\":\"white\",\"ticks\":\"\"}},\"ternary\":{\"bgcolor\":\"#E5ECF6\",\"aaxis\":{\"gridcolor\":\"white\",\"linecolor\":\"white\",\"ticks\":\"\"},\"baxis\":{\"gridcolor\":\"white\",\"linecolor\":\"white\",\"ticks\":\"\"},\"caxis\":{\"gridcolor\":\"white\",\"linecolor\":\"white\",\"ticks\":\"\"}},\"coloraxis\":{\"colorbar\":{\"outlinewidth\":0,\"ticks\":\"\"}},\"colorscale\":{\"sequential\":[[0.0,\"#0d0887\"],[0.1111111111111111,\"#46039f\"],[0.2222222222222222,\"#7201a8\"],[0.3333333333333333,\"#9c179e\"],[0.4444444444444444,\"#bd3786\"],[0.5555555555555556,\"#d8576b\"],[0.6666666666666666,\"#ed7953\"],[0.7777777777777778,\"#fb9f3a\"],[0.8888888888888888,\"#fdca26\"],[1.0,\"#f0f921\"]],\"sequentialminus\":[[0.0,\"#0d0887\"],[0.1111111111111111,\"#46039f\"],[0.2222222222222222,\"#7201a8\"],[0.3333333333333333,\"#9c179e\"],[0.4444444444444444,\"#bd3786\"],[0.5555555555555556,\"#d8576b\"],[0.6666666666666666,\"#ed7953\"],[0.7777777777777778,\"#fb9f3a\"],[0.8888888888888888,\"#fdca26\"],[1.0,\"#f0f921\"]],\"diverging\":[[0,\"#8e0152\"],[0.1,\"#c51b7d\"],[0.2,\"#de77ae\"],[0.3,\"#f1b6da\"],[0.4,\"#fde0ef\"],[0.5,\"#f7f7f7\"],[0.6,\"#e6f5d0\"],[0.7,\"#b8e186\"],[0.8,\"#7fbc41\"],[0.9,\"#4d9221\"],[1,\"#276419\"]]},\"xaxis\":{\"gridcolor\":\"white\",\"linecolor\":\"white\",\"ticks\":\"\",\"title\":{\"standoff\":15},\"zerolinecolor\":\"white\",\"automargin\":true,\"zerolinewidth\":2},\"yaxis\":{\"gridcolor\":\"white\",\"linecolor\":\"white\",\"ticks\":\"\",\"title\":{\"standoff\":15},\"zerolinecolor\":\"white\",\"automargin\":true,\"zerolinewidth\":2},\"scene\":{\"xaxis\":{\"backgroundcolor\":\"#E5ECF6\",\"gridcolor\":\"white\",\"linecolor\":\"white\",\"showbackground\":true,\"ticks\":\"\",\"zerolinecolor\":\"white\",\"gridwidth\":2},\"yaxis\":{\"backgroundcolor\":\"#E5ECF6\",\"gridcolor\":\"white\",\"linecolor\":\"white\",\"showbackground\":true,\"ticks\":\"\",\"zerolinecolor\":\"white\",\"gridwidth\":2},\"zaxis\":{\"backgroundcolor\":\"#E5ECF6\",\"gridcolor\":\"white\",\"linecolor\":\"white\",\"showbackground\":true,\"ticks\":\"\",\"zerolinecolor\":\"white\",\"gridwidth\":2}},\"shapedefaults\":{\"line\":{\"color\":\"#2a3f5f\"}},\"annotationdefaults\":{\"arrowcolor\":\"#2a3f5f\",\"arrowhead\":0,\"arrowwidth\":1},\"geo\":{\"bgcolor\":\"white\",\"landcolor\":\"#E5ECF6\",\"subunitcolor\":\"white\",\"showland\":true,\"showlakes\":true,\"lakecolor\":\"white\"},\"title\":{\"x\":0.05},\"mapbox\":{\"style\":\"light\"}}},\"xaxis\":{\"anchor\":\"y\",\"domain\":[0.0,1.0],\"scaleanchor\":\"y\",\"constrain\":\"domain\",\"title\":{\"text\":\"logit\"}},\"yaxis\":{\"anchor\":\"x\",\"domain\":[0.0,1.0],\"autorange\":\"reversed\",\"constrain\":\"domain\",\"title\":{\"text\":\"src token\"}},\"coloraxis\":{\"colorscale\":[[0.0,\"rgb(103,0,31)\"],[0.1,\"rgb(178,24,43)\"],[0.2,\"rgb(214,96,77)\"],[0.3,\"rgb(244,165,130)\"],[0.4,\"rgb(253,219,199)\"],[0.5,\"rgb(247,247,247)\"],[0.6,\"rgb(209,229,240)\"],[0.7,\"rgb(146,197,222)\"],[0.8,\"rgb(67,147,195)\"],[0.9,\"rgb(33,102,172)\"],[1.0,\"rgb(5,48,97)\"]],\"cmid\":0.0},\"title\":{\"text\":\"Virtual OV circuit: W_E @ W_OV^0.0 @ W_OV^1.0 @ W_U\"}},                        {\"responsive\": true}                    ).then(function(){\n",
              "                            \n",
              "var gd = document.getElementById('bd31e4c3-df8b-4089-b102-27d5d2049496');\n",
              "var x = new MutationObserver(function (mutations, observer) {{\n",
              "        var display = window.getComputedStyle(gd).display;\n",
              "        if (!display || display === 'none') {{\n",
              "            console.log([gd, 'removed!']);\n",
              "            Plotly.purge(gd);\n",
              "            observer.disconnect();\n",
              "        }}\n",
              "}});\n",
              "\n",
              "// Listen for the removal of the full notebook cells\n",
              "var notebookContainer = gd.closest('#notebook-container');\n",
              "if (notebookContainer) {{\n",
              "    x.observe(notebookContainer, {childList: true});\n",
              "}}\n",
              "\n",
              "// Listen for the clearing of the current output cell\n",
              "var outputEl = gd.closest('.output');\n",
              "if (outputEl) {{\n",
              "    x.observe(outputEl, {childList: true});\n",
              "}}\n",
              "\n",
              "                        })                };                            </script>        </div>\n",
              "</body>\n",
              "</html>"
            ]
          },
          "metadata": {}
        }
      ]
    },
    {
      "cell_type": "code",
      "source": [
        "top_1_acc = (virtual_OV_circuit[:MAX_INT].argmax(dim=-1) == torch.arange(MAX_INT, device=device)).float().mean()\n",
        "print(f\"Fraction of time top logit is on diagonal:\", top_1_acc.item())"
      ],
      "metadata": {
        "colab": {
          "base_uri": "https://localhost:8080/"
        },
        "id": "5CN6pjhMSJWF",
        "outputId": "9627da5b-26a5-4907-8904-50236b28d9bb"
      },
      "execution_count": 113,
      "outputs": [
        {
          "output_type": "stream",
          "name": "stdout",
          "text": [
            "Fraction of time top logit is on diagonal: 1.0\n"
          ]
        }
      ]
    },
    {
      "cell_type": "markdown",
      "source": [
        "We see clear copying, confirming the V-composition that we expected."
      ],
      "metadata": {
        "id": "MA3QPFSoShEE"
      }
    },
    {
      "cell_type": "markdown",
      "source": [
        "# Summary"
      ],
      "metadata": {
        "id": "nlbwCC00SpOk"
      }
    },
    {
      "cell_type": "markdown",
      "source": [
        "We found that a 2L, 1H, attn only transformer with no biases or LN can learn to permute lists by leveraging V-composition:\n",
        "\n",
        "\n",
        "1. attn 0.0 moves answer information from list indices to corresponding perm positions.\n",
        "2. attn 1.0 routes the same information from perm positions to the prediction positions.\n",
        "\n",
        "\n",
        "The lines of evidence we used are:\n",
        "\n",
        "\n",
        "1. Direct logit attribution: we found the last attn layer had the greatest direct effect on the logits by far (specifically the term corresponding to the virtual attn head).\n",
        "2. 1.0 attn patterns showed that the prediction positions empirically attended to fixed perm positions, and the QK circuit weights explained this.\n",
        "3. 0.0 attn patterns showed that the perm token i attended to corresponding list positions i+1, and the QK circuit weights explained this.\n",
        "4. The virtual attn pattern $A^{1.0}A^{0.0}$ showed that the prediction positions effectively attended to the correct list token for the examples we checked.\n",
        "5. The virtual OV circuit $W_EW_{OV}^{0.0}W_{OV}^{1.0}W_U$ showed clear copying (100% top 1 logit on diagonal)."
      ],
      "metadata": {
        "id": "Ckj5w6MwSqK8"
      }
    },
    {
      "cell_type": "markdown",
      "source": [
        "## General techniques you can apply to other problems"
      ],
      "metadata": {
        "id": "_Etyj3-9TzaJ"
      }
    },
    {
      "cell_type": "markdown",
      "source": [
        "* Direct logit attribution\n",
        "* Staring at attn patterns\n",
        "* Decomposing activations into a sum of terms, and analyzing their importance\n",
        "* Multiplying out QK / OV circuits"
      ],
      "metadata": {
        "id": "ROm63eRnT1qO"
      }
    }
  ]
}