{
  "nbformat": 4,
  "nbformat_minor": 0,
  "metadata": {
    "colab": {
      "provenance": [],
      "toc_visible": true,
      "gpuType": "T4",
      "authorship_tag": "ABX9TyNq1At9hqChWjWMKgEUSpDZ"
    },
    "kernelspec": {
      "name": "python3",
      "display_name": "Python 3"
    },
    "language_info": {
      "name": "python"
    },
    "accelerator": "GPU"
  },
  "cells": [
    {
      "cell_type": "markdown",
      "source": [
        "# Problem"
      ],
      "metadata": {
        "id": "PMeMP28yOQkT"
      }
    },
    {
      "cell_type": "markdown",
      "source": [
        "Interpret a toy model trained to permute lists."
      ],
      "metadata": {
        "id": "NCx8qhgSORri"
      }
    },
    {
      "cell_type": "markdown",
      "metadata": {
        "id": "VwOR_d1By-sI"
      },
      "source": [
        "# Setup\n",
        "(No need to read)"
      ]
    },
    {
      "cell_type": "code",
      "source": [
        "!git clone https://github.com/ckkissane/mech-interp-practice.git"
      ],
      "metadata": {
        "colab": {
          "base_uri": "https://localhost:8080/"
        },
        "id": "s-q_6Ed3PfcT",
        "outputId": "bbc2d655-3497-4e18-887a-14fe795ee215"
      },
      "execution_count": 1,
      "outputs": [
        {
          "output_type": "stream",
          "name": "stdout",
          "text": [
            "Cloning into 'mech-interp-practice'...\n",
            "remote: Enumerating objects: 351, done.\u001b[K\n",
            "remote: Counting objects: 100% (170/170), done.\u001b[K\n",
            "remote: Compressing objects: 100% (156/156), done.\u001b[K\n",
            "remote: Total 351 (delta 103), reused 32 (delta 14), pack-reused 181\u001b[K\n",
            "Receiving objects: 100% (351/351), 38.64 MiB | 12.07 MiB/s, done.\n",
            "Resolving deltas: 100% (182/182), done.\n"
          ]
        }
      ]
    },
    {
      "cell_type": "code",
      "execution_count": 2,
      "metadata": {
        "outputId": "395e4f75-06aa-4c18-bff6-5e8b493281d5",
        "colab": {
          "base_uri": "https://localhost:8080/"
        },
        "id": "NbqtM-pny-sV"
      },
      "outputs": [
        {
          "output_type": "stream",
          "name": "stdout",
          "text": [
            "Running as a Colab notebook\n",
            "Collecting git+https://github.com/neelnanda-io/TransformerLens.git\n",
            "  Cloning https://github.com/neelnanda-io/TransformerLens.git to /tmp/pip-req-build-zopau3nk\n",
            "  Running command git clone --filter=blob:none --quiet https://github.com/neelnanda-io/TransformerLens.git /tmp/pip-req-build-zopau3nk\n",
            "  Resolved https://github.com/neelnanda-io/TransformerLens.git to commit 20a44fe3a8022d353c9cc7c984a8fcab14552d1c\n",
            "  Installing build dependencies ... \u001b[?25l\u001b[?25hdone\n",
            "  Getting requirements to build wheel ... \u001b[?25l\u001b[?25hdone\n",
            "  Preparing metadata (pyproject.toml) ... \u001b[?25l\u001b[?25hdone\n",
            "Collecting beartype<0.15.0,>=0.14.1 (from transformer-lens==0.0.0)\n",
            "  Downloading beartype-0.14.1-py3-none-any.whl (739 kB)\n",
            "\u001b[2K     \u001b[90m━━━━━━━━━━━━━━━━━━━━━━━━━━━━━━━━━━━━━━━\u001b[0m \u001b[32m739.7/739.7 kB\u001b[0m \u001b[31m6.1 MB/s\u001b[0m eta \u001b[36m0:00:00\u001b[0m\n",
            "\u001b[?25hCollecting datasets>=2.7.1 (from transformer-lens==0.0.0)\n",
            "  Downloading datasets-2.14.5-py3-none-any.whl (519 kB)\n",
            "\u001b[2K     \u001b[90m━━━━━━━━━━━━━━━━━━━━━━━━━━━━━━━━━━━━━━━\u001b[0m \u001b[32m519.6/519.6 kB\u001b[0m \u001b[31m7.7 MB/s\u001b[0m eta \u001b[36m0:00:00\u001b[0m\n",
            "\u001b[?25hCollecting einops>=0.6.0 (from transformer-lens==0.0.0)\n",
            "  Downloading einops-0.6.1-py3-none-any.whl (42 kB)\n",
            "\u001b[2K     \u001b[90m━━━━━━━━━━━━━━━━━━━━━━━━━━━━━━━━━━━━━━━━\u001b[0m \u001b[32m42.2/42.2 kB\u001b[0m \u001b[31m5.4 MB/s\u001b[0m eta \u001b[36m0:00:00\u001b[0m\n",
            "\u001b[?25hCollecting fancy-einsum>=0.0.3 (from transformer-lens==0.0.0)\n",
            "  Downloading fancy_einsum-0.0.3-py3-none-any.whl (6.2 kB)\n",
            "Collecting jaxtyping>=0.2.11 (from transformer-lens==0.0.0)\n",
            "  Downloading jaxtyping-0.2.21-py3-none-any.whl (25 kB)\n",
            "Requirement already satisfied: numpy>=1.23 in /usr/local/lib/python3.10/dist-packages (from transformer-lens==0.0.0) (1.23.5)\n",
            "Requirement already satisfied: pandas>=1.1.5 in /usr/local/lib/python3.10/dist-packages (from transformer-lens==0.0.0) (1.5.3)\n",
            "Requirement already satisfied: rich>=12.6.0 in /usr/local/lib/python3.10/dist-packages (from transformer-lens==0.0.0) (13.5.2)\n",
            "Requirement already satisfied: torch>=1.10 in /usr/local/lib/python3.10/dist-packages (from transformer-lens==0.0.0) (2.0.1+cu118)\n",
            "Requirement already satisfied: tqdm>=4.64.1 in /usr/local/lib/python3.10/dist-packages (from transformer-lens==0.0.0) (4.66.1)\n",
            "Collecting transformers>=4.25.1 (from transformer-lens==0.0.0)\n",
            "  Downloading transformers-4.33.2-py3-none-any.whl (7.6 MB)\n",
            "\u001b[2K     \u001b[90m━━━━━━━━━━━━━━━━━━━━━━━━━━━━━━━━━━━━━━━━\u001b[0m \u001b[32m7.6/7.6 MB\u001b[0m \u001b[31m13.2 MB/s\u001b[0m eta \u001b[36m0:00:00\u001b[0m\n",
            "\u001b[?25hCollecting wandb>=0.13.5 (from transformer-lens==0.0.0)\n",
            "  Downloading wandb-0.15.10-py3-none-any.whl (2.1 MB)\n",
            "\u001b[2K     \u001b[90m━━━━━━━━━━━━━━━━━━━━━━━━━━━━━━━━━━━━━━━━\u001b[0m \u001b[32m2.1/2.1 MB\u001b[0m \u001b[31m16.8 MB/s\u001b[0m eta \u001b[36m0:00:00\u001b[0m\n",
            "\u001b[?25hRequirement already satisfied: pyarrow>=8.0.0 in /usr/local/lib/python3.10/dist-packages (from datasets>=2.7.1->transformer-lens==0.0.0) (9.0.0)\n",
            "Collecting dill<0.3.8,>=0.3.0 (from datasets>=2.7.1->transformer-lens==0.0.0)\n",
            "  Downloading dill-0.3.7-py3-none-any.whl (115 kB)\n",
            "\u001b[2K     \u001b[90m━━━━━━━━━━━━━━━━━━━━━━━━━━━━━━━━━━━━━━\u001b[0m \u001b[32m115.3/115.3 kB\u001b[0m \u001b[31m11.8 MB/s\u001b[0m eta \u001b[36m0:00:00\u001b[0m\n",
            "\u001b[?25hRequirement already satisfied: requests>=2.19.0 in /usr/local/lib/python3.10/dist-packages (from datasets>=2.7.1->transformer-lens==0.0.0) (2.31.0)\n",
            "Collecting xxhash (from datasets>=2.7.1->transformer-lens==0.0.0)\n",
            "  Downloading xxhash-3.3.0-cp310-cp310-manylinux_2_17_x86_64.manylinux2014_x86_64.whl (194 kB)\n",
            "\u001b[2K     \u001b[90m━━━━━━━━━━━━━━━━━━━━━━━━━━━━━━━━━━━━━━\u001b[0m \u001b[32m194.1/194.1 kB\u001b[0m \u001b[31m18.0 MB/s\u001b[0m eta \u001b[36m0:00:00\u001b[0m\n",
            "\u001b[?25hCollecting multiprocess (from datasets>=2.7.1->transformer-lens==0.0.0)\n",
            "  Downloading multiprocess-0.70.15-py310-none-any.whl (134 kB)\n",
            "\u001b[2K     \u001b[90m━━━━━━━━━━━━━━━━━━━━━━━━━━━━━━━━━━━━━━\u001b[0m \u001b[32m134.8/134.8 kB\u001b[0m \u001b[31m13.6 MB/s\u001b[0m eta \u001b[36m0:00:00\u001b[0m\n",
            "\u001b[?25hRequirement already satisfied: fsspec[http]<2023.9.0,>=2023.1.0 in /usr/local/lib/python3.10/dist-packages (from datasets>=2.7.1->transformer-lens==0.0.0) (2023.6.0)\n",
            "Requirement already satisfied: aiohttp in /usr/local/lib/python3.10/dist-packages (from datasets>=2.7.1->transformer-lens==0.0.0) (3.8.5)\n",
            "Collecting huggingface-hub<1.0.0,>=0.14.0 (from datasets>=2.7.1->transformer-lens==0.0.0)\n",
            "  Downloading huggingface_hub-0.17.1-py3-none-any.whl (294 kB)\n",
            "\u001b[2K     \u001b[90m━━━━━━━━━━━━━━━━━━━━━━━━━━━━━━━━━━━━━━\u001b[0m \u001b[32m294.8/294.8 kB\u001b[0m \u001b[31m14.9 MB/s\u001b[0m eta \u001b[36m0:00:00\u001b[0m\n",
            "\u001b[?25hRequirement already satisfied: packaging in /usr/local/lib/python3.10/dist-packages (from datasets>=2.7.1->transformer-lens==0.0.0) (23.1)\n",
            "Requirement already satisfied: pyyaml>=5.1 in /usr/local/lib/python3.10/dist-packages (from datasets>=2.7.1->transformer-lens==0.0.0) (6.0.1)\n",
            "Collecting typeguard>=2.13.3 (from jaxtyping>=0.2.11->transformer-lens==0.0.0)\n",
            "  Downloading typeguard-4.1.5-py3-none-any.whl (34 kB)\n",
            "Requirement already satisfied: typing-extensions>=3.7.4.1 in /usr/local/lib/python3.10/dist-packages (from jaxtyping>=0.2.11->transformer-lens==0.0.0) (4.5.0)\n",
            "Requirement already satisfied: python-dateutil>=2.8.1 in /usr/local/lib/python3.10/dist-packages (from pandas>=1.1.5->transformer-lens==0.0.0) (2.8.2)\n",
            "Requirement already satisfied: pytz>=2020.1 in /usr/local/lib/python3.10/dist-packages (from pandas>=1.1.5->transformer-lens==0.0.0) (2023.3.post1)\n",
            "Requirement already satisfied: markdown-it-py>=2.2.0 in /usr/local/lib/python3.10/dist-packages (from rich>=12.6.0->transformer-lens==0.0.0) (3.0.0)\n",
            "Requirement already satisfied: pygments<3.0.0,>=2.13.0 in /usr/local/lib/python3.10/dist-packages (from rich>=12.6.0->transformer-lens==0.0.0) (2.16.1)\n",
            "Requirement already satisfied: filelock in /usr/local/lib/python3.10/dist-packages (from torch>=1.10->transformer-lens==0.0.0) (3.12.2)\n",
            "Requirement already satisfied: sympy in /usr/local/lib/python3.10/dist-packages (from torch>=1.10->transformer-lens==0.0.0) (1.12)\n",
            "Requirement already satisfied: networkx in /usr/local/lib/python3.10/dist-packages (from torch>=1.10->transformer-lens==0.0.0) (3.1)\n",
            "Requirement already satisfied: jinja2 in /usr/local/lib/python3.10/dist-packages (from torch>=1.10->transformer-lens==0.0.0) (3.1.2)\n",
            "Requirement already satisfied: triton==2.0.0 in /usr/local/lib/python3.10/dist-packages (from torch>=1.10->transformer-lens==0.0.0) (2.0.0)\n",
            "Requirement already satisfied: cmake in /usr/local/lib/python3.10/dist-packages (from triton==2.0.0->torch>=1.10->transformer-lens==0.0.0) (3.27.4.1)\n",
            "Requirement already satisfied: lit in /usr/local/lib/python3.10/dist-packages (from triton==2.0.0->torch>=1.10->transformer-lens==0.0.0) (16.0.6)\n",
            "Requirement already satisfied: regex!=2019.12.17 in /usr/local/lib/python3.10/dist-packages (from transformers>=4.25.1->transformer-lens==0.0.0) (2023.6.3)\n",
            "Collecting tokenizers!=0.11.3,<0.14,>=0.11.1 (from transformers>=4.25.1->transformer-lens==0.0.0)\n",
            "  Downloading tokenizers-0.13.3-cp310-cp310-manylinux_2_17_x86_64.manylinux2014_x86_64.whl (7.8 MB)\n",
            "\u001b[2K     \u001b[90m━━━━━━━━━━━━━━━━━━━━━━━━━━━━━━━━━━━━━━━━\u001b[0m \u001b[32m7.8/7.8 MB\u001b[0m \u001b[31m21.9 MB/s\u001b[0m eta \u001b[36m0:00:00\u001b[0m\n",
            "\u001b[?25hCollecting safetensors>=0.3.1 (from transformers>=4.25.1->transformer-lens==0.0.0)\n",
            "  Downloading safetensors-0.3.3-cp310-cp310-manylinux_2_17_x86_64.manylinux2014_x86_64.whl (1.3 MB)\n",
            "\u001b[2K     \u001b[90m━━━━━━━━━━━━━━━━━━━━━━━━━━━━━━━━━━━━━━━━\u001b[0m \u001b[32m1.3/1.3 MB\u001b[0m \u001b[31m25.1 MB/s\u001b[0m eta \u001b[36m0:00:00\u001b[0m\n",
            "\u001b[?25hRequirement already satisfied: Click!=8.0.0,>=7.1 in /usr/local/lib/python3.10/dist-packages (from wandb>=0.13.5->transformer-lens==0.0.0) (8.1.7)\n",
            "Collecting GitPython!=3.1.29,>=1.0.0 (from wandb>=0.13.5->transformer-lens==0.0.0)\n",
            "  Downloading GitPython-3.1.36-py3-none-any.whl (189 kB)\n",
            "\u001b[2K     \u001b[90m━━━━━━━━━━━━━━━━━━━━━━━━━━━━━━━━━━━━━━\u001b[0m \u001b[32m189.5/189.5 kB\u001b[0m \u001b[31m20.0 MB/s\u001b[0m eta \u001b[36m0:00:00\u001b[0m\n",
            "\u001b[?25hRequirement already satisfied: psutil>=5.0.0 in /usr/local/lib/python3.10/dist-packages (from wandb>=0.13.5->transformer-lens==0.0.0) (5.9.5)\n",
            "Collecting sentry-sdk>=1.0.0 (from wandb>=0.13.5->transformer-lens==0.0.0)\n",
            "  Downloading sentry_sdk-1.31.0-py2.py3-none-any.whl (224 kB)\n",
            "\u001b[2K     \u001b[90m━━━━━━━━━━━━━━━━━━━━━━━━━━━━━━━━━━━━━━\u001b[0m \u001b[32m224.8/224.8 kB\u001b[0m \u001b[31m15.2 MB/s\u001b[0m eta \u001b[36m0:00:00\u001b[0m\n",
            "\u001b[?25hCollecting docker-pycreds>=0.4.0 (from wandb>=0.13.5->transformer-lens==0.0.0)\n",
            "  Downloading docker_pycreds-0.4.0-py2.py3-none-any.whl (9.0 kB)\n",
            "Collecting pathtools (from wandb>=0.13.5->transformer-lens==0.0.0)\n",
            "  Downloading pathtools-0.1.2.tar.gz (11 kB)\n",
            "  Preparing metadata (setup.py) ... \u001b[?25l\u001b[?25hdone\n",
            "Collecting setproctitle (from wandb>=0.13.5->transformer-lens==0.0.0)\n",
            "  Downloading setproctitle-1.3.2-cp310-cp310-manylinux_2_5_x86_64.manylinux1_x86_64.manylinux_2_17_x86_64.manylinux2014_x86_64.whl (30 kB)\n",
            "Requirement already satisfied: setuptools in /usr/local/lib/python3.10/dist-packages (from wandb>=0.13.5->transformer-lens==0.0.0) (67.7.2)\n",
            "Requirement already satisfied: appdirs>=1.4.3 in /usr/local/lib/python3.10/dist-packages (from wandb>=0.13.5->transformer-lens==0.0.0) (1.4.4)\n",
            "Requirement already satisfied: protobuf!=4.21.0,<5,>=3.19.0 in /usr/local/lib/python3.10/dist-packages (from wandb>=0.13.5->transformer-lens==0.0.0) (3.20.3)\n",
            "Requirement already satisfied: six>=1.4.0 in /usr/local/lib/python3.10/dist-packages (from docker-pycreds>=0.4.0->wandb>=0.13.5->transformer-lens==0.0.0) (1.16.0)\n",
            "Requirement already satisfied: attrs>=17.3.0 in /usr/local/lib/python3.10/dist-packages (from aiohttp->datasets>=2.7.1->transformer-lens==0.0.0) (23.1.0)\n",
            "Requirement already satisfied: charset-normalizer<4.0,>=2.0 in /usr/local/lib/python3.10/dist-packages (from aiohttp->datasets>=2.7.1->transformer-lens==0.0.0) (3.2.0)\n",
            "Requirement already satisfied: multidict<7.0,>=4.5 in /usr/local/lib/python3.10/dist-packages (from aiohttp->datasets>=2.7.1->transformer-lens==0.0.0) (6.0.4)\n",
            "Requirement already satisfied: async-timeout<5.0,>=4.0.0a3 in /usr/local/lib/python3.10/dist-packages (from aiohttp->datasets>=2.7.1->transformer-lens==0.0.0) (4.0.3)\n",
            "Requirement already satisfied: yarl<2.0,>=1.0 in /usr/local/lib/python3.10/dist-packages (from aiohttp->datasets>=2.7.1->transformer-lens==0.0.0) (1.9.2)\n",
            "Requirement already satisfied: frozenlist>=1.1.1 in /usr/local/lib/python3.10/dist-packages (from aiohttp->datasets>=2.7.1->transformer-lens==0.0.0) (1.4.0)\n",
            "Requirement already satisfied: aiosignal>=1.1.2 in /usr/local/lib/python3.10/dist-packages (from aiohttp->datasets>=2.7.1->transformer-lens==0.0.0) (1.3.1)\n",
            "Collecting gitdb<5,>=4.0.1 (from GitPython!=3.1.29,>=1.0.0->wandb>=0.13.5->transformer-lens==0.0.0)\n",
            "  Downloading gitdb-4.0.10-py3-none-any.whl (62 kB)\n",
            "\u001b[2K     \u001b[90m━━━━━━━━━━━━━━━━━━━━━━━━━━━━━━━━━━━━━━━━\u001b[0m \u001b[32m62.7/62.7 kB\u001b[0m \u001b[31m8.9 MB/s\u001b[0m eta \u001b[36m0:00:00\u001b[0m\n",
            "\u001b[?25hRequirement already satisfied: mdurl~=0.1 in /usr/local/lib/python3.10/dist-packages (from markdown-it-py>=2.2.0->rich>=12.6.0->transformer-lens==0.0.0) (0.1.2)\n",
            "Requirement already satisfied: idna<4,>=2.5 in /usr/local/lib/python3.10/dist-packages (from requests>=2.19.0->datasets>=2.7.1->transformer-lens==0.0.0) (3.4)\n",
            "Requirement already satisfied: urllib3<3,>=1.21.1 in /usr/local/lib/python3.10/dist-packages (from requests>=2.19.0->datasets>=2.7.1->transformer-lens==0.0.0) (2.0.4)\n",
            "Requirement already satisfied: certifi>=2017.4.17 in /usr/local/lib/python3.10/dist-packages (from requests>=2.19.0->datasets>=2.7.1->transformer-lens==0.0.0) (2023.7.22)\n",
            "Collecting typing-extensions>=3.7.4.1 (from jaxtyping>=0.2.11->transformer-lens==0.0.0)\n",
            "  Downloading typing_extensions-4.7.1-py3-none-any.whl (33 kB)\n",
            "Requirement already satisfied: MarkupSafe>=2.0 in /usr/local/lib/python3.10/dist-packages (from jinja2->torch>=1.10->transformer-lens==0.0.0) (2.1.3)\n",
            "Requirement already satisfied: mpmath>=0.19 in /usr/local/lib/python3.10/dist-packages (from sympy->torch>=1.10->transformer-lens==0.0.0) (1.3.0)\n",
            "Collecting smmap<6,>=3.0.1 (from gitdb<5,>=4.0.1->GitPython!=3.1.29,>=1.0.0->wandb>=0.13.5->transformer-lens==0.0.0)\n",
            "  Downloading smmap-5.0.1-py3-none-any.whl (24 kB)\n",
            "Building wheels for collected packages: transformer-lens, pathtools\n",
            "  Building wheel for transformer-lens (pyproject.toml) ... \u001b[?25l\u001b[?25hdone\n",
            "  Created wheel for transformer-lens: filename=transformer_lens-0.0.0-py3-none-any.whl size=110211 sha256=d5eb5e47b03a2b08fefe3cf8a41022800764f1a1666ae439e3f5f2473a6e3306\n",
            "  Stored in directory: /tmp/pip-ephem-wheel-cache-yqmjy594/wheels/8a/1e/37/ffb9c15454a1725b13a9d9f5e74fb91725048884ad734b8c1f\n",
            "  Building wheel for pathtools (setup.py) ... \u001b[?25l\u001b[?25hdone\n",
            "  Created wheel for pathtools: filename=pathtools-0.1.2-py3-none-any.whl size=8791 sha256=e5d80d9205f6c7001d9d90e8c573e3566ed38bc0d96682655aa8fd777b7b7082\n",
            "  Stored in directory: /root/.cache/pip/wheels/e7/f3/22/152153d6eb222ee7a56ff8617d80ee5207207a8c00a7aab794\n",
            "Successfully built transformer-lens pathtools\n",
            "Installing collected packages: tokenizers, safetensors, pathtools, xxhash, typing-extensions, smmap, setproctitle, sentry-sdk, fancy-einsum, einops, docker-pycreds, dill, beartype, typeguard, multiprocess, huggingface-hub, gitdb, transformers, jaxtyping, GitPython, wandb, datasets, transformer-lens\n",
            "  Attempting uninstall: typing-extensions\n",
            "    Found existing installation: typing_extensions 4.5.0\n",
            "    Uninstalling typing_extensions-4.5.0:\n",
            "      Successfully uninstalled typing_extensions-4.5.0\n",
            "\u001b[31mERROR: pip's dependency resolver does not currently take into account all the packages that are installed. This behaviour is the source of the following dependency conflicts.\n",
            "tensorflow 2.13.0 requires typing-extensions<4.6.0,>=3.6.6, but you have typing-extensions 4.7.1 which is incompatible.\u001b[0m\u001b[31m\n",
            "\u001b[0mSuccessfully installed GitPython-3.1.36 beartype-0.14.1 datasets-2.14.5 dill-0.3.7 docker-pycreds-0.4.0 einops-0.6.1 fancy-einsum-0.0.3 gitdb-4.0.10 huggingface-hub-0.17.1 jaxtyping-0.2.21 multiprocess-0.70.15 pathtools-0.1.2 safetensors-0.3.3 sentry-sdk-1.31.0 setproctitle-1.3.2 smmap-5.0.1 tokenizers-0.13.3 transformer-lens-0.0.0 transformers-4.33.2 typeguard-4.1.5 typing-extensions-4.7.1 wandb-0.15.10 xxhash-3.3.0\n"
          ]
        }
      ],
      "source": [
        "# Janky code to do different setup when run in a Colab notebook vs VSCode\n",
        "DEBUG_MODE = False\n",
        "try:\n",
        "    import google.colab\n",
        "    IN_COLAB = True\n",
        "    print(\"Running as a Colab notebook\")\n",
        "    %pip install git+https://github.com/neelnanda-io/TransformerLens.git\n",
        "except:\n",
        "    IN_COLAB = False\n",
        "    print(\"Running as a Jupyter notebook - intended for development only!\")\n",
        "    from IPython import get_ipython\n",
        "\n",
        "    ipython = get_ipython()\n",
        "    # Code to automatically update the HookedTransformer code as its edited without restarting the kernel\n",
        "    ipython.magic(\"load_ext autoreload\")\n",
        "    ipython.magic(\"autoreload 2\")"
      ]
    },
    {
      "cell_type": "code",
      "source": [
        "try:\n",
        "    %pip install git+https://github.com/callummcdougall/CircuitsVis.git#subdirectory=python\n",
        "except:\n",
        "    import os; os.environ[\"ACCELERATE_DISABLE_RICH\"] = \"1\"\n",
        "    from IPython import get_ipython\n",
        "    ipython = get_ipython()\n",
        "    ipython.run_line_magic(\"load_ext\", \"autoreload\")\n",
        "    ipython.run_line_magic(\"autoreload\", \"2\")"
      ],
      "metadata": {
        "id": "zfSn5iNSFKlo",
        "colab": {
          "base_uri": "https://localhost:8080/"
        },
        "outputId": "5c4eefa4-8842-4d7e-8fba-ad96648eaf6f"
      },
      "execution_count": 3,
      "outputs": [
        {
          "output_type": "stream",
          "name": "stdout",
          "text": [
            "Collecting git+https://github.com/callummcdougall/CircuitsVis.git#subdirectory=python\n",
            "  Cloning https://github.com/callummcdougall/CircuitsVis.git to /tmp/pip-req-build-sl3v2xsz\n",
            "  Running command git clone --filter=blob:none --quiet https://github.com/callummcdougall/CircuitsVis.git /tmp/pip-req-build-sl3v2xsz\n",
            "  Resolved https://github.com/callummcdougall/CircuitsVis.git to commit df9bfc252807e8b1c3a26c3c4796c18342c7fc71\n",
            "  Installing build dependencies ... \u001b[?25l\u001b[?25hdone\n",
            "  Getting requirements to build wheel ... \u001b[?25l\u001b[?25hdone\n",
            "  Preparing metadata (pyproject.toml) ... \u001b[?25l\u001b[?25hdone\n",
            "Collecting importlib-metadata<6.0.0,>=5.1.0 (from circuitsvis==0.0.0)\n",
            "  Downloading importlib_metadata-5.2.0-py3-none-any.whl (21 kB)\n",
            "Requirement already satisfied: numpy<2.0,>=1.23 in /usr/local/lib/python3.10/dist-packages (from circuitsvis==0.0.0) (1.23.5)\n",
            "Requirement already satisfied: torch<3.0,>=2.0 in /usr/local/lib/python3.10/dist-packages (from circuitsvis==0.0.0) (2.0.1+cu118)\n",
            "Requirement already satisfied: zipp>=0.5 in /usr/local/lib/python3.10/dist-packages (from importlib-metadata<6.0.0,>=5.1.0->circuitsvis==0.0.0) (3.16.2)\n",
            "Requirement already satisfied: filelock in /usr/local/lib/python3.10/dist-packages (from torch<3.0,>=2.0->circuitsvis==0.0.0) (3.12.2)\n",
            "Requirement already satisfied: typing-extensions in /usr/local/lib/python3.10/dist-packages (from torch<3.0,>=2.0->circuitsvis==0.0.0) (4.7.1)\n",
            "Requirement already satisfied: sympy in /usr/local/lib/python3.10/dist-packages (from torch<3.0,>=2.0->circuitsvis==0.0.0) (1.12)\n",
            "Requirement already satisfied: networkx in /usr/local/lib/python3.10/dist-packages (from torch<3.0,>=2.0->circuitsvis==0.0.0) (3.1)\n",
            "Requirement already satisfied: jinja2 in /usr/local/lib/python3.10/dist-packages (from torch<3.0,>=2.0->circuitsvis==0.0.0) (3.1.2)\n",
            "Requirement already satisfied: triton==2.0.0 in /usr/local/lib/python3.10/dist-packages (from torch<3.0,>=2.0->circuitsvis==0.0.0) (2.0.0)\n",
            "Requirement already satisfied: cmake in /usr/local/lib/python3.10/dist-packages (from triton==2.0.0->torch<3.0,>=2.0->circuitsvis==0.0.0) (3.27.4.1)\n",
            "Requirement already satisfied: lit in /usr/local/lib/python3.10/dist-packages (from triton==2.0.0->torch<3.0,>=2.0->circuitsvis==0.0.0) (16.0.6)\n",
            "Requirement already satisfied: MarkupSafe>=2.0 in /usr/local/lib/python3.10/dist-packages (from jinja2->torch<3.0,>=2.0->circuitsvis==0.0.0) (2.1.3)\n",
            "Requirement already satisfied: mpmath>=0.19 in /usr/local/lib/python3.10/dist-packages (from sympy->torch<3.0,>=2.0->circuitsvis==0.0.0) (1.3.0)\n",
            "Building wheels for collected packages: circuitsvis\n",
            "  Building wheel for circuitsvis (pyproject.toml) ... \u001b[?25l\u001b[?25hdone\n",
            "  Created wheel for circuitsvis: filename=circuitsvis-0.0.0-py3-none-any.whl size=6170923 sha256=7101b262d0720ea697e8ca0933183e55c9d6b28a592d89e9c7f49c863ad572c6\n",
            "  Stored in directory: /tmp/pip-ephem-wheel-cache-60bogs2k/wheels/86/be/ad/78078aba9344d200aad61b63d35cdaecdec160212f039eed74\n",
            "Successfully built circuitsvis\n",
            "Installing collected packages: importlib-metadata, circuitsvis\n",
            "  Attempting uninstall: importlib-metadata\n",
            "    Found existing installation: importlib-metadata 6.8.0\n",
            "    Uninstalling importlib-metadata-6.8.0:\n",
            "      Successfully uninstalled importlib-metadata-6.8.0\n",
            "Successfully installed circuitsvis-0.0.0 importlib-metadata-5.2.0\n"
          ]
        }
      ]
    },
    {
      "cell_type": "code",
      "execution_count": 4,
      "metadata": {
        "id": "gJ_gumwpy-sW"
      },
      "outputs": [],
      "source": [
        "# Plotly needs a different renderer for VSCode/Notebooks vs Colab argh\n",
        "import plotly.io as pio\n",
        "\n",
        "if IN_COLAB or not DEBUG_MODE:\n",
        "    # Thanks to annoying rendering issues, Plotly graphics will either show up in colab OR Vscode depending on the renderer - this is bad for developing demos! Thus creating a debug mode.\n",
        "    pio.renderers.default = \"colab\"\n",
        "else:\n",
        "    pio.renderers.default = \"png\""
      ]
    },
    {
      "cell_type": "code",
      "execution_count": 5,
      "metadata": {
        "id": "GQPOPdhby-sW"
      },
      "outputs": [],
      "source": [
        "# Import stuff\n",
        "import torch\n",
        "import torch.nn as nn\n",
        "import torch.nn.functional as F\n",
        "import torch.optim as optim\n",
        "import numpy as np\n",
        "import circuitsvis as cv\n",
        "import einops\n",
        "import tqdm.notebook as tqdm\n",
        "import random\n",
        "from pathlib import Path\n",
        "import plotly.express as px\n",
        "from torch.utils.data import DataLoader\n",
        "\n",
        "from jaxtyping import Float, Int\n",
        "from typing import List, Union, Optional\n",
        "from functools import partial\n",
        "import copy\n",
        "\n",
        "import itertools\n",
        "from transformers import AutoModelForCausalLM, AutoConfig, AutoTokenizer\n",
        "import dataclasses\n",
        "from dataclasses import dataclass\n",
        "import datasets\n",
        "from IPython.display import HTML"
      ]
    },
    {
      "cell_type": "code",
      "execution_count": 6,
      "metadata": {
        "id": "dt9u7tDiy-sW"
      },
      "outputs": [],
      "source": [
        "import transformer_lens\n",
        "import transformer_lens.utils as utils\n",
        "from transformer_lens.hook_points import (\n",
        "    HookedRootModule,\n",
        "    HookPoint,\n",
        ")  # Hooking utilities\n",
        "from transformer_lens import HookedTransformer, HookedTransformerConfig, FactoredMatrix, ActivationCache"
      ]
    },
    {
      "cell_type": "markdown",
      "metadata": {
        "id": "ffcNdMBNy-sW"
      },
      "source": [
        "Plotting helper functions:"
      ]
    },
    {
      "cell_type": "code",
      "execution_count": 7,
      "metadata": {
        "id": "D-tKAVYgy-sW"
      },
      "outputs": [],
      "source": [
        "import plotly.graph_objects as go\n",
        "\n",
        "update_layout_set = {\"xaxis_range\", \"yaxis_range\", \"hovermode\", \"xaxis_title\", \"yaxis_title\", \"colorbar\", \"colorscale\", \"coloraxis\", \"title_x\", \"bargap\", \"bargroupgap\", \"xaxis_tickformat\", \"yaxis_tickformat\", \"title_y\", \"legend_title_text\", \"xaxis_showgrid\", \"xaxis_gridwidth\", \"xaxis_gridcolor\", \"yaxis_showgrid\", \"yaxis_gridwidth\"}\n",
        "def imshow(tensor, renderer=None, xaxis=\"\", yaxis=\"\", **kwargs):\n",
        "    if isinstance(tensor, list):\n",
        "        tensor = torch.stack(tensor)\n",
        "    kwargs_post = {k: v for k, v in kwargs.items() if k in update_layout_set}\n",
        "    kwargs_pre = {k: v for k, v in kwargs.items() if k not in update_layout_set}\n",
        "    if \"facet_labels\" in kwargs_pre:\n",
        "        facet_labels = kwargs_pre.pop(\"facet_labels\")\n",
        "    else:\n",
        "        facet_labels = None\n",
        "    if \"color_continuous_scale\" not in kwargs_pre:\n",
        "        kwargs_pre[\"color_continuous_scale\"] = \"RdBu\"\n",
        "    fig = px.imshow(utils.to_numpy(tensor), color_continuous_midpoint=0.0,labels={\"x\":xaxis, \"y\":yaxis}, **kwargs_pre).update_layout(**kwargs_post)\n",
        "    if facet_labels:\n",
        "        for i, label in enumerate(facet_labels):\n",
        "            fig.layout.annotations[i]['text'] = label\n",
        "\n",
        "    fig.show(renderer)\n",
        "\n",
        "def line(tensor, renderer=None, xaxis=\"\", yaxis=\"\", **kwargs):\n",
        "    px.line(y=utils.to_numpy(tensor), labels={\"x\":xaxis, \"y\":yaxis}, **kwargs).show(renderer)\n",
        "\n",
        "def scatter(x, y, xaxis=\"\", yaxis=\"\", caxis=\"\", renderer=None, **kwargs):\n",
        "    x = utils.to_numpy(x)\n",
        "    y = utils.to_numpy(y)\n",
        "    px.scatter(y=y, x=x, labels={\"x\":xaxis, \"y\":yaxis, \"color\":caxis}, **kwargs).show(renderer)\n",
        "\n",
        "def lines(lines_list, x=None, mode='lines', labels=None, xaxis='', yaxis='', title = '', log_y=False, hover=None, **kwargs):\n",
        "    # Helper function to plot multiple lines\n",
        "    if type(lines_list)==torch.Tensor:\n",
        "        lines_list = [lines_list[i] for i in range(lines_list.shape[0])]\n",
        "    if x is None:\n",
        "        x=np.arange(len(lines_list[0]))\n",
        "    fig = go.Figure(layout={'title':title})\n",
        "    fig.update_xaxes(title=xaxis)\n",
        "    fig.update_yaxes(title=yaxis)\n",
        "    for c, line in enumerate(lines_list):\n",
        "        if type(line)==torch.Tensor:\n",
        "            line = utils.to_numpy(line)\n",
        "        if labels is not None:\n",
        "            label = labels[c]\n",
        "        else:\n",
        "            label = c\n",
        "        fig.add_trace(go.Scatter(x=x, y=line, mode=mode, name=label, hovertext=hover, **kwargs))\n",
        "    if log_y:\n",
        "        fig.update_layout(yaxis_type=\"log\")\n",
        "    fig.show()\n",
        "\n",
        "def bar(tensor, renderer=None, xaxis=\"\", yaxis=\"\", **kwargs):\n",
        "    px.bar(\n",
        "        y=utils.to_numpy(tensor),\n",
        "        labels={\"x\": xaxis, \"y\": yaxis},\n",
        "        template=\"simple_white\",\n",
        "        **kwargs).show(renderer)"
      ]
    },
    {
      "cell_type": "code",
      "source": [
        "import transformer_lens.patching as patching\n",
        "from transformer_lens import evals\n",
        "import math\n",
        "import pandas as pd"
      ],
      "metadata": {
        "id": "Q3E9zGyPy-sW"
      },
      "execution_count": 8,
      "outputs": []
    },
    {
      "cell_type": "code",
      "source": [
        "def disable_biases(model):\n",
        "    for name, param in model.named_parameters():\n",
        "        if 'b_' in name:\n",
        "            param.requires_grad = False\n",
        "\n",
        "def disable_pos_embed(model):\n",
        "    assert model.cfg.positional_embedding_type == \"standard\"\n",
        "    model.pos_embed.W_pos = nn.Parameter(torch.zeros_like(model.pos_embed.W_pos))\n",
        "    model.pos_embed.W_pos.requires_grad = False"
      ],
      "metadata": {
        "id": "umLRJ7qyrDKt"
      },
      "execution_count": 9,
      "outputs": []
    },
    {
      "cell_type": "markdown",
      "source": [
        "# Load Model"
      ],
      "metadata": {
        "id": "HdPsT2ZOxeua"
      }
    },
    {
      "cell_type": "code",
      "execution_count": 10,
      "metadata": {
        "id": "llysLeEq1kAy",
        "outputId": "a33a4867-64ca-456b-912e-126835edb192",
        "colab": {
          "base_uri": "https://localhost:8080/"
        }
      },
      "outputs": [
        {
          "output_type": "execute_result",
          "data": {
            "text/plain": [
              "<torch.autograd.grad_mode.set_grad_enabled at 0x79c1331b76a0>"
            ]
          },
          "metadata": {},
          "execution_count": 10
        }
      ],
      "source": [
        "torch.set_grad_enabled(False)"
      ]
    },
    {
      "cell_type": "code",
      "source": [
        "device = 'cuda' if torch.cuda.is_available() else 'cpu'\n",
        "print(device)"
      ],
      "metadata": {
        "id": "S0QibP7y7xCm",
        "colab": {
          "base_uri": "https://localhost:8080/"
        },
        "outputId": "b0ce38f4-d2b7-45c5-843f-1c9e6e0ca5e2"
      },
      "execution_count": 11,
      "outputs": [
        {
          "output_type": "stream",
          "name": "stdout",
          "text": [
            "cuda\n"
          ]
        }
      ]
    },
    {
      "cell_type": "markdown",
      "source": [
        "The smallest model I found was a 2L, 1H (per layer), attn-only transformer with no layernorm or biases. Note a 1L transformer was not able to solve this task (even with up to 8 heads).\n",
        "\n",
        "![picture](https://drive.google.com/uc?id=15DCokm0rjNEBFn5znNJ8mEu5ATF5z7CH)\n",
        "\n",
        "The model has already been trained, and is loaded into this notebook below:"
      ],
      "metadata": {
        "id": "z7_Jrzb9FWZi"
      }
    },
    {
      "cell_type": "code",
      "source": [
        "LIST_LEN = 3\n",
        "MAX_INT = 50\n",
        "cfg = HookedTransformerConfig(\n",
        "    n_layers=2,\n",
        "    n_heads=1,\n",
        "    d_model=128,\n",
        "    d_head=128,\n",
        "    n_ctx=3*LIST_LEN+3, # BOS d1 d2 d3 MID p1 p2 p3 END a1 a2 a3\n",
        "    d_vocab= MAX_INT+3, # 0, ..., MAX_INT-1, BOS, MID, END\n",
        "    d_vocab_out=MAX_INT,\n",
        "    attn_only=True,\n",
        "    normalization_type=None,\n",
        "    device=device,\n",
        "    seed=0,\n",
        ")\n",
        "model = HookedTransformer(cfg)\n",
        "print(model)"
      ],
      "metadata": {
        "colab": {
          "base_uri": "https://localhost:8080/"
        },
        "id": "3_Qm7Gym7aJw",
        "outputId": "4adb0d74-d43e-4303-c287-f7932ade9966"
      },
      "execution_count": 12,
      "outputs": [
        {
          "output_type": "stream",
          "name": "stdout",
          "text": [
            "HookedTransformer(\n",
            "  (embed): Embed()\n",
            "  (hook_embed): HookPoint()\n",
            "  (pos_embed): PosEmbed()\n",
            "  (hook_pos_embed): HookPoint()\n",
            "  (blocks): ModuleList(\n",
            "    (0-1): 2 x TransformerBlock(\n",
            "      (ln1): Identity()\n",
            "      (attn): Attention(\n",
            "        (hook_k): HookPoint()\n",
            "        (hook_q): HookPoint()\n",
            "        (hook_v): HookPoint()\n",
            "        (hook_z): HookPoint()\n",
            "        (hook_attn_scores): HookPoint()\n",
            "        (hook_pattern): HookPoint()\n",
            "        (hook_result): HookPoint()\n",
            "      )\n",
            "      (hook_q_input): HookPoint()\n",
            "      (hook_k_input): HookPoint()\n",
            "      (hook_v_input): HookPoint()\n",
            "      (hook_attn_out): HookPoint()\n",
            "      (hook_mlp_in): HookPoint()\n",
            "      (hook_mlp_out): HookPoint()\n",
            "      (hook_resid_pre): HookPoint()\n",
            "      (hook_resid_post): HookPoint()\n",
            "    )\n",
            "  )\n",
            "  (unembed): Unembed()\n",
            ")\n"
          ]
        }
      ]
    },
    {
      "cell_type": "code",
      "source": [
        "filename = \"mech-interp-practice/models/permute_lists_model.pt\"\n",
        "state_dict = torch.load(filename)\n",
        "model.load_state_dict(state_dict, strict=True)"
      ],
      "metadata": {
        "colab": {
          "base_uri": "https://localhost:8080/"
        },
        "id": "PB-_VwFyPo3r",
        "outputId": "a129c860-a1a4-43b1-c7ba-fcfb82c2ab1d"
      },
      "execution_count": 13,
      "outputs": [
        {
          "output_type": "execute_result",
          "data": {
            "text/plain": [
              "<All keys matched successfully>"
            ]
          },
          "metadata": {},
          "execution_count": 13
        }
      ]
    },
    {
      "cell_type": "markdown",
      "source": [
        "# Task Description"
      ],
      "metadata": {
        "id": "ZxKuTab38hXy"
      }
    },
    {
      "cell_type": "markdown",
      "source": [
        "The models inputs are of the form:\n",
        "\n",
        "\n",
        "```\n",
        "[BOS, a_0, a_1, a_2, MID, idx_0, idx_1, idx_2, END, ans_0, ans_1, ans_2]\n",
        "```\n",
        "\n",
        "\n",
        "For example:\n",
        "\n",
        "\n",
        "```\n",
        "[BOS, 44, 40, 15, MID, 2, 1, 0, END, 15, 40, 44]\n",
        "```\n",
        "\n",
        "\n",
        "* BOS (52), MID (51), and END (50) are special tokens at the same position in every sequence\n",
        "* The first 3 tokens after BOS, [a_0, a_1, a_2], is the original list the model needs to permute. Each list token ranges between [0,49] inclusive.\n",
        "* The 3 tokens after MID, [idx_0, idx_1, idx_2] are the permutation indices. These are always some shuffling of {0, 1, 2}.\n",
        "* The last three tokens after END, [ans_0, ans_1, ans_2], is the permuted list after applying the perm indices. In general, ans_i = a_{idx_i}. In the concrete example above: ans_0 = a_{idx_0} = a_2 = 15.\n",
        "\n",
        "\n",
        "Note that the list length is fixed to 3 for every example. The model is trained to predict the ans tokens [ans_0, ans_1, ans_2] at positions [END, ans_0, ans_1] respectively. The model is trained with a causal mask so it can't peek ahead.\n",
        "\n",
        "\n",
        "Below I provide a data loader and some example tokens that you can use to start your investigation:"
      ],
      "metadata": {
        "id": "2FuANbC6PxHI"
      }
    },
    {
      "cell_type": "code",
      "source": [
        "def make_data_generator(cfg, batch_size, seed=0):\n",
        "    torch.manual_seed(seed)\n",
        "    BOS_TOKEN = cfg.d_vocab-1\n",
        "    MID_TOKEN = cfg.d_vocab-2\n",
        "    END_TOKEN = cfg.d_vocab-3\n",
        "    while True:\n",
        "        seq = torch.randint(0, MAX_INT, (batch_size, LIST_LEN))\n",
        "        perm = torch.randperm(LIST_LEN)\n",
        "        ans = seq[:, perm]\n",
        "\n",
        "        bos_tensor = einops.repeat(torch.tensor(BOS_TOKEN), \" -> i 1\", i=batch_size)\n",
        "        mid_tensor = einops.repeat(torch.tensor(MID_TOKEN), \" -> i 1\", i=batch_size)\n",
        "        end_tensor = einops.repeat(torch.tensor(END_TOKEN), \" -> i 1\", i=batch_size)\n",
        "\n",
        "        x = torch.cat([bos_tensor, seq, mid_tensor, einops.repeat(perm, \"seq -> batch seq\", batch=batch_size), end_tensor, ans], dim=-1)\n",
        "        yield x\n",
        "\n",
        "batch_size = 256\n",
        "data_loader = make_data_generator(cfg, batch_size, seed=42)\n",
        "\n",
        "test_data = []\n",
        "sub_batch_size = 4\n",
        "for i in range(batch_size // sub_batch_size):\n",
        "    test_data.append(next(make_data_generator(cfg, sub_batch_size, seed=i)))\n",
        "\n",
        "test_data = torch.cat(test_data, dim=0).to(device)\n",
        "print(test_data.shape)\n",
        "print(test_data[:5])"
      ],
      "metadata": {
        "colab": {
          "base_uri": "https://localhost:8080/"
        },
        "id": "34TX6ICq8fON",
        "outputId": "02733a0a-5d74-45eb-b338-f888c2bd7a89"
      },
      "execution_count": 14,
      "outputs": [
        {
          "output_type": "stream",
          "name": "stdout",
          "text": [
            "torch.Size([256, 12])\n",
            "tensor([[52, 44, 39, 33, 51,  0,  2,  1, 50, 44, 33, 39],\n",
            "        [52, 10, 13, 29, 51,  0,  2,  1, 50, 10, 29, 13],\n",
            "        [52, 27,  3, 47, 51,  0,  2,  1, 50, 27, 47,  3],\n",
            "        [52, 33,  1, 16, 51,  0,  2,  1, 50, 33, 16,  1],\n",
            "        [52, 45, 39, 24, 51,  1,  2,  0, 50, 39, 24, 45]], device='cuda:0')\n"
          ]
        }
      ]
    },
    {
      "cell_type": "markdown",
      "source": [
        "The model was trained to minimize cross entropy loss. I provide the loss function used in training below."
      ],
      "metadata": {
        "id": "sI9M1OAnP541"
      }
    },
    {
      "cell_type": "code",
      "source": [
        "def loss_fn(logits, tokens):\n",
        "    logits=logits[:, -LIST_LEN-1:-1, :]\n",
        "    logits = logits.to(torch.float64)\n",
        "    labels = tokens[:, -LIST_LEN:]\n",
        "\n",
        "    log_probs = logits.log_softmax(dim=-1)\n",
        "    correct_log_probs = log_probs.gather(dim=-1, index=labels[..., None])[..., 0]\n",
        "    return -correct_log_probs.mean()"
      ],
      "metadata": {
        "id": "dmQbkuI1_aOm"
      },
      "execution_count": 15,
      "outputs": []
    },
    {
      "cell_type": "markdown",
      "source": [
        "# Solution"
      ],
      "metadata": {
        "id": "0hrhT_o2OkBo"
      }
    },
    {
      "cell_type": "markdown",
      "source": [
        "## Sanity check"
      ],
      "metadata": {
        "id": "-ckA6xFQCHTK"
      }
    },
    {
      "cell_type": "markdown",
      "source": [
        "First let's sanity check that the model has learned to successfully solve this task on our sample tokens:"
      ],
      "metadata": {
        "id": "kGs8b5qRQEA6"
      }
    },
    {
      "cell_type": "code",
      "source": [
        "with torch.inference_mode():\n",
        "    test_logits = model(test_data)\n",
        "    test_logits = test_logits[:, -LIST_LEN-1:-1, :]\n",
        "    preds = test_logits.argmax(dim=-1)\n",
        "    test_labels = test_data[:, -LIST_LEN:]\n",
        "\n",
        "    acc = (preds == test_labels).float().mean()\n",
        "    print(\"Test sample accuracy:\", acc.item())"
      ],
      "metadata": {
        "colab": {
          "base_uri": "https://localhost:8080/"
        },
        "id": "wnkUmdKVCU5N",
        "outputId": "d753f557-e54d-4fbf-c851-bcae48f18653"
      },
      "execution_count": 16,
      "outputs": [
        {
          "output_type": "stream",
          "name": "stdout",
          "text": [
            "Test sample accuracy: 1.0\n"
          ]
        }
      ]
    },
    {
      "cell_type": "markdown",
      "source": [
        "## Direct logit attribution"
      ],
      "metadata": {
        "id": "i7iTIqqdCu_B"
      }
    },
    {
      "cell_type": "markdown",
      "source": [
        "Direct logit attribution is a great technique to localize which bits of the model directly affect the logits. We can start with the logit lens technique, which can give us intuitions about when the model has done enough processing to make a prediction.\n",
        "\n",
        "\n",
        "Note the model has to make three predictions (one for each list element), but for simplicity, we'll just study the first prediction in this section, corresponding to destination token \"END\"."
      ],
      "metadata": {
        "id": "dAwWgHp2Czeo"
      }
    },
    {
      "cell_type": "code",
      "source": [
        "original_logits, cache = model.run_with_cache(test_data)\n",
        "print(original_logits.shape)\n",
        "print(cache)"
      ],
      "metadata": {
        "colab": {
          "base_uri": "https://localhost:8080/"
        },
        "id": "9z0xL3usDadg",
        "outputId": "34e6ac11-eefb-4cea-eb9b-12b24f324df2"
      },
      "execution_count": 17,
      "outputs": [
        {
          "output_type": "stream",
          "name": "stdout",
          "text": [
            "torch.Size([256, 12, 50])\n",
            "ActivationCache with keys ['hook_embed', 'hook_pos_embed', 'blocks.0.hook_resid_pre', 'blocks.0.attn.hook_q', 'blocks.0.attn.hook_k', 'blocks.0.attn.hook_v', 'blocks.0.attn.hook_attn_scores', 'blocks.0.attn.hook_pattern', 'blocks.0.attn.hook_z', 'blocks.0.hook_attn_out', 'blocks.0.hook_resid_post', 'blocks.1.hook_resid_pre', 'blocks.1.attn.hook_q', 'blocks.1.attn.hook_k', 'blocks.1.attn.hook_v', 'blocks.1.attn.hook_attn_scores', 'blocks.1.attn.hook_pattern', 'blocks.1.attn.hook_z', 'blocks.1.hook_attn_out', 'blocks.1.hook_resid_post']\n"
          ]
        }
      ]
    },
    {
      "cell_type": "code",
      "source": [
        "accumulated_resid_stack, labels = cache.accumulated_resid(layer=-1, pos_slice=-4, return_labels=True)\n",
        "print(accumulated_resid_stack.shape)\n",
        "print(labels)"
      ],
      "metadata": {
        "colab": {
          "base_uri": "https://localhost:8080/"
        },
        "id": "AHKwlhJ3Ctip",
        "outputId": "e4ba69cb-556b-49e7-dbb4-f08f38114cf4"
      },
      "execution_count": 18,
      "outputs": [
        {
          "output_type": "stream",
          "name": "stdout",
          "text": [
            "torch.Size([3, 256, 128])\n",
            "['0_pre', '1_pre', 'final_post']\n"
          ]
        }
      ]
    },
    {
      "cell_type": "code",
      "source": [
        "correct_answers = test_data[:, -3]\n",
        "print(correct_answers.shape)\n",
        "correct_logit_dirs = model.tokens_to_residual_directions(correct_answers)\n",
        "print(correct_logit_dirs.shape)"
      ],
      "metadata": {
        "colab": {
          "base_uri": "https://localhost:8080/"
        },
        "id": "D8C7aNz4Duus",
        "outputId": "02a1f2a6-9d7f-4bf7-abe9-66df61799977"
      },
      "execution_count": 19,
      "outputs": [
        {
          "output_type": "stream",
          "name": "stdout",
          "text": [
            "torch.Size([256])\n",
            "torch.Size([256, 128])\n"
          ]
        }
      ]
    },
    {
      "cell_type": "code",
      "source": [
        "accumulated_contrib = einops.einsum(\n",
        "    accumulated_resid_stack,\n",
        "    correct_logit_dirs,\n",
        "    \"... batch d_model, batch d_model -> ...\"\n",
        ") / test_data.shape[0]\n",
        "\n",
        "line(\n",
        "    accumulated_contrib,\n",
        "    title=\"Logit lens: direct logit attribution for prefix of model (first prediction)\",\n",
        "    xaxis=\"Layer\", yaxis=\"attribution\",\n",
        "    x=labels\n",
        ")"
      ],
      "metadata": {
        "colab": {
          "base_uri": "https://localhost:8080/",
          "height": 542
        },
        "id": "62Fg4VueEFYu",
        "outputId": "103a7168-a485-4b43-cea8-91110c5e1d66"
      },
      "execution_count": 20,
      "outputs": [
        {
          "output_type": "display_data",
          "data": {
            "text/html": [
              "<html>\n",
              "<head><meta charset=\"utf-8\" /></head>\n",
              "<body>\n",
              "    <div>            <script src=\"https://cdnjs.cloudflare.com/ajax/libs/mathjax/2.7.5/MathJax.js?config=TeX-AMS-MML_SVG\"></script><script type=\"text/javascript\">if (window.MathJax && window.MathJax.Hub && window.MathJax.Hub.Config) {window.MathJax.Hub.Config({SVG: {font: \"STIX-Web\"}});}</script>                <script type=\"text/javascript\">window.PlotlyConfig = {MathJaxConfig: 'local'};</script>\n",
              "        <script charset=\"utf-8\" src=\"https://cdn.plot.ly/plotly-2.24.1.min.js\"></script>                <div id=\"0c62c3d9-d0ff-4867-9d98-572474418338\" class=\"plotly-graph-div\" style=\"height:525px; width:100%;\"></div>            <script type=\"text/javascript\">                                    window.PLOTLYENV=window.PLOTLYENV || {};                                    if (document.getElementById(\"0c62c3d9-d0ff-4867-9d98-572474418338\")) {                    Plotly.newPlot(                        \"0c62c3d9-d0ff-4867-9d98-572474418338\",                        [{\"hovertemplate\":\"Layer=%{x}\\u003cbr\\u003eattribution=%{y}\\u003cextra\\u003e\\u003c\\u002fextra\\u003e\",\"legendgroup\":\"\",\"line\":{\"color\":\"#636efa\",\"dash\":\"solid\"},\"marker\":{\"symbol\":\"circle\"},\"mode\":\"lines\",\"name\":\"\",\"orientation\":\"v\",\"showlegend\":false,\"x\":[\"0_pre\",\"1_pre\",\"final_post\"],\"xaxis\":\"x\",\"y\":[-0.05245570093393326,-0.1581512987613678,26.917457580566406],\"yaxis\":\"y\",\"type\":\"scatter\"}],                        {\"template\":{\"data\":{\"histogram2dcontour\":[{\"type\":\"histogram2dcontour\",\"colorbar\":{\"outlinewidth\":0,\"ticks\":\"\"},\"colorscale\":[[0.0,\"#0d0887\"],[0.1111111111111111,\"#46039f\"],[0.2222222222222222,\"#7201a8\"],[0.3333333333333333,\"#9c179e\"],[0.4444444444444444,\"#bd3786\"],[0.5555555555555556,\"#d8576b\"],[0.6666666666666666,\"#ed7953\"],[0.7777777777777778,\"#fb9f3a\"],[0.8888888888888888,\"#fdca26\"],[1.0,\"#f0f921\"]]}],\"choropleth\":[{\"type\":\"choropleth\",\"colorbar\":{\"outlinewidth\":0,\"ticks\":\"\"}}],\"histogram2d\":[{\"type\":\"histogram2d\",\"colorbar\":{\"outlinewidth\":0,\"ticks\":\"\"},\"colorscale\":[[0.0,\"#0d0887\"],[0.1111111111111111,\"#46039f\"],[0.2222222222222222,\"#7201a8\"],[0.3333333333333333,\"#9c179e\"],[0.4444444444444444,\"#bd3786\"],[0.5555555555555556,\"#d8576b\"],[0.6666666666666666,\"#ed7953\"],[0.7777777777777778,\"#fb9f3a\"],[0.8888888888888888,\"#fdca26\"],[1.0,\"#f0f921\"]]}],\"heatmap\":[{\"type\":\"heatmap\",\"colorbar\":{\"outlinewidth\":0,\"ticks\":\"\"},\"colorscale\":[[0.0,\"#0d0887\"],[0.1111111111111111,\"#46039f\"],[0.2222222222222222,\"#7201a8\"],[0.3333333333333333,\"#9c179e\"],[0.4444444444444444,\"#bd3786\"],[0.5555555555555556,\"#d8576b\"],[0.6666666666666666,\"#ed7953\"],[0.7777777777777778,\"#fb9f3a\"],[0.8888888888888888,\"#fdca26\"],[1.0,\"#f0f921\"]]}],\"heatmapgl\":[{\"type\":\"heatmapgl\",\"colorbar\":{\"outlinewidth\":0,\"ticks\":\"\"},\"colorscale\":[[0.0,\"#0d0887\"],[0.1111111111111111,\"#46039f\"],[0.2222222222222222,\"#7201a8\"],[0.3333333333333333,\"#9c179e\"],[0.4444444444444444,\"#bd3786\"],[0.5555555555555556,\"#d8576b\"],[0.6666666666666666,\"#ed7953\"],[0.7777777777777778,\"#fb9f3a\"],[0.8888888888888888,\"#fdca26\"],[1.0,\"#f0f921\"]]}],\"contourcarpet\":[{\"type\":\"contourcarpet\",\"colorbar\":{\"outlinewidth\":0,\"ticks\":\"\"}}],\"contour\":[{\"type\":\"contour\",\"colorbar\":{\"outlinewidth\":0,\"ticks\":\"\"},\"colorscale\":[[0.0,\"#0d0887\"],[0.1111111111111111,\"#46039f\"],[0.2222222222222222,\"#7201a8\"],[0.3333333333333333,\"#9c179e\"],[0.4444444444444444,\"#bd3786\"],[0.5555555555555556,\"#d8576b\"],[0.6666666666666666,\"#ed7953\"],[0.7777777777777778,\"#fb9f3a\"],[0.8888888888888888,\"#fdca26\"],[1.0,\"#f0f921\"]]}],\"surface\":[{\"type\":\"surface\",\"colorbar\":{\"outlinewidth\":0,\"ticks\":\"\"},\"colorscale\":[[0.0,\"#0d0887\"],[0.1111111111111111,\"#46039f\"],[0.2222222222222222,\"#7201a8\"],[0.3333333333333333,\"#9c179e\"],[0.4444444444444444,\"#bd3786\"],[0.5555555555555556,\"#d8576b\"],[0.6666666666666666,\"#ed7953\"],[0.7777777777777778,\"#fb9f3a\"],[0.8888888888888888,\"#fdca26\"],[1.0,\"#f0f921\"]]}],\"mesh3d\":[{\"type\":\"mesh3d\",\"colorbar\":{\"outlinewidth\":0,\"ticks\":\"\"}}],\"scatter\":[{\"fillpattern\":{\"fillmode\":\"overlay\",\"size\":10,\"solidity\":0.2},\"type\":\"scatter\"}],\"parcoords\":[{\"type\":\"parcoords\",\"line\":{\"colorbar\":{\"outlinewidth\":0,\"ticks\":\"\"}}}],\"scatterpolargl\":[{\"type\":\"scatterpolargl\",\"marker\":{\"colorbar\":{\"outlinewidth\":0,\"ticks\":\"\"}}}],\"bar\":[{\"error_x\":{\"color\":\"#2a3f5f\"},\"error_y\":{\"color\":\"#2a3f5f\"},\"marker\":{\"line\":{\"color\":\"#E5ECF6\",\"width\":0.5},\"pattern\":{\"fillmode\":\"overlay\",\"size\":10,\"solidity\":0.2}},\"type\":\"bar\"}],\"scattergeo\":[{\"type\":\"scattergeo\",\"marker\":{\"colorbar\":{\"outlinewidth\":0,\"ticks\":\"\"}}}],\"scatterpolar\":[{\"type\":\"scatterpolar\",\"marker\":{\"colorbar\":{\"outlinewidth\":0,\"ticks\":\"\"}}}],\"histogram\":[{\"marker\":{\"pattern\":{\"fillmode\":\"overlay\",\"size\":10,\"solidity\":0.2}},\"type\":\"histogram\"}],\"scattergl\":[{\"type\":\"scattergl\",\"marker\":{\"colorbar\":{\"outlinewidth\":0,\"ticks\":\"\"}}}],\"scatter3d\":[{\"type\":\"scatter3d\",\"line\":{\"colorbar\":{\"outlinewidth\":0,\"ticks\":\"\"}},\"marker\":{\"colorbar\":{\"outlinewidth\":0,\"ticks\":\"\"}}}],\"scattermapbox\":[{\"type\":\"scattermapbox\",\"marker\":{\"colorbar\":{\"outlinewidth\":0,\"ticks\":\"\"}}}],\"scatterternary\":[{\"type\":\"scatterternary\",\"marker\":{\"colorbar\":{\"outlinewidth\":0,\"ticks\":\"\"}}}],\"scattercarpet\":[{\"type\":\"scattercarpet\",\"marker\":{\"colorbar\":{\"outlinewidth\":0,\"ticks\":\"\"}}}],\"carpet\":[{\"aaxis\":{\"endlinecolor\":\"#2a3f5f\",\"gridcolor\":\"white\",\"linecolor\":\"white\",\"minorgridcolor\":\"white\",\"startlinecolor\":\"#2a3f5f\"},\"baxis\":{\"endlinecolor\":\"#2a3f5f\",\"gridcolor\":\"white\",\"linecolor\":\"white\",\"minorgridcolor\":\"white\",\"startlinecolor\":\"#2a3f5f\"},\"type\":\"carpet\"}],\"table\":[{\"cells\":{\"fill\":{\"color\":\"#EBF0F8\"},\"line\":{\"color\":\"white\"}},\"header\":{\"fill\":{\"color\":\"#C8D4E3\"},\"line\":{\"color\":\"white\"}},\"type\":\"table\"}],\"barpolar\":[{\"marker\":{\"line\":{\"color\":\"#E5ECF6\",\"width\":0.5},\"pattern\":{\"fillmode\":\"overlay\",\"size\":10,\"solidity\":0.2}},\"type\":\"barpolar\"}],\"pie\":[{\"automargin\":true,\"type\":\"pie\"}]},\"layout\":{\"autotypenumbers\":\"strict\",\"colorway\":[\"#636efa\",\"#EF553B\",\"#00cc96\",\"#ab63fa\",\"#FFA15A\",\"#19d3f3\",\"#FF6692\",\"#B6E880\",\"#FF97FF\",\"#FECB52\"],\"font\":{\"color\":\"#2a3f5f\"},\"hovermode\":\"closest\",\"hoverlabel\":{\"align\":\"left\"},\"paper_bgcolor\":\"white\",\"plot_bgcolor\":\"#E5ECF6\",\"polar\":{\"bgcolor\":\"#E5ECF6\",\"angularaxis\":{\"gridcolor\":\"white\",\"linecolor\":\"white\",\"ticks\":\"\"},\"radialaxis\":{\"gridcolor\":\"white\",\"linecolor\":\"white\",\"ticks\":\"\"}},\"ternary\":{\"bgcolor\":\"#E5ECF6\",\"aaxis\":{\"gridcolor\":\"white\",\"linecolor\":\"white\",\"ticks\":\"\"},\"baxis\":{\"gridcolor\":\"white\",\"linecolor\":\"white\",\"ticks\":\"\"},\"caxis\":{\"gridcolor\":\"white\",\"linecolor\":\"white\",\"ticks\":\"\"}},\"coloraxis\":{\"colorbar\":{\"outlinewidth\":0,\"ticks\":\"\"}},\"colorscale\":{\"sequential\":[[0.0,\"#0d0887\"],[0.1111111111111111,\"#46039f\"],[0.2222222222222222,\"#7201a8\"],[0.3333333333333333,\"#9c179e\"],[0.4444444444444444,\"#bd3786\"],[0.5555555555555556,\"#d8576b\"],[0.6666666666666666,\"#ed7953\"],[0.7777777777777778,\"#fb9f3a\"],[0.8888888888888888,\"#fdca26\"],[1.0,\"#f0f921\"]],\"sequentialminus\":[[0.0,\"#0d0887\"],[0.1111111111111111,\"#46039f\"],[0.2222222222222222,\"#7201a8\"],[0.3333333333333333,\"#9c179e\"],[0.4444444444444444,\"#bd3786\"],[0.5555555555555556,\"#d8576b\"],[0.6666666666666666,\"#ed7953\"],[0.7777777777777778,\"#fb9f3a\"],[0.8888888888888888,\"#fdca26\"],[1.0,\"#f0f921\"]],\"diverging\":[[0,\"#8e0152\"],[0.1,\"#c51b7d\"],[0.2,\"#de77ae\"],[0.3,\"#f1b6da\"],[0.4,\"#fde0ef\"],[0.5,\"#f7f7f7\"],[0.6,\"#e6f5d0\"],[0.7,\"#b8e186\"],[0.8,\"#7fbc41\"],[0.9,\"#4d9221\"],[1,\"#276419\"]]},\"xaxis\":{\"gridcolor\":\"white\",\"linecolor\":\"white\",\"ticks\":\"\",\"title\":{\"standoff\":15},\"zerolinecolor\":\"white\",\"automargin\":true,\"zerolinewidth\":2},\"yaxis\":{\"gridcolor\":\"white\",\"linecolor\":\"white\",\"ticks\":\"\",\"title\":{\"standoff\":15},\"zerolinecolor\":\"white\",\"automargin\":true,\"zerolinewidth\":2},\"scene\":{\"xaxis\":{\"backgroundcolor\":\"#E5ECF6\",\"gridcolor\":\"white\",\"linecolor\":\"white\",\"showbackground\":true,\"ticks\":\"\",\"zerolinecolor\":\"white\",\"gridwidth\":2},\"yaxis\":{\"backgroundcolor\":\"#E5ECF6\",\"gridcolor\":\"white\",\"linecolor\":\"white\",\"showbackground\":true,\"ticks\":\"\",\"zerolinecolor\":\"white\",\"gridwidth\":2},\"zaxis\":{\"backgroundcolor\":\"#E5ECF6\",\"gridcolor\":\"white\",\"linecolor\":\"white\",\"showbackground\":true,\"ticks\":\"\",\"zerolinecolor\":\"white\",\"gridwidth\":2}},\"shapedefaults\":{\"line\":{\"color\":\"#2a3f5f\"}},\"annotationdefaults\":{\"arrowcolor\":\"#2a3f5f\",\"arrowhead\":0,\"arrowwidth\":1},\"geo\":{\"bgcolor\":\"white\",\"landcolor\":\"#E5ECF6\",\"subunitcolor\":\"white\",\"showland\":true,\"showlakes\":true,\"lakecolor\":\"white\"},\"title\":{\"x\":0.05},\"mapbox\":{\"style\":\"light\"}}},\"xaxis\":{\"anchor\":\"y\",\"domain\":[0.0,1.0],\"title\":{\"text\":\"Layer\"}},\"yaxis\":{\"anchor\":\"x\",\"domain\":[0.0,1.0],\"title\":{\"text\":\"attribution\"}},\"legend\":{\"tracegroupgap\":0},\"title\":{\"text\":\"Logit lens: direct logit attribution for prefix of model (first prediction)\"}},                        {\"responsive\": true}                    ).then(function(){\n",
              "                            \n",
              "var gd = document.getElementById('0c62c3d9-d0ff-4867-9d98-572474418338');\n",
              "var x = new MutationObserver(function (mutations, observer) {{\n",
              "        var display = window.getComputedStyle(gd).display;\n",
              "        if (!display || display === 'none') {{\n",
              "            console.log([gd, 'removed!']);\n",
              "            Plotly.purge(gd);\n",
              "            observer.disconnect();\n",
              "        }}\n",
              "}});\n",
              "\n",
              "// Listen for the removal of the full notebook cells\n",
              "var notebookContainer = gd.closest('#notebook-container');\n",
              "if (notebookContainer) {{\n",
              "    x.observe(notebookContainer, {childList: true});\n",
              "}}\n",
              "\n",
              "// Listen for the clearing of the current output cell\n",
              "var outputEl = gd.closest('.output');\n",
              "if (outputEl) {{\n",
              "    x.observe(outputEl, {childList: true});\n",
              "}}\n",
              "\n",
              "                        })                };                            </script>        </div>\n",
              "</body>\n",
              "</html>"
            ]
          },
          "metadata": {}
        }
      ]
    },
    {
      "cell_type": "markdown",
      "source": [
        "We see that the model's is only able to predict the correct answer after the second attn layer.\n",
        "\n",
        "\n",
        "We can also check the effect of each individual components output on the logits by using decomposed resid (Note we should see almost the exact same plot since the above is just the sum of the prefix of the decomposed components):"
      ],
      "metadata": {
        "id": "lWG2zAkLEe-A"
      }
    },
    {
      "cell_type": "code",
      "source": [
        "decomposed_resid_stack, labels = cache.decompose_resid(layer=-1, pos_slice=-4, return_labels=True)\n",
        "print(decomposed_resid_stack.shape)\n",
        "print(labels)"
      ],
      "metadata": {
        "colab": {
          "base_uri": "https://localhost:8080/"
        },
        "id": "Ry5rWiJ8Enbw",
        "outputId": "67f84eb9-fc21-4a4c-ae07-5e9af15c27a1"
      },
      "execution_count": 21,
      "outputs": [
        {
          "output_type": "stream",
          "name": "stdout",
          "text": [
            "torch.Size([4, 256, 128])\n",
            "['embed', 'pos_embed', '0_attn_out', '1_attn_out']\n"
          ]
        }
      ]
    },
    {
      "cell_type": "code",
      "source": [
        "decomposed_contrib = einops.einsum(\n",
        "    decomposed_resid_stack,\n",
        "    correct_logit_dirs,\n",
        "    \"... batch d_model, batch d_model -> ...\"\n",
        ") / test_data.shape[0]\n",
        "\n",
        "line(\n",
        "    decomposed_contrib,\n",
        "    title=\"Per component direct logit attribution for first prediction\",\n",
        "    xaxis=\"Component\", yaxis=\"attribution\",\n",
        "    x=labels\n",
        ")"
      ],
      "metadata": {
        "colab": {
          "base_uri": "https://localhost:8080/",
          "height": 542
        },
        "id": "ReYjnHWrEu0G",
        "outputId": "27292655-385d-427e-c79f-a0cddcf753ce"
      },
      "execution_count": 22,
      "outputs": [
        {
          "output_type": "display_data",
          "data": {
            "text/html": [
              "<html>\n",
              "<head><meta charset=\"utf-8\" /></head>\n",
              "<body>\n",
              "    <div>            <script src=\"https://cdnjs.cloudflare.com/ajax/libs/mathjax/2.7.5/MathJax.js?config=TeX-AMS-MML_SVG\"></script><script type=\"text/javascript\">if (window.MathJax && window.MathJax.Hub && window.MathJax.Hub.Config) {window.MathJax.Hub.Config({SVG: {font: \"STIX-Web\"}});}</script>                <script type=\"text/javascript\">window.PlotlyConfig = {MathJaxConfig: 'local'};</script>\n",
              "        <script charset=\"utf-8\" src=\"https://cdn.plot.ly/plotly-2.24.1.min.js\"></script>                <div id=\"144d7d2a-1ccd-48ee-b551-04512969420f\" class=\"plotly-graph-div\" style=\"height:525px; width:100%;\"></div>            <script type=\"text/javascript\">                                    window.PLOTLYENV=window.PLOTLYENV || {};                                    if (document.getElementById(\"144d7d2a-1ccd-48ee-b551-04512969420f\")) {                    Plotly.newPlot(                        \"144d7d2a-1ccd-48ee-b551-04512969420f\",                        [{\"hovertemplate\":\"Component=%{x}\\u003cbr\\u003eattribution=%{y}\\u003cextra\\u003e\\u003c\\u002fextra\\u003e\",\"legendgroup\":\"\",\"line\":{\"color\":\"#636efa\",\"dash\":\"solid\"},\"marker\":{\"symbol\":\"circle\"},\"mode\":\"lines\",\"name\":\"\",\"orientation\":\"v\",\"showlegend\":false,\"x\":[\"embed\",\"pos_embed\",\"0_attn_out\",\"1_attn_out\"],\"xaxis\":\"x\",\"y\":[-0.03429676219820976,-0.018158968538045883,-0.10569562017917633,27.075611114501953],\"yaxis\":\"y\",\"type\":\"scatter\"}],                        {\"template\":{\"data\":{\"histogram2dcontour\":[{\"type\":\"histogram2dcontour\",\"colorbar\":{\"outlinewidth\":0,\"ticks\":\"\"},\"colorscale\":[[0.0,\"#0d0887\"],[0.1111111111111111,\"#46039f\"],[0.2222222222222222,\"#7201a8\"],[0.3333333333333333,\"#9c179e\"],[0.4444444444444444,\"#bd3786\"],[0.5555555555555556,\"#d8576b\"],[0.6666666666666666,\"#ed7953\"],[0.7777777777777778,\"#fb9f3a\"],[0.8888888888888888,\"#fdca26\"],[1.0,\"#f0f921\"]]}],\"choropleth\":[{\"type\":\"choropleth\",\"colorbar\":{\"outlinewidth\":0,\"ticks\":\"\"}}],\"histogram2d\":[{\"type\":\"histogram2d\",\"colorbar\":{\"outlinewidth\":0,\"ticks\":\"\"},\"colorscale\":[[0.0,\"#0d0887\"],[0.1111111111111111,\"#46039f\"],[0.2222222222222222,\"#7201a8\"],[0.3333333333333333,\"#9c179e\"],[0.4444444444444444,\"#bd3786\"],[0.5555555555555556,\"#d8576b\"],[0.6666666666666666,\"#ed7953\"],[0.7777777777777778,\"#fb9f3a\"],[0.8888888888888888,\"#fdca26\"],[1.0,\"#f0f921\"]]}],\"heatmap\":[{\"type\":\"heatmap\",\"colorbar\":{\"outlinewidth\":0,\"ticks\":\"\"},\"colorscale\":[[0.0,\"#0d0887\"],[0.1111111111111111,\"#46039f\"],[0.2222222222222222,\"#7201a8\"],[0.3333333333333333,\"#9c179e\"],[0.4444444444444444,\"#bd3786\"],[0.5555555555555556,\"#d8576b\"],[0.6666666666666666,\"#ed7953\"],[0.7777777777777778,\"#fb9f3a\"],[0.8888888888888888,\"#fdca26\"],[1.0,\"#f0f921\"]]}],\"heatmapgl\":[{\"type\":\"heatmapgl\",\"colorbar\":{\"outlinewidth\":0,\"ticks\":\"\"},\"colorscale\":[[0.0,\"#0d0887\"],[0.1111111111111111,\"#46039f\"],[0.2222222222222222,\"#7201a8\"],[0.3333333333333333,\"#9c179e\"],[0.4444444444444444,\"#bd3786\"],[0.5555555555555556,\"#d8576b\"],[0.6666666666666666,\"#ed7953\"],[0.7777777777777778,\"#fb9f3a\"],[0.8888888888888888,\"#fdca26\"],[1.0,\"#f0f921\"]]}],\"contourcarpet\":[{\"type\":\"contourcarpet\",\"colorbar\":{\"outlinewidth\":0,\"ticks\":\"\"}}],\"contour\":[{\"type\":\"contour\",\"colorbar\":{\"outlinewidth\":0,\"ticks\":\"\"},\"colorscale\":[[0.0,\"#0d0887\"],[0.1111111111111111,\"#46039f\"],[0.2222222222222222,\"#7201a8\"],[0.3333333333333333,\"#9c179e\"],[0.4444444444444444,\"#bd3786\"],[0.5555555555555556,\"#d8576b\"],[0.6666666666666666,\"#ed7953\"],[0.7777777777777778,\"#fb9f3a\"],[0.8888888888888888,\"#fdca26\"],[1.0,\"#f0f921\"]]}],\"surface\":[{\"type\":\"surface\",\"colorbar\":{\"outlinewidth\":0,\"ticks\":\"\"},\"colorscale\":[[0.0,\"#0d0887\"],[0.1111111111111111,\"#46039f\"],[0.2222222222222222,\"#7201a8\"],[0.3333333333333333,\"#9c179e\"],[0.4444444444444444,\"#bd3786\"],[0.5555555555555556,\"#d8576b\"],[0.6666666666666666,\"#ed7953\"],[0.7777777777777778,\"#fb9f3a\"],[0.8888888888888888,\"#fdca26\"],[1.0,\"#f0f921\"]]}],\"mesh3d\":[{\"type\":\"mesh3d\",\"colorbar\":{\"outlinewidth\":0,\"ticks\":\"\"}}],\"scatter\":[{\"fillpattern\":{\"fillmode\":\"overlay\",\"size\":10,\"solidity\":0.2},\"type\":\"scatter\"}],\"parcoords\":[{\"type\":\"parcoords\",\"line\":{\"colorbar\":{\"outlinewidth\":0,\"ticks\":\"\"}}}],\"scatterpolargl\":[{\"type\":\"scatterpolargl\",\"marker\":{\"colorbar\":{\"outlinewidth\":0,\"ticks\":\"\"}}}],\"bar\":[{\"error_x\":{\"color\":\"#2a3f5f\"},\"error_y\":{\"color\":\"#2a3f5f\"},\"marker\":{\"line\":{\"color\":\"#E5ECF6\",\"width\":0.5},\"pattern\":{\"fillmode\":\"overlay\",\"size\":10,\"solidity\":0.2}},\"type\":\"bar\"}],\"scattergeo\":[{\"type\":\"scattergeo\",\"marker\":{\"colorbar\":{\"outlinewidth\":0,\"ticks\":\"\"}}}],\"scatterpolar\":[{\"type\":\"scatterpolar\",\"marker\":{\"colorbar\":{\"outlinewidth\":0,\"ticks\":\"\"}}}],\"histogram\":[{\"marker\":{\"pattern\":{\"fillmode\":\"overlay\",\"size\":10,\"solidity\":0.2}},\"type\":\"histogram\"}],\"scattergl\":[{\"type\":\"scattergl\",\"marker\":{\"colorbar\":{\"outlinewidth\":0,\"ticks\":\"\"}}}],\"scatter3d\":[{\"type\":\"scatter3d\",\"line\":{\"colorbar\":{\"outlinewidth\":0,\"ticks\":\"\"}},\"marker\":{\"colorbar\":{\"outlinewidth\":0,\"ticks\":\"\"}}}],\"scattermapbox\":[{\"type\":\"scattermapbox\",\"marker\":{\"colorbar\":{\"outlinewidth\":0,\"ticks\":\"\"}}}],\"scatterternary\":[{\"type\":\"scatterternary\",\"marker\":{\"colorbar\":{\"outlinewidth\":0,\"ticks\":\"\"}}}],\"scattercarpet\":[{\"type\":\"scattercarpet\",\"marker\":{\"colorbar\":{\"outlinewidth\":0,\"ticks\":\"\"}}}],\"carpet\":[{\"aaxis\":{\"endlinecolor\":\"#2a3f5f\",\"gridcolor\":\"white\",\"linecolor\":\"white\",\"minorgridcolor\":\"white\",\"startlinecolor\":\"#2a3f5f\"},\"baxis\":{\"endlinecolor\":\"#2a3f5f\",\"gridcolor\":\"white\",\"linecolor\":\"white\",\"minorgridcolor\":\"white\",\"startlinecolor\":\"#2a3f5f\"},\"type\":\"carpet\"}],\"table\":[{\"cells\":{\"fill\":{\"color\":\"#EBF0F8\"},\"line\":{\"color\":\"white\"}},\"header\":{\"fill\":{\"color\":\"#C8D4E3\"},\"line\":{\"color\":\"white\"}},\"type\":\"table\"}],\"barpolar\":[{\"marker\":{\"line\":{\"color\":\"#E5ECF6\",\"width\":0.5},\"pattern\":{\"fillmode\":\"overlay\",\"size\":10,\"solidity\":0.2}},\"type\":\"barpolar\"}],\"pie\":[{\"automargin\":true,\"type\":\"pie\"}]},\"layout\":{\"autotypenumbers\":\"strict\",\"colorway\":[\"#636efa\",\"#EF553B\",\"#00cc96\",\"#ab63fa\",\"#FFA15A\",\"#19d3f3\",\"#FF6692\",\"#B6E880\",\"#FF97FF\",\"#FECB52\"],\"font\":{\"color\":\"#2a3f5f\"},\"hovermode\":\"closest\",\"hoverlabel\":{\"align\":\"left\"},\"paper_bgcolor\":\"white\",\"plot_bgcolor\":\"#E5ECF6\",\"polar\":{\"bgcolor\":\"#E5ECF6\",\"angularaxis\":{\"gridcolor\":\"white\",\"linecolor\":\"white\",\"ticks\":\"\"},\"radialaxis\":{\"gridcolor\":\"white\",\"linecolor\":\"white\",\"ticks\":\"\"}},\"ternary\":{\"bgcolor\":\"#E5ECF6\",\"aaxis\":{\"gridcolor\":\"white\",\"linecolor\":\"white\",\"ticks\":\"\"},\"baxis\":{\"gridcolor\":\"white\",\"linecolor\":\"white\",\"ticks\":\"\"},\"caxis\":{\"gridcolor\":\"white\",\"linecolor\":\"white\",\"ticks\":\"\"}},\"coloraxis\":{\"colorbar\":{\"outlinewidth\":0,\"ticks\":\"\"}},\"colorscale\":{\"sequential\":[[0.0,\"#0d0887\"],[0.1111111111111111,\"#46039f\"],[0.2222222222222222,\"#7201a8\"],[0.3333333333333333,\"#9c179e\"],[0.4444444444444444,\"#bd3786\"],[0.5555555555555556,\"#d8576b\"],[0.6666666666666666,\"#ed7953\"],[0.7777777777777778,\"#fb9f3a\"],[0.8888888888888888,\"#fdca26\"],[1.0,\"#f0f921\"]],\"sequentialminus\":[[0.0,\"#0d0887\"],[0.1111111111111111,\"#46039f\"],[0.2222222222222222,\"#7201a8\"],[0.3333333333333333,\"#9c179e\"],[0.4444444444444444,\"#bd3786\"],[0.5555555555555556,\"#d8576b\"],[0.6666666666666666,\"#ed7953\"],[0.7777777777777778,\"#fb9f3a\"],[0.8888888888888888,\"#fdca26\"],[1.0,\"#f0f921\"]],\"diverging\":[[0,\"#8e0152\"],[0.1,\"#c51b7d\"],[0.2,\"#de77ae\"],[0.3,\"#f1b6da\"],[0.4,\"#fde0ef\"],[0.5,\"#f7f7f7\"],[0.6,\"#e6f5d0\"],[0.7,\"#b8e186\"],[0.8,\"#7fbc41\"],[0.9,\"#4d9221\"],[1,\"#276419\"]]},\"xaxis\":{\"gridcolor\":\"white\",\"linecolor\":\"white\",\"ticks\":\"\",\"title\":{\"standoff\":15},\"zerolinecolor\":\"white\",\"automargin\":true,\"zerolinewidth\":2},\"yaxis\":{\"gridcolor\":\"white\",\"linecolor\":\"white\",\"ticks\":\"\",\"title\":{\"standoff\":15},\"zerolinecolor\":\"white\",\"automargin\":true,\"zerolinewidth\":2},\"scene\":{\"xaxis\":{\"backgroundcolor\":\"#E5ECF6\",\"gridcolor\":\"white\",\"linecolor\":\"white\",\"showbackground\":true,\"ticks\":\"\",\"zerolinecolor\":\"white\",\"gridwidth\":2},\"yaxis\":{\"backgroundcolor\":\"#E5ECF6\",\"gridcolor\":\"white\",\"linecolor\":\"white\",\"showbackground\":true,\"ticks\":\"\",\"zerolinecolor\":\"white\",\"gridwidth\":2},\"zaxis\":{\"backgroundcolor\":\"#E5ECF6\",\"gridcolor\":\"white\",\"linecolor\":\"white\",\"showbackground\":true,\"ticks\":\"\",\"zerolinecolor\":\"white\",\"gridwidth\":2}},\"shapedefaults\":{\"line\":{\"color\":\"#2a3f5f\"}},\"annotationdefaults\":{\"arrowcolor\":\"#2a3f5f\",\"arrowhead\":0,\"arrowwidth\":1},\"geo\":{\"bgcolor\":\"white\",\"landcolor\":\"#E5ECF6\",\"subunitcolor\":\"white\",\"showland\":true,\"showlakes\":true,\"lakecolor\":\"white\"},\"title\":{\"x\":0.05},\"mapbox\":{\"style\":\"light\"}}},\"xaxis\":{\"anchor\":\"y\",\"domain\":[0.0,1.0],\"title\":{\"text\":\"Component\"}},\"yaxis\":{\"anchor\":\"x\",\"domain\":[0.0,1.0],\"title\":{\"text\":\"attribution\"}},\"legend\":{\"tracegroupgap\":0},\"title\":{\"text\":\"Per component direct logit attribution for first prediction\"}},                        {\"responsive\": true}                    ).then(function(){\n",
              "                            \n",
              "var gd = document.getElementById('144d7d2a-1ccd-48ee-b551-04512969420f');\n",
              "var x = new MutationObserver(function (mutations, observer) {{\n",
              "        var display = window.getComputedStyle(gd).display;\n",
              "        if (!display || display === 'none') {{\n",
              "            console.log([gd, 'removed!']);\n",
              "            Plotly.purge(gd);\n",
              "            observer.disconnect();\n",
              "        }}\n",
              "}});\n",
              "\n",
              "// Listen for the removal of the full notebook cells\n",
              "var notebookContainer = gd.closest('#notebook-container');\n",
              "if (notebookContainer) {{\n",
              "    x.observe(notebookContainer, {childList: true});\n",
              "}}\n",
              "\n",
              "// Listen for the clearing of the current output cell\n",
              "var outputEl = gd.closest('.output');\n",
              "if (outputEl) {{\n",
              "    x.observe(outputEl, {childList: true});\n",
              "}}\n",
              "\n",
              "                        })                };                            </script>        </div>\n",
              "</body>\n",
              "</html>"
            ]
          },
          "metadata": {}
        }
      ]
    },
    {
      "cell_type": "markdown",
      "source": [
        "As expected, the second attn layer has the biggest direct effect on the logits.\n",
        "\n",
        "\n",
        "This attribution combined with the fact that a 1L model could not perform the task suggests the model is doing some kind of composition. A next natural step is to start trying to understand interpretable activations - in this case the attn patterns."
      ],
      "metadata": {
        "id": "TfwmgiHpE__j"
      }
    },
    {
      "cell_type": "markdown",
      "source": [
        "## Stare at 1.0 patterns"
      ],
      "metadata": {
        "id": "mBjs5auJGTDL"
      }
    },
    {
      "cell_type": "markdown",
      "source": [
        "When trying to understand activations, it's often useful to work backwards, so we start with head 1.0 pattern.\n",
        "\n",
        "Since the correct prediction is earlier in the context, one natural guess is that head 1.0 might attend to the correct token and copy it to the logits - a common motif that we've also seen in the \"min of two ints\" and \"sort fixed length lists\" toy model tutorials."
      ],
      "metadata": {
        "id": "QBIYBZDvGUqw"
      }
    },
    {
      "cell_type": "markdown",
      "source": [
        "First we can look at the average pattern over the test sample to get a lay of the land:"
      ],
      "metadata": {
        "id": "HFedIsDVGuH9"
      }
    },
    {
      "cell_type": "code",
      "source": [
        "def tokens_to_plotly_labels(tokens, incl_pos=True):\n",
        "    if tokens.ndim==2:\n",
        "        tokens = tokens[0]\n",
        "    if incl_pos:\n",
        "        res = [f\"{tok}_{i}\" for i, tok in enumerate(tokens)]\n",
        "    else:\n",
        "        res = list(map(str, tokens.tolist()))\n",
        "    res[0] = 'BOS'\n",
        "    res[LIST_LEN+1] = 'MID'\n",
        "    res[2*LIST_LEN+2]= 'END'\n",
        "    return res\n",
        "\n",
        "tokens_to_plotly_labels(test_data)\n",
        "tokens_to_plotly_labels(test_data, incl_pos=False)"
      ],
      "metadata": {
        "colab": {
          "base_uri": "https://localhost:8080/"
        },
        "id": "T17yB0waHFEC",
        "outputId": "6c8f5709-0dd4-469f-aac5-a989e895f1b0"
      },
      "execution_count": 23,
      "outputs": [
        {
          "output_type": "execute_result",
          "data": {
            "text/plain": [
              "['BOS', '44', '39', '33', 'MID', '0', '2', '1', 'END', '44', '33', '39']"
            ]
          },
          "metadata": {},
          "execution_count": 23
        }
      ]
    },
    {
      "cell_type": "code",
      "source": [
        "labels = tokens_to_plotly_labels(test_data)\n",
        "\n",
        "layer, head_index = 1, 0\n",
        "imshow(\n",
        "    cache['pattern', layer][:, head_index, :, :].mean(dim=0),\n",
        "    title=f\"Attn head {layer}.{head_index} pattern (averged over batch)\",\n",
        "    xaxis=\"src\", yaxis=\"dest\",\n",
        "    x=labels, y=labels\n",
        ")"
      ],
      "metadata": {
        "colab": {
          "base_uri": "https://localhost:8080/",
          "height": 542
        },
        "id": "BOx2RRUyGtKD",
        "outputId": "117a9450-159a-4100-b109-4623816959c9"
      },
      "execution_count": 24,
      "outputs": [
        {
          "output_type": "display_data",
          "data": {
            "text/html": [
              "<html>\n",
              "<head><meta charset=\"utf-8\" /></head>\n",
              "<body>\n",
              "    <div>            <script src=\"https://cdnjs.cloudflare.com/ajax/libs/mathjax/2.7.5/MathJax.js?config=TeX-AMS-MML_SVG\"></script><script type=\"text/javascript\">if (window.MathJax && window.MathJax.Hub && window.MathJax.Hub.Config) {window.MathJax.Hub.Config({SVG: {font: \"STIX-Web\"}});}</script>                <script type=\"text/javascript\">window.PlotlyConfig = {MathJaxConfig: 'local'};</script>\n",
              "        <script charset=\"utf-8\" src=\"https://cdn.plot.ly/plotly-2.24.1.min.js\"></script>                <div id=\"3ff5fef7-c630-43f0-a372-160fc720f5e8\" class=\"plotly-graph-div\" style=\"height:525px; width:100%;\"></div>            <script type=\"text/javascript\">                                    window.PLOTLYENV=window.PLOTLYENV || {};                                    if (document.getElementById(\"3ff5fef7-c630-43f0-a372-160fc720f5e8\")) {                    Plotly.newPlot(                        \"3ff5fef7-c630-43f0-a372-160fc720f5e8\",                        [{\"coloraxis\":\"coloraxis\",\"name\":\"0\",\"x\":[\"BOS\",\"44_1\",\"39_2\",\"33_3\",\"MID\",\"0_5\",\"2_6\",\"1_7\",\"END\",\"44_9\",\"33_10\",\"39_11\"],\"y\":[\"BOS\",\"44_1\",\"39_2\",\"33_3\",\"MID\",\"0_5\",\"2_6\",\"1_7\",\"END\",\"44_9\",\"33_10\",\"39_11\"],\"z\":[[1.0,0.0,0.0,0.0,0.0,0.0,0.0,0.0,0.0,0.0,0.0,0.0],[0.9933484792709351,0.006651503499597311,0.0,0.0,0.0,0.0,0.0,0.0,0.0,0.0,0.0,0.0],[0.608792781829834,0.3857516646385193,0.005455617792904377,0.0,0.0,0.0,0.0,0.0,0.0,0.0,0.0,0.0],[0.5255447626113892,0.286138117313385,0.1787634938955307,0.00955360010266304,0.0,0.0,0.0,0.0,0.0,0.0,0.0,0.0],[0.6601729989051819,0.12264249473810196,0.04572979733347893,0.08833517879247665,0.08311951160430908,0.0,0.0,0.0,0.0,0.0,0.0,0.0],[0.26360654830932617,0.212505042552948,0.1533360332250595,0.16826723515987396,0.1796579360961914,0.022627172991633415,0.0,0.0,0.0,0.0,0.0,0.0],[0.19808274507522583,0.26640585064888,0.10114195942878723,0.13235929608345032,0.10330604016780853,0.1897173523902893,0.00898677296936512,0.0,0.0,0.0,0.0,0.0],[0.36508578062057495,0.12149196863174438,0.03479470685124397,0.04833177104592323,0.03726179525256157,0.1629488468170166,0.21789559721946716,0.012189514935016632,0.0,0.0,0.0,0.0],[0.03663596883416176,0.025885993614792824,0.0009327952284365892,0.0010220349067822099,0.002355141332373023,0.9226158857345581,0.0009599683107808232,0.0012015840038657188,0.00839058868587017,0.0,0.0,0.0],[0.0007142957765609026,0.0002490479382686317,0.0008369804127141833,0.0006425833562389016,0.0004400027100928128,0.00019475945737212896,0.9925695657730103,0.0006668439018540084,0.00027843110729008913,0.003407494630664587,0.0,0.0],[0.013045151717960835,0.04748346656560898,0.07819810509681702,0.05521364510059357,0.05486169457435608,0.003997510764747858,0.0069627780467271805,0.689628005027771,0.03148756921291351,0.013882603496313095,0.005239495076239109,0.0],[0.17203956842422485,0.04873516783118248,0.030619120225310326,0.04412160813808441,0.05596882849931717,0.07224968820810318,0.14559811353683472,0.05507250875234604,0.11672019213438034,0.12971451878547668,0.08714409172534943,0.04201661795377731]],\"type\":\"heatmap\",\"xaxis\":\"x\",\"yaxis\":\"y\",\"hovertemplate\":\"src: %{x}\\u003cbr\\u003edest: %{y}\\u003cbr\\u003ecolor: %{z}\\u003cextra\\u003e\\u003c\\u002fextra\\u003e\"}],                        {\"template\":{\"data\":{\"histogram2dcontour\":[{\"type\":\"histogram2dcontour\",\"colorbar\":{\"outlinewidth\":0,\"ticks\":\"\"},\"colorscale\":[[0.0,\"#0d0887\"],[0.1111111111111111,\"#46039f\"],[0.2222222222222222,\"#7201a8\"],[0.3333333333333333,\"#9c179e\"],[0.4444444444444444,\"#bd3786\"],[0.5555555555555556,\"#d8576b\"],[0.6666666666666666,\"#ed7953\"],[0.7777777777777778,\"#fb9f3a\"],[0.8888888888888888,\"#fdca26\"],[1.0,\"#f0f921\"]]}],\"choropleth\":[{\"type\":\"choropleth\",\"colorbar\":{\"outlinewidth\":0,\"ticks\":\"\"}}],\"histogram2d\":[{\"type\":\"histogram2d\",\"colorbar\":{\"outlinewidth\":0,\"ticks\":\"\"},\"colorscale\":[[0.0,\"#0d0887\"],[0.1111111111111111,\"#46039f\"],[0.2222222222222222,\"#7201a8\"],[0.3333333333333333,\"#9c179e\"],[0.4444444444444444,\"#bd3786\"],[0.5555555555555556,\"#d8576b\"],[0.6666666666666666,\"#ed7953\"],[0.7777777777777778,\"#fb9f3a\"],[0.8888888888888888,\"#fdca26\"],[1.0,\"#f0f921\"]]}],\"heatmap\":[{\"type\":\"heatmap\",\"colorbar\":{\"outlinewidth\":0,\"ticks\":\"\"},\"colorscale\":[[0.0,\"#0d0887\"],[0.1111111111111111,\"#46039f\"],[0.2222222222222222,\"#7201a8\"],[0.3333333333333333,\"#9c179e\"],[0.4444444444444444,\"#bd3786\"],[0.5555555555555556,\"#d8576b\"],[0.6666666666666666,\"#ed7953\"],[0.7777777777777778,\"#fb9f3a\"],[0.8888888888888888,\"#fdca26\"],[1.0,\"#f0f921\"]]}],\"heatmapgl\":[{\"type\":\"heatmapgl\",\"colorbar\":{\"outlinewidth\":0,\"ticks\":\"\"},\"colorscale\":[[0.0,\"#0d0887\"],[0.1111111111111111,\"#46039f\"],[0.2222222222222222,\"#7201a8\"],[0.3333333333333333,\"#9c179e\"],[0.4444444444444444,\"#bd3786\"],[0.5555555555555556,\"#d8576b\"],[0.6666666666666666,\"#ed7953\"],[0.7777777777777778,\"#fb9f3a\"],[0.8888888888888888,\"#fdca26\"],[1.0,\"#f0f921\"]]}],\"contourcarpet\":[{\"type\":\"contourcarpet\",\"colorbar\":{\"outlinewidth\":0,\"ticks\":\"\"}}],\"contour\":[{\"type\":\"contour\",\"colorbar\":{\"outlinewidth\":0,\"ticks\":\"\"},\"colorscale\":[[0.0,\"#0d0887\"],[0.1111111111111111,\"#46039f\"],[0.2222222222222222,\"#7201a8\"],[0.3333333333333333,\"#9c179e\"],[0.4444444444444444,\"#bd3786\"],[0.5555555555555556,\"#d8576b\"],[0.6666666666666666,\"#ed7953\"],[0.7777777777777778,\"#fb9f3a\"],[0.8888888888888888,\"#fdca26\"],[1.0,\"#f0f921\"]]}],\"surface\":[{\"type\":\"surface\",\"colorbar\":{\"outlinewidth\":0,\"ticks\":\"\"},\"colorscale\":[[0.0,\"#0d0887\"],[0.1111111111111111,\"#46039f\"],[0.2222222222222222,\"#7201a8\"],[0.3333333333333333,\"#9c179e\"],[0.4444444444444444,\"#bd3786\"],[0.5555555555555556,\"#d8576b\"],[0.6666666666666666,\"#ed7953\"],[0.7777777777777778,\"#fb9f3a\"],[0.8888888888888888,\"#fdca26\"],[1.0,\"#f0f921\"]]}],\"mesh3d\":[{\"type\":\"mesh3d\",\"colorbar\":{\"outlinewidth\":0,\"ticks\":\"\"}}],\"scatter\":[{\"fillpattern\":{\"fillmode\":\"overlay\",\"size\":10,\"solidity\":0.2},\"type\":\"scatter\"}],\"parcoords\":[{\"type\":\"parcoords\",\"line\":{\"colorbar\":{\"outlinewidth\":0,\"ticks\":\"\"}}}],\"scatterpolargl\":[{\"type\":\"scatterpolargl\",\"marker\":{\"colorbar\":{\"outlinewidth\":0,\"ticks\":\"\"}}}],\"bar\":[{\"error_x\":{\"color\":\"#2a3f5f\"},\"error_y\":{\"color\":\"#2a3f5f\"},\"marker\":{\"line\":{\"color\":\"#E5ECF6\",\"width\":0.5},\"pattern\":{\"fillmode\":\"overlay\",\"size\":10,\"solidity\":0.2}},\"type\":\"bar\"}],\"scattergeo\":[{\"type\":\"scattergeo\",\"marker\":{\"colorbar\":{\"outlinewidth\":0,\"ticks\":\"\"}}}],\"scatterpolar\":[{\"type\":\"scatterpolar\",\"marker\":{\"colorbar\":{\"outlinewidth\":0,\"ticks\":\"\"}}}],\"histogram\":[{\"marker\":{\"pattern\":{\"fillmode\":\"overlay\",\"size\":10,\"solidity\":0.2}},\"type\":\"histogram\"}],\"scattergl\":[{\"type\":\"scattergl\",\"marker\":{\"colorbar\":{\"outlinewidth\":0,\"ticks\":\"\"}}}],\"scatter3d\":[{\"type\":\"scatter3d\",\"line\":{\"colorbar\":{\"outlinewidth\":0,\"ticks\":\"\"}},\"marker\":{\"colorbar\":{\"outlinewidth\":0,\"ticks\":\"\"}}}],\"scattermapbox\":[{\"type\":\"scattermapbox\",\"marker\":{\"colorbar\":{\"outlinewidth\":0,\"ticks\":\"\"}}}],\"scatterternary\":[{\"type\":\"scatterternary\",\"marker\":{\"colorbar\":{\"outlinewidth\":0,\"ticks\":\"\"}}}],\"scattercarpet\":[{\"type\":\"scattercarpet\",\"marker\":{\"colorbar\":{\"outlinewidth\":0,\"ticks\":\"\"}}}],\"carpet\":[{\"aaxis\":{\"endlinecolor\":\"#2a3f5f\",\"gridcolor\":\"white\",\"linecolor\":\"white\",\"minorgridcolor\":\"white\",\"startlinecolor\":\"#2a3f5f\"},\"baxis\":{\"endlinecolor\":\"#2a3f5f\",\"gridcolor\":\"white\",\"linecolor\":\"white\",\"minorgridcolor\":\"white\",\"startlinecolor\":\"#2a3f5f\"},\"type\":\"carpet\"}],\"table\":[{\"cells\":{\"fill\":{\"color\":\"#EBF0F8\"},\"line\":{\"color\":\"white\"}},\"header\":{\"fill\":{\"color\":\"#C8D4E3\"},\"line\":{\"color\":\"white\"}},\"type\":\"table\"}],\"barpolar\":[{\"marker\":{\"line\":{\"color\":\"#E5ECF6\",\"width\":0.5},\"pattern\":{\"fillmode\":\"overlay\",\"size\":10,\"solidity\":0.2}},\"type\":\"barpolar\"}],\"pie\":[{\"automargin\":true,\"type\":\"pie\"}]},\"layout\":{\"autotypenumbers\":\"strict\",\"colorway\":[\"#636efa\",\"#EF553B\",\"#00cc96\",\"#ab63fa\",\"#FFA15A\",\"#19d3f3\",\"#FF6692\",\"#B6E880\",\"#FF97FF\",\"#FECB52\"],\"font\":{\"color\":\"#2a3f5f\"},\"hovermode\":\"closest\",\"hoverlabel\":{\"align\":\"left\"},\"paper_bgcolor\":\"white\",\"plot_bgcolor\":\"#E5ECF6\",\"polar\":{\"bgcolor\":\"#E5ECF6\",\"angularaxis\":{\"gridcolor\":\"white\",\"linecolor\":\"white\",\"ticks\":\"\"},\"radialaxis\":{\"gridcolor\":\"white\",\"linecolor\":\"white\",\"ticks\":\"\"}},\"ternary\":{\"bgcolor\":\"#E5ECF6\",\"aaxis\":{\"gridcolor\":\"white\",\"linecolor\":\"white\",\"ticks\":\"\"},\"baxis\":{\"gridcolor\":\"white\",\"linecolor\":\"white\",\"ticks\":\"\"},\"caxis\":{\"gridcolor\":\"white\",\"linecolor\":\"white\",\"ticks\":\"\"}},\"coloraxis\":{\"colorbar\":{\"outlinewidth\":0,\"ticks\":\"\"}},\"colorscale\":{\"sequential\":[[0.0,\"#0d0887\"],[0.1111111111111111,\"#46039f\"],[0.2222222222222222,\"#7201a8\"],[0.3333333333333333,\"#9c179e\"],[0.4444444444444444,\"#bd3786\"],[0.5555555555555556,\"#d8576b\"],[0.6666666666666666,\"#ed7953\"],[0.7777777777777778,\"#fb9f3a\"],[0.8888888888888888,\"#fdca26\"],[1.0,\"#f0f921\"]],\"sequentialminus\":[[0.0,\"#0d0887\"],[0.1111111111111111,\"#46039f\"],[0.2222222222222222,\"#7201a8\"],[0.3333333333333333,\"#9c179e\"],[0.4444444444444444,\"#bd3786\"],[0.5555555555555556,\"#d8576b\"],[0.6666666666666666,\"#ed7953\"],[0.7777777777777778,\"#fb9f3a\"],[0.8888888888888888,\"#fdca26\"],[1.0,\"#f0f921\"]],\"diverging\":[[0,\"#8e0152\"],[0.1,\"#c51b7d\"],[0.2,\"#de77ae\"],[0.3,\"#f1b6da\"],[0.4,\"#fde0ef\"],[0.5,\"#f7f7f7\"],[0.6,\"#e6f5d0\"],[0.7,\"#b8e186\"],[0.8,\"#7fbc41\"],[0.9,\"#4d9221\"],[1,\"#276419\"]]},\"xaxis\":{\"gridcolor\":\"white\",\"linecolor\":\"white\",\"ticks\":\"\",\"title\":{\"standoff\":15},\"zerolinecolor\":\"white\",\"automargin\":true,\"zerolinewidth\":2},\"yaxis\":{\"gridcolor\":\"white\",\"linecolor\":\"white\",\"ticks\":\"\",\"title\":{\"standoff\":15},\"zerolinecolor\":\"white\",\"automargin\":true,\"zerolinewidth\":2},\"scene\":{\"xaxis\":{\"backgroundcolor\":\"#E5ECF6\",\"gridcolor\":\"white\",\"linecolor\":\"white\",\"showbackground\":true,\"ticks\":\"\",\"zerolinecolor\":\"white\",\"gridwidth\":2},\"yaxis\":{\"backgroundcolor\":\"#E5ECF6\",\"gridcolor\":\"white\",\"linecolor\":\"white\",\"showbackground\":true,\"ticks\":\"\",\"zerolinecolor\":\"white\",\"gridwidth\":2},\"zaxis\":{\"backgroundcolor\":\"#E5ECF6\",\"gridcolor\":\"white\",\"linecolor\":\"white\",\"showbackground\":true,\"ticks\":\"\",\"zerolinecolor\":\"white\",\"gridwidth\":2}},\"shapedefaults\":{\"line\":{\"color\":\"#2a3f5f\"}},\"annotationdefaults\":{\"arrowcolor\":\"#2a3f5f\",\"arrowhead\":0,\"arrowwidth\":1},\"geo\":{\"bgcolor\":\"white\",\"landcolor\":\"#E5ECF6\",\"subunitcolor\":\"white\",\"showland\":true,\"showlakes\":true,\"lakecolor\":\"white\"},\"title\":{\"x\":0.05},\"mapbox\":{\"style\":\"light\"}}},\"xaxis\":{\"anchor\":\"y\",\"domain\":[0.0,1.0],\"scaleanchor\":\"y\",\"constrain\":\"domain\",\"title\":{\"text\":\"src\"}},\"yaxis\":{\"anchor\":\"x\",\"domain\":[0.0,1.0],\"autorange\":\"reversed\",\"constrain\":\"domain\",\"title\":{\"text\":\"dest\"}},\"coloraxis\":{\"colorscale\":[[0.0,\"rgb(103,0,31)\"],[0.1,\"rgb(178,24,43)\"],[0.2,\"rgb(214,96,77)\"],[0.3,\"rgb(244,165,130)\"],[0.4,\"rgb(253,219,199)\"],[0.5,\"rgb(247,247,247)\"],[0.6,\"rgb(209,229,240)\"],[0.7,\"rgb(146,197,222)\"],[0.8,\"rgb(67,147,195)\"],[0.9,\"rgb(33,102,172)\"],[1.0,\"rgb(5,48,97)\"]],\"cmid\":0.0},\"title\":{\"text\":\"Attn head 1.0 pattern (averged over batch)\"}},                        {\"responsive\": true}                    ).then(function(){\n",
              "                            \n",
              "var gd = document.getElementById('3ff5fef7-c630-43f0-a372-160fc720f5e8');\n",
              "var x = new MutationObserver(function (mutations, observer) {{\n",
              "        var display = window.getComputedStyle(gd).display;\n",
              "        if (!display || display === 'none') {{\n",
              "            console.log([gd, 'removed!']);\n",
              "            Plotly.purge(gd);\n",
              "            observer.disconnect();\n",
              "        }}\n",
              "}});\n",
              "\n",
              "// Listen for the removal of the full notebook cells\n",
              "var notebookContainer = gd.closest('#notebook-container');\n",
              "if (notebookContainer) {{\n",
              "    x.observe(notebookContainer, {childList: true});\n",
              "}}\n",
              "\n",
              "// Listen for the clearing of the current output cell\n",
              "var outputEl = gd.closest('.output');\n",
              "if (outputEl) {{\n",
              "    x.observe(outputEl, {childList: true});\n",
              "}}\n",
              "\n",
              "                        })                };                            </script>        </div>\n",
              "</body>\n",
              "</html>"
            ]
          },
          "metadata": {}
        }
      ]
    },
    {
      "cell_type": "markdown",
      "source": [
        "Interestingly, the prediction positions do not attend to the answer token and copy as I guessed. Instead they almost always seem to attend to the same fixed position. Notice that all 3 of the prediction positions attend to fixed perm positions.\n",
        "\n",
        "\n",
        "Why would the model do this? The token and positional embeddings at these source positions clearly don't contain information about the answer, so the information must have been moved to their residual stream by attn 0.0, and then moved again by 1.0! This is the first instance of attn head composition we've seen in these tutorials.\n",
        "\n",
        "\n",
        "If this hypothesis is correct, this would be an example of a \"V-composition\" (see https://transformer-circuits.pub/2021/framework/index.html#three-kinds-of-composition). We can also think of it as a single \"virtual attention head\" - effectively a single head where the prediction positions attend to the correct list token, and then copy (see https://transformer-circuits.pub/2021/framework/index.html#virtual-attention-heads)\n",
        "\n",
        "\n",
        "![picture](https://drive.google.com/uc?id=1orrWb0s7zTbkVShAl8MbMytq_8nHlc_Q)\n",
        "\n",
        "Taking a step back to summarize what we know at this point:\n",
        "* Head 1.0 has the largest direct effect on the logits (DLA)\n",
        "* The average of all 1.0 attn patterns showed the prediction positions (END, ans_0, ans_1) always attend to the permutation index positions (idx_0, idx_1, idx_2) respectively.\n",
        "\n",
        "Continuing to work backwards, we can check some attn patterns for 0.0. We expect to see that the permutation tokens attend to their corresponding list positions (perm token=i attends to pos=i+1)."
      ],
      "metadata": {
        "id": "EzLYHlsZHu5A"
      }
    },
    {
      "cell_type": "markdown",
      "source": [
        "## Stare at 0.0 patterns"
      ],
      "metadata": {
        "id": "irOzflV0KOGV"
      }
    },
    {
      "cell_type": "markdown",
      "source": [
        "Once again I'll just start with the avg across the batch dimension:"
      ],
      "metadata": {
        "id": "u9K6QGyfKVCm"
      }
    },
    {
      "cell_type": "code",
      "source": [
        "labels = tokens_to_plotly_labels(test_data)\n",
        "\n",
        "layer, head_index = 0, 0\n",
        "imshow(\n",
        "    cache['pattern', layer][:, head_index, :, :].mean(dim=0),\n",
        "    title=f\"Attn head {layer}.{head_index} patterns (avged over batch)\",\n",
        "    xaxis=\"src\", yaxis=\"dest\",\n",
        "    x=labels, y=labels\n",
        ")"
      ],
      "metadata": {
        "colab": {
          "base_uri": "https://localhost:8080/",
          "height": 542
        },
        "id": "vUO3SIEDKUIT",
        "outputId": "6e4f7b3e-edd4-4ad4-c6c6-d1d80833f353"
      },
      "execution_count": 25,
      "outputs": [
        {
          "output_type": "display_data",
          "data": {
            "text/html": [
              "<html>\n",
              "<head><meta charset=\"utf-8\" /></head>\n",
              "<body>\n",
              "    <div>            <script src=\"https://cdnjs.cloudflare.com/ajax/libs/mathjax/2.7.5/MathJax.js?config=TeX-AMS-MML_SVG\"></script><script type=\"text/javascript\">if (window.MathJax && window.MathJax.Hub && window.MathJax.Hub.Config) {window.MathJax.Hub.Config({SVG: {font: \"STIX-Web\"}});}</script>                <script type=\"text/javascript\">window.PlotlyConfig = {MathJaxConfig: 'local'};</script>\n",
              "        <script charset=\"utf-8\" src=\"https://cdn.plot.ly/plotly-2.24.1.min.js\"></script>                <div id=\"958e6cae-3786-40c8-b459-4734de29a20a\" class=\"plotly-graph-div\" style=\"height:525px; width:100%;\"></div>            <script type=\"text/javascript\">                                    window.PLOTLYENV=window.PLOTLYENV || {};                                    if (document.getElementById(\"958e6cae-3786-40c8-b459-4734de29a20a\")) {                    Plotly.newPlot(                        \"958e6cae-3786-40c8-b459-4734de29a20a\",                        [{\"coloraxis\":\"coloraxis\",\"name\":\"0\",\"x\":[\"BOS\",\"44_1\",\"39_2\",\"33_3\",\"MID\",\"0_5\",\"2_6\",\"1_7\",\"END\",\"44_9\",\"33_10\",\"39_11\"],\"y\":[\"BOS\",\"44_1\",\"39_2\",\"33_3\",\"MID\",\"0_5\",\"2_6\",\"1_7\",\"END\",\"44_9\",\"33_10\",\"39_11\"],\"z\":[[1.0,0.0,0.0,0.0,0.0,0.0,0.0,0.0,0.0,0.0,0.0,0.0],[0.38811397552490234,0.6118860244750977,0.0,0.0,0.0,0.0,0.0,0.0,0.0,0.0,0.0,0.0],[0.20283061265945435,0.20779293775558472,0.5893764495849609,0.0,0.0,0.0,0.0,0.0,0.0,0.0,0.0,0.0],[0.32591360807418823,0.1600131243467331,0.098740354180336,0.41533294320106506,0.0,0.0,0.0,0.0,0.0,0.0,0.0,0.0],[0.3034009039402008,0.23831963539123535,0.20094352960586548,0.12946295738220215,0.12787297368049622,0.0,0.0,0.0,0.0,0.0,0.0,0.0],[0.24772542715072632,0.23792539536952972,0.16139927506446838,0.2058039903640747,0.07547752559185028,0.07166838645935059,0.0,0.0,0.0,0.0,0.0,0.0],[0.08384235203266144,0.24507057666778564,0.3212374746799469,0.19651906192302704,0.08282977342605591,0.04487089812755585,0.025629883632063866,0.0,0.0,0.0,0.0,0.0],[0.05272933840751648,0.18775556981563568,0.20582380890846252,0.19821198284626007,0.16081121563911438,0.08921918272972107,0.06402009725570679,0.041428808122873306,0.0,0.0,0.0,0.0],[0.1713075041770935,0.05906113609671593,0.15288907289505005,0.06006437912583351,0.026612572371959686,0.01929880864918232,0.32879388332366943,0.1689642071723938,0.013008440844714642,0.0,0.0,0.0],[0.054585497826337814,0.12695057690143585,0.02881525829434395,0.006645023822784424,0.023091934621334076,0.22938114404678345,0.03794049471616745,0.41712623834609985,0.047451674938201904,0.028012165799736977,0.0,0.0],[0.044586677104234695,0.01603597402572632,0.01559999119490385,0.010754832997918129,0.023606061935424805,0.2546151876449585,0.2757166028022766,0.005116078536957502,0.02901257574558258,0.20252208411693573,0.12243393808603287,0.0],[0.07984024286270142,0.088609479367733,0.07326966524124146,0.08256211131811142,0.08697438985109329,0.09822237491607666,0.08429074287414551,0.0793384462594986,0.09444642066955566,0.07685986161231995,0.07929970324039459,0.07628655433654785]],\"type\":\"heatmap\",\"xaxis\":\"x\",\"yaxis\":\"y\",\"hovertemplate\":\"src: %{x}\\u003cbr\\u003edest: %{y}\\u003cbr\\u003ecolor: %{z}\\u003cextra\\u003e\\u003c\\u002fextra\\u003e\"}],                        {\"template\":{\"data\":{\"histogram2dcontour\":[{\"type\":\"histogram2dcontour\",\"colorbar\":{\"outlinewidth\":0,\"ticks\":\"\"},\"colorscale\":[[0.0,\"#0d0887\"],[0.1111111111111111,\"#46039f\"],[0.2222222222222222,\"#7201a8\"],[0.3333333333333333,\"#9c179e\"],[0.4444444444444444,\"#bd3786\"],[0.5555555555555556,\"#d8576b\"],[0.6666666666666666,\"#ed7953\"],[0.7777777777777778,\"#fb9f3a\"],[0.8888888888888888,\"#fdca26\"],[1.0,\"#f0f921\"]]}],\"choropleth\":[{\"type\":\"choropleth\",\"colorbar\":{\"outlinewidth\":0,\"ticks\":\"\"}}],\"histogram2d\":[{\"type\":\"histogram2d\",\"colorbar\":{\"outlinewidth\":0,\"ticks\":\"\"},\"colorscale\":[[0.0,\"#0d0887\"],[0.1111111111111111,\"#46039f\"],[0.2222222222222222,\"#7201a8\"],[0.3333333333333333,\"#9c179e\"],[0.4444444444444444,\"#bd3786\"],[0.5555555555555556,\"#d8576b\"],[0.6666666666666666,\"#ed7953\"],[0.7777777777777778,\"#fb9f3a\"],[0.8888888888888888,\"#fdca26\"],[1.0,\"#f0f921\"]]}],\"heatmap\":[{\"type\":\"heatmap\",\"colorbar\":{\"outlinewidth\":0,\"ticks\":\"\"},\"colorscale\":[[0.0,\"#0d0887\"],[0.1111111111111111,\"#46039f\"],[0.2222222222222222,\"#7201a8\"],[0.3333333333333333,\"#9c179e\"],[0.4444444444444444,\"#bd3786\"],[0.5555555555555556,\"#d8576b\"],[0.6666666666666666,\"#ed7953\"],[0.7777777777777778,\"#fb9f3a\"],[0.8888888888888888,\"#fdca26\"],[1.0,\"#f0f921\"]]}],\"heatmapgl\":[{\"type\":\"heatmapgl\",\"colorbar\":{\"outlinewidth\":0,\"ticks\":\"\"},\"colorscale\":[[0.0,\"#0d0887\"],[0.1111111111111111,\"#46039f\"],[0.2222222222222222,\"#7201a8\"],[0.3333333333333333,\"#9c179e\"],[0.4444444444444444,\"#bd3786\"],[0.5555555555555556,\"#d8576b\"],[0.6666666666666666,\"#ed7953\"],[0.7777777777777778,\"#fb9f3a\"],[0.8888888888888888,\"#fdca26\"],[1.0,\"#f0f921\"]]}],\"contourcarpet\":[{\"type\":\"contourcarpet\",\"colorbar\":{\"outlinewidth\":0,\"ticks\":\"\"}}],\"contour\":[{\"type\":\"contour\",\"colorbar\":{\"outlinewidth\":0,\"ticks\":\"\"},\"colorscale\":[[0.0,\"#0d0887\"],[0.1111111111111111,\"#46039f\"],[0.2222222222222222,\"#7201a8\"],[0.3333333333333333,\"#9c179e\"],[0.4444444444444444,\"#bd3786\"],[0.5555555555555556,\"#d8576b\"],[0.6666666666666666,\"#ed7953\"],[0.7777777777777778,\"#fb9f3a\"],[0.8888888888888888,\"#fdca26\"],[1.0,\"#f0f921\"]]}],\"surface\":[{\"type\":\"surface\",\"colorbar\":{\"outlinewidth\":0,\"ticks\":\"\"},\"colorscale\":[[0.0,\"#0d0887\"],[0.1111111111111111,\"#46039f\"],[0.2222222222222222,\"#7201a8\"],[0.3333333333333333,\"#9c179e\"],[0.4444444444444444,\"#bd3786\"],[0.5555555555555556,\"#d8576b\"],[0.6666666666666666,\"#ed7953\"],[0.7777777777777778,\"#fb9f3a\"],[0.8888888888888888,\"#fdca26\"],[1.0,\"#f0f921\"]]}],\"mesh3d\":[{\"type\":\"mesh3d\",\"colorbar\":{\"outlinewidth\":0,\"ticks\":\"\"}}],\"scatter\":[{\"fillpattern\":{\"fillmode\":\"overlay\",\"size\":10,\"solidity\":0.2},\"type\":\"scatter\"}],\"parcoords\":[{\"type\":\"parcoords\",\"line\":{\"colorbar\":{\"outlinewidth\":0,\"ticks\":\"\"}}}],\"scatterpolargl\":[{\"type\":\"scatterpolargl\",\"marker\":{\"colorbar\":{\"outlinewidth\":0,\"ticks\":\"\"}}}],\"bar\":[{\"error_x\":{\"color\":\"#2a3f5f\"},\"error_y\":{\"color\":\"#2a3f5f\"},\"marker\":{\"line\":{\"color\":\"#E5ECF6\",\"width\":0.5},\"pattern\":{\"fillmode\":\"overlay\",\"size\":10,\"solidity\":0.2}},\"type\":\"bar\"}],\"scattergeo\":[{\"type\":\"scattergeo\",\"marker\":{\"colorbar\":{\"outlinewidth\":0,\"ticks\":\"\"}}}],\"scatterpolar\":[{\"type\":\"scatterpolar\",\"marker\":{\"colorbar\":{\"outlinewidth\":0,\"ticks\":\"\"}}}],\"histogram\":[{\"marker\":{\"pattern\":{\"fillmode\":\"overlay\",\"size\":10,\"solidity\":0.2}},\"type\":\"histogram\"}],\"scattergl\":[{\"type\":\"scattergl\",\"marker\":{\"colorbar\":{\"outlinewidth\":0,\"ticks\":\"\"}}}],\"scatter3d\":[{\"type\":\"scatter3d\",\"line\":{\"colorbar\":{\"outlinewidth\":0,\"ticks\":\"\"}},\"marker\":{\"colorbar\":{\"outlinewidth\":0,\"ticks\":\"\"}}}],\"scattermapbox\":[{\"type\":\"scattermapbox\",\"marker\":{\"colorbar\":{\"outlinewidth\":0,\"ticks\":\"\"}}}],\"scatterternary\":[{\"type\":\"scatterternary\",\"marker\":{\"colorbar\":{\"outlinewidth\":0,\"ticks\":\"\"}}}],\"scattercarpet\":[{\"type\":\"scattercarpet\",\"marker\":{\"colorbar\":{\"outlinewidth\":0,\"ticks\":\"\"}}}],\"carpet\":[{\"aaxis\":{\"endlinecolor\":\"#2a3f5f\",\"gridcolor\":\"white\",\"linecolor\":\"white\",\"minorgridcolor\":\"white\",\"startlinecolor\":\"#2a3f5f\"},\"baxis\":{\"endlinecolor\":\"#2a3f5f\",\"gridcolor\":\"white\",\"linecolor\":\"white\",\"minorgridcolor\":\"white\",\"startlinecolor\":\"#2a3f5f\"},\"type\":\"carpet\"}],\"table\":[{\"cells\":{\"fill\":{\"color\":\"#EBF0F8\"},\"line\":{\"color\":\"white\"}},\"header\":{\"fill\":{\"color\":\"#C8D4E3\"},\"line\":{\"color\":\"white\"}},\"type\":\"table\"}],\"barpolar\":[{\"marker\":{\"line\":{\"color\":\"#E5ECF6\",\"width\":0.5},\"pattern\":{\"fillmode\":\"overlay\",\"size\":10,\"solidity\":0.2}},\"type\":\"barpolar\"}],\"pie\":[{\"automargin\":true,\"type\":\"pie\"}]},\"layout\":{\"autotypenumbers\":\"strict\",\"colorway\":[\"#636efa\",\"#EF553B\",\"#00cc96\",\"#ab63fa\",\"#FFA15A\",\"#19d3f3\",\"#FF6692\",\"#B6E880\",\"#FF97FF\",\"#FECB52\"],\"font\":{\"color\":\"#2a3f5f\"},\"hovermode\":\"closest\",\"hoverlabel\":{\"align\":\"left\"},\"paper_bgcolor\":\"white\",\"plot_bgcolor\":\"#E5ECF6\",\"polar\":{\"bgcolor\":\"#E5ECF6\",\"angularaxis\":{\"gridcolor\":\"white\",\"linecolor\":\"white\",\"ticks\":\"\"},\"radialaxis\":{\"gridcolor\":\"white\",\"linecolor\":\"white\",\"ticks\":\"\"}},\"ternary\":{\"bgcolor\":\"#E5ECF6\",\"aaxis\":{\"gridcolor\":\"white\",\"linecolor\":\"white\",\"ticks\":\"\"},\"baxis\":{\"gridcolor\":\"white\",\"linecolor\":\"white\",\"ticks\":\"\"},\"caxis\":{\"gridcolor\":\"white\",\"linecolor\":\"white\",\"ticks\":\"\"}},\"coloraxis\":{\"colorbar\":{\"outlinewidth\":0,\"ticks\":\"\"}},\"colorscale\":{\"sequential\":[[0.0,\"#0d0887\"],[0.1111111111111111,\"#46039f\"],[0.2222222222222222,\"#7201a8\"],[0.3333333333333333,\"#9c179e\"],[0.4444444444444444,\"#bd3786\"],[0.5555555555555556,\"#d8576b\"],[0.6666666666666666,\"#ed7953\"],[0.7777777777777778,\"#fb9f3a\"],[0.8888888888888888,\"#fdca26\"],[1.0,\"#f0f921\"]],\"sequentialminus\":[[0.0,\"#0d0887\"],[0.1111111111111111,\"#46039f\"],[0.2222222222222222,\"#7201a8\"],[0.3333333333333333,\"#9c179e\"],[0.4444444444444444,\"#bd3786\"],[0.5555555555555556,\"#d8576b\"],[0.6666666666666666,\"#ed7953\"],[0.7777777777777778,\"#fb9f3a\"],[0.8888888888888888,\"#fdca26\"],[1.0,\"#f0f921\"]],\"diverging\":[[0,\"#8e0152\"],[0.1,\"#c51b7d\"],[0.2,\"#de77ae\"],[0.3,\"#f1b6da\"],[0.4,\"#fde0ef\"],[0.5,\"#f7f7f7\"],[0.6,\"#e6f5d0\"],[0.7,\"#b8e186\"],[0.8,\"#7fbc41\"],[0.9,\"#4d9221\"],[1,\"#276419\"]]},\"xaxis\":{\"gridcolor\":\"white\",\"linecolor\":\"white\",\"ticks\":\"\",\"title\":{\"standoff\":15},\"zerolinecolor\":\"white\",\"automargin\":true,\"zerolinewidth\":2},\"yaxis\":{\"gridcolor\":\"white\",\"linecolor\":\"white\",\"ticks\":\"\",\"title\":{\"standoff\":15},\"zerolinecolor\":\"white\",\"automargin\":true,\"zerolinewidth\":2},\"scene\":{\"xaxis\":{\"backgroundcolor\":\"#E5ECF6\",\"gridcolor\":\"white\",\"linecolor\":\"white\",\"showbackground\":true,\"ticks\":\"\",\"zerolinecolor\":\"white\",\"gridwidth\":2},\"yaxis\":{\"backgroundcolor\":\"#E5ECF6\",\"gridcolor\":\"white\",\"linecolor\":\"white\",\"showbackground\":true,\"ticks\":\"\",\"zerolinecolor\":\"white\",\"gridwidth\":2},\"zaxis\":{\"backgroundcolor\":\"#E5ECF6\",\"gridcolor\":\"white\",\"linecolor\":\"white\",\"showbackground\":true,\"ticks\":\"\",\"zerolinecolor\":\"white\",\"gridwidth\":2}},\"shapedefaults\":{\"line\":{\"color\":\"#2a3f5f\"}},\"annotationdefaults\":{\"arrowcolor\":\"#2a3f5f\",\"arrowhead\":0,\"arrowwidth\":1},\"geo\":{\"bgcolor\":\"white\",\"landcolor\":\"#E5ECF6\",\"subunitcolor\":\"white\",\"showland\":true,\"showlakes\":true,\"lakecolor\":\"white\"},\"title\":{\"x\":0.05},\"mapbox\":{\"style\":\"light\"}}},\"xaxis\":{\"anchor\":\"y\",\"domain\":[0.0,1.0],\"scaleanchor\":\"y\",\"constrain\":\"domain\",\"title\":{\"text\":\"src\"}},\"yaxis\":{\"anchor\":\"x\",\"domain\":[0.0,1.0],\"autorange\":\"reversed\",\"constrain\":\"domain\",\"title\":{\"text\":\"dest\"}},\"coloraxis\":{\"colorscale\":[[0.0,\"rgb(103,0,31)\"],[0.1,\"rgb(178,24,43)\"],[0.2,\"rgb(214,96,77)\"],[0.3,\"rgb(244,165,130)\"],[0.4,\"rgb(253,219,199)\"],[0.5,\"rgb(247,247,247)\"],[0.6,\"rgb(209,229,240)\"],[0.7,\"rgb(146,197,222)\"],[0.8,\"rgb(67,147,195)\"],[0.9,\"rgb(33,102,172)\"],[1.0,\"rgb(5,48,97)\"]],\"cmid\":0.0},\"title\":{\"text\":\"Attn head 0.0 patterns (avged over batch)\"}},                        {\"responsive\": true}                    ).then(function(){\n",
              "                            \n",
              "var gd = document.getElementById('958e6cae-3786-40c8-b459-4734de29a20a');\n",
              "var x = new MutationObserver(function (mutations, observer) {{\n",
              "        var display = window.getComputedStyle(gd).display;\n",
              "        if (!display || display === 'none') {{\n",
              "            console.log([gd, 'removed!']);\n",
              "            Plotly.purge(gd);\n",
              "            observer.disconnect();\n",
              "        }}\n",
              "}});\n",
              "\n",
              "// Listen for the removal of the full notebook cells\n",
              "var notebookContainer = gd.closest('#notebook-container');\n",
              "if (notebookContainer) {{\n",
              "    x.observe(notebookContainer, {childList: true});\n",
              "}}\n",
              "\n",
              "// Listen for the clearing of the current output cell\n",
              "var outputEl = gd.closest('.output');\n",
              "if (outputEl) {{\n",
              "    x.observe(outputEl, {childList: true});\n",
              "}}\n",
              "\n",
              "                        })                };                            </script>        </div>\n",
              "</body>\n",
              "</html>"
            ]
          },
          "metadata": {}
        }
      ]
    },
    {
      "cell_type": "markdown",
      "source": [
        "We see that the permutation tokens mostly attend to the list positions, although this isn't very surprising. Let's zoom in on some concrete examples:"
      ],
      "metadata": {
        "id": "GyODx6w9X0QE"
      }
    },
    {
      "cell_type": "code",
      "source": [
        "all_labels = [tokens_to_plotly_labels(d, incl_pos=False) for d in test_data]\n",
        "cv.attention.from_cache(\n",
        "    cache,\n",
        "    tokens=all_labels,\n",
        "    batch_idx=list(range(10)),\n",
        "    heads=[(0, 0),]\n",
        ")"
      ],
      "metadata": {
        "colab": {
          "base_uri": "https://localhost:8080/",
          "height": 376
        },
        "id": "ikmJBysoxvHl",
        "outputId": "67e60177-c8b2-445b-c45d-324ac8add1c1"
      },
      "execution_count": 26,
      "outputs": [
        {
          "output_type": "execute_result",
          "data": {
            "text/plain": [
              "<IPython.core.display.HTML object>"
            ],
            "text/html": [
              "<!DOCTYPE html>\n",
              "<html>\n",
              "<head>\n",
              "    <title>HTML Dropdown</title>\n",
              "</head>\n",
              "<body>\n",
              "\n",
              "    <form>\n",
              "        <label>Choose a sequence:</label>\n",
              "        <select id=\"tokens\" onchange=\"changeTokens(this.value)\">\n",
              "        <option id=\"set1\" value=\"set1\">BOS443933MID021END443339</option>\n",
              "        <option id=\"set2\" value=\"set2\">BOS101329MID021END102913</option>\n",
              "        <option id=\"set3\" value=\"set3\">BOS27347MID021END27473</option>\n",
              "        <option id=\"set4\" value=\"set4\">BOS33116MID021END33161</option>\n",
              "        <option id=\"set5\" value=\"set5\">BOS453924MID120END392445</option>\n",
              "        <option id=\"set6\" value=\"set6\">BOS181313MID120END131318</option>\n",
              "        <option id=\"set7\" value=\"set7\">BOS41419MID120END41941</option>\n",
              "        <option id=\"set8\" value=\"set8\">BOS324849MID120END484932</option>\n",
              "        <option id=\"set9\" value=\"set9\">BOS48371MID201END14837</option>\n",
              "        <option id=\"set10\" value=\"set10\">BOS44829MID201END29448</option>\n",
              "        </select>\n",
              "    </form>\n",
              "\n",
              "    <div id=\"circuits-vis-cd18fc9f-5866\" style=\"margin: 15px 0;\"></div>\n",
              "    \n",
              "    <script crossorigin type=\"module\">\n",
              "        import { render, AttentionPatterns } from \"https://unpkg.com/circuitsvis@1.41.0/dist/cdn/esm.js\";\n",
              "        \n",
              "        let tokens = {\n",
              "            \"set1\": ['BOS', '44', '39', '33', 'MID', '0', '2', '1', 'END', '44', '33', '39'],\n",
              "            \"set2\": ['BOS', '10', '13', '29', 'MID', '0', '2', '1', 'END', '10', '29', '13'],\n",
              "            \"set3\": ['BOS', '27', '3', '47', 'MID', '0', '2', '1', 'END', '27', '47', '3'],\n",
              "            \"set4\": ['BOS', '33', '1', '16', 'MID', '0', '2', '1', 'END', '33', '16', '1'],\n",
              "            \"set5\": ['BOS', '45', '39', '24', 'MID', '1', '2', '0', 'END', '39', '24', '45'],\n",
              "            \"set6\": ['BOS', '18', '13', '13', 'MID', '1', '2', '0', 'END', '13', '13', '18'],\n",
              "            \"set7\": ['BOS', '41', '41', '9', 'MID', '1', '2', '0', 'END', '41', '9', '41'],\n",
              "            \"set8\": ['BOS', '32', '48', '49', 'MID', '1', '2', '0', 'END', '48', '49', '32'],\n",
              "            \"set9\": ['BOS', '48', '37', '1', 'MID', '2', '0', '1', 'END', '1', '48', '37'],\n",
              "            \"set10\": ['BOS', '44', '8', '29', 'MID', '2', '0', '1', 'END', '29', '44', '8'],\n",
              "        };\n",
              "        let attention = {\n",
              "            \"set1\": [[[1.0, 0.0, 0.0, 0.0, 0.0, 0.0, 0.0, 0.0, 0.0, 0.0, 0.0, 0.0], [0.3874349892139435, 0.6125649809837341, 0.0, 0.0, 0.0, 0.0, 0.0, 0.0, 0.0, 0.0, 0.0, 0.0], [0.19121277332305908, 0.1923532336950302, 0.6164339780807495, 0.0, 0.0, 0.0, 0.0, 0.0, 0.0, 0.0, 0.0, 0.0], [0.3219377100467682, 0.1394978165626526, 0.08788096904754639, 0.45068350434303284, 0.0, 0.0, 0.0, 0.0, 0.0, 0.0, 0.0, 0.0], [0.30062204599380493, 0.231307253241539, 0.2263031303882599, 0.1150657907128334, 0.12670178711414337, 0.0, 0.0, 0.0, 0.0, 0.0, 0.0, 0.0], [0.20255985856056213, 0.4689340889453888, 0.13010092079639435, 0.05706562474370003, 0.05847929045557976, 0.08286025375127792, 0.0, 0.0, 0.0, 0.0, 0.0, 0.0], [0.13568322360515594, 0.08854576200246811, 0.06205608695745468, 0.5451386570930481, 0.11492229253053665, 0.02625003270804882, 0.02740396000444889, 0.0, 0.0, 0.0, 0.0, 0.0], [0.03924103453755379, 0.09010712802410126, 0.44018009305000305, 0.08360714465379715, 0.15963639318943024, 0.08009019494056702, 0.07444974780082703, 0.0326882041990757, 0.0, 0.0, 0.0, 0.0], [0.17535793781280518, 0.05346951261162758, 0.2496277242898941, 0.04972727969288826, 0.02724180929362774, 0.025803104043006897, 0.2302674651145935, 0.17518912255764008, 0.013316016644239426, 0.0, 0.0, 0.0], [0.05926588922739029, 0.12812644243240356, 0.02477053366601467, 0.005696284584701061, 0.02654515765607357, 0.22877179086208344, 0.04913562908768654, 0.39119723439216614, 0.055301032960414886, 0.031190024688839912, 0.0, 0.0], [0.046427834779024124, 0.014428715221583843, 0.018864020705223083, 0.010048135183751583, 0.0227925106883049, 0.2540588676929474, 0.28145304322242737, 0.004753651097416878, 0.0288254227489233, 0.1970052570104599, 0.12134253233671188, 0.0], [0.07975522428750992, 0.07921360433101654, 0.0765736922621727, 0.058405548334121704, 0.07992631942033768, 0.12697064876556396, 0.09551967680454254, 0.07804814726114273, 0.08265998214483261, 0.07953688502311707, 0.08590798825025558, 0.07748231291770935]]],\n",
              "            \"set2\": [[[1.0, 0.0, 0.0, 0.0, 0.0, 0.0, 0.0, 0.0, 0.0, 0.0, 0.0, 0.0], [0.43705880641937256, 0.5629411935806274, 0.0, 0.0, 0.0, 0.0, 0.0, 0.0, 0.0, 0.0, 0.0, 0.0], [0.21398648619651794, 0.1996738463640213, 0.5863396525382996, 0.0, 0.0, 0.0, 0.0, 0.0, 0.0, 0.0, 0.0, 0.0], [0.3146105110645294, 0.1681513637304306, 0.11092019081115723, 0.40631794929504395, 0.0, 0.0, 0.0, 0.0, 0.0, 0.0, 0.0, 0.0], [0.2983156144618988, 0.24480395019054413, 0.1962495744228363, 0.13490118086338043, 0.12572969496250153, 0.0, 0.0, 0.0, 0.0, 0.0, 0.0, 0.0], [0.18024243414402008, 0.5482994914054871, 0.08257696032524109, 0.06311387568712234, 0.052036236971616745, 0.07373097538948059, 0.0, 0.0, 0.0, 0.0, 0.0, 0.0], [0.13900616765022278, 0.08737020194530487, 0.07129574567079544, 0.5296230316162109, 0.11773679405450821, 0.026892906054854393, 0.028075091540813446, 0.0, 0.0, 0.0, 0.0, 0.0], [0.03821592032909393, 0.0754908099770546, 0.4804410934448242, 0.06804902106523514, 0.15546610951423645, 0.07799796760082245, 0.07250486314296722, 0.031834281980991364, 0.0, 0.0, 0.0, 0.0], [0.18382160365581512, 0.07821585237979889, 0.17150187492370605, 0.07187085598707199, 0.028556637465953827, 0.027048492804169655, 0.24138134717941284, 0.18364465236663818, 0.013958713971078396, 0.0, 0.0, 0.0], [0.05824185162782669, 0.11147313565015793, 0.02157849445939064, 0.006775992456823587, 0.023302245885133743, 0.25339701771736145, 0.044711533933877945, 0.39817771315574646, 0.05052802711725235, 0.031814005225896835, 0.0, 0.0], [0.03942613676190376, 0.019702903926372528, 0.01739107258617878, 0.008093129843473434, 0.019728560000658035, 0.2210959792137146, 0.28502029180526733, 0.004835051018744707, 0.022196585312485695, 0.2392471879720688, 0.12326306104660034, 0.0], [0.08488748967647552, 0.08484166115522385, 0.0647687092423439, 0.08089075982570648, 0.08473247289657593, 0.10019069164991379, 0.08331520855426788, 0.0795917958021164, 0.10137905925512314, 0.077059805393219, 0.08189652860164642, 0.07644578814506531]]],\n",
              "            \"set3\": [[[1.0, 0.0, 0.0, 0.0, 0.0, 0.0, 0.0, 0.0, 0.0, 0.0, 0.0, 0.0], [0.3753533363342285, 0.6246466636657715, 0.0, 0.0, 0.0, 0.0, 0.0, 0.0, 0.0, 0.0, 0.0, 0.0], [0.1970035284757614, 0.17374685406684875, 0.6292496919631958, 0.0, 0.0, 0.0, 0.0, 0.0, 0.0, 0.0, 0.0, 0.0], [0.3865519165992737, 0.11630425602197647, 0.0848027691245079, 0.41234108805656433, 0.0, 0.0, 0.0, 0.0, 0.0, 0.0, 0.0, 0.0], [0.30454307794570923, 0.24561531841754913, 0.19228950142860413, 0.12919776141643524, 0.12835435569286346, 0.0, 0.0, 0.0, 0.0, 0.0, 0.0, 0.0], [0.1883353888988495, 0.5125069618225098, 0.0965580940246582, 0.07118532061576843, 0.054372675716876984, 0.07704152166843414, 0.0, 0.0, 0.0, 0.0, 0.0, 0.0], [0.138451486825943, 0.07299157977104187, 0.07496341317892075, 0.5415778160095215, 0.11726699769496918, 0.0267855953425169, 0.0279630646109581, 0.0, 0.0, 0.0, 0.0, 0.0], [0.038844358175992966, 0.0833997130393982, 0.45968109369277954, 0.07471674680709839, 0.15802264213562012, 0.07928059250116348, 0.07369715720415115, 0.03235776722431183, 0.0, 0.0, 0.0, 0.0], [0.1921929270029068, 0.06559158861637115, 0.15498287975788116, 0.07011888176202774, 0.029857119545340538, 0.028280293568968773, 0.25237396359443665, 0.192007914185524, 0.01459440030157566, 0.0, 0.0, 0.0], [0.051228106021881104, 0.14339540898799896, 0.027264131233096123, 0.005191079340875149, 0.02271866425871849, 0.20849238336086273, 0.03946002945303917, 0.42633679509162903, 0.04584434628486633, 0.03006911650300026, 0.0, 0.0], [0.04438811540603638, 0.011618469841778278, 0.0101196663454175, 0.008435999043285847, 0.01992705836892128, 0.3056038022041321, 0.2535244822502136, 0.003534272313117981, 0.0278346985578537, 0.1980341374874115, 0.11697929352521896, 0.0], [0.08310329914093018, 0.07825186848640442, 0.07607249915599823, 0.08603575080633163, 0.08966406434774399, 0.09867776930332184, 0.08081866055727005, 0.07601160556077957, 0.09652607142925262, 0.075116366147995, 0.07863570004701614, 0.08108639717102051]]],\n",
              "            \"set4\": [[[1.0, 0.0, 0.0, 0.0, 0.0, 0.0, 0.0, 0.0, 0.0, 0.0, 0.0, 0.0], [0.3592427968978882, 0.6407572627067566, 0.0, 0.0, 0.0, 0.0, 0.0, 0.0, 0.0, 0.0, 0.0, 0.0], [0.07289744913578033, 0.07247408479452133, 0.8546284437179565, 0.0, 0.0, 0.0, 0.0, 0.0, 0.0, 0.0, 0.0, 0.0], [0.31263449788093567, 0.18768778443336487, 0.11836222559213638, 0.3813154697418213, 0.0, 0.0, 0.0, 0.0, 0.0, 0.0, 0.0, 0.0], [0.3032640516757965, 0.2133803814649582, 0.22010475397109985, 0.1354355812072754, 0.12781529128551483, 0.0, 0.0, 0.0, 0.0, 0.0, 0.0, 0.0], [0.20725677907466888, 0.4655951261520386, 0.10309049487113953, 0.0794406533241272, 0.05983530357480049, 0.08478160202503204, 0.0, 0.0, 0.0, 0.0, 0.0, 0.0], [0.1308915615081787, 0.08896701782941818, 0.07166634500026703, 0.5458520650863647, 0.1108638122677803, 0.025323009118437767, 0.026436183601617813, 0.0, 0.0, 0.0, 0.0, 0.0], [0.040527112782001495, 0.08541010320186615, 0.4447750747203827, 0.07105503231287003, 0.1648682951927185, 0.08271507173776627, 0.0768897607922554, 0.033759523183107376, 0.0, 0.0, 0.0, 0.0], [0.1932060569524765, 0.053680337965488434, 0.16182838380336761, 0.07144559174776077, 0.030014509335160255, 0.028429372236132622, 0.25370433926582336, 0.1930200755596161, 0.014671334065496922, 0.0, 0.0, 0.0], [0.05717044696211815, 0.09256568551063538, 0.041590314358472824, 0.007913465611636639, 0.02267342060804367, 0.20087453722953796, 0.03844461962580681, 0.4694707691669464, 0.047332797199487686, 0.02196391671895981, 0.0, 0.0], [0.03758147731423378, 0.015092330053448677, 0.010433190502226353, 0.006582873407751322, 0.021367385983467102, 0.2949219346046448, 0.3014298975467682, 0.004096730146557093, 0.025944804772734642, 0.1750621497631073, 0.10748721659183502, 0.0], [0.059600457549095154, 0.058840155601501465, 0.23434756696224213, 0.055696431547403336, 0.09380641579627991, 0.10085203498601913, 0.09154771268367767, 0.042947378009557724, 0.053832195699214935, 0.06423152983188629, 0.06917218118906021, 0.07512591034173965]]],\n",
              "            \"set5\": [[[1.0, 0.0, 0.0, 0.0, 0.0, 0.0, 0.0, 0.0, 0.0, 0.0, 0.0, 0.0], [0.41319698095321655, 0.5868030786514282, 0.0, 0.0, 0.0, 0.0, 0.0, 0.0, 0.0, 0.0, 0.0, 0.0], [0.19310525059700012, 0.18435972929000854, 0.622534990310669, 0.0, 0.0, 0.0, 0.0, 0.0, 0.0, 0.0, 0.0, 0.0], [0.35879242420196533, 0.1679665744304657, 0.09539850056171417, 0.377842515707016, 0.0, 0.0, 0.0, 0.0, 0.0, 0.0, 0.0, 0.0], [0.29607391357421875, 0.23454512655735016, 0.22287937998771667, 0.12171667814254761, 0.12478490173816681, 0.0, 0.0, 0.0, 0.0, 0.0, 0.0, 0.0], [0.14086487889289856, 0.08481274545192719, 0.5688775777816772, 0.05566062405705452, 0.06036299467086792, 0.08942116051912308, 0.0, 0.0, 0.0, 0.0, 0.0, 0.0], [0.14349600672721863, 0.07780232280492783, 0.06562934070825577, 0.5304065942764282, 0.1215396374464035, 0.03214415907859802, 0.028981899842619896, 0.0, 0.0, 0.0, 0.0, 0.0], [0.04401763901114464, 0.4322459399700165, 0.07852856069803238, 0.07691556960344315, 0.12064205855131149, 0.09604442119598389, 0.08763555437326431, 0.06397025287151337, 0.0, 0.0, 0.0, 0.0], [0.1667260229587555, 0.05653977766633034, 0.23733989894390106, 0.053859859704971313, 0.025900842621922493, 0.01960482820868492, 0.218932643532753, 0.20843558013439178, 0.012660541571676731, 0.0, 0.0, 0.0], [0.051633723080158234, 0.11674855649471283, 0.0269452016800642, 0.004110060632228851, 0.019792864099144936, 0.2698381841182709, 0.0423787422478199, 0.4019663333892822, 0.03896211460232735, 0.027624182403087616, 0.0, 0.0], [0.035145148634910583, 0.014059476554393768, 0.01390901766717434, 0.00655503012239933, 0.01701946184039116, 0.23373210430145264, 0.29912900924682617, 0.0034270300529897213, 0.022095100954174995, 0.24149982631206512, 0.11342884600162506, 0.0], [0.07678339630365372, 0.07914938032627106, 0.07865189015865326, 0.09661977738142014, 0.09451968967914581, 0.09070079773664474, 0.08752892911434174, 0.06254857778549194, 0.09582830220460892, 0.07889322936534882, 0.08083652704954147, 0.07793945074081421]]],\n",
              "            \"set6\": [[[1.0, 0.0, 0.0, 0.0, 0.0, 0.0, 0.0, 0.0, 0.0, 0.0, 0.0, 0.0], [0.39213845133781433, 0.6078615784645081, 0.0, 0.0, 0.0, 0.0, 0.0, 0.0, 0.0, 0.0, 0.0, 0.0], [0.20987413823604584, 0.21505437791347504, 0.5750715136528015, 0.0, 0.0, 0.0, 0.0, 0.0, 0.0, 0.0, 0.0, 0.0], [0.34783655405044556, 0.1614549458026886, 0.08518374711275101, 0.40552470088005066, 0.0, 0.0, 0.0, 0.0, 0.0, 0.0, 0.0, 0.0], [0.311652272939682, 0.2201080173254013, 0.20502322912216187, 0.13186581432819366, 0.13135063648223877, 0.0, 0.0, 0.0, 0.0, 0.0, 0.0, 0.0], [0.15946224331855774, 0.0852452740073204, 0.522483229637146, 0.06325014680624008, 0.06833228468894958, 0.1012267917394638, 0.0, 0.0, 0.0, 0.0, 0.0, 0.0], [0.13829292356967926, 0.10476737469434738, 0.07092992961406708, 0.5099673867225647, 0.11713268607854843, 0.030978629365563393, 0.02793104015290737, 0.0, 0.0, 0.0, 0.0, 0.0], [0.0468648336827755, 0.39889004826545715, 0.08238159865140915, 0.07974892854690552, 0.1284455507993698, 0.10225686430931091, 0.0933040902018547, 0.06810803711414337, 0.0, 0.0, 0.0, 0.0], [0.1811423897743225, 0.05629060044884682, 0.1690022200345993, 0.06604742258787155, 0.028140421956777573, 0.02130000852048397, 0.2378631979227066, 0.22645847499370575, 0.013755264692008495, 0.0, 0.0, 0.0], [0.06013686582446098, 0.10741817951202393, 0.02364368736743927, 0.005528061650693417, 0.02296104095876217, 0.2633710205554962, 0.04044848307967186, 0.3968263864517212, 0.05228995904326439, 0.027376286685466766, 0.0, 0.0], [0.046281661838293076, 0.012872127816081047, 0.014180619269609451, 0.010010340251028538, 0.021873993799090385, 0.23939073085784912, 0.2806299030780792, 0.005021247547119856, 0.030178174376487732, 0.20797428488731384, 0.13158689439296722, 0.0], [0.08423309773206711, 0.07692048698663712, 0.06424025446176529, 0.077117919921875, 0.07998625934123993, 0.10649119317531586, 0.08841490745544434, 0.0744239091873169, 0.09143808484077454, 0.09187114983797073, 0.08854052424430847, 0.07632220536470413]]],\n",
              "            \"set7\": [[[1.0, 0.0, 0.0, 0.0, 0.0, 0.0, 0.0, 0.0, 0.0, 0.0, 0.0, 0.0], [0.42621657252311707, 0.5737833976745605, 0.0, 0.0, 0.0, 0.0, 0.0, 0.0, 0.0, 0.0, 0.0, 0.0], [0.22325214743614197, 0.20233581960201263, 0.5744120478630066, 0.0, 0.0, 0.0, 0.0, 0.0, 0.0, 0.0, 0.0, 0.0], [0.27223488688468933, 0.13240966200828552, 0.10057112574577332, 0.49478432536125183, 0.0, 0.0, 0.0, 0.0, 0.0, 0.0, 0.0, 0.0], [0.3041515350341797, 0.23561348021030426, 0.1992795765399933, 0.13276606798171997, 0.1281893402338028, 0.0, 0.0, 0.0, 0.0, 0.0, 0.0, 0.0], [0.16346661746501923, 0.0975831151008606, 0.5039486289024353, 0.06118467450141907, 0.07004822790622711, 0.10376875102519989, 0.0, 0.0, 0.0, 0.0, 0.0, 0.0], [0.13763748109340668, 0.08095374703407288, 0.06655602902173996, 0.539644718170166, 0.11657754331827164, 0.030831804499030113, 0.02779865637421608, 0.0, 0.0, 0.0, 0.0, 0.0], [0.047896236181259155, 0.39399951696395874, 0.08253936469554901, 0.07482071220874786, 0.13127237558364868, 0.10450733453035355, 0.09535752981901169, 0.0696069598197937, 0.0, 0.0, 0.0, 0.0], [0.1796952784061432, 0.06523921340703964, 0.1703806072473526, 0.061381746083498, 0.02791561186313629, 0.021129844710230827, 0.23596294224262238, 0.2246493250131607, 0.013645376078784466, 0.0, 0.0, 0.0], [0.05588214099407196, 0.10602200031280518, 0.02165776863694191, 0.004788321442902088, 0.018277999013662338, 0.2855004370212555, 0.04308450594544411, 0.39456871151924133, 0.04063776135444641, 0.02958037704229355, 0.0, 0.0], [0.04857727512717247, 0.021242327988147736, 0.025147009640932083, 0.014369255863130093, 0.02804037556052208, 0.18136891722679138, 0.26618096232414246, 0.006136653013527393, 0.030772972851991653, 0.25015875697135925, 0.1280055046081543, 0.0], [0.08415529876947403, 0.08303768932819366, 0.06347218155860901, 0.06087295711040497, 0.07196022570133209, 0.12110958248376846, 0.0946778729557991, 0.08077727258205414, 0.08405531942844391, 0.08653692901134491, 0.0917859673500061, 0.07755878567695618]]],\n",
              "            \"set8\": [[[1.0, 0.0, 0.0, 0.0, 0.0, 0.0, 0.0, 0.0, 0.0, 0.0, 0.0, 0.0], [0.38039958477020264, 0.6196004152297974, 0.0, 0.0, 0.0, 0.0, 0.0, 0.0, 0.0, 0.0, 0.0, 0.0], [0.2458362728357315, 0.19181054830551147, 0.5623531341552734, 0.0, 0.0, 0.0, 0.0, 0.0, 0.0, 0.0, 0.0, 0.0], [0.35205090045928955, 0.1378192901611328, 0.08223804086446762, 0.42789170145988464, 0.0, 0.0, 0.0, 0.0, 0.0, 0.0, 0.0, 0.0], [0.3023498058319092, 0.24870887398719788, 0.18891824781894684, 0.13259311020374298, 0.12742996215820312, 0.0, 0.0, 0.0, 0.0, 0.0, 0.0, 0.0], [0.1675400584936142, 0.11238652467727661, 0.47078409790992737, 0.07114103436470032, 0.07179377973079681, 0.10635458678007126, 0.0, 0.0, 0.0, 0.0, 0.0, 0.0], [0.13937823474407196, 0.08873637020587921, 0.07263685762882233, 0.5218246579170227, 0.1180519387125969, 0.031221749261021614, 0.02815023437142372, 0.0, 0.0, 0.0, 0.0, 0.0], [0.04719352722167969, 0.3881196975708008, 0.09498810768127441, 0.07483398169279099, 0.12934640049934387, 0.1029740422964096, 0.09395848214626312, 0.06858571618795395, 0.0, 0.0, 0.0, 0.0], [0.1859997659921646, 0.07550154626369476, 0.11954780668020248, 0.07728797197341919, 0.02889501489698887, 0.02187117375433445, 0.24424155056476593, 0.23253101110458374, 0.01412411592900753, 0.0, 0.0, 0.0], [0.06430182605981827, 0.11498555541038513, 0.02446884661912918, 0.0069217984564602375, 0.022595668211579323, 0.2583899199962616, 0.044749535620212555, 0.3760984539985657, 0.04968651011586189, 0.0378018282353878, 0.0, 0.0], [0.04765861853957176, 0.015246923081576824, 0.012006034143269062, 0.010386831127107143, 0.022351734340190887, 0.24731561541557312, 0.29043129086494446, 0.004854206927120686, 0.0302138514816761, 0.18746475875377655, 0.1320701241493225, 0.0], [0.07953965663909912, 0.09243310987949371, 0.07100408524274826, 0.0775425061583519, 0.08369491994380951, 0.09740547835826874, 0.08825039118528366, 0.08053751289844513, 0.09060956537723541, 0.07900546491146088, 0.08036387711763382, 0.07961347699165344]]],\n",
              "            \"set9\": [[[1.0, 0.0, 0.0, 0.0, 0.0, 0.0, 0.0, 0.0, 0.0, 0.0, 0.0, 0.0], [0.44357597827911377, 0.556424081325531, 0.0, 0.0, 0.0, 0.0, 0.0, 0.0, 0.0, 0.0, 0.0, 0.0], [0.1398569941520691, 0.19953814148902893, 0.6606048941612244, 0.0, 0.0, 0.0, 0.0, 0.0, 0.0, 0.0, 0.0, 0.0], [0.2295212745666504, 0.09502457827329636, 0.35347387194633484, 0.3219803273677826, 0.0, 0.0, 0.0, 0.0, 0.0, 0.0, 0.0, 0.0], [0.3036717474460602, 0.22433961927890778, 0.20224523544311523, 0.14175622165203094, 0.12798713147640228, 0.0, 0.0, 0.0, 0.0, 0.0, 0.0, 0.0], [0.36366644501686096, 0.06301330029964447, 0.05705413594841957, 0.35531699657440186, 0.10348042100667953, 0.05746874958276749, 0.0, 0.0, 0.0, 0.0, 0.0, 0.0], [0.06833804398775101, 0.6000847816467285, 0.10420995205640793, 0.09670510143041611, 0.058726537972688675, 0.051177915185689926, 0.020757712423801422, 0.0, 0.0, 0.0, 0.0, 0.0], [0.0345580130815506, 0.07526525110006332, 0.5030295848846436, 0.06294400244951248, 0.14058542251586914, 0.11441094428300858, 0.040419578552246094, 0.02878720499575138, 0.0, 0.0, 0.0, 0.0], [0.15840288996696472, 0.038983505219221115, 0.15089620649814606, 0.051851388067007065, 0.024607844650745392, 0.01234795618802309, 0.3926313519477844, 0.15825042128562927, 0.01202851627022028, 0.0, 0.0, 0.0], [0.04568810760974884, 0.10493093729019165, 0.11499246209859848, 0.007003287319093943, 0.02750619873404503, 0.33321115374565125, 0.036546435207128525, 0.26249703764915466, 0.03004474751651287, 0.037579622119665146, 0.0, 0.0], [0.047969184815883636, 0.010894058272242546, 0.010294981300830841, 0.00717880018055439, 0.020865680649876595, 0.2369636595249176, 0.35189881920814514, 0.003790187882259488, 0.02779611013829708, 0.1642460972070694, 0.11810242384672165, 0.0], [0.0696909949183464, 0.10441461205482483, 0.08302173763513565, 0.11078425496816635, 0.11119875311851501, 0.07889338582754135, 0.06242310255765915, 0.07581008225679398, 0.1051798164844513, 0.05566290020942688, 0.06631273031234741, 0.07660762965679169]]],\n",
              "            \"set10\": [[[1.0, 0.0, 0.0, 0.0, 0.0, 0.0, 0.0, 0.0, 0.0, 0.0, 0.0, 0.0], [0.3874349892139435, 0.6125649809837341, 0.0, 0.0, 0.0, 0.0, 0.0, 0.0, 0.0, 0.0, 0.0, 0.0], [0.2157382220029831, 0.24022236466407776, 0.5440393686294556, 0.0, 0.0, 0.0, 0.0, 0.0, 0.0, 0.0, 0.0, 0.0], [0.31533539295196533, 0.17112226784229279, 0.10628815740346909, 0.407254159450531, 0.0, 0.0, 0.0, 0.0, 0.0, 0.0, 0.0, 0.0], [0.2994024157524109, 0.23036882281303406, 0.20864838361740112, 0.13539263606071472, 0.1261877417564392, 0.0, 0.0, 0.0, 0.0, 0.0, 0.0, 0.0], [0.3327152729034424, 0.06264037638902664, 0.05495721846818924, 0.40243613719940186, 0.09467334300279617, 0.052577655762434006, 0.0, 0.0, 0.0, 0.0, 0.0, 0.0], [0.07121407985687256, 0.5714576840400696, 0.1426178216934204, 0.07854925096035004, 0.06119808182120323, 0.053331755101680756, 0.021631306037306786, 0.0, 0.0, 0.0, 0.0, 0.0], [0.039341412484645844, 0.09033764153718948, 0.43118953704833984, 0.07005313783884048, 0.16004477441310883, 0.1302473098039627, 0.046014320105314255, 0.03277182951569557, 0.0, 0.0, 0.0, 0.0], [0.1532883495092392, 0.04674013331532478, 0.1595410853624344, 0.05993292108178139, 0.02381330356001854, 0.011949263513088226, 0.3799540102481842, 0.1531408131122589, 0.011640137992799282, 0.0, 0.0, 0.0], [0.04694127291440964, 0.1311825066804886, 0.03447500616312027, 0.005235093180090189, 0.018975691869854927, 0.20563514530658722, 0.030941007658839226, 0.4617002606391907, 0.03524116799235344, 0.029672924429178238, 0.0, 0.0], [0.04168156534433365, 0.012550012208521366, 0.013058182783424854, 0.010310914367437363, 0.023109624162316322, 0.25596165657043457, 0.3049781918525696, 0.0034304140135645866, 0.029166147112846375, 0.19497370719909668, 0.11077956855297089, 0.0], [0.08062352985143661, 0.08863522857427597, 0.06572875380516052, 0.07923979312181473, 0.08663845807313919, 0.09888242930173874, 0.08394614607095718, 0.09200102835893631, 0.09900544583797455, 0.07233375310897827, 0.07547736167907715, 0.07748804241418839]]],\n",
              "        };\n",
              "        let labels = {\n",
              "            \"set1\": ['0.0'],\n",
              "            \"set2\": ['0.0'],\n",
              "            \"set3\": ['0.0'],\n",
              "            \"set4\": ['0.0'],\n",
              "            \"set5\": ['0.0'],\n",
              "            \"set6\": ['0.0'],\n",
              "            \"set7\": ['0.0'],\n",
              "            \"set8\": ['0.0'],\n",
              "            \"set9\": ['0.0'],\n",
              "            \"set10\": ['0.0'],\n",
              "        };\n",
              "\n",
              "        window.changeTokens = function(value) {\n",
              "            render(\"circuits-vis-cd18fc9f-5866\", AttentionPatterns, {\"tokens\": tokens[value], \"attention\": attention[value], \"headLabels\": labels[value]});\n",
              "        }\n",
              "\n",
              "        // Render the initial visualization\n",
              "        changeTokens(\"set1\");\n",
              "    </script>\n",
              "\n",
              "</body>\n",
              "</html>\n"
            ]
          },
          "metadata": {},
          "execution_count": 26
        }
      ]
    },
    {
      "cell_type": "markdown",
      "source": [
        "Notice that the perm destination tokens mostly attend to the corresponding positions in the list (For example: perm token 0 always attends the pos=1, 0 indexed). This is consistent with our V composition hypothesis above: 0.0 can move the list token information to the permutation index positions, and head 1.0 can then relay that same token info to the prediction positions.\n",
        "\n",
        "We can add this new observation to the list of facts we already know:\n",
        "* Head 1.0 has the largest direct effect on the logits (DLA)\n",
        "* The average of all 1.0 attn patterns showed the prediction positions (END, ans_0, ans_1) always attend to the permutation index positions (idx_0, idx_1, idx_2) respectively\n",
        "* **Every 0.0 pattern we checked shows that permutation tokens (0, 1, 2) always attend to list positions (a_0, a_1, a_2) respectively**\n",
        "\n",
        "One way to double check this is to look at the QK circuits. Recall that in the 0th layer we can decompose the attn scores into 4 terms. We expect the $W_E @ W_{QK} @ W_{pos}^T$ term to stand out, with a stripe when dest_token=i, src_pos=i+1 for i = 0, 1, 2."
      ],
      "metadata": {
        "id": "IFuePAJxMl-G"
      }
    },
    {
      "cell_type": "markdown",
      "source": [
        "## Understand 0.0 QK circuits"
      ],
      "metadata": {
        "id": "HmUsvw5RNDKl"
      }
    },
    {
      "cell_type": "code",
      "source": [
        "W_E = model.W_E\n",
        "print(W_E.shape)\n",
        "W_pos = model.W_pos\n",
        "print(W_pos.shape)\n",
        "W_QK = model.QK[0,0].AB\n",
        "print(W_QK.shape)"
      ],
      "metadata": {
        "colab": {
          "base_uri": "https://localhost:8080/"
        },
        "id": "BY1b6OnjNGnJ",
        "outputId": "41209139-ea31-4def-a4a4-f902f509e300"
      },
      "execution_count": 27,
      "outputs": [
        {
          "output_type": "stream",
          "name": "stdout",
          "text": [
            "torch.Size([53, 128])\n",
            "torch.Size([12, 128])\n",
            "torch.Size([128, 128])\n"
          ]
        }
      ]
    },
    {
      "cell_type": "code",
      "source": [
        "general_labels = [\"BOS\", \"a_0\", \"a_1\", \"a_2\", \"MID\", \"idx_0\", \"idx_1\", \"idx_2\", \"END\", \"ans_0\", \"ans_1\", \"ans_2\"]\n",
        "imshow(\n",
        "    W_E @ W_QK @ W_pos.T,\n",
        "    title=\"Attn 0.0 full QK circuit W_E @ W_QK @ W_pos.T\",\n",
        "    xaxis=\"src pos\", yaxis=\"dest token\",\n",
        "    x=general_labels,\n",
        "    aspect=\"equal\"\n",
        ")"
      ],
      "metadata": {
        "colab": {
          "base_uri": "https://localhost:8080/",
          "height": 542
        },
        "id": "f6LbYSyZNLam",
        "outputId": "29f48980-a4f2-4ec3-fcbd-4353c472ee34"
      },
      "execution_count": 28,
      "outputs": [
        {
          "output_type": "display_data",
          "data": {
            "text/html": [
              "<html>\n",
              "<head><meta charset=\"utf-8\" /></head>\n",
              "<body>\n",
              "    <div>            <script src=\"https://cdnjs.cloudflare.com/ajax/libs/mathjax/2.7.5/MathJax.js?config=TeX-AMS-MML_SVG\"></script><script type=\"text/javascript\">if (window.MathJax && window.MathJax.Hub && window.MathJax.Hub.Config) {window.MathJax.Hub.Config({SVG: {font: \"STIX-Web\"}});}</script>                <script type=\"text/javascript\">window.PlotlyConfig = {MathJaxConfig: 'local'};</script>\n",
              "        <script charset=\"utf-8\" src=\"https://cdn.plot.ly/plotly-2.24.1.min.js\"></script>                <div id=\"cfef7429-a314-4c9f-bb32-072c1425421f\" class=\"plotly-graph-div\" style=\"height:525px; width:100%;\"></div>            <script type=\"text/javascript\">                                    window.PLOTLYENV=window.PLOTLYENV || {};                                    if (document.getElementById(\"cfef7429-a314-4c9f-bb32-072c1425421f\")) {                    Plotly.newPlot(                        \"cfef7429-a314-4c9f-bb32-072c1425421f\",                        [{\"coloraxis\":\"coloraxis\",\"name\":\"0\",\"x\":[\"BOS\",\"a_0\",\"a_1\",\"a_2\",\"MID\",\"idx_0\",\"idx_1\",\"idx_2\",\"END\",\"ans_0\",\"ans_1\",\"ans_2\"],\"z\":[[-0.3915599584579468,12.15326976776123,-6.897435188293457,-4.9300737380981445,-1.0768407583236694,0.29559749364852905,1.9222724437713623,7.0491228103637695,0.031304776668548584,1.2523505687713623,0.29422494769096375,0.13593634963035583],[-2.355274200439453,-5.916989326477051,13.15926742553711,-4.8252410888671875,-0.59963458776474,-0.6674734354019165,-2.8054959774017334,-7.3465423583984375,-2.9858105182647705,-2.227038860321045,-0.8294714093208313,-0.7600720524787903],[3.007835865020752,-7.260168075561523,-9.024944305419922,18.754426956176758,2.8253417015075684,-0.8973578214645386,2.5850353240966797,-5.813931941986084,5.680810928344727,2.114365339279175,-1.1114096641540527,0.38677990436553955],[0.28926756978034973,-1.9371578693389893,0.38346171379089355,0.23976224660873413,-0.03351172059774399,0.7715013027191162,0.5861151218414307,-0.8661219477653503,0.13112908601760864,0.2982589900493622,0.7665234208106995,0.05718482285737991],[0.049012940376996994,-1.0658824443817139,0.7498131990432739,-0.7093914151191711,0.30400705337524414,1.414318323135376,0.04611526429653168,-1.4201412200927734,0.08971153199672699,0.5296139121055603,0.43248093128204346,-0.04684535413980484],[0.26760780811309814,-0.7629171013832092,-0.5691938400268555,-0.19213047623634338,0.21308818459510803,1.2675862312316895,1.229831337928772,-0.7768061757087708,0.07529956847429276,0.7413891553878784,0.7536699771881104,0.007762003690004349],[-0.20424380898475647,-0.28846293687820435,0.17130404710769653,-1.782536506652832,0.027897030115127563,1.3990967273712158,1.9564690589904785,-1.0266426801681519,-0.4321482181549072,1.5661628246307373,1.0711791515350342,0.007834713906049728],[-0.09673261642456055,0.6003261208534241,0.16243383288383484,1.8057386875152588,0.16996783018112183,-2.274456739425659,-2.186005115509033,1.3415441513061523,0.0688307136297226,-1.4852874279022217,-1.2975741624832153,-0.02798294648528099],[0.30402234196662903,-0.03773050382733345,-0.7351880073547363,-0.9879543781280518,0.04440465569496155,1.763853669166565,0.30611652135849,0.9789395332336426,0.28241315484046936,-0.20025718212127686,0.5671898126602173,0.07848963141441345],[-0.2691083252429962,-0.8011928200721741,1.6238712072372437,1.8092151880264282,-0.04074546694755554,-2.5830960273742676,-1.9378098249435425,-0.2724827229976654,-0.3661971390247345,-1.1421583890914917,-0.9084804654121399,0.13103924691677094],[0.7145501375198364,-1.3089150190353394,-1.8712668418884277,-0.673147439956665,0.41858696937561035,3.221123456954956,2.8528192043304443,-1.2672505378723145,0.5969184637069702,2.112504005432129,1.8345897197723389,0.013101115822792053],[-0.20162875950336456,0.38285720348358154,0.5411291122436523,0.505294680595398,0.19026222825050354,-0.2513721287250519,-1.4020895957946777,0.54319828748703,0.39290717244148254,-1.620869517326355,-1.024938702583313,-0.04343704506754875],[-0.22906938195228577,-0.22334520518779755,0.23966629803180695,0.788567066192627,0.42409077286720276,0.0035729408264160156,0.07901472598314285,-0.9764094948768616,0.24917636811733246,-0.3371361196041107,-0.19551542401313782,-0.08216261118650436],[0.6538996696472168,-0.7601814270019531,-0.7762771248817444,-0.8408963680267334,0.008530929684638977,2.2053744792938232,0.907339334487915,-0.30532196164131165,0.517798900604248,0.8494646549224854,0.8431922197341919,0.050661660730838776],[0.49289748072624207,-0.2613779902458191,-0.780800461769104,-2.021914482116699,-0.7278935313224792,1.0141266584396362,0.6123390197753906,0.8925380110740662,-0.6469060182571411,1.7493507862091064,1.264001488685608,0.20958775281906128],[0.03911484777927399,-0.35258394479751587,-0.4162711501121521,-1.121640682220459,0.5838029384613037,3.234651803970337,1.5737125873565674,-1.2895166873931885,0.5225319862365723,0.3318662643432617,0.705920934677124,-0.07197049260139465],[-0.15767395496368408,0.5743726491928101,0.37371909618377686,-3.2898921966552734,0.21771636605262756,3.3061556816101074,1.6542682647705078,-0.29745545983314514,-0.07215287536382675,0.06205601990222931,0.8475933074951172,-0.20505090057849884],[1.0874375104904175,-1.3197579383850098,-1.4610083103179932,-3.777454137802124,-0.7736379504203796,3.9520058631896973,2.1417603492736816,0.8891706466674805,-0.5144543647766113,2.5807604789733887,2.7988390922546387,0.04500735551118851],[0.6667817831039429,-1.3980023860931396,-1.4715750217437744,-1.236385464668274,-0.06794877350330353,2.348881483078003,2.3864951133728027,-0.486686646938324,0.05931486189365387,2.5634632110595703,1.8705997467041016,0.17584462463855743],[-0.21270620822906494,0.6336520910263062,0.940960705280304,-2.63232421875,-0.7456230521202087,0.17931580543518066,-0.9430956244468689,1.4130487442016602,-0.9181067943572998,-0.18567116558551788,0.37222301959991455,-0.03774338215589523],[-0.010878235101699829,-1.0783413648605347,0.5078558921813965,0.6412886381149292,0.6246052384376526,0.9918017983436584,-0.17108535766601562,-1.8934822082519531,0.4014454483985901,-0.12300196290016174,0.0025880038738250732,-0.12647102773189545],[-0.46496063470840454,-0.07826259732246399,0.7371989488601685,-0.8370230197906494,0.40822428464889526,1.5824214220046997,0.6698492765426636,-1.2863569259643555,0.004003532230854034,-0.36162126064300537,-0.18149101734161377,-0.20837140083312988],[0.5194835066795349,-0.7917104959487915,-0.5772538185119629,-2.7627005577087402,-0.42813608050346375,3.085078239440918,1.9517126083374023,-0.11739568412303925,-0.10046634078025818,1.5611505508422852,1.8180468082427979,0.037007857114076614],[-0.08852989971637726,1.0769413709640503,0.574536919593811,-0.6549582481384277,-0.5157137513160706,-1.5302472114562988,-2.6264240741729736,2.8567681312561035,-0.5994160771369934,-1.56931734085083,-0.852613091468811,0.16651079058647156],[0.30804646015167236,-0.11047455668449402,-1.2237656116485596,-2.9461474418640137,-0.009181857109069824,4.348540782928467,3.1342263221740723,-1.638746738433838,0.05984853208065033,2.3116555213928223,1.8480143547058105,-0.16332635283470154],[0.11814002692699432,-1.3500895500183105,1.3829591274261475,-2.7899813652038574,-0.4714491665363312,1.9977997541427612,0.16367267072200775,-0.05474371090531349,-0.6291071772575378,0.46426934003829956,0.9433712959289551,-0.00356476753950119],[-0.06714479625225067,-1.7060264348983765,1.3340257406234741,-1.0801223516464233,-0.056995246559381485,0.872862696647644,0.6371519565582275,-1.641376256942749,-0.552193284034729,1.0175673961639404,0.7271774411201477,-0.03644303232431412],[-0.1206345409154892,-0.16125313937664032,0.49587035179138184,-1.1109960079193115,-0.03848409652709961,1.4604425430297852,0.43690556287765503,-0.49916157126426697,-0.020901042968034744,-0.2270628660917282,0.2790939211845398,-0.1191864013671875],[0.1730625331401825,-2.2541980743408203,0.792610764503479,-0.26597219705581665,-0.013534504920244217,0.8131115436553955,1.251193881034851,-2.073960542678833,-0.3541730046272278,1.6009479761123657,1.1127278804779053,-0.018722491338849068],[-0.31068164110183716,0.6052420735359192,0.9537370204925537,-2.6069955825805664,-0.650516152381897,-0.41534310579299927,0.13568001985549927,0.9630921483039856,-1.2014362812042236,0.6108303666114807,0.7431083917617798,-0.009826324880123138],[0.13066217303276062,0.0029593706130981445,-0.9315037131309509,-1.921669602394104,-0.5268473625183105,1.6589690446853638,1.3082369565963745,0.45990797877311707,-0.44641929864883423,1.6716153621673584,0.9603104591369629,0.16067200899124146],[-0.3488943576812744,0.27380847930908203,0.825996994972229,-1.5167524814605713,0.10417282581329346,0.24935954809188843,0.6272201538085938,-0.38192373514175415,-0.6500625610351562,0.25839829444885254,0.19186770915985107,-0.06544537842273712],[0.1431380957365036,0.024618245661258698,-0.524283230304718,-1.217834234237671,-0.11386501789093018,0.9207213521003723,0.8374250531196594,0.3004416525363922,-0.21215903759002686,0.6712687015533447,0.7307852506637573,-0.0023499689996242523],[0.25849834084510803,-0.7893005609512329,-0.29242345690727234,-0.19923615455627441,-0.16626080870628357,0.5112009048461914,0.34199094772338867,-0.014415085315704346,-0.02588113397359848,0.5431509017944336,0.5252431035041809,0.09721420705318451],[0.31750085949897766,-0.00013935193419456482,-0.5953925848007202,-1.2316640615463257,-0.39240601658821106,0.6693187355995178,-0.05340924859046936,2.097604274749756,-0.1652056723833084,-0.10660519450902939,0.5552746057510376,0.09094221889972687],[-0.46458131074905396,0.5253403782844543,1.370811939239502,-1.287825345993042,0.20197205245494843,0.3764708638191223,-1.0489954948425293,0.45697999000549316,-0.3695257604122162,-1.6670345067977905,-0.6604942679405212,-0.19457168877124786],[0.019636988639831543,-0.8985556364059448,0.4621182084083557,0.2934841513633728,0.56742924451828,0.45116329193115234,0.14706245064735413,-0.5550541877746582,0.17875610291957855,-0.09927469491958618,-0.04240255802869797,-0.0464947447180748],[-0.8792674541473389,0.3027990758419037,1.6272118091583252,2.8385062217712402,0.9013035893440247,-1.7959142923355103,-2.00313401222229,-0.9298672676086426,0.4817214012145996,-3.1290204524993896,-2.4104905128479004,-0.3308870792388916],[-0.5788330435752869,0.3167487382888794,1.5651366710662842,-1.7512719631195068,0.31107765436172485,1.3740020990371704,-0.7578004598617554,-0.383134663105011,-0.31510502099990845,-1.464978814125061,-0.5438818335533142,-0.18564164638519287],[0.3063092827796936,-1.6121206283569336,0.8831131458282471,-3.981353521347046,-0.3483463227748871,3.7067360877990723,1.8559715747833252,-0.31917595863342285,-0.7427012920379639,1.1320372819900513,1.92850661277771,-0.031843092292547226],[0.11731851100921631,-0.20882347226142883,-0.3756692409515381,0.6243661642074585,0.2807416617870331,0.44173702597618103,0.42335474491119385,-0.46963876485824585,0.42400574684143066,-0.00016592629253864288,-0.29005780816078186,-0.03432540223002434],[0.8061513900756836,-0.7282324433326721,-1.0575432777404785,-3.790060043334961,-0.5598748922348022,3.702477216720581,2.1833596229553223,0.12776675820350647,-0.39219820499420166,2.4368395805358887,2.4004292488098145,0.1617003083229065],[0.09019622206687927,0.3283945322036743,-0.27481237053871155,-2.332045793533325,-0.15573251247406006,2.1869866847991943,0.736889123916626,0.5196885466575623,-0.16921736299991608,0.30370450019836426,0.7281175851821899,0.0964701920747757],[-0.07638205587863922,-0.4834955632686615,0.2956550717353821,2.0761003494262695,0.13507652282714844,-1.145484209060669,-2.045992374420166,0.20837116241455078,0.2989341914653778,-1.2345210313796997,-1.0935559272766113,0.07918877899646759],[0.3707277178764343,-0.5731053352355957,-1.4343581199645996,0.4236035943031311,0.6138918399810791,2.156136989593506,2.453848361968994,-1.940173625946045,0.6999496221542358,1.0489583015441895,0.9969627857208252,-0.16530737280845642],[-0.1886468231678009,-1.6582057476043701,0.6450595855712891,0.8683967590332031,0.22305314242839813,0.75234055519104,0.7108290195465088,-2.8271431922912598,0.17104463279247284,0.6672011017799377,0.39482948184013367,-0.17030000686645508],[0.11570580303668976,-0.4768173098564148,-0.4071260690689087,-0.5189000368118286,0.29288312792778015,1.0338232517242432,1.206758975982666,-0.7260768413543701,-0.11256792396306992,0.9184727668762207,0.6947211623191833,0.0028553344309329987],[1.1206612586975098,-2.533191442489624,-1.10732102394104,-0.7308871746063232,0.30141958594322205,3.987732172012329,1.882291555404663,-1.190871000289917,0.8824857473373413,1.3090169429779053,1.5578041076660156,0.07666243612766266],[1.0222183465957642,-1.995398759841919,-2.0663387775421143,0.04056902229785919,0.06516669690608978,2.250518321990967,3.0297770500183105,-1.1562399864196777,0.3967430591583252,2.8220009803771973,1.899801254272461,0.22628000378608704],[0.7981181144714355,-1.0839178562164307,-1.374901294708252,-0.21660423278808594,0.1541139930486679,2.644864559173584,1.1757423877716064,-0.8341817259788513,0.5547125339508057,0.9595687389373779,1.0912526845932007,0.028184056282043457],[1.1192071437835693,-4.221293926239014,0.3406582474708557,-3.2223615646362305,-3.802363157272339,-10.600189208984375,4.952451705932617,2.146043062210083,-5.519026756286621,11.294737815856934,6.4976396560668945,1.0369949340820312],[0.5899497270584106,-0.43783217668533325,-0.8958791494369507,-3.033482551574707,-1.3137197494506836,-0.12678328156471252,2.6479580402374268,0.7180829644203186,-1.3798887729644775,3.8059349060058594,2.7125892639160156,0.2967700958251953],[1.7745319604873657,-0.03456021845340729,-3.5670862197875977,-5.3793745040893555,-0.813088059425354,4.996014595031738,2.795927047729492,3.3426566123962402,-0.35343238711357117,3.52477765083313,3.808372974395752,0.3167693018913269]],\"type\":\"heatmap\",\"xaxis\":\"x\",\"yaxis\":\"y\",\"hovertemplate\":\"src pos: %{x}\\u003cbr\\u003edest token: %{y}\\u003cbr\\u003ecolor: %{z}\\u003cextra\\u003e\\u003c\\u002fextra\\u003e\"}],                        {\"template\":{\"data\":{\"histogram2dcontour\":[{\"type\":\"histogram2dcontour\",\"colorbar\":{\"outlinewidth\":0,\"ticks\":\"\"},\"colorscale\":[[0.0,\"#0d0887\"],[0.1111111111111111,\"#46039f\"],[0.2222222222222222,\"#7201a8\"],[0.3333333333333333,\"#9c179e\"],[0.4444444444444444,\"#bd3786\"],[0.5555555555555556,\"#d8576b\"],[0.6666666666666666,\"#ed7953\"],[0.7777777777777778,\"#fb9f3a\"],[0.8888888888888888,\"#fdca26\"],[1.0,\"#f0f921\"]]}],\"choropleth\":[{\"type\":\"choropleth\",\"colorbar\":{\"outlinewidth\":0,\"ticks\":\"\"}}],\"histogram2d\":[{\"type\":\"histogram2d\",\"colorbar\":{\"outlinewidth\":0,\"ticks\":\"\"},\"colorscale\":[[0.0,\"#0d0887\"],[0.1111111111111111,\"#46039f\"],[0.2222222222222222,\"#7201a8\"],[0.3333333333333333,\"#9c179e\"],[0.4444444444444444,\"#bd3786\"],[0.5555555555555556,\"#d8576b\"],[0.6666666666666666,\"#ed7953\"],[0.7777777777777778,\"#fb9f3a\"],[0.8888888888888888,\"#fdca26\"],[1.0,\"#f0f921\"]]}],\"heatmap\":[{\"type\":\"heatmap\",\"colorbar\":{\"outlinewidth\":0,\"ticks\":\"\"},\"colorscale\":[[0.0,\"#0d0887\"],[0.1111111111111111,\"#46039f\"],[0.2222222222222222,\"#7201a8\"],[0.3333333333333333,\"#9c179e\"],[0.4444444444444444,\"#bd3786\"],[0.5555555555555556,\"#d8576b\"],[0.6666666666666666,\"#ed7953\"],[0.7777777777777778,\"#fb9f3a\"],[0.8888888888888888,\"#fdca26\"],[1.0,\"#f0f921\"]]}],\"heatmapgl\":[{\"type\":\"heatmapgl\",\"colorbar\":{\"outlinewidth\":0,\"ticks\":\"\"},\"colorscale\":[[0.0,\"#0d0887\"],[0.1111111111111111,\"#46039f\"],[0.2222222222222222,\"#7201a8\"],[0.3333333333333333,\"#9c179e\"],[0.4444444444444444,\"#bd3786\"],[0.5555555555555556,\"#d8576b\"],[0.6666666666666666,\"#ed7953\"],[0.7777777777777778,\"#fb9f3a\"],[0.8888888888888888,\"#fdca26\"],[1.0,\"#f0f921\"]]}],\"contourcarpet\":[{\"type\":\"contourcarpet\",\"colorbar\":{\"outlinewidth\":0,\"ticks\":\"\"}}],\"contour\":[{\"type\":\"contour\",\"colorbar\":{\"outlinewidth\":0,\"ticks\":\"\"},\"colorscale\":[[0.0,\"#0d0887\"],[0.1111111111111111,\"#46039f\"],[0.2222222222222222,\"#7201a8\"],[0.3333333333333333,\"#9c179e\"],[0.4444444444444444,\"#bd3786\"],[0.5555555555555556,\"#d8576b\"],[0.6666666666666666,\"#ed7953\"],[0.7777777777777778,\"#fb9f3a\"],[0.8888888888888888,\"#fdca26\"],[1.0,\"#f0f921\"]]}],\"surface\":[{\"type\":\"surface\",\"colorbar\":{\"outlinewidth\":0,\"ticks\":\"\"},\"colorscale\":[[0.0,\"#0d0887\"],[0.1111111111111111,\"#46039f\"],[0.2222222222222222,\"#7201a8\"],[0.3333333333333333,\"#9c179e\"],[0.4444444444444444,\"#bd3786\"],[0.5555555555555556,\"#d8576b\"],[0.6666666666666666,\"#ed7953\"],[0.7777777777777778,\"#fb9f3a\"],[0.8888888888888888,\"#fdca26\"],[1.0,\"#f0f921\"]]}],\"mesh3d\":[{\"type\":\"mesh3d\",\"colorbar\":{\"outlinewidth\":0,\"ticks\":\"\"}}],\"scatter\":[{\"fillpattern\":{\"fillmode\":\"overlay\",\"size\":10,\"solidity\":0.2},\"type\":\"scatter\"}],\"parcoords\":[{\"type\":\"parcoords\",\"line\":{\"colorbar\":{\"outlinewidth\":0,\"ticks\":\"\"}}}],\"scatterpolargl\":[{\"type\":\"scatterpolargl\",\"marker\":{\"colorbar\":{\"outlinewidth\":0,\"ticks\":\"\"}}}],\"bar\":[{\"error_x\":{\"color\":\"#2a3f5f\"},\"error_y\":{\"color\":\"#2a3f5f\"},\"marker\":{\"line\":{\"color\":\"#E5ECF6\",\"width\":0.5},\"pattern\":{\"fillmode\":\"overlay\",\"size\":10,\"solidity\":0.2}},\"type\":\"bar\"}],\"scattergeo\":[{\"type\":\"scattergeo\",\"marker\":{\"colorbar\":{\"outlinewidth\":0,\"ticks\":\"\"}}}],\"scatterpolar\":[{\"type\":\"scatterpolar\",\"marker\":{\"colorbar\":{\"outlinewidth\":0,\"ticks\":\"\"}}}],\"histogram\":[{\"marker\":{\"pattern\":{\"fillmode\":\"overlay\",\"size\":10,\"solidity\":0.2}},\"type\":\"histogram\"}],\"scattergl\":[{\"type\":\"scattergl\",\"marker\":{\"colorbar\":{\"outlinewidth\":0,\"ticks\":\"\"}}}],\"scatter3d\":[{\"type\":\"scatter3d\",\"line\":{\"colorbar\":{\"outlinewidth\":0,\"ticks\":\"\"}},\"marker\":{\"colorbar\":{\"outlinewidth\":0,\"ticks\":\"\"}}}],\"scattermapbox\":[{\"type\":\"scattermapbox\",\"marker\":{\"colorbar\":{\"outlinewidth\":0,\"ticks\":\"\"}}}],\"scatterternary\":[{\"type\":\"scatterternary\",\"marker\":{\"colorbar\":{\"outlinewidth\":0,\"ticks\":\"\"}}}],\"scattercarpet\":[{\"type\":\"scattercarpet\",\"marker\":{\"colorbar\":{\"outlinewidth\":0,\"ticks\":\"\"}}}],\"carpet\":[{\"aaxis\":{\"endlinecolor\":\"#2a3f5f\",\"gridcolor\":\"white\",\"linecolor\":\"white\",\"minorgridcolor\":\"white\",\"startlinecolor\":\"#2a3f5f\"},\"baxis\":{\"endlinecolor\":\"#2a3f5f\",\"gridcolor\":\"white\",\"linecolor\":\"white\",\"minorgridcolor\":\"white\",\"startlinecolor\":\"#2a3f5f\"},\"type\":\"carpet\"}],\"table\":[{\"cells\":{\"fill\":{\"color\":\"#EBF0F8\"},\"line\":{\"color\":\"white\"}},\"header\":{\"fill\":{\"color\":\"#C8D4E3\"},\"line\":{\"color\":\"white\"}},\"type\":\"table\"}],\"barpolar\":[{\"marker\":{\"line\":{\"color\":\"#E5ECF6\",\"width\":0.5},\"pattern\":{\"fillmode\":\"overlay\",\"size\":10,\"solidity\":0.2}},\"type\":\"barpolar\"}],\"pie\":[{\"automargin\":true,\"type\":\"pie\"}]},\"layout\":{\"autotypenumbers\":\"strict\",\"colorway\":[\"#636efa\",\"#EF553B\",\"#00cc96\",\"#ab63fa\",\"#FFA15A\",\"#19d3f3\",\"#FF6692\",\"#B6E880\",\"#FF97FF\",\"#FECB52\"],\"font\":{\"color\":\"#2a3f5f\"},\"hovermode\":\"closest\",\"hoverlabel\":{\"align\":\"left\"},\"paper_bgcolor\":\"white\",\"plot_bgcolor\":\"#E5ECF6\",\"polar\":{\"bgcolor\":\"#E5ECF6\",\"angularaxis\":{\"gridcolor\":\"white\",\"linecolor\":\"white\",\"ticks\":\"\"},\"radialaxis\":{\"gridcolor\":\"white\",\"linecolor\":\"white\",\"ticks\":\"\"}},\"ternary\":{\"bgcolor\":\"#E5ECF6\",\"aaxis\":{\"gridcolor\":\"white\",\"linecolor\":\"white\",\"ticks\":\"\"},\"baxis\":{\"gridcolor\":\"white\",\"linecolor\":\"white\",\"ticks\":\"\"},\"caxis\":{\"gridcolor\":\"white\",\"linecolor\":\"white\",\"ticks\":\"\"}},\"coloraxis\":{\"colorbar\":{\"outlinewidth\":0,\"ticks\":\"\"}},\"colorscale\":{\"sequential\":[[0.0,\"#0d0887\"],[0.1111111111111111,\"#46039f\"],[0.2222222222222222,\"#7201a8\"],[0.3333333333333333,\"#9c179e\"],[0.4444444444444444,\"#bd3786\"],[0.5555555555555556,\"#d8576b\"],[0.6666666666666666,\"#ed7953\"],[0.7777777777777778,\"#fb9f3a\"],[0.8888888888888888,\"#fdca26\"],[1.0,\"#f0f921\"]],\"sequentialminus\":[[0.0,\"#0d0887\"],[0.1111111111111111,\"#46039f\"],[0.2222222222222222,\"#7201a8\"],[0.3333333333333333,\"#9c179e\"],[0.4444444444444444,\"#bd3786\"],[0.5555555555555556,\"#d8576b\"],[0.6666666666666666,\"#ed7953\"],[0.7777777777777778,\"#fb9f3a\"],[0.8888888888888888,\"#fdca26\"],[1.0,\"#f0f921\"]],\"diverging\":[[0,\"#8e0152\"],[0.1,\"#c51b7d\"],[0.2,\"#de77ae\"],[0.3,\"#f1b6da\"],[0.4,\"#fde0ef\"],[0.5,\"#f7f7f7\"],[0.6,\"#e6f5d0\"],[0.7,\"#b8e186\"],[0.8,\"#7fbc41\"],[0.9,\"#4d9221\"],[1,\"#276419\"]]},\"xaxis\":{\"gridcolor\":\"white\",\"linecolor\":\"white\",\"ticks\":\"\",\"title\":{\"standoff\":15},\"zerolinecolor\":\"white\",\"automargin\":true,\"zerolinewidth\":2},\"yaxis\":{\"gridcolor\":\"white\",\"linecolor\":\"white\",\"ticks\":\"\",\"title\":{\"standoff\":15},\"zerolinecolor\":\"white\",\"automargin\":true,\"zerolinewidth\":2},\"scene\":{\"xaxis\":{\"backgroundcolor\":\"#E5ECF6\",\"gridcolor\":\"white\",\"linecolor\":\"white\",\"showbackground\":true,\"ticks\":\"\",\"zerolinecolor\":\"white\",\"gridwidth\":2},\"yaxis\":{\"backgroundcolor\":\"#E5ECF6\",\"gridcolor\":\"white\",\"linecolor\":\"white\",\"showbackground\":true,\"ticks\":\"\",\"zerolinecolor\":\"white\",\"gridwidth\":2},\"zaxis\":{\"backgroundcolor\":\"#E5ECF6\",\"gridcolor\":\"white\",\"linecolor\":\"white\",\"showbackground\":true,\"ticks\":\"\",\"zerolinecolor\":\"white\",\"gridwidth\":2}},\"shapedefaults\":{\"line\":{\"color\":\"#2a3f5f\"}},\"annotationdefaults\":{\"arrowcolor\":\"#2a3f5f\",\"arrowhead\":0,\"arrowwidth\":1},\"geo\":{\"bgcolor\":\"white\",\"landcolor\":\"#E5ECF6\",\"subunitcolor\":\"white\",\"showland\":true,\"showlakes\":true,\"lakecolor\":\"white\"},\"title\":{\"x\":0.05},\"mapbox\":{\"style\":\"light\"}}},\"xaxis\":{\"anchor\":\"y\",\"domain\":[0.0,1.0],\"scaleanchor\":\"y\",\"constrain\":\"domain\",\"title\":{\"text\":\"src pos\"}},\"yaxis\":{\"anchor\":\"x\",\"domain\":[0.0,1.0],\"autorange\":\"reversed\",\"constrain\":\"domain\",\"title\":{\"text\":\"dest token\"}},\"coloraxis\":{\"colorscale\":[[0.0,\"rgb(103,0,31)\"],[0.1,\"rgb(178,24,43)\"],[0.2,\"rgb(214,96,77)\"],[0.3,\"rgb(244,165,130)\"],[0.4,\"rgb(253,219,199)\"],[0.5,\"rgb(247,247,247)\"],[0.6,\"rgb(209,229,240)\"],[0.7,\"rgb(146,197,222)\"],[0.8,\"rgb(67,147,195)\"],[0.9,\"rgb(33,102,172)\"],[1.0,\"rgb(5,48,97)\"]],\"cmid\":0.0},\"title\":{\"text\":\"Attn 0.0 full QK circuit W_E @ W_QK @ W_pos.T\"}},                        {\"responsive\": true}                    ).then(function(){\n",
              "                            \n",
              "var gd = document.getElementById('cfef7429-a314-4c9f-bb32-072c1425421f');\n",
              "var x = new MutationObserver(function (mutations, observer) {{\n",
              "        var display = window.getComputedStyle(gd).display;\n",
              "        if (!display || display === 'none') {{\n",
              "            console.log([gd, 'removed!']);\n",
              "            Plotly.purge(gd);\n",
              "            observer.disconnect();\n",
              "        }}\n",
              "}});\n",
              "\n",
              "// Listen for the removal of the full notebook cells\n",
              "var notebookContainer = gd.closest('#notebook-container');\n",
              "if (notebookContainer) {{\n",
              "    x.observe(notebookContainer, {childList: true});\n",
              "}}\n",
              "\n",
              "// Listen for the clearing of the current output cell\n",
              "var outputEl = gd.closest('.output');\n",
              "if (outputEl) {{\n",
              "    x.observe(outputEl, {childList: true});\n",
              "}}\n",
              "\n",
              "                        })                };                            </script>        </div>\n",
              "</body>\n",
              "</html>"
            ]
          },
          "metadata": {}
        }
      ]
    },
    {
      "cell_type": "markdown",
      "source": [
        "Notice the 3x3 top left subsquare with the clear diagonal stripe. This suggests tokens (0, 1, 2) will give the highest attention scores to positions (a_0, a_1, a_2) respectively. Given that the permutation index tokens are always some shuffling of (0, 1, 2), this is exactly consistent with our interpretation of the 0.0 attn patterns above.\n",
        "\n",
        "However there are 3 other QK circuit components for this head, so let's quickly check them to see if we can find additional structure. We can do this all at once by concatenating $W_E$ and $W_{pos}$:"
      ],
      "metadata": {
        "id": "E7bBH_efNfyh"
      }
    },
    {
      "cell_type": "code",
      "source": [
        "W_E_pos = torch.cat([W_E, W_pos], dim=0)\n",
        "\n",
        "W_E_labels = [f\"W<sub>E</sub>[{i}]\" for i in range(model.cfg.d_vocab)]\n",
        "W_pos_labels = [f\"W<sub>pos</sub>[{i}]\" for i in range(model.cfg.n_ctx)]\n",
        "\n",
        "imshow(\n",
        "    W_E_pos @ W_QK @ W_E_pos.T,\n",
        "    title=\"0.0 full QK circuits\",\n",
        "    xaxis=\"src\", yaxis=\"dest\",\n",
        "    x=W_E_labels+W_pos_labels, y=W_E_labels+W_pos_labels,\n",
        ")"
      ],
      "metadata": {
        "colab": {
          "base_uri": "https://localhost:8080/",
          "height": 542
        },
        "id": "o2FTerKKq-CO",
        "outputId": "b4f59d8c-c3c0-4d41-e912-0727e4835b8d"
      },
      "execution_count": 29,
      "outputs": [
        {
          "output_type": "display_data",
          "data": {
            "text/html": [
              "<html>\n",
              "<head><meta charset=\"utf-8\" /></head>\n",
              "<body>\n",
              "    <div>            <script src=\"https://cdnjs.cloudflare.com/ajax/libs/mathjax/2.7.5/MathJax.js?config=TeX-AMS-MML_SVG\"></script><script type=\"text/javascript\">if (window.MathJax && window.MathJax.Hub && window.MathJax.Hub.Config) {window.MathJax.Hub.Config({SVG: {font: \"STIX-Web\"}});}</script>                <script type=\"text/javascript\">window.PlotlyConfig = {MathJaxConfig: 'local'};</script>\n",
              "        <script charset=\"utf-8\" src=\"https://cdn.plot.ly/plotly-2.24.1.min.js\"></script>                <div id=\"441289aa-9bf6-4d5a-a33e-4182a33da932\" class=\"plotly-graph-div\" style=\"height:525px; width:100%;\"></div>            <script type=\"text/javascript\">                                    window.PLOTLYENV=window.PLOTLYENV || {};                                    if (document.getElementById(\"441289aa-9bf6-4d5a-a33e-4182a33da932\")) {                    Plotly.newPlot(                        \"441289aa-9bf6-4d5a-a33e-4182a33da932\",                        [{\"coloraxis\":\"coloraxis\",\"name\":\"0\",\"x\":[\"W\\u003csub\\u003eE\\u003c\\u002fsub\\u003e[0]\",\"W\\u003csub\\u003eE\\u003c\\u002fsub\\u003e[1]\",\"W\\u003csub\\u003eE\\u003c\\u002fsub\\u003e[2]\",\"W\\u003csub\\u003eE\\u003c\\u002fsub\\u003e[3]\",\"W\\u003csub\\u003eE\\u003c\\u002fsub\\u003e[4]\",\"W\\u003csub\\u003eE\\u003c\\u002fsub\\u003e[5]\",\"W\\u003csub\\u003eE\\u003c\\u002fsub\\u003e[6]\",\"W\\u003csub\\u003eE\\u003c\\u002fsub\\u003e[7]\",\"W\\u003csub\\u003eE\\u003c\\u002fsub\\u003e[8]\",\"W\\u003csub\\u003eE\\u003c\\u002fsub\\u003e[9]\",\"W\\u003csub\\u003eE\\u003c\\u002fsub\\u003e[10]\",\"W\\u003csub\\u003eE\\u003c\\u002fsub\\u003e[11]\",\"W\\u003csub\\u003eE\\u003c\\u002fsub\\u003e[12]\",\"W\\u003csub\\u003eE\\u003c\\u002fsub\\u003e[13]\",\"W\\u003csub\\u003eE\\u003c\\u002fsub\\u003e[14]\",\"W\\u003csub\\u003eE\\u003c\\u002fsub\\u003e[15]\",\"W\\u003csub\\u003eE\\u003c\\u002fsub\\u003e[16]\",\"W\\u003csub\\u003eE\\u003c\\u002fsub\\u003e[17]\",\"W\\u003csub\\u003eE\\u003c\\u002fsub\\u003e[18]\",\"W\\u003csub\\u003eE\\u003c\\u002fsub\\u003e[19]\",\"W\\u003csub\\u003eE\\u003c\\u002fsub\\u003e[20]\",\"W\\u003csub\\u003eE\\u003c\\u002fsub\\u003e[21]\",\"W\\u003csub\\u003eE\\u003c\\u002fsub\\u003e[22]\",\"W\\u003csub\\u003eE\\u003c\\u002fsub\\u003e[23]\",\"W\\u003csub\\u003eE\\u003c\\u002fsub\\u003e[24]\",\"W\\u003csub\\u003eE\\u003c\\u002fsub\\u003e[25]\",\"W\\u003csub\\u003eE\\u003c\\u002fsub\\u003e[26]\",\"W\\u003csub\\u003eE\\u003c\\u002fsub\\u003e[27]\",\"W\\u003csub\\u003eE\\u003c\\u002fsub\\u003e[28]\",\"W\\u003csub\\u003eE\\u003c\\u002fsub\\u003e[29]\",\"W\\u003csub\\u003eE\\u003c\\u002fsub\\u003e[30]\",\"W\\u003csub\\u003eE\\u003c\\u002fsub\\u003e[31]\",\"W\\u003csub\\u003eE\\u003c\\u002fsub\\u003e[32]\",\"W\\u003csub\\u003eE\\u003c\\u002fsub\\u003e[33]\",\"W\\u003csub\\u003eE\\u003c\\u002fsub\\u003e[34]\",\"W\\u003csub\\u003eE\\u003c\\u002fsub\\u003e[35]\",\"W\\u003csub\\u003eE\\u003c\\u002fsub\\u003e[36]\",\"W\\u003csub\\u003eE\\u003c\\u002fsub\\u003e[37]\",\"W\\u003csub\\u003eE\\u003c\\u002fsub\\u003e[38]\",\"W\\u003csub\\u003eE\\u003c\\u002fsub\\u003e[39]\",\"W\\u003csub\\u003eE\\u003c\\u002fsub\\u003e[40]\",\"W\\u003csub\\u003eE\\u003c\\u002fsub\\u003e[41]\",\"W\\u003csub\\u003eE\\u003c\\u002fsub\\u003e[42]\",\"W\\u003csub\\u003eE\\u003c\\u002fsub\\u003e[43]\",\"W\\u003csub\\u003eE\\u003c\\u002fsub\\u003e[44]\",\"W\\u003csub\\u003eE\\u003c\\u002fsub\\u003e[45]\",\"W\\u003csub\\u003eE\\u003c\\u002fsub\\u003e[46]\",\"W\\u003csub\\u003eE\\u003c\\u002fsub\\u003e[47]\",\"W\\u003csub\\u003eE\\u003c\\u002fsub\\u003e[48]\",\"W\\u003csub\\u003eE\\u003c\\u002fsub\\u003e[49]\",\"W\\u003csub\\u003eE\\u003c\\u002fsub\\u003e[50]\",\"W\\u003csub\\u003eE\\u003c\\u002fsub\\u003e[51]\",\"W\\u003csub\\u003eE\\u003c\\u002fsub\\u003e[52]\",\"W\\u003csub\\u003epos\\u003c\\u002fsub\\u003e[0]\",\"W\\u003csub\\u003epos\\u003c\\u002fsub\\u003e[1]\",\"W\\u003csub\\u003epos\\u003c\\u002fsub\\u003e[2]\",\"W\\u003csub\\u003epos\\u003c\\u002fsub\\u003e[3]\",\"W\\u003csub\\u003epos\\u003c\\u002fsub\\u003e[4]\",\"W\\u003csub\\u003epos\\u003c\\u002fsub\\u003e[5]\",\"W\\u003csub\\u003epos\\u003c\\u002fsub\\u003e[6]\",\"W\\u003csub\\u003epos\\u003c\\u002fsub\\u003e[7]\",\"W\\u003csub\\u003epos\\u003c\\u002fsub\\u003e[8]\",\"W\\u003csub\\u003epos\\u003c\\u002fsub\\u003e[9]\",\"W\\u003csub\\u003epos\\u003c\\u002fsub\\u003e[10]\",\"W\\u003csub\\u003epos\\u003c\\u002fsub\\u003e[11]\"],\"y\":[\"W\\u003csub\\u003eE\\u003c\\u002fsub\\u003e[0]\",\"W\\u003csub\\u003eE\\u003c\\u002fsub\\u003e[1]\",\"W\\u003csub\\u003eE\\u003c\\u002fsub\\u003e[2]\",\"W\\u003csub\\u003eE\\u003c\\u002fsub\\u003e[3]\",\"W\\u003csub\\u003eE\\u003c\\u002fsub\\u003e[4]\",\"W\\u003csub\\u003eE\\u003c\\u002fsub\\u003e[5]\",\"W\\u003csub\\u003eE\\u003c\\u002fsub\\u003e[6]\",\"W\\u003csub\\u003eE\\u003c\\u002fsub\\u003e[7]\",\"W\\u003csub\\u003eE\\u003c\\u002fsub\\u003e[8]\",\"W\\u003csub\\u003eE\\u003c\\u002fsub\\u003e[9]\",\"W\\u003csub\\u003eE\\u003c\\u002fsub\\u003e[10]\",\"W\\u003csub\\u003eE\\u003c\\u002fsub\\u003e[11]\",\"W\\u003csub\\u003eE\\u003c\\u002fsub\\u003e[12]\",\"W\\u003csub\\u003eE\\u003c\\u002fsub\\u003e[13]\",\"W\\u003csub\\u003eE\\u003c\\u002fsub\\u003e[14]\",\"W\\u003csub\\u003eE\\u003c\\u002fsub\\u003e[15]\",\"W\\u003csub\\u003eE\\u003c\\u002fsub\\u003e[16]\",\"W\\u003csub\\u003eE\\u003c\\u002fsub\\u003e[17]\",\"W\\u003csub\\u003eE\\u003c\\u002fsub\\u003e[18]\",\"W\\u003csub\\u003eE\\u003c\\u002fsub\\u003e[19]\",\"W\\u003csub\\u003eE\\u003c\\u002fsub\\u003e[20]\",\"W\\u003csub\\u003eE\\u003c\\u002fsub\\u003e[21]\",\"W\\u003csub\\u003eE\\u003c\\u002fsub\\u003e[22]\",\"W\\u003csub\\u003eE\\u003c\\u002fsub\\u003e[23]\",\"W\\u003csub\\u003eE\\u003c\\u002fsub\\u003e[24]\",\"W\\u003csub\\u003eE\\u003c\\u002fsub\\u003e[25]\",\"W\\u003csub\\u003eE\\u003c\\u002fsub\\u003e[26]\",\"W\\u003csub\\u003eE\\u003c\\u002fsub\\u003e[27]\",\"W\\u003csub\\u003eE\\u003c\\u002fsub\\u003e[28]\",\"W\\u003csub\\u003eE\\u003c\\u002fsub\\u003e[29]\",\"W\\u003csub\\u003eE\\u003c\\u002fsub\\u003e[30]\",\"W\\u003csub\\u003eE\\u003c\\u002fsub\\u003e[31]\",\"W\\u003csub\\u003eE\\u003c\\u002fsub\\u003e[32]\",\"W\\u003csub\\u003eE\\u003c\\u002fsub\\u003e[33]\",\"W\\u003csub\\u003eE\\u003c\\u002fsub\\u003e[34]\",\"W\\u003csub\\u003eE\\u003c\\u002fsub\\u003e[35]\",\"W\\u003csub\\u003eE\\u003c\\u002fsub\\u003e[36]\",\"W\\u003csub\\u003eE\\u003c\\u002fsub\\u003e[37]\",\"W\\u003csub\\u003eE\\u003c\\u002fsub\\u003e[38]\",\"W\\u003csub\\u003eE\\u003c\\u002fsub\\u003e[39]\",\"W\\u003csub\\u003eE\\u003c\\u002fsub\\u003e[40]\",\"W\\u003csub\\u003eE\\u003c\\u002fsub\\u003e[41]\",\"W\\u003csub\\u003eE\\u003c\\u002fsub\\u003e[42]\",\"W\\u003csub\\u003eE\\u003c\\u002fsub\\u003e[43]\",\"W\\u003csub\\u003eE\\u003c\\u002fsub\\u003e[44]\",\"W\\u003csub\\u003eE\\u003c\\u002fsub\\u003e[45]\",\"W\\u003csub\\u003eE\\u003c\\u002fsub\\u003e[46]\",\"W\\u003csub\\u003eE\\u003c\\u002fsub\\u003e[47]\",\"W\\u003csub\\u003eE\\u003c\\u002fsub\\u003e[48]\",\"W\\u003csub\\u003eE\\u003c\\u002fsub\\u003e[49]\",\"W\\u003csub\\u003eE\\u003c\\u002fsub\\u003e[50]\",\"W\\u003csub\\u003eE\\u003c\\u002fsub\\u003e[51]\",\"W\\u003csub\\u003eE\\u003c\\u002fsub\\u003e[52]\",\"W\\u003csub\\u003epos\\u003c\\u002fsub\\u003e[0]\",\"W\\u003csub\\u003epos\\u003c\\u002fsub\\u003e[1]\",\"W\\u003csub\\u003epos\\u003c\\u002fsub\\u003e[2]\",\"W\\u003csub\\u003epos\\u003c\\u002fsub\\u003e[3]\",\"W\\u003csub\\u003epos\\u003c\\u002fsub\\u003e[4]\",\"W\\u003csub\\u003epos\\u003c\\u002fsub\\u003e[5]\",\"W\\u003csub\\u003epos\\u003c\\u002fsub\\u003e[6]\",\"W\\u003csub\\u003epos\\u003c\\u002fsub\\u003e[7]\",\"W\\u003csub\\u003epos\\u003c\\u002fsub\\u003e[8]\",\"W\\u003csub\\u003epos\\u003c\\u002fsub\\u003e[9]\",\"W\\u003csub\\u003epos\\u003c\\u002fsub\\u003e[10]\",\"W\\u003csub\\u003epos\\u003c\\u002fsub\\u003e[11]\"],\"z\":[[-5.495705604553223,1.1774810552597046,0.728169322013855,1.6304965019226074,0.23013806343078613,0.7254085540771484,-0.6271124482154846,-0.04654049873352051,3.3411765098571777,-0.614582359790802,0.03357648849487305,-0.25157880783081055,-0.013241440057754517,-0.3515532910823822,-1.771084189414978,1.246800422668457,1.2210772037506104,1.6446192264556885,-0.20109283924102783,1.6846163272857666,0.443558931350708,1.6456406116485596,1.0797123908996582,-0.09601613879203796,-0.5888335704803467,1.6138299703598022,1.9993205070495605,0.4144824147224426,0.4664499759674072,0.2925124168395996,0.29297006130218506,0.2786189913749695,0.3135319948196411,0.0993882417678833,0.4763774871826172,1.8125333786010742,0.7359867691993713,-0.9165647029876709,0.7485628128051758,0.9952636361122131,-1.343937873840332,0.14691519737243652,-0.2430190145969391,0.0160524845123291,-0.6879487037658691,1.2479979991912842,-0.23572587966918945,1.314530372619629,0.37961727380752563,-0.2808074951171875,0.5653854608535767,-2.1023380756378174,-2.033698558807373,-0.3915599584579468,12.15326976776123,-6.897435188293457,-4.9300737380981445,-1.0768407583236694,0.29559749364852905,1.9222724437713623,7.0491228103637695,0.031304776668548584,1.2523505687713623,0.29422494769096375,0.13593634963035583],[1.80864417552948,-1.3679134845733643,3.136850357055664,-1.0861923694610596,0.21183085441589355,-0.6138584613800049,0.8899887800216675,-1.229415774345398,-1.3997609615325928,-0.5230157375335693,0.6069083213806152,-0.09738683700561523,-0.10891693830490112,0.07603204250335693,0.20180845260620117,0.3254798650741577,-1.4108710289001465,-1.6790366172790527,-1.0587701797485352,-1.2533687353134155,-0.8572413921356201,-1.1015418767929077,0.1866370141506195,-0.8224316239356995,0.8827465772628784,-1.542616367340088,-0.7295181155204773,0.24199986457824707,0.5694400072097778,-0.9329227209091187,0.8262698650360107,-0.673352062702179,-0.2790188789367676,-0.751898467540741,-0.11033856868743896,-1.9135329723358154,-0.40266257524490356,1.5258609056472778,0.19010913372039795,-0.034001946449279785,-0.35054606199264526,-0.7034478187561035,-0.34495848417282104,-0.011167764663696289,1.1038340330123901,-0.35836759209632874,1.0849215984344482,-0.870781660079956,-0.11565002799034119,0.09205889701843262,-4.477793216705322,0.11484634876251221,-1.843808889389038,-2.355274200439453,-5.916989326477051,13.15926742553711,-4.8252410888671875,-0.59963458776474,-0.6674734354019165,-2.8054959774017334,-7.3465423583984375,-2.9858105182647705,-2.227038860321045,-0.8294714093208313,-0.7600720524787903],[0.6124520301818848,-0.9769798517227173,-4.8700337409973145,0.4253532886505127,-0.22663980722427368,0.35150080919265747,0.08091956377029419,2.639920711517334,-1.2622663974761963,0.9473410844802856,0.22784072160720825,2.105501413345337,1.2986271381378174,0.48275840282440186,2.764275312423706,-2.0637307167053223,0.4695758819580078,0.4179686903953552,2.362168073654175,0.09999346733093262,1.040937900543213,-0.4426051378250122,-1.5502222776412964,2.549773693084717,-0.000610053539276123,1.368110179901123,-0.11653947830200195,-1.2446157932281494,-1.068763017654419,0.5875224471092224,-1.2527199983596802,2.0405707359313965,0.3924521803855896,2.208301067352295,0.1312936544418335,1.3160020112991333,0.8115087747573853,-0.23488211631774902,-0.42743444442749023,-1.1143913269042969,3.490936756134033,1.5515543222427368,1.1025054454803467,0.028022274374961853,0.290865421295166,-0.5545438528060913,-1.131554126739502,0.9751240611076355,0.009995728731155396,0.06955063343048096,6.082729339599609,3.7864270210266113,4.521810531616211,3.007835865020752,-7.260168075561523,-9.024944305419922,18.754426956176758,2.8253417015075684,-0.8973578214645386,2.5850353240966797,-5.813931941986084,5.680810928344727,2.114365339279175,-1.1114096641540527,0.38677990436553955],[1.317386507987976,-0.19492217898368835,-0.470745712518692,-0.29176777601242065,-0.17632079124450684,0.06261063367128372,0.22646839916706085,0.2860371470451355,-0.5368232727050781,0.0014913976192474365,-0.06372223794460297,-0.09571331739425659,-0.12306825816631317,0.016363993287086487,0.30829498171806335,-0.27445322275161743,-0.19921855628490448,-0.0766875296831131,0.061123743653297424,-0.15850138664245605,-0.18088845908641815,0.0690193623304367,-0.3521999716758728,0.13291141390800476,0.043650977313518524,-0.19546562433242798,-0.3530384600162506,0.030314549803733826,0.025147773325443268,0.16953779757022858,-0.1212257593870163,-0.053755804896354675,0.025578338652849197,0.07974617183208466,-0.27248769998550415,-0.2513197958469391,-0.07779226452112198,0.09880734980106354,-0.1243128627538681,-0.17290571331977844,0.4289408326148987,0.01419813185930252,0.10167571902275085,-0.12150490283966064,-0.05068486928939819,-0.20584239065647125,0.026492774486541748,-0.4021681547164917,-0.04252675175666809,0.10395528376102448,0.20610648393630981,0.23205649852752686,0.46686041355133057,0.28926756978034973,-1.9371578693389893,0.38346171379089355,0.23976224660873413,-0.03351172059774399,0.7715013027191162,0.5861151218414307,-0.8661219477653503,0.13112908601760864,0.2982589900493622,0.7665234208106995,0.05718482285737991],[0.528648853302002,0.0031536854803562164,-0.04228218272328377,-0.21206317842006683,-0.4752591848373413,-0.035941243171691895,0.10521932691335678,-0.22568398714065552,-0.12265624105930328,-0.06972536444664001,-0.08618759363889694,-0.18400374054908752,0.00472906231880188,0.04049665480852127,0.1556588113307953,-0.19367845356464386,0.21228697896003723,0.09637297689914703,0.18921028077602386,0.03881035000085831,-0.48768365383148193,0.021936409175395966,0.0022102147340774536,-0.09376689046621323,0.19499936699867249,-0.01859162747859955,-0.011122085154056549,0.2801339626312256,0.23634979128837585,0.12254209816455841,0.260403573513031,0.1456574648618698,-0.13763132691383362,0.08466200530529022,0.15065044164657593,-0.2674773335456848,-0.2680702209472656,0.13000079989433289,-0.04228018969297409,0.368435263633728,0.19963936507701874,-0.14455632865428925,0.019383609294891357,-0.3077843487262726,0.059654876589775085,-0.027040578424930573,0.09975820034742355,-0.10257567465305328,-0.05212431773543358,-0.24230897426605225,-0.12404315173625946,0.11619032174348831,0.06899727880954742,0.049012940376996994,-1.0658824443817139,0.7498131990432739,-0.7093914151191711,0.30400705337524414,1.414318323135376,0.04611526429653168,-1.4201412200927734,0.08971153199672699,0.5296139121055603,0.43248093128204346,-0.04684535413980484],[0.8031866550445557,-0.3348464369773865,-0.24610233306884766,-0.13524553179740906,-0.03792693465948105,-0.2707676291465759,-0.08827707171440125,-0.2655864655971527,-0.10567546635866165,0.16097809374332428,0.11207479238510132,0.12084494531154633,-0.2588982582092285,0.00826231762766838,0.18017151951789856,-0.07015690207481384,-0.11373013257980347,-0.03493577241897583,0.2658734917640686,0.055915262550115585,0.03237207233905792,-0.15287381410598755,-0.13125717639923096,-0.04095814377069473,-0.12954483926296234,-0.060475610196590424,-0.04369889944791794,-0.09579774737358093,-0.1911495327949524,-0.07810425758361816,0.32196661829948425,0.16747663915157318,0.12488885223865509,0.010800395160913467,0.1459827721118927,-0.16070446372032166,-0.23907136917114258,0.007572785019874573,-0.09488368034362793,0.2637856900691986,0.20957273244857788,0.48098233342170715,0.2148209810256958,-0.05714339762926102,0.13258375227451324,-0.0056948792189359665,0.10410445183515549,0.21739405393600464,-0.009810447692871094,0.18888993561267853,0.07839474081993103,0.08309167623519897,0.25860270857810974,0.26760780811309814,-0.7629171013832092,-0.5691938400268555,-0.19213047623634338,0.21308818459510803,1.2675862312316895,1.229831337928772,-0.7768061757087708,0.07529956847429276,0.7413891553878784,0.7536699771881104,0.007762003690004349],[0.47229039669036865,-0.2072601020336151,-0.0024476051330566406,-0.0018750876188278198,-0.02152882143855095,0.00912417471408844,-0.5985714197158813,-0.13240857422351837,0.160817950963974,-0.3899221420288086,0.16027052700519562,0.04146522283554077,0.12268669158220291,0.33607715368270874,0.0916326642036438,-0.027499154210090637,-0.20490407943725586,0.51336270570755,-0.13657408952713013,0.19849303364753723,0.13452178239822388,-0.030709203332662582,0.36149823665618896,0.03116009384393692,0.312325119972229,0.20534412562847137,0.03540469706058502,0.4383307099342346,-0.1044890433549881,-0.10161712765693665,0.4181254506111145,-0.08015380054712296,0.45075052976608276,0.1242608055472374,0.38126736879348755,0.2349925935268402,-0.10029849410057068,-0.13587626814842224,0.465523898601532,0.07026675343513489,0.10472794622182846,0.4881191849708557,0.2679605185985565,0.07838840782642365,0.12239179015159607,0.24912519752979279,0.10529695451259613,0.18875572085380554,-0.05957167595624924,0.06762430816888809,-0.5954734086990356,-0.19613879919052124,-0.1705346256494522,-0.20424380898475647,-0.28846293687820435,0.17130404710769653,-1.782536506652832,0.027897030115127563,1.3990967273712158,1.9564690589904785,-1.0266426801681519,-0.4321482181549072,1.5661628246307373,1.0711791515350342,0.007834713906049728],[-0.27409812808036804,0.17583788931369781,-0.038057051599025726,0.18672263622283936,0.09771765768527985,0.024672653526067734,0.10466094315052032,-0.21232351660728455,-0.0433034747838974,-0.03578070551156998,-0.12521693110466003,0.032662540674209595,0.04379860311746597,-0.21279899775981903,0.08009327948093414,0.17330724000930786,-0.08316788077354431,-0.3681741952896118,0.39508241415023804,-0.4116312563419342,-0.17979462444782257,0.050842151045799255,-0.4350760877132416,-0.14295049011707306,-0.09047126770019531,-0.14566251635551453,-0.1261925846338272,-0.1517733335494995,-0.17285741865634918,-0.021192286163568497,-0.20001089572906494,0.1236727237701416,-0.016021758317947388,0.18341553211212158,-0.1100146621465683,-0.02512483298778534,0.0576171949505806,-0.13440437614917755,-0.1961650550365448,-0.2478821873664856,-0.07416912168264389,-0.29306748509407043,-0.2873421311378479,0.020556144416332245,-0.24510997533798218,-0.11465032398700714,-0.295209676027298,0.029716841876506805,0.2101277858018875,-0.1466880738735199,0.16590815782546997,0.3899466395378113,-0.012053385376930237,-0.09673261642456055,0.6003261208534241,0.16243383288383484,1.8057386875152588,0.16996783018112183,-2.274456739425659,-2.186005115509033,1.3415441513061523,0.0688307136297226,-1.4852874279022217,-1.2975741624832153,-0.02798294648528099],[1.1090948581695557,0.2813730537891388,-0.19898706674575806,-0.34799182415008545,-0.13302554190158844,0.025954976677894592,-0.31687742471694946,0.011482954025268555,-0.5257540345191956,0.056604065001010895,-0.3594832122325897,-0.10482695698738098,-0.3768776059150696,-0.04858195036649704,0.013088405132293701,-0.19370277225971222,-0.02253139019012451,0.14017075300216675,-0.05791698396205902,-0.04597187787294388,-0.03700190782546997,-0.08664505183696747,-0.11132781207561493,-0.14487619698047638,0.10015389323234558,-0.34282034635543823,-0.20406191051006317,0.14152288436889648,-0.19517679512500763,0.16785788536071777,-0.20407447218894958,-0.328998327255249,0.08468746393918991,-0.03816743195056915,-0.25291579961776733,-0.21995332837104797,-0.4222445487976074,-0.39938369393348694,-0.216364324092865,-0.27408498525619507,-0.33098286390304565,-0.023878566920757294,0.09902507811784744,-0.22458091378211975,-0.3082115650177002,-0.23127996921539307,-0.1535075157880783,-0.3278113901615143,0.19737008213996887,-0.1812659054994583,0.5031713843345642,-0.07280263304710388,0.2707832157611847,0.30402234196662903,-0.03773050382733345,-0.7351880073547363,-0.9879543781280518,0.04440465569496155,1.763853669166565,0.30611652135849,0.9789395332336426,0.28241315484046936,-0.20025718212127686,0.5671898126602173,0.07848963141441345],[0.45967766642570496,-0.41949498653411865,-0.03335317224264145,0.02299288660287857,0.029749885201454163,0.08125871419906616,0.2978352904319763,0.18909308314323425,-0.33946728706359863,-0.12037734687328339,-0.1834513545036316,-0.16567134857177734,0.2859155535697937,-0.09030114859342575,-0.09458376467227936,0.003683730959892273,-0.1911085546016693,-0.2291216105222702,0.2954803705215454,-0.4017782211303711,-0.12905782461166382,-0.04564327001571655,-0.20375904440879822,-0.10231532901525497,0.01149037480354309,-0.392108291387558,-0.36490410566329956,-0.36121565103530884,0.024123888462781906,-0.11047357320785522,-0.03240320831537247,0.0031008124351501465,-0.08145375549793243,0.22410883009433746,-0.29224422574043274,-0.29496923089027405,0.11306510120630264,0.1715613752603531,-0.0732104480266571,-0.19058984518051147,0.16923609375953674,-0.08495235443115234,0.11278741806745529,0.13706934452056885,-0.08412881195545197,-0.4265168607234955,-0.05236025154590607,-0.2613620162010193,0.08973917365074158,0.003748580813407898,-0.3534553647041321,0.5763056874275208,-0.019419819116592407,-0.2691083252429962,-0.8011928200721741,1.6238712072372437,1.8092151880264282,-0.04074546694755554,-2.5830960273742676,-1.9378098249435425,-0.2724827229976654,-0.3661971390247345,-1.1421583890914917,-0.9084804654121399,0.13103924691677094],[0.7462236881256104,0.08461938798427582,-0.528428316116333,-0.12542380392551422,-0.09567996859550476,0.004288807511329651,-0.05711005628108978,0.09704357385635376,-0.24764801561832428,0.10625866055488586,-0.09477058053016663,0.07759138941764832,-0.07154785841703415,0.14804810285568237,0.3619396984577179,-0.14511969685554504,0.08830919861793518,0.4784673750400543,0.2528013288974762,0.12236979603767395,0.07325103878974915,0.01625162363052368,0.17517989873886108,0.19376668334007263,0.31224918365478516,0.2743680775165558,0.160421222448349,0.1631111204624176,0.0961676836013794,0.3007725179195404,0.1848975270986557,0.06222265958786011,0.01878809928894043,0.2547866404056549,0.05839812755584717,0.004385143518447876,-0.30685532093048096,-0.5859032869338989,0.043830469250679016,0.11257452517747879,0.109538234770298,0.4562756419181824,0.2368813008069992,0.03013966977596283,-0.21823129057884216,0.30949050188064575,-0.15934978425502777,0.01480141282081604,0.11463236808776855,0.09003635495901108,0.6386703252792358,0.03798365592956543,0.6508215665817261,0.7145501375198364,-1.3089150190353394,-1.8712668418884277,-0.673147439956665,0.41858696937561035,3.221123456954956,2.8528192043304443,-1.2672505378723145,0.5969184637069702,2.112504005432129,1.8345897197723389,0.013101115822792053],[-0.05321244150400162,0.26090729236602783,0.13850608468055725,-0.006760105490684509,-0.05162547156214714,-0.03905129432678223,0.06718837469816208,0.10397818684577942,-0.0342157781124115,-0.06147471070289612,-0.15523265302181244,-0.2593444883823395,-0.09769503772258759,-0.28397703170776367,-0.30807942152023315,-0.07806151360273361,0.14069649577140808,0.02021028846502304,-0.018976867198944092,-0.23561488091945648,-0.1509099006652832,0.06009626388549805,-0.20150016248226166,-0.24993635714054108,-0.1539926379919052,-0.20738664269447327,-0.07506120204925537,-0.22524875402450562,-0.062083229422569275,0.0073332954198122025,-0.16634701192378998,-0.2828088402748108,-0.3034279942512512,-0.10818363726139069,-0.18216046690940857,-0.3351028859615326,0.002299492247402668,0.07395878434181213,-0.2402637004852295,-0.3328131437301636,-0.11399930715560913,-0.3884602189064026,-0.24286453425884247,-0.20204858481884003,-0.10655759274959564,-0.2430315613746643,-0.33265358209609985,-0.47248226404190063,-0.029931865632534027,-0.23219022154808044,0.474561870098114,0.3901064097881317,-0.10390863567590714,-0.20162875950336456,0.38285720348358154,0.5411291122436523,0.505294680595398,0.19026222825050354,-0.2513721287250519,-1.4020895957946777,0.54319828748703,0.39290717244148254,-1.620869517326355,-1.024938702583313,-0.04343704506754875],[-0.12797580659389496,-0.1419319212436676,-0.033506687730550766,-0.0793185755610466,-0.0878073051571846,0.06223641708493233,0.24415582418441772,0.12485578656196594,0.05675306171178818,0.022122208029031754,-0.1523762345314026,0.0811014324426651,0.15453612804412842,0.14327138662338257,0.33012712001800537,-0.14313200116157532,-0.09509076178073883,0.08060246706008911,0.23114973306655884,0.040081411600112915,0.0549633614718914,-0.08001679182052612,0.18362471461296082,0.1906973272562027,0.07060260325670242,0.12385198473930359,0.13451454043388367,-0.08617804944515228,0.12710854411125183,0.15653569996356964,0.21344637870788574,-0.027911722660064697,-0.10068228840827942,0.1501890867948532,-0.1090167984366417,-0.3287775218486786,0.04958880692720413,-0.0690879374742508,-0.09237292408943176,0.10263191908597946,0.25841015577316284,0.09359815716743469,0.19742512702941895,0.029404662549495697,0.032014526426792145,-0.0027513429522514343,-0.1809748113155365,-0.06786273419857025,0.06572070717811584,0.07352988421916962,0.193889319896698,0.46888279914855957,-0.16996392607688904,-0.22906938195228577,-0.22334520518779755,0.23966629803180695,0.788567066192627,0.42409077286720276,0.0035729408264160156,0.07901472598314285,-0.9764094948768616,0.24917636811733246,-0.3371361196041107,-0.19551542401313782,-0.08216261118650436],[0.21761563420295715,-0.07305093109607697,-0.2858138382434845,-0.025715231895446777,-0.14378070831298828,-0.02835477888584137,0.21073254942893982,-0.19419987499713898,-0.007068753242492676,-0.011759448796510696,-0.0024324804544448853,-0.023605065420269966,-0.20265308022499084,-0.48208925127983093,0.1371801793575287,0.2834300100803375,0.08915500342845917,0.18618737161159515,0.06608252972364426,-0.02689780481159687,-0.03566998243331909,-0.02290835976600647,-0.31789857149124146,0.20369061827659607,-0.09718868136405945,-0.14591747522354126,-0.05101746320724487,0.11933422833681107,0.025432202965021133,0.2546442151069641,0.006322741508483887,0.3840522766113281,0.09636582434177399,-0.020885955542325974,0.2154759019613266,-0.1091541200876236,-0.17454633116722107,-0.17526502907276154,-0.15007299184799194,-0.0009083449840545654,-0.01762424036860466,0.12404651939868927,0.057662930339574814,-0.06098335236310959,0.080169677734375,0.14106698334217072,0.015047580003738403,0.005395442247390747,0.14550678431987762,-0.252560019493103,0.5363712310791016,-0.2880571484565735,0.5045158863067627,0.6538996696472168,-0.7601814270019531,-0.7762771248817444,-0.8408963680267334,0.008530929684638977,2.2053744792938232,0.907339334487915,-0.30532196164131165,0.517798900604248,0.8494646549224854,0.8431922197341919,0.050661660730838776],[0.15884149074554443,0.23550817370414734,-0.02265206351876259,-0.06816796213388443,-0.0645332932472229,0.03249898552894592,0.044143471866846085,-0.09378094971179962,0.29138192534446716,-0.06413687765598297,0.38825178146362305,-0.4416144788265228,-0.30101287364959717,0.05400864779949188,-0.7996232509613037,0.3871471583843231,0.45988929271698,0.4172367453575134,-0.5276845693588257,-0.04368406534194946,0.28863900899887085,0.031010866165161133,0.1320544183254242,-0.3259918689727783,-0.18109261989593506,-0.1510777473449707,-0.015112057328224182,-0.03478533774614334,0.0911245346069336,0.04596003144979477,-0.14807136356830597,-0.19045256078243256,0.13591934740543365,-0.46380844712257385,0.2801853120326996,0.08470746129751205,0.3062284290790558,0.09921255707740784,-0.05696135759353638,0.2563799321651459,-0.22883117198944092,0.10899393260478973,0.07218576967716217,0.015117235481739044,0.2733483612537384,-0.37179315090179443,0.5222470164299011,-0.12161043286323547,0.09959498047828674,-0.0868089571595192,-0.46343228220939636,-1.0553494691848755,0.6077563166618347,0.49289748072624207,-0.2613779902458191,-0.780800461769104,-2.021914482116699,-0.7278935313224792,1.0141266584396362,0.6123390197753906,0.8925380110740662,-0.6469060182571411,1.7493507862091064,1.264001488685608,0.20958775281906128],[0.42348700761795044,-0.03144722431898117,0.017949581146240234,-0.23704934120178223,-0.11779226362705231,-0.05000622570514679,-0.1498998999595642,0.4230378568172455,-0.32244062423706055,0.21713398396968842,-0.17618906497955322,0.07118973135948181,0.06935858726501465,0.18464404344558716,0.13217902183532715,-0.758320152759552,-0.14581698179244995,0.2628166973590851,-0.15985384583473206,0.3546167016029358,-0.2064650058746338,-0.0708608478307724,0.31377241015434265,-0.007058745250105858,0.09098522365093231,0.17389003932476044,0.0677463486790657,0.2682703733444214,-0.1343930959701538,-0.11728006601333618,0.17679950594902039,-0.3756592571735382,-0.15684303641319275,0.24013960361480713,-0.11327473819255829,0.011880859732627869,-0.34854358434677124,0.009871840476989746,0.019265174865722656,0.02099515125155449,0.21464313566684723,0.06306082010269165,0.29095274209976196,-0.33284077048301697,0.06309834122657776,0.18539631366729736,0.035744503140449524,-0.2561681568622589,-0.30256035923957825,-0.08935559540987015,0.34980064630508423,0.18646347522735596,-0.07160677015781403,0.03911484777927399,-0.35258394479751587,-0.4162711501121521,-1.121640682220459,0.5838029384613037,3.234651803970337,1.5737125873565674,-1.2895166873931885,0.5225319862365723,0.3318662643432617,0.705920934677124,-0.07197049260139465],[0.31647244095802307,-0.10851074010133743,0.3332345485687256,0.031533777713775635,0.10509976744651794,-0.09614594280719757,-0.12578299641609192,-0.15718533098697662,-0.19849053025245667,0.08799048513174057,-0.08747804164886475,-0.011870920658111572,-0.23869936168193817,-0.006647869944572449,-0.0701482892036438,-0.13938456773757935,-0.46969377994537354,0.029211923480033875,-0.3157764673233032,0.34444645047187805,-0.21866023540496826,-0.2660386562347412,0.07365740090608597,-0.21285735070705414,0.021177828311920166,0.0032821595668792725,0.10278208553791046,0.35083746910095215,-0.008313000202178955,0.016587283462285995,0.25865375995635986,-0.13199059665203094,0.08050510287284851,0.002769291400909424,-0.10036617517471313,-0.09866383671760559,-0.496174156665802,-0.16438345611095428,-0.0422649085521698,0.04172902554273605,-0.5921998620033264,0.3341427743434906,0.0008445568382740021,0.040650397539138794,-0.037728965282440186,0.2977410554885864,0.1211521178483963,-0.18632656335830688,0.18196719884872437,-0.1944345235824585,-0.026681825518608093,-0.20531851053237915,-0.4827826917171478,-0.15767395496368408,0.5743726491928101,0.37371909618377686,-3.2898921966552734,0.21771636605262756,3.3061556816101074,1.6542682647705078,-0.29745545983314514,-0.07215287536382675,0.06205601990222931,0.8475933074951172,-0.20505090057849884],[1.1893094778060913,0.19008740782737732,-0.18556064367294312,-0.4124792218208313,-0.045034077018499374,-0.3131934106349945,0.24451228976249695,-0.3715013265609741,-0.2549973130226135,0.456054151058197,0.3326572775840759,-0.0028950273990631104,-0.7215632200241089,-0.025766119360923767,-0.06326878070831299,0.1614992469549179,-0.17065593600273132,-0.250812292098999,-0.3506864011287689,0.20059004426002502,0.09013298153877258,-0.022038660943508148,-0.2559277415275574,-0.05834294855594635,-0.15825755894184113,-0.09818947315216064,-0.15081185102462769,0.031980469822883606,0.029528707265853882,0.2787892520427704,0.14499136805534363,0.19946938753128052,0.23716674745082855,-0.6420753598213196,0.11093881726264954,-0.01888495683670044,-0.3867669701576233,-0.08757787942886353,-0.21268540620803833,0.24569587409496307,-0.35869693756103516,0.22121116518974304,0.07863730192184448,0.3441731631755829,0.033687524497509,0.24927085638046265,0.48546698689460754,-0.03444972634315491,-0.09778785705566406,0.3548288643360138,-0.33219626545906067,-1.4288859367370605,0.8604991436004639,1.0874375104904175,-1.3197579383850098,-1.4610083103179932,-3.777454137802124,-0.7736379504203796,3.9520058631896973,2.1417603492736816,0.8891706466674805,-0.5144543647766113,2.5807604789733887,2.7988390922546387,0.04500735551118851],[0.4325605034828186,0.26583394408226013,-0.8000707030296326,-0.3444488048553467,-0.07213959097862244,-0.030961014330387115,-0.18246550858020782,0.0023927390575408936,0.10047470033168793,0.13977064192295074,0.544048011302948,0.05794704705476761,-0.12291064858436584,0.4132767915725708,0.04092375189065933,-0.013544440269470215,0.39162155985832214,0.4588783383369446,-0.48325201869010925,0.4122783839702606,0.5475709438323975,-0.1916712522506714,0.3931626081466675,0.18927182257175446,0.025281086564064026,0.17705953121185303,-0.1330266296863556,0.26666831970214844,-0.08366093039512634,0.3666924834251404,-0.03404897451400757,-0.12109272181987762,0.1966705024242401,-0.27748286724090576,0.3824112117290497,0.39994850754737854,0.016267573460936546,-0.006589144468307495,0.17626672983169556,0.4173923432826996,0.2106722891330719,0.4532739520072937,0.550674319267273,-0.08184239268302917,0.3636276423931122,-0.040697067975997925,0.5810846090316772,0.1533808410167694,-0.21160376071929932,0.2512979805469513,0.1199866533279419,-0.5709888935089111,0.6968361735343933,0.6667817831039429,-1.3980023860931396,-1.4715750217437744,-1.236385464668274,-0.06794877350330353,2.348881483078003,2.3864951133728027,-0.486686646938324,0.05931486189365387,2.5634632110595703,1.8705997467041016,0.17584462463855743],[0.03087194263935089,0.03733460605144501,0.9542728662490845,-0.1604207307100296,0.012049540877342224,-0.11777915805578232,0.0796455591917038,-0.523199200630188,0.02327854186296463,-0.10886703431606293,0.15323227643966675,-0.32972609996795654,-0.3005407154560089,-0.09686218202114105,-0.4906053841114044,0.513863205909729,-0.0017183274030685425,-0.2292456030845642,-0.14548492431640625,-0.3582601547241211,-0.13418328762054443,0.15602104365825653,-0.08362846821546555,-0.3270350992679596,0.06906966865062714,-0.24944394826889038,-0.1614380180835724,0.0017034858465194702,0.30270954966545105,-0.304168164730072,-0.0045937299728393555,-0.13233834505081177,-0.16004079580307007,-0.595151424407959,-0.012834608554840088,-0.3477799892425537,0.08662964403629303,-0.14631903171539307,-0.0453474223613739,-0.03286972641944885,-0.39214175939559937,-0.41808804869651794,-0.30855607986450195,0.21405968070030212,-0.10931149125099182,0.04348763823509216,0.13712505996227264,0.06648363173007965,0.197152778506279,0.17799659073352814,-0.8925448656082153,-0.8092193603515625,-0.2970253825187683,-0.21270620822906494,0.6336520910263062,0.940960705280304,-2.63232421875,-0.7456230521202087,0.17931580543518066,-0.9430956244468689,1.4130487442016602,-0.9181067943572998,-0.18567116558551788,0.37222301959991455,-0.03774338215589523],[0.06364913284778595,0.04974773898720741,0.010924503207206726,-0.03629189729690552,-0.17046943306922913,-0.062127504497766495,0.37229639291763306,0.039424777030944824,-0.37410053610801697,0.1768130660057068,-0.2905436158180237,0.07096576690673828,0.11537089198827744,-0.0020708926022052765,0.26609158515930176,-0.4326624274253845,-0.09283994138240814,-0.16938605904579163,0.1596105992794037,-0.06521381437778473,-0.3796258866786957,-0.027721375226974487,0.11370990425348282,0.01655154675245285,0.13876433670520782,-0.009207166731357574,0.02754451334476471,0.032470397651195526,0.0671362578868866,-0.10498624294996262,0.2811225354671478,0.06706266105175018,-0.4195984899997711,0.33266276121139526,-0.04452430456876755,-0.34589195251464844,-0.36541080474853516,0.16009092330932617,-0.19396841526031494,0.10720963031053543,0.3249897360801697,-0.12810823321342468,-0.14304062724113464,-0.18986067175865173,-0.03475502133369446,0.17291809618473053,-0.1282201111316681,0.0007004290819168091,-0.15444913506507874,-0.10059933364391327,0.1545390784740448,0.5202457904815674,0.111153244972229,-0.010878235101699829,-1.0783413648605347,0.5078558921813965,0.6412886381149292,0.6246052384376526,0.9918017983436584,-0.17108535766601562,-1.8934822082519531,0.4014454483985901,-0.12300196290016174,0.0025880038738250732,-0.12647102773189545],[0.03957962989807129,-0.21293753385543823,0.5284918546676636,-0.1779930591583252,0.24048133194446564,-0.24744485318660736,-0.2789831757545471,-0.03946081921458244,-0.3814871907234192,0.03314060717821121,0.11854176223278046,0.40241777896881104,-0.1418525129556656,0.2168722301721573,0.06511175632476807,-0.1982361078262329,-0.4983772039413452,-0.1937839537858963,-0.2862558364868164,0.17713306844234467,0.23598799109458923,-0.4075154662132263,0.25709807872772217,0.04904474318027496,0.0921708196401596,0.016951873898506165,-0.1700204461812973,0.07304701954126358,-0.28510183095932007,-0.2768518328666687,0.20887213945388794,-0.26513803005218506,-0.029760517179965973,-0.0076588839292526245,0.06785453110933304,-0.00800766795873642,-0.22651325166225433,-0.10069490969181061,0.015375703573226929,-0.07769709825515747,-0.03194686025381088,0.3047124743461609,0.09840282052755356,0.09564130008220673,0.2608514130115509,0.14452065527439117,0.07915854454040527,0.16945061087608337,0.04414111375808716,0.22711774706840515,-0.14113575220108032,0.2664855122566223,-0.4651067554950714,-0.46496063470840454,-0.07826259732246399,0.7371989488601685,-0.8370230197906494,0.40822428464889526,1.5824214220046997,0.6698492765426636,-1.2863569259643555,0.004003532230854034,-0.36162126064300537,-0.18149101734161377,-0.20837140083312988],[0.9652274250984192,-0.11790372431278229,-0.0968635231256485,-0.3143084943294525,-0.1960018277168274,-0.05745138227939606,0.03534911200404167,-0.3495537340641022,0.005983695387840271,0.21176710724830627,0.19993792474269867,-0.12054917216300964,-0.18414749205112457,-0.04594703018665314,0.19911354780197144,0.06769393384456635,0.03446018695831299,0.14706560969352722,0.062104322016239166,0.25727948546409607,-0.20429164171218872,0.1956310123205185,-0.3203100264072418,-0.07952705770730972,-0.054615139961242676,-0.2202577143907547,0.023140713572502136,0.3382036089897156,0.19682905077934265,0.37652885913848877,0.320656418800354,0.2455885112285614,0.4457542598247528,-0.17645147442817688,0.15070615708827972,0.026837080717086792,-0.259247362613678,0.22956697642803192,0.06656458973884583,0.36821967363357544,-0.28439486026763916,0.0939425528049469,0.08939529955387115,-0.030089426785707474,-0.2766544222831726,-0.0001902952790260315,0.335380494594574,-0.4211744964122772,-0.13536599278450012,-0.02041199430823326,-0.04825497046113014,-0.6600832343101501,0.24740654230117798,0.5194835066795349,-0.7917104959487915,-0.5772538185119629,-2.7627005577087402,-0.42813608050346375,3.085078239440918,1.9517126083374023,-0.11739568412303925,-0.10046634078025818,1.5611505508422852,1.8180468082427979,0.037007857114076614],[0.3774164915084839,0.430216908454895,0.5224499702453613,-0.1533164381980896,-0.088251493871212,-0.2772674560546875,0.07483178377151489,-0.07424506545066833,-0.3125755190849304,0.012933269143104553,-0.3217447102069855,-0.44769978523254395,-0.28642696142196655,-0.25107449293136597,-0.6696094274520874,-0.0776282548904419,-0.10734856128692627,-0.4057278633117676,-0.15217366814613342,-0.2764280140399933,-0.3149568438529968,0.10120202600955963,-0.2698366641998291,-0.6738942861557007,-0.2905718982219696,-0.41135531663894653,-0.30927589535713196,-0.22828739881515503,-0.18171440064907074,-0.33997032046318054,-0.3325875699520111,-0.4629261791706085,-0.31214526295661926,-0.37062424421310425,-0.22001811861991882,-0.2222977578639984,0.027517981827259064,0.012938201427459717,-0.3849574327468872,-0.15423765778541565,-0.4443589448928833,-0.7213778495788574,-0.3110803961753845,-0.007720455527305603,-0.20978522300720215,-0.4193536043167114,-0.017222590744495392,-0.5195297598838806,-0.09748773276805878,-0.23561809957027435,-0.37112754583358765,-0.37302178144454956,-0.022123068571090698,-0.08852989971637726,1.0769413709640503,0.574536919593811,-0.6549582481384277,-0.5157137513160706,-1.5302472114562988,-2.6264240741729736,2.8567681312561035,-0.5994160771369934,-1.56931734085083,-0.852613091468811,0.16651079058647156],[-0.47692400217056274,-0.19315789639949799,0.5032467246055603,-0.011057257652282715,0.07495516538619995,-0.13487468659877777,-0.045794226229190826,-0.14173486828804016,0.3417883515357971,0.14468668401241302,0.5078669786453247,0.2907904088497162,-0.14533032476902008,0.08606273680925369,-0.09871353209018707,0.20760148763656616,-0.0003977343440055847,0.3804559111595154,-0.29880601167678833,0.4818921685218811,0.23008780181407928,0.018256790935993195,0.23623037338256836,0.06805823743343353,0.03241932392120361,0.2835223078727722,0.3047947883605957,0.39113378524780273,0.09289722144603729,0.05461788922548294,0.35118886828422546,0.14796078205108643,0.24122002720832825,-0.15723493695259094,0.48335087299346924,0.3932853937149048,0.006575427949428558,0.029755622148513794,0.2233957052230835,0.4138893485069275,0.04443344473838806,0.4010361433029175,0.22584429383277893,0.015894189476966858,0.4467277228832245,0.4852171242237091,0.4901196360588074,0.2909518778324127,-0.12077564001083374,0.16291522979736328,-0.23917518556118011,-0.8157178163528442,0.02986392378807068,0.30804646015167236,-0.11047455668449402,-1.2237656116485596,-2.9461474418640137,-0.009181857109069824,4.348540782928467,3.1342263221740723,-1.638746738433838,0.05984853208065033,2.3116555213928223,1.8480143547058105,-0.16332635283470154],[1.287202000617981,-0.05093355476856232,0.4632589817047119,-0.382476806640625,-0.10120850801467896,-0.07269737124443054,0.20178616046905518,-0.2880861759185791,-0.5575516223907471,0.09032231569290161,0.26440322399139404,-0.26077091693878174,-0.3900420367717743,-0.15441925823688507,-0.2969922423362732,0.26375335454940796,-0.21654197573661804,-0.17021125555038452,-0.3577636778354645,-0.312794029712677,-0.1466015875339508,-0.16360464692115784,-0.2876754403114319,-0.45073163509368896,0.15316826105117798,-0.6557813286781311,-0.4360171854496002,0.19510804116725922,-0.004027605056762695,0.12670354545116425,-0.18008270859718323,-0.36222290992736816,0.2516329884529114,-0.44296351075172424,-0.09829819202423096,-0.291375070810318,-0.242964506149292,0.03235231339931488,-0.1998027265071869,-0.09715023636817932,-0.5364880561828613,-0.21243418753147125,0.020266279578208923,0.007858842611312866,0.005948424339294434,-0.38664817810058594,0.4457322955131531,-0.596619725227356,0.1934383064508438,-0.033588796854019165,-0.674074649810791,-0.5871403217315674,0.10875492542982101,0.11814002692699432,-1.3500895500183105,1.3829591274261475,-2.7899813652038574,-0.4714491665363312,1.9977997541427612,0.16367267072200775,-0.05474371090531349,-0.6291071772575378,0.46426934003829956,0.9433712959289551,-0.00356476753950119],[0.4622429311275482,-0.1166907325387001,0.10529220849275589,-0.11302243173122406,-0.24761123955249786,-0.03823333606123924,-0.002074882388114929,-0.18917331099510193,-0.467399924993515,0.10854911804199219,0.37577518820762634,-0.011836707592010498,0.04384171962738037,0.1442682445049286,0.16066698729991913,-0.05048638582229614,-0.1750950813293457,0.10693371295928955,-0.1820705533027649,-0.027548350393772125,-0.0574946403503418,-0.1576249897480011,0.08592221140861511,-0.05242137610912323,0.16811618208885193,-0.15343861281871796,-0.4649684727191925,0.38112887740135193,-0.07364004850387573,-0.01943279057741165,0.30051320791244507,-0.2264692485332489,0.2830732464790344,0.06669426709413528,0.2837459444999695,-0.1740676313638687,-0.3062770664691925,0.3448171317577362,0.07555174827575684,0.2982456088066101,0.21805064380168915,0.2581990361213684,0.2838362753391266,-0.05639645457267761,0.23247769474983215,-0.25910866260528564,0.6054030656814575,0.12576961517333984,0.0845116525888443,0.2995043396949768,-0.8199439644813538,-0.07501280307769775,0.09759551286697388,-0.06714479625225067,-1.7060264348983765,1.3340257406234741,-1.0801223516464233,-0.056995246559381485,0.872862696647644,0.6371519565582275,-1.641376256942749,-0.552193284034729,1.0175673961639404,0.7271774411201477,-0.03644303232431412],[0.060623735189437866,-0.14987748861312866,0.23442977666854858,-0.21218985319137573,0.06718888878822327,-0.121088407933712,0.19524505734443665,-0.04109436646103859,-0.11987917125225067,0.0045423805713653564,0.08114781975746155,-0.012944325804710388,-0.21931575238704681,-0.158878356218338,0.07930269092321396,0.025843270123004913,-0.13583023846149445,-0.0672171413898468,-0.06874002516269684,0.05199706554412842,0.15077999234199524,0.05127713084220886,-0.21782034635543823,0.09562775492668152,-0.009688243269920349,-0.06627485156059265,0.06760210543870926,-0.1583249866962433,0.04108453169465065,-0.13857300579547882,0.13247613608837128,-0.04352883994579315,-0.0023402348160743713,-0.2389860302209854,-0.18666666746139526,-0.08374682813882828,0.10049966722726822,0.019978757947683334,0.07107645273208618,-0.024065904319286346,-0.06452551484107971,-0.037671204656362534,0.10047483444213867,0.05441533774137497,0.10468138754367828,0.005216879770159721,0.06666828691959381,-0.07880792021751404,-0.13184575736522675,0.20810022950172424,-0.08355492353439331,-0.03138163685798645,-0.20520728826522827,-0.1206345409154892,-0.16125313937664032,0.49587035179138184,-1.1109960079193115,-0.03848409652709961,1.4604425430297852,0.43690556287765503,-0.49916157126426697,-0.020901042968034744,-0.2270628660917282,0.2790939211845398,-0.1191864013671875],[0.8399293422698975,-0.3970455527305603,-0.17604824900627136,-0.11801572144031525,0.06644663214683533,-0.23956438899040222,0.11611062288284302,-0.09497798979282379,-0.3223438560962677,0.11082540452480316,0.33592209219932556,0.3500649034976959,0.15207025408744812,-0.05806173384189606,0.3561342656612396,-0.04295426607131958,-0.3652813732624054,-0.10257291793823242,0.20869767665863037,-0.01935315877199173,0.038927093148231506,-0.13300538063049316,0.01795779913663864,0.04272928833961487,0.18739007413387299,-0.02299576997756958,-0.38898977637290955,0.015672773122787476,-0.18297159671783447,0.037240952253341675,0.4597482681274414,0.04243980348110199,0.2189117670059204,0.25129175186157227,0.39073508977890015,-0.07754422724246979,-0.35104238986968994,0.24568487703800201,0.31131744384765625,0.20752644538879395,0.463523268699646,0.36900460720062256,0.34002530574798584,0.14337360858917236,0.2680392861366272,0.09561728686094284,0.44615527987480164,0.062141887843608856,-0.23646721243858337,0.4648491144180298,-0.6837720274925232,-0.00771569088101387,0.32640913128852844,0.1730625331401825,-2.2541980743408203,0.792610764503479,-0.26597219705581665,-0.013534504920244217,0.8131115436553955,1.251193881034851,-2.073960542678833,-0.3541730046272278,1.6009479761123657,1.1127278804779053,-0.018722491338849068],[0.2078876942396164,-0.06479895114898682,0.648063063621521,0.09532096982002258,0.2855961322784424,-0.1535324901342392,-0.10121478140354156,-0.5999698638916016,0.27489954233169556,0.027853336185216904,0.34317830204963684,-0.1861478090286255,-0.08233122527599335,0.08339221775531769,-0.48094508051872253,0.45170724391937256,-0.17816266417503357,-0.14922209084033966,-0.2837679386138916,-0.2253648042678833,0.09623897075653076,-0.13179108500480652,0.24365800619125366,-0.6204692721366882,-0.09569196403026581,-0.21702782809734344,-0.12648622691631317,-0.025504566729068756,-0.019117161631584167,-0.2780311107635498,0.16951832175254822,-0.4172765016555786,0.14828051626682281,-0.34045061469078064,0.15576116740703583,0.01688632369041443,0.011629447340965271,-0.023821473121643066,0.15135781466960907,0.166950523853302,-0.5519895553588867,0.04347716271877289,-0.018864914774894714,0.23425139486789703,0.06628367304801941,0.16510401666164398,0.3242431581020355,0.07892628014087677,-0.19553878903388977,0.2674016058444977,-1.2331584692001343,-0.8103513717651367,-0.35809552669525146,-0.31068164110183716,0.6052420735359192,0.9537370204925537,-2.6069955825805664,-0.650516152381897,-0.41534310579299927,0.13568001985549927,0.9630921483039856,-1.2014362812042236,0.6108303666114807,0.7431083917617798,-0.009826324880123138],[0.5120779871940613,-0.018767207860946655,0.23571480810642242,-0.18289124965667725,-0.2469596266746521,0.14443819224834442,-0.26912155747413635,0.1511385589838028,-0.01116257905960083,0.058952972292900085,0.32517746090888977,0.03666333854198456,-0.005145430564880371,0.30297133326530457,-0.1740235835313797,0.010298110544681549,0.07236708700656891,0.3150356411933899,-0.34420302510261536,0.2742493450641632,0.11279696226119995,0.009230457246303558,0.11548268795013428,-0.0999070405960083,0.19132676720619202,0.06690391898155212,-0.13076886534690857,0.38208937644958496,0.26328808069229126,0.09936918318271637,-0.3490852415561676,-0.1123918890953064,0.37658774852752686,-0.3064350187778473,0.17446911334991455,0.5179621577262878,0.15738549828529358,-0.18329662084579468,0.04374334216117859,0.0387994647026062,-0.2251439392566681,-0.10970358550548553,0.08005572855472565,0.21962743997573853,0.11568094789981842,-0.021552160382270813,0.3217768669128418,-0.07306283712387085,0.037410274147987366,0.022718220949172974,-0.3783741891384125,-0.9174780249595642,0.13024163246154785,0.13066217303276062,0.0029593706130981445,-0.9315037131309509,-1.921669602394104,-0.5268473625183105,1.6589690446853638,1.3082369565963745,0.45990797877311707,-0.44641929864883423,1.6716153621673584,0.9603104591369629,0.16067200899124146],[-0.2680378258228302,0.07192220538854599,0.6396355628967285,0.053431496024131775,0.17272266745567322,-0.002316102385520935,-0.20857539772987366,-0.23996324837207794,0.1734820008277893,0.13908091187477112,0.1148085743188858,-0.12157532572746277,-0.1889667809009552,0.17876151204109192,-0.3141748309135437,0.0738103836774826,-0.09028896689414978,0.2332940548658371,-0.18067720532417297,-0.20144638419151306,0.09602156281471252,-0.12009274214506149,0.5289525985717773,-0.28896424174308777,0.06540497392416,-0.00810001790523529,-0.17396803200244904,-0.02742791175842285,0.030158184468746185,-0.23411120474338531,0.1487734317779541,-0.6893763542175293,-0.11124759167432785,-0.0035032182931900024,0.14281481504440308,-0.18477773666381836,-0.19192269444465637,-0.20479482412338257,0.17052330076694489,0.3534848690032959,-0.17157703638076782,0.17819352447986603,0.21631325781345367,0.006358891725540161,0.05282590165734291,0.04501175880432129,0.040042102336883545,0.13140559196472168,0.12620006501674652,0.35542261600494385,-0.7800472974777222,-0.20392170548439026,-0.34819191694259644,-0.3488943576812744,0.27380847930908203,0.825996994972229,-1.5167524814605713,0.10417282581329346,0.24935954809188843,0.6272201538085938,-0.38192373514175415,-0.6500625610351562,0.25839829444885254,0.19186770915985107,-0.06544537842273712],[0.05994290113449097,0.20638081431388855,0.24927011132240295,-0.13938918709754944,-0.12376318871974945,-0.08012712001800537,-0.3479384481906891,-0.23041009902954102,0.20400205254554749,0.005314655601978302,0.054279714822769165,-0.22553706169128418,-0.3655666708946228,0.14501027762889862,-0.139962837100029,0.08175192773342133,0.2807174324989319,0.28943783044815063,-0.19620352983474731,-0.10639186948537827,0.24945010244846344,-0.13106906414031982,0.25552013516426086,-0.10912687331438065,-0.1370840072631836,0.08363007009029388,0.06289514899253845,0.022727102041244507,-0.09793941676616669,-0.031109735369682312,0.08997746556997299,-0.24844159185886383,-0.06901921331882477,-0.3201618492603302,0.32783257961273193,0.031048133969306946,-0.056166425347328186,-0.1775071918964386,0.07031084597110748,0.19615481793880463,-0.041837260127067566,0.1347918063402176,0.05555008724331856,-0.06692945957183838,0.141569584608078,0.09299776703119278,-0.06004910171031952,0.2473260909318924,-0.12556377053260803,0.17735840380191803,-0.19017840921878815,-0.4909549653530121,0.09318161755800247,0.1431380957365036,0.024618245661258698,-0.524283230304718,-1.217834234237671,-0.11386501789093018,0.9207213521003723,0.8374250531196594,0.3004416525363922,-0.21215903759002686,0.6712687015533447,0.7307852506637573,-0.0023499689996242523],[0.3055630922317505,0.1725756973028183,-0.248779296875,-0.09211064875125885,0.12304789572954178,-0.11702906340360641,0.14506453275680542,-0.12900857627391815,0.09796028584241867,0.18601994216442108,0.16772708296775818,-0.03990865871310234,-0.14598508179187775,0.1717791110277176,0.07563971728086472,0.2744406759738922,0.33411508798599243,0.04396021366119385,-0.3535826802253723,-0.06458048522472382,0.310366690158844,-0.20065028965473175,0.08477902412414551,0.07375244796276093,-0.1351611614227295,-0.08755559474229813,-0.10456234216690063,-0.033816635608673096,-0.19254806637763977,0.1158071756362915,-0.03820352256298065,-0.14888843894004822,0.040575526654720306,-0.5531002283096313,0.13830772042274475,0.002813570201396942,0.24433641135692596,0.1323857307434082,-0.08447777479887009,0.07490191608667374,-0.007021857425570488,-0.07296302914619446,0.10588003695011139,0.08461292088031769,0.21608933806419373,-0.2416875809431076,0.25422215461730957,-0.185124009847641,-0.18881969153881073,0.3279174566268921,-0.00026113539934158325,-0.20933885872364044,0.3741440176963806,0.25849834084510803,-0.7893005609512329,-0.29242345690727234,-0.19923615455627441,-0.16626080870628357,0.5112009048461914,0.34199094772338867,-0.014415085315704346,-0.02588113397359848,0.5431509017944336,0.5252431035041809,0.09721420705318451],[0.8266249895095825,0.32736003398895264,-0.053310051560401917,-0.27366578578948975,0.02801213413476944,0.09414171427488327,0.1356973946094513,0.14232736825942993,-0.23215028643608093,0.1754896640777588,-0.1664445698261261,-0.2537229657173157,-0.3626333773136139,-0.0281762033700943,-0.12649628520011902,0.005492718890309334,0.06516295671463013,-0.16124731302261353,-0.26169663667678833,-0.14836406707763672,-0.04910273849964142,-0.021487541496753693,-0.15314386785030365,-0.26784223318099976,-0.10404448211193085,-0.18136882781982422,0.015581339597702026,-0.062312543392181396,0.062255859375,0.37564319372177124,-0.45128995180130005,-0.259127676486969,-0.1118566021323204,-0.4129728674888611,-0.475250244140625,-0.024673942476511,-0.10406656563282013,-0.33689019083976746,-0.2530049979686737,-0.35110682249069214,-0.584668755531311,-0.33372077345848083,-0.27893757820129395,0.0669131651520729,-0.34273892641067505,-0.04734562709927559,-0.1664399802684784,-0.5818555951118469,-0.11403069645166397,-0.09936013072729111,0.2893059253692627,-0.4948342442512512,0.3042484521865845,0.31750085949897766,-0.00013935193419456482,-0.5953925848007202,-1.2316640615463257,-0.39240601658821106,0.6693187355995178,-0.05340924859046936,2.097604274749756,-0.1652056723833084,-0.10660519450902939,0.5552746057510376,0.09094221889972687],[0.3407449424266815,0.13289250433444977,0.591020405292511,-0.011724522337317467,0.09794852137565613,-0.06945204734802246,0.40329697728157043,-0.21187788248062134,-0.30905207991600037,0.04471635818481445,-0.4661249816417694,-0.20919394493103027,-0.364678293466568,-0.325590044260025,-0.1420220285654068,0.18797707557678223,-0.23686550557613373,-0.45266270637512207,-0.07440254092216492,-0.33912038803100586,-0.27030864357948303,-0.029383257031440735,-0.2675326466560364,-0.23517802357673645,0.06563389301300049,-0.334942102432251,0.021318264305591583,-0.17529316246509552,0.072000652551651,-0.010510791093111038,-0.03842154145240784,-0.21416160464286804,-0.3786880075931549,-0.2810456454753876,-0.47875428199768066,-0.6215370893478394,-0.2323550134897232,-0.15274910628795624,-0.33700886368751526,-0.21141062676906586,-0.5596092939376831,-0.5096714496612549,-0.5104610919952393,0.13511213660240173,-0.2944396436214447,0.0384654738008976,-0.39388376474380493,-0.38361498713493347,0.14267981052398682,0.035174667835235596,-0.3245665431022644,0.15158654749393463,-0.598486065864563,-0.46458131074905396,0.5253403782844543,1.370811939239502,-1.287825345993042,0.20197205245494843,0.3764708638191223,-1.0489954948425293,0.45697999000549316,-0.3695257604122162,-1.6670345067977905,-0.6604942679405212,-0.19457168877124786],[0.6826678514480591,0.05635139346122742,-0.38696596026420593,-0.13057203590869904,-0.16656215488910675,-0.21625468134880066,-0.16026857495307922,-0.0927467942237854,-0.4353240728378296,0.0011878199875354767,-0.2653961181640625,0.13447900116443634,-0.023109151050448418,-0.20254382491111755,0.543412446975708,-0.23876582086086273,-0.2713708281517029,-0.09075123816728592,0.10401065647602081,-0.013894855976104736,-0.11619890481233597,-0.2586210072040558,0.09758362174034119,0.1430833339691162,0.21038885414600372,0.04120635613799095,-0.26639875769615173,0.12384030222892761,-0.3410018980503082,0.19389104843139648,0.30267155170440674,-0.022488757967948914,-0.09580269455909729,0.3449510335922241,0.13906097412109375,-0.22166171669960022,-0.7326196432113647,-0.2066497802734375,0.046326227486133575,-0.12020930647850037,0.13897719979286194,0.2605217397212982,0.09949801117181778,-0.02212323248386383,0.09093671292066574,0.32926249504089355,-0.2714720666408539,0.10182451456785202,-0.020527318120002747,-0.041915178298950195,0.049037910997867584,0.43563950061798096,0.0017376765608787537,0.019636988639831543,-0.8985556364059448,0.4621182084083557,0.2934841513633728,0.56742924451828,0.45116329193115234,0.14706245064735413,-0.5550541877746582,0.17875610291957855,-0.09927469491958618,-0.04240255802869797,-0.0464947447180748],[-0.32676950097084045,-0.3933390974998474,0.4122177064418793,0.28549981117248535,0.28055906295776367,0.16767358779907227,-0.05145774036645889,0.28655919432640076,-0.3312877118587494,-0.13857191801071167,-0.45613887906074524,0.18004730343818665,0.06017204374074936,0.08949592709541321,0.3246130049228668,-0.27341601252555847,-0.5430325269699097,-0.3886922597885132,0.27514269948005676,-0.5516724586486816,-0.12338612228631973,-0.4041683077812195,-0.10826651751995087,0.25779351592063904,0.03261205554008484,-0.16535153985023499,-0.06066218018531799,-0.318237841129303,-0.11070319265127182,-0.3635927736759186,-0.11798752844333649,-0.04992787539958954,-0.3613809049129486,0.31383615732192993,-0.4355623424053192,-0.5548613667488098,-0.11578559875488281,-0.2507841885089874,-0.30016228556632996,-0.7091516256332397,0.09669831395149231,-0.0036688148975372314,-0.2687973380088806,0.12445014715194702,-0.23548340797424316,-0.11009852588176727,-0.7201216220855713,0.0625869631767273,0.49149811267852783,0.010835878551006317,0.5947624444961548,1.500380039215088,-0.5880955457687378,-0.8792674541473389,0.3027990758419037,1.6272118091583252,2.8385062217712402,0.9013035893440247,-1.7959142923355103,-2.00313401222229,-0.9298672676086426,0.4817214012145996,-3.1290204524993896,-2.4104905128479004,-0.3308870792388916],[0.4610987603664398,0.031013108789920807,0.8450930714607239,-0.20777256786823273,0.04237323999404907,-0.12228619307279587,0.14394250512123108,-0.10719290375709534,-0.45289677381515503,0.32232606410980225,-0.4382353127002716,0.011766672134399414,-0.28747978806495667,0.036132052540779114,-0.19213390350341797,-0.2089453637599945,-0.380980908870697,-0.4573010802268982,-0.3527165353298187,-0.07114662230014801,-0.25354909896850586,-0.3521278202533722,0.14438146352767944,-0.21298322081565857,-0.02919723093509674,-0.3917595148086548,-0.17949631810188293,0.16299717128276825,0.07316158711910248,-0.16139459609985352,-0.125543013215065,-0.37587738037109375,-0.35527268052101135,-0.3896685242652893,-0.294704794883728,-0.6189308166503906,-0.3340860903263092,0.10665107518434525,-0.4565385580062866,0.03244300186634064,-0.3346233665943146,-0.4089816212654114,-0.23467020690441132,0.0022202134132385254,-0.03135930001735687,-0.03490439057350159,-0.023868590593338013,-0.34041184186935425,0.16732196509838104,-0.05270160734653473,-0.40310338139533997,0.02379254624247551,-0.7406860589981079,-0.5788330435752869,0.3167487382888794,1.5651366710662842,-1.7512719631195068,0.31107765436172485,1.3740020990371704,-0.7578004598617554,-0.383134663105011,-0.31510502099990845,-1.464978814125061,-0.5438818335533142,-0.18564164638519287],[1.2988414764404297,-0.37818843126296997,0.214741051197052,-0.2619721293449402,0.24017095565795898,-0.13237479329109192,0.0909390076994896,-0.23754039406776428,-0.2389516830444336,0.20956100523471832,0.15565705299377441,-0.20488077402114868,-0.4103759825229645,0.022979944944381714,0.02264609932899475,0.16263073682785034,-0.31791192293167114,-0.07428273558616638,-0.6104969382286072,0.05020945519208908,-0.12922585010528564,-0.15839481353759766,0.017588376998901367,0.08287371695041656,0.06235571205615997,-0.4406203627586365,-0.31050175428390503,0.3696083128452301,0.11223787069320679,0.016469880938529968,0.26889345049858093,-0.03517341613769531,0.09834513068199158,-0.6338555812835693,-0.04458370804786682,-0.31741905212402344,-0.5645477175712585,0.08863702416419983,0.1166808009147644,-0.08122518658638,-0.36540088057518005,0.1445218026638031,0.18490613996982574,0.24786022305488586,-0.10213670134544373,0.09501738846302032,0.44921162724494934,-0.37969350814819336,-0.1595236361026764,0.34729480743408203,-0.6100184917449951,-0.6892397999763489,0.049120813608169556,0.3063092827796936,-1.6121206283569336,0.8831131458282471,-3.981353521347046,-0.3483463227748871,3.7067360877990723,1.8559715747833252,-0.31917595863342285,-0.7427012920379639,1.1320372819900513,1.92850661277771,-0.031843092292547226],[-0.12117721140384674,-0.01588396728038788,0.0009934045374393463,-0.042036570608615875,-0.012770414352416992,0.06726463884115219,-0.2898334860801697,-0.16902746260166168,0.21124987304210663,-0.04573477804660797,0.05727145075798035,0.03053496778011322,-0.15620985627174377,0.22350870072841644,0.1473226249217987,-0.031038537621498108,0.15928535163402557,0.2762850821018219,0.09576290845870972,-0.050959475338459015,0.053441375494003296,-0.16241510212421417,-0.018579311668872833,0.02531326562166214,0.10804110020399094,-0.058943673968315125,0.21582195162773132,0.015992537140846252,-0.0010237060487270355,-0.028374798595905304,-0.14564913511276245,-0.024320846423506737,0.08380523324012756,-0.05415403097867966,0.10155904293060303,0.11108651757240295,0.08486583828926086,-0.15539959073066711,-0.008136950433254242,0.16657224297523499,-0.1387001872062683,0.05028939247131348,0.1090233325958252,-0.11557082831859589,-0.01440265029668808,-0.17501357197761536,-0.27479442954063416,0.0002586841583251953,0.17530156672000885,-0.08030262589454651,0.46668046712875366,0.20977959036827087,0.22332477569580078,0.11731851100921631,-0.20882347226142883,-0.3756692409515381,0.6243661642074585,0.2807416617870331,0.44173702597618103,0.42335474491119385,-0.46963876485824585,0.42400574684143066,-0.00016592629253864288,-0.29005780816078186,-0.03432540223002434],[0.77546226978302,0.39811575412750244,0.2079291194677353,-0.16599489748477936,-0.14268650114536285,0.13644272089004517,0.014555670320987701,-0.4215441942214966,0.15813055634498596,0.3682801127433777,0.09387852251529694,-0.39761418104171753,-0.5301902890205383,0.024248674511909485,-0.23513934016227722,0.34364187717437744,0.2748715281486511,0.44854798913002014,-0.33578988909721375,-0.024657681584358215,-0.08747446537017822,0.07616741955280304,0.07513406872749329,-0.3142082095146179,-0.030194342136383057,-0.2593304514884949,-0.10139966011047363,0.35217100381851196,0.1846732348203659,0.3403729796409607,-0.05219990760087967,-0.37393808364868164,0.2313348799943924,-0.4724891483783722,0.2162022590637207,0.06620265543460846,-0.3345905840396881,-0.08040200173854828,-0.05413918197154999,0.5870165824890137,-0.5440254807472229,-0.11279311776161194,0.07016651332378387,-0.01926598697900772,-0.17490017414093018,0.015705779194831848,0.3751666843891144,-0.38056430220603943,-0.13493743538856506,0.22644585371017456,-0.3504098355770111,-1.2448318004608154,0.5775678753852844,0.8061513900756836,-0.7282324433326721,-1.0575432777404785,-3.790060043334961,-0.5598748922348022,3.702477216720581,2.1833596229553223,0.12776675820350647,-0.39219820499420166,2.4368395805358887,2.4004292488098145,0.1617003083229065],[0.4582333564758301,0.2022937685251236,0.29162704944610596,-0.22831609845161438,-0.10142751783132553,0.02962714433670044,-0.17743827402591705,-0.22033120691776276,0.06828080117702484,0.07291120290756226,-0.10089355707168579,-0.19838598370552063,-0.2543574571609497,0.025555431842803955,-0.19508016109466553,0.12791448831558228,0.03453934192657471,0.2176620066165924,-0.29964104294776917,0.08188341557979584,0.11245861649513245,0.08654160052537918,-0.030211396515369415,-0.07349878549575806,0.021787136793136597,-0.28963056206703186,0.04027755558490753,0.2532741129398346,0.1579822450876236,0.2009139358997345,-0.18641558289527893,-0.19586756825447083,0.024225354194641113,-0.4038686752319336,-0.04441787302494049,-0.10951961576938629,-0.15260210633277893,-0.025804096832871437,-0.13690288364887238,-0.04418100416660309,-0.40185546875,-0.28202342987060547,-0.14158135652542114,-0.05088317394256592,-0.16850803792476654,0.20750591158866882,-0.05594252794981003,-0.3546372354030609,-0.019391566514968872,-0.20718398690223694,-0.12008880823850632,-0.6026475429534912,-0.11465947329998016,0.09019622206687927,0.3283945322036743,-0.27481237053871155,-2.332045793533325,-0.15573251247406006,2.1869866847991943,0.736889123916626,0.5196885466575623,-0.16921736299991608,0.30370450019836426,0.7281175851821899,0.0964701920747757],[0.5139023065567017,-0.04262271523475647,-0.0815272331237793,-0.14031115174293518,-0.281663179397583,0.017766568809747696,0.19494643807411194,0.4674680233001709,-0.5625820755958557,-0.019653186202049255,-0.12870579957962036,0.04159568250179291,0.04223763942718506,-0.11476823687553406,-0.08237048983573914,-0.3903917670249939,-0.09321083873510361,-0.2901344895362854,0.19025173783302307,-0.2481261044740677,-0.18442976474761963,0.0631866604089737,-0.33354124426841736,-0.06287170946598053,-0.06457696855068207,-0.221893772482872,-0.3485451340675354,-0.19430556893348694,-0.15870723128318787,-0.08815712481737137,-0.37729156017303467,-0.05733044445514679,-0.1711472123861313,0.15721172094345093,-0.24246975779533386,-0.18250662088394165,0.037206873297691345,0.150417760014534,-0.3993462324142456,-0.4308682084083557,0.41400012373924255,-0.40136846899986267,-0.12996043264865875,-0.1708233654499054,-0.06665831804275513,-0.3429093658924103,-0.09745289385318756,-0.34631767868995667,-0.006386935710906982,-0.1955869495868683,0.34744957089424133,0.43643009662628174,0.22023038566112518,-0.07638205587863922,-0.4834955632686615,0.2956550717353821,2.0761003494262695,0.13507652282714844,-1.145484209060669,-2.045992374420166,0.20837116241455078,0.2989341914653778,-1.2345210313796997,-1.0935559272766113,0.07918877899646759],[-0.25119835138320923,-0.3483358323574066,0.03224601969122887,0.32738491892814636,0.18089993298053741,0.403412401676178,-0.011035233736038208,0.11223208904266357,0.3007260262966156,0.14488585293293,-0.05991940200328827,0.15860731899738312,0.1476151943206787,0.21490490436553955,0.37090617418289185,-0.007590629160404205,-0.0020170211791992188,0.44085630774497986,0.4722990393638611,-0.056233495473861694,-0.10483448207378387,0.18608450889587402,0.0823138952255249,0.3266304135322571,0.26165229082107544,0.18926987051963806,0.4100550413131714,0.12869417667388916,0.30464255809783936,0.12759199738502502,0.15867255628108978,0.2754959166049957,0.07765030860900879,0.32426977157592773,-0.0840710699558258,-0.052940309047698975,-0.020995885133743286,-0.3457653820514679,0.033860817551612854,0.02585158497095108,0.14655426144599915,0.3781418204307556,0.027883373200893402,0.08857209235429764,-0.33413493633270264,0.35939908027648926,-0.3685554563999176,0.1522868126630783,0.24286603927612305,0.11087287962436676,0.6510726809501648,0.41104578971862793,0.2860596179962158,0.3707277178764343,-0.5731053352355957,-1.4343581199645996,0.4236035943031311,0.6138918399810791,2.156136989593506,2.453848361968994,-1.940173625946045,0.6999496221542358,1.0489583015441895,0.9969627857208252,-0.16530737280845642],[0.27357766032218933,-0.48616641759872437,0.22891773283481598,-0.21474820375442505,-0.07305237650871277,0.20218151807785034,0.4698941111564636,0.14888577163219452,-0.28885769844055176,-0.012622671201825142,0.24857422709465027,0.3145270049571991,0.21431291103363037,0.2696322798728943,0.33694374561309814,-0.11833373457193375,-0.01970040798187256,-0.03913569450378418,0.3029714822769165,-0.07020407170057297,-0.05617012828588486,0.11032208800315857,-0.10456225275993347,0.0973261371254921,0.3007913827896118,-0.11446316540241241,0.0408121794462204,0.1421286165714264,0.23104846477508545,0.0028955042362213135,0.08045044541358948,0.16508257389068604,0.2269018590450287,0.2156684845685959,-0.054552361369132996,-0.11690166592597961,0.35343125462532043,0.28515058755874634,0.04741466045379639,0.31722038984298706,0.41945531964302063,-0.018682897090911865,0.1068153977394104,-0.09838972985744476,0.06159976124763489,-0.42496275901794434,0.35722488164901733,-0.13967980444431305,0.16668936610221863,0.18870364129543304,0.006090171635150909,0.49413618445396423,-0.028113821521401405,-0.1886468231678009,-1.6582057476043701,0.6450595855712891,0.8683967590332031,0.22305314242839813,0.75234055519104,0.7108290195465088,-2.8271431922912598,0.17104463279247284,0.6672011017799377,0.39482948184013367,-0.17030000686645508],[0.13730333745479584,0.07362095266580582,-0.040042050182819366,0.12517455220222473,0.05034465342760086,0.08867280185222626,-0.17127977311611176,-0.014225929975509644,0.015108942985534668,0.04513038694858551,-0.20107194781303406,0.023911774158477783,0.0016448870301246643,0.15960273146629333,0.283103883266449,-0.05197833850979805,-0.061379238963127136,0.24719688296318054,0.12556515634059906,0.022239625453948975,-0.005269136279821396,0.0911007970571518,0.18532927334308624,0.1408761739730835,0.1929030865430832,0.20803439617156982,0.13289503753185272,0.2434220016002655,0.07059526443481445,0.09656877815723419,0.18283067643642426,-0.027153663337230682,0.04695003479719162,0.19670262932777405,0.10026495158672333,0.12467078119516373,-0.22928404808044434,-0.15744850039482117,0.1784082055091858,0.17082631587982178,0.09325245022773743,0.10674064606428146,-0.05922643095254898,0.0977334976196289,-0.24834492802619934,0.3147112727165222,-0.1257161796092987,0.05632229149341583,-0.1168854609131813,0.19817563891410828,-0.1797787845134735,0.019313842058181763,0.04288549721240997,0.11570580303668976,-0.4768173098564148,-0.4071260690689087,-0.5189000368118286,0.29288312792778015,1.0338232517242432,1.206758975982666,-0.7260768413543701,-0.11256792396306992,0.9184727668762207,0.6947211623191833,0.0028553344309329987],[1.1290230751037598,0.2056753784418106,-0.7613318562507629,-0.4349451959133148,-0.04479609802365303,-0.12479978799819946,0.09289376437664032,0.1387360692024231,-0.4268452525138855,0.3245464861392975,-0.007418744266033173,-0.16153666377067566,-0.4670373201370239,0.032284095883369446,0.1479770541191101,-0.33131200075149536,0.21461108326911926,0.21589961647987366,-0.2507798969745636,0.19522154331207275,-0.10024058818817139,-0.16070401668548584,-0.23419004678726196,0.11186310648918152,0.07730376720428467,-0.18957781791687012,-0.01601320505142212,0.1154271811246872,-0.09157298505306244,0.15699175000190735,-0.045858174562454224,-0.08373841643333435,-0.017723649740219116,-0.2655876874923706,-0.02855725586414337,-0.15337689220905304,-0.2349839061498642,0.08697199821472168,-0.2672058045864105,0.10522741079330444,0.03560402989387512,0.10786017775535583,0.23080118000507355,-0.20768007636070251,0.05668807029724121,-0.39940938353538513,0.2126806676387787,-0.6462892889976501,-0.07557088136672974,-0.045673757791519165,0.9057701826095581,0.01302841305732727,1.2137700319290161,1.1206612586975098,-2.533191442489624,-1.10732102394104,-0.7308871746063232,0.30141958594322205,3.987732172012329,1.882291555404663,-1.190871000289917,0.8824857473373413,1.3090169429779053,1.5578041076660156,0.07666243612766266],[0.6650708913803101,-0.1307283341884613,-1.0614876747131348,0.05855739116668701,-0.1138446107506752,-0.11472783982753754,-0.0954248309135437,-0.01673734188079834,0.06288425624370575,0.5805259346961975,0.48649975657463074,0.23887456953525543,-0.016448162496089935,0.06743822991847992,0.43830573558807373,-0.16943970322608948,0.08701921254396439,0.27980467677116394,0.03946387767791748,0.2693560719490051,0.2927587628364563,-0.16904355585575104,-0.22393041849136353,0.27398189902305603,-0.30465689301490784,0.290050208568573,-0.07167769968509674,0.1259409636259079,-0.1789097934961319,0.37503594160079956,0.025965526700019836,0.207886204123497,0.2659915089607239,0.0935397744178772,0.4625595510005951,0.5762261152267456,-0.16785989701747894,0.15453821420669556,0.09520423412322998,0.3995940089225769,0.3163735866546631,0.6678157448768616,0.4227391481399536,0.029436379671096802,0.27115195989608765,0.33036309480667114,0.3651180863380432,0.18855690956115723,-0.3457421064376831,0.23077020049095154,0.2831191122531891,-0.3226795494556427,1.0973122119903564,1.0222183465957642,-1.995398759841919,-2.0663387775421143,0.04056902229785919,0.06516669690608978,2.250518321990967,3.0297770500183105,-1.1562399864196777,0.3967430591583252,2.8220009803771973,1.899801254272461,0.22628000378608704],[0.3405263423919678,-0.16724786162376404,-0.18898287415504456,-0.11932413280010223,-0.008659608662128448,0.02728942036628723,0.10799883306026459,0.2671705186367035,-0.229730024933815,0.09474212676286697,-0.11232161521911621,0.12799808382987976,0.023409198969602585,-0.0318114347755909,0.027515485882759094,-0.1987437903881073,0.003924701362848282,0.02622358128428459,0.01818506419658661,0.06888335943222046,-0.1554773598909378,0.15641069412231445,-0.23844748735427856,0.2586193084716797,0.10810845345258713,-0.013472676277160645,0.06999287754297256,0.18228690326213837,0.12880660593509674,-0.0888695940375328,-0.19821587204933167,0.4341242015361786,-0.015069961547851562,0.18160119652748108,0.003386199474334717,0.08219267427921295,0.021148912608623505,-0.07152049243450165,-0.14278289675712585,-0.06345400959253311,0.27411556243896484,-0.003259599208831787,-0.0293334499001503,-0.013439767062664032,-0.04077786207199097,0.07423621416091919,-0.03270760178565979,0.03552243113517761,0.07020613551139832,-0.22346186637878418,0.489652156829834,-0.21237511932849884,0.6688159704208374,0.7981181144714355,-1.0839178562164307,-1.374901294708252,-0.21660423278808594,0.1541139930486679,2.644864559173584,1.1757423877716064,-0.8341817259788513,0.5547125339508057,0.9595687389373779,1.0912526845932007,0.028184056282043457],[1.5603448152542114,0.5728659629821777,-2.164518356323242,0.3282904326915741,-0.4369523525238037,-0.27976903319358826,0.12831008434295654,-1.5716991424560547,1.592298984527588,0.672728419303894,1.7907836437225342,-0.6203169226646423,1.133201003074646,0.9561505913734436,0.48996853828430176,1.5998952388763428,1.1730916500091553,0.48803678154945374,0.32992178201675415,0.33699584007263184,0.770789623260498,0.9306057691574097,1.5418977737426758,-0.5655083060264587,0.2887355089187622,0.9964288473129272,-0.11240452527999878,0.6846132278442383,1.2384923696517944,1.3548582792282104,1.2694522142410278,0.4297484755516052,1.665715217590332,-0.287096232175827,1.673233985900879,1.0320780277252197,0.3316202163696289,1.1372095346450806,1.8482768535614014,3.231940984725952,0.44519293308258057,1.0015127658843994,0.8919957280158997,1.1546841859817505,0.11512579023838043,0.6628851890563965,2.040353298187256,1.0421442985534668,-1.0188016891479492,1.687233805656433,-5.724932670593262,-3.8807640075683594,1.4053735733032227,1.1192071437835693,-4.221293926239014,0.3406582474708557,-3.2223615646362305,-3.802363157272339,-10.600189208984375,4.952451705932617,2.146043062210083,-5.519026756286621,11.294737815856934,6.4976396560668945,1.0369949340820312],[0.2619364261627197,0.4966627359390259,-0.4544544219970703,0.03489759564399719,-0.14960390329360962,-0.010490719228982925,0.10381458699703217,-0.2852993607521057,0.4731283187866211,0.28595617413520813,0.4427964389324188,-0.1625760793685913,0.057539645582437515,0.2095356583595276,-0.04717979580163956,0.5101670026779175,0.35676541924476624,0.36990875005722046,-0.3642255365848541,0.30651479959487915,0.2804502248764038,0.4568110704421997,0.44166305661201477,-0.005387932062149048,0.014901772141456604,0.35357534885406494,0.16085271537303925,0.4426672160625458,0.44337743520736694,0.5414132475852966,0.13198180496692657,0.06760920584201813,0.47455620765686035,-0.20035076141357422,0.3777133822441101,0.3837331235408783,0.08450108766555786,0.2681526243686676,0.41429099440574646,0.9497305750846863,0.0035966187715530396,0.17955690622329712,0.1728411614894867,0.22859036922454834,-0.006437413394451141,0.3468643128871918,0.6570541262626648,0.234247088432312,-0.15466856956481934,0.31302541494369507,-1.4182208776474,-1.7551710605621338,0.4462625980377197,0.5899497270584106,-0.43783217668533325,-0.8958791494369507,-3.033482551574707,-1.3137197494506836,-0.12678328156471252,2.6479580402374268,0.7180829644203186,-1.3798887729644775,3.8059349060058594,2.7125892639160156,0.2967700958251953],[0.9767414927482605,0.8258261680603027,-0.5713531970977783,-0.429229199886322,-0.0017184019088745117,-0.11587806046009064,-0.132804736495018,-0.656194269657135,0.4506036639213562,0.2647766172885895,0.21406906843185425,-0.6682389378547668,-1.1038522720336914,-0.08318327367305756,-0.5110226273536682,0.5128679275512695,0.598493218421936,0.4176959991455078,-0.5495937466621399,0.26815810799598694,-0.18575158715248108,0.1844453066587448,0.09544754028320312,-0.47162237763404846,-0.35503894090652466,-0.017960041761398315,0.02033919095993042,0.19322463870048523,-0.20871829986572266,0.59309983253479,0.3964008092880249,-0.06976836919784546,0.1921525001525879,-0.7138311862945557,0.26708078384399414,0.1841902881860733,-0.6612127423286438,-0.5390724539756775,-0.027491211891174316,0.42965900897979736,-0.7726086378097534,0.41257143020629883,0.053648605942726135,-0.027883924543857574,-0.21572181582450867,0.1448432356119156,0.39186426997184753,-0.24599295854568481,-0.24486765265464783,0.20209604501724243,0.18886710703372955,-1.9169807434082031,1.3238893747329712,1.7745319604873657,-0.03456021845340729,-3.5670862197875977,-5.3793745040893555,-0.813088059425354,4.996014595031738,2.795927047729492,3.3426566123962402,-0.35343238711357117,3.52477765083313,3.808372974395752,0.3167693018913269],[0.34118109941482544,0.24360325932502747,-0.1709405481815338,-0.14014846086502075,0.06228187680244446,-0.0348186269402504,-0.23608848452568054,-0.45257383584976196,0.49125009775161743,0.2302907258272171,0.5492078065872192,-0.14450004696846008,-0.41054368019104004,0.362895667552948,-0.28593283891677856,0.3836982548236847,0.3577599823474884,0.6211752891540527,-0.33537757396698,0.45914220809936523,0.12904320657253265,0.2187163531780243,0.5304696559906006,-0.1149177998304367,0.1079065203666687,0.2416500300168991,0.22416912019252777,0.4256696105003357,0.23138579726219177,0.34699270129203796,0.5194377899169922,-0.07605910301208496,0.4503367841243744,-0.31094011664390564,0.44339072704315186,0.362270712852478,-0.2609894871711731,-0.18510353565216064,0.35332944989204407,0.8354312777519226,-0.38112378120422363,0.5320294499397278,0.3201845586299896,0.09580560028553009,-0.06458014249801636,0.29276683926582336,0.6397331953048706,0.1221671998500824,-0.14287997782230377,0.3834291100502014,-0.5915664434432983,-1.5067638158798218,0.6755056977272034,0.9707544445991516,-0.6028382182121277,-1.9911613464355469,-4.567875862121582,-0.6600391268730164,3.9648211002349854,4.0266499519348145,0.10388825833797455,-0.6387820839881897,4.116680145263672,3.5893523693084717,0.17044252157211304],[-1.3769056797027588,-1.6052978038787842,-0.03794562816619873,0.8461042046546936,-0.484857976436615,0.461260586977005,0.47665756940841675,2.1041958332061768,-1.7281074523925781,-0.3957708477973938,-0.9692378044128418,1.5316338539123535,2.5753891468048096,-0.15493500232696533,2.0121092796325684,-1.734696626663208,-1.1114628314971924,-1.5220017433166504,1.6021579504013062,-0.8833842277526855,0.17300933599472046,-0.513748288154602,-0.8584630489349365,1.3399406671524048,0.4580479860305786,-0.05220666527748108,-0.47285276651382446,-0.8458640575408936,-0.18871504068374634,-0.7969579696655273,-1.2445074319839478,0.3235180377960205,-0.8017368316650391,1.919866919517517,-1.196628212928772,-0.6542142033576965,1.1978607177734375,1.2115485668182373,-0.4139399528503418,-1.897389531135559,2.225447654724121,-1.013519048690796,-0.45585787296295166,-0.2333073914051056,0.1450374722480774,-0.7670180797576904,-1.4736417531967163,0.017787456512451172,0.4231768846511841,-0.6758041381835938,1.3791528940200806,6.166806221008301,-2.907278060913086,-4.133664131164551,-0.4390639662742615,7.606334209442139,17.980831146240234,2.931873083114624,-14.746755599975586,-9.322553634643555,-6.340760231018066,2.200000047683716,-10.882122993469238,-11.332355499267578,-0.5142254829406738],[0.654969334602356,-1.8465092182159424,1.3851865530014038,0.09707093238830566,0.0517200231552124,-0.03656107187271118,0.461971640586853,0.6603923439979553,-1.405618667602539,-0.43353232741355896,-0.43399977684020996,0.7890732884407043,1.2366918325424194,0.11479930579662323,1.3175904750823975,-0.9019021987915039,-1.5207395553588867,-1.2284820079803467,0.5565668940544128,-0.9106375575065613,-0.21180778741836548,-0.9494203329086304,-0.3491259515285492,0.46300777792930603,0.6502412557601929,-0.5546591877937317,-0.3766007423400879,-0.3300904333591461,0.1727178990840912,-0.9015432000160217,-0.20265594124794006,-0.1117027997970581,-0.5304532647132874,0.8320977687835693,-0.5151322484016418,-1.1784547567367554,0.2910979390144348,1.0150961875915527,-0.054078638553619385,-0.9090816974639893,0.9887362122535706,-0.4600255489349365,-0.2666107416152954,0.06348180770874023,0.5651563405990601,-0.22362756729125977,-0.541872501373291,-0.21359741687774658,0.18725448846817017,-0.20496337115764618,-1.1139006614685059,3.3349459171295166,-2.080606460571289,-2.9040753841400146,-3.4128732681274414,8.721364974975586,6.5448198318481445,1.6004791259765625,-5.693050861358643,-3.5107903480529785,-7.895191192626953,-0.09895527362823486,-5.478484153747559,-5.229060173034668,-0.7290958166122437],[1.0772970914840698,1.5159690380096436,-4.388369560241699,0.12497594952583313,-0.5708367228507996,0.012992382049560547,-0.16451194882392883,1.1798441410064697,-0.7904074788093567,0.4743514955043793,-0.8311706185340881,0.0294952392578125,0.255376398563385,-0.09025180339813232,0.7702003717422485,-0.9714901447296143,1.058213233947754,0.33384478092193604,1.0429056882858276,-0.007855460047721863,0.44310569763183594,0.2156679332256317,-0.930834174156189,0.7173616290092468,-0.4707956910133362,0.598553478717804,-0.542979896068573,-0.9624714255332947,-1.0740795135498047,0.8025722503662109,-1.1864687204360962,0.6191406846046448,-0.17070424556732178,0.8832611441612244,-0.3069162964820862,0.7278221845626831,0.15350446105003357,-0.5883256196975708,-0.5432376861572266,-0.4287991523742676,1.2665166854858398,0.31683069467544556,0.3639812171459198,-0.14263570308685303,-0.3821680545806885,-0.7499638795852661,-1.0789687633514404,0.13457056879997253,-0.2698161005973816,-0.1934891641139984,3.4785356521606445,1.4303362369537354,3.4891159534454346,2.5427627563476562,-1.8418571949005127,-7.3785929679870605,10.33961009979248,0.9026738405227661,-4.6511335372924805,-1.8402252197265625,4.334959983825684,2.474107503890991,0.5385955572128296,-0.8387869596481323,0.98515784740448],[0.5327540636062622,0.8164116144180298,-0.25040555000305176,-0.2979383170604706,-0.1054060310125351,-0.11094745248556137,-0.01205626130104065,-0.6417309641838074,0.38018321990966797,0.26798370480537415,0.36480480432510376,-0.5342337489128113,-0.4276094436645508,-0.008197665214538574,-0.5070372819900513,0.6166108846664429,0.4554591774940491,0.24488487839698792,-0.5260822176933289,0.278287798166275,0.29093503952026367,0.24552848935127258,0.24665385484695435,-0.4597052335739136,-0.1395118236541748,-0.01890122890472412,0.028576821088790894,0.16862288117408752,0.1906106173992157,0.41221508383750916,0.08137279748916626,-0.1173095852136612,0.3601154685020447,-0.73247230052948,0.2241598516702652,0.3000623285770416,-0.07344231009483337,0.07232651114463806,0.2296433448791504,0.7765418291091919,-0.5297486782073975,-0.024068668484687805,0.14532265067100525,0.2964875102043152,0.08529433608055115,0.06173764169216156,0.6354118585586548,-0.0030997544527053833,-0.22670987248420715,0.2933860123157501,-1.1620804071426392,-2.276461124420166,0.7155442237854004,0.9750691652297974,0.12040098011493683,-1.3164160251617432,-4.171986103057861,-1.7030671834945679,0.5673146843910217,1.3456532955169678,3.0434458255767822,-1.4201058149337769,3.061610698699951,2.8105149269104004,0.37354010343551636],[0.240098774433136,0.27320754528045654,0.0016398131847381592,0.16267746686935425,-0.3849600553512573,-0.2061035931110382,-0.1529756784439087,-1.8574823141098022,2.323354721069336,0.8148461580276489,2.3523099422454834,-0.6644165515899658,0.20212297141551971,0.872016429901123,-0.48208096623420715,1.9680311679840088,1.2182649374008179,1.2439889907836914,0.06889238953590393,0.7101989984512329,0.8641363382339478,1.053878903388977,1.5327003002166748,-0.9293156266212463,0.022102296352386475,1.0867524147033691,0.5215165019035339,0.7107335925102234,1.577282190322876,1.1239126920700073,1.1963508129119873,0.313694030046463,1.8573099374771118,-1.1433720588684082,1.7281687259674072,1.1924190521240234,0.5400885343551636,0.7132635116577148,1.5467534065246582,3.347506046295166,-0.3265995979309082,0.9622668623924255,0.9215365052223206,1.3538990020751953,-0.01584756374359131,0.7139068841934204,2.264751672744751,0.9665389657020569,-0.6741807460784912,1.6270383596420288,-5.170622825622559,-5.725244045257568,1.2577053308486938,1.5782904624938965,-1.5417075157165527,-2.0434579849243164,-7.9477925300598145,-4.740569591522217,-4.7423505783081055,6.774847030639648,3.381650447845459,-5.266216278076172,12.270105361938477,7.822941780090332,0.9380881190299988],[-1.8410663604736328,1.4067236185073853,2.2084298133850098,-0.12200498580932617,-0.4088425040245056,-0.57896888256073,0.3813038468360901,-0.610914945602417,-0.32193711400032043,-0.5630648136138916,-0.4525935649871826,-0.924185037612915,0.09426701068878174,-0.7921813726425171,-2.027250051498413,1.0394823551177979,0.6126551628112793,-1.5983725786209106,-0.4742860794067383,-0.7541232109069824,-0.025556087493896484,0.3833707571029663,0.1897796392440796,-1.6441580057144165,-0.28207096457481384,-0.94190514087677,-0.9146035313606262,-0.969222366809845,-0.3678283095359802,-0.5272789001464844,-0.2871164083480835,-0.7928372025489807,-0.4719110131263733,-1.547637939453125,-0.16483736038208008,-0.5756686925888062,0.6194981336593628,0.8524008989334106,-0.45070576667785645,-0.49161314964294434,-1.1527208089828491,-2.5273265838623047,-0.7278777360916138,0.506335973739624,-0.09066927433013916,-1.3420567512512207,0.624841570854187,-0.6171072721481323,-0.13882005214691162,-0.20737317204475403,-3.226331949234009,-1.7754640579223633,-1.8758877515792847,-1.9254415035247803,5.959558486938477,5.508728981018066,0.04739558696746826,-2.9868180751800537,-12.730241775512695,-14.292925834655762,9.979936599731445,-3.4032959938049316,-6.0541486740112305,-5.064216136932373,0.4930858612060547],[-2.543109893798828,-0.3455530107021332,1.601424217224121,0.22546915709972382,0.5520510673522949,0.580612063407898,0.22572946548461914,0.7123427987098694,-0.3287261724472046,-0.9574243426322937,-1.278771162033081,0.34092798829078674,0.6547055244445801,-0.25247716903686523,-0.16045767068862915,-0.5780917406082153,-0.7339030504226685,-0.672041118144989,-0.2417263388633728,-0.3756791651248932,-0.5857906937599182,-0.2530905604362488,0.2143794298171997,0.36659687757492065,0.28464066982269287,-0.6269190311431885,0.334538996219635,0.02883581817150116,-0.006571948528289795,-1.0365703105926514,-0.3299214541912079,-0.4143258035182953,-1.1450996398925781,0.8124229907989502,-1.1634060144424438,-0.7947663068771362,0.3436412215232849,-0.044201791286468506,-0.35155725479125977,-1.4321078062057495,-0.04029598832130432,-0.9755918383598328,-0.7647989988327026,-0.9574864506721497,-0.07278263568878174,-0.07311342656612396,-1.1346831321716309,-0.22568422555923462,0.5482350587844849,-1.1219723224639893,1.2826430797576904,3.3684396743774414,-3.2021124362945557,-2.973050117492676,3.916510581970215,5.283045768737793,2.948227643966675,2.6172232627868652,-0.9007601737976074,-5.061708927154541,-3.381351947784424,1.9744676351547241,-8.719165802001953,-6.216346740722656,-0.948569655418396],[1.8626651763916016,0.31314271688461304,-1.6002628803253174,0.12820520997047424,-0.40853750705718994,-0.32549819350242615,0.007298588752746582,-1.9922525882720947,1.7510660886764526,0.6953572034835815,2.293627977371216,-0.6831483244895935,1.0285152196884155,1.1500341892242432,0.4471632242202759,1.942160964012146,1.0924971103668213,0.5973495244979858,0.1990165114402771,0.39335525035858154,0.9484467506408691,0.9231292009353638,1.791368007659912,-0.7904692888259888,0.44786036014556885,1.0031800270080566,-0.003491520881652832,0.9044588208198547,1.5637671947479248,1.541200876235962,1.5537673234939575,0.24812865257263184,1.8858331441879272,-0.45058828592300415,1.8099969625473022,1.0552983283996582,0.25119340419769287,1.2045512199401855,2.13576078414917,3.654433012008667,0.08758789300918579,1.2873187065124512,0.991510272026062,1.2352098226547241,0.19928443431854248,0.854287326335907,2.4588818550109863,1.0708630084991455,-1.0911521911621094,1.8976954221725464,-6.780787467956543,-4.525345802307129,1.099645733833313,0.9731267690658569,-4.933253765106201,1.3656598329544067,-5.700991153717041,-4.261162281036377,-9.906320571899414,6.491675853729248,1.554404854774475,-6.543076515197754,12.668426513671875,7.739619255065918,0.9710342288017273],[1.478210687637329,3.1808063983917236,3.2562203407287598,-1.717267394065857,0.163030743598938,-0.9240874648094177,-1.1498627662658691,-2.133896827697754,0.6384649276733398,-0.5878924131393433,-1.498371958732605,-3.3562960624694824,-4.71584415435791,-2.1168737411499023,-4.804019927978516,1.6304147243499756,0.5303530693054199,-0.2359623908996582,-3.1963865756988525,0.008996814489364624,-1.3376438617706299,0.25921201705932617,-0.6680136919021606,-3.3634917736053467,-1.9524691104888916,-2.2988712787628174,-1.027543067932129,0.027080655097961426,-1.4523118734359741,-0.19538408517837524,-0.39238667488098145,-2.3075003623962402,-1.1873805522918701,-4.185146808624268,-0.8535616397857666,-0.703905463218689,-2.153698444366455,-2.4133400917053223,-1.6101531982421875,-1.7765525579452515,-5.318975448608398,-2.1419930458068848,-1.4961583614349365,-0.6185582280158997,-1.3253440856933594,-0.5092581510543823,-0.10598981380462646,-2.6319167613983154,-0.37155336141586304,-0.9639423489570618,0.9534950256347656,-5.524898052215576,-0.6277729272842407,1.5715467929840088,12.555828094482422,-5.084222793579102,-21.461355209350586,-2.986499547958374,13.498739242553711,-6.262502670288086,22.05924415588379,-1.487344741821289,-5.051590442657471,2.2576498985290527,0.5088990330696106],[-0.6442017555236816,-2.0711264610290527,-0.6871891021728516,0.4827573299407959,0.33055585622787476,0.8665586709976196,0.3042430877685547,0.04361557960510254,1.992505431175232,1.45054292678833,3.352224349975586,2.151134490966797,0.18254297971725464,2.3674135208129883,1.7040842771530151,0.3174675703048706,0.6189391613006592,3.522891044616699,0.19189298152923584,2.454892635345459,1.001505970954895,0.6894103288650513,2.1122360229492188,2.219632148742676,1.4617924690246582,2.725180149078369,2.636244773864746,2.404900312423706,1.948220133781433,1.510711669921875,2.5951945781707764,1.4221221208572388,2.4891703128814697,1.2779492139816284,2.321492910385132,1.9364663362503052,-0.1206129789352417,-0.04608726501464844,1.956706166267395,3.9938278198242188,1.569374680519104,4.056692123413086,2.262188673019409,0.35394108295440674,0.8010832071304321,2.414984703063965,2.5769553184509277,2.134347438812256,0.507213830947876,1.8790252208709717,-0.675475001335144,-2.8684334754943848,1.9916160106658936,2.992018222808838,-7.833687782287598,-8.349640846252441,-12.225107192993164,0.8109787702560425,24.673248291015625,26.59830665588379,-18.254549026489258,0.9253102540969849,20.408010482788086,15.235471725463867,-0.5964961051940918],[-0.7007443904876709,0.09027692675590515,0.008130744099617004,0.2549689710140228,-0.010730355978012085,0.24108099937438965,-0.030857250094413757,0.401374876499176,0.11551637947559357,-0.09997709840536118,-0.20504280924797058,0.1328389048576355,-0.005118824541568756,-0.052983760833740234,-0.1584971398115158,-0.21571215987205505,0.02930513024330139,0.16583390533924103,0.09744860231876373,0.1608654260635376,-0.02372482419013977,0.10400654375553131,-0.10171777755022049,0.11292818188667297,-0.02736464887857437,0.23074474930763245,0.2618141770362854,-0.13753041625022888,-0.07896297425031662,-0.042210653424263,-0.22210858762264252,0.07022731006145477,-0.13958857953548431,0.20458772778511047,-0.2731696665287018,0.1970251053571701,0.14872993528842926,-0.2728981375694275,-0.1486479789018631,-0.31638234853744507,-0.027932528406381607,-0.04647354781627655,-0.10018491744995117,-0.09379425644874573,-0.12736673653125763,0.08979929983615875,-0.4582579731941223,0.06962644308805466,0.1924927681684494,-0.25215718150138855,0.8536273241043091,0.42072057723999023,-0.3229723870754242,-0.17865267395973206,1.6183373928070068,-1.0922647714614868,0.7396252155303955,0.49491655826568604,0.8097751140594482,-0.18438319861888885,0.21610556542873383,0.7576273679733276,-1.0797431468963623,-0.8046587705612183,-0.04385176673531532]],\"type\":\"heatmap\",\"xaxis\":\"x\",\"yaxis\":\"y\",\"hovertemplate\":\"src: %{x}\\u003cbr\\u003edest: %{y}\\u003cbr\\u003ecolor: %{z}\\u003cextra\\u003e\\u003c\\u002fextra\\u003e\"}],                        {\"template\":{\"data\":{\"histogram2dcontour\":[{\"type\":\"histogram2dcontour\",\"colorbar\":{\"outlinewidth\":0,\"ticks\":\"\"},\"colorscale\":[[0.0,\"#0d0887\"],[0.1111111111111111,\"#46039f\"],[0.2222222222222222,\"#7201a8\"],[0.3333333333333333,\"#9c179e\"],[0.4444444444444444,\"#bd3786\"],[0.5555555555555556,\"#d8576b\"],[0.6666666666666666,\"#ed7953\"],[0.7777777777777778,\"#fb9f3a\"],[0.8888888888888888,\"#fdca26\"],[1.0,\"#f0f921\"]]}],\"choropleth\":[{\"type\":\"choropleth\",\"colorbar\":{\"outlinewidth\":0,\"ticks\":\"\"}}],\"histogram2d\":[{\"type\":\"histogram2d\",\"colorbar\":{\"outlinewidth\":0,\"ticks\":\"\"},\"colorscale\":[[0.0,\"#0d0887\"],[0.1111111111111111,\"#46039f\"],[0.2222222222222222,\"#7201a8\"],[0.3333333333333333,\"#9c179e\"],[0.4444444444444444,\"#bd3786\"],[0.5555555555555556,\"#d8576b\"],[0.6666666666666666,\"#ed7953\"],[0.7777777777777778,\"#fb9f3a\"],[0.8888888888888888,\"#fdca26\"],[1.0,\"#f0f921\"]]}],\"heatmap\":[{\"type\":\"heatmap\",\"colorbar\":{\"outlinewidth\":0,\"ticks\":\"\"},\"colorscale\":[[0.0,\"#0d0887\"],[0.1111111111111111,\"#46039f\"],[0.2222222222222222,\"#7201a8\"],[0.3333333333333333,\"#9c179e\"],[0.4444444444444444,\"#bd3786\"],[0.5555555555555556,\"#d8576b\"],[0.6666666666666666,\"#ed7953\"],[0.7777777777777778,\"#fb9f3a\"],[0.8888888888888888,\"#fdca26\"],[1.0,\"#f0f921\"]]}],\"heatmapgl\":[{\"type\":\"heatmapgl\",\"colorbar\":{\"outlinewidth\":0,\"ticks\":\"\"},\"colorscale\":[[0.0,\"#0d0887\"],[0.1111111111111111,\"#46039f\"],[0.2222222222222222,\"#7201a8\"],[0.3333333333333333,\"#9c179e\"],[0.4444444444444444,\"#bd3786\"],[0.5555555555555556,\"#d8576b\"],[0.6666666666666666,\"#ed7953\"],[0.7777777777777778,\"#fb9f3a\"],[0.8888888888888888,\"#fdca26\"],[1.0,\"#f0f921\"]]}],\"contourcarpet\":[{\"type\":\"contourcarpet\",\"colorbar\":{\"outlinewidth\":0,\"ticks\":\"\"}}],\"contour\":[{\"type\":\"contour\",\"colorbar\":{\"outlinewidth\":0,\"ticks\":\"\"},\"colorscale\":[[0.0,\"#0d0887\"],[0.1111111111111111,\"#46039f\"],[0.2222222222222222,\"#7201a8\"],[0.3333333333333333,\"#9c179e\"],[0.4444444444444444,\"#bd3786\"],[0.5555555555555556,\"#d8576b\"],[0.6666666666666666,\"#ed7953\"],[0.7777777777777778,\"#fb9f3a\"],[0.8888888888888888,\"#fdca26\"],[1.0,\"#f0f921\"]]}],\"surface\":[{\"type\":\"surface\",\"colorbar\":{\"outlinewidth\":0,\"ticks\":\"\"},\"colorscale\":[[0.0,\"#0d0887\"],[0.1111111111111111,\"#46039f\"],[0.2222222222222222,\"#7201a8\"],[0.3333333333333333,\"#9c179e\"],[0.4444444444444444,\"#bd3786\"],[0.5555555555555556,\"#d8576b\"],[0.6666666666666666,\"#ed7953\"],[0.7777777777777778,\"#fb9f3a\"],[0.8888888888888888,\"#fdca26\"],[1.0,\"#f0f921\"]]}],\"mesh3d\":[{\"type\":\"mesh3d\",\"colorbar\":{\"outlinewidth\":0,\"ticks\":\"\"}}],\"scatter\":[{\"fillpattern\":{\"fillmode\":\"overlay\",\"size\":10,\"solidity\":0.2},\"type\":\"scatter\"}],\"parcoords\":[{\"type\":\"parcoords\",\"line\":{\"colorbar\":{\"outlinewidth\":0,\"ticks\":\"\"}}}],\"scatterpolargl\":[{\"type\":\"scatterpolargl\",\"marker\":{\"colorbar\":{\"outlinewidth\":0,\"ticks\":\"\"}}}],\"bar\":[{\"error_x\":{\"color\":\"#2a3f5f\"},\"error_y\":{\"color\":\"#2a3f5f\"},\"marker\":{\"line\":{\"color\":\"#E5ECF6\",\"width\":0.5},\"pattern\":{\"fillmode\":\"overlay\",\"size\":10,\"solidity\":0.2}},\"type\":\"bar\"}],\"scattergeo\":[{\"type\":\"scattergeo\",\"marker\":{\"colorbar\":{\"outlinewidth\":0,\"ticks\":\"\"}}}],\"scatterpolar\":[{\"type\":\"scatterpolar\",\"marker\":{\"colorbar\":{\"outlinewidth\":0,\"ticks\":\"\"}}}],\"histogram\":[{\"marker\":{\"pattern\":{\"fillmode\":\"overlay\",\"size\":10,\"solidity\":0.2}},\"type\":\"histogram\"}],\"scattergl\":[{\"type\":\"scattergl\",\"marker\":{\"colorbar\":{\"outlinewidth\":0,\"ticks\":\"\"}}}],\"scatter3d\":[{\"type\":\"scatter3d\",\"line\":{\"colorbar\":{\"outlinewidth\":0,\"ticks\":\"\"}},\"marker\":{\"colorbar\":{\"outlinewidth\":0,\"ticks\":\"\"}}}],\"scattermapbox\":[{\"type\":\"scattermapbox\",\"marker\":{\"colorbar\":{\"outlinewidth\":0,\"ticks\":\"\"}}}],\"scatterternary\":[{\"type\":\"scatterternary\",\"marker\":{\"colorbar\":{\"outlinewidth\":0,\"ticks\":\"\"}}}],\"scattercarpet\":[{\"type\":\"scattercarpet\",\"marker\":{\"colorbar\":{\"outlinewidth\":0,\"ticks\":\"\"}}}],\"carpet\":[{\"aaxis\":{\"endlinecolor\":\"#2a3f5f\",\"gridcolor\":\"white\",\"linecolor\":\"white\",\"minorgridcolor\":\"white\",\"startlinecolor\":\"#2a3f5f\"},\"baxis\":{\"endlinecolor\":\"#2a3f5f\",\"gridcolor\":\"white\",\"linecolor\":\"white\",\"minorgridcolor\":\"white\",\"startlinecolor\":\"#2a3f5f\"},\"type\":\"carpet\"}],\"table\":[{\"cells\":{\"fill\":{\"color\":\"#EBF0F8\"},\"line\":{\"color\":\"white\"}},\"header\":{\"fill\":{\"color\":\"#C8D4E3\"},\"line\":{\"color\":\"white\"}},\"type\":\"table\"}],\"barpolar\":[{\"marker\":{\"line\":{\"color\":\"#E5ECF6\",\"width\":0.5},\"pattern\":{\"fillmode\":\"overlay\",\"size\":10,\"solidity\":0.2}},\"type\":\"barpolar\"}],\"pie\":[{\"automargin\":true,\"type\":\"pie\"}]},\"layout\":{\"autotypenumbers\":\"strict\",\"colorway\":[\"#636efa\",\"#EF553B\",\"#00cc96\",\"#ab63fa\",\"#FFA15A\",\"#19d3f3\",\"#FF6692\",\"#B6E880\",\"#FF97FF\",\"#FECB52\"],\"font\":{\"color\":\"#2a3f5f\"},\"hovermode\":\"closest\",\"hoverlabel\":{\"align\":\"left\"},\"paper_bgcolor\":\"white\",\"plot_bgcolor\":\"#E5ECF6\",\"polar\":{\"bgcolor\":\"#E5ECF6\",\"angularaxis\":{\"gridcolor\":\"white\",\"linecolor\":\"white\",\"ticks\":\"\"},\"radialaxis\":{\"gridcolor\":\"white\",\"linecolor\":\"white\",\"ticks\":\"\"}},\"ternary\":{\"bgcolor\":\"#E5ECF6\",\"aaxis\":{\"gridcolor\":\"white\",\"linecolor\":\"white\",\"ticks\":\"\"},\"baxis\":{\"gridcolor\":\"white\",\"linecolor\":\"white\",\"ticks\":\"\"},\"caxis\":{\"gridcolor\":\"white\",\"linecolor\":\"white\",\"ticks\":\"\"}},\"coloraxis\":{\"colorbar\":{\"outlinewidth\":0,\"ticks\":\"\"}},\"colorscale\":{\"sequential\":[[0.0,\"#0d0887\"],[0.1111111111111111,\"#46039f\"],[0.2222222222222222,\"#7201a8\"],[0.3333333333333333,\"#9c179e\"],[0.4444444444444444,\"#bd3786\"],[0.5555555555555556,\"#d8576b\"],[0.6666666666666666,\"#ed7953\"],[0.7777777777777778,\"#fb9f3a\"],[0.8888888888888888,\"#fdca26\"],[1.0,\"#f0f921\"]],\"sequentialminus\":[[0.0,\"#0d0887\"],[0.1111111111111111,\"#46039f\"],[0.2222222222222222,\"#7201a8\"],[0.3333333333333333,\"#9c179e\"],[0.4444444444444444,\"#bd3786\"],[0.5555555555555556,\"#d8576b\"],[0.6666666666666666,\"#ed7953\"],[0.7777777777777778,\"#fb9f3a\"],[0.8888888888888888,\"#fdca26\"],[1.0,\"#f0f921\"]],\"diverging\":[[0,\"#8e0152\"],[0.1,\"#c51b7d\"],[0.2,\"#de77ae\"],[0.3,\"#f1b6da\"],[0.4,\"#fde0ef\"],[0.5,\"#f7f7f7\"],[0.6,\"#e6f5d0\"],[0.7,\"#b8e186\"],[0.8,\"#7fbc41\"],[0.9,\"#4d9221\"],[1,\"#276419\"]]},\"xaxis\":{\"gridcolor\":\"white\",\"linecolor\":\"white\",\"ticks\":\"\",\"title\":{\"standoff\":15},\"zerolinecolor\":\"white\",\"automargin\":true,\"zerolinewidth\":2},\"yaxis\":{\"gridcolor\":\"white\",\"linecolor\":\"white\",\"ticks\":\"\",\"title\":{\"standoff\":15},\"zerolinecolor\":\"white\",\"automargin\":true,\"zerolinewidth\":2},\"scene\":{\"xaxis\":{\"backgroundcolor\":\"#E5ECF6\",\"gridcolor\":\"white\",\"linecolor\":\"white\",\"showbackground\":true,\"ticks\":\"\",\"zerolinecolor\":\"white\",\"gridwidth\":2},\"yaxis\":{\"backgroundcolor\":\"#E5ECF6\",\"gridcolor\":\"white\",\"linecolor\":\"white\",\"showbackground\":true,\"ticks\":\"\",\"zerolinecolor\":\"white\",\"gridwidth\":2},\"zaxis\":{\"backgroundcolor\":\"#E5ECF6\",\"gridcolor\":\"white\",\"linecolor\":\"white\",\"showbackground\":true,\"ticks\":\"\",\"zerolinecolor\":\"white\",\"gridwidth\":2}},\"shapedefaults\":{\"line\":{\"color\":\"#2a3f5f\"}},\"annotationdefaults\":{\"arrowcolor\":\"#2a3f5f\",\"arrowhead\":0,\"arrowwidth\":1},\"geo\":{\"bgcolor\":\"white\",\"landcolor\":\"#E5ECF6\",\"subunitcolor\":\"white\",\"showland\":true,\"showlakes\":true,\"lakecolor\":\"white\"},\"title\":{\"x\":0.05},\"mapbox\":{\"style\":\"light\"}}},\"xaxis\":{\"anchor\":\"y\",\"domain\":[0.0,1.0],\"scaleanchor\":\"y\",\"constrain\":\"domain\",\"title\":{\"text\":\"src\"}},\"yaxis\":{\"anchor\":\"x\",\"domain\":[0.0,1.0],\"autorange\":\"reversed\",\"constrain\":\"domain\",\"title\":{\"text\":\"dest\"}},\"coloraxis\":{\"colorscale\":[[0.0,\"rgb(103,0,31)\"],[0.1,\"rgb(178,24,43)\"],[0.2,\"rgb(214,96,77)\"],[0.3,\"rgb(244,165,130)\"],[0.4,\"rgb(253,219,199)\"],[0.5,\"rgb(247,247,247)\"],[0.6,\"rgb(209,229,240)\"],[0.7,\"rgb(146,197,222)\"],[0.8,\"rgb(67,147,195)\"],[0.9,\"rgb(33,102,172)\"],[1.0,\"rgb(5,48,97)\"]],\"cmid\":0.0},\"title\":{\"text\":\"0.0 full QK circuits\"}},                        {\"responsive\": true}                    ).then(function(){\n",
              "                            \n",
              "var gd = document.getElementById('441289aa-9bf6-4d5a-a33e-4182a33da932');\n",
              "var x = new MutationObserver(function (mutations, observer) {{\n",
              "        var display = window.getComputedStyle(gd).display;\n",
              "        if (!display || display === 'none') {{\n",
              "            console.log([gd, 'removed!']);\n",
              "            Plotly.purge(gd);\n",
              "            observer.disconnect();\n",
              "        }}\n",
              "}});\n",
              "\n",
              "// Listen for the removal of the full notebook cells\n",
              "var notebookContainer = gd.closest('#notebook-container');\n",
              "if (notebookContainer) {{\n",
              "    x.observe(notebookContainer, {childList: true});\n",
              "}}\n",
              "\n",
              "// Listen for the clearing of the current output cell\n",
              "var outputEl = gd.closest('.output');\n",
              "if (outputEl) {{\n",
              "    x.observe(outputEl, {childList: true});\n",
              "}}\n",
              "\n",
              "                        })                };                            </script>        </div>\n",
              "</body>\n",
              "</html>"
            ]
          },
          "metadata": {}
        }
      ]
    },
    {
      "cell_type": "markdown",
      "source": [
        "Viewing these all at once allows us to get a sense of the general importance of each component. We notice the diagonal stripe we just observed above still stands out compared to most of the other values in this heatmap, suggesting that it explains a large part of this head's function. (Note that rigorously showing that certain components are unimportant is often difficult and requires more work. See [path patching](https://arxiv.org/pdf/2304.05969.pdf) / [causal scrubbing](https://www.lesswrong.com/posts/JvZhhzycHu2Yd57RN/causal-scrubbing-a-method-for-rigorously-testing))\n",
        "\n",
        "\n",
        "Adding to the list of facts we know:\n",
        "* Head 1.0 has the largest direct effect on the logits (DLA)\n",
        "* The average of all 1.0 attn patterns showed the prediction positions (END, ans_0, ans_1) always attend to the permutation index positions (idx_0, idx_1, idx_2) respectively\n",
        "* Every 0.0 pattern we checked shows that permutation tokens (0, 1, 2) always attend to list positions (a_0, a_1, a_2) respectively\n",
        "* **0.0 full QK circuit shows clear diagonal stripe where tokens (0, 1, 2) give the highest attn scores to positions corresponding to (a_0, a_1, a_2) respectively**\n",
        "\n",
        "\n",
        "Another observation from the full QK circuit is that the rows corresponding to the perm tokens in $W_EW_{QK}W_E^T$ weakly stand out compared to the other rows in that section. This might suggest that this head is specialized to move information to these positions.\n",
        "\n",
        "\n",
        "One way to sanity check this is to decompose query / key vectors into their components, $q = x_0W_Q = (e+p)W_Q = eW_Q + pW_Q$ (same idea for $k$), and checking the norms. We expect to see that the query vectors are dominated by the perm token embeddings, and the keys are dominated by the positional embeddings for the list:"
      ],
      "metadata": {
        "id": "-JdpRxz0OTdg"
      }
    },
    {
      "cell_type": "code",
      "source": [
        "imshow(\n",
        "    torch.stack(\n",
        "        [(cache['embed'] @ model.W_Q[0, 0]).norm(dim=-1).mean(dim=0),\n",
        "        (cache['pos_embed'] @ model.W_Q[0, 0]).norm(dim=-1).mean(dim=0)]\n",
        "    ),\n",
        "    title=\"Query component norms\",\n",
        "    xaxis=\"pos\", yaxis=\"component\",\n",
        "    y=[\"Embed\", \"Pos embed\"], x=labels\n",
        ")\n",
        "\n",
        "imshow(\n",
        "    torch.stack(\n",
        "        [(cache['embed'] @ model.W_K[0, 0]).norm(dim=-1).mean(dim=0),\n",
        "        (cache['pos_embed'] @ model.W_K[0, 0]).norm(dim=-1).mean(dim=0)]\n",
        "    ),\n",
        "    title=\"Key component norms\",\n",
        "    xaxis=\"pos\", yaxis=\"component\",\n",
        "    y=[\"Embed\", \"Pos embed\"], x=labels\n",
        ")"
      ],
      "metadata": {
        "colab": {
          "base_uri": "https://localhost:8080/",
          "height": 1000
        },
        "id": "lBLo-UHUb_gy",
        "outputId": "c35891eb-75c9-478d-e530-2f325371623f"
      },
      "execution_count": 30,
      "outputs": [
        {
          "output_type": "display_data",
          "data": {
            "text/html": [
              "<html>\n",
              "<head><meta charset=\"utf-8\" /></head>\n",
              "<body>\n",
              "    <div>            <script src=\"https://cdnjs.cloudflare.com/ajax/libs/mathjax/2.7.5/MathJax.js?config=TeX-AMS-MML_SVG\"></script><script type=\"text/javascript\">if (window.MathJax && window.MathJax.Hub && window.MathJax.Hub.Config) {window.MathJax.Hub.Config({SVG: {font: \"STIX-Web\"}});}</script>                <script type=\"text/javascript\">window.PlotlyConfig = {MathJaxConfig: 'local'};</script>\n",
              "        <script charset=\"utf-8\" src=\"https://cdn.plot.ly/plotly-2.24.1.min.js\"></script>                <div id=\"4d220746-8c27-466d-a1bc-54be6fa267e3\" class=\"plotly-graph-div\" style=\"height:525px; width:100%;\"></div>            <script type=\"text/javascript\">                                    window.PLOTLYENV=window.PLOTLYENV || {};                                    if (document.getElementById(\"4d220746-8c27-466d-a1bc-54be6fa267e3\")) {                    Plotly.newPlot(                        \"4d220746-8c27-466d-a1bc-54be6fa267e3\",                        [{\"coloraxis\":\"coloraxis\",\"name\":\"0\",\"x\":[\"BOS\",\"44_1\",\"39_2\",\"33_3\",\"MID\",\"0_5\",\"2_6\",\"1_7\",\"END\",\"44_9\",\"33_10\",\"39_11\"],\"y\":[\"Embed\",\"Pos embed\"],\"z\":[[1.5145899057388306,1.4014627933502197,1.5241552591323853,1.4627740383148193,1.1881608963012695,4.579355716705322,4.473820209503174,4.50526762008667,3.444622755050659,1.4752583503723145,1.4256434440612793,1.487490177154541],[1.0983878374099731,3.6843607425689697,2.825780153274536,3.389832019805908,1.3564636707305908,3.4840638637542725,3.7091689109802246,2.768550395965576,3.7990314960479736,6.007266521453857,5.10758113861084,0.8777462244033813]],\"type\":\"heatmap\",\"xaxis\":\"x\",\"yaxis\":\"y\",\"hovertemplate\":\"pos: %{x}\\u003cbr\\u003ecomponent: %{y}\\u003cbr\\u003ecolor: %{z}\\u003cextra\\u003e\\u003c\\u002fextra\\u003e\"}],                        {\"template\":{\"data\":{\"histogram2dcontour\":[{\"type\":\"histogram2dcontour\",\"colorbar\":{\"outlinewidth\":0,\"ticks\":\"\"},\"colorscale\":[[0.0,\"#0d0887\"],[0.1111111111111111,\"#46039f\"],[0.2222222222222222,\"#7201a8\"],[0.3333333333333333,\"#9c179e\"],[0.4444444444444444,\"#bd3786\"],[0.5555555555555556,\"#d8576b\"],[0.6666666666666666,\"#ed7953\"],[0.7777777777777778,\"#fb9f3a\"],[0.8888888888888888,\"#fdca26\"],[1.0,\"#f0f921\"]]}],\"choropleth\":[{\"type\":\"choropleth\",\"colorbar\":{\"outlinewidth\":0,\"ticks\":\"\"}}],\"histogram2d\":[{\"type\":\"histogram2d\",\"colorbar\":{\"outlinewidth\":0,\"ticks\":\"\"},\"colorscale\":[[0.0,\"#0d0887\"],[0.1111111111111111,\"#46039f\"],[0.2222222222222222,\"#7201a8\"],[0.3333333333333333,\"#9c179e\"],[0.4444444444444444,\"#bd3786\"],[0.5555555555555556,\"#d8576b\"],[0.6666666666666666,\"#ed7953\"],[0.7777777777777778,\"#fb9f3a\"],[0.8888888888888888,\"#fdca26\"],[1.0,\"#f0f921\"]]}],\"heatmap\":[{\"type\":\"heatmap\",\"colorbar\":{\"outlinewidth\":0,\"ticks\":\"\"},\"colorscale\":[[0.0,\"#0d0887\"],[0.1111111111111111,\"#46039f\"],[0.2222222222222222,\"#7201a8\"],[0.3333333333333333,\"#9c179e\"],[0.4444444444444444,\"#bd3786\"],[0.5555555555555556,\"#d8576b\"],[0.6666666666666666,\"#ed7953\"],[0.7777777777777778,\"#fb9f3a\"],[0.8888888888888888,\"#fdca26\"],[1.0,\"#f0f921\"]]}],\"heatmapgl\":[{\"type\":\"heatmapgl\",\"colorbar\":{\"outlinewidth\":0,\"ticks\":\"\"},\"colorscale\":[[0.0,\"#0d0887\"],[0.1111111111111111,\"#46039f\"],[0.2222222222222222,\"#7201a8\"],[0.3333333333333333,\"#9c179e\"],[0.4444444444444444,\"#bd3786\"],[0.5555555555555556,\"#d8576b\"],[0.6666666666666666,\"#ed7953\"],[0.7777777777777778,\"#fb9f3a\"],[0.8888888888888888,\"#fdca26\"],[1.0,\"#f0f921\"]]}],\"contourcarpet\":[{\"type\":\"contourcarpet\",\"colorbar\":{\"outlinewidth\":0,\"ticks\":\"\"}}],\"contour\":[{\"type\":\"contour\",\"colorbar\":{\"outlinewidth\":0,\"ticks\":\"\"},\"colorscale\":[[0.0,\"#0d0887\"],[0.1111111111111111,\"#46039f\"],[0.2222222222222222,\"#7201a8\"],[0.3333333333333333,\"#9c179e\"],[0.4444444444444444,\"#bd3786\"],[0.5555555555555556,\"#d8576b\"],[0.6666666666666666,\"#ed7953\"],[0.7777777777777778,\"#fb9f3a\"],[0.8888888888888888,\"#fdca26\"],[1.0,\"#f0f921\"]]}],\"surface\":[{\"type\":\"surface\",\"colorbar\":{\"outlinewidth\":0,\"ticks\":\"\"},\"colorscale\":[[0.0,\"#0d0887\"],[0.1111111111111111,\"#46039f\"],[0.2222222222222222,\"#7201a8\"],[0.3333333333333333,\"#9c179e\"],[0.4444444444444444,\"#bd3786\"],[0.5555555555555556,\"#d8576b\"],[0.6666666666666666,\"#ed7953\"],[0.7777777777777778,\"#fb9f3a\"],[0.8888888888888888,\"#fdca26\"],[1.0,\"#f0f921\"]]}],\"mesh3d\":[{\"type\":\"mesh3d\",\"colorbar\":{\"outlinewidth\":0,\"ticks\":\"\"}}],\"scatter\":[{\"fillpattern\":{\"fillmode\":\"overlay\",\"size\":10,\"solidity\":0.2},\"type\":\"scatter\"}],\"parcoords\":[{\"type\":\"parcoords\",\"line\":{\"colorbar\":{\"outlinewidth\":0,\"ticks\":\"\"}}}],\"scatterpolargl\":[{\"type\":\"scatterpolargl\",\"marker\":{\"colorbar\":{\"outlinewidth\":0,\"ticks\":\"\"}}}],\"bar\":[{\"error_x\":{\"color\":\"#2a3f5f\"},\"error_y\":{\"color\":\"#2a3f5f\"},\"marker\":{\"line\":{\"color\":\"#E5ECF6\",\"width\":0.5},\"pattern\":{\"fillmode\":\"overlay\",\"size\":10,\"solidity\":0.2}},\"type\":\"bar\"}],\"scattergeo\":[{\"type\":\"scattergeo\",\"marker\":{\"colorbar\":{\"outlinewidth\":0,\"ticks\":\"\"}}}],\"scatterpolar\":[{\"type\":\"scatterpolar\",\"marker\":{\"colorbar\":{\"outlinewidth\":0,\"ticks\":\"\"}}}],\"histogram\":[{\"marker\":{\"pattern\":{\"fillmode\":\"overlay\",\"size\":10,\"solidity\":0.2}},\"type\":\"histogram\"}],\"scattergl\":[{\"type\":\"scattergl\",\"marker\":{\"colorbar\":{\"outlinewidth\":0,\"ticks\":\"\"}}}],\"scatter3d\":[{\"type\":\"scatter3d\",\"line\":{\"colorbar\":{\"outlinewidth\":0,\"ticks\":\"\"}},\"marker\":{\"colorbar\":{\"outlinewidth\":0,\"ticks\":\"\"}}}],\"scattermapbox\":[{\"type\":\"scattermapbox\",\"marker\":{\"colorbar\":{\"outlinewidth\":0,\"ticks\":\"\"}}}],\"scatterternary\":[{\"type\":\"scatterternary\",\"marker\":{\"colorbar\":{\"outlinewidth\":0,\"ticks\":\"\"}}}],\"scattercarpet\":[{\"type\":\"scattercarpet\",\"marker\":{\"colorbar\":{\"outlinewidth\":0,\"ticks\":\"\"}}}],\"carpet\":[{\"aaxis\":{\"endlinecolor\":\"#2a3f5f\",\"gridcolor\":\"white\",\"linecolor\":\"white\",\"minorgridcolor\":\"white\",\"startlinecolor\":\"#2a3f5f\"},\"baxis\":{\"endlinecolor\":\"#2a3f5f\",\"gridcolor\":\"white\",\"linecolor\":\"white\",\"minorgridcolor\":\"white\",\"startlinecolor\":\"#2a3f5f\"},\"type\":\"carpet\"}],\"table\":[{\"cells\":{\"fill\":{\"color\":\"#EBF0F8\"},\"line\":{\"color\":\"white\"}},\"header\":{\"fill\":{\"color\":\"#C8D4E3\"},\"line\":{\"color\":\"white\"}},\"type\":\"table\"}],\"barpolar\":[{\"marker\":{\"line\":{\"color\":\"#E5ECF6\",\"width\":0.5},\"pattern\":{\"fillmode\":\"overlay\",\"size\":10,\"solidity\":0.2}},\"type\":\"barpolar\"}],\"pie\":[{\"automargin\":true,\"type\":\"pie\"}]},\"layout\":{\"autotypenumbers\":\"strict\",\"colorway\":[\"#636efa\",\"#EF553B\",\"#00cc96\",\"#ab63fa\",\"#FFA15A\",\"#19d3f3\",\"#FF6692\",\"#B6E880\",\"#FF97FF\",\"#FECB52\"],\"font\":{\"color\":\"#2a3f5f\"},\"hovermode\":\"closest\",\"hoverlabel\":{\"align\":\"left\"},\"paper_bgcolor\":\"white\",\"plot_bgcolor\":\"#E5ECF6\",\"polar\":{\"bgcolor\":\"#E5ECF6\",\"angularaxis\":{\"gridcolor\":\"white\",\"linecolor\":\"white\",\"ticks\":\"\"},\"radialaxis\":{\"gridcolor\":\"white\",\"linecolor\":\"white\",\"ticks\":\"\"}},\"ternary\":{\"bgcolor\":\"#E5ECF6\",\"aaxis\":{\"gridcolor\":\"white\",\"linecolor\":\"white\",\"ticks\":\"\"},\"baxis\":{\"gridcolor\":\"white\",\"linecolor\":\"white\",\"ticks\":\"\"},\"caxis\":{\"gridcolor\":\"white\",\"linecolor\":\"white\",\"ticks\":\"\"}},\"coloraxis\":{\"colorbar\":{\"outlinewidth\":0,\"ticks\":\"\"}},\"colorscale\":{\"sequential\":[[0.0,\"#0d0887\"],[0.1111111111111111,\"#46039f\"],[0.2222222222222222,\"#7201a8\"],[0.3333333333333333,\"#9c179e\"],[0.4444444444444444,\"#bd3786\"],[0.5555555555555556,\"#d8576b\"],[0.6666666666666666,\"#ed7953\"],[0.7777777777777778,\"#fb9f3a\"],[0.8888888888888888,\"#fdca26\"],[1.0,\"#f0f921\"]],\"sequentialminus\":[[0.0,\"#0d0887\"],[0.1111111111111111,\"#46039f\"],[0.2222222222222222,\"#7201a8\"],[0.3333333333333333,\"#9c179e\"],[0.4444444444444444,\"#bd3786\"],[0.5555555555555556,\"#d8576b\"],[0.6666666666666666,\"#ed7953\"],[0.7777777777777778,\"#fb9f3a\"],[0.8888888888888888,\"#fdca26\"],[1.0,\"#f0f921\"]],\"diverging\":[[0,\"#8e0152\"],[0.1,\"#c51b7d\"],[0.2,\"#de77ae\"],[0.3,\"#f1b6da\"],[0.4,\"#fde0ef\"],[0.5,\"#f7f7f7\"],[0.6,\"#e6f5d0\"],[0.7,\"#b8e186\"],[0.8,\"#7fbc41\"],[0.9,\"#4d9221\"],[1,\"#276419\"]]},\"xaxis\":{\"gridcolor\":\"white\",\"linecolor\":\"white\",\"ticks\":\"\",\"title\":{\"standoff\":15},\"zerolinecolor\":\"white\",\"automargin\":true,\"zerolinewidth\":2},\"yaxis\":{\"gridcolor\":\"white\",\"linecolor\":\"white\",\"ticks\":\"\",\"title\":{\"standoff\":15},\"zerolinecolor\":\"white\",\"automargin\":true,\"zerolinewidth\":2},\"scene\":{\"xaxis\":{\"backgroundcolor\":\"#E5ECF6\",\"gridcolor\":\"white\",\"linecolor\":\"white\",\"showbackground\":true,\"ticks\":\"\",\"zerolinecolor\":\"white\",\"gridwidth\":2},\"yaxis\":{\"backgroundcolor\":\"#E5ECF6\",\"gridcolor\":\"white\",\"linecolor\":\"white\",\"showbackground\":true,\"ticks\":\"\",\"zerolinecolor\":\"white\",\"gridwidth\":2},\"zaxis\":{\"backgroundcolor\":\"#E5ECF6\",\"gridcolor\":\"white\",\"linecolor\":\"white\",\"showbackground\":true,\"ticks\":\"\",\"zerolinecolor\":\"white\",\"gridwidth\":2}},\"shapedefaults\":{\"line\":{\"color\":\"#2a3f5f\"}},\"annotationdefaults\":{\"arrowcolor\":\"#2a3f5f\",\"arrowhead\":0,\"arrowwidth\":1},\"geo\":{\"bgcolor\":\"white\",\"landcolor\":\"#E5ECF6\",\"subunitcolor\":\"white\",\"showland\":true,\"showlakes\":true,\"lakecolor\":\"white\"},\"title\":{\"x\":0.05},\"mapbox\":{\"style\":\"light\"}}},\"xaxis\":{\"anchor\":\"y\",\"domain\":[0.0,1.0],\"scaleanchor\":\"y\",\"constrain\":\"domain\",\"title\":{\"text\":\"pos\"}},\"yaxis\":{\"anchor\":\"x\",\"domain\":[0.0,1.0],\"autorange\":\"reversed\",\"constrain\":\"domain\",\"title\":{\"text\":\"component\"}},\"coloraxis\":{\"colorscale\":[[0.0,\"rgb(103,0,31)\"],[0.1,\"rgb(178,24,43)\"],[0.2,\"rgb(214,96,77)\"],[0.3,\"rgb(244,165,130)\"],[0.4,\"rgb(253,219,199)\"],[0.5,\"rgb(247,247,247)\"],[0.6,\"rgb(209,229,240)\"],[0.7,\"rgb(146,197,222)\"],[0.8,\"rgb(67,147,195)\"],[0.9,\"rgb(33,102,172)\"],[1.0,\"rgb(5,48,97)\"]],\"cmid\":0.0},\"title\":{\"text\":\"Query component norms\"}},                        {\"responsive\": true}                    ).then(function(){\n",
              "                            \n",
              "var gd = document.getElementById('4d220746-8c27-466d-a1bc-54be6fa267e3');\n",
              "var x = new MutationObserver(function (mutations, observer) {{\n",
              "        var display = window.getComputedStyle(gd).display;\n",
              "        if (!display || display === 'none') {{\n",
              "            console.log([gd, 'removed!']);\n",
              "            Plotly.purge(gd);\n",
              "            observer.disconnect();\n",
              "        }}\n",
              "}});\n",
              "\n",
              "// Listen for the removal of the full notebook cells\n",
              "var notebookContainer = gd.closest('#notebook-container');\n",
              "if (notebookContainer) {{\n",
              "    x.observe(notebookContainer, {childList: true});\n",
              "}}\n",
              "\n",
              "// Listen for the clearing of the current output cell\n",
              "var outputEl = gd.closest('.output');\n",
              "if (outputEl) {{\n",
              "    x.observe(outputEl, {childList: true});\n",
              "}}\n",
              "\n",
              "                        })                };                            </script>        </div>\n",
              "</body>\n",
              "</html>"
            ]
          },
          "metadata": {}
        },
        {
          "output_type": "display_data",
          "data": {
            "text/html": [
              "<html>\n",
              "<head><meta charset=\"utf-8\" /></head>\n",
              "<body>\n",
              "    <div>            <script src=\"https://cdnjs.cloudflare.com/ajax/libs/mathjax/2.7.5/MathJax.js?config=TeX-AMS-MML_SVG\"></script><script type=\"text/javascript\">if (window.MathJax && window.MathJax.Hub && window.MathJax.Hub.Config) {window.MathJax.Hub.Config({SVG: {font: \"STIX-Web\"}});}</script>                <script type=\"text/javascript\">window.PlotlyConfig = {MathJaxConfig: 'local'};</script>\n",
              "        <script charset=\"utf-8\" src=\"https://cdn.plot.ly/plotly-2.24.1.min.js\"></script>                <div id=\"6b49d085-210a-47ad-af0d-d38b8a0d1052\" class=\"plotly-graph-div\" style=\"height:525px; width:100%;\"></div>            <script type=\"text/javascript\">                                    window.PLOTLYENV=window.PLOTLYENV || {};                                    if (document.getElementById(\"6b49d085-210a-47ad-af0d-d38b8a0d1052\")) {                    Plotly.newPlot(                        \"6b49d085-210a-47ad-af0d-d38b8a0d1052\",                        [{\"coloraxis\":\"coloraxis\",\"name\":\"0\",\"x\":[\"BOS\",\"44_1\",\"39_2\",\"33_3\",\"MID\",\"0_5\",\"2_6\",\"1_7\",\"END\",\"44_9\",\"33_10\",\"39_11\"],\"y\":[\"Embed\",\"Pos embed\"],\"z\":[[1.7286349534988403,1.3308264017105103,1.3596150875091553,1.3421440124511719,2.173596143722534,1.9918110370635986,1.8165135383605957,1.9104461669921875,2.3842580318450928,1.3569321632385254,1.3292901515960693,1.3463630676269531],[1.6688135862350464,3.4325921535491943,3.9961509704589844,5.808550834655762,1.713179111480713,6.7781243324279785,6.09999418258667,5.207854270935059,2.2125048637390137,5.734848976135254,4.316116809844971,0.7472706437110901]],\"type\":\"heatmap\",\"xaxis\":\"x\",\"yaxis\":\"y\",\"hovertemplate\":\"pos: %{x}\\u003cbr\\u003ecomponent: %{y}\\u003cbr\\u003ecolor: %{z}\\u003cextra\\u003e\\u003c\\u002fextra\\u003e\"}],                        {\"template\":{\"data\":{\"histogram2dcontour\":[{\"type\":\"histogram2dcontour\",\"colorbar\":{\"outlinewidth\":0,\"ticks\":\"\"},\"colorscale\":[[0.0,\"#0d0887\"],[0.1111111111111111,\"#46039f\"],[0.2222222222222222,\"#7201a8\"],[0.3333333333333333,\"#9c179e\"],[0.4444444444444444,\"#bd3786\"],[0.5555555555555556,\"#d8576b\"],[0.6666666666666666,\"#ed7953\"],[0.7777777777777778,\"#fb9f3a\"],[0.8888888888888888,\"#fdca26\"],[1.0,\"#f0f921\"]]}],\"choropleth\":[{\"type\":\"choropleth\",\"colorbar\":{\"outlinewidth\":0,\"ticks\":\"\"}}],\"histogram2d\":[{\"type\":\"histogram2d\",\"colorbar\":{\"outlinewidth\":0,\"ticks\":\"\"},\"colorscale\":[[0.0,\"#0d0887\"],[0.1111111111111111,\"#46039f\"],[0.2222222222222222,\"#7201a8\"],[0.3333333333333333,\"#9c179e\"],[0.4444444444444444,\"#bd3786\"],[0.5555555555555556,\"#d8576b\"],[0.6666666666666666,\"#ed7953\"],[0.7777777777777778,\"#fb9f3a\"],[0.8888888888888888,\"#fdca26\"],[1.0,\"#f0f921\"]]}],\"heatmap\":[{\"type\":\"heatmap\",\"colorbar\":{\"outlinewidth\":0,\"ticks\":\"\"},\"colorscale\":[[0.0,\"#0d0887\"],[0.1111111111111111,\"#46039f\"],[0.2222222222222222,\"#7201a8\"],[0.3333333333333333,\"#9c179e\"],[0.4444444444444444,\"#bd3786\"],[0.5555555555555556,\"#d8576b\"],[0.6666666666666666,\"#ed7953\"],[0.7777777777777778,\"#fb9f3a\"],[0.8888888888888888,\"#fdca26\"],[1.0,\"#f0f921\"]]}],\"heatmapgl\":[{\"type\":\"heatmapgl\",\"colorbar\":{\"outlinewidth\":0,\"ticks\":\"\"},\"colorscale\":[[0.0,\"#0d0887\"],[0.1111111111111111,\"#46039f\"],[0.2222222222222222,\"#7201a8\"],[0.3333333333333333,\"#9c179e\"],[0.4444444444444444,\"#bd3786\"],[0.5555555555555556,\"#d8576b\"],[0.6666666666666666,\"#ed7953\"],[0.7777777777777778,\"#fb9f3a\"],[0.8888888888888888,\"#fdca26\"],[1.0,\"#f0f921\"]]}],\"contourcarpet\":[{\"type\":\"contourcarpet\",\"colorbar\":{\"outlinewidth\":0,\"ticks\":\"\"}}],\"contour\":[{\"type\":\"contour\",\"colorbar\":{\"outlinewidth\":0,\"ticks\":\"\"},\"colorscale\":[[0.0,\"#0d0887\"],[0.1111111111111111,\"#46039f\"],[0.2222222222222222,\"#7201a8\"],[0.3333333333333333,\"#9c179e\"],[0.4444444444444444,\"#bd3786\"],[0.5555555555555556,\"#d8576b\"],[0.6666666666666666,\"#ed7953\"],[0.7777777777777778,\"#fb9f3a\"],[0.8888888888888888,\"#fdca26\"],[1.0,\"#f0f921\"]]}],\"surface\":[{\"type\":\"surface\",\"colorbar\":{\"outlinewidth\":0,\"ticks\":\"\"},\"colorscale\":[[0.0,\"#0d0887\"],[0.1111111111111111,\"#46039f\"],[0.2222222222222222,\"#7201a8\"],[0.3333333333333333,\"#9c179e\"],[0.4444444444444444,\"#bd3786\"],[0.5555555555555556,\"#d8576b\"],[0.6666666666666666,\"#ed7953\"],[0.7777777777777778,\"#fb9f3a\"],[0.8888888888888888,\"#fdca26\"],[1.0,\"#f0f921\"]]}],\"mesh3d\":[{\"type\":\"mesh3d\",\"colorbar\":{\"outlinewidth\":0,\"ticks\":\"\"}}],\"scatter\":[{\"fillpattern\":{\"fillmode\":\"overlay\",\"size\":10,\"solidity\":0.2},\"type\":\"scatter\"}],\"parcoords\":[{\"type\":\"parcoords\",\"line\":{\"colorbar\":{\"outlinewidth\":0,\"ticks\":\"\"}}}],\"scatterpolargl\":[{\"type\":\"scatterpolargl\",\"marker\":{\"colorbar\":{\"outlinewidth\":0,\"ticks\":\"\"}}}],\"bar\":[{\"error_x\":{\"color\":\"#2a3f5f\"},\"error_y\":{\"color\":\"#2a3f5f\"},\"marker\":{\"line\":{\"color\":\"#E5ECF6\",\"width\":0.5},\"pattern\":{\"fillmode\":\"overlay\",\"size\":10,\"solidity\":0.2}},\"type\":\"bar\"}],\"scattergeo\":[{\"type\":\"scattergeo\",\"marker\":{\"colorbar\":{\"outlinewidth\":0,\"ticks\":\"\"}}}],\"scatterpolar\":[{\"type\":\"scatterpolar\",\"marker\":{\"colorbar\":{\"outlinewidth\":0,\"ticks\":\"\"}}}],\"histogram\":[{\"marker\":{\"pattern\":{\"fillmode\":\"overlay\",\"size\":10,\"solidity\":0.2}},\"type\":\"histogram\"}],\"scattergl\":[{\"type\":\"scattergl\",\"marker\":{\"colorbar\":{\"outlinewidth\":0,\"ticks\":\"\"}}}],\"scatter3d\":[{\"type\":\"scatter3d\",\"line\":{\"colorbar\":{\"outlinewidth\":0,\"ticks\":\"\"}},\"marker\":{\"colorbar\":{\"outlinewidth\":0,\"ticks\":\"\"}}}],\"scattermapbox\":[{\"type\":\"scattermapbox\",\"marker\":{\"colorbar\":{\"outlinewidth\":0,\"ticks\":\"\"}}}],\"scatterternary\":[{\"type\":\"scatterternary\",\"marker\":{\"colorbar\":{\"outlinewidth\":0,\"ticks\":\"\"}}}],\"scattercarpet\":[{\"type\":\"scattercarpet\",\"marker\":{\"colorbar\":{\"outlinewidth\":0,\"ticks\":\"\"}}}],\"carpet\":[{\"aaxis\":{\"endlinecolor\":\"#2a3f5f\",\"gridcolor\":\"white\",\"linecolor\":\"white\",\"minorgridcolor\":\"white\",\"startlinecolor\":\"#2a3f5f\"},\"baxis\":{\"endlinecolor\":\"#2a3f5f\",\"gridcolor\":\"white\",\"linecolor\":\"white\",\"minorgridcolor\":\"white\",\"startlinecolor\":\"#2a3f5f\"},\"type\":\"carpet\"}],\"table\":[{\"cells\":{\"fill\":{\"color\":\"#EBF0F8\"},\"line\":{\"color\":\"white\"}},\"header\":{\"fill\":{\"color\":\"#C8D4E3\"},\"line\":{\"color\":\"white\"}},\"type\":\"table\"}],\"barpolar\":[{\"marker\":{\"line\":{\"color\":\"#E5ECF6\",\"width\":0.5},\"pattern\":{\"fillmode\":\"overlay\",\"size\":10,\"solidity\":0.2}},\"type\":\"barpolar\"}],\"pie\":[{\"automargin\":true,\"type\":\"pie\"}]},\"layout\":{\"autotypenumbers\":\"strict\",\"colorway\":[\"#636efa\",\"#EF553B\",\"#00cc96\",\"#ab63fa\",\"#FFA15A\",\"#19d3f3\",\"#FF6692\",\"#B6E880\",\"#FF97FF\",\"#FECB52\"],\"font\":{\"color\":\"#2a3f5f\"},\"hovermode\":\"closest\",\"hoverlabel\":{\"align\":\"left\"},\"paper_bgcolor\":\"white\",\"plot_bgcolor\":\"#E5ECF6\",\"polar\":{\"bgcolor\":\"#E5ECF6\",\"angularaxis\":{\"gridcolor\":\"white\",\"linecolor\":\"white\",\"ticks\":\"\"},\"radialaxis\":{\"gridcolor\":\"white\",\"linecolor\":\"white\",\"ticks\":\"\"}},\"ternary\":{\"bgcolor\":\"#E5ECF6\",\"aaxis\":{\"gridcolor\":\"white\",\"linecolor\":\"white\",\"ticks\":\"\"},\"baxis\":{\"gridcolor\":\"white\",\"linecolor\":\"white\",\"ticks\":\"\"},\"caxis\":{\"gridcolor\":\"white\",\"linecolor\":\"white\",\"ticks\":\"\"}},\"coloraxis\":{\"colorbar\":{\"outlinewidth\":0,\"ticks\":\"\"}},\"colorscale\":{\"sequential\":[[0.0,\"#0d0887\"],[0.1111111111111111,\"#46039f\"],[0.2222222222222222,\"#7201a8\"],[0.3333333333333333,\"#9c179e\"],[0.4444444444444444,\"#bd3786\"],[0.5555555555555556,\"#d8576b\"],[0.6666666666666666,\"#ed7953\"],[0.7777777777777778,\"#fb9f3a\"],[0.8888888888888888,\"#fdca26\"],[1.0,\"#f0f921\"]],\"sequentialminus\":[[0.0,\"#0d0887\"],[0.1111111111111111,\"#46039f\"],[0.2222222222222222,\"#7201a8\"],[0.3333333333333333,\"#9c179e\"],[0.4444444444444444,\"#bd3786\"],[0.5555555555555556,\"#d8576b\"],[0.6666666666666666,\"#ed7953\"],[0.7777777777777778,\"#fb9f3a\"],[0.8888888888888888,\"#fdca26\"],[1.0,\"#f0f921\"]],\"diverging\":[[0,\"#8e0152\"],[0.1,\"#c51b7d\"],[0.2,\"#de77ae\"],[0.3,\"#f1b6da\"],[0.4,\"#fde0ef\"],[0.5,\"#f7f7f7\"],[0.6,\"#e6f5d0\"],[0.7,\"#b8e186\"],[0.8,\"#7fbc41\"],[0.9,\"#4d9221\"],[1,\"#276419\"]]},\"xaxis\":{\"gridcolor\":\"white\",\"linecolor\":\"white\",\"ticks\":\"\",\"title\":{\"standoff\":15},\"zerolinecolor\":\"white\",\"automargin\":true,\"zerolinewidth\":2},\"yaxis\":{\"gridcolor\":\"white\",\"linecolor\":\"white\",\"ticks\":\"\",\"title\":{\"standoff\":15},\"zerolinecolor\":\"white\",\"automargin\":true,\"zerolinewidth\":2},\"scene\":{\"xaxis\":{\"backgroundcolor\":\"#E5ECF6\",\"gridcolor\":\"white\",\"linecolor\":\"white\",\"showbackground\":true,\"ticks\":\"\",\"zerolinecolor\":\"white\",\"gridwidth\":2},\"yaxis\":{\"backgroundcolor\":\"#E5ECF6\",\"gridcolor\":\"white\",\"linecolor\":\"white\",\"showbackground\":true,\"ticks\":\"\",\"zerolinecolor\":\"white\",\"gridwidth\":2},\"zaxis\":{\"backgroundcolor\":\"#E5ECF6\",\"gridcolor\":\"white\",\"linecolor\":\"white\",\"showbackground\":true,\"ticks\":\"\",\"zerolinecolor\":\"white\",\"gridwidth\":2}},\"shapedefaults\":{\"line\":{\"color\":\"#2a3f5f\"}},\"annotationdefaults\":{\"arrowcolor\":\"#2a3f5f\",\"arrowhead\":0,\"arrowwidth\":1},\"geo\":{\"bgcolor\":\"white\",\"landcolor\":\"#E5ECF6\",\"subunitcolor\":\"white\",\"showland\":true,\"showlakes\":true,\"lakecolor\":\"white\"},\"title\":{\"x\":0.05},\"mapbox\":{\"style\":\"light\"}}},\"xaxis\":{\"anchor\":\"y\",\"domain\":[0.0,1.0],\"scaleanchor\":\"y\",\"constrain\":\"domain\",\"title\":{\"text\":\"pos\"}},\"yaxis\":{\"anchor\":\"x\",\"domain\":[0.0,1.0],\"autorange\":\"reversed\",\"constrain\":\"domain\",\"title\":{\"text\":\"component\"}},\"coloraxis\":{\"colorscale\":[[0.0,\"rgb(103,0,31)\"],[0.1,\"rgb(178,24,43)\"],[0.2,\"rgb(214,96,77)\"],[0.3,\"rgb(244,165,130)\"],[0.4,\"rgb(253,219,199)\"],[0.5,\"rgb(247,247,247)\"],[0.6,\"rgb(209,229,240)\"],[0.7,\"rgb(146,197,222)\"],[0.8,\"rgb(67,147,195)\"],[0.9,\"rgb(33,102,172)\"],[1.0,\"rgb(5,48,97)\"]],\"cmid\":0.0},\"title\":{\"text\":\"Key component norms\"}},                        {\"responsive\": true}                    ).then(function(){\n",
              "                            \n",
              "var gd = document.getElementById('6b49d085-210a-47ad-af0d-d38b8a0d1052');\n",
              "var x = new MutationObserver(function (mutations, observer) {{\n",
              "        var display = window.getComputedStyle(gd).display;\n",
              "        if (!display || display === 'none') {{\n",
              "            console.log([gd, 'removed!']);\n",
              "            Plotly.purge(gd);\n",
              "            observer.disconnect();\n",
              "        }}\n",
              "}});\n",
              "\n",
              "// Listen for the removal of the full notebook cells\n",
              "var notebookContainer = gd.closest('#notebook-container');\n",
              "if (notebookContainer) {{\n",
              "    x.observe(notebookContainer, {childList: true});\n",
              "}}\n",
              "\n",
              "// Listen for the clearing of the current output cell\n",
              "var outputEl = gd.closest('.output');\n",
              "if (outputEl) {{\n",
              "    x.observe(outputEl, {childList: true});\n",
              "}}\n",
              "\n",
              "                        })                };                            </script>        </div>\n",
              "</body>\n",
              "</html>"
            ]
          },
          "metadata": {}
        }
      ]
    },
    {
      "cell_type": "markdown",
      "source": [
        "It's weaker than I expected, but we do see the perm token embeddings slightly stand out in the queries, and the list positional embeddings stand out for their keys."
      ],
      "metadata": {
        "id": "C-p3Bp0pd0UB"
      }
    },
    {
      "cell_type": "markdown",
      "source": [
        "## Understand 1.0 QK circuits"
      ],
      "metadata": {
        "id": "rnzG18VEPWgp"
      }
    },
    {
      "cell_type": "markdown",
      "source": [
        "Since we were able to get some traction on understanding the QK circuit weights for 0.0, let's try the same for 1.0.\n",
        "\n",
        "We expect that the attn pattern is mainly determined for by the positions (recall the prediction destination positions always attended very strongly to the fixed perm positions), so we expect the $W_{pos}W_{QK}W_{pos}^T$ term to explain this."
      ],
      "metadata": {
        "id": "EH4CG6TLPZq-"
      }
    },
    {
      "cell_type": "code",
      "source": [
        "W_QK = model.QK[1, 0].AB\n",
        "W_QK.shape"
      ],
      "metadata": {
        "colab": {
          "base_uri": "https://localhost:8080/"
        },
        "id": "M2jhrVwMPvWj",
        "outputId": "122f26a8-ac20-4f8b-9caf-d9333efb6229"
      },
      "execution_count": 31,
      "outputs": [
        {
          "output_type": "execute_result",
          "data": {
            "text/plain": [
              "torch.Size([128, 128])"
            ]
          },
          "metadata": {},
          "execution_count": 31
        }
      ]
    },
    {
      "cell_type": "code",
      "source": [
        "imshow(\n",
        "    torch.tril(W_pos @ W_QK @ W_pos.T),\n",
        "    title=f\"1.0 full QK circuit W_pos @ W_QK @ W_pos.T\",\n",
        "    xaxis=\"src pos\", yaxis='dest pos',\n",
        "    x=general_labels, y=general_labels,\n",
        ")"
      ],
      "metadata": {
        "colab": {
          "base_uri": "https://localhost:8080/",
          "height": 542
        },
        "id": "nU0kKikLPyZC",
        "outputId": "fdf39e22-db21-4722-9290-970450fbbb9c"
      },
      "execution_count": 32,
      "outputs": [
        {
          "output_type": "display_data",
          "data": {
            "text/html": [
              "<html>\n",
              "<head><meta charset=\"utf-8\" /></head>\n",
              "<body>\n",
              "    <div>            <script src=\"https://cdnjs.cloudflare.com/ajax/libs/mathjax/2.7.5/MathJax.js?config=TeX-AMS-MML_SVG\"></script><script type=\"text/javascript\">if (window.MathJax && window.MathJax.Hub && window.MathJax.Hub.Config) {window.MathJax.Hub.Config({SVG: {font: \"STIX-Web\"}});}</script>                <script type=\"text/javascript\">window.PlotlyConfig = {MathJaxConfig: 'local'};</script>\n",
              "        <script charset=\"utf-8\" src=\"https://cdn.plot.ly/plotly-2.24.1.min.js\"></script>                <div id=\"6398808e-2c86-4688-a14d-83825897bd4d\" class=\"plotly-graph-div\" style=\"height:525px; width:100%;\"></div>            <script type=\"text/javascript\">                                    window.PLOTLYENV=window.PLOTLYENV || {};                                    if (document.getElementById(\"6398808e-2c86-4688-a14d-83825897bd4d\")) {                    Plotly.newPlot(                        \"6398808e-2c86-4688-a14d-83825897bd4d\",                        [{\"coloraxis\":\"coloraxis\",\"name\":\"0\",\"x\":[\"BOS\",\"a_0\",\"a_1\",\"a_2\",\"MID\",\"idx_0\",\"idx_1\",\"idx_2\",\"END\",\"ans_0\",\"ans_1\",\"ans_2\"],\"y\":[\"BOS\",\"a_0\",\"a_1\",\"a_2\",\"MID\",\"idx_0\",\"idx_1\",\"idx_2\",\"END\",\"ans_0\",\"ans_1\",\"ans_2\"],\"z\":[[-0.7535196542739868,0.0,0.0,0.0,0.0,0.0,0.0,0.0,0.0,0.0,0.0,0.0],[0.7320630550384521,-0.44745102524757385,0.0,0.0,0.0,0.0,0.0,0.0,0.0,0.0,0.0,0.0],[0.10556797683238983,-0.9281052350997925,0.26630091667175293,0.0,0.0,0.0,0.0,0.0,0.0,0.0,0.0,0.0],[-0.06999748945236206,1.729017972946167,0.2940431833267212,-1.4658467769622803,0.0,0.0,0.0,0.0,0.0,0.0,0.0,0.0],[0.6625199913978577,0.2816484272480011,-1.1914042234420776,-1.1577571630477905,-0.41095301508903503,0.0,0.0,0.0,0.0,0.0,0.0,0.0],[-0.8183212280273438,1.1050301790237427,0.4044898748397827,1.8791611194610596,0.4177561104297638,-2.6130616664886475,0.0,0.0,0.0,0.0,0.0,0.0],[-2.7095491886138916,4.25123929977417,2.6818606853485107,2.9997382164001465,0.42033055424690247,-3.6328353881835938,-6.937811374664307,0.0,0.0,0.0,0.0,0.0],[1.8616623878479004,-1.7616779804229736,-2.1663694381713867,-2.4483346939086914,-0.6922979354858398,0.0362110435962677,8.903525352478027,-2.921562671661377,0.0,0.0,0.0,0.0],[-0.0956222414970398,2.5156264305114746,1.1510233879089355,-5.300528526306152,-0.07111826539039612,26.196189880371094,-16.044675827026367,-6.455239295959473,1.9038171768188477,0.0,0.0,0.0],[-0.5815208554267883,0.07120699435472488,-1.3644670248031616,-0.06436923146247864,-1.0534121990203857,-13.655967712402344,20.733457565307617,-0.29398566484451294,-1.9578146934509277,2.0381147861480713,0.0,0.0],[-4.923505783081055,3.2561535835266113,7.6903767585754395,11.84055233001709,1.6581931114196777,-21.491153717041016,-15.594327926635742,12.151254653930664,-3.75715970993042,-12.077486991882324,-13.376365661621094,0.0],[-0.42866674065589905,0.01536992285400629,1.0856190919876099,0.6796417236328125,0.029211459681391716,-2.6107897758483887,0.44667115807533264,0.550926685333252,-0.5406963229179382,-0.9722371697425842,-0.8362433314323425,-0.22941631078720093]],\"type\":\"heatmap\",\"xaxis\":\"x\",\"yaxis\":\"y\",\"hovertemplate\":\"src pos: %{x}\\u003cbr\\u003edest pos: %{y}\\u003cbr\\u003ecolor: %{z}\\u003cextra\\u003e\\u003c\\u002fextra\\u003e\"}],                        {\"template\":{\"data\":{\"histogram2dcontour\":[{\"type\":\"histogram2dcontour\",\"colorbar\":{\"outlinewidth\":0,\"ticks\":\"\"},\"colorscale\":[[0.0,\"#0d0887\"],[0.1111111111111111,\"#46039f\"],[0.2222222222222222,\"#7201a8\"],[0.3333333333333333,\"#9c179e\"],[0.4444444444444444,\"#bd3786\"],[0.5555555555555556,\"#d8576b\"],[0.6666666666666666,\"#ed7953\"],[0.7777777777777778,\"#fb9f3a\"],[0.8888888888888888,\"#fdca26\"],[1.0,\"#f0f921\"]]}],\"choropleth\":[{\"type\":\"choropleth\",\"colorbar\":{\"outlinewidth\":0,\"ticks\":\"\"}}],\"histogram2d\":[{\"type\":\"histogram2d\",\"colorbar\":{\"outlinewidth\":0,\"ticks\":\"\"},\"colorscale\":[[0.0,\"#0d0887\"],[0.1111111111111111,\"#46039f\"],[0.2222222222222222,\"#7201a8\"],[0.3333333333333333,\"#9c179e\"],[0.4444444444444444,\"#bd3786\"],[0.5555555555555556,\"#d8576b\"],[0.6666666666666666,\"#ed7953\"],[0.7777777777777778,\"#fb9f3a\"],[0.8888888888888888,\"#fdca26\"],[1.0,\"#f0f921\"]]}],\"heatmap\":[{\"type\":\"heatmap\",\"colorbar\":{\"outlinewidth\":0,\"ticks\":\"\"},\"colorscale\":[[0.0,\"#0d0887\"],[0.1111111111111111,\"#46039f\"],[0.2222222222222222,\"#7201a8\"],[0.3333333333333333,\"#9c179e\"],[0.4444444444444444,\"#bd3786\"],[0.5555555555555556,\"#d8576b\"],[0.6666666666666666,\"#ed7953\"],[0.7777777777777778,\"#fb9f3a\"],[0.8888888888888888,\"#fdca26\"],[1.0,\"#f0f921\"]]}],\"heatmapgl\":[{\"type\":\"heatmapgl\",\"colorbar\":{\"outlinewidth\":0,\"ticks\":\"\"},\"colorscale\":[[0.0,\"#0d0887\"],[0.1111111111111111,\"#46039f\"],[0.2222222222222222,\"#7201a8\"],[0.3333333333333333,\"#9c179e\"],[0.4444444444444444,\"#bd3786\"],[0.5555555555555556,\"#d8576b\"],[0.6666666666666666,\"#ed7953\"],[0.7777777777777778,\"#fb9f3a\"],[0.8888888888888888,\"#fdca26\"],[1.0,\"#f0f921\"]]}],\"contourcarpet\":[{\"type\":\"contourcarpet\",\"colorbar\":{\"outlinewidth\":0,\"ticks\":\"\"}}],\"contour\":[{\"type\":\"contour\",\"colorbar\":{\"outlinewidth\":0,\"ticks\":\"\"},\"colorscale\":[[0.0,\"#0d0887\"],[0.1111111111111111,\"#46039f\"],[0.2222222222222222,\"#7201a8\"],[0.3333333333333333,\"#9c179e\"],[0.4444444444444444,\"#bd3786\"],[0.5555555555555556,\"#d8576b\"],[0.6666666666666666,\"#ed7953\"],[0.7777777777777778,\"#fb9f3a\"],[0.8888888888888888,\"#fdca26\"],[1.0,\"#f0f921\"]]}],\"surface\":[{\"type\":\"surface\",\"colorbar\":{\"outlinewidth\":0,\"ticks\":\"\"},\"colorscale\":[[0.0,\"#0d0887\"],[0.1111111111111111,\"#46039f\"],[0.2222222222222222,\"#7201a8\"],[0.3333333333333333,\"#9c179e\"],[0.4444444444444444,\"#bd3786\"],[0.5555555555555556,\"#d8576b\"],[0.6666666666666666,\"#ed7953\"],[0.7777777777777778,\"#fb9f3a\"],[0.8888888888888888,\"#fdca26\"],[1.0,\"#f0f921\"]]}],\"mesh3d\":[{\"type\":\"mesh3d\",\"colorbar\":{\"outlinewidth\":0,\"ticks\":\"\"}}],\"scatter\":[{\"fillpattern\":{\"fillmode\":\"overlay\",\"size\":10,\"solidity\":0.2},\"type\":\"scatter\"}],\"parcoords\":[{\"type\":\"parcoords\",\"line\":{\"colorbar\":{\"outlinewidth\":0,\"ticks\":\"\"}}}],\"scatterpolargl\":[{\"type\":\"scatterpolargl\",\"marker\":{\"colorbar\":{\"outlinewidth\":0,\"ticks\":\"\"}}}],\"bar\":[{\"error_x\":{\"color\":\"#2a3f5f\"},\"error_y\":{\"color\":\"#2a3f5f\"},\"marker\":{\"line\":{\"color\":\"#E5ECF6\",\"width\":0.5},\"pattern\":{\"fillmode\":\"overlay\",\"size\":10,\"solidity\":0.2}},\"type\":\"bar\"}],\"scattergeo\":[{\"type\":\"scattergeo\",\"marker\":{\"colorbar\":{\"outlinewidth\":0,\"ticks\":\"\"}}}],\"scatterpolar\":[{\"type\":\"scatterpolar\",\"marker\":{\"colorbar\":{\"outlinewidth\":0,\"ticks\":\"\"}}}],\"histogram\":[{\"marker\":{\"pattern\":{\"fillmode\":\"overlay\",\"size\":10,\"solidity\":0.2}},\"type\":\"histogram\"}],\"scattergl\":[{\"type\":\"scattergl\",\"marker\":{\"colorbar\":{\"outlinewidth\":0,\"ticks\":\"\"}}}],\"scatter3d\":[{\"type\":\"scatter3d\",\"line\":{\"colorbar\":{\"outlinewidth\":0,\"ticks\":\"\"}},\"marker\":{\"colorbar\":{\"outlinewidth\":0,\"ticks\":\"\"}}}],\"scattermapbox\":[{\"type\":\"scattermapbox\",\"marker\":{\"colorbar\":{\"outlinewidth\":0,\"ticks\":\"\"}}}],\"scatterternary\":[{\"type\":\"scatterternary\",\"marker\":{\"colorbar\":{\"outlinewidth\":0,\"ticks\":\"\"}}}],\"scattercarpet\":[{\"type\":\"scattercarpet\",\"marker\":{\"colorbar\":{\"outlinewidth\":0,\"ticks\":\"\"}}}],\"carpet\":[{\"aaxis\":{\"endlinecolor\":\"#2a3f5f\",\"gridcolor\":\"white\",\"linecolor\":\"white\",\"minorgridcolor\":\"white\",\"startlinecolor\":\"#2a3f5f\"},\"baxis\":{\"endlinecolor\":\"#2a3f5f\",\"gridcolor\":\"white\",\"linecolor\":\"white\",\"minorgridcolor\":\"white\",\"startlinecolor\":\"#2a3f5f\"},\"type\":\"carpet\"}],\"table\":[{\"cells\":{\"fill\":{\"color\":\"#EBF0F8\"},\"line\":{\"color\":\"white\"}},\"header\":{\"fill\":{\"color\":\"#C8D4E3\"},\"line\":{\"color\":\"white\"}},\"type\":\"table\"}],\"barpolar\":[{\"marker\":{\"line\":{\"color\":\"#E5ECF6\",\"width\":0.5},\"pattern\":{\"fillmode\":\"overlay\",\"size\":10,\"solidity\":0.2}},\"type\":\"barpolar\"}],\"pie\":[{\"automargin\":true,\"type\":\"pie\"}]},\"layout\":{\"autotypenumbers\":\"strict\",\"colorway\":[\"#636efa\",\"#EF553B\",\"#00cc96\",\"#ab63fa\",\"#FFA15A\",\"#19d3f3\",\"#FF6692\",\"#B6E880\",\"#FF97FF\",\"#FECB52\"],\"font\":{\"color\":\"#2a3f5f\"},\"hovermode\":\"closest\",\"hoverlabel\":{\"align\":\"left\"},\"paper_bgcolor\":\"white\",\"plot_bgcolor\":\"#E5ECF6\",\"polar\":{\"bgcolor\":\"#E5ECF6\",\"angularaxis\":{\"gridcolor\":\"white\",\"linecolor\":\"white\",\"ticks\":\"\"},\"radialaxis\":{\"gridcolor\":\"white\",\"linecolor\":\"white\",\"ticks\":\"\"}},\"ternary\":{\"bgcolor\":\"#E5ECF6\",\"aaxis\":{\"gridcolor\":\"white\",\"linecolor\":\"white\",\"ticks\":\"\"},\"baxis\":{\"gridcolor\":\"white\",\"linecolor\":\"white\",\"ticks\":\"\"},\"caxis\":{\"gridcolor\":\"white\",\"linecolor\":\"white\",\"ticks\":\"\"}},\"coloraxis\":{\"colorbar\":{\"outlinewidth\":0,\"ticks\":\"\"}},\"colorscale\":{\"sequential\":[[0.0,\"#0d0887\"],[0.1111111111111111,\"#46039f\"],[0.2222222222222222,\"#7201a8\"],[0.3333333333333333,\"#9c179e\"],[0.4444444444444444,\"#bd3786\"],[0.5555555555555556,\"#d8576b\"],[0.6666666666666666,\"#ed7953\"],[0.7777777777777778,\"#fb9f3a\"],[0.8888888888888888,\"#fdca26\"],[1.0,\"#f0f921\"]],\"sequentialminus\":[[0.0,\"#0d0887\"],[0.1111111111111111,\"#46039f\"],[0.2222222222222222,\"#7201a8\"],[0.3333333333333333,\"#9c179e\"],[0.4444444444444444,\"#bd3786\"],[0.5555555555555556,\"#d8576b\"],[0.6666666666666666,\"#ed7953\"],[0.7777777777777778,\"#fb9f3a\"],[0.8888888888888888,\"#fdca26\"],[1.0,\"#f0f921\"]],\"diverging\":[[0,\"#8e0152\"],[0.1,\"#c51b7d\"],[0.2,\"#de77ae\"],[0.3,\"#f1b6da\"],[0.4,\"#fde0ef\"],[0.5,\"#f7f7f7\"],[0.6,\"#e6f5d0\"],[0.7,\"#b8e186\"],[0.8,\"#7fbc41\"],[0.9,\"#4d9221\"],[1,\"#276419\"]]},\"xaxis\":{\"gridcolor\":\"white\",\"linecolor\":\"white\",\"ticks\":\"\",\"title\":{\"standoff\":15},\"zerolinecolor\":\"white\",\"automargin\":true,\"zerolinewidth\":2},\"yaxis\":{\"gridcolor\":\"white\",\"linecolor\":\"white\",\"ticks\":\"\",\"title\":{\"standoff\":15},\"zerolinecolor\":\"white\",\"automargin\":true,\"zerolinewidth\":2},\"scene\":{\"xaxis\":{\"backgroundcolor\":\"#E5ECF6\",\"gridcolor\":\"white\",\"linecolor\":\"white\",\"showbackground\":true,\"ticks\":\"\",\"zerolinecolor\":\"white\",\"gridwidth\":2},\"yaxis\":{\"backgroundcolor\":\"#E5ECF6\",\"gridcolor\":\"white\",\"linecolor\":\"white\",\"showbackground\":true,\"ticks\":\"\",\"zerolinecolor\":\"white\",\"gridwidth\":2},\"zaxis\":{\"backgroundcolor\":\"#E5ECF6\",\"gridcolor\":\"white\",\"linecolor\":\"white\",\"showbackground\":true,\"ticks\":\"\",\"zerolinecolor\":\"white\",\"gridwidth\":2}},\"shapedefaults\":{\"line\":{\"color\":\"#2a3f5f\"}},\"annotationdefaults\":{\"arrowcolor\":\"#2a3f5f\",\"arrowhead\":0,\"arrowwidth\":1},\"geo\":{\"bgcolor\":\"white\",\"landcolor\":\"#E5ECF6\",\"subunitcolor\":\"white\",\"showland\":true,\"showlakes\":true,\"lakecolor\":\"white\"},\"title\":{\"x\":0.05},\"mapbox\":{\"style\":\"light\"}}},\"xaxis\":{\"anchor\":\"y\",\"domain\":[0.0,1.0],\"scaleanchor\":\"y\",\"constrain\":\"domain\",\"title\":{\"text\":\"src pos\"}},\"yaxis\":{\"anchor\":\"x\",\"domain\":[0.0,1.0],\"autorange\":\"reversed\",\"constrain\":\"domain\",\"title\":{\"text\":\"dest pos\"}},\"coloraxis\":{\"colorscale\":[[0.0,\"rgb(103,0,31)\"],[0.1,\"rgb(178,24,43)\"],[0.2,\"rgb(214,96,77)\"],[0.3,\"rgb(244,165,130)\"],[0.4,\"rgb(253,219,199)\"],[0.5,\"rgb(247,247,247)\"],[0.6,\"rgb(209,229,240)\"],[0.7,\"rgb(146,197,222)\"],[0.8,\"rgb(67,147,195)\"],[0.9,\"rgb(33,102,172)\"],[1.0,\"rgb(5,48,97)\"]],\"cmid\":0.0},\"title\":{\"text\":\"1.0 full QK circuit W_pos @ W_QK @ W_pos.T\"}},                        {\"responsive\": true}                    ).then(function(){\n",
              "                            \n",
              "var gd = document.getElementById('6398808e-2c86-4688-a14d-83825897bd4d');\n",
              "var x = new MutationObserver(function (mutations, observer) {{\n",
              "        var display = window.getComputedStyle(gd).display;\n",
              "        if (!display || display === 'none') {{\n",
              "            console.log([gd, 'removed!']);\n",
              "            Plotly.purge(gd);\n",
              "            observer.disconnect();\n",
              "        }}\n",
              "}});\n",
              "\n",
              "// Listen for the removal of the full notebook cells\n",
              "var notebookContainer = gd.closest('#notebook-container');\n",
              "if (notebookContainer) {{\n",
              "    x.observe(notebookContainer, {childList: true});\n",
              "}}\n",
              "\n",
              "// Listen for the clearing of the current output cell\n",
              "var outputEl = gd.closest('.output');\n",
              "if (outputEl) {{\n",
              "    x.observe(outputEl, {childList: true});\n",
              "}}\n",
              "\n",
              "                        })                };                            </script>        </div>\n",
              "</body>\n",
              "</html>"
            ]
          },
          "metadata": {}
        }
      ]
    },
    {
      "cell_type": "markdown",
      "source": [
        "Notice the clear diagonal stripe in the subsquare for rows (END, ans_0, ans_1) and columns (idx_0, idx_1, idx_2). This suggests that the (END, ans_0, ans_1) destination positions will give the highest attention scores to the (idx_0, idx_1, idx_2) source positions respectively. This is exactly consistent with what we observed in the average 1.0 attn patterns earlier in this notebook.\n",
        "\n",
        "\n",
        "Updating our understanding of this model:\n",
        "* Head 1.0 has the largest direct effect on the logits (DLA)\n",
        "* The average of all 1.0 attn patterns showed the prediction positions (END, ans_0, ans_1) always attend to the permutation index positions (idx_0, idx_1, idx_2) respectively.\n",
        "    * **1.0 $W_{pos}W_{QK}W_{pos}^T$ QK circuit component shows clear diagonal stripe where prediction positions (END, ans_0, ans_1) give the highest scores to positions (idx_0, idx_1, idx_2) respectively**\n",
        "* Every 0.0 pattern we checked shows that permutation tokens (0, 1, 2) always attend to list positions (a_0, a_1, a_2)respectively.\n",
        "* 0.0 full QK circuit shows clear diagonal stripe where tokens (0, 1, 2) give the highest attn scores to positions corresponding to (a_0, a_1, a_2) respectively."
      ],
      "metadata": {
        "id": "ZG_RKmDS1BL1"
      }
    },
    {
      "cell_type": "markdown",
      "source": [
        "## Decompose logits"
      ],
      "metadata": {
        "id": "-jKtOW3uRSsE"
      }
    },
    {
      "cell_type": "markdown",
      "source": [
        "I feel somewhat convinced that 0.0 causes perm tokens to attend to their corresponding list position, and that 1.0 causes prediction positions to attend the fixed perm positions. However we have yet to determine *what* information is moved. It would be really natural for the composition of both heads to just relay the token information for the correct answer using v-comp, acting as a virtual attn head.\n",
        "\n",
        "\n",
        "In my [min of two ints](https://colab.research.google.com/github/ckkissane/mech-interp-practice/blob/main/tutorials/min_of_two_ints_tutorial.ipynb) tutorial we decomposed the logits into a sum of terms. For a quick recap of why this is useful: we can decompose the logits (or more generally, any residual stream vector) into a sum of terms that each correspond to some path through the model. This allows us to localize which paths are the most important (using techniques like DLA or ablations), which helps narrow down what activations / weights to focus on interpreting. Since this is a 2 layer model there are more paths corresponding to composition between the two layers. Thus we have many more terms:\n",
        "\n",
        "$$\n",
        "\\begin{align}\n",
        "logits &= x_2W_U\\\\\n",
        "&= (h_{1.0}(x_1) + x_1)W_U \\\\\n",
        "&= (A^{1.0}x_1W_{OV}^{1.0} + x_1)W_U \\\\\n",
        "&= (A^{1.0}(A^{0.0}x_0W_{OV}^{0.0} + x_0)W_{OV}^{1.0} + (A^{0.0}x_0W_{OV}^{0.0} + x_0))W_U \\\\\n",
        "&= (A^{1.0}A^{0.0}x_0W_{OV}^{0.0}W_{OV}^{1.0} + A^{1.0}x_0W_{OV}^{1.0} + A^{0.0}x_0W_{OV}^{0.0} + x_0)W_U \\\\\n",
        "&= (A^{1.0}A^{0.0}(e+p)W_{OV}^{0.0}W_{OV}^{1.0} + A^{1.0}(e+p)W_{OV}^{1.0} + A^{0.0}(e+p)W_{OV}^{0.0} + (e+p))W_U \\\\\n",
        "&= (A^{1.0}A^{0.0}eW_{OV}^{0.0}W_{OV}^{1.0} + A^{1.0}A^{0.0}pW_{OV}^{0.0}W_{OV}^{1.0} + A^{1.0}eW_{OV}^{1.0} + A^{1.0}pW_{OV}^{1.0} + A^{0.0}eW_{OV}^{0.0} + A^{0.0}pW_{OV}^{0.0} + e + p)W_U \\\\\n",
        "&= A^{1.0}A^{0.0}tW_EW_{OV}^{0.0}W_{OV}^{1.0}W_U + A^{1.0}A^{0.0}posW_{pos}W_{OV}^{0.0}W_{OV}^{1.0}W_U + A^{1.0}tW_EW_{OV}^{1.0}W_U + A^{1.0}posW_{pos}W_{OV}^{1.0}W_U + A^{0.0}tW_EW_{OV}^{0.0}W_U + A^{0.0}posW_{pos}W_{OV}^{0.0}W_U + tW_EW_U + posW_{pos}W_U \\\\\n",
        "\\end{align}\n",
        "$$\n",
        "\n",
        "Where $t$ and $pos$ are the tokens and positions as one hot encoded vectors respectively.\n",
        "\n",
        "To emphasize the key idea that each term corresponds to a path through the model, I recommend you take some time to think about what paths each term corresponds to. For example, the $A^{1.0}A^{0.0}tW_EW_{OV}^{0.0}W_{OV}^{1.0}W_U$ term corresponds to a path from the token embeddings, through both attention heads, all the way to the logits:\n",
        "\n",
        "![picture](https://drive.google.com/uc?id=18bA5FB3KnnDeJEX_4-DcmNmFlVQVo49y)\n",
        "\n",
        "It would be a pain to study all eight terms, so we'd like to narrow down which terms are the most important. Suggestion: take a few minutes to think about what paths through the model you expect to be the most important before reading on.\n",
        "\n",
        "Recall the hypothesis that the model is using V composition to predict the correct token. Thus we expect the path from the embedding, through both attention heads, to the logits (the $A^{1.0}A^{0.0}tW_EW_{OV}^{0.0}W_{OV}^{1.0}W_U$ term, seen in diagram above) to dominate in importance. We should be able to check this through a more refined direct logit attribution."
      ],
      "metadata": {
        "id": "796Q6m2lRVCW"
      }
    },
    {
      "cell_type": "markdown",
      "source": [
        "## Finer grained direct logit attribution"
      ],
      "metadata": {
        "id": "I5N9lN7OR1hK"
      }
    },
    {
      "cell_type": "markdown",
      "source": [
        "Recall we already used direct logit attribution to show $h_{1.0}(x_1)$ had the biggest effect on the logits ('Direct logit attribution' section). However we want to further decompose:\n",
        "$$\n",
        "h_{1.0}(x_1) = A^{1.0}A^{0.0}eW_{OV}^{0.0}W_{OV}^{1.0} + A^{1.0}A^{0.0}pW_{OV}^{0.0}W_{OV}^{1.0} + A^{1.0}eW_{OV}^{1.0} + A^{1.0}pW_{OV}^{1.0}\n",
        "$$\n",
        "\n",
        " Now we can just apply direct logit attribution on these terms, and prioritize the terms that matter most:"
      ],
      "metadata": {
        "id": "UO8TwvKqTft0"
      }
    },
    {
      "cell_type": "code",
      "source": [
        "embed_both_heads_term = einops.einsum(\n",
        "    cache['pattern', 1], cache['pattern', 0], cache['embed'], model.OV[0,0].AB, model.OV[1, 0].AB,\n",
        "    \"batch n_heads pos1 pos2, batch n_heads pos2 pos3, batch pos3 d_model1, d_model1 d_model2, d_model2 d_model3 -> batch pos1 d_model3\"\n",
        ")\n",
        "\n",
        "pos_embed_both_heads_term = einops.einsum(\n",
        "    cache['pattern', 1], cache['pattern', 0], cache['pos_embed'], model.OV[0,0].AB, model.OV[1, 0].AB,\n",
        "    \"batch n_heads pos1 pos2, batch n_heads pos2 pos3, batch pos3 d_model1, d_model1 d_model2, d_model2 d_model3 -> batch pos1 d_model3\"\n",
        ")\n",
        "\n",
        "embed_head_1_term = einops.einsum(\n",
        "    cache['pattern', 1], cache['embed'], model.OV[1, 0].AB,\n",
        "    \"batch n_heads q_pos k_pos, batch k_pos d_model1, d_model1 d_model2 -> batch q_pos d_model2\"\n",
        ")\n",
        "\n",
        "pos_embed_head_1_term = einops.einsum(\n",
        "    cache['pattern', 1], cache['pos_embed'], model.OV[1, 0].AB,\n",
        "    \"batch n_heads q_pos k_pos, batch k_pos d_model1, d_model1 d_model2 -> batch q_pos d_model2\"\n",
        ")\n",
        "\n",
        "\n",
        "assert torch.allclose(embed_both_heads_term + pos_embed_both_heads_term + embed_head_1_term + pos_embed_head_1_term, cache['attn_out', 1], atol=1e-5)"
      ],
      "metadata": {
        "id": "abZhats6ZyFD"
      },
      "execution_count": 33,
      "outputs": []
    },
    {
      "cell_type": "code",
      "source": [
        "resid_stack = torch.stack([embed_both_heads_term, pos_embed_both_heads_term, embed_head_1_term, pos_embed_head_1_term])\n",
        "resid_stack = resid_stack[:, :, -4, :]\n",
        "print(resid_stack.shape)\n",
        "labels = ['embed_both_heads_term', 'pos_embed_both_heads_term', 'embed_head_1_term', 'pos_embed_head_1_term',]\n",
        "print(labels)"
      ],
      "metadata": {
        "colab": {
          "base_uri": "https://localhost:8080/"
        },
        "id": "kybb9xkgcArq",
        "outputId": "af0a83c6-3f19-4a5b-c8ee-9f3648ff3b91"
      },
      "execution_count": 34,
      "outputs": [
        {
          "output_type": "stream",
          "name": "stdout",
          "text": [
            "torch.Size([4, 256, 128])\n",
            "['embed_both_heads_term', 'pos_embed_both_heads_term', 'embed_head_1_term', 'pos_embed_head_1_term']\n"
          ]
        }
      ]
    },
    {
      "cell_type": "code",
      "source": [
        "per_component_contribution = einops.einsum(\n",
        "    resid_stack,\n",
        "    correct_logit_dirs,\n",
        "    \"... batch d_model, batch d_model -> ...\"\n",
        ") / test_data.shape[0]\n",
        "\n",
        "bar(\n",
        "    per_component_contribution,\n",
        "    title=\"Direct logit attribution for components of attn_out_1\",\n",
        "    xaxis=\"attn_out_1 component\", yaxis=\"attribution\",\n",
        "    x=labels\n",
        ")"
      ],
      "metadata": {
        "colab": {
          "base_uri": "https://localhost:8080/",
          "height": 542
        },
        "id": "LUJ6ObSPcP84",
        "outputId": "c04d3335-1223-4b29-e308-72cb111b10e3"
      },
      "execution_count": 35,
      "outputs": [
        {
          "output_type": "display_data",
          "data": {
            "text/html": [
              "<html>\n",
              "<head><meta charset=\"utf-8\" /></head>\n",
              "<body>\n",
              "    <div>            <script src=\"https://cdnjs.cloudflare.com/ajax/libs/mathjax/2.7.5/MathJax.js?config=TeX-AMS-MML_SVG\"></script><script type=\"text/javascript\">if (window.MathJax && window.MathJax.Hub && window.MathJax.Hub.Config) {window.MathJax.Hub.Config({SVG: {font: \"STIX-Web\"}});}</script>                <script type=\"text/javascript\">window.PlotlyConfig = {MathJaxConfig: 'local'};</script>\n",
              "        <script charset=\"utf-8\" src=\"https://cdn.plot.ly/plotly-2.24.1.min.js\"></script>                <div id=\"314c767f-0ca4-48ac-9f9a-abbcf1a27bee\" class=\"plotly-graph-div\" style=\"height:525px; width:100%;\"></div>            <script type=\"text/javascript\">                                    window.PLOTLYENV=window.PLOTLYENV || {};                                    if (document.getElementById(\"314c767f-0ca4-48ac-9f9a-abbcf1a27bee\")) {                    Plotly.newPlot(                        \"314c767f-0ca4-48ac-9f9a-abbcf1a27bee\",                        [{\"alignmentgroup\":\"True\",\"hovertemplate\":\"attn_out_1 component=%{x}\\u003cbr\\u003eattribution=%{y}\\u003cextra\\u003e\\u003c\\u002fextra\\u003e\",\"legendgroup\":\"\",\"marker\":{\"color\":\"#1F77B4\",\"pattern\":{\"shape\":\"\"}},\"name\":\"\",\"offsetgroup\":\"\",\"orientation\":\"v\",\"showlegend\":false,\"textposition\":\"auto\",\"x\":[\"embed_both_heads_term\",\"pos_embed_both_heads_term\",\"embed_head_1_term\",\"pos_embed_head_1_term\"],\"xaxis\":\"x\",\"y\":[27.01594352722168,0.24711519479751587,-0.07881268858909607,-0.10863606631755829],\"yaxis\":\"y\",\"type\":\"bar\"}],                        {\"template\":{\"data\":{\"barpolar\":[{\"marker\":{\"line\":{\"color\":\"white\",\"width\":0.5},\"pattern\":{\"fillmode\":\"overlay\",\"size\":10,\"solidity\":0.2}},\"type\":\"barpolar\"}],\"bar\":[{\"error_x\":{\"color\":\"rgb(36,36,36)\"},\"error_y\":{\"color\":\"rgb(36,36,36)\"},\"marker\":{\"line\":{\"color\":\"white\",\"width\":0.5},\"pattern\":{\"fillmode\":\"overlay\",\"size\":10,\"solidity\":0.2}},\"type\":\"bar\"}],\"carpet\":[{\"aaxis\":{\"endlinecolor\":\"rgb(36,36,36)\",\"gridcolor\":\"white\",\"linecolor\":\"white\",\"minorgridcolor\":\"white\",\"startlinecolor\":\"rgb(36,36,36)\"},\"baxis\":{\"endlinecolor\":\"rgb(36,36,36)\",\"gridcolor\":\"white\",\"linecolor\":\"white\",\"minorgridcolor\":\"white\",\"startlinecolor\":\"rgb(36,36,36)\"},\"type\":\"carpet\"}],\"choropleth\":[{\"colorbar\":{\"outlinewidth\":1,\"tickcolor\":\"rgb(36,36,36)\",\"ticks\":\"outside\"},\"type\":\"choropleth\"}],\"contourcarpet\":[{\"colorbar\":{\"outlinewidth\":1,\"tickcolor\":\"rgb(36,36,36)\",\"ticks\":\"outside\"},\"type\":\"contourcarpet\"}],\"contour\":[{\"colorbar\":{\"outlinewidth\":1,\"tickcolor\":\"rgb(36,36,36)\",\"ticks\":\"outside\"},\"colorscale\":[[0.0,\"#440154\"],[0.1111111111111111,\"#482878\"],[0.2222222222222222,\"#3e4989\"],[0.3333333333333333,\"#31688e\"],[0.4444444444444444,\"#26828e\"],[0.5555555555555556,\"#1f9e89\"],[0.6666666666666666,\"#35b779\"],[0.7777777777777778,\"#6ece58\"],[0.8888888888888888,\"#b5de2b\"],[1.0,\"#fde725\"]],\"type\":\"contour\"}],\"heatmapgl\":[{\"colorbar\":{\"outlinewidth\":1,\"tickcolor\":\"rgb(36,36,36)\",\"ticks\":\"outside\"},\"colorscale\":[[0.0,\"#440154\"],[0.1111111111111111,\"#482878\"],[0.2222222222222222,\"#3e4989\"],[0.3333333333333333,\"#31688e\"],[0.4444444444444444,\"#26828e\"],[0.5555555555555556,\"#1f9e89\"],[0.6666666666666666,\"#35b779\"],[0.7777777777777778,\"#6ece58\"],[0.8888888888888888,\"#b5de2b\"],[1.0,\"#fde725\"]],\"type\":\"heatmapgl\"}],\"heatmap\":[{\"colorbar\":{\"outlinewidth\":1,\"tickcolor\":\"rgb(36,36,36)\",\"ticks\":\"outside\"},\"colorscale\":[[0.0,\"#440154\"],[0.1111111111111111,\"#482878\"],[0.2222222222222222,\"#3e4989\"],[0.3333333333333333,\"#31688e\"],[0.4444444444444444,\"#26828e\"],[0.5555555555555556,\"#1f9e89\"],[0.6666666666666666,\"#35b779\"],[0.7777777777777778,\"#6ece58\"],[0.8888888888888888,\"#b5de2b\"],[1.0,\"#fde725\"]],\"type\":\"heatmap\"}],\"histogram2dcontour\":[{\"colorbar\":{\"outlinewidth\":1,\"tickcolor\":\"rgb(36,36,36)\",\"ticks\":\"outside\"},\"colorscale\":[[0.0,\"#440154\"],[0.1111111111111111,\"#482878\"],[0.2222222222222222,\"#3e4989\"],[0.3333333333333333,\"#31688e\"],[0.4444444444444444,\"#26828e\"],[0.5555555555555556,\"#1f9e89\"],[0.6666666666666666,\"#35b779\"],[0.7777777777777778,\"#6ece58\"],[0.8888888888888888,\"#b5de2b\"],[1.0,\"#fde725\"]],\"type\":\"histogram2dcontour\"}],\"histogram2d\":[{\"colorbar\":{\"outlinewidth\":1,\"tickcolor\":\"rgb(36,36,36)\",\"ticks\":\"outside\"},\"colorscale\":[[0.0,\"#440154\"],[0.1111111111111111,\"#482878\"],[0.2222222222222222,\"#3e4989\"],[0.3333333333333333,\"#31688e\"],[0.4444444444444444,\"#26828e\"],[0.5555555555555556,\"#1f9e89\"],[0.6666666666666666,\"#35b779\"],[0.7777777777777778,\"#6ece58\"],[0.8888888888888888,\"#b5de2b\"],[1.0,\"#fde725\"]],\"type\":\"histogram2d\"}],\"histogram\":[{\"marker\":{\"line\":{\"color\":\"white\",\"width\":0.6}},\"type\":\"histogram\"}],\"mesh3d\":[{\"colorbar\":{\"outlinewidth\":1,\"tickcolor\":\"rgb(36,36,36)\",\"ticks\":\"outside\"},\"type\":\"mesh3d\"}],\"parcoords\":[{\"line\":{\"colorbar\":{\"outlinewidth\":1,\"tickcolor\":\"rgb(36,36,36)\",\"ticks\":\"outside\"}},\"type\":\"parcoords\"}],\"pie\":[{\"automargin\":true,\"type\":\"pie\"}],\"scatter3d\":[{\"line\":{\"colorbar\":{\"outlinewidth\":1,\"tickcolor\":\"rgb(36,36,36)\",\"ticks\":\"outside\"}},\"marker\":{\"colorbar\":{\"outlinewidth\":1,\"tickcolor\":\"rgb(36,36,36)\",\"ticks\":\"outside\"}},\"type\":\"scatter3d\"}],\"scattercarpet\":[{\"marker\":{\"colorbar\":{\"outlinewidth\":1,\"tickcolor\":\"rgb(36,36,36)\",\"ticks\":\"outside\"}},\"type\":\"scattercarpet\"}],\"scattergeo\":[{\"marker\":{\"colorbar\":{\"outlinewidth\":1,\"tickcolor\":\"rgb(36,36,36)\",\"ticks\":\"outside\"}},\"type\":\"scattergeo\"}],\"scattergl\":[{\"marker\":{\"colorbar\":{\"outlinewidth\":1,\"tickcolor\":\"rgb(36,36,36)\",\"ticks\":\"outside\"}},\"type\":\"scattergl\"}],\"scattermapbox\":[{\"marker\":{\"colorbar\":{\"outlinewidth\":1,\"tickcolor\":\"rgb(36,36,36)\",\"ticks\":\"outside\"}},\"type\":\"scattermapbox\"}],\"scatterpolargl\":[{\"marker\":{\"colorbar\":{\"outlinewidth\":1,\"tickcolor\":\"rgb(36,36,36)\",\"ticks\":\"outside\"}},\"type\":\"scatterpolargl\"}],\"scatterpolar\":[{\"marker\":{\"colorbar\":{\"outlinewidth\":1,\"tickcolor\":\"rgb(36,36,36)\",\"ticks\":\"outside\"}},\"type\":\"scatterpolar\"}],\"scatter\":[{\"fillpattern\":{\"fillmode\":\"overlay\",\"size\":10,\"solidity\":0.2},\"type\":\"scatter\"}],\"scatterternary\":[{\"marker\":{\"colorbar\":{\"outlinewidth\":1,\"tickcolor\":\"rgb(36,36,36)\",\"ticks\":\"outside\"}},\"type\":\"scatterternary\"}],\"surface\":[{\"colorbar\":{\"outlinewidth\":1,\"tickcolor\":\"rgb(36,36,36)\",\"ticks\":\"outside\"},\"colorscale\":[[0.0,\"#440154\"],[0.1111111111111111,\"#482878\"],[0.2222222222222222,\"#3e4989\"],[0.3333333333333333,\"#31688e\"],[0.4444444444444444,\"#26828e\"],[0.5555555555555556,\"#1f9e89\"],[0.6666666666666666,\"#35b779\"],[0.7777777777777778,\"#6ece58\"],[0.8888888888888888,\"#b5de2b\"],[1.0,\"#fde725\"]],\"type\":\"surface\"}],\"table\":[{\"cells\":{\"fill\":{\"color\":\"rgb(237,237,237)\"},\"line\":{\"color\":\"white\"}},\"header\":{\"fill\":{\"color\":\"rgb(217,217,217)\"},\"line\":{\"color\":\"white\"}},\"type\":\"table\"}]},\"layout\":{\"annotationdefaults\":{\"arrowhead\":0,\"arrowwidth\":1},\"autotypenumbers\":\"strict\",\"coloraxis\":{\"colorbar\":{\"outlinewidth\":1,\"tickcolor\":\"rgb(36,36,36)\",\"ticks\":\"outside\"}},\"colorscale\":{\"diverging\":[[0.0,\"rgb(103,0,31)\"],[0.1,\"rgb(178,24,43)\"],[0.2,\"rgb(214,96,77)\"],[0.3,\"rgb(244,165,130)\"],[0.4,\"rgb(253,219,199)\"],[0.5,\"rgb(247,247,247)\"],[0.6,\"rgb(209,229,240)\"],[0.7,\"rgb(146,197,222)\"],[0.8,\"rgb(67,147,195)\"],[0.9,\"rgb(33,102,172)\"],[1.0,\"rgb(5,48,97)\"]],\"sequential\":[[0.0,\"#440154\"],[0.1111111111111111,\"#482878\"],[0.2222222222222222,\"#3e4989\"],[0.3333333333333333,\"#31688e\"],[0.4444444444444444,\"#26828e\"],[0.5555555555555556,\"#1f9e89\"],[0.6666666666666666,\"#35b779\"],[0.7777777777777778,\"#6ece58\"],[0.8888888888888888,\"#b5de2b\"],[1.0,\"#fde725\"]],\"sequentialminus\":[[0.0,\"#440154\"],[0.1111111111111111,\"#482878\"],[0.2222222222222222,\"#3e4989\"],[0.3333333333333333,\"#31688e\"],[0.4444444444444444,\"#26828e\"],[0.5555555555555556,\"#1f9e89\"],[0.6666666666666666,\"#35b779\"],[0.7777777777777778,\"#6ece58\"],[0.8888888888888888,\"#b5de2b\"],[1.0,\"#fde725\"]]},\"colorway\":[\"#1F77B4\",\"#FF7F0E\",\"#2CA02C\",\"#D62728\",\"#9467BD\",\"#8C564B\",\"#E377C2\",\"#7F7F7F\",\"#BCBD22\",\"#17BECF\"],\"font\":{\"color\":\"rgb(36,36,36)\"},\"geo\":{\"bgcolor\":\"white\",\"lakecolor\":\"white\",\"landcolor\":\"white\",\"showlakes\":true,\"showland\":true,\"subunitcolor\":\"white\"},\"hoverlabel\":{\"align\":\"left\"},\"hovermode\":\"closest\",\"mapbox\":{\"style\":\"light\"},\"paper_bgcolor\":\"white\",\"plot_bgcolor\":\"white\",\"polar\":{\"angularaxis\":{\"gridcolor\":\"rgb(232,232,232)\",\"linecolor\":\"rgb(36,36,36)\",\"showgrid\":false,\"showline\":true,\"ticks\":\"outside\"},\"bgcolor\":\"white\",\"radialaxis\":{\"gridcolor\":\"rgb(232,232,232)\",\"linecolor\":\"rgb(36,36,36)\",\"showgrid\":false,\"showline\":true,\"ticks\":\"outside\"}},\"scene\":{\"xaxis\":{\"backgroundcolor\":\"white\",\"gridcolor\":\"rgb(232,232,232)\",\"gridwidth\":2,\"linecolor\":\"rgb(36,36,36)\",\"showbackground\":true,\"showgrid\":false,\"showline\":true,\"ticks\":\"outside\",\"zeroline\":false,\"zerolinecolor\":\"rgb(36,36,36)\"},\"yaxis\":{\"backgroundcolor\":\"white\",\"gridcolor\":\"rgb(232,232,232)\",\"gridwidth\":2,\"linecolor\":\"rgb(36,36,36)\",\"showbackground\":true,\"showgrid\":false,\"showline\":true,\"ticks\":\"outside\",\"zeroline\":false,\"zerolinecolor\":\"rgb(36,36,36)\"},\"zaxis\":{\"backgroundcolor\":\"white\",\"gridcolor\":\"rgb(232,232,232)\",\"gridwidth\":2,\"linecolor\":\"rgb(36,36,36)\",\"showbackground\":true,\"showgrid\":false,\"showline\":true,\"ticks\":\"outside\",\"zeroline\":false,\"zerolinecolor\":\"rgb(36,36,36)\"}},\"shapedefaults\":{\"fillcolor\":\"black\",\"line\":{\"width\":0},\"opacity\":0.3},\"ternary\":{\"aaxis\":{\"gridcolor\":\"rgb(232,232,232)\",\"linecolor\":\"rgb(36,36,36)\",\"showgrid\":false,\"showline\":true,\"ticks\":\"outside\"},\"baxis\":{\"gridcolor\":\"rgb(232,232,232)\",\"linecolor\":\"rgb(36,36,36)\",\"showgrid\":false,\"showline\":true,\"ticks\":\"outside\"},\"bgcolor\":\"white\",\"caxis\":{\"gridcolor\":\"rgb(232,232,232)\",\"linecolor\":\"rgb(36,36,36)\",\"showgrid\":false,\"showline\":true,\"ticks\":\"outside\"}},\"title\":{\"x\":0.05},\"xaxis\":{\"automargin\":true,\"gridcolor\":\"rgb(232,232,232)\",\"linecolor\":\"rgb(36,36,36)\",\"showgrid\":false,\"showline\":true,\"ticks\":\"outside\",\"title\":{\"standoff\":15},\"zeroline\":false,\"zerolinecolor\":\"rgb(36,36,36)\"},\"yaxis\":{\"automargin\":true,\"gridcolor\":\"rgb(232,232,232)\",\"linecolor\":\"rgb(36,36,36)\",\"showgrid\":false,\"showline\":true,\"ticks\":\"outside\",\"title\":{\"standoff\":15},\"zeroline\":false,\"zerolinecolor\":\"rgb(36,36,36)\"}}},\"xaxis\":{\"anchor\":\"y\",\"domain\":[0.0,1.0],\"title\":{\"text\":\"attn_out_1 component\"}},\"yaxis\":{\"anchor\":\"x\",\"domain\":[0.0,1.0],\"title\":{\"text\":\"attribution\"}},\"legend\":{\"tracegroupgap\":0},\"title\":{\"text\":\"Direct logit attribution for components of attn_out_1\"},\"barmode\":\"relative\"},                        {\"responsive\": true}                    ).then(function(){\n",
              "                            \n",
              "var gd = document.getElementById('314c767f-0ca4-48ac-9f9a-abbcf1a27bee');\n",
              "var x = new MutationObserver(function (mutations, observer) {{\n",
              "        var display = window.getComputedStyle(gd).display;\n",
              "        if (!display || display === 'none') {{\n",
              "            console.log([gd, 'removed!']);\n",
              "            Plotly.purge(gd);\n",
              "            observer.disconnect();\n",
              "        }}\n",
              "}});\n",
              "\n",
              "// Listen for the removal of the full notebook cells\n",
              "var notebookContainer = gd.closest('#notebook-container');\n",
              "if (notebookContainer) {{\n",
              "    x.observe(notebookContainer, {childList: true});\n",
              "}}\n",
              "\n",
              "// Listen for the clearing of the current output cell\n",
              "var outputEl = gd.closest('.output');\n",
              "if (outputEl) {{\n",
              "    x.observe(outputEl, {childList: true});\n",
              "}}\n",
              "\n",
              "                        })                };                            </script>        </div>\n",
              "</body>\n",
              "</html>"
            ]
          },
          "metadata": {}
        }
      ]
    },
    {
      "cell_type": "markdown",
      "source": [
        "We show that the $A^{1.0}A^{0.0}eW_{OV}^{0.0}W_{OV}^{1.0}$ term is the most important by far. Note this is pretty great! We had a huge equation with 8 terms, but direct logit attribution allows us to prioritize one path through the model.\n",
        "\n",
        "Now we can add this our existing observation that 1.0 had the highest DLA:\n",
        "\n",
        "\n",
        "* Head 1.0 has the largest direct effect on the logits (DLA)\n",
        "    * **In particular, decomposing 1.0s output into sub terms and applying more refined DLA shows that the \"virtual attn head term\" $A^{1.0}A^{0.0}eW_{OV}^{0.0}W_{OV}^{1.0}$ dominates**\n",
        "* The average of all 1.0 attn patterns showed the prediction\n",
        "positions (END, ans_0, ans_1) always attend to the permutation index positions (idx_0, idx_1, idx_2) respectively.\n",
        "    * 1.0 $W_{pos}W_{QK}W_{pos}^T$ QK circuit component shows clear diagonal stripe where prediction positions (END, ans_0, ans_1) give the highest scores to positions (idx_0, idx_1, idx_2) respectively.\n",
        "* Every 0.0 pattern we checked shows that permutation tokens (0, 1, 2) always attend to list positions (a_0, a_1, a_2)respectively.\n",
        "    * 0.0 full QK circuit shows clear diagonal stripe where tokens (0, 1, 2) give the highest attn scores to positions corresponding to (a_0, a_1, a_2) respectively.\n"
      ],
      "metadata": {
        "id": "QNgC5kE-cX0X"
      }
    },
    {
      "cell_type": "markdown",
      "source": [
        "## Virtual attn pattern"
      ],
      "metadata": {
        "id": "qdlq9N1R3faY"
      }
    },
    {
      "cell_type": "markdown",
      "source": [
        "Now that we know that the $A^{1.0}A^{0.0}tW_EW_{OV}^{0.0}W_{OV}^{1.0}W_U$ term explains most of the models behavior, we want to understand $A^{1.0}A^{0.0}$ and $W_EW_{OV}^{0.0}W_{OV}^{1.0}W_U$. Note $A^{1.0}A^{0.0}$ tells us *where* the virtual attn head moves information from, while $W_EW_{OV}^{0.0}W_{OV}^{1.0}W_U$. $A^{1.0}A^{0.0}$ tells us *what* information to move from the src to the logits (given that we've attended to it). Let's tackle the $A^{1.0}A^{0.0}$ term first. We should expect that the virtual attn head effectively just attends to the correct next token."
      ],
      "metadata": {
        "id": "dWTM5YMesFnp"
      }
    },
    {
      "cell_type": "code",
      "source": [
        "for _ in range(3):\n",
        "    r = random.randint(0, test_data.shape[0]-1)\n",
        "    labels = tokens_to_plotly_labels(test_data[r])\n",
        "    imshow(\n",
        "        cache['pattern', 1][r, 0, :, :] @ cache['pattern', 0][r, 0, :, :],\n",
        "        title=f\"virtual attn pattern A^1.0 @ A^0.0 for example {r}\",\n",
        "        xaxis=\"src\", yaxis=\"dest\",\n",
        "        x=labels, y=labels\n",
        "    )"
      ],
      "metadata": {
        "colab": {
          "base_uri": "https://localhost:8080/",
          "height": 1000
        },
        "id": "4zD1JA0X3uxy",
        "outputId": "1fe4071c-8175-4af1-9e7a-bbf800319fec"
      },
      "execution_count": 36,
      "outputs": [
        {
          "output_type": "display_data",
          "data": {
            "text/html": [
              "<html>\n",
              "<head><meta charset=\"utf-8\" /></head>\n",
              "<body>\n",
              "    <div>            <script src=\"https://cdnjs.cloudflare.com/ajax/libs/mathjax/2.7.5/MathJax.js?config=TeX-AMS-MML_SVG\"></script><script type=\"text/javascript\">if (window.MathJax && window.MathJax.Hub && window.MathJax.Hub.Config) {window.MathJax.Hub.Config({SVG: {font: \"STIX-Web\"}});}</script>                <script type=\"text/javascript\">window.PlotlyConfig = {MathJaxConfig: 'local'};</script>\n",
              "        <script charset=\"utf-8\" src=\"https://cdn.plot.ly/plotly-2.24.1.min.js\"></script>                <div id=\"ef5d7d92-3e9d-4883-b48c-82d48c22e2a5\" class=\"plotly-graph-div\" style=\"height:525px; width:100%;\"></div>            <script type=\"text/javascript\">                                    window.PLOTLYENV=window.PLOTLYENV || {};                                    if (document.getElementById(\"ef5d7d92-3e9d-4883-b48c-82d48c22e2a5\")) {                    Plotly.newPlot(                        \"ef5d7d92-3e9d-4883-b48c-82d48c22e2a5\",                        [{\"coloraxis\":\"coloraxis\",\"name\":\"0\",\"x\":[\"BOS\",\"7_1\",\"43_2\",\"46_3\",\"MID\",\"0_5\",\"2_6\",\"1_7\",\"END\",\"7_9\",\"46_10\",\"43_11\"],\"y\":[\"BOS\",\"7_1\",\"43_2\",\"46_3\",\"MID\",\"0_5\",\"2_6\",\"1_7\",\"END\",\"7_9\",\"46_10\",\"43_11\"],\"z\":[[1.0,0.0,0.0,0.0,0.0,0.0,0.0,0.0,0.0,0.0,0.0,0.0],[0.9983060956001282,0.0016939631896093488,0.0,0.0,0.0,0.0,0.0,0.0,0.0,0.0,0.0,0.0],[0.8714282512664795,0.1262713521718979,0.0023004149552434683,0.0,0.0,0.0,0.0,0.0,0.0,0.0,0.0,0.0],[0.5031863451004028,0.21443727612495422,0.2797745168209076,0.002601856831461191,0.0,0.0,0.0,0.0,0.0,0.0,0.0,0.0],[0.7027384042739868,0.15532895922660828,0.07014060020446777,0.05666682496666908,0.015125182457268238,0.0,0.0,0.0,0.0,0.0,0.0,0.0],[0.45622068643569946,0.16157585382461548,0.183650404214859,0.15910553932189941,0.03739360347390175,0.002053938340395689,0.0,0.0,0.0,0.0,0.0,0.0],[0.34804439544677734,0.3058081269264221,0.29008209705352783,0.02683216519653797,0.02020288072526455,0.008981391787528992,4.898527913610451e-05,0.0,0.0,0.0,0.0,0.0],[0.35663628578186035,0.19943588972091675,0.07347394526004791,0.2756706476211548,0.06204521283507347,0.019989466294646263,0.012341946363449097,0.00040673231706023216,0.0,0.0,0.0,0.0],[0.28201237320899963,0.4140608012676239,0.09532101452350616,0.07348726689815521,0.054106783121824265,0.07414273917675018,0.00388478790409863,0.002776013221591711,0.00020816581672988832,0.0,0.0,0.0],[0.13929897546768188,0.10688093304634094,0.07704642415046692,0.5038937330245972,0.11779607832431793,0.026925453916192055,0.028104085475206375,4.903871740680188e-05,3.7872839584451867e-06,1.398771701133228e-06,0.0,0.0],[0.12156861275434494,0.12188395857810974,0.4209382236003876,0.07803957164287567,0.10614970326423645,0.052190810441970825,0.05745036527514458,0.03815796598792076,0.001741684041917324,0.0012489606160670519,0.0006301294197328389,0.0],[0.245096817612648,0.13212808966636658,0.1019405722618103,0.21659599244594574,0.0683365911245346,0.05774560570716858,0.0648549348115921,0.061371877789497375,0.011648617684841156,0.021333076059818268,0.015497901476919651,0.0034498933237046003]],\"type\":\"heatmap\",\"xaxis\":\"x\",\"yaxis\":\"y\",\"hovertemplate\":\"src: %{x}\\u003cbr\\u003edest: %{y}\\u003cbr\\u003ecolor: %{z}\\u003cextra\\u003e\\u003c\\u002fextra\\u003e\"}],                        {\"template\":{\"data\":{\"histogram2dcontour\":[{\"type\":\"histogram2dcontour\",\"colorbar\":{\"outlinewidth\":0,\"ticks\":\"\"},\"colorscale\":[[0.0,\"#0d0887\"],[0.1111111111111111,\"#46039f\"],[0.2222222222222222,\"#7201a8\"],[0.3333333333333333,\"#9c179e\"],[0.4444444444444444,\"#bd3786\"],[0.5555555555555556,\"#d8576b\"],[0.6666666666666666,\"#ed7953\"],[0.7777777777777778,\"#fb9f3a\"],[0.8888888888888888,\"#fdca26\"],[1.0,\"#f0f921\"]]}],\"choropleth\":[{\"type\":\"choropleth\",\"colorbar\":{\"outlinewidth\":0,\"ticks\":\"\"}}],\"histogram2d\":[{\"type\":\"histogram2d\",\"colorbar\":{\"outlinewidth\":0,\"ticks\":\"\"},\"colorscale\":[[0.0,\"#0d0887\"],[0.1111111111111111,\"#46039f\"],[0.2222222222222222,\"#7201a8\"],[0.3333333333333333,\"#9c179e\"],[0.4444444444444444,\"#bd3786\"],[0.5555555555555556,\"#d8576b\"],[0.6666666666666666,\"#ed7953\"],[0.7777777777777778,\"#fb9f3a\"],[0.8888888888888888,\"#fdca26\"],[1.0,\"#f0f921\"]]}],\"heatmap\":[{\"type\":\"heatmap\",\"colorbar\":{\"outlinewidth\":0,\"ticks\":\"\"},\"colorscale\":[[0.0,\"#0d0887\"],[0.1111111111111111,\"#46039f\"],[0.2222222222222222,\"#7201a8\"],[0.3333333333333333,\"#9c179e\"],[0.4444444444444444,\"#bd3786\"],[0.5555555555555556,\"#d8576b\"],[0.6666666666666666,\"#ed7953\"],[0.7777777777777778,\"#fb9f3a\"],[0.8888888888888888,\"#fdca26\"],[1.0,\"#f0f921\"]]}],\"heatmapgl\":[{\"type\":\"heatmapgl\",\"colorbar\":{\"outlinewidth\":0,\"ticks\":\"\"},\"colorscale\":[[0.0,\"#0d0887\"],[0.1111111111111111,\"#46039f\"],[0.2222222222222222,\"#7201a8\"],[0.3333333333333333,\"#9c179e\"],[0.4444444444444444,\"#bd3786\"],[0.5555555555555556,\"#d8576b\"],[0.6666666666666666,\"#ed7953\"],[0.7777777777777778,\"#fb9f3a\"],[0.8888888888888888,\"#fdca26\"],[1.0,\"#f0f921\"]]}],\"contourcarpet\":[{\"type\":\"contourcarpet\",\"colorbar\":{\"outlinewidth\":0,\"ticks\":\"\"}}],\"contour\":[{\"type\":\"contour\",\"colorbar\":{\"outlinewidth\":0,\"ticks\":\"\"},\"colorscale\":[[0.0,\"#0d0887\"],[0.1111111111111111,\"#46039f\"],[0.2222222222222222,\"#7201a8\"],[0.3333333333333333,\"#9c179e\"],[0.4444444444444444,\"#bd3786\"],[0.5555555555555556,\"#d8576b\"],[0.6666666666666666,\"#ed7953\"],[0.7777777777777778,\"#fb9f3a\"],[0.8888888888888888,\"#fdca26\"],[1.0,\"#f0f921\"]]}],\"surface\":[{\"type\":\"surface\",\"colorbar\":{\"outlinewidth\":0,\"ticks\":\"\"},\"colorscale\":[[0.0,\"#0d0887\"],[0.1111111111111111,\"#46039f\"],[0.2222222222222222,\"#7201a8\"],[0.3333333333333333,\"#9c179e\"],[0.4444444444444444,\"#bd3786\"],[0.5555555555555556,\"#d8576b\"],[0.6666666666666666,\"#ed7953\"],[0.7777777777777778,\"#fb9f3a\"],[0.8888888888888888,\"#fdca26\"],[1.0,\"#f0f921\"]]}],\"mesh3d\":[{\"type\":\"mesh3d\",\"colorbar\":{\"outlinewidth\":0,\"ticks\":\"\"}}],\"scatter\":[{\"fillpattern\":{\"fillmode\":\"overlay\",\"size\":10,\"solidity\":0.2},\"type\":\"scatter\"}],\"parcoords\":[{\"type\":\"parcoords\",\"line\":{\"colorbar\":{\"outlinewidth\":0,\"ticks\":\"\"}}}],\"scatterpolargl\":[{\"type\":\"scatterpolargl\",\"marker\":{\"colorbar\":{\"outlinewidth\":0,\"ticks\":\"\"}}}],\"bar\":[{\"error_x\":{\"color\":\"#2a3f5f\"},\"error_y\":{\"color\":\"#2a3f5f\"},\"marker\":{\"line\":{\"color\":\"#E5ECF6\",\"width\":0.5},\"pattern\":{\"fillmode\":\"overlay\",\"size\":10,\"solidity\":0.2}},\"type\":\"bar\"}],\"scattergeo\":[{\"type\":\"scattergeo\",\"marker\":{\"colorbar\":{\"outlinewidth\":0,\"ticks\":\"\"}}}],\"scatterpolar\":[{\"type\":\"scatterpolar\",\"marker\":{\"colorbar\":{\"outlinewidth\":0,\"ticks\":\"\"}}}],\"histogram\":[{\"marker\":{\"pattern\":{\"fillmode\":\"overlay\",\"size\":10,\"solidity\":0.2}},\"type\":\"histogram\"}],\"scattergl\":[{\"type\":\"scattergl\",\"marker\":{\"colorbar\":{\"outlinewidth\":0,\"ticks\":\"\"}}}],\"scatter3d\":[{\"type\":\"scatter3d\",\"line\":{\"colorbar\":{\"outlinewidth\":0,\"ticks\":\"\"}},\"marker\":{\"colorbar\":{\"outlinewidth\":0,\"ticks\":\"\"}}}],\"scattermapbox\":[{\"type\":\"scattermapbox\",\"marker\":{\"colorbar\":{\"outlinewidth\":0,\"ticks\":\"\"}}}],\"scatterternary\":[{\"type\":\"scatterternary\",\"marker\":{\"colorbar\":{\"outlinewidth\":0,\"ticks\":\"\"}}}],\"scattercarpet\":[{\"type\":\"scattercarpet\",\"marker\":{\"colorbar\":{\"outlinewidth\":0,\"ticks\":\"\"}}}],\"carpet\":[{\"aaxis\":{\"endlinecolor\":\"#2a3f5f\",\"gridcolor\":\"white\",\"linecolor\":\"white\",\"minorgridcolor\":\"white\",\"startlinecolor\":\"#2a3f5f\"},\"baxis\":{\"endlinecolor\":\"#2a3f5f\",\"gridcolor\":\"white\",\"linecolor\":\"white\",\"minorgridcolor\":\"white\",\"startlinecolor\":\"#2a3f5f\"},\"type\":\"carpet\"}],\"table\":[{\"cells\":{\"fill\":{\"color\":\"#EBF0F8\"},\"line\":{\"color\":\"white\"}},\"header\":{\"fill\":{\"color\":\"#C8D4E3\"},\"line\":{\"color\":\"white\"}},\"type\":\"table\"}],\"barpolar\":[{\"marker\":{\"line\":{\"color\":\"#E5ECF6\",\"width\":0.5},\"pattern\":{\"fillmode\":\"overlay\",\"size\":10,\"solidity\":0.2}},\"type\":\"barpolar\"}],\"pie\":[{\"automargin\":true,\"type\":\"pie\"}]},\"layout\":{\"autotypenumbers\":\"strict\",\"colorway\":[\"#636efa\",\"#EF553B\",\"#00cc96\",\"#ab63fa\",\"#FFA15A\",\"#19d3f3\",\"#FF6692\",\"#B6E880\",\"#FF97FF\",\"#FECB52\"],\"font\":{\"color\":\"#2a3f5f\"},\"hovermode\":\"closest\",\"hoverlabel\":{\"align\":\"left\"},\"paper_bgcolor\":\"white\",\"plot_bgcolor\":\"#E5ECF6\",\"polar\":{\"bgcolor\":\"#E5ECF6\",\"angularaxis\":{\"gridcolor\":\"white\",\"linecolor\":\"white\",\"ticks\":\"\"},\"radialaxis\":{\"gridcolor\":\"white\",\"linecolor\":\"white\",\"ticks\":\"\"}},\"ternary\":{\"bgcolor\":\"#E5ECF6\",\"aaxis\":{\"gridcolor\":\"white\",\"linecolor\":\"white\",\"ticks\":\"\"},\"baxis\":{\"gridcolor\":\"white\",\"linecolor\":\"white\",\"ticks\":\"\"},\"caxis\":{\"gridcolor\":\"white\",\"linecolor\":\"white\",\"ticks\":\"\"}},\"coloraxis\":{\"colorbar\":{\"outlinewidth\":0,\"ticks\":\"\"}},\"colorscale\":{\"sequential\":[[0.0,\"#0d0887\"],[0.1111111111111111,\"#46039f\"],[0.2222222222222222,\"#7201a8\"],[0.3333333333333333,\"#9c179e\"],[0.4444444444444444,\"#bd3786\"],[0.5555555555555556,\"#d8576b\"],[0.6666666666666666,\"#ed7953\"],[0.7777777777777778,\"#fb9f3a\"],[0.8888888888888888,\"#fdca26\"],[1.0,\"#f0f921\"]],\"sequentialminus\":[[0.0,\"#0d0887\"],[0.1111111111111111,\"#46039f\"],[0.2222222222222222,\"#7201a8\"],[0.3333333333333333,\"#9c179e\"],[0.4444444444444444,\"#bd3786\"],[0.5555555555555556,\"#d8576b\"],[0.6666666666666666,\"#ed7953\"],[0.7777777777777778,\"#fb9f3a\"],[0.8888888888888888,\"#fdca26\"],[1.0,\"#f0f921\"]],\"diverging\":[[0,\"#8e0152\"],[0.1,\"#c51b7d\"],[0.2,\"#de77ae\"],[0.3,\"#f1b6da\"],[0.4,\"#fde0ef\"],[0.5,\"#f7f7f7\"],[0.6,\"#e6f5d0\"],[0.7,\"#b8e186\"],[0.8,\"#7fbc41\"],[0.9,\"#4d9221\"],[1,\"#276419\"]]},\"xaxis\":{\"gridcolor\":\"white\",\"linecolor\":\"white\",\"ticks\":\"\",\"title\":{\"standoff\":15},\"zerolinecolor\":\"white\",\"automargin\":true,\"zerolinewidth\":2},\"yaxis\":{\"gridcolor\":\"white\",\"linecolor\":\"white\",\"ticks\":\"\",\"title\":{\"standoff\":15},\"zerolinecolor\":\"white\",\"automargin\":true,\"zerolinewidth\":2},\"scene\":{\"xaxis\":{\"backgroundcolor\":\"#E5ECF6\",\"gridcolor\":\"white\",\"linecolor\":\"white\",\"showbackground\":true,\"ticks\":\"\",\"zerolinecolor\":\"white\",\"gridwidth\":2},\"yaxis\":{\"backgroundcolor\":\"#E5ECF6\",\"gridcolor\":\"white\",\"linecolor\":\"white\",\"showbackground\":true,\"ticks\":\"\",\"zerolinecolor\":\"white\",\"gridwidth\":2},\"zaxis\":{\"backgroundcolor\":\"#E5ECF6\",\"gridcolor\":\"white\",\"linecolor\":\"white\",\"showbackground\":true,\"ticks\":\"\",\"zerolinecolor\":\"white\",\"gridwidth\":2}},\"shapedefaults\":{\"line\":{\"color\":\"#2a3f5f\"}},\"annotationdefaults\":{\"arrowcolor\":\"#2a3f5f\",\"arrowhead\":0,\"arrowwidth\":1},\"geo\":{\"bgcolor\":\"white\",\"landcolor\":\"#E5ECF6\",\"subunitcolor\":\"white\",\"showland\":true,\"showlakes\":true,\"lakecolor\":\"white\"},\"title\":{\"x\":0.05},\"mapbox\":{\"style\":\"light\"}}},\"xaxis\":{\"anchor\":\"y\",\"domain\":[0.0,1.0],\"scaleanchor\":\"y\",\"constrain\":\"domain\",\"title\":{\"text\":\"src\"}},\"yaxis\":{\"anchor\":\"x\",\"domain\":[0.0,1.0],\"autorange\":\"reversed\",\"constrain\":\"domain\",\"title\":{\"text\":\"dest\"}},\"coloraxis\":{\"colorscale\":[[0.0,\"rgb(103,0,31)\"],[0.1,\"rgb(178,24,43)\"],[0.2,\"rgb(214,96,77)\"],[0.3,\"rgb(244,165,130)\"],[0.4,\"rgb(253,219,199)\"],[0.5,\"rgb(247,247,247)\"],[0.6,\"rgb(209,229,240)\"],[0.7,\"rgb(146,197,222)\"],[0.8,\"rgb(67,147,195)\"],[0.9,\"rgb(33,102,172)\"],[1.0,\"rgb(5,48,97)\"]],\"cmid\":0.0},\"title\":{\"text\":\"virtual attn pattern A^1.0 @ A^0.0 for example 111\"}},                        {\"responsive\": true}                    ).then(function(){\n",
              "                            \n",
              "var gd = document.getElementById('ef5d7d92-3e9d-4883-b48c-82d48c22e2a5');\n",
              "var x = new MutationObserver(function (mutations, observer) {{\n",
              "        var display = window.getComputedStyle(gd).display;\n",
              "        if (!display || display === 'none') {{\n",
              "            console.log([gd, 'removed!']);\n",
              "            Plotly.purge(gd);\n",
              "            observer.disconnect();\n",
              "        }}\n",
              "}});\n",
              "\n",
              "// Listen for the removal of the full notebook cells\n",
              "var notebookContainer = gd.closest('#notebook-container');\n",
              "if (notebookContainer) {{\n",
              "    x.observe(notebookContainer, {childList: true});\n",
              "}}\n",
              "\n",
              "// Listen for the clearing of the current output cell\n",
              "var outputEl = gd.closest('.output');\n",
              "if (outputEl) {{\n",
              "    x.observe(outputEl, {childList: true});\n",
              "}}\n",
              "\n",
              "                        })                };                            </script>        </div>\n",
              "</body>\n",
              "</html>"
            ]
          },
          "metadata": {}
        },
        {
          "output_type": "display_data",
          "data": {
            "text/html": [
              "<html>\n",
              "<head><meta charset=\"utf-8\" /></head>\n",
              "<body>\n",
              "    <div>            <script src=\"https://cdnjs.cloudflare.com/ajax/libs/mathjax/2.7.5/MathJax.js?config=TeX-AMS-MML_SVG\"></script><script type=\"text/javascript\">if (window.MathJax && window.MathJax.Hub && window.MathJax.Hub.Config) {window.MathJax.Hub.Config({SVG: {font: \"STIX-Web\"}});}</script>                <script type=\"text/javascript\">window.PlotlyConfig = {MathJaxConfig: 'local'};</script>\n",
              "        <script charset=\"utf-8\" src=\"https://cdn.plot.ly/plotly-2.24.1.min.js\"></script>                <div id=\"19693ea2-31ff-4390-bb19-b61383f61d06\" class=\"plotly-graph-div\" style=\"height:525px; width:100%;\"></div>            <script type=\"text/javascript\">                                    window.PLOTLYENV=window.PLOTLYENV || {};                                    if (document.getElementById(\"19693ea2-31ff-4390-bb19-b61383f61d06\")) {                    Plotly.newPlot(                        \"19693ea2-31ff-4390-bb19-b61383f61d06\",                        [{\"coloraxis\":\"coloraxis\",\"name\":\"0\",\"x\":[\"BOS\",\"5_1\",\"12_2\",\"39_3\",\"MID\",\"2_5\",\"1_6\",\"0_7\",\"END\",\"39_9\",\"12_10\",\"5_11\"],\"y\":[\"BOS\",\"5_1\",\"12_2\",\"39_3\",\"MID\",\"2_5\",\"1_6\",\"0_7\",\"END\",\"39_9\",\"12_10\",\"5_11\"],\"z\":[[1.0,0.0,0.0,0.0,0.0,0.0,0.0,0.0,0.0,0.0,0.0,0.0],[0.9928093552589417,0.0071906945668160915,0.0,0.0,0.0,0.0,0.0,0.0,0.0,0.0,0.0,0.0],[0.8710072636604309,0.1273234635591507,0.0016692299395799637,0.0,0.0,0.0,0.0,0.0,0.0,0.0,0.0,0.0],[0.5647873282432556,0.2735242247581482,0.15424735844135284,0.0074412282556295395,0.0,0.0,0.0,0.0,0.0,0.0,0.0,0.0],[0.7521754503250122,0.12246985733509064,0.06703425943851471,0.04575834050774574,0.012562169693410397,0.0,0.0,0.0,0.0,0.0,0.0,0.0],[0.48136210441589355,0.2612840533256531,0.1720156967639923,0.05435271933674812,0.02986522950232029,0.0011202486930415034,0.0,0.0,0.0,0.0,0.0,0.0],[0.39741984009742737,0.22674599289894104,0.07005758583545685,0.23547537624835968,0.05099226534366608,0.019280828535556793,2.824250805133488e-05,0.0,0.0,0.0,0.0,0.0],[0.49183255434036255,0.08736920356750488,0.20615120232105255,0.13430467247962952,0.04459942504763603,0.026572588831186295,0.007844976149499416,0.001325382268987596,0.0,0.0,0.0,0.0],[0.32989785075187683,0.06275942176580429,0.056056201457977295,0.40721312165260315,0.09157659858465195,0.05079983174800873,0.0010167410364374518,0.0006420853896997869,3.826685497188009e-05,0.0,0.0,0.0],[0.05878974869847298,0.10610884428024292,0.5978906750679016,0.07215122878551483,0.07253824919462204,0.06012538820505142,0.02609698660671711,0.005419288761913776,0.0005166467162780464,0.0003628730773925781,0.0,0.0],[0.09783028066158295,0.40962597727775574,0.09057909995317459,0.07880186289548874,0.10266025364398956,0.09213189035654068,0.06696610897779465,0.058010127395391464,0.0008140190620906651,0.0018715386977419257,0.0007087815320119262,0.0],[0.278472900390625,0.11628618836402893,0.10793562233448029,0.08410774916410446,0.04102819040417671,0.10374129563570023,0.084114208817482,0.11921817809343338,0.01644556038081646,0.031780701130628586,0.013650012202560902,0.0032194049563258886]],\"type\":\"heatmap\",\"xaxis\":\"x\",\"yaxis\":\"y\",\"hovertemplate\":\"src: %{x}\\u003cbr\\u003edest: %{y}\\u003cbr\\u003ecolor: %{z}\\u003cextra\\u003e\\u003c\\u002fextra\\u003e\"}],                        {\"template\":{\"data\":{\"histogram2dcontour\":[{\"type\":\"histogram2dcontour\",\"colorbar\":{\"outlinewidth\":0,\"ticks\":\"\"},\"colorscale\":[[0.0,\"#0d0887\"],[0.1111111111111111,\"#46039f\"],[0.2222222222222222,\"#7201a8\"],[0.3333333333333333,\"#9c179e\"],[0.4444444444444444,\"#bd3786\"],[0.5555555555555556,\"#d8576b\"],[0.6666666666666666,\"#ed7953\"],[0.7777777777777778,\"#fb9f3a\"],[0.8888888888888888,\"#fdca26\"],[1.0,\"#f0f921\"]]}],\"choropleth\":[{\"type\":\"choropleth\",\"colorbar\":{\"outlinewidth\":0,\"ticks\":\"\"}}],\"histogram2d\":[{\"type\":\"histogram2d\",\"colorbar\":{\"outlinewidth\":0,\"ticks\":\"\"},\"colorscale\":[[0.0,\"#0d0887\"],[0.1111111111111111,\"#46039f\"],[0.2222222222222222,\"#7201a8\"],[0.3333333333333333,\"#9c179e\"],[0.4444444444444444,\"#bd3786\"],[0.5555555555555556,\"#d8576b\"],[0.6666666666666666,\"#ed7953\"],[0.7777777777777778,\"#fb9f3a\"],[0.8888888888888888,\"#fdca26\"],[1.0,\"#f0f921\"]]}],\"heatmap\":[{\"type\":\"heatmap\",\"colorbar\":{\"outlinewidth\":0,\"ticks\":\"\"},\"colorscale\":[[0.0,\"#0d0887\"],[0.1111111111111111,\"#46039f\"],[0.2222222222222222,\"#7201a8\"],[0.3333333333333333,\"#9c179e\"],[0.4444444444444444,\"#bd3786\"],[0.5555555555555556,\"#d8576b\"],[0.6666666666666666,\"#ed7953\"],[0.7777777777777778,\"#fb9f3a\"],[0.8888888888888888,\"#fdca26\"],[1.0,\"#f0f921\"]]}],\"heatmapgl\":[{\"type\":\"heatmapgl\",\"colorbar\":{\"outlinewidth\":0,\"ticks\":\"\"},\"colorscale\":[[0.0,\"#0d0887\"],[0.1111111111111111,\"#46039f\"],[0.2222222222222222,\"#7201a8\"],[0.3333333333333333,\"#9c179e\"],[0.4444444444444444,\"#bd3786\"],[0.5555555555555556,\"#d8576b\"],[0.6666666666666666,\"#ed7953\"],[0.7777777777777778,\"#fb9f3a\"],[0.8888888888888888,\"#fdca26\"],[1.0,\"#f0f921\"]]}],\"contourcarpet\":[{\"type\":\"contourcarpet\",\"colorbar\":{\"outlinewidth\":0,\"ticks\":\"\"}}],\"contour\":[{\"type\":\"contour\",\"colorbar\":{\"outlinewidth\":0,\"ticks\":\"\"},\"colorscale\":[[0.0,\"#0d0887\"],[0.1111111111111111,\"#46039f\"],[0.2222222222222222,\"#7201a8\"],[0.3333333333333333,\"#9c179e\"],[0.4444444444444444,\"#bd3786\"],[0.5555555555555556,\"#d8576b\"],[0.6666666666666666,\"#ed7953\"],[0.7777777777777778,\"#fb9f3a\"],[0.8888888888888888,\"#fdca26\"],[1.0,\"#f0f921\"]]}],\"surface\":[{\"type\":\"surface\",\"colorbar\":{\"outlinewidth\":0,\"ticks\":\"\"},\"colorscale\":[[0.0,\"#0d0887\"],[0.1111111111111111,\"#46039f\"],[0.2222222222222222,\"#7201a8\"],[0.3333333333333333,\"#9c179e\"],[0.4444444444444444,\"#bd3786\"],[0.5555555555555556,\"#d8576b\"],[0.6666666666666666,\"#ed7953\"],[0.7777777777777778,\"#fb9f3a\"],[0.8888888888888888,\"#fdca26\"],[1.0,\"#f0f921\"]]}],\"mesh3d\":[{\"type\":\"mesh3d\",\"colorbar\":{\"outlinewidth\":0,\"ticks\":\"\"}}],\"scatter\":[{\"fillpattern\":{\"fillmode\":\"overlay\",\"size\":10,\"solidity\":0.2},\"type\":\"scatter\"}],\"parcoords\":[{\"type\":\"parcoords\",\"line\":{\"colorbar\":{\"outlinewidth\":0,\"ticks\":\"\"}}}],\"scatterpolargl\":[{\"type\":\"scatterpolargl\",\"marker\":{\"colorbar\":{\"outlinewidth\":0,\"ticks\":\"\"}}}],\"bar\":[{\"error_x\":{\"color\":\"#2a3f5f\"},\"error_y\":{\"color\":\"#2a3f5f\"},\"marker\":{\"line\":{\"color\":\"#E5ECF6\",\"width\":0.5},\"pattern\":{\"fillmode\":\"overlay\",\"size\":10,\"solidity\":0.2}},\"type\":\"bar\"}],\"scattergeo\":[{\"type\":\"scattergeo\",\"marker\":{\"colorbar\":{\"outlinewidth\":0,\"ticks\":\"\"}}}],\"scatterpolar\":[{\"type\":\"scatterpolar\",\"marker\":{\"colorbar\":{\"outlinewidth\":0,\"ticks\":\"\"}}}],\"histogram\":[{\"marker\":{\"pattern\":{\"fillmode\":\"overlay\",\"size\":10,\"solidity\":0.2}},\"type\":\"histogram\"}],\"scattergl\":[{\"type\":\"scattergl\",\"marker\":{\"colorbar\":{\"outlinewidth\":0,\"ticks\":\"\"}}}],\"scatter3d\":[{\"type\":\"scatter3d\",\"line\":{\"colorbar\":{\"outlinewidth\":0,\"ticks\":\"\"}},\"marker\":{\"colorbar\":{\"outlinewidth\":0,\"ticks\":\"\"}}}],\"scattermapbox\":[{\"type\":\"scattermapbox\",\"marker\":{\"colorbar\":{\"outlinewidth\":0,\"ticks\":\"\"}}}],\"scatterternary\":[{\"type\":\"scatterternary\",\"marker\":{\"colorbar\":{\"outlinewidth\":0,\"ticks\":\"\"}}}],\"scattercarpet\":[{\"type\":\"scattercarpet\",\"marker\":{\"colorbar\":{\"outlinewidth\":0,\"ticks\":\"\"}}}],\"carpet\":[{\"aaxis\":{\"endlinecolor\":\"#2a3f5f\",\"gridcolor\":\"white\",\"linecolor\":\"white\",\"minorgridcolor\":\"white\",\"startlinecolor\":\"#2a3f5f\"},\"baxis\":{\"endlinecolor\":\"#2a3f5f\",\"gridcolor\":\"white\",\"linecolor\":\"white\",\"minorgridcolor\":\"white\",\"startlinecolor\":\"#2a3f5f\"},\"type\":\"carpet\"}],\"table\":[{\"cells\":{\"fill\":{\"color\":\"#EBF0F8\"},\"line\":{\"color\":\"white\"}},\"header\":{\"fill\":{\"color\":\"#C8D4E3\"},\"line\":{\"color\":\"white\"}},\"type\":\"table\"}],\"barpolar\":[{\"marker\":{\"line\":{\"color\":\"#E5ECF6\",\"width\":0.5},\"pattern\":{\"fillmode\":\"overlay\",\"size\":10,\"solidity\":0.2}},\"type\":\"barpolar\"}],\"pie\":[{\"automargin\":true,\"type\":\"pie\"}]},\"layout\":{\"autotypenumbers\":\"strict\",\"colorway\":[\"#636efa\",\"#EF553B\",\"#00cc96\",\"#ab63fa\",\"#FFA15A\",\"#19d3f3\",\"#FF6692\",\"#B6E880\",\"#FF97FF\",\"#FECB52\"],\"font\":{\"color\":\"#2a3f5f\"},\"hovermode\":\"closest\",\"hoverlabel\":{\"align\":\"left\"},\"paper_bgcolor\":\"white\",\"plot_bgcolor\":\"#E5ECF6\",\"polar\":{\"bgcolor\":\"#E5ECF6\",\"angularaxis\":{\"gridcolor\":\"white\",\"linecolor\":\"white\",\"ticks\":\"\"},\"radialaxis\":{\"gridcolor\":\"white\",\"linecolor\":\"white\",\"ticks\":\"\"}},\"ternary\":{\"bgcolor\":\"#E5ECF6\",\"aaxis\":{\"gridcolor\":\"white\",\"linecolor\":\"white\",\"ticks\":\"\"},\"baxis\":{\"gridcolor\":\"white\",\"linecolor\":\"white\",\"ticks\":\"\"},\"caxis\":{\"gridcolor\":\"white\",\"linecolor\":\"white\",\"ticks\":\"\"}},\"coloraxis\":{\"colorbar\":{\"outlinewidth\":0,\"ticks\":\"\"}},\"colorscale\":{\"sequential\":[[0.0,\"#0d0887\"],[0.1111111111111111,\"#46039f\"],[0.2222222222222222,\"#7201a8\"],[0.3333333333333333,\"#9c179e\"],[0.4444444444444444,\"#bd3786\"],[0.5555555555555556,\"#d8576b\"],[0.6666666666666666,\"#ed7953\"],[0.7777777777777778,\"#fb9f3a\"],[0.8888888888888888,\"#fdca26\"],[1.0,\"#f0f921\"]],\"sequentialminus\":[[0.0,\"#0d0887\"],[0.1111111111111111,\"#46039f\"],[0.2222222222222222,\"#7201a8\"],[0.3333333333333333,\"#9c179e\"],[0.4444444444444444,\"#bd3786\"],[0.5555555555555556,\"#d8576b\"],[0.6666666666666666,\"#ed7953\"],[0.7777777777777778,\"#fb9f3a\"],[0.8888888888888888,\"#fdca26\"],[1.0,\"#f0f921\"]],\"diverging\":[[0,\"#8e0152\"],[0.1,\"#c51b7d\"],[0.2,\"#de77ae\"],[0.3,\"#f1b6da\"],[0.4,\"#fde0ef\"],[0.5,\"#f7f7f7\"],[0.6,\"#e6f5d0\"],[0.7,\"#b8e186\"],[0.8,\"#7fbc41\"],[0.9,\"#4d9221\"],[1,\"#276419\"]]},\"xaxis\":{\"gridcolor\":\"white\",\"linecolor\":\"white\",\"ticks\":\"\",\"title\":{\"standoff\":15},\"zerolinecolor\":\"white\",\"automargin\":true,\"zerolinewidth\":2},\"yaxis\":{\"gridcolor\":\"white\",\"linecolor\":\"white\",\"ticks\":\"\",\"title\":{\"standoff\":15},\"zerolinecolor\":\"white\",\"automargin\":true,\"zerolinewidth\":2},\"scene\":{\"xaxis\":{\"backgroundcolor\":\"#E5ECF6\",\"gridcolor\":\"white\",\"linecolor\":\"white\",\"showbackground\":true,\"ticks\":\"\",\"zerolinecolor\":\"white\",\"gridwidth\":2},\"yaxis\":{\"backgroundcolor\":\"#E5ECF6\",\"gridcolor\":\"white\",\"linecolor\":\"white\",\"showbackground\":true,\"ticks\":\"\",\"zerolinecolor\":\"white\",\"gridwidth\":2},\"zaxis\":{\"backgroundcolor\":\"#E5ECF6\",\"gridcolor\":\"white\",\"linecolor\":\"white\",\"showbackground\":true,\"ticks\":\"\",\"zerolinecolor\":\"white\",\"gridwidth\":2}},\"shapedefaults\":{\"line\":{\"color\":\"#2a3f5f\"}},\"annotationdefaults\":{\"arrowcolor\":\"#2a3f5f\",\"arrowhead\":0,\"arrowwidth\":1},\"geo\":{\"bgcolor\":\"white\",\"landcolor\":\"#E5ECF6\",\"subunitcolor\":\"white\",\"showland\":true,\"showlakes\":true,\"lakecolor\":\"white\"},\"title\":{\"x\":0.05},\"mapbox\":{\"style\":\"light\"}}},\"xaxis\":{\"anchor\":\"y\",\"domain\":[0.0,1.0],\"scaleanchor\":\"y\",\"constrain\":\"domain\",\"title\":{\"text\":\"src\"}},\"yaxis\":{\"anchor\":\"x\",\"domain\":[0.0,1.0],\"autorange\":\"reversed\",\"constrain\":\"domain\",\"title\":{\"text\":\"dest\"}},\"coloraxis\":{\"colorscale\":[[0.0,\"rgb(103,0,31)\"],[0.1,\"rgb(178,24,43)\"],[0.2,\"rgb(214,96,77)\"],[0.3,\"rgb(244,165,130)\"],[0.4,\"rgb(253,219,199)\"],[0.5,\"rgb(247,247,247)\"],[0.6,\"rgb(209,229,240)\"],[0.7,\"rgb(146,197,222)\"],[0.8,\"rgb(67,147,195)\"],[0.9,\"rgb(33,102,172)\"],[1.0,\"rgb(5,48,97)\"]],\"cmid\":0.0},\"title\":{\"text\":\"virtual attn pattern A^1.0 @ A^0.0 for example 71\"}},                        {\"responsive\": true}                    ).then(function(){\n",
              "                            \n",
              "var gd = document.getElementById('19693ea2-31ff-4390-bb19-b61383f61d06');\n",
              "var x = new MutationObserver(function (mutations, observer) {{\n",
              "        var display = window.getComputedStyle(gd).display;\n",
              "        if (!display || display === 'none') {{\n",
              "            console.log([gd, 'removed!']);\n",
              "            Plotly.purge(gd);\n",
              "            observer.disconnect();\n",
              "        }}\n",
              "}});\n",
              "\n",
              "// Listen for the removal of the full notebook cells\n",
              "var notebookContainer = gd.closest('#notebook-container');\n",
              "if (notebookContainer) {{\n",
              "    x.observe(notebookContainer, {childList: true});\n",
              "}}\n",
              "\n",
              "// Listen for the clearing of the current output cell\n",
              "var outputEl = gd.closest('.output');\n",
              "if (outputEl) {{\n",
              "    x.observe(outputEl, {childList: true});\n",
              "}}\n",
              "\n",
              "                        })                };                            </script>        </div>\n",
              "</body>\n",
              "</html>"
            ]
          },
          "metadata": {}
        },
        {
          "output_type": "display_data",
          "data": {
            "text/html": [
              "<html>\n",
              "<head><meta charset=\"utf-8\" /></head>\n",
              "<body>\n",
              "    <div>            <script src=\"https://cdnjs.cloudflare.com/ajax/libs/mathjax/2.7.5/MathJax.js?config=TeX-AMS-MML_SVG\"></script><script type=\"text/javascript\">if (window.MathJax && window.MathJax.Hub && window.MathJax.Hub.Config) {window.MathJax.Hub.Config({SVG: {font: \"STIX-Web\"}});}</script>                <script type=\"text/javascript\">window.PlotlyConfig = {MathJaxConfig: 'local'};</script>\n",
              "        <script charset=\"utf-8\" src=\"https://cdn.plot.ly/plotly-2.24.1.min.js\"></script>                <div id=\"b551359f-57a8-49ae-8e4f-7a29eeae0fd7\" class=\"plotly-graph-div\" style=\"height:525px; width:100%;\"></div>            <script type=\"text/javascript\">                                    window.PLOTLYENV=window.PLOTLYENV || {};                                    if (document.getElementById(\"b551359f-57a8-49ae-8e4f-7a29eeae0fd7\")) {                    Plotly.newPlot(                        \"b551359f-57a8-49ae-8e4f-7a29eeae0fd7\",                        [{\"coloraxis\":\"coloraxis\",\"name\":\"0\",\"x\":[\"BOS\",\"15_1\",\"26_2\",\"24_3\",\"MID\",\"0_5\",\"1_6\",\"2_7\",\"END\",\"15_9\",\"26_10\",\"24_11\"],\"y\":[\"BOS\",\"15_1\",\"26_2\",\"24_3\",\"MID\",\"0_5\",\"1_6\",\"2_7\",\"END\",\"15_9\",\"26_10\",\"24_11\"],\"z\":[[1.0,0.0,0.0,0.0,0.0,0.0,0.0,0.0,0.0,0.0,0.0,0.0],[0.9963321685791016,0.0036678125616163015,0.0,0.0,0.0,0.0,0.0,0.0,0.0,0.0,0.0,0.0],[0.7358088493347168,0.2636616826057434,0.000529478769749403,0.0,0.0,0.0,0.0,0.0,0.0,0.0,0.0,0.0],[0.8682990074157715,0.0766020119190216,0.049383509904146194,0.005715448874980211,0.0,0.0,0.0,0.0,0.0,0.0,0.0,0.0],[0.8769493699073792,0.06908532977104187,0.021752677857875824,0.02690229006111622,0.005310341250151396,0.0,0.0,0.0,0.0,0.0,0.0,0.0],[0.5369329452514648,0.12452343106269836,0.22502796351909637,0.09261491894721985,0.020547103136777878,0.0003537133161444217,0.0,0.0,0.0,0.0,0.0,0.0],[0.49512940645217896,0.37765008211135864,0.03791581094264984,0.07105763256549835,0.01212415099143982,0.006116771604865789,6.116222721175291e-06,0.0,0.0,0.0,0.0,0.0],[0.8677088618278503,0.07447835057973862,0.03359618037939072,0.01034022867679596,0.007554250303655863,0.00563726807013154,0.0006400800193659961,4.4868505938211456e-05,0.0,0.0,0.0,0.0],[0.23576585948467255,0.5257799029350281,0.08211630582809448,0.04696493595838547,0.0434216633439064,0.0594281442463398,0.004738123156130314,0.001613269792869687,0.00017188176570925862,0.0,0.0,0.0],[0.06620816141366959,0.14167779684066772,0.5583767890930176,0.08675272017717361,0.0782337412238121,0.03885742649435997,0.027767902240157127,0.0017678762087598443,0.00021401657431852072,0.000143508063047193,0.0,0.0],[0.13782942295074463,0.0712580531835556,0.0699998140335083,0.43539199233055115,0.16871151328086853,0.04095873981714249,0.051159489899873734,0.023516742512583733,0.0006926482892595232,0.00033507688203826547,0.00014656249550171196,0.0],[0.40213829278945923,0.11235062032938004,0.09794219583272934,0.07819034159183502,0.03941156715154648,0.05852106958627701,0.09658146649599075,0.06514828652143478,0.012911471538245678,0.0199178084731102,0.013401680625975132,0.0034851497039198875]],\"type\":\"heatmap\",\"xaxis\":\"x\",\"yaxis\":\"y\",\"hovertemplate\":\"src: %{x}\\u003cbr\\u003edest: %{y}\\u003cbr\\u003ecolor: %{z}\\u003cextra\\u003e\\u003c\\u002fextra\\u003e\"}],                        {\"template\":{\"data\":{\"histogram2dcontour\":[{\"type\":\"histogram2dcontour\",\"colorbar\":{\"outlinewidth\":0,\"ticks\":\"\"},\"colorscale\":[[0.0,\"#0d0887\"],[0.1111111111111111,\"#46039f\"],[0.2222222222222222,\"#7201a8\"],[0.3333333333333333,\"#9c179e\"],[0.4444444444444444,\"#bd3786\"],[0.5555555555555556,\"#d8576b\"],[0.6666666666666666,\"#ed7953\"],[0.7777777777777778,\"#fb9f3a\"],[0.8888888888888888,\"#fdca26\"],[1.0,\"#f0f921\"]]}],\"choropleth\":[{\"type\":\"choropleth\",\"colorbar\":{\"outlinewidth\":0,\"ticks\":\"\"}}],\"histogram2d\":[{\"type\":\"histogram2d\",\"colorbar\":{\"outlinewidth\":0,\"ticks\":\"\"},\"colorscale\":[[0.0,\"#0d0887\"],[0.1111111111111111,\"#46039f\"],[0.2222222222222222,\"#7201a8\"],[0.3333333333333333,\"#9c179e\"],[0.4444444444444444,\"#bd3786\"],[0.5555555555555556,\"#d8576b\"],[0.6666666666666666,\"#ed7953\"],[0.7777777777777778,\"#fb9f3a\"],[0.8888888888888888,\"#fdca26\"],[1.0,\"#f0f921\"]]}],\"heatmap\":[{\"type\":\"heatmap\",\"colorbar\":{\"outlinewidth\":0,\"ticks\":\"\"},\"colorscale\":[[0.0,\"#0d0887\"],[0.1111111111111111,\"#46039f\"],[0.2222222222222222,\"#7201a8\"],[0.3333333333333333,\"#9c179e\"],[0.4444444444444444,\"#bd3786\"],[0.5555555555555556,\"#d8576b\"],[0.6666666666666666,\"#ed7953\"],[0.7777777777777778,\"#fb9f3a\"],[0.8888888888888888,\"#fdca26\"],[1.0,\"#f0f921\"]]}],\"heatmapgl\":[{\"type\":\"heatmapgl\",\"colorbar\":{\"outlinewidth\":0,\"ticks\":\"\"},\"colorscale\":[[0.0,\"#0d0887\"],[0.1111111111111111,\"#46039f\"],[0.2222222222222222,\"#7201a8\"],[0.3333333333333333,\"#9c179e\"],[0.4444444444444444,\"#bd3786\"],[0.5555555555555556,\"#d8576b\"],[0.6666666666666666,\"#ed7953\"],[0.7777777777777778,\"#fb9f3a\"],[0.8888888888888888,\"#fdca26\"],[1.0,\"#f0f921\"]]}],\"contourcarpet\":[{\"type\":\"contourcarpet\",\"colorbar\":{\"outlinewidth\":0,\"ticks\":\"\"}}],\"contour\":[{\"type\":\"contour\",\"colorbar\":{\"outlinewidth\":0,\"ticks\":\"\"},\"colorscale\":[[0.0,\"#0d0887\"],[0.1111111111111111,\"#46039f\"],[0.2222222222222222,\"#7201a8\"],[0.3333333333333333,\"#9c179e\"],[0.4444444444444444,\"#bd3786\"],[0.5555555555555556,\"#d8576b\"],[0.6666666666666666,\"#ed7953\"],[0.7777777777777778,\"#fb9f3a\"],[0.8888888888888888,\"#fdca26\"],[1.0,\"#f0f921\"]]}],\"surface\":[{\"type\":\"surface\",\"colorbar\":{\"outlinewidth\":0,\"ticks\":\"\"},\"colorscale\":[[0.0,\"#0d0887\"],[0.1111111111111111,\"#46039f\"],[0.2222222222222222,\"#7201a8\"],[0.3333333333333333,\"#9c179e\"],[0.4444444444444444,\"#bd3786\"],[0.5555555555555556,\"#d8576b\"],[0.6666666666666666,\"#ed7953\"],[0.7777777777777778,\"#fb9f3a\"],[0.8888888888888888,\"#fdca26\"],[1.0,\"#f0f921\"]]}],\"mesh3d\":[{\"type\":\"mesh3d\",\"colorbar\":{\"outlinewidth\":0,\"ticks\":\"\"}}],\"scatter\":[{\"fillpattern\":{\"fillmode\":\"overlay\",\"size\":10,\"solidity\":0.2},\"type\":\"scatter\"}],\"parcoords\":[{\"type\":\"parcoords\",\"line\":{\"colorbar\":{\"outlinewidth\":0,\"ticks\":\"\"}}}],\"scatterpolargl\":[{\"type\":\"scatterpolargl\",\"marker\":{\"colorbar\":{\"outlinewidth\":0,\"ticks\":\"\"}}}],\"bar\":[{\"error_x\":{\"color\":\"#2a3f5f\"},\"error_y\":{\"color\":\"#2a3f5f\"},\"marker\":{\"line\":{\"color\":\"#E5ECF6\",\"width\":0.5},\"pattern\":{\"fillmode\":\"overlay\",\"size\":10,\"solidity\":0.2}},\"type\":\"bar\"}],\"scattergeo\":[{\"type\":\"scattergeo\",\"marker\":{\"colorbar\":{\"outlinewidth\":0,\"ticks\":\"\"}}}],\"scatterpolar\":[{\"type\":\"scatterpolar\",\"marker\":{\"colorbar\":{\"outlinewidth\":0,\"ticks\":\"\"}}}],\"histogram\":[{\"marker\":{\"pattern\":{\"fillmode\":\"overlay\",\"size\":10,\"solidity\":0.2}},\"type\":\"histogram\"}],\"scattergl\":[{\"type\":\"scattergl\",\"marker\":{\"colorbar\":{\"outlinewidth\":0,\"ticks\":\"\"}}}],\"scatter3d\":[{\"type\":\"scatter3d\",\"line\":{\"colorbar\":{\"outlinewidth\":0,\"ticks\":\"\"}},\"marker\":{\"colorbar\":{\"outlinewidth\":0,\"ticks\":\"\"}}}],\"scattermapbox\":[{\"type\":\"scattermapbox\",\"marker\":{\"colorbar\":{\"outlinewidth\":0,\"ticks\":\"\"}}}],\"scatterternary\":[{\"type\":\"scatterternary\",\"marker\":{\"colorbar\":{\"outlinewidth\":0,\"ticks\":\"\"}}}],\"scattercarpet\":[{\"type\":\"scattercarpet\",\"marker\":{\"colorbar\":{\"outlinewidth\":0,\"ticks\":\"\"}}}],\"carpet\":[{\"aaxis\":{\"endlinecolor\":\"#2a3f5f\",\"gridcolor\":\"white\",\"linecolor\":\"white\",\"minorgridcolor\":\"white\",\"startlinecolor\":\"#2a3f5f\"},\"baxis\":{\"endlinecolor\":\"#2a3f5f\",\"gridcolor\":\"white\",\"linecolor\":\"white\",\"minorgridcolor\":\"white\",\"startlinecolor\":\"#2a3f5f\"},\"type\":\"carpet\"}],\"table\":[{\"cells\":{\"fill\":{\"color\":\"#EBF0F8\"},\"line\":{\"color\":\"white\"}},\"header\":{\"fill\":{\"color\":\"#C8D4E3\"},\"line\":{\"color\":\"white\"}},\"type\":\"table\"}],\"barpolar\":[{\"marker\":{\"line\":{\"color\":\"#E5ECF6\",\"width\":0.5},\"pattern\":{\"fillmode\":\"overlay\",\"size\":10,\"solidity\":0.2}},\"type\":\"barpolar\"}],\"pie\":[{\"automargin\":true,\"type\":\"pie\"}]},\"layout\":{\"autotypenumbers\":\"strict\",\"colorway\":[\"#636efa\",\"#EF553B\",\"#00cc96\",\"#ab63fa\",\"#FFA15A\",\"#19d3f3\",\"#FF6692\",\"#B6E880\",\"#FF97FF\",\"#FECB52\"],\"font\":{\"color\":\"#2a3f5f\"},\"hovermode\":\"closest\",\"hoverlabel\":{\"align\":\"left\"},\"paper_bgcolor\":\"white\",\"plot_bgcolor\":\"#E5ECF6\",\"polar\":{\"bgcolor\":\"#E5ECF6\",\"angularaxis\":{\"gridcolor\":\"white\",\"linecolor\":\"white\",\"ticks\":\"\"},\"radialaxis\":{\"gridcolor\":\"white\",\"linecolor\":\"white\",\"ticks\":\"\"}},\"ternary\":{\"bgcolor\":\"#E5ECF6\",\"aaxis\":{\"gridcolor\":\"white\",\"linecolor\":\"white\",\"ticks\":\"\"},\"baxis\":{\"gridcolor\":\"white\",\"linecolor\":\"white\",\"ticks\":\"\"},\"caxis\":{\"gridcolor\":\"white\",\"linecolor\":\"white\",\"ticks\":\"\"}},\"coloraxis\":{\"colorbar\":{\"outlinewidth\":0,\"ticks\":\"\"}},\"colorscale\":{\"sequential\":[[0.0,\"#0d0887\"],[0.1111111111111111,\"#46039f\"],[0.2222222222222222,\"#7201a8\"],[0.3333333333333333,\"#9c179e\"],[0.4444444444444444,\"#bd3786\"],[0.5555555555555556,\"#d8576b\"],[0.6666666666666666,\"#ed7953\"],[0.7777777777777778,\"#fb9f3a\"],[0.8888888888888888,\"#fdca26\"],[1.0,\"#f0f921\"]],\"sequentialminus\":[[0.0,\"#0d0887\"],[0.1111111111111111,\"#46039f\"],[0.2222222222222222,\"#7201a8\"],[0.3333333333333333,\"#9c179e\"],[0.4444444444444444,\"#bd3786\"],[0.5555555555555556,\"#d8576b\"],[0.6666666666666666,\"#ed7953\"],[0.7777777777777778,\"#fb9f3a\"],[0.8888888888888888,\"#fdca26\"],[1.0,\"#f0f921\"]],\"diverging\":[[0,\"#8e0152\"],[0.1,\"#c51b7d\"],[0.2,\"#de77ae\"],[0.3,\"#f1b6da\"],[0.4,\"#fde0ef\"],[0.5,\"#f7f7f7\"],[0.6,\"#e6f5d0\"],[0.7,\"#b8e186\"],[0.8,\"#7fbc41\"],[0.9,\"#4d9221\"],[1,\"#276419\"]]},\"xaxis\":{\"gridcolor\":\"white\",\"linecolor\":\"white\",\"ticks\":\"\",\"title\":{\"standoff\":15},\"zerolinecolor\":\"white\",\"automargin\":true,\"zerolinewidth\":2},\"yaxis\":{\"gridcolor\":\"white\",\"linecolor\":\"white\",\"ticks\":\"\",\"title\":{\"standoff\":15},\"zerolinecolor\":\"white\",\"automargin\":true,\"zerolinewidth\":2},\"scene\":{\"xaxis\":{\"backgroundcolor\":\"#E5ECF6\",\"gridcolor\":\"white\",\"linecolor\":\"white\",\"showbackground\":true,\"ticks\":\"\",\"zerolinecolor\":\"white\",\"gridwidth\":2},\"yaxis\":{\"backgroundcolor\":\"#E5ECF6\",\"gridcolor\":\"white\",\"linecolor\":\"white\",\"showbackground\":true,\"ticks\":\"\",\"zerolinecolor\":\"white\",\"gridwidth\":2},\"zaxis\":{\"backgroundcolor\":\"#E5ECF6\",\"gridcolor\":\"white\",\"linecolor\":\"white\",\"showbackground\":true,\"ticks\":\"\",\"zerolinecolor\":\"white\",\"gridwidth\":2}},\"shapedefaults\":{\"line\":{\"color\":\"#2a3f5f\"}},\"annotationdefaults\":{\"arrowcolor\":\"#2a3f5f\",\"arrowhead\":0,\"arrowwidth\":1},\"geo\":{\"bgcolor\":\"white\",\"landcolor\":\"#E5ECF6\",\"subunitcolor\":\"white\",\"showland\":true,\"showlakes\":true,\"lakecolor\":\"white\"},\"title\":{\"x\":0.05},\"mapbox\":{\"style\":\"light\"}}},\"xaxis\":{\"anchor\":\"y\",\"domain\":[0.0,1.0],\"scaleanchor\":\"y\",\"constrain\":\"domain\",\"title\":{\"text\":\"src\"}},\"yaxis\":{\"anchor\":\"x\",\"domain\":[0.0,1.0],\"autorange\":\"reversed\",\"constrain\":\"domain\",\"title\":{\"text\":\"dest\"}},\"coloraxis\":{\"colorscale\":[[0.0,\"rgb(103,0,31)\"],[0.1,\"rgb(178,24,43)\"],[0.2,\"rgb(214,96,77)\"],[0.3,\"rgb(244,165,130)\"],[0.4,\"rgb(253,219,199)\"],[0.5,\"rgb(247,247,247)\"],[0.6,\"rgb(209,229,240)\"],[0.7,\"rgb(146,197,222)\"],[0.8,\"rgb(67,147,195)\"],[0.9,\"rgb(33,102,172)\"],[1.0,\"rgb(5,48,97)\"]],\"cmid\":0.0},\"title\":{\"text\":\"virtual attn pattern A^1.0 @ A^0.0 for example 144\"}},                        {\"responsive\": true}                    ).then(function(){\n",
              "                            \n",
              "var gd = document.getElementById('b551359f-57a8-49ae-8e4f-7a29eeae0fd7');\n",
              "var x = new MutationObserver(function (mutations, observer) {{\n",
              "        var display = window.getComputedStyle(gd).display;\n",
              "        if (!display || display === 'none') {{\n",
              "            console.log([gd, 'removed!']);\n",
              "            Plotly.purge(gd);\n",
              "            observer.disconnect();\n",
              "        }}\n",
              "}});\n",
              "\n",
              "// Listen for the removal of the full notebook cells\n",
              "var notebookContainer = gd.closest('#notebook-container');\n",
              "if (notebookContainer) {{\n",
              "    x.observe(notebookContainer, {childList: true});\n",
              "}}\n",
              "\n",
              "// Listen for the clearing of the current output cell\n",
              "var outputEl = gd.closest('.output');\n",
              "if (outputEl) {{\n",
              "    x.observe(outputEl, {childList: true});\n",
              "}}\n",
              "\n",
              "                        })                };                            </script>        </div>\n",
              "</body>\n",
              "</html>"
            ]
          },
          "metadata": {}
        }
      ]
    },
    {
      "cell_type": "markdown",
      "source": [
        "Notice that the prediction destination tokens attend most strongly to the correct list token. This is consistent with the V-composition hypothesis, since it implies that via the composition of both heads, each list token information is routed to the correct prediction destination token position. Adding to our list of observations:\n",
        "\n",
        "* Head 1.0 has the largest direct effect on the logits (DLA)\n",
        "    * In particular, decomposing 1.0s output into sub terms and applying more refined DLA shows that the \"virtual attn head term\" $A^{1.0}A^{0.0}eW_{OV}^{0.0}W_{OV}^{1.0}$ dominates\n",
        "* The average of all 1.0 attn patterns showed the prediction positions (END, ans_0, ans_1) always attend to the permutation index positions (idx_0, idx_1, idx_2) respectively.\n",
        "    * 1.0 $W_{pos}W_{QK}W_{pos}^T$ QK circuit component shows clear diagonal stripe where prediction positions (END, ans_0, ans_1) give the highest scores to positions (idx_0, idx_1, idx_2) respectively.\n",
        "* Every 0.0 pattern we checked shows that permutation tokens (0, 1, 2) always attend to list positions (a_0, a_1, a_2)respectively.\n",
        "    * 0.0 full QK circuit shows clear diagonal stripe where tokens (0, 1, 2) give the highest attn scores to positions corresponding to (a_0, a_1, a_2) respectively.\n",
        "* **In every example we checked, the virtual attn pattern $A^{1.0}A^{0.0}$ showed that the prediction positions effectively attended to the correct list token**"
      ],
      "metadata": {
        "id": "mjIE3g1c4PLG"
      }
    },
    {
      "cell_type": "markdown",
      "source": [
        "## Virtual OV circuit"
      ],
      "metadata": {
        "id": "hrcHlmGBt6Tf"
      }
    },
    {
      "cell_type": "markdown",
      "source": [
        "Now that we are convinced the virtual attn head just attends to the correct next token, it would be natural for $W_EW_{OV}^{0.0}W_{OV}^{1.0}W_U$ to just copy that to the logits. We expect to see a strong diagonal as we've seen in many other circuits:"
      ],
      "metadata": {
        "id": "ndU1yhwVQvXk"
      }
    },
    {
      "cell_type": "code",
      "source": [
        "virtual_OV_circuit = W_E @ model.OV[0,0].AB @ model.OV[1, 0].AB @ model.W_U\n",
        "print(virtual_OV_circuit.shape)"
      ],
      "metadata": {
        "colab": {
          "base_uri": "https://localhost:8080/"
        },
        "id": "I-K51CqtRxQP",
        "outputId": "afc9c065-1df0-475c-9122-71a6155b4c2d"
      },
      "execution_count": 37,
      "outputs": [
        {
          "output_type": "stream",
          "name": "stdout",
          "text": [
            "torch.Size([53, 50])\n"
          ]
        }
      ]
    },
    {
      "cell_type": "code",
      "source": [
        "imshow(\n",
        "    virtual_OV_circuit,\n",
        "    title=\"Virtual OV circuit: W_E @ W_OV^0.0 @ W_OV^1.0 @ W_U\",\n",
        "    xaxis=\"logit\", yaxis=\"src token\",\n",
        "    aspect=\"equal\"\n",
        ")"
      ],
      "metadata": {
        "colab": {
          "base_uri": "https://localhost:8080/",
          "height": 542
        },
        "id": "MK8g3mCsR6tq",
        "outputId": "5b5f2ece-d963-438a-b806-f48ac2beaf53"
      },
      "execution_count": 38,
      "outputs": [
        {
          "output_type": "display_data",
          "data": {
            "text/html": [
              "<html>\n",
              "<head><meta charset=\"utf-8\" /></head>\n",
              "<body>\n",
              "    <div>            <script src=\"https://cdnjs.cloudflare.com/ajax/libs/mathjax/2.7.5/MathJax.js?config=TeX-AMS-MML_SVG\"></script><script type=\"text/javascript\">if (window.MathJax && window.MathJax.Hub && window.MathJax.Hub.Config) {window.MathJax.Hub.Config({SVG: {font: \"STIX-Web\"}});}</script>                <script type=\"text/javascript\">window.PlotlyConfig = {MathJaxConfig: 'local'};</script>\n",
              "        <script charset=\"utf-8\" src=\"https://cdn.plot.ly/plotly-2.24.1.min.js\"></script>                <div id=\"08882a23-b553-4635-a887-f3d9cd838f0e\" class=\"plotly-graph-div\" style=\"height:525px; width:100%;\"></div>            <script type=\"text/javascript\">                                    window.PLOTLYENV=window.PLOTLYENV || {};                                    if (document.getElementById(\"08882a23-b553-4635-a887-f3d9cd838f0e\")) {                    Plotly.newPlot(                        \"08882a23-b553-4635-a887-f3d9cd838f0e\",                        [{\"coloraxis\":\"coloraxis\",\"name\":\"0\",\"z\":[[75.48560333251953,7.827505111694336,7.7493133544921875,2.1711249351501465,8.012880325317383,-3.328995704650879,4.515407562255859,4.4017839431762695,-14.155885696411133,-4.249512195587158,-11.413330078125,-10.513200759887695,-12.297046661376953,6.929043769836426,-8.262118339538574,-12.401229858398438,-5.3789825439453125,-4.536811828613281,5.915935516357422,-0.8387918472290039,-10.496286392211914,-7.34104061126709,-14.070493698120117,-21.135799407958984,-5.968978404998779,-14.684303283691406,0.3947119116783142,-5.1473894119262695,-6.5517778396606445,-10.518017768859863,-6.236083984375,4.239348411560059,1.4985288381576538,-2.698873281478882,-14.632075309753418,-9.703402519226074,8.19709587097168,0.17004776000976562,-13.412476539611816,3.9964401721954346,-2.357517957687378,-1.0896937847137451,-19.544918060302734,-12.952245712280273,-8.435018539428711,-0.20719051361083984,-2.2007713317871094,-11.799179077148438,2.0498688220977783,2.286160469055176],[1.1497676372528076,44.089298248291016,8.80040168762207,0.04572552442550659,2.4146673679351807,-12.923929214477539,-2.2081079483032227,2.634446620941162,-11.328983306884766,4.744183540344238,-6.663403511047363,6.39855432510376,3.1870718002319336,-2.911640167236328,-12.540468215942383,-3.909703493118286,4.216322422027588,4.523588180541992,-1.4335073232650757,-2.891759157180786,8.763814926147461,-7.782390594482422,3.1711573600769043,-12.837112426757812,-5.249239444732666,-1.2262201309204102,-1.9230279922485352,-8.699996948242188,-0.2252737283706665,-4.281639099121094,-8.600354194641113,-10.191717147827148,-10.953084945678711,-3.7970218658447266,2.7399134635925293,-13.627084732055664,2.243246078491211,-11.348270416259766,-16.23613166809082,-7.2243499755859375,-1.8834466934204102,-3.195314407348633,-6.293068885803223,-2.1739253997802734,4.919771194458008,-3.688282012939453,-7.763254642486572,1.8727070093154907,6.035712242126465,-4.480116844177246],[-9.393539428710938,6.790156364440918,56.05604553222656,-4.512970924377441,-5.671407699584961,1.0564088821411133,-3.3002657890319824,1.6144733428955078,-2.5876998901367188,-6.112100601196289,-9.811433792114258,-0.8017957210540771,-8.076759338378906,-0.9169471263885498,-12.289978981018066,1.499064564704895,-7.650490760803223,1.5864461660385132,9.997087478637695,-1.923058271408081,8.453047752380371,10.185775756835938,8.096670150756836,-21.28820037841797,-0.6199207305908203,-0.00823664665222168,5.221413612365723,-0.4323441982269287,-1.0055441856384277,5.819301605224609,-0.16825628280639648,-15.173297882080078,1.5639736652374268,3.969506025314331,5.315573692321777,-8.234977722167969,0.38350868225097656,17.217697143554688,-8.614973068237305,3.464414596557617,4.503408432006836,-8.003456115722656,-7.649826526641846,5.664947032928467,2.113772392272949,-3.050825357437134,-5.704931259155273,-16.107662200927734,-0.24773383140563965,-6.880354881286621],[-2.465987205505371,-2.4039859771728516,-2.5972237586975098,59.812530517578125,1.5515201091766357,18.5384521484375,-13.194540023803711,-12.040226936340332,13.318161010742188,16.14028549194336,3.144237518310547,-21.7763671875,9.745565414428711,13.639049530029297,2.162140369415283,-2.646589756011963,-10.541743278503418,14.963275909423828,15.312758445739746,-0.7665114402770996,-21.372520446777344,2.1117355823516846,-13.684558868408203,11.440321922302246,-32.22067642211914,-9.332921981811523,9.257109642028809,14.57303237915039,7.323119640350342,-19.509136199951172,1.0043525695800781,2.66899037361145,9.220992088317871,-8.055042266845703,5.328100204467773,4.53736686706543,-8.248187065124512,-3.809342384338379,-9.088470458984375,0.08492755889892578,-28.082672119140625,-5.331214427947998,-15.114840507507324,9.610823631286621,-36.50569152832031,8.699914932250977,-6.124172687530518,10.362425804138184,4.186689376831055,9.133218765258789],[-3.3104772567749023,5.4584641456604,3.050147533416748,6.214049339294434,71.66559600830078,17.395137786865234,7.118861675262451,3.4207406044006348,12.431402206420898,-14.509206771850586,-12.375312805175781,15.395057678222656,4.6668314933776855,11.27968978881836,-2.951016902923584,10.995037078857422,-23.976770401000977,-10.988689422607422,-2.7405972480773926,4.553908348083496,16.444496154785156,-12.509880065917969,10.716465950012207,-0.06090497970581055,-2.047081470489502,-25.089920043945312,8.342538833618164,-18.064453125,-29.260160446166992,-21.620601654052734,6.122427940368652,-3.3601956367492676,13.850360870361328,-5.233882904052734,-12.80141830444336,-22.09020233154297,9.433483123779297,-3.8354969024658203,5.831051349639893,-31.018596649169922,5.5763702392578125,9.934517860412598,4.59242582321167,15.509624481201172,-0.4756631851196289,6.814683437347412,-9.296266555786133,-5.88459587097168,-7.829792022705078,9.17361831665039],[-0.8620461225509644,-10.737970352172852,-5.652695178985596,9.888689041137695,7.9172186851501465,57.683265686035156,11.838821411132812,9.275558471679688,5.93126916885376,1.2957417964935303,-21.55986785888672,-23.122806549072266,4.096795082092285,1.790001392364502,7.330670356750488,-4.669059753417969,8.561454772949219,10.803696632385254,-2.764223575592041,-10.838098526000977,-15.748268127441406,12.318723678588867,-0.7376186847686768,4.971210479736328,1.1910436153411865,-18.493961334228516,1.25388503074646,0.9854331016540527,6.730952262878418,0.36656880378723145,-18.911426544189453,-8.574888229370117,6.322683334350586,8.278716087341309,-27.04574966430664,-1.1851933002471924,2.469742774963379,2.788546323776245,12.66436767578125,-1.1769847869873047,-3.580308437347412,-14.622873306274414,-4.902020454406738,-7.394078254699707,-23.49197006225586,-10.209165573120117,-5.074747085571289,-3.1555042266845703,2.9340670108795166,2.4479990005493164],[4.631448745727539,-11.241262435913086,-5.6623759269714355,-8.126103401184082,8.893362045288086,13.8240385055542,67.47096252441406,-0.6299543380737305,-10.886651992797852,0.5040783882141113,-9.927681922912598,3.8581767082214355,1.7610902786254883,-26.481929779052734,12.26906681060791,13.258423805236816,2.463095188140869,-20.454191207885742,16.12129783630371,-1.7433032989501953,-12.728293418884277,5.175989151000977,-15.94345474243164,-14.39417552947998,6.805304527282715,-24.950117111206055,1.5464506149291992,-18.862934112548828,10.221270561218262,9.040635108947754,5.957911491394043,0.9629583358764648,9.734102249145508,2.1882381439208984,-19.38279914855957,-10.061193466186523,5.694509983062744,12.339044570922852,-5.020880699157715,12.888069152832031,-6.527792930603027,-21.62781524658203,2.5036191940307617,9.955612182617188,1.2778555154800415,-5.845516204833984,14.343452453613281,-8.150653839111328,-3.570387601852417,5.270636558532715],[-0.5008505582809448,-0.16456034779548645,-3.762775421142578,-9.809825897216797,5.873002052307129,13.512044906616211,-1.502158284187317,61.046241760253906,-10.7542085647583,10.940277099609375,-15.70852279663086,-1.8030147552490234,-0.5183577537536621,4.1090087890625,-12.189180374145508,-26.87262535095215,-12.444433212280273,1.3422998189926147,-9.38564682006836,1.9447956085205078,8.567078590393066,-5.793224334716797,2.4607298374176025,12.181109428405762,-9.035942077636719,10.356843948364258,-6.004266262054443,-27.594785690307617,8.524669647216797,3.9832279682159424,-19.742076873779297,-10.66343879699707,-15.912748336791992,-3.5852975845336914,-17.025440216064453,9.99696159362793,7.844379901885986,5.019221305847168,4.816825866699219,-19.466156005859375,7.37638521194458,-0.4523492455482483,11.406513214111328,9.5348539352417,-0.4488697052001953,5.399343490600586,1.6536014080047607,-14.528728485107422,-0.9438174962997437,7.373292446136475],[-10.425125122070312,-10.268590927124023,-6.759518623352051,10.961477279663086,6.623313903808594,6.989763259887695,-6.030600547790527,-10.607466697692871,58.13507843017578,1.8042762279510498,8.80583381652832,-20.107019424438477,-7.913688659667969,13.067319869995117,1.7537875175476074,9.545835494995117,9.35818099975586,1.28652024269104,8.091898918151855,-15.449728012084961,-17.417264938354492,-8.919438362121582,-0.021508216857910156,-1.780245304107666,-25.15618896484375,12.630130767822266,12.481372833251953,-15.50868034362793,-12.137492179870605,-2.723789691925049,12.195952415466309,9.274333953857422,5.944455623626709,-20.82537841796875,10.86340618133545,-10.079710006713867,8.775874137878418,12.748175621032715,9.76269245147705,-2.1296896934509277,12.374288558959961,8.930547714233398,3.0510997772216797,4.330078125,0.734407901763916,-1.0104751586914062,-11.526399612426758,-2.9961724281311035,-11.60096263885498,9.705551147460938],[-14.274491310119629,1.3672480583190918,-10.0447998046875,16.759449005126953,-19.229454040527344,-2.7342021465301514,4.652766227722168,9.65200424194336,1.8162474632263184,63.82161331176758,16.8663330078125,14.897671699523926,4.652052879333496,-4.7141523361206055,2.2574679851531982,-15.885101318359375,4.300633430480957,-13.367288589477539,8.568587303161621,-8.099732398986816,-6.158404350280762,-12.405012130737305,8.39260196685791,5.909138202667236,-42.413543701171875,4.682991981506348,-4.002963542938232,-0.7512233257293701,15.844765663146973,8.700830459594727,-4.536275863647461,-11.57795524597168,-19.448074340820312,-10.245163917541504,-4.176174640655518,-1.709008812904358,-30.841785430908203,14.754932403564453,-21.825937271118164,6.765353202819824,-6.787569046020508,-4.352038383483887,-1.1302778720855713,-1.5595729351043701,-11.323673248291016,12.686368942260742,10.608896255493164,3.411311388015747,-6.610696315765381,10.742341995239258],[-22.29970359802246,-5.935693740844727,-20.130462646484375,1.19778573513031,-15.150371551513672,-20.671916961669922,-11.163556098937988,-14.044890403747559,7.398741722106934,16.78937339782715,63.316383361816406,14.892457962036133,13.421549797058105,7.350512504577637,-23.15272331237793,0.48921680450439453,9.314229965209961,3.919264793395996,-3.8289663791656494,3.141423225402832,12.919088363647461,8.69459056854248,3.3663170337677,7.533599376678467,-3.73297119140625,9.576879501342773,-11.539977073669434,7.166731834411621,9.952339172363281,-1.549646019935608,10.686948776245117,-1.8021471500396729,8.780635833740234,-15.290117263793945,11.14383316040039,7.610368251800537,15.621885299682617,-0.9984831809997559,-19.024505615234375,-12.163592338562012,3.3963279724121094,12.879785537719727,6.406018257141113,-11.598735809326172,5.712777614593506,2.3522284030914307,13.48351001739502,5.579273700714111,1.8143322467803955,2.5069761276245117],[-15.221317291259766,-1.8203957080841064,-4.309356689453125,-14.645729064941406,12.02041244506836,-15.824304580688477,5.642054080963135,-0.9469382762908936,-13.490671157836914,10.496332168579102,11.771190643310547,65.02761840820312,6.845528602600098,-0.1842045783996582,9.295186042785645,2.5646958351135254,-12.988798141479492,-32.593204498291016,-1.0301746129989624,2.184565544128418,9.139497756958008,-12.10716438293457,3.9946234226226807,5.3325581550598145,5.0514678955078125,3.4149763584136963,-10.215188026428223,9.994135856628418,-6.658080101013184,7.7398295402526855,-6.3725690841674805,14.112752914428711,9.157586097717285,10.555078506469727,9.539857864379883,5.570989608764648,-11.91777229309082,2.062346935272217,-23.81716537475586,-16.29184341430664,17.168569564819336,-1.479630470275879,2.906857490539551,7.510648727416992,9.844244003295898,6.110041618347168,0.7109337449073792,6.991145610809326,5.923854351043701,-13.480457305908203],[-24.049470901489258,-4.587337970733643,-7.656181335449219,6.028284072875977,7.279982089996338,8.819944381713867,2.625600814819336,-3.431723117828369,8.53848934173584,4.276671886444092,8.471923828125,8.527989387512207,62.941654205322266,-10.773118019104004,-14.143050193786621,-2.392695426940918,-2.78936767578125,9.789766311645508,14.78746223449707,1.3437526226043701,-0.16633892059326172,4.352193832397461,0.3837926387786865,-2.4840543270111084,0.4130525588989258,-10.182477951049805,-33.723350524902344,4.599190711975098,4.140681266784668,-20.140247344970703,0.8907570838928223,-4.6540207862854,6.4332404136657715,13.005541801452637,18.29290008544922,7.4172210693359375,5.958765506744385,5.796436309814453,-5.850998878479004,-13.09881591796875,12.145952224731445,-17.944866180419922,14.060811042785645,12.858026504516602,3.40944504737854,12.740228652954102,-21.084041595458984,9.238852500915527,-15.70720100402832,-14.820026397705078],[-5.9940290451049805,-2.382662296295166,-3.950284957885742,15.467521667480469,13.912567138671875,12.999354362487793,-28.83011817932129,4.807551383972168,17.45590591430664,3.7695958614349365,8.492161750793457,5.559179782867432,-16.67306137084961,67.9848861694336,7.4941253662109375,-18.954833984375,1.9149580001831055,4.070552825927734,-22.07229995727539,2.4042091369628906,-14.276464462280273,-24.55592155456543,13.838177680969238,1.7494449615478516,-6.603570938110352,16.061382293701172,12.967677116394043,9.514893531799316,-17.253984451293945,-19.05753517150879,-10.884187698364258,-9.893345832824707,16.652128219604492,-18.116321563720703,-2.3788862228393555,12.299491882324219,19.234493255615234,-1.6919546127319336,-8.313993453979492,-5.808484077453613,-5.148797035217285,-2.1513967514038086,2.8930704593658447,0.7831192016601562,-22.199874877929688,-21.037269592285156,-2.2760446071624756,0.5267763137817383,9.273425102233887,18.012603759765625],[-1.9832541942596436,-11.366987228393555,-7.233961582183838,-0.25047898292541504,1.3838379383087158,-0.41431331634521484,12.10698413848877,-10.806374549865723,3.088557243347168,1.275402545928955,-24.38028335571289,11.189172744750977,-20.097610473632812,6.712429046630859,62.041709899902344,-2.341839075088501,-9.521303176879883,-20.818401336669922,6.461225509643555,-0.10170197486877441,-27.05316734313965,-28.690139770507812,-15.597972869873047,4.922483921051025,9.720611572265625,9.501148223876953,4.496608257293701,2.4963178634643555,-23.29714012145996,5.974090576171875,16.03723907470703,8.225008010864258,10.047463417053223,11.358304977416992,6.430397987365723,11.512834548950195,-34.76990509033203,-5.39412784576416,11.512006759643555,15.831037521362305,-6.479204177856445,-8.136442184448242,10.206033706665039,18.439273834228516,-1.9172842502593994,2.682069778442383,-5.493227481842041,10.796310424804688,-5.817364692687988,16.64609146118164],[1.4569783210754395,-7.841857433319092,-4.23026180267334,-5.2107391357421875,9.908934593200684,-9.16457748413086,19.243104934692383,-37.06039047241211,10.63267707824707,-19.01714324951172,1.817634105682373,0.18009662628173828,-11.09908390045166,-21.209922790527344,1.4887233972549438,62.12034606933594,16.617095947265625,-7.265197277069092,-4.021356582641602,-22.30126953125,16.415393829345703,4.467654705047607,-3.539717197418213,14.89895248413086,13.04379653930664,-17.000465393066406,5.588015079498291,7.692785263061523,7.845729351043701,14.689247131347656,3.811631679534912,14.944336891174316,5.453521251678467,-21.635007858276367,14.589597702026367,-14.311028480529785,8.17416000366211,-22.166942596435547,4.0700883865356445,-5.620966911315918,-6.314793109893799,-2.12363862991333,-15.090375900268555,13.57599925994873,3.7472753524780273,-7.647672653198242,7.847643852233887,7.4021759033203125,6.995993614196777,0.8047280311584473],[-2.150235176086426,0.7403955459594727,-11.106239318847656,-15.336286544799805,-30.897653579711914,0.4709477424621582,6.170008659362793,-11.931243896484375,6.855962753295898,4.459071636199951,3.926161766052246,-22.132606506347656,-9.79344654083252,-7.448241233825684,1.9640231132507324,15.161828994750977,55.55527114868164,12.82369613647461,-16.024200439453125,-21.73587417602539,-5.333385467529297,10.708383560180664,7.908851623535156,-1.3586032390594482,9.268974304199219,10.290746688842773,8.757213592529297,3.223865509033203,14.64755630493164,12.518940925598145,-6.216798305511475,-11.903229713439941,-17.383678436279297,-18.753995895385742,5.181238651275635,-1.2990846633911133,11.378389358520508,2.9683637619018555,13.296884536743164,12.0502290725708,-5.333156585693359,-20.153108596801758,-12.9100923538208,-14.982393264770508,0.9623124599456787,-20.237369537353516,8.673072814941406,1.3041839599609375,-4.323996543884277,-1.544022560119629],[-11.344186782836914,3.9600260257720947,-3.0799059867858887,9.343853950500488,-28.810352325439453,13.152429580688477,-28.048460006713867,4.799875736236572,5.870068073272705,-10.93690299987793,0.5929718017578125,-53.48566436767578,11.195826530456543,3.3929226398468018,-16.862716674804688,-6.210149765014648,18.528060913085938,61.96894836425781,-3.659257650375366,8.072535514831543,16.404861450195312,15.272476196289062,4.991764068603516,11.103163719177246,7.89500617980957,8.133432388305664,-2.934260606765747,2.4159297943115234,13.478536605834961,5.344679355621338,-6.030243873596191,-31.130159378051758,3.1093649864196777,-9.963476181030273,9.48696517944336,6.721297264099121,14.918424606323242,-11.768884658813477,11.464693069458008,7.07407808303833,-21.879981994628906,-4.862277030944824,17.959840774536133,4.416819095611572,-21.72965431213379,-22.572832107543945,-7.086091995239258,-14.215453147888184,9.901535034179688,3.268998622894287],[-8.322198867797852,0.5999980568885803,11.673432350158691,12.696096420288086,-3.8497116565704346,1.1677863597869873,11.950191497802734,-10.468853950500488,13.054637908935547,9.913446426391602,0.700965404510498,-4.346680641174316,11.043533325195312,-11.820667266845703,6.041227340698242,-4.087939262390137,-12.091869354248047,-0.3463115692138672,64.04403686523438,-23.50041961669922,-21.369510650634766,11.602072715759277,-19.6112060546875,-19.261154174804688,-21.087032318115234,5.516326427459717,-9.761651992797852,-18.30796241760254,2.1100616455078125,-3.282017230987549,9.598752975463867,6.032620429992676,9.320181846618652,16.69594955444336,13.431259155273438,-14.740873336791992,-7.090827941894531,-2.403656005859375,-13.158454895019531,8.283893585205078,16.725391387939453,4.802093505859375,15.532838821411133,4.017848968505859,-20.54911994934082,8.469755172729492,-19.51167106628418,1.7148606777191162,13.535834312438965,-2.9886960983276367],[-5.481881141662598,-2.6137290000915527,-8.14500617980957,4.312425136566162,4.066685676574707,-9.446953773498535,-6.447458267211914,10.286567687988281,-11.044007301330566,-7.386223316192627,0.33591699600219727,7.068368911743164,2.925844669342041,10.622852325439453,3.274106502532959,-21.847518920898438,-19.32379913330078,6.765981674194336,-26.840679168701172,60.26471710205078,9.191762924194336,-9.01708984375,8.425760269165039,3.5786638259887695,11.126431465148926,1.6161012649536133,15.97251033782959,8.53388786315918,-9.216935157775879,0.8038468360900879,11.273295402526855,-4.946573257446289,7.3416290283203125,7.26632022857666,-13.436199188232422,18.09804916381836,-10.791483879089355,17.217628479003906,3.3867604732513428,15.494112968444824,-28.5944766998291,0.807488203048706,8.111089706420898,10.159355163574219,14.533577919006348,7.324287414550781,4.635876655578613,-16.659950256347656,-19.82783317565918,0.6458142995834351],[-21.48518180847168,8.734373092651367,-12.311324119567871,-21.937698364257812,12.944662094116211,-18.618772506713867,-9.561134338378906,6.330379486083984,-11.576269149780273,-1.800336480140686,17.546142578125,20.2226619720459,10.646906852722168,-15.021533966064453,-26.843618392944336,21.715389251708984,-0.1273038387298584,11.845561981201172,-26.080419540405273,13.786680221557617,67.99111938476562,-0.135059654712677,11.42181396484375,21.38889503479004,4.395691871643066,-10.684267044067383,-5.056780815124512,0.908366322517395,8.223843574523926,11.931671142578125,-15.594139099121094,-8.603662490844727,0.6731336712837219,-20.320159912109375,5.933147430419922,6.5743513107299805,22.135894775390625,-6.3145904541015625,-2.4984652996063232,-21.547611236572266,-6.207531929016113,7.697299003601074,9.891916275024414,13.678024291992188,19.552921295166016,-3.0361385345458984,14.915925979614258,-9.048516273498535,-4.010104656219482,-6.805454254150391],[-3.4320640563964844,-2.1518983840942383,0.22516298294067383,-1.6379339694976807,-19.618955612182617,9.473188400268555,-0.7100852727890015,0.12663817405700684,-17.403705596923828,-12.942459106445312,3.852005958557129,-19.13289451599121,5.752294540405273,-22.540550231933594,-14.2363862991333,0.06649160385131836,8.744002342224121,10.765466690063477,9.5035982131958,-3.583690643310547,-1.2377102375030518,58.631553649902344,-9.464363098144531,11.72304916381836,8.680322647094727,-7.666604995727539,-1.1014134883880615,8.787091255187988,13.945257186889648,4.597907066345215,5.942234992980957,9.421721458435059,1.9116764068603516,8.063957214355469,-7.849255561828613,0.8097715377807617,8.4708890914917,5.855804443359375,10.185385704040527,-8.037054061889648,8.751386642456055,-1.5558538436889648,-20.02667236328125,-24.185333251953125,-15.604458808898926,7.039141654968262,5.642678260803223,-8.776235580444336,-3.378734827041626,-14.56785774230957],[-11.130220413208008,-4.796236515045166,2.240926504135132,-7.7786407470703125,7.849649429321289,2.8028573989868164,-9.839273452758789,2.623213052749634,8.155077934265137,15.199772834777832,3.0075340270996094,7.061415672302246,-2.561249017715454,8.211183547973633,-11.76724624633789,2.919541835784912,14.162857055664062,0.39254844188690186,-29.88687515258789,1.2640981674194336,13.444137573242188,-4.972194194793701,60.96495819091797,13.822420120239258,5.641808032989502,7.637704372406006,7.188718795776367,10.846922874450684,-2.726064682006836,4.198523998260498,9.049966812133789,-31.931934356689453,-28.82335662841797,-11.176838874816895,-10.523564338684082,-31.880794525146484,-22.020278930664062,-2.439365863800049,-1.663278579711914,-4.7843241691589355,9.86787223815918,10.483753204345703,2.2075328826904297,-10.133264541625977,-2.082341194152832,-0.6867548227310181,4.909144401550293,2.2688257694244385,-3.19167160987854,7.358131408691406],[-13.691811561584473,-13.583263397216797,-27.925989151000977,6.441495895385742,-2.831550359725952,1.6688804626464844,-15.118659973144531,13.367912292480469,-4.473536491394043,7.560673713684082,5.859701156616211,1.2167352437973022,-4.596590518951416,-3.7246789932250977,4.541550636291504,11.819395065307617,-3.649698495864868,4.859669208526611,-21.788902282714844,-0.5061028003692627,18.114368438720703,7.301733016967773,5.473583698272705,56.71821212768555,4.491036891937256,4.919346809387207,0.5042519569396973,10.935920715332031,13.057441711425781,10.731786727905273,0.8262615203857422,5.199173927307129,-5.166275501251221,-24.93655014038086,-1.4445981979370117,5.228783130645752,-8.939775466918945,-22.493913650512695,4.765069007873535,-26.2442626953125,-3.4858639240264893,5.567018508911133,-2.8228909969329834,11.284740447998047,-18.04460334777832,4.837660789489746,11.181779861450195,7.910486221313477,5.646674156188965,13.566370010375977],[-1.811629295349121,-5.456355094909668,-1.1590875387191772,-23.841205596923828,-1.6097192764282227,3.892911434173584,4.304129600524902,-9.632450103759766,-16.952600479125977,-33.397178649902344,-6.154889106750488,2.919881820678711,3.2268197536468506,4.5789642333984375,14.948833465576172,9.257282257080078,11.240121841430664,9.166410446166992,-20.154186248779297,10.22577953338623,-0.255130410194397,3.6792218685150146,6.4013824462890625,5.550857067108154,63.9418830871582,11.066351890563965,-2.948523998260498,7.9170379638671875,3.0202817916870117,2.322108268737793,8.778230667114258,-6.907410621643066,4.147879600524902,6.954142093658447,-3.1218223571777344,3.1262876987457275,7.568155288696289,-26.497215270996094,7.836128234863281,-0.9052963256835938,-2.3712501525878906,-13.316128730773926,3.2147302627563477,9.488990783691406,6.942749500274658,-9.14432144165039,-15.084251403808594,5.930517196655273,6.85941219329834,-3.028672456741333],[-18.877761840820312,-4.22161865234375,-9.947392463684082,-10.488667488098145,-27.190336227416992,-25.687591552734375,-25.492597579956055,12.7362060546875,18.584428787231445,10.50308895111084,13.603917121887207,4.438817501068115,-11.465868949890137,15.291027069091797,10.872194290161133,-10.388099670410156,9.506728172302246,1.6697113513946533,-0.1699514389038086,-8.116539001464844,-8.806042671203613,-15.770227432250977,6.99310302734375,9.354818344116211,6.256232261657715,63.01443862915039,7.727695941925049,-11.655405044555664,12.814082145690918,10.686370849609375,5.86016845703125,3.0296733379364014,-26.796424865722656,-6.917655944824219,17.884552001953125,8.310629844665527,-4.769278526306152,-17.459228515625,-1.8035888671875,0.9739464521408081,9.59881591796875,14.017450332641602,9.062610626220703,13.30335807800293,11.317611694335938,17.232418060302734,-22.063337326049805,10.160306930541992,5.7991485595703125,-1.9154337644577026],[0.6554157733917236,-2.0416016578674316,1.8515901565551758,9.337234497070312,9.12583065032959,8.81112289428711,2.8734569549560547,2.0577592849731445,5.739893436431885,-5.120948791503906,-14.31544017791748,-11.357458114624023,-39.789608001708984,8.491654396057129,12.157350540161133,7.1173319816589355,8.19759750366211,-1.2136309146881104,-20.626197814941406,14.334722518920898,0.48489880561828613,3.22843599319458,7.604433059692383,8.059236526489258,0.3159257173538208,12.616047859191895,60.33980178833008,-0.6563515663146973,12.584424018859863,8.452863693237305,-4.087461948394775,6.204627513885498,-11.421364784240723,-21.663436889648438,-28.5413818359375,-12.925468444824219,5.498619556427002,4.50184440612793,7.822202682495117,10.547849655151367,-24.88829231262207,2.1058483123779297,-24.51988983154297,2.026658058166504,-8.094002723693848,-4.391018390655518,6.749016284942627,-8.095412254333496,4.802613735198975,-2.2416625022888184],[-7.941633701324463,-8.020697593688965,-5.973598480224609,12.381987571716309,-14.838801383972168,5.533833980560303,-16.29758071899414,-25.52709197998047,-11.304170608520508,-1.6735639572143555,4.108396053314209,13.615978240966797,7.269480228424072,11.131475448608398,8.41323184967041,5.5078935623168945,8.903946876525879,2.718061923980713,-22.419309616088867,10.897821426391602,-3.5928730964660645,7.973146915435791,13.2234525680542,14.980754852294922,6.505784034729004,-8.212379455566406,2.8004560470581055,55.18084716796875,-0.7360706329345703,2.338482141494751,-9.962181091308594,3.1116442680358887,12.492321968078613,9.078004837036133,6.448756694793701,11.232742309570312,-12.47541332244873,2.1283302307128906,-9.747098922729492,5.392348289489746,-9.956849098205566,-10.671808242797852,-14.614439010620117,-16.187915802001953,-16.17754364013672,-13.707979202270508,12.57590389251709,9.67721939086914,9.229681015014648,-18.817386627197266],[-11.516008377075195,-7.1484880447387695,-4.6423468589782715,7.242462158203125,-26.064510345458984,11.427847862243652,9.706459045410156,8.506253242492676,-13.306215286254883,16.77309799194336,8.288006782531738,-13.28594970703125,11.194174766540527,-16.209117889404297,-12.457590103149414,9.759897232055664,10.131782531738281,10.511754989624023,5.108346939086914,-8.671567916870117,3.7284884452819824,16.499614715576172,-10.700788497924805,13.718097686767578,5.9506144523620605,9.888174057006836,6.110587120056152,-1.4568023681640625,65.36492919921875,3.4889614582061768,-23.940614700317383,3.9650442600250244,-24.347789764404297,-13.165307998657227,-17.023935317993164,11.581466674804688,16.957653045654297,-20.726024627685547,-5.5041327476501465,10.320577621459961,-19.59796905517578,-13.71113395690918,-12.980720520019531,11.397104263305664,-11.24533748626709,9.856918334960938,-0.7372133731842041,15.966276168823242,10.82856273651123,-2.8042049407958984],[0.007091999053955078,-5.424260139465332,-11.894216537475586,-16.555112838745117,-34.569801330566406,-8.346538543701172,9.176763534545898,3.2375545501708984,-1.865060806274414,11.961166381835938,-1.2183902263641357,6.361222267150879,-24.402774810791016,-17.215816497802734,9.180734634399414,11.08826732635498,14.006202697753906,-5.137014865875244,-4.838838577270508,-2.8907437324523926,3.1508047580718994,3.05859375,0.018568217754364014,10.537424087524414,-5.643935203552246,12.15127944946289,1.2943322658538818,2.7382826805114746,7.446163654327393,53.57001495361328,-6.778498649597168,4.477670669555664,0.16364288330078125,2.7427024841308594,5.2197394371032715,2.0358972549438477,-24.927959442138672,5.129312038421631,-8.862565994262695,9.461542129516602,-6.870737552642822,4.742068767547607,-1.8079910278320312,2.180509090423584,-0.7319936752319336,-6.978991508483887,9.75897216796875,-26.737876892089844,10.850576400756836,-11.142117500305176],[-4.610918998718262,-5.6800312995910645,2.2598843574523926,4.635001182556152,2.235037326812744,-23.24543571472168,1.950315237045288,-18.19826316833496,15.883573532104492,-11.604560852050781,8.896464347839355,-15.208429336547852,-6.930024147033691,-2.629469394683838,13.84932804107666,0.4850715398788452,-8.92329216003418,-0.5954928398132324,10.85090160369873,11.371054649353027,-13.498842239379883,8.374916076660156,8.66231918334961,4.993894100189209,11.117046356201172,10.006135940551758,2.165706157684326,-11.073738098144531,-29.459754943847656,-3.9612231254577637,63.31289291381836,-5.700297832489014,5.3693695068359375,-8.312286376953125,13.075424194335938,-22.485889434814453,-22.615684509277344,1.3682146072387695,10.573662757873535,-1.3314669132232666,8.148395538330078,16.361936569213867,9.804926872253418,7.908565998077393,-0.5905916690826416,12.666606903076172,-5.3675994873046875,-5.741900444030762,-18.98073387145996,21.443679809570312],[0.9768557548522949,-6.669455051422119,-12.776540756225586,7.746554374694824,0.5226771831512451,-9.493887901306152,-4.571732044219971,-12.250527381896973,10.961929321289062,-12.66501235961914,1.7205324172973633,8.702168464660645,-5.817386627197266,-8.511920928955078,6.038312911987305,11.75430679321289,-10.771587371826172,-22.52077865600586,11.53375244140625,-7.077167510986328,-15.897125244140625,12.24760627746582,-34.861595153808594,6.104792594909668,-14.213205337524414,2.190873622894287,10.80804443359375,4.539630889892578,3.5876522064208984,-2.267503499984741,-3.2541961669921875,59.209510803222656,10.776844024658203,2.6894068717956543,7.4187846183776855,13.493592262268066,11.88685417175293,7.141579627990723,8.972454071044922,-4.394037246704102,12.854116439819336,11.612032890319824,-19.477325439453125,-4.734224319458008,9.18461799621582,9.842388153076172,0.10730651021003723,12.187469482421875,3.3505935668945312,-21.3405704498291],[-9.190690040588379,-2.0141983032226562,-6.462018966674805,8.961108207702637,14.019943237304688,14.247230529785156,1.2960538864135742,-18.022384643554688,5.009042739868164,-22.21514320373535,9.445898056030273,8.29420280456543,5.123591899871826,15.390565872192383,6.452653884887695,0.8315401077270508,-14.1346435546875,7.451578140258789,11.716145515441895,9.561473846435547,-1.987579107284546,10.084333419799805,-22.23249053955078,-0.8503859043121338,-1.1958061456680298,-25.261449813842773,-9.654309272766113,10.489901542663574,-29.26709747314453,0.6565525531768799,4.007838726043701,10.10864543914795,63.09880828857422,3.812288284301758,11.427289962768555,8.71055793762207,16.884937286376953,11.654926300048828,-9.666936874389648,-15.20699691772461,2.3173108100891113,-3.1119680404663086,14.555963516235352,2.3237714767456055,-24.517608642578125,-32.436561584472656,6.89327335357666,-20.757017135620117,13.258734703063965,-4.4819231033325195],[0.1699122190475464,-8.705636978149414,2.685518741607666,-4.931051254272461,1.0475280284881592,13.653556823730469,1.7573059797286987,-4.051252841949463,-15.491090774536133,-11.704718589782715,-17.505794525146484,12.451650619506836,12.457084655761719,-9.408306121826172,15.856301307678223,-16.47425079345703,-16.145633697509766,-11.064153671264648,15.972322463989258,4.0407795906066895,-20.505157470703125,8.564311027526855,1.4391775131225586,-15.997563362121582,10.02311897277832,-5.87941837310791,-16.954547882080078,15.966036796569824,-17.089580535888672,1.6467890739440918,-1.4394429922103882,7.785453796386719,2.690189838409424,62.88516616821289,-2.0240695476531982,5.037199020385742,-31.392539978027344,3.3631396293640137,9.833683967590332,14.54684066772461,12.950691223144531,13.063095092773438,10.447737693786621,-22.85451889038086,8.018370628356934,13.636001586914062,-8.293231010437012,6.453662872314453,7.050384521484375,-23.275535583496094],[-16.729305267333984,2.822378635406494,-0.702171802520752,1.701615333557129,-28.510143280029297,-37.26325607299805,-23.289344787597656,-22.36465072631836,20.680892944335938,-5.319522857666016,19.544830322265625,6.039750099182129,15.905569076538086,-0.2249751091003418,-3.649475574493408,13.26789379119873,13.816610336303711,8.628436088562012,15.830102920532227,-16.062244415283203,-2.0988082885742188,-0.9047183990478516,-10.718801498413086,-2.145753860473633,-12.310416221618652,19.101398468017578,-23.936561584472656,11.523722648620605,-15.25977897644043,4.836172580718994,10.49770450592041,9.516945838928223,12.158689498901367,0.6989374160766602,61.60383987426758,16.054677963256836,1.024996042251587,4.147218704223633,-7.161070346832275,-5.687730312347412,11.805110931396484,-2.292179822921753,6.29811954498291,8.037128448486328,9.084382057189941,-0.5640082359313965,-10.621637344360352,1.1641416549682617,-2.285735845565796,-14.265156745910645],[-10.297761917114258,-11.564359664916992,-28.580875396728516,2.3131048679351807,-20.04063606262207,2.4163453578948975,-17.402427673339844,13.708373069763184,-12.788415908813477,1.1530067920684814,8.032082557678223,2.941455841064453,5.182157039642334,16.253459930419922,12.701457977294922,-12.807226181030273,-0.7462482452392578,5.849898338317871,-15.093670845031738,12.005407333374023,-1.1904466152191162,-7.74496603012085,-33.17778778076172,14.560038566589355,-0.21496319770812988,4.2958879470825195,-14.648255348205566,12.391035079956055,9.599739074707031,-2.1651241779327393,-26.906715393066406,16.166343688964844,12.741464614868164,8.03679084777832,6.931127071380615,67.61380004882812,14.733640670776367,0.035925865173339844,17.111711502075195,8.17226791381836,-22.57862091064453,-12.860456466674805,5.568086624145508,5.786487579345703,6.344812393188477,1.8677254915237427,10.670246124267578,7.978934288024902,-11.771020889282227,5.783330917358398],[-11.65643310546875,2.2474586963653564,-5.792938709259033,-12.786393165588379,11.006128311157227,6.505487442016602,5.144773006439209,5.731947898864746,5.910364627838135,-20.532291412353516,14.82274341583252,-7.882857322692871,13.546856880187988,9.980874061584473,-25.730562210083008,11.281140327453613,13.906163215637207,13.110475540161133,-4.164580345153809,-11.380733489990234,17.874614715576172,8.699385643005371,-17.65313720703125,-7.285183429718018,7.606062412261963,-4.5636115074157715,-2.2256851196289062,-14.037107467651367,15.694303512573242,-18.43280029296875,-21.612031936645508,6.636745452880859,15.075675010681152,-23.559844970703125,2.0346765518188477,14.652100563049316,70.16544342041016,-0.07537984848022461,4.187493324279785,-16.22216796875,7.512045860290527,-12.95503044128418,4.399786949157715,4.871504783630371,5.966318130493164,-22.547224044799805,4.694723129272461,1.5859670639038086,4.607142448425293,-5.682999134063721],[-7.423489093780518,1.375788688659668,1.2128653526306152,-0.9510544538497925,-4.775454521179199,0.9740172624588013,10.439678192138672,15.482098579406738,6.6071367263793945,13.64773178100586,-1.2441850900650024,9.020036697387695,3.3495681285858154,-7.307703971862793,-8.19110107421875,-22.209388732910156,1.175140380859375,-13.381240844726562,0.3140130043029785,15.751678466796875,-6.465500831604004,12.507633209228516,-5.820489883422852,-16.73194122314453,-37.069580078125,-13.33030891418457,6.18428897857666,-4.25739860534668,-18.03746795654297,6.320036888122559,-1.4098973274230957,9.220245361328125,12.334578514099121,5.119527816772461,-2.181518077850342,9.297466278076172,0.3795812129974365,62.36152648925781,1.5905400514602661,3.981377601623535,8.263063430786133,-9.190385818481445,-5.868354797363281,-15.060882568359375,9.688314437866211,-3.6005778312683105,16.885522842407227,-28.430953979492188,-26.979217529296875,-15.046356201171875],[-0.7169537544250488,-9.91466236114502,-13.186328887939453,-7.7861433029174805,9.2180814743042,11.022854804992676,-8.531370162963867,6.902507781982422,7.573480129241943,-20.464223861694336,-22.36079978942871,-34.43794631958008,-7.431307792663574,-11.00545597076416,11.578404426574707,2.1391615867614746,3.1008596420288086,7.4089202880859375,-5.016937255859375,-3.7156710624694824,-1.3652846813201904,6.076923370361328,-9.075606346130371,6.474140644073486,5.234430313110352,-4.330758571624756,3.2296621799468994,-13.71442985534668,-7.654734134674072,-9.618831634521484,2.9619007110595703,11.044235229492188,-13.316025733947754,9.436222076416016,-7.002575874328613,13.989618301391602,2.312802314758301,-1.411444067955017,56.475189208984375,9.556778907775879,0.6550190448760986,12.998852729797363,8.736674308776855,-7.630025386810303,14.547715187072754,6.548789024353027,4.393044471740723,9.730846405029297,-18.87202262878418,10.419090270996094],[-0.5020896792411804,-7.778207778930664,3.0513296127319336,-2.4560136795043945,-32.41149139404297,-10.356487274169922,11.879247665405273,-15.899591445922852,-1.5327916145324707,9.884574890136719,-6.769188404083252,-16.106569290161133,-17.252803802490234,-4.733826637268066,16.970855712890625,-3.619264602661133,11.102429389953613,3.323707342147827,7.501374244689941,13.081985473632812,-10.946998596191406,-11.481396675109863,-2.0852530002593994,-23.782119750976562,-4.779131889343262,4.752831935882568,12.528676986694336,3.180083990097046,11.096359252929688,11.902811050415039,-2.9216437339782715,-3.3354105949401855,-11.298261642456055,15.938847541809082,-3.952152967453003,13.79146671295166,-16.009815216064453,12.805398941040039,13.117633819580078,63.31280517578125,-26.239501953125,-2.4454851150512695,12.666337966918945,-6.921598434448242,14.497976303100586,-7.728084564208984,12.483537673950195,3.161414623260498,-3.8966023921966553,7.366802215576172],[-8.261981964111328,1.3590433597564697,1.4355003833770752,-24.749679565429688,6.220541477203369,-4.807204246520996,-7.319696426391602,5.167317867279053,16.52811050415039,-1.7091481685638428,6.5254106521606445,16.84922981262207,14.243071556091309,-6.543853282928467,-10.356485366821289,-7.888190269470215,-0.5398256778717041,-16.71695899963379,16.345176696777344,-29.98226547241211,-6.733667850494385,8.346821784973145,12.122939109802246,-4.358340263366699,-3.3835020065307617,9.86941909790039,-24.739593505859375,-8.767574310302734,-18.600757598876953,-9.248575210571289,8.19665241241455,10.862325668334961,-5.452517032623291,9.603253364562988,11.953601837158203,-20.615562438964844,3.41262149810791,5.537428855895996,1.0492968559265137,-24.306110382080078,64.41818237304688,16.841890335083008,13.98667049407959,-24.042285919189453,10.980083465576172,0.8245539665222168,-8.057208061218262,14.012832641601562,2.8139843940734863,-11.401920318603516],[-2.544562816619873,-6.478963851928711,-8.948637962341309,1.6881170272827148,10.5716552734375,-12.820005416870117,-28.37962532043457,-0.7468477487564087,15.51988697052002,-3.369810104370117,12.7525634765625,-10.170165061950684,-21.17770767211914,2.673405647277832,-9.114136695861816,-1.7375926971435547,-20.666481018066406,-2.025501251220703,3.088942527770996,-2.687964916229248,11.37450122833252,-1.5243778228759766,15.886301040649414,8.10986614227295,-16.481515884399414,14.513224601745605,8.023319244384766,-7.155004501342773,-9.711335182189941,2.9325637817382812,13.655519485473633,11.519103050231934,-13.420583724975586,7.981496810913086,-3.4842476844787598,-16.044885635375977,-12.504801750183105,-13.334600448608398,17.80679702758789,-2.162017345428467,14.578614234924316,61.73749542236328,16.541383743286133,-16.011539459228516,7.042435169219971,12.540669441223145,8.954188346862793,6.5923051834106445,14.30540657043457,0.9405550956726074],[-21.06541633605957,-13.098756790161133,-15.225496292114258,-20.164714813232422,2.529974937438965,-0.9825892448425293,1.9558093547821045,10.94106388092041,8.828641891479492,1.0080227851867676,8.412479400634766,-4.747429847717285,12.719950675964355,3.610001564025879,2.9873263835906982,-11.76598072052002,-6.648344039916992,14.790045738220215,8.709949493408203,4.030482292175293,13.477721214294434,-23.707088470458984,8.110394477844238,-3.904102325439453,8.246140480041504,6.738087177276611,-22.060895919799805,-20.457550048828125,-6.81211519241333,-1.7264225482940674,3.678497314453125,-19.840351104736328,5.612109661102295,5.788015365600586,5.092619895935059,5.350076675415039,5.870550155639648,-6.171122074127197,13.412357330322266,10.590873718261719,10.382278442382812,12.907352447509766,58.58361053466797,9.580987930297852,9.842830657958984,-18.780872344970703,5.40158224105835,4.02103328704834,6.9874420166015625,17.00523567199707],[-15.230941772460938,-1.9229037761688232,2.3650827407836914,10.044797897338867,11.533544540405273,-5.006985664367676,11.412670135498047,7.709918022155762,10.459457397460938,1.6269395351409912,-10.072652816772461,8.173198699951172,8.432409286499023,2.039367198944092,12.382177352905273,15.465248107910156,-15.7408447265625,2.316291093826294,9.256998062133789,5.91734504699707,7.280093193054199,-20.882654190063477,-14.20164966583252,12.863712310791016,3.738612174987793,10.23928165435791,-1.8423359394073486,-21.362762451171875,8.06680965423584,6.8932952880859375,7.671567440032959,-1.6412734985351562,9.967390060424805,-22.169300079345703,16.337135314941406,8.260272979736328,1.4543346166610718,-12.80920124053955,-11.301041603088379,-11.3609037399292,-18.792236328125,-17.571496963500977,7.205268383026123,62.463050842285156,-6.729698657989502,10.95598030090332,-24.056730270385742,-10.596758842468262,-7.902989864349365,13.344009399414062],[2.2274675369262695,-1.6709113121032715,-0.4958019256591797,-33.76908493041992,4.494541645050049,-25.684558868408203,7.800778388977051,5.9452619552612305,4.242101669311523,-12.206319808959961,6.256940841674805,16.72572135925293,8.685944557189941,-13.221187591552734,-8.803054809570312,2.0563805103302,-0.6782116889953613,-15.691117286682129,-17.659637451171875,15.027759552001953,14.737704277038574,-21.6981258392334,2.1561954021453857,-20.12567901611328,16.137903213500977,6.546216011047363,-11.700035095214844,-13.039806365966797,-10.309555053710938,0.7793874740600586,1.942518949508667,7.562500476837158,-15.640785217285156,16.977928161621094,6.413092136383057,12.532112121582031,5.177874565124512,11.498878479003906,12.723913192749023,9.874746322631836,10.441448211669922,6.690539360046387,10.115788459777832,-1.3609390258789062,66.90754699707031,18.539043426513672,-3.827507495880127,5.084136009216309,-23.189125061035156,-8.610309600830078],[-5.147912979125977,-1.141845703125,4.553385257720947,15.102804183959961,7.784402847290039,-10.35465145111084,-5.614223480224609,12.251420021057129,2.0089828968048096,12.976122856140137,-4.262297630310059,5.725333213806152,16.20232391357422,-21.1895751953125,-2.2150344848632812,-0.6815242767333984,-23.687074661254883,-15.555217742919922,14.246783256530762,2.5055880546569824,-1.8357957601547241,11.527348518371582,-1.3243141174316406,12.225024223327637,-11.1553373336792,14.440986633300781,-2.714951276779175,-7.690828323364258,9.17866039276123,-4.796161651611328,16.39139175415039,10.916976928710938,-33.556583404541016,17.730117797851562,1.7224864959716797,0.8881869316101074,-30.191043853759766,-7.877106666564941,2.404649257659912,-11.130659103393555,0.2703971862792969,13.06552505493164,-22.646530151367188,13.099617958068848,16.910255432128906,72.35966491699219,-28.20588493347168,8.185348510742188,-29.679819107055664,-5.121691703796387],[3.3593478202819824,-12.949629783630371,-16.487834930419922,-3.1182689666748047,-5.6456427574157715,-6.211902618408203,13.15452766418457,1.213770866394043,-22.910154342651367,8.968632698059082,15.804515838623047,-0.1464223861694336,-23.28121566772461,-4.152477264404297,-5.4679718017578125,7.238912105560303,4.844555854797363,-13.03935432434082,-23.175813674926758,2.020504951477051,15.351048469543457,3.772104024887085,2.11869478225708,12.972810745239258,-12.441765785217285,-23.91012191772461,8.761404037475586,14.58382797241211,10.744400024414062,1.0878400802612305,-10.051226615905762,4.016543388366699,-1.9245214462280273,-15.912891387939453,-18.88679313659668,10.421670913696289,10.824220657348633,9.114410400390625,11.639688491821289,11.157815933227539,-10.102728843688965,9.558928489685059,0.7292308807373047,-25.18062973022461,-0.49152421951293945,-22.404220581054688,61.2080078125,10.568199157714844,6.01468563079834,15.189739227294922],[-14.37429141998291,-9.316635131835938,-5.900405406951904,5.819884777069092,4.5774431228637695,-3.134509801864624,-11.394248008728027,-15.779459953308105,3.8903560638427734,4.4962358474731445,8.032096862792969,9.930621147155762,9.00821304321289,3.519528865814209,14.045180320739746,8.855390548706055,-0.9905685186386108,-10.04106616973877,4.742865562438965,-25.152118682861328,-6.900755882263184,-16.132801055908203,1.120241641998291,11.435190200805664,11.30787467956543,12.648725509643555,-6.670928001403809,10.923575401306152,13.637558937072754,-30.241046905517578,-3.353602409362793,11.211146354675293,-22.409709930419922,1.8332405090332031,7.245609283447266,4.575440406799316,0.6839308738708496,-32.715763092041016,9.915464401245117,2.1471033096313477,15.385422706604004,5.826512336730957,5.909823417663574,-3.8977231979370117,8.924054145812988,10.757852554321289,-4.541513442993164,61.41811752319336,10.44749641418457,10.954238891601562],[-1.8217787742614746,-5.114210605621338,2.549830675125122,2.1866230964660645,-0.7201734781265259,14.255062103271484,-1.9125876426696777,-4.927021026611328,-11.448575019836426,-7.000482559204102,-0.7067079544067383,2.666048765182495,-19.73776626586914,9.244811058044434,0.719642162322998,9.024600982666016,0.46727705001831055,6.161606788635254,3.7048802375793457,-18.441041946411133,3.5103015899658203,1.169546127319336,5.64332914352417,7.5896806716918945,9.428759574890137,2.0247316360473633,10.146780967712402,10.07264232635498,12.420397758483887,11.158132553100586,-19.190553665161133,2.7759227752685547,9.966108322143555,-0.23576998710632324,-6.419051647186279,-20.49535369873047,9.12802791595459,-24.740333557128906,-14.327425956726074,-3.747973918914795,4.253815174102783,13.111401557922363,8.701739311218262,-7.773077011108398,-26.594392776489258,-36.406646728515625,10.769052505493164,8.09249496459961,60.18431091308594,-9.623397827148438],[5.838808536529541,-7.849559783935547,-5.990496635437012,13.058588027954102,8.82602596282959,10.7823486328125,5.357205390930176,13.827573776245117,6.685558319091797,13.002449035644531,1.84739089012146,-25.41516876220703,-18.750381469726562,19.08686065673828,12.221749305725098,-5.173928737640381,-10.981578826904297,6.873149871826172,-1.9589507579803467,-1.7453597784042358,-3.4882607460021973,-20.16794204711914,-5.72879695892334,17.560832977294922,-3.1524834632873535,-10.81885814666748,-8.660888671875,-24.271121978759766,-5.623887538909912,-12.188562393188477,15.095572471618652,-21.64409637451172,3.5927634239196777,-28.666507720947266,-12.825132369995117,8.057962417602539,-3.3470139503479004,-15.562557220458984,14.434704780578613,4.160207748413086,-15.882227897644043,-3.187229633331299,19.14919662475586,16.674245834350586,-15.527027130126953,-4.9695353507995605,12.235292434692383,5.744401454925537,-12.38919448852539,65.32881164550781],[2.086029052734375,-1.648187518119812,-16.377214431762695,-0.665985643863678,-3.0939955711364746,7.769958972930908,8.826070785522461,-0.18764400482177734,-1.141353726387024,2.1890549659729004,-0.2591785192489624,-7.199283599853516,-1.8956959247589111,-2.9978623390197754,2.823180913925171,7.337536811828613,7.631061553955078,2.13053297996521,-5.911086559295654,-1.3780615329742432,-2.159978151321411,-3.2305707931518555,-6.141396522521973,5.541651725769043,2.7636446952819824,-3.4621825218200684,2.598703145980835,-1.5933032035827637,15.903328895568848,5.550069808959961,-10.692143440246582,4.084824562072754,-1.3704413175582886,-6.048703193664551,-10.4923095703125,5.55931282043457,5.4376912117004395,-9.777568817138672,4.040252685546875,5.730703830718994,-11.619590759277344,-2.644686698913574,0.27585792541503906,2.0724806785583496,-4.051538467407227,-7.042040824890137,6.421786308288574,2.1105618476867676,4.671083450317383,2.8370871543884277],[5.1911773681640625,-5.535367488861084,-14.539674758911133,8.480877876281738,-1.907988429069519,1.3757630586624146,-9.814250946044922,-9.084869384765625,2.808525800704956,-5.857309341430664,-0.41714292764663696,-16.760112762451172,-6.312894344329834,5.054073810577393,6.674295425415039,3.4701194763183594,1.8662896156311035,8.224172592163086,-8.024601936340332,5.566911697387695,-5.394081115722656,1.0229520797729492,2.1529765129089355,12.783514022827148,3.91182804107666,-0.27389347553253174,7.304172515869141,8.263684272766113,3.0415759086608887,-3.842679500579834,6.202510356903076,3.7566018104553223,-0.9294255375862122,-6.194866180419922,-5.149928569793701,2.384190082550049,-4.016505718231201,-11.365982055664062,14.262218475341797,7.192808628082275,-10.724849700927734,8.647590637207031,1.2284228801727295,-3.223921298980713,-11.373735427856445,-4.791434288024902,7.02229118347168,6.412979602813721,0.5410445928573608,8.68327808380127],[0.5342553853988647,6.009941101074219,5.936675548553467,1.8552082777023315,1.3708186149597168,1.5307248830795288,-1.6709095239639282,5.67807149887085,-2.545243740081787,-0.5564320683479309,-2.069570541381836,-0.1948350965976715,-0.014743506908416748,4.720180511474609,-7.294264316558838,-2.6285345554351807,1.3908064365386963,2.0991296768188477,-1.4323283433914185,-1.9917387962341309,1.7039999961853027,-0.579623281955719,0.6075255274772644,-6.170550346374512,-3.4733903408050537,0.3522792160511017,1.4742212295532227,-1.3469481468200684,1.753844976425171,-2.8312807083129883,-8.91786003112793,-2.9350013732910156,-2.529712200164795,1.4620370864868164,-0.10376475751399994,0.824115514755249,7.584968566894531,1.136372685432434,-3.8949904441833496,-1.0982589721679688,-1.5603951215744019,-2.3141002655029297,-3.5780038833618164,-1.8402705192565918,1.5870757102966309,-1.1177029609680176,-1.2829647064208984,-1.3477513790130615,3.7574217319488525,-3.800602436065674]],\"type\":\"heatmap\",\"xaxis\":\"x\",\"yaxis\":\"y\",\"hovertemplate\":\"logit: %{x}\\u003cbr\\u003esrc token: %{y}\\u003cbr\\u003ecolor: %{z}\\u003cextra\\u003e\\u003c\\u002fextra\\u003e\"}],                        {\"template\":{\"data\":{\"histogram2dcontour\":[{\"type\":\"histogram2dcontour\",\"colorbar\":{\"outlinewidth\":0,\"ticks\":\"\"},\"colorscale\":[[0.0,\"#0d0887\"],[0.1111111111111111,\"#46039f\"],[0.2222222222222222,\"#7201a8\"],[0.3333333333333333,\"#9c179e\"],[0.4444444444444444,\"#bd3786\"],[0.5555555555555556,\"#d8576b\"],[0.6666666666666666,\"#ed7953\"],[0.7777777777777778,\"#fb9f3a\"],[0.8888888888888888,\"#fdca26\"],[1.0,\"#f0f921\"]]}],\"choropleth\":[{\"type\":\"choropleth\",\"colorbar\":{\"outlinewidth\":0,\"ticks\":\"\"}}],\"histogram2d\":[{\"type\":\"histogram2d\",\"colorbar\":{\"outlinewidth\":0,\"ticks\":\"\"},\"colorscale\":[[0.0,\"#0d0887\"],[0.1111111111111111,\"#46039f\"],[0.2222222222222222,\"#7201a8\"],[0.3333333333333333,\"#9c179e\"],[0.4444444444444444,\"#bd3786\"],[0.5555555555555556,\"#d8576b\"],[0.6666666666666666,\"#ed7953\"],[0.7777777777777778,\"#fb9f3a\"],[0.8888888888888888,\"#fdca26\"],[1.0,\"#f0f921\"]]}],\"heatmap\":[{\"type\":\"heatmap\",\"colorbar\":{\"outlinewidth\":0,\"ticks\":\"\"},\"colorscale\":[[0.0,\"#0d0887\"],[0.1111111111111111,\"#46039f\"],[0.2222222222222222,\"#7201a8\"],[0.3333333333333333,\"#9c179e\"],[0.4444444444444444,\"#bd3786\"],[0.5555555555555556,\"#d8576b\"],[0.6666666666666666,\"#ed7953\"],[0.7777777777777778,\"#fb9f3a\"],[0.8888888888888888,\"#fdca26\"],[1.0,\"#f0f921\"]]}],\"heatmapgl\":[{\"type\":\"heatmapgl\",\"colorbar\":{\"outlinewidth\":0,\"ticks\":\"\"},\"colorscale\":[[0.0,\"#0d0887\"],[0.1111111111111111,\"#46039f\"],[0.2222222222222222,\"#7201a8\"],[0.3333333333333333,\"#9c179e\"],[0.4444444444444444,\"#bd3786\"],[0.5555555555555556,\"#d8576b\"],[0.6666666666666666,\"#ed7953\"],[0.7777777777777778,\"#fb9f3a\"],[0.8888888888888888,\"#fdca26\"],[1.0,\"#f0f921\"]]}],\"contourcarpet\":[{\"type\":\"contourcarpet\",\"colorbar\":{\"outlinewidth\":0,\"ticks\":\"\"}}],\"contour\":[{\"type\":\"contour\",\"colorbar\":{\"outlinewidth\":0,\"ticks\":\"\"},\"colorscale\":[[0.0,\"#0d0887\"],[0.1111111111111111,\"#46039f\"],[0.2222222222222222,\"#7201a8\"],[0.3333333333333333,\"#9c179e\"],[0.4444444444444444,\"#bd3786\"],[0.5555555555555556,\"#d8576b\"],[0.6666666666666666,\"#ed7953\"],[0.7777777777777778,\"#fb9f3a\"],[0.8888888888888888,\"#fdca26\"],[1.0,\"#f0f921\"]]}],\"surface\":[{\"type\":\"surface\",\"colorbar\":{\"outlinewidth\":0,\"ticks\":\"\"},\"colorscale\":[[0.0,\"#0d0887\"],[0.1111111111111111,\"#46039f\"],[0.2222222222222222,\"#7201a8\"],[0.3333333333333333,\"#9c179e\"],[0.4444444444444444,\"#bd3786\"],[0.5555555555555556,\"#d8576b\"],[0.6666666666666666,\"#ed7953\"],[0.7777777777777778,\"#fb9f3a\"],[0.8888888888888888,\"#fdca26\"],[1.0,\"#f0f921\"]]}],\"mesh3d\":[{\"type\":\"mesh3d\",\"colorbar\":{\"outlinewidth\":0,\"ticks\":\"\"}}],\"scatter\":[{\"fillpattern\":{\"fillmode\":\"overlay\",\"size\":10,\"solidity\":0.2},\"type\":\"scatter\"}],\"parcoords\":[{\"type\":\"parcoords\",\"line\":{\"colorbar\":{\"outlinewidth\":0,\"ticks\":\"\"}}}],\"scatterpolargl\":[{\"type\":\"scatterpolargl\",\"marker\":{\"colorbar\":{\"outlinewidth\":0,\"ticks\":\"\"}}}],\"bar\":[{\"error_x\":{\"color\":\"#2a3f5f\"},\"error_y\":{\"color\":\"#2a3f5f\"},\"marker\":{\"line\":{\"color\":\"#E5ECF6\",\"width\":0.5},\"pattern\":{\"fillmode\":\"overlay\",\"size\":10,\"solidity\":0.2}},\"type\":\"bar\"}],\"scattergeo\":[{\"type\":\"scattergeo\",\"marker\":{\"colorbar\":{\"outlinewidth\":0,\"ticks\":\"\"}}}],\"scatterpolar\":[{\"type\":\"scatterpolar\",\"marker\":{\"colorbar\":{\"outlinewidth\":0,\"ticks\":\"\"}}}],\"histogram\":[{\"marker\":{\"pattern\":{\"fillmode\":\"overlay\",\"size\":10,\"solidity\":0.2}},\"type\":\"histogram\"}],\"scattergl\":[{\"type\":\"scattergl\",\"marker\":{\"colorbar\":{\"outlinewidth\":0,\"ticks\":\"\"}}}],\"scatter3d\":[{\"type\":\"scatter3d\",\"line\":{\"colorbar\":{\"outlinewidth\":0,\"ticks\":\"\"}},\"marker\":{\"colorbar\":{\"outlinewidth\":0,\"ticks\":\"\"}}}],\"scattermapbox\":[{\"type\":\"scattermapbox\",\"marker\":{\"colorbar\":{\"outlinewidth\":0,\"ticks\":\"\"}}}],\"scatterternary\":[{\"type\":\"scatterternary\",\"marker\":{\"colorbar\":{\"outlinewidth\":0,\"ticks\":\"\"}}}],\"scattercarpet\":[{\"type\":\"scattercarpet\",\"marker\":{\"colorbar\":{\"outlinewidth\":0,\"ticks\":\"\"}}}],\"carpet\":[{\"aaxis\":{\"endlinecolor\":\"#2a3f5f\",\"gridcolor\":\"white\",\"linecolor\":\"white\",\"minorgridcolor\":\"white\",\"startlinecolor\":\"#2a3f5f\"},\"baxis\":{\"endlinecolor\":\"#2a3f5f\",\"gridcolor\":\"white\",\"linecolor\":\"white\",\"minorgridcolor\":\"white\",\"startlinecolor\":\"#2a3f5f\"},\"type\":\"carpet\"}],\"table\":[{\"cells\":{\"fill\":{\"color\":\"#EBF0F8\"},\"line\":{\"color\":\"white\"}},\"header\":{\"fill\":{\"color\":\"#C8D4E3\"},\"line\":{\"color\":\"white\"}},\"type\":\"table\"}],\"barpolar\":[{\"marker\":{\"line\":{\"color\":\"#E5ECF6\",\"width\":0.5},\"pattern\":{\"fillmode\":\"overlay\",\"size\":10,\"solidity\":0.2}},\"type\":\"barpolar\"}],\"pie\":[{\"automargin\":true,\"type\":\"pie\"}]},\"layout\":{\"autotypenumbers\":\"strict\",\"colorway\":[\"#636efa\",\"#EF553B\",\"#00cc96\",\"#ab63fa\",\"#FFA15A\",\"#19d3f3\",\"#FF6692\",\"#B6E880\",\"#FF97FF\",\"#FECB52\"],\"font\":{\"color\":\"#2a3f5f\"},\"hovermode\":\"closest\",\"hoverlabel\":{\"align\":\"left\"},\"paper_bgcolor\":\"white\",\"plot_bgcolor\":\"#E5ECF6\",\"polar\":{\"bgcolor\":\"#E5ECF6\",\"angularaxis\":{\"gridcolor\":\"white\",\"linecolor\":\"white\",\"ticks\":\"\"},\"radialaxis\":{\"gridcolor\":\"white\",\"linecolor\":\"white\",\"ticks\":\"\"}},\"ternary\":{\"bgcolor\":\"#E5ECF6\",\"aaxis\":{\"gridcolor\":\"white\",\"linecolor\":\"white\",\"ticks\":\"\"},\"baxis\":{\"gridcolor\":\"white\",\"linecolor\":\"white\",\"ticks\":\"\"},\"caxis\":{\"gridcolor\":\"white\",\"linecolor\":\"white\",\"ticks\":\"\"}},\"coloraxis\":{\"colorbar\":{\"outlinewidth\":0,\"ticks\":\"\"}},\"colorscale\":{\"sequential\":[[0.0,\"#0d0887\"],[0.1111111111111111,\"#46039f\"],[0.2222222222222222,\"#7201a8\"],[0.3333333333333333,\"#9c179e\"],[0.4444444444444444,\"#bd3786\"],[0.5555555555555556,\"#d8576b\"],[0.6666666666666666,\"#ed7953\"],[0.7777777777777778,\"#fb9f3a\"],[0.8888888888888888,\"#fdca26\"],[1.0,\"#f0f921\"]],\"sequentialminus\":[[0.0,\"#0d0887\"],[0.1111111111111111,\"#46039f\"],[0.2222222222222222,\"#7201a8\"],[0.3333333333333333,\"#9c179e\"],[0.4444444444444444,\"#bd3786\"],[0.5555555555555556,\"#d8576b\"],[0.6666666666666666,\"#ed7953\"],[0.7777777777777778,\"#fb9f3a\"],[0.8888888888888888,\"#fdca26\"],[1.0,\"#f0f921\"]],\"diverging\":[[0,\"#8e0152\"],[0.1,\"#c51b7d\"],[0.2,\"#de77ae\"],[0.3,\"#f1b6da\"],[0.4,\"#fde0ef\"],[0.5,\"#f7f7f7\"],[0.6,\"#e6f5d0\"],[0.7,\"#b8e186\"],[0.8,\"#7fbc41\"],[0.9,\"#4d9221\"],[1,\"#276419\"]]},\"xaxis\":{\"gridcolor\":\"white\",\"linecolor\":\"white\",\"ticks\":\"\",\"title\":{\"standoff\":15},\"zerolinecolor\":\"white\",\"automargin\":true,\"zerolinewidth\":2},\"yaxis\":{\"gridcolor\":\"white\",\"linecolor\":\"white\",\"ticks\":\"\",\"title\":{\"standoff\":15},\"zerolinecolor\":\"white\",\"automargin\":true,\"zerolinewidth\":2},\"scene\":{\"xaxis\":{\"backgroundcolor\":\"#E5ECF6\",\"gridcolor\":\"white\",\"linecolor\":\"white\",\"showbackground\":true,\"ticks\":\"\",\"zerolinecolor\":\"white\",\"gridwidth\":2},\"yaxis\":{\"backgroundcolor\":\"#E5ECF6\",\"gridcolor\":\"white\",\"linecolor\":\"white\",\"showbackground\":true,\"ticks\":\"\",\"zerolinecolor\":\"white\",\"gridwidth\":2},\"zaxis\":{\"backgroundcolor\":\"#E5ECF6\",\"gridcolor\":\"white\",\"linecolor\":\"white\",\"showbackground\":true,\"ticks\":\"\",\"zerolinecolor\":\"white\",\"gridwidth\":2}},\"shapedefaults\":{\"line\":{\"color\":\"#2a3f5f\"}},\"annotationdefaults\":{\"arrowcolor\":\"#2a3f5f\",\"arrowhead\":0,\"arrowwidth\":1},\"geo\":{\"bgcolor\":\"white\",\"landcolor\":\"#E5ECF6\",\"subunitcolor\":\"white\",\"showland\":true,\"showlakes\":true,\"lakecolor\":\"white\"},\"title\":{\"x\":0.05},\"mapbox\":{\"style\":\"light\"}}},\"xaxis\":{\"anchor\":\"y\",\"domain\":[0.0,1.0],\"scaleanchor\":\"y\",\"constrain\":\"domain\",\"title\":{\"text\":\"logit\"}},\"yaxis\":{\"anchor\":\"x\",\"domain\":[0.0,1.0],\"autorange\":\"reversed\",\"constrain\":\"domain\",\"title\":{\"text\":\"src token\"}},\"coloraxis\":{\"colorscale\":[[0.0,\"rgb(103,0,31)\"],[0.1,\"rgb(178,24,43)\"],[0.2,\"rgb(214,96,77)\"],[0.3,\"rgb(244,165,130)\"],[0.4,\"rgb(253,219,199)\"],[0.5,\"rgb(247,247,247)\"],[0.6,\"rgb(209,229,240)\"],[0.7,\"rgb(146,197,222)\"],[0.8,\"rgb(67,147,195)\"],[0.9,\"rgb(33,102,172)\"],[1.0,\"rgb(5,48,97)\"]],\"cmid\":0.0},\"title\":{\"text\":\"Virtual OV circuit: W_E @ W_OV^0.0 @ W_OV^1.0 @ W_U\"}},                        {\"responsive\": true}                    ).then(function(){\n",
              "                            \n",
              "var gd = document.getElementById('08882a23-b553-4635-a887-f3d9cd838f0e');\n",
              "var x = new MutationObserver(function (mutations, observer) {{\n",
              "        var display = window.getComputedStyle(gd).display;\n",
              "        if (!display || display === 'none') {{\n",
              "            console.log([gd, 'removed!']);\n",
              "            Plotly.purge(gd);\n",
              "            observer.disconnect();\n",
              "        }}\n",
              "}});\n",
              "\n",
              "// Listen for the removal of the full notebook cells\n",
              "var notebookContainer = gd.closest('#notebook-container');\n",
              "if (notebookContainer) {{\n",
              "    x.observe(notebookContainer, {childList: true});\n",
              "}}\n",
              "\n",
              "// Listen for the clearing of the current output cell\n",
              "var outputEl = gd.closest('.output');\n",
              "if (outputEl) {{\n",
              "    x.observe(outputEl, {childList: true});\n",
              "}}\n",
              "\n",
              "                        })                };                            </script>        </div>\n",
              "</body>\n",
              "</html>"
            ]
          },
          "metadata": {}
        }
      ]
    },
    {
      "cell_type": "code",
      "source": [
        "top_1_acc = (virtual_OV_circuit[:MAX_INT].argmax(dim=-1) == torch.arange(MAX_INT, device=device)).float().mean()\n",
        "print(f\"Fraction of time top logit is on diagonal:\", top_1_acc.item())"
      ],
      "metadata": {
        "colab": {
          "base_uri": "https://localhost:8080/"
        },
        "id": "5CN6pjhMSJWF",
        "outputId": "5df0bb95-b81a-4b2f-98c2-c378349c81b1"
      },
      "execution_count": 39,
      "outputs": [
        {
          "output_type": "stream",
          "name": "stdout",
          "text": [
            "Fraction of time top logit is on diagonal: 1.0\n"
          ]
        }
      ]
    },
    {
      "cell_type": "markdown",
      "source": [
        "Notice the strong main diagonal, indicating clear copying. When combined with the observation that the virtual attention patterns attend to the correct token, this confirms the V-composition that we hypothesized: Heads 0.0 and 1.0 compose to attend to and then copy each list token information to its correct prediction position.\n",
        "\n",
        "\n",
        "This completes a pretty healthy collection of evidence showing how the model uses V-composition to solve this task:\n",
        "\n",
        "* Head 1.0 has the largest direct effect on the logits (DLA)\n",
        "    * In particular, decomposing 1.0s output into sub terms and applying more refined DLA shows that the \"virtual attn head term\" $A^{1.0}A^{0.0}eW_{OV}^{0.0}W_{OV}^{1.0}$ dominates\n",
        "* The average of all 1.0 attn patterns showed the prediction positions (END, ans_0, ans_1) always attend to the permutation index positions (idx_0, idx_1, idx_2) respectively.\n",
        "    * 1.0 $W_{pos}W_{QK}W_{pos}^T$ QK circuit component shows clear diagonal stripe where prediction positions (END, ans_0, ans_1) give the highest scores to positions (idx_0, idx_1, idx_2) respectively.\n",
        "* Every 0.0 pattern we checked shows that permutation tokens (0, 1, 2) always attend to list positions (a_0, a_1, a_2)respectively.\n",
        "    * 0.0 full QK circuit shows clear diagonal stripe where tokens (0, 1, 2) give the highest attn scores to positions corresponding to (a_0, a_1, a_2) respectively.\n",
        "* In every example we checked, the virtual attn pattern $A^{1.0}A^{0.0}$ showed that the prediction positions effectively attended to the correct list token\n",
        "    * **The virtual OV circuit $W_EW_{OV}^{0.0}W_{OV}^{1.0}W_U$ shows clear copying (100% top 1 logit on diagonal).**"
      ],
      "metadata": {
        "id": "MA3QPFSoShEE"
      }
    },
    {
      "cell_type": "markdown",
      "source": [
        "# Summary"
      ],
      "metadata": {
        "id": "nlbwCC00SpOk"
      }
    },
    {
      "cell_type": "markdown",
      "source": [
        "We found that a 2L, 1H, attn only transformer with no biases or LN can learn to permute lists by leveraging V-composition:\n",
        "\n",
        "\n",
        "1. attn 0.0 moves answer information from list indices to corresponding perm positions.\n",
        "2. attn 1.0 routes the same information from perm positions to the prediction positions.\n",
        "\n",
        "\n",
        "The lines of evidence we used are:\n",
        "\n",
        "\n",
        "1. Direct logit attribution: we found the last attn layer had the greatest direct effect on the logits by far (specifically the term corresponding to the virtual attn head).\n",
        "2. 1.0 attn patterns showed that the prediction positions empirically attended to fixed perm positions, and the QK circuit weights explained this.\n",
        "3. 0.0 attn patterns showed that the perm token i attended to corresponding list positions i+1, and the QK circuit weights explained this.\n",
        "4. The virtual attn pattern $A^{1.0}A^{0.0}$ showed that the prediction positions effectively attended to the correct list token for the examples we checked.\n",
        "5. The virtual OV circuit $W_EW_{OV}^{0.0}W_{OV}^{1.0}W_U$ showed clear copying (100% top 1 logit on diagonal)."
      ],
      "metadata": {
        "id": "Ckj5w6MwSqK8"
      }
    },
    {
      "cell_type": "markdown",
      "source": [
        "## General techniques you can apply to other problems"
      ],
      "metadata": {
        "id": "_Etyj3-9TzaJ"
      }
    },
    {
      "cell_type": "markdown",
      "source": [
        "* Direct logit attribution\n",
        "* Staring at attn patterns\n",
        "* Decomposing activations into a sum of terms, and analyzing their importance\n",
        "* Multiplying out QK / OV circuits"
      ],
      "metadata": {
        "id": "ROm63eRnT1qO"
      }
    }
  ]
}