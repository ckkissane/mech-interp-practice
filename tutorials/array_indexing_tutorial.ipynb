{
  "nbformat": 4,
  "nbformat_minor": 0,
  "metadata": {
    "colab": {
      "provenance": [],
      "toc_visible": true,
      "collapsed_sections": [
        "JeENCT8b1kAv"
      ],
      "machine_shape": "hm",
      "gpuType": "T4",
      "authorship_tag": "ABX9TyMIM2tuxYu170J2hokMRCy7"
    },
    "kernelspec": {
      "name": "python3",
      "display_name": "Python 3"
    },
    "language_info": {
      "name": "python"
    },
    "accelerator": "GPU",
    "widgets": {
      "application/vnd.jupyter.widget-state+json": {
        "a56c3b6304fe416aab4a17a2e6f14ad0": {
          "model_module": "@jupyter-widgets/controls",
          "model_name": "HBoxModel",
          "model_module_version": "1.5.0",
          "state": {
            "_dom_classes": [],
            "_model_module": "@jupyter-widgets/controls",
            "_model_module_version": "1.5.0",
            "_model_name": "HBoxModel",
            "_view_count": null,
            "_view_module": "@jupyter-widgets/controls",
            "_view_module_version": "1.5.0",
            "_view_name": "HBoxView",
            "box_style": "",
            "children": [
              "IPY_MODEL_0f882cfa00e44e609da3d9f79bed3f89",
              "IPY_MODEL_8bf401c745d1499491a7613c644632d8",
              "IPY_MODEL_1d687f29aba64219b0c5fd3869419ffe"
            ],
            "layout": "IPY_MODEL_df65a2f1f42a4f48bc2807a6d44d8843"
          }
        },
        "0f882cfa00e44e609da3d9f79bed3f89": {
          "model_module": "@jupyter-widgets/controls",
          "model_name": "HTMLModel",
          "model_module_version": "1.5.0",
          "state": {
            "_dom_classes": [],
            "_model_module": "@jupyter-widgets/controls",
            "_model_module_version": "1.5.0",
            "_model_name": "HTMLModel",
            "_view_count": null,
            "_view_module": "@jupyter-widgets/controls",
            "_view_module_version": "1.5.0",
            "_view_name": "HTMLView",
            "description": "",
            "description_tooltip": null,
            "layout": "IPY_MODEL_d18a5295b77d4f8a916fdec634adaad4",
            "placeholder": "​",
            "style": "IPY_MODEL_bdf64793051443c1981b8d77a79ea80e",
            "value": "100%"
          }
        },
        "8bf401c745d1499491a7613c644632d8": {
          "model_module": "@jupyter-widgets/controls",
          "model_name": "FloatProgressModel",
          "model_module_version": "1.5.0",
          "state": {
            "_dom_classes": [],
            "_model_module": "@jupyter-widgets/controls",
            "_model_module_version": "1.5.0",
            "_model_name": "FloatProgressModel",
            "_view_count": null,
            "_view_module": "@jupyter-widgets/controls",
            "_view_module_version": "1.5.0",
            "_view_name": "ProgressView",
            "bar_style": "success",
            "description": "",
            "description_tooltip": null,
            "layout": "IPY_MODEL_13be45783e3d4e5bba6b86805197ca1a",
            "max": 22,
            "min": 0,
            "orientation": "horizontal",
            "style": "IPY_MODEL_40dc0c3bacd2401cb51dc45841666ed9",
            "value": 22
          }
        },
        "1d687f29aba64219b0c5fd3869419ffe": {
          "model_module": "@jupyter-widgets/controls",
          "model_name": "HTMLModel",
          "model_module_version": "1.5.0",
          "state": {
            "_dom_classes": [],
            "_model_module": "@jupyter-widgets/controls",
            "_model_module_version": "1.5.0",
            "_model_name": "HTMLModel",
            "_view_count": null,
            "_view_module": "@jupyter-widgets/controls",
            "_view_module_version": "1.5.0",
            "_view_name": "HTMLView",
            "description": "",
            "description_tooltip": null,
            "layout": "IPY_MODEL_55566766be84474896f15c8283a561bb",
            "placeholder": "​",
            "style": "IPY_MODEL_82fc14725fa34d7c932e738738d0fc7e",
            "value": " 22/22 [00:00&lt;00:00, 132.95it/s]"
          }
        },
        "df65a2f1f42a4f48bc2807a6d44d8843": {
          "model_module": "@jupyter-widgets/base",
          "model_name": "LayoutModel",
          "model_module_version": "1.2.0",
          "state": {
            "_model_module": "@jupyter-widgets/base",
            "_model_module_version": "1.2.0",
            "_model_name": "LayoutModel",
            "_view_count": null,
            "_view_module": "@jupyter-widgets/base",
            "_view_module_version": "1.2.0",
            "_view_name": "LayoutView",
            "align_content": null,
            "align_items": null,
            "align_self": null,
            "border": null,
            "bottom": null,
            "display": null,
            "flex": null,
            "flex_flow": null,
            "grid_area": null,
            "grid_auto_columns": null,
            "grid_auto_flow": null,
            "grid_auto_rows": null,
            "grid_column": null,
            "grid_gap": null,
            "grid_row": null,
            "grid_template_areas": null,
            "grid_template_columns": null,
            "grid_template_rows": null,
            "height": null,
            "justify_content": null,
            "justify_items": null,
            "left": null,
            "margin": null,
            "max_height": null,
            "max_width": null,
            "min_height": null,
            "min_width": null,
            "object_fit": null,
            "object_position": null,
            "order": null,
            "overflow": null,
            "overflow_x": null,
            "overflow_y": null,
            "padding": null,
            "right": null,
            "top": null,
            "visibility": null,
            "width": null
          }
        },
        "d18a5295b77d4f8a916fdec634adaad4": {
          "model_module": "@jupyter-widgets/base",
          "model_name": "LayoutModel",
          "model_module_version": "1.2.0",
          "state": {
            "_model_module": "@jupyter-widgets/base",
            "_model_module_version": "1.2.0",
            "_model_name": "LayoutModel",
            "_view_count": null,
            "_view_module": "@jupyter-widgets/base",
            "_view_module_version": "1.2.0",
            "_view_name": "LayoutView",
            "align_content": null,
            "align_items": null,
            "align_self": null,
            "border": null,
            "bottom": null,
            "display": null,
            "flex": null,
            "flex_flow": null,
            "grid_area": null,
            "grid_auto_columns": null,
            "grid_auto_flow": null,
            "grid_auto_rows": null,
            "grid_column": null,
            "grid_gap": null,
            "grid_row": null,
            "grid_template_areas": null,
            "grid_template_columns": null,
            "grid_template_rows": null,
            "height": null,
            "justify_content": null,
            "justify_items": null,
            "left": null,
            "margin": null,
            "max_height": null,
            "max_width": null,
            "min_height": null,
            "min_width": null,
            "object_fit": null,
            "object_position": null,
            "order": null,
            "overflow": null,
            "overflow_x": null,
            "overflow_y": null,
            "padding": null,
            "right": null,
            "top": null,
            "visibility": null,
            "width": null
          }
        },
        "bdf64793051443c1981b8d77a79ea80e": {
          "model_module": "@jupyter-widgets/controls",
          "model_name": "DescriptionStyleModel",
          "model_module_version": "1.5.0",
          "state": {
            "_model_module": "@jupyter-widgets/controls",
            "_model_module_version": "1.5.0",
            "_model_name": "DescriptionStyleModel",
            "_view_count": null,
            "_view_module": "@jupyter-widgets/base",
            "_view_module_version": "1.2.0",
            "_view_name": "StyleView",
            "description_width": ""
          }
        },
        "13be45783e3d4e5bba6b86805197ca1a": {
          "model_module": "@jupyter-widgets/base",
          "model_name": "LayoutModel",
          "model_module_version": "1.2.0",
          "state": {
            "_model_module": "@jupyter-widgets/base",
            "_model_module_version": "1.2.0",
            "_model_name": "LayoutModel",
            "_view_count": null,
            "_view_module": "@jupyter-widgets/base",
            "_view_module_version": "1.2.0",
            "_view_name": "LayoutView",
            "align_content": null,
            "align_items": null,
            "align_self": null,
            "border": null,
            "bottom": null,
            "display": null,
            "flex": null,
            "flex_flow": null,
            "grid_area": null,
            "grid_auto_columns": null,
            "grid_auto_flow": null,
            "grid_auto_rows": null,
            "grid_column": null,
            "grid_gap": null,
            "grid_row": null,
            "grid_template_areas": null,
            "grid_template_columns": null,
            "grid_template_rows": null,
            "height": null,
            "justify_content": null,
            "justify_items": null,
            "left": null,
            "margin": null,
            "max_height": null,
            "max_width": null,
            "min_height": null,
            "min_width": null,
            "object_fit": null,
            "object_position": null,
            "order": null,
            "overflow": null,
            "overflow_x": null,
            "overflow_y": null,
            "padding": null,
            "right": null,
            "top": null,
            "visibility": null,
            "width": null
          }
        },
        "40dc0c3bacd2401cb51dc45841666ed9": {
          "model_module": "@jupyter-widgets/controls",
          "model_name": "ProgressStyleModel",
          "model_module_version": "1.5.0",
          "state": {
            "_model_module": "@jupyter-widgets/controls",
            "_model_module_version": "1.5.0",
            "_model_name": "ProgressStyleModel",
            "_view_count": null,
            "_view_module": "@jupyter-widgets/base",
            "_view_module_version": "1.2.0",
            "_view_name": "StyleView",
            "bar_color": null,
            "description_width": ""
          }
        },
        "55566766be84474896f15c8283a561bb": {
          "model_module": "@jupyter-widgets/base",
          "model_name": "LayoutModel",
          "model_module_version": "1.2.0",
          "state": {
            "_model_module": "@jupyter-widgets/base",
            "_model_module_version": "1.2.0",
            "_model_name": "LayoutModel",
            "_view_count": null,
            "_view_module": "@jupyter-widgets/base",
            "_view_module_version": "1.2.0",
            "_view_name": "LayoutView",
            "align_content": null,
            "align_items": null,
            "align_self": null,
            "border": null,
            "bottom": null,
            "display": null,
            "flex": null,
            "flex_flow": null,
            "grid_area": null,
            "grid_auto_columns": null,
            "grid_auto_flow": null,
            "grid_auto_rows": null,
            "grid_column": null,
            "grid_gap": null,
            "grid_row": null,
            "grid_template_areas": null,
            "grid_template_columns": null,
            "grid_template_rows": null,
            "height": null,
            "justify_content": null,
            "justify_items": null,
            "left": null,
            "margin": null,
            "max_height": null,
            "max_width": null,
            "min_height": null,
            "min_width": null,
            "object_fit": null,
            "object_position": null,
            "order": null,
            "overflow": null,
            "overflow_x": null,
            "overflow_y": null,
            "padding": null,
            "right": null,
            "top": null,
            "visibility": null,
            "width": null
          }
        },
        "82fc14725fa34d7c932e738738d0fc7e": {
          "model_module": "@jupyter-widgets/controls",
          "model_name": "DescriptionStyleModel",
          "model_module_version": "1.5.0",
          "state": {
            "_model_module": "@jupyter-widgets/controls",
            "_model_module_version": "1.5.0",
            "_model_name": "DescriptionStyleModel",
            "_view_count": null,
            "_view_module": "@jupyter-widgets/base",
            "_view_module_version": "1.2.0",
            "_view_name": "StyleView",
            "description_width": ""
          }
        },
        "42e4302e89fa471b9a26e98e7434d1d3": {
          "model_module": "@jupyter-widgets/controls",
          "model_name": "HBoxModel",
          "model_module_version": "1.5.0",
          "state": {
            "_dom_classes": [],
            "_model_module": "@jupyter-widgets/controls",
            "_model_module_version": "1.5.0",
            "_model_name": "HBoxModel",
            "_view_count": null,
            "_view_module": "@jupyter-widgets/controls",
            "_view_module_version": "1.5.0",
            "_view_name": "HBoxView",
            "box_style": "",
            "children": [
              "IPY_MODEL_104a0a8089244ecd81e8597473f43e2c",
              "IPY_MODEL_89cdb11d15c44c90bc7456c6ee76250e",
              "IPY_MODEL_55427540414447e489814e09c674c8fb"
            ],
            "layout": "IPY_MODEL_cd3c5050ff6e47fcac41eb42fee26cc0"
          }
        },
        "104a0a8089244ecd81e8597473f43e2c": {
          "model_module": "@jupyter-widgets/controls",
          "model_name": "HTMLModel",
          "model_module_version": "1.5.0",
          "state": {
            "_dom_classes": [],
            "_model_module": "@jupyter-widgets/controls",
            "_model_module_version": "1.5.0",
            "_model_name": "HTMLModel",
            "_view_count": null,
            "_view_module": "@jupyter-widgets/controls",
            "_view_module_version": "1.5.0",
            "_view_name": "HTMLView",
            "description": "",
            "description_tooltip": null,
            "layout": "IPY_MODEL_2de0ed0db4d6436eb71f96c3cf75f1a7",
            "placeholder": "​",
            "style": "IPY_MODEL_710dd4e23b2d4ed698ad9dcabd12619d",
            "value": "100%"
          }
        },
        "89cdb11d15c44c90bc7456c6ee76250e": {
          "model_module": "@jupyter-widgets/controls",
          "model_name": "FloatProgressModel",
          "model_module_version": "1.5.0",
          "state": {
            "_dom_classes": [],
            "_model_module": "@jupyter-widgets/controls",
            "_model_module_version": "1.5.0",
            "_model_name": "FloatProgressModel",
            "_view_count": null,
            "_view_module": "@jupyter-widgets/controls",
            "_view_module_version": "1.5.0",
            "_view_name": "ProgressView",
            "bar_style": "success",
            "description": "",
            "description_tooltip": null,
            "layout": "IPY_MODEL_ade1d9126393448fb36ff3288ca9ba8f",
            "max": 22,
            "min": 0,
            "orientation": "horizontal",
            "style": "IPY_MODEL_96fe1f161f1545ebb5bb19950b132ca3",
            "value": 22
          }
        },
        "55427540414447e489814e09c674c8fb": {
          "model_module": "@jupyter-widgets/controls",
          "model_name": "HTMLModel",
          "model_module_version": "1.5.0",
          "state": {
            "_dom_classes": [],
            "_model_module": "@jupyter-widgets/controls",
            "_model_module_version": "1.5.0",
            "_model_name": "HTMLModel",
            "_view_count": null,
            "_view_module": "@jupyter-widgets/controls",
            "_view_module_version": "1.5.0",
            "_view_name": "HTMLView",
            "description": "",
            "description_tooltip": null,
            "layout": "IPY_MODEL_1d40c978ee1a4ff191e75b7f188f1d08",
            "placeholder": "​",
            "style": "IPY_MODEL_ec9e757483c94166a8634e57dc36482f",
            "value": " 22/22 [00:00&lt;00:00, 143.84it/s]"
          }
        },
        "cd3c5050ff6e47fcac41eb42fee26cc0": {
          "model_module": "@jupyter-widgets/base",
          "model_name": "LayoutModel",
          "model_module_version": "1.2.0",
          "state": {
            "_model_module": "@jupyter-widgets/base",
            "_model_module_version": "1.2.0",
            "_model_name": "LayoutModel",
            "_view_count": null,
            "_view_module": "@jupyter-widgets/base",
            "_view_module_version": "1.2.0",
            "_view_name": "LayoutView",
            "align_content": null,
            "align_items": null,
            "align_self": null,
            "border": null,
            "bottom": null,
            "display": null,
            "flex": null,
            "flex_flow": null,
            "grid_area": null,
            "grid_auto_columns": null,
            "grid_auto_flow": null,
            "grid_auto_rows": null,
            "grid_column": null,
            "grid_gap": null,
            "grid_row": null,
            "grid_template_areas": null,
            "grid_template_columns": null,
            "grid_template_rows": null,
            "height": null,
            "justify_content": null,
            "justify_items": null,
            "left": null,
            "margin": null,
            "max_height": null,
            "max_width": null,
            "min_height": null,
            "min_width": null,
            "object_fit": null,
            "object_position": null,
            "order": null,
            "overflow": null,
            "overflow_x": null,
            "overflow_y": null,
            "padding": null,
            "right": null,
            "top": null,
            "visibility": null,
            "width": null
          }
        },
        "2de0ed0db4d6436eb71f96c3cf75f1a7": {
          "model_module": "@jupyter-widgets/base",
          "model_name": "LayoutModel",
          "model_module_version": "1.2.0",
          "state": {
            "_model_module": "@jupyter-widgets/base",
            "_model_module_version": "1.2.0",
            "_model_name": "LayoutModel",
            "_view_count": null,
            "_view_module": "@jupyter-widgets/base",
            "_view_module_version": "1.2.0",
            "_view_name": "LayoutView",
            "align_content": null,
            "align_items": null,
            "align_self": null,
            "border": null,
            "bottom": null,
            "display": null,
            "flex": null,
            "flex_flow": null,
            "grid_area": null,
            "grid_auto_columns": null,
            "grid_auto_flow": null,
            "grid_auto_rows": null,
            "grid_column": null,
            "grid_gap": null,
            "grid_row": null,
            "grid_template_areas": null,
            "grid_template_columns": null,
            "grid_template_rows": null,
            "height": null,
            "justify_content": null,
            "justify_items": null,
            "left": null,
            "margin": null,
            "max_height": null,
            "max_width": null,
            "min_height": null,
            "min_width": null,
            "object_fit": null,
            "object_position": null,
            "order": null,
            "overflow": null,
            "overflow_x": null,
            "overflow_y": null,
            "padding": null,
            "right": null,
            "top": null,
            "visibility": null,
            "width": null
          }
        },
        "710dd4e23b2d4ed698ad9dcabd12619d": {
          "model_module": "@jupyter-widgets/controls",
          "model_name": "DescriptionStyleModel",
          "model_module_version": "1.5.0",
          "state": {
            "_model_module": "@jupyter-widgets/controls",
            "_model_module_version": "1.5.0",
            "_model_name": "DescriptionStyleModel",
            "_view_count": null,
            "_view_module": "@jupyter-widgets/base",
            "_view_module_version": "1.2.0",
            "_view_name": "StyleView",
            "description_width": ""
          }
        },
        "ade1d9126393448fb36ff3288ca9ba8f": {
          "model_module": "@jupyter-widgets/base",
          "model_name": "LayoutModel",
          "model_module_version": "1.2.0",
          "state": {
            "_model_module": "@jupyter-widgets/base",
            "_model_module_version": "1.2.0",
            "_model_name": "LayoutModel",
            "_view_count": null,
            "_view_module": "@jupyter-widgets/base",
            "_view_module_version": "1.2.0",
            "_view_name": "LayoutView",
            "align_content": null,
            "align_items": null,
            "align_self": null,
            "border": null,
            "bottom": null,
            "display": null,
            "flex": null,
            "flex_flow": null,
            "grid_area": null,
            "grid_auto_columns": null,
            "grid_auto_flow": null,
            "grid_auto_rows": null,
            "grid_column": null,
            "grid_gap": null,
            "grid_row": null,
            "grid_template_areas": null,
            "grid_template_columns": null,
            "grid_template_rows": null,
            "height": null,
            "justify_content": null,
            "justify_items": null,
            "left": null,
            "margin": null,
            "max_height": null,
            "max_width": null,
            "min_height": null,
            "min_width": null,
            "object_fit": null,
            "object_position": null,
            "order": null,
            "overflow": null,
            "overflow_x": null,
            "overflow_y": null,
            "padding": null,
            "right": null,
            "top": null,
            "visibility": null,
            "width": null
          }
        },
        "96fe1f161f1545ebb5bb19950b132ca3": {
          "model_module": "@jupyter-widgets/controls",
          "model_name": "ProgressStyleModel",
          "model_module_version": "1.5.0",
          "state": {
            "_model_module": "@jupyter-widgets/controls",
            "_model_module_version": "1.5.0",
            "_model_name": "ProgressStyleModel",
            "_view_count": null,
            "_view_module": "@jupyter-widgets/base",
            "_view_module_version": "1.2.0",
            "_view_name": "StyleView",
            "bar_color": null,
            "description_width": ""
          }
        },
        "1d40c978ee1a4ff191e75b7f188f1d08": {
          "model_module": "@jupyter-widgets/base",
          "model_name": "LayoutModel",
          "model_module_version": "1.2.0",
          "state": {
            "_model_module": "@jupyter-widgets/base",
            "_model_module_version": "1.2.0",
            "_model_name": "LayoutModel",
            "_view_count": null,
            "_view_module": "@jupyter-widgets/base",
            "_view_module_version": "1.2.0",
            "_view_name": "LayoutView",
            "align_content": null,
            "align_items": null,
            "align_self": null,
            "border": null,
            "bottom": null,
            "display": null,
            "flex": null,
            "flex_flow": null,
            "grid_area": null,
            "grid_auto_columns": null,
            "grid_auto_flow": null,
            "grid_auto_rows": null,
            "grid_column": null,
            "grid_gap": null,
            "grid_row": null,
            "grid_template_areas": null,
            "grid_template_columns": null,
            "grid_template_rows": null,
            "height": null,
            "justify_content": null,
            "justify_items": null,
            "left": null,
            "margin": null,
            "max_height": null,
            "max_width": null,
            "min_height": null,
            "min_width": null,
            "object_fit": null,
            "object_position": null,
            "order": null,
            "overflow": null,
            "overflow_x": null,
            "overflow_y": null,
            "padding": null,
            "right": null,
            "top": null,
            "visibility": null,
            "width": null
          }
        },
        "ec9e757483c94166a8634e57dc36482f": {
          "model_module": "@jupyter-widgets/controls",
          "model_name": "DescriptionStyleModel",
          "model_module_version": "1.5.0",
          "state": {
            "_model_module": "@jupyter-widgets/controls",
            "_model_module_version": "1.5.0",
            "_model_name": "DescriptionStyleModel",
            "_view_count": null,
            "_view_module": "@jupyter-widgets/base",
            "_view_module_version": "1.2.0",
            "_view_name": "StyleView",
            "description_width": ""
          }
        },
        "1032bec4e7064837aaaa3df010ab2ef4": {
          "model_module": "@jupyter-widgets/controls",
          "model_name": "HBoxModel",
          "model_module_version": "1.5.0",
          "state": {
            "_dom_classes": [],
            "_model_module": "@jupyter-widgets/controls",
            "_model_module_version": "1.5.0",
            "_model_name": "HBoxModel",
            "_view_count": null,
            "_view_module": "@jupyter-widgets/controls",
            "_view_module_version": "1.5.0",
            "_view_name": "HBoxView",
            "box_style": "",
            "children": [
              "IPY_MODEL_04a660723c6b437c9e580c8d12ea812a",
              "IPY_MODEL_87f24e93150148f995890cd226d677c7",
              "IPY_MODEL_fd08a4b0e28240d6bd45b82791fc03b2"
            ],
            "layout": "IPY_MODEL_18dfa87b454d4b0f84d537567cd6f254"
          }
        },
        "04a660723c6b437c9e580c8d12ea812a": {
          "model_module": "@jupyter-widgets/controls",
          "model_name": "HTMLModel",
          "model_module_version": "1.5.0",
          "state": {
            "_dom_classes": [],
            "_model_module": "@jupyter-widgets/controls",
            "_model_module_version": "1.5.0",
            "_model_name": "HTMLModel",
            "_view_count": null,
            "_view_module": "@jupyter-widgets/controls",
            "_view_module_version": "1.5.0",
            "_view_name": "HTMLView",
            "description": "",
            "description_tooltip": null,
            "layout": "IPY_MODEL_a03f1583af184ed48486ca6589957a00",
            "placeholder": "​",
            "style": "IPY_MODEL_c2ad6835ca9246cabd91ab6c682edba2",
            "value": "100%"
          }
        },
        "87f24e93150148f995890cd226d677c7": {
          "model_module": "@jupyter-widgets/controls",
          "model_name": "FloatProgressModel",
          "model_module_version": "1.5.0",
          "state": {
            "_dom_classes": [],
            "_model_module": "@jupyter-widgets/controls",
            "_model_module_version": "1.5.0",
            "_model_name": "FloatProgressModel",
            "_view_count": null,
            "_view_module": "@jupyter-widgets/controls",
            "_view_module_version": "1.5.0",
            "_view_name": "ProgressView",
            "bar_style": "success",
            "description": "",
            "description_tooltip": null,
            "layout": "IPY_MODEL_9622c9a44edb4f9bb42ba3037886b798",
            "max": 22,
            "min": 0,
            "orientation": "horizontal",
            "style": "IPY_MODEL_f2e80a581cda4b7fa3fa9dc732b11872",
            "value": 22
          }
        },
        "fd08a4b0e28240d6bd45b82791fc03b2": {
          "model_module": "@jupyter-widgets/controls",
          "model_name": "HTMLModel",
          "model_module_version": "1.5.0",
          "state": {
            "_dom_classes": [],
            "_model_module": "@jupyter-widgets/controls",
            "_model_module_version": "1.5.0",
            "_model_name": "HTMLModel",
            "_view_count": null,
            "_view_module": "@jupyter-widgets/controls",
            "_view_module_version": "1.5.0",
            "_view_name": "HTMLView",
            "description": "",
            "description_tooltip": null,
            "layout": "IPY_MODEL_053c6cb66c694353a4b6c7f26a312858",
            "placeholder": "​",
            "style": "IPY_MODEL_87df4bceada14b9bb3c143bb081b0bed",
            "value": " 22/22 [00:00&lt;00:00, 179.93it/s]"
          }
        },
        "18dfa87b454d4b0f84d537567cd6f254": {
          "model_module": "@jupyter-widgets/base",
          "model_name": "LayoutModel",
          "model_module_version": "1.2.0",
          "state": {
            "_model_module": "@jupyter-widgets/base",
            "_model_module_version": "1.2.0",
            "_model_name": "LayoutModel",
            "_view_count": null,
            "_view_module": "@jupyter-widgets/base",
            "_view_module_version": "1.2.0",
            "_view_name": "LayoutView",
            "align_content": null,
            "align_items": null,
            "align_self": null,
            "border": null,
            "bottom": null,
            "display": null,
            "flex": null,
            "flex_flow": null,
            "grid_area": null,
            "grid_auto_columns": null,
            "grid_auto_flow": null,
            "grid_auto_rows": null,
            "grid_column": null,
            "grid_gap": null,
            "grid_row": null,
            "grid_template_areas": null,
            "grid_template_columns": null,
            "grid_template_rows": null,
            "height": null,
            "justify_content": null,
            "justify_items": null,
            "left": null,
            "margin": null,
            "max_height": null,
            "max_width": null,
            "min_height": null,
            "min_width": null,
            "object_fit": null,
            "object_position": null,
            "order": null,
            "overflow": null,
            "overflow_x": null,
            "overflow_y": null,
            "padding": null,
            "right": null,
            "top": null,
            "visibility": null,
            "width": null
          }
        },
        "a03f1583af184ed48486ca6589957a00": {
          "model_module": "@jupyter-widgets/base",
          "model_name": "LayoutModel",
          "model_module_version": "1.2.0",
          "state": {
            "_model_module": "@jupyter-widgets/base",
            "_model_module_version": "1.2.0",
            "_model_name": "LayoutModel",
            "_view_count": null,
            "_view_module": "@jupyter-widgets/base",
            "_view_module_version": "1.2.0",
            "_view_name": "LayoutView",
            "align_content": null,
            "align_items": null,
            "align_self": null,
            "border": null,
            "bottom": null,
            "display": null,
            "flex": null,
            "flex_flow": null,
            "grid_area": null,
            "grid_auto_columns": null,
            "grid_auto_flow": null,
            "grid_auto_rows": null,
            "grid_column": null,
            "grid_gap": null,
            "grid_row": null,
            "grid_template_areas": null,
            "grid_template_columns": null,
            "grid_template_rows": null,
            "height": null,
            "justify_content": null,
            "justify_items": null,
            "left": null,
            "margin": null,
            "max_height": null,
            "max_width": null,
            "min_height": null,
            "min_width": null,
            "object_fit": null,
            "object_position": null,
            "order": null,
            "overflow": null,
            "overflow_x": null,
            "overflow_y": null,
            "padding": null,
            "right": null,
            "top": null,
            "visibility": null,
            "width": null
          }
        },
        "c2ad6835ca9246cabd91ab6c682edba2": {
          "model_module": "@jupyter-widgets/controls",
          "model_name": "DescriptionStyleModel",
          "model_module_version": "1.5.0",
          "state": {
            "_model_module": "@jupyter-widgets/controls",
            "_model_module_version": "1.5.0",
            "_model_name": "DescriptionStyleModel",
            "_view_count": null,
            "_view_module": "@jupyter-widgets/base",
            "_view_module_version": "1.2.0",
            "_view_name": "StyleView",
            "description_width": ""
          }
        },
        "9622c9a44edb4f9bb42ba3037886b798": {
          "model_module": "@jupyter-widgets/base",
          "model_name": "LayoutModel",
          "model_module_version": "1.2.0",
          "state": {
            "_model_module": "@jupyter-widgets/base",
            "_model_module_version": "1.2.0",
            "_model_name": "LayoutModel",
            "_view_count": null,
            "_view_module": "@jupyter-widgets/base",
            "_view_module_version": "1.2.0",
            "_view_name": "LayoutView",
            "align_content": null,
            "align_items": null,
            "align_self": null,
            "border": null,
            "bottom": null,
            "display": null,
            "flex": null,
            "flex_flow": null,
            "grid_area": null,
            "grid_auto_columns": null,
            "grid_auto_flow": null,
            "grid_auto_rows": null,
            "grid_column": null,
            "grid_gap": null,
            "grid_row": null,
            "grid_template_areas": null,
            "grid_template_columns": null,
            "grid_template_rows": null,
            "height": null,
            "justify_content": null,
            "justify_items": null,
            "left": null,
            "margin": null,
            "max_height": null,
            "max_width": null,
            "min_height": null,
            "min_width": null,
            "object_fit": null,
            "object_position": null,
            "order": null,
            "overflow": null,
            "overflow_x": null,
            "overflow_y": null,
            "padding": null,
            "right": null,
            "top": null,
            "visibility": null,
            "width": null
          }
        },
        "f2e80a581cda4b7fa3fa9dc732b11872": {
          "model_module": "@jupyter-widgets/controls",
          "model_name": "ProgressStyleModel",
          "model_module_version": "1.5.0",
          "state": {
            "_model_module": "@jupyter-widgets/controls",
            "_model_module_version": "1.5.0",
            "_model_name": "ProgressStyleModel",
            "_view_count": null,
            "_view_module": "@jupyter-widgets/base",
            "_view_module_version": "1.2.0",
            "_view_name": "StyleView",
            "bar_color": null,
            "description_width": ""
          }
        },
        "053c6cb66c694353a4b6c7f26a312858": {
          "model_module": "@jupyter-widgets/base",
          "model_name": "LayoutModel",
          "model_module_version": "1.2.0",
          "state": {
            "_model_module": "@jupyter-widgets/base",
            "_model_module_version": "1.2.0",
            "_model_name": "LayoutModel",
            "_view_count": null,
            "_view_module": "@jupyter-widgets/base",
            "_view_module_version": "1.2.0",
            "_view_name": "LayoutView",
            "align_content": null,
            "align_items": null,
            "align_self": null,
            "border": null,
            "bottom": null,
            "display": null,
            "flex": null,
            "flex_flow": null,
            "grid_area": null,
            "grid_auto_columns": null,
            "grid_auto_flow": null,
            "grid_auto_rows": null,
            "grid_column": null,
            "grid_gap": null,
            "grid_row": null,
            "grid_template_areas": null,
            "grid_template_columns": null,
            "grid_template_rows": null,
            "height": null,
            "justify_content": null,
            "justify_items": null,
            "left": null,
            "margin": null,
            "max_height": null,
            "max_width": null,
            "min_height": null,
            "min_width": null,
            "object_fit": null,
            "object_position": null,
            "order": null,
            "overflow": null,
            "overflow_x": null,
            "overflow_y": null,
            "padding": null,
            "right": null,
            "top": null,
            "visibility": null,
            "width": null
          }
        },
        "87df4bceada14b9bb3c143bb081b0bed": {
          "model_module": "@jupyter-widgets/controls",
          "model_name": "DescriptionStyleModel",
          "model_module_version": "1.5.0",
          "state": {
            "_model_module": "@jupyter-widgets/controls",
            "_model_module_version": "1.5.0",
            "_model_name": "DescriptionStyleModel",
            "_view_count": null,
            "_view_module": "@jupyter-widgets/base",
            "_view_module_version": "1.2.0",
            "_view_name": "StyleView",
            "description_width": ""
          }
        },
        "95a5bc95f1ce45ba95b656d793cc82e8": {
          "model_module": "@jupyter-widgets/controls",
          "model_name": "HBoxModel",
          "model_module_version": "1.5.0",
          "state": {
            "_dom_classes": [],
            "_model_module": "@jupyter-widgets/controls",
            "_model_module_version": "1.5.0",
            "_model_name": "HBoxModel",
            "_view_count": null,
            "_view_module": "@jupyter-widgets/controls",
            "_view_module_version": "1.5.0",
            "_view_name": "HBoxView",
            "box_style": "",
            "children": [
              "IPY_MODEL_93c2ddbb5cd44920933ecc12c8ed361a",
              "IPY_MODEL_19e054bcc9124aa69df50f84bcd36ffa",
              "IPY_MODEL_324314518e28414bb7b9956c814127f6"
            ],
            "layout": "IPY_MODEL_45a9fe2e3b37464d8b25c75c5ad066e0"
          }
        },
        "93c2ddbb5cd44920933ecc12c8ed361a": {
          "model_module": "@jupyter-widgets/controls",
          "model_name": "HTMLModel",
          "model_module_version": "1.5.0",
          "state": {
            "_dom_classes": [],
            "_model_module": "@jupyter-widgets/controls",
            "_model_module_version": "1.5.0",
            "_model_name": "HTMLModel",
            "_view_count": null,
            "_view_module": "@jupyter-widgets/controls",
            "_view_module_version": "1.5.0",
            "_view_name": "HTMLView",
            "description": "",
            "description_tooltip": null,
            "layout": "IPY_MODEL_2dd4f730f49546dbb0713e61d28dc2bc",
            "placeholder": "​",
            "style": "IPY_MODEL_c08f9af14dad4a03aac8a5752a8d2a3d",
            "value": "100%"
          }
        },
        "19e054bcc9124aa69df50f84bcd36ffa": {
          "model_module": "@jupyter-widgets/controls",
          "model_name": "FloatProgressModel",
          "model_module_version": "1.5.0",
          "state": {
            "_dom_classes": [],
            "_model_module": "@jupyter-widgets/controls",
            "_model_module_version": "1.5.0",
            "_model_name": "FloatProgressModel",
            "_view_count": null,
            "_view_module": "@jupyter-widgets/controls",
            "_view_module_version": "1.5.0",
            "_view_name": "ProgressView",
            "bar_style": "success",
            "description": "",
            "description_tooltip": null,
            "layout": "IPY_MODEL_9bbe879dea9048d385e95ef5e85cbbe4",
            "max": 22,
            "min": 0,
            "orientation": "horizontal",
            "style": "IPY_MODEL_db44b49f442244bda96348f73838f21f",
            "value": 22
          }
        },
        "324314518e28414bb7b9956c814127f6": {
          "model_module": "@jupyter-widgets/controls",
          "model_name": "HTMLModel",
          "model_module_version": "1.5.0",
          "state": {
            "_dom_classes": [],
            "_model_module": "@jupyter-widgets/controls",
            "_model_module_version": "1.5.0",
            "_model_name": "HTMLModel",
            "_view_count": null,
            "_view_module": "@jupyter-widgets/controls",
            "_view_module_version": "1.5.0",
            "_view_name": "HTMLView",
            "description": "",
            "description_tooltip": null,
            "layout": "IPY_MODEL_ad758d62c5b3476cb0d43985d25266ce",
            "placeholder": "​",
            "style": "IPY_MODEL_48612af73d6f4dd0893a4ea8aa308dd2",
            "value": " 22/22 [00:00&lt;00:00, 149.05it/s]"
          }
        },
        "45a9fe2e3b37464d8b25c75c5ad066e0": {
          "model_module": "@jupyter-widgets/base",
          "model_name": "LayoutModel",
          "model_module_version": "1.2.0",
          "state": {
            "_model_module": "@jupyter-widgets/base",
            "_model_module_version": "1.2.0",
            "_model_name": "LayoutModel",
            "_view_count": null,
            "_view_module": "@jupyter-widgets/base",
            "_view_module_version": "1.2.0",
            "_view_name": "LayoutView",
            "align_content": null,
            "align_items": null,
            "align_self": null,
            "border": null,
            "bottom": null,
            "display": null,
            "flex": null,
            "flex_flow": null,
            "grid_area": null,
            "grid_auto_columns": null,
            "grid_auto_flow": null,
            "grid_auto_rows": null,
            "grid_column": null,
            "grid_gap": null,
            "grid_row": null,
            "grid_template_areas": null,
            "grid_template_columns": null,
            "grid_template_rows": null,
            "height": null,
            "justify_content": null,
            "justify_items": null,
            "left": null,
            "margin": null,
            "max_height": null,
            "max_width": null,
            "min_height": null,
            "min_width": null,
            "object_fit": null,
            "object_position": null,
            "order": null,
            "overflow": null,
            "overflow_x": null,
            "overflow_y": null,
            "padding": null,
            "right": null,
            "top": null,
            "visibility": null,
            "width": null
          }
        },
        "2dd4f730f49546dbb0713e61d28dc2bc": {
          "model_module": "@jupyter-widgets/base",
          "model_name": "LayoutModel",
          "model_module_version": "1.2.0",
          "state": {
            "_model_module": "@jupyter-widgets/base",
            "_model_module_version": "1.2.0",
            "_model_name": "LayoutModel",
            "_view_count": null,
            "_view_module": "@jupyter-widgets/base",
            "_view_module_version": "1.2.0",
            "_view_name": "LayoutView",
            "align_content": null,
            "align_items": null,
            "align_self": null,
            "border": null,
            "bottom": null,
            "display": null,
            "flex": null,
            "flex_flow": null,
            "grid_area": null,
            "grid_auto_columns": null,
            "grid_auto_flow": null,
            "grid_auto_rows": null,
            "grid_column": null,
            "grid_gap": null,
            "grid_row": null,
            "grid_template_areas": null,
            "grid_template_columns": null,
            "grid_template_rows": null,
            "height": null,
            "justify_content": null,
            "justify_items": null,
            "left": null,
            "margin": null,
            "max_height": null,
            "max_width": null,
            "min_height": null,
            "min_width": null,
            "object_fit": null,
            "object_position": null,
            "order": null,
            "overflow": null,
            "overflow_x": null,
            "overflow_y": null,
            "padding": null,
            "right": null,
            "top": null,
            "visibility": null,
            "width": null
          }
        },
        "c08f9af14dad4a03aac8a5752a8d2a3d": {
          "model_module": "@jupyter-widgets/controls",
          "model_name": "DescriptionStyleModel",
          "model_module_version": "1.5.0",
          "state": {
            "_model_module": "@jupyter-widgets/controls",
            "_model_module_version": "1.5.0",
            "_model_name": "DescriptionStyleModel",
            "_view_count": null,
            "_view_module": "@jupyter-widgets/base",
            "_view_module_version": "1.2.0",
            "_view_name": "StyleView",
            "description_width": ""
          }
        },
        "9bbe879dea9048d385e95ef5e85cbbe4": {
          "model_module": "@jupyter-widgets/base",
          "model_name": "LayoutModel",
          "model_module_version": "1.2.0",
          "state": {
            "_model_module": "@jupyter-widgets/base",
            "_model_module_version": "1.2.0",
            "_model_name": "LayoutModel",
            "_view_count": null,
            "_view_module": "@jupyter-widgets/base",
            "_view_module_version": "1.2.0",
            "_view_name": "LayoutView",
            "align_content": null,
            "align_items": null,
            "align_self": null,
            "border": null,
            "bottom": null,
            "display": null,
            "flex": null,
            "flex_flow": null,
            "grid_area": null,
            "grid_auto_columns": null,
            "grid_auto_flow": null,
            "grid_auto_rows": null,
            "grid_column": null,
            "grid_gap": null,
            "grid_row": null,
            "grid_template_areas": null,
            "grid_template_columns": null,
            "grid_template_rows": null,
            "height": null,
            "justify_content": null,
            "justify_items": null,
            "left": null,
            "margin": null,
            "max_height": null,
            "max_width": null,
            "min_height": null,
            "min_width": null,
            "object_fit": null,
            "object_position": null,
            "order": null,
            "overflow": null,
            "overflow_x": null,
            "overflow_y": null,
            "padding": null,
            "right": null,
            "top": null,
            "visibility": null,
            "width": null
          }
        },
        "db44b49f442244bda96348f73838f21f": {
          "model_module": "@jupyter-widgets/controls",
          "model_name": "ProgressStyleModel",
          "model_module_version": "1.5.0",
          "state": {
            "_model_module": "@jupyter-widgets/controls",
            "_model_module_version": "1.5.0",
            "_model_name": "ProgressStyleModel",
            "_view_count": null,
            "_view_module": "@jupyter-widgets/base",
            "_view_module_version": "1.2.0",
            "_view_name": "StyleView",
            "bar_color": null,
            "description_width": ""
          }
        },
        "ad758d62c5b3476cb0d43985d25266ce": {
          "model_module": "@jupyter-widgets/base",
          "model_name": "LayoutModel",
          "model_module_version": "1.2.0",
          "state": {
            "_model_module": "@jupyter-widgets/base",
            "_model_module_version": "1.2.0",
            "_model_name": "LayoutModel",
            "_view_count": null,
            "_view_module": "@jupyter-widgets/base",
            "_view_module_version": "1.2.0",
            "_view_name": "LayoutView",
            "align_content": null,
            "align_items": null,
            "align_self": null,
            "border": null,
            "bottom": null,
            "display": null,
            "flex": null,
            "flex_flow": null,
            "grid_area": null,
            "grid_auto_columns": null,
            "grid_auto_flow": null,
            "grid_auto_rows": null,
            "grid_column": null,
            "grid_gap": null,
            "grid_row": null,
            "grid_template_areas": null,
            "grid_template_columns": null,
            "grid_template_rows": null,
            "height": null,
            "justify_content": null,
            "justify_items": null,
            "left": null,
            "margin": null,
            "max_height": null,
            "max_width": null,
            "min_height": null,
            "min_width": null,
            "object_fit": null,
            "object_position": null,
            "order": null,
            "overflow": null,
            "overflow_x": null,
            "overflow_y": null,
            "padding": null,
            "right": null,
            "top": null,
            "visibility": null,
            "width": null
          }
        },
        "48612af73d6f4dd0893a4ea8aa308dd2": {
          "model_module": "@jupyter-widgets/controls",
          "model_name": "DescriptionStyleModel",
          "model_module_version": "1.5.0",
          "state": {
            "_model_module": "@jupyter-widgets/controls",
            "_model_module_version": "1.5.0",
            "_model_name": "DescriptionStyleModel",
            "_view_count": null,
            "_view_module": "@jupyter-widgets/base",
            "_view_module_version": "1.2.0",
            "_view_name": "StyleView",
            "description_width": ""
          }
        },
        "89730592aeb84016a07a02e34eda2811": {
          "model_module": "@jupyter-widgets/controls",
          "model_name": "HBoxModel",
          "model_module_version": "1.5.0",
          "state": {
            "_dom_classes": [],
            "_model_module": "@jupyter-widgets/controls",
            "_model_module_version": "1.5.0",
            "_model_name": "HBoxModel",
            "_view_count": null,
            "_view_module": "@jupyter-widgets/controls",
            "_view_module_version": "1.5.0",
            "_view_name": "HBoxView",
            "box_style": "",
            "children": [
              "IPY_MODEL_7531a8fba21343998dea4a050ef7bd57",
              "IPY_MODEL_ba9d2ae0d0b44d1b85298dd1ecd5346d",
              "IPY_MODEL_e036bcf394984d15ab456602a213ccbd"
            ],
            "layout": "IPY_MODEL_9beef528d07843b0b87dd0c004865494"
          }
        },
        "7531a8fba21343998dea4a050ef7bd57": {
          "model_module": "@jupyter-widgets/controls",
          "model_name": "HTMLModel",
          "model_module_version": "1.5.0",
          "state": {
            "_dom_classes": [],
            "_model_module": "@jupyter-widgets/controls",
            "_model_module_version": "1.5.0",
            "_model_name": "HTMLModel",
            "_view_count": null,
            "_view_module": "@jupyter-widgets/controls",
            "_view_module_version": "1.5.0",
            "_view_name": "HTMLView",
            "description": "",
            "description_tooltip": null,
            "layout": "IPY_MODEL_97603c03618642a6b812abd61ea21c56",
            "placeholder": "​",
            "style": "IPY_MODEL_961aa9ecfdbb408fb89da19115991aca",
            "value": "100%"
          }
        },
        "ba9d2ae0d0b44d1b85298dd1ecd5346d": {
          "model_module": "@jupyter-widgets/controls",
          "model_name": "FloatProgressModel",
          "model_module_version": "1.5.0",
          "state": {
            "_dom_classes": [],
            "_model_module": "@jupyter-widgets/controls",
            "_model_module_version": "1.5.0",
            "_model_name": "FloatProgressModel",
            "_view_count": null,
            "_view_module": "@jupyter-widgets/controls",
            "_view_module_version": "1.5.0",
            "_view_name": "ProgressView",
            "bar_style": "success",
            "description": "",
            "description_tooltip": null,
            "layout": "IPY_MODEL_26422ab3185646bf8437e6607963f99e",
            "max": 22,
            "min": 0,
            "orientation": "horizontal",
            "style": "IPY_MODEL_dd6698d6eb5441eba2bafc52199db9d3",
            "value": 22
          }
        },
        "e036bcf394984d15ab456602a213ccbd": {
          "model_module": "@jupyter-widgets/controls",
          "model_name": "HTMLModel",
          "model_module_version": "1.5.0",
          "state": {
            "_dom_classes": [],
            "_model_module": "@jupyter-widgets/controls",
            "_model_module_version": "1.5.0",
            "_model_name": "HTMLModel",
            "_view_count": null,
            "_view_module": "@jupyter-widgets/controls",
            "_view_module_version": "1.5.0",
            "_view_name": "HTMLView",
            "description": "",
            "description_tooltip": null,
            "layout": "IPY_MODEL_803c0bfd007a4fa6a6cb5a95330dfbee",
            "placeholder": "​",
            "style": "IPY_MODEL_4e75ce97553b4addb1b438018313a827",
            "value": " 22/22 [00:00&lt;00:00, 173.49it/s]"
          }
        },
        "9beef528d07843b0b87dd0c004865494": {
          "model_module": "@jupyter-widgets/base",
          "model_name": "LayoutModel",
          "model_module_version": "1.2.0",
          "state": {
            "_model_module": "@jupyter-widgets/base",
            "_model_module_version": "1.2.0",
            "_model_name": "LayoutModel",
            "_view_count": null,
            "_view_module": "@jupyter-widgets/base",
            "_view_module_version": "1.2.0",
            "_view_name": "LayoutView",
            "align_content": null,
            "align_items": null,
            "align_self": null,
            "border": null,
            "bottom": null,
            "display": null,
            "flex": null,
            "flex_flow": null,
            "grid_area": null,
            "grid_auto_columns": null,
            "grid_auto_flow": null,
            "grid_auto_rows": null,
            "grid_column": null,
            "grid_gap": null,
            "grid_row": null,
            "grid_template_areas": null,
            "grid_template_columns": null,
            "grid_template_rows": null,
            "height": null,
            "justify_content": null,
            "justify_items": null,
            "left": null,
            "margin": null,
            "max_height": null,
            "max_width": null,
            "min_height": null,
            "min_width": null,
            "object_fit": null,
            "object_position": null,
            "order": null,
            "overflow": null,
            "overflow_x": null,
            "overflow_y": null,
            "padding": null,
            "right": null,
            "top": null,
            "visibility": null,
            "width": null
          }
        },
        "97603c03618642a6b812abd61ea21c56": {
          "model_module": "@jupyter-widgets/base",
          "model_name": "LayoutModel",
          "model_module_version": "1.2.0",
          "state": {
            "_model_module": "@jupyter-widgets/base",
            "_model_module_version": "1.2.0",
            "_model_name": "LayoutModel",
            "_view_count": null,
            "_view_module": "@jupyter-widgets/base",
            "_view_module_version": "1.2.0",
            "_view_name": "LayoutView",
            "align_content": null,
            "align_items": null,
            "align_self": null,
            "border": null,
            "bottom": null,
            "display": null,
            "flex": null,
            "flex_flow": null,
            "grid_area": null,
            "grid_auto_columns": null,
            "grid_auto_flow": null,
            "grid_auto_rows": null,
            "grid_column": null,
            "grid_gap": null,
            "grid_row": null,
            "grid_template_areas": null,
            "grid_template_columns": null,
            "grid_template_rows": null,
            "height": null,
            "justify_content": null,
            "justify_items": null,
            "left": null,
            "margin": null,
            "max_height": null,
            "max_width": null,
            "min_height": null,
            "min_width": null,
            "object_fit": null,
            "object_position": null,
            "order": null,
            "overflow": null,
            "overflow_x": null,
            "overflow_y": null,
            "padding": null,
            "right": null,
            "top": null,
            "visibility": null,
            "width": null
          }
        },
        "961aa9ecfdbb408fb89da19115991aca": {
          "model_module": "@jupyter-widgets/controls",
          "model_name": "DescriptionStyleModel",
          "model_module_version": "1.5.0",
          "state": {
            "_model_module": "@jupyter-widgets/controls",
            "_model_module_version": "1.5.0",
            "_model_name": "DescriptionStyleModel",
            "_view_count": null,
            "_view_module": "@jupyter-widgets/base",
            "_view_module_version": "1.2.0",
            "_view_name": "StyleView",
            "description_width": ""
          }
        },
        "26422ab3185646bf8437e6607963f99e": {
          "model_module": "@jupyter-widgets/base",
          "model_name": "LayoutModel",
          "model_module_version": "1.2.0",
          "state": {
            "_model_module": "@jupyter-widgets/base",
            "_model_module_version": "1.2.0",
            "_model_name": "LayoutModel",
            "_view_count": null,
            "_view_module": "@jupyter-widgets/base",
            "_view_module_version": "1.2.0",
            "_view_name": "LayoutView",
            "align_content": null,
            "align_items": null,
            "align_self": null,
            "border": null,
            "bottom": null,
            "display": null,
            "flex": null,
            "flex_flow": null,
            "grid_area": null,
            "grid_auto_columns": null,
            "grid_auto_flow": null,
            "grid_auto_rows": null,
            "grid_column": null,
            "grid_gap": null,
            "grid_row": null,
            "grid_template_areas": null,
            "grid_template_columns": null,
            "grid_template_rows": null,
            "height": null,
            "justify_content": null,
            "justify_items": null,
            "left": null,
            "margin": null,
            "max_height": null,
            "max_width": null,
            "min_height": null,
            "min_width": null,
            "object_fit": null,
            "object_position": null,
            "order": null,
            "overflow": null,
            "overflow_x": null,
            "overflow_y": null,
            "padding": null,
            "right": null,
            "top": null,
            "visibility": null,
            "width": null
          }
        },
        "dd6698d6eb5441eba2bafc52199db9d3": {
          "model_module": "@jupyter-widgets/controls",
          "model_name": "ProgressStyleModel",
          "model_module_version": "1.5.0",
          "state": {
            "_model_module": "@jupyter-widgets/controls",
            "_model_module_version": "1.5.0",
            "_model_name": "ProgressStyleModel",
            "_view_count": null,
            "_view_module": "@jupyter-widgets/base",
            "_view_module_version": "1.2.0",
            "_view_name": "StyleView",
            "bar_color": null,
            "description_width": ""
          }
        },
        "803c0bfd007a4fa6a6cb5a95330dfbee": {
          "model_module": "@jupyter-widgets/base",
          "model_name": "LayoutModel",
          "model_module_version": "1.2.0",
          "state": {
            "_model_module": "@jupyter-widgets/base",
            "_model_module_version": "1.2.0",
            "_model_name": "LayoutModel",
            "_view_count": null,
            "_view_module": "@jupyter-widgets/base",
            "_view_module_version": "1.2.0",
            "_view_name": "LayoutView",
            "align_content": null,
            "align_items": null,
            "align_self": null,
            "border": null,
            "bottom": null,
            "display": null,
            "flex": null,
            "flex_flow": null,
            "grid_area": null,
            "grid_auto_columns": null,
            "grid_auto_flow": null,
            "grid_auto_rows": null,
            "grid_column": null,
            "grid_gap": null,
            "grid_row": null,
            "grid_template_areas": null,
            "grid_template_columns": null,
            "grid_template_rows": null,
            "height": null,
            "justify_content": null,
            "justify_items": null,
            "left": null,
            "margin": null,
            "max_height": null,
            "max_width": null,
            "min_height": null,
            "min_width": null,
            "object_fit": null,
            "object_position": null,
            "order": null,
            "overflow": null,
            "overflow_x": null,
            "overflow_y": null,
            "padding": null,
            "right": null,
            "top": null,
            "visibility": null,
            "width": null
          }
        },
        "4e75ce97553b4addb1b438018313a827": {
          "model_module": "@jupyter-widgets/controls",
          "model_name": "DescriptionStyleModel",
          "model_module_version": "1.5.0",
          "state": {
            "_model_module": "@jupyter-widgets/controls",
            "_model_module_version": "1.5.0",
            "_model_name": "DescriptionStyleModel",
            "_view_count": null,
            "_view_module": "@jupyter-widgets/base",
            "_view_module_version": "1.2.0",
            "_view_name": "StyleView",
            "description_width": ""
          }
        },
        "c63488d068e34d1e8b6e5da724b6c73c": {
          "model_module": "@jupyter-widgets/controls",
          "model_name": "HBoxModel",
          "model_module_version": "1.5.0",
          "state": {
            "_dom_classes": [],
            "_model_module": "@jupyter-widgets/controls",
            "_model_module_version": "1.5.0",
            "_model_name": "HBoxModel",
            "_view_count": null,
            "_view_module": "@jupyter-widgets/controls",
            "_view_module_version": "1.5.0",
            "_view_name": "HBoxView",
            "box_style": "",
            "children": [
              "IPY_MODEL_f51ba1b5dc9d45a5b343dc22f0d5a632",
              "IPY_MODEL_4752e70479b34d8490b89a3b3b6a0214",
              "IPY_MODEL_1cc6ea215c094f649bb014489372d478"
            ],
            "layout": "IPY_MODEL_affb89b1f45742538c1c80ad78a88272"
          }
        },
        "f51ba1b5dc9d45a5b343dc22f0d5a632": {
          "model_module": "@jupyter-widgets/controls",
          "model_name": "HTMLModel",
          "model_module_version": "1.5.0",
          "state": {
            "_dom_classes": [],
            "_model_module": "@jupyter-widgets/controls",
            "_model_module_version": "1.5.0",
            "_model_name": "HTMLModel",
            "_view_count": null,
            "_view_module": "@jupyter-widgets/controls",
            "_view_module_version": "1.5.0",
            "_view_name": "HTMLView",
            "description": "",
            "description_tooltip": null,
            "layout": "IPY_MODEL_de5cf4e38c9842c78b2f55a99a491f0d",
            "placeholder": "​",
            "style": "IPY_MODEL_db37c4b2818e4901b9f44a6bde3da49d",
            "value": "100%"
          }
        },
        "4752e70479b34d8490b89a3b3b6a0214": {
          "model_module": "@jupyter-widgets/controls",
          "model_name": "FloatProgressModel",
          "model_module_version": "1.5.0",
          "state": {
            "_dom_classes": [],
            "_model_module": "@jupyter-widgets/controls",
            "_model_module_version": "1.5.0",
            "_model_name": "FloatProgressModel",
            "_view_count": null,
            "_view_module": "@jupyter-widgets/controls",
            "_view_module_version": "1.5.0",
            "_view_name": "ProgressView",
            "bar_style": "success",
            "description": "",
            "description_tooltip": null,
            "layout": "IPY_MODEL_d2308d263705486ea5a6cc2e79d1e7d2",
            "max": 22,
            "min": 0,
            "orientation": "horizontal",
            "style": "IPY_MODEL_3b8a71d919f542acbee746357c90440a",
            "value": 22
          }
        },
        "1cc6ea215c094f649bb014489372d478": {
          "model_module": "@jupyter-widgets/controls",
          "model_name": "HTMLModel",
          "model_module_version": "1.5.0",
          "state": {
            "_dom_classes": [],
            "_model_module": "@jupyter-widgets/controls",
            "_model_module_version": "1.5.0",
            "_model_name": "HTMLModel",
            "_view_count": null,
            "_view_module": "@jupyter-widgets/controls",
            "_view_module_version": "1.5.0",
            "_view_name": "HTMLView",
            "description": "",
            "description_tooltip": null,
            "layout": "IPY_MODEL_3227eed30f9848498b07ae5a3a1d0e50",
            "placeholder": "​",
            "style": "IPY_MODEL_c78f123597ae4d51be7294b3dc54facc",
            "value": " 22/22 [00:00&lt;00:00, 175.00it/s]"
          }
        },
        "affb89b1f45742538c1c80ad78a88272": {
          "model_module": "@jupyter-widgets/base",
          "model_name": "LayoutModel",
          "model_module_version": "1.2.0",
          "state": {
            "_model_module": "@jupyter-widgets/base",
            "_model_module_version": "1.2.0",
            "_model_name": "LayoutModel",
            "_view_count": null,
            "_view_module": "@jupyter-widgets/base",
            "_view_module_version": "1.2.0",
            "_view_name": "LayoutView",
            "align_content": null,
            "align_items": null,
            "align_self": null,
            "border": null,
            "bottom": null,
            "display": null,
            "flex": null,
            "flex_flow": null,
            "grid_area": null,
            "grid_auto_columns": null,
            "grid_auto_flow": null,
            "grid_auto_rows": null,
            "grid_column": null,
            "grid_gap": null,
            "grid_row": null,
            "grid_template_areas": null,
            "grid_template_columns": null,
            "grid_template_rows": null,
            "height": null,
            "justify_content": null,
            "justify_items": null,
            "left": null,
            "margin": null,
            "max_height": null,
            "max_width": null,
            "min_height": null,
            "min_width": null,
            "object_fit": null,
            "object_position": null,
            "order": null,
            "overflow": null,
            "overflow_x": null,
            "overflow_y": null,
            "padding": null,
            "right": null,
            "top": null,
            "visibility": null,
            "width": null
          }
        },
        "de5cf4e38c9842c78b2f55a99a491f0d": {
          "model_module": "@jupyter-widgets/base",
          "model_name": "LayoutModel",
          "model_module_version": "1.2.0",
          "state": {
            "_model_module": "@jupyter-widgets/base",
            "_model_module_version": "1.2.0",
            "_model_name": "LayoutModel",
            "_view_count": null,
            "_view_module": "@jupyter-widgets/base",
            "_view_module_version": "1.2.0",
            "_view_name": "LayoutView",
            "align_content": null,
            "align_items": null,
            "align_self": null,
            "border": null,
            "bottom": null,
            "display": null,
            "flex": null,
            "flex_flow": null,
            "grid_area": null,
            "grid_auto_columns": null,
            "grid_auto_flow": null,
            "grid_auto_rows": null,
            "grid_column": null,
            "grid_gap": null,
            "grid_row": null,
            "grid_template_areas": null,
            "grid_template_columns": null,
            "grid_template_rows": null,
            "height": null,
            "justify_content": null,
            "justify_items": null,
            "left": null,
            "margin": null,
            "max_height": null,
            "max_width": null,
            "min_height": null,
            "min_width": null,
            "object_fit": null,
            "object_position": null,
            "order": null,
            "overflow": null,
            "overflow_x": null,
            "overflow_y": null,
            "padding": null,
            "right": null,
            "top": null,
            "visibility": null,
            "width": null
          }
        },
        "db37c4b2818e4901b9f44a6bde3da49d": {
          "model_module": "@jupyter-widgets/controls",
          "model_name": "DescriptionStyleModel",
          "model_module_version": "1.5.0",
          "state": {
            "_model_module": "@jupyter-widgets/controls",
            "_model_module_version": "1.5.0",
            "_model_name": "DescriptionStyleModel",
            "_view_count": null,
            "_view_module": "@jupyter-widgets/base",
            "_view_module_version": "1.2.0",
            "_view_name": "StyleView",
            "description_width": ""
          }
        },
        "d2308d263705486ea5a6cc2e79d1e7d2": {
          "model_module": "@jupyter-widgets/base",
          "model_name": "LayoutModel",
          "model_module_version": "1.2.0",
          "state": {
            "_model_module": "@jupyter-widgets/base",
            "_model_module_version": "1.2.0",
            "_model_name": "LayoutModel",
            "_view_count": null,
            "_view_module": "@jupyter-widgets/base",
            "_view_module_version": "1.2.0",
            "_view_name": "LayoutView",
            "align_content": null,
            "align_items": null,
            "align_self": null,
            "border": null,
            "bottom": null,
            "display": null,
            "flex": null,
            "flex_flow": null,
            "grid_area": null,
            "grid_auto_columns": null,
            "grid_auto_flow": null,
            "grid_auto_rows": null,
            "grid_column": null,
            "grid_gap": null,
            "grid_row": null,
            "grid_template_areas": null,
            "grid_template_columns": null,
            "grid_template_rows": null,
            "height": null,
            "justify_content": null,
            "justify_items": null,
            "left": null,
            "margin": null,
            "max_height": null,
            "max_width": null,
            "min_height": null,
            "min_width": null,
            "object_fit": null,
            "object_position": null,
            "order": null,
            "overflow": null,
            "overflow_x": null,
            "overflow_y": null,
            "padding": null,
            "right": null,
            "top": null,
            "visibility": null,
            "width": null
          }
        },
        "3b8a71d919f542acbee746357c90440a": {
          "model_module": "@jupyter-widgets/controls",
          "model_name": "ProgressStyleModel",
          "model_module_version": "1.5.0",
          "state": {
            "_model_module": "@jupyter-widgets/controls",
            "_model_module_version": "1.5.0",
            "_model_name": "ProgressStyleModel",
            "_view_count": null,
            "_view_module": "@jupyter-widgets/base",
            "_view_module_version": "1.2.0",
            "_view_name": "StyleView",
            "bar_color": null,
            "description_width": ""
          }
        },
        "3227eed30f9848498b07ae5a3a1d0e50": {
          "model_module": "@jupyter-widgets/base",
          "model_name": "LayoutModel",
          "model_module_version": "1.2.0",
          "state": {
            "_model_module": "@jupyter-widgets/base",
            "_model_module_version": "1.2.0",
            "_model_name": "LayoutModel",
            "_view_count": null,
            "_view_module": "@jupyter-widgets/base",
            "_view_module_version": "1.2.0",
            "_view_name": "LayoutView",
            "align_content": null,
            "align_items": null,
            "align_self": null,
            "border": null,
            "bottom": null,
            "display": null,
            "flex": null,
            "flex_flow": null,
            "grid_area": null,
            "grid_auto_columns": null,
            "grid_auto_flow": null,
            "grid_auto_rows": null,
            "grid_column": null,
            "grid_gap": null,
            "grid_row": null,
            "grid_template_areas": null,
            "grid_template_columns": null,
            "grid_template_rows": null,
            "height": null,
            "justify_content": null,
            "justify_items": null,
            "left": null,
            "margin": null,
            "max_height": null,
            "max_width": null,
            "min_height": null,
            "min_width": null,
            "object_fit": null,
            "object_position": null,
            "order": null,
            "overflow": null,
            "overflow_x": null,
            "overflow_y": null,
            "padding": null,
            "right": null,
            "top": null,
            "visibility": null,
            "width": null
          }
        },
        "c78f123597ae4d51be7294b3dc54facc": {
          "model_module": "@jupyter-widgets/controls",
          "model_name": "DescriptionStyleModel",
          "model_module_version": "1.5.0",
          "state": {
            "_model_module": "@jupyter-widgets/controls",
            "_model_module_version": "1.5.0",
            "_model_name": "DescriptionStyleModel",
            "_view_count": null,
            "_view_module": "@jupyter-widgets/base",
            "_view_module_version": "1.2.0",
            "_view_name": "StyleView",
            "description_width": ""
          }
        }
      }
    }
  },
  "cells": [
    {
      "cell_type": "markdown",
      "source": [
        "# Problem"
      ],
      "metadata": {
        "id": "353eMedJyuPn"
      }
    },
    {
      "cell_type": "markdown",
      "source": [
        "Interpret a model trained to predict the output to a simple code functions: predicting the bold text in problems like\n",
        "$$\n",
        "a = [1, 2, 3] \\\\\n",
        "a[2] = 4 \\\\\n",
        "a -> [\\textbf{1, 2, 4}] \\\\\n",
        "$$"
      ],
      "metadata": {
        "id": "1cBIY2REyvnn"
      }
    },
    {
      "cell_type": "markdown",
      "metadata": {
        "id": "JeENCT8b1kAv"
      },
      "source": [
        "# Setup\n",
        "(No need to read)"
      ]
    },
    {
      "cell_type": "code",
      "source": [
        "!git clone https://github.com/ckkissane/mech-interp-practice.git"
      ],
      "metadata": {
        "colab": {
          "base_uri": "https://localhost:8080/"
        },
        "id": "ZXD0tdWrY4sf",
        "outputId": "65d7e11e-df74-44f0-d03a-f692df431565"
      },
      "execution_count": 1,
      "outputs": [
        {
          "output_type": "stream",
          "name": "stdout",
          "text": [
            "fatal: destination path 'mech-interp-practice' already exists and is not an empty directory.\n"
          ]
        }
      ]
    },
    {
      "cell_type": "code",
      "execution_count": 2,
      "metadata": {
        "id": "sxK_xiOO1kAv",
        "outputId": "0a1093b2-1744-443b-e6df-6f5eca145db3",
        "colab": {
          "base_uri": "https://localhost:8080/"
        }
      },
      "outputs": [
        {
          "output_type": "stream",
          "name": "stdout",
          "text": [
            "Running as a Colab notebook\n",
            "Collecting git+https://github.com/neelnanda-io/TransformerLens.git\n",
            "  Cloning https://github.com/neelnanda-io/TransformerLens.git to /tmp/pip-req-build-uwtq4lde\n",
            "  Running command git clone --filter=blob:none --quiet https://github.com/neelnanda-io/TransformerLens.git /tmp/pip-req-build-uwtq4lde\n",
            "  Resolved https://github.com/neelnanda-io/TransformerLens.git to commit 54d548de4995a1ecc5b01b9c03aceaf0966c0eb3\n",
            "  Installing build dependencies ... \u001b[?25l\u001b[?25hdone\n",
            "  Getting requirements to build wheel ... \u001b[?25l\u001b[?25hdone\n",
            "  Preparing metadata (pyproject.toml) ... \u001b[?25l\u001b[?25hdone\n",
            "Requirement already satisfied: beartype<0.15.0,>=0.14.1 in /usr/local/lib/python3.10/dist-packages (from transformer-lens==0.0.0) (0.14.1)\n",
            "Requirement already satisfied: datasets>=2.7.1 in /usr/local/lib/python3.10/dist-packages (from transformer-lens==0.0.0) (2.14.4)\n",
            "Requirement already satisfied: einops>=0.6.0 in /usr/local/lib/python3.10/dist-packages (from transformer-lens==0.0.0) (0.6.1)\n",
            "Requirement already satisfied: fancy-einsum>=0.0.3 in /usr/local/lib/python3.10/dist-packages (from transformer-lens==0.0.0) (0.0.3)\n",
            "Requirement already satisfied: jaxtyping>=0.2.11 in /usr/local/lib/python3.10/dist-packages (from transformer-lens==0.0.0) (0.2.21)\n",
            "Requirement already satisfied: numpy>=1.23 in /usr/local/lib/python3.10/dist-packages (from transformer-lens==0.0.0) (1.23.5)\n",
            "Requirement already satisfied: pandas>=1.1.5 in /usr/local/lib/python3.10/dist-packages (from transformer-lens==0.0.0) (1.5.3)\n",
            "Requirement already satisfied: rich>=12.6.0 in /usr/local/lib/python3.10/dist-packages (from transformer-lens==0.0.0) (13.5.2)\n",
            "Requirement already satisfied: torch>=1.10 in /usr/local/lib/python3.10/dist-packages (from transformer-lens==0.0.0) (2.0.1+cu118)\n",
            "Requirement already satisfied: tqdm>=4.64.1 in /usr/local/lib/python3.10/dist-packages (from transformer-lens==0.0.0) (4.66.1)\n",
            "Requirement already satisfied: transformers>=4.25.1 in /usr/local/lib/python3.10/dist-packages (from transformer-lens==0.0.0) (4.32.1)\n",
            "Requirement already satisfied: wandb>=0.13.5 in /usr/local/lib/python3.10/dist-packages (from transformer-lens==0.0.0) (0.15.9)\n",
            "Requirement already satisfied: pyarrow>=8.0.0 in /usr/local/lib/python3.10/dist-packages (from datasets>=2.7.1->transformer-lens==0.0.0) (9.0.0)\n",
            "Requirement already satisfied: dill<0.3.8,>=0.3.0 in /usr/local/lib/python3.10/dist-packages (from datasets>=2.7.1->transformer-lens==0.0.0) (0.3.7)\n",
            "Requirement already satisfied: requests>=2.19.0 in /usr/local/lib/python3.10/dist-packages (from datasets>=2.7.1->transformer-lens==0.0.0) (2.31.0)\n",
            "Requirement already satisfied: xxhash in /usr/local/lib/python3.10/dist-packages (from datasets>=2.7.1->transformer-lens==0.0.0) (3.3.0)\n",
            "Requirement already satisfied: multiprocess in /usr/local/lib/python3.10/dist-packages (from datasets>=2.7.1->transformer-lens==0.0.0) (0.70.15)\n",
            "Requirement already satisfied: fsspec[http]>=2021.11.1 in /usr/local/lib/python3.10/dist-packages (from datasets>=2.7.1->transformer-lens==0.0.0) (2023.6.0)\n",
            "Requirement already satisfied: aiohttp in /usr/local/lib/python3.10/dist-packages (from datasets>=2.7.1->transformer-lens==0.0.0) (3.8.5)\n",
            "Requirement already satisfied: huggingface-hub<1.0.0,>=0.14.0 in /usr/local/lib/python3.10/dist-packages (from datasets>=2.7.1->transformer-lens==0.0.0) (0.16.4)\n",
            "Requirement already satisfied: packaging in /usr/local/lib/python3.10/dist-packages (from datasets>=2.7.1->transformer-lens==0.0.0) (23.1)\n",
            "Requirement already satisfied: pyyaml>=5.1 in /usr/local/lib/python3.10/dist-packages (from datasets>=2.7.1->transformer-lens==0.0.0) (6.0.1)\n",
            "Requirement already satisfied: typeguard>=2.13.3 in /usr/local/lib/python3.10/dist-packages (from jaxtyping>=0.2.11->transformer-lens==0.0.0) (2.13.3)\n",
            "Requirement already satisfied: typing-extensions>=3.7.4.1 in /usr/local/lib/python3.10/dist-packages (from jaxtyping>=0.2.11->transformer-lens==0.0.0) (4.7.1)\n",
            "Requirement already satisfied: python-dateutil>=2.8.1 in /usr/local/lib/python3.10/dist-packages (from pandas>=1.1.5->transformer-lens==0.0.0) (2.8.2)\n",
            "Requirement already satisfied: pytz>=2020.1 in /usr/local/lib/python3.10/dist-packages (from pandas>=1.1.5->transformer-lens==0.0.0) (2023.3)\n",
            "Requirement already satisfied: markdown-it-py>=2.2.0 in /usr/local/lib/python3.10/dist-packages (from rich>=12.6.0->transformer-lens==0.0.0) (3.0.0)\n",
            "Requirement already satisfied: pygments<3.0.0,>=2.13.0 in /usr/local/lib/python3.10/dist-packages (from rich>=12.6.0->transformer-lens==0.0.0) (2.16.1)\n",
            "Requirement already satisfied: filelock in /usr/local/lib/python3.10/dist-packages (from torch>=1.10->transformer-lens==0.0.0) (3.12.2)\n",
            "Requirement already satisfied: sympy in /usr/local/lib/python3.10/dist-packages (from torch>=1.10->transformer-lens==0.0.0) (1.12)\n",
            "Requirement already satisfied: networkx in /usr/local/lib/python3.10/dist-packages (from torch>=1.10->transformer-lens==0.0.0) (3.1)\n",
            "Requirement already satisfied: jinja2 in /usr/local/lib/python3.10/dist-packages (from torch>=1.10->transformer-lens==0.0.0) (3.1.2)\n",
            "Requirement already satisfied: triton==2.0.0 in /usr/local/lib/python3.10/dist-packages (from torch>=1.10->transformer-lens==0.0.0) (2.0.0)\n",
            "Requirement already satisfied: cmake in /usr/local/lib/python3.10/dist-packages (from triton==2.0.0->torch>=1.10->transformer-lens==0.0.0) (3.27.2)\n",
            "Requirement already satisfied: lit in /usr/local/lib/python3.10/dist-packages (from triton==2.0.0->torch>=1.10->transformer-lens==0.0.0) (16.0.6)\n",
            "Requirement already satisfied: regex!=2019.12.17 in /usr/local/lib/python3.10/dist-packages (from transformers>=4.25.1->transformer-lens==0.0.0) (2023.6.3)\n",
            "Requirement already satisfied: tokenizers!=0.11.3,<0.14,>=0.11.1 in /usr/local/lib/python3.10/dist-packages (from transformers>=4.25.1->transformer-lens==0.0.0) (0.13.3)\n",
            "Requirement already satisfied: safetensors>=0.3.1 in /usr/local/lib/python3.10/dist-packages (from transformers>=4.25.1->transformer-lens==0.0.0) (0.3.3)\n",
            "Requirement already satisfied: Click!=8.0.0,>=7.1 in /usr/local/lib/python3.10/dist-packages (from wandb>=0.13.5->transformer-lens==0.0.0) (8.1.7)\n",
            "Requirement already satisfied: GitPython!=3.1.29,>=1.0.0 in /usr/local/lib/python3.10/dist-packages (from wandb>=0.13.5->transformer-lens==0.0.0) (3.1.32)\n",
            "Requirement already satisfied: psutil>=5.0.0 in /usr/local/lib/python3.10/dist-packages (from wandb>=0.13.5->transformer-lens==0.0.0) (5.9.5)\n",
            "Requirement already satisfied: sentry-sdk>=1.0.0 in /usr/local/lib/python3.10/dist-packages (from wandb>=0.13.5->transformer-lens==0.0.0) (1.30.0)\n",
            "Requirement already satisfied: docker-pycreds>=0.4.0 in /usr/local/lib/python3.10/dist-packages (from wandb>=0.13.5->transformer-lens==0.0.0) (0.4.0)\n",
            "Requirement already satisfied: pathtools in /usr/local/lib/python3.10/dist-packages (from wandb>=0.13.5->transformer-lens==0.0.0) (0.1.2)\n",
            "Requirement already satisfied: setproctitle in /usr/local/lib/python3.10/dist-packages (from wandb>=0.13.5->transformer-lens==0.0.0) (1.3.2)\n",
            "Requirement already satisfied: setuptools in /usr/local/lib/python3.10/dist-packages (from wandb>=0.13.5->transformer-lens==0.0.0) (67.7.2)\n",
            "Requirement already satisfied: appdirs>=1.4.3 in /usr/local/lib/python3.10/dist-packages (from wandb>=0.13.5->transformer-lens==0.0.0) (1.4.4)\n",
            "Requirement already satisfied: protobuf!=4.21.0,<5,>=3.19.0 in /usr/local/lib/python3.10/dist-packages (from wandb>=0.13.5->transformer-lens==0.0.0) (3.20.3)\n",
            "Requirement already satisfied: six>=1.4.0 in /usr/local/lib/python3.10/dist-packages (from docker-pycreds>=0.4.0->wandb>=0.13.5->transformer-lens==0.0.0) (1.16.0)\n",
            "Requirement already satisfied: attrs>=17.3.0 in /usr/local/lib/python3.10/dist-packages (from aiohttp->datasets>=2.7.1->transformer-lens==0.0.0) (23.1.0)\n",
            "Requirement already satisfied: charset-normalizer<4.0,>=2.0 in /usr/local/lib/python3.10/dist-packages (from aiohttp->datasets>=2.7.1->transformer-lens==0.0.0) (3.2.0)\n",
            "Requirement already satisfied: multidict<7.0,>=4.5 in /usr/local/lib/python3.10/dist-packages (from aiohttp->datasets>=2.7.1->transformer-lens==0.0.0) (6.0.4)\n",
            "Requirement already satisfied: async-timeout<5.0,>=4.0.0a3 in /usr/local/lib/python3.10/dist-packages (from aiohttp->datasets>=2.7.1->transformer-lens==0.0.0) (4.0.3)\n",
            "Requirement already satisfied: yarl<2.0,>=1.0 in /usr/local/lib/python3.10/dist-packages (from aiohttp->datasets>=2.7.1->transformer-lens==0.0.0) (1.9.2)\n",
            "Requirement already satisfied: frozenlist>=1.1.1 in /usr/local/lib/python3.10/dist-packages (from aiohttp->datasets>=2.7.1->transformer-lens==0.0.0) (1.4.0)\n",
            "Requirement already satisfied: aiosignal>=1.1.2 in /usr/local/lib/python3.10/dist-packages (from aiohttp->datasets>=2.7.1->transformer-lens==0.0.0) (1.3.1)\n",
            "Requirement already satisfied: gitdb<5,>=4.0.1 in /usr/local/lib/python3.10/dist-packages (from GitPython!=3.1.29,>=1.0.0->wandb>=0.13.5->transformer-lens==0.0.0) (4.0.10)\n",
            "Requirement already satisfied: mdurl~=0.1 in /usr/local/lib/python3.10/dist-packages (from markdown-it-py>=2.2.0->rich>=12.6.0->transformer-lens==0.0.0) (0.1.2)\n",
            "Requirement already satisfied: idna<4,>=2.5 in /usr/local/lib/python3.10/dist-packages (from requests>=2.19.0->datasets>=2.7.1->transformer-lens==0.0.0) (3.4)\n",
            "Requirement already satisfied: urllib3<3,>=1.21.1 in /usr/local/lib/python3.10/dist-packages (from requests>=2.19.0->datasets>=2.7.1->transformer-lens==0.0.0) (2.0.4)\n",
            "Requirement already satisfied: certifi>=2017.4.17 in /usr/local/lib/python3.10/dist-packages (from requests>=2.19.0->datasets>=2.7.1->transformer-lens==0.0.0) (2023.7.22)\n",
            "Requirement already satisfied: MarkupSafe>=2.0 in /usr/local/lib/python3.10/dist-packages (from jinja2->torch>=1.10->transformer-lens==0.0.0) (2.1.3)\n",
            "Requirement already satisfied: mpmath>=0.19 in /usr/local/lib/python3.10/dist-packages (from sympy->torch>=1.10->transformer-lens==0.0.0) (1.3.0)\n",
            "Requirement already satisfied: smmap<6,>=3.0.1 in /usr/local/lib/python3.10/dist-packages (from gitdb<5,>=4.0.1->GitPython!=3.1.29,>=1.0.0->wandb>=0.13.5->transformer-lens==0.0.0) (5.0.0)\n",
            "\n",
            "\u001b[1m\u001b[31m================================================================================\u001b[m\n",
            "\u001b[1m\u001b[31m▓▓▓▓▓▓▓▓▓▓▓▓▓▓▓▓▓▓▓▓▓▓▓▓▓▓▓▓▓▓▓▓▓▓▓▓▓▓▓▓▓▓▓▓▓▓▓▓▓▓▓▓▓▓▓▓▓▓▓▓▓▓▓▓▓▓▓▓▓▓▓▓▓▓▓▓▓▓▓▓\u001b[m\n",
            "\u001b[1m\u001b[31m================================================================================\u001b[m\n",
            "\n",
            "  \u001b[1m\u001b[33m                         \u001b[4mSCRIPT DEPRECATION WARNING\u001b[m                    \u001b[m\n",
            "\n",
            "  \n",
            "  This script, located at \u001b[1mhttps://deb.nodesource.com/setup_X\u001b[m, used to\n",
            "  install Node.js is deprecated now and will eventually be made inactive.\n",
            "\n",
            "  Please visit the NodeSource \u001b[1mdistributions\u001b[m Github and follow the\n",
            "  instructions to migrate your repo.\n",
            "  \u001b[4m\u001b[32m\u001b[1mhttps://github.com/nodesource/distributions\u001b[m\n",
            "\n",
            "  The \u001b[1mNodeSource\u001b[m Node.js Linux distributions GitHub repository contains\n",
            "  information about which versions of Node.js and which Linux distributions\n",
            "  are supported and how to install it.\n",
            "  \u001b[4m\u001b[32m\u001b[1mhttps://github.com/nodesource/distributions\u001b[m\n",
            "\n",
            "\n",
            "                          \u001b[4m\u001b[1m\u001b[33mSCRIPT DEPRECATION WARNING\u001b[m\n",
            "\n",
            "\u001b[1m\u001b[31m================================================================================\u001b[m\n",
            "\u001b[1m\u001b[31m▓▓▓▓▓▓▓▓▓▓▓▓▓▓▓▓▓▓▓▓▓▓▓▓▓▓▓▓▓▓▓▓▓▓▓▓▓▓▓▓▓▓▓▓▓▓▓▓▓▓▓▓▓▓▓▓▓▓▓▓▓▓▓▓▓▓▓▓▓▓▓▓▓▓▓▓▓▓▓▓\u001b[m\n",
            "\u001b[1m\u001b[31m================================================================================\u001b[m\n",
            "\n",
            "\u001b[36m\u001b[1mTO AVOID THIS WAIT MIGRATE THE SCRIPT\u001b[m\n",
            "Continuing in 60 seconds (press Ctrl-C to abort) ...\n",
            "\n",
            "\n",
            "## Installing the NodeSource Node.js 16.x repo...\n",
            "\n",
            "\n",
            "## Populating apt-get cache...\n",
            "\n",
            "+ apt-get update\n",
            "Hit:1 http://archive.ubuntu.com/ubuntu jammy InRelease\n",
            "Hit:2 http://archive.ubuntu.com/ubuntu jammy-updates InRelease\n",
            "Hit:3 https://cloud.r-project.org/bin/linux/ubuntu jammy-cran40/ InRelease\n",
            "Hit:4 https://developer.download.nvidia.com/compute/cuda/repos/ubuntu2204/x86_64  InRelease\n",
            "Hit:5 https://deb.nodesource.com/node_16.x jammy InRelease\n",
            "Hit:6 http://archive.ubuntu.com/ubuntu jammy-backports InRelease\n",
            "Hit:7 http://security.ubuntu.com/ubuntu jammy-security InRelease\n",
            "Hit:8 https://ppa.launchpadcontent.net/c2d4u.team/c2d4u4.0+/ubuntu jammy InRelease\n",
            "Hit:9 https://ppa.launchpadcontent.net/deadsnakes/ppa/ubuntu jammy InRelease\n",
            "Hit:10 https://ppa.launchpadcontent.net/graphics-drivers/ppa/ubuntu jammy InRelease\n",
            "Hit:11 https://ppa.launchpadcontent.net/ubuntugis/ppa/ubuntu jammy InRelease\n",
            "Reading package lists... Done\n",
            "\n",
            "## Confirming \"jammy\" is supported...\n",
            "\n",
            "+ curl -sLf -o /dev/null 'https://deb.nodesource.com/node_16.x/dists/jammy/Release'\n",
            "\n",
            "## Adding the NodeSource signing key to your keyring...\n",
            "\n",
            "+ curl -s https://deb.nodesource.com/gpgkey/nodesource.gpg.key | gpg --dearmor | tee /usr/share/keyrings/nodesource.gpg >/dev/null\n",
            "\n",
            "## Creating apt sources list file for the NodeSource Node.js 16.x repo...\n",
            "\n",
            "+ echo 'deb [signed-by=/usr/share/keyrings/nodesource.gpg] https://deb.nodesource.com/node_16.x jammy main' > /etc/apt/sources.list.d/nodesource.list\n",
            "+ echo 'deb-src [signed-by=/usr/share/keyrings/nodesource.gpg] https://deb.nodesource.com/node_16.x jammy main' >> /etc/apt/sources.list.d/nodesource.list\n",
            "\n",
            "## Running `apt-get update` for you...\n",
            "\n",
            "+ apt-get update\n",
            "Hit:1 http://security.ubuntu.com/ubuntu jammy-security InRelease\n",
            "Hit:2 http://archive.ubuntu.com/ubuntu jammy InRelease\n",
            "Hit:3 http://archive.ubuntu.com/ubuntu jammy-updates InRelease\n",
            "Hit:4 https://cloud.r-project.org/bin/linux/ubuntu jammy-cran40/ InRelease\n",
            "Hit:5 https://developer.download.nvidia.com/compute/cuda/repos/ubuntu2204/x86_64  InRelease\n",
            "Hit:6 http://archive.ubuntu.com/ubuntu jammy-backports InRelease\n",
            "Hit:7 https://deb.nodesource.com/node_16.x jammy InRelease\n",
            "Hit:8 https://ppa.launchpadcontent.net/c2d4u.team/c2d4u4.0+/ubuntu jammy InRelease\n",
            "Hit:9 https://ppa.launchpadcontent.net/deadsnakes/ppa/ubuntu jammy InRelease\n",
            "Hit:10 https://ppa.launchpadcontent.net/graphics-drivers/ppa/ubuntu jammy InRelease\n",
            "Hit:11 https://ppa.launchpadcontent.net/ubuntugis/ppa/ubuntu jammy InRelease\n",
            "Reading package lists... Done\n",
            "\n",
            "## Run `\u001b[1msudo apt-get install -y nodejs\u001b[m` to install Node.js 16.x and npm\n",
            "## You may also need development tools to build native addons:\n",
            "     sudo apt-get install gcc g++ make\n",
            "## To install the Yarn package manager, run:\n",
            "     curl -sL https://dl.yarnpkg.com/debian/pubkey.gpg | gpg --dearmor | sudo tee /usr/share/keyrings/yarnkey.gpg >/dev/null\n",
            "     echo \"deb [signed-by=/usr/share/keyrings/yarnkey.gpg] https://dl.yarnpkg.com/debian stable main\" | sudo tee /etc/apt/sources.list.d/yarn.list\n",
            "     sudo apt-get update && sudo apt-get install yarn\n",
            "\n",
            "\n",
            "Reading package lists... Done\n",
            "Building dependency tree... Done\n",
            "Reading state information... Done\n",
            "nodejs is already the newest version (16.20.2-deb-1nodesource1).\n",
            "0 upgraded, 0 newly installed, 0 to remove and 19 not upgraded.\n",
            "Collecting git+https://github.com/neelnanda-io/PySvelte.git\n",
            "  Cloning https://github.com/neelnanda-io/PySvelte.git to /tmp/pip-req-build-bu5l2bvs\n",
            "  Running command git clone --filter=blob:none --quiet https://github.com/neelnanda-io/PySvelte.git /tmp/pip-req-build-bu5l2bvs\n",
            "  Resolved https://github.com/neelnanda-io/PySvelte.git to commit 6f5d971a148d40fb7481d400ae74551b37340e83\n",
            "  Preparing metadata (setup.py) ... \u001b[?25l\u001b[?25hdone\n",
            "Requirement already satisfied: einops in /usr/local/lib/python3.10/dist-packages (from PySvelte==1.0.0) (0.6.1)\n",
            "Requirement already satisfied: numpy in /usr/local/lib/python3.10/dist-packages (from PySvelte==1.0.0) (1.23.5)\n",
            "Requirement already satisfied: torch in /usr/local/lib/python3.10/dist-packages (from PySvelte==1.0.0) (2.0.1+cu118)\n",
            "Requirement already satisfied: datasets in /usr/local/lib/python3.10/dist-packages (from PySvelte==1.0.0) (2.14.4)\n",
            "Requirement already satisfied: transformers in /usr/local/lib/python3.10/dist-packages (from PySvelte==1.0.0) (4.32.1)\n",
            "Requirement already satisfied: tqdm in /usr/local/lib/python3.10/dist-packages (from PySvelte==1.0.0) (4.66.1)\n",
            "Requirement already satisfied: pandas in /usr/local/lib/python3.10/dist-packages (from PySvelte==1.0.0) (1.5.3)\n",
            "Requirement already satisfied: typeguard~=2.0 in /usr/local/lib/python3.10/dist-packages (from PySvelte==1.0.0) (2.13.3)\n",
            "Requirement already satisfied: pyarrow>=8.0.0 in /usr/local/lib/python3.10/dist-packages (from datasets->PySvelte==1.0.0) (9.0.0)\n",
            "Requirement already satisfied: dill<0.3.8,>=0.3.0 in /usr/local/lib/python3.10/dist-packages (from datasets->PySvelte==1.0.0) (0.3.7)\n",
            "Requirement already satisfied: requests>=2.19.0 in /usr/local/lib/python3.10/dist-packages (from datasets->PySvelte==1.0.0) (2.31.0)\n",
            "Requirement already satisfied: xxhash in /usr/local/lib/python3.10/dist-packages (from datasets->PySvelte==1.0.0) (3.3.0)\n",
            "Requirement already satisfied: multiprocess in /usr/local/lib/python3.10/dist-packages (from datasets->PySvelte==1.0.0) (0.70.15)\n",
            "Requirement already satisfied: fsspec[http]>=2021.11.1 in /usr/local/lib/python3.10/dist-packages (from datasets->PySvelte==1.0.0) (2023.6.0)\n",
            "Requirement already satisfied: aiohttp in /usr/local/lib/python3.10/dist-packages (from datasets->PySvelte==1.0.0) (3.8.5)\n",
            "Requirement already satisfied: huggingface-hub<1.0.0,>=0.14.0 in /usr/local/lib/python3.10/dist-packages (from datasets->PySvelte==1.0.0) (0.16.4)\n",
            "Requirement already satisfied: packaging in /usr/local/lib/python3.10/dist-packages (from datasets->PySvelte==1.0.0) (23.1)\n",
            "Requirement already satisfied: pyyaml>=5.1 in /usr/local/lib/python3.10/dist-packages (from datasets->PySvelte==1.0.0) (6.0.1)\n",
            "Requirement already satisfied: python-dateutil>=2.8.1 in /usr/local/lib/python3.10/dist-packages (from pandas->PySvelte==1.0.0) (2.8.2)\n",
            "Requirement already satisfied: pytz>=2020.1 in /usr/local/lib/python3.10/dist-packages (from pandas->PySvelte==1.0.0) (2023.3)\n",
            "Requirement already satisfied: filelock in /usr/local/lib/python3.10/dist-packages (from torch->PySvelte==1.0.0) (3.12.2)\n",
            "Requirement already satisfied: typing-extensions in /usr/local/lib/python3.10/dist-packages (from torch->PySvelte==1.0.0) (4.7.1)\n",
            "Requirement already satisfied: sympy in /usr/local/lib/python3.10/dist-packages (from torch->PySvelte==1.0.0) (1.12)\n",
            "Requirement already satisfied: networkx in /usr/local/lib/python3.10/dist-packages (from torch->PySvelte==1.0.0) (3.1)\n",
            "Requirement already satisfied: jinja2 in /usr/local/lib/python3.10/dist-packages (from torch->PySvelte==1.0.0) (3.1.2)\n",
            "Requirement already satisfied: triton==2.0.0 in /usr/local/lib/python3.10/dist-packages (from torch->PySvelte==1.0.0) (2.0.0)\n",
            "Requirement already satisfied: cmake in /usr/local/lib/python3.10/dist-packages (from triton==2.0.0->torch->PySvelte==1.0.0) (3.27.2)\n",
            "Requirement already satisfied: lit in /usr/local/lib/python3.10/dist-packages (from triton==2.0.0->torch->PySvelte==1.0.0) (16.0.6)\n",
            "Requirement already satisfied: regex!=2019.12.17 in /usr/local/lib/python3.10/dist-packages (from transformers->PySvelte==1.0.0) (2023.6.3)\n",
            "Requirement already satisfied: tokenizers!=0.11.3,<0.14,>=0.11.1 in /usr/local/lib/python3.10/dist-packages (from transformers->PySvelte==1.0.0) (0.13.3)\n",
            "Requirement already satisfied: safetensors>=0.3.1 in /usr/local/lib/python3.10/dist-packages (from transformers->PySvelte==1.0.0) (0.3.3)\n",
            "Requirement already satisfied: attrs>=17.3.0 in /usr/local/lib/python3.10/dist-packages (from aiohttp->datasets->PySvelte==1.0.0) (23.1.0)\n",
            "Requirement already satisfied: charset-normalizer<4.0,>=2.0 in /usr/local/lib/python3.10/dist-packages (from aiohttp->datasets->PySvelte==1.0.0) (3.2.0)\n",
            "Requirement already satisfied: multidict<7.0,>=4.5 in /usr/local/lib/python3.10/dist-packages (from aiohttp->datasets->PySvelte==1.0.0) (6.0.4)\n",
            "Requirement already satisfied: async-timeout<5.0,>=4.0.0a3 in /usr/local/lib/python3.10/dist-packages (from aiohttp->datasets->PySvelte==1.0.0) (4.0.3)\n",
            "Requirement already satisfied: yarl<2.0,>=1.0 in /usr/local/lib/python3.10/dist-packages (from aiohttp->datasets->PySvelte==1.0.0) (1.9.2)\n",
            "Requirement already satisfied: frozenlist>=1.1.1 in /usr/local/lib/python3.10/dist-packages (from aiohttp->datasets->PySvelte==1.0.0) (1.4.0)\n",
            "Requirement already satisfied: aiosignal>=1.1.2 in /usr/local/lib/python3.10/dist-packages (from aiohttp->datasets->PySvelte==1.0.0) (1.3.1)\n",
            "Requirement already satisfied: six>=1.5 in /usr/local/lib/python3.10/dist-packages (from python-dateutil>=2.8.1->pandas->PySvelte==1.0.0) (1.16.0)\n",
            "Requirement already satisfied: idna<4,>=2.5 in /usr/local/lib/python3.10/dist-packages (from requests>=2.19.0->datasets->PySvelte==1.0.0) (3.4)\n",
            "Requirement already satisfied: urllib3<3,>=1.21.1 in /usr/local/lib/python3.10/dist-packages (from requests>=2.19.0->datasets->PySvelte==1.0.0) (2.0.4)\n",
            "Requirement already satisfied: certifi>=2017.4.17 in /usr/local/lib/python3.10/dist-packages (from requests>=2.19.0->datasets->PySvelte==1.0.0) (2023.7.22)\n",
            "Requirement already satisfied: MarkupSafe>=2.0 in /usr/local/lib/python3.10/dist-packages (from jinja2->torch->PySvelte==1.0.0) (2.1.3)\n",
            "Requirement already satisfied: mpmath>=0.19 in /usr/local/lib/python3.10/dist-packages (from sympy->torch->PySvelte==1.0.0) (1.3.0)\n",
            "Requirement already satisfied: typeguard==2.13.3 in /usr/local/lib/python3.10/dist-packages (2.13.3)\n"
          ]
        }
      ],
      "source": [
        "# Janky code to do different setup when run in a Colab notebook vs VSCode\n",
        "DEBUG_MODE = False\n",
        "try:\n",
        "    import google.colab\n",
        "    IN_COLAB = True\n",
        "    print(\"Running as a Colab notebook\")\n",
        "    %pip install git+https://github.com/neelnanda-io/TransformerLens.git\n",
        "    # Install another version of node that makes PySvelte work way faster\n",
        "    !curl -fsSL https://deb.nodesource.com/setup_16.x | sudo -E bash -; sudo apt-get install -y nodejs\n",
        "    %pip install git+https://github.com/neelnanda-io/PySvelte.git\n",
        "    # Needed for PySvelte to work, v3 came out and broke things...\n",
        "    %pip install typeguard==2.13.3\n",
        "except:\n",
        "    IN_COLAB = False\n",
        "    print(\"Running as a Jupyter notebook - intended for development only!\")\n",
        "    from IPython import get_ipython\n",
        "\n",
        "    ipython = get_ipython()\n",
        "    # Code to automatically update the HookedTransformer code as its edited without restarting the kernel\n",
        "    ipython.magic(\"load_ext autoreload\")\n",
        "    ipython.magic(\"autoreload 2\")"
      ]
    },
    {
      "cell_type": "code",
      "execution_count": 3,
      "metadata": {
        "id": "ucSutS0c1kAw"
      },
      "outputs": [],
      "source": [
        "# Plotly needs a different renderer for VSCode/Notebooks vs Colab argh\n",
        "import plotly.io as pio\n",
        "\n",
        "if IN_COLAB or not DEBUG_MODE:\n",
        "    # Thanks to annoying rendering issues, Plotly graphics will either show up in colab OR Vscode depending on the renderer - this is bad for developing demos! Thus creating a debug mode.\n",
        "    pio.renderers.default = \"colab\"\n",
        "else:\n",
        "    pio.renderers.default = \"png\""
      ]
    },
    {
      "cell_type": "code",
      "execution_count": 4,
      "metadata": {
        "id": "uR_n0Mrl1kAx"
      },
      "outputs": [],
      "source": [
        "# Import stuff\n",
        "import torch\n",
        "import torch.nn as nn\n",
        "import torch.nn.functional as F\n",
        "import torch.optim as optim\n",
        "import numpy as np\n",
        "import einops\n",
        "import tqdm.notebook as tqdm\n",
        "import random\n",
        "from pathlib import Path\n",
        "import plotly.express as px\n",
        "from torch.utils.data import DataLoader\n",
        "\n",
        "from jaxtyping import Float, Int\n",
        "from typing import List, Union, Optional\n",
        "from functools import partial\n",
        "import copy\n",
        "\n",
        "import itertools\n",
        "from transformers import AutoModelForCausalLM, AutoConfig, AutoTokenizer\n",
        "import dataclasses\n",
        "from dataclasses import dataclass\n",
        "import datasets\n",
        "from IPython.display import HTML"
      ]
    },
    {
      "cell_type": "code",
      "execution_count": 5,
      "metadata": {
        "id": "YSZhMtBl1kAx"
      },
      "outputs": [],
      "source": [
        "import pysvelte\n",
        "\n",
        "import transformer_lens\n",
        "import transformer_lens.utils as utils\n",
        "from transformer_lens.hook_points import (\n",
        "    HookedRootModule,\n",
        "    HookPoint,\n",
        ")  # Hooking utilities\n",
        "from transformer_lens import HookedTransformer, HookedTransformerConfig, FactoredMatrix, ActivationCache"
      ]
    },
    {
      "cell_type": "markdown",
      "metadata": {
        "id": "DPzBb_kI1kAy"
      },
      "source": [
        "Plotting helper functions:"
      ]
    },
    {
      "cell_type": "code",
      "execution_count": 6,
      "metadata": {
        "id": "fBIDNqzV1kAy"
      },
      "outputs": [],
      "source": [
        "import plotly.graph_objects as go\n",
        "\n",
        "update_layout_set = {\"xaxis_range\", \"yaxis_range\", \"hovermode\", \"xaxis_title\", \"yaxis_title\", \"colorbar\", \"colorscale\", \"coloraxis\", \"title_x\", \"bargap\", \"bargroupgap\", \"xaxis_tickformat\", \"yaxis_tickformat\", \"title_y\", \"legend_title_text\", \"xaxis_showgrid\", \"xaxis_gridwidth\", \"xaxis_gridcolor\", \"yaxis_showgrid\", \"yaxis_gridwidth\"}\n",
        "def imshow(tensor, renderer=None, xaxis=\"\", yaxis=\"\", **kwargs):\n",
        "    if isinstance(tensor, list):\n",
        "        tensor = torch.stack(tensor)\n",
        "    kwargs_post = {k: v for k, v in kwargs.items() if k in update_layout_set}\n",
        "    kwargs_pre = {k: v for k, v in kwargs.items() if k not in update_layout_set}\n",
        "    if \"facet_labels\" in kwargs_pre:\n",
        "        facet_labels = kwargs_pre.pop(\"facet_labels\")\n",
        "    else:\n",
        "        facet_labels = None\n",
        "    if \"color_continuous_scale\" not in kwargs_pre:\n",
        "        kwargs_pre[\"color_continuous_scale\"] = \"RdBu\"\n",
        "    fig = px.imshow(utils.to_numpy(tensor), color_continuous_midpoint=0.0,labels={\"x\":xaxis, \"y\":yaxis}, **kwargs_pre).update_layout(**kwargs_post)\n",
        "    if facet_labels:\n",
        "        for i, label in enumerate(facet_labels):\n",
        "            fig.layout.annotations[i]['text'] = label\n",
        "\n",
        "    fig.show(renderer)\n",
        "\n",
        "def line(tensor, renderer=None, xaxis=\"\", yaxis=\"\", **kwargs):\n",
        "    px.line(y=utils.to_numpy(tensor), labels={\"x\":xaxis, \"y\":yaxis}, **kwargs).show(renderer)\n",
        "\n",
        "def scatter(x, y, xaxis=\"\", yaxis=\"\", caxis=\"\", renderer=None, **kwargs):\n",
        "    x = utils.to_numpy(x)\n",
        "    y = utils.to_numpy(y)\n",
        "    px.scatter(y=y, x=x, labels={\"x\":xaxis, \"y\":yaxis, \"color\":caxis}, **kwargs).show(renderer)\n",
        "\n",
        "def lines(lines_list, x=None, mode='lines', labels=None, xaxis='', yaxis='', title = '', log_y=False, hover=None, **kwargs):\n",
        "    # Helper function to plot multiple lines\n",
        "    if type(lines_list)==torch.Tensor:\n",
        "        lines_list = [lines_list[i] for i in range(lines_list.shape[0])]\n",
        "    if x is None:\n",
        "        x=np.arange(len(lines_list[0]))\n",
        "    fig = go.Figure(layout={'title':title})\n",
        "    fig.update_xaxes(title=xaxis)\n",
        "    fig.update_yaxes(title=yaxis)\n",
        "    for c, line in enumerate(lines_list):\n",
        "        if type(line)==torch.Tensor:\n",
        "            line = utils.to_numpy(line)\n",
        "        if labels is not None:\n",
        "            label = labels[c]\n",
        "        else:\n",
        "            label = c\n",
        "        fig.add_trace(go.Scatter(x=x, y=line, mode=mode, name=label, hovertext=hover, **kwargs))\n",
        "    if log_y:\n",
        "        fig.update_layout(yaxis_type=\"log\")\n",
        "    fig.show()\n",
        "\n",
        "def bar(tensor, renderer=None, xaxis=\"\", yaxis=\"\", **kwargs):\n",
        "    px.bar(\n",
        "        y=utils.to_numpy(tensor),\n",
        "        labels={\"x\": xaxis, \"y\": yaxis},\n",
        "        template=\"simple_white\",\n",
        "        **kwargs).show(renderer)"
      ]
    },
    {
      "cell_type": "code",
      "source": [
        "import transformer_lens.patching as patching\n",
        "from transformer_lens import evals\n",
        "import math"
      ],
      "metadata": {
        "id": "MzEwzeib1tjE"
      },
      "execution_count": 7,
      "outputs": []
    },
    {
      "cell_type": "code",
      "source": [
        "def visualize_attn_patterns(heads, local_tokens, local_cache, title: str = \"\"):\n",
        "    labels = []\n",
        "    patterns = []\n",
        "    batch_index = 0\n",
        "\n",
        "    for head in heads:\n",
        "        if isinstance(head, tuple):\n",
        "            layer, head_index = head\n",
        "        else:\n",
        "            layer, head_index = head // model.cfg.n_heads, head % model.cfg.n_heads\n",
        "        patterns.append(local_cache[\"pattern\", layer][batch_index, head_index])\n",
        "        labels.append(f\"L{layer}H{head_index}\")\n",
        "    patterns = torch.stack(patterns, dim=-1)\n",
        "    attn_viz = pysvelte.AttentionMulti(tokens=model.to_str_tokens(local_tokens[batch_index]), attention=patterns, head_labels=labels)\n",
        "    display(HTML(f\"<h3>{title}</h3>\"))\n",
        "    attn_viz.show()"
      ],
      "metadata": {
        "id": "AgWNZo0c7sp3"
      },
      "execution_count": 8,
      "outputs": []
    },
    {
      "cell_type": "markdown",
      "source": [
        "# Load Model"
      ],
      "metadata": {
        "id": "HdPsT2ZOxeua"
      }
    },
    {
      "cell_type": "code",
      "execution_count": 9,
      "metadata": {
        "id": "llysLeEq1kAy",
        "colab": {
          "base_uri": "https://localhost:8080/"
        },
        "outputId": "6d4614d0-8b63-4f3a-da6c-c0ff2aeec3d1"
      },
      "outputs": [
        {
          "output_type": "execute_result",
          "data": {
            "text/plain": [
              "<torch.autograd.grad_mode.set_grad_enabled at 0x7d81e1ed4400>"
            ]
          },
          "metadata": {},
          "execution_count": 9
        }
      ],
      "source": [
        "torch.set_grad_enabled(False)"
      ]
    },
    {
      "cell_type": "code",
      "source": [
        "device = 'cuda' if torch.cuda.is_available() else 'cpu'\n",
        "print(device)"
      ],
      "metadata": {
        "id": "S0QibP7y7xCm",
        "colab": {
          "base_uri": "https://localhost:8080/"
        },
        "outputId": "f48c0d48-8fc3-4591-afba-1dfab428db59"
      },
      "execution_count": 10,
      "outputs": [
        {
          "output_type": "stream",
          "name": "stdout",
          "text": [
            "cuda\n"
          ]
        }
      ]
    },
    {
      "cell_type": "markdown",
      "source": [
        "The smallest model I found that can learn this task is a 2L, 1H, attn-only transformer with no biases or layernorms. I also use [shortformer](https://github.com/neelnanda-io/TransformerLens/blob/main/further_comments.md#shortformer-attention-positional_embeddings_type--shortformer) positional embeddings to make things cleaner.\n",
        "\n",
        "![picture](https://drive.google.com/uc?id=115AlOlXFE24PMYugkPeAadrkrh-hkOcS)\n",
        "\n",
        "The model has already been trained and is loaded into this notebook below:"
      ],
      "metadata": {
        "id": "b_5rCpws87wa"
      }
    },
    {
      "cell_type": "code",
      "source": [
        "LIST_LEN = 3\n",
        "MAX_NUM = 50\n",
        "cfg = HookedTransformerConfig(\n",
        "    n_layers=2,\n",
        "    n_heads=1,\n",
        "    d_model=128,\n",
        "    d_head=128,\n",
        "    n_ctx=2*LIST_LEN+3+2, #BOS a1 a2 a3 \\n idx elt \\n b1 b2 b3\n",
        "    d_vocab=MAX_NUM+2, #0,...,MAX_NUM-1, BOS, \\n\n",
        "    d_vocab_out=MAX_NUM,\n",
        "    attn_only=True,\n",
        "    normalization_type=None,\n",
        "    positional_embedding_type=\"shortformer\",\n",
        "    device=device,\n",
        "    seed=0\n",
        ")\n",
        "\n",
        "model = HookedTransformer(cfg)\n",
        "print(model)"
      ],
      "metadata": {
        "id": "7SU1oTr-9Mq3",
        "colab": {
          "base_uri": "https://localhost:8080/"
        },
        "outputId": "eb4c3971-862b-4481-d69b-18ec98f677b3"
      },
      "execution_count": 11,
      "outputs": [
        {
          "output_type": "stream",
          "name": "stdout",
          "text": [
            "HookedTransformer(\n",
            "  (embed): Embed()\n",
            "  (hook_embed): HookPoint()\n",
            "  (pos_embed): PosEmbed()\n",
            "  (hook_pos_embed): HookPoint()\n",
            "  (blocks): ModuleList(\n",
            "    (0-1): 2 x TransformerBlock(\n",
            "      (ln1): Identity()\n",
            "      (attn): Attention(\n",
            "        (hook_k): HookPoint()\n",
            "        (hook_q): HookPoint()\n",
            "        (hook_v): HookPoint()\n",
            "        (hook_z): HookPoint()\n",
            "        (hook_attn_scores): HookPoint()\n",
            "        (hook_pattern): HookPoint()\n",
            "        (hook_result): HookPoint()\n",
            "        (hook_attn_input): HookPoint()\n",
            "      )\n",
            "      (hook_q_input): HookPoint()\n",
            "      (hook_k_input): HookPoint()\n",
            "      (hook_v_input): HookPoint()\n",
            "      (hook_attn_out): HookPoint()\n",
            "      (hook_mlp_in): HookPoint()\n",
            "      (hook_mlp_out): HookPoint()\n",
            "      (hook_resid_pre): HookPoint()\n",
            "      (hook_resid_post): HookPoint()\n",
            "    )\n",
            "  )\n",
            "  (unembed): Unembed()\n",
            ")\n"
          ]
        }
      ]
    },
    {
      "cell_type": "code",
      "source": [
        "filename = \"mech-interp-practice/models/array_indexing_model.pt\"\n",
        "state_dict = torch.load(filename)\n",
        "model.load_state_dict(state_dict, strict=True)"
      ],
      "metadata": {
        "colab": {
          "base_uri": "https://localhost:8080/"
        },
        "id": "IoacBM0l8jU3",
        "outputId": "16568c1f-6697-4e6e-9201-b754b353ce44"
      },
      "execution_count": 12,
      "outputs": [
        {
          "output_type": "execute_result",
          "data": {
            "text/plain": [
              "<All keys matched successfully>"
            ]
          },
          "metadata": {},
          "execution_count": 12
        }
      ]
    },
    {
      "cell_type": "markdown",
      "source": [
        "# Task description"
      ],
      "metadata": {
        "id": "EAaxfkzv8y4c"
      }
    },
    {
      "cell_type": "markdown",
      "source": [
        "Given an array 'a', and integers 'idx' and 'elt', the model is trained to update a[idx] = elt, while keeping the other elements of 'a' the same. The input is always of the form:\n",
        "\n",
        "\n",
        "```\n",
        "BOS a_0 a_1 a_2 \\n idx elt \\n b_0 b_1 b_2\n",
        "```\n",
        "\n",
        "\n",
        "* BOS (50) is a special token at the start of every sequence\n",
        "* '\\n' (51) is supposed to represent a newline character. These are also always at the same positions for every sequence. (You can just think of it as a special \"MID\" token too)\n",
        "* [a_0, a_1, a_2] is the original list before updating.\n",
        "* “idx” is the index of the list we are to update\n",
        "* “elt” is the new element we are writing to “idx” in the list\n",
        "* [b_0, b_1, b_2] is the correct new list after the update: b_{idx} = elt. Otherwise b_i = a_i for i != idx.\n",
        "\n",
        "\n",
        "For a concrete example, consider:\n",
        "\n",
        "\n",
        "```\n",
        "BOS 1 2 3 \\n 2 4 \\n 1 2 4\n",
        "```\n",
        "\n",
        "\n",
        "In this example [1,2,3] is the original list, idx=2 and elt=4. Thus the model should just update a[2]=4, predicting [1, 2, 4].\n",
        "\n",
        "\n",
        "\n",
        "\n",
        "The list length is fixed to 3 for every example that the model sees in training. The model is trained to predict [b_0, b_1, b_2] at positions [\\n, b_0, b_1] respectively.\n",
        "\n",
        "\n",
        "Below I prove a data loader and sample tokens that you can use to start investigating the model."
      ],
      "metadata": {
        "id": "zPtSYF6uZwer"
      }
    },
    {
      "cell_type": "code",
      "source": [
        "def make_data_generator(cfg, batch_size, seed=0):\n",
        "    torch.manual_seed(seed)\n",
        "    BOS_TOKEN = cfg.d_vocab-2\n",
        "    NEW_LINE_TOKEN = cfg.d_vocab-1\n",
        "    while True:\n",
        "        bos_vec = (torch.ones(batch_size) * BOS_TOKEN)[:, None]\n",
        "        nl_vec = (torch.ones(batch_size) * NEW_LINE_TOKEN)[:, None]\n",
        "\n",
        "        list_toks = torch.randint(0, MAX_NUM, (batch_size, LIST_LEN))\n",
        "\n",
        "        idx_tok = random.randint(0, LIST_LEN-1)\n",
        "        idx_vec = (torch.ones(batch_size) * idx_tok)[:, None]\n",
        "\n",
        "        elt_tok = random.randint(0, MAX_NUM-1)\n",
        "        elt_vec = (torch.ones(batch_size) * elt_tok)[:, None]\n",
        "\n",
        "        ans_toks = list_toks.clone()\n",
        "        ans_toks[:, idx_tok] = elt_tok\n",
        "\n",
        "        x = torch.cat([bos_vec, list_toks, nl_vec, idx_vec, elt_vec, nl_vec, ans_toks], dim=-1).to(torch.long)\n",
        "        yield x\n",
        "\n",
        "batch_size = 256\n",
        "data_loader = make_data_generator(cfg, batch_size, seed=42)\n",
        "\n",
        "test_sample = next(data_loader).to(device)\n",
        "print(test_sample.shape)\n",
        "print(test_sample[:5])"
      ],
      "metadata": {
        "colab": {
          "base_uri": "https://localhost:8080/"
        },
        "id": "6_KI3PXC8sg6",
        "outputId": "d9c9533a-b0e3-42c4-f58b-c332dfb059c7"
      },
      "execution_count": 13,
      "outputs": [
        {
          "output_type": "stream",
          "name": "stdout",
          "text": [
            "torch.Size([256, 11])\n",
            "tensor([[50, 42, 17, 26, 51,  1, 48, 51, 42, 48, 26],\n",
            "        [50, 14, 26, 35, 51,  1, 48, 51, 14, 48, 35],\n",
            "        [50, 20, 24,  0, 51,  1, 48, 51, 20, 48,  0],\n",
            "        [50, 13, 28, 14, 51,  1, 48, 51, 13, 48, 14],\n",
            "        [50, 10,  4, 31, 51,  1, 48, 51, 10, 48, 31]], device='cuda:0')\n"
          ]
        }
      ]
    },
    {
      "cell_type": "markdown",
      "source": [
        "The model was trained to minimize cross entropy loss. I provide the exact loss function used during training below:"
      ],
      "metadata": {
        "id": "hCqehbL_-r34"
      }
    },
    {
      "cell_type": "code",
      "source": [
        "def loss_fn(logits, tokens):\n",
        "    logits = logits[:, -LIST_LEN-1:-1, :]\n",
        "    logits = logits.to(torch.float64)\n",
        "    labels = tokens[:, -LIST_LEN:]\n",
        "    log_probs = logits.log_softmax(dim=-1)\n",
        "    correct_log_probs = log_probs.gather(dim=-1, index=labels[..., None])[..., 0]\n",
        "    return -correct_log_probs.mean()"
      ],
      "metadata": {
        "id": "5x43pj-_-syE"
      },
      "execution_count": 14,
      "outputs": []
    },
    {
      "cell_type": "markdown",
      "source": [
        "# Solution"
      ],
      "metadata": {
        "id": "AjDiUTRAVt4Y"
      }
    },
    {
      "cell_type": "markdown",
      "source": [
        "## Sanity Check"
      ],
      "metadata": {
        "id": "9hhwTAl8AEfL"
      }
    },
    {
      "cell_type": "markdown",
      "source": [
        "Let's start by sanity checking that the model has successfully learned this task:"
      ],
      "metadata": {
        "id": "CDNEndjnaDj0"
      }
    },
    {
      "cell_type": "code",
      "source": [
        "with torch.inference_mode():\n",
        "    logits = model(test_sample)\n",
        "    logits = logits[:, -LIST_LEN-1:-1, :]\n",
        "    preds = logits.argmax(dim=-1)\n",
        "\n",
        "    labels = test_sample[:, -LIST_LEN:]\n",
        "\n",
        "    acc = (preds == labels).float().mean()\n",
        "    print(\"Test sample accuracy:\", acc.item())"
      ],
      "metadata": {
        "colab": {
          "base_uri": "https://localhost:8080/"
        },
        "id": "FmIr1clXADaP",
        "outputId": "20d1a100-64de-4cdf-9ed0-8efc87028789"
      },
      "execution_count": 15,
      "outputs": [
        {
          "output_type": "stream",
          "name": "stdout",
          "text": [
            "Test sample accuracy: 1.0\n"
          ]
        }
      ]
    },
    {
      "cell_type": "markdown",
      "source": [
        "## Direct logit attribution"
      ],
      "metadata": {
        "id": "7qdT2sf4BCwv"
      }
    },
    {
      "cell_type": "markdown",
      "source": [
        "We can start with direct logit attribution to determine what bits of the model are writing information that is directly used to make the correct prediction. For simplicity, we will just start with the first prediction rather than dealing with all 3.\n",
        "\n",
        "\n",
        "As usual, we can start with the logit lens technique. Since I deliberately tried to train the smallest model, we expect that the model will need both layers to make the correct prediction\n"
      ],
      "metadata": {
        "id": "ZjcULDKCBF6D"
      }
    },
    {
      "cell_type": "code",
      "source": [
        "original_logits, cache = model.run_with_cache(test_sample)\n",
        "print(original_logits.shape)\n",
        "print(cache)"
      ],
      "metadata": {
        "colab": {
          "base_uri": "https://localhost:8080/"
        },
        "id": "8r1ua8gkAYO1",
        "outputId": "aee1ee5a-d363-4ce2-8d04-aab2a919a5dd"
      },
      "execution_count": 16,
      "outputs": [
        {
          "output_type": "stream",
          "name": "stdout",
          "text": [
            "torch.Size([256, 11, 50])\n",
            "ActivationCache with keys ['hook_embed', 'hook_pos_embed', 'blocks.0.hook_resid_pre', 'blocks.0.attn.hook_q', 'blocks.0.attn.hook_k', 'blocks.0.attn.hook_v', 'blocks.0.attn.hook_attn_scores', 'blocks.0.attn.hook_pattern', 'blocks.0.attn.hook_z', 'blocks.0.hook_attn_out', 'blocks.0.hook_resid_post', 'blocks.1.hook_resid_pre', 'blocks.1.attn.hook_q', 'blocks.1.attn.hook_k', 'blocks.1.attn.hook_v', 'blocks.1.attn.hook_attn_scores', 'blocks.1.attn.hook_pattern', 'blocks.1.attn.hook_z', 'blocks.1.hook_attn_out', 'blocks.1.hook_resid_post']\n"
          ]
        }
      ]
    },
    {
      "cell_type": "code",
      "source": [
        "first_pred_pos = -LIST_LEN-1"
      ],
      "metadata": {
        "id": "darsnZlcWwfw"
      },
      "execution_count": 17,
      "outputs": []
    },
    {
      "cell_type": "code",
      "source": [
        "accumulated_resid_stack, labels = cache.accumulated_resid(layer=-1, pos_slice=first_pred_pos, return_labels=True)\n",
        "print(accumulated_resid_stack.shape) # accumulated_resid_stack has shape [n_components, batch, d_model]\n",
        "print(labels) # These correspond to each component. Thus it will have length n_components"
      ],
      "metadata": {
        "colab": {
          "base_uri": "https://localhost:8080/"
        },
        "id": "K59dW26OBRKS",
        "outputId": "82d2c1db-bc20-475d-8537-a294188ef836"
      },
      "execution_count": 18,
      "outputs": [
        {
          "output_type": "stream",
          "name": "stdout",
          "text": [
            "torch.Size([3, 256, 128])\n",
            "['0_pre', '1_pre', 'final_post']\n"
          ]
        }
      ]
    },
    {
      "cell_type": "code",
      "source": [
        "logit_dirs = model.tokens_to_residual_directions(test_sample[:, -LIST_LEN])\n",
        "print(logit_dirs.shape)"
      ],
      "metadata": {
        "colab": {
          "base_uri": "https://localhost:8080/"
        },
        "id": "hlSmlGfsBmlh",
        "outputId": "94dbb91f-fe5a-4a2a-f186-ddbaea4dc821"
      },
      "execution_count": 19,
      "outputs": [
        {
          "output_type": "stream",
          "name": "stdout",
          "text": [
            "torch.Size([256, 128])\n"
          ]
        }
      ]
    },
    {
      "cell_type": "code",
      "source": [
        "accumulated_contrib = einops.einsum(\n",
        "    accumulated_resid_stack, logit_dirs,\n",
        "    \"n_comp batch d_model, batch d_model -> n_comp\"\n",
        ") / accumulated_resid_stack.shape[1]\n",
        "\n",
        "\n",
        "line(\n",
        "    accumulated_contrib,\n",
        "    title=\"Logit lens: prefix contribution to correct logit dirs\",\n",
        "    xaxis=\"Layer\", yaxis=\"Contribution\",\n",
        "    x=labels\n",
        ")"
      ],
      "metadata": {
        "colab": {
          "base_uri": "https://localhost:8080/",
          "height": 542
        },
        "id": "dFx87Ar6BdyN",
        "outputId": "5838f610-5779-4d68-8b37-748253d780ca"
      },
      "execution_count": 20,
      "outputs": [
        {
          "output_type": "display_data",
          "data": {
            "text/html": [
              "<html>\n",
              "<head><meta charset=\"utf-8\" /></head>\n",
              "<body>\n",
              "    <div>            <script src=\"https://cdnjs.cloudflare.com/ajax/libs/mathjax/2.7.5/MathJax.js?config=TeX-AMS-MML_SVG\"></script><script type=\"text/javascript\">if (window.MathJax && window.MathJax.Hub && window.MathJax.Hub.Config) {window.MathJax.Hub.Config({SVG: {font: \"STIX-Web\"}});}</script>                <script type=\"text/javascript\">window.PlotlyConfig = {MathJaxConfig: 'local'};</script>\n",
              "        <script charset=\"utf-8\" src=\"https://cdn.plot.ly/plotly-2.24.1.min.js\"></script>                <div id=\"ab1c3ed1-02b4-4a06-989c-00a4a5f021ed\" class=\"plotly-graph-div\" style=\"height:525px; width:100%;\"></div>            <script type=\"text/javascript\">                                    window.PLOTLYENV=window.PLOTLYENV || {};                                    if (document.getElementById(\"ab1c3ed1-02b4-4a06-989c-00a4a5f021ed\")) {                    Plotly.newPlot(                        \"ab1c3ed1-02b4-4a06-989c-00a4a5f021ed\",                        [{\"hovertemplate\":\"Layer=%{x}\\u003cbr\\u003eContribution=%{y}\\u003cextra\\u003e\\u003c\\u002fextra\\u003e\",\"legendgroup\":\"\",\"line\":{\"color\":\"#636efa\",\"dash\":\"solid\"},\"marker\":{\"symbol\":\"circle\"},\"mode\":\"lines\",\"name\":\"\",\"orientation\":\"v\",\"showlegend\":false,\"x\":[\"0_pre\",\"1_pre\",\"final_post\"],\"xaxis\":\"x\",\"y\":[-0.1272260844707489,1.0824016332626343,21.799087524414062],\"yaxis\":\"y\",\"type\":\"scatter\"}],                        {\"template\":{\"data\":{\"histogram2dcontour\":[{\"type\":\"histogram2dcontour\",\"colorbar\":{\"outlinewidth\":0,\"ticks\":\"\"},\"colorscale\":[[0.0,\"#0d0887\"],[0.1111111111111111,\"#46039f\"],[0.2222222222222222,\"#7201a8\"],[0.3333333333333333,\"#9c179e\"],[0.4444444444444444,\"#bd3786\"],[0.5555555555555556,\"#d8576b\"],[0.6666666666666666,\"#ed7953\"],[0.7777777777777778,\"#fb9f3a\"],[0.8888888888888888,\"#fdca26\"],[1.0,\"#f0f921\"]]}],\"choropleth\":[{\"type\":\"choropleth\",\"colorbar\":{\"outlinewidth\":0,\"ticks\":\"\"}}],\"histogram2d\":[{\"type\":\"histogram2d\",\"colorbar\":{\"outlinewidth\":0,\"ticks\":\"\"},\"colorscale\":[[0.0,\"#0d0887\"],[0.1111111111111111,\"#46039f\"],[0.2222222222222222,\"#7201a8\"],[0.3333333333333333,\"#9c179e\"],[0.4444444444444444,\"#bd3786\"],[0.5555555555555556,\"#d8576b\"],[0.6666666666666666,\"#ed7953\"],[0.7777777777777778,\"#fb9f3a\"],[0.8888888888888888,\"#fdca26\"],[1.0,\"#f0f921\"]]}],\"heatmap\":[{\"type\":\"heatmap\",\"colorbar\":{\"outlinewidth\":0,\"ticks\":\"\"},\"colorscale\":[[0.0,\"#0d0887\"],[0.1111111111111111,\"#46039f\"],[0.2222222222222222,\"#7201a8\"],[0.3333333333333333,\"#9c179e\"],[0.4444444444444444,\"#bd3786\"],[0.5555555555555556,\"#d8576b\"],[0.6666666666666666,\"#ed7953\"],[0.7777777777777778,\"#fb9f3a\"],[0.8888888888888888,\"#fdca26\"],[1.0,\"#f0f921\"]]}],\"heatmapgl\":[{\"type\":\"heatmapgl\",\"colorbar\":{\"outlinewidth\":0,\"ticks\":\"\"},\"colorscale\":[[0.0,\"#0d0887\"],[0.1111111111111111,\"#46039f\"],[0.2222222222222222,\"#7201a8\"],[0.3333333333333333,\"#9c179e\"],[0.4444444444444444,\"#bd3786\"],[0.5555555555555556,\"#d8576b\"],[0.6666666666666666,\"#ed7953\"],[0.7777777777777778,\"#fb9f3a\"],[0.8888888888888888,\"#fdca26\"],[1.0,\"#f0f921\"]]}],\"contourcarpet\":[{\"type\":\"contourcarpet\",\"colorbar\":{\"outlinewidth\":0,\"ticks\":\"\"}}],\"contour\":[{\"type\":\"contour\",\"colorbar\":{\"outlinewidth\":0,\"ticks\":\"\"},\"colorscale\":[[0.0,\"#0d0887\"],[0.1111111111111111,\"#46039f\"],[0.2222222222222222,\"#7201a8\"],[0.3333333333333333,\"#9c179e\"],[0.4444444444444444,\"#bd3786\"],[0.5555555555555556,\"#d8576b\"],[0.6666666666666666,\"#ed7953\"],[0.7777777777777778,\"#fb9f3a\"],[0.8888888888888888,\"#fdca26\"],[1.0,\"#f0f921\"]]}],\"surface\":[{\"type\":\"surface\",\"colorbar\":{\"outlinewidth\":0,\"ticks\":\"\"},\"colorscale\":[[0.0,\"#0d0887\"],[0.1111111111111111,\"#46039f\"],[0.2222222222222222,\"#7201a8\"],[0.3333333333333333,\"#9c179e\"],[0.4444444444444444,\"#bd3786\"],[0.5555555555555556,\"#d8576b\"],[0.6666666666666666,\"#ed7953\"],[0.7777777777777778,\"#fb9f3a\"],[0.8888888888888888,\"#fdca26\"],[1.0,\"#f0f921\"]]}],\"mesh3d\":[{\"type\":\"mesh3d\",\"colorbar\":{\"outlinewidth\":0,\"ticks\":\"\"}}],\"scatter\":[{\"fillpattern\":{\"fillmode\":\"overlay\",\"size\":10,\"solidity\":0.2},\"type\":\"scatter\"}],\"parcoords\":[{\"type\":\"parcoords\",\"line\":{\"colorbar\":{\"outlinewidth\":0,\"ticks\":\"\"}}}],\"scatterpolargl\":[{\"type\":\"scatterpolargl\",\"marker\":{\"colorbar\":{\"outlinewidth\":0,\"ticks\":\"\"}}}],\"bar\":[{\"error_x\":{\"color\":\"#2a3f5f\"},\"error_y\":{\"color\":\"#2a3f5f\"},\"marker\":{\"line\":{\"color\":\"#E5ECF6\",\"width\":0.5},\"pattern\":{\"fillmode\":\"overlay\",\"size\":10,\"solidity\":0.2}},\"type\":\"bar\"}],\"scattergeo\":[{\"type\":\"scattergeo\",\"marker\":{\"colorbar\":{\"outlinewidth\":0,\"ticks\":\"\"}}}],\"scatterpolar\":[{\"type\":\"scatterpolar\",\"marker\":{\"colorbar\":{\"outlinewidth\":0,\"ticks\":\"\"}}}],\"histogram\":[{\"marker\":{\"pattern\":{\"fillmode\":\"overlay\",\"size\":10,\"solidity\":0.2}},\"type\":\"histogram\"}],\"scattergl\":[{\"type\":\"scattergl\",\"marker\":{\"colorbar\":{\"outlinewidth\":0,\"ticks\":\"\"}}}],\"scatter3d\":[{\"type\":\"scatter3d\",\"line\":{\"colorbar\":{\"outlinewidth\":0,\"ticks\":\"\"}},\"marker\":{\"colorbar\":{\"outlinewidth\":0,\"ticks\":\"\"}}}],\"scattermapbox\":[{\"type\":\"scattermapbox\",\"marker\":{\"colorbar\":{\"outlinewidth\":0,\"ticks\":\"\"}}}],\"scatterternary\":[{\"type\":\"scatterternary\",\"marker\":{\"colorbar\":{\"outlinewidth\":0,\"ticks\":\"\"}}}],\"scattercarpet\":[{\"type\":\"scattercarpet\",\"marker\":{\"colorbar\":{\"outlinewidth\":0,\"ticks\":\"\"}}}],\"carpet\":[{\"aaxis\":{\"endlinecolor\":\"#2a3f5f\",\"gridcolor\":\"white\",\"linecolor\":\"white\",\"minorgridcolor\":\"white\",\"startlinecolor\":\"#2a3f5f\"},\"baxis\":{\"endlinecolor\":\"#2a3f5f\",\"gridcolor\":\"white\",\"linecolor\":\"white\",\"minorgridcolor\":\"white\",\"startlinecolor\":\"#2a3f5f\"},\"type\":\"carpet\"}],\"table\":[{\"cells\":{\"fill\":{\"color\":\"#EBF0F8\"},\"line\":{\"color\":\"white\"}},\"header\":{\"fill\":{\"color\":\"#C8D4E3\"},\"line\":{\"color\":\"white\"}},\"type\":\"table\"}],\"barpolar\":[{\"marker\":{\"line\":{\"color\":\"#E5ECF6\",\"width\":0.5},\"pattern\":{\"fillmode\":\"overlay\",\"size\":10,\"solidity\":0.2}},\"type\":\"barpolar\"}],\"pie\":[{\"automargin\":true,\"type\":\"pie\"}]},\"layout\":{\"autotypenumbers\":\"strict\",\"colorway\":[\"#636efa\",\"#EF553B\",\"#00cc96\",\"#ab63fa\",\"#FFA15A\",\"#19d3f3\",\"#FF6692\",\"#B6E880\",\"#FF97FF\",\"#FECB52\"],\"font\":{\"color\":\"#2a3f5f\"},\"hovermode\":\"closest\",\"hoverlabel\":{\"align\":\"left\"},\"paper_bgcolor\":\"white\",\"plot_bgcolor\":\"#E5ECF6\",\"polar\":{\"bgcolor\":\"#E5ECF6\",\"angularaxis\":{\"gridcolor\":\"white\",\"linecolor\":\"white\",\"ticks\":\"\"},\"radialaxis\":{\"gridcolor\":\"white\",\"linecolor\":\"white\",\"ticks\":\"\"}},\"ternary\":{\"bgcolor\":\"#E5ECF6\",\"aaxis\":{\"gridcolor\":\"white\",\"linecolor\":\"white\",\"ticks\":\"\"},\"baxis\":{\"gridcolor\":\"white\",\"linecolor\":\"white\",\"ticks\":\"\"},\"caxis\":{\"gridcolor\":\"white\",\"linecolor\":\"white\",\"ticks\":\"\"}},\"coloraxis\":{\"colorbar\":{\"outlinewidth\":0,\"ticks\":\"\"}},\"colorscale\":{\"sequential\":[[0.0,\"#0d0887\"],[0.1111111111111111,\"#46039f\"],[0.2222222222222222,\"#7201a8\"],[0.3333333333333333,\"#9c179e\"],[0.4444444444444444,\"#bd3786\"],[0.5555555555555556,\"#d8576b\"],[0.6666666666666666,\"#ed7953\"],[0.7777777777777778,\"#fb9f3a\"],[0.8888888888888888,\"#fdca26\"],[1.0,\"#f0f921\"]],\"sequentialminus\":[[0.0,\"#0d0887\"],[0.1111111111111111,\"#46039f\"],[0.2222222222222222,\"#7201a8\"],[0.3333333333333333,\"#9c179e\"],[0.4444444444444444,\"#bd3786\"],[0.5555555555555556,\"#d8576b\"],[0.6666666666666666,\"#ed7953\"],[0.7777777777777778,\"#fb9f3a\"],[0.8888888888888888,\"#fdca26\"],[1.0,\"#f0f921\"]],\"diverging\":[[0,\"#8e0152\"],[0.1,\"#c51b7d\"],[0.2,\"#de77ae\"],[0.3,\"#f1b6da\"],[0.4,\"#fde0ef\"],[0.5,\"#f7f7f7\"],[0.6,\"#e6f5d0\"],[0.7,\"#b8e186\"],[0.8,\"#7fbc41\"],[0.9,\"#4d9221\"],[1,\"#276419\"]]},\"xaxis\":{\"gridcolor\":\"white\",\"linecolor\":\"white\",\"ticks\":\"\",\"title\":{\"standoff\":15},\"zerolinecolor\":\"white\",\"automargin\":true,\"zerolinewidth\":2},\"yaxis\":{\"gridcolor\":\"white\",\"linecolor\":\"white\",\"ticks\":\"\",\"title\":{\"standoff\":15},\"zerolinecolor\":\"white\",\"automargin\":true,\"zerolinewidth\":2},\"scene\":{\"xaxis\":{\"backgroundcolor\":\"#E5ECF6\",\"gridcolor\":\"white\",\"linecolor\":\"white\",\"showbackground\":true,\"ticks\":\"\",\"zerolinecolor\":\"white\",\"gridwidth\":2},\"yaxis\":{\"backgroundcolor\":\"#E5ECF6\",\"gridcolor\":\"white\",\"linecolor\":\"white\",\"showbackground\":true,\"ticks\":\"\",\"zerolinecolor\":\"white\",\"gridwidth\":2},\"zaxis\":{\"backgroundcolor\":\"#E5ECF6\",\"gridcolor\":\"white\",\"linecolor\":\"white\",\"showbackground\":true,\"ticks\":\"\",\"zerolinecolor\":\"white\",\"gridwidth\":2}},\"shapedefaults\":{\"line\":{\"color\":\"#2a3f5f\"}},\"annotationdefaults\":{\"arrowcolor\":\"#2a3f5f\",\"arrowhead\":0,\"arrowwidth\":1},\"geo\":{\"bgcolor\":\"white\",\"landcolor\":\"#E5ECF6\",\"subunitcolor\":\"white\",\"showland\":true,\"showlakes\":true,\"lakecolor\":\"white\"},\"title\":{\"x\":0.05},\"mapbox\":{\"style\":\"light\"}}},\"xaxis\":{\"anchor\":\"y\",\"domain\":[0.0,1.0],\"title\":{\"text\":\"Layer\"}},\"yaxis\":{\"anchor\":\"x\",\"domain\":[0.0,1.0],\"title\":{\"text\":\"Contribution\"}},\"legend\":{\"tracegroupgap\":0},\"title\":{\"text\":\"Logit lens: prefix contribution to correct logit dirs\"}},                        {\"responsive\": true}                    ).then(function(){\n",
              "                            \n",
              "var gd = document.getElementById('ab1c3ed1-02b4-4a06-989c-00a4a5f021ed');\n",
              "var x = new MutationObserver(function (mutations, observer) {{\n",
              "        var display = window.getComputedStyle(gd).display;\n",
              "        if (!display || display === 'none') {{\n",
              "            console.log([gd, 'removed!']);\n",
              "            Plotly.purge(gd);\n",
              "            observer.disconnect();\n",
              "        }}\n",
              "}});\n",
              "\n",
              "// Listen for the removal of the full notebook cells\n",
              "var notebookContainer = gd.closest('#notebook-container');\n",
              "if (notebookContainer) {{\n",
              "    x.observe(notebookContainer, {childList: true});\n",
              "}}\n",
              "\n",
              "// Listen for the clearing of the current output cell\n",
              "var outputEl = gd.closest('.output');\n",
              "if (outputEl) {{\n",
              "    x.observe(outputEl, {childList: true});\n",
              "}}\n",
              "\n",
              "                        })                };                            </script>        </div>\n",
              "</body>\n",
              "</html>"
            ]
          },
          "metadata": {}
        }
      ]
    },
    {
      "cell_type": "markdown",
      "source": [
        "We see that the model does seem to need both layers, as expected. We can also decompose each component to sanity check this:"
      ],
      "metadata": {
        "id": "SUsQrs4JXGRN"
      }
    },
    {
      "cell_type": "code",
      "source": [
        "decomposed_resid_stack, labels = cache.decompose_resid(layer=-1, pos_slice=first_pred_pos, return_labels=True)\n",
        "print(decomposed_resid_stack.shape)\n",
        "print(labels)"
      ],
      "metadata": {
        "colab": {
          "base_uri": "https://localhost:8080/"
        },
        "id": "59xokHqDB5tB",
        "outputId": "84532967-5e29-4e67-f765-8895344f90ca"
      },
      "execution_count": 21,
      "outputs": [
        {
          "output_type": "stream",
          "name": "stdout",
          "text": [
            "torch.Size([4, 256, 128])\n",
            "['embed', 'pos_embed', '0_attn_out', '1_attn_out']\n"
          ]
        }
      ]
    },
    {
      "cell_type": "code",
      "source": [
        "decomposed_contrib = einops.einsum(\n",
        "    decomposed_resid_stack, logit_dirs,\n",
        "    \"n_comp batch d_model, batch d_model -> n_comp\"\n",
        ") / decomposed_resid_stack.shape[1]\n",
        "\n",
        "\n",
        "line(\n",
        "    decomposed_contrib,\n",
        "    title=\"Per component contribution to correct logit dirs\",\n",
        "    xaxis=\"Layer\", yaxis=\"Contribution\",\n",
        "    x=labels\n",
        ")"
      ],
      "metadata": {
        "colab": {
          "base_uri": "https://localhost:8080/",
          "height": 542
        },
        "id": "ygPhYNdNCfGj",
        "outputId": "ce8abbc9-303b-419b-e7eb-3b5d139d5462"
      },
      "execution_count": 22,
      "outputs": [
        {
          "output_type": "display_data",
          "data": {
            "text/html": [
              "<html>\n",
              "<head><meta charset=\"utf-8\" /></head>\n",
              "<body>\n",
              "    <div>            <script src=\"https://cdnjs.cloudflare.com/ajax/libs/mathjax/2.7.5/MathJax.js?config=TeX-AMS-MML_SVG\"></script><script type=\"text/javascript\">if (window.MathJax && window.MathJax.Hub && window.MathJax.Hub.Config) {window.MathJax.Hub.Config({SVG: {font: \"STIX-Web\"}});}</script>                <script type=\"text/javascript\">window.PlotlyConfig = {MathJaxConfig: 'local'};</script>\n",
              "        <script charset=\"utf-8\" src=\"https://cdn.plot.ly/plotly-2.24.1.min.js\"></script>                <div id=\"a4181fe0-485c-4075-b329-7499f19c5acf\" class=\"plotly-graph-div\" style=\"height:525px; width:100%;\"></div>            <script type=\"text/javascript\">                                    window.PLOTLYENV=window.PLOTLYENV || {};                                    if (document.getElementById(\"a4181fe0-485c-4075-b329-7499f19c5acf\")) {                    Plotly.newPlot(                        \"a4181fe0-485c-4075-b329-7499f19c5acf\",                        [{\"hovertemplate\":\"Layer=%{x}\\u003cbr\\u003eContribution=%{y}\\u003cextra\\u003e\\u003c\\u002fextra\\u003e\",\"legendgroup\":\"\",\"line\":{\"color\":\"#636efa\",\"dash\":\"solid\"},\"marker\":{\"symbol\":\"circle\"},\"mode\":\"lines\",\"name\":\"\",\"orientation\":\"v\",\"showlegend\":false,\"x\":[\"embed\",\"pos_embed\",\"0_attn_out\",\"1_attn_out\"],\"xaxis\":\"x\",\"y\":[-0.1272260844707489,-0.07242756336927414,1.2096278667449951,20.716686248779297],\"yaxis\":\"y\",\"type\":\"scatter\"}],                        {\"template\":{\"data\":{\"histogram2dcontour\":[{\"type\":\"histogram2dcontour\",\"colorbar\":{\"outlinewidth\":0,\"ticks\":\"\"},\"colorscale\":[[0.0,\"#0d0887\"],[0.1111111111111111,\"#46039f\"],[0.2222222222222222,\"#7201a8\"],[0.3333333333333333,\"#9c179e\"],[0.4444444444444444,\"#bd3786\"],[0.5555555555555556,\"#d8576b\"],[0.6666666666666666,\"#ed7953\"],[0.7777777777777778,\"#fb9f3a\"],[0.8888888888888888,\"#fdca26\"],[1.0,\"#f0f921\"]]}],\"choropleth\":[{\"type\":\"choropleth\",\"colorbar\":{\"outlinewidth\":0,\"ticks\":\"\"}}],\"histogram2d\":[{\"type\":\"histogram2d\",\"colorbar\":{\"outlinewidth\":0,\"ticks\":\"\"},\"colorscale\":[[0.0,\"#0d0887\"],[0.1111111111111111,\"#46039f\"],[0.2222222222222222,\"#7201a8\"],[0.3333333333333333,\"#9c179e\"],[0.4444444444444444,\"#bd3786\"],[0.5555555555555556,\"#d8576b\"],[0.6666666666666666,\"#ed7953\"],[0.7777777777777778,\"#fb9f3a\"],[0.8888888888888888,\"#fdca26\"],[1.0,\"#f0f921\"]]}],\"heatmap\":[{\"type\":\"heatmap\",\"colorbar\":{\"outlinewidth\":0,\"ticks\":\"\"},\"colorscale\":[[0.0,\"#0d0887\"],[0.1111111111111111,\"#46039f\"],[0.2222222222222222,\"#7201a8\"],[0.3333333333333333,\"#9c179e\"],[0.4444444444444444,\"#bd3786\"],[0.5555555555555556,\"#d8576b\"],[0.6666666666666666,\"#ed7953\"],[0.7777777777777778,\"#fb9f3a\"],[0.8888888888888888,\"#fdca26\"],[1.0,\"#f0f921\"]]}],\"heatmapgl\":[{\"type\":\"heatmapgl\",\"colorbar\":{\"outlinewidth\":0,\"ticks\":\"\"},\"colorscale\":[[0.0,\"#0d0887\"],[0.1111111111111111,\"#46039f\"],[0.2222222222222222,\"#7201a8\"],[0.3333333333333333,\"#9c179e\"],[0.4444444444444444,\"#bd3786\"],[0.5555555555555556,\"#d8576b\"],[0.6666666666666666,\"#ed7953\"],[0.7777777777777778,\"#fb9f3a\"],[0.8888888888888888,\"#fdca26\"],[1.0,\"#f0f921\"]]}],\"contourcarpet\":[{\"type\":\"contourcarpet\",\"colorbar\":{\"outlinewidth\":0,\"ticks\":\"\"}}],\"contour\":[{\"type\":\"contour\",\"colorbar\":{\"outlinewidth\":0,\"ticks\":\"\"},\"colorscale\":[[0.0,\"#0d0887\"],[0.1111111111111111,\"#46039f\"],[0.2222222222222222,\"#7201a8\"],[0.3333333333333333,\"#9c179e\"],[0.4444444444444444,\"#bd3786\"],[0.5555555555555556,\"#d8576b\"],[0.6666666666666666,\"#ed7953\"],[0.7777777777777778,\"#fb9f3a\"],[0.8888888888888888,\"#fdca26\"],[1.0,\"#f0f921\"]]}],\"surface\":[{\"type\":\"surface\",\"colorbar\":{\"outlinewidth\":0,\"ticks\":\"\"},\"colorscale\":[[0.0,\"#0d0887\"],[0.1111111111111111,\"#46039f\"],[0.2222222222222222,\"#7201a8\"],[0.3333333333333333,\"#9c179e\"],[0.4444444444444444,\"#bd3786\"],[0.5555555555555556,\"#d8576b\"],[0.6666666666666666,\"#ed7953\"],[0.7777777777777778,\"#fb9f3a\"],[0.8888888888888888,\"#fdca26\"],[1.0,\"#f0f921\"]]}],\"mesh3d\":[{\"type\":\"mesh3d\",\"colorbar\":{\"outlinewidth\":0,\"ticks\":\"\"}}],\"scatter\":[{\"fillpattern\":{\"fillmode\":\"overlay\",\"size\":10,\"solidity\":0.2},\"type\":\"scatter\"}],\"parcoords\":[{\"type\":\"parcoords\",\"line\":{\"colorbar\":{\"outlinewidth\":0,\"ticks\":\"\"}}}],\"scatterpolargl\":[{\"type\":\"scatterpolargl\",\"marker\":{\"colorbar\":{\"outlinewidth\":0,\"ticks\":\"\"}}}],\"bar\":[{\"error_x\":{\"color\":\"#2a3f5f\"},\"error_y\":{\"color\":\"#2a3f5f\"},\"marker\":{\"line\":{\"color\":\"#E5ECF6\",\"width\":0.5},\"pattern\":{\"fillmode\":\"overlay\",\"size\":10,\"solidity\":0.2}},\"type\":\"bar\"}],\"scattergeo\":[{\"type\":\"scattergeo\",\"marker\":{\"colorbar\":{\"outlinewidth\":0,\"ticks\":\"\"}}}],\"scatterpolar\":[{\"type\":\"scatterpolar\",\"marker\":{\"colorbar\":{\"outlinewidth\":0,\"ticks\":\"\"}}}],\"histogram\":[{\"marker\":{\"pattern\":{\"fillmode\":\"overlay\",\"size\":10,\"solidity\":0.2}},\"type\":\"histogram\"}],\"scattergl\":[{\"type\":\"scattergl\",\"marker\":{\"colorbar\":{\"outlinewidth\":0,\"ticks\":\"\"}}}],\"scatter3d\":[{\"type\":\"scatter3d\",\"line\":{\"colorbar\":{\"outlinewidth\":0,\"ticks\":\"\"}},\"marker\":{\"colorbar\":{\"outlinewidth\":0,\"ticks\":\"\"}}}],\"scattermapbox\":[{\"type\":\"scattermapbox\",\"marker\":{\"colorbar\":{\"outlinewidth\":0,\"ticks\":\"\"}}}],\"scatterternary\":[{\"type\":\"scatterternary\",\"marker\":{\"colorbar\":{\"outlinewidth\":0,\"ticks\":\"\"}}}],\"scattercarpet\":[{\"type\":\"scattercarpet\",\"marker\":{\"colorbar\":{\"outlinewidth\":0,\"ticks\":\"\"}}}],\"carpet\":[{\"aaxis\":{\"endlinecolor\":\"#2a3f5f\",\"gridcolor\":\"white\",\"linecolor\":\"white\",\"minorgridcolor\":\"white\",\"startlinecolor\":\"#2a3f5f\"},\"baxis\":{\"endlinecolor\":\"#2a3f5f\",\"gridcolor\":\"white\",\"linecolor\":\"white\",\"minorgridcolor\":\"white\",\"startlinecolor\":\"#2a3f5f\"},\"type\":\"carpet\"}],\"table\":[{\"cells\":{\"fill\":{\"color\":\"#EBF0F8\"},\"line\":{\"color\":\"white\"}},\"header\":{\"fill\":{\"color\":\"#C8D4E3\"},\"line\":{\"color\":\"white\"}},\"type\":\"table\"}],\"barpolar\":[{\"marker\":{\"line\":{\"color\":\"#E5ECF6\",\"width\":0.5},\"pattern\":{\"fillmode\":\"overlay\",\"size\":10,\"solidity\":0.2}},\"type\":\"barpolar\"}],\"pie\":[{\"automargin\":true,\"type\":\"pie\"}]},\"layout\":{\"autotypenumbers\":\"strict\",\"colorway\":[\"#636efa\",\"#EF553B\",\"#00cc96\",\"#ab63fa\",\"#FFA15A\",\"#19d3f3\",\"#FF6692\",\"#B6E880\",\"#FF97FF\",\"#FECB52\"],\"font\":{\"color\":\"#2a3f5f\"},\"hovermode\":\"closest\",\"hoverlabel\":{\"align\":\"left\"},\"paper_bgcolor\":\"white\",\"plot_bgcolor\":\"#E5ECF6\",\"polar\":{\"bgcolor\":\"#E5ECF6\",\"angularaxis\":{\"gridcolor\":\"white\",\"linecolor\":\"white\",\"ticks\":\"\"},\"radialaxis\":{\"gridcolor\":\"white\",\"linecolor\":\"white\",\"ticks\":\"\"}},\"ternary\":{\"bgcolor\":\"#E5ECF6\",\"aaxis\":{\"gridcolor\":\"white\",\"linecolor\":\"white\",\"ticks\":\"\"},\"baxis\":{\"gridcolor\":\"white\",\"linecolor\":\"white\",\"ticks\":\"\"},\"caxis\":{\"gridcolor\":\"white\",\"linecolor\":\"white\",\"ticks\":\"\"}},\"coloraxis\":{\"colorbar\":{\"outlinewidth\":0,\"ticks\":\"\"}},\"colorscale\":{\"sequential\":[[0.0,\"#0d0887\"],[0.1111111111111111,\"#46039f\"],[0.2222222222222222,\"#7201a8\"],[0.3333333333333333,\"#9c179e\"],[0.4444444444444444,\"#bd3786\"],[0.5555555555555556,\"#d8576b\"],[0.6666666666666666,\"#ed7953\"],[0.7777777777777778,\"#fb9f3a\"],[0.8888888888888888,\"#fdca26\"],[1.0,\"#f0f921\"]],\"sequentialminus\":[[0.0,\"#0d0887\"],[0.1111111111111111,\"#46039f\"],[0.2222222222222222,\"#7201a8\"],[0.3333333333333333,\"#9c179e\"],[0.4444444444444444,\"#bd3786\"],[0.5555555555555556,\"#d8576b\"],[0.6666666666666666,\"#ed7953\"],[0.7777777777777778,\"#fb9f3a\"],[0.8888888888888888,\"#fdca26\"],[1.0,\"#f0f921\"]],\"diverging\":[[0,\"#8e0152\"],[0.1,\"#c51b7d\"],[0.2,\"#de77ae\"],[0.3,\"#f1b6da\"],[0.4,\"#fde0ef\"],[0.5,\"#f7f7f7\"],[0.6,\"#e6f5d0\"],[0.7,\"#b8e186\"],[0.8,\"#7fbc41\"],[0.9,\"#4d9221\"],[1,\"#276419\"]]},\"xaxis\":{\"gridcolor\":\"white\",\"linecolor\":\"white\",\"ticks\":\"\",\"title\":{\"standoff\":15},\"zerolinecolor\":\"white\",\"automargin\":true,\"zerolinewidth\":2},\"yaxis\":{\"gridcolor\":\"white\",\"linecolor\":\"white\",\"ticks\":\"\",\"title\":{\"standoff\":15},\"zerolinecolor\":\"white\",\"automargin\":true,\"zerolinewidth\":2},\"scene\":{\"xaxis\":{\"backgroundcolor\":\"#E5ECF6\",\"gridcolor\":\"white\",\"linecolor\":\"white\",\"showbackground\":true,\"ticks\":\"\",\"zerolinecolor\":\"white\",\"gridwidth\":2},\"yaxis\":{\"backgroundcolor\":\"#E5ECF6\",\"gridcolor\":\"white\",\"linecolor\":\"white\",\"showbackground\":true,\"ticks\":\"\",\"zerolinecolor\":\"white\",\"gridwidth\":2},\"zaxis\":{\"backgroundcolor\":\"#E5ECF6\",\"gridcolor\":\"white\",\"linecolor\":\"white\",\"showbackground\":true,\"ticks\":\"\",\"zerolinecolor\":\"white\",\"gridwidth\":2}},\"shapedefaults\":{\"line\":{\"color\":\"#2a3f5f\"}},\"annotationdefaults\":{\"arrowcolor\":\"#2a3f5f\",\"arrowhead\":0,\"arrowwidth\":1},\"geo\":{\"bgcolor\":\"white\",\"landcolor\":\"#E5ECF6\",\"subunitcolor\":\"white\",\"showland\":true,\"showlakes\":true,\"lakecolor\":\"white\"},\"title\":{\"x\":0.05},\"mapbox\":{\"style\":\"light\"}}},\"xaxis\":{\"anchor\":\"y\",\"domain\":[0.0,1.0],\"title\":{\"text\":\"Layer\"}},\"yaxis\":{\"anchor\":\"x\",\"domain\":[0.0,1.0],\"title\":{\"text\":\"Contribution\"}},\"legend\":{\"tracegroupgap\":0},\"title\":{\"text\":\"Per component contribution to correct logit dirs\"}},                        {\"responsive\": true}                    ).then(function(){\n",
              "                            \n",
              "var gd = document.getElementById('a4181fe0-485c-4075-b329-7499f19c5acf');\n",
              "var x = new MutationObserver(function (mutations, observer) {{\n",
              "        var display = window.getComputedStyle(gd).display;\n",
              "        if (!display || display === 'none') {{\n",
              "            console.log([gd, 'removed!']);\n",
              "            Plotly.purge(gd);\n",
              "            observer.disconnect();\n",
              "        }}\n",
              "}});\n",
              "\n",
              "// Listen for the removal of the full notebook cells\n",
              "var notebookContainer = gd.closest('#notebook-container');\n",
              "if (notebookContainer) {{\n",
              "    x.observe(notebookContainer, {childList: true});\n",
              "}}\n",
              "\n",
              "// Listen for the clearing of the current output cell\n",
              "var outputEl = gd.closest('.output');\n",
              "if (outputEl) {{\n",
              "    x.observe(outputEl, {childList: true});\n",
              "}}\n",
              "\n",
              "                        })                };                            </script>        </div>\n",
              "</body>\n",
              "</html>"
            ]
          },
          "metadata": {}
        }
      ]
    },
    {
      "cell_type": "markdown",
      "source": [
        "We see the output of attn head 1.0 stands out. (Note that since we are using shortformer positional embeddings, the \"pos_embed\" term doesn't actually mean anything)\n",
        "\n",
        "\n",
        "Since this is an attn-only model with the correct answers in the context, a natural hypothesis is that the last head attends to the correct answer and copies. We can start by staring at the attn patterns for head 1.0:"
      ],
      "metadata": {
        "id": "G22OS-AACm1k"
      }
    },
    {
      "cell_type": "markdown",
      "source": [
        "## Stare at 1.0 patterns"
      ],
      "metadata": {
        "id": "nxOnMp3aCt_J"
      }
    },
    {
      "cell_type": "markdown",
      "source": [
        "First we will look at the average pattern over the entire test sample."
      ],
      "metadata": {
        "id": "786GBL0NCzQZ"
      }
    },
    {
      "cell_type": "code",
      "source": [
        "def tokens_to_labels(tokens):\n",
        "    if tokens.ndim==2:\n",
        "        tokens = tokens[0]\n",
        "    res = [f\"{tok}_{i}\" for i, tok in enumerate(tokens)]\n",
        "    res[0] = \"BOS\"\n",
        "    res[LIST_LEN+1] = \"nl_0\"\n",
        "    res[-LIST_LEN-1] = \"nl_1\"\n",
        "    return res\n",
        "\n",
        "labels = tokens_to_labels(test_sample[1])\n",
        "print(labels)"
      ],
      "metadata": {
        "colab": {
          "base_uri": "https://localhost:8080/"
        },
        "id": "fk92IjJpDAxW",
        "outputId": "566e2d3b-a632-4c92-cb6f-92b2e84898c1"
      },
      "execution_count": 23,
      "outputs": [
        {
          "output_type": "stream",
          "name": "stdout",
          "text": [
            "['BOS', '14_1', '26_2', '35_3', 'nl_0', '1_5', '48_6', 'nl_1', '14_8', '48_9', '35_10']\n"
          ]
        }
      ]
    },
    {
      "cell_type": "code",
      "source": [
        "layer, head_index = 1, 0\n",
        "imshow(\n",
        "    cache['pattern', layer][:, head_index, :, :].mean(dim=0), # TL attn patterns (cache['pattern', layer]) has shape [batch, n_heads, dest_pos, src_pos]\n",
        "    title=f\"Attn {layer}.{head_index} patterns (avged over batch)\",\n",
        "    xaxis=\"src\", yaxis=\"dest\",\n",
        "    x=labels, y=labels\n",
        ")"
      ],
      "metadata": {
        "colab": {
          "base_uri": "https://localhost:8080/",
          "height": 542
        },
        "id": "f00-qRC_Cybi",
        "outputId": "7160cbe7-5985-4f47-b83d-7c6afdb88933"
      },
      "execution_count": 24,
      "outputs": [
        {
          "output_type": "display_data",
          "data": {
            "text/html": [
              "<html>\n",
              "<head><meta charset=\"utf-8\" /></head>\n",
              "<body>\n",
              "    <div>            <script src=\"https://cdnjs.cloudflare.com/ajax/libs/mathjax/2.7.5/MathJax.js?config=TeX-AMS-MML_SVG\"></script><script type=\"text/javascript\">if (window.MathJax && window.MathJax.Hub && window.MathJax.Hub.Config) {window.MathJax.Hub.Config({SVG: {font: \"STIX-Web\"}});}</script>                <script type=\"text/javascript\">window.PlotlyConfig = {MathJaxConfig: 'local'};</script>\n",
              "        <script charset=\"utf-8\" src=\"https://cdn.plot.ly/plotly-2.24.1.min.js\"></script>                <div id=\"67e89d8c-099f-40ad-aed5-4585261441ad\" class=\"plotly-graph-div\" style=\"height:525px; width:100%;\"></div>            <script type=\"text/javascript\">                                    window.PLOTLYENV=window.PLOTLYENV || {};                                    if (document.getElementById(\"67e89d8c-099f-40ad-aed5-4585261441ad\")) {                    Plotly.newPlot(                        \"67e89d8c-099f-40ad-aed5-4585261441ad\",                        [{\"coloraxis\":\"coloraxis\",\"name\":\"0\",\"x\":[\"BOS\",\"14_1\",\"26_2\",\"35_3\",\"nl_0\",\"1_5\",\"48_6\",\"nl_1\",\"14_8\",\"48_9\",\"35_10\"],\"y\":[\"BOS\",\"14_1\",\"26_2\",\"35_3\",\"nl_0\",\"1_5\",\"48_6\",\"nl_1\",\"14_8\",\"48_9\",\"35_10\"],\"z\":[[1.0,0.0,0.0,0.0,0.0,0.0,0.0,0.0,0.0,0.0,0.0],[0.7582782506942749,0.2417217195034027,0.0,0.0,0.0,0.0,0.0,0.0,0.0,0.0,0.0],[0.5502336621284485,0.17568153142929077,0.27408480644226074,0.0,0.0,0.0,0.0,0.0,0.0,0.0,0.0],[0.31283968687057495,0.13843339681625366,0.15362781286239624,0.39509910345077515,0.0,0.0,0.0,0.0,0.0,0.0,0.0],[0.008124527521431446,0.8225682973861694,0.12028525769710541,0.04063139855861664,0.008390498347580433,0.0,0.0,0.0,0.0,0.0,0.0],[0.060583461076021194,0.20832592248916626,0.27374333143234253,0.3308125436306,0.024061065167188644,0.1024736687541008,0.0,0.0,0.0,0.0,0.0],[0.14146560430526733,0.1413205862045288,0.1303105652332306,0.20903049409389496,0.11188732832670212,0.14449231326580048,0.12149312347173691,0.0,0.0,0.0,0.0],[4.3754353100666776e-05,0.9920814037322998,0.003807543544098735,0.0014628455974161625,7.07118451828137e-05,0.0022129130084067583,6.852902879472822e-05,0.00025229010498151183,0.0,0.0,0.0],[7.853839747440361e-07,2.5120293685176875e-06,0.0020216493867337704,9.272530405723955e-06,2.1139909733847162e-07,1.9287108443677425e-06,0.9979613423347473,1.773410929217789e-07,2.097301603498636e-06,0.0,0.0],[0.0005352124571800232,0.000290228083031252,0.0010623736307024956,0.9943027496337891,3.899343028024305e-06,0.0006149053806439042,0.002969597466289997,6.592090358026326e-06,5.031881300965324e-05,0.00016409857198596,0.0],[0.09408380836248398,0.04228149354457855,0.10218816250562668,0.1601828634738922,0.056360796093940735,0.07199881225824356,0.23630067706108093,0.05326731130480766,0.04968884587287903,0.05698586255311966,0.0766613706946373]],\"type\":\"heatmap\",\"xaxis\":\"x\",\"yaxis\":\"y\",\"hovertemplate\":\"src: %{x}\\u003cbr\\u003edest: %{y}\\u003cbr\\u003ecolor: %{z}\\u003cextra\\u003e\\u003c\\u002fextra\\u003e\"}],                        {\"template\":{\"data\":{\"histogram2dcontour\":[{\"type\":\"histogram2dcontour\",\"colorbar\":{\"outlinewidth\":0,\"ticks\":\"\"},\"colorscale\":[[0.0,\"#0d0887\"],[0.1111111111111111,\"#46039f\"],[0.2222222222222222,\"#7201a8\"],[0.3333333333333333,\"#9c179e\"],[0.4444444444444444,\"#bd3786\"],[0.5555555555555556,\"#d8576b\"],[0.6666666666666666,\"#ed7953\"],[0.7777777777777778,\"#fb9f3a\"],[0.8888888888888888,\"#fdca26\"],[1.0,\"#f0f921\"]]}],\"choropleth\":[{\"type\":\"choropleth\",\"colorbar\":{\"outlinewidth\":0,\"ticks\":\"\"}}],\"histogram2d\":[{\"type\":\"histogram2d\",\"colorbar\":{\"outlinewidth\":0,\"ticks\":\"\"},\"colorscale\":[[0.0,\"#0d0887\"],[0.1111111111111111,\"#46039f\"],[0.2222222222222222,\"#7201a8\"],[0.3333333333333333,\"#9c179e\"],[0.4444444444444444,\"#bd3786\"],[0.5555555555555556,\"#d8576b\"],[0.6666666666666666,\"#ed7953\"],[0.7777777777777778,\"#fb9f3a\"],[0.8888888888888888,\"#fdca26\"],[1.0,\"#f0f921\"]]}],\"heatmap\":[{\"type\":\"heatmap\",\"colorbar\":{\"outlinewidth\":0,\"ticks\":\"\"},\"colorscale\":[[0.0,\"#0d0887\"],[0.1111111111111111,\"#46039f\"],[0.2222222222222222,\"#7201a8\"],[0.3333333333333333,\"#9c179e\"],[0.4444444444444444,\"#bd3786\"],[0.5555555555555556,\"#d8576b\"],[0.6666666666666666,\"#ed7953\"],[0.7777777777777778,\"#fb9f3a\"],[0.8888888888888888,\"#fdca26\"],[1.0,\"#f0f921\"]]}],\"heatmapgl\":[{\"type\":\"heatmapgl\",\"colorbar\":{\"outlinewidth\":0,\"ticks\":\"\"},\"colorscale\":[[0.0,\"#0d0887\"],[0.1111111111111111,\"#46039f\"],[0.2222222222222222,\"#7201a8\"],[0.3333333333333333,\"#9c179e\"],[0.4444444444444444,\"#bd3786\"],[0.5555555555555556,\"#d8576b\"],[0.6666666666666666,\"#ed7953\"],[0.7777777777777778,\"#fb9f3a\"],[0.8888888888888888,\"#fdca26\"],[1.0,\"#f0f921\"]]}],\"contourcarpet\":[{\"type\":\"contourcarpet\",\"colorbar\":{\"outlinewidth\":0,\"ticks\":\"\"}}],\"contour\":[{\"type\":\"contour\",\"colorbar\":{\"outlinewidth\":0,\"ticks\":\"\"},\"colorscale\":[[0.0,\"#0d0887\"],[0.1111111111111111,\"#46039f\"],[0.2222222222222222,\"#7201a8\"],[0.3333333333333333,\"#9c179e\"],[0.4444444444444444,\"#bd3786\"],[0.5555555555555556,\"#d8576b\"],[0.6666666666666666,\"#ed7953\"],[0.7777777777777778,\"#fb9f3a\"],[0.8888888888888888,\"#fdca26\"],[1.0,\"#f0f921\"]]}],\"surface\":[{\"type\":\"surface\",\"colorbar\":{\"outlinewidth\":0,\"ticks\":\"\"},\"colorscale\":[[0.0,\"#0d0887\"],[0.1111111111111111,\"#46039f\"],[0.2222222222222222,\"#7201a8\"],[0.3333333333333333,\"#9c179e\"],[0.4444444444444444,\"#bd3786\"],[0.5555555555555556,\"#d8576b\"],[0.6666666666666666,\"#ed7953\"],[0.7777777777777778,\"#fb9f3a\"],[0.8888888888888888,\"#fdca26\"],[1.0,\"#f0f921\"]]}],\"mesh3d\":[{\"type\":\"mesh3d\",\"colorbar\":{\"outlinewidth\":0,\"ticks\":\"\"}}],\"scatter\":[{\"fillpattern\":{\"fillmode\":\"overlay\",\"size\":10,\"solidity\":0.2},\"type\":\"scatter\"}],\"parcoords\":[{\"type\":\"parcoords\",\"line\":{\"colorbar\":{\"outlinewidth\":0,\"ticks\":\"\"}}}],\"scatterpolargl\":[{\"type\":\"scatterpolargl\",\"marker\":{\"colorbar\":{\"outlinewidth\":0,\"ticks\":\"\"}}}],\"bar\":[{\"error_x\":{\"color\":\"#2a3f5f\"},\"error_y\":{\"color\":\"#2a3f5f\"},\"marker\":{\"line\":{\"color\":\"#E5ECF6\",\"width\":0.5},\"pattern\":{\"fillmode\":\"overlay\",\"size\":10,\"solidity\":0.2}},\"type\":\"bar\"}],\"scattergeo\":[{\"type\":\"scattergeo\",\"marker\":{\"colorbar\":{\"outlinewidth\":0,\"ticks\":\"\"}}}],\"scatterpolar\":[{\"type\":\"scatterpolar\",\"marker\":{\"colorbar\":{\"outlinewidth\":0,\"ticks\":\"\"}}}],\"histogram\":[{\"marker\":{\"pattern\":{\"fillmode\":\"overlay\",\"size\":10,\"solidity\":0.2}},\"type\":\"histogram\"}],\"scattergl\":[{\"type\":\"scattergl\",\"marker\":{\"colorbar\":{\"outlinewidth\":0,\"ticks\":\"\"}}}],\"scatter3d\":[{\"type\":\"scatter3d\",\"line\":{\"colorbar\":{\"outlinewidth\":0,\"ticks\":\"\"}},\"marker\":{\"colorbar\":{\"outlinewidth\":0,\"ticks\":\"\"}}}],\"scattermapbox\":[{\"type\":\"scattermapbox\",\"marker\":{\"colorbar\":{\"outlinewidth\":0,\"ticks\":\"\"}}}],\"scatterternary\":[{\"type\":\"scatterternary\",\"marker\":{\"colorbar\":{\"outlinewidth\":0,\"ticks\":\"\"}}}],\"scattercarpet\":[{\"type\":\"scattercarpet\",\"marker\":{\"colorbar\":{\"outlinewidth\":0,\"ticks\":\"\"}}}],\"carpet\":[{\"aaxis\":{\"endlinecolor\":\"#2a3f5f\",\"gridcolor\":\"white\",\"linecolor\":\"white\",\"minorgridcolor\":\"white\",\"startlinecolor\":\"#2a3f5f\"},\"baxis\":{\"endlinecolor\":\"#2a3f5f\",\"gridcolor\":\"white\",\"linecolor\":\"white\",\"minorgridcolor\":\"white\",\"startlinecolor\":\"#2a3f5f\"},\"type\":\"carpet\"}],\"table\":[{\"cells\":{\"fill\":{\"color\":\"#EBF0F8\"},\"line\":{\"color\":\"white\"}},\"header\":{\"fill\":{\"color\":\"#C8D4E3\"},\"line\":{\"color\":\"white\"}},\"type\":\"table\"}],\"barpolar\":[{\"marker\":{\"line\":{\"color\":\"#E5ECF6\",\"width\":0.5},\"pattern\":{\"fillmode\":\"overlay\",\"size\":10,\"solidity\":0.2}},\"type\":\"barpolar\"}],\"pie\":[{\"automargin\":true,\"type\":\"pie\"}]},\"layout\":{\"autotypenumbers\":\"strict\",\"colorway\":[\"#636efa\",\"#EF553B\",\"#00cc96\",\"#ab63fa\",\"#FFA15A\",\"#19d3f3\",\"#FF6692\",\"#B6E880\",\"#FF97FF\",\"#FECB52\"],\"font\":{\"color\":\"#2a3f5f\"},\"hovermode\":\"closest\",\"hoverlabel\":{\"align\":\"left\"},\"paper_bgcolor\":\"white\",\"plot_bgcolor\":\"#E5ECF6\",\"polar\":{\"bgcolor\":\"#E5ECF6\",\"angularaxis\":{\"gridcolor\":\"white\",\"linecolor\":\"white\",\"ticks\":\"\"},\"radialaxis\":{\"gridcolor\":\"white\",\"linecolor\":\"white\",\"ticks\":\"\"}},\"ternary\":{\"bgcolor\":\"#E5ECF6\",\"aaxis\":{\"gridcolor\":\"white\",\"linecolor\":\"white\",\"ticks\":\"\"},\"baxis\":{\"gridcolor\":\"white\",\"linecolor\":\"white\",\"ticks\":\"\"},\"caxis\":{\"gridcolor\":\"white\",\"linecolor\":\"white\",\"ticks\":\"\"}},\"coloraxis\":{\"colorbar\":{\"outlinewidth\":0,\"ticks\":\"\"}},\"colorscale\":{\"sequential\":[[0.0,\"#0d0887\"],[0.1111111111111111,\"#46039f\"],[0.2222222222222222,\"#7201a8\"],[0.3333333333333333,\"#9c179e\"],[0.4444444444444444,\"#bd3786\"],[0.5555555555555556,\"#d8576b\"],[0.6666666666666666,\"#ed7953\"],[0.7777777777777778,\"#fb9f3a\"],[0.8888888888888888,\"#fdca26\"],[1.0,\"#f0f921\"]],\"sequentialminus\":[[0.0,\"#0d0887\"],[0.1111111111111111,\"#46039f\"],[0.2222222222222222,\"#7201a8\"],[0.3333333333333333,\"#9c179e\"],[0.4444444444444444,\"#bd3786\"],[0.5555555555555556,\"#d8576b\"],[0.6666666666666666,\"#ed7953\"],[0.7777777777777778,\"#fb9f3a\"],[0.8888888888888888,\"#fdca26\"],[1.0,\"#f0f921\"]],\"diverging\":[[0,\"#8e0152\"],[0.1,\"#c51b7d\"],[0.2,\"#de77ae\"],[0.3,\"#f1b6da\"],[0.4,\"#fde0ef\"],[0.5,\"#f7f7f7\"],[0.6,\"#e6f5d0\"],[0.7,\"#b8e186\"],[0.8,\"#7fbc41\"],[0.9,\"#4d9221\"],[1,\"#276419\"]]},\"xaxis\":{\"gridcolor\":\"white\",\"linecolor\":\"white\",\"ticks\":\"\",\"title\":{\"standoff\":15},\"zerolinecolor\":\"white\",\"automargin\":true,\"zerolinewidth\":2},\"yaxis\":{\"gridcolor\":\"white\",\"linecolor\":\"white\",\"ticks\":\"\",\"title\":{\"standoff\":15},\"zerolinecolor\":\"white\",\"automargin\":true,\"zerolinewidth\":2},\"scene\":{\"xaxis\":{\"backgroundcolor\":\"#E5ECF6\",\"gridcolor\":\"white\",\"linecolor\":\"white\",\"showbackground\":true,\"ticks\":\"\",\"zerolinecolor\":\"white\",\"gridwidth\":2},\"yaxis\":{\"backgroundcolor\":\"#E5ECF6\",\"gridcolor\":\"white\",\"linecolor\":\"white\",\"showbackground\":true,\"ticks\":\"\",\"zerolinecolor\":\"white\",\"gridwidth\":2},\"zaxis\":{\"backgroundcolor\":\"#E5ECF6\",\"gridcolor\":\"white\",\"linecolor\":\"white\",\"showbackground\":true,\"ticks\":\"\",\"zerolinecolor\":\"white\",\"gridwidth\":2}},\"shapedefaults\":{\"line\":{\"color\":\"#2a3f5f\"}},\"annotationdefaults\":{\"arrowcolor\":\"#2a3f5f\",\"arrowhead\":0,\"arrowwidth\":1},\"geo\":{\"bgcolor\":\"white\",\"landcolor\":\"#E5ECF6\",\"subunitcolor\":\"white\",\"showland\":true,\"showlakes\":true,\"lakecolor\":\"white\"},\"title\":{\"x\":0.05},\"mapbox\":{\"style\":\"light\"}}},\"xaxis\":{\"anchor\":\"y\",\"domain\":[0.0,1.0],\"scaleanchor\":\"y\",\"constrain\":\"domain\",\"title\":{\"text\":\"src\"}},\"yaxis\":{\"anchor\":\"x\",\"domain\":[0.0,1.0],\"autorange\":\"reversed\",\"constrain\":\"domain\",\"title\":{\"text\":\"dest\"}},\"coloraxis\":{\"colorscale\":[[0.0,\"rgb(103,0,31)\"],[0.1,\"rgb(178,24,43)\"],[0.2,\"rgb(214,96,77)\"],[0.3,\"rgb(244,165,130)\"],[0.4,\"rgb(253,219,199)\"],[0.5,\"rgb(247,247,247)\"],[0.6,\"rgb(209,229,240)\"],[0.7,\"rgb(146,197,222)\"],[0.8,\"rgb(67,147,195)\"],[0.9,\"rgb(33,102,172)\"],[1.0,\"rgb(5,48,97)\"]],\"cmid\":0.0},\"title\":{\"text\":\"Attn 1.0 patterns (avged over batch)\"}},                        {\"responsive\": true}                    ).then(function(){\n",
              "                            \n",
              "var gd = document.getElementById('67e89d8c-099f-40ad-aed5-4585261441ad');\n",
              "var x = new MutationObserver(function (mutations, observer) {{\n",
              "        var display = window.getComputedStyle(gd).display;\n",
              "        if (!display || display === 'none') {{\n",
              "            console.log([gd, 'removed!']);\n",
              "            Plotly.purge(gd);\n",
              "            observer.disconnect();\n",
              "        }}\n",
              "}});\n",
              "\n",
              "// Listen for the removal of the full notebook cells\n",
              "var notebookContainer = gd.closest('#notebook-container');\n",
              "if (notebookContainer) {{\n",
              "    x.observe(notebookContainer, {childList: true});\n",
              "}}\n",
              "\n",
              "// Listen for the clearing of the current output cell\n",
              "var outputEl = gd.closest('.output');\n",
              "if (outputEl) {{\n",
              "    x.observe(outputEl, {childList: true});\n",
              "}}\n",
              "\n",
              "                        })                };                            </script>        </div>\n",
              "</body>\n",
              "</html>"
            ]
          },
          "metadata": {}
        }
      ]
    },
    {
      "cell_type": "markdown",
      "source": [
        "Recall that all of the examples in the test sample have the same (idx, elt) pair. We see that attn 1.0 is clearly attending fully to the correct next token at the prediction positions. A natural hypothesis is that it is copying the answers. We should be able to check this by looking at the full OV circuit."
      ],
      "metadata": {
        "id": "-4PENYOMEMyi"
      }
    },
    {
      "cell_type": "markdown",
      "source": [
        "## 1.0 full OV circuit"
      ],
      "metadata": {
        "id": "UG6QibmFEhgG"
      }
    },
    {
      "cell_type": "code",
      "source": [
        "W_E = model.W_E\n",
        "print(W_E.shape)\n",
        "\n",
        "W_U = model.W_U\n",
        "print(W_U.shape)"
      ],
      "metadata": {
        "colab": {
          "base_uri": "https://localhost:8080/"
        },
        "id": "bzgRjouPEkDs",
        "outputId": "aa3c6bc2-e9b7-4aa7-f83f-e76694400627"
      },
      "execution_count": 25,
      "outputs": [
        {
          "output_type": "stream",
          "name": "stdout",
          "text": [
            "torch.Size([52, 128])\n",
            "torch.Size([128, 50])\n"
          ]
        }
      ]
    },
    {
      "cell_type": "code",
      "source": [
        "layer, head_index = 1, 0\n",
        "imshow(\n",
        "    W_E @ model.OV[layer, head_index].AB @ W_U,\n",
        "    title=f\"{layer}.{head_index} Full OV circuit W_E @ (W_OV)^{layer}.{head_index} @ W_U\",\n",
        "    xaxis=\"logit\", yaxis=\"src token\"\n",
        ")"
      ],
      "metadata": {
        "colab": {
          "base_uri": "https://localhost:8080/",
          "height": 542
        },
        "id": "7eeTcThyD6_K",
        "outputId": "8dbdc76f-dd56-45ef-a81e-8151597f5db0"
      },
      "execution_count": 26,
      "outputs": [
        {
          "output_type": "display_data",
          "data": {
            "text/html": [
              "<html>\n",
              "<head><meta charset=\"utf-8\" /></head>\n",
              "<body>\n",
              "    <div>            <script src=\"https://cdnjs.cloudflare.com/ajax/libs/mathjax/2.7.5/MathJax.js?config=TeX-AMS-MML_SVG\"></script><script type=\"text/javascript\">if (window.MathJax && window.MathJax.Hub && window.MathJax.Hub.Config) {window.MathJax.Hub.Config({SVG: {font: \"STIX-Web\"}});}</script>                <script type=\"text/javascript\">window.PlotlyConfig = {MathJaxConfig: 'local'};</script>\n",
              "        <script charset=\"utf-8\" src=\"https://cdn.plot.ly/plotly-2.24.1.min.js\"></script>                <div id=\"24bff72f-2791-4b1e-b75b-339f81994aa2\" class=\"plotly-graph-div\" style=\"height:525px; width:100%;\"></div>            <script type=\"text/javascript\">                                    window.PLOTLYENV=window.PLOTLYENV || {};                                    if (document.getElementById(\"24bff72f-2791-4b1e-b75b-339f81994aa2\")) {                    Plotly.newPlot(                        \"24bff72f-2791-4b1e-b75b-339f81994aa2\",                        [{\"coloraxis\":\"coloraxis\",\"name\":\"0\",\"z\":[[11.3338623046875,-0.973732054233551,-3.676029682159424,2.1962733268737793,2.375222682952881,0.4926217496395111,0.5106949806213379,1.7402780055999756,-6.6929240226745605,3.221574068069458,-0.9274051785469055,1.4143248796463013,0.4488694667816162,2.361334800720215,-1.6838891506195068,-1.8222806453704834,-0.3703223764896393,1.112015724182129,3.1284730434417725,2.4967095851898193,-1.80080246925354,-5.361006736755371,-0.8228368759155273,1.0272694826126099,0.46614497900009155,-2.4166979789733887,-2.4292681217193604,-0.4193444848060608,-3.0843231678009033,1.3170585632324219,0.7380080223083496,0.0912235677242279,-0.1743800938129425,-3.45700740814209,-1.5290470123291016,-1.4387561082839966,-0.923499584197998,-1.5803419351577759,-1.3814122676849365,1.9213340282440186,-0.5327656865119934,2.584306240081787,1.8905431032180786,1.7683508396148682,-0.8397204279899597,-4.341884136199951,-0.09102588891983032,2.353610038757324,2.461660385131836,2.171257495880127],[0.3922693133354187,11.484893798828125,-2.1448874473571777,0.6288722157478333,-2.0507051944732666,1.1862843036651611,-1.715398907661438,0.16494949162006378,-1.4131139516830444,0.8982551693916321,0.4684958755970001,-0.7951486110687256,-1.7507230043411255,-2.7555410861968994,1.698513150215149,-1.795053482055664,0.586113452911377,0.34158968925476074,1.205488681793213,-1.9183152914047241,-2.1397593021392822,1.2075809240341187,-0.4278334379196167,0.053931593894958496,-3.5763869285583496,-0.009838789701461792,-3.2075021266937256,1.1879918575286865,-0.2088601291179657,-1.246170163154602,-0.10524105280637741,-0.7465752363204956,0.5286334156990051,-0.08475208282470703,-0.8621609210968018,2.221547842025757,-3.7956418991088867,-1.1680115461349487,1.5086138248443604,0.2686927020549774,0.544095516204834,1.7444813251495361,0.6096711158752441,-3.1994094848632812,-1.294124960899353,1.4410967826843262,-0.4226905107498169,1.0802280902862549,-3.766700029373169,1.212482213973999],[-3.2648191452026367,-0.5167554616928101,12.275407791137695,-1.1602879762649536,-1.667857050895691,1.7426557540893555,-1.1171120405197144,-3.51149845123291,1.998029351234436,-3.574611186981201,2.4791321754455566,2.1809253692626953,1.4505374431610107,0.15374481678009033,0.11625313758850098,0.5417636632919312,1.4703428745269775,1.9551715850830078,0.43624764680862427,2.470611333847046,1.8790768384933472,0.29641830921173096,1.6760320663452148,-1.5555529594421387,-0.03042924404144287,-2.0881476402282715,1.819535493850708,0.9476696848869324,-0.8399680256843567,1.8164212703704834,-0.16630391776561737,0.8635516166687012,-0.7122251987457275,-0.36475256085395813,0.8185917139053345,-2.143678665161133,2.775566816329956,1.3667494058609009,-0.42670738697052,-4.391655921936035,1.4575607776641846,0.7414531707763672,-0.7336273193359375,-2.3971610069274902,2.1806652545928955,-0.06473512947559357,-1.9697189331054688,-2.0699219703674316,0.6383200883865356,-0.15986931324005127],[0.8211799263954163,-0.9003060460090637,-2.2156710624694824,7.5132832527160645,-2.7120790481567383,-1.0535435676574707,-1.092846393585205,-4.016815185546875,-2.052326202392578,2.051650285720825,-3.9985904693603516,-1.264487385749817,0.24283839762210846,0.5632569193840027,0.31136155128479004,-2.0401222705841064,0.5990433096885681,-0.10692380368709564,0.05758601427078247,-0.7212379574775696,-2.121450662612915,0.30319851636886597,-2.0324225425720215,-4.230453014373779,-1.9187122583389282,0.8003435134887695,-5.059553146362305,1.685302972793579,1.0389467477798462,-1.3596839904785156,0.2613898515701294,-0.5369614362716675,1.1281414031982422,-3.7905735969543457,2.9155654907226562,-0.18997007608413696,-0.553492546081543,0.16240665316581726,0.5543288588523865,0.6933486461639404,-2.6390185356140137,0.10432006418704987,-0.7250117063522339,1.6161617040634155,-0.732361376285553,0.2687647342681885,-0.6792643070220947,-0.7506310343742371,-1.3551464080810547,-0.44896870851516724],[0.6164581775665283,-2.137357234954834,-1.2442625761032104,-0.8209965825080872,8.52537727355957,-2.15297794342041,-0.5877300500869751,1.1848914623260498,2.614166259765625,-0.1239212304353714,0.6905739307403564,0.12119185924530029,0.1778915673494339,1.6156971454620361,2.367997169494629,2.3112804889678955,-1.448646068572998,1.0380256175994873,-2.4305949211120605,1.6852264404296875,1.793961763381958,-3.4709596633911133,1.6411776542663574,2.648223876953125,3.071942090988159,-0.020372092723846436,0.6147257089614868,-3.8366570472717285,2.761435031890869,-2.8251752853393555,0.8710234761238098,2.046438694000244,0.88338303565979,1.4027903079986572,-0.4933762550354004,0.9061397314071655,-2.135272979736328,-4.61787223815918,-0.7619049549102783,-0.4031100273132324,0.4361073076725006,-1.1161658763885498,-1.1468477249145508,2.113236904144287,-1.4140539169311523,0.5382668972015381,1.097306489944458,-0.47996091842651367,2.275362014770508,1.8247497081756592],[-0.4602956771850586,0.18740397691726685,1.4876935482025146,-1.256824016571045,-2.883574962615967,6.64404296875,-1.2393417358398438,1.689054250717163,-1.9677950143814087,-0.9576660990715027,-1.1955947875976562,-1.4975013732910156,1.2882492542266846,-0.2970188558101654,-2.1898059844970703,-2.0234122276306152,0.8778470754623413,0.7503693103790283,0.9600015878677368,-0.051224738359451294,-4.619194030761719,-1.5523896217346191,1.935533046722412,-1.0740375518798828,-2.501634120941162,-0.35379284620285034,1.614508867263794,2.137171506881714,1.3958947658538818,-2.751591920852661,-1.4938603639602661,-1.6814956665039062,-1.1560019254684448,1.278266191482544,-4.503486156463623,-1.5850200653076172,1.0937575101852417,1.4175798892974854,0.1636153757572174,1.1368268728256226,-1.1240572929382324,-0.7390511631965637,1.1595900058746338,2.4704270362854004,0.07778025418519974,1.428083896636963,-2.900259017944336,0.10189840197563171,-1.118045687675476,-3.585667133331299],[0.3767932653427124,-1.8810713291168213,-2.218535900115967,0.42217451333999634,-1.089371919631958,-0.4293821454048157,8.627766609191895,-1.0780293941497803,-0.37899208068847656,2.709955930709839,-0.20476901531219482,1.5228205919265747,0.9161344766616821,-1.3048453330993652,0.10903280973434448,-3.1696391105651855,-1.1561763286590576,-0.9970487356185913,0.549896776676178,0.37383750081062317,-1.537674069404602,3.358340263366699,1.8896347284317017,1.6446459293365479,1.5183906555175781,-0.16971033811569214,1.8371469974517822,2.807072639465332,0.12817421555519104,1.3019334077835083,0.672775387763977,-2.134037971496582,1.7758369445800781,1.401771068572998,-0.3066898584365845,-0.6485201120376587,-0.8990617990493774,1.9442074298858643,-3.3861188888549805,2.066828966140747,-2.2594947814941406,-4.822812080383301,1.1241614818572998,-1.8651498556137085,-0.8895121812820435,-0.9376943707466125,1.22133207321167,1.2019107341766357,-1.801062822341919,-1.6330476999282837],[-0.5823493599891663,-1.0262051820755005,-1.759661316871643,-2.4266738891601562,1.1662702560424805,2.3552465438842773,0.22526991367340088,8.72188949584961,0.8271024227142334,-1.021928310394287,2.1763601303100586,-1.786817193031311,0.20888519287109375,1.3464062213897705,-3.308533191680908,0.47061559557914734,0.405899316072464,0.7662340402603149,-1.201887845993042,-1.3023338317871094,-0.20808766782283783,0.467693954706192,1.873252034187317,0.9127902984619141,1.2219022512435913,1.1635644435882568,4.1492533683776855,-0.0716279149055481,0.8191327452659607,-0.9572541117668152,-1.4807183742523193,-0.745762825012207,-4.224363327026367,1.0091191530227661,-4.089113712310791,2.418694496154785,3.0351054668426514,0.7088276147842407,1.9032893180847168,1.3637155294418335,1.6552859544754028,-0.18334442377090454,3.4221174716949463,1.173684000968933,2.499399423599243,-0.954970121383667,1.605013132095337,0.6993396878242493,0.9978104829788208,-0.7806034088134766],[-4.442798614501953,-0.016231507062911987,0.8483312726020813,-1.2093679904937744,1.4716044664382935,-1.043237328529358,2.034060001373291,-0.09182989597320557,8.984037399291992,-0.885834813117981,1.0945765972137451,-2.7566089630126953,-0.17347624897956848,-0.26328954100608826,1.6994876861572266,-0.31219032406806946,-0.14226163923740387,2.0799312591552734,-4.934601783752441,0.46996742486953735,2.728022575378418,3.3713996410369873,1.5482944250106812,0.3545866012573242,0.4366856813430786,3.1407642364501953,2.0598316192626953,1.9222310781478882,3.447220802307129,-0.4720775783061981,0.28627437353134155,2.7396867275238037,0.9968106150627136,1.064742088317871,3.0343570709228516,3.3329520225524902,1.1579275131225586,-0.5565019845962524,0.1502455770969391,-0.15014663338661194,1.432348370552063,-2.694171905517578,-2.3493990898132324,-1.9548521041870117,0.631078839302063,0.5196597576141357,1.4910186529159546,-0.5646644830703735,-2.454662799835205,2.3079421520233154],[1.7984750270843506,-1.7324024438858032,-3.960481643676758,2.2447006702423096,-1.455420732498169,-1.2648427486419678,2.6143054962158203,-1.9219167232513428,-3.1418209075927734,8.88154411315918,0.5680451393127441,1.2915637493133545,0.9421068429946899,-3.0647315979003906,0.28190726041793823,1.1813709735870361,-0.3130761981010437,-0.7209957838058472,2.6315205097198486,-2.8584375381469727,-4.571284294128418,1.8854918479919434,-2.5126898288726807,0.5665717720985413,2.5296971797943115,-3.4578351974487305,-2.694110155105591,-2.460575580596924,-0.5110206604003906,-1.387663722038269,-0.1855340600013733,-0.16038396954536438,-0.0722501277923584,1.7158681154251099,0.14475691318511963,-1.9693353176116943,-3.845764636993408,2.8693325519561768,0.46597611904144287,2.0665926933288574,-3.1115026473999023,-2.24932599067688,0.5845755934715271,1.266480565071106,-3.6517601013183594,-1.6403372287750244,2.0328142642974854,1.090700626373291,-1.574910044670105,-1.4637961387634277],[-2.4391298294067383,1.530963659286499,4.5966362953186035,-3.759768009185791,0.608892023563385,0.4626148045063019,-0.17392049729824066,1.1674654483795166,2.754973888397217,-0.3129150867462158,8.614237785339355,2.079636335372925,2.5552449226379395,-1.5226854085922241,-1.599467158317566,2.4047625064849854,0.9003860950469971,2.77182674407959,-0.8320999145507812,-1.7327122688293457,2.124788761138916,3.1021053791046143,1.0773972272872925,2.181874990463257,2.64839768409729,-3.2221240997314453,3.086681604385376,-2.634411573410034,0.45554858446121216,-0.07933509349822998,0.1343206763267517,0.824815034866333,-2.1592912673950195,0.9056711792945862,-1.9348018169403076,1.9815375804901123,2.6846933364868164,-0.15478366613388062,-0.29059040546417236,-4.034629821777344,1.7153019905090332,0.3162389397621155,0.5664303302764893,-3.3667712211608887,-0.8710359930992126,-0.3018057346343994,2.0178959369659424,1.899362325668335,0.03758709877729416,1.5728249549865723],[-0.19573292136192322,-1.3182348012924194,0.8616384267807007,-0.36911749839782715,-0.12770158052444458,-2.355257749557495,-0.3008372485637665,-2.9333324432373047,-3.951387405395508,0.7160392999649048,0.3692110776901245,6.154633045196533,0.4034302234649658,-2.2631635665893555,0.7691627144813538,1.6356196403503418,-1.9606566429138184,-1.9657518863677979,2.3181228637695312,-0.7891420125961304,1.4893925189971924,-0.724211573600769,-0.2697414457798004,0.7090681791305542,1.5197104215621948,-3.517975330352783,-2.198138952255249,-2.7747416496276855,-3.3775317668914795,0.5249224901199341,1.8974297046661377,-2.7536025047302246,0.5819416642189026,1.6627137660980225,0.6485429406166077,-4.387921333312988,-2.379518985748291,2.1801822185516357,-0.9836499691009521,-3.1343436241149902,-0.34007692337036133,1.8009281158447266,-0.2747915983200073,-0.1621895432472229,0.6978608965873718,1.0646238327026367,0.22892485558986664,-1.525786280632019,1.5623719692230225,-2.484001636505127],[-2.5816993713378906,-4.077325820922852,1.3450028896331787,-1.3307418823242188,0.3738686442375183,0.1061522364616394,-1.3325510025024414,-1.2545959949493408,0.45698103308677673,-0.15642067790031433,1.6005938053131104,0.8792333006858826,6.411383628845215,0.7888444662094116,-1.1444921493530273,2.038634777069092,-2.0071969032287598,-1.3264137506484985,-3.264019012451172,-1.4228601455688477,-0.010920345783233643,1.8989917039871216,0.36200952529907227,-0.9542906284332275,1.8848921060562134,-0.7635967135429382,-1.1436430215835571,-1.1771663427352905,1.5028584003448486,-3.3564722537994385,0.8563603162765503,-3.0402467250823975,-1.5083932876586914,0.386568158864975,0.012822598218917847,-0.7949210405349731,1.6576942205429077,0.16917234659194946,0.050047531723976135,-2.4865221977233887,-1.8385037183761597,-1.148547887802124,-2.608745813369751,-0.21854595839977264,-0.1787537932395935,2.3202507495880127,-1.3534910678863525,-0.03086838126182556,0.9552668333053589,-2.363119602203369],[1.3751296997070312,-4.2840046882629395,-0.06693147122859955,0.13602960109710693,1.5341042280197144,-0.3873145878314972,-2.262979507446289,1.447630763053894,-1.1237895488739014,-2.0327887535095215,-1.434213638305664,-0.9623538255691528,0.7213490009307861,7.611908435821533,-0.2432079166173935,1.314393401145935,-2.0634312629699707,-4.170257568359375,-3.754387855529785,0.28293636441230774,0.7828644514083862,-2.1603331565856934,0.9679067134857178,1.3994505405426025,-2.2922940254211426,2.786799192428589,1.2216593027114868,-0.2804957628250122,-1.3932416439056396,2.0768439769744873,-1.950227975845337,0.6546509861946106,-0.7911105155944824,-3.439347743988037,0.7619919776916504,-0.04742026329040527,1.4734320640563965,-0.6968687772750854,-2.77140474319458,0.11298578977584839,0.8279699683189392,2.968139886856079,-1.6789586544036865,2.4071505069732666,2.4584670066833496,1.9855231046676636,-0.28385090827941895,-0.5222995281219482,0.9507907629013062,0.5704032778739929],[-0.16512852907180786,0.7654910087585449,-1.3910670280456543,1.2335189580917358,1.5214450359344482,-2.3978631496429443,1.08274507522583,-3.6731247901916504,0.5188761353492737,1.3055063486099243,-3.9440131187438965,0.11644431948661804,-2.4896907806396484,0.485836386680603,6.621280193328857,-0.1124839186668396,-1.4161930084228516,-2.857064962387085,-1.582887887954712,0.7191464900970459,-0.7441310882568359,-1.5240437984466553,0.7801117897033691,1.1666324138641357,-1.4425970315933228,1.1239032745361328,-2.2494468688964844,-0.3980845808982849,0.8958960771560669,-1.0875632762908936,-0.8985942602157593,1.6360812187194824,2.9328181743621826,1.2684402465820312,1.6756725311279297,-2.5439205169677734,-5.344351768493652,-0.6784427165985107,-1.9619731903076172,1.7024741172790527,0.10523027181625366,-0.6244099140167236,-1.5870895385742188,1.0193610191345215,1.034521460533142,2.0688793659210205,0.5187103152275085,-2.2602908611297607,-1.5883982181549072,-1.0377132892608643],[-3.081277370452881,-2.6507463455200195,0.7191879749298096,-2.7300167083740234,0.7966644167900085,-2.140131950378418,-2.576935291290283,-1.1990909576416016,0.9995850920677185,0.4295894503593445,0.6023236513137817,0.12066823244094849,-0.11174385249614716,-0.7396742105484009,1.6321133375167847,6.627081871032715,0.7285860776901245,-2.550325870513916,-0.0415726900100708,-2.857264995574951,-0.04448273777961731,0.644939124584198,-2.5801570415496826,1.037597417831421,2.6882855892181396,-1.106257438659668,1.0996776819229126,-6.144190788269043,0.4452287256717682,-0.7954778671264648,-1.724261999130249,1.483621597290039,-2.102285146713257,2.1825523376464844,0.36236196756362915,-3.6418063640594482,-0.7154291272163391,-0.33717548847198486,0.8991802334785461,0.06414759159088135,0.8699620962142944,-0.7190988063812256,-2.298168659210205,0.9518661499023438,0.3876061737537384,1.3403719663619995,0.6760791540145874,0.7260915040969849,2.7997846603393555,-2.1251919269561768],[0.33967381715774536,3.0807669162750244,1.0517488718032837,2.2359116077423096,-3.159822940826416,2.0155489444732666,-0.9184108972549438,-0.4106205999851227,0.6019056439399719,0.658014178276062,-0.09757339954376221,-2.6562135219573975,-1.858849048614502,-1.7874361276626587,-0.35242894291877747,-0.32431089878082275,8.751505851745605,2.5714609622955322,2.2550759315490723,0.768285870552063,-2.6223700046539307,0.922528088092804,-2.045839786529541,-1.9921833276748657,0.7034492492675781,1.8472322225570679,1.7571645975112915,-0.19038158655166626,2.0718367099761963,1.7465707063674927,-3.676476001739502,2.4865965843200684,-2.1453604698181152,-2.7445068359375,-0.08791244029998779,0.6190982460975647,2.6217455863952637,-1.5992683172225952,2.822445869445801,1.609800100326538,-1.4195420742034912,-1.2029283046722412,3.060708522796631,-1.3079559803009033,0.07686012238264084,-1.1935696601867676,-2.7571496963500977,1.752990484237671,1.2583643198013306,1.6141666173934937],[1.4375773668289185,1.8454077243804932,0.7800397872924805,1.6872563362121582,0.9671865701675415,1.4061317443847656,0.08570292592048645,0.48726600408554077,1.1470674276351929,0.1336337924003601,1.8501702547073364,-0.07441176474094391,0.37822481989860535,-2.571998119354248,-1.6577998399734497,-3.053727149963379,1.1894519329071045,7.1312255859375,1.2084176540374756,1.507461667060852,0.5763031244277954,-0.8184117674827576,1.5770758390426636,-1.923789381980896,0.6990004777908325,-2.211467742919922,-1.2846543788909912,1.6071665287017822,1.4253075122833252,-2.9520773887634277,3.0778493881225586,0.4220469295978546,0.2840544283390045,-0.3517751097679138,-1.0447016954421997,2.686333179473877,1.1735560894012451,-1.3813302516937256,1.766259789466858,-1.2975447177886963,0.9286198019981384,-0.7160220742225647,1.0443851947784424,0.1370745748281479,-1.7268794775009155,-3.130283832550049,0.48115575313568115,-0.5426287055015564,0.05976366996765137,2.2986176013946533],[2.406475782394409,1.249328374862671,-0.14975512027740479,0.9565383195877075,-3.7243990898132324,1.3911526203155518,-0.1537151336669922,-1.3343830108642578,-5.758504867553711,0.3163379728794098,-2.63283634185791,0.3921719193458557,-1.6138797998428345,-3.18574857711792,-1.3642622232437134,-1.007047176361084,2.0223135948181152,-0.12224134802818298,7.89052152633667,-0.5810722708702087,-3.7572007179260254,-1.665007472038269,-3.364839553833008,-1.5936988592147827,-0.7134578227996826,-2.276273250579834,-2.236548900604248,-0.42149874567985535,-3.0518903732299805,1.0544931888580322,1.0929980278015137,-2.4560182094573975,-0.6653774976730347,0.7731776237487793,-1.3009166717529297,-3.279113292694092,-1.3062866926193237,0.6456233859062195,1.7983020544052124,2.200347661972046,-0.7178877592086792,-0.49329155683517456,0.7513589859008789,1.2607080936431885,-2.384021043777466,-2.456833839416504,-2.601044178009033,2.1862621307373047,2.935497283935547,-1.0668295621871948],[2.900106430053711,-2.449141263961792,1.9357850551605225,1.3980623483657837,3.785470485687256,0.29044103622436523,2.4825096130371094,-1.0307064056396484,0.4660698473453522,-0.8819588422775269,-1.9179811477661133,1.3030065298080444,-0.11186493933200836,1.47567880153656,1.1649633646011353,-2.5132076740264893,0.06566476821899414,1.786461353302002,-0.35082384943962097,7.693233489990234,1.5669543743133545,-4.494629859924316,2.2458596229553223,-0.24525883793830872,3.347330093383789,0.021688029170036316,1.899006724357605,2.341865301132202,1.5207533836364746,0.9114545583724976,-0.026324011385440826,1.432898759841919,2.289492130279541,-1.1040971279144287,0.714438259601593,-0.9255539774894714,-1.04263174533844,-1.3091344833374023,-2.023850440979004,0.44133472442626953,-3.0691235065460205,-0.8921966552734375,2.357412099838257,-0.17347712814807892,1.769545316696167,-1.3648988008499146,-1.3613331317901611,-3.658935785293579,0.9720261096954346,0.11846780776977539],[-1.9067275524139404,-0.9167411923408508,0.5661692023277283,-0.8443732261657715,2.308762788772583,-5.13368034362793,-1.3759243488311768,-1.1479549407958984,2.9806060791015625,-3.5484046936035156,0.323808491230011,1.4957427978515625,-1.0874865055084229,0.22908829152584076,0.923621654510498,1.4113764762878418,-2.442803382873535,-0.20908570289611816,-2.6536312103271484,0.9439204335212708,8.029430389404297,0.7263894081115723,-0.8716989755630493,-0.8907121419906616,0.10756084322929382,1.3166866302490234,-1.5613059997558594,-0.02844160795211792,-2.1058757305145264,2.0560154914855957,2.1277406215667725,0.7697553634643555,2.684329032897949,-0.614069938659668,4.295899391174316,2.1083297729492188,1.6667497158050537,0.07101750373840332,1.1271023750305176,-4.015634059906006,2.0969078540802,2.5134220123291016,-1.7071393728256226,-1.800378680229187,1.8453083038330078,-0.11012205481529236,2.123100996017456,-3.0146384239196777,0.1764468550682068,1.7326583862304688],[-5.521653175354004,0.13529321551322937,-1.1106053590774536,-1.5046788454055786,-5.741607666015625,-1.8578447103500366,3.2211718559265137,-1.2251946926116943,1.8026098012924194,1.5324771404266357,1.8717924356460571,-0.6375846862792969,2.406080722808838,-2.2412261962890625,-1.2852509021759033,0.745263397693634,-1.046711802482605,-2.8754451274871826,-1.1568403244018555,-6.144245147705078,-0.5242938995361328,9.6971435546875,-1.9071359634399414,0.11585956811904907,-1.2256276607513428,1.2876815795898438,-0.6214409470558167,0.9053652286529541,-1.4641705751419067,1.308826208114624,0.956834077835083,-3.568328857421875,-1.0165326595306396,1.3115127086639404,2.176023244857788,0.8471043109893799,1.9814848899841309,3.193108558654785,1.0964882373809814,-0.6416810750961304,0.5850875973701477,-3.250457525253296,-2.799588918685913,-3.6691031455993652,-1.2552083730697632,1.030340552330017,0.8425202369689941,2.681349277496338,-1.8095920085906982,-0.7457026839256287],[-0.7159342169761658,-1.252126693725586,0.2503165900707245,-0.6361403465270996,2.5038540363311768,1.4838062524795532,1.355618953704834,2.276453971862793,-0.327992707490921,-1.2963783740997314,0.19972893595695496,2.012775182723999,0.5975096225738525,2.1295762062072754,-0.363136351108551,-1.9260345697402954,-1.7378512620925903,0.796048641204834,-2.50101375579834,0.5323797464370728,0.40194714069366455,-1.5156036615371704,7.105010986328125,1.7022901773452759,-0.6540489196777344,0.05416686087846756,2.5305707454681396,0.9103660583496094,1.1638092994689941,-2.1096372604370117,1.1830968856811523,-1.4906686544418335,-0.6069537997245789,1.3439104557037354,-3.164477825164795,-0.4218609929084778,0.10130095481872559,-0.5306969285011292,-3.289994955062866,-1.1429446935653687,2.1920223236083984,-0.4677162170410156,0.56766676902771,1.9344761371612549,1.9487345218658447,2.1038341522216797,0.765299379825592,-2.5402965545654297,-0.39447295665740967,-1.2408826351165771],[-0.5488659739494324,-0.5239906907081604,-0.696016788482666,-3.371399402618408,2.5276284217834473,-0.16896657645702362,1.3675549030303955,1.6781039237976074,1.2223608493804932,0.1598765105009079,1.8895690441131592,0.8765982985496521,-0.3989650011062622,1.4350658655166626,1.130608320236206,1.8825689554214478,-0.9841954112052917,-1.7092397212982178,-1.4331207275390625,-1.2343159914016724,-0.20054146647453308,0.2971358895301819,1.9859857559204102,5.786642074584961,0.9133040904998779,0.8954602479934692,3.749786853790283,-2.414942741394043,-0.1541176587343216,1.3570852279663086,-0.3187442719936371,0.5661037564277649,-1.3657255172729492,1.9786022901535034,-1.0165750980377197,-1.8073358535766602,-1.4706615209579468,-1.2429096698760986,-2.516939163208008,0.44322583079338074,2.350228786468506,-0.9728878736495972,-1.6391775608062744,-0.15617001056671143,-0.06741611659526825,1.2737454175949097,0.1559266448020935,2.0948362350463867,1.7463979721069336,1.1472156047821045],[-0.5090091228485107,-3.698131561279297,1.316111445426941,0.39516860246658325,2.7050118446350098,-1.624929666519165,2.8483920097351074,-0.9461096525192261,1.8328921794891357,2.13613224029541,1.8362839221954346,2.2931337356567383,1.3652137517929077,-1.5547592639923096,0.5011686682701111,2.1338868141174316,1.6817572116851807,1.5039470195770264,0.7322190403938293,3.168030023574829,1.0394103527069092,-0.16900724172592163,-0.2212424874305725,0.7682983875274658,9.131000518798828,-1.7217216491699219,3.0045993328094482,-1.838147759437561,2.1103038787841797,0.3727215528488159,-0.40819522738456726,0.5467453002929688,-1.572374701499939,1.7093180418014526,1.0730564594268799,-2.223750591278076,-1.2283437252044678,0.008120030164718628,-0.044080719351768494,0.8313596248626709,-3.5100388526916504,-2.5345942974090576,2.119730234146118,-2.027146339416504,0.5715128183364868,-1.2114698886871338,-0.12943828105926514,-1.3731135129928589,2.9435081481933594,-1.159840703010559],[-2.14534854888916,-1.2959437370300293,-3.0174546241760254,1.0099265575408936,-0.20931416749954224,-0.9503809809684753,0.3897714912891388,0.9018269181251526,2.676018714904785,-1.7513104677200317,-4.579174995422363,-3.7259654998779297,-1.2948722839355469,2.9645819664001465,1.6998628377914429,-0.40407851338386536,0.5925895571708679,-3.1653316020965576,-3.7081995010375977,-0.13755826652050018,0.18889662623405457,1.0627593994140625,-0.015498816967010498,0.026422977447509766,-1.7414430379867554,7.483560562133789,1.0261684656143188,2.496973991394043,1.1921519041061401,1.2854868173599243,-2.1001381874084473,-0.7856314182281494,-0.5638123750686646,-0.6477718353271484,2.298544406890869,0.16969221830368042,0.7089532613754272,-0.8596556186676025,1.5471172332763672,2.7078113555908203,-0.21248631179332733,-1.4784163236618042,-1.5854071378707886,0.6499412059783936,2.4220681190490723,2.162763833999634,-2.417332887649536,-1.1202538013458252,0.6800921559333801,0.23796892166137695],[-2.491000175476074,-1.9055581092834473,2.4257588386535645,-3.092573642730713,0.4939170479774475,2.397221565246582,3.393156051635742,2.612114906311035,3.0079102516174316,-1.6319518089294434,1.6783922910690308,-0.5928730964660645,-1.2788379192352295,1.0680445432662964,-1.1965227127075195,1.1030508279800415,3.15545654296875,0.3834933042526245,-0.6619328260421753,1.7916321754455566,-0.27191126346588135,0.6178151369094849,3.1915998458862305,2.990356922149658,3.428872585296631,2.03556489944458,9.846606254577637,-1.753866672515869e-05,2.9030442237854004,2.8404464721679688,-3.6005759239196777,1.706817865371704,-2.302748680114746,1.7338206768035889,-2.9516687393188477,-1.3359084129333496,2.491835594177246,-0.2094966471195221,-2.4277703762054443,1.9118924140930176,0.1355973482131958,-3.2770004272460938,2.3510992527008057,-0.795235812664032,2.2279152870178223,0.7852722406387329,-0.8080176711082458,0.5203787684440613,1.3795344829559326,-1.192636489868164],[0.1348516047000885,-0.003339529037475586,-1.6061954498291016,1.7420597076416016,-3.2233128547668457,1.3771705627441406,3.3688607215881348,-0.5244379639625549,-0.8100118637084961,-1.4210739135742188,-4.0804643630981445,-1.024901032447815,0.5253443717956543,0.5124996900558472,-0.9462115168571472,-5.791668891906738,-3.146028995513916,-0.6973242163658142,-0.828230082988739,1.5142862796783447,-0.2649405896663666,1.1303026676177979,1.6867456436157227,-2.3257312774658203,-3.5963618755340576,2.550666332244873,-1.5915576219558716,7.852956295013428,-0.9130822420120239,0.28600969910621643,1.7741881608963013,-3.7500596046447754,2.787813425064087,-0.26315227150917053,1.0386154651641846,1.2986226081848145,0.18832486867904663,2.3873043060302734,-0.7807595729827881,1.426425576210022,-1.85759437084198,-0.9785259962081909,0.04540508985519409,-0.1875341534614563,0.6121131181716919,0.1744779348373413,-1.3786895275115967,-2.289623737335205,-3.1607067584991455,-1.4362678527832031],[-3.013049602508545,-1.5365979671478271,-1.213548183441162,0.31429165601730347,0.8053576946258545,0.962653398513794,-0.42372456192970276,-0.7724514603614807,1.707474946975708,-0.29797738790512085,-0.8429376482963562,-1.3149231672286987,0.7913086414337158,-0.5411280393600464,0.38669353723526,0.02995198965072632,0.4619009494781494,0.40808072686195374,-2.090061664581299,-0.06331995129585266,-1.356834888458252,-0.2072746455669403,1.8390982151031494,-1.2504926919937134,0.8697296380996704,0.27461105585098267,1.400511384010315,-0.5802781581878662,5.942983627319336,-4.154965400695801,-0.6243944764137268,0.4376298785209656,0.5532838106155396,1.3949984312057495,-2.045332193374634,0.38658133149147034,0.36842888593673706,-1.784292459487915,-1.4848610162734985,0.8787291049957275,-1.6141951084136963,-2.580430507659912,0.5121266841888428,1.8878958225250244,-0.7686619758605957,2.7555131912231445,-0.08086004853248596,-1.0132410526275635,-0.8373667001724243,-2.8034024238586426],[1.108317255973816,1.1330636739730835,0.7848986387252808,-0.03053981065750122,-3.6543149948120117,-0.7437165975570679,1.4832755327224731,-0.5658290386199951,-1.0726583003997803,-0.8633534908294678,-1.657738447189331,0.2531084716320038,-2.3980205059051514,1.387510061264038,-0.25761210918426514,-0.3426389694213867,1.8207881450653076,-3.7012779712677,1.5049200057983398,0.6786788702011108,0.8378974199295044,1.7332830429077148,-2.4756834506988525,1.6496150493621826,-1.687695026397705,3.452662467956543,1.897200345993042,1.8594553470611572,-4.526219367980957,8.606401443481445,-2.23276948928833,0.16379550099372864,-0.144280806183815,-2.054769277572632,3.085021734237671,-2.01938533782959,0.9481139183044434,2.3713250160217285,-0.5128254890441895,0.6313049793243408,0.1388137936592102,1.5904545783996582,-0.019965708255767822,-3.1944282054901123,2.4406533241271973,-0.3872489929199219,-2.1066999435424805,1.515841007232666,0.2636241018772125,1.6889708042144775],[-1.1135036945343018,-2.0923542976379395,-2.058173418045044,0.528427004814148,1.0055651664733887,-2.5015037059783936,-1.4666812419891357,-2.275768756866455,-0.8708411455154419,-0.7430654764175415,-1.1017602682113647,1.266509771347046,2.7393569946289062,-1.3453426361083984,-0.8248962759971619,-1.4505743980407715,-5.842520713806152,0.8814163208007812,0.09240686893463135,-2.2905614376068115,1.1947888135910034,0.08900713920593262,0.4251396358013153,-1.6659294366836548,-2.0066471099853516,-2.5392308235168457,-6.881841659545898,-0.10104693472385406,-1.464237093925476,-4.9619293212890625,7.8540730476379395,-4.24476957321167,1.8692681789398193,1.6412806510925293,1.6412327289581299,0.7826117277145386,-1.5894837379455566,-0.9341875314712524,0.234363853931427,-2.408966302871704,1.7060573101043701,-0.22719648480415344,-5.079594612121582,2.4798038005828857,-3.8263092041015625,-0.014939546585083008,0.7942838072776794,-0.8160239458084106,1.0541362762451172,0.7501006126403809],[2.008427381515503,0.7368786334991455,-0.3270922005176544,0.9862390160560608,0.8543058037757874,-0.24146108329296112,-0.5768810510635376,-1.8566608428955078,1.3736364841461182,2.087406873703003,-0.7958465218544006,-1.6479684114456177,-3.026082992553711,0.4672126770019531,2.2756383419036865,0.4367920756340027,0.7331123352050781,1.005895733833313,-0.5962143540382385,1.384472370147705,-0.04898005723953247,-1.956324577331543,-0.5942037105560303,-0.022449612617492676,-1.402858018875122,-1.1819087266921997,0.19519226253032684,-1.1174298524856567,1.8444368839263916,0.4006166160106659,-2.2529876232147217,7.028138637542725,3.17466402053833,-1.0708949565887451,0.38769465684890747,0.8814359903335571,-1.1893243789672852,-0.06445932388305664,-2.3310203552246094,0.9344534873962402,1.0052249431610107,0.9927542209625244,0.29296159744262695,1.2586719989776611,-0.5319381952285767,-0.8810579776763916,3.1272125244140625,-0.06856727600097656,-3.686483144760132,0.7969373464584351],[1.169169545173645,-1.2206721305847168,-2.88152813911438,0.7006107568740845,0.24346306920051575,-0.9031028747558594,-0.06456524133682251,-3.3321053981781006,-2.7091169357299805,0.23254677653312683,-3.4074296951293945,-0.2308860570192337,-1.0366028547286987,-0.6072818040847778,0.7703258395195007,-1.2527437210083008,-4.224758148193359,-2.0702266693115234,0.9158312082290649,-0.022767364978790283,-0.0782616138458252,-2.0386829376220703,-1.4049320220947266,-1.8864383697509766,-4.103168487548828,-1.7574865818023682,-3.8500921726226807,0.7290958762168884,-0.2550432085990906,-1.647219181060791,1.2770315408706665,0.4886651933193207,7.088452339172363,0.9286112785339355,-0.19935175776481628,0.7637606859207153,-1.9404672384262085,0.7280973196029663,-2.584606409072876,-0.13933789730072021,-1.9180914163589478,0.5102408528327942,-0.9047300815582275,3.329655885696411,-3.692981719970703,1.3136731386184692,1.6999975442886353,-0.9468661546707153,-4.27895450592041,-2.422349452972412],[-4.081935405731201,-2.46185040473938,-1.9802157878875732,-2.6531641483306885,-0.33516135811805725,-0.7401883602142334,1.7367247343063354,-0.5777469277381897,-0.2088177353143692,1.156714677810669,-2.075221300125122,1.169082522392273,-0.44229426980018616,-3.2448885440826416,1.632944107055664,1.364043951034546,-3.1824965476989746,-2.576979875564575,1.6517698764801025,-3.1092920303344727,-1.8153034448623657,0.734398365020752,0.6713629961013794,1.1946042776107788,1.1349972486495972,-1.3340665102005005,-0.44048231840133667,-1.6768593788146973,-0.01645195484161377,-2.8083255290985107,2.2007312774658203,-3.1456615924835205,0.21861959993839264,7.68272590637207,-1.5644919872283936,-3.8378729820251465,-4.130799293518066,2.20198392868042,-0.4438759684562683,2.0868492126464844,0.26461657881736755,-3.0358710289001465,-2.0392799377441406,2.459669589996338,-1.4496461153030396,2.2074546813964844,0.4790652096271515,-0.642599880695343,0.444275438785553,-4.394819259643555],[-1.735182762145996,-0.8209155797958374,-0.8434279561042786,2.2828354835510254,-0.8869816660881042,-4.616025447845459,-0.4268771708011627,-4.905850410461426,3.2019262313842773,0.2413826733827591,-3.5305936336517334,-0.5270750522613525,-0.44886356592178345,0.3835047483444214,3.1293652057647705,0.4216825067996979,-2.128417491912842,-2.0754544734954834,-2.3729772567749023,0.10806629061698914,2.6468167304992676,2.1506407260894775,-2.877044677734375,-1.2876405715942383,-1.0014406442642212,2.6432206630706787,-4.708860874176025,1.5059254169464111,-1.6742335557937622,1.4431496858596802,1.8558735847473145,0.3615821599960327,2.2487831115722656,-1.6234394311904907,8.480530738830566,-0.3049252927303314,-2.1846933364868164,0.8036229610443115,0.8493669033050537,-0.33901217579841614,-0.14027553796768188,0.6745967268943787,-4.7063093185424805,-1.4368265867233276,0.43423476815223694,0.4486061930656433,-0.30563047528266907,-1.906440258026123,-0.6931996941566467,1.8064308166503906],[-1.4799401760101318,0.2874950170516968,-3.091998815536499,0.14518767595291138,1.4165074825286865,-0.7185587882995605,-1.134363055229187,2.824247360229492,2.467839479446411,-1.2516357898712158,1.8846055269241333,-2.8830137252807617,0.737116813659668,0.6984593868255615,-2.238462448120117,-1.3211557865142822,-1.4895581007003784,1.8520503044128418,-2.3371050357818604,-0.6620055437088013,2.2633306980133057,1.3183926343917847,-0.26250502467155457,-2.066070795059204,-1.3912689685821533,0.8221431970596313,-1.5148744583129883,1.8228890895843506,1.5985814332962036,-2.7294318675994873,1.6845717430114746,0.23091673851013184,1.9363137483596802,-1.179595708847046,-0.08010727167129517,8.653951644897461,2.5901541709899902,-1.2614277601242065,1.8798158168792725,-0.6242061257362366,-0.6731985807418823,0.5754562020301819,1.0114574432373047,1.046475887298584,-3.0188093185424805,-0.5687146782875061,2.715132713317871,-0.8112372159957886,-2.3699584007263184,2.2969183921813965],[-2.390960454940796,-3.7065210342407227,1.7917207479476929,-1.5308539867401123,-3.2709898948669434,1.0905938148498535,-1.3948286771774292,2.881272315979004,1.5162911415100098,-3.699540138244629,2.2606348991394043,-2.625157594680786,3.165996551513672,1.1094748973846436,-5.675763130187988,0.7640698552131653,2.191725492477417,0.5636391639709473,-1.8504470586776733,-2.199580192565918,2.426478862762451,4.207159042358398,-1.5455816984176636,-3.6883139610290527,-1.3367602825164795,2.2060327529907227,1.8384273052215576,1.050251841545105,0.25030815601348877,0.9202128052711487,-0.9613276720046997,-1.4149169921875,-2.4212851524353027,-2.8338146209716797,-0.8456820845603943,3.356935501098633,9.928304672241211,0.8706027269363403,3.0511999130249023,-2.4561548233032227,0.9195953011512756,-0.36687353253364563,0.4149378538131714,-0.7180842161178589,1.302330732345581,-1.1344339847564697,-0.4023110568523407,1.754634976387024,1.154144287109375,-0.24184295535087585],[-2.2514936923980713,-2.4021646976470947,-0.021119892597198486,-0.12498831748962402,-6.051465034484863,0.3067173957824707,1.783103108406067,-1.1615439653396606,-2.8783950805664062,1.6318297386169434,-2.36816668510437,1.9729506969451904,-0.30890217423439026,-2.43989634513855,-1.4304174184799194,-0.6080948114395142,-3.207303285598755,-3.000065803527832,2.047104835510254,-2.5033817291259766,-0.5458062291145325,2.8840606212615967,-1.4180539846420288,-2.2815487384796143,-2.225216865539551,-1.6846872568130493,-1.748630404472351,2.2055020332336426,-4.41240119934082,1.4668673276901245,0.12081322073936462,-2.50215220451355,1.2254281044006348,2.0655527114868164,1.0429723262786865,-2.874488353729248,-0.38862308859825134,8.256023406982422,0.3886280357837677,-0.6174322366714478,-0.6673383712768555,0.7710996866226196,0.0565304160118103,0.5257161855697632,1.7998144626617432,0.2066253125667572,1.704184889793396,-1.8833987712860107,-3.945425510406494,-5.130570411682129],[-2.1614115238189697,0.9280809164047241,-1.3174717426300049,0.7507463693618774,-1.460496425628662,-0.3755752444267273,-2.52301025390625,1.853481411933899,1.3844354152679443,-0.3044079542160034,-1.363479495048523,-3.469667434692383,0.17199569940567017,-2.3388333320617676,-0.3951629102230072,0.519659698009491,1.735633134841919,0.8936433792114258,0.4099697768688202,-1.7325209379196167,-0.1694672405719757,2.0345802307128906,-3.7754995822906494,-3.1406748294830322,-0.3173986077308655,2.695894241333008,-3.233539342880249,0.5599418878555298,-0.3975928723812103,-2.077192783355713,0.1695593297481537,-1.9685790538787842,-1.989840030670166,0.06836724281311035,1.0463905334472656,1.851036548614502,1.592777132987976,0.04933843016624451,8.372392654418945,0.41859525442123413,-0.4093991219997406,-1.337307333946228,-0.28161779046058655,0.06996104121208191,-0.15744343400001526,-1.9867808818817139,-1.7040002346038818,-0.4342308044433594,2.071984052658081,0.760396420955658],[0.7319787740707397,-1.686518907546997,-5.168289661407471,0.7804561853408813,-2.8650827407836914,1.7114818096160889,3.256429672241211,1.2609987258911133,-1.5521031618118286,1.7185064554214478,-5.589323043823242,-3.8793954849243164,-2.368577003479004,0.7150182723999023,0.7698138952255249,-1.8078985214233398,0.2929604649543762,-3.1541972160339355,1.6576435565948486,-1.169822096824646,-5.835813522338867,-0.359615683555603,-0.5774416923522949,0.17834633588790894,-1.5118765830993652,2.592456817626953,1.3840192556381226,2.061547040939331,1.3821277618408203,-0.42970192432403564,-1.697650671005249,-1.1183688640594482,-0.7894494533538818,1.973698616027832,-1.5688354969024658,-2.089789390563965,-2.3829293251037598,0.6042501330375671,-1.1364445686340332,8.091958045959473,-1.5632472038269043,-3.5369668006896973,0.36450809240341187,3.3705644607543945,-0.5352096557617188,-0.018514007329940796,-1.0484063625335693,1.3837487697601318,0.034123510122299194,-2.7284631729125977],[0.48601341247558594,2.2891438007354736,-0.8633108139038086,-2.0142862796783447,-0.15560267865657806,-0.690549373626709,-1.048580288887024,1.6291719675064087,-0.2712326645851135,-1.395239233970642,-0.00483684241771698,-0.11253504455089569,-1.4044508934020996,1.4420720338821411,0.4655891954898834,-0.028979748487472534,-2.506240129470825,-0.3693605363368988,-0.8823884725570679,-3.5316219329833984,0.9556424617767334,0.5670526027679443,2.5978260040283203,1.7100633382797241,-4.386501312255859,-0.31900447607040405,-0.8861767053604126,-1.270362138748169,-1.8098299503326416,-0.4482865333557129,1.9836878776550293,0.5034022927284241,-1.1401903629302979,0.5608431696891785,-1.2785706520080566,-0.3276151418685913,0.20953971147537231,-0.5837596654891968,-1.654248833656311,-0.7380191087722778,7.846548557281494,1.5411204099655151,-3.3696846961975098,0.6600518226623535,1.211073398590088,-0.10469669103622437,2.5451860427856445,1.823775291442871,-0.18993127346038818,1.336961269378662],[0.9491598010063171,2.067577838897705,0.034609630703926086,0.23340553045272827,-0.6204105615615845,-1.010926365852356,-6.956661224365234,-0.09822064638137817,-3.392075300216675,-2.128026008605957,-1.1321508884429932,1.329443335533142,-1.8398517370224,1.6735889911651611,0.3259604275226593,2.193793296813965,-2.4306721687316895,-2.479732036590576,-0.11395570635795593,-1.3419201374053955,2.6722359657287598,-3.172654867172241,-1.886364459991455,-1.624671459197998,-3.5518951416015625,-1.0768828392028809,-3.8794617652893066,-1.572962760925293,-3.5277719497680664,0.3611752986907959,-0.6346851587295532,0.7605711221694946,0.9344462156295776,-1.7684290409088135,0.9621503353118896,-0.20145459473133087,-0.8558446168899536,1.710843801498413,0.5490614771842957,-2.822730541229248,1.6620333194732666,8.031855583190918,-0.2681712210178375,1.4834727048873901,2.2030200958251953,2.31073260307312,1.2939352989196777,-2.6261544227600098,-1.8204646110534668,-0.9684878587722778],[0.4431228041648865,0.8921064734458923,-0.790017306804657,1.1256968975067139,-0.20354348421096802,1.2163782119750977,1.0411536693572998,2.7830936908721924,-2.3767178058624268,0.2599405348300934,1.0215153694152832,1.268471121788025,-0.9874242544174194,-1.8480342626571655,-1.1886584758758545,-1.1501579284667969,2.538619041442871,1.0396064519882202,1.7065672874450684,1.977588176727295,0.05797438323497772,-0.8889714479446411,0.4855095148086548,-1.6978412866592407,2.8186378479003906,-0.9649031758308411,1.9765660762786865,0.9191076159477234,1.5461417436599731,-0.3321114182472229,-2.360525608062744,-0.6119198799133301,-0.06869347393512726,0.13407385349273682,-3.150195598602295,1.4638183116912842,0.9307389259338379,1.1637201309204102,1.1904033422470093,0.4668191075325012,-3.584233283996582,0.3779047131538391,7.2695488929748535,-0.2879212498664856,1.3247474431991577,-0.3199557065963745,0.6708133816719055,-2.510646343231201,-0.7626097202301025,-2.802873134613037],[-1.2210297584533691,-6.180271625518799,-2.919254779815674,0.5936435461044312,0.3650500774383545,0.2704920768737793,-1.492544174194336,-0.0744759738445282,-1.7412753105163574,0.047463059425354004,-3.8986611366271973,-1.5467089414596558,-0.5057349801063538,0.9899908900260925,-0.45807933807373047,0.5216082334518433,-2.234246253967285,-1.2507524490356445,0.03334629535675049,-2.0407915115356445,-2.3245739936828613,-2.579979419708252,0.6372902393341064,-1.5389999151229858,-2.2191781997680664,-0.32003042101860046,-0.955439031124115,-1.4679688215255737,1.5094735622406006,-4.315579414367676,0.8899648189544678,-0.6695128679275513,0.650382399559021,1.9467519521713257,-2.029472827911377,-1.6957134008407593,-0.21941691637039185,0.026411354541778564,-0.8782548308372498,1.8312435150146484,0.3787030577659607,-1.436463475227356,-1.614851951599121,7.529789924621582,-1.5655202865600586,1.1380727291107178,0.6916790008544922,-1.339374303817749,0.8935455679893494,-3.146959066390991],[-0.5677403807640076,-0.31694549322128296,1.5412085056304932,0.17022545635700226,-0.8118622303009033,-0.923345685005188,0.7685701251029968,0.6907542943954468,0.97071373462677,-1.998734951019287,-2.521109104156494,1.4746806621551514,-1.8878111839294434,1.1861897706985474,2.180549144744873,-0.16097790002822876,0.07174867391586304,-1.3031809329986572,-1.9687139987945557,1.8436799049377441,2.7211403846740723,-0.2778812646865845,1.5485864877700806,-0.37617313861846924,0.2217896431684494,2.3857760429382324,1.4495989084243774,1.5828202962875366,-1.4932794570922852,2.4040639400482178,-1.79206383228302,-0.11943867802619934,-1.4828450679779053,-0.6381458044052124,1.4384863376617432,-3.4021642208099365,0.25155556201934814,2.359816074371338,0.5151918530464172,-0.4046199917793274,1.7639566659927368,1.4362573623657227,0.6561545729637146,-1.758446216583252,7.647017002105713,0.24293971061706543,-0.0665360614657402,-3.3582286834716797,0.4561549425125122,-1.815899133682251],[-4.817043304443359,-1.0948901176452637,-1.0893115997314453,-0.5555611848831177,-0.7943496704101562,0.04140740633010864,-4.1041765213012695,-2.300112247467041,-1.4197763204574585,-2.0452451705932617,-3.147292137145996,0.37292852997779846,0.008274704217910767,1.905991792678833,1.6197538375854492,2.6552000045776367,-2.184481620788574,-5.661596298217773,-2.72322940826416,-3.0227255821228027,-1.0793614387512207,-0.8095873594284058,1.1885604858398438,-0.5580158233642578,-2.999849796295166,1.3930604457855225,-0.432433158159256,-2.0591728687286377,1.7539676427841187,-2.358982801437378,-1.8989670276641846,-1.571923017501831,1.3178986310958862,1.5987929105758667,-0.6791385412216187,-2.6190223693847656,-1.8833894729614258,0.42068740725517273,-3.203260898590088,-0.8666051030158997,-1.1420392990112305,1.9071401357650757,-2.1234779357910156,3.1592459678649902,0.903117299079895,8.219619750976562,-0.9605818390846252,-2.2429616451263428,-2.4420759677886963,-5.209723472595215],[-0.9953113794326782,-1.3365592956542969,-3.1880452632904053,-0.3890449106693268,1.0849348306655884,-3.0639243125915527,0.441758394241333,1.0437841415405273,-0.851462721824646,1.486796498298645,2.130012035369873,1.300007939338684,-0.383730947971344,-0.778270959854126,-0.8177603483200073,1.3751285076141357,-4.754974365234375,-0.4962414801120758,-0.44286268949508667,-3.510733127593994,2.120945453643799,1.2911410331726074,0.3531423807144165,-0.3695085644721985,-0.6259519457817078,-3.8167004585266113,-2.009035587310791,-2.3222267627716064,-0.7684412002563477,-2.57889986038208,2.142998695373535,0.6385320425033569,1.7756110429763794,1.325569748878479,-1.1598201990127563,2.5186586380004883,-0.5924580097198486,1.8598712682724,-1.5066108703613281,-1.5734007358551025,2.0011491775512695,1.072131872177124,-0.12225542962551117,1.640311360359192,-1.2808525562286377,-0.43422001600265503,6.973474025726318,-0.6936988830566406,-3.1355409622192383,-1.3869061470031738],[0.6080642938613892,1.6072593927383423,-1.222022533416748,-0.9173204302787781,-3.3185672760009766,1.7643988132476807,-0.2806994318962097,0.24516727030277252,-1.1971136331558228,0.8995757699012756,0.30906981229782104,-2.251974105834961,0.7261142730712891,-0.6402039527893066,-0.970940113067627,0.6791751384735107,1.8918962478637695,-1.2181265354156494,1.9914846420288086,-4.10518741607666,-4.1480865478515625,2.032759666442871,-2.4390556812286377,0.9551634788513184,-2.053265333175659,0.02501760423183441,-0.14812399446964264,-1.5899322032928467,-0.02118365466594696,0.24138885736465454,-0.7364490628242493,-0.5104241371154785,-2.6990737915039062,-0.07421276718378067,-1.6888507604599,-1.2087719440460205,0.8290863037109375,-0.7451686859130859,0.18956387042999268,2.194948196411133,1.8003976345062256,-1.5334956645965576,-2.284593343734741,-0.2682798504829407,-2.0371737480163574,-0.4717404246330261,-1.201583743095398,6.844321250915527,1.235382080078125,0.48389801383018494],[-0.37075111269950867,-1.9037866592407227,1.374463677406311,-0.13221824169158936,1.3450274467468262,-1.3594679832458496,-1.7949028015136719,-0.04026874899864197,1.0153764486312866,-2.4489030838012695,-1.1529650688171387,-0.8490852117538452,-0.7094463109970093,1.0441786050796509,1.3107779026031494,2.245457649230957,3.6315691471099854,-0.1085323691368103,0.9628084301948547,0.17138010263442993,-0.14060580730438232,-1.2183198928833008,-1.4216060638427734,1.287672996520996,2.08677339553833,2.276305675506592,1.0432393550872803,-3.2522873878479004,-0.03473931550979614,1.0537559986114502,0.2295830249786377,-0.3397173583507538,-3.987663745880127,-0.5152450799942017,0.9546754360198975,-3.187382459640503,0.7616710662841797,-3.9141833782196045,2.369976043701172,1.0507969856262207,2.1037046909332275,-1.508793592453003,-2.2409589290618896,0.49095094203948975,1.1674370765686035,-1.1022534370422363,-3.3637640476226807,1.9059133529663086,7.918543815612793,2.4041929244995117],[2.3996522426605225,3.264338493347168,-0.004324197769165039,0.4738312363624573,2.0830233097076416,-2.122915506362915,-0.775164008140564,0.4795783758163452,3.716062545776367,0.0490814745426178,2.4218358993530273,-2.679421901702881,-0.492389976978302,2.548379421234131,0.9991375207901001,-0.7686722278594971,1.074319839477539,1.96345853805542,-1.9096099138259888,0.3008260130882263,1.5186301469802856,1.1277717351913452,-1.0179495811462402,2.4549403190612793,-2.001904010772705,2.4364969730377197,-1.426682949066162,0.05004778504371643,-1.1149470806121826,2.4342968463897705,1.6233468055725098,2.765631675720215,-0.5439911484718323,-3.7597992420196533,3.4182748794555664,4.49465274810791,0.6431856155395508,-4.367767333984375,1.0305023193359375,-0.43741220235824585,3.413745403289795,0.7692270874977112,-3.0594301223754883,-2.1757709980010986,-2.040052890777588,-2.786745071411133,0.07382351160049438,2.808469533920288,1.5075550079345703,8.976243019104004],[0.6438561677932739,-0.7377565503120422,0.5322550535202026,0.13073056936264038,-0.20902611315250397,0.7789291143417358,-0.34093984961509705,-0.8146213293075562,-0.7491182684898376,0.11800427734851837,-1.0032877922058105,-0.18791231513023376,-0.11673293262720108,0.33533617854118347,0.3903563916683197,-0.16180647909641266,0.5823802351951599,-0.47943246364593506,0.5455560684204102,0.8766029477119446,-1.0636892318725586,-1.2799917459487915,-0.13820993900299072,-0.10410599410533905,-0.33550938963890076,0.07933742552995682,0.12826389074325562,-0.05417058244347572,0.20382678508758545,-0.06020369380712509,-0.5701228976249695,0.18155723810195923,0.23965269327163696,-0.07067935168743134,-0.41453295946121216,-0.8975714445114136,-0.21926811337471008,-0.23776119947433472,-0.09325595200061798,0.6591017842292786,-0.7704524397850037,-0.21285870671272278,0.1070333868265152,0.9423818588256836,-0.293365478515625,0.08517859876155853,-1.0835516452789307,-0.17240890860557556,0.6249496936798096,-0.29692342877388],[1.7932310104370117,-1.2184940576553345,-2.8273606300354004,1.7970421314239502,-0.4310753047466278,0.11765462905168533,-0.5312038660049438,-0.224541574716568,-2.3264808654785156,0.8888269066810608,-2.671476364135742,-0.7018964290618896,-0.38287800550460815,0.28652846813201904,-0.0882950872182846,-0.9990620017051697,-1.0009746551513672,-1.011070728302002,0.9269405603408813,0.35113584995269775,-1.279259204864502,-1.7897486686706543,-1.1694426536560059,-1.383906602859497,-0.9264412522315979,0.1999313086271286,-2.155406951904297,0.8484336137771606,-0.22041389346122742,-0.9999023675918579,0.1428944170475006,-0.5777691006660461,1.2227394580841064,-0.41115090250968933,0.11543720960617065,-0.09919123351573944,-1.1042273044586182,0.5151545405387878,0.3788355588912964,1.625493049621582,-1.769991397857666,0.5025391578674316,0.5981007218360901,2.2207279205322266,-0.8873212933540344,-0.1374032348394394,-0.2494710385799408,-0.7205525636672974,-0.36683323979377747,-1.0436826944351196]],\"type\":\"heatmap\",\"xaxis\":\"x\",\"yaxis\":\"y\",\"hovertemplate\":\"logit: %{x}\\u003cbr\\u003esrc token: %{y}\\u003cbr\\u003ecolor: %{z}\\u003cextra\\u003e\\u003c\\u002fextra\\u003e\"}],                        {\"template\":{\"data\":{\"histogram2dcontour\":[{\"type\":\"histogram2dcontour\",\"colorbar\":{\"outlinewidth\":0,\"ticks\":\"\"},\"colorscale\":[[0.0,\"#0d0887\"],[0.1111111111111111,\"#46039f\"],[0.2222222222222222,\"#7201a8\"],[0.3333333333333333,\"#9c179e\"],[0.4444444444444444,\"#bd3786\"],[0.5555555555555556,\"#d8576b\"],[0.6666666666666666,\"#ed7953\"],[0.7777777777777778,\"#fb9f3a\"],[0.8888888888888888,\"#fdca26\"],[1.0,\"#f0f921\"]]}],\"choropleth\":[{\"type\":\"choropleth\",\"colorbar\":{\"outlinewidth\":0,\"ticks\":\"\"}}],\"histogram2d\":[{\"type\":\"histogram2d\",\"colorbar\":{\"outlinewidth\":0,\"ticks\":\"\"},\"colorscale\":[[0.0,\"#0d0887\"],[0.1111111111111111,\"#46039f\"],[0.2222222222222222,\"#7201a8\"],[0.3333333333333333,\"#9c179e\"],[0.4444444444444444,\"#bd3786\"],[0.5555555555555556,\"#d8576b\"],[0.6666666666666666,\"#ed7953\"],[0.7777777777777778,\"#fb9f3a\"],[0.8888888888888888,\"#fdca26\"],[1.0,\"#f0f921\"]]}],\"heatmap\":[{\"type\":\"heatmap\",\"colorbar\":{\"outlinewidth\":0,\"ticks\":\"\"},\"colorscale\":[[0.0,\"#0d0887\"],[0.1111111111111111,\"#46039f\"],[0.2222222222222222,\"#7201a8\"],[0.3333333333333333,\"#9c179e\"],[0.4444444444444444,\"#bd3786\"],[0.5555555555555556,\"#d8576b\"],[0.6666666666666666,\"#ed7953\"],[0.7777777777777778,\"#fb9f3a\"],[0.8888888888888888,\"#fdca26\"],[1.0,\"#f0f921\"]]}],\"heatmapgl\":[{\"type\":\"heatmapgl\",\"colorbar\":{\"outlinewidth\":0,\"ticks\":\"\"},\"colorscale\":[[0.0,\"#0d0887\"],[0.1111111111111111,\"#46039f\"],[0.2222222222222222,\"#7201a8\"],[0.3333333333333333,\"#9c179e\"],[0.4444444444444444,\"#bd3786\"],[0.5555555555555556,\"#d8576b\"],[0.6666666666666666,\"#ed7953\"],[0.7777777777777778,\"#fb9f3a\"],[0.8888888888888888,\"#fdca26\"],[1.0,\"#f0f921\"]]}],\"contourcarpet\":[{\"type\":\"contourcarpet\",\"colorbar\":{\"outlinewidth\":0,\"ticks\":\"\"}}],\"contour\":[{\"type\":\"contour\",\"colorbar\":{\"outlinewidth\":0,\"ticks\":\"\"},\"colorscale\":[[0.0,\"#0d0887\"],[0.1111111111111111,\"#46039f\"],[0.2222222222222222,\"#7201a8\"],[0.3333333333333333,\"#9c179e\"],[0.4444444444444444,\"#bd3786\"],[0.5555555555555556,\"#d8576b\"],[0.6666666666666666,\"#ed7953\"],[0.7777777777777778,\"#fb9f3a\"],[0.8888888888888888,\"#fdca26\"],[1.0,\"#f0f921\"]]}],\"surface\":[{\"type\":\"surface\",\"colorbar\":{\"outlinewidth\":0,\"ticks\":\"\"},\"colorscale\":[[0.0,\"#0d0887\"],[0.1111111111111111,\"#46039f\"],[0.2222222222222222,\"#7201a8\"],[0.3333333333333333,\"#9c179e\"],[0.4444444444444444,\"#bd3786\"],[0.5555555555555556,\"#d8576b\"],[0.6666666666666666,\"#ed7953\"],[0.7777777777777778,\"#fb9f3a\"],[0.8888888888888888,\"#fdca26\"],[1.0,\"#f0f921\"]]}],\"mesh3d\":[{\"type\":\"mesh3d\",\"colorbar\":{\"outlinewidth\":0,\"ticks\":\"\"}}],\"scatter\":[{\"fillpattern\":{\"fillmode\":\"overlay\",\"size\":10,\"solidity\":0.2},\"type\":\"scatter\"}],\"parcoords\":[{\"type\":\"parcoords\",\"line\":{\"colorbar\":{\"outlinewidth\":0,\"ticks\":\"\"}}}],\"scatterpolargl\":[{\"type\":\"scatterpolargl\",\"marker\":{\"colorbar\":{\"outlinewidth\":0,\"ticks\":\"\"}}}],\"bar\":[{\"error_x\":{\"color\":\"#2a3f5f\"},\"error_y\":{\"color\":\"#2a3f5f\"},\"marker\":{\"line\":{\"color\":\"#E5ECF6\",\"width\":0.5},\"pattern\":{\"fillmode\":\"overlay\",\"size\":10,\"solidity\":0.2}},\"type\":\"bar\"}],\"scattergeo\":[{\"type\":\"scattergeo\",\"marker\":{\"colorbar\":{\"outlinewidth\":0,\"ticks\":\"\"}}}],\"scatterpolar\":[{\"type\":\"scatterpolar\",\"marker\":{\"colorbar\":{\"outlinewidth\":0,\"ticks\":\"\"}}}],\"histogram\":[{\"marker\":{\"pattern\":{\"fillmode\":\"overlay\",\"size\":10,\"solidity\":0.2}},\"type\":\"histogram\"}],\"scattergl\":[{\"type\":\"scattergl\",\"marker\":{\"colorbar\":{\"outlinewidth\":0,\"ticks\":\"\"}}}],\"scatter3d\":[{\"type\":\"scatter3d\",\"line\":{\"colorbar\":{\"outlinewidth\":0,\"ticks\":\"\"}},\"marker\":{\"colorbar\":{\"outlinewidth\":0,\"ticks\":\"\"}}}],\"scattermapbox\":[{\"type\":\"scattermapbox\",\"marker\":{\"colorbar\":{\"outlinewidth\":0,\"ticks\":\"\"}}}],\"scatterternary\":[{\"type\":\"scatterternary\",\"marker\":{\"colorbar\":{\"outlinewidth\":0,\"ticks\":\"\"}}}],\"scattercarpet\":[{\"type\":\"scattercarpet\",\"marker\":{\"colorbar\":{\"outlinewidth\":0,\"ticks\":\"\"}}}],\"carpet\":[{\"aaxis\":{\"endlinecolor\":\"#2a3f5f\",\"gridcolor\":\"white\",\"linecolor\":\"white\",\"minorgridcolor\":\"white\",\"startlinecolor\":\"#2a3f5f\"},\"baxis\":{\"endlinecolor\":\"#2a3f5f\",\"gridcolor\":\"white\",\"linecolor\":\"white\",\"minorgridcolor\":\"white\",\"startlinecolor\":\"#2a3f5f\"},\"type\":\"carpet\"}],\"table\":[{\"cells\":{\"fill\":{\"color\":\"#EBF0F8\"},\"line\":{\"color\":\"white\"}},\"header\":{\"fill\":{\"color\":\"#C8D4E3\"},\"line\":{\"color\":\"white\"}},\"type\":\"table\"}],\"barpolar\":[{\"marker\":{\"line\":{\"color\":\"#E5ECF6\",\"width\":0.5},\"pattern\":{\"fillmode\":\"overlay\",\"size\":10,\"solidity\":0.2}},\"type\":\"barpolar\"}],\"pie\":[{\"automargin\":true,\"type\":\"pie\"}]},\"layout\":{\"autotypenumbers\":\"strict\",\"colorway\":[\"#636efa\",\"#EF553B\",\"#00cc96\",\"#ab63fa\",\"#FFA15A\",\"#19d3f3\",\"#FF6692\",\"#B6E880\",\"#FF97FF\",\"#FECB52\"],\"font\":{\"color\":\"#2a3f5f\"},\"hovermode\":\"closest\",\"hoverlabel\":{\"align\":\"left\"},\"paper_bgcolor\":\"white\",\"plot_bgcolor\":\"#E5ECF6\",\"polar\":{\"bgcolor\":\"#E5ECF6\",\"angularaxis\":{\"gridcolor\":\"white\",\"linecolor\":\"white\",\"ticks\":\"\"},\"radialaxis\":{\"gridcolor\":\"white\",\"linecolor\":\"white\",\"ticks\":\"\"}},\"ternary\":{\"bgcolor\":\"#E5ECF6\",\"aaxis\":{\"gridcolor\":\"white\",\"linecolor\":\"white\",\"ticks\":\"\"},\"baxis\":{\"gridcolor\":\"white\",\"linecolor\":\"white\",\"ticks\":\"\"},\"caxis\":{\"gridcolor\":\"white\",\"linecolor\":\"white\",\"ticks\":\"\"}},\"coloraxis\":{\"colorbar\":{\"outlinewidth\":0,\"ticks\":\"\"}},\"colorscale\":{\"sequential\":[[0.0,\"#0d0887\"],[0.1111111111111111,\"#46039f\"],[0.2222222222222222,\"#7201a8\"],[0.3333333333333333,\"#9c179e\"],[0.4444444444444444,\"#bd3786\"],[0.5555555555555556,\"#d8576b\"],[0.6666666666666666,\"#ed7953\"],[0.7777777777777778,\"#fb9f3a\"],[0.8888888888888888,\"#fdca26\"],[1.0,\"#f0f921\"]],\"sequentialminus\":[[0.0,\"#0d0887\"],[0.1111111111111111,\"#46039f\"],[0.2222222222222222,\"#7201a8\"],[0.3333333333333333,\"#9c179e\"],[0.4444444444444444,\"#bd3786\"],[0.5555555555555556,\"#d8576b\"],[0.6666666666666666,\"#ed7953\"],[0.7777777777777778,\"#fb9f3a\"],[0.8888888888888888,\"#fdca26\"],[1.0,\"#f0f921\"]],\"diverging\":[[0,\"#8e0152\"],[0.1,\"#c51b7d\"],[0.2,\"#de77ae\"],[0.3,\"#f1b6da\"],[0.4,\"#fde0ef\"],[0.5,\"#f7f7f7\"],[0.6,\"#e6f5d0\"],[0.7,\"#b8e186\"],[0.8,\"#7fbc41\"],[0.9,\"#4d9221\"],[1,\"#276419\"]]},\"xaxis\":{\"gridcolor\":\"white\",\"linecolor\":\"white\",\"ticks\":\"\",\"title\":{\"standoff\":15},\"zerolinecolor\":\"white\",\"automargin\":true,\"zerolinewidth\":2},\"yaxis\":{\"gridcolor\":\"white\",\"linecolor\":\"white\",\"ticks\":\"\",\"title\":{\"standoff\":15},\"zerolinecolor\":\"white\",\"automargin\":true,\"zerolinewidth\":2},\"scene\":{\"xaxis\":{\"backgroundcolor\":\"#E5ECF6\",\"gridcolor\":\"white\",\"linecolor\":\"white\",\"showbackground\":true,\"ticks\":\"\",\"zerolinecolor\":\"white\",\"gridwidth\":2},\"yaxis\":{\"backgroundcolor\":\"#E5ECF6\",\"gridcolor\":\"white\",\"linecolor\":\"white\",\"showbackground\":true,\"ticks\":\"\",\"zerolinecolor\":\"white\",\"gridwidth\":2},\"zaxis\":{\"backgroundcolor\":\"#E5ECF6\",\"gridcolor\":\"white\",\"linecolor\":\"white\",\"showbackground\":true,\"ticks\":\"\",\"zerolinecolor\":\"white\",\"gridwidth\":2}},\"shapedefaults\":{\"line\":{\"color\":\"#2a3f5f\"}},\"annotationdefaults\":{\"arrowcolor\":\"#2a3f5f\",\"arrowhead\":0,\"arrowwidth\":1},\"geo\":{\"bgcolor\":\"white\",\"landcolor\":\"#E5ECF6\",\"subunitcolor\":\"white\",\"showland\":true,\"showlakes\":true,\"lakecolor\":\"white\"},\"title\":{\"x\":0.05},\"mapbox\":{\"style\":\"light\"}}},\"xaxis\":{\"anchor\":\"y\",\"domain\":[0.0,1.0],\"scaleanchor\":\"y\",\"constrain\":\"domain\",\"title\":{\"text\":\"logit\"}},\"yaxis\":{\"anchor\":\"x\",\"domain\":[0.0,1.0],\"autorange\":\"reversed\",\"constrain\":\"domain\",\"title\":{\"text\":\"src token\"}},\"coloraxis\":{\"colorscale\":[[0.0,\"rgb(103,0,31)\"],[0.1,\"rgb(178,24,43)\"],[0.2,\"rgb(214,96,77)\"],[0.3,\"rgb(244,165,130)\"],[0.4,\"rgb(253,219,199)\"],[0.5,\"rgb(247,247,247)\"],[0.6,\"rgb(209,229,240)\"],[0.7,\"rgb(146,197,222)\"],[0.8,\"rgb(67,147,195)\"],[0.9,\"rgb(33,102,172)\"],[1.0,\"rgb(5,48,97)\"]],\"cmid\":0.0},\"title\":{\"text\":\"1.0 Full OV circuit W_E @ (W_OV)^1.0 @ W_U\"}},                        {\"responsive\": true}                    ).then(function(){\n",
              "                            \n",
              "var gd = document.getElementById('24bff72f-2791-4b1e-b75b-339f81994aa2');\n",
              "var x = new MutationObserver(function (mutations, observer) {{\n",
              "        var display = window.getComputedStyle(gd).display;\n",
              "        if (!display || display === 'none') {{\n",
              "            console.log([gd, 'removed!']);\n",
              "            Plotly.purge(gd);\n",
              "            observer.disconnect();\n",
              "        }}\n",
              "}});\n",
              "\n",
              "// Listen for the removal of the full notebook cells\n",
              "var notebookContainer = gd.closest('#notebook-container');\n",
              "if (notebookContainer) {{\n",
              "    x.observe(notebookContainer, {childList: true});\n",
              "}}\n",
              "\n",
              "// Listen for the clearing of the current output cell\n",
              "var outputEl = gd.closest('.output');\n",
              "if (outputEl) {{\n",
              "    x.observe(outputEl, {childList: true});\n",
              "}}\n",
              "\n",
              "                        })                };                            </script>        </div>\n",
              "</body>\n",
              "</html>"
            ]
          },
          "metadata": {}
        }
      ]
    },
    {
      "cell_type": "code",
      "source": [
        "layer, head_index = 1, 0\n",
        "full_OV_circuit = (W_E @ model.OV[layer, head_index].AB @ W_U)[:cfg.d_vocab_out]\n",
        "top_1_acc = (full_OV_circuit.argmax(dim=-1) == torch.arange(cfg.d_vocab_out, device=cfg.device)).float().mean()\n",
        "print(\"Fraction of time top logit is on diagonal\", top_1_acc.item())"
      ],
      "metadata": {
        "colab": {
          "base_uri": "https://localhost:8080/"
        },
        "id": "xsnsNu1UE9UV",
        "outputId": "d5c0c556-92c0-4212-ab42-b2d3c82bd930"
      },
      "execution_count": 27,
      "outputs": [
        {
          "output_type": "stream",
          "name": "stdout",
          "text": [
            "Fraction of time top logit is on diagonal 1.0\n"
          ]
        }
      ]
    },
    {
      "cell_type": "markdown",
      "source": [
        "We see clear copying. Now it seems clear that the model figures out to attend to the correct next token and then copy, but how does it know to attend to the correct next token in the first place? It must be using some kind of composition. We can start by looking at the attn patterns for 0.0 to get a sense of what information is being moved in L0:"
      ],
      "metadata": {
        "id": "fBiRv5rdFUkh"
      }
    },
    {
      "cell_type": "markdown",
      "source": [
        "## Stare at 0.0 patterns"
      ],
      "metadata": {
        "id": "MdPkNt4BF-RD"
      }
    },
    {
      "cell_type": "code",
      "source": [
        "layer, head_index = 0, 0\n",
        "imshow(\n",
        "    cache['pattern', layer][:, head_index, :, :].mean(dim=0), # TL attn patterns (cache['pattern', layer]) has shape [batch, head_index, dest_pos, src_pos]\n",
        "    title=f\"{layer}.{head_index} patterns (avged over batch)\",\n",
        "    xaxis='src', yaxis='dest',\n",
        "    x=labels, y=labels\n",
        ")"
      ],
      "metadata": {
        "colab": {
          "base_uri": "https://localhost:8080/",
          "height": 542
        },
        "id": "M4UACvaWGG7C",
        "outputId": "6ae01978-5e0b-4042-d825-180facd24ffe"
      },
      "execution_count": 28,
      "outputs": [
        {
          "output_type": "display_data",
          "data": {
            "text/html": [
              "<html>\n",
              "<head><meta charset=\"utf-8\" /></head>\n",
              "<body>\n",
              "    <div>            <script src=\"https://cdnjs.cloudflare.com/ajax/libs/mathjax/2.7.5/MathJax.js?config=TeX-AMS-MML_SVG\"></script><script type=\"text/javascript\">if (window.MathJax && window.MathJax.Hub && window.MathJax.Hub.Config) {window.MathJax.Hub.Config({SVG: {font: \"STIX-Web\"}});}</script>                <script type=\"text/javascript\">window.PlotlyConfig = {MathJaxConfig: 'local'};</script>\n",
              "        <script charset=\"utf-8\" src=\"https://cdn.plot.ly/plotly-2.24.1.min.js\"></script>                <div id=\"1a73c66b-d75a-4472-b870-237d2a4f16bd\" class=\"plotly-graph-div\" style=\"height:525px; width:100%;\"></div>            <script type=\"text/javascript\">                                    window.PLOTLYENV=window.PLOTLYENV || {};                                    if (document.getElementById(\"1a73c66b-d75a-4472-b870-237d2a4f16bd\")) {                    Plotly.newPlot(                        \"1a73c66b-d75a-4472-b870-237d2a4f16bd\",                        [{\"coloraxis\":\"coloraxis\",\"name\":\"0\",\"x\":[\"BOS\",\"14_1\",\"26_2\",\"35_3\",\"nl_0\",\"1_5\",\"48_6\",\"nl_1\",\"14_8\",\"48_9\",\"35_10\"],\"y\":[\"BOS\",\"14_1\",\"26_2\",\"35_3\",\"nl_0\",\"1_5\",\"48_6\",\"nl_1\",\"14_8\",\"48_9\",\"35_10\"],\"z\":[[1.0,0.0,0.0,0.0,0.0,0.0,0.0,0.0,0.0,0.0,0.0],[0.5470530390739441,0.4529469609260559,0.0,0.0,0.0,0.0,0.0,0.0,0.0,0.0,0.0],[0.3119790554046631,0.11921475827693939,0.5688061714172363,0.0,0.0,0.0,0.0,0.0,0.0,0.0,0.0],[0.35590964555740356,0.08056646585464478,0.09320943057537079,0.4703144431114197,0.0,0.0,0.0,0.0,0.0,0.0,0.0],[0.2752518653869629,0.16864196956157684,0.277553915977478,0.08963653445243835,0.18891571462154388,0.0,0.0,0.0,0.0,0.0,0.0],[0.2835063934326172,0.16743522882461548,0.15691623091697693,0.11386708170175552,0.2511484622955322,0.027126630768179893,0.0,0.0,0.0,0.0,0.0],[0.000544935348443687,0.02058403566479683,0.02323053404688835,0.01807967945933342,0.0007813990814611316,0.6644984483718872,0.27228105068206787,0.0,0.0,0.0,0.0],[0.0055063762702047825,0.35019147396087646,0.23555655777454376,0.02893100678920746,0.005198740400373936,0.0020904960110783577,0.3696105182170868,0.002914826851338148,0.0,0.0,0.0],[0.007280196528881788,0.011642778292298317,0.5549327731132507,0.03791721165180206,0.004049542360007763,0.0022261119447648525,0.37437304854393005,0.0027746667619794607,0.004803680814802647,0.0,0.0],[0.0016945658717304468,0.002877685474231839,0.03349017724394798,0.28486400842666626,9.858074190560728e-05,0.000937694450840354,0.6725137233734131,0.0001556419301778078,0.0010686370078474283,0.0022993143647909164,0.0],[0.08427788317203522,0.0743228867650032,0.1255837082862854,0.11608359217643738,0.07272011041641235,0.07060287147760391,0.1423654556274414,0.06689062714576721,0.07061570882797241,0.0828561931848526,0.0936809629201889]],\"type\":\"heatmap\",\"xaxis\":\"x\",\"yaxis\":\"y\",\"hovertemplate\":\"src: %{x}\\u003cbr\\u003edest: %{y}\\u003cbr\\u003ecolor: %{z}\\u003cextra\\u003e\\u003c\\u002fextra\\u003e\"}],                        {\"template\":{\"data\":{\"histogram2dcontour\":[{\"type\":\"histogram2dcontour\",\"colorbar\":{\"outlinewidth\":0,\"ticks\":\"\"},\"colorscale\":[[0.0,\"#0d0887\"],[0.1111111111111111,\"#46039f\"],[0.2222222222222222,\"#7201a8\"],[0.3333333333333333,\"#9c179e\"],[0.4444444444444444,\"#bd3786\"],[0.5555555555555556,\"#d8576b\"],[0.6666666666666666,\"#ed7953\"],[0.7777777777777778,\"#fb9f3a\"],[0.8888888888888888,\"#fdca26\"],[1.0,\"#f0f921\"]]}],\"choropleth\":[{\"type\":\"choropleth\",\"colorbar\":{\"outlinewidth\":0,\"ticks\":\"\"}}],\"histogram2d\":[{\"type\":\"histogram2d\",\"colorbar\":{\"outlinewidth\":0,\"ticks\":\"\"},\"colorscale\":[[0.0,\"#0d0887\"],[0.1111111111111111,\"#46039f\"],[0.2222222222222222,\"#7201a8\"],[0.3333333333333333,\"#9c179e\"],[0.4444444444444444,\"#bd3786\"],[0.5555555555555556,\"#d8576b\"],[0.6666666666666666,\"#ed7953\"],[0.7777777777777778,\"#fb9f3a\"],[0.8888888888888888,\"#fdca26\"],[1.0,\"#f0f921\"]]}],\"heatmap\":[{\"type\":\"heatmap\",\"colorbar\":{\"outlinewidth\":0,\"ticks\":\"\"},\"colorscale\":[[0.0,\"#0d0887\"],[0.1111111111111111,\"#46039f\"],[0.2222222222222222,\"#7201a8\"],[0.3333333333333333,\"#9c179e\"],[0.4444444444444444,\"#bd3786\"],[0.5555555555555556,\"#d8576b\"],[0.6666666666666666,\"#ed7953\"],[0.7777777777777778,\"#fb9f3a\"],[0.8888888888888888,\"#fdca26\"],[1.0,\"#f0f921\"]]}],\"heatmapgl\":[{\"type\":\"heatmapgl\",\"colorbar\":{\"outlinewidth\":0,\"ticks\":\"\"},\"colorscale\":[[0.0,\"#0d0887\"],[0.1111111111111111,\"#46039f\"],[0.2222222222222222,\"#7201a8\"],[0.3333333333333333,\"#9c179e\"],[0.4444444444444444,\"#bd3786\"],[0.5555555555555556,\"#d8576b\"],[0.6666666666666666,\"#ed7953\"],[0.7777777777777778,\"#fb9f3a\"],[0.8888888888888888,\"#fdca26\"],[1.0,\"#f0f921\"]]}],\"contourcarpet\":[{\"type\":\"contourcarpet\",\"colorbar\":{\"outlinewidth\":0,\"ticks\":\"\"}}],\"contour\":[{\"type\":\"contour\",\"colorbar\":{\"outlinewidth\":0,\"ticks\":\"\"},\"colorscale\":[[0.0,\"#0d0887\"],[0.1111111111111111,\"#46039f\"],[0.2222222222222222,\"#7201a8\"],[0.3333333333333333,\"#9c179e\"],[0.4444444444444444,\"#bd3786\"],[0.5555555555555556,\"#d8576b\"],[0.6666666666666666,\"#ed7953\"],[0.7777777777777778,\"#fb9f3a\"],[0.8888888888888888,\"#fdca26\"],[1.0,\"#f0f921\"]]}],\"surface\":[{\"type\":\"surface\",\"colorbar\":{\"outlinewidth\":0,\"ticks\":\"\"},\"colorscale\":[[0.0,\"#0d0887\"],[0.1111111111111111,\"#46039f\"],[0.2222222222222222,\"#7201a8\"],[0.3333333333333333,\"#9c179e\"],[0.4444444444444444,\"#bd3786\"],[0.5555555555555556,\"#d8576b\"],[0.6666666666666666,\"#ed7953\"],[0.7777777777777778,\"#fb9f3a\"],[0.8888888888888888,\"#fdca26\"],[1.0,\"#f0f921\"]]}],\"mesh3d\":[{\"type\":\"mesh3d\",\"colorbar\":{\"outlinewidth\":0,\"ticks\":\"\"}}],\"scatter\":[{\"fillpattern\":{\"fillmode\":\"overlay\",\"size\":10,\"solidity\":0.2},\"type\":\"scatter\"}],\"parcoords\":[{\"type\":\"parcoords\",\"line\":{\"colorbar\":{\"outlinewidth\":0,\"ticks\":\"\"}}}],\"scatterpolargl\":[{\"type\":\"scatterpolargl\",\"marker\":{\"colorbar\":{\"outlinewidth\":0,\"ticks\":\"\"}}}],\"bar\":[{\"error_x\":{\"color\":\"#2a3f5f\"},\"error_y\":{\"color\":\"#2a3f5f\"},\"marker\":{\"line\":{\"color\":\"#E5ECF6\",\"width\":0.5},\"pattern\":{\"fillmode\":\"overlay\",\"size\":10,\"solidity\":0.2}},\"type\":\"bar\"}],\"scattergeo\":[{\"type\":\"scattergeo\",\"marker\":{\"colorbar\":{\"outlinewidth\":0,\"ticks\":\"\"}}}],\"scatterpolar\":[{\"type\":\"scatterpolar\",\"marker\":{\"colorbar\":{\"outlinewidth\":0,\"ticks\":\"\"}}}],\"histogram\":[{\"marker\":{\"pattern\":{\"fillmode\":\"overlay\",\"size\":10,\"solidity\":0.2}},\"type\":\"histogram\"}],\"scattergl\":[{\"type\":\"scattergl\",\"marker\":{\"colorbar\":{\"outlinewidth\":0,\"ticks\":\"\"}}}],\"scatter3d\":[{\"type\":\"scatter3d\",\"line\":{\"colorbar\":{\"outlinewidth\":0,\"ticks\":\"\"}},\"marker\":{\"colorbar\":{\"outlinewidth\":0,\"ticks\":\"\"}}}],\"scattermapbox\":[{\"type\":\"scattermapbox\",\"marker\":{\"colorbar\":{\"outlinewidth\":0,\"ticks\":\"\"}}}],\"scatterternary\":[{\"type\":\"scatterternary\",\"marker\":{\"colorbar\":{\"outlinewidth\":0,\"ticks\":\"\"}}}],\"scattercarpet\":[{\"type\":\"scattercarpet\",\"marker\":{\"colorbar\":{\"outlinewidth\":0,\"ticks\":\"\"}}}],\"carpet\":[{\"aaxis\":{\"endlinecolor\":\"#2a3f5f\",\"gridcolor\":\"white\",\"linecolor\":\"white\",\"minorgridcolor\":\"white\",\"startlinecolor\":\"#2a3f5f\"},\"baxis\":{\"endlinecolor\":\"#2a3f5f\",\"gridcolor\":\"white\",\"linecolor\":\"white\",\"minorgridcolor\":\"white\",\"startlinecolor\":\"#2a3f5f\"},\"type\":\"carpet\"}],\"table\":[{\"cells\":{\"fill\":{\"color\":\"#EBF0F8\"},\"line\":{\"color\":\"white\"}},\"header\":{\"fill\":{\"color\":\"#C8D4E3\"},\"line\":{\"color\":\"white\"}},\"type\":\"table\"}],\"barpolar\":[{\"marker\":{\"line\":{\"color\":\"#E5ECF6\",\"width\":0.5},\"pattern\":{\"fillmode\":\"overlay\",\"size\":10,\"solidity\":0.2}},\"type\":\"barpolar\"}],\"pie\":[{\"automargin\":true,\"type\":\"pie\"}]},\"layout\":{\"autotypenumbers\":\"strict\",\"colorway\":[\"#636efa\",\"#EF553B\",\"#00cc96\",\"#ab63fa\",\"#FFA15A\",\"#19d3f3\",\"#FF6692\",\"#B6E880\",\"#FF97FF\",\"#FECB52\"],\"font\":{\"color\":\"#2a3f5f\"},\"hovermode\":\"closest\",\"hoverlabel\":{\"align\":\"left\"},\"paper_bgcolor\":\"white\",\"plot_bgcolor\":\"#E5ECF6\",\"polar\":{\"bgcolor\":\"#E5ECF6\",\"angularaxis\":{\"gridcolor\":\"white\",\"linecolor\":\"white\",\"ticks\":\"\"},\"radialaxis\":{\"gridcolor\":\"white\",\"linecolor\":\"white\",\"ticks\":\"\"}},\"ternary\":{\"bgcolor\":\"#E5ECF6\",\"aaxis\":{\"gridcolor\":\"white\",\"linecolor\":\"white\",\"ticks\":\"\"},\"baxis\":{\"gridcolor\":\"white\",\"linecolor\":\"white\",\"ticks\":\"\"},\"caxis\":{\"gridcolor\":\"white\",\"linecolor\":\"white\",\"ticks\":\"\"}},\"coloraxis\":{\"colorbar\":{\"outlinewidth\":0,\"ticks\":\"\"}},\"colorscale\":{\"sequential\":[[0.0,\"#0d0887\"],[0.1111111111111111,\"#46039f\"],[0.2222222222222222,\"#7201a8\"],[0.3333333333333333,\"#9c179e\"],[0.4444444444444444,\"#bd3786\"],[0.5555555555555556,\"#d8576b\"],[0.6666666666666666,\"#ed7953\"],[0.7777777777777778,\"#fb9f3a\"],[0.8888888888888888,\"#fdca26\"],[1.0,\"#f0f921\"]],\"sequentialminus\":[[0.0,\"#0d0887\"],[0.1111111111111111,\"#46039f\"],[0.2222222222222222,\"#7201a8\"],[0.3333333333333333,\"#9c179e\"],[0.4444444444444444,\"#bd3786\"],[0.5555555555555556,\"#d8576b\"],[0.6666666666666666,\"#ed7953\"],[0.7777777777777778,\"#fb9f3a\"],[0.8888888888888888,\"#fdca26\"],[1.0,\"#f0f921\"]],\"diverging\":[[0,\"#8e0152\"],[0.1,\"#c51b7d\"],[0.2,\"#de77ae\"],[0.3,\"#f1b6da\"],[0.4,\"#fde0ef\"],[0.5,\"#f7f7f7\"],[0.6,\"#e6f5d0\"],[0.7,\"#b8e186\"],[0.8,\"#7fbc41\"],[0.9,\"#4d9221\"],[1,\"#276419\"]]},\"xaxis\":{\"gridcolor\":\"white\",\"linecolor\":\"white\",\"ticks\":\"\",\"title\":{\"standoff\":15},\"zerolinecolor\":\"white\",\"automargin\":true,\"zerolinewidth\":2},\"yaxis\":{\"gridcolor\":\"white\",\"linecolor\":\"white\",\"ticks\":\"\",\"title\":{\"standoff\":15},\"zerolinecolor\":\"white\",\"automargin\":true,\"zerolinewidth\":2},\"scene\":{\"xaxis\":{\"backgroundcolor\":\"#E5ECF6\",\"gridcolor\":\"white\",\"linecolor\":\"white\",\"showbackground\":true,\"ticks\":\"\",\"zerolinecolor\":\"white\",\"gridwidth\":2},\"yaxis\":{\"backgroundcolor\":\"#E5ECF6\",\"gridcolor\":\"white\",\"linecolor\":\"white\",\"showbackground\":true,\"ticks\":\"\",\"zerolinecolor\":\"white\",\"gridwidth\":2},\"zaxis\":{\"backgroundcolor\":\"#E5ECF6\",\"gridcolor\":\"white\",\"linecolor\":\"white\",\"showbackground\":true,\"ticks\":\"\",\"zerolinecolor\":\"white\",\"gridwidth\":2}},\"shapedefaults\":{\"line\":{\"color\":\"#2a3f5f\"}},\"annotationdefaults\":{\"arrowcolor\":\"#2a3f5f\",\"arrowhead\":0,\"arrowwidth\":1},\"geo\":{\"bgcolor\":\"white\",\"landcolor\":\"#E5ECF6\",\"subunitcolor\":\"white\",\"showland\":true,\"showlakes\":true,\"lakecolor\":\"white\"},\"title\":{\"x\":0.05},\"mapbox\":{\"style\":\"light\"}}},\"xaxis\":{\"anchor\":\"y\",\"domain\":[0.0,1.0],\"scaleanchor\":\"y\",\"constrain\":\"domain\",\"title\":{\"text\":\"src\"}},\"yaxis\":{\"anchor\":\"x\",\"domain\":[0.0,1.0],\"autorange\":\"reversed\",\"constrain\":\"domain\",\"title\":{\"text\":\"dest\"}},\"coloraxis\":{\"colorscale\":[[0.0,\"rgb(103,0,31)\"],[0.1,\"rgb(178,24,43)\"],[0.2,\"rgb(214,96,77)\"],[0.3,\"rgb(244,165,130)\"],[0.4,\"rgb(253,219,199)\"],[0.5,\"rgb(247,247,247)\"],[0.6,\"rgb(209,229,240)\"],[0.7,\"rgb(146,197,222)\"],[0.8,\"rgb(67,147,195)\"],[0.9,\"rgb(33,102,172)\"],[1.0,\"rgb(5,48,97)\"]],\"cmid\":0.0},\"title\":{\"text\":\"0.0 patterns (avged over batch)\"}},                        {\"responsive\": true}                    ).then(function(){\n",
              "                            \n",
              "var gd = document.getElementById('1a73c66b-d75a-4472-b870-237d2a4f16bd');\n",
              "var x = new MutationObserver(function (mutations, observer) {{\n",
              "        var display = window.getComputedStyle(gd).display;\n",
              "        if (!display || display === 'none') {{\n",
              "            console.log([gd, 'removed!']);\n",
              "            Plotly.purge(gd);\n",
              "            observer.disconnect();\n",
              "        }}\n",
              "}});\n",
              "\n",
              "// Listen for the removal of the full notebook cells\n",
              "var notebookContainer = gd.closest('#notebook-container');\n",
              "if (notebookContainer) {{\n",
              "    x.observe(notebookContainer, {childList: true});\n",
              "}}\n",
              "\n",
              "// Listen for the clearing of the current output cell\n",
              "var outputEl = gd.closest('.output');\n",
              "if (outputEl) {{\n",
              "    x.observe(outputEl, {childList: true});\n",
              "}}\n",
              "\n",
              "                        })                };                            </script>        </div>\n",
              "</body>\n",
              "</html>"
            ]
          },
          "metadata": {}
        }
      ]
    },
    {
      "cell_type": "markdown",
      "source": [
        "We notice that the \"elt\" token attends very strongly to the \"idx\" token.  Perhaps it uses this to broadcast \"I am at prediction position 1\", and the corresponding prediction position can just query for that. This would be an example of K-composition:\n",
        "\n",
        "![picture](https://drive.google.com/uc?id=12IBkPV_ZZrfGySRgDDL2Kimsc7vmbHry)\n",
        "\n",
        "We can refine this hypothesis with activation patching."
      ],
      "metadata": {
        "id": "zbMOlEU6Gcsx"
      }
    },
    {
      "cell_type": "markdown",
      "source": [
        "## Activation patching"
      ],
      "metadata": {
        "id": "nvu40xW7GvQK"
      }
    },
    {
      "cell_type": "markdown",
      "source": [
        "In activation patching, we usually want to corrupt some vital piece of information in the input, causing the model to get a wrong answer. Then we patch in activations from the clean run to and measure how much performance we can recover. This helps us localize which specific activations from the clean run contain the most important information.\n",
        "\n",
        "There are many important tokens in the input, but I will start by corrupting the \"idx\" token, since we hypothesize this is used in a K-composition circuit."
      ],
      "metadata": {
        "id": "pQImu56XGwQl"
      }
    },
    {
      "cell_type": "code",
      "source": [
        "clean_tokens = test_sample[1]\n",
        "print(clean_tokens)\n",
        "print(tokens_to_labels(clean_tokens))"
      ],
      "metadata": {
        "colab": {
          "base_uri": "https://localhost:8080/"
        },
        "id": "ARGi7OoZGPea",
        "outputId": "debe2a5b-aed8-4398-cc12-25bd786d327e"
      },
      "execution_count": 29,
      "outputs": [
        {
          "output_type": "stream",
          "name": "stdout",
          "text": [
            "tensor([50, 14, 26, 35, 51,  1, 48, 51, 14, 48, 35], device='cuda:0')\n",
            "['BOS', '14_1', '26_2', '35_3', 'nl_0', '1_5', '48_6', 'nl_1', '14_8', '48_9', '35_10']\n"
          ]
        }
      ]
    },
    {
      "cell_type": "code",
      "source": [
        "corrupted_tokens = clean_tokens.clone()\n",
        "corrupted_tokens[5] = 2\n",
        "corrupted_tokens[-2] = 23\n",
        "corrupted_tokens[-1] = 26\n",
        "print(corrupted_tokens)\n",
        "print(tokens_to_labels(corrupted_tokens))"
      ],
      "metadata": {
        "colab": {
          "base_uri": "https://localhost:8080/"
        },
        "id": "x0jzQ3WDHBjs",
        "outputId": "89032ef5-2689-41a7-892d-467763302590"
      },
      "execution_count": 30,
      "outputs": [
        {
          "output_type": "stream",
          "name": "stdout",
          "text": [
            "tensor([50, 14, 26, 35, 51,  2, 48, 51, 14, 23, 26], device='cuda:0')\n",
            "['BOS', '14_1', '26_2', '35_3', 'nl_0', '2_5', '48_6', 'nl_1', '14_8', '23_9', '26_10']\n"
          ]
        }
      ]
    },
    {
      "cell_type": "code",
      "source": [
        "clean_logits, clean_cache = model.run_with_cache(clean_tokens)\n",
        "print(clean_logits.shape)\n",
        "print(clean_cache)\n",
        "\n",
        "corrupted_logits, corrupted_cache = model.run_with_cache(corrupted_tokens)\n",
        "print(corrupted_logits.shape)\n",
        "print(corrupted_cache)"
      ],
      "metadata": {
        "colab": {
          "base_uri": "https://localhost:8080/"
        },
        "id": "_eqYl5tvHOcG",
        "outputId": "d1d2882a-8f77-4d07-f75b-f3ed50cdb645"
      },
      "execution_count": 31,
      "outputs": [
        {
          "output_type": "stream",
          "name": "stdout",
          "text": [
            "torch.Size([1, 11, 50])\n",
            "ActivationCache with keys ['hook_embed', 'hook_pos_embed', 'blocks.0.hook_resid_pre', 'blocks.0.attn.hook_q', 'blocks.0.attn.hook_k', 'blocks.0.attn.hook_v', 'blocks.0.attn.hook_attn_scores', 'blocks.0.attn.hook_pattern', 'blocks.0.attn.hook_z', 'blocks.0.hook_attn_out', 'blocks.0.hook_resid_post', 'blocks.1.hook_resid_pre', 'blocks.1.attn.hook_q', 'blocks.1.attn.hook_k', 'blocks.1.attn.hook_v', 'blocks.1.attn.hook_attn_scores', 'blocks.1.attn.hook_pattern', 'blocks.1.attn.hook_z', 'blocks.1.hook_attn_out', 'blocks.1.hook_resid_post']\n",
            "torch.Size([1, 11, 50])\n",
            "ActivationCache with keys ['hook_embed', 'hook_pos_embed', 'blocks.0.hook_resid_pre', 'blocks.0.attn.hook_q', 'blocks.0.attn.hook_k', 'blocks.0.attn.hook_v', 'blocks.0.attn.hook_attn_scores', 'blocks.0.attn.hook_pattern', 'blocks.0.attn.hook_z', 'blocks.0.hook_attn_out', 'blocks.0.hook_resid_post', 'blocks.1.hook_resid_pre', 'blocks.1.attn.hook_q', 'blocks.1.attn.hook_k', 'blocks.1.attn.hook_v', 'blocks.1.attn.hook_attn_scores', 'blocks.1.attn.hook_pattern', 'blocks.1.attn.hook_z', 'blocks.1.hook_attn_out', 'blocks.1.hook_resid_post']\n"
          ]
        }
      ]
    },
    {
      "cell_type": "markdown",
      "source": [
        "For our patching metric we can use the logit difference between the correct answer given that we update the index (26) and the wrong answer if we didn't update (23):"
      ],
      "metadata": {
        "id": "9HM1T0MhHovS"
      }
    },
    {
      "cell_type": "code",
      "source": [
        "idx_1_pred_pos = -3\n",
        "correct_ans = 26\n",
        "incorrect_ans = 23\n",
        "\n",
        "clean_logit_diff = clean_logits[:, idx_1_pred_pos, correct_ans] - clean_logits[:, idx_1_pred_pos, incorrect_ans]\n",
        "print(clean_logit_diff)\n",
        "\n",
        "corrupted_logit_diff = corrupted_logits[:, idx_1_pred_pos, correct_ans] - corrupted_logits[:, idx_1_pred_pos, incorrect_ans]\n",
        "print(corrupted_logit_diff)"
      ],
      "metadata": {
        "colab": {
          "base_uri": "https://localhost:8080/"
        },
        "id": "bQYKHAnGHi5-",
        "outputId": "13d480d1-e3b8-4dd6-e51e-0294cb8c1ad6"
      },
      "execution_count": 32,
      "outputs": [
        {
          "output_type": "stream",
          "name": "stdout",
          "text": [
            "tensor([0.2416], device='cuda:0')\n",
            "tensor([14.0944], device='cuda:0')\n"
          ]
        }
      ]
    },
    {
      "cell_type": "code",
      "source": [
        "def patching_metric(patched_logits):\n",
        "    patched_logit_diff = patched_logits[:, idx_1_pred_pos, correct_ans] - patched_logits[:, idx_1_pred_pos, incorrect_ans]\n",
        "    return (patched_logit_diff - corrupted_logit_diff) / (clean_logit_diff- corrupted_logit_diff)\n",
        "\n",
        "print(\"clean metric\", patching_metric(clean_logits))\n",
        "print(\"corrupted metric\", patching_metric(corrupted_logits))"
      ],
      "metadata": {
        "colab": {
          "base_uri": "https://localhost:8080/"
        },
        "id": "alQuTXdLIDWh",
        "outputId": "e71fd4de-75f7-492d-f87d-72d9961b4a6c"
      },
      "execution_count": 33,
      "outputs": [
        {
          "output_type": "stream",
          "name": "stdout",
          "text": [
            "clean metric tensor([1.], device='cuda:0')\n",
            "corrupted metric tensor([-0.], device='cuda:0')\n"
          ]
        }
      ]
    },
    {
      "cell_type": "markdown",
      "source": [
        "We can start by patching the resid_pre activations, to get a general sense of where information is moved each layer:"
      ],
      "metadata": {
        "id": "W3Rjw1jEIYV0"
      }
    },
    {
      "cell_type": "code",
      "source": [
        "resid_pre_patching_results = patching.get_act_patch_resid_pre(\n",
        "    model,\n",
        "    corrupted_tokens,\n",
        "    clean_cache,\n",
        "    patching_metric\n",
        ")\n",
        "resid_pre_patching_results.shape"
      ],
      "metadata": {
        "colab": {
          "base_uri": "https://localhost:8080/",
          "height": 67,
          "referenced_widgets": [
            "a56c3b6304fe416aab4a17a2e6f14ad0",
            "0f882cfa00e44e609da3d9f79bed3f89",
            "8bf401c745d1499491a7613c644632d8",
            "1d687f29aba64219b0c5fd3869419ffe",
            "df65a2f1f42a4f48bc2807a6d44d8843",
            "d18a5295b77d4f8a916fdec634adaad4",
            "bdf64793051443c1981b8d77a79ea80e",
            "13be45783e3d4e5bba6b86805197ca1a",
            "40dc0c3bacd2401cb51dc45841666ed9",
            "55566766be84474896f15c8283a561bb",
            "82fc14725fa34d7c932e738738d0fc7e"
          ]
        },
        "id": "DymcpIIXISze",
        "outputId": "6320956f-7c20-4a53-ed9e-501450db3310"
      },
      "execution_count": 34,
      "outputs": [
        {
          "output_type": "display_data",
          "data": {
            "text/plain": [
              "  0%|          | 0/22 [00:00<?, ?it/s]"
            ],
            "application/vnd.jupyter.widget-view+json": {
              "version_major": 2,
              "version_minor": 0,
              "model_id": "a56c3b6304fe416aab4a17a2e6f14ad0"
            }
          },
          "metadata": {}
        },
        {
          "output_type": "execute_result",
          "data": {
            "text/plain": [
              "torch.Size([2, 11])"
            ]
          },
          "metadata": {},
          "execution_count": 34
        }
      ]
    },
    {
      "cell_type": "code",
      "source": [
        "labels = tokens_to_labels(clean_tokens)\n",
        "imshow(\n",
        "    resid_pre_patching_results, # resid_pre_patching_results has shape [n_layers, seq_len]\n",
        "    title=\"Resid pre patching results (corrupting idx token)\",\n",
        "    xaxis=\"pos\", yaxis=\"Layer\",\n",
        "    x=labels\n",
        ")"
      ],
      "metadata": {
        "colab": {
          "base_uri": "https://localhost:8080/",
          "height": 542
        },
        "id": "196UuErxIr-h",
        "outputId": "7aec0edf-e8ef-45a4-a682-67f948512f24"
      },
      "execution_count": 35,
      "outputs": [
        {
          "output_type": "display_data",
          "data": {
            "text/html": [
              "<html>\n",
              "<head><meta charset=\"utf-8\" /></head>\n",
              "<body>\n",
              "    <div>            <script src=\"https://cdnjs.cloudflare.com/ajax/libs/mathjax/2.7.5/MathJax.js?config=TeX-AMS-MML_SVG\"></script><script type=\"text/javascript\">if (window.MathJax && window.MathJax.Hub && window.MathJax.Hub.Config) {window.MathJax.Hub.Config({SVG: {font: \"STIX-Web\"}});}</script>                <script type=\"text/javascript\">window.PlotlyConfig = {MathJaxConfig: 'local'};</script>\n",
              "        <script charset=\"utf-8\" src=\"https://cdn.plot.ly/plotly-2.24.1.min.js\"></script>                <div id=\"7eb27009-1433-442a-a48b-8a5ba7bae73d\" class=\"plotly-graph-div\" style=\"height:525px; width:100%;\"></div>            <script type=\"text/javascript\">                                    window.PLOTLYENV=window.PLOTLYENV || {};                                    if (document.getElementById(\"7eb27009-1433-442a-a48b-8a5ba7bae73d\")) {                    Plotly.newPlot(                        \"7eb27009-1433-442a-a48b-8a5ba7bae73d\",                        [{\"coloraxis\":\"coloraxis\",\"name\":\"0\",\"x\":[\"BOS\",\"14_1\",\"26_2\",\"35_3\",\"nl_0\",\"1_5\",\"48_6\",\"nl_1\",\"14_8\",\"48_9\",\"35_10\"],\"z\":[[-0.0,-0.0,-0.0,-0.0,-0.0,1.0,-0.0,-0.0,-0.0,-0.0,-0.0],[-0.0,-0.0,-0.0,-0.0,-0.0,1.094610161089804e-05,0.9997619986534119,1.5833983297852683e-06,0.0003493114490993321,-0.0,-0.0]],\"type\":\"heatmap\",\"xaxis\":\"x\",\"yaxis\":\"y\",\"hovertemplate\":\"pos: %{x}\\u003cbr\\u003eLayer: %{y}\\u003cbr\\u003ecolor: %{z}\\u003cextra\\u003e\\u003c\\u002fextra\\u003e\"}],                        {\"template\":{\"data\":{\"histogram2dcontour\":[{\"type\":\"histogram2dcontour\",\"colorbar\":{\"outlinewidth\":0,\"ticks\":\"\"},\"colorscale\":[[0.0,\"#0d0887\"],[0.1111111111111111,\"#46039f\"],[0.2222222222222222,\"#7201a8\"],[0.3333333333333333,\"#9c179e\"],[0.4444444444444444,\"#bd3786\"],[0.5555555555555556,\"#d8576b\"],[0.6666666666666666,\"#ed7953\"],[0.7777777777777778,\"#fb9f3a\"],[0.8888888888888888,\"#fdca26\"],[1.0,\"#f0f921\"]]}],\"choropleth\":[{\"type\":\"choropleth\",\"colorbar\":{\"outlinewidth\":0,\"ticks\":\"\"}}],\"histogram2d\":[{\"type\":\"histogram2d\",\"colorbar\":{\"outlinewidth\":0,\"ticks\":\"\"},\"colorscale\":[[0.0,\"#0d0887\"],[0.1111111111111111,\"#46039f\"],[0.2222222222222222,\"#7201a8\"],[0.3333333333333333,\"#9c179e\"],[0.4444444444444444,\"#bd3786\"],[0.5555555555555556,\"#d8576b\"],[0.6666666666666666,\"#ed7953\"],[0.7777777777777778,\"#fb9f3a\"],[0.8888888888888888,\"#fdca26\"],[1.0,\"#f0f921\"]]}],\"heatmap\":[{\"type\":\"heatmap\",\"colorbar\":{\"outlinewidth\":0,\"ticks\":\"\"},\"colorscale\":[[0.0,\"#0d0887\"],[0.1111111111111111,\"#46039f\"],[0.2222222222222222,\"#7201a8\"],[0.3333333333333333,\"#9c179e\"],[0.4444444444444444,\"#bd3786\"],[0.5555555555555556,\"#d8576b\"],[0.6666666666666666,\"#ed7953\"],[0.7777777777777778,\"#fb9f3a\"],[0.8888888888888888,\"#fdca26\"],[1.0,\"#f0f921\"]]}],\"heatmapgl\":[{\"type\":\"heatmapgl\",\"colorbar\":{\"outlinewidth\":0,\"ticks\":\"\"},\"colorscale\":[[0.0,\"#0d0887\"],[0.1111111111111111,\"#46039f\"],[0.2222222222222222,\"#7201a8\"],[0.3333333333333333,\"#9c179e\"],[0.4444444444444444,\"#bd3786\"],[0.5555555555555556,\"#d8576b\"],[0.6666666666666666,\"#ed7953\"],[0.7777777777777778,\"#fb9f3a\"],[0.8888888888888888,\"#fdca26\"],[1.0,\"#f0f921\"]]}],\"contourcarpet\":[{\"type\":\"contourcarpet\",\"colorbar\":{\"outlinewidth\":0,\"ticks\":\"\"}}],\"contour\":[{\"type\":\"contour\",\"colorbar\":{\"outlinewidth\":0,\"ticks\":\"\"},\"colorscale\":[[0.0,\"#0d0887\"],[0.1111111111111111,\"#46039f\"],[0.2222222222222222,\"#7201a8\"],[0.3333333333333333,\"#9c179e\"],[0.4444444444444444,\"#bd3786\"],[0.5555555555555556,\"#d8576b\"],[0.6666666666666666,\"#ed7953\"],[0.7777777777777778,\"#fb9f3a\"],[0.8888888888888888,\"#fdca26\"],[1.0,\"#f0f921\"]]}],\"surface\":[{\"type\":\"surface\",\"colorbar\":{\"outlinewidth\":0,\"ticks\":\"\"},\"colorscale\":[[0.0,\"#0d0887\"],[0.1111111111111111,\"#46039f\"],[0.2222222222222222,\"#7201a8\"],[0.3333333333333333,\"#9c179e\"],[0.4444444444444444,\"#bd3786\"],[0.5555555555555556,\"#d8576b\"],[0.6666666666666666,\"#ed7953\"],[0.7777777777777778,\"#fb9f3a\"],[0.8888888888888888,\"#fdca26\"],[1.0,\"#f0f921\"]]}],\"mesh3d\":[{\"type\":\"mesh3d\",\"colorbar\":{\"outlinewidth\":0,\"ticks\":\"\"}}],\"scatter\":[{\"fillpattern\":{\"fillmode\":\"overlay\",\"size\":10,\"solidity\":0.2},\"type\":\"scatter\"}],\"parcoords\":[{\"type\":\"parcoords\",\"line\":{\"colorbar\":{\"outlinewidth\":0,\"ticks\":\"\"}}}],\"scatterpolargl\":[{\"type\":\"scatterpolargl\",\"marker\":{\"colorbar\":{\"outlinewidth\":0,\"ticks\":\"\"}}}],\"bar\":[{\"error_x\":{\"color\":\"#2a3f5f\"},\"error_y\":{\"color\":\"#2a3f5f\"},\"marker\":{\"line\":{\"color\":\"#E5ECF6\",\"width\":0.5},\"pattern\":{\"fillmode\":\"overlay\",\"size\":10,\"solidity\":0.2}},\"type\":\"bar\"}],\"scattergeo\":[{\"type\":\"scattergeo\",\"marker\":{\"colorbar\":{\"outlinewidth\":0,\"ticks\":\"\"}}}],\"scatterpolar\":[{\"type\":\"scatterpolar\",\"marker\":{\"colorbar\":{\"outlinewidth\":0,\"ticks\":\"\"}}}],\"histogram\":[{\"marker\":{\"pattern\":{\"fillmode\":\"overlay\",\"size\":10,\"solidity\":0.2}},\"type\":\"histogram\"}],\"scattergl\":[{\"type\":\"scattergl\",\"marker\":{\"colorbar\":{\"outlinewidth\":0,\"ticks\":\"\"}}}],\"scatter3d\":[{\"type\":\"scatter3d\",\"line\":{\"colorbar\":{\"outlinewidth\":0,\"ticks\":\"\"}},\"marker\":{\"colorbar\":{\"outlinewidth\":0,\"ticks\":\"\"}}}],\"scattermapbox\":[{\"type\":\"scattermapbox\",\"marker\":{\"colorbar\":{\"outlinewidth\":0,\"ticks\":\"\"}}}],\"scatterternary\":[{\"type\":\"scatterternary\",\"marker\":{\"colorbar\":{\"outlinewidth\":0,\"ticks\":\"\"}}}],\"scattercarpet\":[{\"type\":\"scattercarpet\",\"marker\":{\"colorbar\":{\"outlinewidth\":0,\"ticks\":\"\"}}}],\"carpet\":[{\"aaxis\":{\"endlinecolor\":\"#2a3f5f\",\"gridcolor\":\"white\",\"linecolor\":\"white\",\"minorgridcolor\":\"white\",\"startlinecolor\":\"#2a3f5f\"},\"baxis\":{\"endlinecolor\":\"#2a3f5f\",\"gridcolor\":\"white\",\"linecolor\":\"white\",\"minorgridcolor\":\"white\",\"startlinecolor\":\"#2a3f5f\"},\"type\":\"carpet\"}],\"table\":[{\"cells\":{\"fill\":{\"color\":\"#EBF0F8\"},\"line\":{\"color\":\"white\"}},\"header\":{\"fill\":{\"color\":\"#C8D4E3\"},\"line\":{\"color\":\"white\"}},\"type\":\"table\"}],\"barpolar\":[{\"marker\":{\"line\":{\"color\":\"#E5ECF6\",\"width\":0.5},\"pattern\":{\"fillmode\":\"overlay\",\"size\":10,\"solidity\":0.2}},\"type\":\"barpolar\"}],\"pie\":[{\"automargin\":true,\"type\":\"pie\"}]},\"layout\":{\"autotypenumbers\":\"strict\",\"colorway\":[\"#636efa\",\"#EF553B\",\"#00cc96\",\"#ab63fa\",\"#FFA15A\",\"#19d3f3\",\"#FF6692\",\"#B6E880\",\"#FF97FF\",\"#FECB52\"],\"font\":{\"color\":\"#2a3f5f\"},\"hovermode\":\"closest\",\"hoverlabel\":{\"align\":\"left\"},\"paper_bgcolor\":\"white\",\"plot_bgcolor\":\"#E5ECF6\",\"polar\":{\"bgcolor\":\"#E5ECF6\",\"angularaxis\":{\"gridcolor\":\"white\",\"linecolor\":\"white\",\"ticks\":\"\"},\"radialaxis\":{\"gridcolor\":\"white\",\"linecolor\":\"white\",\"ticks\":\"\"}},\"ternary\":{\"bgcolor\":\"#E5ECF6\",\"aaxis\":{\"gridcolor\":\"white\",\"linecolor\":\"white\",\"ticks\":\"\"},\"baxis\":{\"gridcolor\":\"white\",\"linecolor\":\"white\",\"ticks\":\"\"},\"caxis\":{\"gridcolor\":\"white\",\"linecolor\":\"white\",\"ticks\":\"\"}},\"coloraxis\":{\"colorbar\":{\"outlinewidth\":0,\"ticks\":\"\"}},\"colorscale\":{\"sequential\":[[0.0,\"#0d0887\"],[0.1111111111111111,\"#46039f\"],[0.2222222222222222,\"#7201a8\"],[0.3333333333333333,\"#9c179e\"],[0.4444444444444444,\"#bd3786\"],[0.5555555555555556,\"#d8576b\"],[0.6666666666666666,\"#ed7953\"],[0.7777777777777778,\"#fb9f3a\"],[0.8888888888888888,\"#fdca26\"],[1.0,\"#f0f921\"]],\"sequentialminus\":[[0.0,\"#0d0887\"],[0.1111111111111111,\"#46039f\"],[0.2222222222222222,\"#7201a8\"],[0.3333333333333333,\"#9c179e\"],[0.4444444444444444,\"#bd3786\"],[0.5555555555555556,\"#d8576b\"],[0.6666666666666666,\"#ed7953\"],[0.7777777777777778,\"#fb9f3a\"],[0.8888888888888888,\"#fdca26\"],[1.0,\"#f0f921\"]],\"diverging\":[[0,\"#8e0152\"],[0.1,\"#c51b7d\"],[0.2,\"#de77ae\"],[0.3,\"#f1b6da\"],[0.4,\"#fde0ef\"],[0.5,\"#f7f7f7\"],[0.6,\"#e6f5d0\"],[0.7,\"#b8e186\"],[0.8,\"#7fbc41\"],[0.9,\"#4d9221\"],[1,\"#276419\"]]},\"xaxis\":{\"gridcolor\":\"white\",\"linecolor\":\"white\",\"ticks\":\"\",\"title\":{\"standoff\":15},\"zerolinecolor\":\"white\",\"automargin\":true,\"zerolinewidth\":2},\"yaxis\":{\"gridcolor\":\"white\",\"linecolor\":\"white\",\"ticks\":\"\",\"title\":{\"standoff\":15},\"zerolinecolor\":\"white\",\"automargin\":true,\"zerolinewidth\":2},\"scene\":{\"xaxis\":{\"backgroundcolor\":\"#E5ECF6\",\"gridcolor\":\"white\",\"linecolor\":\"white\",\"showbackground\":true,\"ticks\":\"\",\"zerolinecolor\":\"white\",\"gridwidth\":2},\"yaxis\":{\"backgroundcolor\":\"#E5ECF6\",\"gridcolor\":\"white\",\"linecolor\":\"white\",\"showbackground\":true,\"ticks\":\"\",\"zerolinecolor\":\"white\",\"gridwidth\":2},\"zaxis\":{\"backgroundcolor\":\"#E5ECF6\",\"gridcolor\":\"white\",\"linecolor\":\"white\",\"showbackground\":true,\"ticks\":\"\",\"zerolinecolor\":\"white\",\"gridwidth\":2}},\"shapedefaults\":{\"line\":{\"color\":\"#2a3f5f\"}},\"annotationdefaults\":{\"arrowcolor\":\"#2a3f5f\",\"arrowhead\":0,\"arrowwidth\":1},\"geo\":{\"bgcolor\":\"white\",\"landcolor\":\"#E5ECF6\",\"subunitcolor\":\"white\",\"showland\":true,\"showlakes\":true,\"lakecolor\":\"white\"},\"title\":{\"x\":0.05},\"mapbox\":{\"style\":\"light\"}}},\"xaxis\":{\"anchor\":\"y\",\"domain\":[0.0,1.0],\"scaleanchor\":\"y\",\"constrain\":\"domain\",\"title\":{\"text\":\"pos\"}},\"yaxis\":{\"anchor\":\"x\",\"domain\":[0.0,1.0],\"autorange\":\"reversed\",\"constrain\":\"domain\",\"title\":{\"text\":\"Layer\"}},\"coloraxis\":{\"colorscale\":[[0.0,\"rgb(103,0,31)\"],[0.1,\"rgb(178,24,43)\"],[0.2,\"rgb(214,96,77)\"],[0.3,\"rgb(244,165,130)\"],[0.4,\"rgb(253,219,199)\"],[0.5,\"rgb(247,247,247)\"],[0.6,\"rgb(209,229,240)\"],[0.7,\"rgb(146,197,222)\"],[0.8,\"rgb(67,147,195)\"],[0.9,\"rgb(33,102,172)\"],[1.0,\"rgb(5,48,97)\"]],\"cmid\":0.0},\"title\":{\"text\":\"Resid pre patching results (corrupting idx token)\"}},                        {\"responsive\": true}                    ).then(function(){\n",
              "                            \n",
              "var gd = document.getElementById('7eb27009-1433-442a-a48b-8a5ba7bae73d');\n",
              "var x = new MutationObserver(function (mutations, observer) {{\n",
              "        var display = window.getComputedStyle(gd).display;\n",
              "        if (!display || display === 'none') {{\n",
              "            console.log([gd, 'removed!']);\n",
              "            Plotly.purge(gd);\n",
              "            observer.disconnect();\n",
              "        }}\n",
              "}});\n",
              "\n",
              "// Listen for the removal of the full notebook cells\n",
              "var notebookContainer = gd.closest('#notebook-container');\n",
              "if (notebookContainer) {{\n",
              "    x.observe(notebookContainer, {childList: true});\n",
              "}}\n",
              "\n",
              "// Listen for the clearing of the current output cell\n",
              "var outputEl = gd.closest('.output');\n",
              "if (outputEl) {{\n",
              "    x.observe(outputEl, {childList: true});\n",
              "}}\n",
              "\n",
              "                        })                };                            </script>        </div>\n",
              "</body>\n",
              "</html>"
            ]
          },
          "metadata": {}
        }
      ]
    },
    {
      "cell_type": "markdown",
      "source": [
        "This suggests that the updated “idx” is moved to the residual stream of the new “elt”. This is roughly what we expected by looking at the attn patterns. Now we can get more granular by patching attn outputs, queries, keys, values, and patterns for each layer."
      ],
      "metadata": {
        "id": "-jHIiN9II4Bz"
      }
    },
    {
      "cell_type": "code",
      "source": [
        "attn_head_by_pos_every_patching_results = patching.get_act_patch_attn_head_by_pos_every(\n",
        "    model,\n",
        "    corrupted_tokens,\n",
        "    clean_cache,\n",
        "    patching_metric\n",
        ")\n",
        "print(attn_head_by_pos_every_patching_results.shape)"
      ],
      "metadata": {
        "colab": {
          "base_uri": "https://localhost:8080/",
          "height": 195,
          "referenced_widgets": [
            "42e4302e89fa471b9a26e98e7434d1d3",
            "104a0a8089244ecd81e8597473f43e2c",
            "89cdb11d15c44c90bc7456c6ee76250e",
            "55427540414447e489814e09c674c8fb",
            "cd3c5050ff6e47fcac41eb42fee26cc0",
            "2de0ed0db4d6436eb71f96c3cf75f1a7",
            "710dd4e23b2d4ed698ad9dcabd12619d",
            "ade1d9126393448fb36ff3288ca9ba8f",
            "96fe1f161f1545ebb5bb19950b132ca3",
            "1d40c978ee1a4ff191e75b7f188f1d08",
            "ec9e757483c94166a8634e57dc36482f",
            "1032bec4e7064837aaaa3df010ab2ef4",
            "04a660723c6b437c9e580c8d12ea812a",
            "87f24e93150148f995890cd226d677c7",
            "fd08a4b0e28240d6bd45b82791fc03b2",
            "18dfa87b454d4b0f84d537567cd6f254",
            "a03f1583af184ed48486ca6589957a00",
            "c2ad6835ca9246cabd91ab6c682edba2",
            "9622c9a44edb4f9bb42ba3037886b798",
            "f2e80a581cda4b7fa3fa9dc732b11872",
            "053c6cb66c694353a4b6c7f26a312858",
            "87df4bceada14b9bb3c143bb081b0bed",
            "95a5bc95f1ce45ba95b656d793cc82e8",
            "93c2ddbb5cd44920933ecc12c8ed361a",
            "19e054bcc9124aa69df50f84bcd36ffa",
            "324314518e28414bb7b9956c814127f6",
            "45a9fe2e3b37464d8b25c75c5ad066e0",
            "2dd4f730f49546dbb0713e61d28dc2bc",
            "c08f9af14dad4a03aac8a5752a8d2a3d",
            "9bbe879dea9048d385e95ef5e85cbbe4",
            "db44b49f442244bda96348f73838f21f",
            "ad758d62c5b3476cb0d43985d25266ce",
            "48612af73d6f4dd0893a4ea8aa308dd2",
            "89730592aeb84016a07a02e34eda2811",
            "7531a8fba21343998dea4a050ef7bd57",
            "ba9d2ae0d0b44d1b85298dd1ecd5346d",
            "e036bcf394984d15ab456602a213ccbd",
            "9beef528d07843b0b87dd0c004865494",
            "97603c03618642a6b812abd61ea21c56",
            "961aa9ecfdbb408fb89da19115991aca",
            "26422ab3185646bf8437e6607963f99e",
            "dd6698d6eb5441eba2bafc52199db9d3",
            "803c0bfd007a4fa6a6cb5a95330dfbee",
            "4e75ce97553b4addb1b438018313a827",
            "c63488d068e34d1e8b6e5da724b6c73c",
            "f51ba1b5dc9d45a5b343dc22f0d5a632",
            "4752e70479b34d8490b89a3b3b6a0214",
            "1cc6ea215c094f649bb014489372d478",
            "affb89b1f45742538c1c80ad78a88272",
            "de5cf4e38c9842c78b2f55a99a491f0d",
            "db37c4b2818e4901b9f44a6bde3da49d",
            "d2308d263705486ea5a6cc2e79d1e7d2",
            "3b8a71d919f542acbee746357c90440a",
            "3227eed30f9848498b07ae5a3a1d0e50",
            "c78f123597ae4d51be7294b3dc54facc"
          ]
        },
        "id": "_qYcuniiI0Iz",
        "outputId": "776e53ea-cef7-4450-ce26-17eff44c4ca7"
      },
      "execution_count": 36,
      "outputs": [
        {
          "output_type": "display_data",
          "data": {
            "text/plain": [
              "  0%|          | 0/22 [00:00<?, ?it/s]"
            ],
            "application/vnd.jupyter.widget-view+json": {
              "version_major": 2,
              "version_minor": 0,
              "model_id": "42e4302e89fa471b9a26e98e7434d1d3"
            }
          },
          "metadata": {}
        },
        {
          "output_type": "display_data",
          "data": {
            "text/plain": [
              "  0%|          | 0/22 [00:00<?, ?it/s]"
            ],
            "application/vnd.jupyter.widget-view+json": {
              "version_major": 2,
              "version_minor": 0,
              "model_id": "1032bec4e7064837aaaa3df010ab2ef4"
            }
          },
          "metadata": {}
        },
        {
          "output_type": "display_data",
          "data": {
            "text/plain": [
              "  0%|          | 0/22 [00:00<?, ?it/s]"
            ],
            "application/vnd.jupyter.widget-view+json": {
              "version_major": 2,
              "version_minor": 0,
              "model_id": "95a5bc95f1ce45ba95b656d793cc82e8"
            }
          },
          "metadata": {}
        },
        {
          "output_type": "display_data",
          "data": {
            "text/plain": [
              "  0%|          | 0/22 [00:00<?, ?it/s]"
            ],
            "application/vnd.jupyter.widget-view+json": {
              "version_major": 2,
              "version_minor": 0,
              "model_id": "89730592aeb84016a07a02e34eda2811"
            }
          },
          "metadata": {}
        },
        {
          "output_type": "display_data",
          "data": {
            "text/plain": [
              "  0%|          | 0/22 [00:00<?, ?it/s]"
            ],
            "application/vnd.jupyter.widget-view+json": {
              "version_major": 2,
              "version_minor": 0,
              "model_id": "c63488d068e34d1e8b6e5da724b6c73c"
            }
          },
          "metadata": {}
        },
        {
          "output_type": "stream",
          "name": "stdout",
          "text": [
            "torch.Size([5, 2, 11, 1])\n"
          ]
        }
      ]
    },
    {
      "cell_type": "code",
      "source": [
        "imshow(\n",
        "    attn_head_by_pos_every_patching_results[..., 0], # attn_head_by_pos_every_patching_results has shape [5, n_layers, seq_len, n_heads]\n",
        "    title=\"attn head patching results (corrupted idx token)\",\n",
        "    xaxis=\"pos\", yaxis=\"Layer\",\n",
        "    facet_col=0,\n",
        "    facet_labels=[\"output\", \"query\", \"key\", \"value\", \"pattern\"],\n",
        "    aspect=\"auto\", x=labels\n",
        ")"
      ],
      "metadata": {
        "colab": {
          "base_uri": "https://localhost:8080/",
          "height": 542
        },
        "id": "x_d5sXDoJaPy",
        "outputId": "bf07789f-b486-4dd0-af05-42bbb65cdb9b"
      },
      "execution_count": 37,
      "outputs": [
        {
          "output_type": "display_data",
          "data": {
            "text/html": [
              "<html>\n",
              "<head><meta charset=\"utf-8\" /></head>\n",
              "<body>\n",
              "    <div>            <script src=\"https://cdnjs.cloudflare.com/ajax/libs/mathjax/2.7.5/MathJax.js?config=TeX-AMS-MML_SVG\"></script><script type=\"text/javascript\">if (window.MathJax && window.MathJax.Hub && window.MathJax.Hub.Config) {window.MathJax.Hub.Config({SVG: {font: \"STIX-Web\"}});}</script>                <script type=\"text/javascript\">window.PlotlyConfig = {MathJaxConfig: 'local'};</script>\n",
              "        <script charset=\"utf-8\" src=\"https://cdn.plot.ly/plotly-2.24.1.min.js\"></script>                <div id=\"d5174bba-00d7-42f2-b500-e7c5c5873e03\" class=\"plotly-graph-div\" style=\"height:525px; width:100%;\"></div>            <script type=\"text/javascript\">                                    window.PLOTLYENV=window.PLOTLYENV || {};                                    if (document.getElementById(\"d5174bba-00d7-42f2-b500-e7c5c5873e03\")) {                    Plotly.newPlot(                        \"d5174bba-00d7-42f2-b500-e7c5c5873e03\",                        [{\"coloraxis\":\"coloraxis\",\"name\":\"0\",\"x\":[\"BOS\",\"14_1\",\"26_2\",\"35_3\",\"nl_0\",\"1_5\",\"48_6\",\"nl_1\",\"14_8\",\"48_9\",\"35_10\"],\"z\":[[-0.0,-0.0,-0.0,-0.0,-0.0,0.0004884439986199141,0.9997619986534119,1.5833983297852683e-06,0.0003493114490993321,-0.0,-0.0],[-0.0,-0.0,-0.0,-0.0,-0.0,-0.0,-0.0,-0.0,0.9997597932815552,-0.0,-0.0]],\"type\":\"heatmap\",\"xaxis\":\"x\",\"yaxis\":\"y\",\"hovertemplate\":\"pos: %{x}\\u003cbr\\u003eLayer: %{y}\\u003cbr\\u003ecolor: %{z}\\u003cextra\\u003e\\u003c\\u002fextra\\u003e\"},{\"coloraxis\":\"coloraxis\",\"name\":\"1\",\"x\":[\"BOS\",\"14_1\",\"26_2\",\"35_3\",\"nl_0\",\"1_5\",\"48_6\",\"nl_1\",\"14_8\",\"48_9\",\"35_10\"],\"z\":[[-0.0,-0.0,-0.0,-0.0,-0.0,1.4870176528347656e-05,-0.0,-0.0,-0.0,-0.0,-0.0],[-0.0,-0.0,-0.0,-0.0,-0.0,-0.0,-0.0,-0.0,9.837723337113857e-05,-0.0,-0.0]],\"type\":\"heatmap\",\"xaxis\":\"x2\",\"yaxis\":\"y2\",\"hovertemplate\":\"pos: %{x}\\u003cbr\\u003eLayer: %{y}\\u003cbr\\u003ecolor: %{z}\\u003cextra\\u003e\\u003c\\u002fextra\\u003e\"},{\"coloraxis\":\"coloraxis\",\"name\":\"2\",\"x\":[\"BOS\",\"14_1\",\"26_2\",\"35_3\",\"nl_0\",\"1_5\",\"48_6\",\"nl_1\",\"14_8\",\"48_9\",\"35_10\"],\"z\":[[-0.0,-0.0,-0.0,-0.0,-0.0,-0.00576377660036087,-0.0,-0.0,-0.0,-0.0,-0.0],[-0.0,-0.0,-0.0,-0.0,-0.0,-0.00033134332625195384,1.0136301517486572,1.6522418491149438e-06,1.067072844307404e-05,-0.0,-0.0]],\"type\":\"heatmap\",\"xaxis\":\"x3\",\"yaxis\":\"y3\",\"hovertemplate\":\"pos: %{x}\\u003cbr\\u003eLayer: %{y}\\u003cbr\\u003ecolor: %{z}\\u003cextra\\u003e\\u003c\\u002fextra\\u003e\"},{\"coloraxis\":\"coloraxis\",\"name\":\"3\",\"x\":[\"BOS\",\"14_1\",\"26_2\",\"35_3\",\"nl_0\",\"1_5\",\"48_6\",\"nl_1\",\"14_8\",\"48_9\",\"35_10\"],\"z\":[[-0.0,-0.0,-0.0,-0.0,-0.0,1.0195623636245728,-0.0,-0.0,-0.0,-0.0,-0.0],[-0.0,-0.0,-0.0,-0.0,-0.0,0.000632189039606601,-0.00027516711270436645,-6.884340564283775e-08,6.884340564283775e-08,-0.0,-0.0]],\"type\":\"heatmap\",\"xaxis\":\"x4\",\"yaxis\":\"y4\",\"hovertemplate\":\"pos: %{x}\\u003cbr\\u003eLayer: %{y}\\u003cbr\\u003ecolor: %{z}\\u003cextra\\u003e\\u003c\\u002fextra\\u003e\"},{\"coloraxis\":\"coloraxis\",\"name\":\"4\",\"x\":[\"BOS\",\"14_1\",\"26_2\",\"35_3\",\"nl_0\",\"1_5\",\"48_6\",\"nl_1\",\"14_8\",\"48_9\",\"35_10\"],\"z\":[[-0.0,-0.0,-0.0,-0.0,-0.0,3.442170418566093e-05,-0.005710973870009184,-6.884340564283775e-08,-6.312940240604803e-05,-0.0,-0.0],[-0.0,-0.0,-0.0,-0.0,-0.0,-0.0,-0.0,-0.0,1.0136276483535767,-0.0,-0.0]],\"type\":\"heatmap\",\"xaxis\":\"x5\",\"yaxis\":\"y5\",\"hovertemplate\":\"pos: %{x}\\u003cbr\\u003eLayer: %{y}\\u003cbr\\u003ecolor: %{z}\\u003cextra\\u003e\\u003c\\u002fextra\\u003e\"}],                        {\"template\":{\"data\":{\"histogram2dcontour\":[{\"type\":\"histogram2dcontour\",\"colorbar\":{\"outlinewidth\":0,\"ticks\":\"\"},\"colorscale\":[[0.0,\"#0d0887\"],[0.1111111111111111,\"#46039f\"],[0.2222222222222222,\"#7201a8\"],[0.3333333333333333,\"#9c179e\"],[0.4444444444444444,\"#bd3786\"],[0.5555555555555556,\"#d8576b\"],[0.6666666666666666,\"#ed7953\"],[0.7777777777777778,\"#fb9f3a\"],[0.8888888888888888,\"#fdca26\"],[1.0,\"#f0f921\"]]}],\"choropleth\":[{\"type\":\"choropleth\",\"colorbar\":{\"outlinewidth\":0,\"ticks\":\"\"}}],\"histogram2d\":[{\"type\":\"histogram2d\",\"colorbar\":{\"outlinewidth\":0,\"ticks\":\"\"},\"colorscale\":[[0.0,\"#0d0887\"],[0.1111111111111111,\"#46039f\"],[0.2222222222222222,\"#7201a8\"],[0.3333333333333333,\"#9c179e\"],[0.4444444444444444,\"#bd3786\"],[0.5555555555555556,\"#d8576b\"],[0.6666666666666666,\"#ed7953\"],[0.7777777777777778,\"#fb9f3a\"],[0.8888888888888888,\"#fdca26\"],[1.0,\"#f0f921\"]]}],\"heatmap\":[{\"type\":\"heatmap\",\"colorbar\":{\"outlinewidth\":0,\"ticks\":\"\"},\"colorscale\":[[0.0,\"#0d0887\"],[0.1111111111111111,\"#46039f\"],[0.2222222222222222,\"#7201a8\"],[0.3333333333333333,\"#9c179e\"],[0.4444444444444444,\"#bd3786\"],[0.5555555555555556,\"#d8576b\"],[0.6666666666666666,\"#ed7953\"],[0.7777777777777778,\"#fb9f3a\"],[0.8888888888888888,\"#fdca26\"],[1.0,\"#f0f921\"]]}],\"heatmapgl\":[{\"type\":\"heatmapgl\",\"colorbar\":{\"outlinewidth\":0,\"ticks\":\"\"},\"colorscale\":[[0.0,\"#0d0887\"],[0.1111111111111111,\"#46039f\"],[0.2222222222222222,\"#7201a8\"],[0.3333333333333333,\"#9c179e\"],[0.4444444444444444,\"#bd3786\"],[0.5555555555555556,\"#d8576b\"],[0.6666666666666666,\"#ed7953\"],[0.7777777777777778,\"#fb9f3a\"],[0.8888888888888888,\"#fdca26\"],[1.0,\"#f0f921\"]]}],\"contourcarpet\":[{\"type\":\"contourcarpet\",\"colorbar\":{\"outlinewidth\":0,\"ticks\":\"\"}}],\"contour\":[{\"type\":\"contour\",\"colorbar\":{\"outlinewidth\":0,\"ticks\":\"\"},\"colorscale\":[[0.0,\"#0d0887\"],[0.1111111111111111,\"#46039f\"],[0.2222222222222222,\"#7201a8\"],[0.3333333333333333,\"#9c179e\"],[0.4444444444444444,\"#bd3786\"],[0.5555555555555556,\"#d8576b\"],[0.6666666666666666,\"#ed7953\"],[0.7777777777777778,\"#fb9f3a\"],[0.8888888888888888,\"#fdca26\"],[1.0,\"#f0f921\"]]}],\"surface\":[{\"type\":\"surface\",\"colorbar\":{\"outlinewidth\":0,\"ticks\":\"\"},\"colorscale\":[[0.0,\"#0d0887\"],[0.1111111111111111,\"#46039f\"],[0.2222222222222222,\"#7201a8\"],[0.3333333333333333,\"#9c179e\"],[0.4444444444444444,\"#bd3786\"],[0.5555555555555556,\"#d8576b\"],[0.6666666666666666,\"#ed7953\"],[0.7777777777777778,\"#fb9f3a\"],[0.8888888888888888,\"#fdca26\"],[1.0,\"#f0f921\"]]}],\"mesh3d\":[{\"type\":\"mesh3d\",\"colorbar\":{\"outlinewidth\":0,\"ticks\":\"\"}}],\"scatter\":[{\"fillpattern\":{\"fillmode\":\"overlay\",\"size\":10,\"solidity\":0.2},\"type\":\"scatter\"}],\"parcoords\":[{\"type\":\"parcoords\",\"line\":{\"colorbar\":{\"outlinewidth\":0,\"ticks\":\"\"}}}],\"scatterpolargl\":[{\"type\":\"scatterpolargl\",\"marker\":{\"colorbar\":{\"outlinewidth\":0,\"ticks\":\"\"}}}],\"bar\":[{\"error_x\":{\"color\":\"#2a3f5f\"},\"error_y\":{\"color\":\"#2a3f5f\"},\"marker\":{\"line\":{\"color\":\"#E5ECF6\",\"width\":0.5},\"pattern\":{\"fillmode\":\"overlay\",\"size\":10,\"solidity\":0.2}},\"type\":\"bar\"}],\"scattergeo\":[{\"type\":\"scattergeo\",\"marker\":{\"colorbar\":{\"outlinewidth\":0,\"ticks\":\"\"}}}],\"scatterpolar\":[{\"type\":\"scatterpolar\",\"marker\":{\"colorbar\":{\"outlinewidth\":0,\"ticks\":\"\"}}}],\"histogram\":[{\"marker\":{\"pattern\":{\"fillmode\":\"overlay\",\"size\":10,\"solidity\":0.2}},\"type\":\"histogram\"}],\"scattergl\":[{\"type\":\"scattergl\",\"marker\":{\"colorbar\":{\"outlinewidth\":0,\"ticks\":\"\"}}}],\"scatter3d\":[{\"type\":\"scatter3d\",\"line\":{\"colorbar\":{\"outlinewidth\":0,\"ticks\":\"\"}},\"marker\":{\"colorbar\":{\"outlinewidth\":0,\"ticks\":\"\"}}}],\"scattermapbox\":[{\"type\":\"scattermapbox\",\"marker\":{\"colorbar\":{\"outlinewidth\":0,\"ticks\":\"\"}}}],\"scatterternary\":[{\"type\":\"scatterternary\",\"marker\":{\"colorbar\":{\"outlinewidth\":0,\"ticks\":\"\"}}}],\"scattercarpet\":[{\"type\":\"scattercarpet\",\"marker\":{\"colorbar\":{\"outlinewidth\":0,\"ticks\":\"\"}}}],\"carpet\":[{\"aaxis\":{\"endlinecolor\":\"#2a3f5f\",\"gridcolor\":\"white\",\"linecolor\":\"white\",\"minorgridcolor\":\"white\",\"startlinecolor\":\"#2a3f5f\"},\"baxis\":{\"endlinecolor\":\"#2a3f5f\",\"gridcolor\":\"white\",\"linecolor\":\"white\",\"minorgridcolor\":\"white\",\"startlinecolor\":\"#2a3f5f\"},\"type\":\"carpet\"}],\"table\":[{\"cells\":{\"fill\":{\"color\":\"#EBF0F8\"},\"line\":{\"color\":\"white\"}},\"header\":{\"fill\":{\"color\":\"#C8D4E3\"},\"line\":{\"color\":\"white\"}},\"type\":\"table\"}],\"barpolar\":[{\"marker\":{\"line\":{\"color\":\"#E5ECF6\",\"width\":0.5},\"pattern\":{\"fillmode\":\"overlay\",\"size\":10,\"solidity\":0.2}},\"type\":\"barpolar\"}],\"pie\":[{\"automargin\":true,\"type\":\"pie\"}]},\"layout\":{\"autotypenumbers\":\"strict\",\"colorway\":[\"#636efa\",\"#EF553B\",\"#00cc96\",\"#ab63fa\",\"#FFA15A\",\"#19d3f3\",\"#FF6692\",\"#B6E880\",\"#FF97FF\",\"#FECB52\"],\"font\":{\"color\":\"#2a3f5f\"},\"hovermode\":\"closest\",\"hoverlabel\":{\"align\":\"left\"},\"paper_bgcolor\":\"white\",\"plot_bgcolor\":\"#E5ECF6\",\"polar\":{\"bgcolor\":\"#E5ECF6\",\"angularaxis\":{\"gridcolor\":\"white\",\"linecolor\":\"white\",\"ticks\":\"\"},\"radialaxis\":{\"gridcolor\":\"white\",\"linecolor\":\"white\",\"ticks\":\"\"}},\"ternary\":{\"bgcolor\":\"#E5ECF6\",\"aaxis\":{\"gridcolor\":\"white\",\"linecolor\":\"white\",\"ticks\":\"\"},\"baxis\":{\"gridcolor\":\"white\",\"linecolor\":\"white\",\"ticks\":\"\"},\"caxis\":{\"gridcolor\":\"white\",\"linecolor\":\"white\",\"ticks\":\"\"}},\"coloraxis\":{\"colorbar\":{\"outlinewidth\":0,\"ticks\":\"\"}},\"colorscale\":{\"sequential\":[[0.0,\"#0d0887\"],[0.1111111111111111,\"#46039f\"],[0.2222222222222222,\"#7201a8\"],[0.3333333333333333,\"#9c179e\"],[0.4444444444444444,\"#bd3786\"],[0.5555555555555556,\"#d8576b\"],[0.6666666666666666,\"#ed7953\"],[0.7777777777777778,\"#fb9f3a\"],[0.8888888888888888,\"#fdca26\"],[1.0,\"#f0f921\"]],\"sequentialminus\":[[0.0,\"#0d0887\"],[0.1111111111111111,\"#46039f\"],[0.2222222222222222,\"#7201a8\"],[0.3333333333333333,\"#9c179e\"],[0.4444444444444444,\"#bd3786\"],[0.5555555555555556,\"#d8576b\"],[0.6666666666666666,\"#ed7953\"],[0.7777777777777778,\"#fb9f3a\"],[0.8888888888888888,\"#fdca26\"],[1.0,\"#f0f921\"]],\"diverging\":[[0,\"#8e0152\"],[0.1,\"#c51b7d\"],[0.2,\"#de77ae\"],[0.3,\"#f1b6da\"],[0.4,\"#fde0ef\"],[0.5,\"#f7f7f7\"],[0.6,\"#e6f5d0\"],[0.7,\"#b8e186\"],[0.8,\"#7fbc41\"],[0.9,\"#4d9221\"],[1,\"#276419\"]]},\"xaxis\":{\"gridcolor\":\"white\",\"linecolor\":\"white\",\"ticks\":\"\",\"title\":{\"standoff\":15},\"zerolinecolor\":\"white\",\"automargin\":true,\"zerolinewidth\":2},\"yaxis\":{\"gridcolor\":\"white\",\"linecolor\":\"white\",\"ticks\":\"\",\"title\":{\"standoff\":15},\"zerolinecolor\":\"white\",\"automargin\":true,\"zerolinewidth\":2},\"scene\":{\"xaxis\":{\"backgroundcolor\":\"#E5ECF6\",\"gridcolor\":\"white\",\"linecolor\":\"white\",\"showbackground\":true,\"ticks\":\"\",\"zerolinecolor\":\"white\",\"gridwidth\":2},\"yaxis\":{\"backgroundcolor\":\"#E5ECF6\",\"gridcolor\":\"white\",\"linecolor\":\"white\",\"showbackground\":true,\"ticks\":\"\",\"zerolinecolor\":\"white\",\"gridwidth\":2},\"zaxis\":{\"backgroundcolor\":\"#E5ECF6\",\"gridcolor\":\"white\",\"linecolor\":\"white\",\"showbackground\":true,\"ticks\":\"\",\"zerolinecolor\":\"white\",\"gridwidth\":2}},\"shapedefaults\":{\"line\":{\"color\":\"#2a3f5f\"}},\"annotationdefaults\":{\"arrowcolor\":\"#2a3f5f\",\"arrowhead\":0,\"arrowwidth\":1},\"geo\":{\"bgcolor\":\"white\",\"landcolor\":\"#E5ECF6\",\"subunitcolor\":\"white\",\"showland\":true,\"showlakes\":true,\"lakecolor\":\"white\"},\"title\":{\"x\":0.05},\"mapbox\":{\"style\":\"light\"}}},\"xaxis\":{\"anchor\":\"y\",\"domain\":[0.0,0.18400000000000002],\"title\":{\"text\":\"pos\"}},\"yaxis\":{\"anchor\":\"x\",\"domain\":[0.0,1.0],\"autorange\":\"reversed\",\"title\":{\"text\":\"Layer\"}},\"xaxis2\":{\"anchor\":\"y2\",\"domain\":[0.20400000000000001,0.388],\"matches\":\"x\",\"title\":{\"text\":\"pos\"}},\"yaxis2\":{\"anchor\":\"x2\",\"domain\":[0.0,1.0],\"matches\":\"y\",\"showticklabels\":false},\"xaxis3\":{\"anchor\":\"y3\",\"domain\":[0.40800000000000003,0.5920000000000001],\"matches\":\"x\",\"title\":{\"text\":\"pos\"}},\"yaxis3\":{\"anchor\":\"x3\",\"domain\":[0.0,1.0],\"matches\":\"y\",\"showticklabels\":false},\"xaxis4\":{\"anchor\":\"y4\",\"domain\":[0.6120000000000001,0.7960000000000002],\"matches\":\"x\",\"title\":{\"text\":\"pos\"}},\"yaxis4\":{\"anchor\":\"x4\",\"domain\":[0.0,1.0],\"matches\":\"y\",\"showticklabels\":false},\"xaxis5\":{\"anchor\":\"y5\",\"domain\":[0.8160000000000001,1.0],\"matches\":\"x\",\"title\":{\"text\":\"pos\"}},\"yaxis5\":{\"anchor\":\"x5\",\"domain\":[0.0,1.0],\"matches\":\"y\",\"showticklabels\":false},\"annotations\":[{\"font\":{},\"showarrow\":false,\"text\":\"output\",\"x\":0.09200000000000001,\"xanchor\":\"center\",\"xref\":\"paper\",\"y\":1.0,\"yanchor\":\"bottom\",\"yref\":\"paper\"},{\"font\":{},\"showarrow\":false,\"text\":\"query\",\"x\":0.29600000000000004,\"xanchor\":\"center\",\"xref\":\"paper\",\"y\":1.0,\"yanchor\":\"bottom\",\"yref\":\"paper\"},{\"font\":{},\"showarrow\":false,\"text\":\"key\",\"x\":0.5,\"xanchor\":\"center\",\"xref\":\"paper\",\"y\":1.0,\"yanchor\":\"bottom\",\"yref\":\"paper\"},{\"font\":{},\"showarrow\":false,\"text\":\"value\",\"x\":0.7040000000000002,\"xanchor\":\"center\",\"xref\":\"paper\",\"y\":1.0,\"yanchor\":\"bottom\",\"yref\":\"paper\"},{\"font\":{},\"showarrow\":false,\"text\":\"pattern\",\"x\":0.908,\"xanchor\":\"center\",\"xref\":\"paper\",\"y\":1.0,\"yanchor\":\"bottom\",\"yref\":\"paper\"}],\"coloraxis\":{\"colorscale\":[[0.0,\"rgb(103,0,31)\"],[0.1,\"rgb(178,24,43)\"],[0.2,\"rgb(214,96,77)\"],[0.3,\"rgb(244,165,130)\"],[0.4,\"rgb(253,219,199)\"],[0.5,\"rgb(247,247,247)\"],[0.6,\"rgb(209,229,240)\"],[0.7,\"rgb(146,197,222)\"],[0.8,\"rgb(67,147,195)\"],[0.9,\"rgb(33,102,172)\"],[1.0,\"rgb(5,48,97)\"]],\"cmid\":0.0},\"title\":{\"text\":\"attn head patching results (corrupted idx token)\"}},                        {\"responsive\": true}                    ).then(function(){\n",
              "                            \n",
              "var gd = document.getElementById('d5174bba-00d7-42f2-b500-e7c5c5873e03');\n",
              "var x = new MutationObserver(function (mutations, observer) {{\n",
              "        var display = window.getComputedStyle(gd).display;\n",
              "        if (!display || display === 'none') {{\n",
              "            console.log([gd, 'removed!']);\n",
              "            Plotly.purge(gd);\n",
              "            observer.disconnect();\n",
              "        }}\n",
              "}});\n",
              "\n",
              "// Listen for the removal of the full notebook cells\n",
              "var notebookContainer = gd.closest('#notebook-container');\n",
              "if (notebookContainer) {{\n",
              "    x.observe(notebookContainer, {childList: true});\n",
              "}}\n",
              "\n",
              "// Listen for the clearing of the current output cell\n",
              "var outputEl = gd.closest('.output');\n",
              "if (outputEl) {{\n",
              "    x.observe(outputEl, {childList: true});\n",
              "}}\n",
              "\n",
              "                        })                };                            </script>        </div>\n",
              "</body>\n",
              "</html>"
            ]
          },
          "metadata": {}
        }
      ]
    },
    {
      "cell_type": "markdown",
      "source": [
        "This is very clean and strongly suggests K-composition. Let's go layer by layer:\n",
        "\n",
        "\n",
        "We see the output at the \"elt\" dest position, and the value at the \"idx\" src position in layer 0 fully recovers performance. This suggests that 0.0 moves the \"idx\" token information to the \"elt\" residual stream, as expected.\n",
        "\n",
        "\n",
        "In L1, we can see that patching in the key at the \"elt\" source position fully recovers performance. This combined with the L0 patching results suggests that the output of 0.0 is used as a key for the \"elt\" position.\n",
        "\n",
        "\n",
        "If this hypothesis is true, we should be able to read this off the QK circuit weights:"
      ],
      "metadata": {
        "id": "h4O4PVR-Jy4p"
      }
    },
    {
      "cell_type": "markdown",
      "source": [
        "## K-composition circuit"
      ],
      "metadata": {
        "id": "aD3JUU9kKd55"
      }
    },
    {
      "cell_type": "markdown",
      "source": [
        "The relevant circuit is:\n",
        "\n",
        "\n",
        "$W_{pos}W_{QK}^{1.0}(W_{OV}^{0.0})^TW_E^T$.\n",
        "\n",
        "\n",
        "We expect to see a strong diagonal for the query positions corresponding to the prediction positions, and the tokens corresponding to the “idx” tokens. This can be interpreted as \"this prediction position should attend strongly to the src residual stream that attended fully to these src tokens in the previous layer\""
      ],
      "metadata": {
        "id": "ayoqb0WFKf3J"
      }
    },
    {
      "cell_type": "code",
      "source": [
        "W_pos = model.W_pos\n",
        "print(W_pos.shape)"
      ],
      "metadata": {
        "colab": {
          "base_uri": "https://localhost:8080/"
        },
        "id": "wZ04Cv-AKsOw",
        "outputId": "9f6077c7-9c00-4747-9bc1-2a8f87f253f9"
      },
      "execution_count": 38,
      "outputs": [
        {
          "output_type": "stream",
          "name": "stdout",
          "text": [
            "torch.Size([11, 128])\n"
          ]
        }
      ]
    },
    {
      "cell_type": "code",
      "source": [
        "k_comp_circuit = W_pos @ model.QK[1,0].AB @ model.OV[0,0].AB.T @ W_E.T\n",
        "print(k_comp_circuit.shape)"
      ],
      "metadata": {
        "colab": {
          "base_uri": "https://localhost:8080/"
        },
        "id": "52KTDlZBKfNn",
        "outputId": "59387181-1ca5-41c6-cf03-5bc5b372df40"
      },
      "execution_count": 39,
      "outputs": [
        {
          "output_type": "stream",
          "name": "stdout",
          "text": [
            "torch.Size([11, 52])\n"
          ]
        }
      ]
    },
    {
      "cell_type": "code",
      "source": [
        "imshow(\n",
        "    k_comp_circuit,\n",
        "    yaxis=\"dest pos\", xaxis=\"src token\",\n",
        "    y=labels,\n",
        "    title=\"K comp circuit W_pos @ W_QK^1.0 @ (W_OV^0.0)^T @ W_E^T\"\n",
        ")"
      ],
      "metadata": {
        "colab": {
          "base_uri": "https://localhost:8080/",
          "height": 542
        },
        "id": "qjk2l3swJs0m",
        "outputId": "db390842-b072-4597-9b92-c4567ae30e7c"
      },
      "execution_count": 40,
      "outputs": [
        {
          "output_type": "display_data",
          "data": {
            "text/html": [
              "<html>\n",
              "<head><meta charset=\"utf-8\" /></head>\n",
              "<body>\n",
              "    <div>            <script src=\"https://cdnjs.cloudflare.com/ajax/libs/mathjax/2.7.5/MathJax.js?config=TeX-AMS-MML_SVG\"></script><script type=\"text/javascript\">if (window.MathJax && window.MathJax.Hub && window.MathJax.Hub.Config) {window.MathJax.Hub.Config({SVG: {font: \"STIX-Web\"}});}</script>                <script type=\"text/javascript\">window.PlotlyConfig = {MathJaxConfig: 'local'};</script>\n",
              "        <script charset=\"utf-8\" src=\"https://cdn.plot.ly/plotly-2.24.1.min.js\"></script>                <div id=\"4d979d51-7f33-4f2c-999c-a1d13a845189\" class=\"plotly-graph-div\" style=\"height:525px; width:100%;\"></div>            <script type=\"text/javascript\">                                    window.PLOTLYENV=window.PLOTLYENV || {};                                    if (document.getElementById(\"4d979d51-7f33-4f2c-999c-a1d13a845189\")) {                    Plotly.newPlot(                        \"4d979d51-7f33-4f2c-999c-a1d13a845189\",                        [{\"coloraxis\":\"coloraxis\",\"name\":\"0\",\"y\":[\"BOS\",\"14_1\",\"26_2\",\"35_3\",\"nl_0\",\"1_5\",\"48_6\",\"nl_1\",\"14_8\",\"48_9\",\"35_10\"],\"z\":[[23.757957458496094,3.1363604068756104,-22.924165725708008,0.6101863384246826,2.7610039710998535,2.3679027557373047,4.561336994171143,1.7601970434188843,-5.636682033538818,-0.13163727521896362,-6.947949409484863,2.27639102935791,-3.0520153045654297,1.7527122497558594,-0.9892933368682861,-3.4695329666137695,1.5124201774597168,3.106083393096924,1.441934585571289,3.852241277694702,-2.3997790813446045,-4.04072380065918,5.66139030456543,2.9179694652557373,3.08138370513916,0.2607696056365967,0.3822067975997925,1.4590530395507812,-1.4974206686019897,1.1541811227798462,-0.8818487524986267,-3.462118625640869,-0.32839852571487427,-0.3388550877571106,-3.0107874870300293,-4.283607482910156,-2.9397332668304443,-4.45681095123291,-2.733433961868286,5.857390880584717,-0.16706493496894836,-2.5417258739471436,-0.5276786088943481,-0.9603649377822876,3.575556755065918,-2.841118812561035,-2.9635612964630127,-2.7975380420684814,4.031993865966797,-1.9066567420959473,0.9209338426589966,1.671938419342041],[-20.808162689208984,10.750201225280762,8.8962984085083,0.38611167669296265,-1.6270719766616821,0.24480068683624268,-3.3180787563323975,-1.043368935585022,2.436990737915039,-1.1234233379364014,3.495767116546631,-1.0523349046707153,2.6356263160705566,-3.9746673107147217,0.8836814165115356,2.374696969985962,0.06643612682819366,-1.7401342391967773,0.06954418122768402,-4.244925498962402,1.748728632926941,3.193695068359375,-3.335561752319336,-2.4410595893859863,-4.2233757972717285,-0.28103873133659363,-1.4291366338729858,0.07675141841173172,1.81010901927948,-1.517231822013855,1.482983112335205,1.4658077955245972,-1.2408506870269775,0.9232622385025024,1.0678820610046387,2.4799771308898926,-0.5688962936401367,3.4503040313720703,2.577822685241699,-3.2478432655334473,1.3593719005584717,3.4504594802856445,0.829052746295929,-0.1865825057029724,-1.7360939979553223,3.2372207641601562,2.3848717212677,2.9827094078063965,-3.444765090942383,0.5880330204963684,-0.6803447604179382,-1.0299274921417236],[-9.252817153930664,-3.338700294494629,13.874646186828613,-1.155608892440796,-3.361417531967163,-2.325887441635132,-3.0015461444854736,-1.1402344703674316,2.9780287742614746,1.613743782043457,4.154559135437012,-1.1309221982955933,1.0904484987258911,-0.7151961326599121,0.44612401723861694,2.3604085445404053,-1.4285060167312622,-2.2036192417144775,-1.2587296962738037,-2.582594156265259,1.9594312906265259,3.431878089904785,-3.510714054107666,-2.256758451461792,-0.8151590824127197,-1.0040647983551025,-1.1088919639587402,-0.9885941743850708,-0.14993464946746826,0.09602954983711243,-0.5032957792282104,2.743166923522949,-0.0475040078163147,-1.0494201183319092,2.292416572570801,1.158714771270752,2.3356707096099854,3.1931915283203125,1.6793347597122192,-4.5700483322143555,2.27720046043396,1.5457737445831299,0.0031918585300445557,-0.8451145887374878,-0.3222605884075165,0.5627251863479614,2.578925848007202,1.3504104614257812,-3.1253702640533447,1.297736406326294,-2.2989609241485596,-2.641256093978882],[3.9666855335235596,-12.047969818115234,9.161465644836426,-1.327035665512085,-2.6220855712890625,-2.6518638134002686,-1.5689879655838013,-0.4992563724517822,1.834625482559204,2.370783805847168,1.6613554954528809,-1.150132179260254,-1.0998324155807495,2.5242440700531006,0.13306713104248047,1.1358596086502075,-1.7114229202270508,-1.4186477661132812,-1.7164255380630493,0.08192504942417145,0.7426968216896057,0.9767203330993652,-1.7570829391479492,-0.9332010746002197,1.587672233581543,-0.20259541273117065,0.1813739538192749,-1.0847190618515015,-0.8023874759674072,1.0494393110275269,-2.092750310897827,2.8892335891723633,1.1547402143478394,-1.4782551527023315,1.8603839874267578,0.026805654168128967,3.188575506210327,1.3356010913848877,-0.05385330691933632,-2.2533273696899414,1.1798467636108398,-0.31845366954803467,-0.39989930391311646,0.30801594257354736,0.7221386432647705,-1.1733534336090088,1.4686545133590698,-0.9814790487289429,-1.487228274345398,0.6004900932312012,-1.681117057800293,-1.4614956378936768],[3.8377010822296143,5.531555652618408,-13.534688949584961,2.4872701168060303,5.535464286804199,3.5069751739501953,4.2402143478393555,0.5035046339035034,-2.9314703941345215,-4.009479999542236,-4.655815601348877,1.755890965461731,-0.6829559206962585,-0.023168563842773438,-0.9035879969596863,-3.1124329566955566,2.8598666191101074,3.6552114486694336,1.9267685413360596,4.118394374847412,-2.2524213790893555,-5.09103536605835,4.366072177886963,2.8343889713287354,-0.005955159664154053,1.3126227855682373,2.573305606842041,1.3306785821914673,0.7615200281143188,0.008505687117576599,1.4424997568130493,-3.838191509246826,-0.2724291682243347,1.5046520233154297,-2.8947508335113525,-1.1911706924438477,-3.116309642791748,-3.809762477874756,-2.0259857177734375,5.753622531890869,-4.909811019897461,-2.499810218811035,0.24290457367897034,1.1060436964035034,-0.2730541527271271,-0.9341968297958374,-4.136842727661133,-1.3201792240142822,4.826204299926758,-1.4414808750152588,4.674445629119873,4.136082649230957],[5.035637378692627,4.784167289733887,-14.97918701171875,2.744943857192993,6.141567230224609,4.325550556182861,4.568676471710205,0.46185731887817383,-3.218792200088501,-4.228294372558594,-4.888187408447266,1.2960174083709717,-0.5133199691772461,0.5030989646911621,-0.41554105281829834,-3.70491623878479,3.4277658462524414,3.8956544399261475,2.0608696937561035,4.952131271362305,-3.511503219604492,-5.815776824951172,4.5224738121032715,3.5739126205444336,-0.043259114027023315,1.9904935359954834,2.7289633750915527,1.4852699041366577,1.1626144647598267,-0.2973516881465912,1.3675775527954102,-4.20490026473999,0.3260291814804077,1.4434261322021484,-3.3480215072631836,-0.4331347644329071,-3.5781302452087402,-5.202254772186279,-2.4689948558807373,6.729317665100098,-6.58400297164917,-2.9217278957366943,0.1433003693819046,1.5359175205230713,-1.3939523696899414,-0.2913902997970581,-5.4973320960998535,-1.3202478885650635,5.3608503341674805,-1.1156072616577148,5.764216899871826,5.041595458984375],[-14.95536994934082,4.268216609954834,11.905701637268066,-1.119500756263733,-3.3482120037078857,-1.2817796468734741,-4.116936683654785,-0.6359320878982544,3.18533992767334,0.9173657894134521,4.286828517913818,-1.7449761629104614,2.3067846298217773,-2.2685890197753906,0.7618817090988159,3.1598541736602783,-0.7859495282173157,-2.8036389350891113,-0.7376458644866943,-4.644113063812256,1.7813334465026855,4.517112731933594,-4.002665996551514,-2.7341513633728027,-2.2883033752441406,-0.5545986890792847,-1.6142899990081787,-0.7222442030906677,1.0390664339065552,-1.036400318145752,0.22665411233901978,2.549891233444214,-1.0811827182769775,-0.21648409962654114,2.052764654159546,2.131208896636963,1.2787306308746338,3.336836814880371,2.5181052684783936,-4.382160186767578,3.2419447898864746,2.811769723892212,0.11985576152801514,-0.5232484936714172,-1.186846375465393,2.451209783554077,2.6640989780426025,3.0261483192443848,-3.9057457447052,1.301429271697998,-2.8088951110839844,-2.8175766468048096],[119.02528381347656,-80.59635162353516,-52.312808990478516,6.476261615753174,20.080474853515625,5.857375621795654,23.463768005371094,7.7738165855407715,-16.552345275878906,-4.615499019622803,-27.933443069458008,3.9696168899536133,-20.794614791870117,30.796119689941406,-7.767968654632568,-22.655120849609375,2.6535158157348633,17.314388275146484,2.5799221992492676,37.62101364135742,-16.635353088378906,-35.02956008911133,25.615421295166016,18.787982940673828,19.365198135375977,8.30850887298584,16.28827476501465,3.291311740875244,-9.594755172729492,9.986496925354004,-6.238407135009766,-10.386089324951172,11.479531288146973,-5.422351837158203,-9.433162689208984,-10.741655349731445,4.135115146636963,-25.482707977294922,-19.825946807861328,28.453039169311523,-23.655912399291992,-24.148958206176758,-4.309876441955566,12.6359281539917,6.420762062072754,-21.267053604125977,-22.027477264404297,-23.542299270629883,28.312240600585938,-3.3968536853790283,18.706581115722656,19.138545989990234],[-79.40567016601562,135.69357299804688,-58.708492279052734,7.887583255767822,12.174347877502441,19.46291160583496,3.1752853393554688,-1.371872901916504,-5.808499813079834,-20.141544342041016,-6.057861804962158,4.80500602722168,16.52379608154297,-32.98843765258789,3.6722564697265625,0.8918752670288086,15.689605712890625,4.753161907196045,10.720503807067871,-14.3829984664917,0.6390962600708008,6.203024387359619,2.82196307182312,-1.2350921630859375,-20.75463104248047,2.2944109439849854,-6.57009744644165,8.586474418640137,13.119270324707031,-11.375617027282715,16.30780601501465,-17.2279052734375,-14.285667419433594,13.915705680847168,-9.939990997314453,3.488581895828247,-28.370010375976562,-2.3975753784179688,8.867522239685059,9.977845191955566,-1.3884527683258057,10.828909873962402,3.6660027503967285,-9.184806823730469,-6.968594551086426,18.32725715637207,-6.280341148376465,16.601465225219727,1.2216720581054688,-3.9551939964294434,7.436102390289307,5.785205841064453],[-68.43280792236328,-81.85719299316406,106.39485168457031,5.022109031677246,3.9851694107055664,-7.5620832443237305,-8.605414390563965,-8.207154273986816,22.220474243164062,-10.421086311340332,18.019290924072266,-9.60854434967041,1.2568795680999756,13.36266040802002,0.3155817985534668,2.3080430030822754,-2.4756689071655273,-1.767703652381897,-6.312739372253418,11.131282806396484,1.325700044631958,-9.518896102905273,-12.95274543762207,-1.727508783340454,-7.244210243225098,7.186174392700195,15.500555038452148,-6.1375956535339355,3.730339765548706,2.8281185626983643,0.06747841835021973,13.375054359436035,10.883003234863281,-1.2226784229278564,10.296062469482422,17.041284561157227,20.31604766845703,6.719821453094482,-0.27663636207580566,-10.572375297546387,-25.841524124145508,-4.806394577026367,0.9951696395874023,17.603118896484375,-16.638364791870117,-0.09690475463867188,-3.58127760887146,-2.921865463256836,1.3878989219665527,7.491411209106445,17.193124771118164,9.853830337524414],[-8.244512557983398,5.239225387573242,3.5810134410858154,-0.340523362159729,-1.2245979309082031,0.04634777456521988,-1.5513885021209717,-0.5807774662971497,0.9190312027931213,-0.0899367406964302,1.6321706771850586,-0.19564087688922882,1.419769525527954,-2.062389373779297,0.3500978648662567,1.466834545135498,0.30281978845596313,-1.0693018436431885,0.12751246988773346,-2.0309929847717285,0.874092161655426,1.8846046924591064,-1.654399037361145,-1.2230395078659058,-1.2059440612792969,-0.37191081047058105,-0.6753039956092834,-0.11683636903762817,0.555892825126648,-0.3963601887226105,0.25705501437187195,0.46364009380340576,-0.8997870683670044,0.2932599186897278,0.5828281044960022,0.5515807867050171,-0.23091965913772583,1.6552846431732178,1.3386679887771606,-1.6300708055496216,0.9248923659324646,1.532483458518982,0.4083644151687622,-0.7388813495635986,-0.39625728130340576,1.3882896900177002,0.8833529949188232,1.4347892999649048,-1.4834389686584473,0.11830887943506241,-0.8134198188781738,-1.0234019756317139]],\"type\":\"heatmap\",\"xaxis\":\"x\",\"yaxis\":\"y\",\"hovertemplate\":\"src token: %{x}\\u003cbr\\u003edest pos: %{y}\\u003cbr\\u003ecolor: %{z}\\u003cextra\\u003e\\u003c\\u002fextra\\u003e\"}],                        {\"template\":{\"data\":{\"histogram2dcontour\":[{\"type\":\"histogram2dcontour\",\"colorbar\":{\"outlinewidth\":0,\"ticks\":\"\"},\"colorscale\":[[0.0,\"#0d0887\"],[0.1111111111111111,\"#46039f\"],[0.2222222222222222,\"#7201a8\"],[0.3333333333333333,\"#9c179e\"],[0.4444444444444444,\"#bd3786\"],[0.5555555555555556,\"#d8576b\"],[0.6666666666666666,\"#ed7953\"],[0.7777777777777778,\"#fb9f3a\"],[0.8888888888888888,\"#fdca26\"],[1.0,\"#f0f921\"]]}],\"choropleth\":[{\"type\":\"choropleth\",\"colorbar\":{\"outlinewidth\":0,\"ticks\":\"\"}}],\"histogram2d\":[{\"type\":\"histogram2d\",\"colorbar\":{\"outlinewidth\":0,\"ticks\":\"\"},\"colorscale\":[[0.0,\"#0d0887\"],[0.1111111111111111,\"#46039f\"],[0.2222222222222222,\"#7201a8\"],[0.3333333333333333,\"#9c179e\"],[0.4444444444444444,\"#bd3786\"],[0.5555555555555556,\"#d8576b\"],[0.6666666666666666,\"#ed7953\"],[0.7777777777777778,\"#fb9f3a\"],[0.8888888888888888,\"#fdca26\"],[1.0,\"#f0f921\"]]}],\"heatmap\":[{\"type\":\"heatmap\",\"colorbar\":{\"outlinewidth\":0,\"ticks\":\"\"},\"colorscale\":[[0.0,\"#0d0887\"],[0.1111111111111111,\"#46039f\"],[0.2222222222222222,\"#7201a8\"],[0.3333333333333333,\"#9c179e\"],[0.4444444444444444,\"#bd3786\"],[0.5555555555555556,\"#d8576b\"],[0.6666666666666666,\"#ed7953\"],[0.7777777777777778,\"#fb9f3a\"],[0.8888888888888888,\"#fdca26\"],[1.0,\"#f0f921\"]]}],\"heatmapgl\":[{\"type\":\"heatmapgl\",\"colorbar\":{\"outlinewidth\":0,\"ticks\":\"\"},\"colorscale\":[[0.0,\"#0d0887\"],[0.1111111111111111,\"#46039f\"],[0.2222222222222222,\"#7201a8\"],[0.3333333333333333,\"#9c179e\"],[0.4444444444444444,\"#bd3786\"],[0.5555555555555556,\"#d8576b\"],[0.6666666666666666,\"#ed7953\"],[0.7777777777777778,\"#fb9f3a\"],[0.8888888888888888,\"#fdca26\"],[1.0,\"#f0f921\"]]}],\"contourcarpet\":[{\"type\":\"contourcarpet\",\"colorbar\":{\"outlinewidth\":0,\"ticks\":\"\"}}],\"contour\":[{\"type\":\"contour\",\"colorbar\":{\"outlinewidth\":0,\"ticks\":\"\"},\"colorscale\":[[0.0,\"#0d0887\"],[0.1111111111111111,\"#46039f\"],[0.2222222222222222,\"#7201a8\"],[0.3333333333333333,\"#9c179e\"],[0.4444444444444444,\"#bd3786\"],[0.5555555555555556,\"#d8576b\"],[0.6666666666666666,\"#ed7953\"],[0.7777777777777778,\"#fb9f3a\"],[0.8888888888888888,\"#fdca26\"],[1.0,\"#f0f921\"]]}],\"surface\":[{\"type\":\"surface\",\"colorbar\":{\"outlinewidth\":0,\"ticks\":\"\"},\"colorscale\":[[0.0,\"#0d0887\"],[0.1111111111111111,\"#46039f\"],[0.2222222222222222,\"#7201a8\"],[0.3333333333333333,\"#9c179e\"],[0.4444444444444444,\"#bd3786\"],[0.5555555555555556,\"#d8576b\"],[0.6666666666666666,\"#ed7953\"],[0.7777777777777778,\"#fb9f3a\"],[0.8888888888888888,\"#fdca26\"],[1.0,\"#f0f921\"]]}],\"mesh3d\":[{\"type\":\"mesh3d\",\"colorbar\":{\"outlinewidth\":0,\"ticks\":\"\"}}],\"scatter\":[{\"fillpattern\":{\"fillmode\":\"overlay\",\"size\":10,\"solidity\":0.2},\"type\":\"scatter\"}],\"parcoords\":[{\"type\":\"parcoords\",\"line\":{\"colorbar\":{\"outlinewidth\":0,\"ticks\":\"\"}}}],\"scatterpolargl\":[{\"type\":\"scatterpolargl\",\"marker\":{\"colorbar\":{\"outlinewidth\":0,\"ticks\":\"\"}}}],\"bar\":[{\"error_x\":{\"color\":\"#2a3f5f\"},\"error_y\":{\"color\":\"#2a3f5f\"},\"marker\":{\"line\":{\"color\":\"#E5ECF6\",\"width\":0.5},\"pattern\":{\"fillmode\":\"overlay\",\"size\":10,\"solidity\":0.2}},\"type\":\"bar\"}],\"scattergeo\":[{\"type\":\"scattergeo\",\"marker\":{\"colorbar\":{\"outlinewidth\":0,\"ticks\":\"\"}}}],\"scatterpolar\":[{\"type\":\"scatterpolar\",\"marker\":{\"colorbar\":{\"outlinewidth\":0,\"ticks\":\"\"}}}],\"histogram\":[{\"marker\":{\"pattern\":{\"fillmode\":\"overlay\",\"size\":10,\"solidity\":0.2}},\"type\":\"histogram\"}],\"scattergl\":[{\"type\":\"scattergl\",\"marker\":{\"colorbar\":{\"outlinewidth\":0,\"ticks\":\"\"}}}],\"scatter3d\":[{\"type\":\"scatter3d\",\"line\":{\"colorbar\":{\"outlinewidth\":0,\"ticks\":\"\"}},\"marker\":{\"colorbar\":{\"outlinewidth\":0,\"ticks\":\"\"}}}],\"scattermapbox\":[{\"type\":\"scattermapbox\",\"marker\":{\"colorbar\":{\"outlinewidth\":0,\"ticks\":\"\"}}}],\"scatterternary\":[{\"type\":\"scatterternary\",\"marker\":{\"colorbar\":{\"outlinewidth\":0,\"ticks\":\"\"}}}],\"scattercarpet\":[{\"type\":\"scattercarpet\",\"marker\":{\"colorbar\":{\"outlinewidth\":0,\"ticks\":\"\"}}}],\"carpet\":[{\"aaxis\":{\"endlinecolor\":\"#2a3f5f\",\"gridcolor\":\"white\",\"linecolor\":\"white\",\"minorgridcolor\":\"white\",\"startlinecolor\":\"#2a3f5f\"},\"baxis\":{\"endlinecolor\":\"#2a3f5f\",\"gridcolor\":\"white\",\"linecolor\":\"white\",\"minorgridcolor\":\"white\",\"startlinecolor\":\"#2a3f5f\"},\"type\":\"carpet\"}],\"table\":[{\"cells\":{\"fill\":{\"color\":\"#EBF0F8\"},\"line\":{\"color\":\"white\"}},\"header\":{\"fill\":{\"color\":\"#C8D4E3\"},\"line\":{\"color\":\"white\"}},\"type\":\"table\"}],\"barpolar\":[{\"marker\":{\"line\":{\"color\":\"#E5ECF6\",\"width\":0.5},\"pattern\":{\"fillmode\":\"overlay\",\"size\":10,\"solidity\":0.2}},\"type\":\"barpolar\"}],\"pie\":[{\"automargin\":true,\"type\":\"pie\"}]},\"layout\":{\"autotypenumbers\":\"strict\",\"colorway\":[\"#636efa\",\"#EF553B\",\"#00cc96\",\"#ab63fa\",\"#FFA15A\",\"#19d3f3\",\"#FF6692\",\"#B6E880\",\"#FF97FF\",\"#FECB52\"],\"font\":{\"color\":\"#2a3f5f\"},\"hovermode\":\"closest\",\"hoverlabel\":{\"align\":\"left\"},\"paper_bgcolor\":\"white\",\"plot_bgcolor\":\"#E5ECF6\",\"polar\":{\"bgcolor\":\"#E5ECF6\",\"angularaxis\":{\"gridcolor\":\"white\",\"linecolor\":\"white\",\"ticks\":\"\"},\"radialaxis\":{\"gridcolor\":\"white\",\"linecolor\":\"white\",\"ticks\":\"\"}},\"ternary\":{\"bgcolor\":\"#E5ECF6\",\"aaxis\":{\"gridcolor\":\"white\",\"linecolor\":\"white\",\"ticks\":\"\"},\"baxis\":{\"gridcolor\":\"white\",\"linecolor\":\"white\",\"ticks\":\"\"},\"caxis\":{\"gridcolor\":\"white\",\"linecolor\":\"white\",\"ticks\":\"\"}},\"coloraxis\":{\"colorbar\":{\"outlinewidth\":0,\"ticks\":\"\"}},\"colorscale\":{\"sequential\":[[0.0,\"#0d0887\"],[0.1111111111111111,\"#46039f\"],[0.2222222222222222,\"#7201a8\"],[0.3333333333333333,\"#9c179e\"],[0.4444444444444444,\"#bd3786\"],[0.5555555555555556,\"#d8576b\"],[0.6666666666666666,\"#ed7953\"],[0.7777777777777778,\"#fb9f3a\"],[0.8888888888888888,\"#fdca26\"],[1.0,\"#f0f921\"]],\"sequentialminus\":[[0.0,\"#0d0887\"],[0.1111111111111111,\"#46039f\"],[0.2222222222222222,\"#7201a8\"],[0.3333333333333333,\"#9c179e\"],[0.4444444444444444,\"#bd3786\"],[0.5555555555555556,\"#d8576b\"],[0.6666666666666666,\"#ed7953\"],[0.7777777777777778,\"#fb9f3a\"],[0.8888888888888888,\"#fdca26\"],[1.0,\"#f0f921\"]],\"diverging\":[[0,\"#8e0152\"],[0.1,\"#c51b7d\"],[0.2,\"#de77ae\"],[0.3,\"#f1b6da\"],[0.4,\"#fde0ef\"],[0.5,\"#f7f7f7\"],[0.6,\"#e6f5d0\"],[0.7,\"#b8e186\"],[0.8,\"#7fbc41\"],[0.9,\"#4d9221\"],[1,\"#276419\"]]},\"xaxis\":{\"gridcolor\":\"white\",\"linecolor\":\"white\",\"ticks\":\"\",\"title\":{\"standoff\":15},\"zerolinecolor\":\"white\",\"automargin\":true,\"zerolinewidth\":2},\"yaxis\":{\"gridcolor\":\"white\",\"linecolor\":\"white\",\"ticks\":\"\",\"title\":{\"standoff\":15},\"zerolinecolor\":\"white\",\"automargin\":true,\"zerolinewidth\":2},\"scene\":{\"xaxis\":{\"backgroundcolor\":\"#E5ECF6\",\"gridcolor\":\"white\",\"linecolor\":\"white\",\"showbackground\":true,\"ticks\":\"\",\"zerolinecolor\":\"white\",\"gridwidth\":2},\"yaxis\":{\"backgroundcolor\":\"#E5ECF6\",\"gridcolor\":\"white\",\"linecolor\":\"white\",\"showbackground\":true,\"ticks\":\"\",\"zerolinecolor\":\"white\",\"gridwidth\":2},\"zaxis\":{\"backgroundcolor\":\"#E5ECF6\",\"gridcolor\":\"white\",\"linecolor\":\"white\",\"showbackground\":true,\"ticks\":\"\",\"zerolinecolor\":\"white\",\"gridwidth\":2}},\"shapedefaults\":{\"line\":{\"color\":\"#2a3f5f\"}},\"annotationdefaults\":{\"arrowcolor\":\"#2a3f5f\",\"arrowhead\":0,\"arrowwidth\":1},\"geo\":{\"bgcolor\":\"white\",\"landcolor\":\"#E5ECF6\",\"subunitcolor\":\"white\",\"showland\":true,\"showlakes\":true,\"lakecolor\":\"white\"},\"title\":{\"x\":0.05},\"mapbox\":{\"style\":\"light\"}}},\"xaxis\":{\"anchor\":\"y\",\"domain\":[0.0,1.0],\"scaleanchor\":\"y\",\"constrain\":\"domain\",\"title\":{\"text\":\"src token\"}},\"yaxis\":{\"anchor\":\"x\",\"domain\":[0.0,1.0],\"autorange\":\"reversed\",\"constrain\":\"domain\",\"title\":{\"text\":\"dest pos\"}},\"coloraxis\":{\"colorscale\":[[0.0,\"rgb(103,0,31)\"],[0.1,\"rgb(178,24,43)\"],[0.2,\"rgb(214,96,77)\"],[0.3,\"rgb(244,165,130)\"],[0.4,\"rgb(253,219,199)\"],[0.5,\"rgb(247,247,247)\"],[0.6,\"rgb(209,229,240)\"],[0.7,\"rgb(146,197,222)\"],[0.8,\"rgb(67,147,195)\"],[0.9,\"rgb(33,102,172)\"],[1.0,\"rgb(5,48,97)\"]],\"cmid\":0.0},\"title\":{\"text\":\"K comp circuit W_pos @ W_QK^1.0 @ (W_OV^0.0)^T @ W_E^T\"}},                        {\"responsive\": true}                    ).then(function(){\n",
              "                            \n",
              "var gd = document.getElementById('4d979d51-7f33-4f2c-999c-a1d13a845189');\n",
              "var x = new MutationObserver(function (mutations, observer) {{\n",
              "        var display = window.getComputedStyle(gd).display;\n",
              "        if (!display || display === 'none') {{\n",
              "            console.log([gd, 'removed!']);\n",
              "            Plotly.purge(gd);\n",
              "            observer.disconnect();\n",
              "        }}\n",
              "}});\n",
              "\n",
              "// Listen for the removal of the full notebook cells\n",
              "var notebookContainer = gd.closest('#notebook-container');\n",
              "if (notebookContainer) {{\n",
              "    x.observe(notebookContainer, {childList: true});\n",
              "}}\n",
              "\n",
              "// Listen for the clearing of the current output cell\n",
              "var outputEl = gd.closest('.output');\n",
              "if (outputEl) {{\n",
              "    x.observe(outputEl, {childList: true});\n",
              "}}\n",
              "\n",
              "                        })                };                            </script>        </div>\n",
              "</body>\n",
              "</html>"
            ]
          },
          "metadata": {}
        }
      ]
    },
    {
      "cell_type": "markdown",
      "source": [
        "Notice that dominant 3x3 sub square in the bottom left with the strong positive diagonal, as expected.\n",
        "\n",
        "\n",
        "A natural next question is how does the model also predict the indices that aren't updated? One hypothesis is that it just attends to the fixed position by default, but the K-comp circuit overwrites this with higher attn scores:"
      ],
      "metadata": {
        "id": "m_c8obXCLd_V"
      }
    },
    {
      "cell_type": "markdown",
      "source": [
        "## 1.0 Full QK circuit"
      ],
      "metadata": {
        "id": "QRm4SoL3LsS6"
      }
    },
    {
      "cell_type": "code",
      "source": [
        "layer, head_index = 1, 0\n",
        "full_QK_circuit = W_pos @ model.QK[layer, head_index].AB @ W_pos.T\n",
        "print(full_QK_circuit.shape) # has shape [n_ctx, n_ctx]"
      ],
      "metadata": {
        "colab": {
          "base_uri": "https://localhost:8080/"
        },
        "id": "Zv_YOJyXLbqQ",
        "outputId": "dc689ee7-4216-4ba8-ce78-f7f7d78870b1"
      },
      "execution_count": 41,
      "outputs": [
        {
          "output_type": "stream",
          "name": "stdout",
          "text": [
            "torch.Size([11, 11])\n"
          ]
        }
      ]
    },
    {
      "cell_type": "code",
      "source": [
        "imshow(\n",
        "    full_QK_circuit.tril(),\n",
        "    title=\"1.0 Full QK circuit W_pos @ W_QK^1.0 @ W_pos.T\",\n",
        "    xaxis=\"src pos\", yaxis=\"dest pos\",\n",
        "    x=labels, y=labels\n",
        ")"
      ],
      "metadata": {
        "colab": {
          "base_uri": "https://localhost:8080/",
          "height": 542
        },
        "id": "XVFPy4PiLz8u",
        "outputId": "346f7785-f707-4140-a97a-27f1157b871c"
      },
      "execution_count": 42,
      "outputs": [
        {
          "output_type": "display_data",
          "data": {
            "text/html": [
              "<html>\n",
              "<head><meta charset=\"utf-8\" /></head>\n",
              "<body>\n",
              "    <div>            <script src=\"https://cdnjs.cloudflare.com/ajax/libs/mathjax/2.7.5/MathJax.js?config=TeX-AMS-MML_SVG\"></script><script type=\"text/javascript\">if (window.MathJax && window.MathJax.Hub && window.MathJax.Hub.Config) {window.MathJax.Hub.Config({SVG: {font: \"STIX-Web\"}});}</script>                <script type=\"text/javascript\">window.PlotlyConfig = {MathJaxConfig: 'local'};</script>\n",
              "        <script charset=\"utf-8\" src=\"https://cdn.plot.ly/plotly-2.24.1.min.js\"></script>                <div id=\"13377870-e3e5-4b95-93df-739d191b8f1d\" class=\"plotly-graph-div\" style=\"height:525px; width:100%;\"></div>            <script type=\"text/javascript\">                                    window.PLOTLYENV=window.PLOTLYENV || {};                                    if (document.getElementById(\"13377870-e3e5-4b95-93df-739d191b8f1d\")) {                    Plotly.newPlot(                        \"13377870-e3e5-4b95-93df-739d191b8f1d\",                        [{\"coloraxis\":\"coloraxis\",\"name\":\"0\",\"x\":[\"BOS\",\"14_1\",\"26_2\",\"35_3\",\"nl_0\",\"1_5\",\"48_6\",\"nl_1\",\"14_8\",\"48_9\",\"35_10\"],\"y\":[\"BOS\",\"14_1\",\"26_2\",\"35_3\",\"nl_0\",\"1_5\",\"48_6\",\"nl_1\",\"14_8\",\"48_9\",\"35_10\"],\"z\":[[-5.051119804382324,0.0,0.0,0.0,0.0,0.0,0.0,0.0,0.0,0.0,0.0],[2.209108352661133,-5.759464740753174,0.0,0.0,0.0,0.0,0.0,0.0,0.0,0.0,0.0],[7.028043746948242,-3.315798044204712,-3.9675891399383545,0.0,0.0,0.0,0.0,0.0,0.0,0.0,0.0],[5.281674385070801,0.3980967104434967,-6.182927131652832,2.405398368835449,0.0,0.0,0.0,0.0,0.0,0.0,0.0],[-12.205672264099121,2.1831865310668945,7.352386474609375,-3.1037521362304688,-10.680968284606934,0.0,0.0,0.0,0.0,0.0,0.0],[-13.976678848266602,2.9760124683380127,7.511933326721191,-3.061947822570801,-12.517426490783691,-6.184303283691406,0.0,0.0,0.0,0.0,0.0],[7.489983558654785,-4.6446356773376465,-1.7798871994018555,4.021426200866699,4.949527740478516,2.572840690612793,-4.042035102844238,0.0,0.0,0.0,0.0],[-42.813697814941406,35.14296340942383,-8.442912101745605,-17.545259475708008,-30.886520385742188,-15.661396980285645,21.251874923706055,-20.056278228759766,0.0,0.0,0.0],[-28.733566284179688,-16.336896896362305,57.05309295654297,-14.531846046447754,-23.91522216796875,-12.85711669921875,30.237606048583984,-25.59807777404785,-17.885929107666016,0.0,0.0],[-19.28197479248047,-17.661502838134766,-15.737786293029785,57.193023681640625,-54.1977424621582,-22.17072296142578,43.4563102722168,-41.854713439941406,-41.400001525878906,-22.87350845336914,0.0],[2.1442034244537354,-2.3864636421203613,0.7462636828422546,1.2967760562896729,1.2542475461959839,0.7785151600837708,-0.7662484049797058,0.7935470342636108,0.2069242000579834,-0.19739218056201935,-0.0009595993906259537]],\"type\":\"heatmap\",\"xaxis\":\"x\",\"yaxis\":\"y\",\"hovertemplate\":\"src pos: %{x}\\u003cbr\\u003edest pos: %{y}\\u003cbr\\u003ecolor: %{z}\\u003cextra\\u003e\\u003c\\u002fextra\\u003e\"}],                        {\"template\":{\"data\":{\"histogram2dcontour\":[{\"type\":\"histogram2dcontour\",\"colorbar\":{\"outlinewidth\":0,\"ticks\":\"\"},\"colorscale\":[[0.0,\"#0d0887\"],[0.1111111111111111,\"#46039f\"],[0.2222222222222222,\"#7201a8\"],[0.3333333333333333,\"#9c179e\"],[0.4444444444444444,\"#bd3786\"],[0.5555555555555556,\"#d8576b\"],[0.6666666666666666,\"#ed7953\"],[0.7777777777777778,\"#fb9f3a\"],[0.8888888888888888,\"#fdca26\"],[1.0,\"#f0f921\"]]}],\"choropleth\":[{\"type\":\"choropleth\",\"colorbar\":{\"outlinewidth\":0,\"ticks\":\"\"}}],\"histogram2d\":[{\"type\":\"histogram2d\",\"colorbar\":{\"outlinewidth\":0,\"ticks\":\"\"},\"colorscale\":[[0.0,\"#0d0887\"],[0.1111111111111111,\"#46039f\"],[0.2222222222222222,\"#7201a8\"],[0.3333333333333333,\"#9c179e\"],[0.4444444444444444,\"#bd3786\"],[0.5555555555555556,\"#d8576b\"],[0.6666666666666666,\"#ed7953\"],[0.7777777777777778,\"#fb9f3a\"],[0.8888888888888888,\"#fdca26\"],[1.0,\"#f0f921\"]]}],\"heatmap\":[{\"type\":\"heatmap\",\"colorbar\":{\"outlinewidth\":0,\"ticks\":\"\"},\"colorscale\":[[0.0,\"#0d0887\"],[0.1111111111111111,\"#46039f\"],[0.2222222222222222,\"#7201a8\"],[0.3333333333333333,\"#9c179e\"],[0.4444444444444444,\"#bd3786\"],[0.5555555555555556,\"#d8576b\"],[0.6666666666666666,\"#ed7953\"],[0.7777777777777778,\"#fb9f3a\"],[0.8888888888888888,\"#fdca26\"],[1.0,\"#f0f921\"]]}],\"heatmapgl\":[{\"type\":\"heatmapgl\",\"colorbar\":{\"outlinewidth\":0,\"ticks\":\"\"},\"colorscale\":[[0.0,\"#0d0887\"],[0.1111111111111111,\"#46039f\"],[0.2222222222222222,\"#7201a8\"],[0.3333333333333333,\"#9c179e\"],[0.4444444444444444,\"#bd3786\"],[0.5555555555555556,\"#d8576b\"],[0.6666666666666666,\"#ed7953\"],[0.7777777777777778,\"#fb9f3a\"],[0.8888888888888888,\"#fdca26\"],[1.0,\"#f0f921\"]]}],\"contourcarpet\":[{\"type\":\"contourcarpet\",\"colorbar\":{\"outlinewidth\":0,\"ticks\":\"\"}}],\"contour\":[{\"type\":\"contour\",\"colorbar\":{\"outlinewidth\":0,\"ticks\":\"\"},\"colorscale\":[[0.0,\"#0d0887\"],[0.1111111111111111,\"#46039f\"],[0.2222222222222222,\"#7201a8\"],[0.3333333333333333,\"#9c179e\"],[0.4444444444444444,\"#bd3786\"],[0.5555555555555556,\"#d8576b\"],[0.6666666666666666,\"#ed7953\"],[0.7777777777777778,\"#fb9f3a\"],[0.8888888888888888,\"#fdca26\"],[1.0,\"#f0f921\"]]}],\"surface\":[{\"type\":\"surface\",\"colorbar\":{\"outlinewidth\":0,\"ticks\":\"\"},\"colorscale\":[[0.0,\"#0d0887\"],[0.1111111111111111,\"#46039f\"],[0.2222222222222222,\"#7201a8\"],[0.3333333333333333,\"#9c179e\"],[0.4444444444444444,\"#bd3786\"],[0.5555555555555556,\"#d8576b\"],[0.6666666666666666,\"#ed7953\"],[0.7777777777777778,\"#fb9f3a\"],[0.8888888888888888,\"#fdca26\"],[1.0,\"#f0f921\"]]}],\"mesh3d\":[{\"type\":\"mesh3d\",\"colorbar\":{\"outlinewidth\":0,\"ticks\":\"\"}}],\"scatter\":[{\"fillpattern\":{\"fillmode\":\"overlay\",\"size\":10,\"solidity\":0.2},\"type\":\"scatter\"}],\"parcoords\":[{\"type\":\"parcoords\",\"line\":{\"colorbar\":{\"outlinewidth\":0,\"ticks\":\"\"}}}],\"scatterpolargl\":[{\"type\":\"scatterpolargl\",\"marker\":{\"colorbar\":{\"outlinewidth\":0,\"ticks\":\"\"}}}],\"bar\":[{\"error_x\":{\"color\":\"#2a3f5f\"},\"error_y\":{\"color\":\"#2a3f5f\"},\"marker\":{\"line\":{\"color\":\"#E5ECF6\",\"width\":0.5},\"pattern\":{\"fillmode\":\"overlay\",\"size\":10,\"solidity\":0.2}},\"type\":\"bar\"}],\"scattergeo\":[{\"type\":\"scattergeo\",\"marker\":{\"colorbar\":{\"outlinewidth\":0,\"ticks\":\"\"}}}],\"scatterpolar\":[{\"type\":\"scatterpolar\",\"marker\":{\"colorbar\":{\"outlinewidth\":0,\"ticks\":\"\"}}}],\"histogram\":[{\"marker\":{\"pattern\":{\"fillmode\":\"overlay\",\"size\":10,\"solidity\":0.2}},\"type\":\"histogram\"}],\"scattergl\":[{\"type\":\"scattergl\",\"marker\":{\"colorbar\":{\"outlinewidth\":0,\"ticks\":\"\"}}}],\"scatter3d\":[{\"type\":\"scatter3d\",\"line\":{\"colorbar\":{\"outlinewidth\":0,\"ticks\":\"\"}},\"marker\":{\"colorbar\":{\"outlinewidth\":0,\"ticks\":\"\"}}}],\"scattermapbox\":[{\"type\":\"scattermapbox\",\"marker\":{\"colorbar\":{\"outlinewidth\":0,\"ticks\":\"\"}}}],\"scatterternary\":[{\"type\":\"scatterternary\",\"marker\":{\"colorbar\":{\"outlinewidth\":0,\"ticks\":\"\"}}}],\"scattercarpet\":[{\"type\":\"scattercarpet\",\"marker\":{\"colorbar\":{\"outlinewidth\":0,\"ticks\":\"\"}}}],\"carpet\":[{\"aaxis\":{\"endlinecolor\":\"#2a3f5f\",\"gridcolor\":\"white\",\"linecolor\":\"white\",\"minorgridcolor\":\"white\",\"startlinecolor\":\"#2a3f5f\"},\"baxis\":{\"endlinecolor\":\"#2a3f5f\",\"gridcolor\":\"white\",\"linecolor\":\"white\",\"minorgridcolor\":\"white\",\"startlinecolor\":\"#2a3f5f\"},\"type\":\"carpet\"}],\"table\":[{\"cells\":{\"fill\":{\"color\":\"#EBF0F8\"},\"line\":{\"color\":\"white\"}},\"header\":{\"fill\":{\"color\":\"#C8D4E3\"},\"line\":{\"color\":\"white\"}},\"type\":\"table\"}],\"barpolar\":[{\"marker\":{\"line\":{\"color\":\"#E5ECF6\",\"width\":0.5},\"pattern\":{\"fillmode\":\"overlay\",\"size\":10,\"solidity\":0.2}},\"type\":\"barpolar\"}],\"pie\":[{\"automargin\":true,\"type\":\"pie\"}]},\"layout\":{\"autotypenumbers\":\"strict\",\"colorway\":[\"#636efa\",\"#EF553B\",\"#00cc96\",\"#ab63fa\",\"#FFA15A\",\"#19d3f3\",\"#FF6692\",\"#B6E880\",\"#FF97FF\",\"#FECB52\"],\"font\":{\"color\":\"#2a3f5f\"},\"hovermode\":\"closest\",\"hoverlabel\":{\"align\":\"left\"},\"paper_bgcolor\":\"white\",\"plot_bgcolor\":\"#E5ECF6\",\"polar\":{\"bgcolor\":\"#E5ECF6\",\"angularaxis\":{\"gridcolor\":\"white\",\"linecolor\":\"white\",\"ticks\":\"\"},\"radialaxis\":{\"gridcolor\":\"white\",\"linecolor\":\"white\",\"ticks\":\"\"}},\"ternary\":{\"bgcolor\":\"#E5ECF6\",\"aaxis\":{\"gridcolor\":\"white\",\"linecolor\":\"white\",\"ticks\":\"\"},\"baxis\":{\"gridcolor\":\"white\",\"linecolor\":\"white\",\"ticks\":\"\"},\"caxis\":{\"gridcolor\":\"white\",\"linecolor\":\"white\",\"ticks\":\"\"}},\"coloraxis\":{\"colorbar\":{\"outlinewidth\":0,\"ticks\":\"\"}},\"colorscale\":{\"sequential\":[[0.0,\"#0d0887\"],[0.1111111111111111,\"#46039f\"],[0.2222222222222222,\"#7201a8\"],[0.3333333333333333,\"#9c179e\"],[0.4444444444444444,\"#bd3786\"],[0.5555555555555556,\"#d8576b\"],[0.6666666666666666,\"#ed7953\"],[0.7777777777777778,\"#fb9f3a\"],[0.8888888888888888,\"#fdca26\"],[1.0,\"#f0f921\"]],\"sequentialminus\":[[0.0,\"#0d0887\"],[0.1111111111111111,\"#46039f\"],[0.2222222222222222,\"#7201a8\"],[0.3333333333333333,\"#9c179e\"],[0.4444444444444444,\"#bd3786\"],[0.5555555555555556,\"#d8576b\"],[0.6666666666666666,\"#ed7953\"],[0.7777777777777778,\"#fb9f3a\"],[0.8888888888888888,\"#fdca26\"],[1.0,\"#f0f921\"]],\"diverging\":[[0,\"#8e0152\"],[0.1,\"#c51b7d\"],[0.2,\"#de77ae\"],[0.3,\"#f1b6da\"],[0.4,\"#fde0ef\"],[0.5,\"#f7f7f7\"],[0.6,\"#e6f5d0\"],[0.7,\"#b8e186\"],[0.8,\"#7fbc41\"],[0.9,\"#4d9221\"],[1,\"#276419\"]]},\"xaxis\":{\"gridcolor\":\"white\",\"linecolor\":\"white\",\"ticks\":\"\",\"title\":{\"standoff\":15},\"zerolinecolor\":\"white\",\"automargin\":true,\"zerolinewidth\":2},\"yaxis\":{\"gridcolor\":\"white\",\"linecolor\":\"white\",\"ticks\":\"\",\"title\":{\"standoff\":15},\"zerolinecolor\":\"white\",\"automargin\":true,\"zerolinewidth\":2},\"scene\":{\"xaxis\":{\"backgroundcolor\":\"#E5ECF6\",\"gridcolor\":\"white\",\"linecolor\":\"white\",\"showbackground\":true,\"ticks\":\"\",\"zerolinecolor\":\"white\",\"gridwidth\":2},\"yaxis\":{\"backgroundcolor\":\"#E5ECF6\",\"gridcolor\":\"white\",\"linecolor\":\"white\",\"showbackground\":true,\"ticks\":\"\",\"zerolinecolor\":\"white\",\"gridwidth\":2},\"zaxis\":{\"backgroundcolor\":\"#E5ECF6\",\"gridcolor\":\"white\",\"linecolor\":\"white\",\"showbackground\":true,\"ticks\":\"\",\"zerolinecolor\":\"white\",\"gridwidth\":2}},\"shapedefaults\":{\"line\":{\"color\":\"#2a3f5f\"}},\"annotationdefaults\":{\"arrowcolor\":\"#2a3f5f\",\"arrowhead\":0,\"arrowwidth\":1},\"geo\":{\"bgcolor\":\"white\",\"landcolor\":\"#E5ECF6\",\"subunitcolor\":\"white\",\"showland\":true,\"showlakes\":true,\"lakecolor\":\"white\"},\"title\":{\"x\":0.05},\"mapbox\":{\"style\":\"light\"}}},\"xaxis\":{\"anchor\":\"y\",\"domain\":[0.0,1.0],\"scaleanchor\":\"y\",\"constrain\":\"domain\",\"title\":{\"text\":\"src pos\"}},\"yaxis\":{\"anchor\":\"x\",\"domain\":[0.0,1.0],\"autorange\":\"reversed\",\"constrain\":\"domain\",\"title\":{\"text\":\"dest pos\"}},\"coloraxis\":{\"colorscale\":[[0.0,\"rgb(103,0,31)\"],[0.1,\"rgb(178,24,43)\"],[0.2,\"rgb(214,96,77)\"],[0.3,\"rgb(244,165,130)\"],[0.4,\"rgb(253,219,199)\"],[0.5,\"rgb(247,247,247)\"],[0.6,\"rgb(209,229,240)\"],[0.7,\"rgb(146,197,222)\"],[0.8,\"rgb(67,147,195)\"],[0.9,\"rgb(33,102,172)\"],[1.0,\"rgb(5,48,97)\"]],\"cmid\":0.0},\"title\":{\"text\":\"1.0 Full QK circuit W_pos @ W_QK^1.0 @ W_pos.T\"}},                        {\"responsive\": true}                    ).then(function(){\n",
              "                            \n",
              "var gd = document.getElementById('13377870-e3e5-4b95-93df-739d191b8f1d');\n",
              "var x = new MutationObserver(function (mutations, observer) {{\n",
              "        var display = window.getComputedStyle(gd).display;\n",
              "        if (!display || display === 'none') {{\n",
              "            console.log([gd, 'removed!']);\n",
              "            Plotly.purge(gd);\n",
              "            observer.disconnect();\n",
              "        }}\n",
              "}});\n",
              "\n",
              "// Listen for the removal of the full notebook cells\n",
              "var notebookContainer = gd.closest('#notebook-container');\n",
              "if (notebookContainer) {{\n",
              "    x.observe(notebookContainer, {childList: true});\n",
              "}}\n",
              "\n",
              "// Listen for the clearing of the current output cell\n",
              "var outputEl = gd.closest('.output');\n",
              "if (outputEl) {{\n",
              "    x.observe(outputEl, {childList: true});\n",
              "}}\n",
              "\n",
              "                        })                };                            </script>        </div>\n",
              "</body>\n",
              "</html>"
            ]
          },
          "metadata": {}
        }
      ]
    },
    {
      "cell_type": "markdown",
      "source": [
        "Notice the 3x3 subsquare, where prediction positions attend strongly to their corresponding list positions. However the magnitude of these is about 1/2 of the magnitude of the scores for the k-comp circuit, suggesting that the k-comp circuit can \"overwrites\" the attn scores from this circuit."
      ],
      "metadata": {
        "id": "9oNMzjkVL_88"
      }
    },
    {
      "cell_type": "markdown",
      "source": [
        "## More refined direct logit attribution"
      ],
      "metadata": {
        "id": "oeVFoibQMUTu"
      }
    },
    {
      "cell_type": "markdown",
      "source": [
        "I am convinced that attn head 1.0 can perform K-composition with 0.0 to attend to the correct answer and copy. But it's possible this is not the whole story. Direct logit attribution showed that the 1.0 output dominated, but that also includes the path through both attn heads (AKA the virtual attn head term). To check, we can try do some more refined direct logit attribution by decomposing 1_attn_out into these two terms:\n",
        "\n",
        "\n",
        "$$\n",
        "h_{1.0}(x_1) = A^{1.0}tW_EW_{OV}^{1.0}W_U + A^{1.0}\n",
        "A^{0.0}tW_EW_{OV}^{0.0}W_{OV}^{1.0}W_U\n",
        "$$\n",
        "\n",
        "\n",
        "Where $t$ is the input tokens as one hot encoded vectors."
      ],
      "metadata": {
        "id": "FuT8KMvcMatY"
      }
    },
    {
      "cell_type": "code",
      "source": [
        "embed_both_heads_term = einops.einsum(\n",
        "    cache['pattern', 1], cache['pattern', 0], cache['embed'], model.OV[0,0].AB, model.OV[1, 0].AB,\n",
        "    \"batch n_heads pos1 pos2, batch n_heads pos2 pos3, batch pos3 d_model1, d_model1 d_model2, d_model2 d_model3 -> batch pos1 d_model3\"\n",
        ")\n",
        "\n",
        "embed_head_1_term = einops.einsum(\n",
        "    cache['pattern', 1], cache['embed'], model.OV[1, 0].AB,\n",
        "    \"batch n_heads q_pos k_pos, batch k_pos d_model1, d_model1 d_model2 -> batch q_pos d_model2\"\n",
        ")\n",
        "\n",
        "print(embed_both_heads_term.shape)\n",
        "print(embed_head_1_term.shape)\n",
        "\n",
        "assert torch.allclose(embed_both_heads_term  + embed_head_1_term , cache['attn_out', 1], atol=1e-3)"
      ],
      "metadata": {
        "colab": {
          "base_uri": "https://localhost:8080/"
        },
        "id": "h0HMc1qVN3-f",
        "outputId": "89adea09-f32a-478e-f89f-9ad9ee40a20f"
      },
      "execution_count": 43,
      "outputs": [
        {
          "output_type": "stream",
          "name": "stdout",
          "text": [
            "torch.Size([256, 11, 128])\n",
            "torch.Size([256, 11, 128])\n"
          ]
        }
      ]
    },
    {
      "cell_type": "code",
      "source": [
        "h1_stack = torch.stack([embed_both_heads_term, embed_head_1_term])\n",
        "h1_stack = h1_stack[:, :, first_pred_pos, :]\n",
        "labels = [\"embed_both_heads_term\", \"embed_head_1_term\"]\n",
        "print(h1_stack.shape)\n",
        "print(labels)"
      ],
      "metadata": {
        "colab": {
          "base_uri": "https://localhost:8080/"
        },
        "id": "Vd-TbHAwVo3s",
        "outputId": "1cf1fe83-4e52-4766-c933-605e380a8923"
      },
      "execution_count": 44,
      "outputs": [
        {
          "output_type": "stream",
          "name": "stdout",
          "text": [
            "torch.Size([2, 256, 128])\n",
            "['embed_both_heads_term', 'embed_head_1_term']\n"
          ]
        }
      ]
    },
    {
      "cell_type": "code",
      "source": [
        "h1_contrib = einops.einsum(\n",
        "    h1_stack, logit_dirs,\n",
        "    \"... batch d_model, batch d_model -> ...\"\n",
        ") / h1_stack.shape[1]\n",
        "\n",
        "bar(\n",
        "    h1_contrib,\n",
        "    title=\"Decomposed 1_attn_out contribution to correct logit dirs\",\n",
        "    xaxis=\"component\", yaxis=\"Contribution\",\n",
        "    x=labels\n",
        ")"
      ],
      "metadata": {
        "colab": {
          "base_uri": "https://localhost:8080/",
          "height": 542
        },
        "id": "T_kqV73LWEE2",
        "outputId": "65dd90fb-1fc0-4b17-a0fd-be5bf318085b"
      },
      "execution_count": 45,
      "outputs": [
        {
          "output_type": "display_data",
          "data": {
            "text/html": [
              "<html>\n",
              "<head><meta charset=\"utf-8\" /></head>\n",
              "<body>\n",
              "    <div>            <script src=\"https://cdnjs.cloudflare.com/ajax/libs/mathjax/2.7.5/MathJax.js?config=TeX-AMS-MML_SVG\"></script><script type=\"text/javascript\">if (window.MathJax && window.MathJax.Hub && window.MathJax.Hub.Config) {window.MathJax.Hub.Config({SVG: {font: \"STIX-Web\"}});}</script>                <script type=\"text/javascript\">window.PlotlyConfig = {MathJaxConfig: 'local'};</script>\n",
              "        <script charset=\"utf-8\" src=\"https://cdn.plot.ly/plotly-2.24.1.min.js\"></script>                <div id=\"a05a0078-4d0c-4fca-a07e-73d1009ada53\" class=\"plotly-graph-div\" style=\"height:525px; width:100%;\"></div>            <script type=\"text/javascript\">                                    window.PLOTLYENV=window.PLOTLYENV || {};                                    if (document.getElementById(\"a05a0078-4d0c-4fca-a07e-73d1009ada53\")) {                    Plotly.newPlot(                        \"a05a0078-4d0c-4fca-a07e-73d1009ada53\",                        [{\"alignmentgroup\":\"True\",\"hovertemplate\":\"component=%{x}\\u003cbr\\u003eContribution=%{y}\\u003cextra\\u003e\\u003c\\u002fextra\\u003e\",\"legendgroup\":\"\",\"marker\":{\"color\":\"#1F77B4\",\"pattern\":{\"shape\":\"\"}},\"name\":\"\",\"offsetgroup\":\"\",\"orientation\":\"v\",\"showlegend\":false,\"textposition\":\"auto\",\"x\":[\"embed_both_heads_term\",\"embed_head_1_term\"],\"xaxis\":\"x\",\"y\":[12.672805786132812,8.043880462646484],\"yaxis\":\"y\",\"type\":\"bar\"}],                        {\"template\":{\"data\":{\"barpolar\":[{\"marker\":{\"line\":{\"color\":\"white\",\"width\":0.5},\"pattern\":{\"fillmode\":\"overlay\",\"size\":10,\"solidity\":0.2}},\"type\":\"barpolar\"}],\"bar\":[{\"error_x\":{\"color\":\"rgb(36,36,36)\"},\"error_y\":{\"color\":\"rgb(36,36,36)\"},\"marker\":{\"line\":{\"color\":\"white\",\"width\":0.5},\"pattern\":{\"fillmode\":\"overlay\",\"size\":10,\"solidity\":0.2}},\"type\":\"bar\"}],\"carpet\":[{\"aaxis\":{\"endlinecolor\":\"rgb(36,36,36)\",\"gridcolor\":\"white\",\"linecolor\":\"white\",\"minorgridcolor\":\"white\",\"startlinecolor\":\"rgb(36,36,36)\"},\"baxis\":{\"endlinecolor\":\"rgb(36,36,36)\",\"gridcolor\":\"white\",\"linecolor\":\"white\",\"minorgridcolor\":\"white\",\"startlinecolor\":\"rgb(36,36,36)\"},\"type\":\"carpet\"}],\"choropleth\":[{\"colorbar\":{\"outlinewidth\":1,\"tickcolor\":\"rgb(36,36,36)\",\"ticks\":\"outside\"},\"type\":\"choropleth\"}],\"contourcarpet\":[{\"colorbar\":{\"outlinewidth\":1,\"tickcolor\":\"rgb(36,36,36)\",\"ticks\":\"outside\"},\"type\":\"contourcarpet\"}],\"contour\":[{\"colorbar\":{\"outlinewidth\":1,\"tickcolor\":\"rgb(36,36,36)\",\"ticks\":\"outside\"},\"colorscale\":[[0.0,\"#440154\"],[0.1111111111111111,\"#482878\"],[0.2222222222222222,\"#3e4989\"],[0.3333333333333333,\"#31688e\"],[0.4444444444444444,\"#26828e\"],[0.5555555555555556,\"#1f9e89\"],[0.6666666666666666,\"#35b779\"],[0.7777777777777778,\"#6ece58\"],[0.8888888888888888,\"#b5de2b\"],[1.0,\"#fde725\"]],\"type\":\"contour\"}],\"heatmapgl\":[{\"colorbar\":{\"outlinewidth\":1,\"tickcolor\":\"rgb(36,36,36)\",\"ticks\":\"outside\"},\"colorscale\":[[0.0,\"#440154\"],[0.1111111111111111,\"#482878\"],[0.2222222222222222,\"#3e4989\"],[0.3333333333333333,\"#31688e\"],[0.4444444444444444,\"#26828e\"],[0.5555555555555556,\"#1f9e89\"],[0.6666666666666666,\"#35b779\"],[0.7777777777777778,\"#6ece58\"],[0.8888888888888888,\"#b5de2b\"],[1.0,\"#fde725\"]],\"type\":\"heatmapgl\"}],\"heatmap\":[{\"colorbar\":{\"outlinewidth\":1,\"tickcolor\":\"rgb(36,36,36)\",\"ticks\":\"outside\"},\"colorscale\":[[0.0,\"#440154\"],[0.1111111111111111,\"#482878\"],[0.2222222222222222,\"#3e4989\"],[0.3333333333333333,\"#31688e\"],[0.4444444444444444,\"#26828e\"],[0.5555555555555556,\"#1f9e89\"],[0.6666666666666666,\"#35b779\"],[0.7777777777777778,\"#6ece58\"],[0.8888888888888888,\"#b5de2b\"],[1.0,\"#fde725\"]],\"type\":\"heatmap\"}],\"histogram2dcontour\":[{\"colorbar\":{\"outlinewidth\":1,\"tickcolor\":\"rgb(36,36,36)\",\"ticks\":\"outside\"},\"colorscale\":[[0.0,\"#440154\"],[0.1111111111111111,\"#482878\"],[0.2222222222222222,\"#3e4989\"],[0.3333333333333333,\"#31688e\"],[0.4444444444444444,\"#26828e\"],[0.5555555555555556,\"#1f9e89\"],[0.6666666666666666,\"#35b779\"],[0.7777777777777778,\"#6ece58\"],[0.8888888888888888,\"#b5de2b\"],[1.0,\"#fde725\"]],\"type\":\"histogram2dcontour\"}],\"histogram2d\":[{\"colorbar\":{\"outlinewidth\":1,\"tickcolor\":\"rgb(36,36,36)\",\"ticks\":\"outside\"},\"colorscale\":[[0.0,\"#440154\"],[0.1111111111111111,\"#482878\"],[0.2222222222222222,\"#3e4989\"],[0.3333333333333333,\"#31688e\"],[0.4444444444444444,\"#26828e\"],[0.5555555555555556,\"#1f9e89\"],[0.6666666666666666,\"#35b779\"],[0.7777777777777778,\"#6ece58\"],[0.8888888888888888,\"#b5de2b\"],[1.0,\"#fde725\"]],\"type\":\"histogram2d\"}],\"histogram\":[{\"marker\":{\"line\":{\"color\":\"white\",\"width\":0.6}},\"type\":\"histogram\"}],\"mesh3d\":[{\"colorbar\":{\"outlinewidth\":1,\"tickcolor\":\"rgb(36,36,36)\",\"ticks\":\"outside\"},\"type\":\"mesh3d\"}],\"parcoords\":[{\"line\":{\"colorbar\":{\"outlinewidth\":1,\"tickcolor\":\"rgb(36,36,36)\",\"ticks\":\"outside\"}},\"type\":\"parcoords\"}],\"pie\":[{\"automargin\":true,\"type\":\"pie\"}],\"scatter3d\":[{\"line\":{\"colorbar\":{\"outlinewidth\":1,\"tickcolor\":\"rgb(36,36,36)\",\"ticks\":\"outside\"}},\"marker\":{\"colorbar\":{\"outlinewidth\":1,\"tickcolor\":\"rgb(36,36,36)\",\"ticks\":\"outside\"}},\"type\":\"scatter3d\"}],\"scattercarpet\":[{\"marker\":{\"colorbar\":{\"outlinewidth\":1,\"tickcolor\":\"rgb(36,36,36)\",\"ticks\":\"outside\"}},\"type\":\"scattercarpet\"}],\"scattergeo\":[{\"marker\":{\"colorbar\":{\"outlinewidth\":1,\"tickcolor\":\"rgb(36,36,36)\",\"ticks\":\"outside\"}},\"type\":\"scattergeo\"}],\"scattergl\":[{\"marker\":{\"colorbar\":{\"outlinewidth\":1,\"tickcolor\":\"rgb(36,36,36)\",\"ticks\":\"outside\"}},\"type\":\"scattergl\"}],\"scattermapbox\":[{\"marker\":{\"colorbar\":{\"outlinewidth\":1,\"tickcolor\":\"rgb(36,36,36)\",\"ticks\":\"outside\"}},\"type\":\"scattermapbox\"}],\"scatterpolargl\":[{\"marker\":{\"colorbar\":{\"outlinewidth\":1,\"tickcolor\":\"rgb(36,36,36)\",\"ticks\":\"outside\"}},\"type\":\"scatterpolargl\"}],\"scatterpolar\":[{\"marker\":{\"colorbar\":{\"outlinewidth\":1,\"tickcolor\":\"rgb(36,36,36)\",\"ticks\":\"outside\"}},\"type\":\"scatterpolar\"}],\"scatter\":[{\"fillpattern\":{\"fillmode\":\"overlay\",\"size\":10,\"solidity\":0.2},\"type\":\"scatter\"}],\"scatterternary\":[{\"marker\":{\"colorbar\":{\"outlinewidth\":1,\"tickcolor\":\"rgb(36,36,36)\",\"ticks\":\"outside\"}},\"type\":\"scatterternary\"}],\"surface\":[{\"colorbar\":{\"outlinewidth\":1,\"tickcolor\":\"rgb(36,36,36)\",\"ticks\":\"outside\"},\"colorscale\":[[0.0,\"#440154\"],[0.1111111111111111,\"#482878\"],[0.2222222222222222,\"#3e4989\"],[0.3333333333333333,\"#31688e\"],[0.4444444444444444,\"#26828e\"],[0.5555555555555556,\"#1f9e89\"],[0.6666666666666666,\"#35b779\"],[0.7777777777777778,\"#6ece58\"],[0.8888888888888888,\"#b5de2b\"],[1.0,\"#fde725\"]],\"type\":\"surface\"}],\"table\":[{\"cells\":{\"fill\":{\"color\":\"rgb(237,237,237)\"},\"line\":{\"color\":\"white\"}},\"header\":{\"fill\":{\"color\":\"rgb(217,217,217)\"},\"line\":{\"color\":\"white\"}},\"type\":\"table\"}]},\"layout\":{\"annotationdefaults\":{\"arrowhead\":0,\"arrowwidth\":1},\"autotypenumbers\":\"strict\",\"coloraxis\":{\"colorbar\":{\"outlinewidth\":1,\"tickcolor\":\"rgb(36,36,36)\",\"ticks\":\"outside\"}},\"colorscale\":{\"diverging\":[[0.0,\"rgb(103,0,31)\"],[0.1,\"rgb(178,24,43)\"],[0.2,\"rgb(214,96,77)\"],[0.3,\"rgb(244,165,130)\"],[0.4,\"rgb(253,219,199)\"],[0.5,\"rgb(247,247,247)\"],[0.6,\"rgb(209,229,240)\"],[0.7,\"rgb(146,197,222)\"],[0.8,\"rgb(67,147,195)\"],[0.9,\"rgb(33,102,172)\"],[1.0,\"rgb(5,48,97)\"]],\"sequential\":[[0.0,\"#440154\"],[0.1111111111111111,\"#482878\"],[0.2222222222222222,\"#3e4989\"],[0.3333333333333333,\"#31688e\"],[0.4444444444444444,\"#26828e\"],[0.5555555555555556,\"#1f9e89\"],[0.6666666666666666,\"#35b779\"],[0.7777777777777778,\"#6ece58\"],[0.8888888888888888,\"#b5de2b\"],[1.0,\"#fde725\"]],\"sequentialminus\":[[0.0,\"#440154\"],[0.1111111111111111,\"#482878\"],[0.2222222222222222,\"#3e4989\"],[0.3333333333333333,\"#31688e\"],[0.4444444444444444,\"#26828e\"],[0.5555555555555556,\"#1f9e89\"],[0.6666666666666666,\"#35b779\"],[0.7777777777777778,\"#6ece58\"],[0.8888888888888888,\"#b5de2b\"],[1.0,\"#fde725\"]]},\"colorway\":[\"#1F77B4\",\"#FF7F0E\",\"#2CA02C\",\"#D62728\",\"#9467BD\",\"#8C564B\",\"#E377C2\",\"#7F7F7F\",\"#BCBD22\",\"#17BECF\"],\"font\":{\"color\":\"rgb(36,36,36)\"},\"geo\":{\"bgcolor\":\"white\",\"lakecolor\":\"white\",\"landcolor\":\"white\",\"showlakes\":true,\"showland\":true,\"subunitcolor\":\"white\"},\"hoverlabel\":{\"align\":\"left\"},\"hovermode\":\"closest\",\"mapbox\":{\"style\":\"light\"},\"paper_bgcolor\":\"white\",\"plot_bgcolor\":\"white\",\"polar\":{\"angularaxis\":{\"gridcolor\":\"rgb(232,232,232)\",\"linecolor\":\"rgb(36,36,36)\",\"showgrid\":false,\"showline\":true,\"ticks\":\"outside\"},\"bgcolor\":\"white\",\"radialaxis\":{\"gridcolor\":\"rgb(232,232,232)\",\"linecolor\":\"rgb(36,36,36)\",\"showgrid\":false,\"showline\":true,\"ticks\":\"outside\"}},\"scene\":{\"xaxis\":{\"backgroundcolor\":\"white\",\"gridcolor\":\"rgb(232,232,232)\",\"gridwidth\":2,\"linecolor\":\"rgb(36,36,36)\",\"showbackground\":true,\"showgrid\":false,\"showline\":true,\"ticks\":\"outside\",\"zeroline\":false,\"zerolinecolor\":\"rgb(36,36,36)\"},\"yaxis\":{\"backgroundcolor\":\"white\",\"gridcolor\":\"rgb(232,232,232)\",\"gridwidth\":2,\"linecolor\":\"rgb(36,36,36)\",\"showbackground\":true,\"showgrid\":false,\"showline\":true,\"ticks\":\"outside\",\"zeroline\":false,\"zerolinecolor\":\"rgb(36,36,36)\"},\"zaxis\":{\"backgroundcolor\":\"white\",\"gridcolor\":\"rgb(232,232,232)\",\"gridwidth\":2,\"linecolor\":\"rgb(36,36,36)\",\"showbackground\":true,\"showgrid\":false,\"showline\":true,\"ticks\":\"outside\",\"zeroline\":false,\"zerolinecolor\":\"rgb(36,36,36)\"}},\"shapedefaults\":{\"fillcolor\":\"black\",\"line\":{\"width\":0},\"opacity\":0.3},\"ternary\":{\"aaxis\":{\"gridcolor\":\"rgb(232,232,232)\",\"linecolor\":\"rgb(36,36,36)\",\"showgrid\":false,\"showline\":true,\"ticks\":\"outside\"},\"baxis\":{\"gridcolor\":\"rgb(232,232,232)\",\"linecolor\":\"rgb(36,36,36)\",\"showgrid\":false,\"showline\":true,\"ticks\":\"outside\"},\"bgcolor\":\"white\",\"caxis\":{\"gridcolor\":\"rgb(232,232,232)\",\"linecolor\":\"rgb(36,36,36)\",\"showgrid\":false,\"showline\":true,\"ticks\":\"outside\"}},\"title\":{\"x\":0.05},\"xaxis\":{\"automargin\":true,\"gridcolor\":\"rgb(232,232,232)\",\"linecolor\":\"rgb(36,36,36)\",\"showgrid\":false,\"showline\":true,\"ticks\":\"outside\",\"title\":{\"standoff\":15},\"zeroline\":false,\"zerolinecolor\":\"rgb(36,36,36)\"},\"yaxis\":{\"automargin\":true,\"gridcolor\":\"rgb(232,232,232)\",\"linecolor\":\"rgb(36,36,36)\",\"showgrid\":false,\"showline\":true,\"ticks\":\"outside\",\"title\":{\"standoff\":15},\"zeroline\":false,\"zerolinecolor\":\"rgb(36,36,36)\"}}},\"xaxis\":{\"anchor\":\"y\",\"domain\":[0.0,1.0],\"title\":{\"text\":\"component\"}},\"yaxis\":{\"anchor\":\"x\",\"domain\":[0.0,1.0],\"title\":{\"text\":\"Contribution\"}},\"legend\":{\"tracegroupgap\":0},\"title\":{\"text\":\"Decomposed 1_attn_out contribution to correct logit dirs\"},\"barmode\":\"relative\"},                        {\"responsive\": true}                    ).then(function(){\n",
              "                            \n",
              "var gd = document.getElementById('a05a0078-4d0c-4fca-a07e-73d1009ada53');\n",
              "var x = new MutationObserver(function (mutations, observer) {{\n",
              "        var display = window.getComputedStyle(gd).display;\n",
              "        if (!display || display === 'none') {{\n",
              "            console.log([gd, 'removed!']);\n",
              "            Plotly.purge(gd);\n",
              "            observer.disconnect();\n",
              "        }}\n",
              "}});\n",
              "\n",
              "// Listen for the removal of the full notebook cells\n",
              "var notebookContainer = gd.closest('#notebook-container');\n",
              "if (notebookContainer) {{\n",
              "    x.observe(notebookContainer, {childList: true});\n",
              "}}\n",
              "\n",
              "// Listen for the clearing of the current output cell\n",
              "var outputEl = gd.closest('.output');\n",
              "if (outputEl) {{\n",
              "    x.observe(outputEl, {childList: true});\n",
              "}}\n",
              "\n",
              "                        })                };                            </script>        </div>\n",
              "</body>\n",
              "</html>"
            ]
          },
          "metadata": {}
        }
      ]
    },
    {
      "cell_type": "markdown",
      "source": [
        "Clearly the K-composition circuit doesn't explain the whole story, as the virtual attn head term is also very important. We already showed that 1.0 attends fully to the correct answer token, so this kind of implies that 0.0 also moves some intermediate information in L0 that is then relayed by L1. This is pretty confusing and seems unnecessary, since the K-composition should work fine, but I suppose it has enough residual stream bandwidth to use both.\n",
        "\n",
        "\n",
        "We can study this virtual attn head term, starting my staring at the virtual attn patterns:"
      ],
      "metadata": {
        "id": "yKatjWSV3dGb"
      }
    },
    {
      "cell_type": "markdown",
      "source": [
        "## Stare at Virtual attn patterns"
      ],
      "metadata": {
        "id": "szMB6Tft3oIU"
      }
    },
    {
      "cell_type": "code",
      "source": [
        "virtual_attn_pattern = einops.einsum(\n",
        "    cache['pattern', 1], cache['pattern', 0],\n",
        "    \"batch n_heads pos1 pos2, batch n_heads pos2 pos3 -> batch n_heads pos1 pos3\"\n",
        ")\n",
        "virtual_attn_pattern.shape"
      ],
      "metadata": {
        "colab": {
          "base_uri": "https://localhost:8080/"
        },
        "id": "gijpVzN0L-D1",
        "outputId": "36f0afe7-ae85-42cb-d2cd-3803ae1597e2"
      },
      "execution_count": 46,
      "outputs": [
        {
          "output_type": "execute_result",
          "data": {
            "text/plain": [
              "torch.Size([256, 1, 11, 11])"
            ]
          },
          "metadata": {},
          "execution_count": 46
        }
      ]
    },
    {
      "cell_type": "code",
      "source": [
        "labels = tokens_to_labels(test_sample[1])\n",
        "imshow(\n",
        "    virtual_attn_pattern[:, 0, :, :].mean(dim=0),\n",
        "    title=\"virtual attn pattern (avged over batch)\",\n",
        "    xaxis=\"src\", yaxis=\"dest\",\n",
        "    x=labels, y=labels\n",
        ")"
      ],
      "metadata": {
        "colab": {
          "base_uri": "https://localhost:8080/",
          "height": 542
        },
        "id": "sx8gjRUW4SmV",
        "outputId": "f691ce1b-ff1d-4c37-c5a6-bac3b18f7fd7"
      },
      "execution_count": 47,
      "outputs": [
        {
          "output_type": "display_data",
          "data": {
            "text/html": [
              "<html>\n",
              "<head><meta charset=\"utf-8\" /></head>\n",
              "<body>\n",
              "    <div>            <script src=\"https://cdnjs.cloudflare.com/ajax/libs/mathjax/2.7.5/MathJax.js?config=TeX-AMS-MML_SVG\"></script><script type=\"text/javascript\">if (window.MathJax && window.MathJax.Hub && window.MathJax.Hub.Config) {window.MathJax.Hub.Config({SVG: {font: \"STIX-Web\"}});}</script>                <script type=\"text/javascript\">window.PlotlyConfig = {MathJaxConfig: 'local'};</script>\n",
              "        <script charset=\"utf-8\" src=\"https://cdn.plot.ly/plotly-2.24.1.min.js\"></script>                <div id=\"1ada1ef4-7507-414c-ae21-ccf9747742fa\" class=\"plotly-graph-div\" style=\"height:525px; width:100%;\"></div>            <script type=\"text/javascript\">                                    window.PLOTLYENV=window.PLOTLYENV || {};                                    if (document.getElementById(\"1ada1ef4-7507-414c-ae21-ccf9747742fa\")) {                    Plotly.newPlot(                        \"1ada1ef4-7507-414c-ae21-ccf9747742fa\",                        [{\"coloraxis\":\"coloraxis\",\"name\":\"0\",\"x\":[\"BOS\",\"14_1\",\"26_2\",\"35_3\",\"nl_0\",\"1_5\",\"48_6\",\"nl_1\",\"14_8\",\"48_9\",\"35_10\"],\"y\":[\"BOS\",\"14_1\",\"26_2\",\"35_3\",\"nl_0\",\"1_5\",\"48_6\",\"nl_1\",\"14_8\",\"48_9\",\"35_10\"],\"z\":[[1.0,0.0,0.0,0.0,0.0,0.0,0.0,0.0,0.0,0.0,0.0],[0.8863937854766846,0.11360618472099304,0.0,0.0,0.0,0.0,0.0,0.0,0.0,0.0,0.0],[0.7295346260070801,0.1110338568687439,0.15943151712417603,0.0,0.0,0.0,0.0,0.0,0.0,0.0,0.0],[0.5748235583305359,0.11231275647878647,0.1245090439915657,0.18835461139678955,0.0,0.0,0.0,0.0,0.0,0.0,0.0],[0.5148264169692993,0.38947856426239014,0.07438774406909943,0.019732654094696045,0.0015746328281238675,0.0,0.0,0.0,0.0,0.0,0.0],[0.4153183698654175,0.1735621988773346,0.20875895023345947,0.1693403720855713,0.030242424458265305,0.0027776798233389854,0.0,0.0,0.0,0.0,0.0],[0.4054965376853943,0.14192605018615723,0.1502608209848404,0.12710043787956238,0.05750039592385292,0.08463996648788452,0.03307576850056648,0.0,0.0,0.0,0.0],[0.5453346967697144,0.4502390921115875,0.002697714138776064,0.0009313576156273484,0.0005735143786296248,0.00010633850615704432,0.00011648958025034517,7.718025472058798e-07,0.0,0.0,0.0],[0.001194071490317583,0.020792052149772644,0.02431054413318634,0.018047919496893883,0.0007803648477420211,0.6631468534469604,0.2717280983924866,1.2061072141023033e-08,1.496941948175845e-08,0.0,0.0],[0.35512667894363403,0.08054011315107346,0.09346866607666016,0.46777820587158203,0.0001585808931849897,0.0019895851146429777,0.0009364220313727856,6.612038419007149e-07,7.313618084481277e-07,3.7609515857184306e-07,0.0],[0.2476140409708023,0.09599361568689346,0.15664616227149963,0.12282358109951019,0.035036683082580566,0.16481927037239075,0.15218530595302582,0.005437895189970732,0.005748508498072624,0.006487907376140356,0.007207009941339493]],\"type\":\"heatmap\",\"xaxis\":\"x\",\"yaxis\":\"y\",\"hovertemplate\":\"src: %{x}\\u003cbr\\u003edest: %{y}\\u003cbr\\u003ecolor: %{z}\\u003cextra\\u003e\\u003c\\u002fextra\\u003e\"}],                        {\"template\":{\"data\":{\"histogram2dcontour\":[{\"type\":\"histogram2dcontour\",\"colorbar\":{\"outlinewidth\":0,\"ticks\":\"\"},\"colorscale\":[[0.0,\"#0d0887\"],[0.1111111111111111,\"#46039f\"],[0.2222222222222222,\"#7201a8\"],[0.3333333333333333,\"#9c179e\"],[0.4444444444444444,\"#bd3786\"],[0.5555555555555556,\"#d8576b\"],[0.6666666666666666,\"#ed7953\"],[0.7777777777777778,\"#fb9f3a\"],[0.8888888888888888,\"#fdca26\"],[1.0,\"#f0f921\"]]}],\"choropleth\":[{\"type\":\"choropleth\",\"colorbar\":{\"outlinewidth\":0,\"ticks\":\"\"}}],\"histogram2d\":[{\"type\":\"histogram2d\",\"colorbar\":{\"outlinewidth\":0,\"ticks\":\"\"},\"colorscale\":[[0.0,\"#0d0887\"],[0.1111111111111111,\"#46039f\"],[0.2222222222222222,\"#7201a8\"],[0.3333333333333333,\"#9c179e\"],[0.4444444444444444,\"#bd3786\"],[0.5555555555555556,\"#d8576b\"],[0.6666666666666666,\"#ed7953\"],[0.7777777777777778,\"#fb9f3a\"],[0.8888888888888888,\"#fdca26\"],[1.0,\"#f0f921\"]]}],\"heatmap\":[{\"type\":\"heatmap\",\"colorbar\":{\"outlinewidth\":0,\"ticks\":\"\"},\"colorscale\":[[0.0,\"#0d0887\"],[0.1111111111111111,\"#46039f\"],[0.2222222222222222,\"#7201a8\"],[0.3333333333333333,\"#9c179e\"],[0.4444444444444444,\"#bd3786\"],[0.5555555555555556,\"#d8576b\"],[0.6666666666666666,\"#ed7953\"],[0.7777777777777778,\"#fb9f3a\"],[0.8888888888888888,\"#fdca26\"],[1.0,\"#f0f921\"]]}],\"heatmapgl\":[{\"type\":\"heatmapgl\",\"colorbar\":{\"outlinewidth\":0,\"ticks\":\"\"},\"colorscale\":[[0.0,\"#0d0887\"],[0.1111111111111111,\"#46039f\"],[0.2222222222222222,\"#7201a8\"],[0.3333333333333333,\"#9c179e\"],[0.4444444444444444,\"#bd3786\"],[0.5555555555555556,\"#d8576b\"],[0.6666666666666666,\"#ed7953\"],[0.7777777777777778,\"#fb9f3a\"],[0.8888888888888888,\"#fdca26\"],[1.0,\"#f0f921\"]]}],\"contourcarpet\":[{\"type\":\"contourcarpet\",\"colorbar\":{\"outlinewidth\":0,\"ticks\":\"\"}}],\"contour\":[{\"type\":\"contour\",\"colorbar\":{\"outlinewidth\":0,\"ticks\":\"\"},\"colorscale\":[[0.0,\"#0d0887\"],[0.1111111111111111,\"#46039f\"],[0.2222222222222222,\"#7201a8\"],[0.3333333333333333,\"#9c179e\"],[0.4444444444444444,\"#bd3786\"],[0.5555555555555556,\"#d8576b\"],[0.6666666666666666,\"#ed7953\"],[0.7777777777777778,\"#fb9f3a\"],[0.8888888888888888,\"#fdca26\"],[1.0,\"#f0f921\"]]}],\"surface\":[{\"type\":\"surface\",\"colorbar\":{\"outlinewidth\":0,\"ticks\":\"\"},\"colorscale\":[[0.0,\"#0d0887\"],[0.1111111111111111,\"#46039f\"],[0.2222222222222222,\"#7201a8\"],[0.3333333333333333,\"#9c179e\"],[0.4444444444444444,\"#bd3786\"],[0.5555555555555556,\"#d8576b\"],[0.6666666666666666,\"#ed7953\"],[0.7777777777777778,\"#fb9f3a\"],[0.8888888888888888,\"#fdca26\"],[1.0,\"#f0f921\"]]}],\"mesh3d\":[{\"type\":\"mesh3d\",\"colorbar\":{\"outlinewidth\":0,\"ticks\":\"\"}}],\"scatter\":[{\"fillpattern\":{\"fillmode\":\"overlay\",\"size\":10,\"solidity\":0.2},\"type\":\"scatter\"}],\"parcoords\":[{\"type\":\"parcoords\",\"line\":{\"colorbar\":{\"outlinewidth\":0,\"ticks\":\"\"}}}],\"scatterpolargl\":[{\"type\":\"scatterpolargl\",\"marker\":{\"colorbar\":{\"outlinewidth\":0,\"ticks\":\"\"}}}],\"bar\":[{\"error_x\":{\"color\":\"#2a3f5f\"},\"error_y\":{\"color\":\"#2a3f5f\"},\"marker\":{\"line\":{\"color\":\"#E5ECF6\",\"width\":0.5},\"pattern\":{\"fillmode\":\"overlay\",\"size\":10,\"solidity\":0.2}},\"type\":\"bar\"}],\"scattergeo\":[{\"type\":\"scattergeo\",\"marker\":{\"colorbar\":{\"outlinewidth\":0,\"ticks\":\"\"}}}],\"scatterpolar\":[{\"type\":\"scatterpolar\",\"marker\":{\"colorbar\":{\"outlinewidth\":0,\"ticks\":\"\"}}}],\"histogram\":[{\"marker\":{\"pattern\":{\"fillmode\":\"overlay\",\"size\":10,\"solidity\":0.2}},\"type\":\"histogram\"}],\"scattergl\":[{\"type\":\"scattergl\",\"marker\":{\"colorbar\":{\"outlinewidth\":0,\"ticks\":\"\"}}}],\"scatter3d\":[{\"type\":\"scatter3d\",\"line\":{\"colorbar\":{\"outlinewidth\":0,\"ticks\":\"\"}},\"marker\":{\"colorbar\":{\"outlinewidth\":0,\"ticks\":\"\"}}}],\"scattermapbox\":[{\"type\":\"scattermapbox\",\"marker\":{\"colorbar\":{\"outlinewidth\":0,\"ticks\":\"\"}}}],\"scatterternary\":[{\"type\":\"scatterternary\",\"marker\":{\"colorbar\":{\"outlinewidth\":0,\"ticks\":\"\"}}}],\"scattercarpet\":[{\"type\":\"scattercarpet\",\"marker\":{\"colorbar\":{\"outlinewidth\":0,\"ticks\":\"\"}}}],\"carpet\":[{\"aaxis\":{\"endlinecolor\":\"#2a3f5f\",\"gridcolor\":\"white\",\"linecolor\":\"white\",\"minorgridcolor\":\"white\",\"startlinecolor\":\"#2a3f5f\"},\"baxis\":{\"endlinecolor\":\"#2a3f5f\",\"gridcolor\":\"white\",\"linecolor\":\"white\",\"minorgridcolor\":\"white\",\"startlinecolor\":\"#2a3f5f\"},\"type\":\"carpet\"}],\"table\":[{\"cells\":{\"fill\":{\"color\":\"#EBF0F8\"},\"line\":{\"color\":\"white\"}},\"header\":{\"fill\":{\"color\":\"#C8D4E3\"},\"line\":{\"color\":\"white\"}},\"type\":\"table\"}],\"barpolar\":[{\"marker\":{\"line\":{\"color\":\"#E5ECF6\",\"width\":0.5},\"pattern\":{\"fillmode\":\"overlay\",\"size\":10,\"solidity\":0.2}},\"type\":\"barpolar\"}],\"pie\":[{\"automargin\":true,\"type\":\"pie\"}]},\"layout\":{\"autotypenumbers\":\"strict\",\"colorway\":[\"#636efa\",\"#EF553B\",\"#00cc96\",\"#ab63fa\",\"#FFA15A\",\"#19d3f3\",\"#FF6692\",\"#B6E880\",\"#FF97FF\",\"#FECB52\"],\"font\":{\"color\":\"#2a3f5f\"},\"hovermode\":\"closest\",\"hoverlabel\":{\"align\":\"left\"},\"paper_bgcolor\":\"white\",\"plot_bgcolor\":\"#E5ECF6\",\"polar\":{\"bgcolor\":\"#E5ECF6\",\"angularaxis\":{\"gridcolor\":\"white\",\"linecolor\":\"white\",\"ticks\":\"\"},\"radialaxis\":{\"gridcolor\":\"white\",\"linecolor\":\"white\",\"ticks\":\"\"}},\"ternary\":{\"bgcolor\":\"#E5ECF6\",\"aaxis\":{\"gridcolor\":\"white\",\"linecolor\":\"white\",\"ticks\":\"\"},\"baxis\":{\"gridcolor\":\"white\",\"linecolor\":\"white\",\"ticks\":\"\"},\"caxis\":{\"gridcolor\":\"white\",\"linecolor\":\"white\",\"ticks\":\"\"}},\"coloraxis\":{\"colorbar\":{\"outlinewidth\":0,\"ticks\":\"\"}},\"colorscale\":{\"sequential\":[[0.0,\"#0d0887\"],[0.1111111111111111,\"#46039f\"],[0.2222222222222222,\"#7201a8\"],[0.3333333333333333,\"#9c179e\"],[0.4444444444444444,\"#bd3786\"],[0.5555555555555556,\"#d8576b\"],[0.6666666666666666,\"#ed7953\"],[0.7777777777777778,\"#fb9f3a\"],[0.8888888888888888,\"#fdca26\"],[1.0,\"#f0f921\"]],\"sequentialminus\":[[0.0,\"#0d0887\"],[0.1111111111111111,\"#46039f\"],[0.2222222222222222,\"#7201a8\"],[0.3333333333333333,\"#9c179e\"],[0.4444444444444444,\"#bd3786\"],[0.5555555555555556,\"#d8576b\"],[0.6666666666666666,\"#ed7953\"],[0.7777777777777778,\"#fb9f3a\"],[0.8888888888888888,\"#fdca26\"],[1.0,\"#f0f921\"]],\"diverging\":[[0,\"#8e0152\"],[0.1,\"#c51b7d\"],[0.2,\"#de77ae\"],[0.3,\"#f1b6da\"],[0.4,\"#fde0ef\"],[0.5,\"#f7f7f7\"],[0.6,\"#e6f5d0\"],[0.7,\"#b8e186\"],[0.8,\"#7fbc41\"],[0.9,\"#4d9221\"],[1,\"#276419\"]]},\"xaxis\":{\"gridcolor\":\"white\",\"linecolor\":\"white\",\"ticks\":\"\",\"title\":{\"standoff\":15},\"zerolinecolor\":\"white\",\"automargin\":true,\"zerolinewidth\":2},\"yaxis\":{\"gridcolor\":\"white\",\"linecolor\":\"white\",\"ticks\":\"\",\"title\":{\"standoff\":15},\"zerolinecolor\":\"white\",\"automargin\":true,\"zerolinewidth\":2},\"scene\":{\"xaxis\":{\"backgroundcolor\":\"#E5ECF6\",\"gridcolor\":\"white\",\"linecolor\":\"white\",\"showbackground\":true,\"ticks\":\"\",\"zerolinecolor\":\"white\",\"gridwidth\":2},\"yaxis\":{\"backgroundcolor\":\"#E5ECF6\",\"gridcolor\":\"white\",\"linecolor\":\"white\",\"showbackground\":true,\"ticks\":\"\",\"zerolinecolor\":\"white\",\"gridwidth\":2},\"zaxis\":{\"backgroundcolor\":\"#E5ECF6\",\"gridcolor\":\"white\",\"linecolor\":\"white\",\"showbackground\":true,\"ticks\":\"\",\"zerolinecolor\":\"white\",\"gridwidth\":2}},\"shapedefaults\":{\"line\":{\"color\":\"#2a3f5f\"}},\"annotationdefaults\":{\"arrowcolor\":\"#2a3f5f\",\"arrowhead\":0,\"arrowwidth\":1},\"geo\":{\"bgcolor\":\"white\",\"landcolor\":\"#E5ECF6\",\"subunitcolor\":\"white\",\"showland\":true,\"showlakes\":true,\"lakecolor\":\"white\"},\"title\":{\"x\":0.05},\"mapbox\":{\"style\":\"light\"}}},\"xaxis\":{\"anchor\":\"y\",\"domain\":[0.0,1.0],\"scaleanchor\":\"y\",\"constrain\":\"domain\",\"title\":{\"text\":\"src\"}},\"yaxis\":{\"anchor\":\"x\",\"domain\":[0.0,1.0],\"autorange\":\"reversed\",\"constrain\":\"domain\",\"title\":{\"text\":\"dest\"}},\"coloraxis\":{\"colorscale\":[[0.0,\"rgb(103,0,31)\"],[0.1,\"rgb(178,24,43)\"],[0.2,\"rgb(214,96,77)\"],[0.3,\"rgb(244,165,130)\"],[0.4,\"rgb(253,219,199)\"],[0.5,\"rgb(247,247,247)\"],[0.6,\"rgb(209,229,240)\"],[0.7,\"rgb(146,197,222)\"],[0.8,\"rgb(67,147,195)\"],[0.9,\"rgb(33,102,172)\"],[1.0,\"rgb(5,48,97)\"]],\"cmid\":0.0},\"title\":{\"text\":\"virtual attn pattern (avged over batch)\"}},                        {\"responsive\": true}                    ).then(function(){\n",
              "                            \n",
              "var gd = document.getElementById('1ada1ef4-7507-414c-ae21-ccf9747742fa');\n",
              "var x = new MutationObserver(function (mutations, observer) {{\n",
              "        var display = window.getComputedStyle(gd).display;\n",
              "        if (!display || display === 'none') {{\n",
              "            console.log([gd, 'removed!']);\n",
              "            Plotly.purge(gd);\n",
              "            observer.disconnect();\n",
              "        }}\n",
              "}});\n",
              "\n",
              "// Listen for the removal of the full notebook cells\n",
              "var notebookContainer = gd.closest('#notebook-container');\n",
              "if (notebookContainer) {{\n",
              "    x.observe(notebookContainer, {childList: true});\n",
              "}}\n",
              "\n",
              "// Listen for the clearing of the current output cell\n",
              "var outputEl = gd.closest('.output');\n",
              "if (outputEl) {{\n",
              "    x.observe(outputEl, {childList: true});\n",
              "}}\n",
              "\n",
              "                        })                };                            </script>        </div>\n",
              "</body>\n",
              "</html>"
            ]
          },
          "metadata": {}
        }
      ]
    },
    {
      "cell_type": "markdown",
      "source": [
        "It appears that the virtual attn head also attends to the correct answer, although not fully like 1.0. A natural hypothesis is that the virtual OV circuit also just copies:"
      ],
      "metadata": {
        "id": "sqAlpYAh46Sj"
      }
    },
    {
      "cell_type": "markdown",
      "source": [
        "## Virtual OV circuit"
      ],
      "metadata": {
        "id": "YMC1Sb_s4-7h"
      }
    },
    {
      "cell_type": "code",
      "source": [
        "virtual_OV_circuit = W_E @ model.OV[0,0].AB @ model.OV[1,0].AB @ W_U\n",
        "print(virtual_OV_circuit.shape)"
      ],
      "metadata": {
        "colab": {
          "base_uri": "https://localhost:8080/"
        },
        "id": "HFys_Z864bzG",
        "outputId": "67a67cd7-b70a-4ce2-b9ed-69d5d3b262d6"
      },
      "execution_count": 48,
      "outputs": [
        {
          "output_type": "stream",
          "name": "stdout",
          "text": [
            "torch.Size([52, 50])\n"
          ]
        }
      ]
    },
    {
      "cell_type": "code",
      "source": [
        "imshow(\n",
        "    virtual_OV_circuit,\n",
        "    title=\"virtual OV circuit W_E @ W_OV^0.0 @ W_OV^1.0 @ W_U\",\n",
        "    xaxis=\"logit\", yaxis=\"src token\"\n",
        ")"
      ],
      "metadata": {
        "colab": {
          "base_uri": "https://localhost:8080/",
          "height": 542
        },
        "id": "6QR1U-pY5MfG",
        "outputId": "098df004-a9dc-4e51-a014-54cc383ecf20"
      },
      "execution_count": 49,
      "outputs": [
        {
          "output_type": "display_data",
          "data": {
            "text/html": [
              "<html>\n",
              "<head><meta charset=\"utf-8\" /></head>\n",
              "<body>\n",
              "    <div>            <script src=\"https://cdnjs.cloudflare.com/ajax/libs/mathjax/2.7.5/MathJax.js?config=TeX-AMS-MML_SVG\"></script><script type=\"text/javascript\">if (window.MathJax && window.MathJax.Hub && window.MathJax.Hub.Config) {window.MathJax.Hub.Config({SVG: {font: \"STIX-Web\"}});}</script>                <script type=\"text/javascript\">window.PlotlyConfig = {MathJaxConfig: 'local'};</script>\n",
              "        <script charset=\"utf-8\" src=\"https://cdn.plot.ly/plotly-2.24.1.min.js\"></script>                <div id=\"3f8a74f8-d240-40e4-baab-8ea5c450c6d5\" class=\"plotly-graph-div\" style=\"height:525px; width:100%;\"></div>            <script type=\"text/javascript\">                                    window.PLOTLYENV=window.PLOTLYENV || {};                                    if (document.getElementById(\"3f8a74f8-d240-40e4-baab-8ea5c450c6d5\")) {                    Plotly.newPlot(                        \"3f8a74f8-d240-40e4-baab-8ea5c450c6d5\",                        [{\"coloraxis\":\"coloraxis\",\"name\":\"0\",\"z\":[[4.562268257141113,3.366565227508545,0.40771353244781494,-2.0941224098205566,-0.9660158157348633,2.243295431137085,-0.4916307032108307,2.306450605392456,-4.2059326171875,0.5497015714645386,1.3024141788482666,1.3309530019760132,1.4688720703125,0.28244125843048096,-1.9028253555297852,-0.45790570974349976,-1.2584280967712402,0.3551025986671448,1.759615421295166,0.29815536737442017,-2.0899689197540283,-1.1232131719589233,-0.37718936800956726,0.44563812017440796,-0.7908471822738647,-1.8949732780456543,-1.4462255239486694,0.4984857439994812,-2.8657679557800293,-0.1916424036026001,0.4691562056541443,-2.4964113235473633,-1.9358506202697754,-1.4702668190002441,-1.4600995779037476,-2.2444684505462646,-0.9929622411727905,0.3019171953201294,0.30695733428001404,-0.23008379340171814,0.07706117630004883,2.234912633895874,0.41583454608917236,-2.1135435104370117,1.0756852626800537,-1.2219338417053223,-1.3034931421279907,0.573817789554596,0.7144372463226318,-0.8407330513000488],[1.277593731880188,3.7446179389953613,4.195701599121094,-0.12731260061264038,-1.177543044090271,1.1928253173828125,-0.6809214353561401,-1.9511784315109253,0.29671645164489746,-0.7509328126907349,0.7411996126174927,1.5102527141571045,-1.6887035369873047,-0.6791691780090332,1.1983052492141724,0.05992652475833893,1.262821912765503,1.6829884052276611,1.1787420511245728,1.4849495887756348,1.1009143590927124,-0.5942527055740356,0.8819001317024231,0.8731234073638916,-0.353747695684433,-1.2779854536056519,1.5809179544448853,0.14014717936515808,-1.3017759323120117,2.450745105743408,-0.6971238851547241,2.8328857421875,-0.22005727887153625,-0.3733944594860077,0.05993121862411499,-1.5721688270568848,-0.24395334720611572,0.5522750616073608,-0.4922425150871277,-1.0179197788238525,2.941213846206665,1.427825927734375,-0.3823707699775696,-2.106247901916504,1.7093175649642944,-1.2754392623901367,-0.26127898693084717,0.4302676320075989,0.017054252326488495,1.3367712497711182],[1.5236458778381348,1.7396827936172485,5.705479621887207,0.5386763215065002,0.9099665284156799,0.6490726470947266,-2.7843310832977295,-2.2327427864074707,0.1450328826904297,0.7381883859634399,2.4246411323547363,0.27847957611083984,1.9426288604736328,0.8645087480545044,1.8129878044128418,2.382046699523926,3.8686115741729736,0.5658895969390869,-0.5914108753204346,1.5689959526062012,-0.28276312351226807,-0.56562340259552,-0.45786505937576294,-0.3473067283630371,1.3250175714492798,-1.566922903060913,0.5283625721931458,-2.7718660831451416,1.6694602966308594,1.138993501663208,-3.5867180824279785,3.0515453815460205,-1.3160258531570435,-2.7277708053588867,-0.4679175615310669,-2.1888387203216553,1.2956135272979736,-2.076646327972412,-0.215667724609375,-2.4952354431152344,-0.06901109218597412,0.7564513683319092,0.7909412384033203,-2.5054774284362793,1.8181277513504028,0.3199496865272522,-1.3716082572937012,0.887744665145874,0.373710036277771,0.794478714466095],[6.908920764923096,3.2627501487731934,-3.7930703163146973,24.558738708496094,-4.174924373626709,-1.6325197219848633,-5.868999481201172,-12.217469215393066,-7.038679122924805,4.958625316619873,-14.030280113220215,-4.36002254486084,-3.163442373275757,0.7629212737083435,4.267616271972656,-9.053884506225586,6.17022705078125,4.7197346687316895,3.9926044940948486,5.7395429611206055,-6.325026035308838,-7.583672046661377,-4.83036470413208,-15.055171966552734,-3.2681972980499268,1.409584879875183,-16.24158477783203,6.84686279296875,4.635342121124268,-4.703183174133301,0.31364142894744873,2.062121868133545,5.018886566162109,-11.54826545715332,6.650576591491699,1.6147985458374023,-5.2501373291015625,-2.948758602142334,4.206935882568359,3.831361770629883,-9.79479694366455,2.675050973892212,2.4822752475738525,4.896838665008545,-1.9581623077392578,-1.688456416130066,-4.303384304046631,-6.821478366851807,-3.2973403930664062,0.9229331016540527],[5.723383903503418,-5.526930809020996,-4.1609086990356445,-2.809121608734131,29.74355125427246,-8.236896514892578,-2.2574262619018555,3.9059391021728516,4.412715911865234,-0.9594382643699646,6.0041608810424805,8.648348808288574,2.342866897583008,6.144044399261475,6.794336318969727,4.611496448516846,-9.515544891357422,5.619989395141602,-9.01292610168457,8.333784103393555,10.59235954284668,-14.944293975830078,11.337674140930176,9.59642219543457,11.581245422363281,-5.671782493591309,-0.7579753398895264,-10.913186073303223,5.930585861206055,-11.003854751586914,7.890615463256836,3.5842325687408447,4.235012531280518,3.391294002532959,-2.317145347595215,4.047823429107666,-9.264930725097656,-13.99249267578125,-7.156637191772461,-6.141266345977783,1.8676661252975464,3.0307517051696777,-1.5022432804107666,5.147043228149414,-1.8886995315551758,2.483271598815918,6.560523986816406,-6.536375999450684,6.06411075592041,5.703327655792236],[4.837477684020996,5.144659996032715,0.9992361068725586,-0.3732384443283081,-8.850485801696777,25.194440841674805,-4.165306568145752,9.999589920043945,-11.020891189575195,-2.7352795600891113,-3.611159086227417,-8.022420883178711,7.631084442138672,3.4439828395843506,-11.704170227050781,-7.617933750152588,5.214639186859131,2.0635318756103516,3.9663193225860596,0.2398199439048767,-20.59255027770996,-6.02911376953125,5.808341026306152,-4.447567939758301,-5.91494607925415,-1.3690534830093384,7.4624128341674805,7.706177234649658,8.17635726928711,-9.227208137512207,-7.818548202514648,-6.394829750061035,-8.327447891235352,-2.9625468254089355,-17.87037467956543,-2.5119993686676025,4.378941535949707,0.20298397541046143,-2.76745867729187,8.441726684570312,-7.508869171142578,-1.4396543502807617,6.706968307495117,5.671932220458984,0.007192552089691162,4.937010288238525,-11.131964683532715,6.840843677520752,-3.8985934257507324,-11.828346252441406],[-5.234429359436035,-7.34197998046875,-4.5990309715271,-1.6448638439178467,-1.9118530750274658,-2.939610242843628,31.939380645751953,-3.5792341232299805,11.197237968444824,8.099328994750977,-4.415166854858398,0.5026935338973999,-2.708679437637329,-11.292253494262695,7.731014251708984,-11.230164527893066,-1.130845069885254,2.628866672515869,3.2052738666534424,5.026203632354736,-4.651815414428711,9.712869644165039,5.894611358642578,6.147822856903076,11.157367706298828,3.3534255027770996,9.39112663269043,10.97564697265625,6.119180679321289,1.2080745697021484,4.897760391235352,-5.943502902984619,2.392761468887329,16.008384704589844,0.29665517807006836,-5.656859397888184,-7.284430503845215,4.331905364990234,-3.538351535797119,14.559281349182129,-4.196108341217041,-24.411584854125977,1.457054853439331,-5.279519081115723,-1.595286250114441,-8.012770652770996,0.9727259278297424,0.9785095453262329,1.3573654890060425,-2.977428674697876],[-0.6915261745452881,-4.108700752258301,-12.949634552001953,-10.627262115478516,4.904745101928711,8.82473373413086,-1.3442717790603638,31.022930145263672,0.10067486763000488,-9.265256881713867,1.7360180616378784,-10.27495288848877,-1.6630067825317383,7.090015411376953,-13.770745277404785,-2.0297749042510986,-3.191115140914917,0.9823441505432129,-2.5935449600219727,-6.879029750823975,-1.221994400024414,-1.9477951526641846,6.845942497253418,3.581223487854004,-5.739908695220947,7.750584602355957,11.286018371582031,1.632333517074585,-0.2970241904258728,-5.4207634925842285,0.23827600479125977,-6.3648247718811035,-10.424776077270508,3.8257083892822266,-15.396903991699219,11.015546798706055,11.223630905151367,-1.4563210010528564,5.855388641357422,6.586548328399658,9.334799766540527,-0.7212526798248291,5.760824203491211,11.168582916259766,2.606398582458496,-2.301422119140625,3.43198299407959,4.874824047088623,4.808456897735596,-0.03337132930755615],[-8.777607917785645,-3.6244451999664307,-0.2781336307525635,-0.3143033981323242,7.258856773376465,-6.428219795227051,6.931990146636963,-2.3838720321655273,29.378292083740234,-0.6037288308143616,1.87155282497406,-13.200704574584961,1.8845019340515137,0.9162722229957581,8.642950057983398,-0.6711044907569885,4.252077579498291,9.43173885345459,-15.836917877197266,1.6985803842544556,5.4410200119018555,9.950173377990723,0.9209984540939331,2.5249459743499756,4.454537391662598,13.1506986618042,4.098901748657227,3.589395523071289,13.678304672241211,-3.317379951477051,2.4250950813293457,8.153176307678223,-1.1906837224960327,0.9182918667793274,10.966676712036133,8.484968185424805,4.167016983032227,-10.109090805053711,4.462294578552246,4.403326511383057,5.0198869705200195,-14.184433937072754,-11.977033615112305,-5.04626989364624,-0.8331217169761658,-3.7953004837036133,-0.3685826063156128,4.010370254516602,2.998161792755127,13.801721572875977],[4.0584564208984375,1.7501201629638672,-8.562807083129883,6.188501358032227,-8.280660629272461,-5.028151512145996,4.190155982971191,-10.39802074432373,-10.376203536987305,25.0546817779541,3.371913433074951,5.216541290283203,0.5736200213432312,-10.30400276184082,5.849019527435303,7.800189018249512,-0.041004180908203125,-5.639488220214844,9.093521118164062,-11.084114074707031,-13.602420806884766,6.400773525238037,-11.05650806427002,1.6859347820281982,6.7230706214904785,-13.973506927490234,-9.121442794799805,-12.237760543823242,-1.7214477062225342,-3.1315062046051025,-4.028992652893066,3.997586488723755,-0.4222719967365265,4.883077144622803,-0.03571498394012451,-9.13591480255127,-14.51064682006836,9.262266159057617,-0.9128291606903076,5.419783115386963,-6.469254016876221,-2.486051082611084,1.204627513885498,-0.4397621154785156,-7.927697658538818,-2.520551919937134,9.023656845092773,6.13762092590332,-6.57309627532959,-6.851888656616211],[4.220848083496094,4.156239986419678,2.850334644317627,-7.959375381469727,7.411433219909668,-1.5461299419403076,0.21424958109855652,6.621716022491455,-1.3844693899154663,11.830720901489258,33.058815002441406,10.517160415649414,13.617081642150879,-4.014883041381836,-10.329216003417969,9.15810775756836,-3.49306321144104,8.8978853225708,-2.186230182647705,-8.715649604797363,4.746610164642334,10.044354438781738,1.0839450359344482,7.250672817230225,10.284464836120605,-20.221784591674805,1.6523520946502686,-14.713836669921875,-0.36969679594039917,-5.088296890258789,2.161087989807129,4.2180609703063965,-2.696995258331299,-2.4899837970733643,-8.918815612792969,12.625703811645508,6.451224327087402,0.08989721536636353,-3.8973779678344727,-16.170927047729492,1.6315714120864868,4.9540863037109375,6.746597766876221,-9.16550064086914,-9.703790664672852,-4.254657745361328,16.68170928955078,8.747714042663574,-6.5897698402404785,5.736956596374512],[0.48600268363952637,-5.223568916320801,6.4200849533081055,-2.638148069381714,7.358190059661865,-7.588909149169922,5.195134162902832,-8.924809455871582,-12.83340835571289,5.739052772521973,7.542247295379639,28.608932495117188,3.03336501121521,-6.494022369384766,3.159595489501953,3.1803083419799805,-14.279114723205566,-3.6098337173461914,4.087862491607666,4.211762428283691,9.997364044189453,-5.4239349365234375,9.755926132202148,5.361846923828125,11.838469505310059,-19.93083953857422,-3.6724166870117188,-7.068231582641602,-8.972879409790039,-1.0264025926589966,7.9573259353637695,-6.499060153961182,7.570778846740723,8.953237533569336,-1.1635466814041138,-11.37530517578125,-12.507302284240723,10.429169654846191,-12.3480806350708,-14.823555946350098,-3.387747287750244,8.358304977416992,6.209166049957275,-3.0125744342803955,3.663012742996216,5.038117408752441,9.27426528930664,-14.179289817810059,-3.4799270629882812,-11.9512357711792],[-3.711998224258423,-10.650630950927734,0.5736863613128662,-0.6372206211090088,4.531304359436035,2.3491787910461426,-1.6430432796478271,-1.8696274757385254,0.8119343519210815,0.5185078382492065,7.684685230255127,1.2970831394195557,21.53436851501465,5.264034271240234,-7.121219635009766,3.766662836074829,-6.896495819091797,-2.507986068725586,-11.298515319824219,-2.527367353439331,-0.9840114116668701,5.460303783416748,2.6446785926818848,-2.0703773498535156,8.34488296508789,-2.574265241622925,-1.4926376342773438,-0.9361447095870972,8.312051773071289,-10.883545875549316,2.0314760208129883,-8.896011352539062,-3.000925064086914,-2.8007936477661133,-1.4383978843688965,3.0804965496063232,5.666186332702637,-3.0957722663879395,-3.7966065406799316,-6.002375602722168,-10.563455581665039,-3.3890609741210938,-4.51943302154541,-2.6349105834960938,-4.352784156799316,7.5693206787109375,-2.9727652072906494,2.248025417327881,-0.3130490183830261,-5.801987648010254],[3.2120308876037598,-1.7320542335510254,-4.499053478240967,0.06710195541381836,10.406749725341797,3.026958465576172,-12.898937225341797,8.534261703491211,0.272189736366272,-11.026144981384277,-6.28676176071167,-9.801872253417969,4.035126209259033,26.496885299682617,1.0751383304595947,2.9279415607452393,-4.712878227233887,-11.676385879516602,-19.17416763305664,-0.6376290321350098,-0.677559494972229,-8.019916534423828,8.046088218688965,4.050987720489502,-12.379846572875977,13.959183692932129,3.004427433013916,-0.4638698697090149,5.373162269592285,-1.5613961219787598,-7.957248687744141,2.766439914703369,-2.709527015686035,-13.128002166748047,-1.247017741203308,4.972387790679932,3.354231119155884,-12.432540893554688,-10.653844833374023,1.5388548374176025,3.801571846008301,9.288354873657227,-7.482627868652344,6.691559791564941,7.098163604736328,14.500347137451172,-4.213677406311035,1.028275728225708,-1.4413872957229614,2.5749456882476807],[-3.6724724769592285,5.954099655151367,-3.332580089569092,3.215013027191162,4.663777828216553,-13.488954544067383,-0.17672199010849,-19.534034729003906,5.889651298522949,7.3331098556518555,-13.026609420776367,2.5682878494262695,-10.59638500213623,-2.471912384033203,27.42804527282715,6.429083347320557,-1.0072623491287231,-10.588397026062012,-2.545400619506836,-0.27988648414611816,-2.403965711593628,-3.3493852615356445,-3.7088935375213623,8.63102912902832,0.48352736234664917,4.63454008102417,-9.601004600524902,-9.037422180175781,0.9597496390342712,0.32793712615966797,-0.72015380859375,6.6625261306762695,5.114378929138184,8.110151290893555,12.925436973571777,-15.118555068969727,-24.337644577026367,-5.2624664306640625,-2.5404253005981445,6.788334846496582,3.1408512592315674,-2.7641453742980957,-13.884702682495117,-0.9390184879302979,1.5640573501586914,6.943939208984375,-2.5457682609558105,-3.3891983032226562,3.3766047954559326,2.0492725372314453],[-3.8480780124664307,-6.52131986618042,-4.739389419555664,-6.549458980560303,0.5762127637863159,-8.043695449829102,-18.78821563720703,-2.4221792221069336,-6.587209701538086,5.180060386657715,6.457580089569092,2.580019950866699,5.685624122619629,3.909895896911621,-0.8280256986618042,25.7540225982666,-2.286436080932617,-16.104068756103516,-3.4372615814208984,-15.223516464233398,0.8882486820220947,2.5055112838745117,-14.874458312988281,3.1550402641296387,4.002054691314697,-4.870205879211426,-3.7322940826416016,-23.88544464111328,-4.096817493438721,0.12047362327575684,-8.368415832519531,4.439785480499268,-5.994500160217285,-1.5045030117034912,2.8524703979492188,-6.754084587097168,-0.789842963218689,1.6143313646316528,1.0220762491226196,-5.709766387939453,-0.6830708980560303,10.825325012207031,-7.591672897338867,2.6891775131225586,-1.228661298751831,9.681060791015625,4.330861568450928,6.59130859375,3.1319429874420166,-5.9608588218688965],[5.691096305847168,3.2206344604492188,4.489391326904297,8.289559364318848,-9.380617141723633,8.666592597961426,-0.8622304201126099,0.5304173231124878,0.3999300003051758,1.6968188285827637,-5.783428192138672,-10.350420951843262,-4.958996772766113,0.10587155818939209,0.3845195770263672,0.2598724365234375,29.5628719329834,5.334957122802734,8.427428245544434,4.526115417480469,-14.657706260681152,-1.988105297088623,-6.51106071472168,-1.6865346431732178,6.919946670532227,10.599727630615234,12.147476196289062,-1.3372399806976318,7.862821578979492,8.755311965942383,-14.107551574707031,5.081935405731201,-17.164669036865234,-8.35207748413086,-2.442291259765625,-9.790395736694336,6.816165924072266,-8.358451843261719,8.91772747039795,14.727893829345703,-3.4756834506988525,-9.009994506835938,5.68950891494751,-1.8982919454574585,5.634731292724609,-6.896364212036133,-16.713457107543945,10.497339248657227,17.013530731201172,4.613652229309082],[6.37827730178833,3.7679054737091064,4.711430549621582,5.670472145080566,8.728534698486328,6.260404109954834,2.747122049331665,4.256195068359375,7.673888206481934,2.3524436950683594,9.648682594299316,-2.0117838382720947,3.772029161453247,-7.650505065917969,-5.124423503875732,-9.637031555175781,5.527324199676514,26.80291748046875,1.799875020980835,9.1232271194458,1.0464411973953247,-4.7149739265441895,7.0053582191467285,-6.709877967834473,7.897947311401367,-9.106809616088867,-0.6773560047149658,4.63712215423584,10.67255687713623,-13.38429069519043,7.522637367248535,4.80267333984375,0.09518933296203613,-1.9673537015914917,-6.7919816970825195,11.839957237243652,5.280740737915039,-6.680382251739502,6.044870853424072,-3.3712213039398193,-0.10114747285842896,-5.3824567794799805,7.148681640625,0.04929015040397644,-5.327674865722656,-12.877999305725098,3.6652145385742188,-1.7858858108520508,-0.30734705924987793,7.505311489105225],[4.489959716796875,2.2187342643737793,-2.200533866882324,-0.6423541307449341,-10.616767883300781,4.7625627517700195,-1.9409810304641724,2.3484134674072266,-20.129413604736328,2.6618800163269043,-3.6183135509490967,5.868048667907715,-6.765213489532471,-13.430938720703125,-7.756759166717529,0.26441001892089844,4.649943828582764,-0.8681550025939941,25.97292709350586,-3.367004156112671,-9.803082466125488,-6.167120933532715,-9.17257308959961,-3.8381266593933105,2.41337251663208,-11.43256950378418,-2.911763906478882,-5.284423351287842,-10.345487594604492,1.8573938608169556,2.820885181427002,-8.58973217010498,-4.37277364730835,7.741700172424316,-9.200936317443848,-10.096102714538574,-4.253050804138184,6.833579063415527,7.140817165374756,5.165438652038574,-2.9273014068603516,1.0943677425384521,8.880534172058105,6.095401287078857,-5.977353096008301,-6.927332878112793,-3.236401081085205,3.2220535278320312,8.798473358154297,-8.08876895904541],[8.43486213684082,0.34576141834259033,8.352799415588379,8.541831970214844,9.473154067993164,2.7362236976623535,5.721392631530762,-3.924898624420166,3.826174259185791,-4.17065954208374,-8.20086669921875,3.0776631832122803,-1.920252799987793,1.562042474746704,6.616991996765137,-11.013608932495117,6.516115665435791,9.573511123657227,-0.884536862373352,25.741561889648438,4.575644016265869,-14.304614067077637,6.702520370483398,-4.3207902908325195,11.154886245727539,4.613856792449951,2.6684811115264893,13.196659088134766,5.615202903747559,1.9610472917556763,-1.2972209453582764,1.2110283374786377,4.106738567352295,-5.188855171203613,5.19230318069458,-1.8538823127746582,-4.278141498565674,-5.123621940612793,1.3962063789367676,2.7196948528289795,-12.24116325378418,-1.425713300704956,9.633090019226074,-4.75149393081665,9.0496244430542,-4.368146896362305,-10.163673400878906,-14.932328224182129,4.291658878326416,1.775688648223877],[-7.343737602233887,-9.898918151855469,7.161281108856201,-3.5440194606781006,11.373115539550781,-15.81136417388916,-3.0934150218963623,-3.066861152648926,8.535822868347168,-10.846280097961426,6.492929458618164,12.264808654785156,1.861220359802246,2.5169577598571777,-0.451648473739624,2.5645129680633545,-15.765270233154297,1.7498736381530762,-12.729528427124023,5.392387866973877,30.904132843017578,1.1237764358520508,5.7145795822143555,-4.439358234405518,0.6250295639038086,-2.3548426628112793,-6.174919128417969,1.9991178512573242,-7.793810844421387,2.1663308143615723,10.354875564575195,1.040818214416504,13.11917495727539,-1.3527088165283203,11.626712799072266,10.04914379119873,7.811822414398193,5.44560432434082,-1.1823781728744507,-22.39274024963379,6.138951778411865,11.548506736755371,-2.0284721851348877,-3.5059571266174316,7.187938690185547,1.4460471868515015,12.835693359375,-18.303333282470703,-6.09432315826416,2.331427812576294],[-12.908241271972656,-5.667192459106445,-1.6535804271697998,-1.2266845703125,-15.607183456420898,-4.783658027648926,10.165746688842773,-5.485818386077881,9.416068077087402,6.29594612121582,7.270437240600586,-5.583220481872559,10.434952735900879,-6.387239933013916,-5.730254650115967,1.1549662351608276,-1.7989391088485718,-2.760735511779785,-4.526768207550049,-14.285053253173828,-0.7494593858718872,26.83823013305664,-8.37532901763916,-3.4579601287841797,-0.41639530658721924,2.8876588344573975,-2.115335464477539,4.090986251831055,-0.30457162857055664,1.7797000408172607,2.761747360229492,-5.72125244140625,-2.2518510818481445,1.148197889328003,7.728887557983398,5.553363800048828,10.260302543640137,8.719895362854004,4.942683696746826,-1.3007168769836426,-0.61976158618927,-11.630322456359863,-8.019001007080078,-9.251955032348633,-6.3477582931518555,-2.7818827629089355,3.640535831451416,8.912544250488281,-5.0834455490112305,0.5862776041030884],[-0.735702633857727,-3.744433879852295,0.21111512184143066,-3.6192617416381836,15.342546463012695,8.75566577911377,11.364924430847168,9.571237564086914,5.66920804977417,-6.415314674377441,-3.080281972885132,4.364927768707275,-1.2242729663848877,6.017988681793213,4.107492446899414,-11.921162605285645,-7.763910293579102,8.232851028442383,-9.50794792175293,9.590557098388672,-0.15991473197937012,-11.71627140045166,28.90462303161621,7.886621952056885,2.0400044918060303,0.21512329578399658,13.591766357421875,7.814544677734375,12.355749130249023,-12.643158912658691,4.277543067932129,-2.2572274208068848,0.3671983480453491,9.368335723876953,-14.207858085632324,-1.5607566833496094,-5.148139953613281,-5.103485584259033,-14.73764419555664,3.3749794960021973,6.586021423339844,-6.488445281982422,3.777371406555176,7.614143371582031,8.255762100219727,5.408512115478516,2.4676105976104736,-9.203328132629395,-2.107752561569214,-6.054523468017578],[2.7789833545684814,0.35355687141418457,-3.1416540145874023,-13.31760025024414,11.666090965270996,-5.994871139526367,9.606033325195312,2.23091983795166,0.7933111190795898,5.413802146911621,6.0015869140625,9.883878707885742,-3.4594764709472656,3.965104103088379,10.99637508392334,7.45521354675293,-4.792002201080322,-8.771394729614258,-1.1010639667510986,-3.888385534286499,-2.6429555416107178,-0.9701764583587646,7.495213985443115,25.595020294189453,5.679540634155273,-1.3022055625915527,9.573068618774414,-13.95466423034668,-5.235917568206787,6.074681758880615,2.0397796630859375,-0.1963348388671875,-6.163243293762207,10.28011703491211,-2.1558382511138916,-12.605119705200195,-14.666274070739746,-6.5131635665893555,-12.273326873779297,4.484159469604492,10.7845458984375,-3.93269681930542,-8.179224014282227,-2.3051154613494873,0.3166252374649048,2.7037675380706787,1.5399320125579834,8.562068939208984,11.246597290039062,6.171864986419678],[-2.9912781715393066,-11.930767059326172,0.7187866568565369,0.26622629165649414,6.290609359741211,-4.509653091430664,6.267102241516113,-0.9016433954238892,2.0203824043273926,6.419294357299805,5.625521659851074,8.946531295776367,6.138826370239258,-6.862548828125,0.5147367119789124,7.002476692199707,3.416152238845825,1.8864696025848389,1.2244726419448853,6.850098609924316,3.052886486053467,-0.4861304759979248,-1.775146245956421,0.3451750874519348,25.853118896484375,-4.9134416580200195,6.254325866699219,-5.409653663635254,6.163976669311523,-2.796146869659424,-1.805456280708313,-3.5516185760498047,-5.821781158447266,6.259819984436035,0.6383117437362671,-6.496078968048096,-2.730929374694824,2.1263680458068848,3.6993675231933594,1.0686835050582886,-13.422918319702148,-6.173041343688965,8.89710807800293,-4.338059425354004,3.3336453437805176,-1.9364992380142212,-0.6590793132781982,-6.15611457824707,9.163716316223145,-7.8916215896606445],[-7.860918998718262,-1.3847365379333496,-4.5507354736328125,2.4505767822265625,-7.397021293640137,0.45363640785217285,-1.005103349685669,1.3760080337524414,12.563922882080078,-13.544845581054688,-20.619050979614258,-19.69114875793457,-6.1533050537109375,12.833220481872559,5.896483898162842,-4.303244113922119,8.055044174194336,-11.032661437988281,-10.154561996459961,0.059217095375061035,-3.4278929233551025,4.275265693664551,-3.4965662956237793,-0.019559741020202637,-12.883062362670898,31.491668701171875,4.913167953491211,12.7361478805542,2.2200822830200195,10.214066505432129,-6.314831733703613,-3.6993284225463867,-5.809725284576416,-5.683942794799805,11.636375427246094,-1.3705782890319824,5.3824615478515625,-7.545782089233398,6.755375862121582,14.637738227844238,2.5604448318481445,-7.412014007568359,-12.477165222167969,1.1507656574249268,7.864561557769775,5.54107666015625,-17.961931228637695,3.158740520477295,9.291625022888184,7.148123741149902],[-3.0129106044769287,-9.488630294799805,-1.369943380355835,-11.898957252502441,1.2052820920944214,10.524995803833008,13.113080978393555,16.829334259033203,6.444139003753662,-3.92026424407959,1.4031295776367188,-5.107674598693848,-3.9613547325134277,5.717923164367676,-3.997080087661743,2.0456714630126953,11.326095581054688,-2.2284464836120605,-2.1191086769104004,2.0489349365234375,-7.377635478973389,-0.4691140651702881,9.981610298156738,12.645071029663086,8.93152904510498,9.403058052062988,32.10479736328125,-1.221311092376709,10.002363204956055,6.923882484436035,-13.428301811218262,2.1882519721984863,-13.954705238342285,6.733691215515137,-14.47374153137207,-7.719323635101318,7.770803451538086,-1.9099106788635254,-8.148423194885254,14.96152400970459,2.281987428665161,-12.45838451385498,8.076778411865234,2.6295907497406006,9.969351768493652,1.1549017429351807,-3.8511977195739746,8.803037643432617,9.030163764953613,-5.708043098449707],[-0.7936440706253052,-0.17334890365600586,1.0223785638809204,9.99675178527832,-7.67359733581543,8.512306213378906,7.761227130889893,-2.7263240814208984,3.9482932090759277,-7.897809028625488,-15.027283668518066,-9.57624626159668,2.194439649581909,1.3199331760406494,-3.016056537628174,-21.21160888671875,-2.639256238937378,5.792013168334961,-3.0856449604034424,11.442651748657227,-1.853839635848999,-0.19431614875793457,5.132652759552002,-13.722003936767578,-9.54386043548584,10.759672164916992,-5.157034873962402,27.853303909301758,3.9469046592712402,-3.188364028930664,4.763641357421875,-8.561860084533691,8.708158493041992,-4.468991279602051,4.629565715789795,8.378376007080078,4.450366020202637,2.7638309001922607,3.2753658294677734,5.554169654846191,-9.584844589233398,-6.135799884796143,1.4647361040115356,0.547738790512085,0.42567527294158936,-1.8067114353179932,-9.425009727478027,-9.668664932250977,-8.460907936096191,-1.7635080814361572],[0.8684782385826111,-0.8389310836791992,-6.290016174316406,9.089113235473633,8.94685173034668,5.535106182098389,2.736745595932007,-4.408322811126709,10.291777610778809,5.0430426597595215,-4.537042617797852,-11.860797882080078,1.3635804653167725,2.456357002258301,7.499391555786133,-3.9803848266601562,6.823324203491211,7.845540523529053,-8.920289039611816,6.091368675231934,-10.107667922973633,-6.51298713684082,6.2601165771484375,-2.8790955543518066,4.758617401123047,2.648805856704712,4.976982593536377,0.9669341444969177,26.20600128173828,-14.956583023071289,-7.007845401763916,11.589137077331543,4.049403667449951,-0.7424864768981934,-6.609396934509277,5.1082539558410645,-3.5744495391845703,-12.577166557312012,-7.766889572143555,10.885549545288086,-8.568897247314453,-11.172126770019531,1.9295682907104492,6.293404579162598,-5.29884147644043,4.586845397949219,-0.20276784896850586,2.3506851196289062,-6.645475387573242,-2.216062307357788],[2.334357500076294,0.8302927017211914,7.989352226257324,-3.0329651832580566,-11.647984504699707,-3.342130184173584,0.7908745408058167,-2.4154491424560547,-4.041363716125488,-3.3147387504577637,-2.955061435699463,2.764765501022339,-5.6854400634765625,5.446781158447266,-0.06327462196350098,4.786900043487549,8.210530281066895,-12.46143627166748,4.202524185180664,0.6704732775688171,2.718543529510498,5.051669120788574,-8.158039093017578,5.145766258239746,-3.0627903938293457,9.108474731445312,6.91079044342041,0.38387441635131836,-14.734184265136719,25.28908348083496,-8.413836479187012,0.07322311401367188,-5.9823808670043945,-6.869821548461914,9.928792953491211,-11.23304271697998,4.435544967651367,5.605568885803223,-0.05940890312194824,1.0331032276153564,2.888258695602417,5.133511066436768,-1.3957247734069824,-9.215248107910156,10.316017150878906,-1.0211488008499146,-8.003460884094238,3.7339563369750977,7.365913391113281,4.070106506347656],[-8.113018035888672,-5.46726655960083,-1.6686781644821167,-1.5336768627166748,8.963844299316406,-7.304742813110352,4.78977632522583,-5.642055511474609,3.5302183628082275,-5.468466281890869,0.6576192378997803,8.09725570678711,6.180068492889404,-9.407238006591797,-1.03226900100708,-9.911112785339355,-21.067331314086914,9.038516998291016,1.080842137336731,-1.1200692653656006,9.58572769165039,0.44294166564941406,8.795979499816895,-3.3284752368927,-1.19642972946167,-9.575777053833008,-16.376052856445312,6.000848770141602,-2.5925655364990234,-16.83316421508789,27.9990234375,-15.093721389770508,11.125905990600586,12.692561149597168,2.6811869144439697,7.897498607635498,-5.980542182922363,-1.701322078704834,0.4501307010650635,-9.733388900756836,4.285187244415283,-4.747522830963135,-10.212204933166504,4.702006816864014,-13.389402389526367,-1.9065054655075073,5.185306072235107,-8.951608657836914,0.5376937985420227,2.1532950401306152],[11.074785232543945,10.039639472961426,-1.117621660232544,5.499222755432129,2.5741801261901855,-0.3087066411972046,-9.260360717773438,-3.870267868041992,2.4907326698303223,8.946565628051758,0.1015164852142334,-9.25036907196045,-10.03669548034668,4.779858589172363,8.751873016357422,6.351825714111328,10.895843505859375,2.6515920162200928,-1.2439762353897095,1.502726674079895,-4.793227195739746,-7.2271318435668945,-7.370726585388184,0.9634547233581543,-5.796903610229492,-0.8065276145935059,-0.23675918579101562,-9.398628234863281,5.356624126434326,3.6934731006622314,-13.679283142089844,24.9412784576416,3.599459648132324,-10.095925331115723,1.552713394165039,2.3746914863586426,-3.712691307067871,-5.733709335327148,-3.1637349128723145,4.205460548400879,3.551774501800537,6.745283126831055,0.6816427707672119,2.7575864791870117,-0.9328113794326782,-2.317286968231201,5.983957290649414,6.252119064331055,-8.182699203491211,8.335723876953125],[-1.5079902410507202,1.8297145366668701,-2.53971791267395,4.44821310043335,2.306419610977173,-6.225124359130859,2.924916982650757,-17.1684627532959,-3.294095039367676,0.4809480905532837,-7.345724105834961,5.259408950805664,-1.667680025100708,-4.436208248138428,6.644651412963867,-7.338930130004883,-14.425590515136719,-3.3045949935913086,-0.2454758882522583,5.179568290710449,5.606068134307861,-3.404301643371582,0.6454706192016602,-6.582648277282715,-8.652328491210938,-6.580888271331787,-14.746429443359375,7.043400764465332,-0.511356770992279,-5.011960506439209,7.863896369934082,0.23925328254699707,25.01980209350586,2.6999378204345703,6.03441047668457,5.7086358070373535,-10.231449127197266,3.0380306243896484,-9.457804679870605,-6.517843723297119,-8.626548767089844,2.911982536315918,-2.315235137939453,2.04738187789917,-10.079560279846191,6.609683990478516,5.876026153564453,-11.329282760620117,-17.68059730529785,-5.046146392822266],[-16.23527717590332,-9.203545570373535,-7.800633907318115,-11.780498504638672,0.6089190244674683,-3.454603433609009,9.319865226745605,-2.6971330642700195,1.3617337942123413,2.7141823768615723,-5.916347503662109,6.686405181884766,-3.4131805896759033,-13.783651351928711,7.017855167388916,3.728698968887329,-14.556427001953125,-7.819061279296875,4.425295829772949,-8.915430068969727,-2.5143771171569824,1.8255153894424438,5.068360805511475,5.477457523345947,5.189688682556152,-6.684999942779541,1.5812153816223145,-4.976945400238037,2.5088839530944824,-11.971672058105469,8.259040832519531,-9.170770645141602,4.099691390991211,28.509674072265625,-6.867591857910156,-11.694595336914062,-14.551082611083984,8.67725658416748,-4.0541157722473145,5.840974807739258,2.1264219284057617,-10.948129653930664,-4.956037521362305,8.61811637878418,-4.500748634338379,7.2571702003479,5.883591651916504,-4.450046062469482,-0.8741863965988159,-17.39728546142578],[-1.317826747894287,-2.094766855239868,2.4671669006347656,11.966259956359863,-2.3358137607574463,-16.216482162475586,-6.041358947753906,-21.268310546875,6.7987470626831055,0.2024460732936859,-9.808964729309082,-0.3080611228942871,1.4443706274032593,3.500525951385498,9.30044937133789,0.6979286670684814,-3.864410638809204,-5.8888373374938965,-6.635979175567627,4.24318265914917,10.573702812194824,4.470661163330078,-12.99406623840332,-7.008090019226074,-3.9069831371307373,8.648841857910156,-20.3511962890625,5.706143856048584,-8.357820510864258,8.718181610107422,6.765986442565918,0.6564548015594482,9.970711708068848,-11.058064460754395,29.566165924072266,1.146688461303711,-4.782999515533447,-0.6964877843856812,5.005098342895508,-5.804056644439697,-5.480807304382324,5.754971027374268,-15.088821411132812,-6.773936748504639,-1.7690215110778809,0.7952044010162354,-5.909501075744629,-7.518216133117676,-0.006922721862792969,11.168203353881836],[2.8538737297058105,4.700547218322754,-7.100009918212891,5.2394256591796875,4.992239952087402,0.4850480556488037,-3.255110025405884,6.605367183685303,4.663727760314941,-2.8270950317382812,8.525202751159668,-11.706270217895508,5.8388495445251465,4.567471504211426,-11.048147201538086,-8.143254280090332,-4.228945732116699,9.426892280578613,-7.183669567108154,-0.7471952438354492,5.895371437072754,4.367124557495117,-1.4701440334320068,-9.395256996154785,-10.19231128692627,1.0895910263061523,-8.33118724822998,8.806474685668945,4.759917259216309,-7.095480918884277,4.657447814941406,3.7855002880096436,11.792908668518066,-11.688941955566406,-0.49748802185058594,31.31382942199707,12.473213195800781,-6.187036991119385,2.710020065307617,-6.518509864807129,-4.141598701477051,3.09547758102417,3.7832984924316406,1.372241497039795,-14.88293743133545,-3.2358815670013428,8.704801559448242,1.4337888956069946,-14.53165054321289,11.278427124023438],[-2.8118295669555664,-6.756794452667236,2.8006932735443115,-2.415473222732544,-7.129666328430176,10.224599838256836,-5.330711841583252,18.554141998291016,3.1535723209381104,-13.658426284790039,7.998223304748535,-12.782970428466797,9.288925170898438,10.334547996520996,-22.227590560913086,-2.7280735969543457,7.548464775085449,5.441188812255859,-8.116447448730469,-4.685866832733154,3.9762120246887207,8.935677528381348,2.018946647644043,-9.38508415222168,-7.632928848266602,9.861610412597656,11.252513885498047,8.072747230529785,3.3785290718078613,2.125398635864258,-5.444109916687012,-3.1204116344451904,-9.731420516967773,-13.793445587158203,-8.06063175201416,15.842309951782227,31.72951316833496,-0.8084237575531006,6.044198036193848,-5.074092864990234,3.512063980102539,0.7814139723777771,5.820469856262207,0.6857595443725586,4.492680549621582,-2.49159574508667,-1.7048777341842651,6.242423057556152,0.4146684408187866,2.2830283641815186],[-10.1621675491333,-5.861790657043457,-1.4628689289093018,-1.9814926385879517,-22.751850128173828,2.137051582336426,0.23456501960754395,-2.6367788314819336,-13.634638786315918,4.2672119140625,-5.439444541931152,6.245589256286621,0.1447102129459381,-8.941489219665527,-8.258062362670898,1.8378639221191406,-12.612318992614746,-13.714960098266602,7.31496524810791,-11.699180603027344,-0.9496148824691772,10.021366119384766,-7.719021320343018,-11.050590515136719,-8.223163604736328,-8.741561889648438,-6.469086647033691,5.174023628234863,-13.17213249206543,2.4608185291290283,-2.305720329284668,-7.751227855682373,5.769253730773926,7.417837142944336,0.052280426025390625,-6.676399230957031,0.6163797378540039,29.214021682739258,0.7975326776504517,-3.9554100036621094,-4.467557907104492,7.200526237487793,4.068596839904785,2.393131971359253,4.360021114349365,4.659765243530273,8.707642555236816,-6.969675540924072,-18.002891540527344,-22.851991653442383],[-5.878575325012207,-3.1515159606933594,-0.7108720541000366,3.8297226428985596,-11.259302139282227,-2.436969041824341,-8.996112823486328,1.6784703731536865,-1.1357965469360352,-1.472206950187683,-3.78115177154541,-3.973971366882324,1.9044547080993652,-10.255474090576172,-7.051871299743652,2.271573066711426,3.6110451221466064,3.6268763542175293,7.105978965759277,-4.512784004211426,3.5278773307800293,6.229206085205078,-15.057573318481445,-14.13296127319336,1.8976333141326904,3.0318386554718018,-12.105084419250488,3.0370640754699707,-8.701481819152832,-2.1613149642944336,4.4116716384887695,-9.123673439025879,-6.468595027923584,-0.3831930160522461,7.467510223388672,1.776228666305542,7.853975296020508,8.442255973815918,26.142309188842773,-2.665966033935547,-2.7417678833007812,0.9100222587585449,-0.26561635732650757,0.0720585286617279,0.9496776461601257,-9.223822593688965,-4.829817295074463,-4.874950408935547,8.464056015014648,-0.8219171762466431],[-0.3555154800415039,-3.694176435470581,-13.501925468444824,3.21140193939209,-5.346538066864014,4.510257720947266,8.124966621398926,-1.0520644187927246,0.9566129446029663,3.768871784210205,-21.87415885925293,-15.06382942199707,-8.641849517822266,-0.045116305351257324,9.980435371398926,-2.973526954650879,8.12160587310791,-8.290519714355469,6.705048561096191,-0.4693796634674072,-21.420169830322266,-4.780920505523682,-5.188351631164551,2.8670578002929688,0.7024462223052979,13.025574684143066,4.995245933532715,2.773158311843872,9.398419380187988,-2.337625026702881,-5.855127334594727,-2.731607437133789,-6.584989070892334,9.025882720947266,-2.1024084091186523,-12.57388973236084,-12.29850959777832,-6.110850811004639,1.3964060544967651,29.473526000976562,-5.725917816162109,-16.86243438720703,-4.8829827308654785,9.706600189208984,-2.566912889480591,0.28885865211486816,-12.799388885498047,8.009660720825195,10.701494216918945,-5.069768905639648],[-4.811048984527588,0.910163402557373,0.31313973665237427,-10.715849876403809,1.6638460159301758,-3.6509180068969727,-4.7236762046813965,7.978148460388184,6.086487293243408,-6.820583343505859,2.9738192558288574,-1.8575998544692993,-6.5877861976623535,1.8703746795654297,0.12170553207397461,3.4740068912506104,-7.436577320098877,1.3678147792816162,-2.4297375679016113,-11.368390083312988,6.844712257385254,2.8092832565307617,5.072463035583496,6.227957725524902,-12.338651657104492,0.16792458295822144,0.3056242763996124,-6.201663970947266,-7.278061389923096,-0.6856833696365356,7.710503101348877,3.29022216796875,-3.3276944160461426,5.512932777404785,-1.4742074012756348,1.1632922887802124,3.6173384189605713,-0.14329059422016144,0.11359262466430664,-4.797842025756836,25.14409065246582,3.2768185138702393,-11.409770965576172,5.677945137023926,1.8297531604766846,-2.4257423877716064,8.77872085571289,4.496892929077148,2.627741813659668,7.202655792236328],[2.3009777069091797,7.331532955169678,5.469667434692383,0.323089599609375,-2.4264893531799316,-1.9052577018737793,-22.575489044189453,-2.5226974487304688,-17.050792694091797,-5.840486526489258,3.615041732788086,11.737518310546875,0.6154354810714722,9.369974136352539,-3.88572359085083,7.698800086975098,-10.741838455200195,-12.072281837463379,-2.8918092250823975,-5.564883708953857,9.500666618347168,-5.907416343688965,-0.9492907524108887,-3.5423643589019775,-14.116750717163086,-8.644547462463379,-12.003959655761719,-6.6726250648498535,-14.222813606262207,4.167726993560791,-2.1462831497192383,1.3517041206359863,6.600317478179932,-10.702228546142578,2.2695000171661377,1.218280553817749,-0.11230379343032837,7.40605354309082,-7.186347007751465,-19.276418685913086,3.4180679321289062,28.57349395751953,0.8200578689575195,1.1587783098220825,5.287983417510986,13.319005966186523,6.210336208343506,-8.523520469665527,-12.414493560791016,-5.046874046325684],[5.3654351234436035,2.989751100540161,-0.2074347734451294,6.761316299438477,-3.034421682357788,8.255428314208984,2.9636192321777344,7.713399887084961,-12.215330123901367,4.689601898193359,3.2104363441467285,6.451198577880859,-3.3497021198272705,-6.586491584777832,-7.221081733703613,-5.99361515045166,5.708815097808838,6.062428951263428,8.460654258728027,8.306921005249023,-1.2518154382705688,-6.691864013671875,3.7590572834014893,-9.021331787109375,7.63709831237793,-9.428587913513184,5.106066703796387,5.107065200805664,3.382082223892212,-2.125572681427002,-8.36404037475586,1.3433589935302734,2.636605739593506,-0.8695494532585144,-12.57380485534668,4.1141133308410645,2.453641891479492,10.071877479553223,1.0731120109558105,-0.8129169940948486,-12.389110565185547,5.020136833190918,26.298091888427734,1.0929580926895142,4.837579727172852,-2.5503671169281006,6.094705104827881,-10.651511192321777,-10.275035858154297,-12.944555282592773],[1.552046298980713,-2.3937346935272217,-16.577007293701172,2.433396816253662,5.782070159912109,4.938898086547852,-15.739869117736816,7.228334426879883,-12.719551086425781,-5.684781074523926,-14.963972091674805,-7.23122501373291,-6.829873561859131,6.8043622970581055,-1.9677104949951172,-0.242087721824646,-8.07694149017334,-6.4415483474731445,2.081942081451416,-5.890188694000244,-8.082940101623535,-17.59239959716797,2.35750150680542,-4.431432723999023,-14.512560844421387,0.3075752258300781,-7.520257949829102,-4.286197662353516,3.2221484184265137,-14.831859588623047,1.528191089630127,-1.4235045909881592,5.4255876541137695,2.5339770317077637,-10.658849716186523,3.0316951274871826,-6.599304676055908,-5.245031833648682,-3.3499648571014404,6.41071891784668,0.8254799842834473,7.601086616516113,-1.3728718757629395,24.06179428100586,-6.868640899658203,10.22298812866211,1.1744023561477661,-2.8747215270996094,-3.144559621810913,-8.094478607177734],[-2.996285915374756,-4.207806587219238,6.109835147857666,-1.0900884866714478,-2.624969244003296,2.8415632247924805,-5.045419692993164,6.900712013244629,1.583775520324707,-8.87649917602539,-9.601028442382812,1.2927114963531494,-5.51481294631958,7.28013801574707,2.9792232513427734,2.1656484603881836,2.942889451980591,-4.66003942489624,-6.8737053871154785,5.460577011108398,5.804967880249023,-5.535983562469482,5.631516456604004,-2.1623759269714355,-0.4983559548854828,9.38111400604248,8.426782608032227,3.667357921600342,-2.486983299255371,5.825211048126221,-9.418777465820312,0.9709886312484741,-8.167704582214355,-1.9566423892974854,1.0734467506408691,-11.261144638061523,3.911741018295288,7.367302894592285,2.9223549365997314,0.35682499408721924,5.471953392028809,6.793191909790039,3.0745491981506348,0.6598066091537476,24.268497467041016,3.641948699951172,-3.8604984283447266,-10.831493377685547,3.2825355529785156,-8.501924514770508],[-11.158029556274414,-0.7666701078414917,-4.877575874328613,0.8356345891952515,-0.5193036794662476,0.3323606252670288,-7.998348236083984,-11.384105682373047,-6.697476387023926,-5.784931182861328,-10.129987716674805,3.4499387741088867,4.018441677093506,8.787446975708008,6.30059814453125,2.7311789989471436,-12.242231369018555,-19.91575050354004,-11.191115379333496,-6.7187089920043945,-3.1944587230682373,-1.7077391147613525,6.854284286499023,0.9278342723846436,-10.737899780273438,3.4145307540893555,-4.327023983001709,-1.0440963506698608,5.750988483428955,-6.496287822723389,-2.9048783779144287,-6.05682373046875,9.973161697387695,2.4136672019958496,-0.771146297454834,-4.763873100280762,-9.03268051147461,-0.4596831798553467,-16.8514404296875,-3.4681360721588135,-6.479762077331543,5.9070940017700195,-7.671021461486816,5.5081682205200195,-0.9675635695457458,26.662151336669922,-3.181185245513916,-5.188041687011719,-12.216230392456055,-14.89760971069336],[-0.5983707904815674,-2.771908760070801,-11.189996719360352,-2.3042144775390625,3.9944205284118652,-7.716818332672119,0.4633835554122925,2.6570746898651123,-4.7686357498168945,10.810009002685547,8.132343292236328,6.161954402923584,-3.3394935131073,-4.618191719055176,-0.8155735731124878,4.293012619018555,-18.759090423583984,-1.2327115535736084,-1.6505390405654907,-10.388716697692871,7.022743225097656,1.1379051208496094,1.5759258270263672,-1.9876670837402344,-4.851626873016357,-17.56568145751953,-8.430976867675781,-7.976698875427246,-2.5624520778656006,-10.342105865478516,3.545876979827881,8.839156150817871,13.653831481933594,7.236962795257568,-6.256097316741943,9.690938949584961,-5.193023204803467,12.621813774108887,-7.9778642654418945,-7.836983680725098,5.484006881713867,8.670880317687988,4.5394697189331055,8.365510940551758,-5.381839752197266,0.37081003189086914,28.265750885009766,-5.537449836730957,-22.06317901611328,-8.35183334350586],[3.3467302322387695,-0.07979333400726318,-4.055319786071777,-5.437285423278809,-3.650567054748535,2.639089345932007,-0.00446474552154541,1.8636912107467651,-1.4064624309539795,5.068897247314453,7.35211706161499,-7.602148532867432,8.443351745605469,3.188847064971924,-5.059137344360352,7.019141674041748,4.426237106323242,-5.017585754394531,2.888582468032837,-13.848454475402832,-13.551246643066406,9.064996719360352,-8.278707504272461,8.943525314331055,-1.8955498933792114,0.15844625234603882,2.388200283050537,-10.746251106262207,0.3944935202598572,1.9750229120254517,-0.7835273742675781,-1.876747727394104,-10.470426559448242,-1.8519914150238037,-3.7217845916748047,-2.455261468887329,3.473459482192993,-8.547260284423828,-2.3920865058898926,6.123730659484863,3.9398927688598633,-7.770591735839844,-11.359979629516602,-1.2278339862823486,-11.72715950012207,-1.351527452468872,-4.744174003601074,25.09208869934082,9.078132629394531,7.405006408691406],[-0.5915368795394897,-8.886302947998047,1.4952480792999268,-6.955970764160156,8.68012523651123,-5.25186824798584,-3.091860294342041,6.927127361297607,2.459601879119873,-8.679931640625,-1.824354887008667,2.297873020172119,-0.2683674097061157,2.6225173473358154,1.3464620113372803,7.507171630859375,7.086873531341553,-0.7816710472106934,3.2339425086975098,1.7838715314865112,3.0036110877990723,-5.004833221435547,-1.3241379261016846,8.87081527709961,11.704065322875977,8.508628845214844,5.674750804901123,-9.311456680297852,-4.8725175857543945,3.7269835472106934,5.450990676879883,-9.731621742248535,-17.388896942138672,3.443098545074463,2.4125795364379883,-11.093157768249512,1.395838737487793,-11.775628089904785,10.805054664611816,3.9488062858581543,6.982202529907227,-5.066038608551025,-6.871499061584473,0.9716660976409912,5.516242504119873,-5.155454158782959,-12.993741989135742,2.91693115234375,31.986473083496094,8.215826988220215],[10.67786979675293,7.670685768127441,4.134740352630615,1.0558706521987915,11.664200782775879,-7.207905292510986,-3.639909267425537,2.1088640689849854,13.012140274047852,-2.1560587882995605,10.653369903564453,-7.457968711853027,1.2549278736114502,7.175958633422852,1.2891076803207397,-1.1202812194824219,7.865523815155029,13.449399948120117,-4.375262260437012,3.5323338508605957,6.869706630706787,1.560365080833435,-3.2409698963165283,6.8705668449401855,-1.8535645008087158,6.738680839538574,-4.6551289558410645,-2.627962827682495,-3.605057716369629,6.249086856842041,8.252195358276367,7.344643592834473,-4.667757034301758,-13.492681503295898,10.99856185913086,13.383392333984375,6.272282600402832,-19.191802978515625,7.65565299987793,-3.9879369735717773,11.666305541992188,-0.18981873989105225,-10.62446117401123,-6.940101146697998,-7.535427093505859,-13.364277839660645,-3.242635726928711,10.005263328552246,13.777196884155273,31.97894859313965],[5.667000770568848,8.136932373046875,5.797178745269775,1.0257009267807007,-1.1361994743347168,3.8897323608398438,-2.9757633209228516,-1.5254976749420166,-2.3503055572509766,0.6451911330223083,2.0854477882385254,-0.6760545969009399,0.28607243299484253,1.5117621421813965,0.8374860882759094,-0.012041151523590088,5.72959041595459,1.8546552658081055,2.141092538833618,2.625068187713623,-3.438659191131592,-1.943583369255066,-1.6375627517700195,0.7330577373504639,-1.3822681903839111,-0.9717291593551636,0.010686874389648438,-0.4728936553001404,-0.9402003884315491,3.4190402030944824,-3.9769692420959473,3.260274648666382,-1.9300098419189453,-5.407392501831055,-0.40694868564605713,-1.0282187461853027,-0.31700724363327026,-2.8780579566955566,0.08739537000656128,-0.35535773634910583,-0.39101535081863403,3.0006051063537598,0.9498277306556702,-4.394095420837402,0.5030741095542908,-1.169162631034851,-3.906534194946289,3.237053394317627,0.0690164566040039,3.5854501724243164],[2.234177589416504,3.0428109169006348,-0.2854824960231781,7.921104431152344,-4.00477409362793,3.8261702060699463,-3.445202350616455,-3.7753450870513916,-2.063998222351074,-0.28351759910583496,-6.175573348999023,-5.880873680114746,0.24141955375671387,0.2676054835319519,-0.8725759983062744,-5.102315902709961,2.0153043270111084,2.1491317749023438,1.3889580965042114,2.9258689880371094,-4.075498580932617,-2.6315670013427734,-3.385261297225952,-8.525771141052246,-4.585292816162109,1.5068053007125854,-6.113489151000977,6.581225395202637,2.861187696456909,-2.721850633621216,-1.4194540977478027,1.002974033355713,3.9302268028259277,-5.102266788482666,1.412935495376587,3.616533041000366,0.3540959358215332,-0.15888866782188416,2.5661680698394775,2.141120195388794,-6.151823043823242,1.1483505964279175,1.1899253129959106,1.7709972858428955,-2.554257869720459,-0.09984946250915527,-3.2931067943573,-1.731985330581665,-5.303432464599609,-1.0024585723876953]],\"type\":\"heatmap\",\"xaxis\":\"x\",\"yaxis\":\"y\",\"hovertemplate\":\"logit: %{x}\\u003cbr\\u003esrc token: %{y}\\u003cbr\\u003ecolor: %{z}\\u003cextra\\u003e\\u003c\\u002fextra\\u003e\"}],                        {\"template\":{\"data\":{\"histogram2dcontour\":[{\"type\":\"histogram2dcontour\",\"colorbar\":{\"outlinewidth\":0,\"ticks\":\"\"},\"colorscale\":[[0.0,\"#0d0887\"],[0.1111111111111111,\"#46039f\"],[0.2222222222222222,\"#7201a8\"],[0.3333333333333333,\"#9c179e\"],[0.4444444444444444,\"#bd3786\"],[0.5555555555555556,\"#d8576b\"],[0.6666666666666666,\"#ed7953\"],[0.7777777777777778,\"#fb9f3a\"],[0.8888888888888888,\"#fdca26\"],[1.0,\"#f0f921\"]]}],\"choropleth\":[{\"type\":\"choropleth\",\"colorbar\":{\"outlinewidth\":0,\"ticks\":\"\"}}],\"histogram2d\":[{\"type\":\"histogram2d\",\"colorbar\":{\"outlinewidth\":0,\"ticks\":\"\"},\"colorscale\":[[0.0,\"#0d0887\"],[0.1111111111111111,\"#46039f\"],[0.2222222222222222,\"#7201a8\"],[0.3333333333333333,\"#9c179e\"],[0.4444444444444444,\"#bd3786\"],[0.5555555555555556,\"#d8576b\"],[0.6666666666666666,\"#ed7953\"],[0.7777777777777778,\"#fb9f3a\"],[0.8888888888888888,\"#fdca26\"],[1.0,\"#f0f921\"]]}],\"heatmap\":[{\"type\":\"heatmap\",\"colorbar\":{\"outlinewidth\":0,\"ticks\":\"\"},\"colorscale\":[[0.0,\"#0d0887\"],[0.1111111111111111,\"#46039f\"],[0.2222222222222222,\"#7201a8\"],[0.3333333333333333,\"#9c179e\"],[0.4444444444444444,\"#bd3786\"],[0.5555555555555556,\"#d8576b\"],[0.6666666666666666,\"#ed7953\"],[0.7777777777777778,\"#fb9f3a\"],[0.8888888888888888,\"#fdca26\"],[1.0,\"#f0f921\"]]}],\"heatmapgl\":[{\"type\":\"heatmapgl\",\"colorbar\":{\"outlinewidth\":0,\"ticks\":\"\"},\"colorscale\":[[0.0,\"#0d0887\"],[0.1111111111111111,\"#46039f\"],[0.2222222222222222,\"#7201a8\"],[0.3333333333333333,\"#9c179e\"],[0.4444444444444444,\"#bd3786\"],[0.5555555555555556,\"#d8576b\"],[0.6666666666666666,\"#ed7953\"],[0.7777777777777778,\"#fb9f3a\"],[0.8888888888888888,\"#fdca26\"],[1.0,\"#f0f921\"]]}],\"contourcarpet\":[{\"type\":\"contourcarpet\",\"colorbar\":{\"outlinewidth\":0,\"ticks\":\"\"}}],\"contour\":[{\"type\":\"contour\",\"colorbar\":{\"outlinewidth\":0,\"ticks\":\"\"},\"colorscale\":[[0.0,\"#0d0887\"],[0.1111111111111111,\"#46039f\"],[0.2222222222222222,\"#7201a8\"],[0.3333333333333333,\"#9c179e\"],[0.4444444444444444,\"#bd3786\"],[0.5555555555555556,\"#d8576b\"],[0.6666666666666666,\"#ed7953\"],[0.7777777777777778,\"#fb9f3a\"],[0.8888888888888888,\"#fdca26\"],[1.0,\"#f0f921\"]]}],\"surface\":[{\"type\":\"surface\",\"colorbar\":{\"outlinewidth\":0,\"ticks\":\"\"},\"colorscale\":[[0.0,\"#0d0887\"],[0.1111111111111111,\"#46039f\"],[0.2222222222222222,\"#7201a8\"],[0.3333333333333333,\"#9c179e\"],[0.4444444444444444,\"#bd3786\"],[0.5555555555555556,\"#d8576b\"],[0.6666666666666666,\"#ed7953\"],[0.7777777777777778,\"#fb9f3a\"],[0.8888888888888888,\"#fdca26\"],[1.0,\"#f0f921\"]]}],\"mesh3d\":[{\"type\":\"mesh3d\",\"colorbar\":{\"outlinewidth\":0,\"ticks\":\"\"}}],\"scatter\":[{\"fillpattern\":{\"fillmode\":\"overlay\",\"size\":10,\"solidity\":0.2},\"type\":\"scatter\"}],\"parcoords\":[{\"type\":\"parcoords\",\"line\":{\"colorbar\":{\"outlinewidth\":0,\"ticks\":\"\"}}}],\"scatterpolargl\":[{\"type\":\"scatterpolargl\",\"marker\":{\"colorbar\":{\"outlinewidth\":0,\"ticks\":\"\"}}}],\"bar\":[{\"error_x\":{\"color\":\"#2a3f5f\"},\"error_y\":{\"color\":\"#2a3f5f\"},\"marker\":{\"line\":{\"color\":\"#E5ECF6\",\"width\":0.5},\"pattern\":{\"fillmode\":\"overlay\",\"size\":10,\"solidity\":0.2}},\"type\":\"bar\"}],\"scattergeo\":[{\"type\":\"scattergeo\",\"marker\":{\"colorbar\":{\"outlinewidth\":0,\"ticks\":\"\"}}}],\"scatterpolar\":[{\"type\":\"scatterpolar\",\"marker\":{\"colorbar\":{\"outlinewidth\":0,\"ticks\":\"\"}}}],\"histogram\":[{\"marker\":{\"pattern\":{\"fillmode\":\"overlay\",\"size\":10,\"solidity\":0.2}},\"type\":\"histogram\"}],\"scattergl\":[{\"type\":\"scattergl\",\"marker\":{\"colorbar\":{\"outlinewidth\":0,\"ticks\":\"\"}}}],\"scatter3d\":[{\"type\":\"scatter3d\",\"line\":{\"colorbar\":{\"outlinewidth\":0,\"ticks\":\"\"}},\"marker\":{\"colorbar\":{\"outlinewidth\":0,\"ticks\":\"\"}}}],\"scattermapbox\":[{\"type\":\"scattermapbox\",\"marker\":{\"colorbar\":{\"outlinewidth\":0,\"ticks\":\"\"}}}],\"scatterternary\":[{\"type\":\"scatterternary\",\"marker\":{\"colorbar\":{\"outlinewidth\":0,\"ticks\":\"\"}}}],\"scattercarpet\":[{\"type\":\"scattercarpet\",\"marker\":{\"colorbar\":{\"outlinewidth\":0,\"ticks\":\"\"}}}],\"carpet\":[{\"aaxis\":{\"endlinecolor\":\"#2a3f5f\",\"gridcolor\":\"white\",\"linecolor\":\"white\",\"minorgridcolor\":\"white\",\"startlinecolor\":\"#2a3f5f\"},\"baxis\":{\"endlinecolor\":\"#2a3f5f\",\"gridcolor\":\"white\",\"linecolor\":\"white\",\"minorgridcolor\":\"white\",\"startlinecolor\":\"#2a3f5f\"},\"type\":\"carpet\"}],\"table\":[{\"cells\":{\"fill\":{\"color\":\"#EBF0F8\"},\"line\":{\"color\":\"white\"}},\"header\":{\"fill\":{\"color\":\"#C8D4E3\"},\"line\":{\"color\":\"white\"}},\"type\":\"table\"}],\"barpolar\":[{\"marker\":{\"line\":{\"color\":\"#E5ECF6\",\"width\":0.5},\"pattern\":{\"fillmode\":\"overlay\",\"size\":10,\"solidity\":0.2}},\"type\":\"barpolar\"}],\"pie\":[{\"automargin\":true,\"type\":\"pie\"}]},\"layout\":{\"autotypenumbers\":\"strict\",\"colorway\":[\"#636efa\",\"#EF553B\",\"#00cc96\",\"#ab63fa\",\"#FFA15A\",\"#19d3f3\",\"#FF6692\",\"#B6E880\",\"#FF97FF\",\"#FECB52\"],\"font\":{\"color\":\"#2a3f5f\"},\"hovermode\":\"closest\",\"hoverlabel\":{\"align\":\"left\"},\"paper_bgcolor\":\"white\",\"plot_bgcolor\":\"#E5ECF6\",\"polar\":{\"bgcolor\":\"#E5ECF6\",\"angularaxis\":{\"gridcolor\":\"white\",\"linecolor\":\"white\",\"ticks\":\"\"},\"radialaxis\":{\"gridcolor\":\"white\",\"linecolor\":\"white\",\"ticks\":\"\"}},\"ternary\":{\"bgcolor\":\"#E5ECF6\",\"aaxis\":{\"gridcolor\":\"white\",\"linecolor\":\"white\",\"ticks\":\"\"},\"baxis\":{\"gridcolor\":\"white\",\"linecolor\":\"white\",\"ticks\":\"\"},\"caxis\":{\"gridcolor\":\"white\",\"linecolor\":\"white\",\"ticks\":\"\"}},\"coloraxis\":{\"colorbar\":{\"outlinewidth\":0,\"ticks\":\"\"}},\"colorscale\":{\"sequential\":[[0.0,\"#0d0887\"],[0.1111111111111111,\"#46039f\"],[0.2222222222222222,\"#7201a8\"],[0.3333333333333333,\"#9c179e\"],[0.4444444444444444,\"#bd3786\"],[0.5555555555555556,\"#d8576b\"],[0.6666666666666666,\"#ed7953\"],[0.7777777777777778,\"#fb9f3a\"],[0.8888888888888888,\"#fdca26\"],[1.0,\"#f0f921\"]],\"sequentialminus\":[[0.0,\"#0d0887\"],[0.1111111111111111,\"#46039f\"],[0.2222222222222222,\"#7201a8\"],[0.3333333333333333,\"#9c179e\"],[0.4444444444444444,\"#bd3786\"],[0.5555555555555556,\"#d8576b\"],[0.6666666666666666,\"#ed7953\"],[0.7777777777777778,\"#fb9f3a\"],[0.8888888888888888,\"#fdca26\"],[1.0,\"#f0f921\"]],\"diverging\":[[0,\"#8e0152\"],[0.1,\"#c51b7d\"],[0.2,\"#de77ae\"],[0.3,\"#f1b6da\"],[0.4,\"#fde0ef\"],[0.5,\"#f7f7f7\"],[0.6,\"#e6f5d0\"],[0.7,\"#b8e186\"],[0.8,\"#7fbc41\"],[0.9,\"#4d9221\"],[1,\"#276419\"]]},\"xaxis\":{\"gridcolor\":\"white\",\"linecolor\":\"white\",\"ticks\":\"\",\"title\":{\"standoff\":15},\"zerolinecolor\":\"white\",\"automargin\":true,\"zerolinewidth\":2},\"yaxis\":{\"gridcolor\":\"white\",\"linecolor\":\"white\",\"ticks\":\"\",\"title\":{\"standoff\":15},\"zerolinecolor\":\"white\",\"automargin\":true,\"zerolinewidth\":2},\"scene\":{\"xaxis\":{\"backgroundcolor\":\"#E5ECF6\",\"gridcolor\":\"white\",\"linecolor\":\"white\",\"showbackground\":true,\"ticks\":\"\",\"zerolinecolor\":\"white\",\"gridwidth\":2},\"yaxis\":{\"backgroundcolor\":\"#E5ECF6\",\"gridcolor\":\"white\",\"linecolor\":\"white\",\"showbackground\":true,\"ticks\":\"\",\"zerolinecolor\":\"white\",\"gridwidth\":2},\"zaxis\":{\"backgroundcolor\":\"#E5ECF6\",\"gridcolor\":\"white\",\"linecolor\":\"white\",\"showbackground\":true,\"ticks\":\"\",\"zerolinecolor\":\"white\",\"gridwidth\":2}},\"shapedefaults\":{\"line\":{\"color\":\"#2a3f5f\"}},\"annotationdefaults\":{\"arrowcolor\":\"#2a3f5f\",\"arrowhead\":0,\"arrowwidth\":1},\"geo\":{\"bgcolor\":\"white\",\"landcolor\":\"#E5ECF6\",\"subunitcolor\":\"white\",\"showland\":true,\"showlakes\":true,\"lakecolor\":\"white\"},\"title\":{\"x\":0.05},\"mapbox\":{\"style\":\"light\"}}},\"xaxis\":{\"anchor\":\"y\",\"domain\":[0.0,1.0],\"scaleanchor\":\"y\",\"constrain\":\"domain\",\"title\":{\"text\":\"logit\"}},\"yaxis\":{\"anchor\":\"x\",\"domain\":[0.0,1.0],\"autorange\":\"reversed\",\"constrain\":\"domain\",\"title\":{\"text\":\"src token\"}},\"coloraxis\":{\"colorscale\":[[0.0,\"rgb(103,0,31)\"],[0.1,\"rgb(178,24,43)\"],[0.2,\"rgb(214,96,77)\"],[0.3,\"rgb(244,165,130)\"],[0.4,\"rgb(253,219,199)\"],[0.5,\"rgb(247,247,247)\"],[0.6,\"rgb(209,229,240)\"],[0.7,\"rgb(146,197,222)\"],[0.8,\"rgb(67,147,195)\"],[0.9,\"rgb(33,102,172)\"],[1.0,\"rgb(5,48,97)\"]],\"cmid\":0.0},\"title\":{\"text\":\"virtual OV circuit W_E @ W_OV^0.0 @ W_OV^1.0 @ W_U\"}},                        {\"responsive\": true}                    ).then(function(){\n",
              "                            \n",
              "var gd = document.getElementById('3f8a74f8-d240-40e4-baab-8ea5c450c6d5');\n",
              "var x = new MutationObserver(function (mutations, observer) {{\n",
              "        var display = window.getComputedStyle(gd).display;\n",
              "        if (!display || display === 'none') {{\n",
              "            console.log([gd, 'removed!']);\n",
              "            Plotly.purge(gd);\n",
              "            observer.disconnect();\n",
              "        }}\n",
              "}});\n",
              "\n",
              "// Listen for the removal of the full notebook cells\n",
              "var notebookContainer = gd.closest('#notebook-container');\n",
              "if (notebookContainer) {{\n",
              "    x.observe(notebookContainer, {childList: true});\n",
              "}}\n",
              "\n",
              "// Listen for the clearing of the current output cell\n",
              "var outputEl = gd.closest('.output');\n",
              "if (outputEl) {{\n",
              "    x.observe(outputEl, {childList: true});\n",
              "}}\n",
              "\n",
              "                        })                };                            </script>        </div>\n",
              "</body>\n",
              "</html>"
            ]
          },
          "metadata": {}
        }
      ]
    },
    {
      "cell_type": "markdown",
      "source": [
        "Yes, it appears to copy. Although it does not copy the index tokens (0, 1, 2)."
      ],
      "metadata": {
        "id": "ui_HtHNR5dOK"
      }
    },
    {
      "cell_type": "code",
      "source": [
        "top_1_acc = (virtual_OV_circuit[:cfg.d_vocab_out].argmax(dim=-1) == torch.arange(cfg.d_vocab_out, device=device)).float().mean()\n",
        "print(f\"Fraction of time top logit is on diagonal\", top_1_acc.item())"
      ],
      "metadata": {
        "colab": {
          "base_uri": "https://localhost:8080/"
        },
        "id": "bcQbEqRR6e0y",
        "outputId": "73e3aa15-bf47-4324-aafc-7525da1460bb"
      },
      "execution_count": 50,
      "outputs": [
        {
          "output_type": "stream",
          "name": "stdout",
          "text": [
            "Fraction of time top logit is on diagonal 0.9799999594688416\n"
          ]
        }
      ]
    },
    {
      "cell_type": "markdown",
      "source": [
        "## Direct logit attribution on all preds"
      ],
      "metadata": {
        "id": "2DvUcvJTOUlN"
      }
    },
    {
      "cell_type": "markdown",
      "source": [
        "Note that the model must make 3 predictions for this task, and we only tried direct logit attribution on the first one. We can quickly do the same for the other predictions to sanity check that they are using the same circuits."
      ],
      "metadata": {
        "id": "sDKrTDOHkJTb"
      }
    },
    {
      "cell_type": "code",
      "source": [
        "accumulated_resid_stack, labels = cache.accumulated_resid(layer=-1, pos_slice=(first_pred_pos,-1), return_labels=True)\n",
        "print(accumulated_resid_stack.shape)\n",
        "print(labels)"
      ],
      "metadata": {
        "colab": {
          "base_uri": "https://localhost:8080/"
        },
        "id": "S-eB6OUpOc99",
        "outputId": "98b4101a-b099-4c7d-be80-c92ae98a2b11"
      },
      "execution_count": 51,
      "outputs": [
        {
          "output_type": "stream",
          "name": "stdout",
          "text": [
            "torch.Size([3, 256, 3, 128])\n",
            "['0_pre', '1_pre', 'final_post']\n"
          ]
        }
      ]
    },
    {
      "cell_type": "code",
      "source": [
        "logit_dirs = model.tokens_to_residual_directions(test_sample[:, -LIST_LEN:])\n",
        "print(logit_dirs.shape)"
      ],
      "metadata": {
        "colab": {
          "base_uri": "https://localhost:8080/"
        },
        "id": "LtergFOvO4pp",
        "outputId": "fe84570a-68fc-4675-8ba4-5b331ced5db5"
      },
      "execution_count": 52,
      "outputs": [
        {
          "output_type": "stream",
          "name": "stdout",
          "text": [
            "torch.Size([256, 3, 128])\n"
          ]
        }
      ]
    },
    {
      "cell_type": "code",
      "source": [
        "accumulated_contrib = einops.einsum(\n",
        "    accumulated_resid_stack, logit_dirs,\n",
        "    \"... batch pos d_model, batch pos d_model -> pos ...\"\n",
        ") / logit_dirs.shape[0]\n",
        "\n",
        "\n",
        "lines(\n",
        "    accumulated_contrib,\n",
        "    title=\"Logit lens: prefix contribution to correct logit dirs (all 3 predictions)\",\n",
        "    xaxis=\"Layer\", yaxis=\"Contribution\",\n",
        "    x=labels,\n",
        ")"
      ],
      "metadata": {
        "colab": {
          "base_uri": "https://localhost:8080/",
          "height": 542
        },
        "id": "Fb8ASUrEPD4Y",
        "outputId": "5685836a-3990-446f-9b9e-64a1f687eac5"
      },
      "execution_count": 53,
      "outputs": [
        {
          "output_type": "display_data",
          "data": {
            "text/html": [
              "<html>\n",
              "<head><meta charset=\"utf-8\" /></head>\n",
              "<body>\n",
              "    <div>            <script src=\"https://cdnjs.cloudflare.com/ajax/libs/mathjax/2.7.5/MathJax.js?config=TeX-AMS-MML_SVG\"></script><script type=\"text/javascript\">if (window.MathJax && window.MathJax.Hub && window.MathJax.Hub.Config) {window.MathJax.Hub.Config({SVG: {font: \"STIX-Web\"}});}</script>                <script type=\"text/javascript\">window.PlotlyConfig = {MathJaxConfig: 'local'};</script>\n",
              "        <script charset=\"utf-8\" src=\"https://cdn.plot.ly/plotly-2.24.1.min.js\"></script>                <div id=\"313d4efc-6ebc-46d6-8a68-870a54ada9c6\" class=\"plotly-graph-div\" style=\"height:525px; width:100%;\"></div>            <script type=\"text/javascript\">                                    window.PLOTLYENV=window.PLOTLYENV || {};                                    if (document.getElementById(\"313d4efc-6ebc-46d6-8a68-870a54ada9c6\")) {                    Plotly.newPlot(                        \"313d4efc-6ebc-46d6-8a68-870a54ada9c6\",                        [{\"mode\":\"lines\",\"name\":\"0\",\"x\":[\"0_pre\",\"1_pre\",\"final_post\"],\"y\":[-0.1272260546684265,1.0824017524719238,21.79908561706543],\"type\":\"scatter\"},{\"mode\":\"lines\",\"name\":\"1\",\"x\":[\"0_pre\",\"1_pre\",\"final_post\"],\"y\":[-0.03766836225986481,0.9996765851974487,17.628005981445312],\"type\":\"scatter\"},{\"mode\":\"lines\",\"name\":\"2\",\"x\":[\"0_pre\",\"1_pre\",\"final_post\"],\"y\":[-0.0368628166615963,1.0112338066101074,22.28435516357422],\"type\":\"scatter\"}],                        {\"title\":{\"text\":\"Logit lens: prefix contribution to correct logit dirs (all 3 predictions)\"},\"template\":{\"data\":{\"histogram2dcontour\":[{\"type\":\"histogram2dcontour\",\"colorbar\":{\"outlinewidth\":0,\"ticks\":\"\"},\"colorscale\":[[0.0,\"#0d0887\"],[0.1111111111111111,\"#46039f\"],[0.2222222222222222,\"#7201a8\"],[0.3333333333333333,\"#9c179e\"],[0.4444444444444444,\"#bd3786\"],[0.5555555555555556,\"#d8576b\"],[0.6666666666666666,\"#ed7953\"],[0.7777777777777778,\"#fb9f3a\"],[0.8888888888888888,\"#fdca26\"],[1.0,\"#f0f921\"]]}],\"choropleth\":[{\"type\":\"choropleth\",\"colorbar\":{\"outlinewidth\":0,\"ticks\":\"\"}}],\"histogram2d\":[{\"type\":\"histogram2d\",\"colorbar\":{\"outlinewidth\":0,\"ticks\":\"\"},\"colorscale\":[[0.0,\"#0d0887\"],[0.1111111111111111,\"#46039f\"],[0.2222222222222222,\"#7201a8\"],[0.3333333333333333,\"#9c179e\"],[0.4444444444444444,\"#bd3786\"],[0.5555555555555556,\"#d8576b\"],[0.6666666666666666,\"#ed7953\"],[0.7777777777777778,\"#fb9f3a\"],[0.8888888888888888,\"#fdca26\"],[1.0,\"#f0f921\"]]}],\"heatmap\":[{\"type\":\"heatmap\",\"colorbar\":{\"outlinewidth\":0,\"ticks\":\"\"},\"colorscale\":[[0.0,\"#0d0887\"],[0.1111111111111111,\"#46039f\"],[0.2222222222222222,\"#7201a8\"],[0.3333333333333333,\"#9c179e\"],[0.4444444444444444,\"#bd3786\"],[0.5555555555555556,\"#d8576b\"],[0.6666666666666666,\"#ed7953\"],[0.7777777777777778,\"#fb9f3a\"],[0.8888888888888888,\"#fdca26\"],[1.0,\"#f0f921\"]]}],\"heatmapgl\":[{\"type\":\"heatmapgl\",\"colorbar\":{\"outlinewidth\":0,\"ticks\":\"\"},\"colorscale\":[[0.0,\"#0d0887\"],[0.1111111111111111,\"#46039f\"],[0.2222222222222222,\"#7201a8\"],[0.3333333333333333,\"#9c179e\"],[0.4444444444444444,\"#bd3786\"],[0.5555555555555556,\"#d8576b\"],[0.6666666666666666,\"#ed7953\"],[0.7777777777777778,\"#fb9f3a\"],[0.8888888888888888,\"#fdca26\"],[1.0,\"#f0f921\"]]}],\"contourcarpet\":[{\"type\":\"contourcarpet\",\"colorbar\":{\"outlinewidth\":0,\"ticks\":\"\"}}],\"contour\":[{\"type\":\"contour\",\"colorbar\":{\"outlinewidth\":0,\"ticks\":\"\"},\"colorscale\":[[0.0,\"#0d0887\"],[0.1111111111111111,\"#46039f\"],[0.2222222222222222,\"#7201a8\"],[0.3333333333333333,\"#9c179e\"],[0.4444444444444444,\"#bd3786\"],[0.5555555555555556,\"#d8576b\"],[0.6666666666666666,\"#ed7953\"],[0.7777777777777778,\"#fb9f3a\"],[0.8888888888888888,\"#fdca26\"],[1.0,\"#f0f921\"]]}],\"surface\":[{\"type\":\"surface\",\"colorbar\":{\"outlinewidth\":0,\"ticks\":\"\"},\"colorscale\":[[0.0,\"#0d0887\"],[0.1111111111111111,\"#46039f\"],[0.2222222222222222,\"#7201a8\"],[0.3333333333333333,\"#9c179e\"],[0.4444444444444444,\"#bd3786\"],[0.5555555555555556,\"#d8576b\"],[0.6666666666666666,\"#ed7953\"],[0.7777777777777778,\"#fb9f3a\"],[0.8888888888888888,\"#fdca26\"],[1.0,\"#f0f921\"]]}],\"mesh3d\":[{\"type\":\"mesh3d\",\"colorbar\":{\"outlinewidth\":0,\"ticks\":\"\"}}],\"scatter\":[{\"fillpattern\":{\"fillmode\":\"overlay\",\"size\":10,\"solidity\":0.2},\"type\":\"scatter\"}],\"parcoords\":[{\"type\":\"parcoords\",\"line\":{\"colorbar\":{\"outlinewidth\":0,\"ticks\":\"\"}}}],\"scatterpolargl\":[{\"type\":\"scatterpolargl\",\"marker\":{\"colorbar\":{\"outlinewidth\":0,\"ticks\":\"\"}}}],\"bar\":[{\"error_x\":{\"color\":\"#2a3f5f\"},\"error_y\":{\"color\":\"#2a3f5f\"},\"marker\":{\"line\":{\"color\":\"#E5ECF6\",\"width\":0.5},\"pattern\":{\"fillmode\":\"overlay\",\"size\":10,\"solidity\":0.2}},\"type\":\"bar\"}],\"scattergeo\":[{\"type\":\"scattergeo\",\"marker\":{\"colorbar\":{\"outlinewidth\":0,\"ticks\":\"\"}}}],\"scatterpolar\":[{\"type\":\"scatterpolar\",\"marker\":{\"colorbar\":{\"outlinewidth\":0,\"ticks\":\"\"}}}],\"histogram\":[{\"marker\":{\"pattern\":{\"fillmode\":\"overlay\",\"size\":10,\"solidity\":0.2}},\"type\":\"histogram\"}],\"scattergl\":[{\"type\":\"scattergl\",\"marker\":{\"colorbar\":{\"outlinewidth\":0,\"ticks\":\"\"}}}],\"scatter3d\":[{\"type\":\"scatter3d\",\"line\":{\"colorbar\":{\"outlinewidth\":0,\"ticks\":\"\"}},\"marker\":{\"colorbar\":{\"outlinewidth\":0,\"ticks\":\"\"}}}],\"scattermapbox\":[{\"type\":\"scattermapbox\",\"marker\":{\"colorbar\":{\"outlinewidth\":0,\"ticks\":\"\"}}}],\"scatterternary\":[{\"type\":\"scatterternary\",\"marker\":{\"colorbar\":{\"outlinewidth\":0,\"ticks\":\"\"}}}],\"scattercarpet\":[{\"type\":\"scattercarpet\",\"marker\":{\"colorbar\":{\"outlinewidth\":0,\"ticks\":\"\"}}}],\"carpet\":[{\"aaxis\":{\"endlinecolor\":\"#2a3f5f\",\"gridcolor\":\"white\",\"linecolor\":\"white\",\"minorgridcolor\":\"white\",\"startlinecolor\":\"#2a3f5f\"},\"baxis\":{\"endlinecolor\":\"#2a3f5f\",\"gridcolor\":\"white\",\"linecolor\":\"white\",\"minorgridcolor\":\"white\",\"startlinecolor\":\"#2a3f5f\"},\"type\":\"carpet\"}],\"table\":[{\"cells\":{\"fill\":{\"color\":\"#EBF0F8\"},\"line\":{\"color\":\"white\"}},\"header\":{\"fill\":{\"color\":\"#C8D4E3\"},\"line\":{\"color\":\"white\"}},\"type\":\"table\"}],\"barpolar\":[{\"marker\":{\"line\":{\"color\":\"#E5ECF6\",\"width\":0.5},\"pattern\":{\"fillmode\":\"overlay\",\"size\":10,\"solidity\":0.2}},\"type\":\"barpolar\"}],\"pie\":[{\"automargin\":true,\"type\":\"pie\"}]},\"layout\":{\"autotypenumbers\":\"strict\",\"colorway\":[\"#636efa\",\"#EF553B\",\"#00cc96\",\"#ab63fa\",\"#FFA15A\",\"#19d3f3\",\"#FF6692\",\"#B6E880\",\"#FF97FF\",\"#FECB52\"],\"font\":{\"color\":\"#2a3f5f\"},\"hovermode\":\"closest\",\"hoverlabel\":{\"align\":\"left\"},\"paper_bgcolor\":\"white\",\"plot_bgcolor\":\"#E5ECF6\",\"polar\":{\"bgcolor\":\"#E5ECF6\",\"angularaxis\":{\"gridcolor\":\"white\",\"linecolor\":\"white\",\"ticks\":\"\"},\"radialaxis\":{\"gridcolor\":\"white\",\"linecolor\":\"white\",\"ticks\":\"\"}},\"ternary\":{\"bgcolor\":\"#E5ECF6\",\"aaxis\":{\"gridcolor\":\"white\",\"linecolor\":\"white\",\"ticks\":\"\"},\"baxis\":{\"gridcolor\":\"white\",\"linecolor\":\"white\",\"ticks\":\"\"},\"caxis\":{\"gridcolor\":\"white\",\"linecolor\":\"white\",\"ticks\":\"\"}},\"coloraxis\":{\"colorbar\":{\"outlinewidth\":0,\"ticks\":\"\"}},\"colorscale\":{\"sequential\":[[0.0,\"#0d0887\"],[0.1111111111111111,\"#46039f\"],[0.2222222222222222,\"#7201a8\"],[0.3333333333333333,\"#9c179e\"],[0.4444444444444444,\"#bd3786\"],[0.5555555555555556,\"#d8576b\"],[0.6666666666666666,\"#ed7953\"],[0.7777777777777778,\"#fb9f3a\"],[0.8888888888888888,\"#fdca26\"],[1.0,\"#f0f921\"]],\"sequentialminus\":[[0.0,\"#0d0887\"],[0.1111111111111111,\"#46039f\"],[0.2222222222222222,\"#7201a8\"],[0.3333333333333333,\"#9c179e\"],[0.4444444444444444,\"#bd3786\"],[0.5555555555555556,\"#d8576b\"],[0.6666666666666666,\"#ed7953\"],[0.7777777777777778,\"#fb9f3a\"],[0.8888888888888888,\"#fdca26\"],[1.0,\"#f0f921\"]],\"diverging\":[[0,\"#8e0152\"],[0.1,\"#c51b7d\"],[0.2,\"#de77ae\"],[0.3,\"#f1b6da\"],[0.4,\"#fde0ef\"],[0.5,\"#f7f7f7\"],[0.6,\"#e6f5d0\"],[0.7,\"#b8e186\"],[0.8,\"#7fbc41\"],[0.9,\"#4d9221\"],[1,\"#276419\"]]},\"xaxis\":{\"gridcolor\":\"white\",\"linecolor\":\"white\",\"ticks\":\"\",\"title\":{\"standoff\":15},\"zerolinecolor\":\"white\",\"automargin\":true,\"zerolinewidth\":2},\"yaxis\":{\"gridcolor\":\"white\",\"linecolor\":\"white\",\"ticks\":\"\",\"title\":{\"standoff\":15},\"zerolinecolor\":\"white\",\"automargin\":true,\"zerolinewidth\":2},\"scene\":{\"xaxis\":{\"backgroundcolor\":\"#E5ECF6\",\"gridcolor\":\"white\",\"linecolor\":\"white\",\"showbackground\":true,\"ticks\":\"\",\"zerolinecolor\":\"white\",\"gridwidth\":2},\"yaxis\":{\"backgroundcolor\":\"#E5ECF6\",\"gridcolor\":\"white\",\"linecolor\":\"white\",\"showbackground\":true,\"ticks\":\"\",\"zerolinecolor\":\"white\",\"gridwidth\":2},\"zaxis\":{\"backgroundcolor\":\"#E5ECF6\",\"gridcolor\":\"white\",\"linecolor\":\"white\",\"showbackground\":true,\"ticks\":\"\",\"zerolinecolor\":\"white\",\"gridwidth\":2}},\"shapedefaults\":{\"line\":{\"color\":\"#2a3f5f\"}},\"annotationdefaults\":{\"arrowcolor\":\"#2a3f5f\",\"arrowhead\":0,\"arrowwidth\":1},\"geo\":{\"bgcolor\":\"white\",\"landcolor\":\"#E5ECF6\",\"subunitcolor\":\"white\",\"showland\":true,\"showlakes\":true,\"lakecolor\":\"white\"},\"title\":{\"x\":0.05},\"mapbox\":{\"style\":\"light\"}}},\"xaxis\":{\"title\":{\"text\":\"Layer\"}},\"yaxis\":{\"title\":{\"text\":\"Contribution\"}}},                        {\"responsive\": true}                    ).then(function(){\n",
              "                            \n",
              "var gd = document.getElementById('313d4efc-6ebc-46d6-8a68-870a54ada9c6');\n",
              "var x = new MutationObserver(function (mutations, observer) {{\n",
              "        var display = window.getComputedStyle(gd).display;\n",
              "        if (!display || display === 'none') {{\n",
              "            console.log([gd, 'removed!']);\n",
              "            Plotly.purge(gd);\n",
              "            observer.disconnect();\n",
              "        }}\n",
              "}});\n",
              "\n",
              "// Listen for the removal of the full notebook cells\n",
              "var notebookContainer = gd.closest('#notebook-container');\n",
              "if (notebookContainer) {{\n",
              "    x.observe(notebookContainer, {childList: true});\n",
              "}}\n",
              "\n",
              "// Listen for the clearing of the current output cell\n",
              "var outputEl = gd.closest('.output');\n",
              "if (outputEl) {{\n",
              "    x.observe(outputEl, {childList: true});\n",
              "}}\n",
              "\n",
              "                        })                };                            </script>        </div>\n",
              "</body>\n",
              "</html>"
            ]
          },
          "metadata": {}
        }
      ]
    },
    {
      "cell_type": "code",
      "source": [
        "decomposed_resid_stack, labels = cache.decompose_resid(layer=-1, pos_slice=(first_pred_pos,-1), return_labels=True)\n",
        "print(decomposed_resid_stack.shape)\n",
        "print(labels)"
      ],
      "metadata": {
        "colab": {
          "base_uri": "https://localhost:8080/"
        },
        "id": "9RfcD8e3PWaK",
        "outputId": "70886af4-203f-499f-a543-93dd0bad29ce"
      },
      "execution_count": 54,
      "outputs": [
        {
          "output_type": "stream",
          "name": "stdout",
          "text": [
            "torch.Size([4, 256, 3, 128])\n",
            "['embed', 'pos_embed', '0_attn_out', '1_attn_out']\n"
          ]
        }
      ]
    },
    {
      "cell_type": "code",
      "source": [
        "decomposed_contrib = einops.einsum(\n",
        "    decomposed_resid_stack, logit_dirs,\n",
        "    \"... batch pos d_model, batch pos d_model -> pos ...\"\n",
        ") / logit_dirs.shape[0]\n",
        "\n",
        "lines(\n",
        "    decomposed_contrib,\n",
        "    title=\"Per component contribution to correct logit dirs (all 3 predictions)\",\n",
        "    xaxis=\"Layer\", yaxis=\"Contribution\",\n",
        "    x=labels\n",
        ")"
      ],
      "metadata": {
        "colab": {
          "base_uri": "https://localhost:8080/",
          "height": 542
        },
        "id": "f1h65VwNPYKY",
        "outputId": "d6f30d68-3161-4e71-c0ad-9f8a3aa2c642"
      },
      "execution_count": 55,
      "outputs": [
        {
          "output_type": "display_data",
          "data": {
            "text/html": [
              "<html>\n",
              "<head><meta charset=\"utf-8\" /></head>\n",
              "<body>\n",
              "    <div>            <script src=\"https://cdnjs.cloudflare.com/ajax/libs/mathjax/2.7.5/MathJax.js?config=TeX-AMS-MML_SVG\"></script><script type=\"text/javascript\">if (window.MathJax && window.MathJax.Hub && window.MathJax.Hub.Config) {window.MathJax.Hub.Config({SVG: {font: \"STIX-Web\"}});}</script>                <script type=\"text/javascript\">window.PlotlyConfig = {MathJaxConfig: 'local'};</script>\n",
              "        <script charset=\"utf-8\" src=\"https://cdn.plot.ly/plotly-2.24.1.min.js\"></script>                <div id=\"d716ae4a-d80c-4362-90f4-1bd401c88e6e\" class=\"plotly-graph-div\" style=\"height:525px; width:100%;\"></div>            <script type=\"text/javascript\">                                    window.PLOTLYENV=window.PLOTLYENV || {};                                    if (document.getElementById(\"d716ae4a-d80c-4362-90f4-1bd401c88e6e\")) {                    Plotly.newPlot(                        \"d716ae4a-d80c-4362-90f4-1bd401c88e6e\",                        [{\"mode\":\"lines\",\"name\":\"0\",\"x\":[\"embed\",\"pos_embed\",\"0_attn_out\",\"1_attn_out\"],\"y\":[-0.1272260546684265,-0.07242758572101593,1.209627628326416,20.71668243408203],\"type\":\"scatter\"},{\"mode\":\"lines\",\"name\":\"1\",\"x\":[\"embed\",\"pos_embed\",\"0_attn_out\",\"1_attn_out\"],\"y\":[-0.03766836225986481,0.2576220631599426,1.0373449325561523,16.628332138061523],\"type\":\"scatter\"},{\"mode\":\"lines\",\"name\":\"2\",\"x\":[\"embed\",\"pos_embed\",\"0_attn_out\",\"1_attn_out\"],\"y\":[-0.0368628166615963,-0.1280563771724701,1.0480966567993164,21.273122787475586],\"type\":\"scatter\"}],                        {\"title\":{\"text\":\"Per component contribution to correct logit dirs (all 3 predictions)\"},\"template\":{\"data\":{\"histogram2dcontour\":[{\"type\":\"histogram2dcontour\",\"colorbar\":{\"outlinewidth\":0,\"ticks\":\"\"},\"colorscale\":[[0.0,\"#0d0887\"],[0.1111111111111111,\"#46039f\"],[0.2222222222222222,\"#7201a8\"],[0.3333333333333333,\"#9c179e\"],[0.4444444444444444,\"#bd3786\"],[0.5555555555555556,\"#d8576b\"],[0.6666666666666666,\"#ed7953\"],[0.7777777777777778,\"#fb9f3a\"],[0.8888888888888888,\"#fdca26\"],[1.0,\"#f0f921\"]]}],\"choropleth\":[{\"type\":\"choropleth\",\"colorbar\":{\"outlinewidth\":0,\"ticks\":\"\"}}],\"histogram2d\":[{\"type\":\"histogram2d\",\"colorbar\":{\"outlinewidth\":0,\"ticks\":\"\"},\"colorscale\":[[0.0,\"#0d0887\"],[0.1111111111111111,\"#46039f\"],[0.2222222222222222,\"#7201a8\"],[0.3333333333333333,\"#9c179e\"],[0.4444444444444444,\"#bd3786\"],[0.5555555555555556,\"#d8576b\"],[0.6666666666666666,\"#ed7953\"],[0.7777777777777778,\"#fb9f3a\"],[0.8888888888888888,\"#fdca26\"],[1.0,\"#f0f921\"]]}],\"heatmap\":[{\"type\":\"heatmap\",\"colorbar\":{\"outlinewidth\":0,\"ticks\":\"\"},\"colorscale\":[[0.0,\"#0d0887\"],[0.1111111111111111,\"#46039f\"],[0.2222222222222222,\"#7201a8\"],[0.3333333333333333,\"#9c179e\"],[0.4444444444444444,\"#bd3786\"],[0.5555555555555556,\"#d8576b\"],[0.6666666666666666,\"#ed7953\"],[0.7777777777777778,\"#fb9f3a\"],[0.8888888888888888,\"#fdca26\"],[1.0,\"#f0f921\"]]}],\"heatmapgl\":[{\"type\":\"heatmapgl\",\"colorbar\":{\"outlinewidth\":0,\"ticks\":\"\"},\"colorscale\":[[0.0,\"#0d0887\"],[0.1111111111111111,\"#46039f\"],[0.2222222222222222,\"#7201a8\"],[0.3333333333333333,\"#9c179e\"],[0.4444444444444444,\"#bd3786\"],[0.5555555555555556,\"#d8576b\"],[0.6666666666666666,\"#ed7953\"],[0.7777777777777778,\"#fb9f3a\"],[0.8888888888888888,\"#fdca26\"],[1.0,\"#f0f921\"]]}],\"contourcarpet\":[{\"type\":\"contourcarpet\",\"colorbar\":{\"outlinewidth\":0,\"ticks\":\"\"}}],\"contour\":[{\"type\":\"contour\",\"colorbar\":{\"outlinewidth\":0,\"ticks\":\"\"},\"colorscale\":[[0.0,\"#0d0887\"],[0.1111111111111111,\"#46039f\"],[0.2222222222222222,\"#7201a8\"],[0.3333333333333333,\"#9c179e\"],[0.4444444444444444,\"#bd3786\"],[0.5555555555555556,\"#d8576b\"],[0.6666666666666666,\"#ed7953\"],[0.7777777777777778,\"#fb9f3a\"],[0.8888888888888888,\"#fdca26\"],[1.0,\"#f0f921\"]]}],\"surface\":[{\"type\":\"surface\",\"colorbar\":{\"outlinewidth\":0,\"ticks\":\"\"},\"colorscale\":[[0.0,\"#0d0887\"],[0.1111111111111111,\"#46039f\"],[0.2222222222222222,\"#7201a8\"],[0.3333333333333333,\"#9c179e\"],[0.4444444444444444,\"#bd3786\"],[0.5555555555555556,\"#d8576b\"],[0.6666666666666666,\"#ed7953\"],[0.7777777777777778,\"#fb9f3a\"],[0.8888888888888888,\"#fdca26\"],[1.0,\"#f0f921\"]]}],\"mesh3d\":[{\"type\":\"mesh3d\",\"colorbar\":{\"outlinewidth\":0,\"ticks\":\"\"}}],\"scatter\":[{\"fillpattern\":{\"fillmode\":\"overlay\",\"size\":10,\"solidity\":0.2},\"type\":\"scatter\"}],\"parcoords\":[{\"type\":\"parcoords\",\"line\":{\"colorbar\":{\"outlinewidth\":0,\"ticks\":\"\"}}}],\"scatterpolargl\":[{\"type\":\"scatterpolargl\",\"marker\":{\"colorbar\":{\"outlinewidth\":0,\"ticks\":\"\"}}}],\"bar\":[{\"error_x\":{\"color\":\"#2a3f5f\"},\"error_y\":{\"color\":\"#2a3f5f\"},\"marker\":{\"line\":{\"color\":\"#E5ECF6\",\"width\":0.5},\"pattern\":{\"fillmode\":\"overlay\",\"size\":10,\"solidity\":0.2}},\"type\":\"bar\"}],\"scattergeo\":[{\"type\":\"scattergeo\",\"marker\":{\"colorbar\":{\"outlinewidth\":0,\"ticks\":\"\"}}}],\"scatterpolar\":[{\"type\":\"scatterpolar\",\"marker\":{\"colorbar\":{\"outlinewidth\":0,\"ticks\":\"\"}}}],\"histogram\":[{\"marker\":{\"pattern\":{\"fillmode\":\"overlay\",\"size\":10,\"solidity\":0.2}},\"type\":\"histogram\"}],\"scattergl\":[{\"type\":\"scattergl\",\"marker\":{\"colorbar\":{\"outlinewidth\":0,\"ticks\":\"\"}}}],\"scatter3d\":[{\"type\":\"scatter3d\",\"line\":{\"colorbar\":{\"outlinewidth\":0,\"ticks\":\"\"}},\"marker\":{\"colorbar\":{\"outlinewidth\":0,\"ticks\":\"\"}}}],\"scattermapbox\":[{\"type\":\"scattermapbox\",\"marker\":{\"colorbar\":{\"outlinewidth\":0,\"ticks\":\"\"}}}],\"scatterternary\":[{\"type\":\"scatterternary\",\"marker\":{\"colorbar\":{\"outlinewidth\":0,\"ticks\":\"\"}}}],\"scattercarpet\":[{\"type\":\"scattercarpet\",\"marker\":{\"colorbar\":{\"outlinewidth\":0,\"ticks\":\"\"}}}],\"carpet\":[{\"aaxis\":{\"endlinecolor\":\"#2a3f5f\",\"gridcolor\":\"white\",\"linecolor\":\"white\",\"minorgridcolor\":\"white\",\"startlinecolor\":\"#2a3f5f\"},\"baxis\":{\"endlinecolor\":\"#2a3f5f\",\"gridcolor\":\"white\",\"linecolor\":\"white\",\"minorgridcolor\":\"white\",\"startlinecolor\":\"#2a3f5f\"},\"type\":\"carpet\"}],\"table\":[{\"cells\":{\"fill\":{\"color\":\"#EBF0F8\"},\"line\":{\"color\":\"white\"}},\"header\":{\"fill\":{\"color\":\"#C8D4E3\"},\"line\":{\"color\":\"white\"}},\"type\":\"table\"}],\"barpolar\":[{\"marker\":{\"line\":{\"color\":\"#E5ECF6\",\"width\":0.5},\"pattern\":{\"fillmode\":\"overlay\",\"size\":10,\"solidity\":0.2}},\"type\":\"barpolar\"}],\"pie\":[{\"automargin\":true,\"type\":\"pie\"}]},\"layout\":{\"autotypenumbers\":\"strict\",\"colorway\":[\"#636efa\",\"#EF553B\",\"#00cc96\",\"#ab63fa\",\"#FFA15A\",\"#19d3f3\",\"#FF6692\",\"#B6E880\",\"#FF97FF\",\"#FECB52\"],\"font\":{\"color\":\"#2a3f5f\"},\"hovermode\":\"closest\",\"hoverlabel\":{\"align\":\"left\"},\"paper_bgcolor\":\"white\",\"plot_bgcolor\":\"#E5ECF6\",\"polar\":{\"bgcolor\":\"#E5ECF6\",\"angularaxis\":{\"gridcolor\":\"white\",\"linecolor\":\"white\",\"ticks\":\"\"},\"radialaxis\":{\"gridcolor\":\"white\",\"linecolor\":\"white\",\"ticks\":\"\"}},\"ternary\":{\"bgcolor\":\"#E5ECF6\",\"aaxis\":{\"gridcolor\":\"white\",\"linecolor\":\"white\",\"ticks\":\"\"},\"baxis\":{\"gridcolor\":\"white\",\"linecolor\":\"white\",\"ticks\":\"\"},\"caxis\":{\"gridcolor\":\"white\",\"linecolor\":\"white\",\"ticks\":\"\"}},\"coloraxis\":{\"colorbar\":{\"outlinewidth\":0,\"ticks\":\"\"}},\"colorscale\":{\"sequential\":[[0.0,\"#0d0887\"],[0.1111111111111111,\"#46039f\"],[0.2222222222222222,\"#7201a8\"],[0.3333333333333333,\"#9c179e\"],[0.4444444444444444,\"#bd3786\"],[0.5555555555555556,\"#d8576b\"],[0.6666666666666666,\"#ed7953\"],[0.7777777777777778,\"#fb9f3a\"],[0.8888888888888888,\"#fdca26\"],[1.0,\"#f0f921\"]],\"sequentialminus\":[[0.0,\"#0d0887\"],[0.1111111111111111,\"#46039f\"],[0.2222222222222222,\"#7201a8\"],[0.3333333333333333,\"#9c179e\"],[0.4444444444444444,\"#bd3786\"],[0.5555555555555556,\"#d8576b\"],[0.6666666666666666,\"#ed7953\"],[0.7777777777777778,\"#fb9f3a\"],[0.8888888888888888,\"#fdca26\"],[1.0,\"#f0f921\"]],\"diverging\":[[0,\"#8e0152\"],[0.1,\"#c51b7d\"],[0.2,\"#de77ae\"],[0.3,\"#f1b6da\"],[0.4,\"#fde0ef\"],[0.5,\"#f7f7f7\"],[0.6,\"#e6f5d0\"],[0.7,\"#b8e186\"],[0.8,\"#7fbc41\"],[0.9,\"#4d9221\"],[1,\"#276419\"]]},\"xaxis\":{\"gridcolor\":\"white\",\"linecolor\":\"white\",\"ticks\":\"\",\"title\":{\"standoff\":15},\"zerolinecolor\":\"white\",\"automargin\":true,\"zerolinewidth\":2},\"yaxis\":{\"gridcolor\":\"white\",\"linecolor\":\"white\",\"ticks\":\"\",\"title\":{\"standoff\":15},\"zerolinecolor\":\"white\",\"automargin\":true,\"zerolinewidth\":2},\"scene\":{\"xaxis\":{\"backgroundcolor\":\"#E5ECF6\",\"gridcolor\":\"white\",\"linecolor\":\"white\",\"showbackground\":true,\"ticks\":\"\",\"zerolinecolor\":\"white\",\"gridwidth\":2},\"yaxis\":{\"backgroundcolor\":\"#E5ECF6\",\"gridcolor\":\"white\",\"linecolor\":\"white\",\"showbackground\":true,\"ticks\":\"\",\"zerolinecolor\":\"white\",\"gridwidth\":2},\"zaxis\":{\"backgroundcolor\":\"#E5ECF6\",\"gridcolor\":\"white\",\"linecolor\":\"white\",\"showbackground\":true,\"ticks\":\"\",\"zerolinecolor\":\"white\",\"gridwidth\":2}},\"shapedefaults\":{\"line\":{\"color\":\"#2a3f5f\"}},\"annotationdefaults\":{\"arrowcolor\":\"#2a3f5f\",\"arrowhead\":0,\"arrowwidth\":1},\"geo\":{\"bgcolor\":\"white\",\"landcolor\":\"#E5ECF6\",\"subunitcolor\":\"white\",\"showland\":true,\"showlakes\":true,\"lakecolor\":\"white\"},\"title\":{\"x\":0.05},\"mapbox\":{\"style\":\"light\"}}},\"xaxis\":{\"title\":{\"text\":\"Layer\"}},\"yaxis\":{\"title\":{\"text\":\"Contribution\"}}},                        {\"responsive\": true}                    ).then(function(){\n",
              "                            \n",
              "var gd = document.getElementById('d716ae4a-d80c-4362-90f4-1bd401c88e6e');\n",
              "var x = new MutationObserver(function (mutations, observer) {{\n",
              "        var display = window.getComputedStyle(gd).display;\n",
              "        if (!display || display === 'none') {{\n",
              "            console.log([gd, 'removed!']);\n",
              "            Plotly.purge(gd);\n",
              "            observer.disconnect();\n",
              "        }}\n",
              "}});\n",
              "\n",
              "// Listen for the removal of the full notebook cells\n",
              "var notebookContainer = gd.closest('#notebook-container');\n",
              "if (notebookContainer) {{\n",
              "    x.observe(notebookContainer, {childList: true});\n",
              "}}\n",
              "\n",
              "// Listen for the clearing of the current output cell\n",
              "var outputEl = gd.closest('.output');\n",
              "if (outputEl) {{\n",
              "    x.observe(outputEl, {childList: true});\n",
              "}}\n",
              "\n",
              "                        })                };                            </script>        </div>\n",
              "</body>\n",
              "</html>"
            ]
          },
          "metadata": {}
        }
      ]
    },
    {
      "cell_type": "markdown",
      "source": [
        "We see that the direct logit attribution looks very similar for all predictions."
      ],
      "metadata": {
        "id": "SkLzPCBlozTN"
      }
    },
    {
      "cell_type": "code",
      "source": [
        "embed_both_heads_term = einops.einsum(\n",
        "    cache['pattern', 1], cache['pattern', 0], cache['embed'], model.OV[0,0].AB, model.OV[1, 0].AB,\n",
        "    \"batch n_heads pos1 pos2, batch n_heads pos2 pos3, batch pos3 d_model1, d_model1 d_model2, d_model2 d_model3 -> batch pos1 d_model3\"\n",
        ")\n",
        "\n",
        "embed_head_1_term = einops.einsum(\n",
        "    cache['pattern', 1], cache['embed'], model.OV[1, 0].AB,\n",
        "    \"batch n_heads q_pos k_pos, batch k_pos d_model1, d_model1 d_model2 -> batch q_pos d_model2\"\n",
        ")\n",
        "\n",
        "print(embed_both_heads_term.shape)\n",
        "print(embed_head_1_term.shape)\n",
        "\n",
        "assert torch.allclose(embed_both_heads_term  + embed_head_1_term , cache['attn_out', 1], atol=1e-3)"
      ],
      "metadata": {
        "colab": {
          "base_uri": "https://localhost:8080/"
        },
        "id": "1CXNwBvWPdNk",
        "outputId": "ee5a6aec-427d-4957-8308-02611f0adb47"
      },
      "execution_count": 56,
      "outputs": [
        {
          "output_type": "stream",
          "name": "stdout",
          "text": [
            "torch.Size([256, 11, 128])\n",
            "torch.Size([256, 11, 128])\n"
          ]
        }
      ]
    },
    {
      "cell_type": "code",
      "source": [
        "h1_stack = torch.stack([embed_both_heads_term, embed_head_1_term])\n",
        "h1_stack = h1_stack[:, :, first_pred_pos:-1, :]\n",
        "labels = [\"embed_both_heads_term\", \"embed_head_1_term\"]\n",
        "print(h1_stack.shape)\n",
        "print(labels)"
      ],
      "metadata": {
        "colab": {
          "base_uri": "https://localhost:8080/"
        },
        "id": "5X3iyUYNPrgg",
        "outputId": "0a32b663-17db-4f1b-dbb0-959858bf8907"
      },
      "execution_count": 57,
      "outputs": [
        {
          "output_type": "stream",
          "name": "stdout",
          "text": [
            "torch.Size([2, 256, 3, 128])\n",
            "['embed_both_heads_term', 'embed_head_1_term']\n"
          ]
        }
      ]
    },
    {
      "cell_type": "code",
      "source": [
        "h1_contrib = einops.einsum(\n",
        "    h1_stack, logit_dirs,\n",
        "    \"... batch pos d_model, batch pos d_model -> pos ...\"\n",
        ") / h1_stack.shape[1]\n",
        "\n",
        "lines(\n",
        "    h1_contrib,\n",
        "    title=\"1_attn_out decomposed logit contribution (all 3 predictions)\",\n",
        "    xaxis=\"Layer\", yaxis=\"Contribution\",\n",
        "    x=labels\n",
        ")"
      ],
      "metadata": {
        "colab": {
          "base_uri": "https://localhost:8080/",
          "height": 542
        },
        "id": "RS4h1truPxMy",
        "outputId": "e629fb45-f741-4e2f-a873-5f395e739455"
      },
      "execution_count": 58,
      "outputs": [
        {
          "output_type": "display_data",
          "data": {
            "text/html": [
              "<html>\n",
              "<head><meta charset=\"utf-8\" /></head>\n",
              "<body>\n",
              "    <div>            <script src=\"https://cdnjs.cloudflare.com/ajax/libs/mathjax/2.7.5/MathJax.js?config=TeX-AMS-MML_SVG\"></script><script type=\"text/javascript\">if (window.MathJax && window.MathJax.Hub && window.MathJax.Hub.Config) {window.MathJax.Hub.Config({SVG: {font: \"STIX-Web\"}});}</script>                <script type=\"text/javascript\">window.PlotlyConfig = {MathJaxConfig: 'local'};</script>\n",
              "        <script charset=\"utf-8\" src=\"https://cdn.plot.ly/plotly-2.24.1.min.js\"></script>                <div id=\"bcffbedb-e933-4eb7-930a-69e038ce24fa\" class=\"plotly-graph-div\" style=\"height:525px; width:100%;\"></div>            <script type=\"text/javascript\">                                    window.PLOTLYENV=window.PLOTLYENV || {};                                    if (document.getElementById(\"bcffbedb-e933-4eb7-930a-69e038ce24fa\")) {                    Plotly.newPlot(                        \"bcffbedb-e933-4eb7-930a-69e038ce24fa\",                        [{\"mode\":\"lines\",\"name\":\"0\",\"x\":[\"embed_both_heads_term\",\"embed_head_1_term\"],\"y\":[12.672805786132812,8.043879508972168],\"type\":\"scatter\"},{\"mode\":\"lines\",\"name\":\"1\",\"x\":[\"embed_both_heads_term\",\"embed_head_1_term\"],\"y\":[8.7255859375,7.902743816375732],\"type\":\"scatter\"},{\"mode\":\"lines\",\"name\":\"2\",\"x\":[\"embed_both_heads_term\",\"embed_head_1_term\"],\"y\":[13.164709091186523,8.10841178894043],\"type\":\"scatter\"}],                        {\"title\":{\"text\":\"1_attn_out decomposed logit contribution (all 3 predictions)\"},\"template\":{\"data\":{\"histogram2dcontour\":[{\"type\":\"histogram2dcontour\",\"colorbar\":{\"outlinewidth\":0,\"ticks\":\"\"},\"colorscale\":[[0.0,\"#0d0887\"],[0.1111111111111111,\"#46039f\"],[0.2222222222222222,\"#7201a8\"],[0.3333333333333333,\"#9c179e\"],[0.4444444444444444,\"#bd3786\"],[0.5555555555555556,\"#d8576b\"],[0.6666666666666666,\"#ed7953\"],[0.7777777777777778,\"#fb9f3a\"],[0.8888888888888888,\"#fdca26\"],[1.0,\"#f0f921\"]]}],\"choropleth\":[{\"type\":\"choropleth\",\"colorbar\":{\"outlinewidth\":0,\"ticks\":\"\"}}],\"histogram2d\":[{\"type\":\"histogram2d\",\"colorbar\":{\"outlinewidth\":0,\"ticks\":\"\"},\"colorscale\":[[0.0,\"#0d0887\"],[0.1111111111111111,\"#46039f\"],[0.2222222222222222,\"#7201a8\"],[0.3333333333333333,\"#9c179e\"],[0.4444444444444444,\"#bd3786\"],[0.5555555555555556,\"#d8576b\"],[0.6666666666666666,\"#ed7953\"],[0.7777777777777778,\"#fb9f3a\"],[0.8888888888888888,\"#fdca26\"],[1.0,\"#f0f921\"]]}],\"heatmap\":[{\"type\":\"heatmap\",\"colorbar\":{\"outlinewidth\":0,\"ticks\":\"\"},\"colorscale\":[[0.0,\"#0d0887\"],[0.1111111111111111,\"#46039f\"],[0.2222222222222222,\"#7201a8\"],[0.3333333333333333,\"#9c179e\"],[0.4444444444444444,\"#bd3786\"],[0.5555555555555556,\"#d8576b\"],[0.6666666666666666,\"#ed7953\"],[0.7777777777777778,\"#fb9f3a\"],[0.8888888888888888,\"#fdca26\"],[1.0,\"#f0f921\"]]}],\"heatmapgl\":[{\"type\":\"heatmapgl\",\"colorbar\":{\"outlinewidth\":0,\"ticks\":\"\"},\"colorscale\":[[0.0,\"#0d0887\"],[0.1111111111111111,\"#46039f\"],[0.2222222222222222,\"#7201a8\"],[0.3333333333333333,\"#9c179e\"],[0.4444444444444444,\"#bd3786\"],[0.5555555555555556,\"#d8576b\"],[0.6666666666666666,\"#ed7953\"],[0.7777777777777778,\"#fb9f3a\"],[0.8888888888888888,\"#fdca26\"],[1.0,\"#f0f921\"]]}],\"contourcarpet\":[{\"type\":\"contourcarpet\",\"colorbar\":{\"outlinewidth\":0,\"ticks\":\"\"}}],\"contour\":[{\"type\":\"contour\",\"colorbar\":{\"outlinewidth\":0,\"ticks\":\"\"},\"colorscale\":[[0.0,\"#0d0887\"],[0.1111111111111111,\"#46039f\"],[0.2222222222222222,\"#7201a8\"],[0.3333333333333333,\"#9c179e\"],[0.4444444444444444,\"#bd3786\"],[0.5555555555555556,\"#d8576b\"],[0.6666666666666666,\"#ed7953\"],[0.7777777777777778,\"#fb9f3a\"],[0.8888888888888888,\"#fdca26\"],[1.0,\"#f0f921\"]]}],\"surface\":[{\"type\":\"surface\",\"colorbar\":{\"outlinewidth\":0,\"ticks\":\"\"},\"colorscale\":[[0.0,\"#0d0887\"],[0.1111111111111111,\"#46039f\"],[0.2222222222222222,\"#7201a8\"],[0.3333333333333333,\"#9c179e\"],[0.4444444444444444,\"#bd3786\"],[0.5555555555555556,\"#d8576b\"],[0.6666666666666666,\"#ed7953\"],[0.7777777777777778,\"#fb9f3a\"],[0.8888888888888888,\"#fdca26\"],[1.0,\"#f0f921\"]]}],\"mesh3d\":[{\"type\":\"mesh3d\",\"colorbar\":{\"outlinewidth\":0,\"ticks\":\"\"}}],\"scatter\":[{\"fillpattern\":{\"fillmode\":\"overlay\",\"size\":10,\"solidity\":0.2},\"type\":\"scatter\"}],\"parcoords\":[{\"type\":\"parcoords\",\"line\":{\"colorbar\":{\"outlinewidth\":0,\"ticks\":\"\"}}}],\"scatterpolargl\":[{\"type\":\"scatterpolargl\",\"marker\":{\"colorbar\":{\"outlinewidth\":0,\"ticks\":\"\"}}}],\"bar\":[{\"error_x\":{\"color\":\"#2a3f5f\"},\"error_y\":{\"color\":\"#2a3f5f\"},\"marker\":{\"line\":{\"color\":\"#E5ECF6\",\"width\":0.5},\"pattern\":{\"fillmode\":\"overlay\",\"size\":10,\"solidity\":0.2}},\"type\":\"bar\"}],\"scattergeo\":[{\"type\":\"scattergeo\",\"marker\":{\"colorbar\":{\"outlinewidth\":0,\"ticks\":\"\"}}}],\"scatterpolar\":[{\"type\":\"scatterpolar\",\"marker\":{\"colorbar\":{\"outlinewidth\":0,\"ticks\":\"\"}}}],\"histogram\":[{\"marker\":{\"pattern\":{\"fillmode\":\"overlay\",\"size\":10,\"solidity\":0.2}},\"type\":\"histogram\"}],\"scattergl\":[{\"type\":\"scattergl\",\"marker\":{\"colorbar\":{\"outlinewidth\":0,\"ticks\":\"\"}}}],\"scatter3d\":[{\"type\":\"scatter3d\",\"line\":{\"colorbar\":{\"outlinewidth\":0,\"ticks\":\"\"}},\"marker\":{\"colorbar\":{\"outlinewidth\":0,\"ticks\":\"\"}}}],\"scattermapbox\":[{\"type\":\"scattermapbox\",\"marker\":{\"colorbar\":{\"outlinewidth\":0,\"ticks\":\"\"}}}],\"scatterternary\":[{\"type\":\"scatterternary\",\"marker\":{\"colorbar\":{\"outlinewidth\":0,\"ticks\":\"\"}}}],\"scattercarpet\":[{\"type\":\"scattercarpet\",\"marker\":{\"colorbar\":{\"outlinewidth\":0,\"ticks\":\"\"}}}],\"carpet\":[{\"aaxis\":{\"endlinecolor\":\"#2a3f5f\",\"gridcolor\":\"white\",\"linecolor\":\"white\",\"minorgridcolor\":\"white\",\"startlinecolor\":\"#2a3f5f\"},\"baxis\":{\"endlinecolor\":\"#2a3f5f\",\"gridcolor\":\"white\",\"linecolor\":\"white\",\"minorgridcolor\":\"white\",\"startlinecolor\":\"#2a3f5f\"},\"type\":\"carpet\"}],\"table\":[{\"cells\":{\"fill\":{\"color\":\"#EBF0F8\"},\"line\":{\"color\":\"white\"}},\"header\":{\"fill\":{\"color\":\"#C8D4E3\"},\"line\":{\"color\":\"white\"}},\"type\":\"table\"}],\"barpolar\":[{\"marker\":{\"line\":{\"color\":\"#E5ECF6\",\"width\":0.5},\"pattern\":{\"fillmode\":\"overlay\",\"size\":10,\"solidity\":0.2}},\"type\":\"barpolar\"}],\"pie\":[{\"automargin\":true,\"type\":\"pie\"}]},\"layout\":{\"autotypenumbers\":\"strict\",\"colorway\":[\"#636efa\",\"#EF553B\",\"#00cc96\",\"#ab63fa\",\"#FFA15A\",\"#19d3f3\",\"#FF6692\",\"#B6E880\",\"#FF97FF\",\"#FECB52\"],\"font\":{\"color\":\"#2a3f5f\"},\"hovermode\":\"closest\",\"hoverlabel\":{\"align\":\"left\"},\"paper_bgcolor\":\"white\",\"plot_bgcolor\":\"#E5ECF6\",\"polar\":{\"bgcolor\":\"#E5ECF6\",\"angularaxis\":{\"gridcolor\":\"white\",\"linecolor\":\"white\",\"ticks\":\"\"},\"radialaxis\":{\"gridcolor\":\"white\",\"linecolor\":\"white\",\"ticks\":\"\"}},\"ternary\":{\"bgcolor\":\"#E5ECF6\",\"aaxis\":{\"gridcolor\":\"white\",\"linecolor\":\"white\",\"ticks\":\"\"},\"baxis\":{\"gridcolor\":\"white\",\"linecolor\":\"white\",\"ticks\":\"\"},\"caxis\":{\"gridcolor\":\"white\",\"linecolor\":\"white\",\"ticks\":\"\"}},\"coloraxis\":{\"colorbar\":{\"outlinewidth\":0,\"ticks\":\"\"}},\"colorscale\":{\"sequential\":[[0.0,\"#0d0887\"],[0.1111111111111111,\"#46039f\"],[0.2222222222222222,\"#7201a8\"],[0.3333333333333333,\"#9c179e\"],[0.4444444444444444,\"#bd3786\"],[0.5555555555555556,\"#d8576b\"],[0.6666666666666666,\"#ed7953\"],[0.7777777777777778,\"#fb9f3a\"],[0.8888888888888888,\"#fdca26\"],[1.0,\"#f0f921\"]],\"sequentialminus\":[[0.0,\"#0d0887\"],[0.1111111111111111,\"#46039f\"],[0.2222222222222222,\"#7201a8\"],[0.3333333333333333,\"#9c179e\"],[0.4444444444444444,\"#bd3786\"],[0.5555555555555556,\"#d8576b\"],[0.6666666666666666,\"#ed7953\"],[0.7777777777777778,\"#fb9f3a\"],[0.8888888888888888,\"#fdca26\"],[1.0,\"#f0f921\"]],\"diverging\":[[0,\"#8e0152\"],[0.1,\"#c51b7d\"],[0.2,\"#de77ae\"],[0.3,\"#f1b6da\"],[0.4,\"#fde0ef\"],[0.5,\"#f7f7f7\"],[0.6,\"#e6f5d0\"],[0.7,\"#b8e186\"],[0.8,\"#7fbc41\"],[0.9,\"#4d9221\"],[1,\"#276419\"]]},\"xaxis\":{\"gridcolor\":\"white\",\"linecolor\":\"white\",\"ticks\":\"\",\"title\":{\"standoff\":15},\"zerolinecolor\":\"white\",\"automargin\":true,\"zerolinewidth\":2},\"yaxis\":{\"gridcolor\":\"white\",\"linecolor\":\"white\",\"ticks\":\"\",\"title\":{\"standoff\":15},\"zerolinecolor\":\"white\",\"automargin\":true,\"zerolinewidth\":2},\"scene\":{\"xaxis\":{\"backgroundcolor\":\"#E5ECF6\",\"gridcolor\":\"white\",\"linecolor\":\"white\",\"showbackground\":true,\"ticks\":\"\",\"zerolinecolor\":\"white\",\"gridwidth\":2},\"yaxis\":{\"backgroundcolor\":\"#E5ECF6\",\"gridcolor\":\"white\",\"linecolor\":\"white\",\"showbackground\":true,\"ticks\":\"\",\"zerolinecolor\":\"white\",\"gridwidth\":2},\"zaxis\":{\"backgroundcolor\":\"#E5ECF6\",\"gridcolor\":\"white\",\"linecolor\":\"white\",\"showbackground\":true,\"ticks\":\"\",\"zerolinecolor\":\"white\",\"gridwidth\":2}},\"shapedefaults\":{\"line\":{\"color\":\"#2a3f5f\"}},\"annotationdefaults\":{\"arrowcolor\":\"#2a3f5f\",\"arrowhead\":0,\"arrowwidth\":1},\"geo\":{\"bgcolor\":\"white\",\"landcolor\":\"#E5ECF6\",\"subunitcolor\":\"white\",\"showland\":true,\"showlakes\":true,\"lakecolor\":\"white\"},\"title\":{\"x\":0.05},\"mapbox\":{\"style\":\"light\"}}},\"xaxis\":{\"title\":{\"text\":\"Layer\"}},\"yaxis\":{\"title\":{\"text\":\"Contribution\"}}},                        {\"responsive\": true}                    ).then(function(){\n",
              "                            \n",
              "var gd = document.getElementById('bcffbedb-e933-4eb7-930a-69e038ce24fa');\n",
              "var x = new MutationObserver(function (mutations, observer) {{\n",
              "        var display = window.getComputedStyle(gd).display;\n",
              "        if (!display || display === 'none') {{\n",
              "            console.log([gd, 'removed!']);\n",
              "            Plotly.purge(gd);\n",
              "            observer.disconnect();\n",
              "        }}\n",
              "}});\n",
              "\n",
              "// Listen for the removal of the full notebook cells\n",
              "var notebookContainer = gd.closest('#notebook-container');\n",
              "if (notebookContainer) {{\n",
              "    x.observe(notebookContainer, {childList: true});\n",
              "}}\n",
              "\n",
              "// Listen for the clearing of the current output cell\n",
              "var outputEl = gd.closest('.output');\n",
              "if (outputEl) {{\n",
              "    x.observe(outputEl, {childList: true});\n",
              "}}\n",
              "\n",
              "                        })                };                            </script>        </div>\n",
              "</body>\n",
              "</html>"
            ]
          },
          "metadata": {}
        }
      ]
    },
    {
      "cell_type": "markdown",
      "source": [
        "We can see that the prediction corresponding to the array update (1) relies more on the k-comp circuit. But both paths are important for all 3 predictions."
      ],
      "metadata": {
        "id": "nrdBuPWsQhXX"
      }
    },
    {
      "cell_type": "markdown",
      "source": [
        "# Summary"
      ],
      "metadata": {
        "id": "x8tk2DWvRnPU"
      }
    },
    {
      "cell_type": "markdown",
      "source": [
        "We found that a 2L, 1H attn-only transformer with shortformer positional embeddings and no biases and layer norms can learn to update fixed-length array indices with a combination of K-composition and V-composition.\n",
        "\n",
        "\n",
        "The lines of evidence we used:\n",
        "1. Direct logit attribution showed that the output of attn head 1.0 was the most important. More refined direct logit attribution also showed that both terms corresponding to the paths through 1.0 and both heads were very important.\n",
        "2. Empirically both 1.0 attn pattern A^1.0 and the virtual attn pattern A^1.0A^0.0 showed that the prediction positions attended strongly to the correct answer.\n",
        "3. We showed that both OV circuits $W_EW_{OV}^{1.0}W_U$ and $W_EW_{OV}^{0.0}W_{OV}^{1.0}W_U$ clearly copied.\n",
        "4. Activation patching showed that patching in the key for the correct answer token fully recovered performance, suggesting K-composition.\n",
        "5. We read off the K-comp algorithm from QK circuit weights."
      ],
      "metadata": {
        "id": "YTcdmr11RoTO"
      }
    },
    {
      "cell_type": "markdown",
      "source": [
        "## General techniques you can apply to other problems"
      ],
      "metadata": {
        "id": "X3AP2rqoTS-T"
      }
    },
    {
      "cell_type": "markdown",
      "source": [
        "* Direct logit attribution\n",
        "* Staring at attention patterns\n",
        "* Activation patching\n",
        "* Multiplying out QK / OV circuits"
      ],
      "metadata": {
        "id": "k1smaHNhTVLD"
      }
    }
  ]
}