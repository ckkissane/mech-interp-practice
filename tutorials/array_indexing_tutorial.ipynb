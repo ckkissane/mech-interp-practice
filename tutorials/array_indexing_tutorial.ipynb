{
  "nbformat": 4,
  "nbformat_minor": 0,
  "metadata": {
    "colab": {
      "provenance": [],
      "toc_visible": true,
      "collapsed_sections": [
        "JeENCT8b1kAv"
      ],
      "machine_shape": "hm",
      "gpuType": "A100",
      "authorship_tag": "ABX9TyME85UdKp54SAkeT+36bA+a"
    },
    "kernelspec": {
      "name": "python3",
      "display_name": "Python 3"
    },
    "language_info": {
      "name": "python"
    },
    "accelerator": "GPU",
    "widgets": {
      "application/vnd.jupyter.widget-state+json": {
        "3f57e16d0c004a9daadb7b13521eeb6a": {
          "model_module": "@jupyter-widgets/controls",
          "model_name": "HBoxModel",
          "model_module_version": "1.5.0",
          "state": {
            "_dom_classes": [],
            "_model_module": "@jupyter-widgets/controls",
            "_model_module_version": "1.5.0",
            "_model_name": "HBoxModel",
            "_view_count": null,
            "_view_module": "@jupyter-widgets/controls",
            "_view_module_version": "1.5.0",
            "_view_name": "HBoxView",
            "box_style": "",
            "children": [
              "IPY_MODEL_92faf5ca7fd24ec4bb7353a4bd23379e",
              "IPY_MODEL_cfc15eb72324474185441b9d3520d7ab",
              "IPY_MODEL_8078ddfa36744c2ea1148f4df0f45756"
            ],
            "layout": "IPY_MODEL_af5a4ad337ee4a269a99c45565b703bb"
          }
        },
        "92faf5ca7fd24ec4bb7353a4bd23379e": {
          "model_module": "@jupyter-widgets/controls",
          "model_name": "HTMLModel",
          "model_module_version": "1.5.0",
          "state": {
            "_dom_classes": [],
            "_model_module": "@jupyter-widgets/controls",
            "_model_module_version": "1.5.0",
            "_model_name": "HTMLModel",
            "_view_count": null,
            "_view_module": "@jupyter-widgets/controls",
            "_view_module_version": "1.5.0",
            "_view_name": "HTMLView",
            "description": "",
            "description_tooltip": null,
            "layout": "IPY_MODEL_3d008270321743ef921df5fbfb8caa00",
            "placeholder": "​",
            "style": "IPY_MODEL_fb906fb981ed4ca4adb71557ea853ffe",
            "value": "100%"
          }
        },
        "cfc15eb72324474185441b9d3520d7ab": {
          "model_module": "@jupyter-widgets/controls",
          "model_name": "FloatProgressModel",
          "model_module_version": "1.5.0",
          "state": {
            "_dom_classes": [],
            "_model_module": "@jupyter-widgets/controls",
            "_model_module_version": "1.5.0",
            "_model_name": "FloatProgressModel",
            "_view_count": null,
            "_view_module": "@jupyter-widgets/controls",
            "_view_module_version": "1.5.0",
            "_view_name": "ProgressView",
            "bar_style": "success",
            "description": "",
            "description_tooltip": null,
            "layout": "IPY_MODEL_db082a545f79435ea068dc5acbf6bc62",
            "max": 1000,
            "min": 0,
            "orientation": "horizontal",
            "style": "IPY_MODEL_7d42114491c24ff19d79a06ca9462c2e",
            "value": 1000
          }
        },
        "8078ddfa36744c2ea1148f4df0f45756": {
          "model_module": "@jupyter-widgets/controls",
          "model_name": "HTMLModel",
          "model_module_version": "1.5.0",
          "state": {
            "_dom_classes": [],
            "_model_module": "@jupyter-widgets/controls",
            "_model_module_version": "1.5.0",
            "_model_name": "HTMLModel",
            "_view_count": null,
            "_view_module": "@jupyter-widgets/controls",
            "_view_module_version": "1.5.0",
            "_view_name": "HTMLView",
            "description": "",
            "description_tooltip": null,
            "layout": "IPY_MODEL_c1f5efd6ff8e4b6f8477b06535b9a924",
            "placeholder": "​",
            "style": "IPY_MODEL_26a0c880471f49e8b717b7df0233ccb3",
            "value": " 1000/1000 [00:06&lt;00:00, 126.58it/s]"
          }
        },
        "af5a4ad337ee4a269a99c45565b703bb": {
          "model_module": "@jupyter-widgets/base",
          "model_name": "LayoutModel",
          "model_module_version": "1.2.0",
          "state": {
            "_model_module": "@jupyter-widgets/base",
            "_model_module_version": "1.2.0",
            "_model_name": "LayoutModel",
            "_view_count": null,
            "_view_module": "@jupyter-widgets/base",
            "_view_module_version": "1.2.0",
            "_view_name": "LayoutView",
            "align_content": null,
            "align_items": null,
            "align_self": null,
            "border": null,
            "bottom": null,
            "display": null,
            "flex": null,
            "flex_flow": null,
            "grid_area": null,
            "grid_auto_columns": null,
            "grid_auto_flow": null,
            "grid_auto_rows": null,
            "grid_column": null,
            "grid_gap": null,
            "grid_row": null,
            "grid_template_areas": null,
            "grid_template_columns": null,
            "grid_template_rows": null,
            "height": null,
            "justify_content": null,
            "justify_items": null,
            "left": null,
            "margin": null,
            "max_height": null,
            "max_width": null,
            "min_height": null,
            "min_width": null,
            "object_fit": null,
            "object_position": null,
            "order": null,
            "overflow": null,
            "overflow_x": null,
            "overflow_y": null,
            "padding": null,
            "right": null,
            "top": null,
            "visibility": null,
            "width": null
          }
        },
        "3d008270321743ef921df5fbfb8caa00": {
          "model_module": "@jupyter-widgets/base",
          "model_name": "LayoutModel",
          "model_module_version": "1.2.0",
          "state": {
            "_model_module": "@jupyter-widgets/base",
            "_model_module_version": "1.2.0",
            "_model_name": "LayoutModel",
            "_view_count": null,
            "_view_module": "@jupyter-widgets/base",
            "_view_module_version": "1.2.0",
            "_view_name": "LayoutView",
            "align_content": null,
            "align_items": null,
            "align_self": null,
            "border": null,
            "bottom": null,
            "display": null,
            "flex": null,
            "flex_flow": null,
            "grid_area": null,
            "grid_auto_columns": null,
            "grid_auto_flow": null,
            "grid_auto_rows": null,
            "grid_column": null,
            "grid_gap": null,
            "grid_row": null,
            "grid_template_areas": null,
            "grid_template_columns": null,
            "grid_template_rows": null,
            "height": null,
            "justify_content": null,
            "justify_items": null,
            "left": null,
            "margin": null,
            "max_height": null,
            "max_width": null,
            "min_height": null,
            "min_width": null,
            "object_fit": null,
            "object_position": null,
            "order": null,
            "overflow": null,
            "overflow_x": null,
            "overflow_y": null,
            "padding": null,
            "right": null,
            "top": null,
            "visibility": null,
            "width": null
          }
        },
        "fb906fb981ed4ca4adb71557ea853ffe": {
          "model_module": "@jupyter-widgets/controls",
          "model_name": "DescriptionStyleModel",
          "model_module_version": "1.5.0",
          "state": {
            "_model_module": "@jupyter-widgets/controls",
            "_model_module_version": "1.5.0",
            "_model_name": "DescriptionStyleModel",
            "_view_count": null,
            "_view_module": "@jupyter-widgets/base",
            "_view_module_version": "1.2.0",
            "_view_name": "StyleView",
            "description_width": ""
          }
        },
        "db082a545f79435ea068dc5acbf6bc62": {
          "model_module": "@jupyter-widgets/base",
          "model_name": "LayoutModel",
          "model_module_version": "1.2.0",
          "state": {
            "_model_module": "@jupyter-widgets/base",
            "_model_module_version": "1.2.0",
            "_model_name": "LayoutModel",
            "_view_count": null,
            "_view_module": "@jupyter-widgets/base",
            "_view_module_version": "1.2.0",
            "_view_name": "LayoutView",
            "align_content": null,
            "align_items": null,
            "align_self": null,
            "border": null,
            "bottom": null,
            "display": null,
            "flex": null,
            "flex_flow": null,
            "grid_area": null,
            "grid_auto_columns": null,
            "grid_auto_flow": null,
            "grid_auto_rows": null,
            "grid_column": null,
            "grid_gap": null,
            "grid_row": null,
            "grid_template_areas": null,
            "grid_template_columns": null,
            "grid_template_rows": null,
            "height": null,
            "justify_content": null,
            "justify_items": null,
            "left": null,
            "margin": null,
            "max_height": null,
            "max_width": null,
            "min_height": null,
            "min_width": null,
            "object_fit": null,
            "object_position": null,
            "order": null,
            "overflow": null,
            "overflow_x": null,
            "overflow_y": null,
            "padding": null,
            "right": null,
            "top": null,
            "visibility": null,
            "width": null
          }
        },
        "7d42114491c24ff19d79a06ca9462c2e": {
          "model_module": "@jupyter-widgets/controls",
          "model_name": "ProgressStyleModel",
          "model_module_version": "1.5.0",
          "state": {
            "_model_module": "@jupyter-widgets/controls",
            "_model_module_version": "1.5.0",
            "_model_name": "ProgressStyleModel",
            "_view_count": null,
            "_view_module": "@jupyter-widgets/base",
            "_view_module_version": "1.2.0",
            "_view_name": "StyleView",
            "bar_color": null,
            "description_width": ""
          }
        },
        "c1f5efd6ff8e4b6f8477b06535b9a924": {
          "model_module": "@jupyter-widgets/base",
          "model_name": "LayoutModel",
          "model_module_version": "1.2.0",
          "state": {
            "_model_module": "@jupyter-widgets/base",
            "_model_module_version": "1.2.0",
            "_model_name": "LayoutModel",
            "_view_count": null,
            "_view_module": "@jupyter-widgets/base",
            "_view_module_version": "1.2.0",
            "_view_name": "LayoutView",
            "align_content": null,
            "align_items": null,
            "align_self": null,
            "border": null,
            "bottom": null,
            "display": null,
            "flex": null,
            "flex_flow": null,
            "grid_area": null,
            "grid_auto_columns": null,
            "grid_auto_flow": null,
            "grid_auto_rows": null,
            "grid_column": null,
            "grid_gap": null,
            "grid_row": null,
            "grid_template_areas": null,
            "grid_template_columns": null,
            "grid_template_rows": null,
            "height": null,
            "justify_content": null,
            "justify_items": null,
            "left": null,
            "margin": null,
            "max_height": null,
            "max_width": null,
            "min_height": null,
            "min_width": null,
            "object_fit": null,
            "object_position": null,
            "order": null,
            "overflow": null,
            "overflow_x": null,
            "overflow_y": null,
            "padding": null,
            "right": null,
            "top": null,
            "visibility": null,
            "width": null
          }
        },
        "26a0c880471f49e8b717b7df0233ccb3": {
          "model_module": "@jupyter-widgets/controls",
          "model_name": "DescriptionStyleModel",
          "model_module_version": "1.5.0",
          "state": {
            "_model_module": "@jupyter-widgets/controls",
            "_model_module_version": "1.5.0",
            "_model_name": "DescriptionStyleModel",
            "_view_count": null,
            "_view_module": "@jupyter-widgets/base",
            "_view_module_version": "1.2.0",
            "_view_name": "StyleView",
            "description_width": ""
          }
        },
        "81d455f4949d4cbdab0a6021bf7c1e26": {
          "model_module": "@jupyter-widgets/controls",
          "model_name": "HBoxModel",
          "model_module_version": "1.5.0",
          "state": {
            "_dom_classes": [],
            "_model_module": "@jupyter-widgets/controls",
            "_model_module_version": "1.5.0",
            "_model_name": "HBoxModel",
            "_view_count": null,
            "_view_module": "@jupyter-widgets/controls",
            "_view_module_version": "1.5.0",
            "_view_name": "HBoxView",
            "box_style": "",
            "children": [
              "IPY_MODEL_54f71472070d401c8add30e3319ed7e8",
              "IPY_MODEL_7e4e7ffa7b46403084bcdd2c6d28bff0",
              "IPY_MODEL_fb6cbc5602204478b139044b9a2c1532"
            ],
            "layout": "IPY_MODEL_cb40461eb6734a3bb6c642c126f30bb7"
          }
        },
        "54f71472070d401c8add30e3319ed7e8": {
          "model_module": "@jupyter-widgets/controls",
          "model_name": "HTMLModel",
          "model_module_version": "1.5.0",
          "state": {
            "_dom_classes": [],
            "_model_module": "@jupyter-widgets/controls",
            "_model_module_version": "1.5.0",
            "_model_name": "HTMLModel",
            "_view_count": null,
            "_view_module": "@jupyter-widgets/controls",
            "_view_module_version": "1.5.0",
            "_view_name": "HTMLView",
            "description": "",
            "description_tooltip": null,
            "layout": "IPY_MODEL_75ca0d3794734f42b2cee02ea47463e5",
            "placeholder": "​",
            "style": "IPY_MODEL_1ed2753c13144cb1b70d6c87fd8d6bbc",
            "value": "100%"
          }
        },
        "7e4e7ffa7b46403084bcdd2c6d28bff0": {
          "model_module": "@jupyter-widgets/controls",
          "model_name": "FloatProgressModel",
          "model_module_version": "1.5.0",
          "state": {
            "_dom_classes": [],
            "_model_module": "@jupyter-widgets/controls",
            "_model_module_version": "1.5.0",
            "_model_name": "FloatProgressModel",
            "_view_count": null,
            "_view_module": "@jupyter-widgets/controls",
            "_view_module_version": "1.5.0",
            "_view_name": "ProgressView",
            "bar_style": "success",
            "description": "",
            "description_tooltip": null,
            "layout": "IPY_MODEL_2cd09aa222b54047954f5f9d4d6a7501",
            "max": 22,
            "min": 0,
            "orientation": "horizontal",
            "style": "IPY_MODEL_2c471caac9a84412bd935deb24c86d4b",
            "value": 22
          }
        },
        "fb6cbc5602204478b139044b9a2c1532": {
          "model_module": "@jupyter-widgets/controls",
          "model_name": "HTMLModel",
          "model_module_version": "1.5.0",
          "state": {
            "_dom_classes": [],
            "_model_module": "@jupyter-widgets/controls",
            "_model_module_version": "1.5.0",
            "_model_name": "HTMLModel",
            "_view_count": null,
            "_view_module": "@jupyter-widgets/controls",
            "_view_module_version": "1.5.0",
            "_view_name": "HTMLView",
            "description": "",
            "description_tooltip": null,
            "layout": "IPY_MODEL_dc2ae54919894e54b1dbfb57278fd9f0",
            "placeholder": "​",
            "style": "IPY_MODEL_f57ea40c767a4d9fb1862bb0d12547d9",
            "value": " 22/22 [00:00&lt;00:00, 145.93it/s]"
          }
        },
        "cb40461eb6734a3bb6c642c126f30bb7": {
          "model_module": "@jupyter-widgets/base",
          "model_name": "LayoutModel",
          "model_module_version": "1.2.0",
          "state": {
            "_model_module": "@jupyter-widgets/base",
            "_model_module_version": "1.2.0",
            "_model_name": "LayoutModel",
            "_view_count": null,
            "_view_module": "@jupyter-widgets/base",
            "_view_module_version": "1.2.0",
            "_view_name": "LayoutView",
            "align_content": null,
            "align_items": null,
            "align_self": null,
            "border": null,
            "bottom": null,
            "display": null,
            "flex": null,
            "flex_flow": null,
            "grid_area": null,
            "grid_auto_columns": null,
            "grid_auto_flow": null,
            "grid_auto_rows": null,
            "grid_column": null,
            "grid_gap": null,
            "grid_row": null,
            "grid_template_areas": null,
            "grid_template_columns": null,
            "grid_template_rows": null,
            "height": null,
            "justify_content": null,
            "justify_items": null,
            "left": null,
            "margin": null,
            "max_height": null,
            "max_width": null,
            "min_height": null,
            "min_width": null,
            "object_fit": null,
            "object_position": null,
            "order": null,
            "overflow": null,
            "overflow_x": null,
            "overflow_y": null,
            "padding": null,
            "right": null,
            "top": null,
            "visibility": null,
            "width": null
          }
        },
        "75ca0d3794734f42b2cee02ea47463e5": {
          "model_module": "@jupyter-widgets/base",
          "model_name": "LayoutModel",
          "model_module_version": "1.2.0",
          "state": {
            "_model_module": "@jupyter-widgets/base",
            "_model_module_version": "1.2.0",
            "_model_name": "LayoutModel",
            "_view_count": null,
            "_view_module": "@jupyter-widgets/base",
            "_view_module_version": "1.2.0",
            "_view_name": "LayoutView",
            "align_content": null,
            "align_items": null,
            "align_self": null,
            "border": null,
            "bottom": null,
            "display": null,
            "flex": null,
            "flex_flow": null,
            "grid_area": null,
            "grid_auto_columns": null,
            "grid_auto_flow": null,
            "grid_auto_rows": null,
            "grid_column": null,
            "grid_gap": null,
            "grid_row": null,
            "grid_template_areas": null,
            "grid_template_columns": null,
            "grid_template_rows": null,
            "height": null,
            "justify_content": null,
            "justify_items": null,
            "left": null,
            "margin": null,
            "max_height": null,
            "max_width": null,
            "min_height": null,
            "min_width": null,
            "object_fit": null,
            "object_position": null,
            "order": null,
            "overflow": null,
            "overflow_x": null,
            "overflow_y": null,
            "padding": null,
            "right": null,
            "top": null,
            "visibility": null,
            "width": null
          }
        },
        "1ed2753c13144cb1b70d6c87fd8d6bbc": {
          "model_module": "@jupyter-widgets/controls",
          "model_name": "DescriptionStyleModel",
          "model_module_version": "1.5.0",
          "state": {
            "_model_module": "@jupyter-widgets/controls",
            "_model_module_version": "1.5.0",
            "_model_name": "DescriptionStyleModel",
            "_view_count": null,
            "_view_module": "@jupyter-widgets/base",
            "_view_module_version": "1.2.0",
            "_view_name": "StyleView",
            "description_width": ""
          }
        },
        "2cd09aa222b54047954f5f9d4d6a7501": {
          "model_module": "@jupyter-widgets/base",
          "model_name": "LayoutModel",
          "model_module_version": "1.2.0",
          "state": {
            "_model_module": "@jupyter-widgets/base",
            "_model_module_version": "1.2.0",
            "_model_name": "LayoutModel",
            "_view_count": null,
            "_view_module": "@jupyter-widgets/base",
            "_view_module_version": "1.2.0",
            "_view_name": "LayoutView",
            "align_content": null,
            "align_items": null,
            "align_self": null,
            "border": null,
            "bottom": null,
            "display": null,
            "flex": null,
            "flex_flow": null,
            "grid_area": null,
            "grid_auto_columns": null,
            "grid_auto_flow": null,
            "grid_auto_rows": null,
            "grid_column": null,
            "grid_gap": null,
            "grid_row": null,
            "grid_template_areas": null,
            "grid_template_columns": null,
            "grid_template_rows": null,
            "height": null,
            "justify_content": null,
            "justify_items": null,
            "left": null,
            "margin": null,
            "max_height": null,
            "max_width": null,
            "min_height": null,
            "min_width": null,
            "object_fit": null,
            "object_position": null,
            "order": null,
            "overflow": null,
            "overflow_x": null,
            "overflow_y": null,
            "padding": null,
            "right": null,
            "top": null,
            "visibility": null,
            "width": null
          }
        },
        "2c471caac9a84412bd935deb24c86d4b": {
          "model_module": "@jupyter-widgets/controls",
          "model_name": "ProgressStyleModel",
          "model_module_version": "1.5.0",
          "state": {
            "_model_module": "@jupyter-widgets/controls",
            "_model_module_version": "1.5.0",
            "_model_name": "ProgressStyleModel",
            "_view_count": null,
            "_view_module": "@jupyter-widgets/base",
            "_view_module_version": "1.2.0",
            "_view_name": "StyleView",
            "bar_color": null,
            "description_width": ""
          }
        },
        "dc2ae54919894e54b1dbfb57278fd9f0": {
          "model_module": "@jupyter-widgets/base",
          "model_name": "LayoutModel",
          "model_module_version": "1.2.0",
          "state": {
            "_model_module": "@jupyter-widgets/base",
            "_model_module_version": "1.2.0",
            "_model_name": "LayoutModel",
            "_view_count": null,
            "_view_module": "@jupyter-widgets/base",
            "_view_module_version": "1.2.0",
            "_view_name": "LayoutView",
            "align_content": null,
            "align_items": null,
            "align_self": null,
            "border": null,
            "bottom": null,
            "display": null,
            "flex": null,
            "flex_flow": null,
            "grid_area": null,
            "grid_auto_columns": null,
            "grid_auto_flow": null,
            "grid_auto_rows": null,
            "grid_column": null,
            "grid_gap": null,
            "grid_row": null,
            "grid_template_areas": null,
            "grid_template_columns": null,
            "grid_template_rows": null,
            "height": null,
            "justify_content": null,
            "justify_items": null,
            "left": null,
            "margin": null,
            "max_height": null,
            "max_width": null,
            "min_height": null,
            "min_width": null,
            "object_fit": null,
            "object_position": null,
            "order": null,
            "overflow": null,
            "overflow_x": null,
            "overflow_y": null,
            "padding": null,
            "right": null,
            "top": null,
            "visibility": null,
            "width": null
          }
        },
        "f57ea40c767a4d9fb1862bb0d12547d9": {
          "model_module": "@jupyter-widgets/controls",
          "model_name": "DescriptionStyleModel",
          "model_module_version": "1.5.0",
          "state": {
            "_model_module": "@jupyter-widgets/controls",
            "_model_module_version": "1.5.0",
            "_model_name": "DescriptionStyleModel",
            "_view_count": null,
            "_view_module": "@jupyter-widgets/base",
            "_view_module_version": "1.2.0",
            "_view_name": "StyleView",
            "description_width": ""
          }
        },
        "96e86e868b184a4586ee9c923f003bdf": {
          "model_module": "@jupyter-widgets/controls",
          "model_name": "HBoxModel",
          "model_module_version": "1.5.0",
          "state": {
            "_dom_classes": [],
            "_model_module": "@jupyter-widgets/controls",
            "_model_module_version": "1.5.0",
            "_model_name": "HBoxModel",
            "_view_count": null,
            "_view_module": "@jupyter-widgets/controls",
            "_view_module_version": "1.5.0",
            "_view_name": "HBoxView",
            "box_style": "",
            "children": [
              "IPY_MODEL_7d54d8b14d294fbc8485532bc203eb5a",
              "IPY_MODEL_82046a88bac049f6ad913ee253d769d4",
              "IPY_MODEL_96b0e56f6be04cd98d364fc77472f4de"
            ],
            "layout": "IPY_MODEL_42942ab08a7b43359b726ed1989db09d"
          }
        },
        "7d54d8b14d294fbc8485532bc203eb5a": {
          "model_module": "@jupyter-widgets/controls",
          "model_name": "HTMLModel",
          "model_module_version": "1.5.0",
          "state": {
            "_dom_classes": [],
            "_model_module": "@jupyter-widgets/controls",
            "_model_module_version": "1.5.0",
            "_model_name": "HTMLModel",
            "_view_count": null,
            "_view_module": "@jupyter-widgets/controls",
            "_view_module_version": "1.5.0",
            "_view_name": "HTMLView",
            "description": "",
            "description_tooltip": null,
            "layout": "IPY_MODEL_58421d67edf9489b819ed486edaf69b5",
            "placeholder": "​",
            "style": "IPY_MODEL_4a174acb4a054d73b7fe8ef3678b44a1",
            "value": "100%"
          }
        },
        "82046a88bac049f6ad913ee253d769d4": {
          "model_module": "@jupyter-widgets/controls",
          "model_name": "FloatProgressModel",
          "model_module_version": "1.5.0",
          "state": {
            "_dom_classes": [],
            "_model_module": "@jupyter-widgets/controls",
            "_model_module_version": "1.5.0",
            "_model_name": "FloatProgressModel",
            "_view_count": null,
            "_view_module": "@jupyter-widgets/controls",
            "_view_module_version": "1.5.0",
            "_view_name": "ProgressView",
            "bar_style": "success",
            "description": "",
            "description_tooltip": null,
            "layout": "IPY_MODEL_987174dad13645f396536abebc1ecc11",
            "max": 22,
            "min": 0,
            "orientation": "horizontal",
            "style": "IPY_MODEL_ffeddcc5d09c44ae9eef7ca00d002ccf",
            "value": 22
          }
        },
        "96b0e56f6be04cd98d364fc77472f4de": {
          "model_module": "@jupyter-widgets/controls",
          "model_name": "HTMLModel",
          "model_module_version": "1.5.0",
          "state": {
            "_dom_classes": [],
            "_model_module": "@jupyter-widgets/controls",
            "_model_module_version": "1.5.0",
            "_model_name": "HTMLModel",
            "_view_count": null,
            "_view_module": "@jupyter-widgets/controls",
            "_view_module_version": "1.5.0",
            "_view_name": "HTMLView",
            "description": "",
            "description_tooltip": null,
            "layout": "IPY_MODEL_d7c843fb3f234502888d61e1733e1079",
            "placeholder": "​",
            "style": "IPY_MODEL_5f578c3502ed47d18d5940a02fd865f3",
            "value": " 22/22 [00:00&lt;00:00, 135.68it/s]"
          }
        },
        "42942ab08a7b43359b726ed1989db09d": {
          "model_module": "@jupyter-widgets/base",
          "model_name": "LayoutModel",
          "model_module_version": "1.2.0",
          "state": {
            "_model_module": "@jupyter-widgets/base",
            "_model_module_version": "1.2.0",
            "_model_name": "LayoutModel",
            "_view_count": null,
            "_view_module": "@jupyter-widgets/base",
            "_view_module_version": "1.2.0",
            "_view_name": "LayoutView",
            "align_content": null,
            "align_items": null,
            "align_self": null,
            "border": null,
            "bottom": null,
            "display": null,
            "flex": null,
            "flex_flow": null,
            "grid_area": null,
            "grid_auto_columns": null,
            "grid_auto_flow": null,
            "grid_auto_rows": null,
            "grid_column": null,
            "grid_gap": null,
            "grid_row": null,
            "grid_template_areas": null,
            "grid_template_columns": null,
            "grid_template_rows": null,
            "height": null,
            "justify_content": null,
            "justify_items": null,
            "left": null,
            "margin": null,
            "max_height": null,
            "max_width": null,
            "min_height": null,
            "min_width": null,
            "object_fit": null,
            "object_position": null,
            "order": null,
            "overflow": null,
            "overflow_x": null,
            "overflow_y": null,
            "padding": null,
            "right": null,
            "top": null,
            "visibility": null,
            "width": null
          }
        },
        "58421d67edf9489b819ed486edaf69b5": {
          "model_module": "@jupyter-widgets/base",
          "model_name": "LayoutModel",
          "model_module_version": "1.2.0",
          "state": {
            "_model_module": "@jupyter-widgets/base",
            "_model_module_version": "1.2.0",
            "_model_name": "LayoutModel",
            "_view_count": null,
            "_view_module": "@jupyter-widgets/base",
            "_view_module_version": "1.2.0",
            "_view_name": "LayoutView",
            "align_content": null,
            "align_items": null,
            "align_self": null,
            "border": null,
            "bottom": null,
            "display": null,
            "flex": null,
            "flex_flow": null,
            "grid_area": null,
            "grid_auto_columns": null,
            "grid_auto_flow": null,
            "grid_auto_rows": null,
            "grid_column": null,
            "grid_gap": null,
            "grid_row": null,
            "grid_template_areas": null,
            "grid_template_columns": null,
            "grid_template_rows": null,
            "height": null,
            "justify_content": null,
            "justify_items": null,
            "left": null,
            "margin": null,
            "max_height": null,
            "max_width": null,
            "min_height": null,
            "min_width": null,
            "object_fit": null,
            "object_position": null,
            "order": null,
            "overflow": null,
            "overflow_x": null,
            "overflow_y": null,
            "padding": null,
            "right": null,
            "top": null,
            "visibility": null,
            "width": null
          }
        },
        "4a174acb4a054d73b7fe8ef3678b44a1": {
          "model_module": "@jupyter-widgets/controls",
          "model_name": "DescriptionStyleModel",
          "model_module_version": "1.5.0",
          "state": {
            "_model_module": "@jupyter-widgets/controls",
            "_model_module_version": "1.5.0",
            "_model_name": "DescriptionStyleModel",
            "_view_count": null,
            "_view_module": "@jupyter-widgets/base",
            "_view_module_version": "1.2.0",
            "_view_name": "StyleView",
            "description_width": ""
          }
        },
        "987174dad13645f396536abebc1ecc11": {
          "model_module": "@jupyter-widgets/base",
          "model_name": "LayoutModel",
          "model_module_version": "1.2.0",
          "state": {
            "_model_module": "@jupyter-widgets/base",
            "_model_module_version": "1.2.0",
            "_model_name": "LayoutModel",
            "_view_count": null,
            "_view_module": "@jupyter-widgets/base",
            "_view_module_version": "1.2.0",
            "_view_name": "LayoutView",
            "align_content": null,
            "align_items": null,
            "align_self": null,
            "border": null,
            "bottom": null,
            "display": null,
            "flex": null,
            "flex_flow": null,
            "grid_area": null,
            "grid_auto_columns": null,
            "grid_auto_flow": null,
            "grid_auto_rows": null,
            "grid_column": null,
            "grid_gap": null,
            "grid_row": null,
            "grid_template_areas": null,
            "grid_template_columns": null,
            "grid_template_rows": null,
            "height": null,
            "justify_content": null,
            "justify_items": null,
            "left": null,
            "margin": null,
            "max_height": null,
            "max_width": null,
            "min_height": null,
            "min_width": null,
            "object_fit": null,
            "object_position": null,
            "order": null,
            "overflow": null,
            "overflow_x": null,
            "overflow_y": null,
            "padding": null,
            "right": null,
            "top": null,
            "visibility": null,
            "width": null
          }
        },
        "ffeddcc5d09c44ae9eef7ca00d002ccf": {
          "model_module": "@jupyter-widgets/controls",
          "model_name": "ProgressStyleModel",
          "model_module_version": "1.5.0",
          "state": {
            "_model_module": "@jupyter-widgets/controls",
            "_model_module_version": "1.5.0",
            "_model_name": "ProgressStyleModel",
            "_view_count": null,
            "_view_module": "@jupyter-widgets/base",
            "_view_module_version": "1.2.0",
            "_view_name": "StyleView",
            "bar_color": null,
            "description_width": ""
          }
        },
        "d7c843fb3f234502888d61e1733e1079": {
          "model_module": "@jupyter-widgets/base",
          "model_name": "LayoutModel",
          "model_module_version": "1.2.0",
          "state": {
            "_model_module": "@jupyter-widgets/base",
            "_model_module_version": "1.2.0",
            "_model_name": "LayoutModel",
            "_view_count": null,
            "_view_module": "@jupyter-widgets/base",
            "_view_module_version": "1.2.0",
            "_view_name": "LayoutView",
            "align_content": null,
            "align_items": null,
            "align_self": null,
            "border": null,
            "bottom": null,
            "display": null,
            "flex": null,
            "flex_flow": null,
            "grid_area": null,
            "grid_auto_columns": null,
            "grid_auto_flow": null,
            "grid_auto_rows": null,
            "grid_column": null,
            "grid_gap": null,
            "grid_row": null,
            "grid_template_areas": null,
            "grid_template_columns": null,
            "grid_template_rows": null,
            "height": null,
            "justify_content": null,
            "justify_items": null,
            "left": null,
            "margin": null,
            "max_height": null,
            "max_width": null,
            "min_height": null,
            "min_width": null,
            "object_fit": null,
            "object_position": null,
            "order": null,
            "overflow": null,
            "overflow_x": null,
            "overflow_y": null,
            "padding": null,
            "right": null,
            "top": null,
            "visibility": null,
            "width": null
          }
        },
        "5f578c3502ed47d18d5940a02fd865f3": {
          "model_module": "@jupyter-widgets/controls",
          "model_name": "DescriptionStyleModel",
          "model_module_version": "1.5.0",
          "state": {
            "_model_module": "@jupyter-widgets/controls",
            "_model_module_version": "1.5.0",
            "_model_name": "DescriptionStyleModel",
            "_view_count": null,
            "_view_module": "@jupyter-widgets/base",
            "_view_module_version": "1.2.0",
            "_view_name": "StyleView",
            "description_width": ""
          }
        },
        "c04fea491b164f3fa7cb89bd1b327494": {
          "model_module": "@jupyter-widgets/controls",
          "model_name": "HBoxModel",
          "model_module_version": "1.5.0",
          "state": {
            "_dom_classes": [],
            "_model_module": "@jupyter-widgets/controls",
            "_model_module_version": "1.5.0",
            "_model_name": "HBoxModel",
            "_view_count": null,
            "_view_module": "@jupyter-widgets/controls",
            "_view_module_version": "1.5.0",
            "_view_name": "HBoxView",
            "box_style": "",
            "children": [
              "IPY_MODEL_3864d1715b53456d9e442ec9fc9f0bec",
              "IPY_MODEL_46e953946a644697b4fb5438f7d8278d",
              "IPY_MODEL_c02bb445bff54e62bee7f16c180716ac"
            ],
            "layout": "IPY_MODEL_b5f5a74d1e584e92a7e22785274145ef"
          }
        },
        "3864d1715b53456d9e442ec9fc9f0bec": {
          "model_module": "@jupyter-widgets/controls",
          "model_name": "HTMLModel",
          "model_module_version": "1.5.0",
          "state": {
            "_dom_classes": [],
            "_model_module": "@jupyter-widgets/controls",
            "_model_module_version": "1.5.0",
            "_model_name": "HTMLModel",
            "_view_count": null,
            "_view_module": "@jupyter-widgets/controls",
            "_view_module_version": "1.5.0",
            "_view_name": "HTMLView",
            "description": "",
            "description_tooltip": null,
            "layout": "IPY_MODEL_441595ab12ea46779d592cb4a2766cd0",
            "placeholder": "​",
            "style": "IPY_MODEL_95f3f026a2c94fe5a31532bf3f5c0ebd",
            "value": "100%"
          }
        },
        "46e953946a644697b4fb5438f7d8278d": {
          "model_module": "@jupyter-widgets/controls",
          "model_name": "FloatProgressModel",
          "model_module_version": "1.5.0",
          "state": {
            "_dom_classes": [],
            "_model_module": "@jupyter-widgets/controls",
            "_model_module_version": "1.5.0",
            "_model_name": "FloatProgressModel",
            "_view_count": null,
            "_view_module": "@jupyter-widgets/controls",
            "_view_module_version": "1.5.0",
            "_view_name": "ProgressView",
            "bar_style": "success",
            "description": "",
            "description_tooltip": null,
            "layout": "IPY_MODEL_2bd89707c7c14b1085b2dc116f643cae",
            "max": 22,
            "min": 0,
            "orientation": "horizontal",
            "style": "IPY_MODEL_e762b11f65f44d828bcb6306987913bb",
            "value": 22
          }
        },
        "c02bb445bff54e62bee7f16c180716ac": {
          "model_module": "@jupyter-widgets/controls",
          "model_name": "HTMLModel",
          "model_module_version": "1.5.0",
          "state": {
            "_dom_classes": [],
            "_model_module": "@jupyter-widgets/controls",
            "_model_module_version": "1.5.0",
            "_model_name": "HTMLModel",
            "_view_count": null,
            "_view_module": "@jupyter-widgets/controls",
            "_view_module_version": "1.5.0",
            "_view_name": "HTMLView",
            "description": "",
            "description_tooltip": null,
            "layout": "IPY_MODEL_6c84a99c3c024724b41a6db015e68018",
            "placeholder": "​",
            "style": "IPY_MODEL_4335794024594b4297ec8398a5f28636",
            "value": " 22/22 [00:00&lt;00:00, 164.27it/s]"
          }
        },
        "b5f5a74d1e584e92a7e22785274145ef": {
          "model_module": "@jupyter-widgets/base",
          "model_name": "LayoutModel",
          "model_module_version": "1.2.0",
          "state": {
            "_model_module": "@jupyter-widgets/base",
            "_model_module_version": "1.2.0",
            "_model_name": "LayoutModel",
            "_view_count": null,
            "_view_module": "@jupyter-widgets/base",
            "_view_module_version": "1.2.0",
            "_view_name": "LayoutView",
            "align_content": null,
            "align_items": null,
            "align_self": null,
            "border": null,
            "bottom": null,
            "display": null,
            "flex": null,
            "flex_flow": null,
            "grid_area": null,
            "grid_auto_columns": null,
            "grid_auto_flow": null,
            "grid_auto_rows": null,
            "grid_column": null,
            "grid_gap": null,
            "grid_row": null,
            "grid_template_areas": null,
            "grid_template_columns": null,
            "grid_template_rows": null,
            "height": null,
            "justify_content": null,
            "justify_items": null,
            "left": null,
            "margin": null,
            "max_height": null,
            "max_width": null,
            "min_height": null,
            "min_width": null,
            "object_fit": null,
            "object_position": null,
            "order": null,
            "overflow": null,
            "overflow_x": null,
            "overflow_y": null,
            "padding": null,
            "right": null,
            "top": null,
            "visibility": null,
            "width": null
          }
        },
        "441595ab12ea46779d592cb4a2766cd0": {
          "model_module": "@jupyter-widgets/base",
          "model_name": "LayoutModel",
          "model_module_version": "1.2.0",
          "state": {
            "_model_module": "@jupyter-widgets/base",
            "_model_module_version": "1.2.0",
            "_model_name": "LayoutModel",
            "_view_count": null,
            "_view_module": "@jupyter-widgets/base",
            "_view_module_version": "1.2.0",
            "_view_name": "LayoutView",
            "align_content": null,
            "align_items": null,
            "align_self": null,
            "border": null,
            "bottom": null,
            "display": null,
            "flex": null,
            "flex_flow": null,
            "grid_area": null,
            "grid_auto_columns": null,
            "grid_auto_flow": null,
            "grid_auto_rows": null,
            "grid_column": null,
            "grid_gap": null,
            "grid_row": null,
            "grid_template_areas": null,
            "grid_template_columns": null,
            "grid_template_rows": null,
            "height": null,
            "justify_content": null,
            "justify_items": null,
            "left": null,
            "margin": null,
            "max_height": null,
            "max_width": null,
            "min_height": null,
            "min_width": null,
            "object_fit": null,
            "object_position": null,
            "order": null,
            "overflow": null,
            "overflow_x": null,
            "overflow_y": null,
            "padding": null,
            "right": null,
            "top": null,
            "visibility": null,
            "width": null
          }
        },
        "95f3f026a2c94fe5a31532bf3f5c0ebd": {
          "model_module": "@jupyter-widgets/controls",
          "model_name": "DescriptionStyleModel",
          "model_module_version": "1.5.0",
          "state": {
            "_model_module": "@jupyter-widgets/controls",
            "_model_module_version": "1.5.0",
            "_model_name": "DescriptionStyleModel",
            "_view_count": null,
            "_view_module": "@jupyter-widgets/base",
            "_view_module_version": "1.2.0",
            "_view_name": "StyleView",
            "description_width": ""
          }
        },
        "2bd89707c7c14b1085b2dc116f643cae": {
          "model_module": "@jupyter-widgets/base",
          "model_name": "LayoutModel",
          "model_module_version": "1.2.0",
          "state": {
            "_model_module": "@jupyter-widgets/base",
            "_model_module_version": "1.2.0",
            "_model_name": "LayoutModel",
            "_view_count": null,
            "_view_module": "@jupyter-widgets/base",
            "_view_module_version": "1.2.0",
            "_view_name": "LayoutView",
            "align_content": null,
            "align_items": null,
            "align_self": null,
            "border": null,
            "bottom": null,
            "display": null,
            "flex": null,
            "flex_flow": null,
            "grid_area": null,
            "grid_auto_columns": null,
            "grid_auto_flow": null,
            "grid_auto_rows": null,
            "grid_column": null,
            "grid_gap": null,
            "grid_row": null,
            "grid_template_areas": null,
            "grid_template_columns": null,
            "grid_template_rows": null,
            "height": null,
            "justify_content": null,
            "justify_items": null,
            "left": null,
            "margin": null,
            "max_height": null,
            "max_width": null,
            "min_height": null,
            "min_width": null,
            "object_fit": null,
            "object_position": null,
            "order": null,
            "overflow": null,
            "overflow_x": null,
            "overflow_y": null,
            "padding": null,
            "right": null,
            "top": null,
            "visibility": null,
            "width": null
          }
        },
        "e762b11f65f44d828bcb6306987913bb": {
          "model_module": "@jupyter-widgets/controls",
          "model_name": "ProgressStyleModel",
          "model_module_version": "1.5.0",
          "state": {
            "_model_module": "@jupyter-widgets/controls",
            "_model_module_version": "1.5.0",
            "_model_name": "ProgressStyleModel",
            "_view_count": null,
            "_view_module": "@jupyter-widgets/base",
            "_view_module_version": "1.2.0",
            "_view_name": "StyleView",
            "bar_color": null,
            "description_width": ""
          }
        },
        "6c84a99c3c024724b41a6db015e68018": {
          "model_module": "@jupyter-widgets/base",
          "model_name": "LayoutModel",
          "model_module_version": "1.2.0",
          "state": {
            "_model_module": "@jupyter-widgets/base",
            "_model_module_version": "1.2.0",
            "_model_name": "LayoutModel",
            "_view_count": null,
            "_view_module": "@jupyter-widgets/base",
            "_view_module_version": "1.2.0",
            "_view_name": "LayoutView",
            "align_content": null,
            "align_items": null,
            "align_self": null,
            "border": null,
            "bottom": null,
            "display": null,
            "flex": null,
            "flex_flow": null,
            "grid_area": null,
            "grid_auto_columns": null,
            "grid_auto_flow": null,
            "grid_auto_rows": null,
            "grid_column": null,
            "grid_gap": null,
            "grid_row": null,
            "grid_template_areas": null,
            "grid_template_columns": null,
            "grid_template_rows": null,
            "height": null,
            "justify_content": null,
            "justify_items": null,
            "left": null,
            "margin": null,
            "max_height": null,
            "max_width": null,
            "min_height": null,
            "min_width": null,
            "object_fit": null,
            "object_position": null,
            "order": null,
            "overflow": null,
            "overflow_x": null,
            "overflow_y": null,
            "padding": null,
            "right": null,
            "top": null,
            "visibility": null,
            "width": null
          }
        },
        "4335794024594b4297ec8398a5f28636": {
          "model_module": "@jupyter-widgets/controls",
          "model_name": "DescriptionStyleModel",
          "model_module_version": "1.5.0",
          "state": {
            "_model_module": "@jupyter-widgets/controls",
            "_model_module_version": "1.5.0",
            "_model_name": "DescriptionStyleModel",
            "_view_count": null,
            "_view_module": "@jupyter-widgets/base",
            "_view_module_version": "1.2.0",
            "_view_name": "StyleView",
            "description_width": ""
          }
        },
        "65d751d4b4a348e9acd2da4872db0554": {
          "model_module": "@jupyter-widgets/controls",
          "model_name": "HBoxModel",
          "model_module_version": "1.5.0",
          "state": {
            "_dom_classes": [],
            "_model_module": "@jupyter-widgets/controls",
            "_model_module_version": "1.5.0",
            "_model_name": "HBoxModel",
            "_view_count": null,
            "_view_module": "@jupyter-widgets/controls",
            "_view_module_version": "1.5.0",
            "_view_name": "HBoxView",
            "box_style": "",
            "children": [
              "IPY_MODEL_0ec0032a59c8415baf4a86b36df736b2",
              "IPY_MODEL_b014310267964a1aa6c6a6b46688544d",
              "IPY_MODEL_73b56d1521bf4291a8f2b972471089c5"
            ],
            "layout": "IPY_MODEL_c9c2f13d046441e9b33c33a57a155f7a"
          }
        },
        "0ec0032a59c8415baf4a86b36df736b2": {
          "model_module": "@jupyter-widgets/controls",
          "model_name": "HTMLModel",
          "model_module_version": "1.5.0",
          "state": {
            "_dom_classes": [],
            "_model_module": "@jupyter-widgets/controls",
            "_model_module_version": "1.5.0",
            "_model_name": "HTMLModel",
            "_view_count": null,
            "_view_module": "@jupyter-widgets/controls",
            "_view_module_version": "1.5.0",
            "_view_name": "HTMLView",
            "description": "",
            "description_tooltip": null,
            "layout": "IPY_MODEL_8849df02f01a4adaa61bbb7240d5d496",
            "placeholder": "​",
            "style": "IPY_MODEL_7ef96c2d48944675911e89945e8c5242",
            "value": "100%"
          }
        },
        "b014310267964a1aa6c6a6b46688544d": {
          "model_module": "@jupyter-widgets/controls",
          "model_name": "FloatProgressModel",
          "model_module_version": "1.5.0",
          "state": {
            "_dom_classes": [],
            "_model_module": "@jupyter-widgets/controls",
            "_model_module_version": "1.5.0",
            "_model_name": "FloatProgressModel",
            "_view_count": null,
            "_view_module": "@jupyter-widgets/controls",
            "_view_module_version": "1.5.0",
            "_view_name": "ProgressView",
            "bar_style": "success",
            "description": "",
            "description_tooltip": null,
            "layout": "IPY_MODEL_8ab19790861c436faeea4f91a3e09b75",
            "max": 22,
            "min": 0,
            "orientation": "horizontal",
            "style": "IPY_MODEL_b2bda8877637464285d70b26dd88e317",
            "value": 22
          }
        },
        "73b56d1521bf4291a8f2b972471089c5": {
          "model_module": "@jupyter-widgets/controls",
          "model_name": "HTMLModel",
          "model_module_version": "1.5.0",
          "state": {
            "_dom_classes": [],
            "_model_module": "@jupyter-widgets/controls",
            "_model_module_version": "1.5.0",
            "_model_name": "HTMLModel",
            "_view_count": null,
            "_view_module": "@jupyter-widgets/controls",
            "_view_module_version": "1.5.0",
            "_view_name": "HTMLView",
            "description": "",
            "description_tooltip": null,
            "layout": "IPY_MODEL_aef30cd74d12477ab894748b5c1c7172",
            "placeholder": "​",
            "style": "IPY_MODEL_a41fe3582da8459a8f94cd860ba5e545",
            "value": " 22/22 [00:00&lt;00:00, 168.79it/s]"
          }
        },
        "c9c2f13d046441e9b33c33a57a155f7a": {
          "model_module": "@jupyter-widgets/base",
          "model_name": "LayoutModel",
          "model_module_version": "1.2.0",
          "state": {
            "_model_module": "@jupyter-widgets/base",
            "_model_module_version": "1.2.0",
            "_model_name": "LayoutModel",
            "_view_count": null,
            "_view_module": "@jupyter-widgets/base",
            "_view_module_version": "1.2.0",
            "_view_name": "LayoutView",
            "align_content": null,
            "align_items": null,
            "align_self": null,
            "border": null,
            "bottom": null,
            "display": null,
            "flex": null,
            "flex_flow": null,
            "grid_area": null,
            "grid_auto_columns": null,
            "grid_auto_flow": null,
            "grid_auto_rows": null,
            "grid_column": null,
            "grid_gap": null,
            "grid_row": null,
            "grid_template_areas": null,
            "grid_template_columns": null,
            "grid_template_rows": null,
            "height": null,
            "justify_content": null,
            "justify_items": null,
            "left": null,
            "margin": null,
            "max_height": null,
            "max_width": null,
            "min_height": null,
            "min_width": null,
            "object_fit": null,
            "object_position": null,
            "order": null,
            "overflow": null,
            "overflow_x": null,
            "overflow_y": null,
            "padding": null,
            "right": null,
            "top": null,
            "visibility": null,
            "width": null
          }
        },
        "8849df02f01a4adaa61bbb7240d5d496": {
          "model_module": "@jupyter-widgets/base",
          "model_name": "LayoutModel",
          "model_module_version": "1.2.0",
          "state": {
            "_model_module": "@jupyter-widgets/base",
            "_model_module_version": "1.2.0",
            "_model_name": "LayoutModel",
            "_view_count": null,
            "_view_module": "@jupyter-widgets/base",
            "_view_module_version": "1.2.0",
            "_view_name": "LayoutView",
            "align_content": null,
            "align_items": null,
            "align_self": null,
            "border": null,
            "bottom": null,
            "display": null,
            "flex": null,
            "flex_flow": null,
            "grid_area": null,
            "grid_auto_columns": null,
            "grid_auto_flow": null,
            "grid_auto_rows": null,
            "grid_column": null,
            "grid_gap": null,
            "grid_row": null,
            "grid_template_areas": null,
            "grid_template_columns": null,
            "grid_template_rows": null,
            "height": null,
            "justify_content": null,
            "justify_items": null,
            "left": null,
            "margin": null,
            "max_height": null,
            "max_width": null,
            "min_height": null,
            "min_width": null,
            "object_fit": null,
            "object_position": null,
            "order": null,
            "overflow": null,
            "overflow_x": null,
            "overflow_y": null,
            "padding": null,
            "right": null,
            "top": null,
            "visibility": null,
            "width": null
          }
        },
        "7ef96c2d48944675911e89945e8c5242": {
          "model_module": "@jupyter-widgets/controls",
          "model_name": "DescriptionStyleModel",
          "model_module_version": "1.5.0",
          "state": {
            "_model_module": "@jupyter-widgets/controls",
            "_model_module_version": "1.5.0",
            "_model_name": "DescriptionStyleModel",
            "_view_count": null,
            "_view_module": "@jupyter-widgets/base",
            "_view_module_version": "1.2.0",
            "_view_name": "StyleView",
            "description_width": ""
          }
        },
        "8ab19790861c436faeea4f91a3e09b75": {
          "model_module": "@jupyter-widgets/base",
          "model_name": "LayoutModel",
          "model_module_version": "1.2.0",
          "state": {
            "_model_module": "@jupyter-widgets/base",
            "_model_module_version": "1.2.0",
            "_model_name": "LayoutModel",
            "_view_count": null,
            "_view_module": "@jupyter-widgets/base",
            "_view_module_version": "1.2.0",
            "_view_name": "LayoutView",
            "align_content": null,
            "align_items": null,
            "align_self": null,
            "border": null,
            "bottom": null,
            "display": null,
            "flex": null,
            "flex_flow": null,
            "grid_area": null,
            "grid_auto_columns": null,
            "grid_auto_flow": null,
            "grid_auto_rows": null,
            "grid_column": null,
            "grid_gap": null,
            "grid_row": null,
            "grid_template_areas": null,
            "grid_template_columns": null,
            "grid_template_rows": null,
            "height": null,
            "justify_content": null,
            "justify_items": null,
            "left": null,
            "margin": null,
            "max_height": null,
            "max_width": null,
            "min_height": null,
            "min_width": null,
            "object_fit": null,
            "object_position": null,
            "order": null,
            "overflow": null,
            "overflow_x": null,
            "overflow_y": null,
            "padding": null,
            "right": null,
            "top": null,
            "visibility": null,
            "width": null
          }
        },
        "b2bda8877637464285d70b26dd88e317": {
          "model_module": "@jupyter-widgets/controls",
          "model_name": "ProgressStyleModel",
          "model_module_version": "1.5.0",
          "state": {
            "_model_module": "@jupyter-widgets/controls",
            "_model_module_version": "1.5.0",
            "_model_name": "ProgressStyleModel",
            "_view_count": null,
            "_view_module": "@jupyter-widgets/base",
            "_view_module_version": "1.2.0",
            "_view_name": "StyleView",
            "bar_color": null,
            "description_width": ""
          }
        },
        "aef30cd74d12477ab894748b5c1c7172": {
          "model_module": "@jupyter-widgets/base",
          "model_name": "LayoutModel",
          "model_module_version": "1.2.0",
          "state": {
            "_model_module": "@jupyter-widgets/base",
            "_model_module_version": "1.2.0",
            "_model_name": "LayoutModel",
            "_view_count": null,
            "_view_module": "@jupyter-widgets/base",
            "_view_module_version": "1.2.0",
            "_view_name": "LayoutView",
            "align_content": null,
            "align_items": null,
            "align_self": null,
            "border": null,
            "bottom": null,
            "display": null,
            "flex": null,
            "flex_flow": null,
            "grid_area": null,
            "grid_auto_columns": null,
            "grid_auto_flow": null,
            "grid_auto_rows": null,
            "grid_column": null,
            "grid_gap": null,
            "grid_row": null,
            "grid_template_areas": null,
            "grid_template_columns": null,
            "grid_template_rows": null,
            "height": null,
            "justify_content": null,
            "justify_items": null,
            "left": null,
            "margin": null,
            "max_height": null,
            "max_width": null,
            "min_height": null,
            "min_width": null,
            "object_fit": null,
            "object_position": null,
            "order": null,
            "overflow": null,
            "overflow_x": null,
            "overflow_y": null,
            "padding": null,
            "right": null,
            "top": null,
            "visibility": null,
            "width": null
          }
        },
        "a41fe3582da8459a8f94cd860ba5e545": {
          "model_module": "@jupyter-widgets/controls",
          "model_name": "DescriptionStyleModel",
          "model_module_version": "1.5.0",
          "state": {
            "_model_module": "@jupyter-widgets/controls",
            "_model_module_version": "1.5.0",
            "_model_name": "DescriptionStyleModel",
            "_view_count": null,
            "_view_module": "@jupyter-widgets/base",
            "_view_module_version": "1.2.0",
            "_view_name": "StyleView",
            "description_width": ""
          }
        },
        "22dd068a19494ee6ab941fcc551d97f0": {
          "model_module": "@jupyter-widgets/controls",
          "model_name": "HBoxModel",
          "model_module_version": "1.5.0",
          "state": {
            "_dom_classes": [],
            "_model_module": "@jupyter-widgets/controls",
            "_model_module_version": "1.5.0",
            "_model_name": "HBoxModel",
            "_view_count": null,
            "_view_module": "@jupyter-widgets/controls",
            "_view_module_version": "1.5.0",
            "_view_name": "HBoxView",
            "box_style": "",
            "children": [
              "IPY_MODEL_b6d6c05b77ef45b8b014fc89e319e46a",
              "IPY_MODEL_669024fa2159489dbcacd7eab1e111f2",
              "IPY_MODEL_d2e10d100fba438bbf03fceaf07d041a"
            ],
            "layout": "IPY_MODEL_c2f00c2a2f594ebeae7b56b646604d00"
          }
        },
        "b6d6c05b77ef45b8b014fc89e319e46a": {
          "model_module": "@jupyter-widgets/controls",
          "model_name": "HTMLModel",
          "model_module_version": "1.5.0",
          "state": {
            "_dom_classes": [],
            "_model_module": "@jupyter-widgets/controls",
            "_model_module_version": "1.5.0",
            "_model_name": "HTMLModel",
            "_view_count": null,
            "_view_module": "@jupyter-widgets/controls",
            "_view_module_version": "1.5.0",
            "_view_name": "HTMLView",
            "description": "",
            "description_tooltip": null,
            "layout": "IPY_MODEL_05826979399040b1a8ed4182ebd0949c",
            "placeholder": "​",
            "style": "IPY_MODEL_055f40474f7345cbaf0e6009d40853f8",
            "value": "100%"
          }
        },
        "669024fa2159489dbcacd7eab1e111f2": {
          "model_module": "@jupyter-widgets/controls",
          "model_name": "FloatProgressModel",
          "model_module_version": "1.5.0",
          "state": {
            "_dom_classes": [],
            "_model_module": "@jupyter-widgets/controls",
            "_model_module_version": "1.5.0",
            "_model_name": "FloatProgressModel",
            "_view_count": null,
            "_view_module": "@jupyter-widgets/controls",
            "_view_module_version": "1.5.0",
            "_view_name": "ProgressView",
            "bar_style": "success",
            "description": "",
            "description_tooltip": null,
            "layout": "IPY_MODEL_4d88c5dea9904b86a30703e27486d3bf",
            "max": 22,
            "min": 0,
            "orientation": "horizontal",
            "style": "IPY_MODEL_a5092495b7c449e88dc99909e3288ebf",
            "value": 22
          }
        },
        "d2e10d100fba438bbf03fceaf07d041a": {
          "model_module": "@jupyter-widgets/controls",
          "model_name": "HTMLModel",
          "model_module_version": "1.5.0",
          "state": {
            "_dom_classes": [],
            "_model_module": "@jupyter-widgets/controls",
            "_model_module_version": "1.5.0",
            "_model_name": "HTMLModel",
            "_view_count": null,
            "_view_module": "@jupyter-widgets/controls",
            "_view_module_version": "1.5.0",
            "_view_name": "HTMLView",
            "description": "",
            "description_tooltip": null,
            "layout": "IPY_MODEL_66a312f3b08d44a6b068866dea463f3f",
            "placeholder": "​",
            "style": "IPY_MODEL_5d286ef9b35944f9ab3e8f126e4bf94e",
            "value": " 22/22 [00:00&lt;00:00, 159.72it/s]"
          }
        },
        "c2f00c2a2f594ebeae7b56b646604d00": {
          "model_module": "@jupyter-widgets/base",
          "model_name": "LayoutModel",
          "model_module_version": "1.2.0",
          "state": {
            "_model_module": "@jupyter-widgets/base",
            "_model_module_version": "1.2.0",
            "_model_name": "LayoutModel",
            "_view_count": null,
            "_view_module": "@jupyter-widgets/base",
            "_view_module_version": "1.2.0",
            "_view_name": "LayoutView",
            "align_content": null,
            "align_items": null,
            "align_self": null,
            "border": null,
            "bottom": null,
            "display": null,
            "flex": null,
            "flex_flow": null,
            "grid_area": null,
            "grid_auto_columns": null,
            "grid_auto_flow": null,
            "grid_auto_rows": null,
            "grid_column": null,
            "grid_gap": null,
            "grid_row": null,
            "grid_template_areas": null,
            "grid_template_columns": null,
            "grid_template_rows": null,
            "height": null,
            "justify_content": null,
            "justify_items": null,
            "left": null,
            "margin": null,
            "max_height": null,
            "max_width": null,
            "min_height": null,
            "min_width": null,
            "object_fit": null,
            "object_position": null,
            "order": null,
            "overflow": null,
            "overflow_x": null,
            "overflow_y": null,
            "padding": null,
            "right": null,
            "top": null,
            "visibility": null,
            "width": null
          }
        },
        "05826979399040b1a8ed4182ebd0949c": {
          "model_module": "@jupyter-widgets/base",
          "model_name": "LayoutModel",
          "model_module_version": "1.2.0",
          "state": {
            "_model_module": "@jupyter-widgets/base",
            "_model_module_version": "1.2.0",
            "_model_name": "LayoutModel",
            "_view_count": null,
            "_view_module": "@jupyter-widgets/base",
            "_view_module_version": "1.2.0",
            "_view_name": "LayoutView",
            "align_content": null,
            "align_items": null,
            "align_self": null,
            "border": null,
            "bottom": null,
            "display": null,
            "flex": null,
            "flex_flow": null,
            "grid_area": null,
            "grid_auto_columns": null,
            "grid_auto_flow": null,
            "grid_auto_rows": null,
            "grid_column": null,
            "grid_gap": null,
            "grid_row": null,
            "grid_template_areas": null,
            "grid_template_columns": null,
            "grid_template_rows": null,
            "height": null,
            "justify_content": null,
            "justify_items": null,
            "left": null,
            "margin": null,
            "max_height": null,
            "max_width": null,
            "min_height": null,
            "min_width": null,
            "object_fit": null,
            "object_position": null,
            "order": null,
            "overflow": null,
            "overflow_x": null,
            "overflow_y": null,
            "padding": null,
            "right": null,
            "top": null,
            "visibility": null,
            "width": null
          }
        },
        "055f40474f7345cbaf0e6009d40853f8": {
          "model_module": "@jupyter-widgets/controls",
          "model_name": "DescriptionStyleModel",
          "model_module_version": "1.5.0",
          "state": {
            "_model_module": "@jupyter-widgets/controls",
            "_model_module_version": "1.5.0",
            "_model_name": "DescriptionStyleModel",
            "_view_count": null,
            "_view_module": "@jupyter-widgets/base",
            "_view_module_version": "1.2.0",
            "_view_name": "StyleView",
            "description_width": ""
          }
        },
        "4d88c5dea9904b86a30703e27486d3bf": {
          "model_module": "@jupyter-widgets/base",
          "model_name": "LayoutModel",
          "model_module_version": "1.2.0",
          "state": {
            "_model_module": "@jupyter-widgets/base",
            "_model_module_version": "1.2.0",
            "_model_name": "LayoutModel",
            "_view_count": null,
            "_view_module": "@jupyter-widgets/base",
            "_view_module_version": "1.2.0",
            "_view_name": "LayoutView",
            "align_content": null,
            "align_items": null,
            "align_self": null,
            "border": null,
            "bottom": null,
            "display": null,
            "flex": null,
            "flex_flow": null,
            "grid_area": null,
            "grid_auto_columns": null,
            "grid_auto_flow": null,
            "grid_auto_rows": null,
            "grid_column": null,
            "grid_gap": null,
            "grid_row": null,
            "grid_template_areas": null,
            "grid_template_columns": null,
            "grid_template_rows": null,
            "height": null,
            "justify_content": null,
            "justify_items": null,
            "left": null,
            "margin": null,
            "max_height": null,
            "max_width": null,
            "min_height": null,
            "min_width": null,
            "object_fit": null,
            "object_position": null,
            "order": null,
            "overflow": null,
            "overflow_x": null,
            "overflow_y": null,
            "padding": null,
            "right": null,
            "top": null,
            "visibility": null,
            "width": null
          }
        },
        "a5092495b7c449e88dc99909e3288ebf": {
          "model_module": "@jupyter-widgets/controls",
          "model_name": "ProgressStyleModel",
          "model_module_version": "1.5.0",
          "state": {
            "_model_module": "@jupyter-widgets/controls",
            "_model_module_version": "1.5.0",
            "_model_name": "ProgressStyleModel",
            "_view_count": null,
            "_view_module": "@jupyter-widgets/base",
            "_view_module_version": "1.2.0",
            "_view_name": "StyleView",
            "bar_color": null,
            "description_width": ""
          }
        },
        "66a312f3b08d44a6b068866dea463f3f": {
          "model_module": "@jupyter-widgets/base",
          "model_name": "LayoutModel",
          "model_module_version": "1.2.0",
          "state": {
            "_model_module": "@jupyter-widgets/base",
            "_model_module_version": "1.2.0",
            "_model_name": "LayoutModel",
            "_view_count": null,
            "_view_module": "@jupyter-widgets/base",
            "_view_module_version": "1.2.0",
            "_view_name": "LayoutView",
            "align_content": null,
            "align_items": null,
            "align_self": null,
            "border": null,
            "bottom": null,
            "display": null,
            "flex": null,
            "flex_flow": null,
            "grid_area": null,
            "grid_auto_columns": null,
            "grid_auto_flow": null,
            "grid_auto_rows": null,
            "grid_column": null,
            "grid_gap": null,
            "grid_row": null,
            "grid_template_areas": null,
            "grid_template_columns": null,
            "grid_template_rows": null,
            "height": null,
            "justify_content": null,
            "justify_items": null,
            "left": null,
            "margin": null,
            "max_height": null,
            "max_width": null,
            "min_height": null,
            "min_width": null,
            "object_fit": null,
            "object_position": null,
            "order": null,
            "overflow": null,
            "overflow_x": null,
            "overflow_y": null,
            "padding": null,
            "right": null,
            "top": null,
            "visibility": null,
            "width": null
          }
        },
        "5d286ef9b35944f9ab3e8f126e4bf94e": {
          "model_module": "@jupyter-widgets/controls",
          "model_name": "DescriptionStyleModel",
          "model_module_version": "1.5.0",
          "state": {
            "_model_module": "@jupyter-widgets/controls",
            "_model_module_version": "1.5.0",
            "_model_name": "DescriptionStyleModel",
            "_view_count": null,
            "_view_module": "@jupyter-widgets/base",
            "_view_module_version": "1.2.0",
            "_view_name": "StyleView",
            "description_width": ""
          }
        },
        "feeae3124be04e56a8d0308b4df076f8": {
          "model_module": "@jupyter-widgets/controls",
          "model_name": "HBoxModel",
          "model_module_version": "1.5.0",
          "state": {
            "_dom_classes": [],
            "_model_module": "@jupyter-widgets/controls",
            "_model_module_version": "1.5.0",
            "_model_name": "HBoxModel",
            "_view_count": null,
            "_view_module": "@jupyter-widgets/controls",
            "_view_module_version": "1.5.0",
            "_view_name": "HBoxView",
            "box_style": "",
            "children": [
              "IPY_MODEL_88faabc3c1364eeaab2564bf1bc89368",
              "IPY_MODEL_2e7e4411d1c2485da61d51d1256868b5",
              "IPY_MODEL_0e1ca6ab321e42aaa91189a0f2fa9bb1"
            ],
            "layout": "IPY_MODEL_acf7433d74d742ef88040333c8a45c1f"
          }
        },
        "88faabc3c1364eeaab2564bf1bc89368": {
          "model_module": "@jupyter-widgets/controls",
          "model_name": "HTMLModel",
          "model_module_version": "1.5.0",
          "state": {
            "_dom_classes": [],
            "_model_module": "@jupyter-widgets/controls",
            "_model_module_version": "1.5.0",
            "_model_name": "HTMLModel",
            "_view_count": null,
            "_view_module": "@jupyter-widgets/controls",
            "_view_module_version": "1.5.0",
            "_view_name": "HTMLView",
            "description": "",
            "description_tooltip": null,
            "layout": "IPY_MODEL_cdd14dcb870346a7b9ec58dac07da397",
            "placeholder": "​",
            "style": "IPY_MODEL_0aefae88cbc94cbd8508f3970d1814a6",
            "value": "100%"
          }
        },
        "2e7e4411d1c2485da61d51d1256868b5": {
          "model_module": "@jupyter-widgets/controls",
          "model_name": "FloatProgressModel",
          "model_module_version": "1.5.0",
          "state": {
            "_dom_classes": [],
            "_model_module": "@jupyter-widgets/controls",
            "_model_module_version": "1.5.0",
            "_model_name": "FloatProgressModel",
            "_view_count": null,
            "_view_module": "@jupyter-widgets/controls",
            "_view_module_version": "1.5.0",
            "_view_name": "ProgressView",
            "bar_style": "success",
            "description": "",
            "description_tooltip": null,
            "layout": "IPY_MODEL_d02604194e6847939efdb7aa92c47e62",
            "max": 22,
            "min": 0,
            "orientation": "horizontal",
            "style": "IPY_MODEL_53311dc50e954fd8b7e0a14638a92a06",
            "value": 22
          }
        },
        "0e1ca6ab321e42aaa91189a0f2fa9bb1": {
          "model_module": "@jupyter-widgets/controls",
          "model_name": "HTMLModel",
          "model_module_version": "1.5.0",
          "state": {
            "_dom_classes": [],
            "_model_module": "@jupyter-widgets/controls",
            "_model_module_version": "1.5.0",
            "_model_name": "HTMLModel",
            "_view_count": null,
            "_view_module": "@jupyter-widgets/controls",
            "_view_module_version": "1.5.0",
            "_view_name": "HTMLView",
            "description": "",
            "description_tooltip": null,
            "layout": "IPY_MODEL_5289f054b3654ba687f08b862a162696",
            "placeholder": "​",
            "style": "IPY_MODEL_d5e3868feec6401085b531384b6db903",
            "value": " 22/22 [00:00&lt;00:00, 117.36it/s]"
          }
        },
        "acf7433d74d742ef88040333c8a45c1f": {
          "model_module": "@jupyter-widgets/base",
          "model_name": "LayoutModel",
          "model_module_version": "1.2.0",
          "state": {
            "_model_module": "@jupyter-widgets/base",
            "_model_module_version": "1.2.0",
            "_model_name": "LayoutModel",
            "_view_count": null,
            "_view_module": "@jupyter-widgets/base",
            "_view_module_version": "1.2.0",
            "_view_name": "LayoutView",
            "align_content": null,
            "align_items": null,
            "align_self": null,
            "border": null,
            "bottom": null,
            "display": null,
            "flex": null,
            "flex_flow": null,
            "grid_area": null,
            "grid_auto_columns": null,
            "grid_auto_flow": null,
            "grid_auto_rows": null,
            "grid_column": null,
            "grid_gap": null,
            "grid_row": null,
            "grid_template_areas": null,
            "grid_template_columns": null,
            "grid_template_rows": null,
            "height": null,
            "justify_content": null,
            "justify_items": null,
            "left": null,
            "margin": null,
            "max_height": null,
            "max_width": null,
            "min_height": null,
            "min_width": null,
            "object_fit": null,
            "object_position": null,
            "order": null,
            "overflow": null,
            "overflow_x": null,
            "overflow_y": null,
            "padding": null,
            "right": null,
            "top": null,
            "visibility": null,
            "width": null
          }
        },
        "cdd14dcb870346a7b9ec58dac07da397": {
          "model_module": "@jupyter-widgets/base",
          "model_name": "LayoutModel",
          "model_module_version": "1.2.0",
          "state": {
            "_model_module": "@jupyter-widgets/base",
            "_model_module_version": "1.2.0",
            "_model_name": "LayoutModel",
            "_view_count": null,
            "_view_module": "@jupyter-widgets/base",
            "_view_module_version": "1.2.0",
            "_view_name": "LayoutView",
            "align_content": null,
            "align_items": null,
            "align_self": null,
            "border": null,
            "bottom": null,
            "display": null,
            "flex": null,
            "flex_flow": null,
            "grid_area": null,
            "grid_auto_columns": null,
            "grid_auto_flow": null,
            "grid_auto_rows": null,
            "grid_column": null,
            "grid_gap": null,
            "grid_row": null,
            "grid_template_areas": null,
            "grid_template_columns": null,
            "grid_template_rows": null,
            "height": null,
            "justify_content": null,
            "justify_items": null,
            "left": null,
            "margin": null,
            "max_height": null,
            "max_width": null,
            "min_height": null,
            "min_width": null,
            "object_fit": null,
            "object_position": null,
            "order": null,
            "overflow": null,
            "overflow_x": null,
            "overflow_y": null,
            "padding": null,
            "right": null,
            "top": null,
            "visibility": null,
            "width": null
          }
        },
        "0aefae88cbc94cbd8508f3970d1814a6": {
          "model_module": "@jupyter-widgets/controls",
          "model_name": "DescriptionStyleModel",
          "model_module_version": "1.5.0",
          "state": {
            "_model_module": "@jupyter-widgets/controls",
            "_model_module_version": "1.5.0",
            "_model_name": "DescriptionStyleModel",
            "_view_count": null,
            "_view_module": "@jupyter-widgets/base",
            "_view_module_version": "1.2.0",
            "_view_name": "StyleView",
            "description_width": ""
          }
        },
        "d02604194e6847939efdb7aa92c47e62": {
          "model_module": "@jupyter-widgets/base",
          "model_name": "LayoutModel",
          "model_module_version": "1.2.0",
          "state": {
            "_model_module": "@jupyter-widgets/base",
            "_model_module_version": "1.2.0",
            "_model_name": "LayoutModel",
            "_view_count": null,
            "_view_module": "@jupyter-widgets/base",
            "_view_module_version": "1.2.0",
            "_view_name": "LayoutView",
            "align_content": null,
            "align_items": null,
            "align_self": null,
            "border": null,
            "bottom": null,
            "display": null,
            "flex": null,
            "flex_flow": null,
            "grid_area": null,
            "grid_auto_columns": null,
            "grid_auto_flow": null,
            "grid_auto_rows": null,
            "grid_column": null,
            "grid_gap": null,
            "grid_row": null,
            "grid_template_areas": null,
            "grid_template_columns": null,
            "grid_template_rows": null,
            "height": null,
            "justify_content": null,
            "justify_items": null,
            "left": null,
            "margin": null,
            "max_height": null,
            "max_width": null,
            "min_height": null,
            "min_width": null,
            "object_fit": null,
            "object_position": null,
            "order": null,
            "overflow": null,
            "overflow_x": null,
            "overflow_y": null,
            "padding": null,
            "right": null,
            "top": null,
            "visibility": null,
            "width": null
          }
        },
        "53311dc50e954fd8b7e0a14638a92a06": {
          "model_module": "@jupyter-widgets/controls",
          "model_name": "ProgressStyleModel",
          "model_module_version": "1.5.0",
          "state": {
            "_model_module": "@jupyter-widgets/controls",
            "_model_module_version": "1.5.0",
            "_model_name": "ProgressStyleModel",
            "_view_count": null,
            "_view_module": "@jupyter-widgets/base",
            "_view_module_version": "1.2.0",
            "_view_name": "StyleView",
            "bar_color": null,
            "description_width": ""
          }
        },
        "5289f054b3654ba687f08b862a162696": {
          "model_module": "@jupyter-widgets/base",
          "model_name": "LayoutModel",
          "model_module_version": "1.2.0",
          "state": {
            "_model_module": "@jupyter-widgets/base",
            "_model_module_version": "1.2.0",
            "_model_name": "LayoutModel",
            "_view_count": null,
            "_view_module": "@jupyter-widgets/base",
            "_view_module_version": "1.2.0",
            "_view_name": "LayoutView",
            "align_content": null,
            "align_items": null,
            "align_self": null,
            "border": null,
            "bottom": null,
            "display": null,
            "flex": null,
            "flex_flow": null,
            "grid_area": null,
            "grid_auto_columns": null,
            "grid_auto_flow": null,
            "grid_auto_rows": null,
            "grid_column": null,
            "grid_gap": null,
            "grid_row": null,
            "grid_template_areas": null,
            "grid_template_columns": null,
            "grid_template_rows": null,
            "height": null,
            "justify_content": null,
            "justify_items": null,
            "left": null,
            "margin": null,
            "max_height": null,
            "max_width": null,
            "min_height": null,
            "min_width": null,
            "object_fit": null,
            "object_position": null,
            "order": null,
            "overflow": null,
            "overflow_x": null,
            "overflow_y": null,
            "padding": null,
            "right": null,
            "top": null,
            "visibility": null,
            "width": null
          }
        },
        "d5e3868feec6401085b531384b6db903": {
          "model_module": "@jupyter-widgets/controls",
          "model_name": "DescriptionStyleModel",
          "model_module_version": "1.5.0",
          "state": {
            "_model_module": "@jupyter-widgets/controls",
            "_model_module_version": "1.5.0",
            "_model_name": "DescriptionStyleModel",
            "_view_count": null,
            "_view_module": "@jupyter-widgets/base",
            "_view_module_version": "1.2.0",
            "_view_name": "StyleView",
            "description_width": ""
          }
        }
      }
    }
  },
  "cells": [
    {
      "cell_type": "markdown",
      "source": [
        "# Problem"
      ],
      "metadata": {
        "id": "353eMedJyuPn"
      }
    },
    {
      "cell_type": "markdown",
      "source": [
        "Interpret a model trained to predict the output to simple code functions. E.g. predicting the bold text in problems like\n",
        "$$\n",
        "a = [1, 2, 3] \\\\\n",
        "a[2] = 4 \\\\\n",
        "a -> [\\textbf{1, 2, 4}] \\\\\n",
        "$$"
      ],
      "metadata": {
        "id": "1cBIY2REyvnn"
      }
    },
    {
      "cell_type": "markdown",
      "metadata": {
        "id": "JeENCT8b1kAv"
      },
      "source": [
        "# Setup\n",
        "(No need to read)"
      ]
    },
    {
      "cell_type": "code",
      "execution_count": 239,
      "metadata": {
        "id": "sxK_xiOO1kAv",
        "outputId": "aadbf925-9212-41cc-929f-0cddd69f13cd",
        "colab": {
          "base_uri": "https://localhost:8080/",
          "height": 0
        }
      },
      "outputs": [
        {
          "output_type": "stream",
          "name": "stdout",
          "text": [
            "Running as a Colab notebook\n",
            "Looking in indexes: https://pypi.org/simple, https://us-python.pkg.dev/colab-wheels/public/simple/\n",
            "Collecting git+https://github.com/neelnanda-io/TransformerLens.git\n",
            "  Cloning https://github.com/neelnanda-io/TransformerLens.git to /tmp/pip-req-build-bh2bsk4u\n",
            "  Running command git clone --filter=blob:none --quiet https://github.com/neelnanda-io/TransformerLens.git /tmp/pip-req-build-bh2bsk4u\n",
            "  Resolved https://github.com/neelnanda-io/TransformerLens.git to commit 3cd943628b5c415585c8ef100f65989f6adc7f75\n",
            "  Installing build dependencies ... \u001b[?25l\u001b[?25hdone\n",
            "  Getting requirements to build wheel ... \u001b[?25l\u001b[?25hdone\n",
            "  Preparing metadata (pyproject.toml) ... \u001b[?25l\u001b[?25hdone\n",
            "Requirement already satisfied: datasets>=2.7.1 in /usr/local/lib/python3.10/dist-packages (from transformer-lens==0.0.0) (2.13.1)\n",
            "Requirement already satisfied: einops>=0.6.0 in /usr/local/lib/python3.10/dist-packages (from transformer-lens==0.0.0) (0.6.1)\n",
            "Requirement already satisfied: fancy-einsum>=0.0.3 in /usr/local/lib/python3.10/dist-packages (from transformer-lens==0.0.0) (0.0.3)\n",
            "Requirement already satisfied: jaxtyping>=0.2.11 in /usr/local/lib/python3.10/dist-packages (from transformer-lens==0.0.0) (0.2.20)\n",
            "Requirement already satisfied: numpy>=1.23 in /usr/local/lib/python3.10/dist-packages (from transformer-lens==0.0.0) (1.25.0)\n",
            "Requirement already satisfied: pandas>=1.1.5 in /usr/local/lib/python3.10/dist-packages (from transformer-lens==0.0.0) (1.5.3)\n",
            "Requirement already satisfied: rich>=12.6.0 in /usr/local/lib/python3.10/dist-packages (from transformer-lens==0.0.0) (13.4.2)\n",
            "Requirement already satisfied: torch>=1.10 in /usr/local/lib/python3.10/dist-packages (from transformer-lens==0.0.0) (2.0.1+cu118)\n",
            "Requirement already satisfied: tqdm>=4.64.1 in /usr/local/lib/python3.10/dist-packages (from transformer-lens==0.0.0) (4.65.0)\n",
            "Requirement already satisfied: transformers>=4.25.1 in /usr/local/lib/python3.10/dist-packages (from transformer-lens==0.0.0) (4.30.2)\n",
            "Collecting typeguard<4.0.0,>=3.0.2 (from transformer-lens==0.0.0)\n",
            "  Using cached typeguard-3.0.2-py3-none-any.whl (30 kB)\n",
            "Requirement already satisfied: wandb>=0.13.5 in /usr/local/lib/python3.10/dist-packages (from transformer-lens==0.0.0) (0.15.4)\n",
            "Requirement already satisfied: pyarrow>=8.0.0 in /usr/local/lib/python3.10/dist-packages (from datasets>=2.7.1->transformer-lens==0.0.0) (9.0.0)\n",
            "Requirement already satisfied: dill<0.3.7,>=0.3.0 in /usr/local/lib/python3.10/dist-packages (from datasets>=2.7.1->transformer-lens==0.0.0) (0.3.6)\n",
            "Requirement already satisfied: requests>=2.19.0 in /usr/local/lib/python3.10/dist-packages (from datasets>=2.7.1->transformer-lens==0.0.0) (2.27.1)\n",
            "Requirement already satisfied: xxhash in /usr/local/lib/python3.10/dist-packages (from datasets>=2.7.1->transformer-lens==0.0.0) (3.2.0)\n",
            "Requirement already satisfied: multiprocess in /usr/local/lib/python3.10/dist-packages (from datasets>=2.7.1->transformer-lens==0.0.0) (0.70.14)\n",
            "Requirement already satisfied: fsspec[http]>=2021.11.1 in /usr/local/lib/python3.10/dist-packages (from datasets>=2.7.1->transformer-lens==0.0.0) (2023.6.0)\n",
            "Requirement already satisfied: aiohttp in /usr/local/lib/python3.10/dist-packages (from datasets>=2.7.1->transformer-lens==0.0.0) (3.8.4)\n",
            "Requirement already satisfied: huggingface-hub<1.0.0,>=0.11.0 in /usr/local/lib/python3.10/dist-packages (from datasets>=2.7.1->transformer-lens==0.0.0) (0.15.1)\n",
            "Requirement already satisfied: packaging in /usr/local/lib/python3.10/dist-packages (from datasets>=2.7.1->transformer-lens==0.0.0) (23.1)\n",
            "Requirement already satisfied: pyyaml>=5.1 in /usr/local/lib/python3.10/dist-packages (from datasets>=2.7.1->transformer-lens==0.0.0) (6.0)\n",
            "Requirement already satisfied: typing-extensions>=3.7.4.1 in /usr/local/lib/python3.10/dist-packages (from jaxtyping>=0.2.11->transformer-lens==0.0.0) (4.6.3)\n",
            "Requirement already satisfied: python-dateutil>=2.8.1 in /usr/local/lib/python3.10/dist-packages (from pandas>=1.1.5->transformer-lens==0.0.0) (2.8.2)\n",
            "Requirement already satisfied: pytz>=2020.1 in /usr/local/lib/python3.10/dist-packages (from pandas>=1.1.5->transformer-lens==0.0.0) (2022.7.1)\n",
            "Requirement already satisfied: markdown-it-py>=2.2.0 in /usr/local/lib/python3.10/dist-packages (from rich>=12.6.0->transformer-lens==0.0.0) (3.0.0)\n",
            "Requirement already satisfied: pygments<3.0.0,>=2.13.0 in /usr/local/lib/python3.10/dist-packages (from rich>=12.6.0->transformer-lens==0.0.0) (2.14.0)\n",
            "Requirement already satisfied: filelock in /usr/local/lib/python3.10/dist-packages (from torch>=1.10->transformer-lens==0.0.0) (3.12.2)\n",
            "Requirement already satisfied: sympy in /usr/local/lib/python3.10/dist-packages (from torch>=1.10->transformer-lens==0.0.0) (1.11.1)\n",
            "Requirement already satisfied: networkx in /usr/local/lib/python3.10/dist-packages (from torch>=1.10->transformer-lens==0.0.0) (3.1)\n",
            "Requirement already satisfied: jinja2 in /usr/local/lib/python3.10/dist-packages (from torch>=1.10->transformer-lens==0.0.0) (3.1.2)\n",
            "Requirement already satisfied: triton==2.0.0 in /usr/local/lib/python3.10/dist-packages (from torch>=1.10->transformer-lens==0.0.0) (2.0.0)\n",
            "Requirement already satisfied: cmake in /usr/local/lib/python3.10/dist-packages (from triton==2.0.0->torch>=1.10->transformer-lens==0.0.0) (3.25.2)\n",
            "Requirement already satisfied: lit in /usr/local/lib/python3.10/dist-packages (from triton==2.0.0->torch>=1.10->transformer-lens==0.0.0) (16.0.6)\n",
            "Requirement already satisfied: regex!=2019.12.17 in /usr/local/lib/python3.10/dist-packages (from transformers>=4.25.1->transformer-lens==0.0.0) (2022.10.31)\n",
            "Requirement already satisfied: tokenizers!=0.11.3,<0.14,>=0.11.1 in /usr/local/lib/python3.10/dist-packages (from transformers>=4.25.1->transformer-lens==0.0.0) (0.13.3)\n",
            "Requirement already satisfied: safetensors>=0.3.1 in /usr/local/lib/python3.10/dist-packages (from transformers>=4.25.1->transformer-lens==0.0.0) (0.3.1)\n",
            "Requirement already satisfied: Click!=8.0.0,>=7.0 in /usr/local/lib/python3.10/dist-packages (from wandb>=0.13.5->transformer-lens==0.0.0) (8.1.3)\n",
            "Requirement already satisfied: GitPython!=3.1.29,>=1.0.0 in /usr/local/lib/python3.10/dist-packages (from wandb>=0.13.5->transformer-lens==0.0.0) (3.1.31)\n",
            "Requirement already satisfied: psutil>=5.0.0 in /usr/local/lib/python3.10/dist-packages (from wandb>=0.13.5->transformer-lens==0.0.0) (5.9.5)\n",
            "Requirement already satisfied: sentry-sdk>=1.0.0 in /usr/local/lib/python3.10/dist-packages (from wandb>=0.13.5->transformer-lens==0.0.0) (1.26.0)\n",
            "Requirement already satisfied: docker-pycreds>=0.4.0 in /usr/local/lib/python3.10/dist-packages (from wandb>=0.13.5->transformer-lens==0.0.0) (0.4.0)\n",
            "Requirement already satisfied: pathtools in /usr/local/lib/python3.10/dist-packages (from wandb>=0.13.5->transformer-lens==0.0.0) (0.1.2)\n",
            "Requirement already satisfied: setproctitle in /usr/local/lib/python3.10/dist-packages (from wandb>=0.13.5->transformer-lens==0.0.0) (1.3.2)\n",
            "Requirement already satisfied: setuptools in /usr/local/lib/python3.10/dist-packages (from wandb>=0.13.5->transformer-lens==0.0.0) (67.7.2)\n",
            "Requirement already satisfied: appdirs>=1.4.3 in /usr/local/lib/python3.10/dist-packages (from wandb>=0.13.5->transformer-lens==0.0.0) (1.4.4)\n",
            "Requirement already satisfied: protobuf!=4.21.0,<5,>=3.19.0 in /usr/local/lib/python3.10/dist-packages (from wandb>=0.13.5->transformer-lens==0.0.0) (3.20.3)\n",
            "Requirement already satisfied: six>=1.4.0 in /usr/local/lib/python3.10/dist-packages (from docker-pycreds>=0.4.0->wandb>=0.13.5->transformer-lens==0.0.0) (1.16.0)\n",
            "Requirement already satisfied: attrs>=17.3.0 in /usr/local/lib/python3.10/dist-packages (from aiohttp->datasets>=2.7.1->transformer-lens==0.0.0) (23.1.0)\n",
            "Requirement already satisfied: charset-normalizer<4.0,>=2.0 in /usr/local/lib/python3.10/dist-packages (from aiohttp->datasets>=2.7.1->transformer-lens==0.0.0) (2.0.12)\n",
            "Requirement already satisfied: multidict<7.0,>=4.5 in /usr/local/lib/python3.10/dist-packages (from aiohttp->datasets>=2.7.1->transformer-lens==0.0.0) (6.0.4)\n",
            "Requirement already satisfied: async-timeout<5.0,>=4.0.0a3 in /usr/local/lib/python3.10/dist-packages (from aiohttp->datasets>=2.7.1->transformer-lens==0.0.0) (4.0.2)\n",
            "Requirement already satisfied: yarl<2.0,>=1.0 in /usr/local/lib/python3.10/dist-packages (from aiohttp->datasets>=2.7.1->transformer-lens==0.0.0) (1.9.2)\n",
            "Requirement already satisfied: frozenlist>=1.1.1 in /usr/local/lib/python3.10/dist-packages (from aiohttp->datasets>=2.7.1->transformer-lens==0.0.0) (1.3.3)\n",
            "Requirement already satisfied: aiosignal>=1.1.2 in /usr/local/lib/python3.10/dist-packages (from aiohttp->datasets>=2.7.1->transformer-lens==0.0.0) (1.3.1)\n",
            "Requirement already satisfied: gitdb<5,>=4.0.1 in /usr/local/lib/python3.10/dist-packages (from GitPython!=3.1.29,>=1.0.0->wandb>=0.13.5->transformer-lens==0.0.0) (4.0.10)\n",
            "Requirement already satisfied: mdurl~=0.1 in /usr/local/lib/python3.10/dist-packages (from markdown-it-py>=2.2.0->rich>=12.6.0->transformer-lens==0.0.0) (0.1.2)\n",
            "Requirement already satisfied: urllib3<1.27,>=1.21.1 in /usr/local/lib/python3.10/dist-packages (from requests>=2.19.0->datasets>=2.7.1->transformer-lens==0.0.0) (1.26.16)\n",
            "Requirement already satisfied: certifi>=2017.4.17 in /usr/local/lib/python3.10/dist-packages (from requests>=2.19.0->datasets>=2.7.1->transformer-lens==0.0.0) (2023.5.7)\n",
            "Requirement already satisfied: idna<4,>=2.5 in /usr/local/lib/python3.10/dist-packages (from requests>=2.19.0->datasets>=2.7.1->transformer-lens==0.0.0) (3.4)\n",
            "Requirement already satisfied: MarkupSafe>=2.0 in /usr/local/lib/python3.10/dist-packages (from jinja2->torch>=1.10->transformer-lens==0.0.0) (2.1.3)\n",
            "Requirement already satisfied: mpmath>=0.19 in /usr/local/lib/python3.10/dist-packages (from sympy->torch>=1.10->transformer-lens==0.0.0) (1.3.0)\n",
            "Requirement already satisfied: smmap<6,>=3.0.1 in /usr/local/lib/python3.10/dist-packages (from gitdb<5,>=4.0.1->GitPython!=3.1.29,>=1.0.0->wandb>=0.13.5->transformer-lens==0.0.0) (5.0.0)\n",
            "Installing collected packages: typeguard\n",
            "  Attempting uninstall: typeguard\n",
            "    Found existing installation: typeguard 2.13.3\n",
            "    Uninstalling typeguard-2.13.3:\n",
            "      Successfully uninstalled typeguard-2.13.3\n",
            "\u001b[31mERROR: pip's dependency resolver does not currently take into account all the packages that are installed. This behaviour is the source of the following dependency conflicts.\n",
            "pysvelte 1.0.0 requires typeguard~=2.0, but you have typeguard 3.0.2 which is incompatible.\u001b[0m\u001b[31m\n",
            "\u001b[0mSuccessfully installed typeguard-3.0.2\n"
          ]
        },
        {
          "output_type": "display_data",
          "data": {
            "application/vnd.colab-display-data+json": {
              "pip_warning": {
                "packages": [
                  "typeguard"
                ]
              }
            }
          },
          "metadata": {}
        },
        {
          "output_type": "stream",
          "name": "stdout",
          "text": [
            "\n",
            "## Installing the NodeSource Node.js 16.x repo...\n",
            "\n",
            "\n",
            "## Populating apt-get cache...\n",
            "\n",
            "+ apt-get update\n",
            "\r0% [Working]\r            \rHit:1 https://deb.nodesource.com/node_16.x focal InRelease\n",
            "Hit:2 https://developer.download.nvidia.com/compute/cuda/repos/ubuntu2004/x86_64  InRelease\n",
            "Get:3 https://cloud.r-project.org/bin/linux/ubuntu focal-cran40/ InRelease [3,622 B]\n",
            "Hit:4 http://archive.ubuntu.com/ubuntu focal InRelease\n",
            "Hit:5 http://ppa.launchpad.net/c2d4u.team/c2d4u4.0+/ubuntu focal InRelease\n",
            "Get:6 http://archive.ubuntu.com/ubuntu focal-updates InRelease [114 kB]\n",
            "Get:7 http://security.ubuntu.com/ubuntu focal-security InRelease [114 kB]\n",
            "Hit:8 http://ppa.launchpad.net/cran/libgit2/ubuntu focal InRelease\n",
            "Hit:9 http://ppa.launchpad.net/deadsnakes/ppa/ubuntu focal InRelease\n",
            "Get:10 http://archive.ubuntu.com/ubuntu focal-backports InRelease [108 kB]\n",
            "Hit:11 http://ppa.launchpad.net/graphics-drivers/ppa/ubuntu focal InRelease\n",
            "Hit:12 http://ppa.launchpad.net/ubuntugis/ppa/ubuntu focal InRelease\n",
            "Fetched 340 kB in 2s (159 kB/s)\n",
            "Reading package lists... Done\n",
            "\n",
            "## Confirming \"focal\" is supported...\n",
            "\n",
            "+ curl -sLf -o /dev/null 'https://deb.nodesource.com/node_16.x/dists/focal/Release'\n",
            "\n",
            "## Adding the NodeSource signing key to your keyring...\n",
            "\n",
            "+ curl -s https://deb.nodesource.com/gpgkey/nodesource.gpg.key | gpg --dearmor | tee /usr/share/keyrings/nodesource.gpg >/dev/null\n",
            "\n",
            "## Creating apt sources list file for the NodeSource Node.js 16.x repo...\n",
            "\n",
            "+ echo 'deb [signed-by=/usr/share/keyrings/nodesource.gpg] https://deb.nodesource.com/node_16.x focal main' > /etc/apt/sources.list.d/nodesource.list\n",
            "+ echo 'deb-src [signed-by=/usr/share/keyrings/nodesource.gpg] https://deb.nodesource.com/node_16.x focal main' >> /etc/apt/sources.list.d/nodesource.list\n",
            "\n",
            "## Running `apt-get update` for you...\n",
            "\n",
            "+ apt-get update\n",
            "Hit:1 https://deb.nodesource.com/node_16.x focal InRelease\n",
            "Hit:2 https://cloud.r-project.org/bin/linux/ubuntu focal-cran40/ InRelease\n",
            "Hit:3 https://developer.download.nvidia.com/compute/cuda/repos/ubuntu2004/x86_64  InRelease\n",
            "Hit:4 http://ppa.launchpad.net/c2d4u.team/c2d4u4.0+/ubuntu focal InRelease\n",
            "Get:5 http://security.ubuntu.com/ubuntu focal-security InRelease [114 kB]\n",
            "Hit:6 http://archive.ubuntu.com/ubuntu focal InRelease\n",
            "Hit:7 http://ppa.launchpad.net/cran/libgit2/ubuntu focal InRelease\n",
            "Hit:8 http://archive.ubuntu.com/ubuntu focal-updates InRelease\n",
            "Get:9 http://archive.ubuntu.com/ubuntu focal-backports InRelease [108 kB]\n",
            "Hit:10 http://ppa.launchpad.net/deadsnakes/ppa/ubuntu focal InRelease\n",
            "Hit:11 http://ppa.launchpad.net/graphics-drivers/ppa/ubuntu focal InRelease\n",
            "Hit:12 http://ppa.launchpad.net/ubuntugis/ppa/ubuntu focal InRelease\n",
            "Fetched 222 kB in 2s (115 kB/s)\n",
            "Reading package lists... Done\n",
            "\n",
            "## Run `\u001b[1msudo apt-get install -y nodejs\u001b[m` to install Node.js 16.x and npm\n",
            "## You may also need development tools to build native addons:\n",
            "     sudo apt-get install gcc g++ make\n",
            "## To install the Yarn package manager, run:\n",
            "     curl -sL https://dl.yarnpkg.com/debian/pubkey.gpg | gpg --dearmor | sudo tee /usr/share/keyrings/yarnkey.gpg >/dev/null\n",
            "     echo \"deb [signed-by=/usr/share/keyrings/yarnkey.gpg] https://dl.yarnpkg.com/debian stable main\" | sudo tee /etc/apt/sources.list.d/yarn.list\n",
            "     sudo apt-get update && sudo apt-get install yarn\n",
            "\n",
            "\n",
            "Reading package lists... Done\n",
            "Building dependency tree       \n",
            "Reading state information... Done\n",
            "nodejs is already the newest version (16.20.1-deb-1nodesource1).\n",
            "0 upgraded, 0 newly installed, 0 to remove and 13 not upgraded.\n",
            "Looking in indexes: https://pypi.org/simple, https://us-python.pkg.dev/colab-wheels/public/simple/\n",
            "Collecting git+https://github.com/neelnanda-io/PySvelte.git\n",
            "  Cloning https://github.com/neelnanda-io/PySvelte.git to /tmp/pip-req-build-cw7c1dxj\n",
            "  Running command git clone --filter=blob:none --quiet https://github.com/neelnanda-io/PySvelte.git /tmp/pip-req-build-cw7c1dxj\n",
            "  Resolved https://github.com/neelnanda-io/PySvelte.git to commit 6f5d971a148d40fb7481d400ae74551b37340e83\n",
            "  Preparing metadata (setup.py) ... \u001b[?25l\u001b[?25hdone\n",
            "Requirement already satisfied: einops in /usr/local/lib/python3.10/dist-packages (from PySvelte==1.0.0) (0.6.1)\n",
            "Requirement already satisfied: numpy in /usr/local/lib/python3.10/dist-packages (from PySvelte==1.0.0) (1.25.0)\n",
            "Requirement already satisfied: torch in /usr/local/lib/python3.10/dist-packages (from PySvelte==1.0.0) (2.0.1+cu118)\n",
            "Requirement already satisfied: datasets in /usr/local/lib/python3.10/dist-packages (from PySvelte==1.0.0) (2.13.1)\n",
            "Requirement already satisfied: transformers in /usr/local/lib/python3.10/dist-packages (from PySvelte==1.0.0) (4.30.2)\n",
            "Requirement already satisfied: tqdm in /usr/local/lib/python3.10/dist-packages (from PySvelte==1.0.0) (4.65.0)\n",
            "Requirement already satisfied: pandas in /usr/local/lib/python3.10/dist-packages (from PySvelte==1.0.0) (1.5.3)\n",
            "Collecting typeguard~=2.0 (from PySvelte==1.0.0)\n",
            "  Using cached typeguard-2.13.3-py3-none-any.whl (17 kB)\n",
            "Requirement already satisfied: pyarrow>=8.0.0 in /usr/local/lib/python3.10/dist-packages (from datasets->PySvelte==1.0.0) (9.0.0)\n",
            "Requirement already satisfied: dill<0.3.7,>=0.3.0 in /usr/local/lib/python3.10/dist-packages (from datasets->PySvelte==1.0.0) (0.3.6)\n",
            "Requirement already satisfied: requests>=2.19.0 in /usr/local/lib/python3.10/dist-packages (from datasets->PySvelte==1.0.0) (2.27.1)\n",
            "Requirement already satisfied: xxhash in /usr/local/lib/python3.10/dist-packages (from datasets->PySvelte==1.0.0) (3.2.0)\n",
            "Requirement already satisfied: multiprocess in /usr/local/lib/python3.10/dist-packages (from datasets->PySvelte==1.0.0) (0.70.14)\n",
            "Requirement already satisfied: fsspec[http]>=2021.11.1 in /usr/local/lib/python3.10/dist-packages (from datasets->PySvelte==1.0.0) (2023.6.0)\n",
            "Requirement already satisfied: aiohttp in /usr/local/lib/python3.10/dist-packages (from datasets->PySvelte==1.0.0) (3.8.4)\n",
            "Requirement already satisfied: huggingface-hub<1.0.0,>=0.11.0 in /usr/local/lib/python3.10/dist-packages (from datasets->PySvelte==1.0.0) (0.15.1)\n",
            "Requirement already satisfied: packaging in /usr/local/lib/python3.10/dist-packages (from datasets->PySvelte==1.0.0) (23.1)\n",
            "Requirement already satisfied: pyyaml>=5.1 in /usr/local/lib/python3.10/dist-packages (from datasets->PySvelte==1.0.0) (6.0)\n",
            "Requirement already satisfied: python-dateutil>=2.8.1 in /usr/local/lib/python3.10/dist-packages (from pandas->PySvelte==1.0.0) (2.8.2)\n",
            "Requirement already satisfied: pytz>=2020.1 in /usr/local/lib/python3.10/dist-packages (from pandas->PySvelte==1.0.0) (2022.7.1)\n",
            "Requirement already satisfied: filelock in /usr/local/lib/python3.10/dist-packages (from torch->PySvelte==1.0.0) (3.12.2)\n",
            "Requirement already satisfied: typing-extensions in /usr/local/lib/python3.10/dist-packages (from torch->PySvelte==1.0.0) (4.6.3)\n",
            "Requirement already satisfied: sympy in /usr/local/lib/python3.10/dist-packages (from torch->PySvelte==1.0.0) (1.11.1)\n",
            "Requirement already satisfied: networkx in /usr/local/lib/python3.10/dist-packages (from torch->PySvelte==1.0.0) (3.1)\n",
            "Requirement already satisfied: jinja2 in /usr/local/lib/python3.10/dist-packages (from torch->PySvelte==1.0.0) (3.1.2)\n",
            "Requirement already satisfied: triton==2.0.0 in /usr/local/lib/python3.10/dist-packages (from torch->PySvelte==1.0.0) (2.0.0)\n",
            "Requirement already satisfied: cmake in /usr/local/lib/python3.10/dist-packages (from triton==2.0.0->torch->PySvelte==1.0.0) (3.25.2)\n",
            "Requirement already satisfied: lit in /usr/local/lib/python3.10/dist-packages (from triton==2.0.0->torch->PySvelte==1.0.0) (16.0.6)\n",
            "Requirement already satisfied: regex!=2019.12.17 in /usr/local/lib/python3.10/dist-packages (from transformers->PySvelte==1.0.0) (2022.10.31)\n",
            "Requirement already satisfied: tokenizers!=0.11.3,<0.14,>=0.11.1 in /usr/local/lib/python3.10/dist-packages (from transformers->PySvelte==1.0.0) (0.13.3)\n",
            "Requirement already satisfied: safetensors>=0.3.1 in /usr/local/lib/python3.10/dist-packages (from transformers->PySvelte==1.0.0) (0.3.1)\n",
            "Requirement already satisfied: attrs>=17.3.0 in /usr/local/lib/python3.10/dist-packages (from aiohttp->datasets->PySvelte==1.0.0) (23.1.0)\n",
            "Requirement already satisfied: charset-normalizer<4.0,>=2.0 in /usr/local/lib/python3.10/dist-packages (from aiohttp->datasets->PySvelte==1.0.0) (2.0.12)\n",
            "Requirement already satisfied: multidict<7.0,>=4.5 in /usr/local/lib/python3.10/dist-packages (from aiohttp->datasets->PySvelte==1.0.0) (6.0.4)\n",
            "Requirement already satisfied: async-timeout<5.0,>=4.0.0a3 in /usr/local/lib/python3.10/dist-packages (from aiohttp->datasets->PySvelte==1.0.0) (4.0.2)\n",
            "Requirement already satisfied: yarl<2.0,>=1.0 in /usr/local/lib/python3.10/dist-packages (from aiohttp->datasets->PySvelte==1.0.0) (1.9.2)\n",
            "Requirement already satisfied: frozenlist>=1.1.1 in /usr/local/lib/python3.10/dist-packages (from aiohttp->datasets->PySvelte==1.0.0) (1.3.3)\n",
            "Requirement already satisfied: aiosignal>=1.1.2 in /usr/local/lib/python3.10/dist-packages (from aiohttp->datasets->PySvelte==1.0.0) (1.3.1)\n",
            "Requirement already satisfied: six>=1.5 in /usr/local/lib/python3.10/dist-packages (from python-dateutil>=2.8.1->pandas->PySvelte==1.0.0) (1.16.0)\n",
            "Requirement already satisfied: urllib3<1.27,>=1.21.1 in /usr/local/lib/python3.10/dist-packages (from requests>=2.19.0->datasets->PySvelte==1.0.0) (1.26.16)\n",
            "Requirement already satisfied: certifi>=2017.4.17 in /usr/local/lib/python3.10/dist-packages (from requests>=2.19.0->datasets->PySvelte==1.0.0) (2023.5.7)\n",
            "Requirement already satisfied: idna<4,>=2.5 in /usr/local/lib/python3.10/dist-packages (from requests>=2.19.0->datasets->PySvelte==1.0.0) (3.4)\n",
            "Requirement already satisfied: MarkupSafe>=2.0 in /usr/local/lib/python3.10/dist-packages (from jinja2->torch->PySvelte==1.0.0) (2.1.3)\n",
            "Requirement already satisfied: mpmath>=0.19 in /usr/local/lib/python3.10/dist-packages (from sympy->torch->PySvelte==1.0.0) (1.3.0)\n",
            "Installing collected packages: typeguard\n",
            "  Attempting uninstall: typeguard\n",
            "    Found existing installation: typeguard 3.0.2\n",
            "    Uninstalling typeguard-3.0.2:\n",
            "      Successfully uninstalled typeguard-3.0.2\n",
            "\u001b[31mERROR: pip's dependency resolver does not currently take into account all the packages that are installed. This behaviour is the source of the following dependency conflicts.\n",
            "transformer-lens 0.0.0 requires typeguard<4.0.0,>=3.0.2, but you have typeguard 2.13.3 which is incompatible.\u001b[0m\u001b[31m\n",
            "\u001b[0mSuccessfully installed typeguard-2.13.3\n"
          ]
        },
        {
          "output_type": "display_data",
          "data": {
            "application/vnd.colab-display-data+json": {
              "pip_warning": {
                "packages": [
                  "typeguard"
                ]
              }
            }
          },
          "metadata": {}
        },
        {
          "output_type": "stream",
          "name": "stdout",
          "text": [
            "Looking in indexes: https://pypi.org/simple, https://us-python.pkg.dev/colab-wheels/public/simple/\n",
            "Requirement already satisfied: typeguard==2.13.3 in /usr/local/lib/python3.10/dist-packages (2.13.3)\n"
          ]
        }
      ],
      "source": [
        "# Janky code to do different setup when run in a Colab notebook vs VSCode\n",
        "DEBUG_MODE = False\n",
        "try:\n",
        "    import google.colab\n",
        "    IN_COLAB = True\n",
        "    print(\"Running as a Colab notebook\")\n",
        "    %pip install git+https://github.com/neelnanda-io/TransformerLens.git\n",
        "    # Install another version of node that makes PySvelte work way faster\n",
        "    !curl -fsSL https://deb.nodesource.com/setup_16.x | sudo -E bash -; sudo apt-get install -y nodejs\n",
        "    %pip install git+https://github.com/neelnanda-io/PySvelte.git\n",
        "    # Needed for PySvelte to work, v3 came out and broke things...\n",
        "    %pip install typeguard==2.13.3\n",
        "except:\n",
        "    IN_COLAB = False\n",
        "    print(\"Running as a Jupyter notebook - intended for development only!\")\n",
        "    from IPython import get_ipython\n",
        "\n",
        "    ipython = get_ipython()\n",
        "    # Code to automatically update the HookedTransformer code as its edited without restarting the kernel\n",
        "    ipython.magic(\"load_ext autoreload\")\n",
        "    ipython.magic(\"autoreload 2\")"
      ]
    },
    {
      "cell_type": "code",
      "execution_count": 240,
      "metadata": {
        "id": "ucSutS0c1kAw"
      },
      "outputs": [],
      "source": [
        "# Plotly needs a different renderer for VSCode/Notebooks vs Colab argh\n",
        "import plotly.io as pio\n",
        "\n",
        "if IN_COLAB or not DEBUG_MODE:\n",
        "    # Thanks to annoying rendering issues, Plotly graphics will either show up in colab OR Vscode depending on the renderer - this is bad for developing demos! Thus creating a debug mode.\n",
        "    pio.renderers.default = \"colab\"\n",
        "else:\n",
        "    pio.renderers.default = \"png\""
      ]
    },
    {
      "cell_type": "code",
      "execution_count": 241,
      "metadata": {
        "id": "uR_n0Mrl1kAx"
      },
      "outputs": [],
      "source": [
        "# Import stuff\n",
        "import torch\n",
        "import torch.nn as nn\n",
        "import torch.nn.functional as F\n",
        "import torch.optim as optim\n",
        "import numpy as np\n",
        "import einops\n",
        "import tqdm.notebook as tqdm\n",
        "import random\n",
        "from pathlib import Path\n",
        "import plotly.express as px\n",
        "from torch.utils.data import DataLoader\n",
        "\n",
        "from jaxtyping import Float, Int\n",
        "from typing import List, Union, Optional\n",
        "from functools import partial\n",
        "import copy\n",
        "\n",
        "import itertools\n",
        "from transformers import AutoModelForCausalLM, AutoConfig, AutoTokenizer\n",
        "import dataclasses\n",
        "from dataclasses import dataclass\n",
        "import datasets\n",
        "from IPython.display import HTML"
      ]
    },
    {
      "cell_type": "code",
      "execution_count": 242,
      "metadata": {
        "id": "YSZhMtBl1kAx"
      },
      "outputs": [],
      "source": [
        "import pysvelte\n",
        "\n",
        "import transformer_lens\n",
        "import transformer_lens.utils as utils\n",
        "from transformer_lens.hook_points import (\n",
        "    HookedRootModule,\n",
        "    HookPoint,\n",
        ")  # Hooking utilities\n",
        "from transformer_lens import HookedTransformer, HookedTransformerConfig, FactoredMatrix, ActivationCache"
      ]
    },
    {
      "cell_type": "markdown",
      "metadata": {
        "id": "DPzBb_kI1kAy"
      },
      "source": [
        "Plotting helper functions:"
      ]
    },
    {
      "cell_type": "code",
      "execution_count": 243,
      "metadata": {
        "id": "fBIDNqzV1kAy"
      },
      "outputs": [],
      "source": [
        "import plotly.graph_objects as go\n",
        "\n",
        "update_layout_set = {\"xaxis_range\", \"yaxis_range\", \"hovermode\", \"xaxis_title\", \"yaxis_title\", \"colorbar\", \"colorscale\", \"coloraxis\", \"title_x\", \"bargap\", \"bargroupgap\", \"xaxis_tickformat\", \"yaxis_tickformat\", \"title_y\", \"legend_title_text\", \"xaxis_showgrid\", \"xaxis_gridwidth\", \"xaxis_gridcolor\", \"yaxis_showgrid\", \"yaxis_gridwidth\"}\n",
        "def imshow(tensor, renderer=None, xaxis=\"\", yaxis=\"\", **kwargs):\n",
        "    if isinstance(tensor, list):\n",
        "        tensor = torch.stack(tensor)\n",
        "    kwargs_post = {k: v for k, v in kwargs.items() if k in update_layout_set}\n",
        "    kwargs_pre = {k: v for k, v in kwargs.items() if k not in update_layout_set}\n",
        "    if \"facet_labels\" in kwargs_pre:\n",
        "        facet_labels = kwargs_pre.pop(\"facet_labels\")\n",
        "    else:\n",
        "        facet_labels = None\n",
        "    if \"color_continuous_scale\" not in kwargs_pre:\n",
        "        kwargs_pre[\"color_continuous_scale\"] = \"RdBu\"\n",
        "    fig = px.imshow(utils.to_numpy(tensor), color_continuous_midpoint=0.0,labels={\"x\":xaxis, \"y\":yaxis}, **kwargs_pre).update_layout(**kwargs_post)\n",
        "    if facet_labels:\n",
        "        for i, label in enumerate(facet_labels):\n",
        "            fig.layout.annotations[i]['text'] = label\n",
        "\n",
        "    fig.show(renderer)\n",
        "\n",
        "def line(tensor, renderer=None, xaxis=\"\", yaxis=\"\", **kwargs):\n",
        "    px.line(y=utils.to_numpy(tensor), labels={\"x\":xaxis, \"y\":yaxis}, **kwargs).show(renderer)\n",
        "\n",
        "def scatter(x, y, xaxis=\"\", yaxis=\"\", caxis=\"\", renderer=None, **kwargs):\n",
        "    x = utils.to_numpy(x)\n",
        "    y = utils.to_numpy(y)\n",
        "    px.scatter(y=y, x=x, labels={\"x\":xaxis, \"y\":yaxis, \"color\":caxis}, **kwargs).show(renderer)\n",
        "\n",
        "def lines(lines_list, x=None, mode='lines', labels=None, xaxis='', yaxis='', title = '', log_y=False, hover=None, **kwargs):\n",
        "    # Helper function to plot multiple lines\n",
        "    if type(lines_list)==torch.Tensor:\n",
        "        lines_list = [lines_list[i] for i in range(lines_list.shape[0])]\n",
        "    if x is None:\n",
        "        x=np.arange(len(lines_list[0]))\n",
        "    fig = go.Figure(layout={'title':title})\n",
        "    fig.update_xaxes(title=xaxis)\n",
        "    fig.update_yaxes(title=yaxis)\n",
        "    for c, line in enumerate(lines_list):\n",
        "        if type(line)==torch.Tensor:\n",
        "            line = utils.to_numpy(line)\n",
        "        if labels is not None:\n",
        "            label = labels[c]\n",
        "        else:\n",
        "            label = c\n",
        "        fig.add_trace(go.Scatter(x=x, y=line, mode=mode, name=label, hovertext=hover, **kwargs))\n",
        "    if log_y:\n",
        "        fig.update_layout(yaxis_type=\"log\")\n",
        "    fig.show()\n",
        "\n",
        "def bar(tensor, renderer=None, xaxis=\"\", yaxis=\"\", **kwargs):\n",
        "    px.bar(\n",
        "        y=utils.to_numpy(tensor),\n",
        "        labels={\"x\": xaxis, \"y\": yaxis},\n",
        "        template=\"simple_white\",\n",
        "        **kwargs).show(renderer)"
      ]
    },
    {
      "cell_type": "code",
      "source": [
        "import transformer_lens.patching as patching\n",
        "from transformer_lens import evals\n",
        "import math"
      ],
      "metadata": {
        "id": "MzEwzeib1tjE"
      },
      "execution_count": 244,
      "outputs": []
    },
    {
      "cell_type": "code",
      "source": [
        "def visualize_attn_patterns(heads, local_tokens, local_cache, title: str = \"\"):\n",
        "    labels = []\n",
        "    patterns = []\n",
        "    batch_index = 0\n",
        "\n",
        "    for head in heads:\n",
        "        if isinstance(head, tuple):\n",
        "            layer, head_index = head\n",
        "        else:\n",
        "            layer, head_index = head // model.cfg.n_heads, head % model.cfg.n_heads\n",
        "        patterns.append(local_cache[\"pattern\", layer][batch_index, head_index])\n",
        "        labels.append(f\"L{layer}H{head_index}\")\n",
        "    patterns = torch.stack(patterns, dim=-1)\n",
        "    attn_viz = pysvelte.AttentionMulti(tokens=model.to_str_tokens(local_tokens[batch_index]), attention=patterns, head_labels=labels)\n",
        "    display(HTML(f\"<h3>{title}</h3>\"))\n",
        "    attn_viz.show()"
      ],
      "metadata": {
        "id": "AgWNZo0c7sp3"
      },
      "execution_count": 245,
      "outputs": []
    },
    {
      "cell_type": "markdown",
      "source": [
        "# Load Model"
      ],
      "metadata": {
        "id": "HdPsT2ZOxeua"
      }
    },
    {
      "cell_type": "code",
      "execution_count": 246,
      "metadata": {
        "id": "llysLeEq1kAy",
        "colab": {
          "base_uri": "https://localhost:8080/"
        },
        "outputId": "bb7f5ca3-b485-439a-cf8d-17eadecaabe9"
      },
      "outputs": [
        {
          "output_type": "execute_result",
          "data": {
            "text/plain": [
              "<torch.autograd.grad_mode.set_grad_enabled at 0x7fdc7205d480>"
            ]
          },
          "metadata": {},
          "execution_count": 246
        }
      ],
      "source": [
        "torch.set_grad_enabled(True)"
      ]
    },
    {
      "cell_type": "code",
      "source": [
        "device = 'cuda' if torch.cuda.is_available() else 'cpu'\n",
        "print(device)"
      ],
      "metadata": {
        "id": "S0QibP7y7xCm",
        "colab": {
          "base_uri": "https://localhost:8080/"
        },
        "outputId": "9932014a-4653-4ac7-faf2-3be0d0469026"
      },
      "execution_count": 247,
      "outputs": [
        {
          "output_type": "stream",
          "name": "stdout",
          "text": [
            "cuda\n"
          ]
        }
      ]
    },
    {
      "cell_type": "markdown",
      "source": [
        "The smallest model I found that can learn this task is a 2L, 1H, attn-only transformer with no biases or layernorms. I also use [shortformer](https://github.com/neelnanda-io/TransformerLens/blob/main/further_comments.md#shortformer-attention-positional_embeddings_type--shortformer) positional embeddings to make things cleaner.\n",
        "\n",
        "![picture](https://drive.google.com/uc?id=115AlOlXFE24PMYugkPeAadrkrh-hkOcS)\n",
        "\n",
        "The input is of the form: BOS a1 a2 a3 \\n idx elt \\n b1 b2 b3. where [a1, a2, a3] is the original list. “idx” is the index of the list we are to update. “elt” is the new element we are writing to “idx” in the list, and [b1, b2, b3] is the correct new list after the update."
      ],
      "metadata": {
        "id": "b_5rCpws87wa"
      }
    },
    {
      "cell_type": "code",
      "source": [
        "LIST_LEN = 3\n",
        "MAX_NUM = 50\n",
        "cfg = HookedTransformerConfig(\n",
        "    n_layers=2,\n",
        "    n_heads=1,\n",
        "    d_model=128,\n",
        "    d_head=128,\n",
        "    n_ctx=2*LIST_LEN+3+2, #BOS a1 a2 a3 \\n idx elt \\n b1 b2 b3\n",
        "    d_vocab=MAX_NUM+2, #0,...,MAX_NUM-1, BOS, \\n\n",
        "    d_vocab_out=MAX_NUM,\n",
        "    attn_only=True,\n",
        "    normalization_type=None,\n",
        "    positional_embedding_type=\"shortformer\",\n",
        "    device=device,\n",
        "    seed=0\n",
        ")\n",
        "\n",
        "model = HookedTransformer(cfg)\n",
        "print(model)"
      ],
      "metadata": {
        "id": "7SU1oTr-9Mq3",
        "colab": {
          "base_uri": "https://localhost:8080/"
        },
        "outputId": "2756eb4c-36a8-4669-dc2d-ea43b46dfa41"
      },
      "execution_count": 248,
      "outputs": [
        {
          "output_type": "stream",
          "name": "stdout",
          "text": [
            "HookedTransformer(\n",
            "  (embed): Embed()\n",
            "  (hook_embed): HookPoint()\n",
            "  (pos_embed): PosEmbed()\n",
            "  (hook_pos_embed): HookPoint()\n",
            "  (blocks): ModuleList(\n",
            "    (0-1): 2 x TransformerBlock(\n",
            "      (ln1): Identity()\n",
            "      (attn): Attention(\n",
            "        (hook_k): HookPoint()\n",
            "        (hook_q): HookPoint()\n",
            "        (hook_v): HookPoint()\n",
            "        (hook_z): HookPoint()\n",
            "        (hook_attn_scores): HookPoint()\n",
            "        (hook_pattern): HookPoint()\n",
            "        (hook_result): HookPoint()\n",
            "        (hook_attn_input): HookPoint()\n",
            "      )\n",
            "      (hook_q_input): HookPoint()\n",
            "      (hook_k_input): HookPoint()\n",
            "      (hook_v_input): HookPoint()\n",
            "      (hook_attn_out): HookPoint()\n",
            "      (hook_mlp_in): HookPoint()\n",
            "      (hook_mlp_out): HookPoint()\n",
            "      (hook_resid_pre): HookPoint()\n",
            "      (hook_resid_post): HookPoint()\n",
            "    )\n",
            "  )\n",
            "  (unembed): Unembed()\n",
            ")\n"
          ]
        }
      ]
    },
    {
      "cell_type": "code",
      "source": [
        "# disable biases\n",
        "for name, param in model.named_parameters():\n",
        "    if 'b_' in name:\n",
        "        param.requires_grad = False\n",
        "    print(name, param.shape, param.requires_grad)"
      ],
      "metadata": {
        "colab": {
          "base_uri": "https://localhost:8080/"
        },
        "id": "IoacBM0l8jU3",
        "outputId": "e24f807b-efa9-444a-df17-97c2a7d7d8f4"
      },
      "execution_count": 249,
      "outputs": [
        {
          "output_type": "stream",
          "name": "stdout",
          "text": [
            "embed.W_E torch.Size([52, 128]) True\n",
            "pos_embed.W_pos torch.Size([11, 128]) True\n",
            "blocks.0.attn.W_Q torch.Size([1, 128, 128]) True\n",
            "blocks.0.attn.W_K torch.Size([1, 128, 128]) True\n",
            "blocks.0.attn.W_V torch.Size([1, 128, 128]) True\n",
            "blocks.0.attn.W_O torch.Size([1, 128, 128]) True\n",
            "blocks.0.attn.b_Q torch.Size([1, 128]) False\n",
            "blocks.0.attn.b_K torch.Size([1, 128]) False\n",
            "blocks.0.attn.b_V torch.Size([1, 128]) False\n",
            "blocks.0.attn.b_O torch.Size([128]) False\n",
            "blocks.1.attn.W_Q torch.Size([1, 128, 128]) True\n",
            "blocks.1.attn.W_K torch.Size([1, 128, 128]) True\n",
            "blocks.1.attn.W_V torch.Size([1, 128, 128]) True\n",
            "blocks.1.attn.W_O torch.Size([1, 128, 128]) True\n",
            "blocks.1.attn.b_Q torch.Size([1, 128]) False\n",
            "blocks.1.attn.b_K torch.Size([1, 128]) False\n",
            "blocks.1.attn.b_V torch.Size([1, 128]) False\n",
            "blocks.1.attn.b_O torch.Size([128]) False\n",
            "unembed.W_U torch.Size([128, 50]) True\n",
            "unembed.b_U torch.Size([50]) False\n"
          ]
        }
      ]
    },
    {
      "cell_type": "markdown",
      "source": [
        "# Training (Optional)"
      ],
      "metadata": {
        "id": "IQ89yvMMVe_I"
      }
    },
    {
      "cell_type": "markdown",
      "source": [
        "Mostly boilerplate. Skip unless you want to read the training code."
      ],
      "metadata": {
        "id": "ZAoPXvADVgBZ"
      }
    },
    {
      "cell_type": "markdown",
      "source": [
        "## Task dataset"
      ],
      "metadata": {
        "id": "EAaxfkzv8y4c"
      }
    },
    {
      "cell_type": "code",
      "source": [
        "def make_data_generator(cfg, batch_size, seed=0):\n",
        "    torch.manual_seed(seed)\n",
        "    BOS_TOKEN = cfg.d_vocab-2\n",
        "    NEW_LINE_TOKEN = cfg.d_vocab-1\n",
        "    while True:\n",
        "        bos_vec = (torch.ones(batch_size) * BOS_TOKEN)[:, None]\n",
        "        nl_vec = (torch.ones(batch_size) * NEW_LINE_TOKEN)[:, None]\n",
        "\n",
        "        list_toks = torch.randint(0, MAX_NUM, (batch_size, LIST_LEN))\n",
        "\n",
        "        idx_tok = random.randint(0, LIST_LEN-1)\n",
        "        idx_vec = (torch.ones(batch_size) * idx_tok)[:, None]\n",
        "\n",
        "        elt_tok = random.randint(0, MAX_NUM-1)\n",
        "        elt_vec = (torch.ones(batch_size) * elt_tok)[:, None]\n",
        "\n",
        "        ans_toks = list_toks.clone()\n",
        "        ans_toks[:, idx_tok] = elt_tok\n",
        "\n",
        "        x = torch.cat([bos_vec, list_toks, nl_vec, idx_vec, elt_vec, nl_vec, ans_toks], dim=-1).to(torch.long)\n",
        "        yield x\n",
        "\n",
        "print(next(make_data_generator(cfg, 4)))"
      ],
      "metadata": {
        "colab": {
          "base_uri": "https://localhost:8080/"
        },
        "id": "6_KI3PXC8sg6",
        "outputId": "ca61f768-8f2d-4cdb-80da-2dc960b64b9b"
      },
      "execution_count": 250,
      "outputs": [
        {
          "output_type": "stream",
          "name": "stdout",
          "text": [
            "tensor([[50, 44, 39, 33, 51,  1, 48, 51, 44, 48, 33],\n",
            "        [50, 10, 13, 29, 51,  1, 48, 51, 10, 48, 29],\n",
            "        [50, 27,  3, 47, 51,  1, 48, 51, 27, 48, 47],\n",
            "        [50, 33,  1, 16, 51,  1, 48, 51, 33, 48, 16]])\n"
          ]
        }
      ]
    },
    {
      "cell_type": "markdown",
      "source": [
        "## Loss Fn"
      ],
      "metadata": {
        "id": "hCqehbL_-r34"
      }
    },
    {
      "cell_type": "code",
      "source": [
        "def loss_fn(logits, tokens):\n",
        "    logits = logits[:, -LIST_LEN-1:-1, :]\n",
        "    logits = logits.to(torch.float64)\n",
        "    labels = tokens[:, -LIST_LEN:]\n",
        "    log_probs = logits.log_softmax(dim=-1)\n",
        "    correct_log_probs = log_probs.gather(dim=-1, index=labels[..., None])[..., 0]\n",
        "    return -correct_log_probs.mean()\n",
        "\n",
        "with torch.no_grad():\n",
        "    tokens = next(make_data_generator(cfg ,4)).to(device)\n",
        "    logits = model(tokens)\n",
        "    loss = loss_fn(logits, tokens)\n",
        "    print(loss)"
      ],
      "metadata": {
        "colab": {
          "base_uri": "https://localhost:8080/"
        },
        "id": "5x43pj-_-syE",
        "outputId": "4311ecb7-eeb1-444a-d3e3-e47b5cef083a"
      },
      "execution_count": 251,
      "outputs": [
        {
          "output_type": "stream",
          "name": "stdout",
          "text": [
            "tensor(3.9169, device='cuda:0', dtype=torch.float64)\n"
          ]
        }
      ]
    },
    {
      "cell_type": "code",
      "source": [
        "print(\"uniform loss:\", np.log(cfg.d_vocab_out))"
      ],
      "metadata": {
        "colab": {
          "base_uri": "https://localhost:8080/"
        },
        "id": "5e6UMB5D_MR_",
        "outputId": "41bc191e-88c2-4a38-de77-6619f88e1c94"
      },
      "execution_count": 252,
      "outputs": [
        {
          "output_type": "stream",
          "name": "stdout",
          "text": [
            "uniform loss: 3.912023005428146\n"
          ]
        }
      ]
    },
    {
      "cell_type": "markdown",
      "source": [
        "## Setup Optimizer / dataloader"
      ],
      "metadata": {
        "id": "nT0YH9Nz_UC0"
      }
    },
    {
      "cell_type": "code",
      "source": [
        "lr = 1e-3\n",
        "wd = 1e-2\n",
        "betas = (0.9, 0.98)\n",
        "optimizer = torch.optim.AdamW(model.parameters(), lr=lr, weight_decay=wd, betas=betas)\n",
        "\n",
        "batch_size = 256\n",
        "train_data_loader = make_data_generator(cfg, batch_size)"
      ],
      "metadata": {
        "id": "zy2-8cYO_TXI"
      },
      "execution_count": 253,
      "outputs": []
    },
    {
      "cell_type": "markdown",
      "source": [
        "## Training Loop"
      ],
      "metadata": {
        "id": "z7FgylxX_kor"
      }
    },
    {
      "cell_type": "code",
      "source": [
        "num_epochs = 1000\n",
        "\n",
        "train_losses = []\n",
        "for epoch in tqdm.tqdm(range(num_epochs)):\n",
        "    tokens = next(train_data_loader).to(device)\n",
        "    logits = model(tokens)\n",
        "    loss = loss_fn(logits, tokens)\n",
        "    loss.backward()\n",
        "    train_losses.append(loss.item())\n",
        "\n",
        "    optimizer.step()\n",
        "    optimizer.zero_grad()\n",
        "\n",
        "    if epoch % 100 == 0:\n",
        "        print(f\"Epoch: {epoch}, train loss: {loss.item()}\")"
      ],
      "metadata": {
        "colab": {
          "base_uri": "https://localhost:8080/",
          "height": 0,
          "referenced_widgets": [
            "3f57e16d0c004a9daadb7b13521eeb6a",
            "92faf5ca7fd24ec4bb7353a4bd23379e",
            "cfc15eb72324474185441b9d3520d7ab",
            "8078ddfa36744c2ea1148f4df0f45756",
            "af5a4ad337ee4a269a99c45565b703bb",
            "3d008270321743ef921df5fbfb8caa00",
            "fb906fb981ed4ca4adb71557ea853ffe",
            "db082a545f79435ea068dc5acbf6bc62",
            "7d42114491c24ff19d79a06ca9462c2e",
            "c1f5efd6ff8e4b6f8477b06535b9a924",
            "26a0c880471f49e8b717b7df0233ccb3"
          ]
        },
        "id": "ixbGRQg2_kMr",
        "outputId": "71b5c5d5-ab2c-4d34-ed7b-c0f0000899d6"
      },
      "execution_count": 254,
      "outputs": [
        {
          "output_type": "display_data",
          "data": {
            "text/plain": [
              "  0%|          | 0/1000 [00:00<?, ?it/s]"
            ],
            "application/vnd.jupyter.widget-view+json": {
              "version_major": 2,
              "version_minor": 0,
              "model_id": "3f57e16d0c004a9daadb7b13521eeb6a"
            }
          },
          "metadata": {}
        },
        {
          "output_type": "stream",
          "name": "stdout",
          "text": [
            "Epoch: 0, train loss: 3.9151253955364718\n",
            "Epoch: 100, train loss: 2.099208163281922\n",
            "Epoch: 200, train loss: 0.6149461828937424\n",
            "Epoch: 300, train loss: 0.18812340879816794\n",
            "Epoch: 400, train loss: 0.004011678946603272\n",
            "Epoch: 500, train loss: 0.0026258528138491206\n",
            "Epoch: 600, train loss: 0.0021738507043532556\n",
            "Epoch: 700, train loss: 0.0004986208256978274\n",
            "Epoch: 800, train loss: 0.0011405148919006432\n",
            "Epoch: 900, train loss: 0.00017650809167173007\n"
          ]
        }
      ]
    },
    {
      "cell_type": "code",
      "source": [
        "line(\n",
        "    train_losses,\n",
        "    title=\"Train Loss Curve\",\n",
        "    xaxis=\"Epoch\", yaxis=\"Loss\"\n",
        ")"
      ],
      "metadata": {
        "colab": {
          "base_uri": "https://localhost:8080/",
          "height": 0
        },
        "id": "7yUfCRdU_4jC",
        "outputId": "83024900-ecd8-434e-ded5-b7a763a69a0b"
      },
      "execution_count": 255,
      "outputs": [
        {
          "output_type": "display_data",
          "data": {
            "text/html": [
              "<html>\n",
              "<head><meta charset=\"utf-8\" /></head>\n",
              "<body>\n",
              "    <div>            <script src=\"https://cdnjs.cloudflare.com/ajax/libs/mathjax/2.7.5/MathJax.js?config=TeX-AMS-MML_SVG\"></script><script type=\"text/javascript\">if (window.MathJax && window.MathJax.Hub && window.MathJax.Hub.Config) {window.MathJax.Hub.Config({SVG: {font: \"STIX-Web\"}});}</script>                <script type=\"text/javascript\">window.PlotlyConfig = {MathJaxConfig: 'local'};</script>\n",
              "        <script src=\"https://cdn.plot.ly/plotly-2.18.2.min.js\"></script>                <div id=\"96fc21c4-f9ba-4c1e-8193-bf85843568a7\" class=\"plotly-graph-div\" style=\"height:525px; width:100%;\"></div>            <script type=\"text/javascript\">                                    window.PLOTLYENV=window.PLOTLYENV || {};                                    if (document.getElementById(\"96fc21c4-f9ba-4c1e-8193-bf85843568a7\")) {                    Plotly.newPlot(                        \"96fc21c4-f9ba-4c1e-8193-bf85843568a7\",                        [{\"hovertemplate\":\"Epoch=%{x}<br>Loss=%{y}<extra></extra>\",\"legendgroup\":\"\",\"line\":{\"color\":\"#636efa\",\"dash\":\"solid\"},\"marker\":{\"symbol\":\"circle\"},\"mode\":\"lines\",\"name\":\"\",\"orientation\":\"v\",\"showlegend\":false,\"x\":[0,1,2,3,4,5,6,7,8,9,10,11,12,13,14,15,16,17,18,19,20,21,22,23,24,25,26,27,28,29,30,31,32,33,34,35,36,37,38,39,40,41,42,43,44,45,46,47,48,49,50,51,52,53,54,55,56,57,58,59,60,61,62,63,64,65,66,67,68,69,70,71,72,73,74,75,76,77,78,79,80,81,82,83,84,85,86,87,88,89,90,91,92,93,94,95,96,97,98,99,100,101,102,103,104,105,106,107,108,109,110,111,112,113,114,115,116,117,118,119,120,121,122,123,124,125,126,127,128,129,130,131,132,133,134,135,136,137,138,139,140,141,142,143,144,145,146,147,148,149,150,151,152,153,154,155,156,157,158,159,160,161,162,163,164,165,166,167,168,169,170,171,172,173,174,175,176,177,178,179,180,181,182,183,184,185,186,187,188,189,190,191,192,193,194,195,196,197,198,199,200,201,202,203,204,205,206,207,208,209,210,211,212,213,214,215,216,217,218,219,220,221,222,223,224,225,226,227,228,229,230,231,232,233,234,235,236,237,238,239,240,241,242,243,244,245,246,247,248,249,250,251,252,253,254,255,256,257,258,259,260,261,262,263,264,265,266,267,268,269,270,271,272,273,274,275,276,277,278,279,280,281,282,283,284,285,286,287,288,289,290,291,292,293,294,295,296,297,298,299,300,301,302,303,304,305,306,307,308,309,310,311,312,313,314,315,316,317,318,319,320,321,322,323,324,325,326,327,328,329,330,331,332,333,334,335,336,337,338,339,340,341,342,343,344,345,346,347,348,349,350,351,352,353,354,355,356,357,358,359,360,361,362,363,364,365,366,367,368,369,370,371,372,373,374,375,376,377,378,379,380,381,382,383,384,385,386,387,388,389,390,391,392,393,394,395,396,397,398,399,400,401,402,403,404,405,406,407,408,409,410,411,412,413,414,415,416,417,418,419,420,421,422,423,424,425,426,427,428,429,430,431,432,433,434,435,436,437,438,439,440,441,442,443,444,445,446,447,448,449,450,451,452,453,454,455,456,457,458,459,460,461,462,463,464,465,466,467,468,469,470,471,472,473,474,475,476,477,478,479,480,481,482,483,484,485,486,487,488,489,490,491,492,493,494,495,496,497,498,499,500,501,502,503,504,505,506,507,508,509,510,511,512,513,514,515,516,517,518,519,520,521,522,523,524,525,526,527,528,529,530,531,532,533,534,535,536,537,538,539,540,541,542,543,544,545,546,547,548,549,550,551,552,553,554,555,556,557,558,559,560,561,562,563,564,565,566,567,568,569,570,571,572,573,574,575,576,577,578,579,580,581,582,583,584,585,586,587,588,589,590,591,592,593,594,595,596,597,598,599,600,601,602,603,604,605,606,607,608,609,610,611,612,613,614,615,616,617,618,619,620,621,622,623,624,625,626,627,628,629,630,631,632,633,634,635,636,637,638,639,640,641,642,643,644,645,646,647,648,649,650,651,652,653,654,655,656,657,658,659,660,661,662,663,664,665,666,667,668,669,670,671,672,673,674,675,676,677,678,679,680,681,682,683,684,685,686,687,688,689,690,691,692,693,694,695,696,697,698,699,700,701,702,703,704,705,706,707,708,709,710,711,712,713,714,715,716,717,718,719,720,721,722,723,724,725,726,727,728,729,730,731,732,733,734,735,736,737,738,739,740,741,742,743,744,745,746,747,748,749,750,751,752,753,754,755,756,757,758,759,760,761,762,763,764,765,766,767,768,769,770,771,772,773,774,775,776,777,778,779,780,781,782,783,784,785,786,787,788,789,790,791,792,793,794,795,796,797,798,799,800,801,802,803,804,805,806,807,808,809,810,811,812,813,814,815,816,817,818,819,820,821,822,823,824,825,826,827,828,829,830,831,832,833,834,835,836,837,838,839,840,841,842,843,844,845,846,847,848,849,850,851,852,853,854,855,856,857,858,859,860,861,862,863,864,865,866,867,868,869,870,871,872,873,874,875,876,877,878,879,880,881,882,883,884,885,886,887,888,889,890,891,892,893,894,895,896,897,898,899,900,901,902,903,904,905,906,907,908,909,910,911,912,913,914,915,916,917,918,919,920,921,922,923,924,925,926,927,928,929,930,931,932,933,934,935,936,937,938,939,940,941,942,943,944,945,946,947,948,949,950,951,952,953,954,955,956,957,958,959,960,961,962,963,964,965,966,967,968,969,970,971,972,973,974,975,976,977,978,979,980,981,982,983,984,985,986,987,988,989,990,991,992,993,994,995,996,997,998,999],\"xaxis\":\"x\",\"y\":[3.9151253955364718,3.903631117212488,3.9059637094769784,3.9235346347756015,3.875544204001234,3.910166789223898,3.9067531408643803,3.92663360070659,3.8939340450626867,3.90818770596996,3.951249525890894,3.906504075689562,3.8711485313504035,3.8389115029392813,3.908470712618288,3.9004981301587187,3.888398333683972,3.9016629183986815,3.8130020573428944,3.924294378897186,3.912719046480964,3.9038047395055715,3.8378065969903155,3.916536082210762,3.9261418172361324,3.8138518795366716,3.935350136080759,3.7939378974787346,3.8901035666089747,3.9129507266518866,3.8785788836778092,3.9157760774887103,3.9196269662249206,3.9278251033066742,3.7979061305860755,3.849242868523814,3.9008190707510857,3.8252877957545293,3.8941831276114294,3.844555238505831,3.8944176780844417,3.8375085798883157,3.8431913900992862,3.8694593379810454,3.8626553903099943,3.8416691702337076,3.8718843131808502,3.885414275979596,3.739360058043872,3.840037851547602,3.8336491672490363,3.7702168672391676,3.8004225480697835,3.8206464638653217,3.764193060349895,3.7565671925484296,3.743081487677138,3.7193084002753616,3.7674756367354463,3.7021350137291256,3.681318044970356,3.6275356101099936,3.7134591847707172,3.693792538926882,3.6174269097418907,3.4784717271235586,3.725763550963674,3.5764236410600363,3.505033941320838,3.7527599733118997,3.4813577070874304,3.554972968178326,3.547948207489533,3.5862062156335903,3.2231405835592186,3.5287677659651675,3.2039007728733333,3.492690893776224,3.208715413412684,3.1625237742980006,3.518530479250594,3.1850822475567733,3.300428988289326,3.13323753869986,2.8056675105114293,2.7842715710119625,3.1045892698997335,3.117401628151466,2.903898131083503,2.6330672057895437,2.3518315023135763,2.5774725588657814,2.6891478655533776,2.215553110182166,2.4827723819692054,2.406963651395984,2.19185606533403,2.2332765696335173,2.323353591210737,1.6203750350106993,2.099208163281922,3.575744765281179,3.555546480332117,1.5317510127764593,2.483335835117348,2.0846555169170324,1.611945732277975,3.3574951687753876,0.9705744404098209,1.7501091977143002,1.957335314757687,1.7198322727273887,3.02319229131719,3.12188252180485,1.0969001331423507,2.6292533863158036,3.0845857512685027,2.2110553541247637,1.740388614060705,2.942553892275186,1.7962886870807382,2.624937180260085,1.99610444156726,1.4972324445909009,1.9828531333297417,1.9958340616278518,1.4839548375930853,1.730758245553248,1.9997697560161296,1.5887185810307187,1.7178837683402026,1.7809646866286775,1.5525018894320006,1.8908013356097826,2.268138436582534,2.288813308363447,1.658589806330855,1.52970844822319,1.3172555169607447,2.017996373962915,1.9256744504285757,1.0298643127188787,0.8899750266332724,2.500786529941019,1.1134669787708629,2.3147611295914787,1.131392362449628,1.8598031052286914,1.7845266205695307,2.0164324872641677,2.796423960317119,1.047628244018453,1.5495293534909325,2.437277129651636,1.4663462738309985,1.8131029964593033,2.236813677250368,1.312805844414528,0.7202384057211637,1.0769616734385326,1.3207586499990929,0.8902846510320213,1.8489916343136177,0.9148725588599034,1.4020206977777152,1.0493149114618334,1.4462938027816854,0.9530065228238771,0.6697173452622684,1.4304272535684213,1.9340594687827375,1.916880033302165,0.6867808183348489,2.023205344005215,1.3867858944535625,2.616026489649565,0.8346012204195681,0.8855307123189202,1.749000533482888,0.8262149411229605,0.5925038047281899,1.3130081817190549,1.1251645910402266,0.31800339664987265,2.3637509310820946,1.4988565558523281,0.8521736821782567,1.268225308120985,1.3543168854524557,2.299361504913867,1.115207836691675,1.5808016885212277,1.3972395866502894,0.8946374742092066,2.3615786174235334,1.5820786358803869,0.4240660267827856,1.0212179187251798,0.6561614031842686,0.42720995843750026,0.6149461828937424,0.20722180443418475,2.146463057550294,0.6127668800160172,0.636714799862393,0.6787289127173001,0.974878865069928,0.35328173882960745,0.6998670648289587,1.2859941716170333,0.703155278297654,1.0895022100468532,1.2976344384701461,0.28975094506804605,0.6107064063441296,0.9035960670262609,0.8554373383298614,0.2507143058070644,0.17552359223650696,0.16276324065930897,0.4359582135630684,1.2298426462019472,0.1283073261170099,0.3048569578222003,0.5953669572841062,0.43000578939443923,0.6302298578823305,0.7633277925197319,0.22803022403950896,0.5416484487747879,0.3599772306252258,0.2034848457907974,0.6036576918831447,0.1722152009347973,0.6889907845523819,0.49858263728977736,0.4139988333789343,1.193391290339215,0.6370815965695573,0.4806381653592209,0.40852846097584156,0.2012308300570571,0.21689436504462967,1.111004400964528,0.35815583159313846,0.31165160974282174,0.6253217097889638,0.20874821283368888,0.525351588081244,0.12395953076964136,0.5649224586306025,0.0747186799569888,0.35759179252598283,0.2542190435421417,0.12171018232182162,0.21806772038180455,0.08728277860234665,0.07019931690921635,0.24298225163756318,0.197826016333611,0.5831430501160075,0.15878670373938936,0.2892966694705801,0.13240606769181146,0.2169549504825674,0.24314792596035717,0.48071801423498106,0.1533179003595565,0.31748613629090344,0.09822211077900135,0.08375863583418611,0.14740365986444598,0.20699535158979526,0.07482651579257898,0.08658418238210282,0.06976279168723065,0.13337424813021095,0.3647643081418026,0.5348767926425749,0.07524922786464741,0.03472884248079669,0.07789589417932334,0.2170414197070505,0.06860032788234288,0.06174752859499628,0.08422197634728906,0.09218207164339354,0.10892648632046044,0.03439273084720232,0.07004348184409281,0.13003268205793148,0.11190665362288588,0.07178312084774024,0.05330439331044534,0.08172624303487895,0.12824886605025115,0.08882174328089243,0.05598873138543379,0.02702815590799066,0.05418151141530311,0.18812340879816794,0.03306152449327649,0.07917991025672935,0.04212711919254162,0.04988995949362915,0.1004895125882252,0.04265369239010244,0.026757803616050322,0.03455355090728113,0.015795415591760134,0.02244057615676798,0.05807717292274717,0.035215190640570646,0.1179278580709326,0.036880871030744306,0.06374795925741156,0.04847718277008449,0.04016073663019307,0.8374140678621338,0.025211304957729403,0.0568779469976049,0.037050687134788804,0.09062962592150148,0.02681730777040632,0.057820564544595256,0.031476679165003324,0.11222951938048294,0.2169708462463001,0.01576998098650397,0.027057345243389576,0.060278118353806816,0.037142236620994556,0.0731637223791603,0.04641053222886491,0.08130730921472264,0.09287555879271338,0.02929990264958371,0.03361565160802989,0.12436098884013042,0.0616055216274219,0.05844254301559885,0.028167214187940482,0.01976861682672181,0.01175711269669922,0.027751310319949863,0.01851271599062719,0.01929962743989025,0.012580084324415222,0.014678179415731749,0.021547317456612813,0.02512600416831378,0.04241361568066704,0.014457027083793076,0.01853717520920935,0.028127056033563552,0.014033772188570043,0.05951638372483413,0.011021224410967423,0.009196081571499148,0.010083828206865276,0.011958644083542917,0.19582725850181587,0.0031724261883633456,0.012650548815441476,0.035696431341174076,0.011322408161741274,0.031468973492807126,0.02572884969393172,0.009925241028136042,0.044778043747859875,0.006631149028487967,0.014185925669591645,0.013855234820713993,0.004265896534121964,0.0049049506736856706,0.02519139899429886,0.013893589892736835,0.004225613222516087,0.0051858286686492835,0.0049570673678059245,0.0029487951868088246,0.006843818801900534,0.010037807537139747,0.012214983913009911,0.012898088883980658,0.037567099928646645,0.009194259930991504,0.010763183422625618,0.11482760943308991,0.01647194894212676,0.005117283083973152,0.004529894203613817,0.011178750141318364,0.019074673264445917,0.02241451380253663,0.011763809263544228,0.017345998751010137,0.007302030478556457,0.0039035789809364757,0.004657582005266191,0.004011678946603272,0.003171482622899016,0.012936866425263416,0.004430420805893923,0.009530661015659851,0.013092132101503083,0.00698003202585796,0.007183825041741974,0.012824718523364982,0.008556772640086517,0.005833757904662382,0.03264095290158815,0.04880069701088115,0.004726774524386777,0.006750375032487505,0.01629669026766989,0.006202845274395765,0.003019086077503335,0.004401049141930789,0.004224909881390262,0.0027193875463225486,0.025293575633979538,0.02453449527915036,0.002569969427205846,0.0019398919295252962,0.013954038598048033,0.0037499217627927975,0.0046031805497107545,0.0023856670974865806,0.0017553658386825623,0.0020485118885747527,0.006077082216699918,0.002228342965403398,0.0029674773887277284,0.002061759856148225,0.0021049891158122836,0.0037654421770276177,0.0025084575725105203,0.00149090717527398,0.002697452293253904,0.002685539429239187,0.007207585844924276,0.0023009830479454154,0.006149409075977146,0.004099791311897537,0.002452771281314386,0.0028479726065983963,0.0032740195755959914,0.07199887201950042,0.001236628649587286,0.0011178262539279587,0.001303699564550464,0.003435316068846857,0.007787544855146573,0.0057819261881199195,0.003833931038742548,0.006396700494615449,0.030366417014099402,0.005713244448372897,0.0033567558827597606,0.0017989151192227357,0.0036912637086222604,0.005327327458765498,0.02741812880713166,0.004093083321280536,0.002132519120936458,0.0072041000773795435,0.004556331392885051,0.00397443840219491,0.0036338675168035477,0.005356036008169904,0.0022898749098970777,0.005029324372211378,0.012112031530497808,0.0033667729681921893,0.007145089857206625,0.002631727478132587,0.001451454859047168,0.0025066471392871186,0.0021225299474934727,0.007792875693602265,0.006880714794852527,0.0065149330168110114,0.0036181873380918073,0.002267156011285606,0.0027312790594248345,0.0031490973665069125,0.003245274276634965,0.004955949437613894,0.009370524995780647,0.0018999113891564985,0.0024021313771200314,0.0025768786692844372,0.0016900016050605765,0.00591002359163538,0.001772412240866899,0.0018916066596021456,0.004259667099166902,0.0009484960167590401,0.0016620808299142493,0.0026258528138491206,0.0007858061578338235,0.01777693354323873,0.00391515260737254,0.001423626960328554,0.0007233945518492692,0.002502900261337518,0.0008603492048847279,0.0009531364613683158,0.0028421873721029183,0.0022066709404361434,0.001793189442245327,0.005872683028254604,0.002716044317179707,0.007308632672181327,0.002627051948981196,0.005379686277183654,0.004005153355050393,0.0031096950249428395,0.0032492585535021995,0.0025186261378201736,0.002604226162025521,0.0028405660535723845,0.0022573192597555945,0.003088312981993067,0.0010057230003457447,0.005788913011671057,0.018384856994207707,0.000543955040293818,0.000988344685432939,0.00713795271626511,0.0011405080500246228,0.0014984875564874646,0.0011960241108894885,0.0037250730605741644,0.0015831594442428595,0.0010091381566068116,0.0016107832962025826,0.0011029503928093331,0.0009234749521492659,0.0010136491682451007,0.0012563550263872507,0.007094401078717,0.0012888352075516904,0.0020844228338584556,0.0033242372225395418,0.0008264321062847219,0.0005213675277239626,0.002001426990758495,0.0005694330045164633,0.00047588706903468295,0.0005605835418309283,0.0014731595237306807,0.0004952549375658303,0.004975976775526165,0.0003788069864454158,0.0008485651790985295,0.002244787069287985,0.00038874391622732403,0.0018584376436056361,0.0005694266981869485,0.0005856915109824789,0.0006011294243488266,0.0011362903883974278,0.00020936242033164999,0.00033656599881558004,0.0006594728860226216,0.00021869488786313318,0.03251827315827153,0.00032442824055845887,0.004552186514517903,0.0014301897892187517,0.0005592084032413871,0.0008265927027291359,0.0008345889685699252,0.004703463930418554,0.002074681915806365,0.0013092803679799346,0.0014672438961654817,0.004887544422048956,0.00036891305049357705,0.0018060127750910628,0.0019787484923429093,0.0007407119877439977,0.0006055339555501713,0.00142774426792404,0.00043637966843813127,0.0025909372970442475,0.0008645233107438573,0.0013467566027720243,0.0007158340723697695,0.0003542275253309567,0.002155010049573607,0.001326202472657449,0.0019027909570369494,0.0027725040018139364,0.0006619734324195453,0.0007550454228170399,0.003491331044173385,0.0014127183275702022,0.0021738507043532556,0.00030990226730859087,0.0005437874491690017,0.00245350660476047,0.04161043598973024,0.00034224383175513644,0.0005830891852488144,0.0004457553426407788,0.0003958798526835632,0.00020913993524052598,0.0002460538030623669,0.001073118197340911,0.0006340613277206646,0.0003146648674582132,0.00035177610715514293,0.000995464400641121,0.0006947819291056826,0.0003108011061031976,0.0011646323175429159,0.0008008790903434962,0.00017011985340246316,0.0005351276160192206,0.00014718895869929606,0.00018598552583498078,0.0042579173705238555,0.003078482001482798,0.0005485265297861357,0.0011527510107862487,0.0003382469919669643,0.0006790688218326231,0.0003548408438433908,0.0010235428527258102,0.00018108624397179126,0.00032659830107070655,0.001233281405064015,0.010735206969590492,0.00027531597615069233,0.0003998828088948809,0.00425079253076139,0.0007946849131076074,0.00019195191812834377,0.00037444105752142717,0.00031888639559327157,0.00024549527061118253,0.00028638186491348864,0.0001898978482382545,0.0022045991120043336,0.0003921088545869767,0.00024058707886896199,0.00025954328361982423,0.00035262881647081095,0.00031489923478948147,0.0002567608321241817,0.0005154337300978135,0.0004569696008768251,0.0009752198350376423,0.0003099091201245709,0.0002785549965852676,0.0005680437872244344,0.0006140930580402303,0.0003361493676625959,0.000992893420247548,0.000387064122987974,0.00013084237896693996,0.00038555841976970975,0.00045534095232796555,6.266209658127873e-05,0.0007124548467658254,0.000138342644185669,0.00018391814323326155,0.0010366359843730214,0.00012296537526244807,8.568287123116119e-05,7.947014935573722e-05,0.0001291986038200947,0.00016548292799156277,8.191492110198386e-05,4.6731486126332714e-05,0.00022940714563377638,0.0008345949791469496,0.0003329599764713731,0.00010040070349033258,0.00016054206247750804,0.00016487189621048996,0.0005984235021733214,8.32035662264881e-05,0.0002515151101887224,9.825594537877685e-05,6.238423517858854e-05,0.00011914887263166526,0.00016683677879472236,0.0001303632970239601,8.221684278590809e-05,6.901639084294016e-05,0.00018318598326769734,4.898756969707398e-05,0.00014341695479104635,0.00024318426834680587,0.004404528978931577,0.0002527049700961978,0.0004986208256978274,0.00010868070202938864,0.00014421458800193158,4.647268810150897e-05,3.066097307930501e-05,5.198540618361109e-05,4.604463900252625e-05,6.279819972706707e-05,6.832185300734836e-05,8.686729693873096e-05,0.00011171740025147027,3.702915015103671e-05,4.708442282737622e-05,3.5679484777904175e-05,9.548480194109457e-05,4.1523181399692605e-05,0.0018062407268855632,7.670814723155881e-05,6.55097555572277e-05,6.126751650019835e-05,0.00013881234421225927,0.00011595588539625246,6.0125268320373533e-05,0.00034354815822347815,0.0002563312699272029,0.00015875042487067102,0.00010918816322620789,0.00040629739562570295,0.00023238133415047526,0.001660163548762392,0.04840258289109617,4.590555820544473e-05,0.0004748966808065601,0.00018720536481300283,0.0015394010186599253,0.002789508268132521,0.00015084444266686326,0.0004539491400772525,6.416086722427303e-05,0.002849292466484294,0.00032442468274637373,0.016902853036248215,0.00011650388588352683,0.00041944950993668225,0.00294869758336035,0.0008698090365269352,0.0037962485159318514,0.002249620878912618,0.00011295483091792441,0.001893970913151944,0.0007293604401697875,0.0005663646684853672,0.0003175617891540821,0.004036930347844258,0.0005049720676975464,0.0025775593967696615,0.00011983530872401873,0.00011489567551316272,0.0076095988219633745,0.004957594051777314,0.0005163238884297585,0.000792225185966053,0.0007520801756722122,7.11849757583969e-05,8.267349245206492e-05,0.0003571162878156604,0.0018106560084784897,8.423804061621974e-05,0.0008495306054535094,0.000543316366846179,0.03376915913463379,0.0002130422808856188,0.00033137341804215394,7.673874735386179e-05,0.00023604672397365485,0.017006974346720872,0.0001491539341480931,0.00011524388350439949,0.0019000688569314624,0.0002769161862266819,0.0006744932783383988,0.00060259185935781,0.000334252939974002,8.960147367901657e-05,0.00035778685753273603,9.536878431033868e-05,0.0005167182985627548,0.0003712083398041638,0.00022137122257296878,0.0012069867679282622,0.00709765501482002,0.0010409359455268523,0.00034517484643040104,0.00024397729116866626,0.0014833413551413673,0.0008475069037557161,0.004256678281994613,0.0001331750874779274,0.00020276180052193344,0.00012833121234259837,0.0011405148919006432,0.00047777027159656796,0.0018848355309587991,0.0007147020525735579,0.002126735776366296,5.338608987206688e-05,0.0006508731002322105,0.002831097990293014,0.0009230791060976086,0.00012376557530978608,0.00039905782695823916,0.0027140854827067545,0.0001600070396560224,8.96102347512684e-05,0.00011029312192004339,2.8918361077145725e-05,0.00041048996046866065,7.436723897696115e-05,0.0006949740580920275,0.0018927322992928646,0.0002931600748525878,0.016839442163883833,0.00038384457321188556,8.156061578000871e-05,9.415983757835524e-05,0.004540157139822438,2.0941116692882572e-05,0.0027532306994536367,6.184101784800752e-05,0.00011728078209355302,8.810595283829072e-05,4.298731222135701e-05,0.0001496995827562108,0.00014772177274278276,1.1214638076630674e-05,0.0004323568543958355,2.1545847726852702e-05,6.914360095723184e-05,0.00011275192763499022,2.419448193864629e-05,1.08704754949543e-05,0.00012451529769878165,0.00012133752422190366,8.31066077326263e-05,0.0027540527609181357,1.9920698510253713e-05,9.468071052635518e-05,6.38095800564556e-05,0.00011357697667917857,0.00025433305754545574,7.858554900609844e-05,0.00015476095079242097,8.429581942001542e-05,2.951436330229431e-05,1.1544975306774497e-05,1.5470445186150066e-05,0.0009643554904037628,0.00036084593323667337,1.5111292115293134e-05,9.685417508478844e-05,0.0008676986284329061,6.444755485203942e-05,1.9445848784415942e-05,0.006383487010186355,7.848935142144588e-05,2.1953136361856947e-05,8.818009753367971e-05,4.341713861627745e-05,2.871029121839349e-05,8.878060778786703e-05,0.004343234090052322,3.956363998223103e-05,0.0016344417731490243,1.8566165345012545e-05,0.00016516497951542635,0.00014638133854617447,0.00010914969842347482,0.00011488919723873272,4.749287438336278e-05,5.918409495143566e-05,2.5851480903707915e-05,0.000417957889201095,9.652921701421714e-05,5.175732272387009e-05,0.00010948273459986449,4.763666692956338e-05,0.0004291467426918347,9.492314731990702e-05,0.0003885336203012745,0.0003970804739551117,7.316749863368844e-05,5.562762094364353e-05,4.0994673224162704e-05,0.00013116251728588092,0.00019193790973997247,0.00030207247249249057,5.7635581216807646e-05,0.00013927819322834858,3.866288587982225e-05,6.044705565616714e-05,0.00017650809167173007,2.6232769158903163e-05,0.0007587221280495632,8.362601384376508e-05,9.649320309452533e-05,3.737609476486577e-05,5.508436181810609e-05,9.027046174649834e-05,4.0600860007429214e-05,0.0007117891060767061,8.558424389811233e-05,5.616931159665257e-05,0.00017096304382117718,2.3848477142616934e-05,0.000984444750879961,2.443167803773581e-05,3.679580437103521e-05,4.228578788037659e-05,2.3579733919700555e-05,6.274826696061265e-05,4.68999213831226e-05,1.9137925159559554e-05,0.00016187574692169064,4.9433463732393684e-05,4.054022597474627e-05,6.940904180028816e-05,2.435148419420109e-05,2.7710356882676308e-05,2.76113109932178e-05,1.5905281428738696e-05,2.6458426754184863e-05,1.3673954790444223e-05,0.00017196834761862946,3.2286521662257115e-05,3.810836485886454e-05,1.5082636082392206e-05,1.8919825046357303e-05,1.211705649465539e-05,2.31196330374812e-05,2.6348974880567375e-05,1.5395771181756506e-05,1.3192887479108684e-05,1.8452260158134146e-05,7.459424473084863e-05,1.7956812242949094e-05,6.69981651712135e-05,3.511557800871714e-05,0.00036305785949587423,1.5412050565536442e-05,3.0151912821066798e-05,2.0159460919878627e-05,2.0086855133048716e-05,1.0764352581449578e-05,1.6506039865814094e-05,0.00018869237639856354,1.3578475095448687e-05,3.274435956751655e-05,3.4508540135621006e-05,2.8442188375515785e-05,0.00012683005772939134,2.4618111532838338e-05,3.95213360810167e-05,1.2468255436373632e-05,2.2694867854333604e-05,3.8186536086387335e-05,3.878759191703018e-05,1.5166436645400343e-05,2.6553102438797748e-05,1.4578229578319918e-05,3.832829262843018e-05,2.7252435364368667e-05,0.00010331272900964774,4.9501213185536206e-05,1.833265504739426e-05,5.5653438985332206e-05,2.5249886017748456e-05,9.554849453950814e-06,0.00010953792725679863,4.405226482077012e-05,1.2804532157917922e-05,6.834140614271161e-05,1.595979271618049e-05,3.416190398569419e-05,8.236483659396844e-05,6.465912748782346e-06,8.29885294047407e-06,2.9093831799369123e-05,3.194057519906054e-05,7.006333309992862e-06,1.4809520752371648e-05,1.0668524281845558e-05,1.2592296623808666e-05,1.0406634816826874e-05,6.796404091153271e-06,3.884308829767933e-05,1.3803977989101552e-05,6.447667019838649e-06,1.4792653935850992e-05,1.9395608753031575e-05,1.2599306932533222e-05],\"yaxis\":\"y\",\"type\":\"scatter\"}],                        {\"template\":{\"data\":{\"histogram2dcontour\":[{\"type\":\"histogram2dcontour\",\"colorbar\":{\"outlinewidth\":0,\"ticks\":\"\"},\"colorscale\":[[0.0,\"#0d0887\"],[0.1111111111111111,\"#46039f\"],[0.2222222222222222,\"#7201a8\"],[0.3333333333333333,\"#9c179e\"],[0.4444444444444444,\"#bd3786\"],[0.5555555555555556,\"#d8576b\"],[0.6666666666666666,\"#ed7953\"],[0.7777777777777778,\"#fb9f3a\"],[0.8888888888888888,\"#fdca26\"],[1.0,\"#f0f921\"]]}],\"choropleth\":[{\"type\":\"choropleth\",\"colorbar\":{\"outlinewidth\":0,\"ticks\":\"\"}}],\"histogram2d\":[{\"type\":\"histogram2d\",\"colorbar\":{\"outlinewidth\":0,\"ticks\":\"\"},\"colorscale\":[[0.0,\"#0d0887\"],[0.1111111111111111,\"#46039f\"],[0.2222222222222222,\"#7201a8\"],[0.3333333333333333,\"#9c179e\"],[0.4444444444444444,\"#bd3786\"],[0.5555555555555556,\"#d8576b\"],[0.6666666666666666,\"#ed7953\"],[0.7777777777777778,\"#fb9f3a\"],[0.8888888888888888,\"#fdca26\"],[1.0,\"#f0f921\"]]}],\"heatmap\":[{\"type\":\"heatmap\",\"colorbar\":{\"outlinewidth\":0,\"ticks\":\"\"},\"colorscale\":[[0.0,\"#0d0887\"],[0.1111111111111111,\"#46039f\"],[0.2222222222222222,\"#7201a8\"],[0.3333333333333333,\"#9c179e\"],[0.4444444444444444,\"#bd3786\"],[0.5555555555555556,\"#d8576b\"],[0.6666666666666666,\"#ed7953\"],[0.7777777777777778,\"#fb9f3a\"],[0.8888888888888888,\"#fdca26\"],[1.0,\"#f0f921\"]]}],\"heatmapgl\":[{\"type\":\"heatmapgl\",\"colorbar\":{\"outlinewidth\":0,\"ticks\":\"\"},\"colorscale\":[[0.0,\"#0d0887\"],[0.1111111111111111,\"#46039f\"],[0.2222222222222222,\"#7201a8\"],[0.3333333333333333,\"#9c179e\"],[0.4444444444444444,\"#bd3786\"],[0.5555555555555556,\"#d8576b\"],[0.6666666666666666,\"#ed7953\"],[0.7777777777777778,\"#fb9f3a\"],[0.8888888888888888,\"#fdca26\"],[1.0,\"#f0f921\"]]}],\"contourcarpet\":[{\"type\":\"contourcarpet\",\"colorbar\":{\"outlinewidth\":0,\"ticks\":\"\"}}],\"contour\":[{\"type\":\"contour\",\"colorbar\":{\"outlinewidth\":0,\"ticks\":\"\"},\"colorscale\":[[0.0,\"#0d0887\"],[0.1111111111111111,\"#46039f\"],[0.2222222222222222,\"#7201a8\"],[0.3333333333333333,\"#9c179e\"],[0.4444444444444444,\"#bd3786\"],[0.5555555555555556,\"#d8576b\"],[0.6666666666666666,\"#ed7953\"],[0.7777777777777778,\"#fb9f3a\"],[0.8888888888888888,\"#fdca26\"],[1.0,\"#f0f921\"]]}],\"surface\":[{\"type\":\"surface\",\"colorbar\":{\"outlinewidth\":0,\"ticks\":\"\"},\"colorscale\":[[0.0,\"#0d0887\"],[0.1111111111111111,\"#46039f\"],[0.2222222222222222,\"#7201a8\"],[0.3333333333333333,\"#9c179e\"],[0.4444444444444444,\"#bd3786\"],[0.5555555555555556,\"#d8576b\"],[0.6666666666666666,\"#ed7953\"],[0.7777777777777778,\"#fb9f3a\"],[0.8888888888888888,\"#fdca26\"],[1.0,\"#f0f921\"]]}],\"mesh3d\":[{\"type\":\"mesh3d\",\"colorbar\":{\"outlinewidth\":0,\"ticks\":\"\"}}],\"scatter\":[{\"fillpattern\":{\"fillmode\":\"overlay\",\"size\":10,\"solidity\":0.2},\"type\":\"scatter\"}],\"parcoords\":[{\"type\":\"parcoords\",\"line\":{\"colorbar\":{\"outlinewidth\":0,\"ticks\":\"\"}}}],\"scatterpolargl\":[{\"type\":\"scatterpolargl\",\"marker\":{\"colorbar\":{\"outlinewidth\":0,\"ticks\":\"\"}}}],\"bar\":[{\"error_x\":{\"color\":\"#2a3f5f\"},\"error_y\":{\"color\":\"#2a3f5f\"},\"marker\":{\"line\":{\"color\":\"#E5ECF6\",\"width\":0.5},\"pattern\":{\"fillmode\":\"overlay\",\"size\":10,\"solidity\":0.2}},\"type\":\"bar\"}],\"scattergeo\":[{\"type\":\"scattergeo\",\"marker\":{\"colorbar\":{\"outlinewidth\":0,\"ticks\":\"\"}}}],\"scatterpolar\":[{\"type\":\"scatterpolar\",\"marker\":{\"colorbar\":{\"outlinewidth\":0,\"ticks\":\"\"}}}],\"histogram\":[{\"marker\":{\"pattern\":{\"fillmode\":\"overlay\",\"size\":10,\"solidity\":0.2}},\"type\":\"histogram\"}],\"scattergl\":[{\"type\":\"scattergl\",\"marker\":{\"colorbar\":{\"outlinewidth\":0,\"ticks\":\"\"}}}],\"scatter3d\":[{\"type\":\"scatter3d\",\"line\":{\"colorbar\":{\"outlinewidth\":0,\"ticks\":\"\"}},\"marker\":{\"colorbar\":{\"outlinewidth\":0,\"ticks\":\"\"}}}],\"scattermapbox\":[{\"type\":\"scattermapbox\",\"marker\":{\"colorbar\":{\"outlinewidth\":0,\"ticks\":\"\"}}}],\"scatterternary\":[{\"type\":\"scatterternary\",\"marker\":{\"colorbar\":{\"outlinewidth\":0,\"ticks\":\"\"}}}],\"scattercarpet\":[{\"type\":\"scattercarpet\",\"marker\":{\"colorbar\":{\"outlinewidth\":0,\"ticks\":\"\"}}}],\"carpet\":[{\"aaxis\":{\"endlinecolor\":\"#2a3f5f\",\"gridcolor\":\"white\",\"linecolor\":\"white\",\"minorgridcolor\":\"white\",\"startlinecolor\":\"#2a3f5f\"},\"baxis\":{\"endlinecolor\":\"#2a3f5f\",\"gridcolor\":\"white\",\"linecolor\":\"white\",\"minorgridcolor\":\"white\",\"startlinecolor\":\"#2a3f5f\"},\"type\":\"carpet\"}],\"table\":[{\"cells\":{\"fill\":{\"color\":\"#EBF0F8\"},\"line\":{\"color\":\"white\"}},\"header\":{\"fill\":{\"color\":\"#C8D4E3\"},\"line\":{\"color\":\"white\"}},\"type\":\"table\"}],\"barpolar\":[{\"marker\":{\"line\":{\"color\":\"#E5ECF6\",\"width\":0.5},\"pattern\":{\"fillmode\":\"overlay\",\"size\":10,\"solidity\":0.2}},\"type\":\"barpolar\"}],\"pie\":[{\"automargin\":true,\"type\":\"pie\"}]},\"layout\":{\"autotypenumbers\":\"strict\",\"colorway\":[\"#636efa\",\"#EF553B\",\"#00cc96\",\"#ab63fa\",\"#FFA15A\",\"#19d3f3\",\"#FF6692\",\"#B6E880\",\"#FF97FF\",\"#FECB52\"],\"font\":{\"color\":\"#2a3f5f\"},\"hovermode\":\"closest\",\"hoverlabel\":{\"align\":\"left\"},\"paper_bgcolor\":\"white\",\"plot_bgcolor\":\"#E5ECF6\",\"polar\":{\"bgcolor\":\"#E5ECF6\",\"angularaxis\":{\"gridcolor\":\"white\",\"linecolor\":\"white\",\"ticks\":\"\"},\"radialaxis\":{\"gridcolor\":\"white\",\"linecolor\":\"white\",\"ticks\":\"\"}},\"ternary\":{\"bgcolor\":\"#E5ECF6\",\"aaxis\":{\"gridcolor\":\"white\",\"linecolor\":\"white\",\"ticks\":\"\"},\"baxis\":{\"gridcolor\":\"white\",\"linecolor\":\"white\",\"ticks\":\"\"},\"caxis\":{\"gridcolor\":\"white\",\"linecolor\":\"white\",\"ticks\":\"\"}},\"coloraxis\":{\"colorbar\":{\"outlinewidth\":0,\"ticks\":\"\"}},\"colorscale\":{\"sequential\":[[0.0,\"#0d0887\"],[0.1111111111111111,\"#46039f\"],[0.2222222222222222,\"#7201a8\"],[0.3333333333333333,\"#9c179e\"],[0.4444444444444444,\"#bd3786\"],[0.5555555555555556,\"#d8576b\"],[0.6666666666666666,\"#ed7953\"],[0.7777777777777778,\"#fb9f3a\"],[0.8888888888888888,\"#fdca26\"],[1.0,\"#f0f921\"]],\"sequentialminus\":[[0.0,\"#0d0887\"],[0.1111111111111111,\"#46039f\"],[0.2222222222222222,\"#7201a8\"],[0.3333333333333333,\"#9c179e\"],[0.4444444444444444,\"#bd3786\"],[0.5555555555555556,\"#d8576b\"],[0.6666666666666666,\"#ed7953\"],[0.7777777777777778,\"#fb9f3a\"],[0.8888888888888888,\"#fdca26\"],[1.0,\"#f0f921\"]],\"diverging\":[[0,\"#8e0152\"],[0.1,\"#c51b7d\"],[0.2,\"#de77ae\"],[0.3,\"#f1b6da\"],[0.4,\"#fde0ef\"],[0.5,\"#f7f7f7\"],[0.6,\"#e6f5d0\"],[0.7,\"#b8e186\"],[0.8,\"#7fbc41\"],[0.9,\"#4d9221\"],[1,\"#276419\"]]},\"xaxis\":{\"gridcolor\":\"white\",\"linecolor\":\"white\",\"ticks\":\"\",\"title\":{\"standoff\":15},\"zerolinecolor\":\"white\",\"automargin\":true,\"zerolinewidth\":2},\"yaxis\":{\"gridcolor\":\"white\",\"linecolor\":\"white\",\"ticks\":\"\",\"title\":{\"standoff\":15},\"zerolinecolor\":\"white\",\"automargin\":true,\"zerolinewidth\":2},\"scene\":{\"xaxis\":{\"backgroundcolor\":\"#E5ECF6\",\"gridcolor\":\"white\",\"linecolor\":\"white\",\"showbackground\":true,\"ticks\":\"\",\"zerolinecolor\":\"white\",\"gridwidth\":2},\"yaxis\":{\"backgroundcolor\":\"#E5ECF6\",\"gridcolor\":\"white\",\"linecolor\":\"white\",\"showbackground\":true,\"ticks\":\"\",\"zerolinecolor\":\"white\",\"gridwidth\":2},\"zaxis\":{\"backgroundcolor\":\"#E5ECF6\",\"gridcolor\":\"white\",\"linecolor\":\"white\",\"showbackground\":true,\"ticks\":\"\",\"zerolinecolor\":\"white\",\"gridwidth\":2}},\"shapedefaults\":{\"line\":{\"color\":\"#2a3f5f\"}},\"annotationdefaults\":{\"arrowcolor\":\"#2a3f5f\",\"arrowhead\":0,\"arrowwidth\":1},\"geo\":{\"bgcolor\":\"white\",\"landcolor\":\"#E5ECF6\",\"subunitcolor\":\"white\",\"showland\":true,\"showlakes\":true,\"lakecolor\":\"white\"},\"title\":{\"x\":0.05},\"mapbox\":{\"style\":\"light\"}}},\"xaxis\":{\"anchor\":\"y\",\"domain\":[0.0,1.0],\"title\":{\"text\":\"Epoch\"}},\"yaxis\":{\"anchor\":\"x\",\"domain\":[0.0,1.0],\"title\":{\"text\":\"Loss\"}},\"legend\":{\"tracegroupgap\":0},\"title\":{\"text\":\"Train Loss Curve\"}},                        {\"responsive\": true}                    ).then(function(){\n",
              "                            \n",
              "var gd = document.getElementById('96fc21c4-f9ba-4c1e-8193-bf85843568a7');\n",
              "var x = new MutationObserver(function (mutations, observer) {{\n",
              "        var display = window.getComputedStyle(gd).display;\n",
              "        if (!display || display === 'none') {{\n",
              "            console.log([gd, 'removed!']);\n",
              "            Plotly.purge(gd);\n",
              "            observer.disconnect();\n",
              "        }}\n",
              "}});\n",
              "\n",
              "// Listen for the removal of the full notebook cells\n",
              "var notebookContainer = gd.closest('#notebook-container');\n",
              "if (notebookContainer) {{\n",
              "    x.observe(notebookContainer, {childList: true});\n",
              "}}\n",
              "\n",
              "// Listen for the clearing of the current output cell\n",
              "var outputEl = gd.closest('.output');\n",
              "if (outputEl) {{\n",
              "    x.observe(outputEl, {childList: true});\n",
              "}}\n",
              "\n",
              "                        })                };                            </script>        </div>\n",
              "</body>\n",
              "</html>"
            ]
          },
          "metadata": {}
        }
      ]
    },
    {
      "cell_type": "markdown",
      "source": [
        "## Sanity Check"
      ],
      "metadata": {
        "id": "9hhwTAl8AEfL"
      }
    },
    {
      "cell_type": "code",
      "source": [
        "test_sample = next(train_data_loader).to(device)\n",
        "print(test_sample.shape)"
      ],
      "metadata": {
        "colab": {
          "base_uri": "https://localhost:8080/"
        },
        "id": "Bzl9wT8SAHMa",
        "outputId": "70d1988b-83a8-4e74-83eb-b1e919a3da68"
      },
      "execution_count": 256,
      "outputs": [
        {
          "output_type": "stream",
          "name": "stdout",
          "text": [
            "torch.Size([256, 11])\n"
          ]
        }
      ]
    },
    {
      "cell_type": "code",
      "source": [
        "with torch.inference_mode():\n",
        "    logits = model(test_sample)\n",
        "    logits = logits[:, -LIST_LEN-1:-1, :]\n",
        "    preds = logits.argmax(dim=-1)\n",
        "\n",
        "    labels = test_sample[:, -LIST_LEN:]\n",
        "\n",
        "    acc = (preds == labels).float().mean()\n",
        "    print(\"Test sample accuracy:\", acc.item())"
      ],
      "metadata": {
        "colab": {
          "base_uri": "https://localhost:8080/"
        },
        "id": "FmIr1clXADaP",
        "outputId": "d679d250-fe74-4144-db4e-4a8e801531e7"
      },
      "execution_count": 257,
      "outputs": [
        {
          "output_type": "stream",
          "name": "stdout",
          "text": [
            "Test sample accuracy: 1.0\n"
          ]
        }
      ]
    },
    {
      "cell_type": "markdown",
      "source": [
        "# Reverse Engineering"
      ],
      "metadata": {
        "id": "AjDiUTRAVt4Y"
      }
    },
    {
      "cell_type": "markdown",
      "source": [
        "## Direct logit attribution"
      ],
      "metadata": {
        "id": "7qdT2sf4BCwv"
      }
    },
    {
      "cell_type": "markdown",
      "source": [
        "We can start with direct logit attribution to determine what bits of the model are writing information that is directly used to make the correct prediction. For simplicity, we will just start with the first prediction rather than dealing with all 3.\n",
        "\n",
        "\n",
        "As usual, we can start with the logit lens technique. Since I deliberately tried to train the smallest model, we expect that the model will need both layers to make the correct prediction\n"
      ],
      "metadata": {
        "id": "ZjcULDKCBF6D"
      }
    },
    {
      "cell_type": "code",
      "source": [
        "original_logits, cache = model.run_with_cache(test_sample)\n",
        "print(original_logits.shape)\n",
        "print(cache)"
      ],
      "metadata": {
        "colab": {
          "base_uri": "https://localhost:8080/"
        },
        "id": "8r1ua8gkAYO1",
        "outputId": "293a429b-1e5d-48a6-8048-d605bde43e37"
      },
      "execution_count": 258,
      "outputs": [
        {
          "output_type": "stream",
          "name": "stdout",
          "text": [
            "torch.Size([256, 11, 50])\n",
            "ActivationCache with keys ['hook_embed', 'hook_pos_embed', 'blocks.0.hook_resid_pre', 'blocks.0.attn.hook_q', 'blocks.0.attn.hook_k', 'blocks.0.attn.hook_v', 'blocks.0.attn.hook_attn_scores', 'blocks.0.attn.hook_pattern', 'blocks.0.attn.hook_z', 'blocks.0.hook_attn_out', 'blocks.0.hook_resid_post', 'blocks.1.hook_resid_pre', 'blocks.1.attn.hook_q', 'blocks.1.attn.hook_k', 'blocks.1.attn.hook_v', 'blocks.1.attn.hook_attn_scores', 'blocks.1.attn.hook_pattern', 'blocks.1.attn.hook_z', 'blocks.1.hook_attn_out', 'blocks.1.hook_resid_post']\n"
          ]
        }
      ]
    },
    {
      "cell_type": "code",
      "source": [
        "first_pred_pos = -LIST_LEN-1"
      ],
      "metadata": {
        "id": "darsnZlcWwfw"
      },
      "execution_count": 259,
      "outputs": []
    },
    {
      "cell_type": "code",
      "source": [
        "accumulated_resid_stack, labels = cache.accumulated_resid(layer=-1, pos_slice=first_pred_pos, return_labels=True)\n",
        "print(accumulated_resid_stack.shape)\n",
        "print(labels)"
      ],
      "metadata": {
        "colab": {
          "base_uri": "https://localhost:8080/"
        },
        "id": "K59dW26OBRKS",
        "outputId": "3ba66321-2415-47f8-b939-c6830a7dde0b"
      },
      "execution_count": 260,
      "outputs": [
        {
          "output_type": "stream",
          "name": "stdout",
          "text": [
            "torch.Size([3, 256, 128])\n",
            "['0_pre', '1_pre', 'final_post']\n"
          ]
        }
      ]
    },
    {
      "cell_type": "code",
      "source": [
        "logit_dirs = model.tokens_to_residual_directions(test_sample[:, -LIST_LEN])\n",
        "print(logit_dirs.shape)"
      ],
      "metadata": {
        "colab": {
          "base_uri": "https://localhost:8080/"
        },
        "id": "hlSmlGfsBmlh",
        "outputId": "418e9d37-aa4f-4ddb-9928-c4df925fe21c"
      },
      "execution_count": 261,
      "outputs": [
        {
          "output_type": "stream",
          "name": "stdout",
          "text": [
            "torch.Size([256, 128])\n"
          ]
        }
      ]
    },
    {
      "cell_type": "code",
      "source": [
        "accumulated_contrib = einops.einsum(\n",
        "    accumulated_resid_stack, logit_dirs,\n",
        "    \"... batch d_model, batch d_model -> ...\"\n",
        ") / accumulated_resid_stack.shape[1]\n",
        "\n",
        "\n",
        "line(\n",
        "    accumulated_contrib,\n",
        "    title=\"Logit lens: prefix contribution to correct logit dirs\",\n",
        "    xaxis=\"Layer\", yaxis=\"Contribution\",\n",
        "    x=labels\n",
        ")"
      ],
      "metadata": {
        "colab": {
          "base_uri": "https://localhost:8080/",
          "height": 542
        },
        "id": "dFx87Ar6BdyN",
        "outputId": "66ee9609-858b-46c5-b4d1-9fe15e0c9c18"
      },
      "execution_count": 262,
      "outputs": [
        {
          "output_type": "display_data",
          "data": {
            "text/html": [
              "<html>\n",
              "<head><meta charset=\"utf-8\" /></head>\n",
              "<body>\n",
              "    <div>            <script src=\"https://cdnjs.cloudflare.com/ajax/libs/mathjax/2.7.5/MathJax.js?config=TeX-AMS-MML_SVG\"></script><script type=\"text/javascript\">if (window.MathJax && window.MathJax.Hub && window.MathJax.Hub.Config) {window.MathJax.Hub.Config({SVG: {font: \"STIX-Web\"}});}</script>                <script type=\"text/javascript\">window.PlotlyConfig = {MathJaxConfig: 'local'};</script>\n",
              "        <script src=\"https://cdn.plot.ly/plotly-2.18.2.min.js\"></script>                <div id=\"1f704b2a-b0ef-49c5-a3f3-82363be19ef2\" class=\"plotly-graph-div\" style=\"height:525px; width:100%;\"></div>            <script type=\"text/javascript\">                                    window.PLOTLYENV=window.PLOTLYENV || {};                                    if (document.getElementById(\"1f704b2a-b0ef-49c5-a3f3-82363be19ef2\")) {                    Plotly.newPlot(                        \"1f704b2a-b0ef-49c5-a3f3-82363be19ef2\",                        [{\"hovertemplate\":\"Layer=%{x}<br>Contribution=%{y}<extra></extra>\",\"legendgroup\":\"\",\"line\":{\"color\":\"#636efa\",\"dash\":\"solid\"},\"marker\":{\"symbol\":\"circle\"},\"mode\":\"lines\",\"name\":\"\",\"orientation\":\"v\",\"showlegend\":false,\"x\":[\"0_pre\",\"1_pre\",\"final_post\"],\"xaxis\":\"x\",\"y\":[-0.12993693351745605,1.239114761352539,21.908720016479492],\"yaxis\":\"y\",\"type\":\"scatter\"}],                        {\"template\":{\"data\":{\"histogram2dcontour\":[{\"type\":\"histogram2dcontour\",\"colorbar\":{\"outlinewidth\":0,\"ticks\":\"\"},\"colorscale\":[[0.0,\"#0d0887\"],[0.1111111111111111,\"#46039f\"],[0.2222222222222222,\"#7201a8\"],[0.3333333333333333,\"#9c179e\"],[0.4444444444444444,\"#bd3786\"],[0.5555555555555556,\"#d8576b\"],[0.6666666666666666,\"#ed7953\"],[0.7777777777777778,\"#fb9f3a\"],[0.8888888888888888,\"#fdca26\"],[1.0,\"#f0f921\"]]}],\"choropleth\":[{\"type\":\"choropleth\",\"colorbar\":{\"outlinewidth\":0,\"ticks\":\"\"}}],\"histogram2d\":[{\"type\":\"histogram2d\",\"colorbar\":{\"outlinewidth\":0,\"ticks\":\"\"},\"colorscale\":[[0.0,\"#0d0887\"],[0.1111111111111111,\"#46039f\"],[0.2222222222222222,\"#7201a8\"],[0.3333333333333333,\"#9c179e\"],[0.4444444444444444,\"#bd3786\"],[0.5555555555555556,\"#d8576b\"],[0.6666666666666666,\"#ed7953\"],[0.7777777777777778,\"#fb9f3a\"],[0.8888888888888888,\"#fdca26\"],[1.0,\"#f0f921\"]]}],\"heatmap\":[{\"type\":\"heatmap\",\"colorbar\":{\"outlinewidth\":0,\"ticks\":\"\"},\"colorscale\":[[0.0,\"#0d0887\"],[0.1111111111111111,\"#46039f\"],[0.2222222222222222,\"#7201a8\"],[0.3333333333333333,\"#9c179e\"],[0.4444444444444444,\"#bd3786\"],[0.5555555555555556,\"#d8576b\"],[0.6666666666666666,\"#ed7953\"],[0.7777777777777778,\"#fb9f3a\"],[0.8888888888888888,\"#fdca26\"],[1.0,\"#f0f921\"]]}],\"heatmapgl\":[{\"type\":\"heatmapgl\",\"colorbar\":{\"outlinewidth\":0,\"ticks\":\"\"},\"colorscale\":[[0.0,\"#0d0887\"],[0.1111111111111111,\"#46039f\"],[0.2222222222222222,\"#7201a8\"],[0.3333333333333333,\"#9c179e\"],[0.4444444444444444,\"#bd3786\"],[0.5555555555555556,\"#d8576b\"],[0.6666666666666666,\"#ed7953\"],[0.7777777777777778,\"#fb9f3a\"],[0.8888888888888888,\"#fdca26\"],[1.0,\"#f0f921\"]]}],\"contourcarpet\":[{\"type\":\"contourcarpet\",\"colorbar\":{\"outlinewidth\":0,\"ticks\":\"\"}}],\"contour\":[{\"type\":\"contour\",\"colorbar\":{\"outlinewidth\":0,\"ticks\":\"\"},\"colorscale\":[[0.0,\"#0d0887\"],[0.1111111111111111,\"#46039f\"],[0.2222222222222222,\"#7201a8\"],[0.3333333333333333,\"#9c179e\"],[0.4444444444444444,\"#bd3786\"],[0.5555555555555556,\"#d8576b\"],[0.6666666666666666,\"#ed7953\"],[0.7777777777777778,\"#fb9f3a\"],[0.8888888888888888,\"#fdca26\"],[1.0,\"#f0f921\"]]}],\"surface\":[{\"type\":\"surface\",\"colorbar\":{\"outlinewidth\":0,\"ticks\":\"\"},\"colorscale\":[[0.0,\"#0d0887\"],[0.1111111111111111,\"#46039f\"],[0.2222222222222222,\"#7201a8\"],[0.3333333333333333,\"#9c179e\"],[0.4444444444444444,\"#bd3786\"],[0.5555555555555556,\"#d8576b\"],[0.6666666666666666,\"#ed7953\"],[0.7777777777777778,\"#fb9f3a\"],[0.8888888888888888,\"#fdca26\"],[1.0,\"#f0f921\"]]}],\"mesh3d\":[{\"type\":\"mesh3d\",\"colorbar\":{\"outlinewidth\":0,\"ticks\":\"\"}}],\"scatter\":[{\"fillpattern\":{\"fillmode\":\"overlay\",\"size\":10,\"solidity\":0.2},\"type\":\"scatter\"}],\"parcoords\":[{\"type\":\"parcoords\",\"line\":{\"colorbar\":{\"outlinewidth\":0,\"ticks\":\"\"}}}],\"scatterpolargl\":[{\"type\":\"scatterpolargl\",\"marker\":{\"colorbar\":{\"outlinewidth\":0,\"ticks\":\"\"}}}],\"bar\":[{\"error_x\":{\"color\":\"#2a3f5f\"},\"error_y\":{\"color\":\"#2a3f5f\"},\"marker\":{\"line\":{\"color\":\"#E5ECF6\",\"width\":0.5},\"pattern\":{\"fillmode\":\"overlay\",\"size\":10,\"solidity\":0.2}},\"type\":\"bar\"}],\"scattergeo\":[{\"type\":\"scattergeo\",\"marker\":{\"colorbar\":{\"outlinewidth\":0,\"ticks\":\"\"}}}],\"scatterpolar\":[{\"type\":\"scatterpolar\",\"marker\":{\"colorbar\":{\"outlinewidth\":0,\"ticks\":\"\"}}}],\"histogram\":[{\"marker\":{\"pattern\":{\"fillmode\":\"overlay\",\"size\":10,\"solidity\":0.2}},\"type\":\"histogram\"}],\"scattergl\":[{\"type\":\"scattergl\",\"marker\":{\"colorbar\":{\"outlinewidth\":0,\"ticks\":\"\"}}}],\"scatter3d\":[{\"type\":\"scatter3d\",\"line\":{\"colorbar\":{\"outlinewidth\":0,\"ticks\":\"\"}},\"marker\":{\"colorbar\":{\"outlinewidth\":0,\"ticks\":\"\"}}}],\"scattermapbox\":[{\"type\":\"scattermapbox\",\"marker\":{\"colorbar\":{\"outlinewidth\":0,\"ticks\":\"\"}}}],\"scatterternary\":[{\"type\":\"scatterternary\",\"marker\":{\"colorbar\":{\"outlinewidth\":0,\"ticks\":\"\"}}}],\"scattercarpet\":[{\"type\":\"scattercarpet\",\"marker\":{\"colorbar\":{\"outlinewidth\":0,\"ticks\":\"\"}}}],\"carpet\":[{\"aaxis\":{\"endlinecolor\":\"#2a3f5f\",\"gridcolor\":\"white\",\"linecolor\":\"white\",\"minorgridcolor\":\"white\",\"startlinecolor\":\"#2a3f5f\"},\"baxis\":{\"endlinecolor\":\"#2a3f5f\",\"gridcolor\":\"white\",\"linecolor\":\"white\",\"minorgridcolor\":\"white\",\"startlinecolor\":\"#2a3f5f\"},\"type\":\"carpet\"}],\"table\":[{\"cells\":{\"fill\":{\"color\":\"#EBF0F8\"},\"line\":{\"color\":\"white\"}},\"header\":{\"fill\":{\"color\":\"#C8D4E3\"},\"line\":{\"color\":\"white\"}},\"type\":\"table\"}],\"barpolar\":[{\"marker\":{\"line\":{\"color\":\"#E5ECF6\",\"width\":0.5},\"pattern\":{\"fillmode\":\"overlay\",\"size\":10,\"solidity\":0.2}},\"type\":\"barpolar\"}],\"pie\":[{\"automargin\":true,\"type\":\"pie\"}]},\"layout\":{\"autotypenumbers\":\"strict\",\"colorway\":[\"#636efa\",\"#EF553B\",\"#00cc96\",\"#ab63fa\",\"#FFA15A\",\"#19d3f3\",\"#FF6692\",\"#B6E880\",\"#FF97FF\",\"#FECB52\"],\"font\":{\"color\":\"#2a3f5f\"},\"hovermode\":\"closest\",\"hoverlabel\":{\"align\":\"left\"},\"paper_bgcolor\":\"white\",\"plot_bgcolor\":\"#E5ECF6\",\"polar\":{\"bgcolor\":\"#E5ECF6\",\"angularaxis\":{\"gridcolor\":\"white\",\"linecolor\":\"white\",\"ticks\":\"\"},\"radialaxis\":{\"gridcolor\":\"white\",\"linecolor\":\"white\",\"ticks\":\"\"}},\"ternary\":{\"bgcolor\":\"#E5ECF6\",\"aaxis\":{\"gridcolor\":\"white\",\"linecolor\":\"white\",\"ticks\":\"\"},\"baxis\":{\"gridcolor\":\"white\",\"linecolor\":\"white\",\"ticks\":\"\"},\"caxis\":{\"gridcolor\":\"white\",\"linecolor\":\"white\",\"ticks\":\"\"}},\"coloraxis\":{\"colorbar\":{\"outlinewidth\":0,\"ticks\":\"\"}},\"colorscale\":{\"sequential\":[[0.0,\"#0d0887\"],[0.1111111111111111,\"#46039f\"],[0.2222222222222222,\"#7201a8\"],[0.3333333333333333,\"#9c179e\"],[0.4444444444444444,\"#bd3786\"],[0.5555555555555556,\"#d8576b\"],[0.6666666666666666,\"#ed7953\"],[0.7777777777777778,\"#fb9f3a\"],[0.8888888888888888,\"#fdca26\"],[1.0,\"#f0f921\"]],\"sequentialminus\":[[0.0,\"#0d0887\"],[0.1111111111111111,\"#46039f\"],[0.2222222222222222,\"#7201a8\"],[0.3333333333333333,\"#9c179e\"],[0.4444444444444444,\"#bd3786\"],[0.5555555555555556,\"#d8576b\"],[0.6666666666666666,\"#ed7953\"],[0.7777777777777778,\"#fb9f3a\"],[0.8888888888888888,\"#fdca26\"],[1.0,\"#f0f921\"]],\"diverging\":[[0,\"#8e0152\"],[0.1,\"#c51b7d\"],[0.2,\"#de77ae\"],[0.3,\"#f1b6da\"],[0.4,\"#fde0ef\"],[0.5,\"#f7f7f7\"],[0.6,\"#e6f5d0\"],[0.7,\"#b8e186\"],[0.8,\"#7fbc41\"],[0.9,\"#4d9221\"],[1,\"#276419\"]]},\"xaxis\":{\"gridcolor\":\"white\",\"linecolor\":\"white\",\"ticks\":\"\",\"title\":{\"standoff\":15},\"zerolinecolor\":\"white\",\"automargin\":true,\"zerolinewidth\":2},\"yaxis\":{\"gridcolor\":\"white\",\"linecolor\":\"white\",\"ticks\":\"\",\"title\":{\"standoff\":15},\"zerolinecolor\":\"white\",\"automargin\":true,\"zerolinewidth\":2},\"scene\":{\"xaxis\":{\"backgroundcolor\":\"#E5ECF6\",\"gridcolor\":\"white\",\"linecolor\":\"white\",\"showbackground\":true,\"ticks\":\"\",\"zerolinecolor\":\"white\",\"gridwidth\":2},\"yaxis\":{\"backgroundcolor\":\"#E5ECF6\",\"gridcolor\":\"white\",\"linecolor\":\"white\",\"showbackground\":true,\"ticks\":\"\",\"zerolinecolor\":\"white\",\"gridwidth\":2},\"zaxis\":{\"backgroundcolor\":\"#E5ECF6\",\"gridcolor\":\"white\",\"linecolor\":\"white\",\"showbackground\":true,\"ticks\":\"\",\"zerolinecolor\":\"white\",\"gridwidth\":2}},\"shapedefaults\":{\"line\":{\"color\":\"#2a3f5f\"}},\"annotationdefaults\":{\"arrowcolor\":\"#2a3f5f\",\"arrowhead\":0,\"arrowwidth\":1},\"geo\":{\"bgcolor\":\"white\",\"landcolor\":\"#E5ECF6\",\"subunitcolor\":\"white\",\"showland\":true,\"showlakes\":true,\"lakecolor\":\"white\"},\"title\":{\"x\":0.05},\"mapbox\":{\"style\":\"light\"}}},\"xaxis\":{\"anchor\":\"y\",\"domain\":[0.0,1.0],\"title\":{\"text\":\"Layer\"}},\"yaxis\":{\"anchor\":\"x\",\"domain\":[0.0,1.0],\"title\":{\"text\":\"Contribution\"}},\"legend\":{\"tracegroupgap\":0},\"title\":{\"text\":\"Logit lens: prefix contribution to correct logit dirs\"}},                        {\"responsive\": true}                    ).then(function(){\n",
              "                            \n",
              "var gd = document.getElementById('1f704b2a-b0ef-49c5-a3f3-82363be19ef2');\n",
              "var x = new MutationObserver(function (mutations, observer) {{\n",
              "        var display = window.getComputedStyle(gd).display;\n",
              "        if (!display || display === 'none') {{\n",
              "            console.log([gd, 'removed!']);\n",
              "            Plotly.purge(gd);\n",
              "            observer.disconnect();\n",
              "        }}\n",
              "}});\n",
              "\n",
              "// Listen for the removal of the full notebook cells\n",
              "var notebookContainer = gd.closest('#notebook-container');\n",
              "if (notebookContainer) {{\n",
              "    x.observe(notebookContainer, {childList: true});\n",
              "}}\n",
              "\n",
              "// Listen for the clearing of the current output cell\n",
              "var outputEl = gd.closest('.output');\n",
              "if (outputEl) {{\n",
              "    x.observe(outputEl, {childList: true});\n",
              "}}\n",
              "\n",
              "                        })                };                            </script>        </div>\n",
              "</body>\n",
              "</html>"
            ]
          },
          "metadata": {}
        }
      ]
    },
    {
      "cell_type": "markdown",
      "source": [
        "We see that the model does seem to need both layers, as expected. We can also decompose each component to sanity check this:"
      ],
      "metadata": {
        "id": "SUsQrs4JXGRN"
      }
    },
    {
      "cell_type": "code",
      "source": [
        "decomposed_resid_stack, labels = cache.decompose_resid(layer=-1, pos_slice=first_pred_pos, return_labels=True)\n",
        "print(decomposed_resid_stack.shape)\n",
        "print(labels)"
      ],
      "metadata": {
        "colab": {
          "base_uri": "https://localhost:8080/"
        },
        "id": "59xokHqDB5tB",
        "outputId": "c03837c1-9eee-44c2-fdb2-7d412a0e2374"
      },
      "execution_count": 263,
      "outputs": [
        {
          "output_type": "stream",
          "name": "stdout",
          "text": [
            "torch.Size([4, 256, 128])\n",
            "['embed', 'pos_embed', '0_attn_out', '1_attn_out']\n"
          ]
        }
      ]
    },
    {
      "cell_type": "code",
      "source": [
        "decomposed_contrib = einops.einsum(\n",
        "    decomposed_resid_stack, logit_dirs,\n",
        "    \"... batch d_model, batch d_model -> ...\"\n",
        ") / decomposed_resid_stack.shape[1]\n",
        "\n",
        "\n",
        "line(\n",
        "    decomposed_contrib,\n",
        "    title=\"Per component contribution to correct logit dirs\",\n",
        "    xaxis=\"Layer\", yaxis=\"Contribution\",\n",
        "    x=labels\n",
        ")"
      ],
      "metadata": {
        "colab": {
          "base_uri": "https://localhost:8080/",
          "height": 542
        },
        "id": "ygPhYNdNCfGj",
        "outputId": "648c2069-fcc1-4f2a-d1e1-d0e844b32e55"
      },
      "execution_count": 264,
      "outputs": [
        {
          "output_type": "display_data",
          "data": {
            "text/html": [
              "<html>\n",
              "<head><meta charset=\"utf-8\" /></head>\n",
              "<body>\n",
              "    <div>            <script src=\"https://cdnjs.cloudflare.com/ajax/libs/mathjax/2.7.5/MathJax.js?config=TeX-AMS-MML_SVG\"></script><script type=\"text/javascript\">if (window.MathJax && window.MathJax.Hub && window.MathJax.Hub.Config) {window.MathJax.Hub.Config({SVG: {font: \"STIX-Web\"}});}</script>                <script type=\"text/javascript\">window.PlotlyConfig = {MathJaxConfig: 'local'};</script>\n",
              "        <script src=\"https://cdn.plot.ly/plotly-2.18.2.min.js\"></script>                <div id=\"11e729f2-2bc5-4e6d-a535-a30b0709ceb7\" class=\"plotly-graph-div\" style=\"height:525px; width:100%;\"></div>            <script type=\"text/javascript\">                                    window.PLOTLYENV=window.PLOTLYENV || {};                                    if (document.getElementById(\"11e729f2-2bc5-4e6d-a535-a30b0709ceb7\")) {                    Plotly.newPlot(                        \"11e729f2-2bc5-4e6d-a535-a30b0709ceb7\",                        [{\"hovertemplate\":\"Layer=%{x}<br>Contribution=%{y}<extra></extra>\",\"legendgroup\":\"\",\"line\":{\"color\":\"#636efa\",\"dash\":\"solid\"},\"marker\":{\"symbol\":\"circle\"},\"mode\":\"lines\",\"name\":\"\",\"orientation\":\"v\",\"showlegend\":false,\"x\":[\"embed\",\"pos_embed\",\"0_attn_out\",\"1_attn_out\"],\"xaxis\":\"x\",\"y\":[-0.12993693351745605,-0.06922696530818939,1.3690516948699951,20.669605255126953],\"yaxis\":\"y\",\"type\":\"scatter\"}],                        {\"template\":{\"data\":{\"histogram2dcontour\":[{\"type\":\"histogram2dcontour\",\"colorbar\":{\"outlinewidth\":0,\"ticks\":\"\"},\"colorscale\":[[0.0,\"#0d0887\"],[0.1111111111111111,\"#46039f\"],[0.2222222222222222,\"#7201a8\"],[0.3333333333333333,\"#9c179e\"],[0.4444444444444444,\"#bd3786\"],[0.5555555555555556,\"#d8576b\"],[0.6666666666666666,\"#ed7953\"],[0.7777777777777778,\"#fb9f3a\"],[0.8888888888888888,\"#fdca26\"],[1.0,\"#f0f921\"]]}],\"choropleth\":[{\"type\":\"choropleth\",\"colorbar\":{\"outlinewidth\":0,\"ticks\":\"\"}}],\"histogram2d\":[{\"type\":\"histogram2d\",\"colorbar\":{\"outlinewidth\":0,\"ticks\":\"\"},\"colorscale\":[[0.0,\"#0d0887\"],[0.1111111111111111,\"#46039f\"],[0.2222222222222222,\"#7201a8\"],[0.3333333333333333,\"#9c179e\"],[0.4444444444444444,\"#bd3786\"],[0.5555555555555556,\"#d8576b\"],[0.6666666666666666,\"#ed7953\"],[0.7777777777777778,\"#fb9f3a\"],[0.8888888888888888,\"#fdca26\"],[1.0,\"#f0f921\"]]}],\"heatmap\":[{\"type\":\"heatmap\",\"colorbar\":{\"outlinewidth\":0,\"ticks\":\"\"},\"colorscale\":[[0.0,\"#0d0887\"],[0.1111111111111111,\"#46039f\"],[0.2222222222222222,\"#7201a8\"],[0.3333333333333333,\"#9c179e\"],[0.4444444444444444,\"#bd3786\"],[0.5555555555555556,\"#d8576b\"],[0.6666666666666666,\"#ed7953\"],[0.7777777777777778,\"#fb9f3a\"],[0.8888888888888888,\"#fdca26\"],[1.0,\"#f0f921\"]]}],\"heatmapgl\":[{\"type\":\"heatmapgl\",\"colorbar\":{\"outlinewidth\":0,\"ticks\":\"\"},\"colorscale\":[[0.0,\"#0d0887\"],[0.1111111111111111,\"#46039f\"],[0.2222222222222222,\"#7201a8\"],[0.3333333333333333,\"#9c179e\"],[0.4444444444444444,\"#bd3786\"],[0.5555555555555556,\"#d8576b\"],[0.6666666666666666,\"#ed7953\"],[0.7777777777777778,\"#fb9f3a\"],[0.8888888888888888,\"#fdca26\"],[1.0,\"#f0f921\"]]}],\"contourcarpet\":[{\"type\":\"contourcarpet\",\"colorbar\":{\"outlinewidth\":0,\"ticks\":\"\"}}],\"contour\":[{\"type\":\"contour\",\"colorbar\":{\"outlinewidth\":0,\"ticks\":\"\"},\"colorscale\":[[0.0,\"#0d0887\"],[0.1111111111111111,\"#46039f\"],[0.2222222222222222,\"#7201a8\"],[0.3333333333333333,\"#9c179e\"],[0.4444444444444444,\"#bd3786\"],[0.5555555555555556,\"#d8576b\"],[0.6666666666666666,\"#ed7953\"],[0.7777777777777778,\"#fb9f3a\"],[0.8888888888888888,\"#fdca26\"],[1.0,\"#f0f921\"]]}],\"surface\":[{\"type\":\"surface\",\"colorbar\":{\"outlinewidth\":0,\"ticks\":\"\"},\"colorscale\":[[0.0,\"#0d0887\"],[0.1111111111111111,\"#46039f\"],[0.2222222222222222,\"#7201a8\"],[0.3333333333333333,\"#9c179e\"],[0.4444444444444444,\"#bd3786\"],[0.5555555555555556,\"#d8576b\"],[0.6666666666666666,\"#ed7953\"],[0.7777777777777778,\"#fb9f3a\"],[0.8888888888888888,\"#fdca26\"],[1.0,\"#f0f921\"]]}],\"mesh3d\":[{\"type\":\"mesh3d\",\"colorbar\":{\"outlinewidth\":0,\"ticks\":\"\"}}],\"scatter\":[{\"fillpattern\":{\"fillmode\":\"overlay\",\"size\":10,\"solidity\":0.2},\"type\":\"scatter\"}],\"parcoords\":[{\"type\":\"parcoords\",\"line\":{\"colorbar\":{\"outlinewidth\":0,\"ticks\":\"\"}}}],\"scatterpolargl\":[{\"type\":\"scatterpolargl\",\"marker\":{\"colorbar\":{\"outlinewidth\":0,\"ticks\":\"\"}}}],\"bar\":[{\"error_x\":{\"color\":\"#2a3f5f\"},\"error_y\":{\"color\":\"#2a3f5f\"},\"marker\":{\"line\":{\"color\":\"#E5ECF6\",\"width\":0.5},\"pattern\":{\"fillmode\":\"overlay\",\"size\":10,\"solidity\":0.2}},\"type\":\"bar\"}],\"scattergeo\":[{\"type\":\"scattergeo\",\"marker\":{\"colorbar\":{\"outlinewidth\":0,\"ticks\":\"\"}}}],\"scatterpolar\":[{\"type\":\"scatterpolar\",\"marker\":{\"colorbar\":{\"outlinewidth\":0,\"ticks\":\"\"}}}],\"histogram\":[{\"marker\":{\"pattern\":{\"fillmode\":\"overlay\",\"size\":10,\"solidity\":0.2}},\"type\":\"histogram\"}],\"scattergl\":[{\"type\":\"scattergl\",\"marker\":{\"colorbar\":{\"outlinewidth\":0,\"ticks\":\"\"}}}],\"scatter3d\":[{\"type\":\"scatter3d\",\"line\":{\"colorbar\":{\"outlinewidth\":0,\"ticks\":\"\"}},\"marker\":{\"colorbar\":{\"outlinewidth\":0,\"ticks\":\"\"}}}],\"scattermapbox\":[{\"type\":\"scattermapbox\",\"marker\":{\"colorbar\":{\"outlinewidth\":0,\"ticks\":\"\"}}}],\"scatterternary\":[{\"type\":\"scatterternary\",\"marker\":{\"colorbar\":{\"outlinewidth\":0,\"ticks\":\"\"}}}],\"scattercarpet\":[{\"type\":\"scattercarpet\",\"marker\":{\"colorbar\":{\"outlinewidth\":0,\"ticks\":\"\"}}}],\"carpet\":[{\"aaxis\":{\"endlinecolor\":\"#2a3f5f\",\"gridcolor\":\"white\",\"linecolor\":\"white\",\"minorgridcolor\":\"white\",\"startlinecolor\":\"#2a3f5f\"},\"baxis\":{\"endlinecolor\":\"#2a3f5f\",\"gridcolor\":\"white\",\"linecolor\":\"white\",\"minorgridcolor\":\"white\",\"startlinecolor\":\"#2a3f5f\"},\"type\":\"carpet\"}],\"table\":[{\"cells\":{\"fill\":{\"color\":\"#EBF0F8\"},\"line\":{\"color\":\"white\"}},\"header\":{\"fill\":{\"color\":\"#C8D4E3\"},\"line\":{\"color\":\"white\"}},\"type\":\"table\"}],\"barpolar\":[{\"marker\":{\"line\":{\"color\":\"#E5ECF6\",\"width\":0.5},\"pattern\":{\"fillmode\":\"overlay\",\"size\":10,\"solidity\":0.2}},\"type\":\"barpolar\"}],\"pie\":[{\"automargin\":true,\"type\":\"pie\"}]},\"layout\":{\"autotypenumbers\":\"strict\",\"colorway\":[\"#636efa\",\"#EF553B\",\"#00cc96\",\"#ab63fa\",\"#FFA15A\",\"#19d3f3\",\"#FF6692\",\"#B6E880\",\"#FF97FF\",\"#FECB52\"],\"font\":{\"color\":\"#2a3f5f\"},\"hovermode\":\"closest\",\"hoverlabel\":{\"align\":\"left\"},\"paper_bgcolor\":\"white\",\"plot_bgcolor\":\"#E5ECF6\",\"polar\":{\"bgcolor\":\"#E5ECF6\",\"angularaxis\":{\"gridcolor\":\"white\",\"linecolor\":\"white\",\"ticks\":\"\"},\"radialaxis\":{\"gridcolor\":\"white\",\"linecolor\":\"white\",\"ticks\":\"\"}},\"ternary\":{\"bgcolor\":\"#E5ECF6\",\"aaxis\":{\"gridcolor\":\"white\",\"linecolor\":\"white\",\"ticks\":\"\"},\"baxis\":{\"gridcolor\":\"white\",\"linecolor\":\"white\",\"ticks\":\"\"},\"caxis\":{\"gridcolor\":\"white\",\"linecolor\":\"white\",\"ticks\":\"\"}},\"coloraxis\":{\"colorbar\":{\"outlinewidth\":0,\"ticks\":\"\"}},\"colorscale\":{\"sequential\":[[0.0,\"#0d0887\"],[0.1111111111111111,\"#46039f\"],[0.2222222222222222,\"#7201a8\"],[0.3333333333333333,\"#9c179e\"],[0.4444444444444444,\"#bd3786\"],[0.5555555555555556,\"#d8576b\"],[0.6666666666666666,\"#ed7953\"],[0.7777777777777778,\"#fb9f3a\"],[0.8888888888888888,\"#fdca26\"],[1.0,\"#f0f921\"]],\"sequentialminus\":[[0.0,\"#0d0887\"],[0.1111111111111111,\"#46039f\"],[0.2222222222222222,\"#7201a8\"],[0.3333333333333333,\"#9c179e\"],[0.4444444444444444,\"#bd3786\"],[0.5555555555555556,\"#d8576b\"],[0.6666666666666666,\"#ed7953\"],[0.7777777777777778,\"#fb9f3a\"],[0.8888888888888888,\"#fdca26\"],[1.0,\"#f0f921\"]],\"diverging\":[[0,\"#8e0152\"],[0.1,\"#c51b7d\"],[0.2,\"#de77ae\"],[0.3,\"#f1b6da\"],[0.4,\"#fde0ef\"],[0.5,\"#f7f7f7\"],[0.6,\"#e6f5d0\"],[0.7,\"#b8e186\"],[0.8,\"#7fbc41\"],[0.9,\"#4d9221\"],[1,\"#276419\"]]},\"xaxis\":{\"gridcolor\":\"white\",\"linecolor\":\"white\",\"ticks\":\"\",\"title\":{\"standoff\":15},\"zerolinecolor\":\"white\",\"automargin\":true,\"zerolinewidth\":2},\"yaxis\":{\"gridcolor\":\"white\",\"linecolor\":\"white\",\"ticks\":\"\",\"title\":{\"standoff\":15},\"zerolinecolor\":\"white\",\"automargin\":true,\"zerolinewidth\":2},\"scene\":{\"xaxis\":{\"backgroundcolor\":\"#E5ECF6\",\"gridcolor\":\"white\",\"linecolor\":\"white\",\"showbackground\":true,\"ticks\":\"\",\"zerolinecolor\":\"white\",\"gridwidth\":2},\"yaxis\":{\"backgroundcolor\":\"#E5ECF6\",\"gridcolor\":\"white\",\"linecolor\":\"white\",\"showbackground\":true,\"ticks\":\"\",\"zerolinecolor\":\"white\",\"gridwidth\":2},\"zaxis\":{\"backgroundcolor\":\"#E5ECF6\",\"gridcolor\":\"white\",\"linecolor\":\"white\",\"showbackground\":true,\"ticks\":\"\",\"zerolinecolor\":\"white\",\"gridwidth\":2}},\"shapedefaults\":{\"line\":{\"color\":\"#2a3f5f\"}},\"annotationdefaults\":{\"arrowcolor\":\"#2a3f5f\",\"arrowhead\":0,\"arrowwidth\":1},\"geo\":{\"bgcolor\":\"white\",\"landcolor\":\"#E5ECF6\",\"subunitcolor\":\"white\",\"showland\":true,\"showlakes\":true,\"lakecolor\":\"white\"},\"title\":{\"x\":0.05},\"mapbox\":{\"style\":\"light\"}}},\"xaxis\":{\"anchor\":\"y\",\"domain\":[0.0,1.0],\"title\":{\"text\":\"Layer\"}},\"yaxis\":{\"anchor\":\"x\",\"domain\":[0.0,1.0],\"title\":{\"text\":\"Contribution\"}},\"legend\":{\"tracegroupgap\":0},\"title\":{\"text\":\"Per component contribution to correct logit dirs\"}},                        {\"responsive\": true}                    ).then(function(){\n",
              "                            \n",
              "var gd = document.getElementById('11e729f2-2bc5-4e6d-a535-a30b0709ceb7');\n",
              "var x = new MutationObserver(function (mutations, observer) {{\n",
              "        var display = window.getComputedStyle(gd).display;\n",
              "        if (!display || display === 'none') {{\n",
              "            console.log([gd, 'removed!']);\n",
              "            Plotly.purge(gd);\n",
              "            observer.disconnect();\n",
              "        }}\n",
              "}});\n",
              "\n",
              "// Listen for the removal of the full notebook cells\n",
              "var notebookContainer = gd.closest('#notebook-container');\n",
              "if (notebookContainer) {{\n",
              "    x.observe(notebookContainer, {childList: true});\n",
              "}}\n",
              "\n",
              "// Listen for the clearing of the current output cell\n",
              "var outputEl = gd.closest('.output');\n",
              "if (outputEl) {{\n",
              "    x.observe(outputEl, {childList: true});\n",
              "}}\n",
              "\n",
              "                        })                };                            </script>        </div>\n",
              "</body>\n",
              "</html>"
            ]
          },
          "metadata": {}
        }
      ]
    },
    {
      "cell_type": "markdown",
      "source": [
        "We see the output of attn head 1.0 stands out. (Note that since we are using shortformer positional embeddings, the \"pos_embed\" term doesn't actually mean anything)\n",
        "\n",
        "\n",
        "Since this is an attn-only model with the correct answers in the context, a natural hypothesis is that the last head attends to the correct answer and copies. We can start by staring at the attn patterns for head 1.0:"
      ],
      "metadata": {
        "id": "G22OS-AACm1k"
      }
    },
    {
      "cell_type": "markdown",
      "source": [
        "## Stare at 1.0 patterns"
      ],
      "metadata": {
        "id": "nxOnMp3aCt_J"
      }
    },
    {
      "cell_type": "code",
      "source": [
        "layer_1_patterns = cache['pattern', 1]\n",
        "print(layer_1_patterns.shape)"
      ],
      "metadata": {
        "colab": {
          "base_uri": "https://localhost:8080/"
        },
        "id": "TTj30aysCjK5",
        "outputId": "cfeb035a-67f1-461a-9716-ce68fb925f36"
      },
      "execution_count": 265,
      "outputs": [
        {
          "output_type": "stream",
          "name": "stdout",
          "text": [
            "torch.Size([256, 1, 11, 11])\n"
          ]
        }
      ]
    },
    {
      "cell_type": "markdown",
      "source": [
        "First we will look at the average pattern over the entire test sample."
      ],
      "metadata": {
        "id": "786GBL0NCzQZ"
      }
    },
    {
      "cell_type": "code",
      "source": [
        "def tokens_to_labels(tokens):\n",
        "    if tokens.ndim==2:\n",
        "        tokens = tokens[0]\n",
        "    res = [f\"{tok}_{i}\" for i, tok in enumerate(tokens)]\n",
        "    res[0] = \"BOS\"\n",
        "    res[LIST_LEN+1] = \"nl_0\"\n",
        "    res[-LIST_LEN-1] = \"nl_1\"\n",
        "    return res\n",
        "\n",
        "labels = tokens_to_labels(test_sample[1])\n",
        "print(labels)"
      ],
      "metadata": {
        "colab": {
          "base_uri": "https://localhost:8080/"
        },
        "id": "fk92IjJpDAxW",
        "outputId": "59b9d7ef-6cf6-42b7-b654-3696dce306a1"
      },
      "execution_count": 266,
      "outputs": [
        {
          "output_type": "stream",
          "name": "stdout",
          "text": [
            "['BOS', '14_1', '23_2', '48_3', 'nl_0', '1_5', '26_6', 'nl_1', '14_8', '26_9', '48_10']\n"
          ]
        }
      ]
    },
    {
      "cell_type": "code",
      "source": [
        "imshow(\n",
        "    layer_1_patterns[:, 0, :, :].mean(dim=0),\n",
        "    title=\"Attn 1.0 patterns (avged over batch)\",\n",
        "    xaxis=\"src\", yaxis=\"dest\",\n",
        "    x=labels, y=labels\n",
        ")"
      ],
      "metadata": {
        "colab": {
          "base_uri": "https://localhost:8080/",
          "height": 542
        },
        "id": "f00-qRC_Cybi",
        "outputId": "75607145-7f24-456a-e7cc-5fbe005b8b42"
      },
      "execution_count": 267,
      "outputs": [
        {
          "output_type": "display_data",
          "data": {
            "text/html": [
              "<html>\n",
              "<head><meta charset=\"utf-8\" /></head>\n",
              "<body>\n",
              "    <div>            <script src=\"https://cdnjs.cloudflare.com/ajax/libs/mathjax/2.7.5/MathJax.js?config=TeX-AMS-MML_SVG\"></script><script type=\"text/javascript\">if (window.MathJax && window.MathJax.Hub && window.MathJax.Hub.Config) {window.MathJax.Hub.Config({SVG: {font: \"STIX-Web\"}});}</script>                <script type=\"text/javascript\">window.PlotlyConfig = {MathJaxConfig: 'local'};</script>\n",
              "        <script src=\"https://cdn.plot.ly/plotly-2.18.2.min.js\"></script>                <div id=\"2295fa26-3944-4004-9986-1bf27fbf636b\" class=\"plotly-graph-div\" style=\"height:525px; width:100%;\"></div>            <script type=\"text/javascript\">                                    window.PLOTLYENV=window.PLOTLYENV || {};                                    if (document.getElementById(\"2295fa26-3944-4004-9986-1bf27fbf636b\")) {                    Plotly.newPlot(                        \"2295fa26-3944-4004-9986-1bf27fbf636b\",                        [{\"coloraxis\":\"coloraxis\",\"name\":\"0\",\"x\":[\"BOS\",\"14_1\",\"23_2\",\"48_3\",\"nl_0\",\"1_5\",\"26_6\",\"nl_1\",\"14_8\",\"26_9\",\"48_10\"],\"y\":[\"BOS\",\"14_1\",\"23_2\",\"48_3\",\"nl_0\",\"1_5\",\"26_6\",\"nl_1\",\"14_8\",\"26_9\",\"48_10\"],\"z\":[[1.0,0.0,0.0,0.0,0.0,0.0,0.0,0.0,0.0,0.0,0.0],[0.761711061000824,0.23828893899917603,0.0,0.0,0.0,0.0,0.0,0.0,0.0,0.0,0.0],[0.5632574558258057,0.1714196503162384,0.26532289385795593,0.0,0.0,0.0,0.0,0.0,0.0,0.0,0.0],[0.3098883628845215,0.14487072825431824,0.14718399941921234,0.39805692434310913,0.0,0.0,0.0,0.0,0.0,0.0,0.0],[0.007865546271204948,0.8272490501403809,0.11709760129451752,0.03949486464262009,0.008292950689792633,0.0,0.0,0.0,0.0,0.0,0.0],[0.06058642268180847,0.2124096155166626,0.2666381597518921,0.3337031602859497,0.02395341545343399,0.10270924121141434,0.0,0.0,0.0,0.0,0.0],[0.163114994764328,0.21672306954860687,0.07323654741048813,0.17279992997646332,0.17246641218662262,0.16874566674232483,0.03291338309645653,0.0,0.0,0.0,0.0],[2.684361970750615e-05,0.9945094585418701,0.0027873218059539795,0.0007581579848192632,6.499254959635437e-05,0.0016758269630372524,5.15816718689166e-05,0.00012577227607835084,0.0,0.0,0.0],[2.858864263544092e-06,1.7635751646594144e-05,0.007681816816329956,2.65096368821105e-05,9.898452617562725e-07,8.548719961254392e-06,0.9922393560409546,7.719006021034147e-07,2.1551024474320002e-05,0.0,0.0],[0.0009693028405308723,0.0013879577163606882,0.0011748457327485085,0.992531955242157,1.218779379996704e-05,0.001328131416812539,0.0016543075907975435,3.635910979937762e-05,0.00015348423039540648,0.0007514705648645759,0.0],[0.0913892313838005,0.05501123517751694,0.10657526552677155,0.13619396090507507,0.06097903102636337,0.07539038360118866,0.19741973280906677,0.061911143362522125,0.06128960847854614,0.06861396133899689,0.08522643148899078]],\"type\":\"heatmap\",\"xaxis\":\"x\",\"yaxis\":\"y\",\"hovertemplate\":\"src: %{x}<br>dest: %{y}<br>color: %{z}<extra></extra>\"}],                        {\"template\":{\"data\":{\"histogram2dcontour\":[{\"type\":\"histogram2dcontour\",\"colorbar\":{\"outlinewidth\":0,\"ticks\":\"\"},\"colorscale\":[[0.0,\"#0d0887\"],[0.1111111111111111,\"#46039f\"],[0.2222222222222222,\"#7201a8\"],[0.3333333333333333,\"#9c179e\"],[0.4444444444444444,\"#bd3786\"],[0.5555555555555556,\"#d8576b\"],[0.6666666666666666,\"#ed7953\"],[0.7777777777777778,\"#fb9f3a\"],[0.8888888888888888,\"#fdca26\"],[1.0,\"#f0f921\"]]}],\"choropleth\":[{\"type\":\"choropleth\",\"colorbar\":{\"outlinewidth\":0,\"ticks\":\"\"}}],\"histogram2d\":[{\"type\":\"histogram2d\",\"colorbar\":{\"outlinewidth\":0,\"ticks\":\"\"},\"colorscale\":[[0.0,\"#0d0887\"],[0.1111111111111111,\"#46039f\"],[0.2222222222222222,\"#7201a8\"],[0.3333333333333333,\"#9c179e\"],[0.4444444444444444,\"#bd3786\"],[0.5555555555555556,\"#d8576b\"],[0.6666666666666666,\"#ed7953\"],[0.7777777777777778,\"#fb9f3a\"],[0.8888888888888888,\"#fdca26\"],[1.0,\"#f0f921\"]]}],\"heatmap\":[{\"type\":\"heatmap\",\"colorbar\":{\"outlinewidth\":0,\"ticks\":\"\"},\"colorscale\":[[0.0,\"#0d0887\"],[0.1111111111111111,\"#46039f\"],[0.2222222222222222,\"#7201a8\"],[0.3333333333333333,\"#9c179e\"],[0.4444444444444444,\"#bd3786\"],[0.5555555555555556,\"#d8576b\"],[0.6666666666666666,\"#ed7953\"],[0.7777777777777778,\"#fb9f3a\"],[0.8888888888888888,\"#fdca26\"],[1.0,\"#f0f921\"]]}],\"heatmapgl\":[{\"type\":\"heatmapgl\",\"colorbar\":{\"outlinewidth\":0,\"ticks\":\"\"},\"colorscale\":[[0.0,\"#0d0887\"],[0.1111111111111111,\"#46039f\"],[0.2222222222222222,\"#7201a8\"],[0.3333333333333333,\"#9c179e\"],[0.4444444444444444,\"#bd3786\"],[0.5555555555555556,\"#d8576b\"],[0.6666666666666666,\"#ed7953\"],[0.7777777777777778,\"#fb9f3a\"],[0.8888888888888888,\"#fdca26\"],[1.0,\"#f0f921\"]]}],\"contourcarpet\":[{\"type\":\"contourcarpet\",\"colorbar\":{\"outlinewidth\":0,\"ticks\":\"\"}}],\"contour\":[{\"type\":\"contour\",\"colorbar\":{\"outlinewidth\":0,\"ticks\":\"\"},\"colorscale\":[[0.0,\"#0d0887\"],[0.1111111111111111,\"#46039f\"],[0.2222222222222222,\"#7201a8\"],[0.3333333333333333,\"#9c179e\"],[0.4444444444444444,\"#bd3786\"],[0.5555555555555556,\"#d8576b\"],[0.6666666666666666,\"#ed7953\"],[0.7777777777777778,\"#fb9f3a\"],[0.8888888888888888,\"#fdca26\"],[1.0,\"#f0f921\"]]}],\"surface\":[{\"type\":\"surface\",\"colorbar\":{\"outlinewidth\":0,\"ticks\":\"\"},\"colorscale\":[[0.0,\"#0d0887\"],[0.1111111111111111,\"#46039f\"],[0.2222222222222222,\"#7201a8\"],[0.3333333333333333,\"#9c179e\"],[0.4444444444444444,\"#bd3786\"],[0.5555555555555556,\"#d8576b\"],[0.6666666666666666,\"#ed7953\"],[0.7777777777777778,\"#fb9f3a\"],[0.8888888888888888,\"#fdca26\"],[1.0,\"#f0f921\"]]}],\"mesh3d\":[{\"type\":\"mesh3d\",\"colorbar\":{\"outlinewidth\":0,\"ticks\":\"\"}}],\"scatter\":[{\"fillpattern\":{\"fillmode\":\"overlay\",\"size\":10,\"solidity\":0.2},\"type\":\"scatter\"}],\"parcoords\":[{\"type\":\"parcoords\",\"line\":{\"colorbar\":{\"outlinewidth\":0,\"ticks\":\"\"}}}],\"scatterpolargl\":[{\"type\":\"scatterpolargl\",\"marker\":{\"colorbar\":{\"outlinewidth\":0,\"ticks\":\"\"}}}],\"bar\":[{\"error_x\":{\"color\":\"#2a3f5f\"},\"error_y\":{\"color\":\"#2a3f5f\"},\"marker\":{\"line\":{\"color\":\"#E5ECF6\",\"width\":0.5},\"pattern\":{\"fillmode\":\"overlay\",\"size\":10,\"solidity\":0.2}},\"type\":\"bar\"}],\"scattergeo\":[{\"type\":\"scattergeo\",\"marker\":{\"colorbar\":{\"outlinewidth\":0,\"ticks\":\"\"}}}],\"scatterpolar\":[{\"type\":\"scatterpolar\",\"marker\":{\"colorbar\":{\"outlinewidth\":0,\"ticks\":\"\"}}}],\"histogram\":[{\"marker\":{\"pattern\":{\"fillmode\":\"overlay\",\"size\":10,\"solidity\":0.2}},\"type\":\"histogram\"}],\"scattergl\":[{\"type\":\"scattergl\",\"marker\":{\"colorbar\":{\"outlinewidth\":0,\"ticks\":\"\"}}}],\"scatter3d\":[{\"type\":\"scatter3d\",\"line\":{\"colorbar\":{\"outlinewidth\":0,\"ticks\":\"\"}},\"marker\":{\"colorbar\":{\"outlinewidth\":0,\"ticks\":\"\"}}}],\"scattermapbox\":[{\"type\":\"scattermapbox\",\"marker\":{\"colorbar\":{\"outlinewidth\":0,\"ticks\":\"\"}}}],\"scatterternary\":[{\"type\":\"scatterternary\",\"marker\":{\"colorbar\":{\"outlinewidth\":0,\"ticks\":\"\"}}}],\"scattercarpet\":[{\"type\":\"scattercarpet\",\"marker\":{\"colorbar\":{\"outlinewidth\":0,\"ticks\":\"\"}}}],\"carpet\":[{\"aaxis\":{\"endlinecolor\":\"#2a3f5f\",\"gridcolor\":\"white\",\"linecolor\":\"white\",\"minorgridcolor\":\"white\",\"startlinecolor\":\"#2a3f5f\"},\"baxis\":{\"endlinecolor\":\"#2a3f5f\",\"gridcolor\":\"white\",\"linecolor\":\"white\",\"minorgridcolor\":\"white\",\"startlinecolor\":\"#2a3f5f\"},\"type\":\"carpet\"}],\"table\":[{\"cells\":{\"fill\":{\"color\":\"#EBF0F8\"},\"line\":{\"color\":\"white\"}},\"header\":{\"fill\":{\"color\":\"#C8D4E3\"},\"line\":{\"color\":\"white\"}},\"type\":\"table\"}],\"barpolar\":[{\"marker\":{\"line\":{\"color\":\"#E5ECF6\",\"width\":0.5},\"pattern\":{\"fillmode\":\"overlay\",\"size\":10,\"solidity\":0.2}},\"type\":\"barpolar\"}],\"pie\":[{\"automargin\":true,\"type\":\"pie\"}]},\"layout\":{\"autotypenumbers\":\"strict\",\"colorway\":[\"#636efa\",\"#EF553B\",\"#00cc96\",\"#ab63fa\",\"#FFA15A\",\"#19d3f3\",\"#FF6692\",\"#B6E880\",\"#FF97FF\",\"#FECB52\"],\"font\":{\"color\":\"#2a3f5f\"},\"hovermode\":\"closest\",\"hoverlabel\":{\"align\":\"left\"},\"paper_bgcolor\":\"white\",\"plot_bgcolor\":\"#E5ECF6\",\"polar\":{\"bgcolor\":\"#E5ECF6\",\"angularaxis\":{\"gridcolor\":\"white\",\"linecolor\":\"white\",\"ticks\":\"\"},\"radialaxis\":{\"gridcolor\":\"white\",\"linecolor\":\"white\",\"ticks\":\"\"}},\"ternary\":{\"bgcolor\":\"#E5ECF6\",\"aaxis\":{\"gridcolor\":\"white\",\"linecolor\":\"white\",\"ticks\":\"\"},\"baxis\":{\"gridcolor\":\"white\",\"linecolor\":\"white\",\"ticks\":\"\"},\"caxis\":{\"gridcolor\":\"white\",\"linecolor\":\"white\",\"ticks\":\"\"}},\"coloraxis\":{\"colorbar\":{\"outlinewidth\":0,\"ticks\":\"\"}},\"colorscale\":{\"sequential\":[[0.0,\"#0d0887\"],[0.1111111111111111,\"#46039f\"],[0.2222222222222222,\"#7201a8\"],[0.3333333333333333,\"#9c179e\"],[0.4444444444444444,\"#bd3786\"],[0.5555555555555556,\"#d8576b\"],[0.6666666666666666,\"#ed7953\"],[0.7777777777777778,\"#fb9f3a\"],[0.8888888888888888,\"#fdca26\"],[1.0,\"#f0f921\"]],\"sequentialminus\":[[0.0,\"#0d0887\"],[0.1111111111111111,\"#46039f\"],[0.2222222222222222,\"#7201a8\"],[0.3333333333333333,\"#9c179e\"],[0.4444444444444444,\"#bd3786\"],[0.5555555555555556,\"#d8576b\"],[0.6666666666666666,\"#ed7953\"],[0.7777777777777778,\"#fb9f3a\"],[0.8888888888888888,\"#fdca26\"],[1.0,\"#f0f921\"]],\"diverging\":[[0,\"#8e0152\"],[0.1,\"#c51b7d\"],[0.2,\"#de77ae\"],[0.3,\"#f1b6da\"],[0.4,\"#fde0ef\"],[0.5,\"#f7f7f7\"],[0.6,\"#e6f5d0\"],[0.7,\"#b8e186\"],[0.8,\"#7fbc41\"],[0.9,\"#4d9221\"],[1,\"#276419\"]]},\"xaxis\":{\"gridcolor\":\"white\",\"linecolor\":\"white\",\"ticks\":\"\",\"title\":{\"standoff\":15},\"zerolinecolor\":\"white\",\"automargin\":true,\"zerolinewidth\":2},\"yaxis\":{\"gridcolor\":\"white\",\"linecolor\":\"white\",\"ticks\":\"\",\"title\":{\"standoff\":15},\"zerolinecolor\":\"white\",\"automargin\":true,\"zerolinewidth\":2},\"scene\":{\"xaxis\":{\"backgroundcolor\":\"#E5ECF6\",\"gridcolor\":\"white\",\"linecolor\":\"white\",\"showbackground\":true,\"ticks\":\"\",\"zerolinecolor\":\"white\",\"gridwidth\":2},\"yaxis\":{\"backgroundcolor\":\"#E5ECF6\",\"gridcolor\":\"white\",\"linecolor\":\"white\",\"showbackground\":true,\"ticks\":\"\",\"zerolinecolor\":\"white\",\"gridwidth\":2},\"zaxis\":{\"backgroundcolor\":\"#E5ECF6\",\"gridcolor\":\"white\",\"linecolor\":\"white\",\"showbackground\":true,\"ticks\":\"\",\"zerolinecolor\":\"white\",\"gridwidth\":2}},\"shapedefaults\":{\"line\":{\"color\":\"#2a3f5f\"}},\"annotationdefaults\":{\"arrowcolor\":\"#2a3f5f\",\"arrowhead\":0,\"arrowwidth\":1},\"geo\":{\"bgcolor\":\"white\",\"landcolor\":\"#E5ECF6\",\"subunitcolor\":\"white\",\"showland\":true,\"showlakes\":true,\"lakecolor\":\"white\"},\"title\":{\"x\":0.05},\"mapbox\":{\"style\":\"light\"}}},\"xaxis\":{\"anchor\":\"y\",\"domain\":[0.0,1.0],\"scaleanchor\":\"y\",\"constrain\":\"domain\",\"title\":{\"text\":\"src\"}},\"yaxis\":{\"anchor\":\"x\",\"domain\":[0.0,1.0],\"autorange\":\"reversed\",\"constrain\":\"domain\",\"title\":{\"text\":\"dest\"}},\"coloraxis\":{\"colorscale\":[[0.0,\"rgb(103,0,31)\"],[0.1,\"rgb(178,24,43)\"],[0.2,\"rgb(214,96,77)\"],[0.3,\"rgb(244,165,130)\"],[0.4,\"rgb(253,219,199)\"],[0.5,\"rgb(247,247,247)\"],[0.6,\"rgb(209,229,240)\"],[0.7,\"rgb(146,197,222)\"],[0.8,\"rgb(67,147,195)\"],[0.9,\"rgb(33,102,172)\"],[1.0,\"rgb(5,48,97)\"]],\"cmid\":0.0},\"title\":{\"text\":\"Attn 1.0 patterns (avged over batch)\"}},                        {\"responsive\": true}                    ).then(function(){\n",
              "                            \n",
              "var gd = document.getElementById('2295fa26-3944-4004-9986-1bf27fbf636b');\n",
              "var x = new MutationObserver(function (mutations, observer) {{\n",
              "        var display = window.getComputedStyle(gd).display;\n",
              "        if (!display || display === 'none') {{\n",
              "            console.log([gd, 'removed!']);\n",
              "            Plotly.purge(gd);\n",
              "            observer.disconnect();\n",
              "        }}\n",
              "}});\n",
              "\n",
              "// Listen for the removal of the full notebook cells\n",
              "var notebookContainer = gd.closest('#notebook-container');\n",
              "if (notebookContainer) {{\n",
              "    x.observe(notebookContainer, {childList: true});\n",
              "}}\n",
              "\n",
              "// Listen for the clearing of the current output cell\n",
              "var outputEl = gd.closest('.output');\n",
              "if (outputEl) {{\n",
              "    x.observe(outputEl, {childList: true});\n",
              "}}\n",
              "\n",
              "                        })                };                            </script>        </div>\n",
              "</body>\n",
              "</html>"
            ]
          },
          "metadata": {}
        }
      ]
    },
    {
      "cell_type": "markdown",
      "source": [
        "Recall that all of the examples in the test sample have the same (idx, elt) pair. We see that attn 1.0 is clearly attending fully to the correct next token at the prediction positions. A natural hypothesis is that it is copying the answers. We should be able to check this by looking at the full OV circuit."
      ],
      "metadata": {
        "id": "-4PENYOMEMyi"
      }
    },
    {
      "cell_type": "markdown",
      "source": [
        "## 1.0 full OV circuit"
      ],
      "metadata": {
        "id": "UG6QibmFEhgG"
      }
    },
    {
      "cell_type": "code",
      "source": [
        "W_E = model.W_E\n",
        "print(W_E.shape)\n",
        "\n",
        "W_U = model.W_U\n",
        "print(W_U.shape)"
      ],
      "metadata": {
        "colab": {
          "base_uri": "https://localhost:8080/"
        },
        "id": "bzgRjouPEkDs",
        "outputId": "00cd3e69-bf06-43df-ab8e-852a6283f1cc"
      },
      "execution_count": 268,
      "outputs": [
        {
          "output_type": "stream",
          "name": "stdout",
          "text": [
            "torch.Size([52, 128])\n",
            "torch.Size([128, 50])\n"
          ]
        }
      ]
    },
    {
      "cell_type": "code",
      "source": [
        "imshow(\n",
        "    W_E @ model.OV[1,0].AB @ W_U,\n",
        "    title=f\"1.0 Full OV circuit W_E @ W_OV^1.0 @ W_U\",\n",
        "    xaxis=\"logit\", yaxis=\"src token\"\n",
        ")"
      ],
      "metadata": {
        "colab": {
          "base_uri": "https://localhost:8080/",
          "height": 542
        },
        "id": "7eeTcThyD6_K",
        "outputId": "1d8fc714-57c1-4abb-e428-f8f80c0cdbba"
      },
      "execution_count": 269,
      "outputs": [
        {
          "output_type": "display_data",
          "data": {
            "text/html": [
              "<html>\n",
              "<head><meta charset=\"utf-8\" /></head>\n",
              "<body>\n",
              "    <div>            <script src=\"https://cdnjs.cloudflare.com/ajax/libs/mathjax/2.7.5/MathJax.js?config=TeX-AMS-MML_SVG\"></script><script type=\"text/javascript\">if (window.MathJax && window.MathJax.Hub && window.MathJax.Hub.Config) {window.MathJax.Hub.Config({SVG: {font: \"STIX-Web\"}});}</script>                <script type=\"text/javascript\">window.PlotlyConfig = {MathJaxConfig: 'local'};</script>\n",
              "        <script src=\"https://cdn.plot.ly/plotly-2.18.2.min.js\"></script>                <div id=\"28a0551b-5fd2-427e-af7e-9c5a0a95cda7\" class=\"plotly-graph-div\" style=\"height:525px; width:100%;\"></div>            <script type=\"text/javascript\">                                    window.PLOTLYENV=window.PLOTLYENV || {};                                    if (document.getElementById(\"28a0551b-5fd2-427e-af7e-9c5a0a95cda7\")) {                    Plotly.newPlot(                        \"28a0551b-5fd2-427e-af7e-9c5a0a95cda7\",                        [{\"coloraxis\":\"coloraxis\",\"name\":\"0\",\"z\":[[11.327207565307617,-0.9755545854568481,-3.675020217895508,2.1967837810516357,2.3783693313598633,0.4922616481781006,0.5094218254089355,1.7472789287567139,-6.6852240562438965,3.218458414077759,-0.930246114730835,1.4131962060928345,0.4507021903991699,2.363664388656616,-1.684059500694275,-1.8197550773620605,-0.37166503071784973,1.1112866401672363,3.125955581665039,2.5012121200561523,-1.7998923063278198,-5.362316608428955,-0.8239932060241699,1.025829792022705,0.4678494334220886,-2.4166979789733887,-2.427955150604248,-0.4184103012084961,-3.0807783603668213,1.3166327476501465,0.7380614280700684,0.08922001719474792,-0.17442108690738678,-3.4551801681518555,-1.5250214338302612,-1.4359279870986938,-0.9229641556739807,-1.580421805381775,-1.38167405128479,1.9217259883880615,-0.5373439788818359,2.5839781761169434,1.889526605606079,1.7689218521118164,-0.8413283228874207,-4.3395538330078125,-0.09227770566940308,2.350909948348999,2.462653160095215,2.1716578006744385],[0.39157694578170776,11.488370895385742,-2.146358013153076,0.6273688077926636,-2.0515553951263428,1.1870779991149902,-1.7159273624420166,0.16690289974212646,-1.4135557413101196,0.899466335773468,0.47196683287620544,-0.7934600114822388,-1.7474881410598755,-2.7575204372406006,1.6978166103363037,-1.791766881942749,0.5872265100479126,0.3414391875267029,1.2056100368499756,-1.920167088508606,-2.142240524291992,1.2088267803192139,-0.43191975355148315,0.055308520793914795,-3.575639247894287,-0.010388612747192383,-3.2077150344848633,1.1863527297973633,-0.2075139582157135,-1.2475875616073608,-0.10584589838981628,-0.747751772403717,0.5273395776748657,-0.08354157209396362,-0.8639215230941772,2.2215576171875,-3.7982735633850098,-1.1686660051345825,1.510068416595459,0.26869648694992065,0.5421151518821716,1.742911696434021,0.6113185286521912,-3.2028825283050537,-1.295380711555481,1.4412741661071777,-0.4234892427921295,1.081839919090271,-3.765805959701538,1.2117650508880615],[-3.2640137672424316,-0.5187211036682129,12.272375106811523,-1.1610859632492065,-1.668602466583252,1.7441859245300293,-1.1159772872924805,-3.5114967823028564,1.9975860118865967,-3.573091983795166,2.4864277839660645,2.178727149963379,1.4486610889434814,0.15274816751480103,0.11485594511032104,0.5400517582893372,1.4738401174545288,1.9576570987701416,0.4365236759185791,2.4717793464660645,1.8803706169128418,0.29590028524398804,1.67879319190979,-1.5549883842468262,-0.0283125638961792,-2.088622570037842,1.8229796886444092,0.9471670389175415,-0.8391809463500977,1.8166089057922363,-0.16789841651916504,0.8653355836868286,-0.7135123610496521,-0.36446213722229004,0.8120139837265015,-2.144230604171753,2.77731990814209,1.3662638664245605,-0.4240487217903137,-4.391635417938232,1.4583368301391602,0.7405726313591003,-0.7307578325271606,-2.398070812225342,2.182110548019409,-0.0665312260389328,-1.9689754247665405,-2.0672714710235596,0.6372082829475403,-0.16064032912254333],[0.8208713531494141,-0.9006474018096924,-2.216679573059082,7.516210079193115,-2.713322162628174,-1.0552105903625488,-1.0930507183074951,-4.024668216705322,-2.051039457321167,2.0530812740325928,-4.002242088317871,-1.26231050491333,0.24378034472465515,0.5642970204353333,0.3133822977542877,-2.0397074222564697,0.5974529385566711,-0.1073465347290039,0.05714911222457886,-0.722905695438385,-2.122227668762207,0.30541837215423584,-2.030904531478882,-4.229689598083496,-1.920593500137329,0.7989628314971924,-5.064323425292969,1.6847527027130127,1.0390002727508545,-1.3610947132110596,0.26370954513549805,-0.537161111831665,1.129288673400879,-3.790510892868042,2.9191763401031494,-0.18982890248298645,-0.5523775815963745,0.16182826459407806,0.5524744987487793,0.6927977204322815,-2.6345386505126953,0.1049095094203949,-0.7285823225975037,1.615689754486084,-0.7299230098724365,0.26967036724090576,-0.6771219372749329,-0.7518216371536255,-1.3552370071411133,-0.45001041889190674],[0.6162049770355225,-2.1368250846862793,-1.2421048879623413,-0.8214120864868164,8.52822494506836,-2.15251088142395,-0.5870290398597717,1.1869487762451172,2.614865779876709,-0.12508618831634521,0.691045880317688,0.12107372283935547,0.17585580050945282,1.6175748109817505,2.368764877319336,2.308995485305786,-1.4498296976089478,1.0388224124908447,-2.430424213409424,1.6870312690734863,1.7939069271087646,-3.4739227294921875,1.6456729173660278,2.648829698562622,3.0712175369262695,-0.020604848861694336,0.6163251399993896,-3.837028980255127,2.7615389823913574,-2.82540225982666,0.8718301057815552,2.0473999977111816,0.8835546374320984,1.4028091430664062,-0.495755672454834,0.9055067300796509,-2.138174533843994,-4.618151664733887,-0.7647327184677124,-0.40357163548469543,0.4395362436771393,-1.1156654357910156,-1.1465938091278076,2.1166763305664062,-1.413083553314209,0.5385792851448059,1.097330927848816,-0.4807649254798889,2.274923801422119,1.8251268863677979],[-0.4590763747692108,0.18758070468902588,1.4864907264709473,-1.254683494567871,-2.8828125,6.644449710845947,-1.2381049394607544,1.6896066665649414,-1.9661273956298828,-0.957646906375885,-1.1992113590240479,-1.4961305856704712,1.285558819770813,-0.2967219948768616,-2.1884257793426514,-2.023726463317871,0.8793103098869324,0.7508336901664734,0.9594863653182983,-0.04894523322582245,-4.619543552398682,-1.5529303550720215,1.9401482343673706,-1.0737130641937256,-2.502187967300415,-0.352929949760437,1.6166850328445435,2.1388559341430664,1.396533727645874,-2.750875949859619,-1.4947161674499512,-1.6812899112701416,-1.1558256149291992,1.2783777713775635,-4.500123023986816,-1.5845434665679932,1.0946922302246094,1.4172602891921997,0.16193582117557526,1.1375126838684082,-1.1263304948806763,-0.7395749092102051,1.1593894958496094,2.4703052043914795,0.07662546634674072,1.4286339282989502,-2.9014530181884766,0.10051876306533813,-1.1184160709381104,-3.5837559700012207],[0.3778117895126343,-1.880820631980896,-2.215559244155884,0.42151251435279846,-1.0885660648345947,-0.42925527691841125,8.628803253173828,-1.079638957977295,-0.3779789209365845,2.710181713104248,-0.2048267126083374,1.5237979888916016,0.9151893854141235,-1.3038901090621948,0.1100592315196991,-3.1662111282348633,-1.1567425727844238,-0.9968029260635376,0.549949049949646,0.3743169903755188,-1.5375738143920898,3.359492301940918,1.8939754962921143,1.646214246749878,1.5199472904205322,-0.17173561453819275,1.8399312496185303,2.80743145942688,0.128716379404068,1.3025151491165161,0.6728959083557129,-2.1335270404815674,1.7756850719451904,1.4021035432815552,-0.30630791187286377,-0.6493712663650513,-0.9003945589065552,1.9436712265014648,-3.3898768424987793,2.0666675567626953,-2.257277488708496,-4.82274055480957,1.1237752437591553,-1.869286060333252,-0.8881559371948242,-0.937374472618103,1.2233972549438477,1.19997239112854,-1.8006489276885986,-1.6323292255401611],[-0.5809467434883118,-1.0239520072937012,-1.7658395767211914,-2.427551746368408,1.1684303283691406,2.357226610183716,0.2249281406402588,8.736665725708008,0.8238513469696045,-1.0223631858825684,2.176736831665039,-1.7902705669403076,0.2069796472787857,1.3443973064422607,-3.312993288040161,0.4700721502304077,0.40542811155319214,0.766128420829773,-1.2021756172180176,-1.303148627281189,-0.20958706736564636,0.46682748198509216,1.872185230255127,0.9115163087844849,1.2219665050506592,1.167526364326477,4.152173042297363,-0.06964828073978424,0.8193186521530151,-0.9586811065673828,-1.48312509059906,-0.7484542727470398,-4.225553512573242,1.0106889009475708,-4.091977119445801,2.423414707183838,3.036931037902832,0.7098634243011475,1.9073960781097412,1.3667479753494263,1.6461586952209473,-0.18407362699508667,3.426346778869629,1.1758983135223389,2.4931600093841553,-0.9550529718399048,1.6035040616989136,0.6995183229446411,0.9959573745727539,-0.7794551849365234],[-4.4415178298950195,-0.014401867985725403,0.8492724895477295,-1.2130229473114014,1.4710348844528198,-1.0429654121398926,2.034180164337158,-0.09501427412033081,8.978891372680664,-0.8843973278999329,1.102101445198059,-2.7537169456481934,-0.17327439785003662,-0.26565587520599365,1.6982369422912598,-0.3093678057193756,-0.14334549009799957,2.080357074737549,-4.932699680328369,0.4660155773162842,2.7272017002105713,3.3736109733581543,1.5496432781219482,0.35662105679512024,0.43784061074256897,3.1390583515167236,2.0618927478790283,1.9193111658096313,3.4457433223724365,-0.47359421849250793,0.286485493183136,2.7396841049194336,0.9956749677658081,1.0659356117248535,3.028728485107422,3.3319664001464844,1.1574629545211792,-0.5562103390693665,0.14940759539604187,-0.15171873569488525,1.4350531101226807,-2.6940455436706543,-2.3476760387420654,-1.958174467086792,0.6305601000785828,0.5197076797485352,1.4931793212890625,-0.5629569292068481,-2.4554295539855957,2.3059985637664795],[1.7990120649337769,-1.7305006980895996,-3.9594905376434326,2.244697332382202,-1.4550304412841797,-1.2649157047271729,2.614105701446533,-1.9220139980316162,-3.1402595043182373,8.884001731872559,0.5722091197967529,1.2925660610198975,0.9444136619567871,-3.06440806388855,0.28212782740592957,1.181888461112976,-0.31383591890335083,-0.7200345396995544,2.6310691833496094,-2.860793113708496,-4.572960376739502,1.8871667385101318,-2.512700319290161,0.5691357851028442,2.53157114982605,-3.4620440006256104,-2.6948165893554688,-2.462491989135742,-0.5099840760231018,-1.3881944417953491,-0.18450748920440674,-0.15987014770507812,-0.0732317566871643,1.7159018516540527,0.1424747109413147,-1.9696404933929443,-3.848627805709839,2.8680036067962646,0.4647056460380554,2.0654690265655518,-3.108855724334717,-2.248382329940796,0.5838584899902344,1.265636920928955,-3.650796413421631,-1.6411432027816772,2.035081386566162,1.090916395187378,-1.5737674236297607,-1.4623383283615112],[-2.4349498748779297,1.5337454080581665,4.594303607940674,-3.764514923095703,0.6103143692016602,0.4643670916557312,-0.1728307157754898,1.1721383333206177,2.747199535369873,-0.3112562596797943,8.633213996887207,2.08072566986084,2.5531110763549805,-1.5235087871551514,-1.6015877723693848,2.403164863586426,0.901874303817749,2.7736194133758545,-0.8315523862838745,-1.7355270385742188,2.125007152557373,3.100170612335205,1.081488847732544,2.1865394115448,2.6503238677978516,-3.22450590133667,3.093334197998047,-2.637908935546875,0.45557382702827454,-0.07826611399650574,0.13193637132644653,0.8265489935874939,-2.1611626148223877,0.9060301780700684,-1.9515128135681152,1.9795624017715454,2.685016632080078,-0.15608903765678406,-0.2920892536640167,-4.036923885345459,1.7164803743362427,0.318105548620224,0.5724111199378967,-3.3674774169921875,-0.8734971880912781,-0.30366551876068115,2.0195565223693848,1.9032005071640015,0.036148570477962494,1.5737695693969727],[-0.19677472114562988,-1.3169288635253906,0.8592510223388672,-0.3692764341831207,-0.12737296521663666,-2.355113983154297,-0.30092960596084595,-2.9301185607910156,-3.947099208831787,0.7175255417823792,0.3687111735343933,6.1501874923706055,0.4034808278083801,-2.2626430988311768,0.769649863243103,1.6336562633514404,-1.9595047235488892,-1.9653894901275635,2.316667318344116,-0.7902276515960693,1.4900171756744385,-0.7247182726860046,-0.2692769765853882,0.7093464136123657,1.5210771560668945,-3.519016742706299,-2.199601173400879,-2.7753710746765137,-3.375314712524414,0.5239886045455933,1.8979235887527466,-2.7524828910827637,0.5809688568115234,1.662045955657959,0.6477894186973572,-4.387128829956055,-2.382453441619873,2.178844451904297,-0.9815815687179565,-3.1329801082611084,-0.3381497263908386,1.8004515171051025,-0.2746419906616211,-0.1604539155960083,0.7000867128372192,1.0644031763076782,0.22996054589748383,-1.525098204612732,1.5624043941497803,-2.48336124420166],[-2.580319881439209,-4.076688289642334,1.3464211225509644,-1.3311727046966553,0.3766392469406128,0.10792970657348633,-1.3283814191818237,-1.25359308719635,0.4533107280731201,-0.15630605816841125,1.6065325736999512,0.8806910514831543,6.40558385848999,0.7904521822929382,-1.1434996128082275,2.0333237648010254,-2.005716323852539,-1.3236494064331055,-3.264509677886963,-1.4216681718826294,-0.010121598839759827,1.897326111793518,0.3777165412902832,-0.9510537385940552,1.8860571384429932,-0.7634857892990112,-1.1385897397994995,-1.176072597503662,1.5049080848693848,-3.35622501373291,0.8557378053665161,-3.038529396057129,-1.5091571807861328,0.3871138393878937,0.0034939050674438477,-0.7967145442962646,1.6591929197311401,0.16810615360736847,0.045690909028053284,-2.487469434738159,-1.8346678018569946,-1.1486715078353882,-2.603602409362793,-0.21625079214572906,-0.17553910613059998,2.320573329925537,-1.3518692255020142,-0.03365768492221832,0.9531353712081909,-2.364387035369873],[1.3739173412322998,-4.282998085021973,-0.06638707220554352,0.13603484630584717,1.5350669622421265,-0.3873654305934906,-2.2627344131469727,1.4503791332244873,-1.1256523132324219,-2.0339484214782715,-1.4365876913070679,-0.9619864225387573,0.7192250490188599,7.6125359535217285,-0.24335551261901855,1.3111393451690674,-2.0634374618530273,-4.170205593109131,-3.7540502548217773,0.28399214148521423,0.7841399908065796,-2.1604018211364746,0.9712178111076355,1.3988401889801025,-2.293978214263916,2.7893521785736084,1.2215015888214111,-0.2793523967266083,-1.3934727907180786,2.077559232711792,-1.950690746307373,0.6548755168914795,-0.7906515598297119,-3.439171075820923,0.76358962059021,-0.04642975330352783,1.4752579927444458,-0.6965106725692749,-2.7724742889404297,0.11285680532455444,0.8280571103096008,2.9689478874206543,-1.6780601739883423,2.409766435623169,2.4576575756073,1.9862323999404907,-0.2841959595680237,-0.5225317478179932,0.9491738080978394,0.5706335306167603],[-0.165260910987854,0.7659278512001038,-1.3897662162780762,1.2348400354385376,1.5210267305374146,-2.3968725204467773,1.0824415683746338,-3.673882246017456,0.5214046835899353,1.3061268329620361,-3.9503238201141357,0.11585575342178345,-2.4884138107299805,0.48726534843444824,6.620977878570557,-0.11317506432533264,-1.4160661697387695,-2.8566055297851562,-1.581829309463501,0.7202327251434326,-0.7453608512878418,-1.5241364240646362,0.7795248031616211,1.1657383441925049,-1.4429837465286255,1.1238116025924683,-2.251356840133667,-0.397004097700119,0.8964412212371826,-1.088397741317749,-0.8975409865379333,1.6364495754241943,2.9329543113708496,1.2680398225784302,1.6798527240753174,-2.5430715084075928,-5.347978115081787,-0.678809404373169,-1.9624264240264893,1.7040431499481201,0.10843443870544434,-0.6245832443237305,-1.5873768329620361,1.0206713676452637,1.037429928779602,2.068934202194214,0.5191367864608765,-2.260894775390625,-1.5876688957214355,-1.0383474826812744],[-3.075676918029785,-2.647378921508789,0.7052786350250244,-2.727602005004883,0.7975869178771973,-2.136526107788086,-2.5740458965301514,-1.1933953762054443,0.9915578961372375,0.43566736578941345,0.5981540083885193,0.11674173176288605,-0.11307351291179657,-0.7413365840911865,1.6310606002807617,6.618300914764404,0.7285619378089905,-2.5498526096343994,-0.04021930694580078,-2.8594048023223877,-0.052105724811553955,0.6415612697601318,-2.5796117782592773,1.0377284288406372,2.6893606185913086,-1.104609727859497,1.0991085767745972,-6.142977237701416,0.44928932189941406,-0.801132082939148,-1.7256306409835815,1.482419490814209,-2.102189779281616,2.1844115257263184,0.35328853130340576,-3.642120599746704,-0.7223084568977356,-0.33835718035697937,0.8991788029670715,0.07223950326442719,0.8665950298309326,-0.7215266227722168,-2.2925333976745605,0.9613490104675293,0.3863696753978729,1.3406176567077637,0.6769669055938721,0.7282052636146545,2.79697322845459,-2.1295909881591797],[0.3412967324256897,3.078737735748291,1.049169659614563,2.23817777633667,-3.1630358695983887,2.015005588531494,-0.9201867580413818,-0.4180581867694855,0.5987640023231506,0.6588119268417358,-0.09678268432617188,-2.6552000045776367,-1.856069564819336,-1.7880723476409912,-0.35331031680107117,-0.3226621150970459,8.753992080688477,2.5721473693847656,2.255089521408081,0.7671148777008057,-2.623993396759033,0.9249469041824341,-2.052079200744629,-1.9927802085876465,0.702749490737915,1.848433017730713,1.7570383548736572,-0.1918845921754837,2.0711865425109863,1.746724009513855,-3.67771577835083,2.4864377975463867,-2.1455233097076416,-2.745048761367798,-0.08778643608093262,0.6191768646240234,2.627102851867676,-1.6000056266784668,2.8227901458740234,1.6089155673980713,-1.4196996688842773,-1.2029237747192383,3.056380271911621,-1.308657169342041,0.07444235682487488,-1.1945358514785767,-2.7574429512023926,1.7562804222106934,1.2601147890090942,1.614616870880127],[1.4373068809509277,1.845247507095337,0.7796143293380737,1.6873555183410645,0.9671115875244141,1.4052839279174805,0.08498150110244751,0.48505502939224243,1.1494500637054443,0.1326124668121338,1.852805256843567,-0.07377050817012787,0.37819281220436096,-2.5724267959594727,-1.6568901538848877,-3.0505306720733643,1.1882333755493164,7.130715370178223,1.2080223560333252,1.507967233657837,0.5763956308364868,-0.819416880607605,1.5765827894210815,-1.923844814300537,0.6986162662506104,-2.2132771015167236,-1.2848639488220215,1.6063542366027832,1.4251742362976074,-2.952334403991699,3.0789341926574707,0.42131564021110535,0.2844321131706238,-0.35191914439201355,-1.0452430248260498,2.68544340133667,1.173651099205017,-1.3815488815307617,1.766431450843811,-1.2984254360198975,0.9279743432998657,-0.7159397006034851,1.0426666736602783,0.1335926055908203,-1.7274794578552246,-3.1297688484191895,0.48029887676239014,-0.5431182384490967,0.060033589601516724,2.2988295555114746],[2.4055824279785156,1.2475486993789673,-0.15333908796310425,0.958804726600647,-3.724827766418457,1.3901853561401367,-0.15572868287563324,-1.3326148986816406,-5.752621650695801,0.31633347272872925,-2.6418914794921875,0.38930678367614746,-1.6103111505508423,-3.1850333213806152,-1.3640378713607788,-1.0048470497131348,2.021528720855713,-0.1243097186088562,7.888223648071289,-0.5804958343505859,-3.7579455375671387,-1.6645474433898926,-3.373603582382202,-1.5958385467529297,-0.7134563326835632,-2.2751336097717285,-2.240762233734131,-0.4203038513660431,-3.051598072052002,1.054291844367981,1.0932868719100952,-2.4574573040008545,-0.6652647852897644,0.7723309397697449,-1.2922368049621582,-3.276792049407959,-1.3068482875823975,0.6459850668907166,1.8020321130752563,2.2029147148132324,-0.7218619585037231,-0.4934314489364624,0.7486730813980103,1.2610509395599365,-2.383882522583008,-2.4563984870910645,-2.60219144821167,2.186885356903076,2.9372105598449707,-1.0658284425735474],[2.9002084732055664,-2.4489283561706543,1.9335792064666748,1.3989061117172241,3.7871510982513428,0.2901534140110016,2.482532501220703,-1.0298945903778076,0.4702608585357666,-0.88141930103302,-1.920332670211792,1.3018834590911865,-0.11360687017440796,1.4783350229263306,1.1649409532546997,-2.5104761123657227,0.06449291110038757,1.7855579853057861,-0.35145413875579834,7.696725845336914,1.5681496858596802,-4.496126174926758,2.2492969036102295,-0.24441683292388916,3.348029613494873,0.02015729248523712,1.9013270139694214,2.341681957244873,1.5211249589920044,0.9115934371948242,-0.026634931564331055,1.4333869218826294,2.2893738746643066,-1.1036416292190552,0.7169336080551147,-0.9234257936477661,-1.044173002243042,-1.3093547821044922,-2.027427911758423,0.44253501296043396,-3.0669689178466797,-0.8909623026847839,2.354741096496582,-0.17513148486614227,1.7710821628570557,-1.3632444143295288,-1.3588037490844727,-3.659625768661499,0.9705620408058167,0.11847978830337524],[-1.9069894552230835,-0.9184575080871582,0.5670350790023804,-0.8457350730895996,2.306509494781494,-5.134161949157715,-1.3776167631149292,-1.15120267868042,2.9791488647460938,-3.5487709045410156,0.3248869478702545,1.4929883480072021,-1.0850231647491455,0.2280362993478775,0.9218320250511169,1.4105998277664185,-2.4438772201538086,-0.20965927839279175,-2.6523046493530273,0.9419530630111694,8.030762672424316,0.7261512279510498,-0.8764395117759705,-0.8934744596481323,0.1070413589477539,1.3164445161819458,-1.5657669305801392,-0.02882908284664154,-2.107093334197998,2.0547943115234375,2.12971568107605,0.7688016295433044,2.6846566200256348,-0.6153231859207153,4.295077323913574,2.10795259475708,1.6683738231658936,0.0713624656200409,1.1311261653900146,-4.015529155731201,2.0973076820373535,2.5130555629730225,-1.707919955253601,-1.7996782064437866,1.8452563285827637,-0.1111413836479187,2.122007131576538,-3.0133633613586426,0.1770651936531067,1.730553388595581],[-5.518904685974121,0.13737881183624268,-1.1064521074295044,-1.5074901580810547,-5.744180202484131,-1.8576147556304932,3.2235612869262695,-1.2282005548477173,1.7956093549728394,1.533721685409546,1.8808138370513916,-0.6356270909309387,2.4069669246673584,-2.2444748878479004,-1.287123680114746,0.7438924312591553,-1.0458958148956299,-2.873013734817505,-1.1548919677734375,-6.148643493652344,-0.5238378047943115,9.702259063720703,-1.9066736698150635,0.11700161546468735,-1.2252318859100342,1.2867977619171143,-0.6219723224639893,0.9063107967376709,-1.4663500785827637,1.3102984428405762,0.9576804637908936,-3.568113327026367,-1.0159156322479248,1.3102531433105469,2.170490026473999,0.847750186920166,1.984987497329712,3.1933233737945557,1.098315954208374,-0.6445826888084412,0.5854039192199707,-3.250714063644409,-2.794400930404663,-3.6734468936920166,-1.256822109222412,1.0268312692642212,0.8442155122756958,2.6823134422302246,-1.8102226257324219,-0.7447177767753601],[-0.7166954278945923,-1.2496238946914673,0.24828478693962097,-0.6362569332122803,2.5071845054626465,1.4848859310150146,1.3573306798934937,2.283782958984375,-0.3257666826248169,-1.2988282442092896,0.195468008518219,2.0116195678710938,0.5912295579910278,2.129911184310913,-0.36154791712760925,-1.9277416467666626,-1.737861156463623,0.796570360660553,-2.50175142288208,0.534640908241272,0.4030221700668335,-1.5185484886169434,7.114367961883545,1.7025624513626099,-0.6551693677902222,0.056542977690696716,2.534292221069336,0.9127991199493408,1.165390968322754,-2.1103174686431885,1.1828348636627197,-1.4907782077789307,-0.6068378686904907,1.3457223176956177,-3.1649281978607178,-0.4213166832923889,0.09875485301017761,-0.5310144424438477,-3.291661262512207,-1.1410804986953735,2.1924378871917725,-0.468500018119812,0.5700868368148804,1.9356298446655273,1.9498759508132935,2.10575532913208,0.7650156021118164,-2.543884754180908,-0.396294504404068,-1.2404663562774658],[-0.5479236841201782,-0.5219227075576782,-0.6964890956878662,-3.373094320297241,2.5290122032165527,-0.16858522593975067,1.3686490058898926,1.6832726001739502,1.2192628383636475,0.16019870340824127,1.8900821208953857,0.8764615058898926,-0.4003891348838806,1.4349393844604492,1.1300803422927856,1.8811004161834717,-0.9843235015869141,-1.7089213132858276,-1.432512879371643,-1.2349026203155518,-0.20112472772598267,0.29663848876953125,1.9869153499603271,5.7869873046875,0.9135445356369019,0.8964235186576843,3.7520387172698975,-2.4148526191711426,-0.15444554388523102,1.3575321435928345,-0.31940552592277527,0.5663970112800598,-1.3658313751220703,1.978759527206421,-1.0190136432647705,-1.8074097633361816,-1.473824381828308,-1.2426575422286987,-2.5181357860565186,0.4437096118927002,2.350050926208496,-0.9727100133895874,-1.6362247467041016,-0.15438631176948547,-0.06872548162937164,1.2733567953109741,0.15658093988895416,2.0954365730285645,1.7455753087997437,1.1479411125183105],[-0.5091372132301331,-3.6992111206054688,1.316689133644104,0.39551517367362976,2.7057301998138428,-1.6248435974121094,2.849764823913574,-0.9474895000457764,1.8342019319534302,2.1368651390075684,1.8391854763031006,2.291119337081909,1.3628246784210205,-1.5539153814315796,0.5015493035316467,2.133578062057495,1.6827598810195923,1.5052742958068848,0.7320411801338196,3.169670343399048,1.0400559902191162,-0.16977301239967346,-0.21716970205307007,0.7697784900665283,9.13412094116211,-1.7233917713165283,3.009071111679077,-1.8391159772872925,2.111481189727783,0.3730773329734802,-0.40901148319244385,0.5487689971923828,-1.5728048086166382,1.7100741863250732,1.0690054893493652,-2.2246592044830322,-1.2297345399856567,0.007326364517211914,-0.04681578278541565,0.8313800692558289,-3.506849527359009,-2.535019874572754,2.118234634399414,-2.0263214111328125,0.573402464389801,-1.2116868495941162,-0.1269657015800476,-1.3737460374832153,2.9433846473693848,-1.1599441766738892],[-2.1454381942749023,-1.2958422899246216,-3.0149848461151123,1.0119564533233643,-0.21232295036315918,-0.9489136934280396,0.38867491483688354,0.9006686806678772,2.6724371910095215,-1.755211353302002,-4.590614318847656,-3.7271969318389893,-1.2968294620513916,2.9663138389587402,1.6989703178405762,-0.4057287871837616,0.5934230089187622,-3.1672167778015137,-3.707090139389038,-0.13680283725261688,0.1884526014328003,1.0640676021575928,-0.016184717416763306,0.023163050413131714,-1.7470388412475586,7.490646839141846,1.0245927572250366,2.501783609390259,1.1893720626831055,1.2872929573059082,-2.102196455001831,-0.786665141582489,-0.5624569058418274,-0.6497798562049866,2.3046188354492188,0.17257189750671387,0.7135905027389526,-0.857962965965271,1.5482807159423828,2.7090883255004883,-0.2129317969083786,-1.4774034023284912,-1.584747314453125,0.6517109274864197,2.4237451553344727,2.1640682220458984,-2.419058084487915,-1.1222443580627441,0.6791731119155884,0.23673444986343384],[-2.4909918308258057,-1.9076794385910034,2.425123691558838,-3.092818260192871,0.4926082491874695,2.397129535675049,3.3954505920410156,2.610024929046631,3.005866527557373,-1.6317310333251953,1.6767281293869019,-0.5936379432678223,-1.2818527221679688,1.0670968294143677,-1.1964863538742065,1.1043713092803955,3.1585183143615723,0.38221532106399536,-0.661249577999115,1.793020248413086,-0.27215737104415894,0.6195114850997925,3.191204309463501,2.9903564453125,3.4315185546875,2.0386643409729004,9.854815483093262,0.00026676058769226074,2.9033093452453613,2.843660831451416,-3.604857921600342,1.7082698345184326,-2.3025362491607666,1.7350492477416992,-2.9512314796447754,-1.3375935554504395,2.4928603172302246,-0.20847755670547485,-2.4308102130889893,1.9138178825378418,0.13231879472732544,-3.2791011333465576,2.3504037857055664,-0.795495331287384,2.2255992889404297,0.7860772609710693,-0.8087400197982788,0.5211604237556458,1.3791351318359375,-1.1927576065063477],[0.13589996099472046,-0.0021926164627075195,-1.6062233448028564,1.742354154586792,-3.2223095893859863,1.3764076232910156,3.369192361831665,-0.5248150825500488,-0.8074885606765747,-1.4204363822937012,-4.086147785186768,-1.0234193801879883,0.5243589878082275,0.5125980973243713,-0.9450052976608276,-5.786075592041016,-3.147493362426758,-0.6990429162979126,-0.8277257084846497,1.5151325464248657,-0.26482099294662476,1.130743384361267,1.6889610290527344,-2.3250203132629395,-3.595447063446045,2.549765110015869,-1.592580795288086,7.853255271911621,-0.9132547974586487,0.2854534685611725,1.774381160736084,-3.7507851123809814,2.787313461303711,-0.2628014087677002,1.045218586921692,1.2995134592056274,0.18753403425216675,2.387463331222534,-0.7817202806472778,1.4284186363220215,-1.8587944507598877,-0.9784976243972778,0.04530492424964905,-0.19284316897392273,0.6136983036994934,0.1759096086025238,-1.3774092197418213,-2.291743040084839,-3.1606810092926025,-1.4370310306549072],[-3.0115838050842285,-1.536643624305725,-1.2130236625671387,0.3154592216014862,0.8058011531829834,0.9631578326225281,-0.42219048738479614,-0.776397705078125,1.7069993019104004,-0.29782506823539734,-0.8430217504501343,-1.3133912086486816,0.7894980311393738,-0.5406598448753357,0.387506902217865,0.028658241033554077,0.4628755450248718,0.40915584564208984,-2.089698553085327,-0.06330162286758423,-1.3574209213256836,-0.20690831542015076,1.84492826461792,-1.2495250701904297,0.8700870871543884,0.2744405269622803,1.4029133319854736,-0.5802570581436157,5.943602561950684,-4.1552886962890625,-0.6241265535354614,0.43811285495758057,0.5529879927635193,1.394895076751709,-2.046168804168701,0.38623231649398804,0.36957433819770813,-1.785056710243225,-1.4882235527038574,0.8782549500465393,-1.6115025281906128,-2.580784320831299,0.5114812850952148,1.8889031410217285,-0.7682069540023804,2.755825996398926,-0.08077311515808105,-1.0141874551773071,-0.8371797800064087,-2.803043842315674],[1.108472228050232,1.1318793296813965,0.7820842266082764,-0.030747413635253906,-3.6570234298706055,-0.7446093559265137,1.481325387954712,-0.5670830011367798,-1.0750253200531006,-0.8628567457199097,-1.6622593402862549,0.25158536434173584,-2.395125389099121,1.3868931531906128,-0.25940340757369995,-0.34091120958328247,1.8211102485656738,-3.702824592590332,1.5052231550216675,0.677208662033081,0.8382737636566162,1.7355587482452393,-2.4843032360076904,1.6476798057556152,-1.6885061264038086,3.454684257507324,1.8946672677993774,1.8594970703125,-4.5274176597595215,8.60679817199707,-2.2336301803588867,0.1631564497947693,-0.14366072416305542,-2.0551319122314453,3.088862180709839,-2.0181217193603516,0.9500160217285156,2.3718528747558594,-0.5105100274085999,0.6326054334640503,0.13714484870433807,1.5906411409378052,-0.021596282720565796,-3.1949987411499023,2.4396114349365234,-0.38760530948638916,-2.1059176921844482,1.5185024738311768,0.264174222946167,1.6880830526351929],[-1.1149797439575195,-2.0919418334960938,-2.05721116065979,0.5278567671775818,1.0066256523132324,-2.502060890197754,-1.4658865928649902,-2.275129795074463,-0.8688108325004578,-0.7426753640174866,-1.1037359237670898,1.266721487045288,2.740116834640503,-1.346001386642456,-0.8234260082244873,-1.4511706829071045,-5.847206115722656,0.8800827264785767,0.09267354011535645,-2.2929351329803467,1.1934754848480225,0.08817785978317261,0.4286212921142578,-1.6666226387023926,-2.007620096206665,-2.542433023452759,-6.888614177703857,-0.10056604444980621,-1.4640394449234009,-4.965132713317871,7.858950614929199,-4.247517108917236,1.8699678182601929,1.6413748264312744,1.6422948837280273,0.7817854285240173,-1.593539834022522,-0.9335717558860779,0.23532909154891968,-2.408632278442383,1.706350326538086,-0.2278955578804016,-5.077785015106201,2.480100154876709,-3.8252508640289307,-0.013600170612335205,0.7939996719360352,-0.8184260129928589,1.0534155368804932,0.7479264736175537],[2.0076985359191895,0.7355408668518066,-0.32765793800354004,0.98626708984375,0.8533307313919067,-0.24162369966506958,-0.5784205198287964,-1.86064875125885,1.374805212020874,2.0874667167663574,-0.795600414276123,-1.6464622020721436,-3.0229804515838623,0.4679144024848938,2.2752935886383057,0.43700212240219116,0.7319656014442444,1.0051392316818237,-0.5961470603942871,1.3841739892959595,-0.049456894397735596,-1.9560925960540771,-0.598600447177887,-0.02287137508392334,-1.4034397602081299,-1.1834111213684082,0.19479231536388397,-1.1184520721435547,1.8445357084274292,0.39994922280311584,-2.25217342376709,7.02791166305542,3.1750779151916504,-1.070659875869751,0.3881855010986328,0.8807382583618164,-1.1901979446411133,-0.06448400020599365,-2.3320093154907227,0.9339399337768555,1.007285237312317,0.9933711290359497,0.29037803411483765,1.2594201564788818,-0.5313881635665894,-0.8807975053787231,3.1269760131835938,-0.06769528985023499,-3.685558557510376,0.7962377071380615],[1.168107032775879,-1.222381830215454,-2.8777859210968018,0.7010733485221863,0.24243317544460297,-0.9035279750823975,-0.06551381945610046,-3.3383898735046387,-2.7038283348083496,0.23206961154937744,-3.4113383293151855,-0.229507714509964,-1.0332343578338623,-0.6054682731628418,0.7717487812042236,-1.252219796180725,-4.2267632484436035,-2.071718692779541,0.915538489818573,-0.02308228611946106,-0.0779041051864624,-2.0380067825317383,-1.4058122634887695,-1.8870172500610352,-4.10438871383667,-1.7604360580444336,-3.853748321533203,0.7291450500488281,-0.2548350393772125,-1.647424578666687,1.2798635959625244,0.48823365569114685,7.088608741760254,0.9273223876953125,-0.19349917769432068,0.7626328468322754,-1.9407668113708496,0.7281381487846375,-2.586397886276245,-0.1399577260017395,-1.914466381072998,0.5106892585754395,-0.9082514047622681,3.3291573524475098,-3.690141201019287,1.3143560886383057,1.6989154815673828,-0.9477119445800781,-4.277224540710449,-2.4225213527679443],[-4.080733776092529,-2.46138334274292,-1.9804128408432007,-2.6523027420043945,-0.33398255705833435,-0.7400124073028564,1.737152099609375,-0.5742131471633911,-0.20545074343681335,1.1577881574630737,-2.0832679271698,1.166465401649475,-0.4427279829978943,-3.2443928718566895,1.633845567703247,1.3629109859466553,-3.1840758323669434,-2.577911138534546,1.6511121988296509,-3.110171318054199,-1.8162888288497925,0.7337719798088074,0.6714368462562561,1.1936290264129639,1.1353968381881714,-1.3339924812316895,-0.4429495632648468,-1.675257682800293,-0.016245275735855103,-2.8094253540039062,2.2017416954040527,-3.145270586013794,0.2188880741596222,7.681486129760742,-1.55942702293396,-3.8368053436279297,-4.136347770690918,2.2022392749786377,-0.4427352845668793,2.0894970893859863,0.26416540145874023,-3.0362110137939453,-2.0380725860595703,2.462449073791504,-1.447662353515625,2.2077219486236572,0.47951385378837585,-0.6446278095245361,0.44422274827957153,-4.394077301025391],[-1.7333780527114868,-0.8189185261726379,-0.8433448076248169,2.2809906005859375,-0.8883882761001587,-4.614616394042969,-0.42802488803863525,-4.908008575439453,3.199082136154175,0.2452046126127243,-3.529075860977173,-0.5263714790344238,-0.4452627897262573,0.38233649730682373,3.126598596572876,0.4234734773635864,-2.1296679973602295,-2.0746116638183594,-2.3704705238342285,0.10434672236442566,2.6444661617279053,2.1518330574035645,-2.879523277282715,-1.2874774932861328,-0.9998295307159424,2.639192819595337,-4.712812423706055,1.5034791231155396,-1.6744282245635986,1.439850926399231,1.8568273782730103,0.36164969205856323,2.247404098510742,-1.6236066818237305,8.47860336303711,-0.3039272427558899,-2.1859984397888184,0.8038702011108398,0.850629985332489,-0.33810868859291077,-0.1376480758190155,0.6756616830825806,-4.703666687011719,-1.4377813339233398,0.4364025592803955,0.4480363130569458,-0.30198806524276733,-1.9041578769683838,-0.6940145492553711,1.80223548412323],[-1.4777323007583618,0.2890216112136841,-3.0904059410095215,0.14344018697738647,1.4164409637451172,-0.7178643941879272,-1.1346642971038818,2.822411060333252,2.4643540382385254,-1.2512835264205933,1.890599012374878,-2.880084753036499,0.7384541034698486,0.6963485479354858,-2.238947868347168,-1.319598913192749,-1.4915666580200195,1.851628065109253,-2.3355493545532227,-0.6638658046722412,2.2616758346557617,1.317765235900879,-0.2623983919620514,-2.065236806869507,-1.391221046447754,0.8201272487640381,-1.5159075260162354,1.8215917348861694,1.5977810621261597,-2.730881929397583,1.6854697465896606,0.22895416617393494,1.935356616973877,-1.1790590286254883,-0.08364200592041016,8.65202808380127,2.591622829437256,-1.2610013484954834,1.8796378374099731,-0.6248271465301514,-0.6747477054595947,0.5756791234016418,1.0119585990905762,1.043708086013794,-3.0208487510681152,-0.5687724351882935,2.713223457336426,-0.811089038848877,-2.3696656227111816,2.2956466674804688],[-2.392749309539795,-3.7075788974761963,1.7931022644042969,-1.5293421745300293,-3.2765820026397705,1.0863171815872192,-1.3972984552383423,2.868093490600586,1.5109753608703613,-3.699293375015259,2.268036365509033,-2.6236236095428467,3.1680941581726074,1.1043580770492554,-5.677186965942383,0.76442551612854,2.1924171447753906,0.5642586946487427,-1.852076530456543,-2.20428204536438,2.430973768234253,4.214852333068848,-1.549201250076294,-3.6937899589538574,-1.339081883430481,2.2068140506744385,1.833260178565979,1.0501772165298462,0.24939802289009094,0.9209539890289307,-0.9607921242713928,-1.4147555828094482,-2.416609287261963,-2.837183952331543,-0.8439502716064453,3.358639717102051,9.940027236938477,0.8721930980682373,3.0532031059265137,-2.463292121887207,0.9141508340835571,-0.3658016622066498,0.4113367199897766,-0.7219764590263367,1.2946735620498657,-1.133479356765747,-0.40304625034332275,1.7559218406677246,1.1490342617034912,-0.24180899560451508],[-2.250964879989624,-2.4034218788146973,-0.022898435592651367,-0.12468671798706055,-6.052280426025391,0.30643993616104126,1.7824444770812988,-1.1604540348052979,-2.875187873840332,1.6339850425720215,-2.3717334270477295,1.9707107543945312,-0.30654069781303406,-2.440783977508545,-1.4312286376953125,-0.6074435114860535,-3.2081422805786133,-3.00128173828125,2.046203136444092,-2.5052781105041504,-0.5451754927635193,2.885561466217041,-1.4211218357086182,-2.282409906387329,-2.2235493659973145,-1.6860593557357788,-1.7520331144332886,2.2063283920288086,-4.411759376525879,1.4657244682312012,0.121405690908432,-2.502626419067383,1.2255113124847412,2.0650153160095215,1.0473111867904663,-2.872901439666748,-0.3892671763896942,8.256065368652344,0.3923985958099365,-0.615652322769165,-0.6705209016799927,0.7705180048942566,0.05673971772193909,0.5249467492103577,1.8005529642105103,0.20638349652290344,1.7047324180603027,-1.8841264247894287,-3.9451186656951904,-5.130589485168457],[-2.15936541557312,0.9280771017074585,-1.3185962438583374,0.7518671751022339,-1.460389256477356,-0.37622830271720886,-2.5232462882995605,1.852765440940857,1.3822853565216064,-0.3049077093601227,-1.3649483919143677,-3.469707727432251,0.1733381152153015,-2.340489625930786,-0.39627987146377563,0.519031286239624,1.7347075939178467,0.8944287300109863,0.4103160500526428,-1.7331862449645996,-0.16963040828704834,2.035010576248169,-3.7793970108032227,-3.141322135925293,-0.31902211904525757,2.6973860263824463,-3.237642288208008,0.5604945421218872,-0.39907294511795044,-2.0779073238372803,0.1708407700061798,-1.969254970550537,-1.9880006313323975,0.06756395101547241,1.047776460647583,1.853661060333252,1.5958378314971924,0.04881489276885986,8.375595092773438,0.4182277321815491,-0.4121006429195404,-1.3376959562301636,-0.2814832329750061,0.07011571526527405,-0.15961819887161255,-1.9879462718963623,-1.7043547630310059,-0.4332864284515381,2.0721983909606934,0.7609216570854187],[0.7329404354095459,-1.6869449615478516,-5.16851282119751,0.7836053371429443,-2.8652431964874268,1.7106831073760986,3.2552146911621094,1.2614333629608154,-1.5495386123657227,1.7180818319320679,-5.603725433349609,-3.8792381286621094,-2.3672924041748047,0.7159040570259094,0.7702552080154419,-1.8055163621902466,0.29135626554489136,-3.155667781829834,1.6573830842971802,-1.1692492961883545,-5.837699890136719,-0.3579130470752716,-0.5818465948104858,0.17591911554336548,-1.5134451389312744,2.5948519706726074,1.3810158967971802,2.0640869140625,1.381222128868103,-0.429965615272522,-1.6973187923431396,-1.1194994449615479,-0.7885608077049255,1.9729057550430298,-1.5562742948532104,-2.0872344970703125,-2.3837480545043945,0.6049937605857849,-1.1371002197265625,8.0946626663208,-1.5658512115478516,-3.5367424488067627,0.3612869679927826,3.371436834335327,-0.5361308455467224,-0.017537429928779602,-1.0487626791000366,1.3822507858276367,0.035261720418930054,-2.7268693447113037],[0.4852430522441864,2.2910451889038086,-0.8664729595184326,-2.0158803462982178,-0.15403728187084198,-0.6908521056175232,-1.0486693382263184,1.637343406677246,-0.27255135774612427,-1.3954005241394043,-0.007398068904876709,-0.11301957815885544,-1.403815507888794,1.440842628479004,0.4645632207393646,-0.029612958431243896,-2.50856614112854,-0.3706682324409485,-0.8828149437904358,-3.533339023590088,0.9551695585250854,0.56669020652771,2.594489097595215,1.7084975242614746,-4.3875532150268555,-0.3170810043811798,-0.888512909412384,-1.269219160079956,-1.810032606124878,-0.4493359923362732,1.9842143058776855,0.5016999244689941,-1.1392796039581299,0.5611695647239685,-1.2776516675949097,-0.3260319232940674,0.20642268657684326,-0.5824743509292603,-1.6509270668029785,-0.7366695404052734,7.841729164123535,1.5408507585525513,-3.3651599884033203,0.6614024043083191,1.2084622383117676,-0.10412812232971191,2.544353485107422,1.8236865997314453,-0.19165219366550446,1.3365907669067383],[0.9480438232421875,2.067598342895508,0.03332233428955078,0.2338237166404724,-0.6215423345565796,-1.0112783908843994,-6.958068370819092,-0.09686809778213501,-3.390720844268799,-2.127077341079712,-1.1326782703399658,1.328639030456543,-1.836830496788025,1.673052191734314,0.3249970078468323,2.190606117248535,-2.4305930137634277,-2.4800634384155273,-0.1141449511051178,-1.3430002927780151,2.6730825901031494,-3.1736979484558105,-1.8905587196350098,-1.62599515914917,-3.55283784866333,-1.0776426792144775,-3.8844263553619385,-1.5736117362976074,-3.5274221897125244,0.360174298286438,-0.6334118247032166,0.7600808143615723,0.9345017671585083,-1.769156813621521,0.9640518426895142,-0.20111417770385742,-0.8558051586151123,1.710767388343811,0.5521583557128906,-2.8227744102478027,1.6607290506362915,8.031821250915527,-0.2688198685646057,1.486722707748413,2.202263593673706,2.310288429260254,1.292266607284546,-2.624748468399048,-1.8201922178268433,-0.9686751365661621],[0.44305580854415894,0.8910675048828125,-0.793547511100769,1.1266628503799438,-0.20312374830245972,1.2140607833862305,1.0394295454025269,2.780961513519287,-2.373051881790161,0.26068010926246643,1.0200045108795166,1.2660021781921387,-0.9869660139083862,-1.8478057384490967,-1.1866854429244995,-1.1467607021331787,2.538857936859131,1.0375878810882568,1.7044035196304321,1.9770855903625488,0.05826185643672943,-0.8886991143226624,0.48332279920578003,-1.6964608430862427,2.819479465484619,-0.9636778831481934,1.9763436317443848,0.9168014526367188,1.5468987226486206,-0.33262643218040466,-2.3603768348693848,-0.6122467517852783,-0.06959879398345947,0.13530580699443817,-3.1467671394348145,1.4623578786849976,0.9303475618362427,1.1614091396331787,1.1904571056365967,0.4680917263031006,-3.584449052810669,0.37631309032440186,7.26090145111084,-0.28872907161712646,1.3226479291915894,-0.3190018832683563,0.6690645813941956,-2.509491443634033,-0.7598365545272827,-2.8003592491149902],[-1.221710443496704,-6.182729244232178,-2.916726589202881,0.595802903175354,0.36530187726020813,0.2711286246776581,-1.4919826984405518,-0.07503777742385864,-1.7372572422027588,0.0465817004442215,-3.907470703125,-1.5466678142547607,-0.5056616067886353,0.9909237027168274,-0.4573371410369873,0.5187771916389465,-2.2357499599456787,-1.2509361505508423,0.03324782848358154,-2.0403099060058594,-2.3253955841064453,-2.5802557468414307,0.6388673186302185,-1.5410133600234985,-2.2207841873168945,-0.3198946416378021,-0.9576642513275146,-1.4655519723892212,1.509432315826416,-4.315982818603516,0.8916106224060059,-0.6700388789176941,0.6511667966842651,1.94602370262146,-2.0222792625427246,-1.6945433616638184,-0.21853071451187134,0.02780437469482422,-0.8789037466049194,1.832230806350708,0.37818387150764465,-1.4365333318710327,-1.615913987159729,7.534124374389648,-1.5653409957885742,1.1388344764709473,0.6901987195014954,-1.3416794538497925,0.8936735987663269,-3.1462326049804688],[-0.5689114332199097,-0.31769514083862305,1.5389782190322876,0.1709602177143097,-0.8122120499610901,-0.9239132404327393,0.7679897546768188,0.6938984394073486,0.9717205166816711,-1.999081015586853,-2.526794910430908,1.4714899063110352,-1.8887600898742676,1.18575119972229,2.179074287414551,-0.1607101559638977,0.07245185971260071,-1.3035917282104492,-1.968613862991333,1.8448926210403442,2.7231507301330566,-0.2776951193809509,1.5462744235992432,-0.3780882954597473,0.22196301817893982,2.388260841369629,1.4490430355072021,1.5839097499847412,-1.4935674667358398,2.4041266441345215,-1.7928591966629028,-0.11912836134433746,-1.4817969799041748,-0.6379179954528809,1.4427306652069092,-3.3995094299316406,0.2517961859703064,2.360152244567871,0.5180354118347168,-0.4030686616897583,1.761467456817627,1.4355192184448242,0.6558326482772827,-1.7575328350067139,7.6464433670043945,0.24322128295898438,-0.06580986082553864,-3.358485221862793,0.455314576625824,-1.8161587715148926],[-4.815334320068359,-1.0954232215881348,-1.0889379978179932,-0.5532145500183105,-0.7944201827049255,0.04236102104187012,-4.102195739746094,-2.302398204803467,-1.4202311038970947,-2.0433273315429688,-3.152263641357422,0.3724864721298218,0.007064908742904663,1.9071271419525146,1.6204051971435547,2.6495018005371094,-2.1824934482574463,-5.660599231719971,-2.722546339035034,-3.022897243499756,-1.0800572633743286,-0.8096390962600708,1.1936460733413696,-0.5584995746612549,-2.999804735183716,1.3945022821426392,-0.433662474155426,-2.057478189468384,1.7551332712173462,-2.3594560623168945,-1.898745059967041,-1.5705714225769043,1.317734956741333,1.5977364778518677,-0.6767482757568359,-2.618717670440674,-1.8834991455078125,0.42018499970436096,-3.2044594287872314,-0.8649201989173889,-1.139877200126648,1.9061819314956665,-2.1222901344299316,3.1643760204315186,0.9045894145965576,8.21878433227539,-0.9611226320266724,-2.2438435554504395,-2.442171812057495,-5.20966100692749],[-0.994977593421936,-1.3353632688522339,-3.1874351501464844,-0.39114874601364136,1.0863302946090698,-3.0637009143829346,0.44196873903274536,1.0476303100585938,-0.8514858484268188,1.488163709640503,2.136094570159912,1.3008034229278564,-0.3816292881965637,-0.7795431017875671,-0.8186801671981812,1.3739254474639893,-4.757997035980225,-0.49652183055877686,-0.44305944442749023,-3.5135927200317383,2.121060371398926,1.2904294729232788,0.3530411720275879,-0.36869382858276367,-0.6245110034942627,-3.820422887802124,-2.010535717010498,-2.3232412338256836,-0.7679439187049866,-2.580496311187744,2.1447224617004395,0.6375422477722168,1.7753465175628662,1.3259209394454956,-1.1637470722198486,2.5179529190063477,-0.5951105356216431,1.8605185747146606,-1.5058077573776245,-1.574375033378601,2.0000083446502686,1.072602391242981,-0.11960761249065399,1.6406899690628052,-1.2817487716674805,-0.4345023036003113,6.973628044128418,-0.6945366859436035,-3.136230945587158,-1.3870723247528076],[0.6093127727508545,1.609342098236084,-1.2227919101715088,-0.9172694683074951,-3.3192028999328613,1.7638511657714844,-0.28124508261680603,0.24395722150802612,-1.201136589050293,0.8999359011650085,0.30919885635375977,-2.249713897705078,0.7269940376281738,-0.6409434080123901,-0.9701958894729614,0.6787073612213135,1.8922585248947144,-1.217634916305542,1.9914312362670898,-4.10784387588501,-4.149832725524902,2.034637689590454,-2.4413645267486572,0.9555590152740479,-2.055041551589966,0.02588699758052826,-0.14945510029792786,-1.590472936630249,-0.02183869481086731,0.24162405729293823,-0.7364126443862915,-0.5104893445968628,-2.6988415718078613,-0.07479239255189896,-1.6894066333770752,-1.2093204259872437,0.8295258283615112,-0.7456356883049011,0.1892656683921814,2.1939687728881836,1.8003592491149902,-1.532779574394226,-2.2840311527252197,-0.267865926027298,-2.0394058227539062,-0.4722268581390381,-1.2016733884811401,6.84626579284668,1.2356457710266113,0.48525628447532654],[-0.3705507516860962,-1.9040143489837646,1.3719210624694824,-0.1304348111152649,1.344848871231079,-1.3599538803100586,-1.7952888011932373,-0.038832008838653564,1.0136134624481201,-2.4496335983276367,-1.159498691558838,-0.8517666459083557,-0.7108330726623535,1.0443930625915527,1.3107423782348633,2.2433416843414307,3.6323957443237305,-0.10819131135940552,0.9629062414169312,0.17181703448295593,-0.14137068390846252,-1.2187886238098145,-1.4253228902816772,1.2855799198150635,2.0848746299743652,2.2803285121917725,1.0415295362472534,-3.2513926029205322,-0.0357401967048645,1.0541603565216064,0.2288590669631958,-0.33902621269226074,-3.986616611480713,-0.5161104798316956,0.9571508169174194,-3.1855978965759277,0.7623318433761597,-3.913789749145508,2.3717710971832275,1.0525267124176025,2.103043556213379,-1.5085779428482056,-2.2408714294433594,0.49510735273361206,1.1665608882904053,-1.1025383472442627,-3.363553047180176,1.9074978828430176,7.917915344238281,2.4044318199157715],[2.3994641304016113,3.2661032676696777,-0.004129350185394287,0.4708586037158966,2.082109212875366,-2.1226725578308105,-0.7763993740081787,0.4803548753261566,3.7104456424713135,0.04831776022911072,2.427966594696045,-2.677297830581665,-0.4900534451007843,2.5471272468566895,0.9976323843002319,-0.7669670581817627,1.0728271007537842,1.9634698629379272,-1.9084346294403076,0.29888415336608887,1.5169639587402344,1.1283496618270874,-1.022688627243042,2.454972267150879,-2.0038464069366455,2.437100887298584,-1.4280037879943848,0.04868152737617493,-1.116509199142456,2.433763027191162,1.623538851737976,2.764127731323242,-0.5441889762878418,-3.759432554244995,3.4133195877075195,4.493660926818848,0.643666684627533,-4.367138862609863,1.0316357612609863,-0.4386756718158722,3.4137706756591797,0.7700058221817017,-3.0572829246520996,-2.178183078765869,-2.041701078414917,-2.7872095108032227,0.07352405786514282,2.811195135116577,1.5072875022888184,8.97447395324707],[0.644173264503479,-0.7354121208190918,0.5318878889083862,0.13104736804962158,-0.2094554752111435,0.7782449722290039,-0.3414919376373291,-0.816027045249939,-0.7483115196228027,0.11806389689445496,-1.00407075881958,-0.18701814115047455,-0.11716940253973007,0.33520039916038513,0.391101598739624,-0.16176599264144897,0.5824829936027527,-0.47899961471557617,0.5455305576324463,0.8763163685798645,-1.0629712343215942,-1.27925705909729,-0.13779166340827942,-0.10377699136734009,-0.33655864000320435,0.07856859266757965,0.12756909430027008,-0.054730404168367386,0.2033972293138504,-0.05984874069690704,-0.5695982575416565,0.18214300274848938,0.2397029995918274,-0.07096697390079498,-0.4129860997200012,-0.8970708847045898,-0.2192823588848114,-0.23823563754558563,-0.09431764483451843,0.6582719087600708,-0.7679176330566406,-0.21165789663791656,0.10552379488945007,0.941501796245575,-0.29285624623298645,0.0853443443775177,-1.0825259685516357,-0.1717006415128708,0.6244791150093079,-0.29588621854782104],[1.7913954257965088,-1.219805359840393,-2.8252670764923096,1.7982358932495117,-0.4312976896762848,0.11692886799573898,-0.5317484140396118,-0.22651949524879456,-2.3226799964904785,0.8879091739654541,-2.6763834953308105,-0.7013494372367859,-0.3816935122013092,0.2875922918319702,-0.08726811408996582,-0.998093843460083,-1.0020641088485718,-1.0120699405670166,0.9262264966964722,0.35181593894958496,-1.2789664268493652,-1.7892853021621704,-1.1699681282043457,-1.384491205215454,-0.9270679950714111,0.19950318336486816,-2.1573104858398438,0.8488401174545288,-0.22019270062446594,-0.9999154806137085,0.1439489871263504,-0.5781528353691101,1.223088026046753,-0.4112758934497833,0.12105758488178253,-0.0989001989364624,-1.1037425994873047,0.5154210329055786,0.3778865337371826,1.625477910041809,-1.7695419788360596,0.5025454163551331,0.59513258934021,2.2209925651550293,-0.8863844275474548,-0.1363426148891449,-0.24989274144172668,-0.7219229340553284,-0.36593183875083923,-1.0435560941696167]],\"type\":\"heatmap\",\"xaxis\":\"x\",\"yaxis\":\"y\",\"hovertemplate\":\"logit: %{x}<br>src token: %{y}<br>color: %{z}<extra></extra>\"}],                        {\"template\":{\"data\":{\"histogram2dcontour\":[{\"type\":\"histogram2dcontour\",\"colorbar\":{\"outlinewidth\":0,\"ticks\":\"\"},\"colorscale\":[[0.0,\"#0d0887\"],[0.1111111111111111,\"#46039f\"],[0.2222222222222222,\"#7201a8\"],[0.3333333333333333,\"#9c179e\"],[0.4444444444444444,\"#bd3786\"],[0.5555555555555556,\"#d8576b\"],[0.6666666666666666,\"#ed7953\"],[0.7777777777777778,\"#fb9f3a\"],[0.8888888888888888,\"#fdca26\"],[1.0,\"#f0f921\"]]}],\"choropleth\":[{\"type\":\"choropleth\",\"colorbar\":{\"outlinewidth\":0,\"ticks\":\"\"}}],\"histogram2d\":[{\"type\":\"histogram2d\",\"colorbar\":{\"outlinewidth\":0,\"ticks\":\"\"},\"colorscale\":[[0.0,\"#0d0887\"],[0.1111111111111111,\"#46039f\"],[0.2222222222222222,\"#7201a8\"],[0.3333333333333333,\"#9c179e\"],[0.4444444444444444,\"#bd3786\"],[0.5555555555555556,\"#d8576b\"],[0.6666666666666666,\"#ed7953\"],[0.7777777777777778,\"#fb9f3a\"],[0.8888888888888888,\"#fdca26\"],[1.0,\"#f0f921\"]]}],\"heatmap\":[{\"type\":\"heatmap\",\"colorbar\":{\"outlinewidth\":0,\"ticks\":\"\"},\"colorscale\":[[0.0,\"#0d0887\"],[0.1111111111111111,\"#46039f\"],[0.2222222222222222,\"#7201a8\"],[0.3333333333333333,\"#9c179e\"],[0.4444444444444444,\"#bd3786\"],[0.5555555555555556,\"#d8576b\"],[0.6666666666666666,\"#ed7953\"],[0.7777777777777778,\"#fb9f3a\"],[0.8888888888888888,\"#fdca26\"],[1.0,\"#f0f921\"]]}],\"heatmapgl\":[{\"type\":\"heatmapgl\",\"colorbar\":{\"outlinewidth\":0,\"ticks\":\"\"},\"colorscale\":[[0.0,\"#0d0887\"],[0.1111111111111111,\"#46039f\"],[0.2222222222222222,\"#7201a8\"],[0.3333333333333333,\"#9c179e\"],[0.4444444444444444,\"#bd3786\"],[0.5555555555555556,\"#d8576b\"],[0.6666666666666666,\"#ed7953\"],[0.7777777777777778,\"#fb9f3a\"],[0.8888888888888888,\"#fdca26\"],[1.0,\"#f0f921\"]]}],\"contourcarpet\":[{\"type\":\"contourcarpet\",\"colorbar\":{\"outlinewidth\":0,\"ticks\":\"\"}}],\"contour\":[{\"type\":\"contour\",\"colorbar\":{\"outlinewidth\":0,\"ticks\":\"\"},\"colorscale\":[[0.0,\"#0d0887\"],[0.1111111111111111,\"#46039f\"],[0.2222222222222222,\"#7201a8\"],[0.3333333333333333,\"#9c179e\"],[0.4444444444444444,\"#bd3786\"],[0.5555555555555556,\"#d8576b\"],[0.6666666666666666,\"#ed7953\"],[0.7777777777777778,\"#fb9f3a\"],[0.8888888888888888,\"#fdca26\"],[1.0,\"#f0f921\"]]}],\"surface\":[{\"type\":\"surface\",\"colorbar\":{\"outlinewidth\":0,\"ticks\":\"\"},\"colorscale\":[[0.0,\"#0d0887\"],[0.1111111111111111,\"#46039f\"],[0.2222222222222222,\"#7201a8\"],[0.3333333333333333,\"#9c179e\"],[0.4444444444444444,\"#bd3786\"],[0.5555555555555556,\"#d8576b\"],[0.6666666666666666,\"#ed7953\"],[0.7777777777777778,\"#fb9f3a\"],[0.8888888888888888,\"#fdca26\"],[1.0,\"#f0f921\"]]}],\"mesh3d\":[{\"type\":\"mesh3d\",\"colorbar\":{\"outlinewidth\":0,\"ticks\":\"\"}}],\"scatter\":[{\"fillpattern\":{\"fillmode\":\"overlay\",\"size\":10,\"solidity\":0.2},\"type\":\"scatter\"}],\"parcoords\":[{\"type\":\"parcoords\",\"line\":{\"colorbar\":{\"outlinewidth\":0,\"ticks\":\"\"}}}],\"scatterpolargl\":[{\"type\":\"scatterpolargl\",\"marker\":{\"colorbar\":{\"outlinewidth\":0,\"ticks\":\"\"}}}],\"bar\":[{\"error_x\":{\"color\":\"#2a3f5f\"},\"error_y\":{\"color\":\"#2a3f5f\"},\"marker\":{\"line\":{\"color\":\"#E5ECF6\",\"width\":0.5},\"pattern\":{\"fillmode\":\"overlay\",\"size\":10,\"solidity\":0.2}},\"type\":\"bar\"}],\"scattergeo\":[{\"type\":\"scattergeo\",\"marker\":{\"colorbar\":{\"outlinewidth\":0,\"ticks\":\"\"}}}],\"scatterpolar\":[{\"type\":\"scatterpolar\",\"marker\":{\"colorbar\":{\"outlinewidth\":0,\"ticks\":\"\"}}}],\"histogram\":[{\"marker\":{\"pattern\":{\"fillmode\":\"overlay\",\"size\":10,\"solidity\":0.2}},\"type\":\"histogram\"}],\"scattergl\":[{\"type\":\"scattergl\",\"marker\":{\"colorbar\":{\"outlinewidth\":0,\"ticks\":\"\"}}}],\"scatter3d\":[{\"type\":\"scatter3d\",\"line\":{\"colorbar\":{\"outlinewidth\":0,\"ticks\":\"\"}},\"marker\":{\"colorbar\":{\"outlinewidth\":0,\"ticks\":\"\"}}}],\"scattermapbox\":[{\"type\":\"scattermapbox\",\"marker\":{\"colorbar\":{\"outlinewidth\":0,\"ticks\":\"\"}}}],\"scatterternary\":[{\"type\":\"scatterternary\",\"marker\":{\"colorbar\":{\"outlinewidth\":0,\"ticks\":\"\"}}}],\"scattercarpet\":[{\"type\":\"scattercarpet\",\"marker\":{\"colorbar\":{\"outlinewidth\":0,\"ticks\":\"\"}}}],\"carpet\":[{\"aaxis\":{\"endlinecolor\":\"#2a3f5f\",\"gridcolor\":\"white\",\"linecolor\":\"white\",\"minorgridcolor\":\"white\",\"startlinecolor\":\"#2a3f5f\"},\"baxis\":{\"endlinecolor\":\"#2a3f5f\",\"gridcolor\":\"white\",\"linecolor\":\"white\",\"minorgridcolor\":\"white\",\"startlinecolor\":\"#2a3f5f\"},\"type\":\"carpet\"}],\"table\":[{\"cells\":{\"fill\":{\"color\":\"#EBF0F8\"},\"line\":{\"color\":\"white\"}},\"header\":{\"fill\":{\"color\":\"#C8D4E3\"},\"line\":{\"color\":\"white\"}},\"type\":\"table\"}],\"barpolar\":[{\"marker\":{\"line\":{\"color\":\"#E5ECF6\",\"width\":0.5},\"pattern\":{\"fillmode\":\"overlay\",\"size\":10,\"solidity\":0.2}},\"type\":\"barpolar\"}],\"pie\":[{\"automargin\":true,\"type\":\"pie\"}]},\"layout\":{\"autotypenumbers\":\"strict\",\"colorway\":[\"#636efa\",\"#EF553B\",\"#00cc96\",\"#ab63fa\",\"#FFA15A\",\"#19d3f3\",\"#FF6692\",\"#B6E880\",\"#FF97FF\",\"#FECB52\"],\"font\":{\"color\":\"#2a3f5f\"},\"hovermode\":\"closest\",\"hoverlabel\":{\"align\":\"left\"},\"paper_bgcolor\":\"white\",\"plot_bgcolor\":\"#E5ECF6\",\"polar\":{\"bgcolor\":\"#E5ECF6\",\"angularaxis\":{\"gridcolor\":\"white\",\"linecolor\":\"white\",\"ticks\":\"\"},\"radialaxis\":{\"gridcolor\":\"white\",\"linecolor\":\"white\",\"ticks\":\"\"}},\"ternary\":{\"bgcolor\":\"#E5ECF6\",\"aaxis\":{\"gridcolor\":\"white\",\"linecolor\":\"white\",\"ticks\":\"\"},\"baxis\":{\"gridcolor\":\"white\",\"linecolor\":\"white\",\"ticks\":\"\"},\"caxis\":{\"gridcolor\":\"white\",\"linecolor\":\"white\",\"ticks\":\"\"}},\"coloraxis\":{\"colorbar\":{\"outlinewidth\":0,\"ticks\":\"\"}},\"colorscale\":{\"sequential\":[[0.0,\"#0d0887\"],[0.1111111111111111,\"#46039f\"],[0.2222222222222222,\"#7201a8\"],[0.3333333333333333,\"#9c179e\"],[0.4444444444444444,\"#bd3786\"],[0.5555555555555556,\"#d8576b\"],[0.6666666666666666,\"#ed7953\"],[0.7777777777777778,\"#fb9f3a\"],[0.8888888888888888,\"#fdca26\"],[1.0,\"#f0f921\"]],\"sequentialminus\":[[0.0,\"#0d0887\"],[0.1111111111111111,\"#46039f\"],[0.2222222222222222,\"#7201a8\"],[0.3333333333333333,\"#9c179e\"],[0.4444444444444444,\"#bd3786\"],[0.5555555555555556,\"#d8576b\"],[0.6666666666666666,\"#ed7953\"],[0.7777777777777778,\"#fb9f3a\"],[0.8888888888888888,\"#fdca26\"],[1.0,\"#f0f921\"]],\"diverging\":[[0,\"#8e0152\"],[0.1,\"#c51b7d\"],[0.2,\"#de77ae\"],[0.3,\"#f1b6da\"],[0.4,\"#fde0ef\"],[0.5,\"#f7f7f7\"],[0.6,\"#e6f5d0\"],[0.7,\"#b8e186\"],[0.8,\"#7fbc41\"],[0.9,\"#4d9221\"],[1,\"#276419\"]]},\"xaxis\":{\"gridcolor\":\"white\",\"linecolor\":\"white\",\"ticks\":\"\",\"title\":{\"standoff\":15},\"zerolinecolor\":\"white\",\"automargin\":true,\"zerolinewidth\":2},\"yaxis\":{\"gridcolor\":\"white\",\"linecolor\":\"white\",\"ticks\":\"\",\"title\":{\"standoff\":15},\"zerolinecolor\":\"white\",\"automargin\":true,\"zerolinewidth\":2},\"scene\":{\"xaxis\":{\"backgroundcolor\":\"#E5ECF6\",\"gridcolor\":\"white\",\"linecolor\":\"white\",\"showbackground\":true,\"ticks\":\"\",\"zerolinecolor\":\"white\",\"gridwidth\":2},\"yaxis\":{\"backgroundcolor\":\"#E5ECF6\",\"gridcolor\":\"white\",\"linecolor\":\"white\",\"showbackground\":true,\"ticks\":\"\",\"zerolinecolor\":\"white\",\"gridwidth\":2},\"zaxis\":{\"backgroundcolor\":\"#E5ECF6\",\"gridcolor\":\"white\",\"linecolor\":\"white\",\"showbackground\":true,\"ticks\":\"\",\"zerolinecolor\":\"white\",\"gridwidth\":2}},\"shapedefaults\":{\"line\":{\"color\":\"#2a3f5f\"}},\"annotationdefaults\":{\"arrowcolor\":\"#2a3f5f\",\"arrowhead\":0,\"arrowwidth\":1},\"geo\":{\"bgcolor\":\"white\",\"landcolor\":\"#E5ECF6\",\"subunitcolor\":\"white\",\"showland\":true,\"showlakes\":true,\"lakecolor\":\"white\"},\"title\":{\"x\":0.05},\"mapbox\":{\"style\":\"light\"}}},\"xaxis\":{\"anchor\":\"y\",\"domain\":[0.0,1.0],\"scaleanchor\":\"y\",\"constrain\":\"domain\",\"title\":{\"text\":\"logit\"}},\"yaxis\":{\"anchor\":\"x\",\"domain\":[0.0,1.0],\"autorange\":\"reversed\",\"constrain\":\"domain\",\"title\":{\"text\":\"src token\"}},\"coloraxis\":{\"colorscale\":[[0.0,\"rgb(103,0,31)\"],[0.1,\"rgb(178,24,43)\"],[0.2,\"rgb(214,96,77)\"],[0.3,\"rgb(244,165,130)\"],[0.4,\"rgb(253,219,199)\"],[0.5,\"rgb(247,247,247)\"],[0.6,\"rgb(209,229,240)\"],[0.7,\"rgb(146,197,222)\"],[0.8,\"rgb(67,147,195)\"],[0.9,\"rgb(33,102,172)\"],[1.0,\"rgb(5,48,97)\"]],\"cmid\":0.0},\"title\":{\"text\":\"1.0 Full OV circuit W_E @ W_OV^1.0 @ W_U\"}},                        {\"responsive\": true}                    ).then(function(){\n",
              "                            \n",
              "var gd = document.getElementById('28a0551b-5fd2-427e-af7e-9c5a0a95cda7');\n",
              "var x = new MutationObserver(function (mutations, observer) {{\n",
              "        var display = window.getComputedStyle(gd).display;\n",
              "        if (!display || display === 'none') {{\n",
              "            console.log([gd, 'removed!']);\n",
              "            Plotly.purge(gd);\n",
              "            observer.disconnect();\n",
              "        }}\n",
              "}});\n",
              "\n",
              "// Listen for the removal of the full notebook cells\n",
              "var notebookContainer = gd.closest('#notebook-container');\n",
              "if (notebookContainer) {{\n",
              "    x.observe(notebookContainer, {childList: true});\n",
              "}}\n",
              "\n",
              "// Listen for the clearing of the current output cell\n",
              "var outputEl = gd.closest('.output');\n",
              "if (outputEl) {{\n",
              "    x.observe(outputEl, {childList: true});\n",
              "}}\n",
              "\n",
              "                        })                };                            </script>        </div>\n",
              "</body>\n",
              "</html>"
            ]
          },
          "metadata": {}
        }
      ]
    },
    {
      "cell_type": "code",
      "source": [
        "full_OV_circuit = (W_E @ model.OV[1,0].AB @ W_U)[:cfg.d_vocab_out]\n",
        "top_1_acc = (full_OV_circuit.argmax(dim=-1) == torch.arange(cfg.d_vocab_out, device=cfg.device)).float().mean()\n",
        "print(\"Fraction of time top logit is on diagonal\", top_1_acc.item())"
      ],
      "metadata": {
        "colab": {
          "base_uri": "https://localhost:8080/"
        },
        "id": "xsnsNu1UE9UV",
        "outputId": "8b4eed61-e117-41c5-e577-cf62d078ce4b"
      },
      "execution_count": 270,
      "outputs": [
        {
          "output_type": "stream",
          "name": "stdout",
          "text": [
            "Fraction of time top logit is on diagonal 1.0\n"
          ]
        }
      ]
    },
    {
      "cell_type": "markdown",
      "source": [
        "We see clear copying. Now it seems clear that the model figures out to attend to the correct next token and then copy, but how does it know to attend to the correct next token in the first place? It must be using some kind of composition. We can start by looking at the attn patterns for 0.0 to get a sense of what information is being moved in L0:"
      ],
      "metadata": {
        "id": "fBiRv5rdFUkh"
      }
    },
    {
      "cell_type": "markdown",
      "source": [
        "## Stare at 0.0 patterns"
      ],
      "metadata": {
        "id": "MdPkNt4BF-RD"
      }
    },
    {
      "cell_type": "code",
      "source": [
        "layer_0_patterns = cache['pattern', 0]\n",
        "print(layer_0_patterns.shape)"
      ],
      "metadata": {
        "colab": {
          "base_uri": "https://localhost:8080/"
        },
        "id": "6D9mqcUeVlb-",
        "outputId": "809dd52e-a45c-4ddd-a045-8ecf0c6d2466"
      },
      "execution_count": 271,
      "outputs": [
        {
          "output_type": "stream",
          "name": "stdout",
          "text": [
            "torch.Size([256, 1, 11, 11])\n"
          ]
        }
      ]
    },
    {
      "cell_type": "code",
      "source": [
        "imshow(\n",
        "    layer_0_patterns[:, 0, :, :].mean(dim=0),\n",
        "    title=\"0.0 patterns (avged over batch)\",\n",
        "    xaxis='src', yaxis='dest',\n",
        "    x=labels, y=labels\n",
        ")"
      ],
      "metadata": {
        "colab": {
          "base_uri": "https://localhost:8080/",
          "height": 542
        },
        "id": "M4UACvaWGG7C",
        "outputId": "dda68398-d0c0-4580-a5a6-d02db5045797"
      },
      "execution_count": 272,
      "outputs": [
        {
          "output_type": "display_data",
          "data": {
            "text/html": [
              "<html>\n",
              "<head><meta charset=\"utf-8\" /></head>\n",
              "<body>\n",
              "    <div>            <script src=\"https://cdnjs.cloudflare.com/ajax/libs/mathjax/2.7.5/MathJax.js?config=TeX-AMS-MML_SVG\"></script><script type=\"text/javascript\">if (window.MathJax && window.MathJax.Hub && window.MathJax.Hub.Config) {window.MathJax.Hub.Config({SVG: {font: \"STIX-Web\"}});}</script>                <script type=\"text/javascript\">window.PlotlyConfig = {MathJaxConfig: 'local'};</script>\n",
              "        <script src=\"https://cdn.plot.ly/plotly-2.18.2.min.js\"></script>                <div id=\"941ee550-d65f-42ff-834b-32bbc4c521b3\" class=\"plotly-graph-div\" style=\"height:525px; width:100%;\"></div>            <script type=\"text/javascript\">                                    window.PLOTLYENV=window.PLOTLYENV || {};                                    if (document.getElementById(\"941ee550-d65f-42ff-834b-32bbc4c521b3\")) {                    Plotly.newPlot(                        \"941ee550-d65f-42ff-834b-32bbc4c521b3\",                        [{\"coloraxis\":\"coloraxis\",\"name\":\"0\",\"x\":[\"BOS\",\"14_1\",\"23_2\",\"48_3\",\"nl_0\",\"1_5\",\"26_6\",\"nl_1\",\"14_8\",\"26_9\",\"48_10\"],\"y\":[\"BOS\",\"14_1\",\"23_2\",\"48_3\",\"nl_0\",\"1_5\",\"26_6\",\"nl_1\",\"14_8\",\"26_9\",\"48_10\"],\"z\":[[1.0,0.0,0.0,0.0,0.0,0.0,0.0,0.0,0.0,0.0,0.0],[0.5510019659996033,0.44899803400039673,0.0,0.0,0.0,0.0,0.0,0.0,0.0,0.0,0.0],[0.31768283247947693,0.12003690749406815,0.5622802376747131,0.0,0.0,0.0,0.0,0.0,0.0,0.0,0.0],[0.3610401749610901,0.08130432665348053,0.09073550999164581,0.46691998839378357,0.0,0.0,0.0,0.0,0.0,0.0,0.0],[0.2753339409828186,0.16821029782295227,0.28186553716659546,0.08568696677684784,0.18890321254730225,0.0,0.0,0.0,0.0,0.0,0.0],[0.28374290466308594,0.167307049036026,0.1582428514957428,0.11219986528158188,0.25132301449775696,0.02718432992696762,0.0,0.0,0.0,0.0,0.0],[0.0005168706411495805,0.023672044277191162,0.019630596041679382,0.019550036638975143,0.0007125559495761991,0.641046404838562,0.2948715090751648,0.0,0.0,0.0,0.0],[0.006025252863764763,0.3696269989013672,0.2619848847389221,0.030199628323316574,0.005682762246578932,0.0022913033608347178,0.3209988474845886,0.0031903060153126717,0.0,0.0,0.0],[0.008480565622448921,0.014549961313605309,0.6665171384811401,0.044506728649139404,0.004651275463402271,0.0027038315311074257,0.2493491768836975,0.0032690735533833504,0.005972284823656082,0.0,0.0],[0.0022668614983558655,0.00465796422213316,0.039951030164957047,0.4036622643470764,0.00012657925253733993,0.0012665428221225739,0.5445876717567444,0.00019906589295715094,0.0015184705844148993,0.001763554522767663,0.0],[0.0863199532032013,0.07636597752571106,0.12467893958091736,0.1168895959854126,0.07460756599903107,0.07407504320144653,0.1295183300971985,0.07013386487960815,0.07333193719387054,0.07894836366176605,0.09513041377067566]],\"type\":\"heatmap\",\"xaxis\":\"x\",\"yaxis\":\"y\",\"hovertemplate\":\"src: %{x}<br>dest: %{y}<br>color: %{z}<extra></extra>\"}],                        {\"template\":{\"data\":{\"histogram2dcontour\":[{\"type\":\"histogram2dcontour\",\"colorbar\":{\"outlinewidth\":0,\"ticks\":\"\"},\"colorscale\":[[0.0,\"#0d0887\"],[0.1111111111111111,\"#46039f\"],[0.2222222222222222,\"#7201a8\"],[0.3333333333333333,\"#9c179e\"],[0.4444444444444444,\"#bd3786\"],[0.5555555555555556,\"#d8576b\"],[0.6666666666666666,\"#ed7953\"],[0.7777777777777778,\"#fb9f3a\"],[0.8888888888888888,\"#fdca26\"],[1.0,\"#f0f921\"]]}],\"choropleth\":[{\"type\":\"choropleth\",\"colorbar\":{\"outlinewidth\":0,\"ticks\":\"\"}}],\"histogram2d\":[{\"type\":\"histogram2d\",\"colorbar\":{\"outlinewidth\":0,\"ticks\":\"\"},\"colorscale\":[[0.0,\"#0d0887\"],[0.1111111111111111,\"#46039f\"],[0.2222222222222222,\"#7201a8\"],[0.3333333333333333,\"#9c179e\"],[0.4444444444444444,\"#bd3786\"],[0.5555555555555556,\"#d8576b\"],[0.6666666666666666,\"#ed7953\"],[0.7777777777777778,\"#fb9f3a\"],[0.8888888888888888,\"#fdca26\"],[1.0,\"#f0f921\"]]}],\"heatmap\":[{\"type\":\"heatmap\",\"colorbar\":{\"outlinewidth\":0,\"ticks\":\"\"},\"colorscale\":[[0.0,\"#0d0887\"],[0.1111111111111111,\"#46039f\"],[0.2222222222222222,\"#7201a8\"],[0.3333333333333333,\"#9c179e\"],[0.4444444444444444,\"#bd3786\"],[0.5555555555555556,\"#d8576b\"],[0.6666666666666666,\"#ed7953\"],[0.7777777777777778,\"#fb9f3a\"],[0.8888888888888888,\"#fdca26\"],[1.0,\"#f0f921\"]]}],\"heatmapgl\":[{\"type\":\"heatmapgl\",\"colorbar\":{\"outlinewidth\":0,\"ticks\":\"\"},\"colorscale\":[[0.0,\"#0d0887\"],[0.1111111111111111,\"#46039f\"],[0.2222222222222222,\"#7201a8\"],[0.3333333333333333,\"#9c179e\"],[0.4444444444444444,\"#bd3786\"],[0.5555555555555556,\"#d8576b\"],[0.6666666666666666,\"#ed7953\"],[0.7777777777777778,\"#fb9f3a\"],[0.8888888888888888,\"#fdca26\"],[1.0,\"#f0f921\"]]}],\"contourcarpet\":[{\"type\":\"contourcarpet\",\"colorbar\":{\"outlinewidth\":0,\"ticks\":\"\"}}],\"contour\":[{\"type\":\"contour\",\"colorbar\":{\"outlinewidth\":0,\"ticks\":\"\"},\"colorscale\":[[0.0,\"#0d0887\"],[0.1111111111111111,\"#46039f\"],[0.2222222222222222,\"#7201a8\"],[0.3333333333333333,\"#9c179e\"],[0.4444444444444444,\"#bd3786\"],[0.5555555555555556,\"#d8576b\"],[0.6666666666666666,\"#ed7953\"],[0.7777777777777778,\"#fb9f3a\"],[0.8888888888888888,\"#fdca26\"],[1.0,\"#f0f921\"]]}],\"surface\":[{\"type\":\"surface\",\"colorbar\":{\"outlinewidth\":0,\"ticks\":\"\"},\"colorscale\":[[0.0,\"#0d0887\"],[0.1111111111111111,\"#46039f\"],[0.2222222222222222,\"#7201a8\"],[0.3333333333333333,\"#9c179e\"],[0.4444444444444444,\"#bd3786\"],[0.5555555555555556,\"#d8576b\"],[0.6666666666666666,\"#ed7953\"],[0.7777777777777778,\"#fb9f3a\"],[0.8888888888888888,\"#fdca26\"],[1.0,\"#f0f921\"]]}],\"mesh3d\":[{\"type\":\"mesh3d\",\"colorbar\":{\"outlinewidth\":0,\"ticks\":\"\"}}],\"scatter\":[{\"fillpattern\":{\"fillmode\":\"overlay\",\"size\":10,\"solidity\":0.2},\"type\":\"scatter\"}],\"parcoords\":[{\"type\":\"parcoords\",\"line\":{\"colorbar\":{\"outlinewidth\":0,\"ticks\":\"\"}}}],\"scatterpolargl\":[{\"type\":\"scatterpolargl\",\"marker\":{\"colorbar\":{\"outlinewidth\":0,\"ticks\":\"\"}}}],\"bar\":[{\"error_x\":{\"color\":\"#2a3f5f\"},\"error_y\":{\"color\":\"#2a3f5f\"},\"marker\":{\"line\":{\"color\":\"#E5ECF6\",\"width\":0.5},\"pattern\":{\"fillmode\":\"overlay\",\"size\":10,\"solidity\":0.2}},\"type\":\"bar\"}],\"scattergeo\":[{\"type\":\"scattergeo\",\"marker\":{\"colorbar\":{\"outlinewidth\":0,\"ticks\":\"\"}}}],\"scatterpolar\":[{\"type\":\"scatterpolar\",\"marker\":{\"colorbar\":{\"outlinewidth\":0,\"ticks\":\"\"}}}],\"histogram\":[{\"marker\":{\"pattern\":{\"fillmode\":\"overlay\",\"size\":10,\"solidity\":0.2}},\"type\":\"histogram\"}],\"scattergl\":[{\"type\":\"scattergl\",\"marker\":{\"colorbar\":{\"outlinewidth\":0,\"ticks\":\"\"}}}],\"scatter3d\":[{\"type\":\"scatter3d\",\"line\":{\"colorbar\":{\"outlinewidth\":0,\"ticks\":\"\"}},\"marker\":{\"colorbar\":{\"outlinewidth\":0,\"ticks\":\"\"}}}],\"scattermapbox\":[{\"type\":\"scattermapbox\",\"marker\":{\"colorbar\":{\"outlinewidth\":0,\"ticks\":\"\"}}}],\"scatterternary\":[{\"type\":\"scatterternary\",\"marker\":{\"colorbar\":{\"outlinewidth\":0,\"ticks\":\"\"}}}],\"scattercarpet\":[{\"type\":\"scattercarpet\",\"marker\":{\"colorbar\":{\"outlinewidth\":0,\"ticks\":\"\"}}}],\"carpet\":[{\"aaxis\":{\"endlinecolor\":\"#2a3f5f\",\"gridcolor\":\"white\",\"linecolor\":\"white\",\"minorgridcolor\":\"white\",\"startlinecolor\":\"#2a3f5f\"},\"baxis\":{\"endlinecolor\":\"#2a3f5f\",\"gridcolor\":\"white\",\"linecolor\":\"white\",\"minorgridcolor\":\"white\",\"startlinecolor\":\"#2a3f5f\"},\"type\":\"carpet\"}],\"table\":[{\"cells\":{\"fill\":{\"color\":\"#EBF0F8\"},\"line\":{\"color\":\"white\"}},\"header\":{\"fill\":{\"color\":\"#C8D4E3\"},\"line\":{\"color\":\"white\"}},\"type\":\"table\"}],\"barpolar\":[{\"marker\":{\"line\":{\"color\":\"#E5ECF6\",\"width\":0.5},\"pattern\":{\"fillmode\":\"overlay\",\"size\":10,\"solidity\":0.2}},\"type\":\"barpolar\"}],\"pie\":[{\"automargin\":true,\"type\":\"pie\"}]},\"layout\":{\"autotypenumbers\":\"strict\",\"colorway\":[\"#636efa\",\"#EF553B\",\"#00cc96\",\"#ab63fa\",\"#FFA15A\",\"#19d3f3\",\"#FF6692\",\"#B6E880\",\"#FF97FF\",\"#FECB52\"],\"font\":{\"color\":\"#2a3f5f\"},\"hovermode\":\"closest\",\"hoverlabel\":{\"align\":\"left\"},\"paper_bgcolor\":\"white\",\"plot_bgcolor\":\"#E5ECF6\",\"polar\":{\"bgcolor\":\"#E5ECF6\",\"angularaxis\":{\"gridcolor\":\"white\",\"linecolor\":\"white\",\"ticks\":\"\"},\"radialaxis\":{\"gridcolor\":\"white\",\"linecolor\":\"white\",\"ticks\":\"\"}},\"ternary\":{\"bgcolor\":\"#E5ECF6\",\"aaxis\":{\"gridcolor\":\"white\",\"linecolor\":\"white\",\"ticks\":\"\"},\"baxis\":{\"gridcolor\":\"white\",\"linecolor\":\"white\",\"ticks\":\"\"},\"caxis\":{\"gridcolor\":\"white\",\"linecolor\":\"white\",\"ticks\":\"\"}},\"coloraxis\":{\"colorbar\":{\"outlinewidth\":0,\"ticks\":\"\"}},\"colorscale\":{\"sequential\":[[0.0,\"#0d0887\"],[0.1111111111111111,\"#46039f\"],[0.2222222222222222,\"#7201a8\"],[0.3333333333333333,\"#9c179e\"],[0.4444444444444444,\"#bd3786\"],[0.5555555555555556,\"#d8576b\"],[0.6666666666666666,\"#ed7953\"],[0.7777777777777778,\"#fb9f3a\"],[0.8888888888888888,\"#fdca26\"],[1.0,\"#f0f921\"]],\"sequentialminus\":[[0.0,\"#0d0887\"],[0.1111111111111111,\"#46039f\"],[0.2222222222222222,\"#7201a8\"],[0.3333333333333333,\"#9c179e\"],[0.4444444444444444,\"#bd3786\"],[0.5555555555555556,\"#d8576b\"],[0.6666666666666666,\"#ed7953\"],[0.7777777777777778,\"#fb9f3a\"],[0.8888888888888888,\"#fdca26\"],[1.0,\"#f0f921\"]],\"diverging\":[[0,\"#8e0152\"],[0.1,\"#c51b7d\"],[0.2,\"#de77ae\"],[0.3,\"#f1b6da\"],[0.4,\"#fde0ef\"],[0.5,\"#f7f7f7\"],[0.6,\"#e6f5d0\"],[0.7,\"#b8e186\"],[0.8,\"#7fbc41\"],[0.9,\"#4d9221\"],[1,\"#276419\"]]},\"xaxis\":{\"gridcolor\":\"white\",\"linecolor\":\"white\",\"ticks\":\"\",\"title\":{\"standoff\":15},\"zerolinecolor\":\"white\",\"automargin\":true,\"zerolinewidth\":2},\"yaxis\":{\"gridcolor\":\"white\",\"linecolor\":\"white\",\"ticks\":\"\",\"title\":{\"standoff\":15},\"zerolinecolor\":\"white\",\"automargin\":true,\"zerolinewidth\":2},\"scene\":{\"xaxis\":{\"backgroundcolor\":\"#E5ECF6\",\"gridcolor\":\"white\",\"linecolor\":\"white\",\"showbackground\":true,\"ticks\":\"\",\"zerolinecolor\":\"white\",\"gridwidth\":2},\"yaxis\":{\"backgroundcolor\":\"#E5ECF6\",\"gridcolor\":\"white\",\"linecolor\":\"white\",\"showbackground\":true,\"ticks\":\"\",\"zerolinecolor\":\"white\",\"gridwidth\":2},\"zaxis\":{\"backgroundcolor\":\"#E5ECF6\",\"gridcolor\":\"white\",\"linecolor\":\"white\",\"showbackground\":true,\"ticks\":\"\",\"zerolinecolor\":\"white\",\"gridwidth\":2}},\"shapedefaults\":{\"line\":{\"color\":\"#2a3f5f\"}},\"annotationdefaults\":{\"arrowcolor\":\"#2a3f5f\",\"arrowhead\":0,\"arrowwidth\":1},\"geo\":{\"bgcolor\":\"white\",\"landcolor\":\"#E5ECF6\",\"subunitcolor\":\"white\",\"showland\":true,\"showlakes\":true,\"lakecolor\":\"white\"},\"title\":{\"x\":0.05},\"mapbox\":{\"style\":\"light\"}}},\"xaxis\":{\"anchor\":\"y\",\"domain\":[0.0,1.0],\"scaleanchor\":\"y\",\"constrain\":\"domain\",\"title\":{\"text\":\"src\"}},\"yaxis\":{\"anchor\":\"x\",\"domain\":[0.0,1.0],\"autorange\":\"reversed\",\"constrain\":\"domain\",\"title\":{\"text\":\"dest\"}},\"coloraxis\":{\"colorscale\":[[0.0,\"rgb(103,0,31)\"],[0.1,\"rgb(178,24,43)\"],[0.2,\"rgb(214,96,77)\"],[0.3,\"rgb(244,165,130)\"],[0.4,\"rgb(253,219,199)\"],[0.5,\"rgb(247,247,247)\"],[0.6,\"rgb(209,229,240)\"],[0.7,\"rgb(146,197,222)\"],[0.8,\"rgb(67,147,195)\"],[0.9,\"rgb(33,102,172)\"],[1.0,\"rgb(5,48,97)\"]],\"cmid\":0.0},\"title\":{\"text\":\"0.0 patterns (avged over batch)\"}},                        {\"responsive\": true}                    ).then(function(){\n",
              "                            \n",
              "var gd = document.getElementById('941ee550-d65f-42ff-834b-32bbc4c521b3');\n",
              "var x = new MutationObserver(function (mutations, observer) {{\n",
              "        var display = window.getComputedStyle(gd).display;\n",
              "        if (!display || display === 'none') {{\n",
              "            console.log([gd, 'removed!']);\n",
              "            Plotly.purge(gd);\n",
              "            observer.disconnect();\n",
              "        }}\n",
              "}});\n",
              "\n",
              "// Listen for the removal of the full notebook cells\n",
              "var notebookContainer = gd.closest('#notebook-container');\n",
              "if (notebookContainer) {{\n",
              "    x.observe(notebookContainer, {childList: true});\n",
              "}}\n",
              "\n",
              "// Listen for the clearing of the current output cell\n",
              "var outputEl = gd.closest('.output');\n",
              "if (outputEl) {{\n",
              "    x.observe(outputEl, {childList: true});\n",
              "}}\n",
              "\n",
              "                        })                };                            </script>        </div>\n",
              "</body>\n",
              "</html>"
            ]
          },
          "metadata": {}
        }
      ]
    },
    {
      "cell_type": "markdown",
      "source": [
        "We notice that the \"elt\" token attends very strongly to the \"idx\" token.  Perhaps it uses this to broadcast \"I am at prediction position 1\", and the corresponding prediction position can just query for that. This would be an example of K-composition:\n",
        "\n",
        "![picture](https://drive.google.com/uc?id=12IBkPV_ZZrfGySRgDDL2Kimsc7vmbHry)\n",
        "\n",
        "We can refine this hypothesis with activation patching."
      ],
      "metadata": {
        "id": "zbMOlEU6Gcsx"
      }
    },
    {
      "cell_type": "markdown",
      "source": [
        "## Activation patching"
      ],
      "metadata": {
        "id": "nvu40xW7GvQK"
      }
    },
    {
      "cell_type": "markdown",
      "source": [
        "In activation patching, we usually want to corrupt some vital piece of information in the input, causing the model to get a wrong answer. Then we patch in activations from the clean run to and measure how much performance we can recover. This helps us localize which specific activations from the clean run contain the most important information.\n",
        "\n",
        "There are many important tokens in the input, but I will start by corrupting the \"idx\" token, since we hypothesize this is used in a K-composition circuit."
      ],
      "metadata": {
        "id": "pQImu56XGwQl"
      }
    },
    {
      "cell_type": "code",
      "source": [
        "clean_tokens = test_sample[1]\n",
        "print(clean_tokens)\n",
        "print(tokens_to_labels(clean_tokens))"
      ],
      "metadata": {
        "colab": {
          "base_uri": "https://localhost:8080/"
        },
        "id": "ARGi7OoZGPea",
        "outputId": "71d0a577-1b18-48d4-8b44-57614a371907"
      },
      "execution_count": 273,
      "outputs": [
        {
          "output_type": "stream",
          "name": "stdout",
          "text": [
            "tensor([50, 14, 23, 48, 51,  1, 26, 51, 14, 26, 48], device='cuda:0')\n",
            "['BOS', '14_1', '23_2', '48_3', 'nl_0', '1_5', '26_6', 'nl_1', '14_8', '26_9', '48_10']\n"
          ]
        }
      ]
    },
    {
      "cell_type": "code",
      "source": [
        "corrupted_tokens = clean_tokens.clone()\n",
        "corrupted_tokens[5] = 2\n",
        "corrupted_tokens[-2] = 23\n",
        "corrupted_tokens[-1] = 26\n",
        "print(corrupted_tokens)\n",
        "print(tokens_to_labels(corrupted_tokens))"
      ],
      "metadata": {
        "colab": {
          "base_uri": "https://localhost:8080/"
        },
        "id": "x0jzQ3WDHBjs",
        "outputId": "d169c3a2-042e-4ab2-e94c-677db1b8ffd0"
      },
      "execution_count": 274,
      "outputs": [
        {
          "output_type": "stream",
          "name": "stdout",
          "text": [
            "tensor([50, 14, 23, 48, 51,  2, 26, 51, 14, 23, 26], device='cuda:0')\n",
            "['BOS', '14_1', '23_2', '48_3', 'nl_0', '2_5', '26_6', 'nl_1', '14_8', '23_9', '26_10']\n"
          ]
        }
      ]
    },
    {
      "cell_type": "code",
      "source": [
        "clean_logits, clean_cache = model.run_with_cache(clean_tokens)\n",
        "print(clean_logits.shape)\n",
        "print(clean_cache)\n",
        "\n",
        "corrupted_logits, corrupted_cache = model.run_with_cache(corrupted_tokens)\n",
        "print(corrupted_logits.shape)\n",
        "print(corrupted_cache)"
      ],
      "metadata": {
        "colab": {
          "base_uri": "https://localhost:8080/"
        },
        "id": "_eqYl5tvHOcG",
        "outputId": "e1e4775d-40ef-4f92-a900-da5ca063d746"
      },
      "execution_count": 275,
      "outputs": [
        {
          "output_type": "stream",
          "name": "stdout",
          "text": [
            "torch.Size([1, 11, 50])\n",
            "ActivationCache with keys ['hook_embed', 'hook_pos_embed', 'blocks.0.hook_resid_pre', 'blocks.0.attn.hook_q', 'blocks.0.attn.hook_k', 'blocks.0.attn.hook_v', 'blocks.0.attn.hook_attn_scores', 'blocks.0.attn.hook_pattern', 'blocks.0.attn.hook_z', 'blocks.0.hook_attn_out', 'blocks.0.hook_resid_post', 'blocks.1.hook_resid_pre', 'blocks.1.attn.hook_q', 'blocks.1.attn.hook_k', 'blocks.1.attn.hook_v', 'blocks.1.attn.hook_attn_scores', 'blocks.1.attn.hook_pattern', 'blocks.1.attn.hook_z', 'blocks.1.hook_attn_out', 'blocks.1.hook_resid_post']\n",
            "torch.Size([1, 11, 50])\n",
            "ActivationCache with keys ['hook_embed', 'hook_pos_embed', 'blocks.0.hook_resid_pre', 'blocks.0.attn.hook_q', 'blocks.0.attn.hook_k', 'blocks.0.attn.hook_v', 'blocks.0.attn.hook_attn_scores', 'blocks.0.attn.hook_pattern', 'blocks.0.attn.hook_z', 'blocks.0.hook_attn_out', 'blocks.0.hook_resid_post', 'blocks.1.hook_resid_pre', 'blocks.1.attn.hook_q', 'blocks.1.attn.hook_k', 'blocks.1.attn.hook_v', 'blocks.1.attn.hook_attn_scores', 'blocks.1.attn.hook_pattern', 'blocks.1.attn.hook_z', 'blocks.1.hook_attn_out', 'blocks.1.hook_resid_post']\n"
          ]
        }
      ]
    },
    {
      "cell_type": "markdown",
      "source": [
        "For our patching metric we can use the logit difference between the correct answer given that we update the index (26) and the wrong answer if we didn't update (23):"
      ],
      "metadata": {
        "id": "9HM1T0MhHovS"
      }
    },
    {
      "cell_type": "code",
      "source": [
        "idx_1_pred_pos = -3\n",
        "correct_ans = 26\n",
        "incorrect_ans = 23\n",
        "\n",
        "clean_logit_diff = clean_logits[:, idx_1_pred_pos, correct_ans] - clean_logits[:, idx_1_pred_pos, incorrect_ans]\n",
        "print(clean_logit_diff)\n",
        "\n",
        "corrupted_logit_diff = corrupted_logits[:, idx_1_pred_pos, correct_ans] - corrupted_logits[:, idx_1_pred_pos, incorrect_ans]\n",
        "print(corrupted_logit_diff)"
      ],
      "metadata": {
        "colab": {
          "base_uri": "https://localhost:8080/"
        },
        "id": "bQYKHAnGHi5-",
        "outputId": "8294aca8-5b51-46ea-ef75-1a0dc31de1a6"
      },
      "execution_count": 276,
      "outputs": [
        {
          "output_type": "stream",
          "name": "stdout",
          "text": [
            "tensor([10.8760], device='cuda:0', grad_fn=<SubBackward0>)\n",
            "tensor([-16.4544], device='cuda:0', grad_fn=<SubBackward0>)\n"
          ]
        }
      ]
    },
    {
      "cell_type": "code",
      "source": [
        "def patching_metric(patched_logits):\n",
        "    patched_logit_diff = patched_logits[:, idx_1_pred_pos, correct_ans] - patched_logits[:, idx_1_pred_pos, incorrect_ans]\n",
        "    return (patched_logit_diff - corrupted_logit_diff) / (clean_logit_diff- corrupted_logit_diff)\n",
        "\n",
        "print(\"clean metric\", patching_metric(clean_logits))\n",
        "print(\"corrupted metric\", patching_metric(corrupted_logits))"
      ],
      "metadata": {
        "colab": {
          "base_uri": "https://localhost:8080/"
        },
        "id": "alQuTXdLIDWh",
        "outputId": "956eff37-8b97-4477-cc91-edf5e9b8d8ad"
      },
      "execution_count": 277,
      "outputs": [
        {
          "output_type": "stream",
          "name": "stdout",
          "text": [
            "clean metric tensor([1.], device='cuda:0', grad_fn=<DivBackward0>)\n",
            "corrupted metric tensor([0.], device='cuda:0', grad_fn=<DivBackward0>)\n"
          ]
        }
      ]
    },
    {
      "cell_type": "markdown",
      "source": [
        "We can start by patching the resid_pre activations, to get a general sense of where information is moved each layer:"
      ],
      "metadata": {
        "id": "W3Rjw1jEIYV0"
      }
    },
    {
      "cell_type": "code",
      "source": [
        "resid_pre_patching_results = patching.get_act_patch_resid_pre(\n",
        "    model,\n",
        "    corrupted_tokens,\n",
        "    clean_cache,\n",
        "    patching_metric\n",
        ")\n",
        "resid_pre_patching_results.shape"
      ],
      "metadata": {
        "colab": {
          "base_uri": "https://localhost:8080/",
          "height": 67,
          "referenced_widgets": [
            "81d455f4949d4cbdab0a6021bf7c1e26",
            "54f71472070d401c8add30e3319ed7e8",
            "7e4e7ffa7b46403084bcdd2c6d28bff0",
            "fb6cbc5602204478b139044b9a2c1532",
            "cb40461eb6734a3bb6c642c126f30bb7",
            "75ca0d3794734f42b2cee02ea47463e5",
            "1ed2753c13144cb1b70d6c87fd8d6bbc",
            "2cd09aa222b54047954f5f9d4d6a7501",
            "2c471caac9a84412bd935deb24c86d4b",
            "dc2ae54919894e54b1dbfb57278fd9f0",
            "f57ea40c767a4d9fb1862bb0d12547d9"
          ]
        },
        "id": "DymcpIIXISze",
        "outputId": "4e074eab-30cc-4ba6-cbb7-1872e620ee37"
      },
      "execution_count": 278,
      "outputs": [
        {
          "output_type": "display_data",
          "data": {
            "text/plain": [
              "  0%|          | 0/22 [00:00<?, ?it/s]"
            ],
            "application/vnd.jupyter.widget-view+json": {
              "version_major": 2,
              "version_minor": 0,
              "model_id": "81d455f4949d4cbdab0a6021bf7c1e26"
            }
          },
          "metadata": {}
        },
        {
          "output_type": "execute_result",
          "data": {
            "text/plain": [
              "torch.Size([2, 11])"
            ]
          },
          "metadata": {},
          "execution_count": 278
        }
      ]
    },
    {
      "cell_type": "code",
      "source": [
        "labels = tokens_to_labels(clean_tokens)\n",
        "imshow(\n",
        "    resid_pre_patching_results,\n",
        "    title=\"Resid pre patching results (corrupting idx token)\",\n",
        "    xaxis=\"pos\", yaxis=\"Layer\",\n",
        "    x=labels\n",
        ")"
      ],
      "metadata": {
        "colab": {
          "base_uri": "https://localhost:8080/",
          "height": 542
        },
        "id": "196UuErxIr-h",
        "outputId": "4d1ac892-f424-4a65-bc96-7d84eaf60379"
      },
      "execution_count": 279,
      "outputs": [
        {
          "output_type": "display_data",
          "data": {
            "text/html": [
              "<html>\n",
              "<head><meta charset=\"utf-8\" /></head>\n",
              "<body>\n",
              "    <div>            <script src=\"https://cdnjs.cloudflare.com/ajax/libs/mathjax/2.7.5/MathJax.js?config=TeX-AMS-MML_SVG\"></script><script type=\"text/javascript\">if (window.MathJax && window.MathJax.Hub && window.MathJax.Hub.Config) {window.MathJax.Hub.Config({SVG: {font: \"STIX-Web\"}});}</script>                <script type=\"text/javascript\">window.PlotlyConfig = {MathJaxConfig: 'local'};</script>\n",
              "        <script src=\"https://cdn.plot.ly/plotly-2.18.2.min.js\"></script>                <div id=\"d21adcd4-32c0-4a90-a6b0-3106ff433b1b\" class=\"plotly-graph-div\" style=\"height:525px; width:100%;\"></div>            <script type=\"text/javascript\">                                    window.PLOTLYENV=window.PLOTLYENV || {};                                    if (document.getElementById(\"d21adcd4-32c0-4a90-a6b0-3106ff433b1b\")) {                    Plotly.newPlot(                        \"d21adcd4-32c0-4a90-a6b0-3106ff433b1b\",                        [{\"coloraxis\":\"coloraxis\",\"name\":\"0\",\"x\":[\"BOS\",\"14_1\",\"23_2\",\"48_3\",\"nl_0\",\"1_5\",\"26_6\",\"nl_1\",\"14_8\",\"26_9\",\"48_10\"],\"z\":[[0.0,0.0,0.0,0.0,0.0,1.0,0.0,0.0,0.0,0.0,0.0],[0.0,0.0,0.0,0.0,0.0,-0.00022178806830197573,1.0000684261322021,1.3957713917989167e-07,-3.7127520045032725e-05,0.0,0.0]],\"type\":\"heatmap\",\"xaxis\":\"x\",\"yaxis\":\"y\",\"hovertemplate\":\"pos: %{x}<br>Layer: %{y}<br>color: %{z}<extra></extra>\"}],                        {\"template\":{\"data\":{\"histogram2dcontour\":[{\"type\":\"histogram2dcontour\",\"colorbar\":{\"outlinewidth\":0,\"ticks\":\"\"},\"colorscale\":[[0.0,\"#0d0887\"],[0.1111111111111111,\"#46039f\"],[0.2222222222222222,\"#7201a8\"],[0.3333333333333333,\"#9c179e\"],[0.4444444444444444,\"#bd3786\"],[0.5555555555555556,\"#d8576b\"],[0.6666666666666666,\"#ed7953\"],[0.7777777777777778,\"#fb9f3a\"],[0.8888888888888888,\"#fdca26\"],[1.0,\"#f0f921\"]]}],\"choropleth\":[{\"type\":\"choropleth\",\"colorbar\":{\"outlinewidth\":0,\"ticks\":\"\"}}],\"histogram2d\":[{\"type\":\"histogram2d\",\"colorbar\":{\"outlinewidth\":0,\"ticks\":\"\"},\"colorscale\":[[0.0,\"#0d0887\"],[0.1111111111111111,\"#46039f\"],[0.2222222222222222,\"#7201a8\"],[0.3333333333333333,\"#9c179e\"],[0.4444444444444444,\"#bd3786\"],[0.5555555555555556,\"#d8576b\"],[0.6666666666666666,\"#ed7953\"],[0.7777777777777778,\"#fb9f3a\"],[0.8888888888888888,\"#fdca26\"],[1.0,\"#f0f921\"]]}],\"heatmap\":[{\"type\":\"heatmap\",\"colorbar\":{\"outlinewidth\":0,\"ticks\":\"\"},\"colorscale\":[[0.0,\"#0d0887\"],[0.1111111111111111,\"#46039f\"],[0.2222222222222222,\"#7201a8\"],[0.3333333333333333,\"#9c179e\"],[0.4444444444444444,\"#bd3786\"],[0.5555555555555556,\"#d8576b\"],[0.6666666666666666,\"#ed7953\"],[0.7777777777777778,\"#fb9f3a\"],[0.8888888888888888,\"#fdca26\"],[1.0,\"#f0f921\"]]}],\"heatmapgl\":[{\"type\":\"heatmapgl\",\"colorbar\":{\"outlinewidth\":0,\"ticks\":\"\"},\"colorscale\":[[0.0,\"#0d0887\"],[0.1111111111111111,\"#46039f\"],[0.2222222222222222,\"#7201a8\"],[0.3333333333333333,\"#9c179e\"],[0.4444444444444444,\"#bd3786\"],[0.5555555555555556,\"#d8576b\"],[0.6666666666666666,\"#ed7953\"],[0.7777777777777778,\"#fb9f3a\"],[0.8888888888888888,\"#fdca26\"],[1.0,\"#f0f921\"]]}],\"contourcarpet\":[{\"type\":\"contourcarpet\",\"colorbar\":{\"outlinewidth\":0,\"ticks\":\"\"}}],\"contour\":[{\"type\":\"contour\",\"colorbar\":{\"outlinewidth\":0,\"ticks\":\"\"},\"colorscale\":[[0.0,\"#0d0887\"],[0.1111111111111111,\"#46039f\"],[0.2222222222222222,\"#7201a8\"],[0.3333333333333333,\"#9c179e\"],[0.4444444444444444,\"#bd3786\"],[0.5555555555555556,\"#d8576b\"],[0.6666666666666666,\"#ed7953\"],[0.7777777777777778,\"#fb9f3a\"],[0.8888888888888888,\"#fdca26\"],[1.0,\"#f0f921\"]]}],\"surface\":[{\"type\":\"surface\",\"colorbar\":{\"outlinewidth\":0,\"ticks\":\"\"},\"colorscale\":[[0.0,\"#0d0887\"],[0.1111111111111111,\"#46039f\"],[0.2222222222222222,\"#7201a8\"],[0.3333333333333333,\"#9c179e\"],[0.4444444444444444,\"#bd3786\"],[0.5555555555555556,\"#d8576b\"],[0.6666666666666666,\"#ed7953\"],[0.7777777777777778,\"#fb9f3a\"],[0.8888888888888888,\"#fdca26\"],[1.0,\"#f0f921\"]]}],\"mesh3d\":[{\"type\":\"mesh3d\",\"colorbar\":{\"outlinewidth\":0,\"ticks\":\"\"}}],\"scatter\":[{\"fillpattern\":{\"fillmode\":\"overlay\",\"size\":10,\"solidity\":0.2},\"type\":\"scatter\"}],\"parcoords\":[{\"type\":\"parcoords\",\"line\":{\"colorbar\":{\"outlinewidth\":0,\"ticks\":\"\"}}}],\"scatterpolargl\":[{\"type\":\"scatterpolargl\",\"marker\":{\"colorbar\":{\"outlinewidth\":0,\"ticks\":\"\"}}}],\"bar\":[{\"error_x\":{\"color\":\"#2a3f5f\"},\"error_y\":{\"color\":\"#2a3f5f\"},\"marker\":{\"line\":{\"color\":\"#E5ECF6\",\"width\":0.5},\"pattern\":{\"fillmode\":\"overlay\",\"size\":10,\"solidity\":0.2}},\"type\":\"bar\"}],\"scattergeo\":[{\"type\":\"scattergeo\",\"marker\":{\"colorbar\":{\"outlinewidth\":0,\"ticks\":\"\"}}}],\"scatterpolar\":[{\"type\":\"scatterpolar\",\"marker\":{\"colorbar\":{\"outlinewidth\":0,\"ticks\":\"\"}}}],\"histogram\":[{\"marker\":{\"pattern\":{\"fillmode\":\"overlay\",\"size\":10,\"solidity\":0.2}},\"type\":\"histogram\"}],\"scattergl\":[{\"type\":\"scattergl\",\"marker\":{\"colorbar\":{\"outlinewidth\":0,\"ticks\":\"\"}}}],\"scatter3d\":[{\"type\":\"scatter3d\",\"line\":{\"colorbar\":{\"outlinewidth\":0,\"ticks\":\"\"}},\"marker\":{\"colorbar\":{\"outlinewidth\":0,\"ticks\":\"\"}}}],\"scattermapbox\":[{\"type\":\"scattermapbox\",\"marker\":{\"colorbar\":{\"outlinewidth\":0,\"ticks\":\"\"}}}],\"scatterternary\":[{\"type\":\"scatterternary\",\"marker\":{\"colorbar\":{\"outlinewidth\":0,\"ticks\":\"\"}}}],\"scattercarpet\":[{\"type\":\"scattercarpet\",\"marker\":{\"colorbar\":{\"outlinewidth\":0,\"ticks\":\"\"}}}],\"carpet\":[{\"aaxis\":{\"endlinecolor\":\"#2a3f5f\",\"gridcolor\":\"white\",\"linecolor\":\"white\",\"minorgridcolor\":\"white\",\"startlinecolor\":\"#2a3f5f\"},\"baxis\":{\"endlinecolor\":\"#2a3f5f\",\"gridcolor\":\"white\",\"linecolor\":\"white\",\"minorgridcolor\":\"white\",\"startlinecolor\":\"#2a3f5f\"},\"type\":\"carpet\"}],\"table\":[{\"cells\":{\"fill\":{\"color\":\"#EBF0F8\"},\"line\":{\"color\":\"white\"}},\"header\":{\"fill\":{\"color\":\"#C8D4E3\"},\"line\":{\"color\":\"white\"}},\"type\":\"table\"}],\"barpolar\":[{\"marker\":{\"line\":{\"color\":\"#E5ECF6\",\"width\":0.5},\"pattern\":{\"fillmode\":\"overlay\",\"size\":10,\"solidity\":0.2}},\"type\":\"barpolar\"}],\"pie\":[{\"automargin\":true,\"type\":\"pie\"}]},\"layout\":{\"autotypenumbers\":\"strict\",\"colorway\":[\"#636efa\",\"#EF553B\",\"#00cc96\",\"#ab63fa\",\"#FFA15A\",\"#19d3f3\",\"#FF6692\",\"#B6E880\",\"#FF97FF\",\"#FECB52\"],\"font\":{\"color\":\"#2a3f5f\"},\"hovermode\":\"closest\",\"hoverlabel\":{\"align\":\"left\"},\"paper_bgcolor\":\"white\",\"plot_bgcolor\":\"#E5ECF6\",\"polar\":{\"bgcolor\":\"#E5ECF6\",\"angularaxis\":{\"gridcolor\":\"white\",\"linecolor\":\"white\",\"ticks\":\"\"},\"radialaxis\":{\"gridcolor\":\"white\",\"linecolor\":\"white\",\"ticks\":\"\"}},\"ternary\":{\"bgcolor\":\"#E5ECF6\",\"aaxis\":{\"gridcolor\":\"white\",\"linecolor\":\"white\",\"ticks\":\"\"},\"baxis\":{\"gridcolor\":\"white\",\"linecolor\":\"white\",\"ticks\":\"\"},\"caxis\":{\"gridcolor\":\"white\",\"linecolor\":\"white\",\"ticks\":\"\"}},\"coloraxis\":{\"colorbar\":{\"outlinewidth\":0,\"ticks\":\"\"}},\"colorscale\":{\"sequential\":[[0.0,\"#0d0887\"],[0.1111111111111111,\"#46039f\"],[0.2222222222222222,\"#7201a8\"],[0.3333333333333333,\"#9c179e\"],[0.4444444444444444,\"#bd3786\"],[0.5555555555555556,\"#d8576b\"],[0.6666666666666666,\"#ed7953\"],[0.7777777777777778,\"#fb9f3a\"],[0.8888888888888888,\"#fdca26\"],[1.0,\"#f0f921\"]],\"sequentialminus\":[[0.0,\"#0d0887\"],[0.1111111111111111,\"#46039f\"],[0.2222222222222222,\"#7201a8\"],[0.3333333333333333,\"#9c179e\"],[0.4444444444444444,\"#bd3786\"],[0.5555555555555556,\"#d8576b\"],[0.6666666666666666,\"#ed7953\"],[0.7777777777777778,\"#fb9f3a\"],[0.8888888888888888,\"#fdca26\"],[1.0,\"#f0f921\"]],\"diverging\":[[0,\"#8e0152\"],[0.1,\"#c51b7d\"],[0.2,\"#de77ae\"],[0.3,\"#f1b6da\"],[0.4,\"#fde0ef\"],[0.5,\"#f7f7f7\"],[0.6,\"#e6f5d0\"],[0.7,\"#b8e186\"],[0.8,\"#7fbc41\"],[0.9,\"#4d9221\"],[1,\"#276419\"]]},\"xaxis\":{\"gridcolor\":\"white\",\"linecolor\":\"white\",\"ticks\":\"\",\"title\":{\"standoff\":15},\"zerolinecolor\":\"white\",\"automargin\":true,\"zerolinewidth\":2},\"yaxis\":{\"gridcolor\":\"white\",\"linecolor\":\"white\",\"ticks\":\"\",\"title\":{\"standoff\":15},\"zerolinecolor\":\"white\",\"automargin\":true,\"zerolinewidth\":2},\"scene\":{\"xaxis\":{\"backgroundcolor\":\"#E5ECF6\",\"gridcolor\":\"white\",\"linecolor\":\"white\",\"showbackground\":true,\"ticks\":\"\",\"zerolinecolor\":\"white\",\"gridwidth\":2},\"yaxis\":{\"backgroundcolor\":\"#E5ECF6\",\"gridcolor\":\"white\",\"linecolor\":\"white\",\"showbackground\":true,\"ticks\":\"\",\"zerolinecolor\":\"white\",\"gridwidth\":2},\"zaxis\":{\"backgroundcolor\":\"#E5ECF6\",\"gridcolor\":\"white\",\"linecolor\":\"white\",\"showbackground\":true,\"ticks\":\"\",\"zerolinecolor\":\"white\",\"gridwidth\":2}},\"shapedefaults\":{\"line\":{\"color\":\"#2a3f5f\"}},\"annotationdefaults\":{\"arrowcolor\":\"#2a3f5f\",\"arrowhead\":0,\"arrowwidth\":1},\"geo\":{\"bgcolor\":\"white\",\"landcolor\":\"#E5ECF6\",\"subunitcolor\":\"white\",\"showland\":true,\"showlakes\":true,\"lakecolor\":\"white\"},\"title\":{\"x\":0.05},\"mapbox\":{\"style\":\"light\"}}},\"xaxis\":{\"anchor\":\"y\",\"domain\":[0.0,1.0],\"scaleanchor\":\"y\",\"constrain\":\"domain\",\"title\":{\"text\":\"pos\"}},\"yaxis\":{\"anchor\":\"x\",\"domain\":[0.0,1.0],\"autorange\":\"reversed\",\"constrain\":\"domain\",\"title\":{\"text\":\"Layer\"}},\"coloraxis\":{\"colorscale\":[[0.0,\"rgb(103,0,31)\"],[0.1,\"rgb(178,24,43)\"],[0.2,\"rgb(214,96,77)\"],[0.3,\"rgb(244,165,130)\"],[0.4,\"rgb(253,219,199)\"],[0.5,\"rgb(247,247,247)\"],[0.6,\"rgb(209,229,240)\"],[0.7,\"rgb(146,197,222)\"],[0.8,\"rgb(67,147,195)\"],[0.9,\"rgb(33,102,172)\"],[1.0,\"rgb(5,48,97)\"]],\"cmid\":0.0},\"title\":{\"text\":\"Resid pre patching results (corrupting idx token)\"}},                        {\"responsive\": true}                    ).then(function(){\n",
              "                            \n",
              "var gd = document.getElementById('d21adcd4-32c0-4a90-a6b0-3106ff433b1b');\n",
              "var x = new MutationObserver(function (mutations, observer) {{\n",
              "        var display = window.getComputedStyle(gd).display;\n",
              "        if (!display || display === 'none') {{\n",
              "            console.log([gd, 'removed!']);\n",
              "            Plotly.purge(gd);\n",
              "            observer.disconnect();\n",
              "        }}\n",
              "}});\n",
              "\n",
              "// Listen for the removal of the full notebook cells\n",
              "var notebookContainer = gd.closest('#notebook-container');\n",
              "if (notebookContainer) {{\n",
              "    x.observe(notebookContainer, {childList: true});\n",
              "}}\n",
              "\n",
              "// Listen for the clearing of the current output cell\n",
              "var outputEl = gd.closest('.output');\n",
              "if (outputEl) {{\n",
              "    x.observe(outputEl, {childList: true});\n",
              "}}\n",
              "\n",
              "                        })                };                            </script>        </div>\n",
              "</body>\n",
              "</html>"
            ]
          },
          "metadata": {}
        }
      ]
    },
    {
      "cell_type": "markdown",
      "source": [
        "This suggests that the updated “idx” is moved to the residual stream of the new “elt”. This is roughly what we expected by looking at the attn patterns. Now we can get more granular by patching attn outputs, queries, keys, values, and patterns for each layer."
      ],
      "metadata": {
        "id": "-jHIiN9II4Bz"
      }
    },
    {
      "cell_type": "code",
      "source": [
        "attn_head_by_pos_every_patching_results = patching.get_act_patch_attn_head_by_pos_every(\n",
        "    model,\n",
        "    corrupted_tokens,\n",
        "    clean_cache,\n",
        "    patching_metric\n",
        ")\n",
        "print(attn_head_by_pos_every_patching_results.shape)"
      ],
      "metadata": {
        "colab": {
          "base_uri": "https://localhost:8080/",
          "height": 195,
          "referenced_widgets": [
            "96e86e868b184a4586ee9c923f003bdf",
            "7d54d8b14d294fbc8485532bc203eb5a",
            "82046a88bac049f6ad913ee253d769d4",
            "96b0e56f6be04cd98d364fc77472f4de",
            "42942ab08a7b43359b726ed1989db09d",
            "58421d67edf9489b819ed486edaf69b5",
            "4a174acb4a054d73b7fe8ef3678b44a1",
            "987174dad13645f396536abebc1ecc11",
            "ffeddcc5d09c44ae9eef7ca00d002ccf",
            "d7c843fb3f234502888d61e1733e1079",
            "5f578c3502ed47d18d5940a02fd865f3",
            "c04fea491b164f3fa7cb89bd1b327494",
            "3864d1715b53456d9e442ec9fc9f0bec",
            "46e953946a644697b4fb5438f7d8278d",
            "c02bb445bff54e62bee7f16c180716ac",
            "b5f5a74d1e584e92a7e22785274145ef",
            "441595ab12ea46779d592cb4a2766cd0",
            "95f3f026a2c94fe5a31532bf3f5c0ebd",
            "2bd89707c7c14b1085b2dc116f643cae",
            "e762b11f65f44d828bcb6306987913bb",
            "6c84a99c3c024724b41a6db015e68018",
            "4335794024594b4297ec8398a5f28636",
            "65d751d4b4a348e9acd2da4872db0554",
            "0ec0032a59c8415baf4a86b36df736b2",
            "b014310267964a1aa6c6a6b46688544d",
            "73b56d1521bf4291a8f2b972471089c5",
            "c9c2f13d046441e9b33c33a57a155f7a",
            "8849df02f01a4adaa61bbb7240d5d496",
            "7ef96c2d48944675911e89945e8c5242",
            "8ab19790861c436faeea4f91a3e09b75",
            "b2bda8877637464285d70b26dd88e317",
            "aef30cd74d12477ab894748b5c1c7172",
            "a41fe3582da8459a8f94cd860ba5e545",
            "22dd068a19494ee6ab941fcc551d97f0",
            "b6d6c05b77ef45b8b014fc89e319e46a",
            "669024fa2159489dbcacd7eab1e111f2",
            "d2e10d100fba438bbf03fceaf07d041a",
            "c2f00c2a2f594ebeae7b56b646604d00",
            "05826979399040b1a8ed4182ebd0949c",
            "055f40474f7345cbaf0e6009d40853f8",
            "4d88c5dea9904b86a30703e27486d3bf",
            "a5092495b7c449e88dc99909e3288ebf",
            "66a312f3b08d44a6b068866dea463f3f",
            "5d286ef9b35944f9ab3e8f126e4bf94e",
            "feeae3124be04e56a8d0308b4df076f8",
            "88faabc3c1364eeaab2564bf1bc89368",
            "2e7e4411d1c2485da61d51d1256868b5",
            "0e1ca6ab321e42aaa91189a0f2fa9bb1",
            "acf7433d74d742ef88040333c8a45c1f",
            "cdd14dcb870346a7b9ec58dac07da397",
            "0aefae88cbc94cbd8508f3970d1814a6",
            "d02604194e6847939efdb7aa92c47e62",
            "53311dc50e954fd8b7e0a14638a92a06",
            "5289f054b3654ba687f08b862a162696",
            "d5e3868feec6401085b531384b6db903"
          ]
        },
        "id": "_qYcuniiI0Iz",
        "outputId": "622abf7c-181a-45a7-ee56-b11846db8725"
      },
      "execution_count": 280,
      "outputs": [
        {
          "output_type": "display_data",
          "data": {
            "text/plain": [
              "  0%|          | 0/22 [00:00<?, ?it/s]"
            ],
            "application/vnd.jupyter.widget-view+json": {
              "version_major": 2,
              "version_minor": 0,
              "model_id": "96e86e868b184a4586ee9c923f003bdf"
            }
          },
          "metadata": {}
        },
        {
          "output_type": "display_data",
          "data": {
            "text/plain": [
              "  0%|          | 0/22 [00:00<?, ?it/s]"
            ],
            "application/vnd.jupyter.widget-view+json": {
              "version_major": 2,
              "version_minor": 0,
              "model_id": "c04fea491b164f3fa7cb89bd1b327494"
            }
          },
          "metadata": {}
        },
        {
          "output_type": "display_data",
          "data": {
            "text/plain": [
              "  0%|          | 0/22 [00:00<?, ?it/s]"
            ],
            "application/vnd.jupyter.widget-view+json": {
              "version_major": 2,
              "version_minor": 0,
              "model_id": "65d751d4b4a348e9acd2da4872db0554"
            }
          },
          "metadata": {}
        },
        {
          "output_type": "display_data",
          "data": {
            "text/plain": [
              "  0%|          | 0/22 [00:00<?, ?it/s]"
            ],
            "application/vnd.jupyter.widget-view+json": {
              "version_major": 2,
              "version_minor": 0,
              "model_id": "22dd068a19494ee6ab941fcc551d97f0"
            }
          },
          "metadata": {}
        },
        {
          "output_type": "display_data",
          "data": {
            "text/plain": [
              "  0%|          | 0/22 [00:00<?, ?it/s]"
            ],
            "application/vnd.jupyter.widget-view+json": {
              "version_major": 2,
              "version_minor": 0,
              "model_id": "feeae3124be04e56a8d0308b4df076f8"
            }
          },
          "metadata": {}
        },
        {
          "output_type": "stream",
          "name": "stdout",
          "text": [
            "torch.Size([5, 2, 11, 1])\n"
          ]
        }
      ]
    },
    {
      "cell_type": "code",
      "source": [
        "imshow(\n",
        "    attn_head_by_pos_every_patching_results[..., 0],\n",
        "    title=\"attn head patching results (corrupted idx token)\",\n",
        "    xaxis=\"pos\", yaxis=\"Layer\",\n",
        "    facet_col=0,\n",
        "    facet_labels=[\"output\", \"query\", \"key\", \"value\", \"pattern\"],\n",
        "    aspect=\"auto\", x=labels\n",
        ")"
      ],
      "metadata": {
        "colab": {
          "base_uri": "https://localhost:8080/",
          "height": 542
        },
        "id": "x_d5sXDoJaPy",
        "outputId": "8e0be0f1-a259-44d2-93c3-1ad8d66a2f37"
      },
      "execution_count": 281,
      "outputs": [
        {
          "output_type": "display_data",
          "data": {
            "text/html": [
              "<html>\n",
              "<head><meta charset=\"utf-8\" /></head>\n",
              "<body>\n",
              "    <div>            <script src=\"https://cdnjs.cloudflare.com/ajax/libs/mathjax/2.7.5/MathJax.js?config=TeX-AMS-MML_SVG\"></script><script type=\"text/javascript\">if (window.MathJax && window.MathJax.Hub && window.MathJax.Hub.Config) {window.MathJax.Hub.Config({SVG: {font: \"STIX-Web\"}});}</script>                <script type=\"text/javascript\">window.PlotlyConfig = {MathJaxConfig: 'local'};</script>\n",
              "        <script src=\"https://cdn.plot.ly/plotly-2.18.2.min.js\"></script>                <div id=\"739db302-539c-4a37-84c1-bbee300aa02d\" class=\"plotly-graph-div\" style=\"height:525px; width:100%;\"></div>            <script type=\"text/javascript\">                                    window.PLOTLYENV=window.PLOTLYENV || {};                                    if (document.getElementById(\"739db302-539c-4a37-84c1-bbee300aa02d\")) {                    Plotly.newPlot(                        \"739db302-539c-4a37-84c1-bbee300aa02d\",                        [{\"coloraxis\":\"coloraxis\",\"name\":\"0\",\"x\":[\"BOS\",\"14_1\",\"23_2\",\"48_3\",\"nl_0\",\"1_5\",\"26_6\",\"nl_1\",\"14_8\",\"26_9\",\"48_10\"],\"z\":[[0.0,0.0,0.0,0.0,0.0,0.00010754418326541781,1.0000684261322021,1.3957713917989167e-07,-3.7127520045032725e-05,0.0,0.0],[0.0,0.0,0.0,0.0,0.0,0.0,0.0,0.0,1.0000548362731934,0.0,0.0]],\"type\":\"heatmap\",\"xaxis\":\"x\",\"yaxis\":\"y\",\"hovertemplate\":\"pos: %{x}<br>Layer: %{y}<br>color: %{z}<extra></extra>\"},{\"coloraxis\":\"coloraxis\",\"name\":\"1\",\"x\":[\"BOS\",\"14_1\",\"23_2\",\"48_3\",\"nl_0\",\"1_5\",\"26_6\",\"nl_1\",\"14_8\",\"26_9\",\"48_10\"],\"z\":[[0.0,0.0,0.0,0.0,0.0,-4.626982263289392e-05,0.0,0.0,0.0,0.0,0.0],[0.0,0.0,0.0,0.0,0.0,0.0,0.0,0.0,1.6609679732937366e-05,0.0,0.0]],\"type\":\"heatmap\",\"xaxis\":\"x2\",\"yaxis\":\"y2\",\"hovertemplate\":\"pos: %{x}<br>Layer: %{y}<br>color: %{z}<extra></extra>\"},{\"coloraxis\":\"coloraxis\",\"name\":\"2\",\"x\":[\"BOS\",\"14_1\",\"23_2\",\"48_3\",\"nl_0\",\"1_5\",\"26_6\",\"nl_1\",\"14_8\",\"26_9\",\"48_10\"],\"z\":[[0.0,0.0,0.0,0.0,0.0,-0.0009585460065864027,0.0,0.0,0.0,0.0,0.0],[0.0,0.0,0.0,0.0,0.0,-0.00013580855738837272,1.0469849109649658,1.3957713917989167e-07,6.28097154731222e-07,0.0,0.0]],\"type\":\"heatmap\",\"xaxis\":\"x3\",\"yaxis\":\"y3\",\"hovertemplate\":\"pos: %{x}<br>Layer: %{y}<br>color: %{z}<extra></extra>\"},{\"coloraxis\":\"coloraxis\",\"name\":\"3\",\"x\":[\"BOS\",\"14_1\",\"23_2\",\"48_3\",\"nl_0\",\"1_5\",\"26_6\",\"nl_1\",\"14_8\",\"26_9\",\"48_10\"],\"z\":[[0.0,0.0,0.0,0.0,0.0,1.0312758684158325,0.0,0.0,0.0,0.0,0.0],[0.0,0.0,0.0,0.0,0.0,-0.00016232821508310735,-0.0001556983042974025,0.0,0.0,0.0,0.0]],\"type\":\"heatmap\",\"xaxis\":\"x4\",\"yaxis\":\"y4\",\"hovertemplate\":\"pos: %{x}<br>Layer: %{y}<br>color: %{z}<extra></extra>\"},{\"coloraxis\":\"coloraxis\",\"name\":\"4\",\"x\":[\"BOS\",\"14_1\",\"23_2\",\"48_3\",\"nl_0\",\"1_5\",\"26_6\",\"nl_1\",\"14_8\",\"26_9\",\"48_10\"],\"z\":[[0.0,0.0,0.0,0.0,0.0,-4.075652395840734e-05,-0.000997278606519103,0.0,3.6150478990748525e-05,0.0,0.0],[0.0,0.0,0.0,0.0,0.0,0.0,0.0,0.0,1.046971082687378,0.0,0.0]],\"type\":\"heatmap\",\"xaxis\":\"x5\",\"yaxis\":\"y5\",\"hovertemplate\":\"pos: %{x}<br>Layer: %{y}<br>color: %{z}<extra></extra>\"}],                        {\"template\":{\"data\":{\"histogram2dcontour\":[{\"type\":\"histogram2dcontour\",\"colorbar\":{\"outlinewidth\":0,\"ticks\":\"\"},\"colorscale\":[[0.0,\"#0d0887\"],[0.1111111111111111,\"#46039f\"],[0.2222222222222222,\"#7201a8\"],[0.3333333333333333,\"#9c179e\"],[0.4444444444444444,\"#bd3786\"],[0.5555555555555556,\"#d8576b\"],[0.6666666666666666,\"#ed7953\"],[0.7777777777777778,\"#fb9f3a\"],[0.8888888888888888,\"#fdca26\"],[1.0,\"#f0f921\"]]}],\"choropleth\":[{\"type\":\"choropleth\",\"colorbar\":{\"outlinewidth\":0,\"ticks\":\"\"}}],\"histogram2d\":[{\"type\":\"histogram2d\",\"colorbar\":{\"outlinewidth\":0,\"ticks\":\"\"},\"colorscale\":[[0.0,\"#0d0887\"],[0.1111111111111111,\"#46039f\"],[0.2222222222222222,\"#7201a8\"],[0.3333333333333333,\"#9c179e\"],[0.4444444444444444,\"#bd3786\"],[0.5555555555555556,\"#d8576b\"],[0.6666666666666666,\"#ed7953\"],[0.7777777777777778,\"#fb9f3a\"],[0.8888888888888888,\"#fdca26\"],[1.0,\"#f0f921\"]]}],\"heatmap\":[{\"type\":\"heatmap\",\"colorbar\":{\"outlinewidth\":0,\"ticks\":\"\"},\"colorscale\":[[0.0,\"#0d0887\"],[0.1111111111111111,\"#46039f\"],[0.2222222222222222,\"#7201a8\"],[0.3333333333333333,\"#9c179e\"],[0.4444444444444444,\"#bd3786\"],[0.5555555555555556,\"#d8576b\"],[0.6666666666666666,\"#ed7953\"],[0.7777777777777778,\"#fb9f3a\"],[0.8888888888888888,\"#fdca26\"],[1.0,\"#f0f921\"]]}],\"heatmapgl\":[{\"type\":\"heatmapgl\",\"colorbar\":{\"outlinewidth\":0,\"ticks\":\"\"},\"colorscale\":[[0.0,\"#0d0887\"],[0.1111111111111111,\"#46039f\"],[0.2222222222222222,\"#7201a8\"],[0.3333333333333333,\"#9c179e\"],[0.4444444444444444,\"#bd3786\"],[0.5555555555555556,\"#d8576b\"],[0.6666666666666666,\"#ed7953\"],[0.7777777777777778,\"#fb9f3a\"],[0.8888888888888888,\"#fdca26\"],[1.0,\"#f0f921\"]]}],\"contourcarpet\":[{\"type\":\"contourcarpet\",\"colorbar\":{\"outlinewidth\":0,\"ticks\":\"\"}}],\"contour\":[{\"type\":\"contour\",\"colorbar\":{\"outlinewidth\":0,\"ticks\":\"\"},\"colorscale\":[[0.0,\"#0d0887\"],[0.1111111111111111,\"#46039f\"],[0.2222222222222222,\"#7201a8\"],[0.3333333333333333,\"#9c179e\"],[0.4444444444444444,\"#bd3786\"],[0.5555555555555556,\"#d8576b\"],[0.6666666666666666,\"#ed7953\"],[0.7777777777777778,\"#fb9f3a\"],[0.8888888888888888,\"#fdca26\"],[1.0,\"#f0f921\"]]}],\"surface\":[{\"type\":\"surface\",\"colorbar\":{\"outlinewidth\":0,\"ticks\":\"\"},\"colorscale\":[[0.0,\"#0d0887\"],[0.1111111111111111,\"#46039f\"],[0.2222222222222222,\"#7201a8\"],[0.3333333333333333,\"#9c179e\"],[0.4444444444444444,\"#bd3786\"],[0.5555555555555556,\"#d8576b\"],[0.6666666666666666,\"#ed7953\"],[0.7777777777777778,\"#fb9f3a\"],[0.8888888888888888,\"#fdca26\"],[1.0,\"#f0f921\"]]}],\"mesh3d\":[{\"type\":\"mesh3d\",\"colorbar\":{\"outlinewidth\":0,\"ticks\":\"\"}}],\"scatter\":[{\"fillpattern\":{\"fillmode\":\"overlay\",\"size\":10,\"solidity\":0.2},\"type\":\"scatter\"}],\"parcoords\":[{\"type\":\"parcoords\",\"line\":{\"colorbar\":{\"outlinewidth\":0,\"ticks\":\"\"}}}],\"scatterpolargl\":[{\"type\":\"scatterpolargl\",\"marker\":{\"colorbar\":{\"outlinewidth\":0,\"ticks\":\"\"}}}],\"bar\":[{\"error_x\":{\"color\":\"#2a3f5f\"},\"error_y\":{\"color\":\"#2a3f5f\"},\"marker\":{\"line\":{\"color\":\"#E5ECF6\",\"width\":0.5},\"pattern\":{\"fillmode\":\"overlay\",\"size\":10,\"solidity\":0.2}},\"type\":\"bar\"}],\"scattergeo\":[{\"type\":\"scattergeo\",\"marker\":{\"colorbar\":{\"outlinewidth\":0,\"ticks\":\"\"}}}],\"scatterpolar\":[{\"type\":\"scatterpolar\",\"marker\":{\"colorbar\":{\"outlinewidth\":0,\"ticks\":\"\"}}}],\"histogram\":[{\"marker\":{\"pattern\":{\"fillmode\":\"overlay\",\"size\":10,\"solidity\":0.2}},\"type\":\"histogram\"}],\"scattergl\":[{\"type\":\"scattergl\",\"marker\":{\"colorbar\":{\"outlinewidth\":0,\"ticks\":\"\"}}}],\"scatter3d\":[{\"type\":\"scatter3d\",\"line\":{\"colorbar\":{\"outlinewidth\":0,\"ticks\":\"\"}},\"marker\":{\"colorbar\":{\"outlinewidth\":0,\"ticks\":\"\"}}}],\"scattermapbox\":[{\"type\":\"scattermapbox\",\"marker\":{\"colorbar\":{\"outlinewidth\":0,\"ticks\":\"\"}}}],\"scatterternary\":[{\"type\":\"scatterternary\",\"marker\":{\"colorbar\":{\"outlinewidth\":0,\"ticks\":\"\"}}}],\"scattercarpet\":[{\"type\":\"scattercarpet\",\"marker\":{\"colorbar\":{\"outlinewidth\":0,\"ticks\":\"\"}}}],\"carpet\":[{\"aaxis\":{\"endlinecolor\":\"#2a3f5f\",\"gridcolor\":\"white\",\"linecolor\":\"white\",\"minorgridcolor\":\"white\",\"startlinecolor\":\"#2a3f5f\"},\"baxis\":{\"endlinecolor\":\"#2a3f5f\",\"gridcolor\":\"white\",\"linecolor\":\"white\",\"minorgridcolor\":\"white\",\"startlinecolor\":\"#2a3f5f\"},\"type\":\"carpet\"}],\"table\":[{\"cells\":{\"fill\":{\"color\":\"#EBF0F8\"},\"line\":{\"color\":\"white\"}},\"header\":{\"fill\":{\"color\":\"#C8D4E3\"},\"line\":{\"color\":\"white\"}},\"type\":\"table\"}],\"barpolar\":[{\"marker\":{\"line\":{\"color\":\"#E5ECF6\",\"width\":0.5},\"pattern\":{\"fillmode\":\"overlay\",\"size\":10,\"solidity\":0.2}},\"type\":\"barpolar\"}],\"pie\":[{\"automargin\":true,\"type\":\"pie\"}]},\"layout\":{\"autotypenumbers\":\"strict\",\"colorway\":[\"#636efa\",\"#EF553B\",\"#00cc96\",\"#ab63fa\",\"#FFA15A\",\"#19d3f3\",\"#FF6692\",\"#B6E880\",\"#FF97FF\",\"#FECB52\"],\"font\":{\"color\":\"#2a3f5f\"},\"hovermode\":\"closest\",\"hoverlabel\":{\"align\":\"left\"},\"paper_bgcolor\":\"white\",\"plot_bgcolor\":\"#E5ECF6\",\"polar\":{\"bgcolor\":\"#E5ECF6\",\"angularaxis\":{\"gridcolor\":\"white\",\"linecolor\":\"white\",\"ticks\":\"\"},\"radialaxis\":{\"gridcolor\":\"white\",\"linecolor\":\"white\",\"ticks\":\"\"}},\"ternary\":{\"bgcolor\":\"#E5ECF6\",\"aaxis\":{\"gridcolor\":\"white\",\"linecolor\":\"white\",\"ticks\":\"\"},\"baxis\":{\"gridcolor\":\"white\",\"linecolor\":\"white\",\"ticks\":\"\"},\"caxis\":{\"gridcolor\":\"white\",\"linecolor\":\"white\",\"ticks\":\"\"}},\"coloraxis\":{\"colorbar\":{\"outlinewidth\":0,\"ticks\":\"\"}},\"colorscale\":{\"sequential\":[[0.0,\"#0d0887\"],[0.1111111111111111,\"#46039f\"],[0.2222222222222222,\"#7201a8\"],[0.3333333333333333,\"#9c179e\"],[0.4444444444444444,\"#bd3786\"],[0.5555555555555556,\"#d8576b\"],[0.6666666666666666,\"#ed7953\"],[0.7777777777777778,\"#fb9f3a\"],[0.8888888888888888,\"#fdca26\"],[1.0,\"#f0f921\"]],\"sequentialminus\":[[0.0,\"#0d0887\"],[0.1111111111111111,\"#46039f\"],[0.2222222222222222,\"#7201a8\"],[0.3333333333333333,\"#9c179e\"],[0.4444444444444444,\"#bd3786\"],[0.5555555555555556,\"#d8576b\"],[0.6666666666666666,\"#ed7953\"],[0.7777777777777778,\"#fb9f3a\"],[0.8888888888888888,\"#fdca26\"],[1.0,\"#f0f921\"]],\"diverging\":[[0,\"#8e0152\"],[0.1,\"#c51b7d\"],[0.2,\"#de77ae\"],[0.3,\"#f1b6da\"],[0.4,\"#fde0ef\"],[0.5,\"#f7f7f7\"],[0.6,\"#e6f5d0\"],[0.7,\"#b8e186\"],[0.8,\"#7fbc41\"],[0.9,\"#4d9221\"],[1,\"#276419\"]]},\"xaxis\":{\"gridcolor\":\"white\",\"linecolor\":\"white\",\"ticks\":\"\",\"title\":{\"standoff\":15},\"zerolinecolor\":\"white\",\"automargin\":true,\"zerolinewidth\":2},\"yaxis\":{\"gridcolor\":\"white\",\"linecolor\":\"white\",\"ticks\":\"\",\"title\":{\"standoff\":15},\"zerolinecolor\":\"white\",\"automargin\":true,\"zerolinewidth\":2},\"scene\":{\"xaxis\":{\"backgroundcolor\":\"#E5ECF6\",\"gridcolor\":\"white\",\"linecolor\":\"white\",\"showbackground\":true,\"ticks\":\"\",\"zerolinecolor\":\"white\",\"gridwidth\":2},\"yaxis\":{\"backgroundcolor\":\"#E5ECF6\",\"gridcolor\":\"white\",\"linecolor\":\"white\",\"showbackground\":true,\"ticks\":\"\",\"zerolinecolor\":\"white\",\"gridwidth\":2},\"zaxis\":{\"backgroundcolor\":\"#E5ECF6\",\"gridcolor\":\"white\",\"linecolor\":\"white\",\"showbackground\":true,\"ticks\":\"\",\"zerolinecolor\":\"white\",\"gridwidth\":2}},\"shapedefaults\":{\"line\":{\"color\":\"#2a3f5f\"}},\"annotationdefaults\":{\"arrowcolor\":\"#2a3f5f\",\"arrowhead\":0,\"arrowwidth\":1},\"geo\":{\"bgcolor\":\"white\",\"landcolor\":\"#E5ECF6\",\"subunitcolor\":\"white\",\"showland\":true,\"showlakes\":true,\"lakecolor\":\"white\"},\"title\":{\"x\":0.05},\"mapbox\":{\"style\":\"light\"}}},\"xaxis\":{\"anchor\":\"y\",\"domain\":[0.0,0.18400000000000002],\"title\":{\"text\":\"pos\"}},\"yaxis\":{\"anchor\":\"x\",\"domain\":[0.0,1.0],\"autorange\":\"reversed\",\"title\":{\"text\":\"Layer\"}},\"xaxis2\":{\"anchor\":\"y2\",\"domain\":[0.20400000000000001,0.388],\"matches\":\"x\",\"title\":{\"text\":\"pos\"}},\"yaxis2\":{\"anchor\":\"x2\",\"domain\":[0.0,1.0],\"matches\":\"y\",\"showticklabels\":false},\"xaxis3\":{\"anchor\":\"y3\",\"domain\":[0.40800000000000003,0.5920000000000001],\"matches\":\"x\",\"title\":{\"text\":\"pos\"}},\"yaxis3\":{\"anchor\":\"x3\",\"domain\":[0.0,1.0],\"matches\":\"y\",\"showticklabels\":false},\"xaxis4\":{\"anchor\":\"y4\",\"domain\":[0.6120000000000001,0.7960000000000002],\"matches\":\"x\",\"title\":{\"text\":\"pos\"}},\"yaxis4\":{\"anchor\":\"x4\",\"domain\":[0.0,1.0],\"matches\":\"y\",\"showticklabels\":false},\"xaxis5\":{\"anchor\":\"y5\",\"domain\":[0.8160000000000001,1.0],\"matches\":\"x\",\"title\":{\"text\":\"pos\"}},\"yaxis5\":{\"anchor\":\"x5\",\"domain\":[0.0,1.0],\"matches\":\"y\",\"showticklabels\":false},\"annotations\":[{\"font\":{},\"showarrow\":false,\"text\":\"output\",\"x\":0.09200000000000001,\"xanchor\":\"center\",\"xref\":\"paper\",\"y\":1.0,\"yanchor\":\"bottom\",\"yref\":\"paper\"},{\"font\":{},\"showarrow\":false,\"text\":\"query\",\"x\":0.29600000000000004,\"xanchor\":\"center\",\"xref\":\"paper\",\"y\":1.0,\"yanchor\":\"bottom\",\"yref\":\"paper\"},{\"font\":{},\"showarrow\":false,\"text\":\"key\",\"x\":0.5,\"xanchor\":\"center\",\"xref\":\"paper\",\"y\":1.0,\"yanchor\":\"bottom\",\"yref\":\"paper\"},{\"font\":{},\"showarrow\":false,\"text\":\"value\",\"x\":0.7040000000000002,\"xanchor\":\"center\",\"xref\":\"paper\",\"y\":1.0,\"yanchor\":\"bottom\",\"yref\":\"paper\"},{\"font\":{},\"showarrow\":false,\"text\":\"pattern\",\"x\":0.908,\"xanchor\":\"center\",\"xref\":\"paper\",\"y\":1.0,\"yanchor\":\"bottom\",\"yref\":\"paper\"}],\"coloraxis\":{\"colorscale\":[[0.0,\"rgb(103,0,31)\"],[0.1,\"rgb(178,24,43)\"],[0.2,\"rgb(214,96,77)\"],[0.3,\"rgb(244,165,130)\"],[0.4,\"rgb(253,219,199)\"],[0.5,\"rgb(247,247,247)\"],[0.6,\"rgb(209,229,240)\"],[0.7,\"rgb(146,197,222)\"],[0.8,\"rgb(67,147,195)\"],[0.9,\"rgb(33,102,172)\"],[1.0,\"rgb(5,48,97)\"]],\"cmid\":0.0},\"title\":{\"text\":\"attn head patching results (corrupted idx token)\"}},                        {\"responsive\": true}                    ).then(function(){\n",
              "                            \n",
              "var gd = document.getElementById('739db302-539c-4a37-84c1-bbee300aa02d');\n",
              "var x = new MutationObserver(function (mutations, observer) {{\n",
              "        var display = window.getComputedStyle(gd).display;\n",
              "        if (!display || display === 'none') {{\n",
              "            console.log([gd, 'removed!']);\n",
              "            Plotly.purge(gd);\n",
              "            observer.disconnect();\n",
              "        }}\n",
              "}});\n",
              "\n",
              "// Listen for the removal of the full notebook cells\n",
              "var notebookContainer = gd.closest('#notebook-container');\n",
              "if (notebookContainer) {{\n",
              "    x.observe(notebookContainer, {childList: true});\n",
              "}}\n",
              "\n",
              "// Listen for the clearing of the current output cell\n",
              "var outputEl = gd.closest('.output');\n",
              "if (outputEl) {{\n",
              "    x.observe(outputEl, {childList: true});\n",
              "}}\n",
              "\n",
              "                        })                };                            </script>        </div>\n",
              "</body>\n",
              "</html>"
            ]
          },
          "metadata": {}
        }
      ]
    },
    {
      "cell_type": "markdown",
      "source": [
        "This is very clean and strongly suggests K-composition. Let's go layer by layer:\n",
        "\n",
        "\n",
        "We see the output at the \"elt\" dest position, and the value at the \"idx\" src position in layer 0 fully recovers performance. This suggests that 0.0 moves the \"idx\" token information to the \"elt\" residual stream, as expected.\n",
        "\n",
        "\n",
        "In L1, we can see that patching in the key at the \"elt\" source position fully recovers performance. This combined with the L0 patching results suggests that the output of 0.0 is used as a key for the \"elt\" position.\n",
        "\n",
        "\n",
        "If this hypothesis is true, we should be able to read this off the QK circuit weights:"
      ],
      "metadata": {
        "id": "h4O4PVR-Jy4p"
      }
    },
    {
      "cell_type": "markdown",
      "source": [
        "## K-composition circuit"
      ],
      "metadata": {
        "id": "aD3JUU9kKd55"
      }
    },
    {
      "cell_type": "markdown",
      "source": [
        "The relevant circuit is:\n",
        "\n",
        "\n",
        "$W_{pos}W_{QK}^{1.0}(W_{OV}^{0.0})^TW_E^T$.\n",
        "\n",
        "\n",
        "We expect to see a strong diagonal for the query positions corresponding to the prediction positions, and the tokens corresponding to the “idx” tokens. This can be interpreted as \"this prediction position should attend strongly to the src residual stream that attended fully to these src tokens in the previous layer\""
      ],
      "metadata": {
        "id": "ayoqb0WFKf3J"
      }
    },
    {
      "cell_type": "code",
      "source": [
        "W_pos = model.W_pos\n",
        "print(W_pos.shape)"
      ],
      "metadata": {
        "colab": {
          "base_uri": "https://localhost:8080/"
        },
        "id": "wZ04Cv-AKsOw",
        "outputId": "4b78fdad-2c46-45b9-8946-8b1a8ce49ef1"
      },
      "execution_count": 282,
      "outputs": [
        {
          "output_type": "stream",
          "name": "stdout",
          "text": [
            "torch.Size([11, 128])\n"
          ]
        }
      ]
    },
    {
      "cell_type": "code",
      "source": [
        "k_comp_circuit = W_pos @ model.QK[1,0].AB @ model.OV[0,0].AB.T @ W_E.T\n",
        "print(k_comp_circuit.shape)"
      ],
      "metadata": {
        "colab": {
          "base_uri": "https://localhost:8080/"
        },
        "id": "52KTDlZBKfNn",
        "outputId": "127a07b2-cadf-498a-ebbc-2efe371c20de"
      },
      "execution_count": 283,
      "outputs": [
        {
          "output_type": "stream",
          "name": "stdout",
          "text": [
            "torch.Size([11, 52])\n"
          ]
        }
      ]
    },
    {
      "cell_type": "code",
      "source": [
        "imshow(\n",
        "    k_comp_circuit,\n",
        "    yaxis=\"dest pos\", xaxis=\"src token\",\n",
        "    y=labels,\n",
        "    title=\"K comp circuit W_pos @ W_QK^1.0 @ (W_OV^0.0)^T @ W_E^T\"\n",
        ")"
      ],
      "metadata": {
        "colab": {
          "base_uri": "https://localhost:8080/",
          "height": 542
        },
        "id": "qjk2l3swJs0m",
        "outputId": "d8c9870b-5ae4-4c34-ea3f-fe8c8b5be931"
      },
      "execution_count": 284,
      "outputs": [
        {
          "output_type": "display_data",
          "data": {
            "text/html": [
              "<html>\n",
              "<head><meta charset=\"utf-8\" /></head>\n",
              "<body>\n",
              "    <div>            <script src=\"https://cdnjs.cloudflare.com/ajax/libs/mathjax/2.7.5/MathJax.js?config=TeX-AMS-MML_SVG\"></script><script type=\"text/javascript\">if (window.MathJax && window.MathJax.Hub && window.MathJax.Hub.Config) {window.MathJax.Hub.Config({SVG: {font: \"STIX-Web\"}});}</script>                <script type=\"text/javascript\">window.PlotlyConfig = {MathJaxConfig: 'local'};</script>\n",
              "        <script src=\"https://cdn.plot.ly/plotly-2.18.2.min.js\"></script>                <div id=\"4d09b4ba-9cf0-4c92-b14a-aed88bdbaf3c\" class=\"plotly-graph-div\" style=\"height:525px; width:100%;\"></div>            <script type=\"text/javascript\">                                    window.PLOTLYENV=window.PLOTLYENV || {};                                    if (document.getElementById(\"4d09b4ba-9cf0-4c92-b14a-aed88bdbaf3c\")) {                    Plotly.newPlot(                        \"4d09b4ba-9cf0-4c92-b14a-aed88bdbaf3c\",                        [{\"coloraxis\":\"coloraxis\",\"name\":\"0\",\"y\":[\"BOS\",\"14_1\",\"23_2\",\"48_3\",\"nl_0\",\"1_5\",\"26_6\",\"nl_1\",\"14_8\",\"26_9\",\"48_10\"],\"z\":[[23.7674617767334,3.1382293701171875,-22.959348678588867,0.6609514355659485,2.7586135864257812,2.366213083267212,4.557624340057373,1.7399237155914307,-5.64299201965332,-0.16217821836471558,-7.064314842224121,2.262181282043457,-3.0612094402313232,1.7752084732055664,-0.9628200531005859,-3.4579575061798096,1.5214511156082153,3.092296600341797,1.4444384574890137,3.9129042625427246,-2.3932175636291504,-4.07688045501709,5.65773868560791,2.8894059658050537,3.0671398639678955,0.31614941358566284,0.3524583578109741,1.5287960767745972,-1.4887163639068604,1.176314115524292,-0.8668646812438965,-3.4684081077575684,-0.2976153492927551,-0.3447243273258209,-2.9259066581726074,-4.277495861053467,-2.973116874694824,-4.452644348144531,-2.714012622833252,5.9096360206604,-0.18981271982192993,-2.540494680404663,-0.5426944494247437,-0.9327669143676758,3.595283269882202,-2.8257322311401367,-3.0078670978546143,-2.835251569747925,4.045197010040283,-1.910460114479065,0.9392342567443848,1.7062242031097412],[-20.809049606323242,10.754789352416992,8.911049842834473,0.3619067966938019,-1.6233946084976196,0.2443825900554657,-3.3158559799194336,-1.024774432182312,2.4400010108947754,-1.1099590063095093,3.5421009063720703,-1.0414186716079712,2.622701406478882,-3.9838242530822754,0.8701420426368713,2.363560438156128,0.058760687708854675,-1.7299249172210693,0.06922321021556854,-4.270160675048828,1.746138095855713,3.2005774974823,-3.315201759338379,-2.423823833465576,-4.22255802154541,-0.30964529514312744,-1.4126838445663452,0.04703211784362793,1.8029882907867432,-1.5276095867156982,1.4794001579284668,1.4714610576629639,-1.256080150604248,0.9279418587684631,1.022094488143921,2.4740891456604004,-0.555630087852478,3.4472455978393555,2.564710855484009,-3.273383617401123,1.3818798065185547,3.450674533843994,0.8414722681045532,-0.19787722826004028,-1.7393196821212769,3.2227425575256348,2.4119606018066406,2.992879867553711,-3.452775001525879,0.5905978679656982,-0.6878414750099182,-1.049115538597107],[-9.241636276245117,-3.3651933670043945,13.880359649658203,-1.1553853750228882,-3.3607451915740967,-2.3168647289276123,-3.000408172607422,-1.1475458145141602,2.9816904067993164,1.6144471168518066,4.163766860961914,-1.136130452156067,1.107184886932373,-0.7046709060668945,0.4392644166946411,2.3490898609161377,-1.426323652267456,-2.2017836570739746,-1.2652498483657837,-2.580359697341919,1.954535722732544,3.439025402069092,-3.517324924468994,-2.2618136405944824,-0.8045711517333984,-0.9993622899055481,-1.1052844524383545,-0.9917334318161011,-0.14592140913009644,0.09442158043384552,-0.5091951489448547,2.7416274547576904,-0.04398465156555176,-1.0542426109313965,2.2877049446105957,1.1598284244537354,2.35528564453125,3.1916680335998535,1.6763101816177368,-4.570673942565918,2.2605321407318115,1.5404644012451172,-0.000280916690826416,-0.8423463106155396,-0.32646387815475464,0.5667026042938232,2.572622060775757,1.3539923429489136,-3.1244595050811768,1.2939733266830444,-2.2938504219055176,-2.6345982551574707],[3.9256343841552734,-12.025163650512695,9.166313171386719,-1.3177038431167603,-2.630096435546875,-2.6417386531829834,-1.5763689279556274,-0.5184018611907959,1.8405059576034546,2.365884780883789,1.6618280410766602,-1.1626625061035156,-1.0637890100479126,2.5204782485961914,0.1361405849456787,1.1404635906219482,-1.702986240386963,-1.4278578758239746,-1.7209281921386719,0.07700888812541962,0.7434138059616089,0.997611939907074,-1.7875828742980957,-0.9527970552444458,1.588798999786377,-0.18751919269561768,0.16945338249206543,-1.0760239362716675,-0.7899259328842163,1.0468432903289795,-2.0938076972961426,2.8854663372039795,1.1578211784362793,-1.4815914630889893,1.8786704540252686,0.035757243633270264,3.1955554485321045,1.343906283378601,-0.040832072496414185,-2.2501161098480225,1.1598976850509644,-0.3140002489089966,-0.40846502780914307,0.30853599309921265,0.7138407230377197,-1.1513713598251343,1.455960988998413,-0.9679301977157593,-1.492011308670044,0.596818208694458,-1.6799757480621338,-1.4523344039916992],[3.9164879322052,5.519584655761719,-13.571904182434082,2.4534785747528076,5.553833484649658,3.4932875633239746,4.262296676635742,0.5408040285110474,-2.951838731765747,-3.9916107654571533,-4.615415096282959,1.7854974269866943,-0.7308564186096191,-0.035762906074523926,-0.91559237241745,-3.1164464950561523,2.84901762008667,3.676665782928467,1.9410436153411865,4.1013994216918945,-2.2586638927459717,-5.109776973724365,4.4106950759887695,2.8839221000671387,0.00030857324600219727,1.2652971744537354,2.601983070373535,1.2889012098312378,0.7373754382133484,0.004560992121696472,1.4393396377563477,-3.840998649597168,-0.29343336820602417,1.5157749652862549,-2.9568817615509033,-1.2109049558639526,-3.132874011993408,-3.830897331237793,-2.052410840988159,5.739701747894287,-4.87347936630249,-2.509420871734619,0.258455753326416,1.0883398056030273,-0.2692815065383911,-0.9730557203292847,-4.107429504394531,-1.3228998184204102,4.83857536315918,-1.435873031616211,4.664543628692627,4.110633373260498],[5.121858596801758,4.7653398513793945,-15.010698318481445,2.703510046005249,6.159132957458496,4.307535648345947,4.59108829498291,0.503845751285553,-3.239790439605713,-4.204582214355469,-4.8342671394348145,1.3282421827316284,-0.5658120512962341,0.48775672912597656,-0.4293477535247803,-3.705711841583252,3.4143455028533936,3.918071746826172,2.0761704444885254,4.928028106689453,-3.5177571773529053,-5.832447528839111,4.567388534545898,3.6291699409484863,-0.034829914569854736,1.9345860481262207,2.7613117694854736,1.4337557554244995,1.1347730159759521,-0.3023628294467926,1.3619152307510376,-4.2053961753845215,0.301155686378479,1.454962968826294,-3.418886184692383,-0.4542521834373474,-3.593320369720459,-5.22443151473999,-2.498105525970459,6.708817481994629,-6.541070461273193,-2.931704044342041,0.16078831255435944,1.5144537687301636,-1.3914508819580078,-0.33526718616485596,-5.46097469329834,-1.3201563358306885,5.37251615524292,-1.1078128814697266,5.749272346496582,5.0096116065979],[-14.96646499633789,4.2557373046875,11.92409896850586,-1.1147000789642334,-3.3523452281951904,-1.2748630046844482,-4.122498035430908,-0.6417859196662903,3.19354248046875,0.9161949157714844,4.285342216491699,-1.7529938220977783,2.3160009384155273,-2.25950288772583,0.7590386867523193,3.149475336074829,-0.7845953106880188,-2.8054275512695312,-0.7442314624786377,-4.64156436920166,1.7791030406951904,4.521728038787842,-4.007157802581787,-2.745391607284546,-2.2871878147125244,-0.5447009205818176,-1.6161584854125977,-0.7172490358352661,1.0440367460250854,-1.037402629852295,0.22417189180850983,2.5537264347076416,-1.076382040977478,-0.22141630947589874,2.056209087371826,2.134563446044922,1.2955454587936401,3.340500831604004,2.5196118354797363,-4.383747100830078,3.233086347579956,2.81170916557312,0.11871904134750366,-0.5171001553535461,-1.188073992729187,2.456787586212158,2.660196542739868,3.027149200439453,-3.9109692573547363,1.2998653650283813,-2.8049352169036865,-2.8121156692504883],[119.12007141113281,-80.60721588134766,-52.36384201049805,6.408480644226074,20.081666946411133,5.808067321777344,23.492219924926758,7.790942192077637,-16.597354888916016,-4.57208251953125,-27.81466293334961,4.002609729766846,-20.785245895385742,30.737037658691406,-7.759940147399902,-22.57350730895996,2.6452903747558594,17.311063766479492,2.60880184173584,37.553367614746094,-16.628135681152344,-34.992149353027344,25.565881729125977,18.85713005065918,19.39832878112793,8.229984283447266,16.3048095703125,3.1998281478881836,-9.62796688079834,9.984467506408691,-6.257954120635986,-10.404586791992188,11.437271118164062,-5.4044694900512695,-9.47700023651123,-10.759466171264648,4.068985939025879,-25.501197814941406,-19.832107543945312,28.427669525146484,-23.62145233154297,-24.155750274658203,-4.322316646575928,12.578767776489258,6.3994140625,-21.28824806213379,-21.997913360595703,-23.498580932617188,28.339853286743164,-3.3824005126953125,18.650550842285156,19.086711883544922],[-78.9754638671875,135.5241241455078,-58.8785514831543,7.856809616088867,12.267786026000977,19.421239852905273,3.259730815887451,-1.2052900791168213,-5.8792948722839355,-20.131771087646484,-6.170254707336426,4.905302047729492,16.1920223236084,-32.92292022705078,3.638523578643799,0.790043830871582,15.642616271972656,4.8555498123168945,10.767511367797852,-14.278167724609375,0.6028039455413818,5.970832824707031,3.131122589111328,-1.0761351585388184,-20.769779205322266,2.215557336807251,-6.468619346618652,8.56783676147461,13.02015495300293,-11.3450345993042,16.325345993041992,-17.21628761291504,-14.291540145874023,13.93582534790039,-10.09225082397461,3.403604507446289,-28.423351287841797,-2.494723320007324,8.74667739868164,10.016234397888184,-1.2583755254745483,10.773027420043945,3.7421798706054688,-9.158418655395508,-6.881226062774658,18.134233474731445,-6.222316741943359,16.451143264770508,1.2886581420898438,-3.9381253719329834,7.473094940185547,5.757835388183594],[-68.3034896850586,-81.84085083007812,106.49485778808594,4.537117004394531,4.045627117156982,-7.596648216247559,-8.505379676818848,-7.9797892570495605,22.18398094177246,-10.134683609008789,19.04636573791504,-9.419303894042969,1.2650154829025269,13.110795021057129,0.10286855697631836,2.275543212890625,-2.5575976371765137,-1.6234358549118042,-6.275815486907959,10.592691421508789,1.265207290649414,-9.248640060424805,-12.88129711151123,-1.368430256843567,-7.103154182434082,6.628661155700684,15.78494644165039,-6.7981157302856445,3.6044068336486816,2.647937297821045,-0.05896472930908203,13.385391235351562,10.576200485229492,-1.1378734111785889,9.510420799255371,16.945690155029297,20.4664363861084,6.630610942840576,-0.4704270362854004,-10.993022918701172,-25.590469360351562,-4.839228630065918,1.1246933937072754,17.31382179260254,-16.800504684448242,-0.28719186782836914,-3.1856653690338135,-2.6027987003326416,1.3399510383605957,7.5345964431762695,17.001699447631836,9.519720077514648],[-8.237449645996094,5.228631973266602,3.5842413902282715,-0.339345782995224,-1.223206877708435,0.04800496995449066,-1.5509635210037231,-0.5788163542747498,0.9205681085586548,-0.09064497798681259,1.6286122798919678,-0.19612914323806763,1.41438627243042,-2.0566558837890625,0.3480944037437439,1.459204077720642,0.30215054750442505,-1.0669866800308228,0.12601174414157867,-2.0268325805664062,0.8721860647201538,1.8797986507415771,-1.647512674331665,-1.2228642702102661,-1.205844759941101,-0.3698638081550598,-0.6726934313774109,-0.11546571552753448,0.5551934838294983,-0.3959451913833618,0.2566324472427368,0.46531665325164795,-0.8978844881057739,0.2919287085533142,0.579710841178894,0.5505470037460327,-0.2253667265176773,1.653760313987732,1.3356273174285889,-1.6295092105865479,0.9242089986801147,1.5305981636047363,0.4097411334514618,-0.7354763746261597,-0.3944532573223114,1.3851909637451172,0.8830722570419312,1.4308351278305054,-1.4832693338394165,0.11815907806158066,-0.8104511499404907,-1.0216702222824097]],\"type\":\"heatmap\",\"xaxis\":\"x\",\"yaxis\":\"y\",\"hovertemplate\":\"src token: %{x}<br>dest pos: %{y}<br>color: %{z}<extra></extra>\"}],                        {\"template\":{\"data\":{\"histogram2dcontour\":[{\"type\":\"histogram2dcontour\",\"colorbar\":{\"outlinewidth\":0,\"ticks\":\"\"},\"colorscale\":[[0.0,\"#0d0887\"],[0.1111111111111111,\"#46039f\"],[0.2222222222222222,\"#7201a8\"],[0.3333333333333333,\"#9c179e\"],[0.4444444444444444,\"#bd3786\"],[0.5555555555555556,\"#d8576b\"],[0.6666666666666666,\"#ed7953\"],[0.7777777777777778,\"#fb9f3a\"],[0.8888888888888888,\"#fdca26\"],[1.0,\"#f0f921\"]]}],\"choropleth\":[{\"type\":\"choropleth\",\"colorbar\":{\"outlinewidth\":0,\"ticks\":\"\"}}],\"histogram2d\":[{\"type\":\"histogram2d\",\"colorbar\":{\"outlinewidth\":0,\"ticks\":\"\"},\"colorscale\":[[0.0,\"#0d0887\"],[0.1111111111111111,\"#46039f\"],[0.2222222222222222,\"#7201a8\"],[0.3333333333333333,\"#9c179e\"],[0.4444444444444444,\"#bd3786\"],[0.5555555555555556,\"#d8576b\"],[0.6666666666666666,\"#ed7953\"],[0.7777777777777778,\"#fb9f3a\"],[0.8888888888888888,\"#fdca26\"],[1.0,\"#f0f921\"]]}],\"heatmap\":[{\"type\":\"heatmap\",\"colorbar\":{\"outlinewidth\":0,\"ticks\":\"\"},\"colorscale\":[[0.0,\"#0d0887\"],[0.1111111111111111,\"#46039f\"],[0.2222222222222222,\"#7201a8\"],[0.3333333333333333,\"#9c179e\"],[0.4444444444444444,\"#bd3786\"],[0.5555555555555556,\"#d8576b\"],[0.6666666666666666,\"#ed7953\"],[0.7777777777777778,\"#fb9f3a\"],[0.8888888888888888,\"#fdca26\"],[1.0,\"#f0f921\"]]}],\"heatmapgl\":[{\"type\":\"heatmapgl\",\"colorbar\":{\"outlinewidth\":0,\"ticks\":\"\"},\"colorscale\":[[0.0,\"#0d0887\"],[0.1111111111111111,\"#46039f\"],[0.2222222222222222,\"#7201a8\"],[0.3333333333333333,\"#9c179e\"],[0.4444444444444444,\"#bd3786\"],[0.5555555555555556,\"#d8576b\"],[0.6666666666666666,\"#ed7953\"],[0.7777777777777778,\"#fb9f3a\"],[0.8888888888888888,\"#fdca26\"],[1.0,\"#f0f921\"]]}],\"contourcarpet\":[{\"type\":\"contourcarpet\",\"colorbar\":{\"outlinewidth\":0,\"ticks\":\"\"}}],\"contour\":[{\"type\":\"contour\",\"colorbar\":{\"outlinewidth\":0,\"ticks\":\"\"},\"colorscale\":[[0.0,\"#0d0887\"],[0.1111111111111111,\"#46039f\"],[0.2222222222222222,\"#7201a8\"],[0.3333333333333333,\"#9c179e\"],[0.4444444444444444,\"#bd3786\"],[0.5555555555555556,\"#d8576b\"],[0.6666666666666666,\"#ed7953\"],[0.7777777777777778,\"#fb9f3a\"],[0.8888888888888888,\"#fdca26\"],[1.0,\"#f0f921\"]]}],\"surface\":[{\"type\":\"surface\",\"colorbar\":{\"outlinewidth\":0,\"ticks\":\"\"},\"colorscale\":[[0.0,\"#0d0887\"],[0.1111111111111111,\"#46039f\"],[0.2222222222222222,\"#7201a8\"],[0.3333333333333333,\"#9c179e\"],[0.4444444444444444,\"#bd3786\"],[0.5555555555555556,\"#d8576b\"],[0.6666666666666666,\"#ed7953\"],[0.7777777777777778,\"#fb9f3a\"],[0.8888888888888888,\"#fdca26\"],[1.0,\"#f0f921\"]]}],\"mesh3d\":[{\"type\":\"mesh3d\",\"colorbar\":{\"outlinewidth\":0,\"ticks\":\"\"}}],\"scatter\":[{\"fillpattern\":{\"fillmode\":\"overlay\",\"size\":10,\"solidity\":0.2},\"type\":\"scatter\"}],\"parcoords\":[{\"type\":\"parcoords\",\"line\":{\"colorbar\":{\"outlinewidth\":0,\"ticks\":\"\"}}}],\"scatterpolargl\":[{\"type\":\"scatterpolargl\",\"marker\":{\"colorbar\":{\"outlinewidth\":0,\"ticks\":\"\"}}}],\"bar\":[{\"error_x\":{\"color\":\"#2a3f5f\"},\"error_y\":{\"color\":\"#2a3f5f\"},\"marker\":{\"line\":{\"color\":\"#E5ECF6\",\"width\":0.5},\"pattern\":{\"fillmode\":\"overlay\",\"size\":10,\"solidity\":0.2}},\"type\":\"bar\"}],\"scattergeo\":[{\"type\":\"scattergeo\",\"marker\":{\"colorbar\":{\"outlinewidth\":0,\"ticks\":\"\"}}}],\"scatterpolar\":[{\"type\":\"scatterpolar\",\"marker\":{\"colorbar\":{\"outlinewidth\":0,\"ticks\":\"\"}}}],\"histogram\":[{\"marker\":{\"pattern\":{\"fillmode\":\"overlay\",\"size\":10,\"solidity\":0.2}},\"type\":\"histogram\"}],\"scattergl\":[{\"type\":\"scattergl\",\"marker\":{\"colorbar\":{\"outlinewidth\":0,\"ticks\":\"\"}}}],\"scatter3d\":[{\"type\":\"scatter3d\",\"line\":{\"colorbar\":{\"outlinewidth\":0,\"ticks\":\"\"}},\"marker\":{\"colorbar\":{\"outlinewidth\":0,\"ticks\":\"\"}}}],\"scattermapbox\":[{\"type\":\"scattermapbox\",\"marker\":{\"colorbar\":{\"outlinewidth\":0,\"ticks\":\"\"}}}],\"scatterternary\":[{\"type\":\"scatterternary\",\"marker\":{\"colorbar\":{\"outlinewidth\":0,\"ticks\":\"\"}}}],\"scattercarpet\":[{\"type\":\"scattercarpet\",\"marker\":{\"colorbar\":{\"outlinewidth\":0,\"ticks\":\"\"}}}],\"carpet\":[{\"aaxis\":{\"endlinecolor\":\"#2a3f5f\",\"gridcolor\":\"white\",\"linecolor\":\"white\",\"minorgridcolor\":\"white\",\"startlinecolor\":\"#2a3f5f\"},\"baxis\":{\"endlinecolor\":\"#2a3f5f\",\"gridcolor\":\"white\",\"linecolor\":\"white\",\"minorgridcolor\":\"white\",\"startlinecolor\":\"#2a3f5f\"},\"type\":\"carpet\"}],\"table\":[{\"cells\":{\"fill\":{\"color\":\"#EBF0F8\"},\"line\":{\"color\":\"white\"}},\"header\":{\"fill\":{\"color\":\"#C8D4E3\"},\"line\":{\"color\":\"white\"}},\"type\":\"table\"}],\"barpolar\":[{\"marker\":{\"line\":{\"color\":\"#E5ECF6\",\"width\":0.5},\"pattern\":{\"fillmode\":\"overlay\",\"size\":10,\"solidity\":0.2}},\"type\":\"barpolar\"}],\"pie\":[{\"automargin\":true,\"type\":\"pie\"}]},\"layout\":{\"autotypenumbers\":\"strict\",\"colorway\":[\"#636efa\",\"#EF553B\",\"#00cc96\",\"#ab63fa\",\"#FFA15A\",\"#19d3f3\",\"#FF6692\",\"#B6E880\",\"#FF97FF\",\"#FECB52\"],\"font\":{\"color\":\"#2a3f5f\"},\"hovermode\":\"closest\",\"hoverlabel\":{\"align\":\"left\"},\"paper_bgcolor\":\"white\",\"plot_bgcolor\":\"#E5ECF6\",\"polar\":{\"bgcolor\":\"#E5ECF6\",\"angularaxis\":{\"gridcolor\":\"white\",\"linecolor\":\"white\",\"ticks\":\"\"},\"radialaxis\":{\"gridcolor\":\"white\",\"linecolor\":\"white\",\"ticks\":\"\"}},\"ternary\":{\"bgcolor\":\"#E5ECF6\",\"aaxis\":{\"gridcolor\":\"white\",\"linecolor\":\"white\",\"ticks\":\"\"},\"baxis\":{\"gridcolor\":\"white\",\"linecolor\":\"white\",\"ticks\":\"\"},\"caxis\":{\"gridcolor\":\"white\",\"linecolor\":\"white\",\"ticks\":\"\"}},\"coloraxis\":{\"colorbar\":{\"outlinewidth\":0,\"ticks\":\"\"}},\"colorscale\":{\"sequential\":[[0.0,\"#0d0887\"],[0.1111111111111111,\"#46039f\"],[0.2222222222222222,\"#7201a8\"],[0.3333333333333333,\"#9c179e\"],[0.4444444444444444,\"#bd3786\"],[0.5555555555555556,\"#d8576b\"],[0.6666666666666666,\"#ed7953\"],[0.7777777777777778,\"#fb9f3a\"],[0.8888888888888888,\"#fdca26\"],[1.0,\"#f0f921\"]],\"sequentialminus\":[[0.0,\"#0d0887\"],[0.1111111111111111,\"#46039f\"],[0.2222222222222222,\"#7201a8\"],[0.3333333333333333,\"#9c179e\"],[0.4444444444444444,\"#bd3786\"],[0.5555555555555556,\"#d8576b\"],[0.6666666666666666,\"#ed7953\"],[0.7777777777777778,\"#fb9f3a\"],[0.8888888888888888,\"#fdca26\"],[1.0,\"#f0f921\"]],\"diverging\":[[0,\"#8e0152\"],[0.1,\"#c51b7d\"],[0.2,\"#de77ae\"],[0.3,\"#f1b6da\"],[0.4,\"#fde0ef\"],[0.5,\"#f7f7f7\"],[0.6,\"#e6f5d0\"],[0.7,\"#b8e186\"],[0.8,\"#7fbc41\"],[0.9,\"#4d9221\"],[1,\"#276419\"]]},\"xaxis\":{\"gridcolor\":\"white\",\"linecolor\":\"white\",\"ticks\":\"\",\"title\":{\"standoff\":15},\"zerolinecolor\":\"white\",\"automargin\":true,\"zerolinewidth\":2},\"yaxis\":{\"gridcolor\":\"white\",\"linecolor\":\"white\",\"ticks\":\"\",\"title\":{\"standoff\":15},\"zerolinecolor\":\"white\",\"automargin\":true,\"zerolinewidth\":2},\"scene\":{\"xaxis\":{\"backgroundcolor\":\"#E5ECF6\",\"gridcolor\":\"white\",\"linecolor\":\"white\",\"showbackground\":true,\"ticks\":\"\",\"zerolinecolor\":\"white\",\"gridwidth\":2},\"yaxis\":{\"backgroundcolor\":\"#E5ECF6\",\"gridcolor\":\"white\",\"linecolor\":\"white\",\"showbackground\":true,\"ticks\":\"\",\"zerolinecolor\":\"white\",\"gridwidth\":2},\"zaxis\":{\"backgroundcolor\":\"#E5ECF6\",\"gridcolor\":\"white\",\"linecolor\":\"white\",\"showbackground\":true,\"ticks\":\"\",\"zerolinecolor\":\"white\",\"gridwidth\":2}},\"shapedefaults\":{\"line\":{\"color\":\"#2a3f5f\"}},\"annotationdefaults\":{\"arrowcolor\":\"#2a3f5f\",\"arrowhead\":0,\"arrowwidth\":1},\"geo\":{\"bgcolor\":\"white\",\"landcolor\":\"#E5ECF6\",\"subunitcolor\":\"white\",\"showland\":true,\"showlakes\":true,\"lakecolor\":\"white\"},\"title\":{\"x\":0.05},\"mapbox\":{\"style\":\"light\"}}},\"xaxis\":{\"anchor\":\"y\",\"domain\":[0.0,1.0],\"scaleanchor\":\"y\",\"constrain\":\"domain\",\"title\":{\"text\":\"src token\"}},\"yaxis\":{\"anchor\":\"x\",\"domain\":[0.0,1.0],\"autorange\":\"reversed\",\"constrain\":\"domain\",\"title\":{\"text\":\"dest pos\"}},\"coloraxis\":{\"colorscale\":[[0.0,\"rgb(103,0,31)\"],[0.1,\"rgb(178,24,43)\"],[0.2,\"rgb(214,96,77)\"],[0.3,\"rgb(244,165,130)\"],[0.4,\"rgb(253,219,199)\"],[0.5,\"rgb(247,247,247)\"],[0.6,\"rgb(209,229,240)\"],[0.7,\"rgb(146,197,222)\"],[0.8,\"rgb(67,147,195)\"],[0.9,\"rgb(33,102,172)\"],[1.0,\"rgb(5,48,97)\"]],\"cmid\":0.0},\"title\":{\"text\":\"K comp circuit W_pos @ W_QK^1.0 @ (W_OV^0.0)^T @ W_E^T\"}},                        {\"responsive\": true}                    ).then(function(){\n",
              "                            \n",
              "var gd = document.getElementById('4d09b4ba-9cf0-4c92-b14a-aed88bdbaf3c');\n",
              "var x = new MutationObserver(function (mutations, observer) {{\n",
              "        var display = window.getComputedStyle(gd).display;\n",
              "        if (!display || display === 'none') {{\n",
              "            console.log([gd, 'removed!']);\n",
              "            Plotly.purge(gd);\n",
              "            observer.disconnect();\n",
              "        }}\n",
              "}});\n",
              "\n",
              "// Listen for the removal of the full notebook cells\n",
              "var notebookContainer = gd.closest('#notebook-container');\n",
              "if (notebookContainer) {{\n",
              "    x.observe(notebookContainer, {childList: true});\n",
              "}}\n",
              "\n",
              "// Listen for the clearing of the current output cell\n",
              "var outputEl = gd.closest('.output');\n",
              "if (outputEl) {{\n",
              "    x.observe(outputEl, {childList: true});\n",
              "}}\n",
              "\n",
              "                        })                };                            </script>        </div>\n",
              "</body>\n",
              "</html>"
            ]
          },
          "metadata": {}
        }
      ]
    },
    {
      "cell_type": "markdown",
      "source": [
        "Notice that dominant 3x3 sub square in the bottom left with the strong positive diagonal, as expected.\n",
        "\n",
        "\n",
        "A natural next question is how does the model also predict the indices that aren't updated? One hypothesis is that it just attends to the fixed position by default, but the K-comp circuit overwrites this with higher attn scores:"
      ],
      "metadata": {
        "id": "m_c8obXCLd_V"
      }
    },
    {
      "cell_type": "markdown",
      "source": [
        "## 1.0 Full QK circuit"
      ],
      "metadata": {
        "id": "QRm4SoL3LsS6"
      }
    },
    {
      "cell_type": "code",
      "source": [
        "full_QK_circuit = W_pos @ model.QK[1,0].AB @ W_pos.T\n",
        "print(full_QK_circuit.shape)"
      ],
      "metadata": {
        "colab": {
          "base_uri": "https://localhost:8080/"
        },
        "id": "Zv_YOJyXLbqQ",
        "outputId": "6fd6c15b-ee3e-495d-90f2-f24d792cdd3d"
      },
      "execution_count": 285,
      "outputs": [
        {
          "output_type": "stream",
          "name": "stdout",
          "text": [
            "torch.Size([11, 11])\n"
          ]
        }
      ]
    },
    {
      "cell_type": "code",
      "source": [
        "imshow(\n",
        "    full_QK_circuit.tril(),\n",
        "    title=\"1.0 Full QK circuit W_pos @ W_QK^1.0 @ W_pos.T\",\n",
        "    xaxis=\"src pos\", yaxis=\"dest pos\",\n",
        "    x=labels, y=labels\n",
        ")"
      ],
      "metadata": {
        "colab": {
          "base_uri": "https://localhost:8080/",
          "height": 542
        },
        "id": "XVFPy4PiLz8u",
        "outputId": "e1f627aa-7ab1-4c87-fe4f-778191cb68aa"
      },
      "execution_count": 286,
      "outputs": [
        {
          "output_type": "display_data",
          "data": {
            "text/html": [
              "<html>\n",
              "<head><meta charset=\"utf-8\" /></head>\n",
              "<body>\n",
              "    <div>            <script src=\"https://cdnjs.cloudflare.com/ajax/libs/mathjax/2.7.5/MathJax.js?config=TeX-AMS-MML_SVG\"></script><script type=\"text/javascript\">if (window.MathJax && window.MathJax.Hub && window.MathJax.Hub.Config) {window.MathJax.Hub.Config({SVG: {font: \"STIX-Web\"}});}</script>                <script type=\"text/javascript\">window.PlotlyConfig = {MathJaxConfig: 'local'};</script>\n",
              "        <script src=\"https://cdn.plot.ly/plotly-2.18.2.min.js\"></script>                <div id=\"3cd9366b-a668-4637-a7c7-5f7b45931120\" class=\"plotly-graph-div\" style=\"height:525px; width:100%;\"></div>            <script type=\"text/javascript\">                                    window.PLOTLYENV=window.PLOTLYENV || {};                                    if (document.getElementById(\"3cd9366b-a668-4637-a7c7-5f7b45931120\")) {                    Plotly.newPlot(                        \"3cd9366b-a668-4637-a7c7-5f7b45931120\",                        [{\"coloraxis\":\"coloraxis\",\"name\":\"0\",\"x\":[\"BOS\",\"14_1\",\"23_2\",\"48_3\",\"nl_0\",\"1_5\",\"26_6\",\"nl_1\",\"14_8\",\"26_9\",\"48_10\"],\"y\":[\"BOS\",\"14_1\",\"23_2\",\"48_3\",\"nl_0\",\"1_5\",\"26_6\",\"nl_1\",\"14_8\",\"26_9\",\"48_10\"],\"z\":[[-5.05070686340332,0.0,0.0,0.0,0.0,0.0,0.0,0.0,0.0,0.0,0.0],[2.2146663665771484,-5.762221813201904,0.0,0.0,0.0,0.0,0.0,0.0,0.0,0.0,0.0],[7.019451141357422,-3.3040263652801514,-3.9697957038879395,0.0,0.0,0.0,0.0,0.0,0.0,0.0,0.0],[5.2810893058776855,0.3975541889667511,-6.170900821685791,2.4005391597747803,0.0,0.0,0.0,0.0,0.0,0.0,0.0],[-12.222111701965332,2.1893227100372314,7.34596061706543,-3.1109306812286377,-10.694825172424316,0.0,0.0,0.0,0.0,0.0,0.0],[-13.98961353302002,2.981936454772949,7.500792503356934,-3.067939519882202,-12.528660774230957,-6.185547828674316,0.0,0.0,0.0,0.0,0.0],[7.495473384857178,-4.642010688781738,-1.7835005521774292,4.022971153259277,4.954774856567383,2.573948621749878,-4.0482330322265625,0.0,0.0,0.0,0.0],[-42.83724594116211,35.14687728881836,-8.448433876037598,-17.56131935119629,-30.904001235961914,-15.664677619934082,21.27330780029297,-20.058130264282227,0.0,0.0,0.0],[-28.78352928161621,-16.294038772583008,56.984317779541016,-14.531396865844727,-23.9643611907959,-12.863848686218262,30.265838623046875,-25.609880447387695,-17.902328491210938,0.0,0.0],[-19.35894203186035,-17.637203216552734,-15.749039649963379,57.11734390258789,-54.25517654418945,-22.190574645996094,43.523921966552734,-41.86870193481445,-41.414878845214844,-22.936567306518555,0.0],[2.1438019275665283,-2.384047746658325,0.7432293891906738,1.297663927078247,1.253610372543335,0.7781563997268677,-0.7667676210403442,0.7931943535804749,0.2071642428636551,-0.19683368504047394,-0.0009627629187889397]],\"type\":\"heatmap\",\"xaxis\":\"x\",\"yaxis\":\"y\",\"hovertemplate\":\"src pos: %{x}<br>dest pos: %{y}<br>color: %{z}<extra></extra>\"}],                        {\"template\":{\"data\":{\"histogram2dcontour\":[{\"type\":\"histogram2dcontour\",\"colorbar\":{\"outlinewidth\":0,\"ticks\":\"\"},\"colorscale\":[[0.0,\"#0d0887\"],[0.1111111111111111,\"#46039f\"],[0.2222222222222222,\"#7201a8\"],[0.3333333333333333,\"#9c179e\"],[0.4444444444444444,\"#bd3786\"],[0.5555555555555556,\"#d8576b\"],[0.6666666666666666,\"#ed7953\"],[0.7777777777777778,\"#fb9f3a\"],[0.8888888888888888,\"#fdca26\"],[1.0,\"#f0f921\"]]}],\"choropleth\":[{\"type\":\"choropleth\",\"colorbar\":{\"outlinewidth\":0,\"ticks\":\"\"}}],\"histogram2d\":[{\"type\":\"histogram2d\",\"colorbar\":{\"outlinewidth\":0,\"ticks\":\"\"},\"colorscale\":[[0.0,\"#0d0887\"],[0.1111111111111111,\"#46039f\"],[0.2222222222222222,\"#7201a8\"],[0.3333333333333333,\"#9c179e\"],[0.4444444444444444,\"#bd3786\"],[0.5555555555555556,\"#d8576b\"],[0.6666666666666666,\"#ed7953\"],[0.7777777777777778,\"#fb9f3a\"],[0.8888888888888888,\"#fdca26\"],[1.0,\"#f0f921\"]]}],\"heatmap\":[{\"type\":\"heatmap\",\"colorbar\":{\"outlinewidth\":0,\"ticks\":\"\"},\"colorscale\":[[0.0,\"#0d0887\"],[0.1111111111111111,\"#46039f\"],[0.2222222222222222,\"#7201a8\"],[0.3333333333333333,\"#9c179e\"],[0.4444444444444444,\"#bd3786\"],[0.5555555555555556,\"#d8576b\"],[0.6666666666666666,\"#ed7953\"],[0.7777777777777778,\"#fb9f3a\"],[0.8888888888888888,\"#fdca26\"],[1.0,\"#f0f921\"]]}],\"heatmapgl\":[{\"type\":\"heatmapgl\",\"colorbar\":{\"outlinewidth\":0,\"ticks\":\"\"},\"colorscale\":[[0.0,\"#0d0887\"],[0.1111111111111111,\"#46039f\"],[0.2222222222222222,\"#7201a8\"],[0.3333333333333333,\"#9c179e\"],[0.4444444444444444,\"#bd3786\"],[0.5555555555555556,\"#d8576b\"],[0.6666666666666666,\"#ed7953\"],[0.7777777777777778,\"#fb9f3a\"],[0.8888888888888888,\"#fdca26\"],[1.0,\"#f0f921\"]]}],\"contourcarpet\":[{\"type\":\"contourcarpet\",\"colorbar\":{\"outlinewidth\":0,\"ticks\":\"\"}}],\"contour\":[{\"type\":\"contour\",\"colorbar\":{\"outlinewidth\":0,\"ticks\":\"\"},\"colorscale\":[[0.0,\"#0d0887\"],[0.1111111111111111,\"#46039f\"],[0.2222222222222222,\"#7201a8\"],[0.3333333333333333,\"#9c179e\"],[0.4444444444444444,\"#bd3786\"],[0.5555555555555556,\"#d8576b\"],[0.6666666666666666,\"#ed7953\"],[0.7777777777777778,\"#fb9f3a\"],[0.8888888888888888,\"#fdca26\"],[1.0,\"#f0f921\"]]}],\"surface\":[{\"type\":\"surface\",\"colorbar\":{\"outlinewidth\":0,\"ticks\":\"\"},\"colorscale\":[[0.0,\"#0d0887\"],[0.1111111111111111,\"#46039f\"],[0.2222222222222222,\"#7201a8\"],[0.3333333333333333,\"#9c179e\"],[0.4444444444444444,\"#bd3786\"],[0.5555555555555556,\"#d8576b\"],[0.6666666666666666,\"#ed7953\"],[0.7777777777777778,\"#fb9f3a\"],[0.8888888888888888,\"#fdca26\"],[1.0,\"#f0f921\"]]}],\"mesh3d\":[{\"type\":\"mesh3d\",\"colorbar\":{\"outlinewidth\":0,\"ticks\":\"\"}}],\"scatter\":[{\"fillpattern\":{\"fillmode\":\"overlay\",\"size\":10,\"solidity\":0.2},\"type\":\"scatter\"}],\"parcoords\":[{\"type\":\"parcoords\",\"line\":{\"colorbar\":{\"outlinewidth\":0,\"ticks\":\"\"}}}],\"scatterpolargl\":[{\"type\":\"scatterpolargl\",\"marker\":{\"colorbar\":{\"outlinewidth\":0,\"ticks\":\"\"}}}],\"bar\":[{\"error_x\":{\"color\":\"#2a3f5f\"},\"error_y\":{\"color\":\"#2a3f5f\"},\"marker\":{\"line\":{\"color\":\"#E5ECF6\",\"width\":0.5},\"pattern\":{\"fillmode\":\"overlay\",\"size\":10,\"solidity\":0.2}},\"type\":\"bar\"}],\"scattergeo\":[{\"type\":\"scattergeo\",\"marker\":{\"colorbar\":{\"outlinewidth\":0,\"ticks\":\"\"}}}],\"scatterpolar\":[{\"type\":\"scatterpolar\",\"marker\":{\"colorbar\":{\"outlinewidth\":0,\"ticks\":\"\"}}}],\"histogram\":[{\"marker\":{\"pattern\":{\"fillmode\":\"overlay\",\"size\":10,\"solidity\":0.2}},\"type\":\"histogram\"}],\"scattergl\":[{\"type\":\"scattergl\",\"marker\":{\"colorbar\":{\"outlinewidth\":0,\"ticks\":\"\"}}}],\"scatter3d\":[{\"type\":\"scatter3d\",\"line\":{\"colorbar\":{\"outlinewidth\":0,\"ticks\":\"\"}},\"marker\":{\"colorbar\":{\"outlinewidth\":0,\"ticks\":\"\"}}}],\"scattermapbox\":[{\"type\":\"scattermapbox\",\"marker\":{\"colorbar\":{\"outlinewidth\":0,\"ticks\":\"\"}}}],\"scatterternary\":[{\"type\":\"scatterternary\",\"marker\":{\"colorbar\":{\"outlinewidth\":0,\"ticks\":\"\"}}}],\"scattercarpet\":[{\"type\":\"scattercarpet\",\"marker\":{\"colorbar\":{\"outlinewidth\":0,\"ticks\":\"\"}}}],\"carpet\":[{\"aaxis\":{\"endlinecolor\":\"#2a3f5f\",\"gridcolor\":\"white\",\"linecolor\":\"white\",\"minorgridcolor\":\"white\",\"startlinecolor\":\"#2a3f5f\"},\"baxis\":{\"endlinecolor\":\"#2a3f5f\",\"gridcolor\":\"white\",\"linecolor\":\"white\",\"minorgridcolor\":\"white\",\"startlinecolor\":\"#2a3f5f\"},\"type\":\"carpet\"}],\"table\":[{\"cells\":{\"fill\":{\"color\":\"#EBF0F8\"},\"line\":{\"color\":\"white\"}},\"header\":{\"fill\":{\"color\":\"#C8D4E3\"},\"line\":{\"color\":\"white\"}},\"type\":\"table\"}],\"barpolar\":[{\"marker\":{\"line\":{\"color\":\"#E5ECF6\",\"width\":0.5},\"pattern\":{\"fillmode\":\"overlay\",\"size\":10,\"solidity\":0.2}},\"type\":\"barpolar\"}],\"pie\":[{\"automargin\":true,\"type\":\"pie\"}]},\"layout\":{\"autotypenumbers\":\"strict\",\"colorway\":[\"#636efa\",\"#EF553B\",\"#00cc96\",\"#ab63fa\",\"#FFA15A\",\"#19d3f3\",\"#FF6692\",\"#B6E880\",\"#FF97FF\",\"#FECB52\"],\"font\":{\"color\":\"#2a3f5f\"},\"hovermode\":\"closest\",\"hoverlabel\":{\"align\":\"left\"},\"paper_bgcolor\":\"white\",\"plot_bgcolor\":\"#E5ECF6\",\"polar\":{\"bgcolor\":\"#E5ECF6\",\"angularaxis\":{\"gridcolor\":\"white\",\"linecolor\":\"white\",\"ticks\":\"\"},\"radialaxis\":{\"gridcolor\":\"white\",\"linecolor\":\"white\",\"ticks\":\"\"}},\"ternary\":{\"bgcolor\":\"#E5ECF6\",\"aaxis\":{\"gridcolor\":\"white\",\"linecolor\":\"white\",\"ticks\":\"\"},\"baxis\":{\"gridcolor\":\"white\",\"linecolor\":\"white\",\"ticks\":\"\"},\"caxis\":{\"gridcolor\":\"white\",\"linecolor\":\"white\",\"ticks\":\"\"}},\"coloraxis\":{\"colorbar\":{\"outlinewidth\":0,\"ticks\":\"\"}},\"colorscale\":{\"sequential\":[[0.0,\"#0d0887\"],[0.1111111111111111,\"#46039f\"],[0.2222222222222222,\"#7201a8\"],[0.3333333333333333,\"#9c179e\"],[0.4444444444444444,\"#bd3786\"],[0.5555555555555556,\"#d8576b\"],[0.6666666666666666,\"#ed7953\"],[0.7777777777777778,\"#fb9f3a\"],[0.8888888888888888,\"#fdca26\"],[1.0,\"#f0f921\"]],\"sequentialminus\":[[0.0,\"#0d0887\"],[0.1111111111111111,\"#46039f\"],[0.2222222222222222,\"#7201a8\"],[0.3333333333333333,\"#9c179e\"],[0.4444444444444444,\"#bd3786\"],[0.5555555555555556,\"#d8576b\"],[0.6666666666666666,\"#ed7953\"],[0.7777777777777778,\"#fb9f3a\"],[0.8888888888888888,\"#fdca26\"],[1.0,\"#f0f921\"]],\"diverging\":[[0,\"#8e0152\"],[0.1,\"#c51b7d\"],[0.2,\"#de77ae\"],[0.3,\"#f1b6da\"],[0.4,\"#fde0ef\"],[0.5,\"#f7f7f7\"],[0.6,\"#e6f5d0\"],[0.7,\"#b8e186\"],[0.8,\"#7fbc41\"],[0.9,\"#4d9221\"],[1,\"#276419\"]]},\"xaxis\":{\"gridcolor\":\"white\",\"linecolor\":\"white\",\"ticks\":\"\",\"title\":{\"standoff\":15},\"zerolinecolor\":\"white\",\"automargin\":true,\"zerolinewidth\":2},\"yaxis\":{\"gridcolor\":\"white\",\"linecolor\":\"white\",\"ticks\":\"\",\"title\":{\"standoff\":15},\"zerolinecolor\":\"white\",\"automargin\":true,\"zerolinewidth\":2},\"scene\":{\"xaxis\":{\"backgroundcolor\":\"#E5ECF6\",\"gridcolor\":\"white\",\"linecolor\":\"white\",\"showbackground\":true,\"ticks\":\"\",\"zerolinecolor\":\"white\",\"gridwidth\":2},\"yaxis\":{\"backgroundcolor\":\"#E5ECF6\",\"gridcolor\":\"white\",\"linecolor\":\"white\",\"showbackground\":true,\"ticks\":\"\",\"zerolinecolor\":\"white\",\"gridwidth\":2},\"zaxis\":{\"backgroundcolor\":\"#E5ECF6\",\"gridcolor\":\"white\",\"linecolor\":\"white\",\"showbackground\":true,\"ticks\":\"\",\"zerolinecolor\":\"white\",\"gridwidth\":2}},\"shapedefaults\":{\"line\":{\"color\":\"#2a3f5f\"}},\"annotationdefaults\":{\"arrowcolor\":\"#2a3f5f\",\"arrowhead\":0,\"arrowwidth\":1},\"geo\":{\"bgcolor\":\"white\",\"landcolor\":\"#E5ECF6\",\"subunitcolor\":\"white\",\"showland\":true,\"showlakes\":true,\"lakecolor\":\"white\"},\"title\":{\"x\":0.05},\"mapbox\":{\"style\":\"light\"}}},\"xaxis\":{\"anchor\":\"y\",\"domain\":[0.0,1.0],\"scaleanchor\":\"y\",\"constrain\":\"domain\",\"title\":{\"text\":\"src pos\"}},\"yaxis\":{\"anchor\":\"x\",\"domain\":[0.0,1.0],\"autorange\":\"reversed\",\"constrain\":\"domain\",\"title\":{\"text\":\"dest pos\"}},\"coloraxis\":{\"colorscale\":[[0.0,\"rgb(103,0,31)\"],[0.1,\"rgb(178,24,43)\"],[0.2,\"rgb(214,96,77)\"],[0.3,\"rgb(244,165,130)\"],[0.4,\"rgb(253,219,199)\"],[0.5,\"rgb(247,247,247)\"],[0.6,\"rgb(209,229,240)\"],[0.7,\"rgb(146,197,222)\"],[0.8,\"rgb(67,147,195)\"],[0.9,\"rgb(33,102,172)\"],[1.0,\"rgb(5,48,97)\"]],\"cmid\":0.0},\"title\":{\"text\":\"1.0 Full QK circuit W_pos @ W_QK^1.0 @ W_pos.T\"}},                        {\"responsive\": true}                    ).then(function(){\n",
              "                            \n",
              "var gd = document.getElementById('3cd9366b-a668-4637-a7c7-5f7b45931120');\n",
              "var x = new MutationObserver(function (mutations, observer) {{\n",
              "        var display = window.getComputedStyle(gd).display;\n",
              "        if (!display || display === 'none') {{\n",
              "            console.log([gd, 'removed!']);\n",
              "            Plotly.purge(gd);\n",
              "            observer.disconnect();\n",
              "        }}\n",
              "}});\n",
              "\n",
              "// Listen for the removal of the full notebook cells\n",
              "var notebookContainer = gd.closest('#notebook-container');\n",
              "if (notebookContainer) {{\n",
              "    x.observe(notebookContainer, {childList: true});\n",
              "}}\n",
              "\n",
              "// Listen for the clearing of the current output cell\n",
              "var outputEl = gd.closest('.output');\n",
              "if (outputEl) {{\n",
              "    x.observe(outputEl, {childList: true});\n",
              "}}\n",
              "\n",
              "                        })                };                            </script>        </div>\n",
              "</body>\n",
              "</html>"
            ]
          },
          "metadata": {}
        }
      ]
    },
    {
      "cell_type": "markdown",
      "source": [
        "Notice the 3x3 subsquare, where prediction positions attend strongly to their corresponding list positions. However the magnitude of these is about 1/2 of the magnitude of the scores for the k-comp circuit, suggesting that the k-comp circuit can \"overwrites\" the attn scores from this circuit."
      ],
      "metadata": {
        "id": "9oNMzjkVL_88"
      }
    },
    {
      "cell_type": "markdown",
      "source": [
        "## More refined direct logit attribution"
      ],
      "metadata": {
        "id": "oeVFoibQMUTu"
      }
    },
    {
      "cell_type": "markdown",
      "source": [
        "I am convinced that attn head 1.0 can perform K-composition with 0.0 to attend to the correct answer and copy. But it's possible this is not the whole story. Direct logit attribution showed that the 1.0 output dominated, but that also includes the path through both attn heads (AKA the virtual attn head term). To check, we can try do some more refined direct logit attribution by decomposing 1_attn_out into these two terms:\n",
        "\n",
        "\n",
        "$$\n",
        "h_{1.0}(x_1) = A^{1.0}tW_EW_{OV}^{1.0}W_U + A^{1.0}\n",
        "A^{0.0}tW_EW_{OV}^{0.0}W_{OV}^{1.0}W_U\n",
        "$$\n",
        "\n",
        "\n",
        "Where $t$ is the input tokens as one hot encoded vectors."
      ],
      "metadata": {
        "id": "FuT8KMvcMatY"
      }
    },
    {
      "cell_type": "code",
      "source": [
        "embed_both_heads_term = einops.einsum(\n",
        "    cache['pattern', 1], cache['pattern', 0], cache['embed'], model.OV[0,0].AB, model.OV[1, 0].AB,\n",
        "    \"batch n_heads pos1 pos2, batch n_heads pos2 pos3, batch pos3 d_model1, d_model1 d_model2, d_model2 d_model3 -> batch pos1 d_model3\"\n",
        ")\n",
        "\n",
        "embed_head_1_term = einops.einsum(\n",
        "    cache['pattern', 1], cache['embed'], model.OV[1, 0].AB,\n",
        "    \"batch n_heads q_pos k_pos, batch k_pos d_model1, d_model1 d_model2 -> batch q_pos d_model2\"\n",
        ")\n",
        "\n",
        "print(embed_both_heads_term.shape)\n",
        "print(embed_head_1_term.shape)\n",
        "\n",
        "assert torch.allclose(embed_both_heads_term  + embed_head_1_term , cache['attn_out', 1], atol=1e-3)"
      ],
      "metadata": {
        "colab": {
          "base_uri": "https://localhost:8080/"
        },
        "id": "h0HMc1qVN3-f",
        "outputId": "b2d32386-d4f4-421f-c3a4-4dd79d644ec3"
      },
      "execution_count": 287,
      "outputs": [
        {
          "output_type": "stream",
          "name": "stdout",
          "text": [
            "torch.Size([256, 11, 128])\n",
            "torch.Size([256, 11, 128])\n"
          ]
        }
      ]
    },
    {
      "cell_type": "code",
      "source": [
        "h1_stack = torch.stack([embed_both_heads_term, embed_head_1_term])\n",
        "h1_stack = h1_stack[:, :, first_pred_pos, :]\n",
        "labels = [\"embed_both_heads_term\", \"embed_head_1_term\"]\n",
        "print(h1_stack.shape)\n",
        "print(labels)"
      ],
      "metadata": {
        "colab": {
          "base_uri": "https://localhost:8080/"
        },
        "id": "Vd-TbHAwVo3s",
        "outputId": "b34e5f5c-963b-4162-d2df-cb4a772c009f"
      },
      "execution_count": 288,
      "outputs": [
        {
          "output_type": "stream",
          "name": "stdout",
          "text": [
            "torch.Size([2, 256, 128])\n",
            "['embed_both_heads_term', 'embed_head_1_term']\n"
          ]
        }
      ]
    },
    {
      "cell_type": "code",
      "source": [
        "h1_contrib = einops.einsum(\n",
        "    h1_stack, logit_dirs,\n",
        "    \"... batch d_model, batch d_model -> ...\"\n",
        ") / h1_stack.shape[1]\n",
        "\n",
        "bar(\n",
        "    h1_contrib,\n",
        "    title=\"Decomposed 1_attn_out contribution to correct logit dirs\",\n",
        "    xaxis=\"component\", yaxis=\"Contribution\",\n",
        "    x=labels\n",
        ")"
      ],
      "metadata": {
        "colab": {
          "base_uri": "https://localhost:8080/",
          "height": 542
        },
        "id": "T_kqV73LWEE2",
        "outputId": "ab028795-010e-40f0-cc51-fc1d0f57f400"
      },
      "execution_count": 289,
      "outputs": [
        {
          "output_type": "display_data",
          "data": {
            "text/html": [
              "<html>\n",
              "<head><meta charset=\"utf-8\" /></head>\n",
              "<body>\n",
              "    <div>            <script src=\"https://cdnjs.cloudflare.com/ajax/libs/mathjax/2.7.5/MathJax.js?config=TeX-AMS-MML_SVG\"></script><script type=\"text/javascript\">if (window.MathJax && window.MathJax.Hub && window.MathJax.Hub.Config) {window.MathJax.Hub.Config({SVG: {font: \"STIX-Web\"}});}</script>                <script type=\"text/javascript\">window.PlotlyConfig = {MathJaxConfig: 'local'};</script>\n",
              "        <script src=\"https://cdn.plot.ly/plotly-2.18.2.min.js\"></script>                <div id=\"6f122eaf-3251-40c8-8ce5-8b63b3ebfb9a\" class=\"plotly-graph-div\" style=\"height:525px; width:100%;\"></div>            <script type=\"text/javascript\">                                    window.PLOTLYENV=window.PLOTLYENV || {};                                    if (document.getElementById(\"6f122eaf-3251-40c8-8ce5-8b63b3ebfb9a\")) {                    Plotly.newPlot(                        \"6f122eaf-3251-40c8-8ce5-8b63b3ebfb9a\",                        [{\"alignmentgroup\":\"True\",\"hovertemplate\":\"component=%{x}<br>Contribution=%{y}<extra></extra>\",\"legendgroup\":\"\",\"marker\":{\"color\":\"#1F77B4\",\"pattern\":{\"shape\":\"\"}},\"name\":\"\",\"offsetgroup\":\"\",\"orientation\":\"v\",\"showlegend\":false,\"textposition\":\"auto\",\"x\":[\"embed_both_heads_term\",\"embed_head_1_term\"],\"xaxis\":\"x\",\"y\":[12.606624603271484,8.062981605529785],\"yaxis\":\"y\",\"type\":\"bar\"}],                        {\"template\":{\"data\":{\"barpolar\":[{\"marker\":{\"line\":{\"color\":\"white\",\"width\":0.5},\"pattern\":{\"fillmode\":\"overlay\",\"size\":10,\"solidity\":0.2}},\"type\":\"barpolar\"}],\"bar\":[{\"error_x\":{\"color\":\"rgb(36,36,36)\"},\"error_y\":{\"color\":\"rgb(36,36,36)\"},\"marker\":{\"line\":{\"color\":\"white\",\"width\":0.5},\"pattern\":{\"fillmode\":\"overlay\",\"size\":10,\"solidity\":0.2}},\"type\":\"bar\"}],\"carpet\":[{\"aaxis\":{\"endlinecolor\":\"rgb(36,36,36)\",\"gridcolor\":\"white\",\"linecolor\":\"white\",\"minorgridcolor\":\"white\",\"startlinecolor\":\"rgb(36,36,36)\"},\"baxis\":{\"endlinecolor\":\"rgb(36,36,36)\",\"gridcolor\":\"white\",\"linecolor\":\"white\",\"minorgridcolor\":\"white\",\"startlinecolor\":\"rgb(36,36,36)\"},\"type\":\"carpet\"}],\"choropleth\":[{\"colorbar\":{\"outlinewidth\":1,\"tickcolor\":\"rgb(36,36,36)\",\"ticks\":\"outside\"},\"type\":\"choropleth\"}],\"contourcarpet\":[{\"colorbar\":{\"outlinewidth\":1,\"tickcolor\":\"rgb(36,36,36)\",\"ticks\":\"outside\"},\"type\":\"contourcarpet\"}],\"contour\":[{\"colorbar\":{\"outlinewidth\":1,\"tickcolor\":\"rgb(36,36,36)\",\"ticks\":\"outside\"},\"colorscale\":[[0.0,\"#440154\"],[0.1111111111111111,\"#482878\"],[0.2222222222222222,\"#3e4989\"],[0.3333333333333333,\"#31688e\"],[0.4444444444444444,\"#26828e\"],[0.5555555555555556,\"#1f9e89\"],[0.6666666666666666,\"#35b779\"],[0.7777777777777778,\"#6ece58\"],[0.8888888888888888,\"#b5de2b\"],[1.0,\"#fde725\"]],\"type\":\"contour\"}],\"heatmapgl\":[{\"colorbar\":{\"outlinewidth\":1,\"tickcolor\":\"rgb(36,36,36)\",\"ticks\":\"outside\"},\"colorscale\":[[0.0,\"#440154\"],[0.1111111111111111,\"#482878\"],[0.2222222222222222,\"#3e4989\"],[0.3333333333333333,\"#31688e\"],[0.4444444444444444,\"#26828e\"],[0.5555555555555556,\"#1f9e89\"],[0.6666666666666666,\"#35b779\"],[0.7777777777777778,\"#6ece58\"],[0.8888888888888888,\"#b5de2b\"],[1.0,\"#fde725\"]],\"type\":\"heatmapgl\"}],\"heatmap\":[{\"colorbar\":{\"outlinewidth\":1,\"tickcolor\":\"rgb(36,36,36)\",\"ticks\":\"outside\"},\"colorscale\":[[0.0,\"#440154\"],[0.1111111111111111,\"#482878\"],[0.2222222222222222,\"#3e4989\"],[0.3333333333333333,\"#31688e\"],[0.4444444444444444,\"#26828e\"],[0.5555555555555556,\"#1f9e89\"],[0.6666666666666666,\"#35b779\"],[0.7777777777777778,\"#6ece58\"],[0.8888888888888888,\"#b5de2b\"],[1.0,\"#fde725\"]],\"type\":\"heatmap\"}],\"histogram2dcontour\":[{\"colorbar\":{\"outlinewidth\":1,\"tickcolor\":\"rgb(36,36,36)\",\"ticks\":\"outside\"},\"colorscale\":[[0.0,\"#440154\"],[0.1111111111111111,\"#482878\"],[0.2222222222222222,\"#3e4989\"],[0.3333333333333333,\"#31688e\"],[0.4444444444444444,\"#26828e\"],[0.5555555555555556,\"#1f9e89\"],[0.6666666666666666,\"#35b779\"],[0.7777777777777778,\"#6ece58\"],[0.8888888888888888,\"#b5de2b\"],[1.0,\"#fde725\"]],\"type\":\"histogram2dcontour\"}],\"histogram2d\":[{\"colorbar\":{\"outlinewidth\":1,\"tickcolor\":\"rgb(36,36,36)\",\"ticks\":\"outside\"},\"colorscale\":[[0.0,\"#440154\"],[0.1111111111111111,\"#482878\"],[0.2222222222222222,\"#3e4989\"],[0.3333333333333333,\"#31688e\"],[0.4444444444444444,\"#26828e\"],[0.5555555555555556,\"#1f9e89\"],[0.6666666666666666,\"#35b779\"],[0.7777777777777778,\"#6ece58\"],[0.8888888888888888,\"#b5de2b\"],[1.0,\"#fde725\"]],\"type\":\"histogram2d\"}],\"histogram\":[{\"marker\":{\"line\":{\"color\":\"white\",\"width\":0.6}},\"type\":\"histogram\"}],\"mesh3d\":[{\"colorbar\":{\"outlinewidth\":1,\"tickcolor\":\"rgb(36,36,36)\",\"ticks\":\"outside\"},\"type\":\"mesh3d\"}],\"parcoords\":[{\"line\":{\"colorbar\":{\"outlinewidth\":1,\"tickcolor\":\"rgb(36,36,36)\",\"ticks\":\"outside\"}},\"type\":\"parcoords\"}],\"pie\":[{\"automargin\":true,\"type\":\"pie\"}],\"scatter3d\":[{\"line\":{\"colorbar\":{\"outlinewidth\":1,\"tickcolor\":\"rgb(36,36,36)\",\"ticks\":\"outside\"}},\"marker\":{\"colorbar\":{\"outlinewidth\":1,\"tickcolor\":\"rgb(36,36,36)\",\"ticks\":\"outside\"}},\"type\":\"scatter3d\"}],\"scattercarpet\":[{\"marker\":{\"colorbar\":{\"outlinewidth\":1,\"tickcolor\":\"rgb(36,36,36)\",\"ticks\":\"outside\"}},\"type\":\"scattercarpet\"}],\"scattergeo\":[{\"marker\":{\"colorbar\":{\"outlinewidth\":1,\"tickcolor\":\"rgb(36,36,36)\",\"ticks\":\"outside\"}},\"type\":\"scattergeo\"}],\"scattergl\":[{\"marker\":{\"colorbar\":{\"outlinewidth\":1,\"tickcolor\":\"rgb(36,36,36)\",\"ticks\":\"outside\"}},\"type\":\"scattergl\"}],\"scattermapbox\":[{\"marker\":{\"colorbar\":{\"outlinewidth\":1,\"tickcolor\":\"rgb(36,36,36)\",\"ticks\":\"outside\"}},\"type\":\"scattermapbox\"}],\"scatterpolargl\":[{\"marker\":{\"colorbar\":{\"outlinewidth\":1,\"tickcolor\":\"rgb(36,36,36)\",\"ticks\":\"outside\"}},\"type\":\"scatterpolargl\"}],\"scatterpolar\":[{\"marker\":{\"colorbar\":{\"outlinewidth\":1,\"tickcolor\":\"rgb(36,36,36)\",\"ticks\":\"outside\"}},\"type\":\"scatterpolar\"}],\"scatter\":[{\"fillpattern\":{\"fillmode\":\"overlay\",\"size\":10,\"solidity\":0.2},\"type\":\"scatter\"}],\"scatterternary\":[{\"marker\":{\"colorbar\":{\"outlinewidth\":1,\"tickcolor\":\"rgb(36,36,36)\",\"ticks\":\"outside\"}},\"type\":\"scatterternary\"}],\"surface\":[{\"colorbar\":{\"outlinewidth\":1,\"tickcolor\":\"rgb(36,36,36)\",\"ticks\":\"outside\"},\"colorscale\":[[0.0,\"#440154\"],[0.1111111111111111,\"#482878\"],[0.2222222222222222,\"#3e4989\"],[0.3333333333333333,\"#31688e\"],[0.4444444444444444,\"#26828e\"],[0.5555555555555556,\"#1f9e89\"],[0.6666666666666666,\"#35b779\"],[0.7777777777777778,\"#6ece58\"],[0.8888888888888888,\"#b5de2b\"],[1.0,\"#fde725\"]],\"type\":\"surface\"}],\"table\":[{\"cells\":{\"fill\":{\"color\":\"rgb(237,237,237)\"},\"line\":{\"color\":\"white\"}},\"header\":{\"fill\":{\"color\":\"rgb(217,217,217)\"},\"line\":{\"color\":\"white\"}},\"type\":\"table\"}]},\"layout\":{\"annotationdefaults\":{\"arrowhead\":0,\"arrowwidth\":1},\"autotypenumbers\":\"strict\",\"coloraxis\":{\"colorbar\":{\"outlinewidth\":1,\"tickcolor\":\"rgb(36,36,36)\",\"ticks\":\"outside\"}},\"colorscale\":{\"diverging\":[[0.0,\"rgb(103,0,31)\"],[0.1,\"rgb(178,24,43)\"],[0.2,\"rgb(214,96,77)\"],[0.3,\"rgb(244,165,130)\"],[0.4,\"rgb(253,219,199)\"],[0.5,\"rgb(247,247,247)\"],[0.6,\"rgb(209,229,240)\"],[0.7,\"rgb(146,197,222)\"],[0.8,\"rgb(67,147,195)\"],[0.9,\"rgb(33,102,172)\"],[1.0,\"rgb(5,48,97)\"]],\"sequential\":[[0.0,\"#440154\"],[0.1111111111111111,\"#482878\"],[0.2222222222222222,\"#3e4989\"],[0.3333333333333333,\"#31688e\"],[0.4444444444444444,\"#26828e\"],[0.5555555555555556,\"#1f9e89\"],[0.6666666666666666,\"#35b779\"],[0.7777777777777778,\"#6ece58\"],[0.8888888888888888,\"#b5de2b\"],[1.0,\"#fde725\"]],\"sequentialminus\":[[0.0,\"#440154\"],[0.1111111111111111,\"#482878\"],[0.2222222222222222,\"#3e4989\"],[0.3333333333333333,\"#31688e\"],[0.4444444444444444,\"#26828e\"],[0.5555555555555556,\"#1f9e89\"],[0.6666666666666666,\"#35b779\"],[0.7777777777777778,\"#6ece58\"],[0.8888888888888888,\"#b5de2b\"],[1.0,\"#fde725\"]]},\"colorway\":[\"#1F77B4\",\"#FF7F0E\",\"#2CA02C\",\"#D62728\",\"#9467BD\",\"#8C564B\",\"#E377C2\",\"#7F7F7F\",\"#BCBD22\",\"#17BECF\"],\"font\":{\"color\":\"rgb(36,36,36)\"},\"geo\":{\"bgcolor\":\"white\",\"lakecolor\":\"white\",\"landcolor\":\"white\",\"showlakes\":true,\"showland\":true,\"subunitcolor\":\"white\"},\"hoverlabel\":{\"align\":\"left\"},\"hovermode\":\"closest\",\"mapbox\":{\"style\":\"light\"},\"paper_bgcolor\":\"white\",\"plot_bgcolor\":\"white\",\"polar\":{\"angularaxis\":{\"gridcolor\":\"rgb(232,232,232)\",\"linecolor\":\"rgb(36,36,36)\",\"showgrid\":false,\"showline\":true,\"ticks\":\"outside\"},\"bgcolor\":\"white\",\"radialaxis\":{\"gridcolor\":\"rgb(232,232,232)\",\"linecolor\":\"rgb(36,36,36)\",\"showgrid\":false,\"showline\":true,\"ticks\":\"outside\"}},\"scene\":{\"xaxis\":{\"backgroundcolor\":\"white\",\"gridcolor\":\"rgb(232,232,232)\",\"gridwidth\":2,\"linecolor\":\"rgb(36,36,36)\",\"showbackground\":true,\"showgrid\":false,\"showline\":true,\"ticks\":\"outside\",\"zeroline\":false,\"zerolinecolor\":\"rgb(36,36,36)\"},\"yaxis\":{\"backgroundcolor\":\"white\",\"gridcolor\":\"rgb(232,232,232)\",\"gridwidth\":2,\"linecolor\":\"rgb(36,36,36)\",\"showbackground\":true,\"showgrid\":false,\"showline\":true,\"ticks\":\"outside\",\"zeroline\":false,\"zerolinecolor\":\"rgb(36,36,36)\"},\"zaxis\":{\"backgroundcolor\":\"white\",\"gridcolor\":\"rgb(232,232,232)\",\"gridwidth\":2,\"linecolor\":\"rgb(36,36,36)\",\"showbackground\":true,\"showgrid\":false,\"showline\":true,\"ticks\":\"outside\",\"zeroline\":false,\"zerolinecolor\":\"rgb(36,36,36)\"}},\"shapedefaults\":{\"fillcolor\":\"black\",\"line\":{\"width\":0},\"opacity\":0.3},\"ternary\":{\"aaxis\":{\"gridcolor\":\"rgb(232,232,232)\",\"linecolor\":\"rgb(36,36,36)\",\"showgrid\":false,\"showline\":true,\"ticks\":\"outside\"},\"baxis\":{\"gridcolor\":\"rgb(232,232,232)\",\"linecolor\":\"rgb(36,36,36)\",\"showgrid\":false,\"showline\":true,\"ticks\":\"outside\"},\"bgcolor\":\"white\",\"caxis\":{\"gridcolor\":\"rgb(232,232,232)\",\"linecolor\":\"rgb(36,36,36)\",\"showgrid\":false,\"showline\":true,\"ticks\":\"outside\"}},\"title\":{\"x\":0.05},\"xaxis\":{\"automargin\":true,\"gridcolor\":\"rgb(232,232,232)\",\"linecolor\":\"rgb(36,36,36)\",\"showgrid\":false,\"showline\":true,\"ticks\":\"outside\",\"title\":{\"standoff\":15},\"zeroline\":false,\"zerolinecolor\":\"rgb(36,36,36)\"},\"yaxis\":{\"automargin\":true,\"gridcolor\":\"rgb(232,232,232)\",\"linecolor\":\"rgb(36,36,36)\",\"showgrid\":false,\"showline\":true,\"ticks\":\"outside\",\"title\":{\"standoff\":15},\"zeroline\":false,\"zerolinecolor\":\"rgb(36,36,36)\"}}},\"xaxis\":{\"anchor\":\"y\",\"domain\":[0.0,1.0],\"title\":{\"text\":\"component\"}},\"yaxis\":{\"anchor\":\"x\",\"domain\":[0.0,1.0],\"title\":{\"text\":\"Contribution\"}},\"legend\":{\"tracegroupgap\":0},\"title\":{\"text\":\"Decomposed 1_attn_out contribution to correct logit dirs\"},\"barmode\":\"relative\"},                        {\"responsive\": true}                    ).then(function(){\n",
              "                            \n",
              "var gd = document.getElementById('6f122eaf-3251-40c8-8ce5-8b63b3ebfb9a');\n",
              "var x = new MutationObserver(function (mutations, observer) {{\n",
              "        var display = window.getComputedStyle(gd).display;\n",
              "        if (!display || display === 'none') {{\n",
              "            console.log([gd, 'removed!']);\n",
              "            Plotly.purge(gd);\n",
              "            observer.disconnect();\n",
              "        }}\n",
              "}});\n",
              "\n",
              "// Listen for the removal of the full notebook cells\n",
              "var notebookContainer = gd.closest('#notebook-container');\n",
              "if (notebookContainer) {{\n",
              "    x.observe(notebookContainer, {childList: true});\n",
              "}}\n",
              "\n",
              "// Listen for the clearing of the current output cell\n",
              "var outputEl = gd.closest('.output');\n",
              "if (outputEl) {{\n",
              "    x.observe(outputEl, {childList: true});\n",
              "}}\n",
              "\n",
              "                        })                };                            </script>        </div>\n",
              "</body>\n",
              "</html>"
            ]
          },
          "metadata": {}
        }
      ]
    },
    {
      "cell_type": "markdown",
      "source": [
        "Clearly the K-composition circuit doesn't explain the whole story, as the virtual attn head term is also very important. We already showed that 1.0 attends fully to the correct answer token, so this kind of implies that 0.0 also moves some intermediate information in L0 that is then relayed by L1. This is pretty confusing and seems unnecessary, since the K-composition should work fine, but I suppose it has enough residual stream bandwidth to use both.\n",
        "\n",
        "\n",
        "We can study this virtual attn head term, starting my staring at the virtual attn patterns:"
      ],
      "metadata": {
        "id": "yKatjWSV3dGb"
      }
    },
    {
      "cell_type": "markdown",
      "source": [
        "## Stare at Virtual attn patterns"
      ],
      "metadata": {
        "id": "szMB6Tft3oIU"
      }
    },
    {
      "cell_type": "code",
      "source": [
        "layer_1_patterns.shape"
      ],
      "metadata": {
        "colab": {
          "base_uri": "https://localhost:8080/"
        },
        "id": "ugm6jYt-362-",
        "outputId": "3e457510-d8d4-4b1e-858c-d136b542ff3f"
      },
      "execution_count": 290,
      "outputs": [
        {
          "output_type": "execute_result",
          "data": {
            "text/plain": [
              "torch.Size([256, 1, 11, 11])"
            ]
          },
          "metadata": {},
          "execution_count": 290
        }
      ]
    },
    {
      "cell_type": "code",
      "source": [
        "virtual_attn_pattern = einops.einsum(\n",
        "    layer_1_patterns, layer_0_patterns,\n",
        "    \"batch n_heads pos1 pos2, batch n_heads pos2 pos3 -> batch n_heads pos1 pos3\"\n",
        ")\n",
        "virtual_attn_pattern.shape"
      ],
      "metadata": {
        "colab": {
          "base_uri": "https://localhost:8080/"
        },
        "id": "gijpVzN0L-D1",
        "outputId": "e452bc8f-4232-433e-c1f7-10061510f5d7"
      },
      "execution_count": 291,
      "outputs": [
        {
          "output_type": "execute_result",
          "data": {
            "text/plain": [
              "torch.Size([256, 1, 11, 11])"
            ]
          },
          "metadata": {},
          "execution_count": 291
        }
      ]
    },
    {
      "cell_type": "code",
      "source": [
        "labels = tokens_to_labels(test_sample[1])\n",
        "imshow(\n",
        "    virtual_attn_pattern[:, 0, :, :].mean(dim=0),\n",
        "    title=\"virtual attn pattern (avged over batch)\",\n",
        "    xaxis=\"src\", yaxis=\"dest\",\n",
        "    x=labels, y=labels\n",
        ")"
      ],
      "metadata": {
        "colab": {
          "base_uri": "https://localhost:8080/",
          "height": 542
        },
        "id": "sx8gjRUW4SmV",
        "outputId": "ea6fcb17-6166-4683-e20e-bbe9c2ad3230"
      },
      "execution_count": 292,
      "outputs": [
        {
          "output_type": "display_data",
          "data": {
            "text/html": [
              "<html>\n",
              "<head><meta charset=\"utf-8\" /></head>\n",
              "<body>\n",
              "    <div>            <script src=\"https://cdnjs.cloudflare.com/ajax/libs/mathjax/2.7.5/MathJax.js?config=TeX-AMS-MML_SVG\"></script><script type=\"text/javascript\">if (window.MathJax && window.MathJax.Hub && window.MathJax.Hub.Config) {window.MathJax.Hub.Config({SVG: {font: \"STIX-Web\"}});}</script>                <script type=\"text/javascript\">window.PlotlyConfig = {MathJaxConfig: 'local'};</script>\n",
              "        <script src=\"https://cdn.plot.ly/plotly-2.18.2.min.js\"></script>                <div id=\"53c906f9-02d2-43c8-9277-2d4a2f12ca7d\" class=\"plotly-graph-div\" style=\"height:525px; width:100%;\"></div>            <script type=\"text/javascript\">                                    window.PLOTLYENV=window.PLOTLYENV || {};                                    if (document.getElementById(\"53c906f9-02d2-43c8-9277-2d4a2f12ca7d\")) {                    Plotly.newPlot(                        \"53c906f9-02d2-43c8-9277-2d4a2f12ca7d\",                        [{\"coloraxis\":\"coloraxis\",\"name\":\"0\",\"x\":[\"BOS\",\"14_1\",\"23_2\",\"48_3\",\"nl_0\",\"1_5\",\"26_6\",\"nl_1\",\"14_8\",\"26_9\",\"48_10\"],\"y\":[\"BOS\",\"14_1\",\"23_2\",\"48_3\",\"nl_0\",\"1_5\",\"26_6\",\"nl_1\",\"14_8\",\"26_9\",\"48_10\"],\"z\":[[1.0,0.0,0.0,0.0,0.0,0.0,0.0,0.0,0.0,0.0,0.0],[0.8893074989318848,0.11069253087043762,0.0,0.0,0.0,0.0,0.0,0.0,0.0,0.0,0.0],[0.7377434372901917,0.10924747586250305,0.1530090719461441,0.0,0.0,0.0,0.0,0.0,0.0,0.0,0.0],[0.5778951644897461,0.11468779295682907,0.11953505873680115,0.1878819316625595,0.0,0.0,0.0,0.0,0.0,0.0,0.0],[0.5191735625267029,0.3896753191947937,0.07050317525863647,0.0190829299390316,0.0015649637207388878,0.0,0.0,0.0,0.0,0.0,0.0],[0.42000165581703186,0.17505939304828644,0.20247147977352142,0.16940805315971375,0.03027065470814705,0.0027887627948075533,0.0,0.0,0.0,0.0,0.0],[0.4634239375591278,0.1782086342573166,0.13294348120689392,0.11504869163036346,0.07499268651008606,0.025679975748062134,0.009702597744762897,0.0,0.0,0.0,0.0],[0.5497213006019592,0.44728198647499084,0.0018709051655605435,0.0005473154596984386,0.00043937526061199605,7.934338646009564e-05,5.9310470533091575e-05,4.385964018638333e-07,0.0,0.0,0.0],[0.0031173285096883774,0.024439945816993713,0.02364320494234562,0.01941460371017456,0.0007096331682987511,0.6360805034637451,0.29259443283081055,1.4588610497412446e-07,1.8934801460090966e-07,0.0,0.0],[0.3608769476413727,0.08173556625843048,0.09108322113752365,0.46390971541404724,0.000337665289407596,0.0010970194125548005,0.0009555160067975521,8.218549965022248e-07,2.17878186958842e-06,1.3435882237899932e-06,0.0],[0.2506870627403259,0.10731720179319382,0.1752508580684662,0.12384772300720215,0.03744390234351158,0.1354122906923294,0.141948401927948,0.006352065596729517,0.0067406464368104935,0.006859028711915016,0.008140812627971172]],\"type\":\"heatmap\",\"xaxis\":\"x\",\"yaxis\":\"y\",\"hovertemplate\":\"src: %{x}<br>dest: %{y}<br>color: %{z}<extra></extra>\"}],                        {\"template\":{\"data\":{\"histogram2dcontour\":[{\"type\":\"histogram2dcontour\",\"colorbar\":{\"outlinewidth\":0,\"ticks\":\"\"},\"colorscale\":[[0.0,\"#0d0887\"],[0.1111111111111111,\"#46039f\"],[0.2222222222222222,\"#7201a8\"],[0.3333333333333333,\"#9c179e\"],[0.4444444444444444,\"#bd3786\"],[0.5555555555555556,\"#d8576b\"],[0.6666666666666666,\"#ed7953\"],[0.7777777777777778,\"#fb9f3a\"],[0.8888888888888888,\"#fdca26\"],[1.0,\"#f0f921\"]]}],\"choropleth\":[{\"type\":\"choropleth\",\"colorbar\":{\"outlinewidth\":0,\"ticks\":\"\"}}],\"histogram2d\":[{\"type\":\"histogram2d\",\"colorbar\":{\"outlinewidth\":0,\"ticks\":\"\"},\"colorscale\":[[0.0,\"#0d0887\"],[0.1111111111111111,\"#46039f\"],[0.2222222222222222,\"#7201a8\"],[0.3333333333333333,\"#9c179e\"],[0.4444444444444444,\"#bd3786\"],[0.5555555555555556,\"#d8576b\"],[0.6666666666666666,\"#ed7953\"],[0.7777777777777778,\"#fb9f3a\"],[0.8888888888888888,\"#fdca26\"],[1.0,\"#f0f921\"]]}],\"heatmap\":[{\"type\":\"heatmap\",\"colorbar\":{\"outlinewidth\":0,\"ticks\":\"\"},\"colorscale\":[[0.0,\"#0d0887\"],[0.1111111111111111,\"#46039f\"],[0.2222222222222222,\"#7201a8\"],[0.3333333333333333,\"#9c179e\"],[0.4444444444444444,\"#bd3786\"],[0.5555555555555556,\"#d8576b\"],[0.6666666666666666,\"#ed7953\"],[0.7777777777777778,\"#fb9f3a\"],[0.8888888888888888,\"#fdca26\"],[1.0,\"#f0f921\"]]}],\"heatmapgl\":[{\"type\":\"heatmapgl\",\"colorbar\":{\"outlinewidth\":0,\"ticks\":\"\"},\"colorscale\":[[0.0,\"#0d0887\"],[0.1111111111111111,\"#46039f\"],[0.2222222222222222,\"#7201a8\"],[0.3333333333333333,\"#9c179e\"],[0.4444444444444444,\"#bd3786\"],[0.5555555555555556,\"#d8576b\"],[0.6666666666666666,\"#ed7953\"],[0.7777777777777778,\"#fb9f3a\"],[0.8888888888888888,\"#fdca26\"],[1.0,\"#f0f921\"]]}],\"contourcarpet\":[{\"type\":\"contourcarpet\",\"colorbar\":{\"outlinewidth\":0,\"ticks\":\"\"}}],\"contour\":[{\"type\":\"contour\",\"colorbar\":{\"outlinewidth\":0,\"ticks\":\"\"},\"colorscale\":[[0.0,\"#0d0887\"],[0.1111111111111111,\"#46039f\"],[0.2222222222222222,\"#7201a8\"],[0.3333333333333333,\"#9c179e\"],[0.4444444444444444,\"#bd3786\"],[0.5555555555555556,\"#d8576b\"],[0.6666666666666666,\"#ed7953\"],[0.7777777777777778,\"#fb9f3a\"],[0.8888888888888888,\"#fdca26\"],[1.0,\"#f0f921\"]]}],\"surface\":[{\"type\":\"surface\",\"colorbar\":{\"outlinewidth\":0,\"ticks\":\"\"},\"colorscale\":[[0.0,\"#0d0887\"],[0.1111111111111111,\"#46039f\"],[0.2222222222222222,\"#7201a8\"],[0.3333333333333333,\"#9c179e\"],[0.4444444444444444,\"#bd3786\"],[0.5555555555555556,\"#d8576b\"],[0.6666666666666666,\"#ed7953\"],[0.7777777777777778,\"#fb9f3a\"],[0.8888888888888888,\"#fdca26\"],[1.0,\"#f0f921\"]]}],\"mesh3d\":[{\"type\":\"mesh3d\",\"colorbar\":{\"outlinewidth\":0,\"ticks\":\"\"}}],\"scatter\":[{\"fillpattern\":{\"fillmode\":\"overlay\",\"size\":10,\"solidity\":0.2},\"type\":\"scatter\"}],\"parcoords\":[{\"type\":\"parcoords\",\"line\":{\"colorbar\":{\"outlinewidth\":0,\"ticks\":\"\"}}}],\"scatterpolargl\":[{\"type\":\"scatterpolargl\",\"marker\":{\"colorbar\":{\"outlinewidth\":0,\"ticks\":\"\"}}}],\"bar\":[{\"error_x\":{\"color\":\"#2a3f5f\"},\"error_y\":{\"color\":\"#2a3f5f\"},\"marker\":{\"line\":{\"color\":\"#E5ECF6\",\"width\":0.5},\"pattern\":{\"fillmode\":\"overlay\",\"size\":10,\"solidity\":0.2}},\"type\":\"bar\"}],\"scattergeo\":[{\"type\":\"scattergeo\",\"marker\":{\"colorbar\":{\"outlinewidth\":0,\"ticks\":\"\"}}}],\"scatterpolar\":[{\"type\":\"scatterpolar\",\"marker\":{\"colorbar\":{\"outlinewidth\":0,\"ticks\":\"\"}}}],\"histogram\":[{\"marker\":{\"pattern\":{\"fillmode\":\"overlay\",\"size\":10,\"solidity\":0.2}},\"type\":\"histogram\"}],\"scattergl\":[{\"type\":\"scattergl\",\"marker\":{\"colorbar\":{\"outlinewidth\":0,\"ticks\":\"\"}}}],\"scatter3d\":[{\"type\":\"scatter3d\",\"line\":{\"colorbar\":{\"outlinewidth\":0,\"ticks\":\"\"}},\"marker\":{\"colorbar\":{\"outlinewidth\":0,\"ticks\":\"\"}}}],\"scattermapbox\":[{\"type\":\"scattermapbox\",\"marker\":{\"colorbar\":{\"outlinewidth\":0,\"ticks\":\"\"}}}],\"scatterternary\":[{\"type\":\"scatterternary\",\"marker\":{\"colorbar\":{\"outlinewidth\":0,\"ticks\":\"\"}}}],\"scattercarpet\":[{\"type\":\"scattercarpet\",\"marker\":{\"colorbar\":{\"outlinewidth\":0,\"ticks\":\"\"}}}],\"carpet\":[{\"aaxis\":{\"endlinecolor\":\"#2a3f5f\",\"gridcolor\":\"white\",\"linecolor\":\"white\",\"minorgridcolor\":\"white\",\"startlinecolor\":\"#2a3f5f\"},\"baxis\":{\"endlinecolor\":\"#2a3f5f\",\"gridcolor\":\"white\",\"linecolor\":\"white\",\"minorgridcolor\":\"white\",\"startlinecolor\":\"#2a3f5f\"},\"type\":\"carpet\"}],\"table\":[{\"cells\":{\"fill\":{\"color\":\"#EBF0F8\"},\"line\":{\"color\":\"white\"}},\"header\":{\"fill\":{\"color\":\"#C8D4E3\"},\"line\":{\"color\":\"white\"}},\"type\":\"table\"}],\"barpolar\":[{\"marker\":{\"line\":{\"color\":\"#E5ECF6\",\"width\":0.5},\"pattern\":{\"fillmode\":\"overlay\",\"size\":10,\"solidity\":0.2}},\"type\":\"barpolar\"}],\"pie\":[{\"automargin\":true,\"type\":\"pie\"}]},\"layout\":{\"autotypenumbers\":\"strict\",\"colorway\":[\"#636efa\",\"#EF553B\",\"#00cc96\",\"#ab63fa\",\"#FFA15A\",\"#19d3f3\",\"#FF6692\",\"#B6E880\",\"#FF97FF\",\"#FECB52\"],\"font\":{\"color\":\"#2a3f5f\"},\"hovermode\":\"closest\",\"hoverlabel\":{\"align\":\"left\"},\"paper_bgcolor\":\"white\",\"plot_bgcolor\":\"#E5ECF6\",\"polar\":{\"bgcolor\":\"#E5ECF6\",\"angularaxis\":{\"gridcolor\":\"white\",\"linecolor\":\"white\",\"ticks\":\"\"},\"radialaxis\":{\"gridcolor\":\"white\",\"linecolor\":\"white\",\"ticks\":\"\"}},\"ternary\":{\"bgcolor\":\"#E5ECF6\",\"aaxis\":{\"gridcolor\":\"white\",\"linecolor\":\"white\",\"ticks\":\"\"},\"baxis\":{\"gridcolor\":\"white\",\"linecolor\":\"white\",\"ticks\":\"\"},\"caxis\":{\"gridcolor\":\"white\",\"linecolor\":\"white\",\"ticks\":\"\"}},\"coloraxis\":{\"colorbar\":{\"outlinewidth\":0,\"ticks\":\"\"}},\"colorscale\":{\"sequential\":[[0.0,\"#0d0887\"],[0.1111111111111111,\"#46039f\"],[0.2222222222222222,\"#7201a8\"],[0.3333333333333333,\"#9c179e\"],[0.4444444444444444,\"#bd3786\"],[0.5555555555555556,\"#d8576b\"],[0.6666666666666666,\"#ed7953\"],[0.7777777777777778,\"#fb9f3a\"],[0.8888888888888888,\"#fdca26\"],[1.0,\"#f0f921\"]],\"sequentialminus\":[[0.0,\"#0d0887\"],[0.1111111111111111,\"#46039f\"],[0.2222222222222222,\"#7201a8\"],[0.3333333333333333,\"#9c179e\"],[0.4444444444444444,\"#bd3786\"],[0.5555555555555556,\"#d8576b\"],[0.6666666666666666,\"#ed7953\"],[0.7777777777777778,\"#fb9f3a\"],[0.8888888888888888,\"#fdca26\"],[1.0,\"#f0f921\"]],\"diverging\":[[0,\"#8e0152\"],[0.1,\"#c51b7d\"],[0.2,\"#de77ae\"],[0.3,\"#f1b6da\"],[0.4,\"#fde0ef\"],[0.5,\"#f7f7f7\"],[0.6,\"#e6f5d0\"],[0.7,\"#b8e186\"],[0.8,\"#7fbc41\"],[0.9,\"#4d9221\"],[1,\"#276419\"]]},\"xaxis\":{\"gridcolor\":\"white\",\"linecolor\":\"white\",\"ticks\":\"\",\"title\":{\"standoff\":15},\"zerolinecolor\":\"white\",\"automargin\":true,\"zerolinewidth\":2},\"yaxis\":{\"gridcolor\":\"white\",\"linecolor\":\"white\",\"ticks\":\"\",\"title\":{\"standoff\":15},\"zerolinecolor\":\"white\",\"automargin\":true,\"zerolinewidth\":2},\"scene\":{\"xaxis\":{\"backgroundcolor\":\"#E5ECF6\",\"gridcolor\":\"white\",\"linecolor\":\"white\",\"showbackground\":true,\"ticks\":\"\",\"zerolinecolor\":\"white\",\"gridwidth\":2},\"yaxis\":{\"backgroundcolor\":\"#E5ECF6\",\"gridcolor\":\"white\",\"linecolor\":\"white\",\"showbackground\":true,\"ticks\":\"\",\"zerolinecolor\":\"white\",\"gridwidth\":2},\"zaxis\":{\"backgroundcolor\":\"#E5ECF6\",\"gridcolor\":\"white\",\"linecolor\":\"white\",\"showbackground\":true,\"ticks\":\"\",\"zerolinecolor\":\"white\",\"gridwidth\":2}},\"shapedefaults\":{\"line\":{\"color\":\"#2a3f5f\"}},\"annotationdefaults\":{\"arrowcolor\":\"#2a3f5f\",\"arrowhead\":0,\"arrowwidth\":1},\"geo\":{\"bgcolor\":\"white\",\"landcolor\":\"#E5ECF6\",\"subunitcolor\":\"white\",\"showland\":true,\"showlakes\":true,\"lakecolor\":\"white\"},\"title\":{\"x\":0.05},\"mapbox\":{\"style\":\"light\"}}},\"xaxis\":{\"anchor\":\"y\",\"domain\":[0.0,1.0],\"scaleanchor\":\"y\",\"constrain\":\"domain\",\"title\":{\"text\":\"src\"}},\"yaxis\":{\"anchor\":\"x\",\"domain\":[0.0,1.0],\"autorange\":\"reversed\",\"constrain\":\"domain\",\"title\":{\"text\":\"dest\"}},\"coloraxis\":{\"colorscale\":[[0.0,\"rgb(103,0,31)\"],[0.1,\"rgb(178,24,43)\"],[0.2,\"rgb(214,96,77)\"],[0.3,\"rgb(244,165,130)\"],[0.4,\"rgb(253,219,199)\"],[0.5,\"rgb(247,247,247)\"],[0.6,\"rgb(209,229,240)\"],[0.7,\"rgb(146,197,222)\"],[0.8,\"rgb(67,147,195)\"],[0.9,\"rgb(33,102,172)\"],[1.0,\"rgb(5,48,97)\"]],\"cmid\":0.0},\"title\":{\"text\":\"virtual attn pattern (avged over batch)\"}},                        {\"responsive\": true}                    ).then(function(){\n",
              "                            \n",
              "var gd = document.getElementById('53c906f9-02d2-43c8-9277-2d4a2f12ca7d');\n",
              "var x = new MutationObserver(function (mutations, observer) {{\n",
              "        var display = window.getComputedStyle(gd).display;\n",
              "        if (!display || display === 'none') {{\n",
              "            console.log([gd, 'removed!']);\n",
              "            Plotly.purge(gd);\n",
              "            observer.disconnect();\n",
              "        }}\n",
              "}});\n",
              "\n",
              "// Listen for the removal of the full notebook cells\n",
              "var notebookContainer = gd.closest('#notebook-container');\n",
              "if (notebookContainer) {{\n",
              "    x.observe(notebookContainer, {childList: true});\n",
              "}}\n",
              "\n",
              "// Listen for the clearing of the current output cell\n",
              "var outputEl = gd.closest('.output');\n",
              "if (outputEl) {{\n",
              "    x.observe(outputEl, {childList: true});\n",
              "}}\n",
              "\n",
              "                        })                };                            </script>        </div>\n",
              "</body>\n",
              "</html>"
            ]
          },
          "metadata": {}
        }
      ]
    },
    {
      "cell_type": "markdown",
      "source": [
        "It appears that the virtual attn head also attends to the correct answer, although not fully like 1.0. A natural hypothesis is that the virtual OV circuit also just copies:"
      ],
      "metadata": {
        "id": "sqAlpYAh46Sj"
      }
    },
    {
      "cell_type": "markdown",
      "source": [
        "## Virtual OV circuit"
      ],
      "metadata": {
        "id": "YMC1Sb_s4-7h"
      }
    },
    {
      "cell_type": "code",
      "source": [
        "virtual_OV_circuit = W_E @ model.OV[0,0].AB @ model.OV[1,0].AB @ W_U\n",
        "print(virtual_OV_circuit.shape)"
      ],
      "metadata": {
        "colab": {
          "base_uri": "https://localhost:8080/"
        },
        "id": "HFys_Z864bzG",
        "outputId": "0cfbfc76-b00f-47da-d967-1c19c381f0bb"
      },
      "execution_count": 293,
      "outputs": [
        {
          "output_type": "stream",
          "name": "stdout",
          "text": [
            "torch.Size([52, 50])\n"
          ]
        }
      ]
    },
    {
      "cell_type": "code",
      "source": [
        "imshow(\n",
        "    virtual_OV_circuit,\n",
        "    title=\"virtual OV circuit W_E @ W_OV^0.0 @ W_OV^1.0 @ W_U\",\n",
        "    xaxis=\"logit\", yaxis=\"src token\"\n",
        ")"
      ],
      "metadata": {
        "colab": {
          "base_uri": "https://localhost:8080/",
          "height": 542
        },
        "id": "6QR1U-pY5MfG",
        "outputId": "b9806d04-d094-405c-a086-9028242e5578"
      },
      "execution_count": 294,
      "outputs": [
        {
          "output_type": "display_data",
          "data": {
            "text/html": [
              "<html>\n",
              "<head><meta charset=\"utf-8\" /></head>\n",
              "<body>\n",
              "    <div>            <script src=\"https://cdnjs.cloudflare.com/ajax/libs/mathjax/2.7.5/MathJax.js?config=TeX-AMS-MML_SVG\"></script><script type=\"text/javascript\">if (window.MathJax && window.MathJax.Hub && window.MathJax.Hub.Config) {window.MathJax.Hub.Config({SVG: {font: \"STIX-Web\"}});}</script>                <script type=\"text/javascript\">window.PlotlyConfig = {MathJaxConfig: 'local'};</script>\n",
              "        <script src=\"https://cdn.plot.ly/plotly-2.18.2.min.js\"></script>                <div id=\"e50e549a-721e-4218-bb0d-b76cbc256bb1\" class=\"plotly-graph-div\" style=\"height:525px; width:100%;\"></div>            <script type=\"text/javascript\">                                    window.PLOTLYENV=window.PLOTLYENV || {};                                    if (document.getElementById(\"e50e549a-721e-4218-bb0d-b76cbc256bb1\")) {                    Plotly.newPlot(                        \"e50e549a-721e-4218-bb0d-b76cbc256bb1\",                        [{\"coloraxis\":\"coloraxis\",\"name\":\"0\",\"z\":[[4.5597429275512695,3.3508639335632324,0.35715964436531067,-2.1017088890075684,-0.922522246837616,2.2785441875457764,-0.47361427545547485,2.4231085777282715,-4.195226669311523,0.5413942337036133,1.3018600940704346,1.2995212078094482,1.467172622680664,0.28278791904449463,-1.9439094066619873,-0.47112739086151123,-1.2542117834091187,0.37282127141952515,1.75697660446167,0.3281397819519043,-2.097346544265747,-1.1492218971252441,-0.3637799322605133,0.43724507093429565,-0.7423239946365356,-1.8747001886367798,-1.400841474533081,0.5255218744277954,-2.830191135406494,-0.2207394242286682,0.44978171586990356,-2.5151877403259277,-1.9540550708770752,-1.4470956325531006,-1.5062739849090576,-2.1920645236968994,-0.9836844801902771,0.30414700508117676,0.34182071685791016,-0.18781523406505585,0.02036254107952118,2.21713924407959,0.4941409230232239,-2.0903899669647217,1.0797348022460938,-1.229897141456604,-1.2996776103973389,0.5550298690795898,0.7127079367637634,-0.8656947612762451],[1.2801324129104614,3.7414166927337646,4.187451362609863,-0.13046801090240479,-1.1898472309112549,1.1914286613464355,-0.6826114058494568,-1.9682507514953613,0.29452234506607056,-0.7523147463798523,0.7408871650695801,1.5059831142425537,-1.6850740909576416,-0.677985668182373,1.1939862966537476,0.06442617624998093,1.2662172317504883,1.6783504486083984,1.1794785261154175,1.4783451557159424,1.0977731943130493,-0.5893030166625977,0.870672345161438,0.8744759559631348,-0.35969680547714233,-1.2777950763702393,1.5872831344604492,0.13403135538101196,-1.2983944416046143,2.4566049575805664,-0.6980170011520386,2.8375589847564697,-0.2183091938495636,-0.37929123640060425,0.059683263301849365,-1.5797340869903564,-0.23781615495681763,0.546564519405365,-0.5031214356422424,-1.015061616897583,2.9457759857177734,1.4240281581878662,-0.39650505781173706,-2.107588291168213,1.7022192478179932,-1.273752212524414,-0.26433104276657104,0.4481467008590698,0.01991862803697586,1.3376476764678955],[1.5326712131500244,1.765312671661377,5.728052139282227,0.5424389243125916,0.8956926465034485,0.6545568704605103,-2.785104751586914,-2.2494115829467773,0.13992759585380554,0.7540405988693237,2.4700276851654053,0.28485220670700073,1.9465694427490234,0.8603137731552124,1.8141083717346191,2.37838077545166,3.8972439765930176,0.5881857872009277,-0.586263120174408,1.5566675662994385,-0.2912783622741699,-0.5482795238494873,-0.45123550295829773,-0.33674848079681396,1.3168171644210815,-1.582854151725769,0.5324828624725342,-2.7870588302612305,1.6694411039352417,1.147775650024414,-3.593733787536621,3.0688376426696777,-1.3269169330596924,-2.743034839630127,-0.4852033257484436,-2.187636137008667,1.3103482723236084,-2.086496353149414,-0.22141683101654053,-2.5148935317993164,-0.045740604400634766,0.7585778832435608,0.7905338406562805,-2.5214474201202393,1.8097882270812988,0.3080647587776184,-1.365951418876648,0.9123697280883789,0.3705185353755951,0.817749559879303],[6.901995658874512,3.247588872909546,-3.7879385948181152,24.572471618652344,-4.185643672943115,-1.6420187950134277,-5.880092620849609,-12.259000778198242,-7.027151107788086,4.961069107055664,-14.056626319885254,-4.352422714233398,-3.1556453704833984,0.7694376111030579,4.278380393981934,-9.039186477661133,6.16199254989624,4.708703517913818,3.9901158809661865,5.739938735961914,-6.327205657958984,-7.583383083343506,-4.83985710144043,-15.061446189880371,-3.2733802795410156,1.4041893482208252,-16.263126373291016,6.841654300689697,4.633203506469727,-4.707749843597412,0.3202521800994873,2.060810089111328,5.021658420562744,-11.54805850982666,6.680372714996338,1.6013646125793457,-5.251702785491943,-2.945150375366211,4.201969623565674,3.8306467533111572,-9.785042762756348,2.6795763969421387,2.4526526927948,4.896900177001953,-1.946789026260376,-1.6799561977386475,-4.304431915283203,-6.829154014587402,-3.291144609451294,0.9127120971679688],[5.718830585479736,-5.523521900177002,-4.154054164886475,-2.816153049468994,29.770889282226562,-8.230620384216309,-2.2505764961242676,3.934929847717285,4.423657417297363,-0.9700875282287598,6.010100364685059,8.649890899658203,2.329771041870117,6.154084205627441,6.799206256866455,4.600462913513184,-9.526710510253906,5.625293254852295,-9.017828941345215,8.351963996887207,10.600239753723145,-14.969127655029297,11.375042915344238,9.604382514953613,11.586580276489258,-5.67628288269043,-0.7424606084823608,-10.910755157470703,5.9383087158203125,-11.009987831115723,7.894347190856934,3.5872914791107178,4.2371110916137695,3.3998241424560547,-2.3367257118225098,4.047947883605957,-9.284212112426758,-13.994489669799805,-7.172143936157227,-6.142845153808594,1.8782926797866821,3.0337023735046387,-1.4899840354919434,5.159759521484375,-1.8769038915634155,2.4898860454559326,6.564257621765137,-6.552229404449463,6.057877540588379,5.699383735656738],[4.842062950134277,5.148007392883301,0.984251856803894,-0.3649557828903198,-8.836122512817383,25.20601463317871,-4.155304908752441,10.022358894348145,-11.017208099365234,-2.741008758544922,-3.628648281097412,-8.01883602142334,7.6132917404174805,3.452580451965332,-11.700678825378418,-7.62480354309082,5.221343040466309,2.065884828567505,3.958076000213623,0.25844448804855347,-20.59852409362793,-6.041518211364746,5.844973564147949,-4.441189289093018,-5.914546966552734,-1.3560494184494019,7.490246772766113,7.720030784606934,8.191433906555176,-9.227812767028809,-7.831122398376465,-6.394264221191406,-8.32812213897705,-2.9557666778564453,-17.87366485595703,-2.5071420669555664,4.382262229919434,0.1995333433151245,-2.7855191230773926,8.453512191772461,-7.523194313049316,-1.443514108657837,6.719178199768066,5.678492546081543,0.007992863655090332,4.947595596313477,-11.136917114257812,6.829834938049316,-3.905820369720459,-11.828989028930664],[-5.232082843780518,-7.3476128578186035,-4.590363502502441,-1.6433262825012207,-1.908626675605774,-2.943727493286133,31.941394805908203,-3.590798854827881,11.206951141357422,8.093538284301758,-4.446108341217041,0.501266360282898,-2.7140796184539795,-11.28759479522705,7.740453243255615,-11.21526050567627,-1.141574740409851,2.622076988220215,3.2040462493896484,5.033676624298096,-4.6500701904296875,9.712013244628906,5.896970748901367,6.146369934082031,11.158243179321289,3.354335308074951,9.393198013305664,10.982306480407715,6.11558198928833,1.209657907485962,4.900832176208496,-5.94196891784668,2.3996217250823975,16.00892448425293,0.31776106357574463,-5.662110328674316,-7.300778388977051,4.333320617675781,-3.548461437225342,14.565093040466309,-4.19036865234375,-24.41225242614746,1.4466906785964966,-5.290667533874512,-1.5837044715881348,-8.007993698120117,0.9779012799263,0.9657766819000244,1.3592712879180908,-2.9790496826171875],[-0.6857786178588867,-4.108990669250488,-12.959959030151367,-10.628043174743652,4.917700290679932,8.834107398986816,-1.3434908390045166,31.07624053955078,0.0940733551979065,-9.281305313110352,1.7179179191589355,-10.283248901367188,-1.6653395891189575,7.0893964767456055,-13.788328170776367,-2.037977695465088,-3.2003908157348633,0.9814798831939697,-2.595872402191162,-6.870445728302002,-1.2198951244354248,-1.9565739631652832,6.842802047729492,3.56891131401062,-5.745176792144775,7.768685340881348,11.290766716003418,1.6528738737106323,-0.30093908309936523,-5.422281265258789,0.23458242416381836,-6.378355503082275,-10.421700477600098,3.8236608505249023,-15.39002799987793,11.039205551147461,11.238174438476562,-1.448473572731018,5.868155479431152,6.59389591217041,9.29725456237793,-0.7203433513641357,5.7804951667785645,11.177602767944336,2.5882983207702637,-2.3021302223205566,3.4211902618408203,4.8668904304504395,4.8016157150268555,-0.029053688049316406],[-8.773324012756348,-3.618312358856201,-0.2589294910430908,-0.3237736225128174,7.247626304626465,-6.43674898147583,6.930612564086914,-2.4207074642181396,29.353490829467773,-0.5984521508216858,1.8964900970458984,-13.179158210754395,1.8854413032531738,0.910287618637085,8.646631240844727,-0.6586613655090332,4.244161128997803,9.431260108947754,-15.829261779785156,1.6792362928390503,5.440998077392578,9.96605110168457,0.9243621826171875,2.532003164291382,4.442659378051758,13.137507438659668,4.093927383422852,3.5729589462280273,13.661470413208008,-3.3141798973083496,2.430478572845459,8.159126281738281,-1.1862828731536865,0.9160162210464478,10.95651626586914,8.472871780395508,4.170302391052246,-10.10405158996582,4.446959495544434,4.382262706756592,5.04621696472168,-14.176848411560059,-11.985780715942383,-5.059342861175537,-0.8356316089630127,-3.7952253818511963,-0.3540097177028656,4.019062042236328,2.991603374481201,13.799242973327637],[4.0616631507873535,1.7605946063995361,-8.571550369262695,6.188243865966797,-8.27779769897461,-5.029014587402344,4.194064140319824,-10.396514892578125,-10.375697135925293,25.070201873779297,3.393481969833374,5.220733165740967,0.5830191373825073,-10.307493209838867,5.850124359130859,7.795439720153809,-0.04014992713928223,-5.631528377532959,9.093950271606445,-11.09768009185791,-13.612319946289062,6.408112525939941,-11.057312965393066,1.6996887922286987,6.731754302978516,-13.990190505981445,-9.124062538146973,-12.249753952026367,-1.714165449142456,-3.1393184661865234,-4.022395133972168,3.9987330436706543,-0.4277210533618927,4.886808395385742,-0.054517388343811035,-9.136629104614258,-14.52633285522461,9.252408981323242,-0.9163422584533691,5.418132305145264,-6.455332279205322,-2.488880157470703,1.204838514328003,-0.43773508071899414,-7.928430557250977,-2.5267324447631836,9.034700393676758,6.145805358886719,-6.567431449890137,-6.845273971557617],[4.233577251434326,4.198111057281494,2.8541979789733887,-7.981518268585205,7.426665306091309,-1.5427780151367188,0.22605550289154053,6.640255451202393,-1.4076786041259766,11.841110229492188,33.17002868652344,10.533973693847656,13.613605499267578,-4.023633003234863,-10.331253051757812,9.143260955810547,-3.4797496795654297,8.922843933105469,-2.1820931434631348,-8.737459182739258,4.745942115783691,10.051977157592773,1.1201833486557007,7.290744781494141,10.284038543701172,-20.251399993896484,1.6754027605056763,-14.741509437561035,-0.36642390489578247,-5.082876682281494,2.1662135124206543,4.2259674072265625,-2.7047171592712402,-2.490285873413086,-8.99974536895752,12.627880096435547,6.453084945678711,0.06413185596466064,-3.917027473449707,-16.202171325683594,1.6603764295578003,4.955911636352539,6.765387535095215,-9.183332443237305,-9.727752685546875,-4.266355037689209,16.694398880004883,8.776484489440918,-6.594173431396484,5.76775598526001],[0.482383131980896,-5.219082832336426,6.414223670959473,-2.6455938816070557,7.38100528717041,-7.583940505981445,5.2057037353515625,-8.893306732177734,-12.804137229919434,5.740389823913574,7.560854911804199,28.594329833984375,3.0264639854431152,-6.4879150390625,3.1618027687072754,3.169750928878784,-14.277972221374512,-3.5986199378967285,4.07832145690918,4.222647666931152,10.008687019348145,-5.437609672546387,9.786576271057129,5.3746747970581055,11.857179641723633,-19.942096710205078,-3.6553642749786377,-7.069156169891357,-8.954376220703125,-1.0326168537139893,7.960756301879883,-6.490216255187988,7.566874980926514,8.958593368530273,-1.1848094463348389,-11.367774963378906,-12.526266098022461,10.417181015014648,-12.352303504943848,-14.819747924804688,-3.3759946823120117,8.352486610412598,6.220220565795898,-3.0098683834075928,3.675480365753174,5.036275386810303,9.283791542053223,-14.185016632080078,-3.4812915325164795,-11.945013046264648],[-3.7165334224700928,-10.639827728271484,0.5777187347412109,-0.6421914100646973,4.541845321655273,2.3651559352874756,-1.6216654777526855,-1.8700429201126099,0.8004496097564697,0.514674186706543,7.703399658203125,1.3083938360214233,21.508270263671875,5.273868083953857,-7.105322360992432,3.743424415588379,-6.89726448059082,-2.5028364658355713,-11.31182861328125,-2.5235931873321533,-0.9901183247566223,5.450552940368652,2.729127883911133,-2.0502617359161377,8.338118553161621,-2.5733234882354736,-1.4582452774047852,-0.9284470081329346,8.336396217346191,-10.893656730651855,2.0230157375335693,-8.889459609985352,-2.99991512298584,-2.7870428562164307,-1.4891629219055176,3.0631890296936035,5.663038730621338,-3.1000723838806152,-3.8399877548217773,-6.003692626953125,-10.540851593017578,-3.3939833641052246,-4.503114223480225,-2.6251511573791504,-4.332503795623779,7.590855598449707,-2.9641847610473633,2.2309491634368896,-0.33545809984207153,-5.821921348571777],[3.2067573070526123,-1.7334747314453125,-4.5037407875061035,0.06370913982391357,10.427343368530273,3.0446364879608154,-12.887988090515137,8.577966690063477,0.262614369392395,-11.035314559936523,-6.295387268066406,-9.797840118408203,4.019924163818359,26.504858016967773,1.0676846504211426,2.9111716747283936,-4.711118221282959,-11.670679092407227,-19.177345275878906,-0.621008574962616,-0.679642915725708,-8.03506088256836,8.087326049804688,4.052340984344482,-12.374749183654785,13.977205276489258,3.0316219329833984,-0.44994616508483887,5.387127876281738,-1.569596529006958,-7.970736503601074,2.763923406600952,-2.7149171829223633,-13.114487648010254,-1.266433835029602,4.981863498687744,3.361356258392334,-12.426839828491211,-10.663196563720703,1.5494290590286255,3.791381359100342,9.286049842834473,-7.4493207931518555,6.712929725646973,7.1058807373046875,14.509057998657227,-4.214038848876953,1.0128388404846191,-1.4525041580200195,2.558670997619629],[-3.673654079437256,5.956945419311523,-3.3330798149108887,3.2202556133270264,4.656014442443848,-13.489737510681152,-0.18223339319229126,-19.548486709594727,5.893731117248535,7.338946342468262,-13.059713363647461,2.5608184337615967,-10.59122371673584,-2.4677534103393555,27.433427810668945,6.427125930786133,-1.008448600769043,-10.591452598571777,-2.540496349334717,-0.2843815088272095,-2.414823532104492,-3.3497281074523926,-3.7264628410339355,8.625777244567871,0.47709524631500244,4.636310577392578,-9.6190767288208,-9.039203643798828,0.9594268798828125,0.3219425678253174,-0.7151806354522705,6.666784286499023,5.115696430206299,8.107582092285156,12.941822052001953,-15.12342643737793,-24.362422943115234,-5.264682292938232,-2.5385265350341797,6.798708915710449,3.1595582962036133,-2.7649712562561035,-13.89425277709961,-0.9267681837081909,1.5770525932312012,6.944169044494629,-2.5426442623138428,-3.385512351989746,3.3812124729156494,2.0434117317199707],[-3.8419904708862305,-6.504636287689209,-4.74726676940918,-6.542129039764404,0.573225200176239,-8.031011581420898,-18.772464752197266,-2.42677640914917,-6.606639862060547,5.196664333343506,6.473321914672852,2.579099178314209,5.684905529022217,3.901456356048584,-0.8211084008216858,25.710769653320312,-2.2770957946777344,-16.08656120300293,-3.4349122047424316,-15.227720260620117,0.8688521981239319,2.50077223777771,-14.854972839355469,3.1584885120391846,4.00361442565918,-4.874307632446289,-3.734149932861328,-23.87913703918457,-4.076620101928711,0.10271906852722168,-8.367524147033691,4.442224502563477,-5.9936065673828125,-1.499720573425293,2.8146791458129883,-6.759568691253662,-0.8017157316207886,1.6059238910675049,1.0148199796676636,-5.701005935668945,-0.6821146011352539,10.814506530761719,-7.576706409454346,2.7142863273620605,-1.2349884510040283,9.676349639892578,4.329718112945557,6.594085693359375,3.1232833862304688,-5.966981410980225],[5.696232795715332,3.2145214080810547,4.473318099975586,8.307342529296875,-9.394684791564941,8.661005020141602,-0.8687772750854492,0.5080934762954712,0.3931281566619873,1.6979010105133057,-5.813340663909912,-10.359626770019531,-4.9615349769592285,0.10794496536254883,0.3864870071411133,0.26551270484924316,29.580461502075195,5.332900047302246,8.429252624511719,4.5279388427734375,-14.668987274169922,-1.9802215099334717,-6.540243148803711,-1.6945562362670898,6.912482261657715,10.62120246887207,12.14718246459961,-1.336964726448059,7.861024856567383,8.763752937316895,-14.118047714233398,5.085380554199219,-17.16459846496582,-8.358612060546875,-2.420905113220215,-9.78911304473877,6.830930709838867,-8.363868713378906,8.921353340148926,14.739233016967773,-3.481962203979492,-9.013453483581543,5.669360637664795,-1.8930600881576538,5.624263763427734,-6.8987531661987305,-16.720386505126953,10.51132583618164,17.022945404052734,4.621554374694824],[6.3809685707092285,3.7687528133392334,4.707624435424805,5.667802333831787,8.740428924560547,6.263140678405762,2.7502810955047607,4.263497352600098,7.681260108947754,2.3479413986206055,9.673694610595703,-2.006612777709961,3.767103672027588,-7.650714874267578,-5.125401496887207,-9.628751754760742,5.525303840637207,26.80916976928711,1.7986993789672852,9.132391929626465,1.048322319984436,-4.724188327789307,7.0189595222473145,-6.7020463943481445,7.9050493240356445,-9.115660667419434,-0.6610668301582336,4.633315086364746,10.676545143127441,-13.385738372802734,7.522970676422119,4.8027119636535645,0.09402120113372803,-1.963213324546814,-6.811163425445557,11.842239379882812,5.2828521728515625,-6.6839141845703125,6.039447784423828,-3.3752377033233643,-0.10274887084960938,-5.38243293762207,7.153841018676758,0.038008421659469604,-5.329654693603516,-12.87790584564209,3.6666908264160156,-1.788271188735962,-0.3078119158744812,7.50747013092041],[4.4914374351501465,2.213024377822876,-2.2112531661987305,-0.633129358291626,-10.61994743347168,4.757045745849609,-1.9489564895629883,2.359680652618408,-20.10773468017578,2.6651227474212646,-3.6419644355773926,5.851977348327637,-6.752140522003174,-13.431059837341309,-7.75924015045166,0.27052998542785645,4.652100563049316,-0.8729382753372192,25.96844482421875,-3.3664026260375977,-9.804447174072266,-6.165225982666016,-9.212075233459473,-3.847395896911621,2.417576789855957,-11.4296875,-2.928568124771118,-5.282036781311035,-10.348333358764648,1.8606083393096924,2.822335720062256,-8.593751907348633,-4.375934600830078,7.733572006225586,-9.168594360351562,-10.085951805114746,-4.254240989685059,6.8332839012146,7.162771224975586,5.174787521362305,-2.9463844299316406,1.0933771133422852,8.868760108947754,6.096684455871582,-5.984509468078613,-6.934313774108887,-3.244549512863159,3.228137969970703,8.809789657592773,-8.0751314163208],[8.426746368408203,0.3309059143066406,8.351088523864746,8.541043281555176,9.479736328125,2.7444915771484375,5.717763900756836,-3.910261392593384,3.844869613647461,-4.179243087768555,-8.218456268310547,3.0692639350891113,-1.929394245147705,1.5758622884750366,6.611797332763672,-10.997590065002441,6.511157989501953,9.56893253326416,-0.8906276226043701,25.76122283935547,4.582226753234863,-14.318516731262207,6.717703819274902,-4.324211597442627,11.160289764404297,4.615689754486084,2.6889798641204834,13.201308250427246,5.620747089385986,1.9568889141082764,-1.3083407878875732,1.2155084609985352,4.103786945343018,-5.180078506469727,5.196568489074707,-1.8466739654541016,-4.2747297286987305,-5.1146697998046875,1.3894598484039307,2.7284421920776367,-12.23817253112793,-1.4211375713348389,9.632269859313965,-4.74901008605957,9.06817626953125,-4.358685493469238,-10.153514862060547,-14.947139739990234,4.285381317138672,1.7591968774795532],[-7.350222587585449,-9.90437126159668,7.179975986480713,-3.553910493850708,11.370162963867188,-15.816415786743164,-3.094956636428833,-3.083935260772705,8.538856506347656,-10.84945297241211,6.519853115081787,12.263391494750977,1.8665354251861572,2.513096332550049,-0.45181167125701904,2.5612075328826904,-15.772711753845215,1.7502086162567139,-12.728464126586914,5.388633728027344,30.920621871948242,1.123321533203125,5.719849109649658,-4.442293643951416,0.6260796785354614,-2.3670971393585205,-6.186168193817139,1.994896411895752,-7.797737121582031,2.1652629375457764,10.365819931030273,1.0409457683563232,13.123584747314453,-1.3555984497070312,11.617629051208496,10.04315185546875,7.816504001617432,5.446137428283691,-1.1770349740982056,-22.406822204589844,6.147486686706543,11.54936695098877,-2.0329556465148926,-3.513430118560791,7.189868450164795,1.4445677995681763,12.834930419921875,-18.30565643310547,-6.096784591674805,2.3278005123138428],[-12.904064178466797,-5.656261444091797,-1.6375439167022705,-1.2316293716430664,-15.6312837600708,-4.794340133666992,10.173991203308105,-5.531764507293701,9.390609741210938,6.304074287414551,7.29991340637207,-5.5687174797058105,10.434652328491211,-6.4033308029174805,-5.723677158355713,1.1534042358398438,-1.7954559326171875,-2.758315324783325,-4.516600608825684,-14.31129264831543,-0.7513658404350281,26.866565704345703,-8.374241828918457,-3.4513769149780273,-0.4281132221221924,2.8792777061462402,-2.1263318061828613,4.084656238555908,-0.31715476512908936,1.7896101474761963,2.7708020210266113,-5.72142219543457,-2.2471320629119873,1.1439142227172852,7.715809345245361,5.536813735961914,10.271153450012207,8.7191162109375,4.938211441040039,-1.3173290491104126,-0.6005370616912842,-11.63427448272705,-8.02653694152832,-9.27302360534668,-6.354031562805176,-2.789583206176758,3.6453847885131836,8.923303604125977,-5.083984851837158,0.5913321375846863],[-0.7360893487930298,-3.7481696605682373,0.20409393310546875,-3.621349334716797,15.386052131652832,8.7735595703125,11.379719734191895,9.621566772460938,5.690399169921875,-6.442288398742676,-3.1178369522094727,4.365159511566162,-1.2539130449295044,6.034310340881348,4.113171100616455,-11.933296203613281,-7.778985023498535,8.239339828491211,-9.520286560058594,9.630575180053711,-0.14814162254333496,-11.756836891174316,28.96987533569336,7.891661167144775,2.045884132385254,0.22595393657684326,13.631430625915527,7.8384222984313965,12.374584197998047,-12.654321670532227,4.275110244750977,-2.254478931427002,0.376593679189682,9.384766578674316,-14.215288162231445,-1.552417278289795,-5.1687421798706055,-5.1046929359436035,-14.765448570251465,3.388662099838257,6.58301305770874,-6.490191459655762,3.799955368041992,7.629613399505615,8.27588939666748,5.4263386726379395,2.469870090484619,-9.238157272338867,-2.1210851669311523,-6.065516471862793],[2.77947998046875,0.36724281311035156,-3.151465654373169,-13.327644348144531,11.687450408935547,-5.993687629699707,9.614391326904297,2.2762789726257324,0.7931315898895264,5.412431716918945,5.998115539550781,9.878438949584961,-3.4670753479003906,3.9658172130584717,10.995272636413574,7.44684362411499,-4.798052787780762,-8.767205238342285,-1.1016253232955933,-3.883535385131836,-2.6407086849212646,-0.9773483276367188,7.499997138977051,25.60140609741211,5.685900688171387,-1.298353672027588,9.581864356994629,-13.952125549316406,-5.234590530395508,6.074075698852539,2.0405166149139404,-0.19429349899291992,-6.160800933837891,10.285823822021484,-2.1653451919555664,-12.59434700012207,-14.693023681640625,-6.515158176422119,-12.274824142456055,4.489533424377441,10.785029411315918,-3.932861328125,-8.158724784851074,-2.297229051589966,0.31620529294013977,2.7009432315826416,1.5497310161590576,8.561283111572266,11.241498947143555,6.17773962020874],[-2.9917399883270264,-11.929437637329102,0.7205225825309753,0.26900219917297363,6.298752784729004,-4.50847053527832,6.276346206665039,-0.8992958068847656,2.0273776054382324,6.422407150268555,5.633955955505371,8.940825462341309,6.127017498016357,-6.861242294311523,0.5207893252372742,6.995806694030762,3.4222798347473145,1.894553780555725,1.2223358154296875,6.857521057128906,3.0549263954162598,-0.4910125732421875,-1.7519598007202148,0.3535078763961792,25.864574432373047,-4.916690826416016,6.269443511962891,-5.410971641540527,6.1715593338012695,-2.797572135925293,-1.8078185319900513,-3.5450191497802734,-5.824162006378174,6.2649641036987305,0.6232153177261353,-6.497093200683594,-2.737273931503296,2.1208174228668213,3.691694736480713,1.0703718662261963,-13.413232803344727,-6.1777448654174805,8.89684772491455,-4.333841323852539,3.3413033485412598,-1.9374265670776367,-0.6516356468200684,-6.162505149841309,9.16374397277832,-7.889548301696777],[-7.866862773895264,-1.3995769023895264,-4.54387092590332,2.461148500442505,-7.42718505859375,0.4539502263069153,-1.0201160907745361,1.349434733390808,12.543212890625,-13.561906814575195,-20.696651458740234,-19.6983642578125,-6.159424781799316,12.839299201965332,5.896607398986816,-4.296369552612305,8.054147720336914,-11.058613777160645,-10.146294593811035,0.0572124719619751,-3.43766450881958,4.281156539916992,-3.52481746673584,-0.0458756685256958,-12.91322135925293,31.529239654541016,4.893636703491211,12.755045890808105,2.2006096839904785,10.224023818969727,-6.323787689208984,-3.709779739379883,-5.804400444030762,-5.690168380737305,11.684087753295898,-1.3809502124786377,5.397378444671631,-7.528618812561035,6.7654876708984375,14.65357494354248,2.551154136657715,-7.408175468444824,-12.494152069091797,1.1623115539550781,7.872840881347656,5.552997589111328,-17.980716705322266,3.1529669761657715,9.294624328613281,7.129020690917969],[-3.0073113441467285,-9.48819351196289,-1.3661168813705444,-11.891969680786133,1.207410454750061,10.51957893371582,13.125304222106934,16.825618743896484,6.439970016479492,-3.9241580963134766,1.3774453401565552,-5.105978965759277,-3.9779129028320312,5.719265937805176,-3.985842227935791,2.0428762435913086,11.338010787963867,-2.2325901985168457,-2.11865496635437,2.0619633197784424,-7.3764142990112305,-0.46599745750427246,9.984498023986816,12.647872924804688,8.932018280029297,9.422406196594238,32.126163482666016,-1.2136433124542236,9.998359680175781,6.9442315101623535,-13.44100284576416,2.1955151557922363,-13.948533058166504,6.73240852355957,-14.453834533691406,-7.724611282348633,7.769590377807617,-1.9105010032653809,-8.16440200805664,14.967647552490234,2.271979808807373,-12.464361190795898,8.07038688659668,2.6280710697174072,9.96133041381836,1.156713604927063,-3.8581132888793945,8.803579330444336,9.030879974365234,-5.694796562194824],[-0.7960727214813232,-0.19282865524291992,1.0307083129882812,9.99952220916748,-7.678229808807373,8.510839462280273,7.753995895385742,-2.7495975494384766,3.954571008682251,-7.90416955947876,-15.062996864318848,-9.56721019744873,2.189272165298462,1.3275054693222046,-3.0088107585906982,-21.18443489074707,-2.651653528213501,5.774024963378906,-3.0868136882781982,11.453182220458984,-1.8516829013824463,-0.20197010040283203,5.140683650970459,-13.728446960449219,-9.544733047485352,10.7601900100708,-5.158145904541016,27.856670379638672,3.94353985786438,-3.1900250911712646,4.759581565856934,-8.563995361328125,8.709935188293457,-4.463799953460693,4.6584367752075195,8.364636421203613,4.453205585479736,2.775930643081665,3.2661805152893066,5.56155252456665,-9.589729309082031,-6.130383014678955,1.452670693397522,0.5383584499359131,0.4424700140953064,-1.7920191287994385,-9.426383018493652,-9.688098907470703,-8.460549354553223,-1.7851417064666748],[0.8681337833404541,-0.8393828868865967,-6.274990081787109,9.095014572143555,8.943767547607422,5.537135124206543,2.742539882659912,-4.4475321769714355,10.289029121398926,5.038303375244141,-4.543021202087402,-11.839400291442871,1.3552272319793701,2.4660215377807617,7.513636589050293,-3.9813971519470215,6.82119083404541,7.844902515411377,-8.922274589538574,6.095141410827637,-10.113651275634766,-6.513558387756348,6.296286106109619,-2.8696727752685547,4.748228073120117,2.644692897796631,4.992556571960449,0.965476393699646,26.20943260192871,-14.95611572265625,-7.006363391876221,11.593345642089844,4.051884651184082,-0.7388607263565063,-6.612725257873535,5.088172435760498,-3.576903820037842,-12.579021453857422,-7.805265426635742,10.877630233764648,-8.540168762207031,-11.17122745513916,1.9108822345733643,6.294079780578613,-5.286927223205566,4.59977912902832,-0.20193803310394287,2.343637228012085,-6.647357940673828,-2.222062349319458],[2.331252098083496,0.8220065832138062,7.977621078491211,-3.0355865955352783,-11.658638000488281,-3.344971179962158,0.7823849320411682,-2.4084091186523438,-4.050647735595703,-3.309511661529541,-2.961505651473999,2.752788782119751,-5.675214767456055,5.442900657653809,-0.07571935653686523,4.793341636657715,8.215170860290527,-12.466473579406738,4.2043256759643555,0.6631710529327393,2.719985008239746,5.062292098999023,-8.194128036499023,5.135327339172363,-3.05955171585083,9.116936683654785,6.9032392501831055,0.3818560838699341,-14.739028930664062,25.290794372558594,-8.421570777893066,0.07189297676086426,-5.983933448791504,-6.8712568283081055,9.937811851501465,-11.22323989868164,4.446565628051758,5.6113128662109375,-0.04004228115081787,1.0382044315338135,2.874204635620117,5.134799957275391,-1.394303798675537,-9.211840629577637,10.308049201965332,-1.0263941287994385,-7.999618053436279,3.7448196411132812,7.366879463195801,4.0664544105529785],[-8.117701530456543,-5.471996307373047,-1.6558425426483154,-1.5386741161346436,8.975172996520996,-7.306787490844727,4.79534387588501,-5.645774841308594,3.5481019020080566,-5.474969387054443,0.6476593017578125,8.100577354431152,6.179404258728027,-9.405339241027832,-1.0201960802078247,-9.909038543701172,-21.094310760498047,9.031960487365723,1.0746946334838867,-1.115175485610962,9.59244155883789,0.4300307035446167,8.819053649902344,-3.330376148223877,-1.1970912218093872,-9.589411735534668,-16.391630172729492,6.008685111999512,-2.5913541316986084,-16.84451675415039,28.016681671142578,-15.099390029907227,11.135773658752441,12.695802688598633,2.6881608963012695,7.889211654663086,-6.003132343292236,-1.696046233177185,0.4434189796447754,-9.73518180847168,4.288164138793945,-4.747439861297607,-10.211326599121094,4.695558071136475,-13.375907897949219,-1.8968805074691772,5.186284065246582,-8.97248649597168,0.5297130346298218,2.141630172729492],[11.074718475341797,10.043704986572266,-1.1177120208740234,5.499508857727051,2.562795877456665,-0.31011462211608887,-9.269628524780273,-3.886833906173706,2.4815587997436523,8.955430030822754,0.12513399124145508,-9.23997688293457,-10.01952075958252,4.777302265167236,8.74570083618164,6.3533759117126465,10.901521682739258,2.6551756858825684,-1.23891282081604,1.4905472993850708,-4.80070686340332,-7.216139793395996,-7.396616458892822,0.9654748439788818,-5.801616668701172,-0.8160712718963623,-0.24215185642242432,-9.413078308105469,5.352470397949219,3.6939144134521484,-13.679132461547852,24.942489624023438,3.5956709384918213,-10.098617553710938,1.545638084411621,2.3743913173675537,-3.70695424079895,-5.735428810119629,-3.1637675762176514,4.194697380065918,3.5618131160736084,6.749977111816406,0.6722288131713867,2.758460521697998,-0.9434350728988647,-2.322951078414917,5.985501766204834,6.270467758178711,-8.178268432617188,8.341085433959961],[-1.5150811672210693,1.818173885345459,-2.5174927711486816,4.4461140632629395,2.304058790206909,-6.228255271911621,2.920718193054199,-17.199325561523438,-3.2746801376342773,0.48192620277404785,-7.346881866455078,5.267477035522461,-1.6555395126342773,-4.4298295974731445,6.653602600097656,-7.329277038574219,-14.436015129089355,-3.3102011680603027,-0.24792462587356567,5.180666923522949,5.611446380615234,-3.4055285453796387,0.6524803638458252,-6.583026885986328,-8.648527145385742,-6.597875118255615,-14.759397506713867,7.039518356323242,-0.5105881690979004,-5.017658710479736,7.875349521636963,0.23813295364379883,25.018108367919922,2.699953556060791,6.047770977020264,5.695297718048096,-10.24035930633545,3.0396568775177,-9.463829040527344,-6.524375915527344,-8.608388900756836,2.9138498306274414,-2.329852819442749,2.038891315460205,-10.060958862304688,6.6136393547058105,5.875392913818359,-11.340301513671875,-17.673751831054688,-5.0543904304504395],[-16.230552673339844,-9.202323913574219,-7.792434215545654,-11.775861740112305,0.6125448942184448,-3.4582061767578125,9.32227611541748,-2.70224666595459,1.3758561611175537,2.7112178802490234,-5.955355644226074,6.682350158691406,-3.4185540676116943,-13.777653694152832,7.031207084655762,3.7214009761810303,-14.568546295166016,-7.826654434204102,4.420897960662842,-8.913779258728027,-2.511601209640503,1.818219542503357,5.075686454772949,5.474847793579102,5.1831817626953125,-6.685357093811035,1.5693352222442627,-4.967957496643066,2.504948854446411,-11.970949172973633,8.268446922302246,-9.167251586914062,4.108201026916504,28.503124237060547,-6.841475486755371,-11.70189380645752,-14.578393936157227,8.677982330322266,-4.061476707458496,5.845893383026123,2.1348931789398193,-10.946866989135742,-4.964954376220703,8.626049995422363,-4.487371444702148,7.262271881103516,5.881934642791748,-4.4632368087768555,-0.8749678134918213,-17.39360809326172],[-1.3257293701171875,-2.104771852493286,2.475874423980713,11.958643913269043,-2.359370708465576,-16.21769142150879,-6.054387092590332,-21.299041748046875,6.788021087646484,0.21811310946941376,-9.801424026489258,-0.30664515495300293,1.457587718963623,3.497084379196167,9.296489715576172,0.7165498733520508,-3.8725736141204834,-5.8971405029296875,-6.629033088684082,4.220039367675781,10.565715789794922,4.4816789627075195,-13.011253356933594,-7.015681266784668,-3.9089152812957764,8.630440711975098,-20.37238883972168,5.688416957855225,-8.360630989074707,8.70492935180664,6.765235900878906,0.661064624786377,9.964628219604492,-11.054659843444824,29.560773849487305,1.134140133857727,-4.779348850250244,-0.6827232241630554,5.010808944702148,-5.805497169494629,-5.4616851806640625,5.76164436340332,-15.094804763793945,-6.772422790527344,-1.7554105520248413,0.7964982986450195,-5.892139434814453,-7.512786865234375,-0.011584758758544922,11.139131546020508],[2.8552165031433105,4.701440811157227,-7.074948310852051,5.23129940032959,4.982120037078857,0.4803788661956787,-3.2582321166992188,6.567747116088867,4.6451897621154785,-2.825075149536133,8.565691947937012,-11.676345825195312,5.849602222442627,4.5612030029296875,-11.042613983154297,-8.131119728088379,-4.23868989944458,9.421576499938965,-7.1780242919921875,-0.7589021325111389,5.894402503967285,4.373512268066406,-1.4622820615768433,-9.387378692626953,-10.197622299194336,1.06893789768219,-8.339370727539062,8.793006896972656,4.749906539916992,-7.094697952270508,4.665586471557617,3.77765154838562,11.791097640991211,-11.68741512298584,-0.5113315582275391,31.290285110473633,12.483652114868164,-6.182587623596191,2.6960175037384033,-6.54034423828125,-4.133254528045654,3.1016933917999268,3.7719502449035645,1.3516305685043335,-14.88872241973877,-3.2327394485473633,8.699431419372559,1.4345777034759521,-14.529250144958496,11.272668838500977],[-2.8140769004821777,-6.758849143981934,2.817291259765625,-2.3980653285980225,-7.142160415649414,10.20904541015625,-5.330443382263184,18.517704010009766,3.143771171569824,-13.655725479125977,8.037521362304688,-12.772172927856445,9.302038192749023,10.323616981506348,-22.23407554626465,-2.7312934398651123,7.556869983673096,5.452356815338135,-8.130661010742188,-4.6882405281066895,3.998159646987915,8.967342376708984,2.0164544582366943,-9.405454635620117,-7.636590957641602,9.866341590881348,11.240823745727539,8.082601547241211,3.378897190093994,2.135240316390991,-5.447526931762695,-3.115607500076294,-9.712844848632812,-13.816848754882812,-8.04721736907959,15.86382007598877,31.780139923095703,-0.8031597137451172,6.046210289001465,-5.109832286834717,3.481783390045166,0.7847326397895813,5.820736885070801,0.6582067012786865,4.463906288146973,-2.493122100830078,-1.7052319049835205,6.240262031555176,0.3893522024154663,2.2972216606140137],[-10.16077995300293,-5.865901470184326,-1.458585262298584,-1.978472352027893,-22.765371322631836,2.130272388458252,0.23057043552398682,-2.657930850982666,-13.629054069519043,4.278115272521973,-5.443475723266602,6.245882987976074,0.1569083333015442,-8.945760726928711,-8.25464153289795,1.8372764587402344,-12.617012023925781,-13.72234058380127,7.3115715980529785,-11.713616371154785,-0.9460251331329346,10.032255172729492,-7.729428291320801,-11.052927017211914,-8.225234985351562,-8.753006935119629,-6.490164756774902,5.172257423400879,-13.174907684326172,2.4597229957580566,-2.2987077236175537,-7.751953125,5.772310256958008,7.412544250488281,0.07021570205688477,-6.683076858520508,0.6153575778007507,29.215229034423828,0.8032105565071106,-3.9596893787384033,-4.470210075378418,7.200673580169678,4.053833484649658,2.389805316925049,4.358870983123779,4.659725189208984,8.706896781921387,-6.969851970672607,-18.002111434936523,-22.84947967529297],[-5.879884719848633,-3.1613526344299316,-0.7055504322052002,3.8349766731262207,-11.274833679199219,-2.4480462074279785,-9.002542495727539,1.6508926153182983,-1.1366111040115356,-1.4715001583099365,-3.7920563220977783,-3.9758079051971436,1.9136704206466675,-10.264924049377441,-7.050322532653809,2.2756853103637695,3.60652494430542,3.6224098205566406,7.108795642852783,-4.521821022033691,3.530302047729492,6.2365031242370605,-15.08440113067627,-14.1425199508667,1.890967845916748,3.031002998352051,-12.13293743133545,3.0354013442993164,-8.712493896484375,-2.1609535217285156,4.4222259521484375,-9.129570960998535,-6.463322162628174,-0.3876994848251343,7.488200664520264,1.770446538925171,7.864853858947754,8.444803237915039,26.159765243530273,-2.6698455810546875,-2.748988628387451,0.9080376625061035,-0.2855081558227539,0.07005870342254639,0.9431782364845276,-9.2279634475708,-4.836235523223877,-4.871962547302246,8.471970558166504,-0.8216263055801392],[-0.35794949531555176,-3.7101125717163086,-13.505054473876953,3.227705955505371,-5.352396011352539,4.507694244384766,8.118831634521484,-1.0602649450302124,0.9644725918769836,3.760906457901001,-21.957738876342773,-15.069122314453125,-8.644810676574707,-0.035184234380722046,9.987232208251953,-2.9654881954193115,8.111352920532227,-8.307581901550293,6.703474521636963,-0.4591987133026123,-21.429946899414062,-4.784322738647461,-5.207853317260742,2.8491618633270264,0.6935150027275085,13.04793930053711,4.983412265777588,2.7903077602386475,9.392884254455566,-2.338191032409668,-5.857551097869873,-2.7368953227996826,-6.579273223876953,9.026445388793945,-2.0482921600341797,-12.57641315460205,-12.310118675231934,-6.099408149719238,1.3950892686843872,29.49517250061035,-5.735411643981934,-16.861412048339844,-4.899939060211182,9.723363876342773,-2.555406093597412,0.2988487482070923,-12.805843353271484,7.993964195251465,10.706718444824219,-5.0804219245910645],[-4.807958126068115,0.915553092956543,0.2973131537437439,-10.724210739135742,1.6710875034332275,-3.649160385131836,-4.723273277282715,8.014184951782227,6.080909729003906,-6.823627471923828,2.9751644134521484,-1.8645250797271729,-6.581742286682129,1.863590955734253,0.10828399658203125,3.4659359455108643,-7.44753360748291,1.3682971000671387,-2.4302539825439453,-11.37582778930664,6.847783088684082,2.809248924255371,5.052309513092041,6.220625877380371,-12.342668533325195,0.17290276288986206,0.29714709520339966,-6.195539474487305,-7.2825822830200195,-0.6890437602996826,7.713722229003906,3.285407543182373,-3.321239471435547,5.509596824645996,-1.4769164323806763,1.182335376739502,3.6158742904663086,-0.13775813579559326,0.13084816932678223,-4.795856952667236,25.125207901000977,3.2783594131469727,-11.387923240661621,5.6830644607543945,1.8165194988250732,-2.4304819107055664,8.780205726623535,4.5027265548706055,2.617539405822754,7.204894065856934],[2.2970733642578125,7.335906028747559,5.460567951202393,0.31735897064208984,-2.4240846633911133,-1.9026525020599365,-22.577159881591797,-2.506455421447754,-17.04993438720703,-5.832857131958008,3.6445465087890625,11.734045028686523,0.623869001865387,9.367240905761719,-3.893420696258545,7.685619354248047,-10.73753547668457,-12.067174911499023,-2.8939476013183594,-5.5722737312316895,9.50507926940918,-5.908925533294678,-0.9470198750495911,-3.539339542388916,-14.112276077270508,-8.652400016784668,-12.009766578674316,-6.679322719573975,-14.214258193969727,4.160909652709961,-2.1442313194274902,1.351204752922058,6.595462322235107,-10.700960159301758,2.2507166862487793,1.2241363525390625,-0.1081964373588562,7.401183128356934,-7.176905632019043,-19.280576705932617,3.416261911392212,28.57269859313965,0.8296945095062256,1.167008399963379,5.281803131103516,13.315213203430176,6.209837436676025,-8.51568603515625,-12.416740417480469,-5.046093940734863],[5.365113735198975,2.982025146484375,-0.2045764923095703,6.765037536621094,-3.027053117752075,8.243868827819824,2.958770275115967,7.697430610656738,-12.19179916381836,4.687426567077637,3.218545436859131,6.452005386352539,-3.3429853916168213,-6.581696033477783,-7.212100505828857,-5.982217788696289,5.711394309997559,6.061981201171875,8.451472282409668,8.312978744506836,-1.2412220239639282,-6.692637920379639,3.758477210998535,-9.010672569274902,7.645477771759033,-9.432897567749023,5.108118057250977,5.09694766998291,3.3836913108825684,-2.121922492980957,-8.35643482208252,1.3430593013763428,2.6322596073150635,-0.8695799112319946,-12.557483673095703,4.1084065437316895,2.4559102058410645,10.056142807006836,1.068969488143921,-0.8195161819458008,-12.384613990783691,5.016060829162598,26.26323699951172,1.0825021266937256,4.830408096313477,-2.5508759021759033,6.085385799407959,-10.64834976196289,-10.255640983581543,-12.923688888549805],[1.5492873191833496,-2.401627540588379,-16.570026397705078,2.445460081100464,5.785616397857666,4.942762851715088,-15.744159698486328,7.234374523162842,-12.706182479858398,-5.692234039306641,-15.012910842895508,-7.228669166564941,-6.827104568481445,6.8108649253845215,-1.963448405265808,-0.2519031763076782,-8.088668823242188,-6.450071334838867,2.0809340476989746,-5.880063056945801,-8.087230682373047,-17.60634422302246,2.3566081523895264,-4.445501327514648,-14.522523880004883,0.3124985098838806,-7.538409233093262,-4.271707534790039,3.2202067375183105,-14.837223052978516,1.5344157218933105,-1.4323503971099854,5.429906845092773,2.533433437347412,-10.623088836669922,3.0319080352783203,-6.605971336364746,-5.235451698303223,-3.349461793899536,6.418351650238037,0.8131872415542603,7.604331016540527,-1.3786160945892334,24.081974029541016,-6.8657732009887695,10.230355262756348,1.1596955060958862,-2.8910884857177734,-3.1440649032592773,-8.098694801330566],[-2.9985580444335938,-4.217553615570068,6.093127250671387,-1.084542989730835,-2.621065139770508,2.8451695442199707,-5.046555995941162,6.925825595855713,1.5884671211242676,-8.882543563842773,-9.632405281066895,1.276209831237793,-5.523082733154297,7.282203674316406,2.968977451324463,2.16021728515625,2.946422815322876,-4.6616997718811035,-6.875461578369141,5.4731340408325195,5.811898231506348,-5.543402671813965,5.625566005706787,-2.1742448806762695,-0.4955759644508362,9.399869918823242,8.433076858520508,3.679534435272217,-2.4842329025268555,5.825150966644287,-9.427867889404297,0.9719164371490479,-8.16385555267334,-1.9549962282180786,1.088501214981079,-11.24516487121582,3.919027328491211,7.371699333190918,2.935274839401245,0.37057363986968994,5.451580047607422,6.790879249572754,3.0818657875061035,0.6747181415557861,24.267391204833984,3.6435508728027344,-3.8620352745056152,-10.837413787841797,3.27777099609375,-8.506556510925293],[-11.157659530639648,-0.7621273994445801,-4.867621421813965,0.8445271253585815,-0.5196255445480347,0.3336223363876343,-7.990338325500488,-11.411823272705078,-6.6961212158203125,-5.785964012145996,-10.157510757446289,3.454986333847046,4.003842353820801,8.798983573913574,6.320926666259766,2.7120561599731445,-12.238845825195312,-19.918380737304688,-11.194543838500977,-6.714967727661133,-3.197434902191162,-1.7139041423797607,6.895290851593018,0.932121753692627,-10.74980354309082,3.421952247619629,-4.328249454498291,-1.0361158847808838,5.760659217834473,-6.49738883972168,-2.9019775390625,-6.049736976623535,9.97738265991211,2.4127397537231445,-0.7636399269104004,-4.781069755554199,-9.045719146728516,-0.4671618938446045,-16.877094268798828,-3.463292121887207,-6.455145835876465,5.903409004211426,-7.6793975830078125,5.521161079406738,-0.9496262073516846,26.673192977905273,-3.186302423477173,-5.199769020080566,-12.219100952148438,-14.902060508728027],[-0.5971328020095825,-2.762585163116455,-11.175719261169434,-2.313699245452881,3.9984521865844727,-7.722545146942139,0.46452999114990234,2.651933431625366,-4.764632225036621,10.818401336669922,8.17453384399414,6.179055213928223,-3.322901964187622,-4.625344276428223,-0.8149290084838867,4.287496566772461,-18.77408790588379,-1.2282991409301758,-1.6507244110107422,-10.404302597045898,7.030726432800293,1.1431787014007568,1.5794447660446167,-1.9767377376556396,-4.850188255310059,-17.597766876220703,-8.443998336791992,-7.989766597747803,-2.566307306289673,-10.346332550048828,3.5640103816986084,8.83792495727539,13.657306671142578,7.235905647277832,-6.269245624542236,9.686544418334961,-5.2043962478637695,12.61972427368164,-7.985037803649902,-7.859805107116699,5.4966840744018555,8.675527572631836,4.535322189331055,8.357566833496094,-5.389857292175293,0.3663599491119385,28.27212905883789,-5.5347089767456055,-22.06525230407715,-8.341358184814453],[3.3519740104675293,-0.06296277046203613,-4.064035415649414,-5.440404891967773,-3.6499032974243164,2.6393823623657227,0.0015823841094970703,1.8701610565185547,-1.4288369417190552,5.073211669921875,7.368562698364258,-7.595762252807617,8.438852310180664,3.185312271118164,-5.057299613952637,7.009071350097656,4.4318389892578125,-5.012411117553711,2.890303611755371,-13.861824035644531,-13.562792778015137,9.074585914611816,-8.27306079864502,8.952824592590332,-1.9036095142364502,0.16378402709960938,2.3917922973632812,-10.74924087524414,0.39501678943634033,1.9769889116287231,-0.7849915623664856,-1.877546787261963,-10.471904754638672,-1.8523433208465576,-3.743436098098755,-2.4548909664154053,3.474331855773926,-8.553364753723145,-2.3987698554992676,6.121590614318848,3.9450008869171143,-7.771390438079834,-11.348123550415039,-1.2247806787490845,-11.738203048706055,-1.353955626487732,-4.7413740158081055,25.104328155517578,9.075372695922852,7.412625312805176],[-0.5935410261154175,-8.887805938720703,1.4833639860153198,-6.951137065887451,8.688655853271484,-5.2522969245910645,-3.0924956798553467,6.959818363189697,2.461149215698242,-8.687600135803223,-1.860755443572998,2.2769041061401367,-0.28192365169525146,2.6232240200042725,1.3452798128128052,7.501177787780762,7.087673187255859,-0.7833443880081177,3.2339138984680176,1.7951127290725708,3.0043089389801025,-5.0156121253967285,-1.3382408618927002,8.858307838439941,11.703409194946289,8.531734466552734,5.670688629150391,-9.299797058105469,-4.875741481781006,3.7288193702697754,5.444879531860352,-9.731429100036621,-17.385467529296875,3.4431467056274414,2.4272918701171875,-11.079750061035156,1.3914439678192139,-11.770597457885742,10.823705673217773,3.965047597885132,6.964268207550049,-5.066415786743164,-6.860599517822266,0.9890509843826294,5.515133857727051,-5.157080173492432,-12.99608039855957,2.912010669708252,31.984020233154297,8.215579986572266],[10.67606258392334,7.677295684814453,4.132142543792725,1.0438578128814697,11.663957595825195,-7.20646858215332,-3.644284963607788,2.1219029426574707,12.99439525604248,-2.157130479812622,10.686731338500977,-7.4551777839660645,1.2621805667877197,7.168830871582031,1.2788492441177368,-1.1120734214782715,7.864432334899902,13.453716278076172,-4.369466304779053,3.5248467922210693,6.8646087646484375,1.564229965209961,-3.259295701980591,6.870676040649414,-1.8548734188079834,6.738129615783691,-4.656708717346191,-2.636471748352051,-3.6102817058563232,6.247065544128418,8.250602722167969,7.33966588973999,-4.67172908782959,-13.491279602050781,10.974087715148926,13.388895988464355,6.281002044677734,-19.189716339111328,7.6669921875,-3.9938647747039795,11.662115097045898,-0.18686938285827637,-10.609970092773438,-6.948999404907227,-7.546451568603516,-13.369915962219238,-3.2400269508361816,10.018906593322754,13.775552749633789,31.975589752197266],[5.662984848022461,8.133474349975586,5.790804386138916,1.0159010887145996,-1.1328232288360596,3.8929202556610107,-2.974386215209961,-1.5129525661468506,-2.3531758785247803,0.6484673023223877,2.1020500659942627,-0.6687207221984863,0.28707581758499146,1.5109251737594604,0.8321688771247864,-0.0047130286693573,5.728292465209961,1.855785846710205,2.1385891437530518,2.622267246246338,-3.4379868507385254,-1.9435667991638184,-1.6313647031784058,0.7408353090286255,-1.3754072189331055,-0.9779452085494995,0.02565014362335205,-0.481875479221344,-0.9364029765129089,3.4150681495666504,-3.9821438789367676,3.2617554664611816,-1.9361989498138428,-5.397042274475098,-0.4241963326931,-1.0303786993026733,-0.314780056476593,-2.873826026916504,0.08232748508453369,-0.35771915316581726,-0.3865785002708435,3.0013818740844727,0.956724226474762,-4.392082214355469,0.5058392882347107,-1.167393684387207,-3.8964884281158447,3.2400460243225098,0.06725329160690308,3.5769357681274414],[2.230132579803467,3.03157114982605,-0.28370165824890137,7.926729202270508,-4.010100364685059,3.826411724090576,-3.449906349182129,-3.7922377586364746,-2.0614261627197266,-0.2854447364807129,-6.191804885864258,-5.876928806304932,0.2436266541481018,0.27225762605667114,-0.8684921264648438,-5.096147537231445,2.0107803344726562,2.1405112743377686,1.3869277238845825,2.9294607639312744,-4.078747272491455,-2.6351850032806396,-3.384822368621826,-8.530427932739258,-4.5873799324035645,1.5089157819747925,-6.118138313293457,6.58406925201416,2.862426280975342,-2.7255749702453613,-1.420025110244751,0.9985857009887695,3.9301812648773193,-5.099148273468018,1.423720121383667,3.607516288757324,0.35536646842956543,-0.15459918975830078,2.5635037422180176,2.1451683044433594,-6.1538848876953125,1.1493602991104126,1.1803233623504639,1.7732614278793335,-2.5464563369750977,-0.09217941761016846,-3.2984304428100586,-1.7405517101287842,-5.30091667175293,-1.014094591140747]],\"type\":\"heatmap\",\"xaxis\":\"x\",\"yaxis\":\"y\",\"hovertemplate\":\"logit: %{x}<br>src token: %{y}<br>color: %{z}<extra></extra>\"}],                        {\"template\":{\"data\":{\"histogram2dcontour\":[{\"type\":\"histogram2dcontour\",\"colorbar\":{\"outlinewidth\":0,\"ticks\":\"\"},\"colorscale\":[[0.0,\"#0d0887\"],[0.1111111111111111,\"#46039f\"],[0.2222222222222222,\"#7201a8\"],[0.3333333333333333,\"#9c179e\"],[0.4444444444444444,\"#bd3786\"],[0.5555555555555556,\"#d8576b\"],[0.6666666666666666,\"#ed7953\"],[0.7777777777777778,\"#fb9f3a\"],[0.8888888888888888,\"#fdca26\"],[1.0,\"#f0f921\"]]}],\"choropleth\":[{\"type\":\"choropleth\",\"colorbar\":{\"outlinewidth\":0,\"ticks\":\"\"}}],\"histogram2d\":[{\"type\":\"histogram2d\",\"colorbar\":{\"outlinewidth\":0,\"ticks\":\"\"},\"colorscale\":[[0.0,\"#0d0887\"],[0.1111111111111111,\"#46039f\"],[0.2222222222222222,\"#7201a8\"],[0.3333333333333333,\"#9c179e\"],[0.4444444444444444,\"#bd3786\"],[0.5555555555555556,\"#d8576b\"],[0.6666666666666666,\"#ed7953\"],[0.7777777777777778,\"#fb9f3a\"],[0.8888888888888888,\"#fdca26\"],[1.0,\"#f0f921\"]]}],\"heatmap\":[{\"type\":\"heatmap\",\"colorbar\":{\"outlinewidth\":0,\"ticks\":\"\"},\"colorscale\":[[0.0,\"#0d0887\"],[0.1111111111111111,\"#46039f\"],[0.2222222222222222,\"#7201a8\"],[0.3333333333333333,\"#9c179e\"],[0.4444444444444444,\"#bd3786\"],[0.5555555555555556,\"#d8576b\"],[0.6666666666666666,\"#ed7953\"],[0.7777777777777778,\"#fb9f3a\"],[0.8888888888888888,\"#fdca26\"],[1.0,\"#f0f921\"]]}],\"heatmapgl\":[{\"type\":\"heatmapgl\",\"colorbar\":{\"outlinewidth\":0,\"ticks\":\"\"},\"colorscale\":[[0.0,\"#0d0887\"],[0.1111111111111111,\"#46039f\"],[0.2222222222222222,\"#7201a8\"],[0.3333333333333333,\"#9c179e\"],[0.4444444444444444,\"#bd3786\"],[0.5555555555555556,\"#d8576b\"],[0.6666666666666666,\"#ed7953\"],[0.7777777777777778,\"#fb9f3a\"],[0.8888888888888888,\"#fdca26\"],[1.0,\"#f0f921\"]]}],\"contourcarpet\":[{\"type\":\"contourcarpet\",\"colorbar\":{\"outlinewidth\":0,\"ticks\":\"\"}}],\"contour\":[{\"type\":\"contour\",\"colorbar\":{\"outlinewidth\":0,\"ticks\":\"\"},\"colorscale\":[[0.0,\"#0d0887\"],[0.1111111111111111,\"#46039f\"],[0.2222222222222222,\"#7201a8\"],[0.3333333333333333,\"#9c179e\"],[0.4444444444444444,\"#bd3786\"],[0.5555555555555556,\"#d8576b\"],[0.6666666666666666,\"#ed7953\"],[0.7777777777777778,\"#fb9f3a\"],[0.8888888888888888,\"#fdca26\"],[1.0,\"#f0f921\"]]}],\"surface\":[{\"type\":\"surface\",\"colorbar\":{\"outlinewidth\":0,\"ticks\":\"\"},\"colorscale\":[[0.0,\"#0d0887\"],[0.1111111111111111,\"#46039f\"],[0.2222222222222222,\"#7201a8\"],[0.3333333333333333,\"#9c179e\"],[0.4444444444444444,\"#bd3786\"],[0.5555555555555556,\"#d8576b\"],[0.6666666666666666,\"#ed7953\"],[0.7777777777777778,\"#fb9f3a\"],[0.8888888888888888,\"#fdca26\"],[1.0,\"#f0f921\"]]}],\"mesh3d\":[{\"type\":\"mesh3d\",\"colorbar\":{\"outlinewidth\":0,\"ticks\":\"\"}}],\"scatter\":[{\"fillpattern\":{\"fillmode\":\"overlay\",\"size\":10,\"solidity\":0.2},\"type\":\"scatter\"}],\"parcoords\":[{\"type\":\"parcoords\",\"line\":{\"colorbar\":{\"outlinewidth\":0,\"ticks\":\"\"}}}],\"scatterpolargl\":[{\"type\":\"scatterpolargl\",\"marker\":{\"colorbar\":{\"outlinewidth\":0,\"ticks\":\"\"}}}],\"bar\":[{\"error_x\":{\"color\":\"#2a3f5f\"},\"error_y\":{\"color\":\"#2a3f5f\"},\"marker\":{\"line\":{\"color\":\"#E5ECF6\",\"width\":0.5},\"pattern\":{\"fillmode\":\"overlay\",\"size\":10,\"solidity\":0.2}},\"type\":\"bar\"}],\"scattergeo\":[{\"type\":\"scattergeo\",\"marker\":{\"colorbar\":{\"outlinewidth\":0,\"ticks\":\"\"}}}],\"scatterpolar\":[{\"type\":\"scatterpolar\",\"marker\":{\"colorbar\":{\"outlinewidth\":0,\"ticks\":\"\"}}}],\"histogram\":[{\"marker\":{\"pattern\":{\"fillmode\":\"overlay\",\"size\":10,\"solidity\":0.2}},\"type\":\"histogram\"}],\"scattergl\":[{\"type\":\"scattergl\",\"marker\":{\"colorbar\":{\"outlinewidth\":0,\"ticks\":\"\"}}}],\"scatter3d\":[{\"type\":\"scatter3d\",\"line\":{\"colorbar\":{\"outlinewidth\":0,\"ticks\":\"\"}},\"marker\":{\"colorbar\":{\"outlinewidth\":0,\"ticks\":\"\"}}}],\"scattermapbox\":[{\"type\":\"scattermapbox\",\"marker\":{\"colorbar\":{\"outlinewidth\":0,\"ticks\":\"\"}}}],\"scatterternary\":[{\"type\":\"scatterternary\",\"marker\":{\"colorbar\":{\"outlinewidth\":0,\"ticks\":\"\"}}}],\"scattercarpet\":[{\"type\":\"scattercarpet\",\"marker\":{\"colorbar\":{\"outlinewidth\":0,\"ticks\":\"\"}}}],\"carpet\":[{\"aaxis\":{\"endlinecolor\":\"#2a3f5f\",\"gridcolor\":\"white\",\"linecolor\":\"white\",\"minorgridcolor\":\"white\",\"startlinecolor\":\"#2a3f5f\"},\"baxis\":{\"endlinecolor\":\"#2a3f5f\",\"gridcolor\":\"white\",\"linecolor\":\"white\",\"minorgridcolor\":\"white\",\"startlinecolor\":\"#2a3f5f\"},\"type\":\"carpet\"}],\"table\":[{\"cells\":{\"fill\":{\"color\":\"#EBF0F8\"},\"line\":{\"color\":\"white\"}},\"header\":{\"fill\":{\"color\":\"#C8D4E3\"},\"line\":{\"color\":\"white\"}},\"type\":\"table\"}],\"barpolar\":[{\"marker\":{\"line\":{\"color\":\"#E5ECF6\",\"width\":0.5},\"pattern\":{\"fillmode\":\"overlay\",\"size\":10,\"solidity\":0.2}},\"type\":\"barpolar\"}],\"pie\":[{\"automargin\":true,\"type\":\"pie\"}]},\"layout\":{\"autotypenumbers\":\"strict\",\"colorway\":[\"#636efa\",\"#EF553B\",\"#00cc96\",\"#ab63fa\",\"#FFA15A\",\"#19d3f3\",\"#FF6692\",\"#B6E880\",\"#FF97FF\",\"#FECB52\"],\"font\":{\"color\":\"#2a3f5f\"},\"hovermode\":\"closest\",\"hoverlabel\":{\"align\":\"left\"},\"paper_bgcolor\":\"white\",\"plot_bgcolor\":\"#E5ECF6\",\"polar\":{\"bgcolor\":\"#E5ECF6\",\"angularaxis\":{\"gridcolor\":\"white\",\"linecolor\":\"white\",\"ticks\":\"\"},\"radialaxis\":{\"gridcolor\":\"white\",\"linecolor\":\"white\",\"ticks\":\"\"}},\"ternary\":{\"bgcolor\":\"#E5ECF6\",\"aaxis\":{\"gridcolor\":\"white\",\"linecolor\":\"white\",\"ticks\":\"\"},\"baxis\":{\"gridcolor\":\"white\",\"linecolor\":\"white\",\"ticks\":\"\"},\"caxis\":{\"gridcolor\":\"white\",\"linecolor\":\"white\",\"ticks\":\"\"}},\"coloraxis\":{\"colorbar\":{\"outlinewidth\":0,\"ticks\":\"\"}},\"colorscale\":{\"sequential\":[[0.0,\"#0d0887\"],[0.1111111111111111,\"#46039f\"],[0.2222222222222222,\"#7201a8\"],[0.3333333333333333,\"#9c179e\"],[0.4444444444444444,\"#bd3786\"],[0.5555555555555556,\"#d8576b\"],[0.6666666666666666,\"#ed7953\"],[0.7777777777777778,\"#fb9f3a\"],[0.8888888888888888,\"#fdca26\"],[1.0,\"#f0f921\"]],\"sequentialminus\":[[0.0,\"#0d0887\"],[0.1111111111111111,\"#46039f\"],[0.2222222222222222,\"#7201a8\"],[0.3333333333333333,\"#9c179e\"],[0.4444444444444444,\"#bd3786\"],[0.5555555555555556,\"#d8576b\"],[0.6666666666666666,\"#ed7953\"],[0.7777777777777778,\"#fb9f3a\"],[0.8888888888888888,\"#fdca26\"],[1.0,\"#f0f921\"]],\"diverging\":[[0,\"#8e0152\"],[0.1,\"#c51b7d\"],[0.2,\"#de77ae\"],[0.3,\"#f1b6da\"],[0.4,\"#fde0ef\"],[0.5,\"#f7f7f7\"],[0.6,\"#e6f5d0\"],[0.7,\"#b8e186\"],[0.8,\"#7fbc41\"],[0.9,\"#4d9221\"],[1,\"#276419\"]]},\"xaxis\":{\"gridcolor\":\"white\",\"linecolor\":\"white\",\"ticks\":\"\",\"title\":{\"standoff\":15},\"zerolinecolor\":\"white\",\"automargin\":true,\"zerolinewidth\":2},\"yaxis\":{\"gridcolor\":\"white\",\"linecolor\":\"white\",\"ticks\":\"\",\"title\":{\"standoff\":15},\"zerolinecolor\":\"white\",\"automargin\":true,\"zerolinewidth\":2},\"scene\":{\"xaxis\":{\"backgroundcolor\":\"#E5ECF6\",\"gridcolor\":\"white\",\"linecolor\":\"white\",\"showbackground\":true,\"ticks\":\"\",\"zerolinecolor\":\"white\",\"gridwidth\":2},\"yaxis\":{\"backgroundcolor\":\"#E5ECF6\",\"gridcolor\":\"white\",\"linecolor\":\"white\",\"showbackground\":true,\"ticks\":\"\",\"zerolinecolor\":\"white\",\"gridwidth\":2},\"zaxis\":{\"backgroundcolor\":\"#E5ECF6\",\"gridcolor\":\"white\",\"linecolor\":\"white\",\"showbackground\":true,\"ticks\":\"\",\"zerolinecolor\":\"white\",\"gridwidth\":2}},\"shapedefaults\":{\"line\":{\"color\":\"#2a3f5f\"}},\"annotationdefaults\":{\"arrowcolor\":\"#2a3f5f\",\"arrowhead\":0,\"arrowwidth\":1},\"geo\":{\"bgcolor\":\"white\",\"landcolor\":\"#E5ECF6\",\"subunitcolor\":\"white\",\"showland\":true,\"showlakes\":true,\"lakecolor\":\"white\"},\"title\":{\"x\":0.05},\"mapbox\":{\"style\":\"light\"}}},\"xaxis\":{\"anchor\":\"y\",\"domain\":[0.0,1.0],\"scaleanchor\":\"y\",\"constrain\":\"domain\",\"title\":{\"text\":\"logit\"}},\"yaxis\":{\"anchor\":\"x\",\"domain\":[0.0,1.0],\"autorange\":\"reversed\",\"constrain\":\"domain\",\"title\":{\"text\":\"src token\"}},\"coloraxis\":{\"colorscale\":[[0.0,\"rgb(103,0,31)\"],[0.1,\"rgb(178,24,43)\"],[0.2,\"rgb(214,96,77)\"],[0.3,\"rgb(244,165,130)\"],[0.4,\"rgb(253,219,199)\"],[0.5,\"rgb(247,247,247)\"],[0.6,\"rgb(209,229,240)\"],[0.7,\"rgb(146,197,222)\"],[0.8,\"rgb(67,147,195)\"],[0.9,\"rgb(33,102,172)\"],[1.0,\"rgb(5,48,97)\"]],\"cmid\":0.0},\"title\":{\"text\":\"virtual OV circuit W_E @ W_OV^0.0 @ W_OV^1.0 @ W_U\"}},                        {\"responsive\": true}                    ).then(function(){\n",
              "                            \n",
              "var gd = document.getElementById('e50e549a-721e-4218-bb0d-b76cbc256bb1');\n",
              "var x = new MutationObserver(function (mutations, observer) {{\n",
              "        var display = window.getComputedStyle(gd).display;\n",
              "        if (!display || display === 'none') {{\n",
              "            console.log([gd, 'removed!']);\n",
              "            Plotly.purge(gd);\n",
              "            observer.disconnect();\n",
              "        }}\n",
              "}});\n",
              "\n",
              "// Listen for the removal of the full notebook cells\n",
              "var notebookContainer = gd.closest('#notebook-container');\n",
              "if (notebookContainer) {{\n",
              "    x.observe(notebookContainer, {childList: true});\n",
              "}}\n",
              "\n",
              "// Listen for the clearing of the current output cell\n",
              "var outputEl = gd.closest('.output');\n",
              "if (outputEl) {{\n",
              "    x.observe(outputEl, {childList: true});\n",
              "}}\n",
              "\n",
              "                        })                };                            </script>        </div>\n",
              "</body>\n",
              "</html>"
            ]
          },
          "metadata": {}
        }
      ]
    },
    {
      "cell_type": "markdown",
      "source": [
        "Yes, it appears to copy. Although it does not copy the index tokens (0, 1, 2)."
      ],
      "metadata": {
        "id": "ui_HtHNR5dOK"
      }
    },
    {
      "cell_type": "code",
      "source": [
        "top_1_acc = (virtual_OV_circuit[:cfg.d_vocab_out].argmax(dim=-1) == torch.arange(cfg.d_vocab_out, device=device)).float().mean()\n",
        "print(f\"Fraction of time top logit is on diagonal\", top_1_acc.item())"
      ],
      "metadata": {
        "colab": {
          "base_uri": "https://localhost:8080/"
        },
        "id": "bcQbEqRR6e0y",
        "outputId": "b1ca7bf3-11f2-453e-983c-30274b95e9a7"
      },
      "execution_count": 295,
      "outputs": [
        {
          "output_type": "stream",
          "name": "stdout",
          "text": [
            "Fraction of time top logit is on diagonal 0.9799999594688416\n"
          ]
        }
      ]
    },
    {
      "cell_type": "markdown",
      "source": [
        "## Direct logit attribution on all preds"
      ],
      "metadata": {
        "id": "2DvUcvJTOUlN"
      }
    },
    {
      "cell_type": "markdown",
      "source": [
        "Note that the model must make 3 predictions for this task, and we only tried direct logit attribution on the first one. We can quickly do the same for the other predictions to sanity check that they are using the same circuits."
      ],
      "metadata": {
        "id": "sDKrTDOHkJTb"
      }
    },
    {
      "cell_type": "code",
      "source": [
        "accumulated_resid_stack, labels = cache.accumulated_resid(layer=-1, pos_slice=(first_pred_pos,-1), return_labels=True)\n",
        "print(accumulated_resid_stack.shape)\n",
        "print(labels)"
      ],
      "metadata": {
        "colab": {
          "base_uri": "https://localhost:8080/"
        },
        "id": "S-eB6OUpOc99",
        "outputId": "9c258829-a545-43c8-8df8-8bee94ece732"
      },
      "execution_count": 296,
      "outputs": [
        {
          "output_type": "stream",
          "name": "stdout",
          "text": [
            "torch.Size([3, 256, 3, 128])\n",
            "['0_pre', '1_pre', 'final_post']\n"
          ]
        }
      ]
    },
    {
      "cell_type": "code",
      "source": [
        "logit_dirs = model.tokens_to_residual_directions(test_sample[:, -LIST_LEN:])\n",
        "print(logit_dirs.shape)"
      ],
      "metadata": {
        "colab": {
          "base_uri": "https://localhost:8080/"
        },
        "id": "LtergFOvO4pp",
        "outputId": "b9329959-437d-4310-97c3-5c465d6e14a8"
      },
      "execution_count": 297,
      "outputs": [
        {
          "output_type": "stream",
          "name": "stdout",
          "text": [
            "torch.Size([256, 3, 128])\n"
          ]
        }
      ]
    },
    {
      "cell_type": "code",
      "source": [
        "accumulated_contrib = einops.einsum(\n",
        "    accumulated_resid_stack, logit_dirs,\n",
        "    \"... batch pos d_model, batch pos d_model -> pos ...\"\n",
        ") / logit_dirs.shape[0]\n",
        "\n",
        "\n",
        "lines(\n",
        "    accumulated_contrib,\n",
        "    title=\"Logit lens: prefix contribution to correct logit dirs (all 3 predictions)\",\n",
        "    xaxis=\"Layer\", yaxis=\"Contribution\",\n",
        "    x=labels,\n",
        ")"
      ],
      "metadata": {
        "colab": {
          "base_uri": "https://localhost:8080/",
          "height": 542
        },
        "id": "Fb8ASUrEPD4Y",
        "outputId": "eda26fe1-ffc3-4c27-cc1b-d6841eb31d07"
      },
      "execution_count": 298,
      "outputs": [
        {
          "output_type": "display_data",
          "data": {
            "text/html": [
              "<html>\n",
              "<head><meta charset=\"utf-8\" /></head>\n",
              "<body>\n",
              "    <div>            <script src=\"https://cdnjs.cloudflare.com/ajax/libs/mathjax/2.7.5/MathJax.js?config=TeX-AMS-MML_SVG\"></script><script type=\"text/javascript\">if (window.MathJax && window.MathJax.Hub && window.MathJax.Hub.Config) {window.MathJax.Hub.Config({SVG: {font: \"STIX-Web\"}});}</script>                <script type=\"text/javascript\">window.PlotlyConfig = {MathJaxConfig: 'local'};</script>\n",
              "        <script src=\"https://cdn.plot.ly/plotly-2.18.2.min.js\"></script>                <div id=\"eaf5c8da-9319-4ecb-8356-da696d70cbcf\" class=\"plotly-graph-div\" style=\"height:525px; width:100%;\"></div>            <script type=\"text/javascript\">                                    window.PLOTLYENV=window.PLOTLYENV || {};                                    if (document.getElementById(\"eaf5c8da-9319-4ecb-8356-da696d70cbcf\")) {                    Plotly.newPlot(                        \"eaf5c8da-9319-4ecb-8356-da696d70cbcf\",                        [{\"mode\":\"lines\",\"name\":\"0\",\"x\":[\"0_pre\",\"1_pre\",\"final_post\"],\"y\":[-0.12993696331977844,1.239114761352539,21.908721923828125],\"type\":\"scatter\"},{\"mode\":\"lines\",\"name\":\"1\",\"x\":[\"0_pre\",\"1_pre\",\"final_post\"],\"y\":[-0.06008443981409073,1.016092300415039,21.22763442993164],\"type\":\"scatter\"},{\"mode\":\"lines\",\"name\":\"2\",\"x\":[\"0_pre\",\"1_pre\",\"final_post\"],\"y\":[0.022673342376947403,1.6235172748565674,22.64321517944336],\"type\":\"scatter\"}],                        {\"title\":{\"text\":\"Logit lens: prefix contribution to correct logit dirs (all 3 predictions)\"},\"template\":{\"data\":{\"histogram2dcontour\":[{\"type\":\"histogram2dcontour\",\"colorbar\":{\"outlinewidth\":0,\"ticks\":\"\"},\"colorscale\":[[0.0,\"#0d0887\"],[0.1111111111111111,\"#46039f\"],[0.2222222222222222,\"#7201a8\"],[0.3333333333333333,\"#9c179e\"],[0.4444444444444444,\"#bd3786\"],[0.5555555555555556,\"#d8576b\"],[0.6666666666666666,\"#ed7953\"],[0.7777777777777778,\"#fb9f3a\"],[0.8888888888888888,\"#fdca26\"],[1.0,\"#f0f921\"]]}],\"choropleth\":[{\"type\":\"choropleth\",\"colorbar\":{\"outlinewidth\":0,\"ticks\":\"\"}}],\"histogram2d\":[{\"type\":\"histogram2d\",\"colorbar\":{\"outlinewidth\":0,\"ticks\":\"\"},\"colorscale\":[[0.0,\"#0d0887\"],[0.1111111111111111,\"#46039f\"],[0.2222222222222222,\"#7201a8\"],[0.3333333333333333,\"#9c179e\"],[0.4444444444444444,\"#bd3786\"],[0.5555555555555556,\"#d8576b\"],[0.6666666666666666,\"#ed7953\"],[0.7777777777777778,\"#fb9f3a\"],[0.8888888888888888,\"#fdca26\"],[1.0,\"#f0f921\"]]}],\"heatmap\":[{\"type\":\"heatmap\",\"colorbar\":{\"outlinewidth\":0,\"ticks\":\"\"},\"colorscale\":[[0.0,\"#0d0887\"],[0.1111111111111111,\"#46039f\"],[0.2222222222222222,\"#7201a8\"],[0.3333333333333333,\"#9c179e\"],[0.4444444444444444,\"#bd3786\"],[0.5555555555555556,\"#d8576b\"],[0.6666666666666666,\"#ed7953\"],[0.7777777777777778,\"#fb9f3a\"],[0.8888888888888888,\"#fdca26\"],[1.0,\"#f0f921\"]]}],\"heatmapgl\":[{\"type\":\"heatmapgl\",\"colorbar\":{\"outlinewidth\":0,\"ticks\":\"\"},\"colorscale\":[[0.0,\"#0d0887\"],[0.1111111111111111,\"#46039f\"],[0.2222222222222222,\"#7201a8\"],[0.3333333333333333,\"#9c179e\"],[0.4444444444444444,\"#bd3786\"],[0.5555555555555556,\"#d8576b\"],[0.6666666666666666,\"#ed7953\"],[0.7777777777777778,\"#fb9f3a\"],[0.8888888888888888,\"#fdca26\"],[1.0,\"#f0f921\"]]}],\"contourcarpet\":[{\"type\":\"contourcarpet\",\"colorbar\":{\"outlinewidth\":0,\"ticks\":\"\"}}],\"contour\":[{\"type\":\"contour\",\"colorbar\":{\"outlinewidth\":0,\"ticks\":\"\"},\"colorscale\":[[0.0,\"#0d0887\"],[0.1111111111111111,\"#46039f\"],[0.2222222222222222,\"#7201a8\"],[0.3333333333333333,\"#9c179e\"],[0.4444444444444444,\"#bd3786\"],[0.5555555555555556,\"#d8576b\"],[0.6666666666666666,\"#ed7953\"],[0.7777777777777778,\"#fb9f3a\"],[0.8888888888888888,\"#fdca26\"],[1.0,\"#f0f921\"]]}],\"surface\":[{\"type\":\"surface\",\"colorbar\":{\"outlinewidth\":0,\"ticks\":\"\"},\"colorscale\":[[0.0,\"#0d0887\"],[0.1111111111111111,\"#46039f\"],[0.2222222222222222,\"#7201a8\"],[0.3333333333333333,\"#9c179e\"],[0.4444444444444444,\"#bd3786\"],[0.5555555555555556,\"#d8576b\"],[0.6666666666666666,\"#ed7953\"],[0.7777777777777778,\"#fb9f3a\"],[0.8888888888888888,\"#fdca26\"],[1.0,\"#f0f921\"]]}],\"mesh3d\":[{\"type\":\"mesh3d\",\"colorbar\":{\"outlinewidth\":0,\"ticks\":\"\"}}],\"scatter\":[{\"fillpattern\":{\"fillmode\":\"overlay\",\"size\":10,\"solidity\":0.2},\"type\":\"scatter\"}],\"parcoords\":[{\"type\":\"parcoords\",\"line\":{\"colorbar\":{\"outlinewidth\":0,\"ticks\":\"\"}}}],\"scatterpolargl\":[{\"type\":\"scatterpolargl\",\"marker\":{\"colorbar\":{\"outlinewidth\":0,\"ticks\":\"\"}}}],\"bar\":[{\"error_x\":{\"color\":\"#2a3f5f\"},\"error_y\":{\"color\":\"#2a3f5f\"},\"marker\":{\"line\":{\"color\":\"#E5ECF6\",\"width\":0.5},\"pattern\":{\"fillmode\":\"overlay\",\"size\":10,\"solidity\":0.2}},\"type\":\"bar\"}],\"scattergeo\":[{\"type\":\"scattergeo\",\"marker\":{\"colorbar\":{\"outlinewidth\":0,\"ticks\":\"\"}}}],\"scatterpolar\":[{\"type\":\"scatterpolar\",\"marker\":{\"colorbar\":{\"outlinewidth\":0,\"ticks\":\"\"}}}],\"histogram\":[{\"marker\":{\"pattern\":{\"fillmode\":\"overlay\",\"size\":10,\"solidity\":0.2}},\"type\":\"histogram\"}],\"scattergl\":[{\"type\":\"scattergl\",\"marker\":{\"colorbar\":{\"outlinewidth\":0,\"ticks\":\"\"}}}],\"scatter3d\":[{\"type\":\"scatter3d\",\"line\":{\"colorbar\":{\"outlinewidth\":0,\"ticks\":\"\"}},\"marker\":{\"colorbar\":{\"outlinewidth\":0,\"ticks\":\"\"}}}],\"scattermapbox\":[{\"type\":\"scattermapbox\",\"marker\":{\"colorbar\":{\"outlinewidth\":0,\"ticks\":\"\"}}}],\"scatterternary\":[{\"type\":\"scatterternary\",\"marker\":{\"colorbar\":{\"outlinewidth\":0,\"ticks\":\"\"}}}],\"scattercarpet\":[{\"type\":\"scattercarpet\",\"marker\":{\"colorbar\":{\"outlinewidth\":0,\"ticks\":\"\"}}}],\"carpet\":[{\"aaxis\":{\"endlinecolor\":\"#2a3f5f\",\"gridcolor\":\"white\",\"linecolor\":\"white\",\"minorgridcolor\":\"white\",\"startlinecolor\":\"#2a3f5f\"},\"baxis\":{\"endlinecolor\":\"#2a3f5f\",\"gridcolor\":\"white\",\"linecolor\":\"white\",\"minorgridcolor\":\"white\",\"startlinecolor\":\"#2a3f5f\"},\"type\":\"carpet\"}],\"table\":[{\"cells\":{\"fill\":{\"color\":\"#EBF0F8\"},\"line\":{\"color\":\"white\"}},\"header\":{\"fill\":{\"color\":\"#C8D4E3\"},\"line\":{\"color\":\"white\"}},\"type\":\"table\"}],\"barpolar\":[{\"marker\":{\"line\":{\"color\":\"#E5ECF6\",\"width\":0.5},\"pattern\":{\"fillmode\":\"overlay\",\"size\":10,\"solidity\":0.2}},\"type\":\"barpolar\"}],\"pie\":[{\"automargin\":true,\"type\":\"pie\"}]},\"layout\":{\"autotypenumbers\":\"strict\",\"colorway\":[\"#636efa\",\"#EF553B\",\"#00cc96\",\"#ab63fa\",\"#FFA15A\",\"#19d3f3\",\"#FF6692\",\"#B6E880\",\"#FF97FF\",\"#FECB52\"],\"font\":{\"color\":\"#2a3f5f\"},\"hovermode\":\"closest\",\"hoverlabel\":{\"align\":\"left\"},\"paper_bgcolor\":\"white\",\"plot_bgcolor\":\"#E5ECF6\",\"polar\":{\"bgcolor\":\"#E5ECF6\",\"angularaxis\":{\"gridcolor\":\"white\",\"linecolor\":\"white\",\"ticks\":\"\"},\"radialaxis\":{\"gridcolor\":\"white\",\"linecolor\":\"white\",\"ticks\":\"\"}},\"ternary\":{\"bgcolor\":\"#E5ECF6\",\"aaxis\":{\"gridcolor\":\"white\",\"linecolor\":\"white\",\"ticks\":\"\"},\"baxis\":{\"gridcolor\":\"white\",\"linecolor\":\"white\",\"ticks\":\"\"},\"caxis\":{\"gridcolor\":\"white\",\"linecolor\":\"white\",\"ticks\":\"\"}},\"coloraxis\":{\"colorbar\":{\"outlinewidth\":0,\"ticks\":\"\"}},\"colorscale\":{\"sequential\":[[0.0,\"#0d0887\"],[0.1111111111111111,\"#46039f\"],[0.2222222222222222,\"#7201a8\"],[0.3333333333333333,\"#9c179e\"],[0.4444444444444444,\"#bd3786\"],[0.5555555555555556,\"#d8576b\"],[0.6666666666666666,\"#ed7953\"],[0.7777777777777778,\"#fb9f3a\"],[0.8888888888888888,\"#fdca26\"],[1.0,\"#f0f921\"]],\"sequentialminus\":[[0.0,\"#0d0887\"],[0.1111111111111111,\"#46039f\"],[0.2222222222222222,\"#7201a8\"],[0.3333333333333333,\"#9c179e\"],[0.4444444444444444,\"#bd3786\"],[0.5555555555555556,\"#d8576b\"],[0.6666666666666666,\"#ed7953\"],[0.7777777777777778,\"#fb9f3a\"],[0.8888888888888888,\"#fdca26\"],[1.0,\"#f0f921\"]],\"diverging\":[[0,\"#8e0152\"],[0.1,\"#c51b7d\"],[0.2,\"#de77ae\"],[0.3,\"#f1b6da\"],[0.4,\"#fde0ef\"],[0.5,\"#f7f7f7\"],[0.6,\"#e6f5d0\"],[0.7,\"#b8e186\"],[0.8,\"#7fbc41\"],[0.9,\"#4d9221\"],[1,\"#276419\"]]},\"xaxis\":{\"gridcolor\":\"white\",\"linecolor\":\"white\",\"ticks\":\"\",\"title\":{\"standoff\":15},\"zerolinecolor\":\"white\",\"automargin\":true,\"zerolinewidth\":2},\"yaxis\":{\"gridcolor\":\"white\",\"linecolor\":\"white\",\"ticks\":\"\",\"title\":{\"standoff\":15},\"zerolinecolor\":\"white\",\"automargin\":true,\"zerolinewidth\":2},\"scene\":{\"xaxis\":{\"backgroundcolor\":\"#E5ECF6\",\"gridcolor\":\"white\",\"linecolor\":\"white\",\"showbackground\":true,\"ticks\":\"\",\"zerolinecolor\":\"white\",\"gridwidth\":2},\"yaxis\":{\"backgroundcolor\":\"#E5ECF6\",\"gridcolor\":\"white\",\"linecolor\":\"white\",\"showbackground\":true,\"ticks\":\"\",\"zerolinecolor\":\"white\",\"gridwidth\":2},\"zaxis\":{\"backgroundcolor\":\"#E5ECF6\",\"gridcolor\":\"white\",\"linecolor\":\"white\",\"showbackground\":true,\"ticks\":\"\",\"zerolinecolor\":\"white\",\"gridwidth\":2}},\"shapedefaults\":{\"line\":{\"color\":\"#2a3f5f\"}},\"annotationdefaults\":{\"arrowcolor\":\"#2a3f5f\",\"arrowhead\":0,\"arrowwidth\":1},\"geo\":{\"bgcolor\":\"white\",\"landcolor\":\"#E5ECF6\",\"subunitcolor\":\"white\",\"showland\":true,\"showlakes\":true,\"lakecolor\":\"white\"},\"title\":{\"x\":0.05},\"mapbox\":{\"style\":\"light\"}}},\"xaxis\":{\"title\":{\"text\":\"Layer\"}},\"yaxis\":{\"title\":{\"text\":\"Contribution\"}}},                        {\"responsive\": true}                    ).then(function(){\n",
              "                            \n",
              "var gd = document.getElementById('eaf5c8da-9319-4ecb-8356-da696d70cbcf');\n",
              "var x = new MutationObserver(function (mutations, observer) {{\n",
              "        var display = window.getComputedStyle(gd).display;\n",
              "        if (!display || display === 'none') {{\n",
              "            console.log([gd, 'removed!']);\n",
              "            Plotly.purge(gd);\n",
              "            observer.disconnect();\n",
              "        }}\n",
              "}});\n",
              "\n",
              "// Listen for the removal of the full notebook cells\n",
              "var notebookContainer = gd.closest('#notebook-container');\n",
              "if (notebookContainer) {{\n",
              "    x.observe(notebookContainer, {childList: true});\n",
              "}}\n",
              "\n",
              "// Listen for the clearing of the current output cell\n",
              "var outputEl = gd.closest('.output');\n",
              "if (outputEl) {{\n",
              "    x.observe(outputEl, {childList: true});\n",
              "}}\n",
              "\n",
              "                        })                };                            </script>        </div>\n",
              "</body>\n",
              "</html>"
            ]
          },
          "metadata": {}
        }
      ]
    },
    {
      "cell_type": "code",
      "source": [
        "decomposed_resid_stack, labels = cache.decompose_resid(layer=-1, pos_slice=(first_pred_pos,-1), return_labels=True)\n",
        "print(decomposed_resid_stack.shape)\n",
        "print(labels)"
      ],
      "metadata": {
        "colab": {
          "base_uri": "https://localhost:8080/"
        },
        "id": "9RfcD8e3PWaK",
        "outputId": "8070410f-5d0a-4e35-9879-394768bff4f2"
      },
      "execution_count": 299,
      "outputs": [
        {
          "output_type": "stream",
          "name": "stdout",
          "text": [
            "torch.Size([4, 256, 3, 128])\n",
            "['embed', 'pos_embed', '0_attn_out', '1_attn_out']\n"
          ]
        }
      ]
    },
    {
      "cell_type": "code",
      "source": [
        "decomposed_contrib = einops.einsum(\n",
        "    decomposed_resid_stack, logit_dirs,\n",
        "    \"... batch pos d_model, batch pos d_model -> pos ...\"\n",
        ") / logit_dirs.shape[0]\n",
        "\n",
        "lines(\n",
        "    decomposed_contrib,\n",
        "    title=\"Per component contribution to correct logit dirs (all 3 predictions)\",\n",
        "    xaxis=\"Layer\", yaxis=\"Contribution\",\n",
        "    x=labels\n",
        ")"
      ],
      "metadata": {
        "colab": {
          "base_uri": "https://localhost:8080/",
          "height": 542
        },
        "id": "f1h65VwNPYKY",
        "outputId": "3b9745a1-14e8-4f14-96cf-ac86404f756a"
      },
      "execution_count": 300,
      "outputs": [
        {
          "output_type": "display_data",
          "data": {
            "text/html": [
              "<html>\n",
              "<head><meta charset=\"utf-8\" /></head>\n",
              "<body>\n",
              "    <div>            <script src=\"https://cdnjs.cloudflare.com/ajax/libs/mathjax/2.7.5/MathJax.js?config=TeX-AMS-MML_SVG\"></script><script type=\"text/javascript\">if (window.MathJax && window.MathJax.Hub && window.MathJax.Hub.Config) {window.MathJax.Hub.Config({SVG: {font: \"STIX-Web\"}});}</script>                <script type=\"text/javascript\">window.PlotlyConfig = {MathJaxConfig: 'local'};</script>\n",
              "        <script src=\"https://cdn.plot.ly/plotly-2.18.2.min.js\"></script>                <div id=\"12fc9b51-9e00-4723-8e6a-af1db06fd77d\" class=\"plotly-graph-div\" style=\"height:525px; width:100%;\"></div>            <script type=\"text/javascript\">                                    window.PLOTLYENV=window.PLOTLYENV || {};                                    if (document.getElementById(\"12fc9b51-9e00-4723-8e6a-af1db06fd77d\")) {                    Plotly.newPlot(                        \"12fc9b51-9e00-4723-8e6a-af1db06fd77d\",                        [{\"mode\":\"lines\",\"name\":\"0\",\"x\":[\"embed\",\"pos_embed\",\"0_attn_out\",\"1_attn_out\"],\"y\":[-0.12993696331977844,-0.06922698765993118,1.3690516948699951,20.669607162475586],\"type\":\"scatter\"},{\"mode\":\"lines\",\"name\":\"1\",\"x\":[\"embed\",\"pos_embed\",\"0_attn_out\",\"1_attn_out\"],\"y\":[-0.06008443981409073,-0.04623407870531082,1.076176643371582,20.2115478515625],\"type\":\"scatter\"},{\"mode\":\"lines\",\"name\":\"2\",\"x\":[\"embed\",\"pos_embed\",\"0_attn_out\",\"1_attn_out\"],\"y\":[0.022673342376947403,-0.10834915935993195,1.6008442640304565,21.01970100402832],\"type\":\"scatter\"}],                        {\"title\":{\"text\":\"Per component contribution to correct logit dirs (all 3 predictions)\"},\"template\":{\"data\":{\"histogram2dcontour\":[{\"type\":\"histogram2dcontour\",\"colorbar\":{\"outlinewidth\":0,\"ticks\":\"\"},\"colorscale\":[[0.0,\"#0d0887\"],[0.1111111111111111,\"#46039f\"],[0.2222222222222222,\"#7201a8\"],[0.3333333333333333,\"#9c179e\"],[0.4444444444444444,\"#bd3786\"],[0.5555555555555556,\"#d8576b\"],[0.6666666666666666,\"#ed7953\"],[0.7777777777777778,\"#fb9f3a\"],[0.8888888888888888,\"#fdca26\"],[1.0,\"#f0f921\"]]}],\"choropleth\":[{\"type\":\"choropleth\",\"colorbar\":{\"outlinewidth\":0,\"ticks\":\"\"}}],\"histogram2d\":[{\"type\":\"histogram2d\",\"colorbar\":{\"outlinewidth\":0,\"ticks\":\"\"},\"colorscale\":[[0.0,\"#0d0887\"],[0.1111111111111111,\"#46039f\"],[0.2222222222222222,\"#7201a8\"],[0.3333333333333333,\"#9c179e\"],[0.4444444444444444,\"#bd3786\"],[0.5555555555555556,\"#d8576b\"],[0.6666666666666666,\"#ed7953\"],[0.7777777777777778,\"#fb9f3a\"],[0.8888888888888888,\"#fdca26\"],[1.0,\"#f0f921\"]]}],\"heatmap\":[{\"type\":\"heatmap\",\"colorbar\":{\"outlinewidth\":0,\"ticks\":\"\"},\"colorscale\":[[0.0,\"#0d0887\"],[0.1111111111111111,\"#46039f\"],[0.2222222222222222,\"#7201a8\"],[0.3333333333333333,\"#9c179e\"],[0.4444444444444444,\"#bd3786\"],[0.5555555555555556,\"#d8576b\"],[0.6666666666666666,\"#ed7953\"],[0.7777777777777778,\"#fb9f3a\"],[0.8888888888888888,\"#fdca26\"],[1.0,\"#f0f921\"]]}],\"heatmapgl\":[{\"type\":\"heatmapgl\",\"colorbar\":{\"outlinewidth\":0,\"ticks\":\"\"},\"colorscale\":[[0.0,\"#0d0887\"],[0.1111111111111111,\"#46039f\"],[0.2222222222222222,\"#7201a8\"],[0.3333333333333333,\"#9c179e\"],[0.4444444444444444,\"#bd3786\"],[0.5555555555555556,\"#d8576b\"],[0.6666666666666666,\"#ed7953\"],[0.7777777777777778,\"#fb9f3a\"],[0.8888888888888888,\"#fdca26\"],[1.0,\"#f0f921\"]]}],\"contourcarpet\":[{\"type\":\"contourcarpet\",\"colorbar\":{\"outlinewidth\":0,\"ticks\":\"\"}}],\"contour\":[{\"type\":\"contour\",\"colorbar\":{\"outlinewidth\":0,\"ticks\":\"\"},\"colorscale\":[[0.0,\"#0d0887\"],[0.1111111111111111,\"#46039f\"],[0.2222222222222222,\"#7201a8\"],[0.3333333333333333,\"#9c179e\"],[0.4444444444444444,\"#bd3786\"],[0.5555555555555556,\"#d8576b\"],[0.6666666666666666,\"#ed7953\"],[0.7777777777777778,\"#fb9f3a\"],[0.8888888888888888,\"#fdca26\"],[1.0,\"#f0f921\"]]}],\"surface\":[{\"type\":\"surface\",\"colorbar\":{\"outlinewidth\":0,\"ticks\":\"\"},\"colorscale\":[[0.0,\"#0d0887\"],[0.1111111111111111,\"#46039f\"],[0.2222222222222222,\"#7201a8\"],[0.3333333333333333,\"#9c179e\"],[0.4444444444444444,\"#bd3786\"],[0.5555555555555556,\"#d8576b\"],[0.6666666666666666,\"#ed7953\"],[0.7777777777777778,\"#fb9f3a\"],[0.8888888888888888,\"#fdca26\"],[1.0,\"#f0f921\"]]}],\"mesh3d\":[{\"type\":\"mesh3d\",\"colorbar\":{\"outlinewidth\":0,\"ticks\":\"\"}}],\"scatter\":[{\"fillpattern\":{\"fillmode\":\"overlay\",\"size\":10,\"solidity\":0.2},\"type\":\"scatter\"}],\"parcoords\":[{\"type\":\"parcoords\",\"line\":{\"colorbar\":{\"outlinewidth\":0,\"ticks\":\"\"}}}],\"scatterpolargl\":[{\"type\":\"scatterpolargl\",\"marker\":{\"colorbar\":{\"outlinewidth\":0,\"ticks\":\"\"}}}],\"bar\":[{\"error_x\":{\"color\":\"#2a3f5f\"},\"error_y\":{\"color\":\"#2a3f5f\"},\"marker\":{\"line\":{\"color\":\"#E5ECF6\",\"width\":0.5},\"pattern\":{\"fillmode\":\"overlay\",\"size\":10,\"solidity\":0.2}},\"type\":\"bar\"}],\"scattergeo\":[{\"type\":\"scattergeo\",\"marker\":{\"colorbar\":{\"outlinewidth\":0,\"ticks\":\"\"}}}],\"scatterpolar\":[{\"type\":\"scatterpolar\",\"marker\":{\"colorbar\":{\"outlinewidth\":0,\"ticks\":\"\"}}}],\"histogram\":[{\"marker\":{\"pattern\":{\"fillmode\":\"overlay\",\"size\":10,\"solidity\":0.2}},\"type\":\"histogram\"}],\"scattergl\":[{\"type\":\"scattergl\",\"marker\":{\"colorbar\":{\"outlinewidth\":0,\"ticks\":\"\"}}}],\"scatter3d\":[{\"type\":\"scatter3d\",\"line\":{\"colorbar\":{\"outlinewidth\":0,\"ticks\":\"\"}},\"marker\":{\"colorbar\":{\"outlinewidth\":0,\"ticks\":\"\"}}}],\"scattermapbox\":[{\"type\":\"scattermapbox\",\"marker\":{\"colorbar\":{\"outlinewidth\":0,\"ticks\":\"\"}}}],\"scatterternary\":[{\"type\":\"scatterternary\",\"marker\":{\"colorbar\":{\"outlinewidth\":0,\"ticks\":\"\"}}}],\"scattercarpet\":[{\"type\":\"scattercarpet\",\"marker\":{\"colorbar\":{\"outlinewidth\":0,\"ticks\":\"\"}}}],\"carpet\":[{\"aaxis\":{\"endlinecolor\":\"#2a3f5f\",\"gridcolor\":\"white\",\"linecolor\":\"white\",\"minorgridcolor\":\"white\",\"startlinecolor\":\"#2a3f5f\"},\"baxis\":{\"endlinecolor\":\"#2a3f5f\",\"gridcolor\":\"white\",\"linecolor\":\"white\",\"minorgridcolor\":\"white\",\"startlinecolor\":\"#2a3f5f\"},\"type\":\"carpet\"}],\"table\":[{\"cells\":{\"fill\":{\"color\":\"#EBF0F8\"},\"line\":{\"color\":\"white\"}},\"header\":{\"fill\":{\"color\":\"#C8D4E3\"},\"line\":{\"color\":\"white\"}},\"type\":\"table\"}],\"barpolar\":[{\"marker\":{\"line\":{\"color\":\"#E5ECF6\",\"width\":0.5},\"pattern\":{\"fillmode\":\"overlay\",\"size\":10,\"solidity\":0.2}},\"type\":\"barpolar\"}],\"pie\":[{\"automargin\":true,\"type\":\"pie\"}]},\"layout\":{\"autotypenumbers\":\"strict\",\"colorway\":[\"#636efa\",\"#EF553B\",\"#00cc96\",\"#ab63fa\",\"#FFA15A\",\"#19d3f3\",\"#FF6692\",\"#B6E880\",\"#FF97FF\",\"#FECB52\"],\"font\":{\"color\":\"#2a3f5f\"},\"hovermode\":\"closest\",\"hoverlabel\":{\"align\":\"left\"},\"paper_bgcolor\":\"white\",\"plot_bgcolor\":\"#E5ECF6\",\"polar\":{\"bgcolor\":\"#E5ECF6\",\"angularaxis\":{\"gridcolor\":\"white\",\"linecolor\":\"white\",\"ticks\":\"\"},\"radialaxis\":{\"gridcolor\":\"white\",\"linecolor\":\"white\",\"ticks\":\"\"}},\"ternary\":{\"bgcolor\":\"#E5ECF6\",\"aaxis\":{\"gridcolor\":\"white\",\"linecolor\":\"white\",\"ticks\":\"\"},\"baxis\":{\"gridcolor\":\"white\",\"linecolor\":\"white\",\"ticks\":\"\"},\"caxis\":{\"gridcolor\":\"white\",\"linecolor\":\"white\",\"ticks\":\"\"}},\"coloraxis\":{\"colorbar\":{\"outlinewidth\":0,\"ticks\":\"\"}},\"colorscale\":{\"sequential\":[[0.0,\"#0d0887\"],[0.1111111111111111,\"#46039f\"],[0.2222222222222222,\"#7201a8\"],[0.3333333333333333,\"#9c179e\"],[0.4444444444444444,\"#bd3786\"],[0.5555555555555556,\"#d8576b\"],[0.6666666666666666,\"#ed7953\"],[0.7777777777777778,\"#fb9f3a\"],[0.8888888888888888,\"#fdca26\"],[1.0,\"#f0f921\"]],\"sequentialminus\":[[0.0,\"#0d0887\"],[0.1111111111111111,\"#46039f\"],[0.2222222222222222,\"#7201a8\"],[0.3333333333333333,\"#9c179e\"],[0.4444444444444444,\"#bd3786\"],[0.5555555555555556,\"#d8576b\"],[0.6666666666666666,\"#ed7953\"],[0.7777777777777778,\"#fb9f3a\"],[0.8888888888888888,\"#fdca26\"],[1.0,\"#f0f921\"]],\"diverging\":[[0,\"#8e0152\"],[0.1,\"#c51b7d\"],[0.2,\"#de77ae\"],[0.3,\"#f1b6da\"],[0.4,\"#fde0ef\"],[0.5,\"#f7f7f7\"],[0.6,\"#e6f5d0\"],[0.7,\"#b8e186\"],[0.8,\"#7fbc41\"],[0.9,\"#4d9221\"],[1,\"#276419\"]]},\"xaxis\":{\"gridcolor\":\"white\",\"linecolor\":\"white\",\"ticks\":\"\",\"title\":{\"standoff\":15},\"zerolinecolor\":\"white\",\"automargin\":true,\"zerolinewidth\":2},\"yaxis\":{\"gridcolor\":\"white\",\"linecolor\":\"white\",\"ticks\":\"\",\"title\":{\"standoff\":15},\"zerolinecolor\":\"white\",\"automargin\":true,\"zerolinewidth\":2},\"scene\":{\"xaxis\":{\"backgroundcolor\":\"#E5ECF6\",\"gridcolor\":\"white\",\"linecolor\":\"white\",\"showbackground\":true,\"ticks\":\"\",\"zerolinecolor\":\"white\",\"gridwidth\":2},\"yaxis\":{\"backgroundcolor\":\"#E5ECF6\",\"gridcolor\":\"white\",\"linecolor\":\"white\",\"showbackground\":true,\"ticks\":\"\",\"zerolinecolor\":\"white\",\"gridwidth\":2},\"zaxis\":{\"backgroundcolor\":\"#E5ECF6\",\"gridcolor\":\"white\",\"linecolor\":\"white\",\"showbackground\":true,\"ticks\":\"\",\"zerolinecolor\":\"white\",\"gridwidth\":2}},\"shapedefaults\":{\"line\":{\"color\":\"#2a3f5f\"}},\"annotationdefaults\":{\"arrowcolor\":\"#2a3f5f\",\"arrowhead\":0,\"arrowwidth\":1},\"geo\":{\"bgcolor\":\"white\",\"landcolor\":\"#E5ECF6\",\"subunitcolor\":\"white\",\"showland\":true,\"showlakes\":true,\"lakecolor\":\"white\"},\"title\":{\"x\":0.05},\"mapbox\":{\"style\":\"light\"}}},\"xaxis\":{\"title\":{\"text\":\"Layer\"}},\"yaxis\":{\"title\":{\"text\":\"Contribution\"}}},                        {\"responsive\": true}                    ).then(function(){\n",
              "                            \n",
              "var gd = document.getElementById('12fc9b51-9e00-4723-8e6a-af1db06fd77d');\n",
              "var x = new MutationObserver(function (mutations, observer) {{\n",
              "        var display = window.getComputedStyle(gd).display;\n",
              "        if (!display || display === 'none') {{\n",
              "            console.log([gd, 'removed!']);\n",
              "            Plotly.purge(gd);\n",
              "            observer.disconnect();\n",
              "        }}\n",
              "}});\n",
              "\n",
              "// Listen for the removal of the full notebook cells\n",
              "var notebookContainer = gd.closest('#notebook-container');\n",
              "if (notebookContainer) {{\n",
              "    x.observe(notebookContainer, {childList: true});\n",
              "}}\n",
              "\n",
              "// Listen for the clearing of the current output cell\n",
              "var outputEl = gd.closest('.output');\n",
              "if (outputEl) {{\n",
              "    x.observe(outputEl, {childList: true});\n",
              "}}\n",
              "\n",
              "                        })                };                            </script>        </div>\n",
              "</body>\n",
              "</html>"
            ]
          },
          "metadata": {}
        }
      ]
    },
    {
      "cell_type": "markdown",
      "source": [
        "We see that the direct logit attribution looks very similar for all predictions."
      ],
      "metadata": {
        "id": "SkLzPCBlozTN"
      }
    },
    {
      "cell_type": "code",
      "source": [
        "embed_both_heads_term = einops.einsum(\n",
        "    cache['pattern', 1], cache['pattern', 0], cache['embed'], model.OV[0,0].AB, model.OV[1, 0].AB,\n",
        "    \"batch n_heads pos1 pos2, batch n_heads pos2 pos3, batch pos3 d_model1, d_model1 d_model2, d_model2 d_model3 -> batch pos1 d_model3\"\n",
        ")\n",
        "\n",
        "embed_head_1_term = einops.einsum(\n",
        "    cache['pattern', 1], cache['embed'], model.OV[1, 0].AB,\n",
        "    \"batch n_heads q_pos k_pos, batch k_pos d_model1, d_model1 d_model2 -> batch q_pos d_model2\"\n",
        ")\n",
        "\n",
        "print(embed_both_heads_term.shape)\n",
        "print(embed_head_1_term.shape)\n",
        "\n",
        "assert torch.allclose(embed_both_heads_term  + embed_head_1_term , cache['attn_out', 1], atol=1e-3)"
      ],
      "metadata": {
        "colab": {
          "base_uri": "https://localhost:8080/"
        },
        "id": "1CXNwBvWPdNk",
        "outputId": "004a57de-7e40-4e68-de27-e297ecc20537"
      },
      "execution_count": 301,
      "outputs": [
        {
          "output_type": "stream",
          "name": "stdout",
          "text": [
            "torch.Size([256, 11, 128])\n",
            "torch.Size([256, 11, 128])\n"
          ]
        }
      ]
    },
    {
      "cell_type": "code",
      "source": [
        "h1_stack = torch.stack([embed_both_heads_term, embed_head_1_term])\n",
        "h1_stack = h1_stack[:, :, first_pred_pos:-1, :]\n",
        "labels = [\"embed_both_heads_term\", \"embed_head_1_term\"]\n",
        "print(h1_stack.shape)\n",
        "print(labels)"
      ],
      "metadata": {
        "colab": {
          "base_uri": "https://localhost:8080/"
        },
        "id": "5X3iyUYNPrgg",
        "outputId": "141b2683-ca02-4424-fdc9-51fcf2df5fda"
      },
      "execution_count": 302,
      "outputs": [
        {
          "output_type": "stream",
          "name": "stdout",
          "text": [
            "torch.Size([2, 256, 3, 128])\n",
            "['embed_both_heads_term', 'embed_head_1_term']\n"
          ]
        }
      ]
    },
    {
      "cell_type": "code",
      "source": [
        "h1_contrib = einops.einsum(\n",
        "    h1_stack, logit_dirs,\n",
        "    \"... batch pos d_model, batch pos d_model -> pos ...\"\n",
        ") / h1_stack.shape[1]\n",
        "\n",
        "lines(\n",
        "    h1_contrib,\n",
        "    title=\"1_attn_out decomposed logit contribution (all 3 predictions)\",\n",
        "    xaxis=\"Layer\", yaxis=\"Contribution\",\n",
        "    x=labels\n",
        ")"
      ],
      "metadata": {
        "colab": {
          "base_uri": "https://localhost:8080/",
          "height": 542
        },
        "id": "RS4h1truPxMy",
        "outputId": "ff4dff23-ef0a-442c-9e7e-737eeef7a028"
      },
      "execution_count": 303,
      "outputs": [
        {
          "output_type": "display_data",
          "data": {
            "text/html": [
              "<html>\n",
              "<head><meta charset=\"utf-8\" /></head>\n",
              "<body>\n",
              "    <div>            <script src=\"https://cdnjs.cloudflare.com/ajax/libs/mathjax/2.7.5/MathJax.js?config=TeX-AMS-MML_SVG\"></script><script type=\"text/javascript\">if (window.MathJax && window.MathJax.Hub && window.MathJax.Hub.Config) {window.MathJax.Hub.Config({SVG: {font: \"STIX-Web\"}});}</script>                <script type=\"text/javascript\">window.PlotlyConfig = {MathJaxConfig: 'local'};</script>\n",
              "        <script src=\"https://cdn.plot.ly/plotly-2.18.2.min.js\"></script>                <div id=\"4be4cdda-278f-4edb-9348-87073a7dfd03\" class=\"plotly-graph-div\" style=\"height:525px; width:100%;\"></div>            <script type=\"text/javascript\">                                    window.PLOTLYENV=window.PLOTLYENV || {};                                    if (document.getElementById(\"4be4cdda-278f-4edb-9348-87073a7dfd03\")) {                    Plotly.newPlot(                        \"4be4cdda-278f-4edb-9348-87073a7dfd03\",                        [{\"mode\":\"lines\",\"name\":\"0\",\"x\":[\"embed_both_heads_term\",\"embed_head_1_term\"],\"y\":[12.606624603271484,8.062981605529785],\"type\":\"scatter\"},{\"mode\":\"lines\",\"name\":\"1\",\"x\":[\"embed_both_heads_term\",\"embed_head_1_term\"],\"y\":[10.437068939208984,9.774474143981934],\"type\":\"scatter\"},{\"mode\":\"lines\",\"name\":\"2\",\"x\":[\"embed_both_heads_term\",\"embed_head_1_term\"],\"y\":[13.04784870147705,7.9718499183654785],\"type\":\"scatter\"}],                        {\"title\":{\"text\":\"1_attn_out decomposed logit contribution (all 3 predictions)\"},\"template\":{\"data\":{\"histogram2dcontour\":[{\"type\":\"histogram2dcontour\",\"colorbar\":{\"outlinewidth\":0,\"ticks\":\"\"},\"colorscale\":[[0.0,\"#0d0887\"],[0.1111111111111111,\"#46039f\"],[0.2222222222222222,\"#7201a8\"],[0.3333333333333333,\"#9c179e\"],[0.4444444444444444,\"#bd3786\"],[0.5555555555555556,\"#d8576b\"],[0.6666666666666666,\"#ed7953\"],[0.7777777777777778,\"#fb9f3a\"],[0.8888888888888888,\"#fdca26\"],[1.0,\"#f0f921\"]]}],\"choropleth\":[{\"type\":\"choropleth\",\"colorbar\":{\"outlinewidth\":0,\"ticks\":\"\"}}],\"histogram2d\":[{\"type\":\"histogram2d\",\"colorbar\":{\"outlinewidth\":0,\"ticks\":\"\"},\"colorscale\":[[0.0,\"#0d0887\"],[0.1111111111111111,\"#46039f\"],[0.2222222222222222,\"#7201a8\"],[0.3333333333333333,\"#9c179e\"],[0.4444444444444444,\"#bd3786\"],[0.5555555555555556,\"#d8576b\"],[0.6666666666666666,\"#ed7953\"],[0.7777777777777778,\"#fb9f3a\"],[0.8888888888888888,\"#fdca26\"],[1.0,\"#f0f921\"]]}],\"heatmap\":[{\"type\":\"heatmap\",\"colorbar\":{\"outlinewidth\":0,\"ticks\":\"\"},\"colorscale\":[[0.0,\"#0d0887\"],[0.1111111111111111,\"#46039f\"],[0.2222222222222222,\"#7201a8\"],[0.3333333333333333,\"#9c179e\"],[0.4444444444444444,\"#bd3786\"],[0.5555555555555556,\"#d8576b\"],[0.6666666666666666,\"#ed7953\"],[0.7777777777777778,\"#fb9f3a\"],[0.8888888888888888,\"#fdca26\"],[1.0,\"#f0f921\"]]}],\"heatmapgl\":[{\"type\":\"heatmapgl\",\"colorbar\":{\"outlinewidth\":0,\"ticks\":\"\"},\"colorscale\":[[0.0,\"#0d0887\"],[0.1111111111111111,\"#46039f\"],[0.2222222222222222,\"#7201a8\"],[0.3333333333333333,\"#9c179e\"],[0.4444444444444444,\"#bd3786\"],[0.5555555555555556,\"#d8576b\"],[0.6666666666666666,\"#ed7953\"],[0.7777777777777778,\"#fb9f3a\"],[0.8888888888888888,\"#fdca26\"],[1.0,\"#f0f921\"]]}],\"contourcarpet\":[{\"type\":\"contourcarpet\",\"colorbar\":{\"outlinewidth\":0,\"ticks\":\"\"}}],\"contour\":[{\"type\":\"contour\",\"colorbar\":{\"outlinewidth\":0,\"ticks\":\"\"},\"colorscale\":[[0.0,\"#0d0887\"],[0.1111111111111111,\"#46039f\"],[0.2222222222222222,\"#7201a8\"],[0.3333333333333333,\"#9c179e\"],[0.4444444444444444,\"#bd3786\"],[0.5555555555555556,\"#d8576b\"],[0.6666666666666666,\"#ed7953\"],[0.7777777777777778,\"#fb9f3a\"],[0.8888888888888888,\"#fdca26\"],[1.0,\"#f0f921\"]]}],\"surface\":[{\"type\":\"surface\",\"colorbar\":{\"outlinewidth\":0,\"ticks\":\"\"},\"colorscale\":[[0.0,\"#0d0887\"],[0.1111111111111111,\"#46039f\"],[0.2222222222222222,\"#7201a8\"],[0.3333333333333333,\"#9c179e\"],[0.4444444444444444,\"#bd3786\"],[0.5555555555555556,\"#d8576b\"],[0.6666666666666666,\"#ed7953\"],[0.7777777777777778,\"#fb9f3a\"],[0.8888888888888888,\"#fdca26\"],[1.0,\"#f0f921\"]]}],\"mesh3d\":[{\"type\":\"mesh3d\",\"colorbar\":{\"outlinewidth\":0,\"ticks\":\"\"}}],\"scatter\":[{\"fillpattern\":{\"fillmode\":\"overlay\",\"size\":10,\"solidity\":0.2},\"type\":\"scatter\"}],\"parcoords\":[{\"type\":\"parcoords\",\"line\":{\"colorbar\":{\"outlinewidth\":0,\"ticks\":\"\"}}}],\"scatterpolargl\":[{\"type\":\"scatterpolargl\",\"marker\":{\"colorbar\":{\"outlinewidth\":0,\"ticks\":\"\"}}}],\"bar\":[{\"error_x\":{\"color\":\"#2a3f5f\"},\"error_y\":{\"color\":\"#2a3f5f\"},\"marker\":{\"line\":{\"color\":\"#E5ECF6\",\"width\":0.5},\"pattern\":{\"fillmode\":\"overlay\",\"size\":10,\"solidity\":0.2}},\"type\":\"bar\"}],\"scattergeo\":[{\"type\":\"scattergeo\",\"marker\":{\"colorbar\":{\"outlinewidth\":0,\"ticks\":\"\"}}}],\"scatterpolar\":[{\"type\":\"scatterpolar\",\"marker\":{\"colorbar\":{\"outlinewidth\":0,\"ticks\":\"\"}}}],\"histogram\":[{\"marker\":{\"pattern\":{\"fillmode\":\"overlay\",\"size\":10,\"solidity\":0.2}},\"type\":\"histogram\"}],\"scattergl\":[{\"type\":\"scattergl\",\"marker\":{\"colorbar\":{\"outlinewidth\":0,\"ticks\":\"\"}}}],\"scatter3d\":[{\"type\":\"scatter3d\",\"line\":{\"colorbar\":{\"outlinewidth\":0,\"ticks\":\"\"}},\"marker\":{\"colorbar\":{\"outlinewidth\":0,\"ticks\":\"\"}}}],\"scattermapbox\":[{\"type\":\"scattermapbox\",\"marker\":{\"colorbar\":{\"outlinewidth\":0,\"ticks\":\"\"}}}],\"scatterternary\":[{\"type\":\"scatterternary\",\"marker\":{\"colorbar\":{\"outlinewidth\":0,\"ticks\":\"\"}}}],\"scattercarpet\":[{\"type\":\"scattercarpet\",\"marker\":{\"colorbar\":{\"outlinewidth\":0,\"ticks\":\"\"}}}],\"carpet\":[{\"aaxis\":{\"endlinecolor\":\"#2a3f5f\",\"gridcolor\":\"white\",\"linecolor\":\"white\",\"minorgridcolor\":\"white\",\"startlinecolor\":\"#2a3f5f\"},\"baxis\":{\"endlinecolor\":\"#2a3f5f\",\"gridcolor\":\"white\",\"linecolor\":\"white\",\"minorgridcolor\":\"white\",\"startlinecolor\":\"#2a3f5f\"},\"type\":\"carpet\"}],\"table\":[{\"cells\":{\"fill\":{\"color\":\"#EBF0F8\"},\"line\":{\"color\":\"white\"}},\"header\":{\"fill\":{\"color\":\"#C8D4E3\"},\"line\":{\"color\":\"white\"}},\"type\":\"table\"}],\"barpolar\":[{\"marker\":{\"line\":{\"color\":\"#E5ECF6\",\"width\":0.5},\"pattern\":{\"fillmode\":\"overlay\",\"size\":10,\"solidity\":0.2}},\"type\":\"barpolar\"}],\"pie\":[{\"automargin\":true,\"type\":\"pie\"}]},\"layout\":{\"autotypenumbers\":\"strict\",\"colorway\":[\"#636efa\",\"#EF553B\",\"#00cc96\",\"#ab63fa\",\"#FFA15A\",\"#19d3f3\",\"#FF6692\",\"#B6E880\",\"#FF97FF\",\"#FECB52\"],\"font\":{\"color\":\"#2a3f5f\"},\"hovermode\":\"closest\",\"hoverlabel\":{\"align\":\"left\"},\"paper_bgcolor\":\"white\",\"plot_bgcolor\":\"#E5ECF6\",\"polar\":{\"bgcolor\":\"#E5ECF6\",\"angularaxis\":{\"gridcolor\":\"white\",\"linecolor\":\"white\",\"ticks\":\"\"},\"radialaxis\":{\"gridcolor\":\"white\",\"linecolor\":\"white\",\"ticks\":\"\"}},\"ternary\":{\"bgcolor\":\"#E5ECF6\",\"aaxis\":{\"gridcolor\":\"white\",\"linecolor\":\"white\",\"ticks\":\"\"},\"baxis\":{\"gridcolor\":\"white\",\"linecolor\":\"white\",\"ticks\":\"\"},\"caxis\":{\"gridcolor\":\"white\",\"linecolor\":\"white\",\"ticks\":\"\"}},\"coloraxis\":{\"colorbar\":{\"outlinewidth\":0,\"ticks\":\"\"}},\"colorscale\":{\"sequential\":[[0.0,\"#0d0887\"],[0.1111111111111111,\"#46039f\"],[0.2222222222222222,\"#7201a8\"],[0.3333333333333333,\"#9c179e\"],[0.4444444444444444,\"#bd3786\"],[0.5555555555555556,\"#d8576b\"],[0.6666666666666666,\"#ed7953\"],[0.7777777777777778,\"#fb9f3a\"],[0.8888888888888888,\"#fdca26\"],[1.0,\"#f0f921\"]],\"sequentialminus\":[[0.0,\"#0d0887\"],[0.1111111111111111,\"#46039f\"],[0.2222222222222222,\"#7201a8\"],[0.3333333333333333,\"#9c179e\"],[0.4444444444444444,\"#bd3786\"],[0.5555555555555556,\"#d8576b\"],[0.6666666666666666,\"#ed7953\"],[0.7777777777777778,\"#fb9f3a\"],[0.8888888888888888,\"#fdca26\"],[1.0,\"#f0f921\"]],\"diverging\":[[0,\"#8e0152\"],[0.1,\"#c51b7d\"],[0.2,\"#de77ae\"],[0.3,\"#f1b6da\"],[0.4,\"#fde0ef\"],[0.5,\"#f7f7f7\"],[0.6,\"#e6f5d0\"],[0.7,\"#b8e186\"],[0.8,\"#7fbc41\"],[0.9,\"#4d9221\"],[1,\"#276419\"]]},\"xaxis\":{\"gridcolor\":\"white\",\"linecolor\":\"white\",\"ticks\":\"\",\"title\":{\"standoff\":15},\"zerolinecolor\":\"white\",\"automargin\":true,\"zerolinewidth\":2},\"yaxis\":{\"gridcolor\":\"white\",\"linecolor\":\"white\",\"ticks\":\"\",\"title\":{\"standoff\":15},\"zerolinecolor\":\"white\",\"automargin\":true,\"zerolinewidth\":2},\"scene\":{\"xaxis\":{\"backgroundcolor\":\"#E5ECF6\",\"gridcolor\":\"white\",\"linecolor\":\"white\",\"showbackground\":true,\"ticks\":\"\",\"zerolinecolor\":\"white\",\"gridwidth\":2},\"yaxis\":{\"backgroundcolor\":\"#E5ECF6\",\"gridcolor\":\"white\",\"linecolor\":\"white\",\"showbackground\":true,\"ticks\":\"\",\"zerolinecolor\":\"white\",\"gridwidth\":2},\"zaxis\":{\"backgroundcolor\":\"#E5ECF6\",\"gridcolor\":\"white\",\"linecolor\":\"white\",\"showbackground\":true,\"ticks\":\"\",\"zerolinecolor\":\"white\",\"gridwidth\":2}},\"shapedefaults\":{\"line\":{\"color\":\"#2a3f5f\"}},\"annotationdefaults\":{\"arrowcolor\":\"#2a3f5f\",\"arrowhead\":0,\"arrowwidth\":1},\"geo\":{\"bgcolor\":\"white\",\"landcolor\":\"#E5ECF6\",\"subunitcolor\":\"white\",\"showland\":true,\"showlakes\":true,\"lakecolor\":\"white\"},\"title\":{\"x\":0.05},\"mapbox\":{\"style\":\"light\"}}},\"xaxis\":{\"title\":{\"text\":\"Layer\"}},\"yaxis\":{\"title\":{\"text\":\"Contribution\"}}},                        {\"responsive\": true}                    ).then(function(){\n",
              "                            \n",
              "var gd = document.getElementById('4be4cdda-278f-4edb-9348-87073a7dfd03');\n",
              "var x = new MutationObserver(function (mutations, observer) {{\n",
              "        var display = window.getComputedStyle(gd).display;\n",
              "        if (!display || display === 'none') {{\n",
              "            console.log([gd, 'removed!']);\n",
              "            Plotly.purge(gd);\n",
              "            observer.disconnect();\n",
              "        }}\n",
              "}});\n",
              "\n",
              "// Listen for the removal of the full notebook cells\n",
              "var notebookContainer = gd.closest('#notebook-container');\n",
              "if (notebookContainer) {{\n",
              "    x.observe(notebookContainer, {childList: true});\n",
              "}}\n",
              "\n",
              "// Listen for the clearing of the current output cell\n",
              "var outputEl = gd.closest('.output');\n",
              "if (outputEl) {{\n",
              "    x.observe(outputEl, {childList: true});\n",
              "}}\n",
              "\n",
              "                        })                };                            </script>        </div>\n",
              "</body>\n",
              "</html>"
            ]
          },
          "metadata": {}
        }
      ]
    },
    {
      "cell_type": "markdown",
      "source": [
        "We can see that the prediction corresponding to the array update (1) relies more on the k-comp circuit. But both paths are important for all 3 predictions."
      ],
      "metadata": {
        "id": "nrdBuPWsQhXX"
      }
    },
    {
      "cell_type": "markdown",
      "source": [
        "# Summary"
      ],
      "metadata": {
        "id": "x8tk2DWvRnPU"
      }
    },
    {
      "cell_type": "markdown",
      "source": [
        "We found that a 2L, 1H attn-only transformer with shortformer positional embeddings and no biases and layer norms can learn to update fixed-length array indices with a combination of K-composition and V-composition.\n",
        "\n",
        "\n",
        "The lines of evidence we used:\n",
        "1. Direct logit attribution showed that the output of attn head 1.0 was the most important. More refined direct logit attribution also showed that both terms corresponding to the paths through 1.0 and both heads were very important.\n",
        "2. Empirically both 1.0 attn pattern A^1.0 and the virtual attn pattern A^1.0A^0.0 showed that the prediction positions attended strongly to the correct answer.\n",
        "3. We showed that both OV circuits $W_EW_{OV}^{1.0}W_U$ and $W_EW_{OV}^{0.0}W_{OV}^{1.0}W_U$ clearly copied.\n",
        "4. Activation patching showed that patching in the key for the correct answer token fully recovered performance, suggesting K-composition.\n",
        "5. We read off the K-comp algorithm from QK circuit weights."
      ],
      "metadata": {
        "id": "YTcdmr11RoTO"
      }
    },
    {
      "cell_type": "markdown",
      "source": [
        "## General techniques you can apply to other problems"
      ],
      "metadata": {
        "id": "X3AP2rqoTS-T"
      }
    },
    {
      "cell_type": "markdown",
      "source": [
        "* Direct logit attribution\n",
        "* Staring at attention patterns\n",
        "* Activation patching\n",
        "* Multiplying out QK / OV circuits"
      ],
      "metadata": {
        "id": "k1smaHNhTVLD"
      }
    }
  ]
}