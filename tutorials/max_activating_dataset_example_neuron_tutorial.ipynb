{
  "nbformat": 4,
  "nbformat_minor": 0,
  "metadata": {
    "colab": {
      "provenance": [],
      "toc_visible": true,
      "collapsed_sections": [
        "JeENCT8b1kAv"
      ],
      "authorship_tag": "ABX9TyOYPhiJQ8eX339uc8SHth1P"
    },
    "kernelspec": {
      "name": "python3",
      "display_name": "Python 3"
    },
    "language_info": {
      "name": "python"
    },
    "accelerator": "GPU",
    "gpuClass": "standard"
  },
  "cells": [
    {
      "cell_type": "markdown",
      "source": [
        "# Problem"
      ],
      "metadata": {
        "id": "YAoVVg7f-3JY"
      }
    },
    {
      "cell_type": "markdown",
      "source": [
        "Given a small model (gelu-1l) and dataset (c4-10k), find and store the top_k max activating dataset examples for each neuron. Then visualize the top_k max activating dataset examples for neuron L0N424 and compare the results to [neuroscope](https://neuroscope.io/gelu-1l/0/424.html)."
      ],
      "metadata": {
        "id": "naQbnppY-5Pe"
      }
    },
    {
      "cell_type": "markdown",
      "metadata": {
        "id": "JeENCT8b1kAv"
      },
      "source": [
        "# Setup\n",
        "(No need to read)"
      ]
    },
    {
      "cell_type": "code",
      "execution_count": 1,
      "metadata": {
        "id": "sxK_xiOO1kAv",
        "outputId": "43914737-3e24-451c-e77c-3fbad580b1a3",
        "colab": {
          "base_uri": "https://localhost:8080/"
        }
      },
      "outputs": [
        {
          "output_type": "stream",
          "name": "stdout",
          "text": [
            "Running as a Colab notebook\n",
            "Collecting git+https://github.com/neelnanda-io/TransformerLens.git\n",
            "  Cloning https://github.com/neelnanda-io/TransformerLens.git to /tmp/pip-req-build-6ohxkv76\n",
            "  Running command git clone --filter=blob:none --quiet https://github.com/neelnanda-io/TransformerLens.git /tmp/pip-req-build-6ohxkv76\n",
            "  Resolved https://github.com/neelnanda-io/TransformerLens.git to commit 0c464cbd0d929fa3fe51fa2f8ab68389155da43f\n",
            "  Installing build dependencies ... \u001b[?25l\u001b[?25hdone\n",
            "  Getting requirements to build wheel ... \u001b[?25l\u001b[?25hdone\n",
            "  Preparing metadata (pyproject.toml) ... \u001b[?25l\u001b[?25hdone\n",
            "Requirement already satisfied: accelerate>=0.23.0 in /usr/local/lib/python3.10/dist-packages (from transformer-lens==0.0.0) (0.23.0)\n",
            "Requirement already satisfied: beartype<0.15.0,>=0.14.1 in /usr/local/lib/python3.10/dist-packages (from transformer-lens==0.0.0) (0.14.1)\n",
            "Requirement already satisfied: datasets>=2.7.1 in /usr/local/lib/python3.10/dist-packages (from transformer-lens==0.0.0) (2.14.5)\n",
            "Requirement already satisfied: einops>=0.6.0 in /usr/local/lib/python3.10/dist-packages (from transformer-lens==0.0.0) (0.7.0)\n",
            "Requirement already satisfied: fancy-einsum>=0.0.3 in /usr/local/lib/python3.10/dist-packages (from transformer-lens==0.0.0) (0.0.3)\n",
            "Requirement already satisfied: jaxtyping>=0.2.11 in /usr/local/lib/python3.10/dist-packages (from transformer-lens==0.0.0) (0.2.23)\n",
            "Requirement already satisfied: numpy>=1.23 in /usr/local/lib/python3.10/dist-packages (from transformer-lens==0.0.0) (1.23.5)\n",
            "Requirement already satisfied: nvidia-cublas-cu12==12.1.3.1 in /usr/local/lib/python3.10/dist-packages (from transformer-lens==0.0.0) (12.1.3.1)\n",
            "Requirement already satisfied: nvidia-cuda-cupti-cu12==12.1.105 in /usr/local/lib/python3.10/dist-packages (from transformer-lens==0.0.0) (12.1.105)\n",
            "Requirement already satisfied: nvidia-cuda-nvrtc-cu12==12.1.105 in /usr/local/lib/python3.10/dist-packages (from transformer-lens==0.0.0) (12.1.105)\n",
            "Requirement already satisfied: nvidia-cuda-runtime-cu12==12.1.105 in /usr/local/lib/python3.10/dist-packages (from transformer-lens==0.0.0) (12.1.105)\n",
            "Requirement already satisfied: nvidia-cudnn-cu12==8.9.2.26 in /usr/local/lib/python3.10/dist-packages (from transformer-lens==0.0.0) (8.9.2.26)\n",
            "Requirement already satisfied: nvidia-cufft-cu12==11.0.2.54 in /usr/local/lib/python3.10/dist-packages (from transformer-lens==0.0.0) (11.0.2.54)\n",
            "Requirement already satisfied: nvidia-curand-cu12==10.3.2.106 in /usr/local/lib/python3.10/dist-packages (from transformer-lens==0.0.0) (10.3.2.106)\n",
            "Requirement already satisfied: nvidia-cusolver-cu12==11.4.5.107 in /usr/local/lib/python3.10/dist-packages (from transformer-lens==0.0.0) (11.4.5.107)\n",
            "Requirement already satisfied: nvidia-cusparse-cu12==12.1.0.106 in /usr/local/lib/python3.10/dist-packages (from transformer-lens==0.0.0) (12.1.0.106)\n",
            "Requirement already satisfied: nvidia-nccl-cu12==2.18.1 in /usr/local/lib/python3.10/dist-packages (from transformer-lens==0.0.0) (2.18.1)\n",
            "Requirement already satisfied: nvidia-nvtx-cu12==12.1.105 in /usr/local/lib/python3.10/dist-packages (from transformer-lens==0.0.0) (12.1.105)\n",
            "Requirement already satisfied: pandas>=1.1.5 in /usr/local/lib/python3.10/dist-packages (from transformer-lens==0.0.0) (1.5.3)\n",
            "Requirement already satisfied: rich>=12.6.0 in /usr/local/lib/python3.10/dist-packages (from transformer-lens==0.0.0) (13.6.0)\n",
            "Requirement already satisfied: torch>=1.10 in /usr/local/lib/python3.10/dist-packages (from transformer-lens==0.0.0) (2.1.0)\n",
            "Requirement already satisfied: tqdm>=4.64.1 in /usr/local/lib/python3.10/dist-packages (from transformer-lens==0.0.0) (4.66.1)\n",
            "Requirement already satisfied: transformers>=4.25.1 in /usr/local/lib/python3.10/dist-packages (from transformer-lens==0.0.0) (4.34.0)\n",
            "Requirement already satisfied: triton==2.1.0 in /usr/local/lib/python3.10/dist-packages (from transformer-lens==0.0.0) (2.1.0)\n",
            "Requirement already satisfied: typing-extensions in /usr/local/lib/python3.10/dist-packages (from transformer-lens==0.0.0) (4.5.0)\n",
            "Requirement already satisfied: wandb>=0.13.5 in /usr/local/lib/python3.10/dist-packages (from transformer-lens==0.0.0) (0.15.12)\n",
            "Requirement already satisfied: nvidia-nvjitlink-cu12 in /usr/local/lib/python3.10/dist-packages (from nvidia-cusolver-cu12==11.4.5.107->transformer-lens==0.0.0) (12.2.140)\n",
            "Requirement already satisfied: filelock in /usr/local/lib/python3.10/dist-packages (from triton==2.1.0->transformer-lens==0.0.0) (3.12.4)\n",
            "Requirement already satisfied: packaging>=20.0 in /usr/local/lib/python3.10/dist-packages (from accelerate>=0.23.0->transformer-lens==0.0.0) (23.2)\n",
            "Requirement already satisfied: psutil in /usr/local/lib/python3.10/dist-packages (from accelerate>=0.23.0->transformer-lens==0.0.0) (5.9.5)\n",
            "Requirement already satisfied: pyyaml in /usr/local/lib/python3.10/dist-packages (from accelerate>=0.23.0->transformer-lens==0.0.0) (6.0.1)\n",
            "Requirement already satisfied: huggingface-hub in /usr/local/lib/python3.10/dist-packages (from accelerate>=0.23.0->transformer-lens==0.0.0) (0.17.3)\n",
            "Requirement already satisfied: pyarrow>=8.0.0 in /usr/local/lib/python3.10/dist-packages (from datasets>=2.7.1->transformer-lens==0.0.0) (9.0.0)\n",
            "Requirement already satisfied: dill<0.3.8,>=0.3.0 in /usr/local/lib/python3.10/dist-packages (from datasets>=2.7.1->transformer-lens==0.0.0) (0.3.7)\n",
            "Requirement already satisfied: requests>=2.19.0 in /usr/local/lib/python3.10/dist-packages (from datasets>=2.7.1->transformer-lens==0.0.0) (2.31.0)\n",
            "Requirement already satisfied: xxhash in /usr/local/lib/python3.10/dist-packages (from datasets>=2.7.1->transformer-lens==0.0.0) (3.4.1)\n",
            "Requirement already satisfied: multiprocess in /usr/local/lib/python3.10/dist-packages (from datasets>=2.7.1->transformer-lens==0.0.0) (0.70.15)\n",
            "Requirement already satisfied: fsspec[http]<2023.9.0,>=2023.1.0 in /usr/local/lib/python3.10/dist-packages (from datasets>=2.7.1->transformer-lens==0.0.0) (2023.6.0)\n",
            "Requirement already satisfied: aiohttp in /usr/local/lib/python3.10/dist-packages (from datasets>=2.7.1->transformer-lens==0.0.0) (3.8.6)\n",
            "Requirement already satisfied: typeguard<3,>=2.13.3 in /usr/local/lib/python3.10/dist-packages (from jaxtyping>=0.2.11->transformer-lens==0.0.0) (2.13.3)\n",
            "Requirement already satisfied: python-dateutil>=2.8.1 in /usr/local/lib/python3.10/dist-packages (from pandas>=1.1.5->transformer-lens==0.0.0) (2.8.2)\n",
            "Requirement already satisfied: pytz>=2020.1 in /usr/local/lib/python3.10/dist-packages (from pandas>=1.1.5->transformer-lens==0.0.0) (2023.3.post1)\n",
            "Requirement already satisfied: markdown-it-py>=2.2.0 in /usr/local/lib/python3.10/dist-packages (from rich>=12.6.0->transformer-lens==0.0.0) (3.0.0)\n",
            "Requirement already satisfied: pygments<3.0.0,>=2.13.0 in /usr/local/lib/python3.10/dist-packages (from rich>=12.6.0->transformer-lens==0.0.0) (2.16.1)\n",
            "Requirement already satisfied: sympy in /usr/local/lib/python3.10/dist-packages (from torch>=1.10->transformer-lens==0.0.0) (1.12)\n",
            "Requirement already satisfied: networkx in /usr/local/lib/python3.10/dist-packages (from torch>=1.10->transformer-lens==0.0.0) (3.1)\n",
            "Requirement already satisfied: jinja2 in /usr/local/lib/python3.10/dist-packages (from torch>=1.10->transformer-lens==0.0.0) (3.1.2)\n",
            "Requirement already satisfied: regex!=2019.12.17 in /usr/local/lib/python3.10/dist-packages (from transformers>=4.25.1->transformer-lens==0.0.0) (2023.6.3)\n",
            "Requirement already satisfied: tokenizers<0.15,>=0.14 in /usr/local/lib/python3.10/dist-packages (from transformers>=4.25.1->transformer-lens==0.0.0) (0.14.1)\n",
            "Requirement already satisfied: safetensors>=0.3.1 in /usr/local/lib/python3.10/dist-packages (from transformers>=4.25.1->transformer-lens==0.0.0) (0.4.0)\n",
            "Requirement already satisfied: Click!=8.0.0,>=7.1 in /usr/local/lib/python3.10/dist-packages (from wandb>=0.13.5->transformer-lens==0.0.0) (8.1.7)\n",
            "Requirement already satisfied: GitPython!=3.1.29,>=1.0.0 in /usr/local/lib/python3.10/dist-packages (from wandb>=0.13.5->transformer-lens==0.0.0) (3.1.37)\n",
            "Requirement already satisfied: sentry-sdk>=1.0.0 in /usr/local/lib/python3.10/dist-packages (from wandb>=0.13.5->transformer-lens==0.0.0) (1.32.0)\n",
            "Requirement already satisfied: docker-pycreds>=0.4.0 in /usr/local/lib/python3.10/dist-packages (from wandb>=0.13.5->transformer-lens==0.0.0) (0.4.0)\n",
            "Requirement already satisfied: pathtools in /usr/local/lib/python3.10/dist-packages (from wandb>=0.13.5->transformer-lens==0.0.0) (0.1.2)\n",
            "Requirement already satisfied: setproctitle in /usr/local/lib/python3.10/dist-packages (from wandb>=0.13.5->transformer-lens==0.0.0) (1.3.3)\n",
            "Requirement already satisfied: setuptools in /usr/local/lib/python3.10/dist-packages (from wandb>=0.13.5->transformer-lens==0.0.0) (67.7.2)\n",
            "Requirement already satisfied: appdirs>=1.4.3 in /usr/local/lib/python3.10/dist-packages (from wandb>=0.13.5->transformer-lens==0.0.0) (1.4.4)\n",
            "Requirement already satisfied: protobuf!=4.21.0,<5,>=3.19.0 in /usr/local/lib/python3.10/dist-packages (from wandb>=0.13.5->transformer-lens==0.0.0) (3.20.3)\n",
            "Requirement already satisfied: six>=1.4.0 in /usr/local/lib/python3.10/dist-packages (from docker-pycreds>=0.4.0->wandb>=0.13.5->transformer-lens==0.0.0) (1.16.0)\n",
            "Requirement already satisfied: attrs>=17.3.0 in /usr/local/lib/python3.10/dist-packages (from aiohttp->datasets>=2.7.1->transformer-lens==0.0.0) (23.1.0)\n",
            "Requirement already satisfied: charset-normalizer<4.0,>=2.0 in /usr/local/lib/python3.10/dist-packages (from aiohttp->datasets>=2.7.1->transformer-lens==0.0.0) (3.3.0)\n",
            "Requirement already satisfied: multidict<7.0,>=4.5 in /usr/local/lib/python3.10/dist-packages (from aiohttp->datasets>=2.7.1->transformer-lens==0.0.0) (6.0.4)\n",
            "Requirement already satisfied: async-timeout<5.0,>=4.0.0a3 in /usr/local/lib/python3.10/dist-packages (from aiohttp->datasets>=2.7.1->transformer-lens==0.0.0) (4.0.3)\n",
            "Requirement already satisfied: yarl<2.0,>=1.0 in /usr/local/lib/python3.10/dist-packages (from aiohttp->datasets>=2.7.1->transformer-lens==0.0.0) (1.9.2)\n",
            "Requirement already satisfied: frozenlist>=1.1.1 in /usr/local/lib/python3.10/dist-packages (from aiohttp->datasets>=2.7.1->transformer-lens==0.0.0) (1.4.0)\n",
            "Requirement already satisfied: aiosignal>=1.1.2 in /usr/local/lib/python3.10/dist-packages (from aiohttp->datasets>=2.7.1->transformer-lens==0.0.0) (1.3.1)\n",
            "Requirement already satisfied: gitdb<5,>=4.0.1 in /usr/local/lib/python3.10/dist-packages (from GitPython!=3.1.29,>=1.0.0->wandb>=0.13.5->transformer-lens==0.0.0) (4.0.10)\n",
            "Requirement already satisfied: mdurl~=0.1 in /usr/local/lib/python3.10/dist-packages (from markdown-it-py>=2.2.0->rich>=12.6.0->transformer-lens==0.0.0) (0.1.2)\n",
            "Requirement already satisfied: idna<4,>=2.5 in /usr/local/lib/python3.10/dist-packages (from requests>=2.19.0->datasets>=2.7.1->transformer-lens==0.0.0) (3.4)\n",
            "Requirement already satisfied: urllib3<3,>=1.21.1 in /usr/local/lib/python3.10/dist-packages (from requests>=2.19.0->datasets>=2.7.1->transformer-lens==0.0.0) (2.0.6)\n",
            "Requirement already satisfied: certifi>=2017.4.17 in /usr/local/lib/python3.10/dist-packages (from requests>=2.19.0->datasets>=2.7.1->transformer-lens==0.0.0) (2023.7.22)\n",
            "Requirement already satisfied: MarkupSafe>=2.0 in /usr/local/lib/python3.10/dist-packages (from jinja2->torch>=1.10->transformer-lens==0.0.0) (2.1.3)\n",
            "Requirement already satisfied: mpmath>=0.19 in /usr/local/lib/python3.10/dist-packages (from sympy->torch>=1.10->transformer-lens==0.0.0) (1.3.0)\n",
            "Requirement already satisfied: smmap<6,>=3.0.1 in /usr/local/lib/python3.10/dist-packages (from gitdb<5,>=4.0.1->GitPython!=3.1.29,>=1.0.0->wandb>=0.13.5->transformer-lens==0.0.0) (5.0.1)\n"
          ]
        }
      ],
      "source": [
        "# Janky code to do different setup when run in a Colab notebook vs VSCode\n",
        "DEBUG_MODE = False\n",
        "try:\n",
        "    import google.colab\n",
        "    IN_COLAB = True\n",
        "    print(\"Running as a Colab notebook\")\n",
        "    %pip install git+https://github.com/neelnanda-io/TransformerLens.git\n",
        "except:\n",
        "    IN_COLAB = False\n",
        "    print(\"Running as a Jupyter notebook - intended for development only!\")\n",
        "    from IPython import get_ipython\n",
        "\n",
        "    ipython = get_ipython()\n",
        "    # Code to automatically update the HookedTransformer code as its edited without restarting the kernel\n",
        "    ipython.magic(\"load_ext autoreload\")\n",
        "    ipython.magic(\"autoreload 2\")"
      ]
    },
    {
      "cell_type": "code",
      "source": [
        "try:\n",
        "    %pip install git+https://github.com/callummcdougall/CircuitsVis.git#subdirectory=python\n",
        "except:\n",
        "    import os; os.environ[\"ACCELERATE_DISABLE_RICH\"] = \"1\"\n",
        "    from IPython import get_ipython\n",
        "    ipython = get_ipython()\n",
        "    ipython.run_line_magic(\"load_ext\", \"autoreload\")\n",
        "    ipython.run_line_magic(\"autoreload\", \"2\")"
      ],
      "metadata": {
        "id": "zfSn5iNSFKlo",
        "colab": {
          "base_uri": "https://localhost:8080/"
        },
        "outputId": "4714b249-ef4d-4fe3-9c3c-a41d8bb11cff"
      },
      "execution_count": 2,
      "outputs": [
        {
          "output_type": "stream",
          "name": "stdout",
          "text": [
            "Collecting git+https://github.com/callummcdougall/CircuitsVis.git#subdirectory=python\n",
            "  Cloning https://github.com/callummcdougall/CircuitsVis.git to /tmp/pip-req-build-0peal_ke\n",
            "  Running command git clone --filter=blob:none --quiet https://github.com/callummcdougall/CircuitsVis.git /tmp/pip-req-build-0peal_ke\n",
            "  Resolved https://github.com/callummcdougall/CircuitsVis.git to commit df9bfc252807e8b1c3a26c3c4796c18342c7fc71\n",
            "  Installing build dependencies ... \u001b[?25l\u001b[?25hdone\n",
            "  Getting requirements to build wheel ... \u001b[?25l\u001b[?25hdone\n",
            "  Preparing metadata (pyproject.toml) ... \u001b[?25l\u001b[?25hdone\n",
            "Requirement already satisfied: importlib-metadata<6.0.0,>=5.1.0 in /usr/local/lib/python3.10/dist-packages (from circuitsvis==0.0.0) (5.2.0)\n",
            "Requirement already satisfied: numpy<2.0,>=1.23 in /usr/local/lib/python3.10/dist-packages (from circuitsvis==0.0.0) (1.23.5)\n",
            "Requirement already satisfied: torch<3.0,>=2.0 in /usr/local/lib/python3.10/dist-packages (from circuitsvis==0.0.0) (2.1.0)\n",
            "Requirement already satisfied: zipp>=0.5 in /usr/local/lib/python3.10/dist-packages (from importlib-metadata<6.0.0,>=5.1.0->circuitsvis==0.0.0) (3.17.0)\n",
            "Requirement already satisfied: filelock in /usr/local/lib/python3.10/dist-packages (from torch<3.0,>=2.0->circuitsvis==0.0.0) (3.12.4)\n",
            "Requirement already satisfied: typing-extensions in /usr/local/lib/python3.10/dist-packages (from torch<3.0,>=2.0->circuitsvis==0.0.0) (4.5.0)\n",
            "Requirement already satisfied: sympy in /usr/local/lib/python3.10/dist-packages (from torch<3.0,>=2.0->circuitsvis==0.0.0) (1.12)\n",
            "Requirement already satisfied: networkx in /usr/local/lib/python3.10/dist-packages (from torch<3.0,>=2.0->circuitsvis==0.0.0) (3.1)\n",
            "Requirement already satisfied: jinja2 in /usr/local/lib/python3.10/dist-packages (from torch<3.0,>=2.0->circuitsvis==0.0.0) (3.1.2)\n",
            "Requirement already satisfied: fsspec in /usr/local/lib/python3.10/dist-packages (from torch<3.0,>=2.0->circuitsvis==0.0.0) (2023.6.0)\n",
            "Requirement already satisfied: nvidia-cuda-nvrtc-cu12==12.1.105 in /usr/local/lib/python3.10/dist-packages (from torch<3.0,>=2.0->circuitsvis==0.0.0) (12.1.105)\n",
            "Requirement already satisfied: nvidia-cuda-runtime-cu12==12.1.105 in /usr/local/lib/python3.10/dist-packages (from torch<3.0,>=2.0->circuitsvis==0.0.0) (12.1.105)\n",
            "Requirement already satisfied: nvidia-cuda-cupti-cu12==12.1.105 in /usr/local/lib/python3.10/dist-packages (from torch<3.0,>=2.0->circuitsvis==0.0.0) (12.1.105)\n",
            "Requirement already satisfied: nvidia-cudnn-cu12==8.9.2.26 in /usr/local/lib/python3.10/dist-packages (from torch<3.0,>=2.0->circuitsvis==0.0.0) (8.9.2.26)\n",
            "Requirement already satisfied: nvidia-cublas-cu12==12.1.3.1 in /usr/local/lib/python3.10/dist-packages (from torch<3.0,>=2.0->circuitsvis==0.0.0) (12.1.3.1)\n",
            "Requirement already satisfied: nvidia-cufft-cu12==11.0.2.54 in /usr/local/lib/python3.10/dist-packages (from torch<3.0,>=2.0->circuitsvis==0.0.0) (11.0.2.54)\n",
            "Requirement already satisfied: nvidia-curand-cu12==10.3.2.106 in /usr/local/lib/python3.10/dist-packages (from torch<3.0,>=2.0->circuitsvis==0.0.0) (10.3.2.106)\n",
            "Requirement already satisfied: nvidia-cusolver-cu12==11.4.5.107 in /usr/local/lib/python3.10/dist-packages (from torch<3.0,>=2.0->circuitsvis==0.0.0) (11.4.5.107)\n",
            "Requirement already satisfied: nvidia-cusparse-cu12==12.1.0.106 in /usr/local/lib/python3.10/dist-packages (from torch<3.0,>=2.0->circuitsvis==0.0.0) (12.1.0.106)\n",
            "Requirement already satisfied: nvidia-nccl-cu12==2.18.1 in /usr/local/lib/python3.10/dist-packages (from torch<3.0,>=2.0->circuitsvis==0.0.0) (2.18.1)\n",
            "Requirement already satisfied: nvidia-nvtx-cu12==12.1.105 in /usr/local/lib/python3.10/dist-packages (from torch<3.0,>=2.0->circuitsvis==0.0.0) (12.1.105)\n",
            "Requirement already satisfied: triton==2.1.0 in /usr/local/lib/python3.10/dist-packages (from torch<3.0,>=2.0->circuitsvis==0.0.0) (2.1.0)\n",
            "Requirement already satisfied: nvidia-nvjitlink-cu12 in /usr/local/lib/python3.10/dist-packages (from nvidia-cusolver-cu12==11.4.5.107->torch<3.0,>=2.0->circuitsvis==0.0.0) (12.2.140)\n",
            "Requirement already satisfied: MarkupSafe>=2.0 in /usr/local/lib/python3.10/dist-packages (from jinja2->torch<3.0,>=2.0->circuitsvis==0.0.0) (2.1.3)\n",
            "Requirement already satisfied: mpmath>=0.19 in /usr/local/lib/python3.10/dist-packages (from sympy->torch<3.0,>=2.0->circuitsvis==0.0.0) (1.3.0)\n"
          ]
        }
      ]
    },
    {
      "cell_type": "code",
      "execution_count": 3,
      "metadata": {
        "id": "ucSutS0c1kAw"
      },
      "outputs": [],
      "source": [
        "# Plotly needs a different renderer for VSCode/Notebooks vs Colab argh\n",
        "import plotly.io as pio\n",
        "\n",
        "if IN_COLAB or not DEBUG_MODE:\n",
        "    # Thanks to annoying rendering issues, Plotly graphics will either show up in colab OR Vscode depending on the renderer - this is bad for developing demos! Thus creating a debug mode.\n",
        "    pio.renderers.default = \"colab\"\n",
        "else:\n",
        "    pio.renderers.default = \"png\""
      ]
    },
    {
      "cell_type": "code",
      "execution_count": 4,
      "metadata": {
        "id": "uR_n0Mrl1kAx"
      },
      "outputs": [],
      "source": [
        "# Import stuff\n",
        "import torch\n",
        "import torch.nn as nn\n",
        "import torch.nn.functional as F\n",
        "import torch.optim as optim\n",
        "import numpy as np\n",
        "import circuitsvis as cv\n",
        "import einops\n",
        "import tqdm.notebook as tqdm\n",
        "import random\n",
        "from pathlib import Path\n",
        "import plotly.express as px\n",
        "from torch.utils.data import DataLoader\n",
        "\n",
        "from jaxtyping import Float, Int\n",
        "from typing import List, Union, Optional\n",
        "from functools import partial\n",
        "import copy\n",
        "\n",
        "import pprint\n",
        "import json\n",
        "import itertools\n",
        "from transformers import AutoModelForCausalLM, AutoConfig, AutoTokenizer\n",
        "import dataclasses\n",
        "from dataclasses import dataclass\n",
        "import datasets\n",
        "from IPython.display import HTML"
      ]
    },
    {
      "cell_type": "code",
      "execution_count": 5,
      "metadata": {
        "id": "YSZhMtBl1kAx"
      },
      "outputs": [],
      "source": [
        "import transformer_lens\n",
        "import transformer_lens.utils as utils\n",
        "from transformer_lens.hook_points import (\n",
        "    HookedRootModule,\n",
        "    HookPoint,\n",
        ")  # Hooking utilities\n",
        "from transformer_lens import HookedTransformer, HookedTransformerConfig, FactoredMatrix, ActivationCache"
      ]
    },
    {
      "cell_type": "markdown",
      "metadata": {
        "id": "DPzBb_kI1kAy"
      },
      "source": [
        "Plotting helper functions:"
      ]
    },
    {
      "cell_type": "code",
      "execution_count": 6,
      "metadata": {
        "id": "fBIDNqzV1kAy"
      },
      "outputs": [],
      "source": [
        "import plotly.graph_objects as go\n",
        "\n",
        "update_layout_set = {\"xaxis_range\", \"yaxis_range\", \"hovermode\", \"xaxis_title\", \"yaxis_title\", \"colorbar\", \"colorscale\", \"coloraxis\", \"title_x\", \"bargap\", \"bargroupgap\", \"xaxis_tickformat\", \"yaxis_tickformat\", \"title_y\", \"legend_title_text\", \"xaxis_showgrid\", \"xaxis_gridwidth\", \"xaxis_gridcolor\", \"yaxis_showgrid\", \"yaxis_gridwidth\"}\n",
        "def imshow(tensor, renderer=None, xaxis=\"\", yaxis=\"\", **kwargs):\n",
        "    if isinstance(tensor, list):\n",
        "        tensor = torch.stack(tensor)\n",
        "    kwargs_post = {k: v for k, v in kwargs.items() if k in update_layout_set}\n",
        "    kwargs_pre = {k: v for k, v in kwargs.items() if k not in update_layout_set}\n",
        "    if \"facet_labels\" in kwargs_pre:\n",
        "        facet_labels = kwargs_pre.pop(\"facet_labels\")\n",
        "    else:\n",
        "        facet_labels = None\n",
        "    if \"color_continuous_scale\" not in kwargs_pre:\n",
        "        kwargs_pre[\"color_continuous_scale\"] = \"RdBu\"\n",
        "    fig = px.imshow(utils.to_numpy(tensor), color_continuous_midpoint=0.0,labels={\"x\":xaxis, \"y\":yaxis}, **kwargs_pre).update_layout(**kwargs_post)\n",
        "    if facet_labels:\n",
        "        for i, label in enumerate(facet_labels):\n",
        "            fig.layout.annotations[i]['text'] = label\n",
        "\n",
        "    fig.show(renderer)\n",
        "\n",
        "def line(tensor, renderer=None, xaxis=\"\", yaxis=\"\", **kwargs):\n",
        "    px.line(y=utils.to_numpy(tensor), labels={\"x\":xaxis, \"y\":yaxis}, **kwargs).show(renderer)\n",
        "\n",
        "def scatter(x, y, xaxis=\"\", yaxis=\"\", caxis=\"\", renderer=None, **kwargs):\n",
        "    x = utils.to_numpy(x)\n",
        "    y = utils.to_numpy(y)\n",
        "    px.scatter(y=y, x=x, labels={\"x\":xaxis, \"y\":yaxis, \"color\":caxis}, **kwargs).show(renderer)\n",
        "\n",
        "def lines(lines_list, x=None, mode='lines', labels=None, xaxis='', yaxis='', title = '', log_y=False, hover=None, **kwargs):\n",
        "    # Helper function to plot multiple lines\n",
        "    if type(lines_list)==torch.Tensor:\n",
        "        lines_list = [lines_list[i] for i in range(lines_list.shape[0])]\n",
        "    if x is None:\n",
        "        x=np.arange(len(lines_list[0]))\n",
        "    fig = go.Figure(layout={'title':title})\n",
        "    fig.update_xaxes(title=xaxis)\n",
        "    fig.update_yaxes(title=yaxis)\n",
        "    for c, line in enumerate(lines_list):\n",
        "        if type(line)==torch.Tensor:\n",
        "            line = utils.to_numpy(line)\n",
        "        if labels is not None:\n",
        "            label = labels[c]\n",
        "        else:\n",
        "            label = c\n",
        "        fig.add_trace(go.Scatter(x=x, y=line, mode=mode, name=label, hovertext=hover, **kwargs))\n",
        "    if log_y:\n",
        "        fig.update_layout(yaxis_type=\"log\")\n",
        "    fig.show()\n",
        "\n",
        "def bar(tensor, renderer=None, xaxis=\"\", yaxis=\"\", **kwargs):\n",
        "    px.bar(\n",
        "        y=utils.to_numpy(tensor),\n",
        "        labels={\"x\": xaxis, \"y\": yaxis},\n",
        "        template=\"simple_white\",\n",
        "        **kwargs).show(renderer)"
      ]
    },
    {
      "cell_type": "code",
      "source": [
        "import transformer_lens.patching as patching\n",
        "from transformer_lens import evals\n",
        "import math\n",
        "import pandas as pd"
      ],
      "metadata": {
        "id": "MzEwzeib1tjE"
      },
      "execution_count": 7,
      "outputs": []
    },
    {
      "cell_type": "code",
      "source": [
        "def disable_biases(model):\n",
        "    for name, param in model.named_parameters():\n",
        "        if 'b_' in name:\n",
        "            param.requires_grad = False\n",
        "\n",
        "def disable_pos_embed(model):\n",
        "    assert model.cfg.positional_embedding_type == \"standard\"\n",
        "    model.pos_embed.W_pos = nn.Parameter(torch.zeros_like(model.pos_embed.W_pos))\n",
        "    model.pos_embed.W_pos.requires_grad = False"
      ],
      "metadata": {
        "id": "umLRJ7qyrDKt"
      },
      "execution_count": 8,
      "outputs": []
    },
    {
      "cell_type": "code",
      "source": [
        "from html import escape\n",
        "import colorsys\n",
        "def create_html(strings, values, saturation=0.5, allow_different_length=False):\n",
        "    # escape strings to deal with tabs, newlines, etc.\n",
        "    escaped_strings = [escape(s, quote=True) for s in strings]\n",
        "    processed_strings = [\n",
        "        s.replace(\"\\n\", \"<br/>\").replace(\"\\t\", \"&emsp;\").replace(\" \", \"&nbsp;\")\n",
        "        for s in escaped_strings\n",
        "    ]\n",
        "\n",
        "    if isinstance(values, torch.Tensor) and len(values.shape)>1:\n",
        "        values = values.flatten().tolist()\n",
        "\n",
        "    if not allow_different_length:\n",
        "        assert len(processed_strings) == len(values)\n",
        "\n",
        "    # scale values\n",
        "    max_value = max(max(values), -min(values))+1e-3\n",
        "    scaled_values = [v / max_value * saturation for v in values]\n",
        "\n",
        "    # create html\n",
        "    html = \"\"\n",
        "    for i, s in enumerate(processed_strings):\n",
        "        if i<len(scaled_values):\n",
        "            v = scaled_values[i]\n",
        "        else:\n",
        "            v = 0\n",
        "        if v < 0:\n",
        "            hue = 0  # hue for red in HSV\n",
        "        else:\n",
        "            hue = 0.66  # hue for blue in HSV\n",
        "        rgb_color = colorsys.hsv_to_rgb(\n",
        "            hue, v, 1\n",
        "        )  # hsv color with hue 0.66 (blue), saturation as v, value 1\n",
        "        hex_color = \"#%02x%02x%02x\" % (\n",
        "            int(rgb_color[0] * 255),\n",
        "            int(rgb_color[1] * 255),\n",
        "            int(rgb_color[2] * 255),\n",
        "        )\n",
        "        html += f'<span style=\"background-color: {hex_color}; border: 1px solid lightgray; font-size: 16px; border-radius: 3px;\">{s}</span>'\n",
        "\n",
        "    display(HTML(html))"
      ],
      "metadata": {
        "id": "Zjm8zKQSjSmy"
      },
      "execution_count": 9,
      "outputs": []
    },
    {
      "cell_type": "code",
      "source": [
        "from datasets import load_dataset"
      ],
      "metadata": {
        "id": "I1dVz_l8an4n"
      },
      "execution_count": 10,
      "outputs": []
    },
    {
      "cell_type": "markdown",
      "source": [
        "# Load Model"
      ],
      "metadata": {
        "id": "HdPsT2ZOxeua"
      }
    },
    {
      "cell_type": "markdown",
      "source": [
        "The model is gelu-1l, opensourced by Neel Nanda. This is a 1L transformer with 2048 neurons."
      ],
      "metadata": {
        "id": "2LGrC0Wx_h2c"
      }
    },
    {
      "cell_type": "code",
      "execution_count": 11,
      "metadata": {
        "id": "llysLeEq1kAy",
        "colab": {
          "base_uri": "https://localhost:8080/"
        },
        "outputId": "eddef524-7757-470b-bf58-7702a488cdd9"
      },
      "outputs": [
        {
          "output_type": "execute_result",
          "data": {
            "text/plain": [
              "<torch.autograd.grad_mode.set_grad_enabled at 0x7d65e0ba2230>"
            ]
          },
          "metadata": {},
          "execution_count": 11
        }
      ],
      "source": [
        "torch.set_grad_enabled(False)"
      ]
    },
    {
      "cell_type": "code",
      "source": [
        "device = 'cuda' if torch.cuda.is_available() else 'cpu'\n",
        "print(device)"
      ],
      "metadata": {
        "id": "S0QibP7y7xCm",
        "colab": {
          "base_uri": "https://localhost:8080/"
        },
        "outputId": "05ddfa6c-94a6-4e29-fc76-8885cfeab26b"
      },
      "execution_count": 12,
      "outputs": [
        {
          "output_type": "stream",
          "name": "stdout",
          "text": [
            "cuda\n"
          ]
        }
      ]
    },
    {
      "cell_type": "code",
      "source": [
        "model = HookedTransformer.from_pretrained(\"gelu-1l\")"
      ],
      "metadata": {
        "id": "7SU1oTr-9Mq3",
        "colab": {
          "base_uri": "https://localhost:8080/"
        },
        "outputId": "c7291117-9925-4ff2-96dc-0318e88b6da2"
      },
      "execution_count": 13,
      "outputs": [
        {
          "output_type": "stream",
          "name": "stdout",
          "text": [
            "Loaded pretrained model gelu-1l into HookedTransformer\n"
          ]
        }
      ]
    },
    {
      "cell_type": "markdown",
      "source": [
        "# Load dataset"
      ],
      "metadata": {
        "id": "1ObudNJz_s27"
      }
    },
    {
      "cell_type": "markdown",
      "source": [
        "The dataset we will use is c4-10k, a 10k subset of the C4 (web text) training data. Note this is a very small subset of the training distribution, which helps make this problem more tractable to complete in a colab notebook.\n",
        "\n",
        "\n",
        "The dataset was shared by Neel Nanda on [HuggingFace](https://huggingface.co/NeelNanda), so we can load it with the load_dataset function:"
      ],
      "metadata": {
        "id": "ANYA_FF3_uE6"
      }
    },
    {
      "cell_type": "code",
      "source": [
        "dataset = load_dataset(\"NeelNanda/c4-10k\", split=\"train\")\n",
        "print(dataset)"
      ],
      "metadata": {
        "colab": {
          "base_uri": "https://localhost:8080/"
        },
        "id": "OPRMfnFF_hgc",
        "outputId": "c124b511-897d-4c79-d3bf-5a9d3854b8b0"
      },
      "execution_count": 14,
      "outputs": [
        {
          "output_type": "stream",
          "name": "stdout",
          "text": [
            "Dataset({\n",
            "    features: ['text', 'timestamp', 'url'],\n",
            "    num_rows: 10000\n",
            "})\n"
          ]
        }
      ]
    },
    {
      "cell_type": "markdown",
      "source": [
        "The dataset is small enough that we can store all tokens in a single tensor. Note that each example starts with a BOS token (1). Most examples end with PAD tokens (2):"
      ],
      "metadata": {
        "id": "KixpIrpZAb7K"
      }
    },
    {
      "cell_type": "code",
      "source": [
        "all_tokens = model.to_tokens(dataset['text'])\n",
        "print(all_tokens.shape)\n",
        "print(all_tokens)"
      ],
      "metadata": {
        "colab": {
          "base_uri": "https://localhost:8080/"
        },
        "id": "OmvwQ1ApAbaj",
        "outputId": "b4317aee-6cb2-49dc-c065-1398bd1abfd8"
      },
      "execution_count": 15,
      "outputs": [
        {
          "output_type": "stream",
          "name": "stdout",
          "text": [
            "torch.Size([10000, 1024])\n",
            "tensor([[    1,  6957,  1045,  ...,     2,     2,     2],\n",
            "        [    1, 11410,   308,  ...,     2,     2,     2],\n",
            "        [    1,  3912,   274,  ...,     2,     2,     2],\n",
            "        ...,\n",
            "        [    1, 31592,   254,  ...,     2,     2,     2],\n",
            "        [    1,  8608,   758,  ...,     2,     2,     2],\n",
            "        [    1,  1516,  3797,  ...,     2,     2,     2]], device='cuda:0')\n"
          ]
        }
      ]
    },
    {
      "cell_type": "markdown",
      "source": [
        "I recommend that you break the problem into the following two subproblems:\n",
        "\n",
        "1. Run the model on the dataset examples (feel free to use an even smaller subset to start), and store the data indices for the top_k max activating dataset examples. I recommend storing these indices in a [top_k, length] tensor.\n",
        "2. Visualize these max activating dataset examples for L0N424 in a fashion similar to [neuroscope](https://neuroscope.io/gelu-1l/0/424.html) (with str tokens highlighted based on the neuron's activation at that position)\n",
        "\n",
        "\n",
        "For the visualization, you can use this create_html function which I stole from [neelutils](https://github.com/neelnanda-io/neelutils). To use it, pass in a list of str tokens and a the corresponding tensor of neuron activations for that example:"
      ],
      "metadata": {
        "id": "rT4WRehWA00y"
      }
    },
    {
      "cell_type": "code",
      "source": [
        "from html import escape\n",
        "import colorsys\n",
        "def create_html(strings, values, saturation=0.5, allow_different_length=False):\n",
        "    # escape strings to deal with tabs, newlines, etc.\n",
        "    escaped_strings = [escape(s, quote=True) for s in strings]\n",
        "    processed_strings = [\n",
        "        s.replace(\"\\n\", \"<br/>\").replace(\"\\t\", \"&emsp;\").replace(\" \", \"&nbsp;\")\n",
        "        for s in escaped_strings\n",
        "    ]\n",
        "\n",
        "    if isinstance(values, torch.Tensor) and len(values.shape)>1:\n",
        "        values = values.flatten().tolist()\n",
        "\n",
        "    if not allow_different_length:\n",
        "        assert len(processed_strings) == len(values)\n",
        "\n",
        "    # scale values\n",
        "    max_value = max(max(values), -min(values))+1e-3\n",
        "    scaled_values = [v / max_value * saturation for v in values]\n",
        "\n",
        "    # create html\n",
        "    html = \"\"\n",
        "    for i, s in enumerate(processed_strings):\n",
        "        if i<len(scaled_values):\n",
        "            v = scaled_values[i]\n",
        "        else:\n",
        "            v = 0\n",
        "        if v < 0:\n",
        "            hue = 0  # hue for red in HSV\n",
        "        else:\n",
        "            hue = 0.66  # hue for blue in HSV\n",
        "        rgb_color = colorsys.hsv_to_rgb(\n",
        "            hue, v, 1\n",
        "        )  # hsv color with hue 0.66 (blue), saturation as v, value 1\n",
        "        hex_color = \"#%02x%02x%02x\" % (\n",
        "            int(rgb_color[0] * 255),\n",
        "            int(rgb_color[1] * 255),\n",
        "            int(rgb_color[2] * 255),\n",
        "        )\n",
        "        html += f'<span style=\"background-color: {hex_color}; border: 1px solid lightgray; font-size: 16px; border-radius: 3px;\">{s}</span>'\n",
        "\n",
        "    display(HTML(html))\n",
        "\n",
        "create_html([\"The\", \" quick\", \" brown\", \" fox\"], [1, 2, 3, 4])"
      ],
      "metadata": {
        "colab": {
          "base_uri": "https://localhost:8080/",
          "height": 37
        },
        "id": "CJVsUFW9BLzx",
        "outputId": "00442def-d2d3-4a3f-a335-2064d10b9f2c"
      },
      "execution_count": 16,
      "outputs": [
        {
          "output_type": "display_data",
          "data": {
            "text/plain": [
              "<IPython.core.display.HTML object>"
            ],
            "text/html": [
              "<span style=\"background-color: #dfe0ff; border: 1px solid lightgray; font-size: 16px; border-radius: 3px;\">The</span><span style=\"background-color: #bfc1ff; border: 1px solid lightgray; font-size: 16px; border-radius: 3px;\">&nbsp;quick</span><span style=\"background-color: #9fa3ff; border: 1px solid lightgray; font-size: 16px; border-radius: 3px;\">&nbsp;brown</span><span style=\"background-color: #7f84ff; border: 1px solid lightgray; font-size: 16px; border-radius: 3px;\">&nbsp;fox</span>"
            ]
          },
          "metadata": {}
        }
      ]
    },
    {
      "cell_type": "markdown",
      "source": [
        "# Solution"
      ],
      "metadata": {
        "id": "UDW0zv43BVjR"
      }
    },
    {
      "cell_type": "markdown",
      "source": [
        "Note this solution heavily steals from the [neuroscope](https://github.com/neelnanda-io/Neuroscope) codebase."
      ],
      "metadata": {
        "id": "FQcFEvPHGId7"
      }
    },
    {
      "cell_type": "markdown",
      "source": [
        "## Collect max activating examples"
      ],
      "metadata": {
        "id": "sdMBkOZrBWZc"
      }
    },
    {
      "cell_type": "markdown",
      "source": [
        "This problem relies more on software engineering than mech interp techniques. Recall that we want to find and store which examples have the highest activations for each neuron. Before jumping into the code, let's brainstorm some naive ways to do this:\n",
        "\n",
        "1. If we had infinite memory, (or a tiny dataset), we could just cache every single neuron activation for every example. This would yield a massive [batch, seq, d_mlp] tensor. We could then just find the max activation for each (batch, neuron) pair and then get the top_k activations and indices for each neuron (torch.top_k(tensor.max(dim=1)[:, neuron_index], k=top_k)). Unfortunately, this approach would blow up our GPU memory. To solve this, we'll likely want to keep some running store for the top_k activations and indices which we iteratively update.\n",
        "\n",
        "2. If you have prior experience with data structures, you might have considered using a heap to solve this issue. For each neuron, we could have a min_heap that keeps the top_k (activation, batch_index) pairs. We could iteratively update each heap by pushing each new (max_act, batch_index) to the heap, and popping the minimum when the size of the heap is > top_k. While there might be a clever way to make something like this work, I don't see an obvious way to leverage pytorch's optimized vectorized operations, suggesting that this approach will likely be slow and annoying to implement.\n",
        "\n",
        "Thus we want an approach that uses pytorch to leverage optimized vectorized operations on the GPU, while also iteratively updating a running store to minimize memory consumption. The following approach helps us manage these tradeoffs to get the best of both worlds:\n",
        "\n",
        "* Initialize two [top_k, d_mlp] tensors which store the top_k activations and batch_indices for each neuron. We'll call these 'max' and 'index' tensors respectively.\n",
        "* For each mini batch of the dataset, run the model to access the corresponding neuron activations. For each batch of these neuron activations, run a batch_update to update the \"max\" and \"index\" tensors as follows:\n",
        "    - Sort these activations by the batch dimension. This will return the new sorted acts for each neuron as well as the corresponding new batch indices.\n",
        "    - For the top_k (new_act, batch_index) pairs, we update the max / index stores (we call the update method in the code below). Note that since they are sorted, we can break out of this if no updates were made.\n",
        "        - The update step just checks what activations are greater than the current minimum in the top_k activations for that neuron in the 'max' store. Note we can vectorize this update by using a boolean mask.\n",
        "\n",
        "Note that although we still have to iterate through examples in the minibatch in the 'batch_update' step, the sorting step allows us to limit time in this state (we can only update it at most top_k times since it's sorted). We also get to leverage highly optimized low level pytorch operations (sort, min, indexing).\n",
        "\n",
        "To implement this, we will write a class that holds the stores and performs the updates. Let's start by creating a config that we can pass to this class:"
      ],
      "metadata": {
        "id": "aRTBMQ45BXx8"
      }
    },
    {
      "cell_type": "code",
      "source": [
        "@dataclass\n",
        "class Config:\n",
        "    model_name: str = \"gelu-1l\"\n",
        "    data_name: str =\"c4-10k\"\n",
        "    max_tokens: int = int(1e5)\n",
        "    batch_size: int = 16\n",
        "    version: int = 0\n",
        "    debug: bool = False\n",
        "    neuron_top_k: int = 10\n",
        "\n",
        "cfg = Config()\n",
        "print(cfg)"
      ],
      "metadata": {
        "colab": {
          "base_uri": "https://localhost:8080/"
        },
        "id": "v4VtXvN3izsM",
        "outputId": "a5423643-2cfd-41fc-f244-092dd23df384"
      },
      "execution_count": 17,
      "outputs": [
        {
          "output_type": "stream",
          "name": "stdout",
          "text": [
            "Config(model_name='gelu-1l', data_name='c4-10k', max_tokens=100000, batch_size=16, version=0, debug=False, neuron_top_k=10)\n"
          ]
        }
      ]
    },
    {
      "cell_type": "markdown",
      "source": [
        "Note max_tokens = 1e5 is an even smaller subset of the c4-10k dataset. This is just so that you can run the notebook in a few seconds. Similarly, I keep the batchsize at a fairly low 16 so that even colab GPUs should have enough memory. Feel free to play around with these.\n",
        "\n",
        "Now we implement the NeuronMaxAct hold the store for the top_k\n",
        "activations and indices."
      ],
      "metadata": {
        "id": "z8w82y4l0v_4"
      }
    },
    {
      "cell_type": "code",
      "source": [
        "class MaxStore:\n",
        "    \"\"\"Used to calculate max activating dataset examples - takes in batches of activations repeatedly, and tracks the top_k examples activations + indexes\"\"\"\n",
        "\n",
        "    def __init__(self, top_k, length, device=\"cuda\"):\n",
        "        self.top_k = top_k\n",
        "        self.length = length\n",
        "        self.device = device\n",
        "\n",
        "        self.max = -torch.inf * torch.ones(\n",
        "            (self.top_k, self.length),\n",
        "            dtype=torch.float32, device=self.device\n",
        "        )\n",
        "        self.index = -torch.ones(\n",
        "            (self.top_k, self.length),\n",
        "            dtype=torch.long, device=self.device\n",
        "        )\n",
        "\n",
        "        self.counter = 0\n",
        "        self.total_updates = 0\n",
        "        self.num_batches_seen = 0\n",
        "\n",
        "    def update(self, new_act, new_index):\n",
        "        \"\"\"\n",
        "        Given a tensor of max neuron activations and the corresponding dataset indices, update the max / index stores\n",
        "\n",
        "        Args:\n",
        "            new_act: Shape [d_mlp,]\n",
        "            new_index: Shape [d_mlp,]\n",
        "\n",
        "        Returns:\n",
        "            int: number of neurons that required an update for this step\n",
        "        \"\"\"\n",
        "        min_max_act, min_max_indices = self.max.min(0)\n",
        "        mask = new_act > min_max_act\n",
        "        self.max[min_max_indices[mask], mask] = new_act[mask]\n",
        "        self.index[min_max_indices[mask], mask] = new_index[mask]\n",
        "\n",
        "        num_updates = mask.sum().item()\n",
        "        self.total_updates += num_updates\n",
        "        return num_updates\n",
        "\n",
        "    def batch_update(self, new_acts, text_indices=None):\n",
        "        \"\"\"\n",
        "        Given a batch of max neuron activations, update the max / index stores\n",
        "\n",
        "        Args:\n",
        "            new_acts: Shape [batch, length]\n",
        "            text_indices: Shape [batch,]\n",
        "        \"\"\"\n",
        "        batch_size = new_acts.size(0)\n",
        "        sorted_acts, sorted_indices = new_acts.sort(0, descending=True)\n",
        "        if text_indices is None:\n",
        "            text_indices = torch.arange(\n",
        "                self.counter,\n",
        "                self.counter + batch_size,\n",
        "                dtype=torch.long,\n",
        "                device=self.device\n",
        "            )\n",
        "        new_indices = text_indices[sorted_indices]\n",
        "        for i in range(batch_size):\n",
        "            num_updates = self.update(sorted_acts[i], new_indices[i])\n",
        "            if num_updates == 0:\n",
        "                break\n",
        "        self.counter += batch_size\n",
        "        self.num_batches_seen += 1\n",
        "\n",
        "    def save(self, dir, folder_name=None):\n",
        "        if folder_name is None:\n",
        "            path = dir\n",
        "        else:\n",
        "            path = dir / folder_name\n",
        "\n",
        "        path.mkdir(exist_ok=True, parents=True)\n",
        "        torch.save(self.max, path / \"max.pth\")\n",
        "        torch.save(self.index, path / \"index.pth\")\n",
        "\n",
        "        with open(path / \"config.json\", \"w\") as f:\n",
        "            filt_dict = {\n",
        "                k: v for k, v in self.__dict__.items() if k not in [\"max\", \"index\"]\n",
        "            }\n",
        "            json.dump(filt_dict, f)\n",
        "\n",
        "        print(f\"Saved Max Store to {path}\")\n",
        "\n",
        "    def inference_mode(self):\n",
        "        \"\"\"Switch from updating mode to inference - move to the CPU and sort by max act.\"\"\"\n",
        "        self.max = self.max.cpu()\n",
        "        self.index = self.index.cpu()\n",
        "        self.max, indices = self.max.sort(0, descending=True)\n",
        "        self.index = self.index.gather(0, indices)\n",
        "\n",
        "    @classmethod\n",
        "    def load(cls, dir, folder_name=None, transpose=False, continue_updating=False):\n",
        "        dir = Path(dir)\n",
        "        if folder_name is None:\n",
        "            path = dir\n",
        "        else:\n",
        "            path = dir / folder_name\n",
        "\n",
        "        max = torch.load(path / \"max.pth\")\n",
        "        index = torch.load(path / \"index.pth\")\n",
        "        if transpose:\n",
        "            max = max.T\n",
        "            index = index.T\n",
        "\n",
        "        with open(path / \"config.json\", \"r\") as f:\n",
        "            config = json.load(f)\n",
        "\n",
        "        mas = MaxStore(config[\"top_k\"], config[\"length\"])\n",
        "        for k, v in config.items():\n",
        "            mas.__dict__[k] = v\n",
        "\n",
        "        mas.max = max\n",
        "        mas.index = index\n",
        "        if not continue_updating:\n",
        "            mas.inference_mode()\n",
        "        return mas\n",
        "\n",
        "\n",
        "class BaseMaxTracker:\n",
        "    def __init__(self, cfg, model, name):\n",
        "        self.cfg = cfg\n",
        "        self.debug = self.cfg.debug\n",
        "        self.model = model\n",
        "        self.name = name\n",
        "\n",
        "        self.base_dir = Path(\"./gelu_outputs\") / self.name / self.cfg.data_name / self.cfg.model_name\n",
        "\n",
        "        if self.debug:\n",
        "            self.save_dir = self.base_dir\n",
        "        else:\n",
        "            self.save_dir = self.base_dir / f\"v{self.cfg.version}\"\n",
        "\n",
        "    def save(self):\n",
        "        raise NotImplementedError\n",
        "\n",
        "    def finish(self):\n",
        "        self.save()\n",
        "\n",
        "class NeuronMaxAct(BaseMaxTracker):\n",
        "    def __init__(self, cfg, model):\n",
        "        super().__init__(cfg, model, name=\"neuron_max_act\")\n",
        "\n",
        "        self.stores = []\n",
        "        for layer in range(model.cfg.n_layers):\n",
        "            store = MaxStore(self.cfg.neuron_top_k, self.model.cfg.d_mlp)\n",
        "            self.stores.append(store)\n",
        "\n",
        "            def update_max_hook(neuron_acts, hook, store):\n",
        "                store.batch_update(\n",
        "                    einops.reduce(\n",
        "                        neuron_acts, \"batch pos d_mlp -> batch d_mlp\", \"max\"\n",
        "                    )\n",
        "                )\n",
        "\n",
        "            hook_fn = partial(update_max_hook, store=store)\n",
        "            model.blocks[layer].mlp.hook_post.add_hook(hook_fn)\n",
        "\n",
        "    def save(self):\n",
        "        self.save_dir.mkdir(exist_ok=True, parents=True)\n",
        "        for layer in range(self.model.cfg.n_layers):\n",
        "            self.stores[layer].save(self.save_dir, folder_name=str(layer))\n",
        "        print(f\"Saved {self.name} to {self.save_dir}\")"
      ],
      "metadata": {
        "id": "XiixxAzuhg2H"
      },
      "execution_count": 18,
      "outputs": []
    },
    {
      "cell_type": "markdown",
      "source": [
        "Note that the BaseMaxTracker is not strictly necessary, but can be useful to leverage this for similar functionality (like top_k logits for each neuron). See the [neuroscope codebase](https://github.com/neelnanda-io/Neuroscope/blob/main/neuroscope/scan_over_data.py#L143) for more on this.\n",
        "\n",
        "\n",
        "Finally, we iterate through the dataset and run the model. Since we add a hook to update the MaxStore upon initializing the tracker, we just have to run the model on each mini batch.\n",
        "\n",
        "\n",
        "After we've looked through all mini batches, we call tracker.finish() to write the MaxStore to disk."
      ],
      "metadata": {
        "id": "ZQLqlPa704AD"
      }
    },
    {
      "cell_type": "code",
      "source": [
        "model.reset_hooks()\n",
        "tracker = NeuronMaxAct(cfg, model)\n",
        "try:\n",
        "    for index in range(0, cfg.max_tokens // model.cfg.n_ctx, cfg.batch_size):\n",
        "        tokens = all_tokens[index : index + cfg.batch_size]\n",
        "        model(tokens, return_type=None) # We just have to run the model. Recall that we added a hook when we initialized the tracker\n",
        "finally:\n",
        "    tracker.finish()\n",
        "model.reset_hooks()"
      ],
      "metadata": {
        "colab": {
          "base_uri": "https://localhost:8080/"
        },
        "id": "cHdW5RCJiwnN",
        "outputId": "5b151f0b-9503-4c1a-8be7-e357dbe4ac58"
      },
      "execution_count": 19,
      "outputs": [
        {
          "output_type": "stream",
          "name": "stdout",
          "text": [
            "Saved Max Store to gelu_outputs/neuron_max_act/c4-10k/gelu-1l/v0/0\n",
            "Saved neuron_max_act to gelu_outputs/neuron_max_act/c4-10k/gelu-1l/v0\n"
          ]
        }
      ]
    },
    {
      "cell_type": "markdown",
      "source": [
        "## Load and visualize max activating examples for L0N424"
      ],
      "metadata": {
        "id": "boYo7NiusrFJ"
      }
    },
    {
      "cell_type": "markdown",
      "source": [
        "Now that we've stored the max activating dataset examples on disk, let's load and visualize them. I'm focusing on L0N424 since it has a clear pattern in [neuroscope](https://neuroscope.io/gelu-1l/0/424.html), and I suspect the same feature should be prevalent in c4-10k. We'll first load the max store that we just saved from disk:"
      ],
      "metadata": {
        "id": "4edW7uvHqpKS"
      }
    },
    {
      "cell_type": "code",
      "source": [
        "layer = 0\n",
        "store = MaxStore.load(f\"./gelu_outputs/neuron_max_act/{cfg.data_name}/{cfg.model_name}/v{cfg.version}/{layer}\")"
      ],
      "metadata": {
        "id": "mX-aA3nDjJJq"
      },
      "execution_count": 20,
      "outputs": []
    },
    {
      "cell_type": "code",
      "source": [
        "neuron_index = 424\n",
        "data_indices = store.index[:, neuron_index]\n",
        "print(data_indices.shape)"
      ],
      "metadata": {
        "colab": {
          "base_uri": "https://localhost:8080/"
        },
        "id": "2p9Y1dP7s699",
        "outputId": "63d5dce4-34c2-458a-a69b-dbd7a2b16b76"
      },
      "execution_count": 21,
      "outputs": [
        {
          "output_type": "stream",
          "name": "stdout",
          "text": [
            "torch.Size([10])\n"
          ]
        }
      ]
    },
    {
      "cell_type": "code",
      "source": [
        "tokens = all_tokens[data_indices]\n",
        "print(tokens.shape)"
      ],
      "metadata": {
        "colab": {
          "base_uri": "https://localhost:8080/"
        },
        "id": "LAfCvATDtA_7",
        "outputId": "50686ee0-51e3-4786-89ec-b3c70ba09717"
      },
      "execution_count": 22,
      "outputs": [
        {
          "output_type": "stream",
          "name": "stdout",
          "text": [
            "torch.Size([10, 1024])\n"
          ]
        }
      ]
    },
    {
      "cell_type": "markdown",
      "source": [
        "Note that the max store only stores the max activation for each dataset example, but we want the neuron activation at each position for visualization purposes. We can just recompute these using run_from_cache:"
      ],
      "metadata": {
        "id": "RpayZddkIXaR"
      }
    },
    {
      "cell_type": "code",
      "source": [
        "_, cache = model.run_with_cache(tokens, return_type=None, names_filter=utils.get_act_name(\"post\", layer))\n",
        "print(cache)"
      ],
      "metadata": {
        "colab": {
          "base_uri": "https://localhost:8080/"
        },
        "id": "bMOGWigvtRDU",
        "outputId": "5afba17d-7411-49c2-c329-b139d9111971"
      },
      "execution_count": 23,
      "outputs": [
        {
          "output_type": "stream",
          "name": "stdout",
          "text": [
            "ActivationCache with keys ['blocks.0.mlp.hook_post']\n"
          ]
        }
      ]
    },
    {
      "cell_type": "code",
      "source": [
        "all_neuron_acts = cache['blocks.0.mlp.hook_post']\n",
        "print(all_neuron_acts.shape)"
      ],
      "metadata": {
        "colab": {
          "base_uri": "https://localhost:8080/"
        },
        "id": "thDSi0dZtZAi",
        "outputId": "d11842a5-7989-4ad6-bf9e-208486540acc"
      },
      "execution_count": 24,
      "outputs": [
        {
          "output_type": "stream",
          "name": "stdout",
          "text": [
            "torch.Size([10, 1024, 2048])\n"
          ]
        }
      ]
    },
    {
      "cell_type": "code",
      "source": [
        "neuron_acts = all_neuron_acts[..., neuron_index]\n",
        "print(neuron_acts.shape)"
      ],
      "metadata": {
        "colab": {
          "base_uri": "https://localhost:8080/"
        },
        "id": "fOO4qVgztgyg",
        "outputId": "79adc643-820d-477f-af5e-fcc35f3d70b1"
      },
      "execution_count": 25,
      "outputs": [
        {
          "output_type": "stream",
          "name": "stdout",
          "text": [
            "torch.Size([10, 1024])\n"
          ]
        }
      ]
    },
    {
      "cell_type": "markdown",
      "source": [
        "Note that we could do this in a more memory efficient fashion (see the [neuroscope code](https://github.com/neelnanda-io/Neuroscope/blob/8ec7bff96c3e01a511c212a974e354f1e47ce2d9/neuroscope/make_neuroscope_page.py#L171)), but that's not necessary here.\n",
        "\n",
        "\n",
        "Now that we have all the activations and tokens, we just plug them into the create_html function. I'll only show a chunk of text around the max activation to make this easier on the eyes:"
      ],
      "metadata": {
        "id": "2xZtsBMZIlti"
      }
    },
    {
      "cell_type": "code",
      "source": [
        "truncated_prefix_length = 50\n",
        "truncated_suffix_length = 10\n",
        "\n",
        "for i in range(tokens.shape[0]):\n",
        "    max_idx = neuron_acts[i].argmax().item()\n",
        "    left = max(0, max_idx - truncated_prefix_length)\n",
        "    right = min(tokens.shape[-1], max_idx + truncated_suffix_length)\n",
        "\n",
        "    print(f\"Data Index: {data_indices[i]}\")\n",
        "    print(f\"Max activating seq pos: {max_idx}\")\n",
        "    print(f\"Max act: {neuron_acts[i, left:right].max():.4f}, Min act: {neuron_acts[i, left:right].min():.4f}\")\n",
        "    create_html(model.to_str_tokens(tokens[i, left:right]), neuron_acts[i, left:right])\n",
        "    print(\"\\n\")"
      ],
      "metadata": {
        "colab": {
          "base_uri": "https://localhost:8080/",
          "height": 1000
        },
        "id": "MjTbA0Vmtklx",
        "outputId": "f8099a57-42d4-419a-f383-973cc0f9fcb0"
      },
      "execution_count": 26,
      "outputs": [
        {
          "output_type": "stream",
          "name": "stdout",
          "text": [
            "Data Index: 11\n",
            "Max activating seq pos: 34\n",
            "Max act: 5.0445, Min act: -0.1698\n"
          ]
        },
        {
          "output_type": "display_data",
          "data": {
            "text/plain": [
              "<IPython.core.display.HTML object>"
            ],
            "text/html": [
              "<span style=\"background-color: #ff103103; border: 1px solid lightgray; font-size: 16px; border-radius: 3px;\">&lt;|BOS|&gt;</span><span style=\"background-color: #e2e3ff; border: 1px solid lightgray; font-size: 16px; border-radius: 3px;\">A</span><span style=\"background-color: #ff102102; border: 1px solid lightgray; font-size: 16px; border-radius: 3px;\">&nbsp;new</span><span style=\"background-color: #ff103103; border: 1px solid lightgray; font-size: 16px; border-radius: 3px;\">&nbsp;study</span><span style=\"background-color: #ffffff; border: 1px solid lightgray; font-size: 16px; border-radius: 3px;\">&nbsp;says</span><span style=\"background-color: #ffffff; border: 1px solid lightgray; font-size: 16px; border-radius: 3px;\">&nbsp;sleep</span><span style=\"background-color: #ffffff; border: 1px solid lightgray; font-size: 16px; border-radius: 3px;\">&nbsp;track</span><span style=\"background-color: #ff102102; border: 1px solid lightgray; font-size: 16px; border-radius: 3px;\">ers</span><span style=\"background-color: #ffffff; border: 1px solid lightgray; font-size: 16px; border-radius: 3px;\">&nbsp;might</span><span style=\"background-color: #ffffff; border: 1px solid lightgray; font-size: 16px; border-radius: 3px;\">&nbsp;be</span><span style=\"background-color: #ff100100; border: 1px solid lightgray; font-size: 16px; border-radius: 3px;\">&nbsp;making</span><span style=\"background-color: #ff100100; border: 1px solid lightgray; font-size: 16px; border-radius: 3px;\">&nbsp;you</span><span style=\"background-color: #ffffff; border: 1px solid lightgray; font-size: 16px; border-radius: 3px;\">&nbsp;sleep</span><span style=\"background-color: #ffffff; border: 1px solid lightgray; font-size: 16px; border-radius: 3px;\">&nbsp;poorly</span><span style=\"background-color: #ffffff; border: 1px solid lightgray; font-size: 16px; border-radius: 3px;\">.</span><span style=\"background-color: #ff100100; border: 1px solid lightgray; font-size: 16px; border-radius: 3px;\">&nbsp;Here</span><span style=\"background-color: #ff101101; border: 1px solid lightgray; font-size: 16px; border-radius: 3px;\">&#x27;s</span><span style=\"background-color: #fdfdff; border: 1px solid lightgray; font-size: 16px; border-radius: 3px;\">&nbsp;what</span><span style=\"background-color: #ff103103; border: 1px solid lightgray; font-size: 16px; border-radius: 3px;\">&nbsp;that</span><span style=\"background-color: #ff101101; border: 1px solid lightgray; font-size: 16px; border-radius: 3px;\">&nbsp;really</span><span style=\"background-color: #ff101101; border: 1px solid lightgray; font-size: 16px; border-radius: 3px;\">&nbsp;means</span><span style=\"background-color: #ffffff; border: 1px solid lightgray; font-size: 16px; border-radius: 3px;\">.</span><span style=\"background-color: #ffffff; border: 1px solid lightgray; font-size: 16px; border-radius: 3px;\"><br/></span><span style=\"background-color: #ffffff; border: 1px solid lightgray; font-size: 16px; border-radius: 3px;\">A</span><span style=\"background-color: #d2d4ff; border: 1px solid lightgray; font-size: 16px; border-radius: 3px;\">&nbsp;New</span><span style=\"background-color: #aaaeff; border: 1px solid lightgray; font-size: 16px; border-radius: 3px;\">&nbsp;Study</span><span style=\"background-color: #bdbfff; border: 1px solid lightgray; font-size: 16px; border-radius: 3px;\">&nbsp;Says</span><span style=\"background-color: #989cff; border: 1px solid lightgray; font-size: 16px; border-radius: 3px;\">&nbsp;Sleep</span><span style=\"background-color: #9196ff; border: 1px solid lightgray; font-size: 16px; border-radius: 3px;\">&nbsp;Track</span><span style=\"background-color: #adb0ff; border: 1px solid lightgray; font-size: 16px; border-radius: 3px;\">ers</span><span style=\"background-color: #a2a6ff; border: 1px solid lightgray; font-size: 16px; border-radius: 3px;\">&nbsp;Might</span><span style=\"background-color: #9296ff; border: 1px solid lightgray; font-size: 16px; border-radius: 3px;\">&nbsp;Be</span><span style=\"background-color: #9095ff; border: 1px solid lightgray; font-size: 16px; border-radius: 3px;\">&nbsp;Making</span><span style=\"background-color: #8a8fff; border: 1px solid lightgray; font-size: 16px; border-radius: 3px;\">&nbsp;You</span><span style=\"background-color: #7f84ff; border: 1px solid lightgray; font-size: 16px; border-radius: 3px;\">&nbsp;Sleep</span><span style=\"background-color: #8e93ff; border: 1px solid lightgray; font-size: 16px; border-radius: 3px;\">&nbsp;Poor</span><span style=\"background-color: #8c90ff; border: 1px solid lightgray; font-size: 16px; border-radius: 3px;\">ly</span><span style=\"background-color: #fbfbff; border: 1px solid lightgray; font-size: 16px; border-radius: 3px;\">.</span><span style=\"background-color: #ff100100; border: 1px solid lightgray; font-size: 16px; border-radius: 3px;\">&nbsp;Here</span><span style=\"background-color: #f9f9ff; border: 1px solid lightgray; font-size: 16px; border-radius: 3px;\">’</span><span style=\"background-color: #eeefff; border: 1px solid lightgray; font-size: 16px; border-radius: 3px;\">s</span><span style=\"background-color: #bdc0ff; border: 1px solid lightgray; font-size: 16px; border-radius: 3px;\">&nbsp;What</span><span style=\"background-color: #b8bbff; border: 1px solid lightgray; font-size: 16px; border-radius: 3px;\">&nbsp;That</span><span style=\"background-color: #a3a6ff; border: 1px solid lightgray; font-size: 16px; border-radius: 3px;\">&nbsp;Really</span>"
            ]
          },
          "metadata": {}
        },
        {
          "output_type": "stream",
          "name": "stdout",
          "text": [
            "\n",
            "\n",
            "Data Index: 93\n",
            "Max activating seq pos: 283\n",
            "Max act: 4.7326, Min act: -0.1700\n"
          ]
        },
        {
          "output_type": "display_data",
          "data": {
            "text/plain": [
              "<IPython.core.display.HTML object>"
            ],
            "text/html": [
              "<span style=\"background-color: #ff100100; border: 1px solid lightgray; font-size: 16px; border-radius: 3px;\">&nbsp;no</span><span style=\"background-color: #ff102102; border: 1px solid lightgray; font-size: 16px; border-radius: 3px;\">ve</span><span style=\"background-color: #f0f0ff; border: 1px solid lightgray; font-size: 16px; border-radius: 3px;\">lette</span><span style=\"background-color: #ff103103; border: 1px solid lightgray; font-size: 16px; border-radius: 3px;\">&nbsp;by</span><span style=\"background-color: #f1f1ff; border: 1px solid lightgray; font-size: 16px; border-radius: 3px;\">&nbsp;Robert</span><span style=\"background-color: #e6e7ff; border: 1px solid lightgray; font-size: 16px; border-radius: 3px;\">&nbsp;E</span><span style=\"background-color: #ececff; border: 1px solid lightgray; font-size: 16px; border-radius: 3px;\">.</span><span style=\"background-color: #ff103103; border: 1px solid lightgray; font-size: 16px; border-radius: 3px;\">&nbsp;Howard</span><span style=\"background-color: #ffffff; border: 1px solid lightgray; font-size: 16px; border-radius: 3px;\">.</span><span style=\"background-color: #ffffff; border: 1px solid lightgray; font-size: 16px; border-radius: 3px;\"><br/></span><span style=\"background-color: #ff100100; border: 1px solid lightgray; font-size: 16px; border-radius: 3px;\">Over</span><span style=\"background-color: #e6e7ff; border: 1px solid lightgray; font-size: 16px; border-radius: 3px;\">&nbsp;the</span><span style=\"background-color: #ff103103; border: 1px solid lightgray; font-size: 16px; border-radius: 3px;\">&nbsp;years</span><span style=\"background-color: #ff102102; border: 1px solid lightgray; font-size: 16px; border-radius: 3px;\">&nbsp;many</span><span style=\"background-color: #ffffff; border: 1px solid lightgray; font-size: 16px; border-radius: 3px;\">&nbsp;great</span><span style=\"background-color: #ffffff; border: 1px solid lightgray; font-size: 16px; border-radius: 3px;\">&nbsp;writers</span><span style=\"background-color: #ff101101; border: 1px solid lightgray; font-size: 16px; border-radius: 3px;\">&nbsp;were</span><span style=\"background-color: #ff102102; border: 1px solid lightgray; font-size: 16px; border-radius: 3px;\">&nbsp;published</span><span style=\"background-color: #ff103103; border: 1px solid lightgray; font-size: 16px; border-radius: 3px;\">&nbsp;in</span><span style=\"background-color: #ff101101; border: 1px solid lightgray; font-size: 16px; border-radius: 3px;\">&nbsp;the</span><span style=\"background-color: #ff103103; border: 1px solid lightgray; font-size: 16px; border-radius: 3px;\">&nbsp;pages</span><span style=\"background-color: #ff101101; border: 1px solid lightgray; font-size: 16px; border-radius: 3px;\">&nbsp;of</span><span style=\"background-color: #d8d9ff; border: 1px solid lightgray; font-size: 16px; border-radius: 3px;\">&nbsp;WE</span><span style=\"background-color: #d2d4ff; border: 1px solid lightgray; font-size: 16px; border-radius: 3px;\">IRD</span><span style=\"background-color: #cfd1ff; border: 1px solid lightgray; font-size: 16px; border-radius: 3px;\">&nbsp;T</span><span style=\"background-color: #c9cbff; border: 1px solid lightgray; font-size: 16px; border-radius: 3px;\">AL</span><span style=\"background-color: #d9dbff; border: 1px solid lightgray; font-size: 16px; border-radius: 3px;\">ES</span><span style=\"background-color: #d8d9ff; border: 1px solid lightgray; font-size: 16px; border-radius: 3px;\">,</span><span style=\"background-color: #e9eaff; border: 1px solid lightgray; font-size: 16px; border-radius: 3px;\">&nbsp;and</span><span style=\"background-color: #fefeff; border: 1px solid lightgray; font-size: 16px; border-radius: 3px;\">&nbsp;now</span><span style=\"background-color: #ff103103; border: 1px solid lightgray; font-size: 16px; border-radius: 3px;\">&nbsp;a</span><span style=\"background-color: #ff100100; border: 1px solid lightgray; font-size: 16px; border-radius: 3px;\">&nbsp;great</span><span style=\"background-color: #ffffff; border: 1px solid lightgray; font-size: 16px; border-radius: 3px;\">&nbsp;tradition</span><span style=\"background-color: #ffffff; border: 1px solid lightgray; font-size: 16px; border-radius: 3px;\">&nbsp;is</span><span style=\"background-color: #ff101101; border: 1px solid lightgray; font-size: 16px; border-radius: 3px;\">&nbsp;being</span><span style=\"background-color: #ff100100; border: 1px solid lightgray; font-size: 16px; border-radius: 3px;\">&nbsp;continued</span><span style=\"background-color: #ff102102; border: 1px solid lightgray; font-size: 16px; border-radius: 3px;\">&nbsp;into</span><span style=\"background-color: #ff102102; border: 1px solid lightgray; font-size: 16px; border-radius: 3px;\">&nbsp;its</span><span style=\"background-color: #ff101101; border: 1px solid lightgray; font-size: 16px; border-radius: 3px;\">&nbsp;second</span><span style=\"background-color: #ff100100; border: 1px solid lightgray; font-size: 16px; border-radius: 3px;\">&nbsp;half</span><span style=\"background-color: #ffffff; border: 1px solid lightgray; font-size: 16px; border-radius: 3px;\">-</span><span style=\"background-color: #ff100100; border: 1px solid lightgray; font-size: 16px; border-radius: 3px;\">century</span><span style=\"background-color: #ff100100; border: 1px solid lightgray; font-size: 16px; border-radius: 3px;\">.</span><span style=\"background-color: #ffffff; border: 1px solid lightgray; font-size: 16px; border-radius: 3px;\"><br/></span><span style=\"background-color: #ff103103; border: 1px solid lightgray; font-size: 16px; border-radius: 3px;\">The</span><span style=\"background-color: #b6b9ff; border: 1px solid lightgray; font-size: 16px; border-radius: 3px;\">&nbsp;Song</span><span style=\"background-color: #abaeff; border: 1px solid lightgray; font-size: 16px; border-radius: 3px;\">&nbsp;of</span><span style=\"background-color: #dcddff; border: 1px solid lightgray; font-size: 16px; border-radius: 3px;\">&nbsp;the</span><span style=\"background-color: #efefff; border: 1px solid lightgray; font-size: 16px; border-radius: 3px;\">&nbsp;Gall</span><span style=\"background-color: #b1b4ff; border: 1px solid lightgray; font-size: 16px; border-radius: 3px;\">ows</span><span style=\"background-color: #7f84ff; border: 1px solid lightgray; font-size: 16px; border-radius: 3px;\">&nbsp;Tree</span><span style=\"background-color: #eaebff; border: 1px solid lightgray; font-size: 16px; border-radius: 3px;\">........</span><span style=\"background-color: #ff101101; border: 1px solid lightgray; font-size: 16px; border-radius: 3px;\">..</span><span style=\"background-color: #f5f6ff; border: 1px solid lightgray; font-size: 16px; border-radius: 3px;\">Robert</span><span style=\"background-color: #e8e9ff; border: 1px solid lightgray; font-size: 16px; border-radius: 3px;\">&nbsp;E</span><span style=\"background-color: #eeefff; border: 1px solid lightgray; font-size: 16px; border-radius: 3px;\">.</span><span style=\"background-color: #ff103103; border: 1px solid lightgray; font-size: 16px; border-radius: 3px;\">&nbsp;Howard</span><span style=\"background-color: #ff103103; border: 1px solid lightgray; font-size: 16px; border-radius: 3px;\">&nbsp;.</span><span style=\"background-color: #ff100100; border: 1px solid lightgray; font-size: 16px; border-radius: 3px;\"><br/></span><span style=\"background-color: #ff103103; border: 1px solid lightgray; font-size: 16px; border-radius: 3px;\">To</span>"
            ]
          },
          "metadata": {}
        },
        {
          "output_type": "stream",
          "name": "stdout",
          "text": [
            "\n",
            "\n",
            "Data Index: 104\n",
            "Max activating seq pos: 327\n",
            "Max act: 4.5474, Min act: -0.1699\n"
          ]
        },
        {
          "output_type": "display_data",
          "data": {
            "text/plain": [
              "<IPython.core.display.HTML object>"
            ],
            "text/html": [
              "<span style=\"background-color: #ff103103; border: 1px solid lightgray; font-size: 16px; border-radius: 3px;\">&nbsp;is</span><span style=\"background-color: #ff103103; border: 1px solid lightgray; font-size: 16px; border-radius: 3px;\">&nbsp;during</span><span style=\"background-color: #ff103103; border: 1px solid lightgray; font-size: 16px; border-radius: 3px;\">&nbsp;catastrophic</span><span style=\"background-color: #ff100100; border: 1px solid lightgray; font-size: 16px; border-radius: 3px;\">&nbsp;weather</span><span style=\"background-color: #ff100100; border: 1px solid lightgray; font-size: 16px; border-radius: 3px;\">&nbsp;events</span><span style=\"background-color: #ffffff; border: 1px solid lightgray; font-size: 16px; border-radius: 3px;\">&nbsp;such</span><span style=\"background-color: #ff103103; border: 1px solid lightgray; font-size: 16px; border-radius: 3px;\">&nbsp;as</span><span style=\"background-color: #ff101101; border: 1px solid lightgray; font-size: 16px; border-radius: 3px;\">&nbsp;storms</span><span style=\"background-color: #ff102102; border: 1px solid lightgray; font-size: 16px; border-radius: 3px;\">&nbsp;and</span><span style=\"background-color: #ff100100; border: 1px solid lightgray; font-size: 16px; border-radius: 3px;\">&nbsp;hur</span><span style=\"background-color: #ff101101; border: 1px solid lightgray; font-size: 16px; border-radius: 3px;\">ricanes</span><span style=\"background-color: #ff103103; border: 1px solid lightgray; font-size: 16px; border-radius: 3px;\">&nbsp;or</span><span style=\"background-color: #ffffff; border: 1px solid lightgray; font-size: 16px; border-radius: 3px;\">&nbsp;natural</span><span style=\"background-color: #ffffff; border: 1px solid lightgray; font-size: 16px; border-radius: 3px;\">&nbsp;home</span><span style=\"background-color: #ffffff; border: 1px solid lightgray; font-size: 16px; border-radius: 3px;\">&nbsp;emergencies</span><span style=\"background-color: #ffffff; border: 1px solid lightgray; font-size: 16px; border-radius: 3px;\">&nbsp;such</span><span style=\"background-color: #ff102102; border: 1px solid lightgray; font-size: 16px; border-radius: 3px;\">&nbsp;as</span><span style=\"background-color: #ff102102; border: 1px solid lightgray; font-size: 16px; border-radius: 3px;\">&nbsp;flooding</span><span style=\"background-color: #ffffff; border: 1px solid lightgray; font-size: 16px; border-radius: 3px;\">&nbsp;from</span><span style=\"background-color: #ff100100; border: 1px solid lightgray; font-size: 16px; border-radius: 3px;\">&nbsp;burst</span><span style=\"background-color: #ff100100; border: 1px solid lightgray; font-size: 16px; border-radius: 3px;\">&nbsp;plumbing</span><span style=\"background-color: #ffffff; border: 1px solid lightgray; font-size: 16px; border-radius: 3px;\">&nbsp;lines</span><span style=\"background-color: #ffffff; border: 1px solid lightgray; font-size: 16px; border-radius: 3px;\">.</span><span style=\"background-color: #ff101101; border: 1px solid lightgray; font-size: 16px; border-radius: 3px;\">&nbsp;Our</span><span style=\"background-color: #ff100100; border: 1px solid lightgray; font-size: 16px; border-radius: 3px;\">&nbsp;efforts</span><span style=\"background-color: #ffffff; border: 1px solid lightgray; font-size: 16px; border-radius: 3px;\">&nbsp;have</span><span style=\"background-color: #ffffff; border: 1px solid lightgray; font-size: 16px; border-radius: 3px;\">&nbsp;been</span><span style=\"background-color: #ffffff; border: 1px solid lightgray; font-size: 16px; border-radius: 3px;\">&nbsp;recognized</span><span style=\"background-color: #ffffff; border: 1px solid lightgray; font-size: 16px; border-radius: 3px;\">&nbsp;by</span><span style=\"background-color: #ff101101; border: 1px solid lightgray; font-size: 16px; border-radius: 3px;\">&nbsp;several</span><span style=\"background-color: #ff101101; border: 1px solid lightgray; font-size: 16px; border-radius: 3px;\">&nbsp;professional</span><span style=\"background-color: #ff103103; border: 1px solid lightgray; font-size: 16px; border-radius: 3px;\">&nbsp;organizations</span><span style=\"background-color: #ff100100; border: 1px solid lightgray; font-size: 16px; border-radius: 3px;\">&nbsp;like</span><span style=\"background-color: #f5f5ff; border: 1px solid lightgray; font-size: 16px; border-radius: 3px;\">&nbsp;West</span><span style=\"background-color: #ced0ff; border: 1px solid lightgray; font-size: 16px; border-radius: 3px;\">&nbsp;Orange</span><span style=\"background-color: #d6d8ff; border: 1px solid lightgray; font-size: 16px; border-radius: 3px;\">&nbsp;Chamber</span><span style=\"background-color: #c9cbff; border: 1px solid lightgray; font-size: 16px; border-radius: 3px;\">,</span><span style=\"background-color: #f9f9ff; border: 1px solid lightgray; font-size: 16px; border-radius: 3px;\">&nbsp;Orlando</span><span style=\"background-color: #e6e7ff; border: 1px solid lightgray; font-size: 16px; border-radius: 3px;\">&nbsp;Chamber</span><span style=\"background-color: #dadcff; border: 1px solid lightgray; font-size: 16px; border-radius: 3px;\">,</span><span style=\"background-color: #d9daff; border: 1px solid lightgray; font-size: 16px; border-radius: 3px;\">&nbsp;Central</span><span style=\"background-color: #e2e3ff; border: 1px solid lightgray; font-size: 16px; border-radius: 3px;\">&nbsp;Florida</span><span style=\"background-color: #b9bcff; border: 1px solid lightgray; font-size: 16px; border-radius: 3px;\">&nbsp;Hotel</span><span style=\"background-color: #bbbdff; border: 1px solid lightgray; font-size: 16px; border-radius: 3px;\">&nbsp;&amp;</span><span style=\"background-color: #c8cbff; border: 1px solid lightgray; font-size: 16px; border-radius: 3px;\">&nbsp;L</span><span style=\"background-color: #d7d9ff; border: 1px solid lightgray; font-size: 16px; border-radius: 3px;\">od</span><span style=\"background-color: #caccff; border: 1px solid lightgray; font-size: 16px; border-radius: 3px;\">ging</span><span style=\"background-color: #bec1ff; border: 1px solid lightgray; font-size: 16px; border-radius: 3px;\">&nbsp;Association</span><span style=\"background-color: #d2d4ff; border: 1px solid lightgray; font-size: 16px; border-radius: 3px;\">,</span><span style=\"background-color: #9498ff; border: 1px solid lightgray; font-size: 16px; border-radius: 3px;\">&nbsp;Better</span><span style=\"background-color: #7f84ff; border: 1px solid lightgray; font-size: 16px; border-radius: 3px;\">&nbsp;Business</span><span style=\"background-color: #c5c7ff; border: 1px solid lightgray; font-size: 16px; border-radius: 3px;\">&nbsp;Bureau</span><span style=\"background-color: #b3b6ff; border: 1px solid lightgray; font-size: 16px; border-radius: 3px;\">&nbsp;and</span><span style=\"background-color: #a8abff; border: 1px solid lightgray; font-size: 16px; border-radius: 3px;\">&nbsp;Domestic</span><span style=\"background-color: #adb0ff; border: 1px solid lightgray; font-size: 16px; border-radius: 3px;\">&nbsp;Estate</span><span style=\"background-color: #adb0ff; border: 1px solid lightgray; font-size: 16px; border-radius: 3px;\">&nbsp;Management</span><span style=\"background-color: #b7baff; border: 1px solid lightgray; font-size: 16px; border-radius: 3px;\">&nbsp;Association</span><span style=\"background-color: #ff102102; border: 1px solid lightgray; font-size: 16px; border-radius: 3px;\">.</span><span style=\"background-color: #ff100100; border: 1px solid lightgray; font-size: 16px; border-radius: 3px;\">&nbsp;We</span><span style=\"background-color: #ff102102; border: 1px solid lightgray; font-size: 16px; border-radius: 3px;\">&nbsp;value</span>"
            ]
          },
          "metadata": {}
        },
        {
          "output_type": "stream",
          "name": "stdout",
          "text": [
            "\n",
            "\n",
            "Data Index: 53\n",
            "Max activating seq pos: 33\n",
            "Max act: 4.4202, Min act: -0.1700\n"
          ]
        },
        {
          "output_type": "display_data",
          "data": {
            "text/plain": [
              "<IPython.core.display.HTML object>"
            ],
            "text/html": [
              "<span style=\"background-color: #ff103103; border: 1px solid lightgray; font-size: 16px; border-radius: 3px;\">&lt;|BOS|&gt;</span><span style=\"background-color: #d5d6ff; border: 1px solid lightgray; font-size: 16px; border-radius: 3px;\">More</span><span style=\"background-color: #e6e7ff; border: 1px solid lightgray; font-size: 16px; border-radius: 3px;\">&nbsp;than</span><span style=\"background-color: #f7f8ff; border: 1px solid lightgray; font-size: 16px; border-radius: 3px;\">&nbsp;5</span><span style=\"background-color: #ffffff; border: 1px solid lightgray; font-size: 16px; border-radius: 3px;\">0</span><span style=\"background-color: #ff102102; border: 1px solid lightgray; font-size: 16px; border-radius: 3px;\">0</span><span style=\"background-color: #c6c8ff; border: 1px solid lightgray; font-size: 16px; border-radius: 3px;\">&nbsp;Cast</span><span style=\"background-color: #bfc2ff; border: 1px solid lightgray; font-size: 16px; border-radius: 3px;\">&nbsp;Members</span><span style=\"background-color: #edeeff; border: 1px solid lightgray; font-size: 16px; border-radius: 3px;\">&nbsp;from</span><span style=\"background-color: #f6f6ff; border: 1px solid lightgray; font-size: 16px; border-radius: 3px;\">&nbsp;Walt</span><span style=\"background-color: #c6c8ff; border: 1px solid lightgray; font-size: 16px; border-radius: 3px;\">&nbsp;Disney</span><span style=\"background-color: #b7baff; border: 1px solid lightgray; font-size: 16px; border-radius: 3px;\">&nbsp;World</span><span style=\"background-color: #a8acff; border: 1px solid lightgray; font-size: 16px; border-radius: 3px;\">&nbsp;Resort</span><span style=\"background-color: #eeeeff; border: 1px solid lightgray; font-size: 16px; border-radius: 3px;\">&nbsp;recently</span><span style=\"background-color: #ff101101; border: 1px solid lightgray; font-size: 16px; border-radius: 3px;\">&nbsp;gathered</span><span style=\"background-color: #fdfdff; border: 1px solid lightgray; font-size: 16px; border-radius: 3px;\">&nbsp;at</span><span style=\"background-color: #ebecff; border: 1px solid lightgray; font-size: 16px; border-radius: 3px;\">&nbsp;Disney</span><span style=\"background-color: #ecedff; border: 1px solid lightgray; font-size: 16px; border-radius: 3px;\">’</span><span style=\"background-color: #f4f4ff; border: 1px solid lightgray; font-size: 16px; border-radius: 3px;\">s</span><span style=\"background-color: #eeefff; border: 1px solid lightgray; font-size: 16px; border-radius: 3px;\">&nbsp;Coron</span><span style=\"background-color: #cfd1ff; border: 1px solid lightgray; font-size: 16px; border-radius: 3px;\">ado</span><span style=\"background-color: #d6d7ff; border: 1px solid lightgray; font-size: 16px; border-radius: 3px;\">&nbsp;Springs</span><span style=\"background-color: #b0b3ff; border: 1px solid lightgray; font-size: 16px; border-radius: 3px;\">&nbsp;Resort</span><span style=\"background-color: #eff0ff; border: 1px solid lightgray; font-size: 16px; border-radius: 3px;\">&nbsp;for</span><span style=\"background-color: #f6f7ff; border: 1px solid lightgray; font-size: 16px; border-radius: 3px;\">&nbsp;the</span><span style=\"background-color: #fefeff; border: 1px solid lightgray; font-size: 16px; border-radius: 3px;\">&nbsp;launch</span><span style=\"background-color: #ff102102; border: 1px solid lightgray; font-size: 16px; border-radius: 3px;\">&nbsp;of</span><span style=\"background-color: #ffffff; border: 1px solid lightgray; font-size: 16px; border-radius: 3px;\">&nbsp;the</span><span style=\"background-color: #b1b4ff; border: 1px solid lightgray; font-size: 16px; border-radius: 3px;\">&nbsp;Women</span><span style=\"background-color: #a4a8ff; border: 1px solid lightgray; font-size: 16px; border-radius: 3px;\">’</span><span style=\"background-color: #aeb1ff; border: 1px solid lightgray; font-size: 16px; border-radius: 3px;\">s</span><span style=\"background-color: #babcff; border: 1px solid lightgray; font-size: 16px; border-radius: 3px;\">&nbsp;In</span><span style=\"background-color: #9fa2ff; border: 1px solid lightgray; font-size: 16px; border-radius: 3px;\">clusion</span><span style=\"background-color: #7f84ff; border: 1px solid lightgray; font-size: 16px; border-radius: 3px;\">&nbsp;Network</span><span style=\"background-color: #b2b5ff; border: 1px solid lightgray; font-size: 16px; border-radius: 3px;\">,</span><span style=\"background-color: #f4f4ff; border: 1px solid lightgray; font-size: 16px; border-radius: 3px;\">&nbsp;the</span><span style=\"background-color: #ff103103; border: 1px solid lightgray; font-size: 16px; border-radius: 3px;\">&nbsp;latest</span><span style=\"background-color: #fcfcff; border: 1px solid lightgray; font-size: 16px; border-radius: 3px;\">&nbsp;of</span><span style=\"background-color: #e6e7ff; border: 1px solid lightgray; font-size: 16px; border-radius: 3px;\">&nbsp;Disney</span><span style=\"background-color: #e6e7ff; border: 1px solid lightgray; font-size: 16px; border-radius: 3px;\">’</span><span style=\"background-color: #edeeff; border: 1px solid lightgray; font-size: 16px; border-radius: 3px;\">s</span><span style=\"background-color: #fbfbff; border: 1px solid lightgray; font-size: 16px; border-radius: 3px;\">&nbsp;diversity</span><span style=\"background-color: #ff101101; border: 1px solid lightgray; font-size: 16px; border-radius: 3px;\">&nbsp;resource</span>"
            ]
          },
          "metadata": {}
        },
        {
          "output_type": "stream",
          "name": "stdout",
          "text": [
            "\n",
            "\n",
            "Data Index: 76\n",
            "Max activating seq pos: 5\n",
            "Max act: 4.2794, Min act: -0.1678\n"
          ]
        },
        {
          "output_type": "display_data",
          "data": {
            "text/plain": [
              "<IPython.core.display.HTML object>"
            ],
            "text/html": [
              "<span style=\"background-color: #ff103103; border: 1px solid lightgray; font-size: 16px; border-radius: 3px;\">&lt;|BOS|&gt;</span><span style=\"background-color: #cbcdff; border: 1px solid lightgray; font-size: 16px; border-radius: 3px;\">Things</span><span style=\"background-color: #a2a5ff; border: 1px solid lightgray; font-size: 16px; border-radius: 3px;\">&nbsp;Always</span><span style=\"background-color: #9499ff; border: 1px solid lightgray; font-size: 16px; border-radius: 3px;\">&nbsp;Get</span><span style=\"background-color: #a6a9ff; border: 1px solid lightgray; font-size: 16px; border-radius: 3px;\">&nbsp;W</span><span style=\"background-color: #7f84ff; border: 1px solid lightgray; font-size: 16px; border-radius: 3px;\">orse</span><span style=\"background-color: #bdc0ff; border: 1px solid lightgray; font-size: 16px; border-radius: 3px;\">&nbsp;|</span><span style=\"background-color: #d3d5ff; border: 1px solid lightgray; font-size: 16px; border-radius: 3px;\">&nbsp;H</span><span style=\"background-color: #f0f1ff; border: 1px solid lightgray; font-size: 16px; border-radius: 3px;\">uj</span><span style=\"background-color: #e4e6ff; border: 1px solid lightgray; font-size: 16px; border-radius: 3px;\">ambo</span><span style=\"background-color: #ff103103; border: 1px solid lightgray; font-size: 16px; border-radius: 3px;\">!</span><span style=\"background-color: #ffffff; border: 1px solid lightgray; font-size: 16px; border-radius: 3px;\"><br/></span><span style=\"background-color: #ff103103; border: 1px solid lightgray; font-size: 16px; border-radius: 3px;\">Also</span><span style=\"background-color: #fcfcff; border: 1px solid lightgray; font-size: 16px; border-radius: 3px;\">,</span><span style=\"background-color: #ff102102; border: 1px solid lightgray; font-size: 16px; border-radius: 3px;\">&nbsp;there</span>"
            ]
          },
          "metadata": {}
        },
        {
          "output_type": "stream",
          "name": "stdout",
          "text": [
            "\n",
            "\n",
            "Data Index: 40\n",
            "Max activating seq pos: 4\n",
            "Max act: 4.2630, Min act: -0.1678\n"
          ]
        },
        {
          "output_type": "display_data",
          "data": {
            "text/plain": [
              "<IPython.core.display.HTML object>"
            ],
            "text/html": [
              "<span style=\"background-color: #ff104104; border: 1px solid lightgray; font-size: 16px; border-radius: 3px;\">&lt;|BOS|&gt;</span><span style=\"background-color: #e4e5ff; border: 1px solid lightgray; font-size: 16px; border-radius: 3px;\">The</span><span style=\"background-color: #dbddff; border: 1px solid lightgray; font-size: 16px; border-radius: 3px;\">&nbsp;Cas</span><span style=\"background-color: #a6aaff; border: 1px solid lightgray; font-size: 16px; border-radius: 3px;\">per</span><span style=\"background-color: #7f84ff; border: 1px solid lightgray; font-size: 16px; border-radius: 3px;\">&nbsp;Event</span><span style=\"background-color: #878cff; border: 1px solid lightgray; font-size: 16px; border-radius: 3px;\">&nbsp;Center</span><span style=\"background-color: #e8e9ff; border: 1px solid lightgray; font-size: 16px; border-radius: 3px;\">&nbsp;will</span><span style=\"background-color: #ff103103; border: 1px solid lightgray; font-size: 16px; border-radius: 3px;\">&nbsp;host</span><span style=\"background-color: #ff100100; border: 1px solid lightgray; font-size: 16px; border-radius: 3px;\">&nbsp;the</span><span style=\"background-color: #f4f5ff; border: 1px solid lightgray; font-size: 16px; border-radius: 3px;\">&nbsp;2</span><span style=\"background-color: #f8f8ff; border: 1px solid lightgray; font-size: 16px; border-radius: 3px;\">0</span><span style=\"background-color: #f6f6ff; border: 1px solid lightgray; font-size: 16px; border-radius: 3px;\">1</span><span style=\"background-color: #ff102102; border: 1px solid lightgray; font-size: 16px; border-radius: 3px;\">9</span><span style=\"background-color: #f5f5ff; border: 1px solid lightgray; font-size: 16px; border-radius: 3px;\">&nbsp;P</span>"
            ]
          },
          "metadata": {}
        },
        {
          "output_type": "stream",
          "name": "stdout",
          "text": [
            "\n",
            "\n",
            "Data Index: 20\n",
            "Max activating seq pos: 276\n",
            "Max act: 4.1302, Min act: -0.1700\n"
          ]
        },
        {
          "output_type": "display_data",
          "data": {
            "text/plain": [
              "<IPython.core.display.HTML object>"
            ],
            "text/html": [
              "<span style=\"background-color: #ff100100; border: 1px solid lightgray; font-size: 16px; border-radius: 3px;\">MB</span><span style=\"background-color: #e9eaff; border: 1px solid lightgray; font-size: 16px; border-radius: 3px;\">&nbsp;and</span><span style=\"background-color: #eeefff; border: 1px solid lightgray; font-size: 16px; border-radius: 3px;\">&nbsp;then</span><span style=\"background-color: #ff104104; border: 1px solid lightgray; font-size: 16px; border-radius: 3px;\">&nbsp;became</span><span style=\"background-color: #ff104104; border: 1px solid lightgray; font-size: 16px; border-radius: 3px;\">&nbsp;a</span><span style=\"background-color: #e7e8ff; border: 1px solid lightgray; font-size: 16px; border-radius: 3px;\">&nbsp;Trustee</span><span style=\"background-color: #eff0ff; border: 1px solid lightgray; font-size: 16px; border-radius: 3px;\">&nbsp;for</span><span style=\"background-color: #f4f4ff; border: 1px solid lightgray; font-size: 16px; border-radius: 3px;\">&nbsp;the</span><span style=\"background-color: #c6c8ff; border: 1px solid lightgray; font-size: 16px; border-radius: 3px;\">&nbsp;Mass</span><span style=\"background-color: #b9bbff; border: 1px solid lightgray; font-size: 16px; border-radius: 3px;\">age</span><span style=\"background-color: #a3a6ff; border: 1px solid lightgray; font-size: 16px; border-radius: 3px;\">&nbsp;Therapy</span><span style=\"background-color: #b6b9ff; border: 1px solid lightgray; font-size: 16px; border-radius: 3px;\">&nbsp;Foundation</span><span style=\"background-color: #ff103103; border: 1px solid lightgray; font-size: 16px; border-radius: 3px;\">.</span><span style=\"background-color: #fdfdff; border: 1px solid lightgray; font-size: 16px; border-radius: 3px;\">&nbsp;For</span><span style=\"background-color: #fbfbff; border: 1px solid lightgray; font-size: 16px; border-radius: 3px;\">&nbsp;two</span><span style=\"background-color: #ff104104; border: 1px solid lightgray; font-size: 16px; border-radius: 3px;\">&nbsp;years</span><span style=\"background-color: #ff102102; border: 1px solid lightgray; font-size: 16px; border-radius: 3px;\">&nbsp;I</span><span style=\"background-color: #ff103103; border: 1px solid lightgray; font-size: 16px; border-radius: 3px;\">&nbsp;was</span><span style=\"background-color: #ff103103; border: 1px solid lightgray; font-size: 16px; border-radius: 3px;\">&nbsp;the</span><span style=\"background-color: #ff103103; border: 1px solid lightgray; font-size: 16px; border-radius: 3px;\">&nbsp;massage</span><span style=\"background-color: #ff104104; border: 1px solid lightgray; font-size: 16px; border-radius: 3px;\">&nbsp;therapy</span><span style=\"background-color: #ff103103; border: 1px solid lightgray; font-size: 16px; border-radius: 3px;\">&nbsp;ambassador</span><span style=\"background-color: #ff102102; border: 1px solid lightgray; font-size: 16px; border-radius: 3px;\">&nbsp;to</span><span style=\"background-color: #ff104104; border: 1px solid lightgray; font-size: 16px; border-radius: 3px;\">&nbsp;the</span><span style=\"background-color: #d9dbff; border: 1px solid lightgray; font-size: 16px; border-radius: 3px;\">&nbsp;Academy</span><span style=\"background-color: #c0c2ff; border: 1px solid lightgray; font-size: 16px; border-radius: 3px;\">&nbsp;of</span><span style=\"background-color: #babcff; border: 1px solid lightgray; font-size: 16px; border-radius: 3px;\">&nbsp;Integr</span><span style=\"background-color: #9498ff; border: 1px solid lightgray; font-size: 16px; border-radius: 3px;\">ative</span><span style=\"background-color: #9296ff; border: 1px solid lightgray; font-size: 16px; border-radius: 3px;\">&nbsp;Health</span><span style=\"background-color: #9ca0ff; border: 1px solid lightgray; font-size: 16px; border-radius: 3px;\">&nbsp;and</span><span style=\"background-color: #aeb1ff; border: 1px solid lightgray; font-size: 16px; border-radius: 3px;\">&nbsp;Medicine</span><span style=\"background-color: #d3d5ff; border: 1px solid lightgray; font-size: 16px; border-radius: 3px;\">&nbsp;(</span><span style=\"background-color: #eaeaff; border: 1px solid lightgray; font-size: 16px; border-radius: 3px;\">AI</span><span style=\"background-color: #e3e4ff; border: 1px solid lightgray; font-size: 16px; border-radius: 3px;\">HM</span><span style=\"background-color: #f1f2ff; border: 1px solid lightgray; font-size: 16px; border-radius: 3px;\">)</span><span style=\"background-color: #ff100100; border: 1px solid lightgray; font-size: 16px; border-radius: 3px;\">&nbsp;and</span><span style=\"background-color: #fefeff; border: 1px solid lightgray; font-size: 16px; border-radius: 3px;\">&nbsp;currently</span><span style=\"background-color: #fefeff; border: 1px solid lightgray; font-size: 16px; border-radius: 3px;\">&nbsp;I</span><span style=\"background-color: #ff102102; border: 1px solid lightgray; font-size: 16px; border-radius: 3px;\">&nbsp;am</span><span style=\"background-color: #ff103103; border: 1px solid lightgray; font-size: 16px; border-radius: 3px;\">&nbsp;on</span><span style=\"background-color: #ff102102; border: 1px solid lightgray; font-size: 16px; border-radius: 3px;\">&nbsp;the</span><span style=\"background-color: #ff104104; border: 1px solid lightgray; font-size: 16px; border-radius: 3px;\">&nbsp;board</span><span style=\"background-color: #ff103103; border: 1px solid lightgray; font-size: 16px; border-radius: 3px;\">&nbsp;of</span><span style=\"background-color: #fdfdff; border: 1px solid lightgray; font-size: 16px; border-radius: 3px;\">&nbsp;the</span><span style=\"background-color: #abafff; border: 1px solid lightgray; font-size: 16px; border-radius: 3px;\">&nbsp;Academic</span><span style=\"background-color: #b6b9ff; border: 1px solid lightgray; font-size: 16px; border-radius: 3px;\">&nbsp;Collabor</span><span style=\"background-color: #979cff; border: 1px solid lightgray; font-size: 16px; border-radius: 3px;\">ative</span><span style=\"background-color: #bbbeff; border: 1px solid lightgray; font-size: 16px; border-radius: 3px;\">&nbsp;for</span><span style=\"background-color: #b9bcff; border: 1px solid lightgray; font-size: 16px; border-radius: 3px;\">&nbsp;Integr</span><span style=\"background-color: #8e92ff; border: 1px solid lightgray; font-size: 16px; border-radius: 3px;\">ative</span><span style=\"background-color: #7f84ff; border: 1px solid lightgray; font-size: 16px; border-radius: 3px;\">&nbsp;Health</span><span style=\"background-color: #b6b9ff; border: 1px solid lightgray; font-size: 16px; border-radius: 3px;\">&nbsp;(</span><span style=\"background-color: #e5e6ff; border: 1px solid lightgray; font-size: 16px; border-radius: 3px;\">AC</span><span style=\"background-color: #f2f3ff; border: 1px solid lightgray; font-size: 16px; border-radius: 3px;\">IH</span><span style=\"background-color: #dcdeff; border: 1px solid lightgray; font-size: 16px; border-radius: 3px;\">)</span><span style=\"background-color: #fdfdff; border: 1px solid lightgray; font-size: 16px; border-radius: 3px;\">&nbsp;and</span><span style=\"background-color: #ff103103; border: 1px solid lightgray; font-size: 16px; border-radius: 3px;\">&nbsp;also</span><span style=\"background-color: #ff101101; border: 1px solid lightgray; font-size: 16px; border-radius: 3px;\">&nbsp;a</span><span style=\"background-color: #ff104104; border: 1px solid lightgray; font-size: 16px; border-radius: 3px;\">&nbsp;member</span><span style=\"background-color: #ff103103; border: 1px solid lightgray; font-size: 16px; border-radius: 3px;\">&nbsp;of</span>"
            ]
          },
          "metadata": {}
        },
        {
          "output_type": "stream",
          "name": "stdout",
          "text": [
            "\n",
            "\n",
            "Data Index: 36\n",
            "Max activating seq pos: 797\n",
            "Max act: 4.0616, Min act: -0.1699\n"
          ]
        },
        {
          "output_type": "display_data",
          "data": {
            "text/plain": [
              "<IPython.core.display.HTML object>"
            ],
            "text/html": [
              "<span style=\"background-color: #ff101101; border: 1px solid lightgray; font-size: 16px; border-radius: 3px;\">&nbsp;the</span><span style=\"background-color: #ff101101; border: 1px solid lightgray; font-size: 16px; border-radius: 3px;\">&nbsp;chief</span><span style=\"background-color: #ff100100; border: 1px solid lightgray; font-size: 16px; border-radius: 3px;\">&nbsp;auditor</span><span style=\"background-color: #ffffff; border: 1px solid lightgray; font-size: 16px; border-radius: 3px;\">&nbsp;reports</span><span style=\"background-color: #ff102102; border: 1px solid lightgray; font-size: 16px; border-radius: 3px;\">&nbsp;on</span><span style=\"background-color: #ff101101; border: 1px solid lightgray; font-size: 16px; border-radius: 3px;\">&nbsp;these</span><span style=\"background-color: #ff101101; border: 1px solid lightgray; font-size: 16px; border-radius: 3px;\">&nbsp;matters</span><span style=\"background-color: #ff100100; border: 1px solid lightgray; font-size: 16px; border-radius: 3px;\">&nbsp;to</span><span style=\"background-color: #ff102102; border: 1px solid lightgray; font-size: 16px; border-radius: 3px;\">&nbsp;the</span><span style=\"background-color: #ecedff; border: 1px solid lightgray; font-size: 16px; border-radius: 3px;\">&nbsp;Board</span><span style=\"background-color: #c2c4ff; border: 1px solid lightgray; font-size: 16px; border-radius: 3px;\">&nbsp;of</span><span style=\"background-color: #dedfff; border: 1px solid lightgray; font-size: 16px; border-radius: 3px;\">&nbsp;Directors</span><span style=\"background-color: #ff103103; border: 1px solid lightgray; font-size: 16px; border-radius: 3px;\">.</span><span style=\"background-color: #ffffff; border: 1px solid lightgray; font-size: 16px; border-radius: 3px;\"><br/></span><span style=\"background-color: #ff104104; border: 1px solid lightgray; font-size: 16px; border-radius: 3px;\">To</span><span style=\"background-color: #ff103103; border: 1px solid lightgray; font-size: 16px; border-radius: 3px;\">&nbsp;implement</span><span style=\"background-color: #ff103103; border: 1px solid lightgray; font-size: 16px; border-radius: 3px;\">&nbsp;ethical</span><span style=\"background-color: #ff101101; border: 1px solid lightgray; font-size: 16px; border-radius: 3px;\">&nbsp;best</span><span style=\"background-color: #ff101101; border: 1px solid lightgray; font-size: 16px; border-radius: 3px;\">&nbsp;practice</span><span style=\"background-color: #ff104104; border: 1px solid lightgray; font-size: 16px; border-radius: 3px;\">,</span><span style=\"background-color: #ff102102; border: 1px solid lightgray; font-size: 16px; border-radius: 3px;\">&nbsp;O</span><span style=\"background-color: #f2f2ff; border: 1px solid lightgray; font-size: 16px; border-radius: 3px;\">-</span><span style=\"background-color: #f9faff; border: 1px solid lightgray; font-size: 16px; border-radius: 3px;\">Bank</span><span style=\"background-color: #ff102102; border: 1px solid lightgray; font-size: 16px; border-radius: 3px;\">&nbsp;has</span><span style=\"background-color: #ff101101; border: 1px solid lightgray; font-size: 16px; border-radius: 3px;\">&nbsp;adopted</span><span style=\"background-color: #ff103103; border: 1px solid lightgray; font-size: 16px; border-radius: 3px;\">&nbsp;a</span><span style=\"background-color: #fdfdff; border: 1px solid lightgray; font-size: 16px; border-radius: 3px;\">&nbsp;&quot;</span><span style=\"background-color: #eaebff; border: 1px solid lightgray; font-size: 16px; border-radius: 3px;\">Code</span><span style=\"background-color: #bcbfff; border: 1px solid lightgray; font-size: 16px; border-radius: 3px;\">&nbsp;of</span><span style=\"background-color: #a7abff; border: 1px solid lightgray; font-size: 16px; border-radius: 3px;\">&nbsp;Ethical</span><span style=\"background-color: #9a9eff; border: 1px solid lightgray; font-size: 16px; border-radius: 3px;\">&nbsp;Conduct</span><span style=\"background-color: #ff102102; border: 1px solid lightgray; font-size: 16px; border-radius: 3px;\">,&quot;</span><span style=\"background-color: #ff100100; border: 1px solid lightgray; font-size: 16px; border-radius: 3px;\">&nbsp;a</span><span style=\"background-color: #ff104104; border: 1px solid lightgray; font-size: 16px; border-radius: 3px;\">&nbsp;set</span><span style=\"background-color: #ff102102; border: 1px solid lightgray; font-size: 16px; border-radius: 3px;\">&nbsp;of</span><span style=\"background-color: #f9f9ff; border: 1px solid lightgray; font-size: 16px; border-radius: 3px;\">&nbsp;&quot;</span><span style=\"background-color: #f7f8ff; border: 1px solid lightgray; font-size: 16px; border-radius: 3px;\">Eth</span><span style=\"background-color: #c1c3ff; border: 1px solid lightgray; font-size: 16px; border-radius: 3px;\">ical</span><span style=\"background-color: #a1a5ff; border: 1px solid lightgray; font-size: 16px; border-radius: 3px;\">&nbsp;Best</span><span style=\"background-color: #8489ff; border: 1px solid lightgray; font-size: 16px; border-radius: 3px;\">&nbsp;Practice</span><span style=\"background-color: #9398ff; border: 1px solid lightgray; font-size: 16px; border-radius: 3px;\">&nbsp;Standards</span><span style=\"background-color: #ffffff; border: 1px solid lightgray; font-size: 16px; border-radius: 3px;\">,&quot;</span><span style=\"background-color: #c8caff; border: 1px solid lightgray; font-size: 16px; border-radius: 3px;\">&nbsp;and</span><span style=\"background-color: #f0f1ff; border: 1px solid lightgray; font-size: 16px; border-radius: 3px;\">&nbsp;a</span><span style=\"background-color: #f2f2ff; border: 1px solid lightgray; font-size: 16px; border-radius: 3px;\">&nbsp;&quot;</span><span style=\"background-color: #c0c3ff; border: 1px solid lightgray; font-size: 16px; border-radius: 3px;\">Hand</span><span style=\"background-color: #adb0ff; border: 1px solid lightgray; font-size: 16px; border-radius: 3px;\">book</span><span style=\"background-color: #d7d9ff; border: 1px solid lightgray; font-size: 16px; border-radius: 3px;\">&nbsp;for</span><span style=\"background-color: #9b9fff; border: 1px solid lightgray; font-size: 16px; border-radius: 3px;\">&nbsp;Ethical</span><span style=\"background-color: #8b90ff; border: 1px solid lightgray; font-size: 16px; border-radius: 3px;\">&nbsp;Corporate</span><span style=\"background-color: #7f84ff; border: 1px solid lightgray; font-size: 16px; border-radius: 3px;\">&nbsp;Management</span><span style=\"background-color: #8f94ff; border: 1px solid lightgray; font-size: 16px; border-radius: 3px;\">&nbsp;Procedures</span><span style=\"background-color: #8c91ff; border: 1px solid lightgray; font-size: 16px; border-radius: 3px;\">&nbsp;and</span><span style=\"background-color: #9ea2ff; border: 1px solid lightgray; font-size: 16px; border-radius: 3px;\">&nbsp;Pract</span><span style=\"background-color: #969aff; border: 1px solid lightgray; font-size: 16px; border-radius: 3px;\">ices</span><span style=\"background-color: #ff102102; border: 1px solid lightgray; font-size: 16px; border-radius: 3px;\">.&quot;</span><span style=\"background-color: #ff103103; border: 1px solid lightgray; font-size: 16px; border-radius: 3px;\">&nbsp;The</span><span style=\"background-color: #b1b4ff; border: 1px solid lightgray; font-size: 16px; border-radius: 3px;\">&nbsp;Corporate</span><span style=\"background-color: #8287ff; border: 1px solid lightgray; font-size: 16px; border-radius: 3px;\">&nbsp;Social</span><span style=\"background-color: #a4a8ff; border: 1px solid lightgray; font-size: 16px; border-radius: 3px;\">&nbsp;Respons</span>"
            ]
          },
          "metadata": {}
        },
        {
          "output_type": "stream",
          "name": "stdout",
          "text": [
            "\n",
            "\n",
            "Data Index: 10\n",
            "Max activating seq pos: 122\n",
            "Max act: 4.0435, Min act: -0.1698\n"
          ]
        },
        {
          "output_type": "display_data",
          "data": {
            "text/plain": [
              "<IPython.core.display.HTML object>"
            ],
            "text/html": [
              "<span style=\"background-color: #e9eaff; border: 1px solid lightgray; font-size: 16px; border-radius: 3px;\">HR</span><span style=\"background-color: #e2e3ff; border: 1px solid lightgray; font-size: 16px; border-radius: 3px;\">C</span><span style=\"background-color: #ff102102; border: 1px solid lightgray; font-size: 16px; border-radius: 3px;\">&nbsp;awards</span><span style=\"background-color: #e4e5ff; border: 1px solid lightgray; font-size: 16px; border-radius: 3px;\">,</span><span style=\"background-color: #c4c6ff; border: 1px solid lightgray; font-size: 16px; border-radius: 3px;\">&nbsp;Creative</span><span style=\"background-color: #cfd1ff; border: 1px solid lightgray; font-size: 16px; border-radius: 3px;\">&nbsp;Fellow</span><span style=\"background-color: #b5b8ff; border: 1px solid lightgray; font-size: 16px; border-radius: 3px;\">&nbsp;and</span><span style=\"background-color: #a5a9ff; border: 1px solid lightgray; font-size: 16px; border-radius: 3px;\">&nbsp;Academic</span><span style=\"background-color: #ced0ff; border: 1px solid lightgray; font-size: 16px; border-radius: 3px;\">&nbsp;Fellowship</span><span style=\"background-color: #ff103103; border: 1px solid lightgray; font-size: 16px; border-radius: 3px;\">&nbsp;awards</span><span style=\"background-color: #e8e9ff; border: 1px solid lightgray; font-size: 16px; border-radius: 3px;\">,</span><span style=\"background-color: #f0f1ff; border: 1px solid lightgray; font-size: 16px; border-radius: 3px;\">&nbsp;and</span><span style=\"background-color: #ff104104; border: 1px solid lightgray; font-size: 16px; border-radius: 3px;\">&nbsp;workshop</span><span style=\"background-color: #fdfdff; border: 1px solid lightgray; font-size: 16px; border-radius: 3px;\">&nbsp;and</span><span style=\"background-color: #ff103103; border: 1px solid lightgray; font-size: 16px; border-radius: 3px;\">&nbsp;practice</span><span style=\"background-color: #ff101101; border: 1px solid lightgray; font-size: 16px; border-radius: 3px;\">-</span><span style=\"background-color: #ff104104; border: 1px solid lightgray; font-size: 16px; border-radius: 3px;\">based</span><span style=\"background-color: #c7c9ff; border: 1px solid lightgray; font-size: 16px; border-radius: 3px;\">&nbsp;Research</span><span style=\"background-color: #cdcfff; border: 1px solid lightgray; font-size: 16px; border-radius: 3px;\">&nbsp;Council</span><span style=\"background-color: #ffffff; border: 1px solid lightgray; font-size: 16px; border-radius: 3px;\">&nbsp;projects</span><span style=\"background-color: #ff102102; border: 1px solid lightgray; font-size: 16px; border-radius: 3px;\">.</span><span style=\"background-color: #fafaff; border: 1px solid lightgray; font-size: 16px; border-radius: 3px;\">&nbsp;We</span><span style=\"background-color: #ff102102; border: 1px solid lightgray; font-size: 16px; border-radius: 3px;\">&nbsp;foster</span><span style=\"background-color: #ffffff; border: 1px solid lightgray; font-size: 16px; border-radius: 3px;\">&nbsp;a</span><span style=\"background-color: #ff104104; border: 1px solid lightgray; font-size: 16px; border-radius: 3px;\">&nbsp;strong</span><span style=\"background-color: #ff100100; border: 1px solid lightgray; font-size: 16px; border-radius: 3px;\">&nbsp;culture</span><span style=\"background-color: #ff100100; border: 1px solid lightgray; font-size: 16px; border-radius: 3px;\">&nbsp;of</span><span style=\"background-color: #ff104104; border: 1px solid lightgray; font-size: 16px; border-radius: 3px;\">&nbsp;peer</span><span style=\"background-color: #ff101101; border: 1px solid lightgray; font-size: 16px; border-radius: 3px;\">&nbsp;support</span><span style=\"background-color: #ff104104; border: 1px solid lightgray; font-size: 16px; border-radius: 3px;\">&nbsp;in</span><span style=\"background-color: #ff102102; border: 1px solid lightgray; font-size: 16px; border-radius: 3px;\">&nbsp;relation</span><span style=\"background-color: #ff103103; border: 1px solid lightgray; font-size: 16px; border-radius: 3px;\">&nbsp;to</span><span style=\"background-color: #ff102102; border: 1px solid lightgray; font-size: 16px; border-radius: 3px;\">&nbsp;staff</span><span style=\"background-color: #ffffff; border: 1px solid lightgray; font-size: 16px; border-radius: 3px;\">&nbsp;research</span><span style=\"background-color: #ff104104; border: 1px solid lightgray; font-size: 16px; border-radius: 3px;\">,</span><span style=\"background-color: #ff104104; border: 1px solid lightgray; font-size: 16px; border-radius: 3px;\">&nbsp;hosting</span><span style=\"background-color: #ff104104; border: 1px solid lightgray; font-size: 16px; border-radius: 3px;\">&nbsp;three</span><span style=\"background-color: #d0d2ff; border: 1px solid lightgray; font-size: 16px; border-radius: 3px;\">&nbsp;Research</span><span style=\"background-color: #d3d5ff; border: 1px solid lightgray; font-size: 16px; border-radius: 3px;\">&nbsp;Cent</span><span style=\"background-color: #cacdff; border: 1px solid lightgray; font-size: 16px; border-radius: 3px;\">res</span><span style=\"background-color: #f2f3ff; border: 1px solid lightgray; font-size: 16px; border-radius: 3px;\">&nbsp;within</span><span style=\"background-color: #f9f9ff; border: 1px solid lightgray; font-size: 16px; border-radius: 3px;\">&nbsp;the</span><span style=\"background-color: #e6e7ff; border: 1px solid lightgray; font-size: 16px; border-radius: 3px;\">&nbsp;Department</span><span style=\"background-color: #ededff; border: 1px solid lightgray; font-size: 16px; border-radius: 3px;\">:</span><span style=\"background-color: #ff102102; border: 1px solid lightgray; font-size: 16px; border-radius: 3px;\">&nbsp;the</span><span style=\"background-color: #d9daff; border: 1px solid lightgray; font-size: 16px; border-radius: 3px;\">&nbsp;Centre</span><span style=\"background-color: #c9cbff; border: 1px solid lightgray; font-size: 16px; border-radius: 3px;\">&nbsp;for</span><span style=\"background-color: #9ca0ff; border: 1px solid lightgray; font-size: 16px; border-radius: 3px;\">&nbsp;Contemporary</span><span style=\"background-color: #8e93ff; border: 1px solid lightgray; font-size: 16px; border-radius: 3px;\">&nbsp;Performance</span><span style=\"background-color: #9296ff; border: 1px solid lightgray; font-size: 16px; border-radius: 3px;\">&nbsp;Pract</span><span style=\"background-color: #7f84ff; border: 1px solid lightgray; font-size: 16px; border-radius: 3px;\">ices</span><span style=\"background-color: #c9cbff; border: 1px solid lightgray; font-size: 16px; border-radius: 3px;\">;</span><span style=\"background-color: #f3f3ff; border: 1px solid lightgray; font-size: 16px; border-radius: 3px;\">&nbsp;the</span><span style=\"background-color: #c1c4ff; border: 1px solid lightgray; font-size: 16px; border-radius: 3px;\">&nbsp;Centre</span><span style=\"background-color: #bfc2ff; border: 1px solid lightgray; font-size: 16px; border-radius: 3px;\">&nbsp;for</span><span style=\"background-color: #9ca0ff; border: 1px solid lightgray; font-size: 16px; border-radius: 3px;\">&nbsp;Performance</span><span style=\"background-color: #a9adff; border: 1px solid lightgray; font-size: 16px; border-radius: 3px;\">&nbsp;Hist</span><span style=\"background-color: #abaeff; border: 1px solid lightgray; font-size: 16px; border-radius: 3px;\">ories</span><span style=\"background-color: #a9adff; border: 1px solid lightgray; font-size: 16px; border-radius: 3px;\">&nbsp;and</span><span style=\"background-color: #959aff; border: 1px solid lightgray; font-size: 16px; border-radius: 3px;\">&nbsp;Cult</span>"
            ]
          },
          "metadata": {}
        },
        {
          "output_type": "stream",
          "name": "stdout",
          "text": [
            "\n",
            "\n",
            "Data Index: 88\n",
            "Max activating seq pos: 130\n",
            "Max act: 4.0290, Min act: -0.1699\n"
          ]
        },
        {
          "output_type": "display_data",
          "data": {
            "text/plain": [
              "<IPython.core.display.HTML object>"
            ],
            "text/html": [
              "<span style=\"background-color: #cfd1ff; border: 1px solid lightgray; font-size: 16px; border-radius: 3px;\">&nbsp;University</span><span style=\"background-color: #d7d9ff; border: 1px solid lightgray; font-size: 16px; border-radius: 3px;\">&nbsp;of</span><span style=\"background-color: #cbcdff; border: 1px solid lightgray; font-size: 16px; border-radius: 3px;\">&nbsp;Florida</span><span style=\"background-color: #dedfff; border: 1px solid lightgray; font-size: 16px; border-radius: 3px;\">,</span><span style=\"background-color: #ff103103; border: 1px solid lightgray; font-size: 16px; border-radius: 3px;\">&nbsp;where</span><span style=\"background-color: #ff103103; border: 1px solid lightgray; font-size: 16px; border-radius: 3px;\">&nbsp;her</span><span style=\"background-color: #ff101101; border: 1px solid lightgray; font-size: 16px; border-radius: 3px;\">&nbsp;passion</span><span style=\"background-color: #ff100100; border: 1px solid lightgray; font-size: 16px; border-radius: 3px;\">&nbsp;grew</span><span style=\"background-color: #ff102102; border: 1px solid lightgray; font-size: 16px; border-radius: 3px;\">&nbsp;for</span><span style=\"background-color: #ff102102; border: 1px solid lightgray; font-size: 16px; border-radius: 3px;\">&nbsp;treating</span><span style=\"background-color: #ffffff; border: 1px solid lightgray; font-size: 16px; border-radius: 3px;\">&nbsp;children</span><span style=\"background-color: #ff103103; border: 1px solid lightgray; font-size: 16px; border-radius: 3px;\">,</span><span style=\"background-color: #ffffff; border: 1px solid lightgray; font-size: 16px; border-radius: 3px;\">&nbsp;special</span><span style=\"background-color: #ffffff; border: 1px solid lightgray; font-size: 16px; border-radius: 3px;\">&nbsp;needs</span><span style=\"background-color: #ff102102; border: 1px solid lightgray; font-size: 16px; border-radius: 3px;\">&nbsp;patients</span><span style=\"background-color: #ff100100; border: 1px solid lightgray; font-size: 16px; border-radius: 3px;\">,</span><span style=\"background-color: #ff103103; border: 1px solid lightgray; font-size: 16px; border-radius: 3px;\">&nbsp;the</span><span style=\"background-color: #ff104104; border: 1px solid lightgray; font-size: 16px; border-radius: 3px;\">&nbsp;medically</span><span style=\"background-color: #ff104104; border: 1px solid lightgray; font-size: 16px; border-radius: 3px;\">&nbsp;compromised</span><span style=\"background-color: #f5f5ff; border: 1px solid lightgray; font-size: 16px; border-radius: 3px;\">,</span><span style=\"background-color: #ffffff; border: 1px solid lightgray; font-size: 16px; border-radius: 3px;\">&nbsp;and</span><span style=\"background-color: #ff102102; border: 1px solid lightgray; font-size: 16px; border-radius: 3px;\">&nbsp;infants</span><span style=\"background-color: #ff102102; border: 1px solid lightgray; font-size: 16px; border-radius: 3px;\">.</span><span style=\"background-color: #fefeff; border: 1px solid lightgray; font-size: 16px; border-radius: 3px;\">&nbsp;She</span><span style=\"background-color: #ff104104; border: 1px solid lightgray; font-size: 16px; border-radius: 3px;\">&nbsp;trained</span><span style=\"background-color: #ff104104; border: 1px solid lightgray; font-size: 16px; border-radius: 3px;\">&nbsp;as</span><span style=\"background-color: #ff101101; border: 1px solid lightgray; font-size: 16px; border-radius: 3px;\">&nbsp;a</span><span style=\"background-color: #bec0ff; border: 1px solid lightgray; font-size: 16px; border-radius: 3px;\">&nbsp;Pediatric</span><span style=\"background-color: #a0a4ff; border: 1px solid lightgray; font-size: 16px; border-radius: 3px;\">&nbsp;Dental</span><span style=\"background-color: #999dff; border: 1px solid lightgray; font-size: 16px; border-radius: 3px;\">&nbsp;Special</span><span style=\"background-color: #b6b9ff; border: 1px solid lightgray; font-size: 16px; border-radius: 3px;\">ist</span><span style=\"background-color: #edeeff; border: 1px solid lightgray; font-size: 16px; border-radius: 3px;\">&nbsp;at</span><span style=\"background-color: #dcddff; border: 1px solid lightgray; font-size: 16px; border-radius: 3px;\">&nbsp;U</span><span style=\"background-color: #aaaeff; border: 1px solid lightgray; font-size: 16px; border-radius: 3px;\">F</span><span style=\"background-color: #bfc1ff; border: 1px solid lightgray; font-size: 16px; border-radius: 3px;\">,</span><span style=\"background-color: #d4d6ff; border: 1px solid lightgray; font-size: 16px; border-radius: 3px;\">&nbsp;and</span><span style=\"background-color: #ff103103; border: 1px solid lightgray; font-size: 16px; border-radius: 3px;\">&nbsp;earned</span><span style=\"background-color: #ff104104; border: 1px solid lightgray; font-size: 16px; border-radius: 3px;\">&nbsp;her</span><span style=\"background-color: #ff104104; border: 1px solid lightgray; font-size: 16px; border-radius: 3px;\">&nbsp;status</span><span style=\"background-color: #ff104104; border: 1px solid lightgray; font-size: 16px; border-radius: 3px;\">&nbsp;as</span><span style=\"background-color: #ff102102; border: 1px solid lightgray; font-size: 16px; border-radius: 3px;\">&nbsp;a</span><span style=\"background-color: #f7f7ff; border: 1px solid lightgray; font-size: 16px; border-radius: 3px;\">&nbsp;Dipl</span><span style=\"background-color: #b1b4ff; border: 1px solid lightgray; font-size: 16px; border-radius: 3px;\">om</span><span style=\"background-color: #b5b8ff; border: 1px solid lightgray; font-size: 16px; border-radius: 3px;\">ate</span><span style=\"background-color: #cfd1ff; border: 1px solid lightgray; font-size: 16px; border-radius: 3px;\">&nbsp;in</span><span style=\"background-color: #ebecff; border: 1px solid lightgray; font-size: 16px; border-radius: 3px;\">&nbsp;the</span><span style=\"background-color: #dbdcff; border: 1px solid lightgray; font-size: 16px; border-radius: 3px;\">&nbsp;American</span><span style=\"background-color: #abaeff; border: 1px solid lightgray; font-size: 16px; border-radius: 3px;\">&nbsp;Board</span><span style=\"background-color: #a4a7ff; border: 1px solid lightgray; font-size: 16px; border-radius: 3px;\">&nbsp;of</span><span style=\"background-color: #969aff; border: 1px solid lightgray; font-size: 16px; border-radius: 3px;\">&nbsp;Pediatric</span><span style=\"background-color: #7f84ff; border: 1px solid lightgray; font-size: 16px; border-radius: 3px;\">&nbsp;Dent</span><span style=\"background-color: #9296ff; border: 1px solid lightgray; font-size: 16px; border-radius: 3px;\">istry</span><span style=\"background-color: #d7d8ff; border: 1px solid lightgray; font-size: 16px; border-radius: 3px;\">&nbsp;in</span><span style=\"background-color: #e3e4ff; border: 1px solid lightgray; font-size: 16px; border-radius: 3px;\">&nbsp;2</span><span style=\"background-color: #e8e9ff; border: 1px solid lightgray; font-size: 16px; border-radius: 3px;\">0</span><span style=\"background-color: #ebecff; border: 1px solid lightgray; font-size: 16px; border-radius: 3px;\">1</span><span style=\"background-color: #fefeff; border: 1px solid lightgray; font-size: 16px; border-radius: 3px;\">5</span><span style=\"background-color: #ff103103; border: 1px solid lightgray; font-size: 16px; border-radius: 3px;\">.</span><span style=\"background-color: #ff101101; border: 1px solid lightgray; font-size: 16px; border-radius: 3px;\">&nbsp;She</span><span style=\"background-color: #ff103103; border: 1px solid lightgray; font-size: 16px; border-radius: 3px;\">&nbsp;joined</span>"
            ]
          },
          "metadata": {}
        },
        {
          "output_type": "stream",
          "name": "stdout",
          "text": [
            "\n",
            "\n"
          ]
        }
      ]
    },
    {
      "cell_type": "markdown",
      "source": [
        "We see the max activations occur when there are consecutive capital letters, like a title or headline. This is consistent with what we see in [neuroscope](https://neuroscope.io/gelu-1l/0/424.html)!"
      ],
      "metadata": {
        "id": "yGsmhKA1-K2V"
      }
    }
  ]
}