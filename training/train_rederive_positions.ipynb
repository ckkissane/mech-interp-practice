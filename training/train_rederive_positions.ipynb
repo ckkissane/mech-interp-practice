{
  "nbformat": 4,
  "nbformat_minor": 0,
  "metadata": {
    "colab": {
      "provenance": [],
      "toc_visible": true,
      "authorship_tag": "ABX9TyOTFy9aqusF5kWEoUunYY/y"
    },
    "kernelspec": {
      "name": "python3",
      "display_name": "Python 3"
    },
    "language_info": {
      "name": "python"
    },
    "accelerator": "GPU",
    "gpuClass": "standard",
    "widgets": {
      "application/vnd.jupyter.widget-state+json": {
        "1481e33279b649c0adc5ae3e0cf33697": {
          "model_module": "@jupyter-widgets/controls",
          "model_name": "HBoxModel",
          "model_module_version": "1.5.0",
          "state": {
            "_dom_classes": [],
            "_model_module": "@jupyter-widgets/controls",
            "_model_module_version": "1.5.0",
            "_model_name": "HBoxModel",
            "_view_count": null,
            "_view_module": "@jupyter-widgets/controls",
            "_view_module_version": "1.5.0",
            "_view_name": "HBoxView",
            "box_style": "",
            "children": [
              "IPY_MODEL_e14ef6fc12464f2da5299a5475e659e8",
              "IPY_MODEL_42e411e93df84bc0b60c746cbb0d8834",
              "IPY_MODEL_294936a22f78457d8b7b90aa94eb462f"
            ],
            "layout": "IPY_MODEL_2f276d0c02ee4d1da30b9bea6fdeb07e"
          }
        },
        "e14ef6fc12464f2da5299a5475e659e8": {
          "model_module": "@jupyter-widgets/controls",
          "model_name": "HTMLModel",
          "model_module_version": "1.5.0",
          "state": {
            "_dom_classes": [],
            "_model_module": "@jupyter-widgets/controls",
            "_model_module_version": "1.5.0",
            "_model_name": "HTMLModel",
            "_view_count": null,
            "_view_module": "@jupyter-widgets/controls",
            "_view_module_version": "1.5.0",
            "_view_name": "HTMLView",
            "description": "",
            "description_tooltip": null,
            "layout": "IPY_MODEL_df7761d59a544b26b9f569a056eb24bc",
            "placeholder": "​",
            "style": "IPY_MODEL_0b847b565c174f8a89bdfe915c74854d",
            "value": "100%"
          }
        },
        "42e411e93df84bc0b60c746cbb0d8834": {
          "model_module": "@jupyter-widgets/controls",
          "model_name": "FloatProgressModel",
          "model_module_version": "1.5.0",
          "state": {
            "_dom_classes": [],
            "_model_module": "@jupyter-widgets/controls",
            "_model_module_version": "1.5.0",
            "_model_name": "FloatProgressModel",
            "_view_count": null,
            "_view_module": "@jupyter-widgets/controls",
            "_view_module_version": "1.5.0",
            "_view_name": "ProgressView",
            "bar_style": "success",
            "description": "",
            "description_tooltip": null,
            "layout": "IPY_MODEL_67965fa7d68e4f74a0929001bb8742d3",
            "max": 4000,
            "min": 0,
            "orientation": "horizontal",
            "style": "IPY_MODEL_2cc069317e794344af5622272b4d0cc8",
            "value": 4000
          }
        },
        "294936a22f78457d8b7b90aa94eb462f": {
          "model_module": "@jupyter-widgets/controls",
          "model_name": "HTMLModel",
          "model_module_version": "1.5.0",
          "state": {
            "_dom_classes": [],
            "_model_module": "@jupyter-widgets/controls",
            "_model_module_version": "1.5.0",
            "_model_name": "HTMLModel",
            "_view_count": null,
            "_view_module": "@jupyter-widgets/controls",
            "_view_module_version": "1.5.0",
            "_view_name": "HTMLView",
            "description": "",
            "description_tooltip": null,
            "layout": "IPY_MODEL_b946382d20f54f68958a9f1b41bc8ee6",
            "placeholder": "​",
            "style": "IPY_MODEL_35ffb8269b024ee990d4fa1d67b89dd1",
            "value": " 4000/4000 [00:49&lt;00:00, 156.02it/s]"
          }
        },
        "2f276d0c02ee4d1da30b9bea6fdeb07e": {
          "model_module": "@jupyter-widgets/base",
          "model_name": "LayoutModel",
          "model_module_version": "1.2.0",
          "state": {
            "_model_module": "@jupyter-widgets/base",
            "_model_module_version": "1.2.0",
            "_model_name": "LayoutModel",
            "_view_count": null,
            "_view_module": "@jupyter-widgets/base",
            "_view_module_version": "1.2.0",
            "_view_name": "LayoutView",
            "align_content": null,
            "align_items": null,
            "align_self": null,
            "border": null,
            "bottom": null,
            "display": null,
            "flex": null,
            "flex_flow": null,
            "grid_area": null,
            "grid_auto_columns": null,
            "grid_auto_flow": null,
            "grid_auto_rows": null,
            "grid_column": null,
            "grid_gap": null,
            "grid_row": null,
            "grid_template_areas": null,
            "grid_template_columns": null,
            "grid_template_rows": null,
            "height": null,
            "justify_content": null,
            "justify_items": null,
            "left": null,
            "margin": null,
            "max_height": null,
            "max_width": null,
            "min_height": null,
            "min_width": null,
            "object_fit": null,
            "object_position": null,
            "order": null,
            "overflow": null,
            "overflow_x": null,
            "overflow_y": null,
            "padding": null,
            "right": null,
            "top": null,
            "visibility": null,
            "width": null
          }
        },
        "df7761d59a544b26b9f569a056eb24bc": {
          "model_module": "@jupyter-widgets/base",
          "model_name": "LayoutModel",
          "model_module_version": "1.2.0",
          "state": {
            "_model_module": "@jupyter-widgets/base",
            "_model_module_version": "1.2.0",
            "_model_name": "LayoutModel",
            "_view_count": null,
            "_view_module": "@jupyter-widgets/base",
            "_view_module_version": "1.2.0",
            "_view_name": "LayoutView",
            "align_content": null,
            "align_items": null,
            "align_self": null,
            "border": null,
            "bottom": null,
            "display": null,
            "flex": null,
            "flex_flow": null,
            "grid_area": null,
            "grid_auto_columns": null,
            "grid_auto_flow": null,
            "grid_auto_rows": null,
            "grid_column": null,
            "grid_gap": null,
            "grid_row": null,
            "grid_template_areas": null,
            "grid_template_columns": null,
            "grid_template_rows": null,
            "height": null,
            "justify_content": null,
            "justify_items": null,
            "left": null,
            "margin": null,
            "max_height": null,
            "max_width": null,
            "min_height": null,
            "min_width": null,
            "object_fit": null,
            "object_position": null,
            "order": null,
            "overflow": null,
            "overflow_x": null,
            "overflow_y": null,
            "padding": null,
            "right": null,
            "top": null,
            "visibility": null,
            "width": null
          }
        },
        "0b847b565c174f8a89bdfe915c74854d": {
          "model_module": "@jupyter-widgets/controls",
          "model_name": "DescriptionStyleModel",
          "model_module_version": "1.5.0",
          "state": {
            "_model_module": "@jupyter-widgets/controls",
            "_model_module_version": "1.5.0",
            "_model_name": "DescriptionStyleModel",
            "_view_count": null,
            "_view_module": "@jupyter-widgets/base",
            "_view_module_version": "1.2.0",
            "_view_name": "StyleView",
            "description_width": ""
          }
        },
        "67965fa7d68e4f74a0929001bb8742d3": {
          "model_module": "@jupyter-widgets/base",
          "model_name": "LayoutModel",
          "model_module_version": "1.2.0",
          "state": {
            "_model_module": "@jupyter-widgets/base",
            "_model_module_version": "1.2.0",
            "_model_name": "LayoutModel",
            "_view_count": null,
            "_view_module": "@jupyter-widgets/base",
            "_view_module_version": "1.2.0",
            "_view_name": "LayoutView",
            "align_content": null,
            "align_items": null,
            "align_self": null,
            "border": null,
            "bottom": null,
            "display": null,
            "flex": null,
            "flex_flow": null,
            "grid_area": null,
            "grid_auto_columns": null,
            "grid_auto_flow": null,
            "grid_auto_rows": null,
            "grid_column": null,
            "grid_gap": null,
            "grid_row": null,
            "grid_template_areas": null,
            "grid_template_columns": null,
            "grid_template_rows": null,
            "height": null,
            "justify_content": null,
            "justify_items": null,
            "left": null,
            "margin": null,
            "max_height": null,
            "max_width": null,
            "min_height": null,
            "min_width": null,
            "object_fit": null,
            "object_position": null,
            "order": null,
            "overflow": null,
            "overflow_x": null,
            "overflow_y": null,
            "padding": null,
            "right": null,
            "top": null,
            "visibility": null,
            "width": null
          }
        },
        "2cc069317e794344af5622272b4d0cc8": {
          "model_module": "@jupyter-widgets/controls",
          "model_name": "ProgressStyleModel",
          "model_module_version": "1.5.0",
          "state": {
            "_model_module": "@jupyter-widgets/controls",
            "_model_module_version": "1.5.0",
            "_model_name": "ProgressStyleModel",
            "_view_count": null,
            "_view_module": "@jupyter-widgets/base",
            "_view_module_version": "1.2.0",
            "_view_name": "StyleView",
            "bar_color": null,
            "description_width": ""
          }
        },
        "b946382d20f54f68958a9f1b41bc8ee6": {
          "model_module": "@jupyter-widgets/base",
          "model_name": "LayoutModel",
          "model_module_version": "1.2.0",
          "state": {
            "_model_module": "@jupyter-widgets/base",
            "_model_module_version": "1.2.0",
            "_model_name": "LayoutModel",
            "_view_count": null,
            "_view_module": "@jupyter-widgets/base",
            "_view_module_version": "1.2.0",
            "_view_name": "LayoutView",
            "align_content": null,
            "align_items": null,
            "align_self": null,
            "border": null,
            "bottom": null,
            "display": null,
            "flex": null,
            "flex_flow": null,
            "grid_area": null,
            "grid_auto_columns": null,
            "grid_auto_flow": null,
            "grid_auto_rows": null,
            "grid_column": null,
            "grid_gap": null,
            "grid_row": null,
            "grid_template_areas": null,
            "grid_template_columns": null,
            "grid_template_rows": null,
            "height": null,
            "justify_content": null,
            "justify_items": null,
            "left": null,
            "margin": null,
            "max_height": null,
            "max_width": null,
            "min_height": null,
            "min_width": null,
            "object_fit": null,
            "object_position": null,
            "order": null,
            "overflow": null,
            "overflow_x": null,
            "overflow_y": null,
            "padding": null,
            "right": null,
            "top": null,
            "visibility": null,
            "width": null
          }
        },
        "35ffb8269b024ee990d4fa1d67b89dd1": {
          "model_module": "@jupyter-widgets/controls",
          "model_name": "DescriptionStyleModel",
          "model_module_version": "1.5.0",
          "state": {
            "_model_module": "@jupyter-widgets/controls",
            "_model_module_version": "1.5.0",
            "_model_name": "DescriptionStyleModel",
            "_view_count": null,
            "_view_module": "@jupyter-widgets/base",
            "_view_module_version": "1.2.0",
            "_view_name": "StyleView",
            "description_width": ""
          }
        }
      }
    }
  },
  "cells": [
    {
      "cell_type": "markdown",
      "metadata": {
        "id": "JeENCT8b1kAv"
      },
      "source": [
        "# Setup\n",
        "(No need to read)"
      ]
    },
    {
      "cell_type": "code",
      "execution_count": 1,
      "metadata": {
        "id": "sxK_xiOO1kAv",
        "outputId": "b3d6fc84-425f-4ba1-f104-5f7330131369",
        "colab": {
          "base_uri": "https://localhost:8080/"
        }
      },
      "outputs": [
        {
          "output_type": "stream",
          "name": "stdout",
          "text": [
            "Running as a Colab notebook\n",
            "Collecting git+https://github.com/neelnanda-io/TransformerLens.git\n",
            "  Cloning https://github.com/neelnanda-io/TransformerLens.git to /tmp/pip-req-build-t8lpbx3n\n",
            "  Running command git clone --filter=blob:none --quiet https://github.com/neelnanda-io/TransformerLens.git /tmp/pip-req-build-t8lpbx3n\n",
            "  Resolved https://github.com/neelnanda-io/TransformerLens.git to commit 10d2f8a026d73eada861c7d51064f7e24d8f482c\n",
            "  Installing build dependencies ... \u001b[?25l\u001b[?25hdone\n",
            "  Getting requirements to build wheel ... \u001b[?25l\u001b[?25hdone\n",
            "  Preparing metadata (pyproject.toml) ... \u001b[?25l\u001b[?25hdone\n",
            "Collecting beartype<0.15.0,>=0.14.1 (from transformer-lens==0.0.0)\n",
            "  Downloading beartype-0.14.1-py3-none-any.whl (739 kB)\n",
            "\u001b[2K     \u001b[90m━━━━━━━━━━━━━━━━━━━━━━━━━━━━━━━━━━━━━━━\u001b[0m \u001b[32m739.7/739.7 kB\u001b[0m \u001b[31m6.3 MB/s\u001b[0m eta \u001b[36m0:00:00\u001b[0m\n",
            "\u001b[?25hCollecting datasets>=2.7.1 (from transformer-lens==0.0.0)\n",
            "  Downloading datasets-2.14.4-py3-none-any.whl (519 kB)\n",
            "\u001b[2K     \u001b[90m━━━━━━━━━━━━━━━━━━━━━━━━━━━━━━━━━━━━━━\u001b[0m \u001b[32m519.3/519.3 kB\u001b[0m \u001b[31m11.4 MB/s\u001b[0m eta \u001b[36m0:00:00\u001b[0m\n",
            "\u001b[?25hCollecting einops>=0.6.0 (from transformer-lens==0.0.0)\n",
            "  Downloading einops-0.6.1-py3-none-any.whl (42 kB)\n",
            "\u001b[2K     \u001b[90m━━━━━━━━━━━━━━━━━━━━━━━━━━━━━━━━━━━━━━━━\u001b[0m \u001b[32m42.2/42.2 kB\u001b[0m \u001b[31m4.2 MB/s\u001b[0m eta \u001b[36m0:00:00\u001b[0m\n",
            "\u001b[?25hCollecting fancy-einsum>=0.0.3 (from transformer-lens==0.0.0)\n",
            "  Downloading fancy_einsum-0.0.3-py3-none-any.whl (6.2 kB)\n",
            "Collecting jaxtyping>=0.2.11 (from transformer-lens==0.0.0)\n",
            "  Downloading jaxtyping-0.2.20-py3-none-any.whl (24 kB)\n",
            "Requirement already satisfied: numpy>=1.23 in /usr/local/lib/python3.10/dist-packages (from transformer-lens==0.0.0) (1.23.5)\n",
            "Requirement already satisfied: pandas>=1.1.5 in /usr/local/lib/python3.10/dist-packages (from transformer-lens==0.0.0) (1.5.3)\n",
            "Requirement already satisfied: rich>=12.6.0 in /usr/local/lib/python3.10/dist-packages (from transformer-lens==0.0.0) (13.5.2)\n",
            "Requirement already satisfied: torch>=1.10 in /usr/local/lib/python3.10/dist-packages (from transformer-lens==0.0.0) (2.0.1+cu118)\n",
            "Requirement already satisfied: tqdm>=4.64.1 in /usr/local/lib/python3.10/dist-packages (from transformer-lens==0.0.0) (4.65.0)\n",
            "Collecting transformers>=4.25.1 (from transformer-lens==0.0.0)\n",
            "  Downloading transformers-4.31.0-py3-none-any.whl (7.4 MB)\n",
            "\u001b[2K     \u001b[90m━━━━━━━━━━━━━━━━━━━━━━━━━━━━━━━━━━━━━━━━\u001b[0m \u001b[32m7.4/7.4 MB\u001b[0m \u001b[31m30.4 MB/s\u001b[0m eta \u001b[36m0:00:00\u001b[0m\n",
            "\u001b[?25hCollecting wandb>=0.13.5 (from transformer-lens==0.0.0)\n",
            "  Downloading wandb-0.15.8-py3-none-any.whl (2.1 MB)\n",
            "\u001b[2K     \u001b[90m━━━━━━━━━━━━━━━━━━━━━━━━━━━━━━━━━━━━━━━━\u001b[0m \u001b[32m2.1/2.1 MB\u001b[0m \u001b[31m48.2 MB/s\u001b[0m eta \u001b[36m0:00:00\u001b[0m\n",
            "\u001b[?25hRequirement already satisfied: pyarrow>=8.0.0 in /usr/local/lib/python3.10/dist-packages (from datasets>=2.7.1->transformer-lens==0.0.0) (9.0.0)\n",
            "Collecting dill<0.3.8,>=0.3.0 (from datasets>=2.7.1->transformer-lens==0.0.0)\n",
            "  Downloading dill-0.3.7-py3-none-any.whl (115 kB)\n",
            "\u001b[2K     \u001b[90m━━━━━━━━━━━━━━━━━━━━━━━━━━━━━━━━━━━━━━\u001b[0m \u001b[32m115.3/115.3 kB\u001b[0m \u001b[31m16.0 MB/s\u001b[0m eta \u001b[36m0:00:00\u001b[0m\n",
            "\u001b[?25hRequirement already satisfied: requests>=2.19.0 in /usr/local/lib/python3.10/dist-packages (from datasets>=2.7.1->transformer-lens==0.0.0) (2.31.0)\n",
            "Collecting xxhash (from datasets>=2.7.1->transformer-lens==0.0.0)\n",
            "  Downloading xxhash-3.3.0-cp310-cp310-manylinux_2_17_x86_64.manylinux2014_x86_64.whl (194 kB)\n",
            "\u001b[2K     \u001b[90m━━━━━━━━━━━━━━━━━━━━━━━━━━━━━━━━━━━━━━\u001b[0m \u001b[32m194.1/194.1 kB\u001b[0m \u001b[31m27.7 MB/s\u001b[0m eta \u001b[36m0:00:00\u001b[0m\n",
            "\u001b[?25hCollecting multiprocess (from datasets>=2.7.1->transformer-lens==0.0.0)\n",
            "  Downloading multiprocess-0.70.15-py310-none-any.whl (134 kB)\n",
            "\u001b[2K     \u001b[90m━━━━━━━━━━━━━━━━━━━━━━━━━━━━━━━━━━━━━━\u001b[0m \u001b[32m134.8/134.8 kB\u001b[0m \u001b[31m18.4 MB/s\u001b[0m eta \u001b[36m0:00:00\u001b[0m\n",
            "\u001b[?25hRequirement already satisfied: fsspec[http]>=2021.11.1 in /usr/local/lib/python3.10/dist-packages (from datasets>=2.7.1->transformer-lens==0.0.0) (2023.6.0)\n",
            "Requirement already satisfied: aiohttp in /usr/local/lib/python3.10/dist-packages (from datasets>=2.7.1->transformer-lens==0.0.0) (3.8.5)\n",
            "Collecting huggingface-hub<1.0.0,>=0.14.0 (from datasets>=2.7.1->transformer-lens==0.0.0)\n",
            "  Downloading huggingface_hub-0.16.4-py3-none-any.whl (268 kB)\n",
            "\u001b[2K     \u001b[90m━━━━━━━━━━━━━━━━━━━━━━━━━━━━━━━━━━━━━━\u001b[0m \u001b[32m268.8/268.8 kB\u001b[0m \u001b[31m35.0 MB/s\u001b[0m eta \u001b[36m0:00:00\u001b[0m\n",
            "\u001b[?25hRequirement already satisfied: packaging in /usr/local/lib/python3.10/dist-packages (from datasets>=2.7.1->transformer-lens==0.0.0) (23.1)\n",
            "Requirement already satisfied: pyyaml>=5.1 in /usr/local/lib/python3.10/dist-packages (from datasets>=2.7.1->transformer-lens==0.0.0) (6.0.1)\n",
            "Collecting typeguard>=2.13.3 (from jaxtyping>=0.2.11->transformer-lens==0.0.0)\n",
            "  Downloading typeguard-4.1.0-py3-none-any.whl (33 kB)\n",
            "Requirement already satisfied: typing-extensions>=3.7.4.1 in /usr/local/lib/python3.10/dist-packages (from jaxtyping>=0.2.11->transformer-lens==0.0.0) (4.7.1)\n",
            "Requirement already satisfied: python-dateutil>=2.8.1 in /usr/local/lib/python3.10/dist-packages (from pandas>=1.1.5->transformer-lens==0.0.0) (2.8.2)\n",
            "Requirement already satisfied: pytz>=2020.1 in /usr/local/lib/python3.10/dist-packages (from pandas>=1.1.5->transformer-lens==0.0.0) (2022.7.1)\n",
            "Requirement already satisfied: markdown-it-py>=2.2.0 in /usr/local/lib/python3.10/dist-packages (from rich>=12.6.0->transformer-lens==0.0.0) (3.0.0)\n",
            "Requirement already satisfied: pygments<3.0.0,>=2.13.0 in /usr/local/lib/python3.10/dist-packages (from rich>=12.6.0->transformer-lens==0.0.0) (2.14.0)\n",
            "Requirement already satisfied: filelock in /usr/local/lib/python3.10/dist-packages (from torch>=1.10->transformer-lens==0.0.0) (3.12.2)\n",
            "Requirement already satisfied: sympy in /usr/local/lib/python3.10/dist-packages (from torch>=1.10->transformer-lens==0.0.0) (1.11.1)\n",
            "Requirement already satisfied: networkx in /usr/local/lib/python3.10/dist-packages (from torch>=1.10->transformer-lens==0.0.0) (3.1)\n",
            "Requirement already satisfied: jinja2 in /usr/local/lib/python3.10/dist-packages (from torch>=1.10->transformer-lens==0.0.0) (3.1.2)\n",
            "Requirement already satisfied: triton==2.0.0 in /usr/local/lib/python3.10/dist-packages (from torch>=1.10->transformer-lens==0.0.0) (2.0.0)\n",
            "Requirement already satisfied: cmake in /usr/local/lib/python3.10/dist-packages (from triton==2.0.0->torch>=1.10->transformer-lens==0.0.0) (3.25.2)\n",
            "Requirement already satisfied: lit in /usr/local/lib/python3.10/dist-packages (from triton==2.0.0->torch>=1.10->transformer-lens==0.0.0) (16.0.6)\n",
            "Requirement already satisfied: regex!=2019.12.17 in /usr/local/lib/python3.10/dist-packages (from transformers>=4.25.1->transformer-lens==0.0.0) (2022.10.31)\n",
            "Collecting tokenizers!=0.11.3,<0.14,>=0.11.1 (from transformers>=4.25.1->transformer-lens==0.0.0)\n",
            "  Downloading tokenizers-0.13.3-cp310-cp310-manylinux_2_17_x86_64.manylinux2014_x86_64.whl (7.8 MB)\n",
            "\u001b[2K     \u001b[90m━━━━━━━━━━━━━━━━━━━━━━━━━━━━━━━━━━━━━━━━\u001b[0m \u001b[32m7.8/7.8 MB\u001b[0m \u001b[31m74.5 MB/s\u001b[0m eta \u001b[36m0:00:00\u001b[0m\n",
            "\u001b[?25hCollecting safetensors>=0.3.1 (from transformers>=4.25.1->transformer-lens==0.0.0)\n",
            "  Downloading safetensors-0.3.2-cp310-cp310-manylinux_2_17_x86_64.manylinux2014_x86_64.whl (1.3 MB)\n",
            "\u001b[2K     \u001b[90m━━━━━━━━━━━━━━━━━━━━━━━━━━━━━━━━━━━━━━━━\u001b[0m \u001b[32m1.3/1.3 MB\u001b[0m \u001b[31m73.5 MB/s\u001b[0m eta \u001b[36m0:00:00\u001b[0m\n",
            "\u001b[?25hRequirement already satisfied: Click!=8.0.0,>=7.1 in /usr/local/lib/python3.10/dist-packages (from wandb>=0.13.5->transformer-lens==0.0.0) (8.1.6)\n",
            "Collecting GitPython!=3.1.29,>=1.0.0 (from wandb>=0.13.5->transformer-lens==0.0.0)\n",
            "  Downloading GitPython-3.1.32-py3-none-any.whl (188 kB)\n",
            "\u001b[2K     \u001b[90m━━━━━━━━━━━━━━━━━━━━━━━━━━━━━━━━━━━━━━\u001b[0m \u001b[32m188.5/188.5 kB\u001b[0m \u001b[31m26.9 MB/s\u001b[0m eta \u001b[36m0:00:00\u001b[0m\n",
            "\u001b[?25hRequirement already satisfied: psutil>=5.0.0 in /usr/local/lib/python3.10/dist-packages (from wandb>=0.13.5->transformer-lens==0.0.0) (5.9.5)\n",
            "Collecting sentry-sdk>=1.0.0 (from wandb>=0.13.5->transformer-lens==0.0.0)\n",
            "  Downloading sentry_sdk-1.29.2-py2.py3-none-any.whl (215 kB)\n",
            "\u001b[2K     \u001b[90m━━━━━━━━━━━━━━━━━━━━━━━━━━━━━━━━━━━━━━\u001b[0m \u001b[32m215.6/215.6 kB\u001b[0m \u001b[31m26.8 MB/s\u001b[0m eta \u001b[36m0:00:00\u001b[0m\n",
            "\u001b[?25hCollecting docker-pycreds>=0.4.0 (from wandb>=0.13.5->transformer-lens==0.0.0)\n",
            "  Downloading docker_pycreds-0.4.0-py2.py3-none-any.whl (9.0 kB)\n",
            "Collecting pathtools (from wandb>=0.13.5->transformer-lens==0.0.0)\n",
            "  Downloading pathtools-0.1.2.tar.gz (11 kB)\n",
            "  Preparing metadata (setup.py) ... \u001b[?25l\u001b[?25hdone\n",
            "Collecting setproctitle (from wandb>=0.13.5->transformer-lens==0.0.0)\n",
            "  Downloading setproctitle-1.3.2-cp310-cp310-manylinux_2_5_x86_64.manylinux1_x86_64.manylinux_2_17_x86_64.manylinux2014_x86_64.whl (30 kB)\n",
            "Requirement already satisfied: setuptools in /usr/local/lib/python3.10/dist-packages (from wandb>=0.13.5->transformer-lens==0.0.0) (67.7.2)\n",
            "Requirement already satisfied: appdirs>=1.4.3 in /usr/local/lib/python3.10/dist-packages (from wandb>=0.13.5->transformer-lens==0.0.0) (1.4.4)\n",
            "Requirement already satisfied: protobuf!=4.21.0,<5,>=3.19.0 in /usr/local/lib/python3.10/dist-packages (from wandb>=0.13.5->transformer-lens==0.0.0) (3.20.3)\n",
            "Requirement already satisfied: six>=1.4.0 in /usr/local/lib/python3.10/dist-packages (from docker-pycreds>=0.4.0->wandb>=0.13.5->transformer-lens==0.0.0) (1.16.0)\n",
            "Requirement already satisfied: attrs>=17.3.0 in /usr/local/lib/python3.10/dist-packages (from aiohttp->datasets>=2.7.1->transformer-lens==0.0.0) (23.1.0)\n",
            "Requirement already satisfied: charset-normalizer<4.0,>=2.0 in /usr/local/lib/python3.10/dist-packages (from aiohttp->datasets>=2.7.1->transformer-lens==0.0.0) (3.2.0)\n",
            "Requirement already satisfied: multidict<7.0,>=4.5 in /usr/local/lib/python3.10/dist-packages (from aiohttp->datasets>=2.7.1->transformer-lens==0.0.0) (6.0.4)\n",
            "Requirement already satisfied: async-timeout<5.0,>=4.0.0a3 in /usr/local/lib/python3.10/dist-packages (from aiohttp->datasets>=2.7.1->transformer-lens==0.0.0) (4.0.2)\n",
            "Requirement already satisfied: yarl<2.0,>=1.0 in /usr/local/lib/python3.10/dist-packages (from aiohttp->datasets>=2.7.1->transformer-lens==0.0.0) (1.9.2)\n",
            "Requirement already satisfied: frozenlist>=1.1.1 in /usr/local/lib/python3.10/dist-packages (from aiohttp->datasets>=2.7.1->transformer-lens==0.0.0) (1.4.0)\n",
            "Requirement already satisfied: aiosignal>=1.1.2 in /usr/local/lib/python3.10/dist-packages (from aiohttp->datasets>=2.7.1->transformer-lens==0.0.0) (1.3.1)\n",
            "Collecting gitdb<5,>=4.0.1 (from GitPython!=3.1.29,>=1.0.0->wandb>=0.13.5->transformer-lens==0.0.0)\n",
            "  Downloading gitdb-4.0.10-py3-none-any.whl (62 kB)\n",
            "\u001b[2K     \u001b[90m━━━━━━━━━━━━━━━━━━━━━━━━━━━━━━━━━━━━━━━━\u001b[0m \u001b[32m62.7/62.7 kB\u001b[0m \u001b[31m8.6 MB/s\u001b[0m eta \u001b[36m0:00:00\u001b[0m\n",
            "\u001b[?25hRequirement already satisfied: mdurl~=0.1 in /usr/local/lib/python3.10/dist-packages (from markdown-it-py>=2.2.0->rich>=12.6.0->transformer-lens==0.0.0) (0.1.2)\n",
            "Requirement already satisfied: idna<4,>=2.5 in /usr/local/lib/python3.10/dist-packages (from requests>=2.19.0->datasets>=2.7.1->transformer-lens==0.0.0) (3.4)\n",
            "Requirement already satisfied: urllib3<3,>=1.21.1 in /usr/local/lib/python3.10/dist-packages (from requests>=2.19.0->datasets>=2.7.1->transformer-lens==0.0.0) (1.26.16)\n",
            "Requirement already satisfied: certifi>=2017.4.17 in /usr/local/lib/python3.10/dist-packages (from requests>=2.19.0->datasets>=2.7.1->transformer-lens==0.0.0) (2023.7.22)\n",
            "Requirement already satisfied: MarkupSafe>=2.0 in /usr/local/lib/python3.10/dist-packages (from jinja2->torch>=1.10->transformer-lens==0.0.0) (2.1.3)\n",
            "Requirement already satisfied: mpmath>=0.19 in /usr/local/lib/python3.10/dist-packages (from sympy->torch>=1.10->transformer-lens==0.0.0) (1.3.0)\n",
            "Collecting smmap<6,>=3.0.1 (from gitdb<5,>=4.0.1->GitPython!=3.1.29,>=1.0.0->wandb>=0.13.5->transformer-lens==0.0.0)\n",
            "  Downloading smmap-5.0.0-py3-none-any.whl (24 kB)\n",
            "Building wheels for collected packages: transformer-lens, pathtools\n",
            "  Building wheel for transformer-lens (pyproject.toml) ... \u001b[?25l\u001b[?25hdone\n",
            "  Created wheel for transformer-lens: filename=transformer_lens-0.0.0-py3-none-any.whl size=105856 sha256=8b8569bc6ad00f3b4d7748e92dcaec0688a67652fe6b37f8bea495ca076ad502\n",
            "  Stored in directory: /tmp/pip-ephem-wheel-cache-4n7g9y8w/wheels/8a/1e/37/ffb9c15454a1725b13a9d9f5e74fb91725048884ad734b8c1f\n",
            "  Building wheel for pathtools (setup.py) ... \u001b[?25l\u001b[?25hdone\n",
            "  Created wheel for pathtools: filename=pathtools-0.1.2-py3-none-any.whl size=8791 sha256=087a88a73b0120886fd9e4831f5190072bffa26bd028be860e3dcee6742b3f04\n",
            "  Stored in directory: /root/.cache/pip/wheels/e7/f3/22/152153d6eb222ee7a56ff8617d80ee5207207a8c00a7aab794\n",
            "Successfully built transformer-lens pathtools\n",
            "Installing collected packages: tokenizers, safetensors, pathtools, xxhash, typeguard, smmap, setproctitle, sentry-sdk, fancy-einsum, einops, docker-pycreds, dill, beartype, multiprocess, jaxtyping, huggingface-hub, gitdb, transformers, GitPython, wandb, datasets, transformer-lens\n",
            "Successfully installed GitPython-3.1.32 beartype-0.14.1 datasets-2.14.4 dill-0.3.7 docker-pycreds-0.4.0 einops-0.6.1 fancy-einsum-0.0.3 gitdb-4.0.10 huggingface-hub-0.16.4 jaxtyping-0.2.20 multiprocess-0.70.15 pathtools-0.1.2 safetensors-0.3.2 sentry-sdk-1.29.2 setproctitle-1.3.2 smmap-5.0.0 tokenizers-0.13.3 transformer-lens-0.0.0 transformers-4.31.0 typeguard-4.1.0 wandb-0.15.8 xxhash-3.3.0\n"
          ]
        }
      ],
      "source": [
        "# Janky code to do different setup when run in a Colab notebook vs VSCode\n",
        "DEBUG_MODE = False\n",
        "try:\n",
        "    import google.colab\n",
        "    IN_COLAB = True\n",
        "    print(\"Running as a Colab notebook\")\n",
        "    %pip install git+https://github.com/neelnanda-io/TransformerLens.git\n",
        "except:\n",
        "    IN_COLAB = False\n",
        "    print(\"Running as a Jupyter notebook - intended for development only!\")\n",
        "    from IPython import get_ipython\n",
        "\n",
        "    ipython = get_ipython()\n",
        "    # Code to automatically update the HookedTransformer code as its edited without restarting the kernel\n",
        "    ipython.magic(\"load_ext autoreload\")\n",
        "    ipython.magic(\"autoreload 2\")"
      ]
    },
    {
      "cell_type": "code",
      "source": [
        "try:\n",
        "    %pip install git+https://github.com/callummcdougall/CircuitsVis.git#subdirectory=python\n",
        "except:\n",
        "    import os; os.environ[\"ACCELERATE_DISABLE_RICH\"] = \"1\"\n",
        "    from IPython import get_ipython\n",
        "    ipython = get_ipython()\n",
        "    ipython.run_line_magic(\"load_ext\", \"autoreload\")\n",
        "    ipython.run_line_magic(\"autoreload\", \"2\")"
      ],
      "metadata": {
        "id": "zfSn5iNSFKlo",
        "colab": {
          "base_uri": "https://localhost:8080/"
        },
        "outputId": "3c3eb2ff-bf11-469e-c15c-b41a4cf4bb88"
      },
      "execution_count": 2,
      "outputs": [
        {
          "output_type": "stream",
          "name": "stdout",
          "text": [
            "Collecting git+https://github.com/callummcdougall/CircuitsVis.git#subdirectory=python\n",
            "  Cloning https://github.com/callummcdougall/CircuitsVis.git to /tmp/pip-req-build-xsca5hhg\n",
            "  Running command git clone --filter=blob:none --quiet https://github.com/callummcdougall/CircuitsVis.git /tmp/pip-req-build-xsca5hhg\n",
            "  Resolved https://github.com/callummcdougall/CircuitsVis.git to commit cc216772a66af819ff3a77038e53134f3e073af4\n",
            "  Installing build dependencies ... \u001b[?25l\u001b[?25hdone\n",
            "  Getting requirements to build wheel ... \u001b[?25l\u001b[?25hdone\n",
            "  Preparing metadata (pyproject.toml) ... \u001b[?25l\u001b[?25hdone\n",
            "Collecting importlib-metadata<6.0.0,>=5.1.0 (from circuitsvis==0.0.0)\n",
            "  Downloading importlib_metadata-5.2.0-py3-none-any.whl (21 kB)\n",
            "Requirement already satisfied: numpy<2.0,>=1.23 in /usr/local/lib/python3.10/dist-packages (from circuitsvis==0.0.0) (1.23.5)\n",
            "Requirement already satisfied: torch<3.0,>=2.0 in /usr/local/lib/python3.10/dist-packages (from circuitsvis==0.0.0) (2.0.1+cu118)\n",
            "Requirement already satisfied: zipp>=0.5 in /usr/local/lib/python3.10/dist-packages (from importlib-metadata<6.0.0,>=5.1.0->circuitsvis==0.0.0) (3.16.2)\n",
            "Requirement already satisfied: filelock in /usr/local/lib/python3.10/dist-packages (from torch<3.0,>=2.0->circuitsvis==0.0.0) (3.12.2)\n",
            "Requirement already satisfied: typing-extensions in /usr/local/lib/python3.10/dist-packages (from torch<3.0,>=2.0->circuitsvis==0.0.0) (4.7.1)\n",
            "Requirement already satisfied: sympy in /usr/local/lib/python3.10/dist-packages (from torch<3.0,>=2.0->circuitsvis==0.0.0) (1.11.1)\n",
            "Requirement already satisfied: networkx in /usr/local/lib/python3.10/dist-packages (from torch<3.0,>=2.0->circuitsvis==0.0.0) (3.1)\n",
            "Requirement already satisfied: jinja2 in /usr/local/lib/python3.10/dist-packages (from torch<3.0,>=2.0->circuitsvis==0.0.0) (3.1.2)\n",
            "Requirement already satisfied: triton==2.0.0 in /usr/local/lib/python3.10/dist-packages (from torch<3.0,>=2.0->circuitsvis==0.0.0) (2.0.0)\n",
            "Requirement already satisfied: cmake in /usr/local/lib/python3.10/dist-packages (from triton==2.0.0->torch<3.0,>=2.0->circuitsvis==0.0.0) (3.25.2)\n",
            "Requirement already satisfied: lit in /usr/local/lib/python3.10/dist-packages (from triton==2.0.0->torch<3.0,>=2.0->circuitsvis==0.0.0) (16.0.6)\n",
            "Requirement already satisfied: MarkupSafe>=2.0 in /usr/local/lib/python3.10/dist-packages (from jinja2->torch<3.0,>=2.0->circuitsvis==0.0.0) (2.1.3)\n",
            "Requirement already satisfied: mpmath>=0.19 in /usr/local/lib/python3.10/dist-packages (from sympy->torch<3.0,>=2.0->circuitsvis==0.0.0) (1.3.0)\n",
            "Building wheels for collected packages: circuitsvis\n",
            "  Building wheel for circuitsvis (pyproject.toml) ... \u001b[?25l\u001b[?25hdone\n",
            "  Created wheel for circuitsvis: filename=circuitsvis-0.0.0-py3-none-any.whl size=1808565 sha256=00f6ea06383f60ca2f217e993df066f72a161cc8394eab833ee3e1580b220973\n",
            "  Stored in directory: /tmp/pip-ephem-wheel-cache-jvc0p0s7/wheels/86/be/ad/78078aba9344d200aad61b63d35cdaecdec160212f039eed74\n",
            "Successfully built circuitsvis\n",
            "Installing collected packages: importlib-metadata, circuitsvis\n",
            "  Attempting uninstall: importlib-metadata\n",
            "    Found existing installation: importlib-metadata 4.6.4\n",
            "    Uninstalling importlib-metadata-4.6.4:\n",
            "      Successfully uninstalled importlib-metadata-4.6.4\n",
            "Successfully installed circuitsvis-0.0.0 importlib-metadata-5.2.0\n"
          ]
        }
      ]
    },
    {
      "cell_type": "code",
      "execution_count": 3,
      "metadata": {
        "id": "ucSutS0c1kAw"
      },
      "outputs": [],
      "source": [
        "# Plotly needs a different renderer for VSCode/Notebooks vs Colab argh\n",
        "import plotly.io as pio\n",
        "\n",
        "if IN_COLAB or not DEBUG_MODE:\n",
        "    # Thanks to annoying rendering issues, Plotly graphics will either show up in colab OR Vscode depending on the renderer - this is bad for developing demos! Thus creating a debug mode.\n",
        "    pio.renderers.default = \"colab\"\n",
        "else:\n",
        "    pio.renderers.default = \"png\""
      ]
    },
    {
      "cell_type": "code",
      "execution_count": 4,
      "metadata": {
        "id": "uR_n0Mrl1kAx"
      },
      "outputs": [],
      "source": [
        "# Import stuff\n",
        "import torch\n",
        "import torch.nn as nn\n",
        "import torch.nn.functional as F\n",
        "import torch.optim as optim\n",
        "import numpy as np\n",
        "import circuitsvis as cv\n",
        "import einops\n",
        "import tqdm.notebook as tqdm\n",
        "import random\n",
        "from pathlib import Path\n",
        "import plotly.express as px\n",
        "from torch.utils.data import DataLoader\n",
        "\n",
        "from jaxtyping import Float, Int\n",
        "from typing import List, Union, Optional\n",
        "from functools import partial\n",
        "import copy\n",
        "\n",
        "import itertools\n",
        "from transformers import AutoModelForCausalLM, AutoConfig, AutoTokenizer\n",
        "import dataclasses\n",
        "from dataclasses import dataclass\n",
        "import datasets\n",
        "from IPython.display import HTML"
      ]
    },
    {
      "cell_type": "code",
      "execution_count": 5,
      "metadata": {
        "id": "YSZhMtBl1kAx"
      },
      "outputs": [],
      "source": [
        "import transformer_lens\n",
        "import transformer_lens.utils as utils\n",
        "from transformer_lens.hook_points import (\n",
        "    HookedRootModule,\n",
        "    HookPoint,\n",
        ")  # Hooking utilities\n",
        "from transformer_lens import HookedTransformer, HookedTransformerConfig, FactoredMatrix, ActivationCache"
      ]
    },
    {
      "cell_type": "markdown",
      "metadata": {
        "id": "DPzBb_kI1kAy"
      },
      "source": [
        "Plotting helper functions:"
      ]
    },
    {
      "cell_type": "code",
      "execution_count": 6,
      "metadata": {
        "id": "fBIDNqzV1kAy"
      },
      "outputs": [],
      "source": [
        "import plotly.graph_objects as go\n",
        "\n",
        "update_layout_set = {\"xaxis_range\", \"yaxis_range\", \"hovermode\", \"xaxis_title\", \"yaxis_title\", \"colorbar\", \"colorscale\", \"coloraxis\", \"title_x\", \"bargap\", \"bargroupgap\", \"xaxis_tickformat\", \"yaxis_tickformat\", \"title_y\", \"legend_title_text\", \"xaxis_showgrid\", \"xaxis_gridwidth\", \"xaxis_gridcolor\", \"yaxis_showgrid\", \"yaxis_gridwidth\"}\n",
        "def imshow(tensor, renderer=None, xaxis=\"\", yaxis=\"\", **kwargs):\n",
        "    if isinstance(tensor, list):\n",
        "        tensor = torch.stack(tensor)\n",
        "    kwargs_post = {k: v for k, v in kwargs.items() if k in update_layout_set}\n",
        "    kwargs_pre = {k: v for k, v in kwargs.items() if k not in update_layout_set}\n",
        "    if \"facet_labels\" in kwargs_pre:\n",
        "        facet_labels = kwargs_pre.pop(\"facet_labels\")\n",
        "    else:\n",
        "        facet_labels = None\n",
        "    if \"color_continuous_scale\" not in kwargs_pre:\n",
        "        kwargs_pre[\"color_continuous_scale\"] = \"RdBu\"\n",
        "    fig = px.imshow(utils.to_numpy(tensor), color_continuous_midpoint=0.0,labels={\"x\":xaxis, \"y\":yaxis}, **kwargs_pre).update_layout(**kwargs_post)\n",
        "    if facet_labels:\n",
        "        for i, label in enumerate(facet_labels):\n",
        "            fig.layout.annotations[i]['text'] = label\n",
        "\n",
        "    fig.show(renderer)\n",
        "\n",
        "def line(tensor, renderer=None, xaxis=\"\", yaxis=\"\", **kwargs):\n",
        "    px.line(y=utils.to_numpy(tensor), labels={\"x\":xaxis, \"y\":yaxis}, **kwargs).show(renderer)\n",
        "\n",
        "def scatter(x, y, xaxis=\"\", yaxis=\"\", caxis=\"\", renderer=None, **kwargs):\n",
        "    x = utils.to_numpy(x)\n",
        "    y = utils.to_numpy(y)\n",
        "    px.scatter(y=y, x=x, labels={\"x\":xaxis, \"y\":yaxis, \"color\":caxis}, **kwargs).show(renderer)\n",
        "\n",
        "def lines(lines_list, x=None, mode='lines', labels=None, xaxis='', yaxis='', title = '', log_y=False, hover=None, **kwargs):\n",
        "    # Helper function to plot multiple lines\n",
        "    if type(lines_list)==torch.Tensor:\n",
        "        lines_list = [lines_list[i] for i in range(lines_list.shape[0])]\n",
        "    if x is None:\n",
        "        x=np.arange(len(lines_list[0]))\n",
        "    fig = go.Figure(layout={'title':title})\n",
        "    fig.update_xaxes(title=xaxis)\n",
        "    fig.update_yaxes(title=yaxis)\n",
        "    for c, line in enumerate(lines_list):\n",
        "        if type(line)==torch.Tensor:\n",
        "            line = utils.to_numpy(line)\n",
        "        if labels is not None:\n",
        "            label = labels[c]\n",
        "        else:\n",
        "            label = c\n",
        "        fig.add_trace(go.Scatter(x=x, y=line, mode=mode, name=label, hovertext=hover, **kwargs))\n",
        "    if log_y:\n",
        "        fig.update_layout(yaxis_type=\"log\")\n",
        "    fig.show()\n",
        "\n",
        "def bar(tensor, renderer=None, xaxis=\"\", yaxis=\"\", **kwargs):\n",
        "    px.bar(\n",
        "        y=utils.to_numpy(tensor),\n",
        "        labels={\"x\": xaxis, \"y\": yaxis},\n",
        "        template=\"simple_white\",\n",
        "        **kwargs).show(renderer)"
      ]
    },
    {
      "cell_type": "code",
      "source": [
        "import transformer_lens.patching as patching\n",
        "from transformer_lens import evals\n",
        "import math"
      ],
      "metadata": {
        "id": "MzEwzeib1tjE"
      },
      "execution_count": 7,
      "outputs": []
    },
    {
      "cell_type": "markdown",
      "source": [
        "# Load Model"
      ],
      "metadata": {
        "id": "HdPsT2ZOxeua"
      }
    },
    {
      "cell_type": "code",
      "execution_count": 8,
      "metadata": {
        "id": "llysLeEq1kAy",
        "colab": {
          "base_uri": "https://localhost:8080/"
        },
        "outputId": "cc7599bc-0c94-4833-bf92-04e4c87d3bce"
      },
      "outputs": [
        {
          "output_type": "execute_result",
          "data": {
            "text/plain": [
              "<torch.autograd.grad_mode.set_grad_enabled at 0x7ec21c47c610>"
            ]
          },
          "metadata": {},
          "execution_count": 8
        }
      ],
      "source": [
        "torch.set_grad_enabled(True)"
      ]
    },
    {
      "cell_type": "code",
      "source": [
        "device = 'cuda' if torch.cuda.is_available() else 'cpu'\n",
        "print(device)"
      ],
      "metadata": {
        "id": "S0QibP7y7xCm",
        "colab": {
          "base_uri": "https://localhost:8080/"
        },
        "outputId": "3cce7ddf-d0b3-44a7-eadc-2d842ff3a91d"
      },
      "execution_count": 9,
      "outputs": [
        {
          "output_type": "stream",
          "name": "stdout",
          "text": [
            "cuda\n"
          ]
        }
      ]
    },
    {
      "cell_type": "code",
      "source": [
        "MAX_NUM=100\n",
        "cfg = HookedTransformerConfig(\n",
        "    n_layers=2,\n",
        "    n_heads=1,\n",
        "    d_model=128,\n",
        "    d_head=128,\n",
        "    attn_only=True,\n",
        "    normalization_type=None,\n",
        "    n_ctx=10,\n",
        "    d_vocab=MAX_NUM+1, # 0,...,MAX_NUM-1, BOS\n",
        "    device=device,\n",
        "    seed=0\n",
        ")\n",
        "\n",
        "model = HookedTransformer(cfg)\n",
        "print(model)"
      ],
      "metadata": {
        "id": "7SU1oTr-9Mq3",
        "colab": {
          "base_uri": "https://localhost:8080/"
        },
        "outputId": "2cb51d08-aaa6-4fe6-a563-0b31c7093432"
      },
      "execution_count": 10,
      "outputs": [
        {
          "output_type": "stream",
          "name": "stdout",
          "text": [
            "HookedTransformer(\n",
            "  (embed): Embed()\n",
            "  (hook_embed): HookPoint()\n",
            "  (pos_embed): PosEmbed()\n",
            "  (hook_pos_embed): HookPoint()\n",
            "  (blocks): ModuleList(\n",
            "    (0-1): 2 x TransformerBlock(\n",
            "      (ln1): Identity()\n",
            "      (attn): Attention(\n",
            "        (hook_k): HookPoint()\n",
            "        (hook_q): HookPoint()\n",
            "        (hook_v): HookPoint()\n",
            "        (hook_z): HookPoint()\n",
            "        (hook_attn_scores): HookPoint()\n",
            "        (hook_pattern): HookPoint()\n",
            "        (hook_result): HookPoint()\n",
            "      )\n",
            "      (hook_q_input): HookPoint()\n",
            "      (hook_k_input): HookPoint()\n",
            "      (hook_v_input): HookPoint()\n",
            "      (hook_attn_out): HookPoint()\n",
            "      (hook_mlp_in): HookPoint()\n",
            "      (hook_mlp_out): HookPoint()\n",
            "      (hook_resid_pre): HookPoint()\n",
            "      (hook_resid_post): HookPoint()\n",
            "    )\n",
            "  )\n",
            "  (unembed): Unembed()\n",
            ")\n"
          ]
        }
      ]
    },
    {
      "cell_type": "code",
      "source": [
        "# disable positional embeddings\n",
        "model.pos_embed.W_pos = nn.Parameter(torch.zeros_like(model.pos_embed.W_pos))\n",
        "model.pos_embed.W_pos.requires_grad = False"
      ],
      "metadata": {
        "id": "XEdyEerti3kp"
      },
      "execution_count": 11,
      "outputs": []
    },
    {
      "cell_type": "code",
      "source": [
        "# disable biases\n",
        "for name, param in model.named_parameters():\n",
        "    if 'b_' in name:\n",
        "        param.requires_grad = False\n",
        "    print(name, param.shape, param.requires_grad)"
      ],
      "metadata": {
        "colab": {
          "base_uri": "https://localhost:8080/"
        },
        "id": "06e8GABZjJ65",
        "outputId": "3d6fb9fe-1b59-4587-cf2f-acb324c0e398"
      },
      "execution_count": 12,
      "outputs": [
        {
          "output_type": "stream",
          "name": "stdout",
          "text": [
            "embed.W_E torch.Size([101, 128]) True\n",
            "pos_embed.W_pos torch.Size([10, 128]) False\n",
            "blocks.0.attn.W_Q torch.Size([1, 128, 128]) True\n",
            "blocks.0.attn.W_K torch.Size([1, 128, 128]) True\n",
            "blocks.0.attn.W_V torch.Size([1, 128, 128]) True\n",
            "blocks.0.attn.W_O torch.Size([1, 128, 128]) True\n",
            "blocks.0.attn.b_Q torch.Size([1, 128]) False\n",
            "blocks.0.attn.b_K torch.Size([1, 128]) False\n",
            "blocks.0.attn.b_V torch.Size([1, 128]) False\n",
            "blocks.0.attn.b_O torch.Size([128]) False\n",
            "blocks.1.attn.W_Q torch.Size([1, 128, 128]) True\n",
            "blocks.1.attn.W_K torch.Size([1, 128, 128]) True\n",
            "blocks.1.attn.W_V torch.Size([1, 128, 128]) True\n",
            "blocks.1.attn.W_O torch.Size([1, 128, 128]) True\n",
            "blocks.1.attn.b_Q torch.Size([1, 128]) False\n",
            "blocks.1.attn.b_K torch.Size([1, 128]) False\n",
            "blocks.1.attn.b_V torch.Size([1, 128]) False\n",
            "blocks.1.attn.b_O torch.Size([128]) False\n",
            "unembed.W_U torch.Size([128, 101]) True\n",
            "unembed.b_U torch.Size([101]) False\n"
          ]
        }
      ]
    },
    {
      "cell_type": "markdown",
      "source": [
        "# Training"
      ],
      "metadata": {
        "id": "PmRdHiGQlaT2"
      }
    },
    {
      "cell_type": "markdown",
      "source": [
        "## Task dataset"
      ],
      "metadata": {
        "id": "yKHWVkHtjVv3"
      }
    },
    {
      "cell_type": "code",
      "source": [
        "BOS_TOKEN = cfg.d_vocab-1\n",
        "def make_data_generator(cfg, batch_size, seed=0):\n",
        "    torch.manual_seed(seed)\n",
        "    while True:\n",
        "        tokens = torch.randint(0, cfg.d_vocab, (batch_size, cfg.n_ctx))\n",
        "        tokens[:, 0] = BOS_TOKEN\n",
        "        yield tokens\n",
        "\n",
        "print(next(make_data_generator(cfg, 4)))"
      ],
      "metadata": {
        "colab": {
          "base_uri": "https://localhost:8080/"
        },
        "id": "cbtTbwxWjQn3",
        "outputId": "3de18414-32d5-4cb8-a77f-4d73c94b215e"
      },
      "execution_count": 13,
      "outputs": [
        {
          "output_type": "stream",
          "name": "stdout",
          "text": [
            "tensor([[100,  61,  14,  42,  96,  32,  82,   7,  19,  94],\n",
            "        [100,  54,  10,  10,  41,  90,  48,  15,  63,  98],\n",
            "        [100,   8,  37, 100,  54,  93,   1,  98,  82,   1],\n",
            "        [100,  74,  88, 100,  12,   9,  51,  63,  42,  25]])\n"
          ]
        }
      ]
    },
    {
      "cell_type": "markdown",
      "source": [
        "## Loss fn"
      ],
      "metadata": {
        "id": "Mbh05wgkjpSp"
      }
    },
    {
      "cell_type": "code",
      "source": [
        "def loss_fn(logits, tokens):\n",
        "    logits = logits[:, 1:, :]\n",
        "    logits = logits.to(torch.float64)\n",
        "    labels = tokens[:, :-1]\n",
        "    log_probs = logits.log_softmax(dim=-1)\n",
        "    correct_log_probs = log_probs.gather(dim=-1, index=labels[..., None])[..., 0]\n",
        "    return -correct_log_probs.mean()\n",
        "\n",
        "with torch.no_grad():\n",
        "    tokens = next(make_data_generator(cfg, 4)).to(device)\n",
        "    logits = model(tokens)\n",
        "    loss = loss_fn(logits, tokens)\n",
        "    print(loss)"
      ],
      "metadata": {
        "colab": {
          "base_uri": "https://localhost:8080/"
        },
        "id": "KLhL5Cmljq5u",
        "outputId": "1e94a09d-c12b-4db0-f40f-69b5068787d5"
      },
      "execution_count": 14,
      "outputs": [
        {
          "output_type": "stream",
          "name": "stdout",
          "text": [
            "tensor(4.6229, device='cuda:0', dtype=torch.float64)\n"
          ]
        }
      ]
    },
    {
      "cell_type": "code",
      "source": [
        "print(\"Uniform loss\", np.log(cfg.d_vocab_out))"
      ],
      "metadata": {
        "colab": {
          "base_uri": "https://localhost:8080/"
        },
        "id": "SLc5c-c2kBJI",
        "outputId": "112452f5-c6f2-4f18-fc07-e814d7cc5efb"
      },
      "execution_count": 15,
      "outputs": [
        {
          "output_type": "stream",
          "name": "stdout",
          "text": [
            "Uniform loss 4.61512051684126\n"
          ]
        }
      ]
    },
    {
      "cell_type": "markdown",
      "source": [
        "## Setup optimizer / dataloader"
      ],
      "metadata": {
        "id": "6mYL7uQ5kE_U"
      }
    },
    {
      "cell_type": "code",
      "source": [
        "lr = 1e-3\n",
        "wd = 0.1\n",
        "betas = (0.9, 0.95)\n",
        "\n",
        "optimizer = torch.optim.AdamW(model.parameters(), lr=lr, weight_decay=wd, betas=betas)\n",
        "\n",
        "batch_size = 256\n",
        "train_data_loader = make_data_generator(cfg, batch_size)"
      ],
      "metadata": {
        "id": "Q2U-6TlSkD9u"
      },
      "execution_count": 16,
      "outputs": []
    },
    {
      "cell_type": "markdown",
      "source": [
        "## Training Loop"
      ],
      "metadata": {
        "id": "O1lTAvhLkTX5"
      }
    },
    {
      "cell_type": "code",
      "source": [
        "num_epochs = 4000\n",
        "\n",
        "train_losses = []\n",
        "for epoch in tqdm.tqdm(range(num_epochs)):\n",
        "    tokens = next(train_data_loader).to(device)\n",
        "    logits = model(tokens)\n",
        "    loss = loss_fn(logits, tokens)\n",
        "    loss.backward()\n",
        "    train_losses.append(loss.item())\n",
        "\n",
        "    optimizer.step()\n",
        "    optimizer.zero_grad()\n",
        "\n",
        "    if epoch % 100 == 0:\n",
        "        print(f\"Epoch: {epoch}, train loss: {loss.item()}\")"
      ],
      "metadata": {
        "colab": {
          "base_uri": "https://localhost:8080/",
          "height": 763,
          "referenced_widgets": [
            "1481e33279b649c0adc5ae3e0cf33697",
            "e14ef6fc12464f2da5299a5475e659e8",
            "42e411e93df84bc0b60c746cbb0d8834",
            "294936a22f78457d8b7b90aa94eb462f",
            "2f276d0c02ee4d1da30b9bea6fdeb07e",
            "df7761d59a544b26b9f569a056eb24bc",
            "0b847b565c174f8a89bdfe915c74854d",
            "67965fa7d68e4f74a0929001bb8742d3",
            "2cc069317e794344af5622272b4d0cc8",
            "b946382d20f54f68958a9f1b41bc8ee6",
            "35ffb8269b024ee990d4fa1d67b89dd1"
          ]
        },
        "id": "hBLP_dIAkSzu",
        "outputId": "ce4ed977-0074-498a-f091-06d8db04a795"
      },
      "execution_count": 17,
      "outputs": [
        {
          "output_type": "display_data",
          "data": {
            "text/plain": [
              "  0%|          | 0/4000 [00:00<?, ?it/s]"
            ],
            "application/vnd.jupyter.widget-view+json": {
              "version_major": 2,
              "version_minor": 0,
              "model_id": "1481e33279b649c0adc5ae3e0cf33697"
            }
          },
          "metadata": {}
        },
        {
          "output_type": "stream",
          "name": "stdout",
          "text": [
            "Epoch: 0, train loss: 4.6166477311970295\n",
            "Epoch: 100, train loss: 3.0654673052579215\n",
            "Epoch: 200, train loss: 0.9623682648720253\n",
            "Epoch: 300, train loss: 0.3946878525033992\n",
            "Epoch: 400, train loss: 0.20254613303911678\n",
            "Epoch: 500, train loss: 0.11913519904140554\n",
            "Epoch: 600, train loss: 0.15985523881533248\n",
            "Epoch: 700, train loss: 0.06659562566443619\n",
            "Epoch: 800, train loss: 0.0813063363061346\n",
            "Epoch: 900, train loss: 0.054960504735594606\n",
            "Epoch: 1000, train loss: 0.06978972718381639\n",
            "Epoch: 1100, train loss: 0.049871853804287256\n",
            "Epoch: 1200, train loss: 0.06343577050662133\n",
            "Epoch: 1300, train loss: 0.07743425267511174\n",
            "Epoch: 1400, train loss: 0.06036464830150533\n",
            "Epoch: 1500, train loss: 0.05135188863704721\n",
            "Epoch: 1600, train loss: 0.043405947526987204\n",
            "Epoch: 1700, train loss: 0.04404821420206562\n",
            "Epoch: 1800, train loss: 0.05700808951044047\n",
            "Epoch: 1900, train loss: 0.0695774246167292\n",
            "Epoch: 2000, train loss: 0.03869363237587197\n",
            "Epoch: 2100, train loss: 0.045497988321708926\n",
            "Epoch: 2200, train loss: 0.031043534934887044\n",
            "Epoch: 2300, train loss: 0.030323061627397493\n",
            "Epoch: 2400, train loss: 0.037403627922328604\n",
            "Epoch: 2500, train loss: 0.04404982378061368\n",
            "Epoch: 2600, train loss: 0.03384441108553238\n",
            "Epoch: 2700, train loss: 0.052124312097561507\n",
            "Epoch: 2800, train loss: 0.04566250720147988\n",
            "Epoch: 2900, train loss: 0.06384442424331589\n",
            "Epoch: 3000, train loss: 0.04133143579573401\n",
            "Epoch: 3100, train loss: 0.04387831599678544\n",
            "Epoch: 3200, train loss: 0.04756287081696312\n",
            "Epoch: 3300, train loss: 0.04426490768018692\n",
            "Epoch: 3400, train loss: 0.024363707893762687\n",
            "Epoch: 3500, train loss: 0.042274511177187224\n",
            "Epoch: 3600, train loss: 0.034994204477095225\n",
            "Epoch: 3700, train loss: 0.05400319657367499\n",
            "Epoch: 3800, train loss: 0.03696872966148657\n",
            "Epoch: 3900, train loss: 0.038961679287805646\n"
          ]
        }
      ]
    },
    {
      "cell_type": "code",
      "source": [
        "line(\n",
        "    train_losses,\n",
        "    title=\"Train Loss Curve\",\n",
        "    xaxis=\"Epoch\", yaxis=\"Loss\"\n",
        ")"
      ],
      "metadata": {
        "colab": {
          "base_uri": "https://localhost:8080/",
          "height": 542
        },
        "id": "taQs46S2kmUU",
        "outputId": "3ba2798e-2aaa-4006-c1ad-d88c0d378057"
      },
      "execution_count": 18,
      "outputs": [
        {
          "output_type": "display_data",
          "data": {
            "text/html": [
              "<html>\n",
              "<head><meta charset=\"utf-8\" /></head>\n",
              "<body>\n",
              "    <div>            <script src=\"https://cdnjs.cloudflare.com/ajax/libs/mathjax/2.7.5/MathJax.js?config=TeX-AMS-MML_SVG\"></script><script type=\"text/javascript\">if (window.MathJax && window.MathJax.Hub && window.MathJax.Hub.Config) {window.MathJax.Hub.Config({SVG: {font: \"STIX-Web\"}});}</script>                <script type=\"text/javascript\">window.PlotlyConfig = {MathJaxConfig: 'local'};</script>\n",
              "        <script src=\"https://cdn.plot.ly/plotly-2.18.2.min.js\"></script>                <div id=\"1a280ea6-9ed2-4de1-97d9-244b472b07d6\" class=\"plotly-graph-div\" style=\"height:525px; width:100%;\"></div>            <script type=\"text/javascript\">                                    window.PLOTLYENV=window.PLOTLYENV || {};                                    if (document.getElementById(\"1a280ea6-9ed2-4de1-97d9-244b472b07d6\")) {                    Plotly.newPlot(                        \"1a280ea6-9ed2-4de1-97d9-244b472b07d6\",                        [{\"hovertemplate\":\"Epoch=%{x}<br>Loss=%{y}<extra></extra>\",\"legendgroup\":\"\",\"line\":{\"color\":\"#636efa\",\"dash\":\"solid\"},\"marker\":{\"symbol\":\"circle\"},\"mode\":\"lines\",\"name\":\"\",\"showlegend\":false,\"x\":[0,1,2,3,4,5,6,7,8,9,10,11,12,13,14,15,16,17,18,19,20,21,22,23,24,25,26,27,28,29,30,31,32,33,34,35,36,37,38,39,40,41,42,43,44,45,46,47,48,49,50,51,52,53,54,55,56,57,58,59,60,61,62,63,64,65,66,67,68,69,70,71,72,73,74,75,76,77,78,79,80,81,82,83,84,85,86,87,88,89,90,91,92,93,94,95,96,97,98,99,100,101,102,103,104,105,106,107,108,109,110,111,112,113,114,115,116,117,118,119,120,121,122,123,124,125,126,127,128,129,130,131,132,133,134,135,136,137,138,139,140,141,142,143,144,145,146,147,148,149,150,151,152,153,154,155,156,157,158,159,160,161,162,163,164,165,166,167,168,169,170,171,172,173,174,175,176,177,178,179,180,181,182,183,184,185,186,187,188,189,190,191,192,193,194,195,196,197,198,199,200,201,202,203,204,205,206,207,208,209,210,211,212,213,214,215,216,217,218,219,220,221,222,223,224,225,226,227,228,229,230,231,232,233,234,235,236,237,238,239,240,241,242,243,244,245,246,247,248,249,250,251,252,253,254,255,256,257,258,259,260,261,262,263,264,265,266,267,268,269,270,271,272,273,274,275,276,277,278,279,280,281,282,283,284,285,286,287,288,289,290,291,292,293,294,295,296,297,298,299,300,301,302,303,304,305,306,307,308,309,310,311,312,313,314,315,316,317,318,319,320,321,322,323,324,325,326,327,328,329,330,331,332,333,334,335,336,337,338,339,340,341,342,343,344,345,346,347,348,349,350,351,352,353,354,355,356,357,358,359,360,361,362,363,364,365,366,367,368,369,370,371,372,373,374,375,376,377,378,379,380,381,382,383,384,385,386,387,388,389,390,391,392,393,394,395,396,397,398,399,400,401,402,403,404,405,406,407,408,409,410,411,412,413,414,415,416,417,418,419,420,421,422,423,424,425,426,427,428,429,430,431,432,433,434,435,436,437,438,439,440,441,442,443,444,445,446,447,448,449,450,451,452,453,454,455,456,457,458,459,460,461,462,463,464,465,466,467,468,469,470,471,472,473,474,475,476,477,478,479,480,481,482,483,484,485,486,487,488,489,490,491,492,493,494,495,496,497,498,499,500,501,502,503,504,505,506,507,508,509,510,511,512,513,514,515,516,517,518,519,520,521,522,523,524,525,526,527,528,529,530,531,532,533,534,535,536,537,538,539,540,541,542,543,544,545,546,547,548,549,550,551,552,553,554,555,556,557,558,559,560,561,562,563,564,565,566,567,568,569,570,571,572,573,574,575,576,577,578,579,580,581,582,583,584,585,586,587,588,589,590,591,592,593,594,595,596,597,598,599,600,601,602,603,604,605,606,607,608,609,610,611,612,613,614,615,616,617,618,619,620,621,622,623,624,625,626,627,628,629,630,631,632,633,634,635,636,637,638,639,640,641,642,643,644,645,646,647,648,649,650,651,652,653,654,655,656,657,658,659,660,661,662,663,664,665,666,667,668,669,670,671,672,673,674,675,676,677,678,679,680,681,682,683,684,685,686,687,688,689,690,691,692,693,694,695,696,697,698,699,700,701,702,703,704,705,706,707,708,709,710,711,712,713,714,715,716,717,718,719,720,721,722,723,724,725,726,727,728,729,730,731,732,733,734,735,736,737,738,739,740,741,742,743,744,745,746,747,748,749,750,751,752,753,754,755,756,757,758,759,760,761,762,763,764,765,766,767,768,769,770,771,772,773,774,775,776,777,778,779,780,781,782,783,784,785,786,787,788,789,790,791,792,793,794,795,796,797,798,799,800,801,802,803,804,805,806,807,808,809,810,811,812,813,814,815,816,817,818,819,820,821,822,823,824,825,826,827,828,829,830,831,832,833,834,835,836,837,838,839,840,841,842,843,844,845,846,847,848,849,850,851,852,853,854,855,856,857,858,859,860,861,862,863,864,865,866,867,868,869,870,871,872,873,874,875,876,877,878,879,880,881,882,883,884,885,886,887,888,889,890,891,892,893,894,895,896,897,898,899,900,901,902,903,904,905,906,907,908,909,910,911,912,913,914,915,916,917,918,919,920,921,922,923,924,925,926,927,928,929,930,931,932,933,934,935,936,937,938,939,940,941,942,943,944,945,946,947,948,949,950,951,952,953,954,955,956,957,958,959,960,961,962,963,964,965,966,967,968,969,970,971,972,973,974,975,976,977,978,979,980,981,982,983,984,985,986,987,988,989,990,991,992,993,994,995,996,997,998,999,1000,1001,1002,1003,1004,1005,1006,1007,1008,1009,1010,1011,1012,1013,1014,1015,1016,1017,1018,1019,1020,1021,1022,1023,1024,1025,1026,1027,1028,1029,1030,1031,1032,1033,1034,1035,1036,1037,1038,1039,1040,1041,1042,1043,1044,1045,1046,1047,1048,1049,1050,1051,1052,1053,1054,1055,1056,1057,1058,1059,1060,1061,1062,1063,1064,1065,1066,1067,1068,1069,1070,1071,1072,1073,1074,1075,1076,1077,1078,1079,1080,1081,1082,1083,1084,1085,1086,1087,1088,1089,1090,1091,1092,1093,1094,1095,1096,1097,1098,1099,1100,1101,1102,1103,1104,1105,1106,1107,1108,1109,1110,1111,1112,1113,1114,1115,1116,1117,1118,1119,1120,1121,1122,1123,1124,1125,1126,1127,1128,1129,1130,1131,1132,1133,1134,1135,1136,1137,1138,1139,1140,1141,1142,1143,1144,1145,1146,1147,1148,1149,1150,1151,1152,1153,1154,1155,1156,1157,1158,1159,1160,1161,1162,1163,1164,1165,1166,1167,1168,1169,1170,1171,1172,1173,1174,1175,1176,1177,1178,1179,1180,1181,1182,1183,1184,1185,1186,1187,1188,1189,1190,1191,1192,1193,1194,1195,1196,1197,1198,1199,1200,1201,1202,1203,1204,1205,1206,1207,1208,1209,1210,1211,1212,1213,1214,1215,1216,1217,1218,1219,1220,1221,1222,1223,1224,1225,1226,1227,1228,1229,1230,1231,1232,1233,1234,1235,1236,1237,1238,1239,1240,1241,1242,1243,1244,1245,1246,1247,1248,1249,1250,1251,1252,1253,1254,1255,1256,1257,1258,1259,1260,1261,1262,1263,1264,1265,1266,1267,1268,1269,1270,1271,1272,1273,1274,1275,1276,1277,1278,1279,1280,1281,1282,1283,1284,1285,1286,1287,1288,1289,1290,1291,1292,1293,1294,1295,1296,1297,1298,1299,1300,1301,1302,1303,1304,1305,1306,1307,1308,1309,1310,1311,1312,1313,1314,1315,1316,1317,1318,1319,1320,1321,1322,1323,1324,1325,1326,1327,1328,1329,1330,1331,1332,1333,1334,1335,1336,1337,1338,1339,1340,1341,1342,1343,1344,1345,1346,1347,1348,1349,1350,1351,1352,1353,1354,1355,1356,1357,1358,1359,1360,1361,1362,1363,1364,1365,1366,1367,1368,1369,1370,1371,1372,1373,1374,1375,1376,1377,1378,1379,1380,1381,1382,1383,1384,1385,1386,1387,1388,1389,1390,1391,1392,1393,1394,1395,1396,1397,1398,1399,1400,1401,1402,1403,1404,1405,1406,1407,1408,1409,1410,1411,1412,1413,1414,1415,1416,1417,1418,1419,1420,1421,1422,1423,1424,1425,1426,1427,1428,1429,1430,1431,1432,1433,1434,1435,1436,1437,1438,1439,1440,1441,1442,1443,1444,1445,1446,1447,1448,1449,1450,1451,1452,1453,1454,1455,1456,1457,1458,1459,1460,1461,1462,1463,1464,1465,1466,1467,1468,1469,1470,1471,1472,1473,1474,1475,1476,1477,1478,1479,1480,1481,1482,1483,1484,1485,1486,1487,1488,1489,1490,1491,1492,1493,1494,1495,1496,1497,1498,1499,1500,1501,1502,1503,1504,1505,1506,1507,1508,1509,1510,1511,1512,1513,1514,1515,1516,1517,1518,1519,1520,1521,1522,1523,1524,1525,1526,1527,1528,1529,1530,1531,1532,1533,1534,1535,1536,1537,1538,1539,1540,1541,1542,1543,1544,1545,1546,1547,1548,1549,1550,1551,1552,1553,1554,1555,1556,1557,1558,1559,1560,1561,1562,1563,1564,1565,1566,1567,1568,1569,1570,1571,1572,1573,1574,1575,1576,1577,1578,1579,1580,1581,1582,1583,1584,1585,1586,1587,1588,1589,1590,1591,1592,1593,1594,1595,1596,1597,1598,1599,1600,1601,1602,1603,1604,1605,1606,1607,1608,1609,1610,1611,1612,1613,1614,1615,1616,1617,1618,1619,1620,1621,1622,1623,1624,1625,1626,1627,1628,1629,1630,1631,1632,1633,1634,1635,1636,1637,1638,1639,1640,1641,1642,1643,1644,1645,1646,1647,1648,1649,1650,1651,1652,1653,1654,1655,1656,1657,1658,1659,1660,1661,1662,1663,1664,1665,1666,1667,1668,1669,1670,1671,1672,1673,1674,1675,1676,1677,1678,1679,1680,1681,1682,1683,1684,1685,1686,1687,1688,1689,1690,1691,1692,1693,1694,1695,1696,1697,1698,1699,1700,1701,1702,1703,1704,1705,1706,1707,1708,1709,1710,1711,1712,1713,1714,1715,1716,1717,1718,1719,1720,1721,1722,1723,1724,1725,1726,1727,1728,1729,1730,1731,1732,1733,1734,1735,1736,1737,1738,1739,1740,1741,1742,1743,1744,1745,1746,1747,1748,1749,1750,1751,1752,1753,1754,1755,1756,1757,1758,1759,1760,1761,1762,1763,1764,1765,1766,1767,1768,1769,1770,1771,1772,1773,1774,1775,1776,1777,1778,1779,1780,1781,1782,1783,1784,1785,1786,1787,1788,1789,1790,1791,1792,1793,1794,1795,1796,1797,1798,1799,1800,1801,1802,1803,1804,1805,1806,1807,1808,1809,1810,1811,1812,1813,1814,1815,1816,1817,1818,1819,1820,1821,1822,1823,1824,1825,1826,1827,1828,1829,1830,1831,1832,1833,1834,1835,1836,1837,1838,1839,1840,1841,1842,1843,1844,1845,1846,1847,1848,1849,1850,1851,1852,1853,1854,1855,1856,1857,1858,1859,1860,1861,1862,1863,1864,1865,1866,1867,1868,1869,1870,1871,1872,1873,1874,1875,1876,1877,1878,1879,1880,1881,1882,1883,1884,1885,1886,1887,1888,1889,1890,1891,1892,1893,1894,1895,1896,1897,1898,1899,1900,1901,1902,1903,1904,1905,1906,1907,1908,1909,1910,1911,1912,1913,1914,1915,1916,1917,1918,1919,1920,1921,1922,1923,1924,1925,1926,1927,1928,1929,1930,1931,1932,1933,1934,1935,1936,1937,1938,1939,1940,1941,1942,1943,1944,1945,1946,1947,1948,1949,1950,1951,1952,1953,1954,1955,1956,1957,1958,1959,1960,1961,1962,1963,1964,1965,1966,1967,1968,1969,1970,1971,1972,1973,1974,1975,1976,1977,1978,1979,1980,1981,1982,1983,1984,1985,1986,1987,1988,1989,1990,1991,1992,1993,1994,1995,1996,1997,1998,1999,2000,2001,2002,2003,2004,2005,2006,2007,2008,2009,2010,2011,2012,2013,2014,2015,2016,2017,2018,2019,2020,2021,2022,2023,2024,2025,2026,2027,2028,2029,2030,2031,2032,2033,2034,2035,2036,2037,2038,2039,2040,2041,2042,2043,2044,2045,2046,2047,2048,2049,2050,2051,2052,2053,2054,2055,2056,2057,2058,2059,2060,2061,2062,2063,2064,2065,2066,2067,2068,2069,2070,2071,2072,2073,2074,2075,2076,2077,2078,2079,2080,2081,2082,2083,2084,2085,2086,2087,2088,2089,2090,2091,2092,2093,2094,2095,2096,2097,2098,2099,2100,2101,2102,2103,2104,2105,2106,2107,2108,2109,2110,2111,2112,2113,2114,2115,2116,2117,2118,2119,2120,2121,2122,2123,2124,2125,2126,2127,2128,2129,2130,2131,2132,2133,2134,2135,2136,2137,2138,2139,2140,2141,2142,2143,2144,2145,2146,2147,2148,2149,2150,2151,2152,2153,2154,2155,2156,2157,2158,2159,2160,2161,2162,2163,2164,2165,2166,2167,2168,2169,2170,2171,2172,2173,2174,2175,2176,2177,2178,2179,2180,2181,2182,2183,2184,2185,2186,2187,2188,2189,2190,2191,2192,2193,2194,2195,2196,2197,2198,2199,2200,2201,2202,2203,2204,2205,2206,2207,2208,2209,2210,2211,2212,2213,2214,2215,2216,2217,2218,2219,2220,2221,2222,2223,2224,2225,2226,2227,2228,2229,2230,2231,2232,2233,2234,2235,2236,2237,2238,2239,2240,2241,2242,2243,2244,2245,2246,2247,2248,2249,2250,2251,2252,2253,2254,2255,2256,2257,2258,2259,2260,2261,2262,2263,2264,2265,2266,2267,2268,2269,2270,2271,2272,2273,2274,2275,2276,2277,2278,2279,2280,2281,2282,2283,2284,2285,2286,2287,2288,2289,2290,2291,2292,2293,2294,2295,2296,2297,2298,2299,2300,2301,2302,2303,2304,2305,2306,2307,2308,2309,2310,2311,2312,2313,2314,2315,2316,2317,2318,2319,2320,2321,2322,2323,2324,2325,2326,2327,2328,2329,2330,2331,2332,2333,2334,2335,2336,2337,2338,2339,2340,2341,2342,2343,2344,2345,2346,2347,2348,2349,2350,2351,2352,2353,2354,2355,2356,2357,2358,2359,2360,2361,2362,2363,2364,2365,2366,2367,2368,2369,2370,2371,2372,2373,2374,2375,2376,2377,2378,2379,2380,2381,2382,2383,2384,2385,2386,2387,2388,2389,2390,2391,2392,2393,2394,2395,2396,2397,2398,2399,2400,2401,2402,2403,2404,2405,2406,2407,2408,2409,2410,2411,2412,2413,2414,2415,2416,2417,2418,2419,2420,2421,2422,2423,2424,2425,2426,2427,2428,2429,2430,2431,2432,2433,2434,2435,2436,2437,2438,2439,2440,2441,2442,2443,2444,2445,2446,2447,2448,2449,2450,2451,2452,2453,2454,2455,2456,2457,2458,2459,2460,2461,2462,2463,2464,2465,2466,2467,2468,2469,2470,2471,2472,2473,2474,2475,2476,2477,2478,2479,2480,2481,2482,2483,2484,2485,2486,2487,2488,2489,2490,2491,2492,2493,2494,2495,2496,2497,2498,2499,2500,2501,2502,2503,2504,2505,2506,2507,2508,2509,2510,2511,2512,2513,2514,2515,2516,2517,2518,2519,2520,2521,2522,2523,2524,2525,2526,2527,2528,2529,2530,2531,2532,2533,2534,2535,2536,2537,2538,2539,2540,2541,2542,2543,2544,2545,2546,2547,2548,2549,2550,2551,2552,2553,2554,2555,2556,2557,2558,2559,2560,2561,2562,2563,2564,2565,2566,2567,2568,2569,2570,2571,2572,2573,2574,2575,2576,2577,2578,2579,2580,2581,2582,2583,2584,2585,2586,2587,2588,2589,2590,2591,2592,2593,2594,2595,2596,2597,2598,2599,2600,2601,2602,2603,2604,2605,2606,2607,2608,2609,2610,2611,2612,2613,2614,2615,2616,2617,2618,2619,2620,2621,2622,2623,2624,2625,2626,2627,2628,2629,2630,2631,2632,2633,2634,2635,2636,2637,2638,2639,2640,2641,2642,2643,2644,2645,2646,2647,2648,2649,2650,2651,2652,2653,2654,2655,2656,2657,2658,2659,2660,2661,2662,2663,2664,2665,2666,2667,2668,2669,2670,2671,2672,2673,2674,2675,2676,2677,2678,2679,2680,2681,2682,2683,2684,2685,2686,2687,2688,2689,2690,2691,2692,2693,2694,2695,2696,2697,2698,2699,2700,2701,2702,2703,2704,2705,2706,2707,2708,2709,2710,2711,2712,2713,2714,2715,2716,2717,2718,2719,2720,2721,2722,2723,2724,2725,2726,2727,2728,2729,2730,2731,2732,2733,2734,2735,2736,2737,2738,2739,2740,2741,2742,2743,2744,2745,2746,2747,2748,2749,2750,2751,2752,2753,2754,2755,2756,2757,2758,2759,2760,2761,2762,2763,2764,2765,2766,2767,2768,2769,2770,2771,2772,2773,2774,2775,2776,2777,2778,2779,2780,2781,2782,2783,2784,2785,2786,2787,2788,2789,2790,2791,2792,2793,2794,2795,2796,2797,2798,2799,2800,2801,2802,2803,2804,2805,2806,2807,2808,2809,2810,2811,2812,2813,2814,2815,2816,2817,2818,2819,2820,2821,2822,2823,2824,2825,2826,2827,2828,2829,2830,2831,2832,2833,2834,2835,2836,2837,2838,2839,2840,2841,2842,2843,2844,2845,2846,2847,2848,2849,2850,2851,2852,2853,2854,2855,2856,2857,2858,2859,2860,2861,2862,2863,2864,2865,2866,2867,2868,2869,2870,2871,2872,2873,2874,2875,2876,2877,2878,2879,2880,2881,2882,2883,2884,2885,2886,2887,2888,2889,2890,2891,2892,2893,2894,2895,2896,2897,2898,2899,2900,2901,2902,2903,2904,2905,2906,2907,2908,2909,2910,2911,2912,2913,2914,2915,2916,2917,2918,2919,2920,2921,2922,2923,2924,2925,2926,2927,2928,2929,2930,2931,2932,2933,2934,2935,2936,2937,2938,2939,2940,2941,2942,2943,2944,2945,2946,2947,2948,2949,2950,2951,2952,2953,2954,2955,2956,2957,2958,2959,2960,2961,2962,2963,2964,2965,2966,2967,2968,2969,2970,2971,2972,2973,2974,2975,2976,2977,2978,2979,2980,2981,2982,2983,2984,2985,2986,2987,2988,2989,2990,2991,2992,2993,2994,2995,2996,2997,2998,2999,3000,3001,3002,3003,3004,3005,3006,3007,3008,3009,3010,3011,3012,3013,3014,3015,3016,3017,3018,3019,3020,3021,3022,3023,3024,3025,3026,3027,3028,3029,3030,3031,3032,3033,3034,3035,3036,3037,3038,3039,3040,3041,3042,3043,3044,3045,3046,3047,3048,3049,3050,3051,3052,3053,3054,3055,3056,3057,3058,3059,3060,3061,3062,3063,3064,3065,3066,3067,3068,3069,3070,3071,3072,3073,3074,3075,3076,3077,3078,3079,3080,3081,3082,3083,3084,3085,3086,3087,3088,3089,3090,3091,3092,3093,3094,3095,3096,3097,3098,3099,3100,3101,3102,3103,3104,3105,3106,3107,3108,3109,3110,3111,3112,3113,3114,3115,3116,3117,3118,3119,3120,3121,3122,3123,3124,3125,3126,3127,3128,3129,3130,3131,3132,3133,3134,3135,3136,3137,3138,3139,3140,3141,3142,3143,3144,3145,3146,3147,3148,3149,3150,3151,3152,3153,3154,3155,3156,3157,3158,3159,3160,3161,3162,3163,3164,3165,3166,3167,3168,3169,3170,3171,3172,3173,3174,3175,3176,3177,3178,3179,3180,3181,3182,3183,3184,3185,3186,3187,3188,3189,3190,3191,3192,3193,3194,3195,3196,3197,3198,3199,3200,3201,3202,3203,3204,3205,3206,3207,3208,3209,3210,3211,3212,3213,3214,3215,3216,3217,3218,3219,3220,3221,3222,3223,3224,3225,3226,3227,3228,3229,3230,3231,3232,3233,3234,3235,3236,3237,3238,3239,3240,3241,3242,3243,3244,3245,3246,3247,3248,3249,3250,3251,3252,3253,3254,3255,3256,3257,3258,3259,3260,3261,3262,3263,3264,3265,3266,3267,3268,3269,3270,3271,3272,3273,3274,3275,3276,3277,3278,3279,3280,3281,3282,3283,3284,3285,3286,3287,3288,3289,3290,3291,3292,3293,3294,3295,3296,3297,3298,3299,3300,3301,3302,3303,3304,3305,3306,3307,3308,3309,3310,3311,3312,3313,3314,3315,3316,3317,3318,3319,3320,3321,3322,3323,3324,3325,3326,3327,3328,3329,3330,3331,3332,3333,3334,3335,3336,3337,3338,3339,3340,3341,3342,3343,3344,3345,3346,3347,3348,3349,3350,3351,3352,3353,3354,3355,3356,3357,3358,3359,3360,3361,3362,3363,3364,3365,3366,3367,3368,3369,3370,3371,3372,3373,3374,3375,3376,3377,3378,3379,3380,3381,3382,3383,3384,3385,3386,3387,3388,3389,3390,3391,3392,3393,3394,3395,3396,3397,3398,3399,3400,3401,3402,3403,3404,3405,3406,3407,3408,3409,3410,3411,3412,3413,3414,3415,3416,3417,3418,3419,3420,3421,3422,3423,3424,3425,3426,3427,3428,3429,3430,3431,3432,3433,3434,3435,3436,3437,3438,3439,3440,3441,3442,3443,3444,3445,3446,3447,3448,3449,3450,3451,3452,3453,3454,3455,3456,3457,3458,3459,3460,3461,3462,3463,3464,3465,3466,3467,3468,3469,3470,3471,3472,3473,3474,3475,3476,3477,3478,3479,3480,3481,3482,3483,3484,3485,3486,3487,3488,3489,3490,3491,3492,3493,3494,3495,3496,3497,3498,3499,3500,3501,3502,3503,3504,3505,3506,3507,3508,3509,3510,3511,3512,3513,3514,3515,3516,3517,3518,3519,3520,3521,3522,3523,3524,3525,3526,3527,3528,3529,3530,3531,3532,3533,3534,3535,3536,3537,3538,3539,3540,3541,3542,3543,3544,3545,3546,3547,3548,3549,3550,3551,3552,3553,3554,3555,3556,3557,3558,3559,3560,3561,3562,3563,3564,3565,3566,3567,3568,3569,3570,3571,3572,3573,3574,3575,3576,3577,3578,3579,3580,3581,3582,3583,3584,3585,3586,3587,3588,3589,3590,3591,3592,3593,3594,3595,3596,3597,3598,3599,3600,3601,3602,3603,3604,3605,3606,3607,3608,3609,3610,3611,3612,3613,3614,3615,3616,3617,3618,3619,3620,3621,3622,3623,3624,3625,3626,3627,3628,3629,3630,3631,3632,3633,3634,3635,3636,3637,3638,3639,3640,3641,3642,3643,3644,3645,3646,3647,3648,3649,3650,3651,3652,3653,3654,3655,3656,3657,3658,3659,3660,3661,3662,3663,3664,3665,3666,3667,3668,3669,3670,3671,3672,3673,3674,3675,3676,3677,3678,3679,3680,3681,3682,3683,3684,3685,3686,3687,3688,3689,3690,3691,3692,3693,3694,3695,3696,3697,3698,3699,3700,3701,3702,3703,3704,3705,3706,3707,3708,3709,3710,3711,3712,3713,3714,3715,3716,3717,3718,3719,3720,3721,3722,3723,3724,3725,3726,3727,3728,3729,3730,3731,3732,3733,3734,3735,3736,3737,3738,3739,3740,3741,3742,3743,3744,3745,3746,3747,3748,3749,3750,3751,3752,3753,3754,3755,3756,3757,3758,3759,3760,3761,3762,3763,3764,3765,3766,3767,3768,3769,3770,3771,3772,3773,3774,3775,3776,3777,3778,3779,3780,3781,3782,3783,3784,3785,3786,3787,3788,3789,3790,3791,3792,3793,3794,3795,3796,3797,3798,3799,3800,3801,3802,3803,3804,3805,3806,3807,3808,3809,3810,3811,3812,3813,3814,3815,3816,3817,3818,3819,3820,3821,3822,3823,3824,3825,3826,3827,3828,3829,3830,3831,3832,3833,3834,3835,3836,3837,3838,3839,3840,3841,3842,3843,3844,3845,3846,3847,3848,3849,3850,3851,3852,3853,3854,3855,3856,3857,3858,3859,3860,3861,3862,3863,3864,3865,3866,3867,3868,3869,3870,3871,3872,3873,3874,3875,3876,3877,3878,3879,3880,3881,3882,3883,3884,3885,3886,3887,3888,3889,3890,3891,3892,3893,3894,3895,3896,3897,3898,3899,3900,3901,3902,3903,3904,3905,3906,3907,3908,3909,3910,3911,3912,3913,3914,3915,3916,3917,3918,3919,3920,3921,3922,3923,3924,3925,3926,3927,3928,3929,3930,3931,3932,3933,3934,3935,3936,3937,3938,3939,3940,3941,3942,3943,3944,3945,3946,3947,3948,3949,3950,3951,3952,3953,3954,3955,3956,3957,3958,3959,3960,3961,3962,3963,3964,3965,3966,3967,3968,3969,3970,3971,3972,3973,3974,3975,3976,3977,3978,3979,3980,3981,3982,3983,3984,3985,3986,3987,3988,3989,3990,3991,3992,3993,3994,3995,3996,3997,3998,3999],\"xaxis\":\"x\",\"y\":[4.6166477311970295,4.600436517971432,4.583937154259076,4.569726125685738,4.549113824648471,4.527078911165552,4.501264786104111,4.473386793282175,4.432823892284239,4.388727582598427,4.337671738058762,4.2810332529730655,4.256050114774534,4.265123138264959,4.298359637895927,4.290433745932094,4.25525523358912,4.22490682360853,4.212208233895081,4.222890324272707,4.229653809643802,4.230124841196263,4.229309765757607,4.239297767789544,4.212531436251368,4.199051500004161,4.179603566446806,4.182410204858546,4.1799623825457335,4.182072880764586,4.189357021205973,4.181081361208411,4.167472485419128,4.162921479512968,4.154986970682495,4.149487274809794,4.147697663930267,4.1436358023621755,4.126204201262496,4.1277958356631945,4.118920572267346,4.114537268599019,4.105211473986663,4.103399044341537,4.096799374714971,4.085941601103427,4.076877136688474,4.06587913614263,4.060929238007674,4.052760949732479,4.051191017510891,4.041270951949709,4.0185888961218765,4.015399556414676,4.006540561007591,3.998784767857286,3.9925835566710504,3.977069583843491,3.9684905891227955,3.9617015397096775,3.9401617995426537,3.937257284945705,3.9255658028905613,3.925883263068545,3.90983178753251,3.9002069590454203,3.8782039021629733,3.8797819136935123,3.852531564476728,3.8432843230511695,3.8162354656914763,3.796487061907231,3.7922824880432335,3.776953084871844,3.748590941094246,3.7297982544038675,3.7186748790794604,3.688092251143789,3.643552715963878,3.6380909091133082,3.6085249885018804,3.5635902045544974,3.5563474101790367,3.5432556235572807,3.4972481807625933,3.481118652337168,3.443316338326912,3.4122566017554927,3.3770146267691543,3.3534903840722414,3.3335879896549954,3.313879123005614,3.2866754601457746,3.2497048034455416,3.2125319415215605,3.1657654803743513,3.2015708977946358,3.1749704246742225,3.128414484082188,3.1134905398432156,3.0654673052579215,3.064671216756207,3.020079395193487,3.000978369820431,2.997593486369282,2.9622832575853715,2.912781848476531,2.8777748570297907,2.8777861487880014,2.844201411108376,2.833268607140924,2.819062129770576,2.8066063471802534,2.763372653317631,2.7522667172009108,2.723772961482322,2.726375532408786,2.700219322846553,2.61650197507506,2.6438620608543144,2.61851979045843,2.59920204885804,2.5828222640870018,2.5963959409716186,2.5487375607198755,2.5470663771363005,2.528670152771495,2.4746427997669764,2.4955853664257694,2.4752520096785986,2.4348338794036573,2.456903865058822,2.4399931981457668,2.4097075389420137,2.3860316132068324,2.43205753696081,2.3689053704590197,2.3391232204278682,2.3535484427154554,2.271547509358496,2.319378886887693,2.297046679797808,2.307397443278902,2.2596514458638723,2.2416905146168684,2.1765186426253367,2.2333794204573714,2.189349964633759,2.1497452184119257,2.150694981364545,2.1412057288702355,2.072597105714625,2.0916934495808785,2.0786113118496763,2.0864121917715877,2.06955404550487,2.04492644321793,2.0057432155128225,2.0168209539668323,1.9811090659693051,1.9593180036433915,1.9225172242193613,1.8744729712832129,1.8870130769334217,1.8994298620120353,1.8562907202273737,1.8110970242988425,1.7750047028156195,1.764395886734881,1.7297226627144786,1.694946675070581,1.7229702110000873,1.673651594128,1.6434701074317808,1.6130365263303414,1.5910740734953617,1.591828644729287,1.5525997736216957,1.5334038751973915,1.5297092808898956,1.4714234659852292,1.4700788142804948,1.4392299857883286,1.3766234659350676,1.338339838927699,1.3506324052920247,1.3577678288803119,1.2837076457429266,1.2220850372634677,1.2262484900384214,1.2640854081541575,1.217759255787852,1.1871580020906045,1.1741037815464324,1.1140570699762924,1.0862229057289632,1.1266783170408494,1.0963165684365888,1.04784991933747,1.0273896555305115,0.9623682648720253,1.0804962026357376,1.0371959038431675,0.9101964822995879,0.9671546793380437,0.8973482097779055,0.9583366142676281,0.8901357952534368,0.8786571789262768,0.8857323869207655,0.8836942830067435,0.8195677381071255,0.8438864862038138,0.8499368477015534,0.8360108030714021,0.8607495733703276,0.8145369515742127,0.7210960267575331,0.7628862809941109,0.754351090877517,0.6918411573578495,0.7411878006111424,0.7102902506315506,0.7230360970508113,0.7054228403252792,0.6949184064627741,0.671521223037722,0.7329378210200957,0.6688730001842207,0.61498930631842,0.657029902215828,0.6565762698281887,0.5971293108290062,0.5655727165719133,0.5883002325794111,0.6068164566419328,0.618801546507696,0.5151307995371038,0.5364865518736863,0.5339923266274332,0.5292933181435207,0.5635563203952878,0.5139503845148172,0.5116135198086506,0.5225172821185204,0.44776787419933495,0.4722183307766044,0.47498810927307544,0.5006724473403097,0.44099053971170354,0.45966585035217455,0.4973606844588221,0.5293838506893699,0.5509526648437872,0.48787798660774867,0.5098356255941695,0.4346108594125019,0.4598645657460404,0.44151049361566175,0.4374773935537824,0.4137087923006734,0.477858260568174,0.4692103949418657,0.4536795491887281,0.4170984567022054,0.39336269302543664,0.46356527107999707,0.43395656643026076,0.41288540363354786,0.4169073556638249,0.430858111685847,0.399192429656189,0.4014149126471001,0.41255203724611395,0.4639845451730606,0.4181743965586703,0.41647257777777624,0.353297209606214,0.41345637583544886,0.4157415495880355,0.3630532587879777,0.40480324574952675,0.3658472448466039,0.3265199862942342,0.3785383677811828,0.41279575577246214,0.31799238232197946,0.33877204946557715,0.34391202773161433,0.334605298705252,0.3757832311286575,0.3500436627145361,0.3896262467138968,0.32451983369775017,0.34420266470662686,0.32061068057261227,0.3608928496520742,0.3236551042319828,0.4046745544653043,0.3439814509444786,0.3946878525033992,0.316427349407269,0.3198400044553178,0.3684782257541367,0.33565509708142066,0.32938007808986863,0.3129788173826846,0.3133576679245284,0.3816318042168365,0.3178993814391091,0.3408903689496898,0.3287345325989798,0.3279299232296578,0.28822212469188424,0.34222149305808175,0.30247350056793854,0.2793475590084332,0.33158689271491293,0.30986510356562386,0.2864165742074775,0.31227217359033743,0.29374266042766756,0.2725296147817409,0.3049591543140544,0.31808676871068414,0.28941055753703804,0.24970532221187547,0.33777914835675965,0.27374621179078634,0.23760219807411806,0.27312366984261033,0.2936466973114944,0.26822826424780316,0.26497336283857437,0.24682426408087113,0.24992597221386534,0.2756615788716774,0.25871081779762123,0.2849598094835986,0.2883858279460102,0.26163881033103487,0.24934498367663305,0.2930177629674433,0.23216041635232817,0.3050252143709972,0.2160522218497336,0.25961700887302364,0.250447639544943,0.2700551597139442,0.2750579269098408,0.2779695032527588,0.26133960688857755,0.23475014069652397,0.2717247749026123,0.27994703066460913,0.2515808215737294,0.26719673585097464,0.25077403438841617,0.2661867298446236,0.2636964510929832,0.1936646502500151,0.22356124594371282,0.23503595918985032,0.2550797998159536,0.26792889245165213,0.24309436247599714,0.24749492674276868,0.21944717161287275,0.27421823727750033,0.22549212692932016,0.2261476529065558,0.2606334617508275,0.2428651988335882,0.23724067558179443,0.205521169299718,0.25575781636159384,0.1732640669567485,0.20399586669698014,0.22016795062659172,0.20347760426221323,0.2153134043838251,0.23730748556894518,0.2585119362668256,0.20476964524093832,0.20155491233323986,0.22012542623978185,0.18939731544797517,0.25135980886833786,0.2719532702483618,0.21113358572344237,0.21420789656506203,0.23085577749223946,0.24634936865710225,0.2637551833818653,0.20886683889111243,0.23176963681884113,0.18177739998112613,0.18765516326816692,0.19038623553078798,0.21632718302006818,0.20254613303911678,0.2515652312007973,0.1864155822456389,0.24474623852665534,0.22202359931915164,0.2521037621466099,0.22779292614272437,0.1897090489552119,0.2630020021720033,0.20095746416556848,0.1755724504455878,0.21951796531399914,0.24640788345330789,0.19322037518146393,0.20168326240014142,0.22035904923519947,0.21132118940576028,0.155208959884008,0.22397363864623177,0.22867432201614535,0.16983374913172503,0.16578646568925257,0.18244833673093863,0.17571595548457786,0.19026804127649266,0.19134402514812401,0.25348128485302346,0.19518437912074324,0.19399258142853418,0.16057707988333408,0.18352727856377796,0.20323850773856947,0.2075451199494095,0.2066923218838022,0.19152795981950618,0.17499356518648077,0.2042083725790003,0.18488535802053233,0.14844014759049554,0.1946437465644677,0.19425081522895646,0.22365321795281154,0.1825446417154877,0.18630215488776844,0.17858951985068397,0.18832973278164322,0.16125583653290965,0.12144412884889275,0.18032487283459034,0.16194554714336748,0.2091433531459841,0.20552325515154754,0.22306223951769732,0.21054597305794226,0.17808102928017253,0.15035678032927074,0.17943627880356908,0.14412616556028393,0.19522979924403758,0.21965440178670517,0.13084974993184284,0.1947392725407322,0.156357917148929,0.12659087491259394,0.16693917087682061,0.1970913794678347,0.1681405194337289,0.12564506420723504,0.15873737502261095,0.1457054027012722,0.17215219872396323,0.1584460054217958,0.19464766391381347,0.17992128468305701,0.1356782201764125,0.14593681830020866,0.1867106978705757,0.13940060693319456,0.17585147516031557,0.13537425867434358,0.18923985604298485,0.1727291972243992,0.16403602708256684,0.17918498481145598,0.19989290046751493,0.142772718129438,0.1788131759064054,0.13937470103882468,0.13418258051732823,0.18972970104873063,0.16116320425193384,0.16855310325630185,0.166918959532061,0.18182070283945995,0.1769978491603055,0.17318631335087628,0.1415636261577458,0.15541499373907303,0.1395042980872138,0.15720711747409494,0.11913519904140554,0.16418943505104885,0.14132683820236547,0.13999137116582178,0.14997585996614024,0.17241215172389396,0.13544109141796096,0.176999541722477,0.16565429608665244,0.13370727069591506,0.14812923882969864,0.1626988600007463,0.15682005792337705,0.12968454798531556,0.14319441529305157,0.21604158012983277,0.18531072741034874,0.14895378432836295,0.13521249861161236,0.15176500151233008,0.17532805671231008,0.15063526568040358,0.16480301528630978,0.15264340716651414,0.12592596303319814,0.13426901742004202,0.1338578608855046,0.15154061459651816,0.12040398525242757,0.11080807435407367,0.11963209465900584,0.13058983282017284,0.15139399443016938,0.14616341195112115,0.11342694258791954,0.12027653819321206,0.14126760716425366,0.13610351745875032,0.13556024876526535,0.16593993299798718,0.12296464656378747,0.11726469143153724,0.12616860670979213,0.1192025921549395,0.12117444960421843,0.13992443194417295,0.16559095603151472,0.15571197578329002,0.12020014016789224,0.13973498843494175,0.13255346219031333,0.14323107140718713,0.11517972822704298,0.14291466689286292,0.15437884438219143,0.15502253292377066,0.20463996281975752,0.12647743869761605,0.1374062432553181,0.14638124195604177,0.1918978432815169,0.10890057778486088,0.15734902989742852,0.12880195338724537,0.12545938448233002,0.11783671684690322,0.13873764679293604,0.16545418807029483,0.10650074364233071,0.12816250040969349,0.14187373681977936,0.12019713759518892,0.10494603307736439,0.14143260452794512,0.13428220252925768,0.14308307864749528,0.15305758660777424,0.14566593376492537,0.08282986440898911,0.11541081207601182,0.12561723748944106,0.11112165804072105,0.14829858083536704,0.15765139883293888,0.0926533179436512,0.11237968213383458,0.11785283937596316,0.1403029162952227,0.1152253327781088,0.11122322758034318,0.08664540856999607,0.11561241983787145,0.11861501644837681,0.13150082345278452,0.18654506130061704,0.1170324434904242,0.1259079761690603,0.12153790045124695,0.1384579947409516,0.12539471557520573,0.15985523881533248,0.125445403009539,0.16544628216261592,0.1434995640104354,0.0931652225334653,0.10529883491572167,0.09042086645546464,0.10074723520056324,0.13887410186246507,0.12982088094404193,0.08585706326728945,0.11571504731845395,0.10491063140283484,0.15799712007989108,0.10955211819807019,0.13247562729872578,0.13835548981400927,0.145431184456594,0.1018223531127413,0.10480845253000697,0.1390362565812431,0.1571691121483328,0.10834486054568646,0.11076020142175276,0.1442977350529731,0.13647340551072723,0.09039448251228112,0.11103940309156868,0.09992773031324871,0.11075692515576208,0.09840015724205464,0.13562267491861005,0.15251363027293963,0.10166562253625977,0.13879809115852024,0.13037541394706892,0.1521950140364594,0.09917336007707807,0.12134525487711369,0.11321085997135324,0.12250591264152019,0.1342219308866932,0.08714997035923945,0.11690215893767858,0.11212209694210015,0.1171823768661167,0.12001120641627115,0.10848753300334354,0.08175298424697658,0.156683910770671,0.1435061715912311,0.11495500205282494,0.1295799113041811,0.15779595001945865,0.09999131242273472,0.10386824167067644,0.09902157802306148,0.12201908542409547,0.07724857784760597,0.1436543402279758,0.09712529199736764,0.09359734376594091,0.12478610786594958,0.10220853529614035,0.11286089013914255,0.1397712203662612,0.09227504987791248,0.11311385715760636,0.10459690675616387,0.10263312687644296,0.09349099477942757,0.09953665664420616,0.12039498983561724,0.10615254999544813,0.09294948779522784,0.08545554340422319,0.15424064729824138,0.1306611326738276,0.10410868597864088,0.09962466348192396,0.0897290260728394,0.1197524661137455,0.09361172976532142,0.121339402115965,0.1361466138983031,0.09824312752625489,0.12588049267490295,0.13858534610346726,0.07847902463406112,0.17159418994828804,0.07862069364931647,0.11230338843285559,0.09271089050976133,0.09116265306245662,0.10599485537502623,0.09803965561459971,0.10172144037195438,0.12495709457890701,0.11800794247165727,0.10129262104187416,0.06659562566443619,0.07760083684347686,0.097925313880899,0.09237261086924291,0.09944528205565607,0.12368826213467495,0.10383901870354342,0.10271730921630468,0.09826772047198751,0.08099838344512737,0.11965995105234506,0.09961133593518345,0.13529519863507214,0.10364269396014832,0.09510447574559625,0.11187206027524293,0.09871705374958971,0.09220571359495501,0.07596908704652452,0.08123099182791153,0.12075886279742187,0.13419542159178297,0.09006302740395053,0.08434061647419679,0.09522431774261997,0.06614735939854295,0.10343221029633154,0.08338042862819003,0.0892248741839212,0.09740217777324577,0.09089928727287488,0.15143914990689386,0.09754687418548708,0.11050994554774259,0.11413643803193599,0.10674605333215881,0.12166952263486575,0.11786161022475383,0.09181908720085606,0.08475073265951868,0.11175294957994183,0.12598803323325,0.11433783668717702,0.08206934672449562,0.08694217794993823,0.12771595695015034,0.09316157435835837,0.08703276794820206,0.09490406087485224,0.10878718108804637,0.07856724242666736,0.11607166226926792,0.08843607039893316,0.061570449468237934,0.11064440766847496,0.10872368157355315,0.10228060577970882,0.09889520228640453,0.11717556582239431,0.08489479502904772,0.08623931716162253,0.09664507519615663,0.09595470247240387,0.10354868544114063,0.08143520730421845,0.10583613508732943,0.08914877594643102,0.07940789981191156,0.08738452156454893,0.14624181220397345,0.1081285147074792,0.10153269858476222,0.08075109822545033,0.12032176585072991,0.09258398713275802,0.11579496091109573,0.12555023619059186,0.0865910180766787,0.09357758248127102,0.09952460532472673,0.09136478659619066,0.08704354077601975,0.0682493509956837,0.09091459366511762,0.10474107383010846,0.06732986907676092,0.08530200047169684,0.09768112998998413,0.09077031537710388,0.05509280956695617,0.11600249974280473,0.07276513158012896,0.11988802969813998,0.0798117451070878,0.07706685962183983,0.09001395805304037,0.10328699461878832,0.10071541813246243,0.082425058039754,0.09766554082811399,0.0813063363061346,0.12010340157789089,0.08888843083420019,0.07924910028318485,0.07448271769045346,0.09087758342556136,0.11484535495425985,0.08363178169516537,0.09797931742387045,0.10122127011420667,0.1148562749505131,0.09481129907845638,0.09431895490574231,0.10025340013699499,0.10163466133719633,0.09643629218829573,0.10880208786569491,0.10460722077743487,0.1122820143529768,0.08784423117675633,0.08195925865076899,0.08804464567329684,0.09370109387757754,0.10325333503228919,0.07743573552830584,0.07331820461974756,0.11090252851162967,0.06502627833747641,0.10178729484267927,0.07869164673161523,0.095319537157968,0.08674363562421453,0.09136900239812558,0.07014730964436412,0.10427968087349133,0.06969726286093016,0.09559178544857898,0.08645160076912346,0.12043142370581789,0.07436776104993761,0.07870959239043884,0.07362871099776992,0.0943843377854662,0.09056870779193023,0.08145451257954844,0.07352942906192253,0.08949154824091358,0.07367080354439062,0.07280291117266066,0.10187120366862545,0.0652925915892715,0.08404737771222694,0.058728986671307964,0.07962436655905027,0.10174990061496675,0.09398976099369079,0.07686876600221781,0.06069000076489657,0.09182462515556104,0.08767131910557827,0.08876796407053907,0.08295884381668532,0.09025558868357025,0.08852120005807274,0.06186841480163362,0.08137851755321429,0.08033919947795873,0.09019121895265021,0.0835445311723242,0.1024738934200632,0.09737829069309759,0.09088615365814337,0.10387530952791124,0.10919995420909381,0.05312134761994344,0.10352530385595998,0.07795534949248346,0.08585818426121365,0.07088842149556053,0.09148670489648758,0.07084749567001479,0.0782104018413925,0.07568772157308384,0.07950415108964932,0.08998645765047053,0.06377929515377967,0.06683221468999102,0.09430670719313894,0.08816335043074128,0.08009804762640917,0.08994313140472099,0.11782984420904775,0.1146720722075046,0.08133108229915188,0.0627221139058316,0.10426163133688937,0.07722131401604582,0.08303677156649433,0.08821134546336136,0.044399038805965095,0.054960504735594606,0.07829663003029512,0.0670646109364611,0.05909384375586373,0.0810396955618825,0.1029254393160715,0.06561514886954462,0.061320957173358094,0.06228513017052654,0.05713281209915,0.07272739910925237,0.09221159970680325,0.08001097611791902,0.08008060311031195,0.08446629028784432,0.0662684910961263,0.1076594817859642,0.08518661668120434,0.07292773529142903,0.056160453232002694,0.053665516162584644,0.07245340912543045,0.08119431421776983,0.11108777750631503,0.06377174337033602,0.09250309957269809,0.08671064275573188,0.06290366739297783,0.07166208547979937,0.09127060631869002,0.05999322742911451,0.09607756158097484,0.10504709275410437,0.041068540472091124,0.04782525718945491,0.07054810133658104,0.07515349598987679,0.09027902270689307,0.08069704085390246,0.09335104023801122,0.05012803973573404,0.05545559683436123,0.05568117140602572,0.08164144309924505,0.06782593137090055,0.08989841812108003,0.10092355827028855,0.07753324509659876,0.06229801537226916,0.10217614866858285,0.080424062306114,0.08047417355207608,0.06326131884312342,0.07428168178897894,0.10044335191940781,0.06777877986975324,0.0993786099331376,0.07569635735619563,0.06260249716243245,0.06975589792146152,0.08412681008358532,0.10928867965064187,0.06165325465396854,0.09942677508309822,0.0759160015612106,0.08154099889016943,0.04897381245809345,0.08010135633831732,0.062240634580041546,0.08066473019173996,0.0873767725781029,0.05921208177721714,0.06773646693620648,0.08817767592689495,0.09108205258263359,0.09055398709848539,0.06967810116998617,0.062319815186305305,0.08693324406512981,0.06802818485389345,0.0782253604729691,0.07215528428027938,0.06378079050909122,0.09948056858148176,0.08266368740482642,0.0792914312339969,0.05484346076930983,0.06626870522320874,0.0691209769258107,0.062260361475663675,0.06342183658549161,0.08318286807346217,0.08048481582254603,0.06910305149934239,0.058674191625804645,0.07329459639562465,0.08157838766252314,0.07693988893245093,0.08483176231184576,0.05925327344556883,0.06978972718381639,0.053835906990631996,0.07986350556221827,0.054785267157490825,0.06697745086084105,0.0704318345838506,0.0751675897644201,0.08150932910521173,0.0637632195119559,0.07167399180847304,0.05872484987049124,0.06557906691109662,0.08234723766525633,0.060307283293771115,0.05794879978773606,0.061566709868793756,0.0714948855818678,0.0732291762402503,0.09140077811831292,0.07666784721036192,0.06094500869381959,0.07763047248234455,0.05725452354205967,0.0856368430466348,0.06538792739374963,0.0752979532649642,0.07070216606338478,0.0621592433753714,0.07861191923386222,0.06869532505619036,0.10237924711205337,0.07781750675363842,0.060341203848001734,0.08573567619274393,0.05631166747282007,0.08088192956310787,0.06919370646402331,0.09864167535909209,0.0744792567083639,0.08114846272950843,0.08235461962170501,0.07603072567683626,0.05500930945127284,0.07210128006581207,0.05894920504046107,0.07696591682232336,0.0732565886564025,0.0650430564561194,0.0689088994645618,0.08550324438926517,0.07304743451838219,0.09856991992688015,0.06601147753113598,0.0918496663429782,0.08853628821122145,0.05281331598435913,0.07323681380627257,0.06339223070548052,0.06367713769060741,0.06875097361064068,0.09917883389744579,0.06774427559776049,0.08876196533735209,0.056469401029330804,0.0640828331794195,0.05768434487713115,0.07280495908274415,0.06606423707304986,0.06132580473892586,0.03812152210760423,0.06877447938379824,0.08703509767613953,0.10403522984367077,0.08641911225062492,0.05420842380005783,0.08805720937259397,0.07829614740603286,0.08038252901808128,0.06568243366257608,0.07198717873635584,0.09129871333144042,0.06719456740661663,0.06801392125181716,0.05760182816916615,0.051561227351237034,0.053333418907289286,0.09369474606840882,0.051213498140243084,0.10321844681507009,0.047772605549355335,0.060424474214605096,0.06481680969134392,0.05812662816011253,0.06213856067655962,0.04865775286037227,0.06269078513351152,0.0755463315121324,0.0763767331315247,0.06237418518125696,0.05931247128455158,0.049871853804287256,0.06768815334370706,0.04937021207700677,0.07207810602174614,0.06476349685422535,0.07462612549265484,0.052953218912830606,0.07639896830965097,0.041063184063326326,0.06987354089236647,0.07222117809243213,0.05359216164447616,0.06857817052119944,0.06675166817922668,0.04894584486763911,0.0772189048614574,0.0649138967293994,0.07209026079227274,0.06628450966170567,0.06716529437263373,0.06669541479260944,0.054055511209786244,0.05032760610329486,0.08736314178670383,0.05467982998571133,0.07492331325716026,0.08552191017195655,0.06243786568013683,0.0433230843887414,0.07087481100842619,0.041175839327447845,0.07523792409146736,0.05201492249967988,0.0741143023917863,0.06709670608781174,0.08004272472197325,0.06352053065074513,0.05966173011055674,0.05390040416910853,0.05287540904382375,0.07637223546080242,0.08530288585045377,0.07601004607546194,0.06753364366825346,0.0964424115945101,0.08555685243321005,0.054015346662404026,0.06790220793531336,0.06953624521364159,0.06924419883245798,0.08291745222597112,0.07558496894533745,0.06481416816837289,0.08093260329520256,0.06848075373417094,0.09663251015491016,0.06269170285669458,0.05690956991387426,0.07008721170175689,0.06123082161335376,0.0551135966107069,0.05019637581977771,0.07156493952563904,0.05880139059935157,0.07231627549280392,0.06558860506282209,0.06880632337423337,0.0639257304393813,0.046934915553472414,0.08597266983563422,0.06068736352484583,0.038756833245749814,0.09718178756537421,0.06556551732119612,0.044770641412374274,0.08278004548358245,0.0714345303606566,0.06983588470092728,0.05038702407597938,0.0702467614517253,0.052861393040711684,0.07181467118180224,0.0666239427678863,0.08543431434728337,0.06586527633569486,0.05564408074035464,0.06193179216175079,0.09841463245494322,0.039712831228700764,0.05286323472977086,0.07631765325780525,0.08105567344051358,0.05766181477872921,0.0730081232902394,0.05391465548241032,0.04417575396134241,0.1018107570039121,0.08675529706802115,0.04860346404487169,0.05582419170106351,0.06343577050662133,0.05675649656538675,0.0616241900444444,0.07487760520824324,0.08713945137545877,0.07161735734186127,0.07412052510416019,0.06034383780550059,0.07279962811791768,0.057013322720409126,0.07299635536880968,0.07400269941547656,0.04458335773098719,0.08355891456934354,0.080620325388699,0.08207067372164727,0.0716256218960948,0.08099329013164817,0.07161725181215343,0.04396573094661979,0.06273856323318523,0.060378333730422076,0.06952433431508089,0.06692095186867449,0.09722707960278128,0.07152864367134605,0.06958386205973749,0.05014213425166402,0.07258144359974378,0.0664220485779389,0.08276153830539994,0.07184614924163625,0.061968750171990966,0.05981561157076096,0.05742716768605323,0.061847219321559566,0.059718655534104846,0.056761402953281616,0.0663453515906311,0.05313408898872074,0.06323059186147506,0.07366524966737333,0.05250004219066152,0.08882254904127233,0.0711502275634869,0.06929296419857768,0.077104238265898,0.054857406476755244,0.08259229572608917,0.06730388671591872,0.03261275333138382,0.0548423381091295,0.07049997796674462,0.0686201692583822,0.09259433569259339,0.06684535056307962,0.06759376314792093,0.07279656370458423,0.0706048108443853,0.06985769196043336,0.07258465599373772,0.05586964732095858,0.060395498888171785,0.07039081942924054,0.06881504297705408,0.0599026346053755,0.05895997879758413,0.07042840733769234,0.06304895394135697,0.059499611238421374,0.06385262760062488,0.09513641827036408,0.0464906479626176,0.05336974844284481,0.09289168748716765,0.05421329452000138,0.04171706543475068,0.046113679074950294,0.067445078911213,0.05528132713410663,0.06319419317492696,0.07431935942020275,0.052154264031996606,0.06596273493802643,0.07492431067324919,0.05574367776259066,0.07180955230254339,0.04500226703883721,0.053048174277138434,0.06852944256089948,0.06099497234596851,0.07287058688185867,0.054657574118642326,0.06784961029273545,0.04269738895982116,0.0666544507778014,0.07910378847522957,0.0663280404773223,0.06843648382450937,0.0528694733674856,0.07743425267511174,0.07100960014133464,0.092798835790901,0.09056192583580487,0.06934370596516674,0.05439021949798128,0.06343093123287986,0.05218918926818302,0.07932365444759439,0.052737752427269816,0.03974233772809914,0.06349651948507198,0.05717102795940302,0.07148732192097586,0.09027145365678968,0.0581223598769386,0.06120795325701158,0.05557552898840955,0.0562253259386394,0.06684497310776545,0.07810982245838795,0.05560035014394289,0.06190354888619071,0.08070508154406246,0.09343551603114021,0.03793214682772222,0.05076104999334235,0.06979203250716916,0.07900230004065482,0.05875409630557736,0.06335808934787177,0.038933401055055404,0.07312086753483893,0.05084931159424412,0.05854638214414415,0.0545666224085079,0.05814005127574495,0.055412861524739176,0.043337604112590404,0.06649461676582095,0.05047742784218212,0.0776993673095198,0.06512502404405487,0.05405177246266214,0.0636716790284871,0.07508308716106697,0.06965380557316228,0.05979586262889566,0.0465012673143776,0.05725391916026584,0.06714694997404524,0.0860376749911833,0.07086491920138273,0.054908309141989964,0.026647004731862524,0.08600115789612056,0.04753162641989081,0.06431878506072194,0.07225134206511104,0.06120294912363698,0.08167531357350769,0.06109146618736594,0.04627875915530139,0.05841375279638996,0.09198585572823346,0.04337578201710338,0.0835461532434466,0.07341910009494773,0.05872498021784401,0.043867439468147265,0.060782730770944315,0.03697593175232284,0.07382101509064933,0.059848531606904926,0.04899203486287829,0.07132810207625767,0.04556621508474883,0.05443835255991752,0.03307367375655669,0.07748132013914445,0.05785949819490255,0.05495563403557022,0.06402168423424517,0.06864442531942182,0.06946056413553697,0.07238700658591006,0.04536915215221352,0.061938131507867186,0.05959596245693723,0.06936497164929796,0.06362381998721213,0.056791372499076925,0.05373938429778793,0.051916715828101256,0.057026297575894065,0.052826760215242005,0.0590515515972474,0.049384137437695715,0.08123463263097853,0.05710104957234056,0.06036464830150533,0.042316545627094436,0.045991510920962105,0.03616615517143868,0.037140948984840154,0.03463534295079948,0.07692688035991446,0.062497394364612706,0.047623633835269706,0.037797470844041635,0.07446766888798752,0.054349534597907694,0.05138175289585448,0.056011181082946546,0.04371237406733423,0.0581631779953067,0.06458141953509458,0.097180848670839,0.06421766283313124,0.04816234457437471,0.06923187001205035,0.05599286877202105,0.08933149101540866,0.05549894850671161,0.07320301928396704,0.0620391574085315,0.0642122205510913,0.0564446035899852,0.04200626161530246,0.05586517683795616,0.06518995861500723,0.07436010842989943,0.04098227320155131,0.05722280989562748,0.05601338783813335,0.06118045950417319,0.04481936724429418,0.05635951247220974,0.04462602755192355,0.06664533494176131,0.0673629429965369,0.07557282353869285,0.062215837200827184,0.08543911111802424,0.047648653134429855,0.04668764883661623,0.06660890796373445,0.06352746352969865,0.05575278189700844,0.07173046424057777,0.058463614628459934,0.05395759570391031,0.06251352076016567,0.04983133292422359,0.050573461443145264,0.04771393942392956,0.047313378529595655,0.0468412946129663,0.06797558924761941,0.06645550145861708,0.0637973699555146,0.09479369179567795,0.06060223232479142,0.04067755902890456,0.05318556179115308,0.058073434730918895,0.05725401269271748,0.03787829288666603,0.06979689172321496,0.05648825112761429,0.07203470999346538,0.06268512300966674,0.04051518806508853,0.06178945675063152,0.06187101169719342,0.04773840689706299,0.050122347000917965,0.05107352917961716,0.04424971623402623,0.09025172582849365,0.04899998634337144,0.06306655987705986,0.05931364075762547,0.05736581228174242,0.0599717316600996,0.04280770276363367,0.03863157751553443,0.06740526231825868,0.06044315771119729,0.053027639130415465,0.06593400980595253,0.06575034381440728,0.05327033804194138,0.03366867792005718,0.04313187640055381,0.07476272556537432,0.054571470977201025,0.0469030959732384,0.05195003834005601,0.0661921778016877,0.05135188863704721,0.07982763301767466,0.05067840656105557,0.06288698389799717,0.04503151440650717,0.04595974293640337,0.049385348424599476,0.07793152473481625,0.06608718290821752,0.05840054772193157,0.07070058482811861,0.060083768134809964,0.051702336819204255,0.05443500457206298,0.052941901029243024,0.03314600125018487,0.06409948111402755,0.04285396415519034,0.05095856631646396,0.04452280437962131,0.04626699230110086,0.06762291246096712,0.05254565868049677,0.050048679683471306,0.06215942235589883,0.05218810562508295,0.052054862413902996,0.07912051378386721,0.05214742864555319,0.06953145005380533,0.054569666496239205,0.02300954852635038,0.06118847731654385,0.05046512997307596,0.05835701527550603,0.050519206502879416,0.0477363588271343,0.05423451723250817,0.04931973797587519,0.07258557667150439,0.048011582404153604,0.05862304627596503,0.055094402629645524,0.051705015525265574,0.04858976263153485,0.042597692641123265,0.04374282401732508,0.05965670037897619,0.06559419856158426,0.08472993687177575,0.057236292305287984,0.04485557799374066,0.037242875569708025,0.06322699840890281,0.07488703257673175,0.07532875426313586,0.06850246269593001,0.062441040459869014,0.052706170903173075,0.07377484015358977,0.05573367203350171,0.06287224281354405,0.09428521812488934,0.06316074917604068,0.04637303002448279,0.0736810426461309,0.06336784212445076,0.042891894797488145,0.07229897941094562,0.06693467474112498,0.08063528817714145,0.07464794688605352,0.07428597084522263,0.05219154386948845,0.06902893780238879,0.04837820539809696,0.04160153904552133,0.05905120110570579,0.06218688500649209,0.06596167675190048,0.06044009949283837,0.05114278344963585,0.05423572546289267,0.06031266143040791,0.06412450696108216,0.05001998668571249,0.0661484517317901,0.058926581880104294,0.053243407532343356,0.03884852488006559,0.07874319120713918,0.0486648920073339,0.05774081633283858,0.07319768131521444,0.0399651746684633,0.05218996182481417,0.05928192277650712,0.0865742618730024,0.061581494252788554,0.05571112460832556,0.043405947526987204,0.0651093848591605,0.06518487205871726,0.06481247688571232,0.07434171307118444,0.08099660924383502,0.037131492468355454,0.07285869316486396,0.06462138380759556,0.050080584041483106,0.05480872010258139,0.10058297057495208,0.04307645762930887,0.0552464774686067,0.037374522231035455,0.05429221277694728,0.051249809585269215,0.07271515590617277,0.06382718872227308,0.05170044155048898,0.05210974743868608,0.039955289081920226,0.04701321210058785,0.06432483594774077,0.03822285656853461,0.05495321136814491,0.0555480140474217,0.06541122238746963,0.05581288991076972,0.06010493086215235,0.038645229118741305,0.060911609718159995,0.08065884784889214,0.05126112012953015,0.07249299386448027,0.06150312388313011,0.05794681067730312,0.06078733344805376,0.06209227980689233,0.05823877231504298,0.06235561860274721,0.06170478110845498,0.06879595730093897,0.05760997999654973,0.050677710481268144,0.03819595848227288,0.05192550992788192,0.07144284982181161,0.03939632070248559,0.03875327244654606,0.04177669449663553,0.055157131326973266,0.05774650854152575,0.06395182487736756,0.05341317252591979,0.06908174414386106,0.04143915122540693,0.07230597079670455,0.031919973663329104,0.07331710507155234,0.05841310068826757,0.05421382187187901,0.045099409749319065,0.05821144899261848,0.05288455748224292,0.052384537165789585,0.0376519857089383,0.059295055999968316,0.07370987613739634,0.060998571864593266,0.062121035176143286,0.07030277308960321,0.0689632302988911,0.055503571735209124,0.057770945235886446,0.05772773704056651,0.055033577181278194,0.06872660949624834,0.06812477096751572,0.06593631420846993,0.047591929647915136,0.049874936363256496,0.06419498522648129,0.056914689164718604,0.06583095944830872,0.05823479113353411,0.07577538262623586,0.051196655062359424,0.06974609661947768,0.058257202710654286,0.054237947612580883,0.07782211342834935,0.0510696711024299,0.041949926932623165,0.07419135429224621,0.07131450264338872,0.04922068791302521,0.09237389988362135,0.07502497905336794,0.05146676121020084,0.04404821420206562,0.04701172616019495,0.07797489859975701,0.06719963590196379,0.07977763368333136,0.06267174189321627,0.04869754346662433,0.05398672272168572,0.050265781614517946,0.06319794326747628,0.04007344746255565,0.058777668859510745,0.054368059978500485,0.04094290834056932,0.07303758670506026,0.05940444782415122,0.06058315641252138,0.04981084141211481,0.02561881785206474,0.07156773221032292,0.0519381128200936,0.06295927814477019,0.0728515645803571,0.05703538044094256,0.051035185207948384,0.06430530644149035,0.04008963894950073,0.08505830100315935,0.043230442327251845,0.06137406529676544,0.04571027975221484,0.03630792859534849,0.08480443335249035,0.053703021256726394,0.04094279828925785,0.03959492545029387,0.06296937910784257,0.04040586100338707,0.03833308092968521,0.06144529476165641,0.050528981946208876,0.03950638130778031,0.03371776204309203,0.07350298658923769,0.042812637893557895,0.05213037595024487,0.07627950138159921,0.0904417912145194,0.04244418675937615,0.052324979374139734,0.06555645679321231,0.074114065580241,0.05434871140193646,0.06263541367318995,0.06818480015570638,0.057105978220589625,0.05688376949643745,0.0351070552239155,0.046094878048004384,0.05479453194999443,0.05030326787515455,0.03895888591011562,0.0773320581361629,0.06559272521727737,0.08476618932464758,0.04880440783176269,0.0690246474090138,0.06886114966458856,0.03285625369286276,0.040712429276853764,0.04999268892920706,0.07005945197402133,0.04199104945749063,0.07362498995516224,0.08046301739318266,0.06254562606432053,0.03232677531639685,0.058786083327490316,0.03516892298916125,0.057598662150511765,0.0489311968153054,0.07489071592435749,0.05056592561326101,0.048264817249173295,0.06988444113090382,0.0461434415516369,0.07781916074967975,0.06306729840808525,0.0382413952920333,0.04420987505519452,0.051464525592542366,0.06792279179887153,0.04221896983383941,0.06873028547448821,0.0642164052583687,0.06535853054360617,0.04877750202294722,0.02788482014679293,0.05719105077314532,0.03536096315448923,0.05700808951044047,0.04589781653972703,0.059838928158816675,0.06978153902433383,0.05260624740535,0.0435580219261665,0.05353858941591794,0.0424384756243636,0.05032198842897857,0.054812102014250276,0.046927006541675684,0.0591458483426447,0.0631243385702195,0.0489141428201049,0.05909829007128148,0.04306713259370033,0.05431308458981781,0.05115591887093487,0.03948072412638745,0.06894846096408767,0.052229772130276735,0.04939043254566492,0.0578112678561363,0.08029155102750053,0.06762422907707724,0.06578295049759988,0.05233010717742405,0.0792636866430792,0.0661159685348632,0.057451373421509744,0.057620744483109505,0.03795769586499536,0.04940726915555568,0.05150697264523488,0.035887051744486094,0.046324223334658195,0.0644190512514863,0.03710676609955322,0.06561665152664745,0.05501234066454783,0.04955093204263508,0.044923428601007565,0.05786507050786355,0.039817257428041326,0.05591290075133101,0.05282360676387268,0.0630238551772643,0.06801877089919756,0.04950088382114777,0.06290477658405866,0.056807827061789884,0.03929019739976043,0.06862686966551419,0.04460955309671284,0.046421615568300656,0.04374900598132208,0.04566786150698744,0.04610633655328617,0.06462951280153258,0.0814412867209008,0.060257801399617755,0.06263166264573652,0.04387260933752776,0.042165612570498785,0.06280119768697436,0.07006190158847851,0.06121099082427059,0.049964021751245195,0.0369176018257577,0.052945381489028484,0.034990155975391096,0.05619331613882983,0.03020287189891088,0.03586840036876065,0.03997157834701231,0.046393595730288124,0.035581310438081167,0.040392091331102775,0.04937977463664814,0.0734500954845772,0.05936563255132537,0.0473044258181368,0.06073049967638002,0.061977659573919944,0.05225758179144532,0.050473566648402135,0.049401530506622875,0.07744598673787628,0.04963616445976148,0.07304793059291531,0.03864297670713909,0.05040370739354634,0.05912814198965,0.05990273136720952,0.06041825503352616,0.055578906060137434,0.051574269114800855,0.04145539142685767,0.057310532175061775,0.054691340793693796,0.0695774246167292,0.058945405063057954,0.05822840129258097,0.03556755004129146,0.03608620242832967,0.06294645610264545,0.06160298707623051,0.05662367984162962,0.04222423192276332,0.05302457370828554,0.07434919018918308,0.042043267888977415,0.049389873823592306,0.06066569535204603,0.05525042971091331,0.07099176806823812,0.04045015115173997,0.06715289890407337,0.06133429888694077,0.06156492402708519,0.06221948647501132,0.07822019591548166,0.05099713948802711,0.05014998634017078,0.04315779346501922,0.04818114587389342,0.05840288255012161,0.054978879814008313,0.07515518012184788,0.05694416413547811,0.04062075754584646,0.0408013569314952,0.052292574645011455,0.04198509116654089,0.03936787024663352,0.05073592989781187,0.04182099316684215,0.0755799998548198,0.055392816159752924,0.05044662361541327,0.04093241786598169,0.05884608535585869,0.07595163679876944,0.0521224040919826,0.06031875012527169,0.07025669658096981,0.043134765198738795,0.06564115758893047,0.05598995729311066,0.03805512712636844,0.07542612448908523,0.06798461778208567,0.028124284215478104,0.04657434777625978,0.04086009839631799,0.05367578724956168,0.05736501282120946,0.06578864265539784,0.05485507375764559,0.04718820134946506,0.041083090406519245,0.0699407601300085,0.05160392659709858,0.057943845816264536,0.050116717299006575,0.043223951965305867,0.06318966855327393,0.06301165303965962,0.05028818560614117,0.046867267211274884,0.04055496358393091,0.06636408888136368,0.036669936286229006,0.064336509916093,0.05894488677437622,0.04389697754395666,0.06330316298218126,0.03758918882091301,0.06902427824475198,0.036609910471780846,0.05635130573791438,0.05457869598510499,0.06279907219699343,0.05730514845346131,0.07706896125348299,0.06662428816027817,0.04706444153388205,0.045204729061023755,0.04243029582530741,0.03983023662249199,0.041343960240194357,0.07048476358309534,0.05765648504538568,0.05272600811480249,0.06634094591347989,0.05268751547642477,0.031187370821781763,0.04258087455425769,0.03921108292163517,0.04410555950234828,0.03869363237587197,0.040855588309468206,0.03711020528734577,0.0452473010294922,0.06215713274267842,0.05214452390888993,0.052526013641524524,0.057544073139046865,0.05819572750180373,0.03798879549810723,0.03711981242268387,0.04140400760409362,0.050413729683696264,0.045823284599531666,0.07443565032492569,0.04615900957558885,0.03127462939569234,0.06581040406870978,0.03691662879603648,0.04303876933779572,0.06198307911763121,0.05828106914015915,0.03830954101938551,0.04767335272696992,0.03925505263971835,0.059349075088680925,0.061918503020581495,0.06399020314591568,0.040600367256017,0.06952648554179393,0.05301667820322037,0.046715606030772336,0.032450987876559284,0.05363136165962149,0.04616613865965614,0.07064654688806128,0.07220646778468597,0.04604823898848747,0.047692756547111616,0.04428252598836991,0.024955938772100745,0.08569664105198085,0.04243190142217485,0.06873443235630172,0.05302170847817925,0.05458208998876115,0.05519710154903612,0.049076202731844626,0.0447332822062666,0.06866772426693268,0.05226816562400387,0.05128880377420992,0.046647319883326176,0.057119186011570657,0.056103125377847674,0.05526723126454743,0.04991177520534436,0.06257378601001391,0.06262632096031884,0.05755710018463824,0.04669309336637996,0.045162128073203814,0.0591544435613918,0.04374432124352646,0.052176659191793075,0.048921180450636016,0.05705539060585017,0.0560559530408326,0.04373540093662111,0.053334918387656034,0.06860077711506252,0.04508800056697135,0.06543563735358768,0.04160935588201306,0.05909858518871523,0.06703791246544696,0.03632626751301762,0.07245077670721346,0.050135651195981484,0.053641793788016257,0.05198337546614103,0.06411106720989798,0.0437735962620704,0.05977354549866461,0.049746604705773925,0.06048209348748722,0.0459202762467776,0.043809959539311986,0.06421365498741378,0.03891311461431964,0.05534950647565558,0.04755594538879227,0.06344223785221928,0.04803539959504572,0.05306177942840432,0.039272604156782395,0.049169439694857785,0.04378219016847108,0.054843429007681486,0.05080852578686556,0.045497988321708926,0.040365314937286526,0.048873270325635626,0.03659041748998428,0.047965120526507636,0.0481676074206008,0.04444361011609026,0.06044551210098029,0.05561739421022651,0.05620948211064444,0.04080798194844521,0.04491377026054106,0.026437862646980826,0.05604510974137659,0.0520937456000884,0.04812475741203061,0.036370815183348774,0.043205430801693596,0.053200658615464774,0.04146677831114714,0.051679557943863856,0.04206626419204728,0.03741928253551086,0.05415925002748838,0.047356590389714265,0.06834907836976106,0.04696525988966416,0.06952723542471718,0.04547593080189885,0.0845373111710832,0.0522180907071134,0.04607968178618346,0.05333285944660778,0.056932331745448206,0.05799056133876795,0.033113347173033846,0.031168856479830732,0.05755096679009018,0.04780276758167907,0.06860602839785666,0.057535209464272666,0.03647436861956759,0.017341958605654066,0.049195589185851686,0.04715624266369865,0.05628799901115085,0.06914258661819964,0.05520198056323434,0.05096713660852232,0.05856367035015028,0.058278442484856904,0.0528770759511616,0.05349915169027588,0.05112785629503802,0.05693297266376867,0.04253539690069289,0.0488965995721492,0.06475613341700996,0.04636049398721837,0.04008896171145691,0.0714492209997607,0.044196889386238114,0.04143908744851802,0.034559262699251754,0.05661482449157764,0.0357705744574381,0.033380948026885196,0.041113960441400525,0.06333898312531473,0.06714036116987304,0.05600188350822035,0.06456673907456273,0.06167681098045046,0.05456596114761271,0.046192054575521654,0.05754527900682007,0.039186615245703986,0.03680969897907224,0.05263980491733799,0.04899356853128019,0.03735753809339201,0.03647511387399951,0.028462935242575666,0.05199994017024133,0.0467921299874763,0.06537291824380609,0.06145823566985574,0.043569307976062656,0.0695481290860748,0.05854067051844443,0.04803116449398038,0.04490700387113005,0.048410371634387266,0.05268917982984496,0.0654918725057865,0.05780151307717311,0.045631881097135854,0.04445996946359105,0.06838695377952725,0.04435299631093399,0.031043534934887044,0.04233843021642991,0.03656068480854497,0.04490656098754509,0.08330206287398824,0.055025928161067286,0.0427900431988315,0.06693671056801583,0.0416988698483352,0.05751157684553505,0.06457064784553435,0.04645892202431073,0.04306910726550075,0.07699017674112259,0.054269691385135016,0.06378401031882448,0.058196741242835526,0.0571913847338858,0.046071595884766676,0.030568430078921294,0.041875517620572775,0.05239670389038425,0.04367578207524178,0.0461032544059839,0.0506699554735614,0.038631974733798174,0.0289970035719212,0.0657517626827538,0.04246158463437517,0.06393839868791594,0.03964466763095206,0.028989804642511025,0.04315264973698783,0.040988534073379324,0.06519748963455925,0.03350420072166092,0.06309838692791625,0.05933167607910968,0.07331691428091182,0.06184410110996102,0.05996142186520085,0.03417167157482631,0.039011565737604816,0.05328517012016637,0.06541563134322224,0.06012107146078999,0.03435795079307839,0.021430868299362294,0.051683564926582576,0.0517300878954646,0.0673440249166899,0.04877431715606231,0.05612429128947651,0.061090497072280855,0.036458928739506645,0.04387868184277176,0.03707460710983963,0.0778941083157367,0.033734059811404704,0.05995630138450965,0.04485400757229797,0.06499226396730631,0.06035432816315078,0.05023771597110459,0.04433332785893577,0.038542368345407176,0.04010156191191711,0.05535441424250979,0.0544213372459996,0.050117083231183336,0.038853283809371426,0.056675078792684505,0.0420203974353216,0.046702302269156025,0.05420283873352107,0.04123751022876397,0.057204425098851173,0.050002478537375,0.03433070766479747,0.04357956082933304,0.05831812705253641,0.039429148486917115,0.05832341587863279,0.04966937875773641,0.03749809419346693,0.06618517208184713,0.045650802990400655,0.05122850403059256,0.03322697556509872,0.04824277251168292,0.06138290339647504,0.04027710525533344,0.02898162264120563,0.05207629442755646,0.04988196643861409,0.07535015734654801,0.042560041211872686,0.04192165482588446,0.05405482037323251,0.05910912272988833,0.030323061627397493,0.04875032725703793,0.025303506671500352,0.05305453216738811,0.04776272583254728,0.04748705329269049,0.04480070188693375,0.030656187193282457,0.03974806064049263,0.06140944020812237,0.0548101077979934,0.03989394594151204,0.040049853127693553,0.04880387979030554,0.05417823641087232,0.0570906720385843,0.05484437786041623,0.04665039018746852,0.023611594660188202,0.036660018307348205,0.05610565823657692,0.05234126018078625,0.060918331054219246,0.05912352563360884,0.06184491297705288,0.0605238466654464,0.059944231890757774,0.04949715013167188,0.04166228267152858,0.03364461847445525,0.04025543856739244,0.05629098677648131,0.05524585855965597,0.044827192505699255,0.03587527899842051,0.033960041717961166,0.06746334322509046,0.05244730905713755,0.05805397184591015,0.03371512559884489,0.040573081044298104,0.06706805986303271,0.03857282137889176,0.05293505501643911,0.026531184256364013,0.03716377461574002,0.04321477764195341,0.07514310488124515,0.043652787953161395,0.03105466246827811,0.04992410578475893,0.051459547094670266,0.051559984889005754,0.061017728649727564,0.05860491518331284,0.048629971104575266,0.04654030678734714,0.06232391202414556,0.04202217767766855,0.08714557317903739,0.046263701636684515,0.03452447406085587,0.03763901815727658,0.03959147354182061,0.054496444416511615,0.04843870028158032,0.04963748000297078,0.04225087924966387,0.04954904519700334,0.07461962041128847,0.04457856862404029,0.03309825032307568,0.041161630457115815,0.075438947229724,0.06436366247939262,0.07751612173467892,0.045237275205785715,0.05589984726621776,0.057471303124317065,0.04886292470758484,0.036876951954025926,0.05995765648018088,0.028675481852818013,0.05787422587416653,0.052262142162274636,0.028710687819352657,0.05869753662985635,0.05450250560171879,0.05383004773562903,0.038769564653595094,0.06932244139484094,0.031614986869408106,0.024419680808810275,0.05830635397680887,0.04563414774337858,0.04505745244400876,0.053626980866569474,0.06588512018501577,0.06232070207477163,0.07101839530886159,0.037403627922328604,0.04841870594319851,0.0542969024153731,0.06747915901858155,0.03375039005369686,0.058545257406414274,0.060168156192842,0.03366371689263067,0.049884739468740884,0.0310341568591143,0.04431847701551965,0.05798546678524004,0.017725037747695613,0.03142209936046251,0.04085919493099477,0.06072664236157821,0.06544890571777254,0.05649249245429478,0.0512989095621999,0.051091734409786226,0.051846612449135736,0.0392819905919886,0.051792049595972056,0.05022090240449299,0.04728787113849238,0.03514096123415566,0.04532926655272037,0.041778865778792,0.043506809079512945,0.05024500732750814,0.02635430975737163,0.0466187427035602,0.04512184800020574,0.0661711941583665,0.02035357448685279,0.040542385627410894,0.040821945908903715,0.038901069030540275,0.06609919165728657,0.056405241575439316,0.06310454584254846,0.04803193393654578,0.04161769578673318,0.04965309445801367,0.03577806562022929,0.03047646614479185,0.04813901185007436,0.05535761453583453,0.06670511634782479,0.03861166066657248,0.055113487964988106,0.05208749118978722,0.029746055912318076,0.03741232872129248,0.04022028237052817,0.05732227880223756,0.03805033681201802,0.06986096201092651,0.0558017563953749,0.07730575136065353,0.03896281730926951,0.05450866385123776,0.030796279808768534,0.05737202978765169,0.04091375595908242,0.061272751101505374,0.06110725546688372,0.04229480741089074,0.04920804572444839,0.056761476758778365,0.03680288347274213,0.05421067061731681,0.048556341270908535,0.047345418068282435,0.047547589265093934,0.05901040735055189,0.04768285532964248,0.051439138194688226,0.0651738342337293,0.06602914169034875,0.056431825321812665,0.048134477115119055,0.055673356277161065,0.04362422968021663,0.05028103782294114,0.04470433948288267,0.055230095873204044,0.05247778271899916,0.045557242346235385,0.060959212163758346,0.0304551919750248,0.039771086050264394,0.0642705998225237,0.026093794275157678,0.04290749324148797,0.05305846092394462,0.03683922154442915,0.03327804213500311,0.046982059761627885,0.05268699942916821,0.04404982378061368,0.06124514452321324,0.03167437449000682,0.05034372897212164,0.0489277145317222,0.05414447031056839,0.0506635436749457,0.04363817500335817,0.04118098732943531,0.0430544222380675,0.03183749685662482,0.03830603143572154,0.06184081900348228,0.04527113225749546,0.06380238874789744,0.06704986895235825,0.05523359497422536,0.05070731828069732,0.05181413284968557,0.04280491066319254,0.049895053366512884,0.03996655688331601,0.0571883288461929,0.04648290044870212,0.04745156046361405,0.06378889305085458,0.07021207145215193,0.06372718203185326,0.045141152344096554,0.05443904718498831,0.051855555061424655,0.053736714374097765,0.05816100523213998,0.03876542731878408,0.04766607169729301,0.04769497248602698,0.056519765335777405,0.04664997080518986,0.06827231192276154,0.053953219221084404,0.04745733117672321,0.04346653404569135,0.04715242253335257,0.05834584819249687,0.048789302247487495,0.03646408194545737,0.05316175899301053,0.039254343216977135,0.038561208184950575,0.03252708960241878,0.04236104545650179,0.057615895831076895,0.04198999961204016,0.07417457392980813,0.03063866396163978,0.047639966173112454,0.030069753711216462,0.048281829586518756,0.048434304655799496,0.04420767628979574,0.04765827010794265,0.037984150715606534,0.03800218719221414,0.04006268378938256,0.07485631363692545,0.03822077362397592,0.04687244925586092,0.038103383114680416,0.05316786200924034,0.06478793422149556,0.04631788760939486,0.047236225585137744,0.02913903289775895,0.04579960643058679,0.0562192976084967,0.056619348827645015,0.0515025228132709,0.05446076234580169,0.05083691422667704,0.05176586507411616,0.0625829356274313,0.05214661781735347,0.060037877382203425,0.04626832308923211,0.0586987125826122,0.04517512017777516,0.02602945749788875,0.06270844713296589,0.04802058369624532,0.04633898676626523,0.0474268680601907,0.07153484629812053,0.037164000120627344,0.045337323278101346,0.032909678994510694,0.06977633294293442,0.0331195080962626,0.03260008748530685,0.04631359374928246,0.035438014750498355,0.03384441108553238,0.05679758629720741,0.04653004382158074,0.061210782430879636,0.039778392403410225,0.04960979870318765,0.0668355922102223,0.03828717908627379,0.0353397260789231,0.03434463086294923,0.04247559495579362,0.052377100590783085,0.046103758045346895,0.04173551294343048,0.03919555772576099,0.07491806214555567,0.06151571474912656,0.04512010759229513,0.050055909101307396,0.0533606761863014,0.07264104306351386,0.05411697242784439,0.05384974873153792,0.0688962870848211,0.04549549289219752,0.04208193563773766,0.051006758026946375,0.03788255191033723,0.032523746987102246,0.028324126583372435,0.023597773918357403,0.05460253167881162,0.03548360347038673,0.04417680979541989,0.06579220174729064,0.04223044411996749,0.06178843049635836,0.0448049290115296,0.047940463902700244,0.049261671910920506,0.04561878213856982,0.04281277519989265,0.03174127826983877,0.027201930032253487,0.06129672572062733,0.04764316044840566,0.07617417047520071,0.037221343703591946,0.03528143069242185,0.039565184828827364,0.051109451735527944,0.04494349368139012,0.018828872350124395,0.05740154833598139,0.04424570254726013,0.04381180017978321,0.03743409031533785,0.041120217512110036,0.046461147951426376,0.060936550413513965,0.047995845902304275,0.056543300845263524,0.03256740279898303,0.052959763245425666,0.06461858661962375,0.04599897307206918,0.056301917476935366,0.03610705519626814,0.04125202334224635,0.05577510228243914,0.056180937104927844,0.06190875113176482,0.02225655781523462,0.04731028062295852,0.03547677240052339,0.03529501578018817,0.04513851020009075,0.04193578603550508,0.037784579067453854,0.04694549522708497,0.03265129326104469,0.04574065789159012,0.05636246153032635,0.055814525707333765,0.04313203248746402,0.04905857791168161,0.058049179587458546,0.05474921538638854,0.05237806541786126,0.04344202580743508,0.04405220533009927,0.05762507706349319,0.03811130421279436,0.046723703189063,0.06926601202283723,0.055635424160809265,0.06041271824996637,0.04178373676652592,0.058991217775986315,0.05138190974383507,0.052124312097561507,0.048828182901222594,0.05538563696491956,0.059103280857799846,0.03872543108461716,0.06305926257274534,0.04829777141784797,0.04897184657955686,0.04495646087969974,0.049912923876392394,0.04390776424134274,0.03622337104697161,0.039238070241158586,0.05032397359938599,0.04246714835241802,0.05668587616598872,0.04856814063017731,0.05268413624595847,0.046222008478469745,0.02167279778011536,0.030388368046111426,0.045687245287866246,0.049485275373972806,0.032141733416278746,0.061554546098144314,0.0376318459731392,0.07385429720512073,0.04147930300295378,0.048066385379447046,0.04638002252144069,0.03658591311167652,0.03595411914453703,0.048594807109760975,0.04646165407164741,0.0306028659445601,0.06144469479406505,0.05927723090085391,0.03404674307347308,0.06944066592279856,0.037504466737253,0.06029801573518284,0.058777696128532474,0.052252989169231136,0.0693097083263,0.05841474000754296,0.038380880010545404,0.03169080030390589,0.041073142864575536,0.04341840944601374,0.04314722310254812,0.04034264527066469,0.044868814661626864,0.03235157481637031,0.0396851195562907,0.05411039540347622,0.04503943873004024,0.040410795388437025,0.052311640869195444,0.04300932133367072,0.049560821774740894,0.04201033874358686,0.044832351702920506,0.052428808503704176,0.052936951800912554,0.08067151453310635,0.0480606108462426,0.047298362202352055,0.06233484284161175,0.05760353598400172,0.04098156840185857,0.03811483287320152,0.03906546025136648,0.0441990693100956,0.035494206079604,0.037831372011194575,0.03502067850329033,0.03460041813048135,0.04695811660727101,0.03718304681833781,0.03356598387183222,0.038360356007405685,0.05691013450718904,0.05181865261974311,0.05684006173533902,0.042617524328276965,0.030294180370961973,0.05530131429534033,0.048687595585150664,0.03143754211084833,0.0391635794058734,0.04306635930674967,0.05001532340465138,0.05588647969338589,0.0448895693069129,0.030587629371511615,0.04930666528987711,0.03881276545023827,0.04649981846182838,0.03736310627445534,0.035791880704094545,0.04566250720147988,0.051959619729545714,0.04566226927956235,0.04861137098074516,0.051778906985254246,0.03904568646933417,0.05722492157101381,0.04255991265599096,0.03293849211117124,0.052475657945703316,0.04831692204992255,0.042686987347658585,0.03990992954051553,0.04563363669176779,0.06460331798091702,0.039332635869001494,0.040270497928640826,0.053241574988738306,0.0423944047051683,0.03457531022628135,0.05519120816436416,0.023464313147890662,0.028656257413798736,0.05239405489563815,0.062348218570532,0.0647058791865903,0.05940719210189099,0.05275021015926787,0.0406547859040945,0.055706296693763355,0.049059073209560905,0.0394628675573971,0.05093282492417828,0.04048404689262531,0.0390320944509784,0.03486048779805718,0.039198642125269155,0.042618295073876045,0.058375377219624935,0.04149672323277257,0.04883930658038868,0.02620641962426402,0.05801199445863792,0.04035204146428473,0.047598862074928576,0.031242219056857947,0.029114993445150953,0.033907811446924056,0.049821723240402765,0.03093076219594021,0.06099095441000202,0.032862278629785115,0.05132123133224675,0.04748796211979201,0.051819404394062,0.05637080935627013,0.05406106610673932,0.030800107301278072,0.03543437717843146,0.03124665779269627,0.0350098192079692,0.03111471073531219,0.027046349925255488,0.04995720659584592,0.05062089895782005,0.030938909675611803,0.02792679417297865,0.042964251469717475,0.02859589606251935,0.05235354688880906,0.052634066039723086,0.03106959160194851,0.07555507250174044,0.0434572475763391,0.04100497438246813,0.037829446851584896,0.049521948601164545,0.05275994517800669,0.04276713480821196,0.04458741736346777,0.06083220808263923,0.07127153503149393,0.03877471360886001,0.0633597735084179,0.03476327589447709,0.05807888537252559,0.04001876852358182,0.03786676167454979,0.05026188600871257,0.031095672335273765,0.05072179960073254,0.03538872418139247,0.04241508510975449,0.05958649583675309,0.05180342075543597,0.04374368352854802,0.03344720483925152,0.04391921094102045,0.05550281714038634,0.03239931443252919,0.06384442424331589,0.03502276378594096,0.04102881342108781,0.0446047277460523,0.040501816847100115,0.03978510471839775,0.02784270239473101,0.03385042686869793,0.03477027487924245,0.037891897115615344,0.05151020940177742,0.03960976578599976,0.034551815693227676,0.04002279303967387,0.042263608672154444,0.022514675585871214,0.05659156096632162,0.046819988620009245,0.05461369459941641,0.03712521590535158,0.08153531099935984,0.05254002812848663,0.04581696955417909,0.04334658752257215,0.052146128157774585,0.0612412813501087,0.057524276926040174,0.036192377287403474,0.04328347823535534,0.0451996029845811,0.043044395326199865,0.0411787999069644,0.06503569709486036,0.050761633626833794,0.029204111431349475,0.03675714835297734,0.041985561856280496,0.045427995116976344,0.05792417910613798,0.06861864008293926,0.047122376800223166,0.0658618945589948,0.0491617518380012,0.054032151228247026,0.04481602282848841,0.04770386246176057,0.05236748288186958,0.04347570112242825,0.02269493050835425,0.055871218523065744,0.05125865464451236,0.054341145030117846,0.03402969087814142,0.04362715135669348,0.03050318412015795,0.04525796959731724,0.05121180417458506,0.028200058062086968,0.039757406466206076,0.03501345485147343,0.04298098191913158,0.031162567634765905,0.04600093397410245,0.03668659450429601,0.048739696616659604,0.02790951092921605,0.03312681625545393,0.043190556087973106,0.06432421225724441,0.056662621269187724,0.03644415800224006,0.0578299059892151,0.040282558217171444,0.04441402398096373,0.04543296219528731,0.0346904582945017,0.04108233035271169,0.05531652389150169,0.04553685402471188,0.0416916587343951,0.04598336271265307,0.04154214149641245,0.04932090988126758,0.02516941846270629,0.04934779968342267,0.03861339088662375,0.04944082119526534,0.03300190669642675,0.03963705429081242,0.04659057042847013,0.05217969057537932,0.05472985611497359,0.05286037350698671,0.0487589289542402,0.046848853515366974,0.03055495614207467,0.06768308238835011,0.0388392838474374,0.03459038184318835,0.044303566035541204,0.04133143579573401,0.04073687938441051,0.04521717565524888,0.04413534548206,0.03962536564755578,0.04212408483023708,0.04160792062494156,0.021581995686916888,0.049649399400769456,0.04112202938130957,0.05625253406466964,0.043467609709132,0.03425494351632041,0.039647133318673734,0.04290890022973948,0.03861113690212984,0.03731209361596624,0.051603045061515626,0.031610543009391874,0.04376781885671076,0.04153568092151034,0.031170402928157398,0.044203587172742156,0.03815207845660551,0.05426320892649051,0.04338141780801446,0.039612834679734865,0.041307205702737694,0.030933523222971805,0.05177476670132567,0.0259090057587284,0.04204783727861772,0.045882388476519854,0.049723433493165284,0.04845807189587671,0.06726771482380375,0.04465216867403413,0.045273932755491346,0.031648301438116394,0.048462538308074586,0.03199946954001224,0.037604173859451334,0.04149499803699497,0.0416365240902119,0.03942793160521311,0.04006841769352372,0.054298175806761585,0.036655089270470835,0.039190346104536714,0.04642745158158019,0.04471004290033816,0.04515066588218298,0.05487953652244572,0.05408512951792993,0.038418125429058265,0.04780030544435116,0.03035943614530006,0.07657981843390714,0.0485212585033317,0.05182669004067808,0.03551156618742589,0.03840007069171584,0.03871760425375646,0.054414967961781725,0.05012639891297116,0.06489820811572339,0.050587576304539084,0.04790355588968728,0.04010782190250244,0.04748207045411477,0.05114120707529804,0.05291981273124389,0.04721907705677503,0.03830834144778457,0.04413519377872862,0.030028105571927092,0.0330978917481124,0.04657272986731625,0.04489947480166693,0.03499243214637325,0.05925821792776573,0.040277183670459155,0.043593706601912995,0.03637373350772498,0.034141400424806415,0.03724509074560905,0.036043990315858525,0.04492732540674466,0.04214480083105413,0.050924951716632666,0.035486448314813436,0.03167143955416611,0.057803741122185184,0.04274293261450336,0.04474173567084971,0.04569280240671689,0.05101645735858112,0.052711520706994586,0.04955808556443973,0.03207388106167826,0.04387831599678544,0.025273929864940745,0.049304044636503626,0.048316789071102435,0.04929167158614214,0.03206871862801995,0.04420454498758488,0.05053713198169825,0.030409155329942112,0.033918447899170444,0.039861271774627324,0.03563459460638669,0.06880923946111292,0.06155199188186085,0.04028211476102221,0.038747910952723515,0.04737731150841779,0.04689910606115345,0.04669710714779507,0.03268753173392722,0.018657344066298223,0.04887343272509782,0.03925706641923486,0.04413169754286368,0.050975673078874795,0.053070392204536465,0.03643445991157708,0.029759689991088287,0.03305312540137754,0.04546362887343595,0.04656743730628366,0.05304824654299523,0.04840673787234062,0.024418892089103767,0.04787492440942669,0.03445196943809777,0.05428775506907641,0.05622272381087693,0.04793441429008915,0.03883377792259532,0.051147375193177455,0.0368212019469708,0.037479624206681404,0.047064595019618634,0.05352742978502977,0.04035889714314743,0.04661593766310329,0.02899384781712537,0.03756947151746507,0.0483124047478595,0.04253962059506991,0.05735474783858221,0.04035940197868715,0.04357829054782327,0.03606091144278918,0.042348676587377565,0.048278296291615154,0.04446434115401706,0.059070393513356134,0.0395182818976922,0.045157565169590644,0.045555741483403564,0.049283476915491564,0.06073477072245471,0.05005906794772013,0.035503242064938254,0.030990666334945762,0.03836576115964305,0.051546735667638933,0.03955995521015957,0.03793646568036432,0.02416988282159097,0.02892346935843405,0.044023834096980935,0.033002193350896415,0.0531300804241492,0.038735074346147126,0.036386627744893436,0.02939227756464094,0.050223003505748876,0.05350916201823025,0.036335516716525164,0.03960183640131669,0.028986038657384253,0.03156337565821303,0.044246057917457886,0.02737639464674899,0.05404435306055971,0.05082716229623563,0.0364595114158779,0.04506958438753677,0.04087918310774166,0.0436859235891254,0.04543668210553797,0.03967691362093126,0.06109117390167447,0.046377624321371,0.027422753905361964,0.04503873154900682,0.05460425795691798,0.04756287081696312,0.042306630541669214,0.04933908497589727,0.0558046792128254,0.04412851701744934,0.04484758651483015,0.048516848824605094,0.02674330632114393,0.05321879702077555,0.041766187319943276,0.041213578009007074,0.051101071170772595,0.06884131326439404,0.030332658246619175,0.06117732197574853,0.043850527163782176,0.04369821547643825,0.04148388001836584,0.052139956993677745,0.04728881869158547,0.027324362287727277,0.03140669562326896,0.041884851039521186,0.030050286532553178,0.04710830032638624,0.041813972834728264,0.04962707226285715,0.03816323408174567,0.047072597395557365,0.027453199837350523,0.029844098158074317,0.07158573450636642,0.0435896920080545,0.04337223363602058,0.03315862689376021,0.029022413172776852,0.038790370620113986,0.04110263345514407,0.03800623514631837,0.03934209414331764,0.0690818384110115,0.03496095686628258,0.044175944495777345,0.04461727072358539,0.046578852953612894,0.052483923451630436,0.04463987874352846,0.037705712757621884,0.036781018315147844,0.05032676990160103,0.05398663444081809,0.03405291604224861,0.0596966158499355,0.04537699731197675,0.05152574779145119,0.04736157025316027,0.0246694181512547,0.05218394210441554,0.052654292771802204,0.047222844006313776,0.034894734991315714,0.0371291725924447,0.03661535695392848,0.04123712436105851,0.04527093560495517,0.027504001861958127,0.048471721634424356,0.046017428297202,0.04603211828039254,0.040186318666013195,0.04185484447141436,0.03344621724285307,0.03321623688266592,0.036420788732801454,0.0509571513752114,0.04672772913928563,0.04695399908256302,0.0333765265648394,0.058503966598843105,0.03476900527285693,0.041640846497794225,0.04262080953551151,0.04175598107197277,0.06232344994720468,0.024938925932397542,0.04570128380946954,0.05629525360802325,0.04140266495535127,0.029394053356114506,0.049642877535247626,0.03714126145994179,0.02546058618393962,0.05491003608669687,0.051926315517010865,0.04865366112401254,0.06367656004230371,0.0380514876972253,0.046641312802844344,0.046348955378947676,0.032096332911527484,0.04426490768018692,0.04528410106606564,0.038739040888159056,0.03464200030789018,0.04866340054046126,0.04110304706764529,0.03998315327202871,0.05147269930709839,0.03271460920262169,0.04142510168117183,0.048006209079058254,0.04968754915523432,0.037527944414882164,0.03697211795103764,0.033248769302387994,0.05305152282733017,0.037431629189091854,0.04052266655748977,0.03702794341615174,0.03965855201994625,0.04195271922920891,0.04507433293545986,0.04537321078136109,0.04904667865143486,0.0385755698871895,0.0517959271061027,0.04121815188252137,0.037995306576969354,0.05035521611269979,0.03749563207951171,0.04312810487083718,0.0429045846825188,0.044293519890268515,0.037466491098444916,0.03837449912995552,0.03135131280489125,0.04221809199788188,0.04409107340126127,0.02935730703213628,0.06697353963314684,0.028847638875927333,0.05633764948830296,0.03052333380017805,0.039658019893505786,0.04454823438213633,0.03093987048938334,0.04913313405315501,0.05329766247595449,0.04101503976238987,0.018897261386218972,0.04886329142332774,0.04604878672304991,0.032516821401023265,0.043297683399439894,0.03679137588022622,0.0617545191788908,0.041037722259939034,0.03811082483896168,0.04840609699098757,0.050529258355608085,0.04567896576886175,0.04130847298418384,0.03926247101081854,0.013536995017349111,0.034754235357851666,0.043867795367135684,0.039880102252293166,0.056266274299666005,0.052928922771403604,0.03777885956361254,0.025368094092413966,0.042680861212003596,0.052022933349046,0.04630485371118787,0.06874356796787548,0.03279897163452123,0.048542286100560515,0.041144502579702105,0.023779446338509622,0.04833189176970498,0.03864330408829767,0.034932414245826625,0.041416074410241394,0.03322015801844437,0.0401752233317423,0.03621725316491512,0.03317453501976053,0.03870254820462355,0.05567800707478808,0.04239556112563012,0.05320723623767568,0.038739459342529675,0.04063561242890902,0.046716990822805796,0.05881734050546498,0.04501783618406529,0.04001627359026635,0.04198708837061587,0.0347072420765958,0.04098934380622099,0.024363707893762687,0.030829036616242672,0.05170894708299342,0.04910732625066905,0.04090904536507747,0.02632054832069969,0.018994237992927147,0.03305118774816413,0.045585699184574766,0.036871814413969445,0.02988788548381705,0.04657783206977,0.05017250103705753,0.04986800121509053,0.039147131446817966,0.04541701902297003,0.03967485428398658,0.04293818191053477,0.045304997246740975,0.029665723075608243,0.07007789997473993,0.03305776208696283,0.053617386984579726,0.028875074332475097,0.049953870427588434,0.03448106324640745,0.06517055229321547,0.033497426422315096,0.03920637882589665,0.05025504578842333,0.058170237268450456,0.04206532129631058,0.02673305174481434,0.050409059489312694,0.049881731789811576,0.0241109806937101,0.05334662846239251,0.02509954021373885,0.042922161807480104,0.0535659611469939,0.03605524702060861,0.03478105435371572,0.05033911764572202,0.04321086641754537,0.04616705707429276,0.034194086952506385,0.03252043226484109,0.0423147000641147,0.05291425745569321,0.04762829053183967,0.028004734069143715,0.061087257682424734,0.03700554949063246,0.03308070102844376,0.04513877922020394,0.03580047506844883,0.0375834165479074,0.030473979495672973,0.05593278287146155,0.030819195782921284,0.046267139736487835,0.055986053600086176,0.05816694707638186,0.05753777884823177,0.045272302440432205,0.043379670448927383,0.040521447301904476,0.05933564451041806,0.04508087960778997,0.041794322247467645,0.03351071017100637,0.034281319141596614,0.04465191805916635,0.05780337665373838,0.037015282097176715,0.04701875955210005,0.03625324234599271,0.031024243547967196,0.03274532170650901,0.04413748397194998,0.052502737806574815,0.027749796283140078,0.04910332890007285,0.041716191828225994,0.027153663214874946,0.05038569639569532,0.03239213864740369,0.045579174644341754,0.03414340031597063,0.038765645857300746,0.03376860778184822,0.05040926744328529,0.04342400208377413,0.03667973341747511,0.034244411419835384,0.035417402316815866,0.04778443142369598,0.052850204111671406,0.020267183320697282,0.050123426477109816,0.042274511177187224,0.05754040224703634,0.035567947195692916,0.035532112251410924,0.04015470578274251,0.04229840979955269,0.048656208251597464,0.044731598728694144,0.03868596928418038,0.05160740091010706,0.04755997462210715,0.025490244556782362,0.03530101797357394,0.04046054138421894,0.0532476764527567,0.04430780106693784,0.03085480381420984,0.03956328718494357,0.0428383716798006,0.03373655879764219,0.06641213102495527,0.04358598401980416,0.04627041561773105,0.031821114001064486,0.04370005858445593,0.056441342724589075,0.01636885127454455,0.04611874323917948,0.028323579156781308,0.04456549494364146,0.030260973305022677,0.04852457619796445,0.054442705976275145,0.03419947183783088,0.045045833505199535,0.03765689668590422,0.0597451201096869,0.03661710628479647,0.027112230839158143,0.06113773117104998,0.03093402462961849,0.032193451231417924,0.060451211358393694,0.06890679587358453,0.046270183946191694,0.03803076931812067,0.04348747937517827,0.029895043854790332,0.041598409469800715,0.04731529979658264,0.045565838492909176,0.04614533649146497,0.0449715941406464,0.059587017088986526,0.04283002551544297,0.036408997696879206,0.041795939350483764,0.03834633885417118,0.04857337747128752,0.039300551786871744,0.030464543032364257,0.03758702605553948,0.030241870835441262,0.04437718303568584,0.04257913963772921,0.06490087798290767,0.05015787171369135,0.047988753878955515,0.04192955964462485,0.04208360044755024,0.05287436220961361,0.02963460519111744,0.03947778732367919,0.04721726355091457,0.05597158349470721,0.04552716446016628,0.044687237727705366,0.025941704822058854,0.04271140409912107,0.03977774754848698,0.022533111208756753,0.04687091388951498,0.026592139291505737,0.03244223507566527,0.0482810173526067,0.05448913866869383,0.04032409777449047,0.04019587557574714,0.02543903961136728,0.0531278128674195,0.044120163123440026,0.024993587724821267,0.04728396973517369,0.04270213151356185,0.051285701502079895,0.038541241419812244,0.051598927704699205,0.05368004910005486,0.05813845848695511,0.024193017322891332,0.034994204477095225,0.053342431579082764,0.037250458601067495,0.04034808426461744,0.04185479019164358,0.050118195939216334,0.028639430293977832,0.042063117869894695,0.03541898730420127,0.027380661101484915,0.032397480391927115,0.04467691334015428,0.04489370634984526,0.037351771622483224,0.037297791546729867,0.04434189923009637,0.04100601722294937,0.033018535991293126,0.06918649346353825,0.03784078565880855,0.04911100158181206,0.041147833355024956,0.05143835960683191,0.05400144127248368,0.045974414496349265,0.04377529941782316,0.060840143820016956,0.052678947132794474,0.04831416756978734,0.036303729150162806,0.030879367663516424,0.055228827186660445,0.061509071205761816,0.04330099701225342,0.03725958513788884,0.029001656785429448,0.05065693523513617,0.04730362603628125,0.05904349780533802,0.037595354661224434,0.03615296589144575,0.024146230839482558,0.034213656145785545,0.057442844834606877,0.03258031446877456,0.03406068262217147,0.045946594805988096,0.049753290155348184,0.05849844511997877,0.03433957259694796,0.039393351601101204,0.05578900328348553,0.04840531546067965,0.028042844038586093,0.0570294279330667,0.06231888382384112,0.05271560032371012,0.06112382492625723,0.04466106006737015,0.03828719405697334,0.06015914720907199,0.06231395074187805,0.05111829384357799,0.03530025519456666,0.02987180304993723,0.04599093553605962,0.05119006593250275,0.042465088201338826,0.03696384346361291,0.056098641344432466,0.05486153207600187,0.05201761577316035,0.03528458774389731,0.029793918672229195,0.04498626364586971,0.04050533751940833,0.038868478074410115,0.03772186500092529,0.04672743663087631,0.03262544466482325,0.03903067028993666,0.05115005823799559,0.037619455391967475,0.03934258413506659,0.040642652183017165,0.04312988151199588,0.023193853705205936,0.028212485244581358,0.051553372223335975,0.03543099752978735,0.0508968003909702,0.03977208652304192,0.058320584939494,0.05417237724675009,0.037466775406454426,0.033781619179685134,0.04276652007395797,0.048804356815124045,0.036067014422491515,0.04718244621459578,0.05400319657367499,0.03419728339825824,0.04109153584450396,0.03380570775131209,0.03879171126950702,0.03192399485029091,0.048642700260722135,0.036681244020973246,0.032673191762949014,0.03669737780944029,0.05183459606766996,0.042528500617824275,0.04166628929357611,0.0472940070289817,0.04211294986225758,0.0626674919513442,0.030354986396468556,0.04612361770950848,0.03222017545388546,0.04647490381857463,0.04049301784238713,0.04118431823149591,0.0593274931494903,0.03600926746895537,0.029795988269729363,0.03488592448292525,0.05218481487214128,0.024483044469509975,0.03828713628492761,0.044024759908979694,0.04152132541023963,0.030880443478338786,0.0396749351717038,0.036572861778462924,0.04830198466716546,0.03503680926525177,0.04858709384646384,0.03596767557386476,0.031131312805868176,0.047833376629199474,0.04720725076172151,0.04432449456558604,0.029819304542037083,0.042906040106809054,0.03793073258322875,0.045965131936190694,0.044089455262762346,0.03865408507978217,0.030808599304784644,0.05035078860318302,0.04336778516520745,0.04255868758432119,0.044916258172920456,0.04074817685675334,0.04020187289032889,0.04310640196734087,0.03586096695979686,0.053817940318105724,0.05637199031533247,0.045995511126323364,0.04002549701907369,0.056179294940577565,0.042135566887436006,0.047504976765309855,0.05571632094041714,0.06603279046981861,0.02617561296074815,0.03572503136456797,0.03381985026726486,0.028476123405783097,0.025116602017157263,0.06599640107487247,0.04819394204393706,0.04511892612943563,0.039356681241049296,0.04075460552224175,0.042697128081292106,0.05018420456282846,0.03945623544221251,0.023809823296926522,0.03835827833929758,0.03957750706589639,0.04218307144282979,0.047957267642134684,0.04634620480705277,0.04231908208714944,0.03358280738856905,0.04877772754573079,0.04510815271340884,0.0508221544583049,0.036142617719002214,0.03595763582662965,0.039384995614456526,0.045495648944352325,0.04524249259138091,0.021233909179510492,0.04475948697688376,0.018820325811325804,0.04414931887213846,0.03171551423300874,0.03696872966148657,0.05604512558339135,0.052282354650729626,0.028961997682171448,0.043899310314736845,0.0350642711802943,0.025212637889214372,0.03826915682085422,0.03385234841070486,0.02457629878190151,0.052815853323237925,0.043992807486019775,0.02958241357214464,0.04262855427346143,0.024261655685933848,0.04234214305031213,0.03366243749411746,0.05143709073805293,0.031031260608026613,0.04097070624041807,0.026733222200034285,0.026300406734237215,0.05484069413486131,0.03355503397460961,0.049532809122111054,0.04358008694664647,0.04366636252027869,0.043873719946818455,0.043227881930885635,0.036246052849833704,0.04378343926010516,0.034409691182428565,0.03584222976188645,0.03194625004289193,0.03088349202386939,0.028207115835421247,0.038492826064078035,0.03134824274177654,0.033563474386893666,0.033610290851030795,0.04540806382547413,0.04519406801830267,0.04821089311017113,0.056948925904706245,0.032964633859727796,0.05064095154470581,0.03983115825904334,0.04322615125497256,0.030228709069611642,0.022909687775622932,0.04595400429100989,0.023194265246350706,0.018896615047391145,0.038619637805997795,0.03381725095743084,0.041253021039723135,0.06824079240737488,0.045472129024241206,0.0337967176612202,0.061031563787699396,0.03828832187222678,0.03623706091475389,0.03563016067435735,0.041526784321582334,0.032626989714940366,0.036474840446444695,0.03724133872344997,0.05380472708716397,0.05040071329114443,0.029923491961627042,0.042175366182797686,0.05412496879019648,0.02174602111687811,0.03829148404008094,0.030369469853732078,0.046150603787536805,0.03066725617452554,0.035693426900479545,0.04675037658844969,0.04155092263852099,0.03445439094696712,0.0551574108376941,0.029898932381193306,0.04360194217842839,0.05496308715476087,0.05392158884273621,0.024805538452520554,0.05142023409108765,0.043674050141078266,0.03691020970527252,0.03938617670843602,0.040681890044313065,0.03820068455470011,0.044234644215306436,0.053646935385504226,0.055437103305844955,0.05959185117515591,0.06476161922471134,0.043461850168700564,0.05015211866581068,0.038961679287805646,0.03707519703963234,0.03613772399367333,0.03080844210879219,0.03745124793173061,0.041631072880176374,0.04538746017615332,0.034486027526419466,0.03772896739587547,0.02277002435574207,0.031026302850551867,0.03400340895353901,0.04369370088412379,0.04747397216578818,0.0325369042698886,0.025223103508052253,0.04624799454172945,0.03636394587798149,0.04394969762245725,0.04263478497510987,0.019486101981943345,0.049213699796533075,0.045510008144664174,0.022963666582323215,0.025437643004237186,0.03172070905635106,0.06129986187000016,0.06050008755462655,0.03229600256221482,0.03898118689833388,0.04694492646743267,0.037118215469383556,0.03508063073823832,0.04518198391980742,0.035035727257747326,0.03275667472368339,0.042164728316253244,0.04506781222238976,0.0233080526703165,0.05811863963956837,0.04053167008418941,0.05181220672380727,0.042277360773217344,0.03868371669215684,0.032081431659649134,0.05532879312225585,0.024050792805880055,0.051861561619240354,0.043152990857429754,0.04614859043937945,0.04371982224464654,0.04026647278699715,0.03088371765189779,0.03888045828953784,0.051366391505103866,0.048364286379505905,0.026091295507720436,0.06371181467917866,0.04120698936997482,0.03268146106596582,0.04649943099950674,0.030661175808771774,0.018907136770476406,0.04477660967411803,0.05641728777455839,0.041918899391073274,0.05491927522758777,0.036259654075291026,0.04493176338208445,0.046220484856288005,0.05440405813864516,0.022679477353994518,0.03689907282125083,0.03331509560826002,0.04328294712003728,0.043618372055498636,0.03532176010846676,0.0427534398935806,0.04748197448584879,0.02641873239293767,0.056202579217584425,0.028693477144653645,0.03342199336312111,0.02869301462319101,0.03354142792018343,0.03779332407102635,0.04038809117664752,0.038472647676442887,0.053336934809687396,0.02916401031078735,0.038129370962611375,0.054444729300700725,0.04274964669020612,0.022153734852826144,0.03007016429754075,0.04562797967352177,0.03887363450616222,0.04727738986660844,0.05163512185188105,0.04750945357125923],\"yaxis\":\"y\",\"type\":\"scattergl\"}],                        {\"template\":{\"data\":{\"histogram2dcontour\":[{\"type\":\"histogram2dcontour\",\"colorbar\":{\"outlinewidth\":0,\"ticks\":\"\"},\"colorscale\":[[0.0,\"#0d0887\"],[0.1111111111111111,\"#46039f\"],[0.2222222222222222,\"#7201a8\"],[0.3333333333333333,\"#9c179e\"],[0.4444444444444444,\"#bd3786\"],[0.5555555555555556,\"#d8576b\"],[0.6666666666666666,\"#ed7953\"],[0.7777777777777778,\"#fb9f3a\"],[0.8888888888888888,\"#fdca26\"],[1.0,\"#f0f921\"]]}],\"choropleth\":[{\"type\":\"choropleth\",\"colorbar\":{\"outlinewidth\":0,\"ticks\":\"\"}}],\"histogram2d\":[{\"type\":\"histogram2d\",\"colorbar\":{\"outlinewidth\":0,\"ticks\":\"\"},\"colorscale\":[[0.0,\"#0d0887\"],[0.1111111111111111,\"#46039f\"],[0.2222222222222222,\"#7201a8\"],[0.3333333333333333,\"#9c179e\"],[0.4444444444444444,\"#bd3786\"],[0.5555555555555556,\"#d8576b\"],[0.6666666666666666,\"#ed7953\"],[0.7777777777777778,\"#fb9f3a\"],[0.8888888888888888,\"#fdca26\"],[1.0,\"#f0f921\"]]}],\"heatmap\":[{\"type\":\"heatmap\",\"colorbar\":{\"outlinewidth\":0,\"ticks\":\"\"},\"colorscale\":[[0.0,\"#0d0887\"],[0.1111111111111111,\"#46039f\"],[0.2222222222222222,\"#7201a8\"],[0.3333333333333333,\"#9c179e\"],[0.4444444444444444,\"#bd3786\"],[0.5555555555555556,\"#d8576b\"],[0.6666666666666666,\"#ed7953\"],[0.7777777777777778,\"#fb9f3a\"],[0.8888888888888888,\"#fdca26\"],[1.0,\"#f0f921\"]]}],\"heatmapgl\":[{\"type\":\"heatmapgl\",\"colorbar\":{\"outlinewidth\":0,\"ticks\":\"\"},\"colorscale\":[[0.0,\"#0d0887\"],[0.1111111111111111,\"#46039f\"],[0.2222222222222222,\"#7201a8\"],[0.3333333333333333,\"#9c179e\"],[0.4444444444444444,\"#bd3786\"],[0.5555555555555556,\"#d8576b\"],[0.6666666666666666,\"#ed7953\"],[0.7777777777777778,\"#fb9f3a\"],[0.8888888888888888,\"#fdca26\"],[1.0,\"#f0f921\"]]}],\"contourcarpet\":[{\"type\":\"contourcarpet\",\"colorbar\":{\"outlinewidth\":0,\"ticks\":\"\"}}],\"contour\":[{\"type\":\"contour\",\"colorbar\":{\"outlinewidth\":0,\"ticks\":\"\"},\"colorscale\":[[0.0,\"#0d0887\"],[0.1111111111111111,\"#46039f\"],[0.2222222222222222,\"#7201a8\"],[0.3333333333333333,\"#9c179e\"],[0.4444444444444444,\"#bd3786\"],[0.5555555555555556,\"#d8576b\"],[0.6666666666666666,\"#ed7953\"],[0.7777777777777778,\"#fb9f3a\"],[0.8888888888888888,\"#fdca26\"],[1.0,\"#f0f921\"]]}],\"surface\":[{\"type\":\"surface\",\"colorbar\":{\"outlinewidth\":0,\"ticks\":\"\"},\"colorscale\":[[0.0,\"#0d0887\"],[0.1111111111111111,\"#46039f\"],[0.2222222222222222,\"#7201a8\"],[0.3333333333333333,\"#9c179e\"],[0.4444444444444444,\"#bd3786\"],[0.5555555555555556,\"#d8576b\"],[0.6666666666666666,\"#ed7953\"],[0.7777777777777778,\"#fb9f3a\"],[0.8888888888888888,\"#fdca26\"],[1.0,\"#f0f921\"]]}],\"mesh3d\":[{\"type\":\"mesh3d\",\"colorbar\":{\"outlinewidth\":0,\"ticks\":\"\"}}],\"scatter\":[{\"fillpattern\":{\"fillmode\":\"overlay\",\"size\":10,\"solidity\":0.2},\"type\":\"scatter\"}],\"parcoords\":[{\"type\":\"parcoords\",\"line\":{\"colorbar\":{\"outlinewidth\":0,\"ticks\":\"\"}}}],\"scatterpolargl\":[{\"type\":\"scatterpolargl\",\"marker\":{\"colorbar\":{\"outlinewidth\":0,\"ticks\":\"\"}}}],\"bar\":[{\"error_x\":{\"color\":\"#2a3f5f\"},\"error_y\":{\"color\":\"#2a3f5f\"},\"marker\":{\"line\":{\"color\":\"#E5ECF6\",\"width\":0.5},\"pattern\":{\"fillmode\":\"overlay\",\"size\":10,\"solidity\":0.2}},\"type\":\"bar\"}],\"scattergeo\":[{\"type\":\"scattergeo\",\"marker\":{\"colorbar\":{\"outlinewidth\":0,\"ticks\":\"\"}}}],\"scatterpolar\":[{\"type\":\"scatterpolar\",\"marker\":{\"colorbar\":{\"outlinewidth\":0,\"ticks\":\"\"}}}],\"histogram\":[{\"marker\":{\"pattern\":{\"fillmode\":\"overlay\",\"size\":10,\"solidity\":0.2}},\"type\":\"histogram\"}],\"scattergl\":[{\"type\":\"scattergl\",\"marker\":{\"colorbar\":{\"outlinewidth\":0,\"ticks\":\"\"}}}],\"scatter3d\":[{\"type\":\"scatter3d\",\"line\":{\"colorbar\":{\"outlinewidth\":0,\"ticks\":\"\"}},\"marker\":{\"colorbar\":{\"outlinewidth\":0,\"ticks\":\"\"}}}],\"scattermapbox\":[{\"type\":\"scattermapbox\",\"marker\":{\"colorbar\":{\"outlinewidth\":0,\"ticks\":\"\"}}}],\"scatterternary\":[{\"type\":\"scatterternary\",\"marker\":{\"colorbar\":{\"outlinewidth\":0,\"ticks\":\"\"}}}],\"scattercarpet\":[{\"type\":\"scattercarpet\",\"marker\":{\"colorbar\":{\"outlinewidth\":0,\"ticks\":\"\"}}}],\"carpet\":[{\"aaxis\":{\"endlinecolor\":\"#2a3f5f\",\"gridcolor\":\"white\",\"linecolor\":\"white\",\"minorgridcolor\":\"white\",\"startlinecolor\":\"#2a3f5f\"},\"baxis\":{\"endlinecolor\":\"#2a3f5f\",\"gridcolor\":\"white\",\"linecolor\":\"white\",\"minorgridcolor\":\"white\",\"startlinecolor\":\"#2a3f5f\"},\"type\":\"carpet\"}],\"table\":[{\"cells\":{\"fill\":{\"color\":\"#EBF0F8\"},\"line\":{\"color\":\"white\"}},\"header\":{\"fill\":{\"color\":\"#C8D4E3\"},\"line\":{\"color\":\"white\"}},\"type\":\"table\"}],\"barpolar\":[{\"marker\":{\"line\":{\"color\":\"#E5ECF6\",\"width\":0.5},\"pattern\":{\"fillmode\":\"overlay\",\"size\":10,\"solidity\":0.2}},\"type\":\"barpolar\"}],\"pie\":[{\"automargin\":true,\"type\":\"pie\"}]},\"layout\":{\"autotypenumbers\":\"strict\",\"colorway\":[\"#636efa\",\"#EF553B\",\"#00cc96\",\"#ab63fa\",\"#FFA15A\",\"#19d3f3\",\"#FF6692\",\"#B6E880\",\"#FF97FF\",\"#FECB52\"],\"font\":{\"color\":\"#2a3f5f\"},\"hovermode\":\"closest\",\"hoverlabel\":{\"align\":\"left\"},\"paper_bgcolor\":\"white\",\"plot_bgcolor\":\"#E5ECF6\",\"polar\":{\"bgcolor\":\"#E5ECF6\",\"angularaxis\":{\"gridcolor\":\"white\",\"linecolor\":\"white\",\"ticks\":\"\"},\"radialaxis\":{\"gridcolor\":\"white\",\"linecolor\":\"white\",\"ticks\":\"\"}},\"ternary\":{\"bgcolor\":\"#E5ECF6\",\"aaxis\":{\"gridcolor\":\"white\",\"linecolor\":\"white\",\"ticks\":\"\"},\"baxis\":{\"gridcolor\":\"white\",\"linecolor\":\"white\",\"ticks\":\"\"},\"caxis\":{\"gridcolor\":\"white\",\"linecolor\":\"white\",\"ticks\":\"\"}},\"coloraxis\":{\"colorbar\":{\"outlinewidth\":0,\"ticks\":\"\"}},\"colorscale\":{\"sequential\":[[0.0,\"#0d0887\"],[0.1111111111111111,\"#46039f\"],[0.2222222222222222,\"#7201a8\"],[0.3333333333333333,\"#9c179e\"],[0.4444444444444444,\"#bd3786\"],[0.5555555555555556,\"#d8576b\"],[0.6666666666666666,\"#ed7953\"],[0.7777777777777778,\"#fb9f3a\"],[0.8888888888888888,\"#fdca26\"],[1.0,\"#f0f921\"]],\"sequentialminus\":[[0.0,\"#0d0887\"],[0.1111111111111111,\"#46039f\"],[0.2222222222222222,\"#7201a8\"],[0.3333333333333333,\"#9c179e\"],[0.4444444444444444,\"#bd3786\"],[0.5555555555555556,\"#d8576b\"],[0.6666666666666666,\"#ed7953\"],[0.7777777777777778,\"#fb9f3a\"],[0.8888888888888888,\"#fdca26\"],[1.0,\"#f0f921\"]],\"diverging\":[[0,\"#8e0152\"],[0.1,\"#c51b7d\"],[0.2,\"#de77ae\"],[0.3,\"#f1b6da\"],[0.4,\"#fde0ef\"],[0.5,\"#f7f7f7\"],[0.6,\"#e6f5d0\"],[0.7,\"#b8e186\"],[0.8,\"#7fbc41\"],[0.9,\"#4d9221\"],[1,\"#276419\"]]},\"xaxis\":{\"gridcolor\":\"white\",\"linecolor\":\"white\",\"ticks\":\"\",\"title\":{\"standoff\":15},\"zerolinecolor\":\"white\",\"automargin\":true,\"zerolinewidth\":2},\"yaxis\":{\"gridcolor\":\"white\",\"linecolor\":\"white\",\"ticks\":\"\",\"title\":{\"standoff\":15},\"zerolinecolor\":\"white\",\"automargin\":true,\"zerolinewidth\":2},\"scene\":{\"xaxis\":{\"backgroundcolor\":\"#E5ECF6\",\"gridcolor\":\"white\",\"linecolor\":\"white\",\"showbackground\":true,\"ticks\":\"\",\"zerolinecolor\":\"white\",\"gridwidth\":2},\"yaxis\":{\"backgroundcolor\":\"#E5ECF6\",\"gridcolor\":\"white\",\"linecolor\":\"white\",\"showbackground\":true,\"ticks\":\"\",\"zerolinecolor\":\"white\",\"gridwidth\":2},\"zaxis\":{\"backgroundcolor\":\"#E5ECF6\",\"gridcolor\":\"white\",\"linecolor\":\"white\",\"showbackground\":true,\"ticks\":\"\",\"zerolinecolor\":\"white\",\"gridwidth\":2}},\"shapedefaults\":{\"line\":{\"color\":\"#2a3f5f\"}},\"annotationdefaults\":{\"arrowcolor\":\"#2a3f5f\",\"arrowhead\":0,\"arrowwidth\":1},\"geo\":{\"bgcolor\":\"white\",\"landcolor\":\"#E5ECF6\",\"subunitcolor\":\"white\",\"showland\":true,\"showlakes\":true,\"lakecolor\":\"white\"},\"title\":{\"x\":0.05},\"mapbox\":{\"style\":\"light\"}}},\"xaxis\":{\"anchor\":\"y\",\"domain\":[0.0,1.0],\"title\":{\"text\":\"Epoch\"}},\"yaxis\":{\"anchor\":\"x\",\"domain\":[0.0,1.0],\"title\":{\"text\":\"Loss\"}},\"legend\":{\"tracegroupgap\":0},\"title\":{\"text\":\"Train Loss Curve\"}},                        {\"responsive\": true}                    ).then(function(){\n",
              "                            \n",
              "var gd = document.getElementById('1a280ea6-9ed2-4de1-97d9-244b472b07d6');\n",
              "var x = new MutationObserver(function (mutations, observer) {{\n",
              "        var display = window.getComputedStyle(gd).display;\n",
              "        if (!display || display === 'none') {{\n",
              "            console.log([gd, 'removed!']);\n",
              "            Plotly.purge(gd);\n",
              "            observer.disconnect();\n",
              "        }}\n",
              "}});\n",
              "\n",
              "// Listen for the removal of the full notebook cells\n",
              "var notebookContainer = gd.closest('#notebook-container');\n",
              "if (notebookContainer) {{\n",
              "    x.observe(notebookContainer, {childList: true});\n",
              "}}\n",
              "\n",
              "// Listen for the clearing of the current output cell\n",
              "var outputEl = gd.closest('.output');\n",
              "if (outputEl) {{\n",
              "    x.observe(outputEl, {childList: true});\n",
              "}}\n",
              "\n",
              "                        })                };                            </script>        </div>\n",
              "</body>\n",
              "</html>"
            ]
          },
          "metadata": {}
        }
      ]
    },
    {
      "cell_type": "markdown",
      "source": [
        "## Sanity check"
      ],
      "metadata": {
        "id": "cbzaeQo7k1ec"
      }
    },
    {
      "cell_type": "code",
      "source": [
        "test_sample = next(train_data_loader).to(device)\n",
        "print(test_sample.shape)"
      ],
      "metadata": {
        "colab": {
          "base_uri": "https://localhost:8080/"
        },
        "id": "Na7BdaSgk2w7",
        "outputId": "01b748c4-5879-41f4-d51c-2c65705a7e1e"
      },
      "execution_count": 19,
      "outputs": [
        {
          "output_type": "stream",
          "name": "stdout",
          "text": [
            "torch.Size([256, 10])\n"
          ]
        }
      ]
    },
    {
      "cell_type": "code",
      "source": [
        "with torch.inference_mode():\n",
        "    logits = model(test_sample)\n",
        "    logits = logits[:, 1:]\n",
        "    labels = test_sample[:, :-1]\n",
        "    preds = logits.argmax(dim=-1)\n",
        "    acc = (preds == labels).float().mean()\n",
        "    print(\"Accuracy on test sample:\", acc.item())"
      ],
      "metadata": {
        "colab": {
          "base_uri": "https://localhost:8080/"
        },
        "id": "LfknQEWqk7UO",
        "outputId": "882e3710-d4e7-4b3a-d4bc-3fce78ba0515"
      },
      "execution_count": 20,
      "outputs": [
        {
          "output_type": "stream",
          "name": "stdout",
          "text": [
            "Accuracy on test sample: 0.9921875\n"
          ]
        }
      ]
    },
    {
      "cell_type": "markdown",
      "source": [
        "# Save model"
      ],
      "metadata": {
        "id": "8h9Rfbu_rZcA"
      }
    },
    {
      "cell_type": "code",
      "source": [
        "%mkdir ../models"
      ],
      "metadata": {
        "id": "ohMv5fTVrbjI"
      },
      "execution_count": 21,
      "outputs": []
    },
    {
      "cell_type": "code",
      "source": [
        "filename = \"../models/rederive_position_model.pt\"\n",
        "torch.save(model.state_dict(), filename)"
      ],
      "metadata": {
        "id": "_8y7sCr1rakX"
      },
      "execution_count": 22,
      "outputs": []
    },
    {
      "cell_type": "code",
      "source": [
        "# check we can load in model\n",
        "MAX_NUM=100\n",
        "cfg = HookedTransformerConfig(\n",
        "    n_layers=2,\n",
        "    n_heads=1,\n",
        "    d_model=128,\n",
        "    d_head=128,\n",
        "    attn_only=True,\n",
        "    normalization_type=None,\n",
        "    n_ctx=10,\n",
        "    d_vocab=MAX_NUM+1, # 0,...,MAX_NUM-1, BOS\n",
        "    device=device,\n",
        "    seed=0\n",
        ")\n",
        "\n",
        "loaded_model = HookedTransformer(cfg)\n",
        "loaded_model.load_state_dict(torch.load(filename), strict=True)"
      ],
      "metadata": {
        "colab": {
          "base_uri": "https://localhost:8080/"
        },
        "id": "oiVNp5YTrk4i",
        "outputId": "38854b08-d72e-4fe0-d551-87d7f3b3a1a6"
      },
      "execution_count": 23,
      "outputs": [
        {
          "output_type": "execute_result",
          "data": {
            "text/plain": [
              "<All keys matched successfully>"
            ]
          },
          "metadata": {},
          "execution_count": 23
        }
      ]
    }
  ]
}