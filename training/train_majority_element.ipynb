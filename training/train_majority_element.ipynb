{
  "nbformat": 4,
  "nbformat_minor": 0,
  "metadata": {
    "colab": {
      "provenance": [],
      "toc_visible": true,
      "collapsed_sections": [
        "JeENCT8b1kAv"
      ],
      "authorship_tag": "ABX9TyOgXiNJLHA/AFG0wXP8XilT",
      "include_colab_link": true
    },
    "kernelspec": {
      "name": "python3",
      "display_name": "Python 3"
    },
    "language_info": {
      "name": "python"
    },
    "accelerator": "GPU",
    "gpuClass": "standard",
    "widgets": {
      "application/vnd.jupyter.widget-state+json": {
        "f8117775a0ba429c817e71ec8e6317c4": {
          "model_module": "@jupyter-widgets/controls",
          "model_name": "HBoxModel",
          "model_module_version": "1.5.0",
          "state": {
            "_dom_classes": [],
            "_model_module": "@jupyter-widgets/controls",
            "_model_module_version": "1.5.0",
            "_model_name": "HBoxModel",
            "_view_count": null,
            "_view_module": "@jupyter-widgets/controls",
            "_view_module_version": "1.5.0",
            "_view_name": "HBoxView",
            "box_style": "",
            "children": [
              "IPY_MODEL_91c25c593a2743a08c4f827c5270e70c",
              "IPY_MODEL_167d391943a04d73bad3553967aff21d",
              "IPY_MODEL_2c5d90fa2ea244df92f128970cb74547"
            ],
            "layout": "IPY_MODEL_2ada574d488840f7b6c5043b38ffe2c4"
          }
        },
        "91c25c593a2743a08c4f827c5270e70c": {
          "model_module": "@jupyter-widgets/controls",
          "model_name": "HTMLModel",
          "model_module_version": "1.5.0",
          "state": {
            "_dom_classes": [],
            "_model_module": "@jupyter-widgets/controls",
            "_model_module_version": "1.5.0",
            "_model_name": "HTMLModel",
            "_view_count": null,
            "_view_module": "@jupyter-widgets/controls",
            "_view_module_version": "1.5.0",
            "_view_name": "HTMLView",
            "description": "",
            "description_tooltip": null,
            "layout": "IPY_MODEL_e0606f885c814eb3ab5af48fbf15040a",
            "placeholder": "​",
            "style": "IPY_MODEL_da47ab75e0ba4365ad20544c117659fc",
            "value": "100%"
          }
        },
        "167d391943a04d73bad3553967aff21d": {
          "model_module": "@jupyter-widgets/controls",
          "model_name": "FloatProgressModel",
          "model_module_version": "1.5.0",
          "state": {
            "_dom_classes": [],
            "_model_module": "@jupyter-widgets/controls",
            "_model_module_version": "1.5.0",
            "_model_name": "FloatProgressModel",
            "_view_count": null,
            "_view_module": "@jupyter-widgets/controls",
            "_view_module_version": "1.5.0",
            "_view_name": "ProgressView",
            "bar_style": "success",
            "description": "",
            "description_tooltip": null,
            "layout": "IPY_MODEL_9e556bae7f3943f7be835197d0c632ac",
            "max": 4000,
            "min": 0,
            "orientation": "horizontal",
            "style": "IPY_MODEL_e86c63705d6b4019a08efa90081d6f34",
            "value": 4000
          }
        },
        "2c5d90fa2ea244df92f128970cb74547": {
          "model_module": "@jupyter-widgets/controls",
          "model_name": "HTMLModel",
          "model_module_version": "1.5.0",
          "state": {
            "_dom_classes": [],
            "_model_module": "@jupyter-widgets/controls",
            "_model_module_version": "1.5.0",
            "_model_name": "HTMLModel",
            "_view_count": null,
            "_view_module": "@jupyter-widgets/controls",
            "_view_module_version": "1.5.0",
            "_view_name": "HTMLView",
            "description": "",
            "description_tooltip": null,
            "layout": "IPY_MODEL_39a82e428f1e45b89ab411a2c03a6423",
            "placeholder": "​",
            "style": "IPY_MODEL_23c2a595be2b4977995b12f2bf964571",
            "value": " 4000/4000 [00:28&lt;00:00, 199.62it/s]"
          }
        },
        "2ada574d488840f7b6c5043b38ffe2c4": {
          "model_module": "@jupyter-widgets/base",
          "model_name": "LayoutModel",
          "model_module_version": "1.2.0",
          "state": {
            "_model_module": "@jupyter-widgets/base",
            "_model_module_version": "1.2.0",
            "_model_name": "LayoutModel",
            "_view_count": null,
            "_view_module": "@jupyter-widgets/base",
            "_view_module_version": "1.2.0",
            "_view_name": "LayoutView",
            "align_content": null,
            "align_items": null,
            "align_self": null,
            "border": null,
            "bottom": null,
            "display": null,
            "flex": null,
            "flex_flow": null,
            "grid_area": null,
            "grid_auto_columns": null,
            "grid_auto_flow": null,
            "grid_auto_rows": null,
            "grid_column": null,
            "grid_gap": null,
            "grid_row": null,
            "grid_template_areas": null,
            "grid_template_columns": null,
            "grid_template_rows": null,
            "height": null,
            "justify_content": null,
            "justify_items": null,
            "left": null,
            "margin": null,
            "max_height": null,
            "max_width": null,
            "min_height": null,
            "min_width": null,
            "object_fit": null,
            "object_position": null,
            "order": null,
            "overflow": null,
            "overflow_x": null,
            "overflow_y": null,
            "padding": null,
            "right": null,
            "top": null,
            "visibility": null,
            "width": null
          }
        },
        "e0606f885c814eb3ab5af48fbf15040a": {
          "model_module": "@jupyter-widgets/base",
          "model_name": "LayoutModel",
          "model_module_version": "1.2.0",
          "state": {
            "_model_module": "@jupyter-widgets/base",
            "_model_module_version": "1.2.0",
            "_model_name": "LayoutModel",
            "_view_count": null,
            "_view_module": "@jupyter-widgets/base",
            "_view_module_version": "1.2.0",
            "_view_name": "LayoutView",
            "align_content": null,
            "align_items": null,
            "align_self": null,
            "border": null,
            "bottom": null,
            "display": null,
            "flex": null,
            "flex_flow": null,
            "grid_area": null,
            "grid_auto_columns": null,
            "grid_auto_flow": null,
            "grid_auto_rows": null,
            "grid_column": null,
            "grid_gap": null,
            "grid_row": null,
            "grid_template_areas": null,
            "grid_template_columns": null,
            "grid_template_rows": null,
            "height": null,
            "justify_content": null,
            "justify_items": null,
            "left": null,
            "margin": null,
            "max_height": null,
            "max_width": null,
            "min_height": null,
            "min_width": null,
            "object_fit": null,
            "object_position": null,
            "order": null,
            "overflow": null,
            "overflow_x": null,
            "overflow_y": null,
            "padding": null,
            "right": null,
            "top": null,
            "visibility": null,
            "width": null
          }
        },
        "da47ab75e0ba4365ad20544c117659fc": {
          "model_module": "@jupyter-widgets/controls",
          "model_name": "DescriptionStyleModel",
          "model_module_version": "1.5.0",
          "state": {
            "_model_module": "@jupyter-widgets/controls",
            "_model_module_version": "1.5.0",
            "_model_name": "DescriptionStyleModel",
            "_view_count": null,
            "_view_module": "@jupyter-widgets/base",
            "_view_module_version": "1.2.0",
            "_view_name": "StyleView",
            "description_width": ""
          }
        },
        "9e556bae7f3943f7be835197d0c632ac": {
          "model_module": "@jupyter-widgets/base",
          "model_name": "LayoutModel",
          "model_module_version": "1.2.0",
          "state": {
            "_model_module": "@jupyter-widgets/base",
            "_model_module_version": "1.2.0",
            "_model_name": "LayoutModel",
            "_view_count": null,
            "_view_module": "@jupyter-widgets/base",
            "_view_module_version": "1.2.0",
            "_view_name": "LayoutView",
            "align_content": null,
            "align_items": null,
            "align_self": null,
            "border": null,
            "bottom": null,
            "display": null,
            "flex": null,
            "flex_flow": null,
            "grid_area": null,
            "grid_auto_columns": null,
            "grid_auto_flow": null,
            "grid_auto_rows": null,
            "grid_column": null,
            "grid_gap": null,
            "grid_row": null,
            "grid_template_areas": null,
            "grid_template_columns": null,
            "grid_template_rows": null,
            "height": null,
            "justify_content": null,
            "justify_items": null,
            "left": null,
            "margin": null,
            "max_height": null,
            "max_width": null,
            "min_height": null,
            "min_width": null,
            "object_fit": null,
            "object_position": null,
            "order": null,
            "overflow": null,
            "overflow_x": null,
            "overflow_y": null,
            "padding": null,
            "right": null,
            "top": null,
            "visibility": null,
            "width": null
          }
        },
        "e86c63705d6b4019a08efa90081d6f34": {
          "model_module": "@jupyter-widgets/controls",
          "model_name": "ProgressStyleModel",
          "model_module_version": "1.5.0",
          "state": {
            "_model_module": "@jupyter-widgets/controls",
            "_model_module_version": "1.5.0",
            "_model_name": "ProgressStyleModel",
            "_view_count": null,
            "_view_module": "@jupyter-widgets/base",
            "_view_module_version": "1.2.0",
            "_view_name": "StyleView",
            "bar_color": null,
            "description_width": ""
          }
        },
        "39a82e428f1e45b89ab411a2c03a6423": {
          "model_module": "@jupyter-widgets/base",
          "model_name": "LayoutModel",
          "model_module_version": "1.2.0",
          "state": {
            "_model_module": "@jupyter-widgets/base",
            "_model_module_version": "1.2.0",
            "_model_name": "LayoutModel",
            "_view_count": null,
            "_view_module": "@jupyter-widgets/base",
            "_view_module_version": "1.2.0",
            "_view_name": "LayoutView",
            "align_content": null,
            "align_items": null,
            "align_self": null,
            "border": null,
            "bottom": null,
            "display": null,
            "flex": null,
            "flex_flow": null,
            "grid_area": null,
            "grid_auto_columns": null,
            "grid_auto_flow": null,
            "grid_auto_rows": null,
            "grid_column": null,
            "grid_gap": null,
            "grid_row": null,
            "grid_template_areas": null,
            "grid_template_columns": null,
            "grid_template_rows": null,
            "height": null,
            "justify_content": null,
            "justify_items": null,
            "left": null,
            "margin": null,
            "max_height": null,
            "max_width": null,
            "min_height": null,
            "min_width": null,
            "object_fit": null,
            "object_position": null,
            "order": null,
            "overflow": null,
            "overflow_x": null,
            "overflow_y": null,
            "padding": null,
            "right": null,
            "top": null,
            "visibility": null,
            "width": null
          }
        },
        "23c2a595be2b4977995b12f2bf964571": {
          "model_module": "@jupyter-widgets/controls",
          "model_name": "DescriptionStyleModel",
          "model_module_version": "1.5.0",
          "state": {
            "_model_module": "@jupyter-widgets/controls",
            "_model_module_version": "1.5.0",
            "_model_name": "DescriptionStyleModel",
            "_view_count": null,
            "_view_module": "@jupyter-widgets/base",
            "_view_module_version": "1.2.0",
            "_view_name": "StyleView",
            "description_width": ""
          }
        }
      }
    }
  },
  "cells": [
    {
      "cell_type": "markdown",
      "metadata": {
        "id": "view-in-github",
        "colab_type": "text"
      },
      "source": [
        "<a href=\"https://colab.research.google.com/github/ckkissane/mech-interp-practice/blob/main/training/train_majority_element.ipynb\" target=\"_parent\"><img src=\"https://colab.research.google.com/assets/colab-badge.svg\" alt=\"Open In Colab\"/></a>"
      ]
    },
    {
      "cell_type": "markdown",
      "metadata": {
        "id": "JeENCT8b1kAv"
      },
      "source": [
        "# Setup\n",
        "(No need to read)"
      ]
    },
    {
      "cell_type": "code",
      "execution_count": 1,
      "metadata": {
        "id": "sxK_xiOO1kAv",
        "outputId": "ad9b491e-1b5d-4299-e63a-0eea4839a239",
        "colab": {
          "base_uri": "https://localhost:8080/",
          "height": 1000
        }
      },
      "outputs": [
        {
          "output_type": "stream",
          "name": "stdout",
          "text": [
            "Running as a Colab notebook\n",
            "Collecting git+https://github.com/neelnanda-io/TransformerLens.git\n",
            "  Cloning https://github.com/neelnanda-io/TransformerLens.git to /tmp/pip-req-build-apgdt_et\n",
            "  Running command git clone --filter=blob:none --quiet https://github.com/neelnanda-io/TransformerLens.git /tmp/pip-req-build-apgdt_et\n",
            "  Resolved https://github.com/neelnanda-io/TransformerLens.git to commit 10d2f8a026d73eada861c7d51064f7e24d8f482c\n",
            "  Installing build dependencies ... \u001b[?25l\u001b[?25hdone\n",
            "  Getting requirements to build wheel ... \u001b[?25l\u001b[?25hdone\n",
            "  Preparing metadata (pyproject.toml) ... \u001b[?25l\u001b[?25hdone\n",
            "Collecting beartype<0.15.0,>=0.14.1 (from transformer-lens==0.0.0)\n",
            "  Downloading beartype-0.14.1-py3-none-any.whl (739 kB)\n",
            "\u001b[2K     \u001b[90m━━━━━━━━━━━━━━━━━━━━━━━━━━━━━━━━━━━━━━━\u001b[0m \u001b[32m739.7/739.7 kB\u001b[0m \u001b[31m7.7 MB/s\u001b[0m eta \u001b[36m0:00:00\u001b[0m\n",
            "\u001b[?25hCollecting datasets>=2.7.1 (from transformer-lens==0.0.0)\n",
            "  Downloading datasets-2.14.3-py3-none-any.whl (519 kB)\n",
            "\u001b[2K     \u001b[90m━━━━━━━━━━━━━━━━━━━━━━━━━━━━━━━━━━━━━━\u001b[0m \u001b[32m519.1/519.1 kB\u001b[0m \u001b[31m14.4 MB/s\u001b[0m eta \u001b[36m0:00:00\u001b[0m\n",
            "\u001b[?25hCollecting einops>=0.6.0 (from transformer-lens==0.0.0)\n",
            "  Downloading einops-0.6.1-py3-none-any.whl (42 kB)\n",
            "\u001b[2K     \u001b[90m━━━━━━━━━━━━━━━━━━━━━━━━━━━━━━━━━━━━━━━━\u001b[0m \u001b[32m42.2/42.2 kB\u001b[0m \u001b[31m5.2 MB/s\u001b[0m eta \u001b[36m0:00:00\u001b[0m\n",
            "\u001b[?25hCollecting fancy-einsum>=0.0.3 (from transformer-lens==0.0.0)\n",
            "  Downloading fancy_einsum-0.0.3-py3-none-any.whl (6.2 kB)\n",
            "Collecting jaxtyping>=0.2.11 (from transformer-lens==0.0.0)\n",
            "  Downloading jaxtyping-0.2.20-py3-none-any.whl (24 kB)\n",
            "Collecting numpy>=1.23 (from transformer-lens==0.0.0)\n",
            "  Downloading numpy-1.25.2-cp310-cp310-manylinux_2_17_x86_64.manylinux2014_x86_64.whl (18.2 MB)\n",
            "\u001b[2K     \u001b[90m━━━━━━━━━━━━━━━━━━━━━━━━━━━━━━━━━━━━━━━━\u001b[0m \u001b[32m18.2/18.2 MB\u001b[0m \u001b[31m76.9 MB/s\u001b[0m eta \u001b[36m0:00:00\u001b[0m\n",
            "\u001b[?25hRequirement already satisfied: pandas>=1.1.5 in /usr/local/lib/python3.10/dist-packages (from transformer-lens==0.0.0) (1.5.3)\n",
            "Requirement already satisfied: rich>=12.6.0 in /usr/local/lib/python3.10/dist-packages (from transformer-lens==0.0.0) (13.4.2)\n",
            "Requirement already satisfied: torch>=1.10 in /usr/local/lib/python3.10/dist-packages (from transformer-lens==0.0.0) (2.0.1+cu118)\n",
            "Requirement already satisfied: tqdm>=4.64.1 in /usr/local/lib/python3.10/dist-packages (from transformer-lens==0.0.0) (4.65.0)\n",
            "Collecting transformers>=4.25.1 (from transformer-lens==0.0.0)\n",
            "  Downloading transformers-4.31.0-py3-none-any.whl (7.4 MB)\n",
            "\u001b[2K     \u001b[90m━━━━━━━━━━━━━━━━━━━━━━━━━━━━━━━━━━━━━━━━\u001b[0m \u001b[32m7.4/7.4 MB\u001b[0m \u001b[31m109.9 MB/s\u001b[0m eta \u001b[36m0:00:00\u001b[0m\n",
            "\u001b[?25hCollecting wandb>=0.13.5 (from transformer-lens==0.0.0)\n",
            "  Downloading wandb-0.15.8-py3-none-any.whl (2.1 MB)\n",
            "\u001b[2K     \u001b[90m━━━━━━━━━━━━━━━━━━━━━━━━━━━━━━━━━━━━━━━━\u001b[0m \u001b[32m2.1/2.1 MB\u001b[0m \u001b[31m91.9 MB/s\u001b[0m eta \u001b[36m0:00:00\u001b[0m\n",
            "\u001b[?25hRequirement already satisfied: pyarrow>=8.0.0 in /usr/local/lib/python3.10/dist-packages (from datasets>=2.7.1->transformer-lens==0.0.0) (9.0.0)\n",
            "Collecting dill<0.3.8,>=0.3.0 (from datasets>=2.7.1->transformer-lens==0.0.0)\n",
            "  Downloading dill-0.3.7-py3-none-any.whl (115 kB)\n",
            "\u001b[2K     \u001b[90m━━━━━━━━━━━━━━━━━━━━━━━━━━━━━━━━━━━━━━\u001b[0m \u001b[32m115.3/115.3 kB\u001b[0m \u001b[31m16.0 MB/s\u001b[0m eta \u001b[36m0:00:00\u001b[0m\n",
            "\u001b[?25hRequirement already satisfied: requests>=2.19.0 in /usr/local/lib/python3.10/dist-packages (from datasets>=2.7.1->transformer-lens==0.0.0) (2.27.1)\n",
            "Collecting xxhash (from datasets>=2.7.1->transformer-lens==0.0.0)\n",
            "  Downloading xxhash-3.3.0-cp310-cp310-manylinux_2_17_x86_64.manylinux2014_x86_64.whl (194 kB)\n",
            "\u001b[2K     \u001b[90m━━━━━━━━━━━━━━━━━━━━━━━━━━━━━━━━━━━━━━\u001b[0m \u001b[32m194.1/194.1 kB\u001b[0m \u001b[31m23.1 MB/s\u001b[0m eta \u001b[36m0:00:00\u001b[0m\n",
            "\u001b[?25hCollecting multiprocess (from datasets>=2.7.1->transformer-lens==0.0.0)\n",
            "  Downloading multiprocess-0.70.15-py310-none-any.whl (134 kB)\n",
            "\u001b[2K     \u001b[90m━━━━━━━━━━━━━━━━━━━━━━━━━━━━━━━━━━━━━━\u001b[0m \u001b[32m134.8/134.8 kB\u001b[0m \u001b[31m17.3 MB/s\u001b[0m eta \u001b[36m0:00:00\u001b[0m\n",
            "\u001b[?25hRequirement already satisfied: fsspec[http]>=2021.11.1 in /usr/local/lib/python3.10/dist-packages (from datasets>=2.7.1->transformer-lens==0.0.0) (2023.6.0)\n",
            "Requirement already satisfied: aiohttp in /usr/local/lib/python3.10/dist-packages (from datasets>=2.7.1->transformer-lens==0.0.0) (3.8.5)\n",
            "Collecting huggingface-hub<1.0.0,>=0.14.0 (from datasets>=2.7.1->transformer-lens==0.0.0)\n",
            "  Downloading huggingface_hub-0.16.4-py3-none-any.whl (268 kB)\n",
            "\u001b[2K     \u001b[90m━━━━━━━━━━━━━━━━━━━━━━━━━━━━━━━━━━━━━━\u001b[0m \u001b[32m268.8/268.8 kB\u001b[0m \u001b[31m28.2 MB/s\u001b[0m eta \u001b[36m0:00:00\u001b[0m\n",
            "\u001b[?25hRequirement already satisfied: packaging in /usr/local/lib/python3.10/dist-packages (from datasets>=2.7.1->transformer-lens==0.0.0) (23.1)\n",
            "Requirement already satisfied: pyyaml>=5.1 in /usr/local/lib/python3.10/dist-packages (from datasets>=2.7.1->transformer-lens==0.0.0) (6.0.1)\n",
            "Collecting typeguard>=2.13.3 (from jaxtyping>=0.2.11->transformer-lens==0.0.0)\n",
            "  Downloading typeguard-4.1.0-py3-none-any.whl (33 kB)\n",
            "Requirement already satisfied: typing-extensions>=3.7.4.1 in /usr/local/lib/python3.10/dist-packages (from jaxtyping>=0.2.11->transformer-lens==0.0.0) (4.7.1)\n",
            "Requirement already satisfied: python-dateutil>=2.8.1 in /usr/local/lib/python3.10/dist-packages (from pandas>=1.1.5->transformer-lens==0.0.0) (2.8.2)\n",
            "Requirement already satisfied: pytz>=2020.1 in /usr/local/lib/python3.10/dist-packages (from pandas>=1.1.5->transformer-lens==0.0.0) (2022.7.1)\n",
            "Requirement already satisfied: markdown-it-py>=2.2.0 in /usr/local/lib/python3.10/dist-packages (from rich>=12.6.0->transformer-lens==0.0.0) (3.0.0)\n",
            "Requirement already satisfied: pygments<3.0.0,>=2.13.0 in /usr/local/lib/python3.10/dist-packages (from rich>=12.6.0->transformer-lens==0.0.0) (2.14.0)\n",
            "Requirement already satisfied: filelock in /usr/local/lib/python3.10/dist-packages (from torch>=1.10->transformer-lens==0.0.0) (3.12.2)\n",
            "Requirement already satisfied: sympy in /usr/local/lib/python3.10/dist-packages (from torch>=1.10->transformer-lens==0.0.0) (1.11.1)\n",
            "Requirement already satisfied: networkx in /usr/local/lib/python3.10/dist-packages (from torch>=1.10->transformer-lens==0.0.0) (3.1)\n",
            "Requirement already satisfied: jinja2 in /usr/local/lib/python3.10/dist-packages (from torch>=1.10->transformer-lens==0.0.0) (3.1.2)\n",
            "Requirement already satisfied: triton==2.0.0 in /usr/local/lib/python3.10/dist-packages (from torch>=1.10->transformer-lens==0.0.0) (2.0.0)\n",
            "Requirement already satisfied: cmake in /usr/local/lib/python3.10/dist-packages (from triton==2.0.0->torch>=1.10->transformer-lens==0.0.0) (3.25.2)\n",
            "Requirement already satisfied: lit in /usr/local/lib/python3.10/dist-packages (from triton==2.0.0->torch>=1.10->transformer-lens==0.0.0) (16.0.6)\n",
            "Requirement already satisfied: regex!=2019.12.17 in /usr/local/lib/python3.10/dist-packages (from transformers>=4.25.1->transformer-lens==0.0.0) (2022.10.31)\n",
            "Collecting tokenizers!=0.11.3,<0.14,>=0.11.1 (from transformers>=4.25.1->transformer-lens==0.0.0)\n",
            "  Downloading tokenizers-0.13.3-cp310-cp310-manylinux_2_17_x86_64.manylinux2014_x86_64.whl (7.8 MB)\n",
            "\u001b[2K     \u001b[90m━━━━━━━━━━━━━━━━━━━━━━━━━━━━━━━━━━━━━━━━\u001b[0m \u001b[32m7.8/7.8 MB\u001b[0m \u001b[31m85.1 MB/s\u001b[0m eta \u001b[36m0:00:00\u001b[0m\n",
            "\u001b[?25hCollecting safetensors>=0.3.1 (from transformers>=4.25.1->transformer-lens==0.0.0)\n",
            "  Downloading safetensors-0.3.1-cp310-cp310-manylinux_2_17_x86_64.manylinux2014_x86_64.whl (1.3 MB)\n",
            "\u001b[2K     \u001b[90m━━━━━━━━━━━━━━━━━━━━━━━━━━━━━━━━━━━━━━━━\u001b[0m \u001b[32m1.3/1.3 MB\u001b[0m \u001b[31m79.4 MB/s\u001b[0m eta \u001b[36m0:00:00\u001b[0m\n",
            "\u001b[?25hRequirement already satisfied: Click!=8.0.0,>=7.1 in /usr/local/lib/python3.10/dist-packages (from wandb>=0.13.5->transformer-lens==0.0.0) (8.1.6)\n",
            "Collecting GitPython!=3.1.29,>=1.0.0 (from wandb>=0.13.5->transformer-lens==0.0.0)\n",
            "  Downloading GitPython-3.1.32-py3-none-any.whl (188 kB)\n",
            "\u001b[2K     \u001b[90m━━━━━━━━━━━━━━━━━━━━━━━━━━━━━━━━━━━━━━\u001b[0m \u001b[32m188.5/188.5 kB\u001b[0m \u001b[31m21.5 MB/s\u001b[0m eta \u001b[36m0:00:00\u001b[0m\n",
            "\u001b[?25hRequirement already satisfied: psutil>=5.0.0 in /usr/local/lib/python3.10/dist-packages (from wandb>=0.13.5->transformer-lens==0.0.0) (5.9.5)\n",
            "Collecting sentry-sdk>=1.0.0 (from wandb>=0.13.5->transformer-lens==0.0.0)\n",
            "  Downloading sentry_sdk-1.29.2-py2.py3-none-any.whl (215 kB)\n",
            "\u001b[2K     \u001b[90m━━━━━━━━━━━━━━━━━━━━━━━━━━━━━━━━━━━━━━\u001b[0m \u001b[32m215.6/215.6 kB\u001b[0m \u001b[31m25.8 MB/s\u001b[0m eta \u001b[36m0:00:00\u001b[0m\n",
            "\u001b[?25hCollecting docker-pycreds>=0.4.0 (from wandb>=0.13.5->transformer-lens==0.0.0)\n",
            "  Downloading docker_pycreds-0.4.0-py2.py3-none-any.whl (9.0 kB)\n",
            "Collecting pathtools (from wandb>=0.13.5->transformer-lens==0.0.0)\n",
            "  Downloading pathtools-0.1.2.tar.gz (11 kB)\n",
            "  Preparing metadata (setup.py) ... \u001b[?25l\u001b[?25hdone\n",
            "Collecting setproctitle (from wandb>=0.13.5->transformer-lens==0.0.0)\n",
            "  Downloading setproctitle-1.3.2-cp310-cp310-manylinux_2_5_x86_64.manylinux1_x86_64.manylinux_2_17_x86_64.manylinux2014_x86_64.whl (30 kB)\n",
            "Requirement already satisfied: setuptools in /usr/local/lib/python3.10/dist-packages (from wandb>=0.13.5->transformer-lens==0.0.0) (67.7.2)\n",
            "Requirement already satisfied: appdirs>=1.4.3 in /usr/local/lib/python3.10/dist-packages (from wandb>=0.13.5->transformer-lens==0.0.0) (1.4.4)\n",
            "Requirement already satisfied: protobuf!=4.21.0,<5,>=3.19.0 in /usr/local/lib/python3.10/dist-packages (from wandb>=0.13.5->transformer-lens==0.0.0) (3.20.3)\n",
            "Requirement already satisfied: six>=1.4.0 in /usr/local/lib/python3.10/dist-packages (from docker-pycreds>=0.4.0->wandb>=0.13.5->transformer-lens==0.0.0) (1.16.0)\n",
            "Requirement already satisfied: attrs>=17.3.0 in /usr/local/lib/python3.10/dist-packages (from aiohttp->datasets>=2.7.1->transformer-lens==0.0.0) (23.1.0)\n",
            "Requirement already satisfied: charset-normalizer<4.0,>=2.0 in /usr/local/lib/python3.10/dist-packages (from aiohttp->datasets>=2.7.1->transformer-lens==0.0.0) (2.0.12)\n",
            "Requirement already satisfied: multidict<7.0,>=4.5 in /usr/local/lib/python3.10/dist-packages (from aiohttp->datasets>=2.7.1->transformer-lens==0.0.0) (6.0.4)\n",
            "Requirement already satisfied: async-timeout<5.0,>=4.0.0a3 in /usr/local/lib/python3.10/dist-packages (from aiohttp->datasets>=2.7.1->transformer-lens==0.0.0) (4.0.2)\n",
            "Requirement already satisfied: yarl<2.0,>=1.0 in /usr/local/lib/python3.10/dist-packages (from aiohttp->datasets>=2.7.1->transformer-lens==0.0.0) (1.9.2)\n",
            "Requirement already satisfied: frozenlist>=1.1.1 in /usr/local/lib/python3.10/dist-packages (from aiohttp->datasets>=2.7.1->transformer-lens==0.0.0) (1.4.0)\n",
            "Requirement already satisfied: aiosignal>=1.1.2 in /usr/local/lib/python3.10/dist-packages (from aiohttp->datasets>=2.7.1->transformer-lens==0.0.0) (1.3.1)\n",
            "Collecting gitdb<5,>=4.0.1 (from GitPython!=3.1.29,>=1.0.0->wandb>=0.13.5->transformer-lens==0.0.0)\n",
            "  Downloading gitdb-4.0.10-py3-none-any.whl (62 kB)\n",
            "\u001b[2K     \u001b[90m━━━━━━━━━━━━━━━━━━━━━━━━━━━━━━━━━━━━━━━━\u001b[0m \u001b[32m62.7/62.7 kB\u001b[0m \u001b[31m7.9 MB/s\u001b[0m eta \u001b[36m0:00:00\u001b[0m\n",
            "\u001b[?25hRequirement already satisfied: mdurl~=0.1 in /usr/local/lib/python3.10/dist-packages (from markdown-it-py>=2.2.0->rich>=12.6.0->transformer-lens==0.0.0) (0.1.2)\n",
            "Requirement already satisfied: urllib3<1.27,>=1.21.1 in /usr/local/lib/python3.10/dist-packages (from requests>=2.19.0->datasets>=2.7.1->transformer-lens==0.0.0) (1.26.16)\n",
            "Requirement already satisfied: certifi>=2017.4.17 in /usr/local/lib/python3.10/dist-packages (from requests>=2.19.0->datasets>=2.7.1->transformer-lens==0.0.0) (2023.7.22)\n",
            "Requirement already satisfied: idna<4,>=2.5 in /usr/local/lib/python3.10/dist-packages (from requests>=2.19.0->datasets>=2.7.1->transformer-lens==0.0.0) (3.4)\n",
            "Requirement already satisfied: MarkupSafe>=2.0 in /usr/local/lib/python3.10/dist-packages (from jinja2->torch>=1.10->transformer-lens==0.0.0) (2.1.3)\n",
            "Requirement already satisfied: mpmath>=0.19 in /usr/local/lib/python3.10/dist-packages (from sympy->torch>=1.10->transformer-lens==0.0.0) (1.3.0)\n",
            "Collecting smmap<6,>=3.0.1 (from gitdb<5,>=4.0.1->GitPython!=3.1.29,>=1.0.0->wandb>=0.13.5->transformer-lens==0.0.0)\n",
            "  Downloading smmap-5.0.0-py3-none-any.whl (24 kB)\n",
            "Building wheels for collected packages: transformer-lens, pathtools\n",
            "  Building wheel for transformer-lens (pyproject.toml) ... \u001b[?25l\u001b[?25hdone\n",
            "  Created wheel for transformer-lens: filename=transformer_lens-0.0.0-py3-none-any.whl size=105856 sha256=8b8569bc6ad00f3b4d7748e92dcaec0688a67652fe6b37f8bea495ca076ad502\n",
            "  Stored in directory: /tmp/pip-ephem-wheel-cache-vok_6g4d/wheels/8a/1e/37/ffb9c15454a1725b13a9d9f5e74fb91725048884ad734b8c1f\n",
            "  Building wheel for pathtools (setup.py) ... \u001b[?25l\u001b[?25hdone\n",
            "  Created wheel for pathtools: filename=pathtools-0.1.2-py3-none-any.whl size=8791 sha256=6a5007e7a59a68488cc5ad36f9048645680790a0e25edf79e9ee44edf28dbe65\n",
            "  Stored in directory: /root/.cache/pip/wheels/e7/f3/22/152153d6eb222ee7a56ff8617d80ee5207207a8c00a7aab794\n",
            "Successfully built transformer-lens pathtools\n",
            "Installing collected packages: tokenizers, safetensors, pathtools, xxhash, typeguard, smmap, setproctitle, sentry-sdk, numpy, fancy-einsum, einops, docker-pycreds, dill, beartype, multiprocess, jaxtyping, huggingface-hub, gitdb, transformers, GitPython, wandb, datasets, transformer-lens\n",
            "  Attempting uninstall: numpy\n",
            "    Found existing installation: numpy 1.22.4\n",
            "    Uninstalling numpy-1.22.4:\n",
            "      Successfully uninstalled numpy-1.22.4\n",
            "\u001b[31mERROR: pip's dependency resolver does not currently take into account all the packages that are installed. This behaviour is the source of the following dependency conflicts.\n",
            "numba 0.56.4 requires numpy<1.24,>=1.18, but you have numpy 1.25.2 which is incompatible.\n",
            "tensorflow 2.12.0 requires numpy<1.24,>=1.22, but you have numpy 1.25.2 which is incompatible.\u001b[0m\u001b[31m\n",
            "\u001b[0mSuccessfully installed GitPython-3.1.32 beartype-0.14.1 datasets-2.14.3 dill-0.3.7 docker-pycreds-0.4.0 einops-0.6.1 fancy-einsum-0.0.3 gitdb-4.0.10 huggingface-hub-0.16.4 jaxtyping-0.2.20 multiprocess-0.70.15 numpy-1.25.2 pathtools-0.1.2 safetensors-0.3.1 sentry-sdk-1.29.2 setproctitle-1.3.2 smmap-5.0.0 tokenizers-0.13.3 transformer-lens-0.0.0 transformers-4.31.0 typeguard-4.1.0 wandb-0.15.8 xxhash-3.3.0\n"
          ]
        },
        {
          "output_type": "display_data",
          "data": {
            "application/vnd.colab-display-data+json": {
              "pip_warning": {
                "packages": [
                  "numpy"
                ]
              }
            }
          },
          "metadata": {}
        }
      ],
      "source": [
        "# Janky code to do different setup when run in a Colab notebook vs VSCode\n",
        "DEBUG_MODE = False\n",
        "try:\n",
        "    import google.colab\n",
        "    IN_COLAB = True\n",
        "    print(\"Running as a Colab notebook\")\n",
        "    %pip install git+https://github.com/neelnanda-io/TransformerLens.git\n",
        "except:\n",
        "    IN_COLAB = False\n",
        "    print(\"Running as a Jupyter notebook - intended for development only!\")\n",
        "    from IPython import get_ipython\n",
        "\n",
        "    ipython = get_ipython()\n",
        "    # Code to automatically update the HookedTransformer code as its edited without restarting the kernel\n",
        "    ipython.magic(\"load_ext autoreload\")\n",
        "    ipython.magic(\"autoreload 2\")"
      ]
    },
    {
      "cell_type": "code",
      "source": [
        "try:\n",
        "    %pip install git+https://github.com/callummcdougall/CircuitsVis.git#subdirectory=python\n",
        "except:\n",
        "    import os; os.environ[\"ACCELERATE_DISABLE_RICH\"] = \"1\"\n",
        "    from IPython import get_ipython\n",
        "    ipython = get_ipython()\n",
        "    ipython.run_line_magic(\"load_ext\", \"autoreload\")\n",
        "    ipython.run_line_magic(\"autoreload\", \"2\")"
      ],
      "metadata": {
        "id": "zfSn5iNSFKlo",
        "colab": {
          "base_uri": "https://localhost:8080/"
        },
        "outputId": "a9619289-9b24-47c1-876a-f85c50cc6a13"
      },
      "execution_count": 2,
      "outputs": [
        {
          "output_type": "stream",
          "name": "stdout",
          "text": [
            "Collecting git+https://github.com/callummcdougall/CircuitsVis.git#subdirectory=python\n",
            "  Cloning https://github.com/callummcdougall/CircuitsVis.git to /tmp/pip-req-build-d4elt24f\n",
            "  Running command git clone --filter=blob:none --quiet https://github.com/callummcdougall/CircuitsVis.git /tmp/pip-req-build-d4elt24f\n",
            "  Resolved https://github.com/callummcdougall/CircuitsVis.git to commit cc216772a66af819ff3a77038e53134f3e073af4\n",
            "  Installing build dependencies ... \u001b[?25l\u001b[?25hdone\n",
            "  Getting requirements to build wheel ... \u001b[?25l\u001b[?25hdone\n",
            "  Preparing metadata (pyproject.toml) ... \u001b[?25l\u001b[?25hdone\n",
            "Collecting importlib-metadata<6.0.0,>=5.1.0 (from circuitsvis==0.0.0)\n",
            "  Downloading importlib_metadata-5.2.0-py3-none-any.whl (21 kB)\n",
            "Requirement already satisfied: numpy<2.0,>=1.23 in /usr/local/lib/python3.10/dist-packages (from circuitsvis==0.0.0) (1.25.2)\n",
            "Requirement already satisfied: torch<3.0,>=2.0 in /usr/local/lib/python3.10/dist-packages (from circuitsvis==0.0.0) (2.0.1+cu118)\n",
            "Requirement already satisfied: zipp>=0.5 in /usr/local/lib/python3.10/dist-packages (from importlib-metadata<6.0.0,>=5.1.0->circuitsvis==0.0.0) (3.16.2)\n",
            "Requirement already satisfied: filelock in /usr/local/lib/python3.10/dist-packages (from torch<3.0,>=2.0->circuitsvis==0.0.0) (3.12.2)\n",
            "Requirement already satisfied: typing-extensions in /usr/local/lib/python3.10/dist-packages (from torch<3.0,>=2.0->circuitsvis==0.0.0) (4.7.1)\n",
            "Requirement already satisfied: sympy in /usr/local/lib/python3.10/dist-packages (from torch<3.0,>=2.0->circuitsvis==0.0.0) (1.11.1)\n",
            "Requirement already satisfied: networkx in /usr/local/lib/python3.10/dist-packages (from torch<3.0,>=2.0->circuitsvis==0.0.0) (3.1)\n",
            "Requirement already satisfied: jinja2 in /usr/local/lib/python3.10/dist-packages (from torch<3.0,>=2.0->circuitsvis==0.0.0) (3.1.2)\n",
            "Requirement already satisfied: triton==2.0.0 in /usr/local/lib/python3.10/dist-packages (from torch<3.0,>=2.0->circuitsvis==0.0.0) (2.0.0)\n",
            "Requirement already satisfied: cmake in /usr/local/lib/python3.10/dist-packages (from triton==2.0.0->torch<3.0,>=2.0->circuitsvis==0.0.0) (3.25.2)\n",
            "Requirement already satisfied: lit in /usr/local/lib/python3.10/dist-packages (from triton==2.0.0->torch<3.0,>=2.0->circuitsvis==0.0.0) (16.0.6)\n",
            "Requirement already satisfied: MarkupSafe>=2.0 in /usr/local/lib/python3.10/dist-packages (from jinja2->torch<3.0,>=2.0->circuitsvis==0.0.0) (2.1.3)\n",
            "Requirement already satisfied: mpmath>=0.19 in /usr/local/lib/python3.10/dist-packages (from sympy->torch<3.0,>=2.0->circuitsvis==0.0.0) (1.3.0)\n",
            "Building wheels for collected packages: circuitsvis\n",
            "  Building wheel for circuitsvis (pyproject.toml) ... \u001b[?25l\u001b[?25hdone\n",
            "  Created wheel for circuitsvis: filename=circuitsvis-0.0.0-py3-none-any.whl size=1808565 sha256=00f6ea06383f60ca2f217e993df066f72a161cc8394eab833ee3e1580b220973\n",
            "  Stored in directory: /tmp/pip-ephem-wheel-cache-2hy0tcsa/wheels/86/be/ad/78078aba9344d200aad61b63d35cdaecdec160212f039eed74\n",
            "Successfully built circuitsvis\n",
            "Installing collected packages: importlib-metadata, circuitsvis\n",
            "  Attempting uninstall: importlib-metadata\n",
            "    Found existing installation: importlib-metadata 4.6.4\n",
            "    Uninstalling importlib-metadata-4.6.4:\n",
            "      Successfully uninstalled importlib-metadata-4.6.4\n",
            "Successfully installed circuitsvis-0.0.0 importlib-metadata-5.2.0\n"
          ]
        }
      ]
    },
    {
      "cell_type": "code",
      "execution_count": 3,
      "metadata": {
        "id": "ucSutS0c1kAw"
      },
      "outputs": [],
      "source": [
        "# Plotly needs a different renderer for VSCode/Notebooks vs Colab argh\n",
        "import plotly.io as pio\n",
        "\n",
        "if IN_COLAB or not DEBUG_MODE:\n",
        "    # Thanks to annoying rendering issues, Plotly graphics will either show up in colab OR Vscode depending on the renderer - this is bad for developing demos! Thus creating a debug mode.\n",
        "    pio.renderers.default = \"colab\"\n",
        "else:\n",
        "    pio.renderers.default = \"png\""
      ]
    },
    {
      "cell_type": "code",
      "execution_count": 4,
      "metadata": {
        "id": "uR_n0Mrl1kAx"
      },
      "outputs": [],
      "source": [
        "# Import stuff\n",
        "import torch\n",
        "import torch.nn as nn\n",
        "import torch.nn.functional as F\n",
        "import torch.optim as optim\n",
        "import numpy as np\n",
        "import circuitsvis as cv\n",
        "import einops\n",
        "import tqdm.notebook as tqdm\n",
        "import random\n",
        "from pathlib import Path\n",
        "import plotly.express as px\n",
        "from torch.utils.data import DataLoader\n",
        "\n",
        "from jaxtyping import Float, Int\n",
        "from typing import List, Union, Optional\n",
        "from functools import partial\n",
        "import copy\n",
        "\n",
        "import itertools\n",
        "from transformers import AutoModelForCausalLM, AutoConfig, AutoTokenizer\n",
        "import dataclasses\n",
        "from dataclasses import dataclass\n",
        "import datasets\n",
        "from IPython.display import HTML"
      ]
    },
    {
      "cell_type": "code",
      "execution_count": 5,
      "metadata": {
        "id": "YSZhMtBl1kAx"
      },
      "outputs": [],
      "source": [
        "import transformer_lens\n",
        "import transformer_lens.utils as utils\n",
        "from transformer_lens.hook_points import (\n",
        "    HookedRootModule,\n",
        "    HookPoint,\n",
        ")  # Hooking utilities\n",
        "from transformer_lens import HookedTransformer, HookedTransformerConfig, FactoredMatrix, ActivationCache"
      ]
    },
    {
      "cell_type": "markdown",
      "metadata": {
        "id": "DPzBb_kI1kAy"
      },
      "source": [
        "Plotting helper functions:"
      ]
    },
    {
      "cell_type": "code",
      "execution_count": 6,
      "metadata": {
        "id": "fBIDNqzV1kAy"
      },
      "outputs": [],
      "source": [
        "import plotly.graph_objects as go\n",
        "\n",
        "update_layout_set = {\"xaxis_range\", \"yaxis_range\", \"hovermode\", \"xaxis_title\", \"yaxis_title\", \"colorbar\", \"colorscale\", \"coloraxis\", \"title_x\", \"bargap\", \"bargroupgap\", \"xaxis_tickformat\", \"yaxis_tickformat\", \"title_y\", \"legend_title_text\", \"xaxis_showgrid\", \"xaxis_gridwidth\", \"xaxis_gridcolor\", \"yaxis_showgrid\", \"yaxis_gridwidth\"}\n",
        "def imshow(tensor, renderer=None, xaxis=\"\", yaxis=\"\", **kwargs):\n",
        "    if isinstance(tensor, list):\n",
        "        tensor = torch.stack(tensor)\n",
        "    kwargs_post = {k: v for k, v in kwargs.items() if k in update_layout_set}\n",
        "    kwargs_pre = {k: v for k, v in kwargs.items() if k not in update_layout_set}\n",
        "    if \"facet_labels\" in kwargs_pre:\n",
        "        facet_labels = kwargs_pre.pop(\"facet_labels\")\n",
        "    else:\n",
        "        facet_labels = None\n",
        "    if \"color_continuous_scale\" not in kwargs_pre:\n",
        "        kwargs_pre[\"color_continuous_scale\"] = \"RdBu\"\n",
        "    fig = px.imshow(utils.to_numpy(tensor), color_continuous_midpoint=0.0,labels={\"x\":xaxis, \"y\":yaxis}, **kwargs_pre).update_layout(**kwargs_post)\n",
        "    if facet_labels:\n",
        "        for i, label in enumerate(facet_labels):\n",
        "            fig.layout.annotations[i]['text'] = label\n",
        "\n",
        "    fig.show(renderer)\n",
        "\n",
        "def line(tensor, renderer=None, xaxis=\"\", yaxis=\"\", **kwargs):\n",
        "    px.line(y=utils.to_numpy(tensor), labels={\"x\":xaxis, \"y\":yaxis}, **kwargs).show(renderer)\n",
        "\n",
        "def scatter(x, y, xaxis=\"\", yaxis=\"\", caxis=\"\", renderer=None, **kwargs):\n",
        "    x = utils.to_numpy(x)\n",
        "    y = utils.to_numpy(y)\n",
        "    px.scatter(y=y, x=x, labels={\"x\":xaxis, \"y\":yaxis, \"color\":caxis}, **kwargs).show(renderer)\n",
        "\n",
        "def lines(lines_list, x=None, mode='lines', labels=None, xaxis='', yaxis='', title = '', log_y=False, hover=None, **kwargs):\n",
        "    # Helper function to plot multiple lines\n",
        "    if type(lines_list)==torch.Tensor:\n",
        "        lines_list = [lines_list[i] for i in range(lines_list.shape[0])]\n",
        "    if x is None:\n",
        "        x=np.arange(len(lines_list[0]))\n",
        "    fig = go.Figure(layout={'title':title})\n",
        "    fig.update_xaxes(title=xaxis)\n",
        "    fig.update_yaxes(title=yaxis)\n",
        "    for c, line in enumerate(lines_list):\n",
        "        if type(line)==torch.Tensor:\n",
        "            line = utils.to_numpy(line)\n",
        "        if labels is not None:\n",
        "            label = labels[c]\n",
        "        else:\n",
        "            label = c\n",
        "        fig.add_trace(go.Scatter(x=x, y=line, mode=mode, name=label, hovertext=hover, **kwargs))\n",
        "    if log_y:\n",
        "        fig.update_layout(yaxis_type=\"log\")\n",
        "    fig.show()\n",
        "\n",
        "def bar(tensor, renderer=None, xaxis=\"\", yaxis=\"\", **kwargs):\n",
        "    px.bar(\n",
        "        y=utils.to_numpy(tensor),\n",
        "        labels={\"x\": xaxis, \"y\": yaxis},\n",
        "        template=\"simple_white\",\n",
        "        **kwargs).show(renderer)"
      ]
    },
    {
      "cell_type": "code",
      "source": [
        "import transformer_lens.patching as patching\n",
        "from transformer_lens import evals\n",
        "import math"
      ],
      "metadata": {
        "id": "MzEwzeib1tjE"
      },
      "execution_count": 7,
      "outputs": []
    },
    {
      "cell_type": "markdown",
      "source": [
        "# Load Model"
      ],
      "metadata": {
        "id": "HdPsT2ZOxeua"
      }
    },
    {
      "cell_type": "code",
      "execution_count": 8,
      "metadata": {
        "id": "llysLeEq1kAy",
        "colab": {
          "base_uri": "https://localhost:8080/"
        },
        "outputId": "f7568d4d-e41d-4bbc-efea-632c233b383e"
      },
      "outputs": [
        {
          "output_type": "execute_result",
          "data": {
            "text/plain": [
              "<torch.autograd.grad_mode.set_grad_enabled at 0x7bffdd4cf7c0>"
            ]
          },
          "metadata": {},
          "execution_count": 8
        }
      ],
      "source": [
        "torch.set_grad_enabled(True)"
      ]
    },
    {
      "cell_type": "code",
      "source": [
        "device = 'cuda' if torch.cuda.is_available() else 'cpu'\n",
        "print(device)"
      ],
      "metadata": {
        "id": "S0QibP7y7xCm",
        "colab": {
          "base_uri": "https://localhost:8080/"
        },
        "outputId": "ff767ef1-574d-4153-fa20-2d362c32d2b5"
      },
      "execution_count": 9,
      "outputs": [
        {
          "output_type": "stream",
          "name": "stdout",
          "text": [
            "cuda\n"
          ]
        }
      ]
    },
    {
      "cell_type": "code",
      "source": [
        "MAX_ELT = 50\n",
        "LIST_LEN = 10\n",
        "cfg = HookedTransformerConfig(\n",
        "    n_layers=1,\n",
        "    d_model=64,\n",
        "    attn_only=True,\n",
        "    d_head=64,\n",
        "    n_heads=1,\n",
        "    normalization_type=None,\n",
        "    d_vocab=MAX_ELT+2, # 0, ..., MAX_ELT-1, BOS, END\n",
        "    n_ctx=LIST_LEN+2, #BOS a1 ... an END\n",
        "    device=device,\n",
        "    seed=0\n",
        ")\n",
        "\n",
        "model = HookedTransformer(cfg)\n",
        "print(model)"
      ],
      "metadata": {
        "id": "7SU1oTr-9Mq3",
        "colab": {
          "base_uri": "https://localhost:8080/"
        },
        "outputId": "a7b56c05-2b06-4ce9-ab3c-2773a8897a55"
      },
      "execution_count": 10,
      "outputs": [
        {
          "output_type": "stream",
          "name": "stdout",
          "text": [
            "HookedTransformer(\n",
            "  (embed): Embed()\n",
            "  (hook_embed): HookPoint()\n",
            "  (pos_embed): PosEmbed()\n",
            "  (hook_pos_embed): HookPoint()\n",
            "  (blocks): ModuleList(\n",
            "    (0): TransformerBlock(\n",
            "      (ln1): Identity()\n",
            "      (attn): Attention(\n",
            "        (hook_k): HookPoint()\n",
            "        (hook_q): HookPoint()\n",
            "        (hook_v): HookPoint()\n",
            "        (hook_z): HookPoint()\n",
            "        (hook_attn_scores): HookPoint()\n",
            "        (hook_pattern): HookPoint()\n",
            "        (hook_result): HookPoint()\n",
            "      )\n",
            "      (hook_q_input): HookPoint()\n",
            "      (hook_k_input): HookPoint()\n",
            "      (hook_v_input): HookPoint()\n",
            "      (hook_attn_out): HookPoint()\n",
            "      (hook_mlp_in): HookPoint()\n",
            "      (hook_mlp_out): HookPoint()\n",
            "      (hook_resid_pre): HookPoint()\n",
            "      (hook_resid_post): HookPoint()\n",
            "    )\n",
            "  )\n",
            "  (unembed): Unembed()\n",
            ")\n"
          ]
        }
      ]
    },
    {
      "cell_type": "code",
      "source": [
        "def disable_biases(model):\n",
        "    for name, param in model.named_parameters():\n",
        "        if 'b_' in name:\n",
        "            param.requires_grad = False\n",
        "\n",
        "disable_biases(model)"
      ],
      "metadata": {
        "id": "8j9kNd4vqzhk"
      },
      "execution_count": 11,
      "outputs": []
    },
    {
      "cell_type": "code",
      "source": [
        "def disable_pos_embed(model):\n",
        "    assert model.cfg.positional_embedding_type == \"standard\"\n",
        "    model.pos_embed.W_pos = nn.Parameter(torch.zeros_like(model.pos_embed.W_pos))\n",
        "    model.pos_embed.W_pos.requires_grad = False\n",
        "\n",
        "disable_pos_embed(model)"
      ],
      "metadata": {
        "id": "B79J8ajHrSWw"
      },
      "execution_count": 12,
      "outputs": []
    },
    {
      "cell_type": "code",
      "source": [
        "for name, param in model.named_parameters():\n",
        "    print(name, param.shape, param.requires_grad)"
      ],
      "metadata": {
        "colab": {
          "base_uri": "https://localhost:8080/"
        },
        "id": "asm-TATtkpa4",
        "outputId": "65ddba40-7b83-421c-9b0c-b84719827c63"
      },
      "execution_count": 13,
      "outputs": [
        {
          "output_type": "stream",
          "name": "stdout",
          "text": [
            "embed.W_E torch.Size([52, 64]) True\n",
            "pos_embed.W_pos torch.Size([12, 64]) False\n",
            "blocks.0.attn.W_Q torch.Size([1, 64, 64]) True\n",
            "blocks.0.attn.W_K torch.Size([1, 64, 64]) True\n",
            "blocks.0.attn.W_V torch.Size([1, 64, 64]) True\n",
            "blocks.0.attn.W_O torch.Size([1, 64, 64]) True\n",
            "blocks.0.attn.b_Q torch.Size([1, 64]) False\n",
            "blocks.0.attn.b_K torch.Size([1, 64]) False\n",
            "blocks.0.attn.b_V torch.Size([1, 64]) False\n",
            "blocks.0.attn.b_O torch.Size([64]) False\n",
            "unembed.W_U torch.Size([64, 52]) True\n",
            "unembed.b_U torch.Size([52]) False\n"
          ]
        }
      ]
    },
    {
      "cell_type": "markdown",
      "source": [
        "# Task dataset"
      ],
      "metadata": {
        "id": "L3OCzHxSkzBx"
      }
    },
    {
      "cell_type": "code",
      "source": [
        "BOS_TOKEN = cfg.d_vocab - 1\n",
        "END_TOKEN = cfg.d_vocab - 2\n",
        "print(BOS_TOKEN, END_TOKEN)"
      ],
      "metadata": {
        "colab": {
          "base_uri": "https://localhost:8080/"
        },
        "id": "cNV4OwNWmzIT",
        "outputId": "96270704-b649-4130-8777-53e6603328b9"
      },
      "execution_count": 14,
      "outputs": [
        {
          "output_type": "stream",
          "name": "stdout",
          "text": [
            "51 50\n"
          ]
        }
      ]
    },
    {
      "cell_type": "code",
      "source": [
        "majority_num = LIST_LEN // 2 + 1\n",
        "\n",
        "batch_size = 1\n",
        "x = torch.randint(0, MAX_ELT, (batch_size, LIST_LEN))\n",
        "print(\"x\", x)\n",
        "\n",
        "majority_elt = random.randint(0, MAX_ELT-1)\n",
        "print(\"majority elt\", majority_elt)\n",
        "majority_indices = torch.randperm(LIST_LEN)[:majority_num]\n",
        "print(\"majority_indices\", majority_indices)\n",
        "\n",
        "x[:, majority_indices] = majority_elt\n",
        "print(\"x\", x)"
      ],
      "metadata": {
        "colab": {
          "base_uri": "https://localhost:8080/"
        },
        "id": "qcdT2qZVkyF_",
        "outputId": "8dc9435d-f1ce-4033-e5e8-be7bf56c7cab"
      },
      "execution_count": 15,
      "outputs": [
        {
          "output_type": "stream",
          "name": "stdout",
          "text": [
            "x tensor([[ 1, 19, 47, 47, 46, 46,  3, 27,  7, 40]])\n",
            "majority elt 24\n",
            "majority_indices tensor([1, 8, 5, 4, 9, 7])\n",
            "x tensor([[ 1, 24, 47, 47, 24, 24,  3, 24, 24, 24]])\n"
          ]
        }
      ]
    },
    {
      "cell_type": "code",
      "source": [
        "def make_data_generator(cfg, batch_size, seed=0):\n",
        "    torch.manual_seed(seed)\n",
        "    random.seed(seed)\n",
        "    bos_vec = torch.full((batch_size, 1), BOS_TOKEN)\n",
        "    end_vec = torch.full((batch_size, 1), END_TOKEN)\n",
        "    majority_num = LIST_LEN // 2 + 1\n",
        "    while True:\n",
        "        x = torch.randint(0, MAX_ELT, (batch_size, LIST_LEN))\n",
        "        majority_elt = random.randint(0, MAX_ELT-1)\n",
        "        majority_indices = torch.randperm(LIST_LEN)[:majority_num]\n",
        "        x[:, majority_indices] = majority_elt\n",
        "        yield torch.cat([bos_vec, x, end_vec], dim=-1), torch.full((batch_size,), majority_elt)\n",
        "\n",
        "print(next(make_data_generator(cfg, 4)))"
      ],
      "metadata": {
        "colab": {
          "base_uri": "https://localhost:8080/"
        },
        "id": "y9-psHhnmmgV",
        "outputId": "bffe248c-7c3b-49d8-c8a3-686b341ea26a"
      },
      "execution_count": 16,
      "outputs": [
        {
          "output_type": "stream",
          "name": "stdout",
          "text": [
            "(tensor([[51, 24, 39, 24, 10, 24, 24, 27, 24, 24, 33, 50],\n",
            "        [51, 24, 16, 24, 49, 24, 24,  6, 24, 24, 33, 50],\n",
            "        [51, 24, 19, 24,  4, 24, 24, 19, 24, 24, 30, 50],\n",
            "        [51, 24, 12, 24, 10, 24, 24, 22, 24, 24, 38, 50]]), tensor([24, 24, 24, 24]))\n"
          ]
        }
      ]
    },
    {
      "cell_type": "markdown",
      "source": [
        "# Loss Fn"
      ],
      "metadata": {
        "id": "i8a-dFFZnf-X"
      }
    },
    {
      "cell_type": "code",
      "source": [
        "def loss_fn(logits, labels, per_token=False):\n",
        "    if logits.ndim==3:\n",
        "        logits=logits[:, -1, :]\n",
        "    log_probs = logits.log_softmax(dim=-1)\n",
        "    correct_log_probs = log_probs.gather(dim=-1, index=labels[..., None])[..., 0]\n",
        "    if per_token:\n",
        "        return -correct_log_probs\n",
        "    else:\n",
        "        return -correct_log_probs.mean()\n",
        "\n",
        "with torch.no_grad():\n",
        "    tokens, labels = next(make_data_generator(cfg, 4))\n",
        "    tokens, labels = tokens.to(device), labels.to(device)\n",
        "    logits = model(tokens)\n",
        "    loss = loss_fn(logits, labels)\n",
        "    print(\"Loss\", loss)"
      ],
      "metadata": {
        "colab": {
          "base_uri": "https://localhost:8080/"
        },
        "id": "kR4VdxyanfI1",
        "outputId": "f363f9f1-9426-4dd8-8022-a59742d6c03c"
      },
      "execution_count": 17,
      "outputs": [
        {
          "output_type": "stream",
          "name": "stdout",
          "text": [
            "Loss tensor(3.9843, device='cuda:0')\n"
          ]
        }
      ]
    },
    {
      "cell_type": "code",
      "source": [
        "print(\"uniform loss\", np.log(cfg.d_vocab_out))"
      ],
      "metadata": {
        "colab": {
          "base_uri": "https://localhost:8080/"
        },
        "id": "uwmbk2vNoEbK",
        "outputId": "271f2582-60be-4b4f-f170-e98aeb74dd20"
      },
      "execution_count": 18,
      "outputs": [
        {
          "output_type": "stream",
          "name": "stdout",
          "text": [
            "uniform loss 3.9512437185814275\n"
          ]
        }
      ]
    },
    {
      "cell_type": "markdown",
      "source": [
        "# Setup optimizer / dataloader"
      ],
      "metadata": {
        "id": "F_n_41GSoICr"
      }
    },
    {
      "cell_type": "code",
      "source": [
        "lr = 1e-3\n",
        "optimizer = torch.optim.AdamW(model.parameters(), lr=lr)\n",
        "\n",
        "batch_size = 256\n",
        "train_data_loader = make_data_generator(cfg, batch_size)"
      ],
      "metadata": {
        "id": "w_tZ45gpoGjz"
      },
      "execution_count": 19,
      "outputs": []
    },
    {
      "cell_type": "markdown",
      "source": [
        "# Training Loop"
      ],
      "metadata": {
        "id": "uwb6v-rHoThC"
      }
    },
    {
      "cell_type": "code",
      "source": [
        "num_epochs = 4000\n",
        "\n",
        "train_losses = []\n",
        "for epoch in tqdm.tqdm(range(num_epochs)):\n",
        "    tokens, labels = next(train_data_loader)\n",
        "    tokens, labels = tokens.to(device), labels.to(device)\n",
        "    logits = model(tokens)\n",
        "    loss = loss_fn(logits, labels)\n",
        "    loss.backward()\n",
        "    train_losses.append(loss.item())\n",
        "\n",
        "    optimizer.step()\n",
        "    optimizer.zero_grad()\n",
        "\n",
        "    if epoch % 100 == 0:\n",
        "        print(f\"Epoch {epoch}, train loss: {loss.item()}\")"
      ],
      "metadata": {
        "colab": {
          "base_uri": "https://localhost:8080/",
          "height": 763,
          "referenced_widgets": [
            "f8117775a0ba429c817e71ec8e6317c4",
            "91c25c593a2743a08c4f827c5270e70c",
            "167d391943a04d73bad3553967aff21d",
            "2c5d90fa2ea244df92f128970cb74547",
            "2ada574d488840f7b6c5043b38ffe2c4",
            "e0606f885c814eb3ab5af48fbf15040a",
            "da47ab75e0ba4365ad20544c117659fc",
            "9e556bae7f3943f7be835197d0c632ac",
            "e86c63705d6b4019a08efa90081d6f34",
            "39a82e428f1e45b89ab411a2c03a6423",
            "23c2a595be2b4977995b12f2bf964571"
          ]
        },
        "id": "4_lpa3DzoTTb",
        "outputId": "0dbc6302-9c4d-4dd7-c9d6-73d3d1112180"
      },
      "execution_count": 20,
      "outputs": [
        {
          "output_type": "display_data",
          "data": {
            "text/plain": [
              "  0%|          | 0/4000 [00:00<?, ?it/s]"
            ],
            "application/vnd.jupyter.widget-view+json": {
              "version_major": 2,
              "version_minor": 0,
              "model_id": "f8117775a0ba429c817e71ec8e6317c4"
            }
          },
          "metadata": {}
        },
        {
          "output_type": "stream",
          "name": "stdout",
          "text": [
            "Epoch 0, train loss: 3.986286163330078\n",
            "Epoch 100, train loss: 3.806046485900879\n",
            "Epoch 200, train loss: 3.6536495685577393\n",
            "Epoch 300, train loss: 2.068173885345459\n",
            "Epoch 400, train loss: 2.7019033432006836\n",
            "Epoch 500, train loss: 0.19587412476539612\n",
            "Epoch 600, train loss: 1.5775014162063599\n",
            "Epoch 700, train loss: 0.06599603593349457\n",
            "Epoch 800, train loss: 0.6283575892448425\n",
            "Epoch 900, train loss: 0.04852665960788727\n",
            "Epoch 1000, train loss: 0.6040941476821899\n",
            "Epoch 1100, train loss: 0.01572960987687111\n",
            "Epoch 1200, train loss: 0.05396657809615135\n",
            "Epoch 1300, train loss: 0.08357830345630646\n",
            "Epoch 1400, train loss: 0.01879332959651947\n",
            "Epoch 1500, train loss: 0.02646718919277191\n",
            "Epoch 1600, train loss: 0.015377746894955635\n",
            "Epoch 1700, train loss: 0.024489127099514008\n",
            "Epoch 1800, train loss: 0.023379238322377205\n",
            "Epoch 1900, train loss: 0.005863825790584087\n",
            "Epoch 2000, train loss: 0.010808978229761124\n",
            "Epoch 2100, train loss: 0.006896219216287136\n",
            "Epoch 2200, train loss: 0.005783495958894491\n",
            "Epoch 2300, train loss: 0.007036256138235331\n",
            "Epoch 2400, train loss: 0.0029768417589366436\n",
            "Epoch 2500, train loss: 0.0033245407976210117\n",
            "Epoch 2600, train loss: 0.001714710146188736\n",
            "Epoch 2700, train loss: 0.005582062527537346\n",
            "Epoch 2800, train loss: 0.0031905178911983967\n",
            "Epoch 2900, train loss: 0.0018088268116116524\n",
            "Epoch 3000, train loss: 0.003118288703262806\n",
            "Epoch 3100, train loss: 0.00410128477960825\n",
            "Epoch 3200, train loss: 0.002076815813779831\n",
            "Epoch 3300, train loss: 0.001704847440123558\n",
            "Epoch 3400, train loss: 0.002881627529859543\n",
            "Epoch 3500, train loss: 0.003945508040487766\n",
            "Epoch 3600, train loss: 0.0019766443874686956\n",
            "Epoch 3700, train loss: 0.0014713754644617438\n",
            "Epoch 3800, train loss: 0.0028736875392496586\n",
            "Epoch 3900, train loss: 0.0007775850826874375\n"
          ]
        }
      ]
    },
    {
      "cell_type": "code",
      "source": [
        "line(\n",
        "    train_losses,\n",
        "    title=\"Train Loss Curve\",\n",
        "    xaxis=\"Epoch\", yaxis=\"Loss\"\n",
        ")"
      ],
      "metadata": {
        "colab": {
          "base_uri": "https://localhost:8080/",
          "height": 542
        },
        "id": "ZLhZ30MeojSN",
        "outputId": "0f24c0e0-6a51-45ed-aefa-370dbac18fdf"
      },
      "execution_count": 21,
      "outputs": [
        {
          "output_type": "display_data",
          "data": {
            "text/html": [
              "<html>\n",
              "<head><meta charset=\"utf-8\" /></head>\n",
              "<body>\n",
              "    <div>            <script src=\"https://cdnjs.cloudflare.com/ajax/libs/mathjax/2.7.5/MathJax.js?config=TeX-AMS-MML_SVG\"></script><script type=\"text/javascript\">if (window.MathJax && window.MathJax.Hub && window.MathJax.Hub.Config) {window.MathJax.Hub.Config({SVG: {font: \"STIX-Web\"}});}</script>                <script type=\"text/javascript\">window.PlotlyConfig = {MathJaxConfig: 'local'};</script>\n",
              "        <script src=\"https://cdn.plot.ly/plotly-2.18.2.min.js\"></script>                <div id=\"47320742-8423-4541-83e3-88c42f2e22b0\" class=\"plotly-graph-div\" style=\"height:525px; width:100%;\"></div>            <script type=\"text/javascript\">                                    window.PLOTLYENV=window.PLOTLYENV || {};                                    if (document.getElementById(\"47320742-8423-4541-83e3-88c42f2e22b0\")) {                    Plotly.newPlot(                        \"47320742-8423-4541-83e3-88c42f2e22b0\",                        [{\"hovertemplate\":\"Epoch=%{x}<br>Loss=%{y}<extra></extra>\",\"legendgroup\":\"\",\"line\":{\"color\":\"#636efa\",\"dash\":\"solid\"},\"marker\":{\"symbol\":\"circle\"},\"mode\":\"lines\",\"name\":\"\",\"showlegend\":false,\"x\":[0,1,2,3,4,5,6,7,8,9,10,11,12,13,14,15,16,17,18,19,20,21,22,23,24,25,26,27,28,29,30,31,32,33,34,35,36,37,38,39,40,41,42,43,44,45,46,47,48,49,50,51,52,53,54,55,56,57,58,59,60,61,62,63,64,65,66,67,68,69,70,71,72,73,74,75,76,77,78,79,80,81,82,83,84,85,86,87,88,89,90,91,92,93,94,95,96,97,98,99,100,101,102,103,104,105,106,107,108,109,110,111,112,113,114,115,116,117,118,119,120,121,122,123,124,125,126,127,128,129,130,131,132,133,134,135,136,137,138,139,140,141,142,143,144,145,146,147,148,149,150,151,152,153,154,155,156,157,158,159,160,161,162,163,164,165,166,167,168,169,170,171,172,173,174,175,176,177,178,179,180,181,182,183,184,185,186,187,188,189,190,191,192,193,194,195,196,197,198,199,200,201,202,203,204,205,206,207,208,209,210,211,212,213,214,215,216,217,218,219,220,221,222,223,224,225,226,227,228,229,230,231,232,233,234,235,236,237,238,239,240,241,242,243,244,245,246,247,248,249,250,251,252,253,254,255,256,257,258,259,260,261,262,263,264,265,266,267,268,269,270,271,272,273,274,275,276,277,278,279,280,281,282,283,284,285,286,287,288,289,290,291,292,293,294,295,296,297,298,299,300,301,302,303,304,305,306,307,308,309,310,311,312,313,314,315,316,317,318,319,320,321,322,323,324,325,326,327,328,329,330,331,332,333,334,335,336,337,338,339,340,341,342,343,344,345,346,347,348,349,350,351,352,353,354,355,356,357,358,359,360,361,362,363,364,365,366,367,368,369,370,371,372,373,374,375,376,377,378,379,380,381,382,383,384,385,386,387,388,389,390,391,392,393,394,395,396,397,398,399,400,401,402,403,404,405,406,407,408,409,410,411,412,413,414,415,416,417,418,419,420,421,422,423,424,425,426,427,428,429,430,431,432,433,434,435,436,437,438,439,440,441,442,443,444,445,446,447,448,449,450,451,452,453,454,455,456,457,458,459,460,461,462,463,464,465,466,467,468,469,470,471,472,473,474,475,476,477,478,479,480,481,482,483,484,485,486,487,488,489,490,491,492,493,494,495,496,497,498,499,500,501,502,503,504,505,506,507,508,509,510,511,512,513,514,515,516,517,518,519,520,521,522,523,524,525,526,527,528,529,530,531,532,533,534,535,536,537,538,539,540,541,542,543,544,545,546,547,548,549,550,551,552,553,554,555,556,557,558,559,560,561,562,563,564,565,566,567,568,569,570,571,572,573,574,575,576,577,578,579,580,581,582,583,584,585,586,587,588,589,590,591,592,593,594,595,596,597,598,599,600,601,602,603,604,605,606,607,608,609,610,611,612,613,614,615,616,617,618,619,620,621,622,623,624,625,626,627,628,629,630,631,632,633,634,635,636,637,638,639,640,641,642,643,644,645,646,647,648,649,650,651,652,653,654,655,656,657,658,659,660,661,662,663,664,665,666,667,668,669,670,671,672,673,674,675,676,677,678,679,680,681,682,683,684,685,686,687,688,689,690,691,692,693,694,695,696,697,698,699,700,701,702,703,704,705,706,707,708,709,710,711,712,713,714,715,716,717,718,719,720,721,722,723,724,725,726,727,728,729,730,731,732,733,734,735,736,737,738,739,740,741,742,743,744,745,746,747,748,749,750,751,752,753,754,755,756,757,758,759,760,761,762,763,764,765,766,767,768,769,770,771,772,773,774,775,776,777,778,779,780,781,782,783,784,785,786,787,788,789,790,791,792,793,794,795,796,797,798,799,800,801,802,803,804,805,806,807,808,809,810,811,812,813,814,815,816,817,818,819,820,821,822,823,824,825,826,827,828,829,830,831,832,833,834,835,836,837,838,839,840,841,842,843,844,845,846,847,848,849,850,851,852,853,854,855,856,857,858,859,860,861,862,863,864,865,866,867,868,869,870,871,872,873,874,875,876,877,878,879,880,881,882,883,884,885,886,887,888,889,890,891,892,893,894,895,896,897,898,899,900,901,902,903,904,905,906,907,908,909,910,911,912,913,914,915,916,917,918,919,920,921,922,923,924,925,926,927,928,929,930,931,932,933,934,935,936,937,938,939,940,941,942,943,944,945,946,947,948,949,950,951,952,953,954,955,956,957,958,959,960,961,962,963,964,965,966,967,968,969,970,971,972,973,974,975,976,977,978,979,980,981,982,983,984,985,986,987,988,989,990,991,992,993,994,995,996,997,998,999,1000,1001,1002,1003,1004,1005,1006,1007,1008,1009,1010,1011,1012,1013,1014,1015,1016,1017,1018,1019,1020,1021,1022,1023,1024,1025,1026,1027,1028,1029,1030,1031,1032,1033,1034,1035,1036,1037,1038,1039,1040,1041,1042,1043,1044,1045,1046,1047,1048,1049,1050,1051,1052,1053,1054,1055,1056,1057,1058,1059,1060,1061,1062,1063,1064,1065,1066,1067,1068,1069,1070,1071,1072,1073,1074,1075,1076,1077,1078,1079,1080,1081,1082,1083,1084,1085,1086,1087,1088,1089,1090,1091,1092,1093,1094,1095,1096,1097,1098,1099,1100,1101,1102,1103,1104,1105,1106,1107,1108,1109,1110,1111,1112,1113,1114,1115,1116,1117,1118,1119,1120,1121,1122,1123,1124,1125,1126,1127,1128,1129,1130,1131,1132,1133,1134,1135,1136,1137,1138,1139,1140,1141,1142,1143,1144,1145,1146,1147,1148,1149,1150,1151,1152,1153,1154,1155,1156,1157,1158,1159,1160,1161,1162,1163,1164,1165,1166,1167,1168,1169,1170,1171,1172,1173,1174,1175,1176,1177,1178,1179,1180,1181,1182,1183,1184,1185,1186,1187,1188,1189,1190,1191,1192,1193,1194,1195,1196,1197,1198,1199,1200,1201,1202,1203,1204,1205,1206,1207,1208,1209,1210,1211,1212,1213,1214,1215,1216,1217,1218,1219,1220,1221,1222,1223,1224,1225,1226,1227,1228,1229,1230,1231,1232,1233,1234,1235,1236,1237,1238,1239,1240,1241,1242,1243,1244,1245,1246,1247,1248,1249,1250,1251,1252,1253,1254,1255,1256,1257,1258,1259,1260,1261,1262,1263,1264,1265,1266,1267,1268,1269,1270,1271,1272,1273,1274,1275,1276,1277,1278,1279,1280,1281,1282,1283,1284,1285,1286,1287,1288,1289,1290,1291,1292,1293,1294,1295,1296,1297,1298,1299,1300,1301,1302,1303,1304,1305,1306,1307,1308,1309,1310,1311,1312,1313,1314,1315,1316,1317,1318,1319,1320,1321,1322,1323,1324,1325,1326,1327,1328,1329,1330,1331,1332,1333,1334,1335,1336,1337,1338,1339,1340,1341,1342,1343,1344,1345,1346,1347,1348,1349,1350,1351,1352,1353,1354,1355,1356,1357,1358,1359,1360,1361,1362,1363,1364,1365,1366,1367,1368,1369,1370,1371,1372,1373,1374,1375,1376,1377,1378,1379,1380,1381,1382,1383,1384,1385,1386,1387,1388,1389,1390,1391,1392,1393,1394,1395,1396,1397,1398,1399,1400,1401,1402,1403,1404,1405,1406,1407,1408,1409,1410,1411,1412,1413,1414,1415,1416,1417,1418,1419,1420,1421,1422,1423,1424,1425,1426,1427,1428,1429,1430,1431,1432,1433,1434,1435,1436,1437,1438,1439,1440,1441,1442,1443,1444,1445,1446,1447,1448,1449,1450,1451,1452,1453,1454,1455,1456,1457,1458,1459,1460,1461,1462,1463,1464,1465,1466,1467,1468,1469,1470,1471,1472,1473,1474,1475,1476,1477,1478,1479,1480,1481,1482,1483,1484,1485,1486,1487,1488,1489,1490,1491,1492,1493,1494,1495,1496,1497,1498,1499,1500,1501,1502,1503,1504,1505,1506,1507,1508,1509,1510,1511,1512,1513,1514,1515,1516,1517,1518,1519,1520,1521,1522,1523,1524,1525,1526,1527,1528,1529,1530,1531,1532,1533,1534,1535,1536,1537,1538,1539,1540,1541,1542,1543,1544,1545,1546,1547,1548,1549,1550,1551,1552,1553,1554,1555,1556,1557,1558,1559,1560,1561,1562,1563,1564,1565,1566,1567,1568,1569,1570,1571,1572,1573,1574,1575,1576,1577,1578,1579,1580,1581,1582,1583,1584,1585,1586,1587,1588,1589,1590,1591,1592,1593,1594,1595,1596,1597,1598,1599,1600,1601,1602,1603,1604,1605,1606,1607,1608,1609,1610,1611,1612,1613,1614,1615,1616,1617,1618,1619,1620,1621,1622,1623,1624,1625,1626,1627,1628,1629,1630,1631,1632,1633,1634,1635,1636,1637,1638,1639,1640,1641,1642,1643,1644,1645,1646,1647,1648,1649,1650,1651,1652,1653,1654,1655,1656,1657,1658,1659,1660,1661,1662,1663,1664,1665,1666,1667,1668,1669,1670,1671,1672,1673,1674,1675,1676,1677,1678,1679,1680,1681,1682,1683,1684,1685,1686,1687,1688,1689,1690,1691,1692,1693,1694,1695,1696,1697,1698,1699,1700,1701,1702,1703,1704,1705,1706,1707,1708,1709,1710,1711,1712,1713,1714,1715,1716,1717,1718,1719,1720,1721,1722,1723,1724,1725,1726,1727,1728,1729,1730,1731,1732,1733,1734,1735,1736,1737,1738,1739,1740,1741,1742,1743,1744,1745,1746,1747,1748,1749,1750,1751,1752,1753,1754,1755,1756,1757,1758,1759,1760,1761,1762,1763,1764,1765,1766,1767,1768,1769,1770,1771,1772,1773,1774,1775,1776,1777,1778,1779,1780,1781,1782,1783,1784,1785,1786,1787,1788,1789,1790,1791,1792,1793,1794,1795,1796,1797,1798,1799,1800,1801,1802,1803,1804,1805,1806,1807,1808,1809,1810,1811,1812,1813,1814,1815,1816,1817,1818,1819,1820,1821,1822,1823,1824,1825,1826,1827,1828,1829,1830,1831,1832,1833,1834,1835,1836,1837,1838,1839,1840,1841,1842,1843,1844,1845,1846,1847,1848,1849,1850,1851,1852,1853,1854,1855,1856,1857,1858,1859,1860,1861,1862,1863,1864,1865,1866,1867,1868,1869,1870,1871,1872,1873,1874,1875,1876,1877,1878,1879,1880,1881,1882,1883,1884,1885,1886,1887,1888,1889,1890,1891,1892,1893,1894,1895,1896,1897,1898,1899,1900,1901,1902,1903,1904,1905,1906,1907,1908,1909,1910,1911,1912,1913,1914,1915,1916,1917,1918,1919,1920,1921,1922,1923,1924,1925,1926,1927,1928,1929,1930,1931,1932,1933,1934,1935,1936,1937,1938,1939,1940,1941,1942,1943,1944,1945,1946,1947,1948,1949,1950,1951,1952,1953,1954,1955,1956,1957,1958,1959,1960,1961,1962,1963,1964,1965,1966,1967,1968,1969,1970,1971,1972,1973,1974,1975,1976,1977,1978,1979,1980,1981,1982,1983,1984,1985,1986,1987,1988,1989,1990,1991,1992,1993,1994,1995,1996,1997,1998,1999,2000,2001,2002,2003,2004,2005,2006,2007,2008,2009,2010,2011,2012,2013,2014,2015,2016,2017,2018,2019,2020,2021,2022,2023,2024,2025,2026,2027,2028,2029,2030,2031,2032,2033,2034,2035,2036,2037,2038,2039,2040,2041,2042,2043,2044,2045,2046,2047,2048,2049,2050,2051,2052,2053,2054,2055,2056,2057,2058,2059,2060,2061,2062,2063,2064,2065,2066,2067,2068,2069,2070,2071,2072,2073,2074,2075,2076,2077,2078,2079,2080,2081,2082,2083,2084,2085,2086,2087,2088,2089,2090,2091,2092,2093,2094,2095,2096,2097,2098,2099,2100,2101,2102,2103,2104,2105,2106,2107,2108,2109,2110,2111,2112,2113,2114,2115,2116,2117,2118,2119,2120,2121,2122,2123,2124,2125,2126,2127,2128,2129,2130,2131,2132,2133,2134,2135,2136,2137,2138,2139,2140,2141,2142,2143,2144,2145,2146,2147,2148,2149,2150,2151,2152,2153,2154,2155,2156,2157,2158,2159,2160,2161,2162,2163,2164,2165,2166,2167,2168,2169,2170,2171,2172,2173,2174,2175,2176,2177,2178,2179,2180,2181,2182,2183,2184,2185,2186,2187,2188,2189,2190,2191,2192,2193,2194,2195,2196,2197,2198,2199,2200,2201,2202,2203,2204,2205,2206,2207,2208,2209,2210,2211,2212,2213,2214,2215,2216,2217,2218,2219,2220,2221,2222,2223,2224,2225,2226,2227,2228,2229,2230,2231,2232,2233,2234,2235,2236,2237,2238,2239,2240,2241,2242,2243,2244,2245,2246,2247,2248,2249,2250,2251,2252,2253,2254,2255,2256,2257,2258,2259,2260,2261,2262,2263,2264,2265,2266,2267,2268,2269,2270,2271,2272,2273,2274,2275,2276,2277,2278,2279,2280,2281,2282,2283,2284,2285,2286,2287,2288,2289,2290,2291,2292,2293,2294,2295,2296,2297,2298,2299,2300,2301,2302,2303,2304,2305,2306,2307,2308,2309,2310,2311,2312,2313,2314,2315,2316,2317,2318,2319,2320,2321,2322,2323,2324,2325,2326,2327,2328,2329,2330,2331,2332,2333,2334,2335,2336,2337,2338,2339,2340,2341,2342,2343,2344,2345,2346,2347,2348,2349,2350,2351,2352,2353,2354,2355,2356,2357,2358,2359,2360,2361,2362,2363,2364,2365,2366,2367,2368,2369,2370,2371,2372,2373,2374,2375,2376,2377,2378,2379,2380,2381,2382,2383,2384,2385,2386,2387,2388,2389,2390,2391,2392,2393,2394,2395,2396,2397,2398,2399,2400,2401,2402,2403,2404,2405,2406,2407,2408,2409,2410,2411,2412,2413,2414,2415,2416,2417,2418,2419,2420,2421,2422,2423,2424,2425,2426,2427,2428,2429,2430,2431,2432,2433,2434,2435,2436,2437,2438,2439,2440,2441,2442,2443,2444,2445,2446,2447,2448,2449,2450,2451,2452,2453,2454,2455,2456,2457,2458,2459,2460,2461,2462,2463,2464,2465,2466,2467,2468,2469,2470,2471,2472,2473,2474,2475,2476,2477,2478,2479,2480,2481,2482,2483,2484,2485,2486,2487,2488,2489,2490,2491,2492,2493,2494,2495,2496,2497,2498,2499,2500,2501,2502,2503,2504,2505,2506,2507,2508,2509,2510,2511,2512,2513,2514,2515,2516,2517,2518,2519,2520,2521,2522,2523,2524,2525,2526,2527,2528,2529,2530,2531,2532,2533,2534,2535,2536,2537,2538,2539,2540,2541,2542,2543,2544,2545,2546,2547,2548,2549,2550,2551,2552,2553,2554,2555,2556,2557,2558,2559,2560,2561,2562,2563,2564,2565,2566,2567,2568,2569,2570,2571,2572,2573,2574,2575,2576,2577,2578,2579,2580,2581,2582,2583,2584,2585,2586,2587,2588,2589,2590,2591,2592,2593,2594,2595,2596,2597,2598,2599,2600,2601,2602,2603,2604,2605,2606,2607,2608,2609,2610,2611,2612,2613,2614,2615,2616,2617,2618,2619,2620,2621,2622,2623,2624,2625,2626,2627,2628,2629,2630,2631,2632,2633,2634,2635,2636,2637,2638,2639,2640,2641,2642,2643,2644,2645,2646,2647,2648,2649,2650,2651,2652,2653,2654,2655,2656,2657,2658,2659,2660,2661,2662,2663,2664,2665,2666,2667,2668,2669,2670,2671,2672,2673,2674,2675,2676,2677,2678,2679,2680,2681,2682,2683,2684,2685,2686,2687,2688,2689,2690,2691,2692,2693,2694,2695,2696,2697,2698,2699,2700,2701,2702,2703,2704,2705,2706,2707,2708,2709,2710,2711,2712,2713,2714,2715,2716,2717,2718,2719,2720,2721,2722,2723,2724,2725,2726,2727,2728,2729,2730,2731,2732,2733,2734,2735,2736,2737,2738,2739,2740,2741,2742,2743,2744,2745,2746,2747,2748,2749,2750,2751,2752,2753,2754,2755,2756,2757,2758,2759,2760,2761,2762,2763,2764,2765,2766,2767,2768,2769,2770,2771,2772,2773,2774,2775,2776,2777,2778,2779,2780,2781,2782,2783,2784,2785,2786,2787,2788,2789,2790,2791,2792,2793,2794,2795,2796,2797,2798,2799,2800,2801,2802,2803,2804,2805,2806,2807,2808,2809,2810,2811,2812,2813,2814,2815,2816,2817,2818,2819,2820,2821,2822,2823,2824,2825,2826,2827,2828,2829,2830,2831,2832,2833,2834,2835,2836,2837,2838,2839,2840,2841,2842,2843,2844,2845,2846,2847,2848,2849,2850,2851,2852,2853,2854,2855,2856,2857,2858,2859,2860,2861,2862,2863,2864,2865,2866,2867,2868,2869,2870,2871,2872,2873,2874,2875,2876,2877,2878,2879,2880,2881,2882,2883,2884,2885,2886,2887,2888,2889,2890,2891,2892,2893,2894,2895,2896,2897,2898,2899,2900,2901,2902,2903,2904,2905,2906,2907,2908,2909,2910,2911,2912,2913,2914,2915,2916,2917,2918,2919,2920,2921,2922,2923,2924,2925,2926,2927,2928,2929,2930,2931,2932,2933,2934,2935,2936,2937,2938,2939,2940,2941,2942,2943,2944,2945,2946,2947,2948,2949,2950,2951,2952,2953,2954,2955,2956,2957,2958,2959,2960,2961,2962,2963,2964,2965,2966,2967,2968,2969,2970,2971,2972,2973,2974,2975,2976,2977,2978,2979,2980,2981,2982,2983,2984,2985,2986,2987,2988,2989,2990,2991,2992,2993,2994,2995,2996,2997,2998,2999,3000,3001,3002,3003,3004,3005,3006,3007,3008,3009,3010,3011,3012,3013,3014,3015,3016,3017,3018,3019,3020,3021,3022,3023,3024,3025,3026,3027,3028,3029,3030,3031,3032,3033,3034,3035,3036,3037,3038,3039,3040,3041,3042,3043,3044,3045,3046,3047,3048,3049,3050,3051,3052,3053,3054,3055,3056,3057,3058,3059,3060,3061,3062,3063,3064,3065,3066,3067,3068,3069,3070,3071,3072,3073,3074,3075,3076,3077,3078,3079,3080,3081,3082,3083,3084,3085,3086,3087,3088,3089,3090,3091,3092,3093,3094,3095,3096,3097,3098,3099,3100,3101,3102,3103,3104,3105,3106,3107,3108,3109,3110,3111,3112,3113,3114,3115,3116,3117,3118,3119,3120,3121,3122,3123,3124,3125,3126,3127,3128,3129,3130,3131,3132,3133,3134,3135,3136,3137,3138,3139,3140,3141,3142,3143,3144,3145,3146,3147,3148,3149,3150,3151,3152,3153,3154,3155,3156,3157,3158,3159,3160,3161,3162,3163,3164,3165,3166,3167,3168,3169,3170,3171,3172,3173,3174,3175,3176,3177,3178,3179,3180,3181,3182,3183,3184,3185,3186,3187,3188,3189,3190,3191,3192,3193,3194,3195,3196,3197,3198,3199,3200,3201,3202,3203,3204,3205,3206,3207,3208,3209,3210,3211,3212,3213,3214,3215,3216,3217,3218,3219,3220,3221,3222,3223,3224,3225,3226,3227,3228,3229,3230,3231,3232,3233,3234,3235,3236,3237,3238,3239,3240,3241,3242,3243,3244,3245,3246,3247,3248,3249,3250,3251,3252,3253,3254,3255,3256,3257,3258,3259,3260,3261,3262,3263,3264,3265,3266,3267,3268,3269,3270,3271,3272,3273,3274,3275,3276,3277,3278,3279,3280,3281,3282,3283,3284,3285,3286,3287,3288,3289,3290,3291,3292,3293,3294,3295,3296,3297,3298,3299,3300,3301,3302,3303,3304,3305,3306,3307,3308,3309,3310,3311,3312,3313,3314,3315,3316,3317,3318,3319,3320,3321,3322,3323,3324,3325,3326,3327,3328,3329,3330,3331,3332,3333,3334,3335,3336,3337,3338,3339,3340,3341,3342,3343,3344,3345,3346,3347,3348,3349,3350,3351,3352,3353,3354,3355,3356,3357,3358,3359,3360,3361,3362,3363,3364,3365,3366,3367,3368,3369,3370,3371,3372,3373,3374,3375,3376,3377,3378,3379,3380,3381,3382,3383,3384,3385,3386,3387,3388,3389,3390,3391,3392,3393,3394,3395,3396,3397,3398,3399,3400,3401,3402,3403,3404,3405,3406,3407,3408,3409,3410,3411,3412,3413,3414,3415,3416,3417,3418,3419,3420,3421,3422,3423,3424,3425,3426,3427,3428,3429,3430,3431,3432,3433,3434,3435,3436,3437,3438,3439,3440,3441,3442,3443,3444,3445,3446,3447,3448,3449,3450,3451,3452,3453,3454,3455,3456,3457,3458,3459,3460,3461,3462,3463,3464,3465,3466,3467,3468,3469,3470,3471,3472,3473,3474,3475,3476,3477,3478,3479,3480,3481,3482,3483,3484,3485,3486,3487,3488,3489,3490,3491,3492,3493,3494,3495,3496,3497,3498,3499,3500,3501,3502,3503,3504,3505,3506,3507,3508,3509,3510,3511,3512,3513,3514,3515,3516,3517,3518,3519,3520,3521,3522,3523,3524,3525,3526,3527,3528,3529,3530,3531,3532,3533,3534,3535,3536,3537,3538,3539,3540,3541,3542,3543,3544,3545,3546,3547,3548,3549,3550,3551,3552,3553,3554,3555,3556,3557,3558,3559,3560,3561,3562,3563,3564,3565,3566,3567,3568,3569,3570,3571,3572,3573,3574,3575,3576,3577,3578,3579,3580,3581,3582,3583,3584,3585,3586,3587,3588,3589,3590,3591,3592,3593,3594,3595,3596,3597,3598,3599,3600,3601,3602,3603,3604,3605,3606,3607,3608,3609,3610,3611,3612,3613,3614,3615,3616,3617,3618,3619,3620,3621,3622,3623,3624,3625,3626,3627,3628,3629,3630,3631,3632,3633,3634,3635,3636,3637,3638,3639,3640,3641,3642,3643,3644,3645,3646,3647,3648,3649,3650,3651,3652,3653,3654,3655,3656,3657,3658,3659,3660,3661,3662,3663,3664,3665,3666,3667,3668,3669,3670,3671,3672,3673,3674,3675,3676,3677,3678,3679,3680,3681,3682,3683,3684,3685,3686,3687,3688,3689,3690,3691,3692,3693,3694,3695,3696,3697,3698,3699,3700,3701,3702,3703,3704,3705,3706,3707,3708,3709,3710,3711,3712,3713,3714,3715,3716,3717,3718,3719,3720,3721,3722,3723,3724,3725,3726,3727,3728,3729,3730,3731,3732,3733,3734,3735,3736,3737,3738,3739,3740,3741,3742,3743,3744,3745,3746,3747,3748,3749,3750,3751,3752,3753,3754,3755,3756,3757,3758,3759,3760,3761,3762,3763,3764,3765,3766,3767,3768,3769,3770,3771,3772,3773,3774,3775,3776,3777,3778,3779,3780,3781,3782,3783,3784,3785,3786,3787,3788,3789,3790,3791,3792,3793,3794,3795,3796,3797,3798,3799,3800,3801,3802,3803,3804,3805,3806,3807,3808,3809,3810,3811,3812,3813,3814,3815,3816,3817,3818,3819,3820,3821,3822,3823,3824,3825,3826,3827,3828,3829,3830,3831,3832,3833,3834,3835,3836,3837,3838,3839,3840,3841,3842,3843,3844,3845,3846,3847,3848,3849,3850,3851,3852,3853,3854,3855,3856,3857,3858,3859,3860,3861,3862,3863,3864,3865,3866,3867,3868,3869,3870,3871,3872,3873,3874,3875,3876,3877,3878,3879,3880,3881,3882,3883,3884,3885,3886,3887,3888,3889,3890,3891,3892,3893,3894,3895,3896,3897,3898,3899,3900,3901,3902,3903,3904,3905,3906,3907,3908,3909,3910,3911,3912,3913,3914,3915,3916,3917,3918,3919,3920,3921,3922,3923,3924,3925,3926,3927,3928,3929,3930,3931,3932,3933,3934,3935,3936,3937,3938,3939,3940,3941,3942,3943,3944,3945,3946,3947,3948,3949,3950,3951,3952,3953,3954,3955,3956,3957,3958,3959,3960,3961,3962,3963,3964,3965,3966,3967,3968,3969,3970,3971,3972,3973,3974,3975,3976,3977,3978,3979,3980,3981,3982,3983,3984,3985,3986,3987,3988,3989,3990,3991,3992,3993,3994,3995,3996,3997,3998,3999],\"xaxis\":\"x\",\"y\":[3.986286163330078,3.8051836490631104,3.962083578109741,3.9438838958740234,3.9668755531311035,4.087808132171631,3.7157106399536133,3.9025654792785645,3.9900424480438232,4.0116868019104,3.8900232315063477,3.863785743713379,3.9586963653564453,4.008093357086182,4.020145416259766,3.955355167388916,3.9988725185394287,3.6400985717773438,4.078740119934082,3.958380699157715,3.8202834129333496,3.8963022232055664,3.9319114685058594,4.0891432762146,3.9928507804870605,3.8696227073669434,4.018455505371094,3.8910202980041504,3.941540241241455,4.060755252838135,4.149185657501221,3.9012815952301025,3.994739055633545,3.9560558795928955,3.7699432373046875,4.134152412414551,4.084653377532959,3.8681507110595703,4.045639991760254,3.839888572692871,3.9337000846862793,3.8505494594573975,4.011960029602051,4.062407493591309,3.7043800354003906,4.047065734863281,3.8766074180603027,4.015074729919434,4.04395866394043,3.810114622116089,3.752835273742676,3.8082175254821777,3.989716053009033,3.969007968902588,3.9619362354278564,3.7870163917541504,3.5511302947998047,4.023582935333252,4.199756145477295,3.7603392601013184,3.9774909019470215,3.7466158866882324,3.8420298099517822,4.145702838897705,4.141425132751465,4.143996715545654,4.137264251708984,3.8733887672424316,3.78407621383667,3.916558265686035,3.9353771209716797,3.9248642921447754,3.9121575355529785,3.8382058143615723,3.4810876846313477,3.8184316158294678,3.7517454624176025,3.739259719848633,3.8390069007873535,3.6470601558685303,4.051019668579102,3.7092742919921875,3.9232656955718994,3.7062861919403076,3.738748550415039,3.967264175415039,3.6511003971099854,3.7625889778137207,3.7882776260375977,3.8367257118225098,3.7469282150268555,3.9269590377807617,3.7456188201904297,3.8147640228271484,4.01451301574707,4.028559684753418,3.7271652221679688,4.263440132141113,4.044522762298584,4.241568565368652,3.806046485900879,3.681286334991455,3.9078030586242676,3.584789276123047,3.7436676025390625,3.759294033050537,3.6174750328063965,3.962296962738037,3.523562431335449,3.8398571014404297,3.772350311279297,3.755280017852783,3.533872365951538,4.421980857849121,3.5798888206481934,3.910656690597534,3.6946096420288086,3.529216766357422,3.9802184104919434,4.37896728515625,3.962482452392578,3.9488697052001953,3.6530773639678955,3.837592601776123,3.7030391693115234,3.824185371398926,3.6838340759277344,4.309658527374268,3.752072334289551,3.342850923538208,3.813589572906494,4.44263219833374,4.297197341918945,3.6854286193847656,3.2901406288146973,3.695967435836792,3.561129331588745,3.9235076904296875,3.25529146194458,3.5656538009643555,3.883802890777588,3.8243651390075684,3.9489502906799316,3.8657925128936768,4.308331489562988,3.6835243701934814,4.195747375488281,3.8326473236083984,3.4058096408843994,4.054434776306152,4.308496475219727,4.414885520935059,3.7311859130859375,4.037467956542969,4.011418342590332,3.7219221591949463,3.675093173980713,4.150604248046875,3.979792594909668,3.6924989223480225,3.855088949203491,3.8028664588928223,3.466362237930298,3.81571626663208,3.670285701751709,3.672128915786743,4.177402973175049,3.6603310108184814,3.741450548171997,3.830158233642578,3.767688035964966,3.7240846157073975,3.571957588195801,3.6332528591156006,2.991032838821411,4.091745376586914,3.4583253860473633,3.6414437294006348,3.685202121734619,4.080583095550537,3.723318576812744,4.050200939178467,3.2091288566589355,3.223532199859619,3.658386468887329,3.5688397884368896,3.5901310443878174,3.909677028656006,3.4823334217071533,3.9748024940490723,3.2787344455718994,3.9260730743408203,3.4098172187805176,3.6103129386901855,3.4636311531066895,3.5650763511657715,3.8524861335754395,3.5403058528900146,4.245382308959961,3.7045466899871826,3.6536495685577393,3.8533315658569336,3.9591610431671143,3.819122314453125,3.7482094764709473,4.461860179901123,3.564300060272217,3.497948169708252,3.489339828491211,3.9718551635742188,3.5240347385406494,3.4894931316375732,3.2601094245910645,3.5804178714752197,3.453749656677246,3.53184175491333,3.3800318241119385,4.179214954376221,3.877187728881836,3.170480728149414,3.4237189292907715,4.599902629852295,3.6997642517089844,3.027036666870117,4.0374226570129395,3.9873008728027344,3.544308662414551,3.8759677410125732,2.955256938934326,2.4294064044952393,3.3215744495391846,3.661349296569824,3.6708950996398926,3.832270860671997,3.8566536903381348,3.3943042755126953,2.4313573837280273,3.7710280418395996,2.958217144012451,3.58944034576416,3.5802083015441895,3.994159698486328,3.4568123817443848,3.7231507301330566,3.4994823932647705,2.419621706008911,3.50964093208313,3.5441389083862305,3.539083480834961,3.761172294616699,4.2296142578125,4.351226806640625,2.4679698944091797,3.329845905303955,4.256989002227783,3.5064783096313477,2.9402949810028076,4.061086177825928,3.7364416122436523,3.653233051300049,3.5280704498291016,3.1690313816070557,3.2992892265319824,3.216041326522827,3.6946425437927246,1.5724341869354248,3.212007999420166,3.4363675117492676,3.547684907913208,3.0635697841644287,3.6127285957336426,2.941319704055786,3.3641345500946045,3.5472660064697266,3.7765941619873047,3.618161201477051,3.6821794509887695,1.8125066757202148,3.5666303634643555,3.0558223724365234,3.0361289978027344,3.0533034801483154,3.0062637329101562,3.121976375579834,3.4746322631835938,3.706918716430664,3.334068775177002,3.5696821212768555,3.339529037475586,2.548790693283081,0.9985126256942749,2.3169875144958496,3.3939151763916016,3.4105305671691895,3.3786449432373047,2.5175232887268066,2.0037412643432617,3.229353904724121,4.087576866149902,3.141688346862793,2.068173885345459,3.2913570404052734,2.426356792449951,3.4710159301757812,3.3957600593566895,1.726149082183838,1.9439842700958252,2.0410444736480713,3.345252513885498,3.867668628692627,3.13613224029541,3.494764804840088,2.718033790588379,3.377399444580078,3.293640375137329,3.065115451812744,2.9295156002044678,3.549988031387329,3.0970544815063477,3.915560483932495,3.6356492042541504,2.6615524291992188,2.454418659210205,3.3185694217681885,2.9753570556640625,1.2164630889892578,3.3384575843811035,3.3914966583251953,2.9360251426696777,3.0005645751953125,0.5661308169364929,2.3140692710876465,3.235757350921631,2.7183728218078613,3.3666274547576904,2.5409505367279053,1.2436683177947998,2.9137678146362305,2.2558693885803223,0.3833530843257904,3.6567447185516357,2.594391345977783,3.3430638313293457,1.7278131246566772,1.7503529787063599,2.1665329933166504,3.3927183151245117,1.3982069492340088,2.468430995941162,4.08994197845459,1.2062816619873047,3.8116865158081055,3.132023334503174,2.8086729049682617,2.5657224655151367,2.554027557373047,0.7076718807220459,3.890066623687744,3.9834961891174316,2.789893627166748,1.0814865827560425,1.0996853113174438,3.0367507934570312,2.9839534759521484,3.424675941467285,2.8440916538238525,2.768209457397461,2.9134411811828613,0.645538330078125,3.286891222000122,3.7838797569274902,3.640838146209717,2.5555191040039062,2.519533157348633,3.149873971939087,0.24422191083431244,0.5968136787414551,3.0455322265625,2.7387285232543945,3.99748158454895,1.2040165662765503,1.9959657192230225,3.140526294708252,0.7533011436462402,1.5352160930633545,1.4294970035552979,2.197902202606201,0.8005149364471436,1.1804966926574707,3.7853872776031494,1.960415005683899,4.043505668640137,3.683938980102539,2.7006402015686035,3.540119171142578,2.716661214828491,3.1537234783172607,3.362147331237793,3.780449867248535,1.063202142715454,2.7019033432006836,2.8070807456970215,3.4168291091918945,2.6715023517608643,2.6085262298583984,3.2523975372314453,0.4143693447113037,0.5982211232185364,2.1969285011291504,3.7878313064575195,2.1919522285461426,1.0953075885772705,1.05169677734375,3.189551830291748,1.5711275339126587,2.253720283508301,2.950565814971924,3.407149314880371,2.752805233001709,1.9178858995437622,2.6771132946014404,2.254222869873047,3.199249029159546,0.3606979548931122,2.529996871948242,2.9039952754974365,3.5145068168640137,3.4333009719848633,2.0424959659576416,3.0932230949401855,2.992751121520996,2.6149609088897705,3.2296302318573,1.723559021949768,1.4049580097198486,0.9419884085655212,1.4114874601364136,2.181302785873413,2.687866687774658,2.650205135345459,2.263601064682007,2.0361645221710205,1.9775254726409912,0.6368123292922974,0.5647566914558411,0.24163010716438293,1.578173279762268,0.23182834684848785,0.8395633697509766,1.490478754043579,3.6708791255950928,0.40723881125450134,0.38439399003982544,0.16203531622886658,2.638439655303955,0.568291187286377,1.5006728172302246,1.1730549335479736,1.5292857885360718,1.0085062980651855,2.6519980430603027,1.31361722946167,0.4193626642227173,2.8452751636505127,0.370120644569397,0.9768799543380737,2.0367512702941895,3.9065821170806885,3.1844303607940674,2.2655632495880127,0.9107652306556702,1.6303861141204834,0.9417983889579773,1.6210124492645264,2.6688618659973145,2.7916197776794434,2.6250381469726562,0.9195679426193237,2.4809093475341797,0.3661908507347107,0.3098275065422058,2.414348602294922,3.3553266525268555,0.12986329197883606,2.104471206665039,3.4740214347839355,0.4534033536911011,2.0095887184143066,3.38021183013916,0.6514879465103149,3.102914333343506,0.5000088810920715,2.6253795623779297,0.16250108182430267,2.3246304988861084,0.6290651559829712,3.3454813957214355,2.017028331756592,2.0199527740478516,2.659954071044922,0.19587412476539612,0.3119703531265259,0.1392820179462433,0.5284520387649536,0.6398872137069702,0.23848189413547516,1.9258418083190918,0.752068042755127,0.49179592728614807,1.7036471366882324,1.8369942903518677,1.0546060800552368,1.042238712310791,0.1445983648300171,3.4480278491973877,1.4726555347442627,1.3981801271438599,2.3977808952331543,0.7598239779472351,0.7159024477005005,1.1564242839813232,0.28659144043922424,0.5333243012428284,0.5453118085861206,0.3823951482772827,0.4130830764770508,0.15707096457481384,2.394507884979248,1.4195189476013184,0.20244914293289185,0.12154822796583176,2.2473206520080566,0.16496138274669647,0.14535585045814514,0.27153468132019043,3.1606063842773438,0.10823571681976318,1.8006960153579712,1.090445876121521,2.9978182315826416,0.8846737742424011,0.11956164985895157,0.2952767610549927,1.3757154941558838,1.614197850227356,1.4656832218170166,0.35231733322143555,0.8391903638839722,0.15522408485412598,0.18981517851352692,0.5070157051086426,0.1336863934993744,0.8894578218460083,1.2425655126571655,2.4671521186828613,0.1984749734401703,0.18889550864696503,0.9754490852355957,1.7435986995697021,0.30667227506637573,0.45051419734954834,0.22302085161209106,1.4921975135803223,2.403857469558716,2.2173638343811035,0.17005577683448792,0.43836694955825806,0.42617976665496826,2.163832664489746,1.5415213108062744,0.11571057885885239,0.5712395906448364,0.09713409841060638,0.4931800961494446,2.9959285259246826,0.7803971767425537,4.4722089767456055,0.49023276567459106,0.2543225586414337,4.332639694213867,0.09612342715263367,0.35837844014167786,0.19207072257995605,0.14247873425483704,0.2179240882396698,1.5008506774902344,0.2345348298549652,0.5820842385292053,0.7424628734588623,1.7346605062484741,1.1408793926239014,1.0579520463943481,1.9263654947280884,1.1977143287658691,0.16782040894031525,1.9391436576843262,0.5236179232597351,0.28140607476234436,0.12148039042949677,0.8668848276138306,1.5775014162063599,2.8932511806488037,2.3579673767089844,0.22692345082759857,0.44377511739730835,3.103400707244873,0.19917705655097961,3.4665074348449707,0.16290491819381714,0.24591881036758423,0.10599519312381744,0.3506507873535156,0.1753871589899063,0.1961573213338852,0.1511743664741516,2.982673168182373,1.067158818244934,0.16877511143684387,0.16022416949272156,2.9195289611816406,0.3728257715702057,0.27132150530815125,1.5029852390289307,3.4318084716796875,1.281952977180481,2.7192463874816895,0.08314408361911774,2.484593391418457,0.1318337321281433,0.3506794571876526,0.5254371762275696,0.22028504312038422,0.1706603318452835,0.05981568992137909,0.19040732085704803,0.19154968857765198,0.14799553155899048,0.8395658731460571,0.16768813133239746,2.158980131149292,0.281654417514801,0.09807465970516205,0.8081487417221069,2.376744031906128,0.08586425334215164,2.2103497982025146,1.7069276571273804,0.45905202627182007,0.25238490104675293,2.277160406112671,0.10574160516262054,2.0075669288635254,0.07825558632612228,0.05498427152633667,0.41265562176704407,0.8075451254844666,0.2609281539916992,0.5350937843322754,0.26146674156188965,0.3670581877231598,1.20467209815979,0.20934735238552094,1.4744789600372314,0.37721601128578186,0.07528895139694214,1.6178793907165527,1.5082576274871826,0.13852134346961975,0.470492422580719,0.9858459234237671,0.17777638137340546,0.19493699073791504,1.2331527471542358,0.15446126461029053,0.1589261293411255,0.08613079786300659,0.14094090461730957,0.2664544880390167,0.11396147310733795,0.12500938773155212,0.09436054527759552,0.7138071060180664,0.3893018364906311,0.07027667760848999,0.6226646900177002,0.44822582602500916,0.09140554070472717,0.1535293459892273,0.4101252257823944,0.1768190860748291,0.08155450969934464,1.0760633945465088,1.10819411277771,0.7330245971679688,0.6678223609924316,0.12608149647712708,0.7932403087615967,0.7321368455886841,0.10344929993152618,0.27338650822639465,0.06599603593349457,0.06721451133489609,0.09877005219459534,0.16122815012931824,1.1260466575622559,0.24344581365585327,1.6024152040481567,0.16111990809440613,0.14802969992160797,1.0229789018630981,1.1023823022842407,0.23754312098026276,0.8308459520339966,0.0684053897857666,0.723210334777832,3.1315321922302246,0.1439712643623352,0.14958474040031433,0.25047722458839417,2.90623140335083,0.16133588552474976,0.07151506841182709,0.11214956641197205,1.2528165578842163,0.06515555828809738,1.145912766456604,0.11877027153968811,0.152934730052948,0.17232443392276764,0.16538788378238678,0.12124335020780563,0.1410614252090454,0.23693588376045227,0.08059308677911758,2.106581687927246,0.4620382785797119,0.5699119567871094,0.3198263645172119,0.13328582048416138,0.0848785787820816,0.3261295258998871,0.08479128777980804,0.46773213148117065,1.5553910732269287,0.12226484715938568,0.08753784000873566,0.31070083379745483,0.10441316664218903,0.06552798300981522,0.26258373260498047,0.12334398925304413,0.11756278574466705,0.18657198548316956,0.1563720405101776,2.52101993560791,0.2882899343967438,0.4873201251029968,0.30102309584617615,0.07637692987918854,0.1192266196012497,0.06288017332553864,0.4939376711845398,0.18592838943004608,0.4393535554409027,0.7151132822036743,0.10230626165866852,0.5784178972244263,0.05377362668514252,0.537307620048523,0.11297932267189026,0.35027867555618286,0.17569398880004883,0.11098574846982956,0.04735401272773743,0.08500897884368896,0.2674466371536255,0.059380896389484406,1.5301949977874756,0.8276273608207703,0.03911847621202469,0.2823188602924347,0.023713823407888412,0.11972493678331375,0.12500150501728058,0.3097411096096039,0.0389711931347847,0.11263856291770935,0.09843667596578598,0.1632584184408188,0.2053198516368866,0.19847172498703003,0.19209139049053192,0.6793582439422607,0.07347710430622101,0.2556864023208618,0.744414210319519,0.929709255695343,0.09082858264446259,0.07557904720306396,1.0217370986938477,0.6283575892448425,0.17733153700828552,1.3480775356292725,0.196144700050354,0.05482350289821625,0.1415906548500061,0.11983101069927216,0.15938493609428406,1.9227993488311768,3.197114944458008,3.137449264526367,0.6644773483276367,0.3113369941711426,0.07736222445964813,0.0835532695055008,0.05918928608298302,0.2614436745643616,0.060785457491874695,0.08560673892498016,0.06035816669464111,0.046880289912223816,0.6765204668045044,0.10011523962020874,0.11989188194274902,0.08904242515563965,0.0652453750371933,0.05153603479266167,0.08996279537677765,0.26544904708862305,0.04590797424316406,0.26990175247192383,0.052345991134643555,0.10715459287166595,0.16681386530399323,0.07834570109844208,0.08218932896852493,0.04231548309326172,0.06483954191207886,1.6224753856658936,0.4316578507423401,0.06981629133224487,0.06292364746332169,0.06207458674907684,0.2369110882282257,1.0798417329788208,0.07922821491956711,0.029648112133145332,0.07738155126571655,0.02904343605041504,0.6242327690124512,0.12276735156774521,0.23293247818946838,0.1320686936378479,0.049688614904880524,0.11632223427295685,0.12938672304153442,0.06909441947937012,0.16047878563404083,0.059024564921855927,3.8939356803894043,0.0852077528834343,0.1354488879442215,0.051681146025657654,0.09108445048332214,0.043213196098804474,0.0835769921541214,0.108029305934906,0.2044081687927246,0.11338327825069427,0.4701424837112427,0.021583853289484978,0.10993500798940659,0.09625667333602905,0.7754268050193787,0.6852977275848389,0.13114315271377563,0.12132848799228668,0.03599243238568306,0.0458376407623291,0.5319687724113464,0.031123299151659012,0.032116204500198364,0.06605525314807892,0.11822435259819031,0.42353108525276184,0.10437022149562836,0.11794941872358322,0.07029633224010468,0.04248473048210144,0.06770680844783783,0.20899978280067444,0.2086542248725891,0.06550619006156921,0.08313818275928497,0.0731482207775116,0.06618375331163406,0.25208616256713867,0.02148100733757019,0.06672054529190063,0.4378378689289093,0.04852665960788727,0.0338720977306366,0.07292936742305756,0.15673606097698212,0.1868896782398224,0.0677051842212677,0.03665614873170853,0.281110554933548,0.18949231505393982,0.13328593969345093,0.12086433917284012,0.20177161693572998,0.10221664607524872,0.1254943162202835,3.0581791400909424,0.01752384938299656,0.06857416033744812,0.05280613154172897,2.7814671993255615,0.20157748460769653,0.0735182911157608,0.046743303537368774,0.1163291186094284,0.08970209956169128,0.09265711903572083,0.18634872138500214,0.07591430097818375,0.07114551216363907,0.06621222198009491,0.053596094250679016,0.2142651081085205,0.0677332878112793,0.047835081815719604,0.12940257787704468,0.03899063169956207,0.09385917335748672,0.3473464250564575,0.052529819309711456,0.026835519820451736,0.04961950331926346,0.06170371174812317,0.04221903532743454,0.041958682239055634,0.08452624082565308,0.06913796067237854,0.03595128655433655,0.0688856765627861,0.7898321151733398,0.028242051601409912,0.6392168998718262,0.04951887205243111,0.04673228785395622,0.10455888509750366,0.0955783873796463,0.0570419579744339,0.07995862513780594,0.15527957677841187,0.050737179815769196,0.02475627139210701,0.0866081714630127,0.06377903372049332,0.039006151258945465,0.03533312678337097,0.024611111730337143,0.05567608028650284,0.05766907334327698,0.10945601761341095,0.21410031616687775,1.2321668863296509,0.04913953319191933,0.05265723913908005,0.06990203261375427,0.08222000300884247,0.02090376242995262,0.06498454511165619,0.15676167607307434,0.026806816458702087,0.04516543820500374,0.025244565680623055,0.09316609054803848,0.058405958116054535,0.12807618081569672,0.35784393548965454,0.05165613442659378,0.10584796220064163,0.10749347507953644,0.04623221233487129,0.04279404133558273,0.016976304352283478,0.07559190690517426,0.07089358568191528,0.022101901471614838,0.0734136551618576,0.06394022703170776,0.11551471054553986,0.039193592965602875,1.5066778659820557,0.17257198691368103,0.08447855710983276,0.40528953075408936,0.6040941476821899,0.053110457956790924,0.03256400674581528,0.05613184720277786,0.05196491256356239,0.043909139931201935,0.3927801847457886,0.1099194586277008,0.05475015193223953,0.0850815623998642,0.048636969178915024,0.04318617284297943,0.046713680028915405,0.05648301914334297,0.03846944123506546,0.0399705171585083,0.06311014294624329,0.03478492796421051,0.059716612100601196,0.04770950600504875,0.08764227479696274,0.044159840792417526,0.048686858266592026,0.048444848507642746,0.07297316938638687,0.05582749843597412,0.060359008610248566,0.04317738860845566,0.6463139057159424,0.01961853727698326,0.04564960300922394,0.06256095319986343,0.7455716133117676,0.1701241433620453,0.03514301776885986,0.04534851014614105,0.049341630190610886,0.0509619414806366,0.10519830137491226,0.04632405936717987,0.1827651560306549,0.21606245636940002,0.07100491225719452,0.052266884595155716,0.06955292075872421,0.15983495116233826,0.04338528960943222,0.036014556884765625,0.10710528492927551,0.03223099932074547,0.10808923840522766,0.026779357343912125,0.051196515560150146,0.04432852193713188,0.028050865978002548,0.040438782423734665,0.12841063737869263,0.0515073761343956,0.0683148205280304,0.12591803073883057,0.041356127709150314,0.04915035516023636,0.04856833815574646,0.05664786323904991,0.028266560286283493,0.04465746134519577,0.23665350675582886,0.09476833790540695,0.051054857671260834,0.03339732810854912,0.05705362930893898,0.11839625239372253,0.02439708635210991,0.09139589220285416,0.029090162366628647,0.0458500012755394,0.0705195739865303,0.02093852125108242,0.0334574393928051,0.08655254542827606,0.044066496193408966,0.07347860932350159,0.0393882691860199,0.021731289103627205,0.03284117206931114,0.068366140127182,0.04102315753698349,0.047578856348991394,0.05119013041257858,0.042427632957696915,0.022663362324237823,0.021709242835640907,0.5349564552307129,0.06698369979858398,0.04187822341918945,0.23377859592437744,0.040556252002716064,0.037575311958789825,0.1278003752231598,0.04809996858239174,0.01572960987687111,0.05540546774864197,0.03398799151182175,0.06936276704072952,0.08052009344100952,0.0904899314045906,0.04158022999763489,0.038936980068683624,0.06946133077144623,0.08978540450334549,0.032534919679164886,0.0405799001455307,0.01774558052420616,0.042737457901239395,0.04038858413696289,0.028427744284272194,0.39930620789527893,0.04268241673707962,0.04163892939686775,0.0344153493642807,0.12256567180156708,0.038728222250938416,0.03919904679059982,0.04006228595972061,0.051505882292985916,0.03886063024401665,0.05421175807714462,0.04271858185529709,0.0341254360973835,0.034435637295246124,0.031001094728708267,0.09048545360565186,0.06157747283577919,0.06004229933023453,0.03215937316417694,0.06417542695999146,0.04063962399959564,0.018097534775733948,0.05173693597316742,0.042295392602682114,0.04294121637940407,0.0206596739590168,0.08890548348426819,0.08940167725086212,0.06790854781866074,0.04937563091516495,0.06048041582107544,0.02381002902984619,0.08322001248598099,0.03644438832998276,0.020866282284259796,0.02861897088587284,0.035817861557006836,0.01886747032403946,0.042080290615558624,0.03279939293861389,0.02786075510084629,0.027141470462083817,0.02851826697587967,0.018422525376081467,0.024450555443763733,0.17414428293704987,0.034394316375255585,0.05225103348493576,0.05883835628628731,0.023151926696300507,0.02311505377292633,0.016990333795547485,0.04596659541130066,0.025230996310710907,0.016634315252304077,0.7304608821868896,0.017024146392941475,0.027631856501102448,0.043977171182632446,0.03970828279852867,0.027004424482584,0.05135265737771988,0.03367418050765991,0.08157238364219666,0.0340515673160553,0.053032152354717255,0.030750516802072525,0.028962336480617523,0.05309528112411499,0.028916655108332634,0.08109670132398605,0.019488148391246796,0.01830119639635086,0.24840278923511505,0.03853851929306984,0.07759985327720642,0.03597754240036011,0.026963498443365097,0.04048050194978714,0.023037990555167198,0.03403394669294357,0.025782540440559387,0.030530177056789398,0.02815139852464199,0.05396657809615135,0.043673112988471985,0.014956450089812279,0.06568650901317596,0.09997229278087616,0.021051786839962006,0.03452035412192345,0.035210154950618744,0.23763835430145264,0.01666565053164959,0.023927554488182068,0.02274135872721672,0.027197981253266335,0.028868399560451508,0.046090275049209595,0.024768829345703125,0.05261516571044922,0.019659604877233505,0.014567336067557335,0.03852193430066109,0.1687527596950531,0.018923265859484673,0.2420954406261444,0.014603889547288418,0.08350233733654022,0.043078333139419556,0.022466078400611877,0.020188702270388603,0.11806277930736542,0.026654284447431564,0.04453497380018234,0.04061082750558853,0.019304867833852768,0.012700357474386692,0.022994060069322586,0.04206869378685951,0.06339205056428909,0.024760574102401733,0.06654750555753708,0.028964895755052567,0.026180829852819443,0.049982763826847076,0.06961081922054291,0.02591341733932495,0.04233333095908165,0.030025318264961243,0.10918711870908737,0.023451536893844604,0.054168522357940674,0.026264341548085213,0.03330523148179054,0.060669075697660446,0.06626003235578537,0.022156216204166412,0.02647717297077179,0.06997184455394745,0.020583000034093857,0.023343224078416824,0.034576933830976486,0.012780588120222092,0.010305671952664852,0.02646387740969658,0.041529007256031036,0.022286534309387207,0.01950014941394329,0.017678119242191315,0.049098215997219086,0.020579876378178596,0.026204215362668037,0.02566000074148178,0.030798835679888725,0.024255283176898956,0.018574446439743042,0.0334741473197937,0.016525188460946083,0.051611270755529404,0.02092267945408821,0.09564782679080963,0.10846787691116333,0.03953159600496292,0.022964254021644592,0.023227203637361526,0.0584428533911705,0.02098054252564907,0.02241443283855915,0.059913646429777145,0.014047838747501373,0.03303534910082817,0.03185153007507324,0.05300654470920563,0.042204249650239944,0.04240132123231888,0.04573503136634827,0.024141494184732437,0.020842403173446655,0.04658222943544388,0.03398704156279564,0.0955648422241211,0.030807431787252426,0.04127911478281021,0.08357830345630646,0.09193616360425949,0.027710944414138794,0.043154578655958176,0.056851498782634735,0.015337392687797546,0.0158851221203804,0.03243377059698105,0.02715592086315155,0.020305749028921127,0.017864584922790527,0.03127229958772659,0.013269567862153053,0.013995852321386337,0.025408146902918816,0.020510753616690636,0.023674219846725464,0.025048332288861275,0.026611827313899994,0.01382214855402708,0.01785227656364441,0.01778828725218773,0.08502321690320969,0.019914690405130386,0.0177995003759861,0.014962716959416866,0.026977285742759705,0.04324813559651375,0.06891173124313354,0.028098858892917633,0.014089588075876236,0.02172752469778061,0.03489683195948601,0.02677035704255104,0.019338088110089302,0.010588645935058594,0.021091287955641747,0.02298790216445923,0.01028752326965332,0.010430553928017616,0.039464421570301056,0.009326310828328133,0.024986030533909798,0.018984487280249596,0.025013841688632965,0.02174914814531803,0.054902054369449615,0.025993123650550842,0.032439954578876495,0.016672465950250626,0.06356804072856903,0.02178071066737175,0.04219339042901993,0.04100630059838295,0.02770954743027687,0.023498529568314552,0.04672685265541077,0.020415252074599266,0.01932445913553238,0.01456182450056076,0.016227398067712784,0.015041517093777657,0.016049977391958237,0.038543686270713806,0.019892586395144463,0.021039476618170738,0.014020649716258049,0.027814049273729324,0.02168329432606697,0.038651563227176666,0.02665189653635025,0.0148417754098773,0.03238915279507637,0.01141221635043621,0.018084082752466202,0.013270305469632149,0.013186682015657425,0.0311892069876194,0.016939880326390266,0.03248381242156029,0.02002410963177681,0.02116893231868744,0.013660214841365814,0.03095024824142456,0.012634572573006153,0.02406708151102066,0.022691158577799797,0.009712204337120056,0.008962013758718967,0.03031083568930626,0.011048413813114166,0.020918259397149086,0.0225885808467865,0.028527047485113144,0.022378120571374893,0.00865625124424696,0.014036783948540688,0.04286831617355347,0.022937225177884102,0.022709399461746216,0.01879332959651947,0.01835452765226364,0.031116414815187454,0.020770730450749397,0.015281694009900093,0.023748546838760376,0.021683435887098312,0.018738845363259315,0.01805945113301277,0.01594311185181141,0.03424929082393646,0.009107744321227074,0.07117798924446106,0.04357471317052841,0.017187252640724182,0.02353828400373459,0.029878990724682808,0.01386863924562931,0.019273856654763222,0.026294725015759468,0.012164812535047531,0.04438988119363785,0.011011727154254913,0.022261489182710648,0.01038319431245327,0.04389563202857971,0.022207772359251976,0.05592036619782448,0.016734110191464424,0.016504541039466858,0.013391489163041115,0.0312625914812088,0.039821378886699677,0.02949332818388939,0.013252869248390198,0.024797936901450157,0.011211690492928028,0.021403547376394272,0.02004571259021759,0.021884288638830185,0.008732490241527557,0.011942461133003235,0.01743529736995697,0.012451879680156708,0.027053479105234146,0.017363399267196655,0.010906352661550045,0.047977205365896225,0.0075085945427417755,0.015784941613674164,0.01545637659728527,0.010759059339761734,0.015082638710737228,0.013714727945625782,0.01164364442229271,0.01065259799361229,0.02386282943189144,0.009634959511458874,0.011895108968019485,0.011179996654391289,0.013251777738332748,0.01948000118136406,0.007546939421445131,0.011504780501127243,0.033056505024433136,0.008879033848643303,0.012273582629859447,0.03664425015449524,0.02150462195277214,0.03017125278711319,0.009954679757356644,0.01376343797892332,0.009180516004562378,0.03248593211174011,0.04891643673181534,0.009627413004636765,0.12201893329620361,0.015096543356776237,0.039018772542476654,0.011494661681354046,0.017897028475999832,0.05178083851933479,0.023527249693870544,0.017783835530281067,0.03949350863695145,0.00881367176771164,0.051303356885910034,0.015932559967041016,0.023999866098165512,0.015418165363371372,0.00934771541506052,0.02526760660111904,0.007604246959090233,0.029905568808317184,0.01726043038070202,0.02296355739235878,0.0319981724023819,0.015166014432907104,0.008609076961874962,0.009303813800215721,0.02646718919277191,0.0147114098072052,0.0535547100007534,0.011926422826945782,0.006268030032515526,0.00831804983317852,0.01826191134750843,0.01491509098559618,0.05139387398958206,0.03378314897418022,0.03551261126995087,0.020364373922348022,0.011593310162425041,0.025421150028705597,0.03175888583064079,0.02323094941675663,0.02366774156689644,0.02032022550702095,0.009449438191950321,0.011961490847170353,0.007082364056259394,0.02933191880583763,0.019972901791334152,0.022425295785069466,0.008382648229598999,0.026155788451433182,0.027903534471988678,0.007129601202905178,0.020948901772499084,0.013441858813166618,0.005557427182793617,0.007386554032564163,0.022425804287195206,0.013767065480351448,0.0063545312732458115,0.012596305459737778,0.014262033626437187,0.018369581550359726,0.022131137549877167,0.016568437218666077,0.013058966025710106,0.008314905688166618,0.030339553952217102,0.01855567842721939,0.015528341755270958,0.01655014231801033,0.019783934578299522,0.00966958049684763,0.013972215354442596,0.01252073049545288,0.024805985391139984,0.017544694244861603,0.008779214695096016,0.010235508903861046,0.01475456915795803,0.006346795707941055,0.030231520533561707,0.015028763562440872,0.006264751777052879,0.009584596380591393,0.01590801402926445,0.03713018447160721,0.015817997977137566,0.014973831363022327,0.033054232597351074,0.006466192193329334,0.012179620563983917,0.013545520603656769,0.033886365592479706,0.031463976949453354,0.015341202728450298,0.01901336945593357,0.04560082405805588,0.033167533576488495,0.01216838601976633,0.014145802706480026,0.024517523124814034,0.008961797691881657,0.014008741825819016,0.01264919526875019,0.017218228429555893,0.013521548360586166,0.03134649991989136,0.0118440892547369,0.014448100700974464,0.01106826588511467,0.015171606093645096,0.016551272943615913,0.012533203698694706,0.03551255166530609,0.024325594305992126,0.012137212790548801,0.006777872331440449,0.011316314339637756,0.02509768307209015,0.014930003322660923,0.02699781209230423,0.006257295608520508,0.012909075245261192,0.009569840505719185,0.015377746894955635,0.018281355500221252,0.004934917204082012,0.017730943858623505,0.01219145953655243,0.009794668294489384,0.006229906342923641,0.007863562554121017,0.013555229641497135,0.023752665147185326,0.006164109334349632,0.009317297488451004,0.028498822823166847,0.014913870953023434,0.013203885406255722,0.020776499062776566,0.042648401111364365,0.007919380441308022,0.011500461027026176,0.01666896790266037,0.007041488774120808,0.0139088723808527,0.012290950864553452,0.028790351003408432,0.014871134422719479,0.015073055401444435,0.00947749987244606,0.009672955609858036,0.014256392605602741,0.015101132914423943,0.005757702514529228,0.009973444044589996,0.006398709490895271,0.017283134162425995,0.011273723095655441,0.013782555237412453,0.022421568632125854,0.011154431849718094,0.027625130489468575,0.01145463902503252,0.027990862727165222,0.020181920379400253,0.03178415447473526,0.010459460318088531,0.01357157714664936,0.01328358892351389,0.011792190372943878,0.018947623670101166,0.019140442833304405,0.00969354435801506,0.007358223665505648,0.018178924918174744,0.01743590459227562,0.006255615036934614,0.029462309554219246,0.011861348524689674,0.00967654213309288,0.01374408882111311,0.010508185252547264,0.006800585892051458,0.0054693398997187614,0.018873512744903564,0.020222587510943413,0.00820843130350113,0.006219881121069193,0.010123766958713531,0.02001139707863331,0.008819753304123878,0.012751782312989235,0.01879202574491501,0.0188558679074049,0.015595736913383007,0.009153754450380802,0.011812389828264713,0.00730958953499794,0.009519888088107109,0.0071866135112941265,0.007428666111081839,0.00822773389518261,0.014464392326772213,0.01197052001953125,0.006082775071263313,0.01803082600235939,0.004907646216452122,0.004712560214102268,0.010009154677391052,0.009429747238755226,0.014359827153384686,0.00823365431278944,0.025503885000944138,0.03340954706072807,0.007473798003047705,0.009693950414657593,0.017339034005999565,0.008387168869376183,0.005413662642240524,0.01778535172343254,0.01873614266514778,0.009593676775693893,0.010535557754337788,0.024489127099514008,0.013516737148165703,0.014717912301421165,0.007790789939463139,0.014506271108984947,0.007586944382637739,0.007031197659671307,0.012648716568946838,0.007473997306078672,0.009721318259835243,0.009102411568164825,0.004850821569561958,0.01663687825202942,0.009259654209017754,0.016939101740717888,0.018826939165592194,0.005710782948881388,0.012036576867103577,0.006867220159620047,0.012729126960039139,0.008919640444219112,0.010273241437971592,0.007182424888014793,0.004534674808382988,0.01562788337469101,0.012680372223258018,0.008062673732638359,0.01139441691339016,0.010550586506724358,0.009711232036352158,0.008033441379666328,0.014194371178746223,0.020747680217027664,0.031036950647830963,0.01031186617910862,0.00848187692463398,0.00865822285413742,0.015532104298472404,0.004358613397926092,0.053176820278167725,0.004264790564775467,0.005904331803321838,0.02402990311384201,0.005087831523269415,0.025284793227910995,0.010990463197231293,0.004659564699977636,0.011987210251390934,0.01191092748194933,0.015167946927249432,0.012587355449795723,0.004638629965484142,0.00868050754070282,0.03204488754272461,0.00774815259501338,0.01509356964379549,0.011520208790898323,0.010355832986533642,0.010192366316914558,0.024487357586622238,0.009095598012208939,0.0064134676940739155,0.008029017597436905,0.009678990580141544,0.00846201553940773,0.0036228219978511333,0.007523092441260815,0.006311054341495037,0.011180317029356956,0.02595110982656479,0.006321215070784092,0.005911757238209248,0.011483844369649887,0.008580734021961689,0.006312007084488869,0.0044317347928881645,0.004311916418373585,0.012573089450597763,0.01293429546058178,0.018506385385990143,0.018763547763228416,0.004278411157429218,0.005667317193001509,0.007008385844528675,0.009697838686406612,0.0047903237864375114,0.01421053521335125,0.023393595591187477,0.010142017155885696,0.021123377606272697,0.019277362152934074,0.00778723880648613,0.013217957690358162,0.003984452690929174,0.00978822447359562,0.011051193810999393,0.006902425084263086,0.015849385410547256,0.022358370944857597,0.0065330262295901775,0.023379238322377205,0.012814691290259361,0.0058612762950360775,0.008739335462450981,0.006326694041490555,0.010202612727880478,0.0177016519010067,0.005700766108930111,0.02166787162423134,0.010004542768001556,0.012232230044901371,0.009721960872411728,0.007388907950371504,0.010703501291573048,0.005926287733018398,0.008883164264261723,0.013560935854911804,0.01609884575009346,0.004356288351118565,0.014756946824491024,0.007131936028599739,0.007763704285025597,0.008084133267402649,0.011362516321241856,0.018992291763424873,0.007088849786669016,0.009489494375884533,0.003619295544922352,0.005608106032013893,0.004706637933850288,0.0062629287131130695,0.0161769799888134,0.00690692663192749,0.016382504254579544,0.010361310094594955,0.02525690197944641,0.008244995027780533,0.014653576537966728,0.005105033051222563,0.011391771025955677,0.004506560042500496,0.011364489793777466,0.008176705799996853,0.009940270334482193,0.009395956061780453,0.012100343592464924,0.009296809323132038,0.006908985786139965,0.0038919539656490088,0.01105491816997528,0.008167923428118229,0.003134571947157383,0.011997753754258156,0.010530054569244385,0.006595000624656677,0.01427679043263197,0.0068102311342954636,0.013820676133036613,0.0074117472395300865,0.012786022387444973,0.003383368719369173,0.004952911287546158,0.006555530242621899,0.007526243105530739,0.005752970464527607,0.017712000757455826,0.009821765124797821,0.0065288539044559,0.005446114577353001,0.005634506233036518,0.010685357265174389,0.012009486556053162,0.007539388258010149,0.008323358371853828,0.007383739575743675,0.009484827518463135,0.006930380128324032,0.009870319627225399,0.007150470744818449,0.014732720330357552,0.00833088904619217,0.019419047981500626,0.017440784722566605,0.005825535394251347,0.009878816083073616,0.011533113196492195,0.009179464541375637,0.0033676938619464636,0.004368226043879986,0.0061477371491491795,0.009814407676458359,0.009913533926010132,0.004654714372009039,0.004430214408785105,0.00503701763227582,0.008239501155912876,0.012747793458402157,0.005291052162647247,0.007398441433906555,0.00921517051756382,0.005863825790584087,0.037270985543727875,0.004590321332216263,0.008468704298138618,0.005572834052145481,0.0031616664491593838,0.01042983215302229,0.007034159265458584,0.005074650980532169,0.005944881588220596,0.009682473726570606,0.008255483582615852,0.01180510688573122,0.008288605138659477,0.006526752840727568,0.012684715911746025,0.020437754690647125,0.007061704993247986,0.003438783809542656,0.004492360632866621,0.0109651368111372,0.004636725410819054,0.010251536034047604,0.0085318423807621,0.003917114809155464,0.04628164321184158,0.01826271042227745,0.004529185593128204,0.017995040863752365,0.0032792354468256235,0.006744825281202793,0.015043486841022968,0.004936259239912033,0.024615641683340073,0.005652646534144878,0.0054066963493824005,0.011165397241711617,0.013239530846476555,0.008139951154589653,0.00837317667901516,0.0046316152438521385,0.0077998521737754345,0.009757038205862045,0.006430798210203648,0.004111972637474537,0.02429104596376419,0.006643323227763176,0.009561573155224323,0.00427455548197031,0.0048941271379590034,0.009751759469509125,0.0058858864940702915,0.004070135299116373,0.004562467336654663,0.010945580899715424,0.02095860242843628,0.005979055073112249,0.004950854927301407,0.010542518459260464,0.008894952945411205,0.012762835249304771,0.006273579318076372,0.008224405348300934,0.00552042480558157,0.007539321668446064,0.00562117388471961,0.008265289478003979,0.004483291879296303,0.003791970666497946,0.00521616917103529,0.01220388151705265,0.00575999915599823,0.006144941784441471,0.0027792169712483883,0.004886729177087545,0.00928252562880516,0.006798663642257452,0.008328426629304886,0.01520155556499958,0.08043751865625381,0.010208748281002045,0.007705945987254381,0.00866542849689722,0.006569990422576666,0.005097158253192902,0.005333303473889828,0.020469771698117256,0.00391400745138526,0.008953278884291649,0.010118765756487846,0.009699522517621517,0.0075507815927267075,0.010512469336390495,0.004572836682200432,0.012761641293764114,0.007311411201953888,0.007649238221347332,0.012205300852656364,0.008994856849312782,0.0072559453547000885,0.010808978229761124,0.0062980554066598415,0.004306376911699772,0.035874366760253906,0.009079338051378727,0.007889030501246452,0.008566733449697495,0.003286778461188078,0.006887860596179962,0.0056012957356870174,0.00791223905980587,0.005865471437573433,0.006251312792301178,0.026521142572164536,0.004236323293298483,0.005451883655041456,0.008220672607421875,0.00425610039383173,0.0039008338935673237,0.0071863774210214615,0.007006810978055,0.009687120094895363,0.00515321921557188,0.004869270138442516,0.003581463824957609,0.004332507960498333,0.007176203653216362,0.005513617768883705,0.030303101986646652,0.0034409649670124054,0.0057018594816327095,0.0059449817053973675,0.003914492670446634,0.011963210068643093,0.006526920013129711,0.012632092460989952,0.007596749812364578,0.007153022103011608,0.004163161851465702,0.005608963780105114,0.004848626907914877,0.006200615782290697,0.010046965442597866,0.015307020395994186,0.016861476004123688,0.01236623153090477,0.015609248541295528,0.00781681202352047,0.0033309748396277428,0.004586582072079182,0.0032212757505476475,0.003384602488949895,0.006373904645442963,0.005479724146425724,0.003795380238443613,0.0073421671986579895,0.009878719225525856,0.00889391265809536,0.0217609740793705,0.004458713345229626,0.010042153298854828,0.017188673838973045,0.00822109542787075,0.005673275329172611,0.012140221893787384,0.004901229403913021,0.003277891082689166,0.004347526468336582,0.011855017393827438,0.013014141470193863,0.006045421585440636,0.0036326092667877674,0.0061116898432374,0.0050011733546853065,0.018337219953536987,0.004533044062554836,0.012196317315101624,0.020524971187114716,0.003687590593472123,0.005839682184159756,0.006099652498960495,0.013473722152411938,0.004628192167729139,0.0032200515270233154,0.005555727984756231,0.0033351141028106213,0.005857626907527447,0.006642479449510574,0.0046331267803907394,0.011173006147146225,0.006804747506976128,0.01667560450732708,0.00487444968894124,0.004170210100710392,0.0056445179507136345,0.007262281607836485,0.0075790598057210445,0.005032630637288094,0.008147010579705238,0.008357588201761246,0.006896219216287136,0.004503555130213499,0.004577418323606253,0.004164239391684532,0.012281883507966995,0.004533448722213507,0.018780434504151344,0.0029520890675485134,0.00678602047264576,0.004212559200823307,0.022033825516700745,0.0028809295035898685,0.004716630093753338,0.036795005202293396,0.008391992188990116,0.003286153543740511,0.004797650035470724,0.005155501887202263,0.005894743837416172,0.005916052497923374,0.006239292211830616,0.005732539109885693,0.00388603494502604,0.0041496106423437595,0.004432501271367073,0.01184041053056717,0.003604627214372158,0.008830650709569454,0.019121527671813965,0.0033029215410351753,0.00544805359095335,0.013424898497760296,0.014357184059917927,0.0058739641681313515,0.026306476444005966,0.007669888436794281,0.005289864726364613,0.004368949681520462,0.005746844690293074,0.009427530691027641,0.0113519337028265,0.015046210028231144,0.004037696402519941,0.004112496972084045,0.005708486773073673,0.005699917674064636,0.0028971205465495586,0.0030606321524828672,0.00620274618268013,0.012712492607533932,0.006179060786962509,0.004157755523920059,0.0035767771769315004,0.0064650229178369045,0.00569121865555644,0.008576317690312862,0.006782442796975374,0.007503568194806576,0.0072836484760046005,0.017843514680862427,0.004621620289981365,0.00786072202026844,0.004670336842536926,0.007352754008024931,0.0057547567412257195,0.018542557954788208,0.005873357877135277,0.011570095084607601,0.006093834526836872,0.0037285673897713423,0.0030215769074857235,0.00972833763808012,0.005549515597522259,0.005889717023819685,0.0054372260347008705,0.0070706941187381744,0.012381909415125847,0.007533353753387928,0.011057421565055847,0.004672610200941563,0.004538969602435827,0.017133068293333054,0.006169227417558432,0.007187363691627979,0.004742561373859644,0.004999939352273941,0.015851939097046852,0.011547058820724487,0.0075891343876719475,0.01277122087776661,0.003921939060091972,0.00775195611640811,0.007264222949743271,0.006392268463969231,0.006293824873864651,0.006559023633599281,0.003176569938659668,0.004355860408395529,0.004800271708518267,0.0034694368951022625,0.005783495958894491,0.0033230436965823174,0.002661624690517783,0.01368013210594654,0.012918639928102493,0.011556043289601803,0.0027332704048603773,0.004119692370295525,0.009132340550422668,0.003774666925892234,0.003836618037894368,0.00782019179314375,0.0057531120255589485,0.0033485968597233295,0.0026951213367283344,0.009687073528766632,0.008802056312561035,0.013214968144893646,0.002689030487090349,0.006187801249325275,0.005750604905188084,0.006727255415171385,0.00678073288872838,0.0034799594432115555,0.011112207546830177,0.006744724698364735,0.01267150230705738,0.006097910925745964,0.005985099822282791,0.004554163198918104,0.0049553364515304565,0.017582017928361893,0.004835003986954689,0.007800066843628883,0.005023720674216747,0.005069947335869074,0.005323757883161306,0.005364974960684776,0.0032612583599984646,0.025129476562142372,0.007375285029411316,0.008541867136955261,0.007260330021381378,0.002904232358559966,0.008976994082331657,0.0031485583167523146,0.004490630701184273,0.011559264734387398,0.005651700776070356,0.005055359564721584,0.004519232548773289,0.004034319426864386,0.007954344153404236,0.003467181697487831,0.004398516844958067,0.00609545037150383,0.0032393978908658028,0.004687137436121702,0.005824793595820665,0.0065660737454891205,0.015592050738632679,0.004290546290576458,0.005852136295288801,0.004193249624222517,0.005903155542910099,0.011608696542680264,0.010879512876272202,0.011013755574822426,0.005752664525061846,0.005915773566812277,0.003701036097481847,0.012948475778102875,0.010370027273893356,0.004269570577889681,0.0038673863746225834,0.0035128858871757984,0.005992033518850803,0.011918464675545692,0.0031000941526144743,0.00631340965628624,0.003471778007224202,0.005414298269897699,0.003418407402932644,0.003498542821034789,0.0035382090136408806,0.005864627659320831,0.007619071751832962,0.0023382194340229034,0.0030229021795094013,0.005351663567125797,0.005567834246903658,0.011754391714930534,0.005996584426611662,0.004802567884325981,0.005665807984769344,0.013646327890455723,0.0061959149315953255,0.004263482987880707,0.004334522411227226,0.005240467377007008,0.007036256138235331,0.0020812619477510452,0.003754853270947933,0.005311913788318634,0.005397245287895203,0.006587880663573742,0.006910279393196106,0.004734165500849485,0.011966919526457787,0.005320294760167599,0.003299098229035735,0.007329587358981371,0.003589147934690118,0.00399781484156847,0.011007824912667274,0.006934766657650471,0.009871233254671097,0.007069139741361141,0.0037615529727190733,0.005710859317332506,0.004071057308465242,0.008960269391536713,0.0029647289775311947,0.006032988429069519,0.0040310961194336414,0.0067664142698049545,0.008045821450650692,0.004681956954300404,0.0038618214894086123,0.007015377748757601,0.003588559105992317,0.0032403049990534782,0.007059681694954634,0.00391382584348321,0.0037793396040797234,0.006380140315741301,0.003314283676445484,0.004778058733791113,0.011810250580310822,0.002834373153746128,0.004347098059952259,0.00582105852663517,0.005355397704988718,0.0033506311010569334,0.0063538262620568275,0.003393437247723341,0.0033534024842083454,0.005292598158121109,0.005093510262668133,0.010349326767027378,0.0031102802604436874,0.002098201774060726,0.010772669687867165,0.006971259601414204,0.012585904449224472,0.0019692140631377697,0.004663440864533186,0.0028659675735980272,0.004544239956885576,0.00935561116784811,0.0033473866060376167,0.0030307574197649956,0.013897419907152653,0.004707435145974159,0.012776275165379047,0.00812162272632122,0.006200392264872789,0.00270652212202549,0.005506790708750486,0.004695385694503784,0.005262464284896851,0.006283033173531294,0.0043053459376096725,0.0028809853829443455,0.018313337117433548,0.007910126820206642,0.00469279894605279,0.004627147689461708,0.006000062916427851,0.004054354038089514,0.013459217734634876,0.004369797650724649,0.0025997627526521683,0.004917198792099953,0.012571659870445728,0.0062716444954276085,0.0037598605267703533,0.005555753130465746,0.004346041474491358,0.00517309783026576,0.004332979209721088,0.009943624958395958,0.014792334288358688,0.004872558638453484,0.007726987823843956,0.003941449802368879,0.009169372729957104,0.007789059076458216,0.003998618107289076,0.005240168888121843,0.0029768417589366436,0.0057888212613761425,0.004567050375044346,0.0030104652978479862,0.010496489703655243,0.0036031208001077175,0.004500850103795528,0.00275095971301198,0.004581953398883343,0.004573862999677658,0.00486211571842432,0.005971285980194807,0.006634437944740057,0.007856277748942375,0.0031727347522974014,0.0027993833646178246,0.005342308431863785,0.004768221639096737,0.004171016626060009,0.006178113631904125,0.008185271173715591,0.005383566953241825,0.0035690227523446083,0.004036526195704937,0.003901923540979624,0.003259920049458742,0.005210890434682369,0.0021383161656558514,0.005653193220496178,0.017741553485393524,0.0031075533479452133,0.009428504854440689,0.004240216687321663,0.004339401610195637,0.0143135916441679,0.0051642246544361115,0.0075979167595505714,0.0026703551411628723,0.004401514772325754,0.003118599532172084,0.002396814990788698,0.0027246782556176186,0.007264072075486183,0.008252003230154514,0.004092719405889511,0.0030797598883509636,0.006177310831844807,0.0025634956546127796,0.004446666222065687,0.0038043507374823093,0.0039448002353310585,0.003712659701704979,0.011267987079918385,0.0037686466239392757,0.0068413373082876205,0.004598810337483883,0.003513009287416935,0.005078443791717291,0.007704642601311207,0.0031567176338285208,0.002452304819598794,0.010043764486908913,0.005702503956854343,0.006787341088056564,0.005022183991968632,0.0032783541828393936,0.0029715425334870815,0.005410011857748032,0.005802375264465809,0.0037271464243531227,0.004426796920597553,0.002996346913278103,0.00532212108373642,0.004048705101013184,0.0030333988834172487,0.004862150177359581,0.010245371609926224,0.004512538202106953,0.005645464174449444,0.006128100678324699,0.005061938427388668,0.002483837539330125,0.0036028139293193817,0.0033411222975701094,0.0034710774198174477,0.0020685773342847824,0.0020769694820046425,0.003827593522146344,0.003548308741301298,0.0026175915263593197,0.0034448225051164627,0.006315299775451422,0.011224020272493362,0.003007603343576193,0.0035199103876948357,0.005447441712021828,0.0035113277845084667,0.004210473969578743,0.007815949618816376,0.013253895565867424,0.0033245407976210117,0.0033529377542436123,0.004762982949614525,0.008132806979119778,0.004291202872991562,0.00642967876046896,0.0034012235701084137,0.00647800974547863,0.009174843318760395,0.0036469032056629658,0.0028657636139541864,0.002939212368801236,0.0052495477721095085,0.0028076970484107733,0.004430416040122509,0.00784049928188324,0.005181960295885801,0.007333423942327499,0.005132073536515236,0.0026436285115778446,0.004760639742016792,0.005402476526796818,0.004757019691169262,0.0028017512522637844,0.0037788101471960545,0.009118841961026192,0.005036399699747562,0.0077923014760017395,0.003525049425661564,0.0025335061363875866,0.011876935139298439,0.003169858828186989,0.0019835790153592825,0.004242264200001955,0.0023688916116952896,0.003859856864437461,0.009060832671821117,0.0038350445684045553,0.005720082204788923,0.0031747345346957445,0.0032059182412922382,0.0029572159983217716,0.0024094940163195133,0.0056737614795565605,0.002700603101402521,0.007296324707567692,0.0048463307321071625,0.00820064079016447,0.0031928562093526125,0.0017072949558496475,0.005620770622044802,0.002342039719223976,0.0035948308650404215,0.0025001082103699446,0.010420317761600018,0.005448990501463413,0.006219698116183281,0.0037109123077243567,0.008030330762267113,0.00343055441044271,0.0021800631657242775,0.008968614041805267,0.005692970938980579,0.002164494711905718,0.005998238455504179,0.007202209439128637,0.0029829300474375486,0.004011109471321106,0.007478660903871059,0.005446095950901508,0.010119950398802757,0.0023042368702590466,0.0033879007678478956,0.00408320315182209,0.010078919120132923,0.0035466982517391443,0.002601220738142729,0.004042176064103842,0.003864654339849949,0.006784217432141304,0.0024627153761684895,0.003265553619712591,0.00302644120529294,0.005804220214486122,0.00382370688021183,0.006578847765922546,0.0030369795858860016,0.002164156176149845,0.002677332842722535,0.004248469602316618,0.005914430133998394,0.0019461768679320812,0.004310494754463434,0.005013355985283852,0.0026973001658916473,0.00478987954556942,0.006769478786736727,0.005977942608296871,0.007369424216449261,0.0019197037909179926,0.001714710146188736,0.0030142287723720074,0.0017732197884470224,0.0014325121883302927,0.006980566307902336,0.003564328420907259,0.003931332845240831,0.0038891714066267014,0.003973387647420168,0.002914352808147669,0.004653126932680607,0.0030567150097340345,0.00437149265781045,0.004254733212292194,0.006738194264471531,0.008757755160331726,0.00319369463250041,0.0038089072331786156,0.004591291770339012,0.0038844472728669643,0.004670825321227312,0.002776010427623987,0.0046266671270132065,0.0070183658972382545,0.002803714945912361,0.006857242435216904,0.006793033331632614,0.003480524756014347,0.0025091180577874184,0.0026028654538094997,0.004220329225063324,0.00329997343942523,0.007243883330374956,0.0027084790635854006,0.0033765092957764864,0.006759854964911938,0.004284124821424484,0.0033045208547264338,0.006513090338557959,0.0046170549467206,0.003454765770584345,0.00392603175714612,0.0034147282131016254,0.004876306280493736,0.003224249929189682,0.006273295730352402,0.003190236631780863,0.010055357590317726,0.0037651164457201958,0.004721967503428459,0.004645948763936758,0.004717444069683552,0.002980816410854459,0.002096467651426792,0.006930602714419365,0.0024092718958854675,0.0034486521035432816,0.003035265486687422,0.0035870051942765713,0.0021277484484016895,0.0029742252081632614,0.0032404265366494656,0.003051932668313384,0.0047357575967907906,0.0017990843625739217,0.016846317797899246,0.004331754520535469,0.006228655111044645,0.005353397224098444,0.002747706137597561,0.0036215409636497498,0.005320122465491295,0.003741759806871414,0.00326135428622365,0.0032353533897548914,0.005141800735145807,0.0061655594035983086,0.004642870742827654,0.005704558454453945,0.0028812435921281576,0.02257395163178444,0.004013988189399242,0.003928578924387693,0.003251707646995783,0.008636140264570713,0.003947129938751459,0.0023760530166327953,0.003568397369235754,0.0044160569086670876,0.0032497260253876448,0.0017171181971207261,0.0029250113293528557,0.0027962401509284973,0.004807459656149149,0.003096687374636531,0.0036096107214689255,0.004557314328849316,0.003079910995438695,0.005048504564911127,0.002904952969402075,0.005582062527537346,0.005185198038816452,0.003974655643105507,0.0025337927509099245,0.007672177627682686,0.003345964476466179,0.0025022169575095177,0.004347808193415403,0.0017917153891175985,0.0047729043290019035,0.004527347162365913,0.0034294105134904385,0.0021074600517749786,0.0031947866082191467,0.0029502827674150467,0.0028146463446319103,0.0033931417856365442,0.004920421168208122,0.0026081346441060305,0.0026107151061296463,0.009634306654334068,0.0031304024159908295,0.002667267108336091,0.002634634729474783,0.003406052477657795,0.009383986704051495,0.0017997275572270155,0.0028689969331026077,0.0024368439335376024,0.0033838744275271893,0.006118450313806534,0.0043164025992155075,0.0040292213670909405,0.008822239004075527,0.0021952646784484386,0.004811619408428669,0.00556056248024106,0.002949567511677742,0.006201387383043766,0.002897062338888645,0.002567447954788804,0.0022222313564270735,0.0033109583891928196,0.002331758849322796,0.0036925463937222958,0.0037203053943812847,0.005930380895733833,0.002726940205320716,0.004167416598647833,0.0022783158347010612,0.003456695470958948,0.0032630101777613163,0.0017260265303775668,0.004045990761369467,0.0044915396720170975,0.0027376499492675066,0.002980876248329878,0.0036634057760238647,0.0029136769007891417,0.0028717750683426857,0.0026629515923559666,0.0024448817130178213,0.0038324370980262756,0.0026390834245830774,0.002810451667755842,0.0036712896544486284,0.002665956038981676,0.005761239677667618,0.00887263659387827,0.0115298330783844,0.004131904803216457,0.004031545948237181,0.0038702073507010937,0.0029072072356939316,0.00220733811147511,0.00776362931355834,0.0047623515129089355,0.004206239711493254,0.0030413514468818903,0.004266624338924885,0.008022340945899487,0.00966449361294508,0.002566123381257057,0.0025037324521690607,0.0032220573630183935,0.005070322193205357,0.005751697346568108,0.004072120413184166,0.002605353482067585,0.0066819749772548676,0.002096546581014991,0.0030774548649787903,0.005550567992031574,0.005305929575115442,0.0031307125464081764,0.003177120815962553,0.002839107299223542,0.00363876111805439,0.00843000691384077,0.0023164493031799793,0.0031905178911983967,0.0020875732880085707,0.0023495706263929605,0.0027358229272067547,0.0026289895176887512,0.007541559170931578,0.0028757108375430107,0.003204499837011099,0.002107876818627119,0.005188389215618372,0.002775920554995537,0.006966504734009504,0.0018501279409974813,0.002225938718765974,0.0034169070422649384,0.001727605820633471,0.0022336787078529596,0.005376479588449001,0.003999857231974602,0.0021399289835244417,0.0023371046409010887,0.0022801212035119534,0.004615102894604206,0.005282285623252392,0.0021158151794224977,0.007836850360035896,0.005106932483613491,0.005399736575782299,0.003101193346083164,0.0030233277939260006,0.00401923805475235,0.004316982813179493,0.004647331312298775,0.00180868711322546,0.0029369909316301346,0.002416212111711502,0.0029452734161168337,0.004538466222584248,0.0035291288513690233,0.0022716911043971777,0.002129233442246914,0.0025851107202470303,0.0029559223912656307,0.007517862133681774,0.0034532942809164524,0.009588059037923813,0.001572842476889491,0.004157974850386381,0.0034576663747429848,0.0032990104518830776,0.002546262927353382,0.002344969194382429,0.003507061395794153,0.007866600528359413,0.003259335644543171,0.0016093507874757051,0.004084254615008831,0.004455610178411007,0.004052939359098673,0.0017138442490249872,0.0015964002814143896,0.004292111843824387,0.0034968447871506214,0.0030973111279308796,0.0017007433343678713,0.0022053481079638004,0.0031985025852918625,0.0028571174480021,0.002934342250227928,0.0028551300056278706,0.004707011394202709,0.003396280575543642,0.0015139332972466946,0.007589884102344513,0.0024775471538305283,0.003305971622467041,0.0035206254106014967,0.001926725497469306,0.005968954414129257,0.003116586711257696,0.006800020579248667,0.0026641697622835636,0.002572339028120041,0.0021276790648698807,0.006199311465024948,0.00310916337184608,0.0026987434830516577,0.0013709507184103131,0.0021713711321353912,0.0021739124786108732,0.003262630198150873,0.002810118719935417,0.0032962816767394543,0.003562056925147772,0.004529315046966076,0.002629287773743272,0.006975993514060974,0.0036836653016507626,0.004315186757594347,0.003922976553440094,0.0018088268116116524,0.001548513537272811,0.0023630079813301563,0.0031779648270457983,0.0031113396398723125,0.0029324879869818687,0.0027884531300514936,0.0035802233032882214,0.0033570267260074615,0.004100654274225235,0.0028697492089122534,0.002084005158394575,0.0031386082991957664,0.00233914190903306,0.004231163300573826,0.002434574067592621,0.009801657870411873,0.001448652008548379,0.0015184528892859817,0.0034595231991261244,0.0029474166221916676,0.004382722079753876,0.002120445016771555,0.0021783378906548023,0.003816745011135936,0.007615506649017334,0.004237686283886433,0.006914719007909298,0.0026382096111774445,0.001596737653017044,0.004992349538952112,0.003262010170146823,0.001563727273605764,0.00544511154294014,0.0022435439750552177,0.00567502249032259,0.006984662264585495,0.00213828613050282,0.003570585511624813,0.0026384135708212852,0.002756977453827858,0.0036670207045972347,0.0063675399869680405,0.003236233489587903,0.008919859305024147,0.0034126387909054756,0.002979317680001259,0.001905367011204362,0.0026745093055069447,0.0027025712188333273,0.0017138601979240775,0.002128998516127467,0.0029867871198803186,0.0024979133158922195,0.003594266250729561,0.002125564031302929,0.003083534073084593,0.002584294183179736,0.003299395553767681,0.005338334944099188,0.003299847710877657,0.003102561691775918,0.004069426096975803,0.0019334580283612013,0.0027678795158863068,0.003013832028955221,0.0038011763244867325,0.0023480982054024935,0.005910350009799004,0.00505207572132349,0.003673599101603031,0.002314902376383543,0.0034338233526796103,0.0022919075563549995,0.002793816849589348,0.0049382951110601425,0.002254221821203828,0.0033370472956448793,0.003191662020981312,0.00446151290088892,0.004208451136946678,0.004195126239210367,0.0027495245449244976,0.002269790740683675,0.0026280616875737906,0.001589363208040595,0.005616599693894386,0.00321957073174417,0.003120079403743148,0.0016718897968530655,0.003492929507046938,0.0034633763134479523,0.004088681191205978,0.004649920389056206,0.001959971385076642,0.002872396958991885,0.0032011186704039574,0.002628410467877984,0.0026871354784816504,0.002061531413346529,0.003118288703262806,0.004175226669758558,0.0032540583051741123,0.00984436459839344,0.004664856009185314,0.0024084756150841713,0.0020399033091962337,0.002811322221532464,0.006324995309114456,0.005160221830010414,0.0023406045511364937,0.001819031429477036,0.003570104483515024,0.003645761404186487,0.004708846565335989,0.0030374687630683184,0.0020585115998983383,0.002381055150181055,0.0041169095784425735,0.003803309053182602,0.0031792675144970417,0.0033042775467038155,0.0016318043926730752,0.002737112110480666,0.001350219827145338,0.0021227174438536167,0.002596458187326789,0.003284340724349022,0.0029426857363432646,0.001967774471268058,0.001999476458877325,0.001738811144605279,0.003606831654906273,0.002266648691147566,0.008722726255655289,0.0024883379228413105,0.0017348035471513867,0.0036874727811664343,0.006126275286078453,0.0024963056202977896,0.0015026682522147894,0.0035544857382774353,0.0020901556126773357,0.001801963895559311,0.001149520045146346,0.002589333336800337,0.0021558483131229877,0.0024842843413352966,0.006137942895293236,0.0015659044729545712,0.004845260642468929,0.0022883228957653046,0.001904676086269319,0.0018075138796120882,0.003947777673602104,0.0017771085258573294,0.0077013177797198296,0.003884682897478342,0.0027662995271384716,0.004685902968049049,0.005483511835336685,0.0021195746958255768,0.0017548606265336275,0.006890292279422283,0.0021252213045954704,0.0034223883412778378,0.0033711884170770645,0.002142466837540269,0.0009405807359144092,0.005299462005496025,0.0014228548388928175,0.002415734576061368,0.004019842017441988,0.009262386709451675,0.0049322498962283134,0.008303839713335037,0.0031523206271231174,0.0031669740565121174,0.004943518433719873,0.007506645284593105,0.0026593313086777925,0.002537254709750414,0.0025096656754612923,0.00234547583386302,0.002255785744637251,0.0009877803968265653,0.0028376171831041574,0.002893352648243308,0.002427914645522833,0.002393645467236638,0.003932901658117771,0.004568971693515778,0.002568651922047138,0.0020957072265446186,0.001606962876394391,0.0033372382167726755,0.0022384461481124163,0.004323082510381937,0.0022013592533767223,0.0015483900206163526,0.00410128477960825,0.002616586396470666,0.0024609495885670185,0.0016034669242799282,0.0032464589457958937,0.004804485477507114,0.0017242975300177932,0.0030213776044547558,0.003884650068357587,0.002456541871652007,0.0015355339273810387,0.004853208549320698,0.002495638094842434,0.0019343551248311996,0.0025577081833034754,0.0025097853504121304,0.0036659850738942623,0.003010598011314869,0.003458239370957017,0.002585092093795538,0.0031349617056548595,0.003646839875727892,0.003206710796803236,0.005450434982776642,0.0024244526866823435,0.0033193789422512054,0.002550271572545171,0.001226239837706089,0.004898083861917257,0.0045619504526257515,0.0038174092769622803,0.0043131387792527676,0.0021440167911350727,0.002100798301398754,0.002062940737232566,0.0022783398162573576,0.0025033815763890743,0.0021918918937444687,0.0023427035193890333,0.002342045772820711,0.0031827958300709724,0.001602384727448225,0.0022920453920960426,0.003294542897492647,0.0015409545740112662,0.0032121632248163223,0.00382625637575984,0.0021879803389310837,0.0032806233502924442,0.0050972760654985905,0.002564814640209079,0.0042006587609648705,0.0009092091931961477,0.0010580843081697822,0.004043765366077423,0.0015065856277942657,0.0027969302609562874,0.005047807469964027,0.0027782670222222805,0.002922761719673872,0.0025732473004609346,0.0019871522672474384,0.0015194631414487958,0.0042400178499519825,0.0023009192664176226,0.002436661859974265,0.001080916030332446,0.0031561050564050674,0.0015907593769952655,0.0022255016956478357,0.0020617726258933544,0.0008661655010655522,0.0016152637545019388,0.004378127865493298,0.0023317416198551655,0.004026196431368589,0.001836663344874978,0.0030509568750858307,0.004994157701730728,0.003084056545048952,0.003538366872817278,0.0035032504238188267,0.0031352443620562553,0.0026326864026486874,0.0034901839680969715,0.007051971275359392,0.0030639185570180416,0.00808779802173376,0.0029755665455013514,0.002736425492912531,0.003000629134476185,0.0025156214833259583,0.0011171908117830753,0.0038872691802680492,0.0018047072226181626,0.0017790313577279449,0.002582947723567486,0.0028082234784960747,0.003549171146005392,0.0024903248995542526,0.002076815813779831,0.0038667949847877026,0.0009324177517555654,0.0020153350196778774,0.002340549137443304,0.002011395525187254,0.0011617972049862146,0.0013757235137745738,0.002752481261268258,0.0036827516742050648,0.0023284913040697575,0.003318644128739834,0.001903813797980547,0.0013782456517219543,0.0024890366476029158,0.0030302428640425205,0.003962583839893341,0.0020444681867957115,0.0021619503386318684,0.002228889614343643,0.008043459616601467,0.0036501651629805565,0.004782176576554775,0.001151733798906207,0.001901324256323278,0.0036876138765364885,0.0008329414995387197,0.0028708679601550102,0.0018331826431676745,0.0033032926730811596,0.004767703358083963,0.0017557450337335467,0.004040844272822142,0.0012277400819584727,0.002087400294840336,0.002748641651123762,0.002489818725734949,0.00258224387653172,0.0024449366610497236,0.002760724863037467,0.0038077104836702347,0.003447153139859438,0.0012327560689300299,0.0023756164591759443,0.0038314196281135082,0.0021591815166175365,0.002366686938330531,0.0018473577219992876,0.009877052158117294,0.0025655273348093033,0.0050859712064266205,0.0038390394765883684,0.0013961526565253735,0.0032748954836279154,0.001632125349715352,0.002055054996162653,0.0016733732772991061,0.0014098549727350473,0.002049330621957779,0.0036256914027035236,0.002652609720826149,0.0024250922724604607,0.002572439145296812,0.0015961343888193369,0.0013281013816595078,0.004622700158506632,0.0030084552709013224,0.0021326765418052673,0.0031270247418433428,0.00261454819701612,0.002051734831184149,0.0014725567307323217,0.0020246815402060747,0.002012802055105567,0.0012234399328008294,0.002876401413232088,0.002902698004618287,0.0023387745022773743,0.0015085760969668627,0.0026357118040323257,0.0027771012391895056,0.0018318135989829898,0.0016593639738857746,0.003026647260412574,0.002587629947811365,0.0014859017683193088,0.002234284533187747,0.0014073055936023593,0.002450342522934079,0.0031743207946419716,0.002422476187348366,0.0018462114967405796,0.002287809271365404,0.0014586555771529675,0.002279655309394002,0.0024128258228302,0.001811642898246646,0.0025357031263411045,0.0017921582330018282,0.0015557704027742147,0.001704847440123558,0.0022195938508957624,0.0032012369483709335,0.0040641967207193375,0.0023406727705150843,0.0016871223924681544,0.005315916147083044,0.0011369676794856787,0.002128968480974436,0.0016370309749618173,0.0014007271965965629,0.0023484299890697002,0.001057082205079496,0.0013500265777111053,0.0011048726737499237,0.00113034644164145,0.005222138948738575,0.00218049343675375,0.0017762291245162487,0.00546598993241787,0.0018060075817629695,0.004860461689531803,0.0013296888209879398,0.0019417500589042902,0.004567121155560017,0.006428942549973726,0.004153289366513491,0.0028313943184912205,0.003967827185988426,0.004815106280148029,0.0017622873419895768,0.0014206522610038519,0.0030303937382996082,0.0025915056467056274,0.003248813096433878,0.003367857774719596,0.0023843860253691673,0.006661886814981699,0.001837342162616551,0.0022607077844440937,0.002618255093693733,0.0022856309078633785,0.001456770347431302,0.0026862528175115585,0.004155951086431742,0.0020046913996338844,0.003328087041154504,0.0016174418851733208,0.0014069383032619953,0.002100645564496517,0.003836317453533411,0.0020134595688432455,0.001524047227576375,0.0016301372088491917,0.002258759457617998,0.0028722321148961782,0.0026010724250227213,0.0019342248560860753,0.0022988419514149427,0.003236674703657627,0.0017672316171228886,0.0028228398878127337,0.0017664871411398053,0.0011705730576068163,0.0018159621395170689,0.0018732162425294518,0.0013753450475633144,0.0016580589581280947,0.0020312992855906487,0.0017798253102228045,0.0052256155759096146,0.0013562607346102595,0.003930048085749149,0.0038999547250568867,0.0017267272341996431,0.0030013485811650753,0.0023086650762706995,0.0015244940295815468,0.0027823233976960182,0.0018631594721227884,0.0022670382168143988,0.00291347480379045,0.0024962639436125755,0.0018807859160006046,0.0032924555707722902,0.002914728596806526,0.0016179936937987804,0.0026497216895222664,0.0029123362619429827,0.003961909096688032,0.0016538480995222926,0.0027127175126224756,0.0022501617204397917,0.0015527951763942838,0.0017101746052503586,0.0013236224185675383,0.0034763519652187824,0.0019339359132573009,0.007139429450035095,0.004297130275517702,0.002881627529859543,0.002779850037768483,0.001444240566343069,0.0032226229086518288,0.0019426423823460937,0.0031883306801319122,0.004959956277161837,0.002459552139043808,0.0015312581090256572,0.0011224219342693686,0.0034557762555778027,0.0018865896854549646,0.002342148683965206,0.002606715075671673,0.002010803669691086,0.002699385629966855,0.0020809161942452192,0.0014793466543778777,0.001711533172056079,0.0018863854929804802,0.002109688241034746,0.001929905847646296,0.0021702651865780354,0.0021393494680523872,0.0025882553309202194,0.0014696007128804922,0.0017654986586421728,0.0030607618391513824,0.002267868723720312,0.0027993114199489355,0.001736535457894206,0.002028488554060459,0.0022772441152483225,0.0018148694653064013,0.001152482465840876,0.0034113754518330097,0.0018216668395325541,0.0011934251524508,0.0014122098218649626,0.0014781360514461994,0.001359939924441278,0.0018872555810958147,0.0014475765638053417,0.001508896006271243,0.0019516965840011835,0.0025054593570530415,0.0014814771711826324,0.003481182735413313,0.0035173227079212666,0.002109929220750928,0.0019227629527449608,0.0021294718608260155,0.0011615194380283356,0.001894037937745452,0.0020939370151609182,0.0019359057769179344,0.0021138559095561504,0.00539776124060154,0.0028356488328427076,0.000907277746591717,0.0015438033733516932,0.0009091417887248099,0.0013465310912579298,0.0012832398060709238,0.0020380234345793724,0.0017719310708343983,0.0046340543776750565,0.001751936273649335,0.0030262654181569815,0.001687326468527317,0.0038191478233784437,0.00192844879347831,0.007191658951342106,0.0016110851429402828,0.0018733097240328789,0.0016449075192213058,0.0037327404133975506,0.0019081219797953963,0.0014163448940962553,0.004327462054789066,0.003563158679753542,0.0006809327169321477,0.0017074525821954012,0.0024919293355196714,0.003870912827551365,0.0013086884282529354,0.001310562016442418,0.0015846029855310917,0.0026205210015177727,0.0027592331171035767,0.002487748395651579,0.0024111163802444935,0.0011674598790705204,0.002328635659068823,0.0027971528470516205,0.0022676598746329546,0.002132402267307043,0.0016264519654214382,0.004813843872398138,0.0016438281163573265,0.003945508040487766,0.0013170603197067976,0.00180647405795753,0.0025912958662956953,0.0041976505890488625,0.001800062134861946,0.0034338580444455147,0.0018343194387853146,0.002225396689027548,0.0058975014835596085,0.0015548402443528175,0.0015857963589951396,0.0017742866184562445,0.001792516210116446,0.006749407388269901,0.001800364232622087,0.0009358552051708102,0.0033954584505409002,0.0008939370745792985,0.002480672439560294,0.0009799754479900002,0.001852170447818935,0.001706402050331235,0.0015788908349350095,0.003051689127460122,0.0017402913654223084,0.0015430221101269126,0.0026535247452557087,0.0007141474634408951,0.0056896028108894825,0.002744608325883746,0.0020130262710154057,0.0019288485636934638,0.0012356162769719958,0.0039027947932481766,0.0019486629171296954,0.0024797057267278433,0.0006267844000831246,0.0018542606849223375,0.0026625124737620354,0.0013218836393207312,0.0032939526718109846,0.0027858647517859936,0.002368022222071886,0.0014025967102497816,0.004630880430340767,0.0008163646562024951,0.0037865384947508574,0.0029020942747592926,0.0032938956283032894,0.003653625724837184,0.0013750125654041767,0.005361564457416534,0.0024141911417245865,0.0016838687006384134,0.0033755667973309755,0.0016666989540681243,0.0018663806840777397,0.0019701451528817415,0.001602379372343421,0.0026723542250692844,0.0015060210134834051,0.0029760131146758795,0.0028815597761422396,0.0008226315840147436,0.0013282147701829672,0.0013496063183993101,0.0014508700696751475,0.0021948013454675674,0.000952265108935535,0.0014646654017269611,0.0016238521784543991,0.002404740545898676,0.0021314281038939953,0.0012719787191599607,0.0018243889790028334,0.002337304875254631,0.001004780177026987,0.00224704435095191,0.0028462952468544245,0.002557352650910616,0.0011564777232706547,0.0017327716341242194,0.0015608133981004357,0.0014562461292371154,0.0016237299423664808,0.002589993644505739,0.0012971548130735755,0.0017762875650078058,0.0020091617479920387,0.0023187100887298584,0.0013562529347836971,0.0031526144593954086,0.0014814678579568863,0.002776936162263155,0.0013378940057009459,0.0019055466400459409,0.0014325706288218498,0.0007971054874360561,0.0015407224418595433,0.0019766443874686956,0.0022214006166905165,0.0013638284290209413,0.0023270694073289633,0.0029284292832016945,0.001850245287641883,0.001106481533497572,0.001956747379153967,0.006813697516918182,0.00215729046612978,0.0012265162076801062,0.003664535703137517,0.0016278146067634225,0.004401717334985733,0.0038002540823072195,0.002012671669945121,0.0018601189367473125,0.001649683341383934,0.0011973883956670761,0.0011253380216658115,0.001858314499258995,0.0019688140600919724,0.0018478049896657467,0.0016437646700069308,0.0018651476129889488,0.002142766024917364,0.0020353728905320168,0.002434419235214591,0.0020016361959278584,0.0022695031948387623,0.0018714095931500196,0.002465603407472372,0.0043520210310816765,0.0019316254183650017,0.001983148977160454,0.00333615904673934,0.001690118107944727,0.0031519795302301645,0.001997140469029546,0.00246979552321136,0.0014131397474557161,0.0011679905001074076,0.003755449317395687,0.0013077465118840337,0.0029890178702771664,0.0017380211502313614,0.002043148037046194,0.0019361225422471762,0.0015771009493619204,0.0025717588141560555,0.0013082512887194753,0.0017282820772379637,0.0021774661727249622,0.0016163834370672703,0.0024110418744385242,0.00132127502001822,0.0016967755509540439,0.002435388509184122,0.004005590453743935,0.0010380033636465669,0.0014089510077610612,0.0015386019367724657,0.0016977805644273758,0.0017013346077874303,0.0019639974925667048,0.0011194644030183554,0.0032369426917284727,0.0013136414345353842,0.0009921928867697716,0.0013748742640018463,0.003050963394343853,0.0013740673894062638,0.00164385128300637,0.001715456135571003,0.004705732688307762,0.0015850616618990898,0.002020027954131365,0.0019035651348531246,0.002291929442435503,0.002169724553823471,0.0016509531997144222,0.0021552524995058775,0.002845042385160923,0.0020562196150422096,0.001875709043815732,0.0010947128757834435,0.001610814593732357,0.0011979390401393175,0.0021634111180901527,0.002165206242352724,0.001362056122161448,0.001701525179669261,0.002490453189238906,0.0017996099777519703,0.0013899215264245868,0.0030863508582115173,0.0018127730581909418,0.001090383855625987,0.0017570158233866096,0.002700086683034897,0.0014713754644617438,0.0009917909046635032,0.0010071775177493691,0.0011452913749963045,0.0014931196346879005,0.001595693058334291,0.0014917671214789152,0.00186435435898602,0.0013421589974313974,0.0014438137877732515,0.0019187805010005832,0.0010020984336733818,0.0014852602034807205,0.0012704766122624278,0.001315643428824842,0.0016136332415044308,0.0010231293272227049,0.0012964094057679176,0.001557289157062769,0.0019439563620835543,0.002159354044124484,0.002853519283235073,0.0014694863930344582,0.0038940059021115303,0.0008137992117553949,0.0015407735481858253,0.0018697237828746438,0.0008630305528640747,0.0012803759891539812,0.002377246506512165,0.002161305630579591,0.0021387662272900343,0.0009731053141877055,0.002501819981262088,0.0016343550523743033,0.0012717358767986298,0.0035140924155712128,0.0010879125911742449,0.0038501762319356203,0.0012991908006370068,0.001634507905691862,0.0006067007197998464,0.002017120597884059,0.0009841873543336987,0.0013449473772197962,0.001759832608513534,0.0009730008896440268,0.003773354459553957,0.0017087192973122,0.002093380782753229,0.0025103255175054073,0.002043359447270632,0.0006247987039387226,0.0005880341050215065,0.0032062986865639687,0.0012888605706393719,0.0038536174688488245,0.0014186468906700611,0.0016310991486534476,0.002164000179618597,0.0023582156281918287,0.0025063322391361,0.0006550431717187166,0.002355193253606558,0.0026042545214295387,0.0006223180098459125,0.0014028591103851795,0.0026877601630985737,0.0013722849544137716,0.003590460866689682,0.001259945216588676,0.0011667115613818169,0.0008149482309818268,0.0006467004423029721,0.001581176184117794,0.002389929722994566,0.0013321826700121164,0.0021621733903884888,0.002167911035940051,0.0017356246244162321,0.0026196297258138657,0.0012291923630982637,0.0017439082730561495,0.0012290237937122583,0.00165231479331851,0.001557258190587163,0.002148849656805396,0.0013689580373466015,0.001883652643300593,0.0015425120946019888,0.002106120577082038,0.002109263790771365,0.0015167330857366323,0.0017405927646905184,0.002009463030844927,0.001459223683923483,0.0007350925588980317,0.0006505934288725257,0.0019220805261284113,0.0010877944296225905,0.0028736875392496586,0.0023158984258770943,0.0011183405295014381,0.0016216675285249949,0.001232943031936884,0.0018636396853253245,0.001937137683853507,0.00219149561598897,0.0007875976152718067,0.0021109115332365036,0.001330751460045576,0.0014540695119649172,0.0008038835949264467,0.0014474834315478802,0.0008451418252661824,0.0007357496651820838,0.0005347933620214462,0.000698538264259696,0.0014130208874121308,0.0011180659057572484,0.0006983763305470347,0.0029069792944937944,0.0007547088898718357,0.0021465905010700226,0.001472965581342578,0.002176878973841667,0.0014036314096301794,0.0019348659552633762,0.0015841335989534855,0.0032081282697618008,0.0013866706285625696,0.001590122003108263,0.001840520417317748,0.0016907646786421537,0.0033426994923502207,0.0015338745433837175,0.0023411388974636793,0.0025131709408015013,0.002901515457779169,0.0028766747564077377,0.0013408109080046415,0.001596967107616365,0.001230456866323948,0.0014906302094459534,0.002048315480351448,0.0017317428719252348,0.0018904057797044516,0.0019030142575502396,0.0009494585101492703,0.0010634323116391897,0.001789212692528963,0.0009575666626915336,0.0010500005446374416,0.0014590220525860786,0.0010185164865106344,0.0027616373263299465,0.001784089719876647,0.0014298663008958101,0.0014649168588221073,0.0011283631902188063,0.0019131646258756518,0.0029382139910012484,0.0013898027827963233,0.002477312460541725,0.0019393416587263346,0.0010868702083826065,0.001213515643030405,0.0009084726334549487,0.0015065411571413279,0.0019034792203456163,0.0046544382348656654,0.0011756224557757378,0.0015694519970566034,0.0011247387155890465,0.001318964408710599,0.0010762258898466825,0.00157815997954458,0.003278310876339674,0.003783599939197302,0.0010207010200247169,0.0010423015337437391,0.0008399897487834096,0.0008680259343236685,0.0027024084702134132,0.000918458797968924,0.0010269032791256905,0.0010411640396341681,0.002109486609697342,0.0014061362016946077,0.0013050336856395006,0.0033900230191648006,0.0015618372708559036,0.001269650412723422,0.003351101651787758,0.0009555753786116838,0.0032743390183895826,0.0012649288401007652,0.00241270218975842,0.0017817852785810828,0.0018378389067947865,0.0007775850826874375,0.0016258531250059605,0.0015911066439002752,0.001190417679026723,0.0009916536509990692,0.0014291859697550535,0.0006357717793434858,0.0017943935235962272,0.005183459259569645,0.002841693814843893,0.001545345177873969,0.0006010067882016301,0.0007950856233946979,0.0015070548979565501,0.001217538840137422,0.0023942128755152225,0.0021826187148690224,0.0013472273712977767,0.0012064457405358553,0.002362683182582259,0.0013126588892191648,0.001425841823220253,0.001037732232362032,0.0027912503574043512,0.0006914823316037655,0.0013849867973476648,0.001143691479228437,0.0017515993677079678,0.001320037292316556,0.001402795547619462,0.002108300104737282,0.0031553995795547962,0.0006262362003326416,0.001146218040958047,0.001097705215215683,0.0007653887150809169,0.0016526860417798162,0.0019332433585077524,0.0010071346769109368,0.0014802326913923025,0.001050383085384965,0.0013460898771882057,0.0012213264126330614,0.001912307576276362,0.0012040453730151057,0.0017240329179912806,0.0033219060860574245,0.0012988083763048053,0.0011499421671032906,0.0011169083882123232,0.0008182317251339555,0.0020798943005502224,0.0011595510877668858,0.0010557647328823805,0.0008223886252380908,0.0013861020561307669,0.002566447015851736,0.0006495171110145748,0.0015996654983609915,0.0006323293782770634,0.0011450247839093208,0.0019786576740443707,0.001161315944045782,0.0007770877564325929,0.0010225074365735054,0.0033255259040743113,0.0006421757861971855,0.0013960952637717128,0.0014505358412861824,0.0018437090329825878,0.002114982344210148,0.0014675252605229616,0.0013939016498625278,0.0018326749559491873,0.0024830871261656284,0.001170919742435217,0.0011948894243687391,0.0020503243431448936,0.0007262831786647439,0.0012683849781751633,0.0017147976905107498,0.0016573513858020306,0.0021678158082067966,0.0012086289934813976,0.0009735214989632368,0.0007888805121183395,0.0006867714109830558,0.0011536499951034784,0.0021222385112196207,0.0038115433417260647,0.0005275642033666372,0.002012362703680992,0.0023958098609000444,0.001848139800131321,0.0007262625731527805,0.0013562999665737152,0.001958291046321392,0.00358736258931458,0.0023090813774615526,0.0013247739989310503],\"yaxis\":\"y\",\"type\":\"scattergl\"}],                        {\"template\":{\"data\":{\"histogram2dcontour\":[{\"type\":\"histogram2dcontour\",\"colorbar\":{\"outlinewidth\":0,\"ticks\":\"\"},\"colorscale\":[[0.0,\"#0d0887\"],[0.1111111111111111,\"#46039f\"],[0.2222222222222222,\"#7201a8\"],[0.3333333333333333,\"#9c179e\"],[0.4444444444444444,\"#bd3786\"],[0.5555555555555556,\"#d8576b\"],[0.6666666666666666,\"#ed7953\"],[0.7777777777777778,\"#fb9f3a\"],[0.8888888888888888,\"#fdca26\"],[1.0,\"#f0f921\"]]}],\"choropleth\":[{\"type\":\"choropleth\",\"colorbar\":{\"outlinewidth\":0,\"ticks\":\"\"}}],\"histogram2d\":[{\"type\":\"histogram2d\",\"colorbar\":{\"outlinewidth\":0,\"ticks\":\"\"},\"colorscale\":[[0.0,\"#0d0887\"],[0.1111111111111111,\"#46039f\"],[0.2222222222222222,\"#7201a8\"],[0.3333333333333333,\"#9c179e\"],[0.4444444444444444,\"#bd3786\"],[0.5555555555555556,\"#d8576b\"],[0.6666666666666666,\"#ed7953\"],[0.7777777777777778,\"#fb9f3a\"],[0.8888888888888888,\"#fdca26\"],[1.0,\"#f0f921\"]]}],\"heatmap\":[{\"type\":\"heatmap\",\"colorbar\":{\"outlinewidth\":0,\"ticks\":\"\"},\"colorscale\":[[0.0,\"#0d0887\"],[0.1111111111111111,\"#46039f\"],[0.2222222222222222,\"#7201a8\"],[0.3333333333333333,\"#9c179e\"],[0.4444444444444444,\"#bd3786\"],[0.5555555555555556,\"#d8576b\"],[0.6666666666666666,\"#ed7953\"],[0.7777777777777778,\"#fb9f3a\"],[0.8888888888888888,\"#fdca26\"],[1.0,\"#f0f921\"]]}],\"heatmapgl\":[{\"type\":\"heatmapgl\",\"colorbar\":{\"outlinewidth\":0,\"ticks\":\"\"},\"colorscale\":[[0.0,\"#0d0887\"],[0.1111111111111111,\"#46039f\"],[0.2222222222222222,\"#7201a8\"],[0.3333333333333333,\"#9c179e\"],[0.4444444444444444,\"#bd3786\"],[0.5555555555555556,\"#d8576b\"],[0.6666666666666666,\"#ed7953\"],[0.7777777777777778,\"#fb9f3a\"],[0.8888888888888888,\"#fdca26\"],[1.0,\"#f0f921\"]]}],\"contourcarpet\":[{\"type\":\"contourcarpet\",\"colorbar\":{\"outlinewidth\":0,\"ticks\":\"\"}}],\"contour\":[{\"type\":\"contour\",\"colorbar\":{\"outlinewidth\":0,\"ticks\":\"\"},\"colorscale\":[[0.0,\"#0d0887\"],[0.1111111111111111,\"#46039f\"],[0.2222222222222222,\"#7201a8\"],[0.3333333333333333,\"#9c179e\"],[0.4444444444444444,\"#bd3786\"],[0.5555555555555556,\"#d8576b\"],[0.6666666666666666,\"#ed7953\"],[0.7777777777777778,\"#fb9f3a\"],[0.8888888888888888,\"#fdca26\"],[1.0,\"#f0f921\"]]}],\"surface\":[{\"type\":\"surface\",\"colorbar\":{\"outlinewidth\":0,\"ticks\":\"\"},\"colorscale\":[[0.0,\"#0d0887\"],[0.1111111111111111,\"#46039f\"],[0.2222222222222222,\"#7201a8\"],[0.3333333333333333,\"#9c179e\"],[0.4444444444444444,\"#bd3786\"],[0.5555555555555556,\"#d8576b\"],[0.6666666666666666,\"#ed7953\"],[0.7777777777777778,\"#fb9f3a\"],[0.8888888888888888,\"#fdca26\"],[1.0,\"#f0f921\"]]}],\"mesh3d\":[{\"type\":\"mesh3d\",\"colorbar\":{\"outlinewidth\":0,\"ticks\":\"\"}}],\"scatter\":[{\"fillpattern\":{\"fillmode\":\"overlay\",\"size\":10,\"solidity\":0.2},\"type\":\"scatter\"}],\"parcoords\":[{\"type\":\"parcoords\",\"line\":{\"colorbar\":{\"outlinewidth\":0,\"ticks\":\"\"}}}],\"scatterpolargl\":[{\"type\":\"scatterpolargl\",\"marker\":{\"colorbar\":{\"outlinewidth\":0,\"ticks\":\"\"}}}],\"bar\":[{\"error_x\":{\"color\":\"#2a3f5f\"},\"error_y\":{\"color\":\"#2a3f5f\"},\"marker\":{\"line\":{\"color\":\"#E5ECF6\",\"width\":0.5},\"pattern\":{\"fillmode\":\"overlay\",\"size\":10,\"solidity\":0.2}},\"type\":\"bar\"}],\"scattergeo\":[{\"type\":\"scattergeo\",\"marker\":{\"colorbar\":{\"outlinewidth\":0,\"ticks\":\"\"}}}],\"scatterpolar\":[{\"type\":\"scatterpolar\",\"marker\":{\"colorbar\":{\"outlinewidth\":0,\"ticks\":\"\"}}}],\"histogram\":[{\"marker\":{\"pattern\":{\"fillmode\":\"overlay\",\"size\":10,\"solidity\":0.2}},\"type\":\"histogram\"}],\"scattergl\":[{\"type\":\"scattergl\",\"marker\":{\"colorbar\":{\"outlinewidth\":0,\"ticks\":\"\"}}}],\"scatter3d\":[{\"type\":\"scatter3d\",\"line\":{\"colorbar\":{\"outlinewidth\":0,\"ticks\":\"\"}},\"marker\":{\"colorbar\":{\"outlinewidth\":0,\"ticks\":\"\"}}}],\"scattermapbox\":[{\"type\":\"scattermapbox\",\"marker\":{\"colorbar\":{\"outlinewidth\":0,\"ticks\":\"\"}}}],\"scatterternary\":[{\"type\":\"scatterternary\",\"marker\":{\"colorbar\":{\"outlinewidth\":0,\"ticks\":\"\"}}}],\"scattercarpet\":[{\"type\":\"scattercarpet\",\"marker\":{\"colorbar\":{\"outlinewidth\":0,\"ticks\":\"\"}}}],\"carpet\":[{\"aaxis\":{\"endlinecolor\":\"#2a3f5f\",\"gridcolor\":\"white\",\"linecolor\":\"white\",\"minorgridcolor\":\"white\",\"startlinecolor\":\"#2a3f5f\"},\"baxis\":{\"endlinecolor\":\"#2a3f5f\",\"gridcolor\":\"white\",\"linecolor\":\"white\",\"minorgridcolor\":\"white\",\"startlinecolor\":\"#2a3f5f\"},\"type\":\"carpet\"}],\"table\":[{\"cells\":{\"fill\":{\"color\":\"#EBF0F8\"},\"line\":{\"color\":\"white\"}},\"header\":{\"fill\":{\"color\":\"#C8D4E3\"},\"line\":{\"color\":\"white\"}},\"type\":\"table\"}],\"barpolar\":[{\"marker\":{\"line\":{\"color\":\"#E5ECF6\",\"width\":0.5},\"pattern\":{\"fillmode\":\"overlay\",\"size\":10,\"solidity\":0.2}},\"type\":\"barpolar\"}],\"pie\":[{\"automargin\":true,\"type\":\"pie\"}]},\"layout\":{\"autotypenumbers\":\"strict\",\"colorway\":[\"#636efa\",\"#EF553B\",\"#00cc96\",\"#ab63fa\",\"#FFA15A\",\"#19d3f3\",\"#FF6692\",\"#B6E880\",\"#FF97FF\",\"#FECB52\"],\"font\":{\"color\":\"#2a3f5f\"},\"hovermode\":\"closest\",\"hoverlabel\":{\"align\":\"left\"},\"paper_bgcolor\":\"white\",\"plot_bgcolor\":\"#E5ECF6\",\"polar\":{\"bgcolor\":\"#E5ECF6\",\"angularaxis\":{\"gridcolor\":\"white\",\"linecolor\":\"white\",\"ticks\":\"\"},\"radialaxis\":{\"gridcolor\":\"white\",\"linecolor\":\"white\",\"ticks\":\"\"}},\"ternary\":{\"bgcolor\":\"#E5ECF6\",\"aaxis\":{\"gridcolor\":\"white\",\"linecolor\":\"white\",\"ticks\":\"\"},\"baxis\":{\"gridcolor\":\"white\",\"linecolor\":\"white\",\"ticks\":\"\"},\"caxis\":{\"gridcolor\":\"white\",\"linecolor\":\"white\",\"ticks\":\"\"}},\"coloraxis\":{\"colorbar\":{\"outlinewidth\":0,\"ticks\":\"\"}},\"colorscale\":{\"sequential\":[[0.0,\"#0d0887\"],[0.1111111111111111,\"#46039f\"],[0.2222222222222222,\"#7201a8\"],[0.3333333333333333,\"#9c179e\"],[0.4444444444444444,\"#bd3786\"],[0.5555555555555556,\"#d8576b\"],[0.6666666666666666,\"#ed7953\"],[0.7777777777777778,\"#fb9f3a\"],[0.8888888888888888,\"#fdca26\"],[1.0,\"#f0f921\"]],\"sequentialminus\":[[0.0,\"#0d0887\"],[0.1111111111111111,\"#46039f\"],[0.2222222222222222,\"#7201a8\"],[0.3333333333333333,\"#9c179e\"],[0.4444444444444444,\"#bd3786\"],[0.5555555555555556,\"#d8576b\"],[0.6666666666666666,\"#ed7953\"],[0.7777777777777778,\"#fb9f3a\"],[0.8888888888888888,\"#fdca26\"],[1.0,\"#f0f921\"]],\"diverging\":[[0,\"#8e0152\"],[0.1,\"#c51b7d\"],[0.2,\"#de77ae\"],[0.3,\"#f1b6da\"],[0.4,\"#fde0ef\"],[0.5,\"#f7f7f7\"],[0.6,\"#e6f5d0\"],[0.7,\"#b8e186\"],[0.8,\"#7fbc41\"],[0.9,\"#4d9221\"],[1,\"#276419\"]]},\"xaxis\":{\"gridcolor\":\"white\",\"linecolor\":\"white\",\"ticks\":\"\",\"title\":{\"standoff\":15},\"zerolinecolor\":\"white\",\"automargin\":true,\"zerolinewidth\":2},\"yaxis\":{\"gridcolor\":\"white\",\"linecolor\":\"white\",\"ticks\":\"\",\"title\":{\"standoff\":15},\"zerolinecolor\":\"white\",\"automargin\":true,\"zerolinewidth\":2},\"scene\":{\"xaxis\":{\"backgroundcolor\":\"#E5ECF6\",\"gridcolor\":\"white\",\"linecolor\":\"white\",\"showbackground\":true,\"ticks\":\"\",\"zerolinecolor\":\"white\",\"gridwidth\":2},\"yaxis\":{\"backgroundcolor\":\"#E5ECF6\",\"gridcolor\":\"white\",\"linecolor\":\"white\",\"showbackground\":true,\"ticks\":\"\",\"zerolinecolor\":\"white\",\"gridwidth\":2},\"zaxis\":{\"backgroundcolor\":\"#E5ECF6\",\"gridcolor\":\"white\",\"linecolor\":\"white\",\"showbackground\":true,\"ticks\":\"\",\"zerolinecolor\":\"white\",\"gridwidth\":2}},\"shapedefaults\":{\"line\":{\"color\":\"#2a3f5f\"}},\"annotationdefaults\":{\"arrowcolor\":\"#2a3f5f\",\"arrowhead\":0,\"arrowwidth\":1},\"geo\":{\"bgcolor\":\"white\",\"landcolor\":\"#E5ECF6\",\"subunitcolor\":\"white\",\"showland\":true,\"showlakes\":true,\"lakecolor\":\"white\"},\"title\":{\"x\":0.05},\"mapbox\":{\"style\":\"light\"}}},\"xaxis\":{\"anchor\":\"y\",\"domain\":[0.0,1.0],\"title\":{\"text\":\"Epoch\"}},\"yaxis\":{\"anchor\":\"x\",\"domain\":[0.0,1.0],\"title\":{\"text\":\"Loss\"}},\"legend\":{\"tracegroupgap\":0},\"title\":{\"text\":\"Train Loss Curve\"}},                        {\"responsive\": true}                    ).then(function(){\n",
              "                            \n",
              "var gd = document.getElementById('47320742-8423-4541-83e3-88c42f2e22b0');\n",
              "var x = new MutationObserver(function (mutations, observer) {{\n",
              "        var display = window.getComputedStyle(gd).display;\n",
              "        if (!display || display === 'none') {{\n",
              "            console.log([gd, 'removed!']);\n",
              "            Plotly.purge(gd);\n",
              "            observer.disconnect();\n",
              "        }}\n",
              "}});\n",
              "\n",
              "// Listen for the removal of the full notebook cells\n",
              "var notebookContainer = gd.closest('#notebook-container');\n",
              "if (notebookContainer) {{\n",
              "    x.observe(notebookContainer, {childList: true});\n",
              "}}\n",
              "\n",
              "// Listen for the clearing of the current output cell\n",
              "var outputEl = gd.closest('.output');\n",
              "if (outputEl) {{\n",
              "    x.observe(outputEl, {childList: true});\n",
              "}}\n",
              "\n",
              "                        })                };                            </script>        </div>\n",
              "</body>\n",
              "</html>"
            ]
          },
          "metadata": {}
        }
      ]
    },
    {
      "cell_type": "markdown",
      "source": [
        "# Sanity Check"
      ],
      "metadata": {
        "id": "TgcfIum_oveL"
      }
    },
    {
      "cell_type": "code",
      "source": [
        "test_sample, test_labels = next(train_data_loader)\n",
        "test_sample, test_labels = test_sample.to(device), test_labels.to(device)\n",
        "print(test_sample.shape)\n",
        "print(test_sample[:5])\n",
        "\n",
        "print(test_labels.shape)\n",
        "print(test_labels[:5])"
      ],
      "metadata": {
        "colab": {
          "base_uri": "https://localhost:8080/"
        },
        "id": "13HcQ29Gou1Y",
        "outputId": "9c008bed-9631-4121-8398-9665aabd9eca"
      },
      "execution_count": 22,
      "outputs": [
        {
          "output_type": "stream",
          "name": "stdout",
          "text": [
            "torch.Size([256, 12])\n",
            "tensor([[51, 13, 13, 22,  5, 13, 41, 17, 13, 13, 13, 50],\n",
            "        [51, 13, 13, 12, 20, 13, 14,  4, 13, 13, 13, 50],\n",
            "        [51, 13, 13, 20, 33, 13,  0, 29, 13, 13, 13, 50],\n",
            "        [51, 13, 13, 43, 36, 13, 15, 36, 13, 13, 13, 50],\n",
            "        [51, 13, 13, 41,  2, 13,  8,  0, 13, 13, 13, 50]], device='cuda:0')\n",
            "torch.Size([256])\n",
            "tensor([13, 13, 13, 13, 13], device='cuda:0')\n"
          ]
        }
      ]
    },
    {
      "cell_type": "code",
      "source": [
        "with torch.inference_mode():\n",
        "    logits = model(test_sample)\n",
        "    logits = logits[:, -1, :]\n",
        "    loss = loss_fn(logits, test_labels)\n",
        "    print(\"Test sample loss\", loss.item())\n",
        "\n",
        "    preds = logits.argmax(dim=-1)\n",
        "    acc = (preds == test_labels).float().mean()\n",
        "    print(\"test sample acc\", acc.item())"
      ],
      "metadata": {
        "colab": {
          "base_uri": "https://localhost:8080/"
        },
        "id": "Ih0pmHjso7PC",
        "outputId": "7e47079f-a08d-408d-e0b1-7c6577fc0ea9"
      },
      "execution_count": 23,
      "outputs": [
        {
          "output_type": "stream",
          "name": "stdout",
          "text": [
            "Test sample loss 0.0022177386563271284\n",
            "test sample acc 1.0\n"
          ]
        }
      ]
    },
    {
      "cell_type": "markdown",
      "source": [
        "# Save model"
      ],
      "metadata": {
        "id": "iYxLgqpy-jsV"
      }
    },
    {
      "cell_type": "code",
      "source": [
        "%mkdir ../models"
      ],
      "metadata": {
        "id": "8LZ1m17F1PI4"
      },
      "execution_count": 25,
      "outputs": []
    },
    {
      "cell_type": "code",
      "source": [
        "# Save the model\n",
        "filename = \"../models/majority_element_model.pt\"\n",
        "torch.save(model.state_dict(), filename)"
      ],
      "metadata": {
        "id": "c-jKftYv_YOJ"
      },
      "execution_count": 26,
      "outputs": []
    },
    {
      "cell_type": "code",
      "source": [
        "# Check we can load in the model\n",
        "MAX_ELT = 50\n",
        "LIST_LEN = 10\n",
        "cfg = HookedTransformerConfig(\n",
        "    n_layers=1,\n",
        "    d_model=64,\n",
        "    attn_only=True,\n",
        "    d_head=64,\n",
        "    n_heads=1,\n",
        "    normalization_type=None,\n",
        "    d_vocab=MAX_ELT+2, # 0, ..., MAX_ELT-1, BOS, END\n",
        "    n_ctx=LIST_LEN+2, #BOS a1 ... an END\n",
        "    device=device,\n",
        "    seed=0\n",
        ")\n",
        "\n",
        "model_loaded = HookedTransformer(cfg)\n",
        "model_loaded.load_state_dict(torch.load(filename))"
      ],
      "metadata": {
        "colab": {
          "base_uri": "https://localhost:8080/"
        },
        "id": "QLPucR6h_n4W",
        "outputId": "8ad3442d-e1ac-4836-abcc-331790c266e9"
      },
      "execution_count": 27,
      "outputs": [
        {
          "output_type": "execute_result",
          "data": {
            "text/plain": [
              "<All keys matched successfully>"
            ]
          },
          "metadata": {},
          "execution_count": 27
        }
      ]
    }
  ]
}