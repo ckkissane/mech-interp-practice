{
  "nbformat": 4,
  "nbformat_minor": 0,
  "metadata": {
    "colab": {
      "provenance": [],
      "gpuType": "T4",
      "authorship_tag": "ABX9TyP5Q1kHf8bX3N7wM/UTn0SJ"
    },
    "kernelspec": {
      "name": "python3",
      "display_name": "Python 3"
    },
    "language_info": {
      "name": "python"
    },
    "accelerator": "GPU",
    "widgets": {
      "application/vnd.jupyter.widget-state+json": {
        "5ab959b060e9491d80335f686b1542e3": {
          "model_module": "@jupyter-widgets/controls",
          "model_name": "HBoxModel",
          "model_module_version": "1.5.0",
          "state": {
            "_dom_classes": [],
            "_model_module": "@jupyter-widgets/controls",
            "_model_module_version": "1.5.0",
            "_model_name": "HBoxModel",
            "_view_count": null,
            "_view_module": "@jupyter-widgets/controls",
            "_view_module_version": "1.5.0",
            "_view_name": "HBoxView",
            "box_style": "",
            "children": [
              "IPY_MODEL_5f57d497a87f4c889da1bb6111a90b43",
              "IPY_MODEL_634c21b5b4b7480dbf71f4e108c725de",
              "IPY_MODEL_c4359dfb257b4e5f981a0ebcbc913517"
            ],
            "layout": "IPY_MODEL_777728a4073b4f3a8ad01e2d174e5487"
          }
        },
        "5f57d497a87f4c889da1bb6111a90b43": {
          "model_module": "@jupyter-widgets/controls",
          "model_name": "HTMLModel",
          "model_module_version": "1.5.0",
          "state": {
            "_dom_classes": [],
            "_model_module": "@jupyter-widgets/controls",
            "_model_module_version": "1.5.0",
            "_model_name": "HTMLModel",
            "_view_count": null,
            "_view_module": "@jupyter-widgets/controls",
            "_view_module_version": "1.5.0",
            "_view_name": "HTMLView",
            "description": "",
            "description_tooltip": null,
            "layout": "IPY_MODEL_e6e3c51794194a9d86fae4f3ea579b31",
            "placeholder": "​",
            "style": "IPY_MODEL_35e311c5dc2a4251961400231fb15583",
            "value": "100%"
          }
        },
        "634c21b5b4b7480dbf71f4e108c725de": {
          "model_module": "@jupyter-widgets/controls",
          "model_name": "FloatProgressModel",
          "model_module_version": "1.5.0",
          "state": {
            "_dom_classes": [],
            "_model_module": "@jupyter-widgets/controls",
            "_model_module_version": "1.5.0",
            "_model_name": "FloatProgressModel",
            "_view_count": null,
            "_view_module": "@jupyter-widgets/controls",
            "_view_module_version": "1.5.0",
            "_view_name": "ProgressView",
            "bar_style": "success",
            "description": "",
            "description_tooltip": null,
            "layout": "IPY_MODEL_5f92601ddd1e4a06a70294c16ec5b78a",
            "max": 4000,
            "min": 0,
            "orientation": "horizontal",
            "style": "IPY_MODEL_b1974ebade7445f58525cd9faf85a641",
            "value": 4000
          }
        },
        "c4359dfb257b4e5f981a0ebcbc913517": {
          "model_module": "@jupyter-widgets/controls",
          "model_name": "HTMLModel",
          "model_module_version": "1.5.0",
          "state": {
            "_dom_classes": [],
            "_model_module": "@jupyter-widgets/controls",
            "_model_module_version": "1.5.0",
            "_model_name": "HTMLModel",
            "_view_count": null,
            "_view_module": "@jupyter-widgets/controls",
            "_view_module_version": "1.5.0",
            "_view_name": "HTMLView",
            "description": "",
            "description_tooltip": null,
            "layout": "IPY_MODEL_8798d2226b4d47a0915ede98e625e159",
            "placeholder": "​",
            "style": "IPY_MODEL_ffc2e9e6722a45aca1d482614a566f68",
            "value": " 4000/4000 [01:00&lt;00:00, 55.29it/s]"
          }
        },
        "777728a4073b4f3a8ad01e2d174e5487": {
          "model_module": "@jupyter-widgets/base",
          "model_name": "LayoutModel",
          "model_module_version": "1.2.0",
          "state": {
            "_model_module": "@jupyter-widgets/base",
            "_model_module_version": "1.2.0",
            "_model_name": "LayoutModel",
            "_view_count": null,
            "_view_module": "@jupyter-widgets/base",
            "_view_module_version": "1.2.0",
            "_view_name": "LayoutView",
            "align_content": null,
            "align_items": null,
            "align_self": null,
            "border": null,
            "bottom": null,
            "display": null,
            "flex": null,
            "flex_flow": null,
            "grid_area": null,
            "grid_auto_columns": null,
            "grid_auto_flow": null,
            "grid_auto_rows": null,
            "grid_column": null,
            "grid_gap": null,
            "grid_row": null,
            "grid_template_areas": null,
            "grid_template_columns": null,
            "grid_template_rows": null,
            "height": null,
            "justify_content": null,
            "justify_items": null,
            "left": null,
            "margin": null,
            "max_height": null,
            "max_width": null,
            "min_height": null,
            "min_width": null,
            "object_fit": null,
            "object_position": null,
            "order": null,
            "overflow": null,
            "overflow_x": null,
            "overflow_y": null,
            "padding": null,
            "right": null,
            "top": null,
            "visibility": null,
            "width": null
          }
        },
        "e6e3c51794194a9d86fae4f3ea579b31": {
          "model_module": "@jupyter-widgets/base",
          "model_name": "LayoutModel",
          "model_module_version": "1.2.0",
          "state": {
            "_model_module": "@jupyter-widgets/base",
            "_model_module_version": "1.2.0",
            "_model_name": "LayoutModel",
            "_view_count": null,
            "_view_module": "@jupyter-widgets/base",
            "_view_module_version": "1.2.0",
            "_view_name": "LayoutView",
            "align_content": null,
            "align_items": null,
            "align_self": null,
            "border": null,
            "bottom": null,
            "display": null,
            "flex": null,
            "flex_flow": null,
            "grid_area": null,
            "grid_auto_columns": null,
            "grid_auto_flow": null,
            "grid_auto_rows": null,
            "grid_column": null,
            "grid_gap": null,
            "grid_row": null,
            "grid_template_areas": null,
            "grid_template_columns": null,
            "grid_template_rows": null,
            "height": null,
            "justify_content": null,
            "justify_items": null,
            "left": null,
            "margin": null,
            "max_height": null,
            "max_width": null,
            "min_height": null,
            "min_width": null,
            "object_fit": null,
            "object_position": null,
            "order": null,
            "overflow": null,
            "overflow_x": null,
            "overflow_y": null,
            "padding": null,
            "right": null,
            "top": null,
            "visibility": null,
            "width": null
          }
        },
        "35e311c5dc2a4251961400231fb15583": {
          "model_module": "@jupyter-widgets/controls",
          "model_name": "DescriptionStyleModel",
          "model_module_version": "1.5.0",
          "state": {
            "_model_module": "@jupyter-widgets/controls",
            "_model_module_version": "1.5.0",
            "_model_name": "DescriptionStyleModel",
            "_view_count": null,
            "_view_module": "@jupyter-widgets/base",
            "_view_module_version": "1.2.0",
            "_view_name": "StyleView",
            "description_width": ""
          }
        },
        "5f92601ddd1e4a06a70294c16ec5b78a": {
          "model_module": "@jupyter-widgets/base",
          "model_name": "LayoutModel",
          "model_module_version": "1.2.0",
          "state": {
            "_model_module": "@jupyter-widgets/base",
            "_model_module_version": "1.2.0",
            "_model_name": "LayoutModel",
            "_view_count": null,
            "_view_module": "@jupyter-widgets/base",
            "_view_module_version": "1.2.0",
            "_view_name": "LayoutView",
            "align_content": null,
            "align_items": null,
            "align_self": null,
            "border": null,
            "bottom": null,
            "display": null,
            "flex": null,
            "flex_flow": null,
            "grid_area": null,
            "grid_auto_columns": null,
            "grid_auto_flow": null,
            "grid_auto_rows": null,
            "grid_column": null,
            "grid_gap": null,
            "grid_row": null,
            "grid_template_areas": null,
            "grid_template_columns": null,
            "grid_template_rows": null,
            "height": null,
            "justify_content": null,
            "justify_items": null,
            "left": null,
            "margin": null,
            "max_height": null,
            "max_width": null,
            "min_height": null,
            "min_width": null,
            "object_fit": null,
            "object_position": null,
            "order": null,
            "overflow": null,
            "overflow_x": null,
            "overflow_y": null,
            "padding": null,
            "right": null,
            "top": null,
            "visibility": null,
            "width": null
          }
        },
        "b1974ebade7445f58525cd9faf85a641": {
          "model_module": "@jupyter-widgets/controls",
          "model_name": "ProgressStyleModel",
          "model_module_version": "1.5.0",
          "state": {
            "_model_module": "@jupyter-widgets/controls",
            "_model_module_version": "1.5.0",
            "_model_name": "ProgressStyleModel",
            "_view_count": null,
            "_view_module": "@jupyter-widgets/base",
            "_view_module_version": "1.2.0",
            "_view_name": "StyleView",
            "bar_color": null,
            "description_width": ""
          }
        },
        "8798d2226b4d47a0915ede98e625e159": {
          "model_module": "@jupyter-widgets/base",
          "model_name": "LayoutModel",
          "model_module_version": "1.2.0",
          "state": {
            "_model_module": "@jupyter-widgets/base",
            "_model_module_version": "1.2.0",
            "_model_name": "LayoutModel",
            "_view_count": null,
            "_view_module": "@jupyter-widgets/base",
            "_view_module_version": "1.2.0",
            "_view_name": "LayoutView",
            "align_content": null,
            "align_items": null,
            "align_self": null,
            "border": null,
            "bottom": null,
            "display": null,
            "flex": null,
            "flex_flow": null,
            "grid_area": null,
            "grid_auto_columns": null,
            "grid_auto_flow": null,
            "grid_auto_rows": null,
            "grid_column": null,
            "grid_gap": null,
            "grid_row": null,
            "grid_template_areas": null,
            "grid_template_columns": null,
            "grid_template_rows": null,
            "height": null,
            "justify_content": null,
            "justify_items": null,
            "left": null,
            "margin": null,
            "max_height": null,
            "max_width": null,
            "min_height": null,
            "min_width": null,
            "object_fit": null,
            "object_position": null,
            "order": null,
            "overflow": null,
            "overflow_x": null,
            "overflow_y": null,
            "padding": null,
            "right": null,
            "top": null,
            "visibility": null,
            "width": null
          }
        },
        "ffc2e9e6722a45aca1d482614a566f68": {
          "model_module": "@jupyter-widgets/controls",
          "model_name": "DescriptionStyleModel",
          "model_module_version": "1.5.0",
          "state": {
            "_model_module": "@jupyter-widgets/controls",
            "_model_module_version": "1.5.0",
            "_model_name": "DescriptionStyleModel",
            "_view_count": null,
            "_view_module": "@jupyter-widgets/base",
            "_view_module_version": "1.2.0",
            "_view_name": "StyleView",
            "description_width": ""
          }
        }
      }
    }
  },
  "cells": [
    {
      "cell_type": "markdown",
      "source": [
        "# Problem"
      ],
      "metadata": {
        "id": "PMeMP28yOQkT"
      }
    },
    {
      "cell_type": "markdown",
      "source": [
        "Interpret a toy model trained to permute lists."
      ],
      "metadata": {
        "id": "NCx8qhgSORri"
      }
    },
    {
      "cell_type": "markdown",
      "metadata": {
        "id": "JeENCT8b1kAv"
      },
      "source": [
        "# Setup\n",
        "(No need to read)"
      ]
    },
    {
      "cell_type": "code",
      "execution_count": 1,
      "metadata": {
        "id": "sxK_xiOO1kAv",
        "outputId": "c77e2802-f204-482a-aa57-0d530579db59",
        "colab": {
          "base_uri": "https://localhost:8080/",
          "height": 0
        }
      },
      "outputs": [
        {
          "output_type": "stream",
          "name": "stdout",
          "text": [
            "Running as a Colab notebook\n",
            "Collecting git+https://github.com/neelnanda-io/TransformerLens.git\n",
            "  Cloning https://github.com/neelnanda-io/TransformerLens.git to /tmp/pip-req-build-w0v7gm9x\n",
            "  Running command git clone --filter=blob:none --quiet https://github.com/neelnanda-io/TransformerLens.git /tmp/pip-req-build-w0v7gm9x\n",
            "  Resolved https://github.com/neelnanda-io/TransformerLens.git to commit 10d2f8a026d73eada861c7d51064f7e24d8f482c\n",
            "  Installing build dependencies ... \u001b[?25l\u001b[?25hdone\n",
            "  Getting requirements to build wheel ... \u001b[?25l\u001b[?25hdone\n",
            "  Preparing metadata (pyproject.toml) ... \u001b[?25l\u001b[?25hdone\n",
            "Collecting beartype<0.15.0,>=0.14.1 (from transformer-lens==0.0.0)\n",
            "  Downloading beartype-0.14.1-py3-none-any.whl (739 kB)\n",
            "\u001b[2K     \u001b[90m━━━━━━━━━━━━━━━━━━━━━━━━━━━━━━━━━━━━━━━\u001b[0m \u001b[32m739.7/739.7 kB\u001b[0m \u001b[31m7.2 MB/s\u001b[0m eta \u001b[36m0:00:00\u001b[0m\n",
            "\u001b[?25hCollecting datasets>=2.7.1 (from transformer-lens==0.0.0)\n",
            "  Downloading datasets-2.14.4-py3-none-any.whl (519 kB)\n",
            "\u001b[2K     \u001b[90m━━━━━━━━━━━━━━━━━━━━━━━━━━━━━━━━━━━━━━\u001b[0m \u001b[32m519.3/519.3 kB\u001b[0m \u001b[31m26.2 MB/s\u001b[0m eta \u001b[36m0:00:00\u001b[0m\n",
            "\u001b[?25hCollecting einops>=0.6.0 (from transformer-lens==0.0.0)\n",
            "  Downloading einops-0.6.1-py3-none-any.whl (42 kB)\n",
            "\u001b[2K     \u001b[90m━━━━━━━━━━━━━━━━━━━━━━━━━━━━━━━━━━━━━━━━\u001b[0m \u001b[32m42.2/42.2 kB\u001b[0m \u001b[31m5.5 MB/s\u001b[0m eta \u001b[36m0:00:00\u001b[0m\n",
            "\u001b[?25hCollecting fancy-einsum>=0.0.3 (from transformer-lens==0.0.0)\n",
            "  Downloading fancy_einsum-0.0.3-py3-none-any.whl (6.2 kB)\n",
            "Collecting jaxtyping>=0.2.11 (from transformer-lens==0.0.0)\n",
            "  Downloading jaxtyping-0.2.20-py3-none-any.whl (24 kB)\n",
            "Collecting numpy>=1.23 (from transformer-lens==0.0.0)\n",
            "  Downloading numpy-1.25.2-cp310-cp310-manylinux_2_17_x86_64.manylinux2014_x86_64.whl (18.2 MB)\n",
            "\u001b[2K     \u001b[90m━━━━━━━━━━━━━━━━━━━━━━━━━━━━━━━━━━━━━━━━\u001b[0m \u001b[32m18.2/18.2 MB\u001b[0m \u001b[31m48.4 MB/s\u001b[0m eta \u001b[36m0:00:00\u001b[0m\n",
            "\u001b[?25hRequirement already satisfied: pandas>=1.1.5 in /usr/local/lib/python3.10/dist-packages (from transformer-lens==0.0.0) (1.5.3)\n",
            "Requirement already satisfied: rich>=12.6.0 in /usr/local/lib/python3.10/dist-packages (from transformer-lens==0.0.0) (13.4.2)\n",
            "Requirement already satisfied: torch>=1.10 in /usr/local/lib/python3.10/dist-packages (from transformer-lens==0.0.0) (2.0.1+cu118)\n",
            "Requirement already satisfied: tqdm>=4.64.1 in /usr/local/lib/python3.10/dist-packages (from transformer-lens==0.0.0) (4.65.0)\n",
            "Collecting transformers>=4.25.1 (from transformer-lens==0.0.0)\n",
            "  Downloading transformers-4.31.0-py3-none-any.whl (7.4 MB)\n",
            "\u001b[2K     \u001b[90m━━━━━━━━━━━━━━━━━━━━━━━━━━━━━━━━━━━━━━━━\u001b[0m \u001b[32m7.4/7.4 MB\u001b[0m \u001b[31m36.6 MB/s\u001b[0m eta \u001b[36m0:00:00\u001b[0m\n",
            "\u001b[?25hCollecting wandb>=0.13.5 (from transformer-lens==0.0.0)\n",
            "  Downloading wandb-0.15.8-py3-none-any.whl (2.1 MB)\n",
            "\u001b[2K     \u001b[90m━━━━━━━━━━━━━━━━━━━━━━━━━━━━━━━━━━━━━━━━\u001b[0m \u001b[32m2.1/2.1 MB\u001b[0m \u001b[31m24.3 MB/s\u001b[0m eta \u001b[36m0:00:00\u001b[0m\n",
            "\u001b[?25hRequirement already satisfied: pyarrow>=8.0.0 in /usr/local/lib/python3.10/dist-packages (from datasets>=2.7.1->transformer-lens==0.0.0) (9.0.0)\n",
            "Collecting dill<0.3.8,>=0.3.0 (from datasets>=2.7.1->transformer-lens==0.0.0)\n",
            "  Downloading dill-0.3.7-py3-none-any.whl (115 kB)\n",
            "\u001b[2K     \u001b[90m━━━━━━━━━━━━━━━━━━━━━━━━━━━━━━━━━━━━━━\u001b[0m \u001b[32m115.3/115.3 kB\u001b[0m \u001b[31m16.6 MB/s\u001b[0m eta \u001b[36m0:00:00\u001b[0m\n",
            "\u001b[?25hRequirement already satisfied: requests>=2.19.0 in /usr/local/lib/python3.10/dist-packages (from datasets>=2.7.1->transformer-lens==0.0.0) (2.27.1)\n",
            "Collecting xxhash (from datasets>=2.7.1->transformer-lens==0.0.0)\n",
            "  Downloading xxhash-3.3.0-cp310-cp310-manylinux_2_17_x86_64.manylinux2014_x86_64.whl (194 kB)\n",
            "\u001b[2K     \u001b[90m━━━━━━━━━━━━━━━━━━━━━━━━━━━━━━━━━━━━━━\u001b[0m \u001b[32m194.1/194.1 kB\u001b[0m \u001b[31m20.4 MB/s\u001b[0m eta \u001b[36m0:00:00\u001b[0m\n",
            "\u001b[?25hCollecting multiprocess (from datasets>=2.7.1->transformer-lens==0.0.0)\n",
            "  Downloading multiprocess-0.70.15-py310-none-any.whl (134 kB)\n",
            "\u001b[2K     \u001b[90m━━━━━━━━━━━━━━━━━━━━━━━━━━━━━━━━━━━━━━\u001b[0m \u001b[32m134.8/134.8 kB\u001b[0m \u001b[31m15.7 MB/s\u001b[0m eta \u001b[36m0:00:00\u001b[0m\n",
            "\u001b[?25hRequirement already satisfied: fsspec[http]>=2021.11.1 in /usr/local/lib/python3.10/dist-packages (from datasets>=2.7.1->transformer-lens==0.0.0) (2023.6.0)\n",
            "Requirement already satisfied: aiohttp in /usr/local/lib/python3.10/dist-packages (from datasets>=2.7.1->transformer-lens==0.0.0) (3.8.5)\n",
            "Collecting huggingface-hub<1.0.0,>=0.14.0 (from datasets>=2.7.1->transformer-lens==0.0.0)\n",
            "  Downloading huggingface_hub-0.16.4-py3-none-any.whl (268 kB)\n",
            "\u001b[2K     \u001b[90m━━━━━━━━━━━━━━━━━━━━━━━━━━━━━━━━━━━━━━\u001b[0m \u001b[32m268.8/268.8 kB\u001b[0m \u001b[31m29.4 MB/s\u001b[0m eta \u001b[36m0:00:00\u001b[0m\n",
            "\u001b[?25hRequirement already satisfied: packaging in /usr/local/lib/python3.10/dist-packages (from datasets>=2.7.1->transformer-lens==0.0.0) (23.1)\n",
            "Requirement already satisfied: pyyaml>=5.1 in /usr/local/lib/python3.10/dist-packages (from datasets>=2.7.1->transformer-lens==0.0.0) (6.0.1)\n",
            "Collecting typeguard>=2.13.3 (from jaxtyping>=0.2.11->transformer-lens==0.0.0)\n",
            "  Downloading typeguard-4.1.0-py3-none-any.whl (33 kB)\n",
            "Requirement already satisfied: typing-extensions>=3.7.4.1 in /usr/local/lib/python3.10/dist-packages (from jaxtyping>=0.2.11->transformer-lens==0.0.0) (4.7.1)\n",
            "Requirement already satisfied: python-dateutil>=2.8.1 in /usr/local/lib/python3.10/dist-packages (from pandas>=1.1.5->transformer-lens==0.0.0) (2.8.2)\n",
            "Requirement already satisfied: pytz>=2020.1 in /usr/local/lib/python3.10/dist-packages (from pandas>=1.1.5->transformer-lens==0.0.0) (2022.7.1)\n",
            "Requirement already satisfied: markdown-it-py>=2.2.0 in /usr/local/lib/python3.10/dist-packages (from rich>=12.6.0->transformer-lens==0.0.0) (3.0.0)\n",
            "Requirement already satisfied: pygments<3.0.0,>=2.13.0 in /usr/local/lib/python3.10/dist-packages (from rich>=12.6.0->transformer-lens==0.0.0) (2.14.0)\n",
            "Requirement already satisfied: filelock in /usr/local/lib/python3.10/dist-packages (from torch>=1.10->transformer-lens==0.0.0) (3.12.2)\n",
            "Requirement already satisfied: sympy in /usr/local/lib/python3.10/dist-packages (from torch>=1.10->transformer-lens==0.0.0) (1.11.1)\n",
            "Requirement already satisfied: networkx in /usr/local/lib/python3.10/dist-packages (from torch>=1.10->transformer-lens==0.0.0) (3.1)\n",
            "Requirement already satisfied: jinja2 in /usr/local/lib/python3.10/dist-packages (from torch>=1.10->transformer-lens==0.0.0) (3.1.2)\n",
            "Requirement already satisfied: triton==2.0.0 in /usr/local/lib/python3.10/dist-packages (from torch>=1.10->transformer-lens==0.0.0) (2.0.0)\n",
            "Requirement already satisfied: cmake in /usr/local/lib/python3.10/dist-packages (from triton==2.0.0->torch>=1.10->transformer-lens==0.0.0) (3.25.2)\n",
            "Requirement already satisfied: lit in /usr/local/lib/python3.10/dist-packages (from triton==2.0.0->torch>=1.10->transformer-lens==0.0.0) (16.0.6)\n",
            "Requirement already satisfied: regex!=2019.12.17 in /usr/local/lib/python3.10/dist-packages (from transformers>=4.25.1->transformer-lens==0.0.0) (2022.10.31)\n",
            "Collecting tokenizers!=0.11.3,<0.14,>=0.11.1 (from transformers>=4.25.1->transformer-lens==0.0.0)\n",
            "  Downloading tokenizers-0.13.3-cp310-cp310-manylinux_2_17_x86_64.manylinux2014_x86_64.whl (7.8 MB)\n",
            "\u001b[2K     \u001b[90m━━━━━━━━━━━━━━━━━━━━━━━━━━━━━━━━━━━━━━━━\u001b[0m \u001b[32m7.8/7.8 MB\u001b[0m \u001b[31m108.7 MB/s\u001b[0m eta \u001b[36m0:00:00\u001b[0m\n",
            "\u001b[?25hCollecting safetensors>=0.3.1 (from transformers>=4.25.1->transformer-lens==0.0.0)\n",
            "  Downloading safetensors-0.3.2-cp310-cp310-manylinux_2_17_x86_64.manylinux2014_x86_64.whl (1.3 MB)\n",
            "\u001b[2K     \u001b[90m━━━━━━━━━━━━━━━━━━━━━━━━━━━━━━━━━━━━━━━━\u001b[0m \u001b[32m1.3/1.3 MB\u001b[0m \u001b[31m16.4 MB/s\u001b[0m eta \u001b[36m0:00:00\u001b[0m\n",
            "\u001b[?25hRequirement already satisfied: Click!=8.0.0,>=7.1 in /usr/local/lib/python3.10/dist-packages (from wandb>=0.13.5->transformer-lens==0.0.0) (8.1.6)\n",
            "Collecting GitPython!=3.1.29,>=1.0.0 (from wandb>=0.13.5->transformer-lens==0.0.0)\n",
            "  Downloading GitPython-3.1.32-py3-none-any.whl (188 kB)\n",
            "\u001b[2K     \u001b[90m━━━━━━━━━━━━━━━━━━━━━━━━━━━━━━━━━━━━━━\u001b[0m \u001b[32m188.5/188.5 kB\u001b[0m \u001b[31m23.3 MB/s\u001b[0m eta \u001b[36m0:00:00\u001b[0m\n",
            "\u001b[?25hRequirement already satisfied: psutil>=5.0.0 in /usr/local/lib/python3.10/dist-packages (from wandb>=0.13.5->transformer-lens==0.0.0) (5.9.5)\n",
            "Collecting sentry-sdk>=1.0.0 (from wandb>=0.13.5->transformer-lens==0.0.0)\n",
            "  Downloading sentry_sdk-1.29.2-py2.py3-none-any.whl (215 kB)\n",
            "\u001b[2K     \u001b[90m━━━━━━━━━━━━━━━━━━━━━━━━━━━━━━━━━━━━━━\u001b[0m \u001b[32m215.6/215.6 kB\u001b[0m \u001b[31m30.5 MB/s\u001b[0m eta \u001b[36m0:00:00\u001b[0m\n",
            "\u001b[?25hCollecting docker-pycreds>=0.4.0 (from wandb>=0.13.5->transformer-lens==0.0.0)\n",
            "  Downloading docker_pycreds-0.4.0-py2.py3-none-any.whl (9.0 kB)\n",
            "Collecting pathtools (from wandb>=0.13.5->transformer-lens==0.0.0)\n",
            "  Downloading pathtools-0.1.2.tar.gz (11 kB)\n",
            "  Preparing metadata (setup.py) ... \u001b[?25l\u001b[?25hdone\n",
            "Collecting setproctitle (from wandb>=0.13.5->transformer-lens==0.0.0)\n",
            "  Downloading setproctitle-1.3.2-cp310-cp310-manylinux_2_5_x86_64.manylinux1_x86_64.manylinux_2_17_x86_64.manylinux2014_x86_64.whl (30 kB)\n",
            "Requirement already satisfied: setuptools in /usr/local/lib/python3.10/dist-packages (from wandb>=0.13.5->transformer-lens==0.0.0) (67.7.2)\n",
            "Requirement already satisfied: appdirs>=1.4.3 in /usr/local/lib/python3.10/dist-packages (from wandb>=0.13.5->transformer-lens==0.0.0) (1.4.4)\n",
            "Requirement already satisfied: protobuf!=4.21.0,<5,>=3.19.0 in /usr/local/lib/python3.10/dist-packages (from wandb>=0.13.5->transformer-lens==0.0.0) (3.20.3)\n",
            "Requirement already satisfied: six>=1.4.0 in /usr/local/lib/python3.10/dist-packages (from docker-pycreds>=0.4.0->wandb>=0.13.5->transformer-lens==0.0.0) (1.16.0)\n",
            "Requirement already satisfied: attrs>=17.3.0 in /usr/local/lib/python3.10/dist-packages (from aiohttp->datasets>=2.7.1->transformer-lens==0.0.0) (23.1.0)\n",
            "Requirement already satisfied: charset-normalizer<4.0,>=2.0 in /usr/local/lib/python3.10/dist-packages (from aiohttp->datasets>=2.7.1->transformer-lens==0.0.0) (2.0.12)\n",
            "Requirement already satisfied: multidict<7.0,>=4.5 in /usr/local/lib/python3.10/dist-packages (from aiohttp->datasets>=2.7.1->transformer-lens==0.0.0) (6.0.4)\n",
            "Requirement already satisfied: async-timeout<5.0,>=4.0.0a3 in /usr/local/lib/python3.10/dist-packages (from aiohttp->datasets>=2.7.1->transformer-lens==0.0.0) (4.0.2)\n",
            "Requirement already satisfied: yarl<2.0,>=1.0 in /usr/local/lib/python3.10/dist-packages (from aiohttp->datasets>=2.7.1->transformer-lens==0.0.0) (1.9.2)\n",
            "Requirement already satisfied: frozenlist>=1.1.1 in /usr/local/lib/python3.10/dist-packages (from aiohttp->datasets>=2.7.1->transformer-lens==0.0.0) (1.4.0)\n",
            "Requirement already satisfied: aiosignal>=1.1.2 in /usr/local/lib/python3.10/dist-packages (from aiohttp->datasets>=2.7.1->transformer-lens==0.0.0) (1.3.1)\n",
            "Collecting gitdb<5,>=4.0.1 (from GitPython!=3.1.29,>=1.0.0->wandb>=0.13.5->transformer-lens==0.0.0)\n",
            "  Downloading gitdb-4.0.10-py3-none-any.whl (62 kB)\n",
            "\u001b[2K     \u001b[90m━━━━━━━━━━━━━━━━━━━━━━━━━━━━━━━━━━━━━━━━\u001b[0m \u001b[32m62.7/62.7 kB\u001b[0m \u001b[31m10.3 MB/s\u001b[0m eta \u001b[36m0:00:00\u001b[0m\n",
            "\u001b[?25hRequirement already satisfied: mdurl~=0.1 in /usr/local/lib/python3.10/dist-packages (from markdown-it-py>=2.2.0->rich>=12.6.0->transformer-lens==0.0.0) (0.1.2)\n",
            "Requirement already satisfied: urllib3<1.27,>=1.21.1 in /usr/local/lib/python3.10/dist-packages (from requests>=2.19.0->datasets>=2.7.1->transformer-lens==0.0.0) (1.26.16)\n",
            "Requirement already satisfied: certifi>=2017.4.17 in /usr/local/lib/python3.10/dist-packages (from requests>=2.19.0->datasets>=2.7.1->transformer-lens==0.0.0) (2023.7.22)\n",
            "Requirement already satisfied: idna<4,>=2.5 in /usr/local/lib/python3.10/dist-packages (from requests>=2.19.0->datasets>=2.7.1->transformer-lens==0.0.0) (3.4)\n",
            "Requirement already satisfied: MarkupSafe>=2.0 in /usr/local/lib/python3.10/dist-packages (from jinja2->torch>=1.10->transformer-lens==0.0.0) (2.1.3)\n",
            "Requirement already satisfied: mpmath>=0.19 in /usr/local/lib/python3.10/dist-packages (from sympy->torch>=1.10->transformer-lens==0.0.0) (1.3.0)\n",
            "Collecting smmap<6,>=3.0.1 (from gitdb<5,>=4.0.1->GitPython!=3.1.29,>=1.0.0->wandb>=0.13.5->transformer-lens==0.0.0)\n",
            "  Downloading smmap-5.0.0-py3-none-any.whl (24 kB)\n",
            "Building wheels for collected packages: transformer-lens, pathtools\n",
            "  Building wheel for transformer-lens (pyproject.toml) ... \u001b[?25l\u001b[?25hdone\n",
            "  Created wheel for transformer-lens: filename=transformer_lens-0.0.0-py3-none-any.whl size=105856 sha256=8b8569bc6ad00f3b4d7748e92dcaec0688a67652fe6b37f8bea495ca076ad502\n",
            "  Stored in directory: /tmp/pip-ephem-wheel-cache-_j9b7d6r/wheels/8a/1e/37/ffb9c15454a1725b13a9d9f5e74fb91725048884ad734b8c1f\n",
            "  Building wheel for pathtools (setup.py) ... \u001b[?25l\u001b[?25hdone\n",
            "  Created wheel for pathtools: filename=pathtools-0.1.2-py3-none-any.whl size=8791 sha256=4d9baa0fc5d9f7624cbfefd82bc6c1834ca375c10eafffcdbe00bb35c49bb890\n",
            "  Stored in directory: /root/.cache/pip/wheels/e7/f3/22/152153d6eb222ee7a56ff8617d80ee5207207a8c00a7aab794\n",
            "Successfully built transformer-lens pathtools\n",
            "Installing collected packages: tokenizers, safetensors, pathtools, xxhash, typeguard, smmap, setproctitle, sentry-sdk, numpy, fancy-einsum, einops, docker-pycreds, dill, beartype, multiprocess, jaxtyping, huggingface-hub, gitdb, transformers, GitPython, wandb, datasets, transformer-lens\n",
            "  Attempting uninstall: numpy\n",
            "    Found existing installation: numpy 1.22.4\n",
            "    Uninstalling numpy-1.22.4:\n",
            "      Successfully uninstalled numpy-1.22.4\n",
            "\u001b[31mERROR: pip's dependency resolver does not currently take into account all the packages that are installed. This behaviour is the source of the following dependency conflicts.\n",
            "numba 0.56.4 requires numpy<1.24,>=1.18, but you have numpy 1.25.2 which is incompatible.\n",
            "tensorflow 2.12.0 requires numpy<1.24,>=1.22, but you have numpy 1.25.2 which is incompatible.\u001b[0m\u001b[31m\n",
            "\u001b[0mSuccessfully installed GitPython-3.1.32 beartype-0.14.1 datasets-2.14.4 dill-0.3.7 docker-pycreds-0.4.0 einops-0.6.1 fancy-einsum-0.0.3 gitdb-4.0.10 huggingface-hub-0.16.4 jaxtyping-0.2.20 multiprocess-0.70.15 numpy-1.25.2 pathtools-0.1.2 safetensors-0.3.2 sentry-sdk-1.29.2 setproctitle-1.3.2 smmap-5.0.0 tokenizers-0.13.3 transformer-lens-0.0.0 transformers-4.31.0 typeguard-4.1.0 wandb-0.15.8 xxhash-3.3.0\n"
          ]
        },
        {
          "output_type": "display_data",
          "data": {
            "application/vnd.colab-display-data+json": {
              "pip_warning": {
                "packages": [
                  "numpy"
                ]
              }
            }
          },
          "metadata": {}
        },
        {
          "output_type": "stream",
          "name": "stdout",
          "text": [
            "\n",
            "## Installing the NodeSource Node.js 16.x repo...\n",
            "\n",
            "\n",
            "## Populating apt-get cache...\n",
            "\n",
            "+ apt-get update\n",
            "\r0% [Working]\r            \rGet:1 https://cloud.r-project.org/bin/linux/ubuntu jammy-cran40/ InRelease [3,626 B]\n",
            "Hit:2 https://developer.download.nvidia.com/compute/cuda/repos/ubuntu2204/x86_64  InRelease\n",
            "Get:3 https://cloud.r-project.org/bin/linux/ubuntu jammy-cran40/ Packages [43.3 kB]\n",
            "Get:4 http://security.ubuntu.com/ubuntu jammy-security InRelease [110 kB]\n",
            "Hit:5 http://archive.ubuntu.com/ubuntu jammy InRelease\n",
            "Get:6 http://archive.ubuntu.com/ubuntu jammy-updates InRelease [119 kB]\n",
            "Hit:7 https://ppa.launchpadcontent.net/c2d4u.team/c2d4u4.0+/ubuntu jammy InRelease\n",
            "Get:8 http://security.ubuntu.com/ubuntu jammy-security/restricted amd64 Packages [849 kB]\n",
            "Get:9 https://ppa.launchpadcontent.net/deadsnakes/ppa/ubuntu jammy InRelease [18.1 kB]\n",
            "Get:10 http://archive.ubuntu.com/ubuntu jammy-backports InRelease [109 kB]\n",
            "Get:11 http://archive.ubuntu.com/ubuntu jammy-updates/universe amd64 Packages [1,235 kB]\n",
            "Get:12 http://security.ubuntu.com/ubuntu jammy-security/main amd64 Packages [834 kB]\n",
            "Hit:13 https://ppa.launchpadcontent.net/graphics-drivers/ppa/ubuntu jammy InRelease\n",
            "Get:14 http://archive.ubuntu.com/ubuntu jammy-updates/main amd64 Packages [1,103 kB]\n",
            "Hit:15 https://ppa.launchpadcontent.net/ubuntugis/ppa/ubuntu jammy InRelease\n",
            "Get:16 https://ppa.launchpadcontent.net/deadsnakes/ppa/ubuntu jammy/main amd64 Packages [21.7 kB]\n",
            "Fetched 4,445 kB in 4s (1,144 kB/s)\n",
            "Reading package lists... Done\n",
            "\n",
            "## Confirming \"jammy\" is supported...\n",
            "\n",
            "+ curl -sLf -o /dev/null 'https://deb.nodesource.com/node_16.x/dists/jammy/Release'\n",
            "\n",
            "## Adding the NodeSource signing key to your keyring...\n",
            "\n",
            "+ curl -s https://deb.nodesource.com/gpgkey/nodesource.gpg.key | gpg --dearmor | tee /usr/share/keyrings/nodesource.gpg >/dev/null\n",
            "\n",
            "## Creating apt sources list file for the NodeSource Node.js 16.x repo...\n",
            "\n",
            "+ echo 'deb [signed-by=/usr/share/keyrings/nodesource.gpg] https://deb.nodesource.com/node_16.x jammy main' > /etc/apt/sources.list.d/nodesource.list\n",
            "+ echo 'deb-src [signed-by=/usr/share/keyrings/nodesource.gpg] https://deb.nodesource.com/node_16.x jammy main' >> /etc/apt/sources.list.d/nodesource.list\n",
            "\n",
            "## Running `apt-get update` for you...\n",
            "\n",
            "+ apt-get update\n",
            "Hit:1 https://cloud.r-project.org/bin/linux/ubuntu jammy-cran40/ InRelease\n",
            "Hit:2 https://developer.download.nvidia.com/compute/cuda/repos/ubuntu2204/x86_64  InRelease\n",
            "Get:3 https://deb.nodesource.com/node_16.x jammy InRelease [4,583 B]\n",
            "Get:4 https://deb.nodesource.com/node_16.x jammy/main amd64 Packages [775 B]\n",
            "Hit:5 http://security.ubuntu.com/ubuntu jammy-security InRelease\n",
            "Hit:6 http://archive.ubuntu.com/ubuntu jammy InRelease\n",
            "Hit:7 https://ppa.launchpadcontent.net/c2d4u.team/c2d4u4.0+/ubuntu jammy InRelease\n",
            "Hit:8 http://archive.ubuntu.com/ubuntu jammy-updates InRelease\n",
            "Hit:9 http://archive.ubuntu.com/ubuntu jammy-backports InRelease\n",
            "Hit:10 https://ppa.launchpadcontent.net/deadsnakes/ppa/ubuntu jammy InRelease\n",
            "Hit:11 https://ppa.launchpadcontent.net/graphics-drivers/ppa/ubuntu jammy InRelease\n",
            "Hit:12 https://ppa.launchpadcontent.net/ubuntugis/ppa/ubuntu jammy InRelease\n",
            "Fetched 5,358 B in 3s (1,932 B/s)\n",
            "Reading package lists... Done\n",
            "\n",
            "## Run `\u001b[1msudo apt-get install -y nodejs\u001b[m` to install Node.js 16.x and npm\n",
            "## You may also need development tools to build native addons:\n",
            "     sudo apt-get install gcc g++ make\n",
            "## To install the Yarn package manager, run:\n",
            "     curl -sL https://dl.yarnpkg.com/debian/pubkey.gpg | gpg --dearmor | sudo tee /usr/share/keyrings/yarnkey.gpg >/dev/null\n",
            "     echo \"deb [signed-by=/usr/share/keyrings/yarnkey.gpg] https://dl.yarnpkg.com/debian stable main\" | sudo tee /etc/apt/sources.list.d/yarn.list\n",
            "     sudo apt-get update && sudo apt-get install yarn\n",
            "\n",
            "\n",
            "Reading package lists... Done\n",
            "Building dependency tree... Done\n",
            "Reading state information... Done\n",
            "The following NEW packages will be installed:\n",
            "  nodejs\n",
            "0 upgraded, 1 newly installed, 0 to remove and 20 not upgraded.\n",
            "Need to get 27.2 MB of archives.\n",
            "After this operation, 128 MB of additional disk space will be used.\n",
            "Get:1 https://deb.nodesource.com/node_16.x jammy/main amd64 nodejs amd64 16.20.1-deb-1nodesource1 [27.2 MB]\n",
            "Fetched 27.2 MB in 1s (35.3 MB/s)\n",
            "debconf: unable to initialize frontend: Dialog\n",
            "debconf: (No usable dialog-like program is installed, so the dialog based frontend cannot be used. at /usr/share/perl5/Debconf/FrontEnd/Dialog.pm line 78, <> line 1.)\n",
            "debconf: falling back to frontend: Readline\n",
            "debconf: unable to initialize frontend: Readline\n",
            "debconf: (This frontend requires a controlling tty.)\n",
            "debconf: falling back to frontend: Teletype\n",
            "dpkg-preconfigure: unable to re-open stdin: \n",
            "Selecting previously unselected package nodejs.\n",
            "(Reading database ... 120511 files and directories currently installed.)\n",
            "Preparing to unpack .../nodejs_16.20.1-deb-1nodesource1_amd64.deb ...\n",
            "Unpacking nodejs (16.20.1-deb-1nodesource1) ...\n",
            "Setting up nodejs (16.20.1-deb-1nodesource1) ...\n",
            "Processing triggers for man-db (2.10.2-1) ...\n",
            "Collecting git+https://github.com/neelnanda-io/PySvelte.git\n",
            "  Cloning https://github.com/neelnanda-io/PySvelte.git to /tmp/pip-req-build-fad_qovw\n",
            "  Running command git clone --filter=blob:none --quiet https://github.com/neelnanda-io/PySvelte.git /tmp/pip-req-build-fad_qovw\n",
            "  Resolved https://github.com/neelnanda-io/PySvelte.git to commit 6f5d971a148d40fb7481d400ae74551b37340e83\n",
            "  Preparing metadata (setup.py) ... \u001b[?25l\u001b[?25hdone\n",
            "Requirement already satisfied: einops in /usr/local/lib/python3.10/dist-packages (from PySvelte==1.0.0) (0.6.1)\n",
            "Requirement already satisfied: numpy in /usr/local/lib/python3.10/dist-packages (from PySvelte==1.0.0) (1.25.2)\n",
            "Requirement already satisfied: torch in /usr/local/lib/python3.10/dist-packages (from PySvelte==1.0.0) (2.0.1+cu118)\n",
            "Requirement already satisfied: datasets in /usr/local/lib/python3.10/dist-packages (from PySvelte==1.0.0) (2.14.4)\n",
            "Requirement already satisfied: transformers in /usr/local/lib/python3.10/dist-packages (from PySvelte==1.0.0) (4.31.0)\n",
            "Requirement already satisfied: tqdm in /usr/local/lib/python3.10/dist-packages (from PySvelte==1.0.0) (4.65.0)\n",
            "Requirement already satisfied: pandas in /usr/local/lib/python3.10/dist-packages (from PySvelte==1.0.0) (1.5.3)\n",
            "Collecting typeguard~=2.0 (from PySvelte==1.0.0)\n",
            "  Downloading typeguard-2.13.3-py3-none-any.whl (17 kB)\n",
            "Requirement already satisfied: pyarrow>=8.0.0 in /usr/local/lib/python3.10/dist-packages (from datasets->PySvelte==1.0.0) (9.0.0)\n",
            "Requirement already satisfied: dill<0.3.8,>=0.3.0 in /usr/local/lib/python3.10/dist-packages (from datasets->PySvelte==1.0.0) (0.3.7)\n",
            "Requirement already satisfied: requests>=2.19.0 in /usr/local/lib/python3.10/dist-packages (from datasets->PySvelte==1.0.0) (2.27.1)\n",
            "Requirement already satisfied: xxhash in /usr/local/lib/python3.10/dist-packages (from datasets->PySvelte==1.0.0) (3.3.0)\n",
            "Requirement already satisfied: multiprocess in /usr/local/lib/python3.10/dist-packages (from datasets->PySvelte==1.0.0) (0.70.15)\n",
            "Requirement already satisfied: fsspec[http]>=2021.11.1 in /usr/local/lib/python3.10/dist-packages (from datasets->PySvelte==1.0.0) (2023.6.0)\n",
            "Requirement already satisfied: aiohttp in /usr/local/lib/python3.10/dist-packages (from datasets->PySvelte==1.0.0) (3.8.5)\n",
            "Requirement already satisfied: huggingface-hub<1.0.0,>=0.14.0 in /usr/local/lib/python3.10/dist-packages (from datasets->PySvelte==1.0.0) (0.16.4)\n",
            "Requirement already satisfied: packaging in /usr/local/lib/python3.10/dist-packages (from datasets->PySvelte==1.0.0) (23.1)\n",
            "Requirement already satisfied: pyyaml>=5.1 in /usr/local/lib/python3.10/dist-packages (from datasets->PySvelte==1.0.0) (6.0.1)\n",
            "Requirement already satisfied: python-dateutil>=2.8.1 in /usr/local/lib/python3.10/dist-packages (from pandas->PySvelte==1.0.0) (2.8.2)\n",
            "Requirement already satisfied: pytz>=2020.1 in /usr/local/lib/python3.10/dist-packages (from pandas->PySvelte==1.0.0) (2022.7.1)\n",
            "Requirement already satisfied: filelock in /usr/local/lib/python3.10/dist-packages (from torch->PySvelte==1.0.0) (3.12.2)\n",
            "Requirement already satisfied: typing-extensions in /usr/local/lib/python3.10/dist-packages (from torch->PySvelte==1.0.0) (4.7.1)\n",
            "Requirement already satisfied: sympy in /usr/local/lib/python3.10/dist-packages (from torch->PySvelte==1.0.0) (1.11.1)\n",
            "Requirement already satisfied: networkx in /usr/local/lib/python3.10/dist-packages (from torch->PySvelte==1.0.0) (3.1)\n",
            "Requirement already satisfied: jinja2 in /usr/local/lib/python3.10/dist-packages (from torch->PySvelte==1.0.0) (3.1.2)\n",
            "Requirement already satisfied: triton==2.0.0 in /usr/local/lib/python3.10/dist-packages (from torch->PySvelte==1.0.0) (2.0.0)\n",
            "Requirement already satisfied: cmake in /usr/local/lib/python3.10/dist-packages (from triton==2.0.0->torch->PySvelte==1.0.0) (3.25.2)\n",
            "Requirement already satisfied: lit in /usr/local/lib/python3.10/dist-packages (from triton==2.0.0->torch->PySvelte==1.0.0) (16.0.6)\n",
            "Requirement already satisfied: regex!=2019.12.17 in /usr/local/lib/python3.10/dist-packages (from transformers->PySvelte==1.0.0) (2022.10.31)\n",
            "Requirement already satisfied: tokenizers!=0.11.3,<0.14,>=0.11.1 in /usr/local/lib/python3.10/dist-packages (from transformers->PySvelte==1.0.0) (0.13.3)\n",
            "Requirement already satisfied: safetensors>=0.3.1 in /usr/local/lib/python3.10/dist-packages (from transformers->PySvelte==1.0.0) (0.3.2)\n",
            "Requirement already satisfied: attrs>=17.3.0 in /usr/local/lib/python3.10/dist-packages (from aiohttp->datasets->PySvelte==1.0.0) (23.1.0)\n",
            "Requirement already satisfied: charset-normalizer<4.0,>=2.0 in /usr/local/lib/python3.10/dist-packages (from aiohttp->datasets->PySvelte==1.0.0) (2.0.12)\n",
            "Requirement already satisfied: multidict<7.0,>=4.5 in /usr/local/lib/python3.10/dist-packages (from aiohttp->datasets->PySvelte==1.0.0) (6.0.4)\n",
            "Requirement already satisfied: async-timeout<5.0,>=4.0.0a3 in /usr/local/lib/python3.10/dist-packages (from aiohttp->datasets->PySvelte==1.0.0) (4.0.2)\n",
            "Requirement already satisfied: yarl<2.0,>=1.0 in /usr/local/lib/python3.10/dist-packages (from aiohttp->datasets->PySvelte==1.0.0) (1.9.2)\n",
            "Requirement already satisfied: frozenlist>=1.1.1 in /usr/local/lib/python3.10/dist-packages (from aiohttp->datasets->PySvelte==1.0.0) (1.4.0)\n",
            "Requirement already satisfied: aiosignal>=1.1.2 in /usr/local/lib/python3.10/dist-packages (from aiohttp->datasets->PySvelte==1.0.0) (1.3.1)\n",
            "Requirement already satisfied: six>=1.5 in /usr/local/lib/python3.10/dist-packages (from python-dateutil>=2.8.1->pandas->PySvelte==1.0.0) (1.16.0)\n",
            "Requirement already satisfied: urllib3<1.27,>=1.21.1 in /usr/local/lib/python3.10/dist-packages (from requests>=2.19.0->datasets->PySvelte==1.0.0) (1.26.16)\n",
            "Requirement already satisfied: certifi>=2017.4.17 in /usr/local/lib/python3.10/dist-packages (from requests>=2.19.0->datasets->PySvelte==1.0.0) (2023.7.22)\n",
            "Requirement already satisfied: idna<4,>=2.5 in /usr/local/lib/python3.10/dist-packages (from requests>=2.19.0->datasets->PySvelte==1.0.0) (3.4)\n",
            "Requirement already satisfied: MarkupSafe>=2.0 in /usr/local/lib/python3.10/dist-packages (from jinja2->torch->PySvelte==1.0.0) (2.1.3)\n",
            "Requirement already satisfied: mpmath>=0.19 in /usr/local/lib/python3.10/dist-packages (from sympy->torch->PySvelte==1.0.0) (1.3.0)\n",
            "Building wheels for collected packages: PySvelte\n",
            "  Building wheel for PySvelte (setup.py) ... \u001b[?25l\u001b[?25hdone\n",
            "  Created wheel for PySvelte: filename=PySvelte-1.0.0-py3-none-any.whl size=158306 sha256=0cfab32d7aedafaeca1231e64fe1f7d3ccf4df1b51c4a357e2e4d114230ccc52\n",
            "  Stored in directory: /tmp/pip-ephem-wheel-cache-egag289f/wheels/fa/f6/f2/673ef7aeb78d7503b6e3e42387132822fdc38d3ee283d3e5b4\n",
            "Successfully built PySvelte\n",
            "Installing collected packages: typeguard, PySvelte\n",
            "  Attempting uninstall: typeguard\n",
            "    Found existing installation: typeguard 4.1.0\n",
            "    Uninstalling typeguard-4.1.0:\n",
            "      Successfully uninstalled typeguard-4.1.0\n",
            "Successfully installed PySvelte-1.0.0 typeguard-2.13.3\n",
            "Requirement already satisfied: typeguard==2.13.3 in /usr/local/lib/python3.10/dist-packages (2.13.3)\n"
          ]
        }
      ],
      "source": [
        "# Janky code to do different setup when run in a Colab notebook vs VSCode\n",
        "DEBUG_MODE = False\n",
        "try:\n",
        "    import google.colab\n",
        "    IN_COLAB = True\n",
        "    print(\"Running as a Colab notebook\")\n",
        "    %pip install git+https://github.com/neelnanda-io/TransformerLens.git\n",
        "    # Install another version of node that makes PySvelte work way faster\n",
        "    !curl -fsSL https://deb.nodesource.com/setup_16.x | sudo -E bash -; sudo apt-get install -y nodejs\n",
        "    %pip install git+https://github.com/neelnanda-io/PySvelte.git\n",
        "    # Needed for PySvelte to work, v3 came out and broke things...\n",
        "    %pip install typeguard==2.13.3\n",
        "except:\n",
        "    IN_COLAB = False\n",
        "    print(\"Running as a Jupyter notebook - intended for development only!\")\n",
        "    from IPython import get_ipython\n",
        "\n",
        "    ipython = get_ipython()\n",
        "    # Code to automatically update the HookedTransformer code as its edited without restarting the kernel\n",
        "    ipython.magic(\"load_ext autoreload\")\n",
        "    ipython.magic(\"autoreload 2\")"
      ]
    },
    {
      "cell_type": "code",
      "execution_count": 2,
      "metadata": {
        "id": "ucSutS0c1kAw"
      },
      "outputs": [],
      "source": [
        "# Plotly needs a different renderer for VSCode/Notebooks vs Colab argh\n",
        "import plotly.io as pio\n",
        "\n",
        "if IN_COLAB or not DEBUG_MODE:\n",
        "    # Thanks to annoying rendering issues, Plotly graphics will either show up in colab OR Vscode depending on the renderer - this is bad for developing demos! Thus creating a debug mode.\n",
        "    pio.renderers.default = \"colab\"\n",
        "else:\n",
        "    pio.renderers.default = \"png\""
      ]
    },
    {
      "cell_type": "code",
      "execution_count": 3,
      "metadata": {
        "id": "uR_n0Mrl1kAx"
      },
      "outputs": [],
      "source": [
        "# Import stuff\n",
        "import torch\n",
        "import torch.nn as nn\n",
        "import torch.nn.functional as F\n",
        "import torch.optim as optim\n",
        "import numpy as np\n",
        "import einops\n",
        "import tqdm.notebook as tqdm\n",
        "import random\n",
        "from pathlib import Path\n",
        "import plotly.express as px\n",
        "from torch.utils.data import DataLoader\n",
        "\n",
        "from jaxtyping import Float, Int\n",
        "from typing import List, Union, Optional\n",
        "from functools import partial\n",
        "import copy\n",
        "\n",
        "import itertools\n",
        "from transformers import AutoModelForCausalLM, AutoConfig, AutoTokenizer\n",
        "import dataclasses\n",
        "from dataclasses import dataclass\n",
        "import datasets\n",
        "from IPython.display import HTML"
      ]
    },
    {
      "cell_type": "code",
      "execution_count": 4,
      "metadata": {
        "id": "YSZhMtBl1kAx"
      },
      "outputs": [],
      "source": [
        "import pysvelte\n",
        "\n",
        "import transformer_lens\n",
        "import transformer_lens.utils as utils\n",
        "from transformer_lens.hook_points import (\n",
        "    HookedRootModule,\n",
        "    HookPoint,\n",
        ")  # Hooking utilities\n",
        "from transformer_lens import HookedTransformer, HookedTransformerConfig, FactoredMatrix, ActivationCache"
      ]
    },
    {
      "cell_type": "markdown",
      "metadata": {
        "id": "DPzBb_kI1kAy"
      },
      "source": [
        "Plotting helper functions:"
      ]
    },
    {
      "cell_type": "code",
      "execution_count": 5,
      "metadata": {
        "id": "fBIDNqzV1kAy"
      },
      "outputs": [],
      "source": [
        "import plotly.graph_objects as go\n",
        "\n",
        "update_layout_set = {\"xaxis_range\", \"yaxis_range\", \"hovermode\", \"xaxis_title\", \"yaxis_title\", \"colorbar\", \"colorscale\", \"coloraxis\", \"title_x\", \"bargap\", \"bargroupgap\", \"xaxis_tickformat\", \"yaxis_tickformat\", \"title_y\", \"legend_title_text\", \"xaxis_showgrid\", \"xaxis_gridwidth\", \"xaxis_gridcolor\", \"yaxis_showgrid\", \"yaxis_gridwidth\"}\n",
        "def imshow(tensor, renderer=None, xaxis=\"\", yaxis=\"\", **kwargs):\n",
        "    if isinstance(tensor, list):\n",
        "        tensor = torch.stack(tensor)\n",
        "    kwargs_post = {k: v for k, v in kwargs.items() if k in update_layout_set}\n",
        "    kwargs_pre = {k: v for k, v in kwargs.items() if k not in update_layout_set}\n",
        "    if \"facet_labels\" in kwargs_pre:\n",
        "        facet_labels = kwargs_pre.pop(\"facet_labels\")\n",
        "    else:\n",
        "        facet_labels = None\n",
        "    if \"color_continuous_scale\" not in kwargs_pre:\n",
        "        kwargs_pre[\"color_continuous_scale\"] = \"RdBu\"\n",
        "    fig = px.imshow(utils.to_numpy(tensor), color_continuous_midpoint=0.0,labels={\"x\":xaxis, \"y\":yaxis}, **kwargs_pre).update_layout(**kwargs_post)\n",
        "    if facet_labels:\n",
        "        for i, label in enumerate(facet_labels):\n",
        "            fig.layout.annotations[i]['text'] = label\n",
        "\n",
        "    fig.show(renderer)\n",
        "\n",
        "def line(tensor, renderer=None, xaxis=\"\", yaxis=\"\", **kwargs):\n",
        "    px.line(y=utils.to_numpy(tensor), labels={\"x\":xaxis, \"y\":yaxis}, **kwargs).show(renderer)\n",
        "\n",
        "def scatter(x, y, xaxis=\"\", yaxis=\"\", caxis=\"\", renderer=None, **kwargs):\n",
        "    x = utils.to_numpy(x)\n",
        "    y = utils.to_numpy(y)\n",
        "    px.scatter(y=y, x=x, labels={\"x\":xaxis, \"y\":yaxis, \"color\":caxis}, **kwargs).show(renderer)\n",
        "\n",
        "def lines(lines_list, x=None, mode='lines', labels=None, xaxis='', yaxis='', title = '', log_y=False, hover=None, **kwargs):\n",
        "    # Helper function to plot multiple lines\n",
        "    if type(lines_list)==torch.Tensor:\n",
        "        lines_list = [lines_list[i] for i in range(lines_list.shape[0])]\n",
        "    if x is None:\n",
        "        x=np.arange(len(lines_list[0]))\n",
        "    fig = go.Figure(layout={'title':title})\n",
        "    fig.update_xaxes(title=xaxis)\n",
        "    fig.update_yaxes(title=yaxis)\n",
        "    for c, line in enumerate(lines_list):\n",
        "        if type(line)==torch.Tensor:\n",
        "            line = utils.to_numpy(line)\n",
        "        if labels is not None:\n",
        "            label = labels[c]\n",
        "        else:\n",
        "            label = c\n",
        "        fig.add_trace(go.Scatter(x=x, y=line, mode=mode, name=label, hovertext=hover, **kwargs))\n",
        "    if log_y:\n",
        "        fig.update_layout(yaxis_type=\"log\")\n",
        "    fig.show()\n",
        "\n",
        "def bar(tensor, renderer=None, xaxis=\"\", yaxis=\"\", **kwargs):\n",
        "    px.bar(\n",
        "        y=utils.to_numpy(tensor),\n",
        "        labels={\"x\": xaxis, \"y\": yaxis},\n",
        "        template=\"simple_white\",\n",
        "        **kwargs).show(renderer)"
      ]
    },
    {
      "cell_type": "code",
      "source": [
        "import transformer_lens.patching as patching\n",
        "from transformer_lens import evals\n",
        "import math"
      ],
      "metadata": {
        "id": "MzEwzeib1tjE"
      },
      "execution_count": 6,
      "outputs": []
    },
    {
      "cell_type": "code",
      "source": [
        "def visualize_attn_patterns(heads, local_tokens, local_cache, title: str = \"\"):\n",
        "    labels = []\n",
        "    patterns = []\n",
        "    batch_index = 0\n",
        "\n",
        "    for head in heads:\n",
        "        if isinstance(head, tuple):\n",
        "            layer, head_index = head\n",
        "        else:\n",
        "            layer, head_index = head // model.cfg.n_heads, head % model.cfg.n_heads\n",
        "        patterns.append(local_cache[\"pattern\", layer][batch_index, head_index])\n",
        "        labels.append(f\"L{layer}H{head_index}\")\n",
        "    patterns = torch.stack(patterns, dim=-1)\n",
        "    attn_viz = pysvelte.AttentionMulti(tokens=model.to_str_tokens(local_tokens[batch_index]), attention=patterns, head_labels=labels)\n",
        "    display(HTML(f\"<h3>{title}</h3>\"))\n",
        "    attn_viz.show()"
      ],
      "metadata": {
        "id": "AgWNZo0c7sp3"
      },
      "execution_count": 7,
      "outputs": []
    },
    {
      "cell_type": "markdown",
      "source": [
        "# Load Model"
      ],
      "metadata": {
        "id": "HdPsT2ZOxeua"
      }
    },
    {
      "cell_type": "code",
      "execution_count": 8,
      "metadata": {
        "id": "llysLeEq1kAy",
        "outputId": "73033cd8-7fb1-439a-873d-92832a098548",
        "colab": {
          "base_uri": "https://localhost:8080/"
        }
      },
      "outputs": [
        {
          "output_type": "execute_result",
          "data": {
            "text/plain": [
              "<torch.autograd.grad_mode.set_grad_enabled at 0x7a0b0628bfd0>"
            ]
          },
          "metadata": {},
          "execution_count": 8
        }
      ],
      "source": [
        "torch.set_grad_enabled(True)"
      ]
    },
    {
      "cell_type": "code",
      "source": [
        "device = 'cuda' if torch.cuda.is_available() else 'cpu'\n",
        "print(device)"
      ],
      "metadata": {
        "id": "S0QibP7y7xCm",
        "colab": {
          "base_uri": "https://localhost:8080/"
        },
        "outputId": "3c938e61-5f23-41ad-c209-e887ab6551b5"
      },
      "execution_count": 9,
      "outputs": [
        {
          "output_type": "stream",
          "name": "stdout",
          "text": [
            "cuda\n"
          ]
        }
      ]
    },
    {
      "cell_type": "code",
      "source": [
        "LIST_LEN = 3\n",
        "MAX_INT = 50\n",
        "cfg = HookedTransformerConfig(\n",
        "    n_layers=2,\n",
        "    n_heads=1,\n",
        "    d_model=128,\n",
        "    d_head=128,\n",
        "    n_ctx=3*LIST_LEN+3, # BOS d1 d2 d3 MID p1 p2 p3 END a1 a2 a3\n",
        "    d_vocab= MAX_INT+3, # 0, ..., MAX_INT-1, BOS, MID, END\n",
        "    d_vocab_out=MAX_INT,\n",
        "    attn_only=True,\n",
        "    normalization_type=None,\n",
        "    device=device,\n",
        "    seed=0,\n",
        ")\n",
        "model = HookedTransformer(cfg)\n",
        "print(model)"
      ],
      "metadata": {
        "colab": {
          "base_uri": "https://localhost:8080/"
        },
        "id": "3_Qm7Gym7aJw",
        "outputId": "146b0e2e-6197-4534-85c5-9268e1a04df1"
      },
      "execution_count": 10,
      "outputs": [
        {
          "output_type": "stream",
          "name": "stdout",
          "text": [
            "HookedTransformer(\n",
            "  (embed): Embed()\n",
            "  (hook_embed): HookPoint()\n",
            "  (pos_embed): PosEmbed()\n",
            "  (hook_pos_embed): HookPoint()\n",
            "  (blocks): ModuleList(\n",
            "    (0-1): 2 x TransformerBlock(\n",
            "      (ln1): Identity()\n",
            "      (attn): Attention(\n",
            "        (hook_k): HookPoint()\n",
            "        (hook_q): HookPoint()\n",
            "        (hook_v): HookPoint()\n",
            "        (hook_z): HookPoint()\n",
            "        (hook_attn_scores): HookPoint()\n",
            "        (hook_pattern): HookPoint()\n",
            "        (hook_result): HookPoint()\n",
            "      )\n",
            "      (hook_q_input): HookPoint()\n",
            "      (hook_k_input): HookPoint()\n",
            "      (hook_v_input): HookPoint()\n",
            "      (hook_attn_out): HookPoint()\n",
            "      (hook_mlp_in): HookPoint()\n",
            "      (hook_mlp_out): HookPoint()\n",
            "      (hook_resid_pre): HookPoint()\n",
            "      (hook_resid_post): HookPoint()\n",
            "    )\n",
            "  )\n",
            "  (unembed): Unembed()\n",
            ")\n"
          ]
        }
      ]
    },
    {
      "cell_type": "code",
      "source": [
        "# disable biases\n",
        "for name, param in model.named_parameters():\n",
        "    if 'b_' in name:\n",
        "        param.requires_grad = False\n",
        "    print(name, param.shape, param.requires_grad)"
      ],
      "metadata": {
        "colab": {
          "base_uri": "https://localhost:8080/"
        },
        "id": "yuoOS6ZX8YcS",
        "outputId": "0354b313-dc2e-45d8-e939-ac98207068a3"
      },
      "execution_count": 11,
      "outputs": [
        {
          "output_type": "stream",
          "name": "stdout",
          "text": [
            "embed.W_E torch.Size([53, 128]) True\n",
            "pos_embed.W_pos torch.Size([12, 128]) True\n",
            "blocks.0.attn.W_Q torch.Size([1, 128, 128]) True\n",
            "blocks.0.attn.W_K torch.Size([1, 128, 128]) True\n",
            "blocks.0.attn.W_V torch.Size([1, 128, 128]) True\n",
            "blocks.0.attn.W_O torch.Size([1, 128, 128]) True\n",
            "blocks.0.attn.b_Q torch.Size([1, 128]) False\n",
            "blocks.0.attn.b_K torch.Size([1, 128]) False\n",
            "blocks.0.attn.b_V torch.Size([1, 128]) False\n",
            "blocks.0.attn.b_O torch.Size([128]) False\n",
            "blocks.1.attn.W_Q torch.Size([1, 128, 128]) True\n",
            "blocks.1.attn.W_K torch.Size([1, 128, 128]) True\n",
            "blocks.1.attn.W_V torch.Size([1, 128, 128]) True\n",
            "blocks.1.attn.W_O torch.Size([1, 128, 128]) True\n",
            "blocks.1.attn.b_Q torch.Size([1, 128]) False\n",
            "blocks.1.attn.b_K torch.Size([1, 128]) False\n",
            "blocks.1.attn.b_V torch.Size([1, 128]) False\n",
            "blocks.1.attn.b_O torch.Size([128]) False\n",
            "unembed.W_U torch.Size([128, 50]) True\n",
            "unembed.b_U torch.Size([50]) False\n"
          ]
        }
      ]
    },
    {
      "cell_type": "markdown",
      "source": [
        "# Training"
      ],
      "metadata": {
        "id": "Dja7qPK-OewC"
      }
    },
    {
      "cell_type": "markdown",
      "source": [
        "## Task Dataset"
      ],
      "metadata": {
        "id": "ZxKuTab38hXy"
      }
    },
    {
      "cell_type": "code",
      "source": [
        "def make_data_generator(cfg, batch_size, seed=0):\n",
        "    torch.manual_seed(seed)\n",
        "    BOS_TOKEN = cfg.d_vocab-1\n",
        "    MID_TOKEN = cfg.d_vocab-2\n",
        "    END_TOKEN = cfg.d_vocab-3\n",
        "    while True:\n",
        "        seq = torch.randint(0, MAX_INT, (batch_size, LIST_LEN))\n",
        "        perm = torch.randperm(LIST_LEN)\n",
        "        ans = seq[:, perm]\n",
        "\n",
        "        bos_tensor = einops.repeat(torch.tensor(BOS_TOKEN), \" -> i 1\", i=batch_size)\n",
        "        mid_tensor = einops.repeat(torch.tensor(MID_TOKEN), \" -> i 1\", i=batch_size)\n",
        "        end_tensor = einops.repeat(torch.tensor(END_TOKEN), \" -> i 1\", i=batch_size)\n",
        "\n",
        "        x = torch.cat([bos_tensor, seq, mid_tensor, einops.repeat(perm, \"seq -> batch seq\", batch=batch_size), end_tensor, ans], dim=-1)\n",
        "        yield x\n",
        "\n",
        "print(next(make_data_generator(cfg, 2)))\n"
      ],
      "metadata": {
        "colab": {
          "base_uri": "https://localhost:8080/"
        },
        "id": "34TX6ICq8fON",
        "outputId": "8c6e2ee9-b863-4743-a2ea-8db57f32c50c"
      },
      "execution_count": 12,
      "outputs": [
        {
          "output_type": "stream",
          "name": "stdout",
          "text": [
            "tensor([[52, 44, 39, 33, 51,  1,  2,  0, 50, 39, 33, 44],\n",
            "        [52, 10, 13, 29, 51,  1,  2,  0, 50, 13, 29, 10]])\n"
          ]
        }
      ]
    },
    {
      "cell_type": "markdown",
      "source": [
        "## Loss fn"
      ],
      "metadata": {
        "id": "g-PaPEF2_YRj"
      }
    },
    {
      "cell_type": "code",
      "source": [
        "def loss_fn(logits, tokens):\n",
        "    logits=logits[:, -LIST_LEN-1:-1, :]\n",
        "    logits = logits.to(torch.float64)\n",
        "    labels = tokens[:, -LIST_LEN:]\n",
        "\n",
        "    log_probs = logits.log_softmax(dim=-1)\n",
        "    correct_log_probs = log_probs.gather(dim=-1, index=labels[..., None])[..., 0]\n",
        "    return -correct_log_probs.mean()\n",
        "\n",
        "with torch.no_grad():\n",
        "    tokens = next(make_data_generator(cfg, 2)).to(device)\n",
        "    logits = model(tokens)\n",
        "    loss = loss_fn(logits, tokens)\n",
        "    print(loss)"
      ],
      "metadata": {
        "colab": {
          "base_uri": "https://localhost:8080/"
        },
        "id": "dmQbkuI1_aOm",
        "outputId": "5b2c208d-ada4-4136-e8ae-a1df420e440d"
      },
      "execution_count": 13,
      "outputs": [
        {
          "output_type": "stream",
          "name": "stdout",
          "text": [
            "tensor(3.9504, device='cuda:0', dtype=torch.float64)\n"
          ]
        }
      ]
    },
    {
      "cell_type": "code",
      "source": [
        "print('uniform loss:', np.log(cfg.d_vocab_out))"
      ],
      "metadata": {
        "colab": {
          "base_uri": "https://localhost:8080/"
        },
        "id": "DbyqFP9IBIsN",
        "outputId": "dfafc2bb-7bf0-4b84-bc52-126fd7d5ed57"
      },
      "execution_count": 14,
      "outputs": [
        {
          "output_type": "stream",
          "name": "stdout",
          "text": [
            "uniform loss: 3.912023005428146\n"
          ]
        }
      ]
    },
    {
      "cell_type": "markdown",
      "source": [
        "## Setup Optimizer / Dataloader"
      ],
      "metadata": {
        "id": "0ZFqO1yyBQbe"
      }
    },
    {
      "cell_type": "code",
      "source": [
        "lr = 1e-3\n",
        "wd = 0.01\n",
        "betas = (0.9, 0.98)\n",
        "\n",
        "optimizer = torch.optim.AdamW(model.parameters(), lr=lr, weight_decay=wd, betas=betas)\n",
        "\n",
        "batch_size = 256\n",
        "train_data_loader = make_data_generator(cfg, batch_size)"
      ],
      "metadata": {
        "id": "h2QH3Ab8BVL7"
      },
      "execution_count": 15,
      "outputs": []
    },
    {
      "cell_type": "markdown",
      "source": [
        "## Training loop"
      ],
      "metadata": {
        "id": "VdfLYAqUBju3"
      }
    },
    {
      "cell_type": "code",
      "source": [
        "num_epochs = 4000\n",
        "\n",
        "train_losses = []\n",
        "for epoch in tqdm.tqdm(range(num_epochs)):\n",
        "    tokens = next(train_data_loader).to(device)\n",
        "    logits = model(tokens)\n",
        "    loss = loss_fn(logits, tokens)\n",
        "    loss.backward()\n",
        "    train_losses.append(loss.item())\n",
        "\n",
        "    optimizer.step()\n",
        "    optimizer.zero_grad()\n",
        "\n",
        "    if epoch % 100 == 0:\n",
        "        print(f\"Epoch: {epoch}, train_loss: {loss.item()}\")"
      ],
      "metadata": {
        "colab": {
          "base_uri": "https://localhost:8080/",
          "height": 763,
          "referenced_widgets": [
            "5ab959b060e9491d80335f686b1542e3",
            "5f57d497a87f4c889da1bb6111a90b43",
            "634c21b5b4b7480dbf71f4e108c725de",
            "c4359dfb257b4e5f981a0ebcbc913517",
            "777728a4073b4f3a8ad01e2d174e5487",
            "e6e3c51794194a9d86fae4f3ea579b31",
            "35e311c5dc2a4251961400231fb15583",
            "5f92601ddd1e4a06a70294c16ec5b78a",
            "b1974ebade7445f58525cd9faf85a641",
            "8798d2226b4d47a0915ede98e625e159",
            "ffc2e9e6722a45aca1d482614a566f68"
          ]
        },
        "id": "Hks5BzMNBc3b",
        "outputId": "7e53b6e7-c926-4511-9f90-9f2e8c019c81"
      },
      "execution_count": 16,
      "outputs": [
        {
          "output_type": "display_data",
          "data": {
            "text/plain": [
              "  0%|          | 0/4000 [00:00<?, ?it/s]"
            ],
            "application/vnd.jupyter.widget-view+json": {
              "version_major": 2,
              "version_minor": 0,
              "model_id": "5ab959b060e9491d80335f686b1542e3"
            }
          },
          "metadata": {}
        },
        {
          "output_type": "stream",
          "name": "stdout",
          "text": [
            "Epoch: 0, train_loss: 3.9134952571706085\n",
            "Epoch: 100, train_loss: 1.6822969221402797\n",
            "Epoch: 200, train_loss: 1.4785068812896835\n",
            "Epoch: 300, train_loss: 1.0795397263291033\n",
            "Epoch: 400, train_loss: 0.7309813751495354\n",
            "Epoch: 500, train_loss: 0.7055179790887276\n",
            "Epoch: 600, train_loss: 0.23109689003146974\n",
            "Epoch: 700, train_loss: 0.07998041691299426\n",
            "Epoch: 800, train_loss: 0.03755524799578232\n",
            "Epoch: 900, train_loss: 0.01263726209428748\n",
            "Epoch: 1000, train_loss: 0.004681462867619774\n",
            "Epoch: 1100, train_loss: 0.012007361321558628\n",
            "Epoch: 1200, train_loss: 0.011887284356212124\n",
            "Epoch: 1300, train_loss: 0.0018767118027489004\n",
            "Epoch: 1400, train_loss: 0.0015075586712569589\n",
            "Epoch: 1500, train_loss: 0.006591717328680522\n",
            "Epoch: 1600, train_loss: 0.002214333290520977\n",
            "Epoch: 1700, train_loss: 0.0007977900374918777\n",
            "Epoch: 1800, train_loss: 0.002376661674472637\n",
            "Epoch: 1900, train_loss: 0.0005226649263945612\n",
            "Epoch: 2000, train_loss: 8.124520167040763e-05\n",
            "Epoch: 2100, train_loss: 0.0008260170140734301\n",
            "Epoch: 2200, train_loss: 3.9743325186623847e-05\n",
            "Epoch: 2300, train_loss: 7.1551914445636915e-06\n",
            "Epoch: 2400, train_loss: 8.437157200386221e-05\n",
            "Epoch: 2500, train_loss: 0.00047861992330209115\n",
            "Epoch: 2600, train_loss: 5.893408725743186e-05\n",
            "Epoch: 2700, train_loss: 1.4044499548713553e-06\n",
            "Epoch: 2800, train_loss: 1.864399689094324e-07\n",
            "Epoch: 2900, train_loss: 0.0011478292509922304\n",
            "Epoch: 3000, train_loss: 0.0004399973258543773\n",
            "Epoch: 3100, train_loss: 9.06540705976055e-05\n",
            "Epoch: 3200, train_loss: 1.0940109338449505e-05\n",
            "Epoch: 3300, train_loss: 1.726420922820545e-06\n",
            "Epoch: 3400, train_loss: 1.486720377400843e-07\n",
            "Epoch: 3500, train_loss: 7.347190412540202e-07\n",
            "Epoch: 3600, train_loss: 2.1136315519463482e-07\n",
            "Epoch: 3700, train_loss: 3.8566404933935676e-05\n",
            "Epoch: 3800, train_loss: 5.299722771110527e-07\n",
            "Epoch: 3900, train_loss: 4.024323578142868e-07\n"
          ]
        }
      ]
    },
    {
      "cell_type": "code",
      "source": [
        "line(train_losses,\n",
        "     title=\"Loss curve\",\n",
        "     xaxis=\"Epoch\", yaxis=\"Loss\")"
      ],
      "metadata": {
        "colab": {
          "base_uri": "https://localhost:8080/",
          "height": 542
        },
        "id": "XgOKn2gtBwxm",
        "outputId": "99be7128-b586-4d73-e374-837b28921698"
      },
      "execution_count": 17,
      "outputs": [
        {
          "output_type": "display_data",
          "data": {
            "text/html": [
              "<html>\n",
              "<head><meta charset=\"utf-8\" /></head>\n",
              "<body>\n",
              "    <div>            <script src=\"https://cdnjs.cloudflare.com/ajax/libs/mathjax/2.7.5/MathJax.js?config=TeX-AMS-MML_SVG\"></script><script type=\"text/javascript\">if (window.MathJax && window.MathJax.Hub && window.MathJax.Hub.Config) {window.MathJax.Hub.Config({SVG: {font: \"STIX-Web\"}});}</script>                <script type=\"text/javascript\">window.PlotlyConfig = {MathJaxConfig: 'local'};</script>\n",
              "        <script src=\"https://cdn.plot.ly/plotly-2.18.2.min.js\"></script>                <div id=\"6868ca02-607a-48ce-b349-8d88c28e6623\" class=\"plotly-graph-div\" style=\"height:525px; width:100%;\"></div>            <script type=\"text/javascript\">                                    window.PLOTLYENV=window.PLOTLYENV || {};                                    if (document.getElementById(\"6868ca02-607a-48ce-b349-8d88c28e6623\")) {                    Plotly.newPlot(                        \"6868ca02-607a-48ce-b349-8d88c28e6623\",                        [{\"hovertemplate\":\"Epoch=%{x}<br>Loss=%{y}<extra></extra>\",\"legendgroup\":\"\",\"line\":{\"color\":\"#636efa\",\"dash\":\"solid\"},\"marker\":{\"symbol\":\"circle\"},\"mode\":\"lines\",\"name\":\"\",\"showlegend\":false,\"x\":[0,1,2,3,4,5,6,7,8,9,10,11,12,13,14,15,16,17,18,19,20,21,22,23,24,25,26,27,28,29,30,31,32,33,34,35,36,37,38,39,40,41,42,43,44,45,46,47,48,49,50,51,52,53,54,55,56,57,58,59,60,61,62,63,64,65,66,67,68,69,70,71,72,73,74,75,76,77,78,79,80,81,82,83,84,85,86,87,88,89,90,91,92,93,94,95,96,97,98,99,100,101,102,103,104,105,106,107,108,109,110,111,112,113,114,115,116,117,118,119,120,121,122,123,124,125,126,127,128,129,130,131,132,133,134,135,136,137,138,139,140,141,142,143,144,145,146,147,148,149,150,151,152,153,154,155,156,157,158,159,160,161,162,163,164,165,166,167,168,169,170,171,172,173,174,175,176,177,178,179,180,181,182,183,184,185,186,187,188,189,190,191,192,193,194,195,196,197,198,199,200,201,202,203,204,205,206,207,208,209,210,211,212,213,214,215,216,217,218,219,220,221,222,223,224,225,226,227,228,229,230,231,232,233,234,235,236,237,238,239,240,241,242,243,244,245,246,247,248,249,250,251,252,253,254,255,256,257,258,259,260,261,262,263,264,265,266,267,268,269,270,271,272,273,274,275,276,277,278,279,280,281,282,283,284,285,286,287,288,289,290,291,292,293,294,295,296,297,298,299,300,301,302,303,304,305,306,307,308,309,310,311,312,313,314,315,316,317,318,319,320,321,322,323,324,325,326,327,328,329,330,331,332,333,334,335,336,337,338,339,340,341,342,343,344,345,346,347,348,349,350,351,352,353,354,355,356,357,358,359,360,361,362,363,364,365,366,367,368,369,370,371,372,373,374,375,376,377,378,379,380,381,382,383,384,385,386,387,388,389,390,391,392,393,394,395,396,397,398,399,400,401,402,403,404,405,406,407,408,409,410,411,412,413,414,415,416,417,418,419,420,421,422,423,424,425,426,427,428,429,430,431,432,433,434,435,436,437,438,439,440,441,442,443,444,445,446,447,448,449,450,451,452,453,454,455,456,457,458,459,460,461,462,463,464,465,466,467,468,469,470,471,472,473,474,475,476,477,478,479,480,481,482,483,484,485,486,487,488,489,490,491,492,493,494,495,496,497,498,499,500,501,502,503,504,505,506,507,508,509,510,511,512,513,514,515,516,517,518,519,520,521,522,523,524,525,526,527,528,529,530,531,532,533,534,535,536,537,538,539,540,541,542,543,544,545,546,547,548,549,550,551,552,553,554,555,556,557,558,559,560,561,562,563,564,565,566,567,568,569,570,571,572,573,574,575,576,577,578,579,580,581,582,583,584,585,586,587,588,589,590,591,592,593,594,595,596,597,598,599,600,601,602,603,604,605,606,607,608,609,610,611,612,613,614,615,616,617,618,619,620,621,622,623,624,625,626,627,628,629,630,631,632,633,634,635,636,637,638,639,640,641,642,643,644,645,646,647,648,649,650,651,652,653,654,655,656,657,658,659,660,661,662,663,664,665,666,667,668,669,670,671,672,673,674,675,676,677,678,679,680,681,682,683,684,685,686,687,688,689,690,691,692,693,694,695,696,697,698,699,700,701,702,703,704,705,706,707,708,709,710,711,712,713,714,715,716,717,718,719,720,721,722,723,724,725,726,727,728,729,730,731,732,733,734,735,736,737,738,739,740,741,742,743,744,745,746,747,748,749,750,751,752,753,754,755,756,757,758,759,760,761,762,763,764,765,766,767,768,769,770,771,772,773,774,775,776,777,778,779,780,781,782,783,784,785,786,787,788,789,790,791,792,793,794,795,796,797,798,799,800,801,802,803,804,805,806,807,808,809,810,811,812,813,814,815,816,817,818,819,820,821,822,823,824,825,826,827,828,829,830,831,832,833,834,835,836,837,838,839,840,841,842,843,844,845,846,847,848,849,850,851,852,853,854,855,856,857,858,859,860,861,862,863,864,865,866,867,868,869,870,871,872,873,874,875,876,877,878,879,880,881,882,883,884,885,886,887,888,889,890,891,892,893,894,895,896,897,898,899,900,901,902,903,904,905,906,907,908,909,910,911,912,913,914,915,916,917,918,919,920,921,922,923,924,925,926,927,928,929,930,931,932,933,934,935,936,937,938,939,940,941,942,943,944,945,946,947,948,949,950,951,952,953,954,955,956,957,958,959,960,961,962,963,964,965,966,967,968,969,970,971,972,973,974,975,976,977,978,979,980,981,982,983,984,985,986,987,988,989,990,991,992,993,994,995,996,997,998,999,1000,1001,1002,1003,1004,1005,1006,1007,1008,1009,1010,1011,1012,1013,1014,1015,1016,1017,1018,1019,1020,1021,1022,1023,1024,1025,1026,1027,1028,1029,1030,1031,1032,1033,1034,1035,1036,1037,1038,1039,1040,1041,1042,1043,1044,1045,1046,1047,1048,1049,1050,1051,1052,1053,1054,1055,1056,1057,1058,1059,1060,1061,1062,1063,1064,1065,1066,1067,1068,1069,1070,1071,1072,1073,1074,1075,1076,1077,1078,1079,1080,1081,1082,1083,1084,1085,1086,1087,1088,1089,1090,1091,1092,1093,1094,1095,1096,1097,1098,1099,1100,1101,1102,1103,1104,1105,1106,1107,1108,1109,1110,1111,1112,1113,1114,1115,1116,1117,1118,1119,1120,1121,1122,1123,1124,1125,1126,1127,1128,1129,1130,1131,1132,1133,1134,1135,1136,1137,1138,1139,1140,1141,1142,1143,1144,1145,1146,1147,1148,1149,1150,1151,1152,1153,1154,1155,1156,1157,1158,1159,1160,1161,1162,1163,1164,1165,1166,1167,1168,1169,1170,1171,1172,1173,1174,1175,1176,1177,1178,1179,1180,1181,1182,1183,1184,1185,1186,1187,1188,1189,1190,1191,1192,1193,1194,1195,1196,1197,1198,1199,1200,1201,1202,1203,1204,1205,1206,1207,1208,1209,1210,1211,1212,1213,1214,1215,1216,1217,1218,1219,1220,1221,1222,1223,1224,1225,1226,1227,1228,1229,1230,1231,1232,1233,1234,1235,1236,1237,1238,1239,1240,1241,1242,1243,1244,1245,1246,1247,1248,1249,1250,1251,1252,1253,1254,1255,1256,1257,1258,1259,1260,1261,1262,1263,1264,1265,1266,1267,1268,1269,1270,1271,1272,1273,1274,1275,1276,1277,1278,1279,1280,1281,1282,1283,1284,1285,1286,1287,1288,1289,1290,1291,1292,1293,1294,1295,1296,1297,1298,1299,1300,1301,1302,1303,1304,1305,1306,1307,1308,1309,1310,1311,1312,1313,1314,1315,1316,1317,1318,1319,1320,1321,1322,1323,1324,1325,1326,1327,1328,1329,1330,1331,1332,1333,1334,1335,1336,1337,1338,1339,1340,1341,1342,1343,1344,1345,1346,1347,1348,1349,1350,1351,1352,1353,1354,1355,1356,1357,1358,1359,1360,1361,1362,1363,1364,1365,1366,1367,1368,1369,1370,1371,1372,1373,1374,1375,1376,1377,1378,1379,1380,1381,1382,1383,1384,1385,1386,1387,1388,1389,1390,1391,1392,1393,1394,1395,1396,1397,1398,1399,1400,1401,1402,1403,1404,1405,1406,1407,1408,1409,1410,1411,1412,1413,1414,1415,1416,1417,1418,1419,1420,1421,1422,1423,1424,1425,1426,1427,1428,1429,1430,1431,1432,1433,1434,1435,1436,1437,1438,1439,1440,1441,1442,1443,1444,1445,1446,1447,1448,1449,1450,1451,1452,1453,1454,1455,1456,1457,1458,1459,1460,1461,1462,1463,1464,1465,1466,1467,1468,1469,1470,1471,1472,1473,1474,1475,1476,1477,1478,1479,1480,1481,1482,1483,1484,1485,1486,1487,1488,1489,1490,1491,1492,1493,1494,1495,1496,1497,1498,1499,1500,1501,1502,1503,1504,1505,1506,1507,1508,1509,1510,1511,1512,1513,1514,1515,1516,1517,1518,1519,1520,1521,1522,1523,1524,1525,1526,1527,1528,1529,1530,1531,1532,1533,1534,1535,1536,1537,1538,1539,1540,1541,1542,1543,1544,1545,1546,1547,1548,1549,1550,1551,1552,1553,1554,1555,1556,1557,1558,1559,1560,1561,1562,1563,1564,1565,1566,1567,1568,1569,1570,1571,1572,1573,1574,1575,1576,1577,1578,1579,1580,1581,1582,1583,1584,1585,1586,1587,1588,1589,1590,1591,1592,1593,1594,1595,1596,1597,1598,1599,1600,1601,1602,1603,1604,1605,1606,1607,1608,1609,1610,1611,1612,1613,1614,1615,1616,1617,1618,1619,1620,1621,1622,1623,1624,1625,1626,1627,1628,1629,1630,1631,1632,1633,1634,1635,1636,1637,1638,1639,1640,1641,1642,1643,1644,1645,1646,1647,1648,1649,1650,1651,1652,1653,1654,1655,1656,1657,1658,1659,1660,1661,1662,1663,1664,1665,1666,1667,1668,1669,1670,1671,1672,1673,1674,1675,1676,1677,1678,1679,1680,1681,1682,1683,1684,1685,1686,1687,1688,1689,1690,1691,1692,1693,1694,1695,1696,1697,1698,1699,1700,1701,1702,1703,1704,1705,1706,1707,1708,1709,1710,1711,1712,1713,1714,1715,1716,1717,1718,1719,1720,1721,1722,1723,1724,1725,1726,1727,1728,1729,1730,1731,1732,1733,1734,1735,1736,1737,1738,1739,1740,1741,1742,1743,1744,1745,1746,1747,1748,1749,1750,1751,1752,1753,1754,1755,1756,1757,1758,1759,1760,1761,1762,1763,1764,1765,1766,1767,1768,1769,1770,1771,1772,1773,1774,1775,1776,1777,1778,1779,1780,1781,1782,1783,1784,1785,1786,1787,1788,1789,1790,1791,1792,1793,1794,1795,1796,1797,1798,1799,1800,1801,1802,1803,1804,1805,1806,1807,1808,1809,1810,1811,1812,1813,1814,1815,1816,1817,1818,1819,1820,1821,1822,1823,1824,1825,1826,1827,1828,1829,1830,1831,1832,1833,1834,1835,1836,1837,1838,1839,1840,1841,1842,1843,1844,1845,1846,1847,1848,1849,1850,1851,1852,1853,1854,1855,1856,1857,1858,1859,1860,1861,1862,1863,1864,1865,1866,1867,1868,1869,1870,1871,1872,1873,1874,1875,1876,1877,1878,1879,1880,1881,1882,1883,1884,1885,1886,1887,1888,1889,1890,1891,1892,1893,1894,1895,1896,1897,1898,1899,1900,1901,1902,1903,1904,1905,1906,1907,1908,1909,1910,1911,1912,1913,1914,1915,1916,1917,1918,1919,1920,1921,1922,1923,1924,1925,1926,1927,1928,1929,1930,1931,1932,1933,1934,1935,1936,1937,1938,1939,1940,1941,1942,1943,1944,1945,1946,1947,1948,1949,1950,1951,1952,1953,1954,1955,1956,1957,1958,1959,1960,1961,1962,1963,1964,1965,1966,1967,1968,1969,1970,1971,1972,1973,1974,1975,1976,1977,1978,1979,1980,1981,1982,1983,1984,1985,1986,1987,1988,1989,1990,1991,1992,1993,1994,1995,1996,1997,1998,1999,2000,2001,2002,2003,2004,2005,2006,2007,2008,2009,2010,2011,2012,2013,2014,2015,2016,2017,2018,2019,2020,2021,2022,2023,2024,2025,2026,2027,2028,2029,2030,2031,2032,2033,2034,2035,2036,2037,2038,2039,2040,2041,2042,2043,2044,2045,2046,2047,2048,2049,2050,2051,2052,2053,2054,2055,2056,2057,2058,2059,2060,2061,2062,2063,2064,2065,2066,2067,2068,2069,2070,2071,2072,2073,2074,2075,2076,2077,2078,2079,2080,2081,2082,2083,2084,2085,2086,2087,2088,2089,2090,2091,2092,2093,2094,2095,2096,2097,2098,2099,2100,2101,2102,2103,2104,2105,2106,2107,2108,2109,2110,2111,2112,2113,2114,2115,2116,2117,2118,2119,2120,2121,2122,2123,2124,2125,2126,2127,2128,2129,2130,2131,2132,2133,2134,2135,2136,2137,2138,2139,2140,2141,2142,2143,2144,2145,2146,2147,2148,2149,2150,2151,2152,2153,2154,2155,2156,2157,2158,2159,2160,2161,2162,2163,2164,2165,2166,2167,2168,2169,2170,2171,2172,2173,2174,2175,2176,2177,2178,2179,2180,2181,2182,2183,2184,2185,2186,2187,2188,2189,2190,2191,2192,2193,2194,2195,2196,2197,2198,2199,2200,2201,2202,2203,2204,2205,2206,2207,2208,2209,2210,2211,2212,2213,2214,2215,2216,2217,2218,2219,2220,2221,2222,2223,2224,2225,2226,2227,2228,2229,2230,2231,2232,2233,2234,2235,2236,2237,2238,2239,2240,2241,2242,2243,2244,2245,2246,2247,2248,2249,2250,2251,2252,2253,2254,2255,2256,2257,2258,2259,2260,2261,2262,2263,2264,2265,2266,2267,2268,2269,2270,2271,2272,2273,2274,2275,2276,2277,2278,2279,2280,2281,2282,2283,2284,2285,2286,2287,2288,2289,2290,2291,2292,2293,2294,2295,2296,2297,2298,2299,2300,2301,2302,2303,2304,2305,2306,2307,2308,2309,2310,2311,2312,2313,2314,2315,2316,2317,2318,2319,2320,2321,2322,2323,2324,2325,2326,2327,2328,2329,2330,2331,2332,2333,2334,2335,2336,2337,2338,2339,2340,2341,2342,2343,2344,2345,2346,2347,2348,2349,2350,2351,2352,2353,2354,2355,2356,2357,2358,2359,2360,2361,2362,2363,2364,2365,2366,2367,2368,2369,2370,2371,2372,2373,2374,2375,2376,2377,2378,2379,2380,2381,2382,2383,2384,2385,2386,2387,2388,2389,2390,2391,2392,2393,2394,2395,2396,2397,2398,2399,2400,2401,2402,2403,2404,2405,2406,2407,2408,2409,2410,2411,2412,2413,2414,2415,2416,2417,2418,2419,2420,2421,2422,2423,2424,2425,2426,2427,2428,2429,2430,2431,2432,2433,2434,2435,2436,2437,2438,2439,2440,2441,2442,2443,2444,2445,2446,2447,2448,2449,2450,2451,2452,2453,2454,2455,2456,2457,2458,2459,2460,2461,2462,2463,2464,2465,2466,2467,2468,2469,2470,2471,2472,2473,2474,2475,2476,2477,2478,2479,2480,2481,2482,2483,2484,2485,2486,2487,2488,2489,2490,2491,2492,2493,2494,2495,2496,2497,2498,2499,2500,2501,2502,2503,2504,2505,2506,2507,2508,2509,2510,2511,2512,2513,2514,2515,2516,2517,2518,2519,2520,2521,2522,2523,2524,2525,2526,2527,2528,2529,2530,2531,2532,2533,2534,2535,2536,2537,2538,2539,2540,2541,2542,2543,2544,2545,2546,2547,2548,2549,2550,2551,2552,2553,2554,2555,2556,2557,2558,2559,2560,2561,2562,2563,2564,2565,2566,2567,2568,2569,2570,2571,2572,2573,2574,2575,2576,2577,2578,2579,2580,2581,2582,2583,2584,2585,2586,2587,2588,2589,2590,2591,2592,2593,2594,2595,2596,2597,2598,2599,2600,2601,2602,2603,2604,2605,2606,2607,2608,2609,2610,2611,2612,2613,2614,2615,2616,2617,2618,2619,2620,2621,2622,2623,2624,2625,2626,2627,2628,2629,2630,2631,2632,2633,2634,2635,2636,2637,2638,2639,2640,2641,2642,2643,2644,2645,2646,2647,2648,2649,2650,2651,2652,2653,2654,2655,2656,2657,2658,2659,2660,2661,2662,2663,2664,2665,2666,2667,2668,2669,2670,2671,2672,2673,2674,2675,2676,2677,2678,2679,2680,2681,2682,2683,2684,2685,2686,2687,2688,2689,2690,2691,2692,2693,2694,2695,2696,2697,2698,2699,2700,2701,2702,2703,2704,2705,2706,2707,2708,2709,2710,2711,2712,2713,2714,2715,2716,2717,2718,2719,2720,2721,2722,2723,2724,2725,2726,2727,2728,2729,2730,2731,2732,2733,2734,2735,2736,2737,2738,2739,2740,2741,2742,2743,2744,2745,2746,2747,2748,2749,2750,2751,2752,2753,2754,2755,2756,2757,2758,2759,2760,2761,2762,2763,2764,2765,2766,2767,2768,2769,2770,2771,2772,2773,2774,2775,2776,2777,2778,2779,2780,2781,2782,2783,2784,2785,2786,2787,2788,2789,2790,2791,2792,2793,2794,2795,2796,2797,2798,2799,2800,2801,2802,2803,2804,2805,2806,2807,2808,2809,2810,2811,2812,2813,2814,2815,2816,2817,2818,2819,2820,2821,2822,2823,2824,2825,2826,2827,2828,2829,2830,2831,2832,2833,2834,2835,2836,2837,2838,2839,2840,2841,2842,2843,2844,2845,2846,2847,2848,2849,2850,2851,2852,2853,2854,2855,2856,2857,2858,2859,2860,2861,2862,2863,2864,2865,2866,2867,2868,2869,2870,2871,2872,2873,2874,2875,2876,2877,2878,2879,2880,2881,2882,2883,2884,2885,2886,2887,2888,2889,2890,2891,2892,2893,2894,2895,2896,2897,2898,2899,2900,2901,2902,2903,2904,2905,2906,2907,2908,2909,2910,2911,2912,2913,2914,2915,2916,2917,2918,2919,2920,2921,2922,2923,2924,2925,2926,2927,2928,2929,2930,2931,2932,2933,2934,2935,2936,2937,2938,2939,2940,2941,2942,2943,2944,2945,2946,2947,2948,2949,2950,2951,2952,2953,2954,2955,2956,2957,2958,2959,2960,2961,2962,2963,2964,2965,2966,2967,2968,2969,2970,2971,2972,2973,2974,2975,2976,2977,2978,2979,2980,2981,2982,2983,2984,2985,2986,2987,2988,2989,2990,2991,2992,2993,2994,2995,2996,2997,2998,2999,3000,3001,3002,3003,3004,3005,3006,3007,3008,3009,3010,3011,3012,3013,3014,3015,3016,3017,3018,3019,3020,3021,3022,3023,3024,3025,3026,3027,3028,3029,3030,3031,3032,3033,3034,3035,3036,3037,3038,3039,3040,3041,3042,3043,3044,3045,3046,3047,3048,3049,3050,3051,3052,3053,3054,3055,3056,3057,3058,3059,3060,3061,3062,3063,3064,3065,3066,3067,3068,3069,3070,3071,3072,3073,3074,3075,3076,3077,3078,3079,3080,3081,3082,3083,3084,3085,3086,3087,3088,3089,3090,3091,3092,3093,3094,3095,3096,3097,3098,3099,3100,3101,3102,3103,3104,3105,3106,3107,3108,3109,3110,3111,3112,3113,3114,3115,3116,3117,3118,3119,3120,3121,3122,3123,3124,3125,3126,3127,3128,3129,3130,3131,3132,3133,3134,3135,3136,3137,3138,3139,3140,3141,3142,3143,3144,3145,3146,3147,3148,3149,3150,3151,3152,3153,3154,3155,3156,3157,3158,3159,3160,3161,3162,3163,3164,3165,3166,3167,3168,3169,3170,3171,3172,3173,3174,3175,3176,3177,3178,3179,3180,3181,3182,3183,3184,3185,3186,3187,3188,3189,3190,3191,3192,3193,3194,3195,3196,3197,3198,3199,3200,3201,3202,3203,3204,3205,3206,3207,3208,3209,3210,3211,3212,3213,3214,3215,3216,3217,3218,3219,3220,3221,3222,3223,3224,3225,3226,3227,3228,3229,3230,3231,3232,3233,3234,3235,3236,3237,3238,3239,3240,3241,3242,3243,3244,3245,3246,3247,3248,3249,3250,3251,3252,3253,3254,3255,3256,3257,3258,3259,3260,3261,3262,3263,3264,3265,3266,3267,3268,3269,3270,3271,3272,3273,3274,3275,3276,3277,3278,3279,3280,3281,3282,3283,3284,3285,3286,3287,3288,3289,3290,3291,3292,3293,3294,3295,3296,3297,3298,3299,3300,3301,3302,3303,3304,3305,3306,3307,3308,3309,3310,3311,3312,3313,3314,3315,3316,3317,3318,3319,3320,3321,3322,3323,3324,3325,3326,3327,3328,3329,3330,3331,3332,3333,3334,3335,3336,3337,3338,3339,3340,3341,3342,3343,3344,3345,3346,3347,3348,3349,3350,3351,3352,3353,3354,3355,3356,3357,3358,3359,3360,3361,3362,3363,3364,3365,3366,3367,3368,3369,3370,3371,3372,3373,3374,3375,3376,3377,3378,3379,3380,3381,3382,3383,3384,3385,3386,3387,3388,3389,3390,3391,3392,3393,3394,3395,3396,3397,3398,3399,3400,3401,3402,3403,3404,3405,3406,3407,3408,3409,3410,3411,3412,3413,3414,3415,3416,3417,3418,3419,3420,3421,3422,3423,3424,3425,3426,3427,3428,3429,3430,3431,3432,3433,3434,3435,3436,3437,3438,3439,3440,3441,3442,3443,3444,3445,3446,3447,3448,3449,3450,3451,3452,3453,3454,3455,3456,3457,3458,3459,3460,3461,3462,3463,3464,3465,3466,3467,3468,3469,3470,3471,3472,3473,3474,3475,3476,3477,3478,3479,3480,3481,3482,3483,3484,3485,3486,3487,3488,3489,3490,3491,3492,3493,3494,3495,3496,3497,3498,3499,3500,3501,3502,3503,3504,3505,3506,3507,3508,3509,3510,3511,3512,3513,3514,3515,3516,3517,3518,3519,3520,3521,3522,3523,3524,3525,3526,3527,3528,3529,3530,3531,3532,3533,3534,3535,3536,3537,3538,3539,3540,3541,3542,3543,3544,3545,3546,3547,3548,3549,3550,3551,3552,3553,3554,3555,3556,3557,3558,3559,3560,3561,3562,3563,3564,3565,3566,3567,3568,3569,3570,3571,3572,3573,3574,3575,3576,3577,3578,3579,3580,3581,3582,3583,3584,3585,3586,3587,3588,3589,3590,3591,3592,3593,3594,3595,3596,3597,3598,3599,3600,3601,3602,3603,3604,3605,3606,3607,3608,3609,3610,3611,3612,3613,3614,3615,3616,3617,3618,3619,3620,3621,3622,3623,3624,3625,3626,3627,3628,3629,3630,3631,3632,3633,3634,3635,3636,3637,3638,3639,3640,3641,3642,3643,3644,3645,3646,3647,3648,3649,3650,3651,3652,3653,3654,3655,3656,3657,3658,3659,3660,3661,3662,3663,3664,3665,3666,3667,3668,3669,3670,3671,3672,3673,3674,3675,3676,3677,3678,3679,3680,3681,3682,3683,3684,3685,3686,3687,3688,3689,3690,3691,3692,3693,3694,3695,3696,3697,3698,3699,3700,3701,3702,3703,3704,3705,3706,3707,3708,3709,3710,3711,3712,3713,3714,3715,3716,3717,3718,3719,3720,3721,3722,3723,3724,3725,3726,3727,3728,3729,3730,3731,3732,3733,3734,3735,3736,3737,3738,3739,3740,3741,3742,3743,3744,3745,3746,3747,3748,3749,3750,3751,3752,3753,3754,3755,3756,3757,3758,3759,3760,3761,3762,3763,3764,3765,3766,3767,3768,3769,3770,3771,3772,3773,3774,3775,3776,3777,3778,3779,3780,3781,3782,3783,3784,3785,3786,3787,3788,3789,3790,3791,3792,3793,3794,3795,3796,3797,3798,3799,3800,3801,3802,3803,3804,3805,3806,3807,3808,3809,3810,3811,3812,3813,3814,3815,3816,3817,3818,3819,3820,3821,3822,3823,3824,3825,3826,3827,3828,3829,3830,3831,3832,3833,3834,3835,3836,3837,3838,3839,3840,3841,3842,3843,3844,3845,3846,3847,3848,3849,3850,3851,3852,3853,3854,3855,3856,3857,3858,3859,3860,3861,3862,3863,3864,3865,3866,3867,3868,3869,3870,3871,3872,3873,3874,3875,3876,3877,3878,3879,3880,3881,3882,3883,3884,3885,3886,3887,3888,3889,3890,3891,3892,3893,3894,3895,3896,3897,3898,3899,3900,3901,3902,3903,3904,3905,3906,3907,3908,3909,3910,3911,3912,3913,3914,3915,3916,3917,3918,3919,3920,3921,3922,3923,3924,3925,3926,3927,3928,3929,3930,3931,3932,3933,3934,3935,3936,3937,3938,3939,3940,3941,3942,3943,3944,3945,3946,3947,3948,3949,3950,3951,3952,3953,3954,3955,3956,3957,3958,3959,3960,3961,3962,3963,3964,3965,3966,3967,3968,3969,3970,3971,3972,3973,3974,3975,3976,3977,3978,3979,3980,3981,3982,3983,3984,3985,3986,3987,3988,3989,3990,3991,3992,3993,3994,3995,3996,3997,3998,3999],\"xaxis\":\"x\",\"y\":[3.9134952571706085,3.9122972348358607,3.9086652320275004,3.906852475125991,3.904127216941742,3.8989603339114858,3.8929486374075175,3.8936921693850017,3.8863153263972885,3.8849473147204456,3.880003544617751,3.876234172947939,3.8672741771257755,3.861610011661912,3.8600336939704154,3.859771717625767,3.846657864429052,3.8458064222921653,3.8382576023608603,3.8261605263104643,3.8253561395779982,3.814016259379642,3.80027354729667,3.790438681789223,3.7791204295755136,3.770899893474894,3.750134695600187,3.7228243994517287,3.7108510278989293,3.696798622903689,3.6747296531362794,3.6450801484893205,3.6001981833836076,3.607821761810663,3.535158840734504,3.5190088595994404,3.4902819037491946,3.4524876965467426,3.394393599823519,3.3171666243349667,3.252721697386243,3.1973291487191924,3.120151728164631,3.061597370401379,3.176948827350133,3.085842601336762,3.0159614589476362,3.006338891771958,2.93415060682931,2.847217055961535,2.806083280461622,2.7238682555600287,2.718453077701982,2.651885731038285,2.579143760013234,2.4991707838332236,2.4800229513928445,2.506059534295056,2.4293675402479313,2.4565727644052067,2.350089116262528,2.344231380770209,2.335640571849823,2.2367884400611686,2.2657112063987874,2.0873229255989125,2.1197548912039696,2.1913359733090276,2.084339253773149,2.0752427264519024,2.1228037563639304,1.9595270117598738,2.0226343789779095,1.9727813878072986,1.9561438531717745,2.0697495651088085,1.8504706731274327,1.8783781992529605,1.8996716514970018,1.900351859671284,1.766634360055967,1.918165162637889,2.063256355846616,1.725948764359242,1.7613986592001365,2.009056469542145,1.6399875380941924,1.7345962168985856,1.6980722511215025,2.040388223679089,1.9286497620479324,1.889994518869621,1.7624049061456284,1.7606402522008806,1.778169182923642,1.6299036778541147,1.733470321316657,1.6323888512270242,1.7499699572510814,2.028734516575252,1.6822969221402797,1.688627272360403,1.6956777595517973,1.6904453888380533,1.6042500899640988,1.612346336054726,1.6038325530533362,1.6131011753115243,1.5699656079300734,1.5647512991889028,1.569179833977262,2.0514098306503152,1.504237279096941,1.5221973076887427,1.5157297867995787,1.5203171117855716,2.0999156064052746,2.1262819233552315,1.445171269239066,1.484236097990221,1.5525586780070029,1.4469213117566675,2.0222294730436845,2.0386545598343115,1.570836190825157,1.9770347962996015,1.4569276381080798,1.5107995596727628,1.4519848972147327,1.5001085752358585,1.4615773419267901,1.509193503845525,1.4419750106955285,1.549163457319308,1.4397491104838789,1.358698057112809,1.413735829168281,1.5601225375105838,1.3218472080351031,1.9773073862141501,1.3684381248882747,1.9250918314833527,1.891603281244548,1.4417519189439008,1.4175157799937594,1.6170333165368769,1.4436668405239603,1.7556474501535373,1.428333008369566,1.5461520515872689,1.5421038139519592,1.8410018388581864,1.7572570072074747,1.3472457667753068,1.771243610510518,1.4959868554548543,1.6862618219397592,1.3796695719405605,1.5469193321688488,1.4501437786732627,1.4885694356242896,1.3492878049897465,1.630785219267544,1.4933982313409255,1.3633416990894207,1.4361623108554444,1.5495006851997335,1.4324038314210512,1.4399022851851293,1.4293169455490455,1.525105752032998,1.4146272936637985,1.2653034704580013,1.2833607689800313,1.3822805105368747,1.249795109240651,1.3354676609984502,1.3623253441058587,1.342038536129053,1.488113036946616,1.3896747886030862,1.2912223238008087,1.2153896468567633,1.3565305838872117,1.335664559504325,1.3513385598013006,1.3266223827755512,1.3488034313403383,1.2284459924857876,1.2748471955333915,1.3292043496666963,1.3825476916921267,1.5564822949081698,1.223815782697668,1.1398200319756435,1.5849131004133836,1.2014663659973044,1.3423103640802385,1.3023091288921527,1.3505446381241635,1.4785068812896835,1.240818411094155,1.4327221290184737,1.248426768399686,1.1614752698037607,1.2122803217370173,1.219047428342326,1.257040706453679,1.1061582877713145,1.2459041534764745,1.3577081870780927,1.185833193786313,1.1239974965472996,1.1128457633208866,1.2494355651283744,1.190535383521282,1.0129225847184304,1.2774939396369958,1.2083936580296224,1.4821497632571323,0.9909428182696185,1.195600182824072,1.1950082601215686,1.1621322427124072,1.1505730370731766,1.1947524968053935,1.1846448482378604,1.1459518097118464,1.1575403340624195,1.301120724168243,1.2105883499707017,1.1086602661573184,1.1824367419663417,1.108092993202248,1.1017034767946456,1.095591005452487,1.2887344305254391,1.1938708006948853,1.1454736479827088,1.0590913811836824,1.092329832004288,1.1418242900914382,1.0563357313896469,1.024172829676532,1.1607342560931468,1.0412698687764084,1.1293073947624093,1.1267916423173534,1.0506573801469439,1.1073144359760998,1.0765855284283596,1.2353410952059314,1.0842356863310272,1.272491480546599,1.1778430658219055,0.9711542659405407,0.9498298120663722,1.1215085587986322,0.9040925679613219,0.9034835724213691,1.0867336983437352,1.1800525448867045,1.1192770962620155,1.0627648735903161,1.1583949625746668,1.2469799022938923,0.9715960370671768,1.1915313639312775,0.9656752269073927,1.1308356851938226,0.9268786601162597,1.3583198607576623,1.0606557518221345,1.05375741776191,0.8508943476998315,1.120359616969185,1.1400435462373368,1.160978082138309,1.0715409648356846,0.8550962602788307,1.0615749492586346,0.8583417051944802,0.8776496663133997,1.0745782094508178,1.245722014169354,1.200719605162147,1.1438952131282911,0.8598366232480635,1.167452828796013,1.0573692708038935,0.9898528576574421,1.3777162709342146,1.078989500965194,1.2282157255387887,0.8255694087814615,0.9808849622558515,0.9945018280608489,1.0807602254367015,1.086059126593475,1.0304346947905987,1.0795397263291033,0.9573376160184006,0.9396239087700163,1.1054341085722783,0.9424799119250526,1.2360981246809004,1.2540407804694513,1.154667069407399,0.9423300430580621,1.1209027109598335,1.0735887751632138,1.0517181338181445,0.9619498031170194,1.0182084758611867,1.319334562200261,1.0299498714773487,1.2895397637757857,1.2685236334289072,0.9518596996821123,1.0718967555411199,1.023831640277266,0.9715600183271986,1.0365476348522578,1.038578284618013,0.9457968711973712,1.0524793145364306,0.9729964005791127,0.8087130141526542,1.0223188805393058,1.1568869458348043,1.0765513071971435,1.042825418677077,1.0146949936244494,1.0076984157831224,1.079123111957351,0.9735349233597594,0.802618213293127,0.8817591074854942,0.9294297038254546,0.9077866845257074,1.190594664280389,0.8638181484767478,1.003781775876572,0.8400199695754789,0.9791352536396413,0.944700962039412,1.233007431123929,0.9630544029040241,0.9356951878579953,0.9289189526744515,0.9046156087681922,1.0915661181343164,0.8154616166325612,0.9471687822397274,0.9941270640526529,0.9961772390876127,0.9487601903016429,1.1053584122279658,0.8922807858736903,0.9102678986396686,0.7340905070033483,0.7400910688724165,0.8841057201349016,0.8913396570209248,1.0994666688486325,1.0241562014483083,0.9069582954326363,0.9532980509059766,1.2096554711274345,0.9355369405255305,1.2210496795491572,0.9412520049471307,1.043601674890732,1.016737138767911,0.8927468038912665,0.7106237741591905,0.9072606500922884,0.7273608369269723,0.8033667407336988,0.6447495415038564,0.6707253919142335,0.7625347803000979,0.6632900406951057,1.4268195941693613,0.7496750189000859,0.9538967046303832,1.08171058357502,1.0642124834940772,0.9159378276479957,0.9044565321244976,0.9463834438674136,0.878603941275915,0.8835686843751246,1.420148245776674,0.8393251231098613,0.8447575619656652,0.9941423204524986,0.7939671893776917,0.8480740759309671,0.8931081242152189,0.7309813751495354,1.2907394094741755,0.7078103246385418,0.6379407032751077,1.1424234100021362,0.60621944060607,1.037512186365905,0.880813495944148,0.6688969671968963,0.8836666575984944,0.7617822887490489,1.2350934218961245,1.2700479185211835,1.1060589964132606,1.0311168840162992,0.8399694251639462,0.7859923888793046,0.7772017508185638,0.6774677348388956,0.8164363092332863,0.9538991980275267,0.6369340339491973,0.9424306373116337,1.1373291654790365,0.9237107845344747,0.9064065009895891,0.7958320162183053,0.6410414096942552,0.945848082941295,0.9730461179730968,0.840400436245889,0.6432676778724724,0.9366023326703359,0.8347398617337737,0.7878590410699561,0.5636425237567555,0.8900037365843645,0.8942437160153167,0.7937336817323848,0.6923538278015906,0.8238571165717354,0.800238772985874,0.7568620653807046,0.7151335019072986,0.5894652431294576,0.5935591993041399,1.303819427883812,0.693223528183872,0.6912630088144429,1.2548168493497063,0.7040691392621039,1.1165462695662476,0.954790125565854,0.6403782376995713,0.5983751785289467,0.6320911771234724,0.7536161596419514,0.7119118108506619,0.7484017206225025,0.5904913374838184,0.6386724475710788,0.5807197709122642,0.5494911826921189,1.0942137667208656,0.47776259111607994,0.8548696285572943,0.6398791957467176,0.3617371117079341,0.8412700310074119,1.0508009729846575,0.6654064268945623,1.124465256630439,0.7727028762990031,0.7138569663255732,0.59966228640785,0.7006903180039151,1.2023980282352698,1.1940545282428918,0.6722037603002797,0.741969279695713,0.6360917510898756,0.9451861421412417,0.8138380659416653,0.8135120233272858,0.6373071119259531,0.8504593823225366,0.6848742151064959,0.5727537342573978,0.8577269107005795,0.7236201888748315,0.9250819769668628,0.6587107366376013,0.7380024608613356,0.9116961978031599,0.7527234684972406,0.7188211571107903,0.6204762404528057,0.7584463379869595,0.6273484516999694,0.6056512320196338,0.7055179790887276,0.5352356927312957,0.7264964149142703,0.664922436070253,0.6863232057875625,0.48759338850537476,0.9103001207883423,0.416418126370185,0.5293514780084185,0.7678913667094218,0.6004281531379475,0.7826199096354127,0.37024715580709533,0.35513305395703637,0.6537612358055811,0.30373465873708727,0.26802918995609476,0.5021813224154528,0.7455250729442762,1.2211684479107006,0.7920424865705709,0.7400704004609997,1.156954661681873,0.2177242955088245,0.6299197867844817,0.5551751551898783,0.7106964764938898,0.7078416603135179,0.4711914853967425,0.3588337119167369,0.7942654301570515,0.7888455541668918,0.4388678313008382,0.45003651934788264,0.45403960155282475,0.6197951764504612,0.7189079254247984,0.48459441193359,0.4526210777347811,0.44110497751487454,0.49050284775957287,0.4557750420341127,0.7011321609528247,0.36400113649029775,0.35189502894835456,0.34159132939903786,0.343666920920074,0.8938775637602243,0.29837312395527105,1.0346294593572838,0.5854873639357883,0.6855375655947907,0.5366886896764181,0.5240538514103248,0.3022826233494327,0.31509256329328306,0.79656654551895,0.2554010261314033,0.3375523198294269,1.0584397733715485,0.7906999194213578,0.992737161001149,0.2478441343660413,0.7116380409645121,0.6632464511204084,0.7785037724289741,0.2767223580679968,0.9156138573678364,0.4837561401929006,0.30055398554995705,0.6125147846761572,0.3380028427565838,0.5761758972314944,0.7776717539531744,0.3333036623360732,0.5008929283973381,0.3215269912396835,0.3249886135138031,0.36934990129023,0.594483483580476,0.2906570950344282,0.5800363978432856,0.43658102727027714,0.519207572986964,0.8395111507820154,0.5703445659935518,0.5349469127096145,0.7305904118136677,0.5091764897088515,0.6417183910942703,0.5162129523968081,0.4351089632559214,0.4231442602443976,0.3473545561424654,0.2873086630688238,0.3186483700527404,0.7605463443964038,0.24692798476870914,0.7842713481888508,0.23838992885325086,0.23109689003146974,0.21268773048081502,0.5979925137421884,0.7137441691535368,0.49581882480035044,0.5862109697502311,0.19294001849641823,0.3480213573587412,0.5935894987920776,0.6623663378173408,0.36318958797813883,0.6268181679136405,0.6295344003469623,0.27294053222841874,0.48856256571939827,0.256354554636104,0.4408929736582081,0.31599671478486063,0.5636775675170496,0.7059927508762668,0.5981659065875098,0.5553149360305435,0.2533895763940178,0.483741876009369,0.3691420433979243,0.32051094119664003,0.2787312778902282,0.38795915759124944,0.22503326541430074,0.38468826138080187,0.3208913036456129,0.36064962514912813,0.1872303945333396,0.34075461426951464,0.3419452300168131,0.44471516467285205,0.31359465688256616,0.376859033654223,0.3321648444618218,0.5115611972510714,0.2106494943428109,0.19822283856921655,0.48537184790520005,0.4341046334678352,0.22225391169404746,0.2991117860366314,0.36125708917995036,0.23028495086744138,0.40021813613996726,0.19977241985217323,0.2185171449155643,0.41123763018694676,0.3973150588383224,0.18315221617016997,0.3187284657449758,0.22875249489893526,0.3624767374497512,0.23769686386436423,0.19529617306313818,0.22211102997659307,0.255813663070352,0.23972496560580542,0.1331109318605268,0.1720059761748814,0.1522681094046558,0.13727858062592768,0.250852010502394,0.10661802120178365,0.291996042942012,0.1823006388791253,0.14847339012044514,0.09626046482745199,0.2524111206755904,0.09242456386456306,0.10308290692332314,0.24366748935542795,0.12281529083858822,0.11503849665424828,0.11182278242674389,0.19226227993342593,0.09420412603355817,0.08012513390269632,0.0709036019388192,0.10118297612203564,0.1697428707438372,0.10525441913613871,0.12066923089052617,0.12543522879674202,0.04308441800795089,0.3289378682516373,0.22905630633070811,0.032473075582823085,0.2168770954341898,0.035024634276197314,0.12572979823846717,0.07037379122075146,0.09607003490502469,0.10826871333146466,0.07857326014057989,0.059871768437683284,0.07998041691299426,0.07884552321960528,0.0855615159741246,0.07495208045608415,0.08440772450574366,0.07915843437858952,0.04960210453464776,0.11144239234112635,0.03498774974959741,0.09614202818634421,0.043708820866134854,0.06759454766897462,0.04677200815403425,0.10932462230187612,0.03528730684545776,0.08008528189182687,0.06343741570464925,0.059743272500911146,0.0703052085440578,0.03960004988702246,0.0436096621222997,0.03996384066382479,0.022425515816734833,0.1166600463095222,0.05362446642998317,0.04538130255259299,0.01639676153583587,0.04328045753384881,0.08623116737908029,0.04511068128077617,0.04977291603580967,0.038276830739929636,0.028451553105670102,0.026178454644516867,0.03128908905051346,0.03962088128577401,0.03185115017929099,0.025876198623515576,0.034454767937237694,0.0330553147247815,0.051543751719184135,0.0248133984480914,0.04668432779018156,0.03875412339317673,0.03705555382719873,0.03777659205625328,0.044111996481000816,0.021890405457776603,0.04876068695281051,0.018222980276656683,0.03615544072008177,0.015399705251382437,0.017634714357852167,0.03379658839940245,0.060566384005956764,0.014109046295762886,0.03224010557496128,0.045387598565879775,0.04730127863200554,0.024419029046575738,0.1166149187645508,0.03201704045752718,0.03510716897500322,0.011869767996443296,0.014250133602240263,0.023052622071751475,0.03481778616322917,0.03754423287473507,0.03232727980393991,0.03400958952407719,0.042789444354163986,0.022832172694644694,0.01681171042135258,0.018201013321673908,0.04482693028004931,0.02410594863971823,0.016036116785268173,0.030990867062565104,0.011698839783674229,0.017175925529589617,0.040274397098534635,0.02098723746903546,0.029623104250549287,0.01590599268274534,0.023224288414856853,0.020792875506609753,0.012367399623671706,0.025015480451219697,0.018742778184824817,0.030256999935540187,0.020848324498174725,0.03348937602441393,0.014418079797642699,0.004353123561924544,0.005220899431395745,0.02947032094356489,0.032606919832099145,0.009360755338373503,0.008596524913884207,0.07250431312821318,0.03755524799578232,0.05252947560040701,0.042160035538246335,0.015394698262527583,0.01809716809883579,0.025021850142731495,0.013212047468675152,0.031742748213749894,0.028243455182279442,0.02632810640643564,0.03187932643439237,0.03269523004425642,0.007931677203276897,0.007627636657081719,0.030992639526632962,0.039787454929746,0.017991116253468702,0.029046247531686987,0.018085101657139804,0.057473934401379385,0.042651410870937434,0.03555639123423668,0.04886092450570306,0.015203207437366379,0.015605852295060488,0.021605057514326564,0.021724669887651572,0.017739905772315073,0.01984430918218196,0.053820549837836754,0.0133255885594874,0.024132883151905593,0.050060729078864365,0.013120236882152324,0.014436733044287293,0.007871294990418014,0.03274164510007453,0.0045984635333363565,0.040181497261196915,0.004758868468109576,0.013331657048915882,0.006866303432127959,0.008206807695130106,0.04402571745145718,0.007389856615452772,0.013602237843209963,0.011397734060140394,0.01768716207937783,0.0047970967726515025,0.027126081143797876,0.014006310082523768,0.014618554264869747,0.014637639712050248,0.00901389282603473,0.009033549307852471,0.018023488311724817,0.010865057271078712,0.015180069191150053,0.034689971883583984,0.010772868636506772,0.010642712812220338,0.009372917569395192,0.013403397477032484,0.02062121912299463,0.006495470066911743,0.017105048719201352,0.019779850468378737,0.03428252807915617,0.011364049426200723,0.017619202142532257,0.003873421377613436,0.014041034583811337,0.007057396049805179,0.00764111752275339,0.017291009666243116,0.008952322842891347,0.006975195538560755,0.015638016519653134,0.012302671646576469,0.007336234776054421,0.008719881747520806,0.0038778475642709032,0.019316587093398112,0.015550548033018636,0.011735754385926412,0.0016710634964347524,0.009670284265181552,0.006045133882764222,0.006695664882876996,0.00926355838591091,0.006532213496803813,0.0014472604532019305,0.011235176845059171,0.0010769541385510658,0.010504467865529584,0.023996067108429126,0.015272011396815818,0.0069476127055544575,0.001933162301387553,0.006344456811588684,0.01263726209428748,0.01045129067019443,0.03137681066722369,0.002958484398176208,0.0040227529951165995,0.007560312888305579,0.005967805729322734,0.012880428466407055,0.010400636630302128,0.004437756338751642,0.020375811647728566,0.01560803046724521,0.004697960689572811,0.009691829263285951,0.007867543876664503,0.010628315003364835,0.016353866530733844,0.004099648647689076,0.021178890712943016,0.002379023336200988,0.012626018438358377,0.016218834409250496,0.012026010495079573,0.018780741225377276,0.006293481957637158,0.01055143930799092,0.010198831134780189,0.005173096291797749,0.007381725928623924,0.005363266434165897,0.0031428463735914793,0.004930802364551692,0.0057116527267441425,0.00690102942368051,0.0015932351816892083,0.04213436349017741,0.017162330320581235,0.0020668846121543174,0.016252738006309095,0.04321846004917505,0.014047114987733172,0.013339455202714432,0.02252372054405228,0.014329843644948537,0.016429139989124757,0.016683365667430342,0.005036935651037892,0.004754738184807188,0.03738264121497832,0.01521702111931457,0.037665369388756316,0.00542053564848619,0.02313901926107989,0.02124922065104423,0.0122628865108637,0.008231152657978615,0.017338440537713752,0.009324015841237366,0.006139979062567101,0.008141459145355636,0.015396718725489813,0.00972523882239592,0.007863940391550611,0.00994830255364056,0.01419064433624936,0.02840252128704785,0.009723816370280016,0.03575019094180637,0.0055198089590949686,0.010158467111252182,0.026019353652890865,0.009866307467133722,0.002883053335170888,0.012879897292423096,0.013663421562784238,0.01026669254208602,0.008367604503719012,0.010885046814854993,0.005000277344152678,0.008227481170721886,0.00625619131396042,0.002701955839361446,0.004884209269837142,0.0031018531614065412,0.017096464321954455,0.010922720144732953,0.007629970962576123,0.0016863725643465597,0.0022984011068795645,0.009702696883614423,0.00719059728380597,0.0038968287423481332,0.010387773413983604,0.0023735867550556088,0.010371514226215784,0.0028621386694331775,0.004213195117618218,0.010990443675708075,0.00379304791552899,0.006340100311659205,0.004681462867619774,0.004522176351689942,0.003180840870037071,0.02012162347602396,0.0025416002895206503,0.005246345444297342,0.0023146615919173207,0.008831445252736238,0.0016621754760569644,0.008663828442728637,0.004078099906318661,0.01668691133477921,0.010902185630574317,0.0008370540491734326,0.011636852088226582,0.0027283211114701,0.004012547929052491,0.0028898511725626457,0.0060071028392580435,0.01614905019736902,0.011229020441562989,0.0022966612348768387,0.006542461445674986,0.0023480756185193553,0.006118893317068362,0.013098944007095867,0.007408238377740172,0.014329535188499757,0.0013705321658108122,0.002038289625630585,0.00929638016803586,0.0011844758425870248,0.0008237298219753603,0.0005815676275825217,0.0028495847638883957,0.012326652061081066,0.018098119555009555,0.0026470533229915917,0.0027425319691969366,0.0016219546889399122,0.0025911077323188423,0.01231099067814291,0.013767669321130566,0.018603860220563435,0.02798269299583069,0.00954968963834927,0.001350070224320828,0.019765936844120997,0.017947842980248353,0.005242917668675838,0.00366938821634338,0.0027811206283884075,0.004027540657869886,0.007588581218273731,0.0224305841127007,0.012478370534836764,0.008640345772204194,0.019907665638326928,0.0038573810151103457,0.007625551455845685,0.010374723232075153,0.004012515459332437,0.01078561697046855,0.003203977421147715,0.027970328077856908,0.005716528755778877,0.0012828763696882063,0.02181452364308205,0.004678189024467024,0.004880110506628138,0.019353366029720532,0.005205260720682786,0.0007763009050983984,0.025449317815426215,0.0027901054046358927,0.0020352468562297708,0.012897296212906577,0.0009654583360983439,0.0019135633527218314,0.002890552818358263,0.009274078063350741,0.002352429863432619,0.00108021885711281,0.005528153445290671,0.0027258728281546935,0.0046933965041641105,0.0058839916277686945,0.0027208808755931676,0.01001983246127932,0.00534509656013325,0.0013288014652738166,0.002980377578017878,0.018250099381152397,0.01044002488799191,0.005847403935585944,0.003466714151417507,0.020005136985753683,0.0023477379603300728,0.002636756233704931,0.00033415203595029845,0.012007361321558628,0.0028405045607174995,0.003593196961992017,0.006673795475477918,0.002507680802310123,0.00452403430558698,0.0031898846124914122,0.0128105780481645,0.0022939413817562064,0.003282032232989703,0.01072311494668467,0.008570016984066918,0.004042382863590555,0.0029821938618005287,0.003616928209346688,0.00620139033471233,0.017724883016748225,0.004314774998642638,0.0032528197117627188,0.0014632878442176812,0.006736871414341188,0.007518790284806364,0.006279996132301412,0.0003775807395612515,0.02437897742818918,0.00045328922664512016,0.00488470106941517,0.0019138201050499985,0.002458697021559534,0.005360871986420067,0.0017254939843168171,0.009390751951642861,0.0021447396694352023,0.0027039714576570072,0.00189655429084804,0.014372489481767574,0.0017090931886319521,0.0015460529928167602,0.0047396096124490104,0.002699198884416893,0.013895376531337687,0.0028657447190198948,0.004910590738246665,0.0029139653951294657,0.0011145465156835236,0.011098953523094476,0.0045208865550922656,0.005339526622030141,0.005384692565990579,0.0010256966373830365,0.004184736220077459,0.006175716438733516,0.004452873116077671,0.003237158620600936,0.0013852527516845384,0.00284691161939348,0.004011879331427931,0.004220734542812609,0.0006421989272325113,0.0012636210783240715,0.0018590342145738438,0.004157350770370584,0.001347115659339143,0.0024712379125541224,0.004479766466543152,0.0037349090647585716,0.0006518956110130568,0.0016221361338909432,0.0008013864936379806,0.0009287135492272335,0.00047433081962714574,0.0007242524999297223,0.00030062111067028245,0.0007398634990017777,0.00044414024556721965,0.0005405851856723484,0.012889403451826164,0.001943758022957254,0.001084141120885015,0.00026312797233246686,0.00032003535476439156,0.0014730493691069739,0.0007629177531769153,0.0005710481254454336,0.001061029533010688,0.0021009522950255935,0.008729935296891596,0.002929958963637391,0.000906778615595014,0.00037169494032201854,0.0008142289542474573,0.0006418043780470845,0.007050039108225497,0.00014017818292451077,0.0008723272809657347,0.0006810339762168564,0.006511724924920441,0.0024725152287491574,0.005679829116106065,0.005030480882978719,0.011887284356212124,0.000783500935729326,0.0014410791938819746,0.00019380843216113445,0.0033846689874838225,0.00870069788542658,0.017426900611336175,0.0025162873768781267,0.0020960392112163895,0.0010372069964628841,0.00217792100023701,0.00303602022769986,0.0028261911380494495,0.00905257632059472,0.003560191526604097,0.015438950232112714,0.002489963211998868,0.011785637829618709,0.0028367142471023565,0.019301653126315717,0.0003394002820314645,0.0033376211411190256,0.0005529819962873406,0.019600057061795906,0.00041433826137929396,0.009598757838164242,0.006101570636261714,0.0024964188558517083,0.01569662253431567,0.017462224310010856,0.001657790366424523,0.0024638687033140083,0.006639030588074518,0.006378579131162498,0.001964513560235881,0.012253164892991233,0.00813528921418847,0.006452946726259294,0.003510149703884476,0.014204441229542716,0.012456700046372764,0.002697257608979736,0.001382660557404776,0.006408183904281378,0.0013053320595638456,0.0019589493716244636,0.005906741289482646,0.014661509076257052,0.001345213062518642,0.0036008889052423776,0.01870345339491159,0.010255627774318396,0.015894252805003936,0.001580351796249451,0.0012566400820509002,0.0005143364323630325,0.0017526613034016634,0.0014585223625785434,0.026035196356947427,0.019296677478557265,0.005834899915034957,0.013676517631321898,0.007833715385608422,0.002920992692692084,0.002883593662752071,0.019236833285137003,0.007809334875281362,0.005987843669293729,0.0009841375605127989,0.020885444695511474,0.005439427746914895,0.008749752556076124,0.00877104104112551,0.010099876740779832,0.003156999196668195,0.013188138929705545,0.0014752141143336433,0.0038106121633943247,0.005199250359013016,0.016299740838240498,0.010606711947257064,0.004803392735498029,0.010319758620108624,0.00384422989321348,0.017798840212448735,0.018328914003332763,0.004137408603169643,0.0038175520088424876,0.004818449613242884,0.018357791021385773,0.009584787197483733,0.0018876232095658588,0.0015725153060538394,0.0010619084274763654,0.0004842266203183585,0.004909035810786758,0.00212857524557918,0.007380202669971806,0.010623729121489562,0.0007421266416331577,0.0018767118027489004,0.010395665087050535,0.004853917545244888,0.0063062378006518705,0.007859134624064856,0.0004349507994766322,0.001627170931012748,0.007702469713027566,0.02337808649878631,0.001877891360584784,0.0026861858891117432,0.008952887180052257,0.002573526164730553,0.0012111921766472032,0.006683382535702106,0.004093179345825122,0.0034090791691012423,0.0005386456440939055,0.003511421228986867,0.006912357955844291,0.01611384191932296,0.008110740879578977,0.002759722062667235,0.006305972741208046,0.002658166209754802,0.002004914988837456,0.010847234462611976,0.0027641396296845706,0.0016189796176650558,0.0016496912362439077,0.01281495593197134,0.0019748425260810135,0.0013321671963548937,0.016672787701515236,0.0019402249404331098,0.003454281647957124,0.0077728780184266434,0.021095325449184896,0.0025404202207430027,0.003995239513541822,0.001392247756422547,0.009385942043259125,0.007830459546955874,0.0020343814243222484,0.012219987220028795,0.004455864802676456,0.0011865930899857787,0.006595725936658548,0.005064975602480789,0.002519417369643755,0.002288920962804906,0.0006844440719017521,0.001269131812929727,0.007606268866370499,0.0026535408783352793,0.0027353699989893033,0.0017967108430337751,0.0016769184814947103,0.0028703813509004155,0.0014255151268724212,0.0014691921002628419,0.006445968815473412,0.002074583250211943,0.0017932087296626598,0.0005300401481863397,0.0006851983728092421,0.0012631918013845374,0.0033695422284942883,0.0009408306913112196,0.0030656239605806887,0.0037281767219562623,0.00586620122513381,0.0005527229504525906,0.0006405815331809379,0.0004574331328302293,0.012498019936830421,0.00047002605436411576,0.00785020491252178,0.0039644431370904325,0.006879167347835891,0.0021745220527324485,0.0010229929574508162,0.0023347816574986126,0.004983583701051284,0.001225773610776585,0.01003235850663121,0.026884508155768917,0.003644516068925039,0.014209769996700062,0.00212694658906313,0.0026373820785812714,0.0018162147167985758,0.0005042996176676799,0.0017120324991238473,0.0026238120440875536,0.00660903423790889,0.0014736581654486193,0.009693515889804128,0.002583260921538399,0.010751383132875453,0.0015075586712569589,0.002847438347225761,0.001892276085416085,0.007547007701517346,0.0025210334781046086,0.00477054838156234,0.0009354362692231351,0.0012898948231216756,0.002243954925985851,0.0036141643171365683,0.0039397277957074,0.01031788766665328,0.0036900541863436366,0.0026899808773599453,0.0016167778002590654,0.008076189445655675,0.0026432179799495007,0.0010650853861542938,0.008481633834150706,0.004656507067706189,0.0015723013273991886,0.0013201367231873856,0.0009505538408176276,0.005718872423221775,0.0010218650966176673,0.011709066371381919,0.0008309179113746865,0.00017906151662129354,0.00016566494983354758,0.00118251949106271,0.0024251789983215427,0.0016188176891297119,0.00033408837221230413,0.0003969648910869013,0.0058746001020793855,0.0004512295194269907,0.0009486569797502009,0.00011660132710225094,0.0001601180249563346,0.0005366324462181259,0.00023097856571203213,0.0025786087421446544,0.00039325584937592107,0.0013924952894329575,0.010416412409157567,0.0026444820752530873,0.006034549901955609,0.000127690779587708,0.0003321322247481451,0.0012854556840535651,0.0011275763828219464,0.0026369761311326135,0.00020991195252441852,0.0021145165465617614,0.0007361962310827912,0.00012494074287415591,0.0014903843887676233,0.00040905957025431927,0.0021683514002091295,0.0010840903659206328,0.00335484833851231,0.0005062302457941801,0.0005565531374284902,0.0026448435014026035,0.012276416054684856,0.0015527509543618436,0.0004204341759772883,5.064779266033721e-05,0.002944734795657673,0.0014072730695078354,0.004568149824081359,0.010678112100010403,0.0026744848937454973,0.0020716980996567484,0.0003385236534218571,0.0020019685299211107,0.0018660668289150703,0.0005143936135773128,0.0007917339213547824,0.0005401197830745735,0.0023669848055983865,0.0018728975513662167,0.009800682007668475,0.0036149873903492035,0.0022747900471959217,0.0004790285571655948,0.007246698539628168,0.00017442364625333892,0.00011877617609822472,0.0022151604503678557,0.008356912524096243,0.003989388385828227,0.002650700862256959,0.0009449689124446073,0.010148537284504761,0.000694655934969618,0.003800336419338881,0.006912290739502111,0.00020253618088084645,0.0053198993485139125,0.006591717328680522,0.0003579084752414678,0.00042336824712556917,0.0004810311425896719,0.010322603408647386,0.00563917491514466,0.002301244552481395,0.0016099817627456543,0.0012917006551690805,0.001015245149667402,0.005178069966762128,0.015069479139470893,0.009541850818746577,0.0006051150113761112,0.00877158351711681,0.0021553426710340163,0.00887120342768123,0.0017455779448875268,0.01238679035824286,0.021287235876976025,0.006539457220070852,0.0018056201786219735,0.00023999567377131322,0.005100644118301558,0.0017624098674659278,0.0012280656463535095,0.0010657109392792992,0.0007087830628594839,0.00523101065847509,0.0028455905349034976,0.004225299512757618,0.001079292268782554,5.0237588226280205e-05,0.005783863401299641,0.002120313940475111,0.008316892603418644,0.0010882857679112047,0.0007321068189983296,0.000986593189895009,0.0023580289503231707,0.0015035650871261079,0.00037449289521540976,0.010453078452020058,0.0047280910311287136,0.0007297000185215489,0.0009931723097519152,0.008963632007323474,0.0009196298157568436,0.00025892853493561285,0.00017840455855213682,0.00217770161260911,0.0010030918496445984,0.016537696362373972,0.005151335100700443,0.0025493404355460525,0.00034249418029397836,0.0009800004458207126,0.01630221377214182,0.0011007254633964546,0.005603147755264542,0.011926658772097743,0.014847293378418131,0.0006200394276431674,0.0061156804908461225,0.0022252966332325717,0.003157864993195987,0.009204046999451817,0.0018440256882784908,0.006052842340632256,0.00676565113515195,0.0012380772230784548,0.020901123546698073,0.018941875466473086,0.00798042737068606,0.003874346558562118,0.0004907526789964765,0.0025727134542441075,0.0008477077554589669,0.0012460766960552022,0.0010905198535790172,0.01692982329882218,0.004740908078853887,0.0017743051821020816,0.00040172942821003837,0.002096532782474474,0.001416242895444363,0.0009445141633247944,0.0002999454426825272,0.0007115552382267297,0.0030244853200272013,0.010888453490412387,0.001033771036160348,0.00502778978042126,0.0008788483254567382,0.0011555434874606196,0.0011690580232417412,0.0018235036494175121,0.0018685481973219023,0.006039902555778531,0.003238117511408944,0.002214333290520977,0.0038841502160185948,0.0008772472072729979,0.0012465976158892787,0.0007411275587925143,0.0021308455826845886,0.005191767327822444,0.006307246318931878,0.007649301551683044,0.0005559137172632445,0.0009396239162040583,0.00024042747025749715,0.0007104432976661557,0.0003450107834830055,0.00022124811315354728,0.0010776531623147567,0.0003677088899387834,0.0004598275554027685,0.000861237620217954,0.0004327441604579865,0.0013849746952495792,0.0007624700221032692,0.0074850981268930585,0.0002763268442720613,0.0041207714656210336,0.0012948374647037174,0.00015457657030434476,0.0010594524866877188,0.0025313205378682513,0.0006269202242751905,0.0004031746313213101,0.00012598601710169319,0.001214103793907272,0.0007587245804240922,0.0009191475315431449,7.670865252955239e-05,8.174022102300358e-05,0.000713933988757309,0.00011184815155018606,0.0020812533853473226,0.002896386691409663,0.001496353698576881,0.0026993481080150265,3.376654793613659e-05,0.0003963352769892411,0.0023564973273601996,0.004525620675880945,1.614105713844261e-05,0.0001373642686014372,0.0017443866877011563,4.2535079394632496e-05,0.00012661398194651027,0.00039155370337914247,0.0004395441449795799,0.00027856969283359637,0.001721664463913763,0.0006017401683199319,0.0011162091359444236,0.0004698650720531397,0.00011668442020792023,0.0007271521724310297,0.000105048766494616,5.519832154267337e-05,0.0004321169510119246,0.00010967508060097096,0.0005647082590987241,0.006247300782896003,0.0062576587889148225,0.0007663916720417772,5.125947376481469e-05,2.2349030327395762e-05,9.714903798220241e-05,0.0005455715422772781,9.668229056351522e-05,0.0003246411304499722,0.00418948027608816,0.001950916509722853,0.0007773269319559293,0.0029616054523619964,9.80915239301668e-05,0.005801825410998119,0.014187354923734798,0.0011037008451414729,0.0020851061454814682,0.0002533914088955099,0.0007755430920649081,0.0003687038207185624,0.007395603990425685,0.00429803511944213,0.0012817004413342727,0.017456350090696793,0.00684453936625823,0.0005946319125642148,0.0038169687206370435,0.002621979513968533,0.0028227064942486302,0.001082135658593708,0.012005745815625163,0.006966475897928089,0.0019050415543708896,0.0007977900374918777,0.006973745607145362,0.003734955996212086,4.9891669648561395e-05,0.00034195067269408966,0.00034808961955426216,0.007590939113560374,0.0008148100191893268,0.0033091091447073812,0.009118315266676905,0.0011929920589341793,0.007393296362376383,0.001543576094069838,0.0010383443132377182,0.0006131803377657334,0.006484262747351245,0.0020995029956748417,0.0166596965011361,0.0032585399865206165,0.0014813201794305474,0.001248403983583054,0.014102089380456609,0.0010401531204977032,0.009716335406521817,0.01009557254853494,0.0007609903231602045,0.00033353981837186766,0.002821367166893054,0.0006671783513025199,0.001175463402109811,0.0012207725323340093,0.007627711851138341,0.0006801033759071462,0.0007354831279709629,0.0008160165938061095,0.003154202234338001,0.0014108513134133069,0.0007044271066841222,0.020832159200630217,0.0035456684995398557,0.0006016050170746442,0.0009912532314453632,0.0007119315830966763,0.0012211331931445552,0.002633317483465558,0.0017963464560750027,0.0015226213873365338,0.0064683105579596036,0.0009239762818980936,0.004966558250805969,0.0005286597157644944,0.04170828514926116,0.02120816177318161,0.01729461455512181,0.012961665044781297,0.00446547462773599,0.0023049103733429332,0.005641140899013763,0.000816802313499753,0.0010228843090647121,0.0004782238592778735,0.0009319293180620079,0.0005689486975168119,0.001692030686528486,0.001618683157540965,0.01706808831120107,0.006641952493302694,0.001774610811012516,0.00042442032575353526,0.013683005620696877,0.0006333810746480839,0.0007496285299119654,0.00040883434870815275,0.0005429862216711183,0.0007038089544242088,0.0056455368061266355,0.0010717261843492128,0.006613727660974636,0.009963360687342201,0.006682723305412818,0.0036514115249559054,0.007090150233040015,0.00026078063566654686,0.0020660244727290947,0.001145113721186083,0.013770022246526716,0.014981504346136997,0.0006261194752396719,0.0029337399023932308,0.021244796347529172,0.0023327385889417717,0.004575751306667244,0.0003588694186200902,0.009608570349839675,0.008338619093378472,0.0006243882229109907,0.00022310185177120594,0.005026470852611825,0.00021930094815459376,0.007798438635424634,0.002376661674472637,0.0034571248180757805,0.0004005367270778794,0.011528340840922052,0.017979262731425694,0.0030247868605530973,0.0006362274630810416,0.0009835521950643084,0.0007256978292212403,0.009271889889461465,0.0002777224531543058,0.002845751627843448,6.054567872255099e-05,0.004696102019378394,0.006708758404209701,0.0004446719571592434,0.0005494461155086856,0.00020886574292405358,0.0007182054792823334,8.209710209273831e-05,0.00026153179947102233,0.012042358329321132,0.0010476627194457837,0.0010594384962888466,0.004100833146547291,0.0012362987849275362,0.0006734868384791455,0.017578186145523002,0.003512943366305621,0.002046150303390672,0.0003874307010163937,0.0005044974182137954,0.0004941305403883672,0.013427749706088116,0.0003804599348217221,0.0001773196572717082,0.0005942167998769398,0.0007000037719270621,0.0006450844613610521,0.0012785021033885208,0.007773407418723574,0.00027694572920323427,0.0014206070742398573,0.0025680281035771173,0.00032622340374218936,0.003911561384458863,0.00013981342264385608,0.002268081987345818,0.000798999315884612,0.0022072104790980913,0.00353753966480123,0.0016065165977388815,0.0006214091612937083,0.012943749653706451,0.0022198262086708413,0.000625543359304794,0.00330980612355181,0.0007239027822012007,0.0008712865530810876,0.0008183588895849495,0.00042927790330186846,0.0003185117271268999,0.0031588453492238577,0.0020213420521905156,0.0016393464254589132,0.00022623623006954568,0.0034375853273040146,0.0003902317169636903,0.0014307465441587308,0.0010188837554555026,0.0034738935302470473,0.00017668215475750325,0.0015751187668864215,0.00044146777881047593,0.0008627555105275809,0.0004577547694383799,9.393405295155628e-05,0.0007678569681172262,0.00015418649884875197,8.934084012737273e-05,0.0003016589970753727,0.000499679511133816,0.00020412835846177573,0.0007923829399343075,2.968688424644083e-05,0.0002598328768165115,0.002999325880640775,6.991843726021312e-05,0.00025331570994546315,0.0010109131824765573,3.1491970960861884e-05,5.8098759463737584e-05,0.0020341244581097468,0.0017013354140714206,0.008136101027650255,2.9646238307415112e-05,0.00012160012523073419,0.0002510377090755786,0.001193914465231748,0.0001138866455397662,0.0005226649263945612,0.00348231411071602,0.00032268547783776053,0.0006674404296370244,0.000939604229728052,0.0020336383482220176,0.002376097002103482,0.00022548576294319624,0.002716015693528503,0.002712618167530729,0.0003708874211503875,0.00021951081442904205,0.00035816129997686785,0.00032225624096688635,0.0044461582049187005,0.00015804612016336614,0.0006795303138755045,0.0001337958327574425,0.0001547855451422205,0.0012395643880360352,0.00238497980156822,0.0008157335430735782,0.0012171083873751113,0.00033780161853156737,9.033916839064227e-05,0.00022250416837379705,0.0016525650312929486,0.00010733686520426841,0.0013688157272705296,0.000618417395549256,0.008584951124823659,0.00015744842752415705,0.0021428286866384495,0.0005000228976371679,7.428196003319423e-05,0.0014172830320313239,0.00014380904223977833,0.00015519341777080504,1.0294185714818742e-05,0.00019133458580271263,5.1252101744248026e-05,0.0004187314823664289,2.5572542003988625e-05,0.00015536937898919822,2.8645579687804036e-05,0.00013084047538854986,0.002019288042828573,0.0007051406041421115,0.00010318052606095249,6.290204265441172e-05,0.00012159510621924974,3.868731276160851e-05,0.0040193164249522385,8.781514718675199e-05,0.0005119098112844145,0.000473714206095501,0.00011783426626212334,0.0013912215857876426,6.281210768561068e-05,0.0001719103131255719,0.0005574603375225044,0.008915557386498543,0.0002311327985278846,0.0006011019787191855,0.0015201492628328704,0.003196724813753501,0.0002949765990707757,0.0013571758193961572,0.00014176225722804326,0.0005781997746561723,2.6509796979391827e-05,3.5803987066182705e-05,0.0007361112341055817,0.000290341642452804,0.004596076192340617,3.697021590846969e-05,7.614685185800044e-05,0.00012304634641130806,0.00016201666731422944,0.001979647056703247,0.0026432944455393394,0.001255144806190347,0.00010126471877212527,0.0001468186083005879,0.00017135427669197128,0.0003540678159287762,0.00017540377419804554,0.0008297933414866031,0.0013968500806425944,0.003693801053560824,0.00024136604921268711,0.00031725340062249,0.0014476064562466994,0.00017414981336257845,0.00031040528576620853,0.00010173035327046392,2.9315494911489482e-05,0.00037830363819147625,0.00036723063437844986,0.0004467777485444778,8.124520167040763e-05,0.0001244543316381716,0.001634626321133501,0.0006898421957294349,0.0006548616245005929,0.001182806465014741,0.0002801846163369312,0.00013243845361336111,0.0005107712419711347,0.0008941645505547328,0.00014728236201898336,0.00016491149728559186,0.00029812005725550955,0.0012652415416734462,2.299337329876922e-05,7.334345391643438e-05,0.00014949693991644613,0.0002453968273855071,3.546261166282764e-05,0.00038844100227097687,0.0014927216062098473,0.002040625694491832,0.0007167194632753296,8.072203264803403e-06,0.0004701187182557499,0.011260961607988434,8.818553500787196e-05,0.0001327509004737612,0.0005962469660076532,0.005527992286468789,5.524522154059305e-05,0.0005605058542671533,7.310716961484215e-05,0.00037114737636845734,0.018208155588015487,0.007718282375461999,0.00034350020971071483,0.0073964424876770945,0.006193696899961635,0.0006335940263664293,0.000489763663186851,0.0005401474280561936,0.002370377172854703,0.0009581922249652197,0.005310060781119852,0.02893761315972071,0.00026126286611193847,0.003689320480048206,0.000316813751152638,0.0006006064721588942,0.0006329723951362042,0.0013851441746227985,0.0016924983532342003,0.005018033726038885,0.00017602820613453625,0.007215248217755406,0.014515873713528887,0.002819886107247983,0.016572938605088468,0.0034967703476653754,0.011961154108755126,0.027267765388412413,3.601065398274376e-05,0.0011446599996818969,0.005991859072283002,0.0017542461628381255,0.0006826929453310922,0.0009655938154466406,0.0020910823860666606,0.003525942100567889,0.005568277923687344,0.0020172344805755764,0.005428171143635559,0.007394248668121875,8.247668765131371e-05,0.001596185909157909,0.0020698583221789805,0.00011356657549986013,0.0004053708254167317,8.831610404755928e-05,0.000576275034322925,0.0012916090861173658,0.0018237459800164568,0.0003345891662109749,0.0009023848211099363,0.002449712993089534,0.00017962454526889143,0.0002989510573408091,0.001137298835757453,0.0007858041936217484,0.005999572084965011,0.0008664120114465995,3.278700594136684e-05,0.001021172756673792,0.0003755741559059749,0.0016492702506918473,0.00015620694137595775,0.00016996189293441515,0.0008519888925103991,0.00301811054541809,0.0008260170140734301,0.0060089527967197125,0.005877714014889963,0.00026242880125235346,0.00019154254478915964,0.0004115122066818673,0.001647666361533437,0.0017696167215994671,7.706530648127633e-05,0.00011497024892374891,0.0031151514194375472,0.00012093340723996903,5.854514030263179e-05,0.0004368484605731531,0.0002351689451182886,0.0007241211844369661,0.0001588632654787463,7.283439449957237e-05,0.00191969939495486,2.097964202033217e-05,0.0005975208858745363,0.0003405396634053604,7.210316817431243e-05,0.002333860332299137,0.0002177929304285592,0.0058689733868862596,0.0013282441575133118,0.0015400281531833496,0.0004499724698129796,0.0001316867587710874,0.00013801720154220972,2.0418855486552336e-05,0.00010045647529786022,0.001044660486329575,9.368843399875198e-05,8.809334604741379e-05,0.0004838426477781009,0.00018914417838865924,0.0003305101325453673,0.005825738382985253,0.006136439395481443,4.2069374422287005e-05,0.008873783078041512,0.0023494043970505403,0.00041786969899987585,0.00010161143361525986,0.0008288468869610899,0.0009061343959137063,2.7538115477416417e-05,0.0009608789147753228,0.00012211836491349945,0.0015729108666106908,0.0010039989260849848,0.0077203877028915536,5.6761107078771286e-05,0.0011853279793395378,0.00012428277641372595,0.0001765091893683433,0.0009376459991184928,0.0022669007084039523,0.00013665688282670456,0.00027996820934805393,0.0008590698250411697,7.35586758773968e-05,6.406000144541786e-05,0.0008702300878599833,0.00041218869248410415,0.0024283112788825827,0.0003595199918099335,0.00024364609595253713,0.0003152909666853723,5.961136654302196e-05,5.948497008305876e-05,0.002383606910265327,0.00011953042380544303,0.00018134027985670803,0.00025578084277633716,0.001270187933072285,8.500360013242054e-05,0.0008733085963921652,0.005517459034192347,0.000789374669662872,7.531280277143844e-05,3.079008482681056e-05,0.00023611859332368449,0.00045069367484977687,0.000436151351013501,0.03131651372058851,0.0013210557139062388,0.002244630243835653,3.261002930786458e-05,1.591558965409528e-05,7.380822235556576e-05,0.00018061862359320253,0.0044321335258840884,0.01739481772265001,0.00179439477729145,0.004058695326108194,0.009071804645168456,3.847009008265992e-05,3.9743325186623847e-05,7.277188323271976e-05,0.04379103177283411,0.0035838886480848674,0.004349653756470326,0.0011964445788144114,0.0010047084465167608,0.00010021135502826191,0.000511927089920798,0.03389999253080914,0.0006351455020172794,0.0010197550281673107,0.005866527372507544,0.010130472996519643,0.0038746348883185863,0.007728911535265089,0.001051751812366185,0.0013944445299081953,0.001034708155163175,0.021985505726928624,0.00019542092821026063,1.950218006539006e-05,0.00014518690246774255,0.00044648661114834667,0.00011538804813582046,0.007538714667410154,0.0011866999910182514,0.03226284115753414,0.000918003117752325,0.0043731364859468285,0.0060268813782504115,0.0005255424915457478,0.0023359593944772216,0.00013257275033375175,1.6626979967806026e-05,0.0007240971346429995,0.00298744390812915,0.005648987087776639,0.0010479948128213964,0.005803804286598166,0.0019595811723250975,0.03116123526117732,0.0014755356885044267,0.0010602791930028471,0.0003403297788281146,0.002237255705941568,0.0001607718479841608,9.386011990160408e-05,0.0007474311685719745,8.890786280782816e-05,0.004873225651923235,0.004180057509301832,0.00016147640964344552,0.0009584286141515813,0.00014648871050189352,0.00026188892158817366,0.0003964939590514667,0.0017257844606697994,6.892078981112374e-05,0.0005024615580011577,0.00039404770570166124,5.944546388327325e-05,0.0002924776344723401,5.994108517916396e-06,0.002546379509592377,0.0003738835577877677,0.00010134891425425273,0.0010625463109931797,0.000566492238154399,0.0002197350579016102,0.0001321671780946904,0.0005143110691626545,6.12261755512794e-05,1.7128863460162426e-05,2.118655797639472e-05,0.0003077714449835169,4.263818835671167e-05,5.821272977218069e-05,0.0026491091551234082,0.006468903048652907,2.336459308674156e-05,6.938641572971842e-05,8.94077601600023e-05,0.00010395898331099217,0.0010588902115241101,1.7720303163956436e-05,9.891759887832932e-05,0.0015400267861669476,0.0001537632457748225,1.1859590806885537e-05,3.75522594385041e-05,1.8928869373584013e-05,3.462018829907901e-05,3.884927144644913e-05,0.00012860306245579322,2.476227770314213e-05,4.225526093053374e-05,3.97530254641624e-05,0.00014155403698410649,0.00012893415403417093,7.1551914445636915e-06,0.0007387948334305278,0.002264494255569265,3.984729448830899e-05,0.00013291180781626385,0.0008302930607793544,9.82636697497604e-06,9.270686099613413e-06,4.0793087261212085e-05,0.00032751837504597583,2.8811116290476295e-05,0.00047262204604522353,0.00017051688736287107,4.449154625440158e-05,0.0017920057931959295,4.658787060273141e-05,5.1517194773683166e-05,1.778878294640755e-05,2.1882747219251058e-05,3.774153698381341e-05,0.00022392078813335804,5.90487096772144e-05,0.0012390758945952697,0.006463150973954197,4.933129912015398e-05,0.00012774306492657831,0.00030871561798466397,1.9173606956286657e-05,0.0004546331729128758,0.0005802950148217696,3.391474990294295e-05,0.0008658954253569938,3.6363589282844733e-05,1.2238406888997127e-05,5.3715101135919304e-05,1.3866588234634958e-05,7.570802472368232e-06,0.008153703461017327,6.164682780336444e-06,2.4941844588402095e-05,0.00010030870722706551,0.0003155119452531794,7.226073802213222e-05,0.00020393006633077126,2.159292037261715e-05,1.3399360345989233e-05,0.0001224065866676392,6.728987894981762e-05,0.008415416452910395,2.6847629261181853e-05,8.15074036265379e-06,8.301445083825799e-05,3.178118449599149e-05,0.0001031900505243674,5.6460377147001094e-05,0.00011875965427634785,0.007371943569101516,1.3603348283137776e-05,0.0005026850880619404,3.67529222975639e-05,0.00022883465531186556,1.645588337718536e-05,0.011392036440181283,1.2870988314380517e-05,0.0010570071620130141,2.948416943710506e-05,0.0008076648174464436,0.001431370495949744,0.00128010863570875,0.00023407413228034203,0.0007836574296595927,5.758964132760537e-05,0.002586683495805931,0.00017097190907721936,0.00029668301299590617,0.0005316016481394746,2.617213071858196e-05,0.0003332153220705913,7.810469477299823e-05,0.0009900573405354943,3.080754247819742e-05,0.0005070855025479423,0.00013495073173623183,1.9669141238067632e-05,1.9375299831057338e-05,1.7073930295077827e-05,0.0013276023341225111,0.0007227489625031037,3.482043397434875e-05,0.00010133000635062625,0.0006284488480334755,2.878714755459223e-05,8.585868222635895e-05,0.00025010397958945193,2.583217438805618e-05,7.3638553434686526e-06,0.00015046425491218682,5.670341550949057e-05,1.5304324972079148e-05,3.0957990169620506e-05,8.437157200386221e-05,7.718318074501731e-05,0.000588568547048514,2.745908526486087e-05,1.732286679074066e-05,0.0006241232408068818,3.174685224258364e-05,3.0257944829675285e-05,0.00010560369127327805,9.623379711802737e-06,3.458417091775964e-05,5.507486857983965e-05,7.850474941146548e-05,1.2142087835768105e-05,1.0874364017385989e-05,7.945083730782913e-06,0.00042379750612684026,2.3854731052528442e-05,5.317705612088741e-06,7.174972087259485e-05,2.0913119501389647e-05,4.7279506538057287e-05,6.375346225347071e-05,2.5399957830677984e-05,3.7489086553271885e-06,4.141129536154108e-06,1.6042197560447117e-05,0.0003429078736535871,0.00011502575737148678,4.735512840637432e-06,6.466129368794059e-06,8.184833483486707e-05,7.704889733077735e-06,5.411454227812154e-05,7.0570001348097815e-06,6.479840985505485e-05,1.9374699320120413e-06,9.514638715703344e-06,5.919822225934557e-06,0.0011741242501976563,5.2361179023384315e-05,2.2396086591540053e-06,1.6306056578064183e-06,0.00016245767996645816,9.51885983236549e-06,0.0001122047820637468,0.000170048101514226,0.0002347812262699634,3.937026449009783e-05,1.4929809193927775e-06,4.416727294610849e-06,4.767214963255372e-06,0.005672454799360724,1.4039160353496026e-05,2.469664252394935e-06,0.0029217635691425516,0.00011205091822616753,3.7075719945708865e-07,2.148128700446355e-05,2.3573818056847048e-05,2.420004728582357e-06,2.362520903951238e-05,5.247802222358405e-05,2.492721789836815e-05,2.5008806704439945e-05,3.6054890151725877e-06,1.3893232482325428e-05,5.89381508921719e-06,0.0002361223094804685,0.0003468281773511821,0.00012542623641845506,0.00017159732314031307,0.0009015598333564968,0.00012573468793952253,1.295865937287481e-05,1.7931584927150222e-05,8.901048631045771e-05,3.597493413652055e-06,1.7172528052636062e-05,0.0043554454388795415,7.5136805104564216e-06,4.864303093599324e-06,0.00012461754342280251,7.382039488876355e-07,7.706012245494019e-06,3.409109194713751e-06,7.952571214552766e-07,2.4610721828480478e-05,1.975411538390168e-05,0.0005132475899544957,7.844523859343031e-07,0.0028739727704424575,1.1119559076726855e-05,3.113804588606922e-06,1.0055972916804768e-06,0.00011524204262890361,1.4592321678469874e-05,0.00015334142692774943,0.000247332818343093,0.018337011892532555,0.00047861992330209115,2.0734579866064045e-05,8.141827665279783e-06,0.003869349855152414,0.00012761770930446985,0.0002722441314389971,0.0002637389538585101,0.001694608752458229,0.00010369150064701914,0.0005993412463780426,0.00020062047340005387,0.00020999509060717482,0.0010201713067977513,0.00011152451232796962,0.004415104752475852,0.001910773532580874,0.000355514627518065,6.021302939405793e-06,1.9614928431597318e-05,0.00022530589851542718,0.0020597894151524977,4.966806627938132e-05,0.0020268562726642996,9.924787963660312e-05,3.975622638561691e-05,9.560224016128514e-05,0.004294681988534334,0.00041631029022065505,0.00041321648208806445,1.4029786120968411e-06,0.012019928742150932,0.00015395813772206795,0.00024667693215576163,0.0001778061053438727,0.00190668274918817,0.004551908913239284,0.0062185744546947915,0.01541409272100785,0.00010783484037159058,0.009633763591099399,0.008931832083590607,6.478590910744999e-06,0.0001846703108297201,0.0021129989115895717,1.1711907105046668e-06,0.0347894130154243,2.4225163667606455e-05,3.318670940670576e-05,4.523745366914095e-05,0.00019815279247890395,5.138361318373258e-05,0.04598823203992309,0.004681605997150172,0.002781477436822616,0.013409828622986003,0.005506572147022407,0.0022822749728911617,0.002261394212899399,1.4195745205253154e-05,0.0049523630762921145,1.2042876924234819e-05,4.7604561140416495e-05,0.0035234708702305572,0.00041209270181772923,0.002112195032050533,0.00014447676402621712,0.004234042488127283,0.00902858433606689,0.0009602435444662057,0.002018040726157639,0.00010605963157796933,0.002807808112935445,0.00018129360151015236,0.0005643792885269426,2.2690276669965788e-05,0.00015193953978715076,0.00010365959886071588,0.0031579920351850607,7.84887448020623e-05,0.00035281447775996897,4.639654883013406e-05,2.1576436462671643e-05,4.761550869306048e-05,5.406008572603685e-05,7.40891609121525e-05,2.26164749659125e-05,0.00010651274121551553,0.020906493249841097,0.006682447158377267,6.48221973425781e-05,5.93751137054699e-05,0.0001706713130052363,0.00022309072312298438,0.00019822078405699886,0.00048445184857093975,0.006283965407382443,6.237870847258276e-05,3.9991410783780605e-05,0.0002548161517823343,0.00013366456556278803,5.893408725743186e-05,0.0004579554859847712,0.0001717266887489295,0.005127279763599766,7.005420634264775e-05,0.00018221513057541572,0.0013092649881652997,1.6949237627984215e-05,0.00011242663779005121,0.0009720374298277418,0.0005439747706085576,6.726097479136826e-05,0.00026298812949384606,0.00041424219586207634,0.003706652234254191,0.00018410486800715572,0.0002927007641950266,9.095467516929792e-06,5.0890750312299496e-05,5.13539160481466e-05,3.69455777575045e-06,0.0008777821445672676,9.222548079435838e-05,6.529579984899635e-05,3.0015616600191625e-06,1.744689560704312e-05,0.00014194018099994055,1.661786748054466e-05,6.410017768686812e-06,1.8120277184830325e-06,0.0002733330334404149,2.4426501980964338e-06,3.4326378610532347e-06,8.295777460556669e-06,0.0018238270007676657,2.284692622960451e-06,2.303310087589549e-06,2.0765402205653862e-05,0.0002534428636718697,6.517229408416385e-06,1.1226074111462187e-05,7.705226650825161e-06,6.138173819480119e-06,1.4275123829130223e-05,2.0957922409269896e-06,0.000881639945989346,1.8758658375835193e-06,3.203272400372421e-06,9.084008834940954e-06,3.901340850494385e-06,4.055434398655849e-06,2.9069435313329586e-06,5.130698555964689e-06,2.897566996510713e-06,0.0002725107593349963,4.743060488627494e-06,4.210114457803099e-06,3.0026737061607928e-05,3.4733018527021757e-06,1.782912952845383e-05,1.283528930271591e-05,6.707159846297302e-07,2.0667421429455952e-06,1.1011350413000621e-06,1.2687432878999866e-05,3.239611581236666e-05,2.775850127839657e-06,2.2993415273065503e-06,1.1827309412154177e-06,6.331149458918146e-06,3.4362829330941908e-06,1.0173306323474867e-06,1.0011358318326324e-06,3.5852946424897994e-06,5.584379680758084e-06,1.0266989454908531e-05,7.032404306358063e-06,0.00023619958766908257,2.3397846463676082e-05,9.024783624335517e-05,4.5554105092622e-06,2.021132163510407e-06,0.00019236849162626398,3.2337108366259772e-06,3.0206773433599055e-05,1.2064922856511304e-05,8.79955366011921e-05,9.187339093087171e-07,1.1430535619779257e-06,2.4620346705118752e-06,1.5007529492692037e-05,9.147370267022547e-06,9.670022978488411e-06,1.0498777741293732e-06,4.623422308336583e-05,2.721207820029478e-05,1.8191955210997762e-05,9.636922679277262e-06,2.1183452659108524e-05,9.076941714343181e-05,1.4044499548713553e-06,4.211002264511407e-06,5.120737476529696e-06,2.316710633359873e-06,0.0002750688948420852,0.00021394989483220416,8.619929756598514e-06,2.7486078576809926e-05,4.657140535487341e-06,1.3821079804698042e-05,2.651788277904195e-06,1.0368526730232715e-06,2.6582002847779773e-06,4.516910884360279e-07,9.304917569415369e-07,1.381473794874613e-05,1.78506203967032e-06,1.8419717731313213e-06,2.1253905199648553e-06,9.32573023350304e-07,0.00011769640557924126,6.893604555673284e-06,5.921007219770286e-07,4.5905836575338417e-07,5.862000173829312e-06,2.924145195119414e-06,2.9216349475329908e-06,1.2122551611556118e-05,2.4848613796979864e-06,3.180460507967168e-06,2.8253033688743356e-06,4.1900640694830255e-06,5.80923734015691e-06,1.4607331011721916e-06,4.028990851585413e-06,5.9757669462124195e-06,4.6622786458663e-07,4.1308332195179496e-07,2.3088132492782884e-06,5.2736065563244264e-05,5.791647593826787e-07,8.07336386553758e-06,1.4662505023273635e-06,5.445384645894018e-06,2.961324694783477e-06,8.127658680338705e-06,5.133526813578408e-07,1.107194177411813e-06,1.0047907215385419e-06,1.0042035479759477e-05,1.006436835006637e-06,1.2066822575025844e-05,1.5410865595532065e-06,5.466366947356295e-06,1.4435313870626595e-06,2.194719449048086e-06,2.4556547746655903e-07,3.748739513207693e-07,2.0698797180497884e-06,4.731703143729278e-06,2.3640552262569745e-06,1.3897443343561669e-06,2.3239953825416788e-05,3.2877775800179263e-06,3.626246736889622e-07,1.1265150960069142e-06,8.815297123551143e-07,1.489353659742277e-07,1.7737870753228245e-06,8.417090104287077e-07,2.31622761297375e-06,4.3660230974745405e-05,7.23418407696182e-06,4.694655386121723e-06,1.930914876019419e-05,1.0114644424433965e-05,4.847859769488964e-06,4.642685785629054e-07,9.062600953425936e-07,1.0566485322253091e-06,6.3246015223152925e-06,7.338401005405145e-06,4.280485087729528e-05,9.776234478733856e-07,3.3748827333552562e-06,4.227351393849621e-05,1.3934058551905113e-06,2.613200732211535e-06,3.3307990141490773e-07,5.066790970282553e-07,1.2063980715046702e-06,3.380454996725465e-07,1.7854364006834758e-06,1.6500483926935485e-06,4.7317815045978025e-07,8.318693296043634e-06,1.8191934235797365e-06,9.841941943927886e-07,2.754900833061737e-07,7.52580037099623e-06,1.864399689094324e-07,1.2215983027167619e-06,6.559498215704216e-07,3.5517104687167793e-06,7.470258451145134e-06,4.6830935900000613e-07,1.100102882374823e-06,2.5469035627527076e-07,2.3150735365794436e-06,1.511565373166807e-07,8.047340447439211e-06,3.8977454533734575e-07,1.8061915824920497e-05,1.497084276210044e-06,4.408550612294342e-07,1.06233990964232e-06,2.9818546611047737e-06,1.1789960476276082e-05,1.4662285036471403e-07,1.4337362283092758e-05,8.011101623710102e-07,3.604947490115548e-06,0.00019752286428501825,1.6162269887081195e-06,6.862033659484112e-07,5.40568238564493e-07,1.1343021443154461e-06,2.4497041967503924e-06,5.497911752460818e-07,6.895781396749347e-07,1.4704463922181975e-06,3.577107221353105e-07,3.900936337880921e-06,1.844948959438319e-06,5.122278641646538e-06,8.927527316224133e-07,0.00017155176493248035,3.324108377397552e-07,7.08114122784166e-07,1.580162726444249e-06,1.2436903611862172e-06,1.0388412246906374e-06,1.6370122723288876e-07,1.953733346036085e-06,9.066291877302837e-07,6.533640544111889e-06,5.094666732311662e-07,1.3866987324657443e-05,4.5455557935421803e-07,2.173522939288584e-06,5.942001761227579e-07,1.2038203209376276e-06,2.049719667690709e-06,0.00018052645183220351,4.4933878547142986e-07,8.667401294204569e-07,6.121557818870688e-05,7.411714550055134e-07,1.2908567924789432e-05,4.5743772855003416e-05,5.597096405698941e-06,4.415050834655715e-06,1.104186397713799e-06,6.163221604511933e-07,2.3035335798013797e-05,4.320253900072361e-06,9.180937063741736e-07,1.3372552389995285e-05,2.433197240285759e-06,1.2304547011305995e-05,2.952955363008984e-07,7.387421310189762e-05,1.0869732399071021e-05,0.0010026713497369815,9.494943995343158e-06,4.817439532788219e-07,3.23700589796587e-07,9.005262905129912e-06,8.73650421674162e-06,2.743337610915846e-05,0.06065047517113909,9.180568008063423e-07,7.86985447235601e-07,1.7534863097555894e-06,1.7095648113326905e-06,3.7919892274626027e-06,0.0003284952384852107,0.7723550095564327,0.0001731438721159296,0.005074242249239035,5.052651266261225e-07,3.069557989598218e-05,0.001010307834609164,1.7811444677658927e-07,0.059790205052137224,3.0858546362811135e-05,0.05113156670992268,7.336390273446023e-07,5.648694473264511e-07,0.003723927007838618,0.0011478292509922304,0.0018901994690231753,0.0005106461012195858,2.292588494466702e-05,1.6885924526898371e-06,0.004567052469470067,0.008356348656438544,0.0030674145107657943,0.00039102610019974265,1.5975393178809125e-06,0.000704582362534545,0.0001929587647176938,0.0018875885590414487,0.003031884658574728,0.00033985561946002263,5.778744491679189e-05,7.788966117790833e-05,0.0005442363840095735,0.0006882118716714667,0.000305378605220752,0.007390769806459575,0.0008028200661334605,0.00021062971180223745,0.0001689673868875764,0.001147925466845332,6.55010738418788e-05,0.0008268824531022877,3.698346201089849e-05,0.0016037354160402268,0.0004674624354243365,0.00044108797547176933,0.000659692520904546,0.002827242540842618,5.790791871057233e-05,0.0026495592446709104,1.611730274155068e-05,0.0006560497866543104,0.0003789530596242769,4.193126416180536e-06,6.689765456912523e-05,4.475500508555049e-06,8.559850605093313e-05,0.0011597380032639256,0.0005270599042224991,0.006659502353890725,0.0014646561130056586,0.00021413806526461126,0.00012773302667597587,0.0012320901101792415,0.0012505086358862686,0.0001928429958305926,0.0001558226752004386,2.4181036231296308e-05,0.0002727935539622336,8.634668146671147e-06,5.662399155623028e-06,0.0019815257423050773,6.851496881767814e-05,0.00016150573415204953,6.587252342975943e-06,8.64219030903902e-05,0.00011084494455002524,0.00011346509244125544,0.00015125994383908105,1.5838476819349873e-05,2.4519310115342624e-06,9.91405484965025e-05,0.008047860178193226,0.01668555441154869,7.886763886151796e-05,0.0024578382554051484,0.0012765621399672775,6.36861692904265e-05,9.279906473256291e-05,1.2125443810978738e-06,0.0005200817212499848,8.417360027637174e-05,0.00018459030876189747,7.420756532180698e-07,3.1888844376303974e-05,0.00018826094785344126,1.5279291164432565e-06,0.00044204779971559105,1.6750008724664365e-06,8.976622094265066e-05,8.102359915672197e-05,3.506620586976643e-05,4.4253806803713313e-05,0.0014568563610681481,3.492537107485582e-05,0.0010800597946159923,0.0007491330956773377,2.3233088720046462e-05,0.0012356157295213576,0.0002909580237078576,0.0010976425297151687,1.2210549035995617e-06,0.001651163972630773,0.00019213765987557155,0.000310581148460918,0.0004399973258543773,0.0006251108594771891,0.0004170280044488999,8.315758264974965e-07,2.3677884851085927e-05,0.0013449851925885236,0.0003234744554968577,0.00014498568282125446,0.0018367913743111072,0.0001983885286097452,2.3385468957642745e-05,4.309949064938889e-05,1.4356555082689866e-05,2.0043915786691734e-05,6.348602268245733e-05,4.773375088473998e-05,0.00012459423775545915,0.0006355237509303674,6.198673552266458e-07,0.0029039045131713306,1.7055107793215988e-06,3.2314888850952614e-05,2.753239542054093e-05,0.00011873402254296762,1.1982303681082403e-06,1.2098302420221337e-05,5.937149621802367e-07,1.7409518708776847e-05,6.533964093806538e-05,4.6715343726309476e-05,2.1178056229835918e-05,0.00010615552029727375,8.202609900872698e-07,6.527100744474521e-05,4.335133564996549e-05,7.439241587008761e-06,0.00015271706278360088,4.9906988505332046e-05,8.964593315316597e-07,7.499468805277854e-06,0.00029863088109281354,8.213756516236134e-06,0.00010471010727684319,1.109274995536528e-05,1.0742703175203982e-06,2.007283265148747e-05,0.0008140647525366085,9.15384416944755e-05,1.943813806841827e-05,6.610699139582483e-05,6.325995788711042e-05,0.00018536556554127294,6.469543750373555e-05,6.646185879376277e-06,6.3669440619645525e-06,1.7983568396055037e-06,8.353233518135224e-06,2.4686653190908182e-05,0.00021483807245875207,9.73231100267132e-06,2.0590130341539327e-06,0.000173333075187493,4.0615944341078916e-05,2.201625756808948e-06,5.564987273933895e-05,2.2885273304705353e-05,6.033280689989189e-06,4.904829949298689e-06,0.00016880919174228344,7.369798329814533e-06,7.006728534122804e-05,0.00024247291842325854,0.0004783629869078376,5.4513360552708645e-05,7.877076650671726e-05,7.166178687019742e-07,3.2801122689327978e-06,9.888386867311641e-06,0.00010900304507360148,7.447431205875329e-07,0.001734476470824795,4.077345957293828e-05,6.853704237420832e-06,2.409979998126311e-05,8.426192756872008e-07,6.010902991531978e-05,5.068868883416379e-06,1.3525484421201106e-05,5.260991124277652e-07,4.3285173847217565e-06,8.347022218925239e-05,1.0774988550458679e-05,7.579854937719335e-06,0.00015451955431994806,0.0006405972400846682,7.566088506077703e-07,8.27931854673458e-06,3.408029381353948e-05,4.957853831262303e-06,4.229790382472167e-05,9.06540705976055e-05,8.13062983453638e-05,5.462009304692691e-06,1.0767122511601463e-06,1.4288397855897415e-05,1.0809510076232877e-05,0.00027756258347949434,3.6602235905918396e-06,5.8746830563017305e-05,0.00041123827006073687,1.967245762442711e-05,1.7551650743133392e-05,3.202166208796713e-05,4.4329185648602084e-05,1.8207427404421588e-05,1.1358920394787497e-05,0.00028476795073059766,4.6286633186487505e-07,7.90077649641559e-05,1.906693334990791e-05,2.520347849832278e-05,1.1908772727758328e-05,4.544960316933491e-06,9.080708485490325e-06,0.0007221864357529587,5.84345099937616e-06,5.510143270948055e-07,2.5279620547597347e-06,2.2549932677203404e-05,6.656832834194531e-05,7.473067574708601e-06,8.333907062484691e-06,4.549045140496711e-07,6.841363063223981e-05,6.7058842266714335e-06,4.85233566690978e-05,2.826458856897626e-05,1.1049046891202339e-05,1.635480737417242e-05,9.141293022114381e-06,1.1499793771115357e-06,3.907438622503561e-06,3.4897395662149253e-06,1.764583418419421e-05,1.1937047065953761e-05,7.146722540911349e-05,5.839739794890575e-05,7.281401745398452e-06,1.8532316040766675e-05,1.5555258196870442e-05,1.6827738373030558e-05,3.4387628877583297e-06,2.7657578376455192e-05,8.1750619148679e-05,6.61370395748101e-07,6.737704796155158e-06,5.518436611146164e-06,7.039625907283755e-06,2.5312244041292246e-06,4.66840948688079e-06,2.5354458220195494e-06,7.947848416605156e-06,3.6727246419900802e-06,2.6333394838297154e-06,4.956577892423142e-06,0.00012366901489647655,1.156195761609613e-05,8.241189395820009e-06,2.7205815578274988e-05,1.6918373165671472e-05,5.726887220235846e-06,4.800384909903428e-07,4.885417744333167e-06,2.8240536486186595e-06,6.132022293653382e-06,7.855766135634179e-07,3.9107594097520665e-06,9.35230749538209e-07,3.7780863332619696e-05,5.280368107390054e-06,2.876677958874747e-06,8.879292696870909e-06,5.031058873954884e-06,3.699717597725128e-06,4.03063985954737e-06,1.6764756915632952e-05,2.1768952159533793e-05,1.1750249280811983e-05,3.649183090804671e-05,1.3065381028495315e-06,1.1049801176824792e-06,5.838233410973067e-06,2.54522521198788e-06,2.375759702409724e-06,6.913416774468855e-06,2.0540336843460263e-05,2.053610800578707e-06,8.28505865571669e-06,2.9078567979400398e-05,5.401266450188877e-07,1.0940109338449505e-05,6.489722216762386e-06,1.884920639976794e-05,1.032184725129387e-05,0.00046823545542301875,4.578927584479361e-06,1.511347471446738e-06,3.842765790921721e-06,3.827354728360945e-06,2.818867893789311e-06,3.648515628022362e-05,4.800244874295915e-07,8.9589523854689e-06,8.498549153917017e-05,0.0011437431047664867,3.7062946313241177e-06,0.000746825652718027,2.416595142916146e-06,2.4146122526402024e-06,6.337465196165408e-07,6.2976659458081705e-06,3.574703454804794e-06,1.853955153781261e-05,2.552844411259691e-06,7.965140075164348e-07,3.93244496233749e-06,4.357630266003335e-06,1.4444198103230729e-05,9.066814310303452e-07,3.696955893415415e-06,2.6286206840260617e-06,3.2369073728906568e-06,6.46311414127496e-06,3.3265967897102237e-06,3.3148032340944676e-06,2.6775428292653064e-06,6.438900144332284e-07,9.137901532860806e-06,3.309998572900009e-06,0.0025297968987277168,0.012957966418280713,7.004212595067937e-06,4.862398697927078e-05,9.298488277790017e-05,1.2485116354777926e-05,8.312214975084518e-06,0.003765409645095321,0.0014442992405499337,0.00019296204965209372,0.00013748843740000452,0.010238896797544432,0.0009216489435696779,0.0006472948381095953,9.398925623632395e-08,1.287847964550666e-07,0.00014320485468970976,3.1893270644360094e-06,0.00010501120808413648,0.0005213974925558512,8.989685890835078e-05,6.325150060822082e-07,7.19698410877834e-08,0.0007094451408618183,0.0016414394254193145,0.0002816119603994977,0.00016533627691770012,7.75587088009376e-05,4.52256111515174e-05,0.002551646969983611,3.790838576652167e-08,0.00011065336596390867,6.775826171482453e-05,0.0001909661872782974,4.0626887868852706e-05,6.027434606783797e-08,0.0001298457394781434,2.3275014797315987e-05,4.0761653657180514e-08,1.516493640198141e-06,1.6150170417432244e-05,1.3175361839994064e-08,0.00029660493433153457,7.638774345414907e-06,1.996276189285263e-08,1.3705113140301586e-06,2.6581333364916376e-06,5.980519968377324e-06,3.1569081474964437e-06,2.1539380802823467e-07,8.034951513145628e-05,3.470642884544569e-06,0.0001804993503623445,2.063982530581796e-06,1.46776509353529e-05,4.947620410652127e-08,6.137992524476459e-05,9.487093255036923e-07,7.122979255636466e-05,3.6455353559617085e-05,2.3970210137540113e-06,1.726420922820545e-06,2.5959306899058308e-05,1.1303928481364384e-05,1.0336779384796839e-05,2.4396978485997226e-06,1.1036961350857031e-05,2.5582478770483945e-05,3.1462910563310785e-05,6.423304731010924e-07,4.342260987346822e-05,1.1386584627622046e-05,0.010701475734538508,4.381169810231051e-06,3.055765106801156e-06,6.0025050285083025e-06,1.80916074731485e-05,4.595264647690273e-06,0.00013585288456609366,2.7031992510950216e-06,4.362941900260934e-06,3.2907268732853504e-05,3.069681849656473e-07,2.9380238336836374e-05,3.9327245555012316e-05,1.2670368782108848e-05,0.00030201064568113374,4.188240129280631e-05,6.087570811745587e-06,9.548735157913783e-06,2.665460698587577e-07,2.8021648196006196e-06,1.0154025540815053e-05,1.716543526990084e-05,0.00010025407678285275,0.00036109419378138786,0.000320023763626088,2.2555643515677124e-06,8.328889081593563e-06,7.989780998981133e-05,3.136633220001585e-06,7.003881131993548e-07,6.322285925686505e-07,0.00014774701448112148,8.318541134575474e-08,3.102229862601237e-06,1.8604052775022285e-06,4.4465017704089585e-06,2.8351654227444087e-06,5.588576045410994e-05,1.176690144914206e-06,9.042654145527721e-07,1.0109195739500312e-06,9.194138146627518e-07,5.916177007941593e-06,7.595807448452516e-06,6.487239607208631e-07,2.3280629561824683e-05,8.284830793572482e-08,4.732938049806651e-08,6.12416229888654e-07,1.0472127357417049e-06,4.3248100250106557e-07,3.3141073530574005e-06,1.3024301559216694e-07,6.987010452694635e-07,1.3931721400362375e-07,4.3515545790750096e-07,2.518579101676781e-08,2.2244621441330424e-08,9.549033127734615e-06,6.389668098230921e-07,5.510563481960877e-07,2.8692381324080575e-06,9.06952367771152e-07,2.7632208786641006e-08,6.991470782379191e-07,6.820576279051878e-07,5.175716008045174e-07,4.5397524996335595e-07,7.297009792141638e-07,1.7581387659156378e-06,3.839800315802114e-07,1.194612663273951e-06,9.970841787524962e-07,1.8810993548093328e-06,1.4104657157373632e-05,5.102297816082617e-07,3.5641299104910874e-08,3.0453222769913974e-07,3.526913544367465e-07,8.045797389982368e-06,7.012516929258587e-06,2.924119107665869e-06,5.415101606784921e-07,3.0912209507618464e-08,7.436298682999561e-07,2.0555617715066725e-07,2.4742220799857364e-07,1.5096701496913917e-08,9.604073557934102e-05,1.486720377400843e-07,2.8199590177133725e-05,3.490881219485416e-06,3.8904567522634715e-07,1.0032015254679215e-07,9.007323119238629e-07,2.4215239538411672e-06,4.457086173453829e-07,3.0121694664801285e-07,3.4077635430345937e-07,6.843453623165359e-09,2.354343086043206e-06,2.747730854839521e-07,3.2407141253840877e-07,3.557336638626903e-07,3.811788243930245e-07,1.0639400117222983e-06,3.0077489334186687e-07,2.743849290149996e-07,2.2012270204229023e-06,7.564225115931914e-09,2.2494898198584804e-06,3.063509073040756e-07,5.798557971596212e-07,2.719038042583211e-06,1.2620938779199514e-07,3.799109776334793e-07,2.1900697693081675e-06,3.3841100796515663e-06,3.2633286336448603e-06,7.455817642338307e-08,3.71621790598843e-07,1.3580004999539156e-06,4.09033690469596e-07,4.5056801857615017e-07,7.40625458533002e-07,6.612097241842216e-09,3.016133499957491e-07,2.2677942628939646e-08,7.341924567567717e-07,1.7335327943908864e-06,2.5074760889714846e-08,2.0434956313397548e-08,8.856002440788993e-08,3.0616273762688507e-07,2.6566178274207436e-07,5.680115685376416e-07,5.215225259141387e-07,7.4993514621655e-07,3.769402094415528e-08,1.1451559232451129e-06,3.245864681356372e-07,3.561426450618444e-07,2.916587153547515e-07,3.3322135484134047e-07,1.2198396839586596e-07,1.6399718557678896e-06,4.348217944547031e-08,3.1997528821645624e-07,2.847446225493438e-07,7.884190501714181e-08,4.0299144205729175e-07,2.526860733243836e-06,4.675755346653743e-07,3.0362019224475093e-07,2.0398547070895164e-07,3.650276682445188e-07,1.176884166119021e-08,8.342144782921504e-06,3.1072942887408185e-07,1.3749970693158855e-06,1.0610438424306973e-06,3.351018565014077e-07,8.831157220152862e-07,1.8245771792165753e-06,3.5988633409026154e-07,6.921374712883597e-08,1.6516682102527113e-06,4.223144715152081e-07,3.1479243638121197e-07,3.76992026611434e-07,1.5073762884275821e-06,4.909415429272236e-07,2.815378623746483e-07,1.507669901160127e-08,1.1930462001690079e-08,1.5800674414054734e-08,2.581561525988147e-07,2.2653842867099012e-07,7.067485750764338e-09,2.9364668585997384e-07,4.5964192455861245e-07,2.4238572736738e-07,3.749635451613213e-07,5.521023541019215e-08,7.448934595694115e-07,3.232681710652823e-07,2.4814872743936226e-06,2.0091521285376672e-07,1.212258687845701e-06,7.347190412540202e-07,4.6074847257665925e-07,3.340278561441203e-07,4.2538836758038203e-07,7.171412526345659e-07,4.5989755117703173e-07,6.760480449434548e-09,5.43954257957455e-07,4.5779220020744023e-07,5.419611480646418e-07,5.087986607197476e-09,8.724612858162323e-07,1.44868390730124e-07,5.586689484837101e-07,1.7446202747275995e-08,1.2850574720589212e-07,2.5521087022994626e-07,2.755588689701518e-07,2.582889265960142e-06,9.025728861986275e-09,6.565509179937574e-07,9.990985962815087e-07,5.293306597003325e-08,8.529524607284657e-08,3.586551210427739e-08,5.053339752020765e-07,2.1678341870934284e-07,2.366083558355703e-07,7.243922060514252e-09,9.962390777353971e-08,1.5625913876017215e-07,3.779116251331896e-07,6.375391544062387e-07,2.0813228101964033e-07,1.7387004425935874e-07,4.4226378296477286e-07,8.161824357229921e-07,7.94158227600755e-07,8.527295349199227e-08,7.928743665606583e-09,2.7451197325551723e-07,5.8572616025377816e-08,2.345176058138533e-07,8.885062893721132e-09,9.515688656347383e-07,4.1012575789278535e-06,8.191551204981001e-05,4.120999074966074e-07,1.9996092306562092e-07,3.3885031705544755e-07,5.069180979779753e-07,1.3817832869939453e-07,9.00833798681629e-07,3.608834362819645e-07,4.5036204830158797e-07,2.9806355859187454e-07,1.56604413748936e-08,3.09930922433027e-07,1.1767688496583129e-08,1.0543353192071268e-08,3.691325087063933e-07,2.587588105500834e-05,3.381636301157892e-07,8.245510977430464e-07,3.117771107696801e-07,5.315703430705308e-08,1.5552568208594e-08,3.749362691768632e-07,8.235654181741021e-08,2.1109737244199834e-07,1.59453019309109e-07,2.6085069720951227e-07,2.2855526668034945e-07,4.445176551549463e-07,1.5733976373717024e-08,3.8347929197225217e-07,4.36256254081332e-07,8.198614875015945e-07,1.884243395724822e-07,1.6584348306944294e-06,5.155729575199834e-08,4.907173010845249e-08,1.5478986325773143e-06,3.847901989986383e-07,3.490408027422281e-07,4.601964737375449e-09,4.6934728277957073e-08,3.917728282754075e-09,9.513468051665707e-07,5.770439935613076e-06,3.410705108465621e-08,2.3467673998133808e-07,4.3135369569102376e-08,1.2429221621796286e-07,2.5282892850140464e-07,2.5311093650055505e-07,5.499694047395381e-07,1.1366746203014977e-07,1.0242775808994195e-07,2.9346913469160063e-07,2.1136315519463482e-07,3.9409806941957135e-08,2.9125150012200907e-07,1.4812309702960337e-07,1.670761306687344e-07,1.481096770397036e-07,3.706856311160734e-08,2.763994351508659e-07,2.956853937304804e-07,5.7265694371881716e-09,1.300941250035954e-07,4.9834418155070725e-08,0.00910717111966253,5.383509722856614e-07,2.373775827061961e-08,1.4864775610649238e-07,7.4614088912132825e-06,5.8749310878623655e-05,0.0002337759795203317,1.4580115190948817e-06,8.564821844766011e-05,0.006946642967781901,6.998126769792986e-06,1.238716952301028e-06,6.176164288652e-07,0.00019149048395144405,0.06491498038699468,2.473531803521167e-07,0.0010749191814219037,0.0005878271479452177,0.0020482034586223265,0.0008324797766387687,0.0001279496826023624,0.0026832782150570875,0.008637054271855578,0.0050822812152190745,9.575055681006237e-07,0.00010177084335166092,1.944415933069329e-06,2.8960591746097778e-06,8.987322250287199e-06,3.5912933463641323e-06,0.002131273919730999,8.072479142381053e-05,4.834084578663579e-06,8.739110762530568e-06,0.0002904462070475723,5.113502043488486e-05,2.6083483665923316e-05,7.617422459567289e-05,1.2748660643443187e-05,5.98327105652365e-06,0.00016303919801392603,0.0010250179663880096,6.58314834723983e-06,2.6220224751769516e-05,0.00039458780836895414,3.296104619890839e-05,0.00013012794712019963,0.00020484690640657584,3.2860730287038816e-06,0.0008569898908839763,0.0001939854682381209,9.913108690172239e-05,3.15675456921943e-06,7.3862877580331645e-06,0.04152539924811481,1.2543038527785786e-05,8.397444930899979e-05,1.2553544152812324e-05,3.3776707710111044e-06,0.0002034744993167047,0.00011443681671436792,0.0001024519686703707,0.0012190016382889611,8.243448418674329e-05,3.5892715893290946e-06,0.0009044787474395872,0.0007377071942946332,0.00042999434610925454,0.0023027807171206284,0.00032833063863227873,7.546795687686404e-05,5.5215236023107565e-05,5.922689828171104e-06,7.97757291905877e-06,0.00024132386035583068,0.0003620124222127899,0.0007317578376641343,4.129943219021435e-06,0.00013187034347514722,0.00015160112005152098,4.581699909427204e-06,0.00013158841569677995,2.322344526189709e-05,7.363876107247714e-06,9.607353205206664e-06,5.7458760505942846e-05,7.697281333904394e-05,2.1868077049156324e-06,3.8566404933935676e-05,1.6646550081830404e-06,1.6980264425614218e-06,1.9360678057107838e-05,2.6843270577727342e-05,2.578121377493625e-05,3.0713625500433713e-06,6.905552926552022e-06,8.264819928611e-06,2.902289052081702e-06,2.336428143427837e-05,3.876388255735566e-06,1.8150170304002828e-05,2.3640495758484086e-06,1.5509638636596572e-05,1.6354188083410276e-05,2.180707478074076e-05,1.8576609659438412e-06,7.410793994262306e-06,1.710167623119149e-05,2.541433574419926e-05,2.1622669164177036e-06,2.12580126762733e-05,0.000126182476594495,1.2057241932458344e-05,3.6370099766335767e-06,2.737996418337246e-06,3.164665087344984e-06,2.058605413071297e-06,1.4774700867301984e-05,1.4701666958917285e-06,9.41577394057194e-07,1.8247465197934231e-06,4.911572591178807e-05,9.184380173054904e-06,3.856923303840569e-06,1.0664061780429119e-05,1.2632319271880071e-05,9.934487045860934e-06,1.934483303176531e-06,2.3156307661125427e-05,4.4273083522868136e-06,3.179778544882166e-06,8.719530778652327e-07,1.6068854701457475e-06,2.518330847085994e-06,3.355241985437739e-06,4.708488372110617e-05,3.4991917664771776e-06,9.107889082555231e-07,1.0671897757343532e-06,1.1860981265711913e-06,1.2635906908623523e-05,1.557183666912182e-05,1.0205711627523734e-06,9.43583314608994e-06,2.1851521260299825e-06,1.9838322319910676e-06,9.57205426608034e-07,6.40652195587011e-07,6.05793616183421e-06,3.857628546109378e-06,7.912603986029801e-06,2.5429131265086096e-06,1.4166369111741206e-06,8.77859948968102e-07,4.4893187402573135e-06,1.5934979957470645e-06,7.318330818853887e-07,6.481416059653854e-06,6.78799090430436e-07,3.022516528857795e-06,7.3046656535694e-06,7.046105539411735e-07,5.171231056245147e-06,1.5661982790404161e-06,2.1534798194548073e-05,1.8387959801939027e-06,1.921537209413039e-05,6.341259562555337e-07,8.008939692084209e-07,1.7407775079263031e-06,6.581984818403854e-06,6.9090440958149234e-06,5.07809182926504e-06,2.5144926741916595e-06,7.649796537198114e-06,9.186199244825537e-07,1.6314790099214685e-06,2.0146126747122194e-06,1.2670971585664487e-05,4.3738505729151204e-06,2.454054598816269e-06,2.902952125383329e-06,4.503158069601561e-06,1.090823838632923e-06,6.449425385773632e-07,4.17997030950672e-06,5.250198937177566e-06,1.7564121323940433e-05,5.299722771110527e-07,5.564939263350456e-06,6.735027296247775e-06,3.040288213044786e-06,4.930622139988472e-06,5.677289567709544e-06,4.976233089220945e-06,9.233085738507136e-06,7.3870382442919875e-06,3.85902048532843e-06,2.442944158055009e-06,4.650427810247858e-06,4.1778262644097766e-07,3.722560475073899e-06,6.9836328373280405e-06,7.809080777801201e-07,6.909237977379008e-07,6.231166944704819e-06,3.876027250392169e-07,2.3946479440936282e-06,2.135905533446753e-06,2.1316977044686104e-06,1.4361777025597955e-06,6.568803383444509e-06,4.315151151543347e-06,4.769874090009956e-06,1.806196158948055e-06,8.165513928917618e-07,4.9238746652588e-06,1.9897038672618547e-06,5.606261699774786e-06,1.3478970883179642e-05,6.034323211189506e-07,6.159754088196395e-06,4.070260709830123e-06,3.861632211464257e-06,4.838184920245493e-07,3.882983720299501e-07,3.988807579496078e-06,2.0792194112526968e-06,1.2010270806438147e-06,1.13961636777336e-06,2.651574814706119e-06,3.340859206529162e-06,7.794333303766499e-07,4.976303982375826e-07,3.903927390150334e-06,3.667910048709396e-07,1.1193223844355773e-06,3.2243094239153256e-06,1.3809732315920432e-06,1.2329731401571139e-06,5.930414654839022e-06,4.340859797442498e-07,4.963203625130623e-06,7.51629974539397e-07,5.835178947118393e-07,1.0430897720841444e-06,4.042183957979986e-06,1.499931583456439e-06,1.184265507951667e-06,5.102776470904332e-06,2.6027311647661045e-06,6.65638572187244e-07,4.565623992485569e-06,5.778835135700566e-06,2.145696082280113e-06,8.883205001256682e-07,3.484624563361555e-06,1.1889709138817096e-06,4.2965619605955136e-07,6.703737321428483e-07,7.296541789820017e-07,1.4643453609291108e-06,2.8187582243671313e-06,1.3785243546962882e-06,2.8621547420902054e-06,6.6728261438472036e-06,2.492915080087488e-07,3.98585674878815e-07,4.2799537351013916e-07,8.366729105558376e-07,3.213059430377737e-07,8.630362556056878e-07,4.3045363096083286e-07,1.6252305833885685e-06,2.5064884245723596e-06,4.2552257735714005e-07,3.9576705875349025e-06,1.0214594303855593e-06,6.77014283302071e-07,1.2626763324595237e-06,3.1718188328199156e-06,3.0874384920506015e-07,6.695588398517712e-07,2.4558745603001776e-06,1.5178969026813312e-06,7.652038524147315e-07,5.221610503550215e-06,3.157621757479975e-07,4.024323578142868e-07,6.187272767139493e-07,2.3001487508686037e-06,2.0060463047644135e-06,2.95089956068004e-07,1.2949732131961805e-06,1.5120362895278397e-06,2.369165256701285e-06,5.766126877366175e-07,2.4401796611878564e-06,1.1852718436772655e-06,3.391550742759457e-07,4.680032667888387e-07,3.912184840291697e-07,7.03862203429229e-07,6.440053569457289e-07,2.2403864375920613e-07,1.2962477462947649e-06,1.1950722815272047e-06,7.683500904507916e-06,3.445341729291949e-06,3.886189587466135e-06,1.6037295358349887e-06,2.1214294343681455e-06,7.664194156492748e-07,2.5997098529408983e-07,4.4070283258793274e-07,3.724143115605694e-06,2.1848709463197863e-07,3.7796417243538645e-07,2.4280346700453426e-06,2.2765481167287666e-07,1.2393781687263447e-06,4.234503598409817e-07,1.967917829237495e-06,2.2927561779623654e-06,1.6805709531278823e-06,2.0125307581424413e-07,1.049962042514721e-06,6.5490727698689e-07,3.0770013465565765e-07,1.0185658998476915e-06,1.8239092331025684e-06,3.6428695211782477e-07,2.115928694658298e-07,2.745217581472711e-06,1.479900287145562e-06,4.661960804646097e-07,1.8415538256123787e-06,1.7493350706784835e-07,5.725505233319896e-07,7.822501817619088e-07,1.161925593645397e-06,4.2407997263431965e-07,5.286429969925852e-07,9.686687712959733e-07,3.721804545121774e-07,7.425766662160153e-07,1.381021863548687e-06,1.438631144425426e-06,1.6282223177389646e-06,1.0560085893595118e-06,1.740115493168174e-06,2.1109575512359729e-07,4.1148844252272907e-07,5.459465458396269e-07,1.6103935993013415e-06,1.352580813530708e-06,6.367212733025908e-07,1.5848741646908195e-06,1.4094386164061355e-06,2.2071679206895093e-07,1.6870312560231562e-06,1.222049477943768e-06,1.8304995151792298e-07,2.0246758835678399e-07,4.870874035484087e-07,2.1589461766651614e-06,2.2622894221369524e-06,2.2538676966692242e-07,2.4471634682011293e-07,2.1225000291834038e-07,5.188696111742385e-07,3.0597102620837937e-07,1.1687714126918067e-06,3.021249582633439e-06,1.3729819957270692e-06,6.432337582043959e-07,6.550064218105413e-07,5.238691008274906e-07,3.654228638716571e-07,9.849309737933e-07,1.0376583150769304e-06,1.0104484449808805e-06,7.942737676796997e-07,1.4641267539203371e-06,6.225273954907037e-05,1.307280139711513e-06,1.5227142600833704e-07,1.1466690247211758e-07],\"yaxis\":\"y\",\"type\":\"scattergl\"}],                        {\"template\":{\"data\":{\"histogram2dcontour\":[{\"type\":\"histogram2dcontour\",\"colorbar\":{\"outlinewidth\":0,\"ticks\":\"\"},\"colorscale\":[[0.0,\"#0d0887\"],[0.1111111111111111,\"#46039f\"],[0.2222222222222222,\"#7201a8\"],[0.3333333333333333,\"#9c179e\"],[0.4444444444444444,\"#bd3786\"],[0.5555555555555556,\"#d8576b\"],[0.6666666666666666,\"#ed7953\"],[0.7777777777777778,\"#fb9f3a\"],[0.8888888888888888,\"#fdca26\"],[1.0,\"#f0f921\"]]}],\"choropleth\":[{\"type\":\"choropleth\",\"colorbar\":{\"outlinewidth\":0,\"ticks\":\"\"}}],\"histogram2d\":[{\"type\":\"histogram2d\",\"colorbar\":{\"outlinewidth\":0,\"ticks\":\"\"},\"colorscale\":[[0.0,\"#0d0887\"],[0.1111111111111111,\"#46039f\"],[0.2222222222222222,\"#7201a8\"],[0.3333333333333333,\"#9c179e\"],[0.4444444444444444,\"#bd3786\"],[0.5555555555555556,\"#d8576b\"],[0.6666666666666666,\"#ed7953\"],[0.7777777777777778,\"#fb9f3a\"],[0.8888888888888888,\"#fdca26\"],[1.0,\"#f0f921\"]]}],\"heatmap\":[{\"type\":\"heatmap\",\"colorbar\":{\"outlinewidth\":0,\"ticks\":\"\"},\"colorscale\":[[0.0,\"#0d0887\"],[0.1111111111111111,\"#46039f\"],[0.2222222222222222,\"#7201a8\"],[0.3333333333333333,\"#9c179e\"],[0.4444444444444444,\"#bd3786\"],[0.5555555555555556,\"#d8576b\"],[0.6666666666666666,\"#ed7953\"],[0.7777777777777778,\"#fb9f3a\"],[0.8888888888888888,\"#fdca26\"],[1.0,\"#f0f921\"]]}],\"heatmapgl\":[{\"type\":\"heatmapgl\",\"colorbar\":{\"outlinewidth\":0,\"ticks\":\"\"},\"colorscale\":[[0.0,\"#0d0887\"],[0.1111111111111111,\"#46039f\"],[0.2222222222222222,\"#7201a8\"],[0.3333333333333333,\"#9c179e\"],[0.4444444444444444,\"#bd3786\"],[0.5555555555555556,\"#d8576b\"],[0.6666666666666666,\"#ed7953\"],[0.7777777777777778,\"#fb9f3a\"],[0.8888888888888888,\"#fdca26\"],[1.0,\"#f0f921\"]]}],\"contourcarpet\":[{\"type\":\"contourcarpet\",\"colorbar\":{\"outlinewidth\":0,\"ticks\":\"\"}}],\"contour\":[{\"type\":\"contour\",\"colorbar\":{\"outlinewidth\":0,\"ticks\":\"\"},\"colorscale\":[[0.0,\"#0d0887\"],[0.1111111111111111,\"#46039f\"],[0.2222222222222222,\"#7201a8\"],[0.3333333333333333,\"#9c179e\"],[0.4444444444444444,\"#bd3786\"],[0.5555555555555556,\"#d8576b\"],[0.6666666666666666,\"#ed7953\"],[0.7777777777777778,\"#fb9f3a\"],[0.8888888888888888,\"#fdca26\"],[1.0,\"#f0f921\"]]}],\"surface\":[{\"type\":\"surface\",\"colorbar\":{\"outlinewidth\":0,\"ticks\":\"\"},\"colorscale\":[[0.0,\"#0d0887\"],[0.1111111111111111,\"#46039f\"],[0.2222222222222222,\"#7201a8\"],[0.3333333333333333,\"#9c179e\"],[0.4444444444444444,\"#bd3786\"],[0.5555555555555556,\"#d8576b\"],[0.6666666666666666,\"#ed7953\"],[0.7777777777777778,\"#fb9f3a\"],[0.8888888888888888,\"#fdca26\"],[1.0,\"#f0f921\"]]}],\"mesh3d\":[{\"type\":\"mesh3d\",\"colorbar\":{\"outlinewidth\":0,\"ticks\":\"\"}}],\"scatter\":[{\"fillpattern\":{\"fillmode\":\"overlay\",\"size\":10,\"solidity\":0.2},\"type\":\"scatter\"}],\"parcoords\":[{\"type\":\"parcoords\",\"line\":{\"colorbar\":{\"outlinewidth\":0,\"ticks\":\"\"}}}],\"scatterpolargl\":[{\"type\":\"scatterpolargl\",\"marker\":{\"colorbar\":{\"outlinewidth\":0,\"ticks\":\"\"}}}],\"bar\":[{\"error_x\":{\"color\":\"#2a3f5f\"},\"error_y\":{\"color\":\"#2a3f5f\"},\"marker\":{\"line\":{\"color\":\"#E5ECF6\",\"width\":0.5},\"pattern\":{\"fillmode\":\"overlay\",\"size\":10,\"solidity\":0.2}},\"type\":\"bar\"}],\"scattergeo\":[{\"type\":\"scattergeo\",\"marker\":{\"colorbar\":{\"outlinewidth\":0,\"ticks\":\"\"}}}],\"scatterpolar\":[{\"type\":\"scatterpolar\",\"marker\":{\"colorbar\":{\"outlinewidth\":0,\"ticks\":\"\"}}}],\"histogram\":[{\"marker\":{\"pattern\":{\"fillmode\":\"overlay\",\"size\":10,\"solidity\":0.2}},\"type\":\"histogram\"}],\"scattergl\":[{\"type\":\"scattergl\",\"marker\":{\"colorbar\":{\"outlinewidth\":0,\"ticks\":\"\"}}}],\"scatter3d\":[{\"type\":\"scatter3d\",\"line\":{\"colorbar\":{\"outlinewidth\":0,\"ticks\":\"\"}},\"marker\":{\"colorbar\":{\"outlinewidth\":0,\"ticks\":\"\"}}}],\"scattermapbox\":[{\"type\":\"scattermapbox\",\"marker\":{\"colorbar\":{\"outlinewidth\":0,\"ticks\":\"\"}}}],\"scatterternary\":[{\"type\":\"scatterternary\",\"marker\":{\"colorbar\":{\"outlinewidth\":0,\"ticks\":\"\"}}}],\"scattercarpet\":[{\"type\":\"scattercarpet\",\"marker\":{\"colorbar\":{\"outlinewidth\":0,\"ticks\":\"\"}}}],\"carpet\":[{\"aaxis\":{\"endlinecolor\":\"#2a3f5f\",\"gridcolor\":\"white\",\"linecolor\":\"white\",\"minorgridcolor\":\"white\",\"startlinecolor\":\"#2a3f5f\"},\"baxis\":{\"endlinecolor\":\"#2a3f5f\",\"gridcolor\":\"white\",\"linecolor\":\"white\",\"minorgridcolor\":\"white\",\"startlinecolor\":\"#2a3f5f\"},\"type\":\"carpet\"}],\"table\":[{\"cells\":{\"fill\":{\"color\":\"#EBF0F8\"},\"line\":{\"color\":\"white\"}},\"header\":{\"fill\":{\"color\":\"#C8D4E3\"},\"line\":{\"color\":\"white\"}},\"type\":\"table\"}],\"barpolar\":[{\"marker\":{\"line\":{\"color\":\"#E5ECF6\",\"width\":0.5},\"pattern\":{\"fillmode\":\"overlay\",\"size\":10,\"solidity\":0.2}},\"type\":\"barpolar\"}],\"pie\":[{\"automargin\":true,\"type\":\"pie\"}]},\"layout\":{\"autotypenumbers\":\"strict\",\"colorway\":[\"#636efa\",\"#EF553B\",\"#00cc96\",\"#ab63fa\",\"#FFA15A\",\"#19d3f3\",\"#FF6692\",\"#B6E880\",\"#FF97FF\",\"#FECB52\"],\"font\":{\"color\":\"#2a3f5f\"},\"hovermode\":\"closest\",\"hoverlabel\":{\"align\":\"left\"},\"paper_bgcolor\":\"white\",\"plot_bgcolor\":\"#E5ECF6\",\"polar\":{\"bgcolor\":\"#E5ECF6\",\"angularaxis\":{\"gridcolor\":\"white\",\"linecolor\":\"white\",\"ticks\":\"\"},\"radialaxis\":{\"gridcolor\":\"white\",\"linecolor\":\"white\",\"ticks\":\"\"}},\"ternary\":{\"bgcolor\":\"#E5ECF6\",\"aaxis\":{\"gridcolor\":\"white\",\"linecolor\":\"white\",\"ticks\":\"\"},\"baxis\":{\"gridcolor\":\"white\",\"linecolor\":\"white\",\"ticks\":\"\"},\"caxis\":{\"gridcolor\":\"white\",\"linecolor\":\"white\",\"ticks\":\"\"}},\"coloraxis\":{\"colorbar\":{\"outlinewidth\":0,\"ticks\":\"\"}},\"colorscale\":{\"sequential\":[[0.0,\"#0d0887\"],[0.1111111111111111,\"#46039f\"],[0.2222222222222222,\"#7201a8\"],[0.3333333333333333,\"#9c179e\"],[0.4444444444444444,\"#bd3786\"],[0.5555555555555556,\"#d8576b\"],[0.6666666666666666,\"#ed7953\"],[0.7777777777777778,\"#fb9f3a\"],[0.8888888888888888,\"#fdca26\"],[1.0,\"#f0f921\"]],\"sequentialminus\":[[0.0,\"#0d0887\"],[0.1111111111111111,\"#46039f\"],[0.2222222222222222,\"#7201a8\"],[0.3333333333333333,\"#9c179e\"],[0.4444444444444444,\"#bd3786\"],[0.5555555555555556,\"#d8576b\"],[0.6666666666666666,\"#ed7953\"],[0.7777777777777778,\"#fb9f3a\"],[0.8888888888888888,\"#fdca26\"],[1.0,\"#f0f921\"]],\"diverging\":[[0,\"#8e0152\"],[0.1,\"#c51b7d\"],[0.2,\"#de77ae\"],[0.3,\"#f1b6da\"],[0.4,\"#fde0ef\"],[0.5,\"#f7f7f7\"],[0.6,\"#e6f5d0\"],[0.7,\"#b8e186\"],[0.8,\"#7fbc41\"],[0.9,\"#4d9221\"],[1,\"#276419\"]]},\"xaxis\":{\"gridcolor\":\"white\",\"linecolor\":\"white\",\"ticks\":\"\",\"title\":{\"standoff\":15},\"zerolinecolor\":\"white\",\"automargin\":true,\"zerolinewidth\":2},\"yaxis\":{\"gridcolor\":\"white\",\"linecolor\":\"white\",\"ticks\":\"\",\"title\":{\"standoff\":15},\"zerolinecolor\":\"white\",\"automargin\":true,\"zerolinewidth\":2},\"scene\":{\"xaxis\":{\"backgroundcolor\":\"#E5ECF6\",\"gridcolor\":\"white\",\"linecolor\":\"white\",\"showbackground\":true,\"ticks\":\"\",\"zerolinecolor\":\"white\",\"gridwidth\":2},\"yaxis\":{\"backgroundcolor\":\"#E5ECF6\",\"gridcolor\":\"white\",\"linecolor\":\"white\",\"showbackground\":true,\"ticks\":\"\",\"zerolinecolor\":\"white\",\"gridwidth\":2},\"zaxis\":{\"backgroundcolor\":\"#E5ECF6\",\"gridcolor\":\"white\",\"linecolor\":\"white\",\"showbackground\":true,\"ticks\":\"\",\"zerolinecolor\":\"white\",\"gridwidth\":2}},\"shapedefaults\":{\"line\":{\"color\":\"#2a3f5f\"}},\"annotationdefaults\":{\"arrowcolor\":\"#2a3f5f\",\"arrowhead\":0,\"arrowwidth\":1},\"geo\":{\"bgcolor\":\"white\",\"landcolor\":\"#E5ECF6\",\"subunitcolor\":\"white\",\"showland\":true,\"showlakes\":true,\"lakecolor\":\"white\"},\"title\":{\"x\":0.05},\"mapbox\":{\"style\":\"light\"}}},\"xaxis\":{\"anchor\":\"y\",\"domain\":[0.0,1.0],\"title\":{\"text\":\"Epoch\"}},\"yaxis\":{\"anchor\":\"x\",\"domain\":[0.0,1.0],\"title\":{\"text\":\"Loss\"}},\"legend\":{\"tracegroupgap\":0},\"title\":{\"text\":\"Loss curve\"}},                        {\"responsive\": true}                    ).then(function(){\n",
              "                            \n",
              "var gd = document.getElementById('6868ca02-607a-48ce-b349-8d88c28e6623');\n",
              "var x = new MutationObserver(function (mutations, observer) {{\n",
              "        var display = window.getComputedStyle(gd).display;\n",
              "        if (!display || display === 'none') {{\n",
              "            console.log([gd, 'removed!']);\n",
              "            Plotly.purge(gd);\n",
              "            observer.disconnect();\n",
              "        }}\n",
              "}});\n",
              "\n",
              "// Listen for the removal of the full notebook cells\n",
              "var notebookContainer = gd.closest('#notebook-container');\n",
              "if (notebookContainer) {{\n",
              "    x.observe(notebookContainer, {childList: true});\n",
              "}}\n",
              "\n",
              "// Listen for the clearing of the current output cell\n",
              "var outputEl = gd.closest('.output');\n",
              "if (outputEl) {{\n",
              "    x.observe(outputEl, {childList: true});\n",
              "}}\n",
              "\n",
              "                        })                };                            </script>        </div>\n",
              "</body>\n",
              "</html>"
            ]
          },
          "metadata": {}
        }
      ]
    },
    {
      "cell_type": "markdown",
      "source": [
        "## Sanity check"
      ],
      "metadata": {
        "id": "-ckA6xFQCHTK"
      }
    },
    {
      "cell_type": "code",
      "source": [
        "# get a test sample with multiple different permutations\n",
        "test_batch_size = 256\n",
        "test_data = []\n",
        "sub_batch_size = 4\n",
        "for i in range(test_batch_size // sub_batch_size):\n",
        "    test_data.append(next(make_data_generator(cfg, sub_batch_size, seed=i)))\n",
        "\n",
        "test_data = torch.cat(test_data, dim=0).to(device)\n",
        "print(test_data.shape)"
      ],
      "metadata": {
        "colab": {
          "base_uri": "https://localhost:8080/"
        },
        "id": "Pg0puszNCG66",
        "outputId": "7cf91f07-cea4-4f47-8ec5-c20d787fb914"
      },
      "execution_count": 18,
      "outputs": [
        {
          "output_type": "stream",
          "name": "stdout",
          "text": [
            "torch.Size([256, 12])\n"
          ]
        }
      ]
    },
    {
      "cell_type": "code",
      "source": [
        "with torch.inference_mode():\n",
        "    test_logits = model(test_data)\n",
        "    test_logits = test_logits[:, -LIST_LEN-1:-1, :]\n",
        "    preds = test_logits.argmax(dim=-1)\n",
        "    test_labels = test_data[:, -LIST_LEN:]\n",
        "\n",
        "    acc = (preds == test_labels).float().mean()\n",
        "    print(\"Test sample accuracy:\", acc.item())"
      ],
      "metadata": {
        "colab": {
          "base_uri": "https://localhost:8080/"
        },
        "id": "wnkUmdKVCU5N",
        "outputId": "4e194705-966c-4ca9-f257-b3db383e3c5f"
      },
      "execution_count": 19,
      "outputs": [
        {
          "output_type": "stream",
          "name": "stdout",
          "text": [
            "Test sample accuracy: 1.0\n"
          ]
        }
      ]
    },
    {
      "cell_type": "markdown",
      "source": [
        "# Save model"
      ],
      "metadata": {
        "id": "KwM8YIsJ1JD0"
      }
    },
    {
      "cell_type": "code",
      "source": [
        "%mkdir ../models"
      ],
      "metadata": {
        "id": "UUEe8RMQ1LL3"
      },
      "execution_count": 20,
      "outputs": []
    },
    {
      "cell_type": "code",
      "source": [
        "filename = \"../models/permute_lists_model.pt\"\n",
        "torch.save(model.state_dict(), filename)"
      ],
      "metadata": {
        "id": "h1r3noin1KNJ"
      },
      "execution_count": 21,
      "outputs": []
    },
    {
      "cell_type": "code",
      "source": [
        "# check we can load in model\n",
        "LIST_LEN = 3\n",
        "MAX_INT = 50\n",
        "cfg = HookedTransformerConfig(\n",
        "    n_layers=2,\n",
        "    n_heads=1,\n",
        "    d_model=128,\n",
        "    d_head=128,\n",
        "    n_ctx=3*LIST_LEN+3, # BOS d1 d2 d3 MID p1 p2 p3 END a1 a2 a3\n",
        "    d_vocab= MAX_INT+3, # 0, ..., MAX_INT-1, BOS, MID, END\n",
        "    d_vocab_out=MAX_INT,\n",
        "    attn_only=True,\n",
        "    normalization_type=None,\n",
        "    device=device,\n",
        "    seed=0,\n",
        ")\n",
        "\n",
        "model_loaded = HookedTransformer(cfg)\n",
        "model.load_state_dict(torch.load(filename), strict=True)"
      ],
      "metadata": {
        "colab": {
          "base_uri": "https://localhost:8080/"
        },
        "id": "WQMALrhe1h-Z",
        "outputId": "5061da12-d68f-45a3-fe90-8a1836e2d44a"
      },
      "execution_count": 22,
      "outputs": [
        {
          "output_type": "execute_result",
          "data": {
            "text/plain": [
              "<All keys matched successfully>"
            ]
          },
          "metadata": {},
          "execution_count": 22
        }
      ]
    }
  ]
}