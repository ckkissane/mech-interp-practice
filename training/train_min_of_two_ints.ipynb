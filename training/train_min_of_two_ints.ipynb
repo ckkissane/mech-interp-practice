{
  "nbformat": 4,
  "nbformat_minor": 0,
  "metadata": {
    "colab": {
      "provenance": [],
      "collapsed_sections": [
        "JeENCT8b1kAv"
      ],
      "machine_shape": "hm",
      "gpuType": "T4",
      "authorship_tag": "ABX9TyPa3EjFfbFJceaefq6NK4OA"
    },
    "kernelspec": {
      "name": "python3",
      "display_name": "Python 3"
    },
    "language_info": {
      "name": "python"
    },
    "accelerator": "GPU",
    "gpuClass": "standard",
    "widgets": {
      "application/vnd.jupyter.widget-state+json": {
        "8a93a7fc9df840c0bb238e13355bb9d6": {
          "model_module": "@jupyter-widgets/controls",
          "model_name": "HBoxModel",
          "model_module_version": "1.5.0",
          "state": {
            "_dom_classes": [],
            "_model_module": "@jupyter-widgets/controls",
            "_model_module_version": "1.5.0",
            "_model_name": "HBoxModel",
            "_view_count": null,
            "_view_module": "@jupyter-widgets/controls",
            "_view_module_version": "1.5.0",
            "_view_name": "HBoxView",
            "box_style": "",
            "children": [
              "IPY_MODEL_66756209fc9748f6a522d0f77e574a82",
              "IPY_MODEL_7b178c44c96d4096b4483925363ea9c8",
              "IPY_MODEL_bbde9657c1324db3947f263efc638bbf"
            ],
            "layout": "IPY_MODEL_d29c0075d2964500b056635f60657650"
          }
        },
        "66756209fc9748f6a522d0f77e574a82": {
          "model_module": "@jupyter-widgets/controls",
          "model_name": "HTMLModel",
          "model_module_version": "1.5.0",
          "state": {
            "_dom_classes": [],
            "_model_module": "@jupyter-widgets/controls",
            "_model_module_version": "1.5.0",
            "_model_name": "HTMLModel",
            "_view_count": null,
            "_view_module": "@jupyter-widgets/controls",
            "_view_module_version": "1.5.0",
            "_view_name": "HTMLView",
            "description": "",
            "description_tooltip": null,
            "layout": "IPY_MODEL_469b0042573a4e4ba39bfaaa183b25e5",
            "placeholder": "​",
            "style": "IPY_MODEL_bb011c51a3a444f69e661d27e4730a62",
            "value": "100%"
          }
        },
        "7b178c44c96d4096b4483925363ea9c8": {
          "model_module": "@jupyter-widgets/controls",
          "model_name": "FloatProgressModel",
          "model_module_version": "1.5.0",
          "state": {
            "_dom_classes": [],
            "_model_module": "@jupyter-widgets/controls",
            "_model_module_version": "1.5.0",
            "_model_name": "FloatProgressModel",
            "_view_count": null,
            "_view_module": "@jupyter-widgets/controls",
            "_view_module_version": "1.5.0",
            "_view_name": "ProgressView",
            "bar_style": "success",
            "description": "",
            "description_tooltip": null,
            "layout": "IPY_MODEL_65ab35b4777f45669e02063f72b01a54",
            "max": 4000,
            "min": 0,
            "orientation": "horizontal",
            "style": "IPY_MODEL_a8e3b103de2f493e935fd1f6ba86f696",
            "value": 4000
          }
        },
        "bbde9657c1324db3947f263efc638bbf": {
          "model_module": "@jupyter-widgets/controls",
          "model_name": "HTMLModel",
          "model_module_version": "1.5.0",
          "state": {
            "_dom_classes": [],
            "_model_module": "@jupyter-widgets/controls",
            "_model_module_version": "1.5.0",
            "_model_name": "HTMLModel",
            "_view_count": null,
            "_view_module": "@jupyter-widgets/controls",
            "_view_module_version": "1.5.0",
            "_view_name": "HTMLView",
            "description": "",
            "description_tooltip": null,
            "layout": "IPY_MODEL_9d12384fc54049d887bcd82781e96b6b",
            "placeholder": "​",
            "style": "IPY_MODEL_0152d98c238a414dabd535af94a119e0",
            "value": " 4000/4000 [02:46&lt;00:00, 24.01it/s]"
          }
        },
        "d29c0075d2964500b056635f60657650": {
          "model_module": "@jupyter-widgets/base",
          "model_name": "LayoutModel",
          "model_module_version": "1.2.0",
          "state": {
            "_model_module": "@jupyter-widgets/base",
            "_model_module_version": "1.2.0",
            "_model_name": "LayoutModel",
            "_view_count": null,
            "_view_module": "@jupyter-widgets/base",
            "_view_module_version": "1.2.0",
            "_view_name": "LayoutView",
            "align_content": null,
            "align_items": null,
            "align_self": null,
            "border": null,
            "bottom": null,
            "display": null,
            "flex": null,
            "flex_flow": null,
            "grid_area": null,
            "grid_auto_columns": null,
            "grid_auto_flow": null,
            "grid_auto_rows": null,
            "grid_column": null,
            "grid_gap": null,
            "grid_row": null,
            "grid_template_areas": null,
            "grid_template_columns": null,
            "grid_template_rows": null,
            "height": null,
            "justify_content": null,
            "justify_items": null,
            "left": null,
            "margin": null,
            "max_height": null,
            "max_width": null,
            "min_height": null,
            "min_width": null,
            "object_fit": null,
            "object_position": null,
            "order": null,
            "overflow": null,
            "overflow_x": null,
            "overflow_y": null,
            "padding": null,
            "right": null,
            "top": null,
            "visibility": null,
            "width": null
          }
        },
        "469b0042573a4e4ba39bfaaa183b25e5": {
          "model_module": "@jupyter-widgets/base",
          "model_name": "LayoutModel",
          "model_module_version": "1.2.0",
          "state": {
            "_model_module": "@jupyter-widgets/base",
            "_model_module_version": "1.2.0",
            "_model_name": "LayoutModel",
            "_view_count": null,
            "_view_module": "@jupyter-widgets/base",
            "_view_module_version": "1.2.0",
            "_view_name": "LayoutView",
            "align_content": null,
            "align_items": null,
            "align_self": null,
            "border": null,
            "bottom": null,
            "display": null,
            "flex": null,
            "flex_flow": null,
            "grid_area": null,
            "grid_auto_columns": null,
            "grid_auto_flow": null,
            "grid_auto_rows": null,
            "grid_column": null,
            "grid_gap": null,
            "grid_row": null,
            "grid_template_areas": null,
            "grid_template_columns": null,
            "grid_template_rows": null,
            "height": null,
            "justify_content": null,
            "justify_items": null,
            "left": null,
            "margin": null,
            "max_height": null,
            "max_width": null,
            "min_height": null,
            "min_width": null,
            "object_fit": null,
            "object_position": null,
            "order": null,
            "overflow": null,
            "overflow_x": null,
            "overflow_y": null,
            "padding": null,
            "right": null,
            "top": null,
            "visibility": null,
            "width": null
          }
        },
        "bb011c51a3a444f69e661d27e4730a62": {
          "model_module": "@jupyter-widgets/controls",
          "model_name": "DescriptionStyleModel",
          "model_module_version": "1.5.0",
          "state": {
            "_model_module": "@jupyter-widgets/controls",
            "_model_module_version": "1.5.0",
            "_model_name": "DescriptionStyleModel",
            "_view_count": null,
            "_view_module": "@jupyter-widgets/base",
            "_view_module_version": "1.2.0",
            "_view_name": "StyleView",
            "description_width": ""
          }
        },
        "65ab35b4777f45669e02063f72b01a54": {
          "model_module": "@jupyter-widgets/base",
          "model_name": "LayoutModel",
          "model_module_version": "1.2.0",
          "state": {
            "_model_module": "@jupyter-widgets/base",
            "_model_module_version": "1.2.0",
            "_model_name": "LayoutModel",
            "_view_count": null,
            "_view_module": "@jupyter-widgets/base",
            "_view_module_version": "1.2.0",
            "_view_name": "LayoutView",
            "align_content": null,
            "align_items": null,
            "align_self": null,
            "border": null,
            "bottom": null,
            "display": null,
            "flex": null,
            "flex_flow": null,
            "grid_area": null,
            "grid_auto_columns": null,
            "grid_auto_flow": null,
            "grid_auto_rows": null,
            "grid_column": null,
            "grid_gap": null,
            "grid_row": null,
            "grid_template_areas": null,
            "grid_template_columns": null,
            "grid_template_rows": null,
            "height": null,
            "justify_content": null,
            "justify_items": null,
            "left": null,
            "margin": null,
            "max_height": null,
            "max_width": null,
            "min_height": null,
            "min_width": null,
            "object_fit": null,
            "object_position": null,
            "order": null,
            "overflow": null,
            "overflow_x": null,
            "overflow_y": null,
            "padding": null,
            "right": null,
            "top": null,
            "visibility": null,
            "width": null
          }
        },
        "a8e3b103de2f493e935fd1f6ba86f696": {
          "model_module": "@jupyter-widgets/controls",
          "model_name": "ProgressStyleModel",
          "model_module_version": "1.5.0",
          "state": {
            "_model_module": "@jupyter-widgets/controls",
            "_model_module_version": "1.5.0",
            "_model_name": "ProgressStyleModel",
            "_view_count": null,
            "_view_module": "@jupyter-widgets/base",
            "_view_module_version": "1.2.0",
            "_view_name": "StyleView",
            "bar_color": null,
            "description_width": ""
          }
        },
        "9d12384fc54049d887bcd82781e96b6b": {
          "model_module": "@jupyter-widgets/base",
          "model_name": "LayoutModel",
          "model_module_version": "1.2.0",
          "state": {
            "_model_module": "@jupyter-widgets/base",
            "_model_module_version": "1.2.0",
            "_model_name": "LayoutModel",
            "_view_count": null,
            "_view_module": "@jupyter-widgets/base",
            "_view_module_version": "1.2.0",
            "_view_name": "LayoutView",
            "align_content": null,
            "align_items": null,
            "align_self": null,
            "border": null,
            "bottom": null,
            "display": null,
            "flex": null,
            "flex_flow": null,
            "grid_area": null,
            "grid_auto_columns": null,
            "grid_auto_flow": null,
            "grid_auto_rows": null,
            "grid_column": null,
            "grid_gap": null,
            "grid_row": null,
            "grid_template_areas": null,
            "grid_template_columns": null,
            "grid_template_rows": null,
            "height": null,
            "justify_content": null,
            "justify_items": null,
            "left": null,
            "margin": null,
            "max_height": null,
            "max_width": null,
            "min_height": null,
            "min_width": null,
            "object_fit": null,
            "object_position": null,
            "order": null,
            "overflow": null,
            "overflow_x": null,
            "overflow_y": null,
            "padding": null,
            "right": null,
            "top": null,
            "visibility": null,
            "width": null
          }
        },
        "0152d98c238a414dabd535af94a119e0": {
          "model_module": "@jupyter-widgets/controls",
          "model_name": "DescriptionStyleModel",
          "model_module_version": "1.5.0",
          "state": {
            "_model_module": "@jupyter-widgets/controls",
            "_model_module_version": "1.5.0",
            "_model_name": "DescriptionStyleModel",
            "_view_count": null,
            "_view_module": "@jupyter-widgets/base",
            "_view_module_version": "1.2.0",
            "_view_name": "StyleView",
            "description_width": ""
          }
        }
      }
    }
  },
  "cells": [
    {
      "cell_type": "markdown",
      "metadata": {
        "id": "JeENCT8b1kAv"
      },
      "source": [
        "# Setup\n",
        "(No need to read)"
      ]
    },
    {
      "cell_type": "code",
      "execution_count": 1,
      "metadata": {
        "id": "sxK_xiOO1kAv",
        "outputId": "1bf879c8-022f-435d-e671-b3bdb641fa3b",
        "colab": {
          "base_uri": "https://localhost:8080/",
          "height": 0
        }
      },
      "outputs": [
        {
          "output_type": "stream",
          "name": "stdout",
          "text": [
            "Running as a Colab notebook\n",
            "Collecting git+https://github.com/neelnanda-io/TransformerLens.git\n",
            "  Cloning https://github.com/neelnanda-io/TransformerLens.git to /tmp/pip-req-build-g08miz33\n",
            "  Running command git clone --filter=blob:none --quiet https://github.com/neelnanda-io/TransformerLens.git /tmp/pip-req-build-g08miz33\n",
            "  Resolved https://github.com/neelnanda-io/TransformerLens.git to commit 10d2f8a026d73eada861c7d51064f7e24d8f482c\n",
            "  Installing build dependencies ... \u001b[?25l\u001b[?25hdone\n",
            "  Getting requirements to build wheel ... \u001b[?25l\u001b[?25hdone\n",
            "  Preparing metadata (pyproject.toml) ... \u001b[?25l\u001b[?25hdone\n",
            "Collecting beartype<0.15.0,>=0.14.1 (from transformer-lens==0.0.0)\n",
            "  Downloading beartype-0.14.1-py3-none-any.whl (739 kB)\n",
            "\u001b[2K     \u001b[90m━━━━━━━━━━━━━━━━━━━━━━━━━━━━━━━━━━━━━━━\u001b[0m \u001b[32m739.7/739.7 kB\u001b[0m \u001b[31m5.4 MB/s\u001b[0m eta \u001b[36m0:00:00\u001b[0m\n",
            "\u001b[?25hCollecting datasets>=2.7.1 (from transformer-lens==0.0.0)\n",
            "  Downloading datasets-2.14.3-py3-none-any.whl (519 kB)\n",
            "\u001b[2K     \u001b[90m━━━━━━━━━━━━━━━━━━━━━━━━━━━━━━━━━━━━━━━\u001b[0m \u001b[32m519.1/519.1 kB\u001b[0m \u001b[31m8.6 MB/s\u001b[0m eta \u001b[36m0:00:00\u001b[0m\n",
            "\u001b[?25hCollecting einops>=0.6.0 (from transformer-lens==0.0.0)\n",
            "  Downloading einops-0.6.1-py3-none-any.whl (42 kB)\n",
            "\u001b[2K     \u001b[90m━━━━━━━━━━━━━━━━━━━━━━━━━━━━━━━━━━━━━━━━\u001b[0m \u001b[32m42.2/42.2 kB\u001b[0m \u001b[31m4.2 MB/s\u001b[0m eta \u001b[36m0:00:00\u001b[0m\n",
            "\u001b[?25hCollecting fancy-einsum>=0.0.3 (from transformer-lens==0.0.0)\n",
            "  Downloading fancy_einsum-0.0.3-py3-none-any.whl (6.2 kB)\n",
            "Collecting jaxtyping>=0.2.11 (from transformer-lens==0.0.0)\n",
            "  Downloading jaxtyping-0.2.20-py3-none-any.whl (24 kB)\n",
            "Collecting numpy>=1.23 (from transformer-lens==0.0.0)\n",
            "  Downloading numpy-1.25.2-cp310-cp310-manylinux_2_17_x86_64.manylinux2014_x86_64.whl (18.2 MB)\n",
            "\u001b[2K     \u001b[90m━━━━━━━━━━━━━━━━━━━━━━━━━━━━━━━━━━━━━━━━\u001b[0m \u001b[32m18.2/18.2 MB\u001b[0m \u001b[31m34.2 MB/s\u001b[0m eta \u001b[36m0:00:00\u001b[0m\n",
            "\u001b[?25hRequirement already satisfied: pandas>=1.1.5 in /usr/local/lib/python3.10/dist-packages (from transformer-lens==0.0.0) (1.5.3)\n",
            "Requirement already satisfied: rich>=12.6.0 in /usr/local/lib/python3.10/dist-packages (from transformer-lens==0.0.0) (13.4.2)\n",
            "Requirement already satisfied: torch>=1.10 in /usr/local/lib/python3.10/dist-packages (from transformer-lens==0.0.0) (2.0.1+cu118)\n",
            "Requirement already satisfied: tqdm>=4.64.1 in /usr/local/lib/python3.10/dist-packages (from transformer-lens==0.0.0) (4.65.0)\n",
            "Collecting transformers>=4.25.1 (from transformer-lens==0.0.0)\n",
            "  Downloading transformers-4.31.0-py3-none-any.whl (7.4 MB)\n",
            "\u001b[2K     \u001b[90m━━━━━━━━━━━━━━━━━━━━━━━━━━━━━━━━━━━━━━━━\u001b[0m \u001b[32m7.4/7.4 MB\u001b[0m \u001b[31m62.8 MB/s\u001b[0m eta \u001b[36m0:00:00\u001b[0m\n",
            "\u001b[?25hCollecting wandb>=0.13.5 (from transformer-lens==0.0.0)\n",
            "  Downloading wandb-0.15.8-py3-none-any.whl (2.1 MB)\n",
            "\u001b[2K     \u001b[90m━━━━━━━━━━━━━━━━━━━━━━━━━━━━━━━━━━━━━━━━\u001b[0m \u001b[32m2.1/2.1 MB\u001b[0m \u001b[31m63.6 MB/s\u001b[0m eta \u001b[36m0:00:00\u001b[0m\n",
            "\u001b[?25hRequirement already satisfied: pyarrow>=8.0.0 in /usr/local/lib/python3.10/dist-packages (from datasets>=2.7.1->transformer-lens==0.0.0) (9.0.0)\n",
            "Collecting dill<0.3.8,>=0.3.0 (from datasets>=2.7.1->transformer-lens==0.0.0)\n",
            "  Downloading dill-0.3.7-py3-none-any.whl (115 kB)\n",
            "\u001b[2K     \u001b[90m━━━━━━━━━━━━━━━━━━━━━━━━━━━━━━━━━━━━━━\u001b[0m \u001b[32m115.3/115.3 kB\u001b[0m \u001b[31m13.5 MB/s\u001b[0m eta \u001b[36m0:00:00\u001b[0m\n",
            "\u001b[?25hRequirement already satisfied: requests>=2.19.0 in /usr/local/lib/python3.10/dist-packages (from datasets>=2.7.1->transformer-lens==0.0.0) (2.27.1)\n",
            "Collecting xxhash (from datasets>=2.7.1->transformer-lens==0.0.0)\n",
            "  Downloading xxhash-3.3.0-cp310-cp310-manylinux_2_17_x86_64.manylinux2014_x86_64.whl (194 kB)\n",
            "\u001b[2K     \u001b[90m━━━━━━━━━━━━━━━━━━━━━━━━━━━━━━━━━━━━━━━\u001b[0m \u001b[32m194.1/194.1 kB\u001b[0m \u001b[31m7.2 MB/s\u001b[0m eta \u001b[36m0:00:00\u001b[0m\n",
            "\u001b[?25hCollecting multiprocess (from datasets>=2.7.1->transformer-lens==0.0.0)\n",
            "  Downloading multiprocess-0.70.15-py310-none-any.whl (134 kB)\n",
            "\u001b[2K     \u001b[90m━━━━━━━━━━━━━━━━━━━━━━━━━━━━━━━━━━━━━━\u001b[0m \u001b[32m134.8/134.8 kB\u001b[0m \u001b[31m13.1 MB/s\u001b[0m eta \u001b[36m0:00:00\u001b[0m\n",
            "\u001b[?25hRequirement already satisfied: fsspec[http]>=2021.11.1 in /usr/local/lib/python3.10/dist-packages (from datasets>=2.7.1->transformer-lens==0.0.0) (2023.6.0)\n",
            "Requirement already satisfied: aiohttp in /usr/local/lib/python3.10/dist-packages (from datasets>=2.7.1->transformer-lens==0.0.0) (3.8.5)\n",
            "Collecting huggingface-hub<1.0.0,>=0.14.0 (from datasets>=2.7.1->transformer-lens==0.0.0)\n",
            "  Downloading huggingface_hub-0.16.4-py3-none-any.whl (268 kB)\n",
            "\u001b[2K     \u001b[90m━━━━━━━━━━━━━━━━━━━━━━━━━━━━━━━━━━━━━━\u001b[0m \u001b[32m268.8/268.8 kB\u001b[0m \u001b[31m22.2 MB/s\u001b[0m eta \u001b[36m0:00:00\u001b[0m\n",
            "\u001b[?25hRequirement already satisfied: packaging in /usr/local/lib/python3.10/dist-packages (from datasets>=2.7.1->transformer-lens==0.0.0) (23.1)\n",
            "Requirement already satisfied: pyyaml>=5.1 in /usr/local/lib/python3.10/dist-packages (from datasets>=2.7.1->transformer-lens==0.0.0) (6.0.1)\n",
            "Collecting typeguard>=2.13.3 (from jaxtyping>=0.2.11->transformer-lens==0.0.0)\n",
            "  Downloading typeguard-4.1.0-py3-none-any.whl (33 kB)\n",
            "Requirement already satisfied: typing-extensions>=3.7.4.1 in /usr/local/lib/python3.10/dist-packages (from jaxtyping>=0.2.11->transformer-lens==0.0.0) (4.7.1)\n",
            "Requirement already satisfied: python-dateutil>=2.8.1 in /usr/local/lib/python3.10/dist-packages (from pandas>=1.1.5->transformer-lens==0.0.0) (2.8.2)\n",
            "Requirement already satisfied: pytz>=2020.1 in /usr/local/lib/python3.10/dist-packages (from pandas>=1.1.5->transformer-lens==0.0.0) (2022.7.1)\n",
            "Requirement already satisfied: markdown-it-py>=2.2.0 in /usr/local/lib/python3.10/dist-packages (from rich>=12.6.0->transformer-lens==0.0.0) (3.0.0)\n",
            "Requirement already satisfied: pygments<3.0.0,>=2.13.0 in /usr/local/lib/python3.10/dist-packages (from rich>=12.6.0->transformer-lens==0.0.0) (2.14.0)\n",
            "Requirement already satisfied: filelock in /usr/local/lib/python3.10/dist-packages (from torch>=1.10->transformer-lens==0.0.0) (3.12.2)\n",
            "Requirement already satisfied: sympy in /usr/local/lib/python3.10/dist-packages (from torch>=1.10->transformer-lens==0.0.0) (1.11.1)\n",
            "Requirement already satisfied: networkx in /usr/local/lib/python3.10/dist-packages (from torch>=1.10->transformer-lens==0.0.0) (3.1)\n",
            "Requirement already satisfied: jinja2 in /usr/local/lib/python3.10/dist-packages (from torch>=1.10->transformer-lens==0.0.0) (3.1.2)\n",
            "Requirement already satisfied: triton==2.0.0 in /usr/local/lib/python3.10/dist-packages (from torch>=1.10->transformer-lens==0.0.0) (2.0.0)\n",
            "Requirement already satisfied: cmake in /usr/local/lib/python3.10/dist-packages (from triton==2.0.0->torch>=1.10->transformer-lens==0.0.0) (3.25.2)\n",
            "Requirement already satisfied: lit in /usr/local/lib/python3.10/dist-packages (from triton==2.0.0->torch>=1.10->transformer-lens==0.0.0) (16.0.6)\n",
            "Requirement already satisfied: regex!=2019.12.17 in /usr/local/lib/python3.10/dist-packages (from transformers>=4.25.1->transformer-lens==0.0.0) (2022.10.31)\n",
            "Collecting tokenizers!=0.11.3,<0.14,>=0.11.1 (from transformers>=4.25.1->transformer-lens==0.0.0)\n",
            "  Downloading tokenizers-0.13.3-cp310-cp310-manylinux_2_17_x86_64.manylinux2014_x86_64.whl (7.8 MB)\n",
            "\u001b[2K     \u001b[90m━━━━━━━━━━━━━━━━━━━━━━━━━━━━━━━━━━━━━━━━\u001b[0m \u001b[32m7.8/7.8 MB\u001b[0m \u001b[31m84.2 MB/s\u001b[0m eta \u001b[36m0:00:00\u001b[0m\n",
            "\u001b[?25hCollecting safetensors>=0.3.1 (from transformers>=4.25.1->transformer-lens==0.0.0)\n",
            "  Downloading safetensors-0.3.1-cp310-cp310-manylinux_2_17_x86_64.manylinux2014_x86_64.whl (1.3 MB)\n",
            "\u001b[2K     \u001b[90m━━━━━━━━━━━━━━━━━━━━━━━━━━━━━━━━━━━━━━━━\u001b[0m \u001b[32m1.3/1.3 MB\u001b[0m \u001b[31m38.0 MB/s\u001b[0m eta \u001b[36m0:00:00\u001b[0m\n",
            "\u001b[?25hRequirement already satisfied: Click!=8.0.0,>=7.1 in /usr/local/lib/python3.10/dist-packages (from wandb>=0.13.5->transformer-lens==0.0.0) (8.1.6)\n",
            "Collecting GitPython!=3.1.29,>=1.0.0 (from wandb>=0.13.5->transformer-lens==0.0.0)\n",
            "  Downloading GitPython-3.1.32-py3-none-any.whl (188 kB)\n",
            "\u001b[2K     \u001b[90m━━━━━━━━━━━━━━━━━━━━━━━━━━━━━━━━━━━━━━\u001b[0m \u001b[32m188.5/188.5 kB\u001b[0m \u001b[31m21.5 MB/s\u001b[0m eta \u001b[36m0:00:00\u001b[0m\n",
            "\u001b[?25hRequirement already satisfied: psutil>=5.0.0 in /usr/local/lib/python3.10/dist-packages (from wandb>=0.13.5->transformer-lens==0.0.0) (5.9.5)\n",
            "Collecting sentry-sdk>=1.0.0 (from wandb>=0.13.5->transformer-lens==0.0.0)\n",
            "  Downloading sentry_sdk-1.29.2-py2.py3-none-any.whl (215 kB)\n",
            "\u001b[2K     \u001b[90m━━━━━━━━━━━━━━━━━━━━━━━━━━━━━━━━━━━━━━\u001b[0m \u001b[32m215.6/215.6 kB\u001b[0m \u001b[31m23.9 MB/s\u001b[0m eta \u001b[36m0:00:00\u001b[0m\n",
            "\u001b[?25hCollecting docker-pycreds>=0.4.0 (from wandb>=0.13.5->transformer-lens==0.0.0)\n",
            "  Downloading docker_pycreds-0.4.0-py2.py3-none-any.whl (9.0 kB)\n",
            "Collecting pathtools (from wandb>=0.13.5->transformer-lens==0.0.0)\n",
            "  Downloading pathtools-0.1.2.tar.gz (11 kB)\n",
            "  Preparing metadata (setup.py) ... \u001b[?25l\u001b[?25hdone\n",
            "Collecting setproctitle (from wandb>=0.13.5->transformer-lens==0.0.0)\n",
            "  Downloading setproctitle-1.3.2-cp310-cp310-manylinux_2_5_x86_64.manylinux1_x86_64.manylinux_2_17_x86_64.manylinux2014_x86_64.whl (30 kB)\n",
            "Requirement already satisfied: setuptools in /usr/local/lib/python3.10/dist-packages (from wandb>=0.13.5->transformer-lens==0.0.0) (67.7.2)\n",
            "Requirement already satisfied: appdirs>=1.4.3 in /usr/local/lib/python3.10/dist-packages (from wandb>=0.13.5->transformer-lens==0.0.0) (1.4.4)\n",
            "Requirement already satisfied: protobuf!=4.21.0,<5,>=3.19.0 in /usr/local/lib/python3.10/dist-packages (from wandb>=0.13.5->transformer-lens==0.0.0) (3.20.3)\n",
            "Requirement already satisfied: six>=1.4.0 in /usr/local/lib/python3.10/dist-packages (from docker-pycreds>=0.4.0->wandb>=0.13.5->transformer-lens==0.0.0) (1.16.0)\n",
            "Requirement already satisfied: attrs>=17.3.0 in /usr/local/lib/python3.10/dist-packages (from aiohttp->datasets>=2.7.1->transformer-lens==0.0.0) (23.1.0)\n",
            "Requirement already satisfied: charset-normalizer<4.0,>=2.0 in /usr/local/lib/python3.10/dist-packages (from aiohttp->datasets>=2.7.1->transformer-lens==0.0.0) (2.0.12)\n",
            "Requirement already satisfied: multidict<7.0,>=4.5 in /usr/local/lib/python3.10/dist-packages (from aiohttp->datasets>=2.7.1->transformer-lens==0.0.0) (6.0.4)\n",
            "Requirement already satisfied: async-timeout<5.0,>=4.0.0a3 in /usr/local/lib/python3.10/dist-packages (from aiohttp->datasets>=2.7.1->transformer-lens==0.0.0) (4.0.2)\n",
            "Requirement already satisfied: yarl<2.0,>=1.0 in /usr/local/lib/python3.10/dist-packages (from aiohttp->datasets>=2.7.1->transformer-lens==0.0.0) (1.9.2)\n",
            "Requirement already satisfied: frozenlist>=1.1.1 in /usr/local/lib/python3.10/dist-packages (from aiohttp->datasets>=2.7.1->transformer-lens==0.0.0) (1.4.0)\n",
            "Requirement already satisfied: aiosignal>=1.1.2 in /usr/local/lib/python3.10/dist-packages (from aiohttp->datasets>=2.7.1->transformer-lens==0.0.0) (1.3.1)\n",
            "Collecting gitdb<5,>=4.0.1 (from GitPython!=3.1.29,>=1.0.0->wandb>=0.13.5->transformer-lens==0.0.0)\n",
            "  Downloading gitdb-4.0.10-py3-none-any.whl (62 kB)\n",
            "\u001b[2K     \u001b[90m━━━━━━━━━━━━━━━━━━━━━━━━━━━━━━━━━━━━━━━━\u001b[0m \u001b[32m62.7/62.7 kB\u001b[0m \u001b[31m7.3 MB/s\u001b[0m eta \u001b[36m0:00:00\u001b[0m\n",
            "\u001b[?25hRequirement already satisfied: mdurl~=0.1 in /usr/local/lib/python3.10/dist-packages (from markdown-it-py>=2.2.0->rich>=12.6.0->transformer-lens==0.0.0) (0.1.2)\n",
            "Requirement already satisfied: urllib3<1.27,>=1.21.1 in /usr/local/lib/python3.10/dist-packages (from requests>=2.19.0->datasets>=2.7.1->transformer-lens==0.0.0) (1.26.16)\n",
            "Requirement already satisfied: certifi>=2017.4.17 in /usr/local/lib/python3.10/dist-packages (from requests>=2.19.0->datasets>=2.7.1->transformer-lens==0.0.0) (2023.7.22)\n",
            "Requirement already satisfied: idna<4,>=2.5 in /usr/local/lib/python3.10/dist-packages (from requests>=2.19.0->datasets>=2.7.1->transformer-lens==0.0.0) (3.4)\n",
            "Requirement already satisfied: MarkupSafe>=2.0 in /usr/local/lib/python3.10/dist-packages (from jinja2->torch>=1.10->transformer-lens==0.0.0) (2.1.3)\n",
            "Requirement already satisfied: mpmath>=0.19 in /usr/local/lib/python3.10/dist-packages (from sympy->torch>=1.10->transformer-lens==0.0.0) (1.3.0)\n",
            "Collecting smmap<6,>=3.0.1 (from gitdb<5,>=4.0.1->GitPython!=3.1.29,>=1.0.0->wandb>=0.13.5->transformer-lens==0.0.0)\n",
            "  Downloading smmap-5.0.0-py3-none-any.whl (24 kB)\n",
            "Building wheels for collected packages: transformer-lens, pathtools\n",
            "  Building wheel for transformer-lens (pyproject.toml) ... \u001b[?25l\u001b[?25hdone\n",
            "  Created wheel for transformer-lens: filename=transformer_lens-0.0.0-py3-none-any.whl size=105856 sha256=8b8569bc6ad00f3b4d7748e92dcaec0688a67652fe6b37f8bea495ca076ad502\n",
            "  Stored in directory: /tmp/pip-ephem-wheel-cache-cjirfl2o/wheels/8a/1e/37/ffb9c15454a1725b13a9d9f5e74fb91725048884ad734b8c1f\n",
            "  Building wheel for pathtools (setup.py) ... \u001b[?25l\u001b[?25hdone\n",
            "  Created wheel for pathtools: filename=pathtools-0.1.2-py3-none-any.whl size=8791 sha256=2b8e5e07b9a29a8489667f85d8d57621abf3589f56d82e4577263ac5a5766c78\n",
            "  Stored in directory: /root/.cache/pip/wheels/e7/f3/22/152153d6eb222ee7a56ff8617d80ee5207207a8c00a7aab794\n",
            "Successfully built transformer-lens pathtools\n",
            "Installing collected packages: tokenizers, safetensors, pathtools, xxhash, typeguard, smmap, setproctitle, sentry-sdk, numpy, fancy-einsum, einops, docker-pycreds, dill, beartype, multiprocess, jaxtyping, huggingface-hub, gitdb, transformers, GitPython, wandb, datasets, transformer-lens\n",
            "  Attempting uninstall: numpy\n",
            "    Found existing installation: numpy 1.22.4\n",
            "    Uninstalling numpy-1.22.4:\n",
            "      Successfully uninstalled numpy-1.22.4\n",
            "\u001b[31mERROR: pip's dependency resolver does not currently take into account all the packages that are installed. This behaviour is the source of the following dependency conflicts.\n",
            "numba 0.56.4 requires numpy<1.24,>=1.18, but you have numpy 1.25.2 which is incompatible.\n",
            "tensorflow 2.12.0 requires numpy<1.24,>=1.22, but you have numpy 1.25.2 which is incompatible.\u001b[0m\u001b[31m\n",
            "\u001b[0mSuccessfully installed GitPython-3.1.32 beartype-0.14.1 datasets-2.14.3 dill-0.3.7 docker-pycreds-0.4.0 einops-0.6.1 fancy-einsum-0.0.3 gitdb-4.0.10 huggingface-hub-0.16.4 jaxtyping-0.2.20 multiprocess-0.70.15 numpy-1.25.2 pathtools-0.1.2 safetensors-0.3.1 sentry-sdk-1.29.2 setproctitle-1.3.2 smmap-5.0.0 tokenizers-0.13.3 transformer-lens-0.0.0 transformers-4.31.0 typeguard-4.1.0 wandb-0.15.8 xxhash-3.3.0\n"
          ]
        },
        {
          "output_type": "display_data",
          "data": {
            "application/vnd.colab-display-data+json": {
              "pip_warning": {
                "packages": [
                  "numpy"
                ]
              }
            }
          },
          "metadata": {}
        },
        {
          "output_type": "stream",
          "name": "stdout",
          "text": [
            "\n",
            "## Installing the NodeSource Node.js 16.x repo...\n",
            "\n",
            "\n",
            "## Populating apt-get cache...\n",
            "\n",
            "+ apt-get update\n",
            "Hit:1 https://developer.download.nvidia.com/compute/cuda/repos/ubuntu2204/x86_64  InRelease\n",
            "Hit:2 http://archive.ubuntu.com/ubuntu jammy InRelease\n",
            "Get:3 https://cloud.r-project.org/bin/linux/ubuntu jammy-cran40/ InRelease [3,626 B]\n",
            "Get:4 http://archive.ubuntu.com/ubuntu jammy-updates InRelease [119 kB]\n",
            "Get:5 http://security.ubuntu.com/ubuntu jammy-security InRelease [110 kB]\n",
            "Get:6 http://archive.ubuntu.com/ubuntu jammy-backports InRelease [109 kB]\n",
            "Hit:7 https://ppa.launchpadcontent.net/c2d4u.team/c2d4u4.0+/ubuntu jammy InRelease\n",
            "Get:8 https://cloud.r-project.org/bin/linux/ubuntu jammy-cran40/ Packages [43.3 kB]\n",
            "Get:9 http://archive.ubuntu.com/ubuntu jammy-updates/universe amd64 Packages [1,235 kB]\n",
            "Get:10 https://ppa.launchpadcontent.net/deadsnakes/ppa/ubuntu jammy InRelease [18.1 kB]\n",
            "Get:11 http://security.ubuntu.com/ubuntu jammy-security/restricted amd64 Packages [850 kB]\n",
            "Get:12 http://archive.ubuntu.com/ubuntu jammy-updates/main amd64 Packages [1,103 kB]\n",
            "Hit:13 https://ppa.launchpadcontent.net/graphics-drivers/ppa/ubuntu jammy InRelease\n",
            "Hit:14 https://ppa.launchpadcontent.net/ubuntugis/ppa/ubuntu jammy InRelease\n",
            "Get:15 https://ppa.launchpadcontent.net/deadsnakes/ppa/ubuntu jammy/main amd64 Packages [21.7 kB]\n",
            "Fetched 3,612 kB in 2s (1,633 kB/s)\n",
            "Reading package lists... Done\n",
            "\n",
            "## Confirming \"jammy\" is supported...\n",
            "\n",
            "+ curl -sLf -o /dev/null 'https://deb.nodesource.com/node_16.x/dists/jammy/Release'\n",
            "\n",
            "## Adding the NodeSource signing key to your keyring...\n",
            "\n",
            "+ curl -s https://deb.nodesource.com/gpgkey/nodesource.gpg.key | gpg --dearmor | tee /usr/share/keyrings/nodesource.gpg >/dev/null\n",
            "\n",
            "## Creating apt sources list file for the NodeSource Node.js 16.x repo...\n",
            "\n",
            "+ echo 'deb [signed-by=/usr/share/keyrings/nodesource.gpg] https://deb.nodesource.com/node_16.x jammy main' > /etc/apt/sources.list.d/nodesource.list\n",
            "+ echo 'deb-src [signed-by=/usr/share/keyrings/nodesource.gpg] https://deb.nodesource.com/node_16.x jammy main' >> /etc/apt/sources.list.d/nodesource.list\n",
            "\n",
            "## Running `apt-get update` for you...\n",
            "\n",
            "+ apt-get update\n",
            "Hit:1 http://archive.ubuntu.com/ubuntu jammy InRelease\n",
            "Hit:2 http://archive.ubuntu.com/ubuntu jammy-updates InRelease\n",
            "Hit:3 https://cloud.r-project.org/bin/linux/ubuntu jammy-cran40/ InRelease\n",
            "Hit:4 https://developer.download.nvidia.com/compute/cuda/repos/ubuntu2204/x86_64  InRelease\n",
            "Get:5 https://deb.nodesource.com/node_16.x jammy InRelease [4,583 B]\n",
            "Hit:6 http://archive.ubuntu.com/ubuntu jammy-backports InRelease\n",
            "Hit:7 http://security.ubuntu.com/ubuntu jammy-security InRelease\n",
            "Hit:8 https://ppa.launchpadcontent.net/c2d4u.team/c2d4u4.0+/ubuntu jammy InRelease\n",
            "Get:9 https://deb.nodesource.com/node_16.x jammy/main amd64 Packages [775 B]\n",
            "Hit:10 https://ppa.launchpadcontent.net/deadsnakes/ppa/ubuntu jammy InRelease\n",
            "Hit:11 https://ppa.launchpadcontent.net/graphics-drivers/ppa/ubuntu jammy InRelease\n",
            "Hit:12 https://ppa.launchpadcontent.net/ubuntugis/ppa/ubuntu jammy InRelease\n",
            "Fetched 5,358 B in 2s (3,287 B/s)\n",
            "Reading package lists... Done\n",
            "\n",
            "## Run `\u001b[1msudo apt-get install -y nodejs\u001b[m` to install Node.js 16.x and npm\n",
            "## You may also need development tools to build native addons:\n",
            "     sudo apt-get install gcc g++ make\n",
            "## To install the Yarn package manager, run:\n",
            "     curl -sL https://dl.yarnpkg.com/debian/pubkey.gpg | gpg --dearmor | sudo tee /usr/share/keyrings/yarnkey.gpg >/dev/null\n",
            "     echo \"deb [signed-by=/usr/share/keyrings/yarnkey.gpg] https://dl.yarnpkg.com/debian stable main\" | sudo tee /etc/apt/sources.list.d/yarn.list\n",
            "     sudo apt-get update && sudo apt-get install yarn\n",
            "\n",
            "\n",
            "Reading package lists... Done\n",
            "Building dependency tree... Done\n",
            "Reading state information... Done\n",
            "The following NEW packages will be installed:\n",
            "  nodejs\n",
            "0 upgraded, 1 newly installed, 0 to remove and 20 not upgraded.\n",
            "Need to get 27.2 MB of archives.\n",
            "After this operation, 128 MB of additional disk space will be used.\n",
            "Get:1 https://deb.nodesource.com/node_16.x jammy/main amd64 nodejs amd64 16.20.1-deb-1nodesource1 [27.2 MB]\n",
            "Fetched 27.2 MB in 0s (60.9 MB/s)\n",
            "debconf: unable to initialize frontend: Dialog\n",
            "debconf: (No usable dialog-like program is installed, so the dialog based frontend cannot be used. at /usr/share/perl5/Debconf/FrontEnd/Dialog.pm line 78, <> line 1.)\n",
            "debconf: falling back to frontend: Readline\n",
            "debconf: unable to initialize frontend: Readline\n",
            "debconf: (This frontend requires a controlling tty.)\n",
            "debconf: falling back to frontend: Teletype\n",
            "dpkg-preconfigure: unable to re-open stdin: \n",
            "Selecting previously unselected package nodejs.\n",
            "(Reading database ... 120511 files and directories currently installed.)\n",
            "Preparing to unpack .../nodejs_16.20.1-deb-1nodesource1_amd64.deb ...\n",
            "Unpacking nodejs (16.20.1-deb-1nodesource1) ...\n",
            "Setting up nodejs (16.20.1-deb-1nodesource1) ...\n",
            "Processing triggers for man-db (2.10.2-1) ...\n",
            "Collecting git+https://github.com/neelnanda-io/PySvelte.git\n",
            "  Cloning https://github.com/neelnanda-io/PySvelte.git to /tmp/pip-req-build-f48u7z6o\n",
            "  Running command git clone --filter=blob:none --quiet https://github.com/neelnanda-io/PySvelte.git /tmp/pip-req-build-f48u7z6o\n",
            "  Resolved https://github.com/neelnanda-io/PySvelte.git to commit 6f5d971a148d40fb7481d400ae74551b37340e83\n",
            "  Preparing metadata (setup.py) ... \u001b[?25l\u001b[?25hdone\n",
            "Requirement already satisfied: einops in /usr/local/lib/python3.10/dist-packages (from PySvelte==1.0.0) (0.6.1)\n",
            "Requirement already satisfied: numpy in /usr/local/lib/python3.10/dist-packages (from PySvelte==1.0.0) (1.25.2)\n",
            "Requirement already satisfied: torch in /usr/local/lib/python3.10/dist-packages (from PySvelte==1.0.0) (2.0.1+cu118)\n",
            "Requirement already satisfied: datasets in /usr/local/lib/python3.10/dist-packages (from PySvelte==1.0.0) (2.14.3)\n",
            "Requirement already satisfied: transformers in /usr/local/lib/python3.10/dist-packages (from PySvelte==1.0.0) (4.31.0)\n",
            "Requirement already satisfied: tqdm in /usr/local/lib/python3.10/dist-packages (from PySvelte==1.0.0) (4.65.0)\n",
            "Requirement already satisfied: pandas in /usr/local/lib/python3.10/dist-packages (from PySvelte==1.0.0) (1.5.3)\n",
            "Collecting typeguard~=2.0 (from PySvelte==1.0.0)\n",
            "  Downloading typeguard-2.13.3-py3-none-any.whl (17 kB)\n",
            "Requirement already satisfied: pyarrow>=8.0.0 in /usr/local/lib/python3.10/dist-packages (from datasets->PySvelte==1.0.0) (9.0.0)\n",
            "Requirement already satisfied: dill<0.3.8,>=0.3.0 in /usr/local/lib/python3.10/dist-packages (from datasets->PySvelte==1.0.0) (0.3.7)\n",
            "Requirement already satisfied: requests>=2.19.0 in /usr/local/lib/python3.10/dist-packages (from datasets->PySvelte==1.0.0) (2.27.1)\n",
            "Requirement already satisfied: xxhash in /usr/local/lib/python3.10/dist-packages (from datasets->PySvelte==1.0.0) (3.3.0)\n",
            "Requirement already satisfied: multiprocess in /usr/local/lib/python3.10/dist-packages (from datasets->PySvelte==1.0.0) (0.70.15)\n",
            "Requirement already satisfied: fsspec[http]>=2021.11.1 in /usr/local/lib/python3.10/dist-packages (from datasets->PySvelte==1.0.0) (2023.6.0)\n",
            "Requirement already satisfied: aiohttp in /usr/local/lib/python3.10/dist-packages (from datasets->PySvelte==1.0.0) (3.8.5)\n",
            "Requirement already satisfied: huggingface-hub<1.0.0,>=0.14.0 in /usr/local/lib/python3.10/dist-packages (from datasets->PySvelte==1.0.0) (0.16.4)\n",
            "Requirement already satisfied: packaging in /usr/local/lib/python3.10/dist-packages (from datasets->PySvelte==1.0.0) (23.1)\n",
            "Requirement already satisfied: pyyaml>=5.1 in /usr/local/lib/python3.10/dist-packages (from datasets->PySvelte==1.0.0) (6.0.1)\n",
            "Requirement already satisfied: python-dateutil>=2.8.1 in /usr/local/lib/python3.10/dist-packages (from pandas->PySvelte==1.0.0) (2.8.2)\n",
            "Requirement already satisfied: pytz>=2020.1 in /usr/local/lib/python3.10/dist-packages (from pandas->PySvelte==1.0.0) (2022.7.1)\n",
            "Requirement already satisfied: filelock in /usr/local/lib/python3.10/dist-packages (from torch->PySvelte==1.0.0) (3.12.2)\n",
            "Requirement already satisfied: typing-extensions in /usr/local/lib/python3.10/dist-packages (from torch->PySvelte==1.0.0) (4.7.1)\n",
            "Requirement already satisfied: sympy in /usr/local/lib/python3.10/dist-packages (from torch->PySvelte==1.0.0) (1.11.1)\n",
            "Requirement already satisfied: networkx in /usr/local/lib/python3.10/dist-packages (from torch->PySvelte==1.0.0) (3.1)\n",
            "Requirement already satisfied: jinja2 in /usr/local/lib/python3.10/dist-packages (from torch->PySvelte==1.0.0) (3.1.2)\n",
            "Requirement already satisfied: triton==2.0.0 in /usr/local/lib/python3.10/dist-packages (from torch->PySvelte==1.0.0) (2.0.0)\n",
            "Requirement already satisfied: cmake in /usr/local/lib/python3.10/dist-packages (from triton==2.0.0->torch->PySvelte==1.0.0) (3.25.2)\n",
            "Requirement already satisfied: lit in /usr/local/lib/python3.10/dist-packages (from triton==2.0.0->torch->PySvelte==1.0.0) (16.0.6)\n",
            "Requirement already satisfied: regex!=2019.12.17 in /usr/local/lib/python3.10/dist-packages (from transformers->PySvelte==1.0.0) (2022.10.31)\n",
            "Requirement already satisfied: tokenizers!=0.11.3,<0.14,>=0.11.1 in /usr/local/lib/python3.10/dist-packages (from transformers->PySvelte==1.0.0) (0.13.3)\n",
            "Requirement already satisfied: safetensors>=0.3.1 in /usr/local/lib/python3.10/dist-packages (from transformers->PySvelte==1.0.0) (0.3.1)\n",
            "Requirement already satisfied: attrs>=17.3.0 in /usr/local/lib/python3.10/dist-packages (from aiohttp->datasets->PySvelte==1.0.0) (23.1.0)\n",
            "Requirement already satisfied: charset-normalizer<4.0,>=2.0 in /usr/local/lib/python3.10/dist-packages (from aiohttp->datasets->PySvelte==1.0.0) (2.0.12)\n",
            "Requirement already satisfied: multidict<7.0,>=4.5 in /usr/local/lib/python3.10/dist-packages (from aiohttp->datasets->PySvelte==1.0.0) (6.0.4)\n",
            "Requirement already satisfied: async-timeout<5.0,>=4.0.0a3 in /usr/local/lib/python3.10/dist-packages (from aiohttp->datasets->PySvelte==1.0.0) (4.0.2)\n",
            "Requirement already satisfied: yarl<2.0,>=1.0 in /usr/local/lib/python3.10/dist-packages (from aiohttp->datasets->PySvelte==1.0.0) (1.9.2)\n",
            "Requirement already satisfied: frozenlist>=1.1.1 in /usr/local/lib/python3.10/dist-packages (from aiohttp->datasets->PySvelte==1.0.0) (1.4.0)\n",
            "Requirement already satisfied: aiosignal>=1.1.2 in /usr/local/lib/python3.10/dist-packages (from aiohttp->datasets->PySvelte==1.0.0) (1.3.1)\n",
            "Requirement already satisfied: six>=1.5 in /usr/local/lib/python3.10/dist-packages (from python-dateutil>=2.8.1->pandas->PySvelte==1.0.0) (1.16.0)\n",
            "Requirement already satisfied: urllib3<1.27,>=1.21.1 in /usr/local/lib/python3.10/dist-packages (from requests>=2.19.0->datasets->PySvelte==1.0.0) (1.26.16)\n",
            "Requirement already satisfied: certifi>=2017.4.17 in /usr/local/lib/python3.10/dist-packages (from requests>=2.19.0->datasets->PySvelte==1.0.0) (2023.7.22)\n",
            "Requirement already satisfied: idna<4,>=2.5 in /usr/local/lib/python3.10/dist-packages (from requests>=2.19.0->datasets->PySvelte==1.0.0) (3.4)\n",
            "Requirement already satisfied: MarkupSafe>=2.0 in /usr/local/lib/python3.10/dist-packages (from jinja2->torch->PySvelte==1.0.0) (2.1.3)\n",
            "Requirement already satisfied: mpmath>=0.19 in /usr/local/lib/python3.10/dist-packages (from sympy->torch->PySvelte==1.0.0) (1.3.0)\n",
            "Building wheels for collected packages: PySvelte\n",
            "  Building wheel for PySvelte (setup.py) ... \u001b[?25l\u001b[?25hdone\n",
            "  Created wheel for PySvelte: filename=PySvelte-1.0.0-py3-none-any.whl size=158306 sha256=54fe6076377e6ae9ad7eca4f7aac7779c35b930dea215e8acb09e3364611954e\n",
            "  Stored in directory: /tmp/pip-ephem-wheel-cache-f8n3de98/wheels/fa/f6/f2/673ef7aeb78d7503b6e3e42387132822fdc38d3ee283d3e5b4\n",
            "Successfully built PySvelte\n",
            "Installing collected packages: typeguard, PySvelte\n",
            "  Attempting uninstall: typeguard\n",
            "    Found existing installation: typeguard 4.1.0\n",
            "    Uninstalling typeguard-4.1.0:\n",
            "      Successfully uninstalled typeguard-4.1.0\n",
            "Successfully installed PySvelte-1.0.0 typeguard-2.13.3\n",
            "Requirement already satisfied: typeguard==2.13.3 in /usr/local/lib/python3.10/dist-packages (2.13.3)\n"
          ]
        }
      ],
      "source": [
        "# Janky code to do different setup when run in a Colab notebook vs VSCode\n",
        "DEBUG_MODE = False\n",
        "try:\n",
        "    import google.colab\n",
        "    IN_COLAB = True\n",
        "    print(\"Running as a Colab notebook\")\n",
        "    %pip install git+https://github.com/neelnanda-io/TransformerLens.git\n",
        "    # Install another version of node that makes PySvelte work way faster\n",
        "    !curl -fsSL https://deb.nodesource.com/setup_16.x | sudo -E bash -; sudo apt-get install -y nodejs\n",
        "    %pip install git+https://github.com/neelnanda-io/PySvelte.git\n",
        "    # Needed for PySvelte to work, v3 came out and broke things...\n",
        "    %pip install typeguard==2.13.3\n",
        "except:\n",
        "    IN_COLAB = False\n",
        "    print(\"Running as a Jupyter notebook - intended for development only!\")\n",
        "    from IPython import get_ipython\n",
        "\n",
        "    ipython = get_ipython()\n",
        "    # Code to automatically update the HookedTransformer code as its edited without restarting the kernel\n",
        "    ipython.magic(\"load_ext autoreload\")\n",
        "    ipython.magic(\"autoreload 2\")"
      ]
    },
    {
      "cell_type": "code",
      "execution_count": 2,
      "metadata": {
        "id": "ucSutS0c1kAw"
      },
      "outputs": [],
      "source": [
        "# Plotly needs a different renderer for VSCode/Notebooks vs Colab argh\n",
        "import plotly.io as pio\n",
        "\n",
        "if IN_COLAB or not DEBUG_MODE:\n",
        "    # Thanks to annoying rendering issues, Plotly graphics will either show up in colab OR Vscode depending on the renderer - this is bad for developing demos! Thus creating a debug mode.\n",
        "    pio.renderers.default = \"colab\"\n",
        "else:\n",
        "    pio.renderers.default = \"png\""
      ]
    },
    {
      "cell_type": "code",
      "execution_count": 3,
      "metadata": {
        "id": "uR_n0Mrl1kAx"
      },
      "outputs": [],
      "source": [
        "# Import stuff\n",
        "import torch\n",
        "import torch.nn as nn\n",
        "import torch.nn.functional as F\n",
        "import torch.optim as optim\n",
        "import numpy as np\n",
        "import einops\n",
        "import tqdm.notebook as tqdm\n",
        "import random\n",
        "from pathlib import Path\n",
        "import plotly.express as px\n",
        "from torch.utils.data import DataLoader\n",
        "\n",
        "from jaxtyping import Float, Int\n",
        "from typing import List, Union, Optional\n",
        "from functools import partial\n",
        "import copy\n",
        "\n",
        "import itertools\n",
        "from transformers import AutoModelForCausalLM, AutoConfig, AutoTokenizer\n",
        "import dataclasses\n",
        "from dataclasses import dataclass\n",
        "import datasets\n",
        "from IPython.display import HTML"
      ]
    },
    {
      "cell_type": "code",
      "execution_count": 4,
      "metadata": {
        "id": "YSZhMtBl1kAx"
      },
      "outputs": [],
      "source": [
        "import pysvelte\n",
        "\n",
        "import transformer_lens\n",
        "import transformer_lens.utils as utils\n",
        "from transformer_lens.hook_points import (\n",
        "    HookedRootModule,\n",
        "    HookPoint,\n",
        ")  # Hooking utilities\n",
        "from transformer_lens import HookedTransformer, HookedTransformerConfig, FactoredMatrix, ActivationCache"
      ]
    },
    {
      "cell_type": "markdown",
      "metadata": {
        "id": "DPzBb_kI1kAy"
      },
      "source": [
        "Plotting helper functions:"
      ]
    },
    {
      "cell_type": "code",
      "execution_count": 5,
      "metadata": {
        "id": "fBIDNqzV1kAy"
      },
      "outputs": [],
      "source": [
        "import plotly.graph_objects as go\n",
        "\n",
        "update_layout_set = {\"xaxis_range\", \"yaxis_range\", \"hovermode\", \"xaxis_title\", \"yaxis_title\", \"colorbar\", \"colorscale\", \"coloraxis\", \"title_x\", \"bargap\", \"bargroupgap\", \"xaxis_tickformat\", \"yaxis_tickformat\", \"title_y\", \"legend_title_text\", \"xaxis_showgrid\", \"xaxis_gridwidth\", \"xaxis_gridcolor\", \"yaxis_showgrid\", \"yaxis_gridwidth\"}\n",
        "def imshow(tensor, renderer=None, xaxis=\"\", yaxis=\"\", **kwargs):\n",
        "    kwargs_post = {k: v for k, v in kwargs.items() if k in update_layout_set}\n",
        "    kwargs_pre = {k: v for k, v in kwargs.items() if k not in update_layout_set}\n",
        "    if \"facet_labels\" in kwargs_pre:\n",
        "        facet_labels = kwargs_pre.pop(\"facet_labels\")\n",
        "    else:\n",
        "        facet_labels = None\n",
        "    if \"color_continuous_scale\" not in kwargs_pre:\n",
        "        kwargs_pre[\"color_continuous_scale\"] = \"RdBu\"\n",
        "    fig = px.imshow(utils.to_numpy(tensor), color_continuous_midpoint=0.0,labels={\"x\":xaxis, \"y\":yaxis}, **kwargs_pre).update_layout(**kwargs_post)\n",
        "    if facet_labels:\n",
        "        for i, label in enumerate(facet_labels):\n",
        "            fig.layout.annotations[i]['text'] = label\n",
        "\n",
        "    fig.show(renderer)\n",
        "\n",
        "def line(tensor, renderer=None, xaxis=\"\", yaxis=\"\", **kwargs):\n",
        "    px.line(y=utils.to_numpy(tensor), labels={\"x\":xaxis, \"y\":yaxis}, **kwargs).show(renderer)\n",
        "\n",
        "def scatter(x, y, xaxis=\"\", yaxis=\"\", caxis=\"\", renderer=None, **kwargs):\n",
        "    x = utils.to_numpy(x)\n",
        "    y = utils.to_numpy(y)\n",
        "    px.scatter(y=y, x=x, labels={\"x\":xaxis, \"y\":yaxis, \"color\":caxis}, **kwargs).show(renderer)\n",
        "\n",
        "def lines(lines_list, x=None, mode='lines', labels=None, xaxis='', yaxis='', title = '', log_y=False, hover=None, **kwargs):\n",
        "    # Helper function to plot multiple lines\n",
        "    if type(lines_list)==torch.Tensor:\n",
        "        lines_list = [lines_list[i] for i in range(lines_list.shape[0])]\n",
        "    if x is None:\n",
        "        x=np.arange(len(lines_list[0]))\n",
        "    fig = go.Figure(layout={'title':title})\n",
        "    fig.update_xaxes(title=xaxis)\n",
        "    fig.update_yaxes(title=yaxis)\n",
        "    for c, line in enumerate(lines_list):\n",
        "        if type(line)==torch.Tensor:\n",
        "            line = utils.to_numpy(line)\n",
        "        if labels is not None:\n",
        "            label = labels[c]\n",
        "        else:\n",
        "            label = c\n",
        "        fig.add_trace(go.Scatter(x=x, y=line, mode=mode, name=label, hovertext=hover, **kwargs))\n",
        "    if log_y:\n",
        "        fig.update_layout(yaxis_type=\"log\")\n",
        "    fig.show()\n",
        "\n",
        "def bar(tensor, renderer=None, xaxis=\"\", yaxis=\"\", **kwargs):\n",
        "    px.bar(\n",
        "        y=utils.to_numpy(tensor),\n",
        "        labels={\"x\": xaxis, \"y\": yaxis},\n",
        "        template=\"simple_white\",\n",
        "        **kwargs).show(renderer)"
      ]
    },
    {
      "cell_type": "code",
      "source": [
        "import transformer_lens.patching as patching\n",
        "from transformer_lens import evals\n",
        "import math"
      ],
      "metadata": {
        "id": "MzEwzeib1tjE"
      },
      "execution_count": 6,
      "outputs": []
    },
    {
      "cell_type": "code",
      "source": [
        "def visualize_attn_patterns(heads, local_tokens, local_cache, title: str = \"\"):\n",
        "    labels = []\n",
        "    patterns = []\n",
        "    batch_index = 0\n",
        "\n",
        "    for head in heads:\n",
        "        if isinstance(head, tuple):\n",
        "            layer, head_index = head\n",
        "        else:\n",
        "            layer, head_index = head // model.cfg.n_heads, head % model.cfg.n_heads\n",
        "        patterns.append(local_cache[\"pattern\", layer][batch_index, head_index])\n",
        "        labels.append(f\"L{layer}H{head_index}\")\n",
        "    patterns = torch.stack(patterns, dim=-1)\n",
        "    attn_viz = pysvelte.AttentionMulti(tokens=model.to_str_tokens(local_tokens[batch_index]), attention=patterns, head_labels=labels)\n",
        "    display(HTML(f\"<h3>{title}</h3>\"))\n",
        "    attn_viz.show()"
      ],
      "metadata": {
        "id": "AgWNZo0c7sp3"
      },
      "execution_count": 7,
      "outputs": []
    },
    {
      "cell_type": "markdown",
      "source": [
        "# Load Model"
      ],
      "metadata": {
        "id": "HdPsT2ZOxeua"
      }
    },
    {
      "cell_type": "code",
      "execution_count": 8,
      "metadata": {
        "id": "llysLeEq1kAy",
        "outputId": "7a719862-4a09-4a78-82e8-6cab89bf05fd",
        "colab": {
          "base_uri": "https://localhost:8080/"
        }
      },
      "outputs": [
        {
          "output_type": "execute_result",
          "data": {
            "text/plain": [
              "<torch.autograd.grad_mode.set_grad_enabled at 0x7e0ce5b43f10>"
            ]
          },
          "metadata": {},
          "execution_count": 8
        }
      ],
      "source": [
        "torch.set_grad_enabled(True)"
      ]
    },
    {
      "cell_type": "code",
      "source": [
        "device = 'cuda' if torch.cuda.is_available() else 'cpu'\n",
        "print(device)"
      ],
      "metadata": {
        "id": "S0QibP7y7xCm",
        "colab": {
          "base_uri": "https://localhost:8080/"
        },
        "outputId": "8335edf7-c7b9-48e5-c4b9-ff3d8e8ee78f"
      },
      "execution_count": 9,
      "outputs": [
        {
          "output_type": "stream",
          "name": "stdout",
          "text": [
            "cuda\n"
          ]
        }
      ]
    },
    {
      "cell_type": "code",
      "source": [
        "MAX_NUM=200\n",
        "cfg = HookedTransformerConfig(\n",
        "    n_layers=1,\n",
        "    n_heads=1,\n",
        "    d_model=32,\n",
        "    d_head=32,\n",
        "    n_ctx=3, # a b =\n",
        "    d_vocab=MAX_NUM+1, # 0, 1, ..., MAX_NUM-1, =\n",
        "    d_vocab_out=MAX_NUM,\n",
        "    normalization_type=None,\n",
        "    attn_only=True,\n",
        "    device=device,\n",
        "    seed=0\n",
        ")\n",
        "\n",
        "model = HookedTransformer(cfg)\n",
        "print(model)"
      ],
      "metadata": {
        "colab": {
          "base_uri": "https://localhost:8080/"
        },
        "id": "MXf9oarmJ1yS",
        "outputId": "26e623f0-e4e4-47a8-ae95-5ec78a083d45"
      },
      "execution_count": 10,
      "outputs": [
        {
          "output_type": "stream",
          "name": "stdout",
          "text": [
            "HookedTransformer(\n",
            "  (embed): Embed()\n",
            "  (hook_embed): HookPoint()\n",
            "  (pos_embed): PosEmbed()\n",
            "  (hook_pos_embed): HookPoint()\n",
            "  (blocks): ModuleList(\n",
            "    (0): TransformerBlock(\n",
            "      (ln1): Identity()\n",
            "      (attn): Attention(\n",
            "        (hook_k): HookPoint()\n",
            "        (hook_q): HookPoint()\n",
            "        (hook_v): HookPoint()\n",
            "        (hook_z): HookPoint()\n",
            "        (hook_attn_scores): HookPoint()\n",
            "        (hook_pattern): HookPoint()\n",
            "        (hook_result): HookPoint()\n",
            "      )\n",
            "      (hook_q_input): HookPoint()\n",
            "      (hook_k_input): HookPoint()\n",
            "      (hook_v_input): HookPoint()\n",
            "      (hook_attn_out): HookPoint()\n",
            "      (hook_mlp_in): HookPoint()\n",
            "      (hook_mlp_out): HookPoint()\n",
            "      (hook_resid_pre): HookPoint()\n",
            "      (hook_resid_post): HookPoint()\n",
            "    )\n",
            "  )\n",
            "  (unembed): Unembed()\n",
            ")\n"
          ]
        }
      ]
    },
    {
      "cell_type": "code",
      "source": [
        "# disable positional embeddings\n",
        "model.pos_embed.W_pos = nn.Parameter(torch.zeros_like(model.pos_embed.W_pos))\n",
        "model.pos_embed.W_pos.requires_grad = False"
      ],
      "metadata": {
        "id": "IKxrgFihKXfm"
      },
      "execution_count": 11,
      "outputs": []
    },
    {
      "cell_type": "code",
      "source": [
        "# disable biases\n",
        "for name, param in model.named_parameters():\n",
        "    if 'b_' in name:\n",
        "        param.requires_grad = False\n",
        "    print(name, param.shape, param.requires_grad)"
      ],
      "metadata": {
        "colab": {
          "base_uri": "https://localhost:8080/"
        },
        "id": "djwS7shUKjbr",
        "outputId": "f989d7e7-ccf8-4f0a-bc19-abae60606ee4"
      },
      "execution_count": 12,
      "outputs": [
        {
          "output_type": "stream",
          "name": "stdout",
          "text": [
            "embed.W_E torch.Size([201, 32]) True\n",
            "pos_embed.W_pos torch.Size([3, 32]) False\n",
            "blocks.0.attn.W_Q torch.Size([1, 32, 32]) True\n",
            "blocks.0.attn.W_K torch.Size([1, 32, 32]) True\n",
            "blocks.0.attn.W_V torch.Size([1, 32, 32]) True\n",
            "blocks.0.attn.W_O torch.Size([1, 32, 32]) True\n",
            "blocks.0.attn.b_Q torch.Size([1, 32]) False\n",
            "blocks.0.attn.b_K torch.Size([1, 32]) False\n",
            "blocks.0.attn.b_V torch.Size([1, 32]) False\n",
            "blocks.0.attn.b_O torch.Size([32]) False\n",
            "unembed.W_U torch.Size([32, 200]) True\n",
            "unembed.b_U torch.Size([200]) False\n"
          ]
        }
      ]
    },
    {
      "cell_type": "markdown",
      "source": [
        "# Training The Model"
      ],
      "metadata": {
        "id": "fOzK8voJLXQq"
      }
    },
    {
      "cell_type": "markdown",
      "source": [
        "## Task dataset"
      ],
      "metadata": {
        "id": "WJAFy_VOKxr1"
      }
    },
    {
      "cell_type": "code",
      "source": [
        "a_vec = einops.repeat(torch.arange(MAX_NUM), \"i -> (i j)\", j=MAX_NUM)\n",
        "print(a_vec.shape)\n",
        "print(a_vec[:5])\n",
        "\n",
        "b_vec = einops.repeat(torch.arange(MAX_NUM), \"i -> (j i)\", j=MAX_NUM)\n",
        "print(b_vec.shape)\n",
        "print(b_vec[:5])\n",
        "\n",
        "eq_vec = torch.ones_like(a_vec) * cfg.d_vocab-1\n",
        "print(eq_vec.shape)\n",
        "print(eq_vec[:5])\n",
        "\n",
        "dataset = torch.stack([a_vec, b_vec, eq_vec], dim=-1).to(device)\n",
        "print(dataset.shape)\n",
        "print(dataset[:5])"
      ],
      "metadata": {
        "colab": {
          "base_uri": "https://localhost:8080/"
        },
        "id": "ZgGUdgNQKuez",
        "outputId": "7e7cd065-80a8-489a-aae7-46a6a48edcfd"
      },
      "execution_count": 13,
      "outputs": [
        {
          "output_type": "stream",
          "name": "stdout",
          "text": [
            "torch.Size([40000])\n",
            "tensor([0, 0, 0, 0, 0])\n",
            "torch.Size([40000])\n",
            "tensor([0, 1, 2, 3, 4])\n",
            "torch.Size([40000])\n",
            "tensor([200, 200, 200, 200, 200])\n",
            "torch.Size([40000, 3])\n",
            "tensor([[  0,   0, 200],\n",
            "        [  0,   1, 200],\n",
            "        [  0,   2, 200],\n",
            "        [  0,   3, 200],\n",
            "        [  0,   4, 200]], device='cuda:0')\n"
          ]
        }
      ]
    },
    {
      "cell_type": "code",
      "source": [
        "labels = dataset.min(dim=-1).values\n",
        "print(labels.shape)\n",
        "print(labels[:5])"
      ],
      "metadata": {
        "colab": {
          "base_uri": "https://localhost:8080/"
        },
        "id": "Q2m6bchiLeJ3",
        "outputId": "914d2c5d-055a-48d5-8b83-e97c406c5ea8"
      },
      "execution_count": 14,
      "outputs": [
        {
          "output_type": "stream",
          "name": "stdout",
          "text": [
            "torch.Size([40000])\n",
            "tensor([0, 0, 0, 0, 0], device='cuda:0')\n"
          ]
        }
      ]
    },
    {
      "cell_type": "code",
      "source": [
        "DATA_SEED = 4\n",
        "torch.manual_seed(DATA_SEED)\n",
        "\n",
        "train_frac = 0.8\n",
        "\n",
        "indices = torch.randperm(dataset.shape[0])\n",
        "cutoff = int(train_frac * dataset.shape[0])\n",
        "\n",
        "train_indices = indices[:cutoff]\n",
        "test_indices = indices[cutoff:]\n",
        "\n",
        "train_data = dataset[train_indices]\n",
        "train_labels = labels[train_indices]\n",
        "print(train_data.shape)\n",
        "print(train_data[:5])\n",
        "print(train_labels.shape)\n",
        "print(train_labels[:5])\n",
        "\n",
        "test_data = dataset[test_indices]\n",
        "test_labels = labels[test_indices]\n",
        "print(test_data.shape)\n",
        "print(test_data[:5])\n",
        "print(test_labels.shape)\n",
        "print(test_labels[:5])"
      ],
      "metadata": {
        "colab": {
          "base_uri": "https://localhost:8080/"
        },
        "id": "MUH_v7V3LnBm",
        "outputId": "882ed62a-8e54-4571-fa29-e97aa0f49ae3"
      },
      "execution_count": 15,
      "outputs": [
        {
          "output_type": "stream",
          "name": "stdout",
          "text": [
            "torch.Size([32000, 3])\n",
            "tensor([[  7, 130, 200],\n",
            "        [182,   0, 200],\n",
            "        [110, 155, 200],\n",
            "        [ 82,   8, 200],\n",
            "        [126,  97, 200]], device='cuda:0')\n",
            "torch.Size([32000])\n",
            "tensor([  7,   0, 110,   8,  97], device='cuda:0')\n",
            "torch.Size([8000, 3])\n",
            "tensor([[ 19, 171, 200],\n",
            "        [  6, 195, 200],\n",
            "        [ 77,   0, 200],\n",
            "        [ 97,  39, 200],\n",
            "        [194,  42, 200]], device='cuda:0')\n",
            "torch.Size([8000])\n",
            "tensor([19,  6,  0, 39, 42], device='cuda:0')\n"
          ]
        }
      ]
    },
    {
      "cell_type": "markdown",
      "source": [
        "## Loss fn"
      ],
      "metadata": {
        "id": "ZlXhwCUdMZw2"
      }
    },
    {
      "cell_type": "code",
      "source": [
        "def loss_fn(logits, labels):\n",
        "    if logits.ndim == 3:\n",
        "        logits = logits[:, -1, :]\n",
        "\n",
        "    logits = logits.to(torch.float64)\n",
        "    log_probs = logits.log_softmax(dim=-1)\n",
        "    correct_log_probs = log_probs.gather(dim=-1, index=labels[..., None])\n",
        "    return -correct_log_probs.mean()\n",
        "\n",
        "with torch.no_grad():\n",
        "    train_logits = model(train_data)\n",
        "    train_loss = loss_fn(train_logits, train_labels)\n",
        "    print(train_loss)\n",
        "\n",
        "    test_logits = model(test_data)\n",
        "    test_loss = loss_fn(test_logits, test_labels)\n",
        "    print(test_loss)"
      ],
      "metadata": {
        "colab": {
          "base_uri": "https://localhost:8080/"
        },
        "id": "MChTFStIMRCQ",
        "outputId": "b7aec7b6-b7db-4102-fb57-236b4f4ae2d9"
      },
      "execution_count": 16,
      "outputs": [
        {
          "output_type": "stream",
          "name": "stdout",
          "text": [
            "tensor(5.3118, device='cuda:0', dtype=torch.float64)\n",
            "tensor(5.3117, device='cuda:0', dtype=torch.float64)\n"
          ]
        }
      ]
    },
    {
      "cell_type": "code",
      "source": [
        "print(\"uniform loss:\", np.log(model.cfg.d_vocab_out))"
      ],
      "metadata": {
        "colab": {
          "base_uri": "https://localhost:8080/"
        },
        "id": "5KTbPR5rM3wW",
        "outputId": "a146a225-a4be-44c2-edd2-8254b4574650"
      },
      "execution_count": 17,
      "outputs": [
        {
          "output_type": "stream",
          "name": "stdout",
          "text": [
            "uniform loss: 5.298317366548036\n"
          ]
        }
      ]
    },
    {
      "cell_type": "markdown",
      "source": [
        "## Setup Optimizer"
      ],
      "metadata": {
        "id": "mnALiOiiNF1s"
      }
    },
    {
      "cell_type": "code",
      "source": [
        "lr = 1e-3\n",
        "wd = 1.0\n",
        "betas = (0.9, 0.98)\n",
        "\n",
        "optimizer = torch.optim.AdamW(model.parameters(), lr=lr, weight_decay=wd, betas=betas)"
      ],
      "metadata": {
        "id": "TeqiQCRMM_4l"
      },
      "execution_count": 18,
      "outputs": []
    },
    {
      "cell_type": "markdown",
      "source": [
        "## Training Loop"
      ],
      "metadata": {
        "id": "GShwdPdbNQNK"
      }
    },
    {
      "cell_type": "code",
      "source": [
        "num_epochs = 4000\n",
        "\n",
        "train_losses = []\n",
        "test_losses = []\n",
        "for epoch in tqdm.tqdm(range(num_epochs)):\n",
        "    train_logits = model(train_data)\n",
        "    train_loss = loss_fn(train_logits, train_labels)\n",
        "    train_loss.backward()\n",
        "    train_losses.append(train_loss.item())\n",
        "\n",
        "    optimizer.step()\n",
        "    optimizer.zero_grad()\n",
        "\n",
        "    with torch.inference_mode():\n",
        "        test_logits = model(test_data)\n",
        "        test_loss = loss_fn(test_logits, test_labels)\n",
        "        test_losses.append(test_loss.item())\n",
        "\n",
        "    if epoch % 100 == 0:\n",
        "        print(f\"Epoch: {epoch}, train_loss: {train_loss.item()}, test_loss: {test_loss.item()}\")"
      ],
      "metadata": {
        "colab": {
          "base_uri": "https://localhost:8080/",
          "height": 763,
          "referenced_widgets": [
            "8a93a7fc9df840c0bb238e13355bb9d6",
            "66756209fc9748f6a522d0f77e574a82",
            "7b178c44c96d4096b4483925363ea9c8",
            "bbde9657c1324db3947f263efc638bbf",
            "d29c0075d2964500b056635f60657650",
            "469b0042573a4e4ba39bfaaa183b25e5",
            "bb011c51a3a444f69e661d27e4730a62",
            "65ab35b4777f45669e02063f72b01a54",
            "a8e3b103de2f493e935fd1f6ba86f696",
            "9d12384fc54049d887bcd82781e96b6b",
            "0152d98c238a414dabd535af94a119e0"
          ]
        },
        "id": "F_eWQukYNPom",
        "outputId": "d9e5f51a-c501-4f15-d3ab-7a046fa9ae49"
      },
      "execution_count": 19,
      "outputs": [
        {
          "output_type": "display_data",
          "data": {
            "text/plain": [
              "  0%|          | 0/4000 [00:00<?, ?it/s]"
            ],
            "application/vnd.jupyter.widget-view+json": {
              "version_major": 2,
              "version_minor": 0,
              "model_id": "8a93a7fc9df840c0bb238e13355bb9d6"
            }
          },
          "metadata": {}
        },
        {
          "output_type": "stream",
          "name": "stdout",
          "text": [
            "Epoch: 0, train_loss: 5.311815715960998, test_loss: 5.3079134446619225\n",
            "Epoch: 100, train_loss: 4.42157072643788, test_loss: 4.402977924066611\n",
            "Epoch: 200, train_loss: 1.0696433031596198, test_loss: 1.0552361521768059\n",
            "Epoch: 300, train_loss: 0.20378159609211002, test_loss: 0.21225169956642273\n",
            "Epoch: 400, train_loss: 0.0651223712076428, test_loss: 0.0758592472087193\n",
            "Epoch: 500, train_loss: 0.022508329382729623, test_loss: 0.032558631629622393\n",
            "Epoch: 600, train_loss: 0.007571175788413922, test_loss: 0.016541677077114507\n",
            "Epoch: 700, train_loss: 0.002716881626533853, test_loss: 0.010826971184498942\n",
            "Epoch: 800, train_loss: 0.0010170458793993993, test_loss: 0.008527235750295478\n",
            "Epoch: 900, train_loss: 0.00039951809477506206, test_loss: 0.007421142258790176\n",
            "Epoch: 1000, train_loss: 0.00016100406074683884, test_loss: 0.006828076606638773\n",
            "Epoch: 1100, train_loss: 6.62079704278245e-05, test_loss: 0.006532583899927963\n",
            "Epoch: 1200, train_loss: 2.784183797310489e-05, test_loss: 0.00634621205379648\n",
            "Epoch: 1300, train_loss: 1.20080811338221e-05, test_loss: 0.006214046412674055\n",
            "Epoch: 1400, train_loss: 5.317491396962787e-06, test_loss: 0.006103533754147178\n",
            "Epoch: 1500, train_loss: 2.5210627019015543e-06, test_loss: 0.005991219766644996\n",
            "Epoch: 1600, train_loss: 1.3093398926736978e-06, test_loss: 0.0058499650658714285\n",
            "Epoch: 1700, train_loss: 7.720726030474901e-07, test_loss: 0.005748731094775574\n",
            "Epoch: 1800, train_loss: 5.319023927837966e-07, test_loss: 0.005649345495276505\n",
            "Epoch: 1900, train_loss: 4.279099678911274e-07, test_loss: 0.005528645030467082\n",
            "Epoch: 2000, train_loss: 3.828506059427493e-07, test_loss: 0.005458837084085852\n",
            "Epoch: 2100, train_loss: 3.6547165944173174e-07, test_loss: 0.005376274201674549\n",
            "Epoch: 2200, train_loss: 3.5932338760480235e-07, test_loss: 0.0053000379633748726\n",
            "Epoch: 2300, train_loss: 3.5691284673537276e-07, test_loss: 0.005227103054788016\n",
            "Epoch: 2400, train_loss: 3.5624529335982505e-07, test_loss: 0.005154137607186729\n",
            "Epoch: 2500, train_loss: 3.5519401937961196e-07, test_loss: 0.0050899019259664\n",
            "Epoch: 2600, train_loss: 3.5562233615614026e-07, test_loss: 0.004995055191025138\n",
            "Epoch: 2700, train_loss: 3.538111678366352e-07, test_loss: 0.004946628546172262\n",
            "Epoch: 2800, train_loss: 3.548111396367484e-07, test_loss: 0.00485592775414996\n",
            "Epoch: 2900, train_loss: 3.5112785788831575e-07, test_loss: 0.004802984811983919\n",
            "Epoch: 3000, train_loss: 3.51386757469748e-07, test_loss: 0.004751750212537963\n",
            "Epoch: 3100, train_loss: 3.4949859082699476e-07, test_loss: 0.0047058885246645055\n",
            "Epoch: 3200, train_loss: 3.498997155924349e-07, test_loss: 0.0046266044746843225\n",
            "Epoch: 3300, train_loss: 3.463549732991798e-07, test_loss: 0.004608032079601879\n",
            "Epoch: 3400, train_loss: 3.4602034672068894e-07, test_loss: 0.004547282067156944\n",
            "Epoch: 3500, train_loss: 3.4448909815531137e-07, test_loss: 0.004480409414707523\n",
            "Epoch: 3600, train_loss: 3.436025257386331e-07, test_loss: 0.004444323730956519\n",
            "Epoch: 3700, train_loss: 3.442760753462093e-07, test_loss: 0.004391910445896009\n",
            "Epoch: 3800, train_loss: 3.4209697697683774e-07, test_loss: 0.004317104632876257\n",
            "Epoch: 3900, train_loss: 3.4099630619454207e-07, test_loss: 0.004282089720044178\n"
          ]
        }
      ]
    },
    {
      "cell_type": "code",
      "source": [
        "lines(\n",
        "    [train_losses, test_losses],\n",
        "    title=\"Loss curves\",\n",
        "    xaxis=\"Epoch\", yaxis=\"Loss\",\n",
        "    labels=[\"Train\", \"Test\"]\n",
        ")"
      ],
      "metadata": {
        "colab": {
          "base_uri": "https://localhost:8080/",
          "height": 542
        },
        "id": "c2e0ZzN_Nu1_",
        "outputId": "a195b347-7b36-4a6e-9513-aef054c3e90f"
      },
      "execution_count": 20,
      "outputs": [
        {
          "output_type": "display_data",
          "data": {
            "text/html": [
              "<html>\n",
              "<head><meta charset=\"utf-8\" /></head>\n",
              "<body>\n",
              "    <div>            <script src=\"https://cdnjs.cloudflare.com/ajax/libs/mathjax/2.7.5/MathJax.js?config=TeX-AMS-MML_SVG\"></script><script type=\"text/javascript\">if (window.MathJax && window.MathJax.Hub && window.MathJax.Hub.Config) {window.MathJax.Hub.Config({SVG: {font: \"STIX-Web\"}});}</script>                <script type=\"text/javascript\">window.PlotlyConfig = {MathJaxConfig: 'local'};</script>\n",
              "        <script src=\"https://cdn.plot.ly/plotly-2.18.2.min.js\"></script>                <div id=\"6e1dba43-5e75-4a3b-a72c-08ea964c7258\" class=\"plotly-graph-div\" style=\"height:525px; width:100%;\"></div>            <script type=\"text/javascript\">                                    window.PLOTLYENV=window.PLOTLYENV || {};                                    if (document.getElementById(\"6e1dba43-5e75-4a3b-a72c-08ea964c7258\")) {                    Plotly.newPlot(                        \"6e1dba43-5e75-4a3b-a72c-08ea964c7258\",                        [{\"mode\":\"lines\",\"name\":\"Train\",\"x\":[0,1,2,3,4,5,6,7,8,9,10,11,12,13,14,15,16,17,18,19,20,21,22,23,24,25,26,27,28,29,30,31,32,33,34,35,36,37,38,39,40,41,42,43,44,45,46,47,48,49,50,51,52,53,54,55,56,57,58,59,60,61,62,63,64,65,66,67,68,69,70,71,72,73,74,75,76,77,78,79,80,81,82,83,84,85,86,87,88,89,90,91,92,93,94,95,96,97,98,99,100,101,102,103,104,105,106,107,108,109,110,111,112,113,114,115,116,117,118,119,120,121,122,123,124,125,126,127,128,129,130,131,132,133,134,135,136,137,138,139,140,141,142,143,144,145,146,147,148,149,150,151,152,153,154,155,156,157,158,159,160,161,162,163,164,165,166,167,168,169,170,171,172,173,174,175,176,177,178,179,180,181,182,183,184,185,186,187,188,189,190,191,192,193,194,195,196,197,198,199,200,201,202,203,204,205,206,207,208,209,210,211,212,213,214,215,216,217,218,219,220,221,222,223,224,225,226,227,228,229,230,231,232,233,234,235,236,237,238,239,240,241,242,243,244,245,246,247,248,249,250,251,252,253,254,255,256,257,258,259,260,261,262,263,264,265,266,267,268,269,270,271,272,273,274,275,276,277,278,279,280,281,282,283,284,285,286,287,288,289,290,291,292,293,294,295,296,297,298,299,300,301,302,303,304,305,306,307,308,309,310,311,312,313,314,315,316,317,318,319,320,321,322,323,324,325,326,327,328,329,330,331,332,333,334,335,336,337,338,339,340,341,342,343,344,345,346,347,348,349,350,351,352,353,354,355,356,357,358,359,360,361,362,363,364,365,366,367,368,369,370,371,372,373,374,375,376,377,378,379,380,381,382,383,384,385,386,387,388,389,390,391,392,393,394,395,396,397,398,399,400,401,402,403,404,405,406,407,408,409,410,411,412,413,414,415,416,417,418,419,420,421,422,423,424,425,426,427,428,429,430,431,432,433,434,435,436,437,438,439,440,441,442,443,444,445,446,447,448,449,450,451,452,453,454,455,456,457,458,459,460,461,462,463,464,465,466,467,468,469,470,471,472,473,474,475,476,477,478,479,480,481,482,483,484,485,486,487,488,489,490,491,492,493,494,495,496,497,498,499,500,501,502,503,504,505,506,507,508,509,510,511,512,513,514,515,516,517,518,519,520,521,522,523,524,525,526,527,528,529,530,531,532,533,534,535,536,537,538,539,540,541,542,543,544,545,546,547,548,549,550,551,552,553,554,555,556,557,558,559,560,561,562,563,564,565,566,567,568,569,570,571,572,573,574,575,576,577,578,579,580,581,582,583,584,585,586,587,588,589,590,591,592,593,594,595,596,597,598,599,600,601,602,603,604,605,606,607,608,609,610,611,612,613,614,615,616,617,618,619,620,621,622,623,624,625,626,627,628,629,630,631,632,633,634,635,636,637,638,639,640,641,642,643,644,645,646,647,648,649,650,651,652,653,654,655,656,657,658,659,660,661,662,663,664,665,666,667,668,669,670,671,672,673,674,675,676,677,678,679,680,681,682,683,684,685,686,687,688,689,690,691,692,693,694,695,696,697,698,699,700,701,702,703,704,705,706,707,708,709,710,711,712,713,714,715,716,717,718,719,720,721,722,723,724,725,726,727,728,729,730,731,732,733,734,735,736,737,738,739,740,741,742,743,744,745,746,747,748,749,750,751,752,753,754,755,756,757,758,759,760,761,762,763,764,765,766,767,768,769,770,771,772,773,774,775,776,777,778,779,780,781,782,783,784,785,786,787,788,789,790,791,792,793,794,795,796,797,798,799,800,801,802,803,804,805,806,807,808,809,810,811,812,813,814,815,816,817,818,819,820,821,822,823,824,825,826,827,828,829,830,831,832,833,834,835,836,837,838,839,840,841,842,843,844,845,846,847,848,849,850,851,852,853,854,855,856,857,858,859,860,861,862,863,864,865,866,867,868,869,870,871,872,873,874,875,876,877,878,879,880,881,882,883,884,885,886,887,888,889,890,891,892,893,894,895,896,897,898,899,900,901,902,903,904,905,906,907,908,909,910,911,912,913,914,915,916,917,918,919,920,921,922,923,924,925,926,927,928,929,930,931,932,933,934,935,936,937,938,939,940,941,942,943,944,945,946,947,948,949,950,951,952,953,954,955,956,957,958,959,960,961,962,963,964,965,966,967,968,969,970,971,972,973,974,975,976,977,978,979,980,981,982,983,984,985,986,987,988,989,990,991,992,993,994,995,996,997,998,999,1000,1001,1002,1003,1004,1005,1006,1007,1008,1009,1010,1011,1012,1013,1014,1015,1016,1017,1018,1019,1020,1021,1022,1023,1024,1025,1026,1027,1028,1029,1030,1031,1032,1033,1034,1035,1036,1037,1038,1039,1040,1041,1042,1043,1044,1045,1046,1047,1048,1049,1050,1051,1052,1053,1054,1055,1056,1057,1058,1059,1060,1061,1062,1063,1064,1065,1066,1067,1068,1069,1070,1071,1072,1073,1074,1075,1076,1077,1078,1079,1080,1081,1082,1083,1084,1085,1086,1087,1088,1089,1090,1091,1092,1093,1094,1095,1096,1097,1098,1099,1100,1101,1102,1103,1104,1105,1106,1107,1108,1109,1110,1111,1112,1113,1114,1115,1116,1117,1118,1119,1120,1121,1122,1123,1124,1125,1126,1127,1128,1129,1130,1131,1132,1133,1134,1135,1136,1137,1138,1139,1140,1141,1142,1143,1144,1145,1146,1147,1148,1149,1150,1151,1152,1153,1154,1155,1156,1157,1158,1159,1160,1161,1162,1163,1164,1165,1166,1167,1168,1169,1170,1171,1172,1173,1174,1175,1176,1177,1178,1179,1180,1181,1182,1183,1184,1185,1186,1187,1188,1189,1190,1191,1192,1193,1194,1195,1196,1197,1198,1199,1200,1201,1202,1203,1204,1205,1206,1207,1208,1209,1210,1211,1212,1213,1214,1215,1216,1217,1218,1219,1220,1221,1222,1223,1224,1225,1226,1227,1228,1229,1230,1231,1232,1233,1234,1235,1236,1237,1238,1239,1240,1241,1242,1243,1244,1245,1246,1247,1248,1249,1250,1251,1252,1253,1254,1255,1256,1257,1258,1259,1260,1261,1262,1263,1264,1265,1266,1267,1268,1269,1270,1271,1272,1273,1274,1275,1276,1277,1278,1279,1280,1281,1282,1283,1284,1285,1286,1287,1288,1289,1290,1291,1292,1293,1294,1295,1296,1297,1298,1299,1300,1301,1302,1303,1304,1305,1306,1307,1308,1309,1310,1311,1312,1313,1314,1315,1316,1317,1318,1319,1320,1321,1322,1323,1324,1325,1326,1327,1328,1329,1330,1331,1332,1333,1334,1335,1336,1337,1338,1339,1340,1341,1342,1343,1344,1345,1346,1347,1348,1349,1350,1351,1352,1353,1354,1355,1356,1357,1358,1359,1360,1361,1362,1363,1364,1365,1366,1367,1368,1369,1370,1371,1372,1373,1374,1375,1376,1377,1378,1379,1380,1381,1382,1383,1384,1385,1386,1387,1388,1389,1390,1391,1392,1393,1394,1395,1396,1397,1398,1399,1400,1401,1402,1403,1404,1405,1406,1407,1408,1409,1410,1411,1412,1413,1414,1415,1416,1417,1418,1419,1420,1421,1422,1423,1424,1425,1426,1427,1428,1429,1430,1431,1432,1433,1434,1435,1436,1437,1438,1439,1440,1441,1442,1443,1444,1445,1446,1447,1448,1449,1450,1451,1452,1453,1454,1455,1456,1457,1458,1459,1460,1461,1462,1463,1464,1465,1466,1467,1468,1469,1470,1471,1472,1473,1474,1475,1476,1477,1478,1479,1480,1481,1482,1483,1484,1485,1486,1487,1488,1489,1490,1491,1492,1493,1494,1495,1496,1497,1498,1499,1500,1501,1502,1503,1504,1505,1506,1507,1508,1509,1510,1511,1512,1513,1514,1515,1516,1517,1518,1519,1520,1521,1522,1523,1524,1525,1526,1527,1528,1529,1530,1531,1532,1533,1534,1535,1536,1537,1538,1539,1540,1541,1542,1543,1544,1545,1546,1547,1548,1549,1550,1551,1552,1553,1554,1555,1556,1557,1558,1559,1560,1561,1562,1563,1564,1565,1566,1567,1568,1569,1570,1571,1572,1573,1574,1575,1576,1577,1578,1579,1580,1581,1582,1583,1584,1585,1586,1587,1588,1589,1590,1591,1592,1593,1594,1595,1596,1597,1598,1599,1600,1601,1602,1603,1604,1605,1606,1607,1608,1609,1610,1611,1612,1613,1614,1615,1616,1617,1618,1619,1620,1621,1622,1623,1624,1625,1626,1627,1628,1629,1630,1631,1632,1633,1634,1635,1636,1637,1638,1639,1640,1641,1642,1643,1644,1645,1646,1647,1648,1649,1650,1651,1652,1653,1654,1655,1656,1657,1658,1659,1660,1661,1662,1663,1664,1665,1666,1667,1668,1669,1670,1671,1672,1673,1674,1675,1676,1677,1678,1679,1680,1681,1682,1683,1684,1685,1686,1687,1688,1689,1690,1691,1692,1693,1694,1695,1696,1697,1698,1699,1700,1701,1702,1703,1704,1705,1706,1707,1708,1709,1710,1711,1712,1713,1714,1715,1716,1717,1718,1719,1720,1721,1722,1723,1724,1725,1726,1727,1728,1729,1730,1731,1732,1733,1734,1735,1736,1737,1738,1739,1740,1741,1742,1743,1744,1745,1746,1747,1748,1749,1750,1751,1752,1753,1754,1755,1756,1757,1758,1759,1760,1761,1762,1763,1764,1765,1766,1767,1768,1769,1770,1771,1772,1773,1774,1775,1776,1777,1778,1779,1780,1781,1782,1783,1784,1785,1786,1787,1788,1789,1790,1791,1792,1793,1794,1795,1796,1797,1798,1799,1800,1801,1802,1803,1804,1805,1806,1807,1808,1809,1810,1811,1812,1813,1814,1815,1816,1817,1818,1819,1820,1821,1822,1823,1824,1825,1826,1827,1828,1829,1830,1831,1832,1833,1834,1835,1836,1837,1838,1839,1840,1841,1842,1843,1844,1845,1846,1847,1848,1849,1850,1851,1852,1853,1854,1855,1856,1857,1858,1859,1860,1861,1862,1863,1864,1865,1866,1867,1868,1869,1870,1871,1872,1873,1874,1875,1876,1877,1878,1879,1880,1881,1882,1883,1884,1885,1886,1887,1888,1889,1890,1891,1892,1893,1894,1895,1896,1897,1898,1899,1900,1901,1902,1903,1904,1905,1906,1907,1908,1909,1910,1911,1912,1913,1914,1915,1916,1917,1918,1919,1920,1921,1922,1923,1924,1925,1926,1927,1928,1929,1930,1931,1932,1933,1934,1935,1936,1937,1938,1939,1940,1941,1942,1943,1944,1945,1946,1947,1948,1949,1950,1951,1952,1953,1954,1955,1956,1957,1958,1959,1960,1961,1962,1963,1964,1965,1966,1967,1968,1969,1970,1971,1972,1973,1974,1975,1976,1977,1978,1979,1980,1981,1982,1983,1984,1985,1986,1987,1988,1989,1990,1991,1992,1993,1994,1995,1996,1997,1998,1999,2000,2001,2002,2003,2004,2005,2006,2007,2008,2009,2010,2011,2012,2013,2014,2015,2016,2017,2018,2019,2020,2021,2022,2023,2024,2025,2026,2027,2028,2029,2030,2031,2032,2033,2034,2035,2036,2037,2038,2039,2040,2041,2042,2043,2044,2045,2046,2047,2048,2049,2050,2051,2052,2053,2054,2055,2056,2057,2058,2059,2060,2061,2062,2063,2064,2065,2066,2067,2068,2069,2070,2071,2072,2073,2074,2075,2076,2077,2078,2079,2080,2081,2082,2083,2084,2085,2086,2087,2088,2089,2090,2091,2092,2093,2094,2095,2096,2097,2098,2099,2100,2101,2102,2103,2104,2105,2106,2107,2108,2109,2110,2111,2112,2113,2114,2115,2116,2117,2118,2119,2120,2121,2122,2123,2124,2125,2126,2127,2128,2129,2130,2131,2132,2133,2134,2135,2136,2137,2138,2139,2140,2141,2142,2143,2144,2145,2146,2147,2148,2149,2150,2151,2152,2153,2154,2155,2156,2157,2158,2159,2160,2161,2162,2163,2164,2165,2166,2167,2168,2169,2170,2171,2172,2173,2174,2175,2176,2177,2178,2179,2180,2181,2182,2183,2184,2185,2186,2187,2188,2189,2190,2191,2192,2193,2194,2195,2196,2197,2198,2199,2200,2201,2202,2203,2204,2205,2206,2207,2208,2209,2210,2211,2212,2213,2214,2215,2216,2217,2218,2219,2220,2221,2222,2223,2224,2225,2226,2227,2228,2229,2230,2231,2232,2233,2234,2235,2236,2237,2238,2239,2240,2241,2242,2243,2244,2245,2246,2247,2248,2249,2250,2251,2252,2253,2254,2255,2256,2257,2258,2259,2260,2261,2262,2263,2264,2265,2266,2267,2268,2269,2270,2271,2272,2273,2274,2275,2276,2277,2278,2279,2280,2281,2282,2283,2284,2285,2286,2287,2288,2289,2290,2291,2292,2293,2294,2295,2296,2297,2298,2299,2300,2301,2302,2303,2304,2305,2306,2307,2308,2309,2310,2311,2312,2313,2314,2315,2316,2317,2318,2319,2320,2321,2322,2323,2324,2325,2326,2327,2328,2329,2330,2331,2332,2333,2334,2335,2336,2337,2338,2339,2340,2341,2342,2343,2344,2345,2346,2347,2348,2349,2350,2351,2352,2353,2354,2355,2356,2357,2358,2359,2360,2361,2362,2363,2364,2365,2366,2367,2368,2369,2370,2371,2372,2373,2374,2375,2376,2377,2378,2379,2380,2381,2382,2383,2384,2385,2386,2387,2388,2389,2390,2391,2392,2393,2394,2395,2396,2397,2398,2399,2400,2401,2402,2403,2404,2405,2406,2407,2408,2409,2410,2411,2412,2413,2414,2415,2416,2417,2418,2419,2420,2421,2422,2423,2424,2425,2426,2427,2428,2429,2430,2431,2432,2433,2434,2435,2436,2437,2438,2439,2440,2441,2442,2443,2444,2445,2446,2447,2448,2449,2450,2451,2452,2453,2454,2455,2456,2457,2458,2459,2460,2461,2462,2463,2464,2465,2466,2467,2468,2469,2470,2471,2472,2473,2474,2475,2476,2477,2478,2479,2480,2481,2482,2483,2484,2485,2486,2487,2488,2489,2490,2491,2492,2493,2494,2495,2496,2497,2498,2499,2500,2501,2502,2503,2504,2505,2506,2507,2508,2509,2510,2511,2512,2513,2514,2515,2516,2517,2518,2519,2520,2521,2522,2523,2524,2525,2526,2527,2528,2529,2530,2531,2532,2533,2534,2535,2536,2537,2538,2539,2540,2541,2542,2543,2544,2545,2546,2547,2548,2549,2550,2551,2552,2553,2554,2555,2556,2557,2558,2559,2560,2561,2562,2563,2564,2565,2566,2567,2568,2569,2570,2571,2572,2573,2574,2575,2576,2577,2578,2579,2580,2581,2582,2583,2584,2585,2586,2587,2588,2589,2590,2591,2592,2593,2594,2595,2596,2597,2598,2599,2600,2601,2602,2603,2604,2605,2606,2607,2608,2609,2610,2611,2612,2613,2614,2615,2616,2617,2618,2619,2620,2621,2622,2623,2624,2625,2626,2627,2628,2629,2630,2631,2632,2633,2634,2635,2636,2637,2638,2639,2640,2641,2642,2643,2644,2645,2646,2647,2648,2649,2650,2651,2652,2653,2654,2655,2656,2657,2658,2659,2660,2661,2662,2663,2664,2665,2666,2667,2668,2669,2670,2671,2672,2673,2674,2675,2676,2677,2678,2679,2680,2681,2682,2683,2684,2685,2686,2687,2688,2689,2690,2691,2692,2693,2694,2695,2696,2697,2698,2699,2700,2701,2702,2703,2704,2705,2706,2707,2708,2709,2710,2711,2712,2713,2714,2715,2716,2717,2718,2719,2720,2721,2722,2723,2724,2725,2726,2727,2728,2729,2730,2731,2732,2733,2734,2735,2736,2737,2738,2739,2740,2741,2742,2743,2744,2745,2746,2747,2748,2749,2750,2751,2752,2753,2754,2755,2756,2757,2758,2759,2760,2761,2762,2763,2764,2765,2766,2767,2768,2769,2770,2771,2772,2773,2774,2775,2776,2777,2778,2779,2780,2781,2782,2783,2784,2785,2786,2787,2788,2789,2790,2791,2792,2793,2794,2795,2796,2797,2798,2799,2800,2801,2802,2803,2804,2805,2806,2807,2808,2809,2810,2811,2812,2813,2814,2815,2816,2817,2818,2819,2820,2821,2822,2823,2824,2825,2826,2827,2828,2829,2830,2831,2832,2833,2834,2835,2836,2837,2838,2839,2840,2841,2842,2843,2844,2845,2846,2847,2848,2849,2850,2851,2852,2853,2854,2855,2856,2857,2858,2859,2860,2861,2862,2863,2864,2865,2866,2867,2868,2869,2870,2871,2872,2873,2874,2875,2876,2877,2878,2879,2880,2881,2882,2883,2884,2885,2886,2887,2888,2889,2890,2891,2892,2893,2894,2895,2896,2897,2898,2899,2900,2901,2902,2903,2904,2905,2906,2907,2908,2909,2910,2911,2912,2913,2914,2915,2916,2917,2918,2919,2920,2921,2922,2923,2924,2925,2926,2927,2928,2929,2930,2931,2932,2933,2934,2935,2936,2937,2938,2939,2940,2941,2942,2943,2944,2945,2946,2947,2948,2949,2950,2951,2952,2953,2954,2955,2956,2957,2958,2959,2960,2961,2962,2963,2964,2965,2966,2967,2968,2969,2970,2971,2972,2973,2974,2975,2976,2977,2978,2979,2980,2981,2982,2983,2984,2985,2986,2987,2988,2989,2990,2991,2992,2993,2994,2995,2996,2997,2998,2999,3000,3001,3002,3003,3004,3005,3006,3007,3008,3009,3010,3011,3012,3013,3014,3015,3016,3017,3018,3019,3020,3021,3022,3023,3024,3025,3026,3027,3028,3029,3030,3031,3032,3033,3034,3035,3036,3037,3038,3039,3040,3041,3042,3043,3044,3045,3046,3047,3048,3049,3050,3051,3052,3053,3054,3055,3056,3057,3058,3059,3060,3061,3062,3063,3064,3065,3066,3067,3068,3069,3070,3071,3072,3073,3074,3075,3076,3077,3078,3079,3080,3081,3082,3083,3084,3085,3086,3087,3088,3089,3090,3091,3092,3093,3094,3095,3096,3097,3098,3099,3100,3101,3102,3103,3104,3105,3106,3107,3108,3109,3110,3111,3112,3113,3114,3115,3116,3117,3118,3119,3120,3121,3122,3123,3124,3125,3126,3127,3128,3129,3130,3131,3132,3133,3134,3135,3136,3137,3138,3139,3140,3141,3142,3143,3144,3145,3146,3147,3148,3149,3150,3151,3152,3153,3154,3155,3156,3157,3158,3159,3160,3161,3162,3163,3164,3165,3166,3167,3168,3169,3170,3171,3172,3173,3174,3175,3176,3177,3178,3179,3180,3181,3182,3183,3184,3185,3186,3187,3188,3189,3190,3191,3192,3193,3194,3195,3196,3197,3198,3199,3200,3201,3202,3203,3204,3205,3206,3207,3208,3209,3210,3211,3212,3213,3214,3215,3216,3217,3218,3219,3220,3221,3222,3223,3224,3225,3226,3227,3228,3229,3230,3231,3232,3233,3234,3235,3236,3237,3238,3239,3240,3241,3242,3243,3244,3245,3246,3247,3248,3249,3250,3251,3252,3253,3254,3255,3256,3257,3258,3259,3260,3261,3262,3263,3264,3265,3266,3267,3268,3269,3270,3271,3272,3273,3274,3275,3276,3277,3278,3279,3280,3281,3282,3283,3284,3285,3286,3287,3288,3289,3290,3291,3292,3293,3294,3295,3296,3297,3298,3299,3300,3301,3302,3303,3304,3305,3306,3307,3308,3309,3310,3311,3312,3313,3314,3315,3316,3317,3318,3319,3320,3321,3322,3323,3324,3325,3326,3327,3328,3329,3330,3331,3332,3333,3334,3335,3336,3337,3338,3339,3340,3341,3342,3343,3344,3345,3346,3347,3348,3349,3350,3351,3352,3353,3354,3355,3356,3357,3358,3359,3360,3361,3362,3363,3364,3365,3366,3367,3368,3369,3370,3371,3372,3373,3374,3375,3376,3377,3378,3379,3380,3381,3382,3383,3384,3385,3386,3387,3388,3389,3390,3391,3392,3393,3394,3395,3396,3397,3398,3399,3400,3401,3402,3403,3404,3405,3406,3407,3408,3409,3410,3411,3412,3413,3414,3415,3416,3417,3418,3419,3420,3421,3422,3423,3424,3425,3426,3427,3428,3429,3430,3431,3432,3433,3434,3435,3436,3437,3438,3439,3440,3441,3442,3443,3444,3445,3446,3447,3448,3449,3450,3451,3452,3453,3454,3455,3456,3457,3458,3459,3460,3461,3462,3463,3464,3465,3466,3467,3468,3469,3470,3471,3472,3473,3474,3475,3476,3477,3478,3479,3480,3481,3482,3483,3484,3485,3486,3487,3488,3489,3490,3491,3492,3493,3494,3495,3496,3497,3498,3499,3500,3501,3502,3503,3504,3505,3506,3507,3508,3509,3510,3511,3512,3513,3514,3515,3516,3517,3518,3519,3520,3521,3522,3523,3524,3525,3526,3527,3528,3529,3530,3531,3532,3533,3534,3535,3536,3537,3538,3539,3540,3541,3542,3543,3544,3545,3546,3547,3548,3549,3550,3551,3552,3553,3554,3555,3556,3557,3558,3559,3560,3561,3562,3563,3564,3565,3566,3567,3568,3569,3570,3571,3572,3573,3574,3575,3576,3577,3578,3579,3580,3581,3582,3583,3584,3585,3586,3587,3588,3589,3590,3591,3592,3593,3594,3595,3596,3597,3598,3599,3600,3601,3602,3603,3604,3605,3606,3607,3608,3609,3610,3611,3612,3613,3614,3615,3616,3617,3618,3619,3620,3621,3622,3623,3624,3625,3626,3627,3628,3629,3630,3631,3632,3633,3634,3635,3636,3637,3638,3639,3640,3641,3642,3643,3644,3645,3646,3647,3648,3649,3650,3651,3652,3653,3654,3655,3656,3657,3658,3659,3660,3661,3662,3663,3664,3665,3666,3667,3668,3669,3670,3671,3672,3673,3674,3675,3676,3677,3678,3679,3680,3681,3682,3683,3684,3685,3686,3687,3688,3689,3690,3691,3692,3693,3694,3695,3696,3697,3698,3699,3700,3701,3702,3703,3704,3705,3706,3707,3708,3709,3710,3711,3712,3713,3714,3715,3716,3717,3718,3719,3720,3721,3722,3723,3724,3725,3726,3727,3728,3729,3730,3731,3732,3733,3734,3735,3736,3737,3738,3739,3740,3741,3742,3743,3744,3745,3746,3747,3748,3749,3750,3751,3752,3753,3754,3755,3756,3757,3758,3759,3760,3761,3762,3763,3764,3765,3766,3767,3768,3769,3770,3771,3772,3773,3774,3775,3776,3777,3778,3779,3780,3781,3782,3783,3784,3785,3786,3787,3788,3789,3790,3791,3792,3793,3794,3795,3796,3797,3798,3799,3800,3801,3802,3803,3804,3805,3806,3807,3808,3809,3810,3811,3812,3813,3814,3815,3816,3817,3818,3819,3820,3821,3822,3823,3824,3825,3826,3827,3828,3829,3830,3831,3832,3833,3834,3835,3836,3837,3838,3839,3840,3841,3842,3843,3844,3845,3846,3847,3848,3849,3850,3851,3852,3853,3854,3855,3856,3857,3858,3859,3860,3861,3862,3863,3864,3865,3866,3867,3868,3869,3870,3871,3872,3873,3874,3875,3876,3877,3878,3879,3880,3881,3882,3883,3884,3885,3886,3887,3888,3889,3890,3891,3892,3893,3894,3895,3896,3897,3898,3899,3900,3901,3902,3903,3904,3905,3906,3907,3908,3909,3910,3911,3912,3913,3914,3915,3916,3917,3918,3919,3920,3921,3922,3923,3924,3925,3926,3927,3928,3929,3930,3931,3932,3933,3934,3935,3936,3937,3938,3939,3940,3941,3942,3943,3944,3945,3946,3947,3948,3949,3950,3951,3952,3953,3954,3955,3956,3957,3958,3959,3960,3961,3962,3963,3964,3965,3966,3967,3968,3969,3970,3971,3972,3973,3974,3975,3976,3977,3978,3979,3980,3981,3982,3983,3984,3985,3986,3987,3988,3989,3990,3991,3992,3993,3994,3995,3996,3997,3998,3999],\"y\":[5.311815715960998,5.307946861409011,5.3041399273528365,5.300391530711244,5.296697312674271,5.29305249312727,5.289452073072631,5.285890942616783,5.282363954481385,5.278865941777391,5.275391679392892,5.271935819819797,5.268492869447329,5.265057190747462,5.261623052956513,5.258184679864231,5.2547363093561,5.251272237076468,5.24778684700165,5.244274633970315,5.240730211705557,5.237148313540338,5.233523804012361,5.229851669191852,5.226127026584321,5.22234512147028,5.218501326020523,5.214591141126872,5.210610175207374,5.206554132774902,5.202418793767832,5.198199988600641,5.193893582653345,5.189495482471396,5.185001615089794,5.180407927108712,5.1757103828172655,5.170904951955399,5.1659876068438875,5.1609543109200136,5.155801007530872,5.150523617225953,5.145118033270545,5.139580115797007,5.133905692724721,5.128090541552564,5.122130389317256,5.116020899281792,5.1097576559933096,5.103336156544621,5.0967517955767905,5.089999874584504,5.083075607872407,5.075974110230542,5.068690421226434,5.061219501311908,5.053556249808553,5.0456955155799985,5.037632102376934,5.0293607989388915,5.020876365403216,5.012173569200786,5.003247215649516,4.9940921774716465,4.984703443776478,4.975076092572521,4.965205321310799,4.955086429618883,4.944714745485641,4.934085582176173,4.9231941378764645,4.9120353762083635,4.900603982971009,4.888894160137907,4.87689942964871,4.86461241866556,4.852024773928178,4.839127177991742,4.825909388763879,4.812360247936855,4.79846768303257,4.784218679165556,4.769599284021059,4.75459456170498,4.739188601235977,4.723364431985649,4.707104001738681,4.6903881981708535,4.673196867308428,4.65550894642845,4.637302578756343,4.6185552172122755,4.599243765478285,4.579344688230849,4.558834034589674,4.53768756621976,4.515880932755174,4.493389748429241,4.470189928287789,4.446257852623866,4.42157072643788,4.396106881127817,4.36984623623647,4.342770612729748,4.314864252197726,4.286114180572602,4.2565106204620795,4.226047572324413,4.1947230692322295,4.162539605030567,4.129504569918253,4.095630450850136,4.060935426335464,4.02544340176148,3.989184309195892,3.9521939077935677,3.914513491512568,3.876189351443748,3.8372722665545305,3.7978165757540183,3.7578794737021792,3.717519801893407,3.6767971875243237,3.635770829809014,3.5944983973481994,3.553035174335359,3.511433286026788,3.469740905217883,3.4280020299419434,3.386256281192719,3.3445388198533434,3.3028805484654615,3.261308302116699,3.2198452424337662,3.178511194861205,3.137323087724761,3.0962954011073025,3.0554406212981644,3.014769605069785,2.974291919912811,2.9340162525142124,2.8939505120521445,2.854102090274004,2.814478080012752,2.7750852559876,2.735930151200103,2.697019105789044,2.6583582128343206,2.619953303692743,2.5818100357200056,2.5439338331105747,2.5063297711581516,2.4690027685290064,2.431957503401448,2.3951985538456655,2.3587302700335187,2.3225570745281594,2.2866833077841515,2.251113369863207,2.21585174005071,2.180902974192399,2.146271683790049,2.1119625831379683,2.0779804493481815,2.0443299912604402,2.0110158134623055,1.978042436401245,1.9454139537877968,1.9131341715675512,1.881206313946507,1.8496331185349464,1.8184167451375057,1.787558670899374,1.7570599137426253,1.7269209662598777,1.6971419539729968,1.6677228227550178,1.6386633058473072,1.6099631336350204,1.581622202544907,1.5536403387732571,1.5260176498483302,1.4987542589296476,1.4718504287013845,1.445306441484479,1.4191226234565095,1.393299249563168,1.3678365248091893,1.3427346251545063,1.3179936134551051,1.293613557251104,1.2695943968801362,1.2459360788214882,1.222638564370221,1.1997017386917102,1.1771254813981404,1.1549096466107935,1.1330539297595437,1.1115579867055152,1.0904213299619196,1.0696433031596198,1.0492230931619353,1.0291596644239158,1.009451856590363,0.9900982681812828,0.9710972641549447,0.9524470372280539,0.9341455124543021,0.9161903800128641,0.8985791041182418,0.8813089121071407,0.8643767228634833,0.8477793519564522,0.831513317433248,0.8155750478233469,0.7999607452587827,0.7846665662631058,0.7696885036958422,0.7550225388996548,0.7406644768452929,0.7266101213160809,0.7128552174013392,0.6993954050649343,0.6862263372306588,0.6733435479746961,0.6607425956449979,0.6484189265261967,0.6363679609811114,0.6245850473059902,0.6130654816469323,0.6018044524583013,0.590797162503819,0.5800387017976562,0.5695241568297662,0.5592485707034722,0.5492069164642185,0.5393942365539252,0.5298054752978824,0.5204356406304795,0.5112797314698283,0.502332747990162,0.4935897608262893,0.4850458687643659,0.47669621870842627,0.46853601131425326,0.46056050153027467,0.45276499495973904,0.4451449253231059,0.4376957147561338,0.4304129495423948,0.4232922379837795,0.4163293217665007,0.4095200070871239,0.40286020149031154,0.39634593137757584,0.3899732951187623,0.3837385159380826,0.377637889622073,0.37166785145625464,0.3658249092200286,0.3601056746567505,0.3545068817776902,0.3490253306500902,0.3436579323859702,0.3384016685804926,0.3332536465580402,0.3282109944113332,0.32327098218618333,0.31843090826327336,0.3136881638659055,0.30904026265788015,0.3044846942148674,0.30001912782402596,0.2956412409411486,0.2913487988820488,0.2871396356032719,0.2830116469327793,0.278962796695709,0.27499110838513213,0.27109466600493604,0.2672716068319594,0.2635201143708364,0.25983843467344125,0.25622487891192003,0.2526777715672375,0.24919550563489481,0.24577652556203763,0.24241930993279773,0.23912239161522633,0.23588433567818146,0.23270376132787746,0.22957931484286173,0.2265096973153315,0.22349363326568114,0.22052989313504065,0.21761727645459314,0.2147546291788813,0.21194081521347402,0.20917473850404972,0.20645534223314793,0.20378159609211002,0.20115248251365428,0.19856703147475505,0.19602429791919207,0.1935233662598037,0.1910633353534751,0.18864334469352834,0.18626252558186923,0.18392008447465819,0.18161519014665223,0.179347081973089,0.17711498770806472,0.1749181837238449,0.172755928315856,0.17062753533832686,0.16853231538082225,0.16646959334003106,0.16443874210680207,0.16243910168109899,0.1604700528285068,0.15853101109756484,0.15662135985455672,0.15474053889254138,0.15288799408956677,0.15106315226129477,0.14926548105456983,0.1474944561601065,0.1457495763961124,0.14403033621135858,0.14233623764802172,0.14066679997203368,0.13902156908478297,0.13740006086859805,0.13580185252884208,0.13422649612268236,0.13267356114614712,0.13114263044171037,0.1296332945017498,0.12814515355866565,0.12667779982117114,0.12523087487485296,0.12380399510033219,0.12239677958179254,0.12100889109243497,0.11963995401826193,0.11828965042617068,0.11695761771693691,0.11564353869821441,0.11434709155080554,0.1130679598131287,0.11180582887138261,0.1105604098834307,0.10933138469699742,0.10811847793760587,0.10692140208427188,0.1057398824156465,0.10457364157118942,0.10342241559313341,0.10228593313295047,0.10116396330211995,0.10005623207697746,0.09896250641561943,0.09788254152942602,0.09681610187972958,0.09576296472372002,0.09472290925720041,0.09369570171366372,0.0926811363730609,0.09167900107180631,0.09068908530496887,0.0897111971367724,0.08874513184483805,0.08779070464957511,0.08684771422448781,0.08591599059679228,0.08499533810974572,0.08408559221096958,0.08318657737026727,0.08229812165718414,0.08142005592543515,0.08055222724362353,0.07969446649030998,0.07884663359549422,0.07800855984777136,0.07718010236236515,0.07636111316997304,0.07555145466149037,0.07475098355228693,0.07395956098903873,0.07317705674655682,0.0724033316658624,0.07163826942078162,0.0708817371511766,0.07013361243291874,0.06939377819491017,0.06866210545165877,0.06793849614035129,0.06722282144195231,0.06651498289162719,0.06581486724451638,0.0651223712076428,0.06443738906182296,0.06375982397811478,0.06308957347676514,0.062426546482633016,0.061770639257365235,0.061121767217619936,0.06047984138058349,0.05984476812343941,0.05921646158390368,0.058594846469717,0.057979830861194986,0.057371334278306145,0.056769280582876204,0.05617359143756795,0.05558418963075124,0.05500099955474181,0.05442395317866445,0.053852971796978,0.05328798903655087,0.05272893038738914,0.05217572551955161,0.05162832079123945,0.05108664172705977,0.05055061780291558,0.05002019314193914,0.04949530027090751,0.048975876504153984,0.04846185974434134,0.047953199862282886,0.047449818557654684,0.04695166930624607,0.04645869665895108,0.04597082950038436,0.04548802155589772,0.04501021835960043,0.04453736105144841,0.04406939428157448,0.04360626445302341,0.04314792264587399,0.04269431418566378,0.04224538424931219,0.04180109240892882,0.041361377928540694,0.0409261941848919,0.04049549909065673,0.040069238845564896,0.03964736702775535,0.03922984007264446,0.038816615662258004,0.03840763631017717,0.038002866067887886,0.03760226407618687,0.037205778570996294,0.036813371360703256,0.036425002035848524,0.036040621405852874,0.035660192695406774,0.03528367126378048,0.034911015723256854,0.03454218824662737,0.034177144916599886,0.033815846224983064,0.03345824601459365,0.03310431627951616,0.03275400525253207,0.03240727928884285,0.032064097379720956,0.03172442644806657,0.03138822475606603,0.031055452744619644,0.030726081129126392,0.03040007059722897,0.03007738276923577,0.029757988437619072,0.029441854446789706,0.029128938992546333,0.028819222598073034,0.02851266183820128,0.028209231965249593,0.027908898547546638,0.02761163376044301,0.027317403891618824,0.027026183350279894,0.026737939429921382,0.02645264496189048,0.026170268914668168,0.025890785847267173,0.025614167675265507,0.025340385998631455,0.025069410331460252,0.024801219901556697,0.02453578153691799,0.024273072637039296,0.02401306340650782,0.02375573400292196,0.02350105286863091,0.02324899538288292,0.022999539889503453,0.0227526593337994,0.022508329382729623,0.02226652454548514,0.02202722328615429,0.02179039669003233,0.021556023203835317,0.021324077180292392,0.02109453569751445,0.02086737695284527,0.02064257234921253,0.020420098109882715,0.02019993402433729,0.019982056610652766,0.019766438066479167,0.0195530596104511,0.01934190321124748,0.019132955794184947,0.018926243319251957,0.018721903634145706,0.018520302440756017,0.01832206781475487,0.018125834978829,0.017929070620729813,0.017732703198704448,0.01754219924283948,0.017355131541474736,0.0171666199635698,0.016980216241500763,0.016798695538450505,0.016617787472824632,0.01643710678036663,0.01626027149194733,0.016085733687526572,0.015911251622212606,0.01573908047268518,0.015570003497897009,0.015401635770949074,0.015234435762625904,0.015070125036106836,0.014907466810740936,0.014745583846622242,0.014585782951428613,0.014428191594248347,0.014271709431652214,0.01411657777875605,0.01396350883797006,0.013812119682567067,0.013661936341295358,0.013513275254495742,0.013366409416586256,0.013221077084361616,0.01307706786912991,0.012934549430233326,0.012793611005706062,0.012654156914020177,0.012516121664876362,0.012379500465781356,0.012244300405946032,0.01211052850574186,0.011978194820917634,0.011847279968985856,0.01171771424526683,0.011589484168318568,0.01146260287277643,0.011337113159776185,0.011213006806483499,0.011090235533198748,0.010968767821952734,0.01084861082737446,0.010729805682668021,0.0106124344929396,0.010496478491767932,0.010382084883319728,0.010268788240877414,0.010156518026591947,0.010045037996387382,0.00993500027100683,0.009826748351512964,0.00972003655705405,0.00961431382142817,0.009509326583642853,0.00940546351695152,0.009303146519289509,0.009202248714648552,0.00910241962263729,0.00900346817279329,0.008905598159822526,0.008809027008580184,0.008713711076097912,0.008619460277483337,0.00852614769703059,0.008433866535525669,0.008342768141367403,0.00825290414634774,0.008164196781512936,0.008076689264957214,0.007990466021868063,0.007905613062678802,0.007821374855787168,0.007737302432899088,0.007653370197428618,0.007571175788413922,0.007491307644825305,0.007412681496268196,0.0073341842215655165,0.007255772123760063,0.0071785681396136294,0.007103075355061673,0.007028660991880792,0.006954664689349808,0.006881126446172765,0.006808563902854047,0.006737183358958744,0.0066667310834100345,0.00659692330061088,0.006527750141066095,0.006459371471971693,0.006391846671301609,0.006325153634068353,0.0062592384207302435,0.006194025638523502,0.006129491610076381,0.006065649204723869,0.006002529137159957,0.00594016124645262,0.005878533415488523,0.0058175878611259665,0.005757273484500962,0.005697587863590409,0.005638554856577936,0.005580188683003824,0.005522473587654841,0.005465403687375451,0.005408964491462893,0.005353146820661068,0.005297941320917554,0.005243335759354366,0.005189324700485458,0.005135893810709687,0.005083052277825412,0.005030796684328678,0.004979139927397171,0.00492808961216393,0.004877661085489531,0.004827903106975195,0.0047788786278342614,0.004730625109144344,0.004683066017467522,0.004635862161839189,0.0045887943379196655,0.00454182381828182,0.00449511801185595,0.0044495021002032365,0.0044050718044390804,0.0043612421030027725,0.004317466424763196,0.004273691694272515,0.00423057164594777,0.004188442349872306,0.004146850414162599,0.00410531234869003,0.004064010552851591,0.004023361429740857,0.003983324313399657,0.003943618986907988,0.0039041980259172716,0.0038651925133448804,0.003826601712700071,0.0037883833705582427,0.003750574160529646,0.0037131655865316263,0.003676126865279269,0.003639406537768446,0.003602986529104895,0.003566948773435292,0.0035313310102967586,0.003496084236015599,0.003461148167212042,0.0034264977231982393,0.0033921649475758633,0.003358186906481481,0.0033245655280607226,0.0032912763682975514,0.003258305746244512,0.0032256593039259205,0.003193321190745235,0.003161278447905997,0.0031295331850411112,0.0030980994574095165,0.0030669836419532502,0.003036178584855187,0.0030056735897519343,0.0029754641005734148,0.0029455534029525976,0.0029159400448504815,0.002886620514656058,0.002857592133469814,0.002828853257325052,0.0028004025428564477,0.0027722496908524534,0.00274440307795794,0.002716881626533853,0.0026896995457895653,0.0026628850368223132,0.0026364398639034457,0.0026103298350747964,0.002584412508398313,0.0025585295856465117,0.002532624326111543,0.0025069340419838666,0.0024817619353911147,0.0024571923660866267,0.002433044261855128,0.002409050939468494,0.0023850797745912566,0.0023611986968697413,0.0023376107456726425,0.0023144320061448268,0.0022916080699887332,0.0022690039861449625,0.002246520615711126,0.002224169339166436,0.002202028796767129,0.002180173416118621,0.0021586159550825135,0.0021372941320066826,0.002116142321364223,0.002095135687112569,0.0020743035487219923,0.002053689066090274,0.0020333179402632837,0.0020131817499281523,0.0019932435624753233,0.001973472738244012,0.0019538579255767175,0.001934417197491937,0.0019151743623266313,0.0018961430683438413,0.0018773192252428586,0.0018586887866237595,0.0018402360260321685,0.001821953454974855,0.0018038445422345099,0.0017859220495214326,0.0017682070653892458,0.0017507313985612948,0.001733516898197657,0.0017166011248736979,0.0016999314984435896,0.0016834289256603414,0.0016668423914658137,0.0016502183035920557,0.0016338217870185666,0.001617983415671806,0.001602547177175814,0.0015869094823079619,0.0015710347230756443,0.0015554753874756366,0.0015405865535703586,0.0015260627308306225,0.0015113233750826379,0.001496362017525151,0.0014817564612099575,0.0014676865294495829,0.001453736981662519,0.001439614089578722,0.0014255321237124016,0.0014117991396738138,0.0013983558777750735,0.0013849173343066133,0.0013714585330761777,0.0013581844347099687,0.0013451576870989195,0.0013322665794510199,0.001319400773892358,0.0013066043429306464,0.0012940007093500297,0.0012815780448072888,0.0012692424663686053,0.0012569687091992098,0.0012448063409435557,0.0012328042031475104,0.0012209466727479482,0.0012091894533334123,0.0011975283395723568,0.0011860066355329835,0.0011746581519780626,0.00116347429017583,0.0011524139135103764,0.0011414336381965066,0.0011304794601892732,0.001119564027530739,0.0011087221518059267,0.0010980141588938475,0.0010874765164127344,0.0010771116369067085,0.0010668762222680957,0.0010567215372373907,0.0010466440681814154,0.001036674993146803,0.001026815984299612,0.0010170458793993993,0.001007359403675342,0.0009977699601664085,0.0009882805913864518,0.0009788744985732957,0.0009695466089400455,0.0009603156716142815,0.0009512081047984738,0.0009422104447088157,0.0009332848340723194,0.0009244149964822071,0.0009156093545917499,0.0009068876063198198,0.0008982578641796134,0.0008897217073977835,0.0008812743585906943,0.0008729087145165353,0.0008646179013828179,0.0008563983321533201,0.0008482514033086867,0.0008401814719143324,0.000832191614782207,0.0008242808180327816,0.0008164438872112438,0.0008086778963225636,0.0008009837697249833,0.0007933644419852404,0.0007858209349057519,0.0007783510217596768,0.0007709543550214512,0.0007636324441118033,0.0007563903830447561,0.0007492354092432474,0.0007421829465564709,0.0007352593931705232,0.0007285080428800533,0.0007219554348731082,0.0007155703528098414,0.0007090715718261871,0.0007022119042073414,0.0006950789650987555,0.0006883424049201238,0.0006822605904733289,0.0006763816138727688,0.0006701639296893156,0.0006636291186537642,0.0006573777740875486,0.0006516033435362858,0.000645879578263393,0.0006398794906441824,0.0006338084362541888,0.000628043059236174,0.0006225122674742838,0.0006168897808932097,0.0006111325322180173,0.0006054822520517388,0.0006000481091175481,0.0005946712568195562,0.0005892130969422684,0.000583751938635841,0.0005784193220879436,0.0005732004951754775,0.0005679917990464722,0.0005627580927618444,0.000557567843386139,0.0005524723758486288,0.0005474421648160597,0.0005424264847393517,0.0005374198634232593,0.00053246149856446,0.0005275724543730543,0.0005227342394669501,0.0005179213261544754,0.0005131314565343368,0.0005083840686010663,0.0005036897493988172,0.0004990422496666344,0.0004944298370923134,0.000489848423196796,0.0004853030625226441,0.0004807998652221425,0.00047634108816697814,0.0004719238215103729,0.000467543064859173,0.00046319692596490694,0.0004588881430163331,0.0004546209244113204,0.0004503990204362116,0.00044622448101798906,0.00044210077561084406,0.00043803445441771826,0.0004340365242816013,0.00043010506501765284,0.00042622353747978766,0.00042232914418677514,0.000418382691481256,0.00041441308792165653,0.00041053382401091786,0.0004068000390505019,0.00040316233207327875,0.00039951809477506206,0.0003958312216965111,0.0003921480856572744,0.00038855551191455156,0.0003850701852905203,0.0003816208556427909,0.00037814304703136193,0.0003746508479544093,0.00037121143325287187,0.0003678533451781198,0.00036454212733512626,0.000361231178957432,0.0003579184209367128,0.0003546385712202168,0.0003514113948907385,0.00034822556404121073,0.00034505759182066356,0.0003418993709569031,0.00033876233348939625,0.00033566243361143487,0.00033260258815155603,0.0003295703656206295,0.0003265549074744926,0.00032355786891670793,0.0003205865596768477,0.00031764574040826695,0.0003147352279377618,0.000311850677101976,0.0003089881731177785,0.0003061459818913062,0.00030332712299703047,0.00030053514528009595,0.00029777131723048885,0.00029503422329704135,0.0002923220280136372,0.0002896342779139837,0.0002869726737583057,0.0002843409682537067,0.0002817445559917106,0.00027918787018618875,0.00027667532246475226,0.00027419997813452556,0.0002717461760720675,0.0002692775186323322,0.0002667817239968625,0.0002642729652964404,0.00026181764260781046,0.00025945334849929397,0.00025716473279926733,0.0002548997865296078,0.0002526136751749641,0.00025030735998534905,0.0002480196512227172,0.00024579603195754046,0.00024363653302435695,0.00024149857122269988,0.00023934714198938046,0.0002371821229802904,0.00023504203991110912,0.00023295088343632065,0.00023089741191522535,0.00022884509313113947,0.00022677724085448387,0.00022471453457027053,0.00022269441890102049,0.00022072510211216143,0.00021878156643766173,0.00021683902808560416,0.00021489383547183792,0.00021296499897653065,0.00021106684249283942,0.00020919686122857682,0.00020733943415695568,0.0002054844213405484,0.00020363425377261052,0.00020180008825924998,0.0001999891891153226,0.00019819978488199182,0.00019642404508327156,0.00019465720879479747,0.00019290054123991004,0.0001911597813063876,0.00018943831666504848,0.00018773502384685956,0.00018604617616540232,0.00018436871217727483,0.0001827029793404884,0.0001810506474101852,0.00017941483940536312,0.0001777977093859631,0.00017620090542570747,0.00017462435526983383,0.00017307009126328032,0.00017153776334232325,0.00017002991327346017,0.00016853637147398056,0.00016704836545257152,0.00016554169687639698,0.00016401582622312287,0.00016248983543899872,0.00016100406074683884,0.00015957842828081206,0.00015819846972360001,0.00015682839614179956,0.00015543396674178603,0.0001540213886196892,0.0001526210457730056,0.00015126248379867573,0.00014994385140112501,0.0001486402395124692,0.00014732883332158395,0.00014600489181287272,0.00014468710854528575,0.000143394140443604,0.00014212982694730188,0.00014088238784567886,0.00013963772425949417,0.00013839181783029865,0.00013715041396906844,0.00013592296533593715,0.00013471414089233932,0.00013352080363873153,0.00013233792568859314,0.000131161470083787,0.00012999345597306715,0.0001288372746102338,0.00012769839175348302,0.00012657536714843486,0.00012546436469548195,0.0001243539524504993,0.00012324220848166048,0.0001221299899287205,0.00012102908538126434,0.00011994785611783957,0.00011888841502820593,0.00011784540643301223,0.00011680905364018644,0.00011577327126271462,0.00011473745717890532,0.00011370871812534526,0.00011269317690928297,0.0001116937685779974,0.00011070809502662529,0.00010973135928201291,0.00010875909631771156,0.00010778968250421141,0.00010682574167177859,0.00010587039422423242,0.00010492612707818258,0.00010399286002980207,0.00010306960661999302,0.00010215499321616908,0.00010124797258453548,0.00010034847593567212,9.945673117173628e-05,9.857371164380795e-05,9.770017185226505e-05,9.683438665944772e-05,9.5975587518282e-05,9.512175734214345e-05,9.427291183298337e-05,9.343075900057068e-05,9.259914634870064e-05,9.1779631733878e-05,9.097237034931234e-05,9.017420586858807e-05,8.938364685763139e-05,8.859536592344885e-05,8.78075625644784e-05,8.702074975280055e-05,8.624327067868951e-05,8.548112630960477e-05,8.473368681538869e-05,8.399523220774243e-05,8.325937196160325e-05,8.252292397080673e-05,8.179136478981336e-05,8.107058737862822e-05,8.036370164646722e-05,7.966870599394577e-05,7.897942576051711e-05,7.82894903557646e-05,7.759699297659756e-05,7.69056080450109e-05,7.62225927709264e-05,7.555139951091667e-05,7.489030770948235e-05,7.423508073559548e-05,7.358303941864632e-05,7.293428628067483e-05,7.22910939784682e-05,7.165544659076317e-05,7.102735562355923e-05,7.040564609311006e-05,6.978929413975061e-05,6.917759454104874e-05,6.857090602331395e-05,6.796958983974135e-05,6.737526071267791e-05,6.678797480130555e-05,6.62079704278245e-05,6.563286738878054e-05,6.506184539433289e-05,6.449131695982235e-05,6.392308551748901e-05,6.335663775455227e-05,6.279751006230018e-05,6.22478287590444e-05,6.17084349466015e-05,6.117543806730713e-05,6.0646069273225165e-05,6.01187446816096e-05,5.959462709331823e-05,5.90788670470957e-05,5.856984234552308e-05,5.806296436848103e-05,5.755227648684011e-05,5.704222571739677e-05,5.6541349497550156e-05,5.6053889980831876e-05,5.557617109397547e-05,5.510162823008674e-05,5.4625409735706016e-05,5.4146174515680674e-05,5.3668912678199924e-05,5.319904040366807e-05,5.27379346942009e-05,5.2282448287909864e-05,5.18292579526683e-05,5.1377589648211916e-05,5.0927773834614506e-05,5.048170957925975e-05,5.0040363576815615e-05,4.960335079139718e-05,4.916937264902495e-05,4.8737941693771895e-05,4.830950676044118e-05,4.788491936786034e-05,4.746443981190199e-05,4.704837890984064e-05,4.663663481188129e-05,4.622976518565379e-05,4.5828481941607325e-05,4.543429305883015e-05,4.504795178525675e-05,4.467063159680835e-05,4.429723652707071e-05,4.3923205687246755e-05,4.353917063905592e-05,4.3151104785484815e-05,4.276709659240642e-05,4.239882018921057e-05,4.20456981664244e-05,4.1696596018789975e-05,4.1343665912048675e-05,4.098412933050365e-05,4.062449406709479e-05,4.027379500795408e-05,3.9937046840174535e-05,3.960964984198323e-05,3.9280068125797094e-05,3.894438791508892e-05,3.860794167857651e-05,3.828017080226021e-05,3.796333725248018e-05,3.764900963983393e-05,3.733004537012717e-05,3.700708632735602e-05,3.668886353890865e-05,3.637955418063153e-05,3.607535399378711e-05,3.577099217058657e-05,3.546439102620794e-05,3.5158899594856945e-05,3.485812440115451e-05,3.4562203328333085e-05,3.426812660696559e-05,3.397368367170722e-05,3.368002790056159e-05,3.338922517939698e-05,3.31020073472174e-05,3.2817618313233744e-05,3.2534913779317035e-05,3.225369137719763e-05,3.197430788757581e-05,3.169777833508141e-05,3.142433577743506e-05,3.115406193562492e-05,3.088654767216467e-05,3.062277576060665e-05,3.0362589089679884e-05,3.0106759210764897e-05,2.985274017525423e-05,2.9599323759162724e-05,2.9341880182598338e-05,2.9082042439814728e-05,2.882093568076436e-05,2.8564832620719915e-05,2.8316704050532922e-05,2.8076634896834854e-05,2.784183797310489e-05,2.760876646065351e-05,2.7374961165144033e-05,2.7138333309260068e-05,2.6900675397845493e-05,2.6664518004577808e-05,2.6433028465480653e-05,2.6207055838072313e-05,2.598544476008532e-05,2.5766022170226318e-05,2.5546613322133097e-05,2.5326710057660104e-05,2.5106621624200204e-05,2.4888053751599586e-05,2.4672133176891244e-05,2.4459418039738538e-05,2.424956992700976e-05,2.404184193829975e-05,2.3835582545252838e-05,2.3630333134938417e-05,2.342614255164238e-05,2.322316340306122e-05,2.302185426710804e-05,2.28225405132765e-05,2.2625572280830588e-05,2.243139387177387e-05,2.2240407321975242e-05,2.205373390578265e-05,2.1872053080022033e-05,2.169637547445961e-05,2.1523812189975336e-05,2.134634665268271e-05,2.1157926743773147e-05,2.0962873499809007e-05,2.0777909677779167e-05,2.0610430448408448e-05,2.0450218642855413e-05,2.0279953261099648e-05,2.0098512404692925e-05,1.9921555384785976e-05,1.9759786631791398e-05,1.960659320327098e-05,1.9447753752227868e-05,1.9280298140120463e-05,1.9114573420444567e-05,1.8958093261178162e-05,1.880689838695288e-05,1.8652694786002887e-05,1.849457137943677e-05,1.833855518441351e-05,1.8188400920607215e-05,1.804081525589465e-05,1.7891016078445872e-05,1.7739332800507883e-05,1.7589896804590618e-05,1.7444298006223276e-05,1.7300316795372077e-05,1.7155583511872055e-05,1.7010132502338062e-05,1.6865991248717147e-05,1.672468866229224e-05,1.658525548614193e-05,1.6445901800579344e-05,1.6306272496812122e-05,1.6167215725904293e-05,1.602996338554731e-05,1.5894775459242857e-05,1.5760846274402875e-05,1.5627462666538034e-05,1.549494797730927e-05,1.536454999756766e-05,1.5237327743017904e-05,1.5114257988859747e-05,1.4995411526527783e-05,1.488141489379394e-05,1.4766054319617076e-05,1.4646260355979656e-05,1.4512575366275912e-05,1.4378238685549194e-05,1.4252881273275589e-05,1.4139956423266773e-05,1.4032658301147837e-05,1.3919391814100836e-05,1.3798248417698154e-05,1.3678995939018728e-05,1.3569831567991461e-05,1.3465320624672963e-05,1.3357791918301806e-05,1.3246523513512553e-05,1.3135606649699215e-05,1.302927532731687e-05,1.2926273981538245e-05,1.28225947084721e-05,1.271717046849578e-05,1.2612393928170352e-05,1.2510074602772463e-05,1.2409282829801176e-05,1.2308629870551639e-05,1.220781566442868e-05,1.210738780176103e-05,1.20080811338221e-05,1.1909726942604766e-05,1.1811989852211949e-05,1.1714749044544462e-05,1.1618098862228562e-05,1.1522215428470189e-05,1.1426947564314248e-05,1.1332212512230177e-05,1.1238089248182429e-05,1.1144794047789713e-05,1.1052315376990894e-05,1.0960371220809756e-05,1.0868864940106034e-05,1.0777903855661376e-05,1.0687755384737255e-05,1.0598541921378727e-05,1.0510335511948969e-05,1.0423119295033582e-05,1.0336804863333954e-05,1.0251645550694376e-05,1.0167885544291866e-05,1.008597766457037e-05,1.0005706705117235e-05,9.926202881035525e-06,9.845469025098907e-06,9.761826114120745e-06,9.67614596454493e-06,9.591566517006948e-06,9.511247310695078e-06,9.435233048863583e-06,9.36111049237728e-06,9.286305204546339e-06,9.20997844052515e-06,9.132905942040685e-06,9.056795541246925e-06,8.98300386783972e-06,8.91128384720632e-06,8.840146282767178e-06,8.768724665786525e-06,8.696867178506096e-06,8.624970682719661e-06,8.553749971497464e-06,8.483801952241915e-06,8.415148679368879e-06,8.347336866976047e-06,8.279818862732548e-06,8.212277512676964e-06,8.144850547552982e-06,8.077882890184582e-06,8.011649235757462e-06,7.94622591045711e-06,7.881485465144095e-06,7.817211039660297e-06,7.75331380359065e-06,7.689752938294158e-06,7.626671330605363e-06,7.564140033746821e-06,7.502251983996915e-06,7.44103589957273e-06,7.380553553195753e-06,7.320783999275873e-06,7.261807883152007e-06,7.203440472458837e-06,7.1458255202156754e-06,7.088492051392356e-06,7.031721632838497e-06,6.975041874503937e-06,6.918537050482467e-06,6.862021739283627e-06,6.805178108508068e-06,6.748504984340514e-06,6.6926559914941705e-06,6.638436253077891e-06,6.585812686173571e-06,6.534121765316405e-06,6.482563035860469e-06,6.430660360814925e-06,6.378716548634845e-06,6.327242512914426e-06,6.2765933955655165e-06,6.226799937393841e-06,6.177429219368508e-06,6.128128463939574e-06,6.078738671039232e-06,6.029622115530793e-06,5.981166988732834e-06,5.933447767093552e-06,5.886323608079675e-06,5.8396715122700106e-06,5.793441667709275e-06,5.747666456749186e-06,5.702632242238805e-06,5.658618885304237e-06,5.6163037187474795e-06,5.575666037763111e-06,5.536374030111114e-06,5.495307096270172e-06,5.451902615949461e-06,5.406058762660161e-06,5.360264881924495e-06,5.317491396962787e-06,5.278092741067688e-06,5.239993005535325e-06,5.2005972224946445e-06,5.160237147256186e-06,5.120162588716134e-06,5.080939875586186e-06,5.042498425670741e-06,5.004980697870391e-06,4.967652749220814e-06,4.92992104842338e-06,4.892580096161043e-06,4.8555948035111e-06,4.8187192299594735e-06,4.782535009503437e-06,4.746657546671551e-06,4.710354726268703e-06,4.674244589859399e-06,4.638906653108652e-06,4.6040473770142425e-06,4.569025313277917e-06,4.533754950482463e-06,4.498768920461595e-06,4.464407340603532e-06,4.430465883919991e-06,4.396685574815443e-06,4.3629852977969e-06,4.329363642715757e-06,4.29610313347647e-06,4.2634103503512e-06,4.231464425131792e-06,4.200423094046293e-06,4.169988398010832e-06,4.140240066403758e-06,4.110153250696843e-06,4.0797036564166e-06,4.0471024951162655e-06,4.01346390949992e-06,3.980001040285801e-06,3.948620409550772e-06,3.919810071683946e-06,3.892387904090658e-06,3.864708160875691e-06,3.835564340432442e-06,3.805239702552035e-06,3.7749065358388482e-06,3.7459517381220526e-06,3.718660742018449e-06,3.6920860613783585e-06,3.665132105259917e-06,3.6372653786136642e-06,3.6089786126289597e-06,3.581093021655206e-06,3.554147980594809e-06,3.527997429015155e-06,3.5021354644843845e-06,3.4761113796605404e-06,3.449714321320691e-06,3.423183136886848e-06,3.3969510746775036e-06,3.3712693134326485e-06,3.3460812702171547e-06,3.3211754322379996e-06,3.2963249837170094e-06,3.2714130195752993e-06,3.246502976644634e-06,3.221723543248013e-06,3.1971891176165297e-06,3.1729434919151954e-06,3.148965803084977e-06,3.12521682060751e-06,3.101652205074407e-06,3.078254463355484e-06,3.055031745001796e-06,3.0320291096099475e-06,3.009329187549345e-06,2.987090725270204e-06,2.9655245100888076e-06,2.9449627252183977e-06,2.9255216368148253e-06,2.9070300070520557e-06,2.8882281249413273e-06,2.8669477016502813e-06,2.8427268092488452e-06,2.8184190150665514e-06,2.7979701221146548e-06,2.7804643551914784e-06,2.7621712516025517e-06,2.7415349009144554e-06,2.720377103760511e-06,2.7015343270965478e-06,2.6843390245372196e-06,2.6659400416793323e-06,2.6461772618289197e-06,2.627224420233835e-06,2.609996091818849e-06,2.5929207241048034e-06,2.5746055125842236e-06,2.5558706412311698e-06,2.537971484056917e-06,2.5210627019015543e-06,2.504267975468732e-06,2.486619237663721e-06,2.4685975882184177e-06,2.4513053717915873e-06,2.43480026396112e-06,2.4181871423580655e-06,2.4009820443432347e-06,2.3837437566750586e-06,2.3670748982968355e-06,2.350810313062174e-06,2.3343795171920594e-06,2.3176546325271467e-06,2.3010562231047797e-06,2.2848474679043377e-06,2.2688703191118228e-06,2.252858006717873e-06,2.236747364758274e-06,2.220702999772632e-06,2.2048889543430634e-06,2.189328839530709e-06,2.1739386697246227e-06,2.1587020696494964e-06,2.1437474229752057e-06,2.1294524107300565e-06,2.1162006858084832e-06,2.1044173142804505e-06,2.0930284632692228e-06,2.080922428123388e-06,2.064315347376235e-06,2.045775005446212e-06,2.0294514010548958e-06,2.017505802904167e-06,2.0069137003599127e-06,1.993643925671504e-06,1.9782988824485676e-06,1.9641668041784805e-06,1.9528383662854863e-06,1.9416122111892734e-06,1.9281749216563574e-06,1.914348670678453e-06,1.9024222173462758e-06,1.8915713624620113e-06,1.8795123364966326e-06,1.8662959853419406e-06,1.854150293671367e-06,1.8432360853990952e-06,1.8317738879579886e-06,1.8194334667010476e-06,1.80731926107796e-06,1.7959816540862716e-06,1.7848941004516126e-06,1.7734360053837113e-06,1.7616504482050633e-06,1.7500262584175692e-06,1.738902421566452e-06,1.7278661651599749e-06,1.7165357647076115e-06,1.705188451851417e-06,1.6940590672487976e-06,1.6830465984655038e-06,1.6720604900248258e-06,1.6610893178571287e-06,1.650136967658393e-06,1.6392119690160615e-06,1.6284018236973458e-06,1.6177101788142187e-06,1.607049104278299e-06,1.5963864310683258e-06,1.585798156551689e-06,1.5752961566207259e-06,1.5648407959972122e-06,1.5544531177094663e-06,1.5441731548856265e-06,1.5339587432873663e-06,1.5237760740366718e-06,1.5136401194406343e-06,1.5035902858027402e-06,1.493647536324981e-06,1.483807577548005e-06,1.4740751595392402e-06,1.4644836596764814e-06,1.4551158105905465e-06,1.4461587815860578e-06,1.4379844472220828e-06,1.4310118807596126e-06,1.4251187932689001e-06,1.4186160289374503e-06,1.409023923201575e-06,1.396111999779311e-06,1.3849635827523515e-06,1.3781434585530753e-06,1.3724231098259247e-06,1.3646269582774719e-06,1.3545845287668131e-06,1.3457965166193166e-06,1.3396045703836101e-06,1.332913935404953e-06,1.3244943010271294e-06,1.316261575166179e-06,1.3093398926736978e-06,1.302847104993509e-06,1.2954886241751166e-06,1.2874643213282418e-06,1.2802538137046032e-06,1.2739465819526265e-06,1.2669843868468451e-06,1.259243624955963e-06,1.2519766310966971e-06,1.2454752773856153e-06,1.2387922397393982e-06,1.2314095731556108e-06,1.2241645449605157e-06,1.2175109622803602e-06,1.2108940937650562e-06,1.2038602184270354e-06,1.196708736010015e-06,1.189892636714105e-06,1.1832980244034998e-06,1.1765241605329773e-06,1.1695868488893934e-06,1.1627408993691921e-06,1.1560420116030575e-06,1.149415882722029e-06,1.1427523528927514e-06,1.1360077228250832e-06,1.1293093210999973e-06,1.1227285445628414e-06,1.1162185591218178e-06,1.109712724668678e-06,1.1031969687037074e-06,1.0967386664550065e-06,1.0904368868726211e-06,1.084378713456287e-06,1.0786313309605556e-06,1.0734222465474636e-06,1.0687734503070267e-06,1.0645500233697991e-06,1.0592130135256426e-06,1.0521635880244493e-06,1.0437251784441215e-06,1.0368501995564827e-06,1.032466362969232e-06,1.028508728850597e-06,1.0229234141878111e-06,1.0160873086033513e-06,1.0103424900254396e-06,1.0059143016999703e-06,1.00114952214906e-06,9.955895912416207e-07,9.901088832297636e-07,9.851310710166398e-07,9.804148424073494e-07,9.753611707650084e-07,9.70094986368533e-07,9.65257006730677e-07,9.606090694387524e-07,9.556744690812443e-07,9.506049498962273e-07,9.457056742175312e-07,9.41130578534346e-07,9.365118955458666e-07,9.315932215117851e-07,9.266469129076885e-07,9.219353291442817e-07,9.173951066496009e-07,9.128131652408353e-07,9.080727051365752e-07,9.032765606342074e-07,8.986313697625178e-07,8.941141484382154e-07,8.895694718698829e-07,8.849577100642507e-07,8.803299912910098e-07,8.757762262377928e-07,8.713135316469245e-07,8.668616136093822e-07,8.623770666576205e-07,8.578835102623115e-07,8.534146814828864e-07,8.490161063051854e-07,8.446923770053165e-07,8.404021877745855e-07,8.361410615509926e-07,8.319316701806852e-07,8.278585396165434e-07,8.240033721999706e-07,8.20501532440767e-07,8.173313494441534e-07,8.143008621256908e-07,8.10607749046989e-07,8.059471897214861e-07,8.007043688852295e-07,7.962178733289602e-07,7.92983481948781e-07,7.902852276210521e-07,7.871271999012841e-07,7.830288867714357e-07,7.786144286416593e-07,7.749200047080418e-07,7.720726030474901e-07,7.692160672468954e-07,7.657268862585774e-07,7.618786052591788e-07,7.583131561391587e-07,7.55272963697611e-07,7.52398626817926e-07,7.49124672522576e-07,7.455482743543125e-07,7.421462926688926e-07,7.390695557899699e-07,7.360625966112356e-07,7.329075233850681e-07,7.2960614479218e-07,7.263332860691127e-07,7.231941820773038e-07,7.20139155299016e-07,7.170648519567336e-07,7.13923630933089e-07,7.107647822787779e-07,7.076404356944059e-07,7.045691809955648e-07,7.015311111864396e-07,6.985142205895871e-07,6.955191681037248e-07,6.925679824505998e-07,6.897251856985415e-07,6.871033400800311e-07,6.847762926366107e-07,6.828132396182719e-07,6.808874407441791e-07,6.785431300434232e-07,6.748474444192013e-07,6.706620373797297e-07,6.675062485187047e-07,6.656206898834977e-07,6.639209945189545e-07,6.613689435059242e-07,6.58187530857923e-07,6.552620160575618e-07,6.530617858293863e-07,6.510282387377089e-07,6.486538466076248e-07,6.460432695705621e-07,6.435237243425395e-07,6.412154461623846e-07,6.390205796609734e-07,6.367576241883969e-07,6.343864044619046e-07,6.319635883695406e-07,6.29651829799945e-07,6.27423035934383e-07,6.251650578752041e-07,6.228866680839994e-07,6.205806573017678e-07,6.18246620436221e-07,6.159730168980059e-07,6.137707077502378e-07,6.115390229013651e-07,6.092333861036309e-07,6.069453558440212e-07,6.047033015134086e-07,6.024706535083923e-07,6.002470258239449e-07,5.980284704329526e-07,5.958048267043746e-07,5.935788897922533e-07,5.913862237918936e-07,5.892582826680468e-07,5.872190753647293e-07,5.853545168867311e-07,5.836534182521117e-07,5.822224258656619e-07,5.805516143849066e-07,5.78538755445427e-07,5.759548947615961e-07,5.732938371897731e-07,5.712194077540849e-07,5.696676836049641e-07,5.680416346159208e-07,5.660549249066635e-07,5.641062650533386e-07,5.623116264311156e-07,5.606136652216598e-07,5.588959134773177e-07,5.570067740129838e-07,5.551654517599486e-07,5.535162946946128e-07,5.519648064836342e-07,5.503156697218712e-07,5.485029713079978e-07,5.467414508837985e-07,5.45121847095181e-07,5.435020582204413e-07,5.418050252306585e-07,5.400817484075002e-07,5.384048549588658e-07,5.368071726459512e-07,5.352456835891941e-07,5.33620733516746e-07,5.319023927837966e-07,5.301891071182686e-07,5.285791232051713e-07,5.270621476474408e-07,5.255984266811324e-07,5.241969812223035e-07,5.22885412991271e-07,5.217691360123212e-07,5.20822880241549e-07,5.198979611469017e-07,5.183243183975291e-07,5.161428170145014e-07,5.138534859892341e-07,5.123648858169017e-07,5.115597107356714e-07,5.106807707195026e-07,5.092699742220799e-07,5.074466519197536e-07,5.059276333186875e-07,5.04919806064552e-07,5.039517447671464e-07,5.026594151372133e-07,5.011535172138272e-07,4.998264561774082e-07,4.987292902222554e-07,4.975846723428778e-07,4.962702056823755e-07,4.949299146575154e-07,4.937619013979345e-07,4.926620569416431e-07,4.914043961087668e-07,4.900515678008222e-07,4.887597099315493e-07,4.875832655406697e-07,4.864491131602062e-07,4.852516545773167e-07,4.839574713239313e-07,4.826334553522223e-07,4.813638698337175e-07,4.801752913457537e-07,4.789921870899483e-07,4.777487131322644e-07,4.764693577252833e-07,4.7522367394995044e-07,4.740483606969174e-07,4.7292484033617145e-07,4.7186878191142807e-07,4.709335225503001e-07,4.7032615363175224e-07,4.699212490715619e-07,4.696426778440442e-07,4.684772017083933e-07,4.664669844236984e-07,4.646980824258093e-07,4.639946829130946e-07,4.6377105761045866e-07,4.627820473213038e-07,4.6129527407411045e-07,4.60260909731915e-07,4.598099665971545e-07,4.59253798304793e-07,4.5812353881250317e-07,4.5705764747634706e-07,4.56464679604458e-07,4.558880138140648e-07,4.5494999001480317e-07,4.53942387678989e-07,4.5327585133591916e-07,4.5269850279429227e-07,4.518058054578482e-07,4.508015734269182e-07,4.50068354411476e-07,4.49442461094772e-07,4.4862112946537803e-07,4.4767794350000095e-07,4.4680521945563716e-07,4.4608602117777804e-07,4.453283714360218e-07,4.4444914389949907e-07,4.435207115900264e-07,4.426743154087692e-07,4.418813386402012e-07,4.4104158243564234e-07,4.40137350800812e-07,4.3922246954201114e-07,4.383795338440378e-07,4.375571827256317e-07,4.36767499531876e-07,4.360212618651186e-07,4.354047967115096e-07,4.3498025054877475e-07,4.34660952165372e-07,4.3423886892164165e-07,4.3354506368998256e-07,4.32311661568189e-07,4.3122025322588525e-07,4.304915470582471e-07,4.298366853534251e-07,4.291638637958597e-07,4.2855710735339936e-07,4.279099678911274e-07,4.272844881263031e-07,4.2663367485530734e-07,4.258731493970002e-07,4.2533424210126114e-07,4.2484606098730367e-07,4.2423932373406895e-07,4.235748043693339e-07,4.228850372715793e-07,4.223180941551189e-07,4.218507695998038e-07,4.2120833049022876e-07,4.2052986355509944e-07,4.1993122042446807e-07,4.1930230409567475e-07,4.1873278716107765e-07,4.1812142983260447e-07,4.174159585384539e-07,4.167911150062179e-07,4.16234146629128e-07,4.15589886007516e-07,4.149024380213092e-07,4.1423433539376494e-07,4.135551403348678e-07,4.1288542388593056e-07,4.122363152651436e-07,4.1158119676524957e-07,4.109214854142652e-07,4.102524832630099e-07,4.0956679898691786e-07,4.0890341244398974e-07,4.0827655302161045e-07,4.077175563544927e-07,4.0730972474956615e-07,4.0728794740764827e-07,4.0760549998510743e-07,4.083332404765987e-07,4.074903214524746e-07,4.055921259137025e-07,4.0448699175716533e-07,4.047984282017042e-07,4.049455452029352e-07,4.0398001351400526e-07,4.033511153040521e-07,4.035961380448846e-07,4.031618810956593e-07,4.0253450418256596e-07,4.023862907728626e-07,4.022334489229755e-07,4.0179221897068414e-07,4.0149651507525644e-07,4.0139880204987084e-07,4.010397180385218e-07,4.0064933759178127e-07,4.004673624382185e-07,4.001789972270996e-07,3.999191516804113e-07,3.996594621761907e-07,3.992328983839538e-07,3.989630738300636e-07,3.9869825712956557e-07,3.9832690214077246e-07,3.979570709232996e-07,3.975967686526077e-07,3.9722619727200545e-07,3.9690866559782066e-07,3.965121476146553e-07,3.960328570771532e-07,3.956688433500304e-07,3.9529349761821734e-07,3.948386808491543e-07,3.944275942103756e-07,3.9405458137447417e-07,3.9370071030013206e-07,3.933801382972308e-07,3.9307897810797316e-07,3.927706019579562e-07,3.923358238268229e-07,3.9184800419403065e-07,3.913778199189073e-07,3.9086525842215747e-07,3.9031620590258827e-07,3.8981639744241694e-07,3.894359845849915e-07,3.89088045703454e-07,3.887412027305908e-07,3.8839761796778845e-07,3.8803454916869434e-07,3.876408571287178e-07,3.871425234412318e-07,3.866478107668102e-07,3.862139011571545e-07,3.858101488430743e-07,3.854153869661224e-07,3.850395121725166e-07,3.846515189907668e-07,3.842623993627872e-07,3.8386823646327807e-07,3.8349305113292706e-07,3.83162121160195e-07,3.828506059427493e-07,3.8257048525972516e-07,3.8233878662913e-07,3.8213682069020174e-07,3.8188839695478273e-07,3.8155054483741567e-07,3.8109892824918647e-07,3.805593701060728e-07,3.8006608947979487e-07,3.7972757598017347e-07,3.795489324203027e-07,3.794311273134307e-07,3.792951799471201e-07,3.7907059009539564e-07,3.788823462135041e-07,3.787431045978275e-07,3.7867753692013275e-07,3.7855826197199526e-07,3.782690410842931e-07,3.777894989206616e-07,3.775474043154752e-07,3.775179091282404e-07,3.775273853189925e-07,3.7721998778934396e-07,3.768381271309841e-07,3.765351350749201e-07,3.764045975031537e-07,3.7644308213279445e-07,3.763317508975785e-07,3.760443452690125e-07,3.7575370498047113e-07,3.756011998456188e-07,3.7544858407552235e-07,3.752099440260322e-07,3.749463429215524e-07,3.746969166278735e-07,3.7446938085096616e-07,3.7427658283438397e-07,3.740680570939915e-07,3.738017353184749e-07,3.73489703174017e-07,3.732132098339324e-07,3.729734764422374e-07,3.7273034907655883e-07,3.7249631242291666e-07,3.722706821923312e-07,3.7210010240337996e-07,3.7202293107631545e-07,3.721328499993274e-07,3.723805646652413e-07,3.725282400743957e-07,3.7212836948427944e-07,3.713455917750991e-07,3.707599766555718e-07,3.7081630636403795e-07,3.7116595997953427e-07,3.7113665399223817e-07,3.710079568696856e-07,3.7104437510117836e-07,3.711685144716179e-07,3.7084627838191446e-07,3.7044498085253394e-07,3.7041547207930975e-07,3.706593577286138e-07,3.7062434347533345e-07,3.7028241137155006e-07,3.7033847297527854e-07,3.706409819232504e-07,3.7060924019617876e-07,3.7019442849790177e-07,3.700809696892177e-07,3.7023948745049167e-07,3.7013039922677784e-07,3.6992429363792833e-07,3.699188114953991e-07,3.69880559876954e-07,3.6973154368175474e-07,3.6954937488059793e-07,3.694267166641762e-07,3.6936159074345915e-07,3.6923229673000534e-07,3.6904438416803995e-07,3.688701417768562e-07,3.687417389434954e-07,3.6856761722102394e-07,3.683477255859204e-07,3.681542349505873e-07,3.6801275654191237e-07,3.678887773186087e-07,3.677752276103576e-07,3.676203109629976e-07,3.6746007513450173e-07,3.673457058301778e-07,3.672380808432561e-07,3.669693802035854e-07,3.6662015132183006e-07,3.66295722262054e-07,3.6605806771063133e-07,3.658221212809764e-07,3.6560502522952794e-07,3.6547165944173174e-07,3.6538064501319605e-07,3.6525174739180896e-07,3.65076157042737e-07,3.649164544588773e-07,3.6476391803359774e-07,3.6458402082167836e-07,3.6436031857388807e-07,3.6419114365232707e-07,3.6406671338451944e-07,3.6406789739402363e-07,3.641524634825723e-07,3.6451442393506506e-07,3.646111165543894e-07,3.642942947987206e-07,3.639117513961281e-07,3.637058315871483e-07,3.6359226188643664e-07,3.637967259838871e-07,3.637594880519233e-07,3.634785482021969e-07,3.635156938327027e-07,3.635728443032979e-07,3.634584980977784e-07,3.635532980072796e-07,3.635053558215942e-07,3.633502514581204e-07,3.633895790798983e-07,3.633939196237752e-07,3.633661305291182e-07,3.633115996636513e-07,3.632305618195683e-07,3.6321281039969527e-07,3.6316493001248047e-07,3.630625398493625e-07,3.629488697562795e-07,3.629027382898676e-07,3.6282632853641087e-07,3.626871174626026e-07,3.626030260625885e-07,3.625096854829687e-07,3.62390297180768e-07,3.623103512848879e-07,3.6223401607216487e-07,3.6226563952144315e-07,3.6244097348561256e-07,3.627626764391492e-07,3.6297594829304423e-07,3.6280828142410115e-07,3.6220216821091033e-07,3.6166742872989006e-07,3.616295873296185e-07,3.619703690484155e-07,3.620867111973385e-07,3.618352861082644e-07,3.6158855276255744e-07,3.615448196811798e-07,3.61627260100585e-07,3.61636075057036e-07,3.614849496280688e-07,3.6136000420671777e-07,3.613580606895411e-07,3.613872006832388e-07,3.613438400158714e-07,3.612138415314701e-07,3.6109628890006966e-07,3.610652635563199e-07,3.610550976980272e-07,3.6097053831180816e-07,3.6084133806229184e-07,3.6073092211558906e-07,3.6071972018293943e-07,3.6071990197676745e-07,3.606978924209947e-07,3.6064151379042813e-07,3.6060403479485726e-07,3.6054812761659024e-07,3.6048928361563304e-07,3.6024613300513573e-07,3.599830365494234e-07,3.5977503785316653e-07,3.596805536056807e-07,3.5964557448421587e-07,3.596071607470719e-07,3.595540595107225e-07,3.594627490095331e-07,3.5936896956606305e-07,3.592783782352326e-07,3.5916779365073787e-07,3.5902705435062173e-07,3.588915095307649e-07,3.587759557919699e-07,3.5866240534563804e-07,3.585542439434114e-07,3.5845502373926573e-07,3.583744311443114e-07,3.5831902367004155e-07,3.5834491948998396e-07,3.5849427993985557e-07,3.589054593866219e-07,3.5932338760480235e-07,3.595372998127146e-07,3.5894706932281906e-07,3.5809350041381656e-07,3.579407898573601e-07,3.5846915487989953e-07,3.587415351632217e-07,3.585253777343823e-07,3.584629897046719e-07,3.5859626951662563e-07,3.5868326876837374e-07,3.585674816695281e-07,3.584964792862592e-07,3.586529466758803e-07,3.588111702784683e-07,3.58714620462289e-07,3.5869481303722406e-07,3.588855896174061e-07,3.589418551173169e-07,3.588792214600751e-07,3.588625147663303e-07,3.588669780536812e-07,3.589907618339144e-07,3.591018066969274e-07,3.591617342181415e-07,3.592297819486327e-07,3.592499463559819e-07,3.591020490356401e-07,3.5899421201567074e-07,3.588340946670042e-07,3.5869192368129214e-07,3.5871574396709456e-07,3.587628279872649e-07,3.587182241805038e-07,3.5862201053908613e-07,3.5861534728959863e-07,3.585285557996198e-07,3.583728854765838e-07,3.5829700703992714e-07,3.582133337736732e-07,3.580675672476651e-07,3.5796608027523736e-07,3.57909845331344e-07,3.5784664569492843e-07,3.5783060564707043e-07,3.579168266785305e-07,3.580790825340396e-07,3.582127620436859e-07,3.583348432626415e-07,3.581792588661686e-07,3.5789738599523077e-07,3.575275240793644e-07,3.5730449650512604e-07,3.574572747302587e-07,3.5777263152129284e-07,3.5792821119769204e-07,3.5765501003617534e-07,3.57375100076259e-07,3.573283251324568e-07,3.5737973790076505e-07,3.574505564205423e-07,3.574823236148885e-07,3.574842247063763e-07,3.574107569878414e-07,3.5732886202872727e-07,3.5725087046505564e-07,3.572195320005033e-07,3.572741901993614e-07,3.572761692306961e-07,3.571780699555685e-07,3.5706100402524607e-07,3.5698595686787707e-07,3.5693507622009643e-07,3.56910864991391e-07,3.568452589584983e-07,3.567241092466552e-07,3.566003547064069e-07,3.565233490275512e-07,3.564754383961454e-07,3.5647228487918705e-07,3.565416031034884e-07,3.566826344746359e-07,3.5692213976087675e-07,3.572088297757282e-07,3.572589449804202e-07,3.56956564883522e-07,3.5643370820422147e-07,3.561830394912778e-07,3.5633065198053857e-07,3.566521905821476e-07,3.5684635949487677e-07,3.567106321588809e-07,3.5655424004140125e-07,3.5652916134199395e-07,3.5661269290413873e-07,3.567746311258076e-07,3.568425964974142e-07,3.5677701077194983e-07,3.56756304010794e-07,3.5682897075990165e-07,3.5691284673537276e-07,3.5694470819920086e-07,3.569351749293175e-07,3.5696644429755046e-07,3.5706425777531205e-07,3.5713619603268737e-07,3.5723007617979316e-07,3.573145636547905e-07,3.573838963866209e-07,3.5727888731078943e-07,3.5711357158169536e-07,3.569729575860276e-07,3.5693593429098513e-07,3.5696315290512833e-07,3.569106283709634e-07,3.5682593680440895e-07,3.5682776809488315e-07,3.5684327342523227e-07,3.568237707170309e-07,3.5683569296050026e-07,3.5680556917541803e-07,3.567295381298962e-07,3.566655933396383e-07,3.566380229996849e-07,3.5654845568761797e-07,3.564189794068302e-07,3.563215048321252e-07,3.5627393380269345e-07,3.562476968234007e-07,3.5619922415077193e-07,3.561668279291386e-07,3.5615813559654285e-07,3.5615417962444607e-07,3.5613671612263127e-07,3.561495402125407e-07,3.5618287368300925e-07,3.561719077157424e-07,3.5599351606355637e-07,3.559253926851175e-07,3.5603953284081006e-07,3.560463196752527e-07,3.55928873671038e-07,3.559321923094039e-07,3.5601800429005383e-07,3.561134299995207e-07,3.560836404036256e-07,3.5592483105131683e-07,3.557917014285139e-07,3.5581734401397273e-07,3.5584783127239565e-07,3.558675597608075e-07,3.559439118858909e-07,3.5600644101708897e-07,3.5595094587653843e-07,3.5592726601752206e-07,3.558990268991547e-07,3.5583009872284136e-07,3.5579698626043454e-07,3.557755202280537e-07,3.557301475078849e-07,3.5566814106755007e-07,3.555694583514852e-07,3.5545901685109284e-07,3.5537450875869565e-07,3.553362387631488e-07,3.5535809440514777e-07,3.5542268770608936e-07,3.5558129960591354e-07,3.5588012079955976e-07,3.5639627368020184e-07,3.565175093676057e-07,3.56478727965625e-07,3.559822292235998e-07,3.5547210905069394e-07,3.5540100672806666e-07,3.5583797885340535e-07,3.563303677624239e-07,3.5624899318537954e-07,3.558902464208978e-07,3.558342199881771e-07,3.5608799456439127e-07,3.5639542372904026e-07,3.564517775553841e-07,3.563326716013649e-07,3.5628061957623607e-07,3.5640508467325255e-07,3.56560690432224e-07,3.565867601542759e-07,3.5654705111424526e-07,3.5652451663840613e-07,3.565859124703523e-07,3.5666932920388557e-07,3.5659716226676364e-07,3.565224526503617e-07,3.565087565073031e-07,3.564888880053217e-07,3.564628828552652e-07,3.5642868828186316e-07,3.5639541178380587e-07,3.563255710838888e-07,3.5624529335982505e-07,3.5618861382152403e-07,3.561915091563971e-07,3.5635091526188805e-07,3.5654108246704364e-07,3.567475120924683e-07,3.569831527123397e-07,3.56949836357735e-07,3.565703481533912e-07,3.5606687051700595e-07,3.5588067239667107e-07,3.561305035752151e-07,3.564478191166877e-07,3.5651619934588135e-07,3.5631823341502407e-07,3.561141685352423e-07,3.5603181932553575e-07,3.561877594523737e-07,3.5637501638033843e-07,3.5637252289064794e-07,3.56228338389058e-07,3.560821809958072e-07,3.5607484427221736e-07,3.561311051814712e-07,3.56152038344254e-07,3.561195800986336e-07,3.560683580698978e-07,3.5599943621398014e-07,3.5593310866596e-07,3.5588660751259053e-07,3.5590444409375774e-07,3.560519423200997e-07,3.5632990820084565e-07,3.566881852812016e-07,3.567968437188501e-07,3.567690746260106e-07,3.5648398920431503e-07,3.5595191584197655e-07,3.5568619661831144e-07,3.5597268525901746e-07,3.5634419018407517e-07,3.5641227546184286e-07,3.562917348043468e-07,3.5612660978643307e-07,3.5599246926390895e-07,3.560419085425798e-07,3.5624307298139635e-07,3.563587542938879e-07,3.5630385084780255e-07,3.5614384402371754e-07,3.5603687544301766e-07,3.5602186576672064e-07,3.5606684575716e-07,3.561065293272114e-07,3.56109699401931e-07,3.560380772930528e-07,3.5592180783758415e-07,3.558267746227717e-07,3.557816546435075e-07,3.5573019589230986e-07,3.5572314457661554e-07,3.557230274170454e-07,3.5571861145498147e-07,3.5574798966062133e-07,3.558700362883473e-07,3.5601757276988885e-07,3.5606909823581826e-07,3.559021834412342e-07,3.5559884430464114e-07,3.5535580382435147e-07,3.553578451860336e-07,3.555175291380944e-07,3.556057246097813e-07,3.5553630343829604e-07,3.554586867446061e-07,3.5538836387513506e-07,3.5529898318523237e-07,3.552281283588076e-07,3.552558312906823e-07,3.553028351605791e-07,3.552454507703775e-07,3.551489356766027e-07,3.5513380227591755e-07,3.5510057986122825e-07,3.5505978054502414e-07,3.5502537381422283e-07,3.5497369688861885e-07,3.548735690157576e-07,3.547607614679861e-07,3.5471431944512373e-07,3.5474369910266e-07,3.5488086677696403e-07,3.5513325463371853e-07,3.5552450520805414e-07,3.556472597032624e-07,3.5560837301924895e-07,3.5516519748094506e-07,3.54939482380532e-07,3.549710008869275e-07,3.550858403028594e-07,3.5519401937961196e-07,3.551876952753786e-07,3.552568267779113e-07,3.553177503626689e-07,3.552001049539267e-07,3.551538442847991e-07,3.552963650049123e-07,3.5549405462822894e-07,3.555210812955166e-07,3.553230244533466e-07,3.5527219992241836e-07,3.554339303861417e-07,3.5550701282475513e-07,3.5541580383571644e-07,3.553603726808912e-07,3.5540480683944987e-07,3.553939018701851e-07,3.552725746952816e-07,3.551672584671412e-07,3.551215050219828e-07,3.5506980648371823e-07,3.5499330079661303e-07,3.549120728805803e-07,3.548066729346124e-07,3.5466967738435584e-07,3.5454740340574235e-07,3.5445765742225713e-07,3.5436642396284677e-07,3.542480578225894e-07,3.5415103778488236e-07,3.5407687981581365e-07,3.540550900475514e-07,3.540322895298206e-07,3.540513589374506e-07,3.5399549683635063e-07,3.5392945340706013e-07,3.5381319732830533e-07,3.5370326390169095e-07,3.5356186680237196e-07,3.535635287084734e-07,3.539007712145249e-07,3.5455564016080257e-07,3.551798995520302e-07,3.550833444962775e-07,3.540192701378815e-07,3.539736721811003e-07,3.5450490693617857e-07,3.547039722149889e-07,3.5468230771696363e-07,3.5450834248222415e-07,3.546093786509479e-07,3.549888619778504e-07,3.5506630447984427e-07,3.5505248918756636e-07,3.550951056022959e-07,3.5522131680293793e-07,3.553832689997505e-07,3.5543394157909446e-07,3.554055404680908e-07,3.554827420447621e-07,3.556243588130305e-07,3.556271036311698e-07,3.5559597239753785e-07,3.555888237727827e-07,3.5559789118651873e-07,3.5562763813997984e-07,3.555703159068254e-07,3.5550625845751184e-07,3.5545513673656266e-07,3.554150780930218e-07,3.5538010735866505e-07,3.553897420421054e-07,3.555083215397133e-07,3.5573029690096754e-07,3.5618943254504005e-07,3.565837351500202e-07,3.5666144165117575e-07,3.560208998932534e-07,3.5548374329582475e-07,3.5532378629243823e-07,3.5561509578419925e-07,3.560081241735835e-07,3.5593354200812794e-07,3.5575565501065384e-07,3.55724488771167e-07,3.557187839389894e-07,3.5577104839379187e-07,3.5596820164815286e-07,3.560606600319703e-07,3.5589937995458096e-07,3.557688241840128e-07,3.558902761198743e-07,3.559526882707757e-07,3.5597278720365904e-07,3.5592128181603246e-07,3.5581862093256474e-07,3.5576752775166973e-07,3.558235764299502e-07,3.558220975929949e-07,3.5571740983039943e-07,3.5562233615614026e-07,3.5558114410123063e-07,3.5551592849134364e-07,3.5543429008342226e-07,3.553769581238782e-07,3.553674625268619e-07,3.554849383111e-07,3.5578642503123766e-07,3.559881314642969e-07,3.5609287347006205e-07,3.5592775482503295e-07,3.5545449629933724e-07,3.5516987316294964e-07,3.552605194881165e-07,3.5538771327160956e-07,3.554131452774139e-07,3.5537556618439257e-07,3.5521098346423555e-07,3.550940327284448e-07,3.5522453489600067e-07,3.552586860502136e-07,3.552091942033465e-07,3.5517021315895775e-07,3.5512204243089266e-07,3.550153134990365e-07,3.5504344132482646e-07,3.55096761516431e-07,3.5500061933009976e-07,3.5486967573933894e-07,3.548067800544632e-07,3.547576694614401e-07,3.547261123622226e-07,3.54764962508443e-07,3.547984787640592e-07,3.547943191394238e-07,3.54849645969902e-07,3.549329058154776e-07,3.5509059245338234e-07,3.5521307545311715e-07,3.551128811954499e-07,3.5478179274285927e-07,3.544953890276762e-07,3.5447479708527706e-07,3.5457148892137134e-07,3.546924887717183e-07,3.5481231961218743e-07,3.548028873560991e-07,3.5473788575197866e-07,3.5467952728684594e-07,3.546398699978688e-07,3.54600806323338e-07,3.54568642257394e-07,3.5464201599538966e-07,3.547271935145125e-07,3.5469943227742793e-07,3.546262242388027e-07,3.5453428059369185e-07,3.54475374014641e-07,3.544411953642569e-07,3.5439701458818266e-07,3.543098674816891e-07,3.5424330467856566e-07,3.542314933178829e-07,3.542070572082824e-07,3.5414991949812886e-07,3.5413109815880123e-07,3.5419882895519134e-07,3.5432659897144215e-07,3.5439204946183456e-07,3.5444746014809714e-07,3.5442585137067773e-07,3.5425337376195727e-07,3.5396901729777435e-07,3.538575689289108e-07,3.539333242704855e-07,3.540118062783984e-07,3.540083069823209e-07,3.5400561026057496e-07,3.5394770230878606e-07,3.538824473852402e-07,3.5389852945266677e-07,3.538672476500849e-07,3.538024433444858e-07,3.5381231461397426e-07,3.5382959101318686e-07,3.5379500525233513e-07,3.537887081002677e-07,3.537729582069465e-07,3.536907728628544e-07,3.5362825263861513e-07,3.5361448141794485e-07,3.535874466170279e-07,3.535142710197273e-07,3.534304251568932e-07,3.5337483476867844e-07,3.533727145568521e-07,3.534921474093957e-07,3.536623803580316e-07,3.538532752781663e-07,3.5387964226506076e-07,3.538111678366352e-07,3.535788287276371e-07,3.53389106589948e-07,3.53413701143799e-07,3.53555796613927e-07,3.5366877012280257e-07,3.53679161063942e-07,3.5360526402060273e-07,3.5343658618869e-07,3.5335704980156345e-07,3.534653744508938e-07,3.535576197993527e-07,3.536060687852759e-07,3.5359338541041507e-07,3.535238519599613e-07,3.534748724549672e-07,3.535388924142433e-07,3.536322213927186e-07,3.535781899555071e-07,3.534445625620205e-07,3.5335508633749885e-07,3.5330269721358053e-07,3.5325339363970013e-07,3.532056402489049e-07,3.531596889670719e-07,3.5307943444411e-07,3.529705801280696e-07,3.5285781055979973e-07,3.527541392010209e-07,3.526494954072608e-07,3.5255527338421354e-07,3.5248807028553787e-07,3.524620428909091e-07,3.525407233266871e-07,3.528155515410126e-07,3.533176081341296e-07,3.537331632771628e-07,3.537080329532965e-07,3.5294272143407665e-07,3.523343043405864e-07,3.5234276398875157e-07,3.5287069918170953e-07,3.533623225883552e-07,3.5330384287080237e-07,3.5294539882924666e-07,3.5293735924849997e-07,3.5341164886940386e-07,3.5378473271515357e-07,3.535989400226208e-07,3.534416049591166e-07,3.535558072855352e-07,3.537578473816875e-07,3.5391652145817575e-07,3.5397330905450797e-07,3.540361077250502e-07,3.5407221713813026e-07,3.5421561560785713e-07,3.5437307227939423e-07,3.5433131147913865e-07,3.54282743828883e-07,3.543618140651094e-07,3.5437766874052563e-07,3.543989396872689e-07,3.544229509691893e-07,3.543213731889725e-07,3.5423949681917896e-07,3.542500644758386e-07,3.541987941007909e-07,3.540879607425514e-07,3.540228606553065e-07,3.5395433002920157e-07,3.5385730019036427e-07,3.538240166936681e-07,3.538680526220693e-07,3.5404304283013764e-07,3.544733174119337e-07,3.551707940523829e-07,3.554065351539122e-07,3.5485308779167284e-07,3.5402485869335675e-07,3.5395189888852493e-07,3.5433227912266374e-07,3.5447600004545775e-07,3.5435674399701257e-07,3.5424876557030353e-07,3.544447067188892e-07,3.5460605563572513e-07,3.5452057546861515e-07,3.5455009957344427e-07,3.547498043301937e-07,3.5476583883003616e-07,3.5473260122549384e-07,3.5478985238830114e-07,3.548906234549519e-07,3.5491871470294465e-07,3.548645864126526e-07,3.54907453297234e-07,3.5499411450574566e-07,3.549768789819565e-07,3.5485585227815665e-07,3.548111396367484e-07,3.548323230364327e-07,3.5482677596252267e-07,3.547322341053992e-07,3.545990541069898e-07,3.54525481513627e-07,3.5446195219121525e-07,3.544081532315343e-07,3.5434965537797407e-07,3.5424815926135326e-07,3.541761525242939e-07,3.5421181125241126e-07,3.542119137224149e-07,3.5420045407971526e-07,3.5407699492515586e-07,3.539136263784286e-07,3.5367079670789025e-07,3.5344665003168126e-07,3.5325336721390843e-07,3.5310249003139706e-07,3.530567159054522e-07,3.530729123239096e-07,3.530353697274726e-07,3.529049051745331e-07,3.5279277917951e-07,3.526890541625461e-07,3.525532048781507e-07,3.523905676956236e-07,3.5226152423461524e-07,3.521734878142961e-07,3.521219830246111e-07,3.521311831012026e-07,3.522406790471701e-07,3.524357376174936e-07,3.5278145070837194e-07,3.530609939989809e-07,3.5310136472467023e-07,3.526122131344697e-07,3.520893059951233e-07,3.519462521452598e-07,3.5232886480479167e-07,3.527029654231876e-07,3.5262430496633154e-07,3.5238288791705533e-07,3.5230703791518787e-07,3.524482560503578e-07,3.527052502883294e-07,3.5282899120771716e-07,3.5272311358529803e-07,3.525973374802503e-07,3.5264965924319465e-07,3.5288060093684737e-07,3.530360544912373e-07,3.5298100728762976e-07,3.5280598293211124e-07,3.527927076879332e-07,3.528983797840298e-07,3.529934431940753e-07,3.529849772524657e-07,3.528828411517144e-07,3.527692206827765e-07,3.5273836803663574e-07,3.5279851552242954e-07,3.528561474920694e-07,3.528093639492923e-07,3.527540681539514e-07,3.52742678915223e-07,3.5283068067130886e-07,3.5291627378196085e-07,3.529618587282366e-07,3.528519200417679e-07,3.527305132181774e-07,3.525594493236607e-07,3.523740705586916e-07,3.5223762759202707e-07,3.5220351529599766e-07,3.5226564625203105e-07,3.5235704813278274e-07,3.523996334314379e-07,3.5231556167725696e-07,3.521177392915661e-07,3.519155220643216e-07,3.518322689607888e-07,3.5182470720994655e-07,3.518012178597072e-07,3.517395414904543e-07,3.51672434549692e-07,3.5161335582029387e-07,3.5153728001980767e-07,3.5142152650781175e-07,3.5125870489218525e-07,3.51111512531209e-07,3.510042611933893e-07,3.509511458129846e-07,3.509488986026087e-07,3.5101768934005293e-07,3.5113238465113224e-07,3.513053922427551e-07,3.513564279434473e-07,3.5132536020352117e-07,3.5112785788831575e-07,3.5109026093388685e-07,3.5124192029108064e-07,3.514289518484757e-07,3.51652930615819e-07,3.5163346586372156e-07,3.5141826831742827e-07,3.513996941818663e-07,3.5171145198395713e-07,3.518648411838001e-07,3.517391920535744e-07,3.5172260709767794e-07,3.518565550724702e-07,3.521642945163488e-07,3.522944771543773e-07,3.5226560787417767e-07,3.522590377651563e-07,3.524628645911897e-07,3.5260887913722933e-07,3.526227340031418e-07,3.5264930783448114e-07,3.526802698560888e-07,3.5269256120790407e-07,3.527474778477046e-07,3.5277999164237764e-07,3.527639743515023e-07,3.5269767945462135e-07,3.526411966238866e-07,3.5261568059293306e-07,3.525989116460873e-07,3.525292928083421e-07,3.524329478182535e-07,3.5235218708750956e-07,3.523634004388577e-07,3.5247887281873525e-07,3.526888659842154e-07,3.5298200865479936e-07,3.5321356221502215e-07,3.531999369930513e-07,3.5291207169336073e-07,3.524132865772495e-07,3.521814662076878e-07,3.525057810890461e-07,3.53130037114478e-07,3.5318132425016983e-07,3.52706349909069e-07,3.5245126249206916e-07,3.527106895137084e-07,3.5291090784058487e-07,3.5286577950077763e-07,3.528254321923012e-07,3.528333027792975e-07,3.5281222199823114e-07,3.529344139718531e-07,3.5307105614571237e-07,3.53019989557681e-07,3.528907101197119e-07,3.529195552730987e-07,3.53037739843389e-07,3.530193551179925e-07,3.5293268268388536e-07,3.528807303207766e-07,3.5283972787716026e-07,3.52784099582604e-07,3.5274576786140945e-07,3.5272749026427143e-07,3.526177152403243e-07,3.524689546003903e-07,3.523901511022936e-07,3.5230606022780047e-07,3.5220565690979943e-07,3.5217351600951086e-07,3.522367206132491e-07,3.5243452975883215e-07,3.527386963933613e-07,3.529989798301709e-07,3.5284994248393935e-07,3.524494804082389e-07,3.519099546582332e-07,3.5172962256115244e-07,3.520267922661384e-07,3.523140495503646e-07,3.522894420922063e-07,3.520537173109235e-07,3.5185539910140087e-07,3.518672626189809e-07,3.5205882072384815e-07,3.5217048595801874e-07,3.520764244197317e-07,3.5190997497984585e-07,3.5183194736397653e-07,3.518909184926256e-07,3.5198045358203616e-07,3.519516172192669e-07,3.518358548282416e-07,3.517346238856732e-07,3.516790543850191e-07,3.5163090990621773e-07,3.5156081110950176e-07,3.514786651311162e-07,3.51386757469748e-07,3.512882057349856e-07,3.511835780443353e-07,3.5105995965818476e-07,3.5091936402555836e-07,3.5077933759528713e-07,3.506610264719862e-07,3.5058649653206603e-07,3.50584378565565e-07,3.506925515102577e-07,3.5089369039331756e-07,3.512667483448866e-07,3.5156162503059575e-07,3.515948862876544e-07,3.5099196790538477e-07,3.503719021759056e-07,3.5035155956391753e-07,3.5068846051458474e-07,3.510518956007891e-07,3.5103185718418154e-07,3.5062912177840125e-07,3.505224999077739e-07,3.50853534678469e-07,3.5106856617254577e-07,3.5104604938634144e-07,3.50958241020915e-07,3.5089355461613713e-07,3.5098684372360736e-07,3.5119095413229445e-07,3.5125205002890886e-07,3.51166190033804e-07,3.5112864878902873e-07,3.511597648429679e-07,3.5124580652495233e-07,3.513255424414783e-07,3.5131630430065105e-07,3.5132914815665005e-07,3.513733237261865e-07,3.5136607537971106e-07,3.5136362458918496e-07,3.5142317143933584e-07,3.5131143475879705e-07,3.5118765079675663e-07,3.5117647015926713e-07,3.511552861347069e-07,3.5107497185753966e-07,3.509887534030101e-07,3.509443166413228e-07,3.508921142901801e-07,3.5084841854895467e-07,3.5085338699721257e-07,3.508453121199355e-07,3.5075386946489805e-07,3.5066771524401693e-07,3.5058525937349407e-07,3.5049401473518205e-07,3.5042114870010536e-07,3.503937387479352e-07,3.503936646517314e-07,3.5042651375839455e-07,3.504172602760059e-07,3.503975217863883e-07,3.5026588545360454e-07,3.500472908702517e-07,3.498916952247205e-07,3.498851125842348e-07,3.4990221554346255e-07,3.4983226674674786e-07,3.497552094035971e-07,3.4962568710484025e-07,3.4951217340378887e-07,3.4943425138307297e-07,3.4937801516307446e-07,3.4932315067128256e-07,3.4931312012946643e-07,3.4931138232920966e-07,3.4925284109611406e-07,3.491885393505351e-07,3.4920175927045455e-07,3.492757764109061e-07,3.494010589604717e-07,3.4950710695034386e-07,3.496392643149046e-07,3.4961207476311075e-07,3.4958669104116507e-07,3.493523845044407e-07,3.490491443776519e-07,3.4909450635650796e-07,3.493664139529768e-07,3.495205481415366e-07,3.495288061420132e-07,3.495349925626302e-07,3.4941384210037384e-07,3.493186489523937e-07,3.4937166680942746e-07,3.494987300319244e-07,3.495383256584818e-07,3.4948797365223934e-07,3.494855593959284e-07,3.494899545304809e-07,3.4949859082699476e-07,3.4949074842679613e-07,3.4939275579072487e-07,3.4928363627600947e-07,3.492585424046822e-07,3.492795674640768e-07,3.49240070062228e-07,3.4917723800659695e-07,3.491066659798681e-07,3.4899705640285917e-07,3.4887987947847856e-07,3.488005758638769e-07,3.4876042806111525e-07,3.487867558626799e-07,3.490291184159471e-07,3.4961142526208163e-07,3.5017286634122626e-07,3.5016516820413887e-07,3.504435318083567e-07,3.50016967089783e-07,3.4938960858062313e-07,3.496350049348347e-07,3.499892492428156e-07,3.5049684636381687e-07,3.5025922767588784e-07,3.4989149401446387e-07,3.5031398856910786e-07,3.505976017706505e-07,3.506851324131547e-07,3.507165563887527e-07,3.508938266061465e-07,3.5103612913386407e-07,3.5127584856508557e-07,3.513184939194119e-07,3.513516467490266e-07,3.515423532033285e-07,3.5172958194117653e-07,3.5171072879418133e-07,3.5183018244411205e-07,3.519086253604257e-07,3.519675856596875e-07,3.520347543198322e-07,3.5204238279141934e-07,3.520096990969165e-07,3.520152094879618e-07,3.52032082221639e-07,3.5198757356846525e-07,3.5193956944336376e-07,3.5187890497812505e-07,3.5179121698816623e-07,3.5172653330665357e-07,3.516384378813109e-07,3.514953750463647e-07,3.513943949617287e-07,3.512970131085025e-07,3.511957514915788e-07,3.511267656997804e-07,3.511367213354606e-07,3.512211616078308e-07,3.5139806090468607e-07,3.514754757128636e-07,3.514202704650084e-07,3.50999054690776e-07,3.505175110718865e-07,3.503348611762835e-07,3.50361510358203e-07,3.505465332234916e-07,3.5063997705353417e-07,3.505034551127534e-07,3.501897325150754e-07,3.5004468991386426e-07,3.500481537730811e-07,3.5011874293947934e-07,3.501883017939445e-07,3.5010276311132364e-07,3.499059773442284e-07,3.497623919388718e-07,3.4970611557503994e-07,3.496972734436959e-07,3.4968864125087485e-07,3.496034942471069e-07,3.494555527906205e-07,3.493359098233357e-07,3.492326960281696e-07,3.4913676351212557e-07,3.49059909693747e-07,3.489717437348716e-07,3.488479110397808e-07,3.486930560136383e-07,3.485478587905908e-07,3.483909992394097e-07,3.4824199736856187e-07,3.480998357185478e-07,3.4796280212093513e-07,3.4784178562851596e-07,3.4778995135435136e-07,3.478899264449621e-07,3.482821304577323e-07,3.490915561951587e-07,3.4993666917611203e-07,3.498997155924349e-07,3.487841815089529e-07,3.4807878326453724e-07,3.486612732978287e-07,3.493401529494488e-07,3.490922663289369e-07,3.4863426533580206e-07,3.4905492534426166e-07,3.4945139499043173e-07,3.495171386785117e-07,3.4951851379022766e-07,3.4957655629501844e-07,3.499340811297714e-07,3.5013156432898747e-07,3.5017321867622536e-07,3.502557867905669e-07,3.504807066561063e-07,3.5072914588983626e-07,3.507205531583554e-07,3.5075880235399767e-07,3.509427636133344e-07,3.5105662660893565e-07,3.5106099488806823e-07,3.5107901515260783e-07,3.511665501897466e-07,3.511664557536323e-07,3.5113951747075047e-07,3.5117119620092737e-07,3.511363636874397e-07,3.5103882117872693e-07,3.5099590672437456e-07,3.5095075536720825e-07,3.508497248905146e-07,3.507233824525862e-07,3.506200890051195e-07,3.5050119580486676e-07,3.503677883389186e-07,3.5025889367658305e-07,3.501942755481658e-07,3.5023033738405346e-07,3.5048507594906186e-07,3.5085423147287763e-07,3.512852095623354e-07,3.5122241041855863e-07,3.5050962466285383e-07,3.497168017908812e-07,3.4972903818107494e-07,3.502253726279026e-07,3.504795781127901e-07,3.5020252521182415e-07,3.497576490411425e-07,3.4980247763773466e-07,3.5014318735720576e-07,3.502874523712994e-07,3.501581330033395e-07,3.499309193946863e-07,3.4995037725271633e-07,3.5013499203051614e-07,3.5019401753101814e-07,3.50139703863056e-07,3.500239585617533e-07,3.49971026338718e-07,3.499880011992659e-07,3.5001689373633645e-07,3.4997463275932133e-07,3.4985732425836555e-07,3.4980367429248737e-07,3.4973604770288246e-07,3.496368426000515e-07,3.4960788704957994e-07,3.4956652654650436e-07,3.4946408293330965e-07,3.493302647193378e-07,3.491947102143356e-07,3.490889167046538e-07,3.4900453162556156e-07,3.4894735181009663e-07,3.4888126263290123e-07,3.488104603072384e-07,3.487281312506033e-07,3.4868124756120654e-07,3.486462105418087e-07,3.4859168758111755e-07,3.4847283262552446e-07,3.4826929762744863e-07,3.4805108771057956e-07,3.4787787780654265e-07,3.4773582539972444e-07,3.476477379503988e-07,3.476171213687521e-07,3.475655326299767e-07,3.474536061390547e-07,3.4732781558822837e-07,3.472487247957628e-07,3.47149473618276e-07,3.469956682098806e-07,3.468337993119087e-07,3.4671275966235003e-07,3.4660564228310104e-07,3.464801183177745e-07,3.463549732991798e-07,3.462363549510148e-07,3.461035722985026e-07,3.45960651013667e-07,3.4582750065639977e-07,3.45718574361189e-07,3.4563420485869094e-07,3.4558496130199075e-07,3.4560848599588426e-07,3.4570368428305803e-07,3.4585414212067655e-07,3.4590561272679754e-07,3.4584033878664277e-07,3.4576219567111645e-07,3.457591643683406e-07,3.460269603856601e-07,3.4625428992316587e-07,3.462866995380115e-07,3.4598798648158814e-07,3.4612905289614735e-07,3.465969193539799e-07,3.470032434454237e-07,3.468360493650254e-07,3.467294043987156e-07,3.4669150308666316e-07,3.470330809932867e-07,3.472191672574956e-07,3.4726791649036847e-07,3.4739177793334177e-07,3.4746172361706574e-07,3.47688362324131e-07,3.4777567084236587e-07,3.479629801842203e-07,3.480804503628224e-07,3.4811704320081837e-07,3.481353867059012e-07,3.48202412566409e-07,3.4829851700722126e-07,3.483097196433859e-07,3.4823743772881576e-07,3.482165567702632e-07,3.4825735006191106e-07,3.482687454238764e-07,3.4821857540881335e-07,3.481369586630732e-07,3.4806662233262194e-07,3.4799992474389814e-07,3.4791082719641e-07,3.4780009535875594e-07,3.477081903200428e-07,3.476191628032868e-07,3.47495421318615e-07,3.4738532055294116e-07,3.473218051586181e-07,3.4731554828465375e-07,3.473880490150099e-07,3.475341769634153e-07,3.476811369250558e-07,3.476813173923586e-07,3.473538350188848e-07,3.468820682281672e-07,3.465509505710257e-07,3.4656431292254427e-07,3.4680903425359823e-07,3.4703809851667496e-07,3.4703483085219265e-07,3.4678721378296994e-07,3.465387554276653e-07,3.4651861605147823e-07,3.4665918420077424e-07,3.4679692295297524e-07,3.467894234421351e-07,3.466846758235578e-07,3.4653790680760696e-07,3.464626993161794e-07,3.4650162598124193e-07,3.4659832384985187e-07,3.4663147432657713e-07,3.465767546141325e-07,3.464588923960067e-07,3.4635507651192296e-07,3.4632530522599323e-07,3.463845319674554e-07,3.46479823328802e-07,3.465584356488463e-07,3.465445050903483e-07,3.465627253169539e-07,3.4660382951787e-07,3.4657374294770465e-07,3.464802051303918e-07,3.464016527346006e-07,3.463325899156953e-07,3.4623381023712994e-07,3.461740328394146e-07,3.461781000019899e-07,3.4620211692684136e-07,3.462001726185316e-07,3.461843521376096e-07,3.4614730824650447e-07,3.4607416551165364e-07,3.4602034672068894e-07,3.4597653845365996e-07,3.458985250552009e-07,3.4584714770777064e-07,3.4583517527108374e-07,3.4584317147811743e-07,3.458327978135615e-07,3.4584152931924594e-07,3.4585948839596974e-07,3.4590457458119294e-07,3.4592342050575626e-07,3.4593251810074425e-07,3.4589690607676913e-07,3.4567729929887664e-07,3.454256578919412e-07,3.4526863536080966e-07,3.453056800323517e-07,3.4540877551106307e-07,3.454372080281518e-07,3.453866919445681e-07,3.453417123896916e-07,3.452849961297781e-07,3.451798224364827e-07,3.450896004095584e-07,3.451209926477025e-07,3.452375525760289e-07,3.4539548466284504e-07,3.4559608527499074e-07,3.4580847687386926e-07,3.4576954090777387e-07,3.455757092939108e-07,3.4531188851729094e-07,3.4525970624451957e-07,3.454812530550768e-07,3.4572938175944677e-07,3.4575365782784893e-07,3.4553664535764205e-07,3.4538652109397347e-07,3.454584864034311e-07,3.456269871230979e-07,3.457753212198534e-07,3.458103911892003e-07,3.4567828808859016e-07,3.4559677642011646e-07,3.456782920075874e-07,3.4579820911718606e-07,3.457708932608013e-07,3.456873624270851e-07,3.4559280472864386e-07,3.455386280027344e-07,3.455414716239728e-07,3.455565690054623e-07,3.4554208676918464e-07,3.4547899252275405e-07,3.4537470419074387e-07,3.452353150776902e-07,3.4511842630093224e-07,3.450466306127286e-07,3.4498936086407676e-07,3.449433298574825e-07,3.449121079500686e-07,3.448725012371118e-07,3.448563567493454e-07,3.449091446776014e-07,3.4507719523823623e-07,3.453656150738965e-07,3.457471254927176e-07,3.4571767977644403e-07,3.451913697349015e-07,3.4451109247776575e-07,3.445154491107821e-07,3.450741285555977e-07,3.453412047724334e-07,3.4519835190342914e-07,3.450097840177149e-07,3.4495558100444205e-07,3.4499292077457476e-07,3.451799561756772e-07,3.45327141816546e-07,3.45190615202497e-07,3.4508463138833394e-07,3.4517549090910635e-07,3.452562690915053e-07,3.452639626751884e-07,3.452215733655939e-07,3.4517316172383284e-07,3.4516388788911415e-07,3.451406780476888e-07,3.4511320669892324e-07,3.4506773521554e-07,3.4499130186461537e-07,3.449397396213999e-07,3.4487894761189284e-07,3.447736161266434e-07,3.4467567824843866e-07,3.446105622322875e-07,3.4456438880109755e-07,3.445076148613462e-07,3.4445898096961535e-07,3.44445004440098e-07,3.4448909815531137e-07,3.446133796632266e-07,3.448471343829561e-07,3.449340328128557e-07,3.4489207143217485e-07,3.4454500347737197e-07,3.443139792175227e-07,3.443281992557237e-07,3.44609087214379e-07,3.4477510674537457e-07,3.446104435138387e-07,3.444610411024486e-07,3.4461665968039444e-07,3.446959116645149e-07,3.447974573448424e-07,3.4490729463092717e-07,3.44878564618515e-07,3.447308953503593e-07,3.4479037505422376e-07,3.4487119978830413e-07,3.4498407747985817e-07,3.450551411533257e-07,3.4502120979522475e-07,3.4490553591092844e-07,3.4488808651535756e-07,3.4499619394987925e-07,3.450068809828964e-07,3.4493414446214626e-07,3.44923670310688e-07,3.4491318122278913e-07,3.4487737205704465e-07,3.448865242735873e-07,3.448775056758121e-07,3.448929356816684e-07,3.449920578956673e-07,3.4503217748355377e-07,3.449527264966341e-07,3.4481959724214973e-07,3.4461888225133717e-07,3.4453713478104926e-07,3.44567707675803e-07,3.4447198987732277e-07,3.443342465212923e-07,3.4427819916290216e-07,3.4425604278470215e-07,3.4424853694223295e-07,3.442652580412484e-07,3.44214774514183e-07,3.4409162229508014e-07,3.439666902178107e-07,3.438690859711973e-07,3.4380732333699554e-07,3.4373542495550674e-07,3.4362933683084677e-07,3.435276943649315e-07,3.434259471806185e-07,3.4331768896249525e-07,3.4321519825892386e-07,3.431253630335053e-07,3.4304813279954007e-07,3.429928480253961e-07,3.4299427864142574e-07,3.4309888750131945e-07,3.433773277611747e-07,3.4369023328050245e-07,3.43986322507867e-07,3.436581771337073e-07,3.4327071118055975e-07,3.429580086702161e-07,3.430071256220145e-07,3.4333559347528575e-07,3.435063543774902e-07,3.4344057201803436e-07,3.4335290347984613e-07,3.434886237944018e-07,3.4367317463944696e-07,3.437062630081512e-07,3.4375310197093747e-07,3.4389027796230306e-07,3.440091425996614e-07,3.4402920243745367e-07,3.4402837232821136e-07,3.4419532504920103e-07,3.443081883530584e-07,3.443227746979105e-07,3.442873702671279e-07,3.4424254617149504e-07,3.4429650267885445e-07,3.444027079870743e-07,3.4437620196430757e-07,3.442657379798297e-07,3.442321201050981e-07,3.442475730974364e-07,3.4422640086747346e-07,3.4415060821957667e-07,3.440569354845358e-07,3.439822780170433e-07,3.439255340230445e-07,3.4384419017281255e-07,3.43730231975904e-07,3.436025257386331e-07,3.4351386590257795e-07,3.4345827939971536e-07,3.4343772814626705e-07,3.4347922833132176e-07,3.4366058308894523e-07,3.439820880232592e-07,3.4441020704296316e-07,3.4434752431638073e-07,3.437992610283219e-07,3.432369796173737e-07,3.4320496556478904e-07,3.435990036778083e-07,3.4386101044330837e-07,3.436850340169387e-07,3.434979182113893e-07,3.4354064734133764e-07,3.436804285563157e-07,3.4379129800714026e-07,3.438473090803442e-07,3.4378981933700616e-07,3.437424499304649e-07,3.4382529895201614e-07,3.439057011599765e-07,3.4396663231052925e-07,3.4394830412001297e-07,3.4388082039479744e-07,3.4387436541777854e-07,3.4390376057417254e-07,3.439063179650234e-07,3.438754063701171e-07,3.4382439973288085e-07,3.437839960380414e-07,3.4375867273647853e-07,3.4375885606280716e-07,3.4375236261822863e-07,3.437417323633507e-07,3.4371484884566743e-07,3.437276836939108e-07,3.4371438248390184e-07,3.437137047600929e-07,3.4364369970687266e-07,3.434929321507175e-07,3.4333632271854943e-07,3.4318917778575866e-07,3.430923220063175e-07,3.4308954180931855e-07,3.4309408273491243e-07,3.430359560903261e-07,3.4298709938598374e-07,3.429403736478687e-07,3.428601207174857e-07,3.4273078531287686e-07,3.426121648526853e-07,3.425229848431833e-07,3.4244722800914415e-07,3.423346674967316e-07,3.42208893272436e-07,3.420984190909512e-07,3.4199942211524115e-07,3.419032399145212e-07,3.4181086781315977e-07,3.417392066945836e-07,3.4171704990914795e-07,3.4181192278690525e-07,3.420613807446879e-07,3.4250748382035436e-07,3.4291429946643327e-07,3.4309416711077736e-07,3.4260638745532583e-07,3.4184963436472037e-07,3.4201463076848683e-07,3.4291127518028785e-07,3.4319636723081934e-07,3.426187429818648e-07,3.42443453689169e-07,3.427712016939472e-07,3.4316227275761776e-07,3.4327723317164875e-07,3.4307429366058625e-07,3.432883985321708e-07,3.4370411554599096e-07,3.437028973557965e-07,3.4374823745794847e-07,3.438595787496123e-07,3.44030410144676e-07,3.4424175882978676e-07,3.4423187696699445e-07,3.4423963605151153e-07,3.4438882166505436e-07,3.4450698027426197e-07,3.44541634377713e-07,3.445036473414321e-07,3.4450370475362224e-07,3.445526001385269e-07,3.445356674652299e-07,3.444878553582648e-07,3.4446536476868185e-07,3.443979235677703e-07,3.4431826803944174e-07,3.442760753462093e-07,3.4419771919254304e-07,3.4406754256730086e-07,3.439612897947631e-07,3.438515370104176e-07,3.4370154306502585e-07,3.435703818741215e-07,3.434263673848798e-07,3.432550752734858e-07,3.4308793831793527e-07,3.429361843158401e-07,3.4278316253987803e-07,3.4263667152620206e-07,3.425407866137028e-07,3.4250981911545514e-07,3.4255576739219607e-07,3.4266200495203786e-07,3.426550152671059e-07,3.4246331652400526e-07,3.42188929065974e-07,3.419279875124617e-07,3.4188257963899665e-07,3.4188479163364153e-07,3.4185265775174027e-07,3.41944014853859e-07,3.4212472691060207e-07,3.4213323426030533e-07,3.422449579783052e-07,3.425660028323497e-07,3.427607671708557e-07,3.426314228313822e-07,3.4215088601619957e-07,3.420371793139452e-07,3.424760992808564e-07,3.428050741765711e-07,3.428067870924378e-07,3.4263979499188924e-07,3.425565486168035e-07,3.4280903887909917e-07,3.430331227442079e-07,3.4297935729370583e-07,3.4291780822935915e-07,3.430261755255139e-07,3.4313078567069293e-07,3.431083312990615e-07,3.4308421933187776e-07,3.4311507984928e-07,3.4312677865141094e-07,3.4308938818903254e-07,3.430657586160744e-07,3.430858580579916e-07,3.4308207953424776e-07,3.430424415597293e-07,3.429909206792304e-07,3.429549741526552e-07,3.4296935805252854e-07,3.430188997652179e-07,3.430846161864831e-07,3.4300152595785367e-07,3.428752474592277e-07,3.4274620667534876e-07,3.4261829006941226e-07,3.4250199427559316e-07,3.423944134028512e-07,3.4230988631283093e-07,3.4226056583531195e-07,3.422157155492218e-07,3.4214231259408714e-07,3.4205963516554733e-07,3.419844545314864e-07,3.4193190734263264e-07,3.4188051164713226e-07,3.418067827851075e-07,3.416799140497352e-07,3.415040483912183e-07,3.4134089504687494e-07,3.4121630614043147e-07,3.411181429723162e-07,3.4103674685489224e-07,3.40958176105466e-07,3.4088476650490564e-07,3.4085157069144323e-07,3.409159892766207e-07,3.4111432367560674e-07,3.4150225664788747e-07,3.4197961652057145e-07,3.4211136332463533e-07,3.415814337840278e-07,3.408515516402726e-07,3.408930377471099e-07,3.4140202312239145e-07,3.4172935681046603e-07,3.4166233004603654e-07,3.4132635059776454e-07,3.413944862671562e-07,3.4173779025454147e-07,3.419111706886895e-07,3.419423594132404e-07,3.4190002653903403e-07,3.418839218071255e-07,3.4209697697683774e-07,3.4227282057321617e-07,3.4225360452845897e-07,3.4223596156256973e-07,3.422879500914849e-07,3.4236197476044073e-07,3.423893873677634e-07,3.424027121599726e-07,3.423814653565841e-07,3.42335023138838e-07,3.4233258820737356e-07,3.4235541615718957e-07,3.423292105674546e-07,3.4227739227132777e-07,3.4225658107127606e-07,3.422939300028003e-07,3.423624797341463e-07,3.4250427603498723e-07,3.426635640537251e-07,3.426446118229107e-07,3.4237945568008684e-07,3.4208772816738835e-07,3.41929584313114e-07,3.4189996991749243e-07,3.419625519417267e-07,3.420621571751199e-07,3.4206357736389683e-07,3.418982919748358e-07,3.4175685512266216e-07,3.4170017659663746e-07,3.4167818394068107e-07,3.4166182771880456e-07,3.4161867402960975e-07,3.415384061934188e-07,3.4144243373813935e-07,3.413324856703408e-07,3.412294601808169e-07,3.411666200425524e-07,3.4111387012708975e-07,3.410260327537719e-07,3.409234587906261e-07,3.4085222233496235e-07,3.408166263427882e-07,3.4080708282809297e-07,3.408441060788671e-07,3.4094209861547936e-07,3.4116240279926897e-07,3.4130703777022106e-07,3.4116555453640394e-07,3.406768965244884e-07,3.403625383042211e-07,3.403974820487438e-07,3.405368959265731e-07,3.406937892507435e-07,3.4071890742383856e-07,3.406319231898041e-07,3.40504859797412e-07,3.4042513897169177e-07,3.404998098342089e-07,3.406277506045173e-07,3.406187022706585e-07,3.4053489047981086e-07,3.4048280666719504e-07,3.4043417148351433e-07,3.4040057882248e-07,3.404323692219675e-07,3.4045742780167365e-07,3.4040591262120164e-07,3.403008895727508e-07,3.4022086939653883e-07,3.401676890103471e-07,3.400848312870386e-07,3.400355131038703e-07,3.4003772126360916e-07,3.400967494251586e-07,3.402014447088659e-07,3.4035278631367223e-07,3.4059058682060056e-07,3.40862405756724e-07,3.4076673052246294e-07,3.404745964638939e-07,3.4013734359354957e-07,3.400481925497455e-07,3.403936491624962e-07,3.4072391975518734e-07,3.4068895932465036e-07,3.405391538566727e-07,3.404768593019091e-07,3.4058367775412e-07,3.4085239337022067e-07,3.409243266197278e-07,3.4080163022477763e-07,3.408176762751876e-07,3.4099745345176986e-07,3.4099959352690585e-07,3.4093220434874323e-07,3.4096643354509137e-07,3.410510613506953e-07,3.4109992969403186e-07,3.4106406324826576e-07,3.4099630619454207e-07,3.409743717848242e-07,3.409752688683082e-07,3.4097085364324787e-07,3.4093210653948686e-07,3.408629122562364e-07,3.4077465019502445e-07,3.4070515491110277e-07,3.407116034638003e-07,3.4071974544102435e-07,3.406763862463234e-07,3.406783871091311e-07,3.408161505956899e-07,3.41025611838659e-07,3.4124442701702464e-07,3.4120941667387127e-07,3.408125366628444e-07,3.4048598984278477e-07,3.4041246906503347e-07,3.4045520137938963e-07,3.405586706345089e-07,3.4068973059948957e-07,3.406606231852192e-07,3.404763323922249e-07,3.404229701999392e-07,3.405041654282692e-07,3.405322632778446e-07,3.404802268401689e-07,3.404555145685151e-07,3.404549182781171e-07,3.404006671895167e-07,3.403359398243709e-07,3.4029312727764607e-07,3.4025819616052563e-07,3.402313862353717e-07,3.4017748047278556e-07,3.4007545365510024e-07,3.399689682830198e-07,3.398817020264426e-07,3.397864359326547e-07,3.396996817960714e-07,3.3962408449659155e-07,3.395299267810714e-07,3.394449502725533e-07,3.3941304915025246e-07,3.3945141360707987e-07,3.396310252090473e-07,3.399189432993052e-07,3.4025263216692125e-07,3.402461500947471e-07,3.3995521626476825e-07,3.396330110008207e-07,3.394830610632357e-07,3.3967676985267007e-07,3.3994181794172396e-07,3.39954313358726e-07,3.398580727758749e-07,3.3984829279774565e-07,3.399310826318534e-07,3.401298339236e-07,3.402986180835691e-07,3.4035600115999913e-07,3.403149822827719e-07,3.40262841887776e-07,3.4044388662646034e-07,3.4069622181478056e-07,3.406858792980841e-07,3.4059175368186064e-07,3.405681738099767e-07,3.4063731551369e-07,3.4075799035499e-07,3.408010995382545e-07,3.407348580940972e-07,3.4066267497618916e-07,3.4062470142694806e-07,3.4060271345284754e-07,3.4059853537308477e-07,3.4054660336009554e-07,3.404490078222255e-07,3.4037676145416195e-07,3.40310191382225e-07,3.4023628099453673e-07,3.4018681912946817e-07,3.4015453199097747e-07,3.401863409486827e-07,3.4035864057743194e-07,3.4064281854446067e-07,3.4090710596117115e-07,3.4077633960639276e-07,3.403198635319576e-07,3.398860014314811e-07,3.398105943731673e-07,3.399546848591392e-07,3.4015444016291673e-07,3.402726233233197e-07,3.40105048024212e-07,3.3985025474618657e-07,3.398458930256485e-07,3.4002396283698536e-07,3.4012165866331334e-07],\"type\":\"scatter\"},{\"mode\":\"lines\",\"name\":\"Test\",\"x\":[0,1,2,3,4,5,6,7,8,9,10,11,12,13,14,15,16,17,18,19,20,21,22,23,24,25,26,27,28,29,30,31,32,33,34,35,36,37,38,39,40,41,42,43,44,45,46,47,48,49,50,51,52,53,54,55,56,57,58,59,60,61,62,63,64,65,66,67,68,69,70,71,72,73,74,75,76,77,78,79,80,81,82,83,84,85,86,87,88,89,90,91,92,93,94,95,96,97,98,99,100,101,102,103,104,105,106,107,108,109,110,111,112,113,114,115,116,117,118,119,120,121,122,123,124,125,126,127,128,129,130,131,132,133,134,135,136,137,138,139,140,141,142,143,144,145,146,147,148,149,150,151,152,153,154,155,156,157,158,159,160,161,162,163,164,165,166,167,168,169,170,171,172,173,174,175,176,177,178,179,180,181,182,183,184,185,186,187,188,189,190,191,192,193,194,195,196,197,198,199,200,201,202,203,204,205,206,207,208,209,210,211,212,213,214,215,216,217,218,219,220,221,222,223,224,225,226,227,228,229,230,231,232,233,234,235,236,237,238,239,240,241,242,243,244,245,246,247,248,249,250,251,252,253,254,255,256,257,258,259,260,261,262,263,264,265,266,267,268,269,270,271,272,273,274,275,276,277,278,279,280,281,282,283,284,285,286,287,288,289,290,291,292,293,294,295,296,297,298,299,300,301,302,303,304,305,306,307,308,309,310,311,312,313,314,315,316,317,318,319,320,321,322,323,324,325,326,327,328,329,330,331,332,333,334,335,336,337,338,339,340,341,342,343,344,345,346,347,348,349,350,351,352,353,354,355,356,357,358,359,360,361,362,363,364,365,366,367,368,369,370,371,372,373,374,375,376,377,378,379,380,381,382,383,384,385,386,387,388,389,390,391,392,393,394,395,396,397,398,399,400,401,402,403,404,405,406,407,408,409,410,411,412,413,414,415,416,417,418,419,420,421,422,423,424,425,426,427,428,429,430,431,432,433,434,435,436,437,438,439,440,441,442,443,444,445,446,447,448,449,450,451,452,453,454,455,456,457,458,459,460,461,462,463,464,465,466,467,468,469,470,471,472,473,474,475,476,477,478,479,480,481,482,483,484,485,486,487,488,489,490,491,492,493,494,495,496,497,498,499,500,501,502,503,504,505,506,507,508,509,510,511,512,513,514,515,516,517,518,519,520,521,522,523,524,525,526,527,528,529,530,531,532,533,534,535,536,537,538,539,540,541,542,543,544,545,546,547,548,549,550,551,552,553,554,555,556,557,558,559,560,561,562,563,564,565,566,567,568,569,570,571,572,573,574,575,576,577,578,579,580,581,582,583,584,585,586,587,588,589,590,591,592,593,594,595,596,597,598,599,600,601,602,603,604,605,606,607,608,609,610,611,612,613,614,615,616,617,618,619,620,621,622,623,624,625,626,627,628,629,630,631,632,633,634,635,636,637,638,639,640,641,642,643,644,645,646,647,648,649,650,651,652,653,654,655,656,657,658,659,660,661,662,663,664,665,666,667,668,669,670,671,672,673,674,675,676,677,678,679,680,681,682,683,684,685,686,687,688,689,690,691,692,693,694,695,696,697,698,699,700,701,702,703,704,705,706,707,708,709,710,711,712,713,714,715,716,717,718,719,720,721,722,723,724,725,726,727,728,729,730,731,732,733,734,735,736,737,738,739,740,741,742,743,744,745,746,747,748,749,750,751,752,753,754,755,756,757,758,759,760,761,762,763,764,765,766,767,768,769,770,771,772,773,774,775,776,777,778,779,780,781,782,783,784,785,786,787,788,789,790,791,792,793,794,795,796,797,798,799,800,801,802,803,804,805,806,807,808,809,810,811,812,813,814,815,816,817,818,819,820,821,822,823,824,825,826,827,828,829,830,831,832,833,834,835,836,837,838,839,840,841,842,843,844,845,846,847,848,849,850,851,852,853,854,855,856,857,858,859,860,861,862,863,864,865,866,867,868,869,870,871,872,873,874,875,876,877,878,879,880,881,882,883,884,885,886,887,888,889,890,891,892,893,894,895,896,897,898,899,900,901,902,903,904,905,906,907,908,909,910,911,912,913,914,915,916,917,918,919,920,921,922,923,924,925,926,927,928,929,930,931,932,933,934,935,936,937,938,939,940,941,942,943,944,945,946,947,948,949,950,951,952,953,954,955,956,957,958,959,960,961,962,963,964,965,966,967,968,969,970,971,972,973,974,975,976,977,978,979,980,981,982,983,984,985,986,987,988,989,990,991,992,993,994,995,996,997,998,999,1000,1001,1002,1003,1004,1005,1006,1007,1008,1009,1010,1011,1012,1013,1014,1015,1016,1017,1018,1019,1020,1021,1022,1023,1024,1025,1026,1027,1028,1029,1030,1031,1032,1033,1034,1035,1036,1037,1038,1039,1040,1041,1042,1043,1044,1045,1046,1047,1048,1049,1050,1051,1052,1053,1054,1055,1056,1057,1058,1059,1060,1061,1062,1063,1064,1065,1066,1067,1068,1069,1070,1071,1072,1073,1074,1075,1076,1077,1078,1079,1080,1081,1082,1083,1084,1085,1086,1087,1088,1089,1090,1091,1092,1093,1094,1095,1096,1097,1098,1099,1100,1101,1102,1103,1104,1105,1106,1107,1108,1109,1110,1111,1112,1113,1114,1115,1116,1117,1118,1119,1120,1121,1122,1123,1124,1125,1126,1127,1128,1129,1130,1131,1132,1133,1134,1135,1136,1137,1138,1139,1140,1141,1142,1143,1144,1145,1146,1147,1148,1149,1150,1151,1152,1153,1154,1155,1156,1157,1158,1159,1160,1161,1162,1163,1164,1165,1166,1167,1168,1169,1170,1171,1172,1173,1174,1175,1176,1177,1178,1179,1180,1181,1182,1183,1184,1185,1186,1187,1188,1189,1190,1191,1192,1193,1194,1195,1196,1197,1198,1199,1200,1201,1202,1203,1204,1205,1206,1207,1208,1209,1210,1211,1212,1213,1214,1215,1216,1217,1218,1219,1220,1221,1222,1223,1224,1225,1226,1227,1228,1229,1230,1231,1232,1233,1234,1235,1236,1237,1238,1239,1240,1241,1242,1243,1244,1245,1246,1247,1248,1249,1250,1251,1252,1253,1254,1255,1256,1257,1258,1259,1260,1261,1262,1263,1264,1265,1266,1267,1268,1269,1270,1271,1272,1273,1274,1275,1276,1277,1278,1279,1280,1281,1282,1283,1284,1285,1286,1287,1288,1289,1290,1291,1292,1293,1294,1295,1296,1297,1298,1299,1300,1301,1302,1303,1304,1305,1306,1307,1308,1309,1310,1311,1312,1313,1314,1315,1316,1317,1318,1319,1320,1321,1322,1323,1324,1325,1326,1327,1328,1329,1330,1331,1332,1333,1334,1335,1336,1337,1338,1339,1340,1341,1342,1343,1344,1345,1346,1347,1348,1349,1350,1351,1352,1353,1354,1355,1356,1357,1358,1359,1360,1361,1362,1363,1364,1365,1366,1367,1368,1369,1370,1371,1372,1373,1374,1375,1376,1377,1378,1379,1380,1381,1382,1383,1384,1385,1386,1387,1388,1389,1390,1391,1392,1393,1394,1395,1396,1397,1398,1399,1400,1401,1402,1403,1404,1405,1406,1407,1408,1409,1410,1411,1412,1413,1414,1415,1416,1417,1418,1419,1420,1421,1422,1423,1424,1425,1426,1427,1428,1429,1430,1431,1432,1433,1434,1435,1436,1437,1438,1439,1440,1441,1442,1443,1444,1445,1446,1447,1448,1449,1450,1451,1452,1453,1454,1455,1456,1457,1458,1459,1460,1461,1462,1463,1464,1465,1466,1467,1468,1469,1470,1471,1472,1473,1474,1475,1476,1477,1478,1479,1480,1481,1482,1483,1484,1485,1486,1487,1488,1489,1490,1491,1492,1493,1494,1495,1496,1497,1498,1499,1500,1501,1502,1503,1504,1505,1506,1507,1508,1509,1510,1511,1512,1513,1514,1515,1516,1517,1518,1519,1520,1521,1522,1523,1524,1525,1526,1527,1528,1529,1530,1531,1532,1533,1534,1535,1536,1537,1538,1539,1540,1541,1542,1543,1544,1545,1546,1547,1548,1549,1550,1551,1552,1553,1554,1555,1556,1557,1558,1559,1560,1561,1562,1563,1564,1565,1566,1567,1568,1569,1570,1571,1572,1573,1574,1575,1576,1577,1578,1579,1580,1581,1582,1583,1584,1585,1586,1587,1588,1589,1590,1591,1592,1593,1594,1595,1596,1597,1598,1599,1600,1601,1602,1603,1604,1605,1606,1607,1608,1609,1610,1611,1612,1613,1614,1615,1616,1617,1618,1619,1620,1621,1622,1623,1624,1625,1626,1627,1628,1629,1630,1631,1632,1633,1634,1635,1636,1637,1638,1639,1640,1641,1642,1643,1644,1645,1646,1647,1648,1649,1650,1651,1652,1653,1654,1655,1656,1657,1658,1659,1660,1661,1662,1663,1664,1665,1666,1667,1668,1669,1670,1671,1672,1673,1674,1675,1676,1677,1678,1679,1680,1681,1682,1683,1684,1685,1686,1687,1688,1689,1690,1691,1692,1693,1694,1695,1696,1697,1698,1699,1700,1701,1702,1703,1704,1705,1706,1707,1708,1709,1710,1711,1712,1713,1714,1715,1716,1717,1718,1719,1720,1721,1722,1723,1724,1725,1726,1727,1728,1729,1730,1731,1732,1733,1734,1735,1736,1737,1738,1739,1740,1741,1742,1743,1744,1745,1746,1747,1748,1749,1750,1751,1752,1753,1754,1755,1756,1757,1758,1759,1760,1761,1762,1763,1764,1765,1766,1767,1768,1769,1770,1771,1772,1773,1774,1775,1776,1777,1778,1779,1780,1781,1782,1783,1784,1785,1786,1787,1788,1789,1790,1791,1792,1793,1794,1795,1796,1797,1798,1799,1800,1801,1802,1803,1804,1805,1806,1807,1808,1809,1810,1811,1812,1813,1814,1815,1816,1817,1818,1819,1820,1821,1822,1823,1824,1825,1826,1827,1828,1829,1830,1831,1832,1833,1834,1835,1836,1837,1838,1839,1840,1841,1842,1843,1844,1845,1846,1847,1848,1849,1850,1851,1852,1853,1854,1855,1856,1857,1858,1859,1860,1861,1862,1863,1864,1865,1866,1867,1868,1869,1870,1871,1872,1873,1874,1875,1876,1877,1878,1879,1880,1881,1882,1883,1884,1885,1886,1887,1888,1889,1890,1891,1892,1893,1894,1895,1896,1897,1898,1899,1900,1901,1902,1903,1904,1905,1906,1907,1908,1909,1910,1911,1912,1913,1914,1915,1916,1917,1918,1919,1920,1921,1922,1923,1924,1925,1926,1927,1928,1929,1930,1931,1932,1933,1934,1935,1936,1937,1938,1939,1940,1941,1942,1943,1944,1945,1946,1947,1948,1949,1950,1951,1952,1953,1954,1955,1956,1957,1958,1959,1960,1961,1962,1963,1964,1965,1966,1967,1968,1969,1970,1971,1972,1973,1974,1975,1976,1977,1978,1979,1980,1981,1982,1983,1984,1985,1986,1987,1988,1989,1990,1991,1992,1993,1994,1995,1996,1997,1998,1999,2000,2001,2002,2003,2004,2005,2006,2007,2008,2009,2010,2011,2012,2013,2014,2015,2016,2017,2018,2019,2020,2021,2022,2023,2024,2025,2026,2027,2028,2029,2030,2031,2032,2033,2034,2035,2036,2037,2038,2039,2040,2041,2042,2043,2044,2045,2046,2047,2048,2049,2050,2051,2052,2053,2054,2055,2056,2057,2058,2059,2060,2061,2062,2063,2064,2065,2066,2067,2068,2069,2070,2071,2072,2073,2074,2075,2076,2077,2078,2079,2080,2081,2082,2083,2084,2085,2086,2087,2088,2089,2090,2091,2092,2093,2094,2095,2096,2097,2098,2099,2100,2101,2102,2103,2104,2105,2106,2107,2108,2109,2110,2111,2112,2113,2114,2115,2116,2117,2118,2119,2120,2121,2122,2123,2124,2125,2126,2127,2128,2129,2130,2131,2132,2133,2134,2135,2136,2137,2138,2139,2140,2141,2142,2143,2144,2145,2146,2147,2148,2149,2150,2151,2152,2153,2154,2155,2156,2157,2158,2159,2160,2161,2162,2163,2164,2165,2166,2167,2168,2169,2170,2171,2172,2173,2174,2175,2176,2177,2178,2179,2180,2181,2182,2183,2184,2185,2186,2187,2188,2189,2190,2191,2192,2193,2194,2195,2196,2197,2198,2199,2200,2201,2202,2203,2204,2205,2206,2207,2208,2209,2210,2211,2212,2213,2214,2215,2216,2217,2218,2219,2220,2221,2222,2223,2224,2225,2226,2227,2228,2229,2230,2231,2232,2233,2234,2235,2236,2237,2238,2239,2240,2241,2242,2243,2244,2245,2246,2247,2248,2249,2250,2251,2252,2253,2254,2255,2256,2257,2258,2259,2260,2261,2262,2263,2264,2265,2266,2267,2268,2269,2270,2271,2272,2273,2274,2275,2276,2277,2278,2279,2280,2281,2282,2283,2284,2285,2286,2287,2288,2289,2290,2291,2292,2293,2294,2295,2296,2297,2298,2299,2300,2301,2302,2303,2304,2305,2306,2307,2308,2309,2310,2311,2312,2313,2314,2315,2316,2317,2318,2319,2320,2321,2322,2323,2324,2325,2326,2327,2328,2329,2330,2331,2332,2333,2334,2335,2336,2337,2338,2339,2340,2341,2342,2343,2344,2345,2346,2347,2348,2349,2350,2351,2352,2353,2354,2355,2356,2357,2358,2359,2360,2361,2362,2363,2364,2365,2366,2367,2368,2369,2370,2371,2372,2373,2374,2375,2376,2377,2378,2379,2380,2381,2382,2383,2384,2385,2386,2387,2388,2389,2390,2391,2392,2393,2394,2395,2396,2397,2398,2399,2400,2401,2402,2403,2404,2405,2406,2407,2408,2409,2410,2411,2412,2413,2414,2415,2416,2417,2418,2419,2420,2421,2422,2423,2424,2425,2426,2427,2428,2429,2430,2431,2432,2433,2434,2435,2436,2437,2438,2439,2440,2441,2442,2443,2444,2445,2446,2447,2448,2449,2450,2451,2452,2453,2454,2455,2456,2457,2458,2459,2460,2461,2462,2463,2464,2465,2466,2467,2468,2469,2470,2471,2472,2473,2474,2475,2476,2477,2478,2479,2480,2481,2482,2483,2484,2485,2486,2487,2488,2489,2490,2491,2492,2493,2494,2495,2496,2497,2498,2499,2500,2501,2502,2503,2504,2505,2506,2507,2508,2509,2510,2511,2512,2513,2514,2515,2516,2517,2518,2519,2520,2521,2522,2523,2524,2525,2526,2527,2528,2529,2530,2531,2532,2533,2534,2535,2536,2537,2538,2539,2540,2541,2542,2543,2544,2545,2546,2547,2548,2549,2550,2551,2552,2553,2554,2555,2556,2557,2558,2559,2560,2561,2562,2563,2564,2565,2566,2567,2568,2569,2570,2571,2572,2573,2574,2575,2576,2577,2578,2579,2580,2581,2582,2583,2584,2585,2586,2587,2588,2589,2590,2591,2592,2593,2594,2595,2596,2597,2598,2599,2600,2601,2602,2603,2604,2605,2606,2607,2608,2609,2610,2611,2612,2613,2614,2615,2616,2617,2618,2619,2620,2621,2622,2623,2624,2625,2626,2627,2628,2629,2630,2631,2632,2633,2634,2635,2636,2637,2638,2639,2640,2641,2642,2643,2644,2645,2646,2647,2648,2649,2650,2651,2652,2653,2654,2655,2656,2657,2658,2659,2660,2661,2662,2663,2664,2665,2666,2667,2668,2669,2670,2671,2672,2673,2674,2675,2676,2677,2678,2679,2680,2681,2682,2683,2684,2685,2686,2687,2688,2689,2690,2691,2692,2693,2694,2695,2696,2697,2698,2699,2700,2701,2702,2703,2704,2705,2706,2707,2708,2709,2710,2711,2712,2713,2714,2715,2716,2717,2718,2719,2720,2721,2722,2723,2724,2725,2726,2727,2728,2729,2730,2731,2732,2733,2734,2735,2736,2737,2738,2739,2740,2741,2742,2743,2744,2745,2746,2747,2748,2749,2750,2751,2752,2753,2754,2755,2756,2757,2758,2759,2760,2761,2762,2763,2764,2765,2766,2767,2768,2769,2770,2771,2772,2773,2774,2775,2776,2777,2778,2779,2780,2781,2782,2783,2784,2785,2786,2787,2788,2789,2790,2791,2792,2793,2794,2795,2796,2797,2798,2799,2800,2801,2802,2803,2804,2805,2806,2807,2808,2809,2810,2811,2812,2813,2814,2815,2816,2817,2818,2819,2820,2821,2822,2823,2824,2825,2826,2827,2828,2829,2830,2831,2832,2833,2834,2835,2836,2837,2838,2839,2840,2841,2842,2843,2844,2845,2846,2847,2848,2849,2850,2851,2852,2853,2854,2855,2856,2857,2858,2859,2860,2861,2862,2863,2864,2865,2866,2867,2868,2869,2870,2871,2872,2873,2874,2875,2876,2877,2878,2879,2880,2881,2882,2883,2884,2885,2886,2887,2888,2889,2890,2891,2892,2893,2894,2895,2896,2897,2898,2899,2900,2901,2902,2903,2904,2905,2906,2907,2908,2909,2910,2911,2912,2913,2914,2915,2916,2917,2918,2919,2920,2921,2922,2923,2924,2925,2926,2927,2928,2929,2930,2931,2932,2933,2934,2935,2936,2937,2938,2939,2940,2941,2942,2943,2944,2945,2946,2947,2948,2949,2950,2951,2952,2953,2954,2955,2956,2957,2958,2959,2960,2961,2962,2963,2964,2965,2966,2967,2968,2969,2970,2971,2972,2973,2974,2975,2976,2977,2978,2979,2980,2981,2982,2983,2984,2985,2986,2987,2988,2989,2990,2991,2992,2993,2994,2995,2996,2997,2998,2999,3000,3001,3002,3003,3004,3005,3006,3007,3008,3009,3010,3011,3012,3013,3014,3015,3016,3017,3018,3019,3020,3021,3022,3023,3024,3025,3026,3027,3028,3029,3030,3031,3032,3033,3034,3035,3036,3037,3038,3039,3040,3041,3042,3043,3044,3045,3046,3047,3048,3049,3050,3051,3052,3053,3054,3055,3056,3057,3058,3059,3060,3061,3062,3063,3064,3065,3066,3067,3068,3069,3070,3071,3072,3073,3074,3075,3076,3077,3078,3079,3080,3081,3082,3083,3084,3085,3086,3087,3088,3089,3090,3091,3092,3093,3094,3095,3096,3097,3098,3099,3100,3101,3102,3103,3104,3105,3106,3107,3108,3109,3110,3111,3112,3113,3114,3115,3116,3117,3118,3119,3120,3121,3122,3123,3124,3125,3126,3127,3128,3129,3130,3131,3132,3133,3134,3135,3136,3137,3138,3139,3140,3141,3142,3143,3144,3145,3146,3147,3148,3149,3150,3151,3152,3153,3154,3155,3156,3157,3158,3159,3160,3161,3162,3163,3164,3165,3166,3167,3168,3169,3170,3171,3172,3173,3174,3175,3176,3177,3178,3179,3180,3181,3182,3183,3184,3185,3186,3187,3188,3189,3190,3191,3192,3193,3194,3195,3196,3197,3198,3199,3200,3201,3202,3203,3204,3205,3206,3207,3208,3209,3210,3211,3212,3213,3214,3215,3216,3217,3218,3219,3220,3221,3222,3223,3224,3225,3226,3227,3228,3229,3230,3231,3232,3233,3234,3235,3236,3237,3238,3239,3240,3241,3242,3243,3244,3245,3246,3247,3248,3249,3250,3251,3252,3253,3254,3255,3256,3257,3258,3259,3260,3261,3262,3263,3264,3265,3266,3267,3268,3269,3270,3271,3272,3273,3274,3275,3276,3277,3278,3279,3280,3281,3282,3283,3284,3285,3286,3287,3288,3289,3290,3291,3292,3293,3294,3295,3296,3297,3298,3299,3300,3301,3302,3303,3304,3305,3306,3307,3308,3309,3310,3311,3312,3313,3314,3315,3316,3317,3318,3319,3320,3321,3322,3323,3324,3325,3326,3327,3328,3329,3330,3331,3332,3333,3334,3335,3336,3337,3338,3339,3340,3341,3342,3343,3344,3345,3346,3347,3348,3349,3350,3351,3352,3353,3354,3355,3356,3357,3358,3359,3360,3361,3362,3363,3364,3365,3366,3367,3368,3369,3370,3371,3372,3373,3374,3375,3376,3377,3378,3379,3380,3381,3382,3383,3384,3385,3386,3387,3388,3389,3390,3391,3392,3393,3394,3395,3396,3397,3398,3399,3400,3401,3402,3403,3404,3405,3406,3407,3408,3409,3410,3411,3412,3413,3414,3415,3416,3417,3418,3419,3420,3421,3422,3423,3424,3425,3426,3427,3428,3429,3430,3431,3432,3433,3434,3435,3436,3437,3438,3439,3440,3441,3442,3443,3444,3445,3446,3447,3448,3449,3450,3451,3452,3453,3454,3455,3456,3457,3458,3459,3460,3461,3462,3463,3464,3465,3466,3467,3468,3469,3470,3471,3472,3473,3474,3475,3476,3477,3478,3479,3480,3481,3482,3483,3484,3485,3486,3487,3488,3489,3490,3491,3492,3493,3494,3495,3496,3497,3498,3499,3500,3501,3502,3503,3504,3505,3506,3507,3508,3509,3510,3511,3512,3513,3514,3515,3516,3517,3518,3519,3520,3521,3522,3523,3524,3525,3526,3527,3528,3529,3530,3531,3532,3533,3534,3535,3536,3537,3538,3539,3540,3541,3542,3543,3544,3545,3546,3547,3548,3549,3550,3551,3552,3553,3554,3555,3556,3557,3558,3559,3560,3561,3562,3563,3564,3565,3566,3567,3568,3569,3570,3571,3572,3573,3574,3575,3576,3577,3578,3579,3580,3581,3582,3583,3584,3585,3586,3587,3588,3589,3590,3591,3592,3593,3594,3595,3596,3597,3598,3599,3600,3601,3602,3603,3604,3605,3606,3607,3608,3609,3610,3611,3612,3613,3614,3615,3616,3617,3618,3619,3620,3621,3622,3623,3624,3625,3626,3627,3628,3629,3630,3631,3632,3633,3634,3635,3636,3637,3638,3639,3640,3641,3642,3643,3644,3645,3646,3647,3648,3649,3650,3651,3652,3653,3654,3655,3656,3657,3658,3659,3660,3661,3662,3663,3664,3665,3666,3667,3668,3669,3670,3671,3672,3673,3674,3675,3676,3677,3678,3679,3680,3681,3682,3683,3684,3685,3686,3687,3688,3689,3690,3691,3692,3693,3694,3695,3696,3697,3698,3699,3700,3701,3702,3703,3704,3705,3706,3707,3708,3709,3710,3711,3712,3713,3714,3715,3716,3717,3718,3719,3720,3721,3722,3723,3724,3725,3726,3727,3728,3729,3730,3731,3732,3733,3734,3735,3736,3737,3738,3739,3740,3741,3742,3743,3744,3745,3746,3747,3748,3749,3750,3751,3752,3753,3754,3755,3756,3757,3758,3759,3760,3761,3762,3763,3764,3765,3766,3767,3768,3769,3770,3771,3772,3773,3774,3775,3776,3777,3778,3779,3780,3781,3782,3783,3784,3785,3786,3787,3788,3789,3790,3791,3792,3793,3794,3795,3796,3797,3798,3799,3800,3801,3802,3803,3804,3805,3806,3807,3808,3809,3810,3811,3812,3813,3814,3815,3816,3817,3818,3819,3820,3821,3822,3823,3824,3825,3826,3827,3828,3829,3830,3831,3832,3833,3834,3835,3836,3837,3838,3839,3840,3841,3842,3843,3844,3845,3846,3847,3848,3849,3850,3851,3852,3853,3854,3855,3856,3857,3858,3859,3860,3861,3862,3863,3864,3865,3866,3867,3868,3869,3870,3871,3872,3873,3874,3875,3876,3877,3878,3879,3880,3881,3882,3883,3884,3885,3886,3887,3888,3889,3890,3891,3892,3893,3894,3895,3896,3897,3898,3899,3900,3901,3902,3903,3904,3905,3906,3907,3908,3909,3910,3911,3912,3913,3914,3915,3916,3917,3918,3919,3920,3921,3922,3923,3924,3925,3926,3927,3928,3929,3930,3931,3932,3933,3934,3935,3936,3937,3938,3939,3940,3941,3942,3943,3944,3945,3946,3947,3948,3949,3950,3951,3952,3953,3954,3955,3956,3957,3958,3959,3960,3961,3962,3963,3964,3965,3966,3967,3968,3969,3970,3971,3972,3973,3974,3975,3976,3977,3978,3979,3980,3981,3982,3983,3984,3985,3986,3987,3988,3989,3990,3991,3992,3993,3994,3995,3996,3997,3998,3999],\"y\":[5.3079134446619225,5.30415288990507,5.3004498804924625,5.2968002960026705,5.293199659754189,5.289643036854168,5.286125230682454,5.28264095131535,5.279184923562622,5.275751879131289,5.2723364812682165,5.268933277240696,5.265536676906168,5.262140988989637,5.258740457886342,5.255329328754921,5.251901902325853,5.248452581639049,5.244975904302013,5.241466555043081,5.237919367359103,5.234329325447684,5.230691546488987,5.2270012808963635,5.223253895955982,5.219444873196694,5.215569803004865,5.211624372382635,5.207604344125782,5.203505544519175,5.199323835143228,5.195055099945508,5.1906952527273145,5.186240216099588,5.181685926064787,5.177028327155984,5.172263365694805,5.167386989951025,5.162395131884587,5.157283702807207,5.152048584608344,5.146685631848637,5.141190661681257,5.13555945884153,5.129787760175212,5.123871251326103,5.117805558041135,5.111586234829922,5.105208764074042,5.098668542634863,5.091960901959328,5.085081112458254,5.0780243737660475,5.07078583005262,5.063360569290168,5.055743625271606,5.047929988397896,5.039914611267114,5.031692425912392,5.023258323875502,5.014607195039299,5.00573397793565,4.996633689814428,4.987301487773844,4.977732644393408,4.9679225925672,4.957866916177102,4.94756127339683,4.9370013481558725,4.926182735848814,4.915100778758615,4.903750494877447,4.892126340699688,4.880222011908283,4.8680302444843475,4.855542754028701,4.842750262821612,4.829642526435392,4.816208327477888,4.8024354746479725,4.788310765918809,4.773820038205916,4.758948108258096,4.743678801950356,4.727994851088706,4.711877861644063,4.695308283416303,4.678265459756214,4.660727724740394,4.642672551243957,4.624076671010908,4.604916228162989,4.585166893481448,4.564803901652691,4.543802178316223,4.522136508436063,4.499781616628327,4.476712490562466,4.452904536163846,4.428333929353126,4.402977924066611,4.376815378069827,4.349827071509332,4.321996280412378,4.29330916570989,4.263755229675604,4.233327928538162,4.202024943431336,4.169848582260325,4.136806168813271,4.102910216502578,4.0681789527487435,4.032636380914795,3.9963125962398673,3.959243659120609,3.92147137852325,3.8830427431070706,3.844009458439794,3.8044269740906977,3.7643537542271996,3.7238501350601245,3.6829774626414085,3.6417969065130613,3.6003683278798215,3.558749316773251,3.5169943495214206,3.475153843471969,3.433273809617312,3.391395547914985,3.3495555052082366,3.3077854585930826,3.266112698971293,3.224560447787826,3.183148274915765,3.1418925110967857,3.1008068741708494,3.0599028490372593,3.019190194150344,2.9786772794660727,2.938371573321235,2.898279769656324,2.8584080269753254,2.818762275326579,2.779348165499274,2.7401711640955146,2.701236635860034,2.662549796011589,2.624115673917063,2.585939309064951,2.548025678185939,2.51037959899167,2.473005994751968,2.435909818417366,2.3990961568110953,2.3625701332385844,2.3263371299229276,2.29040263918863,2.2547723123508034,2.2194519697993083,2.1844475121801317,2.1497649728910084,2.11541044437784,2.081390055423392,2.0477098474004367,2.014375649925732,1.9813930558751995,1.948767144047652,1.9165024476742356,1.8846027379420793,1.8530710472498726,1.8219095053995498,1.7911193781103294,1.7607011706599582,1.7306545720696318,1.700978720301056,1.6716723297280278,1.6427337037101661,1.6141610264887882,1.5859525355318451,1.558106381830975,1.5306209568657714,1.503494709832727,1.4767263229204708,1.4503146138639544,1.4242585391480311,1.3985571549721292,1.3732096206378868,1.3482152010027473,1.3235732153400481,1.2992830998037175,1.2753443649226215,1.2517566338594028,1.2285196185351768,1.2056331691236242,1.183097135001557,1.1609115130457561,1.139076206556752,1.1175911668907765,1.0964562859598728,1.07567135554174,1.0552361521768059,1.035150213489497,1.0154131026940114,0.9960241942979098,0.9769827292378188,0.9582878257229445,0.9399384211596528,0.9219332020542114,0.9042707200589368,0.8869492307323927,0.8699667077935558,0.8533208773102265,0.8370092068745227,0.8210289067589659,0.8053768910373863,0.7900499443818303,0.7750446034155997,0.760357253585589,0.7459841059754349,0.7319212478192508,0.7181646498500891,0.7047101167691125,0.6915533960359215,0.6786900664377048,0.6661155872031854,0.6538252689268782,0.6418142575170587,0.6300775654953413,0.6186099816794438,0.6074061268884522,0.5964605187480642,0.5857674879591318,0.5753213367585607,0.5651162639105489,0.5551464203877295,0.5454061662725744,0.535889757832985,0.5265917734853295,0.5175069090355745,0.5086300031133117,0.4999562551605061,0.49148097814088176,0.4831997251500442,0.4751081532521961,0.46720205414867966,0.4594772592597814,0.45192965466594287,0.44455503493527143,0.437349203507848,0.4303079172422489,0.4234269237015603,0.41670188063087715,0.4101285079919928,0.4037026120919495,0.397420012009883,0.3912766681612925,0.38526866427351564,0.37939227152535926,0.37364387042771535,0.36801996792977565,0.3625172689109827,0.35713251080810654,0.3518625912985405,0.3467043903374389,0.34165494960564075,0.33671123448369655,0.33187033400874305,0.327129333435861,0.322485348681506,0.31793560381146946,0.3134772442728096,0.3091076612500774,0.3048242221232048,0.30062440946783014,0.2965058651236768,0.2924663029779913,0.28850359019182864,0.2846156959307288,0.2808007454271369,0.27705695374722644,0.27338263938429214,0.2697761978566882,0.2662361318250421,0.2627608875075462,0.2593490178081843,0.25599909725476605,0.25270965941010537,0.2494792818025827,0.2463065428172988,0.24319004161857272,0.2401283985918957,0.23712027277298023,0.23416436039662103,0.23125937701534882,0.22840406130492164,0.22559728312503183,0.2228378288239449,0.22012460789952334,0.21745654534624095,0.21483256608981527,0.21225169956642273,0.20971293897730908,0.20721538342141152,0.2047581035210222,0.20234020322942192,0.19996082743940116,0.19761910343855227,0.1953141891443397,0.19304528702711277,0.19081165844260892,0.18861257188084785,0.18644735303186497,0.18431533227359082,0.18221587237680353,0.18014834778855382,0.17811210130824184,0.17610653182186362,0.17413095754083424,0.17218476412850356,0.17026735344715463,0.16837808724174239,0.16651643190346094,0.164681846341827,0.16287378045676273,0.1610917394329443,0.15933523820651993,0.15760376287454994,0.15589686334028888,0.15421403938574946,0.1525548295788622,0.15091880160503257,0.1493054990282729,0.14771452686417127,0.1461454148032415,0.14459778269231321,0.14307122232814196,0.1415653567784596,0.1400798297465596,0.13861424898640756,0.1371682885992916,0.13574161367295168,0.13433389835484144,0.132944825439626,0.13157405363373056,0.13022135285167394,0.12888636775625362,0.12756880423846817,0.12626835517206386,0.12498470912969674,0.12371757253718019,0.12246668482557357,0.12123174235252537,0.1200125258180307,0.11880876315301081,0.1176202535377497,0.1164467229401671,0.11528792572189425,0.1141435905078659,0.11301352105108209,0.11189745108564364,0.11079515017467131,0.10970639877321264,0.10863098532705803,0.10756872253346601,0.10651941188329699,0.10548280359554257,0.104458714920968,0.10344695229180824,0.1024473456511067,0.1014596781664539,0.10048377486576276,0.09951942844961612,0.09856647846140834,0.09762472572729343,0.09669398097855703,0.09577407230345833,0.09486485587506471,0.09396612398174388,0.09307771705325622,0.09219949623614017,0.09133130171579931,0.0904730041189657,0.08962441323174021,0.08878542382268421,0.08795585581081462,0.08713557961125724,0.08632447506439704,0.08552235677789873,0.0847291581019238,0.08394471381568974,0.08316889510188076,0.08240159201761275,0.08164263897534857,0.08089195931649511,0.08014942289062559,0.07941493923807809,0.07868839194061854,0.07796964244200547,0.07725862504494362,0.07655519535368592,0.0758592472087193,0.07517071143127231,0.07448947492048276,0.07381542856168444,0.07314848229685555,0.07248853527989027,0.07183548437469485,0.07118928310170176,0.07054979838299504,0.06991695783984517,0.069290645910384,0.06867083120272938,0.06805741631058694,0.06745030716527513,0.0668494294582653,0.0662547042510634,0.06566605039477204,0.06508337946352365,0.06450667768862416,0.06393579942551413,0.06337072644745628,0.06281138014782582,0.062257706508358795,0.06170958276568267,0.06116702395235533,0.06062991781328868,0.06009824620154306,0.059571885342147676,0.05905083345587605,0.05853501815252617,0.05802440917805891,0.05751892686824074,0.0570185089660967,0.056523113890128235,0.05603274752878536,0.05554727224877399,0.05506671055609914,0.05459098656788298,0.05412009958515398,0.053653938857482215,0.05319247661708477,0.05273571724688872,0.05228360835723868,0.05183608570079031,0.05139314475609175,0.05095471885898077,0.05052070310099938,0.050091138511205044,0.049665997399267546,0.049245160901623675,0.048828682518443654,0.048416457658751015,0.04800848152362836,0.04760464766167301,0.047204976777950165,0.046809404668271506,0.046417851324342785,0.046030300401475495,0.04564675803615597,0.045267089939787536,0.0448912949194533,0.0445193171973819,0.044151087830946595,0.04378659403836702,0.04342577802285363,0.04306859226920602,0.04271498683014477,0.04236491831234163,0.0420183704977115,0.0416752516715589,0.0413355587296929,0.04099922969559832,0.040666236956615316,0.04033654649855711,0.04001009788340538,0.039686862117155955,0.03936680691684038,0.039049924844633196,0.03873618130350982,0.03842546893500297,0.03811777889010336,0.03781312991653291,0.037511503685457186,0.03721282764986895,0.03691707092508784,0.03662418098709567,0.036334185471605614,0.03604699757130425,0.03576269101037366,0.03548108594107109,0.035202241398473486,0.03492610470208601,0.034652703092268075,0.0343818944905676,0.03411380775827222,0.033848276877087385,0.03358531204838383,0.03332490517289468,0.03306697309737169,0.032811597027594175,0.032558631629622393,0.03230814336129298,0.03206003857789415,0.03181424306282169,0.03157085297842974,0.031329776835019085,0.031091028945321564,0.03085444105279709,0.030620301268817943,0.030388037272752074,0.030158483993542276,0.02993020905449496,0.02970561709120563,0.02948043819247247,0.029262338651513533,0.029037124974946794,0.02883138658195406,0.028596652812832937,0.028417323404867464,0.028166945549822447,0.027996673767656702,0.027769928410164346,0.02756135186403175,0.027381787066696268,0.02715887066351925,0.02696930287984254,0.026779834825078806,0.026568588607753407,0.026392543598615825,0.02620158532257733,0.026000524506077434,0.02582714958316789,0.025636977828258745,0.025448012154007403,0.025276568635727022,0.025087099936023833,0.024911878742102926,0.02474959156402399,0.024560514409886585,0.02438910204973351,0.02422897338615283,0.02404655428421037,0.02388584515760469,0.02372466774302729,0.02355051463375223,0.023394537034829816,0.023231636300192014,0.023072452422873722,0.02291419265066799,0.022755263742582525,0.0226085990147319,0.022446717783801275,0.02229611802864307,0.022151183709544817,0.02199432407160088,0.02185367830237,0.021704828441846652,0.02155452417604743,0.021420285244515752,0.02126964276475727,0.021134685861090935,0.020992679470371717,0.020854328582663256,0.020718694533024364,0.02058143591650021,0.020449035106044577,0.02031523479311526,0.020182451736608643,0.020057803293796386,0.019917117467961317,0.01980792938241454,0.01965780410081824,0.0195586456580753,0.019410508220152906,0.019304010726566012,0.01917544000190985,0.019059305921443417,0.018945107346149393,0.018827641916486622,0.01870689979496082,0.018595917518484485,0.018471773516982863,0.018363944408301372,0.018253019430338902,0.01814572739003089,0.018037736021263216,0.017930168704047247,0.017822487656724704,0.017715160595218344,0.017615482022881452,0.017503322490799438,0.0174150984152995,0.017295529158772492,0.017217806126911882,0.01710158701705331,0.017022704148891524,0.016911596892212933,0.01682765890547776,0.016719704045091432,0.016637005330959163,0.016541677077114507,0.01644572396421124,0.016368059752594394,0.01625787005372779,0.016187487246357844,0.01609829297536583,0.01600767539679376,0.01593593935989109,0.015830156016807675,0.015761372836085346,0.01567495144305155,0.01558750398258966,0.015525095283820577,0.015422643095319474,0.015356277759319987,0.01527899251149167,0.01519028177073285,0.015132131389924716,0.015038959990154543,0.014972411110396829,0.014898046474897106,0.01481852644878963,0.014755215577540295,0.014673600329812391,0.014609917870863135,0.014533484583552464,0.01446864197982022,0.014398197045862421,0.01432982532987458,0.014261961624432619,0.014192546556076935,0.014128894440520866,0.01406054270383778,0.013999107453332094,0.013930457867051011,0.01387362416434085,0.013800407792037483,0.013749199772508741,0.013676010751263474,0.01362715185029079,0.013552664069784358,0.013506844543910941,0.013432070745328302,0.01339138058212589,0.01331950723408781,0.013274451918848936,0.013212491041249955,0.013151569480166799,0.013108608585396059,0.013032693860766302,0.013000108309949476,0.012931325078461575,0.01288131254426602,0.01283964270895417,0.01276946890532033,0.012728256893760845,0.012670309181197117,0.012625999195766516,0.012581604728027307,0.012516853163439654,0.012481677177410977,0.012426238311993763,0.012376428594809656,0.012334567479704838,0.01227700985751246,0.01223897884094644,0.01218754304507165,0.012143699933225484,0.012102134314630057,0.012044837717197972,0.012009265918372243,0.011962421536405886,0.011917055260792092,0.011878831077546234,0.011825074008001146,0.011787868131987938,0.011744405925947157,0.011699296302835413,0.01166560536389343,0.011614070736640529,0.011578949576112297,0.011537319621064393,0.011490523115947643,0.011458150918316213,0.011409819889209905,0.011377437151229226,0.011336072503731014,0.011296045799738008,0.01126089479664704,0.01121573165129853,0.011184133653222421,0.011142463879580925,0.011104979080849805,0.011071509523621664,0.011028800484252824,0.010999728506383186,0.010957577510487489,0.01092398242432076,0.010891936755466737,0.010847970769715599,0.010826971184498942,0.010774756255732428,0.010760735122123591,0.010707279795737256,0.010694685412141997,0.010643982134342323,0.010624304323752855,0.010584004297141106,0.010546682923784313,0.010527301304032175,0.010473765328748741,0.010472477984468789,0.01041586858399439,0.0104040514143955,0.010360409315115704,0.010328080542848443,0.01031098114324217,0.01026111658784102,0.010262788606864191,0.01019992984129952,0.010194209556687539,0.010154011599978504,0.010121423844962894,0.010110379713533974,0.010058652202302006,0.010056576710904081,0.01000736005609272,0.00999289290430535,0.009960580913104887,0.009929319697509851,0.009914845248506816,0.009873987486993384,0.009864882751277136,0.009821507170973466,0.00980571941966063,0.009776735643633495,0.00974854167653997,0.009733089539785886,0.009696804150150791,0.00968354815818725,0.00964717021784337,0.009631172491139466,0.009602944252976014,0.009580699913539907,0.00956143449422809,0.009532159516434319,0.009517494452833014,0.00948826973202634,0.00947003870153857,0.009444024826098898,0.009418742701238337,0.0094042171138954,0.00937080717500614,0.009366243313297542,0.009338695017605057,0.00931359358090341,0.009297672370573724,0.009268319498945032,0.009253487095483194,0.009235059193346716,0.009216631259654225,0.009194981453475385,0.009167547104388553,0.009158142324140542,0.00913115670805935,0.009114651098252864,0.009099554705063004,0.009078277299307883,0.00906330099989091,0.009036887459960166,0.00901681722144062,0.009003176233848019,0.008985976643819891,0.008965953348975516,0.008947804955985461,0.008933314537227836,0.00891122564349664,0.008892076718043523,0.00887866011703162,0.008854589559039174,0.00884758503021339,0.008822167528261562,0.008815184414026067,0.008786079692076513,0.008775887053352693,0.008758459099741782,0.008746994693431228,0.008716448950588752,0.008721530510198802,0.008680405753893637,0.008692265827314081,0.00865235213340581,0.008646799731622523,0.008631090114890537,0.008607820859988591,0.008608347924736552,0.008573283169313918,0.008574027698037027,0.008547395348524828,0.008534682614163356,0.008527235750295478,0.00850382849541222,0.0084975240767819,0.008477610839832514,0.00846282359521636,0.008446999478048839,0.008437713195434566,0.008419816613709222,0.008405712400347973,0.008395997616362888,0.008373751625721413,0.00836545077617058,0.008350741192563562,0.008335203308906443,0.00832810252913008,0.008306142465816516,0.00830000396894322,0.008278546634883437,0.008271275564810488,0.00825428678892843,0.008242769498764829,0.008230870206602826,0.008212807412011245,0.008206923216993756,0.008186599726164865,0.008179363032791601,0.008162518933631251,0.008151810166232985,0.008139296357377713,0.008126899639749387,0.008112799006024426,0.00810358801080657,0.008086491862057486,0.008082550738862876,0.008058014842349344,0.008065961906874123,0.008028713649852932,0.008051116598349808,0.00800724453034071,0.008017757214495382,0.007997606300367945,0.007977043627549842,0.007989063296908102,0.007950290459017625,0.007961444692335055,0.007943273481458334,0.007924251710776794,0.007932502230876085,0.007897491061005646,0.00790226986479063,0.007894273915948366,0.007871892904398011,0.00787948930229042,0.007853029002940519,0.007843696775154346,0.007843141222327054,0.007821905692895845,0.007819631983170854,0.007804254063874286,0.007792483833382214,0.007794995359315358,0.007773202721643009,0.007765905363364716,0.007759560373717461,0.007742522886442872,0.007743022797414406,0.007725703842338357,0.007717412408284725,0.007711137884856546,0.00769711166230195,0.007694668515470298,0.007678246882223488,0.007669631167298302,0.007659547897019504,0.007649755555714375,0.007645631041279911,0.007633123188635383,0.007625081847171009,0.0076146185981363496,0.00760506590933375,0.007600572849456974,0.007584453467320441,0.007579061637379894,0.0075694009251760265,0.007562417618567133,0.0075541804259660035,0.007541141723162264,0.007534248815073648,0.007527124951139966,0.007517241043250527,0.007512040376583194,0.0074948041909955465,0.007498320991550321,0.007476433306888172,0.007483093981049616,0.00746136694148853,0.007452501304741125,0.0074655592408769825,0.007421693462452394,0.007446767603546397,0.007421142258790176,0.0074204128348442,0.007420423729451212,0.00738668096852774,0.00740574005284085,0.007376571168692636,0.007383677569526798,0.0073769926095487645,0.00735160004764966,0.007366848411651234,0.0073371197332507574,0.0073432713055372615,0.007333882045717214,0.007320932948771558,0.007327729425066269,0.007304747043477443,0.007309324003341415,0.007293962934556808,0.007284033439426181,0.0072879983659795925,0.007267961959681646,0.00727288809991244,0.007260302621504385,0.007251471192141873,0.007249231763124146,0.007230764591600698,0.007236795015663268,0.007221471450572532,0.007220915745653588,0.007208910963973898,0.0072039174685455554,0.0071957137846929775,0.007191691637708696,0.007182412889850003,0.007178687602331978,0.007164927041688778,0.007169132835113149,0.00714808184559976,0.0071646820445545175,0.007128351611941057,0.007158469028371284,0.007113890243020652,0.007144950724451352,0.007106642005585457,0.007122574451469115,0.00710329044729477,0.007096811102163782,0.0071036043694131775,0.007076695732540779,0.007094084820244967,0.00707227643612716,0.007070212666993569,0.007072276706756847,0.007045947820949037,0.00706961515298976,0.007036467740398261,0.00705426959675266,0.007034004704817706,0.007026507737878366,0.007034019136186887,0.007010893027023416,0.007027543863492309,0.006999332464594426,0.007012278783246639,0.007000054802396219,0.006985304244261178,0.006998316918091341,0.006972882002185509,0.006982192697349876,0.006974647271858153,0.00696193879235145,0.0069707403402091694,0.006947006900943722,0.00695848469874339,0.0069456366900704555,0.00693938803271806,0.006942157338896612,0.0069273542474677565,0.006933476025506491,0.006913829414693687,0.006920453154257317,0.006911252049381256,0.006905228963770407,0.0069064904455785675,0.006893484935289065,0.006899065045951109,0.0068831394522285705,0.0068849612271536555,0.006878874972464617,0.0068714605994685965,0.006874588526378391,0.00685962961642482,0.006867327508341923,0.0068504729101630775,0.0068566717223969295,0.006845015431009975,0.006846582285748804,0.006836346201501562,0.006839244218425732,0.006822359713144308,0.006828076606638773,0.006821102543622811,0.006817707589583888,0.00681753630814319,0.0068098234637505774,0.006806449688550134,0.006796205047491255,0.006798542845962737,0.006789620750489519,0.006794237580053599,0.006789513801181987,0.006780573925713389,0.006782588326039803,0.006765763733251233,0.006774828394251536,0.006760390845567166,0.006767169697146684,0.006756831752685167,0.00675424921155164,0.006753481142916156,0.006744256312120618,0.006745390569241326,0.006737421897071444,0.006732355797495272,0.006736990002889449,0.006720927184184893,0.006736478058115744,0.006712882119557479,0.006732316608747103,0.00670665121528399,0.0067181780045455575,0.006701941458794369,0.006699672698160951,0.006706054548933982,0.006688916282964174,0.006703336075339234,0.006683850849087053,0.006692126580971838,0.006679357552422415,0.006678778167502582,0.00668058934195629,0.006669800113748858,0.006676351682346841,0.006661382616135539,0.006670837542465883,0.006651487951353611,0.006665921640086244,0.0066441096199154085,0.006657081920760987,0.006645954809174388,0.006646693920645502,0.006645802805508235,0.006636291949028864,0.006635019939951621,0.006634899035749233,0.006621880630052988,0.006639916441852522,0.006609502439571101,0.0066434158439133755,0.006601663298529896,0.006633800306685009,0.0065970130964562385,0.0066220198491096765,0.006599598493921114,0.006608283234857731,0.00660895196807157,0.006588671633136607,0.006608902735730824,0.006581465476672113,0.0065952547630186735,0.006586969407259462,0.006580361906983467,0.006592433112642093,0.006570067386768729,0.0065888734718519415,0.00656742726589086,0.0065763821617627295,0.006571247844484025,0.0065657823510936394,0.006574625300025954,0.006560973369095334,0.006563114624839901,0.006556880405825279,0.006551617318389725,0.006554316623542654,0.0065454968352479555,0.006551543367979424,0.006539529637941794,0.006544944492709151,0.006538157577723753,0.006533952856601174,0.006540242801446207,0.006528322974597259,0.006535058781056635,0.006527360085307453,0.006523487039150698,0.006527482937442237,0.006508276882287929,0.0065323644827621164,0.006501027415789311,0.006532583899927963,0.006498653976886039,0.006522496739347821,0.006501535549810985,0.0065070521908974525,0.006502356071228224,0.006500243727780046,0.006502540973889007,0.006491777114754521,0.006498213203996467,0.0064895031969336055,0.006488647080707191,0.006491720362257001,0.0064817460457779605,0.006493420610685297,0.006476483337783167,0.006489568815430639,0.006474283460863271,0.006475386500084548,0.006480757835923134,0.006467569215737797,0.006474526242851859,0.006467490200131084,0.006470110974159588,0.006464536804187337,0.006461687974604641,0.0064581958952720075,0.00646238628699075,0.006455913009461614,0.006453009955767038,0.006453591970040688,0.006450529760039523,0.006448898080622092,0.006452891433821369,0.006441340745914955,0.006452958933223531,0.0064331742864604585,0.006450344462177421,0.006427194863147343,0.006446780695871123,0.006425599309646499,0.006444540496920629,0.0064210290977704705,0.0064413913636779795,0.0064137453135222735,0.0064434839599647005,0.006409691086727516,0.006444723773564614,0.006400603253550287,0.006435221506599877,0.006405676407588152,0.006415020051439742,0.0064296912267973105,0.006398139663343934,0.006443468869114769,0.006391371985426034,0.006416489543306853,0.006409603359866639,0.006380058495961384,0.006426184804662196,0.00638826743252059,0.00641280991980281,0.006404994361447887,0.006382321913760172,0.006410012691767524,0.0063680978507753404,0.006400852184351172,0.00638853170298356,0.006391018126387089,0.006407231067931166,0.006371325675949349,0.006391830093569061,0.0063713746582849074,0.006379526074799328,0.006385013885069086,0.006379064975263864,0.006391809866906213,0.0063707590430001956,0.0063735230592758575,0.006369925455898212,0.006363309493126853,0.0063799656668074,0.006362971653569236,0.006378047993996503,0.006362932967650869,0.0063658877758721154,0.006357196966324392,0.006360927579560166,0.006355535622492324,0.006372277652859777,0.006349939337555107,0.006370467246784934,0.006345263602862945,0.00636071899133697,0.006348314145704199,0.006351539387700737,0.006358319835396436,0.006342173845462009,0.006355556455235572,0.00633876078662259,0.00634621205379648,0.006342847281691578,0.006340265565782377,0.00634406342760289,0.006344178532625784,0.006334881307303307,0.006336988720674784,0.0063313975400836765,0.006338593561028022,0.006335780301861361,0.006331161638409821,0.0063373465413931246,0.006323848745962957,0.006336396293205862,0.006320646048646906,0.006330167173660468,0.006323308175384749,0.00632392652397241,0.0063242623736582,0.006318328539301945,0.006322962512485793,0.006316915809797232,0.006318637273500674,0.006313837822737316,0.00631610923503446,0.006310762889477946,0.006309872840410556,0.006301938847751313,0.006313083456397753,0.0062938383415736465,0.006316960353673599,0.006296733321084529,0.006300800738754395,0.006318251385219235,0.0062797209117326225,0.006323806637352492,0.006267537432066499,0.006309144949648857,0.006286408353445185,0.006297744030861415,0.006312872988056135,0.006270235720182358,0.006305706886704387,0.006276771678617263,0.006295030827293792,0.006286205439210696,0.006272974851117651,0.006305678036021221,0.006280172558575026,0.006276787132843689,0.006281184120844368,0.0062811626926350785,0.006281707415776762,0.00627705142581777,0.006278182712332477,0.006273036349105325,0.0062824190196031715,0.006268828123914963,0.00627094986776195,0.006277948682665006,0.006267717113621694,0.006268846355859218,0.006267224790219486,0.006259548060558082,0.0062728992896502,0.006262188580289936,0.006263265890864328,0.006253323593595502,0.006267456206240619,0.006250067218713769,0.006265501573123654,0.006244833587627911,0.006269267303775792,0.0062395514013517525,0.006261975014564843,0.006239946224606968,0.006255651314573391,0.006253038826626859,0.006243852211072456,0.006268757072423027,0.006223508977123064,0.006256439551883524,0.006231747209987534,0.006234248298266987,0.006255537878380634,0.006236375018872158,0.006248786186136581,0.006225691050180356,0.006237470210986072,0.006237639564549749,0.006219102495602619,0.00624130777503474,0.0062365504138968755,0.006234140870931709,0.006235049494191515,0.006213162745238643,0.006227197788956687,0.006231869225081062,0.006218888000329682,0.006232323888617239,0.006214046412674055,0.006224864660574807,0.006222812970090123,0.006209710527870539,0.0062245600801597405,0.006209293561469356,0.006213826399700497,0.006211974679906236,0.0062125109185458246,0.0062176300790586616,0.006206749619543424,0.006203802981485423,0.006200477387745524,0.006209387565490844,0.0062120130614166744,0.006198806158241126,0.006206096091779035,0.006191884986643572,0.006211300670612479,0.006188497335601076,0.006203054020696763,0.006190605785426865,0.006206958314472338,0.006194659553576843,0.006196159903433033,0.006187223199103352,0.0061902326989409905,0.006184669070584862,0.006186574090510515,0.0061894598710928945,0.006183549620418857,0.0061856262338874455,0.006177440618788053,0.006179453224995463,0.006176563307841539,0.0061787834921206795,0.0061709412791513645,0.006176567499253812,0.006175722436689182,0.00617100039423191,0.006176015382859199,0.006163231229257167,0.006173378897623935,0.006159185284660458,0.006170744184854382,0.006160619260158237,0.006166338248706724,0.006164503424366515,0.006155437426755484,0.0061697149333125164,0.00614708613742073,0.006167282053014765,0.006148064442489087,0.006159861784296457,0.006150416963849132,0.006153057342613003,0.00615320251851554,0.0061450683149880374,0.006152654806859666,0.006138829961657726,0.006151992730328727,0.006139359288230431,0.006147572486641253,0.006142200227116329,0.006139095874844648,0.006148332602356879,0.006127854941147413,0.006152878528901676,0.0061228912805486365,0.006147313706523766,0.006126913066340603,0.006131014448257664,0.006140606579863841,0.006115745542746554,0.0061462660790211465,0.006114209999747198,0.006136730051625648,0.006121090931084331,0.0061244627788517095,0.006125896335453014,0.006110943862661481,0.006131061390190931,0.006109492943579185,0.006124604504741699,0.006114790487449035,0.006111850362418202,0.006118870499945228,0.006106749706474989,0.006111236561349999,0.006111355110057652,0.006103997923764438,0.00611772230537712,0.006091015437462605,0.006122605385615677,0.006079778948076117,0.0061241955410669,0.006082697694781704,0.006114253805614205,0.006097428742207634,0.006093607866606247,0.006103533754147178,0.006075777069578471,0.0060992759125612665,0.006096160260334561,0.006082374810336939,0.006094587449404343,0.006079008149256593,0.006087014489067636,0.006080781755742244,0.006078095402966286,0.006098927932309257,0.006070782964680525,0.006086625208854151,0.006078987963746434,0.0060524274274412005,0.006092703598657437,0.0060750578570557875,0.006071259471985913,0.00608762481818775,0.00606192243257016,0.006079740118121908,0.006062710580532039,0.00606034615549328,0.006079183306438484,0.006059502906250131,0.006077879221787099,0.006056435813746167,0.0060633899905000324,0.006063395456255069,0.006062469776226996,0.006052511561926384,0.0060552304454896165,0.006064123193840013,0.00606578401566855,0.006051810291403278,0.006057459701874864,0.0060509152721351656,0.006061665742401903,0.006048175493332691,0.006053181640680421,0.006051477191877224,0.006043858800581763,0.006054252755115497,0.00604312971383163,0.00605005638719126,0.00604116621352887,0.006042908908419175,0.006039112616774146,0.006038028082502013,0.006048316058591409,0.0060366756270902365,0.006038622495225871,0.006034342351173955,0.006034481475150859,0.006032137020593778,0.006034295390582785,0.006024241768698609,0.0060341186363274575,0.006035466718527186,0.0060253093286328895,0.0060259908857492345,0.006017528443378554,0.006029280105107473,0.006021847289007234,0.006023999491062059,0.006016513304384703,0.006021263615269817,0.006020646842339206,0.006013369190249879,0.006011560206732852,0.006012210978772911,0.006013535651765766,0.006016186271248133,0.0060064664242309666,0.006010682566893796,0.00600317570496539,0.006009644064403037,0.005999092359314652,0.006007927327275105,0.006000268734650332,0.006010652944338239,0.005999466056080417,0.0060015921085748375,0.00599918820354025,0.005998103501503291,0.005991972315226238,0.005994268710133696,0.005988020463679963,0.006004041226274562,0.005999443379949945,0.005986578660391798,0.005986947025609823,0.0059833461413868905,0.005989837942006901,0.005986277541163043,0.005987257729371311,0.0059811439649488955,0.005986319934203007,0.005981167821290649,0.005969341749602821,0.005991219766644996,0.005970332876176564,0.0059793159645746795,0.005977312372467307,0.005969242416760032,0.005977472408764854,0.005972858143677279,0.005976921602270212,0.005963171721012961,0.005966868831924518,0.00597631567546799,0.005973571943649024,0.005963947673753913,0.005954005308197003,0.005962176118815649,0.005968665521925564,0.0059646303050870505,0.005955361240278498,0.005959862499828237,0.0059505726433647845,0.005965027085869206,0.005946942110321633,0.005961051805043283,0.005939197536339003,0.005969901700652502,0.0059292495694654125,0.005973807587633337,0.005918634379346059,0.005968559808082981,0.005948676071165717,0.005935755687765054,0.0059801708745853355,0.005897790223597134,0.005959582637511518,0.0059285208487168,0.00592299084292287,0.005980642949174404,0.005898028313954971,0.005952420887222894,0.005943342300764104,0.005901004380984013,0.0059455479490985105,0.005908135939664708,0.005939404394621273,0.005938323395193347,0.0059019815539298045,0.005939546259851655,0.005925108354018579,0.0059331240449508145,0.005912869688098667,0.005893707741001278,0.005936566907265496,0.005912443633909696,0.005922259563186751,0.005921176595797275,0.005896498688673589,0.00592678011142459,0.00590463562776999,0.005905577813871401,0.005912298264555663,0.005892612940659304,0.005916011322571928,0.005905865635240969,0.005903745450528605,0.005901548813504124,0.005888519758520467,0.005909813593273774,0.005895208252688408,0.005890601660420483,0.005898514263855915,0.0058873188995975595,0.005900934374690179,0.005892878712529829,0.005884651833284347,0.005891486502908929,0.005886116672715765,0.00588822871842636,0.005881984999304915,0.005884246163844663,0.005885482727058049,0.005881524170143417,0.005881599116658637,0.005877925471005881,0.005879501820685869,0.005882641100419294,0.005883126860171643,0.005884196447585011,0.0058872893803195905,0.005883221011830046,0.00587681822149856,0.005862139868060474,0.0058751310279644645,0.005877242373190383,0.00587147021616665,0.005864475925224726,0.005863030135037325,0.005868822488290031,0.0058686917610001575,0.005864999419362132,0.005846347861036059,0.0058499650658714285,0.005872291434592134,0.005862392587115589,0.005849202970996645,0.005857705622277105,0.005860719030659755,0.005846919400370057,0.0058403858744962255,0.005845830367896133,0.005844403957056837,0.005855378012594413,0.005855117659468554,0.0058364423592254765,0.005855557040427103,0.005851562484435317,0.005827332339693778,0.0058376247933055615,0.005844747833839611,0.00584107931822245,0.005840214958210262,0.005843331465115841,0.0058345657594111545,0.0058320086350782145,0.005838307575787412,0.005823412103130784,0.005824778801317577,0.005836802513076315,0.005834078591767172,0.00583281352028561,0.005820118163235094,0.005821965347527828,0.005831252085118562,0.0058267922494247325,0.005815886917334888,0.005814651798344411,0.005830297936911766,0.005824162093183314,0.005825806911846856,0.00579429290988233,0.005843727823364912,0.005814795355289287,0.005816564426085235,0.0058105241860366445,0.005805217984714988,0.00583560427484945,0.00580779730032379,0.0058151069219527845,0.005798469827930205,0.005810546851018361,0.005834167411702975,0.00579693273565602,0.005809381566270486,0.005809688159639962,0.005807463674016143,0.005821867949179996,0.005788698811318808,0.005803166087626633,0.005803949697917553,0.005808668464103778,0.005820522475023875,0.00578389606760246,0.005797430295141943,0.005793447800432668,0.005798326026385641,0.005805711667355141,0.0057734948082240126,0.005795333724707252,0.005797574932151137,0.005797618240557141,0.005789070835777477,0.005770988969845171,0.005795381021943665,0.005787434756763014,0.005784854843360325,0.0057834142224576,0.005777532799484445,0.005787953548814185,0.00578154433365008,0.005773744728779604,0.005772472182033723,0.005774629597199436,0.005785438912763741,0.005768768494918115,0.005772682794534541,0.005761550316231393,0.005777368696376721,0.005774280792322372,0.005772298933559821,0.005760986567712061,0.005781845326102723,0.005766135671300604,0.005779692451920015,0.005748750737408438,0.005762903337644603,0.005756017911313504,0.00576515816092477,0.005768660340285856,0.005754026299244765,0.005764466899420846,0.005744792814899993,0.005748731094775574,0.005760883336589839,0.0057455490990571114,0.005751510155319104,0.005753927483254393,0.005743487401465756,0.005759020026215176,0.005743530294320977,0.005745375119382805,0.005743444320203967,0.005743077977936258,0.005741811234768495,0.005730010484981978,0.005742803110949289,0.005743451405914637,0.00574204161326022,0.005738594561261343,0.005728620995851742,0.0057329926714869426,0.005736641369873525,0.005732028345052742,0.005731464571255643,0.005725967528979062,0.005732564702523009,0.0057283733705826186,0.005733906338440292,0.005718781054035517,0.005735304997009272,0.005714192854303349,0.005745729210591548,0.005700439437500466,0.005750817114177331,0.005722657570092051,0.005703044533516093,0.005750045882561631,0.005705014736282381,0.005718096131179277,0.005707481645621492,0.005709884460263891,0.005740762639710851,0.00570751942209616,0.00572821437563935,0.005715275294427594,0.005694553673201315,0.00573079661345299,0.005700433084798787,0.005710296841519572,0.005711721509034435,0.005689685155044591,0.00572270220147658,0.00571413243042762,0.005709273456815791,0.00569749602996082,0.005688066587110973,0.005708749766458931,0.0057028054994079334,0.005705818908805794,0.005698108515351919,0.005687154004255641,0.005700759378433638,0.005704000329122922,0.005699155442161329,0.005684897651989018,0.005672467057576137,0.005691504626140478,0.005700191930769341,0.005695820159050632,0.005682958683790763,0.00568164928245292,0.005683568458478131,0.005695136255081982,0.005675229615899275,0.005685193537102784,0.00567455103636781,0.005688368172351505,0.005687914689623471,0.00567245446162333,0.005677206751841299,0.005662155653484937,0.005685762788599959,0.005680061249435134,0.005663687362136127,0.005663790013541671,0.005654133260800125,0.0056839642545691875,0.005668258143533762,0.005665476737456686,0.005660664861753787,0.005649569983922083,0.005674439846179608,0.005653527277304415,0.005656536812266106,0.005651685978641032,0.00566194374939369,0.005662799613466654,0.005648907607150284,0.005654202261384228,0.005643463368729776,0.005654906629047419,0.005652070787265965,0.005649345495276505,0.005654231978202041,0.005641080864194084,0.005657474044068028,0.005642126327277283,0.005655900765662573,0.005641095877692309,0.005647553314243078,0.00563440380662283,0.0056559174707630005,0.0056485306662110235,0.005640226354822958,0.0056536891432031645,0.005633285453684807,0.005639858495343575,0.005639361704017624,0.0056410000541820765,0.0056311784513567815,0.0056391483793552235,0.005651156180984309,0.00563398168033207,0.005636849804753935,0.005628083326151251,0.0056339293419840715,0.005647180090858726,0.005632916333969361,0.005622995683366679,0.0056163146579575685,0.005642790072390748,0.005637502155125006,0.005620243719510276,0.005627278578711959,0.005620171489269401,0.005624027756981755,0.005628290417980978,0.005633510482248648,0.005609600331104703,0.005610194529489798,0.005630605514744342,0.005620709271584402,0.005623535016301652,0.005599170208124754,0.005607245953856349,0.005625289206768504,0.005618958102289493,0.0056136167670562745,0.005605327596786174,0.005606079510852326,0.005625702041275018,0.005605059486080288,0.005622671732698453,0.005609077176343754,0.005607892496607293,0.0056156834488396805,0.005587205873197859,0.005615224960368462,0.00561616556954286,0.005601193680634034,0.005604906914553725,0.005578220593851448,0.005597838230110007,0.005606411579887296,0.005584762067347439,0.005602023751246754,0.005582374419158682,0.005592955733564726,0.005604869803881837,0.005566560393559858,0.005595941698525725,0.005585286601095933,0.005578773555164727,0.005598052803410234,0.005572145301648675,0.005584832355375453,0.0055909088530638725,0.005572978311111534,0.005587344811948469,0.00557773409620969,0.005576001846256381,0.005584732246250719,0.005580807669416938,0.005572122026662566,0.005565998834604439,0.005587877850904649,0.005574196717962099,0.00557301265485351,0.005572017338952445,0.005563806899422232,0.005571973562950308,0.0055862043043276785,0.005548060576569766,0.005591202227980416,0.005563992296123121,0.005567346327639919,0.005569521259643121,0.00554644235073461,0.005585670103814426,0.0055476431243831675,0.005564660742920129,0.005558597450445983,0.005528645030467082,0.00557942655964396,0.005564172884627972,0.005555408086239625,0.005557011233915262,0.005539409781019732,0.005558665484083535,0.005574685171350397,0.005577172204454635,0.005529539692299429,0.005523331515373345,0.005560576671288587,0.005559532135209109,0.005568992339889455,0.0055461547352358715,0.005524242607354057,0.005553627503535143,0.0055561176800820195,0.005539050821931697,0.00554077324789135,0.005543144881968373,0.0055373964468334305,0.005541105348130767,0.005541405946019089,0.00553433744590097,0.005538988047608494,0.005541022747355303,0.005527496080572177,0.00552904739771653,0.00553652952059414,0.005531389643961664,0.005533784043567634,0.005531050907445265,0.0055243332856971415,0.005538253219750603,0.005524696691551728,0.005552437214563437,0.0055342652369304995,0.005523943233091408,0.005534307045145464,0.005513304730963603,0.005526984762831986,0.0055424088972273544,0.0055008565172048945,0.005513637092141338,0.005525455060132395,0.005515016677193166,0.005536927743344756,0.005501042136126625,0.005495957605843604,0.00553181710237757,0.005511023207496958,0.005499698386702377,0.005495944361441613,0.005512222458610271,0.005522862015428924,0.005488809445897722,0.005509629086634245,0.005515075892096436,0.005493909184263311,0.005508910841502878,0.00550373438864189,0.005482783941325368,0.005495812321194511,0.005512006004244637,0.005502299406754934,0.005482570494351154,0.00549080702826096,0.0055098447734897,0.0054950469726987436,0.005480686853759368,0.005496154936996127,0.005495335227920963,0.005491979646371911,0.005477305719449235,0.0055038605138071385,0.005488204274417339,0.0054886397453037025,0.005494423558436126,0.00547730414826625,0.0054849058890788695,0.0054746042130466395,0.0054944828513060475,0.005482307631670505,0.00546874248876553,0.005484357220970107,0.005472476183479531,0.005472505428943693,0.005490597934165636,0.005483850310099669,0.005462928634542454,0.005458607101208266,0.005484415103742413,0.005482061375977155,0.0054733045671688605,0.005461752143841453,0.005466293453556105,0.005476028192069254,0.005464614208987055,0.005467873124659193,0.005458837084085852,0.005478771812931509,0.005458824288531403,0.005466636548434286,0.005454157277233799,0.005471898391778426,0.005470229291316001,0.005456069927313441,0.005452699220957151,0.005440822488095091,0.005471774863311678,0.005460119597394502,0.0054588123403488675,0.005443782669308863,0.005451029788659957,0.005464828172814942,0.005455025144117727,0.005461944975586171,0.005442603868141692,0.005447713211694948,0.005446222335139324,0.005431092858313136,0.00546844825715138,0.005434587264709835,0.0054408582512742104,0.0054464613118998355,0.005429741623092717,0.005454071329473064,0.005439435232831567,0.0054471027137906105,0.005434689372463619,0.005435197597215796,0.005444212113963709,0.005432522733835293,0.005445285160398152,0.005432612928755242,0.0054285347044653485,0.005436203417215448,0.005430724339283051,0.0054319361191664,0.005423645675591627,0.005432156724064335,0.005430194529237264,0.005425478626278681,0.00542721930531523,0.005420358682625137,0.0054227068128453165,0.00542367862286704,0.005420806979251073,0.005430579348666033,0.005426766910777687,0.005430370495550651,0.005425263350752802,0.005423214299467508,0.0054093024986232,0.005432680438332077,0.005421974675793365,0.005416455971812568,0.005416961459210159,0.005409383490445253,0.005418706128358539,0.00542095493009619,0.005411040324242452,0.005408773369739624,0.005406689728723677,0.005414916292361376,0.005405823630862631,0.005390690260596994,0.005427141489849998,0.005413074963004464,0.005376356792852352,0.005405715902823025,0.005413346143946504,0.005393589775902872,0.0053999187990951296,0.005392909197280881,0.005393862814454714,0.005419928864192812,0.005403824195905334,0.005397244009075223,0.005396994363674086,0.005394923860760237,0.005395500442525431,0.0054038779655044,0.005390437871168718,0.005394942174359562,0.005387623446125286,0.005398740552609393,0.0053966782712085845,0.005393697850433725,0.005380094229329827,0.00539302137459312,0.005384590732869337,0.005383214865717066,0.0053858271104980735,0.0053743672843240406,0.005390489301673949,0.005395132468567504,0.005381174972262265,0.0053714412720780496,0.005376274201674549,0.005387891586969584,0.0053929291038855446,0.005370413480738481,0.005371086420068916,0.005373656547858613,0.005391425004815625,0.005390677455156426,0.005369892287524122,0.00536093675533815,0.005382143635059321,0.005362543750902436,0.005381030393880053,0.005381690034920718,0.005365883963250966,0.005377030289208625,0.005359261733372536,0.005364575410164626,0.005359596174039377,0.0053782082139327714,0.0053834982372463385,0.005345182422083843,0.0053580944640252755,0.005363873529714207,0.005372724384639467,0.0053399847605529425,0.005344476217653644,0.005383716753307844,0.005346198622439818,0.005343500673219384,0.005360361681466875,0.005348847332670431,0.005358701574588952,0.005358315525359117,0.005343796051079802,0.0053277043832453495,0.005359144978022442,0.005355860685570956,0.005333898342146863,0.005345448356255754,0.00533094488989875,0.0053480902404997,0.005355046281957848,0.005341700712438699,0.005340144066780748,0.005333668752735843,0.005358141644618846,0.005343081375954091,0.005350450596041211,0.005346514190318246,0.005320509397970385,0.005349999005203914,0.005323122615692419,0.005349592284568224,0.005342632713593953,0.005312243002621611,0.005343374540495592,0.00531179210812063,0.0053421307452230045,0.005345177177389277,0.0053173686933520245,0.005323922817723322,0.005317850138742662,0.005352225218015979,0.005325110144270779,0.005313711749531573,0.005325468200637523,0.005321099954879068,0.005336303032683759,0.005329610043543623,0.0053154301285197065,0.005317682416894993,0.0053219282566943915,0.005323703330862377,0.005322588929815925,0.005318438211707301,0.005312849074095132,0.005308005784892441,0.005313881148515567,0.005316321105200909,0.005314138079478809,0.0053041943691948925,0.005301753737481754,0.005308343096992832,0.005313260819697475,0.005312320817985828,0.005311881371495743,0.005304802068546293,0.005296662491393546,0.005306267573546207,0.005290332074291676,0.005308085201912975,0.005295674946602768,0.005309601927797078,0.005288044651048656,0.005304554260501608,0.0052949442199116,0.0052997133712161856,0.005307254662880603,0.00528774013690013,0.0053000379633748726,0.00528686803875581,0.005302021880904457,0.005308139820154297,0.005277430062509141,0.005302689816607723,0.005291238071106525,0.005273711282059855,0.005305751061790202,0.005279767162998521,0.005304540993522579,0.005277872611236642,0.005267756907482605,0.00530111044942937,0.0052804080448372,0.005294433052251594,0.0052901009843489945,0.00526907088075402,0.005285263285624481,0.005296045633069904,0.00528321008684625,0.005271060083953499,0.005267805043196941,0.005277413864820226,0.00528389850522111,0.005272937350993467,0.0052917814824896695,0.0052596213014452,0.005269991173560123,0.005281094436599014,0.00526222569195653,0.005278846786676537,0.005265166566168065,0.005259857295554379,0.005265286823968003,0.005264738255909138,0.00527601309798035,0.00526635719870295,0.00526572961820134,0.00525608970172188,0.005259786702337448,0.0052596251154436845,0.005261936181186556,0.005258421457304488,0.0052616657046388364,0.005244469120229119,0.005268859372524384,0.00526651338983361,0.00526911197684838,0.005249571748165461,0.005246432360081867,0.005258448636359358,0.005245018481791103,0.005263583687801983,0.005237817482132286,0.005250193277301917,0.0052611578673143495,0.005247158792619631,0.005263214284440716,0.005240541582639374,0.005248520015021737,0.005250052252240099,0.00524183697717442,0.005246896630923536,0.005242777529783146,0.00524078910784383,0.005231097747123714,0.00525518937813056,0.005244411735900401,0.005224482747638018,0.005235060769212382,0.005238602137108275,0.0052497367730502805,0.005234230842946612,0.005225116488555417,0.00523110884927093,0.005245211485768472,0.005243558902362219,0.005230592432348156,0.005216479729053358,0.005226540201679935,0.005239579359237765,0.0052284736696984815,0.005225748101356699,0.005223208450611441,0.0052420502321767724,0.0052371121383515806,0.005221369883253037,0.005219481033187925,0.005210848727846845,0.0052314177947317495,0.005247473675501865,0.00521447874572043,0.005210119376273063,0.005224041868429552,0.005223307547888155,0.005217496723359345,0.005228583396997763,0.005207621733317571,0.005210739278217092,0.005227103054788016,0.005207837335666953,0.005227007750104188,0.005209244704372359,0.005205250154833522,0.005229067975673761,0.005219773702624069,0.005210896835984688,0.005200877653276647,0.00521537398474692,0.005204850375886883,0.005208814283468268,0.005234628278558639,0.005193186835729106,0.005207417743166109,0.005213977172441075,0.005209037136794905,0.005216123021448486,0.005186456871223527,0.0052037918652098015,0.005197207628793228,0.005212480072282542,0.005206400842677427,0.005201177067350551,0.0052046960168331095,0.005203436800019566,0.005203328743094441,0.0052026531765644365,0.005187547697552159,0.005189245167673029,0.005195528721693066,0.005200673050075901,0.005198343841910496,0.005198643470972326,0.005195393274547662,0.0051994667967867406,0.005193010054786939,0.005190818978086516,0.005180025257394969,0.005194758169716303,0.005171917008585942,0.005192238732507761,0.005204684345502079,0.005173255596237777,0.005201483505697884,0.005182242071230187,0.005182414717360542,0.005175675628734669,0.005167907384492964,0.005183089745835871,0.005181618008753684,0.005172522424400024,0.005170137301774041,0.005207875619087961,0.005186279149445187,0.005158339056498202,0.0051700740070901524,0.0051735248392886304,0.005189545893514054,0.0051628529698447174,0.005155055834631321,0.005166230739416724,0.005181678733233387,0.005188702404636948,0.005169578978358803,0.0051779668067572305,0.005160391394889445,0.005165858240666531,0.005156031975051266,0.005185814910368201,0.0051708394927750595,0.0051676217051827384,0.00518265147923697,0.005161180828950867,0.005176563401895903,0.005161281096809878,0.005153648703158361,0.005151359960408607,0.005154291129904185,0.005175471067194756,0.005160513011014484,0.005163204707820372,0.0051586454936531165,0.005152248691469291,0.00516093454155688,0.005165746221806557,0.0051707845177729386,0.005138024902429839,0.005134493419198601,0.005154020573864921,0.005166215175101705,0.005172999358785637,0.005138390532008407,0.005141288297400142,0.005154146660761972,0.005154327262845452,0.00515039675519753,0.005140819190134855,0.005147421704278268,0.005142164315771318,0.005154137607186729,0.005138338130634581,0.005136690352934761,0.005158269518162037,0.005132052927675075,0.005145179996395369,0.005143241067616874,0.005142720152842438,0.005133964153315227,0.00512428647619261,0.0051362094772895,0.00513554632229237,0.0051473459922583105,0.005144434540679124,0.005130253596962469,0.005131274105692951,0.005133305944546206,0.005143387298054878,0.005124042832507413,0.005115196275340595,0.005134778711133565,0.005138736469258586,0.005135075172900544,0.005123935137497982,0.005127914757004555,0.0051231206516545455,0.0051338302734320485,0.005130914374971823,0.005103537519089409,0.005121219064731184,0.005123952808718418,0.005111013346210274,0.0051311726443656926,0.005132499980776076,0.005114038005898305,0.005131002554540069,0.0051314615613515125,0.005122060926444861,0.00512390737626377,0.005104228795252114,0.005115396417483329,0.005134311088645188,0.005115943874601568,0.005104697900525134,0.005122549844627249,0.005114724876485636,0.005113465027755471,0.005126562016311927,0.0051152651134243506,0.005105441741153613,0.0051087649344718055,0.005114106794184966,0.0051145565637603935,0.005115581411431725,0.005110940171980844,0.005103794057410896,0.00510635566146961,0.005109574893797444,0.005114207098452281,0.00510267505868736,0.005106166650069439,0.005103673560368534,0.005099409267697322,0.005102027790435761,0.005105165315336582,0.005100772641558916,0.005102275498939595,0.005101842845585521,0.005087988452682447,0.005113161370516309,0.005102635578886983,0.00509311232457055,0.0051038415061087986,0.005078791212608531,0.005095503950171963,0.005104352300678658,0.005080728131137379,0.005081647730149672,0.005099062073175859,0.005099370459463289,0.00508708234929089,0.005084002355369695,0.005078035761094395,0.005101562073548328,0.005095590851494189,0.00507218962495195,0.005077721776876818,0.005078957926083767,0.005095674619957212,0.005096325119262666,0.005075337290844629,0.005072965465483549,0.005068519182611014,0.005102947739689755,0.005102248075210293,0.005086299701844633,0.005084895036506866,0.0050675319802875336,0.005076188812669777,0.005081079955085116,0.0050899019259664,0.00508122728027789,0.005046588015036653,0.005063890793511121,0.005085260363139047,0.005079040543949689,0.005081231080973238,0.005059206142820223,0.005058177014163818,0.005082057740295014,0.005070494681459857,0.005058744427572574,0.0050614037099342805,0.005071450435845017,0.005065929450909913,0.005060472654765363,0.005070930805816231,0.0050566370811900635,0.0050680175296869655,0.00507508645654319,0.005060956681096128,0.0050485566877064595,0.005059184933231837,0.005067393277147484,0.00505037351921344,0.005052787266919042,0.005059390771667472,0.005057089516736912,0.0050570563885174846,0.005054308401100668,0.005050515011454742,0.005064153821049889,0.005044634880762159,0.005056854176821054,0.005038728850738273,0.005050532642873538,0.00506632972466211,0.005059143789062325,0.005052124245475719,0.0050397261951723405,0.005048042872372308,0.005035756048731011,0.005042169353355671,0.005042219315078045,0.005044375338892265,0.005040918446941206,0.005020717883515099,0.0050572142177914585,0.005054716895707761,0.005036133978987138,0.005015289209216656,0.005032844396613684,0.005053711661609463,0.005027467043236911,0.005041963781935655,0.0050392189861890565,0.0050277165335193994,0.0050492298218514494,0.005038310995322185,0.005011906028031108,0.005022446927311361,0.00504651620225317,0.005031015161237665,0.005027839435156891,0.0050323409845753455,0.005010764424331686,0.005036230867730612,0.005048564720471724,0.005018700312738977,0.005007475552857542,0.0050207707728088195,0.005024223381169699,0.005030110699032713,0.005020713901435921,0.00502626701217365,0.005021282563846859,0.005047140559213202,0.005051999602641748,0.005019633044659463,0.0050202560524074,0.004995525946347376,0.00502266457868331,0.0050301316348890165,0.0050028162262201695,0.005029110635801504,0.0050177165593520145,0.005023404253634623,0.005024927278547446,0.004997433996563137,0.005018398460634207,0.005016071276101831,0.005008075475857377,0.005013168850496213,0.004997423425517736,0.005006437321637551,0.005029583938804883,0.005017539679870489,0.005001450556310259,0.005008842524082752,0.0050009597069914855,0.004995055191025138,0.005003470894477135,0.005015347711382049,0.004997648361150257,0.005002707965261894,0.005002801637652297,0.005002867453728355,0.005020430763549664,0.005000140626093472,0.004995365600919954,0.004999423246494191,0.004977691234398229,0.0050134515180330535,0.005010348514022385,0.004999448588305196,0.004990126327247295,0.004975387768175612,0.00499917356879436,0.0050202479107760364,0.005003035969801923,0.004967158622489206,0.004970319386418881,0.0049806744675314745,0.005002442154330794,0.005017197084063193,0.004983646974959806,0.004970963265769137,0.004989003114427833,0.004995125866630766,0.004987597271901996,0.004983139729333273,0.004979659892935041,0.004971785401283119,0.004983425692719441,0.004985640960925249,0.004979849173953016,0.004974244831837597,0.004999054633190181,0.005003766921556564,0.004971174022119581,0.004983592340609238,0.004975161295296833,0.004975243969199072,0.004975370033798104,0.0049927244198284875,0.004978530971685392,0.004961813577216011,0.004973895184801647,0.004979231274050239,0.004976860432212509,0.004970789920311194,0.0049643881395528295,0.004981969913229628,0.00496508717601707,0.0049703495039509216,0.00498449954009602,0.004958766342802313,0.004980008748615106,0.004966809554157294,0.00496363839248662,0.0049644196582311045,0.0049674175834540845,0.004969386512972977,0.004956306704308735,0.004964836079119624,0.0049390226039441945,0.004979220583650506,0.004966082972534718,0.004962953213066873,0.004960765117256944,0.004956051964779642,0.004960962749692952,0.004957432165952849,0.004948353579883362,0.004945124551708291,0.004957123896818906,0.004958461705430498,0.004973012200326265,0.004953441833594328,0.00494381529594065,0.004950384197357428,0.0049462052722755315,0.00495507943567658,0.004941573003337297,0.004939348606772398,0.004935190025511334,0.00496264508548865,0.004958998272965181,0.0049392186094447885,0.004942987528113591,0.004926903106603998,0.004943481131574233,0.004929868927742328,0.004940763271723452,0.004951633009923478,0.004937628613968177,0.004939006222252313,0.004930627995080244,0.004961702042821419,0.004943406692994204,0.004946628546172262,0.004930883700833944,0.0049171212823921,0.004958273908268155,0.0049393415422816075,0.004934575205650015,0.004926184396869559,0.0049098597945134445,0.0049394186208271745,0.004942613387120467,0.004942126210874784,0.004917914330918905,0.0049062756542397196,0.004923484545746368,0.004935348472751836,0.004942812267170621,0.004921728489812283,0.0049141276810579495,0.004906831772916452,0.004928619766306696,0.0049394119721194564,0.004937819488282129,0.0049137809463701086,0.004896188643768238,0.004912047020299786,0.004927977195845128,0.004937462073340623,0.004910649337880884,0.00491120059577126,0.004906032499418514,0.004923997855291785,0.004924515501914225,0.004922352714275915,0.0049032159101405366,0.004905612879957138,0.004923442226469284,0.004920531133015936,0.004911475493856756,0.004911473204558615,0.0049014166489999,0.004924106848934022,0.004903533105822757,0.004910338939788987,0.0049117750451792355,0.004896043480022461,0.004923527829851212,0.00490890676542063,0.004898681621057603,0.00490706007591626,0.004899470467752805,0.004918998296169531,0.004920488731002559,0.004889978329123311,0.004879380021723943,0.004899498241713539,0.004913833483269538,0.004902713634066716,0.004886324570884926,0.004900914726234876,0.004899006470104015,0.004904053578655111,0.004892322705368715,0.004881239102441834,0.004895468699497915,0.004902374745716228,0.004890795404177478,0.004892530316311972,0.00489124284713335,0.004895830028136938,0.004894735107627113,0.004890373599060099,0.0048924351897813275,0.004885218947458813,0.004882239844064643,0.004900715423029955,0.0048876648924110165,0.0049093863453375745,0.004890081855617966,0.0048835284120700906,0.0049080220661233765,0.004868304750045896,0.004898974435139133,0.004887858835338695,0.004866162607319939,0.004891136790992919,0.004871862885635782,0.004904989461502556,0.004893050643247052,0.004856287443286553,0.004880629116779664,0.004881154911778963,0.004889088650577189,0.004882026700763475,0.004871834232292086,0.004881036642893879,0.0048632563728400625,0.004877416090857772,0.004885480999308259,0.0048826453724738865,0.004869355687597937,0.00485592775414996,0.004868062611420677,0.0048663397874134,0.004877172664509681,0.0048790761425745515,0.004857685839925838,0.004863225958109832,0.004865536979688419,0.0048694872850248835,0.004866213435358874,0.004868924578464603,0.004854190785195595,0.00485549236412591,0.004863724506129361,0.004866518157927136,0.004861844938998768,0.0048660870976110025,0.0048564853691204475,0.0048580075226453984,0.004854900748963587,0.004849495236679902,0.0048563508320205884,0.00484517691504614,0.004851264212300355,0.004858549191830375,0.004857876232925575,0.004853818320781349,0.004856722845419656,0.004847622186822105,0.004851050628419619,0.0048422877494185045,0.00484330938463021,0.004843125410134723,0.004841973904496014,0.004855747877850032,0.004856661498384646,0.0048453480805557185,0.004837179490998773,0.004859522235424288,0.004854188915965367,0.004836102218495047,0.004845804477702782,0.0048318811485307195,0.00484491616933878,0.004848970641542879,0.004837748990296173,0.004859355818230441,0.004827060972159286,0.004841080675992285,0.004846705656235537,0.004831853539886785,0.004848374703813893,0.004822613671356532,0.00483715062967517,0.004828787550038047,0.004828628996006954,0.004857455805621418,0.004830552821307528,0.0048371137455838105,0.004817497165396256,0.004826450846059046,0.004833800361960261,0.004823403315027129,0.004838510397220001,0.00483103773632593,0.004822286759086875,0.0048331397161074235,0.004813490161209058,0.0048444106093621766,0.004828013486162979,0.004824728094598173,0.004807641241087278,0.00480319324788411,0.004828660376495453,0.004826209482748574,0.004835810163699422,0.004821459189079985,0.004815724693098541,0.004821207331774115,0.0048192061367481375,0.004818027284683521,0.004816829692989536,0.004803879001869147,0.004813988903693545,0.004815936462541579,0.004812779189745436,0.004826171854188158,0.0048063090839271,0.0048192663085723465,0.004799483554657429,0.004798421089508514,0.004809236522146393,0.004807508886154788,0.0048148123439273665,0.004794734395450355,0.004814748249181422,0.0047985675291692545,0.004818490957027904,0.004796794368475561,0.004804658122139517,0.004802984811983919,0.004800312911394418,0.00481527148161021,0.004790608411698873,0.004802280763483221,0.004791115629997656,0.0047845373687038515,0.004814249221919598,0.004805980635371605,0.004803326147426949,0.004804392540591144,0.004784172037012271,0.004787564066756018,0.004800614182099857,0.0047968112882041105,0.004789103346059472,0.004799066986191864,0.004793590893996229,0.004774391720095819,0.004796575807917769,0.004810249935313601,0.004786282940891953,0.0047905681770856684,0.004791779727183611,0.004776198519059322,0.004792218477697377,0.0047862534758680835,0.004777490414601948,0.0047964956091130165,0.004779856459234912,0.004766028819724735,0.004796319730844192,0.004787358962157267,0.004784159276669819,0.004769958258347881,0.004789396678654212,0.004777388268714731,0.004783489642580926,0.00478335334095169,0.004778850809394511,0.00477670860964328,0.004775263241209444,0.004770548030959829,0.004798735499197133,0.004800420871350376,0.004771559426385156,0.004777412368028745,0.0047608164797214025,0.004765350651125697,0.004795716347607868,0.0047612321521038,0.004751168207609874,0.004778921397949281,0.004782736714066893,0.004791770511072684,0.004766667240777221,0.00475062381497449,0.004767602769576198,0.004779136631111145,0.004767147231942873,0.004750157660906907,0.004764310830230386,0.004774944827864857,0.004768564270409687,0.004764505672249794,0.004759973511847944,0.00476395659361465,0.004776006386807312,0.004757714896096367,0.004755066909706612,0.0047548699913571146,0.004768126074376521,0.004766729103343093,0.004770887855212148,0.004753123268653994,0.004778557022249489,0.00477262079378797,0.004760428476558449,0.004774900857137857,0.004754720394714529,0.004757573394495915,0.004755390745896334,0.0047530240124140834,0.0047468281534109565,0.004761968811847889,0.004776631334818711,0.004744527884192761,0.004761049558489093,0.0047576103591403796,0.004751423536510121,0.004768921262492866,0.004747565976700046,0.004756279178956944,0.004747196710089673,0.00473869928330088,0.004757101781722824,0.004756561002648152,0.004759938965453205,0.004742751657829354,0.004744736910255779,0.004751750212537963,0.004747819742734783,0.004746513406905747,0.004736238464197184,0.004747247297375733,0.004748300016832522,0.004750791289890541,0.004742100672782111,0.0047422411868841335,0.0047392727463857675,0.004752460938942498,0.004739407388962755,0.004745593518044915,0.004735437110171339,0.004748806750532692,0.004744485367734574,0.004731620043024839,0.004735023162497207,0.004734666329310587,0.004732791441707291,0.0047530246050862535,0.004737474828625547,0.004723311219143126,0.0047321946233794,0.0047289752261531395,0.0047433735912142585,0.004736190576130021,0.0047275965925292086,0.004732749629469297,0.0047237957432373825,0.004730627264023747,0.004723072200949186,0.004747430842719952,0.004740779185184712,0.00470479739223488,0.004721513875967004,0.004737829452306728,0.0047209577103473135,0.004732208922628874,0.004709434307950762,0.004718689102196921,0.004730385901177425,0.0047483542584102825,0.004754910191246262,0.004698072811874051,0.004707124545081749,0.004713883852131396,0.004734691494343903,0.004731916467433125,0.004700731266240441,0.004714867327756876,0.004721195688320295,0.004737767206923854,0.004730259711825143,0.004697199543355605,0.0047050918397163275,0.004718030336892676,0.004733906975926166,0.00469728967176903,0.004705826538049504,0.004702384791937154,0.004728429187791277,0.004724517984509674,0.004700806864326614,0.004697601782502168,0.0047105852910979285,0.0047196097191672505,0.004705694843449992,0.004702645948027212,0.004697053438420649,0.004710103056755816,0.004710220716794248,0.004715933441387184,0.004702594134135628,0.004705223378774989,0.004706148428027084,0.00468620386433166,0.004701658818680615,0.0046954980407247935,0.004713122663597616,0.004709374681356594,0.004705366213027244,0.004707426379215573,0.004705791405331024,0.004701858052459473,0.004705798487530814,0.004707033313343453,0.004685471606319796,0.004691606452027218,0.004702924724054832,0.004689645355361529,0.004713752778548417,0.004702523080372151,0.004688549876246626,0.004714513042403525,0.004699093072418371,0.004694377656194254,0.004683580989954608,0.00467257540118009,0.004702958078086015,0.0047058885246645055,0.004696097493007185,0.004669288340715738,0.004684164981347091,0.004699114917084232,0.004699365849340301,0.00471143734932188,0.00467686992285944,0.0046768691928827065,0.004675357604322667,0.004692168390372126,0.004696684572936525,0.004689641776310234,0.004680425957796743,0.004691108896961318,0.004672429151064242,0.004703525227850328,0.004685578068795691,0.004694158106086002,0.004674659754247496,0.004672993381155406,0.004700173051199064,0.004672209926169184,0.004682889496395102,0.004707884846053085,0.00465415838965122,0.0046718039579143516,0.0047133394740712315,0.004697312469624767,0.004662731851891215,0.004641460923509999,0.004687994754760414,0.004700383821317191,0.004684566994303584,0.0046871039268921505,0.004658796932317887,0.0046639089609201816,0.0047147212586167555,0.004683938087663938,0.00462683521842551,0.004667467037619513,0.004704245977379591,0.0046810129005445235,0.004660730333822924,0.004662652623164581,0.0046506271331042785,0.004667534973328162,0.004701816960909731,0.004670514991569875,0.004639650555545658,0.0046627241581254225,0.004690137385766153,0.004684617056925548,0.004666779252872876,0.004665575484265599,0.004653818376406248,0.004655638071121907,0.004677057331431223,0.004668145684968347,0.0046593121271458066,0.0046740346045461255,0.004669333864915458,0.004682444022080927,0.004653098437875464,0.00464875712678535,0.004664003322640467,0.00466718297684483,0.004659794822322889,0.004658312335471341,0.004667659342843546,0.004650366193328181,0.004657226639709421,0.004670308778577585,0.004649422424284371,0.004646513009319714,0.004663849705494943,0.004670390127603264,0.004655749172169987,0.004641776678050837,0.0046408611714687615,0.004663752744883295,0.00466274401244131,0.004652203187170422,0.004647690631637428,0.004640219036952862,0.004645177120857085,0.0046476971491242695,0.004656757166350292,0.004643991829841926,0.00465237213233403,0.004640132055895854,0.004649543031253919,0.004648204289354705,0.004647415468443486,0.004642607523247947,0.0046396823515514165,0.004642279094944508,0.004648662122706036,0.004654353848499999,0.004645787416163813,0.0046266044746843225,0.004648919776981913,0.004643451526461103,0.004646003901645786,0.0046468888087544515,0.004643849379861076,0.004653604206261752,0.004627369778891607,0.00463195193114269,0.004644736335144236,0.004651381596438342,0.004650330476008273,0.0046381451741857715,0.004619713977586924,0.0046145068451072845,0.0046625865153366915,0.004672591810172614,0.00462192687671511,0.004616820681965421,0.004633843964794013,0.004645649938712404,0.004640986077945505,0.004613849749641888,0.00462260315638555,0.0046529907664492375,0.004644160972105775,0.004617736494456968,0.004623984433458558,0.004626319543167355,0.0046302065853730265,0.004637022854101748,0.004624811875578615,0.004618141946940938,0.004637314127585946,0.004633095841982265,0.004639058150318223,0.004621864630745414,0.004621552231012171,0.004625009176943844,0.004633683905807887,0.004618649807610535,0.004634799431771953,0.004626217401072869,0.004660451641642556,0.004625645249714888,0.004618388228073771,0.004636767600239781,0.004599712639177324,0.0046025160127365905,0.004637107077204801,0.00464410857004535,0.004636100410553587,0.004610260607092908,0.00460889886403351,0.00461561535675488,0.004638697342705219,0.004640419282034938,0.004603204549575489,0.004605778948862726,0.004621665820882214,0.0046137469710791626,0.0046257882371539645,0.004620787006843402,0.004619977520492281,0.0046198497340354016,0.004592703174023547,0.004606613855158078,0.004616493117496376,0.004617247746627252,0.004614088344592876,0.004599956174499679,0.004608757634564223,0.004620434592955637,0.004615286761380135,0.004612041275204725,0.004601106339852951,0.004605189522709269,0.004598411383883795,0.0046190340797554125,0.004602188864527466,0.0046069169907259335,0.004609104327220792,0.004607765719138559,0.004609336745784289,0.004597046742066022,0.004590643301905637,0.004616601968041472,0.004604025342589785,0.004599994863261026,0.004598469110560695,0.0045978009588762084,0.004610569855257577,0.004598817659591561,0.004609679786178939,0.004593613881439894,0.004601738789972144,0.004592049268868428,0.00458471752544819,0.004598561889666669,0.004598823457901941,0.004608032079601879,0.00459006683824046,0.00459395338197271,0.004586937308459165,0.004609077131275253,0.004592169532254156,0.004589294247661431,0.004586981352293766,0.004598969231430748,0.00458331027197871,0.004595712543685354,0.004589745881276639,0.004599477211316163,0.004593421994286249,0.004578555032212707,0.00458419135479044,0.004586257905096607,0.004595905504019319,0.0045908797874968845,0.004597492160133841,0.00459877068581081,0.0045808373939287515,0.0045626310680134475,0.0045663135289662135,0.004583550199337475,0.004586147913140731,0.004592716967074255,0.00462693921800529,0.004592513978669381,0.004549136925109616,0.00456481568626044,0.004582176222990507,0.004604349054702011,0.004590586885698836,0.00458672497073859,0.004548904846027476,0.004548202252682794,0.004599587646050012,0.004590073819564475,0.004565035294620286,0.004583197373339657,0.004590094095016605,0.004574476363381182,0.004564863331608024,0.004573216023688035,0.004583509936002256,0.004572502689746663,0.004562796945387401,0.0045591939856707755,0.004579856699660124,0.004566790399921317,0.004591294259713125,0.004581196295609545,0.0045685209277599075,0.004549899252680426,0.004579359226069231,0.004554988173990095,0.00458365023116839,0.004566524208900585,0.004565878968672072,0.004569181590076766,0.004564425902043101,0.004565248883194557,0.004572416217238957,0.004571925693173749,0.00456472772095036,0.004571470237602798,0.004560733973519489,0.004557263137589943,0.004562006804366858,0.004556642654931159,0.004564036841992331,0.004556550728483068,0.004575665975096542,0.004561388148878642,0.0045657162452050065,0.004558921247422718,0.004551618884903201,0.00456358858485726,0.004550048303857461,0.004556529224164243,0.004552079011059604,0.004556823102808584,0.004563443091672656,0.004548770788252195,0.004559775743157244,0.004558317525625592,0.004562875410358354,0.004558836764335558,0.004556990027068759,0.004553855055993848,0.004549962093758363,0.004558588154221484,0.004545225413009336,0.004549632485560755,0.004548664237689643,0.004561679161528568,0.0045577109605896,0.004547410796735599,0.004549189690096257,0.004547282067156944,0.004546908644162309,0.004547443134250888,0.004546656312396269,0.004534062814832639,0.004556257931635137,0.004543668910939647,0.004555184442611962,0.0045374634313880315,0.004540528902797853,0.004540995516541655,0.004553722356628523,0.0045483142453594735,0.00454909067992115,0.004535551058631996,0.00453425005772399,0.004547193639186404,0.004536015302461813,0.004553329969010548,0.004546951592353917,0.004535948649478782,0.004541540651049679,0.004534085988420364,0.004539251369666462,0.004532316750113151,0.004542993335242017,0.004523689977821928,0.004557868956410831,0.004542904746325272,0.004539999415761025,0.0045447029190037085,0.004528631934794584,0.004542217528160131,0.004545136517230742,0.004540263114173484,0.004526627499754664,0.00453240914345452,0.0045241145086875436,0.004526470613758941,0.0045379980023444256,0.004535508848393072,0.004529439405906823,0.00452128289169204,0.004533131156011961,0.004538286744191454,0.004529171141662472,0.004523323835428295,0.004524933028643888,0.004521313657558371,0.004527222037115583,0.004531547245009708,0.004515809668335662,0.004515602261562096,0.004525113087314239,0.004533324539077582,0.004529647471068879,0.004508920593254461,0.0045167196462080955,0.004520026444117979,0.004517715051790992,0.0045213988358531266,0.004515569664419534,0.0045185850852792605,0.004521102977462702,0.004527469296925526,0.00452315679236789,0.004523409364662911,0.004519464761432593,0.004512458583197192,0.004517183653391203,0.0045201061932786816,0.0045185124407492415,0.004498204246913728,0.0045138282321518265,0.004523490534015738,0.004509828014948641,0.0045348421076504076,0.00450613041172024,0.0044984264751444306,0.0045174883485339145,0.004514365593194642,0.004523662504942411,0.0045072246731082495,0.004505969750183784,0.004505813033691526,0.00451673601866786,0.004508002543235675,0.004493071734199388,0.00451928299259239,0.0045212112478257085,0.004511862151103674,0.004496700868764043,0.004488310708054152,0.0045026427019059165,0.00449926872660812,0.0045140507626165146,0.004490537521305963,0.004512844916816399,0.00450608796771685,0.0045116272175565195,0.004480409414707523,0.004503839379560889,0.00450898098164064,0.0045113692940394095,0.004502903730494422,0.0044886444565062035,0.004492387979996673,0.004511767335454146,0.004493220666332373,0.004497650054407621,0.004516085533515163,0.004479562359732926,0.004496168432726648,0.004481984439352136,0.0044854127320557565,0.004517043569091445,0.004465588227451652,0.004487449681596585,0.004500994008916335,0.0044847383494255,0.004485710082712192,0.0044670849510686245,0.004512070336537866,0.004520334438503104,0.004461566050486792,0.00446602806785171,0.0044769768824991394,0.004490367634659632,0.004512018761959953,0.004467482827443664,0.004453615955800423,0.004491077760503103,0.004507897870386705,0.004484351280411559,0.004471725921062216,0.004451807438005116,0.004482104281851588,0.004504787262820065,0.00448018843152487,0.004451991769089224,0.004477268498815064,0.004482841047358745,0.0044739127631059404,0.004491414350834855,0.004463685186511894,0.004472518619333608,0.004467669730637861,0.004472681440248849,0.004471088002934051,0.004475004242139218,0.004478699002618717,0.004455163835239251,0.004470129373324895,0.004458967924375188,0.004471080279149087,0.0044902629252673255,0.004474964917676604,0.004447844066825494,0.004459694354851414,0.004472091993123391,0.00447855116563237,0.004453076956847788,0.004454403319461314,0.004457548329701377,0.004481700794865854,0.00446811861739282,0.004474690216455708,0.004455706264001946,0.004470177888416374,0.0044749458432919555,0.004457964445387651,0.004459478201226666,0.004452552121441937,0.004449281500502277,0.00446712104321694,0.004461294291163152,0.004458867189796277,0.004453566367830664,0.004449826503444591,0.004458215545822629,0.00445970059634509,0.004460303403347377,0.004460734161802147,0.00443533148732152,0.004461035455756942,0.004452795319596367,0.0044564321656394715,0.004451217485651977,0.0044281741430301285,0.00446037948243495,0.00446831227371197,0.004450499150946054,0.00444134691855453,0.004440899902722105,0.0044470175337473885,0.004447563256947749,0.004449006997968187,0.004446060659058576,0.004441400679185606,0.0044510535175543925,0.004444323730956519,0.0044397508586603894,0.004450218400824296,0.0044314129011902475,0.004437345023634764,0.004454146858714932,0.004446318935530803,0.004452209617051058,0.0044481858751064494,0.0044319580521260706,0.004451732954495043,0.004427127703611786,0.004441828720360346,0.0044487880860558755,0.0044312243526391975,0.004434265224834715,0.004441536040889535,0.004453449307981739,0.004424001236673929,0.004416334483058925,0.004425847003062961,0.004438708559456251,0.004461490947302034,0.0044332742118911896,0.004413710329775785,0.004425592005258426,0.004439288012434908,0.004439876303515887,0.004435115115503219,0.004422685538510626,0.004411033415498493,0.004430382086176643,0.004433295498642394,0.004428827567896118,0.0044249907864483545,0.004419441820577545,0.004433376779446693,0.004437365344265581,0.004421620007741256,0.004438773694476655,0.00440169535566098,0.004438350865708663,0.004418027674738026,0.004427572468602934,0.004417610269303149,0.004394207836500305,0.004434920276467903,0.004420803631806743,0.004430108811594666,0.004421350293442851,0.004404645541004513,0.004425729157139976,0.004414650622735952,0.004404684715690026,0.0044230092790593966,0.004409607025842368,0.00441960655260637,0.004417794381966507,0.004401002878918199,0.004424334888859326,0.004411725946970004,0.004412282426495774,0.004404494834508367,0.004402494180248469,0.004416151806609342,0.004417685702346462,0.004408023829752628,0.004415510427175247,0.0044089707656249115,0.004407791417306024,0.004415681899133852,0.004408312428922205,0.004401202053720336,0.004394249303977803,0.004402253471874628,0.004416279682191604,0.004438115973029031,0.004384516064808025,0.004398686389927596,0.004408968761428841,0.0043938775697104195,0.004424488042341796,0.00440208526230847,0.0044028641923954,0.004397226143420493,0.004375147837903161,0.004405704727643395,0.004400543420387765,0.004400853884014193,0.004409739756063029,0.004385337807888851,0.00440666314487629,0.004408155809600003,0.004393942781689992,0.004388359229264262,0.004378123168852242,0.004405972438539989,0.004395317202784393,0.00437733729276215,0.004391110575628328,0.004391910445896009,0.004391284207988272,0.004397186645021128,0.004383131184806356,0.004382365882263352,0.004389003716075351,0.0043885624071577515,0.004380105951957898,0.0043860428075932385,0.004380660493343148,0.004385332039748741,0.004380243709380986,0.0043879149436379696,0.004373837598136257,0.004391721175367426,0.004369798025629831,0.004398875643086459,0.004376008588451121,0.004387684725282318,0.004382472078005082,0.004365418153915762,0.004373282511505467,0.004368339824752663,0.004389464291696736,0.004386236796813659,0.004370855206880488,0.004373888186928275,0.004362500123979378,0.0043873755913075435,0.004373787358623064,0.004363257600104692,0.004375003390400912,0.0043642860151003205,0.004380944588699336,0.0043789821172722215,0.004378092965646787,0.0043746469435595155,0.004371169241663879,0.004367591367334293,0.004364356818387324,0.004381697823740376,0.004359137961961092,0.0043532215975137815,0.004364299933402146,0.004356704327319071,0.004385611218642644,0.00436471482232362,0.004348810481639399,0.004369930973465378,0.004375860892769751,0.00438238733205448,0.0043476648537030555,0.004354412462313226,0.00435305073070261,0.004370027291849404,0.004363059709531736,0.004342338251507309,0.0043553711567679105,0.004374866364260629,0.004370966625383733,0.00437435297222489,0.0043505716962166496,0.004366348841759871,0.0043467961006866404,0.004343112475162906,0.004344563254444951,0.004343401013929599,0.0043655121397223355,0.004344877074041549,0.004352917630134351,0.004346436376686179,0.004365176688614673,0.004356866412530822,0.004345059941905025,0.004340051936859404,0.004351851935109185,0.004339727433381363,0.004345725752991903,0.004337949285420133,0.004338597857631087,0.0043629892580651485,0.004339991052397174,0.004352556737889983,0.0043444621369033995,0.004350932865197762,0.004348080207079175,0.004335526120307645,0.004341793592295955,0.004323288062121499,0.0043514292394796214,0.004349213343572033,0.004316378083070786,0.004329916498763262,0.004371943371360185,0.004346384065705226,0.004324259281652282,0.004341513324149149,0.0043208364039452616,0.004337874620784056,0.00435362817473457,0.004317104632876257,0.004333936081237164,0.004336947074200384,0.004339233644201113,0.00434780791871342,0.004318007557363126,0.00431702665208243,0.004322212177911302,0.004337642151024725,0.004341588470899124,0.004330189256902759,0.004311434459515826,0.00433143340578524,0.0043271141873349,0.004326187402047279,0.00431844124763526,0.004333771366958925,0.004322002328865843,0.0043514595506450125,0.004316236610758589,0.004323763040793333,0.004325077746599117,0.004325320385126507,0.004319322885956418,0.004309986594830023,0.004328080443389822,0.004329395249383762,0.004325560622863675,0.0042991427347344145,0.004302404441328142,0.004323458117881112,0.004328057716341938,0.004324991637377827,0.0042989806333496436,0.004315376558514289,0.0043254783498346975,0.0043193792578240875,0.00430997169580746,0.0042944803161304584,0.004310009262742311,0.004327490915769715,0.004309825848649554,0.004313172036279541,0.004293316854792176,0.004312088584956906,0.004312702253619259,0.0043111132281605504,0.004310863400302619,0.004306392926459877,0.004318217476906371,0.004296584433604069,0.0042914442604794,0.004299304541429765,0.00429444040243909,0.004304962909937799,0.004325677257882387,0.00429549085566418,0.004303072138624626,0.004309336248551674,0.0042892134106347546,0.004303078914589106,0.004298568660730846,0.0042984469146509505,0.00429626502406979,0.0042884060556755655,0.0042969029118871864,0.004291699756613964,0.004297114411984472,0.004287105165428985,0.00430419302785962,0.004295556128465961,0.004296125378560011,0.0042854215003984815,0.004301308646084905,0.004284424551076206,0.004294823678140043,0.004274955427497373,0.004307102573435893,0.004302379610168875,0.004320077228073113,0.004281258650503004,0.0042742971318011904,0.0042901868083633325,0.004293386687117626,0.004301761422582325,0.004281422491056383,0.0042923778769292315,0.004284130166964419,0.004269452670624308,0.004290142773723076,0.0042650102366987375,0.004294937958291442,0.004297192559091222,0.0042793269024550525,0.004289658643660319,0.004267245662621437,0.00427745964424472,0.004281439059404922,0.004269258334622867,0.004277171795008826,0.004282089720044178,0.004273665489598029,0.004268074230007116,0.004268230476313949,0.004280534226350318,0.004284686538980045,0.004270150327731004,0.0042656838986402665,0.0042743124390535545,0.004268388333314646,0.0042751508869609545,0.004260496728612486,0.0042748975585347425,0.004271123543754713,0.004269250742412474,0.004266396896364064,0.004263805652308426,0.0042630097536709415,0.004270892834531404,0.004277944127218867,0.004262319957429213,0.004251812629844404,0.00425179737847126,0.004270018435489964,0.004272977228697899,0.004258056138762529,0.004254241351286304,0.004242285252185611,0.004275888403011319,0.004264185584037966,0.00424864077199479,0.0042663412254336265,0.004251589717447983,0.004258536680667864,0.004252247243227781,0.004254625169465962,0.004246134490136168,0.004262749903869312,0.004254086240683405,0.004245530539111771,0.004256128724428057,0.004241203053843366,0.00426047272856129,0.004257311190437119,0.004245078586560898,0.004253366432057782,0.004236666977606438,0.004271409242506006,0.004245889654384784,0.0042735349378749685,0.004245128177872139,0.00423616485344152,0.004260389934519542,0.004245987916585753,0.004238785030312829,0.004248091329121952,0.004242142899091904,0.00423919410910232,0.00425488223610283,0.004241495440008436,0.00422982297600527,0.004247002616813649,0.004230915141652289,0.004238230348753148,0.004259644466666886,0.004233774434511301,0.004223875526125913,0.0042292571169583,0.004230976713929254,0.004247148228822032,0.004247431998851134,0.004231599859646846,0.00422111442162503,0.004227884159750427,0.004236813890198578,0.004232605217182227,0.004232598394775447,0.004226201792342153,0.004219014947155154,0.004229866559686977,0.004227838527356882,0.004221776029084868,0.004227162454225199,0.004233423774053179,0.004218677797906096,0.004232793309375684,0.004215489688681869,0.0042263771416310636,0.004233843050370632,0.004220757931910384,0.004215633932398162,0.004208928106391113,0.004220002341481251,0.004220344541437315,0.004235737567405486,0.004231294174869309,0.00419356251577403,0.004210646611111948,0.004222598820486296,0.004212988736501731],\"type\":\"scatter\"}],                        {\"title\":{\"text\":\"Loss curves\"},\"template\":{\"data\":{\"histogram2dcontour\":[{\"type\":\"histogram2dcontour\",\"colorbar\":{\"outlinewidth\":0,\"ticks\":\"\"},\"colorscale\":[[0.0,\"#0d0887\"],[0.1111111111111111,\"#46039f\"],[0.2222222222222222,\"#7201a8\"],[0.3333333333333333,\"#9c179e\"],[0.4444444444444444,\"#bd3786\"],[0.5555555555555556,\"#d8576b\"],[0.6666666666666666,\"#ed7953\"],[0.7777777777777778,\"#fb9f3a\"],[0.8888888888888888,\"#fdca26\"],[1.0,\"#f0f921\"]]}],\"choropleth\":[{\"type\":\"choropleth\",\"colorbar\":{\"outlinewidth\":0,\"ticks\":\"\"}}],\"histogram2d\":[{\"type\":\"histogram2d\",\"colorbar\":{\"outlinewidth\":0,\"ticks\":\"\"},\"colorscale\":[[0.0,\"#0d0887\"],[0.1111111111111111,\"#46039f\"],[0.2222222222222222,\"#7201a8\"],[0.3333333333333333,\"#9c179e\"],[0.4444444444444444,\"#bd3786\"],[0.5555555555555556,\"#d8576b\"],[0.6666666666666666,\"#ed7953\"],[0.7777777777777778,\"#fb9f3a\"],[0.8888888888888888,\"#fdca26\"],[1.0,\"#f0f921\"]]}],\"heatmap\":[{\"type\":\"heatmap\",\"colorbar\":{\"outlinewidth\":0,\"ticks\":\"\"},\"colorscale\":[[0.0,\"#0d0887\"],[0.1111111111111111,\"#46039f\"],[0.2222222222222222,\"#7201a8\"],[0.3333333333333333,\"#9c179e\"],[0.4444444444444444,\"#bd3786\"],[0.5555555555555556,\"#d8576b\"],[0.6666666666666666,\"#ed7953\"],[0.7777777777777778,\"#fb9f3a\"],[0.8888888888888888,\"#fdca26\"],[1.0,\"#f0f921\"]]}],\"heatmapgl\":[{\"type\":\"heatmapgl\",\"colorbar\":{\"outlinewidth\":0,\"ticks\":\"\"},\"colorscale\":[[0.0,\"#0d0887\"],[0.1111111111111111,\"#46039f\"],[0.2222222222222222,\"#7201a8\"],[0.3333333333333333,\"#9c179e\"],[0.4444444444444444,\"#bd3786\"],[0.5555555555555556,\"#d8576b\"],[0.6666666666666666,\"#ed7953\"],[0.7777777777777778,\"#fb9f3a\"],[0.8888888888888888,\"#fdca26\"],[1.0,\"#f0f921\"]]}],\"contourcarpet\":[{\"type\":\"contourcarpet\",\"colorbar\":{\"outlinewidth\":0,\"ticks\":\"\"}}],\"contour\":[{\"type\":\"contour\",\"colorbar\":{\"outlinewidth\":0,\"ticks\":\"\"},\"colorscale\":[[0.0,\"#0d0887\"],[0.1111111111111111,\"#46039f\"],[0.2222222222222222,\"#7201a8\"],[0.3333333333333333,\"#9c179e\"],[0.4444444444444444,\"#bd3786\"],[0.5555555555555556,\"#d8576b\"],[0.6666666666666666,\"#ed7953\"],[0.7777777777777778,\"#fb9f3a\"],[0.8888888888888888,\"#fdca26\"],[1.0,\"#f0f921\"]]}],\"surface\":[{\"type\":\"surface\",\"colorbar\":{\"outlinewidth\":0,\"ticks\":\"\"},\"colorscale\":[[0.0,\"#0d0887\"],[0.1111111111111111,\"#46039f\"],[0.2222222222222222,\"#7201a8\"],[0.3333333333333333,\"#9c179e\"],[0.4444444444444444,\"#bd3786\"],[0.5555555555555556,\"#d8576b\"],[0.6666666666666666,\"#ed7953\"],[0.7777777777777778,\"#fb9f3a\"],[0.8888888888888888,\"#fdca26\"],[1.0,\"#f0f921\"]]}],\"mesh3d\":[{\"type\":\"mesh3d\",\"colorbar\":{\"outlinewidth\":0,\"ticks\":\"\"}}],\"scatter\":[{\"fillpattern\":{\"fillmode\":\"overlay\",\"size\":10,\"solidity\":0.2},\"type\":\"scatter\"}],\"parcoords\":[{\"type\":\"parcoords\",\"line\":{\"colorbar\":{\"outlinewidth\":0,\"ticks\":\"\"}}}],\"scatterpolargl\":[{\"type\":\"scatterpolargl\",\"marker\":{\"colorbar\":{\"outlinewidth\":0,\"ticks\":\"\"}}}],\"bar\":[{\"error_x\":{\"color\":\"#2a3f5f\"},\"error_y\":{\"color\":\"#2a3f5f\"},\"marker\":{\"line\":{\"color\":\"#E5ECF6\",\"width\":0.5},\"pattern\":{\"fillmode\":\"overlay\",\"size\":10,\"solidity\":0.2}},\"type\":\"bar\"}],\"scattergeo\":[{\"type\":\"scattergeo\",\"marker\":{\"colorbar\":{\"outlinewidth\":0,\"ticks\":\"\"}}}],\"scatterpolar\":[{\"type\":\"scatterpolar\",\"marker\":{\"colorbar\":{\"outlinewidth\":0,\"ticks\":\"\"}}}],\"histogram\":[{\"marker\":{\"pattern\":{\"fillmode\":\"overlay\",\"size\":10,\"solidity\":0.2}},\"type\":\"histogram\"}],\"scattergl\":[{\"type\":\"scattergl\",\"marker\":{\"colorbar\":{\"outlinewidth\":0,\"ticks\":\"\"}}}],\"scatter3d\":[{\"type\":\"scatter3d\",\"line\":{\"colorbar\":{\"outlinewidth\":0,\"ticks\":\"\"}},\"marker\":{\"colorbar\":{\"outlinewidth\":0,\"ticks\":\"\"}}}],\"scattermapbox\":[{\"type\":\"scattermapbox\",\"marker\":{\"colorbar\":{\"outlinewidth\":0,\"ticks\":\"\"}}}],\"scatterternary\":[{\"type\":\"scatterternary\",\"marker\":{\"colorbar\":{\"outlinewidth\":0,\"ticks\":\"\"}}}],\"scattercarpet\":[{\"type\":\"scattercarpet\",\"marker\":{\"colorbar\":{\"outlinewidth\":0,\"ticks\":\"\"}}}],\"carpet\":[{\"aaxis\":{\"endlinecolor\":\"#2a3f5f\",\"gridcolor\":\"white\",\"linecolor\":\"white\",\"minorgridcolor\":\"white\",\"startlinecolor\":\"#2a3f5f\"},\"baxis\":{\"endlinecolor\":\"#2a3f5f\",\"gridcolor\":\"white\",\"linecolor\":\"white\",\"minorgridcolor\":\"white\",\"startlinecolor\":\"#2a3f5f\"},\"type\":\"carpet\"}],\"table\":[{\"cells\":{\"fill\":{\"color\":\"#EBF0F8\"},\"line\":{\"color\":\"white\"}},\"header\":{\"fill\":{\"color\":\"#C8D4E3\"},\"line\":{\"color\":\"white\"}},\"type\":\"table\"}],\"barpolar\":[{\"marker\":{\"line\":{\"color\":\"#E5ECF6\",\"width\":0.5},\"pattern\":{\"fillmode\":\"overlay\",\"size\":10,\"solidity\":0.2}},\"type\":\"barpolar\"}],\"pie\":[{\"automargin\":true,\"type\":\"pie\"}]},\"layout\":{\"autotypenumbers\":\"strict\",\"colorway\":[\"#636efa\",\"#EF553B\",\"#00cc96\",\"#ab63fa\",\"#FFA15A\",\"#19d3f3\",\"#FF6692\",\"#B6E880\",\"#FF97FF\",\"#FECB52\"],\"font\":{\"color\":\"#2a3f5f\"},\"hovermode\":\"closest\",\"hoverlabel\":{\"align\":\"left\"},\"paper_bgcolor\":\"white\",\"plot_bgcolor\":\"#E5ECF6\",\"polar\":{\"bgcolor\":\"#E5ECF6\",\"angularaxis\":{\"gridcolor\":\"white\",\"linecolor\":\"white\",\"ticks\":\"\"},\"radialaxis\":{\"gridcolor\":\"white\",\"linecolor\":\"white\",\"ticks\":\"\"}},\"ternary\":{\"bgcolor\":\"#E5ECF6\",\"aaxis\":{\"gridcolor\":\"white\",\"linecolor\":\"white\",\"ticks\":\"\"},\"baxis\":{\"gridcolor\":\"white\",\"linecolor\":\"white\",\"ticks\":\"\"},\"caxis\":{\"gridcolor\":\"white\",\"linecolor\":\"white\",\"ticks\":\"\"}},\"coloraxis\":{\"colorbar\":{\"outlinewidth\":0,\"ticks\":\"\"}},\"colorscale\":{\"sequential\":[[0.0,\"#0d0887\"],[0.1111111111111111,\"#46039f\"],[0.2222222222222222,\"#7201a8\"],[0.3333333333333333,\"#9c179e\"],[0.4444444444444444,\"#bd3786\"],[0.5555555555555556,\"#d8576b\"],[0.6666666666666666,\"#ed7953\"],[0.7777777777777778,\"#fb9f3a\"],[0.8888888888888888,\"#fdca26\"],[1.0,\"#f0f921\"]],\"sequentialminus\":[[0.0,\"#0d0887\"],[0.1111111111111111,\"#46039f\"],[0.2222222222222222,\"#7201a8\"],[0.3333333333333333,\"#9c179e\"],[0.4444444444444444,\"#bd3786\"],[0.5555555555555556,\"#d8576b\"],[0.6666666666666666,\"#ed7953\"],[0.7777777777777778,\"#fb9f3a\"],[0.8888888888888888,\"#fdca26\"],[1.0,\"#f0f921\"]],\"diverging\":[[0,\"#8e0152\"],[0.1,\"#c51b7d\"],[0.2,\"#de77ae\"],[0.3,\"#f1b6da\"],[0.4,\"#fde0ef\"],[0.5,\"#f7f7f7\"],[0.6,\"#e6f5d0\"],[0.7,\"#b8e186\"],[0.8,\"#7fbc41\"],[0.9,\"#4d9221\"],[1,\"#276419\"]]},\"xaxis\":{\"gridcolor\":\"white\",\"linecolor\":\"white\",\"ticks\":\"\",\"title\":{\"standoff\":15},\"zerolinecolor\":\"white\",\"automargin\":true,\"zerolinewidth\":2},\"yaxis\":{\"gridcolor\":\"white\",\"linecolor\":\"white\",\"ticks\":\"\",\"title\":{\"standoff\":15},\"zerolinecolor\":\"white\",\"automargin\":true,\"zerolinewidth\":2},\"scene\":{\"xaxis\":{\"backgroundcolor\":\"#E5ECF6\",\"gridcolor\":\"white\",\"linecolor\":\"white\",\"showbackground\":true,\"ticks\":\"\",\"zerolinecolor\":\"white\",\"gridwidth\":2},\"yaxis\":{\"backgroundcolor\":\"#E5ECF6\",\"gridcolor\":\"white\",\"linecolor\":\"white\",\"showbackground\":true,\"ticks\":\"\",\"zerolinecolor\":\"white\",\"gridwidth\":2},\"zaxis\":{\"backgroundcolor\":\"#E5ECF6\",\"gridcolor\":\"white\",\"linecolor\":\"white\",\"showbackground\":true,\"ticks\":\"\",\"zerolinecolor\":\"white\",\"gridwidth\":2}},\"shapedefaults\":{\"line\":{\"color\":\"#2a3f5f\"}},\"annotationdefaults\":{\"arrowcolor\":\"#2a3f5f\",\"arrowhead\":0,\"arrowwidth\":1},\"geo\":{\"bgcolor\":\"white\",\"landcolor\":\"#E5ECF6\",\"subunitcolor\":\"white\",\"showland\":true,\"showlakes\":true,\"lakecolor\":\"white\"},\"title\":{\"x\":0.05},\"mapbox\":{\"style\":\"light\"}}},\"xaxis\":{\"title\":{\"text\":\"Epoch\"}},\"yaxis\":{\"title\":{\"text\":\"Loss\"}}},                        {\"responsive\": true}                    ).then(function(){\n",
              "                            \n",
              "var gd = document.getElementById('6e1dba43-5e75-4a3b-a72c-08ea964c7258');\n",
              "var x = new MutationObserver(function (mutations, observer) {{\n",
              "        var display = window.getComputedStyle(gd).display;\n",
              "        if (!display || display === 'none') {{\n",
              "            console.log([gd, 'removed!']);\n",
              "            Plotly.purge(gd);\n",
              "            observer.disconnect();\n",
              "        }}\n",
              "}});\n",
              "\n",
              "// Listen for the removal of the full notebook cells\n",
              "var notebookContainer = gd.closest('#notebook-container');\n",
              "if (notebookContainer) {{\n",
              "    x.observe(notebookContainer, {childList: true});\n",
              "}}\n",
              "\n",
              "// Listen for the clearing of the current output cell\n",
              "var outputEl = gd.closest('.output');\n",
              "if (outputEl) {{\n",
              "    x.observe(outputEl, {childList: true});\n",
              "}}\n",
              "\n",
              "                        })                };                            </script>        </div>\n",
              "</body>\n",
              "</html>"
            ]
          },
          "metadata": {}
        }
      ]
    },
    {
      "cell_type": "markdown",
      "source": [
        "## Sanity check"
      ],
      "metadata": {
        "id": "Sa4s43brR68M"
      }
    },
    {
      "cell_type": "code",
      "source": [
        "with torch.inference_mode():\n",
        "    test_logits = model(test_data)\n",
        "    test_logits = test_logits[:, -1, :]\n",
        "    test_preds = test_logits.argmax(dim=-1)\n",
        "    test_acc = (test_preds == test_labels).float().mean()\n",
        "    print(\"Test accuracy:\", test_acc.item())"
      ],
      "metadata": {
        "colab": {
          "base_uri": "https://localhost:8080/"
        },
        "id": "r6WPCkXoR798",
        "outputId": "7e928ac0-1146-431f-b68d-fd77941385ca"
      },
      "execution_count": 21,
      "outputs": [
        {
          "output_type": "stream",
          "name": "stdout",
          "text": [
            "Test accuracy: 0.9982500672340393\n"
          ]
        }
      ]
    },
    {
      "cell_type": "markdown",
      "source": [
        "## Save model"
      ],
      "metadata": {
        "id": "ZTbQQActLdcQ"
      }
    },
    {
      "cell_type": "code",
      "source": [
        "%mkdir ../models"
      ],
      "metadata": {
        "id": "3HwJqr0CLehz"
      },
      "execution_count": 22,
      "outputs": []
    },
    {
      "cell_type": "code",
      "source": [
        "filename = \"../models/min_int_model.pt\"\n",
        "torch.save(model.state_dict(), filename)"
      ],
      "metadata": {
        "id": "4DtnqgB5LgZP"
      },
      "execution_count": 23,
      "outputs": []
    },
    {
      "cell_type": "code",
      "source": [
        "# sanity check we can load in model\n",
        "MAX_NUM=200\n",
        "cfg = HookedTransformerConfig(\n",
        "    n_layers=1,\n",
        "    n_heads=1,\n",
        "    d_model=32,\n",
        "    d_head=32,\n",
        "    n_ctx=3, # a b =\n",
        "    d_vocab=MAX_NUM+1, # 0, 1, ..., MAX_NUM-1, =\n",
        "    d_vocab_out=MAX_NUM,\n",
        "    normalization_type=None,\n",
        "    attn_only=True,\n",
        "    device=device,\n",
        "    seed=0\n",
        ")\n",
        "\n",
        "model_loaded = HookedTransformer(cfg)\n",
        "model_loaded.load_state_dict(torch.load(filename))"
      ],
      "metadata": {
        "colab": {
          "base_uri": "https://localhost:8080/"
        },
        "id": "WMSsmwHFLs01",
        "outputId": "7e3d15b0-5250-40aa-c85a-6ac53a7f6c91"
      },
      "execution_count": 24,
      "outputs": [
        {
          "output_type": "execute_result",
          "data": {
            "text/plain": [
              "<All keys matched successfully>"
            ]
          },
          "metadata": {},
          "execution_count": 24
        }
      ]
    }
  ]
}